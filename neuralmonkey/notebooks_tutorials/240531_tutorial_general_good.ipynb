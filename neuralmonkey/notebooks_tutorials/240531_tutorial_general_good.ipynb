{
 "cells": [
  {
   "cell_type": "code",
   "execution_count": null,
   "id": "7125966e",
   "metadata": {},
   "outputs": [],
   "source": [
    "\"\"\"\n",
    "Consolidates everything from all prior tutorials, except \"euclidian stuff\" (for that see 240410_kedar_euclidia...)\n",
    "\"\"\""
   ]
  },
  {
   "cell_type": "code",
   "execution_count": 2,
   "id": "4b248d33aff307a2",
   "metadata": {
    "collapsed": false
   },
   "outputs": [],
   "source": [
    "%load_ext autoreload\n",
    "%autoreload 2\n",
    "\n",
    "import pandas as pd\n",
    "import matplotlib.pyplot as plt"
   ]
  },
  {
   "cell_type": "markdown",
   "id": "e21d20c8",
   "metadata": {},
   "source": [
    "# Load DFallPa dataset"
   ]
  },
  {
   "cell_type": "code",
   "execution_count": null,
   "id": "b0b9e137ac9e8042",
   "metadata": {
    "collapsed": false
   },
   "outputs": [],
   "source": [
    "\n",
    "# this is the path to the dataset\n",
    "path = f\"/home/lucas/Dropbox/SCIENCE/FREIWALD_LAB/DATA/Xuan/DFallpa-Diego-230615-trial-kilosort_if_exists-norm=None-combine=True.pkl\"\n",
    "DFallpa = pd.read_pickle(path)\n"
   ]
  },
  {
   "cell_type": "code",
   "execution_count": null,
   "id": "1a35a4be",
   "metadata": {},
   "outputs": [],
   "source": [
    "pa = DFallpa[\"pa\"].values[0]\n",
    "dflab = pa.Xlabels[\"trials\"]\n",
    "dflab[\"taskconfig_shploc_SHSEM\"].value_counts()\n",
    "#  'taskconfig_loc',\n",
    "#  'taskconfig_shp',\n",
    "#  'taskconfig_shp_SHSEM',\n",
    "#  'taskconfig_shploc',\n",
    "#  'taskconfig_shploc_SHSEM',\n"
   ]
  },
  {
   "cell_type": "code",
   "execution_count": 3,
   "id": "14525eb3",
   "metadata": {},
   "outputs": [],
   "source": [
    "##### Method: loading functrion\""
   ]
  },
  {
   "cell_type": "code",
   "execution_count": 4,
   "id": "e5608555",
   "metadata": {},
   "outputs": [],
   "source": [
    "from neuralmonkey.classes.population_mult import load_handsaved_wrapper, dfpa_match_chans_across_pa_each_bregion\n",
    "from neuralmonkey.classes.population_mult import extract_single_pa\n"
   ]
  },
  {
   "cell_type": "code",
   "execution_count": null,
   "id": "010699ad",
   "metadata": {},
   "outputs": [],
   "source": [
    "# Method 1 - load a single DFallPA\n",
    "DFallpa = load_handsaved_wrapper()\n"
   ]
  },
  {
   "cell_type": "code",
   "execution_count": null,
   "id": "b1ac9df0",
   "metadata": {},
   "outputs": [],
   "source": [
    "# Method 1 - load a single DFallPA\n",
    "\n",
    "# animal = \"Diego\"\n",
    "# date = 240625\n",
    "\n",
    "# animal = \"Pancho\"\n",
    "# date = 240509\n",
    "# version = \"trial\"\n",
    "# combine = True\n",
    "# question = \"SP_BASE_trial\"\n",
    "animal = \"Diego\"\n",
    "date = 230630   \n",
    "version = \"saccade_fix_on\"\n",
    "combine = True\n",
    "question = None\n",
    "ignore_question = True\n",
    "DFallpa = load_handsaved_wrapper(animal=animal, date=date, combine_areas=combine, version=version, question=question, \n",
    "                                 ignore_question=ignore_question)\n"
   ]
  },
  {
   "cell_type": "code",
   "execution_count": null,
   "id": "f2b68d19",
   "metadata": {},
   "outputs": [],
   "source": [
    "DFallpa"
   ]
  },
  {
   "cell_type": "code",
   "execution_count": null,
   "id": "f4faab2f",
   "metadata": {},
   "outputs": [],
   "source": [
    "pa = DFallpa[\"pa\"].values[1]\n",
    "dflab = pa.Xlabels[\"trials\"]\n",
    "dflab[\"event_idx_within_trial\"].value_counts()"
   ]
  },
  {
   "cell_type": "code",
   "execution_count": null,
   "id": "535ef581",
   "metadata": {},
   "outputs": [],
   "source": [
    "dflab[\"task_kind\"].value_counts(0)"
   ]
  },
  {
   "cell_type": "code",
   "execution_count": null,
   "id": "494dd1b5",
   "metadata": {},
   "outputs": [],
   "source": [
    "dfl"
   ]
  },
  {
   "cell_type": "code",
   "execution_count": null,
   "id": "24be0413",
   "metadata": {},
   "outputs": [],
   "source": [
    "dflab[\"trialcode\"].value_counts()"
   ]
  },
  {
   "cell_type": "code",
   "execution_count": null,
   "id": "2cfbedcc",
   "metadata": {},
   "outputs": [],
   "source": [
    "print(\"\\nTask kind...\")\n",
    "print(dflab[dflab[\"trialcode\"] == \"230630-1-564\"][\"task_kind\"])\n",
    "\n",
    "print(\"\\nData for each fixation on this trial (during samp):\")\n",
    "dflab[dflab[\"trialcode\"] == \"230630-1-564\"].loc[:, [\"event_idx_within_trial\", \"shape-fixation\", \"loc-fixation\", \"seqc_0_shape\", \"seqc_0_loc\"]]"
   ]
  },
  {
   "cell_type": "code",
   "execution_count": null,
   "id": "996aaaf0",
   "metadata": {},
   "outputs": [],
   "source": [
    "dflab[dflab[\"trialcode\"] == \"230630-1-564\"][\"shape-fixation\"]"
   ]
  },
  {
   "cell_type": "code",
   "execution_count": null,
   "id": "bd0f0fbc",
   "metadata": {},
   "outputs": [],
   "source": []
  },
  {
   "cell_type": "code",
   "execution_count": null,
   "id": "0738b912",
   "metadata": {},
   "outputs": [],
   "source": []
  },
  {
   "cell_type": "markdown",
   "id": "44bf80ce4940947",
   "metadata": {
    "collapsed": false
   },
   "source": [
    "# Quick look at DFallpa"
   ]
  },
  {
   "cell_type": "code",
   "execution_count": null,
   "id": "7be04a8d",
   "metadata": {},
   "outputs": [],
   "source": [
    "# This holds data across multiple brain regions (the \"bregion\" column)\n",
    "# -- \"event\", the event during trial which this data is aligned to\n",
    "# -- \"twind\", time extracted aligned to that event, in seconds\n",
    "# -- pa, PopAnal class holding neurla data and behavioral features.\n",
    "# -- pa_x_shape, shape of neural data, in (chans, trials, times)\n",
    "# Ingore the \"which_level\"\n",
    "\n",
    "display(DFallpa)\n"
   ]
  },
  {
   "cell_type": "code",
   "execution_count": null,
   "id": "a8f4b098",
   "metadata": {},
   "outputs": [],
   "source": [
    "# Pull out a single pa\n",
    "pa = DFallpa[\"pa\"].values[17]\n"
   ]
  },
  {
   "cell_type": "code",
   "execution_count": null,
   "id": "0dda3c54",
   "metadata": {},
   "outputs": [],
   "source": [
    "# This holds data for a single brain area\n",
    "# The main data is here, in pa.X, an array with dimensions (channels, trials, timepoints)\n",
    "print(pa.X.shape)\n",
    "\n",
    "# The labels for channels, trials, and times:\n",
    "print(\"channels: \", pa.Chans)\n",
    "print(\"trials: \", pa.Trials)\n",
    "print(\"timepoints: \", pa.Times)\n",
    "\n",
    "\n"
   ]
  },
  {
   "cell_type": "code",
   "execution_count": null,
   "id": "5473dae8",
   "metadata": {},
   "outputs": [],
   "source": [
    "# Each trials has associated \"features\", saved here, where each row of this dataframe matches a trial\n",
    "pa.Xlabels[\"trials\"]\n"
   ]
  },
  {
   "cell_type": "code",
   "execution_count": null,
   "id": "642bce3d",
   "metadata": {},
   "outputs": [],
   "source": [
    "# e.g., to get the features for trial i, do this\n",
    "trial = 10\n",
    "features = pa.Xlabels[\"trials\"].iloc[trial]\n",
    "display(features)"
   ]
  },
  {
   "cell_type": "markdown",
   "id": "0c456192",
   "metadata": {},
   "source": [
    "# Preprocess methods"
   ]
  },
  {
   "cell_type": "markdown",
   "id": "a72c42e9",
   "metadata": {},
   "source": [
    "### [OPTIONAWrapper to do all steps"
   ]
  },
  {
   "cell_type": "code",
   "execution_count": null,
   "id": "bb30cd75",
   "metadata": {},
   "outputs": [],
   "source": [
    "from neuralmonkey.classes.population_mult import dfpa_concatbregion_preprocess_wrapper\n",
    "fr_mean_subtract_method = \"across_time_bins\"\n",
    "# fr_mean_subtract_method = \"each_time_bin\"\n",
    "dfpa_concatbregion_preprocess_wrapper(DFallpa, fr_mean_subtract_method=fr_mean_subtract_method)"
   ]
  },
  {
   "cell_type": "markdown",
   "id": "6b8c943a",
   "metadata": {},
   "source": [
    "### (1a) FR normalization"
   ]
  },
  {
   "cell_type": "markdown",
   "id": "6cae374b",
   "metadata": {},
   "source": [
    "##### Method 1 - each PA normalize independently"
   ]
  },
  {
   "cell_type": "code",
   "execution_count": null,
   "id": "61d34ebe",
   "metadata": {},
   "outputs": [],
   "source": [
    "from neuralmonkey.classes.population_mult import dfallpa_preprocess_fr_normalization\n",
    "# fr_normalization_method = \"each_time_bin\"\n",
    "fr_normalization_method = \"across_time_bins\"\n",
    "plot_savedir = \"/tmp\"\n",
    "dfallpa_preprocess_fr_normalization(DFallpa, fr_normalization_method, plot_savedir)"
   ]
  },
  {
   "cell_type": "markdown",
   "id": "3acfe932",
   "metadata": {},
   "source": [
    "### (1b) FR normalization, apply across events\n"
   ]
  },
  {
   "cell_type": "code",
   "execution_count": null,
   "id": "5bd44b1f",
   "metadata": {},
   "outputs": [],
   "source": [
    "\n",
    "# Prune to chans that are common across pa for each bregion (intersection of chans)|\n",
    "dfpa_match_chans_across_pa_each_bregion(DFallpa)\n"
   ]
  },
  {
   "cell_type": "markdown",
   "id": "79bea2eb",
   "metadata": {},
   "source": [
    "##### Method 2 - Concat events (for each bregion) and normalize all same way\n"
   ]
  },
  {
   "cell_type": "code",
   "execution_count": null,
   "id": "eb744f1c",
   "metadata": {},
   "outputs": [],
   "source": [
    "from neuralmonkey.classes.population_mult import dfpa_concat_normalize_fr_split_multbregion\n",
    "# fr_normalization_method = \"each_time_bin\"\n",
    "fr_normalization_method = \"across_time_bins\"\n",
    "dfpa_concat_normalize_fr_split_multbregion(DFallpa)\n"
   ]
  },
  {
   "cell_type": "markdown",
   "id": "80f28f83",
   "metadata": {},
   "source": [
    "##### Method 3 - concat events (flexible version, only constrianed to have same n chans across PA)"
   ]
  },
  {
   "cell_type": "code",
   "execution_count": null,
   "id": "9cd8b449",
   "metadata": {},
   "outputs": [],
   "source": [
    "from neuralmonkey.classes.population_mult import dfpa_concat_normalize_fr_split_multbregion_flex\n",
    "fr_mean_subtract_method = \"across_time_bins\"\n",
    "# fr_mean_subtract_method = \"each_time_bin\"\n",
    "PLOT=False\n",
    "\n",
    "pa = DFallpa[\"pa\"].values[0]\n",
    "pa.plotNeurHeat(0)\n",
    "\n",
    "dfpa_concat_normalize_fr_split_multbregion_flex(DFallpa, fr_mean_subtract_method, PLOT)\n",
    "\n",
    "pa = DFallpa[\"pa\"].values[0]\n",
    "pa.plotNeurHeat(0)"
   ]
  },
  {
   "cell_type": "markdown",
   "id": "e98c5e40",
   "metadata": {},
   "source": [
    "### PCA"
   ]
  },
  {
   "cell_type": "markdown",
   "id": "e5f6cce1",
   "metadata": {},
   "source": [
    "### Run for a single event"
   ]
  },
  {
   "cell_type": "markdown",
   "id": "20d7ee55",
   "metadata": {},
   "source": [
    "##### (1) PCA using trial data"
   ]
  },
  {
   "cell_type": "code",
   "execution_count": null,
   "id": "cb466355",
   "metadata": {},
   "outputs": [],
   "source": [
    "bregion = \"PMv\"\n",
    "event=\"06_on_strokeidx_0\"\n",
    "PA = extract_single_pa(DFallpa, bregion, None, event=event)"
   ]
  },
  {
   "cell_type": "code",
   "execution_count": null,
   "id": "7bd1207c",
   "metadata": {},
   "outputs": [],
   "source": [
    "tbin_dur = 0.1\n",
    "tbin_slide = 0.01\n",
    "npcs_keep_force = 15\n",
    "if True:\n",
    "    # To plot things for each pc run\n",
    "    plot_pca_explained_var_path = f\"/tmp/plot_pca_explained_var_path-{bregion}.pdf\"\n",
    "    plot_loadings_path = f\"/tmp/plot_loadings_path-{bregion}.pdf\"\n",
    "else:\n",
    "    plot_pca_explained_var_path = None\n",
    "    plot_loadings_path = None\n",
    "norm_subtract_single_mean_each_chan = True\n",
    "_, PAfinal1, _, _, _ = PA.dataextract_state_space_decode_flex(None, tbin_dur, tbin_slide, \n",
    "                                                        \"chans_x_trials_x_times\",\n",
    "                                                        pca_reduce=True,\n",
    "                                                        plot_pca_explained_var_path=plot_pca_explained_var_path, \n",
    "                                                        plot_loadings_path=plot_loadings_path,\n",
    "                                                        norm_subtract_single_mean_each_chan=norm_subtract_single_mean_each_chan,\n",
    "                                                        npcs_keep_force=npcs_keep_force)\n",
    "plt.close(\"all\")\n"
   ]
  },
  {
   "cell_type": "markdown",
   "id": "eb43fb8a",
   "metadata": {},
   "source": [
    "##### (2) PCA on trial-averaged data"
   ]
  },
  {
   "cell_type": "code",
   "execution_count": null,
   "id": "73aa3d2e",
   "metadata": {},
   "outputs": [],
   "source": [
    "import os"
   ]
  },
  {
   "cell_type": "code",
   "execution_count": null,
   "id": "abf7783b",
   "metadata": {},
   "outputs": [],
   "source": [
    "savedir_plots = f\"/tmp/pca_plots\"\n",
    "os.makedirs(savedir_plots, exist_ok=True)\n",
    "\n",
    "var_pca = \"seqc_0_shape\"\n",
    "vars_grouping = None\n",
    "n_pcs_subspace_max = 15\n",
    "\n",
    "# Fixed params\n",
    "raw_subtract_mean_each_timepoint = False\n",
    "pca_subtract_mean_each_level_grouping = True\n",
    "n_min_per_lev_lev_others = 5\n",
    "prune_min_n_levs = 2\n",
    "\n",
    "# PCA time window -- use specific smaller window for fitting PC\n",
    "pca_twind = (0.1, 1.0)\n",
    "pca_tbindur = 0.1\n",
    "pca_tbin_slice = 0.01\n",
    "\n",
    "# Data projection time window -- keep larger window for data\n",
    "proj_twind = (-0.5, 1.0)\n",
    "proj_tbindur = 0.1\n",
    "proj_tbin_slice = 0.01\n",
    "\n",
    "Xredu, PAfinal2, stats_redu, Xfinal_before_redu, pca, PAraw = PA.dataextract_pca_demixed_subspace(var_pca, vars_grouping,\n",
    "                                                pca_twind, pca_tbindur,\n",
    "                                                savedir_plots=savedir_plots,\n",
    "                                                raw_subtract_mean_each_timepoint=raw_subtract_mean_each_timepoint,\n",
    "                                                pca_subtract_mean_each_level_grouping=pca_subtract_mean_each_level_grouping,\n",
    "                                                n_min_per_lev_lev_others=n_min_per_lev_lev_others, prune_min_n_levs = prune_min_n_levs,\n",
    "                                                n_pcs_subspace_max = n_pcs_subspace_max,\n",
    "                                                do_pca_after_project_on_subspace=False,\n",
    "                                                PLOT_STEPS=False, SANITY=False,\n",
    "                                                reshape_method=\"chans_x_trials_x_times\",\n",
    "                                                pca_tbin_slice=pca_tbin_slice, return_raw_data=True,\n",
    "                                                proj_twind = proj_twind, proj_tbindur = proj_tbindur, \n",
    "                                                proj_tbin_slice = proj_tbin_slice)\n",
    "\n"
   ]
  },
  {
   "cell_type": "code",
   "execution_count": null,
   "id": "f2b0b201",
   "metadata": {},
   "outputs": [],
   "source": [
    "# Comapre the results\n",
    "# (i) raw data, pick a random channel\n",
    "chan = PA.Chans[0]\n",
    "PA.plotwrapper_smoothed_fr_split_by_label_and_subplots(chan, var_pca, [\"seqc_0_loc\"])\n",
    "\n",
    "for pc in range(8):\n",
    "    # (ii) PCa on trials\n",
    "    PAfinal1.plotwrapper_smoothed_fr_split_by_label_and_subplots(pc, var_pca, [\"seqc_0_loc\"])\n",
    "    # (iii) PCa on mean data\n",
    "    PAfinal2.plotwrapper_smoothed_fr_split_by_label_and_subplots(pc, var_pca, [\"seqc_0_loc\"])"
   ]
  },
  {
   "cell_type": "markdown",
   "id": "5fc831fb",
   "metadata": {},
   "source": [
    "##### Run a single PCA across all events"
   ]
  },
  {
   "cell_type": "code",
   "execution_count": null,
   "id": "1cd5d55f",
   "metadata": {},
   "outputs": [],
   "source": [
    "from neuralmonkey.classes.population_mult import dfpa_concat_pca_split_multbregion\n"
   ]
  },
  {
   "cell_type": "code",
   "execution_count": null,
   "id": "b0908357",
   "metadata": {},
   "outputs": [],
   "source": [
    "\n",
    "# Method 1 -- do PCA on trial-level data\n",
    "sm_dur=0.1\n",
    "sm_slide=0.01\n",
    "npcs_keep_force=15\n",
    "pca_method = \"trials\"\n",
    "dfpa_concat_pca_split_multbregion(DFallpa, sm_dur=sm_dur, sm_slide=sm_slide,\n",
    "                                      npcs_keep_force=npcs_keep_force,\n",
    "                                      pca_method = pca_method)"
   ]
  },
  {
   "cell_type": "code",
   "execution_count": null,
   "id": "3d72e6af",
   "metadata": {},
   "outputs": [],
   "source": [
    "# Method 2 -- take mean over trials (--> one datapt per level of pcamean_var) and then do pca\n",
    "sm_dur=0.1\n",
    "sm_slide=0.01\n",
    "npcs_keep_force=15\n",
    "pca_method = \"trial_means\"\n",
    "pcamean_var = \"seqc_0_shape\"\n",
    "pcamean_vars_grouping = None\n",
    "pcamean_pca_twind = (0.1, 1.2) \n",
    "dfpa_concat_pca_split_multbregion(DFallpa, sm_dur=sm_dur, sm_slide=sm_slide,\n",
    "                                      npcs_keep_force=npcs_keep_force,\n",
    "                                      pca_method = pca_method, \n",
    "                                      pcamean_var = pcamean_var, \n",
    "                                      pcamean_vars_grouping = pcamean_vars_grouping,\n",
    "                                      pcamean_pca_twind = pcamean_pca_twind)"
   ]
  },
  {
   "cell_type": "code",
   "execution_count": null,
   "id": "5565643f",
   "metadata": {},
   "outputs": [],
   "source": [
    "# Look at raw and PCA data for an example PA\n",
    "ind =1\n",
    "pa = DFallpa[\"pa\"].values[ind]\n",
    "pa_pca = DFallpa[\"pa_pca\"].values[ind]\n",
    "\n",
    "pa.plotNeurHeat(0)\n",
    "pa_pca.plotNeurHeat(0)\n"
   ]
  },
  {
   "cell_type": "code",
   "execution_count": null,
   "id": "369b31f0",
   "metadata": {},
   "outputs": [],
   "source": [
    "# Visaulize PC encoding of shape.\n",
    "for pc in range(6):\n",
    "    pa_pca.plotwrapper_smoothed_fr_split_by_label_and_subplots(pc, var_pca, [\"seqc_0_loc\"])\n"
   ]
  },
  {
   "cell_type": "markdown",
   "id": "08bd114c",
   "metadata": {},
   "source": [
    "### [Optionally] get a single PA concatted across events (for each bregion)\n"
   ]
  },
  {
   "cell_type": "code",
   "execution_count": null,
   "id": "b10ea3de",
   "metadata": {},
   "outputs": [],
   "source": [
    "from neuralmonkey.classes.population_mult import dfpa_group_and_split\n",
    "DFallpaConcat = dfpa_group_and_split(DFallpa, [\"event\"], concat_dim=\"times\", pa_column=\"pa_pca\")"
   ]
  },
  {
   "cell_type": "markdown",
   "id": "a696c506",
   "metadata": {},
   "source": [
    "### Plot strokes (behavior) on this trial, overlaid on the task image"
   ]
  },
  {
   "cell_type": "code",
   "execution_count": null,
   "id": "2f28f5d2",
   "metadata": {},
   "outputs": [],
   "source": [
    "dflab = pa.Xlabels[\"trials\"]\n",
    "\n",
    "Tkbeh_stkbeh = dflab.iloc[trial][\"Tkbeh_stkbeh\"]\n",
    "Tkbeh_stktask = dflab.iloc[trial][\"Tkbeh_stktask\"]\n",
    "\n",
    "strokes_beh = [tk[\"Prim\"].Stroke() for tk in Tkbeh_stkbeh.Tokens]\n",
    "strokes_task = [tk[\"Prim\"].Stroke() for tk in Tkbeh_stktask.Tokens]\n",
    "\n",
    "fig, ax = plt.subplots()\n",
    "from pythonlib.drawmodel.strokePlots import plotDatStrokesWrapper, plotDatStrokes\n",
    "\n",
    "# # Plot the task strokes\n",
    "# plotDatStrokes(strokes_task, ax, mark_stroke_onset=False, color=\"k\")\n",
    "\n",
    "# # Overlay each beh stroke\n",
    "# plotDatStrokes(strokes_beh, ax, mark_stroke_onset=True, add_stroke_number=True)\n",
    "\n",
    "# Plot the task strokes\n",
    "plotDatStrokes(strokes_task, ax, clean_task=True)\n",
    "\n",
    "# Overlay each beh stroke\n",
    "plotDatStrokes(strokes_beh, ax, clean_ordered_ordinal=True)\n"
   ]
  },
  {
   "cell_type": "markdown",
   "id": "1bf4d1c6",
   "metadata": {},
   "source": [
    "##### PA has many helper functions to preprocess and plot the data. "
   ]
  },
  {
   "cell_type": "code",
   "execution_count": null,
   "id": "6431de8e",
   "metadata": {},
   "outputs": [],
   "source": [
    "# Pick a random channel\n",
    "chan = pa.Chans[4]\n"
   ]
  },
  {
   "cell_type": "code",
   "execution_count": null,
   "id": "19444f55",
   "metadata": {},
   "outputs": [],
   "source": [
    "# Plot heatmap of data for a single trial\n",
    "trial = pa.Trials[0]\n",
    "pa.plotNeurHeat(trial)"
   ]
  },
  {
   "cell_type": "code",
   "execution_count": null,
   "id": "6525d92c",
   "metadata": {},
   "outputs": [],
   "source": [
    "# Plot average acrtivit for each shape\n",
    "fig, ax = plt.subplots()\n",
    "pa.plotwrapper_smoothed_fr_split_by_label(\"trials\", \"seqc_0_shape\", ax, chan=chan)\n",
    "\n",
    "\n",
    "fig, ax = plt.subplots()\n",
    "pa.plotwrapper_smoothed_fr_split_by_label(\"trials\", \"seqc_0_shape\", ax, chan=chan, plot_indiv=True)\n"
   ]
  },
  {
   "cell_type": "code",
   "execution_count": null,
   "id": "c3c2712f",
   "metadata": {},
   "outputs": [],
   "source": [
    "# Example processing. Here this picks out just a smaller time winodw\n",
    "print(\"Times, before slicing: \", pa.Times)\n",
    "\n",
    "twind = [-0.35, -0.3] # window: to only keep times within this window\n",
    "pa_slice = pa.slice_by_dim_values_wrapper(\"times\", twind)\n",
    "\n",
    "print(\"Times, after slicing:\", pa_slice.Times)"
   ]
  },
  {
   "cell_type": "code",
   "execution_count": null,
   "id": "5e9cf7dd29b888af",
   "metadata": {
    "collapsed": false
   },
   "outputs": [],
   "source": [
    "# 1. First slice to time winodw, then take mean over time, i.e. a single time average\n",
    "twind = (0.1, 0.5)\n",
    "pa_sliced = pa.slice_by_dim_values_wrapper(\"times\", twind)\n",
    "pa_mean = pa_sliced.agg_wrapper(\"times\")\n",
    "\n",
    "print(\"Compare and see that times are binned\")\n",
    "print(\"-- original:\", pa.Times, \"... data shape: \", pa.X.shape)\n",
    "print(\"-- sliced:\", pa_sliced.Times, \"... data shape: \", pa_sliced.X.shape)\n",
    "print(\"-- mean:\", pa_mean.Times, \"... data shape: \", pa_mean.X.shape)\n"
   ]
  },
  {
   "cell_type": "code",
   "execution_count": null,
   "id": "f0878cda38dbc99b",
   "metadata": {
    "collapsed": false
   },
   "outputs": [],
   "source": [
    "# 2. binning time windows\n",
    "binsize = 0.1\n",
    "binslide = 0.02\n",
    "pa_binned = pa.agg_by_time_windows_binned(binsize, binslide)\n",
    "    \n",
    "print(\"Compare and see that times are binned\")\n",
    "print(\"-- original:\", pa.Times, \"... data shape: \", pa.X.shape)\n",
    "print(\"-- sliced:\", pa_binned.Times, \"... data shape: \", pa_binned.X.shape)\n"
   ]
  },
  {
   "cell_type": "markdown",
   "id": "93edebd6e38ce91",
   "metadata": {
    "collapsed": false
   },
   "source": [
    "# Decoding shapes"
   ]
  },
  {
   "cell_type": "markdown",
   "id": "488ff1ca66a8098f",
   "metadata": {
    "collapsed": false
   },
   "source": [
    "This step takes in a representation of neural data and outputs a scalar score for how well you can decode \"shape\" from that data\n",
    "\n",
    "Here, this example is using the raw data (dimensionality = number of channels). Could also use methods to reduce the dimensionality of this data, each time running through this decoding benchmark, to compare the different methods"
   ]
  },
  {
   "cell_type": "markdown",
   "id": "098e3dcc",
   "metadata": {},
   "source": [
    "### Make sure to normalize PA before running any modeling on it:"
   ]
  },
  {
   "cell_type": "code",
   "execution_count": null,
   "id": "3f42b857",
   "metadata": {},
   "outputs": [],
   "source": [
    "from neuralmonkey.classes.population_mult import dfallpa_preprocess_fr_normalization\n",
    "# fr_normalization_method = \"each_time_bin\"\n",
    "fr_normalization_method = \"across_time_bins\"\n",
    "plot_savedir = \"/tmp\"\n",
    "dfallpa_preprocess_fr_normalization(DFallpa, fr_normalization_method, plot_savedir)"
   ]
  },
  {
   "cell_type": "code",
   "execution_count": null,
   "id": "fa42ca48",
   "metadata": {},
   "outputs": [],
   "source": [
    "# list_panorm = []\n",
    "# for pa in DFallpa[\"pa\"].tolist():\n",
    "#     from neuralmonkey.analyses.state_space_good import popanal_preprocess_scalar_normalization\n",
    "#     PAnorm, PAscal, PAscalagg, fig, axes, groupdict = popanal_preprocess_scalar_normalization(pa, None, DO_AGG_TRIALS=False)\n",
    "#     list_panorm.append(PAnorm)\n",
    "# DFallpa[\"pa\"] = list_panorm\n",
    "# if \"pa_norm\" in DFallpa.columns:\n",
    "#     del DFallpa[\"pa_norm\"]"
   ]
  },
  {
   "cell_type": "markdown",
   "id": "806f959a",
   "metadata": {},
   "source": [
    "### PREPROCESS - factorize all relevant labels FIRST here.\n"
   ]
  },
  {
   "cell_type": "code",
   "execution_count": null,
   "id": "cb7080cf",
   "metadata": {},
   "outputs": [],
   "source": [
    "from neuralmonkey.analyses.decode_good import preprocess_factorize_class_labels_ints\n",
    "MAP_LABELS_TO_INT = preprocess_factorize_class_labels_ints(DFallpa)"
   ]
  },
  {
   "cell_type": "markdown",
   "id": "c63568ef",
   "metadata": {},
   "source": [
    "### 1) Default: Time-resolved decoding"
   ]
  },
  {
   "cell_type": "code",
   "execution_count": null,
   "id": "16f31925",
   "metadata": {},
   "outputs": [],
   "source": [
    "# Simplest model, simply try to decode a single variable at each time bin, without caring about other possibly correlated variables."
   ]
  },
  {
   "cell_type": "code",
   "execution_count": null,
   "id": "a2300cd1",
   "metadata": {},
   "outputs": [],
   "source": [
    "SAVEDIR_ANALYSIS = \"/tmp/decoding\"\n",
    "import os"
   ]
  },
  {
   "cell_type": "code",
   "execution_count": null,
   "id": "c4e7e591",
   "metadata": {},
   "outputs": [],
   "source": [
    "SAVEDIR = f\"{SAVEDIR_ANALYSIS}/1_time_resolved\"\n",
    "os.makedirs(SAVEDIR, exist_ok=True)\n",
    "print(SAVEDIR)\n",
    "\n",
    "n_min_trials = 6\n",
    "\n",
    "from neuralmonkey.analyses.decode_good import decodewrap_categorical_timeresolved_singlevar, decodewrapouterloop_categorical_timeresolved\n",
    "\n",
    "# list_vars_decode = [\"seqc_0_shape\", \"seqc_0_loc\"]\n",
    "# list_vars_decode = [\"seqc_0_shape\"]\n",
    "list_vars_decode = [\"seqc_0_shape\"]\n",
    "# list_vars_decode = [\"seqc_2_shape\"]\n",
    "# list_vars_decode = [\"shape_is_novel_all\"]\n",
    "\n",
    "# PARAMS\n",
    "time_bin_size = 0.2 # binsize, to average over to get population vector of neural activity\n",
    "slide = 0.2 # to slide the bin.\n",
    "max_nsplits = 2 # n times to do cross-validation.\n",
    "\n",
    "DFRES = decodewrapouterloop_categorical_timeresolved(DFallpa, list_vars_decode, SAVEDIR, time_bin_size, slide, n_min_trials,\n",
    "                                                     max_nsplits=max_nsplits)\n"
   ]
  },
  {
   "cell_type": "markdown",
   "id": "5f47196e",
   "metadata": {},
   "source": [
    "### 2) Cross-condition decoding"
   ]
  },
  {
   "cell_type": "code",
   "execution_count": null,
   "id": "73882401",
   "metadata": {},
   "outputs": [],
   "source": [
    "# Ask whether a decoder for variable X, trained on each level of variable Y, can generalize to the other levels of variable Y."
   ]
  },
  {
   "cell_type": "code",
   "execution_count": null,
   "id": "a6460525",
   "metadata": {},
   "outputs": [],
   "source": [
    "# For each time bin, decode shape genearlizing across location\n",
    "\n",
    "SAVEDIR = f\"{SAVEDIR_ANALYSIS}/2_cross_condition_decoding\"\n",
    "os.makedirs(SAVEDIR, exist_ok=True)\n",
    "print(SAVEDIR)\n",
    "\n",
    "from neuralmonkey.analyses.decode_good import decodewrap_categorical_timeresolved_cross_condition, decodewrapouterloop_categorical_timeresolved_cross_condition\n",
    "\n",
    "filtdict = None\n",
    "separate_by_task_kind = True\n",
    "\n",
    "# PARAMS\n",
    "\n",
    "# # Context\n",
    "# list_var_decode = [\n",
    "#     \"seqc_0_shape\",\n",
    "#     \"shape-fixation\",\n",
    "#     \"is-fixated-on-seqc0shape\",\n",
    "#     \"is-fixated-on-seqc0shape\",\n",
    "#     \"is-fixated-on-seqc0shape\",\n",
    "#     \"is-fixated-on-seqc0shape\",\n",
    "# ]\n",
    "# list_vars_conj = [\n",
    "#     [\"shape-macrosaccade-index\", \"seqc_0_loc_on_clust\", \"shape-fixation\", \"loc-fixation\", \"task_kind\"],\n",
    "#     [\"shape-macrosaccade-index\", \"loc-fixation\", \"seqc_0_shape\", \"seqc_0_loc_on_clust\", \"task_kind\"],\n",
    "#     [\"shape-macrosaccade-index\", \"seqc_0_shape\", \"loc-fixation\", \"task_kind\"],\n",
    "#     [\"shape-macrosaccade-index\", \"seqc_0_shape\", \"seqc_0_loc_on_clust\", \"task_kind\"],\n",
    "#     [\"shape-macrosaccade-index\", \"shape-fixation\", \"loc-fixation\", \"task_kind\"],\n",
    "#     [\"shape-macrosaccade-index\", \"shape-fixation\", \"seqc_0_loc_on_clust\", \"task_kind\"],\n",
    "# ]\n",
    "# Context\n",
    "list_var_decode = [\n",
    "    \"seqc_0_shape\",\n",
    "    \"seqc_0_loc\",\n",
    "]\n",
    "list_vars_conj = [\n",
    "    [\"task_kind\", \"seqc_0_loc\"],\n",
    "    [\"task_kind\", \"seqc_0_shape\"],\n",
    "]\n",
    "\n",
    "time_bin_size = 0.2\n",
    "slide = 0.2\n",
    "subtract_mean_vars_conj = False\n",
    "DFRES = decodewrapouterloop_categorical_timeresolved_cross_condition(DFallpa, list_var_decode,\n",
    "                                                     list_vars_conj,\n",
    "                                                     SAVEDIR, time_bin_size=time_bin_size, slide=slide,\n",
    "                                                     subtract_mean_vars_conj=subtract_mean_vars_conj,\n",
    "                                                                     filtdict=filtdict,\n",
    "                                                                     separate_by_task_kind=separate_by_task_kind)\n",
    "\n"
   ]
  },
  {
   "cell_type": "markdown",
   "id": "b7f59631",
   "metadata": {},
   "source": [
    "### 2b) Within-condition decoding. Separate decoder for each level of other var (then take average over decoders). Useful to controlling for variables"
   ]
  },
  {
   "cell_type": "code",
   "execution_count": null,
   "id": "c243d7a5",
   "metadata": {},
   "outputs": [],
   "source": [
    "# Decode variable X by building and scoring separate decoders conditioned on each level of variable Y."
   ]
  },
  {
   "cell_type": "code",
   "execution_count": null,
   "id": "16ecc2bf",
   "metadata": {},
   "outputs": [],
   "source": [
    "from neuralmonkey.analyses.decode_good import decodewrapouterloop_categorical_timeresolved_within_condition\n",
    "\n",
    "SAVEDIR = f\"{SAVEDIR_ANALYSIS}/3_within_condition_decoding\"\n",
    "os.makedirs(SAVEDIR, exist_ok=True)\n",
    "print(SAVEDIR)\n",
    "\n",
    "# PARAMS\n",
    "separate_by_task_kind = True\n",
    "\n",
    "# RUns\n",
    "max_nsplits = 2\n",
    "time_bin_size = 0.2\n",
    "slide = 0.2\n",
    "\n",
    "# PARAMS\n",
    "DFRES = decodewrapouterloop_categorical_timeresolved_within_condition(DFallpa, list_var_decode,\n",
    "                                                     list_vars_conj,\n",
    "                                                    SAVEDIR, time_bin_size=time_bin_size, slide=slide, filtdict=filtdict,\n",
    "                                                                      separate_by_task_kind=separate_by_task_kind)\n"
   ]
  },
  {
   "cell_type": "markdown",
   "id": "2ff1dcb8",
   "metadata": {},
   "source": [
    "# Dim reduction and State space plots"
   ]
  },
  {
   "cell_type": "code",
   "execution_count": null,
   "id": "2732e10c",
   "metadata": {},
   "outputs": [],
   "source": [
    "SAVEDIR_ANALYSIS = \"/tmp/Diego_230630\""
   ]
  },
  {
   "cell_type": "markdown",
   "id": "0c085ab6",
   "metadata": {},
   "source": [
    "### Plot scalar values (time-mean within twindow)"
   ]
  },
  {
   "cell_type": "code",
   "execution_count": null,
   "id": "a1de05d6",
   "metadata": {},
   "outputs": [],
   "source": [
    "from neuralmonkey.analyses.state_space_good import trajgood_construct_df_from_raw, trajgood_plot_colorby_splotby, trajgood_plot_colorby_splotby_scalar\n",
    "from pythonlib.tools.plottools import savefig\n",
    "from pythonlib.globals import PATH_ANALYSIS_OUTCOMES\n",
    "import matplotlib.pyplot as plt\n",
    "import os\n",
    "from neuralmonkey.analyses.state_space_good import dimredgood_nonlinear_embed_data\n",
    "\n",
    "### USER PARAMS\n",
    "tbin_dur = 0.1\n",
    "tbin_slide = 0.1\n",
    "umap_n_neighbors = 45\n",
    "pca_frac_var_keep = 0.8\n",
    "n_min_per_levo= 5\n",
    "list_twind_overall = [\n",
    "    [-0.3, 0.0],\n",
    "    [0.0, 0.3]\n",
    "]\n",
    "# METHOD = \"umap\"\n",
    "METHOD = \"umap\"\n",
    "list_var_color_var_subplot = [\n",
    "    [\"seqc_0_shape\", (\"seqc_0_loc\", \"task_kind\")],\n",
    "]\n",
    "\n",
    "LIST_DIMS = [(0,1)]\n",
    "\n",
    "### HARD PARAMS\n",
    "reshape_method = \"trials_x_chanstimes\"\n",
    "\n",
    "for i, row in DFallpa.iterrows():\n",
    "    pa = row[\"pa\"]\n",
    "    br = row[\"bregion\"]\n",
    "    wl = row[\"which_level\"]\n",
    "    ev = row[\"event\"]\n",
    "    tw = row[\"twind\"]\n",
    "\n",
    "    for twind_overall in list_twind_overall:\n",
    "        \n",
    "        ###################### SCALAR DATA\n",
    "        # Extract data\n",
    "        X, _, pathis, _, _  = pa.dataextract_state_space_decode_flex(twind_overall, tbin_dur, tbin_slide, reshape_method,\n",
    "                                                           pca_reduce=True, pca_frac_var_keep=pca_frac_var_keep)\n",
    "        dflab = pathis.Xlabels[\"trials\"]\n",
    "        \n",
    "        if METHOD==\"umap\":\n",
    "            # Embed data\n",
    "            Xredu, _ = dimredgood_nonlinear_embed_data(X, METHOD=METHOD, n_components=2, umap_n_neighbors=umap_n_neighbors)\n",
    "        elif METHOD==\"pca\":\n",
    "            Xredu = X\n",
    "        else:\n",
    "            print(METHOD)\n",
    "            assert False\n",
    "\n",
    "        ##### Plot scalars\n",
    "        savedir = f\"{SAVEDIR_ANALYSIS}/scalar/{br}-{ev}-twind={'_'.join([str(t) for t in twind_overall])}-METHOD={METHOD}\"\n",
    "        print(savedir)\n",
    "        os.makedirs(savedir, exist_ok=True)\n",
    "\n",
    "        for var_color, var_subplot in list_var_color_var_subplot:\n",
    "            from neuralmonkey.analyses.state_space_good import trajgood_plot_colorby_splotby_scalar_WRAPPER\n",
    "            trajgood_plot_colorby_splotby_scalar_WRAPPER(Xredu, dflab, var_color, savedir,\n",
    "                                     vars_subplot=var_subplot, list_dims=LIST_DIMS, n_min_per_levo=n_min_per_levo)\n",
    "        plt.close(\"all\")"
   ]
  },
  {
   "cell_type": "markdown",
   "id": "d3bb0668",
   "metadata": {},
   "source": [
    "### Plot trajectories (within time window)"
   ]
  },
  {
   "cell_type": "code",
   "execution_count": null,
   "id": "796d6b4f",
   "metadata": {},
   "outputs": [],
   "source": [
    "from neuralmonkey.analyses.state_space_good import trajgood_construct_df_from_raw, trajgood_plot_colorby_splotby, trajgood_plot_colorby_splotby_scalar\n",
    "from pythonlib.tools.plottools import savefig\n",
    "from pythonlib.globals import PATH_ANALYSIS_OUTCOMES\n",
    "import os\n",
    "from neuralmonkey.analyses.state_space_good import dimredgood_nonlinear_embed_data\n",
    "import matplotlib.pyplot as plt\n",
    "\n",
    "### USER PARAMS\n",
    "tbin_dur = 0.1\n",
    "tbin_slide = 0.1\n",
    "umap_n_neighbors = 45\n",
    "pca_frac_var_keep = 0.8\n",
    "n_min_per_levo= 5\n",
    "list_twind_overall = [\n",
    "    [0.2, 0.6]\n",
    "]\n",
    "# METHOD = \"umap\"\n",
    "METHOD = \"pca\"\n",
    "list_var_color_var_subplot = [\n",
    "    [\"seqc_0_shape\", (\"seqc_0_loc\", \"task_kind\")],\n",
    "]\n",
    "LIST_DIMS = [(0,1)]\n",
    "\n",
    "### HARD PARAMS\n",
    "reshape_method = \"chans_x_trials_x_times\"\n",
    "\n",
    "\n",
    "for i, row in DFallpa.iterrows():\n",
    "    pa = row[\"pa\"]\n",
    "    br = row[\"bregion\"]\n",
    "    wl = row[\"which_level\"]\n",
    "    ev = row[\"event\"]\n",
    "    tw = row[\"twind\"]\n",
    "\n",
    "    for twind_overall in list_twind_overall:\n",
    "        \n",
    "        ###################### TRAJECTORY DATA\n",
    "        from neuralmonkey.analyses.state_space_good import trajgood_construct_df_from_raw, trajgood_plot_colorby_splotby\n",
    "        from neuralmonkey.classes.population_mult import extract_single_pa\n",
    "        twind_overall_traj = [-0.2, 0.6]\n",
    "        tbin_dur = 0.05\n",
    "        X, PApca, PAslice, pca, _ = pa.dataextract_state_space_decode_flex(twind_overall_traj, tbin_dur=tbin_dur, pca_reduce=True)\n",
    "        \n",
    "        if METHOD==\"pca\":\n",
    "            Xredu = X\n",
    "        else:\n",
    "            print(METHOD)\n",
    "            assert False, \"code it\"\n",
    "            \n",
    "        savedir = f\"{SAVEDIR_ANALYSIS}/trajectories/{br}-{ev}-twind={'_'.join([str(t) for t in twind_overall_traj])}-METHOD=pca\"\n",
    "        print(savedir)\n",
    "        os.makedirs(savedir, exist_ok=True)\n",
    "        \n",
    "        for var_color, var_subplot in list_var_color_var_subplot:\n",
    "            for dims in LIST_DIMS:\n",
    "                # 1) Construct dataframe\n",
    "                if isinstance(var_color, (list, tuple)):\n",
    "                    grpvars = list(var_color) + list(var_subplot)\n",
    "                else:\n",
    "                    grpvars = [var_color] + list(var_subplot)\n",
    "                    \n",
    "                labels = PApca.Xlabels[\"trials\"].loc[:, grpvars] \n",
    "                labelvars = grpvars\n",
    "                df = trajgood_construct_df_from_raw(X, PApca.Times, labels, labelvars)\n",
    "                \n",
    "                # 2) Plot\n",
    "                # dims = (0,1) # pairs of dimensions to plot\n",
    "                times_to_mark = [0.] # you can mark specific times on the plot. here marks the 0. sec mark.\n",
    "                times_to_mark_markers = [\"d\"] # mark with a diamond (\"d\")\n",
    "                time_bin_size = 0.05 # to make plot easier to visaulize, you can bin in time.\n",
    "                \n",
    "                fig, axes = trajgood_plot_colorby_splotby(df, var_color, var_subplot, dims, \"traj\", mean_over_trials=True,\n",
    "                                              times_to_mark = times_to_mark, times_to_mark_markers = times_to_mark_markers,\n",
    "                                              time_bin_size=time_bin_size)        \n",
    "                \n",
    "                path = f\"{savedir}/color={var_color}-sub={var_subplot}-dims={dims[0], dims[1]}.pdf\"\n",
    "                print(\"Saving ... \", path)\n",
    "                savefig(fig, path)\n",
    "                \n",
    "                plt.close(\"all\")\n",
    "            "
   ]
  },
  {
   "cell_type": "code",
   "execution_count": null,
   "id": "1b8d9789",
   "metadata": {},
   "outputs": [],
   "source": [
    "sorted(dflab.columns.tolist())"
   ]
  },
  {
   "cell_type": "markdown",
   "id": "871124e9",
   "metadata": {},
   "source": [
    "# Wrapper to make all state space plots"
   ]
  },
  {
   "cell_type": "code",
   "execution_count": null,
   "id": "e9c57899",
   "metadata": {},
   "outputs": [],
   "source": [
    "pa = DFallpa[\"pa\"].values[0]\n",
    "pa.Xlabels[\"trials\"]"
   ]
  },
  {
   "cell_type": "code",
   "execution_count": null,
   "id": "de458a71",
   "metadata": {},
   "outputs": [],
   "source": [
    "# (1) Dim reduction\n",
    "# (2) Plots.\n"
   ]
  },
  {
   "cell_type": "code",
   "execution_count": null,
   "id": "5fe1cad1",
   "metadata": {},
   "outputs": [],
   "source": [
    "# Sources:\n",
    "# - analy_state_space_... (script)\n",
    "# - euclidian_plot (scalar)\n",
    "# - euclidna (traj)\n",
    "# - eye fixation state space.\n",
    "# - above, tutorial.\n",
    "\n"
   ]
  },
  {
   "cell_type": "markdown",
   "id": "42c69a65",
   "metadata": {},
   "source": [
    "### Dim reduction"
   ]
  },
  {
   "cell_type": "markdown",
   "id": "7903bb29",
   "metadata": {},
   "source": [
    "##### Iterate (unit test)"
   ]
  },
  {
   "cell_type": "code",
   "execution_count": null,
   "id": "c6b8290e",
   "metadata": {},
   "outputs": [],
   "source": [
    "dpca_var = \"seqc_0_shape\"\n",
    "dpca_vars_group = [\"seqc_0_loc\"]\n",
    "dpca_filtdict={\"epoch\":[\"SSD3\"]}\n",
    "dpca_proj_twind = None\n",
    "umap_n_components = 3\n",
    "\n",
    "for dim_red_method in [None, \"pca\", \"pca_umap\", \"umap\", \"mds\", \"dpca\"]:\n",
    "    for scalar_or_traj in [\"scal\", \"traj\"]:\n",
    "        # dim_red_method = None\n",
    "        # scalar_or_traj = \"scalar\"\n",
    "\n",
    "        savedir = f\"/tmp/{dim_red_method}-{scalar_or_traj}\"\n",
    "        os.makedirs(savedir, exist_ok=True)\n",
    "\n",
    "        twind_pca = (0.1, 0.5)\n",
    "        tbin_dur = 0.2\n",
    "        tbin_slide = 0.2\n",
    "\n",
    "        Xredu, PAredu = PA.dataextract_dimred_wrapper(scalar_or_traj, dim_red_method, savedir, \n",
    "                                        twind_pca, tbin_dur, tbin_slide, \n",
    "                                        NPCS_KEEP = 10,\n",
    "                                        dpca_var = dpca_var, dpca_vars_group = dpca_vars_group, dpca_filtdict=dpca_filtdict, dpca_proj_twind = dpca_proj_twind,\n",
    "                                        umap_n_components =umap_n_components,\n",
    "                                        raw_subtract_mean_each_timepoint=False)\n",
    "        plt.close(\"all\")\n",
    "        print(\" ====> \", savedir, Xredu.shape, PAredu.X.shape)"
   ]
  },
  {
   "cell_type": "markdown",
   "id": "2120b73f",
   "metadata": {},
   "source": [
    "##### Get a single case"
   ]
  },
  {
   "cell_type": "code",
   "execution_count": 7,
   "id": "8b26f53b",
   "metadata": {},
   "outputs": [],
   "source": [
    "from neuralmonkey.scripts.analy_pig_decode_moment_syntaxTI import dfallpa_preprocess_condition\n",
    "dfallpa_preprocess_condition(DFallpa)"
   ]
  },
  {
   "cell_type": "code",
   "execution_count": 8,
   "id": "8e2a32dd",
   "metadata": {},
   "outputs": [],
   "source": [
    "pa = DFallpa[\"pa\"].values[0]"
   ]
  },
  {
   "cell_type": "code",
   "execution_count": 9,
   "id": "a9e750a4",
   "metadata": {},
   "outputs": [],
   "source": [
    "# only successful trials\n",
    "pa = DFallpa[\"pa\"].values[0]\n",
    "dflab = pa.Xlabels[\"trials\"]\n",
    "shapes_good = dflab[\"shape\"].value_counts()[dflab[\"shape\"].value_counts()>10].index.tolist()\n",
    "trialcode_good = dflab[dflab[\"FEAT_num_strokes_task\"] == dflab[\"FEAT_num_strokes_beh\"]][\"trialcode\"].tolist()\n",
    "trialcode_fail = dflab[dflab[\"FEAT_num_strokes_task\"] > dflab[\"FEAT_num_strokes_beh\"]][\"trialcode\"].tolist()\n"
   ]
  },
  {
   "cell_type": "code",
   "execution_count": null,
   "id": "6a0cb2a3",
   "metadata": {},
   "outputs": [],
   "source": [
    "import os\n",
    "\n",
    "bregion = \"M1_m\"\n",
    "raw_subtract_mean_each_timepoint = False\n",
    "scalar_or_traj = \"scal\"\n",
    "\n",
    "which_level = \"stroke\"\n",
    "event = \"00_stroke\"\n",
    "twind_pca = (0, 0.3)\n",
    "\n",
    "# event = \"03_samp\"\n",
    "# twind_pca = (0, 1.6)\n",
    "\n",
    "# event = \"06_on_strokeidx_0\"\n",
    "# twind_pca = (-0.15, 0.35)\n",
    "\n",
    "dpca_filtdict={\n",
    "    # \"seqc_0_shape\":shapes_good,\n",
    "    \"shape\":shapes_good,\n",
    "    \"trialcode\":trialcode_good,\n",
    "    # \"task_kind\":[\"prims_on_grid\"],\n",
    "    \"success_binary_quick\":[True],\n",
    "    # \"trialcode\":trialcode_fail,trialcode_fail\n",
    "    }\n",
    "\n",
    "dpca_var = \"shape\"\n",
    "dpca_vars_group = [\"stroke_index\"]\n",
    "\n",
    "# dpca_var = \"seqc_0_shape\"\n",
    "# dpca_vars_group = None\n",
    "\n",
    "# dpca_var = \"seqc_1_shape\"\n",
    "# dpca_vars_group = [\"seqc_0_shape\"]\n",
    "\n",
    "# dpca_filtdict={\"epoch\":[\"SSD3\"]}\n",
    "# dpca_filtdict=None\n",
    "\n",
    "dpca_proj_twind = None\n",
    "umap_n_components = 3\n",
    "\n",
    "tbin_dur = 0.1\n",
    "tbin_slide = 0.05\n",
    "\n",
    "dim_red_method = \"dpca\"\n",
    "\n",
    "savedir = f\"/tmp/TESTTHIS\"\n",
    "os.makedirs(savedir, exist_ok=True)\n",
    "\n",
    "PA = extract_single_pa(DFallpa, bregion, None, which_level, event)\n",
    "\n",
    "\n",
    "Xredu, PAredu = PA.dataextract_dimred_wrapper(scalar_or_traj, dim_red_method, savedir, \n",
    "                                twind_pca, tbin_dur, tbin_slide, \n",
    "                                NPCS_KEEP = 10,\n",
    "                                dpca_var = dpca_var, dpca_vars_group = dpca_vars_group, dpca_filtdict=dpca_filtdict, dpca_proj_twind = dpca_proj_twind,\n",
    "                                umap_n_components =umap_n_components,\n",
    "                                raw_subtract_mean_each_timepoint=raw_subtract_mean_each_timepoint)\n"
   ]
  },
  {
   "cell_type": "markdown",
   "id": "65665db5",
   "metadata": {},
   "source": [
    "### Plots"
   ]
  },
  {
   "cell_type": "code",
   "execution_count": null,
   "id": "d6faaa4a",
   "metadata": {},
   "outputs": [],
   "source": [
    "savedir = f\"/tmp/{animal}-{date}-PLOTS6-{bregion}-{event}-{dim_red_method}-{dpca_var}-{raw_subtract_mean_each_timepoint}-2\"\n",
    "print(savedir)\n",
    "os.makedirs(savedir, exist_ok=True)\n"
   ]
  },
  {
   "cell_type": "code",
   "execution_count": null,
   "id": "1fb13c37",
   "metadata": {},
   "outputs": [],
   "source": [
    "# LIST_VAR = [\"seqc_0_shape\", \"seqc_0_shape\", \"seqc_0_shape\", \"seqc_1_shape\", \"seqc_1_shape\"]\n",
    "# LIST_VARS_OTHERS = [\n",
    "#     (\"task_kind\", \"FEAT_num_strokes_task\", \"success_binary_quick\",), \n",
    "#     (\"task_kind\", \"success_binary_quick\",), \n",
    "#     (\"task_kind\",),\n",
    "#     (\"task_kind\", \"FEAT_num_strokes_task\", \"success_binary_quick\",), \n",
    "#     (\"task_kind\", \"FEAT_num_strokes_task\", \"seqc_0_shape\", \"success_binary_quick\",), \n",
    "#     ]\n",
    "# LIST_FILTDICT = [\n",
    "#     {\"seqc_0_shape\":shapes_good} for _ in range(len(LIST_VAR))\n",
    "# ]\n",
    "\n",
    "LIST_VAR = [\"shape\", \"shape\",  \"shape\", \"shape\", \"shape\", \"stroke_index\", \"stroke_index\"]\n",
    "LIST_VARS_OTHERS = [\n",
    "    (\"task_kind\", \"FEAT_num_strokes_task\", \"success_binary_quick\", \"stroke_index\"), \n",
    "    (\"task_kind\", \"FEAT_num_strokes_task\", \"success_binary_quick\"), \n",
    "    (\"task_kind\", \"FEAT_num_strokes_task\"), \n",
    "    (\"task_kind\", \"stroke_index\", \"success_binary_quick\"), \n",
    "    (\"task_kind\", \"stroke_index\"), \n",
    "    (\"task_kind\", \"FEAT_num_strokes_task\", \"shape\"), \n",
    "    (\"task_kind\", \"FEAT_num_strokes_task\"), \n",
    "    ]\n",
    "LIST_FILTDICT = [\n",
    "    {\"shape\":shapes_good} for _ in range(len(LIST_VAR))\n",
    "]\n",
    "\n",
    "PLOT_CLEAN_VERSION = False\n",
    "time_bin_size = 0.05\n",
    "PAredu.plot_state_space_good_wrapper(savedir, LIST_VAR, LIST_VARS_OTHERS, LIST_FILTDICT, \n",
    "                                     PLOT_CLEAN_VERSION=PLOT_CLEAN_VERSION,\n",
    "                                     time_bin_size=time_ n h   "
   ]
  },
  {
   "cell_type": "code",
   "execution_count": null,
   "id": "ba694574",
   "metadata": {},
   "outputs": [],
   "source": [
    "savedir = \"/tmp/PLOTS_SCAL_2\"\n",
    "os.makedirs(savedir, exist_ok=True)\n",
    "\n",
    "PAredu_scal = PAredu.agg_wrapper(\"times\")\n",
    "PAredu_scal.plot_state_space_good_wrapper(savedir, LIST_VAR, LIST_VARS_OTHERS, PLOT_CLEAN_VERSION=PLOT_CLEAN_VERSION)"
   ]
  }
 ],
 "metadata": {
  "kernelspec": {
   "display_name": "drag2_matlab",
   "language": "python",
   "name": "python3"
  },
  "language_info": {
   "codemirror_mode": {
    "name": "ipython",
    "version": 3
   },
   "file_extension": ".py",
   "mimetype": "text/x-python",
   "name": "python",
   "nbconvert_exporter": "python",
   "pygments_lexer": "ipython3",
   "version": "3.8.18"
  }
 },
 "nbformat": 4,
 "nbformat_minor": 5
}
