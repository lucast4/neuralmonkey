{
 "cells": [
  {
   "cell_type": "code",
   "execution_count": 1,
   "id": "7125966e",
   "metadata": {},
   "outputs": [
    {
     "data": {
      "text/plain": [
       "'\\nConsolidates everything from all prior tutorials, except \"euclidian stuff\" (for that see 240410_kedar_euclidia...)\\n'"
      ]
     },
     "execution_count": 1,
     "metadata": {},
     "output_type": "execute_result"
    }
   ],
   "source": [
    "\"\"\"\n",
    "Consolidates everything from all prior tutorials, except \"euclidian stuff\" (for that see 240410_kedar_euclidia...)\n",
    "\"\"\""
   ]
  },
  {
   "cell_type": "code",
   "execution_count": 2,
   "id": "4b248d33aff307a2",
   "metadata": {
    "collapsed": false
   },
   "outputs": [],
   "source": [
    "%load_ext autoreload\n",
    "%autoreload 2\n",
    "\n",
    "import pandas as pd\n",
    "import matplotlib.pyplot as plt"
   ]
  },
  {
   "cell_type": "markdown",
   "id": "e21d20c8",
   "metadata": {},
   "source": [
    "# Load DFallPa dataset"
   ]
  },
  {
   "cell_type": "code",
   "execution_count": null,
   "id": "b0b9e137ac9e8042",
   "metadata": {
    "collapsed": false
   },
   "outputs": [],
   "source": [
    "\n",
    "# this is the path to the dataset\n",
    "path = f\"/home/lucas/Dropbox/SCIENCE/FREIWALD_LAB/DATA/Xuan/DFallpa-Diego-230615-trial-kilosort_if_exists-norm=None-combine=True.pkl\"\n",
    "DFallpa = pd.read_pickle(path)\n"
   ]
  },
  {
   "cell_type": "code",
   "execution_count": null,
   "id": "1a35a4be",
   "metadata": {},
   "outputs": [],
   "source": [
    "pa = DFallpa[\"pa\"].values[0]\n",
    "dflab = pa.Xlabels[\"trials\"]\n",
    "dflab[\"taskconfig_shploc_SHSEM\"].value_counts()\n",
    "#  'taskconfig_loc',\n",
    "#  'taskconfig_shp',\n",
    "#  'taskconfig_shp_SHSEM',\n",
    "#  'taskconfig_shploc',\n",
    "#  'taskconfig_shploc_SHSEM',\n"
   ]
  },
  {
   "cell_type": "code",
   "execution_count": null,
   "id": "14525eb3",
   "metadata": {},
   "outputs": [],
   "source": [
    "##### Method: loading functrion"
   ]
  },
  {
   "cell_type": "code",
   "execution_count": 3,
   "id": "e5608555",
   "metadata": {},
   "outputs": [],
   "source": [
    "from neuralmonkey.classes.population_mult import load_handsaved_wrapper, dfpa_match_chans_across_pa_each_bregion\n",
    "from neuralmonkey.classes.population_mult import extract_single_pa\n"
   ]
  },
  {
   "cell_type": "code",
   "execution_count": 4,
   "id": "010699ad",
   "metadata": {},
   "outputs": [],
   "source": [
    "# Method 1 - load a single DFallPA\n",
    "DFallpa = load_handsaved_wrapper()\n"
   ]
  },
  {
   "cell_type": "markdown",
   "id": "44bf80ce4940947",
   "metadata": {
    "collapsed": false
   },
   "source": [
    "# Quick look at DFallpa"
   ]
  },
  {
   "cell_type": "code",
   "execution_count": null,
   "id": "7be04a8d",
   "metadata": {},
   "outputs": [],
   "source": [
    "# This holds data across multiple brain regions (the \"bregion\" column)\n",
    "# -- \"event\", the event during trial which this data is aligned to\n",
    "# -- \"twind\", time extracted aligned to that event, in seconds\n",
    "# -- pa, PopAnal class holding neurla data and behavioral features.\n",
    "# -- pa_x_shape, shape of neural data, in (chans, trials, times)\n",
    "# Ingore the \"which_level\"\n",
    "\n",
    "display(DFallpa)\n"
   ]
  },
  {
   "cell_type": "code",
   "execution_count": null,
   "id": "a8f4b098",
   "metadata": {},
   "outputs": [],
   "source": [
    "# Pull out a single pa\n",
    "pa = DFallpa[\"pa\"].values[17]\n"
   ]
  },
  {
   "cell_type": "code",
   "execution_count": null,
   "id": "0dda3c54",
   "metadata": {},
   "outputs": [],
   "source": [
    "# This holds data for a single brain area\n",
    "# The main data is here, in pa.X, an array with dimensions (channels, trials, timepoints)\n",
    "print(pa.X.shape)\n",
    "\n",
    "# The labels for channels, trials, and times:\n",
    "print(\"channels: \", pa.Chans)\n",
    "print(\"trials: \", pa.Trials)\n",
    "print(\"timepoints: \", pa.Times)\n",
    "\n",
    "\n"
   ]
  },
  {
   "cell_type": "code",
   "execution_count": null,
   "id": "5473dae8",
   "metadata": {},
   "outputs": [],
   "source": [
    "# Each trials has associated \"features\", saved here, where each row of this dataframe matches a trial\n",
    "pa.Xlabels[\"trials\"]\n"
   ]
  },
  {
   "cell_type": "code",
   "execution_count": null,
   "id": "642bce3d",
   "metadata": {},
   "outputs": [],
   "source": [
    "# e.g., to get the features for trial i, do this\n",
    "trial = 10\n",
    "features = pa.Xlabels[\"trials\"].iloc[trial]\n",
    "display(features)"
   ]
  },
  {
   "cell_type": "markdown",
   "id": "0c456192",
   "metadata": {},
   "source": [
    "# Preprocess methods"
   ]
  },
  {
   "cell_type": "markdown",
   "id": "6b8c943a",
   "metadata": {},
   "source": [
    "### (1a) FR normalization"
   ]
  },
  {
   "cell_type": "markdown",
   "id": "6cae374b",
   "metadata": {},
   "source": [
    "##### Method 1 - each PA normalize independently"
   ]
  },
  {
   "cell_type": "code",
   "execution_count": null,
   "id": "61d34ebe",
   "metadata": {},
   "outputs": [],
   "source": [
    "from neuralmonkey.classes.population_mult import dfallpa_preprocess_fr_normalization\n",
    "# fr_normalization_method = \"each_time_bin\"\n",
    "fr_normalization_method = \"across_time_bins\"\n",
    "plot_savedir = \"/tmp\"\n",
    "dfallpa_preprocess_fr_normalization(DFallpa, fr_normalization_method, plot_savedir)"
   ]
  },
  {
   "cell_type": "markdown",
   "id": "3acfe932",
   "metadata": {},
   "source": [
    "### (1b) FR normalization, apply across events\n"
   ]
  },
  {
   "cell_type": "code",
   "execution_count": 5,
   "id": "5bd44b1f",
   "metadata": {},
   "outputs": [
    {
     "name": "stdout",
     "output_type": "stream",
     "text": [
      "M1  -- n chans final:  38\n",
      "PMv  -- n chans final:  55\n",
      "PMd  -- n chans final:  53\n",
      "dlPFC  -- n chans final:  20\n",
      "vlPFC  -- n chans final:  25\n",
      "FP  -- n chans final:  32\n",
      "SMA  -- n chans final:  52\n",
      "preSMA  -- n chans final:  39\n"
     ]
    }
   ],
   "source": [
    "\n",
    "# Prune to chans that are common across pa for each bregion (intersection of chans)|\n",
    "dfpa_match_chans_across_pa_each_bregion(DFallpa)\n"
   ]
  },
  {
   "cell_type": "markdown",
   "id": "79bea2eb",
   "metadata": {},
   "source": [
    "##### Method 2 - Concat events (for each bregion) and normalize all same way\n"
   ]
  },
  {
   "cell_type": "code",
   "execution_count": 6,
   "id": "eb744f1c",
   "metadata": {},
   "outputs": [
    {
     "name": "stdout",
     "output_type": "stream",
     "text": [
      "Running ..  M1\n",
      "Running ..  PMv\n",
      "Running ..  PMd\n",
      "Running ..  dlPFC\n",
      "Running ..  vlPFC\n",
      "Running ..  FP\n",
      "Running ..  SMA\n",
      "Running ..  preSMA\n"
     ]
    }
   ],
   "source": [
    "from neuralmonkey.classes.population_mult import dfpa_concat_normalize_fr_split_multbregion\n",
    "# fr_normalization_method = \"each_time_bin\"\n",
    "fr_normalization_method = \"across_time_bins\"\n",
    "dfpa_concat_normalize_fr_split_multbregion(DFallpa)\n"
   ]
  },
  {
   "cell_type": "markdown",
   "id": "80f28f83",
   "metadata": {},
   "source": [
    "##### Method 3 - concat events (flexible version, only constrianed to have same n chans across PA)"
   ]
  },
  {
   "cell_type": "code",
   "execution_count": null,
   "id": "9cd8b449",
   "metadata": {},
   "outputs": [],
   "source": [
    "from neuralmonkey.classes.population_mult import dfpa_concat_normalize_fr_split_multbregion_flex\n",
    "# fr_mean_subtract_method = \"across_time_bins\"\n",
    "fr_mean_subtract_method = \"each_time_bin\"\n",
    "PLOT=False\n",
    "\n",
    "pa = DFallpa[\"pa\"].values[10]\n",
    "pa.plotNeurHeat(0)\n",
    "\n",
    "dfpa_concat_normalize_fr_split_multbregion_flex(DFallpa, fr_mean_subtract_method, PLOT)\n",
    "\n",
    "pa = DFallpa[\"pa\"].values[10]\n",
    "pa.plotNeurHeat(0)"
   ]
  },
  {
   "cell_type": "markdown",
   "id": "e98c5e40",
   "metadata": {},
   "source": [
    "### PCA"
   ]
  },
  {
   "cell_type": "markdown",
   "id": "5fc831fb",
   "metadata": {},
   "source": [
    "##### Run a single PCA across all events"
   ]
  },
  {
   "cell_type": "code",
   "execution_count": 7,
   "id": "1cd5d55f",
   "metadata": {},
   "outputs": [
    {
     "name": "stdout",
     "output_type": "stream",
     "text": [
      "Running ..  M1\n",
      "Doing PCA\n",
      "Running ..  PMv\n",
      "Doing PCA\n",
      "Running ..  PMd\n",
      "Doing PCA\n",
      "Running ..  dlPFC\n",
      "Doing PCA\n",
      "Running ..  vlPFC\n",
      "Doing PCA\n",
      "Running ..  FP\n",
      "Doing PCA\n",
      "Running ..  SMA\n",
      "Doing PCA\n",
      "Running ..  preSMA\n",
      "Doing PCA\n"
     ]
    }
   ],
   "source": [
    "\n",
    "from neuralmonkey.classes.population_mult import dfpa_concat_pca_split_multbregion\n",
    "dfpa_concat_pca_split_multbregion(DFallpa)"
   ]
  },
  {
   "cell_type": "code",
   "execution_count": 10,
   "id": "5565643f",
   "metadata": {},
   "outputs": [
    {
     "data": {
      "image/png": "[encoded data removed]",
      "text/plain": [
       "<Figure size 1000x500 with 1 Axes>"
      ]
     },
     "metadata": {},
     "output_type": "display_data"
    },
    {
     "data": {
      "image/png": "[encoded data removed]",
      "text/plain": [
       "<Figure size 1000x500 with 1 Axes>"
      ]
     },
     "metadata": {},
     "output_type": "display_data"
    }
   ],
   "source": [
    "# Look at raw and PCA data for an example PA\n",
    "ind = 20\n",
    "pa = DFallpa[\"pa\"].values[ind]\n",
    "pa_pca = DFallpa[\"pa_pca\"].values[ind]\n",
    "\n",
    "pa.plotNeurHeat(0)\n",
    "pa_pca.plotNeurHeat(0)\n"
   ]
  },
  {
   "cell_type": "code",
   "execution_count": 12,
   "id": "f71de0fa",
   "metadata": {},
   "outputs": [
    {
     "data": {
      "text/html": [
       "<div>\n",
       "<style scoped>\n",
       "    .dataframe tbody tr th:only-of-type {\n",
       "        vertical-align: middle;\n",
       "    }\n",
       "\n",
       "    .dataframe tbody tr th {\n",
       "        vertical-align: top;\n",
       "    }\n",
       "\n",
       "    .dataframe thead th {\n",
       "        text-align: right;\n",
       "    }\n",
       "</style>\n",
       "<table border=\"1\" class=\"dataframe\">\n",
       "  <thead>\n",
       "    <tr style=\"text-align: right;\">\n",
       "      <th></th>\n",
       "      <th>which_level</th>\n",
       "      <th>event</th>\n",
       "      <th>bregion</th>\n",
       "      <th>twind</th>\n",
       "      <th>pa</th>\n",
       "      <th>pa_x_shape</th>\n",
       "      <th>pa_pca</th>\n",
       "    </tr>\n",
       "  </thead>\n",
       "  <tbody>\n",
       "    <tr>\n",
       "      <th>0</th>\n",
       "      <td>trial</td>\n",
       "      <td>03_samp</td>\n",
       "      <td>M1</td>\n",
       "      <td>(-1.0, 1.0)</td>\n",
       "      <td>&lt;neuralmonkey.classes.population.PopAnal objec...</td>\n",
       "      <td>(38, 758, 200)</td>\n",
       "      <td>&lt;neuralmonkey.classes.population.PopAnal objec...</td>\n",
       "    </tr>\n",
       "    <tr>\n",
       "      <th>1</th>\n",
       "      <td>trial</td>\n",
       "      <td>03_samp</td>\n",
       "      <td>PMv</td>\n",
       "      <td>(-1.0, 1.0)</td>\n",
       "      <td>&lt;neuralmonkey.classes.population.PopAnal objec...</td>\n",
       "      <td>(55, 758, 200)</td>\n",
       "      <td>&lt;neuralmonkey.classes.population.PopAnal objec...</td>\n",
       "    </tr>\n",
       "    <tr>\n",
       "      <th>2</th>\n",
       "      <td>trial</td>\n",
       "      <td>03_samp</td>\n",
       "      <td>PMd</td>\n",
       "      <td>(-1.0, 1.0)</td>\n",
       "      <td>&lt;neuralmonkey.classes.population.PopAnal objec...</td>\n",
       "      <td>(53, 758, 200)</td>\n",
       "      <td>&lt;neuralmonkey.classes.population.PopAnal objec...</td>\n",
       "    </tr>\n",
       "    <tr>\n",
       "      <th>3</th>\n",
       "      <td>trial</td>\n",
       "      <td>03_samp</td>\n",
       "      <td>dlPFC</td>\n",
       "      <td>(-1.0, 1.0)</td>\n",
       "      <td>&lt;neuralmonkey.classes.population.PopAnal objec...</td>\n",
       "      <td>(20, 758, 200)</td>\n",
       "      <td>&lt;neuralmonkey.classes.population.PopAnal objec...</td>\n",
       "    </tr>\n",
       "    <tr>\n",
       "      <th>4</th>\n",
       "      <td>trial</td>\n",
       "      <td>03_samp</td>\n",
       "      <td>vlPFC</td>\n",
       "      <td>(-1.0, 1.0)</td>\n",
       "      <td>&lt;neuralmonkey.classes.population.PopAnal objec...</td>\n",
       "      <td>(25, 758, 200)</td>\n",
       "      <td>&lt;neuralmonkey.classes.population.PopAnal objec...</td>\n",
       "    </tr>\n",
       "    <tr>\n",
       "      <th>5</th>\n",
       "      <td>trial</td>\n",
       "      <td>03_samp</td>\n",
       "      <td>FP</td>\n",
       "      <td>(-1.0, 1.0)</td>\n",
       "      <td>&lt;neuralmonkey.classes.population.PopAnal objec...</td>\n",
       "      <td>(32, 758, 200)</td>\n",
       "      <td>&lt;neuralmonkey.classes.population.PopAnal objec...</td>\n",
       "    </tr>\n",
       "    <tr>\n",
       "      <th>6</th>\n",
       "      <td>trial</td>\n",
       "      <td>03_samp</td>\n",
       "      <td>SMA</td>\n",
       "      <td>(-1.0, 1.0)</td>\n",
       "      <td>&lt;neuralmonkey.classes.population.PopAnal objec...</td>\n",
       "      <td>(52, 758, 200)</td>\n",
       "      <td>&lt;neuralmonkey.classes.population.PopAnal objec...</td>\n",
       "    </tr>\n",
       "    <tr>\n",
       "      <th>7</th>\n",
       "      <td>trial</td>\n",
       "      <td>03_samp</td>\n",
       "      <td>preSMA</td>\n",
       "      <td>(-1.0, 1.0)</td>\n",
       "      <td>&lt;neuralmonkey.classes.population.PopAnal objec...</td>\n",
       "      <td>(39, 758, 200)</td>\n",
       "      <td>&lt;neuralmonkey.classes.population.PopAnal objec...</td>\n",
       "    </tr>\n",
       "    <tr>\n",
       "      <th>8</th>\n",
       "      <td>trial</td>\n",
       "      <td>05_first_raise</td>\n",
       "      <td>M1</td>\n",
       "      <td>(-1.0, 1.0)</td>\n",
       "      <td>&lt;neuralmonkey.classes.population.PopAnal objec...</td>\n",
       "      <td>(38, 758, 200)</td>\n",
       "      <td>&lt;neuralmonkey.classes.population.PopAnal objec...</td>\n",
       "    </tr>\n",
       "    <tr>\n",
       "      <th>9</th>\n",
       "      <td>trial</td>\n",
       "      <td>05_first_raise</td>\n",
       "      <td>PMv</td>\n",
       "      <td>(-1.0, 1.0)</td>\n",
       "      <td>&lt;neuralmonkey.classes.population.PopAnal objec...</td>\n",
       "      <td>(55, 758, 200)</td>\n",
       "      <td>&lt;neuralmonkey.classes.population.PopAnal objec...</td>\n",
       "    </tr>\n",
       "    <tr>\n",
       "      <th>10</th>\n",
       "      <td>trial</td>\n",
       "      <td>05_first_raise</td>\n",
       "      <td>PMd</td>\n",
       "      <td>(-1.0, 1.0)</td>\n",
       "      <td>&lt;neuralmonkey.classes.population.PopAnal objec...</td>\n",
       "      <td>(53, 758, 200)</td>\n",
       "      <td>&lt;neuralmonkey.classes.population.PopAnal objec...</td>\n",
       "    </tr>\n",
       "    <tr>\n",
       "      <th>11</th>\n",
       "      <td>trial</td>\n",
       "      <td>05_first_raise</td>\n",
       "      <td>dlPFC</td>\n",
       "      <td>(-1.0, 1.0)</td>\n",
       "      <td>&lt;neuralmonkey.classes.population.PopAnal objec...</td>\n",
       "      <td>(20, 758, 200)</td>\n",
       "      <td>&lt;neuralmonkey.classes.population.PopAnal objec...</td>\n",
       "    </tr>\n",
       "    <tr>\n",
       "      <th>12</th>\n",
       "      <td>trial</td>\n",
       "      <td>05_first_raise</td>\n",
       "      <td>vlPFC</td>\n",
       "      <td>(-1.0, 1.0)</td>\n",
       "      <td>&lt;neuralmonkey.classes.population.PopAnal objec...</td>\n",
       "      <td>(25, 758, 200)</td>\n",
       "      <td>&lt;neuralmonkey.classes.population.PopAnal objec...</td>\n",
       "    </tr>\n",
       "    <tr>\n",
       "      <th>13</th>\n",
       "      <td>trial</td>\n",
       "      <td>05_first_raise</td>\n",
       "      <td>FP</td>\n",
       "      <td>(-1.0, 1.0)</td>\n",
       "      <td>&lt;neuralmonkey.classes.population.PopAnal objec...</td>\n",
       "      <td>(32, 758, 200)</td>\n",
       "      <td>&lt;neuralmonkey.classes.population.PopAnal objec...</td>\n",
       "    </tr>\n",
       "    <tr>\n",
       "      <th>14</th>\n",
       "      <td>trial</td>\n",
       "      <td>05_first_raise</td>\n",
       "      <td>SMA</td>\n",
       "      <td>(-1.0, 1.0)</td>\n",
       "      <td>&lt;neuralmonkey.classes.population.PopAnal objec...</td>\n",
       "      <td>(52, 758, 200)</td>\n",
       "      <td>&lt;neuralmonkey.classes.population.PopAnal objec...</td>\n",
       "    </tr>\n",
       "    <tr>\n",
       "      <th>15</th>\n",
       "      <td>trial</td>\n",
       "      <td>05_first_raise</td>\n",
       "      <td>preSMA</td>\n",
       "      <td>(-1.0, 1.0)</td>\n",
       "      <td>&lt;neuralmonkey.classes.population.PopAnal objec...</td>\n",
       "      <td>(39, 758, 200)</td>\n",
       "      <td>&lt;neuralmonkey.classes.population.PopAnal objec...</td>\n",
       "    </tr>\n",
       "    <tr>\n",
       "      <th>16</th>\n",
       "      <td>trial</td>\n",
       "      <td>06_on_strokeidx_0</td>\n",
       "      <td>M1</td>\n",
       "      <td>(-1.0, 1.0)</td>\n",
       "      <td>&lt;neuralmonkey.classes.population.PopAnal objec...</td>\n",
       "      <td>(38, 758, 200)</td>\n",
       "      <td>&lt;neuralmonkey.classes.population.PopAnal objec...</td>\n",
       "    </tr>\n",
       "    <tr>\n",
       "      <th>17</th>\n",
       "      <td>trial</td>\n",
       "      <td>06_on_strokeidx_0</td>\n",
       "      <td>PMv</td>\n",
       "      <td>(-1.0, 1.0)</td>\n",
       "      <td>&lt;neuralmonkey.classes.population.PopAnal objec...</td>\n",
       "      <td>(55, 758, 200)</td>\n",
       "      <td>&lt;neuralmonkey.classes.population.PopAnal objec...</td>\n",
       "    </tr>\n",
       "    <tr>\n",
       "      <th>18</th>\n",
       "      <td>trial</td>\n",
       "      <td>06_on_strokeidx_0</td>\n",
       "      <td>PMd</td>\n",
       "      <td>(-1.0, 1.0)</td>\n",
       "      <td>&lt;neuralmonkey.classes.population.PopAnal objec...</td>\n",
       "      <td>(53, 758, 200)</td>\n",
       "      <td>&lt;neuralmonkey.classes.population.PopAnal objec...</td>\n",
       "    </tr>\n",
       "    <tr>\n",
       "      <th>19</th>\n",
       "      <td>trial</td>\n",
       "      <td>06_on_strokeidx_0</td>\n",
       "      <td>dlPFC</td>\n",
       "      <td>(-1.0, 1.0)</td>\n",
       "      <td>&lt;neuralmonkey.classes.population.PopAnal objec...</td>\n",
       "      <td>(20, 758, 200)</td>\n",
       "      <td>&lt;neuralmonkey.classes.population.PopAnal objec...</td>\n",
       "    </tr>\n",
       "    <tr>\n",
       "      <th>20</th>\n",
       "      <td>trial</td>\n",
       "      <td>06_on_strokeidx_0</td>\n",
       "      <td>vlPFC</td>\n",
       "      <td>(-1.0, 1.0)</td>\n",
       "      <td>&lt;neuralmonkey.classes.population.PopAnal objec...</td>\n",
       "      <td>(25, 758, 200)</td>\n",
       "      <td>&lt;neuralmonkey.classes.population.PopAnal objec...</td>\n",
       "    </tr>\n",
       "    <tr>\n",
       "      <th>21</th>\n",
       "      <td>trial</td>\n",
       "      <td>06_on_strokeidx_0</td>\n",
       "      <td>FP</td>\n",
       "      <td>(-1.0, 1.0)</td>\n",
       "      <td>&lt;neuralmonkey.classes.population.PopAnal objec...</td>\n",
       "      <td>(32, 758, 200)</td>\n",
       "      <td>&lt;neuralmonkey.classes.population.PopAnal objec...</td>\n",
       "    </tr>\n",
       "    <tr>\n",
       "      <th>22</th>\n",
       "      <td>trial</td>\n",
       "      <td>06_on_strokeidx_0</td>\n",
       "      <td>SMA</td>\n",
       "      <td>(-1.0, 1.0)</td>\n",
       "      <td>&lt;neuralmonkey.classes.population.PopAnal objec...</td>\n",
       "      <td>(52, 758, 200)</td>\n",
       "      <td>&lt;neuralmonkey.classes.population.PopAnal objec...</td>\n",
       "    </tr>\n",
       "    <tr>\n",
       "      <th>23</th>\n",
       "      <td>trial</td>\n",
       "      <td>06_on_strokeidx_0</td>\n",
       "      <td>preSMA</td>\n",
       "      <td>(-1.0, 1.0)</td>\n",
       "      <td>&lt;neuralmonkey.classes.population.PopAnal objec...</td>\n",
       "      <td>(39, 758, 200)</td>\n",
       "      <td>&lt;neuralmonkey.classes.population.PopAnal objec...</td>\n",
       "    </tr>\n",
       "  </tbody>\n",
       "</table>\n",
       "</div>"
      ],
      "text/plain": [
       "   which_level              event bregion        twind  \\\n",
       "0        trial            03_samp      M1  (-1.0, 1.0)   \n",
       "1        trial            03_samp     PMv  (-1.0, 1.0)   \n",
       "2        trial            03_samp     PMd  (-1.0, 1.0)   \n",
       "3        trial            03_samp   dlPFC  (-1.0, 1.0)   \n",
       "4        trial            03_samp   vlPFC  (-1.0, 1.0)   \n",
       "5        trial            03_samp      FP  (-1.0, 1.0)   \n",
       "6        trial            03_samp     SMA  (-1.0, 1.0)   \n",
       "7        trial            03_samp  preSMA  (-1.0, 1.0)   \n",
       "8        trial     05_first_raise      M1  (-1.0, 1.0)   \n",
       "9        trial     05_first_raise     PMv  (-1.0, 1.0)   \n",
       "10       trial     05_first_raise     PMd  (-1.0, 1.0)   \n",
       "11       trial     05_first_raise   dlPFC  (-1.0, 1.0)   \n",
       "12       trial     05_first_raise   vlPFC  (-1.0, 1.0)   \n",
       "13       trial     05_first_raise      FP  (-1.0, 1.0)   \n",
       "14       trial     05_first_raise     SMA  (-1.0, 1.0)   \n",
       "15       trial     05_first_raise  preSMA  (-1.0, 1.0)   \n",
       "16       trial  06_on_strokeidx_0      M1  (-1.0, 1.0)   \n",
       "17       trial  06_on_strokeidx_0     PMv  (-1.0, 1.0)   \n",
       "18       trial  06_on_strokeidx_0     PMd  (-1.0, 1.0)   \n",
       "19       trial  06_on_strokeidx_0   dlPFC  (-1.0, 1.0)   \n",
       "20       trial  06_on_strokeidx_0   vlPFC  (-1.0, 1.0)   \n",
       "21       trial  06_on_strokeidx_0      FP  (-1.0, 1.0)   \n",
       "22       trial  06_on_strokeidx_0     SMA  (-1.0, 1.0)   \n",
       "23       trial  06_on_strokeidx_0  preSMA  (-1.0, 1.0)   \n",
       "\n",
       "                                                   pa      pa_x_shape  \\\n",
       "0   <neuralmonkey.classes.population.PopAnal objec...  (38, 758, 200)   \n",
       "1   <neuralmonkey.classes.population.PopAnal objec...  (55, 758, 200)   \n",
       "2   <neuralmonkey.classes.population.PopAnal objec...  (53, 758, 200)   \n",
       "3   <neuralmonkey.classes.population.PopAnal objec...  (20, 758, 200)   \n",
       "4   <neuralmonkey.classes.population.PopAnal objec...  (25, 758, 200)   \n",
       "5   <neuralmonkey.classes.population.PopAnal objec...  (32, 758, 200)   \n",
       "6   <neuralmonkey.classes.population.PopAnal objec...  (52, 758, 200)   \n",
       "7   <neuralmonkey.classes.population.PopAnal objec...  (39, 758, 200)   \n",
       "8   <neuralmonkey.classes.population.PopAnal objec...  (38, 758, 200)   \n",
       "9   <neuralmonkey.classes.population.PopAnal objec...  (55, 758, 200)   \n",
       "10  <neuralmonkey.classes.population.PopAnal objec...  (53, 758, 200)   \n",
       "11  <neuralmonkey.classes.population.PopAnal objec...  (20, 758, 200)   \n",
       "12  <neuralmonkey.classes.population.PopAnal objec...  (25, 758, 200)   \n",
       "13  <neuralmonkey.classes.population.PopAnal objec...  (32, 758, 200)   \n",
       "14  <neuralmonkey.classes.population.PopAnal objec...  (52, 758, 200)   \n",
       "15  <neuralmonkey.classes.population.PopAnal objec...  (39, 758, 200)   \n",
       "16  <neuralmonkey.classes.population.PopAnal objec...  (38, 758, 200)   \n",
       "17  <neuralmonkey.classes.population.PopAnal objec...  (55, 758, 200)   \n",
       "18  <neuralmonkey.classes.population.PopAnal objec...  (53, 758, 200)   \n",
       "19  <neuralmonkey.classes.population.PopAnal objec...  (20, 758, 200)   \n",
       "20  <neuralmonkey.classes.population.PopAnal objec...  (25, 758, 200)   \n",
       "21  <neuralmonkey.classes.population.PopAnal objec...  (32, 758, 200)   \n",
       "22  <neuralmonkey.classes.population.PopAnal objec...  (52, 758, 200)   \n",
       "23  <neuralmonkey.classes.population.PopAnal objec...  (39, 758, 200)   \n",
       "\n",
       "                                               pa_pca  \n",
       "0   <neuralmonkey.classes.population.PopAnal objec...  \n",
       "1   <neuralmonkey.classes.population.PopAnal objec...  \n",
       "2   <neuralmonkey.classes.population.PopAnal objec...  \n",
       "3   <neuralmonkey.classes.population.PopAnal objec...  \n",
       "4   <neuralmonkey.classes.population.PopAnal objec...  \n",
       "5   <neuralmonkey.classes.population.PopAnal objec...  \n",
       "6   <neuralmonkey.classes.population.PopAnal objec...  \n",
       "7   <neuralmonkey.classes.population.PopAnal objec...  \n",
       "8   <neuralmonkey.classes.population.PopAnal objec...  \n",
       "9   <neuralmonkey.classes.population.PopAnal objec...  \n",
       "10  <neuralmonkey.classes.population.PopAnal objec...  \n",
       "11  <neuralmonkey.classes.population.PopAnal objec...  \n",
       "12  <neuralmonkey.classes.population.PopAnal objec...  \n",
       "13  <neuralmonkey.classes.population.PopAnal objec...  \n",
       "14  <neuralmonkey.classes.population.PopAnal objec...  \n",
       "15  <neuralmonkey.classes.population.PopAnal objec...  \n",
       "16  <neuralmonkey.classes.population.PopAnal objec...  \n",
       "17  <neuralmonkey.classes.population.PopAnal objec...  \n",
       "18  <neuralmonkey.classes.population.PopAnal objec...  \n",
       "19  <neuralmonkey.classes.population.PopAnal objec...  \n",
       "20  <neuralmonkey.classes.population.PopAnal objec...  \n",
       "21  <neuralmonkey.classes.population.PopAnal objec...  \n",
       "22  <neuralmonkey.classes.population.PopAnal objec...  \n",
       "23  <neuralmonkey.classes.population.PopAnal objec...  "
      ]
     },
     "execution_count": 12,
     "metadata": {},
     "output_type": "execute_result"
    }
   ],
   "source": [
    "DFallpa"
   ]
  },
  {
   "cell_type": "code",
   "execution_count": 13,
   "id": "08bd114c",
   "metadata": {},
   "outputs": [],
   "source": [
    "### [Optionally] get a single PA concatted across events (for each bregion)\n",
    "from neuralmonkey.classes.population_mult import dfpa_group_and_split\n",
    "DFallpaConcat = dfpa_group_and_split(DFallpa, [\"event\"], concat_dim=\"times\", pa_column=\"pa_pca\")\n"
   ]
  },
  {
   "cell_type": "markdown",
   "id": "a696c506",
   "metadata": {},
   "source": [
    "### Plot strokes (behavior) on this trial, overlaid on the task image"
   ]
  },
  {
   "cell_type": "code",
   "execution_count": null,
   "id": "2f28f5d2",
   "metadata": {},
   "outputs": [],
   "source": [
    "dflab = pa.Xlabels[\"trials\"]\n",
    "\n",
    "Tkbeh_stkbeh = dflab.iloc[trial][\"Tkbeh_stkbeh\"]\n",
    "Tkbeh_stktask = dflab.iloc[trial][\"Tkbeh_stktask\"]\n",
    "\n",
    "strokes_beh = [tk[\"Prim\"].Stroke() for tk in Tkbeh_stkbeh.Tokens]\n",
    "strokes_task = [tk[\"Prim\"].Stroke() for tk in Tkbeh_stktask.Tokens]\n",
    "\n",
    "fig, ax = plt.subplots()\n",
    "from pythonlib.drawmodel.strokePlots import plotDatStrokesWrapper, plotDatStrokes\n",
    "\n",
    "# # Plot the task strokes\n",
    "# plotDatStrokes(strokes_task, ax, mark_stroke_onset=False, color=\"k\")\n",
    "\n",
    "# # Overlay each beh stroke\n",
    "# plotDatStrokes(strokes_beh, ax, mark_stroke_onset=True, add_stroke_number=True)\n",
    "\n",
    "# Plot the task strokes\n",
    "plotDatStrokes(strokes_task, ax, clean_task=True)\n",
    "\n",
    "# Overlay each beh stroke\n",
    "plotDatStrokes(strokes_beh, ax, clean_ordered_ordinal=True)\n"
   ]
  },
  {
   "cell_type": "markdown",
   "id": "1bf4d1c6",
   "metadata": {},
   "source": [
    "##### PA has many helper functions to preprocess and plot the data. "
   ]
  },
  {
   "cell_type": "code",
   "execution_count": null,
   "id": "6431de8e",
   "metadata": {},
   "outputs": [],
   "source": [
    "# Pick a random channel\n",
    "chan = pa.Chans[4]\n"
   ]
  },
  {
   "cell_type": "code",
   "execution_count": null,
   "id": "19444f55",
   "metadata": {},
   "outputs": [],
   "source": [
    "# Plot heatmap of data for a single trial\n",
    "trial = pa.Trials[0]\n",
    "pa.plotNeurHeat(trial)"
   ]
  },
  {
   "cell_type": "code",
   "execution_count": null,
   "id": "6525d92c",
   "metadata": {},
   "outputs": [],
   "source": [
    "# Plot average acrtivit for each shape\n",
    "fig, ax = plt.subplots()\n",
    "pa.plotwrapper_smoothed_fr_split_by_label(\"trials\", \"seqc_0_shape\", ax, chan=chan)\n",
    "\n",
    "\n",
    "fig, ax = plt.subplots()\n",
    "pa.plotwrapper_smoothed_fr_split_by_label(\"trials\", \"seqc_0_shape\", ax, chan=chan, plot_indiv=True)\n"
   ]
  },
  {
   "cell_type": "code",
   "execution_count": null,
   "id": "c3c2712f",
   "metadata": {},
   "outputs": [],
   "source": [
    "# Example processing. Here this picks out just a smaller time winodw\n",
    "print(\"Times, before slicing: \", pa.Times)\n",
    "\n",
    "twind = [-0.35, -0.3] # window: to only keep times within this window\n",
    "pa_slice = pa.slice_by_dim_values_wrapper(\"times\", twind)\n",
    "\n",
    "print(\"Times, after slicing:\", pa_slice.Times)"
   ]
  },
  {
   "cell_type": "code",
   "execution_count": null,
   "id": "5e9cf7dd29b888af",
   "metadata": {
    "collapsed": false
   },
   "outputs": [],
   "source": [
    "# 1. First slice to time winodw, then take mean over time, i.e. a single time average\n",
    "twind = (0.1, 0.5)\n",
    "pa_sliced = pa.slice_by_dim_values_wrapper(\"times\", twind)\n",
    "pa_mean = pa_sliced.agg_wrapper(\"times\")\n",
    "\n",
    "print(\"Compare and see that times are binned\")\n",
    "print(\"-- original:\", pa.Times, \"... data shape: \", pa.X.shape)\n",
    "print(\"-- sliced:\", pa_sliced.Times, \"... data shape: \", pa_sliced.X.shape)\n",
    "print(\"-- mean:\", pa_mean.Times, \"... data shape: \", pa_mean.X.shape)\n"
   ]
  },
  {
   "cell_type": "code",
   "execution_count": null,
   "id": "f0878cda38dbc99b",
   "metadata": {
    "collapsed": false
   },
   "outputs": [],
   "source": [
    "# 2. binning time windows\n",
    "binsize = 0.1\n",
    "binslide = 0.02\n",
    "pa_binned = pa.agg_by_time_windows_binned(binsize, binslide)\n",
    "    \n",
    "print(\"Compare and see that times are binned\")\n",
    "print(\"-- original:\", pa.Times, \"... data shape: \", pa.X.shape)\n",
    "print(\"-- sliced:\", pa_binned.Times, \"... data shape: \", pa_binned.X.shape)\n"
   ]
  },
  {
   "cell_type": "markdown",
   "id": "93edebd6e38ce91",
   "metadata": {
    "collapsed": false
   },
   "source": [
    "# Decoding shapes"
   ]
  },
  {
   "cell_type": "markdown",
   "id": "488ff1ca66a8098f",
   "metadata": {
    "collapsed": false
   },
   "source": [
    "This step takes in a representation of neural data and outputs a scalar score for how well you can decode \"shape\" from that data\n",
    "\n",
    "Here, this example is using the raw data (dimensionality = number of channels). Could also use methods to reduce the dimensionality of this data, each time running through this decoding benchmark, to compare the different methods"
   ]
  },
  {
   "cell_type": "markdown",
   "id": "098e3dcc",
   "metadata": {},
   "source": [
    "### Make sure to normalize PA before running any modeling on it:"
   ]
  },
  {
   "cell_type": "code",
   "execution_count": null,
   "id": "3f42b857",
   "metadata": {},
   "outputs": [],
   "source": [
    "from neuralmonkey.classes.population_mult import dfallpa_preprocess_fr_normalization\n",
    "# fr_normalization_method = \"each_time_bin\"\n",
    "fr_normalization_method = \"across_time_bins\"\n",
    "plot_savedir = \"/tmp\"\n",
    "dfallpa_preprocess_fr_normalization(DFallpa, fr_normalization_method, plot_savedir)"
   ]
  },
  {
   "cell_type": "code",
   "execution_count": null,
   "id": "fa42ca48",
   "metadata": {},
   "outputs": [],
   "source": [
    "# list_panorm = []\n",
    "# for pa in DFallpa[\"pa\"].tolist():\n",
    "#     from neuralmonkey.analyses.state_space_good import popanal_preprocess_scalar_normalization\n",
    "#     PAnorm, PAscal, PAscalagg, fig, axes, groupdict = popanal_preprocess_scalar_normalization(pa, None, DO_AGG_TRIALS=False)\n",
    "#     list_panorm.append(PAnorm)\n",
    "# DFallpa[\"pa\"] = list_panorm\n",
    "# if \"pa_norm\" in DFallpa.columns:\n",
    "#     del DFallpa[\"pa_norm\"]"
   ]
  },
  {
   "cell_type": "markdown",
   "id": "806f959a",
   "metadata": {},
   "source": [
    "### PREPROCESS - factorize all relevant labels FIRST here.\n"
   ]
  },
  {
   "cell_type": "code",
   "execution_count": null,
   "id": "cb7080cf",
   "metadata": {},
   "outputs": [],
   "source": [
    "from neuralmonkey.analyses.decode_good import preprocess_factorize_class_labels_ints\n",
    "MAP_LABELS_TO_INT = preprocess_factorize_class_labels_ints(DFallpa)"
   ]
  },
  {
   "cell_type": "markdown",
   "id": "c63568ef",
   "metadata": {},
   "source": [
    "### 1) Default: Time-resolved decoding"
   ]
  },
  {
   "cell_type": "code",
   "execution_count": null,
   "id": "16f31925",
   "metadata": {},
   "outputs": [],
   "source": [
    "# Simplest model, simply try to decode a single variable at each time bin, without caring about other possibly correlated variables."
   ]
  },
  {
   "cell_type": "code",
   "execution_count": null,
   "id": "a2300cd1",
   "metadata": {},
   "outputs": [],
   "source": [
    "SAVEDIR_ANALYSIS = \"/tmp/decoding\"\n",
    "import os"
   ]
  },
  {
   "cell_type": "code",
   "execution_count": null,
   "id": "c4e7e591",
   "metadata": {},
   "outputs": [],
   "source": [
    "SAVEDIR = f\"{SAVEDIR_ANALYSIS}/1_time_resolved\"\n",
    "os.makedirs(SAVEDIR, exist_ok=True)\n",
    "print(SAVEDIR)\n",
    "\n",
    "n_min_trials = 6\n",
    "\n",
    "from neuralmonkey.analyses.decode_good import decodewrap_categorical_timeresolved_singlevar, decodewrapouterloop_categorical_timeresolved\n",
    "\n",
    "# list_vars_decode = [\"seqc_0_shape\", \"seqc_0_loc\"]\n",
    "# list_vars_decode = [\"seqc_0_shape\"]\n",
    "list_vars_decode = [\"seqc_0_shape\"]\n",
    "# list_vars_decode = [\"seqc_2_shape\"]\n",
    "# list_vars_decode = [\"shape_is_novel_all\"]\n",
    "\n",
    "# PARAMS\n",
    "time_bin_size = 0.2 # binsize, to average over to get population vector of neural activity\n",
    "slide = 0.2 # to slide the bin.\n",
    "max_nsplits = 2 # n times to do cross-validation.\n",
    "\n",
    "DFRES = decodewrapouterloop_categorical_timeresolved(DFallpa, list_vars_decode, SAVEDIR, time_bin_size, slide, n_min_trials,\n",
    "                                                     max_nsplits=max_nsplits)\n"
   ]
  },
  {
   "cell_type": "markdown",
   "id": "5f47196e",
   "metadata": {},
   "source": [
    "### 2) Cross-condition decoding"
   ]
  },
  {
   "cell_type": "code",
   "execution_count": null,
   "id": "73882401",
   "metadata": {},
   "outputs": [],
   "source": [
    "# Ask whether a decoder for variable X, trained on each level of variable Y, can generalize to the other levels of variable Y."
   ]
  },
  {
   "cell_type": "code",
   "execution_count": null,
   "id": "a6460525",
   "metadata": {},
   "outputs": [],
   "source": [
    "# For each time bin, decode shape genearlizing across location\n",
    "\n",
    "SAVEDIR = f\"{SAVEDIR_ANALYSIS}/2_cross_condition_decoding\"\n",
    "os.makedirs(SAVEDIR, exist_ok=True)\n",
    "print(SAVEDIR)\n",
    "\n",
    "from neuralmonkey.analyses.decode_good import decodewrap_categorical_timeresolved_cross_condition, decodewrapouterloop_categorical_timeresolved_cross_condition\n",
    "\n",
    "filtdict = None\n",
    "separate_by_task_kind = True\n",
    "\n",
    "# PARAMS\n",
    "\n",
    "# # Context\n",
    "# list_var_decode = [\n",
    "#     \"seqc_0_shape\",\n",
    "#     \"shape-fixation\",\n",
    "#     \"is-fixated-on-seqc0shape\",\n",
    "#     \"is-fixated-on-seqc0shape\",\n",
    "#     \"is-fixated-on-seqc0shape\",\n",
    "#     \"is-fixated-on-seqc0shape\",\n",
    "# ]\n",
    "# list_vars_conj = [\n",
    "#     [\"shape-macrosaccade-index\", \"seqc_0_loc_on_clust\", \"shape-fixation\", \"loc-fixation\", \"task_kind\"],\n",
    "#     [\"shape-macrosaccade-index\", \"loc-fixation\", \"seqc_0_shape\", \"seqc_0_loc_on_clust\", \"task_kind\"],\n",
    "#     [\"shape-macrosaccade-index\", \"seqc_0_shape\", \"loc-fixation\", \"task_kind\"],\n",
    "#     [\"shape-macrosaccade-index\", \"seqc_0_shape\", \"seqc_0_loc_on_clust\", \"task_kind\"],\n",
    "#     [\"shape-macrosaccade-index\", \"shape-fixation\", \"loc-fixation\", \"task_kind\"],\n",
    "#     [\"shape-macrosaccade-index\", \"shape-fixation\", \"seqc_0_loc_on_clust\", \"task_kind\"],\n",
    "# ]\n",
    "# Context\n",
    "list_var_decode = [\n",
    "    \"seqc_0_shape\",\n",
    "    \"seqc_0_loc\",\n",
    "]\n",
    "list_vars_conj = [\n",
    "    [\"task_kind\", \"seqc_0_loc\"],\n",
    "    [\"task_kind\", \"seqc_0_shape\"],\n",
    "]\n",
    "\n",
    "time_bin_size = 0.2\n",
    "slide = 0.2\n",
    "subtract_mean_vars_conj = False\n",
    "DFRES = decodewrapouterloop_categorical_timeresolved_cross_condition(DFallpa, list_var_decode,\n",
    "                                                     list_vars_conj,\n",
    "                                                     SAVEDIR, time_bin_size=time_bin_size, slide=slide,\n",
    "                                                     subtract_mean_vars_conj=subtract_mean_vars_conj,\n",
    "                                                                     filtdict=filtdict,\n",
    "                                                                     separate_by_task_kind=separate_by_task_kind)\n",
    "\n"
   ]
  },
  {
   "cell_type": "markdown",
   "id": "b7f59631",
   "metadata": {},
   "source": [
    "### 2b) Within-condition decoding. Separate decoder for each level of other var (then take average over decoders). Useful to controlling for variables"
   ]
  },
  {
   "cell_type": "code",
   "execution_count": null,
   "id": "c243d7a5",
   "metadata": {},
   "outputs": [],
   "source": [
    "# Decode variable X by building and scoring separate decoders conditioned on each level of variable Y."
   ]
  },
  {
   "cell_type": "code",
   "execution_count": null,
   "id": "16ecc2bf",
   "metadata": {},
   "outputs": [],
   "source": [
    "from neuralmonkey.analyses.decode_good import decodewrapouterloop_categorical_timeresolved_within_condition\n",
    "\n",
    "SAVEDIR = f\"{SAVEDIR_ANALYSIS}/3_within_condition_decoding\"\n",
    "os.makedirs(SAVEDIR, exist_ok=True)\n",
    "print(SAVEDIR)\n",
    "\n",
    "# PARAMS\n",
    "separate_by_task_kind = True\n",
    "\n",
    "# RUns\n",
    "max_nsplits = 2\n",
    "time_bin_size = 0.2\n",
    "slide = 0.2\n",
    "\n",
    "# PARAMS\n",
    "DFRES = decodewrapouterloop_categorical_timeresolved_within_condition(DFallpa, list_var_decode,\n",
    "                                                     list_vars_conj,\n",
    "                                                    SAVEDIR, time_bin_size=time_bin_size, slide=slide, filtdict=filtdict,\n",
    "                                                                      separate_by_task_kind=separate_by_task_kind)\n"
   ]
  },
  {
   "cell_type": "markdown",
   "id": "2ff1dcb8",
   "metadata": {},
   "source": [
    "# Dim reduction and State space plots"
   ]
  },
  {
   "cell_type": "code",
   "execution_count": null,
   "id": "2732e10c",
   "metadata": {},
   "outputs": [],
   "source": [
    "SAVEDIR_ANALYSIS = \"/tmp/Diego_230630\""
   ]
  },
  {
   "cell_type": "markdown",
   "id": "0c085ab6",
   "metadata": {},
   "source": [
    "### Plot scalar values (time-mean within twindow)"
   ]
  },
  {
   "cell_type": "code",
   "execution_count": null,
   "id": "a1de05d6",
   "metadata": {},
   "outputs": [],
   "source": [
    "from neuralmonkey.analyses.state_space_good import trajgood_construct_df_from_raw, trajgood_plot_colorby_splotby, trajgood_plot_colorby_splotby_scalar\n",
    "from pythonlib.tools.plottools import savefig\n",
    "from pythonlib.globals import PATH_ANALYSIS_OUTCOMES\n",
    "import matplotlib.pyplot as plt\n",
    "import os\n",
    "from neuralmonkey.analyses.state_space_good import dimredgood_nonlinear_embed_data\n",
    "\n",
    "### USER PARAMS\n",
    "tbin_dur = 0.1\n",
    "tbin_slide = 0.1\n",
    "umap_n_neighbors = 45\n",
    "pca_frac_var_keep = 0.8\n",
    "n_min_per_levo= 5\n",
    "list_twind_overall = [\n",
    "    [-0.3, 0.0],\n",
    "    [0.0, 0.3]\n",
    "]\n",
    "# METHOD = \"umap\"\n",
    "METHOD = \"umap\"\n",
    "list_var_color_var_subplot = [\n",
    "    [\"seqc_0_shape\", (\"seqc_0_loc\", \"task_kind\")],\n",
    "]\n",
    "\n",
    "LIST_DIMS = [(0,1)]\n",
    "\n",
    "### HARD PARAMS\n",
    "reshape_method = \"trials_x_chanstimes\"\n",
    "\n",
    "for i, row in DFallpa.iterrows():\n",
    "    pa = row[\"pa\"]\n",
    "    br = row[\"bregion\"]\n",
    "    wl = row[\"which_level\"]\n",
    "    ev = row[\"event\"]\n",
    "    tw = row[\"twind\"]\n",
    "\n",
    "    for twind_overall in list_twind_overall:\n",
    "        \n",
    "        ###################### SCALAR DATA\n",
    "        # Extract data\n",
    "        X, _, pathis, _, _  = pa.dataextract_state_space_decode_flex(twind_overall, tbin_dur, tbin_slide, reshape_method,\n",
    "                                                           pca_reduce=True, pca_frac_var_keep=pca_frac_var_keep)\n",
    "        dflab = pathis.Xlabels[\"trials\"]\n",
    "        \n",
    "        if METHOD==\"umap\":\n",
    "            # Embed data\n",
    "            Xredu, _ = dimredgood_nonlinear_embed_data(X, METHOD=METHOD, n_components=2, umap_n_neighbors=umap_n_neighbors)\n",
    "        elif METHOD==\"pca\":\n",
    "            Xredu = X\n",
    "        else:\n",
    "            print(METHOD)\n",
    "            assert False\n",
    "\n",
    "        ##### Plot scalars\n",
    "        savedir = f\"{SAVEDIR_ANALYSIS}/scalar/{br}-{ev}-twind={'_'.join([str(t) for t in twind_overall])}-METHOD={METHOD}\"\n",
    "        print(savedir)\n",
    "        os.makedirs(savedir, exist_ok=True)\n",
    "\n",
    "        for var_color, var_subplot in list_var_color_var_subplot:\n",
    "            from neuralmonkey.analyses.state_space_good import trajgood_plot_colorby_splotby_scalar_WRAPPER\n",
    "            trajgood_plot_colorby_splotby_scalar_WRAPPER(Xredu, dflab, var_color, savedir,\n",
    "                                     vars_subplot=var_subplot, list_dims=LIST_DIMS, n_min_per_levo=n_min_per_levo)\n",
    "        plt.close(\"all\")"
   ]
  },
  {
   "cell_type": "markdown",
   "id": "d3bb0668",
   "metadata": {},
   "source": [
    "### Plot trajectories (within time window)"
   ]
  },
  {
   "cell_type": "code",
   "execution_count": null,
   "id": "796d6b4f",
   "metadata": {},
   "outputs": [],
   "source": [
    "from neuralmonkey.analyses.state_space_good import trajgood_construct_df_from_raw, trajgood_plot_colorby_splotby, trajgood_plot_colorby_splotby_scalar\n",
    "from pythonlib.tools.plottools import savefig\n",
    "from pythonlib.globals import PATH_ANALYSIS_OUTCOMES\n",
    "import os\n",
    "from neuralmonkey.analyses.state_space_good import dimredgood_nonlinear_embed_data\n",
    "import matplotlib.pyplot as plt\n",
    "\n",
    "### USER PARAMS\n",
    "tbin_dur = 0.1\n",
    "tbin_slide = 0.1\n",
    "umap_n_neighbors = 45\n",
    "pca_frac_var_keep = 0.8\n",
    "n_min_per_levo= 5\n",
    "list_twind_overall = [\n",
    "    [0.2, 0.6]\n",
    "]\n",
    "# METHOD = \"umap\"\n",
    "METHOD = \"pca\"\n",
    "list_var_color_var_subplot = [\n",
    "    [\"seqc_0_shape\", (\"seqc_0_loc\", \"task_kind\")],\n",
    "]\n",
    "LIST_DIMS = [(0,1)]\n",
    "\n",
    "### HARD PARAMS\n",
    "reshape_method = \"chans_x_trials_x_times\"\n",
    "\n",
    "\n",
    "for i, row in DFallpa.iterrows():\n",
    "    pa = row[\"pa\"]\n",
    "    br = row[\"bregion\"]\n",
    "    wl = row[\"which_level\"]\n",
    "    ev = row[\"event\"]\n",
    "    tw = row[\"twind\"]\n",
    "\n",
    "    for twind_overall in list_twind_overall:\n",
    "        \n",
    "        ###################### TRAJECTORY DATA\n",
    "        from neuralmonkey.analyses.state_space_good import trajgood_construct_df_from_raw, trajgood_plot_colorby_splotby\n",
    "        from neuralmonkey.classes.population_mult import extract_single_pa\n",
    "        twind_overall_traj = [-0.2, 0.6]\n",
    "        tbin_dur = 0.05\n",
    "        X, PApca, PAslice, pca, _ = pa.dataextract_state_space_decode_flex(twind_overall_traj, tbin_dur=tbin_dur, pca_reduce=True)\n",
    "        \n",
    "        if METHOD==\"pca\":\n",
    "            Xredu = X\n",
    "        else:\n",
    "            print(METHOD)\n",
    "            assert False, \"code it\"\n",
    "            \n",
    "        savedir = f\"{SAVEDIR_ANALYSIS}/trajectories/{br}-{ev}-twind={'_'.join([str(t) for t in twind_overall_traj])}-METHOD=pca\"\n",
    "        print(savedir)\n",
    "        os.makedirs(savedir, exist_ok=True)\n",
    "        \n",
    "        for var_color, var_subplot in list_var_color_var_subplot:\n",
    "            for dims in LIST_DIMS:\n",
    "                # 1) Construct dataframe\n",
    "                if isinstance(var_color, (list, tuple)):\n",
    "                    grpvars = list(var_color) + list(var_subplot)\n",
    "                else:\n",
    "                    grpvars = [var_color] + list(var_subplot)\n",
    "                    \n",
    "                labels = PApca.Xlabels[\"trials\"].loc[:, grpvars] \n",
    "                labelvars = grpvars\n",
    "                df = trajgood_construct_df_from_raw(X, PApca.Times, labels, labelvars)\n",
    "                \n",
    "                # 2) Plot\n",
    "                # dims = (0,1) # pairs of dimensions to plot\n",
    "                times_to_mark = [0.] # you can mark specific times on the plot. here marks the 0. sec mark.\n",
    "                times_to_mark_markers = [\"d\"] # mark with a diamond (\"d\")\n",
    "                time_bin_size = 0.05 # to make plot easier to visaulize, you can bin in time.\n",
    "                \n",
    "                fig, axes = trajgood_plot_colorby_splotby(df, var_color, var_subplot, dims, \"traj\", mean_over_trials=True,\n",
    "                                              times_to_mark = times_to_mark, times_to_mark_markers = times_to_mark_markers,\n",
    "                                              time_bin_size=time_bin_size)        \n",
    "                \n",
    "                path = f\"{savedir}/color={var_color}-sub={var_subplot}-dims={dims[0], dims[1]}.pdf\"\n",
    "                print(\"Saving ... \", path)\n",
    "                savefig(fig, path)\n",
    "                \n",
    "                plt.close(\"all\")\n",
    "            "
   ]
  },
  {
   "cell_type": "code",
   "execution_count": null,
   "id": "1b8d9789",
   "metadata": {},
   "outputs": [],
   "source": [
    "sorted(dflab.columns.tolist())"
   ]
  },
  {
   "cell_type": "code",
   "execution_count": null,
   "id": "871124e9",
   "metadata": {},
   "outputs": [],
   "source": []
  }
 ],
 "metadata": {
  "kernelspec": {
   "display_name": "Python 3",
   "language": "python",
   "name": "python3"
  },
  "language_info": {
   "codemirror_mode": {
    "name": "ipython",
    "version": 3
   },
   "file_extension": ".py",
   "mimetype": "text/x-python",
   "name": "python",
   "nbconvert_exporter": "python",
   "pygments_lexer": "ipython3",
   "version": "3.8.18"
  }
 },
 "nbformat": 4,
 "nbformat_minor": 5
}
