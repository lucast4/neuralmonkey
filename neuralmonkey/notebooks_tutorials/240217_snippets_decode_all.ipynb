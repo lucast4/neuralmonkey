{
 "cells": [
  {
   "cell_type": "code",
   "execution_count": null,
   "outputs": [],
   "source": [
    "import os\n",
    "\n",
    "\"\"\"\"\n",
    "Devo code for all kinds of decoding analyses, inclduing:\n",
    "[NOTE: all are time-resolved]\n",
    "- default\n",
    "- cross-generalization (at each time point)\n",
    "- generalization over time\n",
    "--- variation: single-trial covert.\n",
    "- shared subspace (single decoder over time)\n",
    "\n",
    "Inspired to do this mainly re: quyestion of evidence for single trial shape decoding during palnning, espeically for chars.\n",
    "\"\"\""
   ],
   "metadata": {
    "collapsed": false
   },
   "id": "9e3fd17c4f13ba43"
  },
  {
   "cell_type": "markdown",
   "source": [
    "# Load a pre-computed Snippets"
   ],
   "metadata": {
    "collapsed": false
   },
   "id": "2e64d1e318d5757d"
  },
  {
   "cell_type": "code",
   "execution_count": null,
   "outputs": [],
   "source": [
    "from neuralmonkey.classes.population_mult import dfallpa_extraction_load_wrapper\n",
    "animal = \"Diego\"\n",
    "date = 230628\n",
    "# question = \"SP_shape_loc\"\n",
    "question = \"PIG_planning_shape_loc\"\n",
    "list_time_windows = [(-0.6, 0.6)]\n",
    "events_keep = [\"03_samp\", \"04_go_cue\", \"06_on_strokeidx_0\"]\n",
    "combine_into_larger_areas = True\n",
    "HACK_RENAME_SHAPES = False\n",
    "DFallpa = dfallpa_extraction_load_wrapper(animal, date, question, list_time_windows,\n",
    "                                events_keep = events_keep,\n",
    "                                HACK_RENAME_SHAPES=HACK_RENAME_SHAPES)"
   ],
   "metadata": {
    "collapsed": false
   },
   "id": "1b6e8425ba4d829d"
  },
  {
   "cell_type": "markdown",
   "source": [
    "# Load a dataset (saved for Xuan)"
   ],
   "metadata": {
    "collapsed": false
   },
   "id": "2f471c575413735b"
  },
  {
   "cell_type": "markdown",
   "source": [
    "To load and plot a dataset of neural activity across population, in a PopAnal class object.\n"
   ],
   "metadata": {
    "collapsed": false
   },
   "id": "401a9851a443292c"
  },
  {
   "cell_type": "code",
   "execution_count": null,
   "outputs": [],
   "source": [
    "import pandas as pd\n",
    "import matplotlib.pyplot as plt"
   ],
   "metadata": {
    "collapsed": false
   },
   "id": "6d72addf5c1494c2"
  },
  {
   "cell_type": "code",
   "execution_count": null,
   "outputs": [],
   "source": [
    "\n",
    "# this is the path to the dataset\n",
    "# path = '/gorilla1/analyses/recordings/main/RSA/Diego-230615/agg_True-subtr_None-dist_euclidian_unbiased/SP_shape_loc/DFallpa.pkl'\n",
    "# path = \"/gorilla4/Dropbox/SCIENCE/FREIWALD_LAB/DATA/for_xuan/DFallpa.pkl\"\n",
    "# path = \"/gorilla4/Dropbox/SCIENCE/FREIWALD_LAB/DATA/for_xuan/DFallpa_samp_and_stroke.pkl\"\n",
    "# path = \"/gorilla4/Dropbox/SCIENCE/FREIWALD_LAB/DATA/for_xuan/DFallpa_pig_planning.pkl\"\n",
    "# path = \"/gorilla4/Dropbox/SCIENCE/FREIWALD_LAB/DATA/for_xuan/DFallpa_pig_concat_trial_and_stroke_which_levels.pkl\"\n",
    "# path = \"/gorilla4/Dropbox/SCIENCE/FREIWALD_LAB/DATA/for_xuan/DFallpa_char_concat_trial_and_stroke_Pancho_230126.pkl\"\n",
    "path = \"/gorilla4/Dropbox/SCIENCE/FREIWALD_LAB/DATA/for_xuan/DFallpa_char_trial_Pancho_230126.pkl\"\n"
   ],
   "metadata": {
    "collapsed": false
   },
   "id": "320be7d5ecbddf5f"
  },
  {
   "cell_type": "code",
   "execution_count": null,
   "outputs": [],
   "source": [
    "DFallpa = pd.read_pickle(path)\n"
   ],
   "metadata": {
    "collapsed": false
   },
   "id": "335e4da034da5b2a"
  },
  {
   "cell_type": "markdown",
   "source": [
    "##### To save"
   ],
   "metadata": {
    "collapsed": false
   },
   "id": "7eb640a16cc1bc17"
  },
  {
   "cell_type": "code",
   "execution_count": null,
   "outputs": [],
   "source": [
    "# Save it\n",
    "import pickle\n",
    "path = \"/gorilla4/Dropbox/SCIENCE/FREIWALD_LAB/DATA/for_xuan/DFallpa_char_trial_Pancho_230126.pkl\"\n",
    "with open(path, \"wb\") as f:\n",
    "    pickle.dump(DFallpa, f)\n",
    "print(\"Saved to:\", path)"
   ],
   "metadata": {
    "collapsed": false
   },
   "id": "2c796042c0d19d1d"
  },
  {
   "cell_type": "markdown",
   "source": [
    "# Load a DFallpa"
   ],
   "metadata": {
    "collapsed": false
   },
   "id": "122e1e23ec6b587"
  },
  {
   "cell_type": "code",
   "execution_count": 3,
   "outputs": [
    {
     "name": "stdout",
     "output_type": "stream",
     "text": [
      "Searching using this string:\n",
      "/mnt/Freiwald/ltian/recordings/*Diego*/*230817*/**\n",
      "Found this many paths:\n",
      "1\n",
      "---\n",
      "/mnt/Freiwald/ltian/recordings/Diego/230817/Diego-230817-150802\n",
      "session:  0\n",
      "Beh Sessions that exist on this date:  {230817: [(1, 'dirgrammardiego5c')]}\n",
      "------------------------------\n",
      "Loading this neural session: 0\n",
      "Loading these beh expts: ['dirgrammardiego5c']\n",
      "Loading these beh sessions: [1]\n",
      "Using this beh_trial_map_list: [(1, 0)]\n",
      "Searching using this string:\n",
      "/mnt/Freiwald/ltian/recordings/*Diego*/*230817*/**\n",
      "Found this many paths:\n",
      "1\n",
      "---\n",
      "/mnt/Freiwald/ltian/recordings/Diego/230817/Diego-230817-150802\n",
      "{'filename_components_hyphened': ['Diego', '230817', '150802'], 'basedirs': ['/mnt/Freiwald/ltian/recordings/Diego', '/mnt/Freiwald/ltian/recordings/Diego/230817'], 'basedirs_filenames': ['230817', 'Diego-230817-150802'], 'filename_final_ext': 'Diego-230817-150802', 'filename_final_noext': 'Diego-230817-150802'}\n",
      "FOund this path for spikes:  /mnt/Freiwald/ltian/recordings/Diego/230817/Diego-230817-150802/spikes_tdt_quick-4\n",
      "== PATHS for this expt: \n",
      "raws  --  /mnt/Freiwald/ltian/recordings/Diego/230817/Diego-230817-150802\n",
      "tank  --  /mnt/Freiwald/ltian/recordings/Diego/230817/Diego-230817-150802/Diego-230817-150802\n",
      "spikes  --  /mnt/Freiwald/ltian/recordings/Diego/230817/Diego-230817-150802/spikes_tdt_quick-4\n",
      "final_dir_name  --  Diego-230817-150802\n",
      "time  --  150802\n",
      "pathbase_local  --  /gorilla1/neural_preprocess/recordings/Diego/230817/Diego-230817-150802\n",
      "tank_local  --  /gorilla1/neural_preprocess/recordings/Diego/230817/Diego-230817-150802/data_tank.pkl\n",
      "spikes_local  --  /gorilla1/neural_preprocess/recordings/Diego/230817/Diego-230817-150802/data_spikes.pkl\n",
      "datall_local  --  /gorilla1/neural_preprocess/recordings/Diego/230817/Diego-230817-150802/data_datall.pkl\n",
      "events_local  --  /gorilla1/neural_preprocess/recordings/Diego/230817/Diego-230817-150802/events_photodiode.pkl\n",
      "mapper_st2dat_local  --  /gorilla1/neural_preprocess/recordings/Diego/230817/Diego-230817-150802/mapper_st2dat.pkl\n",
      "figs_local  --  /gorilla1/neural_preprocess/recordings/Diego/230817/Diego-230817-150802/figs\n",
      "metadata_units  --  /home/lucast4/code/neuralmonkey/neuralmonkey/metadat/units_Diego\n",
      "cached_dir  --  /gorilla1/neural_preprocess/recordings/Diego/230817/Diego-230817-150802/cached\n",
      "Sites metada path doesnt exist:  /home/lucast4/code/neuralmonkey/neuralmonkey/metadat/units_Diego/230817.yaml\n",
      "updating self.SitesDirty with:  ('sites_garbage', 'sites_error_spikes', 'sites_low_spk_magn')\n",
      "[_sitesdirty_update] skipping! since did not find:  sites_garbage\n",
      "[_sitesdirty_update] skipping! since did not find:  sites_error_spikes\n",
      "Printing whether spikes gotten (o) or not (-) because of spike peak to trough\n",
      "== Loading TDT tank\n",
      "** Loading tank data from local (previusly cached)\n",
      "== Done\n",
      "== Trying to load events data\n",
      "Loading this events (pd) locally to:  /gorilla1/neural_preprocess/recordings/Diego/230817/Diego-230817-150802/events_photodiode.pkl\n",
      "== Done\n",
      "** MINIMAL_LOADING, therefore loading previuosly cached data\n",
      "Searching using this string:\n",
      "/home/lucast4/code/drawmonkey/expt_metadat/*230817-*Diego.**\n",
      "Found this many paths:\n",
      "0\n",
      "Searching using this string:\n",
      "/home/lucast4/code/drawmonkey/expt_metadat_daily/*230817-*Diego.**\n",
      "Found this many paths:\n",
      "1\n",
      "---\n",
      "/home/lucast4/code/drawmonkey/expt_metadat_daily/dirgrammardiego5c-230817-Diego.yaml\n",
      "Loading this dataset Diego dirgrammardiego5c 230817\n",
      "Searching using this string:\n",
      "/gorilla1/analyses/database/*Diego-*dirgrammardiego5c-*230817-*/*dat*.pkl\n",
      "-- Splitting off dir from fname\n",
      "Found this many paths:\n",
      "0\n",
      "Searching using this string:\n",
      "/gorilla1/analyses/database/BEH/*Diego-*dirgrammardiego5c-*230817-*/*dat*.pkl\n",
      "-- Splitting off dir from fname\n",
      "Found this many paths:\n",
      "0\n",
      "Searching using this string:\n",
      "/mnt/Freiwald_kgupta/kgupta/analyses/database/*Diego-*dirgrammardiego5c-*230817-*/*dat*.pkl\n",
      "-- Splitting off dir from fname\n",
      "Found this many paths:\n",
      "0\n",
      "Searching using this string:\n",
      "/mnt/Freiwald_kgupta/kgupta/analyses/database/BEH/*Diego-*dirgrammardiego5c-*230817-*/*dat*.pkl\n",
      "-- Splitting off dir from fname\n",
      "Found this many paths:\n",
      "1\n",
      "---\n",
      "/mnt/Freiwald_kgupta/kgupta/analyses/database/BEH/Diego-dirgrammardiego5c-230817-240222_173443\n",
      "----------------\n",
      "Currently loading dataset pkl: /mnt/Freiwald_kgupta/kgupta/analyses/database/BEH/Diego-dirgrammardiego5c-230817-240222_173443\n",
      ".. Done!\n",
      "Loaded metadat:\n",
      "{'sketchpad_edges': array([[-311.84, -224.8 ],\n",
      "       [ 311.84,  429.6 ]]), 'metadat_probedat': {'sdate': 230817, 'edate': 230817, 'strokmodel_kind': None, 'strokmodel_tstamp': None, 'datecategories': {'230817': 1}, 'dates_for_summary': [], 'matchedstrokes': None, 'exptnames': ['dirgrammardiego5c'], 'T1': [], 'G1': [], 'G2': [], 'G3': [], 'G4': [], 'description': '', 'finalized': False, 'good_expt': True, 'expt': 'dirgrammardiego5c', 'animal': 'Diego', 'ssess': None, 'esess': None, 'task_train_test': {'probe1_liketrain': 'train', 'probe1_nostrokeconstraint': 'train', 'probe2_liketrain': 'train', 'probe2_nostrokeconstraint': 'train', 'probe3_hdpos': 'test', 'probe1': 'train', 'probe2': 'train', 'probe3': 'test', 'probe4': 'test', 'train': 'train'}}, 'filedata_params': {'pix_per_deg': array([[ 26.64621164],\n",
      "       [-26.64621164]]), 'resolution': (1024, 768), 'animal': 'Diego', 'basedir': '/gorilla1/animals', 'sample_rate': array([500.]), 'beh_codes': {9: 'start', 10: 'fix cue', 11: 'fix cue visible', 13: 'frame skip', 14: 'manual rew', 15: 'guide', 16: 'FixationOnsetWTH', 17: 'FixationDoneSuccessWTH', 18: 'end', 19: 'FixationRaiseFailWTH', 20: 'go (draw)', 21: 'guide_on_GA', 22: 'guide_on_GA_delay', 30: 'DelayWhatIsThis', 40: 'GoWhatIsThis', 41: 'samp1 on', 42: 'samp1 off', 45: 'done', 46: 'post', 50: 'reward', 51: 'free reward', 52: 'WaitThenHold_LT_reward', 61: 'DoneButtonVisible', 62: 'DoneButtonTouched', 63: 'DragAroundSuccess', 64: 'DragAroundAbort', 65: 'DragAroundFirstAbortNow', 70: 'hotkey_x', 71: 'DAstimevent_firstpres', 72: 'DAstimoff_finibeforepause', 73: 'DAstimoff_fini', 74: 'DAsamp1_visible_change', 75: 'DAnewpnutthisframe', 76: 'DAsound_samp1touched', 78: 'DAsound_gotallink', 80: 'ttl_trialon', 81: 'ttl_trialoff', 91: 'GAstimevent_firstpres', 92: 'GAstimoff_fini', 93: 'GAstimeventDelay_firstpres', 94: 'GAstimoffDelay_fini', 101: 'fix_square_on', 102: 'fix_square_off', 103: 'fix_square_on_pd', 111: 'photodiode_force_off', 120: 'DAsound_chunk', 121: 'DAsound_strokedone', 122: 'DAsound_chunkupdate', 123: 'DAsound_chunkdone', 124: 'DAsound_firstraise', 131: 'fix_cue_colored_on', 132: 'fix_cue_colored_on_v2', 133: 'fix_cue_colored_off', 134: 'fix_cue_colored_off_v2', 135: 'new_color_cue_off', 141: 'estim_ttl_1_on', 142: 'estim_ttl_2_on', 151: 'estim_ttl_stroke_on', 152: 'estim_ttl_stroke_off', 200: 'skipped_movie_frame'}, 'screen_hz': 59, 'screen_period': 0.01694915254237288}}\n",
      "Loading BlockParamsByDateSessBlock!\n",
      "----\n",
      "Resetting index\n",
      "=== CLEANING UP self.Dat ===== \n",
      "Deleted unused columns from self.Dat\n",
      "applying monkey train test names\n",
      "* UDPATEING onset of first stroke [too close to fixation] (trial, new onset index):\n",
      "-- CHECKING  origin\n",
      "--- idat, trialcode, strok inds to remove, len strokes beofre remofe, len strokes after:\n",
      "500 230817-1-815 [7] 8 7\n",
      "-- CHECKING  donepos\n",
      "--- idat, trialcode, strok inds to remove, len strokes beofre remofe, len strokes after:\n",
      "Updated columns: insummarydates, using Metadats\n",
      "Searching using this string:\n",
      "/gorilla1/analyses/database/TASKS_GENERAL/Diego-dirgrammardiego5c-230817-all/*Tasks*pkl\n",
      "Found this many paths:\n",
      "0\n",
      "Searching using this string:\n",
      "/mnt/Freiwald_kgupta/kgupta/analyses/database/TASKS_GENERAL/Diego-dirgrammardiego5c-230817-all/*Tasks*pkl\n",
      "Found this many paths:\n",
      "1\n",
      "---\n",
      "/mnt/Freiwald_kgupta/kgupta/analyses/database/TASKS_GENERAL/Diego-dirgrammardiego5c-230817-all/Tasks.pkl\n",
      "--- Loading tasks pkl file:  /mnt/Freiwald_kgupta/kgupta/analyses/database/TASKS_GENERAL/Diego-dirgrammardiego5c-230817-all/Tasks.pkl\n",
      "added new column self.Dat[Task]\n",
      "=== CLEANING UP self.Dat (_cleanup_reloading_saved_state) ===== \n",
      "0 _behclass_alignsim_compute\n",
      "200 _behclass_alignsim_compute\n",
      "400 _behclass_alignsim_compute\n",
      "600 _behclass_alignsim_compute\n",
      "Running D._behclass_tokens_extract_datsegs\n",
      "0 _behclass_tokens_extract_datsegs\n",
      "200 _behclass_tokens_extract_datsegs\n",
      "400 _behclass_tokens_extract_datsegs\n",
      "600 _behclass_tokens_extract_datsegs\n",
      "stored in self.Dat[BehClass]\n",
      "Removing these trials: \n",
      "[]\n",
      "self.Dat starting legnth:  741\n",
      "Modified self.Dat, keeping only the inputted inds\n",
      "self.Dat final legnth:  741\n",
      "- starting/ending len (grouping params):\n",
      "741\n",
      " \n",
      "*** Rules/epochs reassigning using the following rules:\n",
      "{(None, None): 'base', ('direction', '3.14'): 'L', ('direction', '0.00'): 'R', ('directionv2', ('lr',)): 'R', ('directionv2', ('rl',)): 'L', ('directionv2', ('ud',)): 'D', ('directionv2', ('du',)): 'U', ('directionv2', ('right',)): 'R', ('directionv2', ('left',)): 'L', ('directionv2', ('down',)): 'D', ('directionv2', ('up',)): 'U', ('directionv2', ('topright',)): 'TR', ('directionv2', ('topleft',)): 'TL', ('directionv2', ('UL',)): 'UL', ('prot_prims_in_order', ('line-8-3', 'V-2-4', 'Lcentered-4-3')): 'lVL1', ('prot_prims_in_order', ('Lcentered-4-3', 'V-2-4', 'line-8-3')): 'LVl1', ('prot_prims_in_order', ('V-2-4', 'line-8-3', 'Lcentered-4-3')): 'VlL1', ('prot_prims_in_order', ('line-8-3', 'line-8-4', 'V-2-4')): 'llV1', ('prot_prims_in_order', ('line-9-3', 'line-9-4', 'Lcentered-6-8')): 'llV1', ('prot_prims_in_order', ('line-8-3', 'line-13-13', 'line-8-4', 'line-13-14', 'V-2-4', 'V2-2-4')): 'llV1', ('prot_prims_in_order', ('line-8-3', 'line-13-13', 'line-8-4', 'line-13-14', 'V-2-4', 'V2-2-4', 'V2-2-2')): 'llV1', ('prot_prims_in_order', ('V2-2-2', 'V2-2-4', 'V-2-4', 'line-13-14', 'line-8-4', 'line-13-13', 'line-8-3')): 'llV1R', ('prot_prims_in_order', ('zigzagSq-1-1', 'line-8-1', 'arcdeep-4-3')): 'ZlA1', ('prot_prims_in_order', ('zigzagSq-1-1', 'line-8-1', 'line-9-1', 'arcdeep-4-3')): 'ZlA1', ('prot_prims_in_order', ('zigzagSq-1-1', 'line-8-1', 'line-9-1', 'line-6-1', 'arcdeep-4-3')): 'ZlA1', ('prot_prims_in_order', ('zigzagSq-1-1', 'Lcentered-4-4', 'line-8-1', 'line-9-1', 'line-6-1', 'arcdeep-4-3')): 'ZlA1', ('prot_prims_in_order', ('zigzagSq-1-1', 'Lcentered-4-4', 'line-6-2', 'line-8-1', 'line-9-1', 'line-6-1', 'arcdeep-4-3')): 'ZlA1', ('prot_prims_in_order', ('zigzagSq-1-1', 'Lcentered-4-4', 'line-6-2', 'line-8-1', 'line-9-1', 'line-6-1', 'arcdeep-4-3', 'V-2-4')): 'ZlA1', ('prot_prims_chunks_in_order', ('line-8-4', 'line-8-3')): 'AnBm1a', ('prot_prims_chunks_in_order', ('line-8-1', 'line-8-2')): 'AnBm2', ('prot_prims_chunks_in_order', ('line-8-4', 'line-11-1', 'line-8-3', 'line-11-2')): 'AnBm1b', ('prot_prims_chunks_in_order', ('line-11-1', 'line-11-2')): 'AnBmHV', ('prot_prims_chunks_in_order', ('squiggle3-3-1', 'V-2-4')): 'AnBm0', ('hack_220829', ('hack_220829',)): '(AB)n', ('prot_prims_in_order_AND_directionv2', ('line-8-4', 'line-11-1', 'line-8-3', 'line-11-2', 'topright')): 'AnBmTR', ('prot_prims_in_order_AND_directionv2', ('line', 'circle', 'right')): 'LCr1', ('prot_prims_in_order_AND_directionv2', ('circle', 'line', 'right')): 'CLr1', ('prot_prims_in_order_AND_directionv2', ('line', 'arcdeep', 'circle', 'right')): 'LCr2', ('prot_prims_in_order_AND_directionv2', ('circle', 'arcdeep', 'line', 'right')): 'CLr2', ('prot_prims_in_order_AND_directionv2', ('line', 'arcdeep', 'circle', 'downright')): 'LCr3', ('prot_prims_in_order_AND_directionv2', ('zigzagSq-1-1', 'Lcentered-4-4', 'line-6-2', 'line-8-1', 'line-9-1', 'line-6-1', 'arcdeep-4-3', 'V-2-4', 'topleft')): 'llCV1', ('prot_prims_in_order_AND_directionv2', ('zigzagSq-1-1', 'Lcentered-4-4', 'line-6-2', 'line-8-1', 'line-9-1', 'line-6-1', 'arcdeep-4-3', 'V-2-4', 'left')): 'llCV2', ('prot_prims_in_order_AND_directionv2_FIRSTSTROKEONLY', ('zigzagSq-1-1', 'Lcentered-4-4', 'line-6-2', 'line-8-1', 'line-9-1', 'line-6-1', 'arcdeep-4-3', 'V-2-4', 'left')): 'llCV2FstStk', ('prot_prims_in_order_AND_directionv2', ('zigzagSq-1-1', 'Lcentered-4-4', 'line-6-2', 'line-8-1', 'line-9-1', 'line-6-1', 'arcdeep-4-3', 'V-2-4', 'UL')): 'llCV3', ('prot_prims_in_order_AND_directionv2', ('zigzagSq-1-1', 'Lcentered-4-4', 'line-6-2', 'line-14-2', 'line-8-1', 'line-9-1', 'line-6-1', 'line-14-1', 'arcdeep-4-3', 'V-2-4', 'UL')): 'llCV3b', ('prot_prims_in_order_AND_directionv2_FIRSTSTROKEONLY', ('zigzagSq-1-1', 'Lcentered-4-4', 'line-6-2', 'line-8-1', 'line-9-1', 'line-6-1', 'arcdeep-4-3', 'V-2-4', 'UL')): 'llCV3FstStk', ('prot_prims_in_order_AND_directionv2', ('line-8-3', 'line-13-13', 'line-8-4', 'line-13-14', 'V-2-4', 'V2-2-4', 'V2-2-2', 'left')): 'AnBmCk1a', ('prot_prims_in_order_AND_directionv2', ('line-8-3', 'line-13-13', 'line-8-4', 'line-13-14', 'V-2-4', 'V2-2-4', 'V2-2-2', 'line-8-1', 'left')): 'AnBmCk1b', ('prot_prims_in_order_AND_directionv2', ('line-8-3', 'line-13-13', 'line-8-4', 'line-13-14', 'V-2-4', 'V2-2-4', 'V2-2-2', 'line-8-1', 'line-8-2', 'left')): 'AnBmCk1c', ('prot_prims_in_order_AND_directionv2', ('line-8-3', 'line-6-3', 'line-13-13', 'line-8-4', 'line-6-4', 'line-13-14', 'V-2-4', 'V2-2-4', 'V2-2-2', 'line-8-1', 'line-8-2', 'line-6-1', 'line-6-2', 'left')): 'AnBmCk2', ('prot_prims_chunks_in_order', ('line-8-3', 'line-6-3', 'line-13-13', 'line-8-4', 'line-6-4', 'line-13-14', 'V-2-4', 'V2-2-4', 'V2-2-2', 'line-8-1', 'line-8-2', 'line-6-1', 'line-6-2')): 'AnBmCk2NODIR', ('prot_prims_in_order_AND_directionv2_FIRSTSTROKEONLY', ('line-8-3', 'line-6-3', 'line-13-13', 'line-8-4', 'line-6-4', 'line-13-14', 'V-2-4', 'V2-2-4', 'V2-2-2', 'line-8-1', 'line-8-2', 'line-6-1', 'line-6-2', 'left')): 'AnBmCk2FstStk', ('prot_prims_in_order_AND_directionv2_FIRSTSTROKEEXCLUDE', ('line-8-3', 'line-6-3', 'line-13-13', 'line-8-4', 'line-6-4', 'line-13-14', 'V-2-4', 'V2-2-4', 'V2-2-2', 'line-8-1', 'line-8-2', 'line-6-1', 'line-6-2', 'left')): 'AnBmCk2NOFstStk', ('prot_prims_in_order_AND_directionv2_FLEXSTROKES', ('zigzagSq-1-1', 'Lcentered-4-4', 'line-6-2', 'line-8-1', 'line-9-1', 'line-6-1', 'arcdeep-4-3', 'V-2-4', 'UL', (1,), (2, 3, 4, 5))): 'llCV3RndFlx1', ('prot_prims_in_order_AND_directionv2_FLEXSTROKES', ('zigzagSq-1-1', 'Lcentered-4-4', 'line-6-2', 'line-8-1', 'line-9-1', 'line-6-1', 'arcdeep-4-3', 'V-2-4', 'UL', (1, 2), (3, 4, 5))): 'llCV3RndFlx12', ('prot_prims_in_order_AND_directionv2_FLEXSTROKES', ('zigzagSq-1-1', 'Lcentered-4-4', 'line-6-2', 'line-8-1', 'line-9-1', 'line-6-1', 'arcdeep-4-3', 'V-2-4', 'UL', (1, 2, 3), (4, 5))): 'llCV3RndFlx123', ('prot_prims_in_order_AND_directionv2_FLEXSTROKES', ('line-8-3', 'line-6-3', 'line-13-13', 'line-8-4', 'line-6-4', 'line-13-14', 'V-2-4', 'V2-2-4', 'V2-2-2', 'line-8-1', 'line-8-2', 'line-6-1', 'line-6-2', 'left', (), (1, 2, 3, 4))): 'AnBmCk2RndFlx0', ('prot_prims_in_order_AND_directionv2_FLEXSTROKES', ('line-8-3', 'line-6-3', 'line-13-13', 'line-8-4', 'line-6-4', 'line-13-14', 'V-2-4', 'V2-2-4', 'V2-2-2', 'line-8-1', 'line-8-2', 'line-6-1', 'line-6-2', 'left', (1,), (2, 3, 4))): 'AnBmCk2RndFlx1', ('prot_prims_in_order_AND_directionv2_FLEXSTROKES', ('line-8-3', 'line-6-3', 'line-13-13', 'line-8-4', 'line-6-4', 'line-13-14', 'V-2-4', 'V2-2-4', 'V2-2-2', 'line-8-1', 'line-8-2', 'line-6-1', 'line-6-2', 'left', (1, 2), (3, 4))): 'AnBmCk2RndFlx12', ('shape_chunk_concrete', ('lolli', ('D', 'R'))): 'LolDR', ('rows_direction', ('down', 'right')): 'rowsDR', ('rows_direction', ('up', 'left')): 'rowsUL', ('rows_direction', ('up', 'snkLR')): 'rowsUsnkLR', ('cols_direction', ('right', 'down')): 'colsRD', ('cols_direction', ('left', 'up')): 'colsLU', ('randomize_strokes', ('randomize_strokes',)): 'rndstr', ('specific_order', ('indices',)): 'SpcOrd1'}\n",
      "Modified D.Dat[epoch]\n",
      "These counts for epochs levels: \n",
      "llCV3    682\n",
      "base      59\n",
      "Name: epoch, dtype: int64\n",
      "These counts for epoch_rule_tasksequencer levels: \n",
      "llCV3    682\n",
      "base      59\n",
      "Name: epoch_rule_tasksequencer, dtype: int64\n",
      " \n",
      "appended col to self.Dat:\n",
      "epoch_color\n",
      "Reassigned rules taking conjucntion of old rules x color instruction\n",
      "New epochs\n",
      "llCV3|0    682\n",
      "base|0      59\n",
      "Name: epoch_color, dtype: int64\n",
      "For these epochs, replacing epoch with epoch_color:\n",
      "[]\n",
      "741\n",
      "- starting/ending len (getting sequence):\n",
      "741\n",
      "741\n",
      "--- Removing nans\n",
      "start len: 741\n",
      "- num names for each col\n",
      "not removing nans, since columns=[]\n",
      "ADded new column: supervision_online\n",
      "Reassigned train/test, using key: supervision_online\n",
      "and values:\n",
      "Train =  [True]\n",
      "Test =  [False]\n",
      " \n",
      "New distribution of train/test:\n",
      "test     723\n",
      "train     18\n",
      "Name: monkey_train_or_test, dtype: int64\n",
      "Appended column: los_info\n",
      "Appended self.Dat[superv_SEQUENCE_SUP]\n",
      "Appended self.Dat[superv_SEQUENCE_ALPHA]\n",
      "Appended self.Dat[superv_COLOR_ON]\n",
      "Appended self.Dat[superv_COLOR_ITEMS_FADE_TO_DEFAULT_BINSTR]\n",
      "Appended self.Dat[superv_COLOR_METHOD]\n",
      "Appended self.Dat[superv_GUIDEDYN_ON]\n",
      "Appended self.Dat[superv_VISUALFB_METH]\n",
      "appended col to self.Dat:\n",
      "supervision_stage_new\n",
      "Computing features each probe\n",
      "[taskgroup_reassign_by_mapper], reassigned values in column: taskgroup\n",
      "[taskgroup_reassign_by_mapper], reassigned values in column: taskgroup\n",
      "GROUPING epoch\n",
      "GROUPING_LEVELS ['base', 'llCV3']\n",
      "FEATURE_NAMES ['hdoffline', 'num_strokes_beh', 'num_strokes_task', 'circ', 'dist']\n",
      "SCORE_COL_NAMES []\n",
      "appended col to self.Dat:\n",
      "date_epoch\n",
      "Appended self.Dat[superv_SEQUENCE_SUP]\n",
      "Appended self.Dat[superv_COLOR_ON]\n",
      "Appended self.Dat[superv_COLOR_METHOD]\n",
      "Appended self.Dat[superv_COLOR_ITEMS_FADE_TO_DEFAULT_BINSTR]\n",
      "Appended self.Dat[superv_GUIDEDYN_ON]\n",
      "appended col to self.Dat:\n",
      "supervision_stage_concise\n",
      "Append column to self.Dat:  supervision_stage_semantic\n",
      "Extracted into self.Dat[epoch_orig]\n",
      "For n_clusters = 6 The average silhouette_score is : 0.5332734644708169\n",
      "For n_clusters = 7 The average silhouette_score is : 0.6030777572822473\n",
      "For n_clusters = 8 The average silhouette_score is : 0.6034801985718763\n",
      "For n_clusters = 9 The average silhouette_score is : 0.6064165258649944\n",
      "For n_clusters = 10 The average silhouette_score is : 0.6083345138640766\n",
      "For n_clusters = 11 The average silhouette_score is : 0.5880788341952374\n",
      "For n_clusters = 12 The average silhouette_score is : 0.6319563596581106\n",
      "For n_clusters = 13 The average silhouette_score is : 0.6330759513974749\n",
      "For n_clusters = 14 The average silhouette_score is : 0.6427047865658388\n",
      "For n_clusters = 15 The average silhouette_score is : 0.6612762757244752\n",
      "For n_clusters = 16 The average silhouette_score is : 0.6799876593533465\n",
      "For n_clusters = 17 The average silhouette_score is : 0.6880965654153948\n",
      "For n_clusters = 18 The average silhouette_score is : 0.7034873729871759\n",
      "For n_clusters = 19 The average silhouette_score is : 0.712665468904789\n",
      "For n_clusters = 20 The average silhouette_score is : 0.7316540041273012\n",
      "For n_clusters = 21 The average silhouette_score is : 0.7306431008961652\n",
      "For n_clusters = 22 The average silhouette_score is : 0.7156014820014441\n",
      "For n_clusters = 23 The average silhouette_score is : 0.7006129482924256\n",
      "For n_clusters = 24 The average silhouette_score is : 0.6804339856247686\n",
      "For n_clusters = 25 The average silhouette_score is : 0.666121850985453\n",
      "For n_clusters = 26 The average silhouette_score is : 0.6540593437392354\n",
      "Using n_clusters = 20\n",
      "SAVING at:  /gorilla1/analyses/main/preprocess_general/Diego_230817_dirgrammardiego5c\n",
      "For n_clusters = 4 The average silhouette_score is : 0.465322318622674\n",
      "For n_clusters = 5 The average silhouette_score is : 0.5730596829567949\n",
      "For n_clusters = 6 The average silhouette_score is : 0.6551132388197092\n",
      "For n_clusters = 7 The average silhouette_score is : 0.7806259317338328\n",
      "For n_clusters = 8 The average silhouette_score is : 0.755902847435022\n",
      "For n_clusters = 9 The average silhouette_score is : 0.7243544434798036\n",
      "For n_clusters = 10 The average silhouette_score is : 0.6837461234128415\n",
      "For n_clusters = 11 The average silhouette_score is : 0.6371774786750609\n",
      "For n_clusters = 12 The average silhouette_score is : 0.6314508613730583\n",
      "For n_clusters = 13 The average silhouette_score is : 0.5719942526497019\n",
      "For n_clusters = 14 The average silhouette_score is : 0.5403515096632739\n",
      "For n_clusters = 15 The average silhouette_score is : 0.5442298691811445\n",
      "For n_clusters = 16 The average silhouette_score is : 0.5399336346580748\n",
      "For n_clusters = 17 The average silhouette_score is : 0.49425625738609325\n",
      "For n_clusters = 18 The average silhouette_score is : 0.46010637655741393\n",
      "For n_clusters = 19 The average silhouette_score is : 0.48100806347526603\n",
      "For n_clusters = 20 The average silhouette_score is : 0.44558093946552224\n",
      "For n_clusters = 21 The average silhouette_score is : 0.4417358268543715\n",
      "For n_clusters = 22 The average silhouette_score is : 0.44460000176546877\n",
      "For n_clusters = 23 The average silhouette_score is : 0.42922429124157896\n",
      "For n_clusters = 24 The average silhouette_score is : 0.4166170751118265\n",
      "For n_clusters = 25 The average silhouette_score is : 0.40275820031949305\n",
      "For n_clusters = 26 The average silhouette_score is : 0.40728517436626016\n",
      "Using n_clusters = 7\n",
      "ndims for feature loc_on = 2\n",
      "New colname in tokens: loc_on_binned\n",
      "ndims for feature angle = 1\n",
      "New colname in tokens: angle_binned\n",
      "ndims for feature center = 2\n",
      "New colname in tokens: center_binned\n",
      "ndims for feature center = 2\n",
      "New colname in tokens: center_binned\n",
      "ndims for feature center = 2\n",
      "New colname in tokens: center_binned\n",
      "0\n",
      "100\n",
      "200\n",
      "300\n",
      "400\n",
      "500\n",
      "600\n",
      "700\n",
      "This many strokes extracted:  4439\n",
      "DONE!\n",
      "Appended epoch to self.Dat\n",
      "Appended character to self.Dat\n",
      "Basis set of strokes: ['Lcentered-4-1-0', 'Lcentered-4-2-0', 'Lcentered-4-3-0', 'Lcentered-4-4-0', 'V-2-2-0', 'V-2-3-0', 'V-2-4-0', 'arcdeep-4-2-0', 'arcdeep-4-3-0', 'arcdeep-4-4-0', 'circle-6-1-0', 'line-8-1-0', 'line-8-2-0', 'line-8-3-0', 'line-8-4-0', 'squiggle3-3-1-0', 'squiggle3-3-1-1', 'squiggle3-3-2-0', 'squiggle3-3-2-1', 'usquare-1-2-0', 'usquare-1-3-0', 'usquare-1-4-0', 'zigzagSq-1-1-0', 'zigzagSq-1-1-1', 'zigzagSq-1-2-0', 'zigzagSq-1-2-1']\n",
      "Deleting these columns with seqc in name: []\n",
      "Appended columns gridsize!\n",
      "... Generated these...\n",
      "self.BehTrialMapList [(1, 0)]\n",
      "self.BehTrialMapListGood {0: (0, 1), 1: (0, 2), 2: (0, 3), 3: (0, 4), 4: (0, 5), 5: (0, 6), 6: (0, 7), 7: (0, 8), 8: (0, 9), 9: (0, 10), 10: (0, 11), 11: (0, 12), 12: (0, 13), 13: (0, 14), 14: (0, 15), 15: (0, 16), 16: (0, 17), 17: (0, 18), 18: (0, 19), 19: (0, 20), 20: (0, 21), 21: (0, 22), 22: (0, 23), 23: (0, 24), 24: (0, 25), 25: (0, 26), 26: (0, 27), 27: (0, 28), 28: (0, 29), 29: (0, 30), 30: (0, 31), 31: (0, 32), 32: (0, 33), 33: (0, 34), 34: (0, 35), 35: (0, 36), 36: (0, 37), 37: (0, 38), 38: (0, 39), 39: (0, 40), 40: (0, 41), 41: (0, 42), 42: (0, 43), 43: (0, 44), 44: (0, 45), 45: (0, 46), 46: (0, 47), 47: (0, 48), 48: (0, 49), 49: (0, 50), 50: (0, 51), 51: (0, 52), 52: (0, 53), 53: (0, 54), 54: (0, 55), 55: (0, 56), 56: (0, 57), 57: (0, 58), 58: (0, 59), 59: (0, 60), 60: (0, 61), 61: (0, 62), 62: (0, 63), 63: (0, 64), 64: (0, 65), 65: (0, 66), 66: (0, 67), 67: (0, 68), 68: (0, 69), 69: (0, 70), 70: (0, 71), 71: (0, 72), 72: (0, 73), 73: (0, 74), 74: (0, 75), 75: (0, 76), 76: (0, 77), 77: (0, 78), 78: (0, 79), 79: (0, 80), 80: (0, 81), 81: (0, 82), 82: (0, 83), 83: (0, 84), 84: (0, 85), 85: (0, 86), 86: (0, 87), 87: (0, 88), 88: (0, 89), 89: (0, 90), 90: (0, 91), 91: (0, 92), 92: (0, 93), 93: (0, 94), 94: (0, 95), 95: (0, 96), 96: (0, 97), 97: (0, 98), 98: (0, 99), 99: (0, 100), 100: (0, 101), 101: (0, 102), 102: (0, 103), 103: (0, 104), 104: (0, 105), 105: (0, 106), 106: (0, 107), 107: (0, 108), 108: (0, 109), 109: (0, 110), 110: (0, 111), 111: (0, 112), 112: (0, 113), 113: (0, 114), 114: (0, 115), 115: (0, 116), 116: (0, 117), 117: (0, 118), 118: (0, 119), 119: (0, 120), 120: (0, 121), 121: (0, 122), 122: (0, 123), 123: (0, 124), 124: (0, 125), 125: (0, 126), 126: (0, 127), 127: (0, 128), 128: (0, 129), 129: (0, 130), 130: (0, 131), 131: (0, 132), 132: (0, 133), 133: (0, 134), 134: (0, 135), 135: (0, 136), 136: (0, 137), 137: (0, 138), 138: (0, 139), 139: (0, 140), 140: (0, 141), 141: (0, 142), 142: (0, 143), 143: (0, 144), 144: (0, 145), 145: (0, 146), 146: (0, 147), 147: (0, 148), 148: (0, 149), 149: (0, 150), 150: (0, 151), 151: (0, 152), 152: (0, 153), 153: (0, 154), 154: (0, 155), 155: (0, 156), 156: (0, 157), 157: (0, 158), 158: (0, 159), 159: (0, 160), 160: (0, 161), 161: (0, 162), 162: (0, 163), 163: (0, 164), 164: (0, 165), 165: (0, 166), 166: (0, 167), 167: (0, 168), 168: (0, 169), 169: (0, 170), 170: (0, 171), 171: (0, 172), 172: (0, 173), 173: (0, 174), 174: (0, 175), 175: (0, 176), 176: (0, 177), 177: (0, 178), 178: (0, 179), 179: (0, 180), 180: (0, 181), 181: (0, 182), 182: (0, 183), 183: (0, 184), 184: (0, 185), 185: (0, 186), 186: (0, 187), 187: (0, 188), 188: (0, 189), 189: (0, 190), 190: (0, 191), 191: (0, 192), 192: (0, 193), 193: (0, 194), 194: (0, 195), 195: (0, 196), 196: (0, 197), 197: (0, 198), 198: (0, 199), 199: (0, 200), 200: (0, 201), 201: (0, 202), 202: (0, 203), 203: (0, 204), 204: (0, 205), 205: (0, 206), 206: (0, 207), 207: (0, 208), 208: (0, 209), 209: (0, 210), 210: (0, 211), 211: (0, 212), 212: (0, 213), 213: (0, 214), 214: (0, 215), 215: (0, 216), 216: (0, 217), 217: (0, 218), 218: (0, 219), 219: (0, 220), 220: (0, 221), 221: (0, 222), 222: (0, 223), 223: (0, 224), 224: (0, 225), 225: (0, 226), 226: (0, 227), 227: (0, 228), 228: (0, 229), 229: (0, 230), 230: (0, 231), 231: (0, 232), 232: (0, 233), 233: (0, 234), 234: (0, 235), 235: (0, 236), 236: (0, 237), 237: (0, 238), 238: (0, 239), 239: (0, 240), 240: (0, 241), 241: (0, 242), 242: (0, 243), 243: (0, 244), 244: (0, 245), 245: (0, 246), 246: (0, 247), 247: (0, 248), 248: (0, 249), 249: (0, 250), 250: (0, 251), 251: (0, 252), 252: (0, 253), 253: (0, 254), 254: (0, 255), 255: (0, 256), 256: (0, 257), 257: (0, 258), 258: (0, 259), 259: (0, 260), 260: (0, 261), 261: (0, 262), 262: (0, 263), 263: (0, 264), 264: (0, 265), 265: (0, 266), 266: (0, 267), 267: (0, 268), 268: (0, 269), 269: (0, 270), 270: (0, 271), 271: (0, 272), 272: (0, 273), 273: (0, 274), 274: (0, 275), 275: (0, 276), 276: (0, 277), 277: (0, 278), 278: (0, 279), 279: (0, 280), 280: (0, 281), 281: (0, 282), 282: (0, 283), 283: (0, 284), 284: (0, 285), 285: (0, 286), 286: (0, 287), 287: (0, 288), 288: (0, 289), 289: (0, 290), 290: (0, 291), 291: (0, 292), 292: (0, 293), 293: (0, 294), 294: (0, 295), 295: (0, 296), 296: (0, 297), 297: (0, 298), 298: (0, 299), 299: (0, 300), 300: (0, 301), 301: (0, 302), 302: (0, 303), 303: (0, 304), 304: (0, 305), 305: (0, 306), 306: (0, 307), 307: (0, 308), 308: (0, 309), 309: (0, 310), 310: (0, 311), 311: (0, 312), 312: (0, 313), 313: (0, 314), 314: (0, 315), 315: (0, 316), 316: (0, 317), 317: (0, 318), 318: (0, 319), 319: (0, 320), 320: (0, 321), 321: (0, 322), 322: (0, 323), 323: (0, 324), 324: (0, 325), 325: (0, 326), 326: (0, 327), 327: (0, 328), 328: (0, 329), 329: (0, 330), 330: (0, 331), 331: (0, 332), 332: (0, 333), 333: (0, 334), 334: (0, 335), 335: (0, 336), 336: (0, 337), 337: (0, 338), 338: (0, 339), 339: (0, 340), 340: (0, 341), 341: (0, 342), 342: (0, 343), 343: (0, 344), 344: (0, 345), 345: (0, 346), 346: (0, 347), 347: (0, 348), 348: (0, 349), 349: (0, 350), 350: (0, 351), 351: (0, 352), 352: (0, 353), 353: (0, 354), 354: (0, 355), 355: (0, 356), 356: (0, 357), 357: (0, 358), 358: (0, 359), 359: (0, 360), 360: (0, 361), 361: (0, 362), 362: (0, 363), 363: (0, 364), 364: (0, 365), 365: (0, 366), 366: (0, 367), 367: (0, 368), 368: (0, 369), 369: (0, 370), 370: (0, 371), 371: (0, 372), 372: (0, 373), 373: (0, 374), 374: (0, 375), 375: (0, 376), 376: (0, 377), 377: (0, 378), 378: (0, 379), 379: (0, 380), 380: (0, 381), 381: (0, 382), 382: (0, 383), 383: (0, 384), 384: (0, 385), 385: (0, 386), 386: (0, 387), 387: (0, 388), 388: (0, 389), 389: (0, 390), 390: (0, 391), 391: (0, 392), 392: (0, 393), 393: (0, 394), 394: (0, 395), 395: (0, 396), 396: (0, 397), 397: (0, 398), 398: (0, 399), 399: (0, 400), 400: (0, 401), 401: (0, 402), 402: (0, 403), 403: (0, 404), 404: (0, 405), 405: (0, 406), 406: (0, 407), 407: (0, 408), 408: (0, 409), 409: (0, 410), 410: (0, 411), 411: (0, 412), 412: (0, 413), 413: (0, 414), 414: (0, 415), 415: (0, 416), 416: (0, 417), 417: (0, 418), 418: (0, 419), 419: (0, 420), 420: (0, 421), 421: (0, 422), 422: (0, 423), 423: (0, 424), 424: (0, 425), 425: (0, 426), 426: (0, 427), 427: (0, 428), 428: (0, 429), 429: (0, 430), 430: (0, 431), 431: (0, 432), 432: (0, 433), 433: (0, 434), 434: (0, 435), 435: (0, 436), 436: (0, 437), 437: (0, 438), 438: (0, 439), 439: (0, 440), 440: (0, 441), 441: (0, 442), 442: (0, 443), 443: (0, 444), 444: (0, 445), 445: (0, 446), 446: (0, 447), 447: (0, 448), 448: (0, 449), 449: (0, 450), 450: (0, 451), 451: (0, 452), 452: (0, 453), 453: (0, 454), 454: (0, 455), 455: (0, 456), 456: (0, 457), 457: (0, 458), 458: (0, 459), 459: (0, 460), 460: (0, 461), 461: (0, 462), 462: (0, 463), 463: (0, 464), 464: (0, 465), 465: (0, 466), 466: (0, 467), 467: (0, 468), 468: (0, 469), 469: (0, 470), 470: (0, 471), 471: (0, 472), 472: (0, 473), 473: (0, 474), 474: (0, 475), 475: (0, 476), 476: (0, 477), 477: (0, 478), 478: (0, 479), 479: (0, 480), 480: (0, 481), 481: (0, 482), 482: (0, 483), 483: (0, 484), 484: (0, 485), 485: (0, 486), 486: (0, 487), 487: (0, 488), 488: (0, 489), 489: (0, 490), 490: (0, 491), 491: (0, 492), 492: (0, 493), 493: (0, 494), 494: (0, 495), 495: (0, 496), 496: (0, 497), 497: (0, 498), 498: (0, 499), 499: (0, 500), 500: (0, 501), 501: (0, 502), 502: (0, 503), 503: (0, 504), 504: (0, 505), 505: (0, 506), 506: (0, 507), 507: (0, 508), 508: (0, 509), 509: (0, 510), 510: (0, 511), 511: (0, 512), 512: (0, 513), 513: (0, 514), 514: (0, 515), 515: (0, 516), 516: (0, 517), 517: (0, 518), 518: (0, 519), 519: (0, 520), 520: (0, 521), 521: (0, 522), 522: (0, 523), 523: (0, 524), 524: (0, 525), 525: (0, 526), 526: (0, 527), 527: (0, 528), 528: (0, 529), 529: (0, 530), 530: (0, 531), 531: (0, 532), 532: (0, 533), 533: (0, 534), 534: (0, 535), 535: (0, 536), 536: (0, 537), 537: (0, 538), 538: (0, 539), 539: (0, 540), 540: (0, 541), 541: (0, 542), 542: (0, 543), 543: (0, 544), 544: (0, 545), 545: (0, 546), 546: (0, 547), 547: (0, 548), 548: (0, 549), 549: (0, 550), 550: (0, 551), 551: (0, 552), 552: (0, 553), 553: (0, 554), 554: (0, 555), 555: (0, 556), 556: (0, 557), 557: (0, 558), 558: (0, 559), 559: (0, 560), 560: (0, 561), 561: (0, 562), 562: (0, 563), 563: (0, 564), 564: (0, 565), 565: (0, 566), 566: (0, 567), 567: (0, 568), 568: (0, 569), 569: (0, 570), 570: (0, 571), 571: (0, 572), 572: (0, 573), 573: (0, 574), 574: (0, 575), 575: (0, 576), 576: (0, 577), 577: (0, 578), 578: (0, 579), 579: (0, 580), 580: (0, 581), 581: (0, 582), 582: (0, 583), 583: (0, 584), 584: (0, 585), 585: (0, 586), 586: (0, 587), 587: (0, 588), 588: (0, 589), 589: (0, 590), 590: (0, 591), 591: (0, 592), 592: (0, 593), 593: (0, 594), 594: (0, 595), 595: (0, 596), 596: (0, 597), 597: (0, 598), 598: (0, 599), 599: (0, 600), 600: (0, 601), 601: (0, 602), 602: (0, 603), 603: (0, 604), 604: (0, 605), 605: (0, 606), 606: (0, 607), 607: (0, 608), 608: (0, 609), 609: (0, 610), 610: (0, 611), 611: (0, 612), 612: (0, 613), 613: (0, 614), 614: (0, 615), 615: (0, 616), 616: (0, 617), 617: (0, 618), 618: (0, 619), 619: (0, 620), 620: (0, 621), 621: (0, 622), 622: (0, 623), 623: (0, 624), 624: (0, 625), 625: (0, 626), 626: (0, 627), 627: (0, 628), 628: (0, 629), 629: (0, 630), 630: (0, 631), 631: (0, 632), 632: (0, 633), 633: (0, 634), 634: (0, 635), 635: (0, 636), 636: (0, 637), 637: (0, 638), 638: (0, 639), 639: (0, 640), 640: (0, 641), 641: (0, 642), 642: (0, 643), 643: (0, 644), 644: (0, 645), 645: (0, 646), 646: (0, 647), 647: (0, 648), 648: (0, 649), 649: (0, 650), 650: (0, 651), 651: (0, 652), 652: (0, 653), 653: (0, 654), 654: (0, 655), 655: (0, 656), 656: (0, 657), 657: (0, 658), 658: (0, 659), 659: (0, 660), 660: (0, 661), 661: (0, 662), 662: (0, 663), 663: (0, 664), 664: (0, 665), 665: (0, 666), 666: (0, 667), 667: (0, 668), 668: (0, 669), 669: (0, 670), 670: (0, 671), 671: (0, 672), 672: (0, 673), 673: (0, 674), 674: (0, 675), 675: (0, 676), 676: (0, 677), 677: (0, 678), 678: (0, 679), 679: (0, 680), 680: (0, 681), 681: (0, 682), 682: (0, 683), 683: (0, 684), 684: (0, 685), 685: (0, 686), 686: (0, 687), 687: (0, 688), 688: (0, 689), 689: (0, 690), 690: (0, 691), 691: (0, 692), 692: (0, 693), 693: (0, 694), 694: (0, 695), 695: (0, 696), 696: (0, 697), 697: (0, 698), 698: (0, 699), 699: (0, 700), 700: (0, 701), 701: (0, 702), 702: (0, 703), 703: (0, 704), 704: (0, 705), 705: (0, 706), 706: (0, 707), 707: (0, 708), 708: (0, 709), 709: (0, 710), 710: (0, 711), 711: (0, 712), 712: (0, 713), 713: (0, 714), 714: (0, 715), 715: (0, 716), 716: (0, 717), 717: (0, 718), 718: (0, 719), 719: (0, 720), 720: (0, 721), 721: (0, 722), 722: (0, 723), 723: (0, 724), 724: (0, 725), 725: (0, 726), 726: (0, 727), 727: (0, 728), 728: (0, 729), 729: (0, 730), 730: (0, 731), 731: (0, 732), 732: (0, 733), 733: (0, 734), 734: (0, 735), 735: (0, 736), 736: (0, 737), 737: (0, 738), 738: (0, 739), 739: (0, 740), 740: (0, 741), 741: (0, 742), 742: (0, 743), 743: (0, 744), 744: (0, 745), 745: (0, 746), 746: (0, 747), 747: (0, 748), 748: (0, 749), 749: (0, 750), 750: (0, 751), 751: (0, 752), 752: (0, 753), 753: (0, 754), 754: (0, 755), 755: (0, 756), 756: (0, 757), 757: (0, 758), 758: (0, 759), 759: (0, 760), 760: (0, 761), 761: (0, 762), 762: (0, 763), 763: (0, 764), 764: (0, 765), 765: (0, 766), 766: (0, 767), 767: (0, 768), 768: (0, 769), 769: (0, 770), 770: (0, 771), 771: (0, 772), 772: (0, 773), 773: (0, 774), 774: (0, 775), 775: (0, 776), 776: (0, 777), 777: (0, 778), 778: (0, 779), 779: (0, 780), 780: (0, 781), 781: (0, 782), 782: (0, 783), 783: (0, 784), 784: (0, 785), 785: (0, 786), 786: (0, 787), 787: (0, 788), 788: (0, 789), 789: (0, 790), 790: (0, 791), 791: (0, 792), 792: (0, 793), 793: (0, 794), 794: (0, 795), 795: (0, 796), 796: (0, 797), 797: (0, 798), 798: (0, 799), 799: (0, 800), 800: (0, 801), 801: (0, 802), 802: (0, 803), 803: (0, 804), 804: (0, 805), 805: (0, 806), 806: (0, 807), 807: (0, 808), 808: (0, 809), 809: (0, 810), 810: (0, 811), 811: (0, 812), 812: (0, 813), 813: (0, 814), 814: (0, 815), 815: (0, 816), 816: (0, 817), 817: (0, 818), 818: (0, 819), 819: (0, 820), 820: (0, 821), 821: (0, 822), 822: (0, 823), 823: (0, 824), 824: (0, 825), 825: (0, 826), 826: (0, 827), 827: (0, 828), 828: (0, 829), 829: (0, 830), 830: (0, 831), 831: (0, 832), 832: (0, 833), 833: (0, 834), 834: (0, 835), 835: (0, 836), 836: (0, 837), 837: (0, 838), 838: (0, 839), 839: (0, 840), 840: (0, 841), 841: (0, 842), 842: (0, 843), 843: (0, 844), 844: (0, 845), 845: (0, 846), 846: (0, 847), 847: (0, 848), 848: (0, 849), 849: (0, 850), 850: (0, 851), 851: (0, 852), 852: (0, 853), 853: (0, 854), 854: (0, 855), 855: (0, 856), 856: (0, 857), 857: (0, 858), 858: (0, 859), 859: (0, 860), 860: (0, 861), 861: (0, 862), 862: (0, 863), 863: (0, 864), 864: (0, 865), 865: (0, 866), 866: (0, 867), 867: (0, 868), 868: (0, 869), 869: (0, 870), 870: (0, 871), 871: (0, 872), 872: (0, 873), 873: (0, 874), 874: (0, 875), 875: (0, 876), 876: (0, 877), 877: (0, 878), 878: (0, 879), 879: (0, 880), 880: (0, 881), 881: (0, 882), 882: (0, 883), 883: (0, 884), 884: (0, 885), 885: (0, 886), 886: (0, 887), 887: (0, 888), 888: (0, 889), 889: (0, 890), 890: (0, 891), 891: (0, 892), 892: (0, 893), 893: (0, 894), 894: (0, 895), 895: (0, 896), 896: (0, 897), 897: (0, 898), 898: (0, 899), 899: (0, 900), 900: (0, 901), 901: (0, 902), 902: (0, 903), 903: (0, 904), 904: (0, 905), 905: (0, 906), 906: (0, 907), 907: (0, 908), 908: (0, 909), 909: (0, 910), 910: (0, 911), 911: (0, 912), 912: (0, 913), 913: (0, 914), 914: (0, 915), 915: (0, 916), 916: (0, 917), 917: (0, 918), 918: (0, 919), 919: (0, 920), 920: (0, 921), 921: (0, 922), 922: (0, 923), 923: (0, 924), 924: (0, 925), 925: (0, 926), 926: (0, 927), 927: (0, 928), 928: (0, 929), 929: (0, 930), 930: (0, 931), 931: (0, 932), 932: (0, 933), 933: (0, 934), 934: (0, 935), 935: (0, 936), 936: (0, 937), 937: (0, 938), 938: (0, 939), 939: (0, 940), 940: (0, 941), 941: (0, 942), 942: (0, 943), 943: (0, 944), 944: (0, 945), 945: (0, 946), 946: (0, 947), 947: (0, 948), 948: (0, 949), 949: (0, 950), 950: (0, 951), 951: (0, 952), 952: (0, 953), 953: (0, 954), 954: (0, 955), 955: (0, 956), 956: (0, 957), 957: (0, 958), 958: (0, 959), 959: (0, 960), 960: (0, 961), 961: (0, 962), 962: (0, 963), 963: (0, 964), 964: (0, 965), 965: (0, 966), 966: (0, 967), 967: (0, 968), 968: (0, 969), 969: (0, 970), 970: (0, 971), 971: (0, 972), 972: (0, 973), 973: (0, 974), 974: (0, 975), 975: (0, 976), 976: (0, 977), 977: (0, 978), 978: (0, 979), 979: (0, 980), 980: (0, 981), 981: (0, 982), 982: (0, 983), 983: (0, 984), 984: (0, 985), 985: (0, 986), 986: (0, 987), 987: (0, 988), 988: (0, 989), 989: (0, 990), 990: (0, 991), 991: (0, 992), 992: (0, 993), 993: (0, 994), 994: (0, 995), 995: (0, 996), 996: (0, 997), 997: (0, 998), 998: (0, 999), 999: (0, 1000), 1000: (0, 1001), 1001: (0, 1002), 1002: (0, 1003), 1003: (0, 1004), 1004: (0, 1005), 1005: (0, 1006), 1006: (0, 1007), 1007: (0, 1008), 1008: (0, 1009), 1009: (0, 1010), 1010: (0, 1011), 1011: (0, 1012), 1012: (0, 1013), 1013: (0, 1014), 1014: (0, 1015), 1015: (0, 1016), 1016: (0, 1017), 1017: (0, 1018), 1018: (0, 1019), 1019: (0, 1020), 1020: (0, 1021), 1021: (0, 1022), 1022: (0, 1023), 1023: (0, 1024), 1024: (0, 1025), 1025: (0, 1026), 1026: (0, 1027), 1027: (0, 1028), 1028: (0, 1029), 1029: (0, 1030), 1030: (0, 1031), 1031: (0, 1032), 1032: (0, 1033), 1033: (0, 1034), 1034: (0, 1035), 1035: (0, 1036), 1036: (0, 1037), 1037: (0, 1038), 1038: (0, 1039), 1039: (0, 1040), 1040: (0, 1041), 1041: (0, 1042), 1042: (0, 1043), 1043: (0, 1044), 1044: (0, 1045), 1045: (0, 1046), 1046: (0, 1047), 1047: (0, 1048), 1048: (0, 1049), 1049: (0, 1050), 1050: (0, 1051), 1051: (0, 1052), 1052: (0, 1053), 1053: (0, 1054), 1054: (0, 1055), 1055: (0, 1056), 1056: (0, 1057), 1057: (0, 1058), 1058: (0, 1059), 1059: (0, 1060), 1060: (0, 1061), 1061: (0, 1062), 1062: (0, 1063), 1063: (0, 1064), 1064: (0, 1065), 1065: (0, 1066), 1066: (0, 1067), 1067: (0, 1068), 1068: (0, 1069), 1069: (0, 1070), 1070: (0, 1071), 1071: (0, 1072), 1072: (0, 1073), 1073: (0, 1074), 1074: (0, 1075), 1075: (0, 1076), 1076: (0, 1077), 1077: (0, 1078), 1078: (0, 1079), 1079: (0, 1080), 1080: (0, 1081), 1081: (0, 1082), 1082: (0, 1083), 1083: (0, 1084), 1084: (0, 1085), 1085: (0, 1086), 1086: (0, 1087), 1087: (0, 1088), 1088: (0, 1089), 1089: (0, 1090), 1090: (0, 1091), 1091: (0, 1092), 1092: (0, 1093), 1093: (0, 1094), 1094: (0, 1095), 1095: (0, 1096), 1096: (0, 1097), 1097: (0, 1098), 1098: (0, 1099), 1099: (0, 1100), 1100: (0, 1101), 1101: (0, 1102), 1102: (0, 1103), 1103: (0, 1104), 1104: (0, 1105), 1105: (0, 1106), 1106: (0, 1107), 1107: (0, 1108), 1108: (0, 1109), 1109: (0, 1110), 1110: (0, 1111), 1111: (0, 1112), 1112: (0, 1113), 1113: (0, 1114), 1114: (0, 1115), 1115: (0, 1116), 1116: (0, 1117), 1117: (0, 1118)}\n",
      "Generated self._MapperTrialcode2TrialToTrial!\n",
      "- Keeping only dataset trials that exist in self.Dat\n",
      "Starting length:  741\n",
      "self.Dat modified!!\n",
      "Ending length:  741\n",
      "**Loaded dataset! daily\n",
      "Pruning events in EventsTimeUsingPhd to exclude those using datasetbeh strokes...\n",
      "Extracted into self.Dat[epoch_orig]\n",
      "-- loaded presaved data: /mnt/Freiwald_kgupta/kgupta/macaque_data/Diego/230817/230817_150128_dirgrammardiego5c_Diego_1.pkl\n",
      "Extracted successfully for session:  0\n",
      "Generated index mappers!\n",
      "Question: PIG_BASE_stroke\n",
      "These questions params:\n",
      "effect_vars  --  ['shape_oriented']\n",
      "exclude_last_stroke  --  False\n",
      "exclude_first_stroke  --  False\n",
      "keep_only_first_stroke  --  False\n",
      "min_taskstrokes  --  1\n",
      "max_taskstrokes  --  20\n",
      "THRESH_clust_sim_max  --  None\n",
      "distmat_animal  --  None\n",
      "distmat_date  --  None\n",
      "distmat_distance_ver  --  None\n",
      "list_which_level  --  ['stroke']\n",
      "events_keep  --  None\n",
      "plot_pairwise_distmats_variables  --  None\n",
      "plot_pairwise_distmats_twinds  --  None\n",
      "slice_agg_slices  --  None\n",
      "slice_agg_vars_to_split  --  None\n",
      "list_subtract_mean_each_level_of_var  --  [None]\n",
      "list_vars_test_invariance_over_dict  --  [None]\n",
      "dict_vars_levels_prune  --  None\n",
      "ANALY_VER  --  seqcontext\n",
      "list_time_windows  --  [(-0.5, -0.3), (-0.3, -0.1), (-0.1, 0.1), (0.1, 0.3), (0.3, 0.5)]\n",
      "** NOT SKIPPING EXTRACTION, since was not able to load snippets, for: \n",
      "(animal, DATE, which_level, session)\n",
      "Diego 230817 stroke 0\n",
      "Starting length of D.Dat: 741\n",
      "--BEFORE REMOVE; existing supervision_stage_concise:\n",
      "off|1|solid|1101|0     664\n",
      "off|0||1111|0           59\n",
      "mask|1|solid|1101|0     18\n",
      "Name: supervision_stage_concise, dtype: int64\n",
      "############ NOT PRUNING SUPERVISION TRIALS\n",
      "Dataset final len: 741\n",
      "*** RUNNING D.preprocessGood using these params:\n",
      "['sanity_gridloc_identical']\n",
      "-- Len of D, before applying this param: sanity_gridloc_identical, ... 741\n",
      "Success! all gridloc identical!\n",
      "These are the x and y mappings, gridloc:loc\n",
      "x... {-1: -1.0, 1: 0.75, 0: -0.125, -2: -1.875, 2: 1.625}\n",
      "y... {-1: -1.525, 1: 1.625, 0: 0.05}\n",
      "after: 741\n",
      "Kept these events:  []\n",
      "\n",
      " == extarcating these sites:  [1, 2, 3, 4, 5, 6, 7, 8, 9, 10, 11, 12, 14, 15, 16, 17, 18, 19, 20, 21, 22, 23, 24, 25, 26, 27, 28, 29, 30, 31, 32, 33, 34, 35, 37, 38, 39, 40, 42, 44, 46, 47, 48, 49, 50, 51, 52, 53, 54, 55, 56, 57, 58, 61, 62, 65, 66, 67, 68, 69, 70, 71, 72, 73, 74, 75, 76, 77, 78, 79, 80, 81, 82, 83, 84, 85, 86, 87, 88, 89, 90, 91, 92, 93, 94, 95, 96, 97, 98, 99, 101, 102, 103, 104, 105, 106, 107, 108, 109, 110, 111, 112, 113, 114, 115, 116, 118, 119, 120, 121, 122, 123, 124, 125, 126, 127, 128, 129, 130, 131, 132, 133, 134, 135, 137, 139, 143, 145, 146, 147, 148, 149, 150, 151, 152, 153, 154, 155, 156, 157, 158, 159, 161, 162, 165, 177, 178, 179, 182, 183, 184, 185, 186, 188, 189, 191, 225, 226, 227, 228, 229, 230, 231, 232, 233, 234, 235, 236, 237, 238, 239, 240, 242, 243, 244, 245, 246, 247, 248, 249, 250, 251, 252, 253, 254, 255, 256, 257, 258, 259, 260, 261, 262, 263, 264, 265, 266, 267, 268, 269, 270, 271, 272, 273, 274, 275, 276, 277, 278, 279, 280, 281, 282, 283, 284, 285, 286, 287, 289, 290, 293, 294, 295, 296, 297, 298, 299, 300, 301, 302, 303, 304, 305, 307, 308, 309, 310, 311, 312, 313, 314, 315, 316, 317, 319, 321, 322, 323, 324, 325, 326, 327, 328, 329, 330, 331, 332, 334, 336, 337, 339, 341, 342, 343, 344, 345, 347, 348, 349, 350, 351, 352, 353, 354, 355, 356, 357, 358, 359, 360, 361, 362, 363, 364, 365, 366, 367, 368, 369, 370, 371, 372, 373, 374, 375, 376, 377, 378, 379, 380, 381, 382, 383, 384, 385, 386, 387, 388, 389, 390, 391, 392, 393, 394, 395, 396, 397, 398, 399, 400, 401, 402, 403, 404, 405, 406, 407, 408, 409, 410, 411, 412, 413, 414, 415, 416, 417, 418, 419, 420, 421, 422, 423, 424, 425, 426, 427, 428, 429, 430, 431, 432, 433, 434, 435, 436, 437, 438, 439, 440, 441, 442, 443, 444, 445, 446, 447, 448, 449, 450, 451, 452, 453, 454, 455, 456, 458, 459, 460, 461, 462, 463, 464, 465, 466, 467, 468, 469, 470, 471, 472, 474, 475, 476, 477, 478, 479, 480, 481, 482, 483, 484, 485, 486, 487, 488, 490, 491, 492, 493, 494, 495, 496, 497, 498, 499, 500, 501, 502, 503, 504, 505, 506, 507, 508, 510, 511, 512]\n",
      "0\n",
      "100\n",
      "200\n",
      "300\n",
      "400\n",
      "500\n",
      "600\n",
      "700\n",
      "This many strokes extracted:  4439\n",
      "DONE!\n",
      "Appended epoch to self.Dat\n",
      "Appended character to self.Dat\n",
      "\n",
      " == extracting these trials:  [0, 1, 2, 3, 4, 5, 6, 7, 8, 9, 10, 11, 12, 13, 14, 15, 16, 17, 18, 19, 20, 22, 23, 24, 25, 26, 27, 28, 29, 30, 31, 32, 33, 34, 35, 36, 37, 38, 39, 40, 41, 42, 43, 44, 45, 46, 47, 48, 49, 50, 51, 52, 53, 54, 55, 56, 57, 58, 59, 60, 61, 62, 63, 64, 65, 66, 67, 68, 69, 70, 71, 72, 74, 75, 77, 78, 79, 80, 81, 82, 83, 84, 85, 86, 87, 88, 89, 90, 91, 93, 94, 95, 96, 97, 98, 99, 100, 101, 102, 103, 104, 105, 106, 107, 108, 109, 110, 111, 112, 113, 114, 115, 116, 117, 118, 119, 120, 122, 123, 124, 125, 126, 127, 128, 129, 130, 131, 132, 133, 134, 135, 139, 140, 141, 142, 143, 145, 146, 147, 148, 149, 150, 151, 152, 153, 155, 156, 157, 158, 159, 160, 162, 163, 164, 165, 166, 167, 169, 170, 171, 172, 173, 174, 175, 176, 177, 178, 179, 180, 181, 182, 183, 184, 186, 187, 188, 189, 190, 191, 192, 193, 194, 195, 196, 197, 198, 199, 200, 201, 202, 203, 204, 205, 206, 207, 208, 209, 210, 211, 214, 215, 216, 217, 218, 219, 220, 221, 222, 223, 224, 225, 226, 227, 229, 230, 231, 232, 233, 234, 235, 237, 238, 239, 240, 241, 242, 243, 244, 245, 246, 247, 248, 249, 250, 251, 252, 253, 254, 255, 256, 257, 258, 266, 267, 268, 269, 270, 271, 272, 273, 274, 275, 276, 277, 278, 280, 281, 282, 284, 305, 306, 307, 308, 309, 311, 312, 313, 317, 318, 325, 326, 327, 328, 329, 330, 331, 332, 333, 334, 341, 342, 343, 387, 388, 389, 390, 391, 392, 393, 394, 395, 396, 397, 398, 399, 400, 401, 402, 403, 404, 405, 406, 407, 408, 409, 410, 411, 412, 413, 414, 415, 416, 417, 418, 419, 420, 421, 423, 424, 425, 426, 427, 428, 429, 430, 431, 432, 433, 434, 435, 436, 437, 438, 439, 440, 441, 442, 443, 454, 493, 494, 495, 496, 498, 499, 500, 501, 502, 503, 504, 505, 507, 508, 510, 511, 512, 513, 514, 515, 516, 517, 519, 520, 521, 522, 523, 525, 527, 528, 529, 531, 532, 533, 534, 535, 536, 539, 542, 543, 544, 545, 546, 547, 548, 549, 550, 551, 552, 553, 554, 555, 556, 557, 558, 559, 560, 561, 562, 563, 564, 565, 567, 568, 569, 570, 571, 572, 573, 574, 575, 577, 578, 580, 581, 582, 583, 584, 585, 586, 587, 588, 589, 590, 591, 592, 593, 594, 595, 596, 597, 599, 600, 602, 653, 654, 656, 657, 658, 659, 660, 661, 662, 663, 664, 665, 666, 667, 668, 669, 670, 671, 672, 673, 674, 675, 676, 677, 678, 679, 680, 681, 682, 683, 684, 685, 686, 687, 689, 690, 691, 692, 693, 694, 695, 696, 697, 698, 699, 700, 701, 702, 703, 704, 705, 707, 708, 709, 710, 711, 783, 793, 804, 805, 806, 807, 808, 809, 810, 811, 812, 814, 815, 816, 817, 818, 819, 820, 821, 822, 823, 824, 825, 826, 827, 828, 831, 832, 833, 835, 836, 837, 838, 839, 840, 841, 842, 843, 844, 845, 846, 849, 850, 851, 852, 853, 854, 862, 865, 866, 867, 868, 869, 870, 871, 872, 873, 874, 875, 876, 877, 878, 879, 880, 882, 883, 884, 885, 886, 888, 889, 890, 891, 892, 893, 894, 896, 897, 899, 900, 902, 903, 904, 905, 906, 907, 908, 909, 910, 911, 912, 913, 914, 915, 916, 917, 918, 919, 920, 921, 922, 924, 925, 934, 936, 937, 938, 939, 940, 941, 942, 943, 944, 949, 950, 951, 952, 953, 954, 955, 956, 957, 960, 961, 962, 963, 966, 967, 968, 969, 970, 972, 973, 974, 977, 981, 985, 986, 988, 989, 990, 991, 992, 993, 995, 996, 997, 998, 999, 1000, 1001, 1002, 1003, 1004, 1005, 1006, 1007, 1008, 1009, 1010, 1011, 1012, 1013, 1014, 1015, 1016, 1017, 1018, 1019, 1020, 1021, 1022, 1023, 1024, 1025, 1026, 1027, 1028, 1029, 1030, 1031, 1032, 1033, 1034, 1035, 1036, 1037, 1038, 1039, 1040, 1041, 1042, 1043, 1044, 1045, 1046, 1048, 1049, 1050, 1053, 1054, 1055, 1056, 1059, 1060, 1061, 1062, 1063, 1064, 1065, 1066, 1067, 1068, 1069, 1070, 1071, 1072, 1074, 1075, 1076, 1077, 1079, 1080, 1081, 1082, 1083, 1085, 1086, 1087, 1088, 1089, 1090, 1091, 1092, 1093, 1094, 1095, 1096, 1097, 1098, 1099, 1100, 1101, 1102, 1103, 1105, 1106, 1108, 1109, 1110, 1111, 1112]\n",
      "Extracting, SN.snippets_extract_bystroke...\n",
      "index strokes:  0\n",
      "index strokes:  50\n",
      "index strokes:  100\n",
      "index strokes:  150\n",
      "index strokes:  200\n",
      "index strokes:  250\n",
      "index strokes:  300\n",
      "index strokes:  350\n",
      "index strokes:  400\n",
      "index strokes:  450\n",
      "index strokes:  500\n",
      "index strokes:  550\n",
      "index strokes:  600\n",
      "index strokes:  650\n",
      "index strokes:  700\n",
      "index strokes:  750\n",
      "index strokes:  800\n",
      "index strokes:  850\n",
      "index strokes:  900\n",
      "index strokes:  950\n",
      "index strokes:  1000\n",
      "index strokes:  1050\n",
      "index strokes:  1100\n",
      "index strokes:  1150\n",
      "index strokes:  1200\n",
      "index strokes:  1250\n",
      "index strokes:  1300\n",
      "index strokes:  1350\n",
      "index strokes:  1400\n",
      "index strokes:  1450\n",
      "index strokes:  1500\n",
      "index strokes:  1550\n",
      "index strokes:  1600\n",
      "index strokes:  1650\n",
      "index strokes:  1700\n",
      "index strokes:  1750\n",
      "index strokes:  1800\n",
      "index strokes:  1850\n",
      "index strokes:  1900\n",
      "index strokes:  1950\n",
      "index strokes:  2000\n",
      "index strokes:  2050\n",
      "index strokes:  2100\n",
      "index strokes:  2150\n",
      "index strokes:  2200\n",
      "index strokes:  2250\n",
      "index strokes:  2300\n",
      "index strokes:  2350\n",
      "index strokes:  2400\n",
      "index strokes:  2450\n",
      "index strokes:  2500\n",
      "index strokes:  2550\n",
      "index strokes:  2600\n",
      "index strokes:  2650\n",
      "index strokes:  2700\n",
      "index strokes:  2750\n",
      "index strokes:  2800\n",
      "index strokes:  2850\n",
      "index strokes:  2900\n",
      "index strokes:  2950\n",
      "index strokes:  3000\n",
      "index strokes:  3050\n",
      "index strokes:  3100\n",
      "index strokes:  3150\n",
      "index strokes:  3200\n",
      "index strokes:  3250\n",
      "index strokes:  3300\n",
      "index strokes:  3350\n",
      "index strokes:  3400\n",
      "index strokes:  3450\n",
      "index strokes:  3500\n",
      "index strokes:  3550\n",
      "index strokes:  3600\n",
      "index strokes:  3650\n",
      "index strokes:  3700\n",
      "index strokes:  3750\n",
      "index strokes:  3800\n",
      "index strokes:  3850\n",
      "index strokes:  3900\n",
      "index strokes:  3950\n",
      "index strokes:  4000\n",
      "index strokes:  4050\n",
      "index strokes:  4100\n",
      "index strokes:  4150\n",
      "index strokes:  4200\n",
      "index strokes:  4250\n",
      "index strokes:  4300\n",
      "index strokes:  4350\n",
      "index strokes:  4400\n",
      "Extracting smoothed FR for all data...\n",
      "Inserting smoothed FR into dataset...\n",
      "Appending other columns into dataset...\n",
      "** Generated Snippets, (ver stroke). Final length of SP.DfScalar: 1899892\n",
      "Keeping this many sites that pass fr thresh:\n",
      "428 / 428\n",
      "Using threshold:  1.5\n",
      "Updated self.Sites\n",
      "This many vals across loaded session\n",
      "0 : 1899892\n",
      "Assigning to SP.Params this item:\n",
      "{'which_level': 'stroke', '_list_events': ['00_stroke'], 'list_events_uniqnames': ['00_stroke'], 'list_features_extraction': [], 'list_features_get_conjunction': [], 'list_pre_dur': [-0.8], 'list_post_dur': [0.8], 'map_var_to_othervars': None, 'strokes_only_keep_single': None, 'tasks_only_keep_these': None, 'prune_feature_levels_min_n_trials': 1, 'fr_which_version': 'sqrt', 'SPIKES_VERSION': 'tdt', 'map_var_to_levels': None}\n",
      "Assigning to SP.ParamsGlobals this item:\n",
      "{'n_min_trials_per_level': 5, 'lenient_allow_data_if_has_n_levels': 2, 'PRE_DUR_CALC': -0.8, 'POST_DUR_CALC': 0.8, 'list_events': ['00_stroke'], 'list_pre_dur': [-0.8], 'list_post_dur': [0.8]}\n",
      "Keeping this many sites that pass fr thresh:\n",
      "428 / 428\n",
      "Using threshold:  1.5\n",
      "Updated self.Sites\n",
      " ++++ USING THIS ANALY_VER: seqcontext\n",
      "['shape_oriented'] True False\n",
      "Appending outliers...\n",
      "Appending index datrapts...\n",
      "Snippets -- extracting beh dataset for first time! (concatting and tokens preprocess)\n",
      "Deleting these columns with seqc in name: ['seqc_nstrokes_beh', 'seqc_nstrokes_task', 'seqc_0_shape', 'seqc_0_loc', 'seqc_0_loc_local', 'seqc_0_center_binned', 'seqc_0_shapesem', 'seqc_0_shapesemcat', 'seqc_0_angle_binned', 'seqc_0_angle', 'seqc_0_locon', 'seqc_0_locx', 'seqc_0_locy', 'seqc_0_locon_binned', 'seqc_0_locon_bin_in_loc', 'seqc_0_loc_shape', 'seqc_1_shape', 'seqc_1_loc', 'seqc_1_loc_local', 'seqc_1_center_binned', 'seqc_1_shapesem', 'seqc_1_shapesemcat', 'seqc_1_angle_binned', 'seqc_1_angle', 'seqc_1_locon', 'seqc_1_locon_binned', 'seqc_1_locx', 'seqc_1_locy', 'seqc_1_locon_bin_in_loc', 'seqc_1_loc_shape', 'seqc_2_shape', 'seqc_2_loc', 'seqc_2_loc_local', 'seqc_2_center_binned', 'seqc_2_shapesem', 'seqc_2_shapesemcat', 'seqc_2_angle_binned', 'seqc_2_angle', 'seqc_2_locon', 'seqc_2_locon_binned', 'seqc_2_locx', 'seqc_2_locy', 'seqc_2_locon_bin_in_loc', 'seqc_2_loc_shape', 'seqc_3_shape', 'seqc_3_loc', 'seqc_3_loc_local', 'seqc_3_center_binned', 'seqc_3_shapesem', 'seqc_3_shapesemcat', 'seqc_3_angle_binned', 'seqc_3_angle', 'seqc_3_locon', 'seqc_3_locon_binned', 'seqc_3_locx', 'seqc_3_locy', 'seqc_3_locon_bin_in_loc', 'seqc_3_loc_shape', 'seqc_4_shape', 'seqc_4_loc', 'seqc_4_loc_local', 'seqc_4_center_binned', 'seqc_4_shapesem', 'seqc_4_shapesemcat', 'seqc_4_angle_binned', 'seqc_4_angle', 'seqc_4_locon', 'seqc_4_locon_binned', 'seqc_4_locx', 'seqc_4_locy', 'seqc_4_locon_bin_in_loc', 'seqc_4_loc_shape', 'seqc_5_shape', 'seqc_5_loc', 'seqc_5_loc_local', 'seqc_5_center_binned', 'seqc_5_shapesem', 'seqc_5_shapesemcat', 'seqc_5_angle_binned', 'seqc_5_angle', 'seqc_5_locon', 'seqc_5_locon_binned', 'seqc_5_locx', 'seqc_5_locy', 'seqc_5_locon_bin_in_loc', 'seqc_5_loc_shape', 'seqc_6_shape', 'seqc_6_loc', 'seqc_6_loc_local', 'seqc_6_center_binned', 'seqc_6_shapesem', 'seqc_6_shapesemcat', 'seqc_6_angle_binned', 'seqc_6_angle', 'seqc_6_locon', 'seqc_6_locon_binned', 'seqc_6_locx', 'seqc_6_locy', 'seqc_6_locon_bin_in_loc', 'seqc_6_loc_shape', 'seqc_7_shape', 'seqc_7_loc', 'seqc_7_loc_local', 'seqc_7_center_binned', 'seqc_7_shapesem', 'seqc_7_shapesemcat', 'seqc_7_angle_binned', 'seqc_7_angle', 'seqc_7_locon', 'seqc_7_locon_binned', 'seqc_7_locx', 'seqc_7_locy', 'seqc_7_locon_bin_in_loc', 'seqc_7_loc_shape']\n",
      "Done!, new len of dataset 741\n",
      "tests passed\n",
      "- Assigning to D.TokensVersion this value: regenerated_from_raw\n",
      "These attributes are dicts, which will concat: ['TokensStrokesBeh', 'TokensStrokesBehUsingTaskStrokes', 'TokensTask']\n",
      "- Assigning to D.TokensStrokesBeh this dict (concatted, with trialcode keys, showing first 3):\n",
      "[('230817-1-1', <pythonlib.drawmodel.tokens.Tokens object at 0x7f3374ddd040>), ('230817-1-2', <pythonlib.drawmodel.tokens.Tokens object at 0x7f3374dc39d0>), ('230817-1-3', <pythonlib.drawmodel.tokens.Tokens object at 0x7f3374dc3700>)]\n",
      "- Assigning to D.TokensStrokesBehUsingTaskStrokes this dict (concatted, with trialcode keys, showing first 3):\n",
      "[('230817-1-1', <pythonlib.drawmodel.tokens.Tokens object at 0x7f3374dc39a0>), ('230817-1-2', <pythonlib.drawmodel.tokens.Tokens object at 0x7f3374dc3340>), ('230817-1-3', <pythonlib.drawmodel.tokens.Tokens object at 0x7f3374dc3e80>)]\n",
      "- Assigning to D.TokensTask this dict (concatted, with trialcode keys, showing first 3):\n",
      "[('230817-1-1', <pythonlib.drawmodel.tokens.Tokens object at 0x7f3374ddd0d0>), ('230817-1-2', <pythonlib.drawmodel.tokens.Tokens object at 0x7f3374dc3c70>), ('230817-1-3', <pythonlib.drawmodel.tokens.Tokens object at 0x7f3374dc35b0>)]\n",
      "For n_clusters = 6 The average silhouette_score is : 0.5332068173067185\n",
      "For n_clusters = 7 The average silhouette_score is : 0.6030777572822472\n",
      "For n_clusters = 8 The average silhouette_score is : 0.6034664078423597\n",
      "For n_clusters = 9 The average silhouette_score is : 0.6063279493886589\n",
      "For n_clusters = 10 The average silhouette_score is : 0.6018729318906885\n",
      "For n_clusters = 11 The average silhouette_score is : 0.6306956045345271\n",
      "For n_clusters = 12 The average silhouette_score is : 0.6319020972905501\n",
      "For n_clusters = 13 The average silhouette_score is : 0.6336477745626549\n",
      "For n_clusters = 14 The average silhouette_score is : 0.6427047865658387\n",
      "For n_clusters = 15 The average silhouette_score is : 0.6613485918361003\n",
      "For n_clusters = 16 The average silhouette_score is : 0.6655240306864271\n",
      "For n_clusters = 17 The average silhouette_score is : 0.6880000848704996\n",
      "For n_clusters = 18 The average silhouette_score is : 0.7034626251814489\n",
      "For n_clusters = 19 The average silhouette_score is : 0.7126654689047891\n",
      "For n_clusters = 20 The average silhouette_score is : 0.7316540041273012\n",
      "For n_clusters = 21 The average silhouette_score is : 0.7306431008961654\n",
      "For n_clusters = 22 The average silhouette_score is : 0.715606750125327\n",
      "For n_clusters = 23 The average silhouette_score is : 0.6959481381304649\n",
      "For n_clusters = 24 The average silhouette_score is : 0.68032819838486\n",
      "For n_clusters = 25 The average silhouette_score is : 0.6610008731060429\n",
      "For n_clusters = 26 The average silhouette_score is : 0.6509099173141071\n",
      "Using n_clusters = 20\n",
      "SAVING at:  /gorilla1/analyses/main/preprocess_general/Diego_230817_dirgrammardiego5c\n",
      "For n_clusters = 4 The average silhouette_score is : 0.5077804894910447\n",
      "For n_clusters = 5 The average silhouette_score is : 0.5625128707937292\n",
      "For n_clusters = 6 The average silhouette_score is : 0.6659194488605775\n",
      "For n_clusters = 7 The average silhouette_score is : 0.7806259317338328\n",
      "For n_clusters = 8 The average silhouette_score is : 0.7559028474350219\n",
      "For n_clusters = 9 The average silhouette_score is : 0.7336144351282035\n",
      "For n_clusters = 10 The average silhouette_score is : 0.7021323790859337\n",
      "For n_clusters = 11 The average silhouette_score is : 0.645865890703265\n",
      "For n_clusters = 12 The average silhouette_score is : 0.6161216088549883\n",
      "For n_clusters = 13 The average silhouette_score is : 0.5838361775501365\n",
      "For n_clusters = 14 The average silhouette_score is : 0.5408779486551156\n",
      "For n_clusters = 15 The average silhouette_score is : 0.5444192058124138\n",
      "For n_clusters = 16 The average silhouette_score is : 0.5137075312731991\n",
      "For n_clusters = 17 The average silhouette_score is : 0.5029173081050222\n",
      "For n_clusters = 18 The average silhouette_score is : 0.491874163425125\n",
      "For n_clusters = 19 The average silhouette_score is : 0.4657545341995214\n",
      "For n_clusters = 20 The average silhouette_score is : 0.4496679553842395\n",
      "For n_clusters = 21 The average silhouette_score is : 0.43527251921301946\n",
      "For n_clusters = 22 The average silhouette_score is : 0.4358121761387226\n",
      "For n_clusters = 23 The average silhouette_score is : 0.43110691256819245\n",
      "For n_clusters = 24 The average silhouette_score is : 0.4234928024831345\n",
      "For n_clusters = 25 The average silhouette_score is : 0.401800958609919\n",
      "For n_clusters = 26 The average silhouette_score is : 0.40145107637769367\n",
      "Using n_clusters = 7\n",
      "ndims for feature loc_on = 2\n",
      "New colname in tokens: loc_on_binned\n",
      "ndims for feature angle = 1\n",
      "New colname in tokens: angle_binned\n",
      "ndims for feature center = 2\n",
      "New colname in tokens: center_binned\n",
      "ndims for feature center = 2\n",
      "New colname in tokens: center_binned\n",
      "ndims for feature center = 2\n",
      "New colname in tokens: center_binned\n",
      "0\n",
      "100\n",
      "200\n",
      "300\n",
      "400\n",
      "500\n",
      "600\n",
      "700\n",
      "This many strokes extracted:  4439\n",
      "DONE!\n",
      "Appended epoch to self.Dat\n",
      "Appended character to self.Dat\n",
      "Basis set of strokes: ['Lcentered-4-1-0', 'Lcentered-4-2-0', 'Lcentered-4-3-0', 'Lcentered-4-4-0', 'V-2-2-0', 'V-2-3-0', 'V-2-4-0', 'arcdeep-4-2-0', 'arcdeep-4-3-0', 'arcdeep-4-4-0', 'circle-6-1-0', 'line-8-1-0', 'line-8-2-0', 'line-8-3-0', 'line-8-4-0', 'squiggle3-3-1-0', 'squiggle3-3-1-1', 'squiggle3-3-2-0', 'squiggle3-3-2-1', 'usquare-1-2-0', 'usquare-1-3-0', 'usquare-1-4-0', 'zigzagSq-1-1-0', 'zigzagSq-1-1-1', 'zigzagSq-1-2-0', 'zigzagSq-1-2-1']\n",
      "Deleting these columns with seqc in name: []\n",
      "Appended columns gridsize!\n",
      "GENERATING DS FOR THE FIRST TIME...\n",
      "0\n",
      "100\n",
      "200\n",
      "300\n",
      "400\n",
      "500\n",
      "600\n",
      "700\n",
      "This many strokes extracted:  4439\n",
      "DONE!\n",
      "Appended epoch to self.Dat\n",
      "Appended character to self.Dat\n",
      "Running dataset_apply_params...\n",
      "Dataset preprocess, these params:\n",
      "{'DO_CHARSEQ_VER': None, 'EXTRACT_EPOCHSETS': False, 'EXTRACT_EPOCHSETS_trial_label': None, 'EXTRACT_EPOCHSETS_n_max_epochs': None, 'EXTRACT_EPOCHSETS_merge_sets': None, 'taskgroup_reassign_simple_neural': False, 'preprocess_steps_append': ['one_to_one_beh_task_strokes_allow_unfinished', 'beh_strokes_at_least_one'], 'remove_aborts': False, 'list_superv_keep': None, 'list_superv_keep_full': None, 'DO_SCORE_SEQUENCE_VER': None, 'list_epoch_merge': [], 'epoch_merge_key': None, 'DO_EXTRACT_EPOCHKIND': False, 'datasetstrokes_extract_to_prune_trial': None, 'datasetstrokes_extract_to_prune_stroke_and_get_features': 'clean_one_to_one', 'substrokes_features_do_extraction': False, 'charclust_dataset_extract_shapes': False, 'datasetstrokes_extract_chunks_variables': False}\n",
      "Num nan/total, for angle_overall\n",
      "68 / 741\n",
      "Num nan/total, for num_strokes_beh\n",
      "0 / 741\n",
      "Num nan/total, for num_strokes_task\n",
      "0 / 741\n",
      "Num nan/total, for circ\n",
      "0 / 741\n",
      "Num nan/total, for dist\n",
      "0 / 741\n",
      "Added these features:\n",
      "['FEAT_angle_overall', 'FEAT_num_strokes_beh', 'FEAT_num_strokes_task', 'FEAT_circ', 'FEAT_dist']\n",
      "Starting length of D.Dat: 741\n",
      "--BEFORE REMOVE; existing supervision_stage_concise:\n",
      "off|1|solid|1101|0     664\n",
      "off|0||1111|0           59\n",
      "mask|1|solid|1101|0     18\n",
      "Name: supervision_stage_concise, dtype: int64\n",
      "############ TAKING ONLY NO SUPERVISION TRIALS\n",
      "*** RUNNING D.preprocessGood using these params:\n",
      "['no_supervision']\n",
      "-- Len of D, before applying this param: no_supervision, ... 741\n",
      "after: 723\n",
      "Dataset final len: 723\n",
      "*** RUNNING D.preprocessGood using these params:\n",
      "['one_to_one_beh_task_strokes_allow_unfinished', 'beh_strokes_at_least_one']\n",
      "-- Len of D, before applying this param: one_to_one_beh_task_strokes_allow_unfinished, ... 723\n",
      "after: 722\n",
      "-- Len of D, before applying this param: beh_strokes_at_least_one, ... 722\n",
      "after: 722\n",
      "*** RUNNING D.preprocessGood using these params:\n",
      "['beh_strokes_at_least_one', 'one_to_one_beh_task_strokes_allow_unfinished', 'no_supervision']\n",
      "-- Len of D, before applying this param: beh_strokes_at_least_one, ... 722\n",
      "after: 722\n",
      "-- Len of D, before applying this param: one_to_one_beh_task_strokes_allow_unfinished, ... 722\n",
      "after: 722\n",
      "-- Len of D, before applying this param: no_supervision, ... 722\n",
      "after: 722\n",
      "0\n",
      "100\n",
      "200\n",
      "300\n",
      "400\n",
      "500\n",
      "600\n",
      "700\n",
      "This many strokes extracted:  4315\n",
      "DONE!\n",
      "Appended epoch to self.Dat\n",
      "Appended character to self.Dat\n",
      "Added column: dist_beh_task_strok\n",
      "clean_preprocess_data...\n",
      "len of DS.Dat = 4315, before running... stroke_too_short\n",
      "Doing...: stroke_too_short\n",
      "New len:  3581\n",
      "len of DS.Dat = 3581, before running... beh_task_dist_too_large\n",
      "Doing...: beh_task_dist_too_large\n",
      "New len:  3579\n",
      "len of DS.Dat = 3579, before running... stroke_too_quick\n",
      "Doing...: stroke_too_quick\n",
      "New len:  3579\n",
      "clean_preprocess_data...\n",
      "len of DS.Dat = 3579, before running... remove_if_multiple_behstrokes_per_taskstroke\n",
      "This many cases with >1 beh stroke needed to completed a task stroke:  0\n",
      "New len:  3579\n",
      "Starting len dfscalar:  1899892\n",
      "Ending len dfscalar:  1846820\n",
      " --- Pruning SP.DfScalar to match DS... start len:  1846820\n",
      "... End len:  1531812\n",
      "GENERATING DS FOR THE FIRST TIME...\n",
      "0\n",
      "100\n",
      "200\n",
      "300\n",
      "400\n",
      "500\n",
      "600\n",
      "700\n",
      "This many strokes extracted:  4315\n",
      "DONE!\n",
      "Appended epoch to self.Dat\n",
      "Appended character to self.Dat\n",
      "Using stroke...\n",
      "Attempting to extract these features into Snippets:\n",
      "['task_kind', 'gridloc', 'stroke_index_semantic', 'CTXT_shape_prev', 'stroke_index_fromlast_tskstks', 'epoch', 'gap_from_prev_angle', 'probe', 'CTXT_loconclust_next', 'FEAT_num_strokes_beh', 'stroke_index_fromlast', 'Stroke', 'CTXT_loc_next', 'gap_from_prev_angle_binned', 'character', 'TokTask', 'aborted', 'origin', 'stroke_index', 'CTXT_loc_prev', 'gap_to_next_angle_binned', 'FEAT_num_strokes_task', 'loc_off_clust', 'CTXT_loconclust_prev', 'epoch_orig', 'shape_oriented', 'stroke_index_is_first', 'CTXT_locoffclust_next', 'loc_on_clust', 'donepos', 'event_time', 'CTXT_locoffclust_prev', 'supervision_stage_concise', 'taskgroup', 'stroke_index_semantic_tskstks', 'CTXT_shape_next', 'shape', 'trialcode', 'gridsize', 'gap_to_next_angle']\n",
      "Appended character to self.Dat\n",
      "... dataset:  ['probe', 'FEAT_num_strokes_beh', 'aborted', 'origin', 'FEAT_num_strokes_task', 'epoch_orig', 'donepos', 'supervision_stage_concise', 'taskgroup']\n",
      "Appending thse columns...  ['donepos', 'epoch_orig', 'supervision_stage_concise', 'aborted', 'origin', 'taskgroup', 'probe', 'FEAT_num_strokes_beh', 'FEAT_num_strokes_task']\n",
      "... dataset_strokes:  ['CTXT_shape_prev', 'stroke_index_fromlast_tskstks', 'epoch', 'gap_from_prev_angle', 'CTXT_loconclust_next', 'Stroke', 'CTXT_loc_next', 'gap_from_prev_angle_binned', 'character', 'TokTask', 'CTXT_loc_prev', 'gap_to_next_angle_binned', 'loc_off_clust', 'CTXT_loconclust_prev', 'stroke_index_is_first', 'CTXT_locoffclust_next', 'loc_on_clust', 'CTXT_locoffclust_prev', 'stroke_index_semantic_tskstks', 'CTXT_shape_next', 'shape', 'gap_to_next_angle']\n",
      "Appending thse columns...  ['CTXT_shape_prev', 'stroke_index_fromlast_tskstks', 'epoch', 'gap_from_prev_angle', 'CTXT_loconclust_next', 'Stroke', 'CTXT_loc_next', 'gap_from_prev_angle_binned', 'character', 'TokTask', 'CTXT_loc_prev', 'gap_to_next_angle_binned', 'loc_off_clust', 'CTXT_loconclust_prev', 'stroke_index_is_first', 'CTXT_locoffclust_next', 'loc_on_clust', 'CTXT_locoffclust_prev', 'stroke_index_semantic_tskstks', 'CTXT_shape_next', 'shape', 'gap_to_next_angle']\n",
      "These events: ['00_stroke']\n",
      "00_stroke\n",
      "Colected 3579 out of 3579 datapts.\n",
      "NOTE: missed datapts are likely because of removed outliers\n",
      "00_stroke M1_m (-0.6, 0.6)\n",
      "Sites for this bregion  M1_m\n",
      "[1, 2, 3, 4, 5, 6, 7, 8, 9, 10, 11, 12, 14, 15, 16, 17, 18, 19, 20, 21, 22, 23, 24, 25, 26, 27, 28, 29, 30, 31, 32]\n",
      "00_stroke  --  M1_m  --  (-0.6, 0.6)  -- (data shape:) (31, 3579, 120)\n",
      "00_stroke M1_l (-0.6, 0.6)\n",
      "Sites for this bregion  M1_l\n",
      "[33, 34, 35, 37, 38, 39, 40, 42, 44, 46, 47, 48, 49, 50, 51, 52, 53, 54, 55, 56, 57, 58, 61, 62]\n",
      "00_stroke  --  M1_l  --  (-0.6, 0.6)  -- (data shape:) (24, 3579, 120)\n",
      "00_stroke PMv_l (-0.6, 0.6)\n",
      "Sites for this bregion  PMv_l\n",
      "[65, 66, 67, 68, 69, 70, 71, 72, 73, 74, 75, 76, 77, 78, 79, 80, 81, 82, 83, 84, 85, 86, 87, 88, 89, 90, 91, 92, 93, 94, 95, 96]\n",
      "00_stroke  --  PMv_l  --  (-0.6, 0.6)  -- (data shape:) (32, 3579, 120)\n",
      "00_stroke PMv_m (-0.6, 0.6)\n",
      "Sites for this bregion  PMv_m\n",
      "[97, 98, 99, 101, 102, 103, 104, 105, 106, 107, 108, 109, 110, 111, 112, 113, 114, 115, 116, 118, 119, 120, 121, 122, 123, 124, 125, 126, 127, 128]\n",
      "00_stroke  --  PMv_m  --  (-0.6, 0.6)  -- (data shape:) (30, 3579, 120)\n",
      "00_stroke PMd_p (-0.6, 0.6)\n",
      "Sites for this bregion  PMd_p\n",
      "[129, 130, 131, 132, 133, 134, 135, 137, 139, 143, 145, 146, 147, 148, 149, 150, 151, 152, 153, 154, 155, 156, 157, 158, 159]\n",
      "00_stroke  --  PMd_p  --  (-0.6, 0.6)  -- (data shape:) (25, 3579, 120)\n",
      "00_stroke PMd_a (-0.6, 0.6)\n",
      "Sites for this bregion  PMd_a\n",
      "[161, 162, 165, 177, 178, 179, 182, 183, 184, 185, 186, 188, 189, 191]\n",
      "00_stroke  --  PMd_a  --  (-0.6, 0.6)  -- (data shape:) (14, 3579, 120)\n",
      "00_stroke dlPFC_p (-0.6, 0.6)\n",
      "Sites for this bregion  dlPFC_p\n",
      "[]\n",
      "Skipping bregion (0 channels):  dlPFC_p\n",
      "00_stroke dlPFC_a (-0.6, 0.6)\n",
      "Sites for this bregion  dlPFC_a\n",
      "[225, 226, 227, 228, 229, 230, 231, 232, 233, 234, 235, 236, 237, 238, 239, 240, 242, 243, 244, 245, 246, 247, 248, 249, 250, 251, 252, 253, 254, 255, 256]\n",
      "00_stroke  --  dlPFC_a  --  (-0.6, 0.6)  -- (data shape:) (31, 3579, 120)\n",
      "00_stroke vlPFC_p (-0.6, 0.6)\n",
      "Sites for this bregion  vlPFC_p\n",
      "[257, 258, 259, 260, 261, 262, 263, 264, 265, 266, 267, 268, 269, 270, 271, 272, 273, 274, 275, 276, 277, 278, 279, 280, 281, 282, 283, 284, 285, 286, 287]\n",
      "00_stroke  --  vlPFC_p  --  (-0.6, 0.6)  -- (data shape:) (31, 3579, 120)\n",
      "00_stroke vlPFC_a (-0.6, 0.6)\n",
      "Sites for this bregion  vlPFC_a\n",
      "[289, 290, 293, 294, 295, 296, 297, 298, 299, 300, 301, 302, 303, 304, 305, 307, 308, 309, 310, 311, 312, 313, 314, 315, 316, 317, 319]\n",
      "00_stroke  --  vlPFC_a  --  (-0.6, 0.6)  -- (data shape:) (27, 3579, 120)\n",
      "00_stroke FP_p (-0.6, 0.6)\n",
      "Sites for this bregion  FP_p\n",
      "[321, 322, 323, 324, 325, 326, 327, 328, 329, 330, 331, 332, 334, 336, 337, 339, 341, 342, 343, 344, 345, 347, 348, 349, 350, 351, 352]\n",
      "00_stroke  --  FP_p  --  (-0.6, 0.6)  -- (data shape:) (27, 3579, 120)\n",
      "00_stroke FP_a (-0.6, 0.6)\n",
      "Sites for this bregion  FP_a\n",
      "[353, 354, 355, 356, 357, 358, 359, 360, 361, 362, 363, 364, 365, 366, 367, 368, 369, 370, 371, 372, 373, 374, 375, 376, 377, 378, 379, 380, 381, 382, 383, 384]\n",
      "00_stroke  --  FP_a  --  (-0.6, 0.6)  -- (data shape:) (32, 3579, 120)\n",
      "00_stroke SMA_p (-0.6, 0.6)\n",
      "Sites for this bregion  SMA_p\n",
      "[385, 386, 387, 388, 389, 390, 391, 392, 393, 394, 395, 396, 397, 398, 399, 400, 401, 402, 403, 404, 405, 406, 407, 408, 409, 410, 411, 412, 413, 414, 415, 416]\n",
      "00_stroke  --  SMA_p  --  (-0.6, 0.6)  -- (data shape:) (32, 3579, 120)\n",
      "00_stroke SMA_a (-0.6, 0.6)\n",
      "Sites for this bregion  SMA_a\n",
      "[417, 418, 419, 420, 421, 422, 423, 424, 425, 426, 427, 428, 429, 430, 431, 432, 433, 434, 435, 436, 437, 438, 439, 440, 441, 442, 443, 444, 445, 446, 447, 448]\n",
      "00_stroke  --  SMA_a  --  (-0.6, 0.6)  -- (data shape:) (32, 3579, 120)\n",
      "00_stroke preSMA_p (-0.6, 0.6)\n",
      "Sites for this bregion  preSMA_p\n",
      "[449, 450, 451, 452, 453, 454, 455, 456, 458, 459, 460, 461, 462, 463, 464, 465, 466, 467, 468, 469, 470, 471, 472, 474, 475, 476, 477, 478, 479, 480]\n",
      "00_stroke  --  preSMA_p  --  (-0.6, 0.6)  -- (data shape:) (30, 3579, 120)\n",
      "00_stroke preSMA_a (-0.6, 0.6)\n",
      "Sites for this bregion  preSMA_a\n",
      "[481, 482, 483, 484, 485, 486, 487, 488, 490, 491, 492, 493, 494, 495, 496, 497, 498, 499, 500, 501, 502, 503, 504, 505, 506, 507, 508, 510, 511, 512]\n",
      "00_stroke  --  preSMA_a  --  (-0.6, 0.6)  -- (data shape:) (30, 3579, 120)\n"
     ]
    },
    {
     "data": {
      "text/plain": "<Figure size 640x480 with 1 Axes>",
      "image/png": "[encoded data removed]"
     },
     "metadata": {},
     "output_type": "display_data"
    },
    {
     "data": {
      "text/plain": "<Figure size 640x480 with 1 Axes>",
      "image/png": "[encoded data removed]"
     },
     "metadata": {},
     "output_type": "display_data"
    },
    {
     "data": {
      "text/plain": "<Figure size 200x250 with 1 Axes>",
      "image/png": "[encoded data removed]"
     },
     "metadata": {},
     "output_type": "display_data"
    },
    {
     "data": {
      "text/plain": "<Figure size 200x250 with 1 Axes>",
      "image/png": "[encoded data removed]"
     },
     "metadata": {},
     "output_type": "display_data"
    },
    {
     "data": {
      "text/plain": "<Figure size 640x480 with 1 Axes>",
      "image/png": "[encoded data removed]"
     },
     "metadata": {},
     "output_type": "display_data"
    },
    {
     "data": {
      "text/plain": "<Figure size 640x480 with 1 Axes>",
      "image/png": "[encoded data removed]"
     },
     "metadata": {},
     "output_type": "display_data"
    },
    {
     "data": {
      "text/plain": "<Figure size 640x480 with 1 Axes>",
      "image/png": "[encoded data removed]"
     },
     "metadata": {},
     "output_type": "display_data"
    },
    {
     "data": {
      "text/plain": "<Figure size 640x480 with 1 Axes>",
      "image/png": "[encoded data removed]"
     },
     "metadata": {},
     "output_type": "display_data"
    }
   ],
   "source": [
    "# Char, \n",
    "# animal = \"Pancho\"\n",
    "# date = 230126\n",
    "# do_combine = True\n",
    "\n",
    "# Single prim, novels\n",
    "# animal = \"Pancho\"\n",
    "# date = 230126\n",
    "animal = \"Diego\"\n",
    "date = 230817\n",
    "# date = 230817\n",
    "do_combine = False\n",
    "\n",
    "if do_combine:\n",
    "    # COMBINE trial and stroke\n",
    "    dir_suffix = \"test\"\n",
    "    question = None\n",
    "    # q_params = None\n",
    "    which_level = None\n",
    "    q_params = {\n",
    "        \"effect_vars\": [\"seqc_0_shape\", \"seqc_0_loc\"]\n",
    "    }\n",
    "    \n",
    "    combine_trial_and_stroke = True\n",
    "    \n",
    "    # PIG\n",
    "    # question_trial = \"PIG_BASE_trial\"\n",
    "    # question_stroke = \"PIG_BASE_stroke\"\n",
    "    # check_that_locs_match = True\n",
    "    \n",
    "    # CHAR\n",
    "    question_trial = \"CHAR_BASE_trial\"\n",
    "    question_stroke = \"CHAR_BASE_stroke\"\n",
    "    check_that_locs_match = True\n",
    "    check_that_shapes_match = True\n",
    "else:\n",
    "    # DONT COMBINE, use questions.\n",
    "    # question = \"CHAR_BASE_stroke\"\n",
    "    # question = \"CHAR_BASE_trial\"\n",
    "    # question = \"SP_shape_loc\"\n",
    "    question = \"PIG_BASE_stroke\"\n",
    "    # question = \"PIG_BASE_trial\"\n",
    "    combine_trial_and_stroke = False\n",
    "    # which_level = \"stroke\" # Doesnt matter\n",
    "    which_level = \"stroke\" # Doesnt matter\n",
    "    dir_suffix = question\n",
    "\n",
    "    # Load q_params\n",
    "    from neuralmonkey.analyses.rsa import rsagood_questions_dict, rsagood_questions_params\n",
    "    q_params = rsagood_questions_dict(animal, date, question)[question]\n",
    "\n",
    "############### PARAMS\n",
    "exclude_bad_areas = True\n",
    "SPIKES_VERSION = \"tdt\" # since Snippets not yet extracted for ks\n",
    "combine_into_larger_areas = False\n",
    "HACK_RENAME_SHAPES = False\n",
    "list_time_windows = [(-0.6, 0.6)]\n",
    "events_keep = None\n",
    "fr_normalization_method = \"across_time_bins\"\n",
    "########################################## RUN\n",
    "\n",
    "if combine_trial_and_stroke:\n",
    "    from neuralmonkey.classes.population_mult import dfallpa_extraction_load_wrapper_combine_trial_strokes\n",
    "    DFallpa = dfallpa_extraction_load_wrapper_combine_trial_strokes(animal, date, question_trial,\n",
    "                                                                       question_stroke,\n",
    "                                                list_time_windows, events_keep=events_keep,\n",
    "                                               combine_into_larger_areas = combine_into_larger_areas,\n",
    "                                               exclude_bad_areas=exclude_bad_areas,\n",
    "                                                SPIKES_VERSION=\"tdt\",\n",
    "                                                HACK_RENAME_SHAPES = HACK_RENAME_SHAPES,\n",
    "                                               fr_normalization_method=fr_normalization_method,\n",
    "                                                    check_that_shapes_match=check_that_shapes_match,\n",
    "                                                check_that_locs_match=check_that_locs_match)\n",
    "else:\n",
    "    from neuralmonkey.classes.population_mult import dfallpa_extraction_load_wrapper\n",
    "    DFallpa = dfallpa_extraction_load_wrapper(animal, date, question, list_time_windows,\n",
    "                                              which_level=which_level, events_keep=events_keep,\n",
    "                                              combine_into_larger_areas = combine_into_larger_areas,\n",
    "                                              exclude_bad_areas = exclude_bad_areas,\n",
    "                                              SPIKES_VERSION = SPIKES_VERSION,\n",
    "                                              HACK_RENAME_SHAPES = HACK_RENAME_SHAPES,\n",
    "                                              fr_normalization_method=fr_normalization_method)"
   ],
   "metadata": {
    "collapsed": false,
    "ExecuteTime": {
     "end_time": "2024-03-18T19:10:44.392075013Z",
     "start_time": "2024-03-18T18:44:14.043029460Z"
    }
   },
   "id": "58ea6f5073b3909f"
  },
  {
   "cell_type": "markdown",
   "source": [
    "# Code example for benchmarking: decoding shapes"
   ],
   "metadata": {
    "collapsed": false
   },
   "id": "93edebd6e38ce91"
  },
  {
   "cell_type": "markdown",
   "source": [
    "This step takes in a representation of neural data and outputs a scalar score for how well you can decode \"shape\" from that data\n",
    "\n",
    "Here, this example is using the raw data (dimensionality = number of channels). The goal is to use methods to reduce the dimensionality of this data, each time running through this decoding benchmark, to compare the different methods"
   ],
   "metadata": {
    "collapsed": false
   },
   "id": "488ff1ca66a8098f"
  },
  {
   "cell_type": "code",
   "execution_count": 4,
   "outputs": [],
   "source": [
    "pa = DFallpa[\"pa\"].values[0]"
   ],
   "metadata": {
    "collapsed": false,
    "ExecuteTime": {
     "end_time": "2024-03-18T19:12:32.687976416Z",
     "start_time": "2024-03-18T19:12:32.490468929Z"
    }
   },
   "id": "1d9464a47ba11ed8"
  },
  {
   "cell_type": "code",
   "execution_count": 6,
   "outputs": [
    {
     "data": {
      "text/plain": "Index(['task_kind', 'gridloc', 'stroke_index_semantic', 'CTXT_shape_prev',\n       'stroke_index_fromlast_tskstks', 'epoch', 'gap_from_prev_angle',\n       'probe', 'CTXT_loconclust_next', 'size_this_event',\n       'FEAT_num_strokes_beh', 'loc_this_event', 'stroke_index_fromlast',\n       'Stroke', 'CTXT_loc_next', 'gap_from_prev_angle_binned', 'character',\n       'TokTask', 'aborted', 'origin', 'stroke_index', 'CTXT_loc_prev',\n       'gap_to_next_angle_binned', 'FEAT_num_strokes_task', 'loc_off_clust',\n       'CTXT_loconclust_prev', 'epoch_orig', 'shape_oriented',\n       'stroke_index_is_first', 'CTXT_locoffclust_next', 'loc_on_clust',\n       'donepos', 'event_time', 'CTXT_locoffclust_prev',\n       'supervision_stage_concise', 'taskgroup', 'shape_this_event',\n       'stroke_index_semantic_tskstks', 'CTXT_shape_next', 'shape',\n       'index_datapt', 'trialcode', 'gridsize', 'gap_to_next_angle',\n       'which_level', 'event', 'bregion', 'twind'],\n      dtype='object')"
     },
     "execution_count": 6,
     "metadata": {},
     "output_type": "execute_result"
    }
   ],
   "source": [
    "pa.Xlabels[\"trials\"][:2].columns"
   ],
   "metadata": {
    "collapsed": false,
    "ExecuteTime": {
     "end_time": "2024-03-18T19:12:59.273001347Z",
     "start_time": "2024-03-18T19:12:59.098919402Z"
    }
   },
   "id": "389e5f898d84b074"
  },
  {
   "cell_type": "markdown",
   "source": [
    "##### First, pull out a specific PA. (just an example)"
   ],
   "metadata": {
    "collapsed": false
   },
   "id": "32c025e2bfc54ebe"
  },
  {
   "cell_type": "markdown",
   "source": [
    "NOTE: tjhis is just for demonstration. Eventually you will want to loop thru all PA, scoring them all"
   ],
   "metadata": {
    "collapsed": false
   },
   "id": "9bb74aab4a961bd2"
  },
  {
   "cell_type": "code",
   "execution_count": null,
   "outputs": [],
   "source": [
    "from neuralmonkey.classes.population_mult import extract_single_pa\n"
   ],
   "metadata": {
    "collapsed": false
   },
   "id": "10bc2b4059ed05b5"
  },
  {
   "cell_type": "markdown",
   "source": [
    "## Make sure to normalize PA before running any modeling on it:"
   ],
   "metadata": {
    "collapsed": false
   },
   "id": "583a1e729ac08b30"
  },
  {
   "cell_type": "code",
   "execution_count": null,
   "outputs": [],
   "source": [
    "pa.norm_subtract_mean_each_chan"
   ],
   "metadata": {
    "collapsed": false
   },
   "id": "84d07e7375dc049e"
  },
  {
   "cell_type": "code",
   "execution_count": null,
   "outputs": [],
   "source": [
    "pa.norm_subtract_mean_each_chan()"
   ],
   "metadata": {
    "collapsed": false
   },
   "id": "561c113813341660"
  },
  {
   "cell_type": "code",
   "execution_count": null,
   "outputs": [],
   "source": [
    "DFallpa"
   ],
   "metadata": {
    "collapsed": false
   },
   "id": "a1a559c00690b540"
  },
  {
   "cell_type": "code",
   "execution_count": null,
   "outputs": [],
   "source": [
    "True in pa.Chans"
   ],
   "metadata": {
    "collapsed": false
   },
   "id": "1e8232dc218ec46b"
  },
  {
   "cell_type": "code",
   "execution_count": null,
   "outputs": [],
   "source": [
    "pa.Chans.index(True)"
   ],
   "metadata": {
    "collapsed": false
   },
   "id": "4941bf500680c61d"
  },
  {
   "cell_type": "code",
   "execution_count": null,
   "outputs": [],
   "source": [
    "from neuralmonkey.analyses.state_space_good import popanal_preprocess_scalar_normalization\n",
    "list_panorm = []\n",
    "plot_example_chan_number = None\n",
    "plot_example_split_var_string = None\n",
    "subtract_mean_at_each_timepoint=False\n",
    "subtract_mean_across_time_and_trial=True\n",
    "grouping_vars = None\n",
    "for pa in DFallpa[\"pa\"].tolist():\n",
    "    PAnorm, PAscal, PAscalagg, fig, axes, groupdict = popanal_preprocess_scalar_normalization(pa, grouping_vars, subtract_mean_each_level_of_var =\"IGNORE\",\n",
    "                                            plot_example_chan_number=plot_example_chan_number,\n",
    "                                            plot_example_split_var_string=plot_example_split_var_string,\n",
    "                                            DO_AGG_TRIALS=False,\n",
    "                                            subtract_mean_at_each_timepoint=subtract_mean_at_each_timepoint,\n",
    "                                            subtract_mean_across_time_and_trial=subtract_mean_across_time_and_trial)\n",
    "    list_panorm.append(PAnorm)\n",
    "DFallpa[\"pa\"] = list_panorm\n",
    "\n",
    "# del DFallpa[\"pa_norm\"]"
   ],
   "metadata": {
    "collapsed": false
   },
   "id": "854db14b65f6c377"
  },
  {
   "cell_type": "code",
   "execution_count": null,
   "outputs": [],
   "source": [
    "from pythonlib.globals import PATH_ANALYSIS_OUTCOMES\n",
    "import os\n",
    "SAVEDIR_ANALYSIS = f\"{PATH_ANALYSIS_OUTCOMES}/recordings/main/DECODE\""
   ],
   "metadata": {
    "collapsed": false
   },
   "id": "4cab933058cb251a"
  },
  {
   "cell_type": "code",
   "execution_count": null,
   "outputs": [],
   "source": [
    "# Figure out how long is seuqence\n",
    "n_strokes_max = -1\n",
    "for i in range(2):\n",
    "    n_ignore = sum(PAnorm.Xlabels[\"trials\"][f\"seqc_{i}_shape\"]==\"IGNORE\")\n",
    "    n_total = len(PAnorm.Xlabels[\"trials\"][f\"seqc_{i}_shape\"])\n",
    "    print(n_ignore, n_total)\n",
    "    if n_ignore<n_total:\n",
    "        n_strokes_max=i+1\n",
    "assert n_strokes_max>0\n",
    "print(n_strokes_max)"
   ],
   "metadata": {
    "collapsed": false
   },
   "id": "7a2fa80f4fc611b4"
  },
  {
   "cell_type": "markdown",
   "source": [
    "### Keep specific events"
   ],
   "metadata": {
    "collapsed": false
   },
   "id": "9228636d0e758329"
  },
  {
   "cell_type": "code",
   "execution_count": null,
   "outputs": [],
   "source": [
    "DFallpa[\"event\"].unique()\n",
    "events_keep = [\"03_samp\", \"04_go_cue\"]\n",
    "DFallpa = DFallpa[DFallpa[\"event\"].isin(events_keep)].reset_index(drop=True)"
   ],
   "metadata": {
    "collapsed": false
   },
   "id": "49f56c2188b45159"
  },
  {
   "cell_type": "markdown",
   "source": [
    "# PREPROCESS - factorize all relevant labels FIRST here.\n"
   ],
   "metadata": {
    "collapsed": false
   },
   "id": "8634a855e2b24c5a"
  },
  {
   "cell_type": "code",
   "execution_count": null,
   "outputs": [],
   "source": [
    "from neuralmonkey.classes.population_mult import dfallpa_preprocess_vars_conjunctions_extract\n",
    "dfallpa_preprocess_vars_conjunctions_extract(DFallpa, which_level=which_level)\n"
   ],
   "metadata": {
    "collapsed": false
   },
   "id": "441abc9cc89c86b7"
  },
  {
   "cell_type": "code",
   "execution_count": null,
   "outputs": [],
   "source": [
    "dflab = pa.Xlabels[\"trials\"]\n",
    "sorted([col for col in dflab.columns if \"seqc_\" in col])"
   ],
   "metadata": {
    "collapsed": false
   },
   "id": "99c1d21c5e23270e"
  },
  {
   "cell_type": "code",
   "execution_count": null,
   "outputs": [],
   "source": [
    "# Extract all "
   ],
   "metadata": {
    "collapsed": false
   },
   "id": "cdabd18c2d872166"
  },
  {
   "cell_type": "code",
   "execution_count": null,
   "outputs": [],
   "source": [
    "from neuralmonkey.analyses.decode_good import preprocess_factorize_class_labels_ints\n",
    "MAP_LABELS_TO_INT = preprocess_factorize_class_labels_ints(DFallpa)"
   ],
   "metadata": {
    "collapsed": false
   },
   "id": "87e0da3ce5099d79"
  },
  {
   "cell_type": "markdown",
   "source": [
    "# Sandbox -- distribution of variables"
   ],
   "metadata": {
    "collapsed": false
   },
   "id": "1f0c53a7cd8b4115"
  },
  {
   "cell_type": "code",
   "execution_count": null,
   "outputs": [],
   "source": [
    "# Context\n",
    "\n",
    "var = \"CTXT_shapeloc_next\"\n",
    "vars_others = (\"CTXT_shapeloc_prev\", \"shape\", \"gridloc\", \"stroke_index_semantic\", \"task_kind\") # important to have SIS, to separate (shapeloc) from END.\n",
    "\n",
    "\n"
   ],
   "metadata": {
    "collapsed": false
   },
   "id": "20356c2de41fb50c"
  },
  {
   "cell_type": "code",
   "execution_count": null,
   "outputs": [],
   "source": [
    "    # var_loc_next = \"CTXT_loc_next\"\n",
    "    var_loc_next = \"CTXT_locclust_next\"\n",
    "    var_loc_prev = \"CTXT_locclust_prev\"\n",
    "    var_loc = \"loc_on_clust\"\n",
    "\n",
    "    LIST_VAR = [\n",
    "        \"CTXT_loc_next\",\n",
    "        \"CTXT_loc_next\",\n",
    "        \"CTXT_loc_next\",\n",
    "        \"CTXT_shape_next\",\n",
    "        \"CTXT_shape_next\",\n",
    "        \"CTXT_shape_next\",\n",
    "\n",
    "        \"task_kind\",\n",
    "        \"stroke_index\",\n",
    "        \"stroke_index_fromlast_tskstks\",\n",
    "        \"stroke_index_fromlast_tskstks\",\n",
    "        \"FEAT_num_strokes_task\",\n",
    "\n",
    "        \"shape\",\n",
    "        \"shape\",\n",
    "        # \"shape\",\n",
    "        var_loc,\n",
    "        var_loc,\n",
    "        var_loc,\n",
    "    ]\n",
    "    # More restrictive\n",
    "    LIST_VARS_OTHERS = [\n",
    "        [\"stroke_index_is_first\", \"task_kind\", var_loc_prev, \"shape\", var_loc],\n",
    "        [\"stroke_index_is_first\", \"task_kind\", var_loc_prev, \"shape\", var_loc, \"CTXT_shape_next\"],\n",
    "        [\"stroke_index_is_first\", \"task_kind\", \"CTXT_shape_prev\", var_loc_prev, \"shape\", var_loc, \"CTXT_shape_next\"],\n",
    "        [\"stroke_index_is_first\", \"task_kind\", var_loc_prev, \"shape\", var_loc],\n",
    "        [\"stroke_index_is_first\", \"task_kind\", var_loc_prev, \"shape\", var_loc, var_loc_next],\n",
    "        [\"stroke_index_is_first\", \"task_kind\", \"CTXT_shape_prev\", var_loc_prev, \"shape\", var_loc, var_loc_next],\n",
    "\n",
    "        [\"stroke_index_is_first\", \"shape\", var_loc, \"CTXT_shape_prev\", var_loc_prev],\n",
    "        [\"stroke_index_is_first\", \"task_kind\", \"CTXT_shape_prev\", var_loc_prev, \"shape\", var_loc],\n",
    "        [\"stroke_index_is_first\", \"task_kind\", \"CTXT_shape_prev\", var_loc_prev, \"shape\", var_loc],\n",
    "        [\"stroke_index_is_first\", \"FEAT_num_strokes_task\", \"task_kind\", \"CTXT_shape_prev\", var_loc_prev, \"shape\", var_loc],\n",
    "        [\"stroke_index_is_first\", \"task_kind\", var_loc_prev, \"shape\", var_loc, \"stroke_index\"],\n",
    "\n",
    "        # [\"stroke_index_is_first\", \"task_kind\", var_loc, var_loc_prev, var_loc_next],\n",
    "        [\"stroke_index_is_first\", \"task_kind\", var_loc, \"CTXT_shape_prev\", var_loc_prev],\n",
    "        [\"stroke_index_is_first\", \"task_kind\", var_loc, var_loc_prev],\n",
    "        # [\"stroke_index_is_first\", \"task_kind\", var_loc, \"gridloc_within\", \"CTXT_shape_prev\", var_loc_prev],\n",
    "        [\"stroke_index_is_first\", \"task_kind\", \"shape\", \"CTXT_shape_prev\", var_loc_prev, var_loc_next],\n",
    "        [\"stroke_index_is_first\", \"task_kind\", \"shape\", \"CTXT_shape_prev\", var_loc_prev],\n",
    "        [\"stroke_index_is_first\", \"task_kind\", \"shape\", var_loc_prev],\n",
    "        ]\n",
    "\n",
    "    assert len(LIST_VAR)==len(LIST_VARS_OTHERS)\n"
   ],
   "metadata": {
    "collapsed": false
   },
   "id": "35965fa2677a03f7"
  },
  {
   "cell_type": "markdown",
   "source": [
    "# 1) Default: Time-resolved decoding"
   ],
   "metadata": {
    "collapsed": false
   },
   "id": "36745f908f0c7fd6"
  },
  {
   "cell_type": "code",
   "execution_count": null,
   "outputs": [],
   "source": [
    "SAVEDIR_ANALYSIS = \"/tmp\"\n",
    "import os"
   ],
   "metadata": {
    "collapsed": false
   },
   "id": "94465b7df045064f"
  },
  {
   "cell_type": "code",
   "execution_count": null,
   "outputs": [],
   "source": [
    "# List of task kinds\n",
    "pa = DFallpa[\"pa\"].values[0]\n",
    "pa.Xlabels[\"trials\"][\"task_kind\"].value_counts()\n",
    "\n",
    "LIST_TASK_KIND = pa.Xlabels[\"trials\"][\"task_kind\"].unique().tolist()"
   ],
   "metadata": {
    "collapsed": false
   },
   "id": "aa62eee84c10ed1a"
  },
  {
   "cell_type": "code",
   "execution_count": null,
   "outputs": [],
   "source": [
    "SAVEDIR = f\"{SAVEDIR_ANALYSIS}/1_time_resolved\"\n",
    "os.makedirs(SAVEDIR, exist_ok=True)\n",
    "print(SAVEDIR)\n",
    "\n",
    "n_min_trials = 6\n",
    "\n",
    "from neuralmonkey.utils.frmat import bin_frmat_in_time\n",
    "from neuralmonkey.analyses.decode_good import decodewrap_categorical_timeresolved_singlevar, decodewrapouterloop_categorical_timeresolved\n",
    "from pythonlib.tools.plottools import savefig\n",
    "import pandas as pd\n",
    "RES = []\n",
    "\n",
    "# list_vars_decode = [\"seqc_0_shape\", \"seqc_0_loc\"]\n",
    "# list_vars_decode = [\"seqc_0_shape\"]\n",
    "list_vars_decode = [\"shape_this_event\"]\n",
    "# list_vars_decode = [\"seqc_2_shape\"]\n",
    "\n",
    "# list_vars_decode = [\"shape_is_novel_all\"]\n",
    "\n",
    "time_bin_size = 0.2\n",
    "slide = 0.2\n",
    "max_nsplits = 2\n",
    "\n",
    "DFRES = decodewrapouterloop_categorical_timeresolved(DFallpa, list_vars_decode, SAVEDIR, time_bin_size, slide, n_min_trials,\n",
    "                                                     max_nsplits=max_nsplits)\n",
    "# \n",
    "# for i, row in DFallpa.iterrows():\n",
    "#     br = row[\"bregion\"]\n",
    "#     tw = row[\"twind\"]\n",
    "#     ev = row[\"event\"]\n",
    "#     PA = row[\"pa\"]\n",
    "#     \n",
    "#     for task_kind in LIST_TASK_KIND:\n",
    "#         pa = PA.slice_by_labels(\"trials\", \"task_kind\", [task_kind])\n",
    "#     \n",
    "#         # 2. Extract X from pa\n",
    "#         X = pa.X # (nchans, ntrials, ntimes)\n",
    "#         times = pa.Times\n",
    "#         dflab = pa.Xlabels[\"trials\"]\n",
    "#     \n",
    "#         \n",
    "#         for var_decode in list_vars_decode:\n",
    "#             print(br, ev, var_decode)\n",
    "#             \n",
    "#             # Prune dflab\n",
    "#             from pythonlib.tools.pandastools import filter_by_min_n\n",
    "#             dftmp = filter_by_min_n(dflab, var_decode, n_min_trials)\n",
    "#             \n",
    "#             if len(dftmp)>0:\n",
    "#                 indskeep = dftmp[\"_index\"].tolist()\n",
    "#                 Xthis = X[:, indskeep, :]\n",
    "#                 dflab_this = dflab.iloc[indskeep]\n",
    "#                 \n",
    "#                 if len(dflab_this[var_decode].unique())==1:\n",
    "#                     print(\"SKIPPING, becuase only one label:\")\n",
    "#                     print(dflab_this[var_decode].unique())\n",
    "#                     continue\n",
    "#         \n",
    "#                 if len(Xthis)>0:\n",
    "#                     res = decodewrap_categorical_timeresolved_singlevar(Xthis, times, dflab_this, [var_decode],\n",
    "#                                                   time_bin_size=time_bin_size, slide=slide, max_nsplits=max_nsplits)\n",
    "#                     for r in res:\n",
    "#                         r[\"event\"]=ev\n",
    "#                         r[\"bregion\"]=br\n",
    "#                         r[\"twind\"]=tw\n",
    "#                         r[\"var_decode\"]=var_decode\n",
    "#                         r[\"task_kind\"] = task_kind\n",
    "#                     RES.extend(res)\n",
    "#                 \n",
    "# DFRES = pd.DataFrame(RES)"
   ],
   "metadata": {
    "collapsed": false
   },
   "id": "c8a276f76dd803cc"
  },
  {
   "cell_type": "markdown",
   "source": [
    "# 4) Cross-condition decoding"
   ],
   "metadata": {
    "collapsed": false
   },
   "id": "98ec3d6e76bf4ebb"
  },
  {
   "cell_type": "code",
   "execution_count": null,
   "outputs": [],
   "source": [
    "# For each time bin, decode shape genearlizing across location"
   ],
   "metadata": {
    "collapsed": false
   },
   "id": "4237c1dd8d95bce"
  },
  {
   "cell_type": "code",
   "execution_count": null,
   "outputs": [],
   "source": [
    "from neuralmonkey.analyses.decode_good import decode_train_model, decode_categorical_cross_condition,decodewrap_categorical_timeresolved_cross_condition\n",
    "\n",
    "list_br = DFallpa[\"bregion\"].unique().tolist()\n",
    "list_tw = DFallpa[\"twind\"].unique().tolist()\n",
    "list_ev = DFallpa[\"event\"].unique().tolist()\n",
    "\n",
    "\n"
   ],
   "metadata": {
    "collapsed": false
   },
   "id": "f752951c3d6f1846"
  },
  {
   "cell_type": "code",
   "execution_count": null,
   "outputs": [],
   "source": [
    "MAP_LABELS_TO_INT[\"shape\"]"
   ],
   "metadata": {
    "collapsed": false
   },
   "id": "3991acb980a7948e"
  },
  {
   "cell_type": "code",
   "execution_count": null,
   "outputs": [],
   "source": [
    "SAVEDIR = \"/tmp\""
   ],
   "metadata": {
    "collapsed": false
   },
   "id": "78e6a7b2d10704a4"
  },
  {
   "cell_type": "code",
   "execution_count": null,
   "outputs": [],
   "source": [
    "MAP_LABELS_TO_INT[\"loc\"][\"map_int_to_class\"]"
   ],
   "metadata": {
    "collapsed": false
   },
   "id": "8872524005a2f929"
  },
  {
   "cell_type": "code",
   "execution_count": null,
   "outputs": [],
   "source": [
    "from neuralmonkey.analyses.decode_good import decodewrap_categorical_timeresolved_cross_condition, decodewrapouterloop_categorical_timeresolved_cross_condition\n",
    "\n",
    "filtdict = None\n",
    "separate_by_task_kind = True\n",
    "\n",
    "# PARAMS\n",
    "# subtract_mean_vars_conj = True # WHether to normalize by sutbracting mean within each level of othervar...\n",
    "\n",
    "\n",
    "# Context\n",
    "list_var_decode = [\n",
    "    \"taskconfig_shp_SHSEM\",\n",
    "    \"taskconfig_shp_SHSEM\",\n",
    "    \"taskconfig_shp_SHSEM\",\n",
    "    \"taskconfig_shploc_SHSEM\",\n",
    "    \"taskconfig_shploc_SHSEM\",\n",
    "    \"taskconfig_shploc_SHSEM\",\n",
    "]\n",
    "list_vars_conj = [\n",
    "    [\"task_kind\"], # minimal control\n",
    "    [\"seqc_0_shape\", \"seqc_0_center_binned\", \"task_kind\"], # control for first action.\n",
    "    [\"character\", \"task_kind\"], # control for image.\n",
    "    [\"task_kind\"], # minimal control\n",
    "    [\"seqc_0_shape\", \"seqc_0_center_binned\", \"task_kind\"], # control for first action.\n",
    "    [\"character\", \"task_kind\"], # control for image.\n",
    "    ]\n",
    "\n",
    "time_bin_size = 0.2\n",
    "slide = 0.2\n",
    "subtract_mean_vars_conj = False\n",
    "DFRES = decodewrapouterloop_categorical_timeresolved_cross_condition(DFallpa, list_var_decode,\n",
    "                                                     list_vars_conj,\n",
    "                                                     SAVEDIR, time_bin_size=time_bin_size, slide=slide,\n",
    "                                                     subtract_mean_vars_conj=subtract_mean_vars_conj,\n",
    "                                                                     filtdict=filtdict,\n",
    "                                                                     separate_by_task_kind=separate_by_task_kind)\n",
    "\n"
   ],
   "metadata": {
    "collapsed": false
   },
   "id": "ea62377c46cf112b"
  },
  {
   "cell_type": "markdown",
   "source": [
    "# 2b) Separate decoder for each level of other var (then take average over decoders). Useful to controlling for variables"
   ],
   "metadata": {
    "collapsed": false
   },
   "id": "14744ec7fa463a16"
  },
  {
   "cell_type": "code",
   "execution_count": null,
   "outputs": [],
   "source": [
    "from neuralmonkey.classes.population_mult import dfallpa_preprocess_vars_conjunctions_extract\n",
    "dfallpa_preprocess_vars_conjunctions_extract(DFallpa, which_level)"
   ],
   "metadata": {
    "collapsed": false
   },
   "id": "2e6958e15184de87"
  },
  {
   "cell_type": "code",
   "execution_count": null,
   "outputs": [],
   "source": [
    "# Preprocess for sequence context\n",
    "SEQ_CONTEXT_MODE = \"seq_pred\"\n",
    "            from neuralmonkey.analyses.rsa import rsagood_questions_dict, rsagood_questions_params\n",
    "            from neuralmonkey.analyses.rsa import preprocess_prune_pa_enough_data, preprocess_rsa_prepare_popanal_wrapper\n",
    "            \n",
    "            q_params = rsagood_questions_dict(animal, date, SEQ_CONTEXT_MODE)[SEQ_CONTEXT_MODE]\n",
    "            # q_params[\"effect_vars\"] = [\"shape_this_event\", \"loc_this_event\", \"stroke_index_fromlast_tskstks\"]         \n",
    "            # q_params[\"effect_vars\"] = [\"shape_this_event\", \"loc_this_event\", \"stroke_index\"]         \n",
    "            q_params[\"effect_vars\"] = [var_decode] + vars_conj_condition         \n",
    "            \n",
    "            # q_params[\"exclude_first_stroke\"] = False\n",
    "            pa, res_check_tasksets, res_check_effectvars = preprocess_rsa_prepare_popanal_wrapper(pa, **q_params)\n"
   ],
   "metadata": {
    "collapsed": false
   },
   "id": "8105d779dd26c63c"
  },
  {
   "cell_type": "code",
   "execution_count": null,
   "outputs": [],
   "source": [
    "from neuralmonkey.analyses.decode_good import decodewrapouterloop_categorical_timeresolved_within_condition"
   ],
   "metadata": {
    "collapsed": false
   },
   "id": "46879615721504a2"
  },
  {
   "cell_type": "code",
   "execution_count": null,
   "outputs": [],
   "source": [
    "SAVEDIR = \"/tmp\""
   ],
   "metadata": {
    "collapsed": false
   },
   "id": "7f5692844afa5b51"
  },
  {
   "cell_type": "code",
   "execution_count": null,
   "outputs": [],
   "source": [
    "# Variable --> shape config\n",
    "pa = DFallpa[\"pa\"].values[0]\n",
    "dflab = pa.Xlabels[\"trials\"]\n",
    "dflab[:10]"
   ],
   "metadata": {
    "collapsed": false
   },
   "id": "59fc914abdb214aa"
  },
  {
   "cell_type": "code",
   "execution_count": null,
   "outputs": [],
   "source": [
    "# PARAMS\n",
    "\n",
    "separate_by_task_kind = True\n",
    "\n",
    "# Context\n",
    "# Context\n",
    "list_var_decode = [\n",
    "    \"seqc_0_shape\",\n",
    "    \"seqc_0_shape\",\n",
    "    \"seqc_0_shapesemcat\",\n",
    "    \"seqc_0_locon_binned\",\n",
    "]\n",
    "list_vars_conj = [\n",
    "    [\"seqc_0_center_binned\", \"gridsize\", \"task_kind\"],\n",
    "    [\"taskconfig_shp_SHSEM\", \"seqc_0_center_binned\", \"task_kind\"], # control for parse\n",
    "    [\"seqc_0_center_binned\", \"gridsize\", \"task_kind\"],\n",
    "    [\"seqc_0_shape\", \"gridsize\", \"task_kind\"],\n",
    "    ]\n",
    "# filtdict = {\n",
    "#     \"stroke_index\":[0,3,4,5,6,7,8],\n",
    "# }\n",
    "# TRy with and without this.\n",
    "filtdict = None\n",
    "\n",
    "\n",
    "# RUns\n",
    "max_nsplits = 2\n",
    "time_bin_size = 0.2\n",
    "slide = 0.2\n",
    "\n",
    "# filtdict = {\n",
    "#     \"stroke_index\":[0,1, 23,4,5,6,7,8],\n",
    "# }\n",
    "# filtdict = None\n",
    "\n",
    "# PARAMS\n",
    "DFRES = decodewrapouterloop_categorical_timeresolved_within_condition(DFallpa, list_var_decode,\n",
    "                                                     list_vars_conj,\n",
    "                                                    SAVEDIR, time_bin_size=time_bin_size, slide=slide, filtdict=filtdict,\n",
    "                                                                      separate_by_task_kind=separate_by_task_kind)\n"
   ],
   "metadata": {
    "collapsed": false
   },
   "id": "659c92a799c90cf6"
  },
  {
   "cell_type": "code",
   "execution_count": null,
   "outputs": [],
   "source": [
    "pa = DFallpa[\"pa\"].values[0]\n",
    "dflab = pa.Xlabels[\"trials\"]\n",
    "from pythonlib.tools.pandastools import extract_with_levels_of_conjunction_vars\n",
    "prune_min_n_trials = 5\n",
    "prune_min_n_levs = 2\n",
    "plot_counts_heatmap_savepath = \"/tmp/tmp.png\"\n",
    "balance_no_missed_conjunctions = False\n",
    "extract_with_levels_of_conjunction_vars(dflab, list_var_decode[0], list_vars_conj[0],\n",
    "                                                                 n_min_across_all_levs_var=prune_min_n_trials,\n",
    "                                                                 lenient_allow_data_if_has_n_levels=prune_min_n_levs,\n",
    "                                                                 prune_levels_with_low_n=True,\n",
    "                                                                 ignore_values_called_ignore=True,\n",
    "                                                                 plot_counts_heatmap_savepath=plot_counts_heatmap_savepath,\n",
    "                                                                 balance_no_missed_conjunctions=balance_no_missed_conjunctions)\n"
   ],
   "metadata": {
    "collapsed": false
   },
   "id": "11427ae70eb5cc2b"
  },
  {
   "cell_type": "markdown",
   "source": [
    "# 3) Train a single decoder on specific dataset, then test across all time"
   ],
   "metadata": {
    "collapsed": false
   },
   "id": "d3691223d7c46942"
  },
  {
   "cell_type": "code",
   "execution_count": null,
   "outputs": [],
   "source": [
    "# HACK - combine all bregions into single pa\n",
    "if False:\n",
    "    from neuralmonkey.classes.population import concatenate_popanals_flexible\n",
    "    list_wl = DFallpa[\"which_level\"].unique().tolist()\n",
    "    resthis = []\n",
    "    for wl in list_wl:\n",
    "        for ev in list_ev:\n",
    "            for tw in list_tw:\n",
    "                a = DFallpa[\"event\"] == ev\n",
    "                b = DFallpa[\"twind\"] == tw\n",
    "                c = DFallpa[\"which_level\"] == wl\n",
    "                dfthis = DFallpa[a & b]\n",
    "                pa = concatenate_popanals_flexible(dfthis[\"pa\"].tolist(), \"chans\")[0]\n",
    "                resthis.append({\n",
    "                    \"which_level\":wl,\n",
    "                    \"event\":ev,\n",
    "                    \"bregion\":\"ALL\",\n",
    "                    \"twind\":tw,\n",
    "                    \"pa\":pa\n",
    "                })\n",
    "    DFallpa_ALL = pd.DataFrame(resthis)\n",
    "    DFallpa_ALL"
   ],
   "metadata": {
    "collapsed": false
   },
   "id": "f0c16b1af399872b"
  },
  {
   "cell_type": "code",
   "execution_count": null,
   "outputs": [],
   "source": [
    "trials_train = pa.Xlabels[\"trials\"][pa.Xlabels[\"trials\"][\"task_kind\"]==\"prims_single\"].index.tolist()\n",
    "trials_test = pa.Xlabels[\"trials\"][pa.Xlabels[\"trials\"][\"task_kind\"]==\"prims_on_grid\"].index.tolist()\n",
    "ntrials_expected_assert = len(pa.Xlabels[\"trials\"])"
   ],
   "metadata": {
    "collapsed": false
   },
   "id": "71d93407c75be66d"
  },
  {
   "cell_type": "code",
   "execution_count": null,
   "outputs": [],
   "source": [
    "HACK = False\n",
    "if HACK:\n",
    "    # Use all brain regions\n",
    "    DFallpaTHIS = DFallpa_ALL\n",
    "else:\n",
    "    DFallpaTHIS = DFallpa\n",
    "\n",
    "from neuralmonkey.analyses.decode_good import decodewrap_categorical_single_decoder_across_time\n",
    "list_br = DFallpaTHIS[\"bregion\"].unique().tolist()\n",
    "list_tw = DFallpaTHIS[\"twind\"].unique().tolist()\n",
    "# list_var_decode = [\"seqc_0_shape\", \"seqc_0_loc\"]\n",
    "list_var_decode = [\"seqc_0_shape\"]\n",
    "# ev_train = \"03_samp\"\n",
    "# twind_train = [0.4, 0.6]\n",
    "ev_train = \"06_on_strokeidx_0\"\n",
    "twind_train = [0.05, 0.35]\n",
    "\n",
    "ev_test = \"03_samp\"\n",
    "# ev_test = \"06_on_strokeidx_0\"\n",
    "time_bin_size=0.05\n",
    "slide=0.025\n"
   ],
   "metadata": {
    "collapsed": false
   },
   "id": "e57ef9aec8741621"
  },
  {
   "cell_type": "code",
   "execution_count": null,
   "outputs": [],
   "source": [
    "RES = []\n",
    "for br in list_br:\n",
    "    for tw in list_tw:\n",
    "        # 1. Extract the specific pa for this (br, tw)\n",
    "        \n",
    "        # Prep train and test PA\n",
    "        PA_train = extract_single_pa(DFallpaTHIS, br, tw, event=ev_train)\n",
    "        PA_train = PA_train.slice_by_dim_values_wrapper(\"trials\", trials_train)\n",
    "        PA_train = PA_train.slice_by_dim_values_wrapper(\"times\", twind_train)\n",
    "        PA_train = PA_train.agg_wrapper(\"times\")\n",
    "        x_train = PA_train.X.squeeze(axis=2).T # (ntrials, nchans)\n",
    "        \n",
    "        PA_test = extract_single_pa(DFallpaTHIS, br, tw, event=ev_test)\n",
    "        PA_test = PA_test.slice_by_dim_values_wrapper(\"trials\", trials_test)\n",
    "        if time_bin_size is not None:\n",
    "            PA_test = PA_test.agg_by_time_windows_binned(time_bin_size, slide)\n",
    "        X_test = PA_test.X # (chans, trials, times)\n",
    "        times_test = PA_test.Times\n",
    "        \n",
    "        for var_decode in list_var_decode:\n",
    "\n",
    "            # Train model\n",
    "            labels_train = PA_train.Xlabels[\"trials\"][var_decode].tolist()\n",
    "            \n",
    "            # Get test data\n",
    "            labels_test = PA_test.Xlabels[\"trials\"][var_decode].tolist()\n",
    "            \n",
    "            res = decodewrap_categorical_single_decoder_across_time(x_train, labels_train, X_test, labels_test,\n",
    "                                                                  times_test, do_std=False)\n",
    "        \n",
    "            for r in res:\n",
    "                r[\"var_decode\"]=var_decode\n",
    "                r[\"bregion\"]=br\n",
    "                r[\"twind\"]=tw   \n",
    "                r[\"event\"] = ev_test\n",
    "\n",
    "            RES.extend(res)\n",
    "\n",
    "DFRES = pd.DataFrame(RES)\n",
    " "
   ],
   "metadata": {
    "collapsed": false
   },
   "id": "d6abaf4b5797db13"
  },
  {
   "cell_type": "markdown",
   "source": [
    "### Extract single trial results"
   ],
   "metadata": {
    "collapsed": false
   },
   "id": "d3a21d2839843b42"
  },
  {
   "cell_type": "code",
   "execution_count": null,
   "outputs": [],
   "source": [
    "\n",
    "# PARAMS\n",
    "var_decode = \"seqc_0_shape\"\n",
    "bregion = \"PMv\"\n",
    "twind = (-0.4, 0.6)"
   ],
   "metadata": {
    "collapsed": false
   },
   "id": "f98b66754dbece70"
  },
  {
   "cell_type": "code",
   "execution_count": null,
   "outputs": [],
   "source": [
    "\n",
    "a = DFRES[\"var_decode\"]==var_decode\n",
    "b = DFRES[\"bregion\"]==bregion\n",
    "c = DFRES[\"twind\"]==twind\n",
    "dfthis = DFRES[a & b & c]\n",
    "\n",
    "times = dfthis[\"time\"]\n",
    "import numpy as np\n",
    "labels_predicted = np.stack(dfthis[\"labels_predicted\"]).T # (ntrials, ntimes)\n",
    "labels_test = np.stack(dfthis[\"labels_test\"]).T\n",
    "conf_scores = np.transpose(np.stack(dfthis[\"conf_scores\"]), [1,0,2]) # (ntrials, ntimes, nclasses)\n",
    "\n",
    "# score each time bin as correct or incorrect\n",
    "labels_correct = (labels_predicted == labels_test).astype(int)\n"
   ],
   "metadata": {
    "collapsed": false
   },
   "id": "e8296d5b9f2e7ea8"
  },
  {
   "cell_type": "code",
   "execution_count": null,
   "outputs": [],
   "source": [
    "# For each trial, what was its label\n",
    "assert np.all(np.diff(labels_test, axis=1))==0, \"otherwise cant do next step.\"\n",
    "labels_each_trial = labels_test[:,0]\n",
    "labels_orig = PA_test.Xlabels[\"trials\"][var_decode].tolist()\n",
    "assert len(labels_orig)==len(labels_each_trial)\n",
    "\n",
    "map_labint_to_trials = {}\n",
    "map_labint_to_laborig = {}\n",
    "labels_unique = np.unique(labels_each_trial)\n",
    "for lab in labels_unique:\n",
    "    inds_this_label = np.argwhere(labels_each_trial == lab).squeeze() # the indices which ahve this label as the CORRECT\n",
    "    map_labint_to_trials[lab] = inds_this_label\n",
    "\n",
    "    # Map it back to original label\n",
    "    lab_orig = PA_test.Xlabels[\"trials\"][var_decode][inds_this_label].unique()\n",
    "    assert len(lab_orig)==1\n",
    "    map_labint_to_laborig[lab] = lab_orig[0]\n",
    "\n",
    "map_trial_to_labint = {i:labint for i, labint in enumerate(labels_each_trial)}\n",
    "print(map_labint_to_laborig)    \n",
    "map_laborig_to_labint = {}\n",
    "for labint, laborig in map_labint_to_laborig.items():\n",
    "    assert laborig not in map_laborig_to_labint\n",
    "    map_laborig_to_labint[laborig] = labint\n",
    "\n",
    "import matplotlib.pyplot as plt\n",
    "from pythonlib.tools.plottools import makeColors\n",
    "pcols = makeColors(len(map_labint_to_laborig))\n",
    "map_trial_to_seq = {}\n",
    "map_trial_to_seq_ints = {}\n",
    "for i, seq in enumerate(PA_test.Xlabels[\"trials\"].loc[:, [\"seqc_0_shape\", \"seqc_1_shape\"]].values.tolist()):\n",
    "    map_trial_to_seq[i] = (tuple(seq))\n",
    "    map_trial_to_seq_ints[i] = [map_laborig_to_labint[s] if s in map_laborig_to_labint else s for s in seq]\n"
   ],
   "metadata": {
    "collapsed": false
   },
   "id": "3025b97e2c823fa8"
  },
  {
   "cell_type": "code",
   "execution_count": null,
   "outputs": [],
   "source": [
    "# Pick n random trials\n",
    "import random\n",
    "n=  9\n",
    "trials_all = list(range(len(map_trial_to_labint)))\n",
    "trials = random.sample(trials_all, n)\n",
    "ncols = 3\n",
    "nrows = int(np.ceil(len(trials)/ncols))\n",
    "fig, axes = plt.subplots(nrows, ncols, figsize=(ncols*4, nrows*3), sharex=True, sharey=True)\n",
    "\n",
    "for tr, ax in zip(trials, axes.flatten()):\n",
    "    \n",
    "    # ax = axes.flatten()[0]\n",
    "    lab_pred = labels_predicted[tr,:]\n",
    "    # lab_corr = labels_correct[trial,:]\n",
    "    # lab_test = labels_test[trial,:]\n",
    "    # ax.plot(times, lab_pred, \"-ok\"),\n",
    "    # ax.plot(times, lab_test, \"-r\")\n",
    "    \n",
    "    # for each class, plot its time series\n",
    "    for labint in map_labint_to_laborig:\n",
    "        cs_this_lab = conf_scores[tr, :, labint].squeeze()\n",
    "        \n",
    "        ax.plot(times, cs_this_lab, label=labint, color=pcols[labint])\n",
    "        # ax.plot(times[lab_pred==labint], cs_this_lab[lab_pred==labint], \"-\", color=pcols[labint], linewidth=4)\n",
    "        ax.plot(times[lab_pred==labint], cs_this_lab[lab_pred==labint], \"s\", color=pcols[labint])\n",
    "    \n",
    "    ax.axvline(0, color=\"k\", alpha=0.5)\n",
    "    ax.set_title(f\"{var_decode}={map_trial_to_labint[tr]}\", color=pcols[map_trial_to_labint[tr]])\n",
    "    ax.set_xlabel(f\"seq: {map_trial_to_seq_ints[tr]}\")\n",
    "    ax.legend()\n",
    "        "
   ],
   "metadata": {
    "collapsed": false
   },
   "id": "eeac8f2e7321bfd2"
  },
  {
   "cell_type": "code",
   "execution_count": null,
   "outputs": [],
   "source": [
    "# For each class label, collect all trials for which that is the correct label, and overlap\n",
    "\n",
    "labels_unique = np.unique(labels_each_trial)\n",
    "ncols = 3\n",
    "nrows = int(np.ceil(len(labels_unique)/ncols))\n",
    "\n",
    "fig, axes = plt.subplots(nrows, ncols, figsize=(ncols*4, nrows*4))\n",
    "\n",
    "for lab, ax in zip(labels_unique, axes.flatten()):\n",
    "    inds_this_label = np.argwhere(labels_each_trial == lab).squeeze() # the indices which ahve this label as the CORRECT \n",
    "    ax.plot(times, labels_predicted[inds_this_label, :].T, \"-ok\", alpha=0.05)\n",
    "    ax.set_title(lab)\n",
    "    \n",
    "    "
   ],
   "metadata": {
    "collapsed": false
   },
   "id": "8efa1735ce6376c3"
  },
  {
   "cell_type": "code",
   "execution_count": null,
   "outputs": [],
   "source": [
    "fig, axes = plt.subplots(2,2, figsize=(10,10))\n",
    "\n",
    "ax = axes.flatten()[0]\n",
    "ax.plot(times, labels_correct.T, \"xk\", alpha=0.003);"
   ],
   "metadata": {
    "collapsed": false
   },
   "id": "6c7a8e07c6d583ea"
  },
  {
   "cell_type": "code",
   "execution_count": null,
   "outputs": [],
   "source": [
    "##### Plot the results, comparing score across methods!!\n",
    "%matplotlib inline\n",
    "import seaborn as sns\n",
    "fig = sns.relplot(data=DFRES, x=\"time\", y=\"score\", hue=\"bregion\", col=\"var_decode\",  kind=\"line\")\n"
   ],
   "metadata": {
    "collapsed": false
   },
   "id": "7ddae94bd60f728e"
  },
  {
   "cell_type": "code",
   "execution_count": null,
   "outputs": [],
   "source": [
    "##### Plot the results, comparing score across methods!!\n",
    "%matplotlib inline\n",
    "import seaborn as sns\n",
    "fig = sns.relplot(data=DFRES, x=\"time\", y=\"score\", hue=\"bregion\", col=\"var_decode\",  kind=\"line\")\n"
   ],
   "metadata": {
    "collapsed": false
   },
   "id": "4ef8b1c64ea5cadd"
  },
  {
   "cell_type": "markdown",
   "source": [
    "\n",
    "# 4) Cross-decoding across time bins"
   ],
   "metadata": {
    "collapsed": false
   },
   "id": "d3e89d8c3064a967"
  },
  {
   "cell_type": "code",
   "execution_count": null,
   "outputs": [],
   "source": [
    "from neuralmonkey.analyses.decode_good import decodewrapouterloop_categorical_cross_time"
   ],
   "metadata": {
    "collapsed": false
   },
   "id": "5483ffe2c1ea629f"
  },
  {
   "cell_type": "code",
   "execution_count": null,
   "outputs": [],
   "source": [
    "SAVEDIR_ANALYSIS = \"/tmp\"\n",
    "import os"
   ],
   "metadata": {
    "collapsed": false
   },
   "id": "af81acf8ae6cd5d0"
  },
  {
   "cell_type": "code",
   "execution_count": null,
   "outputs": [],
   "source": [
    "from neuralmonkey.analyses.decode_good import decodewrap_categorical_cross_time\n",
    "\n",
    "SAVEDIR = f\"{SAVEDIR_ANALYSIS}/3_cross_temporal\"\n",
    "os.makedirs(SAVEDIR, exist_ok=True)\n",
    "print(SAVEDIR)\n"
   ],
   "metadata": {
    "collapsed": false
   },
   "id": "3813e5625d5647dc"
  },
  {
   "cell_type": "markdown",
   "source": [
    "##### A variation, where instead of first concatting PAs, just compute decode separately (and across PA) and then concatenate to plot\n",
    "Advantage: dont have to have identical trials, which is needed if you want to concat breigons"
   ],
   "metadata": {
    "collapsed": false
   },
   "id": "3658025bc4117336"
  },
  {
   "cell_type": "code",
   "execution_count": null,
   "outputs": [],
   "source": [
    "\n",
    "assert False, \"add methdo to subtract mean in other window...\""
   ],
   "metadata": {
    "collapsed": false
   },
   "id": "28003a0e2a0f59f2"
  },
  {
   "cell_type": "code",
   "execution_count": null,
   "outputs": [],
   "source": [
    "DFallpa"
   ],
   "metadata": {
    "collapsed": false
   },
   "id": "eb762d8394e495c0"
  },
  {
   "cell_type": "code",
   "execution_count": null,
   "outputs": [],
   "source": [
    "DFallpa_TEST = DFallpa[:20]"
   ],
   "metadata": {
    "collapsed": false
   },
   "id": "a8cd08d2eabd4017"
  },
  {
   "cell_type": "code",
   "execution_count": null,
   "outputs": [],
   "source": [
    "list_var_decode"
   ],
   "metadata": {
    "collapsed": false
   },
   "id": "277450d6e1171809"
  },
  {
   "cell_type": "code",
   "execution_count": null,
   "outputs": [],
   "source": [
    "\n",
    "from neuralmonkey.analyses.decode_good import preprocess_extract_X_and_labels\n",
    "from neuralmonkey.analyses.decode_good import decodewrap_categorical_cross_time, decodewrapouterloop_categorical_cross_time_plot\n",
    "\n",
    "SAVEDIR = f\"{SAVEDIR_ANALYSIS}/3_cross_temporal\"\n",
    "os.makedirs(SAVEDIR, exist_ok=True)\n",
    "print(SAVEDIR)\n",
    "\n",
    "# Make sure all pa use the same variables to refer to shapes.\n",
    "import warnings\n",
    "warnings.filterwarnings(\"default\")\n",
    "# warnings.filterwarnings(\"error\")\n",
    "time_bin_size = 0.3\n",
    "slide=0.3\n",
    "\n",
    "list_vars_decode = [\"seqc_0_shape\"]\n",
    "list_ev = ['04_go_cue', '06_on_STK_1']\n",
    "\n",
    "assert len(DFallpa[\"twind\"].unique())==1, \"not big deal. just change code below to iter over all (ev, tw).\"\n",
    "\n",
    "from neuralmonkey.analyses.decode_good import decodewrapouterloop_categorical_cross_time\n",
    "DFRES = decodewrapouterloop_categorical_cross_time(DFallpa_TEST, list_var_decode, time_bin_size, slide)\n"
   ],
   "metadata": {
    "collapsed": false
   },
   "id": "18e78f93ad0a24c"
  },
  {
   "cell_type": "code",
   "execution_count": null,
   "outputs": [],
   "source": [
    "from neuralmonkey.analyses.decode_good import decodewrap_categorical_cross_time, decodewrapouterloop_categorical_cross_time_plot\n",
    "decodewrapouterloop_categorical_cross_time_plot(DFRES, SAVEDIR)"
   ],
   "metadata": {
    "collapsed": false
   },
   "id": "bb93cb1ae6dee162"
  },
  {
   "cell_type": "markdown",
   "source": [
    "##### Variation, focusing on \"shape_this_event\""
   ],
   "metadata": {
    "collapsed": false
   },
   "id": "9266dbf14fa3a06d"
  },
  {
   "cell_type": "code",
   "execution_count": null,
   "outputs": [],
   "source": [
    "list_var_decode = [\"shape_this_event\"]\n",
    "time_bin_size = 0.2\n",
    "slide = 0.2\n",
    "DFRES = decodewrapouterloop_categorical_cross_time(DFallpa, list_var_decode, time_bin_size, slide, savedir_ndata=\"/tmp\")\n"
   ],
   "metadata": {
    "collapsed": false
   },
   "id": "f256b68bd8e88050"
  },
  {
   "cell_type": "code",
   "execution_count": null,
   "outputs": [],
   "source": [
    "DFRES[:2]"
   ],
   "metadata": {
    "collapsed": false
   },
   "id": "40e8fbfe3e9fb2f2"
  },
  {
   "cell_type": "code",
   "execution_count": null,
   "outputs": [],
   "source": [
    "for var in [\"event_train\", \"event_test\", \"task_kind_train\", \"task_kind_test\"]:\n",
    "    print(DFRES[var].unique())\n"
   ],
   "metadata": {
    "collapsed": false
   },
   "id": "e137d821cf73cebb"
  },
  {
   "cell_type": "code",
   "execution_count": null,
   "outputs": [],
   "source": [
    "import numpy as np\n",
    "inds = list(range(100000))\n"
   ],
   "metadata": {
    "collapsed": false
   },
   "id": "b04d9cab20007a67"
  },
  {
   "cell_type": "code",
   "execution_count": null,
   "outputs": [],
   "source": [
    "%%timeit\n",
    "np.all(np.diff(inds)==1)"
   ],
   "metadata": {
    "collapsed": false
   },
   "id": "1b0e131f5af23123"
  },
  {
   "cell_type": "code",
   "execution_count": null,
   "outputs": [],
   "source": [
    "%%timeit\n",
    "(list(sorted(set(inds)))==inds) and (inds[-1] == len(inds)-1)\n",
    "\n"
   ],
   "metadata": {
    "collapsed": false
   },
   "id": "8b568bc83ee56db9"
  },
  {
   "cell_type": "code",
   "execution_count": null,
   "outputs": [],
   "source": [
    "%%timeit\n",
    "(list(sorted(set(inds)))==inds) and (inds[-1] == len(inds)-1)\n",
    "\n"
   ],
   "metadata": {
    "collapsed": false
   },
   "id": "c4af0d8c987c2465"
  },
  {
   "cell_type": "code",
   "execution_count": null,
   "outputs": [],
   "source": [],
   "metadata": {
    "collapsed": false
   },
   "id": "2ebc0a166e61379b"
  },
  {
   "cell_type": "code",
   "execution_count": null,
   "outputs": [],
   "source": [
    "%%timeit\n",
    "all([i2-i1==1 for i1, i2 in zip(inds[:-1], inds[1:])])"
   ],
   "metadata": {
    "collapsed": false
   },
   "id": "f6b9549a0b1e970b"
  },
  {
   "cell_type": "markdown",
   "source": [
    "##### New plots, which compare decoding across-context vs. within-context, etc."
   ],
   "metadata": {
    "collapsed": false
   },
   "id": "a08e6fd791aa04c9"
  },
  {
   "cell_type": "code",
   "execution_count": null,
   "outputs": [],
   "source": [
    "DFRESTHIS = DFRES[DFRES[\"bregion\"].isin([\"M1_m\", \"PM_v\"])].reset_index(drop=True)"
   ],
   "metadata": {
    "collapsed": false
   },
   "id": "802badf0ea8691fd"
  },
  {
   "cell_type": "code",
   "execution_count": null,
   "outputs": [],
   "source": [
    "from neuralmonkey.analyses.decode_good import decodewrapouterloop_categorical_cross_time_plot_compare_contexts\n",
    "\n",
    "var_decode = \"shape_this_event\"\n",
    "SAVEDIR = \"/tmp\"\n",
    "decodewrapouterloop_categorical_cross_time_plot_compare_contexts(DFRESTHIS, var_decode,\n",
    "                                                                     SAVEDIR)\n"
   ],
   "metadata": {
    "collapsed": false
   },
   "id": "63a3476c431b9115"
  },
  {
   "cell_type": "markdown",
   "source": [
    "##### For a given decoder, plot its predictions during a given event [OBSOLETE< see #5 below)"
   ],
   "metadata": {
    "collapsed": false
   },
   "id": "69deb18aa11e2266"
  },
  {
   "cell_type": "code",
   "execution_count": null,
   "outputs": [],
   "source": [
    "\n",
    "\n",
    "bregion = \"PMv\"\n",
    "\n",
    "var_decode = \"seqc_0_shape\"\n",
    "event_train = \"04_go_cue\"\n",
    "tbin_train = 1\n",
    "event_test = \"06_on_STK_1\"\n",
    "tbin_test = 1\n",
    "\n",
    "# var_decode = \"seqc_0_shape\"\n",
    "# event_train = \"04_go_cue\"\n",
    "# tbin_train = 1\n",
    "# event_test = \"06_on_STK_0\"\n",
    "# tbin_test = 1\n",
    "# \n",
    "# var_decode = \"seqc_0_shape\"\n",
    "# event_train = \"06_on_STK_0\"\n",
    "# tbin_train = 2\n",
    "# event_test = \"04_go_cue\"\n",
    "# tbin_test = 1\n",
    "\n",
    "a = DFRES[\"bregion\"] == bregion\n",
    "b = DFRES[\"var_decode\"] == var_decode\n",
    "c = DFRES[\"event_train\"] == event_train\n",
    "d = DFRES[\"tbin_train\"] == tbin_train\n",
    "e = DFRES[\"event_test\"] == event_test\n",
    "f = DFRES[\"tbin_test\"] == tbin_test\n",
    "\n",
    "tmp = DFRES[a & b & c & d & e & f]\n",
    "assert len(tmp)==1\n",
    "\n",
    "# Labels (convert label ints to actual value)\n",
    "labels_pred = tmp[\"labels_predicted\"].values[0]\n",
    "map_int_to_lab = tmp[\"map_int_to_lab\"].values[0]\n",
    "labels_pred = [map_int_to_lab[i] for i in labels_pred]\n",
    "\n",
    "score = tmp[\"score\"].values[0]\n",
    "\n",
    "# For each trial, compare to its sequence context\n",
    "inds_keep_test = tmp[\"inds_keep_test\"].values[0]\n"
   ],
   "metadata": {
    "collapsed": false
   },
   "id": "106c2e0e46abc6a6"
  },
  {
   "cell_type": "code",
   "execution_count": null,
   "outputs": [],
   "source": [],
   "metadata": {
    "collapsed": false
   },
   "id": "3daaef98ed34201b"
  },
  {
   "cell_type": "code",
   "execution_count": null,
   "outputs": [],
   "source": [
    "pa_test = extract_single_pa(DFallpa, bregion, twind, \"trial\", event=event_test)\n",
    "dflab_test = pa_test.Xlabels[\"trials\"].iloc[inds_keep_test].copy()\n",
    "\n",
    "\n",
    "list_seq = dflab_test.loc[:, [\"seqc_0_shape\", \"seqc_1_shape\"]].values.tolist() # list of n-tuples (len of seq)\n"
   ],
   "metadata": {
    "collapsed": false
   },
   "id": "5c1824d8f13b0e8f"
  },
  {
   "cell_type": "code",
   "execution_count": null,
   "outputs": [],
   "source": [
    "dflab_test[\"labels_pred\"] = labels_pred\n",
    "dflab_test[:5]\n",
    "\n"
   ],
   "metadata": {
    "collapsed": false
   },
   "id": "7f1c808932d0a3a2"
  },
  {
   "cell_type": "code",
   "execution_count": null,
   "outputs": [],
   "source": [
    "sns.displot(data=dflab_test, x=\"labels_pred\", row=\"seqc_0_shape\", col=\"seqc_1_shape\", height=5)\n"
   ],
   "metadata": {
    "collapsed": false
   },
   "id": "fb004a290865470e"
  },
  {
   "cell_type": "code",
   "execution_count": null,
   "outputs": [],
   "source": [
    "# Sumamraize:\n",
    "\n",
    "# frequency of prediction matching first shape\n",
    "# same, for second shape.\n"
   ],
   "metadata": {
    "collapsed": false
   },
   "id": "ccde37f8286c734a"
  },
  {
   "cell_type": "markdown",
   "source": [
    "# 5) Cross-temporal decoder, but with decoder trained using one variable (e.g., seqc_0_shape) and testing prediction of another variable (e.g., seqc_1_shape).\n",
    "Useful if, for example, want to see if decoder trained during visual presentation can decode 2nd stroke DURING 1st stroke."
   ],
   "metadata": {
    "collapsed": false
   },
   "id": "c1487d1d771d3490"
  },
  {
   "cell_type": "code",
   "execution_count": null,
   "outputs": [],
   "source": [
    "list(range(1,3))"
   ],
   "metadata": {
    "collapsed": false
   },
   "id": "89a147e241b53ce2"
  },
  {
   "cell_type": "code",
   "execution_count": null,
   "outputs": [],
   "source": [
    "SAVEDIR = f\"{SAVEDIR_ANALYSIS}/4_cross_temporal_diff_var_train_test\"\n",
    "os.makedirs(SAVEDIR, exist_ok=True)\n",
    "print(SAVEDIR)\n"
   ],
   "metadata": {
    "collapsed": false
   },
   "id": "d443eeb181b33520"
  },
  {
   "cell_type": "code",
   "execution_count": null,
   "outputs": [],
   "source": [
    "DFallpa[\"event\"].value_counts()"
   ],
   "metadata": {
    "collapsed": false
   },
   "id": "d7ab9fc36dea9c6f"
  },
  {
   "cell_type": "code",
   "execution_count": null,
   "outputs": [],
   "source": [
    "from neuralmonkey.analyses.decode_good import decodewrap_categorical_cross_time, decodewrapouterloop_categorical_cross_time_cross_var"
   ],
   "metadata": {
    "collapsed": false
   },
   "id": "df788b7c1c64483d"
  },
  {
   "cell_type": "code",
   "execution_count": null,
   "outputs": [],
   "source": [
    "A = sorted(set(DFRES[\"var_decode_train\"].tolist()))\n",
    "B = sorted(set(DFRES[\"var_decode_test\"].tolist()))\n",
    "list_var_decode_train_test = [(a, b) for a in A for b in B]\n",
    "list_var_decode_train_test\n"
   ],
   "metadata": {
    "collapsed": false
   },
   "id": "43d0bb9d59044017"
  },
  {
   "cell_type": "code",
   "execution_count": null,
   "outputs": [],
   "source": [
    "# Make sure all pa use the same variables to refer to shapes.\n",
    "import warnings\n",
    "warnings.filterwarnings(\"default\")\n",
    "# warnings.filterwarnings(\"error\")\n",
    "\n",
    "# list_var_decode_train_test = [\n",
    "#     [\"seqc_0_shape\", \"seqc_1_shape\"], # (variable to construct decoder, variable that you will try to predict).\n",
    "#     [\"seqc_0_shape\", \"seqc_2_shape\"], # (variable to construct decoder, variable that you will try to predict).\n",
    "#     [\"seqc_1_shape\", \"seqc_2_shape\"] # (variable to construct decoder, variable that you will try to predict).\n",
    "# ]\n",
    "list_var_decode_train_test = [\n",
    "    [\"seqc_0_shape\", \"seqc_1_shape\"], # (variable to construct decoder, variable that you will try to predict).\n",
    "]\n",
    "\n",
    "labels_ignore = [\"IGNORE\", (\"IGNORE\",)]\n",
    "# list_ev = ['04_go_cue', '06_on_STK_0', '06_on_STK_1', '06_on_STK_2']\n",
    "list_ev = ['04_go_cue', '06_on_STK_0']\n",
    "\n",
    "assert len(DFallpa[\"twind\"].unique())==1, \"not big deal. just change code below to iter over all (ev, tw).\"\n",
    "\n",
    "SAVEDIR = f\"{SAVEDIR_ANALYSIS}/4_cross_temporal_diff_var_train_test\"\n",
    "os.makedirs(SAVEDIR, exist_ok=True)\n",
    "print(SAVEDIR)\n",
    "\n",
    "from neuralmonkey.analyses.decode_good import decodewrap_categorical_cross_time\n",
    "\n",
    "# Make sure all pa use the same variables to refer to shapes.\n",
    "time_bin_size = 0.3\n",
    "slide=0.3\n",
    "\n",
    "\n",
    "DFRES = decodewrapouterloop_categorical_cross_time_cross_var(DFallpa,\n",
    "                                                     list_var_decode_train_test,\n",
    "                                                         time_bin_size, slide)\n",
    "from neuralmonkey.analyses.decode_good import decodewrap_categorical_cross_time, decodewrapouterloop_categorical_cross_time_plot\n",
    "decodewrapouterloop_categorical_cross_time_plot(DFRES, SAVEDIR)\n",
    "\n",
    "# \n",
    "# assert len(DFallpa[\"twind\"].unique())==1, \"not big deal. just change code below to iter over all (ev, tw).\"\n",
    "# \n",
    "# RES = []\n",
    "# for br in list_br:\n",
    "#     for tw in list_tw:\n",
    "#         for ev_train in list_ev:\n",
    "#             for ev_test in list_ev:\n",
    "# \n",
    "#                 print(br, tw, ev_train, ev_test)\n",
    "# \n",
    "#                 # TRAIN\n",
    "#                 PA_train = extract_single_pa(DFallpa, br, tw, event=ev_train)\n",
    "#                 if time_bin_size is not None:\n",
    "#                     PA_train = PA_train.agg_by_time_windows_binned(time_bin_size, slide)\n",
    "# \n",
    "#                 # TEST\n",
    "#                 PA_test = extract_single_pa(DFallpa, br, tw, event=ev_test)\n",
    "#                 if time_bin_size is not None:\n",
    "#                     PA_test = PA_test.agg_by_time_windows_binned(time_bin_size, slide)\n",
    "# \n",
    "#                 for var_decode_train, var_decode_test in list_var_decode_train_test:\n",
    "# \n",
    "#                     X_train, labels_train, times_train = preprocess_extract_X_and_labels(PA_train, var_decode_train)\n",
    "#                     X_test, labels_test, times_test = preprocess_extract_X_and_labels(PA_test, var_decode_test)\n",
    "# \n",
    "#                     if len(set(labels_train))==1 or len(set(labels_test))==1:\n",
    "#                         print(\"SKIPPING, becuase only one label:\")\n",
    "#                         print(\"Train:\", set(labels_train))\n",
    "#                         print(\"Test:\", set(labels_test))\n",
    "#                         continue\n",
    "# \n",
    "#                     # Only do splits if these are same trials\n",
    "#                     do_train_test_kfold_splits = labels_train==labels_test\n",
    "# \n",
    "#                     res = decodewrap_categorical_cross_time(X_train, labels_train, times_train,\n",
    "#                                                       X_test, labels_test, times_test,\n",
    "#                                                       do_std=False, labels_ignore=labels_ignore,\n",
    "#                                                             do_train_test_kfold_splits=do_train_test_kfold_splits)\n",
    "# \n",
    "#                     for r in res:\n",
    "#                         r[\"var_decode_train\"]=var_decode_train\n",
    "#                         r[\"var_decode_test\"]=var_decode_test\n",
    "#                         r[\"bregion\"]=br\n",
    "#                         r[\"event_train\"]=ev_train\n",
    "#                         r[\"event_test\"]=ev_test\n",
    "# \n",
    "#                     RES.extend(res)\n",
    "# DFRES = pd.DataFrame(RES)"
   ],
   "metadata": {
    "collapsed": false
   },
   "id": "572ae792311d1a2"
  },
  {
   "cell_type": "markdown",
   "source": [
    "# LOAD a pre-saved results from decoding"
   ],
   "metadata": {
    "collapsed": false
   },
   "id": "1ce7eb19a2692bed"
  },
  {
   "cell_type": "code",
   "execution_count": null,
   "outputs": [],
   "source": [
    "import pickle\n",
    "from pythonlib.tools.pandastools import grouping_print_n_samples\n",
    "import numpy as np\n",
    "import pandas as pd\n",
    "from pythonlib.tools.pandastools import applyFunctionToAllRows\n",
    "from pythonlib.tools.pandastools import append_col_with_grp_index\n",
    "import os\n",
    "from pythonlib.tools.pandastools import plot_45scatter_means_flexible_grouping\n",
    "from pythonlib.tools.plottools import savefig\n",
    "import matplotlib.pyplot as plt\n",
    "import seaborn as sns"
   ],
   "metadata": {
    "collapsed": false
   },
   "id": "3824ff7b34b8b0fb"
  },
  {
   "cell_type": "code",
   "execution_count": null,
   "outputs": [],
   "source": [
    "# Pancho\n",
    "# TIME_TRAIN_REL_TEST = 0.075\n",
    "# TIME_WIND_TEST_REL_EVENT = [-0.3, 0.3]\n",
    "\n",
    "# TIME_TRAIN_REL_TEST = 0.175\n",
    "# TIME_WIND_TEST_REL_EVENT = [-0.3, 0.4]\n",
    "\n",
    "# TIME_TRAIN_REL_TEST = 0.225\n",
    "# TIME_WIND_TEST_REL_EVENT = [-0.6, 0.6]\n",
    "\n"
   ],
   "metadata": {
    "collapsed": false
   },
   "id": "615dd90ea3b9ec89"
  },
  {
   "cell_type": "code",
   "execution_count": null,
   "outputs": [],
   "source": [
    "# animal = \"Pancho\"\n",
    "# date = 230126\n",
    "\n",
    "N_STROKES_MAX = 4\n",
    "for animal, date, question in [\n",
    "    (\"Pancho\", 230623, \"PIG\"),\n",
    "    (\"Diego\", 230628, \"PIG\"),\n",
    "    (\"Pancho\", 230626, \"PIG\"),\n",
    "    (\"Diego\", 230630, \"PIG\"),\n",
    "    (\"Pancho\", 230126, \"CHAR\"),\n",
    "    (\"Diego\", 231201, \"CHAR\"),\n",
    "    (\"Diego\", 231204, \"CHAR\"),\n",
    "    (\"Diego\", 231219, \"CHAR\"),\n",
    "]:\n",
    "    # animal = \"Diego\"\n",
    "    # date = 231219\n",
    "    # question = \"CHAR\"\n",
    "    combined_trial_stroke = 1\n",
    "    combine_areas = False\n",
    "    which_decode = \"3_cross_temporal\"\n",
    "    \n",
    "    ############################## LOAD DATA\n",
    "    SAVEDIR_LOAD = f\"/gorilla1/analyses/recordings/main/DECODE/{animal}-{date}/{question}-combined_{combined_trial_stroke}-combine_areas_{combine_areas}\" \n",
    "    # SAVEDIR = f\"/gorilla1/analyses/recordings/main/DECODE/{animal}-{date}/{question}-combined_{combined_trial_stroke}-combine_areas_{combine_areas}/{which_decode}\"\n",
    "    path = f\"{SAVEDIR_LOAD}/{which_decode}/DFRES.pkl\"\n",
    "    print(SAVEDIR_LOAD)\n",
    "    \n",
    "    DFRES = pd.read_pickle(path)    \n",
    "    \n",
    "    ############################# PREP DATAFRAME\n",
    "    ##### Context (same, diff) plots, binning tbins --> scalar\n",
    "    # Give new column that classifies the \"context\" \n",
    "    def F(x):\n",
    "        # If is not strokes, then ignore it (throw out)\n",
    "        if \"06_on_\" not in x[\"event_train\"]:\n",
    "            return \"IGNORE\"\n",
    "            \n",
    "        # Classify context\n",
    "        tktrain, tktest, evtrain, evtest = x[\"task_kind_train\"], x[\"task_kind_test\"], x[\"event_train\"], x[\"event_test\"]\n",
    "        if tktrain==tktest and evtrain==evtest:\n",
    "            return \"same\"\n",
    "        elif (tktrain==tktest) and (not evtrain==evtest):\n",
    "            return \"same_tk_diff_ev\"\n",
    "        elif (not tktrain==tktest) and (evtrain==evtest):\n",
    "            return \"diff_tk_same_ev\"\n",
    "        else:\n",
    "            return \"diff_tk_diff_ev\"    \n",
    "    DFRES = applyFunctionToAllRows(DFRES, F, \"context_tk_ev\")\n",
    "    \n",
    "    # Also group all \"diff\" into a single \"diff\"\n",
    "    inds = DFRES[\"context_tk_ev\"].isin([\"same_tk_diff_ev\", \"diff_tk_same_ev\", \"diff_tk_diff_ev\"])\n",
    "    DFRES[\"context_tk_ev_simple\"] = DFRES[\"context_tk_ev\"]\n",
    "    DFRES.loc[inds, \"context_tk_ev_simple\"] = \"diff\"\n",
    "        \n",
    "    # Only call \"diff\" those cases that are diff task kind... (avoid confounds in correlations across stroke indices, for same task kind).\n",
    "    inds = DFRES[\"context_tk_ev\"].isin([\"diff_tk_same_ev\", \"diff_tk_diff_ev\"])\n",
    "    DFRES[\"context_tk_ev_simple_diff_tk\"] = DFRES[\"context_tk_ev\"]\n",
    "    DFRES.loc[inds, \"context_tk_ev_simple_diff_tk\"] = \"diff\"\n",
    "    \n",
    "    # Append column with the test \"event x \"task kind\". \n",
    "    DFRES = append_col_with_grp_index(DFRES, [\"task_kind_test\", \"event_test\"], \"tk_ev_test\", strings_compact=True)\n",
    "    DFRES = append_col_with_grp_index(DFRES, [\"task_kind_train\", \"event_train\"], \"tk_ev_train\", strings_compact=True)\n",
    "    \n",
    "    grouping_print_n_samples(DFRES, [\"context_tk_ev_simple\", \"context_tk_ev\", \"task_kind_train\", \"task_kind_test\", \"event_train\", \"event_test\"]);\n",
    "    \n",
    "    # for TIME_TRAIN_REL_TEST in [0.125, 0.175, 0.225]:\n",
    "    for TIME_TRAIN_REL_TEST in [0.175]:\n",
    "        for TIME_WIND_TEST_REL_EVENT in [\n",
    "                                    # [-0.5, 0.5],\n",
    "                                    # [-0.3, 0.4],\n",
    "                                    [-0.4, -0.025],\n",
    "                                    [0.025, 0.4],\n",
    "                                ]:\n",
    "            #             TIME_TRAIN_REL_TEST = 0.175\n",
    "            # TIME_WIND_TEST_REL_EVENT = [-0.3, 0.4]\n",
    "    \n",
    "            ##### Convert to scalar by taking mean over time bins\n",
    "            # criterion for time bins\n",
    "            def F(x):\n",
    "                # relative time\n",
    "                a = np.abs(x[\"time_train\"] - x[\"time_test\"]) < TIME_TRAIN_REL_TEST\n",
    "                # absolute time\n",
    "                b = (x[\"time_test\"] >= TIME_WIND_TEST_REL_EVENT[0]) & (x[\"time_test\"] <= TIME_WIND_TEST_REL_EVENT[1])\n",
    "                return a & b\n",
    "            DFRES = applyFunctionToAllRows(DFRES, F, \"keep_tbin\")\n",
    "        \n",
    "            # Print results\n",
    "            if False:\n",
    "                grouping_print_n_samples(DFRES, [\"keep_tbin\", \"time_train\", \"time_test\"])\n",
    "            \n",
    "            for INCLUDE_PIG in [True, False]:\n",
    "                for EXCLUDE_FIRST_STROKE in [True, False]:\n",
    "                    \n",
    "                    ####################### PRUNE DATA TO JUST TIME BINS OF INTEREST\n",
    "                    DFRES_THIS = DFRES.copy()\n",
    "                    \n",
    "                    print(len(DFRES))\n",
    "                    # Prune to just those with tbins to keep\n",
    "                    DFRES_THIS = DFRES_THIS[DFRES_THIS[\"keep_tbin\"]==True]\n",
    "                    print(len(DFRES_THIS))\n",
    "                    \n",
    "                    # Remove those with CONTEXT ignore.\n",
    "                    DFRES_THIS = DFRES_THIS[DFRES_THIS[\"context_tk_ev\"] != \"IGNORE\"]\n",
    "                    print(len(DFRES_THIS))\n",
    "                    \n",
    "                    if INCLUDE_PIG==False:\n",
    "                        # Only include data that is single prims or character (since PIG is low N).\n",
    "                        DFRES_THIS = DFRES_THIS[(DFRES_THIS[\"task_kind_train\"].isin([\"prims_single\", \"character\"])) & (DFRES_THIS[\"task_kind_test\"].isin([\"prims_single\", \"character\"]))]\n",
    "                    \n",
    "                    # Remove cases that are the high N stroke nums, they are usualyl noise\n",
    "                    events_keep = [f\"06_on_STK_{i}\" for i in range(N_STROKES_MAX)]\n",
    "                    print(len(DFRES_THIS))\n",
    "                    DFRES_THIS = DFRES_THIS[(DFRES_THIS[\"event_train\"].isin(events_keep)) & (DFRES_THIS[\"event_test\"].isin(events_keep))]\n",
    "                    print(len(DFRES_THIS))\n",
    "                    \n",
    "                    if EXCLUDE_FIRST_STROKE:\n",
    "                        DFRES_THIS = DFRES_THIS[~(DFRES_THIS[\"event_train\"]==\"06_on_STK_0\") & ~(DFRES_THIS[\"event_test\"]==\"06_on_STK_0\")]\n",
    "                    \n",
    "                    #################################### Aggregate to average over time bins\n",
    "                    from pythonlib.tools.pandastools import aggregGeneral\n",
    "                    DFRES_THIS = aggregGeneral(DFRES_THIS, [\"var_decode\", \"bregion\", \"event_train\", \"event_test\", \"task_kind_train\", \"task_kind_test\", \n",
    "                                                            \"context_tk_ev\", \"context_tk_ev_simple\", \"context_tk_ev_simple_diff_tk\",\n",
    "                                                            \"keep_tbin\", \"tk_ev_test\", \"tk_ev_train\"], values=[\"score\", \"score_adjusted\"])\n",
    "                    \n",
    "                    DFRES_THIS = DFRES_THIS.reset_index(drop=True)\n",
    "                    \n",
    "                    #################################### PLOTS\n",
    "                    a = TIME_TRAIN_REL_TEST\n",
    "                    b = \"_\".join([str(x) for x in TIME_WIND_TEST_REL_EVENT])\n",
    "                    savedir = f\"{SAVEDIR_LOAD}/3_cross_temporal_split_by_contexts_scalar/inclPIG={INCLUDE_PIG}-excldFrstStk={EXCLUDE_FIRST_STROKE}-TRelTest={a}-TWindRelEv={b}\"\n",
    "            \n",
    "                    os.makedirs(savedir, exist_ok=True)\n",
    "                    \n",
    "                    if \"diff\" in DFRES_THIS[\"context_tk_ev_simple\"].tolist():\n",
    "                        # Sometimes pruning leads to loss of all data...\n",
    "                        \n",
    "                        dfthis = DFRES[DFRES[\"bregion\"]==DFRES[\"bregion\"].values[0]] # pick out a subsample --> smaler plots.\n",
    "                        fig = sns.relplot(data=dfthis, x=\"time_train\", y=\"time_test\", col=\"keep_tbin\")\n",
    "                        savefig(fig, f\"{savedir}/time_bins.pdf\")\n",
    "                        \n",
    "                        for ctxt_diff in [\"same_tk_diff_ev\", \"diff_tk_same_ev\", \"diff_tk_diff_ev\"]:\n",
    "                            if ctxt_diff in DFRES_THIS[\"context_tk_ev\"].tolist():\n",
    "                                _, fig = plot_45scatter_means_flexible_grouping(DFRES_THIS, var_manip=\"context_tk_ev\", x_lev_manip=\"same\", y_lev_manip=ctxt_diff, var_subplot=\"var_decode\", var_value=\"score_adjusted\", var_datapt=\"bregion\")\n",
    "                                savefig(fig, f\"{savedir}/scatter-same-vs-{ctxt_diff}.pdf\")\n",
    "                                plt.close(\"all\")\n",
    "                        \n",
    "                        # just \"same\" vs \"diff\" (combining all diff).\n",
    "                        _, fig = plot_45scatter_means_flexible_grouping(DFRES_THIS, var_manip=\"context_tk_ev_simple\", x_lev_manip=\"same\", y_lev_manip=\"diff\", var_subplot=\"var_decode\", var_value=\"score_adjusted\", var_datapt=\"bregion\")\n",
    "                        savefig(fig, f\"{savedir}/scatter-same-vs-diff.pdf\")\n",
    "                        plt.close(\"all\")\n",
    "                        \n",
    "                        if \"diff\" in DFRES_THIS[\"context_tk_ev_simple_diff_tk\"].tolist():\n",
    "                            _, fig = plot_45scatter_means_flexible_grouping(DFRES_THIS, var_manip=\"context_tk_ev_simple_diff_tk\", x_lev_manip=\"same\", y_lev_manip=\"diff\", var_subplot=\"var_decode\", var_value=\"score_adjusted\", var_datapt=\"bregion\")\n",
    "                            savefig(fig, f\"{savedir}/scatter-same-vs-diff_task_kind.pdf\")\n",
    "                            plt.close(\"all\")\n",
    "                        \n",
    "                        # Separate subplot for each bregion.\n",
    "                        for var_datapt in [\"tk_ev_train\", \"tk_ev_test\"]:\n",
    "                            _, fig = plot_45scatter_means_flexible_grouping(DFRES_THIS, var_manip=\"context_tk_ev_simple\", x_lev_manip=\"same\", y_lev_manip=\"diff\",    var_subplot=\"bregion\", var_value=\"score_adjusted\", var_datapt=var_datapt, plot_error_bars = False, shareaxes=True)\n",
    "                            savefig(fig, f\"{savedir}/scatter_by_bregion-same-vs-diff-datapt={var_datapt}.pdf\")\n",
    "                                                \n",
    "                            plt.close(\"all\")"
   ],
   "metadata": {
    "collapsed": false
   },
   "id": "33c97d6655d46653"
  },
  {
   "cell_type": "markdown",
   "source": [
    "# [TESTING] State space plots (tsne)\n",
    "NOTE: previously have dPCA plots..."
   ],
   "metadata": {
    "collapsed": false
   },
   "id": "71caf94b369f4732"
  },
  {
   "cell_type": "markdown",
   "source": [
    "# NEW MODULATION SCORE EUCLIDIAN"
   ],
   "metadata": {
    "collapsed": false
   },
   "id": "8f2eb47871aefb60"
  },
  {
   "cell_type": "code",
   "execution_count": null,
   "outputs": [],
   "source": [
    "from neuralmonkey.classes.population_mult import dfallpa_preprocess_vars_conjunctions_extract\n",
    "dfallpa_preprocess_vars_conjunctions_extract(DFallpa, which_level=which_level)\n"
   ],
   "metadata": {
    "collapsed": false
   },
   "id": "96fb43750267a0a7"
  },
  {
   "cell_type": "code",
   "execution_count": null,
   "outputs": [],
   "source": [
    "SAVEDIR_ANALYSIS = \"/tmp\"\n",
    "import matplotlib.pyplot as plt\n",
    "import os\n",
    "import pandas as pd"
   ],
   "metadata": {
    "collapsed": false
   },
   "id": "2f3090fe11c17dea"
  },
  {
   "cell_type": "code",
   "execution_count": null,
   "outputs": [],
   "source": [
    "########################################\n",
    "SHUFFLE = False\n",
    "\n",
    "# LIST_VAR = [\n",
    "#     # \"CTXT_loc_next\",\n",
    "#     \"CTXT_shape_next\",\n",
    "#     # \"task_kind\",\n",
    "#     # \"stroke_index\",\n",
    "#     # \"FEAT_num_strokes_task\",\n",
    "#     \"shape\",\n",
    "# ]\n",
    "# # More restrictive\n",
    "# LIST_VARS_OTHERS = [\n",
    "#     # [\"task_kind\", \"CTXT_shape_prev\", \"CTXT_loc_prev\", \"shape\", \"gridloc\", \"CTXT_shape_next\"],\n",
    "#     [\"task_kind\", \"CTXT_shape_prev\", \"CTXT_loc_prev\", \"shape\", \"gridloc\", \"CTXT_loc_next\"],\n",
    "#     # [\"shape\", \"gridloc\", \"CTXT_shape_prev\", \"CTXT_loc_prev\"],\n",
    "#     # [\"task_kind\", \"FEAT_num_strokes_task\", \"CTXT_shape_prev\", \"CTXT_loc_prev\", \"shape\", \"gridloc\"],\n",
    "#     # [\"CTXT_shape_prev\", \"CTXT_loc_prev\", \"shape\", \"gridloc\"],\n",
    "#     [\"task_kind\", \"gridloc\", \"CTXT_shape_prev\", \"CTXT_loc_prev\"],\n",
    "#     ]\n",
    "\n",
    "LIST_VAR = [\n",
    "    \"CTXT_shape_next\",\n",
    "    \"shape\",\n",
    "]\n",
    "# More restrictive\n",
    "LIST_VARS_OTHERS = [\n",
    "    [\"task_kind\", \"CTXT_shape_prev\", \"CTXT_loc_prev\", \"shape\", \"gridloc\", \"CTXT_loc_next\"],\n",
    "    [\"task_kind\", \"CTXT_shape_prev\", \"CTXT_loc_prev\", \"shape\", \"gridloc\", \"CTXT_loc_next\"],\n",
    "    [\"task_kind\", \"gridloc\", \"CTXT_shape_prev\", \"CTXT_loc_prev\"],\n",
    "    ]\n",
    "\n",
    "PLOT = False\n",
    "PLOT_MASKS = False\n",
    "nmin_trials_per_lev = 6\n",
    "PLOT_STATE_SPACE = False\n",
    "twind = (-0.2, 0.2)\n",
    "tbin_dur = 0.1\n",
    "tbin_slice = tbin_dur\n",
    "\n",
    "from neuralmonkey.analyses.decode_good import euclidian_distance_compute\n",
    "\n",
    "list_dfres = []\n",
    "for i, row in DFallpa.iterrows():\n",
    "    br = row[\"bregion\"]\n",
    "    tw = row[\"twind\"]\n",
    "    ev = row[\"event\"]\n",
    "    PA = row[\"pa\"]\n",
    "\n",
    "    print(br)\n",
    "    savedir = f\"{SAVEDIR_ANALYSIS}/{br}\"\n",
    "    os.makedirs(savedir, exist_ok=True)\n",
    "    dfres = euclidian_distance_compute(PA, LIST_VAR, LIST_VARS_OTHERS, PLOT, PLOT_MASKS,\n",
    "                               twind, tbin_dur, tbin_slice, savedir, PLOT_STATE_SPACE=PLOT_STATE_SPACE,\n",
    "                                       nmin_trials_per_lev=nmin_trials_per_lev)\n",
    "    plt.close(\"all\")\n",
    "    if len(dfres)>0:\n",
    "        dfres[\"bregion\"] = br\n",
    "        dfres[\"twind\"] = [tw for _ in range(len(dfres))]\n",
    "        dfres[\"event\"] = ev\n",
    "\n",
    "        list_dfres.append(dfres)"
   ],
   "metadata": {
    "collapsed": false
   },
   "id": "197b92db1e5b5354"
  },
  {
   "cell_type": "code",
   "execution_count": null,
   "outputs": [],
   "source": [
    "DFRES = pd.concat(list_dfres).reset_index(drop=True)\n",
    "\n",
    "# Compute normalized distnaces\n",
    "DFRES[\"dist_norm_95\"] = DFRES[\"dist\"]/DFRES[\"DIST_NULL_95\"]\n",
    "DFRES[\"dist_norm_50\"] = DFRES[\"dist\"]/DFRES[\"DIST_NULL_50\"]\n",
    "\n",
    "DFRES[\"var_others\"] = [tuple(x) for x in DFRES[\"var_others\"]]\n",
    "from pythonlib.tools.pandastools import append_col_with_grp_index\n",
    "DFRES = append_col_with_grp_index(DFRES, [\"var\", \"var_others\"], \"var_var_others\")\n"
   ],
   "metadata": {
    "collapsed": false
   },
   "id": "28424feacfc2b877"
  },
  {
   "cell_type": "code",
   "execution_count": null,
   "outputs": [],
   "source": [
    "DFRES[:10]"
   ],
   "metadata": {
    "collapsed": false
   },
   "id": "f8df08fdd46b6101"
  },
  {
   "cell_type": "code",
   "execution_count": null,
   "outputs": [],
   "source": [
    "# Normalize by same\n",
    "dfsummary, dfsummaryflat, COLNAMES_NOABS, COLNAMES_ABS, COLNAMES_DIFF, dfpivot = summarize_featurediff(DFRES, \"effect_samediff\", [\"diff\", \"same_pt_pairs\"], [\"dist_norm_95\"], [\"var_var_others\", \"var\", \"var_others\", \"levo\", \"bregion\", \"twind\", \"event\"], return_dfpivot=True)\n",
    "\n",
    "dfpivot[\"diff_minus_same\"] = dfpivot[\"dist_norm_95\"][\"diff\"]/(dfpivot[\"dist_norm_95\"][\"diff\"] + dfpivot[\"dist_norm_95\"][\"same_pt_pairs\"])\n",
    "dfpivot[\"diff_divide_same\"] = dfpivot[\"dist_norm_95\"][\"diff\"]/dfpivot[\"dist_norm_95\"][\"same_pt_pairs\"]\n"
   ],
   "metadata": {
    "collapsed": false
   },
   "id": "9e12219eb06d77fc"
  },
  {
   "cell_type": "code",
   "execution_count": null,
   "outputs": [],
   "source": [
    "dfpivot"
   ],
   "metadata": {
    "collapsed": false
   },
   "id": "d81c35ff01084ce0"
  },
  {
   "cell_type": "markdown",
   "source": [
    "##### If using \"euclidian\", then need to subtract shuffled"
   ],
   "metadata": {
    "collapsed": false
   },
   "id": "7d6f616905352ef3"
  },
  {
   "cell_type": "code",
   "execution_count": null,
   "outputs": [],
   "source": [
    "from pythonlib.tools.pandastools import summarize_featurediff\n",
    "\n",
    "dfsummary, dfsummaryflat, COLNAMES_NOABS, COLNAMES_ABS, COLNAMES_DIFF = summarize_featurediff(DFRES, \"shuffled\", [True, False], [\"dist_norm_95\"], [\"var_var_others\", \"var\", \"var_others\", \"levo\", \"bregion\", \"twind\", \"event\"], return_dfpivot=False)\n",
    "\n",
    "# summarize_featurediff(DFRES, \"bregion\", [\"M1_m\", \"M1_l\"], [\"DIST_NULL_95\"], [\"var\", \"var_others\"], return_dfpivot=True)\n",
    "\n",
    "\n",
    "# dfsummary, dfsummaryflat, COLNAMES_NOABS, COLNAMES_ABS, COLNAMES_DIFF = summarize_featurediff(DFRES, \"bregion\", [\"M1_m\", \"M1_l\"], [\"DIST_NULL_95\"], [\"var\", \"var_others\", \"levo\", \"twind\", \"event\"], return_dfpivot=False)\n",
    "\n",
    "\n",
    "# DFRES[DFRES[\"shuffled\"].isna()==True].index\n",
    "# DFRES.loc[DFRES[\"shuffled\"].isna(), [\"shuffled\"]] = False\n",
    "# # DFRES.loc[DFRES[DFRES[\"shuffled\"].isna()==True].index, [\"shuffled\"]]\n",
    "\n",
    "# QUICK PLOT - SUMMARIES\n",
    "import seaborn as sns\n",
    "from pythonlib.tools.snstools import rotateLabel\n",
    "from pythonlib.tools.plottools import savefig\n",
    "\n",
    "fig = sns.catplot(data=dfsummaryflat, x=\"bregion\", y=\"value\", col=\"var_var_others\", hue=\"variable\", col_wrap=3, aspect=1.5)\n",
    "rotateLabel(fig)\n",
    "savefig(fig, f\"{SAVEDIR_ANALYSIS}/overview_scatter.pdf\")\n",
    "\n",
    "# fig = sns.catplot(data=DFRES, x=\"bregion\", y=\"dist_norm_95\", col=\"var_var_others\", hue=\"shuffled\", col_wrap=3,  aspect=1.5, kind=\"bar\", ci=68)\n",
    "# rotateLabel(fig)\n",
    "# savefig(fig, f\"{SAVEDIR_ANALYSIS}/overview_bar.pdf\")\n",
    "\n",
    "\n",
    "# QUICK PLOT - SUMMARIES\n",
    "import seaborn as sns\n",
    "from pythonlib.tools.snstools import rotateLabel\n",
    "from pythonlib.tools.plottools import savefig\n",
    "\n",
    "fig = sns.catplot(data=DFRES, x=\"bregion\", y=\"dist_norm_95\", col=\"var_var_others\", hue=\"shuffled\", col_wrap=3, aspect=1.5)\n",
    "rotateLabel(fig)\n",
    "savefig(fig, f\"{SAVEDIR_ANALYSIS}/overview_scatter.pdf\")\n",
    "\n",
    "fig = sns.catplot(data=DFRES, x=\"bregion\", y=\"dist_norm_95\", col=\"var_var_others\", hue=\"shuffled\", col_wrap=3,  aspect=1.5, kind=\"bar\", ci=68)\n",
    "rotateLabel(fig)\n",
    "savefig(fig, f\"{SAVEDIR_ANALYSIS}/overview_bar.pdf\")\n"
   ],
   "metadata": {
    "collapsed": false
   },
   "id": "abae96a5bb6b240d"
  },
  {
   "cell_type": "markdown",
   "source": [
    "##### If using euclidian_unbiased, then no need to use shuffled"
   ],
   "metadata": {
    "collapsed": false
   },
   "id": "e5f87011a532f85a"
  },
  {
   "cell_type": "code",
   "execution_count": null,
   "outputs": [],
   "source": [
    "# QUICK PLOT - SUMMARIES\n",
    "import seaborn as sns\n",
    "from pythonlib.tools.snstools import rotateLabel\n",
    "from pythonlib.tools.plottools import savefig\n"
   ],
   "metadata": {
    "collapsed": false
   },
   "id": "326d040c674460ca"
  },
  {
   "cell_type": "code",
   "execution_count": null,
   "outputs": [],
   "source": [
    "fig = sns.catplot(data=DFRES, x=\"bregion\", y=\"dist_norm_95\", col=\"var_var_others\", hue=\"effect_samediff\", col_wrap=3, aspect=1.5)\n",
    "rotateLabel(fig)\n",
    "savefig(fig, f\"{SAVEDIR_ANALYSIS}/overview_scatter.pdf\")\n",
    "\n",
    "fig = sns.catplot(data=DFRES, x=\"bregion\", y=\"dist_norm_95\", col=\"var_var_others\", hue=\"effect_samediff\", col_wrap=3, aspect=1.5, kind=\"bar\")\n",
    "rotateLabel(fig)\n",
    "savefig(fig, f\"{SAVEDIR_ANALYSIS}/overview_scatter.pdf\")\n",
    "\n",
    "\n",
    "fig = sns.catplot(data=dfpivot, x=\"bregion\", y=\"diff_minus_same\", col=\"var_var_others\", col_wrap=3, aspect=1.5)\n",
    "rotateLabel(fig)\n",
    "savefig(fig, f\"{SAVEDIR_ANALYSIS}/overview_scatter.pdf\")\n",
    "\n",
    "fig = sns.catplot(data=dfpivot, x=\"bregion\", y=\"diff_minus_same\", col=\"var_var_others\", col_wrap=3, aspect=1.5, kind=\"bar\")\n",
    "rotateLabel(fig)\n",
    "savefig(fig, f\"{SAVEDIR_ANALYSIS}/overview_scatter.pdf\")\n",
    "\n",
    "fig = sns.catplot(data=dfpivot, x=\"bregion\", y=\"diff_divide_same\", col=\"var_var_others\", col_wrap=3, aspect=1.5)\n",
    "rotateLabel(fig)\n",
    "savefig(fig, f\"{SAVEDIR_ANALYSIS}/overview_scatter.pdf\")\n",
    "\n",
    "fig = sns.catplot(data=dfpivot, x=\"bregion\", y=\"diff_divide_same\", col=\"var_var_others\", col_wrap=3, aspect=1.5, kind=\"bar\")\n",
    "rotateLabel(fig)\n",
    "savefig(fig, f\"{SAVEDIR_ANALYSIS}/overview_scatter.pdf\")\n",
    "\n"
   ],
   "metadata": {
    "collapsed": false
   },
   "id": "8ff580c786611276"
  },
  {
   "cell_type": "code",
   "execution_count": null,
   "outputs": [],
   "source": [
    "### Inspect specific conjunctions --> evaluate method\n",
    "list_vvo = DFRES[\"var_var_others\"].unique().tolist()\n",
    "for vvo in list_vvo:\n",
    "    dfthis = DFRES[DFRES[\"var_var_others\"]==vvo]\n",
    "    # sns.catplot(data=dfthis, x=\"bregion\", y=\"dist_norm_95\", col=\"levo\", col_wrap=3)\n",
    "    fig = sns.catplot(data=dfthis, x=\"dist_norm_95\", y=\"levo\", col=\"bregion\")\n",
    "    savefig(fig, f\"{SAVEDIR_ANALYSIS}/allconj_scatter-vvo={vvo}.pdf\")\n",
    "    plt.close(\"all\")\n",
    "from pythonlib.tools.pandastools import plot_subplots_heatmap\n",
    "# fig, axes = plot_subplots_heatmap(DFRES, \"levo\", \"bregion\", \"dist_norm_95\", \"var_var_others\", diverge=True)\n",
    "fig, axes = plot_subplots_heatmap(DFRES, \"bregion\", \"levo\", \"dist_norm_95\", \"var_var_others\", diverge=True, ncols=None, share_zlim=True)\n",
    "savefig(fig, f\"{SAVEDIR_ANALYSIS}/allconj_heatmap.pdf\")"
   ],
   "metadata": {
    "collapsed": false
   },
   "id": "85b862f4f00ef95d"
  },
  {
   "cell_type": "markdown",
   "source": [
    "### Plot the raw data "
   ],
   "metadata": {
    "collapsed": false
   },
   "id": "b72cf35fe77951a6"
  },
  {
   "cell_type": "code",
   "execution_count": null,
   "outputs": [],
   "source": [
    "\"/tmp/tmp\""
   ],
   "metadata": {
    "collapsed": false
   },
   "id": "5a667af865d9f353"
  },
  {
   "cell_type": "code",
   "execution_count": null,
   "outputs": [],
   "source": [
    "PA = DFallpa[\"pa\"].values[2]"
   ],
   "metadata": {
    "collapsed": false
   },
   "id": "16b1da94bf3562bc"
  },
  {
   "cell_type": "code",
   "execution_count": null,
   "outputs": [],
   "source": [],
   "metadata": {
    "collapsed": false
   },
   "id": "84da6b76d2085c6b"
  },
  {
   "cell_type": "code",
   "execution_count": null,
   "outputs": [],
   "source": [
    "list_Xpcakeep = []\n",
    "list_pa = []\n",
    "for method in [\"sklearn\", \"svd\"]:\n",
    "    Xpcakeep, pa = PA.dataextract_state_space_decode_flex(twind_overall=(-0.25, 0.25), tbin_dur=0.1, reshape_method = \"trials_x_chanstimes\", pca_reduce=True, plot_pca_explained_var_path=f\"/tmp/tmp_expvar-{method}.png\", plot_loadings_path=f\"/tmp/tmp_loadings-{method}.png\", pca_method=method)\n",
    "    \n",
    "    list_pa.append(pa)\n",
    "    list_Xpcakeep.append(Xpcakeep)"
   ],
   "metadata": {
    "collapsed": false
   },
   "id": "5853ec29b1a5f170"
  },
  {
   "cell_type": "code",
   "execution_count": null,
   "outputs": [],
   "source": [
    "np.all(list_pa[0].X == list_pa[1].X)"
   ],
   "metadata": {
    "collapsed": false
   },
   "id": "2fff8013b8dafa97"
  },
  {
   "cell_type": "code",
   "execution_count": null,
   "outputs": [],
   "source": [
    "import numpy as np\n",
    "np.all(list_Xpcakeep[0] - list_Xpcakeep[1]<0.001)"
   ],
   "metadata": {
    "collapsed": false
   },
   "id": "f459a10e1cfb939b"
  },
  {
   "cell_type": "code",
   "execution_count": null,
   "outputs": [],
   "source": [
    "list_Xpcakeep[0]"
   ],
   "metadata": {
    "collapsed": false
   },
   "id": "f6768e43a39d4f6b"
  },
  {
   "cell_type": "code",
   "execution_count": null,
   "outputs": [],
   "source": [
    "list_Xpcakeep[1]"
   ],
   "metadata": {
    "collapsed": false
   },
   "id": "e7df9bab8a0877c0"
  },
  {
   "cell_type": "code",
   "execution_count": null,
   "outputs": [],
   "source": [
    "# State space, after PCA"
   ],
   "metadata": {
    "collapsed": false
   },
   "id": "802b0c25d08cf31d"
  },
  {
   "cell_type": "markdown",
   "source": [
    "###### Devo - distance between contexts"
   ],
   "metadata": {
    "collapsed": false
   },
   "id": "d34c95798f6263ed"
  },
  {
   "cell_type": "code",
   "execution_count": null,
   "outputs": [],
   "source": [
    "from neuralmonkey.analyses.rsa import _rsagood_convert_PA_to_Cl\n",
    "PAscal = PA.agg_wrapper(\"times\")\n",
    "Clraw, Clsim = _rsagood_convert_PA_to_Cl(PAscal, [var]+var_others+[\"stroke_index\"], \"euclidian_unbiased\", DO_AGG_TRIALS=False)\n"
   ],
   "metadata": {
    "collapsed": false
   },
   "id": "92ee6459bfc81851"
  },
  {
   "cell_type": "code",
   "execution_count": null,
   "outputs": [],
   "source": [
    "Clsim.rsa_plot_heatmap()"
   ],
   "metadata": {
    "collapsed": false
   },
   "id": "cfec8b1a05504c9a"
  },
  {
   "cell_type": "code",
   "execution_count": null,
   "outputs": [],
   "source": [
    "    LIST_VAR = [\n",
    "        \"CTXT_loc_next\",\n",
    "        \"CTXT_loc_next\",\n",
    "        \"CTXT_loc_next\",\n",
    "        \"CTXT_shape_next\",\n",
    "        \"CTXT_shape_next\",\n",
    "\n",
    "        \"task_kind\",\n",
    "        \"stroke_index\",\n",
    "        \"stroke_index_fromlast_tskstks\",\n",
    "        \"FEAT_num_strokes_task\",\n",
    "\n",
    "        \"shape\",\n",
    "        \"shape\",\n",
    "        \"gridloc\",\n",
    "        \"gridloc\",\n",
    "    ]\n",
    "    # More restrictive\n",
    "    LIST_VARS_OTHERS = [\n",
    "        [\"stroke_index_is_first\", \"task_kind\", \"CTXT_loc_prev\", \"shape\", \"gridloc\"],\n",
    "        [\"stroke_index_is_first\", \"task_kind\", \"CTXT_loc_prev\", \"shape\", \"gridloc\", \"CTXT_shape_next\"],\n",
    "        [\"stroke_index_is_first\", \"task_kind\", \"CTXT_shape_prev\", \"CTXT_loc_prev\", \"shape\", \"gridloc\", \"CTXT_shape_next\"],\n",
    "        [\"stroke_index_is_first\", \"task_kind\", \"CTXT_loc_prev\", \"shape\", \"gridloc\", \"CTXT_loc_next\"],\n",
    "        [\"stroke_index_is_first\", \"task_kind\", \"CTXT_shape_prev\", \"CTXT_loc_prev\", \"shape\", \"gridloc\", \"CTXT_loc_next\"],\n",
    "\n",
    "        [\"stroke_index_is_first\", \"shape\", \"gridloc\", \"CTXT_shape_prev\", \"CTXT_loc_prev\"],\n",
    "        [\"stroke_index_is_first\", \"task_kind\", \"CTXT_shape_prev\", \"CTXT_loc_prev\", \"shape\", \"gridloc\"],\n",
    "        [\"stroke_index_is_first\", \"task_kind\", \"CTXT_shape_prev\", \"CTXT_loc_prev\", \"shape\", \"gridloc\"],\n",
    "        [\"stroke_index_is_first\", \"task_kind\", \"CTXT_loc_prev\", \"shape\", \"gridloc\", \"stroke_index\"],\n",
    "\n",
    "        [\"stroke_index_is_first\", \"task_kind\", \"gridloc\", \"CTXT_shape_prev\", \"CTXT_loc_prev\", \"CTXT_loc_next\"],\n",
    "        [\"stroke_index_is_first\", \"task_kind\", \"gridloc\", \"CTXT_shape_prev\", \"CTXT_loc_prev\"],\n",
    "        [\"stroke_index_is_first\", \"task_kind\", \"shape\", \"CTXT_shape_prev\", \"CTXT_loc_prev\", \"CTXT_loc_next\"],\n",
    "        [\"stroke_index_is_first\", \"task_kind\", \"shape\", \"CTXT_shape_prev\", \"CTXT_loc_prev\"],\n",
    "        ]\n",
    "\n",
    "    assert len(LIST_VAR)==len(LIST_VARS_OTHERS)\n"
   ],
   "metadata": {
    "collapsed": false
   },
   "id": "60757aa510ed9b00"
  },
  {
   "cell_type": "code",
   "execution_count": null,
   "outputs": [],
   "source": [
    "\n",
    "# Clsim.rsa_matindex_same_diff_mult_var_flex([var], var_others, PLOT=True, lenient_diff=True);\n",
    "Clsim.rsa_mask_context_helper(var, var_others+[\"stroke_index\"], \"diff_specific_lenient\", \n",
    "                              [\"stroke_index\"], var_others, True);"
   ],
   "metadata": {
    "collapsed": false
   },
   "id": "2e3b93d3567b7548"
  },
  {
   "cell_type": "code",
   "execution_count": null,
   "outputs": [],
   "source": [
    "# Clsim.rsa_matindex_same_diff_mult_var_flex([var], var_others, PLOT=True, lenient_diff=True);\n",
    "Clsim.rsa_mask_context_helper(var, var_others+[\"stroke_index\"], \"diff_specific\", \n",
    "                              [\"stroke_index\"], var_others, True);"
   ],
   "metadata": {
    "collapsed": false
   },
   "id": "ee83f7d9036d2c40"
  },
  {
   "cell_type": "code",
   "execution_count": null,
   "outputs": [],
   "source": [
    "PLOT_MASKS=True\n",
    "MASKS, fig, axes = Clsim.rsa_mask_context_helper(var, var_others, \"diff_at_least_one\", PLOT=PLOT_MASKS)\n",
    "\n",
    "# Get same effect diff context\n",
    "ma = MASKS[\"effect_same\"] & MASKS[\"context_diff\"]\n",
    "\n",
    "# any effect, diff context\n",
    "ma = MASKS[\"context_diff\"]\n"
   ],
   "metadata": {
    "collapsed": false
   },
   "id": "e448de924d183646"
  },
  {
   "cell_type": "markdown",
   "source": [
    "### Devo - null from shuffle"
   ],
   "metadata": {
    "collapsed": false
   },
   "id": "138cd64501147873"
  },
  {
   "cell_type": "code",
   "execution_count": null,
   "outputs": [],
   "source": [
    "DFallpa"
   ],
   "metadata": {
    "collapsed": false
   },
   "id": "50dfde146f698d8d"
  },
  {
   "cell_type": "code",
   "execution_count": null,
   "outputs": [],
   "source": [
    "PA = DFallpa[\"pa\"].values[10]"
   ],
   "metadata": {
    "collapsed": false
   },
   "id": "294695ca19ee3295"
  },
  {
   "cell_type": "code",
   "execution_count": null,
   "outputs": [],
   "source": [
    "twind = (-0.2, 0.2)\n",
    "tbin_dur = 0.1\n",
    "tbin_slide = 0.1\n",
    "X, PApca, PAslice, pca = PA.dataextract_state_space_decode_flex(twind, tbin_dur, tbin_slice, reshape_method=\"trials_x_chanstimes\",\n",
    "                                       pca_reduce=True)\n"
   ],
   "metadata": {
    "collapsed": false
   },
   "id": "51bfb74abcaacb1d"
  },
  {
   "cell_type": "code",
   "execution_count": null,
   "outputs": [],
   "source": [
    "print(X.shape, PApca.X.shape, PAslice.X.shape)"
   ],
   "metadata": {
    "collapsed": false
   },
   "id": "c568b4e43f222b7e"
  },
  {
   "cell_type": "code",
   "execution_count": null,
   "outputs": [],
   "source": [
    "var = \"shape\"\n",
    "var_others = [\"task_kind\", \"gridloc\"]\n"
   ],
   "metadata": {
    "collapsed": false
   },
   "id": "5c28e7314cbcf750"
  },
  {
   "cell_type": "code",
   "execution_count": null,
   "outputs": [],
   "source": [
    "# Create clusters\n",
    "from pythonlib.cluster.clustclass import Clusters\n",
    "\n",
    "label_vars = [var]+var_others\n",
    "dflab = pa.Xlabels[\"trials\"]\n",
    "assert len(dflab)==Xthis.shape[0]\n",
    "print(\"  Final Scalar data (trial, dims):\", Xthis.shape)\n",
    "labels_rows = dflab.loc[:, label_vars].values.tolist()\n",
    "labels_rows = [tuple(x) for x in labels_rows] # list of tuples\n",
    "if SHUFFLE:\n",
    "    import random\n",
    "    random.shuffle(labels_rows)\n",
    "params = {\n",
    "    \"label_vars\":label_vars,\n",
    "}\n",
    "Cl = Clusters(Xthis, labels_rows, ver=\"rsa\", params=params)"
   ],
   "metadata": {
    "collapsed": false
   },
   "id": "1405c811194edf4c"
  },
  {
   "cell_type": "code",
   "execution_count": null,
   "outputs": [],
   "source": [
    "# OLD METHOD, using unbiased\n",
    "# convert to distance matrix\n",
    "version_distance = \"euclidian_unbiased\"\n",
    "Cldist = Cl.distsimmat_convert_distr(label_vars, version_distance, accurately_estimate_diagonal=False)\n",
    "# version_distance = \"pearson\"\n",
    "# Cldist = Cl.distsimmat_convert(version_distance)\n",
    "if PLOT:\n",
    "    Cldist.rsa_plot_heatmap()\n"
   ],
   "metadata": {
    "collapsed": false
   },
   "id": "38b9f6b36e67c0"
  },
  {
   "cell_type": "code",
   "execution_count": null,
   "outputs": [],
   "source": [
    "pa.X.shape\n",
    "PApca.X.shape"
   ],
   "metadata": {
    "collapsed": false
   },
   "id": "c41bd46b05c254d3"
  },
  {
   "cell_type": "code",
   "execution_count": null,
   "outputs": [],
   "source": [
    "# New method -- shuffling\n",
    "from pythonlib.tools.pandastools import shuffle_dataset_hierarchical\n",
    "# from neuralmonkey.metrics.scalar import _shuffle_dataset_hier\n",
    "\n",
    "dflab = PApca.Xlabels[\"trials\"].copy()\n",
    "dflab_shuff_1 = shuffle_dataset_hierarchical(dflab, [var], var_others)\n",
    "# dflab_shuff_2 = _shuffle_dataset_hier(dflab, var_others, [var])\n",
    "# dflab_shuff_2 = _shuffle_dataset_hier(dflab, [\"task_kind\"], [\"shape\", \"gridloc\"])\n",
    "\n"
   ],
   "metadata": {
    "collapsed": false
   },
   "id": "f99f76fbe733d225"
  },
  {
   "cell_type": "code",
   "execution_count": null,
   "outputs": [],
   "source": [
    "print(np.all(dflab[\"trialcode\"] == dflab_shuff_1[\"trialcode\"]))\n",
    "# print(np.all(dflab[\"trialcode\"] == dflab_shuff_2[\"trialcode\"]))\n"
   ],
   "metadata": {
    "collapsed": false
   },
   "id": "e7d32aba444c4298"
  },
  {
   "cell_type": "code",
   "execution_count": null,
   "outputs": [],
   "source": [
    "from pythonlib.tools.pandastools import shuffle_dataset_hierarchical\n",
    "\n",
    "var = \"shape\"\n",
    "var_others = [\"task_kind\", \"gridloc\"]\n",
    "n_shuff = 3\n",
    "\n",
    "res = []\n",
    "DOSHUFFLE = True\n",
    "for i_shuff in range(n_shuff):\n",
    "    \n",
    "    # 0. shuffle\n",
    "    PApcaSHUFF = PApca.copy()\n",
    "    if DOSHUFFLE:\n",
    "        dflab = PApcaSHUFF.Xlabels[\"trials\"].copy()\n",
    "        dflabSHUFF = shuffle_dataset_hierarchical(dflab, [var], var_others)\n",
    "        PApcaSHUFF.Xlabels[\"trials\"] = dflabSHUFF\n",
    "\n",
    "    \n",
    "    # 1. agg before computing distances (quicker)\n",
    "    pa_agg = PApcaSHUFF.slice_and_agg_wrapper(\"trials\", [var]+var_others)\n",
    "    \n",
    "    # 2. Make clusters\n",
    "    # Create clusters\n",
    "    label_vars = [var]+var_others\n",
    "    dflab = pa_agg.Xlabels[\"trials\"]\n",
    "    labels_rows = dflab.loc[:, label_vars].values.tolist()\n",
    "    labels_rows = [tuple(x) for x in labels_rows] # list of tuples\n",
    "    if SHUFFLE:\n",
    "        import random\n",
    "        random.shuffle(labels_rows)\n",
    "    params = {\n",
    "        \"label_vars\":label_vars,\n",
    "    }\n",
    "    Xthis = pa_agg.X.squeeze(axis=2).T # (ntrials, ndims)\n",
    "    \n",
    "    Cl = Clusters(Xthis, labels_rows, ver=\"rsa\", params=params)\n",
    "    Cldist = Cl.distsimmat_convert(\"euclidian\")\n",
    "    if False:\n",
    "        Cldist.rsa_plot_heatmap()\n",
    "    PLOT_MASKS=False\n",
    "    MASKS, fig, axes = Cldist.rsa_mask_context_helper(var, var_others, \"diff_at_least_one\", PLOT=PLOT_MASKS)\n",
    "    # Compute score\n",
    "    # 1. Within each context, average pairwise distance between levels of effect var\n",
    "    map_grp_to_mask = Cldist.rsa_mask_context_split_levels_of_conj_var(var_others, PLOT=PLOT_MASKS)\n",
    "    # For each levo, compute mean distance\n",
    "    for grp, ma in map_grp_to_mask.items():\n",
    "        ma_final = ma & MASKS[\"effect_diff\"]\n",
    "        dist = Cldist.Xinput[ma_final].mean()\n",
    "        res.append({\n",
    "            \"var\":var,\n",
    "            \"var_others\":var_others,\n",
    "            \"levo\":grp,\n",
    "            \"dist\":dist,\n",
    "            \"i_shuff\":i_shuff,\n",
    "            # \"dist_norm_95\":dist/DIST_NULL_95,\n",
    "            # \"dist_norm_50\":dist/DIST_NULL_50\n",
    "        })"
   ],
   "metadata": {
    "collapsed": false
   },
   "id": "22580d7b7d11d758"
  },
  {
   "cell_type": "code",
   "execution_count": null,
   "outputs": [],
   "source": [
    "pd.DataFrame(res)"
   ],
   "metadata": {
    "collapsed": false
   },
   "id": "14f1d0cd39a732c3"
  },
  {
   "cell_type": "code",
   "execution_count": null,
   "outputs": [],
   "source": [
    "pd.DataFrame(res)"
   ],
   "metadata": {
    "collapsed": false
   },
   "id": "25f9aa85f69654d1"
  },
  {
   "cell_type": "code",
   "execution_count": null,
   "outputs": [],
   "source": [
    "MASKS, _, _ = Cldist.rsa_mask_context_helper(var, var_others, \"diff_at_least_one\")"
   ],
   "metadata": {
    "collapsed": false
   },
   "id": "b9fbe120a6e1a027"
  },
  {
   "cell_type": "code",
   "execution_count": null,
   "outputs": [],
   "source": [
    "MASKS.keys()"
   ],
   "metadata": {
    "collapsed": false
   },
   "id": "f8f875ff5dfdb710"
  },
  {
   "cell_type": "code",
   "execution_count": null,
   "outputs": [],
   "source": [
    "Cldist.Labels"
   ],
   "metadata": {
    "collapsed": false
   },
   "id": "23e2d92ccaee756b"
  },
  {
   "cell_type": "code",
   "execution_count": null,
   "outputs": [],
   "source": [
    "X = np.stack([row[\"Stroke\"]()[0,:2] for i, row in pa.Xlabels[\"trials\"].iterrows()])"
   ],
   "metadata": {
    "collapsed": false
   },
   "id": "1181db47d4c2c5f4"
  },
  {
   "cell_type": "code",
   "execution_count": null,
   "outputs": [],
   "source": [
    "from pythonlib.tools.statstools import kmeans_with_silhouette_score\n",
    "\n",
    "kmeans_with_silhouette_score(X, n_clusters_min_max=[3, 15], PLOT=True)"
   ],
   "metadata": {
    "collapsed": false
   },
   "id": "9484ffaae665cf2e"
  },
  {
   "cell_type": "markdown",
   "source": [
    "### Loading euclidian distance results"
   ],
   "metadata": {
    "collapsed": false
   },
   "id": "c438acdfc7996036"
  },
  {
   "cell_type": "code",
   "execution_count": null,
   "outputs": [],
   "source": [
    "path = \"/gorilla1/analyses/recordings/main/EUCLIDIAN_DIST/Pancho-230620/PIG_BASE_stroke-fr_normalization_method=across_time_bins-NPCS_KEEP=10/twind_analy=(-0.1, 0.1)-tbin_dur=0.1/DFRES.pkl\"\n",
    "import pandas as pd\n",
    "DFRES = pd.read_pickle(path)\n",
    "DFTHIS = DFRES\n"
   ],
   "metadata": {
    "collapsed": false
   },
   "id": "ff1e9a4fb62f273a"
  },
  {
   "cell_type": "code",
   "execution_count": null,
   "outputs": [],
   "source": [
    "DFRES[:10]"
   ],
   "metadata": {
    "collapsed": false
   },
   "id": "8027b37909c10b05"
  },
  {
   "cell_type": "code",
   "execution_count": null,
   "outputs": [],
   "source": [
    "effect_context = \"diff|same\"\n",
    "shuffled=False\n",
    "yvar = \"dist\"\n",
    "from pythonlib.tools.pandastools import plot_subplots_heatmap\n",
    "\n",
    "dfthis = DFTHIS[(DFTHIS[\"effect_context\"]==effect_context) & (DFTHIS[\"shuffled\"]==shuffled)].reset_index(drop=True)\n",
    "# savedirthis = f\"{savedir}/each_conjunction-effect_context={effect_context}-shuffled={shuffled}\"\n",
    "# os.makedirs(savedirthis, exist_ok=True)\n",
    "# print(\"... \", savedirthis)\n",
    "\n",
    "# # 1) Scatter\n",
    "# list_vvo = dfthis[\"var_var_others\"].unique().tolist()\n",
    "# for vvo in list_vvo:\n",
    "#     dfthisthis = dfthis[dfthis[\"var_var_others\"]==vvo]\n",
    "#     fig = sns.catplot(data=dfthisthis, x=yvar, y=\"levo\", col=\"bregion\", alpha=0.4)\n",
    "#     # savefig(fig, f\"{savedirthis}/allconj_scatter-vvo={vvo}.pdf\")\n",
    "#     plt.close(\"all\")\n",
    "\n",
    "\n",
    "# 2) Heatmap\n",
    "fig, axes = plot_subplots_heatmap(dfthis, \"bregion\", \"levo\", yvar, \"var_var_others\",\n",
    "                                  diverge=True, ncols=None, share_zlim=True)\n"
   ],
   "metadata": {
    "collapsed": false
   },
   "id": "d5247e4b4ee906ab"
  },
  {
   "cell_type": "code",
   "execution_count": null,
   "outputs": [],
   "source": [
    "dfthis"
   ],
   "metadata": {
    "collapsed": false
   },
   "id": "6eb5155bf21347c7"
  },
  {
   "cell_type": "code",
   "execution_count": null,
   "outputs": [],
   "source": [
    "dfthis[\"levo\"]"
   ],
   "metadata": {
    "collapsed": false
   },
   "id": "2ec91fe87dbe618e"
  },
  {
   "cell_type": "code",
   "execution_count": null,
   "outputs": [],
   "source": [
    "type(int(xx))"
   ],
   "metadata": {
    "collapsed": false
   },
   "id": "86805eb64394667f"
  },
  {
   "cell_type": "code",
   "execution_count": null,
   "outputs": [],
   "source": [
    "import numpy as np\n",
    "for x in dfthis[\"levo\"].unique().tolist():\n",
    "    for xx in x:\n",
    "        \n",
    "        print(type(xx))\n",
    "        if type(xx)==np.int64:\n",
    "            asdfasdf"
   ],
   "metadata": {
    "collapsed": false
   },
   "id": "dafd9fcc1d93a748"
  },
  {
   "cell_type": "code",
   "execution_count": null,
   "outputs": [],
   "source": [
    "from pythonlib.tools.pandastools import grouping_append_and_return_inner_items\n",
    "# grouping_append_and_return_inner_items(dfthis, [\"bregion\", \"levo\", \"var_var_others\"])\n",
    "grouping_append_and_return_inner_items(dfthis, [\"bregion\", \"var_var_others\"])\n"
   ],
   "metadata": {
    "collapsed": false
   },
   "id": "a2522d1cfbffd30"
  },
  {
   "cell_type": "code",
   "execution_count": null,
   "outputs": [],
   "source": [
    "dfthis"
   ],
   "metadata": {
    "collapsed": false
   },
   "id": "408794736ec8c641"
  },
  {
   "cell_type": "code",
   "execution_count": null,
   "outputs": [],
   "source": [
    "grp.index"
   ],
   "metadata": {
    "collapsed": false
   },
   "id": "25625c6cfcceadec"
  },
  {
   "cell_type": "code",
   "execution_count": null,
   "outputs": [],
   "source": [
    "for i, grp in dfthis.groupby([\"bregion\", \"var_var_others\"]):\n",
    "    print(i)\n",
    "    print"
   ],
   "metadata": {
    "collapsed": false
   },
   "id": "4f37a514b2c8f7d3"
  },
  {
   "cell_type": "code",
   "execution_count": null,
   "outputs": [],
   "source": [
    "grouping_append_and_return_inner_items(dfthis, [\"bregion\", \"var_var_others\"])\n"
   ],
   "metadata": {
    "collapsed": false
   },
   "id": "4f2d5408f8446b4f"
  },
  {
   "cell_type": "code",
   "execution_count": null,
   "outputs": [],
   "source": [
    "dfthis[\"effect_context\"]\n"
   ],
   "metadata": {
    "collapsed": false
   },
   "id": "e0941dda3e0c989a"
  }
 ],
 "metadata": {
  "kernelspec": {
   "display_name": "Python 3",
   "language": "python",
   "name": "python3"
  },
  "language_info": {
   "codemirror_mode": {
    "name": "ipython",
    "version": 2
   },
   "file_extension": ".py",
   "mimetype": "text/x-python",
   "name": "python",
   "nbconvert_exporter": "python",
   "pygments_lexer": "ipython2",
   "version": "2.7.6"
  }
 },
 "nbformat": 4,
 "nbformat_minor": 5
}
