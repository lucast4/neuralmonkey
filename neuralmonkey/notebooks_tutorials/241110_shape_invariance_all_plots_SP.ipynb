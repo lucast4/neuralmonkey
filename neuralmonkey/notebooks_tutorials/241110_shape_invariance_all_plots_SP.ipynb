{
 "cells": [
  {
   "cell_type": "code",
   "execution_count": 1,
   "id": "7125966e",
   "metadata": {},
   "outputs": [
    {
     "data": {
      "text/plain": [
       "'\\nPlot heatmaps of SP shape encoding, split by location.\\nFor paper figure\\n'"
      ]
     },
     "execution_count": 1,
     "metadata": {},
     "output_type": "execute_result"
    }
   ],
   "source": [
    "\"\"\"\n",
    "Plot heatmaps of SP shape encoding, split by location.\n",
    "For paper figure\n",
    "\"\"\""
   ]
  },
  {
   "cell_type": "code",
   "execution_count": 2,
   "id": "4b248d33aff307a2",
   "metadata": {
    "collapsed": false
   },
   "outputs": [],
   "source": [
    "%load_ext autoreload\n",
    "%autoreload 2\n",
    "\n",
    "import numpy as np\n",
    "import pandas as pd\n",
    "import matplotlib.pyplot as plt"
   ]
  },
  {
   "cell_type": "markdown",
   "id": "e21d20c8",
   "metadata": {},
   "source": [
    "# Load DFallPa dataset"
   ]
  },
  {
   "cell_type": "code",
   "execution_count": 3,
   "id": "14525eb3",
   "metadata": {},
   "outputs": [],
   "source": [
    "##### Method: loading functrion\""
   ]
  },
  {
   "cell_type": "code",
   "execution_count": 4,
   "id": "e5608555",
   "metadata": {},
   "outputs": [],
   "source": [
    "from neuralmonkey.classes.population_mult import load_handsaved_wrapper, dfpa_concatbregion_preprocess_wrapper,dfpa_match_chans_across_pa_each_bregion\n",
    "from neuralmonkey.classes.population_mult import extract_single_pa\n"
   ]
  },
  {
   "cell_type": "code",
   "execution_count": null,
   "id": "010699ad",
   "metadata": {},
   "outputs": [],
   "source": [
    "# Method 1 - load a single DFallPA\n",
    "\n",
    "\n",
    "# animal = \"Diego\"\n",
    "# # date = 230615\n",
    "# date = 240510\n",
    "# combine = True\n",
    "# question = \"SP_BASE_trial\"\n",
    "# version = \"trial\"\n",
    "\n",
    "animal = \"Pancho\"\n",
    "date = 220606\n",
    "combine = True\n",
    "question = \"SP_BASE_trial\"\n",
    "version = \"trial\"\n",
    "\n",
    "DFallpa = load_handsaved_wrapper(animal, date, version=version, combine_areas=combine, question=question)\n"
   ]
  },
  {
   "cell_type": "code",
   "execution_count": null,
   "id": "e2016033",
   "metadata": {},
   "outputs": [],
   "source": [
    "dfpa_concatbregion_preprocess_wrapper(DFallpa, animal, date)\n"
   ]
  },
  {
   "cell_type": "code",
   "execution_count": null,
   "id": "f20d3129",
   "metadata": {},
   "outputs": [],
   "source": [
    "PA = DFallpa[\"pa\"].values[1]"
   ]
  },
  {
   "cell_type": "code",
   "execution_count": null,
   "id": "eb0d84ef",
   "metadata": {},
   "outputs": [],
   "source": [
    "from neuralmonkey.scripts.analy_shape_invariance_all_plots_SP import preprocess_pa\n",
    "\n",
    "var_other = \"gridsize\"\n",
    "var_context_same = \"seqc_0_loc\"\n",
    "\n",
    "remove_drift=True\n",
    "subspace_projection = \"shape\"\n",
    "subspace_projection_fitting_twind = (0.05, 0.9)\n",
    "twind_analy = (-0.5, 1.0)\n",
    "tbin_dur = 0.2\n",
    "tbin_slide = 0.05\n",
    "savedir = \"/tmp\"\n",
    "PAthis = preprocess_pa(PA, animal, date, var_other, savedir, remove_drift, subspace_projection, subspace_projection_fitting_twind, \n",
    "                twind_analy, tbin_dur, tbin_slide, var_context_same=var_context_same)\n"
   ]
  },
  {
   "cell_type": "code",
   "execution_count": null,
   "id": "12240623",
   "metadata": {},
   "outputs": [],
   "source": [
    "label_grp_vars = [\"seqc_0_shape\", \"seqc_0_loc\", \"gridsize\"]\n",
    "fraction_constrained_set=0.75\n",
    "n_constrained=2\n",
    "list_labels_need_n=None\n",
    "min_frac_datapts_unconstrained=None\n",
    "min_n_datapts_unconstrained=1\n",
    "plot_train_test_counts=True\n",
    "plot_indices=True\n",
    "nsplits=2\n",
    "folds, fig_unc, fig_con = PAthis.split_stratified_constrained_grp_var(nsplits, label_grp_vars, fraction_constrained_set, n_constrained, \n",
    "                                             list_labels_need_n, min_frac_datapts_unconstrained,  \n",
    "                                             min_n_datapts_unconstrained, plot_train_test_counts, plot_indices);"
   ]
  },
  {
   "cell_type": "code",
   "execution_count": null,
   "id": "ff9e52ea",
   "metadata": {},
   "outputs": [],
   "source": [
    "folds"
   ]
  },
  {
   "cell_type": "markdown",
   "id": "74ca70b9",
   "metadata": {},
   "source": [
    "##### Quick, testing heatmap code"
   ]
  },
  {
   "cell_type": "code",
   "execution_count": null,
   "id": "a995b676",
   "metadata": {},
   "outputs": [],
   "source": [
    "from neuralmonkey.neuralplots.population import heatmapwrapper_many_useful_plots\n",
    "import os\n",
    "savedir = \"/tmp/TESTTEST\"\n",
    "os.makedirs(savedir, exist_ok=True)\n",
    "diverge = True\n",
    "heatmapwrapper_many_useful_plots(PAthis, savedir, var_is_blocks=False, mean_over_trials=True, flip_rowcol=True, plot_fancy=True,\n",
    "    diverge=diverge)"
   ]
  },
  {
   "cell_type": "markdown",
   "id": "91a303c9",
   "metadata": {},
   "source": [
    "##### Compute euclidian (for shape, controlling for size)"
   ]
  },
  {
   "cell_type": "code",
   "execution_count": null,
   "id": "7b71b8aa",
   "metadata": {},
   "outputs": [],
   "source": [
    "# Prune to scalar window\n",
    "twind_scal = (0.05, 1.0)\n",
    "pa = PAthis.slice_by_dim_values_wrapper(\"times\", twind_scal)\n"
   ]
  },
  {
   "cell_type": "code",
   "execution_count": null,
   "id": "cf773c1e",
   "metadata": {},
   "outputs": [],
   "source": [
    "dflab = pa.Xlabels[\"trials\"]\n",
    "from pythonlib.tools.pandastools import grouping_plot_n_samples_conjunction_heatmap\n",
    "grouping_plot_n_samples_conjunction_heatmap(dflab, \"seqc_0_shape\", \"seqc_0_loc\", [\"gridsize\"])"
   ]
  },
  {
   "cell_type": "code",
   "execution_count": null,
   "id": "5c4ef8c7",
   "metadata": {},
   "outputs": [],
   "source": [
    "from neuralmonkey.analyses.euclidian_distance import timevarying_compute_fast_to_scalar\n",
    "var_effect = \"seqc_0_shape\"\n",
    "\n",
    "# var_other = \"seqc_0_loc\"\n",
    "# var_context_same = \"gridsize\"\n",
    "\n",
    "var_other = \"gridsize\"\n",
    "var_context_same = \"seqc_0_loc\"\n",
    "\n",
    "label_vars =  (var_effect, var_other)\n",
    "dfdist, Cldist = timevarying_compute_fast_to_scalar(pa, label_vars, \"/tmp\", var_context_same=var_context_same)"
   ]
  },
  {
   "cell_type": "code",
   "execution_count": null,
   "id": "fa5bac8d",
   "metadata": {},
   "outputs": [],
   "source": []
  },
  {
   "cell_type": "markdown",
   "id": "18e10c49",
   "metadata": {},
   "source": [
    "### Plot RSA heatmap"
   ]
  },
  {
   "cell_type": "code",
   "execution_count": null,
   "id": "77a0653a",
   "metadata": {},
   "outputs": [],
   "source": [
    "from neuralmonkey.analyses.euclidian_distance import timevarying_compute_fast_to_scalar\n",
    "label_vars =  (\"seqc_0_shape\", \"seqc_0_loc\")\n",
    "timevarying_compute_fast_to_scalar(pa, label_vars, \"/tmp\")"
   ]
  },
  {
   "cell_type": "code",
   "execution_count": null,
   "id": "f78cb777",
   "metadata": {},
   "outputs": [],
   "source": [
    "list_dims = [(0,1), (1,2), (2,3)]\n",
    "PAthis.plot_state_space_good_wrapper(\"/tmp\", [\"seqc_0_shape\"], [[\"seqc_0_loc\"]], PLOT_CLEAN_VERSION=True,\n",
    "                                     list_dims=list_dims)"
   ]
  },
  {
   "cell_type": "markdown",
   "id": "e02cc055",
   "metadata": {},
   "source": [
    "# Plot heatmaps"
   ]
  },
  {
   "cell_type": "code",
   "execution_count": null,
   "id": "62872931",
   "metadata": {},
   "outputs": [],
   "source": [
    "import os\n",
    "SAVEDIR = \"/tmp/TEST3\"\n",
    "os.makedirs(SAVEDIR, exist_ok=True)"
   ]
  },
  {
   "cell_type": "code",
   "execution_count": null,
   "id": "66fea082",
   "metadata": {},
   "outputs": [],
   "source": [
    "# GOOD PLOTS\n",
    "from neuralmonkey.scripts.analy_shape_invariance_all_plots_SP import heatmaps_plot_wrapper\n",
    "heatmaps_plot_wrapper(DFallpa, animal, date, SAVEDIR, \"seqc_0_loc\")"
   ]
  },
  {
   "cell_type": "markdown",
   "id": "b3a728ff",
   "metadata": {},
   "source": [
    "##### Devo"
   ]
  },
  {
   "cell_type": "code",
   "execution_count": null,
   "id": "338219d8",
   "metadata": {},
   "outputs": [],
   "source": [
    "# Each PC, convert to zscore\n"
   ]
  },
  {
   "cell_type": "code",
   "execution_count": null,
   "id": "af339b10",
   "metadata": {},
   "outputs": [],
   "source": [
    "# make this a grid of (dims, locs)\n",
    "vars_subplots = [\"seqc_0_loc\"]\n",
    "var = \"seqc_0_shape\"\n",
    "dims = [0,1,2]\n",
    "panorm.plotwrappergrid_smoothed_fr_splot_neuron(var, vars_subplots, dims);\n"
   ]
  },
  {
   "cell_type": "code",
   "execution_count": null,
   "id": "edceb736",
   "metadata": {},
   "outputs": [],
   "source": [
    "var_col = \"seqc_0_shape\"\n",
    "var_row = \"seqc_0_loc\"\n",
    "chans = [1]\n",
    "\n",
    "\n",
    "panorm.plotwrappergrid_smoothed_fr_splot_var(var_row, var_col, chans, plot_indiv=True)\n",
    "# pathis.plotwrappergrid_smoothed_fr_splot_var(var_row, var_col, chans)"
   ]
  },
  {
   "cell_type": "code",
   "execution_count": null,
   "id": "58273fe3",
   "metadata": {},
   "outputs": [],
   "source": [
    "# IGNORE --- this is using old code, which is now replaced by the new PA code above.\n",
    "from neuralmonkey.analyses.state_space_good import trajgood_construct_df_from_raw, trajgood_plot_colorby_splotby_timeseries\n",
    "PA_traj = panorm\n",
    "var = \"seqc_0_shape\"\n",
    "var_others = \"seqc_0_loc\"\n",
    "_vars = [\"seqc_0_shape\", \"seqc_0_loc\"]\n",
    "list_dim_timecourse = [1,2,3]\n",
    "plot_trials_n = 2\n",
    "df = trajgood_construct_df_from_raw(PA_traj.X, PA_traj.Times, PA_traj.Xlabels[\"trials\"], _vars)\n",
    "\n",
    "for dim in list_dim_timecourse:\n",
    "\n",
    "    # - (i) combined, plotting means.\n",
    "    fig, _ = trajgood_plot_colorby_splotby_timeseries(df, var, var_others, dim=dim,\n",
    "                                                    plot_trials_n=plot_trials_n, \n",
    "                                                    SUBPLOT_OPTION=\"split_levs\")\n",
    "    # path = f\"{sdir}/TIMECOURSEsplit-color={var}-sub={var_others}-dim={dim}-suff={i_var}.pdf\"\n",
    "    # print(\"Saving ... \", path)\n",
    "    # savefig(fig, path)\n",
    "\n",
    "    # - (2) split\n",
    "    fig, _ = trajgood_plot_colorby_splotby_timeseries(df, var, var_others, dim=dim, plot_trials_n=plot_trials_n,\n",
    "                                            plot_trials=False, SUBPLOT_OPTION=\"combine_levs\")\n",
    "    # path = f\"{sdir}/TIMECOURSEcomb-color={var}-sub={var_others}-dim={dim}-suff={i_var}.pdf\"\n",
    "    # print(\"Saving ... \", path)\n",
    "    # savefig(fig, path)\n",
    "    \n",
    "    # plt.close(\"all\")\n",
    "\n",
    "    assert False\n",
    "\n"
   ]
  },
  {
   "cell_type": "markdown",
   "id": "52a8a0cc",
   "metadata": {},
   "source": [
    "### Running euclidian plots (and extraction/computation)"
   ]
  },
  {
   "cell_type": "code",
   "execution_count": null,
   "id": "0d72e74e",
   "metadata": {},
   "outputs": [],
   "source": [
    "PA = DFallpa[\"pa\"].values[0]"
   ]
  },
  {
   "cell_type": "code",
   "execution_count": null,
   "id": "3b461494",
   "metadata": {},
   "outputs": [],
   "source": [
    "dur = 0.2\n",
    "slide = 0.01\n",
    "PA = PA.agg_by_time_windows_binned(dur, slide)"
   ]
  },
  {
   "cell_type": "code",
   "execution_count": null,
   "id": "bcf59125",
   "metadata": {},
   "outputs": [],
   "source": [
    "var_effect = \"seqc_0_shape\"\n",
    "var_other = \"seqc_0_loc\"\n",
    "vars_group = [var_effect, var_other]\n",
    "version = \"traj\"\n",
    "DFDIST = PA.dataextractwrap_distance_between_groups(vars_group, version)\n"
   ]
  },
  {
   "cell_type": "code",
   "execution_count": null,
   "id": "b980029f",
   "metadata": {},
   "outputs": [],
   "source": [
    "from pythonlib.tools.pandastools import append_col_with_grp_index\n",
    "for var in [var_effect, var_other]:\n",
    "    DFDIST[f\"{var}_same\"] = DFDIST[f\"{var}_1\"] == DFDIST[f\"{var}_2\"]\n",
    "    DFDIST = append_col_with_grp_index(DFDIST, [f\"{var}_1\", f\"{var}_2\"], f\"{var}_12\")\n",
    "DFDIST = append_col_with_grp_index(DFDIST, [f\"{var_other}_same\", f\"{var_effect}_same\"], f\"same-{var_other}|{var_effect}\")\n",
    "# DFDIST = append_col_with_grp_index(DFDIST, [f\"{var_effect}_same\", f\"{var_other}_same\"], f\"same-{var_effect}|{var_other}\")\n",
    "\n"
   ]
  },
  {
   "cell_type": "code",
   "execution_count": null,
   "id": "e3d0a363",
   "metadata": {},
   "outputs": [],
   "source": [
    "DFDIST"
   ]
  },
  {
   "cell_type": "code",
   "execution_count": null,
   "id": "4ad0c47b",
   "metadata": {},
   "outputs": [],
   "source": [
    "import seaborn as sns\n",
    "for y in [\"dist_mean\", \"dist_norm\", \"dist_yue_diff\"]:\n",
    "    # sns.relplot(data=DFDIST, x=\"time_bin\", y=y, hue=\"same_shape|task_kind_12\", kind=\"line\", errorbar=(\"ci\", 68))\n",
    "    fig = sns.relplot(data=DFDIST, x=\"time_bin\", y=y, hue=\"same-seqc_0_loc|seqc_0_shape\", kind=\"line\", errorbar=(\"ci\", 68))\n",
    "    # savefig(fig, f\"{SAVEDIR}/relplot-{y}-1.pdf\")\n",
    "\n",
    "    if False: # slow, and I don't use\n",
    "        fig = sns.relplot(data=DFDIST, x=\"time_bin\", y=y, hue=\"same_shape|task_kind_12\", kind=\"line\", errorbar=(\"ci\", 68))\n",
    "        savefig(fig, f\"{SAVEDIR}/relplot-{y}-2.pdf\")\n",
    "\n",
    "        fig = sns.relplot(data=DFDIST, x=\"time_bin\", y=y, hue=\"task_kind_12\", kind=\"line\", col=\"same-task|shape\", errorbar=(\"ci\", 68))\n",
    "        savefig(fig, f\"{SAVEDIR}/relplot-{y}-3.pdf\")\n",
    "\n",
    "        fig = sns.relplot(data=DFDIST, x=\"time_bin\", y=y, hue=f\"{shape_var}_12\", kind=\"line\", col=\"same-task|shape\", \n",
    "                    errorbar=(\"ci\", 68), legend=False, alpha=0.5)\n",
    "        savefig(fig, f\"{SAVEDIR}/relplot-{y}-4.pdf\")\n",
    "\n",
    "    # plt.close(\"all\")\n"
   ]
  },
  {
   "cell_type": "code",
   "execution_count": null,
   "id": "700a76b2",
   "metadata": {},
   "outputs": [],
   "source": [
    "import seaborn as sns\n",
    "for y in [\"dist_mean\", \"dist_norm\", \"dist_yue_diff\"]:\n",
    "    # sns.relplot(data=DFDIST, x=\"time_bin\", y=y, hue=\"same_shape|task_kind_12\", kind=\"line\", errorbar=(\"ci\", 68))\n",
    "    fig = sns.relplot(data=DFDIST, x=\"time_bin\", y=y, hue=\"same-seqc_0_loc|seqc_0_shape\", kind=\"line\", errorbar=(\"ci\", 68))\n",
    "    # savefig(fig, f\"{SAVEDIR}/relplot-{y}-1.pdf\")\n",
    "\n",
    "    if False: # slow, and I don't use\n",
    "        fig = sns.relplot(data=DFDIST, x=\"time_bin\", y=y, hue=\"same_shape|task_kind_12\", kind=\"line\", errorbar=(\"ci\", 68))\n",
    "        savefig(fig, f\"{SAVEDIR}/relplot-{y}-2.pdf\")\n",
    "\n",
    "        fig = sns.relplot(data=DFDIST, x=\"time_bin\", y=y, hue=\"task_kind_12\", kind=\"line\", col=\"same-task|shape\", errorbar=(\"ci\", 68))\n",
    "        savefig(fig, f\"{SAVEDIR}/relplot-{y}-3.pdf\")\n",
    "\n",
    "        fig = sns.relplot(data=DFDIST, x=\"time_bin\", y=y, hue=f\"{shape_var}_12\", kind=\"line\", col=\"same-task|shape\", \n",
    "                    errorbar=(\"ci\", 68), legend=False, alpha=0.5)\n",
    "        savefig(fig, f\"{SAVEDIR}/relplot-{y}-4.pdf\")\n",
    "\n",
    "    # plt.close(\"all\")\n"
   ]
  },
  {
   "cell_type": "code",
   "execution_count": null,
   "id": "f109043d",
   "metadata": {},
   "outputs": [],
   "source": [
    "# Scalar values\n",
    "from neuralmonkey.analyses.euclidian_distance import compute_scalar_from_time_varying, timevarying_compute\n",
    "compute_scalar_from_time_varying"
   ]
  },
  {
   "cell_type": "code",
   "execution_count": null,
   "id": "3921aa56",
   "metadata": {},
   "outputs": [],
   "source": [
    "DFDIST = timevarying_compute(PA, vars_group)"
   ]
  },
  {
   "cell_type": "code",
   "execution_count": null,
   "id": "71be43d9",
   "metadata": {},
   "outputs": [],
   "source": [
    "for y in [\"dist_mean\", \"dist_norm\", \"dist_yue_diff\"]:\n",
    "    # sns.relplot(data=DFDIST, x=\"time_bin\", y=y, hue=\"same_shape|task_kind_12\", kind=\"line\", errorbar=(\"ci\", 68))\n",
    "    fig = sns.relplot(data=DFDIST, x=\"time_bin\", y=y, hue=\"same-seqc_0_shape|seqc_0_loc\", kind=\"line\", errorbar=(\"ci\", 68))\n",
    "    # savefig(fig, f\"{SAVEDIR}/relplot-{y}-1.pdf\")\n"
   ]
  },
  {
   "cell_type": "code",
   "execution_count": null,
   "id": "67336941",
   "metadata": {},
   "outputs": [],
   "source": [
    "DFDIST"
   ]
  },
  {
   "cell_type": "code",
   "execution_count": null,
   "id": "e9ed4a4e",
   "metadata": {},
   "outputs": [],
   "source": [
    "dfscal =timevarying_convert_to_scalar(DFDIST)"
   ]
  },
  {
   "cell_type": "code",
   "execution_count": null,
   "id": "ad70929e",
   "metadata": {},
   "outputs": [],
   "source": [
    "from pythonlib.tools.pandastools import plot_45scatter_means_flexible_grouping\n",
    "\n",
    "plot_45scatter_means_flexible_grouping()"
   ]
  },
  {
   "cell_type": "code",
   "execution_count": null,
   "id": "65cd3dbe",
   "metadata": {},
   "outputs": [],
   "source": [
    "from  neuralmonkey.scripts.analy_shape_invariance_all_plots_SP import euclidian_time_resolved, preprocess_pa, _preprocess_pa_dim_reduction\n"
   ]
  },
  {
   "cell_type": "code",
   "execution_count": null,
   "id": "67c62c1e",
   "metadata": {},
   "outputs": [],
   "source": [
    "\n",
    "SAVEDIR_ANALYSIS = \"/tmp/EUCLD\"\n",
    "euclidian_time_resolved(DFallpa, animal, date, var_other, SAVEDIR_ANALYSIS)"
   ]
  },
  {
   "cell_type": "markdown",
   "id": "d05f057d",
   "metadata": {},
   "source": [
    "# [#4] Euclidian, doing stats (and faster way to compute)"
   ]
  },
  {
   "cell_type": "code",
   "execution_count": null,
   "id": "75eaf2e8",
   "metadata": {},
   "outputs": [],
   "source": [
    "import os"
   ]
  },
  {
   "cell_type": "code",
   "execution_count": null,
   "id": "b111a488",
   "metadata": {},
   "outputs": [],
   "source": [
    "SAVEDIR_ANALYSIS = \"/tmp/EUCL2\"\n",
    "os.makedirs(SAVEDIR_ANALYSIS, exist_ok=True)"
   ]
  },
  {
   "cell_type": "code",
   "execution_count": null,
   "id": "968e73e6",
   "metadata": {},
   "outputs": [],
   "source": [
    "from neuralmonkey.scripts.analy_shape_invariance_all_plots_SP import euclidian_time_resolved_fast_shuffled\n",
    "var_other = \"gridsize\"\n",
    "var_context_same = \"seqc_0_loc\"\n",
    "euclidian_time_resolved_fast_shuffled(DFallpa, animal, date, var_other, SAVEDIR_ANALYSIS, var_context_same=var_context_same)"
   ]
  },
  {
   "cell_type": "markdown",
   "id": "fb08ba1f",
   "metadata": {},
   "source": [
    "##### [Devo]"
   ]
  },
  {
   "cell_type": "code",
   "execution_count": null,
   "id": "78f906db",
   "metadata": {},
   "outputs": [],
   "source": []
  },
  {
   "cell_type": "markdown",
   "id": "8a8c53d6",
   "metadata": {},
   "source": [
    "# [#4.3] [Load for shuffle, each run's cached data --> STATS"
   ]
  },
  {
   "cell_type": "code",
   "execution_count": null,
   "id": "6ccdfb79",
   "metadata": {},
   "outputs": [],
   "source": [
    "import pickle\n",
    "import os\n",
    "from pythonlib.tools.plottools import savefig"
   ]
  },
  {
   "cell_type": "code",
   "execution_count": null,
   "id": "4ec4109b",
   "metadata": {},
   "outputs": [],
   "source": [
    "from neuralmonkey.scripts.analy_shape_invariance_all_plots_SP import euclidian_time_resolved_fast_shuffled_mult_reload\n"
   ]
  },
  {
   "cell_type": "code",
   "execution_count": null,
   "id": "216b4bd7",
   "metadata": {},
   "outputs": [],
   "source": [
    "animal = \"Diego\"\n",
    "date = 230615\n",
    "var_other = \"seqc_0_loc\"\n",
    "\n",
    "list_dfdist, list_dfdist_shuff, SAVEDIR_PLOTS = euclidian_time_resolved_fast_shuffled_mult_reload(animal, date, var_other)"
   ]
  },
  {
   "cell_type": "markdown",
   "id": "3fb367e6",
   "metadata": {},
   "source": [
    "### [Stats method #1] -- Trial-by-trial shuffles from euclidian_time_resolved_fast_shuffled()"
   ]
  },
  {
   "cell_type": "markdown",
   "id": "f4445cfa",
   "metadata": {},
   "source": [
    "This is from the really slow shuffling of all trials, and then using that distribution (each shuff gives one value) to compute empirical p value.\n",
    "\n",
    "This is the only one of the methods that uses the shuffled data.\n"
   ]
  },
  {
   "cell_type": "code",
   "execution_count": null,
   "id": "4c4a5b1c",
   "metadata": {},
   "outputs": [],
   "source": [
    "from neuralmonkey.neuralplots.brainschematic import datamod_reorder_by_bregion\n",
    "from pythonlib.tools.pandastools import append_col_with_grp_index\n",
    "from pythonlib.tools.pandastools import aggregGeneral\n",
    "import pandas as pd\n",
    "import matplotlib.pyplot as plt\n",
    "\n",
    "# Run separately for each bregion\n",
    "# bregion = \"PMv\"\n",
    "list_bregion = sorted(set([dfdist[\"bregion\"].unique()[0] for dfdist in list_dfdist]))\n",
    "for bregion in list_bregion:\n",
    "    print(bregion)\n",
    "\n",
    "    savedir = f\"{SAVEDIR_PLOTS}/bregion={bregion}\"\n",
    "    os.makedirs(savedir, exist_ok=True)\n",
    "\n",
    "    list_dfdist_this = [dfdist for dfdist in list_dfdist if dfdist[\"bregion\"].unique()[0]==bregion]\n",
    "    list_dfdist_shuff_this = [dfdist for dfdist in list_dfdist_shuff if dfdist[\"bregion\"].unique()[0]==bregion]\n",
    "\n",
    "    # First, generate all df\n",
    "    print(\"concatting...\")\n",
    "    DFDISTS = pd.concat(list_dfdist_this).reset_index(drop=True)\n",
    "    DFDISTS_SHUFF = pd.concat(list_dfdist_shuff_this).reset_index(drop=True)\n",
    "    DFDISTS = datamod_reorder_by_bregion(DFDISTS)\n",
    "    DFDISTS_SHUFF = datamod_reorder_by_bregion(DFDISTS_SHUFF)\n",
    "\n",
    "    print(\"appending...\")\n",
    "    DFDISTS = append_col_with_grp_index(DFDISTS, [\"subspace_projection\", \"subspace_projection_fitting_twind\"], \"subspace|twind\")\n",
    "    DFDISTS_SHUFF = append_col_with_grp_index(DFDISTS_SHUFF, [\"subspace_projection\", \"subspace_projection_fitting_twind\"], \"subspace|twind\")\n",
    "    DFDISTS_SHUFF = append_col_with_grp_index(DFDISTS_SHUFF, [\"dim_redu_fold\", \"shuffle_iter\"], \"drfold|shuffiter\")\n",
    "\n",
    "    DFDISTS = append_col_with_grp_index(DFDISTS, [\"shuffled\", \"shuffle_ver\"], \"shuffled|ver\")\n",
    "    DFDISTS_SHUFF = append_col_with_grp_index(DFDISTS_SHUFF, [\"shuffled\", \"shuffle_ver\"], \"shuffled|ver\")\n",
    "\n",
    "    print(\"agging...\")\n",
    "    # Agg over all dim redu splits\n",
    "    DFDISTS = aggregGeneral(DFDISTS, [\"bregion\", \"which_level\", \"event\", \"subspace|twind\", \"labels_1\", \"labels_2\"], \n",
    "                            [\"dist_mean\", \"dist_norm\", \"dist_yue_diff\", \"DIST_50\", \"DIST_98\"], nonnumercols=\"all\")\n",
    "\n",
    "\n",
    "    # Agg over all conditions (e.g. label pairs)\n",
    "    DFDISTS_AGG = aggregGeneral(DFDISTS, [\"bregion\", \"which_level\", \"event\", \"subspace|twind\", \"same-seqc_0_shape|seqc_0_loc\"],\n",
    "                                [\"dist_mean\", \"dist_norm\", \"dist_yue_diff\", \"DIST_50\", \"DIST_98\"], nonnumercols=\"all\")\n",
    "\n",
    "\n",
    "    # Get distribition over shuffs\n",
    "    # - go straight to agg, this is correct for shuff\n",
    "    DFDISTS_SHUFF_AGG = aggregGeneral(DFDISTS_SHUFF, [\"same-seqc_0_shape|seqc_0_loc\", \"bregion\", \"which_level\", \"event\", \n",
    "                                        \"subspace_projection\", \"subspace_projection_fitting_twind\", \"subspace|twind\", \n",
    "                                        \"shuffle_ver\", \"shuffled\", \"drfold|shuffiter\", \"shuffled|ver\"], \n",
    "                                        [\"dist_mean\", \"dist_norm\", \"dist_yue_diff\", \"DIST_50\", \"DIST_98\"])\n",
    "\n",
    "    # Combine shuff and data into single dataframe\n",
    "    DFDISTS_ALL_AGG = pd.concat([DFDISTS_AGG, DFDISTS_SHUFF_AGG]).reset_index(drop=True)\n",
    "\n",
    "    for event in DFDISTS_ALL_AGG[\"event\"].unique():\n",
    "        dfthis = DFDISTS_ALL_AGG[(DFDISTS_ALL_AGG[\"event\"]==event)]\n",
    "        for y in [\"dist_yue_diff\", \"dist_mean\", \"DIST_50\"]:\n",
    "            fig = sns.catplot(data=dfthis, x=\"bregion\", y =y, col=\"same-seqc_0_shape|seqc_0_loc\", row=\"subspace|twind\", hue=\"shuffled|ver\", alpha=0.2, height=6)\n",
    "            savefig(fig, f\"{savedir}/COMBINED-catplot-event={event}-y={y}.pdf\")\n",
    "    plt.close(\"all\")\n"
   ]
  },
  {
   "cell_type": "markdown",
   "id": "3e736af4",
   "metadata": {},
   "source": [
    "### (Stats method #2) Use sign-rank without shuffling, consider each \"label condition\" as independnet datapt"
   ]
  },
  {
   "cell_type": "code",
   "execution_count": null,
   "id": "77a03d41",
   "metadata": {},
   "outputs": [],
   "source": [
    "# e.g., if "
   ]
  },
  {
   "cell_type": "code",
   "execution_count": null,
   "id": "17484682",
   "metadata": {},
   "outputs": [],
   "source": [
    "from neuralmonkey.neuralplots.brainschematic import datamod_reorder_by_bregion\n",
    "from pythonlib.tools.pandastools import append_col_with_grp_index\n",
    "from pythonlib.tools.pandastools import aggregGeneral\n",
    "import pandas as pd\n",
    "import matplotlib.pyplot as plt\n"
   ]
  },
  {
   "cell_type": "code",
   "execution_count": null,
   "id": "8da80c25",
   "metadata": {},
   "outputs": [],
   "source": [
    "savedir = f\"{SAVEDIR_PLOTS}/stats_using_signrank\"\n",
    "os.makedirs(savedir, exist_ok=True)\n"
   ]
  },
  {
   "cell_type": "code",
   "execution_count": null,
   "id": "735cdc4e",
   "metadata": {},
   "outputs": [],
   "source": [
    "\n",
    "# First, generate all df\n",
    "print(\"concatting...\")\n",
    "DFDISTS = pd.concat(list_dfdist).reset_index(drop=True)\n",
    "DFDISTS = datamod_reorder_by_bregion(DFDISTS)\n",
    "\n",
    "print(\"appending...\")\n",
    "DFDISTS = append_col_with_grp_index(DFDISTS, [\"subspace_projection\", \"subspace_projection_fitting_twind\"], \"subspace|twind\")\n",
    "DFDISTS = append_col_with_grp_index(DFDISTS, [\"shuffled\", \"shuffle_ver\"], \"shuffled|ver\")\n",
    "\n",
    "print(\"agging...\")\n",
    "\n",
    "# Agg over all dim redu splits\n",
    "DFDISTS = aggregGeneral(DFDISTS, [\"bregion\", \"which_level\", \"event\", \"subspace|twind\", \"labels_1\", \"labels_2\"], \n",
    "                        [\"dist_mean\", \"dist_norm\", \"dist_yue_diff\", \"DIST_50\", \"DIST_98\"], nonnumercols=\"all\")\n"
   ]
  },
  {
   "cell_type": "code",
   "execution_count": null,
   "id": "815c100c",
   "metadata": {},
   "outputs": [],
   "source": [
    "\n",
    "DFDISTS = stringify_values(DFDISTS)\n",
    "\n",
    "## FINAL AGGS\n",
    "# (1) each datapt is a unique label (multiple datapts per 0|1)\n",
    "tmp = DFDISTS.copy()\n",
    "tmp[\"labels_2\"] = DFDISTS[\"labels_1\"]\n",
    "tmp[\"labels_1\"] = DFDISTS[\"labels_2\"]\n",
    "tmp = pd.concat([tmp, DFDISTS]).reset_index(drop=True)\n",
    "if False: # Sanity check that got diagonals\n",
    "    from pythonlib.tools.pandastools import grouping_plot_n_samples_conjunction_heatmap\n",
    "    grouping_plot_n_samples_conjunction_heatmap(tmp, \"labels_1\", \"labels_2\")\n",
    "DFDISTS_DATPT_LABEL1 = aggregGeneral(tmp, [\"bregion\", \"which_level\", \"event\", \"subspace|twind\", \"labels_1\", \"same-seqc_0_shape|seqc_0_loc\"],\n",
    "            [\"dist_mean\", \"dist_norm\", \"dist_yue_diff\", \"DIST_50\", \"DIST_98\"], nonnumercols=\"all\")\n",
    "if False:\n",
    "    # Check output\n",
    "    grouping_plot_n_samples_conjunction_heatmap(DFDISTS_DATPT_LABEL1, \"labels_1\", \"same-seqc_0_shape|seqc_0_loc\")\n",
    "\n",
    "\n",
    "# (2) each datapt is 0|1, 1|0, 1|1, 0|0 (i.e., 4 datapts per bregion/metaparams)\n",
    "# Agg over all conditions (e.g. label pairs)\n",
    "DFDISTS_AGG = aggregGeneral(DFDISTS_DATPT_LABEL1, [\"bregion\", \"which_level\", \"event\", \"subspace|twind\", \"same-seqc_0_shape|seqc_0_loc\"],\n",
    "                            [\"dist_mean\", \"dist_norm\", \"dist_yue_diff\", \"DIST_50\", \"DIST_98\"], nonnumercols=\"all\")\n",
    "if False:\n",
    "    # check output\n",
    "    grouping_plot_n_samples_conjunction_heatmap(DFDISTS_DATPT_LABEL1, \"bregion\", \"same-seqc_0_shape|seqc_0_loc\")\n"
   ]
  },
  {
   "cell_type": "code",
   "execution_count": null,
   "id": "bef35886",
   "metadata": {},
   "outputs": [],
   "source": [
    "# OBSOLETE -- below is better and does same thing.\n",
    "if False:\n",
    "    from pythonlib.tools.pandastools import grouping_append_and_return_inner_items_good, stringify_values\n",
    "\n",
    "    grp_vars = [\"bregion\", \"which_level\", \"event\", \"subspace|twind\", \"shuffled|ver\"]\n",
    "    # datapt_vars = [labels_1\tlabels_2]\n",
    "    datapt_vars = [\"labels_1\"]\n",
    "    # value_var = \"dist_yue_diff\"\n",
    "    value_var = \"dist_mean\"\n",
    "\n",
    "    contrast_var = \"same-seqc_0_shape|seqc_0_loc\"\n",
    "\n",
    "    res = []\n",
    "    for contrast_lev_2 in [\"0|1\", \"1|0\", \"0|0\"]:\n",
    "        contrast_levels = [\"1|1\", contrast_lev_2]\n",
    "\n",
    "        grpdict = grouping_append_and_return_inner_items_good(DFDISTS_DATPT_LABEL1, grp_vars)\n",
    "        \n",
    "        for grp, inds in grpdict.items():\n",
    "            dfthis = DFDISTS_DATPT_LABEL1.iloc[inds]\n",
    "            from pythonlib.tools.statstools import signrank_wilcoxon_from_df\n",
    "\n",
    "            # out, fig = signrank_wilcoxon_from_df(dfthis, datapt_vars, contrast_var, contrast_levels, value_var, True, \"/tmp/test.txt\")\n",
    "            out, fig = signrank_wilcoxon_from_df(dfthis, datapt_vars, contrast_var, contrast_levels, \n",
    "                                                value_var, True, f\"{savedir}/{grp}-{contrast_var}={contrast_lev_2}.txt\",\n",
    "                                                assert_no_na_rows=True)\n",
    "\n",
    "            res.append({\n",
    "                \"p\":out[\"p\"],\n",
    "                contrast_var:contrast_lev_2,\n",
    "            })\n",
    "            for var, val in zip(grp_vars, grp):\n",
    "                res[-1][var] = val\n",
    "\n",
    "            plt.close(\"all\")\n",
    "\n",
    "            savefig(fig, f\"{savedir}/{grp}-{contrast_var}={contrast_lev_2}.pdf\")\n",
    "            \n",
    "    dfstats = pd.DataFrame(res)\n",
    "    import numpy as np\n",
    "    dfstats[\"p_log\"] = np.log10(dfstats[\"p\"])\n",
    "\n",
    "    n_br = len(DFDISTS_DATPT_LABEL1[\"bregion\"].unique())\n",
    "    n_contrast = 2\n",
    "    n_test = n_br * n_contrast\n",
    "    alpha=0.05\n",
    "    alpha_bonf = alpha/n_test\n",
    "\n",
    "    print(\"N tests: \", n_test, \", new alpha=\", alpha_bonf)\n",
    "    # sns.catplot(data=dfstats, x=\"bregion\", y=\"p\", row=\"event\", col=\"subspace|twind\", kind=\"bar\")\n",
    "    # fig = sns.catplot(data=dfstats, x=\"bregion\", y=\"p_log\", row=\"event\", hue=\"same-seqc_0_shape|seqc_0_loc\", col=\"subspace|twind\")\n",
    "    # for ax in fig.axes.flatten():\n",
    "    #     ax.axhline(0)\n",
    "    fig = sns.catplot(data=dfstats, x=\"bregion\", y=\"p_log\", row=\"event\", hue=\"same-seqc_0_shape|seqc_0_loc\", col=\"subspace|twind\", kind=\"bar\")\n",
    "    for ax in fig.axes.flatten():\n",
    "        ax.axhline(np.log10(0.05))\n",
    "        ax.axhline(np.log10(0.005))\n",
    "        ax.axhline(np.log10(alpha_bonf), color=\"r\")\n"
   ]
  },
  {
   "cell_type": "code",
   "execution_count": null,
   "id": "22405f1e",
   "metadata": {},
   "outputs": [],
   "source": [
    "# histogram plots, colored by significance\n"
   ]
  },
  {
   "cell_type": "code",
   "execution_count": null,
   "id": "23921ec1",
   "metadata": {},
   "outputs": [],
   "source": [
    "import seaborn as sns"
   ]
  },
  {
   "cell_type": "code",
   "execution_count": null,
   "id": "b0609f37",
   "metadata": {},
   "outputs": [],
   "source": [
    "from neuralmonkey.classes.session import _REGIONS_IN_ORDER_COMBINED\n",
    "order_bregion = _REGIONS_IN_ORDER_COMBINED\n",
    "list_bregion = order_bregion\n",
    "\n",
    "from neuralmonkey.neuralplots.brainschematic import datamod_reorder_by_bregion\n",
    "\n",
    "from pythonlib.tools.statstools import signrank_wilcoxon_from_df\n",
    "\n",
    "\n",
    "grp_vars = [\"which_level\", \"event\", \"subspace|twind\"]\n",
    "# value_var = \"dist_yue_diff\"\n",
    "value_var = \"dist_mean\"\n",
    "\n",
    "# For p-values\n",
    "# datapt_vars = [labels_1\tlabels_2]\n",
    "datapt_vars = [\"labels_1\"]\n",
    "# value_var = \"dist_yue_diff\"\n",
    "contrast_var = \"same-seqc_0_shape|seqc_0_loc\"\n",
    "\n",
    "grpdict = grouping_append_and_return_inner_items_good(DFDISTS_DATPT_LABEL1, grp_vars)\n",
    "\n",
    "res = []\n",
    "for grp, inds in grpdict.items():\n",
    "\n",
    "    DFTHIS = DFDISTS_DATPT_LABEL1.iloc[inds].reset_index(drop=True)\n",
    "    \n",
    "    # (1) Collect stats for each (bregion, contrast_lev)\n",
    "    map_bregioncontrast_to_stats ={}\n",
    "    for bregion in list_bregion:\n",
    "        for contrast_lev in [\"0|1\", \"1|0\"]:\n",
    "            contrast_levels = [\"1|1\", contrast_lev]\n",
    "\n",
    "            df_for_stats = DFTHIS[(DFTHIS[\"bregion\"] == bregion) & (DFTHIS[contrast_var].isin(contrast_levels))]\n",
    "            \n",
    "            savesuff = f\"{grp}-{bregion}-{contrast_var}={contrast_lev}\"\n",
    "\n",
    "            out, fig = signrank_wilcoxon_from_df(df_for_stats, datapt_vars, contrast_var, contrast_levels, \n",
    "                                                 value_var, True, f\"{savedir}/SIGNRANK-{savesuff}.txt\")\n",
    "            res.append({\n",
    "                \"p\":out[\"p\"],\n",
    "                \"bregion\":bregion,\n",
    "                contrast_var:contrast_lev,\n",
    "            })\n",
    "            for var, val in zip(grp_vars, grp):\n",
    "                res[-1][var] = val\n",
    "\n",
    "            savefig(fig, f\"{savedir}/SIGNRANK-{savesuff}.pdf\")\n",
    "\n",
    "            map_bregioncontrast_to_stats[(bregion, contrast_lev)] = out[\"p\"]\n",
    "\n",
    "    ### (2) Plota and overlay stats\n",
    "    dfthis = DFTHIS[DFTHIS[contrast_var].isin([\"0|1\", \"1|0\"])]\n",
    "    fig = sns.catplot(data=dfthis, x=\"bregion\", y=value_var, hue=contrast_var, kind=\"violin\", aspect=1.25,\n",
    "                    order=order_bregion)\n",
    "\n",
    "    from pythonlib.tools.statstools import plotmod_pvalues\n",
    "    for ax in fig.axes.flatten():\n",
    "        xs = ax.get_xticks()\n",
    "        assert len(xs)==len(order_bregion)\n",
    "        for y_loc_frac, contrast_lev in zip([0.75, 0.9], [\"0|1\", \"1|0\"]):\n",
    "            ps = [map_bregioncontrast_to_stats[(bregion, contrast_lev)] for bregion in order_bregion]\n",
    "            # plotmod_pvalues(ax, xs, ps, y_loc_frac=y_loc_frac, prefix=contrast_lev)\n",
    "            plotmod_pvalues(ax, xs, ps)\n",
    "\n",
    "        for x, bregion in zip(xs, order_bregion):\n",
    "                p = map_bregioncontrast_to_stats[(bregion, contrast_lev)]\n",
    "        ax.axhline(0, color=\"k\", alpha=0.5)\n",
    "\n",
    "    # assert False\n",
    "    plt.close(\"all\")"
   ]
  },
  {
   "cell_type": "code",
   "execution_count": null,
   "id": "2780ce20",
   "metadata": {},
   "outputs": [],
   "source": [
    "dfstats = pd.DataFrame(res)\n",
    "import numpy as np\n",
    "dfstats[\"p_log\"] = np.log10(dfstats[\"p\"])\n",
    "\n",
    "n_br = len(DFDISTS_DATPT_LABEL1[\"bregion\"].unique())\n",
    "n_contrast = 2\n",
    "n_test = n_br * n_contrast\n",
    "alpha=0.05\n",
    "alpha_bonf = alpha/n_test\n",
    "\n",
    "print(\"N tests: \", n_test, \", new alpha=\", alpha_bonf)\n",
    "# sns.catplot(data=dfstats, x=\"bregion\", y=\"p\", row=\"event\", col=\"subspace|twind\", kind=\"bar\")\n",
    "# fig = sns.catplot(data=dfstats, x=\"bregion\", y=\"p_log\", row=\"event\", hue=\"same-seqc_0_shape|seqc_0_loc\", col=\"subspace|twind\")\n",
    "# for ax in fig.axes.flatten():\n",
    "#     ax.axhline(0)\n",
    "fig = sns.catplot(data=dfstats, x=\"bregion\", y=\"p_log\", row=\"event\", hue=\"same-seqc_0_shape|seqc_0_loc\", col=\"subspace|twind\", kind=\"bar\")\n",
    "for ax in fig.axes.flatten():\n",
    "    ax.axhline(np.log10(0.05))\n",
    "    ax.axhline(np.log10(0.005))\n",
    "    ax.axhline(np.log10(alpha_bonf), color=\"r\")\n"
   ]
  },
  {
   "cell_type": "code",
   "execution_count": null,
   "id": "09dbc8dd",
   "metadata": {},
   "outputs": [],
   "source": [
    "# also overlay p values\n",
    "dfstats"
   ]
  },
  {
   "cell_type": "code",
   "execution_count": null,
   "id": "d023bc2e",
   "metadata": {},
   "outputs": [],
   "source": [
    "fig = sns.catplot(data=dfthis, x=\"bregion\", y=value_var, row=contrast_var, kind=\"boxen\")\n",
    "for ax in fig.axes.flatten():\n",
    "    ax.axhline(0, color=\"k\", alpha=0.5)\n"
   ]
  },
  {
   "cell_type": "code",
   "execution_count": null,
   "id": "9b41016e",
   "metadata": {},
   "outputs": [],
   "source": [
    "\n",
    "# (2) Each subplot = bregion\n",
    "fig = sns.displot(data=dfthis, x=value_var, hue=contrast_var, row=\"bregion\", \n",
    "                  element=\"step\", fill=True, bins=40, height=1.5, aspect=3)\n",
    "# map_function_tofacet(fig, lambda ax: ax.axvline(0, color=\"k\", alpha=0.5))\n",
    "# rotateLabel(fig)\n",
    "# savefig(fig, f\"{savedir}/all_regions-subplot=region.pdf\")\n",
    "for ax in fig.axes.flatten():\n",
    "    ax.axvline(0, color=\"k\", alpha=0.5)\n",
    "    # from pythonlib.tools.plottools import naked_erase_axes\n",
    "    # naked_erase_axes(ax)"
   ]
  },
  {
   "cell_type": "markdown",
   "id": "c3ee95a9",
   "metadata": {},
   "source": [
    "##### sign rank - final stats and distributions"
   ]
  },
  {
   "cell_type": "code",
   "execution_count": null,
   "id": "7731b691",
   "metadata": {},
   "outputs": [],
   "source": [
    "# Did not finalize! I decided it was better to use linear model (pairwie )"
   ]
  },
  {
   "cell_type": "code",
   "execution_count": null,
   "id": "17864f41",
   "metadata": {},
   "outputs": [],
   "source": [
    "from neuralmonkey.scripts.analy_shape_invariance_all_plots_SP import euclidian_time_resolved_fast_shuffled_mult_reload\n",
    "\n",
    "animal = \"Diego\"\n",
    "date = 230615\n",
    "var_other = \"seqc_0_loc\"\n",
    "DFDISTS, DFDISTS_AGG, SAVEDIR_PLOTS = euclidian_time_resolved_fast_shuffled_mult_reload(animal, date, var_other, convert_to_df_with_postprocessing=True)"
   ]
  },
  {
   "cell_type": "code",
   "execution_count": null,
   "id": "001e2c59",
   "metadata": {},
   "outputs": [],
   "source": [
    "## FINAL AGGS\n",
    "# (1) each datapt is a unique label (multiple datapts per 0|1)\n",
    "tmp = DFDISTS.copy()\n",
    "tmp[\"labels_2\"] = DFDISTS[\"labels_1\"]\n",
    "tmp[\"labels_1\"] = DFDISTS[\"labels_2\"]\n",
    "tmp = pd.concat([tmp, DFDISTS]).reset_index(drop=True)\n",
    "if False: # Sanity check that got diagonals\n",
    "    from pythonlib.tools.pandastools import grouping_plot_n_samples_conjunction_heatmap\n",
    "    grouping_plot_n_samples_conjunction_heatmap(tmp, \"labels_1\", \"labels_2\")\n",
    "DFDISTS_DATPT_LABEL1 = aggregGeneral(tmp, [\"bregion\", \"which_level\", \"event\", \"subspace|twind\", \"labels_1\", \"same-seqc_0_shape|seqc_0_loc\"],\n",
    "            [\"dist_mean\", \"dist_norm\", \"dist_yue_diff\", \"DIST_50\", \"DIST_98\"], nonnumercols=\"all\")\n",
    "if False:\n",
    "    # Check output\n",
    "    grouping_plot_n_samples_conjunction_heatmap(DFDISTS_DATPT_LABEL1, \"labels_1\", \"same-seqc_0_shape|seqc_0_loc\")\n",
    "\n",
    "# (2) each datapt is 0|1, 1|0, 1|1, 0|0 (i.e., 4 datapts per bregion/metaparams)\n",
    "# Agg over all conditions (e.g. label pairs)\n",
    "DFDISTS_LABEL_AGG = aggregGeneral(DFDISTS_DATPT_LABEL1, [\"bregion\", \"which_level\", \"event\", \"subspace|twind\", \"same-seqc_0_shape|seqc_0_loc\"],\n",
    "                            [\"dist_mean\", \"dist_norm\", \"dist_yue_diff\", \"DIST_50\", \"DIST_98\"], nonnumercols=\"all\")\n",
    "if False:\n",
    "    # check output\n",
    "    grouping_plot_n_samples_conjunction_heatmap(DFDISTS_LABEL_AGG, \"bregion\", \"same-seqc_0_shape|seqc_0_loc\")\n"
   ]
  },
  {
   "cell_type": "code",
   "execution_count": null,
   "id": "caef6253",
   "metadata": {},
   "outputs": [],
   "source": [
    "event = \"03_samp|(0.05, 0.6)\"\n",
    "subspace_twind = \"shape|(0.05, 0.9)\"\n",
    "dfdists_labels = DFDISTS_DATPT_LABEL1[(DFDISTS_DATPT_LABEL1[\"event\"]==event) & (DFDISTS_DATPT_LABEL1[\"subspace|twind\"]==subspace_twind)].reset_index(drop=True)"
   ]
  },
  {
   "cell_type": "code",
   "execution_count": null,
   "id": "ab9582e0",
   "metadata": {},
   "outputs": [],
   "source": [
    "dfdists_labels"
   ]
  },
  {
   "cell_type": "code",
   "execution_count": null,
   "id": "bf2de348",
   "metadata": {},
   "outputs": [],
   "source": [
    "# Should have <n bregions> per cell.\n",
    "grouping_plot_n_samples_conjunction_heatmap(dfdists_labels, \"labels_1\", \"same-seqc_0_shape|seqc_0_loc\")\n"
   ]
  },
  {
   "cell_type": "code",
   "execution_count": null,
   "id": "5257aee1",
   "metadata": {},
   "outputs": [],
   "source": [
    "# Scatter plot, showing distributions of datapts\n",
    "from pythonlib.tools.pandastools import plot_45scatter_means_flexible_grouping\n",
    "plot_45scatter_means_flexible_grouping(dfdists_labels, \"same-seqc_0_shape|seqc_0_loc\", \"1|0\", \"0|1\", \"bregion\", \"dist_yue_diff\", \"labels_1\", shareaxes=True, plot_text=False, SIZE=3.5, alpha=0.5);"
   ]
  },
  {
   "cell_type": "code",
   "execution_count": null,
   "id": "f9494d53",
   "metadata": {},
   "outputs": [],
   "source": [
    "# TODO: \n",
    "# 1. collect the final days\n",
    "# 2. Plot avg and scatter as above.\n",
    "# 3. Final panels: (1) avg (each monkey). (2) show distribution for one monkey\n",
    "# 4. Final stats: (1) each region vs. 0 (LME?) (2) compare regions (shuffle)"
   ]
  },
  {
   "cell_type": "code",
   "execution_count": null,
   "id": "2da3f306",
   "metadata": {},
   "outputs": [],
   "source": []
  },
  {
   "cell_type": "code",
   "execution_count": null,
   "id": "5d1ca43d",
   "metadata": {},
   "outputs": [],
   "source": [
    "# Use LME\n",
    "\n",
    "\n"
   ]
  },
  {
   "cell_type": "code",
   "execution_count": null,
   "id": "bbe48f53",
   "metadata": {},
   "outputs": [],
   "source": [
    "# Each bregion, score effect of "
   ]
  },
  {
   "cell_type": "code",
   "execution_count": null,
   "id": "a8e5be22",
   "metadata": {},
   "outputs": [],
   "source": [
    "dfdists_labels\n"
   ]
  },
  {
   "cell_type": "code",
   "execution_count": null,
   "id": "01f8e14c",
   "metadata": {},
   "outputs": [],
   "source": [
    "from neuralmonkey.classes.session import _REGIONS_IN_ORDER_COMBINED\n",
    "from pythonlib.tools.pandastools import grouping_append_and_return_inner_items_good\n",
    "\n",
    "# order_bregion = _REGIONS_IN_ORDER_COMBINED\n",
    "# list_bregion = order_bregion\n",
    "# from neuralmonkey.neuralplots.brainschematic import datamod_reorder_by_bregion\n",
    "from pythonlib.tools.statstools import signrank_wilcoxon_from_df\n",
    "\n",
    "yvar = \"dist_norm\"\n",
    "# grp_vars = [\"bregion\", \"same-seqc_0_shape|seqc_0_loc\"]\n",
    "grp_vars = [\"bregion\"]\n",
    "grpdict = grouping_append_and_return_inner_items_good(dfdists_labels, grp_vars)\n",
    "\n",
    "for grp, inds in grpdict.items():\n",
    "    dfdists_labels_sub = dfdists_labels.iloc[inds]\n",
    "    for contrast_lev in [\"0|1\", \"1|0\"]:\n",
    "        contrast_levels = [\"1|1\", contrast_lev]\n",
    "\n",
    "        df_for_stats = dfdists_labels_sub[(dfdists_labels_sub[contrast_var].isin(contrast_levels))].reset_index(drop=True)\n",
    "\n",
    "        labels = df_for_stats[\"labels_1\"].tolist()\n",
    "        shapes = [lab[0] for lab in labels]\n",
    "        locs = [lab[1] for lab in labels]\n",
    "        vals_same_same = df_for_stats[contrast_var].tolist()\n",
    "        values = df_for_stats[yvar].tolist()\n",
    "\n",
    "        if grp[0]==\"M1\" and contrast_lev==\"0|1\":\n",
    "            assert False"
   ]
  },
  {
   "cell_type": "code",
   "execution_count": null,
   "id": "90b39e8c",
   "metadata": {},
   "outputs": [],
   "source": [
    "df_for_stats[:5]"
   ]
  },
  {
   "cell_type": "code",
   "execution_count": null,
   "id": "e3e24709",
   "metadata": {},
   "outputs": [],
   "source": [
    "savedir = \"/tmp\"\n",
    "savesuff = grp\n",
    "datapt_vars = [\"labels_1\"]\n",
    "contrast_var = \"same-seqc_0_shape|seqc_0_loc\"\n",
    "out, fig = signrank_wilcoxon_from_df(df_for_stats, datapt_vars, contrast_var, contrast_levels, \n",
    "                                        yvar, True, f\"{savedir}/SIGNRANK-{savesuff}.txt\")\n"
   ]
  },
  {
   "cell_type": "code",
   "execution_count": null,
   "id": "d8f58229",
   "metadata": {},
   "outputs": [],
   "source": [
    "df_for_stats[:5]"
   ]
  },
  {
   "cell_type": "code",
   "execution_count": null,
   "id": "2aff4e0d",
   "metadata": {},
   "outputs": [],
   "source": [
    "print(grp)\n",
    "dflm = pd.DataFrame({\n",
    "    yvar:values,\n",
    "    \"shape\":shapes,\n",
    "    \"loc\":locs,\n",
    "    \"contrast\":vals_same_same\n",
    "})\n",
    "dflm[:5]"
   ]
  },
  {
   "cell_type": "code",
   "execution_count": null,
   "id": "3e5a059c",
   "metadata": {},
   "outputs": [],
   "source": [
    "from pythonlib.tools.pandastools import convert_var_to_categorical\n",
    "convert_var_to_categorical(dflm, \"shape\", \"shape_cat\")\n",
    "convert_var_to_categorical(dflm, \"loc\", \"loc_cat\")\n",
    "convert_var_to_categorical(dflm, \"contrast\", \"contrast_cat\")\n",
    "dflm[\"shape_loc\"] = dflm[\"shape_cat\"].astype(str) + \":\" + dflm[\"loc_cat\"].astype(str)\n",
    "\n",
    "dflm[\"dist_norm_std\"] = (dflm[\"dist_norm\"] - dflm[\"dist_norm\"].mean()) / dflm[\"dist_norm\"].std()\n",
    "\n",
    "dflm[:20]\n"
   ]
  },
  {
   "cell_type": "code",
   "execution_count": null,
   "id": "b879f021",
   "metadata": {},
   "outputs": [],
   "source": [
    "import statsmodels.formula.api as smf\n",
    "\n",
    "import statsmodels.formula.api as smf\n",
    "\n",
    "formula = f\"{yvar}_std ~ C(contrast_cat, Treatment(1))\"\n",
    "\n",
    "if False:\n",
    "    md = smf.ols(formula, dflm)\n",
    "    mdf = md.fit()\n",
    "else:\n",
    "    # formula = f\"{yvar} ~ C(shapesame, Treatment(True)) + C(locsame, Treatment(True)) + C(shape12, Treatment((0,0))) + C(loc12, Treatment((0,0)))\"\n",
    "\n",
    "    # formula = f\"{yvar} ~ C(shape12, Treatment((0,0))) + C(loc12, Treatment((0,0)))\"\n",
    "    # formula = f\"{yvar} ~ C(shape12, Treatment((0,0)))\"\n",
    "    # formula = f\"{yvar} ~ C(loc12, Treatment((0,0)))\"\n",
    "\n",
    "    # str_treat = f\"C({fixed_treat}, Treatment('{lev_treat_default}'))\"\n",
    "    # formula = f\"{yvar} ~ {str_treat}\"\n",
    "    md = smf.mixedlm(formula, dflm, groups=dflm[\"shape_loc\"], re_formula=\"~1\")\n",
    "    # md = smf.mixedlm(formula, dflm, groups=dflm[\"loc_cat\"], re_formula=\"~1\")\n",
    "    # md = smf.ols(formula, dflm)\n",
    "    mdf = md.fit(method=\"lbfgs\")\n",
    "\n",
    "mdf.summary()\n"
   ]
  },
  {
   "cell_type": "markdown",
   "id": "eaa4b09b",
   "metadata": {},
   "source": [
    "### Stats Method #3 -- # Get p-value by shuffling conditions [GOOD]\n"
   ]
  },
  {
   "cell_type": "code",
   "execution_count": null,
   "id": "ca4d8b82",
   "metadata": {},
   "outputs": [],
   "source": [
    "import os\n",
    "from neuralmonkey.neuralplots.brainschematic import datamod_reorder_by_bregion\n",
    "from pythonlib.tools.pandastools import append_col_with_grp_index, grouping_append_and_return_inner_items_good\n",
    "from pythonlib.tools.pandastools import aggregGeneral, stringify_values\n",
    "import pandas as pd\n",
    "import matplotlib.pyplot as plt\n"
   ]
  },
  {
   "cell_type": "code",
   "execution_count": null,
   "id": "8a161028",
   "metadata": {},
   "outputs": [],
   "source": [
    "from neuralmonkey.scripts.analy_shape_invariance_all_plots_SP import euclidian_time_resolved_fast_shuffled_mult_stats_v3\n",
    "euclidian_time_resolved_fast_shuffled_mult_stats_v3"
   ]
  },
  {
   "cell_type": "markdown",
   "id": "f9b574a2",
   "metadata": {},
   "source": [
    "## [#4.4] [GOOD] Load all results from euclidian_time_resolved_fast_shuffled and plot, across all animals"
   ]
  },
  {
   "cell_type": "code",
   "execution_count": 5,
   "id": "98197f88",
   "metadata": {},
   "outputs": [
    {
     "name": "stdout",
     "output_type": "stream",
     "text": [
      "/lemur2/lucas/analyses/recordings/main/shape_invariance/EUCLIDIAN_SHUFF/MULT/analy=shape_invar_clean_size-Pancho-varother=gridsize-220716-240530\n",
      "concatting...\n",
      "appending...\n",
      "agging...\n",
      "concatting...\n",
      "appending...\n",
      "agging...\n",
      "concatting...\n",
      "appending...\n",
      "agging...\n"
     ]
    },
    {
     "name": "stderr",
     "output_type": "stream",
     "text": [
      "/home/lucas/miniconda3/envs/drag2_matlab/lib/python3.8/site-packages/numpy/core/_methods.py:269: RuntimeWarning: Degrees of freedom <= 0 for slice\n",
      "  ret = _var(a, axis=axis, dtype=dtype, out=out, ddof=ddof,\n",
      "/home/lucas/miniconda3/envs/drag2_matlab/lib/python3.8/site-packages/numpy/core/_methods.py:261: RuntimeWarning: invalid value encountered in scalar divide\n",
      "  ret = ret.dtype.type(ret / rcount)\n",
      "/home/lucas/miniconda3/envs/drag2_matlab/lib/python3.8/site-packages/numpy/core/_methods.py:269: RuntimeWarning: Degrees of freedom <= 0 for slice\n",
      "  ret = _var(a, axis=axis, dtype=dtype, out=out, ddof=ddof,\n",
      "/home/lucas/miniconda3/envs/drag2_matlab/lib/python3.8/site-packages/numpy/core/_methods.py:261: RuntimeWarning: invalid value encountered in scalar divide\n",
      "  ret = ret.dtype.type(ret / rcount)\n",
      "/home/lucas/miniconda3/envs/drag2_matlab/lib/python3.8/site-packages/numpy/core/_methods.py:269: RuntimeWarning: Degrees of freedom <= 0 for slice\n",
      "  ret = _var(a, axis=axis, dtype=dtype, out=out, ddof=ddof,\n",
      "/home/lucas/miniconda3/envs/drag2_matlab/lib/python3.8/site-packages/numpy/core/_methods.py:261: RuntimeWarning: invalid value encountered in scalar divide\n",
      "  ret = ret.dtype.type(ret / rcount)\n",
      "/home/lucas/miniconda3/envs/drag2_matlab/lib/python3.8/site-packages/numpy/core/_methods.py:269: RuntimeWarning: Degrees of freedom <= 0 for slice\n",
      "  ret = _var(a, axis=axis, dtype=dtype, out=out, ddof=ddof,\n",
      "/home/lucas/miniconda3/envs/drag2_matlab/lib/python3.8/site-packages/numpy/core/_methods.py:261: RuntimeWarning: invalid value encountered in scalar divide\n",
      "  ret = ret.dtype.type(ret / rcount)\n",
      "/home/lucas/miniconda3/envs/drag2_matlab/lib/python3.8/site-packages/numpy/core/_methods.py:269: RuntimeWarning: Degrees of freedom <= 0 for slice\n",
      "  ret = _var(a, axis=axis, dtype=dtype, out=out, ddof=ddof,\n",
      "/home/lucas/miniconda3/envs/drag2_matlab/lib/python3.8/site-packages/numpy/core/_methods.py:261: RuntimeWarning: invalid value encountered in scalar divide\n",
      "  ret = ret.dtype.type(ret / rcount)\n",
      "/home/lucas/miniconda3/envs/drag2_matlab/lib/python3.8/site-packages/numpy/core/_methods.py:269: RuntimeWarning: Degrees of freedom <= 0 for slice\n",
      "  ret = _var(a, axis=axis, dtype=dtype, out=out, ddof=ddof,\n",
      "/home/lucas/miniconda3/envs/drag2_matlab/lib/python3.8/site-packages/numpy/core/_methods.py:261: RuntimeWarning: invalid value encountered in scalar divide\n",
      "  ret = ret.dtype.type(ret / rcount)\n",
      "/home/lucas/miniconda3/envs/drag2_matlab/lib/python3.8/site-packages/numpy/core/_methods.py:269: RuntimeWarning: Degrees of freedom <= 0 for slice\n",
      "  ret = _var(a, axis=axis, dtype=dtype, out=out, ddof=ddof,\n",
      "/home/lucas/miniconda3/envs/drag2_matlab/lib/python3.8/site-packages/numpy/core/_methods.py:261: RuntimeWarning: invalid value encountered in scalar divide\n",
      "  ret = ret.dtype.type(ret / rcount)\n",
      "/home/lucas/miniconda3/envs/drag2_matlab/lib/python3.8/site-packages/numpy/core/_methods.py:269: RuntimeWarning: Degrees of freedom <= 0 for slice\n",
      "  ret = _var(a, axis=axis, dtype=dtype, out=out, ddof=ddof,\n",
      "/home/lucas/miniconda3/envs/drag2_matlab/lib/python3.8/site-packages/numpy/core/_methods.py:261: RuntimeWarning: invalid value encountered in scalar divide\n",
      "  ret = ret.dtype.type(ret / rcount)\n",
      "/home/lucas/miniconda3/envs/drag2_matlab/lib/python3.8/site-packages/numpy/core/_methods.py:269: RuntimeWarning: Degrees of freedom <= 0 for slice\n",
      "  ret = _var(a, axis=axis, dtype=dtype, out=out, ddof=ddof,\n",
      "/home/lucas/miniconda3/envs/drag2_matlab/lib/python3.8/site-packages/numpy/core/_methods.py:261: RuntimeWarning: invalid value encountered in scalar divide\n",
      "  ret = ret.dtype.type(ret / rcount)\n",
      "/home/lucas/miniconda3/envs/drag2_matlab/lib/python3.8/site-packages/numpy/core/_methods.py:269: RuntimeWarning: Degrees of freedom <= 0 for slice\n",
      "  ret = _var(a, axis=axis, dtype=dtype, out=out, ddof=ddof,\n",
      "/home/lucas/miniconda3/envs/drag2_matlab/lib/python3.8/site-packages/numpy/core/_methods.py:261: RuntimeWarning: invalid value encountered in scalar divide\n",
      "  ret = ret.dtype.type(ret / rcount)\n",
      "/home/lucas/miniconda3/envs/drag2_matlab/lib/python3.8/site-packages/numpy/core/_methods.py:269: RuntimeWarning: Degrees of freedom <= 0 for slice\n",
      "  ret = _var(a, axis=axis, dtype=dtype, out=out, ddof=ddof,\n",
      "/home/lucas/miniconda3/envs/drag2_matlab/lib/python3.8/site-packages/numpy/core/_methods.py:261: RuntimeWarning: invalid value encountered in scalar divide\n",
      "  ret = ret.dtype.type(ret / rcount)\n",
      "/home/lucas/miniconda3/envs/drag2_matlab/lib/python3.8/site-packages/numpy/core/_methods.py:269: RuntimeWarning: Degrees of freedom <= 0 for slice\n",
      "  ret = _var(a, axis=axis, dtype=dtype, out=out, ddof=ddof,\n",
      "/home/lucas/miniconda3/envs/drag2_matlab/lib/python3.8/site-packages/numpy/core/_methods.py:261: RuntimeWarning: invalid value encountered in scalar divide\n",
      "  ret = ret.dtype.type(ret / rcount)\n",
      "/home/lucas/miniconda3/envs/drag2_matlab/lib/python3.8/site-packages/numpy/core/_methods.py:269: RuntimeWarning: Degrees of freedom <= 0 for slice\n",
      "  ret = _var(a, axis=axis, dtype=dtype, out=out, ddof=ddof,\n",
      "/home/lucas/miniconda3/envs/drag2_matlab/lib/python3.8/site-packages/numpy/core/_methods.py:261: RuntimeWarning: invalid value encountered in scalar divide\n",
      "  ret = ret.dtype.type(ret / rcount)\n",
      "/home/lucas/miniconda3/envs/drag2_matlab/lib/python3.8/site-packages/numpy/core/_methods.py:269: RuntimeWarning: Degrees of freedom <= 0 for slice\n",
      "  ret = _var(a, axis=axis, dtype=dtype, out=out, ddof=ddof,\n",
      "/home/lucas/miniconda3/envs/drag2_matlab/lib/python3.8/site-packages/numpy/core/_methods.py:261: RuntimeWarning: invalid value encountered in scalar divide\n",
      "  ret = ret.dtype.type(ret / rcount)\n",
      "/home/lucas/miniconda3/envs/drag2_matlab/lib/python3.8/site-packages/numpy/core/_methods.py:269: RuntimeWarning: Degrees of freedom <= 0 for slice\n",
      "  ret = _var(a, axis=axis, dtype=dtype, out=out, ddof=ddof,\n",
      "/home/lucas/miniconda3/envs/drag2_matlab/lib/python3.8/site-packages/numpy/core/_methods.py:261: RuntimeWarning: invalid value encountered in scalar divide\n",
      "  ret = ret.dtype.type(ret / rcount)\n",
      "/home/lucas/miniconda3/envs/drag2_matlab/lib/python3.8/site-packages/numpy/core/_methods.py:269: RuntimeWarning: Degrees of freedom <= 0 for slice\n",
      "  ret = _var(a, axis=axis, dtype=dtype, out=out, ddof=ddof,\n",
      "/home/lucas/miniconda3/envs/drag2_matlab/lib/python3.8/site-packages/numpy/core/_methods.py:261: RuntimeWarning: invalid value encountered in scalar divide\n",
      "  ret = ret.dtype.type(ret / rcount)\n",
      "/home/lucas/miniconda3/envs/drag2_matlab/lib/python3.8/site-packages/numpy/core/_methods.py:269: RuntimeWarning: Degrees of freedom <= 0 for slice\n",
      "  ret = _var(a, axis=axis, dtype=dtype, out=out, ddof=ddof,\n",
      "/home/lucas/miniconda3/envs/drag2_matlab/lib/python3.8/site-packages/numpy/core/_methods.py:261: RuntimeWarning: invalid value encountered in scalar divide\n",
      "  ret = ret.dtype.type(ret / rcount)\n",
      "/home/lucas/miniconda3/envs/drag2_matlab/lib/python3.8/site-packages/numpy/core/_methods.py:269: RuntimeWarning: Degrees of freedom <= 0 for slice\n",
      "  ret = _var(a, axis=axis, dtype=dtype, out=out, ddof=ddof,\n",
      "/home/lucas/miniconda3/envs/drag2_matlab/lib/python3.8/site-packages/numpy/core/_methods.py:261: RuntimeWarning: invalid value encountered in scalar divide\n",
      "  ret = ret.dtype.type(ret / rcount)\n",
      "/home/lucas/miniconda3/envs/drag2_matlab/lib/python3.8/site-packages/numpy/core/_methods.py:269: RuntimeWarning: Degrees of freedom <= 0 for slice\n",
      "  ret = _var(a, axis=axis, dtype=dtype, out=out, ddof=ddof,\n",
      "/home/lucas/miniconda3/envs/drag2_matlab/lib/python3.8/site-packages/numpy/core/_methods.py:261: RuntimeWarning: invalid value encountered in scalar divide\n",
      "  ret = ret.dtype.type(ret / rcount)\n",
      "/home/lucas/miniconda3/envs/drag2_matlab/lib/python3.8/site-packages/numpy/core/_methods.py:269: RuntimeWarning: Degrees of freedom <= 0 for slice\n",
      "  ret = _var(a, axis=axis, dtype=dtype, out=out, ddof=ddof,\n",
      "/home/lucas/miniconda3/envs/drag2_matlab/lib/python3.8/site-packages/numpy/core/_methods.py:261: RuntimeWarning: invalid value encountered in scalar divide\n",
      "  ret = ret.dtype.type(ret / rcount)\n",
      "/home/lucas/miniconda3/envs/drag2_matlab/lib/python3.8/site-packages/numpy/core/_methods.py:269: RuntimeWarning: Degrees of freedom <= 0 for slice\n",
      "  ret = _var(a, axis=axis, dtype=dtype, out=out, ddof=ddof,\n",
      "/home/lucas/miniconda3/envs/drag2_matlab/lib/python3.8/site-packages/numpy/core/_methods.py:261: RuntimeWarning: invalid value encountered in scalar divide\n",
      "  ret = ret.dtype.type(ret / rcount)\n",
      "/home/lucas/miniconda3/envs/drag2_matlab/lib/python3.8/site-packages/numpy/core/_methods.py:269: RuntimeWarning: Degrees of freedom <= 0 for slice\n",
      "  ret = _var(a, axis=axis, dtype=dtype, out=out, ddof=ddof,\n",
      "/home/lucas/miniconda3/envs/drag2_matlab/lib/python3.8/site-packages/numpy/core/_methods.py:261: RuntimeWarning: invalid value encountered in scalar divide\n",
      "  ret = ret.dtype.type(ret / rcount)\n",
      "/home/lucas/miniconda3/envs/drag2_matlab/lib/python3.8/site-packages/numpy/core/_methods.py:269: RuntimeWarning: Degrees of freedom <= 0 for slice\n",
      "  ret = _var(a, axis=axis, dtype=dtype, out=out, ddof=ddof,\n",
      "/home/lucas/miniconda3/envs/drag2_matlab/lib/python3.8/site-packages/numpy/core/_methods.py:261: RuntimeWarning: invalid value encountered in scalar divide\n",
      "  ret = ret.dtype.type(ret / rcount)\n",
      "/home/lucas/miniconda3/envs/drag2_matlab/lib/python3.8/site-packages/numpy/core/_methods.py:269: RuntimeWarning: Degrees of freedom <= 0 for slice\n",
      "  ret = _var(a, axis=axis, dtype=dtype, out=out, ddof=ddof,\n",
      "/home/lucas/miniconda3/envs/drag2_matlab/lib/python3.8/site-packages/numpy/core/_methods.py:261: RuntimeWarning: invalid value encountered in scalar divide\n",
      "  ret = ret.dtype.type(ret / rcount)\n",
      "/home/lucas/miniconda3/envs/drag2_matlab/lib/python3.8/site-packages/numpy/core/_methods.py:269: RuntimeWarning: Degrees of freedom <= 0 for slice\n",
      "  ret = _var(a, axis=axis, dtype=dtype, out=out, ddof=ddof,\n",
      "/home/lucas/miniconda3/envs/drag2_matlab/lib/python3.8/site-packages/numpy/core/_methods.py:261: RuntimeWarning: invalid value encountered in scalar divide\n",
      "  ret = ret.dtype.type(ret / rcount)\n",
      "/home/lucas/miniconda3/envs/drag2_matlab/lib/python3.8/site-packages/numpy/core/_methods.py:269: RuntimeWarning: Degrees of freedom <= 0 for slice\n",
      "  ret = _var(a, axis=axis, dtype=dtype, out=out, ddof=ddof,\n",
      "/home/lucas/miniconda3/envs/drag2_matlab/lib/python3.8/site-packages/numpy/core/_methods.py:261: RuntimeWarning: invalid value encountered in scalar divide\n",
      "  ret = ret.dtype.type(ret / rcount)\n",
      "/home/lucas/miniconda3/envs/drag2_matlab/lib/python3.8/site-packages/numpy/core/_methods.py:269: RuntimeWarning: Degrees of freedom <= 0 for slice\n",
      "  ret = _var(a, axis=axis, dtype=dtype, out=out, ddof=ddof,\n",
      "/home/lucas/miniconda3/envs/drag2_matlab/lib/python3.8/site-packages/numpy/core/_methods.py:261: RuntimeWarning: invalid value encountered in scalar divide\n",
      "  ret = ret.dtype.type(ret / rcount)\n",
      "/home/lucas/miniconda3/envs/drag2_matlab/lib/python3.8/site-packages/numpy/core/_methods.py:269: RuntimeWarning: Degrees of freedom <= 0 for slice\n",
      "  ret = _var(a, axis=axis, dtype=dtype, out=out, ddof=ddof,\n",
      "/home/lucas/miniconda3/envs/drag2_matlab/lib/python3.8/site-packages/numpy/core/_methods.py:261: RuntimeWarning: invalid value encountered in scalar divide\n",
      "  ret = ret.dtype.type(ret / rcount)\n",
      "/home/lucas/miniconda3/envs/drag2_matlab/lib/python3.8/site-packages/numpy/core/_methods.py:269: RuntimeWarning: Degrees of freedom <= 0 for slice\n",
      "  ret = _var(a, axis=axis, dtype=dtype, out=out, ddof=ddof,\n",
      "/home/lucas/miniconda3/envs/drag2_matlab/lib/python3.8/site-packages/numpy/core/_methods.py:261: RuntimeWarning: invalid value encountered in scalar divide\n",
      "  ret = ret.dtype.type(ret / rcount)\n",
      "/home/lucas/miniconda3/envs/drag2_matlab/lib/python3.8/site-packages/numpy/core/_methods.py:269: RuntimeWarning: Degrees of freedom <= 0 for slice\n",
      "  ret = _var(a, axis=axis, dtype=dtype, out=out, ddof=ddof,\n",
      "/home/lucas/miniconda3/envs/drag2_matlab/lib/python3.8/site-packages/numpy/core/_methods.py:261: RuntimeWarning: invalid value encountered in scalar divide\n",
      "  ret = ret.dtype.type(ret / rcount)\n",
      "/home/lucas/miniconda3/envs/drag2_matlab/lib/python3.8/site-packages/numpy/core/_methods.py:269: RuntimeWarning: Degrees of freedom <= 0 for slice\n",
      "  ret = _var(a, axis=axis, dtype=dtype, out=out, ddof=ddof,\n",
      "/home/lucas/miniconda3/envs/drag2_matlab/lib/python3.8/site-packages/numpy/core/_methods.py:261: RuntimeWarning: invalid value encountered in scalar divide\n",
      "  ret = ret.dtype.type(ret / rcount)\n",
      "/home/lucas/miniconda3/envs/drag2_matlab/lib/python3.8/site-packages/numpy/core/_methods.py:269: RuntimeWarning: Degrees of freedom <= 0 for slice\n",
      "  ret = _var(a, axis=axis, dtype=dtype, out=out, ddof=ddof,\n",
      "/home/lucas/miniconda3/envs/drag2_matlab/lib/python3.8/site-packages/numpy/core/_methods.py:261: RuntimeWarning: invalid value encountered in scalar divide\n",
      "  ret = ret.dtype.type(ret / rcount)\n",
      "/home/lucas/miniconda3/envs/drag2_matlab/lib/python3.8/site-packages/numpy/core/_methods.py:269: RuntimeWarning: Degrees of freedom <= 0 for slice\n",
      "  ret = _var(a, axis=axis, dtype=dtype, out=out, ddof=ddof,\n",
      "/home/lucas/miniconda3/envs/drag2_matlab/lib/python3.8/site-packages/numpy/core/_methods.py:261: RuntimeWarning: invalid value encountered in scalar divide\n",
      "  ret = ret.dtype.type(ret / rcount)\n",
      "/home/lucas/miniconda3/envs/drag2_matlab/lib/python3.8/site-packages/numpy/core/_methods.py:269: RuntimeWarning: Degrees of freedom <= 0 for slice\n",
      "  ret = _var(a, axis=axis, dtype=dtype, out=out, ddof=ddof,\n",
      "/home/lucas/miniconda3/envs/drag2_matlab/lib/python3.8/site-packages/numpy/core/_methods.py:261: RuntimeWarning: invalid value encountered in scalar divide\n",
      "  ret = ret.dtype.type(ret / rcount)\n",
      "/home/lucas/miniconda3/envs/drag2_matlab/lib/python3.8/site-packages/numpy/core/_methods.py:269: RuntimeWarning: Degrees of freedom <= 0 for slice\n",
      "  ret = _var(a, axis=axis, dtype=dtype, out=out, ddof=ddof,\n",
      "/home/lucas/miniconda3/envs/drag2_matlab/lib/python3.8/site-packages/numpy/core/_methods.py:261: RuntimeWarning: invalid value encountered in scalar divide\n",
      "  ret = ret.dtype.type(ret / rcount)\n",
      "/home/lucas/miniconda3/envs/drag2_matlab/lib/python3.8/site-packages/numpy/core/_methods.py:269: RuntimeWarning: Degrees of freedom <= 0 for slice\n",
      "  ret = _var(a, axis=axis, dtype=dtype, out=out, ddof=ddof,\n",
      "/home/lucas/miniconda3/envs/drag2_matlab/lib/python3.8/site-packages/numpy/core/_methods.py:261: RuntimeWarning: invalid value encountered in scalar divide\n",
      "  ret = ret.dtype.type(ret / rcount)\n",
      "/home/lucas/miniconda3/envs/drag2_matlab/lib/python3.8/site-packages/numpy/core/_methods.py:269: RuntimeWarning: Degrees of freedom <= 0 for slice\n",
      "  ret = _var(a, axis=axis, dtype=dtype, out=out, ddof=ddof,\n",
      "/home/lucas/miniconda3/envs/drag2_matlab/lib/python3.8/site-packages/numpy/core/_methods.py:261: RuntimeWarning: invalid value encountered in scalar divide\n",
      "  ret = ret.dtype.type(ret / rcount)\n",
      "/home/lucas/miniconda3/envs/drag2_matlab/lib/python3.8/site-packages/numpy/core/_methods.py:269: RuntimeWarning: Degrees of freedom <= 0 for slice\n",
      "  ret = _var(a, axis=axis, dtype=dtype, out=out, ddof=ddof,\n",
      "/home/lucas/miniconda3/envs/drag2_matlab/lib/python3.8/site-packages/numpy/core/_methods.py:261: RuntimeWarning: invalid value encountered in scalar divide\n",
      "  ret = ret.dtype.type(ret / rcount)\n",
      "/home/lucas/miniconda3/envs/drag2_matlab/lib/python3.8/site-packages/numpy/core/_methods.py:269: RuntimeWarning: Degrees of freedom <= 0 for slice\n",
      "  ret = _var(a, axis=axis, dtype=dtype, out=out, ddof=ddof,\n",
      "/home/lucas/miniconda3/envs/drag2_matlab/lib/python3.8/site-packages/numpy/core/_methods.py:261: RuntimeWarning: invalid value encountered in scalar divide\n",
      "  ret = ret.dtype.type(ret / rcount)\n",
      "/home/lucas/miniconda3/envs/drag2_matlab/lib/python3.8/site-packages/numpy/core/_methods.py:269: RuntimeWarning: Degrees of freedom <= 0 for slice\n",
      "  ret = _var(a, axis=axis, dtype=dtype, out=out, ddof=ddof,\n",
      "/home/lucas/miniconda3/envs/drag2_matlab/lib/python3.8/site-packages/numpy/core/_methods.py:261: RuntimeWarning: invalid value encountered in scalar divide\n",
      "  ret = ret.dtype.type(ret / rcount)\n",
      "/home/lucas/miniconda3/envs/drag2_matlab/lib/python3.8/site-packages/numpy/core/_methods.py:269: RuntimeWarning: Degrees of freedom <= 0 for slice\n",
      "  ret = _var(a, axis=axis, dtype=dtype, out=out, ddof=ddof,\n",
      "/home/lucas/miniconda3/envs/drag2_matlab/lib/python3.8/site-packages/numpy/core/_methods.py:261: RuntimeWarning: invalid value encountered in scalar divide\n",
      "  ret = ret.dtype.type(ret / rcount)\n",
      "/home/lucas/miniconda3/envs/drag2_matlab/lib/python3.8/site-packages/numpy/core/_methods.py:269: RuntimeWarning: Degrees of freedom <= 0 for slice\n",
      "  ret = _var(a, axis=axis, dtype=dtype, out=out, ddof=ddof,\n",
      "/home/lucas/miniconda3/envs/drag2_matlab/lib/python3.8/site-packages/numpy/core/_methods.py:261: RuntimeWarning: invalid value encountered in scalar divide\n",
      "  ret = ret.dtype.type(ret / rcount)\n",
      "/home/lucas/miniconda3/envs/drag2_matlab/lib/python3.8/site-packages/numpy/core/_methods.py:269: RuntimeWarning: Degrees of freedom <= 0 for slice\n",
      "  ret = _var(a, axis=axis, dtype=dtype, out=out, ddof=ddof,\n",
      "/home/lucas/miniconda3/envs/drag2_matlab/lib/python3.8/site-packages/numpy/core/_methods.py:261: RuntimeWarning: invalid value encountered in scalar divide\n",
      "  ret = ret.dtype.type(ret / rcount)\n",
      "/home/lucas/miniconda3/envs/drag2_matlab/lib/python3.8/site-packages/numpy/core/_methods.py:269: RuntimeWarning: Degrees of freedom <= 0 for slice\n",
      "  ret = _var(a, axis=axis, dtype=dtype, out=out, ddof=ddof,\n",
      "/home/lucas/miniconda3/envs/drag2_matlab/lib/python3.8/site-packages/numpy/core/_methods.py:261: RuntimeWarning: invalid value encountered in scalar divide\n",
      "  ret = ret.dtype.type(ret / rcount)\n",
      "/home/lucas/miniconda3/envs/drag2_matlab/lib/python3.8/site-packages/numpy/core/_methods.py:269: RuntimeWarning: Degrees of freedom <= 0 for slice\n",
      "  ret = _var(a, axis=axis, dtype=dtype, out=out, ddof=ddof,\n",
      "/home/lucas/miniconda3/envs/drag2_matlab/lib/python3.8/site-packages/numpy/core/_methods.py:261: RuntimeWarning: invalid value encountered in scalar divide\n",
      "  ret = ret.dtype.type(ret / rcount)\n",
      "/home/lucas/miniconda3/envs/drag2_matlab/lib/python3.8/site-packages/numpy/core/_methods.py:269: RuntimeWarning: Degrees of freedom <= 0 for slice\n",
      "  ret = _var(a, axis=axis, dtype=dtype, out=out, ddof=ddof,\n",
      "/home/lucas/miniconda3/envs/drag2_matlab/lib/python3.8/site-packages/numpy/core/_methods.py:261: RuntimeWarning: invalid value encountered in scalar divide\n",
      "  ret = ret.dtype.type(ret / rcount)\n",
      "/home/lucas/miniconda3/envs/drag2_matlab/lib/python3.8/site-packages/numpy/core/_methods.py:269: RuntimeWarning: Degrees of freedom <= 0 for slice\n",
      "  ret = _var(a, axis=axis, dtype=dtype, out=out, ddof=ddof,\n",
      "/home/lucas/miniconda3/envs/drag2_matlab/lib/python3.8/site-packages/numpy/core/_methods.py:261: RuntimeWarning: invalid value encountered in scalar divide\n",
      "  ret = ret.dtype.type(ret / rcount)\n",
      "/home/lucas/miniconda3/envs/drag2_matlab/lib/python3.8/site-packages/numpy/core/_methods.py:269: RuntimeWarning: Degrees of freedom <= 0 for slice\n",
      "  ret = _var(a, axis=axis, dtype=dtype, out=out, ddof=ddof,\n",
      "/home/lucas/miniconda3/envs/drag2_matlab/lib/python3.8/site-packages/numpy/core/_methods.py:261: RuntimeWarning: invalid value encountered in scalar divide\n",
      "  ret = ret.dtype.type(ret / rcount)\n",
      "/home/lucas/miniconda3/envs/drag2_matlab/lib/python3.8/site-packages/numpy/core/_methods.py:269: RuntimeWarning: Degrees of freedom <= 0 for slice\n",
      "  ret = _var(a, axis=axis, dtype=dtype, out=out, ddof=ddof,\n",
      "/home/lucas/miniconda3/envs/drag2_matlab/lib/python3.8/site-packages/numpy/core/_methods.py:261: RuntimeWarning: invalid value encountered in scalar divide\n",
      "  ret = ret.dtype.type(ret / rcount)\n",
      "/home/lucas/miniconda3/envs/drag2_matlab/lib/python3.8/site-packages/numpy/core/_methods.py:269: RuntimeWarning: Degrees of freedom <= 0 for slice\n",
      "  ret = _var(a, axis=axis, dtype=dtype, out=out, ddof=ddof,\n",
      "/home/lucas/miniconda3/envs/drag2_matlab/lib/python3.8/site-packages/numpy/core/_methods.py:261: RuntimeWarning: invalid value encountered in scalar divide\n",
      "  ret = ret.dtype.type(ret / rcount)\n",
      "/home/lucas/miniconda3/envs/drag2_matlab/lib/python3.8/site-packages/numpy/core/_methods.py:269: RuntimeWarning: Degrees of freedom <= 0 for slice\n",
      "  ret = _var(a, axis=axis, dtype=dtype, out=out, ddof=ddof,\n",
      "/home/lucas/miniconda3/envs/drag2_matlab/lib/python3.8/site-packages/numpy/core/_methods.py:261: RuntimeWarning: invalid value encountered in scalar divide\n",
      "  ret = ret.dtype.type(ret / rcount)\n",
      "/home/lucas/miniconda3/envs/drag2_matlab/lib/python3.8/site-packages/numpy/core/_methods.py:269: RuntimeWarning: Degrees of freedom <= 0 for slice\n",
      "  ret = _var(a, axis=axis, dtype=dtype, out=out, ddof=ddof,\n",
      "/home/lucas/miniconda3/envs/drag2_matlab/lib/python3.8/site-packages/numpy/core/_methods.py:261: RuntimeWarning: invalid value encountered in scalar divide\n",
      "  ret = ret.dtype.type(ret / rcount)\n",
      "/home/lucas/miniconda3/envs/drag2_matlab/lib/python3.8/site-packages/numpy/core/_methods.py:269: RuntimeWarning: Degrees of freedom <= 0 for slice\n",
      "  ret = _var(a, axis=axis, dtype=dtype, out=out, ddof=ddof,\n",
      "/home/lucas/miniconda3/envs/drag2_matlab/lib/python3.8/site-packages/numpy/core/_methods.py:261: RuntimeWarning: invalid value encountered in scalar divide\n",
      "  ret = ret.dtype.type(ret / rcount)\n",
      "/home/lucas/miniconda3/envs/drag2_matlab/lib/python3.8/site-packages/numpy/core/_methods.py:269: RuntimeWarning: Degrees of freedom <= 0 for slice\n",
      "  ret = _var(a, axis=axis, dtype=dtype, out=out, ddof=ddof,\n",
      "/home/lucas/miniconda3/envs/drag2_matlab/lib/python3.8/site-packages/numpy/core/_methods.py:261: RuntimeWarning: invalid value encountered in scalar divide\n",
      "  ret = ret.dtype.type(ret / rcount)\n",
      "/home/lucas/miniconda3/envs/drag2_matlab/lib/python3.8/site-packages/numpy/core/_methods.py:269: RuntimeWarning: Degrees of freedom <= 0 for slice\n",
      "  ret = _var(a, axis=axis, dtype=dtype, out=out, ddof=ddof,\n",
      "/home/lucas/miniconda3/envs/drag2_matlab/lib/python3.8/site-packages/numpy/core/_methods.py:261: RuntimeWarning: invalid value encountered in scalar divide\n",
      "  ret = ret.dtype.type(ret / rcount)\n",
      "/home/lucas/miniconda3/envs/drag2_matlab/lib/python3.8/site-packages/numpy/core/_methods.py:269: RuntimeWarning: Degrees of freedom <= 0 for slice\n",
      "  ret = _var(a, axis=axis, dtype=dtype, out=out, ddof=ddof,\n",
      "/home/lucas/miniconda3/envs/drag2_matlab/lib/python3.8/site-packages/numpy/core/_methods.py:261: RuntimeWarning: invalid value encountered in scalar divide\n",
      "  ret = ret.dtype.type(ret / rcount)\n",
      "/home/lucas/miniconda3/envs/drag2_matlab/lib/python3.8/site-packages/numpy/core/_methods.py:269: RuntimeWarning: Degrees of freedom <= 0 for slice\n",
      "  ret = _var(a, axis=axis, dtype=dtype, out=out, ddof=ddof,\n",
      "/home/lucas/miniconda3/envs/drag2_matlab/lib/python3.8/site-packages/numpy/core/_methods.py:261: RuntimeWarning: invalid value encountered in scalar divide\n",
      "  ret = ret.dtype.type(ret / rcount)\n",
      "/home/lucas/miniconda3/envs/drag2_matlab/lib/python3.8/site-packages/numpy/core/_methods.py:269: RuntimeWarning: Degrees of freedom <= 0 for slice\n",
      "  ret = _var(a, axis=axis, dtype=dtype, out=out, ddof=ddof,\n",
      "/home/lucas/miniconda3/envs/drag2_matlab/lib/python3.8/site-packages/numpy/core/_methods.py:261: RuntimeWarning: invalid value encountered in scalar divide\n",
      "  ret = ret.dtype.type(ret / rcount)\n",
      "/home/lucas/miniconda3/envs/drag2_matlab/lib/python3.8/site-packages/numpy/core/_methods.py:269: RuntimeWarning: Degrees of freedom <= 0 for slice\n",
      "  ret = _var(a, axis=axis, dtype=dtype, out=out, ddof=ddof,\n",
      "/home/lucas/miniconda3/envs/drag2_matlab/lib/python3.8/site-packages/numpy/core/_methods.py:261: RuntimeWarning: invalid value encountered in scalar divide\n",
      "  ret = ret.dtype.type(ret / rcount)\n",
      "/home/lucas/miniconda3/envs/drag2_matlab/lib/python3.8/site-packages/numpy/core/_methods.py:269: RuntimeWarning: Degrees of freedom <= 0 for slice\n",
      "  ret = _var(a, axis=axis, dtype=dtype, out=out, ddof=ddof,\n",
      "/home/lucas/miniconda3/envs/drag2_matlab/lib/python3.8/site-packages/numpy/core/_methods.py:261: RuntimeWarning: invalid value encountered in scalar divide\n",
      "  ret = ret.dtype.type(ret / rcount)\n",
      "/home/lucas/miniconda3/envs/drag2_matlab/lib/python3.8/site-packages/numpy/core/_methods.py:269: RuntimeWarning: Degrees of freedom <= 0 for slice\n",
      "  ret = _var(a, axis=axis, dtype=dtype, out=out, ddof=ddof,\n",
      "/home/lucas/miniconda3/envs/drag2_matlab/lib/python3.8/site-packages/numpy/core/_methods.py:261: RuntimeWarning: invalid value encountered in scalar divide\n",
      "  ret = ret.dtype.type(ret / rcount)\n",
      "/home/lucas/miniconda3/envs/drag2_matlab/lib/python3.8/site-packages/numpy/core/_methods.py:269: RuntimeWarning: Degrees of freedom <= 0 for slice\n",
      "  ret = _var(a, axis=axis, dtype=dtype, out=out, ddof=ddof,\n",
      "/home/lucas/miniconda3/envs/drag2_matlab/lib/python3.8/site-packages/numpy/core/_methods.py:261: RuntimeWarning: invalid value encountered in scalar divide\n",
      "  ret = ret.dtype.type(ret / rcount)\n",
      "/home/lucas/miniconda3/envs/drag2_matlab/lib/python3.8/site-packages/numpy/core/_methods.py:269: RuntimeWarning: Degrees of freedom <= 0 for slice\n",
      "  ret = _var(a, axis=axis, dtype=dtype, out=out, ddof=ddof,\n",
      "/home/lucas/miniconda3/envs/drag2_matlab/lib/python3.8/site-packages/numpy/core/_methods.py:261: RuntimeWarning: invalid value encountered in scalar divide\n",
      "  ret = ret.dtype.type(ret / rcount)\n",
      "/home/lucas/miniconda3/envs/drag2_matlab/lib/python3.8/site-packages/numpy/core/_methods.py:269: RuntimeWarning: Degrees of freedom <= 0 for slice\n",
      "  ret = _var(a, axis=axis, dtype=dtype, out=out, ddof=ddof,\n",
      "/home/lucas/miniconda3/envs/drag2_matlab/lib/python3.8/site-packages/numpy/core/_methods.py:261: RuntimeWarning: invalid value encountered in scalar divide\n",
      "  ret = ret.dtype.type(ret / rcount)\n",
      "/home/lucas/miniconda3/envs/drag2_matlab/lib/python3.8/site-packages/numpy/core/_methods.py:269: RuntimeWarning: Degrees of freedom <= 0 for slice\n",
      "  ret = _var(a, axis=axis, dtype=dtype, out=out, ddof=ddof,\n",
      "/home/lucas/miniconda3/envs/drag2_matlab/lib/python3.8/site-packages/numpy/core/_methods.py:261: RuntimeWarning: invalid value encountered in scalar divide\n",
      "  ret = ret.dtype.type(ret / rcount)\n",
      "/home/lucas/miniconda3/envs/drag2_matlab/lib/python3.8/site-packages/numpy/core/_methods.py:269: RuntimeWarning: Degrees of freedom <= 0 for slice\n",
      "  ret = _var(a, axis=axis, dtype=dtype, out=out, ddof=ddof,\n",
      "/home/lucas/miniconda3/envs/drag2_matlab/lib/python3.8/site-packages/numpy/core/_methods.py:261: RuntimeWarning: invalid value encountered in scalar divide\n",
      "  ret = ret.dtype.type(ret / rcount)\n",
      "/home/lucas/miniconda3/envs/drag2_matlab/lib/python3.8/site-packages/numpy/core/_methods.py:269: RuntimeWarning: Degrees of freedom <= 0 for slice\n",
      "  ret = _var(a, axis=axis, dtype=dtype, out=out, ddof=ddof,\n",
      "/home/lucas/miniconda3/envs/drag2_matlab/lib/python3.8/site-packages/numpy/core/_methods.py:261: RuntimeWarning: invalid value encountered in scalar divide\n",
      "  ret = ret.dtype.type(ret / rcount)\n",
      "/home/lucas/miniconda3/envs/drag2_matlab/lib/python3.8/site-packages/numpy/core/_methods.py:269: RuntimeWarning: Degrees of freedom <= 0 for slice\n",
      "  ret = _var(a, axis=axis, dtype=dtype, out=out, ddof=ddof,\n",
      "/home/lucas/miniconda3/envs/drag2_matlab/lib/python3.8/site-packages/numpy/core/_methods.py:261: RuntimeWarning: invalid value encountered in scalar divide\n",
      "  ret = ret.dtype.type(ret / rcount)\n",
      "/home/lucas/miniconda3/envs/drag2_matlab/lib/python3.8/site-packages/numpy/core/_methods.py:269: RuntimeWarning: Degrees of freedom <= 0 for slice\n",
      "  ret = _var(a, axis=axis, dtype=dtype, out=out, ddof=ddof,\n",
      "/home/lucas/miniconda3/envs/drag2_matlab/lib/python3.8/site-packages/numpy/core/_methods.py:261: RuntimeWarning: invalid value encountered in scalar divide\n",
      "  ret = ret.dtype.type(ret / rcount)\n",
      "/home/lucas/miniconda3/envs/drag2_matlab/lib/python3.8/site-packages/numpy/core/_methods.py:269: RuntimeWarning: Degrees of freedom <= 0 for slice\n",
      "  ret = _var(a, axis=axis, dtype=dtype, out=out, ddof=ddof,\n",
      "/home/lucas/miniconda3/envs/drag2_matlab/lib/python3.8/site-packages/numpy/core/_methods.py:261: RuntimeWarning: invalid value encountered in scalar divide\n",
      "  ret = ret.dtype.type(ret / rcount)\n",
      "/home/lucas/miniconda3/envs/drag2_matlab/lib/python3.8/site-packages/numpy/core/_methods.py:269: RuntimeWarning: Degrees of freedom <= 0 for slice\n",
      "  ret = _var(a, axis=axis, dtype=dtype, out=out, ddof=ddof,\n",
      "/home/lucas/miniconda3/envs/drag2_matlab/lib/python3.8/site-packages/numpy/core/_methods.py:261: RuntimeWarning: invalid value encountered in scalar divide\n",
      "  ret = ret.dtype.type(ret / rcount)\n"
     ]
    },
    {
     "name": "stdout",
     "output_type": "stream",
     "text": [
      "/lemur2/lucas/analyses/recordings/main/shape_invariance/EUCLIDIAN_SHUFF/MULT/analy=shape_invar_clean_size-Diego-varother=gridsize-230618-230619\n",
      "concatting...\n",
      "appending...\n",
      "agging...\n",
      "concatting...\n",
      "appending...\n",
      "agging...\n"
     ]
    },
    {
     "name": "stderr",
     "output_type": "stream",
     "text": [
      "/home/lucas/miniconda3/envs/drag2_matlab/lib/python3.8/site-packages/numpy/core/_methods.py:269: RuntimeWarning: Degrees of freedom <= 0 for slice\n",
      "  ret = _var(a, axis=axis, dtype=dtype, out=out, ddof=ddof,\n",
      "/home/lucas/miniconda3/envs/drag2_matlab/lib/python3.8/site-packages/numpy/core/_methods.py:261: RuntimeWarning: invalid value encountered in scalar divide\n",
      "  ret = ret.dtype.type(ret / rcount)\n",
      "/home/lucas/miniconda3/envs/drag2_matlab/lib/python3.8/site-packages/numpy/core/_methods.py:269: RuntimeWarning: Degrees of freedom <= 0 for slice\n",
      "  ret = _var(a, axis=axis, dtype=dtype, out=out, ddof=ddof,\n",
      "/home/lucas/miniconda3/envs/drag2_matlab/lib/python3.8/site-packages/numpy/core/_methods.py:261: RuntimeWarning: invalid value encountered in scalar divide\n",
      "  ret = ret.dtype.type(ret / rcount)\n",
      "/home/lucas/miniconda3/envs/drag2_matlab/lib/python3.8/site-packages/numpy/core/_methods.py:269: RuntimeWarning: Degrees of freedom <= 0 for slice\n",
      "  ret = _var(a, axis=axis, dtype=dtype, out=out, ddof=ddof,\n",
      "/home/lucas/miniconda3/envs/drag2_matlab/lib/python3.8/site-packages/numpy/core/_methods.py:261: RuntimeWarning: invalid value encountered in scalar divide\n",
      "  ret = ret.dtype.type(ret / rcount)\n",
      "/home/lucas/miniconda3/envs/drag2_matlab/lib/python3.8/site-packages/numpy/core/_methods.py:269: RuntimeWarning: Degrees of freedom <= 0 for slice\n",
      "  ret = _var(a, axis=axis, dtype=dtype, out=out, ddof=ddof,\n",
      "/home/lucas/miniconda3/envs/drag2_matlab/lib/python3.8/site-packages/numpy/core/_methods.py:261: RuntimeWarning: invalid value encountered in scalar divide\n",
      "  ret = ret.dtype.type(ret / rcount)\n",
      "/home/lucas/miniconda3/envs/drag2_matlab/lib/python3.8/site-packages/numpy/core/_methods.py:269: RuntimeWarning: Degrees of freedom <= 0 for slice\n",
      "  ret = _var(a, axis=axis, dtype=dtype, out=out, ddof=ddof,\n",
      "/home/lucas/miniconda3/envs/drag2_matlab/lib/python3.8/site-packages/numpy/core/_methods.py:261: RuntimeWarning: invalid value encountered in scalar divide\n",
      "  ret = ret.dtype.type(ret / rcount)\n",
      "/home/lucas/miniconda3/envs/drag2_matlab/lib/python3.8/site-packages/numpy/core/_methods.py:269: RuntimeWarning: Degrees of freedom <= 0 for slice\n",
      "  ret = _var(a, axis=axis, dtype=dtype, out=out, ddof=ddof,\n",
      "/home/lucas/miniconda3/envs/drag2_matlab/lib/python3.8/site-packages/numpy/core/_methods.py:261: RuntimeWarning: invalid value encountered in scalar divide\n",
      "  ret = ret.dtype.type(ret / rcount)\n",
      "/home/lucas/miniconda3/envs/drag2_matlab/lib/python3.8/site-packages/numpy/core/_methods.py:269: RuntimeWarning: Degrees of freedom <= 0 for slice\n",
      "  ret = _var(a, axis=axis, dtype=dtype, out=out, ddof=ddof,\n",
      "/home/lucas/miniconda3/envs/drag2_matlab/lib/python3.8/site-packages/numpy/core/_methods.py:261: RuntimeWarning: invalid value encountered in scalar divide\n",
      "  ret = ret.dtype.type(ret / rcount)\n",
      "/home/lucas/miniconda3/envs/drag2_matlab/lib/python3.8/site-packages/numpy/core/_methods.py:269: RuntimeWarning: Degrees of freedom <= 0 for slice\n",
      "  ret = _var(a, axis=axis, dtype=dtype, out=out, ddof=ddof,\n",
      "/home/lucas/miniconda3/envs/drag2_matlab/lib/python3.8/site-packages/numpy/core/_methods.py:261: RuntimeWarning: invalid value encountered in scalar divide\n",
      "  ret = ret.dtype.type(ret / rcount)\n",
      "/home/lucas/miniconda3/envs/drag2_matlab/lib/python3.8/site-packages/numpy/core/_methods.py:269: RuntimeWarning: Degrees of freedom <= 0 for slice\n",
      "  ret = _var(a, axis=axis, dtype=dtype, out=out, ddof=ddof,\n",
      "/home/lucas/miniconda3/envs/drag2_matlab/lib/python3.8/site-packages/numpy/core/_methods.py:261: RuntimeWarning: invalid value encountered in scalar divide\n",
      "  ret = ret.dtype.type(ret / rcount)\n",
      "/home/lucas/miniconda3/envs/drag2_matlab/lib/python3.8/site-packages/numpy/core/_methods.py:269: RuntimeWarning: Degrees of freedom <= 0 for slice\n",
      "  ret = _var(a, axis=axis, dtype=dtype, out=out, ddof=ddof,\n",
      "/home/lucas/miniconda3/envs/drag2_matlab/lib/python3.8/site-packages/numpy/core/_methods.py:261: RuntimeWarning: invalid value encountered in scalar divide\n",
      "  ret = ret.dtype.type(ret / rcount)\n",
      "/home/lucas/miniconda3/envs/drag2_matlab/lib/python3.8/site-packages/numpy/core/_methods.py:269: RuntimeWarning: Degrees of freedom <= 0 for slice\n",
      "  ret = _var(a, axis=axis, dtype=dtype, out=out, ddof=ddof,\n",
      "/home/lucas/miniconda3/envs/drag2_matlab/lib/python3.8/site-packages/numpy/core/_methods.py:261: RuntimeWarning: invalid value encountered in scalar divide\n",
      "  ret = ret.dtype.type(ret / rcount)\n",
      "/home/lucas/miniconda3/envs/drag2_matlab/lib/python3.8/site-packages/numpy/core/_methods.py:269: RuntimeWarning: Degrees of freedom <= 0 for slice\n",
      "  ret = _var(a, axis=axis, dtype=dtype, out=out, ddof=ddof,\n",
      "/home/lucas/miniconda3/envs/drag2_matlab/lib/python3.8/site-packages/numpy/core/_methods.py:261: RuntimeWarning: invalid value encountered in scalar divide\n",
      "  ret = ret.dtype.type(ret / rcount)\n",
      "/home/lucas/miniconda3/envs/drag2_matlab/lib/python3.8/site-packages/numpy/core/_methods.py:269: RuntimeWarning: Degrees of freedom <= 0 for slice\n",
      "  ret = _var(a, axis=axis, dtype=dtype, out=out, ddof=ddof,\n",
      "/home/lucas/miniconda3/envs/drag2_matlab/lib/python3.8/site-packages/numpy/core/_methods.py:261: RuntimeWarning: invalid value encountered in scalar divide\n",
      "  ret = ret.dtype.type(ret / rcount)\n",
      "/home/lucas/miniconda3/envs/drag2_matlab/lib/python3.8/site-packages/numpy/core/_methods.py:269: RuntimeWarning: Degrees of freedom <= 0 for slice\n",
      "  ret = _var(a, axis=axis, dtype=dtype, out=out, ddof=ddof,\n",
      "/home/lucas/miniconda3/envs/drag2_matlab/lib/python3.8/site-packages/numpy/core/_methods.py:261: RuntimeWarning: invalid value encountered in scalar divide\n",
      "  ret = ret.dtype.type(ret / rcount)\n",
      "/home/lucas/miniconda3/envs/drag2_matlab/lib/python3.8/site-packages/numpy/core/_methods.py:269: RuntimeWarning: Degrees of freedom <= 0 for slice\n",
      "  ret = _var(a, axis=axis, dtype=dtype, out=out, ddof=ddof,\n",
      "/home/lucas/miniconda3/envs/drag2_matlab/lib/python3.8/site-packages/numpy/core/_methods.py:261: RuntimeWarning: invalid value encountered in scalar divide\n",
      "  ret = ret.dtype.type(ret / rcount)\n",
      "/home/lucas/miniconda3/envs/drag2_matlab/lib/python3.8/site-packages/numpy/core/_methods.py:269: RuntimeWarning: Degrees of freedom <= 0 for slice\n",
      "  ret = _var(a, axis=axis, dtype=dtype, out=out, ddof=ddof,\n",
      "/home/lucas/miniconda3/envs/drag2_matlab/lib/python3.8/site-packages/numpy/core/_methods.py:261: RuntimeWarning: invalid value encountered in scalar divide\n",
      "  ret = ret.dtype.type(ret / rcount)\n",
      "/home/lucas/miniconda3/envs/drag2_matlab/lib/python3.8/site-packages/numpy/core/_methods.py:269: RuntimeWarning: Degrees of freedom <= 0 for slice\n",
      "  ret = _var(a, axis=axis, dtype=dtype, out=out, ddof=ddof,\n",
      "/home/lucas/miniconda3/envs/drag2_matlab/lib/python3.8/site-packages/numpy/core/_methods.py:261: RuntimeWarning: invalid value encountered in scalar divide\n",
      "  ret = ret.dtype.type(ret / rcount)\n",
      "/home/lucas/miniconda3/envs/drag2_matlab/lib/python3.8/site-packages/numpy/core/_methods.py:269: RuntimeWarning: Degrees of freedom <= 0 for slice\n",
      "  ret = _var(a, axis=axis, dtype=dtype, out=out, ddof=ddof,\n",
      "/home/lucas/miniconda3/envs/drag2_matlab/lib/python3.8/site-packages/numpy/core/_methods.py:261: RuntimeWarning: invalid value encountered in scalar divide\n",
      "  ret = ret.dtype.type(ret / rcount)\n",
      "/home/lucas/miniconda3/envs/drag2_matlab/lib/python3.8/site-packages/numpy/core/_methods.py:269: RuntimeWarning: Degrees of freedom <= 0 for slice\n",
      "  ret = _var(a, axis=axis, dtype=dtype, out=out, ddof=ddof,\n",
      "/home/lucas/miniconda3/envs/drag2_matlab/lib/python3.8/site-packages/numpy/core/_methods.py:261: RuntimeWarning: invalid value encountered in scalar divide\n",
      "  ret = ret.dtype.type(ret / rcount)\n",
      "/home/lucas/miniconda3/envs/drag2_matlab/lib/python3.8/site-packages/numpy/core/_methods.py:269: RuntimeWarning: Degrees of freedom <= 0 for slice\n",
      "  ret = _var(a, axis=axis, dtype=dtype, out=out, ddof=ddof,\n",
      "/home/lucas/miniconda3/envs/drag2_matlab/lib/python3.8/site-packages/numpy/core/_methods.py:261: RuntimeWarning: invalid value encountered in scalar divide\n",
      "  ret = ret.dtype.type(ret / rcount)\n",
      "/home/lucas/miniconda3/envs/drag2_matlab/lib/python3.8/site-packages/numpy/core/_methods.py:269: RuntimeWarning: Degrees of freedom <= 0 for slice\n",
      "  ret = _var(a, axis=axis, dtype=dtype, out=out, ddof=ddof,\n",
      "/home/lucas/miniconda3/envs/drag2_matlab/lib/python3.8/site-packages/numpy/core/_methods.py:261: RuntimeWarning: invalid value encountered in scalar divide\n",
      "  ret = ret.dtype.type(ret / rcount)\n",
      "/home/lucas/miniconda3/envs/drag2_matlab/lib/python3.8/site-packages/numpy/core/_methods.py:269: RuntimeWarning: Degrees of freedom <= 0 for slice\n",
      "  ret = _var(a, axis=axis, dtype=dtype, out=out, ddof=ddof,\n",
      "/home/lucas/miniconda3/envs/drag2_matlab/lib/python3.8/site-packages/numpy/core/_methods.py:261: RuntimeWarning: invalid value encountered in scalar divide\n",
      "  ret = ret.dtype.type(ret / rcount)\n",
      "/home/lucas/miniconda3/envs/drag2_matlab/lib/python3.8/site-packages/numpy/core/_methods.py:269: RuntimeWarning: Degrees of freedom <= 0 for slice\n",
      "  ret = _var(a, axis=axis, dtype=dtype, out=out, ddof=ddof,\n",
      "/home/lucas/miniconda3/envs/drag2_matlab/lib/python3.8/site-packages/numpy/core/_methods.py:261: RuntimeWarning: invalid value encountered in scalar divide\n",
      "  ret = ret.dtype.type(ret / rcount)\n",
      "/home/lucas/miniconda3/envs/drag2_matlab/lib/python3.8/site-packages/numpy/core/_methods.py:269: RuntimeWarning: Degrees of freedom <= 0 for slice\n",
      "  ret = _var(a, axis=axis, dtype=dtype, out=out, ddof=ddof,\n",
      "/home/lucas/miniconda3/envs/drag2_matlab/lib/python3.8/site-packages/numpy/core/_methods.py:261: RuntimeWarning: invalid value encountered in scalar divide\n",
      "  ret = ret.dtype.type(ret / rcount)\n",
      "/home/lucas/miniconda3/envs/drag2_matlab/lib/python3.8/site-packages/numpy/core/_methods.py:269: RuntimeWarning: Degrees of freedom <= 0 for slice\n",
      "  ret = _var(a, axis=axis, dtype=dtype, out=out, ddof=ddof,\n",
      "/home/lucas/miniconda3/envs/drag2_matlab/lib/python3.8/site-packages/numpy/core/_methods.py:261: RuntimeWarning: invalid value encountered in scalar divide\n",
      "  ret = ret.dtype.type(ret / rcount)\n",
      "/home/lucas/miniconda3/envs/drag2_matlab/lib/python3.8/site-packages/numpy/core/_methods.py:269: RuntimeWarning: Degrees of freedom <= 0 for slice\n",
      "  ret = _var(a, axis=axis, dtype=dtype, out=out, ddof=ddof,\n",
      "/home/lucas/miniconda3/envs/drag2_matlab/lib/python3.8/site-packages/numpy/core/_methods.py:261: RuntimeWarning: invalid value encountered in scalar divide\n",
      "  ret = ret.dtype.type(ret / rcount)\n",
      "/home/lucas/miniconda3/envs/drag2_matlab/lib/python3.8/site-packages/numpy/core/_methods.py:269: RuntimeWarning: Degrees of freedom <= 0 for slice\n",
      "  ret = _var(a, axis=axis, dtype=dtype, out=out, ddof=ddof,\n",
      "/home/lucas/miniconda3/envs/drag2_matlab/lib/python3.8/site-packages/numpy/core/_methods.py:261: RuntimeWarning: invalid value encountered in scalar divide\n",
      "  ret = ret.dtype.type(ret / rcount)\n",
      "/home/lucas/miniconda3/envs/drag2_matlab/lib/python3.8/site-packages/numpy/core/_methods.py:269: RuntimeWarning: Degrees of freedom <= 0 for slice\n",
      "  ret = _var(a, axis=axis, dtype=dtype, out=out, ddof=ddof,\n",
      "/home/lucas/miniconda3/envs/drag2_matlab/lib/python3.8/site-packages/numpy/core/_methods.py:261: RuntimeWarning: invalid value encountered in scalar divide\n",
      "  ret = ret.dtype.type(ret / rcount)\n",
      "/home/lucas/miniconda3/envs/drag2_matlab/lib/python3.8/site-packages/numpy/core/_methods.py:269: RuntimeWarning: Degrees of freedom <= 0 for slice\n",
      "  ret = _var(a, axis=axis, dtype=dtype, out=out, ddof=ddof,\n",
      "/home/lucas/miniconda3/envs/drag2_matlab/lib/python3.8/site-packages/numpy/core/_methods.py:261: RuntimeWarning: invalid value encountered in scalar divide\n",
      "  ret = ret.dtype.type(ret / rcount)\n",
      "/home/lucas/miniconda3/envs/drag2_matlab/lib/python3.8/site-packages/numpy/core/_methods.py:269: RuntimeWarning: Degrees of freedom <= 0 for slice\n",
      "  ret = _var(a, axis=axis, dtype=dtype, out=out, ddof=ddof,\n",
      "/home/lucas/miniconda3/envs/drag2_matlab/lib/python3.8/site-packages/numpy/core/_methods.py:261: RuntimeWarning: invalid value encountered in scalar divide\n",
      "  ret = ret.dtype.type(ret / rcount)\n",
      "/home/lucas/miniconda3/envs/drag2_matlab/lib/python3.8/site-packages/numpy/core/_methods.py:269: RuntimeWarning: Degrees of freedom <= 0 for slice\n",
      "  ret = _var(a, axis=axis, dtype=dtype, out=out, ddof=ddof,\n",
      "/home/lucas/miniconda3/envs/drag2_matlab/lib/python3.8/site-packages/numpy/core/_methods.py:261: RuntimeWarning: invalid value encountered in scalar divide\n",
      "  ret = ret.dtype.type(ret / rcount)\n",
      "/home/lucas/miniconda3/envs/drag2_matlab/lib/python3.8/site-packages/numpy/core/_methods.py:269: RuntimeWarning: Degrees of freedom <= 0 for slice\n",
      "  ret = _var(a, axis=axis, dtype=dtype, out=out, ddof=ddof,\n",
      "/home/lucas/miniconda3/envs/drag2_matlab/lib/python3.8/site-packages/numpy/core/_methods.py:261: RuntimeWarning: invalid value encountered in scalar divide\n",
      "  ret = ret.dtype.type(ret / rcount)\n",
      "/home/lucas/miniconda3/envs/drag2_matlab/lib/python3.8/site-packages/numpy/core/_methods.py:269: RuntimeWarning: Degrees of freedom <= 0 for slice\n",
      "  ret = _var(a, axis=axis, dtype=dtype, out=out, ddof=ddof,\n",
      "/home/lucas/miniconda3/envs/drag2_matlab/lib/python3.8/site-packages/numpy/core/_methods.py:261: RuntimeWarning: invalid value encountered in scalar divide\n",
      "  ret = ret.dtype.type(ret / rcount)\n",
      "/home/lucas/miniconda3/envs/drag2_matlab/lib/python3.8/site-packages/numpy/core/_methods.py:269: RuntimeWarning: Degrees of freedom <= 0 for slice\n",
      "  ret = _var(a, axis=axis, dtype=dtype, out=out, ddof=ddof,\n",
      "/home/lucas/miniconda3/envs/drag2_matlab/lib/python3.8/site-packages/numpy/core/_methods.py:261: RuntimeWarning: invalid value encountered in scalar divide\n",
      "  ret = ret.dtype.type(ret / rcount)\n",
      "/home/lucas/miniconda3/envs/drag2_matlab/lib/python3.8/site-packages/numpy/core/_methods.py:269: RuntimeWarning: Degrees of freedom <= 0 for slice\n",
      "  ret = _var(a, axis=axis, dtype=dtype, out=out, ddof=ddof,\n",
      "/home/lucas/miniconda3/envs/drag2_matlab/lib/python3.8/site-packages/numpy/core/_methods.py:261: RuntimeWarning: invalid value encountered in scalar divide\n",
      "  ret = ret.dtype.type(ret / rcount)\n",
      "/home/lucas/miniconda3/envs/drag2_matlab/lib/python3.8/site-packages/numpy/core/_methods.py:269: RuntimeWarning: Degrees of freedom <= 0 for slice\n",
      "  ret = _var(a, axis=axis, dtype=dtype, out=out, ddof=ddof,\n",
      "/home/lucas/miniconda3/envs/drag2_matlab/lib/python3.8/site-packages/numpy/core/_methods.py:261: RuntimeWarning: invalid value encountered in scalar divide\n",
      "  ret = ret.dtype.type(ret / rcount)\n",
      "/home/lucas/miniconda3/envs/drag2_matlab/lib/python3.8/site-packages/numpy/core/_methods.py:269: RuntimeWarning: Degrees of freedom <= 0 for slice\n",
      "  ret = _var(a, axis=axis, dtype=dtype, out=out, ddof=ddof,\n",
      "/home/lucas/miniconda3/envs/drag2_matlab/lib/python3.8/site-packages/numpy/core/_methods.py:261: RuntimeWarning: invalid value encountered in scalar divide\n",
      "  ret = ret.dtype.type(ret / rcount)\n",
      "/home/lucas/miniconda3/envs/drag2_matlab/lib/python3.8/site-packages/numpy/core/_methods.py:269: RuntimeWarning: Degrees of freedom <= 0 for slice\n",
      "  ret = _var(a, axis=axis, dtype=dtype, out=out, ddof=ddof,\n",
      "/home/lucas/miniconda3/envs/drag2_matlab/lib/python3.8/site-packages/numpy/core/_methods.py:261: RuntimeWarning: invalid value encountered in scalar divide\n",
      "  ret = ret.dtype.type(ret / rcount)\n",
      "/home/lucas/miniconda3/envs/drag2_matlab/lib/python3.8/site-packages/numpy/core/_methods.py:269: RuntimeWarning: Degrees of freedom <= 0 for slice\n",
      "  ret = _var(a, axis=axis, dtype=dtype, out=out, ddof=ddof,\n",
      "/home/lucas/miniconda3/envs/drag2_matlab/lib/python3.8/site-packages/numpy/core/_methods.py:261: RuntimeWarning: invalid value encountered in scalar divide\n",
      "  ret = ret.dtype.type(ret / rcount)\n",
      "/home/lucas/miniconda3/envs/drag2_matlab/lib/python3.8/site-packages/numpy/core/_methods.py:269: RuntimeWarning: Degrees of freedom <= 0 for slice\n",
      "  ret = _var(a, axis=axis, dtype=dtype, out=out, ddof=ddof,\n",
      "/home/lucas/miniconda3/envs/drag2_matlab/lib/python3.8/site-packages/numpy/core/_methods.py:261: RuntimeWarning: invalid value encountered in scalar divide\n",
      "  ret = ret.dtype.type(ret / rcount)\n",
      "/home/lucas/miniconda3/envs/drag2_matlab/lib/python3.8/site-packages/numpy/core/_methods.py:269: RuntimeWarning: Degrees of freedom <= 0 for slice\n",
      "  ret = _var(a, axis=axis, dtype=dtype, out=out, ddof=ddof,\n",
      "/home/lucas/miniconda3/envs/drag2_matlab/lib/python3.8/site-packages/numpy/core/_methods.py:261: RuntimeWarning: invalid value encountered in scalar divide\n",
      "  ret = ret.dtype.type(ret / rcount)\n",
      "/home/lucas/miniconda3/envs/drag2_matlab/lib/python3.8/site-packages/numpy/core/_methods.py:269: RuntimeWarning: Degrees of freedom <= 0 for slice\n",
      "  ret = _var(a, axis=axis, dtype=dtype, out=out, ddof=ddof,\n",
      "/home/lucas/miniconda3/envs/drag2_matlab/lib/python3.8/site-packages/numpy/core/_methods.py:261: RuntimeWarning: invalid value encountered in scalar divide\n",
      "  ret = ret.dtype.type(ret / rcount)\n",
      "/home/lucas/miniconda3/envs/drag2_matlab/lib/python3.8/site-packages/numpy/core/_methods.py:269: RuntimeWarning: Degrees of freedom <= 0 for slice\n",
      "  ret = _var(a, axis=axis, dtype=dtype, out=out, ddof=ddof,\n",
      "/home/lucas/miniconda3/envs/drag2_matlab/lib/python3.8/site-packages/numpy/core/_methods.py:261: RuntimeWarning: invalid value encountered in scalar divide\n",
      "  ret = ret.dtype.type(ret / rcount)\n",
      "/home/lucas/miniconda3/envs/drag2_matlab/lib/python3.8/site-packages/numpy/core/_methods.py:269: RuntimeWarning: Degrees of freedom <= 0 for slice\n",
      "  ret = _var(a, axis=axis, dtype=dtype, out=out, ddof=ddof,\n",
      "/home/lucas/miniconda3/envs/drag2_matlab/lib/python3.8/site-packages/numpy/core/_methods.py:261: RuntimeWarning: invalid value encountered in scalar divide\n",
      "  ret = ret.dtype.type(ret / rcount)\n",
      "/home/lucas/miniconda3/envs/drag2_matlab/lib/python3.8/site-packages/numpy/core/_methods.py:269: RuntimeWarning: Degrees of freedom <= 0 for slice\n",
      "  ret = _var(a, axis=axis, dtype=dtype, out=out, ddof=ddof,\n",
      "/home/lucas/miniconda3/envs/drag2_matlab/lib/python3.8/site-packages/numpy/core/_methods.py:261: RuntimeWarning: invalid value encountered in scalar divide\n",
      "  ret = ret.dtype.type(ret / rcount)\n",
      "/home/lucas/miniconda3/envs/drag2_matlab/lib/python3.8/site-packages/numpy/core/_methods.py:269: RuntimeWarning: Degrees of freedom <= 0 for slice\n",
      "  ret = _var(a, axis=axis, dtype=dtype, out=out, ddof=ddof,\n",
      "/home/lucas/miniconda3/envs/drag2_matlab/lib/python3.8/site-packages/numpy/core/_methods.py:261: RuntimeWarning: invalid value encountered in scalar divide\n",
      "  ret = ret.dtype.type(ret / rcount)\n",
      "/home/lucas/miniconda3/envs/drag2_matlab/lib/python3.8/site-packages/numpy/core/_methods.py:269: RuntimeWarning: Degrees of freedom <= 0 for slice\n",
      "  ret = _var(a, axis=axis, dtype=dtype, out=out, ddof=ddof,\n",
      "/home/lucas/miniconda3/envs/drag2_matlab/lib/python3.8/site-packages/numpy/core/_methods.py:261: RuntimeWarning: invalid value encountered in scalar divide\n",
      "  ret = ret.dtype.type(ret / rcount)\n",
      "/home/lucas/miniconda3/envs/drag2_matlab/lib/python3.8/site-packages/numpy/core/_methods.py:269: RuntimeWarning: Degrees of freedom <= 0 for slice\n",
      "  ret = _var(a, axis=axis, dtype=dtype, out=out, ddof=ddof,\n",
      "/home/lucas/miniconda3/envs/drag2_matlab/lib/python3.8/site-packages/numpy/core/_methods.py:261: RuntimeWarning: invalid value encountered in scalar divide\n",
      "  ret = ret.dtype.type(ret / rcount)\n"
     ]
    }
   ],
   "source": [
    "from neuralmonkey.scripts.analy_shape_invariance_all_plots_SP import euclidian_time_resolved_fast_shuffled_mult_scatter_plots\n",
    "# analysis_kind = \"shape_invar\"\n",
    "# analysis_kind = \"shape_invar_context\"\n",
    "analysis_kind = \"shape_invar_clean_loc\"\n",
    "analysis_kind = \"shape_invar_clean_size\"\n",
    "euclidian_time_resolved_fast_shuffled_mult_scatter_plots(analysis_kind)"
   ]
  },
  {
   "cell_type": "markdown",
   "id": "b26d4051",
   "metadata": {},
   "source": [
    "### [Make RSA heatmaps]\n"
   ]
  },
  {
   "cell_type": "code",
   "execution_count": null,
   "id": "5d7b3282",
   "metadata": {},
   "outputs": [],
   "source": [
    "import os\n",
    "from neuralmonkey.neuralplots.brainschematic import datamod_reorder_by_bregion\n",
    "from pythonlib.tools.pandastools import append_col_with_grp_index, grouping_append_and_return_inner_items_good\n",
    "from pythonlib.tools.pandastools import aggregGeneral, stringify_values\n",
    "import pandas as pd\n",
    "import matplotlib.pyplot as plt\n"
   ]
  },
  {
   "cell_type": "code",
   "execution_count": null,
   "id": "35227763",
   "metadata": {},
   "outputs": [],
   "source": [
    "from neuralmonkey.scripts.analy_shape_invariance_all_plots_SP import euclidian_time_resolved_fast_shuffled_mult_reload\n",
    "animal = \"Diego\"\n",
    "date = 230615\n",
    "var_other = \"seqc_0_loc\"\n",
    "list_dfdist, list_dfdist_shuff, SAVEDIR_PLOTS = euclidian_time_resolved_fast_shuffled_mult_reload(animal, date, var_other, also_load_shuffled=False)"
   ]
  },
  {
   "cell_type": "code",
   "execution_count": null,
   "id": "90bfa9b4",
   "metadata": {},
   "outputs": [],
   "source": [
    "list_dfdist[9]"
   ]
  },
  {
   "cell_type": "code",
   "execution_count": null,
   "id": "bb0140a3",
   "metadata": {},
   "outputs": [],
   "source": [
    "from itertools import permutations\n",
    "list(permutations(range(3)))"
   ]
  },
  {
   "cell_type": "code",
   "execution_count": null,
   "id": "fe53780d",
   "metadata": {},
   "outputs": [],
   "source": [
    "len(list_df)"
   ]
  },
  {
   "cell_type": "code",
   "execution_count": null,
   "id": "4c675980",
   "metadata": {},
   "outputs": [],
   "source": []
  },
  {
   "cell_type": "markdown",
   "id": "b24719ca",
   "metadata": {},
   "source": [
    "##### Entire pipeline"
   ]
  },
  {
   "cell_type": "code",
   "execution_count": null,
   "id": "9f8bef76",
   "metadata": {},
   "outputs": [],
   "source": [
    "import pandas as pd\n",
    "import numpy as np\n",
    "\n",
    "# Sample DataFrame\n",
    "df = pd.DataFrame({\n",
    "    'B': ['a', 'a', 'b', 'c', 'a', 'b', 'c', 'a', 'b', 'c'],\n",
    "    'A': [1, 1, 1, 1, 2, 2, 2, 3, 3, 3]\n",
    "})\n",
    "\n",
    "display(df)\n",
    "# Column names as variables\n",
    "column_to_remap = 'B'\n",
    "grouping_column = 'A'\n",
    "\n",
    "shuffle_dataset_hierarchical_remap(df, column_to_remap, grouping_column, use_same_mapping_across_groups=True)\n"
   ]
  },
  {
   "cell_type": "code",
   "execution_count": null,
   "id": "ca67b00e",
   "metadata": {},
   "outputs": [],
   "source": [
    "from scipy.stats import norm\n",
    "\n",
    "z_score = 3\n",
    "p_value = 1 - norm.cdf(z_score)  # For one-tailed (right-tailed) test\n",
    "\n",
    "print(p_value)\n"
   ]
  },
  {
   "cell_type": "code",
   "execution_count": null,
   "id": "544e90d2",
   "metadata": {},
   "outputs": [],
   "source": [
    "from neuralmonkey.scripts.analy_shape_invariance_all_plots_SP import euclidian_time_resolved_fast_shuffled_mult_stats_v3\n",
    "animal = \"Pancho\"\n",
    "date = 220715\n",
    "var_other = \"seqc_0_loc\"\n",
    "\n",
    "# var_shuffle = \"seqc_0_loc\"\n",
    "# var_stable = \"seqc_0_shape\"\n",
    "\n",
    "# var_shuffle = \"seqc_0_shape\"\n",
    "# var_stable = \"seqc_0_loc\"\n",
    "\n",
    "events_keep = [\"03_samp\"]\n",
    "n_shuff = 11\n",
    "for var_stable, var_shuffle in [\n",
    "    (\"seqc_0_shape\", \"seqc_0_loc\"), \n",
    "    (\"seqc_0_loc\", \"seqc_0_shape\")]:\n",
    "    euclidian_time_resolved_fast_shuffled_mult_stats_v3(animal, date, var_other, \n",
    "                                                        var_shuffle, var_stable, \n",
    "                                                        n_shuff = n_shuff, \n",
    "                                                        shuffle_method=2, events_keep=events_keep,\n",
    "                                                        PLOT_SHUFFLE_HEATMAP=False, HACK=False)"
   ]
  },
  {
   "cell_type": "markdown",
   "id": "a7f86918",
   "metadata": {},
   "source": [
    "### Stats method # 4 -- linear model, at level of trials"
   ]
  },
  {
   "cell_type": "markdown",
   "id": "78772746",
   "metadata": {},
   "source": [
    "Idea -- model the distance matrix (each label1-label2 gives mean value) as B1*(same vs diff shape)[n=2 levels] + B2*(same vs. diff location)[2 lev] + B3*(shape pair) + B4*(loc pair) + B5*(shape-loc pair).\n",
    "\n",
    "Use this to get a p-value for shape and for location.\n",
    "\n",
    "Problem: Not sure if I can rely on this p-value. Also, the effect for \"same shape\" is an underestimate, becuase it is looking for a pure shape effect.\n",
    "\n",
    "I realized that for this I would still want to do a permutation test to test significance, which led me to go back to method 3.\n",
    "\n",
    "Future: No need to continue..."
   ]
  },
  {
   "cell_type": "markdown",
   "id": "7ee44c84",
   "metadata": {},
   "source": [
    "Updated -- This is good!"
   ]
  },
  {
   "cell_type": "code",
   "execution_count": null,
   "id": "b09f9557",
   "metadata": {},
   "outputs": [],
   "source": [
    "from neuralmonkey.scripts.analy_shape_invariance_all_plots_SP import euclidian_time_resolved_fast_shuffled_mult_reload, _euclidian_time_resolved_fast_shuffled_mult_scatter_plots_params\n",
    "from pythonlib.tools.pandastools import convert_var_to_categorical\n",
    "from pythonlib.tools.plottools import savefig\n",
    "from neuralmonkey.scripts.analy_shape_invariance_all_plots_SP import euclidianshuff_stats_linear_load, euclidianshuff_stats_linear_plot_wrapper, euclidian_time_resolved_fast_shuffled_mult_reload, euclidian_time_resolved_fast_shuffled_mult_scatter_plots\n",
    "from pythonlib.tools.pandastools import convert_var_to_categorical\n",
    "from pythonlib.tools.plottools import savefig\n",
    "from neuralmonkey.neuralplots.brainschematic import datamod_reorder_by_bregion\n",
    "from pythonlib.tools.pandastools import grouping_append_and_return_inner_items_good\n",
    "from pythonlib.tools.statstools import signrank_wilcoxon_from_df\n",
    "import numpy as np\n",
    "import pandas as pd\n",
    "from neuralmonkey.scripts.analy_shape_invariance_all_plots_SP import _euclidianshuff_stats_linear_load_mult_dates_postprocess, euclidianshuff_stats_linear_load, euclidianshuff_stats_linear_plot_wrapper, euclidian_time_resolved_fast_shuffled_mult_reload, euclidian_time_resolved_fast_shuffled_mult_scatter_plots\n",
    "import os\n",
    "\n",
    "merge_pancho_ss_twinds=True\n",
    "plot_coeff = False\n",
    "analysis_kind = \"shape_invar_clean_loc\"\n",
    "do_each_date = False\n",
    "for animal in [\"Diego\", \"Pancho\"]:\n",
    "# for animal in [\"Pancho\"]:\n",
    "    # for var_other in [\"gridsize\", \"seqc_0_loc\"]:\n",
    "    for var_other in [\"seqc_0_loc\", \"gridsize\"]:\n",
    "        \n",
    "        list_date = _euclidian_time_resolved_fast_shuffled_mult_scatter_plots_params(analysis_kind, animal, var_other)\n",
    "        var_same_same = f\"same-seqc_0_shape|{var_other}\"\n",
    "\n",
    "        if do_each_date:\n",
    "            for date in list_date:\n",
    "                DFDISTS, SAVEDIR_PLOTS = euclidianshuff_stats_linear_load(animal, date, var_other, merge_pancho_ss_twinds=merge_pancho_ss_twinds)\n",
    "\n",
    "                ### ALL PLOTS\n",
    "                euclidianshuff_stats_linear_plot_wrapper(DFDISTS, SAVEDIR_PLOTS, var_other)\n",
    "\n",
    "        from neuralmonkey.scripts.analy_shape_invariance_all_plots_SP import euclidianshuff_stats_linear_load_mult_dates\n",
    "        DFDISTS = euclidianshuff_stats_linear_load_mult_dates(animal, list_date, var_other, analysis_kind,\n",
    "                                                              merge_pancho_ss_twinds=merge_pancho_ss_twinds)\n",
    "        \n",
    "        SAVEDIR_PLOTS = f\"/lemur2/lucas/analyses/recordings/main/shape_invariance/EUCLIDIAN_SHUFF/MULT/stats_linear_model/{animal}-{'|'.join([str(d) for d in list_date])}-var_other={var_other}\"\n",
    "        os.makedirs(SAVEDIR_PLOTS, exist_ok=True)\n",
    "\n",
    "        if False:\n",
    "            # Remove animal and date, so that anything that uses animal, date will fail. This is to ensure that is conisdering agged datapts.\n",
    "            # This is mainly sanity check for myself.\n",
    "            DFDISTS.drop(\"animal\", axis=1, inplace=True)\n",
    "            DFDISTS.drop(\"date\", axis=1, inplace=True)\n",
    "            DFDISTS.drop(\"animal_cat\", axis=1, inplace=True)\n",
    "            DFDISTS.drop(\"date_cat\", axis=1, inplace=True)\n",
    "\n",
    "        # Condition\n",
    "        DFDISTS = _euclidianshuff_stats_linear_load_mult_dates_postprocess(DFDISTS)\n",
    "\n",
    "        # Savedir\n",
    "        from pythonlib.tools.expttools import writeDictToTxt\n",
    "        writeDictToTxt({\"list_date\":list_date}, f\"{SAVEDIR_PLOTS}/list_date.txt\")\n",
    "        _, _, _, _ = euclidianshuff_stats_linear_plot_wrapper(DFDISTS, SAVEDIR_PLOTS, var_other)\n"
   ]
  },
  {
   "cell_type": "markdown",
   "id": "1380ecf7",
   "metadata": {},
   "source": [
    "# Make associated plots"
   ]
  },
  {
   "cell_type": "markdown",
   "id": "8ec87b27",
   "metadata": {},
   "source": [
    "### State space plots"
   ]
  },
  {
   "cell_type": "code",
   "execution_count": null,
   "id": "c5491888",
   "metadata": {},
   "outputs": [],
   "source": [
    "from neuralmonkey.scripts.analy_shape_invariance_all_plots_SP import statespace_scalar_plot"
   ]
  },
  {
   "cell_type": "code",
   "execution_count": null,
   "id": "5abe26de",
   "metadata": {},
   "outputs": [],
   "source": [
    "SAVEDIR = \"/tmp\"\n",
    "var_other = \"seqc_0_loc\"\n",
    "statespace_scalar_plot(DFallpa, animal, date, SAVEDIR, var_other)"
   ]
  },
  {
   "cell_type": "markdown",
   "id": "3a019409",
   "metadata": {},
   "source": [
    "### State space trajectories"
   ]
  },
  {
   "cell_type": "code",
   "execution_count": null,
   "id": "029b128d",
   "metadata": {},
   "outputs": [],
   "source": [
    "SAVEDIR_ANALYSIS = \"/tmp/traj\"\n",
    "from neuralmonkey.scripts.analy_shape_invariance_all_plots_SP import preprocess_pa\n"
   ]
  },
  {
   "cell_type": "code",
   "execution_count": null,
   "id": "4d8d3599",
   "metadata": {},
   "outputs": [],
   "source": [
    "from neuralmonkey.scripts.analy_shape_invariance_all_plots_SP import statespace_traj_plot\n",
    "var_other = \"seqc_0_loc\"\n",
    "statespace_traj_plot(DFallpa, animal, date, SAVEDIR_ANALYSIS, var_other)"
   ]
  },
  {
   "cell_type": "markdown",
   "id": "375b5655",
   "metadata": {},
   "source": [
    "### Decoder (generalization)"
   ]
  },
  {
   "cell_type": "code",
   "execution_count": null,
   "id": "2ca12bb7",
   "metadata": {},
   "outputs": [],
   "source": [
    "from neuralmonkey.scripts.analy_shape_invariance_all_plots_SP import decodercross_plot\n",
    "from neuralmonkey.analyses.decode_good import decodewrap_categorical_timeresolved_cross_condition, decodewrapouterloop_categorical_timeresolved_within_condition, decodewrapouterloop_categorical_timeresolved_cross_condition\n",
    "\n",
    "SAVEDIR = \"/tmp/DCODE\"\n",
    "os.makedirs(SAVEDIR, exist_ok=True)"
   ]
  },
  {
   "cell_type": "code",
   "execution_count": null,
   "id": "659f9bb9",
   "metadata": {},
   "outputs": [],
   "source": [
    "decodercross_plot(DFallpa, SAVEDIR_ANALYSIS=\"/tmp\")"
   ]
  },
  {
   "cell_type": "markdown",
   "id": "4b5284ab",
   "metadata": {},
   "source": [
    "# [LOAD MULT DATA] Euclidian (time-varying, here summarize)"
   ]
  },
  {
   "cell_type": "code",
   "execution_count": null,
   "id": "1a13009a",
   "metadata": {},
   "outputs": [],
   "source": [
    "# See analy_shape_invariance_all_plots_SP_MULT\n",
    "# Code copied below"
   ]
  },
  {
   "cell_type": "code",
   "execution_count": null,
   "id": "6c8baf7c",
   "metadata": {},
   "outputs": [],
   "source": [
    "LIST_ANIMAL_DATE_COMB_VAROTHER = [\n",
    "    (\"Diego\", 230615, True, \"seqc_0_loc\"), \n",
    "]\n",
    "from neuralmonkey.scripts.analy_shape_invariance_all_plots_SP import mult_load_euclidian_time_resolved\n",
    "DFDIST = mult_load_euclidian_time_resolved(LIST_ANIMAL_DATE_COMB_VAROTHER)\n"
   ]
  },
  {
   "cell_type": "code",
   "execution_count": null,
   "id": "b4a76e3a",
   "metadata": {},
   "outputs": [],
   "source": [
    "SAVEDIR_MULT = f\"/lemur2/lucas/analyses/recordings/main/shape_invariance/EUCLIDIAN/MULT\"\n"
   ]
  },
  {
   "cell_type": "code",
   "execution_count": null,
   "id": "9b873a0c",
   "metadata": {},
   "outputs": [],
   "source": [
    "# Make save directory\n",
    "a = \"_\".join(set([x[0] for x in LIST_ANIMAL_DATE_COMB_VAROTHER]))\n",
    "b = min([x[1] for x in LIST_ANIMAL_DATE_COMB_VAROTHER])\n",
    "c = max([x[1] for x in LIST_ANIMAL_DATE_COMB_VAROTHER])\n",
    "var_other = [str(x[3]) for x in LIST_ANIMAL_DATE_COMB_VAROTHER][0]\n",
    "\n",
    "### Summarize extracted cases\n",
    "savesuff = \"test\"\n",
    "SAVEDIR = f\"{SAVEDIR_MULT}/{a}-{b}-to-{c}-varother={var_other}-suff={savesuff}\"\n",
    "print(SAVEDIR)\n",
    "import os\n",
    "os.makedirs(SAVEDIR, exist_ok=True)"
   ]
  },
  {
   "cell_type": "code",
   "execution_count": null,
   "id": "e2ccdf7f",
   "metadata": {},
   "outputs": [],
   "source": [
    "from neuralmonkey.scripts.analy_euclidian_chars_sp_MULT import plot_scalar_all, plot_timecourse_all\n"
   ]
  },
  {
   "cell_type": "code",
   "execution_count": null,
   "id": "7edd7700",
   "metadata": {},
   "outputs": [],
   "source": [
    "plot_timecourse_all(DFDIST, SAVEDIR, var1=\"seqc_0_shape\", var2=var_other)"
   ]
  },
  {
   "cell_type": "code",
   "execution_count": null,
   "id": "50dbe903",
   "metadata": {},
   "outputs": [],
   "source": [
    "DFDIST"
   ]
  },
  {
   "cell_type": "code",
   "execution_count": null,
   "id": "f67a162e",
   "metadata": {},
   "outputs": [],
   "source": [
    "DFDIST[\"event\"].unique()"
   ]
  },
  {
   "cell_type": "code",
   "execution_count": null,
   "id": "bff99a59",
   "metadata": {},
   "outputs": [],
   "source": [
    "\n",
    "import os\n",
    "savedir = f\"{SAVEDIR}/SCALAR\"\n",
    "os.makedirs(SAVEDIR, exist_ok=True)\n",
    "\n",
    "map_event_to_twind = {\n",
    "        \"03_samp\":[0.1, 0.8],\n",
    "        \"05_first_raise\":[-0.5,  0.2],\n",
    "        \"06_on_strokeidx_0\":(-0.5, 0.),\n",
    "    }\n",
    "\n",
    "\n",
    "map_event_to_listtwind = {\n",
    "        \"03_samp\":[(0.05, 0.3), (0.3, 0.6), (0.05, 0.6), (0.5, 1.0)],\n",
    "        \"05_first_raise\":[(-0.5,  -0.1), (-0.1, 0.5)],\n",
    "        \"06_on_strokeidx_0\":[(-0.5, -0.1), (0, 0.5)],\n",
    "    }\n",
    "\n",
    "\n",
    "var_other = \"seqc_0_loc\"\n",
    "plot_scalar_all(DFDIST, SAVEDIR, map_event_to_listtwind, var1=\"seqc_0_shape\", var2=var_other, reverse_axis_order=True)\n",
    "\n"
   ]
  }
 ],
 "metadata": {
  "kernelspec": {
   "display_name": "drag2_matlab",
   "language": "python",
   "name": "python3"
  },
  "language_info": {
   "codemirror_mode": {
    "name": "ipython",
    "version": 3
   },
   "file_extension": ".py",
   "mimetype": "text/x-python",
   "name": "python",
   "nbconvert_exporter": "python",
   "pygments_lexer": "ipython3",
   "version": "3.8.18"
  }
 },
 "nbformat": 4,
 "nbformat_minor": 5
}
