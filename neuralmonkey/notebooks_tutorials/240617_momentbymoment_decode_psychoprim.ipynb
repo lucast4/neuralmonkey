{
 "cells": [
  {
   "cell_type": "code",
   "execution_count": 10,
   "id": "06d5b790",
   "metadata": {},
   "outputs": [
    {
     "name": "stdout",
     "output_type": "stream",
     "text": [
      "The autoreload extension is already loaded. To reload it, use:\n",
      "  %reload_ext autoreload\n"
     ]
    },
    {
     "data": {
      "text/plain": [
       "'\"\\nDevo code for moment by moment decoding --> i.e., for each time bin, find strength of representation of\\neach class of a variable (e.g., shape), as opposed to decoding average accuracy across trials.\\n\\nPsychoprim --> goal is to decoder the base prims, given an ambiguous middle prim\\n\\n'"
      ]
     },
     "execution_count": 10,
     "metadata": {},
     "output_type": "execute_result"
    }
   ],
   "source": [
    "import os\n",
    "\n",
    "%load_ext autoreload\n",
    "%autoreload 2\n",
    "\n",
    "\"\"\"\"\n",
    "Devo code for moment by moment decoding --> i.e., for each time bin, find strength of representation of\n",
    "each class of a variable (e.g., shape), as opposed to decoding average accuracy across trials.\n",
    "\n",
    "Psychoprim --> goal is to decoder the base prims, given an ambiguous middle prim\n",
    "\n",
    "\"\"\""
   ]
  },
  {
   "cell_type": "markdown",
   "id": "50813ff4",
   "metadata": {},
   "source": [
    "# Load a dataset"
   ]
  },
  {
   "cell_type": "markdown",
   "id": "8dcf10d0",
   "metadata": {},
   "source": [
    "To load and plot a dataset of neural activity across population, in a PopAnal class object.\n"
   ]
  },
  {
   "cell_type": "code",
   "execution_count": 11,
   "id": "d53ac978",
   "metadata": {},
   "outputs": [],
   "source": [
    "import pandas as pd\n",
    "import matplotlib.pyplot as plt\n",
    "\n",
    "from neuralmonkey.classes.population_mult import load_handsaved_wrapper, dfpa_match_chans_across_pa_each_bregion\n",
    "from neuralmonkey.classes.population_mult import extract_single_pa\n"
   ]
  },
  {
   "cell_type": "code",
   "execution_count": null,
   "id": "a6345314",
   "metadata": {},
   "outputs": [],
   "source": [
    "# Method 1 - load a single DFallPA\n",
    "DFallpa = load_handsaved_wrapper()\n"
   ]
  },
  {
   "cell_type": "code",
   "execution_count": 12,
   "id": "65c98009",
   "metadata": {},
   "outputs": [
    {
     "name": "stdout",
     "output_type": "stream",
     "text": [
      "TODO: Pancho -- combine circles with the tohers\n"
     ]
    }
   ],
   "source": [
    "# Method 1 - load a single DFallPA\n",
    "animal = \"Diego\"\n",
    "date = 240523\n",
    "date = 240517\n",
    "\n",
    "DFallpa = load_handsaved_wrapper(animal=animal, date=date, version=\"trial\")\n"
   ]
  },
  {
   "cell_type": "code",
   "execution_count": null,
   "id": "52dccf3f",
   "metadata": {},
   "outputs": [],
   "source": [
    "# # Method 2 - Combine two dfallpa\n",
    "# DFallpa1 = load_handsaved_wrapper(animal=\"Diego\", date=230630, version=\"trial\")\n",
    "# DFallpa2 = load_handsaved_wrapper(animal=\"Diego\", date=230630, version=\"stroke\")\n",
    "# DFallpa = pd.concat([DFallpa1, DFallpa2]).reset_index(drop=True)\n"
   ]
  },
  {
   "cell_type": "code",
   "execution_count": null,
   "id": "82df18ae",
   "metadata": {},
   "outputs": [],
   "source": [
    "# # Method 2 - Combine two dfallpa\n",
    "# animal = \"Diego\"\n",
    "# date = 231211\n",
    "# COMBINE_AREAS = True\n",
    "\n",
    "# DFallpa1 = load_handsaved_wrapper(animal=animal, date=date, version=\"trial\", combine_areas=COMBINE_AREAS, use_time=False)\n",
    "# DFallpa2 = load_handsaved_wrapper(animal=animal, date=date, version=\"stroke\", combine_areas=COMBINE_AREAS, use_time=False)\n",
    "# DFallpa = pd.concat([DFallpa1, DFallpa2]).reset_index(drop=True)\n"
   ]
  },
  {
   "cell_type": "markdown",
   "id": "dd0ab1b9",
   "metadata": {},
   "source": [
    "# Preprocessing"
   ]
  },
  {
   "cell_type": "code",
   "execution_count": null,
   "id": "4f373551",
   "metadata": {},
   "outputs": [],
   "source": [
    "from neuralmonkey.classes.population_mult import load_handsaved_wrapper, dfpa_match_chans_across_pa_each_bregion\n",
    "from neuralmonkey.classes.population_mult import extract_single_pa\n"
   ]
  },
  {
   "cell_type": "code",
   "execution_count": null,
   "id": "ea8ba91e",
   "metadata": {},
   "outputs": [],
   "source": [
    "\n",
    "# Prune to chans that are common across pa for each bregion (intersection of chans)|\n",
    "dfpa_match_chans_across_pa_each_bregion(DFallpa)"
   ]
  },
  {
   "cell_type": "code",
   "execution_count": null,
   "id": "34978a3f",
   "metadata": {},
   "outputs": [],
   "source": [
    "# SAVEDIR = f\"/lemur2/lucas/analyses/recordings/main/decode_moment/PSYCHO_SP/{animal}-{date}\"\n",
    "SAVEDIR = f\"/tmp/PSYCHO_SP/{animal}-{date}\"\n",
    "os.makedirs(SAVEDIR, exist_ok=True)\n",
    "print(SAVEDIR)"
   ]
  },
  {
   "cell_type": "markdown",
   "id": "c359b451",
   "metadata": {},
   "source": [
    "# Preprocessing"
   ]
  },
  {
   "cell_type": "markdown",
   "id": "58e793d5",
   "metadata": {},
   "source": [
    "##### Devo -- removing noisy channels"
   ]
  },
  {
   "cell_type": "code",
   "execution_count": null,
   "id": "7daefb11",
   "metadata": {},
   "outputs": [],
   "source": [
    "from neuralmonkey.classes.population_mult import dfpa_concatbregion_preprocess_clean_bad_channels\n",
    "dfpa_concatbregion_preprocess_clean_bad_channels(DFallpa, PLOT=False)"
   ]
  },
  {
   "cell_type": "markdown",
   "id": "b15877d2",
   "metadata": {},
   "source": [
    "# Sqrt normalization"
   ]
  },
  {
   "cell_type": "code",
   "execution_count": null,
   "id": "b6a7dbff",
   "metadata": {},
   "outputs": [],
   "source": [
    "for pa in DFallpa[\"pa\"]:\n",
    "    pa.X = pa.X**0.5"
   ]
  },
  {
   "cell_type": "markdown",
   "id": "2b94d963",
   "metadata": {},
   "source": [
    "### FR Normalization"
   ]
  },
  {
   "cell_type": "markdown",
   "id": "2c54ffdc",
   "metadata": {},
   "source": [
    "##### Method 1 - each PA normalize independently"
   ]
  },
  {
   "cell_type": "code",
   "execution_count": null,
   "id": "a487870a",
   "metadata": {},
   "outputs": [],
   "source": [
    "from neuralmonkey.classes.population_mult import dfallpa_preprocess_fr_normalization\n",
    "# fr_normalization_method = \"each_time_bin\"\n",
    "fr_normalization_method = \"across_time_bins\"\n",
    "plot_savedir = \"/tmp\"\n",
    "dfallpa_preprocess_fr_normalization(DFallpa, fr_normalization_method, plot_savedir)"
   ]
  },
  {
   "cell_type": "markdown",
   "id": "a282ffe4",
   "metadata": {},
   "source": [
    "##### Method 2 - Concat events (for each bregion) and normalize all same way\n"
   ]
  },
  {
   "cell_type": "code",
   "execution_count": null,
   "id": "f91505d5",
   "metadata": {},
   "outputs": [],
   "source": [
    "from neuralmonkey.classes.population_mult import dfpa_concat_normalize_fr_split_multbregion\n",
    "# fr_normalization_method = \"each_time_bin\"\n",
    "fr_normalization_method = \"across_time_bins\"\n",
    "dfpa_concat_normalize_fr_split_multbregion(DFallpa)\n"
   ]
  },
  {
   "cell_type": "markdown",
   "id": "ad140e2f",
   "metadata": {},
   "source": [
    "##### Method 3 - concat events (flexible version, only constrianed to have same n chans across PA) [works if have both trial and stroke!]"
   ]
  },
  {
   "cell_type": "code",
   "execution_count": null,
   "id": "6d72774c",
   "metadata": {},
   "outputs": [],
   "source": [
    "from neuralmonkey.classes.population_mult import dfpa_concat_normalize_fr_split_multbregion_flex\n",
    "fr_mean_subtract_method = \"across_time_bins\"\n",
    "# fr_mean_subtract_method = \"each_time_bin\"\n",
    "PLOT=False\n",
    "\n",
    "pa = DFallpa[\"pa\"].values[10]\n",
    "pa.plotNeurHeat(0)\n",
    "\n",
    "dfpa_concat_normalize_fr_split_multbregion_flex(DFallpa, fr_mean_subtract_method, PLOT)\n",
    "\n",
    "pa = DFallpa[\"pa\"].values[10]\n",
    "pa.plotNeurHeat(0)"
   ]
  },
  {
   "cell_type": "markdown",
   "id": "1a5c9cf9",
   "metadata": {},
   "source": [
    "# Extract relevant variables\n"
   ]
  },
  {
   "cell_type": "code",
   "execution_count": null,
   "id": "3dd76772",
   "metadata": {},
   "outputs": [],
   "source": [
    "from neuralmonkey.scripts.analy_pig_decode_moment_syntaxTI import dfallpa_preprocess_condition\n",
    "# shape_var_suff = \"shapesemgrp\"|\n",
    "# loc_var_suff = \"loc_on_clust\"\n",
    "shape_var_suff = \"shape\"\n",
    "loc_var_suff = \"loc\"\n",
    "dfallpa_preprocess_condition(DFallpa, shape_var_suff, loc_var_suff)"
   ]
  },
  {
   "cell_type": "markdown",
   "id": "9d08206a",
   "metadata": {},
   "source": [
    "# Extract beh data"
   ]
  },
  {
   "cell_type": "code",
   "execution_count": null,
   "id": "0995823b",
   "metadata": {},
   "outputs": [],
   "source": [
    "from neuralmonkey.analyses.decode_moment import analy_psychoprim_prepare_beh_dataset\n",
    "DSmorphsets, map_tc_to_morph_info, map_morphset_to_basemorphinfo, map_tcmorphset_to_idxmorph, map_tcmorphset_to_info, map_morphsetidx_to_assignedbase_or_ambig, map_tc_to_morph_status = analy_psychoprim_prepare_beh_dataset(animal, date)"
   ]
  },
  {
   "cell_type": "markdown",
   "id": "257fa5de",
   "metadata": {},
   "source": [
    "# Train / test"
   ]
  },
  {
   "cell_type": "code",
   "execution_count": null,
   "id": "078863e0",
   "metadata": {},
   "outputs": [],
   "source": [
    "from neuralmonkey.analyses.decode_moment import train_decoder_helper, pipeline_train_test_scalar_score, pipeline_train_test_scalar_score_with_splits, pipeline_train_test_scalar_score_mult_train_dataset, test_decoder_helper, train_decoder_helper_extract_train_dataset\n",
    "from neuralmonkey.scripts.analy_pig_decode_moment_syntaxTI import get_dataset_params\n",
    "import os"
   ]
  },
  {
   "cell_type": "code",
   "execution_count": null,
   "id": "643ca92e",
   "metadata": {},
   "outputs": [],
   "source": [
    "# get list of base prim names"
   ]
  },
  {
   "cell_type": "markdown",
   "id": "0a37ca80",
   "metadata": {},
   "source": [
    "### [GOOD] Train on data for a specific morphset -- get average score across trials\n"
   ]
  },
  {
   "cell_type": "code",
   "execution_count": null,
   "id": "14c0e041",
   "metadata": {},
   "outputs": [],
   "source": [
    "from pythonlib.tools.plottools import savefig\n",
    "# SAVEDIR = \"/tmp/decoder_each_morphset\"\n",
    "print(SAVEDIR)"
   ]
  },
  {
   "cell_type": "markdown",
   "id": "701c3c5d",
   "metadata": {},
   "source": [
    "##### [GOOD] Loop over all morphsets"
   ]
  },
  {
   "cell_type": "code",
   "execution_count": null,
   "id": "2507aaa7",
   "metadata": {},
   "outputs": [],
   "source": [
    "from neuralmonkey.analyses.decode_moment import analy_psychoprim_score_postsamp\n",
    "analy_psychoprim_score_postsamp(DFallpa, DSmorphsets, \n",
    "                                    map_tcmorphset_to_idxmorph, map_morphsetidx_to_assignedbase_or_ambig,\n",
    "                                    map_tcmorphset_to_info,\n",
    "                                    SAVEDIR, animal, date)"
   ]
  },
  {
   "cell_type": "markdown",
   "id": "b71e7610",
   "metadata": {},
   "source": [
    "##### METHOD 2 -- new - doing train/test split -- ask if base1/base2 decoders are better than own decoder (for ambig tasks)"
   ]
  },
  {
   "cell_type": "code",
   "execution_count": null,
   "id": "ac268c88",
   "metadata": {},
   "outputs": [],
   "source": [
    "from neuralmonkey.analyses.decode_moment import analy_psychoprim_score_postsamp_better, _analy_psychoprim_score_postsamp_plot_scores\n",
    "\n",
    "\n",
    "SAVEDIR_BASE = \"/tmp/PSYCHOPRIM\"\n",
    "analy_psychoprim_score_postsamp_better(DFallpa, DSmorphsets, \n",
    "                                    map_tcmorphset_to_idxmorph, map_morphsetidx_to_assignedbase_or_ambig,\n",
    "                                    map_tcmorphset_to_info,\n",
    "                                    SAVEDIR_BASE, PLOT_EACH_IDX=False)\n"
   ]
  },
  {
   "cell_type": "markdown",
   "id": "1b75fa95",
   "metadata": {},
   "source": [
    "##### METHOD 3 - like method 2 (i..e, using train/test split) but doing one analysis for each morphset (as oposed to each morph task)"
   ]
  },
  {
   "cell_type": "code",
   "execution_count": null,
   "id": "7dc9fb76",
   "metadata": {},
   "outputs": [],
   "source": [
    "from neuralmonkey.analyses.decode_moment import _analy_psychoprim_score_postsamp_plot_scores, analy_psychoprim_dfscores_condition\n"
   ]
  },
  {
   "cell_type": "code",
   "execution_count": null,
   "id": "80b12667",
   "metadata": {},
   "outputs": [],
   "source": [
    "SAVEDIR_BASE = \"/tmp/PSYCHONEW\"\n",
    "import seaborn as sns\n",
    "from pythonlib.tools.pandastools import savefig\n",
    "from pythonlib.tools.pandastools import grouping_plot_n_samples_conjunction_heatmap\n"
   ]
  },
  {
   "cell_type": "code",
   "execution_count": null,
   "id": "f39fe38c",
   "metadata": {},
   "outputs": [],
   "source": [
    "bregion = \"PMv\"\n",
    "list_bregion = [bregion]\n",
    "\n",
    "# train_on_which_prims = \"all\" # all within morpjset\n",
    "# train_on_which_prims = \"base\" # just the 2 base prims\n",
    "\n"
   ]
  },
  {
   "cell_type": "code",
   "execution_count": null,
   "id": "92e6dd9f",
   "metadata": {},
   "outputs": [],
   "source": [
    "version = 1\n",
    "from pythonlib.tools.pandastools import grouping_plot_n_samples_conjunction_heatmap\n"
   ]
  },
  {
   "cell_type": "code",
   "execution_count": null,
   "id": "cb4d446e",
   "metadata": {},
   "outputs": [],
   "source": [
    "do_agg_of_user_test_data"
   ]
  },
  {
   "cell_type": "code",
   "execution_count": null,
   "id": "2ed19d64",
   "metadata": {},
   "outputs": [],
   "source": [
    "dfscores_both"
   ]
  },
  {
   "cell_type": "code",
   "execution_count": null,
   "id": "e3d8ca4b",
   "metadata": {},
   "outputs": [],
   "source": []
  },
  {
   "cell_type": "code",
   "execution_count": null,
   "id": "e0c6d960",
   "metadata": {},
   "outputs": [],
   "source": [
    "savedir = f\"{SAVEDIR}/{bregion}/morphset={morphset}/plots\"\n",
    "os.makedirs(savedir, exist_ok=True)\n",
    "print(\"Saving plots at... \", savedir)\n",
    "_analy_psychoprim_score_postsamp_plot_scores(dfscores, savedir)\n"
   ]
  },
  {
   "cell_type": "code",
   "execution_count": null,
   "id": "065d3ea9",
   "metadata": {},
   "outputs": [],
   "source": [
    "# 1. restrucict to idx_within that have a given set of decoders.\n",
    "# 2. \n",
    "from pythonlib.tools.pandastools import extract_with_levels_of_conjunction_vars\n",
    "\n",
    "# Clean comparison\n",
    "levels_get = [\"base1\", \"same\", \"base2\"]\n",
    "lenient_allow_data_if_has_n_levels = 2\n",
    "# lenient_allow_data_if_has_n_levels = len(levels_get)\n",
    "\n",
    "n_min = 1\n",
    "dfscores_this, dict_dfthis = extract_with_levels_of_conjunction_vars(DFSCORES, \"decoder_class_semantic_good\", \n",
    "                                                             [\"morph_set_idx|idx_within\"], levels_get, n_min,  \n",
    "                                                             lenient_allow_data_if_has_n_levels=lenient_allow_data_if_has_n_levels,\n",
    "                                                             prune_levels_with_low_n=True, \n",
    "                                                             plot_counts_heatmap_savepath=\"/tmp/counts.png\")\n",
    "\n",
    "from pythonlib.tools.pandastools import aggregGeneral\n",
    "dfscores_this_agg = aggregGeneral(dfscores_this, [\"morph_set_idx|idx_within\", \"pa_class\", \"decoder_class\"], [\"score\"], nonnumercols=\"all\")\n",
    "\n",
    "_analy_psychoprim_score_postsamp_plot_scores(dfscores_this_agg, savedir)\n"
   ]
  },
  {
   "cell_type": "code",
   "execution_count": null,
   "id": "4bcf9f2b",
   "metadata": {},
   "outputs": [],
   "source": [
    "dfscores_this"
   ]
  },
  {
   "cell_type": "code",
   "execution_count": null,
   "id": "e6b10715",
   "metadata": {},
   "outputs": [],
   "source": [
    "dfscores.columns"
   ]
  },
  {
   "cell_type": "code",
   "execution_count": null,
   "id": "faaeaffa",
   "metadata": {},
   "outputs": [],
   "source": [
    "\n",
    "# # Plot \n",
    "# var_score = \"score\"\n",
    "# x_var = \"decoder_class_semantic_good\"\n",
    "# x_order = (\"base1\", \"interm1\", \"same\", \"interm2\", \"base2\")\n",
    "# col = \"trial_morph_assigned_to_which_base\"\n",
    "# fig = sns.catplot(data=dfscores_this, x=x_var, y=var_score, hue = \"morph_set_idx\", kind=\"point\", errorbar=(\"ci\", 68), \n",
    "#                 col=col, order=x_order)\n",
    "# for ax in fig.axes.flatten():\n",
    "#     ax.axhline(0, color=\"k\", alpha=0.3)\n",
    "# savefig(fig, f\"{savedir}/decoder_class-x_var={x_var}-var_score={var_score}-col={col}-4.pdf\")\n",
    "\n",
    "# fig = sns.catplot(data=dfscores_this, x=x_var, y=var_score, hue = \"morph_set_idx|idx_within\", kind=\"point\", errorbar=(\"ci\", 68), \n",
    "#                 col=col, order=x_order)\n",
    "# for ax in fig.axes.flatten():\n",
    "#     ax.axhline(0, color=\"k\", alpha=0.3)\n",
    "# savefig(fig, f\"{savedir}/decoder_class-x_var={x_var}-var_score={var_score}-col={col}-4b.pdf\")\n",
    "\n",
    "##### Q: is the intermediate lower than same and base?\n",
    "# levels_get = [\"base1\", \"interm1\", \"same\"]\n",
    "# levels_get = [\"base2\", \"interm2\", \"same\"]\n",
    "# levels_get = [\"base2\", \"interm2\", \"same\"]\n",
    "levels_get = [\"same\", \"intermthis\", \"basethis\"]\n",
    "\n",
    "# Clean comparison\n",
    "lenient_allow_data_if_has_n_levels = len(levels_get)\n",
    "\n",
    "n_min = 1\n",
    "dfscores_this, dict_dfthis = extract_with_levels_of_conjunction_vars(DFSCORES, \"recoded_decoder\", \n",
    "                                                             [\"morph_set_idx|idx_within\"], levels_get, n_min,  \n",
    "                                                             lenient_allow_data_if_has_n_levels=lenient_allow_data_if_has_n_levels,\n",
    "                                                             prune_levels_with_low_n=True, \n",
    "                                                             plot_counts_heatmap_savepath=\"/tmp/counts.png\")\n",
    "\n",
    "from pythonlib.tools.pandastools import aggregGeneral\n",
    "# dfscores_this_agg = aggregGeneral(dfscores_this, [\"morph_set_idx|idx_within\", \"pa_class\", \"decoder_class\", \"trial_morph_assigned_to_which_base\"], [\"score\"], nonnumercols=\"all\")\n",
    "\n",
    "_analy_psychoprim_score_postsamp_plot_scores(dfscores_this_agg, savedir)\n",
    "\n"
   ]
  },
  {
   "cell_type": "code",
   "execution_count": null,
   "id": "33d6f8d4",
   "metadata": {},
   "outputs": [],
   "source": [
    "\n",
    "# Plot \n",
    "# 1. restrucict to idx_within that have a given set of decoders.\n",
    "# 2. \n",
    "from pythonlib.tools.pandastools import extract_with_levels_of_conjunction_vars\n",
    "\n",
    "##### Q: \n",
    "# match the morphset to ask whether ambig is diff from not-ambig\n",
    "levels_get = [\"not_ambig_base1\", \"ambig_base1\"]\n",
    "n_min = 1\n",
    "dfscores_this, dict_dfthis = extract_with_levels_of_conjunction_vars(DFSCORES, \"trial_morph_assigned_to_which_base\", \n",
    "                                                             [\"morph_set_idx\", \"decoder_class_semantic_good\"], levels_get, n_min,  \n",
    "                                                             lenient_allow_data_if_has_n_levels=len(levels_get), \n",
    "                                                             prune_levels_with_low_n=True, \n",
    "                                                             plot_counts_heatmap_savepath=\"/tmp/counts.png\")\n",
    "\n",
    "from pythonlib.tools.pandastools import aggregGeneral\n",
    "dfscores_this_agg = aggregGeneral(dfscores_this, [\"morph_set_idx|idx_within\", \"pa_class\", \"decoder_class\"], [\"score\"], nonnumercols=\"all\")\n",
    "\n",
    "_analy_psychoprim_score_postsamp_plot_scores(dfscores_this_agg, savedir)\n",
    "\n",
    "# # Plot \n",
    "# var_score = \"score\"\n",
    "# x_var = \"decoder_class_semantic_good\"\n",
    "# x_order = (\"base1\", \"interm1\", \"same\", \"interm2\", \"base2\")\n",
    "# col = \"trial_morph_assigned_to_which_base\"\n",
    "# fig = sns.catplot(data=dfscores_this, x=x_var, y=var_score, hue = \"morph_set_idx\", kind=\"point\", errorbar=(\"ci\", 68), \n",
    "#                 col=col, order=x_order)\n",
    "# for ax in fig.axes.flatten():\n",
    "#     ax.axhline(0, color=\"k\", alpha=0.3)\n",
    "# savefig(fig, f\"{savedir}/decoder_class-x_var={x_var}-var_score={var_score}-col={col}-4.pdf\")\n",
    "\n",
    "# fig = sns.catplot(data=dfscores_this, x=x_var, y=var_score, hue = \"morph_set_idx|idx_within\", kind=\"point\", errorbar=(\"ci\", 68), \n",
    "#                 col=col, order=x_order)\n",
    "# for ax in fig.axes.flatten():\n",
    "#     ax.axhline(0, color=\"k\", alpha=0.3)\n",
    "# savefig(fig, f\"{savedir}/decoder_class-x_var={x_var}-var_score={var_score}-col={col}-4b.pdf\")\n"
   ]
  },
  {
   "cell_type": "code",
   "execution_count": null,
   "id": "c362e50d",
   "metadata": {},
   "outputs": [],
   "source": [
    "sdir = \"/tmp/test\"\n",
    "os.makedirs(sdir, exist_ok=True)\n",
    "Dc.scalar_score_df_plot_summary(dfscores_testsplit, sdir)"
   ]
  },
  {
   "cell_type": "code",
   "execution_count": null,
   "id": "faebef95",
   "metadata": {},
   "outputs": [],
   "source": [
    "from pythonlib.tools.pandastools import plot_45scatter_means_flexible_grouping\n",
    "dfthis = dfscores_testsplit\n",
    "var_score = \"score\"\n",
    "task_vars = [\"morph_set_idx\", \"pa_class\"]\n",
    "\n",
    "_, fig = plot_45scatter_means_flexible_grouping(dfthis, \"decoder_class_semantic_good\", \"base1\", \"base2\",\n",
    "                                    \"trial_morph_assigned_to_which_base\", var_score, task_vars,\n",
    "                                    plot_text=True, shareaxes=True, SIZE=6, alpha=0.3);\n",
    "\n",
    "_, fig = plot_45scatter_means_flexible_grouping(dfthis, \"trial_morph_assigned_to_which_base\", \"ambig_base1\", \"ambig_base2\",\n",
    "                                    \"decoder_class\", var_score, task_vars,\n",
    "                                    plot_text=True, shareaxes=True, SIZE=6, alpha=0.3);\n",
    "# savefig(fig, f\"{savedir}/scatter-x=decoder_class_semantic_good-y=trial_morph_assigned_to_which_base-dfthis_str={dfthis_str}-var_score={var_score}.pdf\")\n"
   ]
  },
  {
   "cell_type": "code",
   "execution_count": null,
   "id": "1e47c219",
   "metadata": {},
   "outputs": [],
   "source": [
    "DcNull = Dc"
   ]
  },
  {
   "cell_type": "code",
   "execution_count": null,
   "id": "43093170",
   "metadata": {},
   "outputs": [],
   "source": [
    "DcNoNull = Dc"
   ]
  },
  {
   "cell_type": "markdown",
   "id": "f1446e30",
   "metadata": {},
   "source": [
    "# MULTIPLE AREAS - combined analysis, loading all saved data"
   ]
  },
  {
   "cell_type": "code",
   "execution_count": 7,
   "id": "aac6e3f8",
   "metadata": {},
   "outputs": [],
   "source": [
    "import pandas as pd\n",
    "from neuralmonkey.classes.session import _REGIONS_IN_ORDER, _REGIONS_IN_ORDER_COMBINED\n",
    "from pythonlib.tools.pandastools import grouping_plot_n_samples_conjunction_heatmap, stringify_values, aggregGeneral\n",
    "from neuralmonkey.scripts.analy_decode_moment_psychometric import prune_dfscores_good_morphset\n"
   ]
  },
  {
   "cell_type": "code",
   "execution_count": 8,
   "id": "548173ff",
   "metadata": {},
   "outputs": [],
   "source": [
    "def _plot(dfscores, huevar, xvar, xvalues, huevalues, savedir):\n",
    "    from pythonlib.tools.pandastools import plot_subplots_heatmap\n",
    "    import seaborn as sns\n",
    "    from pythonlib.tools.snstools import rotateLabel\n",
    "    from pythonlib.tools.pandastools import savefig\n",
    "\n",
    "    for var_score, diverge in [(\"score\", False), (\"score_adjusted\", True)]:\n",
    "        fig, _ = plot_subplots_heatmap(dfscores, huevar, xvar, \n",
    "                            var_score, \"bregion\", share_zlim=True, diverge=diverge,\n",
    "                            row_values=huevalues, col_values=xvalues)\n",
    "        savefig(fig, f\"{savedir}/heatmap-varscore={var_score}.pdf\")\n",
    "    plt.close(\"all\")\n",
    "\n",
    "    # Plot as point plot\n",
    "    for kind in [\"point\", \"bar\"]:\n",
    "        for var_score in [\"score\", \"score_adjusted\"]:\n",
    "\n",
    "            fig = sns.catplot(data=dfscores, x=xvar, y=var_score, hue=huevar, \n",
    "                        col=\"bregion\", col_wrap=6, kind=kind, errorbar=(\"ci\", 68),\n",
    "                        order = xvalues)\n",
    "            if var_score == \"score\":\n",
    "                yzero = 0.5\n",
    "            else:\n",
    "                yzero = 0.\n",
    "            for ax in fig.axes.flatten():\n",
    "                ax.axhline(yzero)            \n",
    "            rotateLabel(fig)\n",
    "            savefig(fig, f\"{savedir}/catplot-varscore={var_score}-kind={kind}.pdf\")\n",
    "    plt.close(\"all\")\n",
    "\n",
    "    kind = \"point\"\n",
    "    for var_score in [\"score\", \"score_adjusted\"]:\n",
    "\n",
    "        fig = sns.catplot(data=dfscores, x=xvar, y=var_score, hue=\"morph_set_idx\", \n",
    "                            row=huevar, col=\"bregion\", kind=kind, errorbar=(\"ci\", 68), order = xvalues)\n",
    "        if var_score == \"score\":\n",
    "            yzero = 0.5\n",
    "        else:\n",
    "            yzero = 0.\n",
    "        for ax in fig.axes.flatten():\n",
    "            ax.axhline(yzero)            \n",
    "        rotateLabel(fig)\n",
    "        savefig(fig, f\"{savedir}/catplot-varscore={var_score}-kind={kind}-splitby-morph_set_idx.pdf\")\n",
    "    plt.close(\"all\")\n",
    "\n"
   ]
  },
  {
   "cell_type": "code",
   "execution_count": 9,
   "id": "1cf9b144",
   "metadata": {},
   "outputs": [
    {
     "name": "stdout",
     "output_type": "stream",
     "text": [
      "Loading ...  /lemur2/lucas/analyses/recordings/main/decode_moment/PSYCHO_SP/Pancho-240524-logistic-combine=True/downsample_trials=False-TWIND_TEST=(0.05, 1.2)-version=1/M1/DFSCORES.pkl\n",
      "Loading ...  /lemur2/lucas/analyses/recordings/main/decode_moment/PSYCHO_SP/Pancho-240524-logistic-combine=True/downsample_trials=False-TWIND_TEST=(0.05, 1.2)-version=1/PMv/DFSCORES.pkl\n",
      "Loading ...  /lemur2/lucas/analyses/recordings/main/decode_moment/PSYCHO_SP/Pancho-240524-logistic-combine=True/downsample_trials=False-TWIND_TEST=(0.05, 1.2)-version=1/PMd/DFSCORES.pkl\n",
      "Loading ...  /lemur2/lucas/analyses/recordings/main/decode_moment/PSYCHO_SP/Pancho-240524-logistic-combine=True/downsample_trials=False-TWIND_TEST=(0.05, 1.2)-version=1/dlPFC/DFSCORES.pkl\n",
      "Loading ...  /lemur2/lucas/analyses/recordings/main/decode_moment/PSYCHO_SP/Pancho-240524-logistic-combine=True/downsample_trials=False-TWIND_TEST=(0.05, 1.2)-version=1/vlPFC/DFSCORES.pkl\n",
      "Loading ...  /lemur2/lucas/analyses/recordings/main/decode_moment/PSYCHO_SP/Pancho-240524-logistic-combine=True/downsample_trials=False-TWIND_TEST=(0.05, 1.2)-version=1/FP/DFSCORES.pkl\n",
      "Loading ...  /lemur2/lucas/analyses/recordings/main/decode_moment/PSYCHO_SP/Pancho-240524-logistic-combine=True/downsample_trials=False-TWIND_TEST=(0.05, 1.2)-version=1/SMA/DFSCORES.pkl\n",
      "Loading ...  /lemur2/lucas/analyses/recordings/main/decode_moment/PSYCHO_SP/Pancho-240524-logistic-combine=True/downsample_trials=False-TWIND_TEST=(0.05, 1.2)-version=1/preSMA/DFSCORES.pkl\n",
      "SAving at:  /lemur2/lucas/analyses/recordings/main/decode_moment/PSYCHO_SP/Pancho-240524-logistic-combine=True/downsample_trials=False-TWIND_TEST=(0.05, 1.2)-version=1/MULT_BREGION\n",
      "morphset_get: None\n",
      "morphsets_ignore:  []\n",
      "morphsets_exist:  [0, 1, 2, 3, 4, 5, 6, 7, 8]\n",
      "morphsets_keep:  [0, 1, 2, 3, 4, 5, 6, 7, 8]\n",
      "morphsets_exist (after pruen):  [0, 1, 2, 3, 4, 5, 6, 7, 8]\n"
     ]
    },
    {
     "name": "stderr",
     "output_type": "stream",
     "text": [
      "/home/lucas/miniconda3/envs/drag2_matlab/lib/python3.8/site-packages/seaborn/axisgrid.py:118: UserWarning: The figure layout has changed to tight\n",
      "  self._figure.tight_layout(*args, **kwargs)\n",
      "/home/lucas/miniconda3/envs/drag2_matlab/lib/python3.8/site-packages/seaborn/axisgrid.py:118: UserWarning: The figure layout has changed to tight\n",
      "  self._figure.tight_layout(*args, **kwargs)\n",
      "/home/lucas/miniconda3/envs/drag2_matlab/lib/python3.8/site-packages/seaborn/axisgrid.py:118: UserWarning: The figure layout has changed to tight\n",
      "  self._figure.tight_layout(*args, **kwargs)\n",
      "/home/lucas/miniconda3/envs/drag2_matlab/lib/python3.8/site-packages/seaborn/axisgrid.py:118: UserWarning: The figure layout has changed to tight\n",
      "  self._figure.tight_layout(*args, **kwargs)\n",
      "/home/lucas/miniconda3/envs/drag2_matlab/lib/python3.8/site-packages/seaborn/axisgrid.py:118: UserWarning: The figure layout has changed to tight\n",
      "  self._figure.tight_layout(*args, **kwargs)\n",
      "/home/lucas/miniconda3/envs/drag2_matlab/lib/python3.8/site-packages/seaborn/axisgrid.py:118: UserWarning: The figure layout has changed to tight\n",
      "  self._figure.tight_layout(*args, **kwargs)\n",
      "/home/lucas/miniconda3/envs/drag2_matlab/lib/python3.8/site-packages/seaborn/axisgrid.py:118: UserWarning: The figure layout has changed to tight\n",
      "  self._figure.tight_layout(*args, **kwargs)\n",
      "/home/lucas/miniconda3/envs/drag2_matlab/lib/python3.8/site-packages/seaborn/axisgrid.py:118: UserWarning: The figure layout has changed to tight\n",
      "  self._figure.tight_layout(*args, **kwargs)\n",
      "/home/lucas/miniconda3/envs/drag2_matlab/lib/python3.8/site-packages/seaborn/axisgrid.py:118: UserWarning: The figure layout has changed to tight\n",
      "  self._figure.tight_layout(*args, **kwargs)\n",
      "/home/lucas/miniconda3/envs/drag2_matlab/lib/python3.8/site-packages/seaborn/axisgrid.py:118: UserWarning: The figure layout has changed to tight\n",
      "  self._figure.tight_layout(*args, **kwargs)\n",
      "/home/lucas/miniconda3/envs/drag2_matlab/lib/python3.8/site-packages/seaborn/axisgrid.py:118: UserWarning: The figure layout has changed to tight\n",
      "  self._figure.tight_layout(*args, **kwargs)\n",
      "/home/lucas/miniconda3/envs/drag2_matlab/lib/python3.8/site-packages/seaborn/axisgrid.py:118: UserWarning: The figure layout has changed to tight\n",
      "  self._figure.tight_layout(*args, **kwargs)\n"
     ]
    },
    {
     "name": "stdout",
     "output_type": "stream",
     "text": [
      "morphset_get: good_ones\n",
      "morphsets_ignore:  [4]\n",
      "morphsets_exist:  [0, 1, 2, 3, 4, 5, 6, 7, 8]\n",
      "morphsets_keep:  [0, 1, 2, 3, 5, 6, 7, 8]\n",
      "morphsets_exist (after pruen):  [0, 1, 2, 3, 5, 6, 7, 8]\n"
     ]
    },
    {
     "name": "stderr",
     "output_type": "stream",
     "text": [
      "/home/lucas/miniconda3/envs/drag2_matlab/lib/python3.8/site-packages/seaborn/axisgrid.py:118: UserWarning: The figure layout has changed to tight\n",
      "  self._figure.tight_layout(*args, **kwargs)\n",
      "/home/lucas/miniconda3/envs/drag2_matlab/lib/python3.8/site-packages/seaborn/axisgrid.py:118: UserWarning: The figure layout has changed to tight\n",
      "  self._figure.tight_layout(*args, **kwargs)\n",
      "/home/lucas/miniconda3/envs/drag2_matlab/lib/python3.8/site-packages/seaborn/axisgrid.py:118: UserWarning: The figure layout has changed to tight\n",
      "  self._figure.tight_layout(*args, **kwargs)\n",
      "/home/lucas/miniconda3/envs/drag2_matlab/lib/python3.8/site-packages/seaborn/axisgrid.py:118: UserWarning: The figure layout has changed to tight\n",
      "  self._figure.tight_layout(*args, **kwargs)\n",
      "/home/lucas/miniconda3/envs/drag2_matlab/lib/python3.8/site-packages/seaborn/axisgrid.py:118: UserWarning: The figure layout has changed to tight\n",
      "  self._figure.tight_layout(*args, **kwargs)\n",
      "/home/lucas/miniconda3/envs/drag2_matlab/lib/python3.8/site-packages/seaborn/axisgrid.py:118: UserWarning: The figure layout has changed to tight\n",
      "  self._figure.tight_layout(*args, **kwargs)\n",
      "/home/lucas/miniconda3/envs/drag2_matlab/lib/python3.8/site-packages/seaborn/axisgrid.py:118: UserWarning: The figure layout has changed to tight\n",
      "  self._figure.tight_layout(*args, **kwargs)\n",
      "/home/lucas/miniconda3/envs/drag2_matlab/lib/python3.8/site-packages/seaborn/axisgrid.py:118: UserWarning: The figure layout has changed to tight\n",
      "  self._figure.tight_layout(*args, **kwargs)\n",
      "/home/lucas/miniconda3/envs/drag2_matlab/lib/python3.8/site-packages/seaborn/axisgrid.py:118: UserWarning: The figure layout has changed to tight\n",
      "  self._figure.tight_layout(*args, **kwargs)\n",
      "/home/lucas/miniconda3/envs/drag2_matlab/lib/python3.8/site-packages/seaborn/axisgrid.py:118: UserWarning: The figure layout has changed to tight\n",
      "  self._figure.tight_layout(*args, **kwargs)\n",
      "/home/lucas/miniconda3/envs/drag2_matlab/lib/python3.8/site-packages/seaborn/axisgrid.py:118: UserWarning: The figure layout has changed to tight\n",
      "  self._figure.tight_layout(*args, **kwargs)\n",
      "/home/lucas/miniconda3/envs/drag2_matlab/lib/python3.8/site-packages/seaborn/axisgrid.py:118: UserWarning: The figure layout has changed to tight\n",
      "  self._figure.tight_layout(*args, **kwargs)\n"
     ]
    },
    {
     "name": "stdout",
     "output_type": "stream",
     "text": [
      "morphset_get: None\n",
      "morphsets_ignore:  []\n",
      "morphsets_exist:  [0, 1, 2, 3, 4, 5, 6, 7, 8]\n",
      "morphsets_keep:  [0, 1, 2, 3, 4, 5, 6, 7, 8]\n",
      "morphsets_exist (after pruen):  [0, 1, 2, 3, 4, 5, 6, 7, 8]\n"
     ]
    },
    {
     "name": "stderr",
     "output_type": "stream",
     "text": [
      "/home/lucas/miniconda3/envs/drag2_matlab/lib/python3.8/site-packages/seaborn/axisgrid.py:118: UserWarning: The figure layout has changed to tight\n",
      "  self._figure.tight_layout(*args, **kwargs)\n",
      "/home/lucas/miniconda3/envs/drag2_matlab/lib/python3.8/site-packages/seaborn/axisgrid.py:118: UserWarning: The figure layout has changed to tight\n",
      "  self._figure.tight_layout(*args, **kwargs)\n",
      "/home/lucas/miniconda3/envs/drag2_matlab/lib/python3.8/site-packages/seaborn/axisgrid.py:118: UserWarning: The figure layout has changed to tight\n",
      "  self._figure.tight_layout(*args, **kwargs)\n",
      "/home/lucas/miniconda3/envs/drag2_matlab/lib/python3.8/site-packages/seaborn/axisgrid.py:118: UserWarning: The figure layout has changed to tight\n",
      "  self._figure.tight_layout(*args, **kwargs)\n",
      "/home/lucas/miniconda3/envs/drag2_matlab/lib/python3.8/site-packages/seaborn/axisgrid.py:118: UserWarning: The figure layout has changed to tight\n",
      "  self._figure.tight_layout(*args, **kwargs)\n",
      "/home/lucas/miniconda3/envs/drag2_matlab/lib/python3.8/site-packages/seaborn/axisgrid.py:118: UserWarning: The figure layout has changed to tight\n",
      "  self._figure.tight_layout(*args, **kwargs)\n",
      "/home/lucas/miniconda3/envs/drag2_matlab/lib/python3.8/site-packages/seaborn/axisgrid.py:118: UserWarning: The figure layout has changed to tight\n",
      "  self._figure.tight_layout(*args, **kwargs)\n",
      "/home/lucas/miniconda3/envs/drag2_matlab/lib/python3.8/site-packages/seaborn/axisgrid.py:118: UserWarning: The figure layout has changed to tight\n",
      "  self._figure.tight_layout(*args, **kwargs)\n",
      "/home/lucas/miniconda3/envs/drag2_matlab/lib/python3.8/site-packages/seaborn/axisgrid.py:118: UserWarning: The figure layout has changed to tight\n",
      "  self._figure.tight_layout(*args, **kwargs)\n",
      "/home/lucas/miniconda3/envs/drag2_matlab/lib/python3.8/site-packages/seaborn/axisgrid.py:118: UserWarning: The figure layout has changed to tight\n",
      "  self._figure.tight_layout(*args, **kwargs)\n",
      "/home/lucas/miniconda3/envs/drag2_matlab/lib/python3.8/site-packages/seaborn/axisgrid.py:118: UserWarning: The figure layout has changed to tight\n",
      "  self._figure.tight_layout(*args, **kwargs)\n",
      "/home/lucas/miniconda3/envs/drag2_matlab/lib/python3.8/site-packages/seaborn/axisgrid.py:118: UserWarning: The figure layout has changed to tight\n",
      "  self._figure.tight_layout(*args, **kwargs)\n"
     ]
    },
    {
     "name": "stdout",
     "output_type": "stream",
     "text": [
      "morphset_get: good_ones\n",
      "morphsets_ignore:  [4]\n",
      "morphsets_exist:  [0, 1, 2, 3, 4, 5, 6, 7, 8]\n",
      "morphsets_keep:  [0, 1, 2, 3, 5, 6, 7, 8]\n",
      "morphsets_exist (after pruen):  [0, 1, 2, 3, 5, 6, 7, 8]\n"
     ]
    },
    {
     "name": "stderr",
     "output_type": "stream",
     "text": [
      "/home/lucas/miniconda3/envs/drag2_matlab/lib/python3.8/site-packages/seaborn/axisgrid.py:118: UserWarning: The figure layout has changed to tight\n",
      "  self._figure.tight_layout(*args, **kwargs)\n",
      "/home/lucas/miniconda3/envs/drag2_matlab/lib/python3.8/site-packages/seaborn/axisgrid.py:118: UserWarning: The figure layout has changed to tight\n",
      "  self._figure.tight_layout(*args, **kwargs)\n",
      "/home/lucas/miniconda3/envs/drag2_matlab/lib/python3.8/site-packages/seaborn/axisgrid.py:118: UserWarning: The figure layout has changed to tight\n",
      "  self._figure.tight_layout(*args, **kwargs)\n",
      "/home/lucas/miniconda3/envs/drag2_matlab/lib/python3.8/site-packages/seaborn/axisgrid.py:118: UserWarning: The figure layout has changed to tight\n",
      "  self._figure.tight_layout(*args, **kwargs)\n",
      "/home/lucas/miniconda3/envs/drag2_matlab/lib/python3.8/site-packages/seaborn/axisgrid.py:118: UserWarning: The figure layout has changed to tight\n",
      "  self._figure.tight_layout(*args, **kwargs)\n",
      "/home/lucas/miniconda3/envs/drag2_matlab/lib/python3.8/site-packages/seaborn/axisgrid.py:118: UserWarning: The figure layout has changed to tight\n",
      "  self._figure.tight_layout(*args, **kwargs)\n",
      "/home/lucas/miniconda3/envs/drag2_matlab/lib/python3.8/site-packages/seaborn/axisgrid.py:118: UserWarning: The figure layout has changed to tight\n",
      "  self._figure.tight_layout(*args, **kwargs)\n",
      "/home/lucas/miniconda3/envs/drag2_matlab/lib/python3.8/site-packages/seaborn/axisgrid.py:118: UserWarning: The figure layout has changed to tight\n",
      "  self._figure.tight_layout(*args, **kwargs)\n",
      "/home/lucas/miniconda3/envs/drag2_matlab/lib/python3.8/site-packages/seaborn/axisgrid.py:118: UserWarning: The figure layout has changed to tight\n",
      "  self._figure.tight_layout(*args, **kwargs)\n",
      "/home/lucas/miniconda3/envs/drag2_matlab/lib/python3.8/site-packages/seaborn/axisgrid.py:118: UserWarning: The figure layout has changed to tight\n",
      "  self._figure.tight_layout(*args, **kwargs)\n",
      "/home/lucas/miniconda3/envs/drag2_matlab/lib/python3.8/site-packages/seaborn/axisgrid.py:118: UserWarning: The figure layout has changed to tight\n",
      "  self._figure.tight_layout(*args, **kwargs)\n",
      "/home/lucas/miniconda3/envs/drag2_matlab/lib/python3.8/site-packages/seaborn/axisgrid.py:118: UserWarning: The figure layout has changed to tight\n",
      "  self._figure.tight_layout(*args, **kwargs)\n"
     ]
    },
    {
     "name": "stdout",
     "output_type": "stream",
     "text": [
      "Loading ...  /lemur2/lucas/analyses/recordings/main/decode_moment/PSYCHO_SP/Pancho-240524-logistic-combine=True/downsample_trials=False-TWIND_TEST=(0.6, 1.2)-version=1/M1/DFSCORES.pkl\n",
      "Loading ...  /lemur2/lucas/analyses/recordings/main/decode_moment/PSYCHO_SP/Pancho-240524-logistic-combine=True/downsample_trials=False-TWIND_TEST=(0.6, 1.2)-version=1/PMv/DFSCORES.pkl\n",
      "Loading ...  /lemur2/lucas/analyses/recordings/main/decode_moment/PSYCHO_SP/Pancho-240524-logistic-combine=True/downsample_trials=False-TWIND_TEST=(0.6, 1.2)-version=1/PMd/DFSCORES.pkl\n",
      "Loading ...  /lemur2/lucas/analyses/recordings/main/decode_moment/PSYCHO_SP/Pancho-240524-logistic-combine=True/downsample_trials=False-TWIND_TEST=(0.6, 1.2)-version=1/dlPFC/DFSCORES.pkl\n",
      "Loading ...  /lemur2/lucas/analyses/recordings/main/decode_moment/PSYCHO_SP/Pancho-240524-logistic-combine=True/downsample_trials=False-TWIND_TEST=(0.6, 1.2)-version=1/vlPFC/DFSCORES.pkl\n",
      "Loading ...  /lemur2/lucas/analyses/recordings/main/decode_moment/PSYCHO_SP/Pancho-240524-logistic-combine=True/downsample_trials=False-TWIND_TEST=(0.6, 1.2)-version=1/FP/DFSCORES.pkl\n",
      "Loading ...  /lemur2/lucas/analyses/recordings/main/decode_moment/PSYCHO_SP/Pancho-240524-logistic-combine=True/downsample_trials=False-TWIND_TEST=(0.6, 1.2)-version=1/SMA/DFSCORES.pkl\n",
      "Loading ...  /lemur2/lucas/analyses/recordings/main/decode_moment/PSYCHO_SP/Pancho-240524-logistic-combine=True/downsample_trials=False-TWIND_TEST=(0.6, 1.2)-version=1/preSMA/DFSCORES.pkl\n",
      "SAving at:  /lemur2/lucas/analyses/recordings/main/decode_moment/PSYCHO_SP/Pancho-240524-logistic-combine=True/downsample_trials=False-TWIND_TEST=(0.6, 1.2)-version=1/MULT_BREGION\n",
      "morphset_get: None\n",
      "morphsets_ignore:  []\n",
      "morphsets_exist:  [0, 1, 2, 3, 4, 5, 6, 7, 8]\n",
      "morphsets_keep:  [0, 1, 2, 3, 4, 5, 6, 7, 8]\n",
      "morphsets_exist (after pruen):  [0, 1, 2, 3, 4, 5, 6, 7, 8]\n"
     ]
    },
    {
     "name": "stderr",
     "output_type": "stream",
     "text": [
      "/home/lucas/miniconda3/envs/drag2_matlab/lib/python3.8/site-packages/seaborn/axisgrid.py:118: UserWarning: The figure layout has changed to tight\n",
      "  self._figure.tight_layout(*args, **kwargs)\n",
      "/home/lucas/miniconda3/envs/drag2_matlab/lib/python3.8/site-packages/seaborn/axisgrid.py:118: UserWarning: The figure layout has changed to tight\n",
      "  self._figure.tight_layout(*args, **kwargs)\n",
      "/home/lucas/miniconda3/envs/drag2_matlab/lib/python3.8/site-packages/seaborn/axisgrid.py:118: UserWarning: The figure layout has changed to tight\n",
      "  self._figure.tight_layout(*args, **kwargs)\n",
      "/home/lucas/miniconda3/envs/drag2_matlab/lib/python3.8/site-packages/seaborn/axisgrid.py:118: UserWarning: The figure layout has changed to tight\n",
      "  self._figure.tight_layout(*args, **kwargs)\n",
      "/home/lucas/miniconda3/envs/drag2_matlab/lib/python3.8/site-packages/seaborn/axisgrid.py:118: UserWarning: The figure layout has changed to tight\n",
      "  self._figure.tight_layout(*args, **kwargs)\n",
      "/home/lucas/miniconda3/envs/drag2_matlab/lib/python3.8/site-packages/seaborn/axisgrid.py:118: UserWarning: The figure layout has changed to tight\n",
      "  self._figure.tight_layout(*args, **kwargs)\n",
      "/home/lucas/miniconda3/envs/drag2_matlab/lib/python3.8/site-packages/seaborn/axisgrid.py:118: UserWarning: The figure layout has changed to tight\n",
      "  self._figure.tight_layout(*args, **kwargs)\n",
      "/home/lucas/miniconda3/envs/drag2_matlab/lib/python3.8/site-packages/seaborn/axisgrid.py:118: UserWarning: The figure layout has changed to tight\n",
      "  self._figure.tight_layout(*args, **kwargs)\n",
      "/home/lucas/miniconda3/envs/drag2_matlab/lib/python3.8/site-packages/seaborn/axisgrid.py:118: UserWarning: The figure layout has changed to tight\n",
      "  self._figure.tight_layout(*args, **kwargs)\n",
      "/home/lucas/miniconda3/envs/drag2_matlab/lib/python3.8/site-packages/seaborn/axisgrid.py:118: UserWarning: The figure layout has changed to tight\n",
      "  self._figure.tight_layout(*args, **kwargs)\n",
      "/home/lucas/miniconda3/envs/drag2_matlab/lib/python3.8/site-packages/seaborn/axisgrid.py:118: UserWarning: The figure layout has changed to tight\n",
      "  self._figure.tight_layout(*args, **kwargs)\n",
      "/home/lucas/miniconda3/envs/drag2_matlab/lib/python3.8/site-packages/seaborn/axisgrid.py:118: UserWarning: The figure layout has changed to tight\n",
      "  self._figure.tight_layout(*args, **kwargs)\n"
     ]
    },
    {
     "name": "stdout",
     "output_type": "stream",
     "text": [
      "morphset_get: good_ones\n",
      "morphsets_ignore:  [4]\n",
      "morphsets_exist:  [0, 1, 2, 3, 4, 5, 6, 7, 8]\n",
      "morphsets_keep:  [0, 1, 2, 3, 5, 6, 7, 8]\n",
      "morphsets_exist (after pruen):  [0, 1, 2, 3, 5, 6, 7, 8]\n"
     ]
    },
    {
     "name": "stderr",
     "output_type": "stream",
     "text": [
      "/home/lucas/miniconda3/envs/drag2_matlab/lib/python3.8/site-packages/seaborn/axisgrid.py:118: UserWarning: The figure layout has changed to tight\n",
      "  self._figure.tight_layout(*args, **kwargs)\n",
      "/home/lucas/miniconda3/envs/drag2_matlab/lib/python3.8/site-packages/seaborn/axisgrid.py:118: UserWarning: The figure layout has changed to tight\n",
      "  self._figure.tight_layout(*args, **kwargs)\n",
      "/home/lucas/miniconda3/envs/drag2_matlab/lib/python3.8/site-packages/seaborn/axisgrid.py:118: UserWarning: The figure layout has changed to tight\n",
      "  self._figure.tight_layout(*args, **kwargs)\n",
      "/home/lucas/miniconda3/envs/drag2_matlab/lib/python3.8/site-packages/seaborn/axisgrid.py:118: UserWarning: The figure layout has changed to tight\n",
      "  self._figure.tight_layout(*args, **kwargs)\n",
      "/home/lucas/miniconda3/envs/drag2_matlab/lib/python3.8/site-packages/seaborn/axisgrid.py:118: UserWarning: The figure layout has changed to tight\n",
      "  self._figure.tight_layout(*args, **kwargs)\n",
      "/home/lucas/miniconda3/envs/drag2_matlab/lib/python3.8/site-packages/seaborn/axisgrid.py:118: UserWarning: The figure layout has changed to tight\n",
      "  self._figure.tight_layout(*args, **kwargs)\n",
      "/home/lucas/miniconda3/envs/drag2_matlab/lib/python3.8/site-packages/seaborn/axisgrid.py:118: UserWarning: The figure layout has changed to tight\n",
      "  self._figure.tight_layout(*args, **kwargs)\n",
      "/home/lucas/miniconda3/envs/drag2_matlab/lib/python3.8/site-packages/seaborn/axisgrid.py:118: UserWarning: The figure layout has changed to tight\n",
      "  self._figure.tight_layout(*args, **kwargs)\n",
      "/home/lucas/miniconda3/envs/drag2_matlab/lib/python3.8/site-packages/seaborn/axisgrid.py:118: UserWarning: The figure layout has changed to tight\n",
      "  self._figure.tight_layout(*args, **kwargs)\n",
      "/home/lucas/miniconda3/envs/drag2_matlab/lib/python3.8/site-packages/seaborn/axisgrid.py:118: UserWarning: The figure layout has changed to tight\n",
      "  self._figure.tight_layout(*args, **kwargs)\n",
      "/home/lucas/miniconda3/envs/drag2_matlab/lib/python3.8/site-packages/seaborn/axisgrid.py:118: UserWarning: The figure layout has changed to tight\n",
      "  self._figure.tight_layout(*args, **kwargs)\n",
      "/home/lucas/miniconda3/envs/drag2_matlab/lib/python3.8/site-packages/seaborn/axisgrid.py:118: UserWarning: The figure layout has changed to tight\n",
      "  self._figure.tight_layout(*args, **kwargs)\n"
     ]
    },
    {
     "name": "stdout",
     "output_type": "stream",
     "text": [
      "morphset_get: None\n",
      "morphsets_ignore:  []\n",
      "morphsets_exist:  [0, 1, 2, 3, 4, 5, 6, 7, 8]\n",
      "morphsets_keep:  [0, 1, 2, 3, 4, 5, 6, 7, 8]\n",
      "morphsets_exist (after pruen):  [0, 1, 2, 3, 4, 5, 6, 7, 8]\n"
     ]
    },
    {
     "name": "stderr",
     "output_type": "stream",
     "text": [
      "/home/lucas/miniconda3/envs/drag2_matlab/lib/python3.8/site-packages/seaborn/axisgrid.py:118: UserWarning: The figure layout has changed to tight\n",
      "  self._figure.tight_layout(*args, **kwargs)\n",
      "/home/lucas/miniconda3/envs/drag2_matlab/lib/python3.8/site-packages/seaborn/axisgrid.py:118: UserWarning: The figure layout has changed to tight\n",
      "  self._figure.tight_layout(*args, **kwargs)\n",
      "/home/lucas/miniconda3/envs/drag2_matlab/lib/python3.8/site-packages/seaborn/axisgrid.py:118: UserWarning: The figure layout has changed to tight\n",
      "  self._figure.tight_layout(*args, **kwargs)\n",
      "/home/lucas/miniconda3/envs/drag2_matlab/lib/python3.8/site-packages/seaborn/axisgrid.py:118: UserWarning: The figure layout has changed to tight\n",
      "  self._figure.tight_layout(*args, **kwargs)\n",
      "/home/lucas/miniconda3/envs/drag2_matlab/lib/python3.8/site-packages/seaborn/axisgrid.py:118: UserWarning: The figure layout has changed to tight\n",
      "  self._figure.tight_layout(*args, **kwargs)\n",
      "/home/lucas/miniconda3/envs/drag2_matlab/lib/python3.8/site-packages/seaborn/axisgrid.py:118: UserWarning: The figure layout has changed to tight\n",
      "  self._figure.tight_layout(*args, **kwargs)\n",
      "/home/lucas/miniconda3/envs/drag2_matlab/lib/python3.8/site-packages/seaborn/axisgrid.py:118: UserWarning: The figure layout has changed to tight\n",
      "  self._figure.tight_layout(*args, **kwargs)\n",
      "/home/lucas/miniconda3/envs/drag2_matlab/lib/python3.8/site-packages/seaborn/axisgrid.py:118: UserWarning: The figure layout has changed to tight\n",
      "  self._figure.tight_layout(*args, **kwargs)\n",
      "/home/lucas/miniconda3/envs/drag2_matlab/lib/python3.8/site-packages/seaborn/axisgrid.py:118: UserWarning: The figure layout has changed to tight\n",
      "  self._figure.tight_layout(*args, **kwargs)\n",
      "/home/lucas/miniconda3/envs/drag2_matlab/lib/python3.8/site-packages/seaborn/axisgrid.py:118: UserWarning: The figure layout has changed to tight\n",
      "  self._figure.tight_layout(*args, **kwargs)\n",
      "/home/lucas/miniconda3/envs/drag2_matlab/lib/python3.8/site-packages/seaborn/axisgrid.py:118: UserWarning: The figure layout has changed to tight\n",
      "  self._figure.tight_layout(*args, **kwargs)\n",
      "/home/lucas/miniconda3/envs/drag2_matlab/lib/python3.8/site-packages/seaborn/axisgrid.py:118: UserWarning: The figure layout has changed to tight\n",
      "  self._figure.tight_layout(*args, **kwargs)\n"
     ]
    },
    {
     "name": "stdout",
     "output_type": "stream",
     "text": [
      "morphset_get: good_ones\n",
      "morphsets_ignore:  [4]\n",
      "morphsets_exist:  [0, 1, 2, 3, 4, 5, 6, 7, 8]\n",
      "morphsets_keep:  [0, 1, 2, 3, 5, 6, 7, 8]\n",
      "morphsets_exist (after pruen):  [0, 1, 2, 3, 5, 6, 7, 8]\n"
     ]
    },
    {
     "name": "stderr",
     "output_type": "stream",
     "text": [
      "/home/lucas/miniconda3/envs/drag2_matlab/lib/python3.8/site-packages/seaborn/axisgrid.py:118: UserWarning: The figure layout has changed to tight\n",
      "  self._figure.tight_layout(*args, **kwargs)\n",
      "/home/lucas/miniconda3/envs/drag2_matlab/lib/python3.8/site-packages/seaborn/axisgrid.py:118: UserWarning: The figure layout has changed to tight\n",
      "  self._figure.tight_layout(*args, **kwargs)\n",
      "/home/lucas/miniconda3/envs/drag2_matlab/lib/python3.8/site-packages/seaborn/axisgrid.py:118: UserWarning: The figure layout has changed to tight\n",
      "  self._figure.tight_layout(*args, **kwargs)\n",
      "/home/lucas/miniconda3/envs/drag2_matlab/lib/python3.8/site-packages/seaborn/axisgrid.py:118: UserWarning: The figure layout has changed to tight\n",
      "  self._figure.tight_layout(*args, **kwargs)\n",
      "/home/lucas/miniconda3/envs/drag2_matlab/lib/python3.8/site-packages/seaborn/axisgrid.py:118: UserWarning: The figure layout has changed to tight\n",
      "  self._figure.tight_layout(*args, **kwargs)\n",
      "/home/lucas/miniconda3/envs/drag2_matlab/lib/python3.8/site-packages/seaborn/axisgrid.py:118: UserWarning: The figure layout has changed to tight\n",
      "  self._figure.tight_layout(*args, **kwargs)\n",
      "/home/lucas/miniconda3/envs/drag2_matlab/lib/python3.8/site-packages/seaborn/axisgrid.py:118: UserWarning: The figure layout has changed to tight\n",
      "  self._figure.tight_layout(*args, **kwargs)\n",
      "/home/lucas/miniconda3/envs/drag2_matlab/lib/python3.8/site-packages/seaborn/axisgrid.py:118: UserWarning: The figure layout has changed to tight\n",
      "  self._figure.tight_layout(*args, **kwargs)\n",
      "/home/lucas/miniconda3/envs/drag2_matlab/lib/python3.8/site-packages/seaborn/axisgrid.py:118: UserWarning: The figure layout has changed to tight\n",
      "  self._figure.tight_layout(*args, **kwargs)\n",
      "/home/lucas/miniconda3/envs/drag2_matlab/lib/python3.8/site-packages/seaborn/axisgrid.py:118: UserWarning: The figure layout has changed to tight\n",
      "  self._figure.tight_layout(*args, **kwargs)\n",
      "/home/lucas/miniconda3/envs/drag2_matlab/lib/python3.8/site-packages/seaborn/axisgrid.py:118: UserWarning: The figure layout has changed to tight\n",
      "  self._figure.tight_layout(*args, **kwargs)\n",
      "/home/lucas/miniconda3/envs/drag2_matlab/lib/python3.8/site-packages/seaborn/axisgrid.py:118: UserWarning: The figure layout has changed to tight\n",
      "  self._figure.tight_layout(*args, **kwargs)\n"
     ]
    },
    {
     "name": "stdout",
     "output_type": "stream",
     "text": [
      "Loading ...  /lemur2/lucas/analyses/recordings/main/decode_moment/PSYCHO_SP/Diego-240523-logistic-combine=True/downsample_trials=False-TWIND_TEST=(0.05, 1.2)-version=1/M1/DFSCORES.pkl\n",
      "Loading ...  /lemur2/lucas/analyses/recordings/main/decode_moment/PSYCHO_SP/Diego-240523-logistic-combine=True/downsample_trials=False-TWIND_TEST=(0.05, 1.2)-version=1/PMv/DFSCORES.pkl\n",
      "Loading ...  /lemur2/lucas/analyses/recordings/main/decode_moment/PSYCHO_SP/Diego-240523-logistic-combine=True/downsample_trials=False-TWIND_TEST=(0.05, 1.2)-version=1/PMd/DFSCORES.pkl\n",
      "Loading ...  /lemur2/lucas/analyses/recordings/main/decode_moment/PSYCHO_SP/Diego-240523-logistic-combine=True/downsample_trials=False-TWIND_TEST=(0.05, 1.2)-version=1/dlPFC/DFSCORES.pkl\n",
      "Loading ...  /lemur2/lucas/analyses/recordings/main/decode_moment/PSYCHO_SP/Diego-240523-logistic-combine=True/downsample_trials=False-TWIND_TEST=(0.05, 1.2)-version=1/vlPFC/DFSCORES.pkl\n",
      "Loading ...  /lemur2/lucas/analyses/recordings/main/decode_moment/PSYCHO_SP/Diego-240523-logistic-combine=True/downsample_trials=False-TWIND_TEST=(0.05, 1.2)-version=1/FP/DFSCORES.pkl\n",
      "Loading ...  /lemur2/lucas/analyses/recordings/main/decode_moment/PSYCHO_SP/Diego-240523-logistic-combine=True/downsample_trials=False-TWIND_TEST=(0.05, 1.2)-version=1/SMA/DFSCORES.pkl\n",
      "Loading ...  /lemur2/lucas/analyses/recordings/main/decode_moment/PSYCHO_SP/Diego-240523-logistic-combine=True/downsample_trials=False-TWIND_TEST=(0.05, 1.2)-version=1/preSMA/DFSCORES.pkl\n",
      "SAving at:  /lemur2/lucas/analyses/recordings/main/decode_moment/PSYCHO_SP/Diego-240523-logistic-combine=True/downsample_trials=False-TWIND_TEST=(0.05, 1.2)-version=1/MULT_BREGION\n",
      "morphset_get: None\n",
      "morphsets_ignore:  []\n",
      "morphsets_exist:  [0, 1, 2, 3, 4, 5, 6]\n",
      "morphsets_keep:  [0, 1, 2, 3, 4, 5, 6]\n",
      "morphsets_exist (after pruen):  [0, 1, 2, 3, 4, 5, 6]\n"
     ]
    },
    {
     "name": "stderr",
     "output_type": "stream",
     "text": [
      "/home/lucas/miniconda3/envs/drag2_matlab/lib/python3.8/site-packages/seaborn/axisgrid.py:118: UserWarning: The figure layout has changed to tight\n",
      "  self._figure.tight_layout(*args, **kwargs)\n",
      "/home/lucas/miniconda3/envs/drag2_matlab/lib/python3.8/site-packages/seaborn/axisgrid.py:118: UserWarning: The figure layout has changed to tight\n",
      "  self._figure.tight_layout(*args, **kwargs)\n",
      "/home/lucas/miniconda3/envs/drag2_matlab/lib/python3.8/site-packages/seaborn/axisgrid.py:118: UserWarning: The figure layout has changed to tight\n",
      "  self._figure.tight_layout(*args, **kwargs)\n",
      "/home/lucas/miniconda3/envs/drag2_matlab/lib/python3.8/site-packages/seaborn/axisgrid.py:118: UserWarning: The figure layout has changed to tight\n",
      "  self._figure.tight_layout(*args, **kwargs)\n",
      "/home/lucas/miniconda3/envs/drag2_matlab/lib/python3.8/site-packages/seaborn/axisgrid.py:118: UserWarning: The figure layout has changed to tight\n",
      "  self._figure.tight_layout(*args, **kwargs)\n",
      "/home/lucas/miniconda3/envs/drag2_matlab/lib/python3.8/site-packages/seaborn/axisgrid.py:118: UserWarning: The figure layout has changed to tight\n",
      "  self._figure.tight_layout(*args, **kwargs)\n",
      "/home/lucas/miniconda3/envs/drag2_matlab/lib/python3.8/site-packages/seaborn/axisgrid.py:118: UserWarning: The figure layout has changed to tight\n",
      "  self._figure.tight_layout(*args, **kwargs)\n",
      "/home/lucas/miniconda3/envs/drag2_matlab/lib/python3.8/site-packages/seaborn/axisgrid.py:118: UserWarning: The figure layout has changed to tight\n",
      "  self._figure.tight_layout(*args, **kwargs)\n",
      "/home/lucas/miniconda3/envs/drag2_matlab/lib/python3.8/site-packages/seaborn/axisgrid.py:118: UserWarning: The figure layout has changed to tight\n",
      "  self._figure.tight_layout(*args, **kwargs)\n",
      "/home/lucas/miniconda3/envs/drag2_matlab/lib/python3.8/site-packages/seaborn/axisgrid.py:118: UserWarning: The figure layout has changed to tight\n",
      "  self._figure.tight_layout(*args, **kwargs)\n",
      "/home/lucas/miniconda3/envs/drag2_matlab/lib/python3.8/site-packages/seaborn/axisgrid.py:118: UserWarning: The figure layout has changed to tight\n",
      "  self._figure.tight_layout(*args, **kwargs)\n",
      "/home/lucas/miniconda3/envs/drag2_matlab/lib/python3.8/site-packages/seaborn/axisgrid.py:118: UserWarning: The figure layout has changed to tight\n",
      "  self._figure.tight_layout(*args, **kwargs)\n"
     ]
    },
    {
     "name": "stdout",
     "output_type": "stream",
     "text": [
      "morphset_get: good_ones\n",
      "morphsets_ignore:  [0]\n",
      "morphsets_exist:  [0, 1, 2, 3, 4, 5, 6]\n",
      "morphsets_keep:  [1, 2, 3, 4, 5, 6]\n",
      "morphsets_exist (after pruen):  [1, 2, 3, 4, 5, 6]\n"
     ]
    },
    {
     "name": "stderr",
     "output_type": "stream",
     "text": [
      "/home/lucas/miniconda3/envs/drag2_matlab/lib/python3.8/site-packages/seaborn/axisgrid.py:118: UserWarning: The figure layout has changed to tight\n",
      "  self._figure.tight_layout(*args, **kwargs)\n",
      "/home/lucas/miniconda3/envs/drag2_matlab/lib/python3.8/site-packages/seaborn/axisgrid.py:118: UserWarning: The figure layout has changed to tight\n",
      "  self._figure.tight_layout(*args, **kwargs)\n",
      "/home/lucas/miniconda3/envs/drag2_matlab/lib/python3.8/site-packages/seaborn/axisgrid.py:118: UserWarning: The figure layout has changed to tight\n",
      "  self._figure.tight_layout(*args, **kwargs)\n",
      "/home/lucas/miniconda3/envs/drag2_matlab/lib/python3.8/site-packages/seaborn/axisgrid.py:118: UserWarning: The figure layout has changed to tight\n",
      "  self._figure.tight_layout(*args, **kwargs)\n",
      "/home/lucas/miniconda3/envs/drag2_matlab/lib/python3.8/site-packages/seaborn/axisgrid.py:118: UserWarning: The figure layout has changed to tight\n",
      "  self._figure.tight_layout(*args, **kwargs)\n",
      "/home/lucas/miniconda3/envs/drag2_matlab/lib/python3.8/site-packages/seaborn/axisgrid.py:118: UserWarning: The figure layout has changed to tight\n",
      "  self._figure.tight_layout(*args, **kwargs)\n",
      "/home/lucas/miniconda3/envs/drag2_matlab/lib/python3.8/site-packages/seaborn/axisgrid.py:118: UserWarning: The figure layout has changed to tight\n",
      "  self._figure.tight_layout(*args, **kwargs)\n",
      "/home/lucas/miniconda3/envs/drag2_matlab/lib/python3.8/site-packages/seaborn/axisgrid.py:118: UserWarning: The figure layout has changed to tight\n",
      "  self._figure.tight_layout(*args, **kwargs)\n",
      "/home/lucas/miniconda3/envs/drag2_matlab/lib/python3.8/site-packages/seaborn/axisgrid.py:118: UserWarning: The figure layout has changed to tight\n",
      "  self._figure.tight_layout(*args, **kwargs)\n",
      "/home/lucas/miniconda3/envs/drag2_matlab/lib/python3.8/site-packages/seaborn/axisgrid.py:118: UserWarning: The figure layout has changed to tight\n",
      "  self._figure.tight_layout(*args, **kwargs)\n",
      "/home/lucas/miniconda3/envs/drag2_matlab/lib/python3.8/site-packages/seaborn/axisgrid.py:118: UserWarning: The figure layout has changed to tight\n",
      "  self._figure.tight_layout(*args, **kwargs)\n",
      "/home/lucas/miniconda3/envs/drag2_matlab/lib/python3.8/site-packages/seaborn/axisgrid.py:118: UserWarning: The figure layout has changed to tight\n",
      "  self._figure.tight_layout(*args, **kwargs)\n"
     ]
    },
    {
     "name": "stdout",
     "output_type": "stream",
     "text": [
      "morphset_get: None\n",
      "morphsets_ignore:  []\n",
      "morphsets_exist:  [0, 1, 2, 3, 4, 5, 6]\n",
      "morphsets_keep:  [0, 1, 2, 3, 4, 5, 6]\n",
      "morphsets_exist (after pruen):  [0, 1, 2, 3, 4, 5, 6]\n"
     ]
    },
    {
     "name": "stderr",
     "output_type": "stream",
     "text": [
      "/home/lucas/miniconda3/envs/drag2_matlab/lib/python3.8/site-packages/seaborn/axisgrid.py:118: UserWarning: The figure layout has changed to tight\n",
      "  self._figure.tight_layout(*args, **kwargs)\n",
      "/home/lucas/miniconda3/envs/drag2_matlab/lib/python3.8/site-packages/seaborn/axisgrid.py:118: UserWarning: The figure layout has changed to tight\n",
      "  self._figure.tight_layout(*args, **kwargs)\n",
      "/home/lucas/miniconda3/envs/drag2_matlab/lib/python3.8/site-packages/seaborn/axisgrid.py:118: UserWarning: The figure layout has changed to tight\n",
      "  self._figure.tight_layout(*args, **kwargs)\n",
      "/home/lucas/miniconda3/envs/drag2_matlab/lib/python3.8/site-packages/seaborn/axisgrid.py:118: UserWarning: The figure layout has changed to tight\n",
      "  self._figure.tight_layout(*args, **kwargs)\n",
      "/home/lucas/miniconda3/envs/drag2_matlab/lib/python3.8/site-packages/seaborn/axisgrid.py:118: UserWarning: The figure layout has changed to tight\n",
      "  self._figure.tight_layout(*args, **kwargs)\n",
      "/home/lucas/miniconda3/envs/drag2_matlab/lib/python3.8/site-packages/seaborn/axisgrid.py:118: UserWarning: The figure layout has changed to tight\n",
      "  self._figure.tight_layout(*args, **kwargs)\n",
      "/home/lucas/miniconda3/envs/drag2_matlab/lib/python3.8/site-packages/seaborn/axisgrid.py:118: UserWarning: The figure layout has changed to tight\n",
      "  self._figure.tight_layout(*args, **kwargs)\n",
      "/home/lucas/miniconda3/envs/drag2_matlab/lib/python3.8/site-packages/seaborn/axisgrid.py:118: UserWarning: The figure layout has changed to tight\n",
      "  self._figure.tight_layout(*args, **kwargs)\n",
      "/home/lucas/miniconda3/envs/drag2_matlab/lib/python3.8/site-packages/seaborn/axisgrid.py:118: UserWarning: The figure layout has changed to tight\n",
      "  self._figure.tight_layout(*args, **kwargs)\n",
      "/home/lucas/miniconda3/envs/drag2_matlab/lib/python3.8/site-packages/seaborn/axisgrid.py:118: UserWarning: The figure layout has changed to tight\n",
      "  self._figure.tight_layout(*args, **kwargs)\n",
      "/home/lucas/miniconda3/envs/drag2_matlab/lib/python3.8/site-packages/seaborn/axisgrid.py:118: UserWarning: The figure layout has changed to tight\n",
      "  self._figure.tight_layout(*args, **kwargs)\n",
      "/home/lucas/miniconda3/envs/drag2_matlab/lib/python3.8/site-packages/seaborn/axisgrid.py:118: UserWarning: The figure layout has changed to tight\n",
      "  self._figure.tight_layout(*args, **kwargs)\n"
     ]
    },
    {
     "name": "stdout",
     "output_type": "stream",
     "text": [
      "morphset_get: good_ones\n",
      "morphsets_ignore:  [0]\n",
      "morphsets_exist:  [0, 1, 2, 3, 4, 5, 6]\n",
      "morphsets_keep:  [1, 2, 3, 4, 5, 6]\n",
      "morphsets_exist (after pruen):  [1, 2, 3, 4, 5, 6]\n"
     ]
    },
    {
     "name": "stderr",
     "output_type": "stream",
     "text": [
      "/home/lucas/miniconda3/envs/drag2_matlab/lib/python3.8/site-packages/seaborn/axisgrid.py:118: UserWarning: The figure layout has changed to tight\n",
      "  self._figure.tight_layout(*args, **kwargs)\n",
      "/home/lucas/miniconda3/envs/drag2_matlab/lib/python3.8/site-packages/seaborn/axisgrid.py:118: UserWarning: The figure layout has changed to tight\n",
      "  self._figure.tight_layout(*args, **kwargs)\n",
      "/home/lucas/miniconda3/envs/drag2_matlab/lib/python3.8/site-packages/seaborn/axisgrid.py:118: UserWarning: The figure layout has changed to tight\n",
      "  self._figure.tight_layout(*args, **kwargs)\n",
      "/home/lucas/miniconda3/envs/drag2_matlab/lib/python3.8/site-packages/seaborn/axisgrid.py:118: UserWarning: The figure layout has changed to tight\n",
      "  self._figure.tight_layout(*args, **kwargs)\n",
      "/home/lucas/miniconda3/envs/drag2_matlab/lib/python3.8/site-packages/seaborn/axisgrid.py:118: UserWarning: The figure layout has changed to tight\n",
      "  self._figure.tight_layout(*args, **kwargs)\n",
      "/home/lucas/miniconda3/envs/drag2_matlab/lib/python3.8/site-packages/seaborn/axisgrid.py:118: UserWarning: The figure layout has changed to tight\n",
      "  self._figure.tight_layout(*args, **kwargs)\n",
      "/home/lucas/miniconda3/envs/drag2_matlab/lib/python3.8/site-packages/seaborn/axisgrid.py:118: UserWarning: The figure layout has changed to tight\n",
      "  self._figure.tight_layout(*args, **kwargs)\n",
      "/home/lucas/miniconda3/envs/drag2_matlab/lib/python3.8/site-packages/seaborn/axisgrid.py:118: UserWarning: The figure layout has changed to tight\n",
      "  self._figure.tight_layout(*args, **kwargs)\n",
      "/home/lucas/miniconda3/envs/drag2_matlab/lib/python3.8/site-packages/seaborn/axisgrid.py:118: UserWarning: The figure layout has changed to tight\n",
      "  self._figure.tight_layout(*args, **kwargs)\n",
      "/home/lucas/miniconda3/envs/drag2_matlab/lib/python3.8/site-packages/seaborn/axisgrid.py:118: UserWarning: The figure layout has changed to tight\n",
      "  self._figure.tight_layout(*args, **kwargs)\n",
      "/home/lucas/miniconda3/envs/drag2_matlab/lib/python3.8/site-packages/seaborn/axisgrid.py:118: UserWarning: The figure layout has changed to tight\n",
      "  self._figure.tight_layout(*args, **kwargs)\n",
      "/home/lucas/miniconda3/envs/drag2_matlab/lib/python3.8/site-packages/seaborn/axisgrid.py:118: UserWarning: The figure layout has changed to tight\n",
      "  self._figure.tight_layout(*args, **kwargs)\n"
     ]
    },
    {
     "name": "stdout",
     "output_type": "stream",
     "text": [
      "Loading ...  /lemur2/lucas/analyses/recordings/main/decode_moment/PSYCHO_SP/Diego-240523-logistic-combine=True/downsample_trials=False-TWIND_TEST=(0.6, 1.2)-version=1/M1/DFSCORES.pkl\n",
      "Loading ...  /lemur2/lucas/analyses/recordings/main/decode_moment/PSYCHO_SP/Diego-240523-logistic-combine=True/downsample_trials=False-TWIND_TEST=(0.6, 1.2)-version=1/PMv/DFSCORES.pkl\n",
      "Loading ...  /lemur2/lucas/analyses/recordings/main/decode_moment/PSYCHO_SP/Diego-240523-logistic-combine=True/downsample_trials=False-TWIND_TEST=(0.6, 1.2)-version=1/PMd/DFSCORES.pkl\n",
      "Loading ...  /lemur2/lucas/analyses/recordings/main/decode_moment/PSYCHO_SP/Diego-240523-logistic-combine=True/downsample_trials=False-TWIND_TEST=(0.6, 1.2)-version=1/dlPFC/DFSCORES.pkl\n",
      "Loading ...  /lemur2/lucas/analyses/recordings/main/decode_moment/PSYCHO_SP/Diego-240523-logistic-combine=True/downsample_trials=False-TWIND_TEST=(0.6, 1.2)-version=1/vlPFC/DFSCORES.pkl\n",
      "Loading ...  /lemur2/lucas/analyses/recordings/main/decode_moment/PSYCHO_SP/Diego-240523-logistic-combine=True/downsample_trials=False-TWIND_TEST=(0.6, 1.2)-version=1/FP/DFSCORES.pkl\n",
      "Loading ...  /lemur2/lucas/analyses/recordings/main/decode_moment/PSYCHO_SP/Diego-240523-logistic-combine=True/downsample_trials=False-TWIND_TEST=(0.6, 1.2)-version=1/SMA/DFSCORES.pkl\n",
      "Loading ...  /lemur2/lucas/analyses/recordings/main/decode_moment/PSYCHO_SP/Diego-240523-logistic-combine=True/downsample_trials=False-TWIND_TEST=(0.6, 1.2)-version=1/preSMA/DFSCORES.pkl\n",
      "SAving at:  /lemur2/lucas/analyses/recordings/main/decode_moment/PSYCHO_SP/Diego-240523-logistic-combine=True/downsample_trials=False-TWIND_TEST=(0.6, 1.2)-version=1/MULT_BREGION\n",
      "morphset_get: None\n",
      "morphsets_ignore:  []\n",
      "morphsets_exist:  [0, 1, 2, 3, 4, 5, 6]\n",
      "morphsets_keep:  [0, 1, 2, 3, 4, 5, 6]\n",
      "morphsets_exist (after pruen):  [0, 1, 2, 3, 4, 5, 6]\n"
     ]
    },
    {
     "name": "stderr",
     "output_type": "stream",
     "text": [
      "/home/lucas/miniconda3/envs/drag2_matlab/lib/python3.8/site-packages/seaborn/axisgrid.py:118: UserWarning: The figure layout has changed to tight\n",
      "  self._figure.tight_layout(*args, **kwargs)\n",
      "/home/lucas/miniconda3/envs/drag2_matlab/lib/python3.8/site-packages/seaborn/axisgrid.py:118: UserWarning: The figure layout has changed to tight\n",
      "  self._figure.tight_layout(*args, **kwargs)\n",
      "/home/lucas/miniconda3/envs/drag2_matlab/lib/python3.8/site-packages/seaborn/axisgrid.py:118: UserWarning: The figure layout has changed to tight\n",
      "  self._figure.tight_layout(*args, **kwargs)\n",
      "/home/lucas/miniconda3/envs/drag2_matlab/lib/python3.8/site-packages/seaborn/axisgrid.py:118: UserWarning: The figure layout has changed to tight\n",
      "  self._figure.tight_layout(*args, **kwargs)\n",
      "/home/lucas/miniconda3/envs/drag2_matlab/lib/python3.8/site-packages/seaborn/axisgrid.py:118: UserWarning: The figure layout has changed to tight\n",
      "  self._figure.tight_layout(*args, **kwargs)\n",
      "/home/lucas/miniconda3/envs/drag2_matlab/lib/python3.8/site-packages/seaborn/axisgrid.py:118: UserWarning: The figure layout has changed to tight\n",
      "  self._figure.tight_layout(*args, **kwargs)\n",
      "/home/lucas/miniconda3/envs/drag2_matlab/lib/python3.8/site-packages/seaborn/axisgrid.py:118: UserWarning: The figure layout has changed to tight\n",
      "  self._figure.tight_layout(*args, **kwargs)\n",
      "/home/lucas/miniconda3/envs/drag2_matlab/lib/python3.8/site-packages/seaborn/axisgrid.py:118: UserWarning: The figure layout has changed to tight\n",
      "  self._figure.tight_layout(*args, **kwargs)\n",
      "/home/lucas/miniconda3/envs/drag2_matlab/lib/python3.8/site-packages/seaborn/axisgrid.py:118: UserWarning: The figure layout has changed to tight\n",
      "  self._figure.tight_layout(*args, **kwargs)\n",
      "/home/lucas/miniconda3/envs/drag2_matlab/lib/python3.8/site-packages/seaborn/axisgrid.py:118: UserWarning: The figure layout has changed to tight\n",
      "  self._figure.tight_layout(*args, **kwargs)\n",
      "/home/lucas/miniconda3/envs/drag2_matlab/lib/python3.8/site-packages/seaborn/axisgrid.py:118: UserWarning: The figure layout has changed to tight\n",
      "  self._figure.tight_layout(*args, **kwargs)\n",
      "/home/lucas/miniconda3/envs/drag2_matlab/lib/python3.8/site-packages/seaborn/axisgrid.py:118: UserWarning: The figure layout has changed to tight\n",
      "  self._figure.tight_layout(*args, **kwargs)\n"
     ]
    },
    {
     "name": "stdout",
     "output_type": "stream",
     "text": [
      "morphset_get: good_ones\n",
      "morphsets_ignore:  [0]\n",
      "morphsets_exist:  [0, 1, 2, 3, 4, 5, 6]\n",
      "morphsets_keep:  [1, 2, 3, 4, 5, 6]\n",
      "morphsets_exist (after pruen):  [1, 2, 3, 4, 5, 6]\n"
     ]
    },
    {
     "name": "stderr",
     "output_type": "stream",
     "text": [
      "/home/lucas/miniconda3/envs/drag2_matlab/lib/python3.8/site-packages/seaborn/axisgrid.py:118: UserWarning: The figure layout has changed to tight\n",
      "  self._figure.tight_layout(*args, **kwargs)\n",
      "/home/lucas/miniconda3/envs/drag2_matlab/lib/python3.8/site-packages/seaborn/axisgrid.py:118: UserWarning: The figure layout has changed to tight\n",
      "  self._figure.tight_layout(*args, **kwargs)\n",
      "/home/lucas/miniconda3/envs/drag2_matlab/lib/python3.8/site-packages/seaborn/axisgrid.py:118: UserWarning: The figure layout has changed to tight\n",
      "  self._figure.tight_layout(*args, **kwargs)\n",
      "/home/lucas/miniconda3/envs/drag2_matlab/lib/python3.8/site-packages/seaborn/axisgrid.py:118: UserWarning: The figure layout has changed to tight\n",
      "  self._figure.tight_layout(*args, **kwargs)\n",
      "/home/lucas/miniconda3/envs/drag2_matlab/lib/python3.8/site-packages/seaborn/axisgrid.py:118: UserWarning: The figure layout has changed to tight\n",
      "  self._figure.tight_layout(*args, **kwargs)\n",
      "/home/lucas/miniconda3/envs/drag2_matlab/lib/python3.8/site-packages/seaborn/axisgrid.py:118: UserWarning: The figure layout has changed to tight\n",
      "  self._figure.tight_layout(*args, **kwargs)\n",
      "/home/lucas/miniconda3/envs/drag2_matlab/lib/python3.8/site-packages/seaborn/axisgrid.py:118: UserWarning: The figure layout has changed to tight\n",
      "  self._figure.tight_layout(*args, **kwargs)\n",
      "/home/lucas/miniconda3/envs/drag2_matlab/lib/python3.8/site-packages/seaborn/axisgrid.py:118: UserWarning: The figure layout has changed to tight\n",
      "  self._figure.tight_layout(*args, **kwargs)\n",
      "/home/lucas/miniconda3/envs/drag2_matlab/lib/python3.8/site-packages/seaborn/axisgrid.py:118: UserWarning: The figure layout has changed to tight\n",
      "  self._figure.tight_layout(*args, **kwargs)\n",
      "/home/lucas/miniconda3/envs/drag2_matlab/lib/python3.8/site-packages/seaborn/axisgrid.py:118: UserWarning: The figure layout has changed to tight\n",
      "  self._figure.tight_layout(*args, **kwargs)\n",
      "/home/lucas/miniconda3/envs/drag2_matlab/lib/python3.8/site-packages/seaborn/axisgrid.py:118: UserWarning: The figure layout has changed to tight\n",
      "  self._figure.tight_layout(*args, **kwargs)\n",
      "/home/lucas/miniconda3/envs/drag2_matlab/lib/python3.8/site-packages/seaborn/axisgrid.py:118: UserWarning: The figure layout has changed to tight\n",
      "  self._figure.tight_layout(*args, **kwargs)\n"
     ]
    },
    {
     "name": "stdout",
     "output_type": "stream",
     "text": [
      "morphset_get: None\n",
      "morphsets_ignore:  []\n",
      "morphsets_exist:  [0, 1, 2, 3, 4, 5, 6]\n",
      "morphsets_keep:  [0, 1, 2, 3, 4, 5, 6]\n",
      "morphsets_exist (after pruen):  [0, 1, 2, 3, 4, 5, 6]\n"
     ]
    },
    {
     "name": "stderr",
     "output_type": "stream",
     "text": [
      "/home/lucas/miniconda3/envs/drag2_matlab/lib/python3.8/site-packages/seaborn/axisgrid.py:118: UserWarning: The figure layout has changed to tight\n",
      "  self._figure.tight_layout(*args, **kwargs)\n",
      "/home/lucas/miniconda3/envs/drag2_matlab/lib/python3.8/site-packages/seaborn/axisgrid.py:118: UserWarning: The figure layout has changed to tight\n",
      "  self._figure.tight_layout(*args, **kwargs)\n",
      "/home/lucas/miniconda3/envs/drag2_matlab/lib/python3.8/site-packages/seaborn/axisgrid.py:118: UserWarning: The figure layout has changed to tight\n",
      "  self._figure.tight_layout(*args, **kwargs)\n",
      "/home/lucas/miniconda3/envs/drag2_matlab/lib/python3.8/site-packages/seaborn/axisgrid.py:118: UserWarning: The figure layout has changed to tight\n",
      "  self._figure.tight_layout(*args, **kwargs)\n",
      "/home/lucas/miniconda3/envs/drag2_matlab/lib/python3.8/site-packages/seaborn/axisgrid.py:118: UserWarning: The figure layout has changed to tight\n",
      "  self._figure.tight_layout(*args, **kwargs)\n",
      "/home/lucas/miniconda3/envs/drag2_matlab/lib/python3.8/site-packages/seaborn/axisgrid.py:118: UserWarning: The figure layout has changed to tight\n",
      "  self._figure.tight_layout(*args, **kwargs)\n",
      "/home/lucas/miniconda3/envs/drag2_matlab/lib/python3.8/site-packages/seaborn/axisgrid.py:118: UserWarning: The figure layout has changed to tight\n",
      "  self._figure.tight_layout(*args, **kwargs)\n",
      "/home/lucas/miniconda3/envs/drag2_matlab/lib/python3.8/site-packages/seaborn/axisgrid.py:118: UserWarning: The figure layout has changed to tight\n",
      "  self._figure.tight_layout(*args, **kwargs)\n",
      "/home/lucas/miniconda3/envs/drag2_matlab/lib/python3.8/site-packages/seaborn/axisgrid.py:118: UserWarning: The figure layout has changed to tight\n",
      "  self._figure.tight_layout(*args, **kwargs)\n",
      "/home/lucas/miniconda3/envs/drag2_matlab/lib/python3.8/site-packages/seaborn/axisgrid.py:118: UserWarning: The figure layout has changed to tight\n",
      "  self._figure.tight_layout(*args, **kwargs)\n",
      "/home/lucas/miniconda3/envs/drag2_matlab/lib/python3.8/site-packages/seaborn/axisgrid.py:118: UserWarning: The figure layout has changed to tight\n",
      "  self._figure.tight_layout(*args, **kwargs)\n",
      "/home/lucas/miniconda3/envs/drag2_matlab/lib/python3.8/site-packages/seaborn/axisgrid.py:118: UserWarning: The figure layout has changed to tight\n",
      "  self._figure.tight_layout(*args, **kwargs)\n"
     ]
    },
    {
     "name": "stdout",
     "output_type": "stream",
     "text": [
      "morphset_get: good_ones\n",
      "morphsets_ignore:  [0]\n",
      "morphsets_exist:  [0, 1, 2, 3, 4, 5, 6]\n",
      "morphsets_keep:  [1, 2, 3, 4, 5, 6]\n",
      "morphsets_exist (after pruen):  [1, 2, 3, 4, 5, 6]\n"
     ]
    },
    {
     "name": "stderr",
     "output_type": "stream",
     "text": [
      "/home/lucas/miniconda3/envs/drag2_matlab/lib/python3.8/site-packages/seaborn/axisgrid.py:118: UserWarning: The figure layout has changed to tight\n",
      "  self._figure.tight_layout(*args, **kwargs)\n",
      "/home/lucas/miniconda3/envs/drag2_matlab/lib/python3.8/site-packages/seaborn/axisgrid.py:118: UserWarning: The figure layout has changed to tight\n",
      "  self._figure.tight_layout(*args, **kwargs)\n",
      "/home/lucas/miniconda3/envs/drag2_matlab/lib/python3.8/site-packages/seaborn/axisgrid.py:118: UserWarning: The figure layout has changed to tight\n",
      "  self._figure.tight_layout(*args, **kwargs)\n",
      "/home/lucas/miniconda3/envs/drag2_matlab/lib/python3.8/site-packages/seaborn/axisgrid.py:118: UserWarning: The figure layout has changed to tight\n",
      "  self._figure.tight_layout(*args, **kwargs)\n",
      "/home/lucas/miniconda3/envs/drag2_matlab/lib/python3.8/site-packages/seaborn/axisgrid.py:118: UserWarning: The figure layout has changed to tight\n",
      "  self._figure.tight_layout(*args, **kwargs)\n",
      "/home/lucas/miniconda3/envs/drag2_matlab/lib/python3.8/site-packages/seaborn/axisgrid.py:118: UserWarning: The figure layout has changed to tight\n",
      "  self._figure.tight_layout(*args, **kwargs)\n",
      "/home/lucas/miniconda3/envs/drag2_matlab/lib/python3.8/site-packages/seaborn/axisgrid.py:118: UserWarning: The figure layout has changed to tight\n",
      "  self._figure.tight_layout(*args, **kwargs)\n",
      "/home/lucas/miniconda3/envs/drag2_matlab/lib/python3.8/site-packages/seaborn/axisgrid.py:118: UserWarning: The figure layout has changed to tight\n",
      "  self._figure.tight_layout(*args, **kwargs)\n",
      "/home/lucas/miniconda3/envs/drag2_matlab/lib/python3.8/site-packages/seaborn/axisgrid.py:118: UserWarning: The figure layout has changed to tight\n",
      "  self._figure.tight_layout(*args, **kwargs)\n",
      "/home/lucas/miniconda3/envs/drag2_matlab/lib/python3.8/site-packages/seaborn/axisgrid.py:118: UserWarning: The figure layout has changed to tight\n",
      "  self._figure.tight_layout(*args, **kwargs)\n",
      "/home/lucas/miniconda3/envs/drag2_matlab/lib/python3.8/site-packages/seaborn/axisgrid.py:118: UserWarning: The figure layout has changed to tight\n",
      "  self._figure.tight_layout(*args, **kwargs)\n",
      "/home/lucas/miniconda3/envs/drag2_matlab/lib/python3.8/site-packages/seaborn/axisgrid.py:118: UserWarning: The figure layout has changed to tight\n",
      "  self._figure.tight_layout(*args, **kwargs)\n"
     ]
    }
   ],
   "source": [
    "SAVEDIR_BASE = \"/lemur2/lucas/analyses/recordings/main/decode_moment/PSYCHO_SP\"\n",
    "\n",
    "combine = True\n",
    "downsample_trials = False\n",
    "# TWIND_TEST = (0.05, 1.2)\n",
    "version = 1\n",
    "for animal, date in [(\"Pancho\", 240524), (\"Diego\", 240523)]:\n",
    "    for TWIND_TEST in [(0.05, 1.2), (0.6, 1.2)]:\n",
    "\n",
    "        if combine:\n",
    "            list_bregion = _REGIONS_IN_ORDER_COMBINED\n",
    "        else:\n",
    "            list_bregion = _REGIONS_IN_ORDER\n",
    "\n",
    "        list_dfscores = []\n",
    "        for bregion in list_bregion:\n",
    "            path = f\"{SAVEDIR_BASE}/{animal}-{date}-logistic-combine={combine}/downsample_trials={downsample_trials}-TWIND_TEST={TWIND_TEST}-version={version}/{bregion}/DFSCORES.pkl\"\n",
    "            print(\"Loading ... \", path)\n",
    "            dfscores = pd.read_pickle(path)\n",
    "            dfscores[\"bregion\"] = bregion\n",
    "            list_dfscores.append(dfscores)\n",
    "        DFSCORES = pd.concat(list_dfscores).reset_index(drop=True)\n",
    "\n",
    "        SAVEDIR = f\"{SAVEDIR_BASE}/{animal}-{date}-logistic-combine={combine}/downsample_trials={downsample_trials}-TWIND_TEST={TWIND_TEST}-version={version}/MULT_BREGION\"\n",
    "        print(\"SAving at: \", SAVEDIR)\n",
    "\n",
    "        ### PReprocessing\n",
    "        assert len(DFSCORES[\"twind\"].unique())==1, \"code below assumes\"\n",
    "\n",
    "        # Get score relative to chance (50%)\n",
    "        score_chance = 0.5\n",
    "        DFSCORES[\"score_adjusted\"] = (DFSCORES[\"score\"] - score_chance)/(1. - score_chance)\n",
    "\n",
    "        ### Plots\n",
    "        for do_agg_over_trials in [False, True]:\n",
    "            for morphset_get in [None, \"good_ones\"]:\n",
    "\n",
    "                dfscores = prune_dfscores_good_morphset(DFSCORES, morphset_get, animal, date)\n",
    "\n",
    "                if do_agg_over_trials:\n",
    "                    dfscores = aggregGeneral(dfscores, \n",
    "                                            [\"bregion\", \"morph_set_idx|idx_within\", \"idx_within|assigned\", \"pa_class\", \"decoder_class\", \"twind\"], \n",
    "                                            [\"score\", \"score_adjusted\"], \n",
    "                                            nonnumercols=[\"trial_morph_assigned_to_which_base\"])\n",
    "                # (1) \n",
    "                huevar = \"decoder_class_semantic_good\"\n",
    "                xvar = \"trial_morph_assigned_to_which_base\"\n",
    "                xvalues = [\"base1\", \"not_ambig_base1\", \"ambig_base1\", \"ambig_base2\", \"not_ambig_base2\", \"base2\"]\n",
    "                huevalues = [\"base1\", \"base2\"]\n",
    "\n",
    "                savedir = f\"{SAVEDIR}/do_agg_over_trials={do_agg_over_trials}-morphset_get={morphset_get}/xvar={xvar}\"\n",
    "                os.makedirs(savedir, exist_ok=True)\n",
    "\n",
    "                _plot(dfscores, huevar, xvar, xvalues, huevalues, savedir)\n",
    "\n",
    "                # (2)\n",
    "                huevar = \"recoded_decoder\"\n",
    "                xvar = \"recoded_trial_morph\"\n",
    "                xvalues = [\"ambig\", \"not_ambig\", \"base\"]\n",
    "                huevalues = [\"baseother\", \"basethis\"]\n",
    "\n",
    "                savedir = f\"{SAVEDIR}/do_agg_over_trials={do_agg_over_trials}-morphset_get={morphset_get}/xvar={xvar}\"\n",
    "                os.makedirs(savedir, exist_ok=True)\n",
    "\n",
    "                _plot(dfscores, huevar, xvar, xvalues, huevalues, savedir)\n"
   ]
  },
  {
   "cell_type": "markdown",
   "id": "e1c2d02b",
   "metadata": {},
   "source": [
    "# OLDER STUFF"
   ]
  },
  {
   "cell_type": "markdown",
   "id": "a7825482",
   "metadata": {},
   "source": [
    "### Plot single trials"
   ]
  },
  {
   "cell_type": "code",
   "execution_count": null,
   "id": "48dd6dbe",
   "metadata": {},
   "outputs": [],
   "source": [
    "# TRAINING - Plot an example training trial\n",
    "\n",
    "indtrial = 13\n",
    "dflab = PAtrain.Xlabels['trials']\n",
    "print(f\"For this trial {indtrial}, {Dc.VarDecode} = {dflab.iloc[indtrial][Dc.VarDecode]}\")\n",
    "Dc.plot_single_trial(indtrial, PA=PAtrain);\n"
   ]
  },
  {
   "cell_type": "code",
   "execution_count": null,
   "id": "68d8dced",
   "metadata": {},
   "outputs": [],
   "source": [
    "# TESTING"
   ]
  },
  {
   "cell_type": "code",
   "execution_count": null,
   "id": "d0d4afec",
   "metadata": {},
   "outputs": [],
   "source": [
    "# First, extract PA\n",
    "\n",
    "idx_in_morphset = 4\n",
    "trialcodes = find_morphset_morphidx(DSmorphsets, morphset, idx_in_morphset)\n",
    "\n",
    "\n",
    "[(i, \" --- \", map_tcmorphset_to_info[(tc, morphset)]) for i, tc in enumerate(trialcodes)]"
   ]
  },
  {
   "cell_type": "code",
   "execution_count": null,
   "id": "41de3b2b",
   "metadata": {},
   "outputs": [],
   "source": [
    "#\n",
    "\n",
    "tc = trialcodes[13]\n",
    "\n",
    "dflab = PAtest.Xlabels[\"trials\"]\n",
    "\n",
    "indtrial = dflab[dflab[\"trialcode\"] == tc].index.tolist()[0]\n",
    "\n",
    "print(\"Trialcode: \", tc, \", idx=\", indtrial)\n",
    "print(f\"For this trial {indtrial}, {Dc.VarDecode} = {dflab.iloc[indtrial][Dc.VarDecode]}\")\n",
    "\n",
    "# What was actually drawn on this trial?\n",
    "print(\"What was actually drawn on this trial?\", map_tcmorphset_to_info[(tc, morphset)])\n",
    "\n",
    "tbin_dur=0.15\n",
    "tbin_slide=0.01\n",
    "if False:\n",
    "    Dc.plot_single_trial(indtrial, PA=PAtest, tbin_dur=tbin_dur, tbin_slide=tbin_slide);\n",
    "else:\n",
    "    # Hack, testing out if including null helps\n",
    "    Dc.plot_single_trial(indtrial, PA=PAtest, tbin_dur=tbin_dur, tbin_slide=tbin_slide);\n",
    "    DcNoNull.plot_single_trial(indtrial, PA=PAtest, tbin_dur=tbin_dur, tbin_slide=tbin_slide);\n",
    "    DcNull.plot_single_trial(indtrial, PA=PAtest, tbin_dur=tbin_dur, tbin_slide=tbin_slide);\n"
   ]
  },
  {
   "cell_type": "code",
   "execution_count": null,
   "id": "a46fb96d",
   "metadata": {},
   "outputs": [],
   "source": [
    "# TODO"
   ]
  },
  {
   "cell_type": "markdown",
   "id": "59e760d4",
   "metadata": {},
   "source": [
    "# Timecourse plots"
   ]
  },
  {
   "cell_type": "markdown",
   "id": "c8e2d215",
   "metadata": {},
   "source": [
    "### Useing single case for the one trinaed on [B1 M B2]"
   ]
  },
  {
   "cell_type": "markdown",
   "id": "4ee94edf",
   "metadata": {},
   "source": [
    "##### A single decode train-test split (i.e., is not good, not testing on held out)"
   ]
  },
  {
   "cell_type": "code",
   "execution_count": null,
   "id": "d2b56aec",
   "metadata": {},
   "outputs": [],
   "source": [
    "dfscores_testsplit, dfscores_usertest, decoders, trainsets, PAtest"
   ]
  },
  {
   "cell_type": "code",
   "execution_count": null,
   "id": "91eaf1ee",
   "metadata": {},
   "outputs": [],
   "source": [
    "idx_trainsplit = 0\n",
    "Dc = decoders[idx_trainsplit]\n",
    "PAtrain_orig = trainsets[idx_trainsplit][\"PAtrain_orig\"]\n",
    "test_index_PAtrain_orig = trainsets[idx_trainsplit][\"test_index_PAtrain_orig\"]\n",
    "\n",
    "# Slice out the test dataset\n",
    "if False:\n",
    "    patest = PAtrain_orig.slice_by_dim_indices_wrapper(\"trials\", test_index_PAtrain_orig, reset_trial_indices=True)\n",
    "else:\n",
    "    patest = PAtrain_orig\n"
   ]
  },
  {
   "cell_type": "markdown",
   "id": "9cbd68e6",
   "metadata": {},
   "source": [
    "##### [Good] loop thru each train-test split, and collect data from test trials."
   ]
  },
  {
   "cell_type": "code",
   "execution_count": null,
   "id": "46fdc09e",
   "metadata": {},
   "outputs": [],
   "source": []
  },
  {
   "cell_type": "code",
   "execution_count": null,
   "id": "d1589140",
   "metadata": {},
   "outputs": [],
   "source": [
    "# For the same decoder idx, overlay means from diff trials\n",
    "\n",
    "assert False, \"in progress -- need to color each line differntly..\"\n",
    "\n",
    "decoder_idx = 0\n",
    "list_inds = [[0,1,2], [3,4,5]]\n",
    "\n",
    "fig, ax = plt.subplots()\n",
    "for indstrials in list_inds:\n",
    "\n",
    "    probs_mat_all_this = probs_mat_all[indstrials, :, decoder_idx][:, :, None]\n",
    "    Dc._timeseries_plot_by_shape_drawn_order(probs_mat_all_this, times, [\"test\"], MAP_INDEX_TO_COL, ax)\n",
    "    # ax.set_title(f\"{idx_within}, {assigned}\")\n",
    "    # ax.set_title(f\"{idx_within}, {_assigned}\")\n"
   ]
  },
  {
   "cell_type": "code",
   "execution_count": null,
   "id": "362d5ba1",
   "metadata": {},
   "outputs": [],
   "source": [
    "dfres = pd.DataFrame(res)\n",
    "dfres"
   ]
  },
  {
   "cell_type": "code",
   "execution_count": null,
   "id": "b7f4ffec",
   "metadata": {},
   "outputs": [],
   "source": [
    "# Q: is (base1 decode during ambig_base2) higher than (base1 decode during base2)\n",
    "\n",
    "decoder_class = 99\n",
    "\n",
    "\n",
    "\n",
    "\n",
    "def _extract_probs_mat(dfres, labels, idx_within, _assigned, decoder_class):\n",
    "    tmp = dfres[(dfres[\"idx_within\"] == idx_within) & (dfres[\"_assigned\"] == _assigned)]\n",
    "    assert len(tmp)==1\n",
    "    probs_mat_all_this = tmp[\"probs_mat_all_this\"].values[0] # (trials, times, labels)\n",
    "    idx_decode = labels.index(decoder_class)\n",
    "    probs_mat = probs_mat_all_this[:, :, idx_decode]\n",
    "    return probs_mat\n",
    "\n",
    "idx_within = 3\n",
    "_assigned = \"ambig_base1\"\n",
    "probs_mat_1 = _extract_probs_mat(dfres, labels, idx_within, _assigned, decoder_class)\n",
    "\n",
    "idx_within = 0\n",
    "_assigned = \"base1\"\n",
    "probs_mat_2 = _extract_probs_mat(dfres, labels, idx_within, _assigned, decoder_class)\n",
    "\n",
    "probs_vec_1 = np.mean(probs_mat_1, axis=0)\n",
    "probs_vec_2 = np.mean(probs_mat_2, axis=0)\n",
    "\n",
    "# take diff\n",
    "probs_vec_diff = probs_vec_1 - probs_vec_2\n",
    "\n",
    "fig, ax = plt.subplots()\n",
    "\n",
    "ax.plot(times, probs_vec_diff)\n"
   ]
  },
  {
   "cell_type": "code",
   "execution_count": null,
   "id": "688e8978",
   "metadata": {},
   "outputs": [],
   "source": [
    "# Subtract baseline trials (when the)"
   ]
  },
  {
   "cell_type": "markdown",
   "id": "3b5a8669",
   "metadata": {},
   "source": [
    "# State space plots"
   ]
  },
  {
   "cell_type": "code",
   "execution_count": null,
   "id": "e8868970",
   "metadata": {},
   "outputs": [],
   "source": [
    "# Subtrract baseline?\n",
    "subtract_baseline=False\n",
    "subtract_baseline_twind=None\n",
    "include_null_data = False\n",
    "do_upsample_balance=True\n",
    "PLOT_DECODER = True\n",
    "n_min_per_var = 6\n",
    "prune_labels_exist_in_train_and_test = True\n",
    "\n",
    "\n",
    "bregion = \"PMv\"\n",
    "\n",
    "list_morphset = sorted(DSmorphsets.Dat[\"morph_set_idx\"].unique().tolist())\n",
    "for downsample_trials in [True, False]:\n",
    "    list_df = []\n",
    "    for morphset in list_morphset:\n",
    "        # Given morphset, assign new column which is the trial's role in that morphset.\n",
    "\n",
    "        for pa in DFallpa[\"pa\"].values:\n",
    "            dflab = pa.Xlabels[\"trials\"]\n",
    "            dflab[\"idx_morph_temp\"] = [map_tcmorphset_to_idxmorph[(tc, morphset)] for tc in dflab[\"trialcode\"]]\n",
    "\n",
    "        # Train on all the base_prims data\n",
    "        idx_exist = sorted(list(set([x for x in dflab[\"idx_morph_temp\"] if x!=\"not_in_set\"])))\n",
    "\n",
    "        event_train = \"03_samp\"\n",
    "        twind_train = (0.1, 1.8)\n",
    "        filterdict_train = {\"idx_morph_temp\":idx_exist}\n",
    "        var_train = \"idx_morph_temp\"\n",
    "\n",
    "        # Test on morphed data - get all here\n",
    "        var_test = \"idx_morph_temp\"\n",
    "        event_test = \"03_samp\"\n",
    "        filterdict_test = {\"idx_morph_temp\":idx_exist}\n",
    "        list_twind_test = [(0.1, 1.8)]\n",
    "        which_level_test = \"trial\"\n",
    "\n",
    "\n",
    "        # Other params\n",
    "        savedir = f\"{SAVEDIR}/{bregion}/morphset={morphset}/decoder_training\"\n",
    "        os.makedirs(savedir, exist_ok=True)\n",
    "        print(savedir)\n",
    "        \n",
    "        dfscores, Dc, PAtrain, PAtest = pipeline_train_test_scalar_score(DFallpa, bregion, var_train, event_train, \n",
    "                                                                        twind_train, filterdict_train,\n",
    "                                            var_test, event_test, list_twind_test, filterdict_test, savedir,\n",
    "                                            include_null_data=include_null_data, decoder_method_index=None,\n",
    "                                            prune_labels_exist_in_train_and_test=prune_labels_exist_in_train_and_test, PLOT=PLOT_DECODER,\n",
    "                                            which_level_test=which_level_test, n_min_per_var=n_min_per_var,\n",
    "                                            subtract_baseline=subtract_baseline, subtract_baseline_twind=subtract_baseline_twind,\n",
    "                                            do_upsample_balance=do_upsample_balance, downsample_trials=downsample_trials)\n",
    "        dfscores[\"morph_set_idx\"] = morphset\n",
    "\n",
    "\n",
    "        ##### Store features related to psycho\n",
    "        list_idx = sorted(DSmorphsets.Dat[DSmorphsets.Dat[\"morph_set_idx\"] == morphset][\"morph_idxcode_within_set\"].unique().tolist())\n",
    "        dfscores[\"pa_morph_assigned_baseorambig\"] = [map_morphsetidx_to_assignedbase_or_ambig[(morphset, idx_morph_temp)] for idx_morph_temp in dfscores[\"pa_class\"]]\n",
    "\n",
    "        #### Recoding classes, to allow averaging over all data.\n",
    "\n",
    "        # PA class --> already done, \"pa_morph_assigned_baseorambig\"\n",
    "        # Decoder class\n",
    "            # For each pa, group the decoder classes into semantic groupings, to allow averaging over all data.\n",
    "            # (base1, interm1, same, interm2, base2)\n",
    "\n",
    "        tmp = []\n",
    "        for i, row in dfscores.iterrows():\n",
    "\n",
    "            if row[\"decoder_class\"] == 0:\n",
    "                decoder_class_semantic_good = \"base1\"\n",
    "            elif row[\"decoder_class\"] == 99:\n",
    "                decoder_class_semantic_good = \"base2\"\n",
    "            elif row[\"decoder_class\"] == row[\"pa_class\"]:\n",
    "                assert row[\"same_class\"]\n",
    "                decoder_class_semantic_good = \"same\"\n",
    "            else:\n",
    "                # Is this to left or right of pa class\n",
    "                if row[\"decoder_class\"]<row[\"pa_class\"]:\n",
    "                    decoder_class_semantic_good = \"interm1\"\n",
    "                elif row[\"decoder_class\"]>row[\"pa_class\"]:\n",
    "                    decoder_class_semantic_good = \"interm2\"\n",
    "                else:\n",
    "                    assert False\n",
    "            tmp.append(decoder_class_semantic_good)\n",
    "        dfscores[\"decoder_class_semantic_good\"] = tmp\n",
    "\n",
    "\n",
    "        ##### Normalize each decoder, to range between min and max across the pa_classes (their means)\n",
    "        y_var = \"score\"\n",
    "\n",
    "        group_max = dfscores.groupby([\"decoder_class\"])[y_var].max().reset_index().rename(columns={y_var: f'{y_var}_max'})\n",
    "        group_min = dfscores.groupby([\"decoder_class\"])[y_var].min().reset_index().rename(columns={y_var: f'{y_var}_max'})\n",
    "\n",
    "        group_max\n",
    "        group_max = dfscores.groupby([\"decoder_class\", \"pa_class\"])[y_var].mean().reset_index().groupby([\"decoder_class\"]).max().reset_index()\n",
    "        group_max = group_max.rename(columns={\"pa_class\":\"pa_class_max\", y_var: f'{y_var}_max'})\n",
    "        group_max\n",
    "\n",
    "        group_min = dfscores.groupby([\"decoder_class\", \"pa_class\"])[y_var].mean().reset_index().groupby([\"decoder_class\"]).min().reset_index()\n",
    "        group_min = group_min.rename(columns={\"pa_class\":\"pa_class_min\", y_var: f'{y_var}_min'})\n",
    "        group_min\n",
    "        dfscores = pd.merge(dfscores, group_max, on=\"decoder_class\", how='left')\n",
    "        dfscores = pd.merge(dfscores, group_min, on=\"decoder_class\", how='left')\n",
    "\n",
    "        dfscores[\"score_norm\"] = (dfscores[\"score\"] - dfscores[\"score_min\"])/(dfscores[\"score_max\"] - dfscores[\"score_min\"])\n",
    "\n",
    "\n",
    "        ######### Additional preprocessing of dscores\n",
    "        # -----------------\n",
    "        dfscores[\"trial_morph_assigned_to_which_base\"] = [map_tcmorphset_to_info[(row[\"trialcode\"], row[\"morph_set_idx\"])][0] for i, row in dfscores.iterrows()]\n",
    "\n",
    "        # -----------------\n",
    "        # New column -- was the decoder for base1 or base2 drawn on this trial.\n",
    "        # Each trial must get a match to one decoder, even if its ambiguous\n",
    "        tmp = []\n",
    "        for i, row in dfscores.iterrows():\n",
    "            \n",
    "            if row[\"trial_morph_assigned_to_which_base\"] in [\"base1\", \"ambig_base1\", \"not_ambig_base1\"]:\n",
    "                drew = \"base1\"\n",
    "            elif row[\"trial_morph_assigned_to_which_base\"] in [\"base2\", \"ambig_base2\", \"not_ambig_base2\"]:\n",
    "                drew = \"base2\"\n",
    "            else:\n",
    "                print(row[\"trial_morph_assigned_to_which_base\"])\n",
    "                assert False\n",
    "\n",
    "            if row[\"decoder_class\"] == 0 and drew == \"base1\":\n",
    "                decoder_is_drawn_base_prim = True\n",
    "            elif row[\"decoder_class\"] == 99 and drew == \"base2\":\n",
    "                decoder_is_drawn_base_prim = True\n",
    "            else:\n",
    "                decoder_is_drawn_base_prim = False    \n",
    "\n",
    "            # if i==1:\n",
    "            #     print(row)\n",
    "            #     print(drew)\n",
    "            #     print(decoder_is_drawn_base_prim)\n",
    "            #     assert False\n",
    "            # assert False\n",
    "            tmp.append(decoder_is_drawn_base_prim)\n",
    "\n",
    "        dfscores[\"decoder_class_was_drawn\"] = tmp\n",
    "\n",
    "        # Sanity check -- each trialcode has a single case that is True\n",
    "        assert np.all(dfscores[dfscores[\"decoder_class_was_drawn\"]==True].groupby([\"morph_set_idx\", \"trialcode\"]).size().reset_index(drop=True)==1), \"expect each (morph_set_idx, trialcode) to have 1 decoder (i.e, varying by idx within morpht) that matches it\"\n",
    "\n",
    "\n",
    "\n",
    "\n",
    "\n",
    "        assert False\n"
   ]
  },
  {
   "cell_type": "code",
   "execution_count": null,
   "id": "f6fcf381",
   "metadata": {},
   "outputs": [],
   "source": [
    "Dc.VarDecode"
   ]
  },
  {
   "cell_type": "code",
   "execution_count": null,
   "id": "bbd9514f",
   "metadata": {},
   "outputs": [],
   "source": [
    "PAtrain."
   ]
  },
  {
   "cell_type": "code",
   "execution_count": null,
   "id": "bfa04927",
   "metadata": {},
   "outputs": [],
   "source": [
    "savedir = \"/tmp\""
   ]
  },
  {
   "cell_type": "code",
   "execution_count": null,
   "id": "cb7e2f68",
   "metadata": {},
   "outputs": [],
   "source": [
    "PAtrain."
   ]
  },
  {
   "cell_type": "code",
   "execution_count": null,
   "id": "f76b1fc3",
   "metadata": {},
   "outputs": [],
   "source": [
    "# Train -- PC space.\n",
    "\n",
    "PAtrain\n",
    "\n",
    "savedirthis = f\"{savedir}/pca_construction\"\n",
    "os.makedirs(savedirthis, exist_ok=True)\n",
    "PLOT_STEPS = False\n",
    "nmin_trials_per_lev = 5\n",
    "\n",
    "NPCS_KEEP = 6\n",
    "superv_dpca_var = Dc.VarDecode\n",
    "superv_dpca_vars_group = None\n",
    "twind = twind_train\n",
    "\n",
    "reshape_method = \"chans_x_trials_x_times\"\n",
    "tbin_dur = 0.1\n",
    "Xredu, PAredu, _, _, pca = PAtrain.dataextract_pca_demixed_subspace(\n",
    "    superv_dpca_var, superv_dpca_vars_group, twind, tbin_dur, savedir_plots=savedirthis,\n",
    "    n_min_per_lev_lev_others=nmin_trials_per_lev, PLOT_STEPS=PLOT_STEPS,\n",
    "    n_pcs_subspace_max=NPCS_KEEP, reshape_method=reshape_method)\n"
   ]
  },
  {
   "cell_type": "code",
   "execution_count": null,
   "id": "ea05a4bd",
   "metadata": {},
   "outputs": [],
   "source": [
    "SAVEDIR_ANALYSIS = \"/tmp\""
   ]
  },
  {
   "cell_type": "code",
   "execution_count": null,
   "id": "38f88de3",
   "metadata": {},
   "outputs": [],
   "source": [
    "PAredu.X."
   ]
  },
  {
   "cell_type": "code",
   "execution_count": null,
   "id": "f8613200",
   "metadata": {},
   "outputs": [],
   "source": [
    "from neuralmonkey.analyses.state_space_good import trajgood_plot_colorby_splotby_WRAPPER"
   ]
  },
  {
   "cell_type": "code",
   "execution_count": null,
   "id": "ad674250",
   "metadata": {},
   "outputs": [],
   "source": [
    "# Trajectory plots \n",
    "\n",
    "Xredu, PAredu, _, _, pca\n",
    "dflab = PAredu.Xlabels[\"trials\"]\n",
    "times = PAredu.Times\n",
    "\n",
    "##### Plot scalars\n",
    "savedir = f\"{SAVEDIR_ANALYSIS}/state_space_testing\"\n",
    "print(savedir)\n",
    "os.makedirs(savedir, exist_ok=True)\n",
    "\n",
    "list_var_color_var_subplot = [\n",
    "    [Dc.VarDecode, None],\n",
    "]\n",
    "LIST_DIMS = [(0,1), (2,3)]\n",
    "n_min_per_levo = 5\n",
    "for var_color, var_subplot in list_var_color_var_subplot:\n",
    "    from neuralmonkey.analyses.state_space_good import trajgood_plot_colorby_splotby_scalar_WRAPPER\n",
    "    trajgood_plot_colorby_splotby_WRAPPER(Xredu, times, dflab, var_color, savedir,\n",
    "                                vars_subplot=var_subplot, list_dims=LIST_DIMS, time_bin_size=tbin_dur)\n",
    "plt.close(\"all\")"
   ]
  },
  {
   "cell_type": "code",
   "execution_count": null,
   "id": "fba2f7b9",
   "metadata": {},
   "outputs": [],
   "source": [
    "Xredu.shape"
   ]
  },
  {
   "cell_type": "code",
   "execution_count": null,
   "id": "df28960c",
   "metadata": {},
   "outputs": [],
   "source": [
    "# Plot a single trial\n"
   ]
  },
  {
   "cell_type": "code",
   "execution_count": null,
   "id": "784dec0a",
   "metadata": {},
   "outputs": [],
   "source": []
  },
  {
   "cell_type": "markdown",
   "id": "c4f85574",
   "metadata": {},
   "source": [
    "### METHOD -- trial by trial scatter plots [including KDE plots...]"
   ]
  },
  {
   "cell_type": "code",
   "execution_count": null,
   "id": "9986e090",
   "metadata": {},
   "outputs": [],
   "source": [
    "if False:\n",
    "    indtrials = list(range(20))\n",
    "elif False:\n",
    "    indtrials = PAtest.Xlabels[\"trials\"][PAtest.Xlabels[\"trials\"][Dc.VarDecode]==\"0|99\"].index\n",
    "else:\n",
    "    # First, extract PA\n",
    "    morphset = 3\n",
    "    idx_in_morphset = 2\n",
    "    trialcodes = find_morphset_morphidx(DSmorphsets, morphset, idx_in_morphset)\n",
    "    display([(i, \" --- \", map_tcmorphset_to_info[(tc, morphset)]) for i, tc in enumerate(trialcodes)])\n",
    "\n",
    "    indtrials = PAtest.Xlabels[\"trials\"][PAtest.Xlabels[\"trials\"][\"trialcode\"].isin(trialcodes)].index.tolist()\n",
    "    indtrials\n",
    "\n",
    "print(len(indtrials))\n",
    "twind = (0.1, 1.8)\n",
    "PAprobs, probs_mat_all, times, labels = Dc.timeseries_score_wrapper(PAtest, twind, indtrials)"
   ]
  },
  {
   "cell_type": "code",
   "execution_count": null,
   "id": "4f13392c",
   "metadata": {},
   "outputs": [],
   "source": [
    "import seaborn as sns"
   ]
  },
  {
   "cell_type": "code",
   "execution_count": null,
   "id": "6c30f4c9",
   "metadata": {},
   "outputs": [],
   "source": [
    "fig, ax = plt.subplots()\n",
    "x1 = probs_mat_all[0, :, 0]\n",
    "x2 = probs_mat_all[0, :, 1]\n",
    "\n",
    "def _plot_pairwise(xvals, yvals, ax):\n",
    "\n",
    "    # ax.plot(x1, x2, \"-x\", alpha=0.5)\n",
    "    # sns.scatterplot(x=xvals, y=yvals, ax=ax, color=\"k\", alpha=0.02)\n",
    "    \n",
    "    sns.kdeplot(x=xvals, y=yvals, ax=ax, fill=True, thresh=0, levels=50, cmap=\"mako\")\n",
    "    \n",
    "    # This is the worst\n",
    "    # sns.histplot(x=xvals, y=yvals, ax=ax, bins=20, stat=\"probability\", cbar=True, alpha=0.5)\n",
    "    # sns.rugplot(x=xvals, y=yvals, ax=ax, color=\"k\", alpha=0.5)"
   ]
  },
  {
   "cell_type": "code",
   "execution_count": null,
   "id": "c5eb5770",
   "metadata": {},
   "outputs": [],
   "source": [
    "fig, ax = plt.subplots()\n",
    "x1 = probs_mat_all[0, :, 0]\n",
    "x2 = probs_mat_all[0, :, 1]\n",
    "_plot_pairwise(x1, x2, ax)"
   ]
  },
  {
   "cell_type": "code",
   "execution_count": null,
   "id": "8cdbc083",
   "metadata": {},
   "outputs": [],
   "source": [
    "# Make plot, comparing each pair of labels\n",
    "\n",
    "ncols = len(labels)\n",
    "nrows = len(labels)\n",
    "SIZE = 3\n",
    "fig, axes = plt.subplots(nrows, ncols, figsize=(nrows*SIZE, ncols*SIZE))\n",
    "\n",
    "for i, lab1 in enumerate(labels): # rows\n",
    "    for j, lab2 in enumerate(labels): # cols\n",
    "        if j!=i:\n",
    "            ax = axes[i][j]\n",
    "\n",
    "            xvals = probs_mat[:, j]\n",
    "            yvals = probs_mat[:, i]\n",
    "            # ax.set_title((i, j))\n",
    "            # ax.set_title((i, j))\n",
    "            _plot_pairwise(xvals, yvals, ax)\n",
    "            ax.set_xlabel(lab2)\n",
    "            ax.set_ylabel(lab1)\n",
    "\n",
    "            # assert False\n"
   ]
  }
 ],
 "metadata": {
  "kernelspec": {
   "display_name": "Python 3",
   "language": "python",
   "name": "python3"
  },
  "language_info": {
   "codemirror_mode": {
    "name": "ipython",
    "version": 3
   },
   "file_extension": ".py",
   "mimetype": "text/x-python",
   "name": "python",
   "nbconvert_exporter": "python",
   "pygments_lexer": "ipython3",
   "version": "3.8.18"
  }
 },
 "nbformat": 4,
 "nbformat_minor": 5
}
