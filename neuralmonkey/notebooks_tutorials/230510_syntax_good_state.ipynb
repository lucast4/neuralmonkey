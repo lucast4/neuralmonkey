{
 "cells": [
  {
   "cell_type": "code",
   "execution_count": 1,
   "id": "7125966e",
   "metadata": {},
   "outputs": [
    {
     "data": {
      "text/plain": [
       "'\\nOrganizing good plots for syntax, espeically:\\n- euclidian dist\\n- state space\\n'"
      ]
     },
     "execution_count": 1,
     "metadata": {},
     "output_type": "execute_result"
    }
   ],
   "source": [
    "\"\"\"\n",
    "Organizing good plots for syntax, espeically:\n",
    "- euclidian dist\n",
    "- state space\n",
    "\"\"\""
   ]
  },
  {
   "cell_type": "code",
   "execution_count": 2,
   "id": "4b248d33aff307a2",
   "metadata": {
    "collapsed": false
   },
   "outputs": [],
   "source": [
    "%load_ext autoreload\n",
    "%autoreload 2\n",
    "\n",
    "import numpy as np\n",
    "import pandas as pd\n",
    "import matplotlib.pyplot as plt"
   ]
  },
  {
   "cell_type": "markdown",
   "id": "e21d20c8",
   "metadata": {},
   "source": [
    "# Load DFallPa dataset"
   ]
  },
  {
   "cell_type": "code",
   "execution_count": null,
   "id": "5bc90040",
   "metadata": {},
   "outputs": [],
   "source": [
    "from neuralmonkey.scripts.analy_dfallpa_extract import extract_dfallpa_helper\n",
    "from neuralmonkey.classes.population_mult import load_handsaved_wrapper, dfpa_match_chans_across_pa_each_bregion\n",
    "from neuralmonkey.classes.population_mult import extract_single_pa\n",
    "from neuralmonkey.metadat.analy.anova_params import params_getter_euclidian_vars\n",
    "from neuralmonkey.classes.population_mult import dfpa_concatbregion_preprocess_clean_bad_channels, dfpa_concatbregion_preprocess_wrapper\n",
    "from pythonlib.tools.pandastools import append_col_with_grp_index\n",
    "import seaborn as sns\n",
    "import os\n",
    "from neuralmonkey.classes.population_mult import extract_single_pa\n",
    "from neuralmonkey.analyses.state_space_good import euclidian_distance_compute_trajectories_single, euclidian_distance_compute_trajectories\n",
    "\n",
    "animal = \"Diego\"\n",
    "\n",
    "version = \"stroke\"\n",
    "combine = False\n",
    "\n",
    "date = 230913\n",
    "question = \"RULE_ANBMCK_STROKE\"\n",
    "\n",
    "# date = 230922\n",
    "# question = \"RULESW_ANY_SEQSUP_STROKE\"\n",
    "\n",
    "# Load a single DFallPA\n",
    "DFallpa = load_handsaved_wrapper(animal, date, version=version, combine_areas=combine, \n",
    "                                    question=question)\n",
    "\n",
    "dfpa_concatbregion_preprocess_wrapper(DFallpa, animal, date)\n"
   ]
  },
  {
   "cell_type": "code",
   "execution_count": null,
   "id": "5e1200ff",
   "metadata": {},
   "outputs": [],
   "source": [
    "# Load params\n",
    "from neuralmonkey.metadat.analy.anova_params import params_getter_euclidian_vars\n",
    "\n",
    "LIST_VAR, LIST_VARS_OTHERS, LIST_CONTEXT, LIST_PRUNE_MIN_N_LEVS, LIST_FILTDICT = params_getter_euclidian_vars(question, context_version=\"new\")"
   ]
  },
  {
   "cell_type": "markdown",
   "id": "d38b3d89",
   "metadata": {},
   "source": [
    "##### Testing -- compute euclidian distance, using fast method"
   ]
  },
  {
   "cell_type": "code",
   "execution_count": null,
   "id": "d63e254d",
   "metadata": {},
   "outputs": [],
   "source": [
    "# Automaticlaly getting the contrast of interest\n",
    "\n",
    "list_contrast_idx = params_get_contrasts_of_interest()\n"
   ]
  },
  {
   "cell_type": "code",
   "execution_count": null,
   "id": "8141fbb1",
   "metadata": {},
   "outputs": [],
   "source": [
    "SAVEDIR_ANALYSIS = \"/tmp/SYNTAX_EUCL_2\"\n",
    "os.makedirs(SAVEDIR_ANALYSIS, exist_ok=True)"
   ]
  },
  {
   "cell_type": "code",
   "execution_count": null,
   "id": "e7176d75",
   "metadata": {},
   "outputs": [],
   "source": [
    "from neuralmonkey.scripts.analy_syntax_good_eucl_state import euclidian_time_resolved_fast_shuffled\n",
    "euclidian_time_resolved_fast_shuffled(DFallpa, SAVEDIR_ANALYSIS, question)"
   ]
  },
  {
   "cell_type": "code",
   "execution_count": null,
   "id": "27da7307",
   "metadata": {},
   "outputs": [],
   "source": [
    "from neuralmonkey.scripts.analy_euclidian_dist_pop_script import _get_list_twind_by_animal\n",
    "LIST_TWIND, LIST_TBIN_DUR, LIST_TBIN_SLIDE = _get_list_twind_by_animal(\"Pancho\", event, \"traj_to_scalar\")\n",
    "LIST_TWIND[0]"
   ]
  },
  {
   "cell_type": "code",
   "execution_count": null,
   "id": "9444601d",
   "metadata": {},
   "outputs": [],
   "source": [
    "##### [DEBUG] Run the old (classic) version.\n",
    "\n",
    "savedir = \"/tmp/SYNTAX_TEST\"\n",
    "os.makedirs(savedir, exist_ok=True)\n",
    "PLOT_STATE_SPACE = False\n",
    "PLOT_HEATMAPS = False\n",
    "nmin_trials_per_lev = 4\n",
    "dim_red_method = \"superv_dpca\"\n",
    "superv_dpca_params = {\n",
    "    \"superv_dpca_var\":\"epch_sytxrol\",\n",
    "    \"superv_dpca_vars_group\":None,\n",
    "    \"superv_dpca_filtdict\":None\n",
    "}\n",
    "COMPUTE_EUCLIDIAN = True\n",
    "PLOT_MASKS = False\n",
    "PAthisRedu = preprocess_pa(PA, var_effect, vars_others, prune_min_n_trials, prune_min_n_levs, filtdict,\n",
    "            savedir, \n",
    "            subspace_projection, subspace_projection_fitting_twind,\n",
    "            twind_analy, tbin_dur, tbin_slide)\n",
    "\n",
    "dfres = euclidian_distance_compute_trajectories(PAthisRedu, LIST_VAR[16:17], LIST_VARS_OTHERS[16:17], twind_analy, tbin_dur,\n",
    "                        tbin_slide, savedir, PLOT_TRAJS=PLOT_STATE_SPACE, PLOT_HEATMAPS=PLOT_HEATMAPS,\n",
    "                        nmin_trials_per_lev=nmin_trials_per_lev,\n",
    "                        LIST_CONTEXT=LIST_CONTEXT[16:17], LIST_FILTDICT=LIST_FILTDICT[16:17],\n",
    "                        LIST_PRUNE_MIN_N_LEVS=LIST_PRUNE_MIN_N_LEVS[16:17],\n",
    "                        NPCS_KEEP=NPCS_KEEP,\n",
    "                        dim_red_method = dim_red_method, superv_dpca_params=superv_dpca_params,\n",
    "                        COMPUTE_EUCLIDIAN = COMPUTE_EUCLIDIAN,\n",
    "                        PLOT_MASKS=PLOT_MASKS)\n",
    "\n",
    "# Postprocessing\n",
    "dfres = append_col_with_grp_index(dfres, [\"effect_samediff\", \"context_samediff\"], \"effect_context\")\n",
    "dfres[\"effect_context\"].value_counts()"
   ]
  },
  {
   "cell_type": "code",
   "execution_count": null,
   "id": "8f634b2d",
   "metadata": {},
   "outputs": [],
   "source": [
    "# TODO: chekc if this matches old plot.\n",
    "# Is NAN treated correcty? I think so, as it only adverses affects the ClAgg, which is not actually used.\n",
    "# Then run over all variable pairs. \n"
   ]
  },
  {
   "cell_type": "code",
   "execution_count": null,
   "id": "a4491de2",
   "metadata": {},
   "outputs": [],
   "source": [
    "### Plotting \n",
    "DFDIST = pd.concat(list_dfdist).reset_index(drop=True)\n"
   ]
  },
  {
   "cell_type": "code",
   "execution_count": null,
   "id": "cfa82378",
   "metadata": {},
   "outputs": [],
   "source": [
    "from neuralmonkey.scripts.analy_syntax_good_eucl_state import postprocess_dfdist_collected\n",
    "DFDIST = postprocess_dfdist_collected(DFDIST)"
   ]
  },
  {
   "cell_type": "code",
   "execution_count": null,
   "id": "f00ec69e",
   "metadata": {},
   "outputs": [],
   "source": [
    "# aggregate, so that each label1 is given 4 datapoints (00, 01, 10, 11)\n",
    "from pythonlib.tools.pandastools import aggregGeneral, stringify_values\n"
   ]
  },
  {
   "cell_type": "markdown",
   "id": "61894c1a",
   "metadata": {},
   "source": [
    "## Load pre-saved data and make plots (eucl dist)"
   ]
  },
  {
   "cell_type": "code",
   "execution_count": null,
   "id": "4fe9ce7d",
   "metadata": {},
   "outputs": [],
   "source": [
    "from neuralmonkey.scripts.analy_syntax_good_eucl_state import mult_plot_all_wrapper\n",
    "\n",
    "mult_plot_all_wrapper()"
   ]
  },
  {
   "cell_type": "code",
   "execution_count": null,
   "id": "09a6bf47",
   "metadata": {},
   "outputs": [],
   "source": [
    "# DEBUGGING\n",
    "import os\n",
    "\n",
    "animal = \"Diego\"\n",
    "save_suffix = \"sh_vs_seqsup\"\n",
    "# save_suffix = \"AnBmCk_general\"\n",
    "# save_suffix = \"two_shape_sets\"\n",
    "dates_skip_failed = [230817, 230913]\n",
    "\n",
    "# Params\n",
    "subspace_projection = \"epch_sytxrol\"\n",
    "subspace_projection_fitting_twind = (-0.8, 0.3)\n",
    "\n",
    "# Params for loading dataset\n",
    "question, dates, map_savesuffix_to_contrast_idx_pairs = get_params_this_save_suffix(animal, save_suffix)\n",
    "\n",
    "from neuralmonkey.metadat.analy.anova_params import params_getter_euclidian_vars\n",
    "LIST_VAR, LIST_VARS_OTHERS, LIST_CONTEXT, LIST_PRUNE_MIN_N_LEVS, LIST_FILTDICT = params_getter_euclidian_vars(question, \n",
    "                                                                                                                context_version=\"new\")\n"
   ]
  },
  {
   "cell_type": "markdown",
   "id": "0e048700",
   "metadata": {},
   "source": [
    "##### seqsup -- effect of supervision, controlling for shape\n",
    "This doesnt work well -- even PMv shows it, due to not controlling for overall motor context"
   ]
  },
  {
   "cell_type": "code",
   "execution_count": null,
   "id": "f8c1d8df",
   "metadata": {},
   "outputs": [],
   "source": [
    "from neuralmonkey.scripts.analy_syntax_good_eucl_state import postprocess_dfdist_collected\n",
    "DFDIST, DFDIST_AGG = postprocess_dfdist_collected(DFDIST)\n"
   ]
  },
  {
   "cell_type": "code",
   "execution_count": null,
   "id": "d2431736",
   "metadata": {},
   "outputs": [],
   "source": [
    "map_savesuffix_to_contrast_idx_pairs = {\n",
    "    \"test\":[\n",
    "        (11, 5)\n",
    "    ]\n",
    "}"
   ]
  },
  {
   "cell_type": "code",
   "execution_count": null,
   "id": "5956f654",
   "metadata": {},
   "outputs": [],
   "source": [
    "from  neuralmonkey.scripts.analy_syntax_good_eucl_state import mult_plot_all\n",
    "\n",
    "### Summary plots\n",
    "SAVEDIR = \"/tmp/SYNTAX\"\n",
    "mult_plot_all(DFDIST_AGG, map_savesuffix_to_contrast_idx_pairs, SAVEDIR, question, skip_contrast_idx_pair_if_fail=True)"
   ]
  },
  {
   "cell_type": "markdown",
   "id": "dbc9ead5",
   "metadata": {},
   "source": [
    "##### within chunk (did not finish)\n",
    "Too difficult, as the var others have differnet names... Need to recompute, writing code dedicated to this"
   ]
  },
  {
   "cell_type": "code",
   "execution_count": null,
   "id": "df0b9624",
   "metadata": {},
   "outputs": [],
   "source": [
    "contrast_idx = 15\n",
    "date = 230920\n",
    "dfdist = DFDIST[(DFDIST[\"date\"] == date) & (DFDIST[\"contrast_idx\"] == contrast_idx)].reset_index(drop=True)\n"
   ]
  },
  {
   "cell_type": "code",
   "execution_count": null,
   "id": "befbce33",
   "metadata": {},
   "outputs": [],
   "source": [
    "dfdist[\"vars_others\"].unique()"
   ]
  },
  {
   "cell_type": "code",
   "execution_count": null,
   "id": "d0caac00",
   "metadata": {},
   "outputs": [],
   "source": [
    "dfdist"
   ]
  },
  {
   "cell_type": "code",
   "execution_count": null,
   "id": "ecc387c1",
   "metadata": {},
   "outputs": [],
   "source": []
  },
  {
   "cell_type": "code",
   "execution_count": null,
   "id": "619f70da",
   "metadata": {},
   "outputs": [],
   "source": [
    "set([x for x in dfdist[\"_vars_others_1\"] if x[-1]==\"0\"])"
   ]
  },
  {
   "cell_type": "code",
   "execution_count": null,
   "id": "da36981e",
   "metadata": {},
   "outputs": [],
   "source": [
    "set([x for x in dfdist[\"_vars_others_1\"] if x[-1]==\"1\"])"
   ]
  },
  {
   "cell_type": "code",
   "execution_count": null,
   "id": "ccdb7021",
   "metadata": {},
   "outputs": [],
   "source": [
    "from pythonlib.tools.pandastools import grouping_print_n_samples\n",
    "grouping_print_n_samples(dfdist, [\"labels_1\", \"labels_2\"])    \n"
   ]
  },
  {
   "cell_type": "markdown",
   "id": "d169c9bc",
   "metadata": {},
   "source": [
    "### Debugging -- computing euclidian distance for a single PA"
   ]
  },
  {
   "cell_type": "code",
   "execution_count": null,
   "id": "22d2676c",
   "metadata": {},
   "outputs": [],
   "source": [
    "# var_effect = \"chunk_within_rank_semantic\"\n",
    "# vars_others = [\"chunk_rank\"]\n",
    "# # vars_context_same = [\"gridloc\"]\n",
    "# # vars_context_diff = [\"stroke_index\"]\n",
    "# # context_dict = {\"same\":vars_context_same, \"diff\":vars_context_diff}\n",
    "# context_dict = {\"same\":[], \"diff\":[\"gridloc\"]}\n",
    "\n",
    "# var_effect = \"gridloc\"\n",
    "# vars_others = [\"chunk_rank\"]\n",
    "# # vars_context_same = [\"gridloc\"]\n",
    "# # vars_context_diff = [\"stroke_index\"]\n",
    "# # context_dict = {\"same\":vars_context_same, \"diff\":vars_context_diff}\n",
    "# context_dict = {\"same\":[], \"diff\":[\"chunk_within_rank_semantic\"]}\n",
    "# ### Testing, on simple thing\n",
    "\n",
    "var_effect = \"shape\"\n",
    "vars_others = [\"gridloc\"]\n",
    "# vars_context_same = [\"gridloc\"]\n",
    "# vars_context_diff = [\"stroke_index\"]\n",
    "# context_dict = {\"same\":vars_context_same, \"diff\":vars_context_diff}\n",
    "context_dict = {\"same\":[], \"diff\":[\"stroke_index\"]}"
   ]
  },
  {
   "cell_type": "code",
   "execution_count": null,
   "id": "da2386cb",
   "metadata": {},
   "outputs": [],
   "source": [
    "# Consolidate vars_others into a single variable\n",
    "from pythonlib.tools.pandastools import append_col_with_grp_index\n",
    "dflab = PA.Xlabels[\"trials\"]\n",
    "dflab = append_col_with_grp_index(dflab, vars_others, \"_vars_others\")\n",
    "PA.Xlabels[\"trials\"] = dflab"
   ]
  },
  {
   "cell_type": "code",
   "execution_count": null,
   "id": "12d6a051",
   "metadata": {},
   "outputs": [],
   "source": [
    "from pythonlib.tools.pandastools import grouping_print_n_samples\n",
    "grouping_print_n_samples(dflab, [var_effect] + vars_others + [\"gridloc\"])"
   ]
  },
  {
   "cell_type": "code",
   "execution_count": null,
   "id": "faa5d082",
   "metadata": {},
   "outputs": [],
   "source": [
    "# Newer (fast) method\n",
    "from neuralmonkey.analyses.euclidian_distance import timevarying_compute_fast_to_scalar\n",
    "\n",
    "# (1) Data\n",
    "savedir = \"/tmp/SYNTAX\"\n",
    "os.makedirs(savedir, exist_ok=True)\n",
    "dfdist, Cldist = timevarying_compute_fast_to_scalar(PA, [var_effect, \"_vars_others\"], plot_conjunctions_savedir=savedir,\n",
    "                                                    context_dict = context_dict)\n"
   ]
  },
  {
   "cell_type": "code",
   "execution_count": null,
   "id": "216f8530",
   "metadata": {},
   "outputs": [],
   "source": [
    "dfdist"
   ]
  },
  {
   "cell_type": "code",
   "execution_count": null,
   "id": "92659108",
   "metadata": {},
   "outputs": [],
   "source": [
    "dfdist"
   ]
  },
  {
   "cell_type": "code",
   "execution_count": null,
   "id": "91dc29f9",
   "metadata": {},
   "outputs": [],
   "source": [
    "# Check that the output doesnt include context vriable"
   ]
  },
  {
   "cell_type": "code",
   "execution_count": null,
   "id": "6795652e",
   "metadata": {},
   "outputs": [],
   "source": [
    "dfres, CldistAgg = Cldist.rsa_distmat_score_all_pairs_of_label_groups(get_only_one_direction=False, return_as_clustclass=True)"
   ]
  },
  {
   "cell_type": "code",
   "execution_count": null,
   "id": "899ed137",
   "metadata": {},
   "outputs": [],
   "source": [
    "CldistAgg.rsa_plot_heatmap(sort_order=(2,0,1))"
   ]
  },
  {
   "cell_type": "code",
   "execution_count": null,
   "id": "dbd5201b",
   "metadata": {},
   "outputs": [],
   "source": [
    "CldistAgg.rsa_labels_extract_label_vars()"
   ]
  },
  {
   "cell_type": "code",
   "execution_count": null,
   "id": "9b6047b4",
   "metadata": {},
   "outputs": [],
   "source": [
    "##### Testing out context helper.\n",
    "\n",
    "# Plot masks\n",
    "path_for_save_print_lab_each_mask = f\"/tmp/SYNTAX/mask.txt\"\n",
    "diffctxt_vars_same = [\"shape\", \"stroke_index\"]\n",
    "diffctxt_vars_diff = []\n",
    "# diffctxt_vars_diff = [\"_vars_others\", \"stroke_index\"]\n",
    "diff_context_ver = None\n",
    "\n",
    "PLOT = True\n",
    "path_for_save_print_lab_each_mask = f\"/tmp/SYNTAX/mask.txt\"\n",
    "ma_context, fig, axes = CldistAgg.rsa_mask_context_helper_simple(diffctxt_vars_same, diffctxt_vars_diff, \n",
    "                                                            diff_context_ver, only_upper_triangle=False,\n",
    "                                                            PLOT=PLOT, \n",
    "                                                            path_for_save_print_lab_each_mask=path_for_save_print_lab_each_mask)\n",
    "from pythonlib.tools.plottools import savefig\n",
    "savefig(fig, f\"/tmp/SYNTAX/masks.pdf\")\n",
    "plt.close(\"all\")\n"
   ]
  },
  {
   "cell_type": "code",
   "execution_count": null,
   "id": "94b828fc",
   "metadata": {},
   "outputs": [],
   "source": [
    "# DONE -- masking at level of trial, \n",
    "# PROBLEM -- some cases dont have within-group distance, and so fails above.\n",
    "# SOLUTION -- have exception to always have within-group scores collected.\n",
    "# DONE!!\n",
    "\n",
    "# TODO -- recompute the euclidian distance scores.\n"
   ]
  },
  {
   "cell_type": "markdown",
   "id": "de4e5816",
   "metadata": {},
   "source": [
    "# Devo -- shape vs. seqsup, starting from scratch, good controlling of context, etc"
   ]
  },
  {
   "cell_type": "code",
   "execution_count": null,
   "id": "247c94db",
   "metadata": {},
   "outputs": [],
   "source": [
    "PA = DFallpa[\"pa\"].values[0]\n",
    "dflab = PA.Xlabels[\"trials\"]"
   ]
  },
  {
   "cell_type": "code",
   "execution_count": null,
   "id": "624f57f3",
   "metadata": {},
   "outputs": [],
   "source": [
    "# only keep pool of chars that are in both (no superv, and superv) epochs\n",
    "dflab = dflab[dflab[\"epochset_shape\"] == (\"llCV3\",)].reset_index(drop=True)\n",
    "\n",
    "# assert that each character has each syntax role existing in both epoch\n",
    "from pythonlib.tools.pandastools import extract_with_levels_of_conjunction_vars_helper\n",
    "dfout, dict_dfthis = extract_with_levels_of_conjunction_vars_helper(dflab, \"superv_is_seq_sup\", [\"character\", \"syntax_role\"], lenient_allow_data_if_has_n_levels=2, \n",
    "                                               levels_var=[False, True])\n",
    "assert len(dflab) == len(dfout), \"This means either (i) a char was not in both epochs or (ii) a char has diff syntax role across epochs\"\n"
   ]
  },
  {
   "cell_type": "code",
   "execution_count": null,
   "id": "c4362324",
   "metadata": {},
   "outputs": [],
   "source": [
    "# To see what exists\n",
    "from pythonlib.tools.pandastools import grouping_print_n_samples\n",
    "\n",
    "# grouping_print_n_samples(dflab, [\"epochset_shape\", \"epoch_rand\", \"superv_is_seq_sup\", \"chunk_rank\", \"shape\", \"chunk_within_rank\"])\n",
    "grouping_print_n_samples(dflab, [\"epochset_shape\", \"character\", \"epoch_rand\", \"superv_is_seq_sup\", \"chunk_rank\", \"shape\", \"chunk_within_rank\"])\n"
   ]
  },
  {
   "cell_type": "code",
   "execution_count": null,
   "id": "7c44c1f3",
   "metadata": {},
   "outputs": [],
   "source": [
    "from neuralmonkey.scripts.analy_syntax_good_eucl_state import preprocess_pa\n",
    "from neuralmonkey.analyses.euclidian_distance import timevarying_compute_fast_to_scalar\n",
    "\n",
    "\n",
    "prune_min_n_trials = 4\n",
    "subspace_projection = \"epch_sytxrol\"\n",
    "subspace_projection_fitting_twind = (-0.8, 0.3)\n",
    "twind_analy = (-1, 0.6)\n",
    "tbin_dur = 0.15 # Matching params in other analyses\n",
    "tbin_slide = 0.02\n",
    "\n",
    "# Compute eucl distance within each shape\n",
    "var_effect = \"chunk_within_rank_semantic_v2\"\n",
    "vars_others = [\"epochset_shape\", \"epoch_rand\", \"chunk_rank\", \"shape\", \"superv_is_seq_sup\"]\n",
    "context_dict = {\"same\":[\"epochset_shape\", \"epoch_rand\", \"chunk_rank\", \"shape\", \"superv_is_seq_sup\"], \"diff\":None}\n",
    "prune_min_n_levs = 2\n",
    "# filtdict = {\"stroke_index\": list(range(1, 10, 1))}\n",
    "filtdict = {\"epochset_shape\":[(\"llCV3\",)]}\n",
    "\n",
    "vars_group = [var_effect, \"_vars_others\"]\n",
    "\n",
    "SAVEDIR = \"/tmp/SYNTAX_RAW\"\n",
    "os.makedirs(SAVEDIR, exist_ok=True)\n",
    "print(\"SAVING AT ... \", SAVEDIR)\n",
    "\n",
    "# Make sure there is no \"diff\" in context\n",
    "if context_dict is not None:\n",
    "    assert (context_dict[\"diff\"] is None) or (len(context_dict[\"diff\"])==0), \"need to run the step above, removing diffs, or else will fail to get diff var_others eucliian\"\n",
    "\n",
    "print(\"These params: \", var_effect, vars_others, context_dict, filtdict)\n",
    "\n",
    "# Preprocess\n",
    "savedir = f\"{SAVEDIR}/preprocess\"\n",
    "os.makedirs(savedir, exist_ok=True)\n",
    "\n",
    "PAthisRedu = preprocess_pa(PA, var_effect, vars_others, prune_min_n_trials, prune_min_n_levs, filtdict,\n",
    "            savedir, \n",
    "            subspace_projection, subspace_projection_fitting_twind,\n",
    "            twind_analy, tbin_dur, tbin_slide, use_strings_for_vars_others=False)\n",
    "\n",
    "###################################### Running euclidian\n",
    "twind_scal = (-0.1, 0.3)\n",
    "\n",
    "# Prune to scalar window\n",
    "pathis = PAthisRedu.slice_by_dim_values_wrapper(\"times\", twind_scal)\n",
    "\n",
    "# \n",
    "rsa_savedir = f\"{SAVEDIR}/rsa-twind_scal={twind_scal}\"\n",
    "os.makedirs(rsa_savedir, exist_ok=True)\n",
    "\n",
    "# Run\n",
    "dfdist, _ = timevarying_compute_fast_to_scalar(pathis, label_vars=vars_group, rsa_heatmap_savedir=rsa_savedir,\n",
    "                                                prune_levs_min_n_trials=prune_min_n_trials, \n",
    "                                                context_dict=context_dict)\n"
   ]
  },
  {
   "cell_type": "code",
   "execution_count": null,
   "id": "f3ce59d5",
   "metadata": {},
   "outputs": [],
   "source": [
    "##### Good, running all\n",
    "from neuralmonkey.scripts.analy_syntax_good_eucl_state import euclidian_time_resolved_fast_shuffled\n",
    "question = \"RULESW_ANY_SEQSUP_STROKE\"\n",
    "SAVEDIR_ANALYSIS = f\"/tmp/SYNTAX_TEST-{question}\"\n",
    "os.makedirs(SAVEDIR_ANALYSIS, exist_ok=True)\n",
    "euclidian_time_resolved_fast_shuffled(DFallpa, animal, SAVEDIR_ANALYSIS, question, version_seqsup_good=True)"
   ]
  },
  {
   "cell_type": "markdown",
   "id": "954012ac",
   "metadata": {},
   "source": [
    "### [Load mult data] and plot"
   ]
  },
  {
   "cell_type": "code",
   "execution_count": 3,
   "id": "9608f4c8",
   "metadata": {},
   "outputs": [
    {
     "name": "stdout",
     "output_type": "stream",
     "text": [
      "Loading this path:  /lemur2/lucas/analyses/recordings/main/syntax_good/EUCLIDIAN_SHUFF/Pancho-230920-comb=False-q=RULESW_ANY_SEQSUP_STROKE-seqsupgood/stroke-M1_m-00_stroke-ss=stxsuperv-fit_twind=(-0.8, 0.3)/contrast=0|chunk_within_rank_semantic_v2/dfdist-twind_scal=(0.05, 0.25).pkl\n",
      "/lemur2/lucas/analyses/recordings/main/syntax_good/EUCLIDIAN_SHUFF/Pancho-230920-comb=False-q=RULESW_ANY_SEQSUP_STROKE-seqsupgood/stroke-M1_m-00_stroke-ss=stxsuperv-fit_twind=(-0.8, 0.3)/contrast=0|chunk_within_rank_semantic_v2\n",
      "Loading this path:  /lemur2/lucas/analyses/recordings/main/syntax_good/EUCLIDIAN_SHUFF/Pancho-230920-comb=False-q=RULESW_ANY_SEQSUP_STROKE-seqsupgood/stroke-M1_m-00_stroke-ss=stxsuperv-fit_twind=(-0.8, 0.3)/contrast=1|stroke_index/dfdist-twind_scal=(0.05, 0.25).pkl\n",
      "/lemur2/lucas/analyses/recordings/main/syntax_good/EUCLIDIAN_SHUFF/Pancho-230920-comb=False-q=RULESW_ANY_SEQSUP_STROKE-seqsupgood/stroke-M1_m-00_stroke-ss=stxsuperv-fit_twind=(-0.8, 0.3)/contrast=1|stroke_index\n",
      "Loading this path:  /lemur2/lucas/analyses/recordings/main/syntax_good/EUCLIDIAN_SHUFF/Pancho-230920-comb=False-q=RULESW_ANY_SEQSUP_STROKE-seqsupgood/stroke-M1_l-00_stroke-ss=stxsuperv-fit_twind=(-0.8, 0.3)/contrast=0|chunk_within_rank_semantic_v2/dfdist-twind_scal=(0.05, 0.25).pkl\n",
      "/lemur2/lucas/analyses/recordings/main/syntax_good/EUCLIDIAN_SHUFF/Pancho-230920-comb=False-q=RULESW_ANY_SEQSUP_STROKE-seqsupgood/stroke-M1_l-00_stroke-ss=stxsuperv-fit_twind=(-0.8, 0.3)/contrast=0|chunk_within_rank_semantic_v2\n",
      "Loading this path:  /lemur2/lucas/analyses/recordings/main/syntax_good/EUCLIDIAN_SHUFF/Pancho-230920-comb=False-q=RULESW_ANY_SEQSUP_STROKE-seqsupgood/stroke-M1_l-00_stroke-ss=stxsuperv-fit_twind=(-0.8, 0.3)/contrast=1|stroke_index/dfdist-twind_scal=(0.05, 0.25).pkl\n",
      "/lemur2/lucas/analyses/recordings/main/syntax_good/EUCLIDIAN_SHUFF/Pancho-230920-comb=False-q=RULESW_ANY_SEQSUP_STROKE-seqsupgood/stroke-M1_l-00_stroke-ss=stxsuperv-fit_twind=(-0.8, 0.3)/contrast=1|stroke_index\n",
      "Loading this path:  /lemur2/lucas/analyses/recordings/main/syntax_good/EUCLIDIAN_SHUFF/Pancho-230920-comb=False-q=RULESW_ANY_SEQSUP_STROKE-seqsupgood/stroke-PMv_l-00_stroke-ss=stxsuperv-fit_twind=(-0.8, 0.3)/contrast=0|chunk_within_rank_semantic_v2/dfdist-twind_scal=(0.05, 0.25).pkl\n",
      "/lemur2/lucas/analyses/recordings/main/syntax_good/EUCLIDIAN_SHUFF/Pancho-230920-comb=False-q=RULESW_ANY_SEQSUP_STROKE-seqsupgood/stroke-PMv_l-00_stroke-ss=stxsuperv-fit_twind=(-0.8, 0.3)/contrast=0|chunk_within_rank_semantic_v2\n",
      "Loading this path:  /lemur2/lucas/analyses/recordings/main/syntax_good/EUCLIDIAN_SHUFF/Pancho-230920-comb=False-q=RULESW_ANY_SEQSUP_STROKE-seqsupgood/stroke-PMv_l-00_stroke-ss=stxsuperv-fit_twind=(-0.8, 0.3)/contrast=1|stroke_index/dfdist-twind_scal=(0.05, 0.25).pkl\n",
      "/lemur2/lucas/analyses/recordings/main/syntax_good/EUCLIDIAN_SHUFF/Pancho-230920-comb=False-q=RULESW_ANY_SEQSUP_STROKE-seqsupgood/stroke-PMv_l-00_stroke-ss=stxsuperv-fit_twind=(-0.8, 0.3)/contrast=1|stroke_index\n",
      "Loading this path:  /lemur2/lucas/analyses/recordings/main/syntax_good/EUCLIDIAN_SHUFF/Pancho-230920-comb=False-q=RULESW_ANY_SEQSUP_STROKE-seqsupgood/stroke-PMv_m-00_stroke-ss=stxsuperv-fit_twind=(-0.8, 0.3)/contrast=0|chunk_within_rank_semantic_v2/dfdist-twind_scal=(0.05, 0.25).pkl\n",
      "/lemur2/lucas/analyses/recordings/main/syntax_good/EUCLIDIAN_SHUFF/Pancho-230920-comb=False-q=RULESW_ANY_SEQSUP_STROKE-seqsupgood/stroke-PMv_m-00_stroke-ss=stxsuperv-fit_twind=(-0.8, 0.3)/contrast=0|chunk_within_rank_semantic_v2\n",
      "Loading this path:  /lemur2/lucas/analyses/recordings/main/syntax_good/EUCLIDIAN_SHUFF/Pancho-230920-comb=False-q=RULESW_ANY_SEQSUP_STROKE-seqsupgood/stroke-PMv_m-00_stroke-ss=stxsuperv-fit_twind=(-0.8, 0.3)/contrast=1|stroke_index/dfdist-twind_scal=(0.05, 0.25).pkl\n",
      "/lemur2/lucas/analyses/recordings/main/syntax_good/EUCLIDIAN_SHUFF/Pancho-230920-comb=False-q=RULESW_ANY_SEQSUP_STROKE-seqsupgood/stroke-PMv_m-00_stroke-ss=stxsuperv-fit_twind=(-0.8, 0.3)/contrast=1|stroke_index\n",
      "Loading this path:  /lemur2/lucas/analyses/recordings/main/syntax_good/EUCLIDIAN_SHUFF/Pancho-230920-comb=False-q=RULESW_ANY_SEQSUP_STROKE-seqsupgood/stroke-PMd_p-00_stroke-ss=stxsuperv-fit_twind=(-0.8, 0.3)/contrast=0|chunk_within_rank_semantic_v2/dfdist-twind_scal=(0.05, 0.25).pkl\n",
      "/lemur2/lucas/analyses/recordings/main/syntax_good/EUCLIDIAN_SHUFF/Pancho-230920-comb=False-q=RULESW_ANY_SEQSUP_STROKE-seqsupgood/stroke-PMd_p-00_stroke-ss=stxsuperv-fit_twind=(-0.8, 0.3)/contrast=0|chunk_within_rank_semantic_v2\n",
      "Loading this path:  /lemur2/lucas/analyses/recordings/main/syntax_good/EUCLIDIAN_SHUFF/Pancho-230920-comb=False-q=RULESW_ANY_SEQSUP_STROKE-seqsupgood/stroke-PMd_p-00_stroke-ss=stxsuperv-fit_twind=(-0.8, 0.3)/contrast=1|stroke_index/dfdist-twind_scal=(0.05, 0.25).pkl\n",
      "/lemur2/lucas/analyses/recordings/main/syntax_good/EUCLIDIAN_SHUFF/Pancho-230920-comb=False-q=RULESW_ANY_SEQSUP_STROKE-seqsupgood/stroke-PMd_p-00_stroke-ss=stxsuperv-fit_twind=(-0.8, 0.3)/contrast=1|stroke_index\n",
      "Loading this path:  /lemur2/lucas/analyses/recordings/main/syntax_good/EUCLIDIAN_SHUFF/Pancho-230920-comb=False-q=RULESW_ANY_SEQSUP_STROKE-seqsupgood/stroke-PMd_a-00_stroke-ss=stxsuperv-fit_twind=(-0.8, 0.3)/contrast=0|chunk_within_rank_semantic_v2/dfdist-twind_scal=(0.05, 0.25).pkl\n",
      "/lemur2/lucas/analyses/recordings/main/syntax_good/EUCLIDIAN_SHUFF/Pancho-230920-comb=False-q=RULESW_ANY_SEQSUP_STROKE-seqsupgood/stroke-PMd_a-00_stroke-ss=stxsuperv-fit_twind=(-0.8, 0.3)/contrast=0|chunk_within_rank_semantic_v2\n",
      "Loading this path:  /lemur2/lucas/analyses/recordings/main/syntax_good/EUCLIDIAN_SHUFF/Pancho-230920-comb=False-q=RULESW_ANY_SEQSUP_STROKE-seqsupgood/stroke-PMd_a-00_stroke-ss=stxsuperv-fit_twind=(-0.8, 0.3)/contrast=1|stroke_index/dfdist-twind_scal=(0.05, 0.25).pkl\n",
      "/lemur2/lucas/analyses/recordings/main/syntax_good/EUCLIDIAN_SHUFF/Pancho-230920-comb=False-q=RULESW_ANY_SEQSUP_STROKE-seqsupgood/stroke-PMd_a-00_stroke-ss=stxsuperv-fit_twind=(-0.8, 0.3)/contrast=1|stroke_index\n",
      "Loading this path:  /lemur2/lucas/analyses/recordings/main/syntax_good/EUCLIDIAN_SHUFF/Pancho-230920-comb=False-q=RULESW_ANY_SEQSUP_STROKE-seqsupgood/stroke-dlPFC_p-00_stroke-ss=stxsuperv-fit_twind=(-0.8, 0.3)/contrast=0|chunk_within_rank_semantic_v2/dfdist-twind_scal=(0.05, 0.25).pkl\n",
      "/lemur2/lucas/analyses/recordings/main/syntax_good/EUCLIDIAN_SHUFF/Pancho-230920-comb=False-q=RULESW_ANY_SEQSUP_STROKE-seqsupgood/stroke-dlPFC_p-00_stroke-ss=stxsuperv-fit_twind=(-0.8, 0.3)/contrast=0|chunk_within_rank_semantic_v2\n",
      "Loading this path:  /lemur2/lucas/analyses/recordings/main/syntax_good/EUCLIDIAN_SHUFF/Pancho-230920-comb=False-q=RULESW_ANY_SEQSUP_STROKE-seqsupgood/stroke-dlPFC_p-00_stroke-ss=stxsuperv-fit_twind=(-0.8, 0.3)/contrast=1|stroke_index/dfdist-twind_scal=(0.05, 0.25).pkl\n",
      "/lemur2/lucas/analyses/recordings/main/syntax_good/EUCLIDIAN_SHUFF/Pancho-230920-comb=False-q=RULESW_ANY_SEQSUP_STROKE-seqsupgood/stroke-dlPFC_p-00_stroke-ss=stxsuperv-fit_twind=(-0.8, 0.3)/contrast=1|stroke_index\n",
      "Loading this path:  /lemur2/lucas/analyses/recordings/main/syntax_good/EUCLIDIAN_SHUFF/Pancho-230920-comb=False-q=RULESW_ANY_SEQSUP_STROKE-seqsupgood/stroke-dlPFC_a-00_stroke-ss=stxsuperv-fit_twind=(-0.8, 0.3)/contrast=0|chunk_within_rank_semantic_v2/dfdist-twind_scal=(0.05, 0.25).pkl\n",
      "/lemur2/lucas/analyses/recordings/main/syntax_good/EUCLIDIAN_SHUFF/Pancho-230920-comb=False-q=RULESW_ANY_SEQSUP_STROKE-seqsupgood/stroke-dlPFC_a-00_stroke-ss=stxsuperv-fit_twind=(-0.8, 0.3)/contrast=0|chunk_within_rank_semantic_v2\n",
      "Loading this path:  /lemur2/lucas/analyses/recordings/main/syntax_good/EUCLIDIAN_SHUFF/Pancho-230920-comb=False-q=RULESW_ANY_SEQSUP_STROKE-seqsupgood/stroke-dlPFC_a-00_stroke-ss=stxsuperv-fit_twind=(-0.8, 0.3)/contrast=1|stroke_index/dfdist-twind_scal=(0.05, 0.25).pkl\n",
      "/lemur2/lucas/analyses/recordings/main/syntax_good/EUCLIDIAN_SHUFF/Pancho-230920-comb=False-q=RULESW_ANY_SEQSUP_STROKE-seqsupgood/stroke-dlPFC_a-00_stroke-ss=stxsuperv-fit_twind=(-0.8, 0.3)/contrast=1|stroke_index\n",
      "Loading this path:  /lemur2/lucas/analyses/recordings/main/syntax_good/EUCLIDIAN_SHUFF/Pancho-230920-comb=False-q=RULESW_ANY_SEQSUP_STROKE-seqsupgood/stroke-vlPFC_p-00_stroke-ss=stxsuperv-fit_twind=(-0.8, 0.3)/contrast=0|chunk_within_rank_semantic_v2/dfdist-twind_scal=(0.05, 0.25).pkl\n",
      "/lemur2/lucas/analyses/recordings/main/syntax_good/EUCLIDIAN_SHUFF/Pancho-230920-comb=False-q=RULESW_ANY_SEQSUP_STROKE-seqsupgood/stroke-vlPFC_p-00_stroke-ss=stxsuperv-fit_twind=(-0.8, 0.3)/contrast=0|chunk_within_rank_semantic_v2\n",
      "Loading this path:  /lemur2/lucas/analyses/recordings/main/syntax_good/EUCLIDIAN_SHUFF/Pancho-230920-comb=False-q=RULESW_ANY_SEQSUP_STROKE-seqsupgood/stroke-vlPFC_p-00_stroke-ss=stxsuperv-fit_twind=(-0.8, 0.3)/contrast=1|stroke_index/dfdist-twind_scal=(0.05, 0.25).pkl\n",
      "/lemur2/lucas/analyses/recordings/main/syntax_good/EUCLIDIAN_SHUFF/Pancho-230920-comb=False-q=RULESW_ANY_SEQSUP_STROKE-seqsupgood/stroke-vlPFC_p-00_stroke-ss=stxsuperv-fit_twind=(-0.8, 0.3)/contrast=1|stroke_index\n",
      "Loading this path:  /lemur2/lucas/analyses/recordings/main/syntax_good/EUCLIDIAN_SHUFF/Pancho-230920-comb=False-q=RULESW_ANY_SEQSUP_STROKE-seqsupgood/stroke-vlPFC_a-00_stroke-ss=stxsuperv-fit_twind=(-0.8, 0.3)/contrast=0|chunk_within_rank_semantic_v2/dfdist-twind_scal=(0.05, 0.25).pkl\n",
      "/lemur2/lucas/analyses/recordings/main/syntax_good/EUCLIDIAN_SHUFF/Pancho-230920-comb=False-q=RULESW_ANY_SEQSUP_STROKE-seqsupgood/stroke-vlPFC_a-00_stroke-ss=stxsuperv-fit_twind=(-0.8, 0.3)/contrast=0|chunk_within_rank_semantic_v2\n",
      "Loading this path:  /lemur2/lucas/analyses/recordings/main/syntax_good/EUCLIDIAN_SHUFF/Pancho-230920-comb=False-q=RULESW_ANY_SEQSUP_STROKE-seqsupgood/stroke-vlPFC_a-00_stroke-ss=stxsuperv-fit_twind=(-0.8, 0.3)/contrast=1|stroke_index/dfdist-twind_scal=(0.05, 0.25).pkl\n",
      "/lemur2/lucas/analyses/recordings/main/syntax_good/EUCLIDIAN_SHUFF/Pancho-230920-comb=False-q=RULESW_ANY_SEQSUP_STROKE-seqsupgood/stroke-vlPFC_a-00_stroke-ss=stxsuperv-fit_twind=(-0.8, 0.3)/contrast=1|stroke_index\n",
      "Loading this path:  /lemur2/lucas/analyses/recordings/main/syntax_good/EUCLIDIAN_SHUFF/Pancho-230920-comb=False-q=RULESW_ANY_SEQSUP_STROKE-seqsupgood/stroke-FP_p-00_stroke-ss=stxsuperv-fit_twind=(-0.8, 0.3)/contrast=0|chunk_within_rank_semantic_v2/dfdist-twind_scal=(0.05, 0.25).pkl\n",
      "/lemur2/lucas/analyses/recordings/main/syntax_good/EUCLIDIAN_SHUFF/Pancho-230920-comb=False-q=RULESW_ANY_SEQSUP_STROKE-seqsupgood/stroke-FP_p-00_stroke-ss=stxsuperv-fit_twind=(-0.8, 0.3)/contrast=0|chunk_within_rank_semantic_v2\n",
      "Loading this path:  /lemur2/lucas/analyses/recordings/main/syntax_good/EUCLIDIAN_SHUFF/Pancho-230920-comb=False-q=RULESW_ANY_SEQSUP_STROKE-seqsupgood/stroke-FP_p-00_stroke-ss=stxsuperv-fit_twind=(-0.8, 0.3)/contrast=1|stroke_index/dfdist-twind_scal=(0.05, 0.25).pkl\n",
      "/lemur2/lucas/analyses/recordings/main/syntax_good/EUCLIDIAN_SHUFF/Pancho-230920-comb=False-q=RULESW_ANY_SEQSUP_STROKE-seqsupgood/stroke-FP_p-00_stroke-ss=stxsuperv-fit_twind=(-0.8, 0.3)/contrast=1|stroke_index\n",
      "Loading this path:  /lemur2/lucas/analyses/recordings/main/syntax_good/EUCLIDIAN_SHUFF/Pancho-230920-comb=False-q=RULESW_ANY_SEQSUP_STROKE-seqsupgood/stroke-FP_a-00_stroke-ss=stxsuperv-fit_twind=(-0.8, 0.3)/contrast=0|chunk_within_rank_semantic_v2/dfdist-twind_scal=(0.05, 0.25).pkl\n",
      "/lemur2/lucas/analyses/recordings/main/syntax_good/EUCLIDIAN_SHUFF/Pancho-230920-comb=False-q=RULESW_ANY_SEQSUP_STROKE-seqsupgood/stroke-FP_a-00_stroke-ss=stxsuperv-fit_twind=(-0.8, 0.3)/contrast=0|chunk_within_rank_semantic_v2\n",
      "Loading this path:  /lemur2/lucas/analyses/recordings/main/syntax_good/EUCLIDIAN_SHUFF/Pancho-230920-comb=False-q=RULESW_ANY_SEQSUP_STROKE-seqsupgood/stroke-FP_a-00_stroke-ss=stxsuperv-fit_twind=(-0.8, 0.3)/contrast=1|stroke_index/dfdist-twind_scal=(0.05, 0.25).pkl\n",
      "/lemur2/lucas/analyses/recordings/main/syntax_good/EUCLIDIAN_SHUFF/Pancho-230920-comb=False-q=RULESW_ANY_SEQSUP_STROKE-seqsupgood/stroke-FP_a-00_stroke-ss=stxsuperv-fit_twind=(-0.8, 0.3)/contrast=1|stroke_index\n",
      "Loading this path:  /lemur2/lucas/analyses/recordings/main/syntax_good/EUCLIDIAN_SHUFF/Pancho-230920-comb=False-q=RULESW_ANY_SEQSUP_STROKE-seqsupgood/stroke-SMA_p-00_stroke-ss=stxsuperv-fit_twind=(-0.8, 0.3)/contrast=0|chunk_within_rank_semantic_v2/dfdist-twind_scal=(0.05, 0.25).pkl\n",
      "/lemur2/lucas/analyses/recordings/main/syntax_good/EUCLIDIAN_SHUFF/Pancho-230920-comb=False-q=RULESW_ANY_SEQSUP_STROKE-seqsupgood/stroke-SMA_p-00_stroke-ss=stxsuperv-fit_twind=(-0.8, 0.3)/contrast=0|chunk_within_rank_semantic_v2\n",
      "Loading this path:  /lemur2/lucas/analyses/recordings/main/syntax_good/EUCLIDIAN_SHUFF/Pancho-230920-comb=False-q=RULESW_ANY_SEQSUP_STROKE-seqsupgood/stroke-SMA_p-00_stroke-ss=stxsuperv-fit_twind=(-0.8, 0.3)/contrast=1|stroke_index/dfdist-twind_scal=(0.05, 0.25).pkl\n",
      "/lemur2/lucas/analyses/recordings/main/syntax_good/EUCLIDIAN_SHUFF/Pancho-230920-comb=False-q=RULESW_ANY_SEQSUP_STROKE-seqsupgood/stroke-SMA_p-00_stroke-ss=stxsuperv-fit_twind=(-0.8, 0.3)/contrast=1|stroke_index\n",
      "Loading this path:  /lemur2/lucas/analyses/recordings/main/syntax_good/EUCLIDIAN_SHUFF/Pancho-230920-comb=False-q=RULESW_ANY_SEQSUP_STROKE-seqsupgood/stroke-SMA_a-00_stroke-ss=stxsuperv-fit_twind=(-0.8, 0.3)/contrast=0|chunk_within_rank_semantic_v2/dfdist-twind_scal=(0.05, 0.25).pkl\n",
      "/lemur2/lucas/analyses/recordings/main/syntax_good/EUCLIDIAN_SHUFF/Pancho-230920-comb=False-q=RULESW_ANY_SEQSUP_STROKE-seqsupgood/stroke-SMA_a-00_stroke-ss=stxsuperv-fit_twind=(-0.8, 0.3)/contrast=0|chunk_within_rank_semantic_v2\n",
      "Loading this path:  /lemur2/lucas/analyses/recordings/main/syntax_good/EUCLIDIAN_SHUFF/Pancho-230920-comb=False-q=RULESW_ANY_SEQSUP_STROKE-seqsupgood/stroke-SMA_a-00_stroke-ss=stxsuperv-fit_twind=(-0.8, 0.3)/contrast=1|stroke_index/dfdist-twind_scal=(0.05, 0.25).pkl\n",
      "/lemur2/lucas/analyses/recordings/main/syntax_good/EUCLIDIAN_SHUFF/Pancho-230920-comb=False-q=RULESW_ANY_SEQSUP_STROKE-seqsupgood/stroke-SMA_a-00_stroke-ss=stxsuperv-fit_twind=(-0.8, 0.3)/contrast=1|stroke_index\n",
      "Loading this path:  /lemur2/lucas/analyses/recordings/main/syntax_good/EUCLIDIAN_SHUFF/Pancho-230920-comb=False-q=RULESW_ANY_SEQSUP_STROKE-seqsupgood/stroke-preSMA_p-00_stroke-ss=stxsuperv-fit_twind=(-0.8, 0.3)/contrast=0|chunk_within_rank_semantic_v2/dfdist-twind_scal=(0.05, 0.25).pkl\n",
      "/lemur2/lucas/analyses/recordings/main/syntax_good/EUCLIDIAN_SHUFF/Pancho-230920-comb=False-q=RULESW_ANY_SEQSUP_STROKE-seqsupgood/stroke-preSMA_p-00_stroke-ss=stxsuperv-fit_twind=(-0.8, 0.3)/contrast=0|chunk_within_rank_semantic_v2\n",
      "Loading this path:  /lemur2/lucas/analyses/recordings/main/syntax_good/EUCLIDIAN_SHUFF/Pancho-230920-comb=False-q=RULESW_ANY_SEQSUP_STROKE-seqsupgood/stroke-preSMA_p-00_stroke-ss=stxsuperv-fit_twind=(-0.8, 0.3)/contrast=1|stroke_index/dfdist-twind_scal=(0.05, 0.25).pkl\n",
      "/lemur2/lucas/analyses/recordings/main/syntax_good/EUCLIDIAN_SHUFF/Pancho-230920-comb=False-q=RULESW_ANY_SEQSUP_STROKE-seqsupgood/stroke-preSMA_p-00_stroke-ss=stxsuperv-fit_twind=(-0.8, 0.3)/contrast=1|stroke_index\n",
      "Loading this path:  /lemur2/lucas/analyses/recordings/main/syntax_good/EUCLIDIAN_SHUFF/Pancho-230920-comb=False-q=RULESW_ANY_SEQSUP_STROKE-seqsupgood/stroke-preSMA_a-00_stroke-ss=stxsuperv-fit_twind=(-0.8, 0.3)/contrast=0|chunk_within_rank_semantic_v2/dfdist-twind_scal=(0.05, 0.25).pkl\n",
      "/lemur2/lucas/analyses/recordings/main/syntax_good/EUCLIDIAN_SHUFF/Pancho-230920-comb=False-q=RULESW_ANY_SEQSUP_STROKE-seqsupgood/stroke-preSMA_a-00_stroke-ss=stxsuperv-fit_twind=(-0.8, 0.3)/contrast=0|chunk_within_rank_semantic_v2\n",
      "Loading this path:  /lemur2/lucas/analyses/recordings/main/syntax_good/EUCLIDIAN_SHUFF/Pancho-230920-comb=False-q=RULESW_ANY_SEQSUP_STROKE-seqsupgood/stroke-preSMA_a-00_stroke-ss=stxsuperv-fit_twind=(-0.8, 0.3)/contrast=1|stroke_index/dfdist-twind_scal=(0.05, 0.25).pkl\n",
      "/lemur2/lucas/analyses/recordings/main/syntax_good/EUCLIDIAN_SHUFF/Pancho-230920-comb=False-q=RULESW_ANY_SEQSUP_STROKE-seqsupgood/stroke-preSMA_a-00_stroke-ss=stxsuperv-fit_twind=(-0.8, 0.3)/contrast=1|stroke_index\n",
      "Loading this path:  /lemur2/lucas/analyses/recordings/main/syntax_good/EUCLIDIAN_SHUFF/Pancho-230921-comb=False-q=RULESW_ANY_SEQSUP_STROKE-seqsupgood/stroke-M1_m-00_stroke-ss=stxsuperv-fit_twind=(-0.8, 0.3)/contrast=0|chunk_within_rank_semantic_v2/dfdist-twind_scal=(0.05, 0.25).pkl\n",
      "/lemur2/lucas/analyses/recordings/main/syntax_good/EUCLIDIAN_SHUFF/Pancho-230921-comb=False-q=RULESW_ANY_SEQSUP_STROKE-seqsupgood/stroke-M1_m-00_stroke-ss=stxsuperv-fit_twind=(-0.8, 0.3)/contrast=0|chunk_within_rank_semantic_v2\n",
      "Loading this path:  /lemur2/lucas/analyses/recordings/main/syntax_good/EUCLIDIAN_SHUFF/Pancho-230921-comb=False-q=RULESW_ANY_SEQSUP_STROKE-seqsupgood/stroke-M1_m-00_stroke-ss=stxsuperv-fit_twind=(-0.8, 0.3)/contrast=1|stroke_index/dfdist-twind_scal=(0.05, 0.25).pkl\n",
      "/lemur2/lucas/analyses/recordings/main/syntax_good/EUCLIDIAN_SHUFF/Pancho-230921-comb=False-q=RULESW_ANY_SEQSUP_STROKE-seqsupgood/stroke-M1_m-00_stroke-ss=stxsuperv-fit_twind=(-0.8, 0.3)/contrast=1|stroke_index\n",
      "Loading this path:  /lemur2/lucas/analyses/recordings/main/syntax_good/EUCLIDIAN_SHUFF/Pancho-230921-comb=False-q=RULESW_ANY_SEQSUP_STROKE-seqsupgood/stroke-M1_l-00_stroke-ss=stxsuperv-fit_twind=(-0.8, 0.3)/contrast=0|chunk_within_rank_semantic_v2/dfdist-twind_scal=(0.05, 0.25).pkl\n",
      "/lemur2/lucas/analyses/recordings/main/syntax_good/EUCLIDIAN_SHUFF/Pancho-230921-comb=False-q=RULESW_ANY_SEQSUP_STROKE-seqsupgood/stroke-M1_l-00_stroke-ss=stxsuperv-fit_twind=(-0.8, 0.3)/contrast=0|chunk_within_rank_semantic_v2\n",
      "Loading this path:  /lemur2/lucas/analyses/recordings/main/syntax_good/EUCLIDIAN_SHUFF/Pancho-230921-comb=False-q=RULESW_ANY_SEQSUP_STROKE-seqsupgood/stroke-M1_l-00_stroke-ss=stxsuperv-fit_twind=(-0.8, 0.3)/contrast=1|stroke_index/dfdist-twind_scal=(0.05, 0.25).pkl\n",
      "/lemur2/lucas/analyses/recordings/main/syntax_good/EUCLIDIAN_SHUFF/Pancho-230921-comb=False-q=RULESW_ANY_SEQSUP_STROKE-seqsupgood/stroke-M1_l-00_stroke-ss=stxsuperv-fit_twind=(-0.8, 0.3)/contrast=1|stroke_index\n",
      "Loading this path:  /lemur2/lucas/analyses/recordings/main/syntax_good/EUCLIDIAN_SHUFF/Pancho-230921-comb=False-q=RULESW_ANY_SEQSUP_STROKE-seqsupgood/stroke-PMv_l-00_stroke-ss=stxsuperv-fit_twind=(-0.8, 0.3)/contrast=0|chunk_within_rank_semantic_v2/dfdist-twind_scal=(0.05, 0.25).pkl\n",
      "/lemur2/lucas/analyses/recordings/main/syntax_good/EUCLIDIAN_SHUFF/Pancho-230921-comb=False-q=RULESW_ANY_SEQSUP_STROKE-seqsupgood/stroke-PMv_l-00_stroke-ss=stxsuperv-fit_twind=(-0.8, 0.3)/contrast=0|chunk_within_rank_semantic_v2\n",
      "Loading this path:  /lemur2/lucas/analyses/recordings/main/syntax_good/EUCLIDIAN_SHUFF/Pancho-230921-comb=False-q=RULESW_ANY_SEQSUP_STROKE-seqsupgood/stroke-PMv_l-00_stroke-ss=stxsuperv-fit_twind=(-0.8, 0.3)/contrast=1|stroke_index/dfdist-twind_scal=(0.05, 0.25).pkl\n",
      "/lemur2/lucas/analyses/recordings/main/syntax_good/EUCLIDIAN_SHUFF/Pancho-230921-comb=False-q=RULESW_ANY_SEQSUP_STROKE-seqsupgood/stroke-PMv_l-00_stroke-ss=stxsuperv-fit_twind=(-0.8, 0.3)/contrast=1|stroke_index\n",
      "Loading this path:  /lemur2/lucas/analyses/recordings/main/syntax_good/EUCLIDIAN_SHUFF/Pancho-230921-comb=False-q=RULESW_ANY_SEQSUP_STROKE-seqsupgood/stroke-PMv_m-00_stroke-ss=stxsuperv-fit_twind=(-0.8, 0.3)/contrast=0|chunk_within_rank_semantic_v2/dfdist-twind_scal=(0.05, 0.25).pkl\n",
      "/lemur2/lucas/analyses/recordings/main/syntax_good/EUCLIDIAN_SHUFF/Pancho-230921-comb=False-q=RULESW_ANY_SEQSUP_STROKE-seqsupgood/stroke-PMv_m-00_stroke-ss=stxsuperv-fit_twind=(-0.8, 0.3)/contrast=0|chunk_within_rank_semantic_v2\n",
      "Loading this path:  /lemur2/lucas/analyses/recordings/main/syntax_good/EUCLIDIAN_SHUFF/Pancho-230921-comb=False-q=RULESW_ANY_SEQSUP_STROKE-seqsupgood/stroke-PMv_m-00_stroke-ss=stxsuperv-fit_twind=(-0.8, 0.3)/contrast=1|stroke_index/dfdist-twind_scal=(0.05, 0.25).pkl\n",
      "/lemur2/lucas/analyses/recordings/main/syntax_good/EUCLIDIAN_SHUFF/Pancho-230921-comb=False-q=RULESW_ANY_SEQSUP_STROKE-seqsupgood/stroke-PMv_m-00_stroke-ss=stxsuperv-fit_twind=(-0.8, 0.3)/contrast=1|stroke_index\n",
      "Loading this path:  /lemur2/lucas/analyses/recordings/main/syntax_good/EUCLIDIAN_SHUFF/Pancho-230921-comb=False-q=RULESW_ANY_SEQSUP_STROKE-seqsupgood/stroke-PMd_p-00_stroke-ss=stxsuperv-fit_twind=(-0.8, 0.3)/contrast=0|chunk_within_rank_semantic_v2/dfdist-twind_scal=(0.05, 0.25).pkl\n",
      "/lemur2/lucas/analyses/recordings/main/syntax_good/EUCLIDIAN_SHUFF/Pancho-230921-comb=False-q=RULESW_ANY_SEQSUP_STROKE-seqsupgood/stroke-PMd_p-00_stroke-ss=stxsuperv-fit_twind=(-0.8, 0.3)/contrast=0|chunk_within_rank_semantic_v2\n",
      "Loading this path:  /lemur2/lucas/analyses/recordings/main/syntax_good/EUCLIDIAN_SHUFF/Pancho-230921-comb=False-q=RULESW_ANY_SEQSUP_STROKE-seqsupgood/stroke-PMd_p-00_stroke-ss=stxsuperv-fit_twind=(-0.8, 0.3)/contrast=1|stroke_index/dfdist-twind_scal=(0.05, 0.25).pkl\n",
      "/lemur2/lucas/analyses/recordings/main/syntax_good/EUCLIDIAN_SHUFF/Pancho-230921-comb=False-q=RULESW_ANY_SEQSUP_STROKE-seqsupgood/stroke-PMd_p-00_stroke-ss=stxsuperv-fit_twind=(-0.8, 0.3)/contrast=1|stroke_index\n",
      "Loading this path:  /lemur2/lucas/analyses/recordings/main/syntax_good/EUCLIDIAN_SHUFF/Pancho-230921-comb=False-q=RULESW_ANY_SEQSUP_STROKE-seqsupgood/stroke-PMd_a-00_stroke-ss=stxsuperv-fit_twind=(-0.8, 0.3)/contrast=0|chunk_within_rank_semantic_v2/dfdist-twind_scal=(0.05, 0.25).pkl\n",
      "/lemur2/lucas/analyses/recordings/main/syntax_good/EUCLIDIAN_SHUFF/Pancho-230921-comb=False-q=RULESW_ANY_SEQSUP_STROKE-seqsupgood/stroke-PMd_a-00_stroke-ss=stxsuperv-fit_twind=(-0.8, 0.3)/contrast=0|chunk_within_rank_semantic_v2\n",
      "Loading this path:  /lemur2/lucas/analyses/recordings/main/syntax_good/EUCLIDIAN_SHUFF/Pancho-230921-comb=False-q=RULESW_ANY_SEQSUP_STROKE-seqsupgood/stroke-PMd_a-00_stroke-ss=stxsuperv-fit_twind=(-0.8, 0.3)/contrast=1|stroke_index/dfdist-twind_scal=(0.05, 0.25).pkl\n",
      "/lemur2/lucas/analyses/recordings/main/syntax_good/EUCLIDIAN_SHUFF/Pancho-230921-comb=False-q=RULESW_ANY_SEQSUP_STROKE-seqsupgood/stroke-PMd_a-00_stroke-ss=stxsuperv-fit_twind=(-0.8, 0.3)/contrast=1|stroke_index\n",
      "Loading this path:  /lemur2/lucas/analyses/recordings/main/syntax_good/EUCLIDIAN_SHUFF/Pancho-230921-comb=False-q=RULESW_ANY_SEQSUP_STROKE-seqsupgood/stroke-dlPFC_p-00_stroke-ss=stxsuperv-fit_twind=(-0.8, 0.3)/contrast=0|chunk_within_rank_semantic_v2/dfdist-twind_scal=(0.05, 0.25).pkl\n",
      "/lemur2/lucas/analyses/recordings/main/syntax_good/EUCLIDIAN_SHUFF/Pancho-230921-comb=False-q=RULESW_ANY_SEQSUP_STROKE-seqsupgood/stroke-dlPFC_p-00_stroke-ss=stxsuperv-fit_twind=(-0.8, 0.3)/contrast=0|chunk_within_rank_semantic_v2\n",
      "Loading this path:  /lemur2/lucas/analyses/recordings/main/syntax_good/EUCLIDIAN_SHUFF/Pancho-230921-comb=False-q=RULESW_ANY_SEQSUP_STROKE-seqsupgood/stroke-dlPFC_p-00_stroke-ss=stxsuperv-fit_twind=(-0.8, 0.3)/contrast=1|stroke_index/dfdist-twind_scal=(0.05, 0.25).pkl\n",
      "/lemur2/lucas/analyses/recordings/main/syntax_good/EUCLIDIAN_SHUFF/Pancho-230921-comb=False-q=RULESW_ANY_SEQSUP_STROKE-seqsupgood/stroke-dlPFC_p-00_stroke-ss=stxsuperv-fit_twind=(-0.8, 0.3)/contrast=1|stroke_index\n",
      "Loading this path:  /lemur2/lucas/analyses/recordings/main/syntax_good/EUCLIDIAN_SHUFF/Pancho-230921-comb=False-q=RULESW_ANY_SEQSUP_STROKE-seqsupgood/stroke-dlPFC_a-00_stroke-ss=stxsuperv-fit_twind=(-0.8, 0.3)/contrast=0|chunk_within_rank_semantic_v2/dfdist-twind_scal=(0.05, 0.25).pkl\n",
      "/lemur2/lucas/analyses/recordings/main/syntax_good/EUCLIDIAN_SHUFF/Pancho-230921-comb=False-q=RULESW_ANY_SEQSUP_STROKE-seqsupgood/stroke-dlPFC_a-00_stroke-ss=stxsuperv-fit_twind=(-0.8, 0.3)/contrast=0|chunk_within_rank_semantic_v2\n",
      "Loading this path:  /lemur2/lucas/analyses/recordings/main/syntax_good/EUCLIDIAN_SHUFF/Pancho-230921-comb=False-q=RULESW_ANY_SEQSUP_STROKE-seqsupgood/stroke-dlPFC_a-00_stroke-ss=stxsuperv-fit_twind=(-0.8, 0.3)/contrast=1|stroke_index/dfdist-twind_scal=(0.05, 0.25).pkl\n",
      "/lemur2/lucas/analyses/recordings/main/syntax_good/EUCLIDIAN_SHUFF/Pancho-230921-comb=False-q=RULESW_ANY_SEQSUP_STROKE-seqsupgood/stroke-dlPFC_a-00_stroke-ss=stxsuperv-fit_twind=(-0.8, 0.3)/contrast=1|stroke_index\n",
      "Loading this path:  /lemur2/lucas/analyses/recordings/main/syntax_good/EUCLIDIAN_SHUFF/Pancho-230921-comb=False-q=RULESW_ANY_SEQSUP_STROKE-seqsupgood/stroke-vlPFC_p-00_stroke-ss=stxsuperv-fit_twind=(-0.8, 0.3)/contrast=0|chunk_within_rank_semantic_v2/dfdist-twind_scal=(0.05, 0.25).pkl\n",
      "/lemur2/lucas/analyses/recordings/main/syntax_good/EUCLIDIAN_SHUFF/Pancho-230921-comb=False-q=RULESW_ANY_SEQSUP_STROKE-seqsupgood/stroke-vlPFC_p-00_stroke-ss=stxsuperv-fit_twind=(-0.8, 0.3)/contrast=0|chunk_within_rank_semantic_v2\n",
      "Loading this path:  /lemur2/lucas/analyses/recordings/main/syntax_good/EUCLIDIAN_SHUFF/Pancho-230921-comb=False-q=RULESW_ANY_SEQSUP_STROKE-seqsupgood/stroke-vlPFC_p-00_stroke-ss=stxsuperv-fit_twind=(-0.8, 0.3)/contrast=1|stroke_index/dfdist-twind_scal=(0.05, 0.25).pkl\n",
      "/lemur2/lucas/analyses/recordings/main/syntax_good/EUCLIDIAN_SHUFF/Pancho-230921-comb=False-q=RULESW_ANY_SEQSUP_STROKE-seqsupgood/stroke-vlPFC_p-00_stroke-ss=stxsuperv-fit_twind=(-0.8, 0.3)/contrast=1|stroke_index\n",
      "Loading this path:  /lemur2/lucas/analyses/recordings/main/syntax_good/EUCLIDIAN_SHUFF/Pancho-230921-comb=False-q=RULESW_ANY_SEQSUP_STROKE-seqsupgood/stroke-vlPFC_a-00_stroke-ss=stxsuperv-fit_twind=(-0.8, 0.3)/contrast=0|chunk_within_rank_semantic_v2/dfdist-twind_scal=(0.05, 0.25).pkl\n",
      "/lemur2/lucas/analyses/recordings/main/syntax_good/EUCLIDIAN_SHUFF/Pancho-230921-comb=False-q=RULESW_ANY_SEQSUP_STROKE-seqsupgood/stroke-vlPFC_a-00_stroke-ss=stxsuperv-fit_twind=(-0.8, 0.3)/contrast=0|chunk_within_rank_semantic_v2\n",
      "Loading this path:  /lemur2/lucas/analyses/recordings/main/syntax_good/EUCLIDIAN_SHUFF/Pancho-230921-comb=False-q=RULESW_ANY_SEQSUP_STROKE-seqsupgood/stroke-vlPFC_a-00_stroke-ss=stxsuperv-fit_twind=(-0.8, 0.3)/contrast=1|stroke_index/dfdist-twind_scal=(0.05, 0.25).pkl\n",
      "/lemur2/lucas/analyses/recordings/main/syntax_good/EUCLIDIAN_SHUFF/Pancho-230921-comb=False-q=RULESW_ANY_SEQSUP_STROKE-seqsupgood/stroke-vlPFC_a-00_stroke-ss=stxsuperv-fit_twind=(-0.8, 0.3)/contrast=1|stroke_index\n",
      "Loading this path:  /lemur2/lucas/analyses/recordings/main/syntax_good/EUCLIDIAN_SHUFF/Pancho-230921-comb=False-q=RULESW_ANY_SEQSUP_STROKE-seqsupgood/stroke-FP_p-00_stroke-ss=stxsuperv-fit_twind=(-0.8, 0.3)/contrast=0|chunk_within_rank_semantic_v2/dfdist-twind_scal=(0.05, 0.25).pkl\n",
      "/lemur2/lucas/analyses/recordings/main/syntax_good/EUCLIDIAN_SHUFF/Pancho-230921-comb=False-q=RULESW_ANY_SEQSUP_STROKE-seqsupgood/stroke-FP_p-00_stroke-ss=stxsuperv-fit_twind=(-0.8, 0.3)/contrast=0|chunk_within_rank_semantic_v2\n",
      "Loading this path:  /lemur2/lucas/analyses/recordings/main/syntax_good/EUCLIDIAN_SHUFF/Pancho-230921-comb=False-q=RULESW_ANY_SEQSUP_STROKE-seqsupgood/stroke-FP_p-00_stroke-ss=stxsuperv-fit_twind=(-0.8, 0.3)/contrast=1|stroke_index/dfdist-twind_scal=(0.05, 0.25).pkl\n",
      "/lemur2/lucas/analyses/recordings/main/syntax_good/EUCLIDIAN_SHUFF/Pancho-230921-comb=False-q=RULESW_ANY_SEQSUP_STROKE-seqsupgood/stroke-FP_p-00_stroke-ss=stxsuperv-fit_twind=(-0.8, 0.3)/contrast=1|stroke_index\n",
      "Loading this path:  /lemur2/lucas/analyses/recordings/main/syntax_good/EUCLIDIAN_SHUFF/Pancho-230921-comb=False-q=RULESW_ANY_SEQSUP_STROKE-seqsupgood/stroke-FP_a-00_stroke-ss=stxsuperv-fit_twind=(-0.8, 0.3)/contrast=0|chunk_within_rank_semantic_v2/dfdist-twind_scal=(0.05, 0.25).pkl\n",
      "/lemur2/lucas/analyses/recordings/main/syntax_good/EUCLIDIAN_SHUFF/Pancho-230921-comb=False-q=RULESW_ANY_SEQSUP_STROKE-seqsupgood/stroke-FP_a-00_stroke-ss=stxsuperv-fit_twind=(-0.8, 0.3)/contrast=0|chunk_within_rank_semantic_v2\n",
      "Loading this path:  /lemur2/lucas/analyses/recordings/main/syntax_good/EUCLIDIAN_SHUFF/Pancho-230921-comb=False-q=RULESW_ANY_SEQSUP_STROKE-seqsupgood/stroke-FP_a-00_stroke-ss=stxsuperv-fit_twind=(-0.8, 0.3)/contrast=1|stroke_index/dfdist-twind_scal=(0.05, 0.25).pkl\n",
      "/lemur2/lucas/analyses/recordings/main/syntax_good/EUCLIDIAN_SHUFF/Pancho-230921-comb=False-q=RULESW_ANY_SEQSUP_STROKE-seqsupgood/stroke-FP_a-00_stroke-ss=stxsuperv-fit_twind=(-0.8, 0.3)/contrast=1|stroke_index\n",
      "Loading this path:  /lemur2/lucas/analyses/recordings/main/syntax_good/EUCLIDIAN_SHUFF/Pancho-230921-comb=False-q=RULESW_ANY_SEQSUP_STROKE-seqsupgood/stroke-SMA_p-00_stroke-ss=stxsuperv-fit_twind=(-0.8, 0.3)/contrast=0|chunk_within_rank_semantic_v2/dfdist-twind_scal=(0.05, 0.25).pkl\n",
      "/lemur2/lucas/analyses/recordings/main/syntax_good/EUCLIDIAN_SHUFF/Pancho-230921-comb=False-q=RULESW_ANY_SEQSUP_STROKE-seqsupgood/stroke-SMA_p-00_stroke-ss=stxsuperv-fit_twind=(-0.8, 0.3)/contrast=0|chunk_within_rank_semantic_v2\n",
      "Loading this path:  /lemur2/lucas/analyses/recordings/main/syntax_good/EUCLIDIAN_SHUFF/Pancho-230921-comb=False-q=RULESW_ANY_SEQSUP_STROKE-seqsupgood/stroke-SMA_p-00_stroke-ss=stxsuperv-fit_twind=(-0.8, 0.3)/contrast=1|stroke_index/dfdist-twind_scal=(0.05, 0.25).pkl\n",
      "/lemur2/lucas/analyses/recordings/main/syntax_good/EUCLIDIAN_SHUFF/Pancho-230921-comb=False-q=RULESW_ANY_SEQSUP_STROKE-seqsupgood/stroke-SMA_p-00_stroke-ss=stxsuperv-fit_twind=(-0.8, 0.3)/contrast=1|stroke_index\n",
      "Loading this path:  /lemur2/lucas/analyses/recordings/main/syntax_good/EUCLIDIAN_SHUFF/Pancho-230921-comb=False-q=RULESW_ANY_SEQSUP_STROKE-seqsupgood/stroke-SMA_a-00_stroke-ss=stxsuperv-fit_twind=(-0.8, 0.3)/contrast=0|chunk_within_rank_semantic_v2/dfdist-twind_scal=(0.05, 0.25).pkl\n",
      "/lemur2/lucas/analyses/recordings/main/syntax_good/EUCLIDIAN_SHUFF/Pancho-230921-comb=False-q=RULESW_ANY_SEQSUP_STROKE-seqsupgood/stroke-SMA_a-00_stroke-ss=stxsuperv-fit_twind=(-0.8, 0.3)/contrast=0|chunk_within_rank_semantic_v2\n",
      "Loading this path:  /lemur2/lucas/analyses/recordings/main/syntax_good/EUCLIDIAN_SHUFF/Pancho-230921-comb=False-q=RULESW_ANY_SEQSUP_STROKE-seqsupgood/stroke-SMA_a-00_stroke-ss=stxsuperv-fit_twind=(-0.8, 0.3)/contrast=1|stroke_index/dfdist-twind_scal=(0.05, 0.25).pkl\n",
      "/lemur2/lucas/analyses/recordings/main/syntax_good/EUCLIDIAN_SHUFF/Pancho-230921-comb=False-q=RULESW_ANY_SEQSUP_STROKE-seqsupgood/stroke-SMA_a-00_stroke-ss=stxsuperv-fit_twind=(-0.8, 0.3)/contrast=1|stroke_index\n",
      "Loading this path:  /lemur2/lucas/analyses/recordings/main/syntax_good/EUCLIDIAN_SHUFF/Pancho-230921-comb=False-q=RULESW_ANY_SEQSUP_STROKE-seqsupgood/stroke-preSMA_p-00_stroke-ss=stxsuperv-fit_twind=(-0.8, 0.3)/contrast=0|chunk_within_rank_semantic_v2/dfdist-twind_scal=(0.05, 0.25).pkl\n",
      "/lemur2/lucas/analyses/recordings/main/syntax_good/EUCLIDIAN_SHUFF/Pancho-230921-comb=False-q=RULESW_ANY_SEQSUP_STROKE-seqsupgood/stroke-preSMA_p-00_stroke-ss=stxsuperv-fit_twind=(-0.8, 0.3)/contrast=0|chunk_within_rank_semantic_v2\n",
      "Loading this path:  /lemur2/lucas/analyses/recordings/main/syntax_good/EUCLIDIAN_SHUFF/Pancho-230921-comb=False-q=RULESW_ANY_SEQSUP_STROKE-seqsupgood/stroke-preSMA_p-00_stroke-ss=stxsuperv-fit_twind=(-0.8, 0.3)/contrast=1|stroke_index/dfdist-twind_scal=(0.05, 0.25).pkl\n",
      "/lemur2/lucas/analyses/recordings/main/syntax_good/EUCLIDIAN_SHUFF/Pancho-230921-comb=False-q=RULESW_ANY_SEQSUP_STROKE-seqsupgood/stroke-preSMA_p-00_stroke-ss=stxsuperv-fit_twind=(-0.8, 0.3)/contrast=1|stroke_index\n",
      "Loading this path:  /lemur2/lucas/analyses/recordings/main/syntax_good/EUCLIDIAN_SHUFF/Pancho-230921-comb=False-q=RULESW_ANY_SEQSUP_STROKE-seqsupgood/stroke-preSMA_a-00_stroke-ss=stxsuperv-fit_twind=(-0.8, 0.3)/contrast=0|chunk_within_rank_semantic_v2/dfdist-twind_scal=(0.05, 0.25).pkl\n",
      "/lemur2/lucas/analyses/recordings/main/syntax_good/EUCLIDIAN_SHUFF/Pancho-230921-comb=False-q=RULESW_ANY_SEQSUP_STROKE-seqsupgood/stroke-preSMA_a-00_stroke-ss=stxsuperv-fit_twind=(-0.8, 0.3)/contrast=0|chunk_within_rank_semantic_v2\n",
      "Loading this path:  /lemur2/lucas/analyses/recordings/main/syntax_good/EUCLIDIAN_SHUFF/Pancho-230921-comb=False-q=RULESW_ANY_SEQSUP_STROKE-seqsupgood/stroke-preSMA_a-00_stroke-ss=stxsuperv-fit_twind=(-0.8, 0.3)/contrast=1|stroke_index/dfdist-twind_scal=(0.05, 0.25).pkl\n",
      "/lemur2/lucas/analyses/recordings/main/syntax_good/EUCLIDIAN_SHUFF/Pancho-230921-comb=False-q=RULESW_ANY_SEQSUP_STROKE-seqsupgood/stroke-preSMA_a-00_stroke-ss=stxsuperv-fit_twind=(-0.8, 0.3)/contrast=1|stroke_index\n",
      "Loading this path:  /lemur2/lucas/analyses/recordings/main/syntax_good/EUCLIDIAN_SHUFF/Pancho-230923-comb=False-q=RULESW_ANY_SEQSUP_STROKE-seqsupgood/stroke-M1_m-00_stroke-ss=stxsuperv-fit_twind=(-0.8, 0.3)/contrast=0|chunk_within_rank_semantic_v2/dfdist-twind_scal=(0.05, 0.25).pkl\n",
      "/lemur2/lucas/analyses/recordings/main/syntax_good/EUCLIDIAN_SHUFF/Pancho-230923-comb=False-q=RULESW_ANY_SEQSUP_STROKE-seqsupgood/stroke-M1_m-00_stroke-ss=stxsuperv-fit_twind=(-0.8, 0.3)/contrast=0|chunk_within_rank_semantic_v2\n",
      "Loading this path:  /lemur2/lucas/analyses/recordings/main/syntax_good/EUCLIDIAN_SHUFF/Pancho-230923-comb=False-q=RULESW_ANY_SEQSUP_STROKE-seqsupgood/stroke-M1_m-00_stroke-ss=stxsuperv-fit_twind=(-0.8, 0.3)/contrast=1|stroke_index/dfdist-twind_scal=(0.05, 0.25).pkl\n",
      "/lemur2/lucas/analyses/recordings/main/syntax_good/EUCLIDIAN_SHUFF/Pancho-230923-comb=False-q=RULESW_ANY_SEQSUP_STROKE-seqsupgood/stroke-M1_m-00_stroke-ss=stxsuperv-fit_twind=(-0.8, 0.3)/contrast=1|stroke_index\n",
      "Loading this path:  /lemur2/lucas/analyses/recordings/main/syntax_good/EUCLIDIAN_SHUFF/Pancho-230923-comb=False-q=RULESW_ANY_SEQSUP_STROKE-seqsupgood/stroke-M1_l-00_stroke-ss=stxsuperv-fit_twind=(-0.8, 0.3)/contrast=0|chunk_within_rank_semantic_v2/dfdist-twind_scal=(0.05, 0.25).pkl\n",
      "/lemur2/lucas/analyses/recordings/main/syntax_good/EUCLIDIAN_SHUFF/Pancho-230923-comb=False-q=RULESW_ANY_SEQSUP_STROKE-seqsupgood/stroke-M1_l-00_stroke-ss=stxsuperv-fit_twind=(-0.8, 0.3)/contrast=0|chunk_within_rank_semantic_v2\n",
      "Loading this path:  /lemur2/lucas/analyses/recordings/main/syntax_good/EUCLIDIAN_SHUFF/Pancho-230923-comb=False-q=RULESW_ANY_SEQSUP_STROKE-seqsupgood/stroke-M1_l-00_stroke-ss=stxsuperv-fit_twind=(-0.8, 0.3)/contrast=1|stroke_index/dfdist-twind_scal=(0.05, 0.25).pkl\n",
      "/lemur2/lucas/analyses/recordings/main/syntax_good/EUCLIDIAN_SHUFF/Pancho-230923-comb=False-q=RULESW_ANY_SEQSUP_STROKE-seqsupgood/stroke-M1_l-00_stroke-ss=stxsuperv-fit_twind=(-0.8, 0.3)/contrast=1|stroke_index\n",
      "Loading this path:  /lemur2/lucas/analyses/recordings/main/syntax_good/EUCLIDIAN_SHUFF/Pancho-230923-comb=False-q=RULESW_ANY_SEQSUP_STROKE-seqsupgood/stroke-PMv_l-00_stroke-ss=stxsuperv-fit_twind=(-0.8, 0.3)/contrast=0|chunk_within_rank_semantic_v2/dfdist-twind_scal=(0.05, 0.25).pkl\n",
      "/lemur2/lucas/analyses/recordings/main/syntax_good/EUCLIDIAN_SHUFF/Pancho-230923-comb=False-q=RULESW_ANY_SEQSUP_STROKE-seqsupgood/stroke-PMv_l-00_stroke-ss=stxsuperv-fit_twind=(-0.8, 0.3)/contrast=0|chunk_within_rank_semantic_v2\n",
      "Loading this path:  /lemur2/lucas/analyses/recordings/main/syntax_good/EUCLIDIAN_SHUFF/Pancho-230923-comb=False-q=RULESW_ANY_SEQSUP_STROKE-seqsupgood/stroke-PMv_l-00_stroke-ss=stxsuperv-fit_twind=(-0.8, 0.3)/contrast=1|stroke_index/dfdist-twind_scal=(0.05, 0.25).pkl\n",
      "/lemur2/lucas/analyses/recordings/main/syntax_good/EUCLIDIAN_SHUFF/Pancho-230923-comb=False-q=RULESW_ANY_SEQSUP_STROKE-seqsupgood/stroke-PMv_l-00_stroke-ss=stxsuperv-fit_twind=(-0.8, 0.3)/contrast=1|stroke_index\n",
      "Loading this path:  /lemur2/lucas/analyses/recordings/main/syntax_good/EUCLIDIAN_SHUFF/Pancho-230923-comb=False-q=RULESW_ANY_SEQSUP_STROKE-seqsupgood/stroke-PMv_m-00_stroke-ss=stxsuperv-fit_twind=(-0.8, 0.3)/contrast=0|chunk_within_rank_semantic_v2/dfdist-twind_scal=(0.05, 0.25).pkl\n",
      "/lemur2/lucas/analyses/recordings/main/syntax_good/EUCLIDIAN_SHUFF/Pancho-230923-comb=False-q=RULESW_ANY_SEQSUP_STROKE-seqsupgood/stroke-PMv_m-00_stroke-ss=stxsuperv-fit_twind=(-0.8, 0.3)/contrast=0|chunk_within_rank_semantic_v2\n",
      "Loading this path:  /lemur2/lucas/analyses/recordings/main/syntax_good/EUCLIDIAN_SHUFF/Pancho-230923-comb=False-q=RULESW_ANY_SEQSUP_STROKE-seqsupgood/stroke-PMv_m-00_stroke-ss=stxsuperv-fit_twind=(-0.8, 0.3)/contrast=1|stroke_index/dfdist-twind_scal=(0.05, 0.25).pkl\n",
      "/lemur2/lucas/analyses/recordings/main/syntax_good/EUCLIDIAN_SHUFF/Pancho-230923-comb=False-q=RULESW_ANY_SEQSUP_STROKE-seqsupgood/stroke-PMv_m-00_stroke-ss=stxsuperv-fit_twind=(-0.8, 0.3)/contrast=1|stroke_index\n",
      "Loading this path:  /lemur2/lucas/analyses/recordings/main/syntax_good/EUCLIDIAN_SHUFF/Pancho-230923-comb=False-q=RULESW_ANY_SEQSUP_STROKE-seqsupgood/stroke-PMd_p-00_stroke-ss=stxsuperv-fit_twind=(-0.8, 0.3)/contrast=0|chunk_within_rank_semantic_v2/dfdist-twind_scal=(0.05, 0.25).pkl\n",
      "/lemur2/lucas/analyses/recordings/main/syntax_good/EUCLIDIAN_SHUFF/Pancho-230923-comb=False-q=RULESW_ANY_SEQSUP_STROKE-seqsupgood/stroke-PMd_p-00_stroke-ss=stxsuperv-fit_twind=(-0.8, 0.3)/contrast=0|chunk_within_rank_semantic_v2\n",
      "Loading this path:  /lemur2/lucas/analyses/recordings/main/syntax_good/EUCLIDIAN_SHUFF/Pancho-230923-comb=False-q=RULESW_ANY_SEQSUP_STROKE-seqsupgood/stroke-PMd_p-00_stroke-ss=stxsuperv-fit_twind=(-0.8, 0.3)/contrast=1|stroke_index/dfdist-twind_scal=(0.05, 0.25).pkl\n",
      "/lemur2/lucas/analyses/recordings/main/syntax_good/EUCLIDIAN_SHUFF/Pancho-230923-comb=False-q=RULESW_ANY_SEQSUP_STROKE-seqsupgood/stroke-PMd_p-00_stroke-ss=stxsuperv-fit_twind=(-0.8, 0.3)/contrast=1|stroke_index\n",
      "Loading this path:  /lemur2/lucas/analyses/recordings/main/syntax_good/EUCLIDIAN_SHUFF/Pancho-230923-comb=False-q=RULESW_ANY_SEQSUP_STROKE-seqsupgood/stroke-PMd_a-00_stroke-ss=stxsuperv-fit_twind=(-0.8, 0.3)/contrast=0|chunk_within_rank_semantic_v2/dfdist-twind_scal=(0.05, 0.25).pkl\n",
      "/lemur2/lucas/analyses/recordings/main/syntax_good/EUCLIDIAN_SHUFF/Pancho-230923-comb=False-q=RULESW_ANY_SEQSUP_STROKE-seqsupgood/stroke-PMd_a-00_stroke-ss=stxsuperv-fit_twind=(-0.8, 0.3)/contrast=0|chunk_within_rank_semantic_v2\n",
      "Loading this path:  /lemur2/lucas/analyses/recordings/main/syntax_good/EUCLIDIAN_SHUFF/Pancho-230923-comb=False-q=RULESW_ANY_SEQSUP_STROKE-seqsupgood/stroke-PMd_a-00_stroke-ss=stxsuperv-fit_twind=(-0.8, 0.3)/contrast=1|stroke_index/dfdist-twind_scal=(0.05, 0.25).pkl\n",
      "/lemur2/lucas/analyses/recordings/main/syntax_good/EUCLIDIAN_SHUFF/Pancho-230923-comb=False-q=RULESW_ANY_SEQSUP_STROKE-seqsupgood/stroke-PMd_a-00_stroke-ss=stxsuperv-fit_twind=(-0.8, 0.3)/contrast=1|stroke_index\n",
      "Loading this path:  /lemur2/lucas/analyses/recordings/main/syntax_good/EUCLIDIAN_SHUFF/Pancho-230923-comb=False-q=RULESW_ANY_SEQSUP_STROKE-seqsupgood/stroke-dlPFC_p-00_stroke-ss=stxsuperv-fit_twind=(-0.8, 0.3)/contrast=0|chunk_within_rank_semantic_v2/dfdist-twind_scal=(0.05, 0.25).pkl\n",
      "/lemur2/lucas/analyses/recordings/main/syntax_good/EUCLIDIAN_SHUFF/Pancho-230923-comb=False-q=RULESW_ANY_SEQSUP_STROKE-seqsupgood/stroke-dlPFC_p-00_stroke-ss=stxsuperv-fit_twind=(-0.8, 0.3)/contrast=0|chunk_within_rank_semantic_v2\n",
      "Loading this path:  /lemur2/lucas/analyses/recordings/main/syntax_good/EUCLIDIAN_SHUFF/Pancho-230923-comb=False-q=RULESW_ANY_SEQSUP_STROKE-seqsupgood/stroke-dlPFC_p-00_stroke-ss=stxsuperv-fit_twind=(-0.8, 0.3)/contrast=1|stroke_index/dfdist-twind_scal=(0.05, 0.25).pkl\n",
      "/lemur2/lucas/analyses/recordings/main/syntax_good/EUCLIDIAN_SHUFF/Pancho-230923-comb=False-q=RULESW_ANY_SEQSUP_STROKE-seqsupgood/stroke-dlPFC_p-00_stroke-ss=stxsuperv-fit_twind=(-0.8, 0.3)/contrast=1|stroke_index\n",
      "Loading this path:  /lemur2/lucas/analyses/recordings/main/syntax_good/EUCLIDIAN_SHUFF/Pancho-230923-comb=False-q=RULESW_ANY_SEQSUP_STROKE-seqsupgood/stroke-dlPFC_a-00_stroke-ss=stxsuperv-fit_twind=(-0.8, 0.3)/contrast=0|chunk_within_rank_semantic_v2/dfdist-twind_scal=(0.05, 0.25).pkl\n",
      "/lemur2/lucas/analyses/recordings/main/syntax_good/EUCLIDIAN_SHUFF/Pancho-230923-comb=False-q=RULESW_ANY_SEQSUP_STROKE-seqsupgood/stroke-dlPFC_a-00_stroke-ss=stxsuperv-fit_twind=(-0.8, 0.3)/contrast=0|chunk_within_rank_semantic_v2\n",
      "Loading this path:  /lemur2/lucas/analyses/recordings/main/syntax_good/EUCLIDIAN_SHUFF/Pancho-230923-comb=False-q=RULESW_ANY_SEQSUP_STROKE-seqsupgood/stroke-dlPFC_a-00_stroke-ss=stxsuperv-fit_twind=(-0.8, 0.3)/contrast=1|stroke_index/dfdist-twind_scal=(0.05, 0.25).pkl\n",
      "/lemur2/lucas/analyses/recordings/main/syntax_good/EUCLIDIAN_SHUFF/Pancho-230923-comb=False-q=RULESW_ANY_SEQSUP_STROKE-seqsupgood/stroke-dlPFC_a-00_stroke-ss=stxsuperv-fit_twind=(-0.8, 0.3)/contrast=1|stroke_index\n",
      "Loading this path:  /lemur2/lucas/analyses/recordings/main/syntax_good/EUCLIDIAN_SHUFF/Pancho-230923-comb=False-q=RULESW_ANY_SEQSUP_STROKE-seqsupgood/stroke-vlPFC_p-00_stroke-ss=stxsuperv-fit_twind=(-0.8, 0.3)/contrast=0|chunk_within_rank_semantic_v2/dfdist-twind_scal=(0.05, 0.25).pkl\n",
      "/lemur2/lucas/analyses/recordings/main/syntax_good/EUCLIDIAN_SHUFF/Pancho-230923-comb=False-q=RULESW_ANY_SEQSUP_STROKE-seqsupgood/stroke-vlPFC_p-00_stroke-ss=stxsuperv-fit_twind=(-0.8, 0.3)/contrast=0|chunk_within_rank_semantic_v2\n",
      "Loading this path:  /lemur2/lucas/analyses/recordings/main/syntax_good/EUCLIDIAN_SHUFF/Pancho-230923-comb=False-q=RULESW_ANY_SEQSUP_STROKE-seqsupgood/stroke-vlPFC_p-00_stroke-ss=stxsuperv-fit_twind=(-0.8, 0.3)/contrast=1|stroke_index/dfdist-twind_scal=(0.05, 0.25).pkl\n",
      "/lemur2/lucas/analyses/recordings/main/syntax_good/EUCLIDIAN_SHUFF/Pancho-230923-comb=False-q=RULESW_ANY_SEQSUP_STROKE-seqsupgood/stroke-vlPFC_p-00_stroke-ss=stxsuperv-fit_twind=(-0.8, 0.3)/contrast=1|stroke_index\n",
      "Loading this path:  /lemur2/lucas/analyses/recordings/main/syntax_good/EUCLIDIAN_SHUFF/Pancho-230923-comb=False-q=RULESW_ANY_SEQSUP_STROKE-seqsupgood/stroke-vlPFC_a-00_stroke-ss=stxsuperv-fit_twind=(-0.8, 0.3)/contrast=0|chunk_within_rank_semantic_v2/dfdist-twind_scal=(0.05, 0.25).pkl\n",
      "/lemur2/lucas/analyses/recordings/main/syntax_good/EUCLIDIAN_SHUFF/Pancho-230923-comb=False-q=RULESW_ANY_SEQSUP_STROKE-seqsupgood/stroke-vlPFC_a-00_stroke-ss=stxsuperv-fit_twind=(-0.8, 0.3)/contrast=0|chunk_within_rank_semantic_v2\n",
      "Loading this path:  /lemur2/lucas/analyses/recordings/main/syntax_good/EUCLIDIAN_SHUFF/Pancho-230923-comb=False-q=RULESW_ANY_SEQSUP_STROKE-seqsupgood/stroke-vlPFC_a-00_stroke-ss=stxsuperv-fit_twind=(-0.8, 0.3)/contrast=1|stroke_index/dfdist-twind_scal=(0.05, 0.25).pkl\n",
      "/lemur2/lucas/analyses/recordings/main/syntax_good/EUCLIDIAN_SHUFF/Pancho-230923-comb=False-q=RULESW_ANY_SEQSUP_STROKE-seqsupgood/stroke-vlPFC_a-00_stroke-ss=stxsuperv-fit_twind=(-0.8, 0.3)/contrast=1|stroke_index\n",
      "Loading this path:  /lemur2/lucas/analyses/recordings/main/syntax_good/EUCLIDIAN_SHUFF/Pancho-230923-comb=False-q=RULESW_ANY_SEQSUP_STROKE-seqsupgood/stroke-FP_p-00_stroke-ss=stxsuperv-fit_twind=(-0.8, 0.3)/contrast=0|chunk_within_rank_semantic_v2/dfdist-twind_scal=(0.05, 0.25).pkl\n",
      "/lemur2/lucas/analyses/recordings/main/syntax_good/EUCLIDIAN_SHUFF/Pancho-230923-comb=False-q=RULESW_ANY_SEQSUP_STROKE-seqsupgood/stroke-FP_p-00_stroke-ss=stxsuperv-fit_twind=(-0.8, 0.3)/contrast=0|chunk_within_rank_semantic_v2\n",
      "Loading this path:  /lemur2/lucas/analyses/recordings/main/syntax_good/EUCLIDIAN_SHUFF/Pancho-230923-comb=False-q=RULESW_ANY_SEQSUP_STROKE-seqsupgood/stroke-FP_p-00_stroke-ss=stxsuperv-fit_twind=(-0.8, 0.3)/contrast=1|stroke_index/dfdist-twind_scal=(0.05, 0.25).pkl\n",
      "/lemur2/lucas/analyses/recordings/main/syntax_good/EUCLIDIAN_SHUFF/Pancho-230923-comb=False-q=RULESW_ANY_SEQSUP_STROKE-seqsupgood/stroke-FP_p-00_stroke-ss=stxsuperv-fit_twind=(-0.8, 0.3)/contrast=1|stroke_index\n",
      "Loading this path:  /lemur2/lucas/analyses/recordings/main/syntax_good/EUCLIDIAN_SHUFF/Pancho-230923-comb=False-q=RULESW_ANY_SEQSUP_STROKE-seqsupgood/stroke-FP_a-00_stroke-ss=stxsuperv-fit_twind=(-0.8, 0.3)/contrast=0|chunk_within_rank_semantic_v2/dfdist-twind_scal=(0.05, 0.25).pkl\n",
      "/lemur2/lucas/analyses/recordings/main/syntax_good/EUCLIDIAN_SHUFF/Pancho-230923-comb=False-q=RULESW_ANY_SEQSUP_STROKE-seqsupgood/stroke-FP_a-00_stroke-ss=stxsuperv-fit_twind=(-0.8, 0.3)/contrast=0|chunk_within_rank_semantic_v2\n",
      "Loading this path:  /lemur2/lucas/analyses/recordings/main/syntax_good/EUCLIDIAN_SHUFF/Pancho-230923-comb=False-q=RULESW_ANY_SEQSUP_STROKE-seqsupgood/stroke-FP_a-00_stroke-ss=stxsuperv-fit_twind=(-0.8, 0.3)/contrast=1|stroke_index/dfdist-twind_scal=(0.05, 0.25).pkl\n",
      "/lemur2/lucas/analyses/recordings/main/syntax_good/EUCLIDIAN_SHUFF/Pancho-230923-comb=False-q=RULESW_ANY_SEQSUP_STROKE-seqsupgood/stroke-FP_a-00_stroke-ss=stxsuperv-fit_twind=(-0.8, 0.3)/contrast=1|stroke_index\n",
      "Loading this path:  /lemur2/lucas/analyses/recordings/main/syntax_good/EUCLIDIAN_SHUFF/Pancho-230923-comb=False-q=RULESW_ANY_SEQSUP_STROKE-seqsupgood/stroke-SMA_p-00_stroke-ss=stxsuperv-fit_twind=(-0.8, 0.3)/contrast=0|chunk_within_rank_semantic_v2/dfdist-twind_scal=(0.05, 0.25).pkl\n",
      "/lemur2/lucas/analyses/recordings/main/syntax_good/EUCLIDIAN_SHUFF/Pancho-230923-comb=False-q=RULESW_ANY_SEQSUP_STROKE-seqsupgood/stroke-SMA_p-00_stroke-ss=stxsuperv-fit_twind=(-0.8, 0.3)/contrast=0|chunk_within_rank_semantic_v2\n",
      "Loading this path:  /lemur2/lucas/analyses/recordings/main/syntax_good/EUCLIDIAN_SHUFF/Pancho-230923-comb=False-q=RULESW_ANY_SEQSUP_STROKE-seqsupgood/stroke-SMA_p-00_stroke-ss=stxsuperv-fit_twind=(-0.8, 0.3)/contrast=1|stroke_index/dfdist-twind_scal=(0.05, 0.25).pkl\n",
      "/lemur2/lucas/analyses/recordings/main/syntax_good/EUCLIDIAN_SHUFF/Pancho-230923-comb=False-q=RULESW_ANY_SEQSUP_STROKE-seqsupgood/stroke-SMA_p-00_stroke-ss=stxsuperv-fit_twind=(-0.8, 0.3)/contrast=1|stroke_index\n",
      "Loading this path:  /lemur2/lucas/analyses/recordings/main/syntax_good/EUCLIDIAN_SHUFF/Pancho-230923-comb=False-q=RULESW_ANY_SEQSUP_STROKE-seqsupgood/stroke-SMA_a-00_stroke-ss=stxsuperv-fit_twind=(-0.8, 0.3)/contrast=0|chunk_within_rank_semantic_v2/dfdist-twind_scal=(0.05, 0.25).pkl\n",
      "/lemur2/lucas/analyses/recordings/main/syntax_good/EUCLIDIAN_SHUFF/Pancho-230923-comb=False-q=RULESW_ANY_SEQSUP_STROKE-seqsupgood/stroke-SMA_a-00_stroke-ss=stxsuperv-fit_twind=(-0.8, 0.3)/contrast=0|chunk_within_rank_semantic_v2\n",
      "Loading this path:  /lemur2/lucas/analyses/recordings/main/syntax_good/EUCLIDIAN_SHUFF/Pancho-230923-comb=False-q=RULESW_ANY_SEQSUP_STROKE-seqsupgood/stroke-SMA_a-00_stroke-ss=stxsuperv-fit_twind=(-0.8, 0.3)/contrast=1|stroke_index/dfdist-twind_scal=(0.05, 0.25).pkl\n",
      "/lemur2/lucas/analyses/recordings/main/syntax_good/EUCLIDIAN_SHUFF/Pancho-230923-comb=False-q=RULESW_ANY_SEQSUP_STROKE-seqsupgood/stroke-SMA_a-00_stroke-ss=stxsuperv-fit_twind=(-0.8, 0.3)/contrast=1|stroke_index\n",
      "Loading this path:  /lemur2/lucas/analyses/recordings/main/syntax_good/EUCLIDIAN_SHUFF/Pancho-230923-comb=False-q=RULESW_ANY_SEQSUP_STROKE-seqsupgood/stroke-preSMA_p-00_stroke-ss=stxsuperv-fit_twind=(-0.8, 0.3)/contrast=0|chunk_within_rank_semantic_v2/dfdist-twind_scal=(0.05, 0.25).pkl\n",
      "/lemur2/lucas/analyses/recordings/main/syntax_good/EUCLIDIAN_SHUFF/Pancho-230923-comb=False-q=RULESW_ANY_SEQSUP_STROKE-seqsupgood/stroke-preSMA_p-00_stroke-ss=stxsuperv-fit_twind=(-0.8, 0.3)/contrast=0|chunk_within_rank_semantic_v2\n",
      "Loading this path:  /lemur2/lucas/analyses/recordings/main/syntax_good/EUCLIDIAN_SHUFF/Pancho-230923-comb=False-q=RULESW_ANY_SEQSUP_STROKE-seqsupgood/stroke-preSMA_p-00_stroke-ss=stxsuperv-fit_twind=(-0.8, 0.3)/contrast=1|stroke_index/dfdist-twind_scal=(0.05, 0.25).pkl\n",
      "/lemur2/lucas/analyses/recordings/main/syntax_good/EUCLIDIAN_SHUFF/Pancho-230923-comb=False-q=RULESW_ANY_SEQSUP_STROKE-seqsupgood/stroke-preSMA_p-00_stroke-ss=stxsuperv-fit_twind=(-0.8, 0.3)/contrast=1|stroke_index\n",
      "Loading this path:  /lemur2/lucas/analyses/recordings/main/syntax_good/EUCLIDIAN_SHUFF/Pancho-230923-comb=False-q=RULESW_ANY_SEQSUP_STROKE-seqsupgood/stroke-preSMA_a-00_stroke-ss=stxsuperv-fit_twind=(-0.8, 0.3)/contrast=0|chunk_within_rank_semantic_v2/dfdist-twind_scal=(0.05, 0.25).pkl\n",
      "/lemur2/lucas/analyses/recordings/main/syntax_good/EUCLIDIAN_SHUFF/Pancho-230923-comb=False-q=RULESW_ANY_SEQSUP_STROKE-seqsupgood/stroke-preSMA_a-00_stroke-ss=stxsuperv-fit_twind=(-0.8, 0.3)/contrast=0|chunk_within_rank_semantic_v2\n",
      "Loading this path:  /lemur2/lucas/analyses/recordings/main/syntax_good/EUCLIDIAN_SHUFF/Pancho-230923-comb=False-q=RULESW_ANY_SEQSUP_STROKE-seqsupgood/stroke-preSMA_a-00_stroke-ss=stxsuperv-fit_twind=(-0.8, 0.3)/contrast=1|stroke_index/dfdist-twind_scal=(0.05, 0.25).pkl\n",
      "/lemur2/lucas/analyses/recordings/main/syntax_good/EUCLIDIAN_SHUFF/Pancho-230923-comb=False-q=RULESW_ANY_SEQSUP_STROKE-seqsupgood/stroke-preSMA_a-00_stroke-ss=stxsuperv-fit_twind=(-0.8, 0.3)/contrast=1|stroke_index\n",
      "Loading this path:  /lemur2/lucas/analyses/recordings/main/syntax_good/EUCLIDIAN_SHUFF/Pancho-231019-comb=False-q=RULESW_ANY_SEQSUP_STROKE-seqsupgood/stroke-M1_m-00_stroke-ss=stxsuperv-fit_twind=(-0.8, 0.3)/contrast=0|chunk_within_rank_semantic_v2/dfdist-twind_scal=(0.05, 0.25).pkl\n",
      "/lemur2/lucas/analyses/recordings/main/syntax_good/EUCLIDIAN_SHUFF/Pancho-231019-comb=False-q=RULESW_ANY_SEQSUP_STROKE-seqsupgood/stroke-M1_m-00_stroke-ss=stxsuperv-fit_twind=(-0.8, 0.3)/contrast=0|chunk_within_rank_semantic_v2\n",
      "Loading this path:  /lemur2/lucas/analyses/recordings/main/syntax_good/EUCLIDIAN_SHUFF/Pancho-231019-comb=False-q=RULESW_ANY_SEQSUP_STROKE-seqsupgood/stroke-M1_m-00_stroke-ss=stxsuperv-fit_twind=(-0.8, 0.3)/contrast=1|stroke_index/dfdist-twind_scal=(0.05, 0.25).pkl\n",
      "/lemur2/lucas/analyses/recordings/main/syntax_good/EUCLIDIAN_SHUFF/Pancho-231019-comb=False-q=RULESW_ANY_SEQSUP_STROKE-seqsupgood/stroke-M1_m-00_stroke-ss=stxsuperv-fit_twind=(-0.8, 0.3)/contrast=1|stroke_index\n",
      "Loading this path:  /lemur2/lucas/analyses/recordings/main/syntax_good/EUCLIDIAN_SHUFF/Pancho-231019-comb=False-q=RULESW_ANY_SEQSUP_STROKE-seqsupgood/stroke-M1_l-00_stroke-ss=stxsuperv-fit_twind=(-0.8, 0.3)/contrast=0|chunk_within_rank_semantic_v2/dfdist-twind_scal=(0.05, 0.25).pkl\n",
      "/lemur2/lucas/analyses/recordings/main/syntax_good/EUCLIDIAN_SHUFF/Pancho-231019-comb=False-q=RULESW_ANY_SEQSUP_STROKE-seqsupgood/stroke-M1_l-00_stroke-ss=stxsuperv-fit_twind=(-0.8, 0.3)/contrast=0|chunk_within_rank_semantic_v2\n",
      "Loading this path:  /lemur2/lucas/analyses/recordings/main/syntax_good/EUCLIDIAN_SHUFF/Pancho-231019-comb=False-q=RULESW_ANY_SEQSUP_STROKE-seqsupgood/stroke-M1_l-00_stroke-ss=stxsuperv-fit_twind=(-0.8, 0.3)/contrast=1|stroke_index/dfdist-twind_scal=(0.05, 0.25).pkl\n",
      "/lemur2/lucas/analyses/recordings/main/syntax_good/EUCLIDIAN_SHUFF/Pancho-231019-comb=False-q=RULESW_ANY_SEQSUP_STROKE-seqsupgood/stroke-M1_l-00_stroke-ss=stxsuperv-fit_twind=(-0.8, 0.3)/contrast=1|stroke_index\n",
      "Loading this path:  /lemur2/lucas/analyses/recordings/main/syntax_good/EUCLIDIAN_SHUFF/Pancho-231019-comb=False-q=RULESW_ANY_SEQSUP_STROKE-seqsupgood/stroke-PMv_l-00_stroke-ss=stxsuperv-fit_twind=(-0.8, 0.3)/contrast=0|chunk_within_rank_semantic_v2/dfdist-twind_scal=(0.05, 0.25).pkl\n",
      "/lemur2/lucas/analyses/recordings/main/syntax_good/EUCLIDIAN_SHUFF/Pancho-231019-comb=False-q=RULESW_ANY_SEQSUP_STROKE-seqsupgood/stroke-PMv_l-00_stroke-ss=stxsuperv-fit_twind=(-0.8, 0.3)/contrast=0|chunk_within_rank_semantic_v2\n",
      "Loading this path:  /lemur2/lucas/analyses/recordings/main/syntax_good/EUCLIDIAN_SHUFF/Pancho-231019-comb=False-q=RULESW_ANY_SEQSUP_STROKE-seqsupgood/stroke-PMv_l-00_stroke-ss=stxsuperv-fit_twind=(-0.8, 0.3)/contrast=1|stroke_index/dfdist-twind_scal=(0.05, 0.25).pkl\n",
      "/lemur2/lucas/analyses/recordings/main/syntax_good/EUCLIDIAN_SHUFF/Pancho-231019-comb=False-q=RULESW_ANY_SEQSUP_STROKE-seqsupgood/stroke-PMv_l-00_stroke-ss=stxsuperv-fit_twind=(-0.8, 0.3)/contrast=1|stroke_index\n",
      "Loading this path:  /lemur2/lucas/analyses/recordings/main/syntax_good/EUCLIDIAN_SHUFF/Pancho-231019-comb=False-q=RULESW_ANY_SEQSUP_STROKE-seqsupgood/stroke-PMv_m-00_stroke-ss=stxsuperv-fit_twind=(-0.8, 0.3)/contrast=0|chunk_within_rank_semantic_v2/dfdist-twind_scal=(0.05, 0.25).pkl\n",
      "/lemur2/lucas/analyses/recordings/main/syntax_good/EUCLIDIAN_SHUFF/Pancho-231019-comb=False-q=RULESW_ANY_SEQSUP_STROKE-seqsupgood/stroke-PMv_m-00_stroke-ss=stxsuperv-fit_twind=(-0.8, 0.3)/contrast=0|chunk_within_rank_semantic_v2\n",
      "Loading this path:  /lemur2/lucas/analyses/recordings/main/syntax_good/EUCLIDIAN_SHUFF/Pancho-231019-comb=False-q=RULESW_ANY_SEQSUP_STROKE-seqsupgood/stroke-PMv_m-00_stroke-ss=stxsuperv-fit_twind=(-0.8, 0.3)/contrast=1|stroke_index/dfdist-twind_scal=(0.05, 0.25).pkl\n",
      "/lemur2/lucas/analyses/recordings/main/syntax_good/EUCLIDIAN_SHUFF/Pancho-231019-comb=False-q=RULESW_ANY_SEQSUP_STROKE-seqsupgood/stroke-PMv_m-00_stroke-ss=stxsuperv-fit_twind=(-0.8, 0.3)/contrast=1|stroke_index\n",
      "Loading this path:  /lemur2/lucas/analyses/recordings/main/syntax_good/EUCLIDIAN_SHUFF/Pancho-231019-comb=False-q=RULESW_ANY_SEQSUP_STROKE-seqsupgood/stroke-PMd_p-00_stroke-ss=stxsuperv-fit_twind=(-0.8, 0.3)/contrast=0|chunk_within_rank_semantic_v2/dfdist-twind_scal=(0.05, 0.25).pkl\n",
      "/lemur2/lucas/analyses/recordings/main/syntax_good/EUCLIDIAN_SHUFF/Pancho-231019-comb=False-q=RULESW_ANY_SEQSUP_STROKE-seqsupgood/stroke-PMd_p-00_stroke-ss=stxsuperv-fit_twind=(-0.8, 0.3)/contrast=0|chunk_within_rank_semantic_v2\n",
      "Loading this path:  /lemur2/lucas/analyses/recordings/main/syntax_good/EUCLIDIAN_SHUFF/Pancho-231019-comb=False-q=RULESW_ANY_SEQSUP_STROKE-seqsupgood/stroke-PMd_p-00_stroke-ss=stxsuperv-fit_twind=(-0.8, 0.3)/contrast=1|stroke_index/dfdist-twind_scal=(0.05, 0.25).pkl\n",
      "/lemur2/lucas/analyses/recordings/main/syntax_good/EUCLIDIAN_SHUFF/Pancho-231019-comb=False-q=RULESW_ANY_SEQSUP_STROKE-seqsupgood/stroke-PMd_p-00_stroke-ss=stxsuperv-fit_twind=(-0.8, 0.3)/contrast=1|stroke_index\n",
      "Loading this path:  /lemur2/lucas/analyses/recordings/main/syntax_good/EUCLIDIAN_SHUFF/Pancho-231019-comb=False-q=RULESW_ANY_SEQSUP_STROKE-seqsupgood/stroke-PMd_a-00_stroke-ss=stxsuperv-fit_twind=(-0.8, 0.3)/contrast=0|chunk_within_rank_semantic_v2/dfdist-twind_scal=(0.05, 0.25).pkl\n",
      "/lemur2/lucas/analyses/recordings/main/syntax_good/EUCLIDIAN_SHUFF/Pancho-231019-comb=False-q=RULESW_ANY_SEQSUP_STROKE-seqsupgood/stroke-PMd_a-00_stroke-ss=stxsuperv-fit_twind=(-0.8, 0.3)/contrast=0|chunk_within_rank_semantic_v2\n",
      "Loading this path:  /lemur2/lucas/analyses/recordings/main/syntax_good/EUCLIDIAN_SHUFF/Pancho-231019-comb=False-q=RULESW_ANY_SEQSUP_STROKE-seqsupgood/stroke-PMd_a-00_stroke-ss=stxsuperv-fit_twind=(-0.8, 0.3)/contrast=1|stroke_index/dfdist-twind_scal=(0.05, 0.25).pkl\n",
      "/lemur2/lucas/analyses/recordings/main/syntax_good/EUCLIDIAN_SHUFF/Pancho-231019-comb=False-q=RULESW_ANY_SEQSUP_STROKE-seqsupgood/stroke-PMd_a-00_stroke-ss=stxsuperv-fit_twind=(-0.8, 0.3)/contrast=1|stroke_index\n",
      "Loading this path:  /lemur2/lucas/analyses/recordings/main/syntax_good/EUCLIDIAN_SHUFF/Pancho-231019-comb=False-q=RULESW_ANY_SEQSUP_STROKE-seqsupgood/stroke-dlPFC_p-00_stroke-ss=stxsuperv-fit_twind=(-0.8, 0.3)/contrast=0|chunk_within_rank_semantic_v2/dfdist-twind_scal=(0.05, 0.25).pkl\n",
      "/lemur2/lucas/analyses/recordings/main/syntax_good/EUCLIDIAN_SHUFF/Pancho-231019-comb=False-q=RULESW_ANY_SEQSUP_STROKE-seqsupgood/stroke-dlPFC_p-00_stroke-ss=stxsuperv-fit_twind=(-0.8, 0.3)/contrast=0|chunk_within_rank_semantic_v2\n",
      "Loading this path:  /lemur2/lucas/analyses/recordings/main/syntax_good/EUCLIDIAN_SHUFF/Pancho-231019-comb=False-q=RULESW_ANY_SEQSUP_STROKE-seqsupgood/stroke-dlPFC_p-00_stroke-ss=stxsuperv-fit_twind=(-0.8, 0.3)/contrast=1|stroke_index/dfdist-twind_scal=(0.05, 0.25).pkl\n",
      "/lemur2/lucas/analyses/recordings/main/syntax_good/EUCLIDIAN_SHUFF/Pancho-231019-comb=False-q=RULESW_ANY_SEQSUP_STROKE-seqsupgood/stroke-dlPFC_p-00_stroke-ss=stxsuperv-fit_twind=(-0.8, 0.3)/contrast=1|stroke_index\n",
      "Loading this path:  /lemur2/lucas/analyses/recordings/main/syntax_good/EUCLIDIAN_SHUFF/Pancho-231019-comb=False-q=RULESW_ANY_SEQSUP_STROKE-seqsupgood/stroke-dlPFC_a-00_stroke-ss=stxsuperv-fit_twind=(-0.8, 0.3)/contrast=0|chunk_within_rank_semantic_v2/dfdist-twind_scal=(0.05, 0.25).pkl\n",
      "/lemur2/lucas/analyses/recordings/main/syntax_good/EUCLIDIAN_SHUFF/Pancho-231019-comb=False-q=RULESW_ANY_SEQSUP_STROKE-seqsupgood/stroke-dlPFC_a-00_stroke-ss=stxsuperv-fit_twind=(-0.8, 0.3)/contrast=0|chunk_within_rank_semantic_v2\n",
      "Loading this path:  /lemur2/lucas/analyses/recordings/main/syntax_good/EUCLIDIAN_SHUFF/Pancho-231019-comb=False-q=RULESW_ANY_SEQSUP_STROKE-seqsupgood/stroke-dlPFC_a-00_stroke-ss=stxsuperv-fit_twind=(-0.8, 0.3)/contrast=1|stroke_index/dfdist-twind_scal=(0.05, 0.25).pkl\n",
      "/lemur2/lucas/analyses/recordings/main/syntax_good/EUCLIDIAN_SHUFF/Pancho-231019-comb=False-q=RULESW_ANY_SEQSUP_STROKE-seqsupgood/stroke-dlPFC_a-00_stroke-ss=stxsuperv-fit_twind=(-0.8, 0.3)/contrast=1|stroke_index\n",
      "Loading this path:  /lemur2/lucas/analyses/recordings/main/syntax_good/EUCLIDIAN_SHUFF/Pancho-231019-comb=False-q=RULESW_ANY_SEQSUP_STROKE-seqsupgood/stroke-vlPFC_p-00_stroke-ss=stxsuperv-fit_twind=(-0.8, 0.3)/contrast=0|chunk_within_rank_semantic_v2/dfdist-twind_scal=(0.05, 0.25).pkl\n",
      "/lemur2/lucas/analyses/recordings/main/syntax_good/EUCLIDIAN_SHUFF/Pancho-231019-comb=False-q=RULESW_ANY_SEQSUP_STROKE-seqsupgood/stroke-vlPFC_p-00_stroke-ss=stxsuperv-fit_twind=(-0.8, 0.3)/contrast=0|chunk_within_rank_semantic_v2\n",
      "Loading this path:  /lemur2/lucas/analyses/recordings/main/syntax_good/EUCLIDIAN_SHUFF/Pancho-231019-comb=False-q=RULESW_ANY_SEQSUP_STROKE-seqsupgood/stroke-vlPFC_p-00_stroke-ss=stxsuperv-fit_twind=(-0.8, 0.3)/contrast=1|stroke_index/dfdist-twind_scal=(0.05, 0.25).pkl\n",
      "/lemur2/lucas/analyses/recordings/main/syntax_good/EUCLIDIAN_SHUFF/Pancho-231019-comb=False-q=RULESW_ANY_SEQSUP_STROKE-seqsupgood/stroke-vlPFC_p-00_stroke-ss=stxsuperv-fit_twind=(-0.8, 0.3)/contrast=1|stroke_index\n",
      "Loading this path:  /lemur2/lucas/analyses/recordings/main/syntax_good/EUCLIDIAN_SHUFF/Pancho-231019-comb=False-q=RULESW_ANY_SEQSUP_STROKE-seqsupgood/stroke-vlPFC_a-00_stroke-ss=stxsuperv-fit_twind=(-0.8, 0.3)/contrast=0|chunk_within_rank_semantic_v2/dfdist-twind_scal=(0.05, 0.25).pkl\n",
      "/lemur2/lucas/analyses/recordings/main/syntax_good/EUCLIDIAN_SHUFF/Pancho-231019-comb=False-q=RULESW_ANY_SEQSUP_STROKE-seqsupgood/stroke-vlPFC_a-00_stroke-ss=stxsuperv-fit_twind=(-0.8, 0.3)/contrast=0|chunk_within_rank_semantic_v2\n",
      "Loading this path:  /lemur2/lucas/analyses/recordings/main/syntax_good/EUCLIDIAN_SHUFF/Pancho-231019-comb=False-q=RULESW_ANY_SEQSUP_STROKE-seqsupgood/stroke-vlPFC_a-00_stroke-ss=stxsuperv-fit_twind=(-0.8, 0.3)/contrast=1|stroke_index/dfdist-twind_scal=(0.05, 0.25).pkl\n",
      "/lemur2/lucas/analyses/recordings/main/syntax_good/EUCLIDIAN_SHUFF/Pancho-231019-comb=False-q=RULESW_ANY_SEQSUP_STROKE-seqsupgood/stroke-vlPFC_a-00_stroke-ss=stxsuperv-fit_twind=(-0.8, 0.3)/contrast=1|stroke_index\n",
      "Loading this path:  /lemur2/lucas/analyses/recordings/main/syntax_good/EUCLIDIAN_SHUFF/Pancho-231019-comb=False-q=RULESW_ANY_SEQSUP_STROKE-seqsupgood/stroke-FP_p-00_stroke-ss=stxsuperv-fit_twind=(-0.8, 0.3)/contrast=0|chunk_within_rank_semantic_v2/dfdist-twind_scal=(0.05, 0.25).pkl\n",
      "/lemur2/lucas/analyses/recordings/main/syntax_good/EUCLIDIAN_SHUFF/Pancho-231019-comb=False-q=RULESW_ANY_SEQSUP_STROKE-seqsupgood/stroke-FP_p-00_stroke-ss=stxsuperv-fit_twind=(-0.8, 0.3)/contrast=0|chunk_within_rank_semantic_v2\n",
      "Loading this path:  /lemur2/lucas/analyses/recordings/main/syntax_good/EUCLIDIAN_SHUFF/Pancho-231019-comb=False-q=RULESW_ANY_SEQSUP_STROKE-seqsupgood/stroke-FP_p-00_stroke-ss=stxsuperv-fit_twind=(-0.8, 0.3)/contrast=1|stroke_index/dfdist-twind_scal=(0.05, 0.25).pkl\n",
      "/lemur2/lucas/analyses/recordings/main/syntax_good/EUCLIDIAN_SHUFF/Pancho-231019-comb=False-q=RULESW_ANY_SEQSUP_STROKE-seqsupgood/stroke-FP_p-00_stroke-ss=stxsuperv-fit_twind=(-0.8, 0.3)/contrast=1|stroke_index\n",
      "Loading this path:  /lemur2/lucas/analyses/recordings/main/syntax_good/EUCLIDIAN_SHUFF/Pancho-231019-comb=False-q=RULESW_ANY_SEQSUP_STROKE-seqsupgood/stroke-FP_a-00_stroke-ss=stxsuperv-fit_twind=(-0.8, 0.3)/contrast=0|chunk_within_rank_semantic_v2/dfdist-twind_scal=(0.05, 0.25).pkl\n",
      "/lemur2/lucas/analyses/recordings/main/syntax_good/EUCLIDIAN_SHUFF/Pancho-231019-comb=False-q=RULESW_ANY_SEQSUP_STROKE-seqsupgood/stroke-FP_a-00_stroke-ss=stxsuperv-fit_twind=(-0.8, 0.3)/contrast=0|chunk_within_rank_semantic_v2\n",
      "Loading this path:  /lemur2/lucas/analyses/recordings/main/syntax_good/EUCLIDIAN_SHUFF/Pancho-231019-comb=False-q=RULESW_ANY_SEQSUP_STROKE-seqsupgood/stroke-FP_a-00_stroke-ss=stxsuperv-fit_twind=(-0.8, 0.3)/contrast=1|stroke_index/dfdist-twind_scal=(0.05, 0.25).pkl\n",
      "/lemur2/lucas/analyses/recordings/main/syntax_good/EUCLIDIAN_SHUFF/Pancho-231019-comb=False-q=RULESW_ANY_SEQSUP_STROKE-seqsupgood/stroke-FP_a-00_stroke-ss=stxsuperv-fit_twind=(-0.8, 0.3)/contrast=1|stroke_index\n",
      "Loading this path:  /lemur2/lucas/analyses/recordings/main/syntax_good/EUCLIDIAN_SHUFF/Pancho-231019-comb=False-q=RULESW_ANY_SEQSUP_STROKE-seqsupgood/stroke-SMA_p-00_stroke-ss=stxsuperv-fit_twind=(-0.8, 0.3)/contrast=0|chunk_within_rank_semantic_v2/dfdist-twind_scal=(0.05, 0.25).pkl\n",
      "/lemur2/lucas/analyses/recordings/main/syntax_good/EUCLIDIAN_SHUFF/Pancho-231019-comb=False-q=RULESW_ANY_SEQSUP_STROKE-seqsupgood/stroke-SMA_p-00_stroke-ss=stxsuperv-fit_twind=(-0.8, 0.3)/contrast=0|chunk_within_rank_semantic_v2\n",
      "Loading this path:  /lemur2/lucas/analyses/recordings/main/syntax_good/EUCLIDIAN_SHUFF/Pancho-231019-comb=False-q=RULESW_ANY_SEQSUP_STROKE-seqsupgood/stroke-SMA_p-00_stroke-ss=stxsuperv-fit_twind=(-0.8, 0.3)/contrast=1|stroke_index/dfdist-twind_scal=(0.05, 0.25).pkl\n",
      "/lemur2/lucas/analyses/recordings/main/syntax_good/EUCLIDIAN_SHUFF/Pancho-231019-comb=False-q=RULESW_ANY_SEQSUP_STROKE-seqsupgood/stroke-SMA_p-00_stroke-ss=stxsuperv-fit_twind=(-0.8, 0.3)/contrast=1|stroke_index\n",
      "Loading this path:  /lemur2/lucas/analyses/recordings/main/syntax_good/EUCLIDIAN_SHUFF/Pancho-231019-comb=False-q=RULESW_ANY_SEQSUP_STROKE-seqsupgood/stroke-SMA_a-00_stroke-ss=stxsuperv-fit_twind=(-0.8, 0.3)/contrast=0|chunk_within_rank_semantic_v2/dfdist-twind_scal=(0.05, 0.25).pkl\n",
      "/lemur2/lucas/analyses/recordings/main/syntax_good/EUCLIDIAN_SHUFF/Pancho-231019-comb=False-q=RULESW_ANY_SEQSUP_STROKE-seqsupgood/stroke-SMA_a-00_stroke-ss=stxsuperv-fit_twind=(-0.8, 0.3)/contrast=0|chunk_within_rank_semantic_v2\n",
      "Loading this path:  /lemur2/lucas/analyses/recordings/main/syntax_good/EUCLIDIAN_SHUFF/Pancho-231019-comb=False-q=RULESW_ANY_SEQSUP_STROKE-seqsupgood/stroke-SMA_a-00_stroke-ss=stxsuperv-fit_twind=(-0.8, 0.3)/contrast=1|stroke_index/dfdist-twind_scal=(0.05, 0.25).pkl\n",
      "/lemur2/lucas/analyses/recordings/main/syntax_good/EUCLIDIAN_SHUFF/Pancho-231019-comb=False-q=RULESW_ANY_SEQSUP_STROKE-seqsupgood/stroke-SMA_a-00_stroke-ss=stxsuperv-fit_twind=(-0.8, 0.3)/contrast=1|stroke_index\n",
      "Loading this path:  /lemur2/lucas/analyses/recordings/main/syntax_good/EUCLIDIAN_SHUFF/Pancho-231019-comb=False-q=RULESW_ANY_SEQSUP_STROKE-seqsupgood/stroke-preSMA_p-00_stroke-ss=stxsuperv-fit_twind=(-0.8, 0.3)/contrast=0|chunk_within_rank_semantic_v2/dfdist-twind_scal=(0.05, 0.25).pkl\n",
      "/lemur2/lucas/analyses/recordings/main/syntax_good/EUCLIDIAN_SHUFF/Pancho-231019-comb=False-q=RULESW_ANY_SEQSUP_STROKE-seqsupgood/stroke-preSMA_p-00_stroke-ss=stxsuperv-fit_twind=(-0.8, 0.3)/contrast=0|chunk_within_rank_semantic_v2\n",
      "Loading this path:  /lemur2/lucas/analyses/recordings/main/syntax_good/EUCLIDIAN_SHUFF/Pancho-231019-comb=False-q=RULESW_ANY_SEQSUP_STROKE-seqsupgood/stroke-preSMA_p-00_stroke-ss=stxsuperv-fit_twind=(-0.8, 0.3)/contrast=1|stroke_index/dfdist-twind_scal=(0.05, 0.25).pkl\n",
      "/lemur2/lucas/analyses/recordings/main/syntax_good/EUCLIDIAN_SHUFF/Pancho-231019-comb=False-q=RULESW_ANY_SEQSUP_STROKE-seqsupgood/stroke-preSMA_p-00_stroke-ss=stxsuperv-fit_twind=(-0.8, 0.3)/contrast=1|stroke_index\n",
      "Loading this path:  /lemur2/lucas/analyses/recordings/main/syntax_good/EUCLIDIAN_SHUFF/Pancho-231019-comb=False-q=RULESW_ANY_SEQSUP_STROKE-seqsupgood/stroke-preSMA_a-00_stroke-ss=stxsuperv-fit_twind=(-0.8, 0.3)/contrast=0|chunk_within_rank_semantic_v2/dfdist-twind_scal=(0.05, 0.25).pkl\n",
      "/lemur2/lucas/analyses/recordings/main/syntax_good/EUCLIDIAN_SHUFF/Pancho-231019-comb=False-q=RULESW_ANY_SEQSUP_STROKE-seqsupgood/stroke-preSMA_a-00_stroke-ss=stxsuperv-fit_twind=(-0.8, 0.3)/contrast=0|chunk_within_rank_semantic_v2\n",
      "Loading this path:  /lemur2/lucas/analyses/recordings/main/syntax_good/EUCLIDIAN_SHUFF/Pancho-231019-comb=False-q=RULESW_ANY_SEQSUP_STROKE-seqsupgood/stroke-preSMA_a-00_stroke-ss=stxsuperv-fit_twind=(-0.8, 0.3)/contrast=1|stroke_index/dfdist-twind_scal=(0.05, 0.25).pkl\n",
      "/lemur2/lucas/analyses/recordings/main/syntax_good/EUCLIDIAN_SHUFF/Pancho-231019-comb=False-q=RULESW_ANY_SEQSUP_STROKE-seqsupgood/stroke-preSMA_a-00_stroke-ss=stxsuperv-fit_twind=(-0.8, 0.3)/contrast=1|stroke_index\n",
      "Loading this path:  /lemur2/lucas/analyses/recordings/main/syntax_good/EUCLIDIAN_SHUFF/Pancho-240828-comb=False-q=RULESW_ANY_SEQSUP_STROKE-seqsupgood/stroke-M1_m-00_stroke-ss=stxsuperv-fit_twind=(-0.8, 0.3)/contrast=0|chunk_within_rank_semantic_v2/dfdist-twind_scal=(0.05, 0.25).pkl\n",
      "/lemur2/lucas/analyses/recordings/main/syntax_good/EUCLIDIAN_SHUFF/Pancho-240828-comb=False-q=RULESW_ANY_SEQSUP_STROKE-seqsupgood/stroke-M1_m-00_stroke-ss=stxsuperv-fit_twind=(-0.8, 0.3)/contrast=0|chunk_within_rank_semantic_v2\n",
      "Loading this path:  /lemur2/lucas/analyses/recordings/main/syntax_good/EUCLIDIAN_SHUFF/Pancho-240828-comb=False-q=RULESW_ANY_SEQSUP_STROKE-seqsupgood/stroke-M1_m-00_stroke-ss=stxsuperv-fit_twind=(-0.8, 0.3)/contrast=1|stroke_index/dfdist-twind_scal=(0.05, 0.25).pkl\n",
      "/lemur2/lucas/analyses/recordings/main/syntax_good/EUCLIDIAN_SHUFF/Pancho-240828-comb=False-q=RULESW_ANY_SEQSUP_STROKE-seqsupgood/stroke-M1_m-00_stroke-ss=stxsuperv-fit_twind=(-0.8, 0.3)/contrast=1|stroke_index\n",
      "Loading this path:  /lemur2/lucas/analyses/recordings/main/syntax_good/EUCLIDIAN_SHUFF/Pancho-240828-comb=False-q=RULESW_ANY_SEQSUP_STROKE-seqsupgood/stroke-M1_l-00_stroke-ss=stxsuperv-fit_twind=(-0.8, 0.3)/contrast=0|chunk_within_rank_semantic_v2/dfdist-twind_scal=(0.05, 0.25).pkl\n",
      "/lemur2/lucas/analyses/recordings/main/syntax_good/EUCLIDIAN_SHUFF/Pancho-240828-comb=False-q=RULESW_ANY_SEQSUP_STROKE-seqsupgood/stroke-M1_l-00_stroke-ss=stxsuperv-fit_twind=(-0.8, 0.3)/contrast=0|chunk_within_rank_semantic_v2\n",
      "Loading this path:  /lemur2/lucas/analyses/recordings/main/syntax_good/EUCLIDIAN_SHUFF/Pancho-240828-comb=False-q=RULESW_ANY_SEQSUP_STROKE-seqsupgood/stroke-M1_l-00_stroke-ss=stxsuperv-fit_twind=(-0.8, 0.3)/contrast=1|stroke_index/dfdist-twind_scal=(0.05, 0.25).pkl\n",
      "/lemur2/lucas/analyses/recordings/main/syntax_good/EUCLIDIAN_SHUFF/Pancho-240828-comb=False-q=RULESW_ANY_SEQSUP_STROKE-seqsupgood/stroke-M1_l-00_stroke-ss=stxsuperv-fit_twind=(-0.8, 0.3)/contrast=1|stroke_index\n",
      "Loading this path:  /lemur2/lucas/analyses/recordings/main/syntax_good/EUCLIDIAN_SHUFF/Pancho-240828-comb=False-q=RULESW_ANY_SEQSUP_STROKE-seqsupgood/stroke-PMv_l-00_stroke-ss=stxsuperv-fit_twind=(-0.8, 0.3)/contrast=0|chunk_within_rank_semantic_v2/dfdist-twind_scal=(0.05, 0.25).pkl\n",
      "/lemur2/lucas/analyses/recordings/main/syntax_good/EUCLIDIAN_SHUFF/Pancho-240828-comb=False-q=RULESW_ANY_SEQSUP_STROKE-seqsupgood/stroke-PMv_l-00_stroke-ss=stxsuperv-fit_twind=(-0.8, 0.3)/contrast=0|chunk_within_rank_semantic_v2\n",
      "Loading this path:  /lemur2/lucas/analyses/recordings/main/syntax_good/EUCLIDIAN_SHUFF/Pancho-240828-comb=False-q=RULESW_ANY_SEQSUP_STROKE-seqsupgood/stroke-PMv_l-00_stroke-ss=stxsuperv-fit_twind=(-0.8, 0.3)/contrast=1|stroke_index/dfdist-twind_scal=(0.05, 0.25).pkl\n",
      "/lemur2/lucas/analyses/recordings/main/syntax_good/EUCLIDIAN_SHUFF/Pancho-240828-comb=False-q=RULESW_ANY_SEQSUP_STROKE-seqsupgood/stroke-PMv_l-00_stroke-ss=stxsuperv-fit_twind=(-0.8, 0.3)/contrast=1|stroke_index\n",
      "Loading this path:  /lemur2/lucas/analyses/recordings/main/syntax_good/EUCLIDIAN_SHUFF/Pancho-240828-comb=False-q=RULESW_ANY_SEQSUP_STROKE-seqsupgood/stroke-PMv_m-00_stroke-ss=stxsuperv-fit_twind=(-0.8, 0.3)/contrast=0|chunk_within_rank_semantic_v2/dfdist-twind_scal=(0.05, 0.25).pkl\n",
      "/lemur2/lucas/analyses/recordings/main/syntax_good/EUCLIDIAN_SHUFF/Pancho-240828-comb=False-q=RULESW_ANY_SEQSUP_STROKE-seqsupgood/stroke-PMv_m-00_stroke-ss=stxsuperv-fit_twind=(-0.8, 0.3)/contrast=0|chunk_within_rank_semantic_v2\n",
      "Loading this path:  /lemur2/lucas/analyses/recordings/main/syntax_good/EUCLIDIAN_SHUFF/Pancho-240828-comb=False-q=RULESW_ANY_SEQSUP_STROKE-seqsupgood/stroke-PMv_m-00_stroke-ss=stxsuperv-fit_twind=(-0.8, 0.3)/contrast=1|stroke_index/dfdist-twind_scal=(0.05, 0.25).pkl\n",
      "/lemur2/lucas/analyses/recordings/main/syntax_good/EUCLIDIAN_SHUFF/Pancho-240828-comb=False-q=RULESW_ANY_SEQSUP_STROKE-seqsupgood/stroke-PMv_m-00_stroke-ss=stxsuperv-fit_twind=(-0.8, 0.3)/contrast=1|stroke_index\n",
      "Loading this path:  /lemur2/lucas/analyses/recordings/main/syntax_good/EUCLIDIAN_SHUFF/Pancho-240828-comb=False-q=RULESW_ANY_SEQSUP_STROKE-seqsupgood/stroke-PMd_p-00_stroke-ss=stxsuperv-fit_twind=(-0.8, 0.3)/contrast=0|chunk_within_rank_semantic_v2/dfdist-twind_scal=(0.05, 0.25).pkl\n",
      "/lemur2/lucas/analyses/recordings/main/syntax_good/EUCLIDIAN_SHUFF/Pancho-240828-comb=False-q=RULESW_ANY_SEQSUP_STROKE-seqsupgood/stroke-PMd_p-00_stroke-ss=stxsuperv-fit_twind=(-0.8, 0.3)/contrast=0|chunk_within_rank_semantic_v2\n",
      "Loading this path:  /lemur2/lucas/analyses/recordings/main/syntax_good/EUCLIDIAN_SHUFF/Pancho-240828-comb=False-q=RULESW_ANY_SEQSUP_STROKE-seqsupgood/stroke-PMd_p-00_stroke-ss=stxsuperv-fit_twind=(-0.8, 0.3)/contrast=1|stroke_index/dfdist-twind_scal=(0.05, 0.25).pkl\n",
      "/lemur2/lucas/analyses/recordings/main/syntax_good/EUCLIDIAN_SHUFF/Pancho-240828-comb=False-q=RULESW_ANY_SEQSUP_STROKE-seqsupgood/stroke-PMd_p-00_stroke-ss=stxsuperv-fit_twind=(-0.8, 0.3)/contrast=1|stroke_index\n",
      "Loading this path:  /lemur2/lucas/analyses/recordings/main/syntax_good/EUCLIDIAN_SHUFF/Pancho-240828-comb=False-q=RULESW_ANY_SEQSUP_STROKE-seqsupgood/stroke-PMd_a-00_stroke-ss=stxsuperv-fit_twind=(-0.8, 0.3)/contrast=0|chunk_within_rank_semantic_v2/dfdist-twind_scal=(0.05, 0.25).pkl\n",
      "/lemur2/lucas/analyses/recordings/main/syntax_good/EUCLIDIAN_SHUFF/Pancho-240828-comb=False-q=RULESW_ANY_SEQSUP_STROKE-seqsupgood/stroke-PMd_a-00_stroke-ss=stxsuperv-fit_twind=(-0.8, 0.3)/contrast=0|chunk_within_rank_semantic_v2\n",
      "Loading this path:  /lemur2/lucas/analyses/recordings/main/syntax_good/EUCLIDIAN_SHUFF/Pancho-240828-comb=False-q=RULESW_ANY_SEQSUP_STROKE-seqsupgood/stroke-PMd_a-00_stroke-ss=stxsuperv-fit_twind=(-0.8, 0.3)/contrast=1|stroke_index/dfdist-twind_scal=(0.05, 0.25).pkl\n",
      "/lemur2/lucas/analyses/recordings/main/syntax_good/EUCLIDIAN_SHUFF/Pancho-240828-comb=False-q=RULESW_ANY_SEQSUP_STROKE-seqsupgood/stroke-PMd_a-00_stroke-ss=stxsuperv-fit_twind=(-0.8, 0.3)/contrast=1|stroke_index\n",
      "Loading this path:  /lemur2/lucas/analyses/recordings/main/syntax_good/EUCLIDIAN_SHUFF/Pancho-240828-comb=False-q=RULESW_ANY_SEQSUP_STROKE-seqsupgood/stroke-dlPFC_p-00_stroke-ss=stxsuperv-fit_twind=(-0.8, 0.3)/contrast=0|chunk_within_rank_semantic_v2/dfdist-twind_scal=(0.05, 0.25).pkl\n",
      "/lemur2/lucas/analyses/recordings/main/syntax_good/EUCLIDIAN_SHUFF/Pancho-240828-comb=False-q=RULESW_ANY_SEQSUP_STROKE-seqsupgood/stroke-dlPFC_p-00_stroke-ss=stxsuperv-fit_twind=(-0.8, 0.3)/contrast=0|chunk_within_rank_semantic_v2\n",
      "Loading this path:  /lemur2/lucas/analyses/recordings/main/syntax_good/EUCLIDIAN_SHUFF/Pancho-240828-comb=False-q=RULESW_ANY_SEQSUP_STROKE-seqsupgood/stroke-dlPFC_p-00_stroke-ss=stxsuperv-fit_twind=(-0.8, 0.3)/contrast=1|stroke_index/dfdist-twind_scal=(0.05, 0.25).pkl\n",
      "/lemur2/lucas/analyses/recordings/main/syntax_good/EUCLIDIAN_SHUFF/Pancho-240828-comb=False-q=RULESW_ANY_SEQSUP_STROKE-seqsupgood/stroke-dlPFC_p-00_stroke-ss=stxsuperv-fit_twind=(-0.8, 0.3)/contrast=1|stroke_index\n",
      "Loading this path:  /lemur2/lucas/analyses/recordings/main/syntax_good/EUCLIDIAN_SHUFF/Pancho-240828-comb=False-q=RULESW_ANY_SEQSUP_STROKE-seqsupgood/stroke-dlPFC_a-00_stroke-ss=stxsuperv-fit_twind=(-0.8, 0.3)/contrast=0|chunk_within_rank_semantic_v2/dfdist-twind_scal=(0.05, 0.25).pkl\n",
      "/lemur2/lucas/analyses/recordings/main/syntax_good/EUCLIDIAN_SHUFF/Pancho-240828-comb=False-q=RULESW_ANY_SEQSUP_STROKE-seqsupgood/stroke-dlPFC_a-00_stroke-ss=stxsuperv-fit_twind=(-0.8, 0.3)/contrast=0|chunk_within_rank_semantic_v2\n",
      "Loading this path:  /lemur2/lucas/analyses/recordings/main/syntax_good/EUCLIDIAN_SHUFF/Pancho-240828-comb=False-q=RULESW_ANY_SEQSUP_STROKE-seqsupgood/stroke-dlPFC_a-00_stroke-ss=stxsuperv-fit_twind=(-0.8, 0.3)/contrast=1|stroke_index/dfdist-twind_scal=(0.05, 0.25).pkl\n",
      "/lemur2/lucas/analyses/recordings/main/syntax_good/EUCLIDIAN_SHUFF/Pancho-240828-comb=False-q=RULESW_ANY_SEQSUP_STROKE-seqsupgood/stroke-dlPFC_a-00_stroke-ss=stxsuperv-fit_twind=(-0.8, 0.3)/contrast=1|stroke_index\n",
      "Loading this path:  /lemur2/lucas/analyses/recordings/main/syntax_good/EUCLIDIAN_SHUFF/Pancho-240828-comb=False-q=RULESW_ANY_SEQSUP_STROKE-seqsupgood/stroke-vlPFC_p-00_stroke-ss=stxsuperv-fit_twind=(-0.8, 0.3)/contrast=0|chunk_within_rank_semantic_v2/dfdist-twind_scal=(0.05, 0.25).pkl\n",
      "/lemur2/lucas/analyses/recordings/main/syntax_good/EUCLIDIAN_SHUFF/Pancho-240828-comb=False-q=RULESW_ANY_SEQSUP_STROKE-seqsupgood/stroke-vlPFC_p-00_stroke-ss=stxsuperv-fit_twind=(-0.8, 0.3)/contrast=0|chunk_within_rank_semantic_v2\n",
      "Loading this path:  /lemur2/lucas/analyses/recordings/main/syntax_good/EUCLIDIAN_SHUFF/Pancho-240828-comb=False-q=RULESW_ANY_SEQSUP_STROKE-seqsupgood/stroke-vlPFC_p-00_stroke-ss=stxsuperv-fit_twind=(-0.8, 0.3)/contrast=1|stroke_index/dfdist-twind_scal=(0.05, 0.25).pkl\n",
      "/lemur2/lucas/analyses/recordings/main/syntax_good/EUCLIDIAN_SHUFF/Pancho-240828-comb=False-q=RULESW_ANY_SEQSUP_STROKE-seqsupgood/stroke-vlPFC_p-00_stroke-ss=stxsuperv-fit_twind=(-0.8, 0.3)/contrast=1|stroke_index\n",
      "Loading this path:  /lemur2/lucas/analyses/recordings/main/syntax_good/EUCLIDIAN_SHUFF/Pancho-240828-comb=False-q=RULESW_ANY_SEQSUP_STROKE-seqsupgood/stroke-vlPFC_a-00_stroke-ss=stxsuperv-fit_twind=(-0.8, 0.3)/contrast=0|chunk_within_rank_semantic_v2/dfdist-twind_scal=(0.05, 0.25).pkl\n",
      "/lemur2/lucas/analyses/recordings/main/syntax_good/EUCLIDIAN_SHUFF/Pancho-240828-comb=False-q=RULESW_ANY_SEQSUP_STROKE-seqsupgood/stroke-vlPFC_a-00_stroke-ss=stxsuperv-fit_twind=(-0.8, 0.3)/contrast=0|chunk_within_rank_semantic_v2\n",
      "Loading this path:  /lemur2/lucas/analyses/recordings/main/syntax_good/EUCLIDIAN_SHUFF/Pancho-240828-comb=False-q=RULESW_ANY_SEQSUP_STROKE-seqsupgood/stroke-vlPFC_a-00_stroke-ss=stxsuperv-fit_twind=(-0.8, 0.3)/contrast=1|stroke_index/dfdist-twind_scal=(0.05, 0.25).pkl\n",
      "/lemur2/lucas/analyses/recordings/main/syntax_good/EUCLIDIAN_SHUFF/Pancho-240828-comb=False-q=RULESW_ANY_SEQSUP_STROKE-seqsupgood/stroke-vlPFC_a-00_stroke-ss=stxsuperv-fit_twind=(-0.8, 0.3)/contrast=1|stroke_index\n",
      "Loading this path:  /lemur2/lucas/analyses/recordings/main/syntax_good/EUCLIDIAN_SHUFF/Pancho-240828-comb=False-q=RULESW_ANY_SEQSUP_STROKE-seqsupgood/stroke-FP_p-00_stroke-ss=stxsuperv-fit_twind=(-0.8, 0.3)/contrast=0|chunk_within_rank_semantic_v2/dfdist-twind_scal=(0.05, 0.25).pkl\n",
      "/lemur2/lucas/analyses/recordings/main/syntax_good/EUCLIDIAN_SHUFF/Pancho-240828-comb=False-q=RULESW_ANY_SEQSUP_STROKE-seqsupgood/stroke-FP_p-00_stroke-ss=stxsuperv-fit_twind=(-0.8, 0.3)/contrast=0|chunk_within_rank_semantic_v2\n",
      "Loading this path:  /lemur2/lucas/analyses/recordings/main/syntax_good/EUCLIDIAN_SHUFF/Pancho-240828-comb=False-q=RULESW_ANY_SEQSUP_STROKE-seqsupgood/stroke-FP_p-00_stroke-ss=stxsuperv-fit_twind=(-0.8, 0.3)/contrast=1|stroke_index/dfdist-twind_scal=(0.05, 0.25).pkl\n",
      "/lemur2/lucas/analyses/recordings/main/syntax_good/EUCLIDIAN_SHUFF/Pancho-240828-comb=False-q=RULESW_ANY_SEQSUP_STROKE-seqsupgood/stroke-FP_p-00_stroke-ss=stxsuperv-fit_twind=(-0.8, 0.3)/contrast=1|stroke_index\n",
      "Loading this path:  /lemur2/lucas/analyses/recordings/main/syntax_good/EUCLIDIAN_SHUFF/Pancho-240828-comb=False-q=RULESW_ANY_SEQSUP_STROKE-seqsupgood/stroke-FP_a-00_stroke-ss=stxsuperv-fit_twind=(-0.8, 0.3)/contrast=0|chunk_within_rank_semantic_v2/dfdist-twind_scal=(0.05, 0.25).pkl\n",
      "/lemur2/lucas/analyses/recordings/main/syntax_good/EUCLIDIAN_SHUFF/Pancho-240828-comb=False-q=RULESW_ANY_SEQSUP_STROKE-seqsupgood/stroke-FP_a-00_stroke-ss=stxsuperv-fit_twind=(-0.8, 0.3)/contrast=0|chunk_within_rank_semantic_v2\n",
      "Loading this path:  /lemur2/lucas/analyses/recordings/main/syntax_good/EUCLIDIAN_SHUFF/Pancho-240828-comb=False-q=RULESW_ANY_SEQSUP_STROKE-seqsupgood/stroke-FP_a-00_stroke-ss=stxsuperv-fit_twind=(-0.8, 0.3)/contrast=1|stroke_index/dfdist-twind_scal=(0.05, 0.25).pkl\n",
      "/lemur2/lucas/analyses/recordings/main/syntax_good/EUCLIDIAN_SHUFF/Pancho-240828-comb=False-q=RULESW_ANY_SEQSUP_STROKE-seqsupgood/stroke-FP_a-00_stroke-ss=stxsuperv-fit_twind=(-0.8, 0.3)/contrast=1|stroke_index\n",
      "Loading this path:  /lemur2/lucas/analyses/recordings/main/syntax_good/EUCLIDIAN_SHUFF/Pancho-240828-comb=False-q=RULESW_ANY_SEQSUP_STROKE-seqsupgood/stroke-SMA_p-00_stroke-ss=stxsuperv-fit_twind=(-0.8, 0.3)/contrast=0|chunk_within_rank_semantic_v2/dfdist-twind_scal=(0.05, 0.25).pkl\n",
      "/lemur2/lucas/analyses/recordings/main/syntax_good/EUCLIDIAN_SHUFF/Pancho-240828-comb=False-q=RULESW_ANY_SEQSUP_STROKE-seqsupgood/stroke-SMA_p-00_stroke-ss=stxsuperv-fit_twind=(-0.8, 0.3)/contrast=0|chunk_within_rank_semantic_v2\n",
      "Loading this path:  /lemur2/lucas/analyses/recordings/main/syntax_good/EUCLIDIAN_SHUFF/Pancho-240828-comb=False-q=RULESW_ANY_SEQSUP_STROKE-seqsupgood/stroke-SMA_p-00_stroke-ss=stxsuperv-fit_twind=(-0.8, 0.3)/contrast=1|stroke_index/dfdist-twind_scal=(0.05, 0.25).pkl\n",
      "/lemur2/lucas/analyses/recordings/main/syntax_good/EUCLIDIAN_SHUFF/Pancho-240828-comb=False-q=RULESW_ANY_SEQSUP_STROKE-seqsupgood/stroke-SMA_p-00_stroke-ss=stxsuperv-fit_twind=(-0.8, 0.3)/contrast=1|stroke_index\n",
      "Loading this path:  /lemur2/lucas/analyses/recordings/main/syntax_good/EUCLIDIAN_SHUFF/Pancho-240828-comb=False-q=RULESW_ANY_SEQSUP_STROKE-seqsupgood/stroke-SMA_a-00_stroke-ss=stxsuperv-fit_twind=(-0.8, 0.3)/contrast=0|chunk_within_rank_semantic_v2/dfdist-twind_scal=(0.05, 0.25).pkl\n",
      "/lemur2/lucas/analyses/recordings/main/syntax_good/EUCLIDIAN_SHUFF/Pancho-240828-comb=False-q=RULESW_ANY_SEQSUP_STROKE-seqsupgood/stroke-SMA_a-00_stroke-ss=stxsuperv-fit_twind=(-0.8, 0.3)/contrast=0|chunk_within_rank_semantic_v2\n",
      "Loading this path:  /lemur2/lucas/analyses/recordings/main/syntax_good/EUCLIDIAN_SHUFF/Pancho-240828-comb=False-q=RULESW_ANY_SEQSUP_STROKE-seqsupgood/stroke-SMA_a-00_stroke-ss=stxsuperv-fit_twind=(-0.8, 0.3)/contrast=1|stroke_index/dfdist-twind_scal=(0.05, 0.25).pkl\n",
      "/lemur2/lucas/analyses/recordings/main/syntax_good/EUCLIDIAN_SHUFF/Pancho-240828-comb=False-q=RULESW_ANY_SEQSUP_STROKE-seqsupgood/stroke-SMA_a-00_stroke-ss=stxsuperv-fit_twind=(-0.8, 0.3)/contrast=1|stroke_index\n",
      "Loading this path:  /lemur2/lucas/analyses/recordings/main/syntax_good/EUCLIDIAN_SHUFF/Pancho-240828-comb=False-q=RULESW_ANY_SEQSUP_STROKE-seqsupgood/stroke-preSMA_p-00_stroke-ss=stxsuperv-fit_twind=(-0.8, 0.3)/contrast=0|chunk_within_rank_semantic_v2/dfdist-twind_scal=(0.05, 0.25).pkl\n",
      "/lemur2/lucas/analyses/recordings/main/syntax_good/EUCLIDIAN_SHUFF/Pancho-240828-comb=False-q=RULESW_ANY_SEQSUP_STROKE-seqsupgood/stroke-preSMA_p-00_stroke-ss=stxsuperv-fit_twind=(-0.8, 0.3)/contrast=0|chunk_within_rank_semantic_v2\n",
      "Loading this path:  /lemur2/lucas/analyses/recordings/main/syntax_good/EUCLIDIAN_SHUFF/Pancho-240828-comb=False-q=RULESW_ANY_SEQSUP_STROKE-seqsupgood/stroke-preSMA_p-00_stroke-ss=stxsuperv-fit_twind=(-0.8, 0.3)/contrast=1|stroke_index/dfdist-twind_scal=(0.05, 0.25).pkl\n",
      "/lemur2/lucas/analyses/recordings/main/syntax_good/EUCLIDIAN_SHUFF/Pancho-240828-comb=False-q=RULESW_ANY_SEQSUP_STROKE-seqsupgood/stroke-preSMA_p-00_stroke-ss=stxsuperv-fit_twind=(-0.8, 0.3)/contrast=1|stroke_index\n",
      "Loading this path:  /lemur2/lucas/analyses/recordings/main/syntax_good/EUCLIDIAN_SHUFF/Pancho-240828-comb=False-q=RULESW_ANY_SEQSUP_STROKE-seqsupgood/stroke-preSMA_a-00_stroke-ss=stxsuperv-fit_twind=(-0.8, 0.3)/contrast=0|chunk_within_rank_semantic_v2/dfdist-twind_scal=(0.05, 0.25).pkl\n",
      "/lemur2/lucas/analyses/recordings/main/syntax_good/EUCLIDIAN_SHUFF/Pancho-240828-comb=False-q=RULESW_ANY_SEQSUP_STROKE-seqsupgood/stroke-preSMA_a-00_stroke-ss=stxsuperv-fit_twind=(-0.8, 0.3)/contrast=0|chunk_within_rank_semantic_v2\n",
      "Loading this path:  /lemur2/lucas/analyses/recordings/main/syntax_good/EUCLIDIAN_SHUFF/Pancho-240828-comb=False-q=RULESW_ANY_SEQSUP_STROKE-seqsupgood/stroke-preSMA_a-00_stroke-ss=stxsuperv-fit_twind=(-0.8, 0.3)/contrast=1|stroke_index/dfdist-twind_scal=(0.05, 0.25).pkl\n",
      "/lemur2/lucas/analyses/recordings/main/syntax_good/EUCLIDIAN_SHUFF/Pancho-240828-comb=False-q=RULESW_ANY_SEQSUP_STROKE-seqsupgood/stroke-preSMA_a-00_stroke-ss=stxsuperv-fit_twind=(-0.8, 0.3)/contrast=1|stroke_index\n",
      "Loading this path:  /lemur2/lucas/analyses/recordings/main/syntax_good/EUCLIDIAN_SHUFF/Pancho-240829-comb=False-q=RULESW_ANY_SEQSUP_STROKE-seqsupgood/stroke-M1_m-00_stroke-ss=stxsuperv-fit_twind=(-0.8, 0.3)/contrast=0|chunk_within_rank_semantic_v2/dfdist-twind_scal=(0.05, 0.25).pkl\n",
      "/lemur2/lucas/analyses/recordings/main/syntax_good/EUCLIDIAN_SHUFF/Pancho-240829-comb=False-q=RULESW_ANY_SEQSUP_STROKE-seqsupgood/stroke-M1_m-00_stroke-ss=stxsuperv-fit_twind=(-0.8, 0.3)/contrast=0|chunk_within_rank_semantic_v2\n",
      "Loading this path:  /lemur2/lucas/analyses/recordings/main/syntax_good/EUCLIDIAN_SHUFF/Pancho-240829-comb=False-q=RULESW_ANY_SEQSUP_STROKE-seqsupgood/stroke-M1_m-00_stroke-ss=stxsuperv-fit_twind=(-0.8, 0.3)/contrast=1|stroke_index/dfdist-twind_scal=(0.05, 0.25).pkl\n",
      "/lemur2/lucas/analyses/recordings/main/syntax_good/EUCLIDIAN_SHUFF/Pancho-240829-comb=False-q=RULESW_ANY_SEQSUP_STROKE-seqsupgood/stroke-M1_m-00_stroke-ss=stxsuperv-fit_twind=(-0.8, 0.3)/contrast=1|stroke_index\n",
      "Loading this path:  /lemur2/lucas/analyses/recordings/main/syntax_good/EUCLIDIAN_SHUFF/Pancho-240829-comb=False-q=RULESW_ANY_SEQSUP_STROKE-seqsupgood/stroke-M1_l-00_stroke-ss=stxsuperv-fit_twind=(-0.8, 0.3)/contrast=0|chunk_within_rank_semantic_v2/dfdist-twind_scal=(0.05, 0.25).pkl\n",
      "/lemur2/lucas/analyses/recordings/main/syntax_good/EUCLIDIAN_SHUFF/Pancho-240829-comb=False-q=RULESW_ANY_SEQSUP_STROKE-seqsupgood/stroke-M1_l-00_stroke-ss=stxsuperv-fit_twind=(-0.8, 0.3)/contrast=0|chunk_within_rank_semantic_v2\n",
      "Loading this path:  /lemur2/lucas/analyses/recordings/main/syntax_good/EUCLIDIAN_SHUFF/Pancho-240829-comb=False-q=RULESW_ANY_SEQSUP_STROKE-seqsupgood/stroke-M1_l-00_stroke-ss=stxsuperv-fit_twind=(-0.8, 0.3)/contrast=1|stroke_index/dfdist-twind_scal=(0.05, 0.25).pkl\n",
      "/lemur2/lucas/analyses/recordings/main/syntax_good/EUCLIDIAN_SHUFF/Pancho-240829-comb=False-q=RULESW_ANY_SEQSUP_STROKE-seqsupgood/stroke-M1_l-00_stroke-ss=stxsuperv-fit_twind=(-0.8, 0.3)/contrast=1|stroke_index\n",
      "Loading this path:  /lemur2/lucas/analyses/recordings/main/syntax_good/EUCLIDIAN_SHUFF/Pancho-240829-comb=False-q=RULESW_ANY_SEQSUP_STROKE-seqsupgood/stroke-PMv_l-00_stroke-ss=stxsuperv-fit_twind=(-0.8, 0.3)/contrast=0|chunk_within_rank_semantic_v2/dfdist-twind_scal=(0.05, 0.25).pkl\n",
      "/lemur2/lucas/analyses/recordings/main/syntax_good/EUCLIDIAN_SHUFF/Pancho-240829-comb=False-q=RULESW_ANY_SEQSUP_STROKE-seqsupgood/stroke-PMv_l-00_stroke-ss=stxsuperv-fit_twind=(-0.8, 0.3)/contrast=0|chunk_within_rank_semantic_v2\n",
      "Loading this path:  /lemur2/lucas/analyses/recordings/main/syntax_good/EUCLIDIAN_SHUFF/Pancho-240829-comb=False-q=RULESW_ANY_SEQSUP_STROKE-seqsupgood/stroke-PMv_l-00_stroke-ss=stxsuperv-fit_twind=(-0.8, 0.3)/contrast=1|stroke_index/dfdist-twind_scal=(0.05, 0.25).pkl\n",
      "/lemur2/lucas/analyses/recordings/main/syntax_good/EUCLIDIAN_SHUFF/Pancho-240829-comb=False-q=RULESW_ANY_SEQSUP_STROKE-seqsupgood/stroke-PMv_l-00_stroke-ss=stxsuperv-fit_twind=(-0.8, 0.3)/contrast=1|stroke_index\n",
      "Loading this path:  /lemur2/lucas/analyses/recordings/main/syntax_good/EUCLIDIAN_SHUFF/Pancho-240829-comb=False-q=RULESW_ANY_SEQSUP_STROKE-seqsupgood/stroke-PMv_m-00_stroke-ss=stxsuperv-fit_twind=(-0.8, 0.3)/contrast=0|chunk_within_rank_semantic_v2/dfdist-twind_scal=(0.05, 0.25).pkl\n",
      "/lemur2/lucas/analyses/recordings/main/syntax_good/EUCLIDIAN_SHUFF/Pancho-240829-comb=False-q=RULESW_ANY_SEQSUP_STROKE-seqsupgood/stroke-PMv_m-00_stroke-ss=stxsuperv-fit_twind=(-0.8, 0.3)/contrast=0|chunk_within_rank_semantic_v2\n",
      "Loading this path:  /lemur2/lucas/analyses/recordings/main/syntax_good/EUCLIDIAN_SHUFF/Pancho-240829-comb=False-q=RULESW_ANY_SEQSUP_STROKE-seqsupgood/stroke-PMv_m-00_stroke-ss=stxsuperv-fit_twind=(-0.8, 0.3)/contrast=1|stroke_index/dfdist-twind_scal=(0.05, 0.25).pkl\n",
      "/lemur2/lucas/analyses/recordings/main/syntax_good/EUCLIDIAN_SHUFF/Pancho-240829-comb=False-q=RULESW_ANY_SEQSUP_STROKE-seqsupgood/stroke-PMv_m-00_stroke-ss=stxsuperv-fit_twind=(-0.8, 0.3)/contrast=1|stroke_index\n",
      "Loading this path:  /lemur2/lucas/analyses/recordings/main/syntax_good/EUCLIDIAN_SHUFF/Pancho-240829-comb=False-q=RULESW_ANY_SEQSUP_STROKE-seqsupgood/stroke-PMd_p-00_stroke-ss=stxsuperv-fit_twind=(-0.8, 0.3)/contrast=0|chunk_within_rank_semantic_v2/dfdist-twind_scal=(0.05, 0.25).pkl\n",
      "/lemur2/lucas/analyses/recordings/main/syntax_good/EUCLIDIAN_SHUFF/Pancho-240829-comb=False-q=RULESW_ANY_SEQSUP_STROKE-seqsupgood/stroke-PMd_p-00_stroke-ss=stxsuperv-fit_twind=(-0.8, 0.3)/contrast=0|chunk_within_rank_semantic_v2\n",
      "Loading this path:  /lemur2/lucas/analyses/recordings/main/syntax_good/EUCLIDIAN_SHUFF/Pancho-240829-comb=False-q=RULESW_ANY_SEQSUP_STROKE-seqsupgood/stroke-PMd_p-00_stroke-ss=stxsuperv-fit_twind=(-0.8, 0.3)/contrast=1|stroke_index/dfdist-twind_scal=(0.05, 0.25).pkl\n",
      "/lemur2/lucas/analyses/recordings/main/syntax_good/EUCLIDIAN_SHUFF/Pancho-240829-comb=False-q=RULESW_ANY_SEQSUP_STROKE-seqsupgood/stroke-PMd_p-00_stroke-ss=stxsuperv-fit_twind=(-0.8, 0.3)/contrast=1|stroke_index\n",
      "Loading this path:  /lemur2/lucas/analyses/recordings/main/syntax_good/EUCLIDIAN_SHUFF/Pancho-240829-comb=False-q=RULESW_ANY_SEQSUP_STROKE-seqsupgood/stroke-PMd_a-00_stroke-ss=stxsuperv-fit_twind=(-0.8, 0.3)/contrast=0|chunk_within_rank_semantic_v2/dfdist-twind_scal=(0.05, 0.25).pkl\n",
      "/lemur2/lucas/analyses/recordings/main/syntax_good/EUCLIDIAN_SHUFF/Pancho-240829-comb=False-q=RULESW_ANY_SEQSUP_STROKE-seqsupgood/stroke-PMd_a-00_stroke-ss=stxsuperv-fit_twind=(-0.8, 0.3)/contrast=0|chunk_within_rank_semantic_v2\n",
      "Loading this path:  /lemur2/lucas/analyses/recordings/main/syntax_good/EUCLIDIAN_SHUFF/Pancho-240829-comb=False-q=RULESW_ANY_SEQSUP_STROKE-seqsupgood/stroke-PMd_a-00_stroke-ss=stxsuperv-fit_twind=(-0.8, 0.3)/contrast=1|stroke_index/dfdist-twind_scal=(0.05, 0.25).pkl\n",
      "/lemur2/lucas/analyses/recordings/main/syntax_good/EUCLIDIAN_SHUFF/Pancho-240829-comb=False-q=RULESW_ANY_SEQSUP_STROKE-seqsupgood/stroke-PMd_a-00_stroke-ss=stxsuperv-fit_twind=(-0.8, 0.3)/contrast=1|stroke_index\n",
      "Loading this path:  /lemur2/lucas/analyses/recordings/main/syntax_good/EUCLIDIAN_SHUFF/Pancho-240829-comb=False-q=RULESW_ANY_SEQSUP_STROKE-seqsupgood/stroke-dlPFC_p-00_stroke-ss=stxsuperv-fit_twind=(-0.8, 0.3)/contrast=0|chunk_within_rank_semantic_v2/dfdist-twind_scal=(0.05, 0.25).pkl\n",
      "/lemur2/lucas/analyses/recordings/main/syntax_good/EUCLIDIAN_SHUFF/Pancho-240829-comb=False-q=RULESW_ANY_SEQSUP_STROKE-seqsupgood/stroke-dlPFC_p-00_stroke-ss=stxsuperv-fit_twind=(-0.8, 0.3)/contrast=0|chunk_within_rank_semantic_v2\n",
      "Loading this path:  /lemur2/lucas/analyses/recordings/main/syntax_good/EUCLIDIAN_SHUFF/Pancho-240829-comb=False-q=RULESW_ANY_SEQSUP_STROKE-seqsupgood/stroke-dlPFC_p-00_stroke-ss=stxsuperv-fit_twind=(-0.8, 0.3)/contrast=1|stroke_index/dfdist-twind_scal=(0.05, 0.25).pkl\n",
      "/lemur2/lucas/analyses/recordings/main/syntax_good/EUCLIDIAN_SHUFF/Pancho-240829-comb=False-q=RULESW_ANY_SEQSUP_STROKE-seqsupgood/stroke-dlPFC_p-00_stroke-ss=stxsuperv-fit_twind=(-0.8, 0.3)/contrast=1|stroke_index\n",
      "Loading this path:  /lemur2/lucas/analyses/recordings/main/syntax_good/EUCLIDIAN_SHUFF/Pancho-240829-comb=False-q=RULESW_ANY_SEQSUP_STROKE-seqsupgood/stroke-dlPFC_a-00_stroke-ss=stxsuperv-fit_twind=(-0.8, 0.3)/contrast=0|chunk_within_rank_semantic_v2/dfdist-twind_scal=(0.05, 0.25).pkl\n",
      "/lemur2/lucas/analyses/recordings/main/syntax_good/EUCLIDIAN_SHUFF/Pancho-240829-comb=False-q=RULESW_ANY_SEQSUP_STROKE-seqsupgood/stroke-dlPFC_a-00_stroke-ss=stxsuperv-fit_twind=(-0.8, 0.3)/contrast=0|chunk_within_rank_semantic_v2\n",
      "Loading this path:  /lemur2/lucas/analyses/recordings/main/syntax_good/EUCLIDIAN_SHUFF/Pancho-240829-comb=False-q=RULESW_ANY_SEQSUP_STROKE-seqsupgood/stroke-dlPFC_a-00_stroke-ss=stxsuperv-fit_twind=(-0.8, 0.3)/contrast=1|stroke_index/dfdist-twind_scal=(0.05, 0.25).pkl\n",
      "/lemur2/lucas/analyses/recordings/main/syntax_good/EUCLIDIAN_SHUFF/Pancho-240829-comb=False-q=RULESW_ANY_SEQSUP_STROKE-seqsupgood/stroke-dlPFC_a-00_stroke-ss=stxsuperv-fit_twind=(-0.8, 0.3)/contrast=1|stroke_index\n",
      "Loading this path:  /lemur2/lucas/analyses/recordings/main/syntax_good/EUCLIDIAN_SHUFF/Pancho-240829-comb=False-q=RULESW_ANY_SEQSUP_STROKE-seqsupgood/stroke-vlPFC_p-00_stroke-ss=stxsuperv-fit_twind=(-0.8, 0.3)/contrast=0|chunk_within_rank_semantic_v2/dfdist-twind_scal=(0.05, 0.25).pkl\n",
      "/lemur2/lucas/analyses/recordings/main/syntax_good/EUCLIDIAN_SHUFF/Pancho-240829-comb=False-q=RULESW_ANY_SEQSUP_STROKE-seqsupgood/stroke-vlPFC_p-00_stroke-ss=stxsuperv-fit_twind=(-0.8, 0.3)/contrast=0|chunk_within_rank_semantic_v2\n",
      "Loading this path:  /lemur2/lucas/analyses/recordings/main/syntax_good/EUCLIDIAN_SHUFF/Pancho-240829-comb=False-q=RULESW_ANY_SEQSUP_STROKE-seqsupgood/stroke-vlPFC_p-00_stroke-ss=stxsuperv-fit_twind=(-0.8, 0.3)/contrast=1|stroke_index/dfdist-twind_scal=(0.05, 0.25).pkl\n",
      "/lemur2/lucas/analyses/recordings/main/syntax_good/EUCLIDIAN_SHUFF/Pancho-240829-comb=False-q=RULESW_ANY_SEQSUP_STROKE-seqsupgood/stroke-vlPFC_p-00_stroke-ss=stxsuperv-fit_twind=(-0.8, 0.3)/contrast=1|stroke_index\n",
      "Loading this path:  /lemur2/lucas/analyses/recordings/main/syntax_good/EUCLIDIAN_SHUFF/Pancho-240829-comb=False-q=RULESW_ANY_SEQSUP_STROKE-seqsupgood/stroke-vlPFC_a-00_stroke-ss=stxsuperv-fit_twind=(-0.8, 0.3)/contrast=0|chunk_within_rank_semantic_v2/dfdist-twind_scal=(0.05, 0.25).pkl\n",
      "/lemur2/lucas/analyses/recordings/main/syntax_good/EUCLIDIAN_SHUFF/Pancho-240829-comb=False-q=RULESW_ANY_SEQSUP_STROKE-seqsupgood/stroke-vlPFC_a-00_stroke-ss=stxsuperv-fit_twind=(-0.8, 0.3)/contrast=0|chunk_within_rank_semantic_v2\n",
      "Loading this path:  /lemur2/lucas/analyses/recordings/main/syntax_good/EUCLIDIAN_SHUFF/Pancho-240829-comb=False-q=RULESW_ANY_SEQSUP_STROKE-seqsupgood/stroke-vlPFC_a-00_stroke-ss=stxsuperv-fit_twind=(-0.8, 0.3)/contrast=1|stroke_index/dfdist-twind_scal=(0.05, 0.25).pkl\n",
      "/lemur2/lucas/analyses/recordings/main/syntax_good/EUCLIDIAN_SHUFF/Pancho-240829-comb=False-q=RULESW_ANY_SEQSUP_STROKE-seqsupgood/stroke-vlPFC_a-00_stroke-ss=stxsuperv-fit_twind=(-0.8, 0.3)/contrast=1|stroke_index\n",
      "Loading this path:  /lemur2/lucas/analyses/recordings/main/syntax_good/EUCLIDIAN_SHUFF/Pancho-240829-comb=False-q=RULESW_ANY_SEQSUP_STROKE-seqsupgood/stroke-FP_p-00_stroke-ss=stxsuperv-fit_twind=(-0.8, 0.3)/contrast=0|chunk_within_rank_semantic_v2/dfdist-twind_scal=(0.05, 0.25).pkl\n",
      "/lemur2/lucas/analyses/recordings/main/syntax_good/EUCLIDIAN_SHUFF/Pancho-240829-comb=False-q=RULESW_ANY_SEQSUP_STROKE-seqsupgood/stroke-FP_p-00_stroke-ss=stxsuperv-fit_twind=(-0.8, 0.3)/contrast=0|chunk_within_rank_semantic_v2\n",
      "Loading this path:  /lemur2/lucas/analyses/recordings/main/syntax_good/EUCLIDIAN_SHUFF/Pancho-240829-comb=False-q=RULESW_ANY_SEQSUP_STROKE-seqsupgood/stroke-FP_p-00_stroke-ss=stxsuperv-fit_twind=(-0.8, 0.3)/contrast=1|stroke_index/dfdist-twind_scal=(0.05, 0.25).pkl\n",
      "/lemur2/lucas/analyses/recordings/main/syntax_good/EUCLIDIAN_SHUFF/Pancho-240829-comb=False-q=RULESW_ANY_SEQSUP_STROKE-seqsupgood/stroke-FP_p-00_stroke-ss=stxsuperv-fit_twind=(-0.8, 0.3)/contrast=1|stroke_index\n",
      "Loading this path:  /lemur2/lucas/analyses/recordings/main/syntax_good/EUCLIDIAN_SHUFF/Pancho-240829-comb=False-q=RULESW_ANY_SEQSUP_STROKE-seqsupgood/stroke-FP_a-00_stroke-ss=stxsuperv-fit_twind=(-0.8, 0.3)/contrast=0|chunk_within_rank_semantic_v2/dfdist-twind_scal=(0.05, 0.25).pkl\n",
      "/lemur2/lucas/analyses/recordings/main/syntax_good/EUCLIDIAN_SHUFF/Pancho-240829-comb=False-q=RULESW_ANY_SEQSUP_STROKE-seqsupgood/stroke-FP_a-00_stroke-ss=stxsuperv-fit_twind=(-0.8, 0.3)/contrast=0|chunk_within_rank_semantic_v2\n",
      "Loading this path:  /lemur2/lucas/analyses/recordings/main/syntax_good/EUCLIDIAN_SHUFF/Pancho-240829-comb=False-q=RULESW_ANY_SEQSUP_STROKE-seqsupgood/stroke-FP_a-00_stroke-ss=stxsuperv-fit_twind=(-0.8, 0.3)/contrast=1|stroke_index/dfdist-twind_scal=(0.05, 0.25).pkl\n",
      "/lemur2/lucas/analyses/recordings/main/syntax_good/EUCLIDIAN_SHUFF/Pancho-240829-comb=False-q=RULESW_ANY_SEQSUP_STROKE-seqsupgood/stroke-FP_a-00_stroke-ss=stxsuperv-fit_twind=(-0.8, 0.3)/contrast=1|stroke_index\n",
      "Loading this path:  /lemur2/lucas/analyses/recordings/main/syntax_good/EUCLIDIAN_SHUFF/Pancho-240829-comb=False-q=RULESW_ANY_SEQSUP_STROKE-seqsupgood/stroke-SMA_p-00_stroke-ss=stxsuperv-fit_twind=(-0.8, 0.3)/contrast=0|chunk_within_rank_semantic_v2/dfdist-twind_scal=(0.05, 0.25).pkl\n",
      "/lemur2/lucas/analyses/recordings/main/syntax_good/EUCLIDIAN_SHUFF/Pancho-240829-comb=False-q=RULESW_ANY_SEQSUP_STROKE-seqsupgood/stroke-SMA_p-00_stroke-ss=stxsuperv-fit_twind=(-0.8, 0.3)/contrast=0|chunk_within_rank_semantic_v2\n",
      "Loading this path:  /lemur2/lucas/analyses/recordings/main/syntax_good/EUCLIDIAN_SHUFF/Pancho-240829-comb=False-q=RULESW_ANY_SEQSUP_STROKE-seqsupgood/stroke-SMA_p-00_stroke-ss=stxsuperv-fit_twind=(-0.8, 0.3)/contrast=1|stroke_index/dfdist-twind_scal=(0.05, 0.25).pkl\n",
      "/lemur2/lucas/analyses/recordings/main/syntax_good/EUCLIDIAN_SHUFF/Pancho-240829-comb=False-q=RULESW_ANY_SEQSUP_STROKE-seqsupgood/stroke-SMA_p-00_stroke-ss=stxsuperv-fit_twind=(-0.8, 0.3)/contrast=1|stroke_index\n",
      "Loading this path:  /lemur2/lucas/analyses/recordings/main/syntax_good/EUCLIDIAN_SHUFF/Pancho-240829-comb=False-q=RULESW_ANY_SEQSUP_STROKE-seqsupgood/stroke-SMA_a-00_stroke-ss=stxsuperv-fit_twind=(-0.8, 0.3)/contrast=0|chunk_within_rank_semantic_v2/dfdist-twind_scal=(0.05, 0.25).pkl\n",
      "/lemur2/lucas/analyses/recordings/main/syntax_good/EUCLIDIAN_SHUFF/Pancho-240829-comb=False-q=RULESW_ANY_SEQSUP_STROKE-seqsupgood/stroke-SMA_a-00_stroke-ss=stxsuperv-fit_twind=(-0.8, 0.3)/contrast=0|chunk_within_rank_semantic_v2\n",
      "Loading this path:  /lemur2/lucas/analyses/recordings/main/syntax_good/EUCLIDIAN_SHUFF/Pancho-240829-comb=False-q=RULESW_ANY_SEQSUP_STROKE-seqsupgood/stroke-SMA_a-00_stroke-ss=stxsuperv-fit_twind=(-0.8, 0.3)/contrast=1|stroke_index/dfdist-twind_scal=(0.05, 0.25).pkl\n",
      "/lemur2/lucas/analyses/recordings/main/syntax_good/EUCLIDIAN_SHUFF/Pancho-240829-comb=False-q=RULESW_ANY_SEQSUP_STROKE-seqsupgood/stroke-SMA_a-00_stroke-ss=stxsuperv-fit_twind=(-0.8, 0.3)/contrast=1|stroke_index\n",
      "Loading this path:  /lemur2/lucas/analyses/recordings/main/syntax_good/EUCLIDIAN_SHUFF/Pancho-240829-comb=False-q=RULESW_ANY_SEQSUP_STROKE-seqsupgood/stroke-preSMA_p-00_stroke-ss=stxsuperv-fit_twind=(-0.8, 0.3)/contrast=0|chunk_within_rank_semantic_v2/dfdist-twind_scal=(0.05, 0.25).pkl\n",
      "/lemur2/lucas/analyses/recordings/main/syntax_good/EUCLIDIAN_SHUFF/Pancho-240829-comb=False-q=RULESW_ANY_SEQSUP_STROKE-seqsupgood/stroke-preSMA_p-00_stroke-ss=stxsuperv-fit_twind=(-0.8, 0.3)/contrast=0|chunk_within_rank_semantic_v2\n",
      "Loading this path:  /lemur2/lucas/analyses/recordings/main/syntax_good/EUCLIDIAN_SHUFF/Pancho-240829-comb=False-q=RULESW_ANY_SEQSUP_STROKE-seqsupgood/stroke-preSMA_p-00_stroke-ss=stxsuperv-fit_twind=(-0.8, 0.3)/contrast=1|stroke_index/dfdist-twind_scal=(0.05, 0.25).pkl\n",
      "/lemur2/lucas/analyses/recordings/main/syntax_good/EUCLIDIAN_SHUFF/Pancho-240829-comb=False-q=RULESW_ANY_SEQSUP_STROKE-seqsupgood/stroke-preSMA_p-00_stroke-ss=stxsuperv-fit_twind=(-0.8, 0.3)/contrast=1|stroke_index\n",
      "Loading this path:  /lemur2/lucas/analyses/recordings/main/syntax_good/EUCLIDIAN_SHUFF/Pancho-240829-comb=False-q=RULESW_ANY_SEQSUP_STROKE-seqsupgood/stroke-preSMA_a-00_stroke-ss=stxsuperv-fit_twind=(-0.8, 0.3)/contrast=0|chunk_within_rank_semantic_v2/dfdist-twind_scal=(0.05, 0.25).pkl\n",
      "/lemur2/lucas/analyses/recordings/main/syntax_good/EUCLIDIAN_SHUFF/Pancho-240829-comb=False-q=RULESW_ANY_SEQSUP_STROKE-seqsupgood/stroke-preSMA_a-00_stroke-ss=stxsuperv-fit_twind=(-0.8, 0.3)/contrast=0|chunk_within_rank_semantic_v2\n",
      "Loading this path:  /lemur2/lucas/analyses/recordings/main/syntax_good/EUCLIDIAN_SHUFF/Pancho-240829-comb=False-q=RULESW_ANY_SEQSUP_STROKE-seqsupgood/stroke-preSMA_a-00_stroke-ss=stxsuperv-fit_twind=(-0.8, 0.3)/contrast=1|stroke_index/dfdist-twind_scal=(0.05, 0.25).pkl\n",
      "/lemur2/lucas/analyses/recordings/main/syntax_good/EUCLIDIAN_SHUFF/Pancho-240829-comb=False-q=RULESW_ANY_SEQSUP_STROKE-seqsupgood/stroke-preSMA_a-00_stroke-ss=stxsuperv-fit_twind=(-0.8, 0.3)/contrast=1|stroke_index\n",
      "Loading this path:  /lemur2/lucas/analyses/recordings/main/syntax_good/EUCLIDIAN_SHUFF/Pancho-250324-comb=False-q=RULESW_ANY_SEQSUP_STROKE-seqsupgood/stroke-M1_m-00_stroke-ss=stxsuperv-fit_twind=(-0.8, 0.3)/contrast=0|chunk_within_rank_semantic_v2/dfdist-twind_scal=(0.05, 0.25).pkl\n",
      "/lemur2/lucas/analyses/recordings/main/syntax_good/EUCLIDIAN_SHUFF/Pancho-250324-comb=False-q=RULESW_ANY_SEQSUP_STROKE-seqsupgood/stroke-M1_m-00_stroke-ss=stxsuperv-fit_twind=(-0.8, 0.3)/contrast=0|chunk_within_rank_semantic_v2\n",
      "Loading this path:  /lemur2/lucas/analyses/recordings/main/syntax_good/EUCLIDIAN_SHUFF/Pancho-250324-comb=False-q=RULESW_ANY_SEQSUP_STROKE-seqsupgood/stroke-M1_m-00_stroke-ss=stxsuperv-fit_twind=(-0.8, 0.3)/contrast=1|stroke_index/dfdist-twind_scal=(0.05, 0.25).pkl\n",
      "/lemur2/lucas/analyses/recordings/main/syntax_good/EUCLIDIAN_SHUFF/Pancho-250324-comb=False-q=RULESW_ANY_SEQSUP_STROKE-seqsupgood/stroke-M1_m-00_stroke-ss=stxsuperv-fit_twind=(-0.8, 0.3)/contrast=1|stroke_index\n",
      "Loading this path:  /lemur2/lucas/analyses/recordings/main/syntax_good/EUCLIDIAN_SHUFF/Pancho-250324-comb=False-q=RULESW_ANY_SEQSUP_STROKE-seqsupgood/stroke-M1_l-00_stroke-ss=stxsuperv-fit_twind=(-0.8, 0.3)/contrast=0|chunk_within_rank_semantic_v2/dfdist-twind_scal=(0.05, 0.25).pkl\n",
      "/lemur2/lucas/analyses/recordings/main/syntax_good/EUCLIDIAN_SHUFF/Pancho-250324-comb=False-q=RULESW_ANY_SEQSUP_STROKE-seqsupgood/stroke-M1_l-00_stroke-ss=stxsuperv-fit_twind=(-0.8, 0.3)/contrast=0|chunk_within_rank_semantic_v2\n",
      "Loading this path:  /lemur2/lucas/analyses/recordings/main/syntax_good/EUCLIDIAN_SHUFF/Pancho-250324-comb=False-q=RULESW_ANY_SEQSUP_STROKE-seqsupgood/stroke-M1_l-00_stroke-ss=stxsuperv-fit_twind=(-0.8, 0.3)/contrast=1|stroke_index/dfdist-twind_scal=(0.05, 0.25).pkl\n",
      "/lemur2/lucas/analyses/recordings/main/syntax_good/EUCLIDIAN_SHUFF/Pancho-250324-comb=False-q=RULESW_ANY_SEQSUP_STROKE-seqsupgood/stroke-M1_l-00_stroke-ss=stxsuperv-fit_twind=(-0.8, 0.3)/contrast=1|stroke_index\n",
      "Loading this path:  /lemur2/lucas/analyses/recordings/main/syntax_good/EUCLIDIAN_SHUFF/Pancho-250324-comb=False-q=RULESW_ANY_SEQSUP_STROKE-seqsupgood/stroke-PMv_l-00_stroke-ss=stxsuperv-fit_twind=(-0.8, 0.3)/contrast=0|chunk_within_rank_semantic_v2/dfdist-twind_scal=(0.05, 0.25).pkl\n",
      "/lemur2/lucas/analyses/recordings/main/syntax_good/EUCLIDIAN_SHUFF/Pancho-250324-comb=False-q=RULESW_ANY_SEQSUP_STROKE-seqsupgood/stroke-PMv_l-00_stroke-ss=stxsuperv-fit_twind=(-0.8, 0.3)/contrast=0|chunk_within_rank_semantic_v2\n",
      "Loading this path:  /lemur2/lucas/analyses/recordings/main/syntax_good/EUCLIDIAN_SHUFF/Pancho-250324-comb=False-q=RULESW_ANY_SEQSUP_STROKE-seqsupgood/stroke-PMv_l-00_stroke-ss=stxsuperv-fit_twind=(-0.8, 0.3)/contrast=1|stroke_index/dfdist-twind_scal=(0.05, 0.25).pkl\n",
      "/lemur2/lucas/analyses/recordings/main/syntax_good/EUCLIDIAN_SHUFF/Pancho-250324-comb=False-q=RULESW_ANY_SEQSUP_STROKE-seqsupgood/stroke-PMv_l-00_stroke-ss=stxsuperv-fit_twind=(-0.8, 0.3)/contrast=1|stroke_index\n",
      "Loading this path:  /lemur2/lucas/analyses/recordings/main/syntax_good/EUCLIDIAN_SHUFF/Pancho-250324-comb=False-q=RULESW_ANY_SEQSUP_STROKE-seqsupgood/stroke-PMv_m-00_stroke-ss=stxsuperv-fit_twind=(-0.8, 0.3)/contrast=0|chunk_within_rank_semantic_v2/dfdist-twind_scal=(0.05, 0.25).pkl\n",
      "/lemur2/lucas/analyses/recordings/main/syntax_good/EUCLIDIAN_SHUFF/Pancho-250324-comb=False-q=RULESW_ANY_SEQSUP_STROKE-seqsupgood/stroke-PMv_m-00_stroke-ss=stxsuperv-fit_twind=(-0.8, 0.3)/contrast=0|chunk_within_rank_semantic_v2\n",
      "Loading this path:  /lemur2/lucas/analyses/recordings/main/syntax_good/EUCLIDIAN_SHUFF/Pancho-250324-comb=False-q=RULESW_ANY_SEQSUP_STROKE-seqsupgood/stroke-PMv_m-00_stroke-ss=stxsuperv-fit_twind=(-0.8, 0.3)/contrast=1|stroke_index/dfdist-twind_scal=(0.05, 0.25).pkl\n",
      "/lemur2/lucas/analyses/recordings/main/syntax_good/EUCLIDIAN_SHUFF/Pancho-250324-comb=False-q=RULESW_ANY_SEQSUP_STROKE-seqsupgood/stroke-PMv_m-00_stroke-ss=stxsuperv-fit_twind=(-0.8, 0.3)/contrast=1|stroke_index\n",
      "Loading this path:  /lemur2/lucas/analyses/recordings/main/syntax_good/EUCLIDIAN_SHUFF/Pancho-250324-comb=False-q=RULESW_ANY_SEQSUP_STROKE-seqsupgood/stroke-PMd_p-00_stroke-ss=stxsuperv-fit_twind=(-0.8, 0.3)/contrast=0|chunk_within_rank_semantic_v2/dfdist-twind_scal=(0.05, 0.25).pkl\n",
      "/lemur2/lucas/analyses/recordings/main/syntax_good/EUCLIDIAN_SHUFF/Pancho-250324-comb=False-q=RULESW_ANY_SEQSUP_STROKE-seqsupgood/stroke-PMd_p-00_stroke-ss=stxsuperv-fit_twind=(-0.8, 0.3)/contrast=0|chunk_within_rank_semantic_v2\n",
      "Loading this path:  /lemur2/lucas/analyses/recordings/main/syntax_good/EUCLIDIAN_SHUFF/Pancho-250324-comb=False-q=RULESW_ANY_SEQSUP_STROKE-seqsupgood/stroke-PMd_p-00_stroke-ss=stxsuperv-fit_twind=(-0.8, 0.3)/contrast=1|stroke_index/dfdist-twind_scal=(0.05, 0.25).pkl\n",
      "/lemur2/lucas/analyses/recordings/main/syntax_good/EUCLIDIAN_SHUFF/Pancho-250324-comb=False-q=RULESW_ANY_SEQSUP_STROKE-seqsupgood/stroke-PMd_p-00_stroke-ss=stxsuperv-fit_twind=(-0.8, 0.3)/contrast=1|stroke_index\n",
      "Loading this path:  /lemur2/lucas/analyses/recordings/main/syntax_good/EUCLIDIAN_SHUFF/Pancho-250324-comb=False-q=RULESW_ANY_SEQSUP_STROKE-seqsupgood/stroke-PMd_a-00_stroke-ss=stxsuperv-fit_twind=(-0.8, 0.3)/contrast=0|chunk_within_rank_semantic_v2/dfdist-twind_scal=(0.05, 0.25).pkl\n",
      "/lemur2/lucas/analyses/recordings/main/syntax_good/EUCLIDIAN_SHUFF/Pancho-250324-comb=False-q=RULESW_ANY_SEQSUP_STROKE-seqsupgood/stroke-PMd_a-00_stroke-ss=stxsuperv-fit_twind=(-0.8, 0.3)/contrast=0|chunk_within_rank_semantic_v2\n",
      "Loading this path:  /lemur2/lucas/analyses/recordings/main/syntax_good/EUCLIDIAN_SHUFF/Pancho-250324-comb=False-q=RULESW_ANY_SEQSUP_STROKE-seqsupgood/stroke-PMd_a-00_stroke-ss=stxsuperv-fit_twind=(-0.8, 0.3)/contrast=1|stroke_index/dfdist-twind_scal=(0.05, 0.25).pkl\n",
      "/lemur2/lucas/analyses/recordings/main/syntax_good/EUCLIDIAN_SHUFF/Pancho-250324-comb=False-q=RULESW_ANY_SEQSUP_STROKE-seqsupgood/stroke-PMd_a-00_stroke-ss=stxsuperv-fit_twind=(-0.8, 0.3)/contrast=1|stroke_index\n",
      "Loading this path:  /lemur2/lucas/analyses/recordings/main/syntax_good/EUCLIDIAN_SHUFF/Pancho-250324-comb=False-q=RULESW_ANY_SEQSUP_STROKE-seqsupgood/stroke-dlPFC_p-00_stroke-ss=stxsuperv-fit_twind=(-0.8, 0.3)/contrast=0|chunk_within_rank_semantic_v2/dfdist-twind_scal=(0.05, 0.25).pkl\n",
      "/lemur2/lucas/analyses/recordings/main/syntax_good/EUCLIDIAN_SHUFF/Pancho-250324-comb=False-q=RULESW_ANY_SEQSUP_STROKE-seqsupgood/stroke-dlPFC_p-00_stroke-ss=stxsuperv-fit_twind=(-0.8, 0.3)/contrast=0|chunk_within_rank_semantic_v2\n",
      "Loading this path:  /lemur2/lucas/analyses/recordings/main/syntax_good/EUCLIDIAN_SHUFF/Pancho-250324-comb=False-q=RULESW_ANY_SEQSUP_STROKE-seqsupgood/stroke-dlPFC_p-00_stroke-ss=stxsuperv-fit_twind=(-0.8, 0.3)/contrast=1|stroke_index/dfdist-twind_scal=(0.05, 0.25).pkl\n",
      "/lemur2/lucas/analyses/recordings/main/syntax_good/EUCLIDIAN_SHUFF/Pancho-250324-comb=False-q=RULESW_ANY_SEQSUP_STROKE-seqsupgood/stroke-dlPFC_p-00_stroke-ss=stxsuperv-fit_twind=(-0.8, 0.3)/contrast=1|stroke_index\n",
      "Loading this path:  /lemur2/lucas/analyses/recordings/main/syntax_good/EUCLIDIAN_SHUFF/Pancho-250324-comb=False-q=RULESW_ANY_SEQSUP_STROKE-seqsupgood/stroke-dlPFC_a-00_stroke-ss=stxsuperv-fit_twind=(-0.8, 0.3)/contrast=0|chunk_within_rank_semantic_v2/dfdist-twind_scal=(0.05, 0.25).pkl\n",
      "/lemur2/lucas/analyses/recordings/main/syntax_good/EUCLIDIAN_SHUFF/Pancho-250324-comb=False-q=RULESW_ANY_SEQSUP_STROKE-seqsupgood/stroke-dlPFC_a-00_stroke-ss=stxsuperv-fit_twind=(-0.8, 0.3)/contrast=0|chunk_within_rank_semantic_v2\n",
      "Loading this path:  /lemur2/lucas/analyses/recordings/main/syntax_good/EUCLIDIAN_SHUFF/Pancho-250324-comb=False-q=RULESW_ANY_SEQSUP_STROKE-seqsupgood/stroke-dlPFC_a-00_stroke-ss=stxsuperv-fit_twind=(-0.8, 0.3)/contrast=1|stroke_index/dfdist-twind_scal=(0.05, 0.25).pkl\n",
      "/lemur2/lucas/analyses/recordings/main/syntax_good/EUCLIDIAN_SHUFF/Pancho-250324-comb=False-q=RULESW_ANY_SEQSUP_STROKE-seqsupgood/stroke-dlPFC_a-00_stroke-ss=stxsuperv-fit_twind=(-0.8, 0.3)/contrast=1|stroke_index\n",
      "Loading this path:  /lemur2/lucas/analyses/recordings/main/syntax_good/EUCLIDIAN_SHUFF/Pancho-250324-comb=False-q=RULESW_ANY_SEQSUP_STROKE-seqsupgood/stroke-vlPFC_p-00_stroke-ss=stxsuperv-fit_twind=(-0.8, 0.3)/contrast=0|chunk_within_rank_semantic_v2/dfdist-twind_scal=(0.05, 0.25).pkl\n",
      "/lemur2/lucas/analyses/recordings/main/syntax_good/EUCLIDIAN_SHUFF/Pancho-250324-comb=False-q=RULESW_ANY_SEQSUP_STROKE-seqsupgood/stroke-vlPFC_p-00_stroke-ss=stxsuperv-fit_twind=(-0.8, 0.3)/contrast=0|chunk_within_rank_semantic_v2\n",
      "Loading this path:  /lemur2/lucas/analyses/recordings/main/syntax_good/EUCLIDIAN_SHUFF/Pancho-250324-comb=False-q=RULESW_ANY_SEQSUP_STROKE-seqsupgood/stroke-vlPFC_p-00_stroke-ss=stxsuperv-fit_twind=(-0.8, 0.3)/contrast=1|stroke_index/dfdist-twind_scal=(0.05, 0.25).pkl\n",
      "/lemur2/lucas/analyses/recordings/main/syntax_good/EUCLIDIAN_SHUFF/Pancho-250324-comb=False-q=RULESW_ANY_SEQSUP_STROKE-seqsupgood/stroke-vlPFC_p-00_stroke-ss=stxsuperv-fit_twind=(-0.8, 0.3)/contrast=1|stroke_index\n",
      "Loading this path:  /lemur2/lucas/analyses/recordings/main/syntax_good/EUCLIDIAN_SHUFF/Pancho-250324-comb=False-q=RULESW_ANY_SEQSUP_STROKE-seqsupgood/stroke-vlPFC_a-00_stroke-ss=stxsuperv-fit_twind=(-0.8, 0.3)/contrast=0|chunk_within_rank_semantic_v2/dfdist-twind_scal=(0.05, 0.25).pkl\n",
      "/lemur2/lucas/analyses/recordings/main/syntax_good/EUCLIDIAN_SHUFF/Pancho-250324-comb=False-q=RULESW_ANY_SEQSUP_STROKE-seqsupgood/stroke-vlPFC_a-00_stroke-ss=stxsuperv-fit_twind=(-0.8, 0.3)/contrast=0|chunk_within_rank_semantic_v2\n",
      "Loading this path:  /lemur2/lucas/analyses/recordings/main/syntax_good/EUCLIDIAN_SHUFF/Pancho-250324-comb=False-q=RULESW_ANY_SEQSUP_STROKE-seqsupgood/stroke-vlPFC_a-00_stroke-ss=stxsuperv-fit_twind=(-0.8, 0.3)/contrast=1|stroke_index/dfdist-twind_scal=(0.05, 0.25).pkl\n",
      "/lemur2/lucas/analyses/recordings/main/syntax_good/EUCLIDIAN_SHUFF/Pancho-250324-comb=False-q=RULESW_ANY_SEQSUP_STROKE-seqsupgood/stroke-vlPFC_a-00_stroke-ss=stxsuperv-fit_twind=(-0.8, 0.3)/contrast=1|stroke_index\n",
      "Loading this path:  /lemur2/lucas/analyses/recordings/main/syntax_good/EUCLIDIAN_SHUFF/Pancho-250324-comb=False-q=RULESW_ANY_SEQSUP_STROKE-seqsupgood/stroke-FP_p-00_stroke-ss=stxsuperv-fit_twind=(-0.8, 0.3)/contrast=0|chunk_within_rank_semantic_v2/dfdist-twind_scal=(0.05, 0.25).pkl\n",
      "/lemur2/lucas/analyses/recordings/main/syntax_good/EUCLIDIAN_SHUFF/Pancho-250324-comb=False-q=RULESW_ANY_SEQSUP_STROKE-seqsupgood/stroke-FP_p-00_stroke-ss=stxsuperv-fit_twind=(-0.8, 0.3)/contrast=0|chunk_within_rank_semantic_v2\n",
      "Loading this path:  /lemur2/lucas/analyses/recordings/main/syntax_good/EUCLIDIAN_SHUFF/Pancho-250324-comb=False-q=RULESW_ANY_SEQSUP_STROKE-seqsupgood/stroke-FP_p-00_stroke-ss=stxsuperv-fit_twind=(-0.8, 0.3)/contrast=1|stroke_index/dfdist-twind_scal=(0.05, 0.25).pkl\n",
      "/lemur2/lucas/analyses/recordings/main/syntax_good/EUCLIDIAN_SHUFF/Pancho-250324-comb=False-q=RULESW_ANY_SEQSUP_STROKE-seqsupgood/stroke-FP_p-00_stroke-ss=stxsuperv-fit_twind=(-0.8, 0.3)/contrast=1|stroke_index\n",
      "Loading this path:  /lemur2/lucas/analyses/recordings/main/syntax_good/EUCLIDIAN_SHUFF/Pancho-250324-comb=False-q=RULESW_ANY_SEQSUP_STROKE-seqsupgood/stroke-FP_a-00_stroke-ss=stxsuperv-fit_twind=(-0.8, 0.3)/contrast=0|chunk_within_rank_semantic_v2/dfdist-twind_scal=(0.05, 0.25).pkl\n",
      "/lemur2/lucas/analyses/recordings/main/syntax_good/EUCLIDIAN_SHUFF/Pancho-250324-comb=False-q=RULESW_ANY_SEQSUP_STROKE-seqsupgood/stroke-FP_a-00_stroke-ss=stxsuperv-fit_twind=(-0.8, 0.3)/contrast=0|chunk_within_rank_semantic_v2\n",
      "Loading this path:  /lemur2/lucas/analyses/recordings/main/syntax_good/EUCLIDIAN_SHUFF/Pancho-250324-comb=False-q=RULESW_ANY_SEQSUP_STROKE-seqsupgood/stroke-FP_a-00_stroke-ss=stxsuperv-fit_twind=(-0.8, 0.3)/contrast=1|stroke_index/dfdist-twind_scal=(0.05, 0.25).pkl\n",
      "/lemur2/lucas/analyses/recordings/main/syntax_good/EUCLIDIAN_SHUFF/Pancho-250324-comb=False-q=RULESW_ANY_SEQSUP_STROKE-seqsupgood/stroke-FP_a-00_stroke-ss=stxsuperv-fit_twind=(-0.8, 0.3)/contrast=1|stroke_index\n",
      "Loading this path:  /lemur2/lucas/analyses/recordings/main/syntax_good/EUCLIDIAN_SHUFF/Pancho-250324-comb=False-q=RULESW_ANY_SEQSUP_STROKE-seqsupgood/stroke-SMA_p-00_stroke-ss=stxsuperv-fit_twind=(-0.8, 0.3)/contrast=0|chunk_within_rank_semantic_v2/dfdist-twind_scal=(0.05, 0.25).pkl\n",
      "/lemur2/lucas/analyses/recordings/main/syntax_good/EUCLIDIAN_SHUFF/Pancho-250324-comb=False-q=RULESW_ANY_SEQSUP_STROKE-seqsupgood/stroke-SMA_p-00_stroke-ss=stxsuperv-fit_twind=(-0.8, 0.3)/contrast=0|chunk_within_rank_semantic_v2\n",
      "Loading this path:  /lemur2/lucas/analyses/recordings/main/syntax_good/EUCLIDIAN_SHUFF/Pancho-250324-comb=False-q=RULESW_ANY_SEQSUP_STROKE-seqsupgood/stroke-SMA_p-00_stroke-ss=stxsuperv-fit_twind=(-0.8, 0.3)/contrast=1|stroke_index/dfdist-twind_scal=(0.05, 0.25).pkl\n",
      "/lemur2/lucas/analyses/recordings/main/syntax_good/EUCLIDIAN_SHUFF/Pancho-250324-comb=False-q=RULESW_ANY_SEQSUP_STROKE-seqsupgood/stroke-SMA_p-00_stroke-ss=stxsuperv-fit_twind=(-0.8, 0.3)/contrast=1|stroke_index\n",
      "Loading this path:  /lemur2/lucas/analyses/recordings/main/syntax_good/EUCLIDIAN_SHUFF/Pancho-250324-comb=False-q=RULESW_ANY_SEQSUP_STROKE-seqsupgood/stroke-SMA_a-00_stroke-ss=stxsuperv-fit_twind=(-0.8, 0.3)/contrast=0|chunk_within_rank_semantic_v2/dfdist-twind_scal=(0.05, 0.25).pkl\n",
      "/lemur2/lucas/analyses/recordings/main/syntax_good/EUCLIDIAN_SHUFF/Pancho-250324-comb=False-q=RULESW_ANY_SEQSUP_STROKE-seqsupgood/stroke-SMA_a-00_stroke-ss=stxsuperv-fit_twind=(-0.8, 0.3)/contrast=0|chunk_within_rank_semantic_v2\n",
      "Loading this path:  /lemur2/lucas/analyses/recordings/main/syntax_good/EUCLIDIAN_SHUFF/Pancho-250324-comb=False-q=RULESW_ANY_SEQSUP_STROKE-seqsupgood/stroke-SMA_a-00_stroke-ss=stxsuperv-fit_twind=(-0.8, 0.3)/contrast=1|stroke_index/dfdist-twind_scal=(0.05, 0.25).pkl\n",
      "/lemur2/lucas/analyses/recordings/main/syntax_good/EUCLIDIAN_SHUFF/Pancho-250324-comb=False-q=RULESW_ANY_SEQSUP_STROKE-seqsupgood/stroke-SMA_a-00_stroke-ss=stxsuperv-fit_twind=(-0.8, 0.3)/contrast=1|stroke_index\n",
      "Loading this path:  /lemur2/lucas/analyses/recordings/main/syntax_good/EUCLIDIAN_SHUFF/Pancho-250324-comb=False-q=RULESW_ANY_SEQSUP_STROKE-seqsupgood/stroke-preSMA_p-00_stroke-ss=stxsuperv-fit_twind=(-0.8, 0.3)/contrast=0|chunk_within_rank_semantic_v2/dfdist-twind_scal=(0.05, 0.25).pkl\n",
      "/lemur2/lucas/analyses/recordings/main/syntax_good/EUCLIDIAN_SHUFF/Pancho-250324-comb=False-q=RULESW_ANY_SEQSUP_STROKE-seqsupgood/stroke-preSMA_p-00_stroke-ss=stxsuperv-fit_twind=(-0.8, 0.3)/contrast=0|chunk_within_rank_semantic_v2\n",
      "Loading this path:  /lemur2/lucas/analyses/recordings/main/syntax_good/EUCLIDIAN_SHUFF/Pancho-250324-comb=False-q=RULESW_ANY_SEQSUP_STROKE-seqsupgood/stroke-preSMA_p-00_stroke-ss=stxsuperv-fit_twind=(-0.8, 0.3)/contrast=1|stroke_index/dfdist-twind_scal=(0.05, 0.25).pkl\n",
      "/lemur2/lucas/analyses/recordings/main/syntax_good/EUCLIDIAN_SHUFF/Pancho-250324-comb=False-q=RULESW_ANY_SEQSUP_STROKE-seqsupgood/stroke-preSMA_p-00_stroke-ss=stxsuperv-fit_twind=(-0.8, 0.3)/contrast=1|stroke_index\n",
      "Loading this path:  /lemur2/lucas/analyses/recordings/main/syntax_good/EUCLIDIAN_SHUFF/Pancho-250324-comb=False-q=RULESW_ANY_SEQSUP_STROKE-seqsupgood/stroke-preSMA_a-00_stroke-ss=stxsuperv-fit_twind=(-0.8, 0.3)/contrast=0|chunk_within_rank_semantic_v2/dfdist-twind_scal=(0.05, 0.25).pkl\n",
      "/lemur2/lucas/analyses/recordings/main/syntax_good/EUCLIDIAN_SHUFF/Pancho-250324-comb=False-q=RULESW_ANY_SEQSUP_STROKE-seqsupgood/stroke-preSMA_a-00_stroke-ss=stxsuperv-fit_twind=(-0.8, 0.3)/contrast=0|chunk_within_rank_semantic_v2\n",
      "Loading this path:  /lemur2/lucas/analyses/recordings/main/syntax_good/EUCLIDIAN_SHUFF/Pancho-250324-comb=False-q=RULESW_ANY_SEQSUP_STROKE-seqsupgood/stroke-preSMA_a-00_stroke-ss=stxsuperv-fit_twind=(-0.8, 0.3)/contrast=1|stroke_index/dfdist-twind_scal=(0.05, 0.25).pkl\n",
      "/lemur2/lucas/analyses/recordings/main/syntax_good/EUCLIDIAN_SHUFF/Pancho-250324-comb=False-q=RULESW_ANY_SEQSUP_STROKE-seqsupgood/stroke-preSMA_a-00_stroke-ss=stxsuperv-fit_twind=(-0.8, 0.3)/contrast=1|stroke_index\n"
     ]
    }
   ],
   "source": [
    "from neuralmonkey.scripts.analy_syntax_good_eucl_state_MULT import mult_plot_all_wrapper\n",
    "DFDIST = mult_plot_all_wrapper(just_return_data=True)"
   ]
  },
  {
   "cell_type": "code",
   "execution_count": 5,
   "id": "ca3ecda7",
   "metadata": {},
   "outputs": [
    {
     "data": {
      "text/plain": [
       "date\n",
       "230920    5952\n",
       "230921    5696\n",
       "230923    4832\n",
       "231019    3360\n",
       "240828    2912\n",
       "250324    2752\n",
       "240829    2112\n",
       "Name: count, dtype: int64"
      ]
     },
     "execution_count": 5,
     "metadata": {},
     "output_type": "execute_result"
    }
   ],
   "source": [
    "DFDIST[\"date\"].value_counts()"
   ]
  },
  {
   "cell_type": "code",
   "execution_count": 17,
   "id": "2c4141cf",
   "metadata": {},
   "outputs": [],
   "source": [
    "DFDIST = DFDIST[DFDIST[\"date\"]!=250324].reset_index(drop=True)"
   ]
  },
  {
   "cell_type": "code",
   "execution_count": 18,
   "id": "8abc155d",
   "metadata": {},
   "outputs": [
    {
     "ename": "NameError",
     "evalue": "name 'SAVEDIR' is not defined",
     "output_type": "error",
     "traceback": [
      "\u001b[0;31m---------------------------------------------------------------------------\u001b[0m",
      "\u001b[0;31mNameError\u001b[0m                                 Traceback (most recent call last)",
      "Cell \u001b[0;32mIn[18], line 3\u001b[0m\n\u001b[1;32m      1\u001b[0m \u001b[38;5;28;01mfrom\u001b[39;00m \u001b[38;5;21;01mneuralmonkey\u001b[39;00m\u001b[38;5;21;01m.\u001b[39;00m\u001b[38;5;21;01mscripts\u001b[39;00m\u001b[38;5;21;01m.\u001b[39;00m\u001b[38;5;21;01manaly_syntax_good_eucl_state\u001b[39;00m \u001b[38;5;28;01mimport\u001b[39;00m mult_plot_grammar_vs_seqsup_new\n\u001b[1;32m      2\u001b[0m contrast_version \u001b[38;5;241m=\u001b[39m \u001b[38;5;124m\"\u001b[39m\u001b[38;5;124mshape_index\u001b[39m\u001b[38;5;124m\"\u001b[39m\n\u001b[0;32m----> 3\u001b[0m mult_plot_grammar_vs_seqsup_new(DFDIST, \u001b[43mSAVEDIR\u001b[49m, contrast_version)\n",
      "\u001b[0;31mNameError\u001b[0m: name 'SAVEDIR' is not defined"
     ]
    }
   ],
   "source": [
    "from neuralmonkey.scripts.analy_syntax_good_eucl_state import mult_plot_grammar_vs_seqsup_new\n",
    "contrast_version = \"shape_index\"\n",
    "mult_plot_grammar_vs_seqsup_new(DFDIST, SAVEDIR, contrast_version)"
   ]
  },
  {
   "cell_type": "markdown",
   "id": "8ed88a20",
   "metadata": {},
   "source": [
    "# Single trial state space"
   ]
  },
  {
   "cell_type": "code",
   "execution_count": null,
   "id": "01bb76d7",
   "metadata": {},
   "outputs": [],
   "source": [
    "import pickle\n",
    "path = \"/lemur2/lucas/neural_preprocess/PA_trialpop/Diego-230615/PA.pkl\"\n",
    "with open(path, \"rb\") as f:\n",
    "    PA = pickle.load(f)"
   ]
  },
  {
   "cell_type": "code",
   "execution_count": null,
   "id": "2fcd8472",
   "metadata": {},
   "outputs": [],
   "source": [
    "PA.Times"
   ]
  },
  {
   "cell_type": "markdown",
   "id": "313638f3",
   "metadata": {},
   "source": [
    "# Targeted PCA (good)"
   ]
  },
  {
   "cell_type": "code",
   "execution_count": null,
   "id": "867aca68",
   "metadata": {},
   "outputs": [],
   "source": [
    "# shape vs. chunk_rank_within_shape"
   ]
  },
  {
   "cell_type": "code",
   "execution_count": null,
   "id": "de10d174",
   "metadata": {},
   "outputs": [],
   "source": [
    "DFallpa"
   ]
  },
  {
   "cell_type": "code",
   "execution_count": null,
   "id": "92e06bb6",
   "metadata": {},
   "outputs": [],
   "source": [
    "from neuralmonkey.scripts.analy_euclidian_dist_pop_script import _get_list_twind_by_animal\n",
    "_list_twind, _, _ = _get_list_twind_by_animal(animal, \"00_stroke\", \"traj_to_scalar\")\n",
    "twind_scal = _list_twind[0]"
   ]
  },
  {
   "cell_type": "code",
   "execution_count": null,
   "id": "32cc2b3b",
   "metadata": {},
   "outputs": [],
   "source": [
    "# variables = ['chunk_within_rank_semantic_v2', 'epoch', 'chunk_rank', 'shape', \n",
    "#              'loc_on_clust', 'CTXT_locoffclust_prev', 'loc_off_clust', \n",
    "#              'CTXT_shape_prev']\n",
    "\n",
    "# variables = ['epoch', 'shape', 'loc_on_clust', 'CTXT_locoffclust_prev', 'loc_off_clust', \n",
    "#              'CTXT_shape_prev', 'chunk_within_rank', 'chunk_rank']\n",
    "# variables_is_cat = [True, True, True, True, True, True, False, False]\n",
    "\n",
    "variables = ['epoch', 'shape', 'gridloc', 'loc_on_clust', 'CTXT_locoffclust_prev', 'loc_off_clust', \n",
    "             'CTXT_shape_prev', 'chunk_within_rank']\n",
    "variables_is_cat = [True, True, True, True, True, True, True, False]\n",
    "\n",
    "assert len(variables)==len(variables_is_cat)"
   ]
  },
  {
   "cell_type": "code",
   "execution_count": null,
   "id": "78e0dbcb",
   "metadata": {},
   "outputs": [],
   "source": [
    "PA = DFallpa[\"pa\"].values[3]\n",
    "twind_scal = (0, 1)\n",
    "PA = PA.slice_by_dim_values_wrapper(\"times\", twind_scal).agg_wrapper(\"times\")\n",
    "PA.dataextract_subspace_targeted_pca(variables, variables_is_cat, list_subspaces, demean=True, \n",
    "                                          normalization=None, plot_orthonormalization=False, \n",
    "                                          PLOT_COEFF_HEATMAP=False, savedir_coeff_heatmap=None, PRINT=False)"
   ]
  },
  {
   "cell_type": "code",
   "execution_count": null,
   "id": "fe7217ff",
   "metadata": {},
   "outputs": [],
   "source": [
    "DFallpa[2:]"
   ]
  },
  {
   "cell_type": "code",
   "execution_count": null,
   "id": "b0d76f52",
   "metadata": {},
   "outputs": [],
   "source": [
    "DFallpa = DFallpa[2:]"
   ]
  },
  {
   "cell_type": "code",
   "execution_count": null,
   "id": "d062c751",
   "metadata": {},
   "outputs": [],
   "source": [
    "twind_scal"
   ]
  },
  {
   "cell_type": "code",
   "execution_count": null,
   "id": "07dd616d",
   "metadata": {},
   "outputs": [],
   "source": [
    "PA = DFallpa[\"pa\"].values[0]"
   ]
  },
  {
   "cell_type": "code",
   "execution_count": null,
   "id": "365756ff",
   "metadata": {},
   "outputs": [],
   "source": [
    "dict_subspace_pa, _, _, _, _ = state_space_targeted_pca_scalar_single(\n",
    "                        PA, twind_scal, variables, variables_is_cat, list_subspaces, \n",
    "                        LIST_VAR_VAROTHERS_SS, LIST_DIMS, \"/tmp\", just_extract_paredu=False,\n",
    "                        subspace_filtdict = subspace_filtdict)\n"
   ]
  },
  {
   "cell_type": "code",
   "execution_count": null,
   "id": "56451cb0",
   "metadata": {},
   "outputs": [],
   "source": [
    "# During samp\n",
    "from pythonlib.tools.vectools import average_vectors_wrapper, get_vector_from_angle\n",
    "from neuralmonkey.scripts.analy_syntax_good_eucl_trial import state_space_targeted_pca_scalar_single\n",
    "from neuralmonkey.scripts.analy_syntax_good_eucl_trial import state_space_targeted_pca_scalar_single, targeted_pca_euclidian_dist_angles\n",
    "\n",
    "# list_subspaces = [\n",
    "#     (\"chunk_within_rank\", \"chunk_rank\"),\n",
    "# ]\n",
    "\n",
    "list_subspaces = [\n",
    "    (\"shape\", \"chunk_within_rank\"),\n",
    "]\n",
    "\n",
    "LIST_VAR_VAROTHERS_SS = [\n",
    "    (\"chunk_within_rank\", ['epoch', 'chunk_rank', 'shape', 'loc_on_clust', 'CTXT_locoffclust_prev', 'CTXT_shape_prev', 'loc_off_clust']),\n",
    "    (\"chunk_within_rank\", ['epoch', 'chunk_rank', 'shape', 'loc_on_clust', 'CTXT_locoffclust_prev', 'CTXT_shape_prev']),\n",
    "    (\"chunk_within_rank\", ['epoch', 'shape', 'loc_on_clust', 'CTXT_locoffclust_prev', 'CTXT_shape_prev']),\n",
    "    (\"chunk_within_rank\", ['epoch', 'shape']),\n",
    "    (\"chunk_within_rank\", ['epoch']),\n",
    "    (\"shape\", ['epoch', 'chunk_within_rank', 'chunk_rank', 'loc_on_clust', 'CTXT_locoffclust_prev', 'CTXT_shape_prev', 'loc_off_clust']),\n",
    "    (\"shape\", ['epoch', 'chunk_within_rank', 'chunk_rank', 'loc_on_clust', 'CTXT_locoffclust_prev', 'CTXT_shape_prev']),\n",
    "    (\"shape\", ['epoch', 'chunk_within_rank', 'chunk_rank']),\n",
    "    (\"shape\", ['epoch']),\n",
    "]\n",
    "\n",
    "LIST_DIMS = [(0,1), (1,2)]\n",
    "\n",
    "LIST_VAR_VAROTHERS_REGR = [\n",
    "    (\"chunk_within_rank\", ['epoch', 'shape', 'loc_on_clust', 'CTXT_locoffclust_prev', 'CTXT_shape_prev', 'loc_off_clust']),\n",
    "    (\"shape\", ['epoch', 'chunk_within_rank', 'loc_on_clust', 'CTXT_locoffclust_prev', 'CTXT_shape_prev', 'loc_off_clust']),\n",
    "]\n",
    "\n",
    "subspace_tuple = (\"shape\", \"chunk_within_rank\")\n",
    "\n",
    "min_levs_per_levother = 2\n",
    "prune_levs_min_n_trials = 4\n",
    "\n",
    "SAVEDIR_ANALYSIS = f\"/tmp/TERGET_PCA_EUCL_STATE/{animal}-{date}\"\n",
    "os.makedirs(SAVEDIR_ANALYSIS, exist_ok=True)\n",
    "DFANGLE = targeted_pca_euclidian_dist_angles(DFallpa, SAVEDIR_ANALYSIS, \n",
    "                                             variables, variables_is_cat, list_subspaces, LIST_VAR_VAROTHERS_SS, # For dim reduction and plotting state space\n",
    "                                            subspace_tuple, LIST_VAR_VAROTHERS_REGR)\n"
   ]
  },
  {
   "cell_type": "code",
   "execution_count": null,
   "id": "13150309",
   "metadata": {},
   "outputs": [],
   "source": [
    "### (2) Make all plots\n",
    "from neuralmonkey.scripts.analy_syntax_good_eucl_trial import targeted_pca_euclidian_dist_angles_plots\n",
    "\n",
    "for var_vector_length in [\"dist_yue_diff\", \"dist_norm\"]:\n",
    "    for length_method in [\"sum\", \"dot\"]:\n",
    "        for min_levs_exist in [3, 2]:\n",
    "            savedir = f\"{SAVEDIR_ANALYSIS}/PLOTS/varlength={var_vector_length}-lengthmeth={length_method}-minlevs={min_levs_exist}\"\n",
    "            os.makedirs(savedir, exist_ok=True)\n",
    "            targeted_pca_euclidian_dist_angles_plots(DFANGLE, var_vector_length, length_method, min_levs_exist, savedir)\n"
   ]
  }
 ],
 "metadata": {
  "kernelspec": {
   "display_name": "drag2_matlab",
   "language": "python",
   "name": "python3"
  },
  "language_info": {
   "codemirror_mode": {
    "name": "ipython",
    "version": 3
   },
   "file_extension": ".py",
   "mimetype": "text/x-python",
   "name": "python",
   "nbconvert_exporter": "python",
   "pygments_lexer": "ipython3",
   "version": "3.8.18"
  }
 },
 "nbformat": 4,
 "nbformat_minor": 5
}
