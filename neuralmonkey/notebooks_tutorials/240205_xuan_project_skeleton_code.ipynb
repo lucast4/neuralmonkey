{
 "cells": [
  {
   "cell_type": "markdown",
   "source": [
    "To load and plot a dataset of neural activity across population, in a PopAnal class object.\n"
   ],
   "metadata": {
    "collapsed": false
   },
   "id": "401a9851a443292c"
  },
  {
   "cell_type": "code",
   "execution_count": 1,
   "outputs": [],
   "source": [
    "import pandas as pd\n",
    "import matplotlib.pyplot as plt"
   ],
   "metadata": {
    "collapsed": false,
    "ExecuteTime": {
     "end_time": "2024-02-05T17:57:03.520898954Z",
     "start_time": "2024-02-05T17:57:03.468953166Z"
    }
   },
   "id": "6d72addf5c1494c2"
  },
  {
   "cell_type": "code",
   "execution_count": 2,
   "outputs": [],
   "source": [
    "\n",
    "# this is the path to the dataset\n",
    "path = '/gorilla1/analyses/recordings/main/RSA/Diego-230615/agg_True-subtr_None-dist_euclidian_unbiased/SP_shape_loc/DFallpa.pkl'\n"
   ],
   "metadata": {
    "collapsed": false,
    "ExecuteTime": {
     "end_time": "2024-02-05T17:57:05.203113161Z",
     "start_time": "2024-02-05T17:57:05.175258388Z"
    }
   },
   "id": "320be7d5ecbddf5f"
  },
  {
   "cell_type": "markdown",
   "source": [
    "##### Load data"
   ],
   "metadata": {
    "collapsed": false
   },
   "id": "fc7711a4b6d8357f"
  },
  {
   "cell_type": "code",
   "execution_count": 3,
   "outputs": [],
   "source": [
    "DFallpa = pd.read_pickle(path)\n"
   ],
   "metadata": {
    "collapsed": false,
    "ExecuteTime": {
     "end_time": "2024-02-05T17:57:07.734664109Z",
     "start_time": "2024-02-05T17:57:07.520488543Z"
    }
   },
   "id": "335e4da034da5b2a"
  },
  {
   "cell_type": "markdown",
   "source": [
    "# Code example for benchmarking: decoding shapes"
   ],
   "metadata": {
    "collapsed": false
   },
   "id": "93edebd6e38ce91"
  },
  {
   "cell_type": "markdown",
   "source": [
    "This step takes in a representation of neural data and outputs a scalar score for how well you can decode \"shape\" from that data\n",
    "\n",
    "Here, this example is using the raw data (dimensionality = number of channels). The goal is to use methods to reduce the dimensionality of this data, each time running through this decoding benchmark, to compare the different methods"
   ],
   "metadata": {
    "collapsed": false
   },
   "id": "488ff1ca66a8098f"
  },
  {
   "cell_type": "markdown",
   "source": [
    "##### First, pull out a specific PA. (just an example)"
   ],
   "metadata": {
    "collapsed": false
   },
   "id": "32c025e2bfc54ebe"
  },
  {
   "cell_type": "markdown",
   "source": [
    "NOTE: tjhis is just for demonstration. Eventually you will want to loop thru all PA, scoring them all"
   ],
   "metadata": {
    "collapsed": false
   },
   "id": "9bb74aab4a961bd2"
  },
  {
   "cell_type": "code",
   "execution_count": 6,
   "outputs": [
    {
     "data": {
      "text/plain": "    which_level              event   bregion         twind  \\\n0         trial            03_samp      M1_m  (-0.5, -0.3)   \n1         trial            03_samp      M1_l  (-0.5, -0.3)   \n2         trial            03_samp     PMv_l  (-0.5, -0.3)   \n3         trial            03_samp     PMv_m  (-0.5, -0.3)   \n4         trial            03_samp     PMd_p  (-0.5, -0.3)   \n..          ...                ...       ...           ...   \n145       trial  06_on_strokeidx_0      FP_a    (0.3, 0.5)   \n146       trial  06_on_strokeidx_0     SMA_p    (0.3, 0.5)   \n147       trial  06_on_strokeidx_0     SMA_a    (0.3, 0.5)   \n148       trial  06_on_strokeidx_0  preSMA_p    (0.3, 0.5)   \n149       trial  06_on_strokeidx_0  preSMA_a    (0.3, 0.5)   \n\n                                                    pa  \n0    <neuralmonkey.classes.population.PopAnal objec...  \n1    <neuralmonkey.classes.population.PopAnal objec...  \n2    <neuralmonkey.classes.population.PopAnal objec...  \n3    <neuralmonkey.classes.population.PopAnal objec...  \n4    <neuralmonkey.classes.population.PopAnal objec...  \n..                                                 ...  \n145  <neuralmonkey.classes.population.PopAnal objec...  \n146  <neuralmonkey.classes.population.PopAnal objec...  \n147  <neuralmonkey.classes.population.PopAnal objec...  \n148  <neuralmonkey.classes.population.PopAnal objec...  \n149  <neuralmonkey.classes.population.PopAnal objec...  \n\n[150 rows x 5 columns]",
      "text/html": "<div>\n<style scoped>\n    .dataframe tbody tr th:only-of-type {\n        vertical-align: middle;\n    }\n\n    .dataframe tbody tr th {\n        vertical-align: top;\n    }\n\n    .dataframe thead th {\n        text-align: right;\n    }\n</style>\n<table border=\"1\" class=\"dataframe\">\n  <thead>\n    <tr style=\"text-align: right;\">\n      <th></th>\n      <th>which_level</th>\n      <th>event</th>\n      <th>bregion</th>\n      <th>twind</th>\n      <th>pa</th>\n    </tr>\n  </thead>\n  <tbody>\n    <tr>\n      <th>0</th>\n      <td>trial</td>\n      <td>03_samp</td>\n      <td>M1_m</td>\n      <td>(-0.5, -0.3)</td>\n      <td>&lt;neuralmonkey.classes.population.PopAnal objec...</td>\n    </tr>\n    <tr>\n      <th>1</th>\n      <td>trial</td>\n      <td>03_samp</td>\n      <td>M1_l</td>\n      <td>(-0.5, -0.3)</td>\n      <td>&lt;neuralmonkey.classes.population.PopAnal objec...</td>\n    </tr>\n    <tr>\n      <th>2</th>\n      <td>trial</td>\n      <td>03_samp</td>\n      <td>PMv_l</td>\n      <td>(-0.5, -0.3)</td>\n      <td>&lt;neuralmonkey.classes.population.PopAnal objec...</td>\n    </tr>\n    <tr>\n      <th>3</th>\n      <td>trial</td>\n      <td>03_samp</td>\n      <td>PMv_m</td>\n      <td>(-0.5, -0.3)</td>\n      <td>&lt;neuralmonkey.classes.population.PopAnal objec...</td>\n    </tr>\n    <tr>\n      <th>4</th>\n      <td>trial</td>\n      <td>03_samp</td>\n      <td>PMd_p</td>\n      <td>(-0.5, -0.3)</td>\n      <td>&lt;neuralmonkey.classes.population.PopAnal objec...</td>\n    </tr>\n    <tr>\n      <th>...</th>\n      <td>...</td>\n      <td>...</td>\n      <td>...</td>\n      <td>...</td>\n      <td>...</td>\n    </tr>\n    <tr>\n      <th>145</th>\n      <td>trial</td>\n      <td>06_on_strokeidx_0</td>\n      <td>FP_a</td>\n      <td>(0.3, 0.5)</td>\n      <td>&lt;neuralmonkey.classes.population.PopAnal objec...</td>\n    </tr>\n    <tr>\n      <th>146</th>\n      <td>trial</td>\n      <td>06_on_strokeidx_0</td>\n      <td>SMA_p</td>\n      <td>(0.3, 0.5)</td>\n      <td>&lt;neuralmonkey.classes.population.PopAnal objec...</td>\n    </tr>\n    <tr>\n      <th>147</th>\n      <td>trial</td>\n      <td>06_on_strokeidx_0</td>\n      <td>SMA_a</td>\n      <td>(0.3, 0.5)</td>\n      <td>&lt;neuralmonkey.classes.population.PopAnal objec...</td>\n    </tr>\n    <tr>\n      <th>148</th>\n      <td>trial</td>\n      <td>06_on_strokeidx_0</td>\n      <td>preSMA_p</td>\n      <td>(0.3, 0.5)</td>\n      <td>&lt;neuralmonkey.classes.population.PopAnal objec...</td>\n    </tr>\n    <tr>\n      <th>149</th>\n      <td>trial</td>\n      <td>06_on_strokeidx_0</td>\n      <td>preSMA_a</td>\n      <td>(0.3, 0.5)</td>\n      <td>&lt;neuralmonkey.classes.population.PopAnal objec...</td>\n    </tr>\n  </tbody>\n</table>\n<p>150 rows × 5 columns</p>\n</div>"
     },
     "execution_count": 6,
     "metadata": {},
     "output_type": "execute_result"
    }
   ],
   "source": [
    "DFallpa"
   ],
   "metadata": {
    "collapsed": false,
    "ExecuteTime": {
     "end_time": "2024-02-05T17:58:47.854168975Z",
     "start_time": "2024-02-05T17:58:47.830405537Z"
    }
   },
   "id": "e82e3edd86b2262d"
  },
  {
   "cell_type": "code",
   "execution_count": 5,
   "outputs": [],
   "source": [
    "def extract_single_pa(DFallpa, bregion, twind):\n",
    "    which_level = \"trial\"\n",
    "    event = \"03_samp\"\n",
    "\n",
    "    a = DFallpa[\"which_level\"]==which_level\n",
    "    b = DFallpa[\"event\"]==event\n",
    "    c = DFallpa[\"bregion\"]==bregion\n",
    "    d = DFallpa[\"twind\"]==twind\n",
    "    \n",
    "    tmp = DFallpa[a & b & c & d]\n",
    "    assert len(tmp)==1\n",
    "    pa = tmp[\"pa\"].values[0]\n",
    "    \n",
    "    return pa\n",
    "    "
   ],
   "metadata": {
    "collapsed": false,
    "ExecuteTime": {
     "end_time": "2024-02-05T17:58:34.029458477Z",
     "start_time": "2024-02-05T17:58:33.983485103Z"
    }
   },
   "id": "10bc2b4059ed05b5"
  },
  {
   "cell_type": "code",
   "execution_count": 12,
   "outputs": [
    {
     "name": "stdout",
     "output_type": "stream",
     "text": [
      "Shape of this dataset (chans, trials, times): 21 422 20\n",
      "Data is stored in pa.X:  (21, 422, 20)\n"
     ]
    }
   ],
   "source": [
    "### PARAMS\n",
    "bregion = \"PMv_m\"\n",
    "twind = (0.3, 0.5)\n",
    "\n",
    "### RUN\n",
    "pa = extract_single_pa(DFallpa, bregion, twind)\n",
    "\n",
    "nchans = pa.X.shape[0]\n",
    "ntrials = pa.X.shape[1]\n",
    "ntimes = pa.X.shape[2]\n",
    "\n",
    "print(\"Shape of this dataset (chans, trials, times):\", nchans, ntrials, ntimes)\n",
    "print(\"Data is stored in pa.X: \", pa.X.shape)"
   ],
   "metadata": {
    "collapsed": false,
    "ExecuteTime": {
     "end_time": "2024-02-05T18:01:45.560245550Z",
     "start_time": "2024-02-05T18:01:45.508979279Z"
    }
   },
   "id": "133efbcda306a086"
  },
  {
   "cell_type": "markdown",
   "source": [
    "##### Finally, extract the data that goes into the decoder"
   ],
   "metadata": {
    "collapsed": false
   },
   "id": "8e0f1f1c709a0350"
  },
  {
   "cell_type": "markdown",
   "source": [
    "Extract activity wthin a specific time bin. Eventualy, you would want to test all time bins."
   ],
   "metadata": {
    "collapsed": false
   },
   "id": "a940c9919dde1ab9"
  },
  {
   "cell_type": "code",
   "execution_count": 14,
   "outputs": [
    {
     "name": "stdout",
     "output_type": "stream",
     "text": [
      "(422, 21)\n"
     ]
    }
   ],
   "source": [
    "tbin = 0\n",
    "X = pa.X[:, :, tbin].T # (ntrials, nchans)\n",
    "print(X.shape)"
   ],
   "metadata": {
    "collapsed": false,
    "ExecuteTime": {
     "end_time": "2024-02-05T18:02:41.117544578Z",
     "start_time": "2024-02-05T18:02:41.051652635Z"
    }
   },
   "id": "f47393c036460dde"
  },
  {
   "cell_type": "markdown",
   "source": [
    "The variable you are trying to decode/predict is the shape on each trial."
   ],
   "metadata": {
    "collapsed": false
   },
   "id": "d45248c173e29412"
  },
  {
   "cell_type": "code",
   "execution_count": 15,
   "outputs": [
    {
     "name": "stdout",
     "output_type": "stream",
     "text": [
      "['Lcentered-4-1-0', 'L|V-2-3-0', 'Lcentered-4-1-0', 'L|V-2-3-0', 'circle-6-1-0']\n",
      "422\n"
     ]
    }
   ],
   "source": [
    "var = \"seqc_0_shape\"\n",
    "shapes = pa.Xlabels[\"trials\"][var].tolist()\n",
    "\n",
    "print(shapes[:5])\n",
    "print(len(shapes))"
   ],
   "metadata": {
    "collapsed": false,
    "ExecuteTime": {
     "end_time": "2024-02-05T18:03:44.918434843Z",
     "start_time": "2024-02-05T18:03:44.862802205Z"
    }
   },
   "id": "d410d731dc1c4a76"
  },
  {
   "cell_type": "markdown",
   "source": [
    "##### Train and test decoder"
   ],
   "metadata": {
    "collapsed": false
   },
   "id": "d41098effe97315a"
  },
  {
   "cell_type": "markdown",
   "source": [
    "This is using a helper function I wrote (_model_fit) but you should go into the code to know how it works"
   ],
   "metadata": {
    "collapsed": false
   },
   "id": "f841de3e24cf66a7"
  },
  {
   "cell_type": "code",
   "execution_count": 18,
   "outputs": [
    {
     "name": "stdout",
     "output_type": "stream",
     "text": [
      "Model score (prediction accuracy on held-out test data): 0.6421800947867299\n"
     ]
    }
   ],
   "source": [
    "from neuralmonkey.population.classify import _model_fit\n",
    "\n",
    "model_params_optimal = {\"C\":0.01} # optimized regularization params\n",
    "pipe, score = _model_fit(X, shapes, model_params=model_params_optimal)\n",
    "\n",
    "print(\"Model score (prediction accuracy on held-out test data):\", score)"
   ],
   "metadata": {
    "collapsed": false,
    "ExecuteTime": {
     "end_time": "2024-02-05T18:05:10.819169919Z",
     "start_time": "2024-02-05T18:05:10.760563527Z"
    }
   },
   "id": "d0f130fe013e7376"
  },
  {
   "cell_type": "code",
   "execution_count": 20,
   "outputs": [
    {
     "name": "stdout",
     "output_type": "stream",
     "text": [
      "Expected score if guessing =  0.16666666666666666\n"
     ]
    }
   ],
   "source": [
    "print(\"Expected score if guessing = \", 1/len(set(shapes)))"
   ],
   "metadata": {
    "collapsed": false,
    "ExecuteTime": {
     "end_time": "2024-02-05T18:06:32.139722533Z",
     "start_time": "2024-02-05T18:06:32.067583668Z"
    }
   },
   "id": "dfbccd7ffd9efbc1"
  },
  {
   "cell_type": "markdown",
   "source": [
    "# NEXT STEPS"
   ],
   "metadata": {
    "collapsed": false
   },
   "id": "83ac90196564cb15"
  },
  {
   "cell_type": "markdown",
   "source": [
    "1. Try different methods for dim reduction of X. In all cases, if X is shape (nchans, ntrials, ntimes), dim reduction should return Xreduced of shape (ndim, ntrials, ntimes) where ndim < nchans\n",
    "2. For the benchmark decoder, you want to score looping through each bregion, twind, and tbin. i.e, see below"
   ],
   "metadata": {
    "collapsed": false
   },
   "id": "d56cd066fc6806dd"
  },
  {
   "cell_type": "markdown",
   "source": [
    "# [FILL THIS IN] ENTIRE PIPELINE"
   ],
   "metadata": {
    "collapsed": false
   },
   "id": "7716e109da6cbce0"
  },
  {
   "cell_type": "code",
   "execution_count": null,
   "outputs": [],
   "source": [],
   "metadata": {
    "collapsed": false
   },
   "id": "19212d1d4866643f"
  },
  {
   "cell_type": "code",
   "execution_count": null,
   "outputs": [],
   "source": [
    "list_dim_reduction_methods = [\"pca\", \"CEBRA\", ...] # FILL THIS IN"
   ],
   "metadata": {
    "collapsed": false
   },
   "id": "db3c96ce348e818d"
  },
  {
   "cell_type": "code",
   "execution_count": null,
   "outputs": [],
   "source": [
    "list_br = DFallpa[\"bregion\"].unique().tolist()\n",
    "list_tw = DFallpa[\"twind\"].unique().tolist()\n",
    "\n",
    "res = []\n",
    "\n",
    "for br in list_br:\n",
    "    for tw in list_tw:\n",
    "        # 1. Extract the specific pa for this (br, tw)\n",
    "        pa = extract_single_pa(DFallpa, br, tw)\n",
    "        \n",
    "        # 2. Extract X from pa\n",
    "        X = pa.X # (nchans, ntrials, ntimes)\n",
    "        # shapes = pa.Xlabels[\"trials\"][var].tolist()\n",
    "        list_tbin = range(X.shape[2])\n",
    "        \n",
    "        for method in list_dim_reduction_methods:\n",
    "            # 2. Apply this method to pa\n",
    "            # Xreduced = dim_reduce(X, method) # FILL THIS IN\n",
    "            \n",
    "            for tbin in list_tbin:\n",
    "                # 3a. Extract data for this time bin\n",
    "                # Xreduced_this_time_bin = Xreduced[:, :, tbin].T # (ntrials, nchans)\n",
    "    \n",
    "                # 3. Run decoder\n",
    "                # score = shape_decoder(Xreduced_this_time_bin, shapes) # FILL THIS IN\n",
    "                \n",
    "                # 3. Collect data\n",
    "                res.append({\n",
    "                    \"method\":method,\n",
    "                    \"bregion\":br,\n",
    "                    \"twind\":tw,\n",
    "                    \"tbin\":tbin,\n",
    "                    \"score\":score\n",
    "                })\n",
    "                "
   ],
   "metadata": {
    "collapsed": false
   },
   "id": "a0e47e5629220d79"
  },
  {
   "cell_type": "code",
   "execution_count": null,
   "outputs": [],
   "source": [
    "##### Plot the results, comparing score across methods!!\n",
    "# FILL THIS IN"
   ],
   "metadata": {
    "collapsed": false
   },
   "id": "271cba46fcbb492"
  }
 ],
 "metadata": {
  "kernelspec": {
   "display_name": "Python 3",
   "language": "python",
   "name": "python3"
  },
  "language_info": {
   "codemirror_mode": {
    "name": "ipython",
    "version": 2
   },
   "file_extension": ".py",
   "mimetype": "text/x-python",
   "name": "python",
   "nbconvert_exporter": "python",
   "pygments_lexer": "ipython2",
   "version": "2.7.6"
  }
 },
 "nbformat": 4,
 "nbformat_minor": 5
}
