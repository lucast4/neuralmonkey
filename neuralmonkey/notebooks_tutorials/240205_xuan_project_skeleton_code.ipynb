{
 "cells": [
  {
   "cell_type": "markdown",
   "source": [
    "# Extracting a DFallpa [for Lucas. Xuan can ignore]"
   ],
   "metadata": {
    "collapsed": false
   },
   "id": "6b19797efdaef85a"
  },
  {
   "cell_type": "code",
   "execution_count": null,
   "outputs": [],
   "source": [
    "from neuralmonkey.classes.population_mult import dfallpa_extraction_load_wrapper\n",
    "animal = \"Diego\"\n",
    "date = 230615\n",
    "question = \"SP_shape_loc\"\n",
    "list_time_windows = [(-0.4, 0.6)]\n",
    "events_keep = [\"03_samp\"]\n",
    "combine_into_larger_areas = False\n",
    "DFallpa = dfallpa_extraction_load_wrapper(animal, date, question, list_time_windows,\n",
    "                                events_keep = events_keep,\n",
    "                                HACK_RENAME_SHAPES=False)"
   ],
   "metadata": {
    "collapsed": false
   },
   "id": "703578e54f80fbe2"
  },
  {
   "cell_type": "code",
   "execution_count": null,
   "outputs": [],
   "source": [
    "# Load a question\n",
    "from neuralmonkey.analyses.rsa import rsagood_questions_dict\n",
    "DictParamsEachQuestion = rsagood_questions_dict(animal, date)\n",
    "q_params = DictParamsEachQuestion[question]\n",
    "print(q_params)"
   ],
   "metadata": {
    "collapsed": false
   },
   "id": "f16c766a83258bf7"
  },
  {
   "cell_type": "code",
   "execution_count": null,
   "outputs": [],
   "source": [
    "# Normalize, etc\n",
    "# Clean up DFallpa\n",
    "from neuralmonkey.analyses.rsa import preprocess_rsa_prepare_popanal_wrapper, popanal_preprocess_scalar_normalization\n",
    "\n",
    "subtract_mean_each_level_of_var = None\n",
    "plot_example_chan = None\n",
    "\n",
    "list_pa =[]\n",
    "list_panorm = []\n",
    "for pa in DFallpa[\"pa\"].tolist():\n",
    "    print(pa.X.shape)\n",
    "    pa, res_check_tasksets, res_check_effectvars = preprocess_rsa_prepare_popanal_wrapper(pa, **q_params)\n",
    "    print(pa.X.shape)\n",
    "\n",
    "    panorm, _, _, _, _, _ = popanal_preprocess_scalar_normalization(pa, q_params[\"effect_vars\"],\n",
    "                                                                                  subtract_mean_each_level_of_var)\n",
    "    \n",
    "    list_pa.append(pa)\n",
    "    list_panorm.append(panorm)\n",
    "    \n",
    "DFallpa[\"pa\"] = list_pa\n",
    "DFallpa[\"pa_norm\"] = list_panorm\n"
   ],
   "metadata": {
    "collapsed": false
   },
   "id": "24b237f105e939e7"
  },
  {
   "cell_type": "code",
   "execution_count": null,
   "outputs": [],
   "source": [
    "# Save it\n",
    "import pickle\n",
    "path = \"/gorilla4/Dropbox/SCIENCE/FREIWALD_LAB/DATA/for_xuan/DFallpa.pkl\"\n",
    "with open(path, \"wb\") as f:\n",
    "    pickle.dump(DFallpa, f)\n",
    "print(\"Saved to:\", path)"
   ],
   "metadata": {
    "collapsed": false
   },
   "id": "b7f94451b0831398"
  },
  {
   "cell_type": "markdown",
   "source": [
    "# Load a dataset"
   ],
   "metadata": {
    "collapsed": false
   },
   "id": "2f471c575413735b"
  },
  {
   "cell_type": "markdown",
   "source": [
    "To load and plot a dataset of neural activity across population, in a PopAnal class object.\n"
   ],
   "metadata": {
    "collapsed": false
   },
   "id": "401a9851a443292c"
  },
  {
   "cell_type": "code",
   "execution_count": 11,
   "outputs": [],
   "source": [
    "import pandas as pd\n",
    "import matplotlib.pyplot as plt"
   ],
   "metadata": {
    "collapsed": false,
    "ExecuteTime": {
     "end_time": "2024-02-27T22:33:09.166213639Z",
     "start_time": "2024-02-27T22:33:09.004865405Z"
    }
   },
   "id": "6d72addf5c1494c2"
  },
  {
   "cell_type": "code",
   "execution_count": 12,
   "outputs": [],
   "source": [
    "\n",
    "# this is the path to the dataset\n",
    "# path = '/gorilla1/analyses/recordings/main/RSA/Diego-230615/agg_True-subtr_None-dist_euclidian_unbiased/SP_shape_loc/DFallpa.pkl'\n",
    "path = \"/gorilla4/Dropbox/SCIENCE/FREIWALD_LAB/DATA/for_xuan/DFallpa.pkl\"\n"
   ],
   "metadata": {
    "collapsed": false,
    "ExecuteTime": {
     "end_time": "2024-02-27T22:33:09.272373699Z",
     "start_time": "2024-02-27T22:33:09.222956484Z"
    }
   },
   "id": "320be7d5ecbddf5f"
  },
  {
   "cell_type": "code",
   "execution_count": 13,
   "outputs": [],
   "source": [
    "DFallpa = pd.read_pickle(path)\n"
   ],
   "metadata": {
    "collapsed": false,
    "ExecuteTime": {
     "end_time": "2024-02-27T22:33:09.542288111Z",
     "start_time": "2024-02-27T22:33:09.457964562Z"
    }
   },
   "id": "335e4da034da5b2a"
  },
  {
   "cell_type": "markdown",
   "source": [
    "# EXAMPLE CODE for preprocessing of data"
   ],
   "metadata": {
    "collapsed": false
   },
   "id": "1c611342e89ddcfe"
  },
  {
   "cell_type": "code",
   "execution_count": 14,
   "outputs": [],
   "source": [
    "# Get a PA, just for example\n",
    "pa = DFallpa[\"pa\"].values[0]"
   ],
   "metadata": {
    "collapsed": false,
    "ExecuteTime": {
     "end_time": "2024-02-27T22:33:11.729930291Z",
     "start_time": "2024-02-27T22:33:11.703457503Z"
    }
   },
   "id": "e1efac77afface65"
  },
  {
   "cell_type": "code",
   "execution_count": 5,
   "outputs": [
    {
     "name": "stdout",
     "output_type": "stream",
     "text": [
      "Compare and see that times are binned\n",
      "-- original: [-0.395 -0.385 -0.375 -0.365 -0.355 -0.345 -0.335 -0.325 -0.315 -0.305\n",
      " -0.295 -0.285 -0.275 -0.265 -0.255 -0.245 -0.235 -0.225 -0.215 -0.205\n",
      " -0.195 -0.185 -0.175 -0.165 -0.155 -0.145 -0.135 -0.125 -0.115 -0.105\n",
      " -0.095 -0.085 -0.075 -0.065 -0.055 -0.045 -0.035 -0.025 -0.015 -0.005\n",
      "  0.005  0.015  0.025  0.035  0.045  0.055  0.065  0.075  0.085  0.095\n",
      "  0.105  0.115  0.125  0.135  0.145  0.155  0.165  0.175  0.185  0.195\n",
      "  0.205  0.215  0.225  0.235  0.245  0.255  0.265  0.275  0.285  0.295\n",
      "  0.305  0.315  0.325  0.335  0.345  0.355  0.365  0.375  0.385  0.395\n",
      "  0.405  0.415  0.425  0.435  0.445  0.455  0.465  0.475  0.485  0.495\n",
      "  0.505  0.515  0.525  0.535  0.545  0.555  0.565  0.575  0.585  0.595] ... data shape:  (14, 422, 100)\n",
      "-- sliced: [0.105 0.115 0.125 0.135 0.145 0.155 0.165 0.175 0.185 0.195 0.205 0.215\n",
      " 0.225 0.235 0.245 0.255 0.265 0.275 0.285 0.295 0.305 0.315 0.325 0.335\n",
      " 0.345 0.355 0.365 0.375 0.385 0.395 0.405 0.415 0.425 0.435 0.445 0.455\n",
      " 0.465 0.475 0.485 0.495] ... data shape:  (14, 422, 40)\n",
      "-- mean: ['mean-0.10499999999999998_0.4950000000000001'] ... data shape:  (14, 422, 1)\n"
     ]
    }
   ],
   "source": [
    "# 1. First slice to time winodw, then take mean over time, i.e. a single time average\n",
    "twind = (0.1, 0.5)\n",
    "pa_sliced = pa.slice_by_dim_values_wrapper(\"times\", twind)\n",
    "pa_mean = pa_sliced.agg_wrapper(\"times\")\n",
    "\n",
    "print(\"Compare and see that times are binned\")\n",
    "print(\"-- original:\", pa.Times, \"... data shape: \", pa.X.shape)\n",
    "print(\"-- sliced:\", pa_sliced.Times, \"... data shape: \", pa_sliced.X.shape)\n",
    "print(\"-- mean:\", pa_mean.Times, \"... data shape: \", pa_mean.X.shape)\n"
   ],
   "metadata": {
    "collapsed": false,
    "ExecuteTime": {
     "end_time": "2024-02-27T22:15:27.195616243Z",
     "start_time": "2024-02-27T22:15:27.174505985Z"
    }
   },
   "id": "5e9cf7dd29b888af"
  },
  {
   "cell_type": "code",
   "execution_count": 6,
   "outputs": [
    {
     "name": "stdout",
     "output_type": "stream",
     "text": [
      "Compare and see that times are binned\n",
      "-- original: [-0.395 -0.385 -0.375 -0.365 -0.355 -0.345 -0.335 -0.325 -0.315 -0.305\n",
      " -0.295 -0.285 -0.275 -0.265 -0.255 -0.245 -0.235 -0.225 -0.215 -0.205\n",
      " -0.195 -0.185 -0.175 -0.165 -0.155 -0.145 -0.135 -0.125 -0.115 -0.105\n",
      " -0.095 -0.085 -0.075 -0.065 -0.055 -0.045 -0.035 -0.025 -0.015 -0.005\n",
      "  0.005  0.015  0.025  0.035  0.045  0.055  0.065  0.075  0.085  0.095\n",
      "  0.105  0.115  0.125  0.135  0.145  0.155  0.165  0.175  0.185  0.195\n",
      "  0.205  0.215  0.225  0.235  0.245  0.255  0.265  0.275  0.285  0.295\n",
      "  0.305  0.315  0.325  0.335  0.345  0.355  0.365  0.375  0.385  0.395\n",
      "  0.405  0.415  0.425  0.435  0.445  0.455  0.465  0.475  0.485  0.495\n",
      "  0.505  0.515  0.525  0.535  0.545  0.555  0.565  0.575  0.585  0.595] ... data shape:  (14, 422, 100)\n",
      "-- sliced: [-0.345 -0.325 -0.305 -0.285 -0.265 -0.245 -0.225 -0.205 -0.185 -0.165\n",
      " -0.145 -0.125 -0.105 -0.085 -0.065 -0.045 -0.025 -0.005  0.015  0.035\n",
      "  0.055  0.075  0.095  0.115  0.135  0.155  0.175  0.195  0.215  0.235\n",
      "  0.255  0.275  0.295  0.315  0.335  0.355  0.375  0.395  0.415  0.435\n",
      "  0.455  0.475  0.495  0.515  0.535] ... data shape:  (14, 422, 45)\n"
     ]
    }
   ],
   "source": [
    "# 2. binning time windows\n",
    "binsize = 0.1\n",
    "binslide = 0.02\n",
    "pa_binned = pa.agg_by_time_windows_binned(binsize, binslide)\n",
    "    \n",
    "print(\"Compare and see that times are binned\")\n",
    "print(\"-- original:\", pa.Times, \"... data shape: \", pa.X.shape)\n",
    "print(\"-- sliced:\", pa_binned.Times, \"... data shape: \", pa_binned.X.shape)\n"
   ],
   "metadata": {
    "collapsed": false,
    "ExecuteTime": {
     "end_time": "2024-02-27T22:15:27.538272533Z",
     "start_time": "2024-02-27T22:15:27.453964997Z"
    }
   },
   "id": "f0878cda38dbc99b"
  },
  {
   "cell_type": "markdown",
   "source": [
    "# Code example for benchmarking: decoding shapes"
   ],
   "metadata": {
    "collapsed": false
   },
   "id": "93edebd6e38ce91"
  },
  {
   "cell_type": "markdown",
   "source": [
    "This step takes in a representation of neural data and outputs a scalar score for how well you can decode \"shape\" from that data\n",
    "\n",
    "Here, this example is using the raw data (dimensionality = number of channels). The goal is to use methods to reduce the dimensionality of this data, each time running through this decoding benchmark, to compare the different methods"
   ],
   "metadata": {
    "collapsed": false
   },
   "id": "488ff1ca66a8098f"
  },
  {
   "cell_type": "markdown",
   "source": [
    "##### First, pull out a specific PA. (just an example)"
   ],
   "metadata": {
    "collapsed": false
   },
   "id": "32c025e2bfc54ebe"
  },
  {
   "cell_type": "markdown",
   "source": [
    "NOTE: tjhis is just for demonstration. Eventually you will want to loop thru all PA, scoring them all"
   ],
   "metadata": {
    "collapsed": false
   },
   "id": "9bb74aab4a961bd2"
  },
  {
   "cell_type": "code",
   "execution_count": 9,
   "outputs": [
    {
     "data": {
      "text/plain": "  which_level    event bregion        twind  \\\n0       trial  03_samp      M1  (-0.4, 0.6)   \n1       trial  03_samp     PMv  (-0.4, 0.6)   \n2       trial  03_samp     PMd  (-0.4, 0.6)   \n3       trial  03_samp   dlPFC  (-0.4, 0.6)   \n4       trial  03_samp   vlPFC  (-0.4, 0.6)   \n5       trial  03_samp      FP  (-0.4, 0.6)   \n6       trial  03_samp     SMA  (-0.4, 0.6)   \n7       trial  03_samp  preSMA  (-0.4, 0.6)   \n\n                                                  pa  \\\n0  <neuralmonkey.classes.population.PopAnal objec...   \n1  <neuralmonkey.classes.population.PopAnal objec...   \n2  <neuralmonkey.classes.population.PopAnal objec...   \n3  <neuralmonkey.classes.population.PopAnal objec...   \n4  <neuralmonkey.classes.population.PopAnal objec...   \n5  <neuralmonkey.classes.population.PopAnal objec...   \n6  <neuralmonkey.classes.population.PopAnal objec...   \n7  <neuralmonkey.classes.population.PopAnal objec...   \n\n                                             pa_norm  \n0  <neuralmonkey.classes.population.PopAnal objec...  \n1  <neuralmonkey.classes.population.PopAnal objec...  \n2  <neuralmonkey.classes.population.PopAnal objec...  \n3  <neuralmonkey.classes.population.PopAnal objec...  \n4  <neuralmonkey.classes.population.PopAnal objec...  \n5  <neuralmonkey.classes.population.PopAnal objec...  \n6  <neuralmonkey.classes.population.PopAnal objec...  \n7  <neuralmonkey.classes.population.PopAnal objec...  ",
      "text/html": "<div>\n<style scoped>\n    .dataframe tbody tr th:only-of-type {\n        vertical-align: middle;\n    }\n\n    .dataframe tbody tr th {\n        vertical-align: top;\n    }\n\n    .dataframe thead th {\n        text-align: right;\n    }\n</style>\n<table border=\"1\" class=\"dataframe\">\n  <thead>\n    <tr style=\"text-align: right;\">\n      <th></th>\n      <th>which_level</th>\n      <th>event</th>\n      <th>bregion</th>\n      <th>twind</th>\n      <th>pa</th>\n      <th>pa_norm</th>\n    </tr>\n  </thead>\n  <tbody>\n    <tr>\n      <th>0</th>\n      <td>trial</td>\n      <td>03_samp</td>\n      <td>M1</td>\n      <td>(-0.4, 0.6)</td>\n      <td>&lt;neuralmonkey.classes.population.PopAnal objec...</td>\n      <td>&lt;neuralmonkey.classes.population.PopAnal objec...</td>\n    </tr>\n    <tr>\n      <th>1</th>\n      <td>trial</td>\n      <td>03_samp</td>\n      <td>PMv</td>\n      <td>(-0.4, 0.6)</td>\n      <td>&lt;neuralmonkey.classes.population.PopAnal objec...</td>\n      <td>&lt;neuralmonkey.classes.population.PopAnal objec...</td>\n    </tr>\n    <tr>\n      <th>2</th>\n      <td>trial</td>\n      <td>03_samp</td>\n      <td>PMd</td>\n      <td>(-0.4, 0.6)</td>\n      <td>&lt;neuralmonkey.classes.population.PopAnal objec...</td>\n      <td>&lt;neuralmonkey.classes.population.PopAnal objec...</td>\n    </tr>\n    <tr>\n      <th>3</th>\n      <td>trial</td>\n      <td>03_samp</td>\n      <td>dlPFC</td>\n      <td>(-0.4, 0.6)</td>\n      <td>&lt;neuralmonkey.classes.population.PopAnal objec...</td>\n      <td>&lt;neuralmonkey.classes.population.PopAnal objec...</td>\n    </tr>\n    <tr>\n      <th>4</th>\n      <td>trial</td>\n      <td>03_samp</td>\n      <td>vlPFC</td>\n      <td>(-0.4, 0.6)</td>\n      <td>&lt;neuralmonkey.classes.population.PopAnal objec...</td>\n      <td>&lt;neuralmonkey.classes.population.PopAnal objec...</td>\n    </tr>\n    <tr>\n      <th>5</th>\n      <td>trial</td>\n      <td>03_samp</td>\n      <td>FP</td>\n      <td>(-0.4, 0.6)</td>\n      <td>&lt;neuralmonkey.classes.population.PopAnal objec...</td>\n      <td>&lt;neuralmonkey.classes.population.PopAnal objec...</td>\n    </tr>\n    <tr>\n      <th>6</th>\n      <td>trial</td>\n      <td>03_samp</td>\n      <td>SMA</td>\n      <td>(-0.4, 0.6)</td>\n      <td>&lt;neuralmonkey.classes.population.PopAnal objec...</td>\n      <td>&lt;neuralmonkey.classes.population.PopAnal objec...</td>\n    </tr>\n    <tr>\n      <th>7</th>\n      <td>trial</td>\n      <td>03_samp</td>\n      <td>preSMA</td>\n      <td>(-0.4, 0.6)</td>\n      <td>&lt;neuralmonkey.classes.population.PopAnal objec...</td>\n      <td>&lt;neuralmonkey.classes.population.PopAnal objec...</td>\n    </tr>\n  </tbody>\n</table>\n</div>"
     },
     "execution_count": 9,
     "metadata": {},
     "output_type": "execute_result"
    }
   ],
   "source": [
    "DFallpa"
   ],
   "metadata": {
    "collapsed": false,
    "ExecuteTime": {
     "end_time": "2024-02-27T22:15:53.913586445Z",
     "start_time": "2024-02-27T22:15:53.882545540Z"
    }
   },
   "id": "12055ebea89919ad"
  },
  {
   "cell_type": "code",
   "execution_count": 18,
   "outputs": [],
   "source": [
    "def extract_single_pa(DFallpa, bregion, twind):\n",
    "    which_level = \"trial\"\n",
    "    event = \"03_samp\"\n",
    "\n",
    "    a = DFallpa[\"which_level\"]==which_level\n",
    "    b = DFallpa[\"event\"]==event\n",
    "    c = DFallpa[\"bregion\"]==bregion\n",
    "    d = DFallpa[\"twind\"]==twind\n",
    "    \n",
    "    tmp = DFallpa[a & b & c & d]\n",
    "    assert len(tmp)==1\n",
    "    pa = tmp[\"pa\"].values[0]\n",
    "    \n",
    "    return pa\n",
    "    "
   ],
   "metadata": {
    "collapsed": false,
    "ExecuteTime": {
     "end_time": "2024-02-27T22:33:33.868549551Z",
     "start_time": "2024-02-27T22:33:33.828265708Z"
    }
   },
   "id": "10bc2b4059ed05b5"
  },
  {
   "cell_type": "code",
   "execution_count": 19,
   "outputs": [
    {
     "name": "stdout",
     "output_type": "stream",
     "text": [
      "Shape of this dataset (chans, trials, times): 48 422 100\n",
      "Data is stored in pa.X:  (48, 422, 100)\n"
     ]
    }
   ],
   "source": [
    "### PARAMS\n",
    "bregion = \"PMv\"\n",
    "twind = (-0.4, 0.6)\n",
    "\n",
    "### RUN\n",
    "pa = extract_single_pa(DFallpa, bregion, twind)\n",
    "\n",
    "nchans = pa.X.shape[0]\n",
    "ntrials = pa.X.shape[1]\n",
    "ntimes = pa.X.shape[2]\n",
    "\n",
    "print(\"Shape of this dataset (chans, trials, times):\", nchans, ntrials, ntimes)\n",
    "print(\"Data is stored in pa.X: \", pa.X.shape)"
   ],
   "metadata": {
    "collapsed": false,
    "ExecuteTime": {
     "end_time": "2024-02-27T22:33:34.206825597Z",
     "start_time": "2024-02-27T22:33:34.153899218Z"
    }
   },
   "id": "133efbcda306a086"
  },
  {
   "cell_type": "markdown",
   "source": [
    "##### Finally, extract the data that goes into the decoder"
   ],
   "metadata": {
    "collapsed": false
   },
   "id": "8e0f1f1c709a0350"
  },
  {
   "cell_type": "markdown",
   "source": [
    "Extract activity wthin a specific time bin. Eventualy, you would want to test all time bins."
   ],
   "metadata": {
    "collapsed": false
   },
   "id": "a940c9919dde1ab9"
  },
  {
   "cell_type": "code",
   "execution_count": 12,
   "outputs": [
    {
     "name": "stdout",
     "output_type": "stream",
     "text": [
      "(422, 48)\n"
     ]
    }
   ],
   "source": [
    "tbin = 0\n",
    "X = pa.X[:, :, tbin].T # (ntrials, nchans)\n",
    "print(X.shape)"
   ],
   "metadata": {
    "collapsed": false,
    "ExecuteTime": {
     "end_time": "2024-02-27T22:16:33.726105354Z",
     "start_time": "2024-02-27T22:16:33.671504361Z"
    }
   },
   "id": "f47393c036460dde"
  },
  {
   "cell_type": "markdown",
   "source": [
    "The variable you are trying to decode/predict is the shape on each trial."
   ],
   "metadata": {
    "collapsed": false
   },
   "id": "d45248c173e29412"
  },
  {
   "cell_type": "code",
   "execution_count": 13,
   "outputs": [
    {
     "name": "stdout",
     "output_type": "stream",
     "text": [
      "['Lcentered-4-1-0', 'V-2-3-0', 'Lcentered-4-1-0', 'V-2-3-0', 'circle-6-1-0']\n",
      "422\n"
     ]
    }
   ],
   "source": [
    "var = \"seqc_0_shape\"\n",
    "shapes = pa.Xlabels[\"trials\"][var].tolist()\n",
    "\n",
    "print(shapes[:5])\n",
    "print(len(shapes))"
   ],
   "metadata": {
    "collapsed": false,
    "ExecuteTime": {
     "end_time": "2024-02-27T22:16:35.124636690Z",
     "start_time": "2024-02-27T22:16:35.080216989Z"
    }
   },
   "id": "d410d731dc1c4a76"
  },
  {
   "cell_type": "markdown",
   "source": [
    "##### Train and test decoder"
   ],
   "metadata": {
    "collapsed": false
   },
   "id": "d41098effe97315a"
  },
  {
   "cell_type": "markdown",
   "source": [
    "This is using a helper function I wrote (_model_fit) but you should go into the code to know how it works"
   ],
   "metadata": {
    "collapsed": false
   },
   "id": "f841de3e24cf66a7"
  },
  {
   "cell_type": "code",
   "execution_count": 16,
   "outputs": [
    {
     "ename": "ConvergenceWarning",
     "evalue": "Liblinear failed to converge, increase the number of iterations.",
     "output_type": "error",
     "traceback": [
      "\u001B[0;31m---------------------------------------------------------------------------\u001B[0m",
      "\u001B[0;31mConvergenceWarning\u001B[0m                        Traceback (most recent call last)",
      "Cell \u001B[0;32mIn[16], line 4\u001B[0m\n\u001B[1;32m      1\u001B[0m \u001B[38;5;28;01mfrom\u001B[39;00m \u001B[38;5;21;01mneuralmonkey\u001B[39;00m\u001B[38;5;21;01m.\u001B[39;00m\u001B[38;5;21;01mpopulation\u001B[39;00m\u001B[38;5;21;01m.\u001B[39;00m\u001B[38;5;21;01mclassify\u001B[39;00m \u001B[38;5;28;01mimport\u001B[39;00m _model_fit\n\u001B[1;32m      3\u001B[0m model_params_optimal \u001B[38;5;241m=\u001B[39m {\u001B[38;5;124m\"\u001B[39m\u001B[38;5;124mC\u001B[39m\u001B[38;5;124m\"\u001B[39m:\u001B[38;5;241m0.01\u001B[39m} \u001B[38;5;66;03m# optimized regularization params\u001B[39;00m\n\u001B[0;32m----> 4\u001B[0m pipe, score \u001B[38;5;241m=\u001B[39m \u001B[43m_model_fit\u001B[49m\u001B[43m(\u001B[49m\u001B[43mX\u001B[49m\u001B[43m,\u001B[49m\u001B[43m \u001B[49m\u001B[43mshapes\u001B[49m\u001B[43m,\u001B[49m\u001B[43m \u001B[49m\u001B[43mmodel_params\u001B[49m\u001B[38;5;241;43m=\u001B[39;49m\u001B[43mmodel_params_optimal\u001B[49m\u001B[43m,\u001B[49m\u001B[43m \u001B[49m\u001B[43mdo_center\u001B[49m\u001B[38;5;241;43m=\u001B[39;49m\u001B[38;5;28;43;01mTrue\u001B[39;49;00m\u001B[43m,\u001B[49m\u001B[43m \u001B[49m\u001B[43mdo_std\u001B[49m\u001B[38;5;241;43m=\u001B[39;49m\u001B[38;5;28;43;01mFalse\u001B[39;49;00m\u001B[43m)\u001B[49m\n\u001B[1;32m      6\u001B[0m \u001B[38;5;28mprint\u001B[39m(\u001B[38;5;124m\"\u001B[39m\u001B[38;5;124mModel score (prediction accuracy on held-out test data):\u001B[39m\u001B[38;5;124m\"\u001B[39m, score)\n",
      "File \u001B[0;32m/gorilla1/code/neuralmonkey/neuralmonkey/population/classify.py:99\u001B[0m, in \u001B[0;36m_model_fit\u001B[0;34m(X, y, version, model_params, do_train_test_split, do_center, do_std)\u001B[0m\n\u001B[1;32m     97\u001B[0m         score \u001B[38;5;241m=\u001B[39m mod\u001B[38;5;241m.\u001B[39mscore(Xtest, ytest)\n\u001B[1;32m     98\u001B[0m     \u001B[38;5;28;01melse\u001B[39;00m:\n\u001B[0;32m---> 99\u001B[0m         \u001B[43mmod\u001B[49m\u001B[38;5;241;43m.\u001B[39;49m\u001B[43mfit\u001B[49m\u001B[43m(\u001B[49m\u001B[43mX\u001B[49m\u001B[43m,\u001B[49m\u001B[43m \u001B[49m\u001B[43my\u001B[49m\u001B[43m)\u001B[49m\n\u001B[1;32m    100\u001B[0m         score \u001B[38;5;241m=\u001B[39m mod\u001B[38;5;241m.\u001B[39mscore(X, y)\n\u001B[1;32m    102\u001B[0m \u001B[38;5;28;01mreturn\u001B[39;00m mod, score\n",
      "File \u001B[0;32m~/miniconda3/envs/drag2_matlab/lib/python3.8/site-packages/sklearn/pipeline.py:382\u001B[0m, in \u001B[0;36mPipeline.fit\u001B[0;34m(self, X, y, **fit_params)\u001B[0m\n\u001B[1;32m    380\u001B[0m     \u001B[38;5;28;01mif\u001B[39;00m \u001B[38;5;28mself\u001B[39m\u001B[38;5;241m.\u001B[39m_final_estimator \u001B[38;5;241m!=\u001B[39m \u001B[38;5;124m\"\u001B[39m\u001B[38;5;124mpassthrough\u001B[39m\u001B[38;5;124m\"\u001B[39m:\n\u001B[1;32m    381\u001B[0m         fit_params_last_step \u001B[38;5;241m=\u001B[39m fit_params_steps[\u001B[38;5;28mself\u001B[39m\u001B[38;5;241m.\u001B[39msteps[\u001B[38;5;241m-\u001B[39m\u001B[38;5;241m1\u001B[39m][\u001B[38;5;241m0\u001B[39m]]\n\u001B[0;32m--> 382\u001B[0m         \u001B[38;5;28;43mself\u001B[39;49m\u001B[38;5;241;43m.\u001B[39;49m\u001B[43m_final_estimator\u001B[49m\u001B[38;5;241;43m.\u001B[39;49m\u001B[43mfit\u001B[49m\u001B[43m(\u001B[49m\u001B[43mXt\u001B[49m\u001B[43m,\u001B[49m\u001B[43m \u001B[49m\u001B[43my\u001B[49m\u001B[43m,\u001B[49m\u001B[43m \u001B[49m\u001B[38;5;241;43m*\u001B[39;49m\u001B[38;5;241;43m*\u001B[39;49m\u001B[43mfit_params_last_step\u001B[49m\u001B[43m)\u001B[49m\n\u001B[1;32m    384\u001B[0m \u001B[38;5;28;01mreturn\u001B[39;00m \u001B[38;5;28mself\u001B[39m\n",
      "File \u001B[0;32m~/miniconda3/envs/drag2_matlab/lib/python3.8/site-packages/sklearn/svm/_classes.py:257\u001B[0m, in \u001B[0;36mLinearSVC.fit\u001B[0;34m(self, X, y, sample_weight)\u001B[0m\n\u001B[1;32m    254\u001B[0m check_classification_targets(y)\n\u001B[1;32m    255\u001B[0m \u001B[38;5;28mself\u001B[39m\u001B[38;5;241m.\u001B[39mclasses_ \u001B[38;5;241m=\u001B[39m np\u001B[38;5;241m.\u001B[39munique(y)\n\u001B[0;32m--> 257\u001B[0m \u001B[38;5;28mself\u001B[39m\u001B[38;5;241m.\u001B[39mcoef_, \u001B[38;5;28mself\u001B[39m\u001B[38;5;241m.\u001B[39mintercept_, n_iter_ \u001B[38;5;241m=\u001B[39m \u001B[43m_fit_liblinear\u001B[49m\u001B[43m(\u001B[49m\n\u001B[1;32m    258\u001B[0m \u001B[43m    \u001B[49m\u001B[43mX\u001B[49m\u001B[43m,\u001B[49m\n\u001B[1;32m    259\u001B[0m \u001B[43m    \u001B[49m\u001B[43my\u001B[49m\u001B[43m,\u001B[49m\n\u001B[1;32m    260\u001B[0m \u001B[43m    \u001B[49m\u001B[38;5;28;43mself\u001B[39;49m\u001B[38;5;241;43m.\u001B[39;49m\u001B[43mC\u001B[49m\u001B[43m,\u001B[49m\n\u001B[1;32m    261\u001B[0m \u001B[43m    \u001B[49m\u001B[38;5;28;43mself\u001B[39;49m\u001B[38;5;241;43m.\u001B[39;49m\u001B[43mfit_intercept\u001B[49m\u001B[43m,\u001B[49m\n\u001B[1;32m    262\u001B[0m \u001B[43m    \u001B[49m\u001B[38;5;28;43mself\u001B[39;49m\u001B[38;5;241;43m.\u001B[39;49m\u001B[43mintercept_scaling\u001B[49m\u001B[43m,\u001B[49m\n\u001B[1;32m    263\u001B[0m \u001B[43m    \u001B[49m\u001B[38;5;28;43mself\u001B[39;49m\u001B[38;5;241;43m.\u001B[39;49m\u001B[43mclass_weight\u001B[49m\u001B[43m,\u001B[49m\n\u001B[1;32m    264\u001B[0m \u001B[43m    \u001B[49m\u001B[38;5;28;43mself\u001B[39;49m\u001B[38;5;241;43m.\u001B[39;49m\u001B[43mpenalty\u001B[49m\u001B[43m,\u001B[49m\n\u001B[1;32m    265\u001B[0m \u001B[43m    \u001B[49m\u001B[38;5;28;43mself\u001B[39;49m\u001B[38;5;241;43m.\u001B[39;49m\u001B[43mdual\u001B[49m\u001B[43m,\u001B[49m\n\u001B[1;32m    266\u001B[0m \u001B[43m    \u001B[49m\u001B[38;5;28;43mself\u001B[39;49m\u001B[38;5;241;43m.\u001B[39;49m\u001B[43mverbose\u001B[49m\u001B[43m,\u001B[49m\n\u001B[1;32m    267\u001B[0m \u001B[43m    \u001B[49m\u001B[38;5;28;43mself\u001B[39;49m\u001B[38;5;241;43m.\u001B[39;49m\u001B[43mmax_iter\u001B[49m\u001B[43m,\u001B[49m\n\u001B[1;32m    268\u001B[0m \u001B[43m    \u001B[49m\u001B[38;5;28;43mself\u001B[39;49m\u001B[38;5;241;43m.\u001B[39;49m\u001B[43mtol\u001B[49m\u001B[43m,\u001B[49m\n\u001B[1;32m    269\u001B[0m \u001B[43m    \u001B[49m\u001B[38;5;28;43mself\u001B[39;49m\u001B[38;5;241;43m.\u001B[39;49m\u001B[43mrandom_state\u001B[49m\u001B[43m,\u001B[49m\n\u001B[1;32m    270\u001B[0m \u001B[43m    \u001B[49m\u001B[38;5;28;43mself\u001B[39;49m\u001B[38;5;241;43m.\u001B[39;49m\u001B[43mmulti_class\u001B[49m\u001B[43m,\u001B[49m\n\u001B[1;32m    271\u001B[0m \u001B[43m    \u001B[49m\u001B[38;5;28;43mself\u001B[39;49m\u001B[38;5;241;43m.\u001B[39;49m\u001B[43mloss\u001B[49m\u001B[43m,\u001B[49m\n\u001B[1;32m    272\u001B[0m \u001B[43m    \u001B[49m\u001B[43msample_weight\u001B[49m\u001B[38;5;241;43m=\u001B[39;49m\u001B[43msample_weight\u001B[49m\u001B[43m,\u001B[49m\n\u001B[1;32m    273\u001B[0m \u001B[43m\u001B[49m\u001B[43m)\u001B[49m\n\u001B[1;32m    274\u001B[0m \u001B[38;5;66;03m# Backward compatibility: _fit_liblinear is used both by LinearSVC/R\u001B[39;00m\n\u001B[1;32m    275\u001B[0m \u001B[38;5;66;03m# and LogisticRegression but LogisticRegression sets a structured\u001B[39;00m\n\u001B[1;32m    276\u001B[0m \u001B[38;5;66;03m# `n_iter_` attribute with information about the underlying OvR fits\u001B[39;00m\n\u001B[1;32m    277\u001B[0m \u001B[38;5;66;03m# while LinearSVC/R only reports the maximum value.\u001B[39;00m\n\u001B[1;32m    278\u001B[0m \u001B[38;5;28mself\u001B[39m\u001B[38;5;241m.\u001B[39mn_iter_ \u001B[38;5;241m=\u001B[39m n_iter_\u001B[38;5;241m.\u001B[39mmax()\u001B[38;5;241m.\u001B[39mitem()\n",
      "File \u001B[0;32m~/miniconda3/envs/drag2_matlab/lib/python3.8/site-packages/sklearn/svm/_base.py:1225\u001B[0m, in \u001B[0;36m_fit_liblinear\u001B[0;34m(X, y, C, fit_intercept, intercept_scaling, class_weight, penalty, dual, verbose, max_iter, tol, random_state, multi_class, loss, epsilon, sample_weight)\u001B[0m\n\u001B[1;32m   1223\u001B[0m n_iter_max \u001B[38;5;241m=\u001B[39m \u001B[38;5;28mmax\u001B[39m(n_iter_)\n\u001B[1;32m   1224\u001B[0m \u001B[38;5;28;01mif\u001B[39;00m n_iter_max \u001B[38;5;241m>\u001B[39m\u001B[38;5;241m=\u001B[39m max_iter:\n\u001B[0;32m-> 1225\u001B[0m     \u001B[43mwarnings\u001B[49m\u001B[38;5;241;43m.\u001B[39;49m\u001B[43mwarn\u001B[49m\u001B[43m(\u001B[49m\n\u001B[1;32m   1226\u001B[0m \u001B[43m        \u001B[49m\u001B[38;5;124;43m\"\u001B[39;49m\u001B[38;5;124;43mLiblinear failed to converge, increase the number of iterations.\u001B[39;49m\u001B[38;5;124;43m\"\u001B[39;49m\u001B[43m,\u001B[49m\n\u001B[1;32m   1227\u001B[0m \u001B[43m        \u001B[49m\u001B[43mConvergenceWarning\u001B[49m\u001B[43m,\u001B[49m\n\u001B[1;32m   1228\u001B[0m \u001B[43m    \u001B[49m\u001B[43m)\u001B[49m\n\u001B[1;32m   1230\u001B[0m \u001B[38;5;28;01mif\u001B[39;00m fit_intercept:\n\u001B[1;32m   1231\u001B[0m     coef_ \u001B[38;5;241m=\u001B[39m raw_coef_[:, :\u001B[38;5;241m-\u001B[39m\u001B[38;5;241m1\u001B[39m]\n",
      "\u001B[0;31mConvergenceWarning\u001B[0m: Liblinear failed to converge, increase the number of iterations."
     ]
    }
   ],
   "source": [
    "from neuralmonkey.population.classify import _model_fit\n",
    "\n",
    "model_params_optimal = {\"C\":0.01} # optimized regularization params\n",
    "pipe, score = _model_fit(X, shapes, model_params=model_params_optimal, do_center=True, do_std=False)\n",
    "\n",
    "print(\"Model score (prediction accuracy on held-out test data):\", score)"
   ],
   "metadata": {
    "collapsed": false,
    "ExecuteTime": {
     "end_time": "2024-02-27T22:16:50.905797439Z",
     "start_time": "2024-02-27T22:16:48.561487671Z"
    }
   },
   "id": "d0f130fe013e7376"
  },
  {
   "cell_type": "code",
   "execution_count": null,
   "outputs": [],
   "source": [
    "print(\"Expected score if guessing = \", 1/len(set(shapes)))"
   ],
   "metadata": {
    "collapsed": false
   },
   "id": "dfbccd7ffd9efbc1"
  },
  {
   "cell_type": "code",
   "execution_count": null,
   "outputs": [],
   "source": [
    "PAnorm.plotNeurHeat(0)"
   ],
   "metadata": {
    "collapsed": false
   },
   "id": "546b8760158c0839"
  },
  {
   "cell_type": "code",
   "execution_count": null,
   "outputs": [],
   "source": [
    "pa.plotNeurHeat(0)"
   ],
   "metadata": {
    "collapsed": false
   },
   "id": "d1c442be99e39285"
  },
  {
   "cell_type": "markdown",
   "source": [
    "# LT added 2/15/24"
   ],
   "metadata": {
    "collapsed": false
   },
   "id": "859a87e32641a98e"
  },
  {
   "cell_type": "markdown",
   "source": [
    "## 1) Make sure to normalize PA before running any modeling on it:"
   ],
   "metadata": {
    "collapsed": false
   },
   "id": "583a1e729ac08b30"
  },
  {
   "cell_type": "code",
   "execution_count": 20,
   "outputs": [],
   "source": [
    "list_panorm = []\n",
    "for pa in DFallpa[\"pa\"].tolist():\n",
    "    from neuralmonkey.analyses.state_space_good import popanal_preprocess_scalar_normalization\n",
    "    PAnorm, PAscal, PAscalagg, fig, axes, groupdict = popanal_preprocess_scalar_normalization(pa, None, DO_AGG_TRIALS=False)\n",
    "    list_panorm.append(PAnorm)\n",
    "DFallpa[\"pa\"] = list_panorm\n",
    "del DFallpa[\"pa_norm\"]"
   ],
   "metadata": {
    "collapsed": false,
    "ExecuteTime": {
     "end_time": "2024-02-27T22:33:38.813675774Z",
     "start_time": "2024-02-27T22:33:38.682048416Z"
    }
   },
   "id": "854db14b65f6c377"
  },
  {
   "cell_type": "markdown",
   "source": [
    "## 2) Code to plot neural trajectories in lower dimensions, colored and split by variables of interest"
   ],
   "metadata": {
    "collapsed": false
   },
   "id": "ee2fcd8653de5fba"
  },
  {
   "cell_type": "code",
   "execution_count": 38,
   "outputs": [
    {
     "data": {
      "text/plain": "(<Figure size 1050x700 with 6 Axes>,\n array([[<Axes: title={'center': '(0, 0)'}>,\n         <Axes: title={'center': '(0, 1)'}>,\n         <Axes: title={'center': '(1, 0)'}>],\n        [<Axes: title={'center': '(1, 1)'}>, <Axes: >, <Axes: >]],\n       dtype=object))"
     },
     "execution_count": 38,
     "metadata": {},
     "output_type": "execute_result"
    }
   ],
   "source": [
    "from neuralmonkey.analyses.state_space_good import trajgood_construct_df_from_raw, trajgood_plot_colorby_splotby\n",
    "\n",
    "# Plot an example brain region's data.\n",
    "bregion = \"PMv\"\n",
    "twind = (-0.4, 0.6)\n",
    "pa = extract_single_pa(DFallpa, bregion, twind)\n",
    "\n",
    "# INPUT PARAMS\n",
    "var_color_by = \"seqc_0_shape\"\n",
    "var_subplots = \"seqc_0_loc\"\n",
    "\n",
    "# Runs\n",
    "\n",
    "# 1) Construct dataframe\n",
    "# df = pa.dataextract_split_by_label_grp_for_statespace(grpvars)\n",
    "grpvars = [var_color_by, var_subplots]\n",
    "X = pa.X # (chans, trials, times)\n",
    "labels = pa.Xlabels[\"trials\"].loc[:, grpvars] \n",
    "labelvars = grpvars\n",
    "df = trajgood_construct_df_from_raw(X, pa.Times, labels, labelvars)\n",
    "\n",
    "# 2) Plot\n",
    "dims = (2,3) # pairs of dimensions to plot\n",
    "times_to_mark = [0.] # you can mark specific times on the plot. here marks the 0. sec mark.\n",
    "times_to_mark_markers = [\"d\"] # mark with a diamond (\"d\")\n",
    "time_bin_size = 0.05 # to make plot easier to visaulize, you can bin in time.\n",
    "trajgood_plot_colorby_splotby(df, var_color_by, var_subplots, dims, \"traj\", mean_over_trials=True,\n",
    "                              times_to_mark = times_to_mark, times_to_mark_markers = times_to_mark_markers,\n",
    "                              time_bin_size=time_bin_size)"
   ],
   "metadata": {
    "collapsed": false,
    "ExecuteTime": {
     "end_time": "2024-02-27T22:36:48.181169252Z",
     "start_time": "2024-02-27T22:36:47.661419790Z"
    }
   },
   "id": "96ec6f937ed0a2e1"
  },
  {
   "cell_type": "code",
   "execution_count": 39,
   "outputs": [],
   "source": [
    "plt.show()"
   ],
   "metadata": {
    "collapsed": false,
    "ExecuteTime": {
     "end_time": "2024-02-27T22:42:23.441189983Z",
     "start_time": "2024-02-27T22:36:55.112096705Z"
    }
   },
   "id": "1df63db52ea86bdd"
  },
  {
   "cell_type": "code",
   "execution_count": 16,
   "outputs": [
    {
     "ename": "NameError",
     "evalue": "name 'trajgood_construct_df_from_raw' is not defined",
     "output_type": "error",
     "traceback": [
      "\u001B[0;31m---------------------------------------------------------------------------\u001B[0m",
      "\u001B[0;31mNameError\u001B[0m                                 Traceback (most recent call last)",
      "Cell \u001B[0;32mIn[16], line 12\u001B[0m\n\u001B[1;32m     10\u001B[0m labels \u001B[38;5;241m=\u001B[39m pa\u001B[38;5;241m.\u001B[39mXlabels[\u001B[38;5;124m\"\u001B[39m\u001B[38;5;124mtrials\u001B[39m\u001B[38;5;124m\"\u001B[39m]\u001B[38;5;241m.\u001B[39mloc[:, grpvars] \n\u001B[1;32m     11\u001B[0m labelvars \u001B[38;5;241m=\u001B[39m grpvars\n\u001B[0;32m---> 12\u001B[0m df \u001B[38;5;241m=\u001B[39m \u001B[43mtrajgood_construct_df_from_raw\u001B[49m(X, pa\u001B[38;5;241m.\u001B[39mTimes, labels, labelvars)\n\u001B[1;32m     14\u001B[0m \u001B[38;5;66;03m# 2) Plot\u001B[39;00m\n\u001B[1;32m     15\u001B[0m dims \u001B[38;5;241m=\u001B[39m (\u001B[38;5;241m0\u001B[39m,\u001B[38;5;241m1\u001B[39m) \u001B[38;5;66;03m# pairs of dimensions to plot\u001B[39;00m\n",
      "\u001B[0;31mNameError\u001B[0m: name 'trajgood_construct_df_from_raw' is not defined"
     ]
    }
   ],
   "source": [
    "# Same, but coloring by location\n",
    "\n",
    "var_color_by = \"seqc_0_loc\"\n",
    "var_subplots = \"seqc_0_shape\"\n",
    "\n",
    "# 1) Construct dataframe\n",
    "# df = pa.dataextract_split_by_label_grp_for_statespace(grpvars)\n",
    "grpvars = [var_color_by, var_subplots]\n",
    "X = pa.X # (chans, trials, times)\n",
    "labels = pa.Xlabels[\"trials\"].loc[:, grpvars] \n",
    "labelvars = grpvars\n",
    "df = trajgood_construct_df_from_raw(X, pa.Times, labels, labelvars)\n",
    "\n",
    "# 2) Plot\n",
    "dims = (0,1) # pairs of dimensions to plot\n",
    "times_to_mark = [0.] # you can mark specific times on the plot. here marks the 0. sec mark.\n",
    "times_to_mark_markers = [\"d\"] # mark with a diamond (\"d\")\n",
    "time_bin_size = 0.1 # to make plot easier to visaulize, you can bin in time.\n",
    "trajgood_plot_colorby_splotby(df, var_color_by, var_subplots, dims, \"traj\", mean_over_trials=True,\n",
    "                              times_to_mark = times_to_mark, times_to_mark_markers = times_to_mark_markers,\n",
    "                              time_bin_size=time_bin_size)"
   ],
   "metadata": {
    "collapsed": false,
    "ExecuteTime": {
     "end_time": "2024-02-27T22:33:26.105390249Z",
     "start_time": "2024-02-27T22:33:26.062500468Z"
    }
   },
   "id": "94ca5a794289beed"
  },
  {
   "cell_type": "markdown",
   "source": [
    "##### 3D interactive plot"
   ],
   "metadata": {
    "collapsed": false
   },
   "id": "2f66826a9743adf8"
  },
  {
   "cell_type": "code",
   "execution_count": 20,
   "outputs": [
    {
     "ename": "ValueError",
     "evalue": "all input arrays must have the same shape",
     "output_type": "error",
     "traceback": [
      "\u001B[0;31m---------------------------------------------------------------------------\u001B[0m",
      "\u001B[0;31mValueError\u001B[0m                                Traceback (most recent call last)",
      "Cell \u001B[0;32mIn[20], line 2\u001B[0m\n\u001B[1;32m      1\u001B[0m \u001B[38;5;28;01mimport\u001B[39;00m \u001B[38;5;21;01mnumpy\u001B[39;00m \u001B[38;5;28;01mas\u001B[39;00m \u001B[38;5;21;01mnp\u001B[39;00m\n\u001B[0;32m----> 2\u001B[0m \u001B[43mnp\u001B[49m\u001B[38;5;241;43m.\u001B[39;49m\u001B[43mstack\u001B[49m\u001B[43m(\u001B[49m\u001B[43mdf\u001B[49m\u001B[43m[\u001B[49m\u001B[38;5;124;43m\"\u001B[39;49m\u001B[38;5;124;43mz\u001B[39;49m\u001B[38;5;124;43m\"\u001B[39;49m\u001B[43m]\u001B[49m\u001B[38;5;241;43m.\u001B[39;49m\u001B[43mtolist\u001B[49m\u001B[43m(\u001B[49m\u001B[43m)\u001B[49m\u001B[43m)\u001B[49m\u001B[38;5;241m.\u001B[39mshape\n",
      "File \u001B[0;32m<__array_function__ internals>:5\u001B[0m, in \u001B[0;36mstack\u001B[0;34m(*args, **kwargs)\u001B[0m\n",
      "File \u001B[0;32m~/miniconda3/envs/drag2_matlab/lib/python3.8/site-packages/numpy/core/shape_base.py:426\u001B[0m, in \u001B[0;36mstack\u001B[0;34m(arrays, axis, out)\u001B[0m\n\u001B[1;32m    424\u001B[0m shapes \u001B[38;5;241m=\u001B[39m {arr\u001B[38;5;241m.\u001B[39mshape \u001B[38;5;28;01mfor\u001B[39;00m arr \u001B[38;5;129;01min\u001B[39;00m arrays}\n\u001B[1;32m    425\u001B[0m \u001B[38;5;28;01mif\u001B[39;00m \u001B[38;5;28mlen\u001B[39m(shapes) \u001B[38;5;241m!=\u001B[39m \u001B[38;5;241m1\u001B[39m:\n\u001B[0;32m--> 426\u001B[0m     \u001B[38;5;28;01mraise\u001B[39;00m \u001B[38;5;167;01mValueError\u001B[39;00m(\u001B[38;5;124m'\u001B[39m\u001B[38;5;124mall input arrays must have the same shape\u001B[39m\u001B[38;5;124m'\u001B[39m)\n\u001B[1;32m    428\u001B[0m result_ndim \u001B[38;5;241m=\u001B[39m arrays[\u001B[38;5;241m0\u001B[39m]\u001B[38;5;241m.\u001B[39mndim \u001B[38;5;241m+\u001B[39m \u001B[38;5;241m1\u001B[39m\n\u001B[1;32m    429\u001B[0m axis \u001B[38;5;241m=\u001B[39m normalize_axis_index(axis, result_ndim)\n",
      "\u001B[0;31mValueError\u001B[0m: all input arrays must have the same shape"
     ]
    }
   ],
   "source": [
    "import numpy as np\n",
    "np.stack(df[\"z\"].tolist()).shape"
   ],
   "metadata": {
    "collapsed": false,
    "ExecuteTime": {
     "end_time": "2024-02-27T22:21:42.775646844Z",
     "start_time": "2024-02-27T22:21:42.649946403Z"
    }
   },
   "id": "f8aae11b54b0163"
  },
  {
   "cell_type": "code",
   "execution_count": 24,
   "outputs": [
    {
     "data": {
      "text/plain": "(48, 17, 100)"
     },
     "execution_count": 24,
     "metadata": {},
     "output_type": "execute_result"
    }
   ],
   "source": [
    "df[\"z\"].values[-1].shape"
   ],
   "metadata": {
    "collapsed": false,
    "ExecuteTime": {
     "end_time": "2024-02-27T22:22:21.632725279Z",
     "start_time": "2024-02-27T22:22:21.617571133Z"
    }
   },
   "id": "d387d7e092cc0f01"
  },
  {
   "cell_type": "code",
   "execution_count": 24,
   "outputs": [],
   "source": [
    "Xall = df[\"z\"].values[0] # (nchan, ntrials, ntimes)\n",
    "X = Xall[:, 0, :]"
   ],
   "metadata": {
    "collapsed": false,
    "ExecuteTime": {
     "end_time": "2024-02-27T22:34:22.136154343Z",
     "start_time": "2024-02-27T22:34:22.125822865Z"
    }
   },
   "id": "6d7204ea76ae54ac"
  },
  {
   "cell_type": "code",
   "execution_count": 26,
   "outputs": [],
   "source": [
    "pcol = \"k\""
   ],
   "metadata": {
    "collapsed": false,
    "ExecuteTime": {
     "end_time": "2024-02-27T22:34:30.645113168Z",
     "start_time": "2024-02-27T22:34:30.617979918Z"
    }
   },
   "id": "9e3cdf0e50b05405"
  },
  {
   "cell_type": "code",
   "execution_count": 43,
   "outputs": [],
   "source": [
    "import matplotlib \n",
    "# matplotlib.use('Qt5Agg') \n",
    "matplotlib.use(\"nbagg\")\n",
    "import matplotlib.pyplot as plt"
   ],
   "metadata": {
    "collapsed": false,
    "ExecuteTime": {
     "end_time": "2024-02-27T22:28:03.809709435Z",
     "start_time": "2024-02-27T22:28:03.799273945Z"
    }
   },
   "id": "4cec5d1037b97f95"
  },
  {
   "cell_type": "code",
   "execution_count": 34,
   "outputs": [
    {
     "name": "stderr",
     "output_type": "stream",
     "text": [
      "/tmp/ipykernel_27175/1783095725.py:11: UserWarning: color is redundantly defined by the 'color' keyword argument and the fmt string \"-c\" (-> color='c'). The keyword argument will take precedence.\n",
      "  ax.plot(X[0, 0], X[1,0], X[2,0], \"-c\", mfc=\"w\", color=pcol, alpha=0.4)\n"
     ]
    }
   ],
   "source": [
    "# %matplotlib notebook\n",
    "matplotlib.use('Qt5Agg')\n",
    "\n",
    "fig = plt.figure(figsize=(3,3))\n",
    "# ax = fig.gca(projection='3d')\n",
    "ax = plt.axes(projection=\"3d\")\n",
    "\n",
    "\n",
    "ax.plot(X[0,:], X[1,:], X[2,:], \"-o\", color=pcol, alpha=0.4)\n",
    "ax.plot(X[0,-1], X[1,-1], X[2,-1], \"-s\", mfc=\"w\", color=pcol, alpha=0.4)\n",
    "ax.plot(X[0, 0], X[1,0], X[2,0], \"-c\", mfc=\"w\", color=pcol, alpha=0.4)\n",
    "\n",
    "ax.view_init(50, -60)\n",
    "\n",
    "ax.set_xlabel(f\"dim 0\")\n",
    "ax.set_ylabel(f\"dim 1\")\n",
    "ax.set_zlabel(f\"dim 2\")\n",
    "\n",
    "plt.ylabel('some numbers')\n",
    "plt.show()"
   ],
   "metadata": {
    "collapsed": false,
    "ExecuteTime": {
     "end_time": "2024-02-27T22:36:22.355289805Z",
     "start_time": "2024-02-27T22:36:19.474446144Z"
    }
   },
   "id": "e8d15ff9a293194a"
  },
  {
   "cell_type": "code",
   "execution_count": 36,
   "outputs": [],
   "source": [
    "import matplotlib.pyplot as plt\n",
    "matplotlib.use('Qt5Agg')\n",
    "plt.style.use('default')\n",
    "plt.plot([1,2,3,4])\n",
    "plt.ylabel('some numbers')\n",
    "plt.show()"
   ],
   "metadata": {
    "collapsed": false,
    "ExecuteTime": {
     "end_time": "2024-02-27T22:36:32.571484322Z",
     "start_time": "2024-02-27T22:36:31.289553574Z"
    }
   },
   "id": "1e8b6d9e7dcd9e75"
  },
  {
   "cell_type": "code",
   "execution_count": 2,
   "outputs": [
    {
     "data": {
      "text/plain": "'/home/lucast4/miniconda3/envs/drag2_matlab/lib/python3.8/site-packages/matplotlib/mpl-data/matplotlibrc'"
     },
     "execution_count": 2,
     "metadata": {},
     "output_type": "execute_result"
    }
   ],
   "source": [
    "import matplotlib\n",
    "matplotlib.matplotlib_fname()"
   ],
   "metadata": {
    "collapsed": false,
    "ExecuteTime": {
     "end_time": "2024-02-27T22:31:10.059522878Z",
     "start_time": "2024-02-27T22:31:09.953663402Z"
    }
   },
   "id": "bf11542730a122e6"
  },
  {
   "cell_type": "code",
   "execution_count": 5,
   "outputs": [
    {
     "data": {
      "text/plain": "'Qt5Agg'"
     },
     "execution_count": 5,
     "metadata": {},
     "output_type": "execute_result"
    }
   ],
   "source": [
    "matplotlib.use('Qt5Agg')\n",
    "matplotlib.get_backend()"
   ],
   "metadata": {
    "collapsed": false,
    "ExecuteTime": {
     "end_time": "2024-02-27T22:31:48.226168375Z",
     "start_time": "2024-02-27T22:31:48.184432290Z"
    }
   },
   "id": "1919eede4182c3b9"
  },
  {
   "cell_type": "markdown",
   "source": [
    "##### Plot single trials (this plots one example trial per condition)"
   ],
   "metadata": {
    "collapsed": false
   },
   "id": "e2741b51ea37b7d9"
  },
  {
   "cell_type": "code",
   "execution_count": null,
   "outputs": [],
   "source": [
    "# INPUT PARAMS\n",
    "var_color_by = \"seqc_0_shape\"\n",
    "var_subplots = \"seqc_0_loc\"\n",
    "\n",
    "# Runs\n",
    "\n",
    "# 1) Construct dataframe\n",
    "# df = pa.dataextract_split_by_label_grp_for_statespace(grpvars)\n",
    "grpvars = [var_color_by, var_subplots]\n",
    "X = pa.X # (chans, trials, times)\n",
    "labels = pa.Xlabels[\"trials\"].loc[:, grpvars] \n",
    "labelvars = grpvars\n",
    "df = trajgood_construct_df_from_raw(X, pa.Times, labels, labelvars)\n",
    "\n",
    "# 2) Plot\n",
    "dims = (0,1) # pairs of dimensions to plot\n",
    "times_to_mark = None # you can mark specific times on the plot. here marks the 0. sec mark.\n",
    "times_to_mark_markers = None # mark with a diamond (\"d\")\n",
    "time_bin_size = 0.05 # to make plot easier to visaulize, you can bin in time.\n",
    "\n",
    "# plot a few times, each picking a random trial\n",
    "niter = 3\n",
    "mean_over_trials = False\n",
    "ntrials = 1\n",
    "for _ in range(niter):\n",
    "    trajgood_plot_colorby_splotby(df, var_color_by, var_subplots, dims, \"traj\", mean_over_trials=mean_over_trials,\n",
    "                                  times_to_mark = times_to_mark, times_to_mark_markers = times_to_mark_markers,\n",
    "                                  time_bin_size=time_bin_size, ntrials = ntrials)"
   ],
   "metadata": {
    "collapsed": false,
    "ExecuteTime": {
     "start_time": "2024-02-16T17:07:32.530826064Z"
    }
   },
   "id": "f2b1ddfc91a21a4d"
  },
  {
   "cell_type": "markdown",
   "source": [
    "## 3) Score and plot decoding accuracy"
   ],
   "metadata": {
    "collapsed": false
   },
   "id": "36745f908f0c7fd6"
  },
  {
   "cell_type": "markdown",
   "source": [
    "1. Try different methods for dim reduction of X. In all cases, if X is shape (nchans, ntrials, ntimes), dim reduction should return Xreduced of shape (ndim, ntrials, ntimes) where ndim < nchans\n",
    "2. For the benchmark decoder, you want to score looping through each bregion, twind, and tbin. i.e, see below"
   ],
   "metadata": {
    "collapsed": false
   },
   "id": "b474a9d2c5bdd543"
  },
  {
   "cell_type": "code",
   "execution_count": null,
   "outputs": [],
   "source": [
    "list_dim_reduction_methods = [\"pca\", \"CEBRA\"] # FILL THIS IN"
   ],
   "metadata": {
    "collapsed": false,
    "ExecuteTime": {
     "end_time": "2024-02-16T17:07:32.533634278Z",
     "start_time": "2024-02-16T17:07:32.532276488Z"
    }
   },
   "id": "f100be2757cd7241"
  },
  {
   "cell_type": "code",
   "execution_count": null,
   "outputs": [],
   "source": [
    "HACK = True # quickly run to see what it's like, without any dim reduction methods\n",
    "\n",
    "if HACK:\n",
    "    list_dim_reduction_methods = [\"IGNORE\"]"
   ],
   "metadata": {
    "collapsed": false,
    "ExecuteTime": {
     "end_time": "2024-02-16T17:07:32.552383087Z",
     "start_time": "2024-02-16T17:07:32.533963245Z"
    }
   },
   "id": "55368324b366ebf"
  },
  {
   "cell_type": "code",
   "execution_count": null,
   "outputs": [],
   "source": [
    "def compute_decode_score(x, labels, max_nsplits=5):\n",
    "    \"\"\"\n",
    "    Score decoding accuracy\n",
    "    \"\"\"\n",
    "    from neuralmonkey.analyses.decode_good import decode_categorical_wrapper\n",
    "    from neuralmonkey.population.classify import _model_fit\n",
    "    import numpy as np\n",
    "    \n",
    "    assert x.shape[0]==len(labels)\n",
    "    assert len(x.shape)==2\n",
    "    \n",
    "    res = decode_categorical_wrapper(Xreduced_this_time_bin, labels, 3, max_nsplits=max_nsplits)\n",
    "    # get mean score across splits\n",
    "    return np.mean([r[\"score_xval\"] for r in res])\n",
    "    "
   ],
   "metadata": {
    "collapsed": false,
    "ExecuteTime": {
     "start_time": "2024-02-16T17:07:32.535485965Z"
    }
   },
   "id": "b20567b062de7ebe"
  },
  {
   "cell_type": "code",
   "execution_count": null,
   "outputs": [],
   "source": [
    "from neuralmonkey.utils.frmat import bin_frmat_in_time\n"
   ],
   "metadata": {
    "collapsed": false,
    "ExecuteTime": {
     "start_time": "2024-02-16T17:07:32.537092345Z"
    }
   },
   "id": "e9af95e288e0b3cb"
  },
  {
   "cell_type": "code",
   "execution_count": null,
   "outputs": [],
   "source": [
    "list_br = DFallpa[\"bregion\"].unique().tolist()\n",
    "list_tw = DFallpa[\"twind\"].unique().tolist()\n",
    "\n",
    "res = []\n",
    "\n",
    "list_vars_decode = [\"seqc_0_shape\", \"seqc_0_loc\"]\n",
    "\n",
    "for br in list_br:\n",
    "    for tw in list_tw:\n",
    "        # 1. Extract the specific pa for this (br, tw)\n",
    "        pa = extract_single_pa(DFallpa, br, tw)\n",
    "        \n",
    "        # 2. Extract X from pa\n",
    "        X = pa.X # (nchans, ntrials, ntimes)\n",
    "        times = pa.Times\n",
    "        \n",
    "        # Optionally, bin X in time, to have fewer time bins to decode\n",
    "        X, times = bin_frmat_in_time(X, times, time_bin_size=0.1, slide=0.02)\n",
    "\n",
    "        list_tbin = range(X.shape[2])\n",
    "        for method in list_dim_reduction_methods:\n",
    "            print(br, tw, method)\n",
    "            # 2. Apply this method to pa\n",
    "            if HACK:\n",
    "                Xreduced = X\n",
    "            else:\n",
    "                Xreduced = dim_reduce(X, method) # FILL THIS IN\n",
    "            \n",
    "            for tbin in list_tbin:\n",
    "                # 3a. Extract data for this time bin\n",
    "                Xreduced_this_time_bin = Xreduced[:, :, tbin].T # (ntrials, nchans)                    \n",
    "    \n",
    "                # 3. Run decoder\n",
    "                for var_decode in list_vars_decode:\n",
    "                    # labels = pa.Xlabels[\"trials\"][var_decode].tolist()\n",
    "                    labels = pd.factorize(pa.Xlabels[\"trials\"][var_decode])[0]\n",
    "                    score = compute_decode_score(Xreduced_this_time_bin, labels) # FILL THIS IN\n",
    "                    \n",
    "                    # 3. Collect data\n",
    "                    res.append({\n",
    "                        \"method\":method,\n",
    "                        \"bregion\":br,\n",
    "                        \"twind\":tw,\n",
    "                        \"tbin\":tbin,\n",
    "                        \"time\":times[tbin],\n",
    "                        \"var_decode\":var_decode,\n",
    "                        \"score\":score\n",
    "                    })\n",
    "\n",
    "dfres = pd.DataFrame(res)\n",
    "     "
   ],
   "metadata": {
    "collapsed": false,
    "ExecuteTime": {
     "start_time": "2024-02-16T17:07:32.538518973Z"
    }
   },
   "id": "843192c847a11dc6"
  },
  {
   "cell_type": "code",
   "execution_count": null,
   "outputs": [],
   "source": [
    "dfres[:5]"
   ],
   "metadata": {
    "collapsed": false,
    "ExecuteTime": {
     "start_time": "2024-02-16T17:07:32.539452562Z"
    }
   },
   "id": "3369eb81dbf45778"
  },
  {
   "cell_type": "code",
   "execution_count": null,
   "outputs": [],
   "source": [
    "%matplotlib inline\n",
    "##### Plot the results, comparing score across methods!!\n",
    "import seaborn as sns\n",
    "fig = sns.relplot(data=dfres, x=\"time\", y=\"score\", hue=\"bregion\", col=\"var_decode\", row=\"method\", kind=\"line\")\n",
    "\n"
   ],
   "metadata": {
    "collapsed": false,
    "ExecuteTime": {
     "start_time": "2024-02-16T17:07:32.540317788Z"
    }
   },
   "id": "b85e7da96e759fd0"
  },
  {
   "cell_type": "markdown",
   "source": [
    "# 4) Cross-condition decoding"
   ],
   "metadata": {
    "collapsed": false
   },
   "id": "98ec3d6e76bf4ebb"
  },
  {
   "cell_type": "code",
   "execution_count": null,
   "outputs": [],
   "source": [
    "from neuralmonkey.analyses.decode_good import decode_train, decode_categorical_cross_condition_wrapper\n",
    "\n"
   ],
   "metadata": {
    "collapsed": false,
    "ExecuteTime": {
     "start_time": "2024-02-16T17:07:32.541325287Z"
    }
   },
   "id": "e78860e2ab19f58f"
  },
  {
   "cell_type": "code",
   "execution_count": null,
   "outputs": [],
   "source": [
    "# PARAMS\n",
    "subtract_mean_vars_conj = True # WHether to normalize by sutbracting mean within each level of othervar...\n",
    "list_var_decode = [\"seqc_0_shape\", \"seqc_0_loc\"][::-1]\n",
    "list_vars_conj = [\n",
    "    [\"seqc_0_loc\"],\n",
    "    [\"seqc_0_shape\"]][::-1]\n",
    "\n",
    "# RUns\n",
    "list_br = DFallpa[\"bregion\"].unique().tolist()\n",
    "list_tw = DFallpa[\"twind\"].unique().tolist()\n",
    "    \n",
    "res = []\n",
    "for br in list_br:\n",
    "    for tw in list_tw:\n",
    "        for var_decode, vars_conj_condition in zip(list_var_decode, list_vars_conj):\n",
    "            \n",
    "            # 1. Extract the specific pa for this (br, tw)\n",
    "            pa = extract_single_pa(DFallpa, br, tw).copy()\n",
    "            \n",
    "            if subtract_mean_vars_conj:\n",
    "                pa = pa.norm_by_label_subtract_mean(\"trials\", vars_conj_condition)\n",
    "    \n",
    "            # 2. Extract X from pa\n",
    "            X = pa.X # (nchans, ntrials, ntimes)\n",
    "            times = pa.Times\n",
    "            \n",
    "            # Optionally, bin X in time, to have fewer time bins to decode\n",
    "            X, times = bin_frmat_in_time(X, times, time_bin_size=0.1, slide=0.02)\n",
    "    \n",
    "            list_tbin = range(X.shape[2])\n",
    "            for method in list_dim_reduction_methods:\n",
    "                print(br, tw, method)\n",
    "                # 2. Apply this method to pa\n",
    "                if HACK:\n",
    "                    Xreduced = X\n",
    "                else:\n",
    "                    Xreduced = dim_reduce(X, method) # FILL THIS IN\n",
    "                \n",
    "                for tbin in list_tbin:\n",
    "                    \n",
    "                    Xscal = Xreduced[:, :, tbin].T # (ntrials, nchans)\n",
    "                    dflab = pa.Xlabels[\"trials\"]\n",
    "                    \n",
    "                    \n",
    "                    dfresthis, dfres_agg = decode_categorical_cross_condition_wrapper(Xscal, dflab, var_decode, vars_conj_condition, do_std=False)\n",
    "                    assert len(dfres_agg)==1\n",
    "                    \n",
    "                    # 3. Collect data\n",
    "                    res.append({\n",
    "                        \"method\":method,\n",
    "                        \"bregion\":br,\n",
    "                        \"twind\":tw,\n",
    "                        \"tbin\":tbin,\n",
    "                        \"time\":times[tbin],\n",
    "                        \"var_decode\":var_decode,\n",
    "                        \"vars_conj_condition\":tuple(vars_conj_condition),\n",
    "                        \"score\":dfres_agg[\"score\"].values[0],\n",
    "                        \"score_adjusted\":dfres_agg[\"score_adjusted\"].values[0],\n",
    "                    })\n",
    "\n",
    "DFRES = pd.DataFrame(res)\n",
    "     \n",
    "     "
   ],
   "metadata": {
    "collapsed": false,
    "ExecuteTime": {
     "start_time": "2024-02-16T17:07:32.542324700Z"
    }
   },
   "id": "ea62377c46cf112b"
  },
  {
   "cell_type": "code",
   "execution_count": null,
   "outputs": [],
   "source": [
    "DFRES[:5]"
   ],
   "metadata": {
    "collapsed": false,
    "ExecuteTime": {
     "start_time": "2024-02-16T17:07:32.543201585Z"
    }
   },
   "id": "85a8f0096d6d8954"
  },
  {
   "cell_type": "code",
   "execution_count": null,
   "outputs": [],
   "source": [
    "##### Plot the results, comparing score across methods!!\n",
    "%matplotlib inline\n",
    "import seaborn as sns\n",
    "fig = sns.relplot(data=DFRES, x=\"time\", y=\"score\", hue=\"bregion\", col=\"var_decode\", row=\"method\", kind=\"line\")\n",
    "\n"
   ],
   "metadata": {
    "collapsed": false,
    "ExecuteTime": {
     "start_time": "2024-02-16T17:07:32.544213381Z"
    }
   },
   "id": "7b224d0e6754d9fd"
  }
 ],
 "metadata": {
  "kernelspec": {
   "display_name": "Python 3",
   "language": "python",
   "name": "python3"
  },
  "language_info": {
   "codemirror_mode": {
    "name": "ipython",
    "version": 2
   },
   "file_extension": ".py",
   "mimetype": "text/x-python",
   "name": "python",
   "nbconvert_exporter": "python",
   "pygments_lexer": "ipython2",
   "version": "2.7.6"
  }
 },
 "nbformat": 4,
 "nbformat_minor": 5
}
