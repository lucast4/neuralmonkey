{
 "cells": [
  {
   "cell_type": "markdown",
   "source": [
    "# Extracting a DFallpa [for Lucas. Xuan can ignore]"
   ],
   "metadata": {
    "collapsed": false
   },
   "id": "6b19797efdaef85a"
  },
  {
   "cell_type": "code",
   "outputs": [],
   "source": [
    "%load_ext autoreload\n",
    "%autoreload 2\n"
   ],
   "metadata": {
    "collapsed": false
   },
   "id": "4b248d33aff307a2",
   "execution_count": null
  },
  {
   "cell_type": "code",
   "outputs": [],
   "source": [
    "from neuralmonkey.classes.population_mult import dfallpa_extraction_load_wrapper\n",
    "# animal = \"Diego\"\n",
    "# date = 230615\n",
    "# question = \"SP_shape_loc\"\n",
    "# which_level = \"trial\"\n",
    "# list_time_windows = [(-0.8, 0.8)]\n",
    "# events_keep = [\"03_samp\", \"06_on_strokeidx_0\"]\n",
    "# HACK_RENAME_SHAPES = False\n",
    "\n",
    "animal = \"Diego\"\n",
    "date = 231211\n",
    "question = \"CHAR_BASE_stroke\"\n",
    "which_level = \"stroke\"\n",
    "list_time_windows = [(-0.6, 0.6)]\n",
    "events_keep = [\"00_stroke\"]\n",
    "HACK_RENAME_SHAPES = True\n",
    "\n",
    "# animal = \"Diego\"\n",
    "# date = 230817\n",
    "# question = \"RULE_BASE_stroke\"\n",
    "# which_level = \"stroke\"\n",
    "# list_time_windows = [(-0.6, 0.6)]\n",
    "# events_keep = [\"00_stroke\"]\n",
    "# HACK_RENAME_SHAPES = False\n",
    "\n",
    "combine_into_larger_areas = False\n",
    "exclude_bad_areas = True\n",
    "SPIKES_VERSION = \"kilosort_if_exists\"\n",
    "# fr_normalization_method = \"across_time_bins\"\n",
    "fr_normalization_method = None\n",
    "DFallpa = dfallpa_extraction_load_wrapper(animal, date, question, list_time_windows,\n",
    "                                          which_level=which_level, events_keep=events_keep,\n",
    "                                          combine_into_larger_areas = combine_into_larger_areas,\n",
    "                                          exclude_bad_areas = exclude_bad_areas,\n",
    "                                          SPIKES_VERSION = SPIKES_VERSION,\n",
    "                                          HACK_RENAME_SHAPES = HACK_RENAME_SHAPES,\n",
    "                                          fr_normalization_method=fr_normalization_method)"
   ],
   "metadata": {
    "collapsed": false
   },
   "id": "151a4e2a84bbfc83",
   "execution_count": null
  },
  {
   "cell_type": "markdown",
   "source": [
    "# Saving functions"
   ],
   "metadata": {
    "collapsed": false
   },
   "id": "26fcb701b0111efb"
  },
  {
   "cell_type": "markdown",
   "source": [
    "### Save DFallpa as is"
   ],
   "metadata": {
    "collapsed": false
   },
   "id": "bc7d7a469fc5da53"
  },
  {
   "cell_type": "code",
   "outputs": [],
   "source": [
    "pa = DFallpa[\"pa\"].values[0]\n",
    "pa.Xlabels[\"trials\"][\"CTXT_shape_next\"].value_counts()"
   ],
   "metadata": {
    "collapsed": false
   },
   "id": "952b41c3eb520582",
   "execution_count": null
  },
  {
   "cell_type": "code",
   "outputs": [],
   "source": [
    "# Save it\n",
    "import pandas as pd\n",
    "# path = \"/gorilla4/Dropbox/SCIENCE/FREIWALD_LAB/DATA/DFallpa.pkl\"\n",
    "# path = \"/home/lucas/Dropbox/SCIENCE/FREIWALD_LAB/DATA/Dolnik/DFallpa.pkl\"\n",
    "# path = \"/home/lucas/Dropbox/SCIENCE/FREIWALD_LAB/DATA/Dolnik/DFallpa_2.pkl\" # (tdt) (no norm)\n",
    "# path = \"/home/lucas/Dropbox/SCIENCE/FREIWALD_LAB/DATA/Dolnik/DFallpa_3.pkl\" # (no norm)\n",
    "# path = \"/home/lucas/Dropbox/SCIENCE/FREIWALD_LAB/DATA/Dolnik/DFallpa_4.pkl\" # (tdt)\n",
    "# path = \"/home/lucas/Dropbox/SCIENCE/FREIWALD_LAB/DATA/Dolnik/DFallpa_KS.pkl\" # (kilosort)\n",
    "# path = \"/home/lucas/Dropbox/SCIENCE/FREIWALD_LAB/DATA/Dolnik/DFallpa_KS_nonorm.pkl\" # (kilosort)\n",
    "\n",
    "# Dan: tough decoding, syntax stuff.\n",
    "# path = f\"/home/lucas/Dropbox/SCIENCE/FREIWALD_LAB/DATA/Dolnik/DFallpa-{animal}-{date}-{which_level}-tdt_nonorm.pkl\"\n",
    "\n",
    "# Xuan: Diego, char, good for testing tough shape decoding\n",
    "path = f\"/home/lucas/Dropbox/SCIENCE/FREIWALD_LAB/DATA/Xuan/DFallpa-{animal}-{date}-{which_level}-ks_nonorm.pkl\"\n",
    "\n",
    "pd.to_pickle(DFallpa, path)\n",
    "print(\"Saved to:\", path)"
   ],
   "metadata": {
    "collapsed": false
   },
   "id": "b1374477a19d58e0",
   "execution_count": null
  },
  {
   "cell_type": "markdown",
   "source": [
    "### Save raw data"
   ],
   "metadata": {
    "collapsed": false
   },
   "id": "46750409293a6147"
  },
  {
   "cell_type": "markdown",
   "source": [
    "##### To save DFallPA"
   ],
   "metadata": {
    "collapsed": false
   },
   "id": "cce31a97acdf31a2"
  },
  {
   "cell_type": "code",
   "outputs": [],
   "source": [
    "from neuralmonkey.classes.population_mult import data_extract_raw_and_save\n",
    "# savepath = \"/home/lucas/Dropbox/SCIENCE/FREIWALD_LAB/DATA/Dolnik/DFallpa_KS_nonorm_raw.pkl\"\n",
    "\n",
    "# savepath = f\"/home/lucas/Dropbox/SCIENCE/FREIWALD_LAB/DATA/Dolnik/DFallpa-{animal}-{date}-{which_level}-tdt_nonorm_raw.pkl\"\n",
    "\n",
    "savepath = f\"/home/lucas/Dropbox/SCIENCE/FREIWALD_LAB/DATA/Xuan/DFallpa-{animal}-{date}-{which_level}-ks_nonorm-RAW.pkl\"\n",
    "data_extract_raw_and_save(DFallpa, savepath)\n",
    "# pd.to_pickle(DFallpa, savepath)gm"
   ],
   "metadata": {
    "collapsed": false
   },
   "id": "cc9a6db85918b1f5",
   "execution_count": null
  },
  {
   "cell_type": "code",
   "outputs": [],
   "source": [
    "pa = DFallpa[\"\"]"
   ],
   "metadata": {
    "collapsed": false
   },
   "id": "93b2a66c55282ade"
  },
  {
   "cell_type": "markdown",
   "source": [
    "### LOAD "
   ],
   "metadata": {
    "collapsed": false
   },
   "id": "b1eede763748699a"
  },
  {
   "cell_type": "code",
   "outputs": [],
   "source": [
    "import pandas as pd\n",
    "import matplotlib.pyplot as plt"
   ],
   "metadata": {
    "collapsed": false,
    "ExecuteTime": {
     "end_time": "2024-04-09T18:21:45.497882819Z",
     "start_time": "2024-04-09T18:21:45.491615491Z"
    }
   },
   "id": "10c0254ad8e6cb54",
   "execution_count": 1
  },
  {
   "cell_type": "code",
   "outputs": [],
   "source": [
    "animal = \"Diego\"\n",
    "date = 231211\n",
    "which_level = \"stroke\"\n"
   ],
   "metadata": {
    "collapsed": false,
    "ExecuteTime": {
     "end_time": "2024-04-09T18:21:45.729028237Z",
     "start_time": "2024-04-09T18:21:45.722616390Z"
    }
   },
   "id": "f75544d108fba987",
   "execution_count": 2
  },
  {
   "cell_type": "code",
   "outputs": [],
   "source": [
    "\n",
    "# this is the path to the dataset\n",
    "# path = '/gorilla1/analyses/recordings/main/RSA/Diego-230615/agg_True-subtr_None-dist_euclidian_unbiased/SP_shape_loc/DFallpa.pkl'\n",
    "# path = \"/gorilla4/Dropbox/SCIENCE/FREIWALD_LAB/DATA/for_xuan/DFallpa.pkl\"\n",
    "# path = \"/home/lucas/Dropbox/SCIENCE/FREIWALD_LAB/DATA/DFallpa.pkl\"\n",
    "path = f\"/home/lucas/Dropbox/SCIENCE/FREIWALD_LAB/DATA/Xuan/DFallpa-{animal}-{date}-{which_level}-ks_nonorm.pkl\"\n",
    "path = f\"/home/lucas/Dropbox/SCIENCE/FREIWALD_LAB/DATA/Xuan/DFallpa-{animal}-{date}-{which_level}-ks_nonorm-RAW.pkl\"\n"
   ],
   "metadata": {
    "collapsed": false,
    "ExecuteTime": {
     "end_time": "2024-04-09T18:21:54.676974696Z",
     "start_time": "2024-04-09T18:21:54.668633574Z"
    }
   },
   "id": "b0b9e137ac9e8042",
   "execution_count": 6
  },
  {
   "cell_type": "code",
   "outputs": [],
   "source": [
    "DFallpa = pd.read_pickle(path)\n"
   ],
   "metadata": {
    "collapsed": false,
    "ExecuteTime": {
     "end_time": "2024-04-09T18:21:55.195000453Z",
     "start_time": "2024-04-09T18:21:54.940534014Z"
    }
   },
   "id": "2ecb194a75cbd8ba",
   "execution_count": 7
  },
  {
   "cell_type": "code",
   "outputs": [
    {
     "data": {
      "text/plain": "  which_level      event bregion        twind  \\\n0      stroke  00_stroke    M1_m  (-0.6, 0.6)   \n\n                                DATA_chan_trial_time  \\\n0  [[[17.633346236280556, 15.078240344625849, 12....   \n\n                                               chans  \\\n0  [1001, 1002, 1003, 1005, 1006, 1007, 1008, 100...   \n\n                                               times  \\\n0  [-0.5949999999999999, -0.5850000000000001, -0....   \n\n                                              trials  \\\n0  [0, 1, 2, 3, 4, 5, 6, 7, 8, 9, 10, 11, 12, 13,...   \n\n                                              labels  \n0             index_datapt     trialcode         ...  ",
      "text/html": "<div>\n<style scoped>\n    .dataframe tbody tr th:only-of-type {\n        vertical-align: middle;\n    }\n\n    .dataframe tbody tr th {\n        vertical-align: top;\n    }\n\n    .dataframe thead th {\n        text-align: right;\n    }\n</style>\n<table border=\"1\" class=\"dataframe\">\n  <thead>\n    <tr style=\"text-align: right;\">\n      <th></th>\n      <th>which_level</th>\n      <th>event</th>\n      <th>bregion</th>\n      <th>twind</th>\n      <th>DATA_chan_trial_time</th>\n      <th>chans</th>\n      <th>times</th>\n      <th>trials</th>\n      <th>labels</th>\n    </tr>\n  </thead>\n  <tbody>\n    <tr>\n      <th>0</th>\n      <td>stroke</td>\n      <td>00_stroke</td>\n      <td>M1_m</td>\n      <td>(-0.6, 0.6)</td>\n      <td>[[[17.633346236280556, 15.078240344625849, 12....</td>\n      <td>[1001, 1002, 1003, 1005, 1006, 1007, 1008, 100...</td>\n      <td>[-0.5949999999999999, -0.5850000000000001, -0....</td>\n      <td>[0, 1, 2, 3, 4, 5, 6, 7, 8, 9, 10, 11, 12, 13,...</td>\n      <td>index_datapt     trialcode         ...</td>\n    </tr>\n  </tbody>\n</table>\n</div>"
     },
     "execution_count": 8,
     "metadata": {},
     "output_type": "execute_result"
    }
   ],
   "source": [
    "DFallpa[:1]"
   ],
   "metadata": {
    "collapsed": false,
    "ExecuteTime": {
     "end_time": "2024-04-09T18:22:00.718704385Z",
     "start_time": "2024-04-09T18:22:00.167756513Z"
    }
   },
   "id": "b39ea6e83c3f4cae",
   "execution_count": 8
  },
  {
   "cell_type": "markdown",
   "source": [
    "# Quick look at DFallpa"
   ],
   "metadata": {
    "collapsed": false
   },
   "id": "44bf80ce4940947"
  },
  {
   "cell_type": "code",
   "outputs": [],
   "source": [
    "DFallpa"
   ],
   "metadata": {
    "collapsed": false
   },
   "id": "bd03c0feafaf9291",
   "execution_count": null
  },
  {
   "cell_type": "code",
   "outputs": [],
   "source": [
    "import numpy as np\n",
    "np.stack(DFallpa[\"pa_x_shape\"]).sum(axis=0)"
   ],
   "metadata": {
    "collapsed": false
   },
   "id": "4226fdf534cecd8",
   "execution_count": null
  },
  {
   "cell_type": "code",
   "outputs": [],
   "source": [
    "pa = DFallpa[\"pa\"].values[2]"
   ],
   "metadata": {
    "collapsed": false
   },
   "id": "c4bb66f81c6deaea",
   "execution_count": null
  },
  {
   "cell_type": "code",
   "outputs": [],
   "source": [
    "dflab = pa.Xlabels[\"trials\"]"
   ],
   "metadata": {
    "collapsed": false
   },
   "id": "548d3c403e427c7b",
   "execution_count": null
  },
  {
   "cell_type": "code",
   "outputs": [],
   "source": [
    "dflab[\"stroke_index\"]"
   ],
   "metadata": {
    "collapsed": false
   },
   "id": "55ed6af7a7fd2630",
   "execution_count": null
  },
  {
   "cell_type": "code",
   "outputs": [],
   "source": [
    "dflab[\"taskcat_by_rule\"]"
   ],
   "metadata": {
    "collapsed": false
   },
   "id": "570c8f36e284311a",
   "execution_count": null
  },
  {
   "cell_type": "code",
   "outputs": [],
   "source": [
    "dflab.loc[:, [\"chunk_rank\", \"chunk_within_rank\"]]"
   ],
   "metadata": {
    "collapsed": false
   },
   "id": "35a378888026034c",
   "execution_count": null
  },
  {
   "cell_type": "code",
   "outputs": [],
   "source": [
    "dflab"
   ],
   "metadata": {
    "collapsed": false
   },
   "id": "bc091f35d7e9a6f"
  },
  {
   "cell_type": "markdown",
   "source": [
    "# OTHER STUFF"
   ],
   "metadata": {
    "collapsed": false
   },
   "id": "92d57b645a2cf5f9"
  },
  {
   "cell_type": "code",
   "execution_count": null,
   "outputs": [],
   "source": [
    "# Load a question\n",
    "from neuralmonkey.analyses.rsa import rsagood_questions_dict\n",
    "DictParamsEachQuestion = rsagood_questions_dict(animal, date)\n",
    "q_params = DictParamsEachQuestion[question]\n",
    "print(q_params)"
   ],
   "metadata": {
    "collapsed": false
   },
   "id": "f16c766a83258bf7"
  },
  {
   "cell_type": "code",
   "execution_count": null,
   "outputs": [],
   "source": [
    "# Normalize, etc\n",
    "# Clean up DFallpa\n",
    "from neuralmonkey.analyses.rsa import preprocess_rsa_prepare_popanal_wrapper, popanal_preprocess_scalar_normalization\n",
    "\n",
    "subtract_mean_each_level_of_var = None\n",
    "plot_example_chan = None\n",
    "\n",
    "list_pa =[]\n",
    "list_panorm = []\n",
    "for pa in DFallpa[\"pa\"].tolist():\n",
    "    print(pa.X.shape)\n",
    "    pa, res_check_tasksets, res_check_effectvars = preprocess_rsa_prepare_popanal_wrapper(pa, **q_params)\n",
    "    print(pa.X.shape)\n",
    "\n",
    "    panorm, _, _, _, _, _ = popanal_preprocess_scalar_normalization(pa, q_params[\"effect_vars\"],\n",
    "                                                                                  subtract_mean_each_level_of_var)\n",
    "    \n",
    "    list_pa.append(pa)\n",
    "    list_panorm.append(panorm)\n",
    "    \n",
    "DFallpa[\"pa\"] = list_pa\n",
    "DFallpa[\"pa_norm\"] = list_panorm\n"
   ],
   "metadata": {
    "collapsed": false
   },
   "id": "24b237f105e939e7"
  },
  {
   "cell_type": "markdown",
   "source": [
    "# Load a dataset"
   ],
   "metadata": {
    "collapsed": false
   },
   "id": "2f471c575413735b"
  },
  {
   "cell_type": "markdown",
   "source": [
    "To load and plot a dataset of neural activity across population, in a PopAnal class object.\n"
   ],
   "metadata": {
    "collapsed": false
   },
   "id": "401a9851a443292c"
  },
  {
   "cell_type": "code",
   "execution_count": null,
   "outputs": [],
   "source": [
    "import pandas as pd\n",
    "import matplotlib.pyplot as plt"
   ],
   "metadata": {
    "collapsed": false
   },
   "id": "6d72addf5c1494c2"
  },
  {
   "cell_type": "code",
   "execution_count": null,
   "outputs": [],
   "source": [
    "\n",
    "# this is the path to the dataset\n",
    "# path = '/gorilla1/analyses/recordings/main/RSA/Diego-230615/agg_True-subtr_None-dist_euclidian_unbiased/SP_shape_loc/DFallpa.pkl'\n",
    "# path = \"/gorilla4/Dropbox/SCIENCE/FREIWALD_LAB/DATA/for_xuan/DFallpa.pkl\"\n",
    "# path = \"/home/lucas/Dropbox/SCIENCE/FREIWALD_LAB/DATA/DFallpa.pkl\"\n",
    "path = \"/home/lucas/Dropbox/SCIENCE/FREIWALD_LAB/DATA/Dolnik/DFallpa_raw.pkl\"\n"
   ],
   "metadata": {
    "collapsed": false
   },
   "id": "320be7d5ecbddf5f"
  },
  {
   "cell_type": "code",
   "execution_count": null,
   "outputs": [],
   "source": [
    "DFallpa = pd.read_pickle(path)\n"
   ],
   "metadata": {
    "collapsed": false
   },
   "id": "335e4da034da5b2a"
  },
  {
   "cell_type": "markdown",
   "source": [
    "# EXAMPLE CODE for preprocessing of data"
   ],
   "metadata": {
    "collapsed": false
   },
   "id": "1c611342e89ddcfe"
  },
  {
   "cell_type": "code",
   "execution_count": null,
   "outputs": [],
   "source": [
    "# Get a PA, just for example\n",
    "pa = DFallpa[\"pa\"].values[0]"
   ],
   "metadata": {
    "collapsed": false
   },
   "id": "e1efac77afface65"
  },
  {
   "cell_type": "code",
   "execution_count": null,
   "outputs": [],
   "source": [
    "# 1. First slice to time winodw, then take mean over time, i.e. a single time average\n",
    "twind = (0.1, 0.5)\n",
    "pa_sliced = pa.slice_by_dim_values_wrapper(\"times\", twind)\n",
    "pa_mean = pa_sliced.agg_wrapper(\"times\")\n",
    "\n",
    "print(\"Compare and see that times are binned\")\n",
    "print(\"-- original:\", pa.Times, \"... data shape: \", pa.X.shape)\n",
    "print(\"-- sliced:\", pa_sliced.Times, \"... data shape: \", pa_sliced.X.shape)\n",
    "print(\"-- mean:\", pa_mean.Times, \"... data shape: \", pa_mean.X.shape)\n"
   ],
   "metadata": {
    "collapsed": false
   },
   "id": "5e9cf7dd29b888af"
  },
  {
   "cell_type": "code",
   "execution_count": null,
   "outputs": [],
   "source": [
    "# 2. binning time windows\n",
    "binsize = 0.1\n",
    "binslide = 0.02\n",
    "pa_binned = pa.agg_by_time_windows_binned(binsize, binslide)\n",
    "    \n",
    "print(\"Compare and see that times are binned\")\n",
    "print(\"-- original:\", pa.Times, \"... data shape: \", pa.X.shape)\n",
    "print(\"-- sliced:\", pa_binned.Times, \"... data shape: \", pa_binned.X.shape)\n"
   ],
   "metadata": {
    "collapsed": false
   },
   "id": "f0878cda38dbc99b"
  },
  {
   "cell_type": "markdown",
   "source": [
    "# Code example for benchmarking: decoding shapes"
   ],
   "metadata": {
    "collapsed": false
   },
   "id": "93edebd6e38ce91"
  },
  {
   "cell_type": "markdown",
   "source": [
    "This step takes in a representation of neural data and outputs a scalar score for how well you can decode \"shape\" from that data\n",
    "\n",
    "Here, this example is using the raw data (dimensionality = number of channels). The goal is to use methods to reduce the dimensionality of this data, each time running through this decoding benchmark, to compare the different methods"
   ],
   "metadata": {
    "collapsed": false
   },
   "id": "488ff1ca66a8098f"
  },
  {
   "cell_type": "markdown",
   "source": [
    "##### First, pull out a specific PA. (just an example)"
   ],
   "metadata": {
    "collapsed": false
   },
   "id": "32c025e2bfc54ebe"
  },
  {
   "cell_type": "markdown",
   "source": [
    "NOTE: tjhis is just for demonstration. Eventually you will want to loop thru all PA, scoring them all"
   ],
   "metadata": {
    "collapsed": false
   },
   "id": "9bb74aab4a961bd2"
  },
  {
   "cell_type": "code",
   "execution_count": null,
   "outputs": [],
   "source": [
    "DFallpa"
   ],
   "metadata": {
    "collapsed": false
   },
   "id": "12055ebea89919ad"
  },
  {
   "cell_type": "code",
   "execution_count": null,
   "outputs": [],
   "source": [
    "def extract_single_pa(DFallpa, bregion, twind):\n",
    "    which_level = \"trial\"\n",
    "    event = \"03_samp\"\n",
    "\n",
    "    a = DFallpa[\"which_level\"]==which_level\n",
    "    b = DFallpa[\"event\"]==event\n",
    "    c = DFallpa[\"bregion\"]==bregion\n",
    "    d = DFallpa[\"twind\"]==twind\n",
    "    \n",
    "    tmp = DFallpa[a & b & c & d]\n",
    "    assert len(tmp)==1\n",
    "    pa = tmp[\"pa\"].values[0]\n",
    "    \n",
    "    return pa\n",
    "    "
   ],
   "metadata": {
    "collapsed": false
   },
   "id": "10bc2b4059ed05b5"
  },
  {
   "cell_type": "code",
   "execution_count": null,
   "outputs": [],
   "source": [
    "### PARAMS\n",
    "bregion = \"PMv\"\n",
    "twind = (-0.4, 0.6)\n",
    "\n",
    "### RUN\n",
    "pa = extract_single_pa(DFallpa, bregion, twind)\n",
    "\n",
    "nchans = pa.X.shape[0]\n",
    "ntrials = pa.X.shape[1]\n",
    "ntimes = pa.X.shape[2]\n",
    "\n",
    "print(\"Shape of this dataset (chans, trials, times):\", nchans, ntrials, ntimes)\n",
    "print(\"Data is stored in pa.X: \", pa.X.shape)"
   ],
   "metadata": {
    "collapsed": false
   },
   "id": "133efbcda306a086"
  },
  {
   "cell_type": "markdown",
   "source": [
    "##### Finally, extract the data that goes into the decoder"
   ],
   "metadata": {
    "collapsed": false
   },
   "id": "8e0f1f1c709a0350"
  },
  {
   "cell_type": "markdown",
   "source": [
    "Extract activity wthin a specific time bin. Eventualy, you would want to test all time bins."
   ],
   "metadata": {
    "collapsed": false
   },
   "id": "a940c9919dde1ab9"
  },
  {
   "cell_type": "code",
   "execution_count": null,
   "outputs": [],
   "source": [
    "tbin = 0\n",
    "X = pa.X[:, :, tbin].T # (ntrials, nchans)\n",
    "print(X.shape)"
   ],
   "metadata": {
    "collapsed": false
   },
   "id": "f47393c036460dde"
  },
  {
   "cell_type": "markdown",
   "source": [
    "The variable you are trying to decode/predict is the shape on each trial."
   ],
   "metadata": {
    "collapsed": false
   },
   "id": "d45248c173e29412"
  },
  {
   "cell_type": "code",
   "execution_count": null,
   "outputs": [],
   "source": [
    "var = \"seqc_0_shape\"\n",
    "shapes = pa.Xlabels[\"trials\"][var].tolist()\n",
    "\n",
    "print(shapes[:5])\n",
    "print(len(shapes))"
   ],
   "metadata": {
    "collapsed": false
   },
   "id": "d410d731dc1c4a76"
  },
  {
   "cell_type": "markdown",
   "source": [
    "##### Train and test decoder"
   ],
   "metadata": {
    "collapsed": false
   },
   "id": "d41098effe97315a"
  },
  {
   "cell_type": "markdown",
   "source": [
    "This is using a helper function I wrote (_model_fit) but you should go into the code to know how it works"
   ],
   "metadata": {
    "collapsed": false
   },
   "id": "f841de3e24cf66a7"
  },
  {
   "cell_type": "code",
   "execution_count": null,
   "outputs": [],
   "source": [
    "from neuralmonkey.population.classify import _model_fit\n",
    "\n",
    "model_params_optimal = {\"C\":0.01} # optimized regularization params\n",
    "pipe, score = _model_fit(X, shapes, model_params=model_params_optimal, do_center=True, do_std=False)\n",
    "\n",
    "print(\"Model score (prediction accuracy on held-out test data):\", score)"
   ],
   "metadata": {
    "collapsed": false
   },
   "id": "d0f130fe013e7376"
  },
  {
   "cell_type": "code",
   "execution_count": null,
   "outputs": [],
   "source": [
    "print(\"Expected score if guessing = \", 1/len(set(shapes)))"
   ],
   "metadata": {
    "collapsed": false
   },
   "id": "dfbccd7ffd9efbc1"
  },
  {
   "cell_type": "code",
   "execution_count": null,
   "outputs": [],
   "source": [
    "PAnorm.plotNeurHeat(0)"
   ],
   "metadata": {
    "collapsed": false
   },
   "id": "546b8760158c0839"
  },
  {
   "cell_type": "code",
   "execution_count": null,
   "outputs": [],
   "source": [
    "pa.plotNeurHeat(0)"
   ],
   "metadata": {
    "collapsed": false
   },
   "id": "d1c442be99e39285"
  },
  {
   "cell_type": "markdown",
   "source": [
    "# LT added 2/15/24"
   ],
   "metadata": {
    "collapsed": false
   },
   "id": "859a87e32641a98e"
  },
  {
   "cell_type": "markdown",
   "source": [
    "## 1) Make sure to normalize PA before running any modeling on it:"
   ],
   "metadata": {
    "collapsed": false
   },
   "id": "583a1e729ac08b30"
  },
  {
   "cell_type": "code",
   "execution_count": null,
   "outputs": [],
   "source": [
    "list_panorm = []\n",
    "for pa in DFallpa[\"pa\"].tolist():\n",
    "    from neuralmonkey.analyses.state_space_good import popanal_preprocess_scalar_normalization\n",
    "    PAnorm, PAscal, PAscalagg, fig, axes, groupdict = popanal_preprocess_scalar_normalization(pa, None, DO_AGG_TRIALS=False)\n",
    "    list_panorm.append(PAnorm)\n",
    "DFallpa[\"pa\"] = list_panorm\n",
    "del DFallpa[\"pa_norm\"]"
   ],
   "metadata": {
    "collapsed": false
   },
   "id": "854db14b65f6c377"
  },
  {
   "cell_type": "markdown",
   "source": [
    "## 2) Code to plot neural trajectories in lower dimensions, colored and split by variables of interest"
   ],
   "metadata": {
    "collapsed": false
   },
   "id": "ee2fcd8653de5fba"
  },
  {
   "cell_type": "code",
   "execution_count": null,
   "outputs": [],
   "source": [
    "from neuralmonkey.analyses.state_space_good import trajgood_construct_df_from_raw, trajgood_plot_colorby_splotby\n",
    "\n",
    "# Plot an example brain region's data.\n",
    "bregion = \"PMv\"\n",
    "twind = (-0.4, 0.6)\n",
    "pa = extract_single_pa(DFallpa, bregion, twind)\n",
    "\n",
    "# INPUT PARAMS\n",
    "var_color_by = \"seqc_0_shape\"\n",
    "var_subplots = \"seqc_0_loc\"\n",
    "\n",
    "# Runs\n",
    "\n",
    "# 1) Construct dataframe\n",
    "# df = pa.dataextract_split_by_label_grp_for_statespace(grpvars)\n",
    "grpvars = [var_color_by, var_subplots]\n",
    "X = pa.X # (chans, trials, times)\n",
    "labels = pa.Xlabels[\"trials\"].loc[:, grpvars] \n",
    "labelvars = grpvars\n",
    "df = trajgood_construct_df_from_raw(X, pa.Times, labels, labelvars)\n",
    "\n",
    "# 2) Plot\n",
    "dims = (2,3) # pairs of dimensions to plot\n",
    "times_to_mark = [0.] # you can mark specific times on the plot. here marks the 0. sec mark.\n",
    "times_to_mark_markers = [\"d\"] # mark with a diamond (\"d\")\n",
    "time_bin_size = 0.05 # to make plot easier to visaulize, you can bin in time.\n",
    "trajgood_plot_colorby_splotby(df, var_color_by, var_subplots, dims, \"traj\", mean_over_trials=True,\n",
    "                              times_to_mark = times_to_mark, times_to_mark_markers = times_to_mark_markers,\n",
    "                              time_bin_size=time_bin_size)"
   ],
   "metadata": {
    "collapsed": false
   },
   "id": "96ec6f937ed0a2e1"
  },
  {
   "cell_type": "code",
   "execution_count": null,
   "outputs": [],
   "source": [
    "plt.show()"
   ],
   "metadata": {
    "collapsed": false
   },
   "id": "1df63db52ea86bdd"
  },
  {
   "cell_type": "code",
   "execution_count": null,
   "outputs": [],
   "source": [
    "# Same, but coloring by location\n",
    "\n",
    "var_color_by = \"seqc_0_loc\"\n",
    "var_subplots = \"seqc_0_shape\"\n",
    "\n",
    "# 1) Construct dataframe\n",
    "# df = pa.dataextract_split_by_label_grp_for_statespace(grpvars)\n",
    "grpvars = [var_color_by, var_subplots]\n",
    "X = pa.X # (chans, trials, times)\n",
    "labels = pa.Xlabels[\"trials\"].loc[:, grpvars] \n",
    "labelvars = grpvars\n",
    "df = trajgood_construct_df_from_raw(X, pa.Times, labels, labelvars)\n",
    "\n",
    "# 2) Plot\n",
    "dims = (0,1) # pairs of dimensions to plot\n",
    "times_to_mark = [0.] # you can mark specific times on the plot. here marks the 0. sec mark.\n",
    "times_to_mark_markers = [\"d\"] # mark with a diamond (\"d\")\n",
    "time_bin_size = 0.1 # to make plot easier to visaulize, you can bin in time.\n",
    "trajgood_plot_colorby_splotby(df, var_color_by, var_subplots, dims, \"traj\", mean_over_trials=True,\n",
    "                              times_to_mark = times_to_mark, times_to_mark_markers = times_to_mark_markers,\n",
    "                              time_bin_size=time_bin_size)"
   ],
   "metadata": {
    "collapsed": false
   },
   "id": "94ca5a794289beed"
  },
  {
   "cell_type": "markdown",
   "source": [
    "##### 3D interactive plot"
   ],
   "metadata": {
    "collapsed": false
   },
   "id": "2f66826a9743adf8"
  },
  {
   "cell_type": "code",
   "execution_count": null,
   "outputs": [],
   "source": [
    "import numpy as np\n",
    "np.stack(df[\"z\"].tolist()).shape"
   ],
   "metadata": {
    "collapsed": false
   },
   "id": "f8aae11b54b0163"
  },
  {
   "cell_type": "code",
   "execution_count": null,
   "outputs": [],
   "source": [
    "df[\"z\"].values[-1].shape"
   ],
   "metadata": {
    "collapsed": false
   },
   "id": "d387d7e092cc0f01"
  },
  {
   "cell_type": "code",
   "execution_count": null,
   "outputs": [],
   "source": [
    "Xall = df[\"z\"].values[0] # (nchan, ntrials, ntimes)\n",
    "X = Xall[:, 0, :]"
   ],
   "metadata": {
    "collapsed": false
   },
   "id": "6d7204ea76ae54ac"
  },
  {
   "cell_type": "code",
   "execution_count": null,
   "outputs": [],
   "source": [
    "pcol = \"k\""
   ],
   "metadata": {
    "collapsed": false
   },
   "id": "9e3cdf0e50b05405"
  },
  {
   "cell_type": "code",
   "execution_count": null,
   "outputs": [],
   "source": [
    "import matplotlib \n",
    "# matplotlib.use('Qt5Agg') \n",
    "matplotlib.use(\"nbagg\")\n",
    "import matplotlib.pyplot as plt"
   ],
   "metadata": {
    "collapsed": false
   },
   "id": "4cec5d1037b97f95"
  },
  {
   "cell_type": "code",
   "execution_count": null,
   "outputs": [],
   "source": [
    "# %matplotlib notebook\n",
    "matplotlib.use('Qt5Agg')\n",
    "\n",
    "fig = plt.figure(figsize=(3,3))\n",
    "# ax = fig.gca(projection='3d')\n",
    "ax = plt.axes(projection=\"3d\")\n",
    "\n",
    "\n",
    "ax.plot(X[0,:], X[1,:], X[2,:], \"-o\", color=pcol, alpha=0.4)\n",
    "ax.plot(X[0,-1], X[1,-1], X[2,-1], \"-s\", mfc=\"w\", color=pcol, alpha=0.4)\n",
    "ax.plot(X[0, 0], X[1,0], X[2,0], \"-c\", mfc=\"w\", color=pcol, alpha=0.4)\n",
    "\n",
    "ax.view_init(50, -60)\n",
    "\n",
    "ax.set_xlabel(f\"dim 0\")\n",
    "ax.set_ylabel(f\"dim 1\")\n",
    "ax.set_zlabel(f\"dim 2\")\n",
    "\n",
    "plt.ylabel('some numbers')\n",
    "plt.show()"
   ],
   "metadata": {
    "collapsed": false
   },
   "id": "e8d15ff9a293194a"
  },
  {
   "cell_type": "code",
   "execution_count": null,
   "outputs": [],
   "source": [
    "import matplotlib.pyplot as plt\n",
    "matplotlib.use('Qt5Agg')\n",
    "plt.style.use('default')\n",
    "plt.plot([1,2,3,4])\n",
    "plt.ylabel('some numbers')\n",
    "plt.show()"
   ],
   "metadata": {
    "collapsed": false
   },
   "id": "1e8b6d9e7dcd9e75"
  },
  {
   "cell_type": "code",
   "execution_count": null,
   "outputs": [],
   "source": [
    "import matplotlib\n",
    "matplotlib.matplotlib_fname()"
   ],
   "metadata": {
    "collapsed": false
   },
   "id": "bf11542730a122e6"
  },
  {
   "cell_type": "code",
   "execution_count": null,
   "outputs": [],
   "source": [
    "matplotlib.use('Qt5Agg')\n",
    "matplotlib.get_backend()"
   ],
   "metadata": {
    "collapsed": false
   },
   "id": "1919eede4182c3b9"
  },
  {
   "cell_type": "markdown",
   "source": [
    "##### Plot single trials (this plots one example trial per condition)"
   ],
   "metadata": {
    "collapsed": false
   },
   "id": "e2741b51ea37b7d9"
  },
  {
   "cell_type": "code",
   "execution_count": null,
   "outputs": [],
   "source": [
    "# INPUT PARAMS\n",
    "var_color_by = \"seqc_0_shape\"\n",
    "var_subplots = \"seqc_0_loc\"\n",
    "\n",
    "# Runs\n",
    "\n",
    "# 1) Construct dataframe\n",
    "# df = pa.dataextract_split_by_label_grp_for_statespace(grpvars)\n",
    "grpvars = [var_color_by, var_subplots]\n",
    "X = pa.X # (chans, trials, times)\n",
    "labels = pa.Xlabels[\"trials\"].loc[:, grpvars] \n",
    "labelvars = grpvars\n",
    "df = trajgood_construct_df_from_raw(X, pa.Times, labels, labelvars)\n",
    "\n",
    "# 2) Plot\n",
    "dims = (0,1) # pairs of dimensions to plot\n",
    "times_to_mark = None # you can mark specific times on the plot. here marks the 0. sec mark.\n",
    "times_to_mark_markers = None # mark with a diamond (\"d\")\n",
    "time_bin_size = 0.05 # to make plot easier to visaulize, you can bin in time.\n",
    "\n",
    "# plot a few times, each picking a random trial\n",
    "niter = 3\n",
    "mean_over_trials = False\n",
    "ntrials = 1\n",
    "for _ in range(niter):\n",
    "    trajgood_plot_colorby_splotby(df, var_color_by, var_subplots, dims, \"traj\", mean_over_trials=mean_over_trials,\n",
    "                                  times_to_mark = times_to_mark, times_to_mark_markers = times_to_mark_markers,\n",
    "                                  time_bin_size=time_bin_size, ntrials = ntrials)"
   ],
   "metadata": {
    "collapsed": false
   },
   "id": "f2b1ddfc91a21a4d"
  },
  {
   "cell_type": "markdown",
   "source": [
    "## 3) Score and plot decoding accuracy"
   ],
   "metadata": {
    "collapsed": false
   },
   "id": "36745f908f0c7fd6"
  },
  {
   "cell_type": "markdown",
   "source": [
    "1. Try different methods for dim reduction of X. In all cases, if X is shape (nchans, ntrials, ntimes), dim reduction should return Xreduced of shape (ndim, ntrials, ntimes) where ndim < nchans\n",
    "2. For the benchmark decoder, you want to score looping through each bregion, twind, and tbin. i.e, see below"
   ],
   "metadata": {
    "collapsed": false
   },
   "id": "b474a9d2c5bdd543"
  },
  {
   "cell_type": "code",
   "execution_count": null,
   "outputs": [],
   "source": [
    "list_dim_reduction_methods = [\"pca\", \"CEBRA\"] # FILL THIS IN"
   ],
   "metadata": {
    "collapsed": false
   },
   "id": "f100be2757cd7241"
  },
  {
   "cell_type": "code",
   "execution_count": null,
   "outputs": [],
   "source": [
    "HACK = True # quickly run to see what it's like, without any dim reduction methods\n",
    "\n",
    "if HACK:\n",
    "    list_dim_reduction_methods = [\"IGNORE\"]"
   ],
   "metadata": {
    "collapsed": false
   },
   "id": "55368324b366ebf"
  },
  {
   "cell_type": "code",
   "execution_count": null,
   "outputs": [],
   "source": [
    "def compute_decode_score(x, labels, max_nsplits=5):\n",
    "    \"\"\"\n",
    "    Score decoding accuracy\n",
    "    \"\"\"\n",
    "    from neuralmonkey.analyses.decode_good import decode_categorical_wrapper\n",
    "    from neuralmonkey.population.classify import _model_fit\n",
    "    import numpy as np\n",
    "    \n",
    "    assert x.shape[0]==len(labels)\n",
    "    assert len(x.shape)==2\n",
    "    \n",
    "    res = decode_categorical_wrapper(Xreduced_this_time_bin, labels, 3, max_nsplits=max_nsplits)\n",
    "    # get mean score across splits\n",
    "    return np.mean([r[\"score_xval\"] for r in res])\n",
    "    "
   ],
   "metadata": {
    "collapsed": false
   },
   "id": "b20567b062de7ebe"
  },
  {
   "cell_type": "code",
   "execution_count": null,
   "outputs": [],
   "source": [
    "from neuralmonkey.utils.frmat import bin_frmat_in_time\n"
   ],
   "metadata": {
    "collapsed": false
   },
   "id": "e9af95e288e0b3cb"
  },
  {
   "cell_type": "code",
   "execution_count": null,
   "outputs": [],
   "source": [
    "list_br = DFallpa[\"bregion\"].unique().tolist()\n",
    "list_tw = DFallpa[\"twind\"].unique().tolist()\n",
    "\n",
    "res = []\n",
    "\n",
    "list_vars_decode = [\"seqc_0_shape\", \"seqc_0_loc\"]\n",
    "\n",
    "for br in list_br:\n",
    "    for tw in list_tw:\n",
    "        # 1. Extract the specific pa for this (br, tw)\n",
    "        pa = extract_single_pa(DFallpa, br, tw)\n",
    "        \n",
    "        # 2. Extract X from pa\n",
    "        X = pa.X # (nchans, ntrials, ntimes)\n",
    "        times = pa.Times\n",
    "        \n",
    "        # Optionally, bin X in time, to have fewer time bins to decode\n",
    "        X, times = bin_frmat_in_time(X, times, time_bin_size=0.1, slide=0.02)\n",
    "\n",
    "        list_tbin = range(X.shape[2])\n",
    "        for method in list_dim_reduction_methods:\n",
    "            print(br, tw, method)\n",
    "            # 2. Apply this method to pa\n",
    "            if HACK:\n",
    "                Xreduced = X\n",
    "            else:\n",
    "                Xreduced = dim_reduce(X, method) # FILL THIS IN\n",
    "            \n",
    "            for tbin in list_tbin:\n",
    "                # 3a. Extract data for this time bin\n",
    "                Xreduced_this_time_bin = Xreduced[:, :, tbin].T # (ntrials, nchans)                    \n",
    "    \n",
    "                # 3. Run decoder\n",
    "                for var_decode in list_vars_decode:\n",
    "                    # labels = pa.Xlabels[\"trials\"][var_decode].tolist()\n",
    "                    labels = pd.factorize(pa.Xlabels[\"trials\"][var_decode])[0]\n",
    "                    score = compute_decode_score(Xreduced_this_time_bin, labels) # FILL THIS IN\n",
    "                    \n",
    "                    # 3. Collect data\n",
    "                    res.append({\n",
    "                        \"method\":method,\n",
    "                        \"bregion\":br,\n",
    "                        \"twind\":tw,\n",
    "                        \"tbin\":tbin,\n",
    "                        \"time\":times[tbin],\n",
    "                        \"var_decode\":var_decode,\n",
    "                        \"score\":score\n",
    "                    })\n",
    "\n",
    "dfres = pd.DataFrame(res)\n",
    "     "
   ],
   "metadata": {
    "collapsed": false
   },
   "id": "843192c847a11dc6"
  },
  {
   "cell_type": "code",
   "execution_count": null,
   "outputs": [],
   "source": [
    "dfres[:5]"
   ],
   "metadata": {
    "collapsed": false
   },
   "id": "3369eb81dbf45778"
  },
  {
   "cell_type": "code",
   "execution_count": null,
   "outputs": [],
   "source": [
    "%matplotlib inline\n",
    "##### Plot the results, comparing score across methods!!\n",
    "import seaborn as sns\n",
    "fig = sns.relplot(data=dfres, x=\"time\", y=\"score\", hue=\"bregion\", col=\"var_decode\", row=\"method\", kind=\"line\")\n",
    "\n"
   ],
   "metadata": {
    "collapsed": false
   },
   "id": "b85e7da96e759fd0"
  },
  {
   "cell_type": "markdown",
   "source": [
    "# 4) Cross-condition decoding"
   ],
   "metadata": {
    "collapsed": false
   },
   "id": "98ec3d6e76bf4ebb"
  },
  {
   "cell_type": "code",
   "execution_count": null,
   "outputs": [],
   "source": [
    "from neuralmonkey.analyses.decode_good import decode_train, decode_categorical_cross_condition_wrapper\n",
    "\n"
   ],
   "metadata": {
    "collapsed": false
   },
   "id": "e78860e2ab19f58f"
  },
  {
   "cell_type": "code",
   "execution_count": null,
   "outputs": [],
   "source": [
    "# PARAMS\n",
    "subtract_mean_vars_conj = True # WHether to normalize by sutbracting mean within each level of othervar...\n",
    "list_var_decode = [\"seqc_0_shape\", \"seqc_0_loc\"][::-1]\n",
    "list_vars_conj = [\n",
    "    [\"seqc_0_loc\"],\n",
    "    [\"seqc_0_shape\"]][::-1]\n",
    "\n",
    "# RUns\n",
    "list_br = DFallpa[\"bregion\"].unique().tolist()\n",
    "list_tw = DFallpa[\"twind\"].unique().tolist()\n",
    "    \n",
    "res = []\n",
    "for br in list_br:\n",
    "    for tw in list_tw:\n",
    "        for var_decode, vars_conj_condition in zip(list_var_decode, list_vars_conj):\n",
    "            \n",
    "            # 1. Extract the specific pa for this (br, tw)\n",
    "            pa = extract_single_pa(DFallpa, br, tw).copy()\n",
    "            \n",
    "            if subtract_mean_vars_conj:\n",
    "                pa = pa.norm_by_label_subtract_mean(\"trials\", vars_conj_condition)\n",
    "    \n",
    "            # 2. Extract X from pa\n",
    "            X = pa.X # (nchans, ntrials, ntimes)\n",
    "            times = pa.Times\n",
    "            \n",
    "            # Optionally, bin X in time, to have fewer time bins to decode\n",
    "            X, times = bin_frmat_in_time(X, times, time_bin_size=0.1, slide=0.02)\n",
    "    \n",
    "            list_tbin = range(X.shape[2])\n",
    "            for method in list_dim_reduction_methods:\n",
    "                print(br, tw, method)\n",
    "                # 2. Apply this method to pa\n",
    "                if HACK:\n",
    "                    Xreduced = X\n",
    "                else:\n",
    "                    Xreduced = dim_reduce(X, method) # FILL THIS IN\n",
    "                \n",
    "                for tbin in list_tbin:\n",
    "                    \n",
    "                    Xscal = Xreduced[:, :, tbin].T # (ntrials, nchans)\n",
    "                    dflab = pa.Xlabels[\"trials\"]\n",
    "                    \n",
    "                    \n",
    "                    dfresthis, dfres_agg = decode_categorical_cross_condition_wrapper(Xscal, dflab, var_decode, vars_conj_condition, do_std=False)\n",
    "                    assert len(dfres_agg)==1\n",
    "                    \n",
    "                    # 3. Collect data\n",
    "                    res.append({\n",
    "                        \"method\":method,\n",
    "                        \"bregion\":br,\n",
    "                        \"twind\":tw,\n",
    "                        \"tbin\":tbin,\n",
    "                        \"time\":times[tbin],\n",
    "                        \"var_decode\":var_decode,\n",
    "                        \"vars_conj_condition\":tuple(vars_conj_condition),\n",
    "                        \"score\":dfres_agg[\"score\"].values[0],\n",
    "                        \"score_adjusted\":dfres_agg[\"score_adjusted\"].values[0],\n",
    "                    })\n",
    "\n",
    "DFRES = pd.DataFrame(res)\n",
    "     \n",
    "     "
   ],
   "metadata": {
    "collapsed": false
   },
   "id": "ea62377c46cf112b"
  },
  {
   "cell_type": "code",
   "execution_count": null,
   "outputs": [],
   "source": [
    "DFRES[:5]"
   ],
   "metadata": {
    "collapsed": false
   },
   "id": "85a8f0096d6d8954"
  },
  {
   "cell_type": "code",
   "execution_count": null,
   "outputs": [],
   "source": [
    "##### Plot the results, comparing score across methods!!\n",
    "%matplotlib inline\n",
    "import seaborn as sns\n",
    "fig = sns.relplot(data=DFRES, x=\"time\", y=\"score\", hue=\"bregion\", col=\"var_decode\", row=\"method\", kind=\"line\")\n",
    "\n"
   ],
   "metadata": {
    "collapsed": false
   },
   "id": "7b224d0e6754d9fd"
  }
 ],
 "metadata": {
  "kernelspec": {
   "display_name": "Python 3",
   "language": "python",
   "name": "python3"
  },
  "language_info": {
   "codemirror_mode": {
    "name": "ipython",
    "version": 2
   },
   "file_extension": ".py",
   "mimetype": "text/x-python",
   "name": "python",
   "nbconvert_exporter": "python",
   "pygments_lexer": "ipython2",
   "version": "2.7.6"
  }
 },
 "nbformat": 4,
 "nbformat_minor": 5
}
