{
 "cells": [
  {
   "cell_type": "code",
   "outputs": [],
   "source": [
    "%load_ext autoreload\n",
    "%autoreload 2\n"
   ],
   "metadata": {
    "collapsed": false,
    "ExecuteTime": {
     "end_time": "2024-04-10T22:42:08.241418792Z",
     "start_time": "2024-04-10T22:42:08.232244854Z"
    }
   },
   "id": "80363f2223569667",
   "execution_count": 1
  },
  {
   "cell_type": "markdown",
   "source": [
    "# Extracting a dataset preprocessed and ready for decoding (and other population analyses)"
   ],
   "metadata": {
    "collapsed": false
   },
   "id": "6b19797efdaef85a"
  },
  {
   "cell_type": "markdown",
   "source": [
    "### OR load a presaved DFallpa"
   ],
   "metadata": {
    "collapsed": false
   },
   "id": "4227c95746dc93aa"
  },
  {
   "cell_type": "code",
   "outputs": [],
   "source": [
    "import pandas as pd\n",
    "path = f\"/home/lucas/Dropbox/SCIENCE/FREIWALD_LAB/DATA/DFallpa_Diego_230929_RULE_BASE_stroke.pkl\"\n",
    "DFallpa = pd.read_pickle(path)"
   ],
   "metadata": {
    "collapsed": false,
    "ExecuteTime": {
     "end_time": "2024-04-10T22:42:20.630317409Z",
     "start_time": "2024-04-10T22:42:18.362388139Z"
    }
   },
   "id": "29ad5e9eda5206b5",
   "execution_count": 3
  },
  {
   "cell_type": "markdown",
   "source": [
    "# NEW MODULATION SCORE EUCLIDIAN"
   ],
   "metadata": {
    "collapsed": false
   },
   "id": "936b9ced1f143286"
  },
  {
   "cell_type": "code",
   "outputs": [],
   "source": [
    "SAVEDIR_ANALYSIS = \"/tmp\"\n",
    "import matplotlib.pyplot as plt\n",
    "import os\n",
    "import pandas as pd"
   ],
   "metadata": {
    "collapsed": false,
    "ExecuteTime": {
     "end_time": "2024-04-10T22:42:49.118438654Z",
     "start_time": "2024-04-10T22:42:49.076738366Z"
    }
   },
   "id": "4b7e94c9e384c1fb",
   "execution_count": 4
  },
  {
   "cell_type": "code",
   "outputs": [],
   "source": [
    "# Plot only a subset of regions\n",
    "bregions_plot = [\"PMd_a\", \"preSMA_a\"]\n",
    "\n",
    "# Or plot all regions\n",
    "# bregions_plot = None # TO plot all\n"
   ],
   "metadata": {
    "collapsed": false,
    "ExecuteTime": {
     "end_time": "2024-04-10T22:44:16.165747719Z",
     "start_time": "2024-04-10T22:44:16.156568776Z"
    }
   },
   "id": "99c08bb4efa0f1ec",
   "execution_count": 9
  },
  {
   "cell_type": "markdown",
   "source": [
    "### Get variables"
   ],
   "metadata": {
    "collapsed": false
   },
   "id": "725709f705f3ad5a"
  },
  {
   "cell_type": "code",
   "outputs": [
    {
     "name": "stdout",
     "output_type": "stream",
     "text": [
      "... testing:  RULE_ROWCOL_STROKE\n",
      "... testing:  RULE_DIR_STROKE\n",
      "... testing:  RULE_ANBMCK_STROKE\n",
      "... testing:  RULESW_ANBMCK_DIR_STROKE\n",
      "... testing:  RULE_COLRANK_STROKE\n",
      "... testing:  RULESW_ANBMCK_COLRANK_STROKE\n",
      "PAssed all tests!\n"
     ]
    }
   ],
   "source": [
    "# Method 1 - saved\n",
    "from neuralmonkey.metadat.analy.anova_params import params_getter_euclidian_vars\n",
    "\n",
    "question = \"RULESW_ANBMCK_DIR_STROKE\"\n",
    "question = None\n",
    "LIST_VAR, LIST_VARS_OTHERS, LIST_CONTEXT, LIST_PRUNE_MIN_N_LEVS, LIST_FILTDICT = params_getter_euclidian_vars(question)"
   ],
   "metadata": {
    "collapsed": false,
    "ExecuteTime": {
     "end_time": "2024-04-10T22:44:16.538693896Z",
     "start_time": "2024-04-10T22:44:16.527017777Z"
    }
   },
   "id": "bce1d3f83a546650",
   "execution_count": 10
  },
  {
   "cell_type": "code",
   "outputs": [],
   "source": [
    "# Method 2 - hand enter (for testing)\n",
    "\n",
    "# Variable of effect\n",
    "LIST_VAR = [\n",
    "    \"stroke_index\", # preSMA reflect stroke index no matter the shape\n",
    "]\n",
    "\n",
    "# Varaibles to condition on\n",
    "LIST_VARS_OTHERS = [\n",
    "    [\"epoch\", \"shape\"], # .\n",
    "    ]\n",
    "\n",
    "# For purposes of testing generalization acros contexts. Leave as None to skip\n",
    "# LIST_CONTEXT = [\n",
    "#     {\"same\":[\"epoch\"], \"diff\":[\"shape\"]},\n",
    "# ]\n",
    "LIST_CONTEXT = [\n",
    "    None\n",
    "]\n",
    "\n",
    "# N min levels needed to keep contexts\n",
    "LIST_PRUNE_MIN_N_LEVS = [\n",
    "    2 for _ in range(len(LIST_VAR))\n",
    "]\n",
    "\n",
    "# Optional: filter data (throw out trials that fail filter)\n",
    "LIST_FILTDICT = [\n",
    "    None\n",
    "]\n",
    "# LIST_FILTDICT = [\n",
    "#     {\"stroke_index\": list(range(1, 10, 1))},\n",
    "# ]\n"
   ],
   "metadata": {
    "collapsed": false,
    "ExecuteTime": {
     "end_time": "2024-04-10T22:47:18.726670281Z",
     "start_time": "2024-04-10T22:47:18.680621254Z"
    }
   },
   "id": "ce2cbee75f33de09",
   "execution_count": 25
  },
  {
   "cell_type": "code",
   "outputs": [
    {
     "name": "stdout",
     "output_type": "stream",
     "text": [
      "UMAP, Using this n_neighbors: 40 , nsamp = 2082\n",
      "DIST_NULL_50 2.816599328191034\n",
      "DIST_NULL_95 5.390514893211162\n",
      "DIST_NULL_98 5.875625654669852\n",
      "RUNNING:  0 stroke_index  --  ['epoch', 'shape']\n",
      "  Pruning for this var adn conjunction. Original length: 2082 , pruned length: 2082\n",
      "  Final Scalar data (trial, dims): (2082, 2)\n",
      "fig: /tmp/PMd_a/color=stroke_index-sub=epoch|shape-dims=(0, 1)-0.pdf\n",
      "Saving ...  /tmp/PMd_a/color=stroke_index-sub=epoch|shape-dims=(0, 1)-0.pdf\n",
      "UMAP, Using this n_neighbors: 40 , nsamp = 2082\n",
      "DIST_NULL_50 3.158915345638853\n",
      "DIST_NULL_95 6.7598049509793485\n",
      "DIST_NULL_98 7.332680600460303\n",
      "RUNNING:  0 stroke_index  --  ['epoch', 'shape']\n",
      "  Pruning for this var adn conjunction. Original length: 2082 , pruned length: 2082\n",
      "  Final Scalar data (trial, dims): (2082, 2)\n",
      "fig: /tmp/preSMA_a/color=stroke_index-sub=epoch|shape-dims=(0, 1)-0.pdf\n",
      "Saving ...  /tmp/preSMA_a/color=stroke_index-sub=epoch|shape-dims=(0, 1)-0.pdf\n"
     ]
    }
   ],
   "source": [
    "from neuralmonkey.analyses.decode_good import euclidian_distance_compute\n",
    "\n",
    "# PARAMS: data represnetation\n",
    "SHUFFLE = False\n",
    "extra_dimred_method = \"umap\"\n",
    "umap_n_neighbors = 40\n",
    "NPCS_KEEP = 10\n",
    "\n",
    "# PARAMS (Remove plots to speed up)\n",
    "PLOT = False # plot raw\n",
    "PLOT_MASKS = False # Plot context masks (can be slow!)\n",
    "nmin_trials_per_lev = 5 # to prune data\n",
    "PLOT_STATE_SPACE = True # Scatter plot of neural data -- useful!\n",
    "twind = (-0.1, 0.1) # relative to event\n",
    "tbin_dur = 0.1 # windowing\n",
    "tbin_slice = tbin_dur\n",
    "\n",
    "# RUN\n",
    "list_dfres = []\n",
    "for i, row in DFallpa.iterrows():\n",
    "    br = row[\"bregion\"]\n",
    "    tw = row[\"twind\"]\n",
    "    ev = row[\"event\"]\n",
    "    PA = row[\"pa\"]\n",
    "    \n",
    "    if bregions_plot is not None:\n",
    "        if br not in bregions_plot:\n",
    "            continue\n",
    "\n",
    "    savedir = f\"{SAVEDIR_ANALYSIS}/{br}\"\n",
    "    os.makedirs(savedir, exist_ok=True)\n",
    "\n",
    "    dfres = euclidian_distance_compute(PA, LIST_VAR, LIST_VARS_OTHERS, PLOT, PLOT_MASKS,\n",
    "                               twind, tbin_dur, tbin_slice, savedir, PLOT_STATE_SPACE=PLOT_STATE_SPACE,\n",
    "                                       nmin_trials_per_lev=nmin_trials_per_lev, LIST_CONTEXT=LIST_CONTEXT,\n",
    "                                       LIST_FILTDICT=LIST_FILTDICT, NPCS_KEEP=NPCS_KEEP, extra_dimred_method=extra_dimred_method, \n",
    "                                       umap_n_neighbors = umap_n_neighbors, LIST_PRUNE_MIN_N_LEVS=LIST_PRUNE_MIN_N_LEVS)\n",
    "    plt.close(\"all\")\n",
    "    if len(dfres)>0:\n",
    "        dfres[\"bregion\"] = br\n",
    "        dfres[\"twind\"] = [tw for _ in range(len(dfres))]\n",
    "        dfres[\"event\"] = ev\n",
    "        list_dfres.append(dfres)\n",
    "        \n",
    "DFRES = pd.concat(list_dfres).reset_index(drop=True)"
   ],
   "metadata": {
    "collapsed": false,
    "ExecuteTime": {
     "end_time": "2024-04-10T22:54:38.058695514Z",
     "start_time": "2024-04-10T22:54:08.304839099Z"
    }
   },
   "id": "4e129827e4e0444",
   "execution_count": 32
  },
  {
   "cell_type": "markdown",
   "source": [
    "### Save and plot results"
   ],
   "metadata": {
    "collapsed": false
   },
   "id": "81aeeb842f0b7044"
  },
  {
   "cell_type": "code",
   "outputs": [],
   "source": [
    "SAVEDIR = f\"{SAVEDIR_ANALYSIS}/RESULTS\"\n",
    "import os\n",
    "from pythonlib.tools.pandastools import append_col_with_grp_index\n",
    "from neuralmonkey.scripts.analy_euclidian_dist_pop_script import plot_all_results\n",
    "os.makedirs(SAVEDIR, exist_ok=True)"
   ],
   "metadata": {
    "collapsed": false,
    "ExecuteTime": {
     "end_time": "2024-04-10T22:54:40.791130337Z",
     "start_time": "2024-04-10T22:54:40.781865931Z"
    }
   },
   "id": "3feaf05e14b4ffd3",
   "execution_count": 33
  },
  {
   "cell_type": "code",
   "outputs": [
    {
     "name": "stdout",
     "output_type": "stream",
     "text": [
      "Saved to:  /tmp/RESULTS/DFRES.pkl\n"
     ]
    }
   ],
   "source": [
    "# SAVE\n",
    "path = f\"{SAVEDIR}/DFRES.pkl\"\n",
    "pd.to_pickle(DFRES, path)\n",
    "print(\"Saved to: \", path)\n"
   ],
   "metadata": {
    "collapsed": false,
    "ExecuteTime": {
     "end_time": "2024-04-10T22:54:40.972367997Z",
     "start_time": "2024-04-10T22:54:40.958469124Z"
    }
   },
   "id": "c2ec8a2fa9f153eb",
   "execution_count": 34
  },
  {
   "cell_type": "code",
   "outputs": [
    {
     "name": "stderr",
     "output_type": "stream",
     "text": [
      "/home/lucas/miniconda3/envs/drag2_matlab/lib/python3.8/site-packages/seaborn/axisgrid.py:118: UserWarning: The figure layout has changed to tight\n",
      "  self._figure.tight_layout(*args, **kwargs)\n",
      "/home/lucas/code/pythonlib/pythonlib/tools/snstools.py:25: UserWarning: FixedFormatter should only be used together with FixedLocator\n",
      "  ax.set_xticklabels(list_text,rotation=rotation, horizontalalignment=\"right\")\n",
      "/home/lucas/miniconda3/envs/drag2_matlab/lib/python3.8/site-packages/seaborn/axisgrid.py:118: UserWarning: The figure layout has changed to tight\n",
      "  self._figure.tight_layout(*args, **kwargs)\n",
      "/home/lucas/miniconda3/envs/drag2_matlab/lib/python3.8/site-packages/seaborn/axisgrid.py:118: UserWarning: The figure layout has changed to tight\n",
      "  self._figure.tight_layout(*args, **kwargs)\n",
      "/home/lucas/code/pythonlib/pythonlib/tools/snstools.py:25: UserWarning: FixedFormatter should only be used together with FixedLocator\n",
      "  ax.set_xticklabels(list_text,rotation=rotation, horizontalalignment=\"right\")\n",
      "/home/lucas/miniconda3/envs/drag2_matlab/lib/python3.8/site-packages/seaborn/axisgrid.py:118: UserWarning: The figure layout has changed to tight\n",
      "  self._figure.tight_layout(*args, **kwargs)\n",
      "/home/lucas/miniconda3/envs/drag2_matlab/lib/python3.8/site-packages/seaborn/axisgrid.py:118: UserWarning: The figure layout has changed to tight\n",
      "  self._figure.tight_layout(*args, **kwargs)\n",
      "/home/lucas/code/pythonlib/pythonlib/tools/snstools.py:25: UserWarning: FixedFormatter should only be used together with FixedLocator\n",
      "  ax.set_xticklabels(list_text,rotation=rotation, horizontalalignment=\"right\")\n",
      "/home/lucas/miniconda3/envs/drag2_matlab/lib/python3.8/site-packages/seaborn/axisgrid.py:118: UserWarning: The figure layout has changed to tight\n",
      "  self._figure.tight_layout(*args, **kwargs)\n",
      "/home/lucas/miniconda3/envs/drag2_matlab/lib/python3.8/site-packages/seaborn/axisgrid.py:118: UserWarning: The figure layout has changed to tight\n",
      "  self._figure.tight_layout(*args, **kwargs)\n",
      "/home/lucas/code/pythonlib/pythonlib/tools/snstools.py:25: UserWarning: FixedFormatter should only be used together with FixedLocator\n",
      "  ax.set_xticklabels(list_text,rotation=rotation, horizontalalignment=\"right\")\n",
      "/home/lucas/miniconda3/envs/drag2_matlab/lib/python3.8/site-packages/seaborn/axisgrid.py:118: UserWarning: The figure layout has changed to tight\n",
      "  self._figure.tight_layout(*args, **kwargs)\n",
      "/home/lucas/miniconda3/envs/drag2_matlab/lib/python3.8/site-packages/seaborn/axisgrid.py:118: UserWarning: The figure layout has changed to tight\n",
      "  self._figure.tight_layout(*args, **kwargs)\n",
      "/home/lucas/code/pythonlib/pythonlib/tools/snstools.py:25: UserWarning: FixedFormatter should only be used together with FixedLocator\n",
      "  ax.set_xticklabels(list_text,rotation=rotation, horizontalalignment=\"right\")\n",
      "/home/lucas/miniconda3/envs/drag2_matlab/lib/python3.8/site-packages/seaborn/axisgrid.py:118: UserWarning: The figure layout has changed to tight\n",
      "  self._figure.tight_layout(*args, **kwargs)\n",
      "/home/lucas/miniconda3/envs/drag2_matlab/lib/python3.8/site-packages/seaborn/axisgrid.py:118: UserWarning: The figure layout has changed to tight\n",
      "  self._figure.tight_layout(*args, **kwargs)\n",
      "/home/lucas/code/pythonlib/pythonlib/tools/snstools.py:25: UserWarning: FixedFormatter should only be used together with FixedLocator\n",
      "  ax.set_xticklabels(list_text,rotation=rotation, horizontalalignment=\"right\")\n",
      "/home/lucas/miniconda3/envs/drag2_matlab/lib/python3.8/site-packages/seaborn/axisgrid.py:118: UserWarning: The figure layout has changed to tight\n",
      "  self._figure.tight_layout(*args, **kwargs)\n",
      "/home/lucas/miniconda3/envs/drag2_matlab/lib/python3.8/site-packages/seaborn/axisgrid.py:118: UserWarning: The figure layout has changed to tight\n",
      "  self._figure.tight_layout(*args, **kwargs)\n",
      "/home/lucas/miniconda3/envs/drag2_matlab/lib/python3.8/site-packages/seaborn/axisgrid.py:118: UserWarning: The figure layout has changed to tight\n",
      "  self._figure.tight_layout(*args, **kwargs)\n",
      "/home/lucas/miniconda3/envs/drag2_matlab/lib/python3.8/site-packages/seaborn/axisgrid.py:118: UserWarning: The figure layout has changed to tight\n",
      "  self._figure.tight_layout(*args, **kwargs)\n",
      "/home/lucas/miniconda3/envs/drag2_matlab/lib/python3.8/site-packages/seaborn/axisgrid.py:118: UserWarning: The figure layout has changed to tight\n",
      "  self._figure.tight_layout(*args, **kwargs)\n",
      "/home/lucas/miniconda3/envs/drag2_matlab/lib/python3.8/site-packages/seaborn/axisgrid.py:118: UserWarning: The figure layout has changed to tight\n",
      "  self._figure.tight_layout(*args, **kwargs)\n",
      "/home/lucas/miniconda3/envs/drag2_matlab/lib/python3.8/site-packages/seaborn/axisgrid.py:118: UserWarning: The figure layout has changed to tight\n",
      "  self._figure.tight_layout(*args, **kwargs)\n",
      "/home/lucas/miniconda3/envs/drag2_matlab/lib/python3.8/site-packages/seaborn/axisgrid.py:118: UserWarning: The figure layout has changed to tight\n",
      "  self._figure.tight_layout(*args, **kwargs)\n",
      "/home/lucas/miniconda3/envs/drag2_matlab/lib/python3.8/site-packages/seaborn/axisgrid.py:118: UserWarning: The figure layout has changed to tight\n",
      "  self._figure.tight_layout(*args, **kwargs)\n",
      "/home/lucas/miniconda3/envs/drag2_matlab/lib/python3.8/site-packages/seaborn/axisgrid.py:118: UserWarning: The figure layout has changed to tight\n",
      "  self._figure.tight_layout(*args, **kwargs)\n",
      "/home/lucas/miniconda3/envs/drag2_matlab/lib/python3.8/site-packages/seaborn/axisgrid.py:118: UserWarning: The figure layout has changed to tight\n",
      "  self._figure.tight_layout(*args, **kwargs)\n",
      "/home/lucas/miniconda3/envs/drag2_matlab/lib/python3.8/site-packages/seaborn/axisgrid.py:118: UserWarning: The figure layout has changed to tight\n",
      "  self._figure.tight_layout(*args, **kwargs)\n",
      "/home/lucas/miniconda3/envs/drag2_matlab/lib/python3.8/site-packages/seaborn/axisgrid.py:118: UserWarning: The figure layout has changed to tight\n",
      "  self._figure.tight_layout(*args, **kwargs)\n",
      "/home/lucas/miniconda3/envs/drag2_matlab/lib/python3.8/site-packages/seaborn/axisgrid.py:118: UserWarning: The figure layout has changed to tight\n",
      "  self._figure.tight_layout(*args, **kwargs)\n",
      "/home/lucas/miniconda3/envs/drag2_matlab/lib/python3.8/site-packages/seaborn/axisgrid.py:118: UserWarning: The figure layout has changed to tight\n",
      "  self._figure.tight_layout(*args, **kwargs)\n",
      "/home/lucas/miniconda3/envs/drag2_matlab/lib/python3.8/site-packages/seaborn/axisgrid.py:118: UserWarning: The figure layout has changed to tight\n",
      "  self._figure.tight_layout(*args, **kwargs)\n",
      "/home/lucas/miniconda3/envs/drag2_matlab/lib/python3.8/site-packages/seaborn/axisgrid.py:118: UserWarning: The figure layout has changed to tight\n",
      "  self._figure.tight_layout(*args, **kwargs)\n",
      "/home/lucas/miniconda3/envs/drag2_matlab/lib/python3.8/site-packages/seaborn/axisgrid.py:118: UserWarning: The figure layout has changed to tight\n",
      "  self._figure.tight_layout(*args, **kwargs)\n",
      "/home/lucas/miniconda3/envs/drag2_matlab/lib/python3.8/site-packages/seaborn/axisgrid.py:118: UserWarning: The figure layout has changed to tight\n",
      "  self._figure.tight_layout(*args, **kwargs)\n",
      "/home/lucas/miniconda3/envs/drag2_matlab/lib/python3.8/site-packages/seaborn/axisgrid.py:118: UserWarning: The figure layout has changed to tight\n",
      "  self._figure.tight_layout(*args, **kwargs)\n",
      "/home/lucas/miniconda3/envs/drag2_matlab/lib/python3.8/site-packages/seaborn/axisgrid.py:118: UserWarning: The figure layout has changed to tight\n",
      "  self._figure.tight_layout(*args, **kwargs)\n",
      "/home/lucas/miniconda3/envs/drag2_matlab/lib/python3.8/site-packages/seaborn/axisgrid.py:118: UserWarning: The figure layout has changed to tight\n",
      "  self._figure.tight_layout(*args, **kwargs)\n",
      "/home/lucas/miniconda3/envs/drag2_matlab/lib/python3.8/site-packages/seaborn/axisgrid.py:118: UserWarning: The figure layout has changed to tight\n",
      "  self._figure.tight_layout(*args, **kwargs)\n",
      "/home/lucas/miniconda3/envs/drag2_matlab/lib/python3.8/site-packages/seaborn/axisgrid.py:118: UserWarning: The figure layout has changed to tight\n",
      "  self._figure.tight_layout(*args, **kwargs)\n",
      "/home/lucas/miniconda3/envs/drag2_matlab/lib/python3.8/site-packages/seaborn/axisgrid.py:118: UserWarning: The figure layout has changed to tight\n",
      "  self._figure.tight_layout(*args, **kwargs)\n",
      "/home/lucas/miniconda3/envs/drag2_matlab/lib/python3.8/site-packages/seaborn/axisgrid.py:118: UserWarning: The figure layout has changed to tight\n",
      "  self._figure.tight_layout(*args, **kwargs)\n",
      "/home/lucas/miniconda3/envs/drag2_matlab/lib/python3.8/site-packages/seaborn/axisgrid.py:118: UserWarning: The figure layout has changed to tight\n",
      "  self._figure.tight_layout(*args, **kwargs)\n",
      "/home/lucas/miniconda3/envs/drag2_matlab/lib/python3.8/site-packages/seaborn/axisgrid.py:118: UserWarning: The figure layout has changed to tight\n",
      "  self._figure.tight_layout(*args, **kwargs)\n",
      "/home/lucas/miniconda3/envs/drag2_matlab/lib/python3.8/site-packages/seaborn/axisgrid.py:118: UserWarning: The figure layout has changed to tight\n",
      "  self._figure.tight_layout(*args, **kwargs)\n",
      "/home/lucas/miniconda3/envs/drag2_matlab/lib/python3.8/site-packages/seaborn/axisgrid.py:118: UserWarning: The figure layout has changed to tight\n",
      "  self._figure.tight_layout(*args, **kwargs)\n",
      "/home/lucas/miniconda3/envs/drag2_matlab/lib/python3.8/site-packages/seaborn/axisgrid.py:118: UserWarning: The figure layout has changed to tight\n",
      "  self._figure.tight_layout(*args, **kwargs)\n",
      "/home/lucas/miniconda3/envs/drag2_matlab/lib/python3.8/site-packages/seaborn/axisgrid.py:118: UserWarning: The figure layout has changed to tight\n",
      "  self._figure.tight_layout(*args, **kwargs)\n",
      "/home/lucas/miniconda3/envs/drag2_matlab/lib/python3.8/site-packages/seaborn/axisgrid.py:118: UserWarning: The figure layout has changed to tight\n",
      "  self._figure.tight_layout(*args, **kwargs)\n",
      "/home/lucas/miniconda3/envs/drag2_matlab/lib/python3.8/site-packages/seaborn/axisgrid.py:118: UserWarning: The figure layout has changed to tight\n",
      "  self._figure.tight_layout(*args, **kwargs)\n",
      "/home/lucas/miniconda3/envs/drag2_matlab/lib/python3.8/site-packages/seaborn/axisgrid.py:118: UserWarning: The figure layout has changed to tight\n",
      "  self._figure.tight_layout(*args, **kwargs)\n",
      "/home/lucas/miniconda3/envs/drag2_matlab/lib/python3.8/site-packages/seaborn/axisgrid.py:118: UserWarning: The figure layout has changed to tight\n",
      "  self._figure.tight_layout(*args, **kwargs)\n",
      "/home/lucas/miniconda3/envs/drag2_matlab/lib/python3.8/site-packages/seaborn/axisgrid.py:118: UserWarning: The figure layout has changed to tight\n",
      "  self._figure.tight_layout(*args, **kwargs)\n",
      "/home/lucas/miniconda3/envs/drag2_matlab/lib/python3.8/site-packages/seaborn/axisgrid.py:118: UserWarning: The figure layout has changed to tight\n",
      "  self._figure.tight_layout(*args, **kwargs)\n",
      "/home/lucas/miniconda3/envs/drag2_matlab/lib/python3.8/site-packages/seaborn/axisgrid.py:118: UserWarning: The figure layout has changed to tight\n",
      "  self._figure.tight_layout(*args, **kwargs)\n",
      "/home/lucas/miniconda3/envs/drag2_matlab/lib/python3.8/site-packages/seaborn/axisgrid.py:118: UserWarning: The figure layout has changed to tight\n",
      "  self._figure.tight_layout(*args, **kwargs)\n",
      "/home/lucas/miniconda3/envs/drag2_matlab/lib/python3.8/site-packages/seaborn/axisgrid.py:118: UserWarning: The figure layout has changed to tight\n",
      "  self._figure.tight_layout(*args, **kwargs)\n",
      "/home/lucas/miniconda3/envs/drag2_matlab/lib/python3.8/site-packages/seaborn/axisgrid.py:118: UserWarning: The figure layout has changed to tight\n",
      "  self._figure.tight_layout(*args, **kwargs)\n",
      "/home/lucas/miniconda3/envs/drag2_matlab/lib/python3.8/site-packages/seaborn/axisgrid.py:118: UserWarning: The figure layout has changed to tight\n",
      "  self._figure.tight_layout(*args, **kwargs)\n",
      "/home/lucas/miniconda3/envs/drag2_matlab/lib/python3.8/site-packages/seaborn/axisgrid.py:118: UserWarning: The figure layout has changed to tight\n",
      "  self._figure.tight_layout(*args, **kwargs)\n",
      "/home/lucas/miniconda3/envs/drag2_matlab/lib/python3.8/site-packages/seaborn/axisgrid.py:118: UserWarning: The figure layout has changed to tight\n",
      "  self._figure.tight_layout(*args, **kwargs)\n",
      "/home/lucas/miniconda3/envs/drag2_matlab/lib/python3.8/site-packages/seaborn/axisgrid.py:118: UserWarning: The figure layout has changed to tight\n",
      "  self._figure.tight_layout(*args, **kwargs)\n",
      "/home/lucas/miniconda3/envs/drag2_matlab/lib/python3.8/site-packages/seaborn/axisgrid.py:118: UserWarning: The figure layout has changed to tight\n",
      "  self._figure.tight_layout(*args, **kwargs)\n"
     ]
    },
    {
     "name": "stdout",
     "output_type": "stream",
     "text": [
      "...  /tmp/RESULTS/FIGURES/histograms-dat_level=distr\n"
     ]
    },
    {
     "name": "stderr",
     "output_type": "stream",
     "text": [
      "/home/lucas/miniconda3/envs/drag2_matlab/lib/python3.8/site-packages/seaborn/axisgrid.py:118: UserWarning: The figure layout has changed to tight\n",
      "  self._figure.tight_layout(*args, **kwargs)\n",
      "/home/lucas/miniconda3/envs/drag2_matlab/lib/python3.8/site-packages/seaborn/axisgrid.py:118: UserWarning: The figure layout has changed to tight\n",
      "  self._figure.tight_layout(*args, **kwargs)\n"
     ]
    },
    {
     "name": "stdout",
     "output_type": "stream",
     "text": [
      "Plotting specific conjucntions heatmaps ... \n",
      "...  /tmp/RESULTS/FIGURES/each_conjunction-effect_context=diff|same-shuffled=False-dat_level=distr\n",
      "...  /tmp/RESULTS/FIGURES/each_conjunction-effect_context=same|diff-shuffled=False-dat_level=distr\n",
      "...  /tmp/RESULTS/FIGURES/each_conjunction-effect_context=any|diff-shuffled=False-dat_level=distr\n",
      "...  /tmp/RESULTS/FIGURES/each_conjunction-effect_context=diff|diff-shuffled=False-dat_level=distr\n",
      "...  /tmp/RESULTS/FIGURES/histograms-dat_level=pts\n"
     ]
    },
    {
     "name": "stderr",
     "output_type": "stream",
     "text": [
      "/home/lucas/miniconda3/envs/drag2_matlab/lib/python3.8/site-packages/seaborn/axisgrid.py:118: UserWarning: The figure layout has changed to tight\n",
      "  self._figure.tight_layout(*args, **kwargs)\n",
      "/home/lucas/miniconda3/envs/drag2_matlab/lib/python3.8/site-packages/seaborn/axisgrid.py:118: UserWarning: The figure layout has changed to tight\n",
      "  self._figure.tight_layout(*args, **kwargs)\n"
     ]
    },
    {
     "name": "stdout",
     "output_type": "stream",
     "text": [
      "Plotting specific conjucntions heatmaps ... \n",
      "...  /tmp/RESULTS/FIGURES/each_conjunction-effect_context=diff|same-shuffled=False-dat_level=pts\n",
      "...  /tmp/RESULTS/FIGURES/each_conjunction-effect_context=same|same-shuffled=False-dat_level=pts\n",
      "...  /tmp/RESULTS/FIGURES/each_conjunction-effect_context=same|diff-shuffled=False-dat_level=pts\n",
      "...  /tmp/RESULTS/FIGURES/each_conjunction-effect_context=any|diff-shuffled=False-dat_level=pts\n",
      "...  /tmp/RESULTS/FIGURES/each_conjunction-effect_context=diff|diff-shuffled=False-dat_level=pts\n"
     ]
    }
   ],
   "source": [
    "############ PLOTS\n",
    "plot_all_results(DFRES, SAVEDIR)"
   ],
   "metadata": {
    "collapsed": false,
    "ExecuteTime": {
     "end_time": "2024-04-10T22:54:53.482647185Z",
     "start_time": "2024-04-10T22:54:42.175750954Z"
    }
   },
   "id": "228fa4d9bd97f1ec",
   "execution_count": 35
  }
 ],
 "metadata": {
  "kernelspec": {
   "display_name": "Python 3",
   "language": "python",
   "name": "python3"
  },
  "language_info": {
   "codemirror_mode": {
    "name": "ipython",
    "version": 2
   },
   "file_extension": ".py",
   "mimetype": "text/x-python",
   "name": "python",
   "nbconvert_exporter": "python",
   "pygments_lexer": "ipython2",
   "version": "2.7.6"
  }
 },
 "nbformat": 4,
 "nbformat_minor": 5
}
