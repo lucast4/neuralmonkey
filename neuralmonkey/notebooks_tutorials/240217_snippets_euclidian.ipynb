{
 "cells": [
  {
   "cell_type": "code",
   "execution_count": 1,
   "outputs": [
    {
     "data": {
      "text/plain": "'\"\\nDevo code for all kinds of stuff looking st distances in state space, using euclidian dsitnaces.\\n\\n'"
     },
     "execution_count": 1,
     "metadata": {},
     "output_type": "execute_result"
    }
   ],
   "source": [
    "import os\n",
    "%load_ext autoreload\n",
    "%autoreload 2\n",
    "\n",
    "\"\"\"\"\n",
    "Devo code for all kinds of stuff looking st distances in state space, using euclidian dsitnaces.\n",
    "\n",
    "\"\"\""
   ],
   "metadata": {
    "collapsed": false,
    "ExecuteTime": {
     "end_time": "2024-04-17T05:24:16.266813028Z",
     "start_time": "2024-04-17T05:24:16.241022494Z"
    }
   },
   "id": "9e3fd17c4f13ba43"
  },
  {
   "cell_type": "markdown",
   "source": [
    "# Load a pre-computed Snippets"
   ],
   "metadata": {
    "collapsed": false
   },
   "id": "2e64d1e318d5757d"
  },
  {
   "cell_type": "code",
   "execution_count": null,
   "outputs": [],
   "source": [
    "from neuralmonkey.classes.population_mult import dfallpa_extraction_load_wrapper\n",
    "animal = \"Pancho\"\n",
    "date = 230320\n",
    "question = \"RULE_BASE_stroke\"\n",
    "which_level = \"stroke\"\n",
    "list_time_windows = [(-0.6, 0.6)]\n",
    "events_keep = [\"00_stroke\"]\n",
    "\n",
    "combine_into_larger_areas = False\n",
    "exclude_bad_areas = True\n",
    "SPIKES_VERSION = \"kilosort_if_exists\"\n",
    "HACK_RENAME_SHAPES = False\n",
    "# fr_normalization_method = \"across_time_bins\"\n",
    "fr_normalization_method = \"across_time_bins\"\n",
    "DFallpa = dfallpa_extraction_load_wrapper(animal, date, question, list_time_windows,\n",
    "                                          which_level=which_level, events_keep=events_keep,\n",
    "                                          combine_into_larger_areas = combine_into_larger_areas,\n",
    "                                          exclude_bad_areas = exclude_bad_areas,\n",
    "                                          SPIKES_VERSION = SPIKES_VERSION,\n",
    "                                          HACK_RENAME_SHAPES = HACK_RENAME_SHAPES,\n",
    "                                          fr_normalization_method=fr_normalization_method)"
   ],
   "metadata": {
    "collapsed": false
   },
   "id": "1b6e8425ba4d829d"
  },
  {
   "cell_type": "markdown",
   "source": [
    "# Load a dataset (saved for Xuan)"
   ],
   "metadata": {
    "collapsed": false
   },
   "id": "2f471c575413735b"
  },
  {
   "cell_type": "markdown",
   "source": [
    "To load and plot a dataset of neural activity across population, in a PopAnal class object.\n"
   ],
   "metadata": {
    "collapsed": false
   },
   "id": "401a9851a443292c"
  },
  {
   "cell_type": "code",
   "execution_count": null,
   "outputs": [],
   "source": [
    "import pandas as pd\n",
    "import matplotlib.pyplot as plt"
   ],
   "metadata": {
    "collapsed": false
   },
   "id": "6d72addf5c1494c2"
  },
  {
   "cell_type": "code",
   "execution_count": null,
   "outputs": [],
   "source": [
    "\n",
    "# this is the path to the dataset\n",
    "# path = '/gorilla1/analyses/recordings/main/RSA/Diego-230615/agg_True-subtr_None-dist_euclidian_unbiased/SP_shape_loc/DFallpa.pkl'\n",
    "# path = \"/gorilla4/Dropbox/SCIENCE/FREIWALD_LAB/DATA/for_xuan/DFallpa.pkl\"\n",
    "# path = \"/gorilla4/Dropbox/SCIENCE/FREIWALD_LAB/DATA/for_xuan/DFallpa_samp_and_stroke.pkl\"\n",
    "# path = \"/gorilla4/Dropbox/SCIENCE/FREIWALD_LAB/DATA/for_xuan/DFallpa_pig_planning.pkl\"\n",
    "# path = \"/gorilla4/Dropbox/SCIENCE/FREIWALD_LAB/DATA/for_xuan/DFallpa_pig_concat_trial_and_stroke_which_levels.pkl\"\n",
    "# path = \"/gorilla4/Dropbox/SCIENCE/FREIWALD_LAB/DATA/for_xuan/DFallpa_char_concat_trial_and_stroke_Pancho_230126.pkl\"\n",
    "# path = \"/gorilla4/Dropbox/SCIENCE/FREIWALD_LAB/DATA/for_xuan/vDFallpa_Diego_230817_RULE_BASE_stroke.pkl\"\n",
    "\n",
    "# OLDER (before adding all epoch varialbes)\n",
    "# path = f\"/home/lucas/Dropbox/SCIENCE/FREIWALD_LAB/DATA/DFallpa_Pancho_220908_RULE_BASE_stroke.pkl\"\n",
    "# path = f\"/home/lucas/Dropbox/SCIENCE/FREIWALD_LAB/DATA/DFallpa_Pancho_220908_RULE_BASE_stroke.pkl\"\n",
    "\n",
    "# NEWER (After adding epoch variables)\n",
    "# path = f\"/home/lucas/Dropbox/SCIENCE/FREIWALD_LAB/DATA/DFallpa_Diego_230823_RULESW_BASE_stroke.pkl\"\n",
    "# path = f\"/home/lucas/Dropbox/SCIENCE/FREIWALD_LAB/DATA/DFallpa_Diego_230928_RULE_BASE_stroke.pkl\"\n",
    "# path = f\"/home/lucas/Dropbox/SCIENCE/FREIWALD_LAB/DATA/DFallpa_Diego_230910_RULESW_BASE_stroke.pkl\" # shape vs. color\n",
    "# path = f\"/home/lucas/Dropbox/SCIENCE/FREIWALD_LAB/DATA/DFallpa_Diego_230911_RULE_BASE_stroke.pkl\" #\n",
    "# path = f\"/home/lucas/Dropbox/SCIENCE/FREIWALD_LAB/DATA/DFallpa_Diego_230817_RULE_BASE_stroke.pkl\" # AnBmCk \n",
    "# path = f\"/home/lucas/Dropbox/SCIENCE/FREIWALD_LAB/DATA/DFallpa_Diego_230929_RULE_BASE_stroke.pkl\"\n",
    "# path = f\"/home/lucas/Dropbox/SCIENCE/FREIWALD_LAB/DATA/DFallpa_Pancho_230320_RULE_BASE_stroke.pkl\" # rowcol\n",
    "# path = f\"/home/lucas/Dropbox/SCIENCE/FREIWALD_LAB/DATA/DFallpa_Diego_230922_RULESW_BASE_stroke.pkl\" # AnBm vs. DIR vs. seqsup\n",
    "\n",
    "# path = f\"/home/lucas/Dropbox/SCIENCE/FREIWALD_LAB/DATA/DFallpa_Diego_231024_RULESW_BASE_stroke.pkl\" # \n",
    "# path = f\"/home/lucas/Dropbox/SCIENCE/FREIWALD_LAB/DATA/DFallpa_Pancho_220830_RULESW_BASE_stroke.pkl\" # # (AB)n\n",
    "\n",
    "# path = f\"/home/lucas/Dropbox/SCIENCE/FREIWALD_LAB/DATA/DFallpa_Diego_230925_RULESW_BASE_stroke.pkl\" # seqsup\n",
    "path = f\"/home/lucas/Dropbox/SCIENCE/FREIWALD_LAB/DATA/DFallpa_Pancho_230811_RULESW_BASE_stroke.pkl\" # AnBmCk\n"
   ],
   "metadata": {
    "collapsed": false
   },
   "id": "320be7d5ecbddf5f"
  },
  {
   "cell_type": "code",
   "execution_count": null,
   "outputs": [],
   "source": [
    "DFallpa = pd.read_pickle(path)\n"
   ],
   "metadata": {
    "collapsed": false
   },
   "id": "335e4da034da5b2a"
  },
  {
   "cell_type": "markdown",
   "source": [
    "##### To save"
   ],
   "metadata": {
    "collapsed": false
   },
   "id": "7eb640a16cc1bc17"
  },
  {
   "cell_type": "code",
   "execution_count": null,
   "outputs": [],
   "source": [
    "# Save it\n",
    "import pickle\n",
    "# path = \"/gorilla4/Dropbox/SCIENCE/FREIWALD_LAB/DATA/for_xuan/DFallpa_char_trial_Pancho_230126.pkl\"\n",
    "# path = f\"/home/lucas/Dropbox/SCIENCE/FREIWALD_LAB/DATA/DFallpa_tmp.pkl\"\n",
    "path = f\"/home/lucas/Dropbox/SCIENCE/FREIWALD_LAB/DATA/DFallpa_{animal}_{date}_{question}.pkl\"\n",
    "\n",
    "with open(path, \"wb\") as f:\n",
    "    pickle.dump(DFallpa, f)\n",
    "print(\"Saved to:\", path)"
   ],
   "metadata": {
    "collapsed": false
   },
   "id": "2c796042c0d19d1d"
  },
  {
   "cell_type": "markdown",
   "source": [
    "# Load a DFallpa"
   ],
   "metadata": {
    "collapsed": false
   },
   "id": "122e1e23ec6b587"
  },
  {
   "cell_type": "code",
   "execution_count": null,
   "outputs": [],
   "source": [
    "# Char, \n",
    "# animal = \"Pancho\"\n",
    "# date = 230126\n",
    "# do_combine = True\n",
    "\n",
    "# Single prim, novels\n",
    "# animal = \"Pancho\"\n",
    "# date = 230126\n",
    "animal = \"Diego\"\n",
    "date = 230817\n",
    "# date = 230817\n",
    "do_combine = False\n",
    "\n",
    "if do_combine:\n",
    "    # COMBINE trial and stroke\n",
    "    dir_suffix = \"test\"\n",
    "    question = None\n",
    "    # q_params = None\n",
    "    which_level = None\n",
    "    q_params = {\n",
    "        \"effect_vars\": [\"seqc_0_shape\", \"seqc_0_loc\"]\n",
    "    }\n",
    "    \n",
    "    combine_trial_and_stroke = True\n",
    "    \n",
    "    # PIG\n",
    "    # question_trial = \"PIG_BASE_trial\"\n",
    "    # question_stroke = \"PIG_BASE_stroke\"\n",
    "    # check_that_locs_match = True\n",
    "    \n",
    "    # CHAR\n",
    "    question_trial = \"CHAR_BASE_trial\"\n",
    "    question_stroke = \"CHAR_BASE_stroke\"\n",
    "    check_that_locs_match = True\n",
    "    check_that_shapes_match = True\n",
    "else:\n",
    "    # DONT COMBINE, use questions.\n",
    "    # question = \"CHAR_BASE_stroke\"\n",
    "    # question = \"CHAR_BASE_trial\"\n",
    "    # question = \"SP_shape_loc\"\n",
    "    question = \"PIG_BASE_stroke\"\n",
    "    # question = \"PIG_BASE_trial\"\n",
    "    combine_trial_and_stroke = False\n",
    "    # which_level = \"stroke\" # Doesnt matter\n",
    "    which_level = \"stroke\" # Doesnt matter\n",
    "    dir_suffix = question\n",
    "\n",
    "    # Load q_params\n",
    "    from neuralmonkey.analyses.rsa import rsagood_questions_dict, rsagood_questions_params\n",
    "    q_params = rsagood_questions_dict(animal, date, question)[question]\n",
    "\n",
    "############### PARAMS\n",
    "exclude_bad_areas = True\n",
    "SPIKES_VERSION = \"tdt\" # since Snippets not yet extracted for ks\n",
    "combine_into_larger_areas = False\n",
    "HACK_RENAME_SHAPES = False\n",
    "list_time_windows = [(-0.6, 0.6)]\n",
    "events_keep = None\n",
    "fr_normalization_method = \"across_time_bins\"\n",
    "########################################## RUN\n",
    "\n",
    "if combine_trial_and_stroke:\n",
    "    from neuralmonkey.classes.population_mult import dfallpa_extraction_load_wrapper_combine_trial_strokes\n",
    "    DFallpa = dfallpa_extraction_load_wrapper_combine_trial_strokes(animal, date, question_trial,\n",
    "                                                                       question_stroke,\n",
    "                                                list_time_windows, events_keep=events_keep,\n",
    "                                               combine_into_larger_areas = combine_into_larger_areas,\n",
    "                                               exclude_bad_areas=exclude_bad_areas,\n",
    "                                                SPIKES_VERSION=\"tdt\",\n",
    "                                                HACK_RENAME_SHAPES = HACK_RENAME_SHAPES,\n",
    "                                               fr_normalization_method=fr_normalization_method,\n",
    "                                                    check_that_shapes_match=check_that_shapes_match,\n",
    "                                                check_that_locs_match=check_that_locs_match)\n",
    "else:\n",
    "    from neuralmonkey.classes.population_mult import dfallpa_extraction_load_wrapper\n",
    "    DFallpa = dfallpa_extraction_load_wrapper(animal, date, question, list_time_windows,\n",
    "                                              which_level=which_level, events_keep=events_keep,\n",
    "                                              combine_into_larger_areas = combine_into_larger_areas,\n",
    "                                              exclude_bad_areas = exclude_bad_areas,\n",
    "                                              SPIKES_VERSION = SPIKES_VERSION,\n",
    "                                              HACK_RENAME_SHAPES = HACK_RENAME_SHAPES,\n",
    "                                              fr_normalization_method=fr_normalization_method)"
   ],
   "metadata": {
    "collapsed": false
   },
   "id": "58ea6f5073b3909f"
  },
  {
   "cell_type": "markdown",
   "source": [
    "# Code example for benchmarking: decoding shapes"
   ],
   "metadata": {
    "collapsed": false
   },
   "id": "93edebd6e38ce91"
  },
  {
   "cell_type": "markdown",
   "source": [
    "This step takes in a representation of neural data and outputs a scalar score for how well you can decode \"shape\" from that data\n",
    "\n",
    "Here, this example is using the raw data (dimensionality = number of channels). The goal is to use methods to reduce the dimensionality of this data, each time running through this decoding benchmark, to compare the different methods"
   ],
   "metadata": {
    "collapsed": false
   },
   "id": "488ff1ca66a8098f"
  },
  {
   "cell_type": "code",
   "execution_count": null,
   "outputs": [],
   "source": [
    "pa = DFallpa[\"pa\"].values[0]"
   ],
   "metadata": {
    "collapsed": false
   },
   "id": "1d9464a47ba11ed8"
  },
  {
   "cell_type": "code",
   "execution_count": null,
   "outputs": [],
   "source": [
    "pa.Xlabels[\"trials\"][:2].columns"
   ],
   "metadata": {
    "collapsed": false
   },
   "id": "389e5f898d84b074"
  },
  {
   "cell_type": "code",
   "outputs": [],
   "source": [
    "from pythonlib.tools.pandastools import grouping_count_n_samples, grouping_append_and_return_inner_items_good, grouping_print_n_samples\n",
    "\n",
    "# grouping_print_n_samples(pa.Xlabels[\"trials\"], [\"epochset\", \"epoch\", \"syntax_concrete\", \"syntax_role\", \"chunk_rank\", \"chunk_within_rank\", \"stroke_index\", \"shape\", \"gridloc\"])\n",
    "\n",
    "grouping_print_n_samples(pa.Xlabels[\"trials\"], [\"epoch\", \"syntax_concrete\", \"syntax_role\", \"chunk_rank\", \"chunk_within_rank\", \"stroke_index\", \"shape\", \"gridloc\", \"gridloc_x\", \"gridloc_y\"])\n",
    "\n",
    "grouping_print_n_samples(pa.Xlabels[\"trials\"], [\"epoch\", \"syntax_concrete\", \"syntax_role\", \"chunk_rank\", \"chunk_within_rank\", \"stroke_index\", \"shape\", \"gridloc\", \"gridloc_x\", \"gridloc_y\"])"
   ],
   "metadata": {
    "collapsed": false
   },
   "id": "48f9c90186ec3652",
   "execution_count": null
  },
  {
   "cell_type": "markdown",
   "source": [
    "##### First, pull out a specific PA. (just an example)"
   ],
   "metadata": {
    "collapsed": false
   },
   "id": "32c025e2bfc54ebe"
  },
  {
   "cell_type": "markdown",
   "source": [
    "NOTE: tjhis is just for demonstration. Eventually you will want to loop thru all PA, scoring them all"
   ],
   "metadata": {
    "collapsed": false
   },
   "id": "9bb74aab4a961bd2"
  },
  {
   "cell_type": "code",
   "execution_count": null,
   "outputs": [],
   "source": [
    "from neuralmonkey.classes.population_mult import extract_single_pa\n"
   ],
   "metadata": {
    "collapsed": false
   },
   "id": "10bc2b4059ed05b5"
  },
  {
   "cell_type": "markdown",
   "source": [
    "## Make sure to normalize PA before running any modeling on it:"
   ],
   "metadata": {
    "collapsed": false
   },
   "id": "583a1e729ac08b30"
  },
  {
   "cell_type": "code",
   "execution_count": null,
   "outputs": [],
   "source": [
    "# from neuralmonkey.classes.population_mult import po\n",
    "path_to_save_example_fr_normalization = None\n",
    "fr_normalization_method = \"each_time_bin\"\n",
    "\n",
    "if fr_normalization_method is not None:\n",
    "    if fr_normalization_method==\"each_time_bin\":\n",
    "        # Then demean in each time bin indepednently\n",
    "        subtract_mean_at_each_timepoint = True\n",
    "        subtract_mean_across_time_and_trial = False\n",
    "    elif fr_normalization_method==\"across_time_bins\":\n",
    "        # ALl time bins subtract the same scalar --> maintains temporal moudlation.\n",
    "        subtract_mean_at_each_timepoint = False\n",
    "        subtract_mean_across_time_and_trial = True\n",
    "    else:\n",
    "        print(fr_normalization_method)\n",
    "        assert False\n",
    "\n",
    "    from neuralmonkey.analyses.state_space_good import popanal_preprocess_scalar_normalization\n",
    "    list_panorm = []\n",
    "\n",
    "    for i, pa in enumerate(DFallpa[\"pa\"].tolist()):\n",
    "        if path_to_save_example_fr_normalization is not None and i==0:\n",
    "            plot_example_chan_number = pa.Chans[0]\n",
    "            if which_level==\"trial\":\n",
    "                plot_example_split_var_string = \"seqc_0_shape\"\n",
    "            elif which_level==\"stroke\":\n",
    "                plot_example_split_var_string = \"shape\"\n",
    "            else:\n",
    "                plot_example_split_var_string = q_params[\"effect_vars\"][0]\n",
    "        else:\n",
    "            plot_example_chan_number = None\n",
    "            plot_example_split_var_string = None\n",
    "        PAnorm, PAscal, PAscalagg, fig, axes, groupdict = popanal_preprocess_scalar_normalization(pa, None,\n",
    "                                                                                          DO_AGG_TRIALS=False,\n",
    "                                                                                          plot_example_chan_number=plot_example_chan_number,\n",
    "                                                                                            plot_example_split_var_string = plot_example_split_var_string,\n",
    "                                                                                          subtract_mean_at_each_timepoint=subtract_mean_at_each_timepoint,\n",
    "                                                                                          subtract_mean_across_time_and_trial=subtract_mean_across_time_and_trial)\n",
    "        if path_to_save_example_fr_normalization is not None and i==0:\n",
    "            savefig(fig, path_to_save_example_fr_normalization)\n",
    "        list_panorm.append(PAnorm)\n",
    "    DFallpa[\"pa\"] = list_panorm\n"
   ],
   "metadata": {
    "collapsed": false
   },
   "id": "854db14b65f6c377"
  },
  {
   "cell_type": "code",
   "execution_count": null,
   "outputs": [],
   "source": [
    "from pythonlib.globals import PATH_ANALYSIS_OUTCOMES\n",
    "import os\n",
    "SAVEDIR_ANALYSIS = f\"{PATH_ANALYSIS_OUTCOMES}/recordings/main/DECODE\""
   ],
   "metadata": {
    "collapsed": false
   },
   "id": "4cab933058cb251a"
  },
  {
   "cell_type": "code",
   "execution_count": null,
   "outputs": [],
   "source": [
    "# Figure out how long is seuqence\n",
    "n_strokes_max = -1\n",
    "for i in range(2):\n",
    "    n_ignore = sum(PAnorm.Xlabels[\"trials\"][f\"seqc_{i}_shape\"]==\"IGNORE\")\n",
    "    n_total = len(PAnorm.Xlabels[\"trials\"][f\"seqc_{i}_shape\"])\n",
    "    print(n_ignore, n_total)\n",
    "    if n_ignore<n_total:\n",
    "        n_strokes_max=i+1\n",
    "assert n_strokes_max>0\n",
    "print(n_strokes_max)"
   ],
   "metadata": {
    "collapsed": false
   },
   "id": "7a2fa80f4fc611b4"
  },
  {
   "cell_type": "markdown",
   "source": [
    "### Keep specific events"
   ],
   "metadata": {
    "collapsed": false
   },
   "id": "9228636d0e758329"
  },
  {
   "cell_type": "code",
   "execution_count": null,
   "outputs": [],
   "source": [
    "DFallpa[\"event\"].unique()\n",
    "events_keep = [\"03_samp\", \"04_go_cue\"]\n",
    "DFallpa = DFallpa[DFallpa[\"event\"].isin(events_keep)].reset_index(drop=True)"
   ],
   "metadata": {
    "collapsed": false
   },
   "id": "49f56c2188b45159"
  },
  {
   "cell_type": "markdown",
   "source": [
    "# PREPROCESS - factorize all relevant labels FIRST here.\n"
   ],
   "metadata": {
    "collapsed": false
   },
   "id": "8634a855e2b24c5a"
  },
  {
   "cell_type": "code",
   "execution_count": null,
   "outputs": [],
   "source": [
    "from neuralmonkey.classes.population_mult import dfallpa_preprocess_vars_conjunctions_extract\n",
    "dfallpa_preprocess_vars_conjunctions_extract(DFallpa, which_level=which_level)\n"
   ],
   "metadata": {
    "collapsed": false
   },
   "id": "441abc9cc89c86b7"
  },
  {
   "cell_type": "code",
   "execution_count": null,
   "outputs": [],
   "source": [
    "dflab = pa.Xlabels[\"trials\"]\n",
    "sorted([col for col in dflab.columns if \"seqc_\" in col])"
   ],
   "metadata": {
    "collapsed": false
   },
   "id": "99c1d21c5e23270e"
  },
  {
   "cell_type": "code",
   "execution_count": null,
   "outputs": [],
   "source": [
    "# Extract all "
   ],
   "metadata": {
    "collapsed": false
   },
   "id": "cdabd18c2d872166"
  },
  {
   "cell_type": "code",
   "execution_count": null,
   "outputs": [],
   "source": [
    "from neuralmonkey.analyses.decode_good import preprocess_factorize_class_labels_ints\n",
    "MAP_LABELS_TO_INT = preprocess_factorize_class_labels_ints(DFallpa)"
   ],
   "metadata": {
    "collapsed": false
   },
   "id": "87e0da3ce5099d79"
  },
  {
   "cell_type": "markdown",
   "source": [
    "### PRINT VARIABLES"
   ],
   "metadata": {
    "collapsed": false
   },
   "id": "c281e75000770f7a"
  },
  {
   "cell_type": "code",
   "outputs": [],
   "source": [
    "pa = DFallpa[\"pa\"].values[0]\n",
    "pa.Xlabels[\"trials\"].loc[::10, [\"epochset\", \"epoch\"]]"
   ],
   "metadata": {
    "collapsed": false
   },
   "id": "a05c564bd6d07a8a",
   "execution_count": null
  },
  {
   "cell_type": "code",
   "outputs": [],
   "source": [
    "pa = DFallpa[\"pa\"].values[0]\n",
    "pa.Xlabels[\"trials\"].loc[::10, [\"epoch\", \"superv_is_seq_sup\", \"epoch_orig_rand_seq\", \"epoch_is_AnBmCk\", \"INSTRUCTION_COLOR\"]]\n",
    "\n"
   ],
   "metadata": {
    "collapsed": false
   },
   "id": "226bf6f2075eb7ad",
   "execution_count": null
  },
  {
   "cell_type": "code",
   "outputs": [],
   "source": [
    "\n",
    "pathis = pa.slice_by_labels(\"trials\", (\"epoch_orig_rand_seq\", \"epoch_is_AnBmCk\", \"INSTRUCTION_COLOR\"), [(True, False, True), (False, True, False)])"
   ],
   "metadata": {
    "collapsed": false
   },
   "id": "176db890b9454c64",
   "execution_count": null
  },
  {
   "cell_type": "code",
   "outputs": [],
   "source": [
    "from pythonlib.tools.pandastools import grouping_print_n_samples \n",
    "\n",
    "vars = [\"epoch_orig\", \"epoch\", \"epoch_rand\", \"INSTRUCTION_COLOR\", \"superv_is_seq_sup\", \"epoch_orig_rand_seq\", \"epoch_is_AnBmCk\"]\n",
    "vars = [\"epochset\", \"epoch_orig\", \"epoch\", \"epoch_rand\", \"INSTRUCTION_COLOR\", \"superv_is_seq_sup\", \"epoch_orig_rand_seq\", \"epoch_is_AnBmCk\"]\n",
    "# vars = [\"epochset_diff_motor\", \"epoch_orig\", \"epoch\", \"epoch_rand\", \"INSTRUCTION_COLOR\", \"superv_is_seq_sup\", \"epoch_orig_rand_seq\", \"epoch_is_AnBmCk\"]\n",
    "grouping_print_n_samples(pa.Xlabels[\"trials\"], vars)"
   ],
   "metadata": {
    "collapsed": false
   },
   "id": "35bedfec48a0f021",
   "execution_count": null
  },
  {
   "cell_type": "markdown",
   "source": [
    "# NEW MODULATION SCORE EUCLIDIAN"
   ],
   "metadata": {
    "collapsed": false
   },
   "id": "8f2eb47871aefb60"
  },
  {
   "cell_type": "code",
   "outputs": [],
   "source": [
    "SAVEDIR_ANALYSIS = \"/tmp\"\n",
    "import matplotlib.pyplot as plt\n",
    "import os\n",
    "import pandas as pd"
   ],
   "metadata": {
    "collapsed": false
   },
   "id": "2f3090fe11c17dea",
   "execution_count": null
  },
  {
   "cell_type": "code",
   "outputs": [],
   "source": [
    "#### PARAMS specific to noteobok\n",
    "# bregions_plot = [\"M1_m\", \"PMd_p\", \"preSMA_p\", \"preSMA_a\"]\n",
    "# bregions_plot = [\"M1_m\", \"preSMA_p\"]\n",
    "# bregions_plot = [\"M1_m\", \"preSMA_p\", \"preSMA_a\"]\n",
    "# bregions_plot = [\"M1_m\", \"PMd_p\", \"preSMA_a\"]\n",
    "# bregions_plot = [\"PMd_a\", \"preSMA_a\"]\n",
    "# bregions_plot = [\"M1_m\", \"PMd_p\", \"preSMA_p\", \"preSMA_a\"]\n",
    "# bregions_plot = [\"PMd_p\", \"preSMA_a\"]\n",
    "bregions_plot = [\"M1_m\", \"M1_l\", \"preSMA_a\"]\n",
    "# bregions_plot = None\n",
    "NPCS_KEEP = 10"
   ],
   "metadata": {
    "collapsed": false
   },
   "id": "def4b80205bb12ea",
   "execution_count": null
  },
  {
   "cell_type": "markdown",
   "source": [
    "##### Get variables"
   ],
   "metadata": {
    "collapsed": false
   },
   "id": "f30a5382993b01df"
  },
  {
   "cell_type": "code",
   "outputs": [],
   "source": [
    "# Method 1 - saved\n",
    "from neuralmonkey.metadat.analy.anova_params import params_getter_euclidian_vars\n",
    "\n",
    "# question = \"RULESW_ANBMCK_DIR_STROKE\"\n",
    "\n",
    "question = None\n",
    "# question = \"RULE_ANBMCK_STROKE\"\n",
    "LIST_VAR, LIST_VARS_OTHERS, LIST_CONTEXT, LIST_PRUNE_MIN_N_LEVS, LIST_FILTDICT = params_getter_euclidian_vars(question)"
   ],
   "metadata": {
    "collapsed": false
   },
   "id": "aa0d4d708d6a2ae7",
   "execution_count": null
  },
  {
   "cell_type": "code",
   "outputs": [],
   "source": [
    "################## AnBmCk [good]\n",
    "\n",
    "################## AnBmCk [good]\n",
    "LIST_VAR = [\n",
    "    \"chunk_n_in_chunk\", # (allowing first stroke in chunk) *** (NEW)\n",
    "    \"chunk_n_in_chunk\", # (allowing first stroke in chunk) *** (NEW)\n",
    "    \"chunk_n_in_chunk\", # (allowing first stroke in chunk) *** (NEW)\n",
    "    \"chunk_n_in_chunk\", # (allowing first stroke in chunk) *** (NEW)\n",
    "    # \"chunk_n_in_chunk\", # (allowing first stroke in chunk) *** (NEW)\n",
    "\n",
    "]\n",
    "# More restrictive\n",
    "LIST_VARS_OTHERS = [\n",
    "    [\"epoch\", \"chunk_rank\", \"shape\", \"loc_on_clust\", \"CTXT_locoffclust_prev\", \"loc_off_clust\", \"CTXT_shape_prev\", \"CTXT_shape_next\"],\n",
    "    [\"epoch\", \"chunk_rank\", \"shape\", \"loc_on_clust\", \"CTXT_locoffclust_prev\", \"loc_off_clust\", \"CTXT_shape_prev\", \"CTXT_shape_next\"],\n",
    "    # [\"epoch\", \"chunk_rank\", \"shape\", \"loc_on_clust\", \"CTXT_locoffclust_prev\", \"loc_off_clust\", \"CTXT_shape_prev\"],\n",
    "    # [\"epoch\", \"chunk_rank\", \"shape\", \"loc_on_clust\", \"CTXT_locoffclust_prev\", \"loc_off_clust\"],\n",
    "    # [\"epoch\", \"chunk_rank\", \"shape\", \"gridloc\", \"CTXT_loc_prev\", \"CTXT_shape_next\"],\n",
    "    [\"epoch\", \"chunk_rank\", \"shape\", \"loc_on_clust\", \"CTXT_locoffclust_prev\", \"loc_off_clust\", \"CTXT_shape_prev\", \"CTXT_shape_next\"],\n",
    "    [\"epoch\", \"chunk_rank\", \"shape\", \"loc_on_clust\", \"CTXT_locoffclust_prev\", \"loc_off_clust\", \"CTXT_shape_prev\", \"CTXT_shape_next\"],\n",
    "    # [\"epoch\", \"chunk_rank\", \"shape\", \"loc_on_clust\", \"CTXT_locoffclust_prev\", \"loc_off_clust\", \"CTXT_shape_prev\"],\n",
    "    # [\"epoch\", \"chunk_rank\", \"shape\", \"loc_on_clust\", \"CTXT_locoffclust_prev\", \"loc_off_clust\"],\n",
    "    ]\n",
    "\n",
    "LIST_CONTEXT = [\n",
    "    None for _ in range(len(LIST_VAR))\n",
    "    \n",
    "]\n",
    "\n",
    "LIST_PRUNE_MIN_N_LEVS = [2 for _ in range(len(LIST_VAR))]\n",
    "# Use 1 for things that use syntax role as effect. or else will throw out cases with 1 item in given chunk.\n",
    "\n",
    "filtdict = {\n",
    "    \"stroke_index\": list(range(1, 10, 1)), # [1, ..., ]\n",
    "}\n",
    "LIST_FILTDICT = [\n",
    "    filtdict for _ in range(len(LIST_VAR))\n",
    "]\n",
    "\n",
    "# For n in chunk, replace filter\n",
    "# LIST_FILTDICT[-1] = {\"stroke_index\": list(range(1, 10, 1)), \"chunk_within_rank_fromlast\": [-1]}\n",
    "\n",
    "# LIST_FILTDICT[-3] = {\"chunk_within_rank\": [0]}\n",
    "LIST_FILTDICT[-4] = {\"stroke_index\": list(range(1, 10, 1)), \"chunk_within_rank\": [0]}\n",
    "LIST_FILTDICT[-3] = {\"chunk_within_rank\": [0]}\n",
    "LIST_FILTDICT[-2] = {\"stroke_index\": list(range(1, 10, 1)), \"chunk_within_rank_fromlast\": [-1]}\n",
    "LIST_FILTDICT[-1] = {\"chunk_within_rank_fromlast\": [-1]}\n"
   ],
   "metadata": {
    "collapsed": false
   },
   "id": "bcf9faae92dc05da",
   "execution_count": null
  },
  {
   "cell_type": "code",
   "execution_count": null,
   "outputs": [],
   "source": [
    "########################################\n",
    "SHUFFLE = False\n",
    "extra_dimred_method = \"umap\"\n",
    "umap_n_neighbors = 40\n",
    "\n",
    "# ################# RUN\n",
    "# # LIST_FILTDICT = [\n",
    "# #     filtdict for _ in range(len(LIST_VAR))\n",
    "# # ]\n",
    "\n",
    "PLOT = False\n",
    "PLOT_MASKS = False\n",
    "nmin_trials_per_lev = 6\n",
    "PLOT_STATE_SPACE = False\n",
    "# twind = (-0.1, 0.1)\n",
    "twind = (0.05, 0.25)\n",
    "# twind = (0.05, 0.25)\n",
    "# twind = (-0.4, -0.1)\n",
    "tbin_dur = 0.1\n",
    "tbin_slice = tbin_dur\n",
    "\n",
    "from neuralmonkey.analyses.decode_good import euclidian_distance_compute\n",
    "\n",
    "list_dfres = []\n",
    "for i, row in DFallpa.iterrows():\n",
    "    br = row[\"bregion\"]\n",
    "    tw = row[\"twind\"]\n",
    "    ev = row[\"event\"]\n",
    "    PA = row[\"pa\"]\n",
    "    \n",
    "    if bregions_plot is not None:\n",
    "        if br not in bregions_plot:\n",
    "            continue\n",
    "\n",
    "    savedir = f\"{SAVEDIR_ANALYSIS}/{br}\"\n",
    "    os.makedirs(savedir, exist_ok=True)\n",
    "    import warnings\n",
    "    \n",
    "    # with warnings.catch_warnings():\n",
    "    #     warnings.simplefilter('error')\n",
    "    dfres = euclidian_distance_compute(PA, LIST_VAR, LIST_VARS_OTHERS, PLOT, PLOT_MASKS,\n",
    "                               twind, tbin_dur, tbin_slice, savedir, PLOT_STATE_SPACE=PLOT_STATE_SPACE,\n",
    "                                       nmin_trials_per_lev=nmin_trials_per_lev, LIST_CONTEXT=LIST_CONTEXT,\n",
    "                                       LIST_FILTDICT=LIST_FILTDICT, NPCS_KEEP=NPCS_KEEP, extra_dimred_method=extra_dimred_method, \n",
    "                                       umap_n_neighbors = umap_n_neighbors, LIST_PRUNE_MIN_N_LEVS=LIST_PRUNE_MIN_N_LEVS)\n",
    "    plt.close(\"all\")\n",
    "    if len(dfres)>0:\n",
    "        dfres[\"bregion\"] = br\n",
    "        dfres[\"twind\"] = [tw for _ in range(len(dfres))]\n",
    "        dfres[\"event\"] = ev\n",
    "\n",
    "        list_dfres.append(dfres)\n",
    "DFRES = pd.concat(list_dfres).reset_index(drop=True)"
   ],
   "metadata": {
    "collapsed": false
   },
   "id": "197b92db1e5b5354"
  },
  {
   "cell_type": "code",
   "outputs": [],
   "source": [
    "from neuralmonkey.scripts.analy_euclidian_dist_pop_script import compute_normalized_distances\n",
    "DFRES, _ = compute_normalized_distances(DFRES)"
   ],
   "metadata": {
    "collapsed": false
   },
   "id": "7495a327db832ed1",
   "execution_count": null
  },
  {
   "cell_type": "markdown",
   "source": [
    "### Make summary plots"
   ],
   "metadata": {
    "collapsed": false
   },
   "id": "d323de950bfdbc25"
  },
  {
   "cell_type": "code",
   "outputs": [],
   "source": [
    "SAVEDIR = \"/tmp\""
   ],
   "metadata": {
    "collapsed": false
   },
   "id": "e3dca5aca4577814",
   "execution_count": null
  },
  {
   "cell_type": "code",
   "outputs": [],
   "source": [
    "# suffix = \"chunkwithin_vs_chunkrank_samesyntax_excludefirstlast_includeeven_ifone_lev\"\n",
    "# suffix = \"chunkwithin_vs_chunkrank_anysyntax_excludefirstlast_includeeven_ifone_lev\"\n",
    "suffix = \"ALL\"\n",
    "SAVEDIR = f\"{SAVEDIR_ANALYSIS}/{suffix}\"\n",
    "import os\n",
    "os.makedirs(SAVEDIR, exist_ok=True)"
   ],
   "metadata": {
    "collapsed": false
   },
   "id": "5415d43fe4406ebc",
   "execution_count": null
  },
  {
   "cell_type": "code",
   "outputs": [],
   "source": [
    "from neuralmonkey.scripts.analy_euclidian_dist_pop_script import plot_all_results\n",
    "\n",
    "plot_all_results(DFRES, SAVEDIR)\n"
   ],
   "metadata": {
    "collapsed": false
   },
   "id": "c0e13bc6060e91e5",
   "execution_count": null
  },
  {
   "cell_type": "code",
   "outputs": [],
   "source": [
    "from neuralmonkey.scripts.analy_euclidian_dist_pop_script import plot_pairwise_btw_levels_for_seqsup\n",
    "VERSION = \"shape_vs_dir\"\n",
    "plot_pairwise_btw_levels_for_seqsup(DFRES, SAVEDIR, VERSION)"
   ],
   "metadata": {
    "collapsed": false
   },
   "id": "c49e1b325b082e0e",
   "execution_count": null
  },
  {
   "cell_type": "markdown",
   "source": [
    "# LOAD results and run summary plots"
   ],
   "metadata": {
    "collapsed": false
   },
   "id": "ba486dee1162d7c2"
  },
  {
   "cell_type": "code",
   "outputs": [],
   "source": [
    "import pandas as pd\n",
    "\n",
    "# animal = \"Pancho\"\n",
    "# date = 220909\n",
    "# question = \"RULE_ANBMCK_STROKE\"\n",
    "# fr_normalization_method = \"across_time_bins\"\n",
    "\n",
    "animal = \"Diego\"\n",
    "date = 230724\n",
    "question = \"RULE_ANBMCK_STROKE\"\n",
    "fr_normalization_method = \"across_time_bins\"\n",
    "\n",
    "# SAVEDIR = \"/lemur2/lucas/analyses/recordings/main/EUCLIDIAN_DIST/Diego-230817/RULE_ANBMCK_STROKE-fr_normalization_method=across_time_bins-NPCS_KEEP=10/twind_analy=(-0.1, 0.1)-tbin_dur=0.1\"\n",
    "\n",
    "# SAVEDIR = \"/lemur2/lucas/analyses/recordings/main/EUCLIDIAN_DIST/Diego-230911/RULESW_ANBMCK_COLRANK_STROKE-fr_normalization_method=across_time_bins-NPCS_KEEP=10/twind_analy=(-0.1, 0.1)-tbin_dur=0.1\"\n",
    "\n",
    "# SAVEDIR = \"/lemur2/lucas/analyses/recordings/main/EUCLIDIAN_DIST/Pancho-230320/RULE_ROWCOL_STROKE-fr_normalization_method=across_time_bins-NPCS_KEEP=10/twind_analy=(-0.1, 0.1)-tbin_dur=0.1\"\n",
    "\n",
    "# SAVEDIR = \"/lemur2/lucas/analyses/recordings/main/EUCLIDIAN_DIST/Diego-230925/RULESW_ANY_SEQSUP_STROKE-fr_normalization_method=across_time_bins-NPCS_KEEP=10/twind_analy=(-0.1, 0.1)-tbin_dur=0.1\"\n",
    "\n",
    "# SAVEDIR = \"/lemur2/lucas/analyses/recordings/main/EUCLIDIAN_DIST/Diego-230724/RULE_ANBMCK_STROKE-fr_normalization_method=across_time_bins-NPCS_KEEP=10/twind_analy=(-0.1, 0.1)-tbin_dur=0.1\"\n",
    "\n",
    "SAVEDIR = f\"/lemur2/lucas/analyses/recordings/main/EUCLIDIAN_DIST/{animal}-{date}/{question}-fr_normalization_method={fr_normalization_method}-NPCS_KEEP=10/twind_analy=(-0.1, 0.1)-tbin_dur=0.1\"\n",
    "\n",
    "path = f\"{SAVEDIR}/DFRES.pkl\"\n",
    "\n",
    "DFRES = pd.read_pickle(path)"
   ],
   "metadata": {
    "collapsed": false
   },
   "id": "30541fbffd425839",
   "execution_count": null
  },
  {
   "cell_type": "code",
   "outputs": [],
   "source": [
    "\n",
    "from neuralmonkey.scripts.analy_euclidian_dist_pop_script import plot_all_results, compute_normalized_distances, sort_df"
   ],
   "metadata": {
    "collapsed": false
   },
   "id": "6c68b3ba3c8c8880",
   "execution_count": null
  },
  {
   "cell_type": "code",
   "outputs": [],
   "source": [
    "\n",
    "DFRES, _ = compute_normalized_distances(DFRES)"
   ],
   "metadata": {
    "collapsed": false
   },
   "id": "dceacdb82b947879",
   "execution_count": null
  },
  {
   "cell_type": "code",
   "outputs": [],
   "source": [
    "SAVEDIR = \"/tmp\"\n",
    "plot_all_results(DFRES, SAVEDIR)\n"
   ],
   "metadata": {
    "collapsed": false
   },
   "id": "ac0cf09aa955004c",
   "execution_count": null
  },
  {
   "cell_type": "code",
   "outputs": [],
   "source": [
    "# Plot marginal distributions too.\n",
    "\n",
    "# fig: variable; subplot: bregion\n"
   ],
   "metadata": {
    "collapsed": false
   },
   "id": "4ca76ba46ccdd329"
  },
  {
   "cell_type": "code",
   "outputs": [],
   "source": [
    "##### Summary plots across mu\n",
    "\n",
    "# 1) scatter plot like above.\n",
    "# 2) histograms (data level and day level).\n",
    "# 3) "
   ],
   "metadata": {
    "collapsed": false
   },
   "id": "84cb26ac54b0e5a4"
  },
  {
   "cell_type": "markdown",
   "source": [
    "# Load multiple day and make summary plots"
   ],
   "metadata": {
    "collapsed": false
   },
   "id": "1301037573ba3ba3"
  },
  {
   "cell_type": "code",
   "outputs": [],
   "source": [
    "import pandas as pd"
   ],
   "metadata": {
    "collapsed": false,
    "ExecuteTime": {
     "end_time": "2024-04-17T05:24:21.265247104Z",
     "start_time": "2024-04-17T05:24:21.236200454Z"
    }
   },
   "id": "250665837f705aa6",
   "execution_count": 2
  },
  {
   "cell_type": "code",
   "outputs": [],
   "source": [
    "# SAve dir"
   ],
   "metadata": {
    "collapsed": false,
    "ExecuteTime": {
     "end_time": "2024-04-17T05:24:21.544447008Z",
     "start_time": "2024-04-17T05:24:21.531155563Z"
    }
   },
   "id": "846d7d9d41c5958d",
   "execution_count": 3
  },
  {
   "cell_type": "code",
   "outputs": [],
   "source": [
    "from neuralmonkey.scripts.analy_euclidian_dist_pop_script_MULT import load_preprocess_concat_mult_sessions, plot_all\n",
    "from neuralmonkey.scripts.analy_euclidian_dist_pop_script import plot_histograms_clean_wrapper"
   ],
   "metadata": {
    "collapsed": false,
    "ExecuteTime": {
     "end_time": "2024-04-17T05:24:21.909282030Z",
     "start_time": "2024-04-17T05:24:21.877973307Z"
    }
   },
   "id": "2d49e6bb398850b6",
   "execution_count": 4
  },
  {
   "cell_type": "code",
   "outputs": [
    {
     "name": "stdout",
     "output_type": "stream",
     "text": [
      "Loading...  /lemur2/lucas/analyses/recordings/main/EUCLIDIAN_DIST/Diego-230724/RULE_ANBMCK_STROKE-fr_normalization_method=across_time_bins-NPCS_KEEP=10/twind_analy=(-0.1, 0.1)-tbin_dur=0.1\n",
      "Loading...  /lemur2/lucas/analyses/recordings/main/EUCLIDIAN_DIST/Diego-230726/RULE_ANBMCK_STROKE-fr_normalization_method=across_time_bins-NPCS_KEEP=10/twind_analy=(-0.1, 0.1)-tbin_dur=0.1\n",
      "Loading...  /lemur2/lucas/analyses/recordings/main/EUCLIDIAN_DIST/Diego-230730/RULE_ANBMCK_STROKE-fr_normalization_method=across_time_bins-NPCS_KEEP=10/twind_analy=(-0.1, 0.1)-tbin_dur=0.1\n",
      "Loading...  /lemur2/lucas/analyses/recordings/main/EUCLIDIAN_DIST/Diego-230817/RULE_ANBMCK_STROKE-fr_normalization_method=across_time_bins-NPCS_KEEP=10/twind_analy=(-0.1, 0.1)-tbin_dur=0.1\n",
      "Loading...  /lemur2/lucas/analyses/recordings/main/EUCLIDIAN_DIST/Diego-230913/RULE_ANBMCK_STROKE-fr_normalization_method=across_time_bins-NPCS_KEEP=10/twind_analy=(-0.1, 0.1)-tbin_dur=0.1\n",
      "Loading...  /lemur2/lucas/analyses/recordings/main/EUCLIDIAN_DIST/Diego-231116/RULE_ANBMCK_STROKE-fr_normalization_method=across_time_bins-NPCS_KEEP=10/twind_analy=(-0.1, 0.1)-tbin_dur=0.1\n",
      "Loading...  /lemur2/lucas/analyses/recordings/main/EUCLIDIAN_DIST/Diego-231118/RULE_ANBMCK_STROKE-fr_normalization_method=across_time_bins-NPCS_KEEP=10/twind_analy=(-0.1, 0.1)-tbin_dur=0.1\n",
      "/lemur2/lucas/analyses/recordings/main/EUCLIDIAN_DIST/MULT/Diego-RULE_ANBMCK_STROKE-AnBmCk_general-230724-231118\n"
     ]
    }
   ],
   "source": [
    "\n",
    "\n",
    "DFRES, DFRES_PIVOT_DISTR, DFRES_PIVOT_PAIRWISE, DFRES_PIVOT_YUE, SAVEDIR_ANALYSIS, params, plot_params = load_preprocess_concat_mult_sessions(\"Diego\", \"AnBmCk_general\")\n"
   ],
   "metadata": {
    "collapsed": false,
    "ExecuteTime": {
     "end_time": "2024-04-17T05:24:39.433333982Z",
     "start_time": "2024-04-17T05:24:22.338880134Z"
    }
   },
   "id": "5b04727822b72314",
   "execution_count": 5
  },
  {
   "cell_type": "markdown",
   "source": [
    "##### Make plots, single day plots, histograms"
   ],
   "metadata": {
    "collapsed": false
   },
   "id": "a9ce19fe22439473"
  },
  {
   "cell_type": "code",
   "outputs": [
    {
     "data": {
      "text/plain": "[\"00|chunk_within_rank_semantic|('epoch', 'syntax_concrete', 'shape')\",\n \"01|chunk_within_rank_semantic|('epoch', 'shape')\",\n \"02|chunk_within_rank_semantic|('epoch', 'syntax_concrete', 'shape', 'behseq_locs_clust')\",\n \"03|chunk_within_rank_semantic|('epoch', 'syntax_concrete', 'shape', 'behseq_locs_clust')\",\n \"04|chunk_within_rank_semantic|('epoch', 'shape', 'stroke_index')\",\n \"05|chunk_within_rank_semantic|('epoch', 'stroke_index')\",\n \"06|chunk_within_rank|('epoch', 'syntax_concrete', 'shape')\",\n \"07|chunk_within_rank|('epoch', 'shape')\",\n \"08|chunk_within_rank_semantic|('epoch', 'syntax_concrete', 'shape')\",\n \"09|chunk_within_rank|('epoch', 'syntax_concrete', 'shape')\",\n \"10|syntax_role|('epoch',)\",\n \"11|syntax_role|('syntax_concrete', 'epoch')\",\n \"12|syntax_role|('syntax_concrete', 'epoch', 'behseq_locs_clust')\",\n \"13|syntax_role|('syntax_concrete', 'epoch')\",\n \"14|syntax_role|('syntax_concrete', 'behseq_locs_clust', 'epoch')\",\n \"17|chunk_within_rank_semantic|('epoch', 'chunk_rank', 'shape', 'loc_on_clust', 'CTXT_locoffclust_prev', 'loc_off_clust', 'CTXT_shape_prev', 'CTXT_loconclust_next')\",\n \"18|chunk_within_rank_semantic|('epoch', 'chunk_rank', 'shape', 'loc_on_clust', 'CTXT_locoffclust_prev', 'loc_off_clust', 'CTXT_shape_prev')\",\n \"19|chunk_within_rank_semantic|('epoch', 'chunk_rank', 'shape', 'loc_on_clust', 'CTXT_locoffclust_prev', 'loc_off_clust')\",\n \"20|chunk_within_rank|('epoch', 'chunk_rank', 'shape', 'loc_on_clust', 'CTXT_locoffclust_prev', 'loc_off_clust', 'CTXT_shape_prev')\",\n \"21|chunk_within_rank|('epoch', 'chunk_rank', 'shape', 'loc_on_clust', 'CTXT_locoffclust_prev', 'loc_off_clust')\",\n \"22|chunk_within_rank_fromlast|('epoch', 'chunk_rank', 'shape', 'loc_on_clust', 'CTXT_locoffclust_prev', 'loc_off_clust', 'CTXT_shape_prev')\",\n \"23|chunk_within_rank_fromlast|('epoch', 'chunk_rank', 'shape', 'loc_on_clust', 'CTXT_locoffclust_prev', 'loc_off_clust')\",\n \"24|stroke_index|('epoch', 'chunk_rank', 'shape', 'loc_on_clust', 'CTXT_locoffclust_prev', 'loc_off_clust', 'CTXT_shape_prev')\",\n \"25|stroke_index|('epoch', 'chunk_rank', 'shape', 'loc_on_clust', 'CTXT_locoffclust_prev', 'loc_off_clust')\",\n \"26|chunk_within_rank_fromlast|('epoch', 'chunk_rank', 'shape', 'loc_on_clust', 'CTXT_locoffclust_prev', 'loc_off_clust', 'chunk_within_rank')\",\n \"27|chunk_within_rank|('epoch', 'chunk_rank', 'shape', 'loc_on_clust', 'CTXT_locoffclust_prev', 'loc_off_clust', 'chunk_within_rank_fromlast')\",\n \"28|chunk_within_rank_fromlast|('epoch', 'chunk_rank', 'shape', 'loc_on_clust', 'loc_off_clust', 'chunk_within_rank')\",\n \"29|chunk_within_rank|('epoch', 'chunk_rank', 'shape', 'loc_on_clust', 'loc_off_clust', 'chunk_within_rank_fromlast')\",\n \"30|chunk_within_rank_fromlast|('epoch', 'chunk_rank', 'shape', 'loc_on_clust', 'loc_off_clust', 'stroke_index')\",\n \"31|stroke_index|('epoch', 'chunk_rank', 'shape', 'loc_on_clust', 'loc_off_clust', 'chunk_within_rank_fromlast')\",\n \"32|syntax_concrete|('epoch', 'chunk_rank', 'shape', 'loc_on_clust', 'CTXT_locoffclust_prev', 'loc_off_clust', 'CTXT_shape_prev', 'chunk_within_rank_semantic')\",\n \"34|chunk_rank|('epoch', 'gridloc', 'CTXT_loc_prev', 'chunk_within_rank_semantic')\",\n \"35|gridloc|('epoch', 'chunk_rank', 'shape', 'chunk_within_rank_semantic', 'CTXT_shape_prev', 'CTXT_locoffclust_prev', 'CTXT_loconclust_next', 'syntax_concrete')\",\n \"36|gridloc|('epoch', 'chunk_rank', 'shape', 'chunk_within_rank_semantic', 'CTXT_shape_prev', 'CTXT_locoffclust_prev', 'CTXT_loconclust_next')\",\n \"37|gridloc|('epoch', 'chunk_rank', 'shape', 'chunk_within_rank_semantic', 'CTXT_shape_prev', 'CTXT_locoffclust_prev')\",\n \"38|gridloc|('epoch', 'chunk_rank', 'shape', 'chunk_within_rank_semantic', 'CTXT_shape_prev')\",\n \"39|chunk_n_in_chunk|('epoch', 'chunk_rank', 'shape', 'loc_on_clust', 'CTXT_locoffclust_prev', 'loc_off_clust', 'CTXT_shape_prev', 'CTXT_shape_next')\",\n \"40|chunk_n_in_chunk|('epoch', 'chunk_rank', 'shape', 'loc_on_clust', 'CTXT_locoffclust_prev', 'loc_off_clust', 'CTXT_shape_prev')\",\n \"41|chunk_n_in_chunk|('epoch', 'chunk_rank', 'shape', 'loc_on_clust', 'CTXT_locoffclust_prev', 'loc_off_clust')\",\n \"42|chunk_n_in_chunk|('epoch', 'chunk_rank', 'shape', 'loc_on_clust', 'CTXT_locoffclust_prev', 'loc_off_clust', 'CTXT_shape_prev', 'CTXT_shape_next')\",\n \"43|chunk_n_in_chunk|('epoch', 'chunk_rank', 'shape', 'loc_on_clust', 'CTXT_locoffclust_prev', 'loc_off_clust', 'CTXT_shape_prev')\",\n \"44|chunk_n_in_chunk|('epoch', 'chunk_rank', 'shape', 'loc_on_clust', 'CTXT_locoffclust_prev', 'loc_off_clust')\",\n \"33|chunk_rank|('epoch', 'shape', 'gridloc', 'CTXT_loc_prev', 'CTXT_shape_prev')\"]"
     },
     "execution_count": 6,
     "metadata": {},
     "output_type": "execute_result"
    }
   ],
   "source": [
    "DFRES[\"var_var_others\"].unique().tolist()"
   ],
   "metadata": {
    "collapsed": false,
    "ExecuteTime": {
     "end_time": "2024-04-17T05:27:26.299506530Z",
     "start_time": "2024-04-17T05:27:26.252817569Z"
    }
   },
   "id": "51b2f5d2ae85a88a",
   "execution_count": 6
  },
  {
   "cell_type": "code",
   "outputs": [],
   "source": [
    "from pythonlib.tools.snstools import map_function_tofacet\n",
    "import seaborn as sns\n",
    "from pythonlib.tools.snstools import map_function_tofacet, rotateLabel\n",
    "from pythonlib.tools.plottools import savefig\n"
   ],
   "metadata": {
    "collapsed": false
   },
   "id": "e3cf9e3987f7867",
   "execution_count": null
  },
  {
   "cell_type": "code",
   "outputs": [],
   "source": [],
   "metadata": {
    "collapsed": false
   },
   "id": "55641e9ed150a758"
  },
  {
   "cell_type": "code",
   "outputs": [
    {
     "ename": "NameError",
     "evalue": "name 'sadsa' is not defined",
     "output_type": "error",
     "traceback": [
      "\u001B[0;31m---------------------------------------------------------------------------\u001B[0m",
      "\u001B[0;31mNameError\u001B[0m                                 Traceback (most recent call last)",
      "Cell \u001B[0;32mIn[13], line 12\u001B[0m\n\u001B[1;32m      9\u001B[0m \u001B[38;5;66;03m# bregions_plot = [\"M1_m\", \"PMv_m\", \"PMd_p\", \"dlPFC_a\", \"vlPFC_p\", ]\u001B[39;00m\n\u001B[1;32m     10\u001B[0m \u001B[38;5;66;03m# bregions_plot = [\"M1_m\", \"dlPFC_a\", \"preSMA_a\"]\u001B[39;00m\n\u001B[1;32m     11\u001B[0m bregions_plot \u001B[38;5;241m=\u001B[39m [\u001B[38;5;124m\"\u001B[39m\u001B[38;5;124mM1_m\u001B[39m\u001B[38;5;124m\"\u001B[39m, \u001B[38;5;124m\"\u001B[39m\u001B[38;5;124mpreSMA_a\u001B[39m\u001B[38;5;124m\"\u001B[39m]\n\u001B[0;32m---> 12\u001B[0m \u001B[43msadsa\u001B[49m\n\u001B[1;32m     13\u001B[0m plot_histograms_clean_wrapper(DFRES, SAVEDIR_ANALYSIS, dat_level, effect_context,\n\u001B[1;32m     14\u001B[0m                                   bregions_plot)\n",
      "\u001B[0;31mNameError\u001B[0m: name 'sadsa' is not defined"
     ]
    }
   ],
   "source": [
    "# -- PARAMS\n",
    "dat_level = \"distr\"\n",
    "effect_context = \"diff|same\"\n",
    "\n",
    "# bregions_plot = [\"M1_m\", \"PMv_m\", \"PMd_p\", \"dlPFC_a\", \"vlPFC_p\", ]\n",
    "# bregions_plot = [\"M1_m\", \"dlPFC_a\", \"preSMA_a\"]\n",
    "bregions_plot = [\"M1_m\", \"preSMA_a\"]\n",
    "\n",
    "# bregions_plot = [\"M1_m\", \"PMv_m\", \"PMd_p\", \"dlPFC_a\", \"vlPFC_p\", ]\n",
    "# bregions_plot = [\"M1_m\", \"dlPFC_a\", \"preSMA_a\"]\n",
    "bregions_plot = [\"M1_m\", \"preSMA_a\"]\n",
    "\n",
    "plot_histograms_clean_wrapper(DFRES, SAVEDIR_ANALYSIS, dat_level, effect_context,\n",
    "                                  bregions_plot)\n"
   ],
   "metadata": {
    "collapsed": false,
    "ExecuteTime": {
     "end_time": "2024-04-17T05:44:40.061310112Z",
     "start_time": "2024-04-17T05:44:40.013125907Z"
    }
   },
   "id": "dcb1d30aefa70a5e",
   "execution_count": 13
  },
  {
   "cell_type": "code",
   "outputs": [],
   "source": [],
   "metadata": {
    "collapsed": false,
    "ExecuteTime": {
     "end_time": "2024-04-17T05:27:50.913360044Z",
     "start_time": "2024-04-17T05:27:50.869278036Z"
    }
   },
   "id": "2df042a392a14cf9",
   "execution_count": 7
  },
  {
   "cell_type": "markdown",
   "source": [
    "##### Make plots"
   ],
   "metadata": {
    "collapsed": false
   },
   "id": "8c4100fa939df86a"
  },
  {
   "cell_type": "code",
   "outputs": [],
   "source": [
    "DFRES\n",
    "DFRES[\"levo\"].tolist()"
   ],
   "metadata": {
    "collapsed": false
   },
   "id": "75e9caee03dd2857",
   "execution_count": null
  },
  {
   "cell_type": "code",
   "outputs": [],
   "source": [
    "plot_all(DFRES, DFRES_PIVOT_DISTR, DFRES_PIVOT_PAIRWISE, DFRES_PIVOT_YUE, plot_params, SAVEDIR_ANALYSIS)"
   ],
   "metadata": {
    "collapsed": false
   },
   "id": "78beb1b977240f9c",
   "execution_count": null
  },
  {
   "cell_type": "code",
   "outputs": [],
   "source": [
    "from neuralmonkey.scripts.analy_euclidian_dist_pop_script import plot_pairwise_btw_levels_for_seqsup\n",
    "plot_pairwise_btw_levels_for_seqsup(DFRES, \"/tmp\", one_subplot_per_bregion=True)"
   ],
   "metadata": {
    "collapsed": false
   },
   "id": "94d6f21968aca0fb",
   "execution_count": null
  },
  {
   "cell_type": "code",
   "outputs": [],
   "source": [
    "_var = \"var_others\"\n",
    "\n",
    "inds_keep = [i for i, var_others in enumerate(DFRES[_var]) if (var_others[0] in [\"epochset_shape\", \"epochset_dir\"]) and (\"superv_is_seq_sup\" in var_others)]\n"
   ],
   "metadata": {
    "collapsed": false
   },
   "id": "e32c51075c0715f8",
   "execution_count": null
  },
  {
   "cell_type": "code",
   "outputs": [],
   "source": [
    "DFRES.iloc[inds_keep][\"levo\"].unique()"
   ],
   "metadata": {
    "collapsed": false
   },
   "id": "6a2f9e794fcad635",
   "execution_count": null
  },
  {
   "cell_type": "code",
   "outputs": [],
   "source": [
    "list_levo_simp"
   ],
   "metadata": {
    "collapsed": false
   },
   "id": "e04f10d9ca1f8769",
   "execution_count": null
  },
  {
   "cell_type": "code",
   "outputs": [],
   "source": [
    "s = \"sadfsad|0\"\n",
    "\n",
    "s[-2:] == \"|0\"\n",
    "s[-4] != \"|\" "
   ],
   "metadata": {
    "collapsed": false
   },
   "id": "922911a32d7d36d3",
   "execution_count": null
  },
  {
   "cell_type": "code",
   "outputs": [],
   "source": [
    "asdfasdfa"
   ],
   "metadata": {
    "collapsed": false
   },
   "id": "3becbd3543065b"
  },
  {
   "cell_type": "code",
   "outputs": [],
   "source": [
    "decompose_string(\"asdsad | asdsad\", \"|\")\n"
   ],
   "metadata": {
    "collapsed": false
   },
   "id": "a835bb3ba6864ca",
   "execution_count": null
  },
  {
   "cell_type": "code",
   "outputs": [],
   "source": [
    "from pythonlib.tools.stringtools import decompose_string\n",
    "decompose_string(levo[1], \"|\")"
   ],
   "metadata": {
    "collapsed": false
   },
   "id": "ca399e18db21364f",
   "execution_count": null
  },
  {
   "cell_type": "code",
   "outputs": [],
   "source": [
    "levo[1]"
   ],
   "metadata": {
    "collapsed": false
   },
   "id": "5a3b98704b66b63",
   "execution_count": null
  },
  {
   "cell_type": "code",
   "outputs": [],
   "source": [
    "levo[1]"
   ],
   "metadata": {
    "collapsed": false
   },
   "id": "65b422340cb58a66",
   "execution_count": null
  },
  {
   "cell_type": "markdown",
   "source": [
    "# OLDER STUFF"
   ],
   "metadata": {
    "collapsed": false
   },
   "id": "ed701b063a1e34b4"
  },
  {
   "cell_type": "code",
   "outputs": [],
   "source": [
    "# Save all the params\n",
    "from pythonlib.tools.expttools import writeDictToTxtFlattened\n",
    "path = f\"{SAVEDIR_ANALYSIS}/params_var.txt\"\n",
    "writeDictToTxtFlattened({\n",
    "    \"LIST_VAR\":{i:x for i, x in enumerate(LIST_VAR)},\n",
    "    \"LIST_VARS_OTHERS\":{i:x for i, x in enumerate(LIST_VARS_OTHERS)},\n",
    "    \"LIST_CONTEXT\":{i:x for i, x in enumerate(LIST_CONTEXT)},\n",
    "    \"LIST_PRUNE_MIN_N_LEVS\":{i:x for i, x in enumerate(LIST_PRUNE_MIN_N_LEVS)},\n",
    "    \"LIST_FILTDICT\":{i:x for i, x in enumerate(LIST_FILTDICT)}}, path)\n"
   ],
   "metadata": {
    "collapsed": false
   },
   "id": "f6a91597a99e6622",
   "execution_count": null
  },
  {
   "cell_type": "code",
   "outputs": [],
   "source": [
    "DFRES"
   ],
   "metadata": {
    "collapsed": false
   },
   "id": "7325da401a6ff371",
   "execution_count": null
  },
  {
   "cell_type": "code",
   "outputs": [],
   "source": [
    "# Compute normalized distnaces\n",
    "from pythonlib.tools.pandastools import append_col_with_grp_index\n",
    "DFRES[\"dist_norm_98\"] = DFRES[\"dist\"]/DFRES[\"DIST_NULL_98\"]\n",
    "DFRES[\"dist_norm_95\"] = DFRES[\"dist\"]/DFRES[\"DIST_NULL_95\"]\n",
    "DFRES[\"dist_norm_50\"] = DFRES[\"dist\"]/DFRES[\"DIST_NULL_50\"]\n",
    "DFRES[\"var_others\"] = [tuple(x) for x in DFRES[\"var_others\"]]\n",
    "DFRES = append_col_with_grp_index(DFRES, [\"index_var\", \"var\", \"var_others\"], \"var_var_others\")\n",
    "DFRES = append_col_with_grp_index(DFRES, [\"effect_samediff\", \"context_samediff\"], \"effect_context\")\n",
    "\n",
    "# Pivot\n",
    "from pythonlib.tools.pandastools import pivot_table\n",
    "DFRES_PIVOT = pivot_table(DFRES, [\"var\", \"var_others\", \"shuffled\", \"bregion\", \"twind\", \"event\", \"var_var_others\", \"dat_level\"], [\"effect_context\"], [\"dist_norm_95\"], flatten_col_names=True).reset_index(drop=True)\n",
    "\n",
    "# dfthis = pivot_table(DFRES, [\"var\", \"var_others\", \"shuffled\", \"bregion\", \"twind\", \"event\", \"var_var_others\"], [\"effect_samediff\", \"context_samediff\"], [\"dist_norm_95\"], flatten_col_names=True).reset_index(drop=True)\n",
    "\n",
    "DFRES_PIVOT[\"effect_index\"] = DFRES_PIVOT[\"dist_norm_95-diff|same\"] / (DFRES_PIVOT[\"dist_norm_95-diff|same\"] + DFRES_PIVOT[\"dist_norm_95-same|diff\"])\n",
    "# DFRES_PIVOT[\"effect_index\"] = DFRES_PIVOT[\"dist_norm_95-diff|same\"] / DFRES_PIVOT[\"dist_norm_95-same|diff\"]\n",
    "\n",
    "DFRES_PIVOT\n",
    "DFRES_PIVOT_PAIRWISE = DFRES_PIVOT[DFRES_PIVOT[\"dat_level\"] == \"pts\"].reset_index(drop=True)\n",
    "DFRES_PIVOT_PAIRWISE[\"dist_norm_95-same|same\"]\n",
    "DFRES_PIVOT_PAIRWISE[\"norm_dist_effect\"] = DFRES_PIVOT_PAIRWISE[\"dist_norm_95-diff|same\"]-DFRES_PIVOT_PAIRWISE[\"dist_norm_95-same|same\"]\n",
    "# This makes less sense --> diff|diff can be different for many reasons, emprticlaly doesnt match intuition that well\n",
    "# DFRES_PIVOT_PAIRWISE[\"norm_dist_context\"] = DFRES_PIVOT_PAIRWISE[\"dist_norm_95-same|diff\"] - DFRES_PIVOT_PAIRWISE[\"dist_norm_95-diff|diff\"]\n",
    "DFRES_PIVOT_PAIRWISE[\"norm_dist_context\"] = DFRES_PIVOT_PAIRWISE[\"dist_norm_95-same|diff\"] - DFRES_PIVOT_PAIRWISE[\"dist_norm_95-same|same\"]\n",
    "DFRES_PIVOT_PAIRWISE[\"norm_dist_both\"] = DFRES_PIVOT_PAIRWISE[\"norm_dist_effect\"] - DFRES_PIVOT_PAIRWISE[\"norm_dist_context\"]\n",
    "\n",
    "# DFRES_PIVOT_PAIRWISE[\"norm_dist_effect\"] = DFRES_PIVOT_PAIRWISE[\"dist_norm_95-diff|same\"]/DFRES_PIVOT_PAIRWISE[\"dist_norm_95-same|same\"] \n",
    "# DFRES_PIVOT_PAIRWISE[\"norm_dist_context\"] = DFRES_PIVOT_PAIRWISE[\"dist_norm_95-same|diff\"]/DFRES_PIVOT_PAIRWISE[\"dist_norm_95-diff|diff\"]\n",
    "# DFRES_PIVOT_PAIRWISE[\"norm_dist_both\"] = DFRES_PIVOT_PAIRWISE[\"norm_dist_effect\"]/DFRES_PIVOT_PAIRWISE[\"norm_dist_context\"]\n",
    "\n",
    "DFRES_PIVOT_PAIRWISE"
   ],
   "metadata": {
    "collapsed": false
   },
   "id": "209973f807f70637",
   "execution_count": null
  },
  {
   "cell_type": "code",
   "outputs": [],
   "source": [],
   "metadata": {
    "collapsed": false
   },
   "id": "77b757dc2b480f32",
   "execution_count": null
  },
  {
   "cell_type": "code",
   "outputs": [],
   "source": [
    "\n",
    "# SAVE\n",
    "path = f\"{SAVEDIR}/DFRES.pkl\"\n",
    "pd.to_pickle(DFRES, path)\n",
    "print(\"Saved to: \", path)\n",
    "\n",
    "######################################### QUICK PLOT - SUMMARIES\n",
    "import seaborn as sns\n",
    "from pythonlib.tools.snstools import rotateLabel\n",
    "from pythonlib.tools.plottools import savefig\n",
    "from pythonlib.tools.pandastools import summarize_featurediff\n",
    "\n",
    "savedir = f\"{SAVEDIR}/FIGURES\"\n",
    "os.makedirs(savedir, exist_ok=True)\n",
    "DFTHIS = DFRES\n",
    "\n",
    "########## OVERVIEWS\n",
    "yvar = \"dist_norm_95\"\n",
    "for yvarthis in [yvar, \"dist\", \"DIST_NULL_95\"]:\n",
    "    for dat_level in DFTHIS[\"dat_level\"].unique():\n",
    "        dfthis = DFTHIS[DFTHIS[\"dat_level\"]==dat_level]\n",
    "        \n",
    "        fig = sns.catplot(data=dfthis, x=\"bregion\", y=yvarthis, col=\"var_var_others\", hue=\"effect_context\",\n",
    "                          col_wrap=3, aspect=1.5, alpha=0.4, height=6)\n",
    "        rotateLabel(fig)\n",
    "        savefig(fig, f\"{savedir}/overview_scatter-{yvarthis}-{dat_level}.pdf\")\n",
    "    \n",
    "        fig = sns.catplot(data=dfthis, x=\"bregion\", y=yvarthis, col=\"var_var_others\", hue=\"effect_context\",\n",
    "                          col_wrap=3, aspect=1.5, kind=\"bar\", height=6)\n",
    "        rotateLabel(fig)\n",
    "        savefig(fig, f\"{savedir}/overview_bar-{yvarthis}-{dat_level}.pdf\")\n",
    "    \n",
    "        plt.close(\"all\")\n",
    "        \n",
    "########## OVERVIEWS\n",
    "yvarthis = \"effect_index\"\n",
    "fig = sns.catplot(data=DFRES_PIVOT, x=\"bregion\", y=yvarthis, hue=\"var_var_others\",  aspect=1.5, col=\"dat_level\",\n",
    "                  height=6, kind=\"bar\")\n",
    "rotateLabel(fig)\n",
    "savefig(fig, f\"{savedir}/effect_index-bar.pdf\")\n",
    "########## OVERVIEWS\n",
    "for yvarthis in [\"norm_dist_effect\", \"norm_dist_context\", \"norm_dist_both\"]:\n",
    "    fig = sns.catplot(data=DFRES_PIVOT_PAIRWISE, x=\"bregion\", y=yvarthis, hue=\"var_var_others\",  aspect=1.5, height=6, kind=\"bar\")\n",
    "    rotateLabel(fig)\n",
    "    savefig(fig, f\"{savedir}/FINAL-{yvarthis}-bar.pdf\")\n",
    "    \n",
    "# Plot of histograms, one for each bregion\n",
    "sns.set_context(\"paper\", rc={\"axes.labelsize\":5})   \n",
    "sns.displot(data=DFRES, x=\"dist_norm_95\", hue=\"effect_context\", col=\"bregion\", row=\"var_var_others\", element=\"step\", fill=True, bins=20)\n",
    "sns.displot(data=DFRES, x=\"dist_norm_95\", hue=\"effect_context\", col=\"bregion\", row=\"var_var_others\", kind=\"kde\", fill=False)\n",
    "########### PLOT ALL specific conjunction levels in heatmaps\n",
    "from pythonlib.tools.pandastools import plot_subplots_heatmap\n",
    "print(\"Plotting specific conjucntions heatmaps ... \")\n",
    "yvar = \"dist\"\n",
    "list_effect_context = DFTHIS[\"effect_context\"].unique()\n",
    "list_shuffled = DFTHIS[\"shuffled\"].unique()\n",
    "for effect_context in list_effect_context:\n",
    "    for shuffled in list_shuffled:\n",
    "\n",
    "        dfthis = DFTHIS[(DFTHIS[\"effect_context\"]==effect_context) & (DFTHIS[\"shuffled\"]==shuffled)].reset_index(drop=True)\n",
    "        savedirthis = f\"{savedir}/each_conjunction-effect_context={effect_context}-shuffled={shuffled}\"\n",
    "        os.makedirs(savedirthis, exist_ok=True)\n",
    "        print(\"... \", savedirthis)\n",
    "\n",
    "        # # 1) Scatter\n",
    "        # list_vvo = dfthis[\"var_var_others\"].unique().tolist()\n",
    "        # for vvo in list_vvo:\n",
    "        #     dfthisthis = dfthis[dfthis[\"var_var_others\"]==vvo]\n",
    "        #     fig = sns.catplot(data=dfthisthis, x=yvar, y=\"levo\", col=\"bregion\", alpha=0.4)\n",
    "        #     savefig(fig, f\"{savedirthis}/allconj_scatter-vvo={vvo}.pdf\", height=6)\n",
    "        #     plt.close(\"all\")\n",
    "\n",
    "        # 2) Heatmap\n",
    "        fig, axes = plot_subplots_heatmap(dfthis, \"bregion\", \"levo\", yvar, \"var_var_others\",\n",
    "                                          diverge=True, ncols=None, share_zlim=True)\n",
    "        savefig(fig, f\"{savedirthis}/allconj_heatmap.pdf\")\n"
   ],
   "metadata": {
    "collapsed": false
   },
   "id": "f925d44e21e1747b",
   "execution_count": null
  },
  {
   "cell_type": "markdown",
   "source": [
    "### OLD PLOTS"
   ],
   "metadata": {
    "collapsed": false
   },
   "id": "7648632878f56def"
  },
  {
   "cell_type": "markdown",
   "source": [
    "##### If using \"euclidian\", then need to subtract shuffled"
   ],
   "metadata": {
    "collapsed": false
   },
   "id": "7d6f616905352ef3"
  },
  {
   "cell_type": "code",
   "execution_count": null,
   "outputs": [],
   "source": [
    "from pythonlib.tools.pandastools import summarize_featurediff\n",
    "\n",
    "dfsummary, dfsummaryflat, COLNAMES_NOABS, COLNAMES_ABS, COLNAMES_DIFF = summarize_featurediff(DFRES, \"shuffled\", [True, False], [\"dist_norm_95\"], [\"var_var_others\", \"var\", \"var_others\", \"levo\", \"bregion\", \"twind\", \"event\"], return_dfpivot=False)\n",
    "\n",
    "# summarize_featurediff(DFRES, \"bregion\", [\"M1_m\", \"M1_l\"], [\"DIST_NULL_95\"], [\"var\", \"var_others\"], return_dfpivot=True)\n",
    "\n",
    "\n",
    "# dfsummary, dfsummaryflat, COLNAMES_NOABS, COLNAMES_ABS, COLNAMES_DIFF = summarize_featurediff(DFRES, \"bregion\", [\"M1_m\", \"M1_l\"], [\"DIST_NULL_95\"], [\"var\", \"var_others\", \"levo\", \"twind\", \"event\"], return_dfpivot=False)\n",
    "\n",
    "\n",
    "# DFRES[DFRES[\"shuffled\"].isna()==True].index\n",
    "# DFRES.loc[DFRES[\"shuffled\"].isna(), [\"shuffled\"]] = False\n",
    "# # DFRES.loc[DFRES[DFRES[\"shuffled\"].isna()==True].index, [\"shuffled\"]]\n",
    "\n",
    "# QUICK PLOT - SUMMARIES\n",
    "import seaborn as sns\n",
    "from pythonlib.tools.snstools import rotateLabel\n",
    "from pythonlib.tools.plottools import savefig\n",
    "\n",
    "fig = sns.catplot(data=dfsummaryflat, x=\"bregion\", y=\"value\", col=\"var_var_others\", hue=\"variable\", col_wrap=3, aspect=1.5)\n",
    "rotateLabel(fig)\n",
    "savefig(fig, f\"{SAVEDIR_ANALYSIS}/overview_scatter.pdf\")\n",
    "\n",
    "# fig = sns.catplot(data=DFRES, x=\"bregion\", y=\"dist_norm_95\", col=\"var_var_others\", hue=\"shuffled\", col_wrap=3,  aspect=1.5, kind=\"bar\", ci=68)\n",
    "# rotateLabel(fig)\n",
    "# savefig(fig, f\"{SAVEDIR_ANALYSIS}/overview_bar.pdf\")\n",
    "\n",
    "\n",
    "# QUICK PLOT - SUMMARIES\n",
    "import seaborn as sns\n",
    "from pythonlib.tools.snstools import rotateLabel\n",
    "from pythonlib.tools.plottools import savefig\n",
    "\n",
    "fig = sns.catplot(data=DFRES, x=\"bregion\", y=\"dist_norm_95\", col=\"var_var_others\", hue=\"shuffled\", col_wrap=3, aspect=1.5)\n",
    "rotateLabel(fig)\n",
    "savefig(fig, f\"{SAVEDIR_ANALYSIS}/overview_scatter.pdf\")\n",
    "\n",
    "fig = sns.catplot(data=DFRES, x=\"bregion\", y=\"dist_norm_95\", col=\"var_var_others\", hue=\"shuffled\", col_wrap=3,  aspect=1.5, kind=\"bar\", ci=68)\n",
    "rotateLabel(fig)\n",
    "savefig(fig, f\"{SAVEDIR_ANALYSIS}/overview_bar.pdf\")\n"
   ],
   "metadata": {
    "collapsed": false
   },
   "id": "abae96a5bb6b240d"
  },
  {
   "cell_type": "markdown",
   "source": [
    "##### If using euclidian_unbiased, then no need to use shuffled"
   ],
   "metadata": {
    "collapsed": false
   },
   "id": "e5f87011a532f85a"
  },
  {
   "cell_type": "code",
   "execution_count": null,
   "outputs": [],
   "source": [
    "# QUICK PLOT - SUMMARIES\n",
    "import seaborn as sns\n",
    "from pythonlib.tools.snstools import rotateLabel\n",
    "from pythonlib.tools.plottools import savefig\n"
   ],
   "metadata": {
    "collapsed": false
   },
   "id": "326d040c674460ca"
  },
  {
   "cell_type": "code",
   "execution_count": null,
   "outputs": [],
   "source": [
    "fig = sns.catplot(data=DFRES, x=\"bregion\", y=\"dist_norm_95\", col=\"var_var_others\", hue=\"effect_samediff\", col_wrap=3, aspect=1.5)\n",
    "rotateLabel(fig)\n",
    "savefig(fig, f\"{SAVEDIR_ANALYSIS}/overview_scatter.pdf\")\n",
    "\n",
    "fig = sns.catplot(data=DFRES, x=\"bregion\", y=\"dist_norm_95\", col=\"var_var_others\", hue=\"effect_samediff\", col_wrap=3, aspect=1.5, kind=\"bar\")\n",
    "rotateLabel(fig)\n",
    "savefig(fig, f\"{SAVEDIR_ANALYSIS}/overview_scatter.pdf\")\n",
    "\n",
    "\n",
    "fig = sns.catplot(data=dfpivot, x=\"bregion\", y=\"diff_minus_same\", col=\"var_var_others\", col_wrap=3, aspect=1.5)\n",
    "rotateLabel(fig)\n",
    "savefig(fig, f\"{SAVEDIR_ANALYSIS}/overview_scatter.pdf\")\n",
    "\n",
    "fig = sns.catplot(data=dfpivot, x=\"bregion\", y=\"diff_minus_same\", col=\"var_var_others\", col_wrap=3, aspect=1.5, kind=\"bar\")\n",
    "rotateLabel(fig)\n",
    "savefig(fig, f\"{SAVEDIR_ANALYSIS}/overview_scatter.pdf\")\n",
    "\n",
    "fig = sns.catplot(data=dfpivot, x=\"bregion\", y=\"diff_divide_same\", col=\"var_var_others\", col_wrap=3, aspect=1.5)\n",
    "rotateLabel(fig)\n",
    "savefig(fig, f\"{SAVEDIR_ANALYSIS}/overview_scatter.pdf\")\n",
    "\n",
    "fig = sns.catplot(data=dfpivot, x=\"bregion\", y=\"diff_divide_same\", col=\"var_var_others\", col_wrap=3, aspect=1.5, kind=\"bar\")\n",
    "rotateLabel(fig)\n",
    "savefig(fig, f\"{SAVEDIR_ANALYSIS}/overview_scatter.pdf\")\n",
    "\n"
   ],
   "metadata": {
    "collapsed": false
   },
   "id": "8ff580c786611276"
  },
  {
   "cell_type": "code",
   "execution_count": null,
   "outputs": [],
   "source": [
    "### Inspect specific conjunctions --> evaluate method\n",
    "list_vvo = DFRES[\"var_var_others\"].unique().tolist()\n",
    "for vvo in list_vvo:\n",
    "    dfthis = DFRES[DFRES[\"var_var_others\"]==vvo]\n",
    "    # sns.catplot(data=dfthis, x=\"bregion\", y=\"dist_norm_95\", col=\"levo\", col_wrap=3)\n",
    "    fig = sns.catplot(data=dfthis, x=\"dist_norm_95\", y=\"levo\", col=\"bregion\")\n",
    "    savefig(fig, f\"{SAVEDIR_ANALYSIS}/allconj_scatter-vvo={vvo}.pdf\")\n",
    "    plt.close(\"all\")\n",
    "from pythonlib.tools.pandastools import plot_subplots_heatmap\n",
    "# fig, axes = plot_subplots_heatmap(DFRES, \"levo\", \"bregion\", \"dist_norm_95\", \"var_var_others\", diverge=True)\n",
    "fig, axes = plot_subplots_heatmap(DFRES, \"bregion\", \"levo\", \"dist_norm_95\", \"var_var_others\", diverge=True, ncols=None, share_zlim=True)\n",
    "savefig(fig, f\"{SAVEDIR_ANALYSIS}/allconj_heatmap.pdf\")"
   ],
   "metadata": {
    "collapsed": false
   },
   "id": "85b862f4f00ef95d"
  },
  {
   "cell_type": "markdown",
   "source": [
    "### Plot the raw data "
   ],
   "metadata": {
    "collapsed": false
   },
   "id": "b72cf35fe77951a6"
  },
  {
   "cell_type": "code",
   "execution_count": null,
   "outputs": [],
   "source": [
    "\"/tmp/tmp\""
   ],
   "metadata": {
    "collapsed": false
   },
   "id": "5a667af865d9f353"
  },
  {
   "cell_type": "code",
   "execution_count": null,
   "outputs": [],
   "source": [
    "PA = DFallpa[\"pa\"].values[2]"
   ],
   "metadata": {
    "collapsed": false
   },
   "id": "16b1da94bf3562bc"
  },
  {
   "cell_type": "code",
   "execution_count": null,
   "outputs": [],
   "source": [],
   "metadata": {
    "collapsed": false
   },
   "id": "84da6b76d2085c6b"
  },
  {
   "cell_type": "code",
   "execution_count": null,
   "outputs": [],
   "source": [
    "list_Xpcakeep = []\n",
    "list_pa = []\n",
    "for method in [\"sklearn\", \"svd\"]:\n",
    "    Xpcakeep, pa = PA.dataextract_state_space_decode_flex(twind_overall=(-0.25, 0.25), tbin_dur=0.1, reshape_method = \"trials_x_chanstimes\", pca_reduce=True, plot_pca_explained_var_path=f\"/tmp/tmp_expvar-{method}.png\", plot_loadings_path=f\"/tmp/tmp_loadings-{method}.png\", pca_method=method)\n",
    "    \n",
    "    list_pa.append(pa)\n",
    "    list_Xpcakeep.append(Xpcakeep)"
   ],
   "metadata": {
    "collapsed": false
   },
   "id": "5853ec29b1a5f170"
  },
  {
   "cell_type": "code",
   "execution_count": null,
   "outputs": [],
   "source": [
    "np.all(list_pa[0].X == list_pa[1].X)"
   ],
   "metadata": {
    "collapsed": false
   },
   "id": "2fff8013b8dafa97"
  },
  {
   "cell_type": "code",
   "execution_count": null,
   "outputs": [],
   "source": [
    "import numpy as np\n",
    "np.all(list_Xpcakeep[0] - list_Xpcakeep[1]<0.001)"
   ],
   "metadata": {
    "collapsed": false
   },
   "id": "f459a10e1cfb939b"
  },
  {
   "cell_type": "code",
   "execution_count": null,
   "outputs": [],
   "source": [
    "list_Xpcakeep[0]"
   ],
   "metadata": {
    "collapsed": false
   },
   "id": "f6768e43a39d4f6b"
  },
  {
   "cell_type": "code",
   "execution_count": null,
   "outputs": [],
   "source": [
    "list_Xpcakeep[1]"
   ],
   "metadata": {
    "collapsed": false
   },
   "id": "e7df9bab8a0877c0"
  },
  {
   "cell_type": "code",
   "outputs": [],
   "source": [],
   "metadata": {
    "collapsed": false
   },
   "id": "eb1a669aa87c0d61"
  },
  {
   "cell_type": "code",
   "execution_count": null,
   "outputs": [],
   "source": [
    "# State space, after PCA"
   ],
   "metadata": {
    "collapsed": false
   },
   "id": "802b0c25d08cf31d"
  },
  {
   "cell_type": "markdown",
   "source": [
    "###### Devo - distance between contexts"
   ],
   "metadata": {
    "collapsed": false
   },
   "id": "d34c95798f6263ed"
  },
  {
   "cell_type": "code",
   "execution_count": null,
   "outputs": [],
   "source": [
    "from neuralmonkey.analyses.rsa import _rsagood_convert_PA_to_Cl\n",
    "PAscal = PA.agg_wrapper(\"times\")\n",
    "Clraw, Clsim = _rsagood_convert_PA_to_Cl(PAscal, [var]+var_others+[\"stroke_index\"], \"euclidian_unbiased\", DO_AGG_TRIALS=False)\n"
   ],
   "metadata": {
    "collapsed": false
   },
   "id": "92ee6459bfc81851"
  },
  {
   "cell_type": "code",
   "execution_count": null,
   "outputs": [],
   "source": [
    "Clsim.rsa_plot_heatmap()"
   ],
   "metadata": {
    "collapsed": false
   },
   "id": "cfec8b1a05504c9a"
  },
  {
   "cell_type": "code",
   "execution_count": null,
   "outputs": [],
   "source": [
    "\n",
    "# Clsim.rsa_matindex_same_diff_mult_var_flex([var], var_others, PLOT=True, lenient_diff=True);\n",
    "Clsim.rsa_mask_context_helper(var, var_others+[\"stroke_index\"], \"diff_specific_lenient\", \n",
    "                              [\"stroke_index\"], var_others, True);"
   ],
   "metadata": {
    "collapsed": false
   },
   "id": "2e3b93d3567b7548"
  },
  {
   "cell_type": "code",
   "execution_count": null,
   "outputs": [],
   "source": [
    "# Clsim.rsa_matindex_same_diff_mult_var_flex([var], var_others, PLOT=True, lenient_diff=True);\n",
    "Clsim.rsa_mask_context_helper(var, var_others+[\"stroke_index\"], \"diff_specific\", \n",
    "                              [\"stroke_index\"], var_others, True);"
   ],
   "metadata": {
    "collapsed": false
   },
   "id": "ee83f7d9036d2c40"
  },
  {
   "cell_type": "code",
   "execution_count": null,
   "outputs": [],
   "source": [
    "PLOT_MASKS=True\n",
    "MASKS, fig, axes = Clsim.rsa_mask_context_helper(var, var_others, \"diff_at_least_one\", PLOT=PLOT_MASKS)\n",
    "\n",
    "# Get same effect diff context\n",
    "ma = MASKS[\"effect_same\"] & MASKS[\"context_diff\"]\n",
    "\n",
    "# any effect, diff context\n",
    "ma = MASKS[\"context_diff\"]\n"
   ],
   "metadata": {
    "collapsed": false
   },
   "id": "e448de924d183646"
  },
  {
   "cell_type": "markdown",
   "source": [
    "### Devo - null from shuffle"
   ],
   "metadata": {
    "collapsed": false
   },
   "id": "138cd64501147873"
  },
  {
   "cell_type": "code",
   "execution_count": null,
   "outputs": [],
   "source": [
    "DFallpa"
   ],
   "metadata": {
    "collapsed": false
   },
   "id": "50dfde146f698d8d"
  },
  {
   "cell_type": "code",
   "execution_count": null,
   "outputs": [],
   "source": [
    "PA = DFallpa[\"pa\"].values[10]"
   ],
   "metadata": {
    "collapsed": false
   },
   "id": "294695ca19ee3295"
  },
  {
   "cell_type": "code",
   "execution_count": null,
   "outputs": [],
   "source": [
    "twind = (-0.2, 0.2)\n",
    "tbin_dur = 0.1\n",
    "tbin_slide = 0.1\n",
    "X, PApca, PAslice, pca = PA.dataextract_state_space_decode_flex(twind, tbin_dur, tbin_slice, reshape_method=\"trials_x_chanstimes\",\n",
    "                                       pca_reduce=True)\n"
   ],
   "metadata": {
    "collapsed": false
   },
   "id": "51bfb74abcaacb1d"
  },
  {
   "cell_type": "code",
   "execution_count": null,
   "outputs": [],
   "source": [
    "print(X.shape, PApca.X.shape, PAslice.X.shape)"
   ],
   "metadata": {
    "collapsed": false
   },
   "id": "c568b4e43f222b7e"
  },
  {
   "cell_type": "code",
   "execution_count": null,
   "outputs": [],
   "source": [
    "var = \"shape\"\n",
    "var_others = [\"task_kind\", \"gridloc\"]\n"
   ],
   "metadata": {
    "collapsed": false
   },
   "id": "5c28e7314cbcf750"
  },
  {
   "cell_type": "code",
   "execution_count": null,
   "outputs": [],
   "source": [
    "# Create clusters\n",
    "from pythonlib.cluster.clustclass import Clusters\n",
    "\n",
    "label_vars = [var]+var_others\n",
    "dflab = pa.Xlabels[\"trials\"]\n",
    "assert len(dflab)==Xthis.shape[0]\n",
    "print(\"  Final Scalar data (trial, dims):\", Xthis.shape)\n",
    "labels_rows = dflab.loc[:, label_vars].values.tolist()\n",
    "labels_rows = [tuple(x) for x in labels_rows] # list of tuples\n",
    "if SHUFFLE:\n",
    "    import random\n",
    "    random.shuffle(labels_rows)\n",
    "params = {\n",
    "    \"label_vars\":label_vars,\n",
    "}\n",
    "Cl = Clusters(Xthis, labels_rows, ver=\"rsa\", params=params)"
   ],
   "metadata": {
    "collapsed": false
   },
   "id": "1405c811194edf4c"
  },
  {
   "cell_type": "code",
   "execution_count": null,
   "outputs": [],
   "source": [
    "# OLD METHOD, using unbiased\n",
    "# convert to distance matrix\n",
    "version_distance = \"euclidian_unbiased\"\n",
    "Cldist = Cl.distsimmat_convert_distr(label_vars, version_distance, accurately_estimate_diagonal=False)\n",
    "# version_distance = \"pearson\"\n",
    "# Cldist = Cl.distsimmat_convert(version_distance)\n",
    "if PLOT:\n",
    "    Cldist.rsa_plot_heatmap()\n"
   ],
   "metadata": {
    "collapsed": false
   },
   "id": "38b9f6b36e67c0"
  },
  {
   "cell_type": "code",
   "execution_count": null,
   "outputs": [],
   "source": [
    "pa.X.shape\n",
    "PApca.X.shape"
   ],
   "metadata": {
    "collapsed": false
   },
   "id": "c41bd46b05c254d3"
  },
  {
   "cell_type": "code",
   "execution_count": null,
   "outputs": [],
   "source": [
    "# New method -- shuffling\n",
    "from pythonlib.tools.pandastools import shuffle_dataset_hierarchical\n",
    "# from neuralmonkey.metrics.scalar import _shuffle_dataset_hier\n",
    "\n",
    "dflab = PApca.Xlabels[\"trials\"].copy()\n",
    "dflab_shuff_1 = shuffle_dataset_hierarchical(dflab, [var], var_others)\n",
    "# dflab_shuff_2 = _shuffle_dataset_hier(dflab, var_others, [var])\n",
    "# dflab_shuff_2 = _shuffle_dataset_hier(dflab, [\"task_kind\"], [\"shape\", \"gridloc\"])\n",
    "\n"
   ],
   "metadata": {
    "collapsed": false
   },
   "id": "f99f76fbe733d225"
  },
  {
   "cell_type": "code",
   "execution_count": null,
   "outputs": [],
   "source": [
    "print(np.all(dflab[\"trialcode\"] == dflab_shuff_1[\"trialcode\"]))\n",
    "# print(np.all(dflab[\"trialcode\"] == dflab_shuff_2[\"trialcode\"]))\n"
   ],
   "metadata": {
    "collapsed": false
   },
   "id": "e7d32aba444c4298"
  },
  {
   "cell_type": "code",
   "execution_count": null,
   "outputs": [],
   "source": [
    "from pythonlib.tools.pandastools import shuffle_dataset_hierarchical\n",
    "\n",
    "var = \"shape\"\n",
    "var_others = [\"task_kind\", \"gridloc\"]\n",
    "n_shuff = 3\n",
    "\n",
    "res = []\n",
    "DOSHUFFLE = True\n",
    "for i_shuff in range(n_shuff):\n",
    "    \n",
    "    # 0. shuffle\n",
    "    PApcaSHUFF = PApca.copy()\n",
    "    if DOSHUFFLE:\n",
    "        dflab = PApcaSHUFF.Xlabels[\"trials\"].copy()\n",
    "        dflabSHUFF = shuffle_dataset_hierarchical(dflab, [var], var_others)\n",
    "        PApcaSHUFF.Xlabels[\"trials\"] = dflabSHUFF\n",
    "\n",
    "    \n",
    "    # 1. agg before computing distances (quicker)\n",
    "    pa_agg = PApcaSHUFF.slice_and_agg_wrapper(\"trials\", [var]+var_others)\n",
    "    \n",
    "    # 2. Make clusters\n",
    "    # Create clusters\n",
    "    label_vars = [var]+var_others\n",
    "    dflab = pa_agg.Xlabels[\"trials\"]\n",
    "    labels_rows = dflab.loc[:, label_vars].values.tolist()\n",
    "    labels_rows = [tuple(x) for x in labels_rows] # list of tuples\n",
    "    if SHUFFLE:\n",
    "        import random\n",
    "        random.shuffle(labels_rows)\n",
    "    params = {\n",
    "        \"label_vars\":label_vars,\n",
    "    }\n",
    "    Xthis = pa_agg.X.squeeze(axis=2).T # (ntrials, ndims)\n",
    "    \n",
    "    Cl = Clusters(Xthis, labels_rows, ver=\"rsa\", params=params)\n",
    "    Cldist = Cl.distsimmat_convert(\"euclidian\")\n",
    "    if False:\n",
    "        Cldist.rsa_plot_heatmap()\n",
    "    PLOT_MASKS=False\n",
    "    MASKS, fig, axes = Cldist.rsa_mask_context_helper(var, var_others, \"diff_at_least_one\", PLOT=PLOT_MASKS)\n",
    "    # Compute score\n",
    "    # 1. Within each context, average pairwise distance between levels of effect var\n",
    "    map_grp_to_mask = Cldist.rsa_mask_context_split_levels_of_conj_var(var_others, PLOT=PLOT_MASKS)\n",
    "    # For each levo, compute mean distance\n",
    "    for grp, ma in map_grp_to_mask.items():\n",
    "        ma_final = ma & MASKS[\"effect_diff\"]\n",
    "        dist = Cldist.Xinput[ma_final].mean()\n",
    "        res.append({\n",
    "            \"var\":var,\n",
    "            \"var_others\":var_others,\n",
    "            \"levo\":grp,\n",
    "            \"dist\":dist,\n",
    "            \"i_shuff\":i_shuff,\n",
    "            # \"dist_norm_95\":dist/DIST_NULL_95,\n",
    "            # \"dist_norm_50\":dist/DIST_NULL_50\n",
    "        })"
   ],
   "metadata": {
    "collapsed": false
   },
   "id": "22580d7b7d11d758"
  },
  {
   "cell_type": "code",
   "execution_count": null,
   "outputs": [],
   "source": [
    "pd.DataFrame(res)"
   ],
   "metadata": {
    "collapsed": false
   },
   "id": "14f1d0cd39a732c3"
  },
  {
   "cell_type": "code",
   "execution_count": null,
   "outputs": [],
   "source": [
    "pd.DataFrame(res)"
   ],
   "metadata": {
    "collapsed": false
   },
   "id": "25f9aa85f69654d1"
  },
  {
   "cell_type": "code",
   "execution_count": null,
   "outputs": [],
   "source": [
    "MASKS, _, _ = Cldist.rsa_mask_context_helper(var, var_others, \"diff_at_least_one\")"
   ],
   "metadata": {
    "collapsed": false
   },
   "id": "b9fbe120a6e1a027"
  },
  {
   "cell_type": "code",
   "execution_count": null,
   "outputs": [],
   "source": [
    "MASKS.keys()"
   ],
   "metadata": {
    "collapsed": false
   },
   "id": "f8f875ff5dfdb710"
  },
  {
   "cell_type": "code",
   "execution_count": null,
   "outputs": [],
   "source": [
    "Cldist.Labels"
   ],
   "metadata": {
    "collapsed": false
   },
   "id": "23e2d92ccaee756b"
  },
  {
   "cell_type": "code",
   "execution_count": null,
   "outputs": [],
   "source": [
    "X = np.stack([row[\"Stroke\"]()[0,:2] for i, row in pa.Xlabels[\"trials\"].iterrows()])"
   ],
   "metadata": {
    "collapsed": false
   },
   "id": "1181db47d4c2c5f4"
  },
  {
   "cell_type": "code",
   "execution_count": null,
   "outputs": [],
   "source": [
    "from pythonlib.tools.statstools import kmeans_with_silhouette_score\n",
    "\n",
    "kmeans_with_silhouette_score(X, n_clusters_min_max=[3, 15], PLOT=True)"
   ],
   "metadata": {
    "collapsed": false
   },
   "id": "9484ffaae665cf2e"
  },
  {
   "cell_type": "markdown",
   "source": [
    "### Loading euclidian distance results"
   ],
   "metadata": {
    "collapsed": false
   },
   "id": "c438acdfc7996036"
  },
  {
   "cell_type": "code",
   "execution_count": null,
   "outputs": [],
   "source": [
    "path = \"/gorilla1/analyses/recordings/main/EUCLIDIAN_DIST/Pancho-230620/PIG_BASE_stroke-fr_normalization_method=across_time_bins-NPCS_KEEP=10/twind_analy=(-0.1, 0.1)-tbin_dur=0.1/DFRES.pkl\"\n",
    "import pandas as pd\n",
    "DFRES = pd.read_pickle(path)\n",
    "DFTHIS = DFRES\n"
   ],
   "metadata": {
    "collapsed": false
   },
   "id": "ff1e9a4fb62f273a"
  },
  {
   "cell_type": "code",
   "execution_count": null,
   "outputs": [],
   "source": [
    "DFRES[:10]"
   ],
   "metadata": {
    "collapsed": false
   },
   "id": "8027b37909c10b05"
  },
  {
   "cell_type": "code",
   "execution_count": null,
   "outputs": [],
   "source": [
    "effect_context = \"diff|same\"\n",
    "shuffled=False\n",
    "yvar = \"dist\"\n",
    "from pythonlib.tools.pandastools import plot_subplots_heatmap\n",
    "\n",
    "dfthis = DFTHIS[(DFTHIS[\"effect_context\"]==effect_context) & (DFTHIS[\"shuffled\"]==shuffled)].reset_index(drop=True)\n",
    "# savedirthis = f\"{savedir}/each_conjunction-effect_context={effect_context}-shuffled={shuffled}\"\n",
    "# os.makedirs(savedirthis, exist_ok=True)\n",
    "# print(\"... \", savedirthis)\n",
    "\n",
    "# # 1) Scatter\n",
    "# list_vvo = dfthis[\"var_var_others\"].unique().tolist()\n",
    "# for vvo in list_vvo:\n",
    "#     dfthisthis = dfthis[dfthis[\"var_var_others\"]==vvo]\n",
    "#     fig = sns.catplot(data=dfthisthis, x=yvar, y=\"levo\", col=\"bregion\", alpha=0.4)\n",
    "#     # savefig(fig, f\"{savedirthis}/allconj_scatter-vvo={vvo}.pdf\")\n",
    "#     plt.close(\"all\")\n",
    "\n",
    "\n",
    "# 2) Heatmap\n",
    "fig, axes = plot_subplots_heatmap(dfthis, \"bregion\", \"levo\", yvar, \"var_var_others\",\n",
    "                                  diverge=True, ncols=None, share_zlim=True)\n"
   ],
   "metadata": {
    "collapsed": false
   },
   "id": "d5247e4b4ee906ab"
  },
  {
   "cell_type": "code",
   "execution_count": null,
   "outputs": [],
   "source": [
    "dfthis"
   ],
   "metadata": {
    "collapsed": false
   },
   "id": "6eb5155bf21347c7"
  },
  {
   "cell_type": "code",
   "execution_count": null,
   "outputs": [],
   "source": [
    "dfthis[\"levo\"]"
   ],
   "metadata": {
    "collapsed": false
   },
   "id": "2ec91fe87dbe618e"
  },
  {
   "cell_type": "code",
   "execution_count": null,
   "outputs": [],
   "source": [
    "type(int(xx))"
   ],
   "metadata": {
    "collapsed": false
   },
   "id": "86805eb64394667f"
  },
  {
   "cell_type": "code",
   "execution_count": null,
   "outputs": [],
   "source": [
    "import numpy as np\n",
    "for x in dfthis[\"levo\"].unique().tolist():\n",
    "    for xx in x:\n",
    "        \n",
    "        print(type(xx))\n",
    "        if type(xx)==np.int64:\n",
    "            asdfasdf"
   ],
   "metadata": {
    "collapsed": false
   },
   "id": "dafd9fcc1d93a748"
  },
  {
   "cell_type": "code",
   "execution_count": null,
   "outputs": [],
   "source": [
    "from pythonlib.tools.pandastools import grouping_append_and_return_inner_items\n",
    "# grouping_append_and_return_inner_items(dfthis, [\"bregion\", \"levo\", \"var_var_others\"])\n",
    "grouping_append_and_return_inner_items(dfthis, [\"bregion\", \"var_var_others\"])\n"
   ],
   "metadata": {
    "collapsed": false
   },
   "id": "a2522d1cfbffd30"
  },
  {
   "cell_type": "code",
   "execution_count": null,
   "outputs": [],
   "source": [
    "dfthis"
   ],
   "metadata": {
    "collapsed": false
   },
   "id": "408794736ec8c641"
  },
  {
   "cell_type": "code",
   "execution_count": null,
   "outputs": [],
   "source": [
    "grp.index"
   ],
   "metadata": {
    "collapsed": false
   },
   "id": "25625c6cfcceadec"
  },
  {
   "cell_type": "code",
   "execution_count": null,
   "outputs": [],
   "source": [
    "for i, grp in dfthis.groupby([\"bregion\", \"var_var_others\"]):\n",
    "    print(i)\n",
    "    print"
   ],
   "metadata": {
    "collapsed": false
   },
   "id": "4f37a514b2c8f7d3"
  },
  {
   "cell_type": "code",
   "execution_count": null,
   "outputs": [],
   "source": [
    "grouping_append_and_return_inner_items(dfthis, [\"bregion\", \"var_var_others\"])\n"
   ],
   "metadata": {
    "collapsed": false
   },
   "id": "4f2d5408f8446b4f"
  },
  {
   "cell_type": "code",
   "execution_count": null,
   "outputs": [],
   "source": [
    "dfthis[\"effect_context\"]\n"
   ],
   "metadata": {
    "collapsed": false
   },
   "id": "e0941dda3e0c989a"
  }
 ],
 "metadata": {
  "kernelspec": {
   "display_name": "Python 3",
   "language": "python",
   "name": "python3"
  },
  "language_info": {
   "codemirror_mode": {
    "name": "ipython",
    "version": 2
   },
   "file_extension": ".py",
   "mimetype": "text/x-python",
   "name": "python",
   "nbconvert_exporter": "python",
   "pygments_lexer": "ipython2",
   "version": "2.7.6"
  }
 },
 "nbformat": 4,
 "nbformat_minor": 5
}
