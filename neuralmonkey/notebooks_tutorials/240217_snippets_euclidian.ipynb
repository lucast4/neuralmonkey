{
 "cells": [
  {
   "cell_type": "code",
   "execution_count": 2,
   "id": "9e3fd17c4f13ba43",
   "metadata": {
    "ExecuteTime": {
     "end_time": "2024-04-26T05:49:09.846269948Z",
     "start_time": "2024-04-26T05:49:09.789713782Z"
    },
    "collapsed": false
   },
   "outputs": [
    {
     "name": "stdout",
     "output_type": "stream",
     "text": [
      "The autoreload extension is already loaded. To reload it, use:\n",
      "  %reload_ext autoreload\n"
     ]
    },
    {
     "data": {
      "text/plain": [
       "'\"\\n'"
      ]
     },
     "execution_count": 2,
     "metadata": {},
     "output_type": "execute_result"
    }
   ],
   "source": [
    "import os\n",
    "%load_ext autoreload\n",
    "%autoreload 2\n",
    "\n",
    "\"\"\"\"\n",
    "\"\"\""
   ]
  },
  {
   "cell_type": "markdown",
   "id": "2f471c575413735b",
   "metadata": {
    "collapsed": false
   },
   "source": [
    "# Load a dataset\n"
   ]
  },
  {
   "cell_type": "markdown",
   "id": "401a9851a443292c",
   "metadata": {
    "collapsed": false
   },
   "source": [
    "To load and plot a dataset of neural activity across population, in a PopAnal class object.\n"
   ]
  },
  {
   "cell_type": "code",
   "execution_count": 3,
   "id": "6d72addf5c1494c2",
   "metadata": {
    "ExecuteTime": {
     "end_time": "2024-04-26T05:49:11.896995302Z",
     "start_time": "2024-04-26T05:49:11.838124792Z"
    },
    "collapsed": false
   },
   "outputs": [],
   "source": [
    "import pandas as pd\n",
    "import matplotlib.pyplot as plt"
   ]
  },
  {
   "cell_type": "code",
   "execution_count": 4,
   "id": "320be7d5ecbddf5f",
   "metadata": {
    "ExecuteTime": {
     "end_time": "2024-04-26T05:49:18.958964727Z",
     "start_time": "2024-04-26T05:49:18.846678229Z"
    },
    "collapsed": false
   },
   "outputs": [],
   "source": [
    "from neuralmonkey.classes.population_mult import load_handsaved_wrapper\n",
    "DFallpa = load_handsaved_wrapper()"
   ]
  },
  {
   "cell_type": "markdown",
   "id": "4a3e0c77",
   "metadata": {},
   "source": [
    "##### [Optionally, merge across events]"
   ]
  },
  {
   "cell_type": "code",
   "execution_count": 5,
   "id": "cbe7334b",
   "metadata": {},
   "outputs": [
    {
     "data": {
      "text/html": [
       "<div>\n",
       "<style scoped>\n",
       "    .dataframe tbody tr th:only-of-type {\n",
       "        vertical-align: middle;\n",
       "    }\n",
       "\n",
       "    .dataframe tbody tr th {\n",
       "        vertical-align: top;\n",
       "    }\n",
       "\n",
       "    .dataframe thead th {\n",
       "        text-align: right;\n",
       "    }\n",
       "</style>\n",
       "<table border=\"1\" class=\"dataframe\">\n",
       "  <thead>\n",
       "    <tr style=\"text-align: right;\">\n",
       "      <th></th>\n",
       "      <th>which_level</th>\n",
       "      <th>event</th>\n",
       "      <th>bregion</th>\n",
       "      <th>twind</th>\n",
       "      <th>pa</th>\n",
       "      <th>pa_x_shape</th>\n",
       "    </tr>\n",
       "  </thead>\n",
       "  <tbody>\n",
       "    <tr>\n",
       "      <th>0</th>\n",
       "      <td>trial</td>\n",
       "      <td>03_samp</td>\n",
       "      <td>M1</td>\n",
       "      <td>(-0.8, 0.8)</td>\n",
       "      <td>&lt;neuralmonkey.classes.population.PopAnal objec...</td>\n",
       "      <td>(43, 424, 160)</td>\n",
       "    </tr>\n",
       "    <tr>\n",
       "      <th>1</th>\n",
       "      <td>trial</td>\n",
       "      <td>03_samp</td>\n",
       "      <td>PMv</td>\n",
       "      <td>(-0.8, 0.8)</td>\n",
       "      <td>&lt;neuralmonkey.classes.population.PopAnal objec...</td>\n",
       "      <td>(69, 424, 160)</td>\n",
       "    </tr>\n",
       "    <tr>\n",
       "      <th>2</th>\n",
       "      <td>trial</td>\n",
       "      <td>03_samp</td>\n",
       "      <td>PMd</td>\n",
       "      <td>(-0.8, 0.8)</td>\n",
       "      <td>&lt;neuralmonkey.classes.population.PopAnal objec...</td>\n",
       "      <td>(37, 424, 160)</td>\n",
       "    </tr>\n",
       "    <tr>\n",
       "      <th>3</th>\n",
       "      <td>trial</td>\n",
       "      <td>03_samp</td>\n",
       "      <td>dlPFC</td>\n",
       "      <td>(-0.8, 0.8)</td>\n",
       "      <td>&lt;neuralmonkey.classes.population.PopAnal objec...</td>\n",
       "      <td>(23, 424, 160)</td>\n",
       "    </tr>\n",
       "    <tr>\n",
       "      <th>4</th>\n",
       "      <td>trial</td>\n",
       "      <td>03_samp</td>\n",
       "      <td>vlPFC</td>\n",
       "      <td>(-0.8, 0.8)</td>\n",
       "      <td>&lt;neuralmonkey.classes.population.PopAnal objec...</td>\n",
       "      <td>(54, 424, 160)</td>\n",
       "    </tr>\n",
       "    <tr>\n",
       "      <th>5</th>\n",
       "      <td>trial</td>\n",
       "      <td>03_samp</td>\n",
       "      <td>FP</td>\n",
       "      <td>(-0.8, 0.8)</td>\n",
       "      <td>&lt;neuralmonkey.classes.population.PopAnal objec...</td>\n",
       "      <td>(35, 424, 160)</td>\n",
       "    </tr>\n",
       "    <tr>\n",
       "      <th>6</th>\n",
       "      <td>trial</td>\n",
       "      <td>03_samp</td>\n",
       "      <td>SMA</td>\n",
       "      <td>(-0.8, 0.8)</td>\n",
       "      <td>&lt;neuralmonkey.classes.population.PopAnal objec...</td>\n",
       "      <td>(53, 424, 160)</td>\n",
       "    </tr>\n",
       "    <tr>\n",
       "      <th>7</th>\n",
       "      <td>trial</td>\n",
       "      <td>03_samp</td>\n",
       "      <td>preSMA</td>\n",
       "      <td>(-0.8, 0.8)</td>\n",
       "      <td>&lt;neuralmonkey.classes.population.PopAnal objec...</td>\n",
       "      <td>(67, 424, 160)</td>\n",
       "    </tr>\n",
       "    <tr>\n",
       "      <th>8</th>\n",
       "      <td>trial</td>\n",
       "      <td>05_first_raise</td>\n",
       "      <td>M1</td>\n",
       "      <td>(-0.8, 0.8)</td>\n",
       "      <td>&lt;neuralmonkey.classes.population.PopAnal objec...</td>\n",
       "      <td>(43, 424, 160)</td>\n",
       "    </tr>\n",
       "    <tr>\n",
       "      <th>9</th>\n",
       "      <td>trial</td>\n",
       "      <td>05_first_raise</td>\n",
       "      <td>PMv</td>\n",
       "      <td>(-0.8, 0.8)</td>\n",
       "      <td>&lt;neuralmonkey.classes.population.PopAnal objec...</td>\n",
       "      <td>(69, 424, 160)</td>\n",
       "    </tr>\n",
       "    <tr>\n",
       "      <th>10</th>\n",
       "      <td>trial</td>\n",
       "      <td>05_first_raise</td>\n",
       "      <td>PMd</td>\n",
       "      <td>(-0.8, 0.8)</td>\n",
       "      <td>&lt;neuralmonkey.classes.population.PopAnal objec...</td>\n",
       "      <td>(37, 424, 160)</td>\n",
       "    </tr>\n",
       "    <tr>\n",
       "      <th>11</th>\n",
       "      <td>trial</td>\n",
       "      <td>05_first_raise</td>\n",
       "      <td>dlPFC</td>\n",
       "      <td>(-0.8, 0.8)</td>\n",
       "      <td>&lt;neuralmonkey.classes.population.PopAnal objec...</td>\n",
       "      <td>(23, 424, 160)</td>\n",
       "    </tr>\n",
       "    <tr>\n",
       "      <th>12</th>\n",
       "      <td>trial</td>\n",
       "      <td>05_first_raise</td>\n",
       "      <td>vlPFC</td>\n",
       "      <td>(-0.8, 0.8)</td>\n",
       "      <td>&lt;neuralmonkey.classes.population.PopAnal objec...</td>\n",
       "      <td>(54, 424, 160)</td>\n",
       "    </tr>\n",
       "    <tr>\n",
       "      <th>13</th>\n",
       "      <td>trial</td>\n",
       "      <td>05_first_raise</td>\n",
       "      <td>FP</td>\n",
       "      <td>(-0.8, 0.8)</td>\n",
       "      <td>&lt;neuralmonkey.classes.population.PopAnal objec...</td>\n",
       "      <td>(35, 424, 160)</td>\n",
       "    </tr>\n",
       "    <tr>\n",
       "      <th>14</th>\n",
       "      <td>trial</td>\n",
       "      <td>05_first_raise</td>\n",
       "      <td>SMA</td>\n",
       "      <td>(-0.8, 0.8)</td>\n",
       "      <td>&lt;neuralmonkey.classes.population.PopAnal objec...</td>\n",
       "      <td>(53, 424, 160)</td>\n",
       "    </tr>\n",
       "    <tr>\n",
       "      <th>15</th>\n",
       "      <td>trial</td>\n",
       "      <td>05_first_raise</td>\n",
       "      <td>preSMA</td>\n",
       "      <td>(-0.8, 0.8)</td>\n",
       "      <td>&lt;neuralmonkey.classes.population.PopAnal objec...</td>\n",
       "      <td>(67, 424, 160)</td>\n",
       "    </tr>\n",
       "    <tr>\n",
       "      <th>16</th>\n",
       "      <td>trial</td>\n",
       "      <td>06_on_strokeidx_0</td>\n",
       "      <td>M1</td>\n",
       "      <td>(-0.8, 0.8)</td>\n",
       "      <td>&lt;neuralmonkey.classes.population.PopAnal objec...</td>\n",
       "      <td>(43, 424, 160)</td>\n",
       "    </tr>\n",
       "    <tr>\n",
       "      <th>17</th>\n",
       "      <td>trial</td>\n",
       "      <td>06_on_strokeidx_0</td>\n",
       "      <td>PMv</td>\n",
       "      <td>(-0.8, 0.8)</td>\n",
       "      <td>&lt;neuralmonkey.classes.population.PopAnal objec...</td>\n",
       "      <td>(69, 424, 160)</td>\n",
       "    </tr>\n",
       "    <tr>\n",
       "      <th>18</th>\n",
       "      <td>trial</td>\n",
       "      <td>06_on_strokeidx_0</td>\n",
       "      <td>PMd</td>\n",
       "      <td>(-0.8, 0.8)</td>\n",
       "      <td>&lt;neuralmonkey.classes.population.PopAnal objec...</td>\n",
       "      <td>(37, 424, 160)</td>\n",
       "    </tr>\n",
       "    <tr>\n",
       "      <th>19</th>\n",
       "      <td>trial</td>\n",
       "      <td>06_on_strokeidx_0</td>\n",
       "      <td>dlPFC</td>\n",
       "      <td>(-0.8, 0.8)</td>\n",
       "      <td>&lt;neuralmonkey.classes.population.PopAnal objec...</td>\n",
       "      <td>(23, 424, 160)</td>\n",
       "    </tr>\n",
       "    <tr>\n",
       "      <th>20</th>\n",
       "      <td>trial</td>\n",
       "      <td>06_on_strokeidx_0</td>\n",
       "      <td>vlPFC</td>\n",
       "      <td>(-0.8, 0.8)</td>\n",
       "      <td>&lt;neuralmonkey.classes.population.PopAnal objec...</td>\n",
       "      <td>(54, 424, 160)</td>\n",
       "    </tr>\n",
       "    <tr>\n",
       "      <th>21</th>\n",
       "      <td>trial</td>\n",
       "      <td>06_on_strokeidx_0</td>\n",
       "      <td>FP</td>\n",
       "      <td>(-0.8, 0.8)</td>\n",
       "      <td>&lt;neuralmonkey.classes.population.PopAnal objec...</td>\n",
       "      <td>(35, 424, 160)</td>\n",
       "    </tr>\n",
       "    <tr>\n",
       "      <th>22</th>\n",
       "      <td>trial</td>\n",
       "      <td>06_on_strokeidx_0</td>\n",
       "      <td>SMA</td>\n",
       "      <td>(-0.8, 0.8)</td>\n",
       "      <td>&lt;neuralmonkey.classes.population.PopAnal objec...</td>\n",
       "      <td>(53, 424, 160)</td>\n",
       "    </tr>\n",
       "    <tr>\n",
       "      <th>23</th>\n",
       "      <td>trial</td>\n",
       "      <td>06_on_strokeidx_0</td>\n",
       "      <td>preSMA</td>\n",
       "      <td>(-0.8, 0.8)</td>\n",
       "      <td>&lt;neuralmonkey.classes.population.PopAnal objec...</td>\n",
       "      <td>(67, 424, 160)</td>\n",
       "    </tr>\n",
       "  </tbody>\n",
       "</table>\n",
       "</div>"
      ],
      "text/plain": [
       "   which_level              event bregion        twind  \\\n",
       "0        trial            03_samp      M1  (-0.8, 0.8)   \n",
       "1        trial            03_samp     PMv  (-0.8, 0.8)   \n",
       "2        trial            03_samp     PMd  (-0.8, 0.8)   \n",
       "3        trial            03_samp   dlPFC  (-0.8, 0.8)   \n",
       "4        trial            03_samp   vlPFC  (-0.8, 0.8)   \n",
       "5        trial            03_samp      FP  (-0.8, 0.8)   \n",
       "6        trial            03_samp     SMA  (-0.8, 0.8)   \n",
       "7        trial            03_samp  preSMA  (-0.8, 0.8)   \n",
       "8        trial     05_first_raise      M1  (-0.8, 0.8)   \n",
       "9        trial     05_first_raise     PMv  (-0.8, 0.8)   \n",
       "10       trial     05_first_raise     PMd  (-0.8, 0.8)   \n",
       "11       trial     05_first_raise   dlPFC  (-0.8, 0.8)   \n",
       "12       trial     05_first_raise   vlPFC  (-0.8, 0.8)   \n",
       "13       trial     05_first_raise      FP  (-0.8, 0.8)   \n",
       "14       trial     05_first_raise     SMA  (-0.8, 0.8)   \n",
       "15       trial     05_first_raise  preSMA  (-0.8, 0.8)   \n",
       "16       trial  06_on_strokeidx_0      M1  (-0.8, 0.8)   \n",
       "17       trial  06_on_strokeidx_0     PMv  (-0.8, 0.8)   \n",
       "18       trial  06_on_strokeidx_0     PMd  (-0.8, 0.8)   \n",
       "19       trial  06_on_strokeidx_0   dlPFC  (-0.8, 0.8)   \n",
       "20       trial  06_on_strokeidx_0   vlPFC  (-0.8, 0.8)   \n",
       "21       trial  06_on_strokeidx_0      FP  (-0.8, 0.8)   \n",
       "22       trial  06_on_strokeidx_0     SMA  (-0.8, 0.8)   \n",
       "23       trial  06_on_strokeidx_0  preSMA  (-0.8, 0.8)   \n",
       "\n",
       "                                                   pa      pa_x_shape  \n",
       "0   <neuralmonkey.classes.population.PopAnal objec...  (43, 424, 160)  \n",
       "1   <neuralmonkey.classes.population.PopAnal objec...  (69, 424, 160)  \n",
       "2   <neuralmonkey.classes.population.PopAnal objec...  (37, 424, 160)  \n",
       "3   <neuralmonkey.classes.population.PopAnal objec...  (23, 424, 160)  \n",
       "4   <neuralmonkey.classes.population.PopAnal objec...  (54, 424, 160)  \n",
       "5   <neuralmonkey.classes.population.PopAnal objec...  (35, 424, 160)  \n",
       "6   <neuralmonkey.classes.population.PopAnal objec...  (53, 424, 160)  \n",
       "7   <neuralmonkey.classes.population.PopAnal objec...  (67, 424, 160)  \n",
       "8   <neuralmonkey.classes.population.PopAnal objec...  (43, 424, 160)  \n",
       "9   <neuralmonkey.classes.population.PopAnal objec...  (69, 424, 160)  \n",
       "10  <neuralmonkey.classes.population.PopAnal objec...  (37, 424, 160)  \n",
       "11  <neuralmonkey.classes.population.PopAnal objec...  (23, 424, 160)  \n",
       "12  <neuralmonkey.classes.population.PopAnal objec...  (54, 424, 160)  \n",
       "13  <neuralmonkey.classes.population.PopAnal objec...  (35, 424, 160)  \n",
       "14  <neuralmonkey.classes.population.PopAnal objec...  (53, 424, 160)  \n",
       "15  <neuralmonkey.classes.population.PopAnal objec...  (67, 424, 160)  \n",
       "16  <neuralmonkey.classes.population.PopAnal objec...  (43, 424, 160)  \n",
       "17  <neuralmonkey.classes.population.PopAnal objec...  (69, 424, 160)  \n",
       "18  <neuralmonkey.classes.population.PopAnal objec...  (37, 424, 160)  \n",
       "19  <neuralmonkey.classes.population.PopAnal objec...  (23, 424, 160)  \n",
       "20  <neuralmonkey.classes.population.PopAnal objec...  (54, 424, 160)  \n",
       "21  <neuralmonkey.classes.population.PopAnal objec...  (35, 424, 160)  \n",
       "22  <neuralmonkey.classes.population.PopAnal objec...  (53, 424, 160)  \n",
       "23  <neuralmonkey.classes.population.PopAnal objec...  (67, 424, 160)  "
      ]
     },
     "execution_count": 5,
     "metadata": {},
     "output_type": "execute_result"
    }
   ],
   "source": [
    "DFallpa"
   ]
  },
  {
   "cell_type": "code",
   "execution_count": null,
   "id": "9cd5113f",
   "metadata": {},
   "outputs": [],
   "source": [
    "from neuralmonkey.classes.population_mult import dfpa_group_and_split\n",
    "\n",
    "DFallpa = dfpa_group_and_split(DFallpa, [\"event\"], concat_dim=\"trials\")"
   ]
  },
  {
   "cell_type": "code",
   "execution_count": null,
   "id": "67e01631",
   "metadata": {},
   "outputs": [],
   "source": [
    "DFallpa"
   ]
  },
  {
   "cell_type": "code",
   "execution_count": null,
   "id": "d2d5c9ec",
   "metadata": {},
   "outputs": [],
   "source": [
    "pa = DFallpa[\"pa\"].values[0]\n",
    "pa.Xlabels[\"trials\"][\"event\"].value_counts()\n",
    "pa.plotNeurHeat(0)"
   ]
  },
  {
   "cell_type": "markdown",
   "id": "368f49161dc7801f",
   "metadata": {
    "collapsed": false
   },
   "source": [
    "##### Preprocess fr normalization?"
   ]
  },
  {
   "cell_type": "code",
   "execution_count": 6,
   "id": "4cd06cd3189cdbfa",
   "metadata": {
    "ExecuteTime": {
     "end_time": "2024-04-26T05:49:19.596276883Z",
     "start_time": "2024-04-26T05:49:19.357572769Z"
    },
    "collapsed": false
   },
   "outputs": [],
   "source": [
    "from neuralmonkey.classes.population_mult import dfallpa_preprocess_fr_normalization\n",
    "dfallpa_preprocess_fr_normalization(DFallpa, \"across_time_bins\")"
   ]
  },
  {
   "cell_type": "markdown",
   "id": "aa92025ef34b1664",
   "metadata": {
    "collapsed": false
   },
   "source": [
    "##### Inspect DFallpa"
   ]
  },
  {
   "cell_type": "code",
   "execution_count": null,
   "id": "a2c48d5d2f4e3e25",
   "metadata": {
    "collapsed": false
   },
   "outputs": [],
   "source": [
    "DFallpa"
   ]
  },
  {
   "cell_type": "code",
   "execution_count": null,
   "id": "ac1556e2ef3c162d",
   "metadata": {
    "collapsed": false
   },
   "outputs": [],
   "source": [
    "pa = DFallpa[\"pa\"].values[0]\n",
    "pa.Xlabels[\"trials\"][\"seqc_0_loc\"][:2]"
   ]
  },
  {
   "cell_type": "code",
   "execution_count": null,
   "id": "42d3ab01f12eb75b",
   "metadata": {
    "collapsed": false
   },
   "outputs": [],
   "source": [
    "[col for col in pa.Xlabels[\"trials\"].columns if \"seqc\" in col]"
   ]
  },
  {
   "cell_type": "markdown",
   "id": "7eb640a16cc1bc17",
   "metadata": {
    "collapsed": false
   },
   "source": [
    "##### To save"
   ]
  },
  {
   "cell_type": "code",
   "execution_count": null,
   "id": "2c796042c0d19d1d",
   "metadata": {
    "collapsed": false
   },
   "outputs": [],
   "source": [
    "# Save it\n",
    "import pickle\n",
    "# path = \"/gorilla4/Dropbox/SCIENCE/FREIWALD_LAB/DATA/for_xuan/DFallpa_char_trial_Pancho_230126.pkl\"\n",
    "# path = f\"/home/lucas/Dropbox/SCIENCE/FREIWALD_LAB/DATA/DFallpa_tmp.pkl\"\n",
    "path = f\"/home/lucas/Dropbox/SCIENCE/FREIWALD_LAB/DATA/DFallpa_{animal}_{date}_{question}.pkl\"\n",
    "\n",
    "with open(path, \"wb\") as f:\n",
    "    pickle.dump(DFallpa, f)\n",
    "print(\"Saved to:\", path)"
   ]
  },
  {
   "cell_type": "markdown",
   "id": "122e1e23ec6b587",
   "metadata": {
    "collapsed": false
   },
   "source": [
    "# Load a DFallpa"
   ]
  },
  {
   "cell_type": "code",
   "execution_count": null,
   "id": "58ea6f5073b3909f",
   "metadata": {
    "collapsed": false
   },
   "outputs": [],
   "source": [
    "# Char, \n",
    "# animal = \"Pancho\"\n",
    "# date = 230126\n",
    "# do_combine = True\n",
    "\n",
    "# Single prim, novels\n",
    "# animal = \"Pancho\"\n",
    "# date = 230126\n",
    "animal = \"Diego\"\n",
    "date = 230817\n",
    "# date = 230817\n",
    "do_combine = False\n",
    "\n",
    "if do_combine:\n",
    "    # COMBINE trial and stroke\n",
    "    dir_suffix = \"test\"\n",
    "    question = None\n",
    "    # q_params = None\n",
    "    which_level = None\n",
    "    q_params = {\n",
    "        \"effect_vars\": [\"seqc_0_shape\", \"seqc_0_loc\"]\n",
    "    }\n",
    "    \n",
    "    combine_trial_and_stroke = True\n",
    "    \n",
    "    # PIG\n",
    "    # question_trial = \"PIG_BASE_trial\"\n",
    "    # question_stroke = \"PIG_BASE_stroke\"\n",
    "    # check_that_locs_match = True\n",
    "    \n",
    "    # CHAR\n",
    "    question_trial = \"CHAR_BASE_trial\"\n",
    "    question_stroke = \"CHAR_BASE_stroke\"\n",
    "    check_that_locs_match = True\n",
    "    check_that_shapes_match = True\n",
    "else:\n",
    "    # DONT COMBINE, use questions.\n",
    "    # question = \"CHAR_BASE_stroke\"\n",
    "    # question = \"CHAR_BASE_trial\"\n",
    "    # question = \"SP_shape_loc\"\n",
    "    question = \"PIG_BASE_stroke\"\n",
    "    # question = \"PIG_BASE_trial\"\n",
    "    combine_trial_and_stroke = False\n",
    "    # which_level = \"stroke\" # Doesnt matter\n",
    "    which_level = \"stroke\" # Doesnt matter\n",
    "    dir_suffix = question\n",
    "\n",
    "    # Load q_params\n",
    "    from neuralmonkey.analyses.rsa import rsagood_questions_dict, rsagood_questions_params\n",
    "    q_params = rsagood_questions_dict(animal, date, question)[question]\n",
    "\n",
    "############### PARAMS\n",
    "exclude_bad_areas = True\n",
    "SPIKES_VERSION = \"tdt\" # since Snippets not yet extracted for ks\n",
    "combine_into_larger_areas = False\n",
    "HACK_RENAME_SHAPES = False\n",
    "list_time_windows = [(-0.6, 0.6)]\n",
    "events_keep = None\n",
    "fr_normalization_method = \"across_time_bins\"\n",
    "########################################## RUN\n",
    "\n",
    "if combine_trial_and_stroke:\n",
    "    from neuralmonkey.classes.population_mult import dfallpa_extraction_load_wrapper_combine_trial_strokes\n",
    "    DFallpa = dfallpa_extraction_load_wrapper_combine_trial_strokes(animal, date, question_trial,\n",
    "                                                                       question_stroke,\n",
    "                                                list_time_windows, events_keep=events_keep,\n",
    "                                               combine_into_larger_areas = combine_into_larger_areas,\n",
    "                                               exclude_bad_areas=exclude_bad_areas,\n",
    "                                                SPIKES_VERSION=\"tdt\",\n",
    "                                                HACK_RENAME_SHAPES = HACK_RENAME_SHAPES,\n",
    "                                               fr_normalization_method=fr_normalization_method,\n",
    "                                                    check_that_shapes_match=check_that_shapes_match,\n",
    "                                                check_that_locs_match=check_that_locs_match)\n",
    "else:\n",
    "    from neuralmonkey.classes.population_mult import dfallpa_extraction_load_wrapper\n",
    "    DFallpa = dfallpa_extraction_load_wrapper(animal, date, question, list_time_windows,\n",
    "                                              which_level=which_level, events_keep=events_keep,\n",
    "                                              combine_into_larger_areas = combine_into_larger_areas,\n",
    "                                              exclude_bad_areas = exclude_bad_areas,\n",
    "                                              SPIKES_VERSION = SPIKES_VERSION,\n",
    "                                              HACK_RENAME_SHAPES = HACK_RENAME_SHAPES,\n",
    "                                              fr_normalization_method=fr_normalization_method)"
   ]
  },
  {
   "cell_type": "markdown",
   "id": "93edebd6e38ce91",
   "metadata": {
    "collapsed": false
   },
   "source": [
    "# Code example for benchmarking: decoding shapes"
   ]
  },
  {
   "cell_type": "markdown",
   "id": "488ff1ca66a8098f",
   "metadata": {
    "collapsed": false
   },
   "source": [
    "This step takes in a representation of neural data and outputs a scalar score for how well you can decode \"shape\" from that data\n",
    "\n",
    "Here, this example is using the raw data (dimensionality = number of channels). The goal is to use methods to reduce the dimensionality of this data, each time running through this decoding benchmark, to compare the different methods"
   ]
  },
  {
   "cell_type": "code",
   "execution_count": null,
   "id": "1d9464a47ba11ed8",
   "metadata": {
    "collapsed": false
   },
   "outputs": [],
   "source": [
    "pa = DFallpa[\"pa\"].values[0]"
   ]
  },
  {
   "cell_type": "code",
   "execution_count": null,
   "id": "389e5f898d84b074",
   "metadata": {
    "collapsed": false
   },
   "outputs": [],
   "source": [
    "pa.Xlabels[\"trials\"][:2].columns"
   ]
  },
  {
   "cell_type": "code",
   "execution_count": null,
   "id": "48f9c90186ec3652",
   "metadata": {
    "collapsed": false
   },
   "outputs": [],
   "source": [
    "from pythonlib.tools.pandastools import grouping_count_n_samples, grouping_append_and_return_inner_items_good, grouping_print_n_samples\n",
    "\n",
    "# grouping_print_n_samples(pa.Xlabels[\"trials\"], [\"epochset\", \"epoch\", \"syntax_concrete\", \"syntax_role\", \"chunk_rank\", \"chunk_within_rank\", \"stroke_index\", \"shape\", \"gridloc\"])\n",
    "\n",
    "grouping_print_n_samples(pa.Xlabels[\"trials\"], [\"epoch\", \"syntax_concrete\", \"syntax_role\", \"chunk_rank\", \"chunk_within_rank\", \"stroke_index\", \"shape\", \"gridloc\", \"gridloc_x\", \"gridloc_y\"])\n",
    "\n",
    "grouping_print_n_samples(pa.Xlabels[\"trials\"], [\"epoch\", \"syntax_concrete\", \"syntax_role\", \"chunk_rank\", \"chunk_within_rank\", \"stroke_index\", \"shape\", \"gridloc\", \"gridloc_x\", \"gridloc_y\"])"
   ]
  },
  {
   "cell_type": "markdown",
   "id": "32c025e2bfc54ebe",
   "metadata": {
    "collapsed": false
   },
   "source": [
    "##### First, pull out a specific PA. (just an example)"
   ]
  },
  {
   "cell_type": "markdown",
   "id": "9bb74aab4a961bd2",
   "metadata": {
    "collapsed": false
   },
   "source": [
    "NOTE: tjhis is just for demonstration. Eventually you will want to loop thru all PA, scoring them all"
   ]
  },
  {
   "cell_type": "code",
   "execution_count": null,
   "id": "10bc2b4059ed05b5",
   "metadata": {
    "collapsed": false
   },
   "outputs": [],
   "source": [
    "from neuralmonkey.classes.population_mult import extract_single_pa\n"
   ]
  },
  {
   "cell_type": "markdown",
   "id": "583a1e729ac08b30",
   "metadata": {
    "collapsed": false
   },
   "source": [
    "## Make sure to normalize PA before running any modeling on it:"
   ]
  },
  {
   "cell_type": "code",
   "execution_count": null,
   "id": "854db14b65f6c377",
   "metadata": {
    "collapsed": false
   },
   "outputs": [],
   "source": [
    "# from neuralmonkey.classes.population_mult import po\n",
    "path_to_save_example_fr_normalization = None\n",
    "fr_normalization_method = \"each_time_bin\"\n",
    "\n",
    "if fr_normalization_method is not None:\n",
    "    if fr_normalization_method==\"each_time_bin\":\n",
    "        # Then demean in each time bin indepednently\n",
    "        subtract_mean_at_each_timepoint = True\n",
    "        subtract_mean_across_time_and_trial = False\n",
    "    elif fr_normalization_method==\"across_time_bins\":\n",
    "        # ALl time bins subtract the same scalar --> maintains temporal moudlation.\n",
    "        subtract_mean_at_each_timepoint = False\n",
    "        subtract_mean_across_time_and_trial = True\n",
    "    else:\n",
    "        print(fr_normalization_method)\n",
    "        assert False\n",
    "\n",
    "    from neuralmonkey.analyses.state_space_good import popanal_preprocess_scalar_normalization\n",
    "    list_panorm = []\n",
    "\n",
    "    for i, pa in enumerate(DFallpa[\"pa\"].tolist()):\n",
    "        if path_to_save_example_fr_normalization is not None and i==0:\n",
    "            plot_example_chan_number = pa.Chans[0]\n",
    "            if which_level==\"trial\":\n",
    "                plot_example_split_var_string = \"seqc_0_shape\"\n",
    "            elif which_level==\"stroke\":\n",
    "                plot_example_split_var_string = \"shape\"\n",
    "            else:\n",
    "                plot_example_split_var_string = q_params[\"effect_vars\"][0]\n",
    "        else:\n",
    "            plot_example_chan_number = None\n",
    "            plot_example_split_var_string = None\n",
    "        PAnorm, PAscal, PAscalagg, fig, axes, groupdict = popanal_preprocess_scalar_normalization(pa, None,\n",
    "                                                                                          DO_AGG_TRIALS=False,\n",
    "                                                                                          plot_example_chan_number=plot_example_chan_number,\n",
    "                                                                                            plot_example_split_var_string = plot_example_split_var_string,\n",
    "                                                                                          subtract_mean_at_each_timepoint=subtract_mean_at_each_timepoint,\n",
    "                                                                                          subtract_mean_across_time_and_trial=subtract_mean_across_time_and_trial)\n",
    "        if path_to_save_example_fr_normalization is not None and i==0:\n",
    "            savefig(fig, path_to_save_example_fr_normalization)\n",
    "        list_panorm.append(PAnorm)\n",
    "    DFallpa[\"pa\"] = list_panorm\n"
   ]
  },
  {
   "cell_type": "code",
   "execution_count": null,
   "id": "4cab933058cb251a",
   "metadata": {
    "collapsed": false
   },
   "outputs": [],
   "source": [
    "from pythonlib.globals import PATH_ANALYSIS_OUTCOMES\n",
    "import os\n",
    "SAVEDIR_ANALYSIS = f\"{PATH_ANALYSIS_OUTCOMES}/recordings/main/DECODE\""
   ]
  },
  {
   "cell_type": "code",
   "execution_count": null,
   "id": "7a2fa80f4fc611b4",
   "metadata": {
    "collapsed": false
   },
   "outputs": [],
   "source": [
    "# Figure out how long is seuqence\n",
    "n_strokes_max = -1\n",
    "for i in range(2):\n",
    "    n_ignore = sum(PAnorm.Xlabels[\"trials\"][f\"seqc_{i}_shape\"]==\"IGNORE\")\n",
    "    n_total = len(PAnorm.Xlabels[\"trials\"][f\"seqc_{i}_shape\"])\n",
    "    print(n_ignore, n_total)\n",
    "    if n_ignore<n_total:\n",
    "        n_strokes_max=i+1\n",
    "assert n_strokes_max>0\n",
    "print(n_strokes_max)"
   ]
  },
  {
   "cell_type": "markdown",
   "id": "9228636d0e758329",
   "metadata": {
    "collapsed": false
   },
   "source": [
    "### Keep specific events"
   ]
  },
  {
   "cell_type": "code",
   "execution_count": null,
   "id": "49f56c2188b45159",
   "metadata": {
    "collapsed": false
   },
   "outputs": [],
   "source": [
    "DFallpa[\"event\"].unique()\n",
    "events_keep = [\"03_samp\", \"04_go_cue\"]\n",
    "DFallpa = DFallpa[DFallpa[\"event\"].isin(events_keep)].reset_index(drop=True)"
   ]
  },
  {
   "cell_type": "markdown",
   "id": "8634a855e2b24c5a",
   "metadata": {
    "collapsed": false
   },
   "source": [
    "# PREPROCESS - factorize all relevant labels FIRST here.\n"
   ]
  },
  {
   "cell_type": "code",
   "execution_count": null,
   "id": "441abc9cc89c86b7",
   "metadata": {
    "collapsed": false
   },
   "outputs": [],
   "source": [
    "from neuralmonkey.classes.population_mult import dfallpa_preprocess_vars_conjunctions_extract\n",
    "dfallpa_preprocess_vars_conjunctions_extract(DFallpa, which_level=which_level)\n"
   ]
  },
  {
   "cell_type": "code",
   "execution_count": null,
   "id": "99c1d21c5e23270e",
   "metadata": {
    "collapsed": false
   },
   "outputs": [],
   "source": [
    "dflab = pa.Xlabels[\"trials\"]\n",
    "sorted([col for col in dflab.columns if \"seqc_\" in col])"
   ]
  },
  {
   "cell_type": "code",
   "execution_count": null,
   "id": "cdabd18c2d872166",
   "metadata": {
    "collapsed": false
   },
   "outputs": [],
   "source": [
    "# Extract all "
   ]
  },
  {
   "cell_type": "code",
   "execution_count": null,
   "id": "87e0da3ce5099d79",
   "metadata": {
    "collapsed": false
   },
   "outputs": [],
   "source": [
    "from neuralmonkey.analyses.decode_good import preprocess_factorize_class_labels_ints\n",
    "MAP_LABELS_TO_INT = preprocess_factorize_class_labels_ints(DFallpa)"
   ]
  },
  {
   "cell_type": "markdown",
   "id": "c281e75000770f7a",
   "metadata": {
    "collapsed": false
   },
   "source": [
    "### PRINT VARIABLES"
   ]
  },
  {
   "cell_type": "code",
   "execution_count": null,
   "id": "a05c564bd6d07a8a",
   "metadata": {
    "collapsed": false
   },
   "outputs": [],
   "source": [
    "pa = DFallpa[\"pa\"].values[0]\n",
    "pa.Xlabels[\"trials\"].loc[::10, [\"epochset\", \"epoch\"]]"
   ]
  },
  {
   "cell_type": "code",
   "execution_count": null,
   "id": "226bf6f2075eb7ad",
   "metadata": {
    "collapsed": false
   },
   "outputs": [],
   "source": [
    "pa = DFallpa[\"pa\"].values[0]\n",
    "pa.Xlabels[\"trials\"].loc[::10, [\"epoch\", \"superv_is_seq_sup\", \"epoch_orig_rand_seq\", \"epoch_is_AnBmCk\", \"INSTRUCTION_COLOR\"]]\n",
    "\n"
   ]
  },
  {
   "cell_type": "code",
   "execution_count": null,
   "id": "176db890b9454c64",
   "metadata": {
    "collapsed": false
   },
   "outputs": [],
   "source": [
    "\n",
    "pathis = pa.slice_by_labels(\"trials\", (\"epoch_orig_rand_seq\", \"epoch_is_AnBmCk\", \"INSTRUCTION_COLOR\"), [(True, False, True), (False, True, False)])"
   ]
  },
  {
   "cell_type": "code",
   "execution_count": null,
   "id": "35bedfec48a0f021",
   "metadata": {
    "collapsed": false
   },
   "outputs": [],
   "source": [
    "from pythonlib.tools.pandastools import grouping_print_n_samples \n",
    "\n",
    "vars = [\"epoch_orig\", \"epoch\", \"epoch_rand\", \"INSTRUCTION_COLOR\", \"superv_is_seq_sup\", \"epoch_orig_rand_seq\", \"epoch_is_AnBmCk\"]\n",
    "vars = [\"epochset\", \"epoch_orig\", \"epoch\", \"epoch_rand\", \"INSTRUCTION_COLOR\", \"superv_is_seq_sup\", \"epoch_orig_rand_seq\", \"epoch_is_AnBmCk\"]\n",
    "# vars = [\"epochset_diff_motor\", \"epoch_orig\", \"epoch\", \"epoch_rand\", \"INSTRUCTION_COLOR\", \"superv_is_seq_sup\", \"epoch_orig_rand_seq\", \"epoch_is_AnBmCk\"]\n",
    "grouping_print_n_samples(pa.Xlabels[\"trials\"], vars)"
   ]
  },
  {
   "cell_type": "markdown",
   "id": "8f2eb47871aefb60",
   "metadata": {
    "collapsed": false
   },
   "source": [
    "# NEW MODULATION SCORE EUCLIDIAN"
   ]
  },
  {
   "cell_type": "code",
   "execution_count": null,
   "id": "2f3090fe11c17dea",
   "metadata": {
    "collapsed": false
   },
   "outputs": [],
   "source": [
    "SAVEDIR_ANALYSIS = \"/tmp/ANBMCK_ENDPOINT_ALIGN\"\n",
    "import matplotlib.pyplot as plt\n",
    "import os\n",
    "import pandas as pd"
   ]
  },
  {
   "cell_type": "code",
   "execution_count": null,
   "id": "def4b80205bb12ea",
   "metadata": {
    "collapsed": false
   },
   "outputs": [],
   "source": [
    "#### PARAMS specific to noteobok\n",
    "# bregions_plot = [\"M1_m\", \"PMd_p\", \"preSMA_p\", \"preSMA_a\"]\n",
    "# bregions_plot = [\"M1_m\", \"preSMA_p\"]\n",
    "# bregions_plot = [\"M1_m\", \"preSMA_p\", \"preSMA_a\"]\n",
    "# bregions_plot = [\"M1_m\", \"PMd_p\", \"preSMA_a\"]\n",
    "# bregions_plot = [\"PMd_a\", \"preSMA_a\"]\n",
    "# bregions_plot = [\"M1_m\", \"PMd_p\", \"preSMA_p\", \"preSMA_a\"]\n",
    "# bregions_plot = [\"M1_m\", \"preSMA_p\", \"preSMA_a\"]\n",
    "# bregions_plot = [\"M1_m\", \"PMv_l\", \"PMd_p\"]\n",
    "# bregions_plot = [\"M1_m\", \"PMd_p\", \"preSMA_p\", \"preSMA_a\"]\n",
    "bregions_plot = [\"M1_m\", \"preSMA_p\", \"preSMA_a\"]\n",
    "# bregions_plot = [\"preSMA_a\"]\n",
    "# bregions_plot = None\n",
    "# bregions_plot = [\"M1_m\", \"preSMA_a\"]\n",
    "NPCS_KEEP = 10"
   ]
  },
  {
   "cell_type": "markdown",
   "id": "f30a5382993b01df",
   "metadata": {
    "collapsed": false
   },
   "source": [
    "##### Get variables"
   ]
  },
  {
   "cell_type": "code",
   "execution_count": null,
   "id": "aa0d4d708d6a2ae7",
   "metadata": {
    "collapsed": false
   },
   "outputs": [],
   "source": [
    "# Method 1 - saved\n",
    "from neuralmonkey.metadat.analy.anova_params import params_getter_euclidian_vars\n",
    "\n",
    "# question = \"RULESW_ANBMCK_DIR_STROKE\"\n",
    "\n",
    "question = None\n",
    "# question = \"RULE_ANBMCK_STROKE\"\n",
    "# question = \"SP_BASE_stroke\"\n",
    "LIST_VAR, LIST_VARS_OTHERS, LIST_CONTEXT, LIST_PRUNE_MIN_N_LEVS, LIST_FILTDICT = params_getter_euclidian_vars(question)"
   ]
  },
  {
   "cell_type": "code",
   "execution_count": null,
   "id": "662e9e2c534cd429",
   "metadata": {
    "collapsed": false
   },
   "outputs": [],
   "source": [
    "LIST_VAR = [\n",
    "    \"chunk_within_rank_semantic_v3\",\n",
    "    \"chunk_within_rank_semantic\",\n",
    "    \"chunk_within_rank\",\n",
    "    \"chunk_within_rank_fromlast\",\n",
    "]\n",
    "# More restrictive\n",
    "LIST_VARS_OTHERS = [\n",
    "    [\"chunk_rank\", \"shape\", \"chunk_n_in_chunk\"],\n",
    "    [\"chunk_rank\", \"shape\", \"chunk_n_in_chunk\"],\n",
    "    [\"chunk_rank\", \"shape\", \"chunk_n_in_chunk\"],\n",
    "    [\"chunk_rank\", \"shape\", \"chunk_n_in_chunk\"],\n",
    "]\n",
    "\n",
    "LIST_CONTEXT = [\n",
    "    {\"same\":[\"chunk_rank\", \"shape\"], \"diff\":[\"chunk_n_in_chunk\"]},\n",
    "    {\"same\":[\"chunk_rank\", \"shape\"], \"diff\":[\"chunk_n_in_chunk\"]},\n",
    "    {\"same\":[\"chunk_rank\", \"shape\"], \"diff\":[\"chunk_n_in_chunk\"]},\n",
    "    {\"same\":[\"chunk_rank\", \"shape\"], \"diff\":[\"chunk_n_in_chunk\"]},\n",
    "    ]\n",
    "\n",
    "LIST_PRUNE_MIN_N_LEVS = [2 for _ in range(len(LIST_VAR))]\n",
    "# Use 1 for things that use syntax role as effect. or else will throw out cases with 1 item in given chunk.\n",
    "\n",
    "# filtdict = {\n",
    "#     # \"stroke_index\": list(range(1, 10, 1)), # [1, ..., ]\n",
    "# }\n",
    "# filtdict = {\"task_kind\":[\"character\"]}\n",
    "filtdict = None\n",
    "LIST_FILTDICT = [\n",
    "    filtdict for _ in range(len(LIST_VAR))\n",
    "]\n"
   ]
  },
  {
   "cell_type": "code",
   "execution_count": null,
   "id": "f095f435cc727aff",
   "metadata": {
    "collapsed": false
   },
   "outputs": [],
   "source": [
    "# Give a new variable called chunk_within_rank_semantic_v2\n",
    "def F(x):\n",
    "    if x[\"chunk_within_rank_semantic\"] in [\"first\", \"last\", \"both_fl\"]:\n",
    "        # Return this\n",
    "        return x[\"chunk_within_rank_semantic\"]\n",
    "    else:\n",
    "        # Return the index from onset, as string\n",
    "        return str(x[\"chunk_within_rank\"])\n",
    "\n",
    "# Create new variable, chunk_within_rank_semantic_v2\n",
    "pa = DFallpa[\"pa\"].values[0]\n",
    "for i, row in DFallpa.iterrows(): \n",
    "    pa = row[\"pa\"]\n",
    "    from pythonlib.tools.pandastools import applyFunctionToAllRows\n",
    "    pa.Xlabels[\"trials\"] = applyFunctionToAllRows(pa.Xlabels[\"trials\"], F, \"chunk_within_rank_semantic_v2\")\n",
    "    \n",
    "\n",
    "\n",
    "############## New variable: chunk_within_rank_semantic_v3\n",
    "def F(x):\n",
    "    if x[\"chunk_within_rank_semantic\"] == \"both_fl\":\n",
    "        # A unique state\n",
    "        return -9\n",
    "    elif x[\"chunk_within_rank_semantic\"] == \"first\":\n",
    "        # \n",
    "        return 0\n",
    "    elif x[\"chunk_within_rank_semantic\"] == \"last\":\n",
    "        return 99\n",
    "    elif x[\"chunk_within_rank\"] == 1:\n",
    "        # 2nd stroke wins \n",
    "        return 1\n",
    "    elif x[\"chunk_within_rank_fromlast\"] == -2:\n",
    "        return 98\n",
    "    else:\n",
    "        # Middle strokes\n",
    "        return 50\n",
    "\n",
    "# Create new variable, chunk_within_rank_semantic_v2\n",
    "pa = DFallpa[\"pa\"].values[0]\n",
    "for i, row in DFallpa.iterrows(): \n",
    "    pa = row[\"pa\"]\n",
    "    from pythonlib.tools.pandastools import applyFunctionToAllRows\n",
    "    pa.Xlabels[\"trials\"] = applyFunctionToAllRows(pa.Xlabels[\"trials\"], F, \"chunk_within_rank_semantic_v3\")\n",
    "    \n",
    "\n"
   ]
  },
  {
   "cell_type": "code",
   "execution_count": null,
   "id": "8eac40cb80f7b3f1",
   "metadata": {
    "collapsed": false
   },
   "outputs": [],
   "source": [
    "grouping_print_n_samples(pa.Xlabels[\"trials\"], [\"chunk_n_in_chunk\", \"chunk_within_rank\", \"chunk_within_rank_semantic_v3\"])"
   ]
  },
  {
   "cell_type": "code",
   "execution_count": null,
   "id": "197b92db1e5b5354",
   "metadata": {
    "collapsed": false
   },
   "outputs": [],
   "source": [
    "########################################\n",
    "SHUFFLE = False\n",
    "\n",
    "# ################# RUN\n",
    "\n",
    "PLOT = False\n",
    "PLOT_MASKS = False\n",
    "nmin_trials_per_lev = 4\n",
    "PLOT_STATE_SPACE = True\n",
    "COMPUTE_EUCLIDIAN = True\n",
    "# twind = (-0.1, 0.1)\n",
    "twind = (-0.1, 0.2)\n",
    "# twind = (0.05, 0.25)\n",
    "tbin_dur = 0.1\n",
    "tbin_slice = tbin_dur\n",
    "\n",
    "from neuralmonkey.analyses.state_space_good import euclidian_distance_compute_scalar\n",
    "\n",
    "######## DIM REDUCTIONS PARAMS\n",
    "dim_red_method = \"superv_dpca\"\n",
    "NPCS_KEEP = None\n",
    "\n",
    "# --- Unsupervised\n",
    "extra_dimred_method_n_components = 3 \n",
    "umap_n_neighbors = 40\n",
    "\n",
    "################## DIFFERENT DPCA PARAMS\n",
    "LIST_SAVEDIR_SUFFIX = []\n",
    "LIST_SUPERV_DPCA_PARAMS = []\n",
    "\n",
    "# # (2) var rank, condition on each chunk one by one\n",
    "# chunk_within_rank\n",
    "savedir_suffix = f\"chunk_within_rank_semantic_v3\"\n",
    "# (1) var rank, condition on everything else.\n",
    "superv_dpca_params = {\n",
    "    \"superv_dpca_var\":\"chunk_within_rank_semantic_v3\",\n",
    "    \"superv_dpca_vars_group\":[\"epoch\", \"chunk_rank\", \"shape\", \"syntax_concrete\", \"gridloc\"],\n",
    "    \"superv_dpca_filtdict\":None\n",
    "}\n",
    "LIST_SAVEDIR_SUFFIX.append(savedir_suffix)\n",
    "LIST_SUPERV_DPCA_PARAMS.append(superv_dpca_params)\n",
    "\n",
    "################# RUN \n",
    "list_dfres = []\n",
    "for savedir_suffix, superv_dpca_params in zip(LIST_SAVEDIR_SUFFIX, LIST_SUPERV_DPCA_PARAMS):\n",
    "    for i, row in DFallpa.iterrows():\n",
    "        br = row[\"bregion\"]\n",
    "        tw = row[\"twind\"]\n",
    "        ev = row[\"event\"]\n",
    "        PA = row[\"pa\"]\n",
    "        \n",
    "        if bregions_plot is not None:\n",
    "            if br not in bregions_plot:\n",
    "                continue\n",
    "    \n",
    "        savedir = f\"{SAVEDIR_ANALYSIS}/{br}-{dim_red_method}-{NPCS_KEEP}-{extra_dimred_method_n_components}-{umap_n_neighbors}-{savedir_suffix}\"\n",
    "        os.makedirs(savedir, exist_ok=True)\n",
    "        \n",
    "        dfres = euclidian_distance_compute_scalar(PA, LIST_VAR, LIST_VARS_OTHERS, PLOT, PLOT_MASKS,\n",
    "                                   twind, tbin_dur, tbin_slice, savedir, \n",
    "                                           PLOT_STATE_SPACE=PLOT_STATE_SPACE, COMPUTE_EUCLIDIAN=COMPUTE_EUCLIDIAN,\n",
    "                                           nmin_trials_per_lev=nmin_trials_per_lev, LIST_CONTEXT=LIST_CONTEXT,\n",
    "                                           LIST_FILTDICT=LIST_FILTDICT, NPCS_KEEP=NPCS_KEEP, \n",
    "                                           umap_n_neighbors = umap_n_neighbors, LIST_PRUNE_MIN_N_LEVS=LIST_PRUNE_MIN_N_LEVS,\n",
    "                                           dim_red_method=dim_red_method, extra_dimred_method_n_components=extra_dimred_method_n_components,\n",
    "                                           superv_dpca_params=superv_dpca_params)\n",
    "        \n",
    "        plt.close(\"all\")\n",
    "        if dfres is not None and len(dfres)>0:\n",
    "            dfres[\"bregion\"] = br\n",
    "            dfres[\"twind\"] = [tw for _ in range(len(dfres))]\n",
    "            dfres[\"event\"] = ev\n",
    "            dfres[\"savedir_suffix\"] = savedir_suffix\n",
    "    \n",
    "            list_dfres.append(dfres)\n",
    "DFRES = pd.concat(list_dfres).reset_index(drop=True)"
   ]
  },
  {
   "cell_type": "markdown",
   "id": "d12b8f8017e7b3a",
   "metadata": {
    "collapsed": false
   },
   "source": [
    "##### Print summary of the distribution of result features"
   ]
  },
  {
   "cell_type": "code",
   "execution_count": null,
   "id": "8f8f778c156f40dc",
   "metadata": {
    "collapsed": false
   },
   "outputs": [],
   "source": [
    "SAVEDIR_ANALYSIS"
   ]
  },
  {
   "cell_type": "markdown",
   "id": "d323de950bfdbc25",
   "metadata": {
    "collapsed": false
   },
   "source": [
    "### Make summary plots"
   ]
  },
  {
   "cell_type": "code",
   "execution_count": null,
   "id": "2668612c68685c7b",
   "metadata": {
    "collapsed": false
   },
   "outputs": [],
   "source": [
    "SAVEDIR"
   ]
  },
  {
   "cell_type": "code",
   "execution_count": null,
   "id": "e3dca5aca4577814",
   "metadata": {
    "collapsed": false
   },
   "outputs": [],
   "source": [
    "SAVEDIR = f\"/{SAVEDIR_ANALYSIS}/ENDDPOINTS-DO_DEMIXED=True\""
   ]
  },
  {
   "cell_type": "code",
   "execution_count": null,
   "id": "5415d43fe4406ebc",
   "metadata": {
    "collapsed": false
   },
   "outputs": [],
   "source": [
    "# suffix = \"chunkwithin_vs_chunkrank_samesyntax_excludefirstlast_includeeven_ifone_lev\"\n",
    "# suffix = \"chunkwithin_vs_chunkrank_anysyntax_excludefirstlast_includeeven_ifone_lev\"\n",
    "suffix = \"ALL_DPCA_LOWD\"\n",
    "SAVEDIR = f\"{SAVEDIR_ANALYSIS}/{suffix}\"\n",
    "import os\n",
    "os.makedirs(SAVEDIR, exist_ok=True)"
   ]
  },
  {
   "cell_type": "code",
   "execution_count": null,
   "id": "c0e13bc6060e91e5",
   "metadata": {
    "collapsed": false
   },
   "outputs": [],
   "source": [
    "from neuralmonkey.scripts.analy_euclidian_dist_pop_script import plot_all_results\n",
    "\n",
    "plot_all_results(DFRES, SAVEDIR)\n"
   ]
  },
  {
   "cell_type": "code",
   "execution_count": null,
   "id": "430fbdbb5993bbbc",
   "metadata": {
    "collapsed": false
   },
   "outputs": [],
   "source": [
    "from neuralmonkey.scripts.analy_euclidian_dist_pop_script import plot_all_results_yue\n",
    "DFRES_PIVOT_YUE = plot_all_results_yue(DFRES, SAVEDIR)\n"
   ]
  },
  {
   "cell_type": "code",
   "execution_count": null,
   "id": "c49e1b325b082e0e",
   "metadata": {
    "collapsed": false
   },
   "outputs": [],
   "source": [
    "from neuralmonkey.scripts.analy_euclidian_dist_pop_script import _plot_pairwise_btw_levels_for_seqsup, plot_pairwise_all_wrapper\n",
    "# VERSION = \"shape_vs_dir\"\n",
    "# plot_pairwise_btw_levels_for_seqsup(DFRES, SAVEDIR, VERSION)\n",
    "plot_pairwise_all_wrapper(DFRES, SAVEDIR)"
   ]
  },
  {
   "cell_type": "markdown",
   "id": "9dcd811d896cd4d8",
   "metadata": {
    "collapsed": false
   },
   "source": [
    "# DIM REDUCTION -- Quick scratch -- getting all the ways for dim reduction"
   ]
  },
  {
   "cell_type": "code",
   "execution_count": null,
   "id": "9159ef6e785aa693",
   "metadata": {
    "collapsed": false
   },
   "outputs": [],
   "source": [
    "DFallpa"
   ]
  },
  {
   "cell_type": "code",
   "execution_count": null,
   "id": "1382cb060c2b2385",
   "metadata": {
    "collapsed": false
   },
   "outputs": [],
   "source": [
    "pa = DFallpa[\"pa\"].values[2]\n"
   ]
  },
  {
   "cell_type": "code",
   "execution_count": null,
   "id": "1f9ec3a24e7bd2f2",
   "metadata": {
    "collapsed": false
   },
   "outputs": [],
   "source": [
    "plot_pca_explained_var_path=\"/tmp/pcaexp.pdf\"\n",
    "plot_loadings_path = \"/tmp/pcaload.pdf\"\n",
    "\n",
    "twind = (-0.1, 0.2)\n",
    "tbin_dur = 0.1\n",
    "tbin_slice = 0.1\n",
    "\n",
    "pca_reduce = True\n",
    "NPCS_KEEP = 6\n",
    "\n",
    "extra_dimred_method = None\n",
    "# extra_dimred_method = \"mds\"\n",
    "umap_n_neighbors = 40\n",
    "Xredu, PAredu, PAslice, pca, _ = pa.dataextract_state_space_decode_flex(twind, tbin_dur, tbin_slice, reshape_method=\"trials_x_chanstimes\",\n",
    "                                           pca_reduce=pca_reduce, plot_pca_explained_var_path=plot_pca_explained_var_path, plot_loadings_path=plot_loadings_path, npcs_keep_force=NPCS_KEEP,\n",
    "                                          extra_dimred_method=extra_dimred_method, umap_n_neighbors = umap_n_neighbors)"
   ]
  },
  {
   "cell_type": "code",
   "execution_count": null,
   "id": "39416f333caa768d",
   "metadata": {
    "collapsed": false
   },
   "outputs": [],
   "source": [
    "pa.data"
   ]
  },
  {
   "cell_type": "markdown",
   "id": "bc1282e3e79b0a19",
   "metadata": {
    "collapsed": false
   },
   "source": [
    "# DIM REDUCTION - time series"
   ]
  },
  {
   "cell_type": "markdown",
   "id": "ff66c118",
   "metadata": {},
   "source": [
    "##### [Devo] doing demixed pca for trajectories\n"
   ]
  },
  {
   "cell_type": "code",
   "execution_count": null,
   "id": "7e18934e",
   "metadata": {},
   "outputs": [],
   "source": [
    "DFallpa\n"
   ]
  },
  {
   "cell_type": "code",
   "execution_count": null,
   "id": "fd214573",
   "metadata": {},
   "outputs": [],
   "source": [
    "PA = DFallpa[\"pa\"].values[16]"
   ]
  },
  {
   "cell_type": "code",
   "execution_count": null,
   "id": "d433229f",
   "metadata": {},
   "outputs": [],
   "source": [
    "# plot_pca_explained_var_path=f\"{savedir}/pcaexp.pdf\"\n",
    "# plot_loadings_path = f\"{savedir}/pcaload.pdf\"\n",
    "# pca_reduce = True\n",
    "# extra_dimred_method = None\n",
    "# umap_n_neighbors = 40\n",
    "\n",
    "savedirthis = f\"/tmp/pca_construction\"\n",
    "os.makedirs(savedirthis, exist_ok=True)\n",
    "# PLOT_STEPS = False\n",
    "\n",
    "superv_dpca_var = \"seqc_0_shape\"\n",
    "superv_dpca_vars_group = [\"seqc_0_loc\"]\n",
    "twind = [-0.1, 0.3]\n",
    "tbin_dur = 0.15\n",
    "superv_dpca_filtdict = None\n",
    "PLOT_STEPS = False\n",
    "SANITY = False\n",
    "reshape_method = \"chans_x_trials_x_times\"\n",
    "nmin_trials_per_lev = 5\n",
    "pca_tbin_slice = 0.05\n",
    "Xredu, PAredu, _, _, pca = PA.dataextract_pca_demixed_subspace(\n",
    "    superv_dpca_var, superv_dpca_vars_group, twind, tbin_dur, superv_dpca_filtdict, savedirthis,\n",
    "    n_min_per_lev_lev_others=nmin_trials_per_lev, PLOT_STEPS=PLOT_STEPS, SANITY=SANITY,\n",
    "    reshape_method = reshape_method, pca_tbin_slice=pca_tbin_slice)\n"
   ]
  },
  {
   "cell_type": "code",
   "execution_count": null,
   "id": "cf6743ef",
   "metadata": {},
   "outputs": [],
   "source": [
    "\n",
    "\n",
    "superv_dpca_var = \"seqc_0_shape\"\n",
    "superv_dpca_vars_group = [\"seqc_0_loc\"]\n",
    "twind_overall = [-0.15, 0.35]\n",
    "tbin_dur = 0.15\n",
    "tbin_slide = 0.05\n",
    "superv_dpca_filtdict = None\n",
    "PLOT_STEPS = False\n",
    "SANITY = False\n",
    "reshape_method = \"chans_x_trials_x_times\"\n",
    "nmin_trials_per_lev = 5\n",
    "pca_tbin_slice = 0.05\n",
    "npcs_keep_force = None\n",
    "\n",
    "if True:\n",
    "    extra_dimred_method = \"umap\"\n",
    "    extra_dimred_method_n_components = 2\n",
    "    umap_n_neighbors = 40\n",
    "    pca_reduce = True\n",
    "else:\n",
    "    extra_dimred_method = None\n",
    "    pca_reduce = True\n",
    "\n",
    "Xredu, PAredu, PAslice, pca, X_before_dimred = PA.dataextract_state_space_decode_flex(twind_overall=twind_overall, \n",
    "                                                                                      tbin_dur=tbin_dur, tbin_slide=tbin_slide,\n",
    "                                            reshape_method = \"chans_x_trials_x_times\",\n",
    "                                            pca_reduce=pca_reduce,\n",
    "                                            pca_method=\"svd\",\n",
    "                                            norm_subtract_single_mean_each_chan=True,\n",
    "                                            npcs_keep_force=npcs_keep_force,\n",
    "                                            extra_dimred_method=extra_dimred_method,\n",
    "                                            extra_dimred_method_n_components=extra_dimred_method_n_components, \n",
    "                                            umap_n_neighbors = umap_n_neighbors)\n"
   ]
  },
  {
   "cell_type": "code",
   "execution_count": null,
   "id": "128a70bd",
   "metadata": {},
   "outputs": [],
   "source": [
    "np.all(X==Xold)"
   ]
  },
  {
   "cell_type": "code",
   "execution_count": null,
   "id": "5ff4590c",
   "metadata": {},
   "outputs": [],
   "source": [
    "Xold = X.copy()"
   ]
  },
  {
   "cell_type": "markdown",
   "id": "3c45b1e6",
   "metadata": {},
   "source": [
    "### [Devo] State space plots showing individual trials, colored by continuous variable"
   ]
  },
  {
   "cell_type": "code",
   "execution_count": 8,
   "id": "3f85c397",
   "metadata": {},
   "outputs": [],
   "source": [
    "PA = DFallpa[\"pa\"].values[1]"
   ]
  },
  {
   "cell_type": "code",
   "execution_count": 14,
   "id": "86db774b",
   "metadata": {},
   "outputs": [],
   "source": [
    "PA = PA.norm_subtract_trial_mean_each_timepoint()"
   ]
  },
  {
   "cell_type": "code",
   "execution_count": 105,
   "id": "ba93d3ec",
   "metadata": {},
   "outputs": [
    {
     "name": "stdout",
     "output_type": "stream",
     "text": [
      "Doing PCA\n"
     ]
    },
    {
     "name": "stderr",
     "output_type": "stream",
     "text": [
      "No artists with labels found to put in legend.  Note that artists whose label start with an underscore are ignored when legend() is called with no argument.\n",
      "No artists with labels found to put in legend.  Note that artists whose label start with an underscore are ignored when legend() is called with no argument.\n"
     ]
    },
    {
     "data": {
      "image/png": "[encoded data removed]",
      "text/plain": [
       "<Figure size 700x700 with 2 Axes>"
      ]
     },
     "metadata": {},
     "output_type": "display_data"
    },
    {
     "data": {
      "image/png": "[encoded data removed]",
      "text/plain": [
       "<Figure size 800x300 with 2 Axes>"
      ]
     },
     "metadata": {},
     "output_type": "display_data"
    },
    {
     "data": {
      "image/png": "[encoded data removed]",
      "text/plain": [
       "<Figure size 2000x1500 with 2 Axes>"
      ]
     },
     "metadata": {},
     "output_type": "display_data"
    },
    {
     "data": {
      "image/png": "[encoded data removed]",
      "text/plain": [
       "<Figure size 800x300 with 2 Axes>"
      ]
     },
     "metadata": {},
     "output_type": "display_data"
    }
   ],
   "source": [
    "# Do dim reduction\n",
    "\n",
    "\n",
    "# superv_dpca_var = \"seqc_0_shape\"\n",
    "# superv_dpca_vars_group = [\"seqc_0_loc\"]\n",
    "# twind_overall = [-0.2, 0.5]\n",
    "# tbin_dur = 0.1\n",
    "# tbin_slide = 0.05\n",
    "\n",
    "\n",
    "# reshape_method = \"chans_x_trials_x_times\"\n",
    "# nmin_trials_per_lev = 5\n",
    "# pca_tbin_slice = 0.05\n",
    "# npcs_keep_force = 6\n",
    "\n",
    "\n",
    "superv_dpca_var = \"seqc_0_shape\"\n",
    "superv_dpca_vars_group = [\"seqc_0_loc\"]\n",
    "twind = [-0.2, 0.5]\n",
    "tbin_dur = 0.2\n",
    "superv_dpca_filtdict = None\n",
    "PLOT_STEPS = False\n",
    "SANITY = False\n",
    "reshape_method = \"chans_x_trials_x_times\"\n",
    "nmin_trials_per_lev = 5\n",
    "pca_tbin_slice = 0.02\n",
    "savedirthis=\"/tmp\"\n",
    "Xredu, PAredu, _, _, pca = PA.dataextract_pca_demixed_subspace(\n",
    "    superv_dpca_var, superv_dpca_vars_group, twind, tbin_dur, superv_dpca_filtdict, savedirthis,\n",
    "    n_min_per_lev_lev_others=nmin_trials_per_lev, PLOT_STEPS=PLOT_STEPS, SANITY=SANITY,\n",
    "    reshape_method = reshape_method, pca_tbin_slice=pca_tbin_slice)\n"
   ]
  },
  {
   "cell_type": "code",
   "execution_count": 106,
   "id": "7004a862",
   "metadata": {},
   "outputs": [],
   "source": [
    "# To plot all on same plot, but color by shape...\n",
    "if False:\n",
    "    pa = PAredu.copy()\n",
    "    grp = [\"seqc_0_shape\", \"seqc_0_loc\"]\n",
    "    pa = pa.slice_and_agg_wrapper(\"trials\", grp)\n",
    "else:\n",
    "    pa = PAredu.copy()"
   ]
  },
  {
   "cell_type": "code",
   "execution_count": 107,
   "id": "e8e29897",
   "metadata": {},
   "outputs": [
    {
     "data": {
      "text/plain": [
       "<neuralmonkey.classes.population.PopAnal at 0x70714c05d730>"
      ]
     },
     "execution_count": 107,
     "metadata": {},
     "output_type": "execute_result"
    }
   ],
   "source": [
    "pa"
   ]
  },
  {
   "cell_type": "code",
   "execution_count": 120,
   "id": "954b6cac",
   "metadata": {},
   "outputs": [
    {
     "name": "stdout",
     "output_type": "stream",
     "text": [
      "Saving ...  /tmp/DEVO_STATE_SPACE_PLOTS/color=seqc_0_shape-sub=['seqc_0_loc']-dims=(0, 1)-suff=[-3, 3]|[-1.5, 1.5].pdf\n",
      "Saving ...  /tmp/DEVO_STATE_SPACE_PLOTS/color=seqc_0_shape-sub=['seqc_0_loc']-dims=(0, 1)-suff=[-3, 3]|[-2, 2].pdf\n",
      "Saving ...  /tmp/DEVO_STATE_SPACE_PLOTS/color=seqc_0_shape-sub=['seqc_0_loc']-dims=(0, 1)-suff=[-3, 3]|[-2.5, 2.5].pdf\n",
      "Saving ...  /tmp/DEVO_STATE_SPACE_PLOTS/color=seqc_0_shape-sub=['seqc_0_loc']-dims=(0, 1)-suff=[-2.5, 2.5]|[-1.5, 1.5].pdf\n",
      "Saving ...  /tmp/DEVO_STATE_SPACE_PLOTS/color=seqc_0_shape-sub=['seqc_0_loc']-dims=(0, 1)-suff=[-2.5, 2.5]|[-2, 2].pdf\n",
      "Saving ...  /tmp/DEVO_STATE_SPACE_PLOTS/color=seqc_0_shape-sub=['seqc_0_loc']-dims=(0, 1)-suff=[-2.5, 2.5]|[-2.5, 2.5].pdf\n"
     ]
    }
   ],
   "source": [
    "from neuralmonkey.analyses.state_space_good import trajgood_plot_colorby_splotby_WRAPPER\n",
    "\n",
    "X = pa.X\n",
    "times = pa.Times\n",
    "dflab = pa.Xlabels[\"trials\"]\n",
    "\n",
    "# var_color = \"seqc_0_shape\"\n",
    "# vars_subplot = None\n",
    "var_color = \"seqc_0_shape\"\n",
    "vars_subplot = [\"seqc_0_loc\"]\n",
    "\n",
    "savedir = \"/tmp/DEVO_STATE_SPACE_PLOTS\"\n",
    "os.makedirs(savedir, exist_ok=True)\n",
    "list_dims = [(0,1)]\n",
    "time_bin_size = None\n",
    "mean_over_trials = False\n",
    "plot_dots_on_traj = False\n",
    "for xlim_force in [\n",
    "    [-3, 3],\n",
    "    [-2.5, 2.5],\n",
    "    ]:\n",
    "    for ylim_force in [\n",
    "        [-1.5, 1.5],\n",
    "        [-2, 2],\n",
    "        [-2.5, 2.5],\n",
    "    ]:\n",
    "        trajgood_plot_colorby_splotby_WRAPPER(X, times, dflab, var_color, savedir,\n",
    "                                                        vars_subplot, list_dims,\n",
    "                                                        time_bin_size, alpha=0.7,\n",
    "                                                        mean_over_trials=True, plot_dots_on_traj=plot_dots_on_traj,\n",
    "                                                        xlim_force = xlim_force, ylim_force=ylim_force,\n",
    "                                                        save_suffix=f\"{xlim_force}|{ylim_force}\")\n",
    "\n",
    "\n"
   ]
  },
  {
   "cell_type": "code",
   "execution_count": null,
   "id": "a5fb8cde",
   "metadata": {},
   "outputs": [],
   "source": [
    "# Also plot scalar, taking mean over "
   ]
  },
  {
   "cell_type": "code",
   "execution_count": null,
   "id": "6c0de1a8",
   "metadata": {},
   "outputs": [],
   "source": [
    "dfthis[var_color]"
   ]
  },
  {
   "cell_type": "code",
   "execution_count": null,
   "id": "eccea9e0",
   "metadata": {},
   "outputs": [],
   "source": [
    "\n",
    "from pythonlib.tools.plottools import map_continuous_var_to_color_range\n",
    "from math import pi\n",
    "from pythonlib.tools.listtools import sort_mixed_type\n",
    "from pythonlib.tools.pandastools import append_col_with_grp_index\n",
    "import numpy as np\n",
    "\n",
    "var_color_by = \"seqc_0_angle\"\n",
    "vars_subplot = [\"seqc_0_shape\"]\n",
    "# vars_subplot = None\n",
    "savedir = \"/tmp/TESTMOTOR\"\n",
    "\n",
    "\n",
    "valmin = 0.\n",
    "valmax = 2 *pi\n",
    "kind = \"circular\"\n",
    "ntrials = 50\n",
    "\n",
    "var_color_for_name = var_color_by\n",
    "if isinstance(var_color_by, (tuple, list)):\n",
    "    dflab = append_col_with_grp_index(dflab, var_color_by, \"_tmp\")\n",
    "    var_color_by = \"_tmp\"\n",
    "\n",
    "var_color_for_name_subplots = vars_subplot\n",
    "if vars_subplot is None:\n",
    "    dflab[\"_tmp2\"] = \"dummy\"\n",
    "    vars_subplot = \"_tmp2\"\n",
    "if isinstance(vars_subplot, (tuple, list)):\n",
    "    dflab = append_col_with_grp_index(dflab, vars_subplot, \"_tmp2\")\n",
    "    vars_subplot = \"_tmp2\"\n",
    "\n",
    "\n",
    "dims = (0,1)\n",
    "\n",
    "levs_other = sort_mixed_type(dflab[vars_subplot].unique().tolist())\n",
    "ncols = 3\n",
    "nrows = int(np.ceil(len(levs_other)/ncols))\n",
    "fig, axes = plt.subplots(nrows, ncols, sharex=True, sharey=True, figsize=(ncols*3.5, nrows*3.5))\n",
    "\n",
    "for ax, levo in zip(axes.flatten(), levs_other):\n",
    "    ax.set_title(levo)\n",
    "    dfthis = dflab[dflab[vars_subplot]==levo]\n",
    "    \n",
    "    # get neural and label colors\n",
    "    inds = dfthis.index.tolist()\n",
    "    Xthis = X[:, inds, :]\n",
    "    label_colors = map_continuous_var_to_color_range(dfthis[var_color_by], valmin, valmax, kind)\n",
    "    \n",
    "    # Take subset of trials\n",
    "    import random\n",
    "    if Xthis.shape[1]>ntrials:\n",
    "        _inds = random.sample(range(Xthis.shape[1]), ntrials)\n",
    "        Xthis = Xthis[:, _inds, :]\n",
    "        label_colors = label_colors[_inds]\n",
    "\n",
    "    # Plot each trajectory\n",
    "    ntrials = Xthis.shape[1]\n",
    "    for tr in range(ntrials):\n",
    "        col = label_colors[tr, :]\n",
    "        x = Xthis[dims[0], tr, :]\n",
    "        y = Xthis[dims[1], tr, :]\n",
    "        ax.plot(x, y, \"-\", color=col, alpha=0.25)\n",
    "        ax.plot(x[0], y[0], \"o\", color=col, alpha=0.25)\n",
    "\n",
    "        "
   ]
  },
  {
   "cell_type": "markdown",
   "id": "5c1443b0",
   "metadata": {},
   "source": [
    "##### [Analysis] --> General, euclidian distance, but using trajectory distances\n",
    "(NOTE: moved to script already)"
   ]
  },
  {
   "cell_type": "code",
   "execution_count": null,
   "id": "788f90349fb964f9",
   "metadata": {
    "ExecuteTime": {
     "end_time": "2024-04-26T05:52:46.178197668Z",
     "start_time": "2024-04-26T05:52:46.150767116Z"
    },
    "collapsed": false
   },
   "outputs": [],
   "source": [
    "DFallpa"
   ]
  },
  {
   "cell_type": "code",
   "execution_count": null,
   "id": "2281a539",
   "metadata": {},
   "outputs": [],
   "source": [
    "PA = DFallpa[\"pa\"].values[2]"
   ]
  },
  {
   "cell_type": "code",
   "execution_count": null,
   "id": "df097367",
   "metadata": {},
   "outputs": [],
   "source": [
    "import os\n",
    "SAVEDIR = \"/tmp/TEST_CHAR_DPCA_on_sp_FIRSTSTROKE__tdt_combined_GOOD\"\n",
    "os.makedirs(SAVEDIR, exist_ok=True)"
   ]
  },
  {
   "cell_type": "code",
   "execution_count": null,
   "id": "88dd5a2ea486f90",
   "metadata": {
    "ExecuteTime": {
     "end_time": "2024-04-26T05:56:53.477452089Z",
     "start_time": "2024-04-26T05:56:53.417950209Z"
    },
    "collapsed": false
   },
   "outputs": [],
   "source": [
    "# var_effect = \"shape\"\n",
    "# vars_others = [\"gridloc\"]\n",
    "\n",
    "# SINGLE PRIMS\n",
    "# if False:\n",
    "#     # - Strokes\n",
    "#     twind = (-0.25, 0.35)\n",
    "#     tbin_dur = 0.1\n",
    "#     tbin_slice = 0.05\n",
    "#     LIST_VAR_VAR_OTHERS = [\n",
    "#         [\"shape\", [\"gridloc\"]],\n",
    "#     ]\n",
    "#     event_keep =\"00_stroke\"\n",
    "# else:\n",
    "#     # - Trials\n",
    "#     twind = (0.1, 0.5)\n",
    "#     tbin_dur = 0.1\n",
    "#     tbin_slice = 0.05\n",
    "#     LIST_VAR_VAR_OTHERS = [\n",
    "#         [\"seqc_0_shape\", [\"seqc_0_loc\"]],\n",
    "#     ]\n",
    "#     event_keep =\"03_samp\"\n",
    "# LIST_VAR = [\n",
    "#     \"seqc_0_shape\",\n",
    "# ]\n",
    "# LIST_VARS_OTHERS = [\n",
    "#     [\"seqc_0_loc\"],\n",
    "# ]\n",
    "\n",
    "# PIG (generalization of shape across task_kind)\n",
    "# - Trials\n",
    "# twind = (-0.25, 0.35)\n",
    "# twind = (-0.25, 0.25)\n",
    "# twind = (-0.4, 0.4)\n",
    "twind = (-0.05, 0.35)\n",
    "tbin_dur = 0.1\n",
    "tbin_slice = 0.05\n",
    "event_keep =\"00_stroke\"\n",
    "\n",
    "LIST_VAR = [\n",
    "    \"shape_semantic\",\n",
    "    \"shape_semantic\",\n",
    "]\n",
    "LIST_VARS_OTHERS = [\n",
    "    [\"task_kind\", \"stroke_index\"],\n",
    "    [\"task_kind\"],\n",
    "]\n",
    "LIST_CONTEXT = [\n",
    "    {\"same\":[\"stroke_index\"], \"diff\":[\"task_kind\"]},\n",
    "    {\"same\":[], \"diff\":[\"task_kind\"]}\n",
    "]\n",
    "\n",
    "# [Optional, for char] Keep only shapes that exist in every context\n",
    "from pythonlib.tools.pandastools import extract_with_levels_of_conjunction_vars_helper\n",
    "dflab = DFallpa[\"pa\"].values[0].Xlabels[\"trials\"]\n",
    "dflabthis = dflab[dflab[\"task_kind\"].isin([\"character\", \"prims_single\"])].reset_index(drop=True)\n",
    "_, dict_dfthis = extract_with_levels_of_conjunction_vars_helper(dflabthis,\n",
    "                                               \"task_kind\", [\"shape_semantic\"], n_min_per_lev=3,\n",
    "                                               plot_counts_heatmap_savepath=\"/tmp/test.png\")\n",
    "shapes_keep = dict_dfthis.keys()\n",
    "shapes_keep = [x[0] for x in list(dict_dfthis.keys())]\n",
    "\n",
    "LIST_FILTDICT = [\n",
    "    {\"task_kind\":[\"prims_single\", \"character\"], \"shape_semantic\":shapes_keep, \"stroke_index\":[0]},\n",
    "    {\"task_kind\":[\"prims_single\", \"character\"], \"shape_semantic\":shapes_keep}\n",
    "]\n",
    "\n",
    "LIST_PRUNE_MIN_N_LEVS=[2, 2]\n",
    "\n",
    "NPCS_KEEP = 4\n",
    "PLOT_TRAJS = True\n",
    "PLOT_HEATMAPS = False\n",
    "nmin_trials_per_lev = 3\n"
   ]
  },
  {
   "cell_type": "code",
   "execution_count": null,
   "id": "18b57fa0",
   "metadata": {},
   "outputs": [],
   "source": [
    "# list_bregions = [\"M1_l\", \"M1_m\", \"PMv_l\", \"PMv_m\", \"vlPFC_a\", \"preSMA_p\", \"preSMA_a\"]\n",
    "list_bregions = [\"M1\", \"PMv\",\"preSMA\", \"PMd\"]"
   ]
  },
  {
   "cell_type": "code",
   "execution_count": null,
   "id": "f3c2d005",
   "metadata": {},
   "outputs": [],
   "source": [
    "from pythonlib.tools.pandastools import extract_with_levels_of_var_good\n"
   ]
  },
  {
   "cell_type": "code",
   "execution_count": null,
   "id": "b30e9d40",
   "metadata": {},
   "outputs": [],
   "source": [
    "### Original version\n",
    "from neuralmonkey.analyses.state_space_good import euclidian_distance_compute_trajectories\n",
    "\n",
    "# Iterate over all locations from single prim data. For each, construct a DPCA space\n",
    "# and run entire pipeline\n",
    "list_dfres = []\n",
    "\n",
    "if False:\n",
    "    dim_red_method = \"pca\"\n",
    "    superv_dpca_params=None\n",
    "elif False:\n",
    "    # Construct dPC space using SP\n",
    "    dim_red_method = \"superv_dpca\"\n",
    "    superv_dpca_params={\n",
    "        \"superv_dpca_var\":\"shape\",\n",
    "        \"superv_dpca_vars_group\":[\"gridloc\"],\n",
    "        \"superv_dpca_filtdict\":{\"task_kind\":[\"prims_single\"]}\n",
    "    }\n",
    "else:\n",
    "    # Char  \n",
    "    dim_red_method = \"superv_dpca\"\n",
    "    superv_dpca_params={\n",
    "        \"superv_dpca_var\":\"shape_semantic\",\n",
    "        \"superv_dpca_vars_group\":[\"task_kind\"],\n",
    "        \"superv_dpca_filtdict\":{\"task_kind\":[\"prims_single\"]}\n",
    "    }\n",
    "\n",
    "\n",
    "for _, row in DFallpa.iterrows():\n",
    "    ##############################\n",
    "    # Pull ou# t a specific area\n",
    "    PA = row[\"pa\"].copy()\n",
    "    br = row[\"bregion\"]\n",
    "    tw = row[\"twind\"]\n",
    "    ev = row[\"event\"]\n",
    "    print(br)\n",
    "\n",
    "    if br not in list_bregions:\n",
    "        continue\n",
    "    \n",
    "    if PA.X.shape[0]<NPCS_KEEP:\n",
    "        continue\n",
    "\n",
    "    savedirthis = f\"{SAVEDIR}/{dim_red_method}/{br}-{ev}\"\n",
    "    os.makedirs(savedirthis, exist_ok=True)\n",
    "    dfres = euclidian_distance_compute_trajectories(PA, LIST_VAR, LIST_VARS_OTHERS, twind, tbin_dur,\n",
    "                            tbin_slice, savedirthis, PLOT_TRAJS=PLOT_TRAJS, PLOT_HEATMAPS=PLOT_HEATMAPS,\n",
    "                            nmin_trials_per_lev=nmin_trials_per_lev,\n",
    "                            LIST_CONTEXT=LIST_CONTEXT, LIST_FILTDICT=LIST_FILTDICT,\n",
    "                            LIST_PRUNE_MIN_N_LEVS=LIST_PRUNE_MIN_N_LEVS,\n",
    "                            NPCS_KEEP=NPCS_KEEP,\n",
    "                            dim_red_method = dim_red_method, superv_dpca_params=superv_dpca_params)\n",
    "    dfres[\"bregion\"] = br\n",
    "    dfres[\"twind\"] = [tw for _ in range(len(dfres))]\n",
    "    \n",
    "    # Track what the dpca space was\n",
    "\n",
    "    list_dfres.append(dfres)\n",
    "\n",
    "DFRES = pd.concat(list_dfres).reset_index(drop=True)\n",
    "DFRES        "
   ]
  },
  {
   "cell_type": "code",
   "execution_count": null,
   "id": "f8a7d8bf",
   "metadata": {},
   "outputs": [],
   "source": [
    "tbin_dur = 0.1\n",
    "tbin_slide = 0.05\n",
    "X, PAfinal, PAslice, pca, X_before_dimred = PA.dataextract_state_space_decode_flex(tbin_dur=tbin_dur, tbin_slide=tbin_slide)"
   ]
  },
  {
   "cell_type": "code",
   "execution_count": null,
   "id": "fa9d24a1",
   "metadata": {},
   "outputs": [],
   "source": [
    "\n",
    "from neuralmonkey.analyses.state_space_good import trajgood_construct_df_from_raw, trajgood_plot_colorby_splotby_timeseries\n",
    "\n",
    "var_color = \"shape_semantic\"\n",
    "var_subplots = [\"task_kind\", \"stroke_index\"]\n",
    "\n",
    "df = trajgood_construct_df_from_raw(PAfinal.X, PAfinal.Times, PAfinal.Xlabels[\"trials\"], [var_color] + var_subplots)\n"
   ]
  },
  {
   "cell_type": "code",
   "execution_count": null,
   "id": "d3f3676c",
   "metadata": {},
   "outputs": [],
   "source": [
    "\n",
    "trajgood_plot_colorby_splotby_timeseries(df, var_color, vars_subplots, plot_trials_n=4,\n",
    "                                         plot_trials=False,\n",
    "                                         SUBPLOT_OPTION=\"combine_levs\");\n",
    "# trajgood_plot_colorby_splotby_timeseries(df, var_color, vars_subplots, plot_trials_n=4,\n",
    "#                                          SUBPLOT_OPTION=\"split_levs\");"
   ]
  },
  {
   "cell_type": "markdown",
   "id": "df71db4b",
   "metadata": {},
   "source": [
    "##### [Analysis] Euclidian distance, comparing across time bins and events [NOT YET MOVED TO SCRIPT]"
   ]
  },
  {
   "cell_type": "markdown",
   "id": "ed95711d",
   "metadata": {},
   "source": [
    "# ANALYSIS - compare representations across-time (generalization)"
   ]
  },
  {
   "cell_type": "markdown",
   "id": "e120e35f",
   "metadata": {},
   "source": [
    "### ANALYSIS - compare RSA sim mats across time and event (Already moved to script, *timedistmat*)\n",
    "\n"
   ]
  },
  {
   "cell_type": "code",
   "execution_count": null,
   "id": "afd1dcfd",
   "metadata": {},
   "outputs": [],
   "source": [
    "from neuralmonkey.analyses.state_space_good import euclidian_distance_compute_trajectories_timedistmat"
   ]
  },
  {
   "cell_type": "code",
   "execution_count": null,
   "id": "bba8b5ed",
   "metadata": {},
   "outputs": [],
   "source": [
    "SAVEDIR_ANALYSIS = \"/tmp/RSA_over_time-Diego_230618\""
   ]
  },
  {
   "cell_type": "code",
   "execution_count": null,
   "id": "5f8fdee6",
   "metadata": {},
   "outputs": [],
   "source": [
    "# var_effect = \"shape\"\n",
    "# vars_others = [\"gridloc\"]\n",
    "\n",
    "if False:\n",
    "    # - Strokes\n",
    "    twind = (-0.25, 0.35)\n",
    "    tbin_dur = 0.1\n",
    "    tbin_slice = 0.05\n",
    "    LIST_VAR_VAR_OTHERS = [\n",
    "        [\"shape\", [\"gridloc\"]],\n",
    "    ]\n",
    "    event_keep =\"00_stroke\"\n",
    "else:\n",
    "    # - Trials\n",
    "    # twind = (0.1, 0.5)\n",
    "    twind = (-0.5, 0.5)\n",
    "    tbin_dur = 0.2\n",
    "    tbin_slice = 0.05\n",
    "    LIST_VAR_VAR_OTHERS = [\n",
    "        [\"seqc_0_shape\", [\"seqc_0_loc\"]],\n",
    "    ]\n",
    "    event_keep =\"03_samp\"\n",
    "\n",
    "\n",
    "\n",
    "NPCS_KEEP = 5\n",
    "PLOT_TRAJS = False\n",
    "\n",
    "version_distance = \"euclidian_unbiased\"\n",
    "dat_level = \"distr\"\n",
    "PLOT_HEATMAPS = False\n",
    "\n",
    "# version_distance = \"euclidian\"\n",
    "# dat_level = \"pts\"\n",
    "# PLOT_HEATMAPS = False\n",
    "# PLOT_MASKS = False\n",
    "\n",
    "LIST_RES = []\n",
    "\n",
    "\n",
    "var = \"seqc_0_shape\"\n",
    "var_others = [\"seqc_0_loc\"]\n",
    "\n",
    "list_dfres = []\n",
    "for _, row in DFallpa.iterrows():\n",
    "\n",
    "    ##############################\n",
    "    # Pull ou# t a specific area\n",
    "    PA = row[\"pa\"].copy()\n",
    "    bregion = row[\"bregion\"]\n",
    "    tw = row[\"twind\"]\n",
    "    event = row[\"event\"]\n",
    "\n",
    "    print(bregion)\n",
    "\n",
    "\n",
    "    savedir = f\"{SAVEDIR_ANALYSIS}/PCA_time/{bregion}-ev={event}\"\n",
    "    os.makedirs(savedir, exist_ok=True)\n",
    "\n",
    "    dfres = euclidian_distance_compute_trajectories_timedistmat(PA, var, var_others, \n",
    "                                        twind, tbin_dur, tbin_slice, savedir, \n",
    "                                        context=None, filtdict=None,\n",
    "                                        PLOT_TRAJS=PLOT_TRAJS, nmin_trials_per_lev=None,\n",
    "                                        NPCS_KEEP=NPCS_KEEP,\n",
    "                                        dim_red_method = \"pca\", superv_dpca_params=None)\n",
    "\n",
    "    dfres[\"bregion\"] = bregion\n",
    "    dfres[\"twind\"] = [tw for _ in range(len(dfres))]\n",
    "    dfres[\"event\"] = event\n",
    "\n",
    "    list_dfres.append(dfres)\n",
    "DFRES = pd.concat(list_dfres)\n"
   ]
  },
  {
   "cell_type": "code",
   "execution_count": null,
   "id": "2edd8d7d",
   "metadata": {},
   "outputs": [],
   "source": [
    "DFRES = pd.concat(list_dfres)"
   ]
  },
  {
   "cell_type": "markdown",
   "id": "64da8df3",
   "metadata": {},
   "source": [
    "##### Plot all the distance matrices over time."
   ]
  },
  {
   "cell_type": "code",
   "execution_count": null,
   "id": "0f07e15a",
   "metadata": {},
   "outputs": [],
   "source": [
    "from neuralmonkey.analyses.state_space_good import euclidian_distance_plot_timedistmat_heatmaps\n",
    "euclidian_distance_plot_timedistmat_heatmaps(DFRES, \"/tmp/TEST\", sort_order=(0, 1))"
   ]
  },
  {
   "cell_type": "markdown",
   "id": "0fcb741a",
   "metadata": {},
   "source": [
    "##### Iter over all pairs of Cldist and get correlation score"
   ]
  },
  {
   "cell_type": "code",
   "execution_count": null,
   "id": "e5a4b670",
   "metadata": {},
   "outputs": [],
   "source": [
    "from neuralmonkey.analyses.state_space_good import euclidian_distance_plot_timedistmat_score_similarity\n",
    "SAVEDIR_PLOTS=\"/tmp/thisplots\"\n",
    "os.makedirs(SAVEDIR_PLOTS, exist_ok=True)\n",
    "vars_others = [\"seqc_0_loc\"]\n",
    "dfres_corrs_btw_distmats = euclidian_distance_plot_timedistmat_score_similarity(DFRES, vars_others,\n",
    "                                                                                DO_PLOTS=True, \n",
    "                                                                                SAVEDIR_PLOTS=SAVEDIR_PLOTS)\n",
    "dfres_corrs_btw_distmats"
   ]
  },
  {
   "cell_type": "markdown",
   "id": "48e1a92f0c90866c",
   "metadata": {
    "collapsed": false
   },
   "source": [
    "# [SYNTAX] COMPARING ENDPOINT REPRESENTATIONS"
   ]
  },
  {
   "cell_type": "markdown",
   "id": "ed35a198e2113bce",
   "metadata": {
    "collapsed": false
   },
   "source": [
    "##### Get dim reduced data, just for testing plots"
   ]
  },
  {
   "cell_type": "code",
   "execution_count": null,
   "id": "72db40354a8b986c",
   "metadata": {
    "collapsed": false
   },
   "outputs": [],
   "source": [
    "from neuralmonkey.analyses.state_space_good import euclidian_distance_compute_AnBmCk_endpoint\n",
    "euclidian_distance_compute_AnBmCk_endpoint(PAredu, \"/tmp\")"
   ]
  },
  {
   "cell_type": "markdown",
   "id": "49e0a443e57ab585",
   "metadata": {
    "collapsed": false
   },
   "source": [
    "##### Quantifying, euclidian distnace"
   ]
  },
  {
   "cell_type": "code",
   "execution_count": null,
   "id": "93722fac2107511f",
   "metadata": {
    "collapsed": false
   },
   "outputs": [],
   "source": [
    "DFallpa"
   ]
  },
  {
   "cell_type": "code",
   "execution_count": null,
   "id": "cba441100ff0d412",
   "metadata": {
    "collapsed": false
   },
   "outputs": [],
   "source": [
    "idx = 14\n",
    "PA = DFallpa[\"pa\"].values[idx].copy()\n",
    "bregion = DFallpa[\"bregion\"].values[idx]\n",
    "\n",
    "\n",
    "SAVEDIR = f\"/tmp/ENDDPOINTS-DO_DEMIXED={DO_DEMIXED}/{bregion}\"\n",
    "import os\n",
    "os.makedirs(SAVEDIR, exist_ok=True)\n",
    "\n",
    "twind = (-0.1, 0.2)\n",
    "tbin_dur = 0.1\n",
    "tbin_slice = 0.1\n",
    "if DO_DEMIXED:\n",
    "    vars_subract_mean = [\"epoch\", \"chunk_rank\", \"shape\", \"syntax_concrete\", \"gridloc\"]\n",
    "    var_pca = \"chunk_within_rank_semantic_v2\"\n",
    "    filtdict = None\n",
    "    \n",
    "    savedir = f\"{SAVEDIR}/test_gridloc\"\n",
    "    os.makedirs(savedir, exist_ok=True)\n",
    "    PLOT_STEPS = False\n",
    "    Xredu, PAredu, stats_redu, Xfinal_before_redu, pca = PA.dataextract_pca_demixed_subspace(var_pca, vars_subract_mean,\n",
    "                                               twind, tbin_dur, filtdict, savedir,\n",
    "                                                PLOT_STEPS=PLOT_STEPS)\n",
    "else:\n",
    "    # Just PCA\n",
    "    plot_pca_explained_var_path=f\"{SAVEDIR}/pcaexp.pdf\"\n",
    "    plot_loadings_path = f\"{SAVEDIR}/pcaload.pdf\"\n",
    "    \n",
    "    \n",
    "    pca_reduce = True\n",
    "    NPCS_KEEP = 10\n",
    "    extra_dimred_method = None\n",
    "    umap_n_neighbors = 40\n",
    "    Xredu, PAredu, PAslice, pca, _ = PA.dataextract_state_space_decode_flex(twind, tbin_dur, tbin_slice, reshape_method=\"trials_x_chanstimes\",\n",
    "                                               pca_reduce=pca_reduce, plot_pca_explained_var_path=plot_pca_explained_var_path, plot_loadings_path=plot_loadings_path, npcs_keep_force=NPCS_KEEP,\n",
    "                                              extra_dimred_method=extra_dimred_method, umap_n_neighbors = umap_n_neighbors)    \n",
    "dflab = PAredu.Xlabels[\"trials\"]"
   ]
  },
  {
   "cell_type": "markdown",
   "id": "a697cfab9e622602",
   "metadata": {
    "collapsed": false
   },
   "source": [
    "### Compute euclidian distances in this space"
   ]
  },
  {
   "cell_type": "code",
   "execution_count": null,
   "id": "6ca66e2bc7300ae9",
   "metadata": {
    "collapsed": false
   },
   "outputs": [],
   "source": [
    "# H1: first and last anchored. in between interpolates.\n",
    "# H2: "
   ]
  },
  {
   "cell_type": "code",
   "execution_count": null,
   "id": "58325abf4c17ac88",
   "metadata": {
    "collapsed": false
   },
   "outputs": [],
   "source": [
    "PAredu.Xlabels[\"trials\"][\"chunk_within_rank_semantic_v2\"].value_counts()"
   ]
  },
  {
   "cell_type": "code",
   "execution_count": null,
   "id": "858768b296508eef",
   "metadata": {
    "collapsed": false
   },
   "outputs": [],
   "source": [
    "##### Quantify similarity between states (euclidian distance)\n",
    "var = \"chunk_within_rank_semantic_v2\"\n",
    "var_others = [\"chunk_rank\", \"shape\", \"chunk_n_in_chunk\"]\n",
    "context = {\"same\":[\"chunk_rank\", \"shape\"], \"diff\":[\"chunk_n_in_chunk\"]}\n",
    "from neuralmonkey.analyses.state_space_good import euclidian_distance_compute_scalar_single\n",
    "PLOT_RSA_HEATMAP = False\n",
    "PLOT_MASKS = False\n",
    "version_distance=\"euclidian_unbiased\"\n",
    "\n",
    "res = euclidian_distance_compute_scalar_single(PAredu, var, var_others, PLOT_RSA_HEATMAP, PLOT_MASKS,\n",
    "                                              version_distance=version_distance, context_input=context)\n",
    "DFRES = pd.DataFrame(res)\n"
   ]
  },
  {
   "cell_type": "code",
   "execution_count": null,
   "id": "5ccdec9a",
   "metadata": {},
   "outputs": [],
   "source": [
    "PA"
   ]
  },
  {
   "cell_type": "code",
   "execution_count": null,
   "id": "bafa0dcb062710ac",
   "metadata": {
    "collapsed": false
   },
   "outputs": [],
   "source": [
    "DFRES[\"index_var\"] = 0\n",
    "DFRES[\"bregion\"] = bregion"
   ]
  },
  {
   "cell_type": "code",
   "execution_count": null,
   "id": "899073d81460d975",
   "metadata": {
    "collapsed": false
   },
   "outputs": [],
   "source": [
    "# Summarize the contrasts that exist\n",
    "from pythonlib.tools.pandastools import grouping_print_n_samples\n",
    "grouping_print_n_samples(DFRES, [\"index_var\", \"var\", \"var_others\", \"dat_level\", \"effect_samediff\", \"context_samediff\"])"
   ]
  },
  {
   "cell_type": "code",
   "execution_count": null,
   "id": "a6101625af61af82",
   "metadata": {
    "collapsed": false
   },
   "outputs": [],
   "source": [
    "\n",
    "from neuralmonkey.scripts.analy_euclidian_dist_pop_script import plot_all_results, compute_normalized_distances, compute_all_derived_metrics\n",
    "\n",
    "DFRES, _ = compute_normalized_distances(DFRES)\n",
    "SAVEDIR = \"/tmp\"\n",
    "plot_all_results(DFRES, SAVEDIR)\n",
    "\n"
   ]
  },
  {
   "cell_type": "code",
   "execution_count": null,
   "id": "53e89fb0bd1ff992",
   "metadata": {
    "collapsed": false
   },
   "outputs": [],
   "source": []
  },
  {
   "cell_type": "code",
   "execution_count": null,
   "id": "5b5c04881f480904",
   "metadata": {
    "collapsed": false
   },
   "outputs": [],
   "source": [
    "from pythonlib.tools.pandastools import append_col_with_grp_index\n",
    "# DFRES = append_col_with_grp_index(DFRES, [\"index_var_str\", \"var\", \"var_others\"], \"var_var_others\")\n",
    "DFRES = append_col_with_grp_index(DFRES, [\"effect_samediff\", \"context_samediff\"], \"effect_context\")\n"
   ]
  },
  {
   "cell_type": "code",
   "execution_count": null,
   "id": "75be8729df45a6f1",
   "metadata": {
    "collapsed": false
   },
   "outputs": [],
   "source": [
    "DFRES"
   ]
  },
  {
   "cell_type": "code",
   "execution_count": null,
   "id": "2606b0a21569120a",
   "metadata": {
    "collapsed": false
   },
   "outputs": [],
   "source": [
    "import seaborn as sns\n",
    "sns.catplot(data=DFRES, x=\"effect_context\", y=\"dist\", hue=\"dat_level\")"
   ]
  },
  {
   "cell_type": "code",
   "execution_count": null,
   "id": "5b646183c356f130",
   "metadata": {
    "collapsed": false
   },
   "outputs": [],
   "source": [
    "import seaborn as sns\n",
    "sns.catplot(data=DFRES, x=\"bregion\", y=\"dist\", hue=\"effect_context\", kind=\"bar\", row=\"dat_level\")\n"
   ]
  },
  {
   "cell_type": "markdown",
   "id": "8a180b32e6912863",
   "metadata": {
    "collapsed": false
   },
   "source": [
    "### 3D plots"
   ]
  },
  {
   "cell_type": "code",
   "execution_count": null,
   "id": "a7826e67d3d66387",
   "metadata": {
    "collapsed": false
   },
   "outputs": [],
   "source": [
    "from neuralmonkey.analyses.state_space_good import trajgood_plot_colorby_splotby_WRAPPER, trajgood_plot_colorby_splotby_scalar_WRAPPER\n",
    "\n",
    "# trajgood_plot_colorby_splotby_WRAPPER(Xredu)\n",
    "dflab = PAfinal.Xlabels[\"trials\"]\n",
    "var_color = \"chunk_within_rank_semantic\"\n",
    "savedir = \"/tmp\"\n",
    "vars_subplot = [\"chunk_rank\"]\n",
    "plot_3D = True\n",
    "overlay_mean = False\n",
    "overlay_mean_var_color=\"shape\"\n",
    "connect_means_with_line=False\n",
    "connect_means_with_line_levels=sorted(dflab[var_color].unique())\n",
    "list_dims = [(0,1), (1,2)]\n",
    "alpha=0.35\n",
    "trajgood_plot_colorby_splotby_scalar_WRAPPER(Xredu, dflab, var_color, savedir, vars_subplot, plot_3D=plot_3D,\n",
    "                                             list_dims=list_dims, alpha=alpha,\n",
    "                                     overlay_mean=overlay_mean, overlay_mean_var_color=overlay_mean_var_color,\n",
    "                                             connect_means_with_line=connect_means_with_line, connect_means_with_line_levels=connect_means_with_line_levels)"
   ]
  },
  {
   "cell_type": "markdown",
   "id": "f589dff6b4b2fa9b",
   "metadata": {
    "collapsed": false
   },
   "source": [
    "### METHOD -- Subspace ID"
   ]
  },
  {
   "cell_type": "code",
   "execution_count": null,
   "id": "424793e2b70901b4",
   "metadata": {
    "collapsed": false
   },
   "outputs": [],
   "source": [
    "DFallpa\n",
    "# PARAMS\n",
    "\n",
    "PA = DFallpa[\"pa\"].values[14].copy()\n",
    "\n",
    "vars_subract_mean = [\"epoch\", \"chunk_rank\", \"syntax_concrete\", \"shape\"]\n",
    "var_pca = \"chunk_within_rank_semantic_v2\"\n",
    "filtdict = None\n",
    "\n",
    "# var_pca = \"shape\"\n",
    "# # vars_subract_mean = [\"epoch\", \"stroke_index_is_first\", \"gridloc\", \"stroke_index\"]\n",
    "# vars_subract_mean = [\"task_kind\", \"gridloc\", \"stroke_index\"]\n",
    "# # filtdict= None\n",
    "# filtdict = {\"task_kind\":[\"prims_single\"], \"gridloc\":[(-1,0)]}\n",
    "\n",
    "# var_pca = \"gridloc\"\n",
    "# # vars_subract_mean = [\"epoch\", \"stroke_index_is_first\", \"gridloc\", \"stroke_index\"]\n",
    "# vars_subract_mean = [\"task_kind\", \"shape\", \"stroke_index\"]\n",
    "# filtdict= None\n",
    "# # filtdict = {\"task_kind\":[\"prims_single\"], \"gridloc\":[(-1,0)]}\n",
    "# \n",
    "# var_pca = \"gridloc\"\n",
    "# # vars_subract_mean = [\"epoch\", \"stroke_index_is_first\", \"gridloc\", \"stroke_index\"]\n",
    "# vars_subract_mean = [\"epoch\"]\n",
    "# filtdict= None\n",
    "# # filtdict = {\"task_kind\":[\"prims_single\"], \"gridloc\":[(-1,0)]}\n",
    "\n",
    "# var_pca = \"stroke_index\"\n",
    "# vars_subract_mean = [\"task_kind\", \"gridloc\", \"shape\"]\n",
    "# filtdict= None\n",
    "\n",
    "\n",
    "twind = (-0.1, 0.2)\n",
    "tbin_dur = 0.1\n",
    "savedir = \"/tmp/test_gridloc\"\n",
    "os.makedirs(savedir, exist_ok=True)\n",
    "PLOT_STEPS = False\n",
    "Xredu, PAredu, stats_redu, Xfinal_before_redu, pca = PA.dataextract_pca_demixed_subspace(var_pca, vars_subract_mean,\n",
    "                                           twind, tbin_dur, filtdict, savedir,\n",
    "                                            PLOT_STEPS=PLOT_STEPS)\n"
   ]
  },
  {
   "cell_type": "code",
   "execution_count": null,
   "id": "e11a46c123dccbc",
   "metadata": {
    "collapsed": false
   },
   "outputs": [],
   "source": [
    "from neuralmonkey.analyses.state_space_good import trajgood_plot_colorby_splotby_scalar_WRAPPER"
   ]
  },
  {
   "cell_type": "code",
   "execution_count": null,
   "id": "5ba258b44471dbf6",
   "metadata": {
    "collapsed": false
   },
   "outputs": [],
   "source": [
    "# Plot raw data in PCs\n",
    "list_dims = [(0,1), (2,3)]\n",
    "savedirthis = f\"{savedir}\"\n",
    "\n",
    "save_suffix = \"RAW_PROJ\"\n",
    "\n",
    "dflab = PAfinal.Xlabels[\"trials\"]\n",
    "assert len(dflab)==Xredu.shape[0]\n",
    "trajgood_plot_colorby_splotby_scalar_WRAPPER(Xredu, dflab, var_pca, savedirthis,\n",
    "                                             vars_subplot=None, list_dims=list_dims,\n",
    "                                             skip_subplots_lack_mult_colors=False,\n",
    "                                             save_suffix=save_suffix)"
   ]
  },
  {
   "cell_type": "code",
   "execution_count": null,
   "id": "912249dd6b1d2300",
   "metadata": {
    "collapsed": false
   },
   "outputs": [],
   "source": [
    "\n",
    "vars_subplot = [\"epoch\", \"chunk_rank\", \"shape\"]\n",
    "save_suffix = \"A\"\n",
    "trajgood_plot_colorby_splotby_scalar_WRAPPER(Xredu, dflab, var_pca, savedirthis,\n",
    "                                             vars_subplot=vars_subplot, list_dims=list_dims,\n",
    "                                             skip_subplots_lack_mult_colors=False,\n",
    "                                             save_suffix=save_suffix)\n",
    "\n",
    "vars_subplot = [\"epoch\", \"chunk_within_rank_semantic\"]\n",
    "save_suffix = \"B\"\n",
    "trajgood_plot_colorby_splotby_scalar_WRAPPER(Xredu, dflab, \"shape\", savedirthis,\n",
    "                                             vars_subplot=vars_subplot, list_dims=list_dims,\n",
    "                                             skip_subplots_lack_mult_colors=False,\n",
    "                                             save_suffix=save_suffix)\n",
    "\n",
    "save_suffix = \"C\"\n",
    "trajgood_plot_colorby_splotby_scalar_WRAPPER(Xredu, dflab, \"shape\", savedirthis,\n",
    "                                             vars_subplot=None, list_dims=list_dims,\n",
    "                                             skip_subplots_lack_mult_colors=False,\n",
    "                                             save_suffix=save_suffix)\n",
    "\n",
    "vars_subplot = [\"epoch\", \"chunk_rank\", \"shape\"]\n",
    "save_suffix = \"D\"\n",
    "trajgood_plot_colorby_splotby_scalar_WRAPPER(Xredu, dflab, \"chunk_within_rank_semantic\", savedirthis,\n",
    "                                             vars_subplot=vars_subplot, list_dims=list_dims,\n",
    "                                             skip_subplots_lack_mult_colors=False,\n",
    "                                             save_suffix=save_suffix)\n",
    "\n",
    "vars_subplot = [\"epoch\", \"chunk_rank\", \"shape\", \"syntax_concrete\"]\n",
    "save_suffix = \"D\"\n",
    "trajgood_plot_colorby_splotby_scalar_WRAPPER(Xredu, dflab, \"chunk_within_rank_semantic\", savedirthis,\n",
    "                                             vars_subplot=vars_subplot, list_dims=list_dims,\n",
    "                                             skip_subplots_lack_mult_colors=False,\n",
    "                                             save_suffix=save_suffix)\n",
    "\n",
    "\n",
    "save_suffix = \"flipped\"\n",
    "trajgood_plot_colorby_splotby_scalar_WRAPPER(Xredu, dflab, \"chunk_rank\", savedirthis,\n",
    "                                             vars_subplot=\"chunk_within_rank_semantic\", list_dims=list_dims,\n",
    "                                             skip_subplots_lack_mult_colors=False,\n",
    "                                             save_suffix=save_suffix)"
   ]
  },
  {
   "cell_type": "code",
   "execution_count": null,
   "id": "39468126062058e",
   "metadata": {
    "collapsed": false
   },
   "outputs": [],
   "source": [
    "\n",
    "save_suffix = \"conj\"\n",
    "trajgood_plot_colorby_splotby_scalar_WRAPPER(Xredu, dflab, var_pca, savedirthis,\n",
    "                                             vars_subplot=vars_subract_mean, list_dims=list_dims,\n",
    "                                             skip_subplots_lack_mult_colors=False,\n",
    "                                             save_suffix=save_suffix)\n",
    "\n",
    "\n"
   ]
  },
  {
   "cell_type": "code",
   "execution_count": null,
   "id": "49563f5c7bfbbd0e",
   "metadata": {
    "collapsed": false
   },
   "outputs": [],
   "source": [
    "\n",
    "for var_other in vars_subract_mean:\n",
    "    save_suffix = f\"conj_flipped_{var_other}\"\n",
    "    trajgood_plot_colorby_splotby_scalar_WRAPPER(Xredu, dflab, var_other, savedirthis,\n",
    "                                                 vars_subplot=[var_pca], list_dims=list_dims,\n",
    "                                                 skip_subplots_lack_mult_colors=False,\n",
    "                                                 save_suffix=save_suffix)\n",
    "\n",
    "\n"
   ]
  },
  {
   "cell_type": "markdown",
   "id": "2d29d505f77f9ed7",
   "metadata": {
    "collapsed": false
   },
   "source": [
    "### Make state space plots in this space"
   ]
  },
  {
   "cell_type": "code",
   "execution_count": null,
   "id": "52a077019be8cbfb",
   "metadata": {
    "collapsed": false
   },
   "outputs": [],
   "source": [
    "from neuralmonkey.analyses.state_space_good import euclidian_distance_compute_scalar\n",
    "\n",
    "LIST_VAR = [\n",
    "    \"shape\",\n",
    "]\n",
    "\n",
    "LIST_VARS_OTHERS = [\n",
    "    [\"task_kind\", \"gridloc\", \"stroke_index\"],\n",
    "]\n",
    "\n",
    "PLOT = False\n",
    "PLOT_MASKS = False\n",
    "\n",
    "twind = (0, 0.2)\n",
    "tbin_dur = 0.1\n",
    "tbin_slice = tbin_dur\n",
    "\n",
    "savedir = \"/tmp/testtest\"\n",
    "\n",
    "\n",
    "PLOT_STATE_SPACE = True\n",
    "\n",
    "superv_dpca_params = {\n",
    "    \"superv_dpca_var\":\"shape\",\n",
    "    \"superv_dpca_vars_group\":[\"task_kind\", \"gridloc\", \"stroke_index\"],\n",
    "    # \"superv_dpca_filtdict\":None\n",
    "    \"superv_dpca_filtdict\":{\"task_kind\":[\"prims_single\"], \"gridloc\":[(-1,0)]}\n",
    "\n",
    "}\n",
    "\n",
    "euclidian_distance_compute_scalar(PA, LIST_VAR, LIST_VARS_OTHERS, PLOT, PLOT_MASKS, twind, tbin_dur,\n",
    "                               tbin_slice, savedir, PLOT_STATE_SPACE=True, nmin_trials_per_lev=5,\n",
    "                               version_distance=\"euclidian_unbiased\", LIST_CONTEXT=None, LIST_FILTDICT=None,\n",
    "                               LIST_PRUNE_MIN_N_LEVS=None,\n",
    "                               dim_red_method = \"superv_dpca\", superv_dpca_params = superv_dpca_params)\n"
   ]
  },
  {
   "cell_type": "markdown",
   "id": "ba486dee1162d7c2",
   "metadata": {
    "collapsed": false
   },
   "source": [
    "# LOAD results and run summary plots"
   ]
  },
  {
   "cell_type": "code",
   "execution_count": null,
   "id": "30541fbffd425839",
   "metadata": {
    "collapsed": false
   },
   "outputs": [],
   "source": [
    "import pandas as pd\n",
    "\n",
    "# animal = \"Pancho\"\n",
    "# date = 220909\n",
    "# question = \"RULE_ANBMCK_STROKE\"\n",
    "# fr_normalization_method = \"across_time_bins\"\n",
    "\n",
    "animal = \"Diego\"\n",
    "date = 230817\n",
    "question = \"RULE_ANBMCK_STROKE\"\n",
    "fr_normalization_method = \"across_time_bins\"\n",
    "\n",
    "# SAVEDIR = \"/lemur2/lucas/analyses/recordings/main/EUCLIDIAN_DIST/Diego-230817/RULE_ANBMCK_STROKE-fr_normalization_method=across_time_bins-NPCS_KEEP=10/twind_analy=(-0.1, 0.1)-tbin_dur=0.1\"\n",
    "\n",
    "# SAVEDIR = \"/lemur2/lucas/analyses/recordings/main/EUCLIDIAN_DIST/Diego-230911/RULESW_ANBMCK_COLRANK_STROKE-fr_normalization_method=across_time_bins-NPCS_KEEP=10/twind_analy=(-0.1, 0.1)-tbin_dur=0.1\"\n",
    "\n",
    "# SAVEDIR = \"/lemur2/lucas/analyses/recordings/main/EUCLIDIAN_DIST/Pancho-230320/RULE_ROWCOL_STROKE-fr_normalization_method=across_time_bins-NPCS_KEEP=10/twind_analy=(-0.1, 0.1)-tbin_dur=0.1\"\n",
    "\n",
    "# SAVEDIR = \"/lemur2/lucas/analyses/recordings/main/EUCLIDIAN_DIST/Diego-230925/RULESW_ANY_SEQSUP_STROKE-fr_normalization_method=across_time_bins-NPCS_KEEP=10/twind_analy=(-0.1, 0.1)-tbin_dur=0.1\"\n",
    "\n",
    "# SAVEDIR = \"/lemur2/lucas/analyses/recordings/main/EUCLIDIAN_DIST/Diego-230724/RULE_ANBMCK_STROKE-fr_normalization_method=across_time_bins-NPCS_KEEP=10/twind_analy=(-0.1, 0.1)-tbin_dur=0.1\"\n",
    "# \n",
    "# SAVEDIR = f\"/lemur2/lucas/analyses/recordings/main/EUCLIDIAN_DIST/{animal}-{date}/{question}-fr_normalization_method={fr_normalization_method}-NPCS_KEEP=10/twind_analy=(-0.1, 0.1)-tbin_dur=0.1\"\n",
    "# \n",
    "# SAVEDIR = \"/lemur2/lucas/analyses/recordings/main/EUCLIDIAN_DIST/Diego-231211/CHAR_BASE_stroke-norm=across_time_bins-dr=None-NPC=None-nc=None-un=None/twinda=(-0.1, 0.1)-tbin=0.1\"\n",
    "\n",
    "SAVEDIR = f\"/lemur2/lucas/analyses/recordings/main/EUCLIDIAN_DIST/{animal}-{date}/{question}-norm={fr_normalization_method}-dr=pca-NPC=10-nc=None-un=None-suff=None/twinda=(-0.1, 0.2)-tbin=0.1\"\n",
    "\n",
    "\n",
    "########## SPECIFIC ONE\n",
    "animal = \"Diego\"\n",
    "date = 231211\n",
    "question = \"CHAR_BASE_stroke\"\n",
    "SAVEDIR = f\"/lemur2/lucas/analyses/recordings/main/EUCLIDIAN_DIST/{animal}-{date}/traj_to_scalar-wl=stroke-ev=00_stroke-spks=kilosort_if_exists-combarea=True/{question}-norm=across_time_bins-dr=superv_dpca-NPC=3-nc=None-un=None-suff=shape_prims_single/twinda=(-0.1, 0.3)-tbin=0.1\"\n",
    "\n",
    "#########\n",
    "/lemur2/lucas/analyses/recordings/main/EUCLIDIAN_DIST/Diego-230615/traj_to_scalar-wl=trial-ev=03_samp-spks=kilosort_if_exists-combarea=True/SP_BASE_trial-norm=across_time_bins-dr=superv_dpca-NPC=3-nc=None-un=None-suff=seqc_0_shape/twinda=(0.1, 0.5)-tbin=0.1/DFRES.pkl\n",
    "\n",
    "\n",
    "path = f\"{SAVEDIR}/DFRES.pkl\"\n",
    "\n",
    "DFRES = pd.read_pickle(path)"
   ]
  },
  {
   "cell_type": "code",
   "execution_count": null,
   "id": "6c68b3ba3c8c8880",
   "metadata": {
    "collapsed": false
   },
   "outputs": [],
   "source": [
    "\n",
    "from neuralmonkey.scripts.analy_euclidian_dist_pop_script import plot_all_results, compute_normalized_distances, compute_all_derived_metrics\n",
    "\n",
    "from pythonlib.tools.pandastools import stringify_values"
   ]
  },
  {
   "cell_type": "code",
   "execution_count": null,
   "id": "dceacdb82b947879",
   "metadata": {
    "collapsed": false
   },
   "outputs": [],
   "source": [
    "\n",
    "DFRES, _ = compute_normalized_distances(DFRES)"
   ]
  },
  {
   "cell_type": "code",
   "execution_count": null,
   "id": "ac0cf09aa955004c",
   "metadata": {
    "collapsed": false
   },
   "outputs": [],
   "source": [
    "SAVEDIR = \"/tmp\"\n",
    "plot_all_results(DFRES, SAVEDIR)\n"
   ]
  },
  {
   "cell_type": "code",
   "execution_count": null,
   "id": "3bc23238fbfdd1a7",
   "metadata": {
    "collapsed": false
   },
   "outputs": [],
   "source": [
    "from pythonlib.tools.plottools import savefig\n",
    "from pythonlib.tools.pandastools import plot_subplots_heatmap"
   ]
  },
  {
   "cell_type": "code",
   "execution_count": null,
   "id": "5827060499425b50",
   "metadata": {
    "collapsed": false
   },
   "outputs": [],
   "source": [
    "\n",
    "DFRES, DFRES_PIVOT_DISTR, DFRES_PIVOT_PAIRWISE, DFRES_PIVOT_YUE, plot_params = compute_all_derived_metrics(DFRES)\n"
   ]
  },
  {
   "cell_type": "code",
   "execution_count": null,
   "id": "83725753061acee3",
   "metadata": {
    "collapsed": false
   },
   "outputs": [],
   "source": [
    "savedir = \"/tmp\"\n",
    "import seaborn as sns"
   ]
  },
  {
   "cell_type": "code",
   "execution_count": null,
   "id": "7d3310bcb022cedd",
   "metadata": {
    "collapsed": false
   },
   "outputs": [],
   "source": [
    "DFRES = stringify_values(DFRES)\n",
    "\n",
    "for dat_level in DFRES[\"dat_level\"].unique():\n",
    "    DFTHIS = DFRES[DFRES[\"dat_level\"] == dat_level].reset_index(drop=True)\n",
    "\n",
    "    # Plot histograms\n",
    "    savedirthis = f\"{savedir}/histograms-dat_level={dat_level}\"\n",
    "    os.makedirs(savedirthis, exist_ok=True)\n",
    "    print(\"... \", savedirthis)\n",
    "\n",
    "    print(\"Plotting specific conjucntions heatmaps ... \")\n",
    "    yvar = \"dist\"\n",
    "    list_effect_context = DFTHIS[\"effect_context\"].unique()\n",
    "    list_shuffled = DFTHIS[\"shuffled\"].unique()\n",
    "    for effect_context in list_effect_context:\n",
    "        for shuffled in list_shuffled:\n",
    "\n",
    "            dfthis = DFTHIS[(DFTHIS[\"effect_context\"]==effect_context) & (DFTHIS[\"shuffled\"]==shuffled)].reset_index(drop=True)\n",
    "            if len(dfthis)>0:\n",
    "                savedirthis = f\"{savedir}/each_conjunction-effect_context={effect_context}-shuffled={shuffled}-dat_level={dat_level}\"\n",
    "                os.makedirs(savedirthis, exist_ok=True)\n",
    "                print(\"... \", savedirthis)\n",
    "\n",
    "                try:\n",
    "                    fig, axes = plot_subplots_heatmap(dfthis, \"bregion\", \"levo\", yvar, \"var_var_others\",\n",
    "                                                      diverge=True, ncols=None, share_zlim=True)\n",
    "                    # savefig(fig, f\"{savedirthis}/allconj_heatmap.pdf\")\n",
    "                    # plt.close(\"all\")\n",
    "                except Exception as err:\n",
    "                    print(dfthis[\"levo\"])\n",
    "                    print(dfthis[\"var_var_others\"])\n",
    "                    raise err\n"
   ]
  },
  {
   "cell_type": "code",
   "execution_count": null,
   "id": "4ca76ba46ccdd329",
   "metadata": {
    "collapsed": false
   },
   "outputs": [],
   "source": [
    "# Plot marginal distributions too.\n",
    "\n",
    "# fig: variable; subplot: bregion\n"
   ]
  },
  {
   "cell_type": "code",
   "execution_count": null,
   "id": "84cb26ac54b0e5a4",
   "metadata": {
    "collapsed": false
   },
   "outputs": [],
   "source": [
    "##### Summary plots across mu\n",
    "\n",
    "# 1) scatter plot like above.\n",
    "# 2) histograms (data level and day level).\n",
    "# 3) "
   ]
  },
  {
   "cell_type": "markdown",
   "id": "3852e0d3",
   "metadata": {},
   "source": [
    "### Plot specific lev, levo"
   ]
  },
  {
   "cell_type": "code",
   "execution_count": null,
   "id": "035b7cc7",
   "metadata": {},
   "outputs": [],
   "source": [
    "# Made for SCGB, projecting activity for shapes during character onto \"single prims\" subspace.\n",
    "# Here want to show that preSMA really collapses representation.\n",
    "# HACKY - hard coded with specific levo ..."
   ]
  },
  {
   "cell_type": "code",
   "execution_count": null,
   "id": "f6cdb8c7",
   "metadata": {},
   "outputs": [],
   "source": [
    "SAVEDIR = f\"/lemur2/lucas/analyses/recordings/main/EUCLIDIAN_DIST/{animal}-{date}/traj_to_scalar-wl=stroke-ev=00_stroke-spks=kilosort_if_exists-combarea=True/{question}-norm=across_time_bins-dr=superv_dpca-NPC=3-nc=None-un=None-suff=shape_prims_single/twinda=(-0.1, 0.3)-tbin=0.1/HACK_SPLIT_BY_LEVO\"\n",
    "print(SAVEDIRa)"
   ]
  },
  {
   "cell_type": "code",
   "execution_count": null,
   "id": "b3f28f0a",
   "metadata": {},
   "outputs": [],
   "source": [
    "DFRES"
   ]
  },
  {
   "cell_type": "code",
   "execution_count": null,
   "id": "1f24b742",
   "metadata": {},
   "outputs": [],
   "source": [
    "# Summarize the contrasts that exist\n",
    "from pythonlib.tools.pandastools import grouping_print_n_samples\n",
    "grouping_print_n_samples(DFRES, [\"index_var\", \"var_var_others\", \"leveff\", \"levo\", \"dat_level\", \"effect_context\"]);"
   ]
  },
  {
   "cell_type": "code",
   "execution_count": null,
   "id": "7478c621",
   "metadata": {},
   "outputs": [],
   "source": [
    "# Effect of shape\n",
    "var_var_others = \"01|shape_semantic|('task_kind', 'stroke_index')\"\n",
    "event = \"00_stroke\"\n",
    "dat_level = \"pts_yue_diff\"\n",
    "leveff = \"ALL\"\n",
    "if False:\n",
    "    # If you want to include diff|diff in the plot...\n",
    "    effect_context = [\"diff|diff\", \"diff|same\"]\n",
    "    levo = [('character', 0), ('prims_single', 0)]\n",
    "else:\n",
    "    # Include just diff|same\n",
    "    effect_context = [\"diff|same\"]\n",
    "    levo = [('character', 0), ('prims_single', 0)]\n",
    "\n",
    "\n",
    "dfthis_1 = DFRES[\n",
    "    (DFRES[\"var_var_others\"] == var_var_others) & (DFRES[\"leveff\"] == leveff) & (DFRES[\"dat_level\"] == dat_level) & (DFRES[\"effect_context\"].isin(effect_context)) &\n",
    "    (DFRES[\"shuffled_time\"] == False) & (DFRES[\"shuffled\"] == False) & (DFRES[\"event\"] == event)\n",
    "    ]\n",
    "\n",
    "# Summarize the contrasts that exist\n",
    "from pythonlib.tools.pandastools import grouping_print_n_samples\n",
    "grouping_print_n_samples(dfthis_1, [\"index_var\", \"var_var_others\", \"leveff\", \"levo\", \"dat_level\", \"effect_context\"]);\n",
    " \n"
   ]
  },
  {
   "cell_type": "code",
   "execution_count": null,
   "id": "21c3ef70",
   "metadata": {},
   "outputs": [],
   "source": [
    "# Effect of task_kind\n",
    "var_var_others = \"01|shape_semantic|('task_kind', 'stroke_index')\"\n",
    "levo=\"ALL\"\n",
    "dat_level = \"pts_yue_diff\"\n",
    "event = \"00_stroke\"\n",
    "effect_context = \"same|diff\"\n",
    "dfthis_2 = DFRES[\n",
    "    (DFRES[\"var_var_others\"] == var_var_others) & (DFRES[\"levo\"] == levo) & (DFRES[\"dat_level\"] == dat_level) & (DFRES[\"effect_context\"] == effect_context) & \n",
    "    (DFRES[\"shuffled_time\"] == False) & (DFRES[\"shuffled\"] == False) & (DFRES[\"event\"] == event)\n",
    "    ]\n",
    "\n",
    "# Summarize the contrasts that exist\n",
    "from pythonlib.tools.pandastools import grouping_print_n_samples\n",
    "grouping_print_n_samples(dfthis_2, [\"index_var\", \"var_var_others\", \"leveff\", \"levo\", \"dat_level\", \"effect_context\"]);\n",
    " "
   ]
  },
  {
   "cell_type": "code",
   "execution_count": null,
   "id": "47e66451",
   "metadata": {},
   "outputs": [],
   "source": [
    "DFTHIS = pd.concat([dfthis_1, dfthis_2]).reset_index(drop=True)"
   ]
  },
  {
   "cell_type": "code",
   "execution_count": null,
   "id": "a260464a",
   "metadata": {},
   "outputs": [],
   "source": [
    "import os\n",
    "savedir = f\"{SAVEDIR}/split_by_taskkind_strokeindex\"\n",
    "os.makedirs(savedir, exist_ok=True)"
   ]
  },
  {
   "cell_type": "code",
   "execution_count": null,
   "id": "574c9a85",
   "metadata": {},
   "outputs": [],
   "source": [
    "import seaborn as sns\n",
    "from pythonlib.tools.snstools import map_function_tofacet, rotateLabel\n",
    "from pythonlib.tools.plottools import savefig\n",
    "\n",
    "fig = sns.catplot(data=DFTHIS, x=\"levo\", y=\"dist_norm_95\", hue=\"effect_context\", alpha=0.5,\n",
    "    col=\"bregion\", col_wrap=6)\n",
    "rotateLabel(fig)\n",
    "map_function_tofacet(fig, lambda ax:ax.axhline(0, color=\"k\", alpha=0.5))\n",
    "savefig(fig, f\"{savedir}/splitby_levo-scatter.pdf\")\n",
    "\n",
    "\n",
    "fig = sns.catplot(data=DFTHIS, x=\"levo\", y=\"dist_norm_95\", hue=\"effect_context\", kind=\"bar\", col=\"bregion\", col_wrap=6)\n",
    "rotateLabel(fig)\n",
    "map_function_tofacet(fig, lambda ax:ax.axhline(0, color=\"k\", alpha=0.5))\n",
    "savefig(fig, f\"{savedir}/splitby_levo-bars.pdf\")\n",
    "\n"
   ]
  },
  {
   "cell_type": "code",
   "execution_count": null,
   "id": "daa4b6bd",
   "metadata": {},
   "outputs": [],
   "source": [
    "# Plot all in a single plot... (not that useful[, sinc eit doesnt split by levo])\n",
    "\n",
    "fig = sns.catplot(data=DFTHIS, x=\"bregion\", y=\"dist_norm_95\", hue=\"effect_context\", aspect=1.5, alpha=0.5)\n",
    "rotateLabel(fig)\n",
    "map_function_tofacet(fig, lambda ax:ax.axhline(0, color=\"k\", alpha=0.5))\n",
    "savefig(fig, f\"{savedir}/combine_levo-scatter.pdf\")\n",
    "\n",
    "fig = sns.catplot(data=DFTHIS, x=\"bregion\", y=\"dist_norm_95\", hue=\"effect_context\", aspect=1.5, alpha=0.5)\n",
    "rotateLabel(fig)\n",
    "map_function_tofacet(fig, lambda ax:ax.axhline(0, color=\"k\", alpha=0.5))\n",
    "savefig(fig, f\"{savedir}/combine_levo-bars.pdf\")\n",
    "\n"
   ]
  },
  {
   "cell_type": "code",
   "execution_count": null,
   "id": "39647356",
   "metadata": {},
   "outputs": [],
   "source": [
    "# Scatter\n",
    "from pythonlib.tools.pandastools import plot_45scatter_means_flexible_grouping\n",
    "\n",
    "for levo in [(\"character\", 0), (\"prims_single\", 0)]:\n",
    "    dfthis = DFTHIS[DFTHIS[\"levo\"].isin([levo, \"ALL\"])].reset_index(drop=True).reset_index(drop=True)\n",
    "\n",
    "\n",
    "    _, fig = plot_45scatter_means_flexible_grouping(dfthis, \"effect_context\", \"same|diff\", \"diff|same\", \"var_var_others\",\n",
    "                                        \"dist_norm_95\", \"bregion\");\n",
    "\n",
    "    path = f\"{savedir}/scatter45-levo={levo}.pdf\"\n",
    "    savefig(fig, path)\n"
   ]
  },
  {
   "cell_type": "code",
   "execution_count": null,
   "id": "90efaf43",
   "metadata": {},
   "outputs": [],
   "source": [
    "savedir"
   ]
  },
  {
   "cell_type": "markdown",
   "id": "1301037573ba3ba3",
   "metadata": {
    "collapsed": false
   },
   "source": [
    "# Load multiple day and make summary plots"
   ]
  },
  {
   "cell_type": "code",
   "execution_count": null,
   "id": "250665837f705aa6",
   "metadata": {
    "collapsed": false
   },
   "outputs": [],
   "source": [
    "import pandas as pd"
   ]
  },
  {
   "cell_type": "code",
   "execution_count": null,
   "id": "846d7d9d41c5958d",
   "metadata": {
    "collapsed": false
   },
   "outputs": [],
   "source": [
    "# SAve dir"
   ]
  },
  {
   "cell_type": "code",
   "execution_count": null,
   "id": "2d49e6bb398850b6",
   "metadata": {
    "collapsed": false
   },
   "outputs": [],
   "source": [
    "from neuralmonkey.scripts.analy_euclidian_dist_pop_script_MULT import load_preprocess_concat_mult_sessions, plot_all\n",
    "from neuralmonkey.scripts.analy_euclidian_dist_pop_script import plot_histograms_clean_wrapper"
   ]
  },
  {
   "cell_type": "code",
   "execution_count": null,
   "id": "b326d45ee0e883a9",
   "metadata": {
    "collapsed": false
   },
   "outputs": [],
   "source": [
    "dim_red_method = \"pca\"\n",
    "NPCS_KEEP = 10\n",
    "extra_dimred_method_n_components = None\n",
    "umap_n_neighbors = None\n",
    "savedir_suffix = None\n",
    "new_mult_savedir_suffix = \"PCA\"\n",
    "\n",
    "save_suffix = \"two_shape_sets\"\n",
    "skip_dates_dont_exist = True\n",
    "animal = \"Pancho\"\n"
   ]
  },
  {
   "cell_type": "code",
   "execution_count": null,
   "id": "5b04727822b72314",
   "metadata": {
    "collapsed": false
   },
   "outputs": [],
   "source": [
    "\n",
    "DFRES, DFRES_PIVOT_DISTR, DFRES_PIVOT_PAIRWISE, DFRES_PIVOT_YUE, SAVEDIR_ANALYSIS, params, plot_params =\\\n",
    "    load_preprocess_concat_mult_sessions(animal, save_suffix, new_varied_hyperparams=True,\n",
    "                                         dim_red_method=dim_red_method, NPCS_KEEP=NPCS_KEEP, extra_dimred_method_n_components=extra_dimred_method_n_components,\n",
    "                                         umap_n_neighbors=umap_n_neighbors, savedir_suffix=savedir_suffix,\n",
    "                                         skip_dates_dont_exist=skip_dates_dont_exist, new_mult_savedir_suffix=new_mult_savedir_suffix)\n"
   ]
  },
  {
   "cell_type": "code",
   "execution_count": null,
   "id": "b92d2bedbf230107",
   "metadata": {
    "collapsed": false
   },
   "outputs": [],
   "source": [
    "SAVEDIR_ANALYSIS = f\"{SAVEDIR_ANALYSIS}-suff={new_mult_savedir_suffix}\""
   ]
  },
  {
   "cell_type": "code",
   "execution_count": null,
   "id": "749ad87ad1dc2f5d",
   "metadata": {
    "collapsed": false
   },
   "outputs": [],
   "source": [
    "plot_all(DFRES, DFRES_PIVOT_DISTR, DFRES_PIVOT_PAIRWISE, DFRES_PIVOT_YUE, plot_params, SAVEDIR_ANALYSIS)"
   ]
  },
  {
   "cell_type": "markdown",
   "id": "a9ce19fe22439473",
   "metadata": {
    "collapsed": false
   },
   "source": [
    "##### Make plots, single day plots, histograms"
   ]
  },
  {
   "cell_type": "code",
   "execution_count": null,
   "id": "e3cf9e3987f7867",
   "metadata": {
    "collapsed": false
   },
   "outputs": [],
   "source": [
    "from pythonlib.tools.snstools import map_function_tofacet\n",
    "import seaborn as sns\n",
    "from pythonlib.tools.snstools import map_function_tofacet, rotateLabel\n",
    "from pythonlib.tools.plottools import savefig\n"
   ]
  },
  {
   "cell_type": "code",
   "execution_count": null,
   "id": "dcb1d30aefa70a5e",
   "metadata": {
    "collapsed": false
   },
   "outputs": [],
   "source": [
    "# -- PARAMS\n",
    "dat_level = \"distr\"\n",
    "effect_context = \"diff|same\"\n",
    "\n",
    "# bregions_plot = [\"M1_m\", \"PMv_m\", \"PMd_p\", \"dlPFC_a\", \"vlPFC_p\", ]\n",
    "# bregions_plot = [\"M1_m\", \"dlPFC_a\", \"preSMA_a\"]\n",
    "bregions_plot = [\"M1_m\", \"preSMA_a\"]\n",
    "\n",
    "# bregions_plot = [\"M1_m\", \"PMv_m\", \"PMd_p\", \"dlPFC_a\", \"vlPFC_p\", ]\n",
    "# bregions_plot = [\"M1_m\", \"dlPFC_a\", \"preSMA_a\"]\n",
    "bregions_plot = [\"M1_m\", \"preSMA_a\"]\n",
    "\n",
    "plot_histograms_clean_wrapper(DFRES, SAVEDIR_ANALYSIS, dat_level, effect_context,\n",
    "                                  bregions_plot)\n"
   ]
  },
  {
   "cell_type": "code",
   "execution_count": null,
   "id": "2df042a392a14cf9",
   "metadata": {
    "collapsed": false
   },
   "outputs": [],
   "source": []
  },
  {
   "cell_type": "markdown",
   "id": "8c4100fa939df86a",
   "metadata": {
    "collapsed": false
   },
   "source": [
    "##### Make plots"
   ]
  },
  {
   "cell_type": "code",
   "execution_count": null,
   "id": "75e9caee03dd2857",
   "metadata": {
    "collapsed": false
   },
   "outputs": [],
   "source": [
    "DFRES\n",
    "DFRES[\"levo\"].tolist()"
   ]
  },
  {
   "cell_type": "code",
   "execution_count": null,
   "id": "78beb1b977240f9c",
   "metadata": {
    "collapsed": false
   },
   "outputs": [],
   "source": [
    "plot_all(DFRES, DFRES_PIVOT_DISTR, DFRES_PIVOT_PAIRWISE, DFRES_PIVOT_YUE, plot_params, SAVEDIR_ANALYSIS)"
   ]
  },
  {
   "cell_type": "code",
   "execution_count": null,
   "id": "94d6f21968aca0fb",
   "metadata": {
    "collapsed": false
   },
   "outputs": [],
   "source": [
    "from neuralmonkey.scripts.analy_euclidian_dist_pop_script import plot_pairwise_btw_levels_for_seqsup\n",
    "plot_pairwise_btw_levels_for_seqsup(DFRES, \"/tmp\", one_subplot_per_bregion=True)"
   ]
  },
  {
   "cell_type": "code",
   "execution_count": null,
   "id": "e32c51075c0715f8",
   "metadata": {
    "collapsed": false
   },
   "outputs": [],
   "source": [
    "_var = \"var_others\"\n",
    "\n",
    "inds_keep = [i for i, var_others in enumerate(DFRES[_var]) if (var_others[0] in [\"epochset_shape\", \"epochset_dir\"]) and (\"superv_is_seq_sup\" in var_others)]\n"
   ]
  },
  {
   "cell_type": "code",
   "execution_count": null,
   "id": "6a2f9e794fcad635",
   "metadata": {
    "collapsed": false
   },
   "outputs": [],
   "source": [
    "DFRES.iloc[inds_keep][\"levo\"].unique()"
   ]
  },
  {
   "cell_type": "code",
   "execution_count": null,
   "id": "e04f10d9ca1f8769",
   "metadata": {
    "collapsed": false
   },
   "outputs": [],
   "source": [
    "list_levo_simp"
   ]
  },
  {
   "cell_type": "code",
   "execution_count": null,
   "id": "922911a32d7d36d3",
   "metadata": {
    "collapsed": false
   },
   "outputs": [],
   "source": [
    "s = \"sadfsad|0\"\n",
    "\n",
    "s[-2:] == \"|0\"\n",
    "s[-4] != \"|\" "
   ]
  },
  {
   "cell_type": "code",
   "execution_count": null,
   "id": "3becbd3543065b",
   "metadata": {
    "collapsed": false
   },
   "outputs": [],
   "source": [
    "asdfasdfa"
   ]
  },
  {
   "cell_type": "code",
   "execution_count": null,
   "id": "a835bb3ba6864ca",
   "metadata": {
    "collapsed": false
   },
   "outputs": [],
   "source": [
    "decompose_string(\"asdsad | asdsad\", \"|\")\n"
   ]
  },
  {
   "cell_type": "code",
   "execution_count": null,
   "id": "ca399e18db21364f",
   "metadata": {
    "collapsed": false
   },
   "outputs": [],
   "source": [
    "from pythonlib.tools.stringtools import decompose_string\n",
    "decompose_string(levo[1], \"|\")"
   ]
  },
  {
   "cell_type": "code",
   "execution_count": null,
   "id": "5a3b98704b66b63",
   "metadata": {
    "collapsed": false
   },
   "outputs": [],
   "source": [
    "levo[1]"
   ]
  },
  {
   "cell_type": "code",
   "execution_count": null,
   "id": "65b422340cb58a66",
   "metadata": {
    "collapsed": false
   },
   "outputs": [],
   "source": [
    "levo[1]"
   ]
  },
  {
   "cell_type": "markdown",
   "id": "ed701b063a1e34b4",
   "metadata": {
    "collapsed": false
   },
   "source": [
    "# OLDER STUFF"
   ]
  },
  {
   "cell_type": "code",
   "execution_count": null,
   "id": "f6a91597a99e6622",
   "metadata": {
    "collapsed": false
   },
   "outputs": [],
   "source": [
    "# Save all the params\n",
    "from pythonlib.tools.expttools import writeDictToTxtFlattened\n",
    "path = f\"{SAVEDIR_ANALYSIS}/params_var.txt\"\n",
    "writeDictToTxtFlattened({\n",
    "    \"LIST_VAR\":{i:x for i, x in enumerate(LIST_VAR)},\n",
    "    \"LIST_VARS_OTHERS\":{i:x for i, x in enumerate(LIST_VARS_OTHERS)},\n",
    "    \"LIST_CONTEXT\":{i:x for i, x in enumerate(LIST_CONTEXT)},\n",
    "    \"LIST_PRUNE_MIN_N_LEVS\":{i:x for i, x in enumerate(LIST_PRUNE_MIN_N_LEVS)},\n",
    "    \"LIST_FILTDICT\":{i:x for i, x in enumerate(LIST_FILTDICT)}}, path)\n"
   ]
  },
  {
   "cell_type": "code",
   "execution_count": null,
   "id": "7325da401a6ff371",
   "metadata": {
    "collapsed": false
   },
   "outputs": [],
   "source": [
    "DFRES"
   ]
  },
  {
   "cell_type": "code",
   "execution_count": null,
   "id": "209973f807f70637",
   "metadata": {
    "collapsed": false
   },
   "outputs": [],
   "source": [
    "# Compute normalized distnaces\n",
    "from pythonlib.tools.pandastools import append_col_with_grp_index\n",
    "DFRES[\"dist_norm_98\"] = DFRES[\"dist\"]/DFRES[\"DIST_NULL_98\"]\n",
    "DFRES[\"dist_norm_95\"] = DFRES[\"dist\"]/DFRES[\"DIST_NULL_95\"]\n",
    "DFRES[\"dist_norm_50\"] = DFRES[\"dist\"]/DFRES[\"DIST_NULL_50\"]\n",
    "DFRES[\"var_others\"] = [tuple(x) for x in DFRES[\"var_others\"]]\n",
    "DFRES = append_col_with_grp_index(DFRES, [\"index_var\", \"var\", \"var_others\"], \"var_var_others\")\n",
    "DFRES = append_col_with_grp_index(DFRES, [\"effect_samediff\", \"context_samediff\"], \"effect_context\")\n",
    "\n",
    "# Pivot\n",
    "from pythonlib.tools.pandastools import pivot_table\n",
    "DFRES_PIVOT = pivot_table(DFRES, [\"var\", \"var_others\", \"shuffled\", \"bregion\", \"twind\", \"event\", \"var_var_others\", \"dat_level\"], [\"effect_context\"], [\"dist_norm_95\"], flatten_col_names=True).reset_index(drop=True)\n",
    "\n",
    "# dfthis = pivot_table(DFRES, [\"var\", \"var_others\", \"shuffled\", \"bregion\", \"twind\", \"event\", \"var_var_others\"], [\"effect_samediff\", \"context_samediff\"], [\"dist_norm_95\"], flatten_col_names=True).reset_index(drop=True)\n",
    "\n",
    "DFRES_PIVOT[\"effect_index\"] = DFRES_PIVOT[\"dist_norm_95-diff|same\"] / (DFRES_PIVOT[\"dist_norm_95-diff|same\"] + DFRES_PIVOT[\"dist_norm_95-same|diff\"])\n",
    "# DFRES_PIVOT[\"effect_index\"] = DFRES_PIVOT[\"dist_norm_95-diff|same\"] / DFRES_PIVOT[\"dist_norm_95-same|diff\"]\n",
    "\n",
    "DFRES_PIVOT\n",
    "DFRES_PIVOT_PAIRWISE = DFRES_PIVOT[DFRES_PIVOT[\"dat_level\"] == \"pts\"].reset_index(drop=True)\n",
    "DFRES_PIVOT_PAIRWISE[\"dist_norm_95-same|same\"]\n",
    "DFRES_PIVOT_PAIRWISE[\"norm_dist_effect\"] = DFRES_PIVOT_PAIRWISE[\"dist_norm_95-diff|same\"]-DFRES_PIVOT_PAIRWISE[\"dist_norm_95-same|same\"]\n",
    "# This makes less sense --> diff|diff can be different for many reasons, emprticlaly doesnt match intuition that well\n",
    "# DFRES_PIVOT_PAIRWISE[\"norm_dist_context\"] = DFRES_PIVOT_PAIRWISE[\"dist_norm_95-same|diff\"] - DFRES_PIVOT_PAIRWISE[\"dist_norm_95-diff|diff\"]\n",
    "DFRES_PIVOT_PAIRWISE[\"norm_dist_context\"] = DFRES_PIVOT_PAIRWISE[\"dist_norm_95-same|diff\"] - DFRES_PIVOT_PAIRWISE[\"dist_norm_95-same|same\"]\n",
    "DFRES_PIVOT_PAIRWISE[\"norm_dist_both\"] = DFRES_PIVOT_PAIRWISE[\"norm_dist_effect\"] - DFRES_PIVOT_PAIRWISE[\"norm_dist_context\"]\n",
    "\n",
    "# DFRES_PIVOT_PAIRWISE[\"norm_dist_effect\"] = DFRES_PIVOT_PAIRWISE[\"dist_norm_95-diff|same\"]/DFRES_PIVOT_PAIRWISE[\"dist_norm_95-same|same\"] \n",
    "# DFRES_PIVOT_PAIRWISE[\"norm_dist_context\"] = DFRES_PIVOT_PAIRWISE[\"dist_norm_95-same|diff\"]/DFRES_PIVOT_PAIRWISE[\"dist_norm_95-diff|diff\"]\n",
    "# DFRES_PIVOT_PAIRWISE[\"norm_dist_both\"] = DFRES_PIVOT_PAIRWISE[\"norm_dist_effect\"]/DFRES_PIVOT_PAIRWISE[\"norm_dist_context\"]\n",
    "\n",
    "DFRES_PIVOT_PAIRWISE"
   ]
  },
  {
   "cell_type": "code",
   "execution_count": null,
   "id": "f925d44e21e1747b",
   "metadata": {
    "collapsed": false
   },
   "outputs": [],
   "source": [
    "\n",
    "# SAVE\n",
    "path = f\"{SAVEDIR}/DFRES.pkl\"\n",
    "pd.to_pickle(DFRES, path)\n",
    "print(\"Saved to: \", path)\n",
    "\n",
    "######################################### QUICK PLOT - SUMMARIES\n",
    "import seaborn as sns\n",
    "from pythonlib.tools.snstools import rotateLabel\n",
    "from pythonlib.tools.plottools import savefig\n",
    "from pythonlib.tools.pandastools import summarize_featurediff\n",
    "\n",
    "savedir = f\"{SAVEDIR}/FIGURES\"\n",
    "os.makedirs(savedir, exist_ok=True)\n",
    "DFTHIS = DFRES\n",
    "\n",
    "########## OVERVIEWS\n",
    "yvar = \"dist_norm_95\"\n",
    "for yvarthis in [yvar, \"dist\", \"DIST_NULL_95\"]:\n",
    "    for dat_level in DFTHIS[\"dat_level\"].unique():\n",
    "        dfthis = DFTHIS[DFTHIS[\"dat_level\"]==dat_level]\n",
    "        \n",
    "        fig = sns.catplot(data=dfthis, x=\"bregion\", y=yvarthis, col=\"var_var_others\", hue=\"effect_context\",\n",
    "                          col_wrap=3, aspect=1.5, alpha=0.4, height=6)\n",
    "        rotateLabel(fig)\n",
    "        savefig(fig, f\"{savedir}/overview_scatter-{yvarthis}-{dat_level}.pdf\")\n",
    "    \n",
    "        fig = sns.catplot(data=dfthis, x=\"bregion\", y=yvarthis, col=\"var_var_others\", hue=\"effect_context\",\n",
    "                          col_wrap=3, aspect=1.5, kind=\"bar\", height=6)\n",
    "        rotateLabel(fig)\n",
    "        savefig(fig, f\"{savedir}/overview_bar-{yvarthis}-{dat_level}.pdf\")\n",
    "    \n",
    "        plt.close(\"all\")\n",
    "        \n",
    "########## OVERVIEWS\n",
    "yvarthis = \"effect_index\"\n",
    "fig = sns.catplot(data=DFRES_PIVOT, x=\"bregion\", y=yvarthis, hue=\"var_var_others\",  aspect=1.5, col=\"dat_level\",\n",
    "                  height=6, kind=\"bar\")\n",
    "rotateLabel(fig)\n",
    "savefig(fig, f\"{savedir}/effect_index-bar.pdf\")\n",
    "########## OVERVIEWS\n",
    "for yvarthis in [\"norm_dist_effect\", \"norm_dist_context\", \"norm_dist_both\"]:\n",
    "    fig = sns.catplot(data=DFRES_PIVOT_PAIRWISE, x=\"bregion\", y=yvarthis, hue=\"var_var_others\",  aspect=1.5, height=6, kind=\"bar\")\n",
    "    rotateLabel(fig)\n",
    "    savefig(fig, f\"{savedir}/FINAL-{yvarthis}-bar.pdf\")\n",
    "    \n",
    "# Plot of histograms, one for each bregion\n",
    "sns.set_context(\"paper\", rc={\"axes.labelsize\":5})   \n",
    "sns.displot(data=DFRES, x=\"dist_norm_95\", hue=\"effect_context\", col=\"bregion\", row=\"var_var_others\", element=\"step\", fill=True, bins=20)\n",
    "sns.displot(data=DFRES, x=\"dist_norm_95\", hue=\"effect_context\", col=\"bregion\", row=\"var_var_others\", kind=\"kde\", fill=False)\n",
    "########### PLOT ALL specific conjunction levels in heatmaps\n",
    "from pythonlib.tools.pandastools import plot_subplots_heatmap\n",
    "print(\"Plotting specific conjucntions heatmaps ... \")\n",
    "yvar = \"dist\"\n",
    "list_effect_context = DFTHIS[\"effect_context\"].unique()\n",
    "list_shuffled = DFTHIS[\"shuffled\"].unique()\n",
    "for effect_context in list_effect_context:\n",
    "    for shuffled in list_shuffled:\n",
    "\n",
    "        dfthis = DFTHIS[(DFTHIS[\"effect_context\"]==effect_context) & (DFTHIS[\"shuffled\"]==shuffled)].reset_index(drop=True)\n",
    "        savedirthis = f\"{savedir}/each_conjunction-effect_context={effect_context}-shuffled={shuffled}\"\n",
    "        os.makedirs(savedirthis, exist_ok=True)\n",
    "        print(\"... \", savedirthis)\n",
    "\n",
    "        # # 1) Scatter\n",
    "        # list_vvo = dfthis[\"var_var_others\"].unique().tolist()\n",
    "        # for vvo in list_vvo:\n",
    "        #     dfthisthis = dfthis[dfthis[\"var_var_others\"]==vvo]\n",
    "        #     fig = sns.catplot(data=dfthisthis, x=yvar, y=\"levo\", col=\"bregion\", alpha=0.4)\n",
    "        #     savefig(fig, f\"{savedirthis}/allconj_scatter-vvo={vvo}.pdf\", height=6)\n",
    "        #     plt.close(\"all\")\n",
    "\n",
    "        # 2) Heatmap\n",
    "        fig, axes = plot_subplots_heatmap(dfthis, \"bregion\", \"levo\", yvar, \"var_var_others\",\n",
    "                                          diverge=True, ncols=None, share_zlim=True)\n",
    "        savefig(fig, f\"{savedirthis}/allconj_heatmap.pdf\")\n"
   ]
  },
  {
   "cell_type": "markdown",
   "id": "7648632878f56def",
   "metadata": {
    "collapsed": false
   },
   "source": [
    "### OLD PLOTS"
   ]
  },
  {
   "cell_type": "markdown",
   "id": "7d6f616905352ef3",
   "metadata": {
    "collapsed": false
   },
   "source": [
    "##### If using \"euclidian\", then need to subtract shuffled"
   ]
  },
  {
   "cell_type": "code",
   "execution_count": null,
   "id": "abae96a5bb6b240d",
   "metadata": {
    "collapsed": false
   },
   "outputs": [],
   "source": [
    "from pythonlib.tools.pandastools import summarize_featurediff\n",
    "\n",
    "dfsummary, dfsummaryflat, COLNAMES_NOABS, COLNAMES_ABS, COLNAMES_DIFF = summarize_featurediff(DFRES, \"shuffled\", [True, False], [\"dist_norm_95\"], [\"var_var_others\", \"var\", \"var_others\", \"levo\", \"bregion\", \"twind\", \"event\"], return_dfpivot=False)\n",
    "\n",
    "# summarize_featurediff(DFRES, \"bregion\", [\"M1_m\", \"M1_l\"], [\"DIST_NULL_95\"], [\"var\", \"var_others\"], return_dfpivot=True)\n",
    "\n",
    "\n",
    "# dfsummary, dfsummaryflat, COLNAMES_NOABS, COLNAMES_ABS, COLNAMES_DIFF = summarize_featurediff(DFRES, \"bregion\", [\"M1_m\", \"M1_l\"], [\"DIST_NULL_95\"], [\"var\", \"var_others\", \"levo\", \"twind\", \"event\"], return_dfpivot=False)\n",
    "\n",
    "\n",
    "# DFRES[DFRES[\"shuffled\"].isna()==True].index\n",
    "# DFRES.loc[DFRES[\"shuffled\"].isna(), [\"shuffled\"]] = False\n",
    "# # DFRES.loc[DFRES[DFRES[\"shuffled\"].isna()==True].index, [\"shuffled\"]]\n",
    "\n",
    "# QUICK PLOT - SUMMARIES\n",
    "import seaborn as sns\n",
    "from pythonlib.tools.snstools import rotateLabel\n",
    "from pythonlib.tools.plottools import savefig\n",
    "\n",
    "fig = sns.catplot(data=dfsummaryflat, x=\"bregion\", y=\"value\", col=\"var_var_others\", hue=\"variable\", col_wrap=3, aspect=1.5)\n",
    "rotateLabel(fig)\n",
    "savefig(fig, f\"{SAVEDIR_ANALYSIS}/overview_scatter.pdf\")\n",
    "\n",
    "# fig = sns.catplot(data=DFRES, x=\"bregion\", y=\"dist_norm_95\", col=\"var_var_others\", hue=\"shuffled\", col_wrap=3,  aspect=1.5, kind=\"bar\", ci=68)\n",
    "# rotateLabel(fig)\n",
    "# savefig(fig, f\"{SAVEDIR_ANALYSIS}/overview_bar.pdf\")\n",
    "\n",
    "\n",
    "# QUICK PLOT - SUMMARIES\n",
    "import seaborn as sns\n",
    "from pythonlib.tools.snstools import rotateLabel\n",
    "from pythonlib.tools.plottools import savefig\n",
    "\n",
    "fig = sns.catplot(data=DFRES, x=\"bregion\", y=\"dist_norm_95\", col=\"var_var_others\", hue=\"shuffled\", col_wrap=3, aspect=1.5)\n",
    "rotateLabel(fig)\n",
    "savefig(fig, f\"{SAVEDIR_ANALYSIS}/overview_scatter.pdf\")\n",
    "\n",
    "fig = sns.catplot(data=DFRES, x=\"bregion\", y=\"dist_norm_95\", col=\"var_var_others\", hue=\"shuffled\", col_wrap=3,  aspect=1.5, kind=\"bar\", ci=68)\n",
    "rotateLabel(fig)\n",
    "savefig(fig, f\"{SAVEDIR_ANALYSIS}/overview_bar.pdf\")\n"
   ]
  },
  {
   "cell_type": "markdown",
   "id": "e5f87011a532f85a",
   "metadata": {
    "collapsed": false
   },
   "source": [
    "##### If using euclidian_unbiased, then no need to use shuffled"
   ]
  },
  {
   "cell_type": "code",
   "execution_count": null,
   "id": "326d040c674460ca",
   "metadata": {
    "collapsed": false
   },
   "outputs": [],
   "source": [
    "# QUICK PLOT - SUMMARIES\n",
    "import seaborn as sns\n",
    "from pythonlib.tools.snstools import rotateLabel\n",
    "from pythonlib.tools.plottools import savefig\n"
   ]
  },
  {
   "cell_type": "code",
   "execution_count": null,
   "id": "8ff580c786611276",
   "metadata": {
    "collapsed": false
   },
   "outputs": [],
   "source": [
    "fig = sns.catplot(data=DFRES, x=\"bregion\", y=\"dist_norm_95\", col=\"var_var_others\", hue=\"effect_samediff\", col_wrap=3, aspect=1.5)\n",
    "rotateLabel(fig)\n",
    "savefig(fig, f\"{SAVEDIR_ANALYSIS}/overview_scatter.pdf\")\n",
    "\n",
    "fig = sns.catplot(data=DFRES, x=\"bregion\", y=\"dist_norm_95\", col=\"var_var_others\", hue=\"effect_samediff\", col_wrap=3, aspect=1.5, kind=\"bar\")\n",
    "rotateLabel(fig)\n",
    "savefig(fig, f\"{SAVEDIR_ANALYSIS}/overview_scatter.pdf\")\n",
    "\n",
    "\n",
    "fig = sns.catplot(data=dfpivot, x=\"bregion\", y=\"diff_minus_same\", col=\"var_var_others\", col_wrap=3, aspect=1.5)\n",
    "rotateLabel(fig)\n",
    "savefig(fig, f\"{SAVEDIR_ANALYSIS}/overview_scatter.pdf\")\n",
    "\n",
    "fig = sns.catplot(data=dfpivot, x=\"bregion\", y=\"diff_minus_same\", col=\"var_var_others\", col_wrap=3, aspect=1.5, kind=\"bar\")\n",
    "rotateLabel(fig)\n",
    "savefig(fig, f\"{SAVEDIR_ANALYSIS}/overview_scatter.pdf\")\n",
    "\n",
    "fig = sns.catplot(data=dfpivot, x=\"bregion\", y=\"diff_divide_same\", col=\"var_var_others\", col_wrap=3, aspect=1.5)\n",
    "rotateLabel(fig)\n",
    "savefig(fig, f\"{SAVEDIR_ANALYSIS}/overview_scatter.pdf\")\n",
    "\n",
    "fig = sns.catplot(data=dfpivot, x=\"bregion\", y=\"diff_divide_same\", col=\"var_var_others\", col_wrap=3, aspect=1.5, kind=\"bar\")\n",
    "rotateLabel(fig)\n",
    "savefig(fig, f\"{SAVEDIR_ANALYSIS}/overview_scatter.pdf\")\n",
    "\n"
   ]
  },
  {
   "cell_type": "code",
   "execution_count": null,
   "id": "85b862f4f00ef95d",
   "metadata": {
    "collapsed": false
   },
   "outputs": [],
   "source": [
    "### Inspect specific conjunctions --> evaluate method\n",
    "list_vvo = DFRES[\"var_var_others\"].unique().tolist()\n",
    "for vvo in list_vvo:\n",
    "    dfthis = DFRES[DFRES[\"var_var_others\"]==vvo]\n",
    "    # sns.catplot(data=dfthis, x=\"bregion\", y=\"dist_norm_95\", col=\"levo\", col_wrap=3)\n",
    "    fig = sns.catplot(data=dfthis, x=\"dist_norm_95\", y=\"levo\", col=\"bregion\")\n",
    "    savefig(fig, f\"{SAVEDIR_ANALYSIS}/allconj_scatter-vvo={vvo}.pdf\")\n",
    "    plt.close(\"all\")\n",
    "from pythonlib.tools.pandastools import plot_subplots_heatmap\n",
    "# fig, axes = plot_subplots_heatmap(DFRES, \"levo\", \"bregion\", \"dist_norm_95\", \"var_var_others\", diverge=True)\n",
    "fig, axes = plot_subplots_heatmap(DFRES, \"bregion\", \"levo\", \"dist_norm_95\", \"var_var_others\", diverge=True, ncols=None, share_zlim=True)\n",
    "savefig(fig, f\"{SAVEDIR_ANALYSIS}/allconj_heatmap.pdf\")"
   ]
  },
  {
   "cell_type": "markdown",
   "id": "b72cf35fe77951a6",
   "metadata": {
    "collapsed": false
   },
   "source": [
    "### Plot the raw data "
   ]
  },
  {
   "cell_type": "code",
   "execution_count": null,
   "id": "5a667af865d9f353",
   "metadata": {
    "collapsed": false
   },
   "outputs": [],
   "source": [
    "\"/tmp/tmp\""
   ]
  },
  {
   "cell_type": "code",
   "execution_count": null,
   "id": "16b1da94bf3562bc",
   "metadata": {
    "collapsed": false
   },
   "outputs": [],
   "source": [
    "PA = DFallpa[\"pa\"].values[2]"
   ]
  },
  {
   "cell_type": "code",
   "execution_count": null,
   "id": "84da6b76d2085c6b",
   "metadata": {
    "collapsed": false
   },
   "outputs": [],
   "source": []
  },
  {
   "cell_type": "code",
   "execution_count": null,
   "id": "5853ec29b1a5f170",
   "metadata": {
    "collapsed": false
   },
   "outputs": [],
   "source": [
    "list_Xpcakeep = []\n",
    "list_pa = []\n",
    "for method in [\"sklearn\", \"svd\"]:\n",
    "    Xpcakeep, pa = PA.dataextract_state_space_decode_flex(twind_overall=(-0.25, 0.25), tbin_dur=0.1, reshape_method = \"trials_x_chanstimes\", pca_reduce=True, plot_pca_explained_var_path=f\"/tmp/tmp_expvar-{method}.png\", plot_loadings_path=f\"/tmp/tmp_loadings-{method}.png\", pca_method=method)\n",
    "    \n",
    "    list_pa.append(pa)\n",
    "    list_Xpcakeep.append(Xpcakeep)"
   ]
  },
  {
   "cell_type": "code",
   "execution_count": null,
   "id": "2fff8013b8dafa97",
   "metadata": {
    "collapsed": false
   },
   "outputs": [],
   "source": [
    "np.all(list_pa[0].X == list_pa[1].X)"
   ]
  },
  {
   "cell_type": "code",
   "execution_count": null,
   "id": "f459a10e1cfb939b",
   "metadata": {
    "collapsed": false
   },
   "outputs": [],
   "source": [
    "import numpy as np\n",
    "np.all(list_Xpcakeep[0] - list_Xpcakeep[1]<0.001)"
   ]
  },
  {
   "cell_type": "code",
   "execution_count": null,
   "id": "f6768e43a39d4f6b",
   "metadata": {
    "collapsed": false
   },
   "outputs": [],
   "source": [
    "list_Xpcakeep[0]"
   ]
  },
  {
   "cell_type": "code",
   "execution_count": null,
   "id": "e7df9bab8a0877c0",
   "metadata": {
    "collapsed": false
   },
   "outputs": [],
   "source": [
    "list_Xpcakeep[1]"
   ]
  },
  {
   "cell_type": "code",
   "execution_count": null,
   "id": "eb1a669aa87c0d61",
   "metadata": {
    "collapsed": false
   },
   "outputs": [],
   "source": []
  },
  {
   "cell_type": "code",
   "execution_count": null,
   "id": "802b0c25d08cf31d",
   "metadata": {
    "collapsed": false
   },
   "outputs": [],
   "source": [
    "# State space, after PCA"
   ]
  },
  {
   "cell_type": "markdown",
   "id": "d34c95798f6263ed",
   "metadata": {
    "collapsed": false
   },
   "source": [
    "###### Devo - distance between contexts"
   ]
  },
  {
   "cell_type": "code",
   "execution_count": null,
   "id": "92ee6459bfc81851",
   "metadata": {
    "collapsed": false
   },
   "outputs": [],
   "source": [
    "from neuralmonkey.analyses.rsa import _rsagood_convert_PA_to_Cl\n",
    "PAscal = PA.agg_wrapper(\"times\")\n",
    "Clraw, Clsim = _rsagood_convert_PA_to_Cl(PAscal, [var]+var_others+[\"stroke_index\"], \"euclidian_unbiased\", DO_AGG_TRIALS=False)\n"
   ]
  },
  {
   "cell_type": "code",
   "execution_count": null,
   "id": "cfec8b1a05504c9a",
   "metadata": {
    "collapsed": false
   },
   "outputs": [],
   "source": [
    "Clsim.rsa_plot_heatmap()"
   ]
  },
  {
   "cell_type": "code",
   "execution_count": null,
   "id": "2e3b93d3567b7548",
   "metadata": {
    "collapsed": false
   },
   "outputs": [],
   "source": [
    "\n",
    "# Clsim.rsa_matindex_same_diff_mult_var_flex([var], var_others, PLOT=True, lenient_diff=True);\n",
    "Clsim.rsa_mask_context_helper(var, var_others+[\"stroke_index\"], \"diff_specific_lenient\", \n",
    "                              [\"stroke_index\"], var_others, True);"
   ]
  },
  {
   "cell_type": "code",
   "execution_count": null,
   "id": "ee83f7d9036d2c40",
   "metadata": {
    "collapsed": false
   },
   "outputs": [],
   "source": [
    "# Clsim.rsa_matindex_same_diff_mult_var_flex([var], var_others, PLOT=True, lenient_diff=True);\n",
    "Clsim.rsa_mask_context_helper(var, var_others+[\"stroke_index\"], \"diff_specific\", \n",
    "                              [\"stroke_index\"], var_others, True);"
   ]
  },
  {
   "cell_type": "code",
   "execution_count": null,
   "id": "e448de924d183646",
   "metadata": {
    "collapsed": false
   },
   "outputs": [],
   "source": [
    "PLOT_MASKS=True\n",
    "MASKS, fig, axes = Clsim.rsa_mask_context_helper(var, var_others, \"diff_at_least_one\", PLOT=PLOT_MASKS)\n",
    "\n",
    "# Get same effect diff context\n",
    "ma = MASKS[\"effect_same\"] & MASKS[\"context_diff\"]\n",
    "\n",
    "# any effect, diff context\n",
    "ma = MASKS[\"context_diff\"]\n"
   ]
  },
  {
   "cell_type": "markdown",
   "id": "138cd64501147873",
   "metadata": {
    "collapsed": false
   },
   "source": [
    "### Devo - null from shuffle"
   ]
  },
  {
   "cell_type": "code",
   "execution_count": null,
   "id": "50dfde146f698d8d",
   "metadata": {
    "collapsed": false
   },
   "outputs": [],
   "source": [
    "DFallpa"
   ]
  },
  {
   "cell_type": "code",
   "execution_count": null,
   "id": "294695ca19ee3295",
   "metadata": {
    "collapsed": false
   },
   "outputs": [],
   "source": [
    "PA = DFallpa[\"pa\"].values[10]"
   ]
  },
  {
   "cell_type": "code",
   "execution_count": null,
   "id": "51bfb74abcaacb1d",
   "metadata": {
    "collapsed": false
   },
   "outputs": [],
   "source": [
    "twind = (-0.2, 0.2)\n",
    "tbin_dur = 0.1\n",
    "tbin_slide = 0.1\n",
    "X, PApca, PAslice, pca = PA.dataextract_state_space_decode_flex(twind, tbin_dur, tbin_slice, reshape_method=\"trials_x_chanstimes\",\n",
    "                                       pca_reduce=True)\n"
   ]
  },
  {
   "cell_type": "code",
   "execution_count": null,
   "id": "c568b4e43f222b7e",
   "metadata": {
    "collapsed": false
   },
   "outputs": [],
   "source": [
    "print(X.shape, PApca.X.shape, PAslice.X.shape)"
   ]
  },
  {
   "cell_type": "code",
   "execution_count": null,
   "id": "5c28e7314cbcf750",
   "metadata": {
    "collapsed": false
   },
   "outputs": [],
   "source": [
    "var = \"shape\"\n",
    "var_others = [\"task_kind\", \"gridloc\"]\n"
   ]
  },
  {
   "cell_type": "code",
   "execution_count": null,
   "id": "1405c811194edf4c",
   "metadata": {
    "collapsed": false
   },
   "outputs": [],
   "source": [
    "# Create clusters\n",
    "from pythonlib.cluster.clustclass import Clusters\n",
    "\n",
    "label_vars = [var]+var_others\n",
    "dflab = pa.Xlabels[\"trials\"]\n",
    "assert len(dflab)==Xthis.shape[0]\n",
    "print(\"  Final Scalar data (trial, dims):\", Xthis.shape)\n",
    "labels_rows = dflab.loc[:, label_vars].values.tolist()\n",
    "labels_rows = [tuple(x) for x in labels_rows] # list of tuples\n",
    "if SHUFFLE:\n",
    "    import random\n",
    "    random.shuffle(labels_rows)\n",
    "params = {\n",
    "    \"label_vars\":label_vars,\n",
    "}\n",
    "Cl = Clusters(Xthis, labels_rows, ver=\"rsa\", params=params)"
   ]
  },
  {
   "cell_type": "code",
   "execution_count": null,
   "id": "38b9f6b36e67c0",
   "metadata": {
    "collapsed": false
   },
   "outputs": [],
   "source": [
    "# OLD METHOD, using unbiased\n",
    "# convert to distance matrix\n",
    "version_distance = \"euclidian_unbiased\"\n",
    "Cldist = Cl.distsimmat_convert_distr(label_vars, version_distance, accurately_estimate_diagonal=False)\n",
    "# version_distance = \"pearson\"\n",
    "# Cldist = Cl.distsimmat_convert(version_distance)\n",
    "if PLOT:\n",
    "    Cldist.rsa_plot_heatmap()\n"
   ]
  },
  {
   "cell_type": "code",
   "execution_count": null,
   "id": "c41bd46b05c254d3",
   "metadata": {
    "collapsed": false
   },
   "outputs": [],
   "source": [
    "pa.X.shape\n",
    "PApca.X.shape"
   ]
  },
  {
   "cell_type": "code",
   "execution_count": null,
   "id": "f99f76fbe733d225",
   "metadata": {
    "collapsed": false
   },
   "outputs": [],
   "source": [
    "# New method -- shuffling\n",
    "from pythonlib.tools.pandastools import shuffle_dataset_hierarchical\n",
    "# from neuralmonkey.metrics.scalar import _shuffle_dataset_hier\n",
    "\n",
    "dflab = PApca.Xlabels[\"trials\"].copy()\n",
    "dflab_shuff_1 = shuffle_dataset_hierarchical(dflab, [var], var_others)\n",
    "# dflab_shuff_2 = _shuffle_dataset_hier(dflab, var_others, [var])\n",
    "# dflab_shuff_2 = _shuffle_dataset_hier(dflab, [\"task_kind\"], [\"shape\", \"gridloc\"])\n",
    "\n"
   ]
  },
  {
   "cell_type": "code",
   "execution_count": null,
   "id": "e7d32aba444c4298",
   "metadata": {
    "collapsed": false
   },
   "outputs": [],
   "source": [
    "print(np.all(dflab[\"trialcode\"] == dflab_shuff_1[\"trialcode\"]))\n",
    "# print(np.all(dflab[\"trialcode\"] == dflab_shuff_2[\"trialcode\"]))\n"
   ]
  },
  {
   "cell_type": "code",
   "execution_count": null,
   "id": "22580d7b7d11d758",
   "metadata": {
    "collapsed": false
   },
   "outputs": [],
   "source": [
    "from pythonlib.tools.pandastools import shuffle_dataset_hierarchical\n",
    "\n",
    "var = \"shape\"\n",
    "var_others = [\"task_kind\", \"gridloc\"]\n",
    "n_shuff = 3\n",
    "\n",
    "res = []\n",
    "DOSHUFFLE = True\n",
    "for i_shuff in range(n_shuff):\n",
    "    \n",
    "    # 0. shuffle\n",
    "    PApcaSHUFF = PApca.copy()\n",
    "    if DOSHUFFLE:\n",
    "        dflab = PApcaSHUFF.Xlabels[\"trials\"].copy()\n",
    "        dflabSHUFF = shuffle_dataset_hierarchical(dflab, [var], var_others)\n",
    "        PApcaSHUFF.Xlabels[\"trials\"] = dflabSHUFF\n",
    "\n",
    "    \n",
    "    # 1. agg before computing distances (quicker)\n",
    "    pa_agg = PApcaSHUFF.slice_and_agg_wrapper(\"trials\", [var]+var_others)\n",
    "    \n",
    "    # 2. Make clusters\n",
    "    # Create clusters\n",
    "    label_vars = [var]+var_others\n",
    "    dflab = pa_agg.Xlabels[\"trials\"]\n",
    "    labels_rows = dflab.loc[:, label_vars].values.tolist()\n",
    "    labels_rows = [tuple(x) for x in labels_rows] # list of tuples\n",
    "    if SHUFFLE:\n",
    "        import random\n",
    "        random.shuffle(labels_rows)\n",
    "    params = {\n",
    "        \"label_vars\":label_vars,\n",
    "    }\n",
    "    Xthis = pa_agg.X.squeeze(axis=2).T # (ntrials, ndims)\n",
    "    \n",
    "    Cl = Clusters(Xthis, labels_rows, ver=\"rsa\", params=params)\n",
    "    Cldist = Cl.distsimmat_convert(\"euclidian\")\n",
    "    if False:\n",
    "        Cldist.rsa_plot_heatmap()\n",
    "    PLOT_MASKS=False\n",
    "    MASKS, fig, axes = Cldist.rsa_mask_context_helper(var, var_others, \"diff_at_least_one\", PLOT=PLOT_MASKS)\n",
    "    # Compute score\n",
    "    # 1. Within each context, average pairwise distance between levels of effect var\n",
    "    map_grp_to_mask = Cldist.rsa_mask_context_split_levels_of_conj_var(var_others, PLOT=PLOT_MASKS)\n",
    "    # For each levo, compute mean distance\n",
    "    for grp, ma in map_grp_to_mask.items():\n",
    "        ma_final = ma & MASKS[\"effect_diff\"]\n",
    "        dist = Cldist.Xinput[ma_final].mean()\n",
    "        res.append({\n",
    "            \"var\":var,\n",
    "            \"var_others\":var_others,\n",
    "            \"levo\":grp,\n",
    "            \"dist\":dist,\n",
    "            \"i_shuff\":i_shuff,\n",
    "            # \"dist_norm_95\":dist/DIST_NULL_95,\n",
    "            # \"dist_norm_50\":dist/DIST_NULL_50\n",
    "        })"
   ]
  },
  {
   "cell_type": "code",
   "execution_count": null,
   "id": "14f1d0cd39a732c3",
   "metadata": {
    "collapsed": false
   },
   "outputs": [],
   "source": [
    "pd.DataFrame(res)"
   ]
  },
  {
   "cell_type": "code",
   "execution_count": null,
   "id": "25f9aa85f69654d1",
   "metadata": {
    "collapsed": false
   },
   "outputs": [],
   "source": [
    "pd.DataFrame(res)"
   ]
  },
  {
   "cell_type": "code",
   "execution_count": null,
   "id": "b9fbe120a6e1a027",
   "metadata": {
    "collapsed": false
   },
   "outputs": [],
   "source": [
    "MASKS, _, _ = Cldist.rsa_mask_context_helper(var, var_others, \"diff_at_least_one\")"
   ]
  },
  {
   "cell_type": "code",
   "execution_count": null,
   "id": "f8f875ff5dfdb710",
   "metadata": {
    "collapsed": false
   },
   "outputs": [],
   "source": [
    "MASKS.keys()"
   ]
  },
  {
   "cell_type": "code",
   "execution_count": null,
   "id": "23e2d92ccaee756b",
   "metadata": {
    "collapsed": false
   },
   "outputs": [],
   "source": [
    "Cldist.Labels"
   ]
  },
  {
   "cell_type": "code",
   "execution_count": null,
   "id": "1181db47d4c2c5f4",
   "metadata": {
    "collapsed": false
   },
   "outputs": [],
   "source": [
    "X = np.stack([row[\"Stroke\"]()[0,:2] for i, row in pa.Xlabels[\"trials\"].iterrows()])"
   ]
  },
  {
   "cell_type": "code",
   "execution_count": null,
   "id": "9484ffaae665cf2e",
   "metadata": {
    "collapsed": false
   },
   "outputs": [],
   "source": [
    "from pythonlib.tools.statstools import kmeans_with_silhouette_score\n",
    "\n",
    "kmeans_with_silhouette_score(X, n_clusters_min_max=[3, 15], PLOT=True)"
   ]
  },
  {
   "cell_type": "markdown",
   "id": "c438acdfc7996036",
   "metadata": {
    "collapsed": false
   },
   "source": [
    "### Loading euclidian distance results"
   ]
  },
  {
   "cell_type": "code",
   "execution_count": null,
   "id": "ff1e9a4fb62f273a",
   "metadata": {
    "collapsed": false
   },
   "outputs": [],
   "source": [
    "path = \"/gorilla1/analyses/recordings/main/EUCLIDIAN_DIST/Pancho-230620/PIG_BASE_stroke-fr_normalization_method=across_time_bins-NPCS_KEEP=10/twind_analy=(-0.1, 0.1)-tbin_dur=0.1/DFRES.pkl\"\n",
    "import pandas as pd\n",
    "DFRES = pd.read_pickle(path)\n",
    "DFTHIS = DFRES\n"
   ]
  },
  {
   "cell_type": "code",
   "execution_count": null,
   "id": "8027b37909c10b05",
   "metadata": {
    "collapsed": false
   },
   "outputs": [],
   "source": [
    "DFRES[:10]"
   ]
  },
  {
   "cell_type": "code",
   "execution_count": null,
   "id": "d5247e4b4ee906ab",
   "metadata": {
    "collapsed": false
   },
   "outputs": [],
   "source": [
    "effect_context = \"diff|same\"\n",
    "shuffled=False\n",
    "yvar = \"dist\"\n",
    "from pythonlib.tools.pandastools import plot_subplots_heatmap\n",
    "\n",
    "dfthis = DFTHIS[(DFTHIS[\"effect_context\"]==effect_context) & (DFTHIS[\"shuffled\"]==shuffled)].reset_index(drop=True)\n",
    "# savedirthis = f\"{savedir}/each_conjunction-effect_context={effect_context}-shuffled={shuffled}\"\n",
    "# os.makedirs(savedirthis, exist_ok=True)\n",
    "# print(\"... \", savedirthis)\n",
    "\n",
    "# # 1) Scatter\n",
    "# list_vvo = dfthis[\"var_var_others\"].unique().tolist()\n",
    "# for vvo in list_vvo:\n",
    "#     dfthisthis = dfthis[dfthis[\"var_var_others\"]==vvo]\n",
    "#     fig = sns.catplot(data=dfthisthis, x=yvar, y=\"levo\", col=\"bregion\", alpha=0.4)\n",
    "#     # savefig(fig, f\"{savedirthis}/allconj_scatter-vvo={vvo}.pdf\")\n",
    "#     plt.close(\"all\")\n",
    "\n",
    "\n",
    "# 2) Heatmap\n",
    "fig, axes = plot_subplots_heatmap(dfthis, \"bregion\", \"levo\", yvar, \"var_var_others\",\n",
    "                                  diverge=True, ncols=None, share_zlim=True)\n"
   ]
  },
  {
   "cell_type": "code",
   "execution_count": null,
   "id": "6eb5155bf21347c7",
   "metadata": {
    "collapsed": false
   },
   "outputs": [],
   "source": [
    "dfthis"
   ]
  },
  {
   "cell_type": "code",
   "execution_count": null,
   "id": "2ec91fe87dbe618e",
   "metadata": {
    "collapsed": false
   },
   "outputs": [],
   "source": [
    "dfthis[\"levo\"]"
   ]
  },
  {
   "cell_type": "code",
   "execution_count": null,
   "id": "86805eb64394667f",
   "metadata": {
    "collapsed": false
   },
   "outputs": [],
   "source": [
    "type(int(xx))"
   ]
  },
  {
   "cell_type": "code",
   "execution_count": null,
   "id": "dafd9fcc1d93a748",
   "metadata": {
    "collapsed": false
   },
   "outputs": [],
   "source": [
    "import numpy as np\n",
    "for x in dfthis[\"levo\"].unique().tolist():\n",
    "    for xx in x:\n",
    "        \n",
    "        print(type(xx))\n",
    "        if type(xx)==np.int64:\n",
    "            asdfasdf"
   ]
  },
  {
   "cell_type": "code",
   "execution_count": null,
   "id": "a2522d1cfbffd30",
   "metadata": {
    "collapsed": false
   },
   "outputs": [],
   "source": [
    "from pythonlib.tools.pandastools import grouping_append_and_return_inner_items\n",
    "# grouping_append_and_return_inner_items(dfthis, [\"bregion\", \"levo\", \"var_var_others\"])\n",
    "grouping_append_and_return_inner_items(dfthis, [\"bregion\", \"var_var_others\"])\n"
   ]
  },
  {
   "cell_type": "code",
   "execution_count": null,
   "id": "408794736ec8c641",
   "metadata": {
    "collapsed": false
   },
   "outputs": [],
   "source": [
    "dfthis"
   ]
  },
  {
   "cell_type": "code",
   "execution_count": null,
   "id": "25625c6cfcceadec",
   "metadata": {
    "collapsed": false
   },
   "outputs": [],
   "source": [
    "grp.index"
   ]
  },
  {
   "cell_type": "code",
   "execution_count": null,
   "id": "4f37a514b2c8f7d3",
   "metadata": {
    "collapsed": false
   },
   "outputs": [],
   "source": [
    "for i, grp in dfthis.groupby([\"bregion\", \"var_var_others\"]):\n",
    "    print(i)\n",
    "    print"
   ]
  },
  {
   "cell_type": "code",
   "execution_count": null,
   "id": "4f2d5408f8446b4f",
   "metadata": {
    "collapsed": false
   },
   "outputs": [],
   "source": [
    "grouping_append_and_return_inner_items(dfthis, [\"bregion\", \"var_var_others\"])\n"
   ]
  },
  {
   "cell_type": "code",
   "execution_count": null,
   "id": "e0941dda3e0c989a",
   "metadata": {
    "collapsed": false
   },
   "outputs": [],
   "source": [
    "dfthis[\"effect_context\"]\n"
   ]
  }
 ],
 "metadata": {
  "kernelspec": {
   "display_name": "Python 3",
   "language": "python",
   "name": "python3"
  },
  "language_info": {
   "codemirror_mode": {
    "name": "ipython",
    "version": 3
   },
   "file_extension": ".py",
   "mimetype": "text/x-python",
   "name": "python",
   "nbconvert_exporter": "python",
   "pygments_lexer": "ipython3",
   "version": "3.8.18"
  }
 },
 "nbformat": 4,
 "nbformat_minor": 5
}
