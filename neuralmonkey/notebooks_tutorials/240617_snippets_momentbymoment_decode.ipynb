{
 "cells": [
  {
   "cell_type": "code",
   "execution_count": 1,
   "id": "06d5b790",
   "metadata": {},
   "outputs": [
    {
     "data": {
      "text/plain": [
       "'\"\\nDevo code for moment by moment decoding --> i.e., for each time bin, find strength of representation of\\neach class of a variable (e.g., shape), as opposed to decoding average accuracy across trials.\\n\\nHere collecting methods and quick analyses\\n'"
      ]
     },
     "execution_count": 1,
     "metadata": {},
     "output_type": "execute_result"
    }
   ],
   "source": [
    "import os\n",
    "\n",
    "%load_ext autoreload\n",
    "%autoreload 2\n",
    "\n",
    "\"\"\"\"\n",
    "Devo code for moment by moment decoding --> i.e., for each time bin, find strength of representation of\n",
    "each class of a variable (e.g., shape), as opposed to decoding average accuracy across trials.\n",
    "\n",
    "Here collecting methods and quick analyses\n",
    "\"\"\""
   ]
  },
  {
   "cell_type": "markdown",
   "id": "50813ff4",
   "metadata": {},
   "source": [
    "# Load a dataset"
   ]
  },
  {
   "cell_type": "markdown",
   "id": "8dcf10d0",
   "metadata": {},
   "source": [
    "To load and plot a dataset of neural activity across population, in a PopAnal class object.\n"
   ]
  },
  {
   "cell_type": "code",
   "execution_count": 2,
   "id": "d53ac978",
   "metadata": {},
   "outputs": [],
   "source": [
    "import pandas as pd\n",
    "import matplotlib.pyplot as plt"
   ]
  },
  {
   "cell_type": "code",
   "execution_count": 3,
   "id": "52452892",
   "metadata": {},
   "outputs": [],
   "source": [
    "# (1) Load the dataset Diego 230630"
   ]
  },
  {
   "cell_type": "code",
   "execution_count": 4,
   "id": "abcfbc8f",
   "metadata": {},
   "outputs": [],
   "source": [
    "from neuralmonkey.classes.population_mult import load_handsaved_wrapper\n",
    "\n",
    "DFallpa = load_handsaved_wrapper()\n"
   ]
  },
  {
   "cell_type": "code",
   "execution_count": 5,
   "id": "e9fedf51",
   "metadata": {},
   "outputs": [
    {
     "data": {
      "text/html": [
       "<div>\n",
       "<style scoped>\n",
       "    .dataframe tbody tr th:only-of-type {\n",
       "        vertical-align: middle;\n",
       "    }\n",
       "\n",
       "    .dataframe tbody tr th {\n",
       "        vertical-align: top;\n",
       "    }\n",
       "\n",
       "    .dataframe thead th {\n",
       "        text-align: right;\n",
       "    }\n",
       "</style>\n",
       "<table border=\"1\" class=\"dataframe\">\n",
       "  <thead>\n",
       "    <tr style=\"text-align: right;\">\n",
       "      <th></th>\n",
       "      <th>which_level</th>\n",
       "      <th>event</th>\n",
       "      <th>bregion</th>\n",
       "      <th>twind</th>\n",
       "      <th>pa</th>\n",
       "      <th>pa_x_shape</th>\n",
       "    </tr>\n",
       "  </thead>\n",
       "  <tbody>\n",
       "    <tr>\n",
       "      <th>0</th>\n",
       "      <td>stroke</td>\n",
       "      <td>00_stroke</td>\n",
       "      <td>M1</td>\n",
       "      <td>(-0.8, 0.8)</td>\n",
       "      <td>&lt;neuralmonkey.classes.population.PopAnal objec...</td>\n",
       "      <td>(62, 1947, 160)</td>\n",
       "    </tr>\n",
       "    <tr>\n",
       "      <th>1</th>\n",
       "      <td>stroke</td>\n",
       "      <td>00_stroke</td>\n",
       "      <td>PMv</td>\n",
       "      <td>(-0.8, 0.8)</td>\n",
       "      <td>&lt;neuralmonkey.classes.population.PopAnal objec...</td>\n",
       "      <td>(64, 1947, 160)</td>\n",
       "    </tr>\n",
       "    <tr>\n",
       "      <th>2</th>\n",
       "      <td>stroke</td>\n",
       "      <td>00_stroke</td>\n",
       "      <td>PMd</td>\n",
       "      <td>(-0.8, 0.8)</td>\n",
       "      <td>&lt;neuralmonkey.classes.population.PopAnal objec...</td>\n",
       "      <td>(51, 1947, 160)</td>\n",
       "    </tr>\n",
       "    <tr>\n",
       "      <th>3</th>\n",
       "      <td>stroke</td>\n",
       "      <td>00_stroke</td>\n",
       "      <td>dlPFC</td>\n",
       "      <td>(-0.8, 0.8)</td>\n",
       "      <td>&lt;neuralmonkey.classes.population.PopAnal objec...</td>\n",
       "      <td>(31, 1947, 160)</td>\n",
       "    </tr>\n",
       "    <tr>\n",
       "      <th>4</th>\n",
       "      <td>stroke</td>\n",
       "      <td>00_stroke</td>\n",
       "      <td>vlPFC</td>\n",
       "      <td>(-0.8, 0.8)</td>\n",
       "      <td>&lt;neuralmonkey.classes.population.PopAnal objec...</td>\n",
       "      <td>(58, 1947, 160)</td>\n",
       "    </tr>\n",
       "    <tr>\n",
       "      <th>5</th>\n",
       "      <td>stroke</td>\n",
       "      <td>00_stroke</td>\n",
       "      <td>FP</td>\n",
       "      <td>(-0.8, 0.8)</td>\n",
       "      <td>&lt;neuralmonkey.classes.population.PopAnal objec...</td>\n",
       "      <td>(59, 1947, 160)</td>\n",
       "    </tr>\n",
       "    <tr>\n",
       "      <th>6</th>\n",
       "      <td>stroke</td>\n",
       "      <td>00_stroke</td>\n",
       "      <td>SMA</td>\n",
       "      <td>(-0.8, 0.8)</td>\n",
       "      <td>&lt;neuralmonkey.classes.population.PopAnal objec...</td>\n",
       "      <td>(58, 1947, 160)</td>\n",
       "    </tr>\n",
       "    <tr>\n",
       "      <th>7</th>\n",
       "      <td>stroke</td>\n",
       "      <td>00_stroke</td>\n",
       "      <td>preSMA</td>\n",
       "      <td>(-0.8, 0.8)</td>\n",
       "      <td>&lt;neuralmonkey.classes.population.PopAnal objec...</td>\n",
       "      <td>(55, 1947, 160)</td>\n",
       "    </tr>\n",
       "  </tbody>\n",
       "</table>\n",
       "</div>"
      ],
      "text/plain": [
       "  which_level      event bregion        twind  \\\n",
       "0      stroke  00_stroke      M1  (-0.8, 0.8)   \n",
       "1      stroke  00_stroke     PMv  (-0.8, 0.8)   \n",
       "2      stroke  00_stroke     PMd  (-0.8, 0.8)   \n",
       "3      stroke  00_stroke   dlPFC  (-0.8, 0.8)   \n",
       "4      stroke  00_stroke   vlPFC  (-0.8, 0.8)   \n",
       "5      stroke  00_stroke      FP  (-0.8, 0.8)   \n",
       "6      stroke  00_stroke     SMA  (-0.8, 0.8)   \n",
       "7      stroke  00_stroke  preSMA  (-0.8, 0.8)   \n",
       "\n",
       "                                                  pa       pa_x_shape  \n",
       "0  <neuralmonkey.classes.population.PopAnal objec...  (62, 1947, 160)  \n",
       "1  <neuralmonkey.classes.population.PopAnal objec...  (64, 1947, 160)  \n",
       "2  <neuralmonkey.classes.population.PopAnal objec...  (51, 1947, 160)  \n",
       "3  <neuralmonkey.classes.population.PopAnal objec...  (31, 1947, 160)  \n",
       "4  <neuralmonkey.classes.population.PopAnal objec...  (58, 1947, 160)  \n",
       "5  <neuralmonkey.classes.population.PopAnal objec...  (59, 1947, 160)  \n",
       "6  <neuralmonkey.classes.population.PopAnal objec...  (58, 1947, 160)  \n",
       "7  <neuralmonkey.classes.population.PopAnal objec...  (55, 1947, 160)  "
      ]
     },
     "execution_count": 5,
     "metadata": {},
     "output_type": "execute_result"
    }
   ],
   "source": [
    "DFallpa"
   ]
  },
  {
   "cell_type": "code",
   "execution_count": 15,
   "id": "f10a50c6",
   "metadata": {},
   "outputs": [
    {
     "data": {
      "text/plain": [
       "shape_semantic\n",
       "line-LL-LL          163\n",
       "line-UU-UU          133\n",
       "arcdeep-RR-RR       129\n",
       "circle-XX-XX        125\n",
       "usquare-UU-UU       123\n",
       "line-UR-UR          115\n",
       "arcdeep-DD-DD       114\n",
       "line-UL-UL          108\n",
       "Lcentered-DR-DR     104\n",
       "Lcentered-UR-UR      88\n",
       "zigzagSq-LL-1.0      80\n",
       "V-UU-UU              76\n",
       "Lcentered-UL-UL      74\n",
       "arcdeep-UU-UU        71\n",
       "Lcentered-DL-DL      69\n",
       "usquare-RR-RR        60\n",
       "V-RR-RR              50\n",
       "zigzagSq-LL-0.0      49\n",
       "squiggle3-LL-0.0     45\n",
       "usquare-DD-DD        44\n",
       "squiggle3-LL-1.0     41\n",
       "zigzagSq-UU-0.0      36\n",
       "V-DD-DD              27\n",
       "squiggle3-UU-0.0     22\n",
       "zigzagSq-UU-1.0       1\n",
       "Name: count, dtype: int64"
      ]
     },
     "execution_count": 15,
     "metadata": {},
     "output_type": "execute_result"
    }
   ],
   "source": [
    "pa = DFallpa[\"pa\"].values[0]\n",
    "dflab = pa.Xlabels[\"trials\"]\n",
    "dflab[\"shape_semantic\"].value_counts()"
   ]
  },
  {
   "cell_type": "markdown",
   "id": "dd0ab1b9",
   "metadata": {},
   "source": [
    "# Preprocessing"
   ]
  },
  {
   "cell_type": "markdown",
   "id": "5ff897f0",
   "metadata": {},
   "source": [
    "### FR Normalization"
   ]
  },
  {
   "cell_type": "code",
   "execution_count": null,
   "id": "7f754d65",
   "metadata": {},
   "outputs": [],
   "source": [
    "from neuralmonkey.classes.population_mult import dfallpa_preprocess_fr_normalization\n",
    "fr_normalization_method = \"each_time_bin\"\n",
    "# fr_normalization_method = \"across_time_bins\"\n",
    "plot_savedir = \"/tmp\"\n",
    "dfallpa_preprocess_fr_normalization(DFallpa, fr_normalization_method, plot_savedir)"
   ]
  },
  {
   "cell_type": "markdown",
   "id": "25ba2ed2",
   "metadata": {},
   "source": [
    "### Factorize all relevant labels FIRST here.\n"
   ]
  },
  {
   "cell_type": "code",
   "execution_count": null,
   "id": "d2d396bd",
   "metadata": {},
   "outputs": [],
   "source": [
    "if False: # Ingore this for now\n",
    "    from neuralmonkey.analyses.decode_good import preprocess_factorize_class_labels_ints\n",
    "    MAP_LABELS_TO_INT = preprocess_factorize_class_labels_ints(DFallpa)"
   ]
  },
  {
   "cell_type": "markdown",
   "id": "ebf8ea56",
   "metadata": {},
   "source": [
    "### Pull out PMv data for now"
   ]
  },
  {
   "cell_type": "code",
   "execution_count": null,
   "id": "83cfd9ad",
   "metadata": {},
   "outputs": [],
   "source": [
    "bregions = [\"PMv\"]\n",
    "events = [\"03_samp\"]\n",
    "\n",
    "DFallpa = DFallpa[(DFallpa[\"bregion\"].isin(bregions)) & (DFallpa[\"event\"].isin(events))].reset_index(drop=True)\n",
    "PA =DFallpa[\"pa\"].values[0]\n",
    "PA.plotNeurHeat(trial=100)\n",
    "\n"
   ]
  },
  {
   "cell_type": "markdown",
   "id": "20803993",
   "metadata": {},
   "source": [
    "# Relevant behavioral labels"
   ]
  },
  {
   "cell_type": "code",
   "execution_count": null,
   "id": "1c0ebfb0",
   "metadata": {},
   "outputs": [],
   "source": [
    "dflab = PA.Xlabels[\"trials\"]\n",
    "\n",
    "# -- Image features\n",
    "# Each trial can have 1,2,3,or 4 strokes in the image\n",
    "print(dflab[\"FEAT_num_strokes_task\"].value_counts())\n",
    "\n",
    "# Each trial has a specific set of locations that the shapes are presented:\n",
    "print(dflab[\"taskconfig_loc\"].value_counts())\n",
    "\n",
    "# Each trial has a specific set of shapes presented\n",
    "print(dflab[\"taskconfig_shp\"].value_counts())\n",
    "\n",
    "# Each trial has a specific set of (location x shapes) presented\n",
    "print(dflab[\"taskconfig_shploc\"].value_counts())\n",
    "\n"
   ]
  },
  {
   "cell_type": "code",
   "execution_count": null,
   "id": "e4bf8be4",
   "metadata": {},
   "outputs": [],
   "source": [
    "# - Behavior features\n",
    "\n",
    "# What shape did he do first, second, third, etc\n",
    "# NOTE: some trials he does fewer shapes than exist on screen -- those cases he was sloppy in stroke quality, and he was aborted\n",
    "dflab[\"seqc_0_shape\"]\n",
    "dflab[\"seqc_1_shape\"]\n",
    "dflab[\"seqc_2_shape\"]\n",
    "dflab[\"seqc_3_shape\"]\n",
    "\n",
    "# and onset location...\n",
    "dflab[\"seqc_0_loc\"]\n"
   ]
  },
  {
   "cell_type": "code",
   "execution_count": null,
   "id": "2308bf24",
   "metadata": {},
   "outputs": [],
   "source": [
    "# This is a location config that is \"ambiguous\" in that on diff trials he will start on variable lcoations, iether (-1,0) or (1,1)\n",
    "\n",
    "# These are the trials\n",
    "dflab[dflab[\"taskconfig_loc\"] == ((-1,0), (-1,1), (1,1))]\n",
    "\n",
    "# Locations are variable\n",
    "dflab[dflab[\"taskconfig_loc\"] == ((-1,0), (-1,1), (1,1))][\"seqc_0_loc\"].value_counts()\n"
   ]
  },
  {
   "cell_type": "markdown",
   "id": "f883c2e4",
   "metadata": {},
   "source": [
    "# Decoding --> on each trial, can we decode him thinking about the shapes at locations (-1,0) and (1,1)?"
   ]
  },
  {
   "cell_type": "markdown",
   "id": "032d4ad6",
   "metadata": {},
   "source": [
    "##### Train decoder (fiurst Extract data for pre-samp and post-samp)"
   ]
  },
  {
   "cell_type": "code",
   "execution_count": null,
   "id": "451e9132",
   "metadata": {},
   "outputs": [],
   "source": [
    "# Train decoder on trials that only have one stroke..\n",
    "\n",
    "inds = dflab[dflab[\"FEAT_num_strokes_task\"]==1].index.tolist()\n",
    "PAtrain = PA.slice_by_dim_indices_wrapper(\"trials\", inds, reset_trial_indices=True)\n"
   ]
  },
  {
   "cell_type": "code",
   "execution_count": null,
   "id": "87ab6906",
   "metadata": {},
   "outputs": [],
   "source": [
    "from neuralmonkey.analyses.decode_moment import Decoder\n",
    "var = \"seqc_0_shape\" # Decoded variable\n",
    "twind_train = [0.1, 0.7]\n",
    "\n",
    "Dc = Decoder(PAtrain, var, twind_train)\n",
    "Dc.train_decoder(PLOT=True)\n"
   ]
  },
  {
   "cell_type": "code",
   "execution_count": null,
   "id": "7777770a",
   "metadata": {},
   "outputs": [],
   "source": [
    "trial = 100\n",
    "Dc.plot_single_trial(trial)"
   ]
  },
  {
   "cell_type": "markdown",
   "id": "e873111d",
   "metadata": {},
   "source": [
    "##### Get a single scalar score (by averaging the decode across time bins)\n"
   ]
  },
  {
   "cell_type": "code",
   "execution_count": null,
   "id": "82d46381",
   "metadata": {},
   "outputs": [],
   "source": [
    "list_twind = [\n",
    "    [-0.7, -0.1],\n",
    "    [0.1, 0.7],\n",
    "]\n",
    "\n",
    "scores = Dc.scalar_score_twinds_trials(list_twind)"
   ]
  },
  {
   "cell_type": "markdown",
   "id": "a95dc5b1",
   "metadata": {},
   "source": [
    "##### Average the decode over trials, to return a single row per trial class"
   ]
  },
  {
   "cell_type": "code",
   "execution_count": null,
   "id": "13973d1e",
   "metadata": {},
   "outputs": [],
   "source": [
    "# Returns array: (ntrial classes, n decode clasess, ntwinds)"
   ]
  },
  {
   "cell_type": "code",
   "execution_count": null,
   "id": "0d2f5784",
   "metadata": {},
   "outputs": [],
   "source": [
    "vars_trial = [\"seqc_0_shape\"]\n",
    "\n",
    "Dc.scalar_score_twinds_trialgroupings(vars_trial, list_twind, PLOT=True)"
   ]
  },
  {
   "cell_type": "code",
   "execution_count": null,
   "id": "60e3d22c",
   "metadata": {},
   "outputs": [],
   "source": [
    "Dc.PAtrain"
   ]
  },
  {
   "cell_type": "markdown",
   "id": "412c230e",
   "metadata": {},
   "source": [
    "# Testing the hypothesis"
   ]
  },
  {
   "cell_type": "code",
   "execution_count": null,
   "id": "f6743859",
   "metadata": {},
   "outputs": [],
   "source": [
    "# PRint trials with > 1 stroke\n",
    "dflab = PA.Xlabels[\"trials\"]\n",
    "dflab[dflab[\"FEAT_num_strokes_task\"]>1].index.tolist()"
   ]
  },
  {
   "cell_type": "code",
   "execution_count": null,
   "id": "74e8f737",
   "metadata": {},
   "outputs": [],
   "source": []
  },
  {
   "cell_type": "code",
   "execution_count": null,
   "id": "4bed527a",
   "metadata": {},
   "outputs": [],
   "source": [
    "# Plot a multi-stroke trial \n",
    "# NOTE: you can see here switching between representations of shapes\n",
    "\n",
    "trial = 295\n",
    "\n",
    "for i in [0,1,2,3]:\n",
    "    print(\"stroke\", i, \" -- \", dflab.iloc[trial][f\"seqc_{i}_shape\"])\n",
    "\n",
    "tbin_dur=0.15\n",
    "tbin_slide=0.01\n",
    "Dc.plot_single_trial(trial, PA=PA, tbin_dur=tbin_dur, tbin_slide=tbin_slide)\n"
   ]
  },
  {
   "cell_type": "markdown",
   "id": "cd9ec563",
   "metadata": {},
   "source": [
    "#### plot after sort labels (in progress)\n"
   ]
  },
  {
   "cell_type": "code",
   "execution_count": null,
   "id": "2692fa59",
   "metadata": {},
   "outputs": [],
   "source": [
    "# NOTE: this is written for a very specific expeirmetn (Novel vs. orig prims)_."
   ]
  },
  {
   "cell_type": "code",
   "execution_count": null,
   "id": "697bb4fd",
   "metadata": {},
   "outputs": [],
   "source": [
    "def F(x):\n",
    "    if \"novelprim\" in x:\n",
    "        return f\"2{x}\"\n",
    "    elif \"presamp\" in x:\n",
    "        return f\"3{x}\"\n",
    "    else:\n",
    "        return f\"1{x}\"\n"
   ]
  },
  {
   "cell_type": "code",
   "execution_count": null,
   "id": "1d8673aa",
   "metadata": {},
   "outputs": [],
   "source": [
    "labs_rows = [x[0] for x in grpdict.keys()]\n",
    "labs_for_sorting = [F(x) for x in labs_rows]\n",
    "inds = np.argsort(labs_for_sorting)\n",
    "print(labs_for_sorting)\n",
    "res_sorted = resthis[inds, :, :]\n",
    "labs_rows_sorted = [labs_rows[i] for i in inds]\n",
    "\n",
    "labs_cols = mlb.classes_\n",
    "labs_for_sorting = [F(x) for x in labs_cols]\n",
    "print(labs_for_sorting)\n",
    "inds = np.argsort(labs_for_sorting)\n",
    "res_sorted = res_sorted[:, inds, :]\n",
    "labs_cols_sorted = [labs_cols[i] for i in inds]\n",
    "\n",
    "from pythonlib.tools.snstools import heatmap_mat\n",
    "\n",
    "ncols = 3\n",
    "nrows = int(np.ceil(len(list_twind)/ncols))\n",
    "fig, axes = plt.subplots(nrows, ncols, figsize=(ncols*7, nrows*5))\n",
    "\n",
    "for ax, ind_twind in zip(axes.flatten(), range(len(list_twind))):\n",
    "    if True:\n",
    "        heatmap_mat(res_sorted[:, :, ind_twind], ax, False, zlims=(0, 0.3))    \n",
    "        ax.set_xlabel(\"decoded class label\")\n",
    "        ax.set_ylabel(\"trial label\")\n",
    "        ax.set_title(f\"twind: {list_twind[ind_twind]}\")\n",
    "    else:\n",
    "        res_vec = np.mean(res_sorted[:, :, ind_twind], axis=0)\n",
    "        xlab = [f\"{i}-{x[:1]}\" for i, x in enumerate(labs_cols_sorted)]\n",
    "        ax.plot(xlab, res_vec, \"ok\")\n",
    "\n",
    "        from pythonlib.tools.plottools import rotate_x_labels\n",
    "        rotate_x_labels(ax)\n",
    "        ax.set_xlabel(\"decoded class label\")\n",
    "        ax.set_ylabel(\"trial label\")\n",
    "        ax.set_title(f\"twind: {list_twind[ind_twind]}\")\n",
    "        ax.set_ylim([0, 0.1])\n",
    "\n",
    "        "
   ]
  },
  {
   "cell_type": "markdown",
   "id": "6569f843",
   "metadata": {},
   "source": [
    "# Older methods"
   ]
  },
  {
   "cell_type": "markdown",
   "id": "d3a21d2839843b42",
   "metadata": {
    "collapsed": false
   },
   "source": [
    "### Extract single trial results"
   ]
  },
  {
   "cell_type": "code",
   "execution_count": null,
   "id": "f98b66754dbece70",
   "metadata": {
    "collapsed": false
   },
   "outputs": [],
   "source": [
    "\n",
    "# PARAMS\n",
    "var_decode = \"seqc_0_shape\"\n",
    "bregion = \"PMv\"\n",
    "twind = (-0.4, 0.6)"
   ]
  },
  {
   "cell_type": "code",
   "execution_count": null,
   "id": "e8296d5b9f2e7ea8",
   "metadata": {
    "collapsed": false
   },
   "outputs": [],
   "source": [
    "\n",
    "a = DFRES[\"var_decode\"]==var_decode\n",
    "b = DFRES[\"bregion\"]==bregion\n",
    "c = DFRES[\"twind\"]==twind\n",
    "dfthis = DFRES[a & b & c]\n",
    "\n",
    "times = dfthis[\"time\"]\n",
    "import numpy as np\n",
    "labels_predicted = np.stack(dfthis[\"labels_predicted\"]).T # (ntrials, ntimes)\n",
    "labels_test = np.stack(dfthis[\"labels_test\"]).T\n",
    "conf_scores = np.transpose(np.stack(dfthis[\"conf_scores\"]), [1,0,2]) # (ntrials, ntimes, nclasses)\n",
    "\n",
    "# score each time bin as correct or incorrect\n",
    "labels_correct = (labels_predicted == labels_test).astype(int)\n"
   ]
  },
  {
   "cell_type": "code",
   "execution_count": null,
   "id": "3025b97e2c823fa8",
   "metadata": {
    "collapsed": false
   },
   "outputs": [],
   "source": [
    "# For each trial, what was its label\n",
    "assert np.all(np.diff(labels_test, axis=1))==0, \"otherwise cant do next step.\"\n",
    "labels_each_trial = labels_test[:,0]\n",
    "labels_orig = PA_test.Xlabels[\"trials\"][var_decode].tolist()\n",
    "assert len(labels_orig)==len(labels_each_trial)\n",
    "\n",
    "map_labint_to_trials = {}\n",
    "map_labint_to_laborig = {}\n",
    "labels_unique = np.unique(labels_each_trial)\n",
    "for lab in labels_unique:\n",
    "    inds_this_label = np.argwhere(labels_each_trial == lab).squeeze() # the indices which ahve this label as the CORRECT\n",
    "    map_labint_to_trials[lab] = inds_this_label\n",
    "\n",
    "    # Map it back to original label\n",
    "    lab_orig = PA_test.Xlabels[\"trials\"][var_decode][inds_this_label].unique()\n",
    "    assert len(lab_orig)==1\n",
    "    map_labint_to_laborig[lab] = lab_orig[0]\n",
    "\n",
    "map_trial_to_labint = {i:labint for i, labint in enumerate(labels_each_trial)}\n",
    "print(map_labint_to_laborig)    \n",
    "map_laborig_to_labint = {}\n",
    "for labint, laborig in map_labint_to_laborig.items():\n",
    "    assert laborig not in map_laborig_to_labint\n",
    "    map_laborig_to_labint[laborig] = labint\n",
    "\n",
    "import matplotlib.pyplot as plt\n",
    "from pythonlib.tools.plottools import makeColors\n",
    "pcols = makeColors(len(map_labint_to_laborig))\n",
    "map_trial_to_seq = {}\n",
    "map_trial_to_seq_ints = {}\n",
    "for i, seq in enumerate(PA_test.Xlabels[\"trials\"].loc[:, [\"seqc_0_shape\", \"seqc_1_shape\"]].values.tolist()):\n",
    "    map_trial_to_seq[i] = (tuple(seq))\n",
    "    map_trial_to_seq_ints[i] = [map_laborig_to_labint[s] if s in map_laborig_to_labint else s for s in seq]\n"
   ]
  },
  {
   "cell_type": "code",
   "execution_count": null,
   "id": "eeac8f2e7321bfd2",
   "metadata": {
    "collapsed": false
   },
   "outputs": [],
   "source": [
    "# Pick n random trials\n",
    "import random\n",
    "n=  9\n",
    "trials_all = list(range(len(map_trial_to_labint)))\n",
    "trials = random.sample(trials_all, n)\n",
    "ncols = 3\n",
    "nrows = int(np.ceil(len(trials)/ncols))\n",
    "fig, axes = plt.subplots(nrows, ncols, figsize=(ncols*4, nrows*3), sharex=True, sharey=True)\n",
    "\n",
    "for tr, ax in zip(trials, axes.flatten()):\n",
    "    \n",
    "    # ax = axes.flatten()[0]\n",
    "    lab_pred = labels_predicted[tr,:]\n",
    "    # lab_corr = labels_correct[trial,:]\n",
    "    # lab_test = labels_test[trial,:]\n",
    "    # ax.plot(times, lab_pred, \"-ok\"),\n",
    "    # ax.plot(times, lab_test, \"-r\")\n",
    "    \n",
    "    # for each class, plot its time series\n",
    "    for labint in map_labint_to_laborig:\n",
    "        cs_this_lab = conf_scores[tr, :, labint].squeeze()\n",
    "        \n",
    "        ax.plot(times, cs_this_lab, label=labint, color=pcols[labint])\n",
    "        # ax.plot(times[lab_pred==labint], cs_this_lab[lab_pred==labint], \"-\", color=pcols[labint], linewidth=4)\n",
    "        ax.plot(times[lab_pred==labint], cs_this_lab[lab_pred==labint], \"s\", color=pcols[labint])\n",
    "    \n",
    "    ax.axvline(0, color=\"k\", alpha=0.5)\n",
    "    ax.set_title(f\"{var_decode}={map_trial_to_labint[tr]}\", color=pcols[map_trial_to_labint[tr]])\n",
    "    ax.set_xlabel(f\"seq: {map_trial_to_seq_ints[tr]}\")\n",
    "    ax.legend()\n",
    "        "
   ]
  },
  {
   "cell_type": "code",
   "execution_count": null,
   "id": "8efa1735ce6376c3",
   "metadata": {
    "collapsed": false
   },
   "outputs": [],
   "source": [
    "# For each class label, collect all trials for which that is the correct label, and overlap\n",
    "\n",
    "labels_unique = np.unique(labels_each_trial)\n",
    "ncols = 3\n",
    "nrows = int(np.ceil(len(labels_unique)/ncols))\n",
    "\n",
    "fig, axes = plt.subplots(nrows, ncols, figsize=(ncols*4, nrows*4))\n",
    "\n",
    "for lab, ax in zip(labels_unique, axes.flatten()):\n",
    "    inds_this_label = np.argwhere(labels_each_trial == lab).squeeze() # the indices which ahve this label as the CORRECT \n",
    "    ax.plot(times, labels_predicted[inds_this_label, :].T, \"-ok\", alpha=0.05)\n",
    "    ax.set_title(lab)\n",
    "    \n",
    "    "
   ]
  },
  {
   "cell_type": "code",
   "execution_count": null,
   "id": "6c7a8e07c6d583ea",
   "metadata": {
    "collapsed": false
   },
   "outputs": [],
   "source": [
    "fig, axes = plt.subplots(2,2, figsize=(10,10))\n",
    "\n",
    "ax = axes.flatten()[0]\n",
    "ax.plot(times, labels_correct.T, \"xk\", alpha=0.003);"
   ]
  },
  {
   "cell_type": "code",
   "execution_count": null,
   "id": "7ddae94bd60f728e",
   "metadata": {
    "collapsed": false
   },
   "outputs": [],
   "source": [
    "##### Plot the results, comparing score across methods!!\n",
    "%matplotlib inline\n",
    "import seaborn as sns\n",
    "fig = sns.relplot(data=DFRES, x=\"time\", y=\"score\", hue=\"bregion\", col=\"var_decode\",  kind=\"line\")\n"
   ]
  },
  {
   "cell_type": "code",
   "execution_count": null,
   "id": "4ef8b1c64ea5cadd",
   "metadata": {
    "collapsed": false
   },
   "outputs": [],
   "source": [
    "##### Plot the results, comparing score across methods!!\n",
    "%matplotlib inline\n",
    "import seaborn as sns\n",
    "fig = sns.relplot(data=DFRES, x=\"time\", y=\"score\", hue=\"bregion\", col=\"var_decode\",  kind=\"line\")\n"
   ]
  },
  {
   "cell_type": "code",
   "execution_count": null,
   "id": "5483ffe2c1ea629f",
   "metadata": {
    "collapsed": false
   },
   "outputs": [],
   "source": [
    "from neuralmonkey.analyses.decode_good import decodewrapouterloop_categorical_cross_time"
   ]
  }
 ],
 "metadata": {
  "kernelspec": {
   "display_name": "Python 3",
   "language": "python",
   "name": "python3"
  },
  "language_info": {
   "codemirror_mode": {
    "name": "ipython",
    "version": 3
   },
   "file_extension": ".py",
   "mimetype": "text/x-python",
   "name": "python",
   "nbconvert_exporter": "python",
   "pygments_lexer": "ipython3",
   "version": "3.8.18"
  }
 },
 "nbformat": 4,
 "nbformat_minor": 5
}
