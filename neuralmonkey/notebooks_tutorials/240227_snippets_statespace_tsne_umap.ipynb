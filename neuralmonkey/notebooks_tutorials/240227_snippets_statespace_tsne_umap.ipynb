{
 "cells": [
  {
   "cell_type": "code",
   "execution_count": null,
   "outputs": [],
   "source": [
    "import os\n",
    "\n",
    "\"\"\"\"\n",
    "Devo code for all kinds of state space plotting, especially things like dPCA and tsne.\n",
    "\n",
    "NOTE: previously dPCA plots:\n",
    "- 240128_snippets_demixed_PCA\n",
    "- analy_dpca_plot_script.py [More general purpose]\n",
    "- analyquick_dpca_script_substrokes [Focusing on substrokes]\n",
    "(Here, try to consolidate all of these things)\n",
    "\n",
    "\"\"\""
   ],
   "metadata": {
    "collapsed": false
   },
   "id": "9e3fd17c4f13ba43"
  },
  {
   "cell_type": "code",
   "outputs": [],
   "source": [
    "%load_ext autoreload\n",
    "%autoreload 2\n"
   ],
   "metadata": {
    "collapsed": false
   },
   "id": "86296f42437ddc00",
   "execution_count": null
  },
  {
   "cell_type": "markdown",
   "source": [
    "# Load a prviously saved DFallPA\n",
    "(This saving is only done by hand)"
   ],
   "metadata": {
    "collapsed": false
   },
   "id": "2f471c575413735b"
  },
  {
   "cell_type": "code",
   "execution_count": null,
   "outputs": [],
   "source": [
    "import pandas as pd\n",
    "import matplotlib.pyplot as plt"
   ],
   "metadata": {
    "collapsed": false
   },
   "id": "6d72addf5c1494c2"
  },
  {
   "cell_type": "code",
   "execution_count": null,
   "outputs": [],
   "source": [
    "\n",
    "# this is the path to the dataset\n",
    "# path = '/gorilla1/analyses/recordings/main/RSA/Diego-230615/agg_True-subtr_None-dist_euclidian_unbiased/SP_shape_loc/DFallpa.pkl'\n",
    "# path = \"/gorilla4/Dropbox/SCIENCE/FREIWALD_LAB/DATA/for_xuan/DFallpa.pkl\"\n",
    "# path = \"/gorilla4/Dropbox/SCIENCE/FREIWALD_LAB/DATA/for_xuan/DFallpa_samp_and_stroke.pkl\"\n",
    "# path = \"/gorilla4/Dropbox/SCIENCE/FREIWALD_LAB/DATA/for_xuan/DFallpa_pig_planning.pkl\"\n",
    "# path = \"/gorilla4/Dropbox/SCIENCE/FREIWALD_LAB/DATA/for_xuan/DFallpa_pig_concat_trial_and_stroke_which_levels.pkl\"\n",
    "# path = \"/gorilla4/Dropbox/SCIENCE/FREIWALD_LAB/DATA/for_xuan/DFallpa_char_concat_trial_and_stroke_Pancho_230126.pkl\"\n",
    "# path = \"/gorilla4/Dropbox/SCIENCE/FREIWALD_LAB/DATA/for_xuan/DFallpa_shape_loc_Pancho_220715.pkl\"\n",
    "\n",
    "path = \"/home/lucas/Dropbox/SCIENCE/FREIWALD_LAB/DATA/for_xuan/DFallpa_shape_loc_Pancho_220715.pkl\"\n"
   ],
   "metadata": {
    "collapsed": false
   },
   "id": "320be7d5ecbddf5f"
  },
  {
   "cell_type": "code",
   "execution_count": null,
   "outputs": [],
   "source": [
    "DFallpa = pd.read_pickle(path)\n"
   ],
   "metadata": {
    "collapsed": false
   },
   "id": "335e4da034da5b2a"
  },
  {
   "cell_type": "markdown",
   "source": [
    "# Generate a DFallpa (from Snippets)"
   ],
   "metadata": {
    "collapsed": false
   },
   "id": "122e1e23ec6b587"
  },
  {
   "cell_type": "code",
   "execution_count": null,
   "outputs": [],
   "source": [
    "# Char, \n",
    "# animal = \"Pancho\"\n",
    "# date = 230126\n",
    "# do_combine = True\n",
    "\n",
    "# Single prim, novels\n",
    "animal = \"Diego\"\n",
    "# date = 221220\n",
    "date = 230726\n",
    "do_combine = False\n",
    "\n",
    "if do_combine:\n",
    "    # COMBINE trial and stroke\n",
    "    dir_suffix = \"test\"\n",
    "    question = None\n",
    "    # q_params = None\n",
    "    which_level = None\n",
    "    q_params = {\n",
    "        \"effect_vars\": [\"seqc_0_shape\", \"seqc_0_loc\"]\n",
    "    }\n",
    "    \n",
    "    combine_trial_and_stroke = True\n",
    "    \n",
    "    # PIG\n",
    "    # question_trial = \"PIG_BASE_trial\"\n",
    "    # question_stroke = \"PIG_BASE_stroke\"\n",
    "    # check_that_locs_match = True\n",
    "    \n",
    "    # CHAR\n",
    "    question_trial = \"CHAR_BASE_trial\"\n",
    "    question_stroke = \"CHAR_BASE_stroke\"\n",
    "    check_that_locs_match = True\n",
    "    check_that_shapes_match = True\n",
    "else:\n",
    "    # DONT COMBINE, use questions.\n",
    "    # question = \"CHAR_BASE_trial\"\n",
    "    # question = \"PIG_BASE_trial\"\n",
    "    question = \"RULE_BASE_stroke\"\n",
    "    # question = \"SP_novel_shape\"\n",
    "    # question = \"SP_shape_loc\"\n",
    "    # question = \"SP_shape_size\"\n",
    "    combine_trial_and_stroke = False\n",
    "    which_level = \"stroke\" # Doesnt matter\n",
    "    dir_suffix = question\n",
    "\n",
    "    # Load q_params\n",
    "    from neuralmonkey.analyses.rsa import rsagood_questions_dict, rsagood_questions_params\n",
    "    q_params = rsagood_questions_dict(animal, date, question)[question]\n",
    "\n",
    "############### PARAMS\n",
    "exclude_bad_areas = True\n",
    "SPIKES_VERSION = \"kilosort_if_exists\" # since Snippets not yet extracted for ks\n",
    "combine_into_larger_areas = False\n",
    "HACK_RENAME_SHAPES = False\n",
    "list_time_windows = [(-0.6, 0.6)]\n",
    "\n",
    "########################################## RUN\n",
    "\n",
    "if combine_trial_and_stroke:\n",
    "    from neuralmonkey.classes.population_mult import dfallpa_extraction_load_wrapper_combine_trial_strokes\n",
    "    DFallpa = dfallpa_extraction_load_wrapper_combine_trial_strokes(animal, date, question_trial,\n",
    "                                                                       question_stroke,\n",
    "                                                list_time_windows,\n",
    "                                               combine_into_larger_areas = combine_into_larger_areas,\n",
    "                                               exclude_bad_areas=exclude_bad_areas,\n",
    "                                                SPIKES_VERSION=\"tdt\",\n",
    "                                                HACK_RENAME_SHAPES = HACK_RENAME_SHAPES,\n",
    "                                                    check_that_shapes_match=check_that_shapes_match,\n",
    "                                                check_that_locs_match=check_that_locs_match)\n",
    "else:\n",
    "    from neuralmonkey.classes.population_mult import dfallpa_extraction_load_wrapper\n",
    "    DFallpa = dfallpa_extraction_load_wrapper(animal, date, question, list_time_windows,\n",
    "                                              which_level=which_level,\n",
    "                                              combine_into_larger_areas = combine_into_larger_areas,\n",
    "                                              exclude_bad_areas = exclude_bad_areas,\n",
    "                                              SPIKES_VERSION = SPIKES_VERSION,\n",
    "                                              HACK_RENAME_SHAPES = HACK_RENAME_SHAPES)"
   ],
   "metadata": {
    "collapsed": false
   },
   "id": "58ea6f5073b3909f"
  },
  {
   "cell_type": "markdown",
   "source": [
    "##### To save DFallPA"
   ],
   "metadata": {
    "collapsed": false
   },
   "id": "2b2b88d538f5c517"
  },
  {
   "cell_type": "code",
   "execution_count": null,
   "outputs": [],
   "source": [
    "# Save it\n",
    "import pickle\n",
    "path = \"/gorilla4/Dropbox/SCIENCE/FREIWALD_LAB/DATA/for_xuan/DFallpa_shape_loc_Pancho_220715.pkl\"\n",
    "with open(path, \"wb\") as f:\n",
    "    pickle.dump(DFallpa, f)\n",
    "print(\"Saved to:\", path)\n"
   ],
   "metadata": {
    "collapsed": false
   },
   "id": "ee1acb5baa6a83b0"
  },
  {
   "cell_type": "code",
   "execution_count": null,
   "outputs": [],
   "source": [
    "from pythonlib.globals import PATH_ANALYSIS_OUTCOMES\n",
    "import os\n",
    "SAVEDIR_ANALYSIS = f\"{PATH_ANALYSIS_OUTCOMES}/recordings/main/statespacegood\""
   ],
   "metadata": {
    "collapsed": false
   },
   "id": "4cab933058cb251a"
  },
  {
   "cell_type": "markdown",
   "source": [
    "# PREPROCESS - factorize all relevant labels FIRST here.\n"
   ],
   "metadata": {
    "collapsed": false
   },
   "id": "8634a855e2b24c5a"
  },
  {
   "cell_type": "code",
   "execution_count": null,
   "outputs": [],
   "source": [
    "from neuralmonkey.analyses.decode_good import preprocess_factorize_class_labels_ints\n",
    "MAP_LABELS_TO_INT = preprocess_factorize_class_labels_ints(DFallpa)"
   ],
   "metadata": {
    "collapsed": false
   },
   "id": "87e0da3ce5099d79"
  },
  {
   "cell_type": "markdown",
   "source": [
    "# [PIPELINE] State space plots (tsne)\n",
    "NOTE: previously have dPCA plots..."
   ],
   "metadata": {
    "collapsed": false
   },
   "id": "71caf94b369f4732"
  },
  {
   "cell_type": "markdown",
   "source": [
    "### Helper functions for tsne"
   ],
   "metadata": {
    "collapsed": false
   },
   "id": "b180e7e080543da4"
  },
  {
   "cell_type": "code",
   "execution_count": null,
   "outputs": [],
   "source": [
    "from neuralmonkey.analyses.state_space_good import dimredgood_nonlinear_embed_data"
   ],
   "metadata": {
    "collapsed": false
   },
   "id": "5ee0493aa271f88d"
  },
  {
   "cell_type": "code",
   "execution_count": null,
   "outputs": [],
   "source": [
    "import umap.plot\n",
    "umap.plot.points(mapper, labels=dflab[\"seqc_0_shape\"], theme=\"fire\")\n",
    "import umap.plot\n",
    "umap.plot.points(mapper, labels=dflab[\"seqc_0_shape\"], theme=\"fire\")\n",
    "umap.plot.connectivity(mapper, show_points=True, edge_bundling='hammer')\n",
    "umap.plot.diagnostic(mapper, diagnostic_type='pca')\n",
    "\n",
    "# p = umap.plot.interactive(mapper, labels=dflab[\"seqc_0_shape\"], hover_data=hover_data, point_size=2)\n",
    "p = umap.plot.interactive(mapper, labels=dflab[\"seqc_0_shape\"], point_size=2)\n",
    "umap.plot.show(p)"
   ],
   "metadata": {
    "collapsed": false
   },
   "id": "65b7b12ab549d969"
  },
  {
   "cell_type": "markdown",
   "source": [
    "### Extract data"
   ],
   "metadata": {
    "collapsed": false
   },
   "id": "bb229d71872cc976"
  },
  {
   "cell_type": "code",
   "execution_count": null,
   "outputs": [],
   "source": [
    "from neuralmonkey.analyses.state_space_good import trajgood_construct_df_from_raw, trajgood_plot_colorby_splotby, trajgood_plot_colorby_splotby_scalar\n",
    "from pythonlib.tools.pandastools import append_col_with_grp_index\n",
    "from pythonlib.tools.plottools import savefig\n",
    "from pythonlib.globals import PATH_ANALYSIS_OUTCOMES\n",
    "import os"
   ],
   "metadata": {
    "collapsed": false
   },
   "id": "288c9da4fad13e78"
  },
  {
   "cell_type": "code",
   "outputs": [],
   "source": [
    "SAVEDIR_ANALYSIS = \"/tmp\""
   ],
   "metadata": {
    "collapsed": false
   },
   "id": "5b2e973a22a809ba",
   "execution_count": null
  },
  {
   "cell_type": "code",
   "outputs": [],
   "source": [
    "fr_normalization_method = \"across_time_bins\"\n",
    "# LIST_METHOD = [\"umap\", \"tsne\"]\n",
    "LIST_METHOD = [\"umap\"]\n",
    "# LIST_UMAP_N_NEIGHBORS = [10, 30, 50]\n",
    "LIST_UMAP_N_NEIGHBORS = [30]\n",
    "exclude_bad_areas = True\n",
    "SPIKES_VERSION = \"tdt\" # since Snippets not yet extracted for ks\n",
    "combine_into_larger_areas = False\n",
    "list_time_windows = [(-0.6, 0.6)]\n",
    "pca_frac_var_keep = 0.95\n"
   ],
   "metadata": {
    "collapsed": false
   },
   "id": "c93c854afa6efaaf",
   "execution_count": null
  },
  {
   "cell_type": "code",
   "outputs": [],
   "source": [
    "from neuralmonkey.metadat.analy.anova_params import params_getter_dataset_preprocess"
   ],
   "metadata": {
    "collapsed": false
   },
   "id": "32d3e01b2b1a267f",
   "execution_count": null
  },
  {
   "cell_type": "code",
   "outputs": [],
   "source": [
    "from neuralmonkey.metadat.analy.anova_params import params_getter_raster_vars"
   ],
   "metadata": {
    "collapsed": false
   },
   "id": "468ec61afce69a21",
   "execution_count": null
  },
  {
   "cell_type": "code",
   "outputs": [],
   "source": [
    "import neuralmonkey.metadat.analy.anova_params as ap\n",
    "ap.params_getter_raster_vars"
   ],
   "metadata": {
    "collapsed": false
   },
   "id": "1ee072bd689f50dc",
   "execution_count": null
  },
  {
   "cell_type": "code",
   "outputs": [],
   "source": [
    "from neuralmonkey.analyses.state_space_good import trajgood_construct_df_from_raw, trajgood_plot_colorby_splotby, trajgood_plot_colorby_splotby_scalar\n",
    "from pythonlib.tools.plottools import savefig\n",
    "from pythonlib.globals import PATH_ANALYSIS_OUTCOMES\n",
    "import os\n",
    "\n",
    "if question==\"SP_novel_shape\":\n",
    "    TASK_KIND_RENAME_AS_NOVEL_SHAPE=True\n",
    "else:\n",
    "    TASK_KIND_RENAME_AS_NOVEL_SHAPE=False\n",
    "\n",
    "### PARAMS\n",
    "tbin_dur = 0.1\n",
    "tbin_slide = 0.1\n",
    "reshape_method = \"trials_x_chanstimes\"\n",
    "RES = []\n",
    "pca_frac_var_keep = 0.8\n",
    "for i, row in DFallpa.iterrows():\n",
    "    pa = row[\"pa\"]\n",
    "    br = row[\"bregion\"]\n",
    "    wl = row[\"which_level\"]\n",
    "    ev = row[\"event\"]\n",
    "    tw = row[\"twind\"]\n",
    "\n",
    "    if ev==\"03_samp\":\n",
    "        list_twind_overall = [\n",
    "            [0.2, 0.6]\n",
    "        ]\n",
    "    elif ev in [\"06_on_strokeidx_0\", \"00_stroke\"]:\n",
    "        list_twind_overall = [\n",
    "            [-0.35, -0.05],\n",
    "            [0, 0.3]\n",
    "        ]\n",
    "    elif ev == \"04_go_cue\":\n",
    "        list_twind_overall = [\n",
    "            [-0.45, -0.05]\n",
    "        ]\n",
    "    else:\n",
    "        print(ev)\n",
    "        assert False\n",
    "\n",
    "    # if br==\"PMv_m\" and ev==\"06_on_strokeidx_0\":\n",
    "    for twind_overall in list_twind_overall:\n",
    "\n",
    "        # Extract data\n",
    "        X, _, pathis, _ = pa.dataextract_state_space_decode_flex(twind_overall, tbin_dur, tbin_slide, reshape_method,\n",
    "                                                           pca_reduce=True, pca_frac_var_keep=pca_frac_var_keep)\n",
    "        dflab = pathis.Xlabels[\"trials\"]\n",
    "\n",
    "        # Extract strokes\n",
    "        if which_level==\"trial\":\n",
    "            # Extract the first stroke...\n",
    "            STROKES_BEH = [tk.Tokens[0][\"Prim\"].Stroke() for tk in dflab[\"Tkbeh_stkbeh\"]]\n",
    "            STROKES_TASK = [tk.Tokens[0][\"Prim\"].Stroke() for tk in dflab[\"Tkbeh_stktask\"]]\n",
    "        elif which_level==\"stroke\":\n",
    "            STROKES_BEH = [stk() for stk in dflab[\"Stroke\"]]\n",
    "            STROKES_TASK = [tk.Tokens[0][\"Prim\"].Stroke() for tk in dflab[\"TokTask\"]]\n",
    "        else:\n",
    "            assert False\n",
    "\n",
    "        # Embed data\n",
    "        for METHOD in LIST_METHOD:\n",
    "            if METHOD == \"umap\":\n",
    "                list_tsne_perp = [\"auto\" for _ in range(len(LIST_UMAP_N_NEIGHBORS))]\n",
    "                list_umap_n_neighbors = LIST_UMAP_N_NEIGHBORS\n",
    "            else:\n",
    "                assert False, \"add LIST PARAMS for tsne\"\n",
    "\n",
    "            for tsne_perp, umap_n_neighbors in zip(list_tsne_perp, list_umap_n_neighbors):\n",
    "                Xredu, _ = dimredgood_nonlinear_embed_data(X, METHOD=METHOD, n_components=2, tsne_perp=tsne_perp, umap_n_neighbors=umap_n_neighbors)\n",
    "                # Xredu = dimredgood_nonlinear_embed_data(X, METHOD=METHOD, n_components=2, tsne_perp=\"auto\", umap_n_neighbors=\"auto\")\n",
    "\n",
    "                ##### Plot scalars\n",
    "                savedir = f\"{SAVEDIR_ANALYSIS}/{br}-{ev}-twind={'_'.join([str(t) for t in twind_overall])}-METHOD={METHOD}-T_perp={tsne_perp}-U_nn={umap_n_neighbors}\"\n",
    "                print(savedir)\n",
    "                os.makedirs(savedir, exist_ok=True)\n",
    "\n",
    "                # Save params\n",
    "                from pythonlib.tools.expttools import writeDictToTxt\n",
    "                params_this = {\n",
    "                    \"exclude_bad_areas\":exclude_bad_areas,\n",
    "                    \"TASK_KIND_RENAME_AS_NOVEL_SHAPE\":TASK_KIND_RENAME_AS_NOVEL_SHAPE,\n",
    "                    \"tbin_dur\":tbin_dur,\n",
    "                    \"tbin_slide\":tbin_slide,\n",
    "                    \"reshape_method\":reshape_method,\n",
    "                    \"X_dim_before_redu_dim\": X.shape,\n",
    "                    \"pca_frac_var_keep\":pca_frac_var_keep\n",
    "                }\n",
    "                writeDictToTxt(params_this, f\"{savedir}/params.txt\")\n",
    "                \n",
    "                if True:\n",
    "                    from neuralmonkey.metadat.analy.anova_params import params_getter_raster_vars\n",
    "                    LIST_VAR, LIST_VARS_OTHERS, LIST_OVERWRITE_lenient_n = params_getter_raster_vars(which_level, question)\n",
    "                    \n",
    "                    for var, list_var in zip(LIST_VAR, LIST_VARS_OTHERS):\n",
    "                        list_var_color_var_subplot.append([var, list_var])\n",
    "                else:                \n",
    "                    #### DECIDE WHAT VARIABLES TO PLOT\n",
    "                    # List of plots to make\n",
    "                    list_var_color_var_subplot = []\n",
    "                    if which_level==\"trial\":\n",
    "                        # list_var_color_var_subplot.append([\"seqc_0_shape\", \"task_kind\"])\n",
    "                        # if len(dflab[\"gridsize\"].unique())>1:\n",
    "                        #     list_var_color_var_subplot.append([\"seqc_0_shape\", \"gridsize\"])\n",
    "                        #     list_var_color_var_subplot.append([\"gridsize\", \"seqc_0_shape\"])\n",
    "                        #     list_var_color_var_subplot.append([\"gridsize\", \"task_kind\"])\n",
    "                        # if len(dflab[\"seqc_0_loc\"].unique())>1:\n",
    "                        #     list_var_color_var_subplot.append([\"seqc_0_shape\", \"seqc_0_loc\"])\n",
    "                        #     list_var_color_var_subplot.append([\"seqc_0_loc\", \"seqc_0_shape\"])\n",
    "                        #     list_var_color_var_subplot.append([\"seqc_0_loc\", \"task_kind\"])\n",
    "                        if len(dflab[\"shape_is_novel_all\"].unique())>1:\n",
    "                            list_var_color_var_subplot.append([\"seqc_0_shape\", \"shape_is_novel_all\"])\n",
    "                            list_var_color_var_subplot.append([\"shape_is_novel_all\", \"seqc_0_shape\"])\n",
    "                            list_var_color_var_subplot.append([\"seqc_0_shapesemcat\", (\"shape_is_novel_all\", \"task_kind\")])\n",
    "                            list_var_color_var_subplot.append([\"seqc_0_angle\", (\"shape_is_novel_all\", \"seqc_0_shape\")]) # One subplot per shape, use seqc_0_angle is hack-- need a variation in var for this to not be skipped.\n",
    "                            # list_var_color_var_subplot.append([\"shape_is_novel_all\", \"task_kind\"])\n",
    "                        if \"seqc_0_locx\" in dflab.columns:\n",
    "                            list_var_color_var_subplot.append([\"seqc_0_locx\", \"seqc_0_shapeloc\"])\n",
    "                            list_var_color_var_subplot.append([\"seqc_0_locy\", \"seqc_0_shapeloc\"])\n",
    "                            list_var_color_var_subplot.append([\"seqc_0_locx\", \"task_kind\"])\n",
    "                            list_var_color_var_subplot.append([\"seqc_0_locy\", \"task_kind\"])\n",
    "                        if \"seqc_0_angle\" in dflab.columns:\n",
    "                            list_var_color_var_subplot.append([\"seqc_0_angle\", \"seqc_0_shapeloc\"])\n",
    "                            list_var_color_var_subplot.append([\"seqc_0_angle\", \"task_kind\"])\n",
    "                        if \"seqc_0_angle_binned\" in dflab.columns:\n",
    "                            list_var_color_var_subplot.append([\"seqc_0_shape\", \"seqc_0_angle_binned\"])\n",
    "                        # color by shape semantic category (vlPFC?)\n",
    "                        # list_var_color_var_subplot.append([\"seqc_0_shapesemcat\", \"task_kind\"])\n",
    "    \n",
    "                        # (for character)\n",
    "                        # list_var_color_var_subplot.append([\"seqc_0_shape\", (\"taskconfig_shp_SHSEM\", \"seqc_0_center_binned\", \"gridsize\", \"task_kind\")]) # Same image --> diff sequence\n",
    "    \n",
    "                        # sequence predictions\n",
    "                        if False:\n",
    "                            # list_var_color_var_subplot.append([\"seqc_1_shapeloc\", (\"seqc_0_shapeloc\", \"task_kind\")])\n",
    "                            list_var_color_var_subplot.append([\"seqc_1_shape\", (\"seqc_0_shapeloc\", \"seqc_1_loc\", \"task_kind\")])\n",
    "                            list_var_color_var_subplot.append([\"seqc_1_loc\", (\"seqc_0_shapeloc\", \"seqc_1_shape\", \"task_kind\")])\n",
    "                            # list_var_color_var_subplot.append([\"seqc_2_shapeloc\", (\"seqc_0_shapeloc\", \"seqc_1_shapeloc\", \"task_kind\")])\n",
    "                            list_var_color_var_subplot.append([\"seqc_2_shape\", (\"seqc_0_shapeloc\", \"seqc_1_shapeloc\", \"seqc_2_loc\", \"task_kind\")])\n",
    "                            list_var_color_var_subplot.append([\"seqc_2_loc\", (\"seqc_0_shapeloc\", \"seqc_1_shapeloc\", \"seqc_2_shape\", \"task_kind\")])\n",
    "                        # (for character)\n",
    "                        # list_var_color_var_subplot.append([\"seqc_1_shape\", (\"seqc_0_shape\", \"seqc_0_center_binned\", \"seqc_1_locon_binned\", \"task_kind\")])\n",
    "                        # list_var_color_var_subplot.append([\"seqc_1_locon_binned\", (\"seqc_0_shape\", \"seqc_0_center_binned\", \"seqc_1_shape\", \"task_kind\")])\n",
    "                        # list_var_color_var_subplot.append([\"seqc_nstrokes_beh\", (\"seqc_0_shape\", \"seqc_0_center_binned\", \"task_kind\")])\n",
    "                        # list_var_color_var_subplot.append([\"seqc_nstrokes_beh\", (\"taskconfig_shp_SHSEM\", \"seqc_0_shape\", \"seqc_0_center_binned\", \"task_kind\")]) # Same image --> diff sequence\n",
    "                        # list_var_color_var_subplot.append([\"seqc_nstrokes_beh\", \"task_kind\"])\n",
    "    \n",
    "                        # Same image --> diff sequence\n",
    "                        if False:\n",
    "                            list_var_color_var_subplot.append([\"seqc_0_shapeloc\", (\"character\", \"task_kind\")])\n",
    "                            list_var_color_var_subplot.append([\"FEAT_num_strokes_beh\", (\"character\", \"task_kind\")])\n",
    "                            # list_var_color_var_subplot.append([\"FEAT_num_strokes_beh\", \"task_kind\"])\n",
    "    \n",
    "                        # Image properties (controlling for beh).\n",
    "                        if False:\n",
    "                            list_var_color_var_subplot.append([\"taskconfig_shp\", (\"taskconfig_loc\", \"seqc_0_shapeloc\", \"task_kind\")])\n",
    "                            list_var_color_var_subplot.append([\"taskconfig_shploc\", (\"FEAT_num_strokes_task\", \"seqc_0_shapeloc\", \"task_kind\")])\n",
    "                            list_var_color_var_subplot.append([\"FEAT_num_strokes_task\", (\"seqc_0_shapeloc\", \"task_kind\")])\n",
    "                            list_var_color_var_subplot.append([\"FEAT_num_strokes_task\", \"task_kind\"])\n",
    "    \n",
    "                        # Parse (characters)\n",
    "                        # list_var_color_var_subplot.append([\"taskconfig_shp_SHSEM\", (\"taskconfig_loc\", \"task_kind\")])\n",
    "                        # list_var_color_var_subplot.append([\"taskconfig_shp_SHSEM\", (\"taskconfig_loc\", \"seqc_0_shape\", \"seqc_0_center_binned\", \"task_kind\")])\n",
    "                        # list_var_color_var_subplot.append([\"taskconfig_shp_SHSEM\", (\"character\", \"task_kind\")])\n",
    "                        # list_var_color_var_subplot.append([\"taskconfig_shploc_SHSEM\", (\"taskconfig_loc\", \"task_kind\")])\n",
    "                        # list_var_color_var_subplot.append([\"taskconfig_shploc_SHSEM\", (\"taskconfig_loc\", \"seqc_0_shape\", \"seqc_0_center_binned\", \"task_kind\")])\n",
    "                        # list_var_color_var_subplot.append([\"taskconfig_shploc_SHSEM\", (\"character\", \"task_kind\")])\n",
    "                        # list_var_color_var_subplot.append([\"taskconfig_shp_SHSEM\", \"task_kind\"])\n",
    "                        # list_var_color_var_subplot.append([\"taskconfig_shploc_SHSEM\", \"task_kind\"])\n",
    "                        # list_var_color_var_subplot.append([\"seqc_1_shape\", (\"seqc_0_shape\", \"seqc_0_center_binned\", \"task_kind\")]) # actually, is testing for parsing.\n",
    "                        # list_var_color_var_subplot.append([\"seqc_2_shape\", (\"seqc_0_shape\", \"seqc_0_center_binned\", \"task_kind\")]) # actually, is testing for parsing.\n",
    "    \n",
    "                        from neuralmonkey.metadat.analy.anova_params import params_getter_decode_vars\n",
    "                        LIST_VAR_DECODE, LIST_VARS_CONJ, LIST_SEPARATE_BY_TASK_KIND, LIST_FILTDICT, LIST_SUFFIX = params_getter_decode_vars(which_level)\n",
    "                        single_vars_done = []\n",
    "                        for list_var_decode, list_vars_conj in zip(LIST_VAR_DECODE, LIST_VARS_CONJ):\n",
    "                            for var_decode, vars_conj in zip(list_var_decode, list_vars_conj):\n",
    "                                list_var_color_var_subplot.append([var_decode, tuple(vars_conj)])\n",
    "                                if var_decode not in single_vars_done:\n",
    "                                    list_var_color_var_subplot.append([var_decode, \"task_kind\"])\n",
    "                                    single_vars_done.append(var_decode)\n",
    "    \n",
    "                    elif which_level==\"stroke\":\n",
    "                        # shape (effect of shape)\n",
    "                        # list_var_color_var_subplot.append([\"shape\", (\"CTXT_shapeloc_prev\", \"gridloc\", \"CTXT_shapeloc_next\", \"task_kind\")]) # (1) context --> after account for context, not much shape encoding.\n",
    "                        # list_var_color_var_subplot.append([\"shape\", (\"CTXT_shapeloc_prev\", \"gridloc\", \"CTXT_loc_next\", \"task_kind\")])\n",
    "                        list_var_color_var_subplot.append([\"shape\", (\"CTXT_loc_prev\", \"gridloc\", \"task_kind\")])\n",
    "                        # list_var_color_var_subplot.append([\"shape\", (\"stroke_index\", \"gridloc\", \"task_kind\")]) # effect of stroke index\n",
    "                        list_var_color_var_subplot.append([\"shape\", (\"stroke_index\", \"task_kind\")]) # important\n",
    "                        list_var_color_var_subplot.append([\"shape\", (\"stroke_index\", \"stroke_index_fromlast_tskstks\", \"task_kind\")]) # (1) PMv, shape is invariant, but different for first stroke, (2) preSMA, encode SI indep of shape.\n",
    "                        list_var_color_var_subplot.append([\"shape\", \"task_kind\"])\n",
    "    \n",
    "                        # shape (invariance)\n",
    "                        list_var_color_var_subplot.append([\"stroke_index_semantic\", (\"shape\", \"task_kind\")]) # # also useful to see consistent for shape across contexts.\n",
    "                        list_var_color_var_subplot.append([\"CTXT_ALL_shape\", (\"shape\", \"stroke_index_semantic\", \"task_kind\")]) # (1) also useful to see consistent for shape across contexts. (in PMv, not in M1).\n",
    "                        list_var_color_var_subplot.append([\"gridloc\", (\"shape\", \"stroke_index_semantic\", \"task_kind\")]) # if many shapes, then this is easier to see if shape is invariant.\n",
    "                        # list_var_color_var_subplot.append([\"task_kind\", (\"shape\", \"stroke_index_semantic\")]) # if many shapes, then this is easier to see if shape is invariant.\n",
    "    \n",
    "                        # location\n",
    "                        # list_var_color_var_subplot.append([\"gridloc\", (\"CTXT_shapeloc_prev\", \"shape\", \"CTXT_shapeloc_next\", \"task_kind\")])\n",
    "                        # list_var_color_var_subplot.append([\"gridloc\", (\"CTXT_shapeloc_prev\", \"shape\", \"CTXT_loc_next\", \"task_kind\")])\n",
    "                        list_var_color_var_subplot.append([\"gridloc\", (\"CTXT_loc_prev\", \"shape\", \"task_kind\")])\n",
    "                        list_var_color_var_subplot.append([\"gridloc\", (\"stroke_index\", \"shape\", \"task_kind\")])\n",
    "                        list_var_color_var_subplot.append([\"gridloc\", \"task_kind\"])\n",
    "    \n",
    "                        # loc (vs. reach direction)\n",
    "                        list_var_color_var_subplot.append([\"gridloc\", (\"gap_from_prev_angle_binned\", \"shape\", \"stroke_index_semantic\", \"task_kind\")]) # control for SIS, since onset reach and offset can be different.\n",
    "                        list_var_color_var_subplot.append([\"gridloc\", (\"gap_to_next_angle_binned\", \"shape\", \"stroke_index_semantic\", \"task_kind\")])\n",
    "    \n",
    "                        # state (seq context) (also: prediction)\n",
    "                        # list_var_color_var_subplot.append([\"CTXT_shapeloc_next\", (\"CTXT_shapeloc_prev\", \"shape\", \"gridloc\", \"task_kind\")])\n",
    "                        # list_var_color_var_subplot.append([\"CTXT_shape_next\", (\"CTXT_shapeloc_prev\", \"shape\", \"gridloc\", \"CTXT_loc_next\", \"task_kind\")])\n",
    "                        # list_var_color_var_subplot.append([\"CTXT_loc_next\", (\"CTXT_shapeloc_prev\", \"shape\", \"gridloc\", \"CTXT_shape_next\", \"task_kind\")])\n",
    "                        # list_var_color_var_subplot.append([\"CTXT_shapeloc_prev\", (\"CTXT_shapeloc_next\", \"shape\", \"gridloc\", \"task_kind\")])\n",
    "                        # list_var_color_var_subplot.append([\"CTXT_loc_next\", \"task_kind\"])\n",
    "                        # list_var_color_var_subplot.append([\"CTXT_shape_next\", \"task_kind\"])\n",
    "    \n",
    "                        # list_var_color_var_subplot.append([\"CTXT_shapeloc_next\", (\"CTXT_shapeloc_prev\", \"shape\", \"gridloc\", \"stroke_index_semantic\", \"task_kind\")]) # important to have SIS, to separate (shapeloc) from END.\n",
    "                        list_var_color_var_subplot.append([\"CTXT_shapeloc_next\", (\"CTXT_loc_prev\", \"shape\", \"gridloc\", \"stroke_index_semantic\", \"task_kind\")])  # important to have SIS, to separate (shapeloc) from END.\n",
    "                        list_var_color_var_subplot.append([\"CTXT_loc_next\", (\"CTXT_loc_prev\", \"shape\", \"gridloc\", \"stroke_index_semantic\", \"CTXT_shape_next\", \"task_kind\")])\n",
    "                        if False: # just get fewer plots\n",
    "                            list_var_color_var_subplot.append([\"CTXT_shape_next\", (\"CTXT_shapeloc_prev\", \"shape\", \"gridloc\", \"CTXT_loc_next\", \"stroke_index_semantic\", \"task_kind\")]) # important to have SIS, to separate (shapeloc) from END.\n",
    "                            list_var_color_var_subplot.append([\"CTXT_loc_next\", (\"CTXT_shapeloc_prev\", \"shape\", \"gridloc\", \"CTXT_shape_next\", \"stroke_index_semantic\", \"task_kind\")]) # important to have SIS, to separate (shapeloc) from END.\n",
    "    \n",
    "                        # list_var_color_var_subplot.append([\"CTXT_shapeloc_prev\", (\"CTXT_shapeloc_next\", \"shape\", \"gridloc\", \"stroke_index_semantic\", \"task_kind\")]) # important to have SIS, to separate (shapeloc) from END.\n",
    "                        list_var_color_var_subplot.append([\"CTXT_shapeloc_prev\", (\"shape\", \"gridloc\", \"stroke_index_semantic\", \"task_kind\")]) # important to have SIS, to separate (shapeloc) from END.\n",
    "                        # list_var_color_var_subplot.append([\"CTXT_shapeloc_prev\", (\"shape\", \"gridloc\", \"task_kind\")]) # also useful to see consistent for shape across contexts.\n",
    "    \n",
    "                        list_var_color_var_subplot.append([\"CTXT_shapeloc_prev\", \"task_kind\"])\n",
    "                        list_var_color_var_subplot.append([\"CTXT_shapeloc_next\", \"task_kind\"])\n",
    "                        list_var_color_var_subplot.append([\"CTXT_loc_next\", \"task_kind\"])\n",
    "    \n",
    "                        # stroke index (effect)\n",
    "                        # list_var_color_var_subplot.append([\"stroke_index\", (\"CTXT_shapeloc_prev\", \"shape\", \"gridloc\", \"CTXT_shapeloc_next\", \"task_kind\")])\n",
    "                        # list_var_color_var_subplot.append([\"stroke_index\", (\"shape\", \"gridloc\", \"CTXT_shapeloc_next\", \"task_kind\")])\n",
    "                        list_var_color_var_subplot.append([\"stroke_index\", (\"CTXT_loc_prev\", \"shape\", \"gridloc\", \"task_kind\")])\n",
    "                        list_var_color_var_subplot.append([\"stroke_index\", (\"stroke_index_semantic\", \"task_kind\")]) # Important: showing that PMv has no stroke effect if exclude first stroke\n",
    "                        list_var_color_var_subplot.append([\"stroke_index\", (\"FEAT_num_strokes_task\", \"task_kind\")]) # Important: is counting, or internal ,etc.\n",
    "                        list_var_color_var_subplot.append([\"stroke_index\", \"task_kind\"])\n",
    "    \n",
    "                        # list_var_color_var_subplot.append([\"stroke_index_fromlast_tskstks\", (\"CTXT_shapeloc_prev\", \"shape\", \"gridloc\", \"CTXT_shapeloc_next\", \"task_kind\")]) # SI - Good (strongest control)\n",
    "                        list_var_color_var_subplot.append([\"stroke_index_fromlast_tskstks\", (\"CTXT_loc_prev\", \"shape\", \"gridloc\", \"task_kind\")])\n",
    "                        list_var_color_var_subplot.append([\"stroke_index_fromlast_tskstks\", (\"stroke_index_semantic\", \"task_kind\")]) # Important: showing that PMv has no stroke effect if exclude first stroke\n",
    "                        list_var_color_var_subplot.append([\"stroke_index_fromlast_tskstks\", \"task_kind\"])\n",
    "    \n",
    "                        list_var_color_var_subplot.append([\"CTXT_ALL_MAX\", (\"stroke_index_fromlast_tskstks\", \"task_kind\")]) # Strong, test context vs. SI\n",
    "                        list_var_color_var_subplot.append([\"CTXT_shapeloc_next\", (\"CTXT_shapeloc_prev\", \"stroke_index_fromlast_tskstks\", \"task_kind\")]) # Strong, test context vs. SI\n",
    "    \n",
    "                        # stroke index (invariance)\n",
    "                        list_var_color_var_subplot.append([\"shape_loc\", (\"stroke_index\", \"task_kind\")]) # (1) Stroke index invariant to shape/loc (2) Consistent across task_kind\n",
    "    \n",
    "                        # contrast stroke index vs. stroke index from last\n",
    "                        if False: # too messy\n",
    "                            list_var_color_var_subplot.append([\"stroke_index\", (\"shape\", \"gridloc\", \"stroke_index_fromlast_tskstks\", \"task_kind\")])\n",
    "                            list_var_color_var_subplot.append([\"stroke_index_fromlast_tskstks\", (\"shape\", \"gridloc\", \"stroke_index\", \"task_kind\")])\n",
    "    \n",
    "                        # task kind\n",
    "                        list_var_color_var_subplot.append([\"task_kind\", (\"shape\", \"gridloc\", \"CTXT_shapeloc_prev\")])\n",
    "    \n",
    "                        # num strokes in task\n",
    "                        list_var_color_var_subplot.append([\"FEAT_num_strokes_task\", (\"shape\", \"gridloc\", \"CTXT_shapeloc_prev\")])\n",
    "    \n",
    "                    else:\n",
    "                        print(which_level)\n",
    "                        assert False\n",
    "\n",
    "                # Cleanup, if forgot to add taskkind\n",
    "                tmp = []\n",
    "                for var_color, var_subplot in list_var_color_var_subplot:\n",
    "                    if not var_color == \"task_kind\":\n",
    "                        if isinstance(var_subplot, (list, tuple)) and not any([v==\"task_kind\" for v in var_subplot]):\n",
    "                            var_subplot = tuple(list(var_subplot) + [\"task_kind\"])\n",
    "                        elif isinstance(var_subplot, str) and not var_subplot==\"task_kind\":\n",
    "                            var_subplot = tuple([var_subplot, \"task_kind\"])\n",
    "                        elif var_subplot is None:\n",
    "                            var_subplot = \"task_kind\"\n",
    "                    tmp.append([var_color, var_subplot])\n",
    "                list_var_color_var_subplot = tmp\n",
    "\n",
    "                if False:\n",
    "                    ##### Create meaned data to plot\n",
    "                    effect_vars = [\"seqc_0_shape\", \"seqc_0_loc\", \"shape_is_novel_all\", \"seqc_0_shapesem\", \"seqc_0_locon_binned\", \"seqc_0_angle_binned\"]\n",
    "                    pathis_meaned = pathis.slice_and_agg_wrapper(\"trials\", effect_vars)\n",
    "\n",
    "                for var_color, var_subplot in list_var_color_var_subplot:\n",
    "                    from neuralmonkey.analyses.state_space_good import trajgood_plot_colorby_splotby_scalar_WRAPPER\n",
    "                    trajgood_plot_colorby_splotby_scalar_WRAPPER(Xredu, dflab, var_color, savedir,\n",
    "                                             vars_subplot=var_subplot, list_dims=[(0,1)],\n",
    "                                             STROKES_BEH=STROKES_BEH, STROKES_TASK=STROKES_TASK)\n"
   ],
   "metadata": {
    "collapsed": false
   },
   "id": "5661157fd6b4d14",
   "execution_count": null
  },
  {
   "cell_type": "code",
   "execution_count": null,
   "outputs": [],
   "source": [
    "# TODO:\n",
    "# - collect all --> 1 figure for each bregion, etc.\n",
    "# - Other datasets:\n",
    "# - novel prims\n",
    "# ---- sim structure\n",
    "# ---- novel cluster together?\n",
    "# - shape vs. size\n",
    "# - PIG\n",
    "# - char"
   ],
   "metadata": {
    "collapsed": false
   },
   "id": "63e28aa3a1d46b95"
  },
  {
   "cell_type": "markdown",
   "source": [
    "###### Plot overlaying stroke drawing associated with each shape [DONE, moved above]"
   ],
   "metadata": {
    "collapsed": false
   },
   "id": "100e7ad223a94768"
  },
  {
   "cell_type": "code",
   "execution_count": null,
   "outputs": [],
   "source": [
    "# Extract strokes\n",
    "# from pythonlib.tools.stroketools import strokes_alignonset, strokes_centerize\n",
    "import matplotlib.pyplot as plt\n",
    "# strokes_ver = \"beh\"\n",
    "STROKES_BEH = [tk.Tokens[0][\"Prim\"].Stroke() for tk in dflab[\"Tkbeh_stkbeh\"]]\n",
    "STROKES_TASK = [tk.Tokens[0][\"Prim\"].Stroke() for tk in dflab[\"Tkbeh_stktask\"]] \n",
    "    "
   ],
   "metadata": {
    "collapsed": false
   },
   "id": "394e050a583bf261"
  },
  {
   "cell_type": "code",
   "execution_count": null,
   "outputs": [],
   "source": [],
   "metadata": {
    "collapsed": false
   },
   "id": "1b36ed80d214f45a"
  },
  {
   "cell_type": "code",
   "execution_count": null,
   "outputs": [],
   "source": [
    "xs = Xredu[:,0]\n",
    "ys = Xredu[:,1]\n",
    "labels_color = dflab[var_color].tolist()\n",
    "labels_color = np.random.rand(len(xs))\n",
    "# text_to_plot = labels_color\n",
    "text_to_plot = None\n",
    "labels_subplot = dflab[var_subplot].tolist()\n",
    "\n",
    "fig, axes, map_levo_to_ax, map_levo_to_inds = trajgood_plot_colorby_splotby_scalar(xs, ys, labels_color, labels_subplot, var_color, var_subplot, SIZE=7,\n",
    "                                                       overlay_mean=True, text_to_plot=text_to_plot,\n",
    "                                                                                          STROKES_BEH=STROKES_BEH, STROKES_TASK=STROKES_TASK)\n",
    "\n",
    "# from pythonlib.tools.pandastools import grouping_append_and_return_inner_items\n",
    "# grpdict = grouping_append_and_return_inner_items(dflab, [var_color, var_subplot])\n",
    "# levels_var_color = dflab[var_color].unique().tolist()\n",
    "# \n",
    "# for strokes, align_to, pcol in [\n",
    "#     [STROKES_BEH, \"onset\", \"k\"],\n",
    "#     [STROKES_TASK, \"center\", \"m\"]\n",
    "# ]:\n",
    "#     if False:\n",
    "#         # Overlay nplot random strokes\n",
    "#         ax = axes.flatten()[0]\n",
    "#         nplot = 40\n",
    "#         overlay_stroke_on_plot_mult_rand(strokes, xs, ys, nplot, align_to)\n",
    "#     \n",
    "#     # Overlay random strokes, sampling within each level of labels_color\n",
    "#     nplot = 4\n",
    "#     for levo, ax in map_levo_to_ax.items():\n",
    "#         for lev in levels_var_color:\n",
    "#             inds = grpdict[lev, levo]\n",
    "#             overlay_stroke_on_plot_mult_rand([strokes[i] for i in inds], xs[inds], ys[inds], nplot, align_to, color=pcol)\n",
    "        "
   ],
   "metadata": {
    "collapsed": false
   },
   "id": "8c6f38ad8d9df3e7"
  },
  {
   "cell_type": "code",
   "execution_count": null,
   "outputs": [],
   "source": [
    "\n",
    "def overlay_stroke_on_plot_mult_rand(strokes, xs, ys, nrand=10, align_to=\"onset\", color=None):\n",
    "    import random\n",
    "\n",
    "    inds = range(len(strokes))\n",
    "\n",
    "    if len(inds)>nrand:\n",
    "        inds = random.sample(inds, nrand)\n",
    "\n",
    "    for i in inds:\n",
    "        strok = strokes[i][:, :2]\n",
    "        # times = strokes[i][:, 2]\n",
    "        x = xs[i]\n",
    "        y = ys[i]\n",
    "        overlay_stroke_on_plot(strok, x, y, ax, align_to=align_to, color=color)\n",
    "        \n",
    "\n",
    "def overlay_stroke_on_plot(strok, x, y, ax, SIZE = 0.05, align_to=\"onset\", color=None):\n",
    "    \"\"\"\n",
    "    PARAMS:\n",
    "    - SIZE, frac of screen to make the size of the strok.\n",
    "    \"\"\"\n",
    "    \n",
    "    if color is None:\n",
    "        color=\"k\"\n",
    "    from pythonlib.tools.stroketools import strokes_bounding_box_dimensions\n",
    "    # Get dimensions of figure, so can correctly scale stroke\n",
    "    XLIM = ax.get_xlim()\n",
    "    YLIM = ax.get_ylim()\n",
    "    xdiff = XLIM[1] - XLIM[0]\n",
    "    ydiff = YLIM[1] - YLIM[0]\n",
    "    d_ax = (xdiff**2 + ydiff**2)**0.5 \n",
    "        \n",
    "    # Decide if align at onset (beh) or center (task)\n",
    "    from pythonlib.tools.stroketools import strokes_alignonset, strokes_centerize\n",
    "    import matplotlib.pyplot as plt\n",
    "    if align_to == \"onset\":\n",
    "        strok = strokes_alignonset([strok])[0]\n",
    "    elif align_to == \"center\":\n",
    "        strok = strokes_centerize([strok])[0]\n",
    "    elif align_to is None:\n",
    "        pass\n",
    "    else:\n",
    "        print(align_to)\n",
    "        assert False\n",
    "            \n",
    "    # Rescale stroke\n",
    "    w, h, d = strokes_bounding_box_dimensions([strok])\n",
    "    rescale = SIZE * d_ax/d \n",
    "    aspect = [1, ydiff/xdiff] \n",
    "    strok = strok * rescale # rescale to page\n",
    "    strok = strok * aspect # to make sure strok aspect is visually accurate\n",
    "    strok = strok + [x,y] # move to location\n",
    "    \n",
    "    # Plot\n",
    "    ax.plot(strok[:,0], strok[:,1], '-', alpha=0.7, color=color)\n",
    "    # ax.scatter(strok[:,0], strok[:,1], c=times)\n",
    "    # if align_to==\"onset\":\n",
    "    ax.plot(x, y, 'o', mfc=\"none\", alpha=0.4, color=color)\n",
    "        \n",
    "    \n"
   ],
   "metadata": {
    "collapsed": false
   },
   "id": "3dc99c242dd6ba70"
  },
  {
   "cell_type": "code",
   "execution_count": null,
   "outputs": [],
   "source": [],
   "metadata": {
    "collapsed": false
   },
   "id": "1f6af75370067d4b"
  },
  {
   "cell_type": "code",
   "execution_count": null,
   "outputs": [],
   "source": [],
   "metadata": {
    "collapsed": false
   },
   "id": "ced8070283eb5fc3"
  },
  {
   "cell_type": "code",
   "execution_count": null,
   "outputs": [],
   "source": [
    "dflab[\"Tkbeh_stktask\"].values[0].Tokens[0][\"Prim\"].Stroke()"
   ],
   "metadata": {
    "collapsed": false
   },
   "id": "8d63c1f3da705578"
  },
  {
   "cell_type": "code",
   "execution_count": null,
   "outputs": [],
   "source": [],
   "metadata": {
    "collapsed": false
   },
   "id": "ed70cb45100dbf31"
  },
  {
   "cell_type": "code",
   "execution_count": null,
   "outputs": [],
   "source": [
    "# load DS for this animal on this day\n",
    " # Load a daily dataset\n",
    "from pythonlib.dataset.dataset import load_dataset_notdaily_helper, load_dataset_daily_helper\n",
    "\n",
    "D = load_dataset_daily_helper(animal, date)"
   ],
   "metadata": {
    "collapsed": false
   },
   "id": "5be507e9b0b0cf95"
  },
  {
   "cell_type": "code",
   "execution_count": null,
   "outputs": [],
   "source": [
    "from pythonlib.dataset.dataset_strokes import preprocess_dataset_to_datstrokes, DatStrokes\n",
    "# DS = DatStrokes(D)\n",
    "DS = preprocess_dataset_to_datstrokes(D, \"all_no_abort_superv\")"
   ],
   "metadata": {
    "collapsed": false
   },
   "id": "31f4f5eec6b85dd8"
  },
  {
   "cell_type": "code",
   "execution_count": null,
   "outputs": [],
   "source": [
    "best_n_by_dist = 15\n",
    "DS.distgood_compute_beh_task_strok_distances()\n",
    "dfdat = DS.features_generate_dataset_mean_primshape(\"shape\", best_n_by_dist=best_n_by_dist)\n"
   ],
   "metadata": {
    "collapsed": false
   },
   "id": "b16bbec61e35e241"
  },
  {
   "cell_type": "code",
   "execution_count": null,
   "outputs": [],
   "source": [
    "shape = \"novelprim--6288514134535433462-90-3.4-0.9\"\n",
    "inds = DS.find_indices_this_shape(shape)\n",
    "titles = [DS.stroke_shape_align_flip_vs_task(i) for i in inds] \n",
    "DS.plot_multiple_overlay_entire_trial(inds, overlay_beh_or_task=\"task\", titles=titles);\n"
   ],
   "metadata": {
    "collapsed": false
   },
   "id": "6e7de60142adb3d6"
  },
  {
   "cell_type": "code",
   "execution_count": null,
   "outputs": [],
   "source": [
    "# Given a shape, extract strokes and task\n",
    "shape = \"circle-67-6.0-0.4\"\n",
    "n = 5\n",
    "inds = DS.find_indices_this_shape(shape)\n",
    "# pick n random inds\n",
    "import random\n",
    "inds = random.sample(inds, n)\n",
    "\n",
    "strokes_beh = DS.extract_strokes(inds=inds, ver_behtask=\"beh\")\n",
    "strokes_task = DS.extract_strokes(inds=inds, ver_behtask=\"task_aligned_single_strok\")\n",
    "\n",
    "# for all beh, align to stroke onset\n",
    "from pythonlib.tools.stroketools import strokes_alignonset\n",
    "import matplotlib.pyplot as plt\n",
    "strokes_beh = strokes_alignonset(strokes_beh)\n",
    "\n",
    "fig, ax = plt.subplots()\n",
    "\n",
    "XLIM = ax.get_xlim()\n",
    "YLIM = ax.get_ylim()\n",
    "xdiff = XLIM[1] - XLIM[0]\n",
    "ydiff = YLIM[1] - YLIM[0]\n",
    "strokes_beh = [[x, y] + strok[:,:2] * xdiff/ydiff for strok in strokes_beh]\n",
    "# strok[:,0] =  strok[:,0] * xdiff/ydiff # so it looks correct even if aspect is not 1\n",
    "# strok = strok + loc # move to new locatin\n",
    "\n",
    "# plot at that location, starting from strok onset\n",
    "for strok in strokes_beh:\n",
    "    ax.plot(strok[:,0], strok[:,1], '-')\n",
    "    ax.plot(strok[0,0], strok[0,1], 'ok')\n",
    "\n"
   ],
   "metadata": {
    "collapsed": false
   },
   "id": "b4826712bec638f"
  },
  {
   "cell_type": "code",
   "execution_count": null,
   "outputs": [],
   "source": [
    "from pythonlib.drawmodel.strokePlots import plotDatStrokes\n",
    "import matplotlib.pyplot as plt\n",
    "fig, ax = plt.subplots()\n",
    "plotDatStrokes([strok], ax)"
   ],
   "metadata": {
    "collapsed": false
   },
   "id": "a4ec64262926ccf4"
  },
  {
   "cell_type": "code",
   "execution_count": null,
   "outputs": [],
   "source": [
    "# var_color = \"seqc_0_shape\"\n",
    "var_color = \"seqc_0_anglebinned\"\n",
    "# var_color = \"seqc_0_loconbinned\"\n",
    "var_subplot = \"shape_is_novel_all\"\n",
    "\n",
    "xs = Xtsne[:,0]\n",
    "ys = Xtsne[:,1]\n",
    "labels_color = dflab[var_color].tolist()\n",
    "labels_subplot = dflab[var_subplot].tolist()\n",
    "fig, axes= trajgood_plot_colorby_splotby_scalar(xs, ys, labels_color, labels_subplot, var_color, var_subplot, SIZE=7,\n",
    "                                                       overlay_mean=False, text_to_plot=labels_color,\n",
    "                                                       strokes_to_overlay=strokes_to_overlay)"
   ],
   "metadata": {
    "collapsed": false
   },
   "id": "10ed1d2a2e66b80b"
  },
  {
   "cell_type": "code",
   "execution_count": null,
   "outputs": [],
   "source": [
    "dflab[\"seqc_0_shape\"]"
   ],
   "metadata": {
    "collapsed": false
   },
   "id": "18f18620d2778e7b"
  },
  {
   "cell_type": "code",
   "execution_count": null,
   "outputs": [],
   "source": [
    "shapes = dflab[\"shap\"]"
   ],
   "metadata": {
    "collapsed": false
   },
   "id": "e4026ae8a1a3f9ee"
  },
  {
   "cell_type": "code",
   "execution_count": null,
   "outputs": [],
   "source": [
    "DS.Version"
   ],
   "metadata": {
    "collapsed": false
   },
   "id": "1f87b2de3749e4a1"
  },
  {
   "cell_type": "code",
   "execution_count": null,
   "outputs": [],
   "source": [
    "\n",
    "\n",
    "pa.Xlabels[\"trials\"].keys()"
   ],
   "metadata": {
    "collapsed": false
   },
   "id": "bb93a5b4cacbf6fd"
  },
  {
   "cell_type": "code",
   "execution_count": null,
   "outputs": [],
   "source": [],
   "metadata": {
    "collapsed": false
   },
   "id": "4a6cfb6c4293c652"
  },
  {
   "cell_type": "code",
   "execution_count": null,
   "outputs": [],
   "source": [],
   "metadata": {
    "collapsed": false
   },
   "id": "4b511e1910e3b9ea"
  },
  {
   "cell_type": "code",
   "execution_count": null,
   "outputs": [],
   "source": [
    "xs = Xtsne[:,0]\n",
    "ys = Xtsne[:,1]\n",
    "labels_color = dflab[var_color].tolist()\n",
    "labels_subplot = dflab[var_subplot].tolist()\n",
    "fig, axes= trajgood_plot_colorby_splotby_scalar(xs, ys, labels_color, labels_subplot, var_color, var_subplot, SIZE=4);"
   ],
   "metadata": {
    "collapsed": false
   },
   "id": "9d7075693910d547"
  },
  {
   "cell_type": "code",
   "execution_count": null,
   "outputs": [],
   "source": [
    "# Plot, subsampling to N trials for each level"
   ],
   "metadata": {
    "collapsed": false
   },
   "id": "ad312bb52aa3aa66"
  },
  {
   "cell_type": "markdown",
   "source": [
    "##### Plot trajectories"
   ],
   "metadata": {
    "collapsed": false
   },
   "id": "3ba29a09ec74405b"
  },
  {
   "cell_type": "code",
   "execution_count": null,
   "outputs": [],
   "source": [
    "\n",
    "\n",
    "# INPUT PARAMS\n",
    "var_color_by = \"seqc_0_shape\"\n",
    "var_subplots = \"seqc_0_loc\"\n",
    "\n",
    "# Runs\n",
    "# 1) Construct dataframe\n",
    "# df = pa.dataextract_split_by_label_grp_for_statespace(grpvars)\n",
    "grpvars = [var_color_by, var_subplots]\n",
    "labels = pa.Xlabels[\"trials\"].loc[:, grpvars] \n",
    "labelvars = grpvars\n",
    "df = trajgood_construct_df_from_raw(X, pa.Times, labels, labelvars)\n",
    "\n",
    "# 2) Plot\n",
    "dims = (2,3) # pairs of dimensions to plot\n",
    "times_to_mark = [0.] # you can mark specific times on the plot. here marks the 0. sec mark.\n",
    "times_to_mark_markers = [\"d\"] # mark with a diamond (\"d\")\n",
    "time_bin_size = 0.05 # to make plot easier to visaulize, you can bin in time.\n",
    "trajgood_plot_colorby_splotby(df, var_color_by, var_subplots, dims, \"traj\", mean_over_trials=True,\n",
    "                              times_to_mark = times_to_mark, times_to_mark_markers = times_to_mark_markers,\n",
    "                              time_bin_size=time_bin_size)"
   ],
   "metadata": {
    "collapsed": false
   },
   "id": "51328ddb4886799d"
  },
  {
   "cell_type": "code",
   "execution_count": null,
   "outputs": [],
   "source": [
    "bregion = \"PMv_m\"\n",
    "twind = (-0.6, 0.6)\n",
    "event = \"03_samp\"\n"
   ],
   "metadata": {
    "collapsed": false
   },
   "id": "24898f5ac3d1da42"
  },
  {
   "cell_type": "code",
   "execution_count": null,
   "outputs": [],
   "source": [
    "DFallpa"
   ],
   "metadata": {
    "collapsed": false
   },
   "id": "a904a066922e8a09"
  },
  {
   "cell_type": "markdown",
   "source": [
    "# [DEVO] A single bregion UMAP"
   ],
   "metadata": {
    "collapsed": false
   },
   "id": "2fe0c7ba97eb6513"
  },
  {
   "cell_type": "code",
   "outputs": [],
   "source": [
    "savedir = \"/tmp\""
   ],
   "metadata": {
    "collapsed": false
   },
   "id": "9220ed5c03e0d07d",
   "execution_count": null
  },
  {
   "cell_type": "code",
   "outputs": [],
   "source": [
    "date"
   ],
   "metadata": {
    "collapsed": false
   },
   "id": "2d246840042fa33a",
   "execution_count": null
  },
  {
   "cell_type": "code",
   "outputs": [],
   "source": [
    "from neuralmonkey.analyses.state_space_good import trajgood_construct_df_from_raw, trajgood_plot_colorby_splotby, trajgood_plot_colorby_splotby_scalar\n",
    "from neuralmonkey.analyses.state_space_good import dimredgood_nonlinear_embed_data\n",
    "from pythonlib.tools.plottools import savefig\n",
    "from pythonlib.globals import PATH_ANALYSIS_OUTCOMES\n",
    "import os\n",
    "\n",
    "# # -- Which variables to plot\n",
    "# list_var_color_var_subplot = []\n",
    "# # list_var_color_var_subplot.append([\"chunk_within_rank_semantic\", (\"chunk_rank\", \"shape\", \"task_kind\")])\n",
    "# list_var_color_var_subplot.append([(\"shape\", \"chunk_within_rank\"), (\"taskcat_by_rule\", \"task_kind\")])\n",
    "# list_var_color_var_subplot.append([(\"chunk_rank\", \"chunk_within_rank\"), (\"taskcat_by_rule\", \"task_kind\")])\n",
    "\n",
    "connect_means_with_line = True\n",
    "var_color = [\"chunk_rank\", \"chunk_within_rank\"]\n",
    "var_subplot = [\"taskcat_by_rule\", \"task_kind\"]\n",
    "var_lines = [\"chunk_rank\", \"chunk_within_rank\"]\n",
    "\n",
    "### PARAMS\n",
    "# -- which dataset\n",
    "bregion = \"preSMA_a\"\n",
    "twind = (-0.6, 0.6)\n",
    "which_level = \"stroke\"\n",
    "event = \"00_stroke\"\n",
    "\n",
    "# -- data representation\n",
    "METHOD = \"umap\"\n",
    "twind_overall = [-0.1, 0.1]\n",
    "tbin_dur = 0.1\n",
    "tbin_slide = 0.1\n",
    "reshape_method = \"trials_x_chanstimes\"\n",
    "RES = []\n",
    "pca_frac_var_keep = 0.8\n",
    "\n",
    "# -- umap\n",
    "tsne_perp = \"auto\"\n",
    "umap_n_neighbors = 50"
   ],
   "metadata": {
    "collapsed": false
   },
   "id": "e2bde75d9ed95a3f",
   "execution_count": null
  },
  {
   "cell_type": "markdown",
   "source": [
    "##### Plots copied from above (no lines connecting means)"
   ],
   "metadata": {
    "collapsed": false
   },
   "id": "e534a6cd4fe71955"
  },
  {
   "cell_type": "code",
   "outputs": [],
   "source": [
    "\n",
    "# Extract a single pa\n",
    "from neuralmonkey.classes.population_mult import extract_single_pa\n",
    "pa = extract_single_pa(DFallpa, bregion, twind, which_level, event)\n",
    "\n",
    "# Extract data\n",
    "X, _, pathis, _ = pa.dataextract_state_space_decode_flex(twind_overall, tbin_dur, tbin_slide, reshape_method,\n",
    "                                                   pca_reduce=True, pca_frac_var_keep=pca_frac_var_keep)\n",
    "dflab = pathis.Xlabels[\"trials\"]\n",
    "\n",
    "Xredu, reducer = dimredgood_nonlinear_embed_data(X, METHOD=METHOD, n_components=2, tsne_perp=tsne_perp, umap_n_neighbors=umap_n_neighbors)\n",
    "# Xredu = dimredgood_nonlinear_embed_data(X, METHOD=METHOD, n_components=2, tsne_perp=\"auto\", umap_n_neighbors=\"auto\")\n",
    "\n",
    "# for var_color, var_subplot in list_var_color_var_subplot:\n",
    "#     from neuralmonkey.analyses.state_space_good import trajgood_plot_colorby_splotby_scalar_WRAPPER\n",
    "#     trajgood_plot_colorby_splotby_scalar_WRAPPER(Xredu, dflab, var_color, savedir,\n",
    "#                              vars_subplot=var_subplot, list_dims=[(0,1)])\n",
    "\n",
    "\n",
    "# 1. sort so that connects lines in order\n",
    "# dflab_sorted = dflab.sort_values(var_color)\n",
    "# connect_means_with_line_levels = [grp[0] for grp in dflab_sorted.groupby(list(var_color))]\n",
    "if isinstance(var_lines, (list, tuple)):\n",
    "    from pythonlib.tools.pandastools import append_col_with_grp_index\n",
    "    dflabthis = append_col_with_grp_index(dflabthis, var_lines, \"_tmp\")\n",
    "    connect_means_with_line_levels = sorted(dflabthis[\"_tmp\"].unique().tolist())\n",
    "else:\n",
    "    connect_means_with_line_levels = sorted(dflabthis[\"var_lines\"].unique().tolist())\n",
    "\n",
    "from neuralmonkey.analyses.state_space_good import trajgood_plot_colorby_splotby_scalar_WRAPPER\n",
    "trajgood_plot_colorby_splotby_scalar_WRAPPER(xthis, dflabthis, var_color, savedir,\n",
    "                         vars_subplot=var_subplot, list_dims=[(0,1)], connect_means_with_line=connect_means_with_line,\n",
    "                                      connect_means_with_line_levels=connect_means_with_line_levels,\n",
    "                                             overlay_mean=True, overlay_mean_var_color=\"chunk_rank\", \n",
    "                                             alpha=0.3)\n"
   ],
   "metadata": {
    "collapsed": false
   },
   "id": "f267e8bc748ae2a6",
   "execution_count": null
  },
  {
   "cell_type": "markdown",
   "source": [
    "### Variations of plot, e.g., taking mean over trials, and so on"
   ],
   "metadata": {
    "collapsed": false
   },
   "id": "baf07b06a3908c6"
  },
  {
   "cell_type": "code",
   "outputs": [],
   "source": [
    "                if False:\n",
    "                    ##### Create meaned data to plot\n",
    "                    effect_vars = [\"seqc_0_shape\", \"seqc_0_loc\", \"shape_is_novel_all\", \"seqc_0_shapesem\", \"seqc_0_locon_binned\", \"seqc_0_angle_binned\"]\n",
    "                    pathis_meaned = pathis.slice_and_agg_wrapper(\"trials\", effect_vars)\n"
   ],
   "metadata": {
    "collapsed": false
   },
   "id": "801ec839e06267b5"
  },
  {
   "cell_type": "code",
   "outputs": [],
   "source": [
    "# Plot a sequence of mean states\n",
    "\n",
    "sequence = [\n",
    "    ()\n",
    "]\n"
   ],
   "metadata": {
    "collapsed": false
   },
   "id": "456ede8765f0ed23"
  },
  {
   "cell_type": "code",
   "outputs": [],
   "source": [
    "%load_ext autoreload\n",
    "%autoreload 2\n"
   ],
   "metadata": {
    "collapsed": false
   },
   "id": "9e2e431dd73be1c5",
   "execution_count": null
  },
  {
   "cell_type": "code",
   "outputs": [],
   "source": [
    "# given a single state, plot its mean and/or scatter.\n",
    "Xin = Xredu.T[:, :, None]\n",
    "pathis_redu = pathis.copy_replacing_X(Xin)"
   ],
   "metadata": {
    "collapsed": false
   },
   "id": "e966e134e7789949",
   "execution_count": null
  },
  {
   "cell_type": "code",
   "outputs": [],
   "source": [
    "_vars = []\n",
    "if isinstance(var_color, (list, tuple)):\n",
    "    _vars += var_color\n",
    "else:\n",
    "    _vars += [var_color]\n",
    "\n",
    "_vars += list(var_subplot)\n",
    "\n",
    "print(_vars)"
   ],
   "metadata": {
    "collapsed": false
   },
   "id": "be99fa3ca0e65f5d",
   "execution_count": null
  },
  {
   "cell_type": "code",
   "outputs": [],
   "source": [
    "list_var_color_var_subplot = []\n",
    "list_var_color_var_subplot.append([(\"chunk_rank\", \"chunk_within_rank\"), (\"taskcat_by_rule\", \"task_kind\")])\n"
   ],
   "metadata": {
    "collapsed": false
   },
   "id": "51da968ffb2963b",
   "execution_count": null
  },
  {
   "cell_type": "code",
   "outputs": [],
   "source": [
    "Xredu.shape"
   ],
   "metadata": {
    "collapsed": false
   },
   "id": "79120f351fcd7fb8",
   "execution_count": null
  },
  {
   "cell_type": "code",
   "outputs": [],
   "source": [],
   "metadata": {
    "collapsed": false
   },
   "id": "cbfa6e276b94a520"
  },
  {
   "cell_type": "code",
   "outputs": [],
   "source": [
    "# Extract data\n",
    "# X, _, pathis, _ = pa.dataextract_state_space_decode_flex(twind_overall, tbin_dur, tbin_slide, reshape_method,\n",
    "#                                                    pca_reduce=True, pca_frac_var_keep=pca_frac_var_keep)\n",
    "# dflab = pathis.Xlabels[\"trials\"]\n",
    "# \n",
    "# \n",
    "# Xredu, reducer = dimredgood_nonlinear_embed_data(X, METHOD=METHOD, n_components=2, tsne_perp=tsne_perp, umap_n_neighbors=umap_n_neighbors)\n",
    "# Xredu = dimredgood_nonlinear_embed_data(X, METHOD=METHOD, n_components=2, tsne_perp=\"auto\", umap_n_neighbors=\"auto\")\n",
    "\n",
    "connect_means_with_line = True\n",
    "var_color = [\"chunk_rank\", \"chunk_within_rank\"]\n",
    "var_subplot = [\"taskcat_by_rule\", \"task_kind\"]\n",
    "var_lines = [\"chunk_rank\", \"chunk_within_rank\"]\n",
    "\n",
    "\n",
    "# Extract data\n",
    "# Extract a single pa\n",
    "from neuralmonkey.classes.population_mult import extract_single_pa\n",
    "pa = extract_single_pa(DFallpa, bregion, twind, which_level, event)\n",
    "\n",
    "# Extract data\n",
    "X, _, pathis, _ = pa.dataextract_state_space_decode_flex(twind_overall, tbin_dur, tbin_slide, reshape_method,\n",
    "                                                   pca_reduce=True, pca_frac_var_keep=pca_frac_var_keep)\n",
    "dflab = pathis.Xlabels[\"trials\"]\n",
    "\n",
    "if False:\n",
    "    # UMAP\n",
    "    Xredu, reducer = dimredgood_nonlinear_embed_data(X, METHOD=METHOD, n_components=2, tsne_perp=tsne_perp, umap_n_neighbors=umap_n_neighbors)\n",
    "elif False:\n",
    "    # PCA\n",
    "    from neuralmonkey.analyses.state_space_good import dimredgood_pca\n",
    "    Xredu, Xpca, pca = dimredgood_pca(X, n_components=2)\n",
    "    Xredu = Xredu[:, [2,3]]\n",
    "\n",
    "if False:\n",
    "    # given a single state, plot its mean and/or scatter.\n",
    "    Xin = Xredu.T[:, :, None]\n",
    "    pathis_redu = pathis.copy_replacing_X(Xin)\n",
    "    \n",
    "    # Take average embedding over vars\n",
    "    _vars = []\n",
    "    if isinstance(var_color, (list, tuple)):\n",
    "        _vars += var_color\n",
    "    else:\n",
    "        _vars += [var_color]\n",
    "    _vars += list(var_subplot)\n",
    "    pa_agg = pathis_redu.slice_and_agg_wrapper(\"trials\", _vars)\n",
    "    \n",
    "    # Extract one datapt per condition (trial-averaged)\n",
    "    dflabthis = pa_agg.Xlabels[\"trials\"]\n",
    "    xthis = pa_agg.X.squeeze(axis=2).T # (ntrials, ndims)\n",
    "else:\n",
    "    dflabthis = dflab\n",
    "    xthis = Xredu\n",
    "    \n",
    "# 1. sort so that connects lines in order\n",
    "# dflab_sorted = dflab.sort_values(var_color)\n",
    "# connect_means_with_line_levels = [grp[0] for grp in dflab_sorted.groupby(list(var_color))]\n",
    "if isinstance(var_lines, (list, tuple)):\n",
    "    from pythonlib.tools.pandastools import append_col_with_grp_index\n",
    "    dflabthis = append_col_with_grp_index(dflabthis, var_lines, \"_tmp\")\n",
    "    connect_means_with_line_levels = sorted(dflabthis[\"_tmp\"].unique().tolist())\n",
    "else:\n",
    "    connect_means_with_line_levels = sorted(dflabthis[\"var_lines\"].unique().tolist())\n",
    "\n",
    "from neuralmonkey.analyses.state_space_good import trajgood_plot_colorby_splotby_scalar_WRAPPER\n",
    "trajgood_plot_colorby_splotby_scalar_WRAPPER(xthis, dflabthis, var_color, savedir,\n",
    "                         vars_subplot=var_subplot, list_dims=[(0,1)], connect_means_with_line=connect_means_with_line,\n",
    "                                      connect_means_with_line_levels=connect_means_with_line_levels,\n",
    "                                             overlay_mean=True, overlay_mean_var_color=\"chunk_rank\", \n",
    "                                             alpha=0.3)\n"
   ],
   "metadata": {
    "collapsed": false
   },
   "id": "6b969e781bb6ed15",
   "execution_count": null
  },
  {
   "cell_type": "code",
   "outputs": [],
   "source": [
    "from neuralmonkey.scripts.analyquick_dpca_script_substrokes import dpca_compute_pa_to_space\n",
    "from neuralmonkey.analyses.rsa import preprocess_rsa_prepare_popanal_wrapper\n",
    "\n"
   ],
   "metadata": {
    "collapsed": false
   },
   "id": "ee4e86967bedf5de",
   "execution_count": null
  },
  {
   "cell_type": "code",
   "outputs": [],
   "source": [
    "# effect_vars = [\"chunk_rank\", \"chunk_within_rank\", \"taskcat_by_rule\", \"task_kind\"]\n",
    "# pa, res_check_tasksets, res_check_effectvars = preprocess_rsa_prepare_popanal_wrapper(pa, effect_vars, False, False, 1, 20)\n",
    "\n",
    "# if effect_vars == [\"shape\"]:\n",
    "#     marginalization=\"s\"\n",
    "# elif effect_vars == [\"dist_angle\"]:\n",
    "#     marginalization=\"m\"\n",
    "# else:\n",
    "#     assert False\n",
    "\n",
    "# Compute dPCs, and project data.\n",
    "keep_all_margs = True\n",
    "dpca, Z, R, trialR, map_var_to_lev, map_grp_to_idx, params_dpca, panorm = dpca_compute_pa_to_space(pa, effect_vars, keep_all_margs=keep_all_margs)\n"
   ],
   "metadata": {
    "collapsed": false
   },
   "id": "cceb0d758a764dd3",
   "execution_count": null
  },
  {
   "cell_type": "code",
   "outputs": [],
   "source": [
    "Xredu"
   ],
   "metadata": {
    "collapsed": false
   },
   "id": "52d748dd6810e1cf",
   "execution_count": null
  },
  {
   "cell_type": "markdown",
   "source": [
    "# Comparing to PCA and dPCA"
   ],
   "metadata": {
    "collapsed": false
   },
   "id": "1ffe02c4207bbf19"
  },
  {
   "cell_type": "markdown",
   "source": [
    "# SCRATCH - loading old DFallpa (for Dolnik, checking bug)"
   ],
   "metadata": {
    "collapsed": false
   },
   "id": "4599c701151e0f8b"
  },
  {
   "cell_type": "code",
   "outputs": [],
   "source": [
    "import pandas as pd\n",
    "# path = \"/home/lucas/Dropbox/SCIENCE/FREIWALD_LAB/DATA/Dolnik/CORRUPTED/DFallpa.pkl\"\n",
    "path = \"/home/lucas/Dropbox/SCIENCE/FREIWALD_LAB/DATA/Dolnik/DFallpa_KS.pkl\"\n",
    "# path = \"/home/lucas/Dropbox/SCIENCE/FREIWALD_LAB/DATA/Dolnik/DFallpa_raw.pkl\"\n",
    "# path = \"/home/lucas/Dropbox/SCIENCE/FREIWALD_LAB/DATA/Dolnik/DFallpa_2.pkl\"\n",
    "# path = \"/home/lucas/Dropbox/SCIENCE/FREIWALD_LAB/DATA/Dolnik/DFallpa_3.pkl\"\n",
    "# path = \"/home/lucas/Dropbox/SCIENCE/FREIWALD_LAB/DATA/Dolnik/DFallpa_4.pkl\"\n",
    "# path = \"/home/lucas/Dropbox/SCIENCE/FREIWALD_LAB/DATA/for_xuan/DFallpa_shape_loc_Pancho_220715.pkl\"\n",
    "DFallpa = pd.read_pickle(path)"
   ],
   "metadata": {
    "collapsed": false,
    "ExecuteTime": {
     "end_time": "2024-03-26T19:59:14.657793118Z",
     "start_time": "2024-03-26T19:59:14.536099147Z"
    }
   },
   "id": "caf14cc1d0ecdcf0",
   "execution_count": 1
  },
  {
   "cell_type": "code",
   "outputs": [
    {
     "data": {
      "text/plain": "     bregion    event\n0       M1_m  03_samp\n1       M1_l  03_samp\n2      PMv_l  03_samp\n3      PMv_m  03_samp\n4      PMd_p  03_samp\n5      PMd_a  03_samp\n6    dlPFC_a  03_samp\n7    vlPFC_p  03_samp\n8    vlPFC_a  03_samp\n9       FP_p  03_samp\n10      FP_a  03_samp\n11     SMA_p  03_samp\n12     SMA_a  03_samp\n13  preSMA_p  03_samp\n14  preSMA_a  03_samp",
      "text/html": "<div>\n<style scoped>\n    .dataframe tbody tr th:only-of-type {\n        vertical-align: middle;\n    }\n\n    .dataframe tbody tr th {\n        vertical-align: top;\n    }\n\n    .dataframe thead th {\n        text-align: right;\n    }\n</style>\n<table border=\"1\" class=\"dataframe\">\n  <thead>\n    <tr style=\"text-align: right;\">\n      <th></th>\n      <th>bregion</th>\n      <th>event</th>\n    </tr>\n  </thead>\n  <tbody>\n    <tr>\n      <th>0</th>\n      <td>M1_m</td>\n      <td>03_samp</td>\n    </tr>\n    <tr>\n      <th>1</th>\n      <td>M1_l</td>\n      <td>03_samp</td>\n    </tr>\n    <tr>\n      <th>2</th>\n      <td>PMv_l</td>\n      <td>03_samp</td>\n    </tr>\n    <tr>\n      <th>3</th>\n      <td>PMv_m</td>\n      <td>03_samp</td>\n    </tr>\n    <tr>\n      <th>4</th>\n      <td>PMd_p</td>\n      <td>03_samp</td>\n    </tr>\n    <tr>\n      <th>5</th>\n      <td>PMd_a</td>\n      <td>03_samp</td>\n    </tr>\n    <tr>\n      <th>6</th>\n      <td>dlPFC_a</td>\n      <td>03_samp</td>\n    </tr>\n    <tr>\n      <th>7</th>\n      <td>vlPFC_p</td>\n      <td>03_samp</td>\n    </tr>\n    <tr>\n      <th>8</th>\n      <td>vlPFC_a</td>\n      <td>03_samp</td>\n    </tr>\n    <tr>\n      <th>9</th>\n      <td>FP_p</td>\n      <td>03_samp</td>\n    </tr>\n    <tr>\n      <th>10</th>\n      <td>FP_a</td>\n      <td>03_samp</td>\n    </tr>\n    <tr>\n      <th>11</th>\n      <td>SMA_p</td>\n      <td>03_samp</td>\n    </tr>\n    <tr>\n      <th>12</th>\n      <td>SMA_a</td>\n      <td>03_samp</td>\n    </tr>\n    <tr>\n      <th>13</th>\n      <td>preSMA_p</td>\n      <td>03_samp</td>\n    </tr>\n    <tr>\n      <th>14</th>\n      <td>preSMA_a</td>\n      <td>03_samp</td>\n    </tr>\n  </tbody>\n</table>\n</div>"
     },
     "execution_count": 11,
     "metadata": {},
     "output_type": "execute_result"
    }
   ],
   "source": [
    "DFallpa.loc[:, [\"bregion\", \"event\"]]"
   ],
   "metadata": {
    "collapsed": false,
    "ExecuteTime": {
     "end_time": "2024-03-26T20:06:53.737559963Z",
     "start_time": "2024-03-26T20:06:53.693083676Z"
    }
   },
   "id": "ac896928406eb372",
   "execution_count": 11
  },
  {
   "cell_type": "code",
   "outputs": [
    {
     "name": "stdout",
     "output_type": "stream",
     "text": [
      "(424, 9)\n",
      "fig: /tmp/ind2/color=seqc_0_shape-sub=seqc_0_loc-dims=(0, 1).pdf\n",
      "Saving ...  /tmp/ind2/color=seqc_0_shape-sub=seqc_0_loc-dims=(0, 1).pdf\n"
     ]
    }
   ],
   "source": [
    "# for ind in range(len(DFallpa)):\n",
    "SORT_DFLAB_BY_TRIALCODE = False\n",
    "ind = 2\n",
    "var = \"seqc_0_shape\"\n",
    "var_others = [\"seqc_0_loc\"]\n",
    "chans_keep = [1058,  1059, 1063, 1067, 1070, 1080, 1093, 1090, 1089, 1087, 1086, 1082, 1078, 1076]\n",
    "\n",
    "# ind = 6\n",
    "# var = \"seqc_0_loc\"\n",
    "# var_others = [\"seqc_0_shape\"]\n",
    "\n",
    "pa = DFallpa[\"pa\"].values[ind]\n",
    "X = pa.X\n",
    "dflab = pa.Xlabels[\"trials\"]\n",
    "\n",
    "if chans_keep is not None and len(chans_keep)>0:\n",
    "    indskeep = [i for i, c in enumerate(pa.Chans) if c in chans_keep]\n",
    "    X = X[indskeep, :, :]\n",
    "\n",
    "if SORT_DFLAB_BY_TRIALCODE:\n",
    "    def F(x):\n",
    "        return [trialcode_to_tuple(tc) for tc in x]\n",
    "    \n",
    "    # sort by trialcode... is this was messed things up?\n",
    "    def trialcode_to_tuple(tc):\n",
    "        from pythonlib.tools.stringtools import decompose_string\n",
    "        a,b,c = decompose_string(tc)\n",
    "        return (int(a), int(b), int(c))\n",
    "    \n",
    "    dflab = dflab.sort_values(\"trialcode\", axis=0, key=F).copy().reset_index(drop=True)\n",
    "\n",
    "import numpy as np\n",
    "from neuralmonkey.analyses.state_space_good import trajgood_construct_df_from_raw, trajgood_plot_colorby_splotby, dimredgood_pca, trajgood_plot_colorby_splotby_scalar_WRAPPER\n",
    "    \n",
    "import os\n",
    "savedir = f\"/tmp/ind{ind}\"\n",
    "os.makedirs(savedir, exist_ok=True)\n",
    "\n",
    "Xscal = np.mean(X[:, :, 90:150], axis=2)\n",
    "Xpcakeep, Xpca, pca = dimredgood_pca(Xscal.T, method=\"sklearn\")\n",
    "print(Xpcakeep.shape)\n",
    "trajgood_plot_colorby_splotby_scalar_WRAPPER(Xpcakeep, dflab, var, savedir, vars_subplot=var_others)"
   ],
   "metadata": {
    "collapsed": false,
    "ExecuteTime": {
     "end_time": "2024-03-26T20:05:50.702586569Z",
     "start_time": "2024-03-26T20:05:50.385539128Z"
    }
   },
   "id": "db41381923bfebf2",
   "execution_count": 10
  },
  {
   "cell_type": "code",
   "outputs": [],
   "source": [
    "dflab[\"trialcode\"]"
   ],
   "metadata": {
    "collapsed": false
   },
   "id": "75dc5672dbfb3db2",
   "execution_count": null
  },
  {
   "cell_type": "code",
   "outputs": [
    {
     "data": {
      "text/plain": "array([0.105, 0.115, 0.125, 0.135, 0.145, 0.155, 0.165, 0.175, 0.185,\n       0.195, 0.205, 0.215, 0.225, 0.235, 0.245, 0.255, 0.265, 0.275,\n       0.285, 0.295, 0.305, 0.315, 0.325, 0.335, 0.345, 0.355, 0.365,\n       0.375, 0.385, 0.395, 0.405, 0.415, 0.425, 0.435, 0.445, 0.455,\n       0.465, 0.475, 0.485, 0.495, 0.505, 0.515, 0.525, 0.535, 0.545,\n       0.555, 0.565, 0.575, 0.585, 0.595, 0.605, 0.615, 0.625, 0.635,\n       0.645, 0.655, 0.665, 0.675, 0.685, 0.695])"
     },
     "execution_count": 13,
     "metadata": {},
     "output_type": "execute_result"
    }
   ],
   "source": [
    "pa.Times[90:150]\n"
   ],
   "metadata": {
    "collapsed": false,
    "ExecuteTime": {
     "end_time": "2024-03-26T20:07:09.754600411Z",
     "start_time": "2024-03-26T20:07:09.745396731Z"
    }
   },
   "id": "e499a529e622de7d",
   "execution_count": 13
  },
  {
   "cell_type": "code",
   "outputs": [],
   "source": [
    "indskeep = [i for i, c in enumerate(pa.Chans) if c in chans_keep]\n",
    "X = X[indskeep, :, :]\n",
    "\n"
   ],
   "metadata": {
    "collapsed": false,
    "ExecuteTime": {
     "end_time": "2024-03-26T20:03:04.546042954Z",
     "start_time": "2024-03-26T20:03:04.541420475Z"
    }
   },
   "id": "6e35bf52b16dafea",
   "execution_count": 7
  },
  {
   "cell_type": "code",
   "outputs": [
    {
     "data": {
      "text/plain": "array([[0.18995, 0.07176, 0.23217, 1.     ],\n       [0.24427, 0.60937, 0.99697, 1.     ],\n       [0.27597, 0.97092, 0.51653, 1.     ],\n       [0.88331, 0.86553, 0.21719, 1.     ],\n       [0.94084, 0.35566, 0.07031, 1.     ],\n       [0.4796 , 0.01583, 0.01055, 1.     ]])"
     },
     "execution_count": 16,
     "metadata": {},
     "output_type": "execute_result"
    },
    {
     "data": {
      "text/plain": "<Figure size 640x480 with 1 Axes>",
      "image/png": "[encoded data removed]"
     },
     "metadata": {},
     "output_type": "display_data"
    }
   ],
   "source": [
    "import matplotlib.pyplot as plt\n",
    "fig, ax = plt.subplots()\n",
    "pa.plotwrapper_smoothed_fr_split_by_label(\"trials\", \"seqc_0_shape\", ax=ax, chan=1058)"
   ],
   "metadata": {
    "collapsed": false,
    "ExecuteTime": {
     "end_time": "2024-03-26T20:08:42.017224708Z",
     "start_time": "2024-03-26T20:08:41.832034022Z"
    }
   },
   "id": "ce393df0c88e5a0",
   "execution_count": 16
  },
  {
   "cell_type": "markdown",
   "source": [
    "##### Dolnik version (raw)"
   ],
   "metadata": {
    "collapsed": false
   },
   "id": "ccc7bcb479e4b220"
  },
  {
   "cell_type": "code",
   "outputs": [],
   "source": [
    "X = DFallpa[\"DATA_chan_trial_time\"].values[ind]\n",
    "dflab = DFallpa[\"labels\"].values[ind]\n",
    "chans = DFallpa[\"chans\"].values[ind]\n",
    "times = DFallpa[\"times\"].values[ind]\n",
    "trials = DFallpa[\"trials\"].values[ind]\n"
   ],
   "metadata": {
    "collapsed": false
   },
   "id": "aa945600abd0397",
   "execution_count": null
  },
  {
   "cell_type": "code",
   "outputs": [],
   "source": [],
   "metadata": {
    "collapsed": false
   },
   "id": "fe18ab6e5570b230"
  },
  {
   "cell_type": "code",
   "outputs": [],
   "source": [
    "X.shape"
   ],
   "metadata": {
    "collapsed": false
   },
   "id": "21b938dfd934553d"
  },
  {
   "cell_type": "code",
   "outputs": [],
   "source": [
    "assert X.shape == (len(chans), len(trials), len(times))\n"
   ],
   "metadata": {
    "collapsed": false
   },
   "id": "570e7e3573758ee1",
   "execution_count": null
  },
  {
   "cell_type": "code",
   "outputs": [],
   "source": [
    "print(X.shape)"
   ],
   "metadata": {
    "collapsed": false
   },
   "id": "66cee3417032cdfa",
   "execution_count": null
  },
  {
   "cell_type": "code",
   "outputs": [],
   "source": [
    "vars = [\"seqc_0_shape\", \"seqc_0_loc\"]\n",
    "labels = [tuple(x) for x in dflab.loc[:, vars].values]"
   ],
   "metadata": {
    "collapsed": false
   },
   "id": "e27a9260a134d983",
   "execution_count": null
  },
  {
   "cell_type": "code",
   "outputs": [],
   "source": [],
   "metadata": {
    "collapsed": false
   },
   "id": "dab661618cd71cf2",
   "execution_count": null
  },
  {
   "cell_type": "code",
   "outputs": [],
   "source": [
    "from neuralmonkey.analyses.state_space_good import trajgood_construct_df_from_raw, trajgood_plot_colorby_splotby, dimredgood_pca, trajgood_plot_colorby_splotby_scalar_WRAPPER"
   ],
   "metadata": {
    "collapsed": false
   },
   "id": "9cd253e720e8378c",
   "execution_count": null
  },
  {
   "cell_type": "code",
   "outputs": [],
   "source": [
    "\n",
    "df = trajgood_construct_df_from_raw(X, times, labels, vars)\n",
    "trajgood_plot_colorby_splotby(df, vars[0], vars[1], dims=(4,5), time_bin_size=0.1)\n"
   ],
   "metadata": {
    "collapsed": false
   },
   "id": "7e6e8c0a8b85b761",
   "execution_count": null
  },
  {
   "cell_type": "markdown",
   "source": [
    "##### Plot scalars"
   ],
   "metadata": {
    "collapsed": false
   },
   "id": "f7807febd671c8c0"
  },
  {
   "cell_type": "code",
   "outputs": [],
   "source": [
    "import numpy as np\n",
    "Xscal = np.mean(X[:, :, 90:150], axis=2)\n",
    "Xpcakeep, Xpca, pca = dimredgood_pca(Xscal.T, method=\"sklearn\")\n",
    "Xpcakeep.shape"
   ],
   "metadata": {
    "collapsed": false
   },
   "id": "745ff2449fbf3642",
   "execution_count": null
  },
  {
   "cell_type": "code",
   "outputs": [],
   "source": [
    "trajgood_plot_colorby_splotby_scalar_WRAPPER(Xpcakeep, dflab, \"seqc_0_shape\", \"/tmp\", vars_subplot=[\"seqc_0_loc\"])"
   ],
   "metadata": {
    "collapsed": false
   },
   "id": "61e7dbda13ccc8b",
   "execution_count": null
  },
  {
   "cell_type": "markdown",
   "source": [
    "##### Using pa version"
   ],
   "metadata": {
    "collapsed": false
   },
   "id": "8693c369a893b29c"
  },
  {
   "cell_type": "code",
   "outputs": [],
   "source": [
    "ind = 2"
   ],
   "metadata": {
    "collapsed": false
   },
   "id": "ac85a2ca8fbb3dca",
   "execution_count": null
  },
  {
   "cell_type": "code",
   "outputs": [],
   "source": [
    "pa = DFallpa[\"pa\"].values[ind]"
   ],
   "metadata": {
    "collapsed": false
   },
   "id": "1e87fe4bcf385c65",
   "execution_count": null
  },
  {
   "cell_type": "code",
   "outputs": [],
   "source": [
    "X = pa.X\n",
    "dflab = pa.Xlabels[\"trials\"]"
   ],
   "metadata": {
    "collapsed": false
   },
   "id": "c4b1dfdff28a34d0",
   "execution_count": null
  },
  {
   "cell_type": "code",
   "outputs": [],
   "source": [
    "X.shape"
   ],
   "metadata": {
    "collapsed": false
   },
   "id": "57a619ade55216a7",
   "execution_count": null
  },
  {
   "cell_type": "code",
   "outputs": [],
   "source": [
    "dflab[\"seqc_0_shape\"]"
   ],
   "metadata": {
    "collapsed": false
   },
   "id": "ecea7e25c76c6b8",
   "execution_count": null
  },
  {
   "cell_type": "code",
   "outputs": [],
   "source": [
    "dflab[\"trialcode\"]"
   ],
   "metadata": {
    "collapsed": false
   },
   "id": "80c58e481b205ebd",
   "execution_count": null
  },
  {
   "cell_type": "code",
   "outputs": [],
   "source": [
    "[col for col in dflab.columns if \"trial\" in col]"
   ],
   "metadata": {
    "collapsed": false
   },
   "id": "48425c9f82db435a",
   "execution_count": null
  },
  {
   "cell_type": "code",
   "outputs": [],
   "source": [
    "pa.Trials"
   ],
   "metadata": {
    "collapsed": false
   },
   "id": "9b7d34970ff1ae89",
   "execution_count": null
  },
  {
   "cell_type": "code",
   "outputs": [],
   "source": [
    "pa.plotwrapper_smoothed_fr_split_by_label(\"trials\", \"seqc_0_shape\")"
   ],
   "metadata": {
    "collapsed": false
   },
   "id": "38ba66a568b56a02",
   "execution_count": null
  }
 ],
 "metadata": {
  "kernelspec": {
   "display_name": "Python 3",
   "language": "python",
   "name": "python3"
  },
  "language_info": {
   "codemirror_mode": {
    "name": "ipython",
    "version": 2
   },
   "file_extension": ".py",
   "mimetype": "text/x-python",
   "name": "python",
   "nbconvert_exporter": "python",
   "pygments_lexer": "ipython2",
   "version": "2.7.6"
  }
 },
 "nbformat": 4,
 "nbformat_minor": 5
}
