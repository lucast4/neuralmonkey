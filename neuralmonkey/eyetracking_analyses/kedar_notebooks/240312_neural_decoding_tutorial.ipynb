{
 "cells": [
  {
   "cell_type": "markdown",
   "id": "948748ba84eaa05a",
   "metadata": {},
   "source": [
    "# Extracting a dataset preprocessed and ready for decoding (and other population analyses)"
   ]
  },
  {
   "cell_type": "markdown",
   "id": "cc158f253fedf4e",
   "metadata": {},
   "source": [
    "### 1. Extract DFallpa using this helper function"
   ]
  },
  {
   "cell_type": "code",
   "execution_count": null,
   "id": "39267aea877f7058",
   "metadata": {
    "ExecuteTime": {
     "end_time": "2024-03-26T22:01:15.451336029Z",
     "start_time": "2024-03-26T22:01:15.444477308Z"
    },
    "scrolled": false
   },
   "outputs": [],
   "source": [
    "%load_ext autoreload\n",
    "%autoreload 2"
   ]
  },
  {
   "cell_type": "code",
   "execution_count": null,
   "id": "654532c9",
   "metadata": {},
   "outputs": [],
   "source": [
    "import pandas as pd\n",
    "import matplotlib.pyplot as plt"
   ]
  },
  {
   "cell_type": "code",
   "execution_count": null,
   "id": "c0933c636c39553c",
   "metadata": {
    "ExecuteTime": {
     "end_time": "2024-03-26T22:01:15.463857338Z",
     "start_time": "2024-03-26T22:01:15.447876657Z"
    }
   },
   "outputs": [],
   "source": [
    "from neuralmonkey.classes.population_mult import dfallpa_extraction_load_wrapper\n",
    "animal = \"Diego\"\n",
    "date = 230628\n",
    "question = \"PIG_BASE_saccade_fix_on_preparation\" # holds variety of prepropoessing steps to clean data, specificalyl for PIG data.\n",
    "list_time_windows = [(-0.6, 0.6)] # to slice data including just within this time window (realtive to events)\n",
    "events_keep = [\"00_fixon\"]\n",
    "combine_into_larger_areas = False\n",
    "which_level = \"saccade_fix_on\"\n",
    "SPIKES_VERSION = \"tdt\""
   ]
  },
  {
   "cell_type": "code",
   "execution_count": null,
   "id": "2ba462b7d4142daf",
   "metadata": {
    "ExecuteTime": {
     "end_time": "2024-03-26T22:04:34.586970807Z",
     "start_time": "2024-03-26T22:04:17.623115516Z"
    },
    "scrolled": true
   },
   "outputs": [],
   "source": [
    "# one way of doing it, but does not yet use SP._addSaccadeFixationColumns\n",
    "# DFallpa = dfallpa_extraction_load_wrapper(animal, date, question, list_time_windows,\n",
    "#                                     which_level=which_level,\n",
    "#                                     events_keep = events_keep,\n",
    "#                                     combine_into_larger_areas=combine_into_larger_areas,\n",
    "#                                     HACK_RENAME_SHAPES=False,\n",
    "#                                           SPIKES_VERSION=SPIKES_VERSION)"
   ]
  },
  {
   "cell_type": "markdown",
   "id": "74be3cec272bb96f",
   "metadata": {},
   "source": [
    "### For the above to work, you need to make the following work first"
   ]
  },
  {
   "cell_type": "code",
   "execution_count": null,
   "id": "653cee741f311a",
   "metadata": {
    "ExecuteTime": {
     "end_time": "2024-03-26T22:02:46.914368307Z",
     "start_time": "2024-03-26T22:01:18.780929749Z"
    },
    "scrolled": true
   },
   "outputs": [],
   "source": [
    "from neuralmonkey.classes.snippets import load_and_concat_mult_snippets\n",
    "from neuralmonkey.classes.session import load_mult_session_helper\n",
    "\n",
    "# You need to add to the code to have it generate snippets aligned to saccade fixations.\n",
    "# You can come up with a new \"which_level\", e.g., \n",
    "which_level = \"saccade_fix_on\"\n",
    "\n",
    "MS = load_mult_session_helper(date, animal, spikes_version=SPIKES_VERSION)\n",
    "# for sn in MS.SessionsList:\n",
    "#     sn.debug_mode_switch_to(sites=True,trials=True)"
   ]
  },
  {
   "cell_type": "code",
   "execution_count": null,
   "id": "2ed726bf05640005",
   "metadata": {
    "ExecuteTime": {
     "end_time": "2024-03-26T22:02:50.609047482Z",
     "start_time": "2024-03-26T22:02:46.896487042Z"
    },
    "scrolled": true
   },
   "outputs": [],
   "source": [
    "SP, SAVEDIR_ALL = load_and_concat_mult_snippets(MS, which_level = which_level, events_keep=events_keep)"
   ]
  },
  {
   "cell_type": "code",
   "execution_count": null,
   "id": "0d685838",
   "metadata": {
    "scrolled": true
   },
   "outputs": [],
   "source": [
    "ANALY_VER=\"seqcontext\"\n",
    "effect_vars = [\"seqc_0_shape\"]\n",
    "\n",
    "# Run this early, before run further pruning stuff.\n",
    "SP.datamod_append_outliers()\n",
    "\n",
    "D, list_features_extraction = SP.datasetbeh_preprocess_clean_by_expt(\n",
    "    ANALY_VER=ANALY_VER, vars_extract_append=effect_vars,\n",
    "    substrokes_plot_preprocess=False,\n",
    "    HACK_RENAME_SHAPES=False)"
   ]
  },
  {
   "cell_type": "code",
   "execution_count": null,
   "id": "6df41070f436c5ac",
   "metadata": {
    "ExecuteTime": {
     "end_time": "2024-03-26T22:03:59.363161407Z",
     "start_time": "2024-03-26T22:03:54.399150596Z"
    }
   },
   "outputs": [],
   "source": [
    "# use SP to test _addSaccadeFixationColumns()\n",
    "SP._addSaccadeFixationColumns()"
   ]
  },
  {
   "cell_type": "code",
   "execution_count": null,
   "id": "9e3fc91e",
   "metadata": {},
   "outputs": [],
   "source": [
    "# Prune DFscalar -- keep only those within plannig period, and first fixation\n",
    "print(\"Len DfScalar before remove unneeded rows: \", len(SP.DfScalar))\n",
    "SP.DfScalar = SP.DfScalar[(SP.DfScalar[\"between-stimonset-and-go\"] == True) & (SP.DfScalar[\"first-fixation-on-shape\"]==True) & (SP.DfScalar[\"shape-fixation\"]!='OFFSCREEN')].reset_index(drop=True)\n",
    "print(\"Len DfScalar after remove unneeded rows: \", len(SP.DfScalar))"
   ]
  },
  {
   "cell_type": "code",
   "execution_count": null,
   "id": "a0f3edb1",
   "metadata": {},
   "outputs": [],
   "source": [
    "pd.to_pickle(SP.DfScalar, \"spdfscalar_Diego_230628.pkl\")"
   ]
  },
  {
   "cell_type": "code",
   "execution_count": null,
   "id": "1dd50b9f",
   "metadata": {},
   "outputs": [],
   "source": [
    "# Pull in features that you have not extracted (just in case somehow was skipped above)\n",
    "assert(SP.datasetbeh_append_column_helper(list_features_extraction))"
   ]
  },
  {
   "cell_type": "code",
   "execution_count": null,
   "id": "4218039d",
   "metadata": {},
   "outputs": [],
   "source": [
    "# Add the features(variables) that you want to extract, related to saccades\n",
    "list_features_extraction_sacc = [\"seqc_0_shape\", \"seqc_0_loc\", \"seqc_1_shape\", \"seqc_1_loc\", \n",
    "                            \"seqc_2_shape\", \"seqc_2_loc\", \"seqc_3_shape\", \"seqc_3_loc\",\n",
    "                            \"seqc_0_loc_on_clust\", \"seqc_1_loc_on_clust\", \"seqc_2_loc_on_clust\", \"seqc_3_loc_on_clust\",\n",
    "                            \"trial_neural\", \"event_idx_within_trial\", \"between-stimonset-and-go\",\n",
    "                            \"early-or-late-planning-period\", \"fixation-centroid\",\n",
    "                            \"shape-fixation\", \"loc-fixation\", \"first-fixation-on-shape\",\n",
    "                            \"shape-macrosaccade-index\", \"saccade-dir-angle\", \"saccade-dir-angle-bin\",\n",
    "                            \"is-fixated-on-seqc0shape\", \"prev-shape-fixation\", \"prev-loc-fixation\"] + list_features_extraction"
   ]
  },
  {
   "cell_type": "code",
   "execution_count": null,
   "id": "98005fd0",
   "metadata": {},
   "outputs": [],
   "source": [
    "# For each desired feat, ensure it is in SP\n",
    "for feat in list_features_extraction_sacc:\n",
    "    assert feat in SP.DfScalar.columns"
   ]
  },
  {
   "cell_type": "code",
   "execution_count": null,
   "id": "2d52ee0c",
   "metadata": {},
   "outputs": [],
   "source": [
    "# examine SP before last step of saving\n",
    "SP.DfScalar['is-fixated-on-seqc0shape'].value_counts()"
   ]
  },
  {
   "cell_type": "code",
   "execution_count": null,
   "id": "d13df923",
   "metadata": {
    "scrolled": true
   },
   "outputs": [],
   "source": [
    "# Split Snippets into separate PA for each brain region\n",
    "from neuralmonkey.analyses.state_space_good import snippets_extract_popanals_split_bregion_twind\n",
    "\n",
    "exclude_bad_areas = True\n",
    "\n",
    "## Extract all popanals\n",
    "DFallpa = snippets_extract_popanals_split_bregion_twind(SP, list_time_windows,\n",
    "                                                list_features_extraction_sacc,\n",
    "                                                combine_into_larger_areas=combine_into_larger_areas,\n",
    "                                                events_keep=events_keep,\n",
    "                                                exclude_bad_areas=exclude_bad_areas)\n",
    "\n",
    "\n",
    "pd.to_pickle(DFallpa, \"dfallpa_Diego_230628.pkl\")"
   ]
  },
  {
   "cell_type": "markdown",
   "id": "8e73b8c7",
   "metadata": {},
   "source": [
    "### optionally, just load in"
   ]
  },
  {
   "cell_type": "code",
   "execution_count": null,
   "id": "b6385503",
   "metadata": {},
   "outputs": [],
   "source": [
    "# re-load in if not running again\n",
    "path=\"/home/kgg/Desktop/neuralmonkey/neuralmonkey/notebooks_tutorials/dfallpa_Pancho_230623.pkl\"\n",
    "DFallpa = pd.read_pickle(path)"
   ]
  },
  {
   "cell_type": "markdown",
   "id": "9d526770",
   "metadata": {},
   "source": [
    "### normalize activity"
   ]
  },
  {
   "cell_type": "code",
   "execution_count": null,
   "id": "ae1b8620",
   "metadata": {},
   "outputs": [],
   "source": [
    "# Normalize activity optionally\n",
    "\n",
    "fr_normalization_method = \"each_time_bin\"\n",
    "\n",
    "if fr_normalization_method is not None:\n",
    "    if fr_normalization_method==\"each_time_bin\":\n",
    "        # Then demean in each time bin indepednently\n",
    "        subtract_mean_at_each_timepoint = True\n",
    "        subtract_mean_across_time_and_trial = False\n",
    "    elif fr_normalization_method==\"across_time_bins\":\n",
    "        # ALl time bins subtract the same scalar --> maintains temporal moudlation.\n",
    "        subtract_mean_at_each_timepoint = False\n",
    "        subtract_mean_across_time_and_trial = True\n",
    "    else:\n",
    "        print(fr_normalization_method)\n",
    "        assert False\n",
    "\n",
    "    from neuralmonkey.analyses.state_space_good import popanal_preprocess_scalar_normalization\n",
    "    list_panorm = []\n",
    "\n",
    "    for i, pa in enumerate(DFallpa[\"pa\"].tolist()):\n",
    "        path_to_save_example_fr_normalization = None\n",
    "        if path_to_save_example_fr_normalization is not None and i==0:\n",
    "            plot_example_chan_number = pa.Chans[0]\n",
    "            if which_level==\"trial\":\n",
    "                plot_example_split_var_string = \"seqc_0_shape\"\n",
    "            elif which_level==\"stroke\":\n",
    "                plot_example_split_var_string = \"shape\"\n",
    "            else:\n",
    "                plot_example_split_var_string = q_params[\"effect_vars\"][0]\n",
    "        else:\n",
    "            plot_example_chan_number = None\n",
    "            plot_example_split_var_string = None\n",
    "        PAnorm, PAscal, PAscalagg, fig, axes, groupdict = popanal_preprocess_scalar_normalization(pa, None,\n",
    "                                                                                          DO_AGG_TRIALS=False,\n",
    "                                                                                          plot_example_chan_number=plot_example_chan_number,\n",
    "                                                                                            plot_example_split_var_string = plot_example_split_var_string,\n",
    "                                                                                          subtract_mean_at_each_timepoint=subtract_mean_at_each_timepoint,\n",
    "                                                                                          subtract_mean_across_time_and_trial=subtract_mean_across_time_and_trial)\n",
    "        if path_to_save_example_fr_normalization is not None and i==0:\n",
    "            savefig(fig, path_to_save_example_fr_normalization)\n",
    "        list_panorm.append(PAnorm)\n",
    "    DFallpa[\"pa\"] = list_panorm\n"
   ]
  },
  {
   "cell_type": "markdown",
   "id": "906436fac11f6aa1",
   "metadata": {},
   "source": [
    "\n",
    "# Quick description of DFallpa"
   ]
  },
  {
   "cell_type": "code",
   "execution_count": null,
   "id": "9bff6f736db37b6a",
   "metadata": {},
   "outputs": [],
   "source": [
    "DFallpa"
   ]
  },
  {
   "cell_type": "markdown",
   "id": "5fb481195588728c",
   "metadata": {},
   "source": [
    "DFallpa holds population activity for each brain region. Each row is a single region. Each row has a \"pa\" object, which holds the population activity.\n",
    "\n",
    "The data is in PA.X, in a matrix shape (nchans, ntrials, ntimes).\n",
    "\n",
    "PA has many methods for manipulating, processing, and visualizing this population data.\n",
    "\n",
    "Here, we will just pass PA into other function that take PA and do analyses, such as decoding.\n",
    "    "
   ]
  },
  {
   "cell_type": "markdown",
   "id": "3ad74ced71be87b",
   "metadata": {},
   "source": [
    "### Example of stuff you can do with PA"
   ]
  },
  {
   "cell_type": "markdown",
   "id": "3173dcc3f0ece3a9",
   "metadata": {},
   "source": [
    "##### Get a PA, just for example"
   ]
  },
  {
   "cell_type": "code",
   "execution_count": null,
   "id": "9f1ff391a15dd07d",
   "metadata": {},
   "outputs": [],
   "source": [
    "pa = DFallpa[\"pa\"].values[0]"
   ]
  },
  {
   "cell_type": "markdown",
   "id": "52ee88d268650a1c",
   "metadata": {},
   "source": [
    "##### WHere the data is stored in pa"
   ]
  },
  {
   "cell_type": "code",
   "execution_count": null,
   "id": "a129c9fce78fbda3",
   "metadata": {},
   "outputs": [],
   "source": [
    "# Neural data (nchans, ntrials, ntimes)\n",
    "pa.X.shape"
   ]
  },
  {
   "cell_type": "code",
   "execution_count": null,
   "id": "4a0453b84a7a4e3a",
   "metadata": {},
   "outputs": [],
   "source": [
    "# The labels for chans tirals and times\n",
    "print(pa.Times)\n",
    "print(pa.Chans)\n",
    "print(pa.Trials)"
   ]
  },
  {
   "cell_type": "code",
   "execution_count": null,
   "id": "8e09cd7d333786a7",
   "metadata": {
    "scrolled": true
   },
   "outputs": [],
   "source": [
    "# Features associated with trials\n",
    "pa.Xlabels[\"trials\"][:10]"
   ]
  },
  {
   "cell_type": "markdown",
   "id": "b1c1bec7e66e8cc3",
   "metadata": {},
   "source": [
    "##### Some data manipulation"
   ]
  },
  {
   "cell_type": "code",
   "execution_count": null,
   "id": "9c55845d4e1eeb50",
   "metadata": {},
   "outputs": [],
   "source": [
    "# 1. First slice to time winodw, then take mean over time, i.e. a single time average\n",
    "twind = (0.1, 0.5)\n",
    "pa_sliced = pa.slice_by_dim_values_wrapper(\"times\", twind)\n",
    "pa_mean = pa_sliced.agg_wrapper(\"times\")\n",
    "\n",
    "print(\"Compare and see that times are binned\")\n",
    "print(\"-- original:\", pa.Times, \"... data shape: \", pa.X.shape)\n",
    "print(\"-- sliced:\", pa_sliced.Times, \"... data shape: \", pa_sliced.X.shape)\n",
    "print(\"-- mean:\", pa_mean.Times, \"... data shape: \", pa_mean.X.shape)\n"
   ]
  },
  {
   "cell_type": "code",
   "execution_count": null,
   "id": "fb6d246ab6cdaa10",
   "metadata": {},
   "outputs": [],
   "source": [
    "# 2. binning time windows\n",
    "binsize = 0.1\n",
    "binslide = 0.1\n",
    "pa_binned = pa.agg_by_time_windows_binned(binsize, binslide)\n",
    "    \n",
    "print(\"Compare and see that times are binned\")\n",
    "print(\"-- original:\", pa.Times, \"... data shape: \", pa.X.shape)\n",
    "print(\"-- sliced:\", pa_binned.Times, \"... data shape: \", pa_binned.X.shape)\n"
   ]
  },
  {
   "cell_type": "markdown",
   "id": "5d3c69e0b0a4121e",
   "metadata": {},
   "source": [
    "##### Some plotting"
   ]
  },
  {
   "cell_type": "code",
   "execution_count": null,
   "id": "c403568c4d97b244",
   "metadata": {},
   "outputs": [],
   "source": [
    "pa.plotNeurHeat(0)"
   ]
  },
  {
   "cell_type": "markdown",
   "id": "5877b358632a06b8",
   "metadata": {},
   "source": [
    "# Decoding"
   ]
  },
  {
   "cell_type": "markdown",
   "id": "fff37d657f60d089",
   "metadata": {},
   "source": [
    "### PREPROCESS - factorize all relevant labels FIRST here.\n"
   ]
  },
  {
   "cell_type": "code",
   "execution_count": null,
   "id": "cb615d9bd803cdec",
   "metadata": {},
   "outputs": [],
   "source": [
    "from neuralmonkey.analyses.decode_good import preprocess_factorize_class_labels_ints\n",
    "MAP_LABELS_TO_INT = preprocess_factorize_class_labels_ints(DFallpa)"
   ]
  },
  {
   "cell_type": "markdown",
   "id": "57c8891950fab6b1",
   "metadata": {},
   "source": [
    "### 1) Default: Time-resolved decoding"
   ]
  },
  {
   "cell_type": "code",
   "execution_count": null,
   "id": "9c93af1f",
   "metadata": {},
   "outputs": [],
   "source": [
    "# simplest model"
   ]
  },
  {
   "cell_type": "code",
   "execution_count": null,
   "id": "8b3cb66c20114a76",
   "metadata": {},
   "outputs": [],
   "source": [
    "SAVEDIR_ANALYSIS = \"/tmp/decoding\"\n",
    "import os"
   ]
  },
  {
   "cell_type": "code",
   "execution_count": null,
   "id": "1101a46250f74d7f",
   "metadata": {
    "scrolled": true
   },
   "outputs": [],
   "source": [
    "SAVEDIR = f\"{SAVEDIR_ANALYSIS}/1_time_resolved\"\n",
    "os.makedirs(SAVEDIR, exist_ok=True)\n",
    "print(SAVEDIR)\n",
    "\n",
    "n_min_trials = 6\n",
    "\n",
    "from neuralmonkey.analyses.decode_good import decodewrap_categorical_timeresolved_singlevar, decodewrapouterloop_categorical_timeresolved\n",
    "\n",
    "# list_vars_decode = [\"seqc_0_shape\", \"seqc_0_loc\"]\n",
    "# list_vars_decode = [\"seqc_0_shape\"]\n",
    "list_vars_decode = [\"seqc_0_shape\"]\n",
    "# list_vars_decode = [\"seqc_2_shape\"]\n",
    "# list_vars_decode = [\"shape_is_novel_all\"]\n",
    "\n",
    "# PARAMS\n",
    "time_bin_size = 0.2 # binsize, to average over to get population vector of neural activity\n",
    "slide = 0.2 # to slide the bin.\n",
    "max_nsplits = 2 # n times to do cross-validation.\n",
    "\n",
    "DFRES = decodewrapouterloop_categorical_timeresolved(DFallpa, list_vars_decode, SAVEDIR, time_bin_size, slide, n_min_trials,\n",
    "                                                     max_nsplits=max_nsplits)\n"
   ]
  },
  {
   "cell_type": "markdown",
   "id": "10eca82d67ced2ee",
   "metadata": {},
   "source": [
    "### 2) Cross-condition decoding"
   ]
  },
  {
   "cell_type": "code",
   "execution_count": null,
   "id": "90e8e0d72bfe2648",
   "metadata": {
    "scrolled": true
   },
   "outputs": [],
   "source": [
    "# For each time bin, decode shape genearlizing across location\n",
    "\n",
    "SAVEDIR = f\"{SAVEDIR_ANALYSIS}/2_cross_condition_decoding\"\n",
    "os.makedirs(SAVEDIR, exist_ok=True)\n",
    "print(SAVEDIR)\n",
    "\n",
    "from neuralmonkey.analyses.decode_good import decodewrap_categorical_timeresolved_cross_condition, decodewrapouterloop_categorical_timeresolved_cross_condition\n",
    "\n",
    "filtdict = None\n",
    "separate_by_task_kind = True\n",
    "\n",
    "# PARAMS\n",
    "\n",
    "# Context\n",
    "list_var_decode = [\n",
    "    \"seqc_0_shape\",\n",
    "    \"shape-fixation\",\n",
    "    \"is-fixated-on-seqc0shape\",\n",
    "    \"is-fixated-on-seqc0shape\",\n",
    "    \"is-fixated-on-seqc0shape\",\n",
    "    \"is-fixated-on-seqc0shape\",\n",
    "]\n",
    "list_vars_conj = [\n",
    "    [\"shape-macrosaccade-index\", \"seqc_0_loc_on_clust\", \"shape-fixation\", \"loc-fixation\", \"task_kind\"],\n",
    "    [\"shape-macrosaccade-index\", \"loc-fixation\", \"seqc_0_shape\", \"seqc_0_loc_on_clust\", \"task_kind\"],\n",
    "    [\"shape-macrosaccade-index\", \"seqc_0_shape\", \"loc-fixation\", \"task_kind\"],\n",
    "    [\"shape-macrosaccade-index\", \"seqc_0_shape\", \"seqc_0_loc_on_clust\", \"task_kind\"],\n",
    "    [\"shape-macrosaccade-index\", \"shape-fixation\", \"loc-fixation\", \"task_kind\"],\n",
    "    [\"shape-macrosaccade-index\", \"shape-fixation\", \"seqc_0_loc_on_clust\", \"task_kind\"],\n",
    "]\n",
    "\n",
    "time_bin_size = 0.2\n",
    "slide = 0.2\n",
    "subtract_mean_vars_conj = False\n",
    "DFRES = decodewrapouterloop_categorical_timeresolved_cross_condition(DFallpa, list_var_decode,\n",
    "                                                     list_vars_conj,\n",
    "                                                     SAVEDIR, time_bin_size=time_bin_size, slide=slide,\n",
    "                                                     subtract_mean_vars_conj=subtract_mean_vars_conj,\n",
    "                                                                     filtdict=filtdict,\n",
    "                                                                     separate_by_task_kind=separate_by_task_kind)\n",
    "\n"
   ]
  },
  {
   "cell_type": "markdown",
   "id": "72262af4ad2fb4fb",
   "metadata": {},
   "source": [
    "### 2b) Within-condition decoding. Separate decoder for each level of other var (then take average over decoders). Useful to controlling for variables"
   ]
  },
  {
   "cell_type": "code",
   "execution_count": null,
   "id": "c394157e7adeb97",
   "metadata": {
    "scrolled": true
   },
   "outputs": [],
   "source": [
    "from neuralmonkey.analyses.decode_good import decodewrapouterloop_categorical_timeresolved_within_condition\n",
    "\n",
    "SAVEDIR = f\"{SAVEDIR_ANALYSIS}/3_within_condition_decoding\"\n",
    "os.makedirs(SAVEDIR, exist_ok=True)\n",
    "print(SAVEDIR)\n",
    "\n",
    "# PARAMS\n",
    "\n",
    "separate_by_task_kind = True\n",
    "\n",
    "# Context\n",
    "# Context\n",
    "# list_var_decode = [\n",
    "#     \"seqc_0_shape\",\n",
    "# ]\n",
    "# list_vars_conj = [\n",
    "#     [\"seqc_0_loc\", \"task_kind\"], # minimal control\n",
    "#     ]\n",
    "filtdict = None\n",
    "# filtdict = {\n",
    "#     \"stroke_index\":[0,3,4,5,6,7,8],\n",
    "# }\n",
    "\n",
    "# RUns\n",
    "max_nsplits = 2\n",
    "time_bin_size = 0.2\n",
    "slide = 0.2\n",
    "\n",
    "# PARAMS\n",
    "DFRES = decodewrapouterloop_categorical_timeresolved_within_condition(DFallpa, list_var_decode,\n",
    "                                                     list_vars_conj,\n",
    "                                                    SAVEDIR, time_bin_size=time_bin_size, slide=slide, filtdict=filtdict,\n",
    "                                                                      separate_by_task_kind=separate_by_task_kind)\n"
   ]
  },
  {
   "cell_type": "markdown",
   "id": "df059cca629d9cbd",
   "metadata": {},
   "source": [
    "# Plots to visualize population activity (e.g, plot neural trajectories in lower dimensions, colored and split by variables of interest)"
   ]
  },
  {
   "cell_type": "code",
   "execution_count": null,
   "id": "3567a259ecd29b9f",
   "metadata": {},
   "outputs": [],
   "source": [
    "DFallpa"
   ]
  },
  {
   "cell_type": "code",
   "execution_count": null,
   "id": "a0fc2bbdebdeac5f",
   "metadata": {},
   "outputs": [],
   "source": [
    "# Do PCA to plot projection to first 2 PCs\n",
    "print(pa.X.shape)\n",
    "print(twind)\n",
    "X, pathis, _, _ = pa.dataextract_state_space_decode_flex(twind, pca_reduce=True)\n",
    "print(X.shape)\n",
    "\n",
    "# does PCA to reduce dimensionality, e.g. if channels are correlated\n",
    "# squash data in twind to single scalar value"
   ]
  },
  {
   "cell_type": "code",
   "execution_count": null,
   "id": "2570632fe730b5c",
   "metadata": {},
   "outputs": [],
   "source": [
    "from neuralmonkey.analyses.state_space_good import trajgood_construct_df_from_raw, trajgood_plot_colorby_splotby\n",
    "from neuralmonkey.classes.population_mult import extract_single_pa\n",
    "\n",
    "DO_PCA = True\n",
    "\n",
    "# Plot an example brain region's data.\n",
    "bregion = \"PMv_m\"\n",
    "twind = (-0.6, 0.6)\n",
    "which_level = \"flex\"\n",
    "event = \"fixon\"\n",
    "pa = extract_single_pa(DFallpa, bregion, twind, which_level, event)\n",
    "\n",
    "# INPUT PARAMS\n",
    "var_color_by = \"seqc_0_shape\"\n",
    "var_subplots = \"loc-fixation\"\n",
    "\n",
    "# Runs\n",
    "\n",
    "# 1) Construct dataframe\n",
    "# df = pa.dataextract_split_by_label_grp_for_statespace(grpvars)\n",
    "grpvars = [var_color_by, var_subplots]\n",
    "if DO_PCA:\n",
    "    X, _, _, _ = pa.dataextract_state_space_decode_flex(twind)\n",
    "    times = [0]\n",
    "else:\n",
    "    X = pa.X # (chans, trials, times)\n",
    "    times = pa.Times\n",
    "labels = pa.Xlabels[\"trials\"].loc[:, grpvars] \n",
    "labelvars = grpvars\n",
    "df = trajgood_construct_df_from_raw(X, times, labels, labelvars)\n",
    "\n",
    "# 2) Plot\n",
    "dims = (0,1) # pairs of dimensions to plot\n",
    "times_to_mark = [0.] # you can mark specific times on the plot. here marks the 0. sec mark.\n",
    "times_to_mark_markers = [\"d\"] # mark with a diamond (\"d\")\n",
    "time_bin_size = 0.05 # to make plot easier to visaulize, you can bin in time.\n",
    "trajgood_plot_colorby_splotby(df, var_color_by, var_subplots, dims, \"traj\", mean_over_trials=True,\n",
    "                              times_to_mark = times_to_mark, times_to_mark_markers = times_to_mark_markers,\n",
    "                              time_bin_size=time_bin_size)"
   ]
  },
  {
   "cell_type": "code",
   "execution_count": null,
   "id": "c59f7ac8",
   "metadata": {},
   "outputs": [],
   "source": [
    "X, _, _, _ = pa.dataextract_state_space_decode_flex(twind)\n",
    "\n",
    "X.shape\n",
    "\n"
   ]
  },
  {
   "cell_type": "code",
   "execution_count": null,
   "id": "07993402",
   "metadata": {},
   "outputs": [],
   "source": [
    "X.shape\n",
    "X = X.squeeze(axis=2).T\n",
    "print(X.shape)"
   ]
  },
  {
   "cell_type": "code",
   "execution_count": null,
   "id": "4e5e9e5f",
   "metadata": {},
   "outputs": [],
   "source": [
    "# plots every tiral os can see distribution\n",
    "from neuralmonkey.analyses.state_space_good import trajgood_plot_colorby_splotby_scalar_WRAPPER\n",
    "var_color=\"seqc_0_shape\"\n",
    "savedir = \"/tmp\"\n",
    "vars_subplot = [\"early-or-late-planning-period\"]\n",
    "\n",
    "X, _, _, _ = pa.dataextract_state_space_decode_flex(twind)\n",
    "\n",
    "X.shape\n",
    "X = X.squeeze(axis=2).T\n",
    "print(X.shape)\n",
    "\n",
    "# pa_pca = pa.copy()\n",
    "# pa_pca.X = X\n",
    "dflab = pa.Xlabels[\"trials\"]\n",
    "\n",
    "\n",
    "trajgood_plot_colorby_splotby_scalar_WRAPPER(X, dflab, var_color, savedir, vars_subplot)"
   ]
  },
  {
   "cell_type": "code",
   "execution_count": null,
   "id": "a62e20bf",
   "metadata": {},
   "outputs": [],
   "source": [
    "print(X.shape)\n",
    "\n",
    "paslice = pa.slice_by_dim_values_wrapper(\"times\", [-0.25, 0.25])\n"
   ]
  },
  {
   "cell_type": "code",
   "execution_count": null,
   "id": "ddba89c1",
   "metadata": {},
   "outputs": [],
   "source": [
    "labels_keep = [sh for sh in paslice.Xlabels[\"trials\"][\"shape-fixation\"].unique() if not sh==\"OFFSCREEN\"]"
   ]
  },
  {
   "cell_type": "code",
   "execution_count": null,
   "id": "c9e050b8",
   "metadata": {},
   "outputs": [],
   "source": [
    "paslice = paslice.slice_by_labels(\"trials\", \"shape-fixation\", labels_keep)\n"
   ]
  },
  {
   "cell_type": "code",
   "execution_count": null,
   "id": "82d81054",
   "metadata": {},
   "outputs": [],
   "source": [
    "paslice.Xlabels[\"trials\"][var_subplots].value_counts()"
   ]
  },
  {
   "cell_type": "code",
   "execution_count": null,
   "id": "8f876a99",
   "metadata": {},
   "outputs": [],
   "source": [
    "paslice.Xlabels[\"trials\"][\"seqc_0_shape\"].value_counts()"
   ]
  },
  {
   "cell_type": "code",
   "execution_count": null,
   "id": "27ffbc835e9b079e",
   "metadata": {},
   "outputs": [],
   "source": [
    "vars_colors = []\n",
    "\n",
    "# Same, but coloring by location\n",
    "\n",
    "var_color_by = \"seqc_0_shape\"\n",
    "# var_color_by = \"shape-fixation\"\n",
    "var_subplots = \"early-or-late-planning-period\"\n",
    "\n",
    "# 1) Construct dataframe\n",
    "# df = pa.dataextract_split_by_label_grp_for_statespace(grpvars)\n",
    "grpvars = [var_color_by, var_subplots]\n",
    "X = paslice.X # (chans, trials, times)\n",
    "labels = paslice.Xlabels[\"trials\"].loc[:, grpvars] \n",
    "labelvars = grpvars\n",
    "df = trajgood_construct_df_from_raw(X, paslice.Times, labels, labelvars)\n",
    "\n",
    "# 2) Plot\n",
    "dims = (0,1) # pairs of dimensions to plot\n",
    "times_to_mark = [0.] # you can mark specific times on the plot. here marks the 0. sec mark.\n",
    "times_to_mark_markers = [\"d\"] # mark with a diamond (\"d\")\n",
    "time_bin_size = 0.02 # to make plot easier to visaulize, you can bin in time.\n",
    "trajgood_plot_colorby_splotby(df, var_color_by, var_subplots, dims, \"traj\", mean_over_trials=True,\n",
    "                              times_to_mark = times_to_mark, times_to_mark_markers = times_to_mark_markers,\n",
    "                              time_bin_size=time_bin_size)"
   ]
  },
  {
   "cell_type": "code",
   "execution_count": null,
   "id": "291e79ef",
   "metadata": {},
   "outputs": [],
   "source": [
    "fig,ax=plt.subplots()\n",
    "paslice.plotwrapper_smoothed_fr_split_by_label(\"trials\", \"seqc_0_shape\", plot_indiv=False, ax=ax, chan=pa.Chans[2])"
   ]
  },
  {
   "cell_type": "code",
   "execution_count": null,
   "id": "fb4976b4",
   "metadata": {},
   "outputs": [],
   "source": []
  }
 ],
 "metadata": {
  "kernelspec": {
   "display_name": "ppmonkey",
   "language": "python",
   "name": "ppmonkey"
  },
  "language_info": {
   "codemirror_mode": {
    "name": "ipython",
    "version": 3
   },
   "file_extension": ".py",
   "mimetype": "text/x-python",
   "name": "python",
   "nbconvert_exporter": "python",
   "pygments_lexer": "ipython3",
   "version": "3.10.14"
  }
 },
 "nbformat": 4,
 "nbformat_minor": 5
}
