{
 "cells": [
  {
   "cell_type": "code",
   "execution_count": null,
   "id": "40205ab5",
   "metadata": {},
   "outputs": [],
   "source": [
    "%load_ext autoreload\n",
    "%autoreload 2"
   ]
  },
  {
   "cell_type": "code",
   "execution_count": 1,
   "id": "6e4af89c",
   "metadata": {},
   "outputs": [],
   "source": [
    "import pandas as pd\n",
    "import numpy as np\n",
    "#path = f\"/home/lucas/Dropbox/SCIENCE/FREIWALD_LAB/DATA/DFallpa_Diego_230929_RULE_BASE_stroke.pkl\"\n",
    "animal = \"Pancho\"\n",
    "date = \"230623\"\n",
    "path = f\"/home/kgg/Desktop/{animal}_{date}_planning_plots/euclidian1/RESULTS/DFRES.pkl\"\n",
    "DFRES = pd.read_pickle(path)"
   ]
  },
  {
   "cell_type": "code",
   "execution_count": 31,
   "id": "88225c5d",
   "metadata": {
    "scrolled": true
   },
   "outputs": [],
   "source": [
    "DFRES['twind_analy'] = DFRES['twind']\n",
    "DFRES['var_var_others'] = DFRES['var'].astype(str) + DFRES['var_others'].astype(str)"
   ]
  },
  {
   "cell_type": "code",
   "execution_count": 12,
   "id": "054af538",
   "metadata": {},
   "outputs": [],
   "source": [
    "from neuralmonkey.scripts.analy_euclidian_dist_pop_script import compute_all_derived_metrics\n",
    "DFRES_ORIG, DFRES_PIVOT_DISTR, DFRES_PIVOT_PAIRWISE, DFRES_PIVOT_YUE, plot_params = compute_all_derived_metrics(DFRES)"
   ]
  },
  {
   "cell_type": "code",
   "execution_count": 15,
   "id": "08655cff",
   "metadata": {},
   "outputs": [
    {
     "data": {
      "text/plain": [
       "0        0.146441\n",
       "1        0.118960\n",
       "2        0.475864\n",
       "3        0.475135\n",
       "4        0.183678\n",
       "           ...   \n",
       "23065    0.253330\n",
       "23066    0.253330\n",
       "23067   -0.046106\n",
       "23068    0.395609\n",
       "23069    0.486346\n",
       "Name: dist_norm_95, Length: 23070, dtype: float64"
      ]
     },
     "execution_count": 15,
     "metadata": {},
     "output_type": "execute_result"
    }
   ],
   "source": [
    "DFRES_ORIG['dist_norm_95']"
   ]
  },
  {
   "cell_type": "code",
   "execution_count": 26,
   "id": "5551e26b",
   "metadata": {},
   "outputs": [],
   "source": [
    "models = DFRES_ORIG['var_var_others'].unique()"
   ]
  },
  {
   "cell_type": "code",
   "execution_count": 36,
   "id": "51df00f2",
   "metadata": {},
   "outputs": [],
   "source": [
    "for m in models:\n",
    "    DFRES_t = DFRES_ORIG[DFRES_ORIG['var_var_others']==m]\n",
    "    bregions = DFRES_t['bregion'].unique()\n",
    "    for b in bregions:\n",
    "        DFRES_tt = DFRES_t[DFRES_t['bregion']==b]\n",
    "        DFRES.loc[(DFRES.var_var_others==m) & (DFRES.bregion==b), 'bregion_mean_dist_norm_95'] = np.mean(DFRES_tt['dist_norm_95'])"
   ]
  },
  {
   "cell_type": "code",
   "execution_count": 37,
   "id": "26df5b30",
   "metadata": {},
   "outputs": [
    {
     "data": {
      "text/plain": [
       "0        0.288638\n",
       "1        0.288638\n",
       "2        0.288638\n",
       "3        0.288638\n",
       "4        0.288638\n",
       "           ...   \n",
       "23065    0.319681\n",
       "23066    0.319681\n",
       "23067    0.319681\n",
       "23068    0.319681\n",
       "23069    0.319681\n",
       "Name: bregion_mean_dist_norm_95, Length: 23070, dtype: float64"
      ]
     },
     "execution_count": 37,
     "metadata": {},
     "output_type": "execute_result"
    }
   ],
   "source": [
    "DFRES['bregion_mean_dist_norm_95']"
   ]
  },
  {
   "cell_type": "code",
   "execution_count": null,
   "id": "d2e46c37",
   "metadata": {},
   "outputs": [],
   "source": [
    "# TODO: on a plot--for each model, for each brain region, for each twind_analy, get the bregion_mean_dist_norm_95 and add as point to plot (label as bregion)"
   ]
  }
 ],
 "metadata": {
  "kernelspec": {
   "display_name": "ppmonkey",
   "language": "python",
   "name": "ppmonkey"
  },
  "language_info": {
   "codemirror_mode": {
    "name": "ipython",
    "version": 3
   },
   "file_extension": ".py",
   "mimetype": "text/x-python",
   "name": "python",
   "nbconvert_exporter": "python",
   "pygments_lexer": "ipython3",
   "version": "3.10.14"
  }
 },
 "nbformat": 4,
 "nbformat_minor": 5
}
