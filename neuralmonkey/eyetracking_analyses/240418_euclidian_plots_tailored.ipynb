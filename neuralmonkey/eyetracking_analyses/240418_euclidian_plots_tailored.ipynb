{
 "cells": [
  {
   "cell_type": "code",
   "execution_count": 25,
   "id": "e9220b65",
   "metadata": {},
   "outputs": [],
   "source": [
    "from neuralmonkey.scripts.analy_euclidian_dist_pop_script import compute_all_derived_metrics, _plot_histograms_clean"
   ]
  },
  {
   "cell_type": "code",
   "execution_count": 27,
   "id": "7a3d925c",
   "metadata": {},
   "outputs": [],
   "source": [
    "import pandas as pd\n",
    "DFRES = pd.read_pickle('/home/kgg/Desktop/Pancho_230623_planning_plots/euclidian3/RESULTS/DFRES.pkl')"
   ]
  },
  {
   "cell_type": "code",
   "execution_count": 30,
   "id": "4f78157b",
   "metadata": {},
   "outputs": [],
   "source": [
    "DFRES['animal'] = 'Pancho'\n",
    "DFRES['date'] = 230623"
   ]
  },
  {
   "cell_type": "code",
   "execution_count": 37,
   "id": "0735df02",
   "metadata": {
    "scrolled": true
   },
   "outputs": [],
   "source": [
    "DFRES_new = DFRES[DFRES['twind_analy']==(0, 0.2)].reset_index(drop=True)"
   ]
  },
  {
   "cell_type": "code",
   "execution_count": 38,
   "id": "bd0a80c3",
   "metadata": {},
   "outputs": [],
   "source": [
    "DFRES_ORIG, DFRES_PIVOT_DISTR, DFRES_PIVOT_PAIRWISE, DFRES_PIVOT_YUE, plot_params = compute_all_derived_metrics(DFRES_new)"
   ]
  },
  {
   "cell_type": "code",
   "execution_count": 39,
   "id": "7659e96a",
   "metadata": {},
   "outputs": [
    {
     "name": "stdout",
     "output_type": "stream",
     "text": [
      "[\"00|shape-fixation|('shape-macrosaccade-index', 'loc-fixation', 'seqc_0_shape', 'task_kind')\"\n",
      " \"01|shape-fixation|('shape-macrosaccade-index', 'loc-fixation', 'seqc_0_shape', 'task_kind')\"\n",
      " \"02|shape-fixation|('shape-macrosaccade-index', 'loc-fixation', 'seqc_0_shape', 'task_kind')\"\n",
      " \"03|loc-fixation|('shape-macrosaccade-index', 'shape-fixation', 'task_kind')\"\n",
      " \"04|loc-fixation|('shape-macrosaccade-index', 'shape-fixation', 'task_kind')\"\n",
      " \"05|loc-fixation|('shape-macrosaccade-index', 'shape-fixation', 'task_kind')\"\n",
      " \"06|seqc_0_shape|('shape-macrosaccade-index', 'shape-fixation', 'loc-fixation', 'task_kind')\"\n",
      " \"07|seqc_0_shape|('shape-macrosaccade-index', 'shape-fixation', 'loc-fixation', 'task_kind')\"\n",
      " \"08|seqc_0_shape|('shape-macrosaccade-index', 'shape-fixation', 'loc-fixation', 'task_kind')\"\n",
      " \"09|is-fixated-on-seqc0shape|('shape-macrosaccade-index', 'seqc_0_shape', 'loc-fixation', 'task_kind')\"\n",
      " \"10|is-fixated-on-seqc0shape|('shape-macrosaccade-index', 'seqc_0_shape', 'seqc_0_loc', 'task_kind')\"\n",
      " \"11|is-fixated-on-seqc0shape|('shape-macrosaccade-index', 'shape-fixation', 'loc-fixation', 'task_kind')\"\n",
      " \"12|is-fixated-on-seqc0shape|('shape-macrosaccade-index', 'shape-fixation', 'seqc_0_loc', 'task_kind')\"\n",
      " \"13|is-fixated-on-seqc0shape|('shape-macrosaccade-index', 'seqc_0_shape', 'loc-fixation', 'task_kind')\"\n",
      " \"14|is-fixated-on-seqc0shape|('shape-macrosaccade-index', 'seqc_0_shape', 'seqc_0_loc', 'task_kind')\"\n",
      " \"15|is-fixated-on-seqc0shape|('shape-macrosaccade-index', 'shape-fixation', 'loc-fixation', 'task_kind')\"\n",
      " \"16|is-fixated-on-seqc0shape|('shape-macrosaccade-index', 'shape-fixation', 'seqc_0_loc', 'task_kind')\"]\n"
     ]
    }
   ],
   "source": [
    "print(DFRES_ORIG['var_var_others'].unique())"
   ]
  },
  {
   "cell_type": "code",
   "execution_count": 40,
   "id": "16bed412",
   "metadata": {},
   "outputs": [],
   "source": [
    "savedir = \"/tmp/Pancho_230623/histograms\"\n",
    "import os\n",
    "os.makedirs(savedir, exist_ok=True)"
   ]
  },
  {
   "cell_type": "code",
   "execution_count": 49,
   "id": "4dd45577",
   "metadata": {},
   "outputs": [
    {
     "name": "stderr",
     "output_type": "stream",
     "text": [
      "/home/kgg/Desktop/pythonlib/pythonlib/tools/snstools.py:25: UserWarning: FixedFormatter should only be used together with FixedLocator\n",
      "  ax.set_xticklabels(list_text,rotation=rotation, horizontalalignment=\"right\")\n",
      "/home/kgg/Desktop/pythonlib/pythonlib/tools/snstools.py:25: UserWarning: FixedFormatter should only be used together with FixedLocator\n",
      "  ax.set_xticklabels(list_text,rotation=rotation, horizontalalignment=\"right\")\n",
      "/home/kgg/Desktop/pythonlib/pythonlib/tools/snstools.py:25: UserWarning: FixedFormatter should only be used together with FixedLocator\n",
      "  ax.set_xticklabels(list_text,rotation=rotation, horizontalalignment=\"right\")\n",
      "/home/kgg/Desktop/pythonlib/pythonlib/tools/snstools.py:25: UserWarning: FixedFormatter should only be used together with FixedLocator\n",
      "  ax.set_xticklabels(list_text,rotation=rotation, horizontalalignment=\"right\")\n"
     ]
    },
    {
     "name": "stdout",
     "output_type": "stream",
     "text": [
      "Saving to:  /tmp/Pancho_230623/histograms/brain_schematics/brainschem-var_var_others-dist_norm_95-norm_None-.pdf\n"
     ]
    },
    {
     "name": "stderr",
     "output_type": "stream",
     "text": [
      "/home/kgg/Desktop/pythonlib/pythonlib/tools/pandastools.py:1017: SettingWithCopyWarning: \n",
      "A value is trying to be set on a copy of a slice from a DataFrame.\n",
      "Try using .loc[row_indexer,col_indexer] = value instead\n",
      "\n",
      "See the caveats in the documentation: https://pandas.pydata.org/pandas-docs/stable/user_guide/indexing.html#returning-a-view-versus-a-copy\n",
      "  df[\"dummy\"] = 0\n"
     ]
    },
    {
     "name": "stdout",
     "output_type": "stream",
     "text": [
      "Saving to:  /tmp/Pancho_230623/histograms/brain_schematics_each_var/brainschem-None-dist_norm_95-norm_None-07|seqc_0_shape|('shape-macrosaccade-index', 'shape-fixation', 'loc-fixation', 'task_kind').pdf\n"
     ]
    },
    {
     "name": "stderr",
     "output_type": "stream",
     "text": [
      "/home/kgg/Desktop/pythonlib/pythonlib/tools/pandastools.py:1017: SettingWithCopyWarning: \n",
      "A value is trying to be set on a copy of a slice from a DataFrame.\n",
      "Try using .loc[row_indexer,col_indexer] = value instead\n",
      "\n",
      "See the caveats in the documentation: https://pandas.pydata.org/pandas-docs/stable/user_guide/indexing.html#returning-a-view-versus-a-copy\n",
      "  df[\"dummy\"] = 0\n"
     ]
    },
    {
     "name": "stdout",
     "output_type": "stream",
     "text": [
      "Saving to:  /tmp/Pancho_230623/histograms/brain_schematics_each_var/brainschem-None-dist_norm_95-norm_None-08|seqc_0_shape|('shape-macrosaccade-index', 'shape-fixation', 'loc-fixation', 'task_kind').pdf\n"
     ]
    }
   ],
   "source": [
    "_plot_histograms_clean(DFRES_ORIG, [\"07|seqc_0_shape|('shape-macrosaccade-index', 'shape-fixation', 'loc-fixation', 'task_kind')\",\n",
    "                                   \"08|seqc_0_shape|('shape-macrosaccade-index', 'shape-fixation', 'loc-fixation', 'task_kind')\"],\n",
    "                      savedir, effect_context='diff|same', dat_level='distr', bregions_plot=['M1_m', 'PMd_a'])"
   ]
  },
  {
   "cell_type": "code",
   "execution_count": null,
   "id": "039e0e73",
   "metadata": {},
   "outputs": [],
   "source": []
  }
 ],
 "metadata": {
  "kernelspec": {
   "display_name": "ppmonkey",
   "language": "python",
   "name": "ppmonkey"
  },
  "language_info": {
   "codemirror_mode": {
    "name": "ipython",
    "version": 3
   },
   "file_extension": ".py",
   "mimetype": "text/x-python",
   "name": "python",
   "nbconvert_exporter": "python",
   "pygments_lexer": "ipython3",
   "version": "3.10.14"
  }
 },
 "nbformat": 4,
 "nbformat_minor": 5
}
