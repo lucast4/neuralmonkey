{
 "cells": [
  {
   "cell_type": "code",
   "execution_count": null,
   "id": "initial_id",
   "metadata": {
    "collapsed": true
   },
   "outputs": [],
   "source": [
    "import pandas as pd\n",
    "\n",
    "\"\"\" Sandobx for all things realted Trialpop - or holding of (chans, trials x times)\n",
    "- i.e,, dealing with differtnet length trials, without taking snippets.\n",
    "\"\"\"\n"
   ]
  },
  {
   "cell_type": "code",
   "execution_count": null,
   "outputs": [],
   "source": [
    "%load_ext autoreload\n",
    "%autoreload 2\n",
    "\n",
    "from neuralmonkey.classes.session import load_mult_session_helper\n",
    "import matplotlib\n",
    "import matplotlib.pyplot as plt\n",
    "import numpy as np\n",
    "\n",
    "#%matplotlib inline"
   ],
   "metadata": {
    "collapsed": false
   },
   "id": "93d48dd175d3e9e0"
  },
  {
   "cell_type": "code",
   "execution_count": null,
   "outputs": [],
   "source": [
    "# DATE = 220830\n",
    "# animal = \"Pancho\"\n",
    "DATE = 230615\n",
    "animal = \"Diego\"\n",
    "# spikes_version = \"tdt\"\n",
    "spikes_version = \"kilosort_if_exists\"\n",
    "MS = load_mult_session_helper(DATE, animal, MINIMAL_LOADING=True, spikes_version=spikes_version) \n",
    "# MS = load_mult_session_helper(DATE, animal, MINIMAL_LOADING=True, spikes_version=\"tdt\") "
   ],
   "metadata": {
    "collapsed": false
   },
   "id": "5ea565361cc650ab"
  },
  {
   "cell_type": "code",
   "execution_count": null,
   "outputs": [],
   "source": [
    "\n",
    "### Snippets, split by stroke index and location\n",
    "MS.print_summary_sessions()\n",
    "from neuralmonkey.classes.snippets import Snippets, extraction_helper"
   ],
   "metadata": {
    "collapsed": false
   },
   "id": "e041091616bea230"
  },
  {
   "cell_type": "code",
   "outputs": [],
   "source": [
    "len(sn.get_trials_list(True))"
   ],
   "metadata": {
    "collapsed": false
   },
   "id": "ddde2ccbfffdca93",
   "execution_count": null
  },
  {
   "cell_type": "code",
   "outputs": [],
   "source": [
    "\n",
    "# Pick out a single session\n",
    "sn = MS.SessionsList[0]\n"
   ],
   "metadata": {
    "collapsed": false
   },
   "id": "4f6a93293ea856b",
   "execution_count": null
  },
  {
   "cell_type": "code",
   "execution_count": null,
   "outputs": [],
   "source": [
    "# Turn on debug mode, this prunes sites and trials, so below runs faster\n",
    "# sn.debug_mode_switch_to(sites=True, trials=False)\n",
    "for sn in MS.SessionsList:\n",
    "    sn.debug_mode_switch_to(sites=True, trials=True)"
   ],
   "metadata": {
    "collapsed": false
   },
   "id": "3a14b819b3467a91"
  },
  {
   "cell_type": "code",
   "execution_count": null,
   "outputs": [],
   "source": [
    "sn.sitegetter_print_summarytext_each_unit"
   ],
   "metadata": {
    "collapsed": false
   },
   "id": "c70caea262e5b9f5"
  },
  {
   "cell_type": "code",
   "execution_count": null,
   "outputs": [],
   "source": [
    "#### TODO:"
   ],
   "metadata": {
    "collapsed": false
   },
   "id": "147dd1d006ec40f8"
  },
  {
   "cell_type": "code",
   "execution_count": null,
   "outputs": [],
   "source": [
    "# problem 1. Stroke onset time -- why don't they match between SN and Datasetbeh.\n",
    "# problem 2. concatting DS across sessions for Pancho --> failing."
   ],
   "metadata": {
    "collapsed": false
   },
   "id": "27e1d93bf57165eb"
  },
  {
   "cell_type": "markdown",
   "source": [
    "# Main method"
   ],
   "metadata": {
    "collapsed": false
   },
   "id": "8772e3cfcae040b1"
  },
  {
   "cell_type": "code",
   "outputs": [],
   "source": [
    "            assert trials_prune_just_those_including_events==True, \"this on by defualt. if turn off, then change line below in SN.get_trials_list\"\n",
    "            events_that_must_include = [\"fix_touch\", \"on_strokeidx_0\"]\n",
    "            trials = SN.get_trials_list(True, True, only_if_in_dataset=True,\n",
    "                dataset_input=dataset_pruned_for_trial_analysis,\n",
    "                events_that_must_include = events_that_must_include)\n",
    "            print(\"\\n == extracting these trials: \", trials)\n"
   ],
   "metadata": {
    "collapsed": false
   },
   "id": "778453b449b9ecdf"
  },
  {
   "cell_type": "code",
   "outputs": [],
   "source": [
    "sn = MS.SessionsList[0]\n",
    "trial = 1"
   ],
   "metadata": {
    "collapsed": false
   },
   "id": "5ec97c5d8f38b49e",
   "execution_count": null
  },
  {
   "cell_type": "code",
   "outputs": [],
   "source": [
    "# For each trial, get activity within a window (aligned to onset and offset events).\n",
    "event_on = \"samp\"\n",
    "event_off = \"post\"\n",
    "time_on = sn.events_get_time_helper(event_on, trial, assert_one=True)[0]\n",
    "time_off = sn.events_get_time_helper(event_off, trial, assert_one=True)[0]\n",
    "\n",
    "print(time_on, time_off)\n"
   ],
   "metadata": {
    "collapsed": false
   },
   "id": "70b1a71ec807cfe4",
   "execution_count": null
  },
  {
   "cell_type": "code",
   "outputs": [],
   "source": [
    "# Modify this to get within a window"
   ],
   "metadata": {
    "collapsed": false
   },
   "id": "f4fbe16773a2638f"
  },
  {
   "cell_type": "code",
   "outputs": [],
   "source": [
    "trials_all = [0,1,2]\n",
    "sites = sn.site\n",
    "pa, trials_all, times_all, idx_trialtime_all = sn.smoothedfr_extract_timewindow_bytimes(trials_all, times_all, sites, \n",
    "    pre_dur=pre_dur, post_dur=post_dur, \n",
    "    fail_if_times_outside_existing=fail_if_times_outside_existing,\n",
    "    idx_trialtime_all=idx_trialtime_all,\n",
    "    method_if_not_enough_time=method_if_not_enough_time)\n"
   ],
   "metadata": {
    "collapsed": false
   },
   "id": "5dc7521de1829291"
  },
  {
   "cell_type": "code",
   "outputs": [],
   "source": [
    "spike_times = sn._snippets_extract_single_snip(s, trial_neural,\n",
    "    event_time, pre_dur, post_dur)\n"
   ],
   "metadata": {
    "collapsed": false
   },
   "id": "567e72cc65c9f9db"
  },
  {
   "cell_type": "code",
   "outputs": [],
   "source": [
    "# Concatenate those actiivties (spikes or smoohted)?\n",
    "\n",
    "# TODO: decide: get spikes then smooth, or get smoothed?\n"
   ],
   "metadata": {
    "collapsed": false
   },
   "id": "bdefc91ef14a623d"
  },
  {
   "cell_type": "code",
   "outputs": [],
   "source": [
    "# Track trial bondaries and event times\n"
   ],
   "metadata": {
    "collapsed": false
   },
   "id": "46d8a56b3288cde3",
   "execution_count": null
  },
  {
   "cell_type": "code",
   "outputs": [],
   "source": [],
   "metadata": {
    "collapsed": false
   },
   "id": "e7dac116eb43c96"
  },
  {
   "cell_type": "code",
   "outputs": [],
   "source": [],
   "metadata": {
    "collapsed": false
   },
   "id": "14b11a30cb4e4926"
  },
  {
   "cell_type": "code",
   "outputs": [],
   "source": [],
   "metadata": {
    "collapsed": false
   },
   "id": "ee10ab459569f932"
  }
 ],
 "metadata": {
  "kernelspec": {
   "display_name": "Python 3",
   "language": "python",
   "name": "python3"
  },
  "language_info": {
   "codemirror_mode": {
    "name": "ipython",
    "version": 2
   },
   "file_extension": ".py",
   "mimetype": "text/x-python",
   "name": "python",
   "nbconvert_exporter": "python",
   "pygments_lexer": "ipython2",
   "version": "2.7.6"
  }
 },
 "nbformat": 4,
 "nbformat_minor": 5
}
