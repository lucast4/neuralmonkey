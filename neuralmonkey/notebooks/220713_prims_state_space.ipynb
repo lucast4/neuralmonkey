{
 "cells": [
  {
   "cell_type": "code",
   "execution_count": null,
   "metadata": {},
   "outputs": [],
   "source": [
    "\"\"\" \n",
    "1/3/24 - Old code, where originally developed popuilations analyses (PCA plots, scalar) and (decode)\n",
    "- PCA plots --> analy_pca_plot.py\n",
    "- decode --> Still not moved\n",
    "\n",
    "OLD NOTES:\n",
    "Focus on prims (isolated) plotted in low-D represnetation, any structure,\n",
    "and decoding, etc.\n",
    "\n",
    "220714 - Extracted this from the quickanaly_220603 notebook\n",
    "\"\"\""
   ]
  },
  {
   "cell_type": "markdown",
   "metadata": {},
   "source": [
    "##### Load neural and beh data (pending: cam)\n"
   ]
  },
  {
   "cell_type": "code",
   "execution_count": 1,
   "metadata": {},
   "outputs": [],
   "source": [
    "from neuralmonkey.classes.session import Session\n",
    "import matplotlib.pyplot as plt\n",
    "from neuralmonkey.scripts.load_and_save_locally import load_and_preprocess_single_session\n",
    "import neuralmonkey.utils.monkeylogic as mkl\n",
    "from neuralmonkey.classes.session import load_session_helper, load_mult_session_helper"
   ]
  },
  {
   "cell_type": "markdown",
   "metadata": {},
   "source": [
    "##### Single prims"
   ]
  },
  {
   "cell_type": "code",
   "execution_count": 4,
   "metadata": {},
   "outputs": [],
   "source": [
    "DATE = \"220715\"\n",
    "dataset_beh_expt = \"priminvar3\"\n",
    "animal = \"Pancho\"\n",
    "\n",
    "PREFIX_SAVE = \"k99rebut\"\n",
    "# DATE = \"220716\"\n",
    "# dataset_beh_expt = \"priminvar3\"\n",
    "# animal = \"Pancho\"\n",
    "\n",
    "# DATE = \"220717\"\n",
    "# dataset_beh_expt = \"priminvar3\"\n",
    "# animal = \"Pancho\""
   ]
  },
  {
   "cell_type": "markdown",
   "metadata": {},
   "source": [
    "##### mult prims in grid"
   ]
  },
  {
   "cell_type": "code",
   "execution_count": null,
   "metadata": {},
   "outputs": [],
   "source": [
    "DATE = \"221107\"\n",
    "dataset_beh_expt = \"dirfullvar1b\"\n",
    "animal = \"Pancho\"\n"
   ]
  },
  {
   "cell_type": "markdown",
   "metadata": {},
   "source": [
    "##### Load data "
   ]
  },
  {
   "cell_type": "code",
   "execution_count": 6,
   "metadata": {},
   "outputs": [
    {
     "name": "stdout",
     "output_type": "stream",
     "text": [
      "Searching using this string:\n",
      "/mnt/hopfield_data01/ltian/recordings/*Pancho*/*220715*/**\n",
      "Found this many paths:\n",
      "2\n",
      "---\n",
      "/mnt/hopfield_data01/ltian/recordings/Pancho/220715/Pancho-220715-154205\n",
      "---\n",
      "/mnt/hopfield_data01/ltian/recordings/Pancho/220715/Pancho-220715-170247\n",
      "session:  0\n",
      "1\n",
      "2\n",
      "Beh Sessions that exist on this date:  {'220715': [(1, 'priminvar3'), (2, 'priminvar3')]}\n",
      "taking this beh session: 1\n",
      "Loading these beh expts: ['priminvar3']\n",
      "Loading these beh sessions: [1]\n",
      "Loading this neural session: 0\n",
      "Searching using this string:\n",
      "/mnt/hopfield_data01/ltian/recordings/*Pancho*/*220715*/**\n",
      "Found this many paths:\n",
      "2\n",
      "---\n",
      "/mnt/hopfield_data01/ltian/recordings/Pancho/220715/Pancho-220715-154205\n",
      "---\n",
      "/mnt/hopfield_data01/ltian/recordings/Pancho/220715/Pancho-220715-170247\n",
      "{'filename_components_hyphened': ['Pancho', '220715', '154205'], 'basedirs': ['/mnt/hopfield_data01/ltian/recordings/Pancho', '/mnt/hopfield_data01/ltian/recordings/Pancho/220715'], 'basedirs_filenames': ['220715', 'Pancho-220715-154205'], 'filename_final_ext': 'Pancho-220715-154205', 'filename_final_noext': 'Pancho-220715-154205'}\n",
      "then is old version, before saved paths every time save spikes\n",
      "== PATHS for this expt: \n",
      "raws  --  /mnt/hopfield_data01/ltian/recordings/Pancho/220715/Pancho-220715-154205\n",
      "tank  --  /mnt/hopfield_data01/ltian/recordings/Pancho/220715/Pancho-220715-154205/Pancho-220715-154205\n",
      "spikes  --  /mnt/hopfield_data01/ltian/recordings/Pancho/220715/Pancho-220715-154205/spikes_tdt_quick\n",
      "final_dir_name  --  Pancho-220715-154205\n",
      "time  --  154205\n",
      "pathbase_local  --  /gorilla1/neural_preprocess/recordings/Pancho/220715/Pancho-220715-154205\n",
      "tank_local  --  /gorilla1/neural_preprocess/recordings/Pancho/220715/Pancho-220715-154205/data_tank.pkl\n",
      "spikes_local  --  /gorilla1/neural_preprocess/recordings/Pancho/220715/Pancho-220715-154205/data_spikes.pkl\n",
      "datall_local  --  /gorilla1/neural_preprocess/recordings/Pancho/220715/Pancho-220715-154205/data_datall.pkl\n",
      "events_local  --  /gorilla1/neural_preprocess/recordings/Pancho/220715/Pancho-220715-154205/events_photodiode.pkl\n",
      "mapper_st2dat_local  --  /gorilla1/neural_preprocess/recordings/Pancho/220715/Pancho-220715-154205/mapper_st2dat.pkl\n",
      "figs_local  --  /gorilla1/neural_preprocess/recordings/Pancho/220715/Pancho-220715-154205/figs\n",
      "metadata_units  --  /home/lucast4/code/neuralmonkey/neuralmonkey/metadat/units\n",
      "Found! metada path :  /home/lucast4/code/neuralmonkey/neuralmonkey/metadat/units/220715.yaml\n",
      "updating self.SitesDirty with:  ('sites_garbage', 'sites_low_fr', 'sites_error_spikes')\n",
      "== Loading TDT tank\n",
      "** Loading tank data from local (previusly cached)\n",
      "== Done\n",
      "== Loading ml2 behavior\n",
      "-- loaded presaved data: /gorilla1/animals/Pancho/220715/220715_153841_priminvar3_Pancho_1.pkl\n",
      "== Done\n",
      "-- This is the lag for optimal xcorr of tdt and ml2 trial durations (+ means should look further back into beh trials):\n",
      "0\n",
      "-- This is the variation in (tdt - ml2) durations across trials. shodl be clsoe to 0\n",
      "4.223705388201182e-05\n",
      "GREAT!! mapping is correct. Doing nothing\n",
      "== Loading spike times\n",
      "** Loading spike data from local (previusly cached)\n",
      "== Done\n",
      "== Trying to load events data\n",
      "Loading this events (pd) locally to:  /gorilla1/neural_preprocess/recordings/Pancho/220715/Pancho-220715-154205/events_photodiode.pkl\n",
      "== Done\n",
      "Generated self._MapperTrialcode2TrialToTrial!\n",
      "Saved all bad site to self.SitesErrorSpikeDat\n",
      "** Loading datall from local (previusly cached)\n",
      "Done loading!\n",
      "DOING: datall_cleanup_add_things\n",
      "Generated self.DatAllDf\n",
      "** Loading _MapperSiteTrial2DatAllInd from local (previusly cached)\n",
      "Extracted successfully for session:  0\n",
      "session:  1\n",
      "1\n",
      "2\n",
      "Beh Sessions that exist on this date:  {'220715': [(1, 'priminvar3'), (2, 'priminvar3')]}\n",
      "taking this beh session: 2\n",
      "Loading these beh expts: ['priminvar3']\n",
      "Loading these beh sessions: [2]\n",
      "Loading this neural session: 1\n",
      "Searching using this string:\n",
      "/mnt/hopfield_data01/ltian/recordings/*Pancho*/*220715*/**\n",
      "Found this many paths:\n",
      "2\n",
      "---\n",
      "/mnt/hopfield_data01/ltian/recordings/Pancho/220715/Pancho-220715-154205\n",
      "---\n",
      "/mnt/hopfield_data01/ltian/recordings/Pancho/220715/Pancho-220715-170247\n",
      "{'filename_components_hyphened': ['Pancho', '220715', '170247'], 'basedirs': ['/mnt/hopfield_data01/ltian/recordings/Pancho', '/mnt/hopfield_data01/ltian/recordings/Pancho/220715'], 'basedirs_filenames': ['220715', 'Pancho-220715-170247'], 'filename_final_ext': 'Pancho-220715-170247', 'filename_final_noext': 'Pancho-220715-170247'}\n",
      "then is old version, before saved paths every time save spikes\n",
      "== PATHS for this expt: \n",
      "raws  --  /mnt/hopfield_data01/ltian/recordings/Pancho/220715/Pancho-220715-170247\n",
      "tank  --  /mnt/hopfield_data01/ltian/recordings/Pancho/220715/Pancho-220715-170247/Pancho-220715-170247\n",
      "spikes  --  /mnt/hopfield_data01/ltian/recordings/Pancho/220715/Pancho-220715-170247/spikes_tdt_quick\n",
      "final_dir_name  --  Pancho-220715-170247\n",
      "time  --  170247\n",
      "pathbase_local  --  /gorilla1/neural_preprocess/recordings/Pancho/220715/Pancho-220715-170247\n",
      "tank_local  --  /gorilla1/neural_preprocess/recordings/Pancho/220715/Pancho-220715-170247/data_tank.pkl\n",
      "spikes_local  --  /gorilla1/neural_preprocess/recordings/Pancho/220715/Pancho-220715-170247/data_spikes.pkl\n",
      "datall_local  --  /gorilla1/neural_preprocess/recordings/Pancho/220715/Pancho-220715-170247/data_datall.pkl\n",
      "events_local  --  /gorilla1/neural_preprocess/recordings/Pancho/220715/Pancho-220715-170247/events_photodiode.pkl\n",
      "mapper_st2dat_local  --  /gorilla1/neural_preprocess/recordings/Pancho/220715/Pancho-220715-170247/mapper_st2dat.pkl\n",
      "figs_local  --  /gorilla1/neural_preprocess/recordings/Pancho/220715/Pancho-220715-170247/figs\n",
      "metadata_units  --  /home/lucast4/code/neuralmonkey/neuralmonkey/metadat/units\n",
      "Found! metada path :  /home/lucast4/code/neuralmonkey/neuralmonkey/metadat/units/220715.yaml\n",
      "updating self.SitesDirty with:  ('sites_garbage', 'sites_low_fr', 'sites_error_spikes')\n",
      "== Loading TDT tank\n",
      "** Loading tank data from local (previusly cached)\n",
      "== Done\n",
      "== Loading ml2 behavior\n",
      "-- loaded presaved data: /gorilla1/animals/Pancho/220715/220715_165924_priminvar3_Pancho_2.pkl\n",
      "== Done\n",
      "-- This is the lag for optimal xcorr of tdt and ml2 trial durations (+ means should look further back into beh trials):\n",
      "0\n",
      "-- This is the variation in (tdt - ml2) durations across trials. shodl be clsoe to 0\n",
      "2.4468370385289378e-05\n",
      "GREAT!! mapping is correct. Doing nothing\n",
      "== Loading spike times\n",
      "** Loading spike data from local (previusly cached)\n",
      "== Done\n",
      "== Trying to load events data\n",
      "Loading this events (pd) locally to:  /gorilla1/neural_preprocess/recordings/Pancho/220715/Pancho-220715-170247/events_photodiode.pkl\n",
      "== Done\n",
      "Generated self._MapperTrialcode2TrialToTrial!\n",
      "Saved all bad site to self.SitesErrorSpikeDat\n",
      "** Loading datall from local (previusly cached)\n",
      "Done loading!\n",
      "DOING: datall_cleanup_add_things\n",
      "Generated self.DatAllDf\n",
      "** Loading _MapperSiteTrial2DatAllInd from local (previusly cached)\n",
      "Extracted successfully for session:  1\n",
      "Generated index mappers!\n",
      "/gorilla1/analyses/recordings/NOTEBOOKS/220713_prims_state_space/Pancho/220715_k99rebut\n"
     ]
    },
    {
     "data": {
      "image/png": "[encoded data removed]",
      "text/plain": [
       "<Figure size 1000x500 with 1 Axes>"
      ]
     },
     "metadata": {},
     "output_type": "display_data"
    },
    {
     "data": {
      "image/png": "[encoded data removed]",
      "text/plain": [
       "<Figure size 1000x500 with 1 Axes>"
      ]
     },
     "metadata": {},
     "output_type": "display_data"
    }
   ],
   "source": [
    "# MS = load_mult_session_helper(DATE, animal, dataset_beh_expt)\n",
    "MS = load_mult_session_helper(DATE, animal)\n",
    "    \n",
    "    \n",
    "animal = \"Pancho\"\n",
    "# SAVEDIR = f\"/data2/analyses/recordings/NOTEBOOKS/220713_prims_state_space/{animal}/{DATE}\"\n",
    "if PREFIX_SAVE is None:\n",
    "    SAVEDIR = f\"/gorilla1/analyses/recordings/NOTEBOOKS/220713_prims_state_space/{animal}/{DATE}\"\n",
    "else:\n",
    "    SAVEDIR = f\"/gorilla1/analyses/recordings/NOTEBOOKS/220713_prims_state_space/{animal}/{DATE}_{PREFIX_SAVE}\"\n",
    "    \n",
    "\n",
    "import os\n",
    "print(SAVEDIR)"
   ]
  },
  {
   "cell_type": "code",
   "execution_count": 13,
   "metadata": {},
   "outputs": [
    {
     "name": "stdout",
     "output_type": "stream",
     "text": [
      "Searching using this string:\n",
      "/gorilla1/analyses/database/*Pancho-*priminvar3-*null-*/*dat*.pkl\n",
      "-- Splitting off dir from fname\n",
      "Found this many paths:\n",
      "0\n",
      "Searching using this string:\n",
      "/gorilla1/analyses/database/BEH/*Pancho-*priminvar3-*null-*/*dat*.pkl\n",
      "-- Splitting off dir from fname\n",
      "Found this many paths:\n",
      "4\n",
      "---\n",
      "/gorilla1/analyses/database/BEH/Pancho-priminvar3-null-220718_104922\n",
      "---\n",
      "/gorilla1/analyses/database/BEH/Pancho-priminvar3-null-220719_100125\n",
      "---\n",
      "/gorilla1/analyses/database/BEH/Pancho-priminvar3-null-220801_085350\n",
      "---\n",
      "/gorilla1/analyses/database/BEH/Pancho-priminvar3-null-221207_202421\n",
      "----------------\n",
      "Currently loading dataset pkl: /gorilla1/analyses/database/BEH/Pancho-priminvar3-null-221207_202421\n",
      ".. Done!\n",
      "Loaded metadat:\n",
      "{'sketchpad_edges': array([[-311.84, -224.8 ],\n",
      "       [ 311.84,  429.6 ]]), 'metadat_probedat': {'sdate': 220715, 'edate': 220724, 'strokmodel_kind': None, 'strokmodel_tstamp': None, 'datecategories': {'220715': 1, '220716': 1, '220717': 1, '220718': 1, '220719': 1, '220720': 1, '220721': 1, '220722': 1, '220723': 1, '220724': 1}, 'dates_for_summary': [], 'matchedstrokes': None, 'exptnames': ['priminvar3', 'priminvar3b', 'priminvar3d', 'priminvar3e', 'priminvar3f'], 'T1': [], 'G1': [], 'G2': [], 'G3': [], 'G4': [], 'description': '', 'finalized': False, 'good_expt': True, 'expt': 'priminvar3', 'animal': 'Pancho', 'ssess': None, 'esess': None, 'task_train_test': {'probe1_liketrain': 'train', 'probe1_nostrokeconstraint': 'train', 'probe2_liketrain': 'train', 'probe2_nostrokeconstraint': 'train', 'probe3_hdpos': 'test', 'probe1': 'train', 'probe2': 'train', 'probe3': 'test', 'probe4': 'test', 'train': 'train'}}, 'filedata_params': {'pix_per_deg': array([[ 26.64621164],\n",
      "       [-26.64621164]]), 'resolution': (1024, 768), 'animal': 'Pancho', 'basedir': '/gorilla1/animals', 'sample_rate': array([500.]), 'beh_codes': {9: 'start', 10: 'fix cue', 11: 'fix cue visible', 13: 'frame skip', 14: 'manual rew', 15: 'guide', 16: 'FixationOnsetWTH', 17: 'FixationDoneSuccessWTH', 18: 'end', 19: 'FixationRaiseFailWTH', 20: 'go (draw)', 21: 'guide_on_GA', 30: 'DelayWhatIsThis', 40: 'GoWhatIsThis', 41: 'samp1 on', 42: 'samp1 off', 45: 'done', 46: 'post', 50: 'reward', 51: 'free reward', 61: 'DoneButtonVisible', 62: 'DoneButtonTouched', 63: 'DragAroundSuccess', 64: 'DragAroundAbort', 65: 'DragAroundFirstAbortNow', 70: 'hotkey_x', 71: 'DAstimevent_firstpres', 72: 'DAstimoff_finibeforepause', 73: 'DAstimoff_fini', 74: 'DAsamp1_visible_change', 75: 'DAnewpnutthisframe', 76: 'DAsound_samp1touched', 78: 'DAsound_gotallink', 80: 'ttl_trialon', 81: 'ttl_trialoff', 91: 'GAstimevent_firstpres', 92: 'GAstimoff_fini', 101: 'fix_square_on', 102: 'fix_square_off', 103: 'fix_square_on_pd', 111: 'photodiode_force_off', 120: 'DAsound_chunk', 121: 'DAsound_strokedone', 122: 'DAsound_chunkupdate', 123: 'DAsound_chunkdone', 124: 'DAsound_firstraise', 131: 'fix_cue_colored_on', 132: 'fix_cue_colored_on_v2', 133: 'fix_cue_colored_off', 134: 'fix_cue_colored_off_v2', 135: 'new_color_cue_off', 200: 'skipped_movie_frame'}, 'screen_hz': 59, 'screen_period': 0.01694915254237288}}\n",
      "Loading BlockParamsByDateSessBlock!\n",
      "----\n",
      "Resetting index\n",
      "=== CLEANING UP self.Dat ===== \n",
      "Deleted unused columns from self.Dat\n",
      "applying monkey train test names\n",
      "resetting index\n",
      "Updated columns: insummarydates, using Metadats\n",
      "Searching using this string:\n",
      "/gorilla1/analyses/database/TASKS_GENERAL/Pancho-priminvar3-null-all/*Tasks*pkl\n",
      "Found this many paths:\n",
      "1\n",
      "---\n",
      "/gorilla1/analyses/database/TASKS_GENERAL/Pancho-priminvar3-null-all/Tasks.pkl\n",
      "--- Loading tasks pkl file:  /gorilla1/analyses/database/TASKS_GENERAL/Pancho-priminvar3-null-all/Tasks.pkl\n",
      "added new column self.Dat[Task]\n",
      "- starting/ending len (grouping params):\n",
      "4550\n",
      "4550\n",
      "- starting/ending len (getting sequence):\n",
      "4550\n",
      "4550\n",
      "--- Removing nans\n",
      "start len: 4550\n",
      "- num names for each col\n",
      "not removing nans, since columns=[]\n",
      "Reassigned train/test, using key: probe\n",
      "and values:\n",
      "Train =  [0]\n",
      "Test =  [1]\n",
      " \n",
      "New distribution of train/test:\n",
      "train    4550\n",
      "Name: monkey_train_or_test, dtype: int64\n",
      "Appended column: los_info\n",
      "Appended self.Dat[superv_SEQUENCE_SUP]\n",
      "Appended self.Dat[superv_SEQUENCE_ALPHA]\n",
      "Appended self.Dat[superv_COLOR_ON]\n",
      "Appended self.Dat[superv_COLOR_METHOD]\n",
      "Appended self.Dat[superv_GUIDEDYN_ON]\n",
      "Appended self.Dat[superv_VISUALFB_METH]\n",
      "appended col to self.Dat:\n",
      "supervision_stage_new\n",
      "[taskgroup_reassign_by_mapper], reassigned values in column: taskgroup\n",
      "GROUPING epoch\n",
      "GROUPING_LEVELS ['null']\n",
      "FEATURE_NAMES ['hdoffline', 'num_strokes', 'circ', 'dist']\n",
      "SCORE_COL_NAMES []\n",
      "appended col to self.Dat:\n",
      "date_epoch\n",
      "Appended self.Dat[superv_SEQUENCE_SUP]\n",
      "Appended self.Dat[superv_COLOR_ON]\n",
      "Appended self.Dat[superv_COLOR_METHOD]\n",
      "Appended self.Dat[superv_GUIDEDYN_ON]\n",
      "appended col to self.Dat:\n",
      "supervision_stage_concise\n",
      "Searching using this string:\n",
      "/gorilla1/analyses/database/TASKS_GENERAL/Pancho-priminvar3-null-all/*Tasks*pkl\n",
      "Found this many paths:\n",
      "1\n",
      "---\n",
      "/gorilla1/analyses/database/TASKS_GENERAL/Pancho-priminvar3-null-all/Tasks.pkl\n",
      "--- Loading tasks pkl file:  /gorilla1/analyses/database/TASKS_GENERAL/Pancho-priminvar3-null-all/Tasks.pkl\n",
      "added new column self.Dat[Task]\n",
      "- Keeping only dataset trials that exist in self.Dat\n",
      "Starting length:  4550\n",
      "self.Dat modified!!\n",
      "Ending length:  231\n",
      "**Loaded dataset! using rule: null\n",
      "Searching using this string:\n",
      "/gorilla1/analyses/database/*Pancho-*priminvar3-*null-*/*dat*.pkl\n",
      "-- Splitting off dir from fname\n",
      "Found this many paths:\n",
      "0\n",
      "Searching using this string:\n",
      "/gorilla1/analyses/database/BEH/*Pancho-*priminvar3-*null-*/*dat*.pkl\n",
      "-- Splitting off dir from fname\n",
      "Found this many paths:\n",
      "4\n",
      "---\n",
      "/gorilla1/analyses/database/BEH/Pancho-priminvar3-null-220718_104922\n",
      "---\n",
      "/gorilla1/analyses/database/BEH/Pancho-priminvar3-null-220719_100125\n",
      "---\n",
      "/gorilla1/analyses/database/BEH/Pancho-priminvar3-null-220801_085350\n",
      "---\n",
      "/gorilla1/analyses/database/BEH/Pancho-priminvar3-null-221207_202421\n",
      "----------------\n",
      "Currently loading dataset pkl: /gorilla1/analyses/database/BEH/Pancho-priminvar3-null-221207_202421\n",
      ".. Done!\n",
      "Loaded metadat:\n",
      "{'sketchpad_edges': array([[-311.84, -224.8 ],\n",
      "       [ 311.84,  429.6 ]]), 'metadat_probedat': {'sdate': 220715, 'edate': 220724, 'strokmodel_kind': None, 'strokmodel_tstamp': None, 'datecategories': {'220715': 1, '220716': 1, '220717': 1, '220718': 1, '220719': 1, '220720': 1, '220721': 1, '220722': 1, '220723': 1, '220724': 1}, 'dates_for_summary': [], 'matchedstrokes': None, 'exptnames': ['priminvar3', 'priminvar3b', 'priminvar3d', 'priminvar3e', 'priminvar3f'], 'T1': [], 'G1': [], 'G2': [], 'G3': [], 'G4': [], 'description': '', 'finalized': False, 'good_expt': True, 'expt': 'priminvar3', 'animal': 'Pancho', 'ssess': None, 'esess': None, 'task_train_test': {'probe1_liketrain': 'train', 'probe1_nostrokeconstraint': 'train', 'probe2_liketrain': 'train', 'probe2_nostrokeconstraint': 'train', 'probe3_hdpos': 'test', 'probe1': 'train', 'probe2': 'train', 'probe3': 'test', 'probe4': 'test', 'train': 'train'}}, 'filedata_params': {'pix_per_deg': array([[ 26.64621164],\n",
      "       [-26.64621164]]), 'resolution': (1024, 768), 'animal': 'Pancho', 'basedir': '/gorilla1/animals', 'sample_rate': array([500.]), 'beh_codes': {9: 'start', 10: 'fix cue', 11: 'fix cue visible', 13: 'frame skip', 14: 'manual rew', 15: 'guide', 16: 'FixationOnsetWTH', 17: 'FixationDoneSuccessWTH', 18: 'end', 19: 'FixationRaiseFailWTH', 20: 'go (draw)', 21: 'guide_on_GA', 30: 'DelayWhatIsThis', 40: 'GoWhatIsThis', 41: 'samp1 on', 42: 'samp1 off', 45: 'done', 46: 'post', 50: 'reward', 51: 'free reward', 61: 'DoneButtonVisible', 62: 'DoneButtonTouched', 63: 'DragAroundSuccess', 64: 'DragAroundAbort', 65: 'DragAroundFirstAbortNow', 70: 'hotkey_x', 71: 'DAstimevent_firstpres', 72: 'DAstimoff_finibeforepause', 73: 'DAstimoff_fini', 74: 'DAsamp1_visible_change', 75: 'DAnewpnutthisframe', 76: 'DAsound_samp1touched', 78: 'DAsound_gotallink', 80: 'ttl_trialon', 81: 'ttl_trialoff', 91: 'GAstimevent_firstpres', 92: 'GAstimoff_fini', 101: 'fix_square_on', 102: 'fix_square_off', 103: 'fix_square_on_pd', 111: 'photodiode_force_off', 120: 'DAsound_chunk', 121: 'DAsound_strokedone', 122: 'DAsound_chunkupdate', 123: 'DAsound_chunkdone', 124: 'DAsound_firstraise', 131: 'fix_cue_colored_on', 132: 'fix_cue_colored_on_v2', 133: 'fix_cue_colored_off', 134: 'fix_cue_colored_off_v2', 135: 'new_color_cue_off', 200: 'skipped_movie_frame'}, 'screen_hz': 59, 'screen_period': 0.01694915254237288}}\n",
      "Loading BlockParamsByDateSessBlock!\n",
      "----\n",
      "Resetting index\n",
      "=== CLEANING UP self.Dat ===== \n",
      "Deleted unused columns from self.Dat\n",
      "applying monkey train test names\n"
     ]
    },
    {
     "name": "stdout",
     "output_type": "stream",
     "text": [
      "resetting index\n",
      "Updated columns: insummarydates, using Metadats\n",
      "Searching using this string:\n",
      "/gorilla1/analyses/database/TASKS_GENERAL/Pancho-priminvar3-null-all/*Tasks*pkl\n",
      "Found this many paths:\n",
      "1\n",
      "---\n",
      "/gorilla1/analyses/database/TASKS_GENERAL/Pancho-priminvar3-null-all/Tasks.pkl\n",
      "--- Loading tasks pkl file:  /gorilla1/analyses/database/TASKS_GENERAL/Pancho-priminvar3-null-all/Tasks.pkl\n",
      "added new column self.Dat[Task]\n",
      "- starting/ending len (grouping params):\n",
      "4550\n",
      "4550\n",
      "- starting/ending len (getting sequence):\n",
      "4550\n",
      "4550\n",
      "--- Removing nans\n",
      "start len: 4550\n",
      "- num names for each col\n",
      "not removing nans, since columns=[]\n",
      "Reassigned train/test, using key: probe\n",
      "and values:\n",
      "Train =  [0]\n",
      "Test =  [1]\n",
      " \n",
      "New distribution of train/test:\n",
      "train    4550\n",
      "Name: monkey_train_or_test, dtype: int64\n",
      "Appended column: los_info\n",
      "Appended self.Dat[superv_SEQUENCE_SUP]\n",
      "Appended self.Dat[superv_SEQUENCE_ALPHA]\n",
      "Appended self.Dat[superv_COLOR_ON]\n",
      "Appended self.Dat[superv_COLOR_METHOD]\n",
      "Appended self.Dat[superv_GUIDEDYN_ON]\n",
      "Appended self.Dat[superv_VISUALFB_METH]\n",
      "appended col to self.Dat:\n",
      "supervision_stage_new\n",
      "[taskgroup_reassign_by_mapper], reassigned values in column: taskgroup\n",
      "GROUPING epoch\n",
      "GROUPING_LEVELS ['null']\n",
      "FEATURE_NAMES ['hdoffline', 'num_strokes', 'circ', 'dist']\n",
      "SCORE_COL_NAMES []\n",
      "appended col to self.Dat:\n",
      "date_epoch\n",
      "Appended self.Dat[superv_SEQUENCE_SUP]\n",
      "Appended self.Dat[superv_COLOR_ON]\n",
      "Appended self.Dat[superv_COLOR_METHOD]\n",
      "Appended self.Dat[superv_GUIDEDYN_ON]\n",
      "appended col to self.Dat:\n",
      "supervision_stage_concise\n",
      "Searching using this string:\n",
      "/gorilla1/analyses/database/TASKS_GENERAL/Pancho-priminvar3-null-all/*Tasks*pkl\n",
      "Found this many paths:\n",
      "1\n",
      "---\n",
      "/gorilla1/analyses/database/TASKS_GENERAL/Pancho-priminvar3-null-all/Tasks.pkl\n",
      "--- Loading tasks pkl file:  /gorilla1/analyses/database/TASKS_GENERAL/Pancho-priminvar3-null-all/Tasks.pkl\n",
      "added new column self.Dat[Task]\n",
      "- Keeping only dataset trials that exist in self.Dat\n",
      "Starting length:  4550\n",
      "self.Dat modified!!\n",
      "Ending length:  395\n",
      "**Loaded dataset! using rule: null\n"
     ]
    }
   ],
   "source": [
    "# [OPTIONAL] import dataset\n",
    "for sn in MS.SessionsList:\n",
    "    sn.datasetbeh_load_helper(dataset_beh_expt)\n",
    "\n",
    "# Get dataset\n",
    "# D = MS.datasetbeh_extract()"
   ]
  },
  {
   "cell_type": "markdown",
   "metadata": {},
   "source": [
    "#### Print summaries of datasets"
   ]
  },
  {
   "cell_type": "code",
   "execution_count": null,
   "metadata": {},
   "outputs": [],
   "source": [
    "# print summary:\n",
    "for i, sn in enumerate(MS.SessionsList):\n",
    "    print(\"\\n====== SESSION NUM: \", i)\n",
    "    sn.sitegetter_print_summary_nunits_by_region()\n"
   ]
  },
  {
   "cell_type": "markdown",
   "metadata": {},
   "source": [
    "### Extract neural data snippets aligned to onset of each stroke.\n",
    "\n",
    "Each stroke also extract beh and task features\n"
   ]
  },
  {
   "cell_type": "code",
   "execution_count": null,
   "metadata": {},
   "outputs": [],
   "source": [
    "# Extract all strokes, as bag of strokes.\n",
    "from pythonlib.dataset.dataset_strokes import DatStrokes\n",
    "DS = DatStrokes(D)\n",
    "\n",
    "DS.clean_data([\"remove_if_multiple_behstrokes_per_taskstroke\"])\n",
    "\n",
    "# Extract timing inforamtion (e.g., stroek onsets, offsets)\n",
    "DS.timing_extract_basic()\n",
    "\n",
    "\n",
    "# This dsitribution of task kinds... (print)\n",
    "\n",
    "list_keys = [\"task_kind\", \"gridsize\", \"shape_oriented\", \"gridloc\"]\n",
    "for key in list_keys:\n",
    "    print(\" \")\n",
    "    print(\"--- Unique levels for this category: \", key)\n",
    "    print(DS.Dat[key].value_counts())\n",
    "    "
   ]
  },
  {
   "cell_type": "markdown",
   "metadata": {},
   "source": [
    "##### Clean up trials"
   ]
  },
  {
   "cell_type": "code",
   "execution_count": null,
   "metadata": {},
   "outputs": [],
   "source": [
    "# Clean up \n",
    "# 0) clean behavior\n",
    "# --- only prims in grid\n",
    "\n",
    "filtdict = {\"task_kind\":[\"prims_single\", \"prims_on_grid\"]}\n",
    "filtdict = {\"task_kind\":[\"prims_single\", \"prims_on_grid\"]}\n",
    "DS.filter_dataframe(filtdict)"
   ]
  },
  {
   "cell_type": "code",
   "execution_count": null,
   "metadata": {},
   "outputs": [],
   "source": [
    "# Only keep datra with specific gridsize\n",
    "# F = {\"gridsize\":[\"rig3_3x3_bigger\", \"rig3_3x3_smallestest\"]}\n",
    "# DS.Dat = filterPandas(DS.Dat, F)\n",
    "DS.Dat = DS.Dat[DS.Dat[\"gridsize\"].isin([\"rig3_3x3_bigger\", \"rig3_3x3_smallestest\"])].reset_index(drop=True)"
   ]
  },
  {
   "cell_type": "code",
   "execution_count": null,
   "metadata": {},
   "outputs": [],
   "source": [
    "# 3) WIthin each shape, remove strokes that are outliers (e..g, done in wrong direction)\n",
    "assert False, \"make a copy, or else preprocess will change strokes permanently\"\n",
    "shapedict = DS.grouping_get_inner_items()\n",
    "for shape, inds in shapedict.items():\n",
    "    # get sim matrix\n",
    "    DS.cluster_compute_sim_matrix(inds, do_preprocess=False)\n",
    "    adsf"
   ]
  },
  {
   "cell_type": "code",
   "execution_count": null,
   "metadata": {},
   "outputs": [],
   "source": [
    "DS.Dat = df"
   ]
  },
  {
   "cell_type": "code",
   "execution_count": null,
   "metadata": {},
   "outputs": [],
   "source": [
    "df = DS.Dat.copy()"
   ]
  },
  {
   "cell_type": "code",
   "execution_count": null,
   "metadata": {
    "scrolled": false
   },
   "outputs": [],
   "source": [
    "### 1) Only keep levels that have enough trials\n",
    "from pythonlib.tools.pandastools import filter_by_min_n\n",
    "\n",
    "n_min_per_level = 20 # min total n trials for level\n",
    "DATAPLOT_GROUPING_VARS = ['shape_oriented', 'gridloc', 'gridsize']\n",
    "for grp in DATAPLOT_GROUPING_VARS:\n",
    "    print(\"====\", grp)\n",
    "    df = filter_by_min_n(df, grp, n_min_per_level)\n",
    "    \n",
    "#     levels = DS.Dat[grp].unique()\n",
    "    \n",
    "#     for lev in levels:\n",
    "#         n = sum(DS.Dat[grp]==lev)\n",
    "#         if n<n_min_per_level:\n",
    "#             # then remove it\n",
    "#             inds = DS.Dat[DS.Dat[grp]==lev].index.tolist()\n",
    "#             indstoremove.extend(inds)\n",
    "#             print(f'REMOVING, n={n} |', lev, ' --------  ', sum(DS.Dat[grp]==lev))\n",
    "#         print(lev, ' --------  ', sum(DS.Dat[grp]==lev))\n",
    "# print('removing this many indices: ', len(set(indstoremove)))\n",
    "# DS.Dat = DS.Dat.drop(indstoremove).reset_index(drop=True)"
   ]
  },
  {
   "cell_type": "markdown",
   "metadata": {},
   "source": [
    "##### Final counts for each conjuctive level"
   ]
  },
  {
   "cell_type": "code",
   "execution_count": null,
   "metadata": {
    "scrolled": false
   },
   "outputs": [],
   "source": [
    "\n",
    "DATAPLOT_GROUPING_VARS = ['shape_oriented', 'gridloc', 'gridsize']\n",
    "from pythonlib.tools.pandastools import grouping_append_and_return_inner_items\n",
    "groupdict = grouping_append_and_return_inner_items(DS.Dat, DATAPLOT_GROUPING_VARS)\n",
    "\n",
    "# print summary\n",
    "for grp, inds in groupdict.items():\n",
    "    print(grp, ' ----- ' , len(inds))\n",
    "    \n",
    "print(\"  \")\n",
    "print(\"This many groups:\")\n",
    "print(len(groupdict))"
   ]
  },
  {
   "cell_type": "markdown",
   "metadata": {},
   "source": [
    "### PLOT - behavior, each stroke"
   ]
  },
  {
   "cell_type": "code",
   "execution_count": null,
   "metadata": {},
   "outputs": [],
   "source": [
    "sdir_beh = f\"{SAVEDIR}/behavior\"\n",
    "os.makedirs(sdir_beh, exist_ok=True)\n",
    "print(\"Made this dir to save plots: \", sdir_beh)"
   ]
  },
  {
   "cell_type": "code",
   "execution_count": null,
   "metadata": {},
   "outputs": [],
   "source": [
    "# sort\n",
    "\n",
    "groupdict = {key:groupdict[key] for key in sorted(groupdict.keys())}\n"
   ]
  },
  {
   "cell_type": "markdown",
   "metadata": {},
   "source": [
    "### [GOOD] Plots of behavior, grouped"
   ]
  },
  {
   "cell_type": "code",
   "execution_count": null,
   "metadata": {},
   "outputs": [],
   "source": [
    "def _grp_to_str(grp):\n",
    "    return \"__\".join([str(g) for g in grp])\n",
    "     \n",
    "# Print distrubutions of categories\n",
    "from pythonlib.tools.pandastools import grouping_append_and_return_inner_items\n",
    "groupdict = grouping_append_and_return_inner_items(DS.Dat, DATAPLOT_GROUPING_VARS)\n",
    "\n",
    "from pythonlib.tools.expttools import writeDictToYaml\n",
    "path = f\"{sdir_beh}/groupdict_all_orig.yaml\"\n",
    "writeDictToYaml(groupdict, path)\n",
    "\n",
    "groupdict_str = {_grp_to_str(grp):inds for grp, inds in groupdict.items()}\n",
    "path = f\"{sdir_beh}/groupdict_all_str.yaml\"\n",
    "writeDictToYaml(groupdict_str, path)\n",
    "\n",
    "groupdict_n = {grp:len(inds) for grp, inds in groupdict_str.items()}\n",
    "path = f\"{sdir_beh}/groupdict_n_all_str.yaml\"\n",
    "writeDictToYaml(groupdict_n, path)\n"
   ]
  },
  {
   "cell_type": "code",
   "execution_count": null,
   "metadata": {},
   "outputs": [],
   "source": [
    "# One subplot overlaying for each group\n",
    "\n",
    "from pythonlib.tools.plottools import subplot_helper\n",
    "\n",
    "# 1) plot all\n",
    "getax, figholder, nplots = subplot_helper(3, 8, len(groupdict), SIZE=4)\n",
    "for i, (grp, inds) in enumerate(groupdict.items()):\n",
    "    ax = getax(i)\n",
    "    DS.plot_strokes_overlaid(inds, ax)\n",
    "    ax.set_title(grp)\n",
    "    fig.savefig(f\"{sdir_beh}/strokes_grouped_all_{i}.pdf\")\n",
    "\n",
    "\n",
    "# 2) plot random subset\n",
    "for it in range(3):\n",
    "    nmax = 2;\n",
    "    getax, figholder, nplots = subplot_helper(3, 8, len(groupdict), SIZE=4)\n",
    "    for i, (grp, inds) in enumerate(groupdict.items()):\n",
    "        ax = getax(i)\n",
    "        DS.plot_strokes_overlaid(inds, ax, nmax=nmax)\n",
    "        ax.set_title(grp)\n",
    "    for i, x in enumerate(figholder):\n",
    "        fig = x[0]\n",
    "        fig.savefig(f\"{sdir_beh}/strokes_grouped_random_{nmax}_{i}-iter_{it}.pdf\")\n"
   ]
  },
  {
   "cell_type": "code",
   "execution_count": null,
   "metadata": {},
   "outputs": [],
   "source": [
    "# figs = figholder[0]\n",
    "\n",
    "for it in range(3):\n",
    "    figholder = DS.plot_egstrokes_grouped_in_subplots(task_kind=None, n_examples=3)\n",
    "    for i, x in enumerate(figholder):\n",
    "        fig = x[0]\n",
    "        fig.savefig(f\"{sdir_beh}/datstrokes_egstrokes_grouped_subplots_{i}-iter_{it}.pdf\")\n",
    "        "
   ]
  },
  {
   "cell_type": "markdown",
   "metadata": {},
   "source": [
    "### [GOOD] Plot all projections PCA "
   ]
  },
  {
   "cell_type": "code",
   "execution_count": null,
   "metadata": {},
   "outputs": [],
   "source": [
    "from neuralmonkey.analyses.prims_state_space import plotall_state_space_iter_hyperparams\n",
    "DATAPLOT_GROUPING_VARS = ['shape_oriented', 'gridloc', 'gridsize']\n",
    "LIST_PCA_AGG = [DATAPLOT_GROUPING_VARS] + [[x] for x in DATAPLOT_GROUPING_VARS]\n",
    "# LIST_PCA_AGG = [\n",
    "#     [\"shape_oriented\", \"gridloc\"],\n",
    "#     [\"shape_oriented\"], \n",
    "#     [\"gridloc\"]]\n",
    "\n",
    "LIST_REGIONS = [[\"M1_m\", \"M1_l\"],\n",
    "                [\"PMd_a\", \"PMd_p\"],\n",
    "                [\"dlPFC_p\", \"dlPFC_a\"],\n",
    "                [\"vlPFC_p\", \"vlPFC_a\"],\n",
    "                [\"SMA_p\", \"SMA_a\"], \n",
    "                [\"preSMA_p\", \"preSMA_a\"],\n",
    "                [\"PMv_m\", \"PMv_l\"],\n",
    "                [\"FP_p\", \"FP_a\"], \n",
    "               None]\n",
    "\n",
    "# - DIfferent subplots\n",
    "LIST_VARNAMES_SUBPLOT = [\n",
    "    [None, \"gridsize\"],\n",
    "    [None, \"gridloc\"],\n",
    "    [None, \"shape_oriented\"]]\n",
    "for x in DATAPLOT_GROUPING_VARS:\n",
    "    this = x\n",
    "    others_conj = tuple([y for y in DATAPLOT_GROUPING_VARS if y!=x])\n",
    "    LIST_VARNAMES_SUBPLOT.append([others_conj, this])\n",
    "    \n",
    "print(\"--- Making these plots:\")\n",
    "for x in LIST_VARNAMES_SUBPLOT:\n",
    "    print(x)\n",
    "\n",
    "    \n",
    "\n",
    "plotall_state_space_iter_hyperparams(MS, DS, LIST_PCA_AGG, LIST_REGIONS, LIST_VARNAMES_SUBPLOT,\n",
    "                                    DATAPLOT_GROUPING_VARS, SAVEDIR)"
   ]
  },
  {
   "cell_type": "markdown",
   "metadata": {},
   "source": [
    "### [GOOD] DECODING"
   ]
  },
  {
   "cell_type": "code",
   "execution_count": null,
   "metadata": {},
   "outputs": [],
   "source": [
    "LIST_REGIONS = [[\"M1_m\", \"M1_l\"],\n",
    "                [\"PMd_a\", \"PMd_p\"],\n",
    "                [\"dlPFC_p\", \"dlPFC_a\"],\n",
    "                [\"vlPFC_p\", \"vlPFC_a\"],\n",
    "                [\"SMA_p\", \"SMA_a\"], \n",
    "                [\"preSMA_p\", \"preSMA_a\"], \n",
    "                [\"PMv_m\", \"PMv_l\"],\n",
    "                [\"FP_p\", \"FP_a\"], \n",
    "               None]\n",
    "LIST_ALIGN_TO = [\"go_cue\", \"stroke_onset\"]\n",
    "# LIST_YFEAT = [\"gridsize\", \"shape_oriented\", \"gridloc\"]\n",
    "LIST_YFEAT = [\"gridsize\", \"shape_oriented\", \"gridloc\"]\n",
    "# LIST_NDIMS = [None, 15] # all, subset\n",
    "LIST_NDIMS = [None] # all, subset\n",
    "    \n",
    "SAVEDIR_DECODE = f\"/gorilla1/analyses/recordings/NOTEBOOKS/220713_prims_state_space/{animal}/{DATE}/DECODE\"\n",
    "VERSION = \"PCA\"\n",
    "\n",
    "\n",
    "pca_trial_agg_grouping=None\n",
    "pca_trial_agg_method = None\n",
    "pca_time_agg_method = None"
   ]
  },
  {
   "cell_type": "code",
   "execution_count": null,
   "metadata": {
    "scrolled": true
   },
   "outputs": [],
   "source": [
    "from neuralmonkey.analyses.prims_decode import decode_and_plot_iter_hyperparams\n",
    "\n",
    "decode_and_plot_iter_hyperparams(MS, DS, LIST_REGIONS, LIST_ALIGN_TO, LIST_YFEAT, LIST_NDIMS,\n",
    "    SAVEDIR_DECODE, VERSION, DATAPLOT_GROUPING_VARS, pca_trial_agg_grouping,\n",
    "    pca_trial_agg_method, pca_time_agg_method)"
   ]
  },
  {
   "cell_type": "code",
   "execution_count": null,
   "metadata": {},
   "outputs": [],
   "source": []
  },
  {
   "cell_type": "markdown",
   "metadata": {},
   "source": [
    "##### [Debugging] Decode stuff above"
   ]
  },
  {
   "cell_type": "code",
   "execution_count": null,
   "metadata": {},
   "outputs": [],
   "source": [
    "DATAPLOT_GROUPING_VARS_NOT_YFEAT = [var for var in DATAPLOT_GROUPING_VARS if var!=yfeat]\n",
    "DfTrials = dftrials_centerize_by_group_mean(DfTrials, DATAPLOT_GROUPING_VARS_NOT_YFEAT)\n",
    "\n",
    "DfTrials"
   ]
  },
  {
   "cell_type": "code",
   "execution_count": null,
   "metadata": {},
   "outputs": [],
   "source": [
    "def convert_labelcode_to_name(yfeat, codenum):\n",
    "    \"\"\" \n",
    "    PARAMS:\n",
    "    - yfeat, str, then feature being predicted, e.g., shape_oriented\n",
    "    - codenum, the integer code. \n",
    "    --- int\n",
    "    \"\"\"\n",
    "    for name, num in MapVarToCat[yfeat].items():\n",
    "        if num==codenum:\n",
    "            return name\n",
    "    print(yfeat, codenum)\n",
    "    print(MapVarToCat)\n",
    "    assert False, \"didnt find it\"\n"
   ]
  },
  {
   "cell_type": "code",
   "execution_count": null,
   "metadata": {},
   "outputs": [],
   "source": [
    "##### Hyperparams optimization\n",
    "if False:\n",
    "    import random\n",
    "    ntrials = len(DfTrials)\n",
    "    inds = random.sample(range(len(DfTrials)), ntrials)\n",
    "    yfeat = \"shape_oriented\"\n",
    "    ndims = 12 # takes top n feature dimensions\n",
    "    X, y = dftrials_slice_for_model(DfTrials, inds, yfeat, ndims)\n",
    "    for C in [0.0001, 0.001, 0.01, 0.1, 1, 10, 100, 1000]:\n",
    "    #     print(C, _model_fit(X, y, model_params={\"C\":C}, do_train_test_split=True))\n",
    "        print(C, _model_score(X, y, model_params={\"C\":C}, do_train_test_split=True, mean_score=True))\n",
    "\n"
   ]
  },
  {
   "cell_type": "markdown",
   "metadata": {},
   "source": [
    "### (ANOVA AND OTHER PLOTS) - is there evidence for differences in activity across features?"
   ]
  },
  {
   "cell_type": "markdown",
   "metadata": {},
   "source": [
    "### ANOVA PLOTS for SEQUENCEING"
   ]
  },
  {
   "cell_type": "code",
   "execution_count": null,
   "metadata": {},
   "outputs": [],
   "source": [
    "# Extract params for each trial\n",
    "sn = MS.SessionsList[0]\n",
    "D = sn.Datasetbeh\n",
    "\n",
    "# 1) Convert to dataset strokes (task variant)\n",
    "from pythonlib.dataset.dataset_strokes import DatStrokes\n",
    "# DSbeh = DatStrokes(D, version=\"beh\")\n",
    "DStask = DatStrokes(D, version=\"task\") "
   ]
  },
  {
   "cell_type": "code",
   "execution_count": null,
   "metadata": {},
   "outputs": [],
   "source": [
    "# 1) only prims in grid\n",
    "DStask.dataset_append_column(\"supervision_stage_concise\")\n",
    "filtdict = {\"task_kind\":[\"prims_on_grid\"], \"supervision_stage_concise\":[\"off|1|solid|0\"]}\n",
    "DStask.filter_dataframe(filtdict, True)"
   ]
  },
  {
   "cell_type": "code",
   "execution_count": null,
   "metadata": {},
   "outputs": [],
   "source": [
    "assert False, \"see D.seqcontext...\"\n",
    "# Method 1 - level of trial\n",
    "# for each trial, extract \n",
    "# - n strokes\n",
    "# - for each stroke: (i) shape, (i) locaiton, (ii) size.\n",
    "\n",
    "n_strok_max = 3 # max num strokes the check for.\n",
    "\n",
    "datall = []\n",
    "for i in range(len(D.Dat)):\n",
    "    \n",
    "    dictthis = {}\n",
    "    \n",
    "    # collect info about this trial\n",
    "    trialcode = D.Dat.iloc[i][\"trialcode\"]   \n",
    "    dfthis = DStask.Dat[(DStask.Dat[\"dataset_trialcode\"] == trialcode)]\n",
    "    dictthis[\"nstrok\"] = len(dfthis)\n",
    "    dictthis[\"trialcode\"] = trialcode\n",
    "    dictthis[\"idx_Dataset\"] = i\n",
    "    \n",
    "    # for each stroke index..\n",
    "    for indstrok in range(n_strok_max):\n",
    "        dfthis = DStask.Dat[(DStask.Dat[\"dataset_trialcode\"] == trialcode) & (DStask.Dat[\"stroke_index\"] == indstrok)]\n",
    "        \n",
    "        if len(dfthis)==0:\n",
    "            # skip, doesnt have this stroke\n",
    "            dictthis[f\"{indstrok}_shape\"] = None\n",
    "            dictthis[f\"{indstrok}_loc\"] = None\n",
    "            dictthis[f\"{indstrok}_size\"] = None\n",
    "            assert dictthis[\"nstrok\"]<indstrok+1, \"bug in code, total n beh strokes should be dictthis[nstrok]\"\n",
    "        elif len(dfthis)>1:\n",
    "            print(dfthis)\n",
    "            print(i, indstrok)\n",
    "            assert False, \"shoudlnt be possible\"\n",
    "        else:\n",
    "            # good, found a single item\n",
    "            dictthis[f\"{indstrok}_shape\"] = dfthis[\"shape_oriented\"].values[0]\n",
    "            dictthis[f\"{indstrok}_loc\"] = dfthis[\"gridloc\"].values[0]\n",
    "            dictthis[f\"{indstrok}_size\"] = dfthis[\"gridsize\"].values[0]\n",
    "        \n",
    "    datall.append(dictthis)\n",
    "            \n",
    "\n",
    "import pandas as pd\n",
    "dfall = pd.DataFrame(datall)\n",
    "\n",
    "print(\"== n trials having specific num of total beh strokes: \")\n",
    "print(dfall[\"nstrok\"].value_counts())\n",
    "\n",
    "\n",
    "# Insert values into D.Dat\n",
    "\n",
    "from pythonlib.tools.pandastools import mergeOnIndex\n",
    "\n",
    "D.Dat = mergeOnIndex(D.Dat, dfall)\n",
    "sn.Datasetbeh = D # reassign to sn, for snippets exgtraction, needs this.\n",
    "\n",
    "# keep only trials with n strokes\n",
    "n_strokes_keep = 3\n",
    "D.filterPandas({\"nstrok\":[n_strokes_keep]}, \"modify\")\n",
    "\n",
    "# TODO: Plot the distributions of these variables.\n"
   ]
  },
  {
   "cell_type": "markdown",
   "metadata": {},
   "source": [
    "### [GOOD] Full pipeline for scalar anova plots"
   ]
  },
  {
   "cell_type": "markdown",
   "metadata": {},
   "source": [
    "##### TODO:\n",
    "\n",
    "1. Plot behavior\n",
    "\n",
    "2. Incorporate PCA and decode (population stuff, from above)\n",
    "\n",
    "\n"
   ]
  },
  {
   "cell_type": "code",
   "execution_count": 23,
   "metadata": {},
   "outputs": [],
   "source": [
    "from neuralmonkey.classes.snippets import datasetstrokes_extract\n",
    "import os\n",
    "import numpy as np\n",
    "import seaborn as sns\n",
    "\n",
    "\n",
    "# Which version to use?\n",
    "QUESTION = \"stroke\"\n",
    "# QUESTION = \"stroke\"\n",
    "# QUESTION = \"sequence\"\n",
    "# QUESTION = \"rulesw\"\n",
    "DEBUG = False\n",
    "EVENTS_SIMPLE = True\n",
    "SESSIONS = [1]\n",
    "\n",
    "#######################################\n",
    "list_features = [\"trialcode\", \"epoch\", \"character\", \"taskgroup\", \"supervision_stage_concise\"]\n",
    "sn = MS.SessionsList[0]\n",
    "if SESSIONS is None:\n",
    "    SESSIONS = range(len(MS.SessionsList))\n",
    "\n",
    "if QUESTION==\"stroke\":\n",
    "    ##### PARAMAS\n",
    "    list_possible_features = [\"gridsize\", \"shape_oriented\", \"gridloc\"]\n",
    "    list_events = [\"samp\", \"samp\", \"first_raise\", \"on_strokeidx_0\", \"on_strokeidx_0\"]\n",
    "    list_pre_dur = [-0.4, 0.1, -0.55, -0.55, 0.05]\n",
    "    list_post_dur = [-0.05, 0.65, -0.05, -0.05, 0.55]\n",
    "    \n",
    "    if EVENTS_SIMPLE:\n",
    "        list_events = [\"samp\", \"samp\", \"on_strokeidx_0\"]\n",
    "        list_pre_dur = [-0.4, 0.1, 0.05]\n",
    "        list_post_dur = [-0.05, 0.65, 0.55]\n",
    "        \n",
    "    # list_events = [\"fixcue\", \"samp\", \"samp\", \"first_raise\", \"on_strokeidx_0\", \"on_strokeidx_0\"]\n",
    "    # list_pre_dur = [-0.5, -0.3, 0.1, -0.55, -0.55, 0.05]\n",
    "    # list_post_dur = [0., 0., 0.65, -0.05, 0.05, 0.55]\n",
    "    \n",
    "    list_features_get_conjunction = [\"gridsize\", \"shape_oriented\", \"gridloc\"]\n",
    "\n",
    "elif QUESTION==\"rulesw\":\n",
    "    if np.any(sn._behcode_extract_times(132)):\n",
    "        # Then there are separated in time: cue alone --> strokes alone\n",
    "        list_events = [\"fixcue\", \"fix_touch\", \"fix_touch\", \"samp\", \"samp\", \"first_raise\", \"on_strokeidx_0\", \"on_strokeidx_0\"]\n",
    "        list_pre_dur = [-0.8, -0.45, 0.1, -0.75, 0.1, -0.55, -0.55, 0.05]\n",
    "        list_post_dur = [-0.1, -0,  0.8, -0.05, 0.95, -0.05, -0.05, 0.55]\n",
    "    else:\n",
    "        list_events = [\"fixcue\", \"fix_touch\", \"samp\", \"samp\", \"first_raise\", \"on_strokeidx_0\", \"on_strokeidx_0\"]\n",
    "        list_pre_dur = [-0.8, -0.45, -0.65, 0.1, -0.55, -0.55, 0.05]\n",
    "        list_post_dur = [-0.1, -0, -0.05, 0.95, -0.05, -0.05, 0.55]\n",
    "    list_features_get_conjunction = [\"epoch\"]\n",
    "elif QUESTION==\"sequence\":\n",
    "    if np.any(sn._behcode_extract_times(132)):\n",
    "        # Then there are separated in time: cue alone --> strokes alone\n",
    "        list_events = [\"fixcue\", \"fix_touch\", \"fix_touch\", \"samp\", \"samp\", \"first_raise\", \"on_strokeidx_0\", \"on_strokeidx_0\"]\n",
    "        list_pre_dur = [-0.8, -0.45, 0.1, -0.75, 0.1, -0.55, -0.55, 0.05]\n",
    "        list_post_dur = [-0.1, -0,  0.8, -0.05, 0.95, -0.05, -0.05, 0.55]\n",
    "    else:\n",
    "        list_events = [\"fixcue\", \"fix_touch\", \"samp\", \"samp\", \"first_raise\", \"on_strokeidx_0\", \"on_strokeidx_0\"]\n",
    "        list_pre_dur = [-0.8, -0.45, -0.65, 0.1, -0.55, -0.55, 0.05]\n",
    "        list_post_dur = [-0.1, -0, -0.05, 0.95, -0.05, -0.05, 0.55]\n",
    "    list_features_get_conjunction = [\"nstrok\", \"0_shape\", \"0_loc\", \"1_shape\", \"1_loc\", \"2_shape\", \"2_loc\"]\n",
    "else:\n",
    "    assert False\n",
    "\n",
    "\n",
    "    \n",
    "if DEBUG:\n",
    "    list_events = [\"fixcue\", \"fix_touch\"]\n",
    "    list_pre_dur = [-0.8, -0.45]\n",
    "    list_post_dur = [-0.1, -0]\n",
    "    list_features_get_conjunction = [\"0_shape\", \"0_loc\", \"1_shape\", \"1_loc\", \"2_shape\", \"2_loc\"]\n",
    "\n",
    "# make sure do extraction of relevant features.\n",
    "list_features = list(set(list_features + list_features_get_conjunction))\n",
    "    "
   ]
  },
  {
   "cell_type": "code",
   "execution_count": null,
   "metadata": {
    "scrolled": true
   },
   "outputs": [
    {
     "name": "stdout",
     "output_type": "stream",
     "text": [
      "stored in self.Dat[BehClass]\n",
      "0\n",
      "200\n",
      "Removing these trials: \n",
      "[]\n",
      "self.Dat starting legnth:  395\n",
      "Modified self.Dat, keeping only the inputted inds\n",
      "self.Dat final legnth:  395\n",
      "0\n",
      "100\n"
     ]
    },
    {
     "name": "stderr",
     "output_type": "stream",
     "text": [
      "/gorilla1/code/pythonlib/pythonlib/drawmodel/features.py:107: RuntimeWarning: invalid value encountered in double_scalars\n",
      "  return [1-p/t for p,t in zip(displace,distance)]\n"
     ]
    },
    {
     "name": "stdout",
     "output_type": "stream",
     "text": [
      "200\n",
      "300\n",
      "This many beh strokes extracted:  396\n",
      "This many cases with >1 beh stroke needed to completed a task stroke:  2\n",
      "==== gridsize\n",
      "rig3_3x3_small  --------   394\n",
      "(removing this many indices):  0\n",
      "==== shape_oriented\n",
      "circle-1-0  --------   57\n",
      "squiggle3-2-1  --------   55\n",
      "squiggle3-1-0  --------   56\n",
      "Lcentered-3-0  --------   57\n",
      "V-2-0  --------   57\n",
      "V-4-0  --------   57\n",
      "Lcentered-4-0  --------   55\n",
      "(removing this many indices):  0\n",
      "==== gridloc\n",
      "(0, 0)  --------   101\n",
      "(1, 0)  --------   100\n",
      "(0, 1)  --------   99\n",
      "(1, 1)  --------   94\n",
      "(removing this many indices):  0\n",
      "DONE!\n",
      " \n",
      "--- Unique levels for this category:  gridsize\n",
      "rig3_3x3_small    394\n",
      "Name: gridsize, dtype: int64\n",
      " \n",
      "--- Unique levels for this category:  shape_oriented\n",
      "circle-1-0       57\n",
      "Lcentered-3-0    57\n",
      "V-2-0            57\n",
      "V-4-0            57\n",
      "squiggle3-1-0    56\n",
      "squiggle3-2-1    55\n",
      "Lcentered-4-0    55\n",
      "Name: shape_oriented, dtype: int64\n",
      " \n",
      "--- Unique levels for this category:  gridloc\n",
      "(0, 0)    101\n",
      "(1, 0)    100\n",
      "(0, 1)     99\n",
      "(1, 1)     94\n",
      "Name: gridloc, dtype: int64\n",
      "=== USING THESE FEATURES: ['shape_oriented', 'gridloc']\n",
      "Extracvting snips..\n",
      "stored in self.Dat[BehClass]\n",
      "0\n",
      "200\n",
      "Removing these trials: \n",
      "[]\n",
      "self.Dat starting legnth:  395\n",
      "Modified self.Dat, keeping only the inputted inds\n",
      "self.Dat final legnth:  395\n",
      "0\n",
      "100\n"
     ]
    },
    {
     "name": "stderr",
     "output_type": "stream",
     "text": [
      "/gorilla1/code/pythonlib/pythonlib/drawmodel/features.py:107: RuntimeWarning: invalid value encountered in double_scalars\n",
      "  return [1-p/t for p,t in zip(displace,distance)]\n"
     ]
    },
    {
     "name": "stdout",
     "output_type": "stream",
     "text": [
      "200\n",
      "300\n",
      "This many beh strokes extracted:  396\n",
      "This many cases with >1 beh stroke needed to completed a task stroke:  2\n",
      "DONE!\n",
      " \n",
      "--- Unique levels for this category:  shape_oriented\n",
      "circle-1-0       57\n",
      "Lcentered-3-0    57\n",
      "V-2-0            57\n",
      "V-4-0            57\n",
      "squiggle3-1-0    56\n",
      "squiggle3-2-1    55\n",
      "Lcentered-4-0    55\n",
      "Name: shape_oriented, dtype: int64\n",
      " \n",
      "--- Unique levels for this category:  gridloc\n",
      "(0, 0)    101\n",
      "(1, 0)    100\n",
      "(0, 1)     99\n",
      "(1, 1)     94\n",
      "Name: gridloc, dtype: int64\n",
      "\n",
      " == extarcating these sites:  [1, 2, 3, 4, 5, 6, 7, 8, 9, 10, 11, 13, 14, 15, 16, 20, 22, 23, 24, 25, 27, 29, 31, 32, 35, 37, 39, 40, 41, 42, 43, 45, 46, 47, 48, 49, 51, 52, 53, 55, 57, 59, 61, 62, 63, 64, 66, 68, 69, 70, 71, 72, 78, 79, 81, 84, 87, 92, 94, 96, 97, 98, 99, 101, 103, 106, 107, 108, 109, 110, 111, 114, 115, 116, 117, 119, 120, 121, 123, 124, 126, 130, 132, 134, 135, 136, 138, 140, 141, 142, 143, 144, 145, 146, 148, 150, 151, 153, 155, 158, 159, 161, 162, 164, 165, 169, 171, 173, 175, 177, 179, 180, 181, 182, 183, 184, 185, 186, 187, 188, 189, 190, 193, 194, 195, 196, 198, 200, 203, 205, 206, 208, 209, 210, 212, 213, 215, 217, 219, 220, 221, 223, 224, 227, 231, 232, 237, 239, 240, 241, 242, 243, 244, 247, 248, 249, 250, 252, 253, 255, 256, 257, 258, 259, 260, 262, 263, 264, 265, 267, 268, 269, 270, 271, 272, 273, 274, 275, 276, 277, 278, 279, 282, 286, 287, 288, 292, 293, 294, 295, 296, 301, 302, 303, 304, 305, 308, 310, 311, 312, 313, 314, 315, 320, 322, 323, 327, 329, 331, 332, 333, 335, 337, 338, 339, 340, 344, 345, 346, 348, 349, 350, 351, 352, 353, 354, 355, 356, 357, 359, 360, 363, 369, 371, 372, 374, 376, 384, 385, 386, 387, 388, 389, 390, 391, 392, 394, 395, 396, 397, 398, 400, 401, 402, 403, 404, 405, 406, 407, 408, 409, 410, 411, 413, 414, 415, 417, 418, 419, 420, 421, 422, 423, 425, 426, 427, 428, 429, 430, 431, 432, 433, 434, 435, 436, 437, 438, 439, 442, 443, 444, 445, 446, 447, 448, 449, 450, 451, 452, 453, 454, 455, 457, 458, 459, 460, 461, 462, 463, 464, 465, 467, 468, 469, 470, 471, 472, 473, 474, 475, 476, 477, 478, 479, 481, 482, 483, 484, 485, 486, 487, 490, 492, 493, 494, 495, 496, 497, 498, 500, 501, 502, 503, 504, 505, 506, 507, 508, 509, 510, 511, 512]\n",
      "\n",
      " == generating popanal for:  samp\n",
      "Generating PA\n",
      "Extracting pa for:  samp\n",
      "Extracting dataset features into pa.Xlabel [trials]\n",
      "Extracting dataset features into pa.Xlabel [chans]\n",
      "Extracting dataset features into pa.Xlabel [trials]\n",
      "\n",
      " == labels_features_input_conjunction_other_vars:  samp\n",
      "added column:  gridloc\n",
      "added column:  shape_oriented\n",
      "\n",
      " == generating popanal for:  samp\n",
      "Generating PA\n",
      "Extracting pa for:  samp\n",
      "Extracting dataset features into pa.Xlabel [trials]\n",
      "Extracting dataset features into pa.Xlabel [chans]\n",
      "Extracting dataset features into pa.Xlabel [trials]\n",
      "\n",
      " == labels_features_input_conjunction_other_vars:  samp\n",
      "added column:  gridloc\n",
      "added column:  shape_oriented\n",
      "\n",
      " == generating popanal for:  on_strokeidx_0\n",
      "Generating PA\n",
      "Extracting pa for:  on_strokeidx_0\n",
      "Extracting dataset features into pa.Xlabel [trials]\n",
      "Extracting dataset features into pa.Xlabel [chans]\n",
      "Extracting dataset features into pa.Xlabel [trials]\n",
      "\n",
      " == labels_features_input_conjunction_other_vars:  on_strokeidx_0\n",
      "added column:  gridloc\n",
      "added column:  shape_oriented\n",
      "* List events: ['00_samp', '01_samp', '02_on_strokeidx_0']\n",
      "\n",
      " == listpa_convert_to_scalars\n",
      "Final data shape: (1, 416064, 1)\n",
      "\n",
      " == pascal_convert_to_dataframe\n",
      "Running SP.pascal_convert_to_dataframe\n",
      "len self.DfScalar: 416064\n",
      "self.PAscalar.X.shape :  (1, 416064, 1)\n",
      "\n",
      " == _preprocess_map_features_to_levels\n",
      "1\n",
      "2\n",
      "3\n",
      "4\n",
      "5\n",
      "6\n",
      "7\n",
      "8\n",
      "9\n",
      "10\n",
      "11\n",
      "13\n",
      "14\n",
      "15\n",
      "16\n",
      "20\n",
      "22\n",
      "23\n",
      "24\n",
      "25\n",
      "27\n",
      "29\n",
      "31\n",
      "32\n",
      "35\n",
      "37\n",
      "39\n",
      "40\n",
      "41\n",
      "42\n",
      "43\n",
      "45\n",
      "46\n",
      "47\n",
      "48\n",
      "49\n",
      "51\n",
      "52\n",
      "53\n",
      "55\n",
      "57\n",
      "59\n",
      "61\n",
      "62\n",
      "63\n",
      "64\n",
      "66\n",
      "68\n",
      "69\n",
      "70\n",
      "71\n",
      "72\n",
      "78\n",
      "79\n",
      "81\n",
      "84\n",
      "87\n",
      "92\n",
      "94\n",
      "96\n",
      "97\n",
      "98\n",
      "99\n",
      "101\n",
      "103\n",
      "106\n",
      "107\n",
      "108\n",
      "109\n",
      "110\n",
      "111\n",
      "114\n",
      "115\n",
      "116\n",
      "117\n",
      "119\n",
      "120\n",
      "121\n",
      "123\n",
      "124\n",
      "126\n",
      "130\n",
      "132\n",
      "134\n",
      "135\n",
      "136\n",
      "138\n",
      "140\n",
      "141\n",
      "142\n",
      "143\n",
      "144\n",
      "145\n",
      "146\n",
      "148\n",
      "150\n",
      "151\n",
      "153\n",
      "155\n",
      "158\n",
      "159\n",
      "161\n",
      "162\n",
      "164\n",
      "165\n",
      "169\n",
      "171\n",
      "173\n",
      "175\n",
      "177\n",
      "179\n",
      "180\n",
      "181\n",
      "182\n",
      "183\n",
      "184\n",
      "185\n",
      "186\n",
      "187\n",
      "188\n",
      "189\n",
      "190\n",
      "193\n",
      "194\n",
      "195\n",
      "196\n",
      "198\n",
      "200\n",
      "203\n",
      "205\n",
      "206\n",
      "208\n",
      "209\n",
      "210\n",
      "212\n",
      "213\n",
      "215\n",
      "217\n",
      "219\n",
      "220\n",
      "221\n",
      "223\n",
      "224\n",
      "227\n",
      "231\n",
      "232\n",
      "237\n",
      "239\n",
      "240\n",
      "241\n",
      "242\n",
      "243\n",
      "244\n",
      "247\n",
      "248\n",
      "249\n",
      "250\n",
      "252\n",
      "253\n",
      "255\n",
      "256\n",
      "257\n",
      "258\n",
      "259\n",
      "260\n",
      "262\n",
      "263\n",
      "264\n",
      "265\n",
      "267\n",
      "268\n",
      "269\n",
      "270\n",
      "271\n",
      "272\n",
      "273\n",
      "274\n",
      "275\n",
      "276\n",
      "277\n",
      "278\n",
      "279\n",
      "282\n",
      "286\n",
      "287\n",
      "288\n",
      "292\n",
      "293\n",
      "294\n",
      "295\n",
      "296\n",
      "301\n",
      "302\n",
      "303\n",
      "304\n",
      "305\n",
      "308\n",
      "310\n",
      "311\n",
      "312\n",
      "313\n",
      "314\n",
      "315\n",
      "320\n",
      "322\n",
      "323\n",
      "327\n",
      "329\n",
      "331\n",
      "332\n",
      "333\n",
      "335\n",
      "337\n",
      "338\n",
      "339\n",
      "340\n",
      "344\n",
      "345\n",
      "346\n",
      "348\n",
      "349\n",
      "350\n",
      "351\n",
      "352\n",
      "353\n",
      "354\n",
      "355\n",
      "356\n",
      "357\n",
      "359\n",
      "360\n",
      "363\n",
      "369\n",
      "371\n",
      "372\n",
      "374\n",
      "376\n",
      "384\n",
      "385\n",
      "386\n",
      "387\n",
      "388\n",
      "389\n",
      "390\n",
      "391\n",
      "392\n",
      "394\n",
      "395\n",
      "396\n",
      "397\n",
      "398\n",
      "400\n",
      "401\n",
      "402\n",
      "403\n",
      "404\n",
      "405\n",
      "406\n",
      "407\n",
      "408\n",
      "409\n",
      "410\n",
      "411\n",
      "413\n",
      "414\n",
      "415\n",
      "417\n",
      "418\n",
      "419\n",
      "420\n",
      "421\n",
      "422\n",
      "423\n",
      "425\n",
      "426\n",
      "427\n",
      "428\n",
      "429\n",
      "430\n",
      "431\n",
      "432\n",
      "433\n",
      "434\n",
      "435\n",
      "436\n",
      "437\n",
      "438\n",
      "439\n",
      "442\n",
      "443\n",
      "444\n",
      "445\n",
      "446\n",
      "447\n",
      "448\n",
      "449\n",
      "450\n",
      "451\n",
      "452\n",
      "453\n",
      "454\n",
      "455\n",
      "457\n",
      "458\n",
      "459\n",
      "460\n",
      "461\n",
      "462\n",
      "463\n",
      "464\n",
      "465\n",
      "467\n",
      "468\n",
      "469\n",
      "470\n",
      "471\n",
      "472\n",
      "473\n",
      "474\n",
      "475\n",
      "476\n",
      "477\n",
      "478\n",
      "479\n",
      "481\n",
      "482\n",
      "483\n",
      "484\n",
      "485\n",
      "486\n",
      "487\n",
      "490\n",
      "492\n",
      "493\n",
      "494\n",
      "495\n",
      "496\n",
      "497\n",
      "498\n",
      "500\n",
      "501\n",
      "502\n",
      "503\n",
      "504\n",
      "505\n",
      "506\n",
      "507\n",
      "508\n",
      "509\n",
      "510\n",
      "511\n",
      "512\n",
      "Found first post-samp event:  1 samp | times: 0.1 0.65\n",
      "Found first post-samp event:  1 samp | times: 0.1 0.65\n",
      "Found first post-samp event:  1 samp | times: 0.1 0.65\n",
      "Found first post-samp event:  1 samp | times: 0.1 0.65\n",
      "Found first post-samp event:  1 samp | times: 0.1 0.65\n",
      "Found first post-samp event:  1 samp | times: 0.1 0.65\n",
      "Found first post-samp event:  1 samp | times: 0.1 0.65\n",
      "Found first post-samp event:  1 samp | times: 0.1 0.65\n",
      "Found first post-samp event:  1 samp | times: 0.1 0.65\n",
      "Found first post-samp event:  1 samp | times: 0.1 0.65\n",
      "Found first post-samp event:  1 samp | times: 0.1 0.65\n",
      "Found first post-samp event:  1 samp | times: 0.1 0.65\n",
      "Found first post-samp event:  1 samp | times: 0.1 0.65\n",
      "Found first post-samp event:  1 samp | times: 0.1 0.65\n",
      "Found first post-samp event:  1 samp | times: 0.1 0.65\n",
      "Found first post-samp event:  1 samp | times: 0.1 0.65\n",
      "Found first post-samp event:  1 samp | times: 0.1 0.65\n",
      "Found first post-samp event:  1 samp | times: 0.1 0.65\n",
      "Found first post-samp event:  1 samp | times: 0.1 0.65\n",
      "Found first post-samp event:  1 samp | times: 0.1 0.65\n",
      "Found first post-samp event:  1 samp | times: 0.1 0.65\n",
      "Found first post-samp event:  1 samp | times: 0.1 0.65\n",
      "Found first post-samp event:  1 samp | times: 0.1 0.65\n",
      "Found first post-samp event:  1 samp | times: 0.1 0.65\n",
      "Found first post-samp event:  1 samp | times: 0.1 0.65\n",
      "Found first post-samp event:  1 samp | times: 0.1 0.65\n",
      "Found first post-samp event:  1 samp | times: 0.1 0.65\n",
      "Found first post-samp event:  1 samp | times: 0.1 0.65\n",
      "Found first post-samp event:  1 samp | times: 0.1 0.65\n",
      "Found first post-samp event:  1 samp | times: 0.1 0.65\n",
      "Found first post-samp event:  1 samp | times: 0.1 0.65\n",
      "Found first post-samp event:  1 samp | times: 0.1 0.65\n",
      "Found first post-samp event:  1 samp | times: 0.1 0.65\n",
      "Found first post-samp event:  1 samp | times: 0.1 0.65\n",
      "Found first post-samp event:  1 samp | times: 0.1 0.65\n",
      "Found first post-samp event:  1 samp | times: 0.1 0.65\n",
      "Found first post-samp event:  1 samp | times: 0.1 0.65\n",
      "Found first post-samp event:  1 samp | times: 0.1 0.65\n",
      "Found first post-samp event:  1 samp | times: 0.1 0.65\n",
      "Found first post-samp event:  1 samp | times: 0.1 0.65\n",
      "Found first post-samp event:  1 samp | times: 0.1 0.65\n",
      "Found first post-samp event:  1 samp | times: 0.1 0.65\n",
      "Found first post-samp event:  1 samp | times: 0.1 0.65\n",
      "Found first post-samp event:  1 samp | times: 0.1 0.65\n",
      "Found first post-samp event:  1 samp | times: 0.1 0.65\n",
      "Found first post-samp event:  1 samp | times: 0.1 0.65\n",
      "Found first post-samp event:  1 samp | times: 0.1 0.65\n",
      "Found first post-samp event:  1 samp | times: 0.1 0.65\n",
      "Found first post-samp event:  1 samp | times: 0.1 0.65\n",
      "Found first post-samp event:  1 samp | times: 0.1 0.65\n",
      "Found first post-samp event:  1 samp | times: 0.1 0.65\n",
      "Found first post-samp event:  1 samp | times: 0.1 0.65\n",
      "Found first post-samp event:  1 samp | times: 0.1 0.65\n",
      "Found first post-samp event:  1 samp | times: 0.1 0.65\n",
      "Found first post-samp event:  1 samp | times: 0.1 0.65\n",
      "Found first post-samp event:  1 samp | times: 0.1 0.65\n",
      "Found first post-samp event:  1 samp | times: 0.1 0.65\n",
      "Found first post-samp event:  1 samp | times: 0.1 0.65\n",
      "Found first post-samp event:  1 samp | times: 0.1 0.65\n",
      "Found first post-samp event:  1 samp | times: 0.1 0.65\n",
      "Found first post-samp event:  1 samp | times: 0.1 0.65\n",
      "Found first post-samp event:  1 samp | times: 0.1 0.65\n",
      "Found first post-samp event:  1 samp | times: 0.1 0.65\n",
      "Found first post-samp event:  1 samp | times: 0.1 0.65\n",
      "Found first post-samp event:  1 samp | times: 0.1 0.65\n",
      "Found first post-samp event:  1 samp | times: 0.1 0.65\n",
      "Found first post-samp event:  1 samp | times: 0.1 0.65\n",
      "Found first post-samp event:  1 samp | times: 0.1 0.65\n",
      "Found first post-samp event:  1 samp | times: 0.1 0.65\n",
      "Found first post-samp event:  1 samp | times: 0.1 0.65\n",
      "Found first post-samp event:  1 samp | times: 0.1 0.65\n",
      "Found first post-samp event:  1 samp | times: 0.1 0.65\n",
      "Found first post-samp event:  1 samp | times: 0.1 0.65\n",
      "Found first post-samp event:  1 samp | times: 0.1 0.65\n",
      "Found first post-samp event:  1 samp | times: 0.1 0.65\n",
      "Found first post-samp event:  1 samp | times: 0.1 0.65\n",
      "Found first post-samp event:  1 samp | times: 0.1 0.65\n",
      "Found first post-samp event:  1 samp | times: 0.1 0.65\n",
      "Found first post-samp event:  1 samp | times: 0.1 0.65\n",
      "Found first post-samp event:  1 samp | times: 0.1 0.65\n",
      "Found first post-samp event:  1 samp | times: 0.1 0.65\n",
      "Found first post-samp event:  1 samp | times: 0.1 0.65\n",
      "Found first post-samp event:  1 samp | times: 0.1 0.65\n",
      "Found first post-samp event:  1 samp | times: 0.1 0.65\n",
      "Found first post-samp event:  1 samp | times: 0.1 0.65\n",
      "Found first post-samp event:  1 samp | times: 0.1 0.65\n",
      "Found first post-samp event:  1 samp | times: 0.1 0.65\n",
      "Found first post-samp event:  1 samp | times: 0.1 0.65\n",
      "Found first post-samp event:  1 samp | times: 0.1 0.65\n",
      "Found first post-samp event:  1 samp | times: 0.1 0.65\n",
      "Found first post-samp event:  1 samp | times: 0.1 0.65\n",
      "Found first post-samp event:  1 samp | times: 0.1 0.65\n",
      "Found first post-samp event:  1 samp | times: 0.1 0.65\n",
      "Found first post-samp event:  1 samp | times: 0.1 0.65\n",
      "Found first post-samp event:  1 samp | times: 0.1 0.65\n",
      "Found first post-samp event:  1 samp | times: 0.1 0.65\n",
      "Found first post-samp event:  1 samp | times: 0.1 0.65\n",
      "Found first post-samp event:  1 samp | times: 0.1 0.65\n",
      "Found first post-samp event:  1 samp | times: 0.1 0.65\n",
      "Found first post-samp event:  1 samp | times: 0.1 0.65\n",
      "Found first post-samp event:  1 samp | times: 0.1 0.65\n",
      "Found first post-samp event:  1 samp | times: 0.1 0.65\n",
      "Found first post-samp event:  1 samp | times: 0.1 0.65\n",
      "Found first post-samp event:  1 samp | times: 0.1 0.65\n",
      "Found first post-samp event:  1 samp | times: 0.1 0.65\n",
      "Found first post-samp event:  1 samp | times: 0.1 0.65\n",
      "Found first post-samp event:  1 samp | times: 0.1 0.65\n",
      "Found first post-samp event:  1 samp | times: 0.1 0.65\n",
      "Found first post-samp event:  1 samp | times: 0.1 0.65\n",
      "Found first post-samp event:  1 samp | times: 0.1 0.65\n",
      "Found first post-samp event:  1 samp | times: 0.1 0.65\n",
      "Found first post-samp event:  1 samp | times: 0.1 0.65\n",
      "Found first post-samp event:  1 samp | times: 0.1 0.65\n",
      "Found first post-samp event:  1 samp | times: 0.1 0.65\n",
      "Found first post-samp event:  1 samp | times: 0.1 0.65\n",
      "Found first post-samp event:  1 samp | times: 0.1 0.65\n",
      "Found first post-samp event:  1 samp | times: 0.1 0.65\n",
      "Found first post-samp event:  1 samp | times: 0.1 0.65\n",
      "Found first post-samp event:  1 samp | times: 0.1 0.65\n",
      "Found first post-samp event:  1 samp | times: 0.1 0.65\n",
      "Found first post-samp event:  1 samp | times: 0.1 0.65\n",
      "Found first post-samp event:  1 samp | times: 0.1 0.65\n",
      "Found first post-samp event:  1 samp | times: 0.1 0.65\n",
      "Found first post-samp event:  1 samp | times: 0.1 0.65\n",
      "Found first post-samp event:  1 samp | times: 0.1 0.65\n",
      "Found first post-samp event:  1 samp | times: 0.1 0.65\n",
      "Found first post-samp event:  1 samp | times: 0.1 0.65\n",
      "Found first post-samp event:  1 samp | times: 0.1 0.65\n",
      "Found first post-samp event:  1 samp | times: 0.1 0.65\n",
      "Found first post-samp event:  1 samp | times: 0.1 0.65\n",
      "Found first post-samp event:  1 samp | times: 0.1 0.65\n",
      "Found first post-samp event:  1 samp | times: 0.1 0.65\n",
      "Found first post-samp event:  1 samp | times: 0.1 0.65\n",
      "Found first post-samp event:  1 samp | times: 0.1 0.65\n",
      "Found first post-samp event:  1 samp | times: 0.1 0.65\n",
      "Found first post-samp event:  1 samp | times: 0.1 0.65\n",
      "Found first post-samp event:  1 samp | times: 0.1 0.65\n",
      "Found first post-samp event:  1 samp | times: 0.1 0.65\n",
      "Found first post-samp event:  1 samp | times: 0.1 0.65\n",
      "Found first post-samp event:  1 samp | times: 0.1 0.65\n",
      "Found first post-samp event:  1 samp | times: 0.1 0.65\n",
      "Found first post-samp event:  1 samp | times: 0.1 0.65\n",
      "Found first post-samp event:  1 samp | times: 0.1 0.65\n",
      "Found first post-samp event:  1 samp | times: 0.1 0.65\n",
      "Found first post-samp event:  1 samp | times: 0.1 0.65\n",
      "Found first post-samp event:  1 samp | times: 0.1 0.65\n",
      "Found first post-samp event:  1 samp | times: 0.1 0.65\n",
      "Found first post-samp event:  1 samp | times: 0.1 0.65\n",
      "Found first post-samp event:  1 samp | times: 0.1 0.65\n",
      "Found first post-samp event:  1 samp | times: 0.1 0.65\n",
      "Found first post-samp event:  1 samp | times: 0.1 0.65\n",
      "Found first post-samp event:  1 samp | times: 0.1 0.65\n",
      "Found first post-samp event:  1 samp | times: 0.1 0.65\n",
      "Found first post-samp event:  1 samp | times: 0.1 0.65\n",
      "Found first post-samp event:  1 samp | times: 0.1 0.65\n",
      "Found first post-samp event:  1 samp | times: 0.1 0.65\n",
      "Found first post-samp event:  1 samp | times: 0.1 0.65\n",
      "Found first post-samp event:  1 samp | times: 0.1 0.65\n",
      "Found first post-samp event:  1 samp | times: 0.1 0.65\n",
      "Found first post-samp event:  1 samp | times: 0.1 0.65\n",
      "Found first post-samp event:  1 samp | times: 0.1 0.65\n",
      "Found first post-samp event:  1 samp | times: 0.1 0.65\n",
      "Found first post-samp event:  1 samp | times: 0.1 0.65\n",
      "Found first post-samp event:  1 samp | times: 0.1 0.65\n",
      "Found first post-samp event:  1 samp | times: 0.1 0.65\n",
      "Found first post-samp event:  1 samp | times: 0.1 0.65\n",
      "Found first post-samp event:  1 samp | times: 0.1 0.65\n",
      "Found first post-samp event:  1 samp | times: 0.1 0.65\n",
      "Found first post-samp event:  1 samp | times: 0.1 0.65\n",
      "Found first post-samp event:  1 samp | times: 0.1 0.65\n",
      "Found first post-samp event:  1 samp | times: 0.1 0.65\n",
      "Found first post-samp event:  1 samp | times: 0.1 0.65\n",
      "Found first post-samp event:  1 samp | times: 0.1 0.65\n",
      "Found first post-samp event:  1 samp | times: 0.1 0.65\n",
      "Found first post-samp event:  1 samp | times: 0.1 0.65\n",
      "Found first post-samp event:  1 samp | times: 0.1 0.65\n",
      "Found first post-samp event:  1 samp | times: 0.1 0.65\n",
      "Found first post-samp event:  1 samp | times: 0.1 0.65\n",
      "Found first post-samp event:  1 samp | times: 0.1 0.65\n",
      "Found first post-samp event:  1 samp | times: 0.1 0.65\n",
      "Found first post-samp event:  1 samp | times: 0.1 0.65\n",
      "Found first post-samp event:  1 samp | times: 0.1 0.65\n",
      "Found first post-samp event:  1 samp | times: 0.1 0.65\n",
      "Found first post-samp event:  1 samp | times: 0.1 0.65\n",
      "Found first post-samp event:  1 samp | times: 0.1 0.65\n",
      "Found first post-samp event:  1 samp | times: 0.1 0.65\n",
      "Found first post-samp event:  1 samp | times: 0.1 0.65\n",
      "Found first post-samp event:  1 samp | times: 0.1 0.65\n",
      "Found first post-samp event:  1 samp | times: 0.1 0.65\n",
      "Found first post-samp event:  1 samp | times: 0.1 0.65\n",
      "Found first post-samp event:  1 samp | times: 0.1 0.65\n",
      "Found first post-samp event:  1 samp | times: 0.1 0.65\n",
      "Found first post-samp event:  1 samp | times: 0.1 0.65\n",
      "Found first post-samp event:  1 samp | times: 0.1 0.65\n",
      "Found first post-samp event:  1 samp | times: 0.1 0.65\n",
      "Found first post-samp event:  1 samp | times: 0.1 0.65\n",
      "Found first post-samp event:  1 samp | times: 0.1 0.65\n",
      "Found first post-samp event:  1 samp | times: 0.1 0.65\n",
      "Found first post-samp event:  1 samp | times: 0.1 0.65\n",
      "Found first post-samp event:  1 samp | times: 0.1 0.65\n",
      "Found first post-samp event:  1 samp | times: 0.1 0.65\n",
      "Found first post-samp event:  1 samp | times: 0.1 0.65\n",
      "Found first post-samp event:  1 samp | times: 0.1 0.65\n",
      "Found first post-samp event:  1 samp | times: 0.1 0.65\n",
      "Found first post-samp event:  1 samp | times: 0.1 0.65\n",
      "Found first post-samp event:  1 samp | times: 0.1 0.65\n",
      "Found first post-samp event:  1 samp | times: 0.1 0.65\n",
      "Found first post-samp event:  1 samp | times: 0.1 0.65\n",
      "Found first post-samp event:  1 samp | times: 0.1 0.65\n",
      "Found first post-samp event:  1 samp | times: 0.1 0.65\n",
      "Found first post-samp event:  1 samp | times: 0.1 0.65\n",
      "Found first post-samp event:  1 samp | times: 0.1 0.65\n",
      "Found first post-samp event:  1 samp | times: 0.1 0.65\n",
      "Found first post-samp event:  1 samp | times: 0.1 0.65\n",
      "Found first post-samp event:  1 samp | times: 0.1 0.65\n",
      "Found first post-samp event:  1 samp | times: 0.1 0.65\n",
      "Found first post-samp event:  1 samp | times: 0.1 0.65\n",
      "Found first post-samp event:  1 samp | times: 0.1 0.65\n",
      "Found first post-samp event:  1 samp | times: 0.1 0.65\n",
      "Found first post-samp event:  1 samp | times: 0.1 0.65\n",
      "Found first post-samp event:  1 samp | times: 0.1 0.65\n",
      "Found first post-samp event:  1 samp | times: 0.1 0.65\n",
      "Found first post-samp event:  1 samp | times: 0.1 0.65\n",
      "Found first post-samp event:  1 samp | times: 0.1 0.65\n",
      "Found first post-samp event:  1 samp | times: 0.1 0.65\n",
      "Found first post-samp event:  1 samp | times: 0.1 0.65\n",
      "Found first post-samp event:  1 samp | times: 0.1 0.65\n",
      "Found first post-samp event:  1 samp | times: 0.1 0.65\n",
      "Found first post-samp event:  1 samp | times: 0.1 0.65\n",
      "Found first post-samp event:  1 samp | times: 0.1 0.65\n",
      "Found first post-samp event:  1 samp | times: 0.1 0.65\n",
      "Found first post-samp event:  1 samp | times: 0.1 0.65\n",
      "Found first post-samp event:  1 samp | times: 0.1 0.65\n",
      "Found first post-samp event:  1 samp | times: 0.1 0.65\n",
      "Found first post-samp event:  1 samp | times: 0.1 0.65\n",
      "Found first post-samp event:  1 samp | times: 0.1 0.65\n",
      "Found first post-samp event:  1 samp | times: 0.1 0.65\n",
      "Found first post-samp event:  1 samp | times: 0.1 0.65\n",
      "Found first post-samp event:  1 samp | times: 0.1 0.65\n",
      "Found first post-samp event:  1 samp | times: 0.1 0.65\n",
      "Found first post-samp event:  1 samp | times: 0.1 0.65\n",
      "Found first post-samp event:  1 samp | times: 0.1 0.65\n",
      "Found first post-samp event:  1 samp | times: 0.1 0.65\n",
      "Found first post-samp event:  1 samp | times: 0.1 0.65\n",
      "Found first post-samp event:  1 samp | times: 0.1 0.65\n",
      "Found first post-samp event:  1 samp | times: 0.1 0.65\n",
      "Found first post-samp event:  1 samp | times: 0.1 0.65\n",
      "Found first post-samp event:  1 samp | times: 0.1 0.65\n",
      "Found first post-samp event:  1 samp | times: 0.1 0.65\n",
      "Found first post-samp event:  1 samp | times: 0.1 0.65\n",
      "Found first post-samp event:  1 samp | times: 0.1 0.65\n",
      "Found first post-samp event:  1 samp | times: 0.1 0.65\n",
      "Found first post-samp event:  1 samp | times: 0.1 0.65\n",
      "Found first post-samp event:  1 samp | times: 0.1 0.65\n",
      "Found first post-samp event:  1 samp | times: 0.1 0.65\n",
      "Found first post-samp event:  1 samp | times: 0.1 0.65\n",
      "Found first post-samp event:  1 samp | times: 0.1 0.65\n",
      "Found first post-samp event:  1 samp | times: 0.1 0.65\n",
      "Found first post-samp event:  1 samp | times: 0.1 0.65\n",
      "Found first post-samp event:  1 samp | times: 0.1 0.65\n",
      "Found first post-samp event:  1 samp | times: 0.1 0.65\n",
      "Found first post-samp event:  1 samp | times: 0.1 0.65\n",
      "Found first post-samp event:  1 samp | times: 0.1 0.65\n",
      "Found first post-samp event:  1 samp | times: 0.1 0.65\n",
      "Found first post-samp event:  1 samp | times: 0.1 0.65\n",
      "Found first post-samp event:  1 samp | times: 0.1 0.65\n",
      "Found first post-samp event:  1 samp | times: 0.1 0.65\n",
      "Found first post-samp event:  1 samp | times: 0.1 0.65\n",
      "Found first post-samp event:  1 samp | times: 0.1 0.65\n",
      "Found first post-samp event:  1 samp | times: 0.1 0.65\n",
      "Found first post-samp event:  1 samp | times: 0.1 0.65\n",
      "Found first post-samp event:  1 samp | times: 0.1 0.65\n",
      "Found first post-samp event:  1 samp | times: 0.1 0.65\n",
      "Found first post-samp event:  1 samp | times: 0.1 0.65\n",
      "Found first post-samp event:  1 samp | times: 0.1 0.65\n",
      "Found first post-samp event:  1 samp | times: 0.1 0.65\n",
      "Found first post-samp event:  1 samp | times: 0.1 0.65\n",
      "Found first post-samp event:  1 samp | times: 0.1 0.65\n",
      "Found first post-samp event:  1 samp | times: 0.1 0.65\n",
      "Found first post-samp event:  1 samp | times: 0.1 0.65\n",
      "Found first post-samp event:  1 samp | times: 0.1 0.65\n",
      "Found first post-samp event:  1 samp | times: 0.1 0.65\n",
      "Found first post-samp event:  1 samp | times: 0.1 0.65\n",
      "Found first post-samp event:  1 samp | times: 0.1 0.65\n",
      "Found first post-samp event:  1 samp | times: 0.1 0.65\n",
      "Found first post-samp event:  1 samp | times: 0.1 0.65\n",
      "Found first post-samp event:  1 samp | times: 0.1 0.65\n",
      "Found first post-samp event:  1 samp | times: 0.1 0.65\n",
      "Found first post-samp event:  1 samp | times: 0.1 0.65\n",
      "Found first post-samp event:  1 samp | times: 0.1 0.65\n",
      "Found first post-samp event:  1 samp | times: 0.1 0.65\n",
      "Found first post-samp event:  1 samp | times: 0.1 0.65\n",
      "Found first post-samp event:  1 samp | times: 0.1 0.65\n",
      "Found first post-samp event:  1 samp | times: 0.1 0.65\n",
      "Found first post-samp event:  1 samp | times: 0.1 0.65\n",
      "Found first post-samp event:  1 samp | times: 0.1 0.65\n",
      "Found first post-samp event:  1 samp | times: 0.1 0.65\n",
      "Found first post-samp event:  1 samp | times: 0.1 0.65\n",
      "Found first post-samp event:  1 samp | times: 0.1 0.65\n",
      "Found first post-samp event:  1 samp | times: 0.1 0.65\n",
      "Found first post-samp event:  1 samp | times: 0.1 0.65\n",
      "Found first post-samp event:  1 samp | times: 0.1 0.65\n",
      "Found first post-samp event:  1 samp | times: 0.1 0.65\n",
      "Found first post-samp event:  1 samp | times: 0.1 0.65\n",
      "Found first post-samp event:  1 samp | times: 0.1 0.65\n",
      "Found first post-samp event:  1 samp | times: 0.1 0.65\n",
      "Found first post-samp event:  1 samp | times: 0.1 0.65\n",
      "Found first post-samp event:  1 samp | times: 0.1 0.65\n",
      "Found first post-samp event:  1 samp | times: 0.1 0.65\n",
      "Found first post-samp event:  1 samp | times: 0.1 0.65\n",
      "Found first post-samp event:  1 samp | times: 0.1 0.65\n",
      "Found first post-samp event:  1 samp | times: 0.1 0.65\n",
      "Found first post-samp event:  1 samp | times: 0.1 0.65\n",
      "Found first post-samp event:  1 samp | times: 0.1 0.65\n",
      "Found first post-samp event:  1 samp | times: 0.1 0.65\n",
      "Found first post-samp event:  1 samp | times: 0.1 0.65\n",
      "Found first post-samp event:  1 samp | times: 0.1 0.65\n",
      "Found first post-samp event:  1 samp | times: 0.1 0.65\n",
      "Found first post-samp event:  1 samp | times: 0.1 0.65\n",
      "Found first post-samp event:  1 samp | times: 0.1 0.65\n",
      "Found first post-samp event:  1 samp | times: 0.1 0.65\n",
      "Found first post-samp event:  1 samp | times: 0.1 0.65\n",
      "Found first post-samp event:  1 samp | times: 0.1 0.65\n",
      "Found first post-samp event:  1 samp | times: 0.1 0.65\n",
      "Found first post-samp event:  1 samp | times: 0.1 0.65\n",
      "Found first post-samp event:  1 samp | times: 0.1 0.65\n",
      "Found first post-samp event:  1 samp | times: 0.1 0.65\n",
      "Found first post-samp event:  1 samp | times: 0.1 0.65\n",
      "Found first post-samp event:  1 samp | times: 0.1 0.65\n",
      "Found first post-samp event:  1 samp | times: 0.1 0.65\n",
      "Found first post-samp event:  1 samp | times: 0.1 0.65\n",
      "Found first post-samp event:  1 samp | times: 0.1 0.65\n",
      "Found first post-samp event:  1 samp | times: 0.1 0.65\n",
      "Found first post-samp event:  1 samp | times: 0.1 0.65\n",
      "Found first post-samp event:  1 samp | times: 0.1 0.65\n",
      "Found first post-samp event:  1 samp | times: 0.1 0.65\n",
      "Found first post-samp event:  1 samp | times: 0.1 0.65\n",
      "Found first post-samp event:  1 samp | times: 0.1 0.65\n",
      "Found first post-samp event:  1 samp | times: 0.1 0.65\n",
      "Found first post-samp event:  1 samp | times: 0.1 0.65\n",
      "Found first post-samp event:  1 samp | times: 0.1 0.65\n",
      "Found first post-samp event:  1 samp | times: 0.1 0.65\n",
      "Found first post-samp event:  1 samp | times: 0.1 0.65\n",
      "Found first post-samp event:  1 samp | times: 0.1 0.65\n",
      "Found first post-samp event:  1 samp | times: 0.1 0.65\n",
      "Found first post-samp event:  1 samp | times: 0.1 0.65\n",
      "Found first post-samp event:  1 samp | times: 0.1 0.65\n",
      "Found first post-samp event:  1 samp | times: 0.1 0.65\n",
      "Found first post-samp event:  1 samp | times: 0.1 0.65\n",
      "Found first post-samp event:  1 samp | times: 0.1 0.65\n",
      "Found first post-samp event:  1 samp | times: 0.1 0.65\n",
      "Found first post-samp event:  1 samp | times: 0.1 0.65\n",
      "Plotting summarystats at: /gorilla1/analyses/recordings/NOTEBOOKS/220713_prims_state_space/Pancho/220715_k99rebut/sess_1/scalar_plots/modulation_by_features\n"
     ]
    },
    {
     "name": "stderr",
     "output_type": "stream",
     "text": [
      "/gorilla1/code/pythonlib/pythonlib/tools/snstools.py:12: UserWarning: FixedFormatter should only be used together with FixedLocator\n",
      "  a.set_xticklabels(a.get_xticklabels(), rotation=rotation,\n",
      "/gorilla1/code/pythonlib/pythonlib/tools/snstools.py:12: UserWarning: FixedFormatter should only be used together with FixedLocator\n",
      "  a.set_xticklabels(a.get_xticklabels(), rotation=rotation,\n",
      "/gorilla1/code/pythonlib/pythonlib/tools/snstools.py:12: UserWarning: FixedFormatter should only be used together with FixedLocator\n",
      "  a.set_xticklabels(a.get_xticklabels(), rotation=rotation,\n",
      "/gorilla1/code/pythonlib/pythonlib/tools/snstools.py:12: UserWarning: FixedFormatter should only be used together with FixedLocator\n",
      "  a.set_xticklabels(a.get_xticklabels(), rotation=rotation,\n",
      "/home/lucast4/miniconda3/envs/drag2_matlab/lib/python3.8/site-packages/seaborn/axisgrid.py:409: RuntimeWarning: More than 20 figures have been opened. Figures created through the pyplot interface (`matplotlib.pyplot.figure`) are retained until explicitly closed and may consume too much memory. (To control this warning, see the rcParam `figure.max_open_warning`).\n",
      "  fig = plt.figure(figsize=figsize)\n",
      "/gorilla1/code/pythonlib/pythonlib/tools/snstools.py:12: UserWarning: FixedFormatter should only be used together with FixedLocator\n",
      "  a.set_xticklabels(a.get_xticklabels(), rotation=rotation,\n",
      "/gorilla1/code/pythonlib/pythonlib/tools/snstools.py:12: UserWarning: FixedFormatter should only be used together with FixedLocator\n",
      "  a.set_xticklabels(a.get_xticklabels(), rotation=rotation,\n",
      "/gorilla1/code/pythonlib/pythonlib/tools/snstools.py:12: UserWarning: FixedFormatter should only be used together with FixedLocator\n",
      "  a.set_xticklabels(a.get_xticklabels(), rotation=rotation,\n",
      "/gorilla1/code/pythonlib/pythonlib/tools/snstools.py:12: UserWarning: FixedFormatter should only be used together with FixedLocator\n",
      "  a.set_xticklabels(a.get_xticklabels(), rotation=rotation,\n"
     ]
    },
    {
     "name": "stdout",
     "output_type": "stream",
     "text": [
      "Plotting heatmaps at: /gorilla1/analyses/recordings/NOTEBOOKS/220713_prims_state_space/Pancho/220715_k99rebut/sess_1/scalar_plots/modulation_heatmaps\n",
      "{'val': ['mean']}\n",
      "{'val': ['mean']}\n",
      "{'val': ['mean']}\n",
      "Plotting eachsite_allvars at: /gorilla1/analyses/recordings/NOTEBOOKS/220713_prims_state_space/Pancho/220715_k99rebut/sess_1/scalar_plots/each_chan_all_vars\n",
      "Plotting for chan:  1\n",
      "PLotting for (chan, bregion):  1 00_M1_m\n"
     ]
    },
    {
     "name": "stderr",
     "output_type": "stream",
     "text": [
      "/gorilla1/code/neuralmonkey/neuralmonkey/classes/snippets.py:897: UserWarning: FixedFormatter should only be used together with FixedLocator\n",
      "  ax.set_xticklabels(ax.get_xticklabels(), rotation = 45)\n",
      "/gorilla1/code/neuralmonkey/neuralmonkey/classes/snippets.py:919: UserWarning: FixedFormatter should only be used together with FixedLocator\n",
      "  ax.set_xticklabels(ax.get_xticklabels(), rotation = 45)\n",
      "/gorilla1/code/neuralmonkey/neuralmonkey/classes/snippets.py:929: UserWarning: FixedFormatter should only be used together with FixedLocator\n",
      "  ax.set_xticklabels(x_labels, rotation = 45)\n"
     ]
    },
    {
     "name": "stdout",
     "output_type": "stream",
     "text": [
      "Plotting for chan:  2\n",
      "PLotting for (chan, bregion):  2 00_M1_m\n"
     ]
    },
    {
     "name": "stderr",
     "output_type": "stream",
     "text": [
      "/gorilla1/code/neuralmonkey/neuralmonkey/classes/snippets.py:897: UserWarning: FixedFormatter should only be used together with FixedLocator\n",
      "  ax.set_xticklabels(ax.get_xticklabels(), rotation = 45)\n",
      "/gorilla1/code/neuralmonkey/neuralmonkey/classes/snippets.py:919: UserWarning: FixedFormatter should only be used together with FixedLocator\n",
      "  ax.set_xticklabels(ax.get_xticklabels(), rotation = 45)\n",
      "/gorilla1/code/neuralmonkey/neuralmonkey/classes/snippets.py:929: UserWarning: FixedFormatter should only be used together with FixedLocator\n",
      "  ax.set_xticklabels(x_labels, rotation = 45)\n"
     ]
    },
    {
     "name": "stdout",
     "output_type": "stream",
     "text": [
      "Plotting for chan:  3\n",
      "PLotting for (chan, bregion):  3 00_M1_m\n"
     ]
    },
    {
     "name": "stderr",
     "output_type": "stream",
     "text": [
      "/gorilla1/code/neuralmonkey/neuralmonkey/classes/snippets.py:897: UserWarning: FixedFormatter should only be used together with FixedLocator\n",
      "  ax.set_xticklabels(ax.get_xticklabels(), rotation = 45)\n",
      "/gorilla1/code/neuralmonkey/neuralmonkey/classes/snippets.py:919: UserWarning: FixedFormatter should only be used together with FixedLocator\n",
      "  ax.set_xticklabels(ax.get_xticklabels(), rotation = 45)\n",
      "/gorilla1/code/neuralmonkey/neuralmonkey/classes/snippets.py:929: UserWarning: FixedFormatter should only be used together with FixedLocator\n",
      "  ax.set_xticklabels(x_labels, rotation = 45)\n"
     ]
    },
    {
     "name": "stdout",
     "output_type": "stream",
     "text": [
      "Plotting for chan:  4\n",
      "PLotting for (chan, bregion):  4 00_M1_m\n"
     ]
    },
    {
     "name": "stderr",
     "output_type": "stream",
     "text": [
      "/gorilla1/code/neuralmonkey/neuralmonkey/classes/snippets.py:897: UserWarning: FixedFormatter should only be used together with FixedLocator\n",
      "  ax.set_xticklabels(ax.get_xticklabels(), rotation = 45)\n",
      "/gorilla1/code/neuralmonkey/neuralmonkey/classes/snippets.py:919: UserWarning: FixedFormatter should only be used together with FixedLocator\n",
      "  ax.set_xticklabels(ax.get_xticklabels(), rotation = 45)\n",
      "/gorilla1/code/neuralmonkey/neuralmonkey/classes/snippets.py:929: UserWarning: FixedFormatter should only be used together with FixedLocator\n",
      "  ax.set_xticklabels(x_labels, rotation = 45)\n"
     ]
    },
    {
     "name": "stdout",
     "output_type": "stream",
     "text": [
      "Plotting for chan:  5\n",
      "PLotting for (chan, bregion):  5 00_M1_m\n"
     ]
    },
    {
     "name": "stderr",
     "output_type": "stream",
     "text": [
      "/gorilla1/code/neuralmonkey/neuralmonkey/classes/snippets.py:897: UserWarning: FixedFormatter should only be used together with FixedLocator\n",
      "  ax.set_xticklabels(ax.get_xticklabels(), rotation = 45)\n",
      "/gorilla1/code/neuralmonkey/neuralmonkey/classes/snippets.py:919: UserWarning: FixedFormatter should only be used together with FixedLocator\n",
      "  ax.set_xticklabels(ax.get_xticklabels(), rotation = 45)\n",
      "/gorilla1/code/neuralmonkey/neuralmonkey/classes/snippets.py:929: UserWarning: FixedFormatter should only be used together with FixedLocator\n",
      "  ax.set_xticklabels(x_labels, rotation = 45)\n"
     ]
    },
    {
     "name": "stdout",
     "output_type": "stream",
     "text": [
      "Plotting for chan:  6\n",
      "PLotting for (chan, bregion):  6 00_M1_m\n"
     ]
    },
    {
     "name": "stderr",
     "output_type": "stream",
     "text": [
      "/gorilla1/code/neuralmonkey/neuralmonkey/classes/snippets.py:897: UserWarning: FixedFormatter should only be used together with FixedLocator\n",
      "  ax.set_xticklabels(ax.get_xticklabels(), rotation = 45)\n",
      "/gorilla1/code/neuralmonkey/neuralmonkey/classes/snippets.py:919: UserWarning: FixedFormatter should only be used together with FixedLocator\n",
      "  ax.set_xticklabels(ax.get_xticklabels(), rotation = 45)\n",
      "/gorilla1/code/neuralmonkey/neuralmonkey/classes/snippets.py:929: UserWarning: FixedFormatter should only be used together with FixedLocator\n",
      "  ax.set_xticklabels(x_labels, rotation = 45)\n"
     ]
    },
    {
     "name": "stdout",
     "output_type": "stream",
     "text": [
      "Plotting for chan:  7\n",
      "PLotting for (chan, bregion):  7 00_M1_m\n"
     ]
    },
    {
     "name": "stderr",
     "output_type": "stream",
     "text": [
      "/gorilla1/code/neuralmonkey/neuralmonkey/classes/snippets.py:897: UserWarning: FixedFormatter should only be used together with FixedLocator\n",
      "  ax.set_xticklabels(ax.get_xticklabels(), rotation = 45)\n",
      "/gorilla1/code/neuralmonkey/neuralmonkey/classes/snippets.py:919: UserWarning: FixedFormatter should only be used together with FixedLocator\n",
      "  ax.set_xticklabels(ax.get_xticklabels(), rotation = 45)\n",
      "/gorilla1/code/neuralmonkey/neuralmonkey/classes/snippets.py:929: UserWarning: FixedFormatter should only be used together with FixedLocator\n",
      "  ax.set_xticklabels(x_labels, rotation = 45)\n"
     ]
    },
    {
     "name": "stdout",
     "output_type": "stream",
     "text": [
      "Plotting for chan:  8\n",
      "PLotting for (chan, bregion):  8 00_M1_m\n"
     ]
    },
    {
     "name": "stderr",
     "output_type": "stream",
     "text": [
      "/gorilla1/code/neuralmonkey/neuralmonkey/classes/snippets.py:897: UserWarning: FixedFormatter should only be used together with FixedLocator\n",
      "  ax.set_xticklabels(ax.get_xticklabels(), rotation = 45)\n",
      "/gorilla1/code/neuralmonkey/neuralmonkey/classes/snippets.py:919: UserWarning: FixedFormatter should only be used together with FixedLocator\n",
      "  ax.set_xticklabels(ax.get_xticklabels(), rotation = 45)\n",
      "/gorilla1/code/neuralmonkey/neuralmonkey/classes/snippets.py:929: UserWarning: FixedFormatter should only be used together with FixedLocator\n",
      "  ax.set_xticklabels(x_labels, rotation = 45)\n"
     ]
    },
    {
     "name": "stdout",
     "output_type": "stream",
     "text": [
      "Plotting for chan:  9\n",
      "PLotting for (chan, bregion):  9 00_M1_m\n"
     ]
    },
    {
     "name": "stderr",
     "output_type": "stream",
     "text": [
      "/gorilla1/code/neuralmonkey/neuralmonkey/classes/snippets.py:897: UserWarning: FixedFormatter should only be used together with FixedLocator\n",
      "  ax.set_xticklabels(ax.get_xticklabels(), rotation = 45)\n",
      "/gorilla1/code/neuralmonkey/neuralmonkey/classes/snippets.py:919: UserWarning: FixedFormatter should only be used together with FixedLocator\n",
      "  ax.set_xticklabels(ax.get_xticklabels(), rotation = 45)\n",
      "/gorilla1/code/neuralmonkey/neuralmonkey/classes/snippets.py:929: UserWarning: FixedFormatter should only be used together with FixedLocator\n",
      "  ax.set_xticklabels(x_labels, rotation = 45)\n"
     ]
    },
    {
     "name": "stdout",
     "output_type": "stream",
     "text": [
      "Plotting for chan:  10\n",
      "PLotting for (chan, bregion):  10 00_M1_m\n"
     ]
    },
    {
     "name": "stderr",
     "output_type": "stream",
     "text": [
      "/gorilla1/code/neuralmonkey/neuralmonkey/classes/snippets.py:897: UserWarning: FixedFormatter should only be used together with FixedLocator\n",
      "  ax.set_xticklabels(ax.get_xticklabels(), rotation = 45)\n",
      "/gorilla1/code/neuralmonkey/neuralmonkey/classes/snippets.py:919: UserWarning: FixedFormatter should only be used together with FixedLocator\n",
      "  ax.set_xticklabels(ax.get_xticklabels(), rotation = 45)\n",
      "/gorilla1/code/neuralmonkey/neuralmonkey/classes/snippets.py:929: UserWarning: FixedFormatter should only be used together with FixedLocator\n",
      "  ax.set_xticklabels(x_labels, rotation = 45)\n"
     ]
    },
    {
     "name": "stdout",
     "output_type": "stream",
     "text": [
      "Plotting for chan:  11\n",
      "PLotting for (chan, bregion):  11 00_M1_m\n"
     ]
    },
    {
     "name": "stderr",
     "output_type": "stream",
     "text": [
      "/gorilla1/code/neuralmonkey/neuralmonkey/classes/snippets.py:897: UserWarning: FixedFormatter should only be used together with FixedLocator\n",
      "  ax.set_xticklabels(ax.get_xticklabels(), rotation = 45)\n",
      "/gorilla1/code/neuralmonkey/neuralmonkey/classes/snippets.py:919: UserWarning: FixedFormatter should only be used together with FixedLocator\n",
      "  ax.set_xticklabels(ax.get_xticklabels(), rotation = 45)\n",
      "/gorilla1/code/neuralmonkey/neuralmonkey/classes/snippets.py:929: UserWarning: FixedFormatter should only be used together with FixedLocator\n",
      "  ax.set_xticklabels(x_labels, rotation = 45)\n"
     ]
    },
    {
     "name": "stdout",
     "output_type": "stream",
     "text": [
      "Plotting for chan:  13\n",
      "PLotting for (chan, bregion):  13 00_M1_m\n"
     ]
    },
    {
     "name": "stderr",
     "output_type": "stream",
     "text": [
      "/gorilla1/code/neuralmonkey/neuralmonkey/classes/snippets.py:897: UserWarning: FixedFormatter should only be used together with FixedLocator\n",
      "  ax.set_xticklabels(ax.get_xticklabels(), rotation = 45)\n",
      "/gorilla1/code/neuralmonkey/neuralmonkey/classes/snippets.py:919: UserWarning: FixedFormatter should only be used together with FixedLocator\n",
      "  ax.set_xticklabels(ax.get_xticklabels(), rotation = 45)\n",
      "/gorilla1/code/neuralmonkey/neuralmonkey/classes/snippets.py:929: UserWarning: FixedFormatter should only be used together with FixedLocator\n",
      "  ax.set_xticklabels(x_labels, rotation = 45)\n"
     ]
    },
    {
     "name": "stdout",
     "output_type": "stream",
     "text": [
      "Plotting for chan:  14\n",
      "PLotting for (chan, bregion):  14 00_M1_m\n"
     ]
    },
    {
     "name": "stderr",
     "output_type": "stream",
     "text": [
      "/gorilla1/code/neuralmonkey/neuralmonkey/classes/snippets.py:897: UserWarning: FixedFormatter should only be used together with FixedLocator\n",
      "  ax.set_xticklabels(ax.get_xticklabels(), rotation = 45)\n",
      "/gorilla1/code/neuralmonkey/neuralmonkey/classes/snippets.py:919: UserWarning: FixedFormatter should only be used together with FixedLocator\n",
      "  ax.set_xticklabels(ax.get_xticklabels(), rotation = 45)\n",
      "/gorilla1/code/neuralmonkey/neuralmonkey/classes/snippets.py:929: UserWarning: FixedFormatter should only be used together with FixedLocator\n",
      "  ax.set_xticklabels(x_labels, rotation = 45)\n"
     ]
    },
    {
     "name": "stdout",
     "output_type": "stream",
     "text": [
      "Plotting for chan:  15\n",
      "PLotting for (chan, bregion):  15 00_M1_m\n"
     ]
    },
    {
     "name": "stderr",
     "output_type": "stream",
     "text": [
      "/gorilla1/code/neuralmonkey/neuralmonkey/classes/snippets.py:897: UserWarning: FixedFormatter should only be used together with FixedLocator\n",
      "  ax.set_xticklabels(ax.get_xticklabels(), rotation = 45)\n",
      "/gorilla1/code/neuralmonkey/neuralmonkey/classes/snippets.py:919: UserWarning: FixedFormatter should only be used together with FixedLocator\n",
      "  ax.set_xticklabels(ax.get_xticklabels(), rotation = 45)\n",
      "/gorilla1/code/neuralmonkey/neuralmonkey/classes/snippets.py:929: UserWarning: FixedFormatter should only be used together with FixedLocator\n",
      "  ax.set_xticklabels(x_labels, rotation = 45)\n"
     ]
    },
    {
     "name": "stdout",
     "output_type": "stream",
     "text": [
      "Plotting for chan:  16\n",
      "PLotting for (chan, bregion):  16 00_M1_m\n"
     ]
    },
    {
     "name": "stderr",
     "output_type": "stream",
     "text": [
      "/gorilla1/code/neuralmonkey/neuralmonkey/classes/snippets.py:897: UserWarning: FixedFormatter should only be used together with FixedLocator\n",
      "  ax.set_xticklabels(ax.get_xticklabels(), rotation = 45)\n",
      "/gorilla1/code/neuralmonkey/neuralmonkey/classes/snippets.py:919: UserWarning: FixedFormatter should only be used together with FixedLocator\n",
      "  ax.set_xticklabels(ax.get_xticklabels(), rotation = 45)\n",
      "/gorilla1/code/neuralmonkey/neuralmonkey/classes/snippets.py:929: UserWarning: FixedFormatter should only be used together with FixedLocator\n",
      "  ax.set_xticklabels(x_labels, rotation = 45)\n"
     ]
    },
    {
     "name": "stdout",
     "output_type": "stream",
     "text": [
      "Plotting for chan:  20\n",
      "PLotting for (chan, bregion):  20 00_M1_m\n"
     ]
    },
    {
     "name": "stderr",
     "output_type": "stream",
     "text": [
      "/gorilla1/code/neuralmonkey/neuralmonkey/classes/snippets.py:897: UserWarning: FixedFormatter should only be used together with FixedLocator\n",
      "  ax.set_xticklabels(ax.get_xticklabels(), rotation = 45)\n",
      "/gorilla1/code/neuralmonkey/neuralmonkey/classes/snippets.py:919: UserWarning: FixedFormatter should only be used together with FixedLocator\n",
      "  ax.set_xticklabels(ax.get_xticklabels(), rotation = 45)\n",
      "/gorilla1/code/neuralmonkey/neuralmonkey/classes/snippets.py:929: UserWarning: FixedFormatter should only be used together with FixedLocator\n",
      "  ax.set_xticklabels(x_labels, rotation = 45)\n"
     ]
    },
    {
     "name": "stdout",
     "output_type": "stream",
     "text": [
      "Plotting for chan:  22\n",
      "PLotting for (chan, bregion):  22 00_M1_m\n"
     ]
    },
    {
     "name": "stderr",
     "output_type": "stream",
     "text": [
      "/gorilla1/code/neuralmonkey/neuralmonkey/classes/snippets.py:897: UserWarning: FixedFormatter should only be used together with FixedLocator\n",
      "  ax.set_xticklabels(ax.get_xticklabels(), rotation = 45)\n",
      "/gorilla1/code/neuralmonkey/neuralmonkey/classes/snippets.py:919: UserWarning: FixedFormatter should only be used together with FixedLocator\n",
      "  ax.set_xticklabels(ax.get_xticklabels(), rotation = 45)\n",
      "/gorilla1/code/neuralmonkey/neuralmonkey/classes/snippets.py:929: UserWarning: FixedFormatter should only be used together with FixedLocator\n",
      "  ax.set_xticklabels(x_labels, rotation = 45)\n"
     ]
    },
    {
     "name": "stdout",
     "output_type": "stream",
     "text": [
      "Plotting for chan:  23\n",
      "PLotting for (chan, bregion):  23 00_M1_m\n"
     ]
    },
    {
     "name": "stderr",
     "output_type": "stream",
     "text": [
      "/gorilla1/code/neuralmonkey/neuralmonkey/classes/snippets.py:897: UserWarning: FixedFormatter should only be used together with FixedLocator\n",
      "  ax.set_xticklabels(ax.get_xticklabels(), rotation = 45)\n",
      "/gorilla1/code/neuralmonkey/neuralmonkey/classes/snippets.py:919: UserWarning: FixedFormatter should only be used together with FixedLocator\n",
      "  ax.set_xticklabels(ax.get_xticklabels(), rotation = 45)\n",
      "/gorilla1/code/neuralmonkey/neuralmonkey/classes/snippets.py:929: UserWarning: FixedFormatter should only be used together with FixedLocator\n",
      "  ax.set_xticklabels(x_labels, rotation = 45)\n"
     ]
    },
    {
     "name": "stdout",
     "output_type": "stream",
     "text": [
      "Plotting for chan:  24\n",
      "PLotting for (chan, bregion):  24 00_M1_m\n"
     ]
    },
    {
     "name": "stderr",
     "output_type": "stream",
     "text": [
      "/gorilla1/code/neuralmonkey/neuralmonkey/classes/snippets.py:897: UserWarning: FixedFormatter should only be used together with FixedLocator\n",
      "  ax.set_xticklabels(ax.get_xticklabels(), rotation = 45)\n",
      "/gorilla1/code/neuralmonkey/neuralmonkey/classes/snippets.py:919: UserWarning: FixedFormatter should only be used together with FixedLocator\n",
      "  ax.set_xticklabels(ax.get_xticklabels(), rotation = 45)\n",
      "/gorilla1/code/neuralmonkey/neuralmonkey/classes/snippets.py:929: UserWarning: FixedFormatter should only be used together with FixedLocator\n",
      "  ax.set_xticklabels(x_labels, rotation = 45)\n"
     ]
    },
    {
     "name": "stdout",
     "output_type": "stream",
     "text": [
      "Plotting for chan:  25\n",
      "PLotting for (chan, bregion):  25 00_M1_m\n"
     ]
    },
    {
     "name": "stderr",
     "output_type": "stream",
     "text": [
      "/gorilla1/code/neuralmonkey/neuralmonkey/classes/snippets.py:897: UserWarning: FixedFormatter should only be used together with FixedLocator\n",
      "  ax.set_xticklabels(ax.get_xticklabels(), rotation = 45)\n",
      "/gorilla1/code/neuralmonkey/neuralmonkey/classes/snippets.py:919: UserWarning: FixedFormatter should only be used together with FixedLocator\n",
      "  ax.set_xticklabels(ax.get_xticklabels(), rotation = 45)\n",
      "/gorilla1/code/neuralmonkey/neuralmonkey/classes/snippets.py:929: UserWarning: FixedFormatter should only be used together with FixedLocator\n",
      "  ax.set_xticklabels(x_labels, rotation = 45)\n"
     ]
    },
    {
     "name": "stdout",
     "output_type": "stream",
     "text": [
      "Plotting for chan:  27\n",
      "PLotting for (chan, bregion):  27 00_M1_m\n"
     ]
    },
    {
     "name": "stderr",
     "output_type": "stream",
     "text": [
      "/gorilla1/code/neuralmonkey/neuralmonkey/classes/snippets.py:897: UserWarning: FixedFormatter should only be used together with FixedLocator\n",
      "  ax.set_xticklabels(ax.get_xticklabels(), rotation = 45)\n",
      "/gorilla1/code/neuralmonkey/neuralmonkey/classes/snippets.py:919: UserWarning: FixedFormatter should only be used together with FixedLocator\n",
      "  ax.set_xticklabels(ax.get_xticklabels(), rotation = 45)\n",
      "/gorilla1/code/neuralmonkey/neuralmonkey/classes/snippets.py:929: UserWarning: FixedFormatter should only be used together with FixedLocator\n",
      "  ax.set_xticklabels(x_labels, rotation = 45)\n"
     ]
    },
    {
     "name": "stdout",
     "output_type": "stream",
     "text": [
      "Plotting for chan:  29\n",
      "PLotting for (chan, bregion):  29 00_M1_m\n"
     ]
    },
    {
     "name": "stderr",
     "output_type": "stream",
     "text": [
      "/gorilla1/code/neuralmonkey/neuralmonkey/classes/snippets.py:897: UserWarning: FixedFormatter should only be used together with FixedLocator\n",
      "  ax.set_xticklabels(ax.get_xticklabels(), rotation = 45)\n",
      "/gorilla1/code/neuralmonkey/neuralmonkey/classes/snippets.py:919: UserWarning: FixedFormatter should only be used together with FixedLocator\n",
      "  ax.set_xticklabels(ax.get_xticklabels(), rotation = 45)\n",
      "/gorilla1/code/neuralmonkey/neuralmonkey/classes/snippets.py:929: UserWarning: FixedFormatter should only be used together with FixedLocator\n",
      "  ax.set_xticklabels(x_labels, rotation = 45)\n"
     ]
    },
    {
     "name": "stdout",
     "output_type": "stream",
     "text": [
      "Plotting for chan:  31\n",
      "PLotting for (chan, bregion):  31 00_M1_m\n"
     ]
    },
    {
     "name": "stderr",
     "output_type": "stream",
     "text": [
      "/gorilla1/code/neuralmonkey/neuralmonkey/classes/snippets.py:897: UserWarning: FixedFormatter should only be used together with FixedLocator\n",
      "  ax.set_xticklabels(ax.get_xticklabels(), rotation = 45)\n",
      "/gorilla1/code/neuralmonkey/neuralmonkey/classes/snippets.py:919: UserWarning: FixedFormatter should only be used together with FixedLocator\n",
      "  ax.set_xticklabels(ax.get_xticklabels(), rotation = 45)\n",
      "/gorilla1/code/neuralmonkey/neuralmonkey/classes/snippets.py:929: UserWarning: FixedFormatter should only be used together with FixedLocator\n",
      "  ax.set_xticklabels(x_labels, rotation = 45)\n"
     ]
    },
    {
     "name": "stdout",
     "output_type": "stream",
     "text": [
      "Plotting for chan:  32\n",
      "PLotting for (chan, bregion):  32 00_M1_m\n"
     ]
    },
    {
     "name": "stderr",
     "output_type": "stream",
     "text": [
      "/gorilla1/code/neuralmonkey/neuralmonkey/classes/snippets.py:897: UserWarning: FixedFormatter should only be used together with FixedLocator\n",
      "  ax.set_xticklabels(ax.get_xticklabels(), rotation = 45)\n",
      "/gorilla1/code/neuralmonkey/neuralmonkey/classes/snippets.py:919: UserWarning: FixedFormatter should only be used together with FixedLocator\n",
      "  ax.set_xticklabels(ax.get_xticklabels(), rotation = 45)\n",
      "/gorilla1/code/neuralmonkey/neuralmonkey/classes/snippets.py:929: UserWarning: FixedFormatter should only be used together with FixedLocator\n",
      "  ax.set_xticklabels(x_labels, rotation = 45)\n"
     ]
    },
    {
     "name": "stdout",
     "output_type": "stream",
     "text": [
      "Plotting for chan:  35\n",
      "PLotting for (chan, bregion):  35 01_M1_l\n"
     ]
    },
    {
     "name": "stderr",
     "output_type": "stream",
     "text": [
      "/gorilla1/code/neuralmonkey/neuralmonkey/classes/snippets.py:897: UserWarning: FixedFormatter should only be used together with FixedLocator\n",
      "  ax.set_xticklabels(ax.get_xticklabels(), rotation = 45)\n",
      "/gorilla1/code/neuralmonkey/neuralmonkey/classes/snippets.py:919: UserWarning: FixedFormatter should only be used together with FixedLocator\n",
      "  ax.set_xticklabels(ax.get_xticklabels(), rotation = 45)\n",
      "/gorilla1/code/neuralmonkey/neuralmonkey/classes/snippets.py:929: UserWarning: FixedFormatter should only be used together with FixedLocator\n",
      "  ax.set_xticklabels(x_labels, rotation = 45)\n"
     ]
    },
    {
     "name": "stdout",
     "output_type": "stream",
     "text": [
      "Plotting for chan:  37\n",
      "PLotting for (chan, bregion):  37 01_M1_l\n"
     ]
    },
    {
     "name": "stderr",
     "output_type": "stream",
     "text": [
      "/gorilla1/code/neuralmonkey/neuralmonkey/classes/snippets.py:897: UserWarning: FixedFormatter should only be used together with FixedLocator\n",
      "  ax.set_xticklabels(ax.get_xticklabels(), rotation = 45)\n",
      "/gorilla1/code/neuralmonkey/neuralmonkey/classes/snippets.py:919: UserWarning: FixedFormatter should only be used together with FixedLocator\n",
      "  ax.set_xticklabels(ax.get_xticklabels(), rotation = 45)\n",
      "/gorilla1/code/neuralmonkey/neuralmonkey/classes/snippets.py:929: UserWarning: FixedFormatter should only be used together with FixedLocator\n",
      "  ax.set_xticklabels(x_labels, rotation = 45)\n"
     ]
    },
    {
     "name": "stdout",
     "output_type": "stream",
     "text": [
      "Plotting for chan:  39\n",
      "PLotting for (chan, bregion):  39 01_M1_l\n"
     ]
    },
    {
     "name": "stderr",
     "output_type": "stream",
     "text": [
      "/gorilla1/code/neuralmonkey/neuralmonkey/classes/snippets.py:897: UserWarning: FixedFormatter should only be used together with FixedLocator\n",
      "  ax.set_xticklabels(ax.get_xticklabels(), rotation = 45)\n",
      "/gorilla1/code/neuralmonkey/neuralmonkey/classes/snippets.py:919: UserWarning: FixedFormatter should only be used together with FixedLocator\n",
      "  ax.set_xticklabels(ax.get_xticklabels(), rotation = 45)\n",
      "/gorilla1/code/neuralmonkey/neuralmonkey/classes/snippets.py:929: UserWarning: FixedFormatter should only be used together with FixedLocator\n",
      "  ax.set_xticklabels(x_labels, rotation = 45)\n"
     ]
    },
    {
     "name": "stdout",
     "output_type": "stream",
     "text": [
      "Plotting for chan:  40\n",
      "PLotting for (chan, bregion):  40 01_M1_l\n"
     ]
    },
    {
     "name": "stderr",
     "output_type": "stream",
     "text": [
      "/gorilla1/code/neuralmonkey/neuralmonkey/classes/snippets.py:897: UserWarning: FixedFormatter should only be used together with FixedLocator\n",
      "  ax.set_xticklabels(ax.get_xticklabels(), rotation = 45)\n",
      "/gorilla1/code/neuralmonkey/neuralmonkey/classes/snippets.py:919: UserWarning: FixedFormatter should only be used together with FixedLocator\n",
      "  ax.set_xticklabels(ax.get_xticklabels(), rotation = 45)\n",
      "/gorilla1/code/neuralmonkey/neuralmonkey/classes/snippets.py:929: UserWarning: FixedFormatter should only be used together with FixedLocator\n",
      "  ax.set_xticklabels(x_labels, rotation = 45)\n"
     ]
    },
    {
     "name": "stdout",
     "output_type": "stream",
     "text": [
      "Plotting for chan:  41\n",
      "PLotting for (chan, bregion):  41 01_M1_l\n"
     ]
    },
    {
     "name": "stderr",
     "output_type": "stream",
     "text": [
      "/gorilla1/code/neuralmonkey/neuralmonkey/classes/snippets.py:897: UserWarning: FixedFormatter should only be used together with FixedLocator\n",
      "  ax.set_xticklabels(ax.get_xticklabels(), rotation = 45)\n",
      "/gorilla1/code/neuralmonkey/neuralmonkey/classes/snippets.py:919: UserWarning: FixedFormatter should only be used together with FixedLocator\n",
      "  ax.set_xticklabels(ax.get_xticklabels(), rotation = 45)\n",
      "/gorilla1/code/neuralmonkey/neuralmonkey/classes/snippets.py:929: UserWarning: FixedFormatter should only be used together with FixedLocator\n",
      "  ax.set_xticklabels(x_labels, rotation = 45)\n"
     ]
    },
    {
     "name": "stdout",
     "output_type": "stream",
     "text": [
      "Plotting for chan:  42\n",
      "PLotting for (chan, bregion):  42 01_M1_l\n"
     ]
    },
    {
     "name": "stderr",
     "output_type": "stream",
     "text": [
      "/gorilla1/code/neuralmonkey/neuralmonkey/classes/snippets.py:897: UserWarning: FixedFormatter should only be used together with FixedLocator\n",
      "  ax.set_xticklabels(ax.get_xticklabels(), rotation = 45)\n",
      "/gorilla1/code/neuralmonkey/neuralmonkey/classes/snippets.py:919: UserWarning: FixedFormatter should only be used together with FixedLocator\n",
      "  ax.set_xticklabels(ax.get_xticklabels(), rotation = 45)\n",
      "/gorilla1/code/neuralmonkey/neuralmonkey/classes/snippets.py:929: UserWarning: FixedFormatter should only be used together with FixedLocator\n",
      "  ax.set_xticklabels(x_labels, rotation = 45)\n"
     ]
    },
    {
     "name": "stdout",
     "output_type": "stream",
     "text": [
      "Plotting for chan:  43\n",
      "PLotting for (chan, bregion):  43 01_M1_l\n"
     ]
    },
    {
     "name": "stderr",
     "output_type": "stream",
     "text": [
      "/gorilla1/code/neuralmonkey/neuralmonkey/classes/snippets.py:897: UserWarning: FixedFormatter should only be used together with FixedLocator\n",
      "  ax.set_xticklabels(ax.get_xticklabels(), rotation = 45)\n",
      "/gorilla1/code/neuralmonkey/neuralmonkey/classes/snippets.py:919: UserWarning: FixedFormatter should only be used together with FixedLocator\n",
      "  ax.set_xticklabels(ax.get_xticklabels(), rotation = 45)\n",
      "/gorilla1/code/neuralmonkey/neuralmonkey/classes/snippets.py:929: UserWarning: FixedFormatter should only be used together with FixedLocator\n",
      "  ax.set_xticklabels(x_labels, rotation = 45)\n"
     ]
    },
    {
     "name": "stdout",
     "output_type": "stream",
     "text": [
      "Plotting for chan:  45\n",
      "PLotting for (chan, bregion):  45 01_M1_l\n"
     ]
    },
    {
     "name": "stderr",
     "output_type": "stream",
     "text": [
      "/gorilla1/code/neuralmonkey/neuralmonkey/classes/snippets.py:897: UserWarning: FixedFormatter should only be used together with FixedLocator\n",
      "  ax.set_xticklabels(ax.get_xticklabels(), rotation = 45)\n",
      "/gorilla1/code/neuralmonkey/neuralmonkey/classes/snippets.py:919: UserWarning: FixedFormatter should only be used together with FixedLocator\n",
      "  ax.set_xticklabels(ax.get_xticklabels(), rotation = 45)\n",
      "/gorilla1/code/neuralmonkey/neuralmonkey/classes/snippets.py:929: UserWarning: FixedFormatter should only be used together with FixedLocator\n",
      "  ax.set_xticklabels(x_labels, rotation = 45)\n"
     ]
    },
    {
     "name": "stdout",
     "output_type": "stream",
     "text": [
      "Plotting for chan:  46\n",
      "PLotting for (chan, bregion):  46 01_M1_l\n"
     ]
    },
    {
     "name": "stderr",
     "output_type": "stream",
     "text": [
      "/gorilla1/code/neuralmonkey/neuralmonkey/classes/snippets.py:897: UserWarning: FixedFormatter should only be used together with FixedLocator\n",
      "  ax.set_xticklabels(ax.get_xticklabels(), rotation = 45)\n",
      "/gorilla1/code/neuralmonkey/neuralmonkey/classes/snippets.py:919: UserWarning: FixedFormatter should only be used together with FixedLocator\n",
      "  ax.set_xticklabels(ax.get_xticklabels(), rotation = 45)\n",
      "/gorilla1/code/neuralmonkey/neuralmonkey/classes/snippets.py:929: UserWarning: FixedFormatter should only be used together with FixedLocator\n",
      "  ax.set_xticklabels(x_labels, rotation = 45)\n"
     ]
    },
    {
     "name": "stdout",
     "output_type": "stream",
     "text": [
      "Plotting for chan:  47\n",
      "PLotting for (chan, bregion):  47 01_M1_l\n"
     ]
    },
    {
     "name": "stderr",
     "output_type": "stream",
     "text": [
      "/gorilla1/code/neuralmonkey/neuralmonkey/classes/snippets.py:897: UserWarning: FixedFormatter should only be used together with FixedLocator\n",
      "  ax.set_xticklabels(ax.get_xticklabels(), rotation = 45)\n",
      "/gorilla1/code/neuralmonkey/neuralmonkey/classes/snippets.py:919: UserWarning: FixedFormatter should only be used together with FixedLocator\n",
      "  ax.set_xticklabels(ax.get_xticklabels(), rotation = 45)\n",
      "/gorilla1/code/neuralmonkey/neuralmonkey/classes/snippets.py:929: UserWarning: FixedFormatter should only be used together with FixedLocator\n",
      "  ax.set_xticklabels(x_labels, rotation = 45)\n"
     ]
    },
    {
     "name": "stdout",
     "output_type": "stream",
     "text": [
      "Plotting for chan:  48\n",
      "PLotting for (chan, bregion):  48 01_M1_l\n"
     ]
    },
    {
     "name": "stderr",
     "output_type": "stream",
     "text": [
      "/gorilla1/code/neuralmonkey/neuralmonkey/classes/snippets.py:897: UserWarning: FixedFormatter should only be used together with FixedLocator\n",
      "  ax.set_xticklabels(ax.get_xticklabels(), rotation = 45)\n",
      "/gorilla1/code/neuralmonkey/neuralmonkey/classes/snippets.py:919: UserWarning: FixedFormatter should only be used together with FixedLocator\n",
      "  ax.set_xticklabels(ax.get_xticklabels(), rotation = 45)\n",
      "/gorilla1/code/neuralmonkey/neuralmonkey/classes/snippets.py:929: UserWarning: FixedFormatter should only be used together with FixedLocator\n",
      "  ax.set_xticklabels(x_labels, rotation = 45)\n"
     ]
    },
    {
     "name": "stdout",
     "output_type": "stream",
     "text": [
      "Plotting for chan:  49\n",
      "PLotting for (chan, bregion):  49 01_M1_l\n"
     ]
    },
    {
     "name": "stderr",
     "output_type": "stream",
     "text": [
      "/gorilla1/code/neuralmonkey/neuralmonkey/classes/snippets.py:897: UserWarning: FixedFormatter should only be used together with FixedLocator\n",
      "  ax.set_xticklabels(ax.get_xticklabels(), rotation = 45)\n",
      "/gorilla1/code/neuralmonkey/neuralmonkey/classes/snippets.py:919: UserWarning: FixedFormatter should only be used together with FixedLocator\n",
      "  ax.set_xticklabels(ax.get_xticklabels(), rotation = 45)\n",
      "/gorilla1/code/neuralmonkey/neuralmonkey/classes/snippets.py:929: UserWarning: FixedFormatter should only be used together with FixedLocator\n",
      "  ax.set_xticklabels(x_labels, rotation = 45)\n"
     ]
    },
    {
     "name": "stdout",
     "output_type": "stream",
     "text": [
      "Plotting for chan:  51\n",
      "PLotting for (chan, bregion):  51 01_M1_l\n"
     ]
    },
    {
     "name": "stderr",
     "output_type": "stream",
     "text": [
      "/gorilla1/code/neuralmonkey/neuralmonkey/classes/snippets.py:897: UserWarning: FixedFormatter should only be used together with FixedLocator\n",
      "  ax.set_xticklabels(ax.get_xticklabels(), rotation = 45)\n",
      "/gorilla1/code/neuralmonkey/neuralmonkey/classes/snippets.py:919: UserWarning: FixedFormatter should only be used together with FixedLocator\n",
      "  ax.set_xticklabels(ax.get_xticklabels(), rotation = 45)\n",
      "/gorilla1/code/neuralmonkey/neuralmonkey/classes/snippets.py:929: UserWarning: FixedFormatter should only be used together with FixedLocator\n",
      "  ax.set_xticklabels(x_labels, rotation = 45)\n"
     ]
    },
    {
     "name": "stdout",
     "output_type": "stream",
     "text": [
      "Plotting for chan:  52\n",
      "PLotting for (chan, bregion):  52 01_M1_l\n"
     ]
    },
    {
     "name": "stderr",
     "output_type": "stream",
     "text": [
      "/gorilla1/code/neuralmonkey/neuralmonkey/classes/snippets.py:897: UserWarning: FixedFormatter should only be used together with FixedLocator\n",
      "  ax.set_xticklabels(ax.get_xticklabels(), rotation = 45)\n",
      "/gorilla1/code/neuralmonkey/neuralmonkey/classes/snippets.py:919: UserWarning: FixedFormatter should only be used together with FixedLocator\n",
      "  ax.set_xticklabels(ax.get_xticklabels(), rotation = 45)\n",
      "/gorilla1/code/neuralmonkey/neuralmonkey/classes/snippets.py:929: UserWarning: FixedFormatter should only be used together with FixedLocator\n",
      "  ax.set_xticklabels(x_labels, rotation = 45)\n"
     ]
    },
    {
     "name": "stdout",
     "output_type": "stream",
     "text": [
      "Plotting for chan:  53\n",
      "PLotting for (chan, bregion):  53 01_M1_l\n"
     ]
    },
    {
     "name": "stderr",
     "output_type": "stream",
     "text": [
      "/gorilla1/code/neuralmonkey/neuralmonkey/classes/snippets.py:897: UserWarning: FixedFormatter should only be used together with FixedLocator\n",
      "  ax.set_xticklabels(ax.get_xticklabels(), rotation = 45)\n",
      "/gorilla1/code/neuralmonkey/neuralmonkey/classes/snippets.py:919: UserWarning: FixedFormatter should only be used together with FixedLocator\n",
      "  ax.set_xticklabels(ax.get_xticklabels(), rotation = 45)\n",
      "/gorilla1/code/neuralmonkey/neuralmonkey/classes/snippets.py:929: UserWarning: FixedFormatter should only be used together with FixedLocator\n",
      "  ax.set_xticklabels(x_labels, rotation = 45)\n"
     ]
    },
    {
     "name": "stdout",
     "output_type": "stream",
     "text": [
      "Plotting for chan:  55\n",
      "PLotting for (chan, bregion):  55 01_M1_l\n"
     ]
    },
    {
     "name": "stderr",
     "output_type": "stream",
     "text": [
      "/gorilla1/code/neuralmonkey/neuralmonkey/classes/snippets.py:897: UserWarning: FixedFormatter should only be used together with FixedLocator\n",
      "  ax.set_xticklabels(ax.get_xticklabels(), rotation = 45)\n",
      "/gorilla1/code/neuralmonkey/neuralmonkey/classes/snippets.py:919: UserWarning: FixedFormatter should only be used together with FixedLocator\n",
      "  ax.set_xticklabels(ax.get_xticklabels(), rotation = 45)\n",
      "/gorilla1/code/neuralmonkey/neuralmonkey/classes/snippets.py:929: UserWarning: FixedFormatter should only be used together with FixedLocator\n",
      "  ax.set_xticklabels(x_labels, rotation = 45)\n"
     ]
    },
    {
     "name": "stdout",
     "output_type": "stream",
     "text": [
      "Plotting for chan:  57\n",
      "PLotting for (chan, bregion):  57 01_M1_l\n"
     ]
    },
    {
     "name": "stderr",
     "output_type": "stream",
     "text": [
      "/gorilla1/code/neuralmonkey/neuralmonkey/classes/snippets.py:897: UserWarning: FixedFormatter should only be used together with FixedLocator\n",
      "  ax.set_xticklabels(ax.get_xticklabels(), rotation = 45)\n",
      "/gorilla1/code/neuralmonkey/neuralmonkey/classes/snippets.py:919: UserWarning: FixedFormatter should only be used together with FixedLocator\n",
      "  ax.set_xticklabels(ax.get_xticklabels(), rotation = 45)\n",
      "/gorilla1/code/neuralmonkey/neuralmonkey/classes/snippets.py:929: UserWarning: FixedFormatter should only be used together with FixedLocator\n",
      "  ax.set_xticklabels(x_labels, rotation = 45)\n"
     ]
    },
    {
     "name": "stdout",
     "output_type": "stream",
     "text": [
      "Plotting for chan:  59\n",
      "PLotting for (chan, bregion):  59 01_M1_l\n"
     ]
    },
    {
     "name": "stderr",
     "output_type": "stream",
     "text": [
      "/gorilla1/code/neuralmonkey/neuralmonkey/classes/snippets.py:897: UserWarning: FixedFormatter should only be used together with FixedLocator\n",
      "  ax.set_xticklabels(ax.get_xticklabels(), rotation = 45)\n",
      "/gorilla1/code/neuralmonkey/neuralmonkey/classes/snippets.py:919: UserWarning: FixedFormatter should only be used together with FixedLocator\n",
      "  ax.set_xticklabels(ax.get_xticklabels(), rotation = 45)\n",
      "/gorilla1/code/neuralmonkey/neuralmonkey/classes/snippets.py:929: UserWarning: FixedFormatter should only be used together with FixedLocator\n",
      "  ax.set_xticklabels(x_labels, rotation = 45)\n"
     ]
    },
    {
     "name": "stdout",
     "output_type": "stream",
     "text": [
      "Plotting for chan:  61\n",
      "PLotting for (chan, bregion):  61 01_M1_l\n"
     ]
    },
    {
     "name": "stderr",
     "output_type": "stream",
     "text": [
      "/gorilla1/code/neuralmonkey/neuralmonkey/classes/snippets.py:897: UserWarning: FixedFormatter should only be used together with FixedLocator\n",
      "  ax.set_xticklabels(ax.get_xticklabels(), rotation = 45)\n",
      "/gorilla1/code/neuralmonkey/neuralmonkey/classes/snippets.py:919: UserWarning: FixedFormatter should only be used together with FixedLocator\n",
      "  ax.set_xticklabels(ax.get_xticklabels(), rotation = 45)\n",
      "/gorilla1/code/neuralmonkey/neuralmonkey/classes/snippets.py:929: UserWarning: FixedFormatter should only be used together with FixedLocator\n",
      "  ax.set_xticklabels(x_labels, rotation = 45)\n"
     ]
    },
    {
     "name": "stdout",
     "output_type": "stream",
     "text": [
      "Plotting for chan:  62\n",
      "PLotting for (chan, bregion):  62 01_M1_l\n"
     ]
    },
    {
     "name": "stderr",
     "output_type": "stream",
     "text": [
      "/gorilla1/code/neuralmonkey/neuralmonkey/classes/snippets.py:897: UserWarning: FixedFormatter should only be used together with FixedLocator\n",
      "  ax.set_xticklabels(ax.get_xticklabels(), rotation = 45)\n",
      "/gorilla1/code/neuralmonkey/neuralmonkey/classes/snippets.py:919: UserWarning: FixedFormatter should only be used together with FixedLocator\n",
      "  ax.set_xticklabels(ax.get_xticklabels(), rotation = 45)\n",
      "/gorilla1/code/neuralmonkey/neuralmonkey/classes/snippets.py:929: UserWarning: FixedFormatter should only be used together with FixedLocator\n",
      "  ax.set_xticklabels(x_labels, rotation = 45)\n"
     ]
    },
    {
     "name": "stdout",
     "output_type": "stream",
     "text": [
      "Plotting for chan:  63\n",
      "PLotting for (chan, bregion):  63 01_M1_l\n"
     ]
    },
    {
     "name": "stderr",
     "output_type": "stream",
     "text": [
      "/gorilla1/code/neuralmonkey/neuralmonkey/classes/snippets.py:897: UserWarning: FixedFormatter should only be used together with FixedLocator\n",
      "  ax.set_xticklabels(ax.get_xticklabels(), rotation = 45)\n",
      "/gorilla1/code/neuralmonkey/neuralmonkey/classes/snippets.py:919: UserWarning: FixedFormatter should only be used together with FixedLocator\n",
      "  ax.set_xticklabels(ax.get_xticklabels(), rotation = 45)\n",
      "/gorilla1/code/neuralmonkey/neuralmonkey/classes/snippets.py:929: UserWarning: FixedFormatter should only be used together with FixedLocator\n",
      "  ax.set_xticklabels(x_labels, rotation = 45)\n"
     ]
    },
    {
     "name": "stdout",
     "output_type": "stream",
     "text": [
      "Plotting for chan:  64\n",
      "PLotting for (chan, bregion):  64 01_M1_l\n"
     ]
    },
    {
     "name": "stderr",
     "output_type": "stream",
     "text": [
      "/gorilla1/code/neuralmonkey/neuralmonkey/classes/snippets.py:897: UserWarning: FixedFormatter should only be used together with FixedLocator\n",
      "  ax.set_xticklabels(ax.get_xticklabels(), rotation = 45)\n",
      "/gorilla1/code/neuralmonkey/neuralmonkey/classes/snippets.py:919: UserWarning: FixedFormatter should only be used together with FixedLocator\n",
      "  ax.set_xticklabels(ax.get_xticklabels(), rotation = 45)\n",
      "/gorilla1/code/neuralmonkey/neuralmonkey/classes/snippets.py:929: UserWarning: FixedFormatter should only be used together with FixedLocator\n",
      "  ax.set_xticklabels(x_labels, rotation = 45)\n"
     ]
    },
    {
     "name": "stdout",
     "output_type": "stream",
     "text": [
      "Plotting for chan:  66\n",
      "PLotting for (chan, bregion):  66 02_PMv_l\n"
     ]
    },
    {
     "name": "stderr",
     "output_type": "stream",
     "text": [
      "/gorilla1/code/neuralmonkey/neuralmonkey/classes/snippets.py:897: UserWarning: FixedFormatter should only be used together with FixedLocator\n",
      "  ax.set_xticklabels(ax.get_xticklabels(), rotation = 45)\n",
      "/gorilla1/code/neuralmonkey/neuralmonkey/classes/snippets.py:919: UserWarning: FixedFormatter should only be used together with FixedLocator\n",
      "  ax.set_xticklabels(ax.get_xticklabels(), rotation = 45)\n",
      "/gorilla1/code/neuralmonkey/neuralmonkey/classes/snippets.py:929: UserWarning: FixedFormatter should only be used together with FixedLocator\n",
      "  ax.set_xticklabels(x_labels, rotation = 45)\n"
     ]
    },
    {
     "name": "stdout",
     "output_type": "stream",
     "text": [
      "Plotting for chan:  68\n",
      "PLotting for (chan, bregion):  68 02_PMv_l\n"
     ]
    },
    {
     "name": "stderr",
     "output_type": "stream",
     "text": [
      "/gorilla1/code/neuralmonkey/neuralmonkey/classes/snippets.py:897: UserWarning: FixedFormatter should only be used together with FixedLocator\n",
      "  ax.set_xticklabels(ax.get_xticklabels(), rotation = 45)\n",
      "/gorilla1/code/neuralmonkey/neuralmonkey/classes/snippets.py:919: UserWarning: FixedFormatter should only be used together with FixedLocator\n",
      "  ax.set_xticklabels(ax.get_xticklabels(), rotation = 45)\n",
      "/gorilla1/code/neuralmonkey/neuralmonkey/classes/snippets.py:929: UserWarning: FixedFormatter should only be used together with FixedLocator\n",
      "  ax.set_xticklabels(x_labels, rotation = 45)\n"
     ]
    },
    {
     "name": "stdout",
     "output_type": "stream",
     "text": [
      "Plotting for chan:  69\n",
      "PLotting for (chan, bregion):  69 02_PMv_l\n"
     ]
    },
    {
     "name": "stderr",
     "output_type": "stream",
     "text": [
      "/gorilla1/code/neuralmonkey/neuralmonkey/classes/snippets.py:897: UserWarning: FixedFormatter should only be used together with FixedLocator\n",
      "  ax.set_xticklabels(ax.get_xticklabels(), rotation = 45)\n",
      "/gorilla1/code/neuralmonkey/neuralmonkey/classes/snippets.py:919: UserWarning: FixedFormatter should only be used together with FixedLocator\n",
      "  ax.set_xticklabels(ax.get_xticklabels(), rotation = 45)\n",
      "/gorilla1/code/neuralmonkey/neuralmonkey/classes/snippets.py:929: UserWarning: FixedFormatter should only be used together with FixedLocator\n",
      "  ax.set_xticklabels(x_labels, rotation = 45)\n"
     ]
    },
    {
     "name": "stdout",
     "output_type": "stream",
     "text": [
      "Plotting for chan:  70\n",
      "PLotting for (chan, bregion):  70 02_PMv_l\n"
     ]
    },
    {
     "name": "stderr",
     "output_type": "stream",
     "text": [
      "/gorilla1/code/neuralmonkey/neuralmonkey/classes/snippets.py:897: UserWarning: FixedFormatter should only be used together with FixedLocator\n",
      "  ax.set_xticklabels(ax.get_xticklabels(), rotation = 45)\n",
      "/gorilla1/code/neuralmonkey/neuralmonkey/classes/snippets.py:919: UserWarning: FixedFormatter should only be used together with FixedLocator\n",
      "  ax.set_xticklabels(ax.get_xticklabels(), rotation = 45)\n",
      "/gorilla1/code/neuralmonkey/neuralmonkey/classes/snippets.py:929: UserWarning: FixedFormatter should only be used together with FixedLocator\n",
      "  ax.set_xticklabels(x_labels, rotation = 45)\n"
     ]
    },
    {
     "name": "stdout",
     "output_type": "stream",
     "text": [
      "Plotting for chan:  71\n",
      "PLotting for (chan, bregion):  71 02_PMv_l\n"
     ]
    },
    {
     "name": "stderr",
     "output_type": "stream",
     "text": [
      "/gorilla1/code/neuralmonkey/neuralmonkey/classes/snippets.py:897: UserWarning: FixedFormatter should only be used together with FixedLocator\n",
      "  ax.set_xticklabels(ax.get_xticklabels(), rotation = 45)\n",
      "/gorilla1/code/neuralmonkey/neuralmonkey/classes/snippets.py:919: UserWarning: FixedFormatter should only be used together with FixedLocator\n",
      "  ax.set_xticklabels(ax.get_xticklabels(), rotation = 45)\n",
      "/gorilla1/code/neuralmonkey/neuralmonkey/classes/snippets.py:929: UserWarning: FixedFormatter should only be used together with FixedLocator\n",
      "  ax.set_xticklabels(x_labels, rotation = 45)\n"
     ]
    },
    {
     "name": "stdout",
     "output_type": "stream",
     "text": [
      "Plotting for chan:  72\n",
      "PLotting for (chan, bregion):  72 02_PMv_l\n"
     ]
    },
    {
     "name": "stderr",
     "output_type": "stream",
     "text": [
      "/gorilla1/code/neuralmonkey/neuralmonkey/classes/snippets.py:897: UserWarning: FixedFormatter should only be used together with FixedLocator\n",
      "  ax.set_xticklabels(ax.get_xticklabels(), rotation = 45)\n",
      "/gorilla1/code/neuralmonkey/neuralmonkey/classes/snippets.py:919: UserWarning: FixedFormatter should only be used together with FixedLocator\n",
      "  ax.set_xticklabels(ax.get_xticklabels(), rotation = 45)\n",
      "/gorilla1/code/neuralmonkey/neuralmonkey/classes/snippets.py:929: UserWarning: FixedFormatter should only be used together with FixedLocator\n",
      "  ax.set_xticklabels(x_labels, rotation = 45)\n"
     ]
    },
    {
     "name": "stdout",
     "output_type": "stream",
     "text": [
      "Plotting for chan:  78\n",
      "PLotting for (chan, bregion):  78 02_PMv_l\n"
     ]
    },
    {
     "name": "stderr",
     "output_type": "stream",
     "text": [
      "/gorilla1/code/neuralmonkey/neuralmonkey/classes/snippets.py:897: UserWarning: FixedFormatter should only be used together with FixedLocator\n",
      "  ax.set_xticklabels(ax.get_xticklabels(), rotation = 45)\n",
      "/gorilla1/code/neuralmonkey/neuralmonkey/classes/snippets.py:919: UserWarning: FixedFormatter should only be used together with FixedLocator\n",
      "  ax.set_xticklabels(ax.get_xticklabels(), rotation = 45)\n",
      "/gorilla1/code/neuralmonkey/neuralmonkey/classes/snippets.py:929: UserWarning: FixedFormatter should only be used together with FixedLocator\n",
      "  ax.set_xticklabels(x_labels, rotation = 45)\n"
     ]
    },
    {
     "name": "stdout",
     "output_type": "stream",
     "text": [
      "Plotting for chan:  79\n",
      "PLotting for (chan, bregion):  79 02_PMv_l\n"
     ]
    },
    {
     "name": "stderr",
     "output_type": "stream",
     "text": [
      "/gorilla1/code/neuralmonkey/neuralmonkey/classes/snippets.py:897: UserWarning: FixedFormatter should only be used together with FixedLocator\n",
      "  ax.set_xticklabels(ax.get_xticklabels(), rotation = 45)\n",
      "/gorilla1/code/neuralmonkey/neuralmonkey/classes/snippets.py:919: UserWarning: FixedFormatter should only be used together with FixedLocator\n",
      "  ax.set_xticklabels(ax.get_xticklabels(), rotation = 45)\n",
      "/gorilla1/code/neuralmonkey/neuralmonkey/classes/snippets.py:929: UserWarning: FixedFormatter should only be used together with FixedLocator\n",
      "  ax.set_xticklabels(x_labels, rotation = 45)\n"
     ]
    },
    {
     "name": "stdout",
     "output_type": "stream",
     "text": [
      "Plotting for chan:  81\n",
      "PLotting for (chan, bregion):  81 02_PMv_l\n"
     ]
    },
    {
     "name": "stderr",
     "output_type": "stream",
     "text": [
      "/gorilla1/code/neuralmonkey/neuralmonkey/classes/snippets.py:897: UserWarning: FixedFormatter should only be used together with FixedLocator\n",
      "  ax.set_xticklabels(ax.get_xticklabels(), rotation = 45)\n",
      "/gorilla1/code/neuralmonkey/neuralmonkey/classes/snippets.py:919: UserWarning: FixedFormatter should only be used together with FixedLocator\n",
      "  ax.set_xticklabels(ax.get_xticklabels(), rotation = 45)\n",
      "/gorilla1/code/neuralmonkey/neuralmonkey/classes/snippets.py:929: UserWarning: FixedFormatter should only be used together with FixedLocator\n",
      "  ax.set_xticklabels(x_labels, rotation = 45)\n"
     ]
    },
    {
     "name": "stdout",
     "output_type": "stream",
     "text": [
      "Plotting for chan:  84\n",
      "PLotting for (chan, bregion):  84 02_PMv_l\n"
     ]
    },
    {
     "name": "stderr",
     "output_type": "stream",
     "text": [
      "/gorilla1/code/neuralmonkey/neuralmonkey/classes/snippets.py:897: UserWarning: FixedFormatter should only be used together with FixedLocator\n",
      "  ax.set_xticklabels(ax.get_xticklabels(), rotation = 45)\n",
      "/gorilla1/code/neuralmonkey/neuralmonkey/classes/snippets.py:919: UserWarning: FixedFormatter should only be used together with FixedLocator\n",
      "  ax.set_xticklabels(ax.get_xticklabels(), rotation = 45)\n",
      "/gorilla1/code/neuralmonkey/neuralmonkey/classes/snippets.py:929: UserWarning: FixedFormatter should only be used together with FixedLocator\n",
      "  ax.set_xticklabels(x_labels, rotation = 45)\n"
     ]
    },
    {
     "name": "stdout",
     "output_type": "stream",
     "text": [
      "Plotting for chan:  87\n",
      "PLotting for (chan, bregion):  87 02_PMv_l\n"
     ]
    },
    {
     "name": "stderr",
     "output_type": "stream",
     "text": [
      "/gorilla1/code/neuralmonkey/neuralmonkey/classes/snippets.py:897: UserWarning: FixedFormatter should only be used together with FixedLocator\n",
      "  ax.set_xticklabels(ax.get_xticklabels(), rotation = 45)\n",
      "/gorilla1/code/neuralmonkey/neuralmonkey/classes/snippets.py:919: UserWarning: FixedFormatter should only be used together with FixedLocator\n",
      "  ax.set_xticklabels(ax.get_xticklabels(), rotation = 45)\n",
      "/gorilla1/code/neuralmonkey/neuralmonkey/classes/snippets.py:929: UserWarning: FixedFormatter should only be used together with FixedLocator\n",
      "  ax.set_xticklabels(x_labels, rotation = 45)\n"
     ]
    },
    {
     "name": "stdout",
     "output_type": "stream",
     "text": [
      "Plotting for chan:  92\n",
      "PLotting for (chan, bregion):  92 02_PMv_l\n"
     ]
    },
    {
     "name": "stderr",
     "output_type": "stream",
     "text": [
      "/gorilla1/code/neuralmonkey/neuralmonkey/classes/snippets.py:897: UserWarning: FixedFormatter should only be used together with FixedLocator\n",
      "  ax.set_xticklabels(ax.get_xticklabels(), rotation = 45)\n",
      "/gorilla1/code/neuralmonkey/neuralmonkey/classes/snippets.py:919: UserWarning: FixedFormatter should only be used together with FixedLocator\n",
      "  ax.set_xticklabels(ax.get_xticklabels(), rotation = 45)\n",
      "/gorilla1/code/neuralmonkey/neuralmonkey/classes/snippets.py:929: UserWarning: FixedFormatter should only be used together with FixedLocator\n",
      "  ax.set_xticklabels(x_labels, rotation = 45)\n"
     ]
    },
    {
     "name": "stdout",
     "output_type": "stream",
     "text": [
      "Plotting for chan:  94\n",
      "PLotting for (chan, bregion):  94 02_PMv_l\n"
     ]
    },
    {
     "name": "stderr",
     "output_type": "stream",
     "text": [
      "/gorilla1/code/neuralmonkey/neuralmonkey/classes/snippets.py:897: UserWarning: FixedFormatter should only be used together with FixedLocator\n",
      "  ax.set_xticklabels(ax.get_xticklabels(), rotation = 45)\n",
      "/gorilla1/code/neuralmonkey/neuralmonkey/classes/snippets.py:919: UserWarning: FixedFormatter should only be used together with FixedLocator\n",
      "  ax.set_xticklabels(ax.get_xticklabels(), rotation = 45)\n",
      "/gorilla1/code/neuralmonkey/neuralmonkey/classes/snippets.py:929: UserWarning: FixedFormatter should only be used together with FixedLocator\n",
      "  ax.set_xticklabels(x_labels, rotation = 45)\n"
     ]
    },
    {
     "name": "stdout",
     "output_type": "stream",
     "text": [
      "Plotting for chan:  96\n",
      "PLotting for (chan, bregion):  96 02_PMv_l\n"
     ]
    },
    {
     "name": "stderr",
     "output_type": "stream",
     "text": [
      "/gorilla1/code/neuralmonkey/neuralmonkey/classes/snippets.py:897: UserWarning: FixedFormatter should only be used together with FixedLocator\n",
      "  ax.set_xticklabels(ax.get_xticklabels(), rotation = 45)\n",
      "/gorilla1/code/neuralmonkey/neuralmonkey/classes/snippets.py:919: UserWarning: FixedFormatter should only be used together with FixedLocator\n",
      "  ax.set_xticklabels(ax.get_xticklabels(), rotation = 45)\n",
      "/gorilla1/code/neuralmonkey/neuralmonkey/classes/snippets.py:929: UserWarning: FixedFormatter should only be used together with FixedLocator\n",
      "  ax.set_xticklabels(x_labels, rotation = 45)\n"
     ]
    },
    {
     "name": "stdout",
     "output_type": "stream",
     "text": [
      "Plotting for chan:  97\n",
      "PLotting for (chan, bregion):  97 03_PMv_m\n"
     ]
    },
    {
     "name": "stderr",
     "output_type": "stream",
     "text": [
      "/gorilla1/code/neuralmonkey/neuralmonkey/classes/snippets.py:897: UserWarning: FixedFormatter should only be used together with FixedLocator\n",
      "  ax.set_xticklabels(ax.get_xticklabels(), rotation = 45)\n",
      "/gorilla1/code/neuralmonkey/neuralmonkey/classes/snippets.py:919: UserWarning: FixedFormatter should only be used together with FixedLocator\n",
      "  ax.set_xticklabels(ax.get_xticklabels(), rotation = 45)\n",
      "/gorilla1/code/neuralmonkey/neuralmonkey/classes/snippets.py:929: UserWarning: FixedFormatter should only be used together with FixedLocator\n",
      "  ax.set_xticklabels(x_labels, rotation = 45)\n"
     ]
    },
    {
     "name": "stdout",
     "output_type": "stream",
     "text": [
      "Plotting for chan:  98\n",
      "PLotting for (chan, bregion):  98 03_PMv_m\n"
     ]
    },
    {
     "name": "stderr",
     "output_type": "stream",
     "text": [
      "/gorilla1/code/neuralmonkey/neuralmonkey/classes/snippets.py:897: UserWarning: FixedFormatter should only be used together with FixedLocator\n",
      "  ax.set_xticklabels(ax.get_xticklabels(), rotation = 45)\n",
      "/gorilla1/code/neuralmonkey/neuralmonkey/classes/snippets.py:919: UserWarning: FixedFormatter should only be used together with FixedLocator\n",
      "  ax.set_xticklabels(ax.get_xticklabels(), rotation = 45)\n",
      "/gorilla1/code/neuralmonkey/neuralmonkey/classes/snippets.py:929: UserWarning: FixedFormatter should only be used together with FixedLocator\n",
      "  ax.set_xticklabels(x_labels, rotation = 45)\n"
     ]
    },
    {
     "name": "stdout",
     "output_type": "stream",
     "text": [
      "Plotting for chan:  99\n",
      "PLotting for (chan, bregion):  99 03_PMv_m\n"
     ]
    },
    {
     "name": "stderr",
     "output_type": "stream",
     "text": [
      "/gorilla1/code/neuralmonkey/neuralmonkey/classes/snippets.py:897: UserWarning: FixedFormatter should only be used together with FixedLocator\n",
      "  ax.set_xticklabels(ax.get_xticklabels(), rotation = 45)\n",
      "/gorilla1/code/neuralmonkey/neuralmonkey/classes/snippets.py:919: UserWarning: FixedFormatter should only be used together with FixedLocator\n",
      "  ax.set_xticklabels(ax.get_xticklabels(), rotation = 45)\n",
      "/gorilla1/code/neuralmonkey/neuralmonkey/classes/snippets.py:929: UserWarning: FixedFormatter should only be used together with FixedLocator\n",
      "  ax.set_xticklabels(x_labels, rotation = 45)\n"
     ]
    },
    {
     "name": "stdout",
     "output_type": "stream",
     "text": [
      "Plotting for chan:  101\n",
      "PLotting for (chan, bregion):  101 03_PMv_m\n"
     ]
    },
    {
     "name": "stderr",
     "output_type": "stream",
     "text": [
      "/gorilla1/code/neuralmonkey/neuralmonkey/classes/snippets.py:897: UserWarning: FixedFormatter should only be used together with FixedLocator\n",
      "  ax.set_xticklabels(ax.get_xticklabels(), rotation = 45)\n",
      "/gorilla1/code/neuralmonkey/neuralmonkey/classes/snippets.py:919: UserWarning: FixedFormatter should only be used together with FixedLocator\n",
      "  ax.set_xticklabels(ax.get_xticklabels(), rotation = 45)\n",
      "/gorilla1/code/neuralmonkey/neuralmonkey/classes/snippets.py:929: UserWarning: FixedFormatter should only be used together with FixedLocator\n",
      "  ax.set_xticklabels(x_labels, rotation = 45)\n"
     ]
    },
    {
     "name": "stdout",
     "output_type": "stream",
     "text": [
      "Plotting for chan:  103\n",
      "PLotting for (chan, bregion):  103 03_PMv_m\n"
     ]
    },
    {
     "name": "stderr",
     "output_type": "stream",
     "text": [
      "/gorilla1/code/neuralmonkey/neuralmonkey/classes/snippets.py:897: UserWarning: FixedFormatter should only be used together with FixedLocator\n",
      "  ax.set_xticklabels(ax.get_xticklabels(), rotation = 45)\n",
      "/gorilla1/code/neuralmonkey/neuralmonkey/classes/snippets.py:919: UserWarning: FixedFormatter should only be used together with FixedLocator\n",
      "  ax.set_xticklabels(ax.get_xticklabels(), rotation = 45)\n",
      "/gorilla1/code/neuralmonkey/neuralmonkey/classes/snippets.py:929: UserWarning: FixedFormatter should only be used together with FixedLocator\n",
      "  ax.set_xticklabels(x_labels, rotation = 45)\n"
     ]
    },
    {
     "name": "stdout",
     "output_type": "stream",
     "text": [
      "Plotting for chan:  106\n",
      "PLotting for (chan, bregion):  106 03_PMv_m\n"
     ]
    },
    {
     "name": "stderr",
     "output_type": "stream",
     "text": [
      "/gorilla1/code/neuralmonkey/neuralmonkey/classes/snippets.py:897: UserWarning: FixedFormatter should only be used together with FixedLocator\n",
      "  ax.set_xticklabels(ax.get_xticklabels(), rotation = 45)\n",
      "/gorilla1/code/neuralmonkey/neuralmonkey/classes/snippets.py:919: UserWarning: FixedFormatter should only be used together with FixedLocator\n",
      "  ax.set_xticklabels(ax.get_xticklabels(), rotation = 45)\n",
      "/gorilla1/code/neuralmonkey/neuralmonkey/classes/snippets.py:929: UserWarning: FixedFormatter should only be used together with FixedLocator\n",
      "  ax.set_xticklabels(x_labels, rotation = 45)\n"
     ]
    },
    {
     "name": "stdout",
     "output_type": "stream",
     "text": [
      "Plotting for chan:  107\n",
      "PLotting for (chan, bregion):  107 03_PMv_m\n"
     ]
    },
    {
     "name": "stderr",
     "output_type": "stream",
     "text": [
      "/gorilla1/code/neuralmonkey/neuralmonkey/classes/snippets.py:897: UserWarning: FixedFormatter should only be used together with FixedLocator\n",
      "  ax.set_xticklabels(ax.get_xticklabels(), rotation = 45)\n",
      "/gorilla1/code/neuralmonkey/neuralmonkey/classes/snippets.py:919: UserWarning: FixedFormatter should only be used together with FixedLocator\n",
      "  ax.set_xticklabels(ax.get_xticklabels(), rotation = 45)\n",
      "/gorilla1/code/neuralmonkey/neuralmonkey/classes/snippets.py:929: UserWarning: FixedFormatter should only be used together with FixedLocator\n",
      "  ax.set_xticklabels(x_labels, rotation = 45)\n"
     ]
    },
    {
     "name": "stdout",
     "output_type": "stream",
     "text": [
      "Plotting for chan:  108\n",
      "PLotting for (chan, bregion):  108 03_PMv_m\n"
     ]
    },
    {
     "name": "stderr",
     "output_type": "stream",
     "text": [
      "/gorilla1/code/neuralmonkey/neuralmonkey/classes/snippets.py:897: UserWarning: FixedFormatter should only be used together with FixedLocator\n",
      "  ax.set_xticklabels(ax.get_xticklabels(), rotation = 45)\n",
      "/gorilla1/code/neuralmonkey/neuralmonkey/classes/snippets.py:919: UserWarning: FixedFormatter should only be used together with FixedLocator\n",
      "  ax.set_xticklabels(ax.get_xticklabels(), rotation = 45)\n",
      "/gorilla1/code/neuralmonkey/neuralmonkey/classes/snippets.py:929: UserWarning: FixedFormatter should only be used together with FixedLocator\n",
      "  ax.set_xticklabels(x_labels, rotation = 45)\n"
     ]
    },
    {
     "name": "stdout",
     "output_type": "stream",
     "text": [
      "Plotting for chan:  109\n",
      "PLotting for (chan, bregion):  109 03_PMv_m\n"
     ]
    },
    {
     "name": "stderr",
     "output_type": "stream",
     "text": [
      "/gorilla1/code/neuralmonkey/neuralmonkey/classes/snippets.py:897: UserWarning: FixedFormatter should only be used together with FixedLocator\n",
      "  ax.set_xticklabels(ax.get_xticklabels(), rotation = 45)\n",
      "/gorilla1/code/neuralmonkey/neuralmonkey/classes/snippets.py:919: UserWarning: FixedFormatter should only be used together with FixedLocator\n",
      "  ax.set_xticklabels(ax.get_xticklabels(), rotation = 45)\n",
      "/gorilla1/code/neuralmonkey/neuralmonkey/classes/snippets.py:929: UserWarning: FixedFormatter should only be used together with FixedLocator\n",
      "  ax.set_xticklabels(x_labels, rotation = 45)\n"
     ]
    },
    {
     "name": "stdout",
     "output_type": "stream",
     "text": [
      "Plotting for chan:  110\n",
      "PLotting for (chan, bregion):  110 03_PMv_m\n"
     ]
    },
    {
     "name": "stderr",
     "output_type": "stream",
     "text": [
      "/gorilla1/code/neuralmonkey/neuralmonkey/classes/snippets.py:897: UserWarning: FixedFormatter should only be used together with FixedLocator\n",
      "  ax.set_xticklabels(ax.get_xticklabels(), rotation = 45)\n",
      "/gorilla1/code/neuralmonkey/neuralmonkey/classes/snippets.py:919: UserWarning: FixedFormatter should only be used together with FixedLocator\n",
      "  ax.set_xticklabels(ax.get_xticklabels(), rotation = 45)\n",
      "/gorilla1/code/neuralmonkey/neuralmonkey/classes/snippets.py:929: UserWarning: FixedFormatter should only be used together with FixedLocator\n",
      "  ax.set_xticklabels(x_labels, rotation = 45)\n"
     ]
    },
    {
     "name": "stdout",
     "output_type": "stream",
     "text": [
      "Plotting for chan:  111\n",
      "PLotting for (chan, bregion):  111 03_PMv_m\n"
     ]
    },
    {
     "name": "stderr",
     "output_type": "stream",
     "text": [
      "/gorilla1/code/neuralmonkey/neuralmonkey/classes/snippets.py:897: UserWarning: FixedFormatter should only be used together with FixedLocator\n",
      "  ax.set_xticklabels(ax.get_xticklabels(), rotation = 45)\n",
      "/gorilla1/code/neuralmonkey/neuralmonkey/classes/snippets.py:919: UserWarning: FixedFormatter should only be used together with FixedLocator\n",
      "  ax.set_xticklabels(ax.get_xticklabels(), rotation = 45)\n",
      "/gorilla1/code/neuralmonkey/neuralmonkey/classes/snippets.py:929: UserWarning: FixedFormatter should only be used together with FixedLocator\n",
      "  ax.set_xticklabels(x_labels, rotation = 45)\n"
     ]
    },
    {
     "name": "stdout",
     "output_type": "stream",
     "text": [
      "Plotting for chan:  114\n",
      "PLotting for (chan, bregion):  114 03_PMv_m\n"
     ]
    },
    {
     "name": "stderr",
     "output_type": "stream",
     "text": [
      "/gorilla1/code/neuralmonkey/neuralmonkey/classes/snippets.py:897: UserWarning: FixedFormatter should only be used together with FixedLocator\n",
      "  ax.set_xticklabels(ax.get_xticklabels(), rotation = 45)\n",
      "/gorilla1/code/neuralmonkey/neuralmonkey/classes/snippets.py:919: UserWarning: FixedFormatter should only be used together with FixedLocator\n",
      "  ax.set_xticklabels(ax.get_xticklabels(), rotation = 45)\n",
      "/gorilla1/code/neuralmonkey/neuralmonkey/classes/snippets.py:929: UserWarning: FixedFormatter should only be used together with FixedLocator\n",
      "  ax.set_xticklabels(x_labels, rotation = 45)\n"
     ]
    },
    {
     "name": "stdout",
     "output_type": "stream",
     "text": [
      "Plotting for chan:  115\n",
      "PLotting for (chan, bregion):  115 03_PMv_m\n"
     ]
    },
    {
     "name": "stderr",
     "output_type": "stream",
     "text": [
      "/gorilla1/code/neuralmonkey/neuralmonkey/classes/snippets.py:897: UserWarning: FixedFormatter should only be used together with FixedLocator\n",
      "  ax.set_xticklabels(ax.get_xticklabels(), rotation = 45)\n",
      "/gorilla1/code/neuralmonkey/neuralmonkey/classes/snippets.py:919: UserWarning: FixedFormatter should only be used together with FixedLocator\n",
      "  ax.set_xticklabels(ax.get_xticklabels(), rotation = 45)\n",
      "/gorilla1/code/neuralmonkey/neuralmonkey/classes/snippets.py:929: UserWarning: FixedFormatter should only be used together with FixedLocator\n",
      "  ax.set_xticklabels(x_labels, rotation = 45)\n"
     ]
    },
    {
     "name": "stdout",
     "output_type": "stream",
     "text": [
      "Plotting for chan:  116\n",
      "PLotting for (chan, bregion):  116 03_PMv_m\n"
     ]
    },
    {
     "name": "stderr",
     "output_type": "stream",
     "text": [
      "/gorilla1/code/neuralmonkey/neuralmonkey/classes/snippets.py:897: UserWarning: FixedFormatter should only be used together with FixedLocator\n",
      "  ax.set_xticklabels(ax.get_xticklabels(), rotation = 45)\n",
      "/gorilla1/code/neuralmonkey/neuralmonkey/classes/snippets.py:919: UserWarning: FixedFormatter should only be used together with FixedLocator\n",
      "  ax.set_xticklabels(ax.get_xticklabels(), rotation = 45)\n",
      "/gorilla1/code/neuralmonkey/neuralmonkey/classes/snippets.py:929: UserWarning: FixedFormatter should only be used together with FixedLocator\n",
      "  ax.set_xticklabels(x_labels, rotation = 45)\n"
     ]
    },
    {
     "name": "stdout",
     "output_type": "stream",
     "text": [
      "Plotting for chan:  117\n",
      "PLotting for (chan, bregion):  117 03_PMv_m\n"
     ]
    },
    {
     "name": "stderr",
     "output_type": "stream",
     "text": [
      "/gorilla1/code/neuralmonkey/neuralmonkey/classes/snippets.py:897: UserWarning: FixedFormatter should only be used together with FixedLocator\n",
      "  ax.set_xticklabels(ax.get_xticklabels(), rotation = 45)\n",
      "/gorilla1/code/neuralmonkey/neuralmonkey/classes/snippets.py:919: UserWarning: FixedFormatter should only be used together with FixedLocator\n",
      "  ax.set_xticklabels(ax.get_xticklabels(), rotation = 45)\n",
      "/gorilla1/code/neuralmonkey/neuralmonkey/classes/snippets.py:929: UserWarning: FixedFormatter should only be used together with FixedLocator\n",
      "  ax.set_xticklabels(x_labels, rotation = 45)\n"
     ]
    },
    {
     "name": "stdout",
     "output_type": "stream",
     "text": [
      "Plotting for chan:  119\n",
      "PLotting for (chan, bregion):  119 03_PMv_m\n"
     ]
    },
    {
     "name": "stderr",
     "output_type": "stream",
     "text": [
      "/gorilla1/code/neuralmonkey/neuralmonkey/classes/snippets.py:897: UserWarning: FixedFormatter should only be used together with FixedLocator\n",
      "  ax.set_xticklabels(ax.get_xticklabels(), rotation = 45)\n",
      "/gorilla1/code/neuralmonkey/neuralmonkey/classes/snippets.py:919: UserWarning: FixedFormatter should only be used together with FixedLocator\n",
      "  ax.set_xticklabels(ax.get_xticklabels(), rotation = 45)\n",
      "/gorilla1/code/neuralmonkey/neuralmonkey/classes/snippets.py:929: UserWarning: FixedFormatter should only be used together with FixedLocator\n",
      "  ax.set_xticklabels(x_labels, rotation = 45)\n"
     ]
    },
    {
     "name": "stdout",
     "output_type": "stream",
     "text": [
      "Plotting for chan:  120\n",
      "PLotting for (chan, bregion):  120 03_PMv_m\n"
     ]
    },
    {
     "name": "stderr",
     "output_type": "stream",
     "text": [
      "/gorilla1/code/neuralmonkey/neuralmonkey/classes/snippets.py:897: UserWarning: FixedFormatter should only be used together with FixedLocator\n",
      "  ax.set_xticklabels(ax.get_xticklabels(), rotation = 45)\n",
      "/gorilla1/code/neuralmonkey/neuralmonkey/classes/snippets.py:919: UserWarning: FixedFormatter should only be used together with FixedLocator\n",
      "  ax.set_xticklabels(ax.get_xticklabels(), rotation = 45)\n",
      "/gorilla1/code/neuralmonkey/neuralmonkey/classes/snippets.py:929: UserWarning: FixedFormatter should only be used together with FixedLocator\n",
      "  ax.set_xticklabels(x_labels, rotation = 45)\n"
     ]
    },
    {
     "name": "stdout",
     "output_type": "stream",
     "text": [
      "Plotting for chan:  121\n",
      "PLotting for (chan, bregion):  121 03_PMv_m\n"
     ]
    },
    {
     "name": "stderr",
     "output_type": "stream",
     "text": [
      "/gorilla1/code/neuralmonkey/neuralmonkey/classes/snippets.py:897: UserWarning: FixedFormatter should only be used together with FixedLocator\n",
      "  ax.set_xticklabels(ax.get_xticklabels(), rotation = 45)\n",
      "/gorilla1/code/neuralmonkey/neuralmonkey/classes/snippets.py:919: UserWarning: FixedFormatter should only be used together with FixedLocator\n",
      "  ax.set_xticklabels(ax.get_xticklabels(), rotation = 45)\n",
      "/gorilla1/code/neuralmonkey/neuralmonkey/classes/snippets.py:929: UserWarning: FixedFormatter should only be used together with FixedLocator\n",
      "  ax.set_xticklabels(x_labels, rotation = 45)\n"
     ]
    },
    {
     "name": "stdout",
     "output_type": "stream",
     "text": [
      "Plotting for chan:  123\n",
      "PLotting for (chan, bregion):  123 03_PMv_m\n"
     ]
    },
    {
     "name": "stderr",
     "output_type": "stream",
     "text": [
      "/gorilla1/code/neuralmonkey/neuralmonkey/classes/snippets.py:897: UserWarning: FixedFormatter should only be used together with FixedLocator\n",
      "  ax.set_xticklabels(ax.get_xticklabels(), rotation = 45)\n",
      "/gorilla1/code/neuralmonkey/neuralmonkey/classes/snippets.py:919: UserWarning: FixedFormatter should only be used together with FixedLocator\n",
      "  ax.set_xticklabels(ax.get_xticklabels(), rotation = 45)\n",
      "/gorilla1/code/neuralmonkey/neuralmonkey/classes/snippets.py:929: UserWarning: FixedFormatter should only be used together with FixedLocator\n",
      "  ax.set_xticklabels(x_labels, rotation = 45)\n"
     ]
    },
    {
     "name": "stdout",
     "output_type": "stream",
     "text": [
      "Plotting for chan:  124\n",
      "PLotting for (chan, bregion):  124 03_PMv_m\n"
     ]
    },
    {
     "name": "stderr",
     "output_type": "stream",
     "text": [
      "/gorilla1/code/neuralmonkey/neuralmonkey/classes/snippets.py:897: UserWarning: FixedFormatter should only be used together with FixedLocator\n",
      "  ax.set_xticklabels(ax.get_xticklabels(), rotation = 45)\n",
      "/gorilla1/code/neuralmonkey/neuralmonkey/classes/snippets.py:919: UserWarning: FixedFormatter should only be used together with FixedLocator\n",
      "  ax.set_xticklabels(ax.get_xticklabels(), rotation = 45)\n",
      "/gorilla1/code/neuralmonkey/neuralmonkey/classes/snippets.py:929: UserWarning: FixedFormatter should only be used together with FixedLocator\n",
      "  ax.set_xticklabels(x_labels, rotation = 45)\n"
     ]
    },
    {
     "name": "stdout",
     "output_type": "stream",
     "text": [
      "Plotting for chan:  126\n",
      "PLotting for (chan, bregion):  126 03_PMv_m\n"
     ]
    },
    {
     "name": "stderr",
     "output_type": "stream",
     "text": [
      "/gorilla1/code/neuralmonkey/neuralmonkey/classes/snippets.py:897: UserWarning: FixedFormatter should only be used together with FixedLocator\n",
      "  ax.set_xticklabels(ax.get_xticklabels(), rotation = 45)\n",
      "/gorilla1/code/neuralmonkey/neuralmonkey/classes/snippets.py:919: UserWarning: FixedFormatter should only be used together with FixedLocator\n",
      "  ax.set_xticklabels(ax.get_xticklabels(), rotation = 45)\n",
      "/gorilla1/code/neuralmonkey/neuralmonkey/classes/snippets.py:929: UserWarning: FixedFormatter should only be used together with FixedLocator\n",
      "  ax.set_xticklabels(x_labels, rotation = 45)\n"
     ]
    },
    {
     "name": "stdout",
     "output_type": "stream",
     "text": [
      "Plotting for chan:  130\n",
      "PLotting for (chan, bregion):  130 04_PMd_p\n"
     ]
    },
    {
     "name": "stderr",
     "output_type": "stream",
     "text": [
      "/gorilla1/code/neuralmonkey/neuralmonkey/classes/snippets.py:897: UserWarning: FixedFormatter should only be used together with FixedLocator\n",
      "  ax.set_xticklabels(ax.get_xticklabels(), rotation = 45)\n",
      "/gorilla1/code/neuralmonkey/neuralmonkey/classes/snippets.py:919: UserWarning: FixedFormatter should only be used together with FixedLocator\n",
      "  ax.set_xticklabels(ax.get_xticklabels(), rotation = 45)\n",
      "/gorilla1/code/neuralmonkey/neuralmonkey/classes/snippets.py:929: UserWarning: FixedFormatter should only be used together with FixedLocator\n",
      "  ax.set_xticklabels(x_labels, rotation = 45)\n"
     ]
    },
    {
     "name": "stdout",
     "output_type": "stream",
     "text": [
      "Plotting for chan:  132\n",
      "PLotting for (chan, bregion):  132 04_PMd_p\n"
     ]
    },
    {
     "name": "stderr",
     "output_type": "stream",
     "text": [
      "/gorilla1/code/neuralmonkey/neuralmonkey/classes/snippets.py:897: UserWarning: FixedFormatter should only be used together with FixedLocator\n",
      "  ax.set_xticklabels(ax.get_xticklabels(), rotation = 45)\n",
      "/gorilla1/code/neuralmonkey/neuralmonkey/classes/snippets.py:919: UserWarning: FixedFormatter should only be used together with FixedLocator\n",
      "  ax.set_xticklabels(ax.get_xticklabels(), rotation = 45)\n",
      "/gorilla1/code/neuralmonkey/neuralmonkey/classes/snippets.py:929: UserWarning: FixedFormatter should only be used together with FixedLocator\n",
      "  ax.set_xticklabels(x_labels, rotation = 45)\n"
     ]
    },
    {
     "name": "stdout",
     "output_type": "stream",
     "text": [
      "Plotting for chan:  134\n",
      "PLotting for (chan, bregion):  134 04_PMd_p\n"
     ]
    },
    {
     "name": "stderr",
     "output_type": "stream",
     "text": [
      "/gorilla1/code/neuralmonkey/neuralmonkey/classes/snippets.py:897: UserWarning: FixedFormatter should only be used together with FixedLocator\n",
      "  ax.set_xticklabels(ax.get_xticklabels(), rotation = 45)\n",
      "/gorilla1/code/neuralmonkey/neuralmonkey/classes/snippets.py:919: UserWarning: FixedFormatter should only be used together with FixedLocator\n",
      "  ax.set_xticklabels(ax.get_xticklabels(), rotation = 45)\n",
      "/gorilla1/code/neuralmonkey/neuralmonkey/classes/snippets.py:929: UserWarning: FixedFormatter should only be used together with FixedLocator\n",
      "  ax.set_xticklabels(x_labels, rotation = 45)\n"
     ]
    },
    {
     "name": "stdout",
     "output_type": "stream",
     "text": [
      "Plotting for chan:  135\n",
      "PLotting for (chan, bregion):  135 04_PMd_p\n"
     ]
    },
    {
     "name": "stderr",
     "output_type": "stream",
     "text": [
      "/gorilla1/code/neuralmonkey/neuralmonkey/classes/snippets.py:897: UserWarning: FixedFormatter should only be used together with FixedLocator\n",
      "  ax.set_xticklabels(ax.get_xticklabels(), rotation = 45)\n",
      "/gorilla1/code/neuralmonkey/neuralmonkey/classes/snippets.py:919: UserWarning: FixedFormatter should only be used together with FixedLocator\n",
      "  ax.set_xticklabels(ax.get_xticklabels(), rotation = 45)\n",
      "/gorilla1/code/neuralmonkey/neuralmonkey/classes/snippets.py:929: UserWarning: FixedFormatter should only be used together with FixedLocator\n",
      "  ax.set_xticklabels(x_labels, rotation = 45)\n"
     ]
    },
    {
     "name": "stdout",
     "output_type": "stream",
     "text": [
      "Plotting for chan:  136\n",
      "PLotting for (chan, bregion):  136 04_PMd_p\n"
     ]
    },
    {
     "name": "stderr",
     "output_type": "stream",
     "text": [
      "/gorilla1/code/neuralmonkey/neuralmonkey/classes/snippets.py:897: UserWarning: FixedFormatter should only be used together with FixedLocator\n",
      "  ax.set_xticklabels(ax.get_xticklabels(), rotation = 45)\n",
      "/gorilla1/code/neuralmonkey/neuralmonkey/classes/snippets.py:919: UserWarning: FixedFormatter should only be used together with FixedLocator\n",
      "  ax.set_xticklabels(ax.get_xticklabels(), rotation = 45)\n",
      "/gorilla1/code/neuralmonkey/neuralmonkey/classes/snippets.py:929: UserWarning: FixedFormatter should only be used together with FixedLocator\n",
      "  ax.set_xticklabels(x_labels, rotation = 45)\n"
     ]
    },
    {
     "name": "stdout",
     "output_type": "stream",
     "text": [
      "Plotting for chan:  138\n",
      "PLotting for (chan, bregion):  138 04_PMd_p\n"
     ]
    },
    {
     "name": "stderr",
     "output_type": "stream",
     "text": [
      "/gorilla1/code/neuralmonkey/neuralmonkey/classes/snippets.py:897: UserWarning: FixedFormatter should only be used together with FixedLocator\n",
      "  ax.set_xticklabels(ax.get_xticklabels(), rotation = 45)\n",
      "/gorilla1/code/neuralmonkey/neuralmonkey/classes/snippets.py:919: UserWarning: FixedFormatter should only be used together with FixedLocator\n",
      "  ax.set_xticklabels(ax.get_xticklabels(), rotation = 45)\n",
      "/gorilla1/code/neuralmonkey/neuralmonkey/classes/snippets.py:929: UserWarning: FixedFormatter should only be used together with FixedLocator\n",
      "  ax.set_xticklabels(x_labels, rotation = 45)\n"
     ]
    },
    {
     "name": "stdout",
     "output_type": "stream",
     "text": [
      "Plotting for chan:  140\n",
      "PLotting for (chan, bregion):  140 04_PMd_p\n"
     ]
    },
    {
     "name": "stderr",
     "output_type": "stream",
     "text": [
      "/gorilla1/code/neuralmonkey/neuralmonkey/classes/snippets.py:897: UserWarning: FixedFormatter should only be used together with FixedLocator\n",
      "  ax.set_xticklabels(ax.get_xticklabels(), rotation = 45)\n",
      "/gorilla1/code/neuralmonkey/neuralmonkey/classes/snippets.py:919: UserWarning: FixedFormatter should only be used together with FixedLocator\n",
      "  ax.set_xticklabels(ax.get_xticklabels(), rotation = 45)\n",
      "/gorilla1/code/neuralmonkey/neuralmonkey/classes/snippets.py:929: UserWarning: FixedFormatter should only be used together with FixedLocator\n",
      "  ax.set_xticklabels(x_labels, rotation = 45)\n"
     ]
    },
    {
     "name": "stdout",
     "output_type": "stream",
     "text": [
      "Plotting for chan:  141\n",
      "PLotting for (chan, bregion):  141 04_PMd_p\n"
     ]
    },
    {
     "name": "stderr",
     "output_type": "stream",
     "text": [
      "/gorilla1/code/neuralmonkey/neuralmonkey/classes/snippets.py:897: UserWarning: FixedFormatter should only be used together with FixedLocator\n",
      "  ax.set_xticklabels(ax.get_xticklabels(), rotation = 45)\n",
      "/gorilla1/code/neuralmonkey/neuralmonkey/classes/snippets.py:919: UserWarning: FixedFormatter should only be used together with FixedLocator\n",
      "  ax.set_xticklabels(ax.get_xticklabels(), rotation = 45)\n",
      "/gorilla1/code/neuralmonkey/neuralmonkey/classes/snippets.py:929: UserWarning: FixedFormatter should only be used together with FixedLocator\n",
      "  ax.set_xticklabels(x_labels, rotation = 45)\n"
     ]
    },
    {
     "name": "stdout",
     "output_type": "stream",
     "text": [
      "Plotting for chan:  142\n",
      "PLotting for (chan, bregion):  142 04_PMd_p\n"
     ]
    },
    {
     "name": "stderr",
     "output_type": "stream",
     "text": [
      "/gorilla1/code/neuralmonkey/neuralmonkey/classes/snippets.py:897: UserWarning: FixedFormatter should only be used together with FixedLocator\n",
      "  ax.set_xticklabels(ax.get_xticklabels(), rotation = 45)\n",
      "/gorilla1/code/neuralmonkey/neuralmonkey/classes/snippets.py:919: UserWarning: FixedFormatter should only be used together with FixedLocator\n",
      "  ax.set_xticklabels(ax.get_xticklabels(), rotation = 45)\n",
      "/gorilla1/code/neuralmonkey/neuralmonkey/classes/snippets.py:929: UserWarning: FixedFormatter should only be used together with FixedLocator\n",
      "  ax.set_xticklabels(x_labels, rotation = 45)\n"
     ]
    },
    {
     "name": "stdout",
     "output_type": "stream",
     "text": [
      "Plotting for chan:  143\n",
      "PLotting for (chan, bregion):  143 04_PMd_p\n"
     ]
    },
    {
     "name": "stderr",
     "output_type": "stream",
     "text": [
      "/gorilla1/code/neuralmonkey/neuralmonkey/classes/snippets.py:897: UserWarning: FixedFormatter should only be used together with FixedLocator\n",
      "  ax.set_xticklabels(ax.get_xticklabels(), rotation = 45)\n",
      "/gorilla1/code/neuralmonkey/neuralmonkey/classes/snippets.py:919: UserWarning: FixedFormatter should only be used together with FixedLocator\n",
      "  ax.set_xticklabels(ax.get_xticklabels(), rotation = 45)\n",
      "/gorilla1/code/neuralmonkey/neuralmonkey/classes/snippets.py:929: UserWarning: FixedFormatter should only be used together with FixedLocator\n",
      "  ax.set_xticklabels(x_labels, rotation = 45)\n"
     ]
    },
    {
     "name": "stdout",
     "output_type": "stream",
     "text": [
      "Plotting for chan:  144\n",
      "PLotting for (chan, bregion):  144 04_PMd_p\n"
     ]
    },
    {
     "name": "stderr",
     "output_type": "stream",
     "text": [
      "/gorilla1/code/neuralmonkey/neuralmonkey/classes/snippets.py:897: UserWarning: FixedFormatter should only be used together with FixedLocator\n",
      "  ax.set_xticklabels(ax.get_xticklabels(), rotation = 45)\n",
      "/gorilla1/code/neuralmonkey/neuralmonkey/classes/snippets.py:919: UserWarning: FixedFormatter should only be used together with FixedLocator\n",
      "  ax.set_xticklabels(ax.get_xticklabels(), rotation = 45)\n",
      "/gorilla1/code/neuralmonkey/neuralmonkey/classes/snippets.py:929: UserWarning: FixedFormatter should only be used together with FixedLocator\n",
      "  ax.set_xticklabels(x_labels, rotation = 45)\n"
     ]
    },
    {
     "name": "stdout",
     "output_type": "stream",
     "text": [
      "Plotting for chan:  145\n",
      "PLotting for (chan, bregion):  145 04_PMd_p\n"
     ]
    },
    {
     "name": "stderr",
     "output_type": "stream",
     "text": [
      "/gorilla1/code/neuralmonkey/neuralmonkey/classes/snippets.py:897: UserWarning: FixedFormatter should only be used together with FixedLocator\n",
      "  ax.set_xticklabels(ax.get_xticklabels(), rotation = 45)\n",
      "/gorilla1/code/neuralmonkey/neuralmonkey/classes/snippets.py:919: UserWarning: FixedFormatter should only be used together with FixedLocator\n",
      "  ax.set_xticklabels(ax.get_xticklabels(), rotation = 45)\n",
      "/gorilla1/code/neuralmonkey/neuralmonkey/classes/snippets.py:929: UserWarning: FixedFormatter should only be used together with FixedLocator\n",
      "  ax.set_xticklabels(x_labels, rotation = 45)\n"
     ]
    },
    {
     "name": "stdout",
     "output_type": "stream",
     "text": [
      "Plotting for chan:  146\n",
      "PLotting for (chan, bregion):  146 04_PMd_p\n"
     ]
    },
    {
     "name": "stderr",
     "output_type": "stream",
     "text": [
      "/gorilla1/code/neuralmonkey/neuralmonkey/classes/snippets.py:897: UserWarning: FixedFormatter should only be used together with FixedLocator\n",
      "  ax.set_xticklabels(ax.get_xticklabels(), rotation = 45)\n",
      "/gorilla1/code/neuralmonkey/neuralmonkey/classes/snippets.py:919: UserWarning: FixedFormatter should only be used together with FixedLocator\n",
      "  ax.set_xticklabels(ax.get_xticklabels(), rotation = 45)\n",
      "/gorilla1/code/neuralmonkey/neuralmonkey/classes/snippets.py:929: UserWarning: FixedFormatter should only be used together with FixedLocator\n",
      "  ax.set_xticklabels(x_labels, rotation = 45)\n"
     ]
    },
    {
     "name": "stdout",
     "output_type": "stream",
     "text": [
      "Plotting for chan:  148\n",
      "PLotting for (chan, bregion):  148 04_PMd_p\n"
     ]
    },
    {
     "name": "stderr",
     "output_type": "stream",
     "text": [
      "/gorilla1/code/neuralmonkey/neuralmonkey/classes/snippets.py:897: UserWarning: FixedFormatter should only be used together with FixedLocator\n",
      "  ax.set_xticklabels(ax.get_xticklabels(), rotation = 45)\n",
      "/gorilla1/code/neuralmonkey/neuralmonkey/classes/snippets.py:919: UserWarning: FixedFormatter should only be used together with FixedLocator\n",
      "  ax.set_xticklabels(ax.get_xticklabels(), rotation = 45)\n",
      "/gorilla1/code/neuralmonkey/neuralmonkey/classes/snippets.py:929: UserWarning: FixedFormatter should only be used together with FixedLocator\n",
      "  ax.set_xticklabels(x_labels, rotation = 45)\n"
     ]
    },
    {
     "name": "stdout",
     "output_type": "stream",
     "text": [
      "Plotting for chan:  150\n",
      "PLotting for (chan, bregion):  150 04_PMd_p\n"
     ]
    },
    {
     "name": "stderr",
     "output_type": "stream",
     "text": [
      "/gorilla1/code/neuralmonkey/neuralmonkey/classes/snippets.py:897: UserWarning: FixedFormatter should only be used together with FixedLocator\n",
      "  ax.set_xticklabels(ax.get_xticklabels(), rotation = 45)\n",
      "/gorilla1/code/neuralmonkey/neuralmonkey/classes/snippets.py:919: UserWarning: FixedFormatter should only be used together with FixedLocator\n",
      "  ax.set_xticklabels(ax.get_xticklabels(), rotation = 45)\n",
      "/gorilla1/code/neuralmonkey/neuralmonkey/classes/snippets.py:929: UserWarning: FixedFormatter should only be used together with FixedLocator\n",
      "  ax.set_xticklabels(x_labels, rotation = 45)\n"
     ]
    },
    {
     "name": "stdout",
     "output_type": "stream",
     "text": [
      "Plotting for chan:  151\n",
      "PLotting for (chan, bregion):  151 04_PMd_p\n"
     ]
    },
    {
     "name": "stderr",
     "output_type": "stream",
     "text": [
      "/gorilla1/code/neuralmonkey/neuralmonkey/classes/snippets.py:897: UserWarning: FixedFormatter should only be used together with FixedLocator\n",
      "  ax.set_xticklabels(ax.get_xticklabels(), rotation = 45)\n",
      "/gorilla1/code/neuralmonkey/neuralmonkey/classes/snippets.py:919: UserWarning: FixedFormatter should only be used together with FixedLocator\n",
      "  ax.set_xticklabels(ax.get_xticklabels(), rotation = 45)\n",
      "/gorilla1/code/neuralmonkey/neuralmonkey/classes/snippets.py:929: UserWarning: FixedFormatter should only be used together with FixedLocator\n",
      "  ax.set_xticklabels(x_labels, rotation = 45)\n"
     ]
    },
    {
     "name": "stdout",
     "output_type": "stream",
     "text": [
      "Plotting for chan:  153\n",
      "PLotting for (chan, bregion):  153 04_PMd_p\n"
     ]
    },
    {
     "name": "stderr",
     "output_type": "stream",
     "text": [
      "/gorilla1/code/neuralmonkey/neuralmonkey/classes/snippets.py:897: UserWarning: FixedFormatter should only be used together with FixedLocator\n",
      "  ax.set_xticklabels(ax.get_xticklabels(), rotation = 45)\n",
      "/gorilla1/code/neuralmonkey/neuralmonkey/classes/snippets.py:919: UserWarning: FixedFormatter should only be used together with FixedLocator\n",
      "  ax.set_xticklabels(ax.get_xticklabels(), rotation = 45)\n",
      "/gorilla1/code/neuralmonkey/neuralmonkey/classes/snippets.py:929: UserWarning: FixedFormatter should only be used together with FixedLocator\n",
      "  ax.set_xticklabels(x_labels, rotation = 45)\n"
     ]
    },
    {
     "name": "stdout",
     "output_type": "stream",
     "text": [
      "Plotting for chan:  155\n",
      "PLotting for (chan, bregion):  155 04_PMd_p\n"
     ]
    },
    {
     "name": "stderr",
     "output_type": "stream",
     "text": [
      "/gorilla1/code/neuralmonkey/neuralmonkey/classes/snippets.py:897: UserWarning: FixedFormatter should only be used together with FixedLocator\n",
      "  ax.set_xticklabels(ax.get_xticklabels(), rotation = 45)\n",
      "/gorilla1/code/neuralmonkey/neuralmonkey/classes/snippets.py:919: UserWarning: FixedFormatter should only be used together with FixedLocator\n",
      "  ax.set_xticklabels(ax.get_xticklabels(), rotation = 45)\n",
      "/gorilla1/code/neuralmonkey/neuralmonkey/classes/snippets.py:929: UserWarning: FixedFormatter should only be used together with FixedLocator\n",
      "  ax.set_xticklabels(x_labels, rotation = 45)\n"
     ]
    },
    {
     "name": "stdout",
     "output_type": "stream",
     "text": [
      "Plotting for chan:  158\n",
      "PLotting for (chan, bregion):  158 04_PMd_p\n"
     ]
    },
    {
     "name": "stderr",
     "output_type": "stream",
     "text": [
      "/gorilla1/code/neuralmonkey/neuralmonkey/classes/snippets.py:897: UserWarning: FixedFormatter should only be used together with FixedLocator\n",
      "  ax.set_xticklabels(ax.get_xticklabels(), rotation = 45)\n",
      "/gorilla1/code/neuralmonkey/neuralmonkey/classes/snippets.py:919: UserWarning: FixedFormatter should only be used together with FixedLocator\n",
      "  ax.set_xticklabels(ax.get_xticklabels(), rotation = 45)\n",
      "/gorilla1/code/neuralmonkey/neuralmonkey/classes/snippets.py:929: UserWarning: FixedFormatter should only be used together with FixedLocator\n",
      "  ax.set_xticklabels(x_labels, rotation = 45)\n"
     ]
    },
    {
     "name": "stdout",
     "output_type": "stream",
     "text": [
      "Plotting for chan:  159\n",
      "PLotting for (chan, bregion):  159 04_PMd_p\n"
     ]
    },
    {
     "name": "stderr",
     "output_type": "stream",
     "text": [
      "/gorilla1/code/neuralmonkey/neuralmonkey/classes/snippets.py:897: UserWarning: FixedFormatter should only be used together with FixedLocator\n",
      "  ax.set_xticklabels(ax.get_xticklabels(), rotation = 45)\n",
      "/gorilla1/code/neuralmonkey/neuralmonkey/classes/snippets.py:919: UserWarning: FixedFormatter should only be used together with FixedLocator\n",
      "  ax.set_xticklabels(ax.get_xticklabels(), rotation = 45)\n",
      "/gorilla1/code/neuralmonkey/neuralmonkey/classes/snippets.py:929: UserWarning: FixedFormatter should only be used together with FixedLocator\n",
      "  ax.set_xticklabels(x_labels, rotation = 45)\n"
     ]
    },
    {
     "name": "stdout",
     "output_type": "stream",
     "text": [
      "Plotting for chan:  161\n",
      "PLotting for (chan, bregion):  161 05_PMd_a\n"
     ]
    },
    {
     "name": "stderr",
     "output_type": "stream",
     "text": [
      "/gorilla1/code/neuralmonkey/neuralmonkey/classes/snippets.py:897: UserWarning: FixedFormatter should only be used together with FixedLocator\n",
      "  ax.set_xticklabels(ax.get_xticklabels(), rotation = 45)\n",
      "/gorilla1/code/neuralmonkey/neuralmonkey/classes/snippets.py:919: UserWarning: FixedFormatter should only be used together with FixedLocator\n",
      "  ax.set_xticklabels(ax.get_xticklabels(), rotation = 45)\n",
      "/gorilla1/code/neuralmonkey/neuralmonkey/classes/snippets.py:929: UserWarning: FixedFormatter should only be used together with FixedLocator\n",
      "  ax.set_xticklabels(x_labels, rotation = 45)\n"
     ]
    },
    {
     "name": "stdout",
     "output_type": "stream",
     "text": [
      "Plotting for chan:  162\n",
      "PLotting for (chan, bregion):  162 05_PMd_a\n"
     ]
    },
    {
     "name": "stderr",
     "output_type": "stream",
     "text": [
      "/gorilla1/code/neuralmonkey/neuralmonkey/classes/snippets.py:897: UserWarning: FixedFormatter should only be used together with FixedLocator\n",
      "  ax.set_xticklabels(ax.get_xticklabels(), rotation = 45)\n",
      "/gorilla1/code/neuralmonkey/neuralmonkey/classes/snippets.py:919: UserWarning: FixedFormatter should only be used together with FixedLocator\n",
      "  ax.set_xticklabels(ax.get_xticklabels(), rotation = 45)\n",
      "/gorilla1/code/neuralmonkey/neuralmonkey/classes/snippets.py:929: UserWarning: FixedFormatter should only be used together with FixedLocator\n",
      "  ax.set_xticklabels(x_labels, rotation = 45)\n"
     ]
    },
    {
     "name": "stdout",
     "output_type": "stream",
     "text": [
      "Plotting for chan:  164\n",
      "PLotting for (chan, bregion):  164 05_PMd_a\n"
     ]
    },
    {
     "name": "stderr",
     "output_type": "stream",
     "text": [
      "/gorilla1/code/neuralmonkey/neuralmonkey/classes/snippets.py:897: UserWarning: FixedFormatter should only be used together with FixedLocator\n",
      "  ax.set_xticklabels(ax.get_xticklabels(), rotation = 45)\n",
      "/gorilla1/code/neuralmonkey/neuralmonkey/classes/snippets.py:919: UserWarning: FixedFormatter should only be used together with FixedLocator\n",
      "  ax.set_xticklabels(ax.get_xticklabels(), rotation = 45)\n",
      "/gorilla1/code/neuralmonkey/neuralmonkey/classes/snippets.py:929: UserWarning: FixedFormatter should only be used together with FixedLocator\n",
      "  ax.set_xticklabels(x_labels, rotation = 45)\n"
     ]
    },
    {
     "name": "stdout",
     "output_type": "stream",
     "text": [
      "Plotting for chan:  165\n",
      "PLotting for (chan, bregion):  165 05_PMd_a\n"
     ]
    },
    {
     "name": "stderr",
     "output_type": "stream",
     "text": [
      "/gorilla1/code/neuralmonkey/neuralmonkey/classes/snippets.py:897: UserWarning: FixedFormatter should only be used together with FixedLocator\n",
      "  ax.set_xticklabels(ax.get_xticklabels(), rotation = 45)\n",
      "/gorilla1/code/neuralmonkey/neuralmonkey/classes/snippets.py:919: UserWarning: FixedFormatter should only be used together with FixedLocator\n",
      "  ax.set_xticklabels(ax.get_xticklabels(), rotation = 45)\n",
      "/gorilla1/code/neuralmonkey/neuralmonkey/classes/snippets.py:929: UserWarning: FixedFormatter should only be used together with FixedLocator\n",
      "  ax.set_xticklabels(x_labels, rotation = 45)\n"
     ]
    },
    {
     "name": "stdout",
     "output_type": "stream",
     "text": [
      "Plotting for chan:  169\n",
      "PLotting for (chan, bregion):  169 05_PMd_a\n"
     ]
    },
    {
     "name": "stderr",
     "output_type": "stream",
     "text": [
      "/gorilla1/code/neuralmonkey/neuralmonkey/classes/snippets.py:897: UserWarning: FixedFormatter should only be used together with FixedLocator\n",
      "  ax.set_xticklabels(ax.get_xticklabels(), rotation = 45)\n",
      "/gorilla1/code/neuralmonkey/neuralmonkey/classes/snippets.py:919: UserWarning: FixedFormatter should only be used together with FixedLocator\n",
      "  ax.set_xticklabels(ax.get_xticklabels(), rotation = 45)\n",
      "/gorilla1/code/neuralmonkey/neuralmonkey/classes/snippets.py:929: UserWarning: FixedFormatter should only be used together with FixedLocator\n",
      "  ax.set_xticklabels(x_labels, rotation = 45)\n"
     ]
    },
    {
     "name": "stdout",
     "output_type": "stream",
     "text": [
      "Plotting for chan:  171\n",
      "PLotting for (chan, bregion):  171 05_PMd_a\n"
     ]
    },
    {
     "name": "stderr",
     "output_type": "stream",
     "text": [
      "/gorilla1/code/neuralmonkey/neuralmonkey/classes/snippets.py:897: UserWarning: FixedFormatter should only be used together with FixedLocator\n",
      "  ax.set_xticklabels(ax.get_xticklabels(), rotation = 45)\n",
      "/gorilla1/code/neuralmonkey/neuralmonkey/classes/snippets.py:919: UserWarning: FixedFormatter should only be used together with FixedLocator\n",
      "  ax.set_xticklabels(ax.get_xticklabels(), rotation = 45)\n",
      "/gorilla1/code/neuralmonkey/neuralmonkey/classes/snippets.py:929: UserWarning: FixedFormatter should only be used together with FixedLocator\n",
      "  ax.set_xticklabels(x_labels, rotation = 45)\n"
     ]
    },
    {
     "name": "stdout",
     "output_type": "stream",
     "text": [
      "Plotting for chan:  173\n",
      "PLotting for (chan, bregion):  173 05_PMd_a\n"
     ]
    },
    {
     "name": "stderr",
     "output_type": "stream",
     "text": [
      "/gorilla1/code/neuralmonkey/neuralmonkey/classes/snippets.py:897: UserWarning: FixedFormatter should only be used together with FixedLocator\n",
      "  ax.set_xticklabels(ax.get_xticklabels(), rotation = 45)\n",
      "/gorilla1/code/neuralmonkey/neuralmonkey/classes/snippets.py:919: UserWarning: FixedFormatter should only be used together with FixedLocator\n",
      "  ax.set_xticklabels(ax.get_xticklabels(), rotation = 45)\n",
      "/gorilla1/code/neuralmonkey/neuralmonkey/classes/snippets.py:929: UserWarning: FixedFormatter should only be used together with FixedLocator\n",
      "  ax.set_xticklabels(x_labels, rotation = 45)\n"
     ]
    },
    {
     "name": "stdout",
     "output_type": "stream",
     "text": [
      "Plotting for chan:  175\n",
      "PLotting for (chan, bregion):  175 05_PMd_a\n"
     ]
    },
    {
     "name": "stderr",
     "output_type": "stream",
     "text": [
      "/gorilla1/code/neuralmonkey/neuralmonkey/classes/snippets.py:897: UserWarning: FixedFormatter should only be used together with FixedLocator\n",
      "  ax.set_xticklabels(ax.get_xticklabels(), rotation = 45)\n",
      "/gorilla1/code/neuralmonkey/neuralmonkey/classes/snippets.py:919: UserWarning: FixedFormatter should only be used together with FixedLocator\n",
      "  ax.set_xticklabels(ax.get_xticklabels(), rotation = 45)\n",
      "/gorilla1/code/neuralmonkey/neuralmonkey/classes/snippets.py:929: UserWarning: FixedFormatter should only be used together with FixedLocator\n",
      "  ax.set_xticklabels(x_labels, rotation = 45)\n"
     ]
    },
    {
     "name": "stdout",
     "output_type": "stream",
     "text": [
      "Plotting for chan:  177\n",
      "PLotting for (chan, bregion):  177 05_PMd_a\n"
     ]
    },
    {
     "name": "stderr",
     "output_type": "stream",
     "text": [
      "/gorilla1/code/neuralmonkey/neuralmonkey/classes/snippets.py:897: UserWarning: FixedFormatter should only be used together with FixedLocator\n",
      "  ax.set_xticklabels(ax.get_xticklabels(), rotation = 45)\n",
      "/gorilla1/code/neuralmonkey/neuralmonkey/classes/snippets.py:919: UserWarning: FixedFormatter should only be used together with FixedLocator\n",
      "  ax.set_xticklabels(ax.get_xticklabels(), rotation = 45)\n",
      "/gorilla1/code/neuralmonkey/neuralmonkey/classes/snippets.py:929: UserWarning: FixedFormatter should only be used together with FixedLocator\n",
      "  ax.set_xticklabels(x_labels, rotation = 45)\n"
     ]
    },
    {
     "name": "stdout",
     "output_type": "stream",
     "text": [
      "Plotting for chan:  179\n",
      "PLotting for (chan, bregion):  179 05_PMd_a\n"
     ]
    },
    {
     "name": "stderr",
     "output_type": "stream",
     "text": [
      "/gorilla1/code/neuralmonkey/neuralmonkey/classes/snippets.py:897: UserWarning: FixedFormatter should only be used together with FixedLocator\n",
      "  ax.set_xticklabels(ax.get_xticklabels(), rotation = 45)\n",
      "/gorilla1/code/neuralmonkey/neuralmonkey/classes/snippets.py:919: UserWarning: FixedFormatter should only be used together with FixedLocator\n",
      "  ax.set_xticklabels(ax.get_xticklabels(), rotation = 45)\n",
      "/gorilla1/code/neuralmonkey/neuralmonkey/classes/snippets.py:929: UserWarning: FixedFormatter should only be used together with FixedLocator\n",
      "  ax.set_xticklabels(x_labels, rotation = 45)\n"
     ]
    },
    {
     "name": "stdout",
     "output_type": "stream",
     "text": [
      "Plotting for chan:  180\n",
      "PLotting for (chan, bregion):  180 05_PMd_a\n"
     ]
    },
    {
     "name": "stderr",
     "output_type": "stream",
     "text": [
      "/gorilla1/code/neuralmonkey/neuralmonkey/classes/snippets.py:897: UserWarning: FixedFormatter should only be used together with FixedLocator\n",
      "  ax.set_xticklabels(ax.get_xticklabels(), rotation = 45)\n",
      "/gorilla1/code/neuralmonkey/neuralmonkey/classes/snippets.py:919: UserWarning: FixedFormatter should only be used together with FixedLocator\n",
      "  ax.set_xticklabels(ax.get_xticklabels(), rotation = 45)\n",
      "/gorilla1/code/neuralmonkey/neuralmonkey/classes/snippets.py:929: UserWarning: FixedFormatter should only be used together with FixedLocator\n",
      "  ax.set_xticklabels(x_labels, rotation = 45)\n"
     ]
    },
    {
     "name": "stdout",
     "output_type": "stream",
     "text": [
      "Plotting for chan:  181\n",
      "PLotting for (chan, bregion):  181 05_PMd_a\n"
     ]
    },
    {
     "name": "stderr",
     "output_type": "stream",
     "text": [
      "/gorilla1/code/neuralmonkey/neuralmonkey/classes/snippets.py:897: UserWarning: FixedFormatter should only be used together with FixedLocator\n",
      "  ax.set_xticklabels(ax.get_xticklabels(), rotation = 45)\n",
      "/gorilla1/code/neuralmonkey/neuralmonkey/classes/snippets.py:919: UserWarning: FixedFormatter should only be used together with FixedLocator\n",
      "  ax.set_xticklabels(ax.get_xticklabels(), rotation = 45)\n",
      "/gorilla1/code/neuralmonkey/neuralmonkey/classes/snippets.py:929: UserWarning: FixedFormatter should only be used together with FixedLocator\n",
      "  ax.set_xticklabels(x_labels, rotation = 45)\n"
     ]
    },
    {
     "name": "stdout",
     "output_type": "stream",
     "text": [
      "Plotting for chan:  182\n",
      "PLotting for (chan, bregion):  182 05_PMd_a\n"
     ]
    },
    {
     "name": "stderr",
     "output_type": "stream",
     "text": [
      "/gorilla1/code/neuralmonkey/neuralmonkey/classes/snippets.py:897: UserWarning: FixedFormatter should only be used together with FixedLocator\n",
      "  ax.set_xticklabels(ax.get_xticklabels(), rotation = 45)\n",
      "/gorilla1/code/neuralmonkey/neuralmonkey/classes/snippets.py:919: UserWarning: FixedFormatter should only be used together with FixedLocator\n",
      "  ax.set_xticklabels(ax.get_xticklabels(), rotation = 45)\n",
      "/gorilla1/code/neuralmonkey/neuralmonkey/classes/snippets.py:929: UserWarning: FixedFormatter should only be used together with FixedLocator\n",
      "  ax.set_xticklabels(x_labels, rotation = 45)\n"
     ]
    },
    {
     "name": "stdout",
     "output_type": "stream",
     "text": [
      "Plotting for chan:  183\n",
      "PLotting for (chan, bregion):  183 05_PMd_a\n"
     ]
    },
    {
     "name": "stderr",
     "output_type": "stream",
     "text": [
      "/gorilla1/code/neuralmonkey/neuralmonkey/classes/snippets.py:897: UserWarning: FixedFormatter should only be used together with FixedLocator\n",
      "  ax.set_xticklabels(ax.get_xticklabels(), rotation = 45)\n",
      "/gorilla1/code/neuralmonkey/neuralmonkey/classes/snippets.py:919: UserWarning: FixedFormatter should only be used together with FixedLocator\n",
      "  ax.set_xticklabels(ax.get_xticklabels(), rotation = 45)\n",
      "/gorilla1/code/neuralmonkey/neuralmonkey/classes/snippets.py:929: UserWarning: FixedFormatter should only be used together with FixedLocator\n",
      "  ax.set_xticklabels(x_labels, rotation = 45)\n"
     ]
    },
    {
     "name": "stdout",
     "output_type": "stream",
     "text": [
      "Plotting for chan:  184\n",
      "PLotting for (chan, bregion):  184 05_PMd_a\n"
     ]
    },
    {
     "name": "stderr",
     "output_type": "stream",
     "text": [
      "/gorilla1/code/neuralmonkey/neuralmonkey/classes/snippets.py:897: UserWarning: FixedFormatter should only be used together with FixedLocator\n",
      "  ax.set_xticklabels(ax.get_xticklabels(), rotation = 45)\n",
      "/gorilla1/code/neuralmonkey/neuralmonkey/classes/snippets.py:919: UserWarning: FixedFormatter should only be used together with FixedLocator\n",
      "  ax.set_xticklabels(ax.get_xticklabels(), rotation = 45)\n",
      "/gorilla1/code/neuralmonkey/neuralmonkey/classes/snippets.py:929: UserWarning: FixedFormatter should only be used together with FixedLocator\n",
      "  ax.set_xticklabels(x_labels, rotation = 45)\n"
     ]
    },
    {
     "name": "stdout",
     "output_type": "stream",
     "text": [
      "Plotting for chan:  185\n",
      "PLotting for (chan, bregion):  185 05_PMd_a\n"
     ]
    },
    {
     "name": "stderr",
     "output_type": "stream",
     "text": [
      "/gorilla1/code/neuralmonkey/neuralmonkey/classes/snippets.py:897: UserWarning: FixedFormatter should only be used together with FixedLocator\n",
      "  ax.set_xticklabels(ax.get_xticklabels(), rotation = 45)\n",
      "/gorilla1/code/neuralmonkey/neuralmonkey/classes/snippets.py:919: UserWarning: FixedFormatter should only be used together with FixedLocator\n",
      "  ax.set_xticklabels(ax.get_xticklabels(), rotation = 45)\n",
      "/gorilla1/code/neuralmonkey/neuralmonkey/classes/snippets.py:929: UserWarning: FixedFormatter should only be used together with FixedLocator\n",
      "  ax.set_xticklabels(x_labels, rotation = 45)\n"
     ]
    },
    {
     "name": "stdout",
     "output_type": "stream",
     "text": [
      "Plotting for chan:  186\n",
      "PLotting for (chan, bregion):  186 05_PMd_a\n"
     ]
    },
    {
     "name": "stderr",
     "output_type": "stream",
     "text": [
      "/gorilla1/code/neuralmonkey/neuralmonkey/classes/snippets.py:897: UserWarning: FixedFormatter should only be used together with FixedLocator\n",
      "  ax.set_xticklabels(ax.get_xticklabels(), rotation = 45)\n",
      "/gorilla1/code/neuralmonkey/neuralmonkey/classes/snippets.py:919: UserWarning: FixedFormatter should only be used together with FixedLocator\n",
      "  ax.set_xticklabels(ax.get_xticklabels(), rotation = 45)\n",
      "/gorilla1/code/neuralmonkey/neuralmonkey/classes/snippets.py:929: UserWarning: FixedFormatter should only be used together with FixedLocator\n",
      "  ax.set_xticklabels(x_labels, rotation = 45)\n"
     ]
    },
    {
     "name": "stdout",
     "output_type": "stream",
     "text": [
      "Plotting for chan:  187\n",
      "PLotting for (chan, bregion):  187 05_PMd_a\n"
     ]
    },
    {
     "name": "stderr",
     "output_type": "stream",
     "text": [
      "/gorilla1/code/neuralmonkey/neuralmonkey/classes/snippets.py:897: UserWarning: FixedFormatter should only be used together with FixedLocator\n",
      "  ax.set_xticklabels(ax.get_xticklabels(), rotation = 45)\n",
      "/gorilla1/code/neuralmonkey/neuralmonkey/classes/snippets.py:919: UserWarning: FixedFormatter should only be used together with FixedLocator\n",
      "  ax.set_xticklabels(ax.get_xticklabels(), rotation = 45)\n",
      "/gorilla1/code/neuralmonkey/neuralmonkey/classes/snippets.py:929: UserWarning: FixedFormatter should only be used together with FixedLocator\n",
      "  ax.set_xticklabels(x_labels, rotation = 45)\n"
     ]
    },
    {
     "name": "stdout",
     "output_type": "stream",
     "text": [
      "Plotting for chan:  188\n",
      "PLotting for (chan, bregion):  188 05_PMd_a\n"
     ]
    },
    {
     "name": "stderr",
     "output_type": "stream",
     "text": [
      "/gorilla1/code/neuralmonkey/neuralmonkey/classes/snippets.py:897: UserWarning: FixedFormatter should only be used together with FixedLocator\n",
      "  ax.set_xticklabels(ax.get_xticklabels(), rotation = 45)\n",
      "/gorilla1/code/neuralmonkey/neuralmonkey/classes/snippets.py:919: UserWarning: FixedFormatter should only be used together with FixedLocator\n",
      "  ax.set_xticklabels(ax.get_xticklabels(), rotation = 45)\n",
      "/gorilla1/code/neuralmonkey/neuralmonkey/classes/snippets.py:929: UserWarning: FixedFormatter should only be used together with FixedLocator\n",
      "  ax.set_xticklabels(x_labels, rotation = 45)\n"
     ]
    },
    {
     "name": "stdout",
     "output_type": "stream",
     "text": [
      "Plotting for chan:  189\n",
      "PLotting for (chan, bregion):  189 05_PMd_a\n"
     ]
    },
    {
     "name": "stderr",
     "output_type": "stream",
     "text": [
      "/gorilla1/code/neuralmonkey/neuralmonkey/classes/snippets.py:897: UserWarning: FixedFormatter should only be used together with FixedLocator\n",
      "  ax.set_xticklabels(ax.get_xticklabels(), rotation = 45)\n",
      "/gorilla1/code/neuralmonkey/neuralmonkey/classes/snippets.py:919: UserWarning: FixedFormatter should only be used together with FixedLocator\n",
      "  ax.set_xticklabels(ax.get_xticklabels(), rotation = 45)\n",
      "/gorilla1/code/neuralmonkey/neuralmonkey/classes/snippets.py:929: UserWarning: FixedFormatter should only be used together with FixedLocator\n",
      "  ax.set_xticklabels(x_labels, rotation = 45)\n"
     ]
    },
    {
     "name": "stdout",
     "output_type": "stream",
     "text": [
      "Plotting for chan:  190\n",
      "PLotting for (chan, bregion):  190 05_PMd_a\n"
     ]
    },
    {
     "name": "stderr",
     "output_type": "stream",
     "text": [
      "/gorilla1/code/neuralmonkey/neuralmonkey/classes/snippets.py:897: UserWarning: FixedFormatter should only be used together with FixedLocator\n",
      "  ax.set_xticklabels(ax.get_xticklabels(), rotation = 45)\n",
      "/gorilla1/code/neuralmonkey/neuralmonkey/classes/snippets.py:919: UserWarning: FixedFormatter should only be used together with FixedLocator\n",
      "  ax.set_xticklabels(ax.get_xticklabels(), rotation = 45)\n",
      "/gorilla1/code/neuralmonkey/neuralmonkey/classes/snippets.py:929: UserWarning: FixedFormatter should only be used together with FixedLocator\n",
      "  ax.set_xticklabels(x_labels, rotation = 45)\n"
     ]
    },
    {
     "name": "stdout",
     "output_type": "stream",
     "text": [
      "Plotting for chan:  193\n",
      "PLotting for (chan, bregion):  193 06_SMA_p\n"
     ]
    },
    {
     "name": "stderr",
     "output_type": "stream",
     "text": [
      "/gorilla1/code/neuralmonkey/neuralmonkey/classes/snippets.py:897: UserWarning: FixedFormatter should only be used together with FixedLocator\n",
      "  ax.set_xticklabels(ax.get_xticklabels(), rotation = 45)\n",
      "/gorilla1/code/neuralmonkey/neuralmonkey/classes/snippets.py:919: UserWarning: FixedFormatter should only be used together with FixedLocator\n",
      "  ax.set_xticklabels(ax.get_xticklabels(), rotation = 45)\n",
      "/gorilla1/code/neuralmonkey/neuralmonkey/classes/snippets.py:929: UserWarning: FixedFormatter should only be used together with FixedLocator\n",
      "  ax.set_xticklabels(x_labels, rotation = 45)\n"
     ]
    },
    {
     "name": "stdout",
     "output_type": "stream",
     "text": [
      "Plotting for chan:  194\n",
      "PLotting for (chan, bregion):  194 06_SMA_p\n"
     ]
    },
    {
     "name": "stderr",
     "output_type": "stream",
     "text": [
      "/gorilla1/code/neuralmonkey/neuralmonkey/classes/snippets.py:897: UserWarning: FixedFormatter should only be used together with FixedLocator\n",
      "  ax.set_xticklabels(ax.get_xticklabels(), rotation = 45)\n",
      "/gorilla1/code/neuralmonkey/neuralmonkey/classes/snippets.py:919: UserWarning: FixedFormatter should only be used together with FixedLocator\n",
      "  ax.set_xticklabels(ax.get_xticklabels(), rotation = 45)\n",
      "/gorilla1/code/neuralmonkey/neuralmonkey/classes/snippets.py:929: UserWarning: FixedFormatter should only be used together with FixedLocator\n",
      "  ax.set_xticklabels(x_labels, rotation = 45)\n"
     ]
    },
    {
     "name": "stdout",
     "output_type": "stream",
     "text": [
      "Plotting for chan:  195\n",
      "PLotting for (chan, bregion):  195 06_SMA_p\n"
     ]
    },
    {
     "name": "stderr",
     "output_type": "stream",
     "text": [
      "/gorilla1/code/neuralmonkey/neuralmonkey/classes/snippets.py:897: UserWarning: FixedFormatter should only be used together with FixedLocator\n",
      "  ax.set_xticklabels(ax.get_xticklabels(), rotation = 45)\n",
      "/gorilla1/code/neuralmonkey/neuralmonkey/classes/snippets.py:919: UserWarning: FixedFormatter should only be used together with FixedLocator\n",
      "  ax.set_xticklabels(ax.get_xticklabels(), rotation = 45)\n",
      "/gorilla1/code/neuralmonkey/neuralmonkey/classes/snippets.py:929: UserWarning: FixedFormatter should only be used together with FixedLocator\n",
      "  ax.set_xticklabels(x_labels, rotation = 45)\n"
     ]
    },
    {
     "name": "stdout",
     "output_type": "stream",
     "text": [
      "Plotting for chan:  196\n",
      "PLotting for (chan, bregion):  196 06_SMA_p\n"
     ]
    },
    {
     "name": "stderr",
     "output_type": "stream",
     "text": [
      "/gorilla1/code/neuralmonkey/neuralmonkey/classes/snippets.py:897: UserWarning: FixedFormatter should only be used together with FixedLocator\n",
      "  ax.set_xticklabels(ax.get_xticklabels(), rotation = 45)\n",
      "/gorilla1/code/neuralmonkey/neuralmonkey/classes/snippets.py:919: UserWarning: FixedFormatter should only be used together with FixedLocator\n",
      "  ax.set_xticklabels(ax.get_xticklabels(), rotation = 45)\n",
      "/gorilla1/code/neuralmonkey/neuralmonkey/classes/snippets.py:929: UserWarning: FixedFormatter should only be used together with FixedLocator\n",
      "  ax.set_xticklabels(x_labels, rotation = 45)\n"
     ]
    },
    {
     "name": "stdout",
     "output_type": "stream",
     "text": [
      "Plotting for chan:  198\n",
      "PLotting for (chan, bregion):  198 06_SMA_p\n"
     ]
    },
    {
     "name": "stderr",
     "output_type": "stream",
     "text": [
      "/gorilla1/code/neuralmonkey/neuralmonkey/classes/snippets.py:897: UserWarning: FixedFormatter should only be used together with FixedLocator\n",
      "  ax.set_xticklabels(ax.get_xticklabels(), rotation = 45)\n",
      "/gorilla1/code/neuralmonkey/neuralmonkey/classes/snippets.py:919: UserWarning: FixedFormatter should only be used together with FixedLocator\n",
      "  ax.set_xticklabels(ax.get_xticklabels(), rotation = 45)\n",
      "/gorilla1/code/neuralmonkey/neuralmonkey/classes/snippets.py:929: UserWarning: FixedFormatter should only be used together with FixedLocator\n",
      "  ax.set_xticklabels(x_labels, rotation = 45)\n"
     ]
    },
    {
     "name": "stdout",
     "output_type": "stream",
     "text": [
      "Plotting for chan:  200\n",
      "PLotting for (chan, bregion):  200 06_SMA_p\n"
     ]
    },
    {
     "name": "stderr",
     "output_type": "stream",
     "text": [
      "/gorilla1/code/neuralmonkey/neuralmonkey/classes/snippets.py:897: UserWarning: FixedFormatter should only be used together with FixedLocator\n",
      "  ax.set_xticklabels(ax.get_xticklabels(), rotation = 45)\n",
      "/gorilla1/code/neuralmonkey/neuralmonkey/classes/snippets.py:919: UserWarning: FixedFormatter should only be used together with FixedLocator\n",
      "  ax.set_xticklabels(ax.get_xticklabels(), rotation = 45)\n",
      "/gorilla1/code/neuralmonkey/neuralmonkey/classes/snippets.py:929: UserWarning: FixedFormatter should only be used together with FixedLocator\n",
      "  ax.set_xticklabels(x_labels, rotation = 45)\n"
     ]
    },
    {
     "name": "stdout",
     "output_type": "stream",
     "text": [
      "Plotting for chan:  203\n",
      "PLotting for (chan, bregion):  203 06_SMA_p\n"
     ]
    },
    {
     "name": "stderr",
     "output_type": "stream",
     "text": [
      "/gorilla1/code/neuralmonkey/neuralmonkey/classes/snippets.py:897: UserWarning: FixedFormatter should only be used together with FixedLocator\n",
      "  ax.set_xticklabels(ax.get_xticklabels(), rotation = 45)\n",
      "/gorilla1/code/neuralmonkey/neuralmonkey/classes/snippets.py:919: UserWarning: FixedFormatter should only be used together with FixedLocator\n",
      "  ax.set_xticklabels(ax.get_xticklabels(), rotation = 45)\n",
      "/gorilla1/code/neuralmonkey/neuralmonkey/classes/snippets.py:929: UserWarning: FixedFormatter should only be used together with FixedLocator\n",
      "  ax.set_xticklabels(x_labels, rotation = 45)\n"
     ]
    },
    {
     "name": "stdout",
     "output_type": "stream",
     "text": [
      "Plotting for chan:  205\n",
      "PLotting for (chan, bregion):  205 06_SMA_p\n"
     ]
    },
    {
     "name": "stderr",
     "output_type": "stream",
     "text": [
      "/gorilla1/code/neuralmonkey/neuralmonkey/classes/snippets.py:897: UserWarning: FixedFormatter should only be used together with FixedLocator\n",
      "  ax.set_xticklabels(ax.get_xticklabels(), rotation = 45)\n",
      "/gorilla1/code/neuralmonkey/neuralmonkey/classes/snippets.py:919: UserWarning: FixedFormatter should only be used together with FixedLocator\n",
      "  ax.set_xticklabels(ax.get_xticklabels(), rotation = 45)\n",
      "/gorilla1/code/neuralmonkey/neuralmonkey/classes/snippets.py:929: UserWarning: FixedFormatter should only be used together with FixedLocator\n",
      "  ax.set_xticklabels(x_labels, rotation = 45)\n"
     ]
    },
    {
     "name": "stdout",
     "output_type": "stream",
     "text": [
      "Plotting for chan:  206\n",
      "PLotting for (chan, bregion):  206 06_SMA_p\n"
     ]
    },
    {
     "name": "stderr",
     "output_type": "stream",
     "text": [
      "/gorilla1/code/neuralmonkey/neuralmonkey/classes/snippets.py:897: UserWarning: FixedFormatter should only be used together with FixedLocator\n",
      "  ax.set_xticklabels(ax.get_xticklabels(), rotation = 45)\n",
      "/gorilla1/code/neuralmonkey/neuralmonkey/classes/snippets.py:919: UserWarning: FixedFormatter should only be used together with FixedLocator\n",
      "  ax.set_xticklabels(ax.get_xticklabels(), rotation = 45)\n",
      "/gorilla1/code/neuralmonkey/neuralmonkey/classes/snippets.py:929: UserWarning: FixedFormatter should only be used together with FixedLocator\n",
      "  ax.set_xticklabels(x_labels, rotation = 45)\n"
     ]
    },
    {
     "name": "stdout",
     "output_type": "stream",
     "text": [
      "Plotting for chan:  208\n",
      "PLotting for (chan, bregion):  208 06_SMA_p\n"
     ]
    },
    {
     "name": "stderr",
     "output_type": "stream",
     "text": [
      "/gorilla1/code/neuralmonkey/neuralmonkey/classes/snippets.py:897: UserWarning: FixedFormatter should only be used together with FixedLocator\n",
      "  ax.set_xticklabels(ax.get_xticklabels(), rotation = 45)\n",
      "/gorilla1/code/neuralmonkey/neuralmonkey/classes/snippets.py:919: UserWarning: FixedFormatter should only be used together with FixedLocator\n",
      "  ax.set_xticklabels(ax.get_xticklabels(), rotation = 45)\n",
      "/gorilla1/code/neuralmonkey/neuralmonkey/classes/snippets.py:929: UserWarning: FixedFormatter should only be used together with FixedLocator\n",
      "  ax.set_xticklabels(x_labels, rotation = 45)\n"
     ]
    },
    {
     "name": "stdout",
     "output_type": "stream",
     "text": [
      "Plotting for chan:  209\n",
      "PLotting for (chan, bregion):  209 06_SMA_p\n"
     ]
    },
    {
     "name": "stderr",
     "output_type": "stream",
     "text": [
      "/gorilla1/code/neuralmonkey/neuralmonkey/classes/snippets.py:897: UserWarning: FixedFormatter should only be used together with FixedLocator\n",
      "  ax.set_xticklabels(ax.get_xticklabels(), rotation = 45)\n",
      "/gorilla1/code/neuralmonkey/neuralmonkey/classes/snippets.py:919: UserWarning: FixedFormatter should only be used together with FixedLocator\n",
      "  ax.set_xticklabels(ax.get_xticklabels(), rotation = 45)\n",
      "/gorilla1/code/neuralmonkey/neuralmonkey/classes/snippets.py:929: UserWarning: FixedFormatter should only be used together with FixedLocator\n",
      "  ax.set_xticklabels(x_labels, rotation = 45)\n"
     ]
    },
    {
     "name": "stdout",
     "output_type": "stream",
     "text": [
      "Plotting for chan:  210\n",
      "PLotting for (chan, bregion):  210 06_SMA_p\n"
     ]
    },
    {
     "name": "stderr",
     "output_type": "stream",
     "text": [
      "/gorilla1/code/neuralmonkey/neuralmonkey/classes/snippets.py:897: UserWarning: FixedFormatter should only be used together with FixedLocator\n",
      "  ax.set_xticklabels(ax.get_xticklabels(), rotation = 45)\n",
      "/gorilla1/code/neuralmonkey/neuralmonkey/classes/snippets.py:919: UserWarning: FixedFormatter should only be used together with FixedLocator\n",
      "  ax.set_xticklabels(ax.get_xticklabels(), rotation = 45)\n",
      "/gorilla1/code/neuralmonkey/neuralmonkey/classes/snippets.py:929: UserWarning: FixedFormatter should only be used together with FixedLocator\n",
      "  ax.set_xticklabels(x_labels, rotation = 45)\n"
     ]
    },
    {
     "name": "stdout",
     "output_type": "stream",
     "text": [
      "Plotting for chan:  212\n",
      "PLotting for (chan, bregion):  212 06_SMA_p\n"
     ]
    },
    {
     "name": "stderr",
     "output_type": "stream",
     "text": [
      "/gorilla1/code/neuralmonkey/neuralmonkey/classes/snippets.py:897: UserWarning: FixedFormatter should only be used together with FixedLocator\n",
      "  ax.set_xticklabels(ax.get_xticklabels(), rotation = 45)\n",
      "/gorilla1/code/neuralmonkey/neuralmonkey/classes/snippets.py:919: UserWarning: FixedFormatter should only be used together with FixedLocator\n",
      "  ax.set_xticklabels(ax.get_xticklabels(), rotation = 45)\n",
      "/gorilla1/code/neuralmonkey/neuralmonkey/classes/snippets.py:929: UserWarning: FixedFormatter should only be used together with FixedLocator\n",
      "  ax.set_xticklabels(x_labels, rotation = 45)\n"
     ]
    },
    {
     "name": "stdout",
     "output_type": "stream",
     "text": [
      "Plotting for chan:  213\n",
      "PLotting for (chan, bregion):  213 06_SMA_p\n"
     ]
    },
    {
     "name": "stderr",
     "output_type": "stream",
     "text": [
      "/gorilla1/code/neuralmonkey/neuralmonkey/classes/snippets.py:897: UserWarning: FixedFormatter should only be used together with FixedLocator\n",
      "  ax.set_xticklabels(ax.get_xticklabels(), rotation = 45)\n",
      "/gorilla1/code/neuralmonkey/neuralmonkey/classes/snippets.py:919: UserWarning: FixedFormatter should only be used together with FixedLocator\n",
      "  ax.set_xticklabels(ax.get_xticklabels(), rotation = 45)\n",
      "/gorilla1/code/neuralmonkey/neuralmonkey/classes/snippets.py:929: UserWarning: FixedFormatter should only be used together with FixedLocator\n",
      "  ax.set_xticklabels(x_labels, rotation = 45)\n"
     ]
    },
    {
     "name": "stdout",
     "output_type": "stream",
     "text": [
      "Plotting for chan:  215\n",
      "PLotting for (chan, bregion):  215 06_SMA_p\n"
     ]
    },
    {
     "name": "stderr",
     "output_type": "stream",
     "text": [
      "/gorilla1/code/neuralmonkey/neuralmonkey/classes/snippets.py:897: UserWarning: FixedFormatter should only be used together with FixedLocator\n",
      "  ax.set_xticklabels(ax.get_xticklabels(), rotation = 45)\n",
      "/gorilla1/code/neuralmonkey/neuralmonkey/classes/snippets.py:919: UserWarning: FixedFormatter should only be used together with FixedLocator\n",
      "  ax.set_xticklabels(ax.get_xticklabels(), rotation = 45)\n",
      "/gorilla1/code/neuralmonkey/neuralmonkey/classes/snippets.py:929: UserWarning: FixedFormatter should only be used together with FixedLocator\n",
      "  ax.set_xticklabels(x_labels, rotation = 45)\n"
     ]
    },
    {
     "name": "stdout",
     "output_type": "stream",
     "text": [
      "Plotting for chan:  217\n",
      "PLotting for (chan, bregion):  217 06_SMA_p\n"
     ]
    },
    {
     "name": "stderr",
     "output_type": "stream",
     "text": [
      "/gorilla1/code/neuralmonkey/neuralmonkey/classes/snippets.py:897: UserWarning: FixedFormatter should only be used together with FixedLocator\n",
      "  ax.set_xticklabels(ax.get_xticklabels(), rotation = 45)\n",
      "/gorilla1/code/neuralmonkey/neuralmonkey/classes/snippets.py:919: UserWarning: FixedFormatter should only be used together with FixedLocator\n",
      "  ax.set_xticklabels(ax.get_xticklabels(), rotation = 45)\n",
      "/gorilla1/code/neuralmonkey/neuralmonkey/classes/snippets.py:929: UserWarning: FixedFormatter should only be used together with FixedLocator\n",
      "  ax.set_xticklabels(x_labels, rotation = 45)\n"
     ]
    },
    {
     "name": "stdout",
     "output_type": "stream",
     "text": [
      "Plotting for chan:  219\n",
      "PLotting for (chan, bregion):  219 06_SMA_p\n"
     ]
    },
    {
     "name": "stderr",
     "output_type": "stream",
     "text": [
      "/gorilla1/code/neuralmonkey/neuralmonkey/classes/snippets.py:897: UserWarning: FixedFormatter should only be used together with FixedLocator\n",
      "  ax.set_xticklabels(ax.get_xticklabels(), rotation = 45)\n",
      "/gorilla1/code/neuralmonkey/neuralmonkey/classes/snippets.py:919: UserWarning: FixedFormatter should only be used together with FixedLocator\n",
      "  ax.set_xticklabels(ax.get_xticklabels(), rotation = 45)\n",
      "/gorilla1/code/neuralmonkey/neuralmonkey/classes/snippets.py:929: UserWarning: FixedFormatter should only be used together with FixedLocator\n",
      "  ax.set_xticklabels(x_labels, rotation = 45)\n"
     ]
    },
    {
     "name": "stdout",
     "output_type": "stream",
     "text": [
      "Plotting for chan:  220\n",
      "PLotting for (chan, bregion):  220 06_SMA_p\n"
     ]
    },
    {
     "name": "stderr",
     "output_type": "stream",
     "text": [
      "/gorilla1/code/neuralmonkey/neuralmonkey/classes/snippets.py:897: UserWarning: FixedFormatter should only be used together with FixedLocator\n",
      "  ax.set_xticklabels(ax.get_xticklabels(), rotation = 45)\n",
      "/gorilla1/code/neuralmonkey/neuralmonkey/classes/snippets.py:919: UserWarning: FixedFormatter should only be used together with FixedLocator\n",
      "  ax.set_xticklabels(ax.get_xticklabels(), rotation = 45)\n",
      "/gorilla1/code/neuralmonkey/neuralmonkey/classes/snippets.py:929: UserWarning: FixedFormatter should only be used together with FixedLocator\n",
      "  ax.set_xticklabels(x_labels, rotation = 45)\n"
     ]
    },
    {
     "name": "stdout",
     "output_type": "stream",
     "text": [
      "Plotting for chan:  221\n",
      "PLotting for (chan, bregion):  221 06_SMA_p\n"
     ]
    },
    {
     "name": "stderr",
     "output_type": "stream",
     "text": [
      "/gorilla1/code/neuralmonkey/neuralmonkey/classes/snippets.py:897: UserWarning: FixedFormatter should only be used together with FixedLocator\n",
      "  ax.set_xticklabels(ax.get_xticklabels(), rotation = 45)\n",
      "/gorilla1/code/neuralmonkey/neuralmonkey/classes/snippets.py:919: UserWarning: FixedFormatter should only be used together with FixedLocator\n",
      "  ax.set_xticklabels(ax.get_xticklabels(), rotation = 45)\n",
      "/gorilla1/code/neuralmonkey/neuralmonkey/classes/snippets.py:929: UserWarning: FixedFormatter should only be used together with FixedLocator\n",
      "  ax.set_xticklabels(x_labels, rotation = 45)\n"
     ]
    },
    {
     "name": "stdout",
     "output_type": "stream",
     "text": [
      "Plotting for chan:  223\n",
      "PLotting for (chan, bregion):  223 06_SMA_p\n"
     ]
    },
    {
     "name": "stderr",
     "output_type": "stream",
     "text": [
      "/gorilla1/code/neuralmonkey/neuralmonkey/classes/snippets.py:897: UserWarning: FixedFormatter should only be used together with FixedLocator\n",
      "  ax.set_xticklabels(ax.get_xticklabels(), rotation = 45)\n",
      "/gorilla1/code/neuralmonkey/neuralmonkey/classes/snippets.py:919: UserWarning: FixedFormatter should only be used together with FixedLocator\n",
      "  ax.set_xticklabels(ax.get_xticklabels(), rotation = 45)\n",
      "/gorilla1/code/neuralmonkey/neuralmonkey/classes/snippets.py:929: UserWarning: FixedFormatter should only be used together with FixedLocator\n",
      "  ax.set_xticklabels(x_labels, rotation = 45)\n"
     ]
    },
    {
     "name": "stdout",
     "output_type": "stream",
     "text": [
      "Plotting for chan:  224\n",
      "PLotting for (chan, bregion):  224 06_SMA_p\n"
     ]
    },
    {
     "name": "stderr",
     "output_type": "stream",
     "text": [
      "/gorilla1/code/neuralmonkey/neuralmonkey/classes/snippets.py:897: UserWarning: FixedFormatter should only be used together with FixedLocator\n",
      "  ax.set_xticklabels(ax.get_xticklabels(), rotation = 45)\n",
      "/gorilla1/code/neuralmonkey/neuralmonkey/classes/snippets.py:919: UserWarning: FixedFormatter should only be used together with FixedLocator\n",
      "  ax.set_xticklabels(ax.get_xticklabels(), rotation = 45)\n",
      "/gorilla1/code/neuralmonkey/neuralmonkey/classes/snippets.py:929: UserWarning: FixedFormatter should only be used together with FixedLocator\n",
      "  ax.set_xticklabels(x_labels, rotation = 45)\n"
     ]
    },
    {
     "name": "stdout",
     "output_type": "stream",
     "text": [
      "Plotting for chan:  227\n",
      "PLotting for (chan, bregion):  227 07_SMA_a\n"
     ]
    },
    {
     "name": "stderr",
     "output_type": "stream",
     "text": [
      "/gorilla1/code/neuralmonkey/neuralmonkey/classes/snippets.py:897: UserWarning: FixedFormatter should only be used together with FixedLocator\n",
      "  ax.set_xticklabels(ax.get_xticklabels(), rotation = 45)\n",
      "/gorilla1/code/neuralmonkey/neuralmonkey/classes/snippets.py:919: UserWarning: FixedFormatter should only be used together with FixedLocator\n",
      "  ax.set_xticklabels(ax.get_xticklabels(), rotation = 45)\n",
      "/gorilla1/code/neuralmonkey/neuralmonkey/classes/snippets.py:929: UserWarning: FixedFormatter should only be used together with FixedLocator\n",
      "  ax.set_xticklabels(x_labels, rotation = 45)\n"
     ]
    },
    {
     "name": "stdout",
     "output_type": "stream",
     "text": [
      "Plotting for chan:  231\n",
      "PLotting for (chan, bregion):  231 07_SMA_a\n"
     ]
    },
    {
     "name": "stderr",
     "output_type": "stream",
     "text": [
      "/gorilla1/code/neuralmonkey/neuralmonkey/classes/snippets.py:897: UserWarning: FixedFormatter should only be used together with FixedLocator\n",
      "  ax.set_xticklabels(ax.get_xticklabels(), rotation = 45)\n",
      "/gorilla1/code/neuralmonkey/neuralmonkey/classes/snippets.py:919: UserWarning: FixedFormatter should only be used together with FixedLocator\n",
      "  ax.set_xticklabels(ax.get_xticklabels(), rotation = 45)\n",
      "/gorilla1/code/neuralmonkey/neuralmonkey/classes/snippets.py:929: UserWarning: FixedFormatter should only be used together with FixedLocator\n",
      "  ax.set_xticklabels(x_labels, rotation = 45)\n"
     ]
    },
    {
     "name": "stdout",
     "output_type": "stream",
     "text": [
      "Plotting for chan:  232\n",
      "PLotting for (chan, bregion):  232 07_SMA_a\n"
     ]
    },
    {
     "name": "stderr",
     "output_type": "stream",
     "text": [
      "/gorilla1/code/neuralmonkey/neuralmonkey/classes/snippets.py:897: UserWarning: FixedFormatter should only be used together with FixedLocator\n",
      "  ax.set_xticklabels(ax.get_xticklabels(), rotation = 45)\n",
      "/gorilla1/code/neuralmonkey/neuralmonkey/classes/snippets.py:919: UserWarning: FixedFormatter should only be used together with FixedLocator\n",
      "  ax.set_xticklabels(ax.get_xticklabels(), rotation = 45)\n",
      "/gorilla1/code/neuralmonkey/neuralmonkey/classes/snippets.py:929: UserWarning: FixedFormatter should only be used together with FixedLocator\n",
      "  ax.set_xticklabels(x_labels, rotation = 45)\n"
     ]
    },
    {
     "name": "stdout",
     "output_type": "stream",
     "text": [
      "Plotting for chan:  237\n",
      "PLotting for (chan, bregion):  237 07_SMA_a\n"
     ]
    },
    {
     "name": "stderr",
     "output_type": "stream",
     "text": [
      "/gorilla1/code/neuralmonkey/neuralmonkey/classes/snippets.py:897: UserWarning: FixedFormatter should only be used together with FixedLocator\n",
      "  ax.set_xticklabels(ax.get_xticklabels(), rotation = 45)\n",
      "/gorilla1/code/neuralmonkey/neuralmonkey/classes/snippets.py:919: UserWarning: FixedFormatter should only be used together with FixedLocator\n",
      "  ax.set_xticklabels(ax.get_xticklabels(), rotation = 45)\n",
      "/gorilla1/code/neuralmonkey/neuralmonkey/classes/snippets.py:929: UserWarning: FixedFormatter should only be used together with FixedLocator\n",
      "  ax.set_xticklabels(x_labels, rotation = 45)\n"
     ]
    },
    {
     "name": "stdout",
     "output_type": "stream",
     "text": [
      "Plotting for chan:  239\n",
      "PLotting for (chan, bregion):  239 07_SMA_a\n"
     ]
    },
    {
     "name": "stderr",
     "output_type": "stream",
     "text": [
      "/gorilla1/code/neuralmonkey/neuralmonkey/classes/snippets.py:897: UserWarning: FixedFormatter should only be used together with FixedLocator\n",
      "  ax.set_xticklabels(ax.get_xticklabels(), rotation = 45)\n",
      "/gorilla1/code/neuralmonkey/neuralmonkey/classes/snippets.py:919: UserWarning: FixedFormatter should only be used together with FixedLocator\n",
      "  ax.set_xticklabels(ax.get_xticklabels(), rotation = 45)\n",
      "/gorilla1/code/neuralmonkey/neuralmonkey/classes/snippets.py:929: UserWarning: FixedFormatter should only be used together with FixedLocator\n",
      "  ax.set_xticklabels(x_labels, rotation = 45)\n"
     ]
    },
    {
     "name": "stdout",
     "output_type": "stream",
     "text": [
      "Plotting for chan:  240\n",
      "PLotting for (chan, bregion):  240 07_SMA_a\n"
     ]
    },
    {
     "name": "stderr",
     "output_type": "stream",
     "text": [
      "/gorilla1/code/neuralmonkey/neuralmonkey/classes/snippets.py:897: UserWarning: FixedFormatter should only be used together with FixedLocator\n",
      "  ax.set_xticklabels(ax.get_xticklabels(), rotation = 45)\n",
      "/gorilla1/code/neuralmonkey/neuralmonkey/classes/snippets.py:919: UserWarning: FixedFormatter should only be used together with FixedLocator\n",
      "  ax.set_xticklabels(ax.get_xticklabels(), rotation = 45)\n",
      "/gorilla1/code/neuralmonkey/neuralmonkey/classes/snippets.py:929: UserWarning: FixedFormatter should only be used together with FixedLocator\n",
      "  ax.set_xticklabels(x_labels, rotation = 45)\n"
     ]
    },
    {
     "name": "stdout",
     "output_type": "stream",
     "text": [
      "Plotting for chan:  241\n",
      "PLotting for (chan, bregion):  241 07_SMA_a\n"
     ]
    },
    {
     "name": "stderr",
     "output_type": "stream",
     "text": [
      "/gorilla1/code/neuralmonkey/neuralmonkey/classes/snippets.py:897: UserWarning: FixedFormatter should only be used together with FixedLocator\n",
      "  ax.set_xticklabels(ax.get_xticklabels(), rotation = 45)\n",
      "/gorilla1/code/neuralmonkey/neuralmonkey/classes/snippets.py:919: UserWarning: FixedFormatter should only be used together with FixedLocator\n",
      "  ax.set_xticklabels(ax.get_xticklabels(), rotation = 45)\n",
      "/gorilla1/code/neuralmonkey/neuralmonkey/classes/snippets.py:929: UserWarning: FixedFormatter should only be used together with FixedLocator\n",
      "  ax.set_xticklabels(x_labels, rotation = 45)\n"
     ]
    },
    {
     "name": "stdout",
     "output_type": "stream",
     "text": [
      "Plotting for chan:  242\n",
      "PLotting for (chan, bregion):  242 07_SMA_a\n"
     ]
    },
    {
     "name": "stderr",
     "output_type": "stream",
     "text": [
      "/gorilla1/code/neuralmonkey/neuralmonkey/classes/snippets.py:897: UserWarning: FixedFormatter should only be used together with FixedLocator\n",
      "  ax.set_xticklabels(ax.get_xticklabels(), rotation = 45)\n",
      "/gorilla1/code/neuralmonkey/neuralmonkey/classes/snippets.py:919: UserWarning: FixedFormatter should only be used together with FixedLocator\n",
      "  ax.set_xticklabels(ax.get_xticklabels(), rotation = 45)\n",
      "/gorilla1/code/neuralmonkey/neuralmonkey/classes/snippets.py:929: UserWarning: FixedFormatter should only be used together with FixedLocator\n",
      "  ax.set_xticklabels(x_labels, rotation = 45)\n"
     ]
    },
    {
     "name": "stdout",
     "output_type": "stream",
     "text": [
      "Plotting for chan:  243\n",
      "PLotting for (chan, bregion):  243 07_SMA_a\n"
     ]
    },
    {
     "name": "stderr",
     "output_type": "stream",
     "text": [
      "/gorilla1/code/neuralmonkey/neuralmonkey/classes/snippets.py:897: UserWarning: FixedFormatter should only be used together with FixedLocator\n",
      "  ax.set_xticklabels(ax.get_xticklabels(), rotation = 45)\n",
      "/gorilla1/code/neuralmonkey/neuralmonkey/classes/snippets.py:919: UserWarning: FixedFormatter should only be used together with FixedLocator\n",
      "  ax.set_xticklabels(ax.get_xticklabels(), rotation = 45)\n",
      "/gorilla1/code/neuralmonkey/neuralmonkey/classes/snippets.py:929: UserWarning: FixedFormatter should only be used together with FixedLocator\n",
      "  ax.set_xticklabels(x_labels, rotation = 45)\n"
     ]
    },
    {
     "name": "stdout",
     "output_type": "stream",
     "text": [
      "Plotting for chan:  244\n",
      "PLotting for (chan, bregion):  244 07_SMA_a\n"
     ]
    },
    {
     "name": "stderr",
     "output_type": "stream",
     "text": [
      "/gorilla1/code/neuralmonkey/neuralmonkey/classes/snippets.py:897: UserWarning: FixedFormatter should only be used together with FixedLocator\n",
      "  ax.set_xticklabels(ax.get_xticklabels(), rotation = 45)\n",
      "/gorilla1/code/neuralmonkey/neuralmonkey/classes/snippets.py:919: UserWarning: FixedFormatter should only be used together with FixedLocator\n",
      "  ax.set_xticklabels(ax.get_xticklabels(), rotation = 45)\n",
      "/gorilla1/code/neuralmonkey/neuralmonkey/classes/snippets.py:929: UserWarning: FixedFormatter should only be used together with FixedLocator\n",
      "  ax.set_xticklabels(x_labels, rotation = 45)\n"
     ]
    },
    {
     "name": "stdout",
     "output_type": "stream",
     "text": [
      "Plotting for chan:  247\n",
      "PLotting for (chan, bregion):  247 07_SMA_a\n"
     ]
    },
    {
     "name": "stderr",
     "output_type": "stream",
     "text": [
      "/gorilla1/code/neuralmonkey/neuralmonkey/classes/snippets.py:897: UserWarning: FixedFormatter should only be used together with FixedLocator\n",
      "  ax.set_xticklabels(ax.get_xticklabels(), rotation = 45)\n",
      "/gorilla1/code/neuralmonkey/neuralmonkey/classes/snippets.py:919: UserWarning: FixedFormatter should only be used together with FixedLocator\n",
      "  ax.set_xticklabels(ax.get_xticklabels(), rotation = 45)\n",
      "/gorilla1/code/neuralmonkey/neuralmonkey/classes/snippets.py:929: UserWarning: FixedFormatter should only be used together with FixedLocator\n",
      "  ax.set_xticklabels(x_labels, rotation = 45)\n"
     ]
    },
    {
     "name": "stdout",
     "output_type": "stream",
     "text": [
      "Plotting for chan:  248\n",
      "PLotting for (chan, bregion):  248 07_SMA_a\n"
     ]
    },
    {
     "name": "stderr",
     "output_type": "stream",
     "text": [
      "/gorilla1/code/neuralmonkey/neuralmonkey/classes/snippets.py:897: UserWarning: FixedFormatter should only be used together with FixedLocator\n",
      "  ax.set_xticklabels(ax.get_xticklabels(), rotation = 45)\n",
      "/gorilla1/code/neuralmonkey/neuralmonkey/classes/snippets.py:919: UserWarning: FixedFormatter should only be used together with FixedLocator\n",
      "  ax.set_xticklabels(ax.get_xticklabels(), rotation = 45)\n",
      "/gorilla1/code/neuralmonkey/neuralmonkey/classes/snippets.py:929: UserWarning: FixedFormatter should only be used together with FixedLocator\n",
      "  ax.set_xticklabels(x_labels, rotation = 45)\n"
     ]
    },
    {
     "name": "stdout",
     "output_type": "stream",
     "text": [
      "Plotting for chan:  249\n",
      "PLotting for (chan, bregion):  249 07_SMA_a\n"
     ]
    },
    {
     "name": "stderr",
     "output_type": "stream",
     "text": [
      "/gorilla1/code/neuralmonkey/neuralmonkey/classes/snippets.py:897: UserWarning: FixedFormatter should only be used together with FixedLocator\n",
      "  ax.set_xticklabels(ax.get_xticklabels(), rotation = 45)\n",
      "/gorilla1/code/neuralmonkey/neuralmonkey/classes/snippets.py:919: UserWarning: FixedFormatter should only be used together with FixedLocator\n",
      "  ax.set_xticklabels(ax.get_xticklabels(), rotation = 45)\n",
      "/gorilla1/code/neuralmonkey/neuralmonkey/classes/snippets.py:929: UserWarning: FixedFormatter should only be used together with FixedLocator\n",
      "  ax.set_xticklabels(x_labels, rotation = 45)\n"
     ]
    },
    {
     "name": "stdout",
     "output_type": "stream",
     "text": [
      "Plotting for chan:  250\n",
      "PLotting for (chan, bregion):  250 07_SMA_a\n"
     ]
    },
    {
     "name": "stderr",
     "output_type": "stream",
     "text": [
      "/gorilla1/code/neuralmonkey/neuralmonkey/classes/snippets.py:897: UserWarning: FixedFormatter should only be used together with FixedLocator\n",
      "  ax.set_xticklabels(ax.get_xticklabels(), rotation = 45)\n",
      "/gorilla1/code/neuralmonkey/neuralmonkey/classes/snippets.py:919: UserWarning: FixedFormatter should only be used together with FixedLocator\n",
      "  ax.set_xticklabels(ax.get_xticklabels(), rotation = 45)\n",
      "/gorilla1/code/neuralmonkey/neuralmonkey/classes/snippets.py:929: UserWarning: FixedFormatter should only be used together with FixedLocator\n",
      "  ax.set_xticklabels(x_labels, rotation = 45)\n"
     ]
    },
    {
     "name": "stdout",
     "output_type": "stream",
     "text": [
      "Plotting for chan:  252\n",
      "PLotting for (chan, bregion):  252 07_SMA_a\n"
     ]
    },
    {
     "name": "stderr",
     "output_type": "stream",
     "text": [
      "/gorilla1/code/neuralmonkey/neuralmonkey/classes/snippets.py:897: UserWarning: FixedFormatter should only be used together with FixedLocator\n",
      "  ax.set_xticklabels(ax.get_xticklabels(), rotation = 45)\n",
      "/gorilla1/code/neuralmonkey/neuralmonkey/classes/snippets.py:919: UserWarning: FixedFormatter should only be used together with FixedLocator\n",
      "  ax.set_xticklabels(ax.get_xticklabels(), rotation = 45)\n",
      "/gorilla1/code/neuralmonkey/neuralmonkey/classes/snippets.py:929: UserWarning: FixedFormatter should only be used together with FixedLocator\n",
      "  ax.set_xticklabels(x_labels, rotation = 45)\n"
     ]
    },
    {
     "name": "stdout",
     "output_type": "stream",
     "text": [
      "Plotting for chan:  253\n",
      "PLotting for (chan, bregion):  253 07_SMA_a\n"
     ]
    },
    {
     "name": "stderr",
     "output_type": "stream",
     "text": [
      "/gorilla1/code/neuralmonkey/neuralmonkey/classes/snippets.py:897: UserWarning: FixedFormatter should only be used together with FixedLocator\n",
      "  ax.set_xticklabels(ax.get_xticklabels(), rotation = 45)\n",
      "/gorilla1/code/neuralmonkey/neuralmonkey/classes/snippets.py:919: UserWarning: FixedFormatter should only be used together with FixedLocator\n",
      "  ax.set_xticklabels(ax.get_xticklabels(), rotation = 45)\n",
      "/gorilla1/code/neuralmonkey/neuralmonkey/classes/snippets.py:929: UserWarning: FixedFormatter should only be used together with FixedLocator\n",
      "  ax.set_xticklabels(x_labels, rotation = 45)\n"
     ]
    },
    {
     "name": "stdout",
     "output_type": "stream",
     "text": [
      "Plotting for chan:  255\n",
      "PLotting for (chan, bregion):  255 07_SMA_a\n"
     ]
    },
    {
     "name": "stderr",
     "output_type": "stream",
     "text": [
      "/gorilla1/code/neuralmonkey/neuralmonkey/classes/snippets.py:897: UserWarning: FixedFormatter should only be used together with FixedLocator\n",
      "  ax.set_xticklabels(ax.get_xticklabels(), rotation = 45)\n",
      "/gorilla1/code/neuralmonkey/neuralmonkey/classes/snippets.py:919: UserWarning: FixedFormatter should only be used together with FixedLocator\n",
      "  ax.set_xticklabels(ax.get_xticklabels(), rotation = 45)\n",
      "/gorilla1/code/neuralmonkey/neuralmonkey/classes/snippets.py:929: UserWarning: FixedFormatter should only be used together with FixedLocator\n",
      "  ax.set_xticklabels(x_labels, rotation = 45)\n"
     ]
    },
    {
     "name": "stdout",
     "output_type": "stream",
     "text": [
      "Plotting for chan:  256\n",
      "PLotting for (chan, bregion):  256 07_SMA_a\n"
     ]
    },
    {
     "name": "stderr",
     "output_type": "stream",
     "text": [
      "/gorilla1/code/neuralmonkey/neuralmonkey/classes/snippets.py:897: UserWarning: FixedFormatter should only be used together with FixedLocator\n",
      "  ax.set_xticklabels(ax.get_xticklabels(), rotation = 45)\n",
      "/gorilla1/code/neuralmonkey/neuralmonkey/classes/snippets.py:919: UserWarning: FixedFormatter should only be used together with FixedLocator\n",
      "  ax.set_xticklabels(ax.get_xticklabels(), rotation = 45)\n",
      "/gorilla1/code/neuralmonkey/neuralmonkey/classes/snippets.py:929: UserWarning: FixedFormatter should only be used together with FixedLocator\n",
      "  ax.set_xticklabels(x_labels, rotation = 45)\n"
     ]
    },
    {
     "name": "stdout",
     "output_type": "stream",
     "text": [
      "Plotting for chan:  257\n",
      "PLotting for (chan, bregion):  257 08_dlPFC_p\n"
     ]
    },
    {
     "name": "stderr",
     "output_type": "stream",
     "text": [
      "/gorilla1/code/neuralmonkey/neuralmonkey/classes/snippets.py:897: UserWarning: FixedFormatter should only be used together with FixedLocator\n",
      "  ax.set_xticklabels(ax.get_xticklabels(), rotation = 45)\n",
      "/gorilla1/code/neuralmonkey/neuralmonkey/classes/snippets.py:919: UserWarning: FixedFormatter should only be used together with FixedLocator\n",
      "  ax.set_xticklabels(ax.get_xticklabels(), rotation = 45)\n",
      "/gorilla1/code/neuralmonkey/neuralmonkey/classes/snippets.py:929: UserWarning: FixedFormatter should only be used together with FixedLocator\n",
      "  ax.set_xticklabels(x_labels, rotation = 45)\n"
     ]
    },
    {
     "name": "stdout",
     "output_type": "stream",
     "text": [
      "Plotting for chan:  258\n",
      "PLotting for (chan, bregion):  258 08_dlPFC_p\n"
     ]
    },
    {
     "name": "stderr",
     "output_type": "stream",
     "text": [
      "/gorilla1/code/neuralmonkey/neuralmonkey/classes/snippets.py:897: UserWarning: FixedFormatter should only be used together with FixedLocator\n",
      "  ax.set_xticklabels(ax.get_xticklabels(), rotation = 45)\n",
      "/gorilla1/code/neuralmonkey/neuralmonkey/classes/snippets.py:919: UserWarning: FixedFormatter should only be used together with FixedLocator\n",
      "  ax.set_xticklabels(ax.get_xticklabels(), rotation = 45)\n",
      "/gorilla1/code/neuralmonkey/neuralmonkey/classes/snippets.py:929: UserWarning: FixedFormatter should only be used together with FixedLocator\n",
      "  ax.set_xticklabels(x_labels, rotation = 45)\n"
     ]
    },
    {
     "name": "stdout",
     "output_type": "stream",
     "text": [
      "Plotting for chan:  259\n",
      "PLotting for (chan, bregion):  259 08_dlPFC_p\n"
     ]
    },
    {
     "name": "stderr",
     "output_type": "stream",
     "text": [
      "/gorilla1/code/neuralmonkey/neuralmonkey/classes/snippets.py:897: UserWarning: FixedFormatter should only be used together with FixedLocator\n",
      "  ax.set_xticklabels(ax.get_xticklabels(), rotation = 45)\n",
      "/gorilla1/code/neuralmonkey/neuralmonkey/classes/snippets.py:919: UserWarning: FixedFormatter should only be used together with FixedLocator\n",
      "  ax.set_xticklabels(ax.get_xticklabels(), rotation = 45)\n",
      "/gorilla1/code/neuralmonkey/neuralmonkey/classes/snippets.py:929: UserWarning: FixedFormatter should only be used together with FixedLocator\n",
      "  ax.set_xticklabels(x_labels, rotation = 45)\n"
     ]
    },
    {
     "name": "stdout",
     "output_type": "stream",
     "text": [
      "Plotting for chan:  260\n",
      "PLotting for (chan, bregion):  260 08_dlPFC_p\n"
     ]
    },
    {
     "name": "stderr",
     "output_type": "stream",
     "text": [
      "/gorilla1/code/neuralmonkey/neuralmonkey/classes/snippets.py:897: UserWarning: FixedFormatter should only be used together with FixedLocator\n",
      "  ax.set_xticklabels(ax.get_xticklabels(), rotation = 45)\n",
      "/gorilla1/code/neuralmonkey/neuralmonkey/classes/snippets.py:919: UserWarning: FixedFormatter should only be used together with FixedLocator\n",
      "  ax.set_xticklabels(ax.get_xticklabels(), rotation = 45)\n",
      "/gorilla1/code/neuralmonkey/neuralmonkey/classes/snippets.py:929: UserWarning: FixedFormatter should only be used together with FixedLocator\n",
      "  ax.set_xticklabels(x_labels, rotation = 45)\n"
     ]
    },
    {
     "name": "stdout",
     "output_type": "stream",
     "text": [
      "Plotting for chan:  262\n",
      "PLotting for (chan, bregion):  262 08_dlPFC_p\n"
     ]
    },
    {
     "name": "stderr",
     "output_type": "stream",
     "text": [
      "/gorilla1/code/neuralmonkey/neuralmonkey/classes/snippets.py:897: UserWarning: FixedFormatter should only be used together with FixedLocator\n",
      "  ax.set_xticklabels(ax.get_xticklabels(), rotation = 45)\n",
      "/gorilla1/code/neuralmonkey/neuralmonkey/classes/snippets.py:919: UserWarning: FixedFormatter should only be used together with FixedLocator\n",
      "  ax.set_xticklabels(ax.get_xticklabels(), rotation = 45)\n",
      "/gorilla1/code/neuralmonkey/neuralmonkey/classes/snippets.py:929: UserWarning: FixedFormatter should only be used together with FixedLocator\n",
      "  ax.set_xticklabels(x_labels, rotation = 45)\n"
     ]
    },
    {
     "name": "stdout",
     "output_type": "stream",
     "text": [
      "Plotting for chan:  263\n",
      "PLotting for (chan, bregion):  263 08_dlPFC_p\n"
     ]
    },
    {
     "name": "stderr",
     "output_type": "stream",
     "text": [
      "/gorilla1/code/neuralmonkey/neuralmonkey/classes/snippets.py:897: UserWarning: FixedFormatter should only be used together with FixedLocator\n",
      "  ax.set_xticklabels(ax.get_xticklabels(), rotation = 45)\n",
      "/gorilla1/code/neuralmonkey/neuralmonkey/classes/snippets.py:919: UserWarning: FixedFormatter should only be used together with FixedLocator\n",
      "  ax.set_xticklabels(ax.get_xticklabels(), rotation = 45)\n",
      "/gorilla1/code/neuralmonkey/neuralmonkey/classes/snippets.py:929: UserWarning: FixedFormatter should only be used together with FixedLocator\n",
      "  ax.set_xticklabels(x_labels, rotation = 45)\n"
     ]
    },
    {
     "name": "stdout",
     "output_type": "stream",
     "text": [
      "Plotting for chan:  264\n",
      "PLotting for (chan, bregion):  264 08_dlPFC_p\n"
     ]
    },
    {
     "name": "stderr",
     "output_type": "stream",
     "text": [
      "/gorilla1/code/neuralmonkey/neuralmonkey/classes/snippets.py:897: UserWarning: FixedFormatter should only be used together with FixedLocator\n",
      "  ax.set_xticklabels(ax.get_xticklabels(), rotation = 45)\n",
      "/gorilla1/code/neuralmonkey/neuralmonkey/classes/snippets.py:919: UserWarning: FixedFormatter should only be used together with FixedLocator\n",
      "  ax.set_xticklabels(ax.get_xticklabels(), rotation = 45)\n",
      "/gorilla1/code/neuralmonkey/neuralmonkey/classes/snippets.py:929: UserWarning: FixedFormatter should only be used together with FixedLocator\n",
      "  ax.set_xticklabels(x_labels, rotation = 45)\n"
     ]
    },
    {
     "name": "stdout",
     "output_type": "stream",
     "text": [
      "Plotting for chan:  265\n",
      "PLotting for (chan, bregion):  265 08_dlPFC_p\n"
     ]
    },
    {
     "name": "stderr",
     "output_type": "stream",
     "text": [
      "/gorilla1/code/neuralmonkey/neuralmonkey/classes/snippets.py:897: UserWarning: FixedFormatter should only be used together with FixedLocator\n",
      "  ax.set_xticklabels(ax.get_xticklabels(), rotation = 45)\n",
      "/gorilla1/code/neuralmonkey/neuralmonkey/classes/snippets.py:919: UserWarning: FixedFormatter should only be used together with FixedLocator\n",
      "  ax.set_xticklabels(ax.get_xticklabels(), rotation = 45)\n",
      "/gorilla1/code/neuralmonkey/neuralmonkey/classes/snippets.py:929: UserWarning: FixedFormatter should only be used together with FixedLocator\n",
      "  ax.set_xticklabels(x_labels, rotation = 45)\n"
     ]
    },
    {
     "name": "stdout",
     "output_type": "stream",
     "text": [
      "Plotting for chan:  267\n",
      "PLotting for (chan, bregion):  267 08_dlPFC_p\n"
     ]
    },
    {
     "name": "stderr",
     "output_type": "stream",
     "text": [
      "/gorilla1/code/neuralmonkey/neuralmonkey/classes/snippets.py:897: UserWarning: FixedFormatter should only be used together with FixedLocator\n",
      "  ax.set_xticklabels(ax.get_xticklabels(), rotation = 45)\n",
      "/gorilla1/code/neuralmonkey/neuralmonkey/classes/snippets.py:919: UserWarning: FixedFormatter should only be used together with FixedLocator\n",
      "  ax.set_xticklabels(ax.get_xticklabels(), rotation = 45)\n",
      "/gorilla1/code/neuralmonkey/neuralmonkey/classes/snippets.py:929: UserWarning: FixedFormatter should only be used together with FixedLocator\n",
      "  ax.set_xticklabels(x_labels, rotation = 45)\n"
     ]
    },
    {
     "name": "stdout",
     "output_type": "stream",
     "text": [
      "Plotting for chan:  268\n",
      "PLotting for (chan, bregion):  268 08_dlPFC_p\n"
     ]
    },
    {
     "name": "stderr",
     "output_type": "stream",
     "text": [
      "/gorilla1/code/neuralmonkey/neuralmonkey/classes/snippets.py:897: UserWarning: FixedFormatter should only be used together with FixedLocator\n",
      "  ax.set_xticklabels(ax.get_xticklabels(), rotation = 45)\n",
      "/gorilla1/code/neuralmonkey/neuralmonkey/classes/snippets.py:919: UserWarning: FixedFormatter should only be used together with FixedLocator\n",
      "  ax.set_xticklabels(ax.get_xticklabels(), rotation = 45)\n",
      "/gorilla1/code/neuralmonkey/neuralmonkey/classes/snippets.py:929: UserWarning: FixedFormatter should only be used together with FixedLocator\n",
      "  ax.set_xticklabels(x_labels, rotation = 45)\n"
     ]
    },
    {
     "name": "stdout",
     "output_type": "stream",
     "text": [
      "Plotting for chan:  269\n",
      "PLotting for (chan, bregion):  269 08_dlPFC_p\n"
     ]
    },
    {
     "name": "stderr",
     "output_type": "stream",
     "text": [
      "/gorilla1/code/neuralmonkey/neuralmonkey/classes/snippets.py:897: UserWarning: FixedFormatter should only be used together with FixedLocator\n",
      "  ax.set_xticklabels(ax.get_xticklabels(), rotation = 45)\n",
      "/gorilla1/code/neuralmonkey/neuralmonkey/classes/snippets.py:919: UserWarning: FixedFormatter should only be used together with FixedLocator\n",
      "  ax.set_xticklabels(ax.get_xticklabels(), rotation = 45)\n",
      "/gorilla1/code/neuralmonkey/neuralmonkey/classes/snippets.py:929: UserWarning: FixedFormatter should only be used together with FixedLocator\n",
      "  ax.set_xticklabels(x_labels, rotation = 45)\n"
     ]
    },
    {
     "name": "stdout",
     "output_type": "stream",
     "text": [
      "Plotting for chan:  270\n",
      "PLotting for (chan, bregion):  270 08_dlPFC_p\n"
     ]
    },
    {
     "name": "stderr",
     "output_type": "stream",
     "text": [
      "/gorilla1/code/neuralmonkey/neuralmonkey/classes/snippets.py:897: UserWarning: FixedFormatter should only be used together with FixedLocator\n",
      "  ax.set_xticklabels(ax.get_xticklabels(), rotation = 45)\n",
      "/gorilla1/code/neuralmonkey/neuralmonkey/classes/snippets.py:919: UserWarning: FixedFormatter should only be used together with FixedLocator\n",
      "  ax.set_xticklabels(ax.get_xticklabels(), rotation = 45)\n",
      "/gorilla1/code/neuralmonkey/neuralmonkey/classes/snippets.py:929: UserWarning: FixedFormatter should only be used together with FixedLocator\n",
      "  ax.set_xticklabels(x_labels, rotation = 45)\n"
     ]
    },
    {
     "name": "stdout",
     "output_type": "stream",
     "text": [
      "Plotting for chan:  271\n",
      "PLotting for (chan, bregion):  271 08_dlPFC_p\n"
     ]
    },
    {
     "name": "stderr",
     "output_type": "stream",
     "text": [
      "/gorilla1/code/neuralmonkey/neuralmonkey/classes/snippets.py:897: UserWarning: FixedFormatter should only be used together with FixedLocator\n",
      "  ax.set_xticklabels(ax.get_xticklabels(), rotation = 45)\n",
      "/gorilla1/code/neuralmonkey/neuralmonkey/classes/snippets.py:919: UserWarning: FixedFormatter should only be used together with FixedLocator\n",
      "  ax.set_xticklabels(ax.get_xticklabels(), rotation = 45)\n",
      "/gorilla1/code/neuralmonkey/neuralmonkey/classes/snippets.py:929: UserWarning: FixedFormatter should only be used together with FixedLocator\n",
      "  ax.set_xticklabels(x_labels, rotation = 45)\n"
     ]
    },
    {
     "name": "stdout",
     "output_type": "stream",
     "text": [
      "Plotting for chan:  272\n",
      "PLotting for (chan, bregion):  272 08_dlPFC_p\n"
     ]
    },
    {
     "name": "stderr",
     "output_type": "stream",
     "text": [
      "/gorilla1/code/neuralmonkey/neuralmonkey/classes/snippets.py:897: UserWarning: FixedFormatter should only be used together with FixedLocator\n",
      "  ax.set_xticklabels(ax.get_xticklabels(), rotation = 45)\n",
      "/gorilla1/code/neuralmonkey/neuralmonkey/classes/snippets.py:919: UserWarning: FixedFormatter should only be used together with FixedLocator\n",
      "  ax.set_xticklabels(ax.get_xticklabels(), rotation = 45)\n",
      "/gorilla1/code/neuralmonkey/neuralmonkey/classes/snippets.py:929: UserWarning: FixedFormatter should only be used together with FixedLocator\n",
      "  ax.set_xticklabels(x_labels, rotation = 45)\n"
     ]
    },
    {
     "name": "stdout",
     "output_type": "stream",
     "text": [
      "Plotting for chan:  273\n",
      "PLotting for (chan, bregion):  273 08_dlPFC_p\n"
     ]
    },
    {
     "name": "stderr",
     "output_type": "stream",
     "text": [
      "/gorilla1/code/neuralmonkey/neuralmonkey/classes/snippets.py:897: UserWarning: FixedFormatter should only be used together with FixedLocator\n",
      "  ax.set_xticklabels(ax.get_xticklabels(), rotation = 45)\n",
      "/gorilla1/code/neuralmonkey/neuralmonkey/classes/snippets.py:919: UserWarning: FixedFormatter should only be used together with FixedLocator\n",
      "  ax.set_xticklabels(ax.get_xticklabels(), rotation = 45)\n",
      "/gorilla1/code/neuralmonkey/neuralmonkey/classes/snippets.py:929: UserWarning: FixedFormatter should only be used together with FixedLocator\n",
      "  ax.set_xticklabels(x_labels, rotation = 45)\n"
     ]
    },
    {
     "name": "stdout",
     "output_type": "stream",
     "text": [
      "Plotting for chan:  274\n",
      "PLotting for (chan, bregion):  274 08_dlPFC_p\n"
     ]
    },
    {
     "name": "stderr",
     "output_type": "stream",
     "text": [
      "/gorilla1/code/neuralmonkey/neuralmonkey/classes/snippets.py:897: UserWarning: FixedFormatter should only be used together with FixedLocator\n",
      "  ax.set_xticklabels(ax.get_xticklabels(), rotation = 45)\n",
      "/gorilla1/code/neuralmonkey/neuralmonkey/classes/snippets.py:919: UserWarning: FixedFormatter should only be used together with FixedLocator\n",
      "  ax.set_xticklabels(ax.get_xticklabels(), rotation = 45)\n",
      "/gorilla1/code/neuralmonkey/neuralmonkey/classes/snippets.py:929: UserWarning: FixedFormatter should only be used together with FixedLocator\n",
      "  ax.set_xticklabels(x_labels, rotation = 45)\n"
     ]
    },
    {
     "name": "stdout",
     "output_type": "stream",
     "text": [
      "Plotting for chan:  275\n",
      "PLotting for (chan, bregion):  275 08_dlPFC_p\n"
     ]
    },
    {
     "name": "stderr",
     "output_type": "stream",
     "text": [
      "/gorilla1/code/neuralmonkey/neuralmonkey/classes/snippets.py:897: UserWarning: FixedFormatter should only be used together with FixedLocator\n",
      "  ax.set_xticklabels(ax.get_xticklabels(), rotation = 45)\n",
      "/gorilla1/code/neuralmonkey/neuralmonkey/classes/snippets.py:919: UserWarning: FixedFormatter should only be used together with FixedLocator\n",
      "  ax.set_xticklabels(ax.get_xticklabels(), rotation = 45)\n",
      "/gorilla1/code/neuralmonkey/neuralmonkey/classes/snippets.py:929: UserWarning: FixedFormatter should only be used together with FixedLocator\n",
      "  ax.set_xticklabels(x_labels, rotation = 45)\n"
     ]
    },
    {
     "name": "stdout",
     "output_type": "stream",
     "text": [
      "Plotting for chan:  276\n",
      "PLotting for (chan, bregion):  276 08_dlPFC_p\n"
     ]
    },
    {
     "name": "stderr",
     "output_type": "stream",
     "text": [
      "/gorilla1/code/neuralmonkey/neuralmonkey/classes/snippets.py:897: UserWarning: FixedFormatter should only be used together with FixedLocator\n",
      "  ax.set_xticklabels(ax.get_xticklabels(), rotation = 45)\n",
      "/gorilla1/code/neuralmonkey/neuralmonkey/classes/snippets.py:919: UserWarning: FixedFormatter should only be used together with FixedLocator\n",
      "  ax.set_xticklabels(ax.get_xticklabels(), rotation = 45)\n",
      "/gorilla1/code/neuralmonkey/neuralmonkey/classes/snippets.py:929: UserWarning: FixedFormatter should only be used together with FixedLocator\n",
      "  ax.set_xticklabels(x_labels, rotation = 45)\n"
     ]
    },
    {
     "name": "stdout",
     "output_type": "stream",
     "text": [
      "Plotting for chan:  277\n",
      "PLotting for (chan, bregion):  277 08_dlPFC_p\n"
     ]
    },
    {
     "name": "stderr",
     "output_type": "stream",
     "text": [
      "/gorilla1/code/neuralmonkey/neuralmonkey/classes/snippets.py:897: UserWarning: FixedFormatter should only be used together with FixedLocator\n",
      "  ax.set_xticklabels(ax.get_xticklabels(), rotation = 45)\n",
      "/gorilla1/code/neuralmonkey/neuralmonkey/classes/snippets.py:919: UserWarning: FixedFormatter should only be used together with FixedLocator\n",
      "  ax.set_xticklabels(ax.get_xticklabels(), rotation = 45)\n",
      "/gorilla1/code/neuralmonkey/neuralmonkey/classes/snippets.py:929: UserWarning: FixedFormatter should only be used together with FixedLocator\n",
      "  ax.set_xticklabels(x_labels, rotation = 45)\n"
     ]
    },
    {
     "name": "stdout",
     "output_type": "stream",
     "text": [
      "Plotting for chan:  278\n",
      "PLotting for (chan, bregion):  278 08_dlPFC_p\n"
     ]
    },
    {
     "name": "stderr",
     "output_type": "stream",
     "text": [
      "/gorilla1/code/neuralmonkey/neuralmonkey/classes/snippets.py:897: UserWarning: FixedFormatter should only be used together with FixedLocator\n",
      "  ax.set_xticklabels(ax.get_xticklabels(), rotation = 45)\n",
      "/gorilla1/code/neuralmonkey/neuralmonkey/classes/snippets.py:919: UserWarning: FixedFormatter should only be used together with FixedLocator\n",
      "  ax.set_xticklabels(ax.get_xticklabels(), rotation = 45)\n",
      "/gorilla1/code/neuralmonkey/neuralmonkey/classes/snippets.py:929: UserWarning: FixedFormatter should only be used together with FixedLocator\n",
      "  ax.set_xticklabels(x_labels, rotation = 45)\n"
     ]
    },
    {
     "name": "stdout",
     "output_type": "stream",
     "text": [
      "Plotting for chan:  279\n",
      "PLotting for (chan, bregion):  279 08_dlPFC_p\n"
     ]
    },
    {
     "name": "stderr",
     "output_type": "stream",
     "text": [
      "/gorilla1/code/neuralmonkey/neuralmonkey/classes/snippets.py:897: UserWarning: FixedFormatter should only be used together with FixedLocator\n",
      "  ax.set_xticklabels(ax.get_xticklabels(), rotation = 45)\n",
      "/gorilla1/code/neuralmonkey/neuralmonkey/classes/snippets.py:919: UserWarning: FixedFormatter should only be used together with FixedLocator\n",
      "  ax.set_xticklabels(ax.get_xticklabels(), rotation = 45)\n",
      "/gorilla1/code/neuralmonkey/neuralmonkey/classes/snippets.py:929: UserWarning: FixedFormatter should only be used together with FixedLocator\n",
      "  ax.set_xticklabels(x_labels, rotation = 45)\n"
     ]
    },
    {
     "name": "stdout",
     "output_type": "stream",
     "text": [
      "Plotting for chan:  282\n",
      "PLotting for (chan, bregion):  282 08_dlPFC_p\n"
     ]
    },
    {
     "name": "stderr",
     "output_type": "stream",
     "text": [
      "/gorilla1/code/neuralmonkey/neuralmonkey/classes/snippets.py:897: UserWarning: FixedFormatter should only be used together with FixedLocator\n",
      "  ax.set_xticklabels(ax.get_xticklabels(), rotation = 45)\n",
      "/gorilla1/code/neuralmonkey/neuralmonkey/classes/snippets.py:919: UserWarning: FixedFormatter should only be used together with FixedLocator\n",
      "  ax.set_xticklabels(ax.get_xticklabels(), rotation = 45)\n",
      "/gorilla1/code/neuralmonkey/neuralmonkey/classes/snippets.py:929: UserWarning: FixedFormatter should only be used together with FixedLocator\n",
      "  ax.set_xticklabels(x_labels, rotation = 45)\n"
     ]
    },
    {
     "name": "stdout",
     "output_type": "stream",
     "text": [
      "Plotting for chan:  286\n",
      "PLotting for (chan, bregion):  286 08_dlPFC_p\n"
     ]
    },
    {
     "name": "stderr",
     "output_type": "stream",
     "text": [
      "/gorilla1/code/neuralmonkey/neuralmonkey/classes/snippets.py:897: UserWarning: FixedFormatter should only be used together with FixedLocator\n",
      "  ax.set_xticklabels(ax.get_xticklabels(), rotation = 45)\n",
      "/gorilla1/code/neuralmonkey/neuralmonkey/classes/snippets.py:919: UserWarning: FixedFormatter should only be used together with FixedLocator\n",
      "  ax.set_xticklabels(ax.get_xticklabels(), rotation = 45)\n",
      "/gorilla1/code/neuralmonkey/neuralmonkey/classes/snippets.py:929: UserWarning: FixedFormatter should only be used together with FixedLocator\n",
      "  ax.set_xticklabels(x_labels, rotation = 45)\n"
     ]
    },
    {
     "name": "stdout",
     "output_type": "stream",
     "text": [
      "Plotting for chan:  287\n",
      "PLotting for (chan, bregion):  287 08_dlPFC_p\n"
     ]
    },
    {
     "name": "stderr",
     "output_type": "stream",
     "text": [
      "/gorilla1/code/neuralmonkey/neuralmonkey/classes/snippets.py:897: UserWarning: FixedFormatter should only be used together with FixedLocator\n",
      "  ax.set_xticklabels(ax.get_xticklabels(), rotation = 45)\n",
      "/gorilla1/code/neuralmonkey/neuralmonkey/classes/snippets.py:919: UserWarning: FixedFormatter should only be used together with FixedLocator\n",
      "  ax.set_xticklabels(ax.get_xticklabels(), rotation = 45)\n",
      "/gorilla1/code/neuralmonkey/neuralmonkey/classes/snippets.py:929: UserWarning: FixedFormatter should only be used together with FixedLocator\n",
      "  ax.set_xticklabels(x_labels, rotation = 45)\n"
     ]
    },
    {
     "name": "stdout",
     "output_type": "stream",
     "text": [
      "Plotting for chan:  288\n",
      "PLotting for (chan, bregion):  288 08_dlPFC_p\n"
     ]
    },
    {
     "name": "stderr",
     "output_type": "stream",
     "text": [
      "/gorilla1/code/neuralmonkey/neuralmonkey/classes/snippets.py:897: UserWarning: FixedFormatter should only be used together with FixedLocator\n",
      "  ax.set_xticklabels(ax.get_xticklabels(), rotation = 45)\n",
      "/gorilla1/code/neuralmonkey/neuralmonkey/classes/snippets.py:919: UserWarning: FixedFormatter should only be used together with FixedLocator\n",
      "  ax.set_xticklabels(ax.get_xticklabels(), rotation = 45)\n",
      "/gorilla1/code/neuralmonkey/neuralmonkey/classes/snippets.py:929: UserWarning: FixedFormatter should only be used together with FixedLocator\n",
      "  ax.set_xticklabels(x_labels, rotation = 45)\n"
     ]
    },
    {
     "name": "stdout",
     "output_type": "stream",
     "text": [
      "Plotting for chan:  292\n",
      "PLotting for (chan, bregion):  292 09_dlPFC_a\n"
     ]
    },
    {
     "name": "stderr",
     "output_type": "stream",
     "text": [
      "/gorilla1/code/neuralmonkey/neuralmonkey/classes/snippets.py:897: UserWarning: FixedFormatter should only be used together with FixedLocator\n",
      "  ax.set_xticklabels(ax.get_xticklabels(), rotation = 45)\n",
      "/gorilla1/code/neuralmonkey/neuralmonkey/classes/snippets.py:919: UserWarning: FixedFormatter should only be used together with FixedLocator\n",
      "  ax.set_xticklabels(ax.get_xticklabels(), rotation = 45)\n",
      "/gorilla1/code/neuralmonkey/neuralmonkey/classes/snippets.py:929: UserWarning: FixedFormatter should only be used together with FixedLocator\n",
      "  ax.set_xticklabels(x_labels, rotation = 45)\n"
     ]
    },
    {
     "name": "stdout",
     "output_type": "stream",
     "text": [
      "Plotting for chan:  293\n",
      "PLotting for (chan, bregion):  293 09_dlPFC_a\n"
     ]
    },
    {
     "name": "stderr",
     "output_type": "stream",
     "text": [
      "/gorilla1/code/neuralmonkey/neuralmonkey/classes/snippets.py:897: UserWarning: FixedFormatter should only be used together with FixedLocator\n",
      "  ax.set_xticklabels(ax.get_xticklabels(), rotation = 45)\n",
      "/gorilla1/code/neuralmonkey/neuralmonkey/classes/snippets.py:919: UserWarning: FixedFormatter should only be used together with FixedLocator\n",
      "  ax.set_xticklabels(ax.get_xticklabels(), rotation = 45)\n",
      "/gorilla1/code/neuralmonkey/neuralmonkey/classes/snippets.py:929: UserWarning: FixedFormatter should only be used together with FixedLocator\n",
      "  ax.set_xticklabels(x_labels, rotation = 45)\n"
     ]
    },
    {
     "name": "stdout",
     "output_type": "stream",
     "text": [
      "Plotting for chan:  294\n",
      "PLotting for (chan, bregion):  294 09_dlPFC_a\n"
     ]
    },
    {
     "name": "stderr",
     "output_type": "stream",
     "text": [
      "/gorilla1/code/neuralmonkey/neuralmonkey/classes/snippets.py:897: UserWarning: FixedFormatter should only be used together with FixedLocator\n",
      "  ax.set_xticklabels(ax.get_xticklabels(), rotation = 45)\n",
      "/gorilla1/code/neuralmonkey/neuralmonkey/classes/snippets.py:919: UserWarning: FixedFormatter should only be used together with FixedLocator\n",
      "  ax.set_xticklabels(ax.get_xticklabels(), rotation = 45)\n",
      "/gorilla1/code/neuralmonkey/neuralmonkey/classes/snippets.py:929: UserWarning: FixedFormatter should only be used together with FixedLocator\n",
      "  ax.set_xticklabels(x_labels, rotation = 45)\n"
     ]
    },
    {
     "name": "stdout",
     "output_type": "stream",
     "text": [
      "Plotting for chan:  295\n",
      "PLotting for (chan, bregion):  295 09_dlPFC_a\n"
     ]
    },
    {
     "name": "stderr",
     "output_type": "stream",
     "text": [
      "/gorilla1/code/neuralmonkey/neuralmonkey/classes/snippets.py:897: UserWarning: FixedFormatter should only be used together with FixedLocator\n",
      "  ax.set_xticklabels(ax.get_xticklabels(), rotation = 45)\n",
      "/gorilla1/code/neuralmonkey/neuralmonkey/classes/snippets.py:919: UserWarning: FixedFormatter should only be used together with FixedLocator\n",
      "  ax.set_xticklabels(ax.get_xticklabels(), rotation = 45)\n",
      "/gorilla1/code/neuralmonkey/neuralmonkey/classes/snippets.py:929: UserWarning: FixedFormatter should only be used together with FixedLocator\n",
      "  ax.set_xticklabels(x_labels, rotation = 45)\n"
     ]
    },
    {
     "name": "stdout",
     "output_type": "stream",
     "text": [
      "Plotting for chan:  296\n",
      "PLotting for (chan, bregion):  296 09_dlPFC_a\n"
     ]
    },
    {
     "name": "stderr",
     "output_type": "stream",
     "text": [
      "/gorilla1/code/neuralmonkey/neuralmonkey/classes/snippets.py:897: UserWarning: FixedFormatter should only be used together with FixedLocator\n",
      "  ax.set_xticklabels(ax.get_xticklabels(), rotation = 45)\n",
      "/gorilla1/code/neuralmonkey/neuralmonkey/classes/snippets.py:919: UserWarning: FixedFormatter should only be used together with FixedLocator\n",
      "  ax.set_xticklabels(ax.get_xticklabels(), rotation = 45)\n",
      "/gorilla1/code/neuralmonkey/neuralmonkey/classes/snippets.py:929: UserWarning: FixedFormatter should only be used together with FixedLocator\n",
      "  ax.set_xticklabels(x_labels, rotation = 45)\n"
     ]
    },
    {
     "name": "stdout",
     "output_type": "stream",
     "text": [
      "Plotting for chan:  301\n",
      "PLotting for (chan, bregion):  301 09_dlPFC_a\n"
     ]
    },
    {
     "name": "stderr",
     "output_type": "stream",
     "text": [
      "/gorilla1/code/neuralmonkey/neuralmonkey/classes/snippets.py:897: UserWarning: FixedFormatter should only be used together with FixedLocator\n",
      "  ax.set_xticklabels(ax.get_xticklabels(), rotation = 45)\n",
      "/gorilla1/code/neuralmonkey/neuralmonkey/classes/snippets.py:919: UserWarning: FixedFormatter should only be used together with FixedLocator\n",
      "  ax.set_xticklabels(ax.get_xticklabels(), rotation = 45)\n",
      "/gorilla1/code/neuralmonkey/neuralmonkey/classes/snippets.py:929: UserWarning: FixedFormatter should only be used together with FixedLocator\n",
      "  ax.set_xticklabels(x_labels, rotation = 45)\n"
     ]
    },
    {
     "name": "stdout",
     "output_type": "stream",
     "text": [
      "Plotting for chan:  302\n",
      "PLotting for (chan, bregion):  302 09_dlPFC_a\n"
     ]
    },
    {
     "name": "stderr",
     "output_type": "stream",
     "text": [
      "/gorilla1/code/neuralmonkey/neuralmonkey/classes/snippets.py:897: UserWarning: FixedFormatter should only be used together with FixedLocator\n",
      "  ax.set_xticklabels(ax.get_xticklabels(), rotation = 45)\n",
      "/gorilla1/code/neuralmonkey/neuralmonkey/classes/snippets.py:919: UserWarning: FixedFormatter should only be used together with FixedLocator\n",
      "  ax.set_xticklabels(ax.get_xticklabels(), rotation = 45)\n",
      "/gorilla1/code/neuralmonkey/neuralmonkey/classes/snippets.py:929: UserWarning: FixedFormatter should only be used together with FixedLocator\n",
      "  ax.set_xticklabels(x_labels, rotation = 45)\n"
     ]
    },
    {
     "name": "stdout",
     "output_type": "stream",
     "text": [
      "Plotting for chan:  303\n",
      "PLotting for (chan, bregion):  303 09_dlPFC_a\n"
     ]
    },
    {
     "name": "stderr",
     "output_type": "stream",
     "text": [
      "/gorilla1/code/neuralmonkey/neuralmonkey/classes/snippets.py:897: UserWarning: FixedFormatter should only be used together with FixedLocator\n",
      "  ax.set_xticklabels(ax.get_xticklabels(), rotation = 45)\n",
      "/gorilla1/code/neuralmonkey/neuralmonkey/classes/snippets.py:919: UserWarning: FixedFormatter should only be used together with FixedLocator\n",
      "  ax.set_xticklabels(ax.get_xticklabels(), rotation = 45)\n",
      "/gorilla1/code/neuralmonkey/neuralmonkey/classes/snippets.py:929: UserWarning: FixedFormatter should only be used together with FixedLocator\n",
      "  ax.set_xticklabels(x_labels, rotation = 45)\n"
     ]
    },
    {
     "name": "stdout",
     "output_type": "stream",
     "text": [
      "Plotting for chan:  304\n",
      "PLotting for (chan, bregion):  304 09_dlPFC_a\n"
     ]
    },
    {
     "name": "stderr",
     "output_type": "stream",
     "text": [
      "/gorilla1/code/neuralmonkey/neuralmonkey/classes/snippets.py:897: UserWarning: FixedFormatter should only be used together with FixedLocator\n",
      "  ax.set_xticklabels(ax.get_xticklabels(), rotation = 45)\n",
      "/gorilla1/code/neuralmonkey/neuralmonkey/classes/snippets.py:919: UserWarning: FixedFormatter should only be used together with FixedLocator\n",
      "  ax.set_xticklabels(ax.get_xticklabels(), rotation = 45)\n",
      "/gorilla1/code/neuralmonkey/neuralmonkey/classes/snippets.py:929: UserWarning: FixedFormatter should only be used together with FixedLocator\n",
      "  ax.set_xticklabels(x_labels, rotation = 45)\n"
     ]
    },
    {
     "name": "stdout",
     "output_type": "stream",
     "text": [
      "Plotting for chan:  305\n",
      "PLotting for (chan, bregion):  305 09_dlPFC_a\n"
     ]
    },
    {
     "name": "stderr",
     "output_type": "stream",
     "text": [
      "/gorilla1/code/neuralmonkey/neuralmonkey/classes/snippets.py:897: UserWarning: FixedFormatter should only be used together with FixedLocator\n",
      "  ax.set_xticklabels(ax.get_xticklabels(), rotation = 45)\n",
      "/gorilla1/code/neuralmonkey/neuralmonkey/classes/snippets.py:919: UserWarning: FixedFormatter should only be used together with FixedLocator\n",
      "  ax.set_xticklabels(ax.get_xticklabels(), rotation = 45)\n",
      "/gorilla1/code/neuralmonkey/neuralmonkey/classes/snippets.py:929: UserWarning: FixedFormatter should only be used together with FixedLocator\n",
      "  ax.set_xticklabels(x_labels, rotation = 45)\n"
     ]
    },
    {
     "name": "stdout",
     "output_type": "stream",
     "text": [
      "Plotting for chan:  308\n",
      "PLotting for (chan, bregion):  308 09_dlPFC_a\n"
     ]
    },
    {
     "name": "stderr",
     "output_type": "stream",
     "text": [
      "/gorilla1/code/neuralmonkey/neuralmonkey/classes/snippets.py:897: UserWarning: FixedFormatter should only be used together with FixedLocator\n",
      "  ax.set_xticklabels(ax.get_xticklabels(), rotation = 45)\n",
      "/gorilla1/code/neuralmonkey/neuralmonkey/classes/snippets.py:919: UserWarning: FixedFormatter should only be used together with FixedLocator\n",
      "  ax.set_xticklabels(ax.get_xticklabels(), rotation = 45)\n",
      "/gorilla1/code/neuralmonkey/neuralmonkey/classes/snippets.py:929: UserWarning: FixedFormatter should only be used together with FixedLocator\n",
      "  ax.set_xticklabels(x_labels, rotation = 45)\n"
     ]
    },
    {
     "name": "stdout",
     "output_type": "stream",
     "text": [
      "Plotting for chan:  310\n",
      "PLotting for (chan, bregion):  310 09_dlPFC_a\n"
     ]
    },
    {
     "name": "stderr",
     "output_type": "stream",
     "text": [
      "/gorilla1/code/neuralmonkey/neuralmonkey/classes/snippets.py:897: UserWarning: FixedFormatter should only be used together with FixedLocator\n",
      "  ax.set_xticklabels(ax.get_xticklabels(), rotation = 45)\n",
      "/gorilla1/code/neuralmonkey/neuralmonkey/classes/snippets.py:919: UserWarning: FixedFormatter should only be used together with FixedLocator\n",
      "  ax.set_xticklabels(ax.get_xticklabels(), rotation = 45)\n",
      "/gorilla1/code/neuralmonkey/neuralmonkey/classes/snippets.py:929: UserWarning: FixedFormatter should only be used together with FixedLocator\n",
      "  ax.set_xticklabels(x_labels, rotation = 45)\n"
     ]
    },
    {
     "name": "stdout",
     "output_type": "stream",
     "text": [
      "Plotting for chan:  311\n",
      "PLotting for (chan, bregion):  311 09_dlPFC_a\n"
     ]
    },
    {
     "name": "stderr",
     "output_type": "stream",
     "text": [
      "/gorilla1/code/neuralmonkey/neuralmonkey/classes/snippets.py:897: UserWarning: FixedFormatter should only be used together with FixedLocator\n",
      "  ax.set_xticklabels(ax.get_xticklabels(), rotation = 45)\n",
      "/gorilla1/code/neuralmonkey/neuralmonkey/classes/snippets.py:919: UserWarning: FixedFormatter should only be used together with FixedLocator\n",
      "  ax.set_xticklabels(ax.get_xticklabels(), rotation = 45)\n",
      "/gorilla1/code/neuralmonkey/neuralmonkey/classes/snippets.py:929: UserWarning: FixedFormatter should only be used together with FixedLocator\n",
      "  ax.set_xticklabels(x_labels, rotation = 45)\n"
     ]
    },
    {
     "name": "stdout",
     "output_type": "stream",
     "text": [
      "Plotting for chan:  312\n",
      "PLotting for (chan, bregion):  312 09_dlPFC_a\n"
     ]
    },
    {
     "name": "stderr",
     "output_type": "stream",
     "text": [
      "/gorilla1/code/neuralmonkey/neuralmonkey/classes/snippets.py:897: UserWarning: FixedFormatter should only be used together with FixedLocator\n",
      "  ax.set_xticklabels(ax.get_xticklabels(), rotation = 45)\n",
      "/gorilla1/code/neuralmonkey/neuralmonkey/classes/snippets.py:919: UserWarning: FixedFormatter should only be used together with FixedLocator\n",
      "  ax.set_xticklabels(ax.get_xticklabels(), rotation = 45)\n",
      "/gorilla1/code/neuralmonkey/neuralmonkey/classes/snippets.py:929: UserWarning: FixedFormatter should only be used together with FixedLocator\n",
      "  ax.set_xticklabels(x_labels, rotation = 45)\n"
     ]
    },
    {
     "name": "stdout",
     "output_type": "stream",
     "text": [
      "Plotting for chan:  313\n",
      "PLotting for (chan, bregion):  313 09_dlPFC_a\n"
     ]
    },
    {
     "name": "stderr",
     "output_type": "stream",
     "text": [
      "/gorilla1/code/neuralmonkey/neuralmonkey/classes/snippets.py:897: UserWarning: FixedFormatter should only be used together with FixedLocator\n",
      "  ax.set_xticklabels(ax.get_xticklabels(), rotation = 45)\n",
      "/gorilla1/code/neuralmonkey/neuralmonkey/classes/snippets.py:919: UserWarning: FixedFormatter should only be used together with FixedLocator\n",
      "  ax.set_xticklabels(ax.get_xticklabels(), rotation = 45)\n",
      "/gorilla1/code/neuralmonkey/neuralmonkey/classes/snippets.py:929: UserWarning: FixedFormatter should only be used together with FixedLocator\n",
      "  ax.set_xticklabels(x_labels, rotation = 45)\n"
     ]
    },
    {
     "name": "stdout",
     "output_type": "stream",
     "text": [
      "Plotting for chan:  314\n",
      "PLotting for (chan, bregion):  314 09_dlPFC_a\n"
     ]
    },
    {
     "name": "stderr",
     "output_type": "stream",
     "text": [
      "/gorilla1/code/neuralmonkey/neuralmonkey/classes/snippets.py:897: UserWarning: FixedFormatter should only be used together with FixedLocator\n",
      "  ax.set_xticklabels(ax.get_xticklabels(), rotation = 45)\n",
      "/gorilla1/code/neuralmonkey/neuralmonkey/classes/snippets.py:919: UserWarning: FixedFormatter should only be used together with FixedLocator\n",
      "  ax.set_xticklabels(ax.get_xticklabels(), rotation = 45)\n",
      "/gorilla1/code/neuralmonkey/neuralmonkey/classes/snippets.py:929: UserWarning: FixedFormatter should only be used together with FixedLocator\n",
      "  ax.set_xticklabels(x_labels, rotation = 45)\n"
     ]
    },
    {
     "name": "stdout",
     "output_type": "stream",
     "text": [
      "Plotting for chan:  315\n",
      "PLotting for (chan, bregion):  315 09_dlPFC_a\n"
     ]
    },
    {
     "name": "stderr",
     "output_type": "stream",
     "text": [
      "/gorilla1/code/neuralmonkey/neuralmonkey/classes/snippets.py:897: UserWarning: FixedFormatter should only be used together with FixedLocator\n",
      "  ax.set_xticklabels(ax.get_xticklabels(), rotation = 45)\n",
      "/gorilla1/code/neuralmonkey/neuralmonkey/classes/snippets.py:919: UserWarning: FixedFormatter should only be used together with FixedLocator\n",
      "  ax.set_xticklabels(ax.get_xticklabels(), rotation = 45)\n",
      "/gorilla1/code/neuralmonkey/neuralmonkey/classes/snippets.py:929: UserWarning: FixedFormatter should only be used together with FixedLocator\n",
      "  ax.set_xticklabels(x_labels, rotation = 45)\n"
     ]
    },
    {
     "name": "stdout",
     "output_type": "stream",
     "text": [
      "Plotting for chan:  320\n",
      "PLotting for (chan, bregion):  320 09_dlPFC_a\n"
     ]
    },
    {
     "name": "stderr",
     "output_type": "stream",
     "text": [
      "/gorilla1/code/neuralmonkey/neuralmonkey/classes/snippets.py:897: UserWarning: FixedFormatter should only be used together with FixedLocator\n",
      "  ax.set_xticklabels(ax.get_xticklabels(), rotation = 45)\n",
      "/gorilla1/code/neuralmonkey/neuralmonkey/classes/snippets.py:919: UserWarning: FixedFormatter should only be used together with FixedLocator\n",
      "  ax.set_xticklabels(ax.get_xticklabels(), rotation = 45)\n",
      "/gorilla1/code/neuralmonkey/neuralmonkey/classes/snippets.py:929: UserWarning: FixedFormatter should only be used together with FixedLocator\n",
      "  ax.set_xticklabels(x_labels, rotation = 45)\n"
     ]
    },
    {
     "name": "stdout",
     "output_type": "stream",
     "text": [
      "Plotting for chan:  322\n",
      "PLotting for (chan, bregion):  322 10_vlPFC_p\n"
     ]
    },
    {
     "name": "stderr",
     "output_type": "stream",
     "text": [
      "/gorilla1/code/neuralmonkey/neuralmonkey/classes/snippets.py:897: UserWarning: FixedFormatter should only be used together with FixedLocator\n",
      "  ax.set_xticklabels(ax.get_xticklabels(), rotation = 45)\n",
      "/gorilla1/code/neuralmonkey/neuralmonkey/classes/snippets.py:919: UserWarning: FixedFormatter should only be used together with FixedLocator\n",
      "  ax.set_xticklabels(ax.get_xticklabels(), rotation = 45)\n",
      "/gorilla1/code/neuralmonkey/neuralmonkey/classes/snippets.py:929: UserWarning: FixedFormatter should only be used together with FixedLocator\n",
      "  ax.set_xticklabels(x_labels, rotation = 45)\n"
     ]
    },
    {
     "name": "stdout",
     "output_type": "stream",
     "text": [
      "Plotting for chan:  323\n",
      "PLotting for (chan, bregion):  323 10_vlPFC_p\n"
     ]
    },
    {
     "name": "stderr",
     "output_type": "stream",
     "text": [
      "/gorilla1/code/neuralmonkey/neuralmonkey/classes/snippets.py:897: UserWarning: FixedFormatter should only be used together with FixedLocator\n",
      "  ax.set_xticklabels(ax.get_xticklabels(), rotation = 45)\n",
      "/gorilla1/code/neuralmonkey/neuralmonkey/classes/snippets.py:919: UserWarning: FixedFormatter should only be used together with FixedLocator\n",
      "  ax.set_xticklabels(ax.get_xticklabels(), rotation = 45)\n",
      "/gorilla1/code/neuralmonkey/neuralmonkey/classes/snippets.py:929: UserWarning: FixedFormatter should only be used together with FixedLocator\n",
      "  ax.set_xticklabels(x_labels, rotation = 45)\n"
     ]
    },
    {
     "name": "stdout",
     "output_type": "stream",
     "text": [
      "Plotting for chan:  327\n",
      "PLotting for (chan, bregion):  327 10_vlPFC_p\n"
     ]
    },
    {
     "name": "stderr",
     "output_type": "stream",
     "text": [
      "/gorilla1/code/neuralmonkey/neuralmonkey/classes/snippets.py:897: UserWarning: FixedFormatter should only be used together with FixedLocator\n",
      "  ax.set_xticklabels(ax.get_xticklabels(), rotation = 45)\n",
      "/gorilla1/code/neuralmonkey/neuralmonkey/classes/snippets.py:919: UserWarning: FixedFormatter should only be used together with FixedLocator\n",
      "  ax.set_xticklabels(ax.get_xticklabels(), rotation = 45)\n",
      "/gorilla1/code/neuralmonkey/neuralmonkey/classes/snippets.py:929: UserWarning: FixedFormatter should only be used together with FixedLocator\n",
      "  ax.set_xticklabels(x_labels, rotation = 45)\n"
     ]
    },
    {
     "name": "stdout",
     "output_type": "stream",
     "text": [
      "Plotting for chan:  329\n",
      "PLotting for (chan, bregion):  329 10_vlPFC_p\n"
     ]
    },
    {
     "name": "stderr",
     "output_type": "stream",
     "text": [
      "/gorilla1/code/neuralmonkey/neuralmonkey/classes/snippets.py:897: UserWarning: FixedFormatter should only be used together with FixedLocator\n",
      "  ax.set_xticklabels(ax.get_xticklabels(), rotation = 45)\n",
      "/gorilla1/code/neuralmonkey/neuralmonkey/classes/snippets.py:919: UserWarning: FixedFormatter should only be used together with FixedLocator\n",
      "  ax.set_xticklabels(ax.get_xticklabels(), rotation = 45)\n",
      "/gorilla1/code/neuralmonkey/neuralmonkey/classes/snippets.py:929: UserWarning: FixedFormatter should only be used together with FixedLocator\n",
      "  ax.set_xticklabels(x_labels, rotation = 45)\n"
     ]
    },
    {
     "name": "stdout",
     "output_type": "stream",
     "text": [
      "Plotting for chan:  331\n",
      "PLotting for (chan, bregion):  331 10_vlPFC_p\n"
     ]
    },
    {
     "name": "stderr",
     "output_type": "stream",
     "text": [
      "/gorilla1/code/neuralmonkey/neuralmonkey/classes/snippets.py:897: UserWarning: FixedFormatter should only be used together with FixedLocator\n",
      "  ax.set_xticklabels(ax.get_xticklabels(), rotation = 45)\n",
      "/gorilla1/code/neuralmonkey/neuralmonkey/classes/snippets.py:919: UserWarning: FixedFormatter should only be used together with FixedLocator\n",
      "  ax.set_xticklabels(ax.get_xticklabels(), rotation = 45)\n",
      "/gorilla1/code/neuralmonkey/neuralmonkey/classes/snippets.py:929: UserWarning: FixedFormatter should only be used together with FixedLocator\n",
      "  ax.set_xticklabels(x_labels, rotation = 45)\n"
     ]
    },
    {
     "name": "stdout",
     "output_type": "stream",
     "text": [
      "Plotting for chan:  332\n",
      "PLotting for (chan, bregion):  332 10_vlPFC_p\n"
     ]
    },
    {
     "name": "stderr",
     "output_type": "stream",
     "text": [
      "/gorilla1/code/neuralmonkey/neuralmonkey/classes/snippets.py:897: UserWarning: FixedFormatter should only be used together with FixedLocator\n",
      "  ax.set_xticklabels(ax.get_xticklabels(), rotation = 45)\n",
      "/gorilla1/code/neuralmonkey/neuralmonkey/classes/snippets.py:919: UserWarning: FixedFormatter should only be used together with FixedLocator\n",
      "  ax.set_xticklabels(ax.get_xticklabels(), rotation = 45)\n",
      "/gorilla1/code/neuralmonkey/neuralmonkey/classes/snippets.py:929: UserWarning: FixedFormatter should only be used together with FixedLocator\n",
      "  ax.set_xticklabels(x_labels, rotation = 45)\n"
     ]
    },
    {
     "name": "stdout",
     "output_type": "stream",
     "text": [
      "Plotting for chan:  333\n",
      "PLotting for (chan, bregion):  333 10_vlPFC_p\n"
     ]
    },
    {
     "name": "stderr",
     "output_type": "stream",
     "text": [
      "/gorilla1/code/neuralmonkey/neuralmonkey/classes/snippets.py:897: UserWarning: FixedFormatter should only be used together with FixedLocator\n",
      "  ax.set_xticklabels(ax.get_xticklabels(), rotation = 45)\n",
      "/gorilla1/code/neuralmonkey/neuralmonkey/classes/snippets.py:919: UserWarning: FixedFormatter should only be used together with FixedLocator\n",
      "  ax.set_xticklabels(ax.get_xticklabels(), rotation = 45)\n",
      "/gorilla1/code/neuralmonkey/neuralmonkey/classes/snippets.py:929: UserWarning: FixedFormatter should only be used together with FixedLocator\n",
      "  ax.set_xticklabels(x_labels, rotation = 45)\n"
     ]
    },
    {
     "name": "stdout",
     "output_type": "stream",
     "text": [
      "Plotting for chan:  335\n",
      "PLotting for (chan, bregion):  335 10_vlPFC_p\n"
     ]
    },
    {
     "name": "stderr",
     "output_type": "stream",
     "text": [
      "/gorilla1/code/neuralmonkey/neuralmonkey/classes/snippets.py:897: UserWarning: FixedFormatter should only be used together with FixedLocator\n",
      "  ax.set_xticklabels(ax.get_xticklabels(), rotation = 45)\n",
      "/gorilla1/code/neuralmonkey/neuralmonkey/classes/snippets.py:919: UserWarning: FixedFormatter should only be used together with FixedLocator\n",
      "  ax.set_xticklabels(ax.get_xticklabels(), rotation = 45)\n",
      "/gorilla1/code/neuralmonkey/neuralmonkey/classes/snippets.py:929: UserWarning: FixedFormatter should only be used together with FixedLocator\n",
      "  ax.set_xticklabels(x_labels, rotation = 45)\n"
     ]
    },
    {
     "name": "stdout",
     "output_type": "stream",
     "text": [
      "Plotting for chan:  337\n",
      "PLotting for (chan, bregion):  337 10_vlPFC_p\n"
     ]
    },
    {
     "name": "stderr",
     "output_type": "stream",
     "text": [
      "/gorilla1/code/neuralmonkey/neuralmonkey/classes/snippets.py:897: UserWarning: FixedFormatter should only be used together with FixedLocator\n",
      "  ax.set_xticklabels(ax.get_xticklabels(), rotation = 45)\n",
      "/gorilla1/code/neuralmonkey/neuralmonkey/classes/snippets.py:919: UserWarning: FixedFormatter should only be used together with FixedLocator\n",
      "  ax.set_xticklabels(ax.get_xticklabels(), rotation = 45)\n",
      "/gorilla1/code/neuralmonkey/neuralmonkey/classes/snippets.py:929: UserWarning: FixedFormatter should only be used together with FixedLocator\n",
      "  ax.set_xticklabels(x_labels, rotation = 45)\n"
     ]
    },
    {
     "name": "stdout",
     "output_type": "stream",
     "text": [
      "Plotting for chan:  338\n",
      "PLotting for (chan, bregion):  338 10_vlPFC_p\n"
     ]
    },
    {
     "name": "stderr",
     "output_type": "stream",
     "text": [
      "/gorilla1/code/neuralmonkey/neuralmonkey/classes/snippets.py:897: UserWarning: FixedFormatter should only be used together with FixedLocator\n",
      "  ax.set_xticklabels(ax.get_xticklabels(), rotation = 45)\n",
      "/gorilla1/code/neuralmonkey/neuralmonkey/classes/snippets.py:919: UserWarning: FixedFormatter should only be used together with FixedLocator\n",
      "  ax.set_xticklabels(ax.get_xticklabels(), rotation = 45)\n",
      "/gorilla1/code/neuralmonkey/neuralmonkey/classes/snippets.py:929: UserWarning: FixedFormatter should only be used together with FixedLocator\n",
      "  ax.set_xticklabels(x_labels, rotation = 45)\n"
     ]
    },
    {
     "name": "stdout",
     "output_type": "stream",
     "text": [
      "Plotting for chan:  339\n",
      "PLotting for (chan, bregion):  339 10_vlPFC_p\n"
     ]
    },
    {
     "name": "stderr",
     "output_type": "stream",
     "text": [
      "/gorilla1/code/neuralmonkey/neuralmonkey/classes/snippets.py:897: UserWarning: FixedFormatter should only be used together with FixedLocator\n",
      "  ax.set_xticklabels(ax.get_xticklabels(), rotation = 45)\n",
      "/gorilla1/code/neuralmonkey/neuralmonkey/classes/snippets.py:919: UserWarning: FixedFormatter should only be used together with FixedLocator\n",
      "  ax.set_xticklabels(ax.get_xticklabels(), rotation = 45)\n",
      "/gorilla1/code/neuralmonkey/neuralmonkey/classes/snippets.py:929: UserWarning: FixedFormatter should only be used together with FixedLocator\n",
      "  ax.set_xticklabels(x_labels, rotation = 45)\n"
     ]
    },
    {
     "name": "stdout",
     "output_type": "stream",
     "text": [
      "Plotting for chan:  340\n",
      "PLotting for (chan, bregion):  340 10_vlPFC_p\n"
     ]
    },
    {
     "name": "stderr",
     "output_type": "stream",
     "text": [
      "/gorilla1/code/neuralmonkey/neuralmonkey/classes/snippets.py:897: UserWarning: FixedFormatter should only be used together with FixedLocator\n",
      "  ax.set_xticklabels(ax.get_xticklabels(), rotation = 45)\n",
      "/gorilla1/code/neuralmonkey/neuralmonkey/classes/snippets.py:919: UserWarning: FixedFormatter should only be used together with FixedLocator\n",
      "  ax.set_xticklabels(ax.get_xticklabels(), rotation = 45)\n",
      "/gorilla1/code/neuralmonkey/neuralmonkey/classes/snippets.py:929: UserWarning: FixedFormatter should only be used together with FixedLocator\n",
      "  ax.set_xticklabels(x_labels, rotation = 45)\n"
     ]
    },
    {
     "name": "stdout",
     "output_type": "stream",
     "text": [
      "Plotting for chan:  344\n",
      "PLotting for (chan, bregion):  344 10_vlPFC_p\n"
     ]
    },
    {
     "name": "stderr",
     "output_type": "stream",
     "text": [
      "/gorilla1/code/neuralmonkey/neuralmonkey/classes/snippets.py:897: UserWarning: FixedFormatter should only be used together with FixedLocator\n",
      "  ax.set_xticklabels(ax.get_xticklabels(), rotation = 45)\n",
      "/gorilla1/code/neuralmonkey/neuralmonkey/classes/snippets.py:919: UserWarning: FixedFormatter should only be used together with FixedLocator\n",
      "  ax.set_xticklabels(ax.get_xticklabels(), rotation = 45)\n",
      "/gorilla1/code/neuralmonkey/neuralmonkey/classes/snippets.py:929: UserWarning: FixedFormatter should only be used together with FixedLocator\n",
      "  ax.set_xticklabels(x_labels, rotation = 45)\n"
     ]
    },
    {
     "name": "stdout",
     "output_type": "stream",
     "text": [
      "Plotting for chan:  345\n",
      "PLotting for (chan, bregion):  345 10_vlPFC_p\n"
     ]
    },
    {
     "name": "stderr",
     "output_type": "stream",
     "text": [
      "/gorilla1/code/neuralmonkey/neuralmonkey/classes/snippets.py:897: UserWarning: FixedFormatter should only be used together with FixedLocator\n",
      "  ax.set_xticklabels(ax.get_xticklabels(), rotation = 45)\n",
      "/gorilla1/code/neuralmonkey/neuralmonkey/classes/snippets.py:919: UserWarning: FixedFormatter should only be used together with FixedLocator\n",
      "  ax.set_xticklabels(ax.get_xticklabels(), rotation = 45)\n",
      "/gorilla1/code/neuralmonkey/neuralmonkey/classes/snippets.py:929: UserWarning: FixedFormatter should only be used together with FixedLocator\n",
      "  ax.set_xticklabels(x_labels, rotation = 45)\n"
     ]
    },
    {
     "name": "stdout",
     "output_type": "stream",
     "text": [
      "Plotting for chan:  346\n",
      "PLotting for (chan, bregion):  346 10_vlPFC_p\n"
     ]
    },
    {
     "name": "stderr",
     "output_type": "stream",
     "text": [
      "/gorilla1/code/neuralmonkey/neuralmonkey/classes/snippets.py:897: UserWarning: FixedFormatter should only be used together with FixedLocator\n",
      "  ax.set_xticklabels(ax.get_xticklabels(), rotation = 45)\n",
      "/gorilla1/code/neuralmonkey/neuralmonkey/classes/snippets.py:919: UserWarning: FixedFormatter should only be used together with FixedLocator\n",
      "  ax.set_xticklabels(ax.get_xticklabels(), rotation = 45)\n",
      "/gorilla1/code/neuralmonkey/neuralmonkey/classes/snippets.py:929: UserWarning: FixedFormatter should only be used together with FixedLocator\n",
      "  ax.set_xticklabels(x_labels, rotation = 45)\n"
     ]
    },
    {
     "name": "stdout",
     "output_type": "stream",
     "text": [
      "Plotting for chan:  348\n",
      "PLotting for (chan, bregion):  348 10_vlPFC_p\n"
     ]
    },
    {
     "name": "stderr",
     "output_type": "stream",
     "text": [
      "/gorilla1/code/neuralmonkey/neuralmonkey/classes/snippets.py:897: UserWarning: FixedFormatter should only be used together with FixedLocator\n",
      "  ax.set_xticklabels(ax.get_xticklabels(), rotation = 45)\n",
      "/gorilla1/code/neuralmonkey/neuralmonkey/classes/snippets.py:919: UserWarning: FixedFormatter should only be used together with FixedLocator\n",
      "  ax.set_xticklabels(ax.get_xticklabels(), rotation = 45)\n",
      "/gorilla1/code/neuralmonkey/neuralmonkey/classes/snippets.py:929: UserWarning: FixedFormatter should only be used together with FixedLocator\n",
      "  ax.set_xticklabels(x_labels, rotation = 45)\n"
     ]
    },
    {
     "name": "stdout",
     "output_type": "stream",
     "text": [
      "Plotting for chan:  349\n",
      "PLotting for (chan, bregion):  349 10_vlPFC_p\n"
     ]
    },
    {
     "name": "stderr",
     "output_type": "stream",
     "text": [
      "/gorilla1/code/neuralmonkey/neuralmonkey/classes/snippets.py:897: UserWarning: FixedFormatter should only be used together with FixedLocator\n",
      "  ax.set_xticklabels(ax.get_xticklabels(), rotation = 45)\n",
      "/gorilla1/code/neuralmonkey/neuralmonkey/classes/snippets.py:919: UserWarning: FixedFormatter should only be used together with FixedLocator\n",
      "  ax.set_xticklabels(ax.get_xticklabels(), rotation = 45)\n",
      "/gorilla1/code/neuralmonkey/neuralmonkey/classes/snippets.py:929: UserWarning: FixedFormatter should only be used together with FixedLocator\n",
      "  ax.set_xticklabels(x_labels, rotation = 45)\n"
     ]
    },
    {
     "name": "stdout",
     "output_type": "stream",
     "text": [
      "Plotting for chan:  350\n",
      "PLotting for (chan, bregion):  350 10_vlPFC_p\n"
     ]
    },
    {
     "name": "stderr",
     "output_type": "stream",
     "text": [
      "/gorilla1/code/neuralmonkey/neuralmonkey/classes/snippets.py:897: UserWarning: FixedFormatter should only be used together with FixedLocator\n",
      "  ax.set_xticklabels(ax.get_xticklabels(), rotation = 45)\n",
      "/gorilla1/code/neuralmonkey/neuralmonkey/classes/snippets.py:919: UserWarning: FixedFormatter should only be used together with FixedLocator\n",
      "  ax.set_xticklabels(ax.get_xticklabels(), rotation = 45)\n",
      "/gorilla1/code/neuralmonkey/neuralmonkey/classes/snippets.py:929: UserWarning: FixedFormatter should only be used together with FixedLocator\n",
      "  ax.set_xticklabels(x_labels, rotation = 45)\n"
     ]
    },
    {
     "name": "stdout",
     "output_type": "stream",
     "text": [
      "Plotting for chan:  351\n",
      "PLotting for (chan, bregion):  351 10_vlPFC_p\n"
     ]
    },
    {
     "name": "stderr",
     "output_type": "stream",
     "text": [
      "/gorilla1/code/neuralmonkey/neuralmonkey/classes/snippets.py:897: UserWarning: FixedFormatter should only be used together with FixedLocator\n",
      "  ax.set_xticklabels(ax.get_xticklabels(), rotation = 45)\n",
      "/gorilla1/code/neuralmonkey/neuralmonkey/classes/snippets.py:919: UserWarning: FixedFormatter should only be used together with FixedLocator\n",
      "  ax.set_xticklabels(ax.get_xticklabels(), rotation = 45)\n",
      "/gorilla1/code/neuralmonkey/neuralmonkey/classes/snippets.py:929: UserWarning: FixedFormatter should only be used together with FixedLocator\n",
      "  ax.set_xticklabels(x_labels, rotation = 45)\n"
     ]
    },
    {
     "name": "stdout",
     "output_type": "stream",
     "text": [
      "Plotting for chan:  352\n",
      "PLotting for (chan, bregion):  352 10_vlPFC_p\n"
     ]
    },
    {
     "name": "stderr",
     "output_type": "stream",
     "text": [
      "/gorilla1/code/neuralmonkey/neuralmonkey/classes/snippets.py:897: UserWarning: FixedFormatter should only be used together with FixedLocator\n",
      "  ax.set_xticklabels(ax.get_xticklabels(), rotation = 45)\n",
      "/gorilla1/code/neuralmonkey/neuralmonkey/classes/snippets.py:919: UserWarning: FixedFormatter should only be used together with FixedLocator\n",
      "  ax.set_xticklabels(ax.get_xticklabels(), rotation = 45)\n",
      "/gorilla1/code/neuralmonkey/neuralmonkey/classes/snippets.py:929: UserWarning: FixedFormatter should only be used together with FixedLocator\n",
      "  ax.set_xticklabels(x_labels, rotation = 45)\n"
     ]
    },
    {
     "name": "stdout",
     "output_type": "stream",
     "text": [
      "Plotting for chan:  353\n",
      "PLotting for (chan, bregion):  353 11_vlPFC_a\n"
     ]
    },
    {
     "name": "stderr",
     "output_type": "stream",
     "text": [
      "/gorilla1/code/neuralmonkey/neuralmonkey/classes/snippets.py:897: UserWarning: FixedFormatter should only be used together with FixedLocator\n",
      "  ax.set_xticklabels(ax.get_xticklabels(), rotation = 45)\n",
      "/gorilla1/code/neuralmonkey/neuralmonkey/classes/snippets.py:919: UserWarning: FixedFormatter should only be used together with FixedLocator\n",
      "  ax.set_xticklabels(ax.get_xticklabels(), rotation = 45)\n",
      "/gorilla1/code/neuralmonkey/neuralmonkey/classes/snippets.py:929: UserWarning: FixedFormatter should only be used together with FixedLocator\n",
      "  ax.set_xticklabels(x_labels, rotation = 45)\n"
     ]
    },
    {
     "name": "stdout",
     "output_type": "stream",
     "text": [
      "Plotting for chan:  354\n",
      "PLotting for (chan, bregion):  354 11_vlPFC_a\n"
     ]
    },
    {
     "name": "stderr",
     "output_type": "stream",
     "text": [
      "/gorilla1/code/neuralmonkey/neuralmonkey/classes/snippets.py:897: UserWarning: FixedFormatter should only be used together with FixedLocator\n",
      "  ax.set_xticklabels(ax.get_xticklabels(), rotation = 45)\n",
      "/gorilla1/code/neuralmonkey/neuralmonkey/classes/snippets.py:919: UserWarning: FixedFormatter should only be used together with FixedLocator\n",
      "  ax.set_xticklabels(ax.get_xticklabels(), rotation = 45)\n",
      "/gorilla1/code/neuralmonkey/neuralmonkey/classes/snippets.py:929: UserWarning: FixedFormatter should only be used together with FixedLocator\n",
      "  ax.set_xticklabels(x_labels, rotation = 45)\n"
     ]
    },
    {
     "name": "stdout",
     "output_type": "stream",
     "text": [
      "Plotting for chan:  355\n",
      "PLotting for (chan, bregion):  355 11_vlPFC_a\n"
     ]
    },
    {
     "name": "stderr",
     "output_type": "stream",
     "text": [
      "/gorilla1/code/neuralmonkey/neuralmonkey/classes/snippets.py:897: UserWarning: FixedFormatter should only be used together with FixedLocator\n",
      "  ax.set_xticklabels(ax.get_xticklabels(), rotation = 45)\n",
      "/gorilla1/code/neuralmonkey/neuralmonkey/classes/snippets.py:919: UserWarning: FixedFormatter should only be used together with FixedLocator\n",
      "  ax.set_xticklabels(ax.get_xticklabels(), rotation = 45)\n",
      "/gorilla1/code/neuralmonkey/neuralmonkey/classes/snippets.py:929: UserWarning: FixedFormatter should only be used together with FixedLocator\n",
      "  ax.set_xticklabels(x_labels, rotation = 45)\n"
     ]
    },
    {
     "name": "stdout",
     "output_type": "stream",
     "text": [
      "Plotting for chan:  356\n",
      "PLotting for (chan, bregion):  356 11_vlPFC_a\n"
     ]
    },
    {
     "name": "stderr",
     "output_type": "stream",
     "text": [
      "/gorilla1/code/neuralmonkey/neuralmonkey/classes/snippets.py:897: UserWarning: FixedFormatter should only be used together with FixedLocator\n",
      "  ax.set_xticklabels(ax.get_xticklabels(), rotation = 45)\n",
      "/gorilla1/code/neuralmonkey/neuralmonkey/classes/snippets.py:919: UserWarning: FixedFormatter should only be used together with FixedLocator\n",
      "  ax.set_xticklabels(ax.get_xticklabels(), rotation = 45)\n",
      "/gorilla1/code/neuralmonkey/neuralmonkey/classes/snippets.py:929: UserWarning: FixedFormatter should only be used together with FixedLocator\n",
      "  ax.set_xticklabels(x_labels, rotation = 45)\n"
     ]
    },
    {
     "name": "stdout",
     "output_type": "stream",
     "text": [
      "Plotting for chan:  357\n",
      "PLotting for (chan, bregion):  357 11_vlPFC_a\n"
     ]
    },
    {
     "name": "stderr",
     "output_type": "stream",
     "text": [
      "/gorilla1/code/neuralmonkey/neuralmonkey/classes/snippets.py:897: UserWarning: FixedFormatter should only be used together with FixedLocator\n",
      "  ax.set_xticklabels(ax.get_xticklabels(), rotation = 45)\n",
      "/gorilla1/code/neuralmonkey/neuralmonkey/classes/snippets.py:919: UserWarning: FixedFormatter should only be used together with FixedLocator\n",
      "  ax.set_xticklabels(ax.get_xticklabels(), rotation = 45)\n",
      "/gorilla1/code/neuralmonkey/neuralmonkey/classes/snippets.py:929: UserWarning: FixedFormatter should only be used together with FixedLocator\n",
      "  ax.set_xticklabels(x_labels, rotation = 45)\n"
     ]
    },
    {
     "name": "stdout",
     "output_type": "stream",
     "text": [
      "Plotting for chan:  359\n",
      "PLotting for (chan, bregion):  359 11_vlPFC_a\n"
     ]
    },
    {
     "name": "stderr",
     "output_type": "stream",
     "text": [
      "/gorilla1/code/neuralmonkey/neuralmonkey/classes/snippets.py:897: UserWarning: FixedFormatter should only be used together with FixedLocator\n",
      "  ax.set_xticklabels(ax.get_xticklabels(), rotation = 45)\n",
      "/gorilla1/code/neuralmonkey/neuralmonkey/classes/snippets.py:919: UserWarning: FixedFormatter should only be used together with FixedLocator\n",
      "  ax.set_xticklabels(ax.get_xticklabels(), rotation = 45)\n",
      "/gorilla1/code/neuralmonkey/neuralmonkey/classes/snippets.py:929: UserWarning: FixedFormatter should only be used together with FixedLocator\n",
      "  ax.set_xticklabels(x_labels, rotation = 45)\n"
     ]
    },
    {
     "name": "stdout",
     "output_type": "stream",
     "text": [
      "Plotting for chan:  360\n",
      "PLotting for (chan, bregion):  360 11_vlPFC_a\n"
     ]
    },
    {
     "name": "stderr",
     "output_type": "stream",
     "text": [
      "/gorilla1/code/neuralmonkey/neuralmonkey/classes/snippets.py:897: UserWarning: FixedFormatter should only be used together with FixedLocator\n",
      "  ax.set_xticklabels(ax.get_xticklabels(), rotation = 45)\n",
      "/gorilla1/code/neuralmonkey/neuralmonkey/classes/snippets.py:919: UserWarning: FixedFormatter should only be used together with FixedLocator\n",
      "  ax.set_xticklabels(ax.get_xticklabels(), rotation = 45)\n",
      "/gorilla1/code/neuralmonkey/neuralmonkey/classes/snippets.py:929: UserWarning: FixedFormatter should only be used together with FixedLocator\n",
      "  ax.set_xticklabels(x_labels, rotation = 45)\n"
     ]
    },
    {
     "name": "stdout",
     "output_type": "stream",
     "text": [
      "Plotting for chan:  363\n",
      "PLotting for (chan, bregion):  363 11_vlPFC_a\n"
     ]
    },
    {
     "name": "stderr",
     "output_type": "stream",
     "text": [
      "/gorilla1/code/neuralmonkey/neuralmonkey/classes/snippets.py:897: UserWarning: FixedFormatter should only be used together with FixedLocator\n",
      "  ax.set_xticklabels(ax.get_xticklabels(), rotation = 45)\n",
      "/gorilla1/code/neuralmonkey/neuralmonkey/classes/snippets.py:919: UserWarning: FixedFormatter should only be used together with FixedLocator\n",
      "  ax.set_xticklabels(ax.get_xticklabels(), rotation = 45)\n",
      "/gorilla1/code/neuralmonkey/neuralmonkey/classes/snippets.py:929: UserWarning: FixedFormatter should only be used together with FixedLocator\n",
      "  ax.set_xticklabels(x_labels, rotation = 45)\n"
     ]
    },
    {
     "name": "stdout",
     "output_type": "stream",
     "text": [
      "Plotting for chan:  369\n",
      "PLotting for (chan, bregion):  369 11_vlPFC_a\n"
     ]
    },
    {
     "name": "stderr",
     "output_type": "stream",
     "text": [
      "/gorilla1/code/neuralmonkey/neuralmonkey/classes/snippets.py:897: UserWarning: FixedFormatter should only be used together with FixedLocator\n",
      "  ax.set_xticklabels(ax.get_xticklabels(), rotation = 45)\n",
      "/gorilla1/code/neuralmonkey/neuralmonkey/classes/snippets.py:919: UserWarning: FixedFormatter should only be used together with FixedLocator\n",
      "  ax.set_xticklabels(ax.get_xticklabels(), rotation = 45)\n",
      "/gorilla1/code/neuralmonkey/neuralmonkey/classes/snippets.py:929: UserWarning: FixedFormatter should only be used together with FixedLocator\n",
      "  ax.set_xticklabels(x_labels, rotation = 45)\n"
     ]
    },
    {
     "name": "stdout",
     "output_type": "stream",
     "text": [
      "Plotting for chan:  371\n",
      "PLotting for (chan, bregion):  371 11_vlPFC_a\n"
     ]
    },
    {
     "name": "stderr",
     "output_type": "stream",
     "text": [
      "/gorilla1/code/neuralmonkey/neuralmonkey/classes/snippets.py:897: UserWarning: FixedFormatter should only be used together with FixedLocator\n",
      "  ax.set_xticklabels(ax.get_xticklabels(), rotation = 45)\n",
      "/gorilla1/code/neuralmonkey/neuralmonkey/classes/snippets.py:919: UserWarning: FixedFormatter should only be used together with FixedLocator\n",
      "  ax.set_xticklabels(ax.get_xticklabels(), rotation = 45)\n",
      "/gorilla1/code/neuralmonkey/neuralmonkey/classes/snippets.py:929: UserWarning: FixedFormatter should only be used together with FixedLocator\n",
      "  ax.set_xticklabels(x_labels, rotation = 45)\n"
     ]
    },
    {
     "name": "stdout",
     "output_type": "stream",
     "text": [
      "Plotting for chan:  372\n",
      "PLotting for (chan, bregion):  372 11_vlPFC_a\n"
     ]
    },
    {
     "name": "stderr",
     "output_type": "stream",
     "text": [
      "/gorilla1/code/neuralmonkey/neuralmonkey/classes/snippets.py:897: UserWarning: FixedFormatter should only be used together with FixedLocator\n",
      "  ax.set_xticklabels(ax.get_xticklabels(), rotation = 45)\n",
      "/gorilla1/code/neuralmonkey/neuralmonkey/classes/snippets.py:919: UserWarning: FixedFormatter should only be used together with FixedLocator\n",
      "  ax.set_xticklabels(ax.get_xticklabels(), rotation = 45)\n",
      "/gorilla1/code/neuralmonkey/neuralmonkey/classes/snippets.py:929: UserWarning: FixedFormatter should only be used together with FixedLocator\n",
      "  ax.set_xticklabels(x_labels, rotation = 45)\n"
     ]
    },
    {
     "name": "stdout",
     "output_type": "stream",
     "text": [
      "Plotting for chan:  374\n",
      "PLotting for (chan, bregion):  374 11_vlPFC_a\n"
     ]
    },
    {
     "name": "stderr",
     "output_type": "stream",
     "text": [
      "/gorilla1/code/neuralmonkey/neuralmonkey/classes/snippets.py:897: UserWarning: FixedFormatter should only be used together with FixedLocator\n",
      "  ax.set_xticklabels(ax.get_xticklabels(), rotation = 45)\n",
      "/gorilla1/code/neuralmonkey/neuralmonkey/classes/snippets.py:919: UserWarning: FixedFormatter should only be used together with FixedLocator\n",
      "  ax.set_xticklabels(ax.get_xticklabels(), rotation = 45)\n",
      "/gorilla1/code/neuralmonkey/neuralmonkey/classes/snippets.py:929: UserWarning: FixedFormatter should only be used together with FixedLocator\n",
      "  ax.set_xticklabels(x_labels, rotation = 45)\n"
     ]
    },
    {
     "name": "stdout",
     "output_type": "stream",
     "text": [
      "Plotting for chan:  376\n",
      "PLotting for (chan, bregion):  376 11_vlPFC_a\n"
     ]
    },
    {
     "name": "stderr",
     "output_type": "stream",
     "text": [
      "/gorilla1/code/neuralmonkey/neuralmonkey/classes/snippets.py:897: UserWarning: FixedFormatter should only be used together with FixedLocator\n",
      "  ax.set_xticklabels(ax.get_xticklabels(), rotation = 45)\n",
      "/gorilla1/code/neuralmonkey/neuralmonkey/classes/snippets.py:919: UserWarning: FixedFormatter should only be used together with FixedLocator\n",
      "  ax.set_xticklabels(ax.get_xticklabels(), rotation = 45)\n",
      "/gorilla1/code/neuralmonkey/neuralmonkey/classes/snippets.py:929: UserWarning: FixedFormatter should only be used together with FixedLocator\n",
      "  ax.set_xticklabels(x_labels, rotation = 45)\n"
     ]
    },
    {
     "name": "stdout",
     "output_type": "stream",
     "text": [
      "Plotting for chan:  384\n",
      "PLotting for (chan, bregion):  384 11_vlPFC_a\n"
     ]
    },
    {
     "name": "stderr",
     "output_type": "stream",
     "text": [
      "/gorilla1/code/neuralmonkey/neuralmonkey/classes/snippets.py:897: UserWarning: FixedFormatter should only be used together with FixedLocator\n",
      "  ax.set_xticklabels(ax.get_xticklabels(), rotation = 45)\n",
      "/gorilla1/code/neuralmonkey/neuralmonkey/classes/snippets.py:919: UserWarning: FixedFormatter should only be used together with FixedLocator\n",
      "  ax.set_xticklabels(ax.get_xticklabels(), rotation = 45)\n",
      "/gorilla1/code/neuralmonkey/neuralmonkey/classes/snippets.py:929: UserWarning: FixedFormatter should only be used together with FixedLocator\n",
      "  ax.set_xticklabels(x_labels, rotation = 45)\n"
     ]
    },
    {
     "name": "stdout",
     "output_type": "stream",
     "text": [
      "Plotting for chan:  385\n",
      "PLotting for (chan, bregion):  385 12_preSMA_p\n"
     ]
    },
    {
     "name": "stderr",
     "output_type": "stream",
     "text": [
      "/gorilla1/code/neuralmonkey/neuralmonkey/classes/snippets.py:897: UserWarning: FixedFormatter should only be used together with FixedLocator\n",
      "  ax.set_xticklabels(ax.get_xticklabels(), rotation = 45)\n",
      "/gorilla1/code/neuralmonkey/neuralmonkey/classes/snippets.py:919: UserWarning: FixedFormatter should only be used together with FixedLocator\n",
      "  ax.set_xticklabels(ax.get_xticklabels(), rotation = 45)\n",
      "/gorilla1/code/neuralmonkey/neuralmonkey/classes/snippets.py:929: UserWarning: FixedFormatter should only be used together with FixedLocator\n",
      "  ax.set_xticklabels(x_labels, rotation = 45)\n"
     ]
    },
    {
     "name": "stdout",
     "output_type": "stream",
     "text": [
      "Plotting for chan:  386\n",
      "PLotting for (chan, bregion):  386 12_preSMA_p\n"
     ]
    },
    {
     "name": "stderr",
     "output_type": "stream",
     "text": [
      "/gorilla1/code/neuralmonkey/neuralmonkey/classes/snippets.py:897: UserWarning: FixedFormatter should only be used together with FixedLocator\n",
      "  ax.set_xticklabels(ax.get_xticklabels(), rotation = 45)\n",
      "/gorilla1/code/neuralmonkey/neuralmonkey/classes/snippets.py:919: UserWarning: FixedFormatter should only be used together with FixedLocator\n",
      "  ax.set_xticklabels(ax.get_xticklabels(), rotation = 45)\n",
      "/gorilla1/code/neuralmonkey/neuralmonkey/classes/snippets.py:929: UserWarning: FixedFormatter should only be used together with FixedLocator\n",
      "  ax.set_xticklabels(x_labels, rotation = 45)\n"
     ]
    },
    {
     "name": "stdout",
     "output_type": "stream",
     "text": [
      "Plotting for chan:  387\n",
      "PLotting for (chan, bregion):  387 12_preSMA_p\n"
     ]
    },
    {
     "name": "stderr",
     "output_type": "stream",
     "text": [
      "/gorilla1/code/neuralmonkey/neuralmonkey/classes/snippets.py:897: UserWarning: FixedFormatter should only be used together with FixedLocator\n",
      "  ax.set_xticklabels(ax.get_xticklabels(), rotation = 45)\n",
      "/gorilla1/code/neuralmonkey/neuralmonkey/classes/snippets.py:919: UserWarning: FixedFormatter should only be used together with FixedLocator\n",
      "  ax.set_xticklabels(ax.get_xticklabels(), rotation = 45)\n",
      "/gorilla1/code/neuralmonkey/neuralmonkey/classes/snippets.py:929: UserWarning: FixedFormatter should only be used together with FixedLocator\n",
      "  ax.set_xticklabels(x_labels, rotation = 45)\n"
     ]
    },
    {
     "name": "stdout",
     "output_type": "stream",
     "text": [
      "Plotting for chan:  388\n",
      "PLotting for (chan, bregion):  388 12_preSMA_p\n"
     ]
    },
    {
     "name": "stderr",
     "output_type": "stream",
     "text": [
      "/gorilla1/code/neuralmonkey/neuralmonkey/classes/snippets.py:897: UserWarning: FixedFormatter should only be used together with FixedLocator\n",
      "  ax.set_xticklabels(ax.get_xticklabels(), rotation = 45)\n",
      "/gorilla1/code/neuralmonkey/neuralmonkey/classes/snippets.py:919: UserWarning: FixedFormatter should only be used together with FixedLocator\n",
      "  ax.set_xticklabels(ax.get_xticklabels(), rotation = 45)\n",
      "/gorilla1/code/neuralmonkey/neuralmonkey/classes/snippets.py:929: UserWarning: FixedFormatter should only be used together with FixedLocator\n",
      "  ax.set_xticklabels(x_labels, rotation = 45)\n"
     ]
    },
    {
     "name": "stdout",
     "output_type": "stream",
     "text": [
      "Plotting for chan:  389\n",
      "PLotting for (chan, bregion):  389 12_preSMA_p\n"
     ]
    },
    {
     "name": "stderr",
     "output_type": "stream",
     "text": [
      "/gorilla1/code/neuralmonkey/neuralmonkey/classes/snippets.py:897: UserWarning: FixedFormatter should only be used together with FixedLocator\n",
      "  ax.set_xticklabels(ax.get_xticklabels(), rotation = 45)\n",
      "/gorilla1/code/neuralmonkey/neuralmonkey/classes/snippets.py:919: UserWarning: FixedFormatter should only be used together with FixedLocator\n",
      "  ax.set_xticklabels(ax.get_xticklabels(), rotation = 45)\n",
      "/gorilla1/code/neuralmonkey/neuralmonkey/classes/snippets.py:929: UserWarning: FixedFormatter should only be used together with FixedLocator\n",
      "  ax.set_xticklabels(x_labels, rotation = 45)\n"
     ]
    },
    {
     "name": "stdout",
     "output_type": "stream",
     "text": [
      "Plotting for chan:  390\n",
      "PLotting for (chan, bregion):  390 12_preSMA_p\n"
     ]
    },
    {
     "name": "stderr",
     "output_type": "stream",
     "text": [
      "/gorilla1/code/neuralmonkey/neuralmonkey/classes/snippets.py:897: UserWarning: FixedFormatter should only be used together with FixedLocator\n",
      "  ax.set_xticklabels(ax.get_xticklabels(), rotation = 45)\n",
      "/gorilla1/code/neuralmonkey/neuralmonkey/classes/snippets.py:919: UserWarning: FixedFormatter should only be used together with FixedLocator\n",
      "  ax.set_xticklabels(ax.get_xticklabels(), rotation = 45)\n",
      "/gorilla1/code/neuralmonkey/neuralmonkey/classes/snippets.py:929: UserWarning: FixedFormatter should only be used together with FixedLocator\n",
      "  ax.set_xticklabels(x_labels, rotation = 45)\n"
     ]
    },
    {
     "name": "stdout",
     "output_type": "stream",
     "text": [
      "Plotting for chan:  391\n",
      "PLotting for (chan, bregion):  391 12_preSMA_p\n"
     ]
    },
    {
     "name": "stderr",
     "output_type": "stream",
     "text": [
      "/gorilla1/code/neuralmonkey/neuralmonkey/classes/snippets.py:897: UserWarning: FixedFormatter should only be used together with FixedLocator\n",
      "  ax.set_xticklabels(ax.get_xticklabels(), rotation = 45)\n",
      "/gorilla1/code/neuralmonkey/neuralmonkey/classes/snippets.py:919: UserWarning: FixedFormatter should only be used together with FixedLocator\n",
      "  ax.set_xticklabels(ax.get_xticklabels(), rotation = 45)\n",
      "/gorilla1/code/neuralmonkey/neuralmonkey/classes/snippets.py:929: UserWarning: FixedFormatter should only be used together with FixedLocator\n",
      "  ax.set_xticklabels(x_labels, rotation = 45)\n"
     ]
    },
    {
     "name": "stdout",
     "output_type": "stream",
     "text": [
      "Plotting for chan:  392\n",
      "PLotting for (chan, bregion):  392 12_preSMA_p\n"
     ]
    },
    {
     "name": "stderr",
     "output_type": "stream",
     "text": [
      "/gorilla1/code/neuralmonkey/neuralmonkey/classes/snippets.py:897: UserWarning: FixedFormatter should only be used together with FixedLocator\n",
      "  ax.set_xticklabels(ax.get_xticklabels(), rotation = 45)\n",
      "/gorilla1/code/neuralmonkey/neuralmonkey/classes/snippets.py:919: UserWarning: FixedFormatter should only be used together with FixedLocator\n",
      "  ax.set_xticklabels(ax.get_xticklabels(), rotation = 45)\n",
      "/gorilla1/code/neuralmonkey/neuralmonkey/classes/snippets.py:929: UserWarning: FixedFormatter should only be used together with FixedLocator\n",
      "  ax.set_xticklabels(x_labels, rotation = 45)\n"
     ]
    },
    {
     "name": "stdout",
     "output_type": "stream",
     "text": [
      "Plotting for chan:  394\n",
      "PLotting for (chan, bregion):  394 12_preSMA_p\n"
     ]
    },
    {
     "name": "stderr",
     "output_type": "stream",
     "text": [
      "/gorilla1/code/neuralmonkey/neuralmonkey/classes/snippets.py:897: UserWarning: FixedFormatter should only be used together with FixedLocator\n",
      "  ax.set_xticklabels(ax.get_xticklabels(), rotation = 45)\n",
      "/gorilla1/code/neuralmonkey/neuralmonkey/classes/snippets.py:919: UserWarning: FixedFormatter should only be used together with FixedLocator\n",
      "  ax.set_xticklabels(ax.get_xticklabels(), rotation = 45)\n",
      "/gorilla1/code/neuralmonkey/neuralmonkey/classes/snippets.py:929: UserWarning: FixedFormatter should only be used together with FixedLocator\n",
      "  ax.set_xticklabels(x_labels, rotation = 45)\n"
     ]
    },
    {
     "name": "stdout",
     "output_type": "stream",
     "text": [
      "Plotting for chan:  395\n",
      "PLotting for (chan, bregion):  395 12_preSMA_p\n"
     ]
    },
    {
     "name": "stderr",
     "output_type": "stream",
     "text": [
      "/gorilla1/code/neuralmonkey/neuralmonkey/classes/snippets.py:897: UserWarning: FixedFormatter should only be used together with FixedLocator\n",
      "  ax.set_xticklabels(ax.get_xticklabels(), rotation = 45)\n",
      "/gorilla1/code/neuralmonkey/neuralmonkey/classes/snippets.py:919: UserWarning: FixedFormatter should only be used together with FixedLocator\n",
      "  ax.set_xticklabels(ax.get_xticklabels(), rotation = 45)\n",
      "/gorilla1/code/neuralmonkey/neuralmonkey/classes/snippets.py:929: UserWarning: FixedFormatter should only be used together with FixedLocator\n",
      "  ax.set_xticklabels(x_labels, rotation = 45)\n"
     ]
    },
    {
     "name": "stdout",
     "output_type": "stream",
     "text": [
      "Plotting for chan:  396\n",
      "PLotting for (chan, bregion):  396 12_preSMA_p\n"
     ]
    },
    {
     "name": "stderr",
     "output_type": "stream",
     "text": [
      "/gorilla1/code/neuralmonkey/neuralmonkey/classes/snippets.py:897: UserWarning: FixedFormatter should only be used together with FixedLocator\n",
      "  ax.set_xticklabels(ax.get_xticklabels(), rotation = 45)\n",
      "/gorilla1/code/neuralmonkey/neuralmonkey/classes/snippets.py:919: UserWarning: FixedFormatter should only be used together with FixedLocator\n",
      "  ax.set_xticklabels(ax.get_xticklabels(), rotation = 45)\n",
      "/gorilla1/code/neuralmonkey/neuralmonkey/classes/snippets.py:929: UserWarning: FixedFormatter should only be used together with FixedLocator\n",
      "  ax.set_xticklabels(x_labels, rotation = 45)\n"
     ]
    },
    {
     "name": "stdout",
     "output_type": "stream",
     "text": [
      "Plotting for chan:  397\n",
      "PLotting for (chan, bregion):  397 12_preSMA_p\n"
     ]
    },
    {
     "name": "stderr",
     "output_type": "stream",
     "text": [
      "/gorilla1/code/neuralmonkey/neuralmonkey/classes/snippets.py:897: UserWarning: FixedFormatter should only be used together with FixedLocator\n",
      "  ax.set_xticklabels(ax.get_xticklabels(), rotation = 45)\n",
      "/gorilla1/code/neuralmonkey/neuralmonkey/classes/snippets.py:919: UserWarning: FixedFormatter should only be used together with FixedLocator\n",
      "  ax.set_xticklabels(ax.get_xticklabels(), rotation = 45)\n",
      "/gorilla1/code/neuralmonkey/neuralmonkey/classes/snippets.py:929: UserWarning: FixedFormatter should only be used together with FixedLocator\n",
      "  ax.set_xticklabels(x_labels, rotation = 45)\n"
     ]
    },
    {
     "name": "stdout",
     "output_type": "stream",
     "text": [
      "Plotting for chan:  398\n",
      "PLotting for (chan, bregion):  398 12_preSMA_p\n"
     ]
    },
    {
     "name": "stderr",
     "output_type": "stream",
     "text": [
      "/gorilla1/code/neuralmonkey/neuralmonkey/classes/snippets.py:897: UserWarning: FixedFormatter should only be used together with FixedLocator\n",
      "  ax.set_xticklabels(ax.get_xticklabels(), rotation = 45)\n",
      "/gorilla1/code/neuralmonkey/neuralmonkey/classes/snippets.py:919: UserWarning: FixedFormatter should only be used together with FixedLocator\n",
      "  ax.set_xticklabels(ax.get_xticklabels(), rotation = 45)\n",
      "/gorilla1/code/neuralmonkey/neuralmonkey/classes/snippets.py:929: UserWarning: FixedFormatter should only be used together with FixedLocator\n",
      "  ax.set_xticklabels(x_labels, rotation = 45)\n"
     ]
    },
    {
     "name": "stdout",
     "output_type": "stream",
     "text": [
      "Plotting for chan:  400\n",
      "PLotting for (chan, bregion):  400 12_preSMA_p\n"
     ]
    },
    {
     "name": "stderr",
     "output_type": "stream",
     "text": [
      "/gorilla1/code/neuralmonkey/neuralmonkey/classes/snippets.py:897: UserWarning: FixedFormatter should only be used together with FixedLocator\n",
      "  ax.set_xticklabels(ax.get_xticklabels(), rotation = 45)\n",
      "/gorilla1/code/neuralmonkey/neuralmonkey/classes/snippets.py:919: UserWarning: FixedFormatter should only be used together with FixedLocator\n",
      "  ax.set_xticklabels(ax.get_xticklabels(), rotation = 45)\n",
      "/gorilla1/code/neuralmonkey/neuralmonkey/classes/snippets.py:929: UserWarning: FixedFormatter should only be used together with FixedLocator\n",
      "  ax.set_xticklabels(x_labels, rotation = 45)\n"
     ]
    },
    {
     "name": "stdout",
     "output_type": "stream",
     "text": [
      "Plotting for chan:  401\n",
      "PLotting for (chan, bregion):  401 12_preSMA_p\n"
     ]
    },
    {
     "name": "stderr",
     "output_type": "stream",
     "text": [
      "/gorilla1/code/neuralmonkey/neuralmonkey/classes/snippets.py:897: UserWarning: FixedFormatter should only be used together with FixedLocator\n",
      "  ax.set_xticklabels(ax.get_xticklabels(), rotation = 45)\n",
      "/gorilla1/code/neuralmonkey/neuralmonkey/classes/snippets.py:919: UserWarning: FixedFormatter should only be used together with FixedLocator\n",
      "  ax.set_xticklabels(ax.get_xticklabels(), rotation = 45)\n",
      "/gorilla1/code/neuralmonkey/neuralmonkey/classes/snippets.py:929: UserWarning: FixedFormatter should only be used together with FixedLocator\n",
      "  ax.set_xticklabels(x_labels, rotation = 45)\n"
     ]
    },
    {
     "name": "stdout",
     "output_type": "stream",
     "text": [
      "Plotting for chan:  402\n",
      "PLotting for (chan, bregion):  402 12_preSMA_p\n"
     ]
    },
    {
     "name": "stderr",
     "output_type": "stream",
     "text": [
      "/gorilla1/code/neuralmonkey/neuralmonkey/classes/snippets.py:897: UserWarning: FixedFormatter should only be used together with FixedLocator\n",
      "  ax.set_xticklabels(ax.get_xticklabels(), rotation = 45)\n",
      "/gorilla1/code/neuralmonkey/neuralmonkey/classes/snippets.py:919: UserWarning: FixedFormatter should only be used together with FixedLocator\n",
      "  ax.set_xticklabels(ax.get_xticklabels(), rotation = 45)\n",
      "/gorilla1/code/neuralmonkey/neuralmonkey/classes/snippets.py:929: UserWarning: FixedFormatter should only be used together with FixedLocator\n",
      "  ax.set_xticklabels(x_labels, rotation = 45)\n"
     ]
    },
    {
     "name": "stdout",
     "output_type": "stream",
     "text": [
      "Plotting for chan:  403\n",
      "PLotting for (chan, bregion):  403 12_preSMA_p\n"
     ]
    },
    {
     "name": "stderr",
     "output_type": "stream",
     "text": [
      "/gorilla1/code/neuralmonkey/neuralmonkey/classes/snippets.py:897: UserWarning: FixedFormatter should only be used together with FixedLocator\n",
      "  ax.set_xticklabels(ax.get_xticklabels(), rotation = 45)\n",
      "/gorilla1/code/neuralmonkey/neuralmonkey/classes/snippets.py:919: UserWarning: FixedFormatter should only be used together with FixedLocator\n",
      "  ax.set_xticklabels(ax.get_xticklabels(), rotation = 45)\n",
      "/gorilla1/code/neuralmonkey/neuralmonkey/classes/snippets.py:929: UserWarning: FixedFormatter should only be used together with FixedLocator\n",
      "  ax.set_xticklabels(x_labels, rotation = 45)\n"
     ]
    },
    {
     "name": "stdout",
     "output_type": "stream",
     "text": [
      "Plotting for chan:  404\n",
      "PLotting for (chan, bregion):  404 12_preSMA_p\n"
     ]
    },
    {
     "name": "stderr",
     "output_type": "stream",
     "text": [
      "/gorilla1/code/neuralmonkey/neuralmonkey/classes/snippets.py:897: UserWarning: FixedFormatter should only be used together with FixedLocator\n",
      "  ax.set_xticklabels(ax.get_xticklabels(), rotation = 45)\n",
      "/gorilla1/code/neuralmonkey/neuralmonkey/classes/snippets.py:919: UserWarning: FixedFormatter should only be used together with FixedLocator\n",
      "  ax.set_xticklabels(ax.get_xticklabels(), rotation = 45)\n",
      "/gorilla1/code/neuralmonkey/neuralmonkey/classes/snippets.py:929: UserWarning: FixedFormatter should only be used together with FixedLocator\n",
      "  ax.set_xticklabels(x_labels, rotation = 45)\n"
     ]
    },
    {
     "name": "stdout",
     "output_type": "stream",
     "text": [
      "Plotting for chan:  405\n",
      "PLotting for (chan, bregion):  405 12_preSMA_p\n"
     ]
    },
    {
     "name": "stderr",
     "output_type": "stream",
     "text": [
      "/gorilla1/code/neuralmonkey/neuralmonkey/classes/snippets.py:897: UserWarning: FixedFormatter should only be used together with FixedLocator\n",
      "  ax.set_xticklabels(ax.get_xticklabels(), rotation = 45)\n",
      "/gorilla1/code/neuralmonkey/neuralmonkey/classes/snippets.py:919: UserWarning: FixedFormatter should only be used together with FixedLocator\n",
      "  ax.set_xticklabels(ax.get_xticklabels(), rotation = 45)\n",
      "/gorilla1/code/neuralmonkey/neuralmonkey/classes/snippets.py:929: UserWarning: FixedFormatter should only be used together with FixedLocator\n",
      "  ax.set_xticklabels(x_labels, rotation = 45)\n"
     ]
    },
    {
     "name": "stdout",
     "output_type": "stream",
     "text": [
      "Plotting for chan:  406\n",
      "PLotting for (chan, bregion):  406 12_preSMA_p\n"
     ]
    },
    {
     "name": "stderr",
     "output_type": "stream",
     "text": [
      "/gorilla1/code/neuralmonkey/neuralmonkey/classes/snippets.py:897: UserWarning: FixedFormatter should only be used together with FixedLocator\n",
      "  ax.set_xticklabels(ax.get_xticklabels(), rotation = 45)\n",
      "/gorilla1/code/neuralmonkey/neuralmonkey/classes/snippets.py:919: UserWarning: FixedFormatter should only be used together with FixedLocator\n",
      "  ax.set_xticklabels(ax.get_xticklabels(), rotation = 45)\n",
      "/gorilla1/code/neuralmonkey/neuralmonkey/classes/snippets.py:929: UserWarning: FixedFormatter should only be used together with FixedLocator\n",
      "  ax.set_xticklabels(x_labels, rotation = 45)\n"
     ]
    },
    {
     "name": "stdout",
     "output_type": "stream",
     "text": [
      "Plotting for chan:  407\n",
      "PLotting for (chan, bregion):  407 12_preSMA_p\n"
     ]
    },
    {
     "name": "stderr",
     "output_type": "stream",
     "text": [
      "/gorilla1/code/neuralmonkey/neuralmonkey/classes/snippets.py:897: UserWarning: FixedFormatter should only be used together with FixedLocator\n",
      "  ax.set_xticklabels(ax.get_xticklabels(), rotation = 45)\n",
      "/gorilla1/code/neuralmonkey/neuralmonkey/classes/snippets.py:919: UserWarning: FixedFormatter should only be used together with FixedLocator\n",
      "  ax.set_xticklabels(ax.get_xticklabels(), rotation = 45)\n",
      "/gorilla1/code/neuralmonkey/neuralmonkey/classes/snippets.py:929: UserWarning: FixedFormatter should only be used together with FixedLocator\n",
      "  ax.set_xticklabels(x_labels, rotation = 45)\n"
     ]
    },
    {
     "name": "stdout",
     "output_type": "stream",
     "text": [
      "Plotting for chan:  408\n",
      "PLotting for (chan, bregion):  408 12_preSMA_p\n"
     ]
    },
    {
     "name": "stderr",
     "output_type": "stream",
     "text": [
      "/gorilla1/code/neuralmonkey/neuralmonkey/classes/snippets.py:897: UserWarning: FixedFormatter should only be used together with FixedLocator\n",
      "  ax.set_xticklabels(ax.get_xticklabels(), rotation = 45)\n",
      "/gorilla1/code/neuralmonkey/neuralmonkey/classes/snippets.py:919: UserWarning: FixedFormatter should only be used together with FixedLocator\n",
      "  ax.set_xticklabels(ax.get_xticklabels(), rotation = 45)\n",
      "/gorilla1/code/neuralmonkey/neuralmonkey/classes/snippets.py:929: UserWarning: FixedFormatter should only be used together with FixedLocator\n",
      "  ax.set_xticklabels(x_labels, rotation = 45)\n"
     ]
    },
    {
     "name": "stdout",
     "output_type": "stream",
     "text": [
      "Plotting for chan:  409\n",
      "PLotting for (chan, bregion):  409 12_preSMA_p\n"
     ]
    },
    {
     "name": "stderr",
     "output_type": "stream",
     "text": [
      "/gorilla1/code/neuralmonkey/neuralmonkey/classes/snippets.py:897: UserWarning: FixedFormatter should only be used together with FixedLocator\n",
      "  ax.set_xticklabels(ax.get_xticklabels(), rotation = 45)\n",
      "/gorilla1/code/neuralmonkey/neuralmonkey/classes/snippets.py:919: UserWarning: FixedFormatter should only be used together with FixedLocator\n",
      "  ax.set_xticklabels(ax.get_xticklabels(), rotation = 45)\n",
      "/gorilla1/code/neuralmonkey/neuralmonkey/classes/snippets.py:929: UserWarning: FixedFormatter should only be used together with FixedLocator\n",
      "  ax.set_xticklabels(x_labels, rotation = 45)\n"
     ]
    },
    {
     "name": "stdout",
     "output_type": "stream",
     "text": [
      "Plotting for chan:  410\n",
      "PLotting for (chan, bregion):  410 12_preSMA_p\n"
     ]
    },
    {
     "name": "stderr",
     "output_type": "stream",
     "text": [
      "/gorilla1/code/neuralmonkey/neuralmonkey/classes/snippets.py:897: UserWarning: FixedFormatter should only be used together with FixedLocator\n",
      "  ax.set_xticklabels(ax.get_xticklabels(), rotation = 45)\n",
      "/gorilla1/code/neuralmonkey/neuralmonkey/classes/snippets.py:919: UserWarning: FixedFormatter should only be used together with FixedLocator\n",
      "  ax.set_xticklabels(ax.get_xticklabels(), rotation = 45)\n",
      "/gorilla1/code/neuralmonkey/neuralmonkey/classes/snippets.py:929: UserWarning: FixedFormatter should only be used together with FixedLocator\n",
      "  ax.set_xticklabels(x_labels, rotation = 45)\n"
     ]
    },
    {
     "name": "stdout",
     "output_type": "stream",
     "text": [
      "Plotting for chan:  411\n",
      "PLotting for (chan, bregion):  411 12_preSMA_p\n"
     ]
    },
    {
     "name": "stderr",
     "output_type": "stream",
     "text": [
      "/gorilla1/code/neuralmonkey/neuralmonkey/classes/snippets.py:897: UserWarning: FixedFormatter should only be used together with FixedLocator\n",
      "  ax.set_xticklabels(ax.get_xticklabels(), rotation = 45)\n",
      "/gorilla1/code/neuralmonkey/neuralmonkey/classes/snippets.py:919: UserWarning: FixedFormatter should only be used together with FixedLocator\n",
      "  ax.set_xticklabels(ax.get_xticklabels(), rotation = 45)\n",
      "/gorilla1/code/neuralmonkey/neuralmonkey/classes/snippets.py:929: UserWarning: FixedFormatter should only be used together with FixedLocator\n",
      "  ax.set_xticklabels(x_labels, rotation = 45)\n"
     ]
    },
    {
     "name": "stdout",
     "output_type": "stream",
     "text": [
      "Plotting for chan:  413\n",
      "PLotting for (chan, bregion):  413 12_preSMA_p\n"
     ]
    },
    {
     "name": "stderr",
     "output_type": "stream",
     "text": [
      "/gorilla1/code/neuralmonkey/neuralmonkey/classes/snippets.py:897: UserWarning: FixedFormatter should only be used together with FixedLocator\n",
      "  ax.set_xticklabels(ax.get_xticklabels(), rotation = 45)\n",
      "/gorilla1/code/neuralmonkey/neuralmonkey/classes/snippets.py:919: UserWarning: FixedFormatter should only be used together with FixedLocator\n",
      "  ax.set_xticklabels(ax.get_xticklabels(), rotation = 45)\n",
      "/gorilla1/code/neuralmonkey/neuralmonkey/classes/snippets.py:929: UserWarning: FixedFormatter should only be used together with FixedLocator\n",
      "  ax.set_xticklabels(x_labels, rotation = 45)\n"
     ]
    },
    {
     "name": "stdout",
     "output_type": "stream",
     "text": [
      "Plotting for chan:  414\n",
      "PLotting for (chan, bregion):  414 12_preSMA_p\n"
     ]
    },
    {
     "name": "stderr",
     "output_type": "stream",
     "text": [
      "/gorilla1/code/neuralmonkey/neuralmonkey/classes/snippets.py:897: UserWarning: FixedFormatter should only be used together with FixedLocator\n",
      "  ax.set_xticklabels(ax.get_xticklabels(), rotation = 45)\n",
      "/gorilla1/code/neuralmonkey/neuralmonkey/classes/snippets.py:919: UserWarning: FixedFormatter should only be used together with FixedLocator\n",
      "  ax.set_xticklabels(ax.get_xticklabels(), rotation = 45)\n",
      "/gorilla1/code/neuralmonkey/neuralmonkey/classes/snippets.py:929: UserWarning: FixedFormatter should only be used together with FixedLocator\n",
      "  ax.set_xticklabels(x_labels, rotation = 45)\n"
     ]
    },
    {
     "name": "stdout",
     "output_type": "stream",
     "text": [
      "Plotting for chan:  415\n",
      "PLotting for (chan, bregion):  415 12_preSMA_p\n"
     ]
    },
    {
     "name": "stderr",
     "output_type": "stream",
     "text": [
      "/gorilla1/code/neuralmonkey/neuralmonkey/classes/snippets.py:897: UserWarning: FixedFormatter should only be used together with FixedLocator\n",
      "  ax.set_xticklabels(ax.get_xticklabels(), rotation = 45)\n",
      "/gorilla1/code/neuralmonkey/neuralmonkey/classes/snippets.py:919: UserWarning: FixedFormatter should only be used together with FixedLocator\n",
      "  ax.set_xticklabels(ax.get_xticklabels(), rotation = 45)\n",
      "/gorilla1/code/neuralmonkey/neuralmonkey/classes/snippets.py:929: UserWarning: FixedFormatter should only be used together with FixedLocator\n",
      "  ax.set_xticklabels(x_labels, rotation = 45)\n"
     ]
    },
    {
     "name": "stdout",
     "output_type": "stream",
     "text": [
      "Plotting for chan:  417\n",
      "PLotting for (chan, bregion):  417 13_preSMA_a\n"
     ]
    },
    {
     "name": "stderr",
     "output_type": "stream",
     "text": [
      "/gorilla1/code/neuralmonkey/neuralmonkey/classes/snippets.py:897: UserWarning: FixedFormatter should only be used together with FixedLocator\n",
      "  ax.set_xticklabels(ax.get_xticklabels(), rotation = 45)\n",
      "/gorilla1/code/neuralmonkey/neuralmonkey/classes/snippets.py:919: UserWarning: FixedFormatter should only be used together with FixedLocator\n",
      "  ax.set_xticklabels(ax.get_xticklabels(), rotation = 45)\n",
      "/gorilla1/code/neuralmonkey/neuralmonkey/classes/snippets.py:929: UserWarning: FixedFormatter should only be used together with FixedLocator\n",
      "  ax.set_xticklabels(x_labels, rotation = 45)\n"
     ]
    },
    {
     "name": "stdout",
     "output_type": "stream",
     "text": [
      "Plotting for chan:  418\n",
      "PLotting for (chan, bregion):  418 13_preSMA_a\n"
     ]
    },
    {
     "name": "stderr",
     "output_type": "stream",
     "text": [
      "/gorilla1/code/neuralmonkey/neuralmonkey/classes/snippets.py:897: UserWarning: FixedFormatter should only be used together with FixedLocator\n",
      "  ax.set_xticklabels(ax.get_xticklabels(), rotation = 45)\n",
      "/gorilla1/code/neuralmonkey/neuralmonkey/classes/snippets.py:919: UserWarning: FixedFormatter should only be used together with FixedLocator\n",
      "  ax.set_xticklabels(ax.get_xticklabels(), rotation = 45)\n",
      "/gorilla1/code/neuralmonkey/neuralmonkey/classes/snippets.py:929: UserWarning: FixedFormatter should only be used together with FixedLocator\n",
      "  ax.set_xticklabels(x_labels, rotation = 45)\n"
     ]
    },
    {
     "name": "stdout",
     "output_type": "stream",
     "text": [
      "Plotting for chan:  419\n",
      "PLotting for (chan, bregion):  419 13_preSMA_a\n"
     ]
    },
    {
     "name": "stderr",
     "output_type": "stream",
     "text": [
      "/gorilla1/code/neuralmonkey/neuralmonkey/classes/snippets.py:897: UserWarning: FixedFormatter should only be used together with FixedLocator\n",
      "  ax.set_xticklabels(ax.get_xticklabels(), rotation = 45)\n",
      "/gorilla1/code/neuralmonkey/neuralmonkey/classes/snippets.py:919: UserWarning: FixedFormatter should only be used together with FixedLocator\n",
      "  ax.set_xticklabels(ax.get_xticklabels(), rotation = 45)\n",
      "/gorilla1/code/neuralmonkey/neuralmonkey/classes/snippets.py:929: UserWarning: FixedFormatter should only be used together with FixedLocator\n",
      "  ax.set_xticklabels(x_labels, rotation = 45)\n"
     ]
    },
    {
     "name": "stdout",
     "output_type": "stream",
     "text": [
      "Plotting for chan:  420\n",
      "PLotting for (chan, bregion):  420 13_preSMA_a\n"
     ]
    },
    {
     "name": "stderr",
     "output_type": "stream",
     "text": [
      "/gorilla1/code/neuralmonkey/neuralmonkey/classes/snippets.py:897: UserWarning: FixedFormatter should only be used together with FixedLocator\n",
      "  ax.set_xticklabels(ax.get_xticklabels(), rotation = 45)\n",
      "/gorilla1/code/neuralmonkey/neuralmonkey/classes/snippets.py:919: UserWarning: FixedFormatter should only be used together with FixedLocator\n",
      "  ax.set_xticklabels(ax.get_xticklabels(), rotation = 45)\n",
      "/gorilla1/code/neuralmonkey/neuralmonkey/classes/snippets.py:929: UserWarning: FixedFormatter should only be used together with FixedLocator\n",
      "  ax.set_xticklabels(x_labels, rotation = 45)\n"
     ]
    },
    {
     "name": "stdout",
     "output_type": "stream",
     "text": [
      "Plotting for chan:  421\n",
      "PLotting for (chan, bregion):  421 13_preSMA_a\n"
     ]
    },
    {
     "name": "stderr",
     "output_type": "stream",
     "text": [
      "/gorilla1/code/neuralmonkey/neuralmonkey/classes/snippets.py:897: UserWarning: FixedFormatter should only be used together with FixedLocator\n",
      "  ax.set_xticklabels(ax.get_xticklabels(), rotation = 45)\n",
      "/gorilla1/code/neuralmonkey/neuralmonkey/classes/snippets.py:919: UserWarning: FixedFormatter should only be used together with FixedLocator\n",
      "  ax.set_xticklabels(ax.get_xticklabels(), rotation = 45)\n",
      "/gorilla1/code/neuralmonkey/neuralmonkey/classes/snippets.py:929: UserWarning: FixedFormatter should only be used together with FixedLocator\n",
      "  ax.set_xticklabels(x_labels, rotation = 45)\n"
     ]
    },
    {
     "name": "stdout",
     "output_type": "stream",
     "text": [
      "Plotting for chan:  422\n",
      "PLotting for (chan, bregion):  422 13_preSMA_a\n"
     ]
    },
    {
     "name": "stderr",
     "output_type": "stream",
     "text": [
      "/gorilla1/code/neuralmonkey/neuralmonkey/classes/snippets.py:897: UserWarning: FixedFormatter should only be used together with FixedLocator\n",
      "  ax.set_xticklabels(ax.get_xticklabels(), rotation = 45)\n",
      "/gorilla1/code/neuralmonkey/neuralmonkey/classes/snippets.py:919: UserWarning: FixedFormatter should only be used together with FixedLocator\n",
      "  ax.set_xticklabels(ax.get_xticklabels(), rotation = 45)\n",
      "/gorilla1/code/neuralmonkey/neuralmonkey/classes/snippets.py:929: UserWarning: FixedFormatter should only be used together with FixedLocator\n",
      "  ax.set_xticklabels(x_labels, rotation = 45)\n"
     ]
    },
    {
     "name": "stdout",
     "output_type": "stream",
     "text": [
      "Plotting for chan:  423\n",
      "PLotting for (chan, bregion):  423 13_preSMA_a\n"
     ]
    },
    {
     "name": "stderr",
     "output_type": "stream",
     "text": [
      "/gorilla1/code/neuralmonkey/neuralmonkey/classes/snippets.py:897: UserWarning: FixedFormatter should only be used together with FixedLocator\n",
      "  ax.set_xticklabels(ax.get_xticklabels(), rotation = 45)\n",
      "/gorilla1/code/neuralmonkey/neuralmonkey/classes/snippets.py:919: UserWarning: FixedFormatter should only be used together with FixedLocator\n",
      "  ax.set_xticklabels(ax.get_xticklabels(), rotation = 45)\n",
      "/gorilla1/code/neuralmonkey/neuralmonkey/classes/snippets.py:929: UserWarning: FixedFormatter should only be used together with FixedLocator\n",
      "  ax.set_xticklabels(x_labels, rotation = 45)\n"
     ]
    },
    {
     "name": "stdout",
     "output_type": "stream",
     "text": [
      "Plotting for chan:  425\n",
      "PLotting for (chan, bregion):  425 13_preSMA_a\n"
     ]
    },
    {
     "name": "stderr",
     "output_type": "stream",
     "text": [
      "/gorilla1/code/neuralmonkey/neuralmonkey/classes/snippets.py:897: UserWarning: FixedFormatter should only be used together with FixedLocator\n",
      "  ax.set_xticklabels(ax.get_xticklabels(), rotation = 45)\n",
      "/gorilla1/code/neuralmonkey/neuralmonkey/classes/snippets.py:919: UserWarning: FixedFormatter should only be used together with FixedLocator\n",
      "  ax.set_xticklabels(ax.get_xticklabels(), rotation = 45)\n",
      "/gorilla1/code/neuralmonkey/neuralmonkey/classes/snippets.py:929: UserWarning: FixedFormatter should only be used together with FixedLocator\n",
      "  ax.set_xticklabels(x_labels, rotation = 45)\n"
     ]
    },
    {
     "name": "stdout",
     "output_type": "stream",
     "text": [
      "Plotting for chan:  426\n",
      "PLotting for (chan, bregion):  426 13_preSMA_a\n"
     ]
    },
    {
     "name": "stderr",
     "output_type": "stream",
     "text": [
      "/gorilla1/code/neuralmonkey/neuralmonkey/classes/snippets.py:897: UserWarning: FixedFormatter should only be used together with FixedLocator\n",
      "  ax.set_xticklabels(ax.get_xticklabels(), rotation = 45)\n",
      "/gorilla1/code/neuralmonkey/neuralmonkey/classes/snippets.py:919: UserWarning: FixedFormatter should only be used together with FixedLocator\n",
      "  ax.set_xticklabels(ax.get_xticklabels(), rotation = 45)\n",
      "/gorilla1/code/neuralmonkey/neuralmonkey/classes/snippets.py:929: UserWarning: FixedFormatter should only be used together with FixedLocator\n",
      "  ax.set_xticklabels(x_labels, rotation = 45)\n"
     ]
    },
    {
     "name": "stdout",
     "output_type": "stream",
     "text": [
      "Plotting for chan:  427\n",
      "PLotting for (chan, bregion):  427 13_preSMA_a\n"
     ]
    },
    {
     "name": "stderr",
     "output_type": "stream",
     "text": [
      "/gorilla1/code/neuralmonkey/neuralmonkey/classes/snippets.py:897: UserWarning: FixedFormatter should only be used together with FixedLocator\n",
      "  ax.set_xticklabels(ax.get_xticklabels(), rotation = 45)\n",
      "/gorilla1/code/neuralmonkey/neuralmonkey/classes/snippets.py:919: UserWarning: FixedFormatter should only be used together with FixedLocator\n",
      "  ax.set_xticklabels(ax.get_xticklabels(), rotation = 45)\n",
      "/gorilla1/code/neuralmonkey/neuralmonkey/classes/snippets.py:929: UserWarning: FixedFormatter should only be used together with FixedLocator\n",
      "  ax.set_xticklabels(x_labels, rotation = 45)\n"
     ]
    },
    {
     "name": "stdout",
     "output_type": "stream",
     "text": [
      "Plotting for chan:  428\n",
      "PLotting for (chan, bregion):  428 13_preSMA_a\n"
     ]
    },
    {
     "name": "stderr",
     "output_type": "stream",
     "text": [
      "/gorilla1/code/neuralmonkey/neuralmonkey/classes/snippets.py:897: UserWarning: FixedFormatter should only be used together with FixedLocator\n",
      "  ax.set_xticklabels(ax.get_xticklabels(), rotation = 45)\n",
      "/gorilla1/code/neuralmonkey/neuralmonkey/classes/snippets.py:919: UserWarning: FixedFormatter should only be used together with FixedLocator\n",
      "  ax.set_xticklabels(ax.get_xticklabels(), rotation = 45)\n",
      "/gorilla1/code/neuralmonkey/neuralmonkey/classes/snippets.py:929: UserWarning: FixedFormatter should only be used together with FixedLocator\n",
      "  ax.set_xticklabels(x_labels, rotation = 45)\n"
     ]
    },
    {
     "name": "stdout",
     "output_type": "stream",
     "text": [
      "Plotting for chan:  429\n",
      "PLotting for (chan, bregion):  429 13_preSMA_a\n"
     ]
    },
    {
     "name": "stderr",
     "output_type": "stream",
     "text": [
      "/gorilla1/code/neuralmonkey/neuralmonkey/classes/snippets.py:897: UserWarning: FixedFormatter should only be used together with FixedLocator\n",
      "  ax.set_xticklabels(ax.get_xticklabels(), rotation = 45)\n",
      "/gorilla1/code/neuralmonkey/neuralmonkey/classes/snippets.py:919: UserWarning: FixedFormatter should only be used together with FixedLocator\n",
      "  ax.set_xticklabels(ax.get_xticklabels(), rotation = 45)\n",
      "/gorilla1/code/neuralmonkey/neuralmonkey/classes/snippets.py:929: UserWarning: FixedFormatter should only be used together with FixedLocator\n",
      "  ax.set_xticklabels(x_labels, rotation = 45)\n"
     ]
    },
    {
     "name": "stdout",
     "output_type": "stream",
     "text": [
      "Plotting for chan:  430\n",
      "PLotting for (chan, bregion):  430 13_preSMA_a\n"
     ]
    },
    {
     "name": "stderr",
     "output_type": "stream",
     "text": [
      "/gorilla1/code/neuralmonkey/neuralmonkey/classes/snippets.py:897: UserWarning: FixedFormatter should only be used together with FixedLocator\n",
      "  ax.set_xticklabels(ax.get_xticklabels(), rotation = 45)\n",
      "/gorilla1/code/neuralmonkey/neuralmonkey/classes/snippets.py:919: UserWarning: FixedFormatter should only be used together with FixedLocator\n",
      "  ax.set_xticklabels(ax.get_xticklabels(), rotation = 45)\n",
      "/gorilla1/code/neuralmonkey/neuralmonkey/classes/snippets.py:929: UserWarning: FixedFormatter should only be used together with FixedLocator\n",
      "  ax.set_xticklabels(x_labels, rotation = 45)\n"
     ]
    },
    {
     "name": "stdout",
     "output_type": "stream",
     "text": [
      "Plotting for chan:  431\n",
      "PLotting for (chan, bregion):  431 13_preSMA_a\n"
     ]
    },
    {
     "name": "stderr",
     "output_type": "stream",
     "text": [
      "/gorilla1/code/neuralmonkey/neuralmonkey/classes/snippets.py:897: UserWarning: FixedFormatter should only be used together with FixedLocator\n",
      "  ax.set_xticklabels(ax.get_xticklabels(), rotation = 45)\n",
      "/gorilla1/code/neuralmonkey/neuralmonkey/classes/snippets.py:919: UserWarning: FixedFormatter should only be used together with FixedLocator\n",
      "  ax.set_xticklabels(ax.get_xticklabels(), rotation = 45)\n",
      "/gorilla1/code/neuralmonkey/neuralmonkey/classes/snippets.py:929: UserWarning: FixedFormatter should only be used together with FixedLocator\n",
      "  ax.set_xticklabels(x_labels, rotation = 45)\n"
     ]
    },
    {
     "name": "stdout",
     "output_type": "stream",
     "text": [
      "Plotting for chan:  432\n",
      "PLotting for (chan, bregion):  432 13_preSMA_a\n"
     ]
    },
    {
     "name": "stderr",
     "output_type": "stream",
     "text": [
      "/gorilla1/code/neuralmonkey/neuralmonkey/classes/snippets.py:897: UserWarning: FixedFormatter should only be used together with FixedLocator\n",
      "  ax.set_xticklabels(ax.get_xticklabels(), rotation = 45)\n",
      "/gorilla1/code/neuralmonkey/neuralmonkey/classes/snippets.py:919: UserWarning: FixedFormatter should only be used together with FixedLocator\n",
      "  ax.set_xticklabels(ax.get_xticklabels(), rotation = 45)\n",
      "/gorilla1/code/neuralmonkey/neuralmonkey/classes/snippets.py:929: UserWarning: FixedFormatter should only be used together with FixedLocator\n",
      "  ax.set_xticklabels(x_labels, rotation = 45)\n"
     ]
    },
    {
     "name": "stdout",
     "output_type": "stream",
     "text": [
      "Plotting for chan:  433\n",
      "PLotting for (chan, bregion):  433 13_preSMA_a\n"
     ]
    },
    {
     "name": "stderr",
     "output_type": "stream",
     "text": [
      "/gorilla1/code/neuralmonkey/neuralmonkey/classes/snippets.py:897: UserWarning: FixedFormatter should only be used together with FixedLocator\n",
      "  ax.set_xticklabels(ax.get_xticklabels(), rotation = 45)\n",
      "/gorilla1/code/neuralmonkey/neuralmonkey/classes/snippets.py:919: UserWarning: FixedFormatter should only be used together with FixedLocator\n",
      "  ax.set_xticklabels(ax.get_xticklabels(), rotation = 45)\n",
      "/gorilla1/code/neuralmonkey/neuralmonkey/classes/snippets.py:929: UserWarning: FixedFormatter should only be used together with FixedLocator\n",
      "  ax.set_xticklabels(x_labels, rotation = 45)\n"
     ]
    },
    {
     "name": "stdout",
     "output_type": "stream",
     "text": [
      "Plotting for chan:  434\n",
      "PLotting for (chan, bregion):  434 13_preSMA_a\n"
     ]
    },
    {
     "name": "stderr",
     "output_type": "stream",
     "text": [
      "/gorilla1/code/neuralmonkey/neuralmonkey/classes/snippets.py:897: UserWarning: FixedFormatter should only be used together with FixedLocator\n",
      "  ax.set_xticklabels(ax.get_xticklabels(), rotation = 45)\n",
      "/gorilla1/code/neuralmonkey/neuralmonkey/classes/snippets.py:919: UserWarning: FixedFormatter should only be used together with FixedLocator\n",
      "  ax.set_xticklabels(ax.get_xticklabels(), rotation = 45)\n",
      "/gorilla1/code/neuralmonkey/neuralmonkey/classes/snippets.py:929: UserWarning: FixedFormatter should only be used together with FixedLocator\n",
      "  ax.set_xticklabels(x_labels, rotation = 45)\n"
     ]
    },
    {
     "name": "stdout",
     "output_type": "stream",
     "text": [
      "Plotting for chan:  435\n",
      "PLotting for (chan, bregion):  435 13_preSMA_a\n"
     ]
    },
    {
     "name": "stderr",
     "output_type": "stream",
     "text": [
      "/gorilla1/code/neuralmonkey/neuralmonkey/classes/snippets.py:897: UserWarning: FixedFormatter should only be used together with FixedLocator\n",
      "  ax.set_xticklabels(ax.get_xticklabels(), rotation = 45)\n",
      "/gorilla1/code/neuralmonkey/neuralmonkey/classes/snippets.py:919: UserWarning: FixedFormatter should only be used together with FixedLocator\n",
      "  ax.set_xticklabels(ax.get_xticklabels(), rotation = 45)\n",
      "/gorilla1/code/neuralmonkey/neuralmonkey/classes/snippets.py:929: UserWarning: FixedFormatter should only be used together with FixedLocator\n",
      "  ax.set_xticklabels(x_labels, rotation = 45)\n"
     ]
    },
    {
     "name": "stdout",
     "output_type": "stream",
     "text": [
      "Plotting for chan:  436\n",
      "PLotting for (chan, bregion):  436 13_preSMA_a\n"
     ]
    },
    {
     "name": "stderr",
     "output_type": "stream",
     "text": [
      "/gorilla1/code/neuralmonkey/neuralmonkey/classes/snippets.py:897: UserWarning: FixedFormatter should only be used together with FixedLocator\n",
      "  ax.set_xticklabels(ax.get_xticklabels(), rotation = 45)\n",
      "/gorilla1/code/neuralmonkey/neuralmonkey/classes/snippets.py:919: UserWarning: FixedFormatter should only be used together with FixedLocator\n",
      "  ax.set_xticklabels(ax.get_xticklabels(), rotation = 45)\n",
      "/gorilla1/code/neuralmonkey/neuralmonkey/classes/snippets.py:929: UserWarning: FixedFormatter should only be used together with FixedLocator\n",
      "  ax.set_xticklabels(x_labels, rotation = 45)\n"
     ]
    },
    {
     "name": "stdout",
     "output_type": "stream",
     "text": [
      "Plotting for chan:  437\n",
      "PLotting for (chan, bregion):  437 13_preSMA_a\n"
     ]
    },
    {
     "name": "stderr",
     "output_type": "stream",
     "text": [
      "/gorilla1/code/neuralmonkey/neuralmonkey/classes/snippets.py:897: UserWarning: FixedFormatter should only be used together with FixedLocator\n",
      "  ax.set_xticklabels(ax.get_xticklabels(), rotation = 45)\n",
      "/gorilla1/code/neuralmonkey/neuralmonkey/classes/snippets.py:919: UserWarning: FixedFormatter should only be used together with FixedLocator\n",
      "  ax.set_xticklabels(ax.get_xticklabels(), rotation = 45)\n",
      "/gorilla1/code/neuralmonkey/neuralmonkey/classes/snippets.py:929: UserWarning: FixedFormatter should only be used together with FixedLocator\n",
      "  ax.set_xticklabels(x_labels, rotation = 45)\n"
     ]
    },
    {
     "name": "stdout",
     "output_type": "stream",
     "text": [
      "Plotting for chan:  438\n",
      "PLotting for (chan, bregion):  438 13_preSMA_a\n"
     ]
    },
    {
     "name": "stderr",
     "output_type": "stream",
     "text": [
      "/gorilla1/code/neuralmonkey/neuralmonkey/classes/snippets.py:897: UserWarning: FixedFormatter should only be used together with FixedLocator\n",
      "  ax.set_xticklabels(ax.get_xticklabels(), rotation = 45)\n",
      "/gorilla1/code/neuralmonkey/neuralmonkey/classes/snippets.py:919: UserWarning: FixedFormatter should only be used together with FixedLocator\n",
      "  ax.set_xticklabels(ax.get_xticklabels(), rotation = 45)\n",
      "/gorilla1/code/neuralmonkey/neuralmonkey/classes/snippets.py:929: UserWarning: FixedFormatter should only be used together with FixedLocator\n",
      "  ax.set_xticklabels(x_labels, rotation = 45)\n"
     ]
    },
    {
     "name": "stdout",
     "output_type": "stream",
     "text": [
      "Plotting for chan:  439\n",
      "PLotting for (chan, bregion):  439 13_preSMA_a\n"
     ]
    },
    {
     "name": "stderr",
     "output_type": "stream",
     "text": [
      "/gorilla1/code/neuralmonkey/neuralmonkey/classes/snippets.py:897: UserWarning: FixedFormatter should only be used together with FixedLocator\n",
      "  ax.set_xticklabels(ax.get_xticklabels(), rotation = 45)\n",
      "/gorilla1/code/neuralmonkey/neuralmonkey/classes/snippets.py:919: UserWarning: FixedFormatter should only be used together with FixedLocator\n",
      "  ax.set_xticklabels(ax.get_xticklabels(), rotation = 45)\n",
      "/gorilla1/code/neuralmonkey/neuralmonkey/classes/snippets.py:929: UserWarning: FixedFormatter should only be used together with FixedLocator\n",
      "  ax.set_xticklabels(x_labels, rotation = 45)\n"
     ]
    },
    {
     "name": "stdout",
     "output_type": "stream",
     "text": [
      "Plotting for chan:  442\n",
      "PLotting for (chan, bregion):  442 13_preSMA_a\n"
     ]
    },
    {
     "name": "stderr",
     "output_type": "stream",
     "text": [
      "/gorilla1/code/neuralmonkey/neuralmonkey/classes/snippets.py:897: UserWarning: FixedFormatter should only be used together with FixedLocator\n",
      "  ax.set_xticklabels(ax.get_xticklabels(), rotation = 45)\n",
      "/gorilla1/code/neuralmonkey/neuralmonkey/classes/snippets.py:919: UserWarning: FixedFormatter should only be used together with FixedLocator\n",
      "  ax.set_xticklabels(ax.get_xticklabels(), rotation = 45)\n",
      "/gorilla1/code/neuralmonkey/neuralmonkey/classes/snippets.py:929: UserWarning: FixedFormatter should only be used together with FixedLocator\n",
      "  ax.set_xticklabels(x_labels, rotation = 45)\n"
     ]
    },
    {
     "name": "stdout",
     "output_type": "stream",
     "text": [
      "Plotting for chan:  443\n",
      "PLotting for (chan, bregion):  443 13_preSMA_a\n"
     ]
    },
    {
     "name": "stderr",
     "output_type": "stream",
     "text": [
      "/gorilla1/code/neuralmonkey/neuralmonkey/classes/snippets.py:897: UserWarning: FixedFormatter should only be used together with FixedLocator\n",
      "  ax.set_xticklabels(ax.get_xticklabels(), rotation = 45)\n",
      "/gorilla1/code/neuralmonkey/neuralmonkey/classes/snippets.py:919: UserWarning: FixedFormatter should only be used together with FixedLocator\n",
      "  ax.set_xticklabels(ax.get_xticklabels(), rotation = 45)\n",
      "/gorilla1/code/neuralmonkey/neuralmonkey/classes/snippets.py:929: UserWarning: FixedFormatter should only be used together with FixedLocator\n",
      "  ax.set_xticklabels(x_labels, rotation = 45)\n"
     ]
    },
    {
     "name": "stdout",
     "output_type": "stream",
     "text": [
      "Plotting for chan:  444\n",
      "PLotting for (chan, bregion):  444 13_preSMA_a\n"
     ]
    },
    {
     "name": "stderr",
     "output_type": "stream",
     "text": [
      "/gorilla1/code/neuralmonkey/neuralmonkey/classes/snippets.py:897: UserWarning: FixedFormatter should only be used together with FixedLocator\n",
      "  ax.set_xticklabels(ax.get_xticklabels(), rotation = 45)\n",
      "/gorilla1/code/neuralmonkey/neuralmonkey/classes/snippets.py:919: UserWarning: FixedFormatter should only be used together with FixedLocator\n",
      "  ax.set_xticklabels(ax.get_xticklabels(), rotation = 45)\n",
      "/gorilla1/code/neuralmonkey/neuralmonkey/classes/snippets.py:929: UserWarning: FixedFormatter should only be used together with FixedLocator\n",
      "  ax.set_xticklabels(x_labels, rotation = 45)\n"
     ]
    },
    {
     "name": "stdout",
     "output_type": "stream",
     "text": [
      "Plotting for chan:  445\n",
      "PLotting for (chan, bregion):  445 13_preSMA_a\n"
     ]
    },
    {
     "name": "stderr",
     "output_type": "stream",
     "text": [
      "/gorilla1/code/neuralmonkey/neuralmonkey/classes/snippets.py:897: UserWarning: FixedFormatter should only be used together with FixedLocator\n",
      "  ax.set_xticklabels(ax.get_xticklabels(), rotation = 45)\n",
      "/gorilla1/code/neuralmonkey/neuralmonkey/classes/snippets.py:919: UserWarning: FixedFormatter should only be used together with FixedLocator\n",
      "  ax.set_xticklabels(ax.get_xticklabels(), rotation = 45)\n",
      "/gorilla1/code/neuralmonkey/neuralmonkey/classes/snippets.py:929: UserWarning: FixedFormatter should only be used together with FixedLocator\n",
      "  ax.set_xticklabels(x_labels, rotation = 45)\n"
     ]
    },
    {
     "name": "stdout",
     "output_type": "stream",
     "text": [
      "Plotting for chan:  446\n",
      "PLotting for (chan, bregion):  446 13_preSMA_a\n"
     ]
    },
    {
     "name": "stderr",
     "output_type": "stream",
     "text": [
      "/gorilla1/code/neuralmonkey/neuralmonkey/classes/snippets.py:897: UserWarning: FixedFormatter should only be used together with FixedLocator\n",
      "  ax.set_xticklabels(ax.get_xticklabels(), rotation = 45)\n",
      "/gorilla1/code/neuralmonkey/neuralmonkey/classes/snippets.py:919: UserWarning: FixedFormatter should only be used together with FixedLocator\n",
      "  ax.set_xticklabels(ax.get_xticklabels(), rotation = 45)\n",
      "/gorilla1/code/neuralmonkey/neuralmonkey/classes/snippets.py:929: UserWarning: FixedFormatter should only be used together with FixedLocator\n",
      "  ax.set_xticklabels(x_labels, rotation = 45)\n"
     ]
    },
    {
     "name": "stdout",
     "output_type": "stream",
     "text": [
      "Plotting for chan:  447\n",
      "PLotting for (chan, bregion):  447 13_preSMA_a\n"
     ]
    },
    {
     "name": "stderr",
     "output_type": "stream",
     "text": [
      "/gorilla1/code/neuralmonkey/neuralmonkey/classes/snippets.py:897: UserWarning: FixedFormatter should only be used together with FixedLocator\n",
      "  ax.set_xticklabels(ax.get_xticklabels(), rotation = 45)\n",
      "/gorilla1/code/neuralmonkey/neuralmonkey/classes/snippets.py:919: UserWarning: FixedFormatter should only be used together with FixedLocator\n",
      "  ax.set_xticklabels(ax.get_xticklabels(), rotation = 45)\n",
      "/gorilla1/code/neuralmonkey/neuralmonkey/classes/snippets.py:929: UserWarning: FixedFormatter should only be used together with FixedLocator\n",
      "  ax.set_xticklabels(x_labels, rotation = 45)\n"
     ]
    },
    {
     "name": "stdout",
     "output_type": "stream",
     "text": [
      "Plotting for chan:  448\n",
      "PLotting for (chan, bregion):  448 13_preSMA_a\n"
     ]
    },
    {
     "name": "stderr",
     "output_type": "stream",
     "text": [
      "/gorilla1/code/neuralmonkey/neuralmonkey/classes/snippets.py:897: UserWarning: FixedFormatter should only be used together with FixedLocator\n",
      "  ax.set_xticklabels(ax.get_xticklabels(), rotation = 45)\n",
      "/gorilla1/code/neuralmonkey/neuralmonkey/classes/snippets.py:919: UserWarning: FixedFormatter should only be used together with FixedLocator\n",
      "  ax.set_xticklabels(ax.get_xticklabels(), rotation = 45)\n",
      "/gorilla1/code/neuralmonkey/neuralmonkey/classes/snippets.py:929: UserWarning: FixedFormatter should only be used together with FixedLocator\n",
      "  ax.set_xticklabels(x_labels, rotation = 45)\n"
     ]
    },
    {
     "name": "stdout",
     "output_type": "stream",
     "text": [
      "Plotting for chan:  449\n",
      "PLotting for (chan, bregion):  449 14_FP_p\n"
     ]
    },
    {
     "name": "stderr",
     "output_type": "stream",
     "text": [
      "/gorilla1/code/neuralmonkey/neuralmonkey/classes/snippets.py:897: UserWarning: FixedFormatter should only be used together with FixedLocator\n",
      "  ax.set_xticklabels(ax.get_xticklabels(), rotation = 45)\n",
      "/gorilla1/code/neuralmonkey/neuralmonkey/classes/snippets.py:919: UserWarning: FixedFormatter should only be used together with FixedLocator\n",
      "  ax.set_xticklabels(ax.get_xticklabels(), rotation = 45)\n",
      "/gorilla1/code/neuralmonkey/neuralmonkey/classes/snippets.py:929: UserWarning: FixedFormatter should only be used together with FixedLocator\n",
      "  ax.set_xticklabels(x_labels, rotation = 45)\n"
     ]
    },
    {
     "name": "stdout",
     "output_type": "stream",
     "text": [
      "Plotting for chan:  450\n",
      "PLotting for (chan, bregion):  450 14_FP_p\n"
     ]
    },
    {
     "name": "stderr",
     "output_type": "stream",
     "text": [
      "/gorilla1/code/neuralmonkey/neuralmonkey/classes/snippets.py:897: UserWarning: FixedFormatter should only be used together with FixedLocator\n",
      "  ax.set_xticklabels(ax.get_xticklabels(), rotation = 45)\n",
      "/gorilla1/code/neuralmonkey/neuralmonkey/classes/snippets.py:919: UserWarning: FixedFormatter should only be used together with FixedLocator\n",
      "  ax.set_xticklabels(ax.get_xticklabels(), rotation = 45)\n",
      "/gorilla1/code/neuralmonkey/neuralmonkey/classes/snippets.py:929: UserWarning: FixedFormatter should only be used together with FixedLocator\n",
      "  ax.set_xticklabels(x_labels, rotation = 45)\n"
     ]
    },
    {
     "name": "stdout",
     "output_type": "stream",
     "text": [
      "Plotting for chan:  451\n",
      "PLotting for (chan, bregion):  451 14_FP_p\n"
     ]
    },
    {
     "name": "stderr",
     "output_type": "stream",
     "text": [
      "/gorilla1/code/neuralmonkey/neuralmonkey/classes/snippets.py:897: UserWarning: FixedFormatter should only be used together with FixedLocator\n",
      "  ax.set_xticklabels(ax.get_xticklabels(), rotation = 45)\n",
      "/gorilla1/code/neuralmonkey/neuralmonkey/classes/snippets.py:919: UserWarning: FixedFormatter should only be used together with FixedLocator\n",
      "  ax.set_xticklabels(ax.get_xticklabels(), rotation = 45)\n",
      "/gorilla1/code/neuralmonkey/neuralmonkey/classes/snippets.py:929: UserWarning: FixedFormatter should only be used together with FixedLocator\n",
      "  ax.set_xticklabels(x_labels, rotation = 45)\n"
     ]
    },
    {
     "name": "stdout",
     "output_type": "stream",
     "text": [
      "Plotting for chan:  452\n",
      "PLotting for (chan, bregion):  452 14_FP_p\n"
     ]
    },
    {
     "name": "stderr",
     "output_type": "stream",
     "text": [
      "/gorilla1/code/neuralmonkey/neuralmonkey/classes/snippets.py:897: UserWarning: FixedFormatter should only be used together with FixedLocator\n",
      "  ax.set_xticklabels(ax.get_xticklabels(), rotation = 45)\n",
      "/gorilla1/code/neuralmonkey/neuralmonkey/classes/snippets.py:919: UserWarning: FixedFormatter should only be used together with FixedLocator\n",
      "  ax.set_xticklabels(ax.get_xticklabels(), rotation = 45)\n",
      "/gorilla1/code/neuralmonkey/neuralmonkey/classes/snippets.py:929: UserWarning: FixedFormatter should only be used together with FixedLocator\n",
      "  ax.set_xticklabels(x_labels, rotation = 45)\n"
     ]
    },
    {
     "name": "stdout",
     "output_type": "stream",
     "text": [
      "Plotting for chan:  453\n",
      "PLotting for (chan, bregion):  453 14_FP_p\n"
     ]
    },
    {
     "name": "stderr",
     "output_type": "stream",
     "text": [
      "/gorilla1/code/neuralmonkey/neuralmonkey/classes/snippets.py:897: UserWarning: FixedFormatter should only be used together with FixedLocator\n",
      "  ax.set_xticklabels(ax.get_xticklabels(), rotation = 45)\n",
      "/gorilla1/code/neuralmonkey/neuralmonkey/classes/snippets.py:919: UserWarning: FixedFormatter should only be used together with FixedLocator\n",
      "  ax.set_xticklabels(ax.get_xticklabels(), rotation = 45)\n",
      "/gorilla1/code/neuralmonkey/neuralmonkey/classes/snippets.py:929: UserWarning: FixedFormatter should only be used together with FixedLocator\n",
      "  ax.set_xticklabels(x_labels, rotation = 45)\n"
     ]
    },
    {
     "name": "stdout",
     "output_type": "stream",
     "text": [
      "Plotting for chan:  454\n",
      "PLotting for (chan, bregion):  454 14_FP_p\n"
     ]
    },
    {
     "name": "stderr",
     "output_type": "stream",
     "text": [
      "/gorilla1/code/neuralmonkey/neuralmonkey/classes/snippets.py:897: UserWarning: FixedFormatter should only be used together with FixedLocator\n",
      "  ax.set_xticklabels(ax.get_xticklabels(), rotation = 45)\n",
      "/gorilla1/code/neuralmonkey/neuralmonkey/classes/snippets.py:919: UserWarning: FixedFormatter should only be used together with FixedLocator\n",
      "  ax.set_xticklabels(ax.get_xticklabels(), rotation = 45)\n",
      "/gorilla1/code/neuralmonkey/neuralmonkey/classes/snippets.py:929: UserWarning: FixedFormatter should only be used together with FixedLocator\n",
      "  ax.set_xticklabels(x_labels, rotation = 45)\n"
     ]
    },
    {
     "name": "stdout",
     "output_type": "stream",
     "text": [
      "Plotting for chan:  455\n",
      "PLotting for (chan, bregion):  455 14_FP_p\n"
     ]
    },
    {
     "name": "stderr",
     "output_type": "stream",
     "text": [
      "/gorilla1/code/neuralmonkey/neuralmonkey/classes/snippets.py:897: UserWarning: FixedFormatter should only be used together with FixedLocator\n",
      "  ax.set_xticklabels(ax.get_xticklabels(), rotation = 45)\n",
      "/gorilla1/code/neuralmonkey/neuralmonkey/classes/snippets.py:919: UserWarning: FixedFormatter should only be used together with FixedLocator\n",
      "  ax.set_xticklabels(ax.get_xticklabels(), rotation = 45)\n",
      "/gorilla1/code/neuralmonkey/neuralmonkey/classes/snippets.py:929: UserWarning: FixedFormatter should only be used together with FixedLocator\n",
      "  ax.set_xticklabels(x_labels, rotation = 45)\n"
     ]
    },
    {
     "name": "stdout",
     "output_type": "stream",
     "text": [
      "Plotting for chan:  457\n",
      "PLotting for (chan, bregion):  457 14_FP_p\n"
     ]
    },
    {
     "name": "stderr",
     "output_type": "stream",
     "text": [
      "/gorilla1/code/neuralmonkey/neuralmonkey/classes/snippets.py:897: UserWarning: FixedFormatter should only be used together with FixedLocator\n",
      "  ax.set_xticklabels(ax.get_xticklabels(), rotation = 45)\n",
      "/gorilla1/code/neuralmonkey/neuralmonkey/classes/snippets.py:919: UserWarning: FixedFormatter should only be used together with FixedLocator\n",
      "  ax.set_xticklabels(ax.get_xticklabels(), rotation = 45)\n",
      "/gorilla1/code/neuralmonkey/neuralmonkey/classes/snippets.py:929: UserWarning: FixedFormatter should only be used together with FixedLocator\n",
      "  ax.set_xticklabels(x_labels, rotation = 45)\n"
     ]
    },
    {
     "name": "stdout",
     "output_type": "stream",
     "text": [
      "Plotting for chan:  458\n",
      "PLotting for (chan, bregion):  458 14_FP_p\n"
     ]
    },
    {
     "name": "stderr",
     "output_type": "stream",
     "text": [
      "/gorilla1/code/neuralmonkey/neuralmonkey/classes/snippets.py:897: UserWarning: FixedFormatter should only be used together with FixedLocator\n",
      "  ax.set_xticklabels(ax.get_xticklabels(), rotation = 45)\n",
      "/gorilla1/code/neuralmonkey/neuralmonkey/classes/snippets.py:919: UserWarning: FixedFormatter should only be used together with FixedLocator\n",
      "  ax.set_xticklabels(ax.get_xticklabels(), rotation = 45)\n",
      "/gorilla1/code/neuralmonkey/neuralmonkey/classes/snippets.py:929: UserWarning: FixedFormatter should only be used together with FixedLocator\n",
      "  ax.set_xticklabels(x_labels, rotation = 45)\n"
     ]
    },
    {
     "name": "stdout",
     "output_type": "stream",
     "text": [
      "Plotting for chan:  459\n",
      "PLotting for (chan, bregion):  459 14_FP_p\n"
     ]
    },
    {
     "name": "stderr",
     "output_type": "stream",
     "text": [
      "/gorilla1/code/neuralmonkey/neuralmonkey/classes/snippets.py:897: UserWarning: FixedFormatter should only be used together with FixedLocator\n",
      "  ax.set_xticklabels(ax.get_xticklabels(), rotation = 45)\n",
      "/gorilla1/code/neuralmonkey/neuralmonkey/classes/snippets.py:919: UserWarning: FixedFormatter should only be used together with FixedLocator\n",
      "  ax.set_xticklabels(ax.get_xticklabels(), rotation = 45)\n",
      "/gorilla1/code/neuralmonkey/neuralmonkey/classes/snippets.py:929: UserWarning: FixedFormatter should only be used together with FixedLocator\n",
      "  ax.set_xticklabels(x_labels, rotation = 45)\n"
     ]
    },
    {
     "name": "stdout",
     "output_type": "stream",
     "text": [
      "Plotting for chan:  460\n",
      "PLotting for (chan, bregion):  460 14_FP_p\n"
     ]
    },
    {
     "name": "stderr",
     "output_type": "stream",
     "text": [
      "/gorilla1/code/neuralmonkey/neuralmonkey/classes/snippets.py:897: UserWarning: FixedFormatter should only be used together with FixedLocator\n",
      "  ax.set_xticklabels(ax.get_xticklabels(), rotation = 45)\n",
      "/gorilla1/code/neuralmonkey/neuralmonkey/classes/snippets.py:919: UserWarning: FixedFormatter should only be used together with FixedLocator\n",
      "  ax.set_xticklabels(ax.get_xticklabels(), rotation = 45)\n",
      "/gorilla1/code/neuralmonkey/neuralmonkey/classes/snippets.py:929: UserWarning: FixedFormatter should only be used together with FixedLocator\n",
      "  ax.set_xticklabels(x_labels, rotation = 45)\n"
     ]
    },
    {
     "name": "stdout",
     "output_type": "stream",
     "text": [
      "Plotting for chan:  461\n",
      "PLotting for (chan, bregion):  461 14_FP_p\n"
     ]
    },
    {
     "name": "stderr",
     "output_type": "stream",
     "text": [
      "/gorilla1/code/neuralmonkey/neuralmonkey/classes/snippets.py:897: UserWarning: FixedFormatter should only be used together with FixedLocator\n",
      "  ax.set_xticklabels(ax.get_xticklabels(), rotation = 45)\n",
      "/gorilla1/code/neuralmonkey/neuralmonkey/classes/snippets.py:919: UserWarning: FixedFormatter should only be used together with FixedLocator\n",
      "  ax.set_xticklabels(ax.get_xticklabels(), rotation = 45)\n",
      "/gorilla1/code/neuralmonkey/neuralmonkey/classes/snippets.py:929: UserWarning: FixedFormatter should only be used together with FixedLocator\n",
      "  ax.set_xticklabels(x_labels, rotation = 45)\n"
     ]
    },
    {
     "name": "stdout",
     "output_type": "stream",
     "text": [
      "Plotting for chan:  462\n",
      "PLotting for (chan, bregion):  462 14_FP_p\n"
     ]
    },
    {
     "name": "stderr",
     "output_type": "stream",
     "text": [
      "/gorilla1/code/neuralmonkey/neuralmonkey/classes/snippets.py:897: UserWarning: FixedFormatter should only be used together with FixedLocator\n",
      "  ax.set_xticklabels(ax.get_xticklabels(), rotation = 45)\n",
      "/gorilla1/code/neuralmonkey/neuralmonkey/classes/snippets.py:919: UserWarning: FixedFormatter should only be used together with FixedLocator\n",
      "  ax.set_xticklabels(ax.get_xticklabels(), rotation = 45)\n",
      "/gorilla1/code/neuralmonkey/neuralmonkey/classes/snippets.py:929: UserWarning: FixedFormatter should only be used together with FixedLocator\n",
      "  ax.set_xticklabels(x_labels, rotation = 45)\n"
     ]
    },
    {
     "name": "stdout",
     "output_type": "stream",
     "text": [
      "Plotting for chan:  463\n",
      "PLotting for (chan, bregion):  463 14_FP_p\n"
     ]
    },
    {
     "name": "stderr",
     "output_type": "stream",
     "text": [
      "/gorilla1/code/neuralmonkey/neuralmonkey/classes/snippets.py:897: UserWarning: FixedFormatter should only be used together with FixedLocator\n",
      "  ax.set_xticklabels(ax.get_xticklabels(), rotation = 45)\n",
      "/gorilla1/code/neuralmonkey/neuralmonkey/classes/snippets.py:919: UserWarning: FixedFormatter should only be used together with FixedLocator\n",
      "  ax.set_xticklabels(ax.get_xticklabels(), rotation = 45)\n",
      "/gorilla1/code/neuralmonkey/neuralmonkey/classes/snippets.py:929: UserWarning: FixedFormatter should only be used together with FixedLocator\n",
      "  ax.set_xticklabels(x_labels, rotation = 45)\n"
     ]
    },
    {
     "name": "stdout",
     "output_type": "stream",
     "text": [
      "Plotting for chan:  464\n",
      "PLotting for (chan, bregion):  464 14_FP_p\n"
     ]
    },
    {
     "name": "stderr",
     "output_type": "stream",
     "text": [
      "/gorilla1/code/neuralmonkey/neuralmonkey/classes/snippets.py:897: UserWarning: FixedFormatter should only be used together with FixedLocator\n",
      "  ax.set_xticklabels(ax.get_xticklabels(), rotation = 45)\n",
      "/gorilla1/code/neuralmonkey/neuralmonkey/classes/snippets.py:919: UserWarning: FixedFormatter should only be used together with FixedLocator\n",
      "  ax.set_xticklabels(ax.get_xticklabels(), rotation = 45)\n",
      "/gorilla1/code/neuralmonkey/neuralmonkey/classes/snippets.py:929: UserWarning: FixedFormatter should only be used together with FixedLocator\n",
      "  ax.set_xticklabels(x_labels, rotation = 45)\n"
     ]
    },
    {
     "name": "stdout",
     "output_type": "stream",
     "text": [
      "Plotting for chan:  465\n",
      "PLotting for (chan, bregion):  465 14_FP_p\n"
     ]
    },
    {
     "name": "stderr",
     "output_type": "stream",
     "text": [
      "/gorilla1/code/neuralmonkey/neuralmonkey/classes/snippets.py:897: UserWarning: FixedFormatter should only be used together with FixedLocator\n",
      "  ax.set_xticklabels(ax.get_xticklabels(), rotation = 45)\n",
      "/gorilla1/code/neuralmonkey/neuralmonkey/classes/snippets.py:919: UserWarning: FixedFormatter should only be used together with FixedLocator\n",
      "  ax.set_xticklabels(ax.get_xticklabels(), rotation = 45)\n",
      "/gorilla1/code/neuralmonkey/neuralmonkey/classes/snippets.py:929: UserWarning: FixedFormatter should only be used together with FixedLocator\n",
      "  ax.set_xticklabels(x_labels, rotation = 45)\n"
     ]
    },
    {
     "name": "stdout",
     "output_type": "stream",
     "text": [
      "Plotting for chan:  467\n",
      "PLotting for (chan, bregion):  467 14_FP_p\n"
     ]
    },
    {
     "name": "stderr",
     "output_type": "stream",
     "text": [
      "/gorilla1/code/neuralmonkey/neuralmonkey/classes/snippets.py:897: UserWarning: FixedFormatter should only be used together with FixedLocator\n",
      "  ax.set_xticklabels(ax.get_xticklabels(), rotation = 45)\n",
      "/gorilla1/code/neuralmonkey/neuralmonkey/classes/snippets.py:919: UserWarning: FixedFormatter should only be used together with FixedLocator\n",
      "  ax.set_xticklabels(ax.get_xticklabels(), rotation = 45)\n",
      "/gorilla1/code/neuralmonkey/neuralmonkey/classes/snippets.py:929: UserWarning: FixedFormatter should only be used together with FixedLocator\n",
      "  ax.set_xticklabels(x_labels, rotation = 45)\n"
     ]
    },
    {
     "name": "stdout",
     "output_type": "stream",
     "text": [
      "Plotting for chan:  468\n",
      "PLotting for (chan, bregion):  468 14_FP_p\n"
     ]
    },
    {
     "name": "stderr",
     "output_type": "stream",
     "text": [
      "/gorilla1/code/neuralmonkey/neuralmonkey/classes/snippets.py:897: UserWarning: FixedFormatter should only be used together with FixedLocator\n",
      "  ax.set_xticklabels(ax.get_xticklabels(), rotation = 45)\n",
      "/gorilla1/code/neuralmonkey/neuralmonkey/classes/snippets.py:919: UserWarning: FixedFormatter should only be used together with FixedLocator\n",
      "  ax.set_xticklabels(ax.get_xticklabels(), rotation = 45)\n",
      "/gorilla1/code/neuralmonkey/neuralmonkey/classes/snippets.py:929: UserWarning: FixedFormatter should only be used together with FixedLocator\n",
      "  ax.set_xticklabels(x_labels, rotation = 45)\n"
     ]
    },
    {
     "name": "stdout",
     "output_type": "stream",
     "text": [
      "Plotting for chan:  469\n",
      "PLotting for (chan, bregion):  469 14_FP_p\n"
     ]
    },
    {
     "name": "stderr",
     "output_type": "stream",
     "text": [
      "/gorilla1/code/neuralmonkey/neuralmonkey/classes/snippets.py:897: UserWarning: FixedFormatter should only be used together with FixedLocator\n",
      "  ax.set_xticklabels(ax.get_xticklabels(), rotation = 45)\n",
      "/gorilla1/code/neuralmonkey/neuralmonkey/classes/snippets.py:919: UserWarning: FixedFormatter should only be used together with FixedLocator\n",
      "  ax.set_xticklabels(ax.get_xticklabels(), rotation = 45)\n",
      "/gorilla1/code/neuralmonkey/neuralmonkey/classes/snippets.py:929: UserWarning: FixedFormatter should only be used together with FixedLocator\n",
      "  ax.set_xticklabels(x_labels, rotation = 45)\n"
     ]
    },
    {
     "name": "stdout",
     "output_type": "stream",
     "text": [
      "Plotting for chan:  470\n",
      "PLotting for (chan, bregion):  470 14_FP_p\n"
     ]
    },
    {
     "name": "stderr",
     "output_type": "stream",
     "text": [
      "/gorilla1/code/neuralmonkey/neuralmonkey/classes/snippets.py:897: UserWarning: FixedFormatter should only be used together with FixedLocator\n",
      "  ax.set_xticklabels(ax.get_xticklabels(), rotation = 45)\n",
      "/gorilla1/code/neuralmonkey/neuralmonkey/classes/snippets.py:919: UserWarning: FixedFormatter should only be used together with FixedLocator\n",
      "  ax.set_xticklabels(ax.get_xticklabels(), rotation = 45)\n",
      "/gorilla1/code/neuralmonkey/neuralmonkey/classes/snippets.py:929: UserWarning: FixedFormatter should only be used together with FixedLocator\n",
      "  ax.set_xticklabels(x_labels, rotation = 45)\n"
     ]
    },
    {
     "name": "stdout",
     "output_type": "stream",
     "text": [
      "Plotting for chan:  471\n",
      "PLotting for (chan, bregion):  471 14_FP_p\n"
     ]
    },
    {
     "name": "stderr",
     "output_type": "stream",
     "text": [
      "/gorilla1/code/neuralmonkey/neuralmonkey/classes/snippets.py:897: UserWarning: FixedFormatter should only be used together with FixedLocator\n",
      "  ax.set_xticklabels(ax.get_xticklabels(), rotation = 45)\n",
      "/gorilla1/code/neuralmonkey/neuralmonkey/classes/snippets.py:919: UserWarning: FixedFormatter should only be used together with FixedLocator\n",
      "  ax.set_xticklabels(ax.get_xticklabels(), rotation = 45)\n",
      "/gorilla1/code/neuralmonkey/neuralmonkey/classes/snippets.py:929: UserWarning: FixedFormatter should only be used together with FixedLocator\n",
      "  ax.set_xticklabels(x_labels, rotation = 45)\n"
     ]
    },
    {
     "name": "stdout",
     "output_type": "stream",
     "text": [
      "Plotting for chan:  472\n",
      "PLotting for (chan, bregion):  472 14_FP_p\n"
     ]
    },
    {
     "name": "stderr",
     "output_type": "stream",
     "text": [
      "/gorilla1/code/neuralmonkey/neuralmonkey/classes/snippets.py:897: UserWarning: FixedFormatter should only be used together with FixedLocator\n",
      "  ax.set_xticklabels(ax.get_xticklabels(), rotation = 45)\n",
      "/gorilla1/code/neuralmonkey/neuralmonkey/classes/snippets.py:919: UserWarning: FixedFormatter should only be used together with FixedLocator\n",
      "  ax.set_xticklabels(ax.get_xticklabels(), rotation = 45)\n",
      "/gorilla1/code/neuralmonkey/neuralmonkey/classes/snippets.py:929: UserWarning: FixedFormatter should only be used together with FixedLocator\n",
      "  ax.set_xticklabels(x_labels, rotation = 45)\n"
     ]
    },
    {
     "name": "stdout",
     "output_type": "stream",
     "text": [
      "Plotting for chan:  473\n",
      "PLotting for (chan, bregion):  473 14_FP_p\n"
     ]
    },
    {
     "name": "stderr",
     "output_type": "stream",
     "text": [
      "/gorilla1/code/neuralmonkey/neuralmonkey/classes/snippets.py:897: UserWarning: FixedFormatter should only be used together with FixedLocator\n",
      "  ax.set_xticklabels(ax.get_xticklabels(), rotation = 45)\n",
      "/gorilla1/code/neuralmonkey/neuralmonkey/classes/snippets.py:919: UserWarning: FixedFormatter should only be used together with FixedLocator\n",
      "  ax.set_xticklabels(ax.get_xticklabels(), rotation = 45)\n",
      "/gorilla1/code/neuralmonkey/neuralmonkey/classes/snippets.py:929: UserWarning: FixedFormatter should only be used together with FixedLocator\n",
      "  ax.set_xticklabels(x_labels, rotation = 45)\n"
     ]
    },
    {
     "name": "stdout",
     "output_type": "stream",
     "text": [
      "Plotting for chan:  474\n",
      "PLotting for (chan, bregion):  474 14_FP_p\n"
     ]
    },
    {
     "name": "stderr",
     "output_type": "stream",
     "text": [
      "/gorilla1/code/neuralmonkey/neuralmonkey/classes/snippets.py:897: UserWarning: FixedFormatter should only be used together with FixedLocator\n",
      "  ax.set_xticklabels(ax.get_xticklabels(), rotation = 45)\n",
      "/gorilla1/code/neuralmonkey/neuralmonkey/classes/snippets.py:919: UserWarning: FixedFormatter should only be used together with FixedLocator\n",
      "  ax.set_xticklabels(ax.get_xticklabels(), rotation = 45)\n",
      "/gorilla1/code/neuralmonkey/neuralmonkey/classes/snippets.py:929: UserWarning: FixedFormatter should only be used together with FixedLocator\n",
      "  ax.set_xticklabels(x_labels, rotation = 45)\n"
     ]
    },
    {
     "name": "stdout",
     "output_type": "stream",
     "text": [
      "Plotting for chan:  475\n",
      "PLotting for (chan, bregion):  475 14_FP_p\n"
     ]
    },
    {
     "name": "stderr",
     "output_type": "stream",
     "text": [
      "/gorilla1/code/neuralmonkey/neuralmonkey/classes/snippets.py:897: UserWarning: FixedFormatter should only be used together with FixedLocator\n",
      "  ax.set_xticklabels(ax.get_xticklabels(), rotation = 45)\n",
      "/gorilla1/code/neuralmonkey/neuralmonkey/classes/snippets.py:919: UserWarning: FixedFormatter should only be used together with FixedLocator\n",
      "  ax.set_xticklabels(ax.get_xticklabels(), rotation = 45)\n",
      "/gorilla1/code/neuralmonkey/neuralmonkey/classes/snippets.py:929: UserWarning: FixedFormatter should only be used together with FixedLocator\n",
      "  ax.set_xticklabels(x_labels, rotation = 45)\n"
     ]
    },
    {
     "name": "stdout",
     "output_type": "stream",
     "text": [
      "Plotting for chan:  476\n",
      "PLotting for (chan, bregion):  476 14_FP_p\n"
     ]
    },
    {
     "name": "stderr",
     "output_type": "stream",
     "text": [
      "/gorilla1/code/neuralmonkey/neuralmonkey/classes/snippets.py:897: UserWarning: FixedFormatter should only be used together with FixedLocator\n",
      "  ax.set_xticklabels(ax.get_xticklabels(), rotation = 45)\n",
      "/gorilla1/code/neuralmonkey/neuralmonkey/classes/snippets.py:919: UserWarning: FixedFormatter should only be used together with FixedLocator\n",
      "  ax.set_xticklabels(ax.get_xticklabels(), rotation = 45)\n",
      "/gorilla1/code/neuralmonkey/neuralmonkey/classes/snippets.py:929: UserWarning: FixedFormatter should only be used together with FixedLocator\n",
      "  ax.set_xticklabels(x_labels, rotation = 45)\n"
     ]
    },
    {
     "name": "stdout",
     "output_type": "stream",
     "text": [
      "Plotting for chan:  477\n",
      "PLotting for (chan, bregion):  477 14_FP_p\n"
     ]
    },
    {
     "name": "stderr",
     "output_type": "stream",
     "text": [
      "/gorilla1/code/neuralmonkey/neuralmonkey/classes/snippets.py:897: UserWarning: FixedFormatter should only be used together with FixedLocator\n",
      "  ax.set_xticklabels(ax.get_xticklabels(), rotation = 45)\n",
      "/gorilla1/code/neuralmonkey/neuralmonkey/classes/snippets.py:919: UserWarning: FixedFormatter should only be used together with FixedLocator\n",
      "  ax.set_xticklabels(ax.get_xticklabels(), rotation = 45)\n",
      "/gorilla1/code/neuralmonkey/neuralmonkey/classes/snippets.py:929: UserWarning: FixedFormatter should only be used together with FixedLocator\n",
      "  ax.set_xticklabels(x_labels, rotation = 45)\n"
     ]
    },
    {
     "name": "stdout",
     "output_type": "stream",
     "text": [
      "Plotting for chan:  478\n",
      "PLotting for (chan, bregion):  478 14_FP_p\n"
     ]
    },
    {
     "name": "stderr",
     "output_type": "stream",
     "text": [
      "/gorilla1/code/neuralmonkey/neuralmonkey/classes/snippets.py:897: UserWarning: FixedFormatter should only be used together with FixedLocator\n",
      "  ax.set_xticklabels(ax.get_xticklabels(), rotation = 45)\n",
      "/gorilla1/code/neuralmonkey/neuralmonkey/classes/snippets.py:919: UserWarning: FixedFormatter should only be used together with FixedLocator\n",
      "  ax.set_xticklabels(ax.get_xticklabels(), rotation = 45)\n",
      "/gorilla1/code/neuralmonkey/neuralmonkey/classes/snippets.py:929: UserWarning: FixedFormatter should only be used together with FixedLocator\n",
      "  ax.set_xticklabels(x_labels, rotation = 45)\n"
     ]
    },
    {
     "name": "stdout",
     "output_type": "stream",
     "text": [
      "Plotting for chan:  479\n",
      "PLotting for (chan, bregion):  479 14_FP_p\n"
     ]
    },
    {
     "name": "stderr",
     "output_type": "stream",
     "text": [
      "/gorilla1/code/neuralmonkey/neuralmonkey/classes/snippets.py:897: UserWarning: FixedFormatter should only be used together with FixedLocator\n",
      "  ax.set_xticklabels(ax.get_xticklabels(), rotation = 45)\n",
      "/gorilla1/code/neuralmonkey/neuralmonkey/classes/snippets.py:919: UserWarning: FixedFormatter should only be used together with FixedLocator\n",
      "  ax.set_xticklabels(ax.get_xticklabels(), rotation = 45)\n",
      "/gorilla1/code/neuralmonkey/neuralmonkey/classes/snippets.py:929: UserWarning: FixedFormatter should only be used together with FixedLocator\n",
      "  ax.set_xticklabels(x_labels, rotation = 45)\n"
     ]
    },
    {
     "name": "stdout",
     "output_type": "stream",
     "text": [
      "Plotting for chan:  481\n",
      "PLotting for (chan, bregion):  481 15_FP_a\n"
     ]
    },
    {
     "name": "stderr",
     "output_type": "stream",
     "text": [
      "/gorilla1/code/neuralmonkey/neuralmonkey/classes/snippets.py:897: UserWarning: FixedFormatter should only be used together with FixedLocator\n",
      "  ax.set_xticklabels(ax.get_xticklabels(), rotation = 45)\n",
      "/gorilla1/code/neuralmonkey/neuralmonkey/classes/snippets.py:919: UserWarning: FixedFormatter should only be used together with FixedLocator\n",
      "  ax.set_xticklabels(ax.get_xticklabels(), rotation = 45)\n",
      "/gorilla1/code/neuralmonkey/neuralmonkey/classes/snippets.py:929: UserWarning: FixedFormatter should only be used together with FixedLocator\n",
      "  ax.set_xticklabels(x_labels, rotation = 45)\n"
     ]
    },
    {
     "name": "stdout",
     "output_type": "stream",
     "text": [
      "Plotting for chan:  482\n",
      "PLotting for (chan, bregion):  482 15_FP_a\n"
     ]
    },
    {
     "name": "stderr",
     "output_type": "stream",
     "text": [
      "/gorilla1/code/neuralmonkey/neuralmonkey/classes/snippets.py:897: UserWarning: FixedFormatter should only be used together with FixedLocator\n",
      "  ax.set_xticklabels(ax.get_xticklabels(), rotation = 45)\n",
      "/gorilla1/code/neuralmonkey/neuralmonkey/classes/snippets.py:919: UserWarning: FixedFormatter should only be used together with FixedLocator\n",
      "  ax.set_xticklabels(ax.get_xticklabels(), rotation = 45)\n",
      "/gorilla1/code/neuralmonkey/neuralmonkey/classes/snippets.py:929: UserWarning: FixedFormatter should only be used together with FixedLocator\n",
      "  ax.set_xticklabels(x_labels, rotation = 45)\n"
     ]
    },
    {
     "name": "stdout",
     "output_type": "stream",
     "text": [
      "Plotting for chan:  483\n",
      "PLotting for (chan, bregion):  483 15_FP_a\n"
     ]
    },
    {
     "name": "stderr",
     "output_type": "stream",
     "text": [
      "/gorilla1/code/neuralmonkey/neuralmonkey/classes/snippets.py:897: UserWarning: FixedFormatter should only be used together with FixedLocator\n",
      "  ax.set_xticklabels(ax.get_xticklabels(), rotation = 45)\n",
      "/gorilla1/code/neuralmonkey/neuralmonkey/classes/snippets.py:919: UserWarning: FixedFormatter should only be used together with FixedLocator\n",
      "  ax.set_xticklabels(ax.get_xticklabels(), rotation = 45)\n",
      "/gorilla1/code/neuralmonkey/neuralmonkey/classes/snippets.py:929: UserWarning: FixedFormatter should only be used together with FixedLocator\n",
      "  ax.set_xticklabels(x_labels, rotation = 45)\n"
     ]
    },
    {
     "name": "stdout",
     "output_type": "stream",
     "text": [
      "Plotting for chan:  484\n",
      "PLotting for (chan, bregion):  484 15_FP_a\n"
     ]
    },
    {
     "name": "stderr",
     "output_type": "stream",
     "text": [
      "/gorilla1/code/neuralmonkey/neuralmonkey/classes/snippets.py:897: UserWarning: FixedFormatter should only be used together with FixedLocator\n",
      "  ax.set_xticklabels(ax.get_xticklabels(), rotation = 45)\n",
      "/gorilla1/code/neuralmonkey/neuralmonkey/classes/snippets.py:919: UserWarning: FixedFormatter should only be used together with FixedLocator\n",
      "  ax.set_xticklabels(ax.get_xticklabels(), rotation = 45)\n",
      "/gorilla1/code/neuralmonkey/neuralmonkey/classes/snippets.py:929: UserWarning: FixedFormatter should only be used together with FixedLocator\n",
      "  ax.set_xticklabels(x_labels, rotation = 45)\n"
     ]
    },
    {
     "name": "stdout",
     "output_type": "stream",
     "text": [
      "Plotting for chan:  485\n",
      "PLotting for (chan, bregion):  485 15_FP_a\n"
     ]
    },
    {
     "name": "stderr",
     "output_type": "stream",
     "text": [
      "/gorilla1/code/neuralmonkey/neuralmonkey/classes/snippets.py:897: UserWarning: FixedFormatter should only be used together with FixedLocator\n",
      "  ax.set_xticklabels(ax.get_xticklabels(), rotation = 45)\n",
      "/gorilla1/code/neuralmonkey/neuralmonkey/classes/snippets.py:919: UserWarning: FixedFormatter should only be used together with FixedLocator\n",
      "  ax.set_xticklabels(ax.get_xticklabels(), rotation = 45)\n",
      "/gorilla1/code/neuralmonkey/neuralmonkey/classes/snippets.py:929: UserWarning: FixedFormatter should only be used together with FixedLocator\n",
      "  ax.set_xticklabels(x_labels, rotation = 45)\n"
     ]
    },
    {
     "name": "stdout",
     "output_type": "stream",
     "text": [
      "Plotting for chan:  486\n",
      "PLotting for (chan, bregion):  486 15_FP_a\n"
     ]
    },
    {
     "name": "stderr",
     "output_type": "stream",
     "text": [
      "/gorilla1/code/neuralmonkey/neuralmonkey/classes/snippets.py:897: UserWarning: FixedFormatter should only be used together with FixedLocator\n",
      "  ax.set_xticklabels(ax.get_xticklabels(), rotation = 45)\n",
      "/gorilla1/code/neuralmonkey/neuralmonkey/classes/snippets.py:919: UserWarning: FixedFormatter should only be used together with FixedLocator\n",
      "  ax.set_xticklabels(ax.get_xticklabels(), rotation = 45)\n",
      "/gorilla1/code/neuralmonkey/neuralmonkey/classes/snippets.py:929: UserWarning: FixedFormatter should only be used together with FixedLocator\n",
      "  ax.set_xticklabels(x_labels, rotation = 45)\n"
     ]
    },
    {
     "name": "stdout",
     "output_type": "stream",
     "text": [
      "Plotting for chan:  487\n",
      "PLotting for (chan, bregion):  487 15_FP_a\n"
     ]
    },
    {
     "name": "stderr",
     "output_type": "stream",
     "text": [
      "/gorilla1/code/neuralmonkey/neuralmonkey/classes/snippets.py:897: UserWarning: FixedFormatter should only be used together with FixedLocator\n",
      "  ax.set_xticklabels(ax.get_xticklabels(), rotation = 45)\n",
      "/gorilla1/code/neuralmonkey/neuralmonkey/classes/snippets.py:919: UserWarning: FixedFormatter should only be used together with FixedLocator\n",
      "  ax.set_xticklabels(ax.get_xticklabels(), rotation = 45)\n",
      "/gorilla1/code/neuralmonkey/neuralmonkey/classes/snippets.py:929: UserWarning: FixedFormatter should only be used together with FixedLocator\n",
      "  ax.set_xticklabels(x_labels, rotation = 45)\n"
     ]
    },
    {
     "name": "stdout",
     "output_type": "stream",
     "text": [
      "Plotting for chan:  490\n",
      "PLotting for (chan, bregion):  490 15_FP_a\n"
     ]
    },
    {
     "name": "stderr",
     "output_type": "stream",
     "text": [
      "/gorilla1/code/neuralmonkey/neuralmonkey/classes/snippets.py:897: UserWarning: FixedFormatter should only be used together with FixedLocator\n",
      "  ax.set_xticklabels(ax.get_xticklabels(), rotation = 45)\n",
      "/gorilla1/code/neuralmonkey/neuralmonkey/classes/snippets.py:919: UserWarning: FixedFormatter should only be used together with FixedLocator\n",
      "  ax.set_xticklabels(ax.get_xticklabels(), rotation = 45)\n",
      "/gorilla1/code/neuralmonkey/neuralmonkey/classes/snippets.py:929: UserWarning: FixedFormatter should only be used together with FixedLocator\n",
      "  ax.set_xticklabels(x_labels, rotation = 45)\n"
     ]
    },
    {
     "name": "stdout",
     "output_type": "stream",
     "text": [
      "Plotting for chan:  492\n",
      "PLotting for (chan, bregion):  492 15_FP_a\n"
     ]
    },
    {
     "name": "stderr",
     "output_type": "stream",
     "text": [
      "/gorilla1/code/neuralmonkey/neuralmonkey/classes/snippets.py:897: UserWarning: FixedFormatter should only be used together with FixedLocator\n",
      "  ax.set_xticklabels(ax.get_xticklabels(), rotation = 45)\n",
      "/gorilla1/code/neuralmonkey/neuralmonkey/classes/snippets.py:919: UserWarning: FixedFormatter should only be used together with FixedLocator\n",
      "  ax.set_xticklabels(ax.get_xticklabels(), rotation = 45)\n",
      "/gorilla1/code/neuralmonkey/neuralmonkey/classes/snippets.py:929: UserWarning: FixedFormatter should only be used together with FixedLocator\n",
      "  ax.set_xticklabels(x_labels, rotation = 45)\n"
     ]
    },
    {
     "name": "stdout",
     "output_type": "stream",
     "text": [
      "Plotting for chan:  493\n",
      "PLotting for (chan, bregion):  493 15_FP_a\n"
     ]
    },
    {
     "name": "stderr",
     "output_type": "stream",
     "text": [
      "/gorilla1/code/neuralmonkey/neuralmonkey/classes/snippets.py:897: UserWarning: FixedFormatter should only be used together with FixedLocator\n",
      "  ax.set_xticklabels(ax.get_xticklabels(), rotation = 45)\n",
      "/gorilla1/code/neuralmonkey/neuralmonkey/classes/snippets.py:919: UserWarning: FixedFormatter should only be used together with FixedLocator\n",
      "  ax.set_xticklabels(ax.get_xticklabels(), rotation = 45)\n",
      "/gorilla1/code/neuralmonkey/neuralmonkey/classes/snippets.py:929: UserWarning: FixedFormatter should only be used together with FixedLocator\n",
      "  ax.set_xticklabels(x_labels, rotation = 45)\n"
     ]
    },
    {
     "name": "stdout",
     "output_type": "stream",
     "text": [
      "Plotting for chan:  494\n",
      "PLotting for (chan, bregion):  494 15_FP_a\n"
     ]
    },
    {
     "name": "stderr",
     "output_type": "stream",
     "text": [
      "/gorilla1/code/neuralmonkey/neuralmonkey/classes/snippets.py:897: UserWarning: FixedFormatter should only be used together with FixedLocator\n",
      "  ax.set_xticklabels(ax.get_xticklabels(), rotation = 45)\n",
      "/gorilla1/code/neuralmonkey/neuralmonkey/classes/snippets.py:919: UserWarning: FixedFormatter should only be used together with FixedLocator\n",
      "  ax.set_xticklabels(ax.get_xticklabels(), rotation = 45)\n",
      "/gorilla1/code/neuralmonkey/neuralmonkey/classes/snippets.py:929: UserWarning: FixedFormatter should only be used together with FixedLocator\n",
      "  ax.set_xticklabels(x_labels, rotation = 45)\n"
     ]
    },
    {
     "name": "stdout",
     "output_type": "stream",
     "text": [
      "Plotting for chan:  495\n",
      "PLotting for (chan, bregion):  495 15_FP_a\n"
     ]
    },
    {
     "name": "stderr",
     "output_type": "stream",
     "text": [
      "/gorilla1/code/neuralmonkey/neuralmonkey/classes/snippets.py:897: UserWarning: FixedFormatter should only be used together with FixedLocator\n",
      "  ax.set_xticklabels(ax.get_xticklabels(), rotation = 45)\n",
      "/gorilla1/code/neuralmonkey/neuralmonkey/classes/snippets.py:919: UserWarning: FixedFormatter should only be used together with FixedLocator\n",
      "  ax.set_xticklabels(ax.get_xticklabels(), rotation = 45)\n",
      "/gorilla1/code/neuralmonkey/neuralmonkey/classes/snippets.py:929: UserWarning: FixedFormatter should only be used together with FixedLocator\n",
      "  ax.set_xticklabels(x_labels, rotation = 45)\n"
     ]
    },
    {
     "name": "stdout",
     "output_type": "stream",
     "text": [
      "Plotting for chan:  496\n",
      "PLotting for (chan, bregion):  496 15_FP_a\n"
     ]
    },
    {
     "name": "stderr",
     "output_type": "stream",
     "text": [
      "/gorilla1/code/neuralmonkey/neuralmonkey/classes/snippets.py:897: UserWarning: FixedFormatter should only be used together with FixedLocator\n",
      "  ax.set_xticklabels(ax.get_xticklabels(), rotation = 45)\n",
      "/gorilla1/code/neuralmonkey/neuralmonkey/classes/snippets.py:919: UserWarning: FixedFormatter should only be used together with FixedLocator\n",
      "  ax.set_xticklabels(ax.get_xticklabels(), rotation = 45)\n",
      "/gorilla1/code/neuralmonkey/neuralmonkey/classes/snippets.py:929: UserWarning: FixedFormatter should only be used together with FixedLocator\n",
      "  ax.set_xticklabels(x_labels, rotation = 45)\n"
     ]
    },
    {
     "name": "stdout",
     "output_type": "stream",
     "text": [
      "Plotting for chan:  497\n",
      "PLotting for (chan, bregion):  497 15_FP_a\n"
     ]
    },
    {
     "name": "stderr",
     "output_type": "stream",
     "text": [
      "/gorilla1/code/neuralmonkey/neuralmonkey/classes/snippets.py:897: UserWarning: FixedFormatter should only be used together with FixedLocator\n",
      "  ax.set_xticklabels(ax.get_xticklabels(), rotation = 45)\n",
      "/gorilla1/code/neuralmonkey/neuralmonkey/classes/snippets.py:919: UserWarning: FixedFormatter should only be used together with FixedLocator\n",
      "  ax.set_xticklabels(ax.get_xticklabels(), rotation = 45)\n",
      "/gorilla1/code/neuralmonkey/neuralmonkey/classes/snippets.py:929: UserWarning: FixedFormatter should only be used together with FixedLocator\n",
      "  ax.set_xticklabels(x_labels, rotation = 45)\n"
     ]
    },
    {
     "name": "stdout",
     "output_type": "stream",
     "text": [
      "Plotting for chan:  498\n",
      "PLotting for (chan, bregion):  498 15_FP_a\n"
     ]
    },
    {
     "name": "stderr",
     "output_type": "stream",
     "text": [
      "/gorilla1/code/neuralmonkey/neuralmonkey/classes/snippets.py:897: UserWarning: FixedFormatter should only be used together with FixedLocator\n",
      "  ax.set_xticklabels(ax.get_xticklabels(), rotation = 45)\n",
      "/gorilla1/code/neuralmonkey/neuralmonkey/classes/snippets.py:919: UserWarning: FixedFormatter should only be used together with FixedLocator\n",
      "  ax.set_xticklabels(ax.get_xticklabels(), rotation = 45)\n",
      "/gorilla1/code/neuralmonkey/neuralmonkey/classes/snippets.py:929: UserWarning: FixedFormatter should only be used together with FixedLocator\n",
      "  ax.set_xticklabels(x_labels, rotation = 45)\n"
     ]
    },
    {
     "name": "stdout",
     "output_type": "stream",
     "text": [
      "Plotting for chan:  500\n",
      "PLotting for (chan, bregion):  500 15_FP_a\n"
     ]
    },
    {
     "name": "stderr",
     "output_type": "stream",
     "text": [
      "/gorilla1/code/neuralmonkey/neuralmonkey/classes/snippets.py:897: UserWarning: FixedFormatter should only be used together with FixedLocator\n",
      "  ax.set_xticklabels(ax.get_xticklabels(), rotation = 45)\n",
      "/gorilla1/code/neuralmonkey/neuralmonkey/classes/snippets.py:919: UserWarning: FixedFormatter should only be used together with FixedLocator\n",
      "  ax.set_xticklabels(ax.get_xticklabels(), rotation = 45)\n",
      "/gorilla1/code/neuralmonkey/neuralmonkey/classes/snippets.py:929: UserWarning: FixedFormatter should only be used together with FixedLocator\n",
      "  ax.set_xticklabels(x_labels, rotation = 45)\n"
     ]
    },
    {
     "name": "stdout",
     "output_type": "stream",
     "text": [
      "Plotting for chan:  501\n",
      "PLotting for (chan, bregion):  501 15_FP_a\n"
     ]
    },
    {
     "name": "stderr",
     "output_type": "stream",
     "text": [
      "/gorilla1/code/neuralmonkey/neuralmonkey/classes/snippets.py:897: UserWarning: FixedFormatter should only be used together with FixedLocator\n",
      "  ax.set_xticklabels(ax.get_xticklabels(), rotation = 45)\n",
      "/gorilla1/code/neuralmonkey/neuralmonkey/classes/snippets.py:919: UserWarning: FixedFormatter should only be used together with FixedLocator\n",
      "  ax.set_xticklabels(ax.get_xticklabels(), rotation = 45)\n",
      "/gorilla1/code/neuralmonkey/neuralmonkey/classes/snippets.py:929: UserWarning: FixedFormatter should only be used together with FixedLocator\n",
      "  ax.set_xticklabels(x_labels, rotation = 45)\n"
     ]
    },
    {
     "name": "stdout",
     "output_type": "stream",
     "text": [
      "Plotting for chan:  502\n",
      "PLotting for (chan, bregion):  502 15_FP_a\n"
     ]
    },
    {
     "name": "stderr",
     "output_type": "stream",
     "text": [
      "/gorilla1/code/neuralmonkey/neuralmonkey/classes/snippets.py:897: UserWarning: FixedFormatter should only be used together with FixedLocator\n",
      "  ax.set_xticklabels(ax.get_xticklabels(), rotation = 45)\n",
      "/gorilla1/code/neuralmonkey/neuralmonkey/classes/snippets.py:919: UserWarning: FixedFormatter should only be used together with FixedLocator\n",
      "  ax.set_xticklabels(ax.get_xticklabels(), rotation = 45)\n",
      "/gorilla1/code/neuralmonkey/neuralmonkey/classes/snippets.py:929: UserWarning: FixedFormatter should only be used together with FixedLocator\n",
      "  ax.set_xticklabels(x_labels, rotation = 45)\n"
     ]
    },
    {
     "name": "stdout",
     "output_type": "stream",
     "text": [
      "Plotting for chan:  503\n",
      "PLotting for (chan, bregion):  503 15_FP_a\n"
     ]
    },
    {
     "name": "stderr",
     "output_type": "stream",
     "text": [
      "/gorilla1/code/neuralmonkey/neuralmonkey/classes/snippets.py:897: UserWarning: FixedFormatter should only be used together with FixedLocator\n",
      "  ax.set_xticklabels(ax.get_xticklabels(), rotation = 45)\n",
      "/gorilla1/code/neuralmonkey/neuralmonkey/classes/snippets.py:919: UserWarning: FixedFormatter should only be used together with FixedLocator\n",
      "  ax.set_xticklabels(ax.get_xticklabels(), rotation = 45)\n",
      "/gorilla1/code/neuralmonkey/neuralmonkey/classes/snippets.py:929: UserWarning: FixedFormatter should only be used together with FixedLocator\n",
      "  ax.set_xticklabels(x_labels, rotation = 45)\n"
     ]
    },
    {
     "name": "stdout",
     "output_type": "stream",
     "text": [
      "Plotting for chan:  504\n",
      "PLotting for (chan, bregion):  504 15_FP_a\n"
     ]
    },
    {
     "name": "stderr",
     "output_type": "stream",
     "text": [
      "/gorilla1/code/neuralmonkey/neuralmonkey/classes/snippets.py:897: UserWarning: FixedFormatter should only be used together with FixedLocator\n",
      "  ax.set_xticklabels(ax.get_xticklabels(), rotation = 45)\n",
      "/gorilla1/code/neuralmonkey/neuralmonkey/classes/snippets.py:919: UserWarning: FixedFormatter should only be used together with FixedLocator\n",
      "  ax.set_xticklabels(ax.get_xticklabels(), rotation = 45)\n",
      "/gorilla1/code/neuralmonkey/neuralmonkey/classes/snippets.py:929: UserWarning: FixedFormatter should only be used together with FixedLocator\n",
      "  ax.set_xticklabels(x_labels, rotation = 45)\n"
     ]
    },
    {
     "name": "stdout",
     "output_type": "stream",
     "text": [
      "Plotting for chan:  505\n",
      "PLotting for (chan, bregion):  505 15_FP_a\n"
     ]
    },
    {
     "name": "stderr",
     "output_type": "stream",
     "text": [
      "/gorilla1/code/neuralmonkey/neuralmonkey/classes/snippets.py:897: UserWarning: FixedFormatter should only be used together with FixedLocator\n",
      "  ax.set_xticklabels(ax.get_xticklabels(), rotation = 45)\n",
      "/gorilla1/code/neuralmonkey/neuralmonkey/classes/snippets.py:919: UserWarning: FixedFormatter should only be used together with FixedLocator\n",
      "  ax.set_xticklabels(ax.get_xticklabels(), rotation = 45)\n",
      "/gorilla1/code/neuralmonkey/neuralmonkey/classes/snippets.py:929: UserWarning: FixedFormatter should only be used together with FixedLocator\n",
      "  ax.set_xticklabels(x_labels, rotation = 45)\n"
     ]
    },
    {
     "name": "stdout",
     "output_type": "stream",
     "text": [
      "Plotting for chan:  506\n",
      "PLotting for (chan, bregion):  506 15_FP_a\n"
     ]
    },
    {
     "name": "stderr",
     "output_type": "stream",
     "text": [
      "/gorilla1/code/neuralmonkey/neuralmonkey/classes/snippets.py:897: UserWarning: FixedFormatter should only be used together with FixedLocator\n",
      "  ax.set_xticklabels(ax.get_xticklabels(), rotation = 45)\n",
      "/gorilla1/code/neuralmonkey/neuralmonkey/classes/snippets.py:919: UserWarning: FixedFormatter should only be used together with FixedLocator\n",
      "  ax.set_xticklabels(ax.get_xticklabels(), rotation = 45)\n",
      "/gorilla1/code/neuralmonkey/neuralmonkey/classes/snippets.py:929: UserWarning: FixedFormatter should only be used together with FixedLocator\n",
      "  ax.set_xticklabels(x_labels, rotation = 45)\n"
     ]
    },
    {
     "name": "stdout",
     "output_type": "stream",
     "text": [
      "Plotting for chan:  507\n",
      "PLotting for (chan, bregion):  507 15_FP_a\n"
     ]
    },
    {
     "name": "stderr",
     "output_type": "stream",
     "text": [
      "/gorilla1/code/neuralmonkey/neuralmonkey/classes/snippets.py:897: UserWarning: FixedFormatter should only be used together with FixedLocator\n",
      "  ax.set_xticklabels(ax.get_xticklabels(), rotation = 45)\n",
      "/gorilla1/code/neuralmonkey/neuralmonkey/classes/snippets.py:919: UserWarning: FixedFormatter should only be used together with FixedLocator\n",
      "  ax.set_xticklabels(ax.get_xticklabels(), rotation = 45)\n",
      "/gorilla1/code/neuralmonkey/neuralmonkey/classes/snippets.py:929: UserWarning: FixedFormatter should only be used together with FixedLocator\n",
      "  ax.set_xticklabels(x_labels, rotation = 45)\n"
     ]
    },
    {
     "name": "stdout",
     "output_type": "stream",
     "text": [
      "Plotting for chan:  508\n",
      "PLotting for (chan, bregion):  508 15_FP_a\n"
     ]
    },
    {
     "name": "stderr",
     "output_type": "stream",
     "text": [
      "/gorilla1/code/neuralmonkey/neuralmonkey/classes/snippets.py:897: UserWarning: FixedFormatter should only be used together with FixedLocator\n",
      "  ax.set_xticklabels(ax.get_xticklabels(), rotation = 45)\n",
      "/gorilla1/code/neuralmonkey/neuralmonkey/classes/snippets.py:919: UserWarning: FixedFormatter should only be used together with FixedLocator\n",
      "  ax.set_xticklabels(ax.get_xticklabels(), rotation = 45)\n",
      "/gorilla1/code/neuralmonkey/neuralmonkey/classes/snippets.py:929: UserWarning: FixedFormatter should only be used together with FixedLocator\n",
      "  ax.set_xticklabels(x_labels, rotation = 45)\n"
     ]
    },
    {
     "name": "stdout",
     "output_type": "stream",
     "text": [
      "Plotting for chan:  509\n",
      "PLotting for (chan, bregion):  509 15_FP_a\n"
     ]
    },
    {
     "name": "stderr",
     "output_type": "stream",
     "text": [
      "/gorilla1/code/neuralmonkey/neuralmonkey/classes/snippets.py:897: UserWarning: FixedFormatter should only be used together with FixedLocator\n",
      "  ax.set_xticklabels(ax.get_xticklabels(), rotation = 45)\n",
      "/gorilla1/code/neuralmonkey/neuralmonkey/classes/snippets.py:919: UserWarning: FixedFormatter should only be used together with FixedLocator\n",
      "  ax.set_xticklabels(ax.get_xticklabels(), rotation = 45)\n",
      "/gorilla1/code/neuralmonkey/neuralmonkey/classes/snippets.py:929: UserWarning: FixedFormatter should only be used together with FixedLocator\n",
      "  ax.set_xticklabels(x_labels, rotation = 45)\n"
     ]
    },
    {
     "name": "stdout",
     "output_type": "stream",
     "text": [
      "Plotting for chan:  510\n",
      "PLotting for (chan, bregion):  510 15_FP_a\n"
     ]
    },
    {
     "name": "stderr",
     "output_type": "stream",
     "text": [
      "/gorilla1/code/neuralmonkey/neuralmonkey/classes/snippets.py:897: UserWarning: FixedFormatter should only be used together with FixedLocator\n",
      "  ax.set_xticklabels(ax.get_xticklabels(), rotation = 45)\n",
      "/gorilla1/code/neuralmonkey/neuralmonkey/classes/snippets.py:919: UserWarning: FixedFormatter should only be used together with FixedLocator\n",
      "  ax.set_xticklabels(ax.get_xticklabels(), rotation = 45)\n",
      "/gorilla1/code/neuralmonkey/neuralmonkey/classes/snippets.py:929: UserWarning: FixedFormatter should only be used together with FixedLocator\n",
      "  ax.set_xticklabels(x_labels, rotation = 45)\n"
     ]
    },
    {
     "name": "stdout",
     "output_type": "stream",
     "text": [
      "Plotting for chan:  511\n",
      "PLotting for (chan, bregion):  511 15_FP_a\n"
     ]
    },
    {
     "name": "stderr",
     "output_type": "stream",
     "text": [
      "/gorilla1/code/neuralmonkey/neuralmonkey/classes/snippets.py:897: UserWarning: FixedFormatter should only be used together with FixedLocator\n",
      "  ax.set_xticklabels(ax.get_xticklabels(), rotation = 45)\n",
      "/gorilla1/code/neuralmonkey/neuralmonkey/classes/snippets.py:919: UserWarning: FixedFormatter should only be used together with FixedLocator\n",
      "  ax.set_xticklabels(ax.get_xticklabels(), rotation = 45)\n",
      "/gorilla1/code/neuralmonkey/neuralmonkey/classes/snippets.py:929: UserWarning: FixedFormatter should only be used together with FixedLocator\n",
      "  ax.set_xticklabels(x_labels, rotation = 45)\n"
     ]
    },
    {
     "name": "stdout",
     "output_type": "stream",
     "text": [
      "Plotting for chan:  512\n",
      "PLotting for (chan, bregion):  512 15_FP_a\n"
     ]
    },
    {
     "name": "stderr",
     "output_type": "stream",
     "text": [
      "/gorilla1/code/neuralmonkey/neuralmonkey/classes/snippets.py:897: UserWarning: FixedFormatter should only be used together with FixedLocator\n",
      "  ax.set_xticklabels(ax.get_xticklabels(), rotation = 45)\n",
      "/gorilla1/code/neuralmonkey/neuralmonkey/classes/snippets.py:919: UserWarning: FixedFormatter should only be used together with FixedLocator\n",
      "  ax.set_xticklabels(ax.get_xticklabels(), rotation = 45)\n",
      "/gorilla1/code/neuralmonkey/neuralmonkey/classes/snippets.py:929: UserWarning: FixedFormatter should only be used together with FixedLocator\n",
      "  ax.set_xticklabels(x_labels, rotation = 45)\n"
     ]
    },
    {
     "name": "stdout",
     "output_type": "stream",
     "text": [
      "Plotting eachsite_smfr at: /gorilla1/analyses/recordings/NOTEBOOKS/220713_prims_state_space/Pancho/220715_k99rebut/sess_1/scalar_plots/each_chan_smoothedfr\n",
      "Plotting eachsite_rasters at: /gorilla1/analyses/recordings/NOTEBOOKS/220713_prims_state_space/Pancho/220715_k99rebut/sess_1/scalar_plots/each_chan_rasters\n"
     ]
    }
   ],
   "source": [
    "for sess in SESSIONS:\n",
    "    sn = MS.SessionsList[sess]\n",
    "\n",
    "    SAVEDIR_SCALAR = f'{SAVEDIR}/sess_{sess}/scalar_plots'\n",
    "    os.makedirs(SAVEDIR_SCALAR, exist_ok=True)\n",
    "\n",
    "    # list_events = [\"fixcue\", \"samp\", \"samp\", \"first_raise\", \"on_strokeidx_0\", \"on_strokeidx_0\"]\n",
    "    # list_pre_dur = [-0.5, -0.3, 0.1, -0.55, -0.55, 0.05]\n",
    "    # list_post_dur = [0., 0., 0.65, -0.05, 0.05, 0.55]\n",
    "\n",
    "    ##### 1) First automatically figure out what features to use\n",
    "    # - extract datstrokes, and check what fetures it has\n",
    "    if QUESTION in [\"stroke\"]:\n",
    "        strokes_only_keep_single=True\n",
    "        tasks_only_keep_these=[\"prims_single\"]\n",
    "        prune_feature_levels_min_n_trials=20\n",
    "        DS = datasetstrokes_extract(sn.Datasetbeh, strokes_only_keep_single,\n",
    "                                    tasks_only_keep_these,\n",
    "                                    prune_feature_levels_min_n_trials, list_possible_features)\n",
    "        \n",
    "        if len(DS.Dat)<50:\n",
    "            continue\n",
    "\n",
    "        # check which features exist\n",
    "        list_features = []\n",
    "        for feat in list_possible_features:\n",
    "            levels = DS.Dat[feat].unique().tolist()\n",
    "            if len(levels)>1:\n",
    "                # keep\n",
    "                list_features.append(feat)\n",
    "        print(\"=== USING THESE FEATURES:\", list_features)\n",
    "        assert len(list_features)>0\n",
    "\n",
    "    elif QUESTION in [\"sequence\", \"rulesw\"]:\n",
    "        # DOesnt need DS\n",
    "        pass \n",
    "    else:\n",
    "        print(QUESTION)\n",
    "        assert False\n",
    "    \n",
    "\n",
    "    ##### 2) Do everything\n",
    "    from neuralmonkey.classes.snippets import Snippets\n",
    "    if QUESTION==\"stroke\":\n",
    "        list_features_get_conjunction = list_features\n",
    "        strokes_only_keep_single = True\n",
    "        which_level = \"stroke\"\n",
    "    elif QUESTION in [\"sequence\", \"rulesw\"]:\n",
    "        strokes_only_keep_single = False\n",
    "        which_level = \"trial\"\n",
    "    else:\n",
    "        assert False\n",
    "        \n",
    "    print(\"Extracvting snips..\")\n",
    "    SP = Snippets(SN=sn, which_level=which_level, list_events=list_events, \n",
    "                list_features_extraction=list_features, list_features_get_conjunction=list_features_get_conjunction, \n",
    "                list_pre_dur=list_pre_dur, list_post_dur=list_post_dur,\n",
    "                strokes_only_keep_single=strokes_only_keep_single)\n",
    "    \n",
    "    ##########################################\n",
    "    # 1) Just the ones during no-supervision (well-trined)\n",
    "    if QUESTION==\"rulesw\":\n",
    "        # should to this to D above\n",
    "        SP.PAscalar = SP.PAscalar.slice_by_label(\"trials\", \"supervision_stage_concise\", \"off|1|solid|0\")\n",
    "        SP.pascal_convert_to_dataframe(fr_which_version=\"sqrt\")\n",
    "\n",
    "    # Compute summary stats\n",
    "    RES_ALL_CHANS = SP.modulation_compute_each_chan()\n",
    "    \n",
    "\n",
    "    OUT = SP.modulation_compute_higher_stats(RES_ALL_CHANS)\n",
    "\n",
    "    # Plot and save\n",
    "    SP.modulation_plot_all(RES_ALL_CHANS, OUT, SAVEDIR_SCALAR)\n",
    "    "
   ]
  },
  {
   "cell_type": "markdown",
   "metadata": {},
   "source": [
    "##### Code development"
   ]
  },
  {
   "cell_type": "code",
   "execution_count": null,
   "metadata": {},
   "outputs": [],
   "source": [
    "# for each variable, confirm that have data across all levels, for each of the other variables.\n",
    "list_var = SP.Params[\"list_features_get_conjunction\"]\n",
    "map_var_to_othervars = SP.Params[\"map_var_to_othervars\"]\n",
    "map_var_to_levels = SP.Params[\"map_var_to_levels\"]\n",
    "df = SP.DfScalar\n",
    "\n",
    "for var in list_var:\n",
    "    levels = map_var_to_levels[var]\n",
    "    othervar = map_var_to_othervars[var]\n",
    "#     for ovar in othervars:\n",
    "    \n",
    "    # for each level of othervar\n",
    "    levels_other = df[othervar].\n",
    "    display(df[othervar].value_counts())\n",
    "    \n",
    "    for lev in levels:\n",
    "        (df[var]==lev) & (df[othervar])"
   ]
  },
  {
   "cell_type": "code",
   "execution_count": null,
   "metadata": {},
   "outputs": [],
   "source": [
    "# for two vars, get 2d --> n counts for each combination of levels\n",
    "from pythonlib.tools.pandastools import convert_to_2d_dataframe\n",
    "\n",
    "convert_to_2d_dataframe(df, var, othervar, True);"
   ]
  },
  {
   "cell_type": "code",
   "execution_count": null,
   "metadata": {},
   "outputs": [],
   "source": [
    "### just for rule siwtching\n",
    "    ##########################################\n",
    "    # 2) Extract takss done the same in mult epochs\n",
    "    D = sn.Datasetbeh\n",
    "    from pythonlib.dataset.dataset_preprocess.probes import _generate_map_taskclass\n",
    "    mapper_taskname_epoch_to_taskclass = _generate_map_taskclass(D)\n",
    "\n",
    "    list_task = D.Dat[\"character\"].unique().tolist()\n",
    "    list_epoch = D.Dat[\"epoch\"].unique().tolist()\n",
    "    print(list_task)\n",
    "    print(list_epoch)\n",
    "\n",
    "    dict_task_orders = {}\n",
    "    for task in list_task:\n",
    "\n",
    "        list_inds_each_epoch = []\n",
    "        for epoch in list_epoch:\n",
    "\n",
    "            if (task, epoch) not in mapper_taskname_epoch_to_taskclass.keys():\n",
    "                # Then this task has at least one epoch for which it doesnet havet rials.\n",
    "                # print((task, epoch))\n",
    "                # print(mapper_taskname_epoch_to_taskclass)\n",
    "                INCLUDE_THIS_TASK = False\n",
    "                # assert False, \"should first exclude tasks that are not present across all epochs\"\n",
    "            else:\n",
    "                Task = mapper_taskname_epoch_to_taskclass[(task, epoch)]\n",
    "                inds_ordered = Task.ml2_objectclass_extract_active_chunk(return_as_inds=True)\n",
    "                list_inds_each_epoch.append(tuple(inds_ordered))\n",
    "\n",
    "        ax = Task.plotStrokes(ordinal=True)\n",
    "        ax.set_title(f\"{task}\")\n",
    "\n",
    "        dict_task_orders[task] = list_inds_each_epoch\n",
    "\n",
    "    print(dict_task_orders)\n",
    "\n",
    "    # pull out tasks which have same sequence\n",
    "    tasks_same_sequence = []\n",
    "    for taskname, list_seqs in dict_task_orders.items():\n",
    "        if len(list(set(list_seqs)))==1:\n",
    "            tasks_same_sequence.append(taskname)\n",
    "\n",
    "    print(\"\\nTHese tasks foudn to have same seuqence across epochs: \")\n",
    "    print(tasks_same_sequence)\n",
    " \n",
    "    #### 2) Just those tasks with same beh in the different rules.\n",
    "    SP.PAscalar = SP.PAscalar.slice_by_labels(\"trials\", \"character\", tasks_same_sequence)\n",
    "    SP.pascal_convert_to_dataframe(fr_which_version=\"sqrt\")\n",
    "\n",
    "    # Compute summary stats\n",
    "    RES_ALL_CHANS = SP.modulation_compute_each_chan()\n",
    "    OUT = SP.modulation_compute_higher_stats(RES_ALL_CHANS)\n",
    "    \n",
    "    # Plot\n",
    "    SP.modulation_plot_all(RES_ALL_CHANS, OUT, SAVEDIR_SCALAR, suffix=\"tasks_same_seq\")"
   ]
  },
  {
   "cell_type": "markdown",
   "metadata": {},
   "source": [
    "##### Plot behavior"
   ]
  },
  {
   "cell_type": "markdown",
   "metadata": {},
   "source": [
    "##### Saving SP"
   ]
  },
  {
   "cell_type": "code",
   "execution_count": null,
   "metadata": {},
   "outputs": [],
   "source": [
    "SP.save(\"/tmp\")"
   ]
  },
  {
   "cell_type": "code",
   "execution_count": null,
   "metadata": {},
   "outputs": [],
   "source": [
    "# load\n",
    "from neuralmonkey.classes.snippets import load_snippets\n",
    "SP2 = load_snippets(\"/tmp\", \"Snippets-221213_221030\")"
   ]
  },
  {
   "cell_type": "markdown",
   "metadata": {},
   "source": [
    "##### Developing modifications to pipeline above"
   ]
  },
  {
   "cell_type": "code",
   "execution_count": null,
   "metadata": {},
   "outputs": [],
   "source": []
  },
  {
   "cell_type": "code",
   "execution_count": null,
   "metadata": {},
   "outputs": [],
   "source": [
    "##### Show that the above heat maps are not just noise...\n",
    "\n",
    "# 1. compare to line plots\n",
    "\n",
    "# 2. split data in half\n",
    "\n",
    "# 3. plot low and high bounds"
   ]
  },
  {
   "cell_type": "markdown",
   "metadata": {},
   "source": [
    "##### "
   ]
  },
  {
   "cell_type": "markdown",
   "metadata": {},
   "source": [
    "### Below: the full pipeline + various scratch and other plots"
   ]
  },
  {
   "cell_type": "markdown",
   "metadata": {},
   "source": [
    "##### [START HERE] Generate DS just with this sn"
   ]
  },
  {
   "cell_type": "code",
   "execution_count": null,
   "metadata": {},
   "outputs": [],
   "source": [
    "sn = MS.SessionsList[1]"
   ]
  },
  {
   "cell_type": "code",
   "execution_count": null,
   "metadata": {},
   "outputs": [],
   "source": [
    "# IGNORE\n",
    "sn.events_get_time_using_photodiode(1, plot_beh_code_stream=True)\n",
    "sn.plotwrapper_raster_oneetrial_multsites(1, sn.sitegetter_all()[:5], overlay_trial_events=True)"
   ]
  },
  {
   "cell_type": "code",
   "execution_count": null,
   "metadata": {
    "scrolled": false
   },
   "outputs": [],
   "source": [
    "from neuralmonkey.classes.snippets import Snippets\n",
    "\n",
    "list_events = [\"fixcue\", \"samp\", \"samp\", \"first_raise\", \"on_strokeidx_0\", \"on_strokeidx_0\"]\n",
    "list_pre_dur = [-0.5, -0.3, 0.1, -0.55, -0.55, 0.05]\n",
    "list_post_dur = [0., 0., 0.65, -0.05, 0.05, 0.55]\n",
    "\n",
    "# list_events = [\"fixcue\", \"samp\"]\n",
    "# list_pre_dur = [-0.5, -0.3]\n",
    "# list_post_dur = [0., 0.]\n",
    "\n",
    "list_features_get_conjunction =  [\"gridsize\", \"shape_oriented\", \"gridloc\"]\n",
    "list_features =  [\"gridsize\", \"shape_oriented\", \"gridloc\"]\n",
    "\n",
    "SP = Snippets(SN=sn, which_level=\"stroke\", \n",
    "              list_events=list_events, \n",
    "             list_features=list_features, list_features_get_conjunction=list_features_get_conjunction,\n",
    "              list_pre_dur = list_pre_dur, list_post_dur=list_post_dur,\n",
    "             strokes_only_keep_single=True)\n",
    "\n",
    "# # Extract all strokes, as bag of strokes.\n",
    "# from pythonlib.dataset.dataset_strokes import DatStrokes\n",
    "# DS = DatStrokes(sn.Datasetbeh)\n",
    "\n",
    "# DS.clean_data([\"remove_if_multiple_behstrokes_per_taskstroke\"])\n",
    "\n",
    "# # Extract timing inforamtion (e.g., stroek onsets, offsets)\n",
    "# DS.timing_extract_basic()\n",
    "\n",
    "# # This dsitribution of task kinds... (print)\n",
    "\n",
    "# list_keys = [\"task_kind\", \"gridsize\", \"shape_oriented\", \"gridloc\"]\n",
    "# for key in list_keys:\n",
    "#     print(\" \")\n",
    "#     print(\"--- Unique levels for this category: \", key)\n",
    "#     print(DS.Dat[key].value_counts())\n",
    "    "
   ]
  },
  {
   "cell_type": "code",
   "execution_count": null,
   "metadata": {},
   "outputs": [],
   "source": [
    "SP.listpa_convert_to_scalars()\n",
    "SP.pascal_convert_to_dataframe()\n",
    "\n",
    "SAVEDIR_SCALAR = f'/gorilla1/analyses/recordings/NOTEBOOKS/220713_prims_state_space/{animal}/{sn.Date}/scalar_plots'\n",
    "os.makedirs(SAVEDIR_SCALAR, exist_ok=True)\n"
   ]
  },
  {
   "cell_type": "code",
   "execution_count": null,
   "metadata": {},
   "outputs": [],
   "source": [
    "# # [GOOD] Combine those options to extract each relevant window\n",
    "# # list_events = [\"fixcue\", \"samp\", \"samp\", \"first_raise\", \"STROKE\"]\n",
    "# list_events = [\"fixcue\", \"samp\", \"samp\", \"first_raise\", \"on_strokeidx_0\", \"on_strokeidx_0\"]\n",
    "# list_pre_dur = [-0.5, -0.3, 0.1, -0.55, -0.55, 0.05]\n",
    "# list_post_dur = [0., 0., 0.65, -0.05, 0.05, 0.55]\n",
    "\n",
    "# # give each event a unique name\n",
    "# list_events_uniqnames = []\n",
    "# for i, (event, pre_dur, post_dur) in enumerate(zip(list_events, list_pre_dur, list_post_dur)):\n",
    "#     if False:\n",
    "#         # version 1, with time\n",
    "#         event_unique_name = f\"{event}|{pre_dur}|{post_dur}\"\n",
    "#     else:\n",
    "#         # Version 2, with indices\n",
    "# #         event_unique_name = f\"{i}_{event[:3]}_{event[-1]}\"\n",
    "#         event_unique_name = f\"{i}_{event}\"\n",
    "        \n",
    "#     list_events_uniqnames.append(event_unique_name)\n",
    "    \n",
    "# print(list_events_uniqnames)"
   ]
  },
  {
   "cell_type": "markdown",
   "metadata": {},
   "source": [
    "##### [Optional] Plot distributions of intervals between events"
   ]
  },
  {
   "cell_type": "markdown",
   "metadata": {},
   "source": [
    "Useful for deciding how large to make the extract PA windows"
   ]
  },
  {
   "cell_type": "code",
   "execution_count": null,
   "metadata": {},
   "outputs": [],
   "source": [
    "import numpy as np\n",
    "eventsthis = [\"on\", \"fixcue\", \"fix_touch\", \"samp\", \"go_cue\", \"first_raise\", \"on_strokeidx_0\"]\n",
    "dfevents, _ = sn.eventsdataframe_extract_timings(eventsthis)\n",
    "\n",
    "intervalnames = [f\"{a}--{b}\" for a, b in zip(eventsthis[:-1], eventsthis[1:])]\n",
    "\n",
    "intervals = np.diff(np.stack(dfevents[\"times_ordered_flat\"]), axis=1)\n",
    "fig, axes = plt.subplots(2,1)\n",
    "\n",
    "# 1) include all intervals kinds\n",
    "ax = axes.flatten()[0]\n",
    "for j in range(intervals.shape[1]):\n",
    "    vals = intervals[:,j]\n",
    "    label = intervalnames[j]\n",
    "    ax.hist(vals, label=label, bins=15, histtype=\"step\", log=True)\n",
    "    minmax = np.percentile(vals, [1, 99])\n",
    "    print(\"minmax for\", label, \"   =   \", minmax)\n",
    "ax.set_xlim(left=0)\n",
    "ax.legend()\n",
    "\n",
    "# 2) exlcude long intervals\n",
    "ax = axes.flatten()[1]\n",
    "for j in range(intervals.shape[1]):\n",
    "    vals = intervals[:,j]\n",
    "    label = intervalnames[j]\n",
    "    minmax = np.percentile(vals, [1, 99])\n",
    "    print(\"minmax for\", label, \"   =   \", minmax)\n",
    "    if minmax[1]>2:\n",
    "        print(\"SKIPPING, as too long\")\n",
    "        continue\n",
    "    ax.hist(vals, label=label, bins=15, histtype=\"step\", log=True)\n",
    "# ax.set_xlim([0, np.max(intervals)+0.2])\n",
    "ax.set_xlim(left=0)\n",
    "ax.legend()\n"
   ]
  },
  {
   "cell_type": "code",
   "execution_count": null,
   "metadata": {},
   "outputs": [],
   "source": []
  },
  {
   "cell_type": "markdown",
   "metadata": {},
   "source": [
    "##### Pull out units with strongest modulation across events (i.e., instead of taking top N by fr)"
   ]
  },
  {
   "cell_type": "markdown",
   "metadata": {},
   "source": [
    "###### Sanity checks (outliers, comparing across spikes, raw, smoothed)"
   ]
  },
  {
   "cell_type": "code",
   "execution_count": null,
   "metadata": {},
   "outputs": [],
   "source": [
    "%matplotlib inline\n",
    "\n",
    "# for each chan and event, find outlier trials\n",
    "list_chan = df[\"chan\"].unique().tolist()\n",
    "# chan = 260\n",
    "chan = random.choice(list_chan)\n",
    "ev = random.choice(list_events_uniqnames)"
   ]
  },
  {
   "cell_type": "code",
   "execution_count": null,
   "metadata": {},
   "outputs": [],
   "source": [
    "dfthis = df[(df[\"chan\"] == chan) & (df[\"event_aligned\"]==ev)]\n",
    "print(chan, ev, \"N=\", len(dfthis))\n",
    "\n",
    "# - map back to original SN trials\n",
    "trials_this = np.array(sn.datasetbeh_trialcode_to_trial_batch(dfthis[\"trialcode\"]))\n",
    "frvals = dfthis[\"fr_scalar\"].values\n",
    "\n",
    "fig, axes = plt.subplots(5,1, figsize=(8,10))\n",
    "\n",
    "ax = axes.flatten()[0]\n",
    "ax.hist(frvals, 50);\n",
    "\n",
    "ax = axes.flatten()[1]\n",
    "ax.hist(frvals, 50, log=True);\n",
    "\n",
    "ax = axes.flatten()[2]\n",
    "ax.hist(frvals**0.5, 50, log=True, color=\"g\");\n",
    "ax.set_xlabel('square root transformed fr')\n",
    "\n",
    "ax = axes.flatten()[3]\n",
    "frvals_sq = frvals**0.5\n",
    "# frvals_sq = np.log(frvals)\n",
    "ax.plot(trials_this, frvals_sq, 'xg');\n",
    "ax.set_ylabel('sqrt transformed')\n",
    "mu = np.mean(frvals_sq)\n",
    "sig = np.std(frvals_sq)\n",
    "thresh = mu+3*sig\n",
    "ax.set_title(f\"Threshold: {thresh}\")\n",
    "inds = frvals_sq>thresh\n",
    "trials_bad = trials_this[inds]\n",
    "frvals_bad = frvals_sq[inds]\n",
    "ax.plot(trials_bad, frvals_bad, 'or')\n",
    "# plot text next to each\n",
    "for t, fr in zip(trials_bad, frvals_bad):\n",
    "    ax.text(t, fr, f\"{t}\", color=\"r\")\n",
    "    \n",
    "\n",
    "ax = axes.flatten()[4]\n",
    "ax.plot(trials_this, frvals, 'xk');\n",
    "# highlight those above threshold\n",
    "# auto compute threshold\n",
    "mu = np.mean(frvals)\n",
    "sig = np.std(frvals)\n",
    "thresh = mu+3*sig\n",
    "ax.set_title(f\"Threshold: {thresh}\")\n",
    "\n",
    "inds = frvals>thresh\n",
    "trials_bad = trials_this[inds]\n",
    "frvals_bad = frvals[inds]\n",
    "ax.plot(trials_bad, frvals_bad, 'or')\n",
    "\n",
    "# plot text next to each\n",
    "for t, fr in zip(trials_bad, frvals_bad):\n",
    "    ax.text(t, fr, f\"{t}\", color=\"r\")"
   ]
  },
  {
   "cell_type": "code",
   "execution_count": null,
   "metadata": {},
   "outputs": [],
   "source": [
    "if ev==\"STROKE\":\n",
    "    ev = \"on_strokeidx_0\""
   ]
  },
  {
   "cell_type": "code",
   "execution_count": null,
   "metadata": {
    "scrolled": false
   },
   "outputs": [],
   "source": [
    "# plot raster to confirm\n",
    "trial = 452\n",
    "trialsthis = range(trial-3, trial+3)\n",
    "trialsthis = [t for t in trialsthis if t in trials]\n",
    "sn.plotwrapper_raster_multrials_onesite(trialsthis, chan, plot_beh=True, SIZE=1, alignto=ev)\n",
    "\n"
   ]
  },
  {
   "cell_type": "code",
   "execution_count": null,
   "metadata": {},
   "outputs": [],
   "source": [
    "# extract raw data\n",
    "save =False # so is quicker\n",
    "r,c = sn.convert_site_to_rschan(chan)\n",
    "if not sn.check_raw_extracted(r,c, trial):\n",
    "    # Then extract\n",
    "    sn.extract_raw_and_spikes_helper(trials=[trial], sites=[chan], get_raw=True, save=save)\n",
    "    \n",
    "import elephant as el\n",
    "d = sn.datall_slice_single_bysite(chan, trial, False)\n",
    "raw = d[\"raw\"]\n",
    "traw = d[\"tbins0\"]\n",
    "fs = d[\"fs\"]\n",
    "raw_filt = el.signal_processing.butter(raw, highpass_frequency=300, fs=fs)\n"
   ]
  },
  {
   "cell_type": "markdown",
   "metadata": {},
   "source": [
    "#### OTHER STUFF"
   ]
  },
  {
   "cell_type": "code",
   "execution_count": null,
   "metadata": {},
   "outputs": [],
   "source": [
    "# Plot the raw data\n",
    "\n",
    "plt.figure()\n",
    "plt.plot(traw, raw_filt, '-k')"
   ]
  },
  {
   "cell_type": "code",
   "execution_count": null,
   "metadata": {
    "scrolled": false
   },
   "outputs": [],
   "source": [
    "# plot overaly of spikes, smooth, raw\n",
    "%matplotlib notebook\n",
    "\n",
    "pre_dur = -2\n",
    "post_dur = 2\n",
    "\n",
    "fig, ax = plt.subplots(1,1)\n",
    "D = sn.datall_slice_single_bysite(chan, trial0=trial)\n",
    "spikes = D['spike_times']\n",
    "sn.plotwrapper_smoothed_multtrials_multsites_timewindow([chan], [trial], ax=ax, alignto=ev, \n",
    "                                                        pre_dur=pre_dur, post_dur=post_dur)\n",
    "sn.plot_raster_line(ax, spikes, 70, linelengths=20, alignto_time=sn.events_get_time_using_photodiode(trial, [ev])[ev][0])\n",
    "align_time = sn.events_get_time_using_photodiode(trial, [ev])[ev][0]\n",
    "traw_aligned = traw - align_time\n",
    "spikes_aligned = spikes - align_time\n",
    "ax.plot(traw_aligned, raw_filt, '-r', alpha=0.3)\n",
    "ax.set_title(f\"aligned to {ev}\")\n",
    "ax.axvline(0)"
   ]
  },
  {
   "cell_type": "code",
   "execution_count": null,
   "metadata": {},
   "outputs": [],
   "source": [
    "# Plot spike waveforms\n",
    "\n",
    "wave_pre = -0.003\n",
    "wave_post = 0.003\n",
    "\n",
    "def waveform_extract(t1, t2):\n",
    "\n",
    "    # get spike times in window\n",
    "    spikes_aligned = spikes - align_time # get time in same frame as raw and plots\n",
    "    tspikes = spikes_aligned[(spikes_aligned>t1) & (spikes_aligned<t2)]\n",
    "\n",
    "    # for each spike time, get waveform\n",
    "    list_wave_t = []\n",
    "    list_wave_v = []\n",
    "    for t in tspikes:\n",
    "        t_wave_1 = t+wave_pre\n",
    "        t_wave_2 = t+wave_post\n",
    "\n",
    "        indsthis = (traw_aligned > t_wave_1) & (traw_aligned < t_wave_2)\n",
    "    #     indsthis = (traw > t_wave_1) & (traw < t_wave_2)\n",
    "\n",
    "        wave_t = traw_aligned[indsthis]\n",
    "        wave_v = raw_filt[indsthis]\n",
    "\n",
    "        wave_t = wave_t - t\n",
    "        list_wave_t.append(wave_t)\n",
    "        list_wave_v.append(wave_v)\n",
    "        \n",
    "    return list_wave_t, list_wave_v\n",
    "    \n",
    "    \n",
    "fig, axes = plt.subplots(3,1, figsize=(8,12), sharex=True, sharey=True)\n",
    "\n",
    "# Pre\n",
    "ax = axes.flatten()[0]\n",
    "t1 = -0.5\n",
    "t2 = 0\n",
    "ax.set_title(f\"{t1} to {t2}\")\n",
    "list_wave_t, list_wave_v = waveform_extract(t1, t2)\n",
    "for ts, vs in zip(list_wave_t, list_wave_v):\n",
    "    ax.plot(ts, vs, '-k', alpha=0.2)\n",
    "ax.axvline(0)\n",
    "\n",
    "# Post\n",
    "t1 = 0\n",
    "t2 = 1.0\n",
    "ax = axes.flatten()[1]\n",
    "ax.set_title(f\"{t1} to {t2}\")\n",
    "list_wave_t, list_wave_v = waveform_extract(t1, t2)\n",
    "for ts, vs in zip(list_wave_t, list_wave_v):\n",
    "    ax.plot(ts, vs, '-k', alpha=0.2)\n",
    "ax.axvline(0)\n",
    "\n",
    "\n",
    "    \n",
    "    \n"
   ]
  },
  {
   "cell_type": "code",
   "execution_count": null,
   "metadata": {},
   "outputs": [],
   "source": [
    "# Fr across entire trial...\n",
    "fr = np.array(stats[\"list_fr\"])\n",
    "trials = np.array(stats[\"list_trials\"])\n",
    "\n",
    "indsort = np.argsort(fr)\n",
    "\n",
    "fr_sorted = fr[indsort]\n",
    "trials_sorted = trials[indsort]\n",
    "\n",
    "plt.figure()\n",
    "plt.hist(fr_sorted, 50);\n"
   ]
  },
  {
   "cell_type": "markdown",
   "metadata": {},
   "source": [
    "##### Quantify summary statistics"
   ]
  },
  {
   "cell_type": "markdown",
   "metadata": {},
   "source": [
    "1) Modulation: for a given event and variable (e.g., location), compute anova, with levels levels of that variable (locations) agging all trials\n",
    "\n",
    "2) Consistenty: for a given event and variable (e.g., location), get similarity across levels of conjuction of all other variables. similarity of their trace across levels of location.\n",
    "    "
   ]
  },
  {
   "cell_type": "markdown",
   "metadata": {},
   "source": [
    "3) Consistency across events (i..e, even if modulated, is modulated same way?)"
   ]
  },
  {
   "cell_type": "markdown",
   "metadata": {},
   "source": [
    "##### Summary across neurons"
   ]
  },
  {
   "cell_type": "markdown",
   "metadata": {},
   "source": [
    "for each neuron, get:\n",
    "- modulation by each var during each event \n",
    "- modulation by each var (for a specific conjunction of other vars) during each event\n",
    "- for each var, modulation across events\n",
    "- for each var, consistency of modulation across events\n",
    "- for each var, consistency of modulation across (specific conjunctions of other vars)\n",
    "- fr across events"
   ]
  },
  {
   "cell_type": "code",
   "execution_count": null,
   "metadata": {},
   "outputs": [],
   "source": [
    "RES_ALL_CHANS = SP.modulation_compute_each_chan(DEBUG=False)\n",
    "OUT = SP.modulation_compute_higher_stats(RES_ALL_CHANS)"
   ]
  },
  {
   "cell_type": "code",
   "execution_count": null,
   "metadata": {},
   "outputs": [],
   "source": [
    "savedir = f\"{SAVEDIR_SCALAR}/modulation_by_features\"\n",
    "os.makedirs(savedir, exist_ok=True)\n",
    "SP.modulation_plot_all(OUT, savedir=savedir)"
   ]
  },
  {
   "cell_type": "markdown",
   "metadata": {},
   "source": [
    "##### Targeted questions"
   ]
  },
  {
   "cell_type": "markdown",
   "metadata": {},
   "source": [
    "1. For each area, how much modulation during planning:\n",
    "    - specific conjunction of other vars\n",
    "    - agg over other vars\n",
    "    \n",
    "2. "
   ]
  },
  {
   "cell_type": "markdown",
   "metadata": {},
   "source": [
    "For each neuron, give it index score for:\n",
    "\n",
    "1. \n",
    "\n",
    "\n",
    "avg mod over events:\n",
    "- for each var\n",
    "(n=3)\n",
    "\n",
    "slope of mod change over events\n",
    "- for each var\n",
    "(n=3)\n",
    "\n",
    "Then, each neuron is a 6-tuple.\n",
    "\n"
   ]
  },
  {
   "cell_type": "code",
   "execution_count": null,
   "metadata": {},
   "outputs": [],
   "source": []
  },
  {
   "cell_type": "code",
   "execution_count": null,
   "metadata": {},
   "outputs": [],
   "source": [
    "# Consistency"
   ]
  },
  {
   "cell_type": "markdown",
   "metadata": {},
   "source": [
    "##### Pick random units, compare scalar values to (i) smoothed fr and (iii) raster [This is sanity check for code]"
   ]
  },
  {
   "cell_type": "code",
   "execution_count": null,
   "metadata": {},
   "outputs": [],
   "source": [
    "# For this chan, plot smoothed data"
   ]
  },
  {
   "cell_type": "markdown",
   "metadata": {},
   "source": [
    "##### Decode, tAking same scalar representation from above,  (and using old decode code)"
   ]
  },
  {
   "cell_type": "code",
   "execution_count": null,
   "metadata": {},
   "outputs": [],
   "source": [
    "# 2b) For each unit, compute anova"
   ]
  },
  {
   "cell_type": "code",
   "execution_count": null,
   "metadata": {},
   "outputs": [],
   "source": [
    "# 2c) For each unit, compute anova, keeping the other 2 variables constant\n"
   ]
  },
  {
   "cell_type": "markdown",
   "source": [],
   "metadata": {
    "collapsed": false
   }
  },
  {
   "cell_type": "code",
   "execution_count": null,
   "metadata": {},
   "outputs": [],
   "source": [
    "# 3) "
   ]
  },
  {
   "cell_type": "code",
   "execution_count": null,
   "metadata": {},
   "outputs": [],
   "source": [
    "# 3) "
   ]
  },
  {
   "cell_type": "code",
   "execution_count": null,
   "metadata": {},
   "outputs": [],
   "source": []
  },
  {
   "cell_type": "code",
   "execution_count": null,
   "metadata": {},
   "outputs": [],
   "source": []
  },
  {
   "cell_type": "markdown",
   "metadata": {},
   "source": [
    "### PCA plots (var explained)"
   ]
  },
  {
   "cell_type": "code",
   "execution_count": null,
   "metadata": {},
   "outputs": [],
   "source": [
    "pca_trial_agg_grouping=None"
   ]
  },
  {
   "cell_type": "code",
   "execution_count": null,
   "metadata": {
    "scrolled": true
   },
   "outputs": [],
   "source": [
    "# for REGIONS in LIST_REGIONS:\n",
    "# REGIONS = [\"preSMA_p\", \"preSMA_a\"]\n",
    "REGIONS = [\"FP_p\", \"FP_a\"]\n",
    "# 1) get subset of dataset\n",
    "# REGIONS = [\"M1_m\", \"M1_l\"]\n",
    "# REGIONS = None\n",
    "DatGrp, groupdict, DatGrpDf = compute_data_projections(PAall, DS.Dat, MS, VERSION, REGIONS, DATAPLOT_GROUPING_VARS, \n",
    "                            pca_trial_agg_grouping, pca_trial_agg_method, \n",
    "                            pca_time_agg_method, ploton=True)\n",
    "assert False\n"
   ]
  },
  {
   "cell_type": "code",
   "execution_count": null,
   "metadata": {},
   "outputs": [],
   "source": []
  },
  {
   "cell_type": "code",
   "execution_count": null,
   "metadata": {},
   "outputs": [],
   "source": []
  },
  {
   "cell_type": "markdown",
   "metadata": {},
   "source": [
    "##### [Debug] Normalize FR by centering using the variables not being predicted\n",
    "\n",
    "e.g. if predicting location, "
   ]
  },
  {
   "cell_type": "code",
   "execution_count": null,
   "metadata": {},
   "outputs": [],
   "source": [
    "\n",
    "DatGrpDf\n",
    "DfTrials = datgrp_flatten_to_dattrials(DatGrp, DATAPLOT_GROUPING_VARS)\n"
   ]
  },
  {
   "cell_type": "code",
   "execution_count": null,
   "metadata": {},
   "outputs": [],
   "source": [
    "DfTrials = dftrials_centerize_by_group_mean(DfTrials, DATAPLOT_GROUPING_VARS)\n"
   ]
  },
  {
   "cell_type": "markdown",
   "metadata": {},
   "source": [
    "### TESTING CODE"
   ]
  },
  {
   "cell_type": "markdown",
   "metadata": {},
   "source": [
    "##### Different time windows for extracting neural data"
   ]
  },
  {
   "cell_type": "code",
   "execution_count": null,
   "metadata": {},
   "outputs": [],
   "source": [
    "from pythonlib.neural.population import extract_neural_snippets_aligned_to\n",
    "\n",
    "align_to = \"stroke_onset\"\n",
    "PAall = extract_neural_snippets_aligned_to(MS, DS, align_to=align_to)"
   ]
  },
  {
   "cell_type": "markdown",
   "metadata": {},
   "source": [
    "##### Evenly subsample data (both neural and trials)"
   ]
  },
  {
   "cell_type": "code",
   "execution_count": null,
   "metadata": {},
   "outputs": [],
   "source": []
  },
  {
   "cell_type": "markdown",
   "metadata": {},
   "source": [
    "##### Plot, grid of neural slices"
   ]
  },
  {
   "cell_type": "code",
   "execution_count": null,
   "metadata": {},
   "outputs": [],
   "source": [
    "# ---------- PARAMS\n",
    "# zscore\n",
    "PAall.zscoreFrNotDataframe();\n",
    "\n",
    "VERSION = \"z\"\n",
    "nexamples = 2\n",
    "list_shapes = DS.Dat[\"shape_oriented\"].unique().tolist()\n",
    "\n",
    "# -------------------\n",
    "if VERSION ==\"raw\":\n",
    "    ZLIMS = [0, 100]\n",
    "elif VERSION==\"z\":\n",
    "    ZLIMS = [-2.5, 2.5]\n",
    "else:\n",
    "    assert False\n",
    "\n",
    "from pythonlib.tools.pandastools import extract_trials_spanning_variable\n",
    "egdict, list_shapes = extract_trials_spanning_variable(DS.Dat, \"shape_oriented\", \n",
    "                                                          list_shapes, n_examples=nexamples, return_as_dict=True)\n",
    "\n",
    "ncats = len(list_shapes)\n",
    "fig, axes = plt.subplots(nexamples, ncats, sharex=True, sharey=True, figsize=(ncats*1, nexamples*2))\n",
    "\n",
    "for i in range(nexamples):\n",
    "    for ii, shape in enumerate(list_shapes):\n",
    "        ax = axes[i, ii]\n",
    "        ind = egdict[shape][i]\n",
    "        if ind is not None:\n",
    "            if False:\n",
    "                PA = DS.Dat.iloc[ind][\"neural_pop_slice\"]\n",
    "                PA.plotNeurHeat(0, ax=ax, zlims=ZLIM)\n",
    "            else:\n",
    "                PAall.plotNeurHeat(ind, version=\"z\", ax=ax, zlims=ZLIMS)\n",
    "                \n",
    "        ax.set_title(shape)\n",
    "\n",
    "    "
   ]
  },
  {
   "cell_type": "code",
   "execution_count": null,
   "metadata": {},
   "outputs": [],
   "source": [
    "# Plot each beh trial as above\n",
    "inds = []\n",
    "for indsthis in egdict.values():\n",
    "    indsthis = [i for i in indsthis if i is not None]\n",
    "    inds.extend(indsthis)\n",
    "print(inds)"
   ]
  },
  {
   "cell_type": "markdown",
   "metadata": {},
   "source": [
    "##### Project all data to PCA space, and plots"
   ]
  },
  {
   "cell_type": "code",
   "execution_count": null,
   "metadata": {},
   "outputs": [],
   "source": [
    "# VERSION = \"z\"\n",
    "from pythonlib.neural.population import compute_data_projections\n",
    "\n",
    "# -- PCA params (grouping)\n",
    "pca_trial_agg_method = \"grouptrials\"\n",
    "# trial_agg_grouping = [\"shape_oriented\"]\n",
    "# trial_agg_grouping = [\"shape_oriented\", \"gridloc\"]\n",
    "pca_trial_agg_grouping = [\"gridloc\"]\n",
    "pca_time_agg_method = None\n",
    "VERSION = \"PCA\"\n",
    "\n",
    "ParamsDict ={}\n",
    "# ParamsDict[\"VERSION\"] = VERSION \n",
    "# ParamsDict[\"GET_ONE_LOC\"] = GET_ONE_LOC \n",
    "# ParamsDict[\"gridloc\"] = gridloc \n",
    "# ParamsDict[\"PRUNE_SHAPES\"] = PRUNE_SHAPES \n",
    "ParamsDict[\"pca_trial_agg_method\"] = pca_trial_agg_method \n",
    "ParamsDict[\"pca_trial_agg_grouping\"] = pca_trial_agg_grouping \n",
    "ParamsDict[\"pca_time_agg_method\"] = pca_time_agg_method \n",
    "\n",
    "DatGrp, groupdict, DatGrpDf = compute_data_projections(PAall, DS.Dat, MS, VERSION, REGIONS, DATAPLOT_GROUPING_VARS, \n",
    "                            pca_trial_agg_grouping, pca_trial_agg_method, \n",
    "                            pca_time_agg_method, ploton=False)"
   ]
  },
  {
   "cell_type": "markdown",
   "metadata": {},
   "source": [
    "### LOAD PREVIOUSLY COMPUTED MODEL RESULTS - PLOT SUMMARY"
   ]
  },
  {
   "cell_type": "code",
   "execution_count": null,
   "metadata": {},
   "outputs": [],
   "source": [
    "LIST_YFEAT"
   ]
  },
  {
   "cell_type": "code",
   "execution_count": null,
   "metadata": {
    "scrolled": false
   },
   "outputs": [],
   "source": [
    "import numpy as np\n",
    "from pythonlib.neural.population import datgrp_flatten_to_dattrials, extract_neural_snippets_aligned_to\n",
    "from neuralmonkey.analyses.prims_decode import get_traintest_split_conjunction, dftrials_slice_for_model, get_test_data_and_models, plotsummary_confusion_matrix\n",
    "from neuralmonkey.population.classify import _model_fit, _model_score\n",
    "import pandas as pd\n",
    "from pythonlib.tools.pandastools import replaceNone\n",
    "import seaborn as sns\n",
    "from pythonlib.neural.population import compute_data_projections, dftrials_centerize_by_group_mean\n",
    "\n",
    "\n",
    "AGG_OVER_HELD_OUT = True\n",
    "\n",
    "###########################\n",
    "LIST_RECENTER_BY_GROUP_MEAN = [False, True]\n",
    "\n",
    "DatModAll = []\n",
    "\n",
    "for align_to in LIST_ALIGN_TO:\n",
    "\n",
    "    for REGIONS in LIST_REGIONS:\n",
    "\n",
    "        for yfeat in LIST_YFEAT: # feature to predict (e..g, shape)\n",
    "\n",
    "            for ndims in LIST_NDIMS:\n",
    "                \n",
    "                for do_recenter in LIST_RECENTER_BY_GROUP_MEAN:\n",
    "\n",
    "                    if REGIONS is None:\n",
    "                        regions = [\"ALL\"]\n",
    "                    else:\n",
    "                        regions = REGIONS\n",
    "\n",
    "                    sdir = f\"{SAVEDIR_DECODE}/alignto_{align_to}-yfeat_{yfeat}-region_{'__'.join(regions)}-ndims_{ndims}-do_recenter_to_grp_{do_recenter}\"\n",
    "                    dfmodels = pd.read_pickle(f\"{sdir}/dfmodels.pkl\")\n",
    "                    \n",
    "                    # Keep models and associated test data                \n",
    "                    VER = \"held_out_model_specific\"\n",
    "                    dfmodels_this, test_data_getter = get_test_data_and_models(DfTrials, dfmodels, yfeat, VER)\n",
    "                    \n",
    "                    # Sanity check: assuming above that test data are incliuded int he dataframe that is appended\n",
    "                    # Here confirm that.\n",
    "                    for indmod in range(len(dfmodels_this)):\n",
    "    #                     modelstr = get_model_string_name(dfmodels_this, indmod)\n",
    "                        Xtest, ytest = test_data_getter(dfmodels_this, indmod)\n",
    "                        datmod = dfmodels_this.iloc[indmod]\n",
    "\n",
    "                        assert np.all(Xtest == datmod[\"Xtest\"])\n",
    "                        assert np.all(ytest == datmod[\"ytest\"])\n",
    "    #                 mapper_label_code_to_name = {}\n",
    "    #                 for name, num in MapVarToCat[yfeat].items():\n",
    "    #                     assert num not in mapper_label_code_to_name.keys()\n",
    "    #                     mapper_label_code_to_name[num] = name\n",
    "    #                 print(mapper_label_code_to_name)\n",
    "\n",
    "                    def get_model_string_name(dfmodels, indrow):\n",
    "                        name = f\"shapetest_{dfmodels.iloc[indrow]['shape_test']}-loctest_{dfmodels.iloc[indrow]['loc_test']}-yfeat_{dfmodels.iloc[indrow]['yfeat']}-testsc_{dfmodels.iloc[indrow]['score_test']:.2f}\"\n",
    "                        return name\n",
    "                    # Get mean over all vairations in held-out\n",
    "                    dfmodels_this[\"score_test_mean\"] = dfmodels_this[\"score_test\"].mean()\n",
    "                                        \n",
    "                    # Add global params for this model datset bnefore appending to global data\n",
    "                    dfmodels_this[\"align_to\"] = align_to\n",
    "                    dfmodels_this[\"regions\"] = [tuple(regions) for _ in range(len(dfmodels_this))]\n",
    "    #                 dfmodels_this[\"REGIONS\"] = [tuple(REGIONS) for _ in range(len(dfmodels_this))]\n",
    "                    dfmodels_this[\"yfeat\"] = yfeat\n",
    "                    dfmodels_this[\"ndims\"] = ndims\n",
    "                    dfmodels_this[\"align_to\"] = align_to\n",
    "                    \n",
    "                    # Just keep the first, since you just want the mean score test (agg over held out)\n",
    "                    if AGG_OVER_HELD_OUT:\n",
    "                        cols_to_keep = [\"ndims\", \"yfeat\", \"do_recenter_to_grp\", \"score_test_mean\", \"align_to\", \"regions\"]\n",
    "                        for col in dfmodels_this.columns:\n",
    "                            if col not in cols_to_keep:\n",
    "                                del dfmodels_this[col]\n",
    "#                         del dfmodels_this[\"shape_test\"]\n",
    "#                         del dfmodels_this[\"shape_test_orig\"]\n",
    "#                         del dfmodels_this[\"loc_test\"]\n",
    "#                         del dfmodels_this[\"loc_test_orig\"]\n",
    "                        DatModAll.append(dfmodels_this[:1])\n",
    "                    else:\n",
    "                        DatModAll.append(dfmodels_this)\n",
    "                \n",
    "if AGG_OVER_HELD_OUT:\n",
    "    YVAR = \"score_test_mean\"\n",
    "else:\n",
    "    YVAR = \"score_test\"\n",
    "    \n",
    "print(\"DOne! loaded --> generated DatModAll\")\n",
    "# DatModAll"
   ]
  },
  {
   "cell_type": "code",
   "execution_count": null,
   "metadata": {},
   "outputs": [],
   "source": [
    "DIM_TO_KEEP = None\n",
    "\n",
    "# concatenate all models\n",
    "dfmodels = pd.concat(DatModAll).reset_index(drop=True)\n",
    "print(len(dfmodels))"
   ]
  },
  {
   "cell_type": "code",
   "execution_count": null,
   "metadata": {},
   "outputs": [],
   "source": [
    "# Keep only one dimenisionality\n",
    "dfmodels = dfmodels[dfmodels[\"ndims\"]==DIM_TO_KEEP]\n",
    "\n",
    "dfmodels"
   ]
  },
  {
   "cell_type": "code",
   "execution_count": null,
   "metadata": {},
   "outputs": [],
   "source": [
    "dfmodels = dfmodels[dfmodels[\"do_recenter_to_grp\"]==False]\n",
    "\n"
   ]
  },
  {
   "cell_type": "code",
   "execution_count": null,
   "metadata": {},
   "outputs": [],
   "source": [
    "# Aggregate over different held-out groupings\n",
    "from pythonlib.tools.pandastools import aggregGeneral\n",
    "\n"
   ]
  },
  {
   "cell_type": "code",
   "execution_count": null,
   "metadata": {},
   "outputs": [],
   "source": [
    "BREGIONS_IN_ORDER = [[\"M1_m\", \"M1_l\"],\n",
    "                     [\"PMd_a\", \"PMd_p\"],\n",
    "                     [\"SMA_p\", \"SMA_a\"],\n",
    "                     [\"PMv_m\", \"PMv_l\"],\n",
    "                     [\"vlPFC_p\", \"vlPFC_a\"],\n",
    "                     [\"dlPFC_p\", \"dlPFC_a\"],\n",
    "                     [\"preSMA_p\", \"preSMA_a\"],\n",
    "                     [\"FP_p\", \"FP_a\"], \n",
    "                     [\"ALL\"]]\n",
    "BREGIONS_IN_ORDER = [tuple(br) for br in BREGIONS_IN_ORDER]\n",
    "BREGIONS_IN_ORDER_STR = [bregion_to_str(br) for br in BREGIONS_IN_ORDER]"
   ]
  },
  {
   "cell_type": "code",
   "execution_count": null,
   "metadata": {},
   "outputs": [],
   "source": [
    "# OVERVIEW OF DECODING\n",
    "\n",
    "YFEAT = \"shape_oriented\"\n",
    "DO_RECENTER = False\n",
    "from pythonlib.tools.snstools import rotateLabel\n",
    "\n",
    "# --- ASSUMING is agging over heldout datasets\n",
    "assert AGG_OVER_HELD_OUT, \"if not, then should use HUE, see code here:\"\n",
    "if YFEAT==\"gridloc\":\n",
    "    HUE = \"shape_test_orig\"\n",
    "elif YFEAT==\"shape_oriented\":\n",
    "    HUE = \"loc_test_orig\"\n",
    "else:\n",
    "    assert False\n",
    "# -----\n",
    "    \n",
    "# 1) Better as shape vs. loc?\n",
    "# dfthis = dfmodels[dfmodels[\"yfeat\"]==YFEAT]\n",
    "\n",
    "# fig = sns.catplot(data=dfmodels, y=YVAR, x=\"regions\", col=\"align_to\", \n",
    "#             hue=\"do_recenter_to_grp\", row=\"yfeat\", kind=\"bar\", aspect=2)\n",
    "# fig = sns.catplot(data=dfmodels, y=YVAR, x=\"regions\", col=\"do_recenter_to_grp\", \n",
    "#             hue=\"align_to\", row=\"yfeat\", kind=\"bar\", aspect=2, order=BREGIONS_IN_ORDER)\n",
    "\n",
    "dfthis = dfmodels[dfmodels[\"do_recenter_to_grp\"]==DO_RECENTER]\n",
    "\n",
    "# Good\n",
    "fig = sns.catplot(data=dfthis, y=YVAR, x=\"regions\", col=\"align_to\", \n",
    "                  row=\"yfeat\", kind=\"bar\", aspect=2, order=BREGIONS_IN_ORDER)\n",
    "fig.axes[0][0].axhline(1/7, color=\"k\")\n",
    "fig.axes[0][1].axhline(1/7, color=\"k\")\n",
    "fig.axes[1][0].axhline(1/4, color=\"k\")\n",
    "fig.axes[1][1].axhline(1/4, color=\"k\")\n",
    "\n",
    "rotateLabel(fig)\n",
    "\n",
    "fig.savefig(\"/tmp/fig.pdf\")"
   ]
  },
  {
   "cell_type": "code",
   "execution_count": null,
   "metadata": {},
   "outputs": [],
   "source": [
    "# COMPARISON OF RECENTER vs. NONE\n",
    "# OVERVIEW OF DECODING\n",
    "\n",
    "# YFEAT\n",
    "# dfthis = dfmodels[dfmodels[\"do_recenter_to_grp\"]==DO_RECENTER]\n",
    "dfthis = dfmodels\n",
    "\n",
    "# Good\n",
    "fig = sns.catplot(data=dfthis, y=YVAR, x=\"regions\", col=\"align_to\", \n",
    "                  row=\"yfeat\", kind=\"bar\", hue=\"do_recenter_to_grp\", aspect=2, order=BREGIONS_IN_ORDER)\n",
    "fig.axes[0][0].axhline(1/7, color=\"k\")\n",
    "fig.axes[0][1].axhline(1/7, color=\"k\")\n",
    "fig.axes[1][0].axhline(1/4, color=\"k\")\n",
    "fig.axes[1][1].axhline(1/4, color=\"k\")\n",
    "\n",
    "rotateLabel(fig)\n",
    "\n",
    "fig.savefig(\"/tmp/fig.pdf\")"
   ]
  },
  {
   "cell_type": "code",
   "execution_count": null,
   "metadata": {
    "scrolled": false
   },
   "outputs": [],
   "source": [
    "# \n",
    "fig = sns.catplot(data=dfmodels, y=YVAR, x=\"regions\", hue=\"align_to\", row=\"yfeat\", kind=\"bar\", aspect=2, order=BREGIONS_IN_ORDER)\n",
    "\n",
    "fig.axes[0][0].axhline(1/7, color=\"k\")\n",
    "fig.axes[1][0].axhline(1/4, color=\"k\")\n",
    "rotateLabel(fig)"
   ]
  },
  {
   "cell_type": "code",
   "execution_count": null,
   "metadata": {},
   "outputs": [],
   "source": [
    "# Convert reagions to strings\n",
    "def bregion_to_str(regions):\n",
    "    tmp = [str(r) for r in regions]\n",
    "    return \"-\".join(tmp)\n",
    "\n",
    "def F(x):\n",
    "    return bregion_to_str(x[\"regions\"])\n",
    "dfmodels = applyFunctionToAllRows(dfmodels, F, \"regions_str\")"
   ]
  },
  {
   "cell_type": "code",
   "execution_count": null,
   "metadata": {},
   "outputs": [],
   "source": [
    "# Take difference (recenter vs. not)\n",
    "dfthis = dfmodels[dfmodels[\"align_to\"] == \"go_cue\"]\n",
    "from pythonlib.tools.pandastools import summarize_featurediff, pivot_table\n",
    "\n",
    "dfsummary, dfsummaryflat, COLNAMES_NOABS, COLNAMES_ABS, COLNAMES_DIFF = \\\n",
    "    summarize_featurediff(dfthis, GROUPING=\"do_recenter_to_grp\", GROUPING_LEVELS=[False, True], \n",
    "                      FEATURE_NAMES=[YVAR], INDEX=[\"regions_str\", \"yfeat\"])\n",
    "\n",
    "fig = sns.catplot(data=dfsummaryflat, x=\"regions_str\", hue=\"yfeat\", y=\"value\", col=\"variable\", \n",
    "                  kind=\"bar\", order=BREGIONS_IN_ORDER_STR)\n",
    "rotateLabel(fig)\n",
    "fig.savefig(\"/tmp/fig.pdf\")"
   ]
  },
  {
   "cell_type": "code",
   "execution_count": null,
   "metadata": {},
   "outputs": [],
   "source": [
    "# Take difference  (go vs. strokes)\n",
    "from pythonlib.tools.pandastools import summarize_featurediff, pivot_table\n",
    "\n",
    "dfsummary, dfsummaryflat, COLNAMES_NOABS, COLNAMES_ABS, COLNAMES_DIFF = \\\n",
    "    summarize_featurediff(dfmodels, GROUPING=\"align_to\", GROUPING_LEVELS=[\"go_cue\", \"stroke_onset\"], \n",
    "                      FEATURE_NAMES=[YVAR], INDEX=[\"regions_str\", \"yfeat\"])\n",
    "\n",
    "fig = sns.catplot(data=dfsummaryflat, x=\"regions_str\", hue=\"yfeat\", y=\"value\", col=\"variable\", \n",
    "                  kind=\"bar\", order=BREGIONS_IN_ORDER_STR)\n",
    "rotateLabel(fig)"
   ]
  },
  {
   "cell_type": "code",
   "execution_count": null,
   "metadata": {},
   "outputs": [],
   "source": []
  },
  {
   "cell_type": "code",
   "execution_count": null,
   "metadata": {},
   "outputs": [],
   "source": [
    "fig"
   ]
  },
  {
   "cell_type": "code",
   "execution_count": null,
   "metadata": {},
   "outputs": [],
   "source": [
    "test_data_getter(dfmodels_this, 0)"
   ]
  },
  {
   "cell_type": "markdown",
   "metadata": {},
   "source": [
    "## SCRATCH"
   ]
  },
  {
   "cell_type": "code",
   "execution_count": null,
   "metadata": {},
   "outputs": [],
   "source": [
    "# from sklearn.model_selection import ShuffleSplit\n",
    "# ShuffleSplit("
   ]
  },
  {
   "cell_type": "code",
   "execution_count": null,
   "metadata": {},
   "outputs": [],
   "source": [
    "# Decoding \n",
    "\n",
    "# PLAN:\n",
    "# 1) Identify axes\n",
    "# - \"demixed PCA\" --> 1 subspace for each variable\n",
    "# - \"decoding\" --> 1 axis for each category\n",
    "# - \"decoding\" --> 1 subspace (SVD on the category axes)\n",
    "\n",
    "# 2a) Independent subspaces\n",
    "# - Alignemnt of subspaces (generated above)\n",
    "\n",
    "# 2b) Independent axes\n",
    "# - Cross-generalization of decoding\n",
    "# - Alignment of axes (generated above).\n",
    "\n",
    "# 3) Visualization.\n",
    "# - Vary:\n",
    "#     - subspace/axes\n",
    "#     - labeling of pts (e.g., color)\n",
    "#     - pruning pts.\n",
    "    \n",
    "# OTHER NOTES:\n",
    "# Methods for multi-class:\n",
    "# - Error correcting codes: https://machinelearningmastery.com/error-correcting-output-codes-ecoc-for-machine-learning/\n",
    "\n",
    "# Normalization\n",
    "# - in each time bin, z-score relative to all trials in that bin.\n",
    "\n",
    "\n"
   ]
  },
  {
   "cell_type": "code",
   "execution_count": null,
   "metadata": {},
   "outputs": [],
   "source": []
  },
  {
   "cell_type": "markdown",
   "metadata": {},
   "source": [
    "## SCRATCH"
   ]
  },
  {
   "cell_type": "markdown",
   "metadata": {},
   "source": [
    "##### Two ways to get the time bins relative to \"actual\" trial onset"
   ]
  },
  {
   "cell_type": "code",
   "execution_count": null,
   "metadata": {},
   "outputs": [],
   "source": [
    "st = PA.SpikeTrains[0][0]\n",
    "st.t_start\n"
   ]
  },
  {
   "cell_type": "code",
   "execution_count": null,
   "outputs": [],
   "source": [
    "fig, axes"
   ],
   "metadata": {
    "collapsed": false
   }
  },
  {
   "cell_type": "code",
   "execution_count": null,
   "metadata": {},
   "outputs": [],
   "source": [
    "SN.extract_windowed_data_bytrial([], trial_neural)"
   ]
  }
 ],
 "metadata": {
  "kernelspec": {
   "display_name": "Python 3 (ipykernel)",
   "language": "python",
   "name": "python3"
  },
  "language_info": {
   "codemirror_mode": {
    "name": "ipython",
    "version": 3
   },
   "file_extension": ".py",
   "mimetype": "text/x-python",
   "name": "python",
   "nbconvert_exporter": "python",
   "pygments_lexer": "ipython3",
   "version": "3.8.13"
  }
 },
 "nbformat": 4,
 "nbformat_minor": 2
}
