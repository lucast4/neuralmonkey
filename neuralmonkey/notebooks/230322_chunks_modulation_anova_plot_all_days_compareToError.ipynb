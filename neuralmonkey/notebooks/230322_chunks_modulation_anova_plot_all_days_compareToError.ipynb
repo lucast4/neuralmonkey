{
 "cells": [
  {
   "cell_type": "code",
   "execution_count": null,
   "metadata": {},
   "outputs": [],
   "source": [
    "\"\"\" \n",
    "To plot results from anova plots.\n",
    "\n",
    "HEre compare chan (coprrect trials) vs. chan (error trials).\n",
    "\"\"\"\n",
    "\n",
    "# from IPython.display import display, HTML\n",
    "# display(HTML(\"<style>.container { width:100% !important; }</style>\"))\n"
   ]
  },
  {
   "cell_type": "markdown",
   "metadata": {},
   "source": [
    "### LOAD MULTIPLE EXPERIMENTS FOR SUMMARY PLOT"
   ]
  },
  {
   "cell_type": "code",
   "execution_count": 15,
   "metadata": {},
   "outputs": [],
   "source": [
    "from neuralmonkey.analyses.anova_agg_plots import load_and_preprocess_alldays, aggregate_df_var, plot_all, _extract_uses_rulecue2, _extract_list_event, _plot_get_eventsemantic_ordered\n",
    "import seaborn as sns\n",
    "from pythonlib.tools.snstools import rotateLabel"
   ]
  },
  {
   "cell_type": "code",
   "execution_count": 2,
   "metadata": {
    "scrolled": true
   },
   "outputs": [
    {
     "name": "stdout",
     "output_type": "stream",
     "text": [
      "DIR:  /gorilla1/analyses/recordings/main/anova/bytrial/MULT_DAY/Pancho-ruleswERROR-epoch-r2_maxtime_1way_mshuff-220929-221125\n",
      "Loaded already-saved data!! /gorilla1/analyses/recordings/main/anova/bytrial/MULT_DAY/Pancho-ruleswERROR-epoch-r2_maxtime_1way_mshuff-220929-221125\n",
      "Doing preprocess!!\n",
      "0  ..  ['AnBmTR|0', 'AnBmTR|1', 'rndstr']  ..  ('AnBm', 'rankcol')\n",
      "1  ..  ['AnBmTR', 'TR|0', 'TR|1', 'rndstr']  ..  ('AnBm', 'dir', 'rankcol')\n",
      "2  ..  ['AnBmTR', 'TR', 'rndstr']  ..  ('AnBm', 'dir', 'rankcol')\n",
      "3  ..  ['AnBmTR|0', 'AnBmTR|1', 'TR|0', 'TR|1', 'rndstr']  ..  ('AnBm', 'dir', 'rankcol')\n",
      "4  ..  ['AnBmTR|0', 'AnBmTR|1', 'TR|0', 'TR|1', 'rndstr']  ..  ('AnBm', 'dir', 'rankcol')\n",
      "5  ..  ['AnBmTR|0', 'AnBmTR|1', 'TR|0', 'TR|1', 'rndstr']  ..  ('AnBm', 'dir', 'rankcol')\n",
      "6  ..  ['AnBmTR|0', 'AnBmTR|1', 'TR|0', 'TR|1', 'rndstr']  ..  ('AnBm', 'dir', 'rankcol')\n",
      "7  ..  ['L', 'llV1']  ..  ('dir', 'shape')\n",
      "8  ..  ['L', 'llV1']  ..  ('dir', 'shape')\n",
      "9  ..  ['L', 'llV1']  ..  ('dir', 'shape')\n",
      "10  ..  ['L|0', 'L|1', 'llV1|0', 'llV1|1', 'rndstr']  ..  ('dir', 'rankcol', 'shape')\n",
      "11  ..  ['L', 'R']  ..  ('dir',)\n",
      "12  ..  ['llV1', 'llV1R']  ..  ('shape',)\n",
      "13  ..  ['R', 'U']  ..  ('dir',)\n",
      "14  ..  ['L', 'R']  ..  ('dir',)\n",
      "15  ..  ['L', 'R']  ..  ('dir',)\n",
      "16  ..  ['L', 'llV1']  ..  ('dir', 'shape')\n",
      "17  ..  ['L', 'llV1']  ..  ('dir', 'shape')\n",
      "Saved:  /gorilla1/analyses/recordings/main/anova/bytrial/MULT_DAY/Pancho-ruleswERROR-epoch-r2_maxtime_1way_mshuff-220929-221125/DF_VAR.pkl\n",
      "Saving _PARAMS to /gorilla1/analyses/recordings/main/anova/bytrial/MULT_DAY/Pancho-ruleswERROR-epoch-r2_maxtime_1way_mshuff-220929-221125/PARAMS.yaml\n",
      "Saved:  /gorilla1/analyses/recordings/main/anova/bytrial/MULT_DAY/Pancho-ruleswERROR-epoch-r2_maxtime_1way_mshuff-220929-221125/METADAT.pkl\n",
      "DIR:  /gorilla1/analyses/recordings/main/anova/bytrial/MULT_DAY/Pancho-rulesw-epoch-r2_maxtime_1way_mshuff-220929-221125\n",
      "Loaded already-saved data!! /gorilla1/analyses/recordings/main/anova/bytrial/MULT_DAY/Pancho-rulesw-epoch-r2_maxtime_1way_mshuff-220929-221125\n",
      "Doing preprocess!!\n",
      "0  ..  ['AnBmTR|0', 'AnBmTR|1', 'rndstr']  ..  ('AnBm', 'rankcol')\n",
      "1  ..  ['AnBmTR|0', 'AnBmTR|1', 'rndstr']  ..  ('AnBm', 'rankcol')\n",
      "2  ..  ['AnBmTR', 'TR|0', 'TR|1', 'rndstr']  ..  ('AnBm', 'dir', 'rankcol')\n",
      "3  ..  ['AnBmTR', 'TR|0', 'TR|1', 'rndstr']  ..  ('AnBm', 'dir', 'rankcol')\n",
      "4  ..  ['AnBmTR', 'TR|0', 'TR|1', 'rndstr']  ..  ('AnBm', 'dir', 'rankcol')\n",
      "5  ..  ['AnBmTR', 'TR', 'rndstr']  ..  ('AnBm', 'dir', 'rankcol')\n",
      "6  ..  ['AnBmTR', 'TR', 'rndstr']  ..  ('AnBm', 'dir', 'rankcol')\n",
      "7  ..  ['AnBmTR', 'TR', 'rndstr']  ..  ('AnBm', 'dir', 'rankcol')\n",
      "8  ..  ['AnBmTR|0', 'AnBmTR|1', 'TR|0', 'TR|1', 'rndstr']  ..  ('AnBm', 'dir', 'rankcol')\n",
      "9  ..  ['AnBmTR|0', 'AnBmTR|1', 'TR|0', 'TR|1', 'rndstr']  ..  ('AnBm', 'dir', 'rankcol')\n",
      "10  ..  ['AnBmTR|0', 'AnBmTR|1', 'TR|0', 'TR|1', 'rndstr']  ..  ('AnBm', 'dir', 'rankcol')\n",
      "11  ..  ['AnBmTR|0', 'AnBmTR|1', 'TR|0', 'TR|1', 'rndstr']  ..  ('AnBm', 'dir', 'rankcol')\n",
      "12  ..  ['AnBmTR|0', 'AnBmTR|1', 'TR|0', 'TR|1', 'rndstr']  ..  ('AnBm', 'dir', 'rankcol')\n",
      "13  ..  ['L', 'llV1']  ..  ('dir', 'shape')\n",
      "14  ..  ['L', 'llV1']  ..  ('dir', 'shape')\n",
      "15  ..  ['L', 'llV1']  ..  ('dir', 'shape')\n",
      "16  ..  ['L', 'R', 'llV1']  ..  ('dir', 'shape')\n",
      "17  ..  ['L', 'R', 'llV1']  ..  ('dir', 'shape')\n",
      "18  ..  ['L', 'R', 'llV1']  ..  ('dir', 'shape')\n",
      "19  ..  ['L', 'R', 'llV1']  ..  ('dir', 'shape')\n",
      "20  ..  ['L', 'llV1']  ..  ('dir', 'shape')\n",
      "21  ..  ['L', 'llV1']  ..  ('dir', 'shape')\n",
      "22  ..  ['L', 'llV1']  ..  ('dir', 'shape')\n",
      "23  ..  ['L', 'llV1']  ..  ('dir', 'shape')\n",
      "24  ..  ['L|0', 'L|1', 'llV1|0', 'llV1|1', 'rndstr']  ..  ('dir', 'rankcol', 'shape')\n",
      "25  ..  ['L|0', 'L|1', 'llV1|0', 'llV1|1', 'rndstr']  ..  ('dir', 'rankcol', 'shape')\n",
      "26  ..  ['L|0', 'L|1', 'llV1|0', 'llV1|1', 'rndstr']  ..  ('dir', 'rankcol', 'shape')\n",
      "27  ..  ['L', 'R']  ..  ('dir',)\n",
      "28  ..  ['L', 'R']  ..  ('dir',)\n",
      "29  ..  ['llV1', 'llV1R']  ..  ('shape',)\n",
      "30  ..  ['R', 'U']  ..  ('dir',)\n",
      "31  ..  ['R', 'U']  ..  ('dir',)\n",
      "32  ..  ['R', 'U']  ..  ('dir',)\n",
      "33  ..  ['R', 'U']  ..  ('dir',)\n",
      "34  ..  ['R', 'U']  ..  ('dir',)\n",
      "35  ..  ['L', 'R']  ..  ('dir',)\n",
      "36  ..  ['L', 'R']  ..  ('dir',)\n",
      "37  ..  ['L', 'R']  ..  ('dir',)\n",
      "38  ..  ['L', 'R']  ..  ('dir',)\n",
      "39  ..  ['L', 'llV1']  ..  ('dir', 'shape')\n",
      "40  ..  ['L', 'llV1']  ..  ('dir', 'shape')\n",
      "41  ..  ['L', 'llV1']  ..  ('dir', 'shape')\n",
      "Saved:  /gorilla1/analyses/recordings/main/anova/bytrial/MULT_DAY/Pancho-rulesw-epoch-r2_maxtime_1way_mshuff-220929-221125/DF_VAR.pkl\n",
      "Saving _PARAMS to /gorilla1/analyses/recordings/main/anova/bytrial/MULT_DAY/Pancho-rulesw-epoch-r2_maxtime_1way_mshuff-220929-221125/PARAMS.yaml\n",
      "Saved:  /gorilla1/analyses/recordings/main/anova/bytrial/MULT_DAY/Pancho-rulesw-epoch-r2_maxtime_1way_mshuff-220929-221125/METADAT.pkl\n"
     ]
    }
   ],
   "source": [
    "# LIST_DATE = [221020, 221112]\n",
    "# LIST_DATE = [220814, 220815, 220816, 220827, 220913, 220921, 220928, 220929, 220930, 221001, 221014, 221020, 221021, 221031, 221102, 221107, 221112, 221114, 221119, 221121, 221125]\n",
    "\n",
    "# Just good ones (eyeballed)\n",
    "LIST_DATE = [220929, 220930, 221014, 221020, 221021, 221031, 221102, 221107, 221112, 221114, 221119, 221121, 221125]\n",
    "\n",
    "# Just good ones, updated with a few extra (5/25/23)\n",
    "LIST_DATE = [220929, 220930, 221001, 221002, 221014, 221020, 221021, 221023, 221024, 221031, 221102, 221107, 221112, 221113, 221114, 221118, 221119, 221121, 221125]\n",
    "\n",
    "# LIST_DATE = [221020]\n",
    "LIST_ANALY_VER = [\"ruleswERROR\", \"rulesw\"]\n",
    "var_desired = \"epoch\"\n",
    "\n",
    "LIST_DF_VAR = []\n",
    "LIST_METADAT = []\n",
    "LIST_PARAMS = []\n",
    "for ANALY_VER in LIST_ANALY_VER:\n",
    "#     ANALY_VER = \"rulesw\"\n",
    "    score_ver = \"r2_maxtime_1way_mshuff\"\n",
    "    animal = \"Pancho\"\n",
    "    which_level = \"trial\"\n",
    "\n",
    "    DF_VAR, METADAT, _PARAMS = load_and_preprocess_alldays(animal, ANALY_VER, var_desired, LIST_DATE, score_ver, which_level)\n",
    "\n",
    "    DF_VAR[\"ANALY_VER\"] = ANALY_VER\n",
    "    LIST_DF_VAR.append(DF_VAR)\n",
    "    LIST_METADAT.append(METADAT)\n",
    "    LIST_PARAMS.append(_PARAMS)\n",
    "    "
   ]
  },
  {
   "cell_type": "code",
   "execution_count": 3,
   "metadata": {},
   "outputs": [],
   "source": [
    "import pandas as pd\n",
    "DF_VAR = pd.concat(LIST_DF_VAR, axis=0).reset_index(drop=True)\n"
   ]
  },
  {
   "cell_type": "markdown",
   "metadata": {},
   "source": [
    "##### Clean the data"
   ]
  },
  {
   "cell_type": "code",
   "execution_count": 4,
   "metadata": {},
   "outputs": [],
   "source": [
    "CLEAN = True\n",
    "trial_block_kinds = [\"blockfast\", \"trial\"]\n",
    "dates_exclude = [221001, 221002, 221021]\n",
    "DF_VAR = DF_VAR[\n",
    "    (DF_VAR[\"META_trial_or_block\"].isin(trial_block_kinds)) & \n",
    "    ~(DF_VAR[\"META_date\"].isin(trial_block_kinds))\n",
    "]\n"
   ]
  },
  {
   "cell_type": "code",
   "execution_count": null,
   "metadata": {},
   "outputs": [],
   "source": [
    "if False:\n",
    "    from pythonlib.tools.pandastools import append_col_with_grp_index\n",
    "\n",
    "    list_grouping = [\n",
    "        [\"META_trial_or_block\", \"is_same_beh_across_epochs\"],\n",
    "    #     [\"epochs_kind\", \"META_trial_or_block\", \"is_same_beh_across_epochs\"],\n",
    "    ]\n",
    "\n",
    "    # Plot\n",
    "    dfthis = DF_VAR_AGG_EXPT.copy()\n",
    "    for i, grouping in enumerate(list_grouping):\n",
    "        dfthis = append_col_with_grp_index(dfthis, grouping, \"_rowplot\")\n",
    "\n",
    "        for rowplot in dfthis['_rowplot'].unique():\n",
    "            dfthisthis = dfthis[dfthis[\"_rowplot\"]==rowplot]\n",
    "\n",
    "            from pythonlib.tools.snstools import plotgood_lineplot\n",
    "            # for val_kind in df_var_chan[\"val_kind\"].unique():\n",
    "            #     df_var_chan_this = df_var_chan[df_var_chan[\"val_kind\"]==val_kind]\n",
    "            fig = plotgood_lineplot(dfthisthis, xval=\"eventsemantic\", yval=\"val\", line_grouping=\"chan\",\n",
    "                                    include_mean=True, \n",
    "                                    relplot_kw={\"col\":\"bregion\"});\n",
    "            #     rotateLabel(fig)\n",
    "            #     for ax in fig.axes.flatten():\n",
    "            #         ax.axhline(0, color=\"k\")        \n",
    "            #     fig.savefig(f\"{savedir}/4_lineschans_feature_vs_region.pdf\")\n"
   ]
  },
  {
   "cell_type": "markdown",
   "metadata": {},
   "source": [
    "##### [ERROR TRIALS] Compare each channel to itself across analy vers"
   ]
  },
  {
   "cell_type": "code",
   "execution_count": 5,
   "metadata": {},
   "outputs": [],
   "source": [
    "animal = _PARAMS[\"animal\"]\n",
    "analystring = \"|\".join(LIST_ANALY_VER)\n",
    "SAVEDIR = f\"/gorilla1/analyses/recordings/main/anova/bytrial/MULT_DAY_MULT_ANALY_VER/{animal}-{analystring}-{var_desired}-{score_ver}-{min(LIST_DATE)}-{max(LIST_DATE)}\"\n",
    "import os\n",
    "os.makedirs(SAVEDIR, exist_ok=True)\n"
   ]
  },
  {
   "cell_type": "code",
   "execution_count": null,
   "metadata": {},
   "outputs": [],
   "source": [
    "\n",
    "DF_VAR_AGG, DF_VAR_AGG_EXPT = aggregate_df_var(DF_VAR)\n"
   ]
  },
  {
   "cell_type": "code",
   "execution_count": null,
   "metadata": {},
   "outputs": [],
   "source": [
    "from pythonlib.tools.pandastools import grouping_print_n_samples\n",
    "if False:\n",
    "    grouping_print_n_samples(DF_VAR, \n",
    "                             [\"META_idx\", \"META_date\", \"META_trial_or_block\", \"is_same_beh_across_epochs\", \"var_others\", \"lev_in_var_others\", \"ANALY_VER\"],\n",
    "                             savepath=f\"{SAVEDIR}/groupings.txt\", save_as=\"txt\", save_convert_keys_to_str=True)\n",
    "\n"
   ]
  },
  {
   "cell_type": "code",
   "execution_count": 6,
   "metadata": {
    "scrolled": true
   },
   "outputs": [
    {
     "name": "stdout",
     "output_type": "stream",
     "text": [
      "GOOD! ..  [221002, False, ('seqc_0_loc', 'seqc_0_shape', 'seqc_nstrokes_beh'), ((-1, 1), 'line-8-3-0', 4), 'baseline']  --  ['ruleswERROR', 'rulesw']\n",
      "GOOD! ..  [221002, False, ('seqc_0_loc', 'seqc_0_shape', 'seqc_nstrokes_beh'), ((-1, 1), 'line-8-3-0', 4), 'rulecueE']  --  ['ruleswERROR', 'rulesw']\n",
      "GOOD! ..  [221002, False, ('seqc_0_loc', 'seqc_0_shape', 'seqc_nstrokes_beh'), ((-1, 1), 'line-8-3-0', 4), 'rulecueL']  --  ['ruleswERROR', 'rulesw']\n",
      "GOOD! ..  [221002, False, ('seqc_0_loc', 'seqc_0_shape', 'seqc_nstrokes_beh'), ((-1, 1), 'line-8-3-0', 4), 'imageE']  --  ['ruleswERROR', 'rulesw']\n",
      "GOOD! ..  [221002, False, ('seqc_0_loc', 'seqc_0_shape', 'seqc_nstrokes_beh'), ((-1, 1), 'line-8-3-0', 4), 'imageL']  --  ['ruleswERROR', 'rulesw']\n",
      "GOOD! ..  [221002, False, ('seqc_0_loc', 'seqc_0_shape', 'seqc_nstrokes_beh'), ((-1, 1), 'line-8-3-0', 4), 'firstraise']  --  ['ruleswERROR', 'rulesw']\n",
      "GOOD! ..  [221002, False, ('seqc_0_loc', 'seqc_0_shape', 'seqc_nstrokes_beh'), ((-1, 1), 'line-8-3-0', 4), 'stroke']  --  ['ruleswERROR', 'rulesw']\n",
      "GOOD! ..  [221002, False, ('seqc_0_loc', 'seqc_0_shape', 'seqc_nstrokes_beh'), ((-1, 1), 'line-8-3-0', 4), 'doneb']  --  ['ruleswERROR', 'rulesw']\n",
      "GOOD! ..  [221002, False, ('seqc_0_loc', 'seqc_0_shape', 'seqc_nstrokes_beh'), ((-1, 1), 'line-8-3-0', 4), 'post']  --  ['ruleswERROR', 'rulesw']\n",
      "GOOD! ..  [221002, False, ('taskgroup', 'probe'), ('I', 0), 'baseline']  --  ['ruleswERROR', 'rulesw']\n",
      "GOOD! ..  [221002, False, ('taskgroup', 'probe'), ('I', 1), 'baseline']  --  ['ruleswERROR', 'rulesw']\n",
      "GOOD! ..  [221002, False, ('taskgroup', 'probe'), ('I', 0), 'rulecueE']  --  ['ruleswERROR', 'rulesw']\n",
      "GOOD! ..  [221002, False, ('taskgroup', 'probe'), ('I', 1), 'rulecueE']  --  ['ruleswERROR', 'rulesw']\n",
      "GOOD! ..  [221002, False, ('taskgroup', 'probe'), ('I', 0), 'rulecueL']  --  ['ruleswERROR', 'rulesw']\n",
      "GOOD! ..  [221002, False, ('taskgroup', 'probe'), ('I', 1), 'rulecueL']  --  ['ruleswERROR', 'rulesw']\n",
      "GOOD! ..  [221002, False, ('taskgroup', 'probe'), ('I', 0), 'imageE']  --  ['ruleswERROR', 'rulesw']\n",
      "GOOD! ..  [221002, False, ('taskgroup', 'probe'), ('I', 1), 'imageE']  --  ['ruleswERROR', 'rulesw']\n",
      "GOOD! ..  [221002, False, ('taskgroup', 'probe'), ('I', 0), 'imageL']  --  ['ruleswERROR', 'rulesw']\n",
      "GOOD! ..  [221002, False, ('taskgroup', 'probe'), ('I', 1), 'imageL']  --  ['ruleswERROR', 'rulesw']\n",
      "GOOD! ..  [221002, False, ('taskgroup', 'probe'), ('I', 0), 'firstraise']  --  ['ruleswERROR', 'rulesw']\n",
      "GOOD! ..  [221002, False, ('taskgroup', 'probe'), ('I', 1), 'firstraise']  --  ['ruleswERROR', 'rulesw']\n",
      "GOOD! ..  [221002, False, ('taskgroup', 'probe'), ('I', 0), 'stroke']  --  ['ruleswERROR', 'rulesw']\n",
      "GOOD! ..  [221002, False, ('taskgroup', 'probe'), ('I', 1), 'stroke']  --  ['ruleswERROR', 'rulesw']\n",
      "GOOD! ..  [221002, False, ('taskgroup', 'probe'), ('I', 1), 'doneb']  --  ['ruleswERROR', 'rulesw']\n",
      "GOOD! ..  [221002, False, ('taskgroup', 'probe'), ('I', 0), 'post']  --  ['ruleswERROR', 'rulesw']\n",
      "GOOD! ..  [221002, False, ('taskgroup', 'probe'), ('I', 1), 'post']  --  ['ruleswERROR', 'rulesw']\n",
      "GOOD! ..  [221002, False, ('taskgroup', 'probe'), ('I', 1), 'reward']  --  ['ruleswERROR', 'rulesw']\n",
      "GOOD! ..  [221014, True, ('epochset',), (('AnBmTR|0', 'rank|1'),), 'rulecueL']  --  ['ruleswERROR', 'rulesw']\n",
      "GOOD! ..  [221014, True, ('epochset',), (('AnBmTR|0', 'rank|1'),), 'imageL']  --  ['ruleswERROR', 'rulesw']\n",
      "GOOD! ..  [221014, True, ('epochset',), (('AnBmTR|0', 'rank|1'),), 'baseline']  --  ['ruleswERROR', 'rulesw']\n",
      "GOOD! ..  [221014, True, ('epochset',), (('AnBmTR|0', 'rank|1'),), 'rulecueE']  --  ['ruleswERROR', 'rulesw']\n",
      "GOOD! ..  [221014, True, ('epochset',), (('AnBmTR|0', 'rank|1'),), 'imageE']  --  ['ruleswERROR', 'rulesw']\n",
      "GOOD! ..  [221014, True, ('epochset',), (('AnBmTR|0', 'rank|1'),), 'firstraise']  --  ['ruleswERROR', 'rulesw']\n",
      "GOOD! ..  [221014, True, ('epochset',), (('AnBmTR|0', 'rank|1'),), 'stroke']  --  ['ruleswERROR', 'rulesw']\n",
      "GOOD! ..  [221014, True, ('epochset',), (('AnBmTR|0', 'rank|1'),), 'post']  --  ['ruleswERROR', 'rulesw']\n",
      "GOOD! ..  [221020, False, ('taskgroup', 'probe'), ('I', 1), 'rulecueL']  --  ['ruleswERROR', 'rulesw']\n",
      "GOOD! ..  [221020, False, ('taskgroup', 'probe'), ('I', 0), 'rulecueL']  --  ['ruleswERROR', 'rulesw']\n",
      "GOOD! ..  [221020, False, ('taskgroup', 'probe'), ('I', 1), 'imageL']  --  ['ruleswERROR', 'rulesw']\n",
      "GOOD! ..  [221020, False, ('taskgroup', 'probe'), ('I', 0), 'imageL']  --  ['ruleswERROR', 'rulesw']\n",
      "GOOD! ..  [221020, False, ('taskgroup', 'probe'), ('I', 0), 'baseline']  --  ['ruleswERROR', 'rulesw']\n",
      "GOOD! ..  [221020, False, ('taskgroup', 'probe'), ('I', 1), 'baseline']  --  ['ruleswERROR', 'rulesw']\n",
      "GOOD! ..  [221020, False, ('taskgroup', 'probe'), ('I', 0), 'rulecueE']  --  ['ruleswERROR', 'rulesw']\n",
      "GOOD! ..  [221020, False, ('taskgroup', 'probe'), ('I', 1), 'rulecueE']  --  ['ruleswERROR', 'rulesw']\n",
      "GOOD! ..  [221020, False, ('taskgroup', 'probe'), ('I', 0), 'imageE']  --  ['ruleswERROR', 'rulesw']\n",
      "GOOD! ..  [221020, False, ('taskgroup', 'probe'), ('I', 1), 'imageE']  --  ['ruleswERROR', 'rulesw']\n",
      "GOOD! ..  [221020, False, ('taskgroup', 'probe'), ('I', 0), 'firstraise']  --  ['ruleswERROR', 'rulesw']\n",
      "GOOD! ..  [221020, False, ('taskgroup', 'probe'), ('I', 1), 'firstraise']  --  ['ruleswERROR', 'rulesw']\n",
      "GOOD! ..  [221020, False, ('taskgroup', 'probe'), ('I', 0), 'stroke']  --  ['ruleswERROR', 'rulesw']\n",
      "GOOD! ..  [221020, False, ('taskgroup', 'probe'), ('I', 1), 'stroke']  --  ['ruleswERROR', 'rulesw']\n",
      "GOOD! ..  [221020, False, ('taskgroup', 'probe'), ('I', 1), 'doneb']  --  ['ruleswERROR', 'rulesw']\n",
      "GOOD! ..  [221020, False, ('taskgroup', 'probe'), ('I', 0), 'post']  --  ['ruleswERROR', 'rulesw']\n",
      "GOOD! ..  [221020, False, ('taskgroup', 'probe'), ('I', 1), 'post']  --  ['ruleswERROR', 'rulesw']\n",
      "GOOD! ..  [221020, False, ('taskgroup', 'probe'), ('I', 1), 'reward']  --  ['ruleswERROR', 'rulesw']\n",
      "GOOD! ..  [221031, False, ('taskgroup', 'probe'), ('I', 0), 'rulecueL']  --  ['ruleswERROR', 'rulesw']\n",
      "GOOD! ..  [221031, False, ('taskgroup', 'probe'), ('I', 0), 'imageE']  --  ['ruleswERROR', 'rulesw']\n",
      "GOOD! ..  [221031, False, ('taskgroup', 'probe'), ('I', 0), 'imageL']  --  ['ruleswERROR', 'rulesw']\n",
      "GOOD! ..  [221031, False, ('taskgroup', 'probe'), ('I', 0), 'stroke']  --  ['ruleswERROR', 'rulesw']\n",
      "GOOD! ..  [221031, False, ('taskgroup', 'probe'), ('I', 0), 'baseline']  --  ['ruleswERROR', 'rulesw']\n",
      "GOOD! ..  [221031, False, ('taskgroup', 'probe'), ('I', 0), 'rulecueE']  --  ['ruleswERROR', 'rulesw']\n",
      "GOOD! ..  [221031, False, ('taskgroup', 'probe'), ('I', 0), 'firstraise']  --  ['ruleswERROR', 'rulesw']\n",
      "GOOD! ..  [221031, False, ('taskgroup', 'probe'), ('I', 0), 'post']  --  ['ruleswERROR', 'rulesw']\n",
      "GOOD! ..  [221102, False, ('taskgroup',), ('I',), 'baseline']  --  ['ruleswERROR', 'rulesw']\n",
      "GOOD! ..  [221102, False, ('taskgroup',), ('I',), 'rulecueE']  --  ['ruleswERROR', 'rulesw']\n",
      "GOOD! ..  [221102, False, ('taskgroup',), ('I',), 'rulecueL']  --  ['ruleswERROR', 'rulesw']\n",
      "GOOD! ..  [221102, False, ('taskgroup',), ('I',), 'imageE']  --  ['ruleswERROR', 'rulesw']\n",
      "GOOD! ..  [221102, False, ('taskgroup',), ('I',), 'imageL']  --  ['ruleswERROR', 'rulesw']\n",
      "GOOD! ..  [221102, False, ('taskgroup',), ('I',), 'firstraise']  --  ['ruleswERROR', 'rulesw']\n",
      "GOOD! ..  [221102, False, ('taskgroup',), ('I',), 'stroke']  --  ['ruleswERROR', 'rulesw']\n",
      "GOOD! ..  [221102, False, ('taskgroup',), ('I',), 'post']  --  ['ruleswERROR', 'rulesw']\n",
      "GOOD! ..  [221107, False, ('taskgroup', 'probe'), ('I', 0), 'imageE']  --  ['ruleswERROR', 'rulesw']\n",
      "GOOD! ..  [221107, False, ('taskgroup', 'probe'), ('I', 0), 'rulecueL']  --  ['ruleswERROR', 'rulesw']\n",
      "GOOD! ..  [221107, False, ('taskgroup', 'probe'), ('I', 0), 'imageL']  --  ['ruleswERROR', 'rulesw']\n",
      "GOOD! ..  [221107, False, ('taskgroup', 'probe'), ('I', 0), 'stroke']  --  ['ruleswERROR', 'rulesw']\n",
      "GOOD! ..  [221107, False, ('taskgroup', 'probe'), ('I', 0), 'baseline']  --  ['ruleswERROR', 'rulesw']\n",
      "GOOD! ..  [221107, False, ('taskgroup', 'probe'), ('I', 0), 'rulecueE']  --  ['ruleswERROR', 'rulesw']\n",
      "GOOD! ..  [221107, False, ('taskgroup', 'probe'), ('I', 0), 'firstraise']  --  ['ruleswERROR', 'rulesw']\n",
      "GOOD! ..  [221107, False, ('taskgroup', 'probe'), ('I', 0), 'post']  --  ['ruleswERROR', 'rulesw']\n",
      "GOOD! ..  [221112, False, ('taskgroup', 'probe'), ('I', 0), 'baseline']  --  ['ruleswERROR', 'rulesw']\n"
     ]
    },
    {
     "name": "stdout",
     "output_type": "stream",
     "text": [
      "GOOD! ..  [221112, False, ('taskgroup', 'probe'), ('I', 0), 'rulecueE']  --  ['ruleswERROR', 'rulesw']\n",
      "GOOD! ..  [221112, False, ('taskgroup', 'probe'), ('I', 0), 'rulecueL']  --  ['ruleswERROR', 'rulesw']\n",
      "GOOD! ..  [221112, False, ('taskgroup', 'probe'), ('I', 0), 'imageE']  --  ['ruleswERROR', 'rulesw']\n",
      "GOOD! ..  [221112, False, ('taskgroup', 'probe'), ('I', 0), 'imageL']  --  ['ruleswERROR', 'rulesw']\n",
      "GOOD! ..  [221112, False, ('taskgroup', 'probe'), ('I', 0), 'firstraise']  --  ['ruleswERROR', 'rulesw']\n",
      "GOOD! ..  [221112, False, ('taskgroup', 'probe'), ('I', 0), 'stroke']  --  ['ruleswERROR', 'rulesw']\n",
      "GOOD! ..  [221112, False, ('taskgroup', 'probe'), ('I', 0), 'post']  --  ['ruleswERROR', 'rulesw']\n",
      "GOOD! ..  [221114, False, ('taskgroup', 'probe'), ('I', 0), 'rulecueL']  --  ['ruleswERROR', 'rulesw']\n",
      "GOOD! ..  [221114, False, ('taskgroup', 'probe'), ('I', 0), 'imageE']  --  ['ruleswERROR', 'rulesw']\n",
      "GOOD! ..  [221114, False, ('taskgroup', 'probe'), ('I', 0), 'imageL']  --  ['ruleswERROR', 'rulesw']\n",
      "GOOD! ..  [221114, False, ('taskgroup', 'probe'), ('I', 0), 'stroke']  --  ['ruleswERROR', 'rulesw']\n",
      "GOOD! ..  [221114, False, ('taskgroup', 'probe'), ('I', 0), 'baseline']  --  ['ruleswERROR', 'rulesw']\n",
      "GOOD! ..  [221114, False, ('taskgroup', 'probe'), ('I', 0), 'rulecueE']  --  ['ruleswERROR', 'rulesw']\n",
      "GOOD! ..  [221114, False, ('taskgroup', 'probe'), ('I', 0), 'firstraise']  --  ['ruleswERROR', 'rulesw']\n",
      "GOOD! ..  [221114, False, ('taskgroup', 'probe'), ('I', 0), 'post']  --  ['ruleswERROR', 'rulesw']\n",
      "GOOD! ..  [221119, False, ('taskgroup', 'probe'), ('I', 0), 'baseline']  --  ['ruleswERROR', 'rulesw']\n",
      "GOOD! ..  [221119, False, ('taskgroup', 'probe'), ('I', 1), 'baseline']  --  ['ruleswERROR', 'rulesw']\n",
      "GOOD! ..  [221119, False, ('taskgroup', 'probe'), ('I', 0), 'rulecueE']  --  ['ruleswERROR', 'rulesw']\n",
      "GOOD! ..  [221119, False, ('taskgroup', 'probe'), ('I', 1), 'rulecueE']  --  ['ruleswERROR', 'rulesw']\n",
      "GOOD! ..  [221119, False, ('taskgroup', 'probe'), ('I', 0), 'imageE']  --  ['ruleswERROR', 'rulesw']\n",
      "GOOD! ..  [221119, False, ('taskgroup', 'probe'), ('I', 1), 'imageE']  --  ['ruleswERROR', 'rulesw']\n",
      "GOOD! ..  [221119, False, ('taskgroup', 'probe'), ('I', 0), 'firstraise']  --  ['ruleswERROR', 'rulesw']\n",
      "GOOD! ..  [221119, False, ('taskgroup', 'probe'), ('I', 1), 'firstraise']  --  ['ruleswERROR', 'rulesw']\n",
      "GOOD! ..  [221119, False, ('taskgroup', 'probe'), ('I', 0), 'stroke']  --  ['ruleswERROR', 'rulesw']\n",
      "GOOD! ..  [221119, False, ('taskgroup', 'probe'), ('I', 1), 'stroke']  --  ['ruleswERROR', 'rulesw']\n",
      "GOOD! ..  [221119, False, ('taskgroup', 'probe'), ('I', 1), 'doneb']  --  ['ruleswERROR', 'rulesw']\n",
      "GOOD! ..  [221119, False, ('taskgroup', 'probe'), ('I', 0), 'post']  --  ['ruleswERROR', 'rulesw']\n",
      "GOOD! ..  [221119, False, ('taskgroup', 'probe'), ('I', 1), 'post']  --  ['ruleswERROR', 'rulesw']\n",
      "GOOD! ..  [221121, False, ('taskgroup', 'probe'), ('I', 0), 'baseline']  --  ['ruleswERROR', 'rulesw']\n",
      "GOOD! ..  [221121, False, ('taskgroup', 'probe'), ('I', 0), 'rulecueE']  --  ['ruleswERROR', 'rulesw']\n",
      "GOOD! ..  [221121, False, ('taskgroup', 'probe'), ('I', 0), 'rulecueL']  --  ['ruleswERROR', 'rulesw']\n",
      "GOOD! ..  [221121, False, ('taskgroup', 'probe'), ('I', 0), 'imageE']  --  ['ruleswERROR', 'rulesw']\n",
      "GOOD! ..  [221121, False, ('taskgroup', 'probe'), ('I', 0), 'imageL']  --  ['ruleswERROR', 'rulesw']\n",
      "GOOD! ..  [221121, False, ('taskgroup', 'probe'), ('I', 0), 'firstraise']  --  ['ruleswERROR', 'rulesw']\n",
      "GOOD! ..  [221121, False, ('taskgroup', 'probe'), ('I', 0), 'stroke']  --  ['ruleswERROR', 'rulesw']\n",
      "GOOD! ..  [221121, False, ('taskgroup', 'probe'), ('I', 0), 'post']  --  ['ruleswERROR', 'rulesw']\n",
      "GOOD! ..  [221125, False, ('taskgroup', 'probe'), ('I', 0), 'rulecueL']  --  ['ruleswERROR', 'rulesw']\n",
      "GOOD! ..  [221125, False, ('taskgroup', 'probe'), ('E', 1), 'rulecueL']  --  ['ruleswERROR', 'rulesw']\n",
      "GOOD! ..  [221125, False, ('taskgroup', 'probe'), ('I', 0), 'imageE']  --  ['ruleswERROR', 'rulesw']\n",
      "GOOD! ..  [221125, False, ('taskgroup', 'probe'), ('E', 1), 'imageE']  --  ['ruleswERROR', 'rulesw']\n",
      "GOOD! ..  [221125, False, ('taskgroup', 'probe'), ('I', 0), 'imageL']  --  ['ruleswERROR', 'rulesw']\n",
      "GOOD! ..  [221125, False, ('taskgroup', 'probe'), ('E', 1), 'imageL']  --  ['ruleswERROR', 'rulesw']\n",
      "GOOD! ..  [221125, False, ('taskgroup', 'probe'), ('I', 0), 'stroke']  --  ['ruleswERROR', 'rulesw']\n",
      "GOOD! ..  [221125, False, ('taskgroup', 'probe'), ('E', 1), 'stroke']  --  ['ruleswERROR', 'rulesw']\n",
      "GOOD! ..  [221125, False, ('taskgroup', 'probe'), ('E', 1), 'baseline']  --  ['ruleswERROR', 'rulesw']\n",
      "GOOD! ..  [221125, False, ('taskgroup', 'probe'), ('I', 0), 'baseline']  --  ['ruleswERROR', 'rulesw']\n",
      "GOOD! ..  [221125, False, ('taskgroup', 'probe'), ('E', 1), 'rulecueE']  --  ['ruleswERROR', 'rulesw']\n",
      "GOOD! ..  [221125, False, ('taskgroup', 'probe'), ('I', 0), 'rulecueE']  --  ['ruleswERROR', 'rulesw']\n",
      "GOOD! ..  [221125, False, ('taskgroup', 'probe'), ('E', 1), 'firstraise']  --  ['ruleswERROR', 'rulesw']\n",
      "GOOD! ..  [221125, False, ('taskgroup', 'probe'), ('I', 0), 'firstraise']  --  ['ruleswERROR', 'rulesw']\n",
      "GOOD! ..  [221125, False, ('taskgroup', 'probe'), ('E', 1), 'doneb']  --  ['ruleswERROR', 'rulesw']\n",
      "GOOD! ..  [221125, False, ('taskgroup', 'probe'), ('E', 1), 'post']  --  ['ruleswERROR', 'rulesw']\n",
      "GOOD! ..  [221125, False, ('taskgroup', 'probe'), ('I', 0), 'post']  --  ['ruleswERROR', 'rulesw']\n",
      "GOOD! ..  [221125, False, ('taskgroup', 'probe'), ('E', 1), 'reward']  --  ['ruleswERROR', 'rulesw']\n"
     ]
    }
   ],
   "source": [
    "### v1 - get each df, adn for each get diff of scores (for each chan).\n",
    "from pythonlib.tools.pandastools import grouping_get_inner_items, grouping_append_and_return_inner_items, append_col_with_grp_index\n",
    "def _dfvar_extract_matched(df_var, grouping, var_to_match, levels_to_get):\n",
    "    \"\"\"\n",
    "    PARAMS;\n",
    "    - grouping, each conjucntion must have each level in levels_to_get (of var_to_match)\n",
    "    or else will throw out.\n",
    "    \"\"\"\n",
    "    df_var = append_col_with_grp_index(df_var, grouping, \"_grp\")\n",
    "    groupdict = grouping_get_inner_items(df_var, \"_grp\", var_to_match)\n",
    "\n",
    "    list_df = []\n",
    "    for grp, vals in groupdict.items():\n",
    "\n",
    "        if sorted(vals) == sorted(levels_to_get):\n",
    "            # Then good, has all analyver\n",
    "\n",
    "            print(\"GOOD! .. \", grp, ' -- ', vals)\n",
    "\n",
    "            dfthis = df_var[df_var[\"_grp\"] == grp]\n",
    "            list_df.append(dfthis)\n",
    "\n",
    "    DF_VAR_MATCHED = pd.concat(list_df).reset_index(drop=True)\n",
    "    \n",
    "    return DF_VAR_MATCHED\n",
    "\n",
    "grouping = [\"META_date\", \"is_same_beh_across_epochs\", \"var_others\", \"lev_in_var_others\", \"eventsemantic\"]\n",
    "DF_VAR_MATCHED = _dfvar_extract_matched(DF_VAR, grouping, \"ANALY_VER\", LIST_ANALY_VER)"
   ]
  },
  {
   "cell_type": "code",
   "execution_count": 7,
   "metadata": {},
   "outputs": [],
   "source": [
    "DF_VAR_MATCHED[\"grp\"] = DF_VAR_MATCHED[\"_grp\"] "
   ]
  },
  {
   "cell_type": "code",
   "execution_count": null,
   "metadata": {},
   "outputs": [],
   "source": [
    "# 2) much quicker, no need to pre-find cases that have both error and correct. This done\n",
    "# autoamtically here.\n",
    "from pythonlib.tools.pandastools import summarize_featurediff\n",
    "dfsummary, dfsummaryflat, COLNAMES_NOABS, COLNAMES_ABS, COLNAMES_DIFF, dfpivot = summarize_featurediff(DF_VAR, GROUPING=\"ANALY_VER\", GROUPING_LEVELS=[\"rulesw\", \"ruleswERROR\"], \n",
    "                     FEATURE_NAMES=[\"val\"], INDEX=[\"bregion\", \"chan\", \"eventsemantic\", \"META_date\", \"is_same_beh_across_epochs\", \"var_others\", \"lev_in_var_others\"], return_dfpivot=True)\n",
    "grouping_print_n_samples(dfsummary, grouping)"
   ]
  },
  {
   "cell_type": "code",
   "execution_count": 8,
   "metadata": {},
   "outputs": [],
   "source": [
    "eventorder = _plot_get_eventsemantic_ordered(DF_VAR)"
   ]
  },
  {
   "cell_type": "code",
   "execution_count": null,
   "metadata": {
    "scrolled": true
   },
   "outputs": [],
   "source": [
    "if False:\n",
    "    # plot\n",
    "    %matplotlib inline\n",
    "    import seaborn as sns\n",
    "    from pythonlib.tools.snstools import rotateLabel\n",
    "    fig = sns.catplot(data=dfsummary, x=\"eventsemantic\", y=\"val-ruleswERRORminrulesw\", col=\"bregion\",\n",
    "                      order = eventorder, row=\"date\", kind=\"point\", ci=68, aspect=1, hue=\"grp\")\n",
    "    rotateLabel(fig)\n",
    "    fig.savefig(f\"{sdir}/.pdf\")\n",
    "\n"
   ]
  },
  {
   "cell_type": "code",
   "execution_count": null,
   "metadata": {},
   "outputs": [],
   "source": [
    "# plot overlaid without taking difference"
   ]
  },
  {
   "cell_type": "code",
   "execution_count": 9,
   "metadata": {},
   "outputs": [],
   "source": [
    "sdir = f\"{SAVEDIR}/overlays\"\n",
    "os.makedirs(sdir, exist_ok=True)"
   ]
  },
  {
   "cell_type": "code",
   "execution_count": 10,
   "metadata": {},
   "outputs": [],
   "source": [
    "import matplotlib.pyplot as plt\n"
   ]
  },
  {
   "cell_type": "code",
   "execution_count": null,
   "metadata": {
    "scrolled": true
   },
   "outputs": [],
   "source": [
    "if False: # TAKES TOO LOING\n",
    "    import seaborn as sns\n",
    "    list_date = DF_VAR_MATCHED[\"META_date\"].unique()\n",
    "    for date in list_date:\n",
    "\n",
    "        dfthis = DF_VAR_MATCHED[DF_VAR_MATCHED[\"META_date\"]==date]\n",
    "        fig = sns.catplot(data=dfthis, x=\"eventsemantic\", y=\"val\", col=\"bregion\",\n",
    "                          hue=\"ANALY_VER\", order = eventorder, kind=\"point\", ci=68, \n",
    "                          row = \"grp\", aspect=1)\n",
    "\n",
    "        rotateLabel(fig)\n",
    "        for ax in fig.axes.flatten():\n",
    "            ax.axhline(0, color=\"k\", alpha=0.25)        \n",
    "        fig.savefig(f\"{sdir}/{date}.pdf\")\n",
    "        plt.close(\"all\")\n",
    "\n",
    "\n",
    "        ############# difference\n",
    "        from pythonlib.tools.pandastools import summarize_featurediff\n",
    "        dfsummary, dfsummaryflat, COLNAMES_NOABS, COLNAMES_ABS, COLNAMES_DIFF, dfpivot = summarize_featurediff(dfthis, GROUPING=\"ANALY_VER\", GROUPING_LEVELS=[\"rulesw\", \"ruleswERROR\"], \n",
    "                             FEATURE_NAMES=[\"val\"], INDEX=[\"grp\", \"bregion\", \"chan\", \"eventsemantic\", \"META_date\", \"is_same_beh_across_epochs\", \"var_others\", \"lev_in_var_others\"], return_dfpivot=True)\n",
    "        fig = sns.catplot(data=dfsummary, x=\"eventsemantic\", y=\"val-ruleswERRORminrulesw\", col=\"bregion\",\n",
    "                      order = eventorder, row=\"grp\", kind=\"point\", ci=68, aspect=1)\n",
    "        rotateLabel(fig)\n",
    "        for ax in fig.axes.flatten():\n",
    "            ax.axhline(0, color=\"k\", alpha=0.25)\n",
    "        fig.savefig(f\"{sdir}/{date}_error_minus_rules.pdf\")\n",
    "        plt.close(\"all\")\n"
   ]
  },
  {
   "cell_type": "code",
   "execution_count": 12,
   "metadata": {},
   "outputs": [
    {
     "data": {
      "text/plain": [
       "0            M1_m\n",
       "1            M1_m\n",
       "2            M1_m\n",
       "3            M1_m\n",
       "4            M1_m\n",
       "           ...   \n",
       "90797    preSMA_a\n",
       "90798    preSMA_a\n",
       "90799    preSMA_a\n",
       "90800    preSMA_a\n",
       "90801    preSMA_a\n",
       "Name: bregion, Length: 90802, dtype: object"
      ]
     },
     "execution_count": 12,
     "metadata": {},
     "output_type": "execute_result"
    }
   ],
   "source": [
    "DF_VAR_MATCHED[\"bregion\"]"
   ]
  },
  {
   "cell_type": "code",
   "execution_count": 16,
   "metadata": {},
   "outputs": [],
   "source": [
    "# summary plot\n",
    "dfthis = DF_VAR_MATCHED\n",
    "fig = sns.catplot(data=dfthis, x=\"eventsemantic\", y=\"val\", col=\"bregion\",\n",
    "                  hue=\"ANALY_VER\", order = eventorder, kind=\"point\", ci=68, aspect=1)\n",
    "\n",
    "rotateLabel(fig)\n",
    "for ax in fig.axes.flatten():\n",
    "    ax.axhline(0, color=\"k\", alpha=0.25)        \n",
    "fig.savefig(f\"{sdir}/ALL.pdf\")\n",
    "plt.close(\"all\")"
   ]
  },
  {
   "cell_type": "code",
   "execution_count": 17,
   "metadata": {},
   "outputs": [],
   "source": [
    "# Clean\n",
    "CLEAN = True\n",
    "bregions_in_order = [\"M1_m\", \"PMd_p\", \"vlPFC_p\", \"vlPFC_a\", \"preSMA_a\"]\n",
    "dfthis = DF_VAR_MATCHED[\n",
    "    (DF_VAR_MATCHED[\"bregion\"].isin(bregions_in_order))\n",
    "]\n",
    "\n",
    "# summary plot\n",
    "fig = sns.catplot(data=dfthis, x=\"eventsemantic\", y=\"val\", col=\"bregion\",\n",
    "                  hue=\"ANALY_VER\", order = eventorder, kind=\"point\", ci=68, aspect=1)\n",
    "\n",
    "rotateLabel(fig)\n",
    "for ax in fig.axes.flatten():\n",
    "    ax.axhline(0, color=\"k\", alpha=0.25)        \n",
    "fig.savefig(f\"{sdir}/ALL_subregions.pdf\")\n",
    "plt.close(\"all\")"
   ]
  },
  {
   "cell_type": "code",
   "execution_count": null,
   "metadata": {},
   "outputs": [],
   "source": [
    "if False:\n",
    "    # NOT READY\n",
    "    ############# difference\n",
    "    from pythonlib.tools.pandastools import summarize_featurediff\n",
    "    dfsummary, dfsummaryflat, COLNAMES_NOABS, COLNAMES_ABS, COLNAMES_DIFF, dfpivot = summarize_featurediff(dfthis, GROUPING=\"ANALY_VER\", GROUPING_LEVELS=[\"rulesw\", \"ruleswERROR\"], \n",
    "                         FEATURE_NAMES=[\"val\"], INDEX=[\"grp\", \"bregion\", \"chan\", \"eventsemantic\", \"META_date\", \"is_same_beh_across_epochs\", \"var_others\", \"lev_in_var_others\"], return_dfpivot=True)\n",
    "    fig = sns.catplot(data=dfsummary, x=\"eventsemantic\", y=\"val-ruleswERRORminrulesw\", col=\"bregion\",\n",
    "                  order = eventorder, kind=\"point\", ci=68, aspect=1)\n",
    "    rotateLabel(fig)\n",
    "    for ax in fig.axes.flatten():\n",
    "        ax.axhline(0, color=\"k\", alpha=0.25)\n",
    "    fig.savefig(f\"{sdir}/ALL_error_minus_rules.pdf\")\n",
    "    plt.close(\"all\")"
   ]
  },
  {
   "cell_type": "markdown",
   "metadata": {},
   "source": [
    "##### Testinmg"
   ]
  },
  {
   "cell_type": "code",
   "execution_count": null,
   "metadata": {},
   "outputs": [
    {
     "name": "stderr",
     "output_type": "stream",
     "text": [
      "[autoreload of _distutils_hack failed: Traceback (most recent call last):\n",
      "  File \"/home/lucast4/miniconda3/envs/drag2_matlab/lib/python3.8/site-packages/IPython/extensions/autoreload.py\", line 257, in check\n",
      "    except KeyError:\n",
      "  File \"/home/lucast4/miniconda3/envs/drag2_matlab/lib/python3.8/site-packages/IPython/extensions/autoreload.py\", line 455, in superreload\n",
      "    old_objects.setdefault(key, []).append(weakref.ref(obj))\n",
      "  File \"/home/lucast4/miniconda3/envs/drag2_matlab/lib/python3.8/importlib/__init__.py\", line 166, in reload\n",
      "    spec = module.__spec__ = _bootstrap._find_spec(name, pkgpath, target)\n",
      "  File \"<frozen importlib._bootstrap>\", line 914, in _find_spec\n",
      "  File \"/home/lucast4/miniconda3/envs/drag2_matlab/lib/python3.8/site-packages/_distutils_hack/__init__.py\", line 95, in find_spec\n",
      "    method_name = 'spec_for_{fullname}'.format(**locals())\n",
      "NameError: name 'locals' is not defined\n",
      "]\n"
     ]
    }
   ],
   "source": [
    "DF_VAR"
   ]
  }
 ],
 "metadata": {
  "kernelspec": {
   "display_name": "Python 3 (ipykernel)",
   "language": "python",
   "name": "python3"
  },
  "language_info": {
   "codemirror_mode": {
    "name": "ipython",
    "version": 3
   },
   "file_extension": ".py",
   "mimetype": "text/x-python",
   "name": "python",
   "nbconvert_exporter": "python",
   "pygments_lexer": "ipython3",
   "version": "3.8.13"
  }
 },
 "nbformat": 4,
 "nbformat_minor": 2
}
