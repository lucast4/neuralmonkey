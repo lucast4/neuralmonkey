{
 "cells": [
  {
   "cell_type": "code",
   "execution_count": 2,
   "id": "initial_id",
   "metadata": {
    "collapsed": true,
    "ExecuteTime": {
     "end_time": "2024-01-13T23:41:40.042888483Z",
     "start_time": "2024-01-13T23:41:39.982388294Z"
    }
   },
   "outputs": [
    {
     "data": {
      "text/plain": "' Goal: activity related to sequence of shapes (and locations, etc)\\n- e.g,, reuse of activiyt.\\nRequires trial-level rasters (as opposed to event-aligned rasters)\\n'"
     },
     "execution_count": 2,
     "metadata": {},
     "output_type": "execute_result"
    }
   ],
   "source": [
    "import pandas as pd\n",
    "\n",
    "\"\"\" Sandobx for all things realted to Snippets extraction and generic stuff.\n",
    "Not downstream things (elsewhere).\n",
    "\"\"\""
   ]
  },
  {
   "cell_type": "code",
   "execution_count": 3,
   "outputs": [
    {
     "name": "stdout",
     "output_type": "stream",
     "text": [
      "The autoreload extension is already loaded. To reload it, use:\n",
      "  %reload_ext autoreload\n"
     ]
    }
   ],
   "source": [
    "%load_ext autoreload\n",
    "%autoreload 2\n",
    "\n",
    "from neuralmonkey.classes.session import load_mult_session_helper\n",
    "import matplotlib\n",
    "import matplotlib.pyplot as plt\n",
    "import numpy as np\n",
    "\n",
    "#%matplotlib inline"
   ],
   "metadata": {
    "collapsed": false,
    "ExecuteTime": {
     "end_time": "2024-01-13T23:41:40.528561531Z",
     "start_time": "2024-01-13T23:41:40.457602027Z"
    }
   },
   "id": "93d48dd175d3e9e0"
  },
  {
   "cell_type": "code",
   "execution_count": null,
   "outputs": [],
   "source": [
    "# DATE = 230623\n",
    "# animal = \"Pancho\"\n",
    "DATE = 230630\n",
    "animal = \"Diego\"\n",
    "MS = load_mult_session_helper(DATE, animal, MINIMAL_LOADING=True, spikes_version=\"kilosort_if_exists\") \n",
    "# MS = load_mult_session_helper(DATE, animal, MINIMAL_LOADING=True, spikes_version=\"tdt\") \n",
    "\n",
    "### Snippets, split by stroke index and location\n",
    "MS.print_summary_sessions()\n",
    "from neuralmonkey.classes.snippets import Snippets, extraction_helper\n",
    "\n",
    "# Pick out a single session\n",
    "sn = MS.SessionsList[0]\n"
   ],
   "metadata": {
    "collapsed": false
   },
   "id": "4f6a93293ea856b"
  },
  {
   "cell_type": "code",
   "execution_count": null,
   "outputs": [],
   "source": [
    "# Turn on debug mode, this prunes sites and trials, so below runs faster\n",
    "# sn.debug_mode_switch_to(sites=True, trials=False)\n",
    "sn.debug_mode_switch_to(sites=False, trials=False)"
   ],
   "metadata": {
    "collapsed": false
   },
   "id": "3a14b819b3467a91"
  },
  {
   "cell_type": "code",
   "execution_count": null,
   "outputs": [],
   "source": [
    "sn.sitegetter_print_summarytext_each_unit"
   ],
   "metadata": {
    "collapsed": false
   },
   "id": "c70caea262e5b9f5"
  },
  {
   "cell_type": "markdown",
   "source": [
    "##### Stroke snippets"
   ],
   "metadata": {
    "collapsed": false
   },
   "id": "ad104c1b331d0f69"
  },
  {
   "cell_type": "code",
   "execution_count": null,
   "outputs": [],
   "source": [
    "    \n",
    "# == MODIFY THESE:\n",
    "list_pre_dur = [-0.2]\n",
    "list_post_dur = [0.4]\n",
    "# list_pre_dur = [-0.5]\n",
    "# list_post_dur = [0.5]\n",
    "# which_level = \"stroke_off\"\n",
    "which_level = \"stroke\"\n",
    "\n",
    "# == IGNORE THESE:\n",
    "strokes_only_keep_single = False # if True, then prunes dataset, removing trials \"remove_if_multiple_behstrokes_per_taskstroke\"\n",
    "prune_feature_levels_min_n_trials = 1 \n",
    "list_events = [] # must be empty\n",
    "list_features_extraction = []\n",
    "list_features_get_conjunction = []\n",
    "trials_prune_just_those_including_events=False\n",
    "\n",
    "SP = Snippets(sn,\n",
    "    which_level,\n",
    "    list_events,\n",
    "    list_features_extraction,\n",
    "    list_features_get_conjunction,\n",
    "    list_pre_dur,\n",
    "    list_post_dur,\n",
    "    strokes_only_keep_single=strokes_only_keep_single,\n",
    "    tasks_only_keep_these=None,\n",
    "    prune_feature_levels_min_n_trials=prune_feature_levels_min_n_trials,\n",
    "    dataset_pruned_for_trial_analysis=None,\n",
    "    trials_prune_just_those_including_events=trials_prune_just_those_including_events,\n",
    "    fr_which_version='sqrt',\n",
    "    NEW_VERSION=True,\n",
    "    SKIP_DATA_EXTRACTION=False\n",
    "             )\n"
   ],
   "metadata": {
    "collapsed": false
   },
   "id": "4e03f0cc57e4d2de"
  },
  {
   "cell_type": "markdown",
   "source": [
    "##### Flex snippets"
   ],
   "metadata": {
    "collapsed": false
   },
   "id": "e39e027d7c744294"
  },
  {
   "cell_type": "code",
   "execution_count": null,
   "outputs": [],
   "source": [
    "# Main code for extracting Snippets (SP)\n",
    "\n",
    "# == MODIFY THESE:\n",
    "list_events = [\"go\"]\n",
    "list_pre_dur = [-0.5]\n",
    "list_post_dur = [0.5]\n",
    "\n",
    "# == IGNORE THESE:\n",
    "which_level = \"flex\"\n",
    "list_features_extraction = []\n",
    "list_features_get_conjunction = []\n",
    "trials_prune_just_those_including_events=False\n",
    "\n",
    "SP = Snippets(sn,\n",
    "    which_level,\n",
    "    list_events,\n",
    "    list_features_extraction,\n",
    "    list_features_get_conjunction,\n",
    "    list_pre_dur,\n",
    "    list_post_dur,\n",
    "    strokes_only_keep_single=False,\n",
    "    tasks_only_keep_these=None,\n",
    "    prune_feature_levels_min_n_trials=None,\n",
    "    dataset_pruned_for_trial_analysis=None,\n",
    "    trials_prune_just_those_including_events=trials_prune_just_those_including_events,\n",
    "    fr_which_version='sqrt',\n",
    "    NEW_VERSION=True,\n",
    "    SKIP_DATA_EXTRACTION=False\n",
    "             )\n"
   ],
   "metadata": {
    "collapsed": false
   },
   "id": "376db5e35de0b5c8"
  },
  {
   "cell_type": "code",
   "execution_count": null,
   "outputs": [],
   "source": [
    "# Inspect the data. \n",
    "# Each row represents a single combination of:\n",
    "# (trial, chan, event). To see that, inspect the output of \n",
    "\n",
    "display(SP.DfScalar)\n",
    "\n",
    "from pythonlib.tools.pandastools import grouping_print_n_samples\n",
    "grouping_print_n_samples(SP.DfScalar, [\"trialcode\", \"chan\", \"event_aligned\"])\n"
   ],
   "metadata": {
    "collapsed": false
   },
   "id": "7034689c6cfa7baf"
  },
  {
   "cell_type": "markdown",
   "source": [
    "##### Splitting by n taksstrokes intask"
   ],
   "metadata": {
    "collapsed": false
   },
   "id": "34241cad68f62182"
  },
  {
   "cell_type": "code",
   "execution_count": null,
   "outputs": [],
   "source": [
    "D = SP.datasetbeh_extract_dataset()\n",
    "D.extract_beh_features([\"num_strokes_task\"])\n",
    "SP.datasetbeh_append_column(\"FEAT_num_strokes_task\", D)\n",
    "# Conjunction of stroke index and num strokes in task.\n",
    "from pythonlib.tools.pandastools import append_col_with_grp_index\n",
    "SP.DfScalar = append_col_with_grp_index(SP.DfScalar, [\"FEAT_num_strokes_task\", \"stroke_index\"], \"nstk_stkidx\", False)\n",
    "SP.DfScalar[\"nstk_stkidx\"].value_counts()\n",
    "\n",
    "SP.DfScalar_OutlierRows = append_col_with_grp_index(SP.DfScalar_OutlierRows, [\"FEAT_num_strokes_task\", \"stroke_index\"], \"nstk_stkidx\", False)\n",
    "SP.DfScalar_OutlierRows[\"nstk_stkidx\"].value_counts()\n",
    "\n"
   ],
   "metadata": {
    "collapsed": false
   },
   "id": "d713b28c420def0d"
  },
  {
   "cell_type": "markdown",
   "source": [
    "##### Plotting functions for Snippets"
   ],
   "metadata": {
    "collapsed": false
   },
   "id": "1581f9306ff7aee5"
  },
  {
   "cell_type": "code",
   "execution_count": null,
   "outputs": [],
   "source": [
    "SAVEDIR = \"/gorilla1/analyses/recordings/main/shape_vs_loc_index_PIG\"\n",
    "import os\n",
    "savedir = f\"{SAVEDIR}/{animal}/{DATE}\"\n",
    "os.makedirs(savedir, exist_ok=True)\n",
    "print(savedir)"
   ],
   "metadata": {
    "collapsed": false
   },
   "id": "53f7760d5b702d8c"
  },
  {
   "cell_type": "code",
   "execution_count": null,
   "outputs": [],
   "source": [
    "if DEBUG:\n",
    "    # if you debug, then you have small n trials, so lower the threshold for keeping data.\n",
    "    print(SP.ParamsGlobals)1\n",
    "    SP.globals_update(globals_nmin=1)\n"
   ],
   "metadata": {
    "collapsed": false
   },
   "id": "19ce3ec11b83e8fc"
  },
  {
   "cell_type": "code",
   "execution_count": null,
   "outputs": [],
   "source": [
    "chan = SP.Sites[0]\n",
    "SP.plotgood_rasters(chan)"
   ],
   "metadata": {
    "collapsed": false
   },
   "id": "a346cbba622767ab"
  },
  {
   "cell_type": "code",
   "execution_count": null,
   "outputs": [],
   "source": [
    "SP.plotgood_rasters_smfr_combined(chan)"
   ],
   "metadata": {
    "collapsed": false
   },
   "id": "28b2f39b1e8153a1"
  },
  {
   "cell_type": "code",
   "execution_count": null,
   "outputs": [],
   "source": [
    "sn.sitegetter_print_summarytext_each_unit()"
   ],
   "metadata": {
    "collapsed": false
   },
   "id": "a8fb894f6540a8c6"
  },
  {
   "cell_type": "code",
   "execution_count": null,
   "outputs": [],
   "source": [
    "chan = SP.Sites[1]\n",
    "for PLOT_VER in [\"smfr\", \"raster\"]:\n",
    "    SP.plotgood_smfr_each_level_subplot_grid_by_vars(chan, \"shape_oriented\", \n",
    "                                                     \"gridloc\", \"stroke_index\",\n",
    "                                                     PLOT_VER=PLOT_VER);"
   ],
   "metadata": {
    "collapsed": false
   },
   "id": "e951eb32f22bd409"
  },
  {
   "cell_type": "code",
   "execution_count": null,
   "outputs": [],
   "source": [
    "# Rasters and smoothed FR, split by event\n",
    "\n",
    "# SP.datasetbeh_append_column(\"epoch\", sn.Datasetbeh) # assign epoch to SP\n",
    "\n",
    "chan = SP.Sites[1]\n",
    "SP.plotgood_rasters_smfr_each_level_combined(chan, var=\"shape_oriented\", vars_others=[\"gridloc\", \"stroke_index\"]);\n",
    "SP.plotgood_rasters_smfr_each_level_combined(chan, var=\"shape_oriented\", vars_others=[\"gridloc\"]);\n",
    "SP.plotgood_rasters_smfr_each_level_combined(chan, var=\"shape_oriented\", vars_others=[\"stroke_index\"]);\n"
   ],
   "metadata": {
    "collapsed": false
   },
   "id": "485669cb9db872f8"
  },
  {
   "cell_type": "code",
   "execution_count": null,
   "outputs": [],
   "source": [
    "# Show heatmap, conjucntion of other variables (how balanced is it).\n",
    "from pythonlib.tools.pandastools import convert_to_2d_dataframe, grouping_plot_n_samples_conjunction_heatmap\n",
    "# \n",
    "# convert_to_2d_dataframe(SP.DfScalar, \"\")\n",
    "\n",
    "fig = grouping_plot_n_samples_conjunction_heatmap(SP.DfScalar, \"shape_oriented\", \"gridloc\", [\"stroke_index\"])"
   ],
   "metadata": {
    "collapsed": false
   },
   "id": "aa4c0fa6443113b1"
  },
  {
   "cell_type": "code",
   "execution_count": null,
   "outputs": [],
   "source": [
    "chan = SP.Sites[6]\n",
    "PLOT_VER = \"smfr\"\n",
    "SP.plotgood_smfr_each_level_subplot_grid_by_vars(chan, \"shape_oriented\", \n",
    "                                                 \"gridloc\", \"nstk_stkidx\",\n",
    "                                                 PLOT_VER=PLOT_VER);"
   ],
   "metadata": {
    "collapsed": false
   },
   "id": "bdd427e339e8a8e5"
  },
  {
   "cell_type": "code",
   "execution_count": null,
   "outputs": [],
   "source": [
    "chan = SP.Sites[1]"
   ],
   "metadata": {
    "collapsed": false
   },
   "id": "18e00162a8cc9f3d"
  },
  {
   "cell_type": "code",
   "execution_count": null,
   "outputs": [],
   "source": [
    "chan = SP.Sites[1]"
   ],
   "metadata": {
    "collapsed": false
   },
   "id": "a7c636cec88c90d9"
  },
  {
   "cell_type": "code",
   "execution_count": null,
   "outputs": [],
   "source": [
    "SP.plotgood_rasters_smfr_each_level_combined(chan, var=\"shape_oriented\", vars_others=[\"nstk_stkidx\"]);\n"
   ],
   "metadata": {
    "collapsed": false
   },
   "id": "a6f0eea18a706a23"
  },
  {
   "cell_type": "markdown",
   "source": [
    "##### Time warping, so that can look at offset and onset"
   ],
   "metadata": {
    "collapsed": false
   },
   "id": "890a418c81b8ef86"
  },
  {
   "cell_type": "code",
   "execution_count": null,
   "outputs": [],
   "source": [
    "SP.DfScalar[:2]"
   ],
   "metadata": {
    "collapsed": false
   },
   "id": "b22a354fe3ce1d21"
  },
  {
   "cell_type": "markdown",
   "source": [
    "### Computing modulation of activity by certain variables (site by site)"
   ],
   "metadata": {
    "collapsed": false
   },
   "id": "9c4cc1ea25e0e20b"
  },
  {
   "cell_type": "markdown",
   "source": [
    "For each site, compute how strongly it is modulated by a specific variable, computed \n",
    "separatedly for each event."
   ],
   "metadata": {
    "collapsed": false
   },
   "id": "a7fb5df4bc68d48b"
  },
  {
   "cell_type": "code",
   "execution_count": null,
   "outputs": [],
   "source": [
    "SP.DfScalar[:2]"
   ],
   "metadata": {
    "collapsed": false
   },
   "id": "27bfdbb24d81eb51"
  },
  {
   "cell_type": "code",
   "execution_count": null,
   "outputs": [],
   "source": [
    "# First, append the variables that you wish to analyze\n",
    "SP.datasetbeh_append_column(\"epoch\", sn.Datasetbeh) # assign epoch to SP\n"
   ],
   "metadata": {
    "collapsed": false
   },
   "id": "ecfdf5d5d5ada06e"
  },
  {
   "cell_type": "code",
   "execution_count": null,
   "outputs": [],
   "source": [
    "if DEBUG:\n",
    "    # if you debug, then you have small n trials, so lower the threshold for keeping data.\n",
    "    print(SP.ParamsGlobals)\n",
    "    SP.globals_update(globals_nmin=2)\n"
   ],
   "metadata": {
    "collapsed": false
   },
   "id": "257f9171c27e317f"
  },
  {
   "cell_type": "code",
   "execution_count": null,
   "outputs": [],
   "source": [
    "# Run this to compute modulation\n",
    "DF_VAR, DF_FR, DF_FR_LEVELS, list_eventwindow_event = SP.modulationgood_compute_wrapper(\"epoch\", \n",
    "                                                                                        DEBUG_CONJUNCTIONS=False, \n",
    "                                                                                        THINGS_TO_EXTRACT=[\"anova\"])\n"
   ],
   "metadata": {
    "collapsed": false
   },
   "id": "7d0c1041cef6d576"
  },
  {
   "cell_type": "code",
   "execution_count": null,
   "outputs": [],
   "source": [
    "# Plot results and save\n",
    "sdir_base = \"/tmp\"\n",
    "SP.modulationgood_plot_WRAPPER(DF_VAR, DF_FR, DF_FR_LEVELS, list_eventwindow_event, \n",
    "                               var=\"epoch\", vars_conjuction=[\"dummy_var\"],\n",
    "                               sdir_base=sdir_base, N_WAYS=1)"
   ],
   "metadata": {
    "collapsed": false
   },
   "id": "85d3c0aa1e622b60"
  },
  {
   "cell_type": "markdown",
   "source": [
    "### Modulation by time (relative to aligned events)"
   ],
   "metadata": {
    "collapsed": false
   },
   "id": "141aeb9618dd81f7"
  },
  {
   "cell_type": "markdown",
   "source": [
    "For each site x event, compute a scalar value indiicating how much its actiivyt is modulated\n",
    "with respect to this event. This moudlation can be increase in fr, decrease, or any\n",
    "activity pattern that is consistent across trials."
   ],
   "metadata": {
    "collapsed": false
   },
   "id": "6555483c7abc2bf0"
  },
  {
   "cell_type": "code",
   "execution_count": null,
   "outputs": [],
   "source": [
    "# Extract modulation, for each site x event"
   ],
   "metadata": {
    "collapsed": false
   },
   "id": "b841a624dffbd236"
  },
  {
   "cell_type": "code",
   "execution_count": null,
   "outputs": [],
   "source": [
    "from neuralmonkey.analyses.event_temporal_modulation_v2 import preprocess_and_extract\n",
    "from neuralmonkey.analyses.event_temporal_modulation import plot_overview\n",
    "\n",
    "df_modtime = preprocess_and_extract(SP)\n"
   ],
   "metadata": {
    "collapsed": false
   },
   "id": "1942a87f166c9816"
  },
  {
   "cell_type": "code",
   "execution_count": null,
   "outputs": [],
   "source": [
    "# Plot overview of modulation"
   ],
   "metadata": {
    "collapsed": false
   },
   "id": "18b338fe698f96fe"
  },
  {
   "cell_type": "code",
   "execution_count": null,
   "outputs": [],
   "source": [
    "from neuralmonkey.analyses.event_temporal_modulation_v2 import plot_overview\n",
    "SAVEDIR = \"/tmp\"\n",
    "##################### PLOTS\n",
    "plot_overview(df_modtime, SP, SAVEDIR)"
   ],
   "metadata": {
    "collapsed": false
   },
   "id": "528917b01df478f0"
  },
  {
   "cell_type": "markdown",
   "source": [
    "## Sliding decoder"
   ],
   "metadata": {
    "collapsed": false
   },
   "id": "997a56db7b24e8f0"
  },
  {
   "cell_type": "code",
   "execution_count": null,
   "outputs": [],
   "source": [
    "# 1) Separate decoders aligned to stroke onset. (grouping all stroke).\n",
    "# 2) \n"
   ],
   "metadata": {
    "collapsed": false
   },
   "id": "53846024fa502c32"
  },
  {
   "cell_type": "code",
   "execution_count": null,
   "outputs": [],
   "source": [
    "Look at 220713_prims_state_space"
   ],
   "metadata": {
    "collapsed": false
   },
   "id": "37d2b842ea79623a"
  },
  {
   "cell_type": "markdown",
   "source": [
    "# ### Scratch plots"
   ],
   "metadata": {
    "collapsed": false
   },
   "id": "40f17657dbfff1dc"
  },
  {
   "cell_type": "code",
   "execution_count": null,
   "outputs": [],
   "source": [
    "PA.plotNeurHeat(1)\n",
    "PAnorm.plotNeurHeat(1)"
   ],
   "metadata": {
    "collapsed": false
   },
   "id": "deeb863a4a088c71"
  },
  {
   "cell_type": "code",
   "execution_count": null,
   "outputs": [],
   "source": [
    "trial = 10\n",
    "PA.plotNeurTimecourse(trial)\n",
    "PAnorm.plotNeurTimecourse(trial)"
   ],
   "metadata": {
    "collapsed": false
   },
   "id": "c3863f758925c8e2"
  },
  {
   "cell_type": "code",
   "execution_count": null,
   "outputs": [],
   "source": [
    "X = np.mean(PAnorm.X, axis=1, keepdims=False)\n",
    "import seaborn as sns\n",
    "sns.heatmap(X)"
   ],
   "metadata": {
    "collapsed": false
   },
   "id": "5e7079f4e5e76bd3"
  },
  {
   "cell_type": "code",
   "execution_count": null,
   "outputs": [],
   "source": [
    "SP.plotgood_rasters"
   ],
   "metadata": {
    "collapsed": false
   },
   "id": "6a104c0e44bc90e3"
  },
  {
   "cell_type": "code",
   "execution_count": null,
   "outputs": [],
   "source": [],
   "metadata": {
    "collapsed": false
   },
   "id": "85a6fc65b63b6583"
  },
  {
   "cell_type": "code",
   "execution_count": null,
   "outputs": [],
   "source": [
    "# pull out pa for a specific chan\n",
    "chan = SP.Sites[4]"
   ],
   "metadata": {
    "collapsed": false
   },
   "id": "86f08718cde1136f"
  },
  {
   "cell_type": "code",
   "execution_count": null,
   "outputs": [],
   "source": [
    "chan = 50"
   ],
   "metadata": {
    "collapsed": false
   },
   "id": "56e3fe216a0c31eb"
  },
  {
   "cell_type": "code",
   "execution_count": null,
   "outputs": [],
   "source": [
    "PAnorm.Chans"
   ],
   "metadata": {
    "collapsed": false
   },
   "id": "db5b1e671135146a"
  },
  {
   "cell_type": "code",
   "execution_count": null,
   "outputs": [],
   "source": [],
   "metadata": {
    "collapsed": false
   },
   "id": "d2c61735d03194b5"
  },
  {
   "cell_type": "code",
   "execution_count": null,
   "outputs": [],
   "source": [
    "SP.SN.sitegetter_print_summarytext_each_unit()"
   ],
   "metadata": {
    "collapsed": false
   },
   "id": "3b1a522619e2a0ae"
  }
 ],
 "metadata": {
  "kernelspec": {
   "display_name": "Python 3",
   "language": "python",
   "name": "python3"
  },
  "language_info": {
   "codemirror_mode": {
    "name": "ipython",
    "version": 2
   },
   "file_extension": ".py",
   "mimetype": "text/x-python",
   "name": "python",
   "nbconvert_exporter": "python",
   "pygments_lexer": "ipython2",
   "version": "2.7.6"
  }
 },
 "nbformat": 4,
 "nbformat_minor": 5
}
