{
 "cells": [
  {
   "cell_type": "code",
   "execution_count": null,
   "id": "initial_id",
   "metadata": {
    "collapsed": true
   },
   "outputs": [],
   "source": [
    "import pandas as pd\n",
    "\n",
    "\"\"\" Sandobx for all things realted to Snippets extraction and generic stuff.\n",
    "Not downstream things (elsewhere).\n",
    "\"\"\""
   ]
  },
  {
   "cell_type": "code",
   "execution_count": null,
   "outputs": [],
   "source": [
    "%load_ext autoreload\n",
    "%autoreload 2\n",
    "\n",
    "from neuralmonkey.classes.session import load_mult_session_helper\n",
    "import matplotlib\n",
    "import matplotlib.pyplot as plt\n",
    "import numpy as np\n",
    "\n",
    "#%matplotlib inline"
   ],
   "metadata": {
    "collapsed": false
   },
   "id": "93d48dd175d3e9e0"
  },
  {
   "cell_type": "code",
   "outputs": [],
   "source": [
    "import pickle\n",
    "path = '/lemur2/lucas/neural_preprocess/recordings/Pancho/220829/Pancho-220829-171952/cached/trials_list.pkl'\n",
    "with open(path, \"rb\") as f:\n",
    "    tmp = pickle.load(f)\n",
    "print(tmp.keys())"
   ],
   "metadata": {
    "collapsed": false
   },
   "id": "76320fa7160869",
   "execution_count": null
  },
  {
   "cell_type": "code",
   "execution_count": null,
   "outputs": [],
   "source": [
    "DATE = 220830\n",
    "animal = \"Pancho\"\n",
    "# DATE = 230817\n",
    "# animal = \"Diego\"\n",
    "# spikes_version = \"tdt\"\n",
    "spikes_version = \"kilosort_if_exists\"\n",
    "MS = load_mult_session_helper(DATE, animal, MINIMAL_LOADING=True, spikes_version=spikes_version) \n",
    "# MS = load_mult_session_helper(DATE, animal, MINIMAL_LOADING=True, spikes_version=\"tdt\") "
   ],
   "metadata": {
    "collapsed": false
   },
   "id": "5ea565361cc650ab"
  },
  {
   "cell_type": "code",
   "execution_count": null,
   "outputs": [],
   "source": [
    "\n",
    "### Snippets, split by stroke index and location\n",
    "MS.print_summary_sessions()\n",
    "from neuralmonkey.classes.snippets import Snippets, extraction_helper"
   ],
   "metadata": {
    "collapsed": false
   },
   "id": "e041091616bea230"
  },
  {
   "cell_type": "code",
   "outputs": [],
   "source": [
    "len(sn.get_trials_list(True))"
   ],
   "metadata": {
    "collapsed": false
   },
   "id": "ddde2ccbfffdca93",
   "execution_count": null
  },
  {
   "cell_type": "code",
   "outputs": [],
   "source": [
    "\n",
    "# Pick out a single session\n",
    "sn = MS.SessionsList[0]\n"
   ],
   "metadata": {
    "collapsed": false
   },
   "id": "4f6a93293ea856b",
   "execution_count": null
  },
  {
   "cell_type": "code",
   "execution_count": null,
   "outputs": [],
   "source": [
    "# Turn on debug mode, this prunes sites and trials, so below runs faster\n",
    "# sn.debug_mode_switch_to(sites=True, trials=False)\n",
    "for sn in MS.SessionsList:\n",
    "    sn.debug_mode_switch_to(sites=True, trials=True)"
   ],
   "metadata": {
    "collapsed": false
   },
   "id": "3a14b819b3467a91"
  },
  {
   "cell_type": "code",
   "execution_count": null,
   "outputs": [],
   "source": [
    "sn.sitegetter_print_summarytext_each_unit"
   ],
   "metadata": {
    "collapsed": false
   },
   "id": "c70caea262e5b9f5"
  },
  {
   "cell_type": "code",
   "execution_count": null,
   "outputs": [],
   "source": [
    "#### TODO:"
   ],
   "metadata": {
    "collapsed": false
   },
   "id": "147dd1d006ec40f8"
  },
  {
   "cell_type": "code",
   "execution_count": null,
   "outputs": [],
   "source": [
    "# problem 1. Stroke onset time -- why don't they match between SN and Datasetbeh.\n",
    "# problem 2. concatting DS across sessions for Pancho --> failing."
   ],
   "metadata": {
    "collapsed": false
   },
   "id": "27e1d93bf57165eb"
  },
  {
   "cell_type": "markdown",
   "source": [
    "##### Loading beh dataset from raw"
   ],
   "metadata": {
    "collapsed": false
   },
   "id": "5504d465d9ff5c52"
  },
  {
   "cell_type": "code",
   "execution_count": null,
   "outputs": [],
   "source": [
    "sn.datasetbeh_load_helper(sn.DatasetbehExptname)"
   ],
   "metadata": {
    "collapsed": false
   },
   "id": "9cc78238989f7325"
  },
  {
   "cell_type": "markdown",
   "source": [
    "# [GOOD] Extract Snippets across all SN in MS, and clean as you would if you loaded from pre-saved"
   ],
   "metadata": {
    "collapsed": false
   },
   "id": "38180bcff0f639bb"
  },
  {
   "cell_type": "markdown",
   "source": [
    "### Wrapper to regenerate Snippets"
   ],
   "metadata": {
    "collapsed": false
   },
   "id": "5774b2191c347431"
  },
  {
   "cell_type": "code",
   "execution_count": null,
   "outputs": [],
   "source": [
    "from neuralmonkey.classes.snippets import load_and_concat_mult_snippets\n",
    "which_level = \"stroke\"\n",
    "EVENTS_KEEP = None\n",
    "SP, SAVEDIR_ALL = load_and_concat_mult_snippets(MS, which_level, EVENTS_KEEP)"
   ],
   "metadata": {
    "collapsed": false
   },
   "id": "cd4d71d3fc3d22ae"
  },
  {
   "cell_type": "code",
   "execution_count": null,
   "outputs": [],
   "source": [
    "# Load a question\n",
    "from neuralmonkey.analyses.rsa import rsagood_questions_dict\n",
    "date = DATE\n",
    "# question = \"CHAR_BASE_trial\"\n",
    "# question = \"CHAR_BASE_stroke\"\n",
    "# question = \"PIG_BASE_stroke\"\n",
    "question = \"RULESW_BASE_stroke\"\n",
    "substrokes_plot_preprocess = False\n",
    "HACK_RENAME_SHAPES = False\n",
    "\n",
    "q_params = rsagood_questions_dict(animal, date, question=question)[question]\n",
    "print(\"Question:\", question)\n",
    "print(\"These questions params:\")\n",
    "for k, v in q_params.items():\n",
    "    print(k, \" -- \", v)\n",
    "assert which_level in q_params[\"list_which_level\"], \"or else might run into error later.\"\n",
    "\n",
    "# Clean up SP and extract features\n",
    "D, list_features_extraction = SP.datasetbeh_preprocess_clean_by_expt(\n",
    "    ANALY_VER=q_params[\"ANALY_VER\"], vars_extract_append=q_params[\"effect_vars\"],\n",
    "    substrokes_plot_preprocess=substrokes_plot_preprocess,\n",
    "    HACK_RENAME_SHAPES=HACK_RENAME_SHAPES)\n"
   ],
   "metadata": {
    "collapsed": false
   },
   "id": "319a2cc74cbb03c8"
  },
  {
   "cell_type": "markdown",
   "source": [
    "##### Debugging"
   ],
   "metadata": {
    "collapsed": false
   },
   "id": "313923a439a1940c"
  },
  {
   "cell_type": "code",
   "execution_count": null,
   "outputs": [],
   "source": [
    "from neuralmonkey.classes.snippets import datasetstrokes_extract\n",
    "sn = MS.SessionsList[1]\n",
    "D = sn.Datasetbeh\n",
    "DS = datasetstrokes_extract(D, \"all_no_clean\")"
   ],
   "metadata": {
    "collapsed": false
   },
   "id": "d08f73e7c1ae93bd"
  },
  {
   "cell_type": "markdown",
   "source": [
    "### Below -- breaking out the above function"
   ],
   "metadata": {
    "collapsed": false
   },
   "id": "3bb8c29b05a1e49f"
  },
  {
   "cell_type": "code",
   "execution_count": null,
   "outputs": [],
   "source": [
    "from neuralmonkey.scripts.analy_snippets_extract import extract_snippets_all_sessions\n",
    "\n",
    "which_level = \"stroke\"\n",
    "EVENTS_KEEP = None\n",
    "\n",
    "# which_level = \"trial\"\n",
    "# EVENTS_KEEP = [\"03_samp\", \"go_cue\"]\n",
    "\n",
    "# version 2\n",
    "LIST_SP = extract_snippets_all_sessions(MS, which_level, EVENTS_KEEP, 1, False)"
   ],
   "metadata": {
    "collapsed": false
   },
   "id": "7dc8e27e27525568"
  },
  {
   "cell_type": "code",
   "execution_count": null,
   "outputs": [],
   "source": [
    "# # Reproduce this.\n",
    "# SP, SAVEDIR_ALL = load_and_concat_mult_snippets(MS, which_level = which_level,\n",
    "#     DEBUG=DEBUG)\n",
    "\n",
    "from neuralmonkey.classes.snippets import concat_mult_snippets\n",
    "SP = concat_mult_snippets(LIST_SP, MS)"
   ],
   "metadata": {
    "collapsed": false
   },
   "id": "60e690f6494d3177"
  },
  {
   "cell_type": "code",
   "execution_count": null,
   "outputs": [],
   "source": [
    "SP.datasetbeh_extract_dataset().Dat[\"trialcode\"]"
   ],
   "metadata": {
    "collapsed": false
   },
   "id": "f131a5f12e8acff6"
  },
  {
   "cell_type": "code",
   "execution_count": null,
   "outputs": [],
   "source": [
    "SP.DS = None"
   ],
   "metadata": {
    "collapsed": false
   },
   "id": "1572208ce7580809"
  },
  {
   "cell_type": "code",
   "execution_count": null,
   "outputs": [],
   "source": [
    "SP.datasetbeh_extract_dataset(\"datstrokes\").Dat[\"trialcode\"]"
   ],
   "metadata": {
    "collapsed": false
   },
   "id": "56c87d8dd56454d2"
  },
  {
   "cell_type": "code",
   "execution_count": null,
   "outputs": [],
   "source": [
    "[tc for tc in SP.DS.Dat[\"trialcode\"] if tc in SP.datasetbeh_extract_dataset().Dat[\"trialcode\"].tolist()]"
   ],
   "metadata": {
    "collapsed": false
   },
   "id": "7d9bd7d8653e7307"
  },
  {
   "cell_type": "code",
   "execution_count": null,
   "outputs": [],
   "source": [
    "# dataset preprocess\n",
    "ANALYVER = \"rulesingle\"\n",
    "D, list_features_extraction = SP.datasetbeh_preprocess_clean_by_expt(\n",
    "    ANALY_VER=ANALYVER, vars_extract_append=[])\n",
    "\n"
   ],
   "metadata": {
    "collapsed": false
   },
   "id": "f2ebcf75b4112450"
  },
  {
   "cell_type": "code",
   "execution_count": null,
   "outputs": [],
   "source": [
    "D = SP.datasetbeh_extract_dataset().copy()"
   ],
   "metadata": {
    "collapsed": false
   },
   "id": "570429de042bfba7"
  },
  {
   "cell_type": "code",
   "execution_count": null,
   "outputs": [],
   "source": [
    "DS = SP.datasetbeh_extract_dataset(\"datstrokes\")"
   ],
   "metadata": {
    "collapsed": false
   },
   "id": "e68a8ce50191ca46"
  },
  {
   "cell_type": "code",
   "execution_count": null,
   "outputs": [],
   "source": [
    "DS.Dat[\"trialcode\"]"
   ],
   "metadata": {
    "collapsed": false
   },
   "id": "2b10337e094c1226"
  },
  {
   "cell_type": "code",
   "execution_count": null,
   "outputs": [],
   "source": [
    "DS.dataset_slice_by(\"trialcode\", [\"230817-1-1\"])"
   ],
   "metadata": {
    "collapsed": false
   },
   "id": "2fbf8e0486cc00fe"
  },
  {
   "cell_type": "code",
   "execution_count": null,
   "outputs": [],
   "source": [
    "D.grammarparses_successbinary_score()"
   ],
   "metadata": {
    "collapsed": false
   },
   "id": "c62ba5e4fe363067"
  },
  {
   "cell_type": "code",
   "execution_count": null,
   "outputs": [],
   "source": [
    "D.preprocessGood(params=['remove_baseline', 'correct_sequencing_binary_score', 'one_to_one_beh_task_strokes', 'beh_strokes_at_least_one'])"
   ],
   "metadata": {
    "collapsed": false
   },
   "id": "ff0958cbe489bc8d"
  },
  {
   "cell_type": "code",
   "execution_count": null,
   "outputs": [],
   "source": [
    "d = DS.Dataset\n",
    "d.taskclass_tokens_extract_wrapper(22, \"beh_using_task_data\")"
   ],
   "metadata": {
    "collapsed": false
   },
   "id": "e06b725b234f8367"
  },
  {
   "cell_type": "code",
   "execution_count": null,
   "outputs": [],
   "source": [
    "### TODO:\n",
    "# 1) in if params[\"datasetstrokes_extract_chunks_variables,(anova params) --> regenerate DS, since it needs to use the tokens from original data, not those in DS.Dat[\"datseg\"] -- OR: extract those tokens and place into DS."
   ],
   "metadata": {
    "collapsed": false
   },
   "id": "775265cec37d2603"
  },
  {
   "cell_type": "code",
   "execution_count": null,
   "outputs": [],
   "source": [
    "DS.context_extract_strokeslength_list(1, \"datseg\")"
   ],
   "metadata": {
    "collapsed": false
   },
   "id": "59294cf29fa09d19"
  },
  {
   "cell_type": "code",
   "execution_count": null,
   "outputs": [],
   "source": [
    "DS.context_chunks_assign_columns()"
   ],
   "metadata": {
    "collapsed": false
   },
   "id": "12f79c2c65fc5b4f"
  },
  {
   "cell_type": "code",
   "execution_count": null,
   "outputs": [],
   "source": [
    "# First, place preprocessed D (from above) into DS.\n",
    "DS.dataset_replace_dataset(D)\n",
    "# Then prune DS to match D.\n",
    "DS.dataset_prune_self_to_match_dataset()\n",
    "\n",
    "# Second, extract chunk variables from Dataset\n",
    "for i in range(len(DS.Dataset.Dat)):\n",
    "    DS.Dataset.grammarparses_taskclass_tokens_assign_chunk_state_each_stroke(i)\n",
    "\n",
    "# Third, extract variables to strokes\n",
    "DS.context_chunks_assign_columns()\n"
   ],
   "metadata": {
    "collapsed": false
   },
   "id": "5c5b565bec4971cd"
  },
  {
   "cell_type": "code",
   "execution_count": null,
   "outputs": [],
   "source": [
    "D = sn.Datasetbeh.copy()\n",
    "D.tokens_append_to_dataframe_column(force_regenerate=True)\n",
    "D.seqcontext_delete_all_columns()\n"
   ],
   "metadata": {
    "collapsed": false
   },
   "id": "893261fe50d8a842"
  },
  {
   "cell_type": "code",
   "execution_count": null,
   "outputs": [],
   "source": [
    "sn.Datasetbeh.taskclass_tokens_extract_wrapper(0, \"beh_using_beh_data\")"
   ],
   "metadata": {
    "collapsed": false
   },
   "id": "2b73dc777f7ca222"
  },
  {
   "cell_type": "code",
   "execution_count": null,
   "outputs": [],
   "source": [
    "D.taskclass_tokens_extract_wrapper(0, \"beh_using_beh_data\")"
   ],
   "metadata": {
    "collapsed": false
   },
   "id": "fadc1c0c876ed7c2"
  },
  {
   "cell_type": "code",
   "execution_count": null,
   "outputs": [],
   "source": [
    "D = SP.datasetbeh_extract_dataset()"
   ],
   "metadata": {
    "collapsed": false
   },
   "id": "5a18791bff3f7684"
  },
  {
   "cell_type": "code",
   "execution_count": null,
   "outputs": [],
   "source": [
    "# Generate DS"
   ],
   "metadata": {
    "collapsed": false
   },
   "id": "73be2305cd1c1f3d"
  },
  {
   "cell_type": "code",
   "execution_count": null,
   "outputs": [],
   "source": [
    "SP.DfScalar[:2]"
   ],
   "metadata": {
    "collapsed": false
   },
   "id": "bea25a4fa07eeb06"
  },
  {
   "cell_type": "code",
   "execution_count": null,
   "outputs": [],
   "source": [
    "ds = SP.datasetbeh_extract_dataset(\"datstrokes\")\n"
   ],
   "metadata": {
    "collapsed": false
   },
   "id": "e25a3c155dfdbbc"
  },
  {
   "cell_type": "markdown",
   "source": [
    "##### TO TEST (after new changes to SP)"
   ],
   "metadata": {
    "collapsed": false
   },
   "id": "af7bf5edc36e5eb2"
  },
  {
   "cell_type": "code",
   "execution_count": null,
   "outputs": [],
   "source": [
    "# Strokes --> where is DS and is it compativ with D\n",
    "# Plotting"
   ],
   "metadata": {
    "collapsed": false
   },
   "id": "13b1a6dd5a12f746"
  },
  {
   "cell_type": "code",
   "execution_count": null,
   "outputs": [],
   "source": [
    "# Pop --> no thrown out data.\n",
    "from neuralmonkey.classes.population_mult import dfallpa_extraction_load_wrapper_from_MS\n",
    "EVENTS_KEEP = [\"03_samp\", \"04_go_cue\"]\n",
    "DFallpa = dfallpa_extractdion_load_wrapper_from_MS(MS, question, [(-0.6, 0.6)], which_level,\n",
    "                                        EVENTS_KEEP, REGENERATE_SNIPPETS=True)"
   ],
   "metadata": {
    "collapsed": false
   },
   "id": "bd2bae0691f460ff"
  },
  {
   "cell_type": "code",
   "execution_count": null,
   "outputs": [],
   "source": [
    "# DEBUGGING ABOVE's dfallpa_extraction_load_wrapper_from_MS\n",
    "from pythonlib.tools.pandastools import grouping_count_n_samples_quick, grouping_count_n_samples\n",
    "# grouping_count_n_samples_quick(SP.DfScalar, [\"event\", \"index_datapt\"])\n",
    "grpdict = grouping_count_n_samples(SP.DfScalar, [\"event\", \"index_datapt\"])\n",
    "print([min(grpdict), max(grpdict)])\n",
    "\n",
    "PA, _ = SP.dataextract_as_popanal_statespace(SP.Sites, \"04_go_cue\")\n",
    "SP.dataextract_as_popanal_good(SP.DfScalar, )"
   ],
   "metadata": {
    "collapsed": false
   },
   "id": "4234faf4225fc4dc"
  },
  {
   "cell_type": "code",
   "execution_count": null,
   "outputs": [],
   "source": [
    "pa = DFallpa[\"pa\"].values[0]\n",
    "pa.plotNeurHeat(0)\n"
   ],
   "metadata": {
    "collapsed": false
   },
   "id": "8c68688f3c297e79"
  },
  {
   "cell_type": "markdown",
   "source": [
    "# Substroke snippets extract"
   ],
   "metadata": {
    "collapsed": false
   },
   "id": "f0143d312c59f7"
  },
  {
   "cell_type": "code",
   "execution_count": null,
   "outputs": [],
   "source": [
    "from neuralmonkey.classes.snippets import extraction_helper\n",
    "which_level = \"substroke\"\n",
    "SP = extraction_helper(sn, which_level, PRE_DUR=-0.1, POST_DUR=0.1)\n"
   ],
   "metadata": {
    "collapsed": false
   },
   "id": "583ff03ca0fd2d6f"
  },
  {
   "cell_type": "markdown",
   "source": [
    "### Plots"
   ],
   "metadata": {
    "collapsed": false
   },
   "id": "63f9fb731c69e035"
  },
  {
   "cell_type": "code",
   "outputs": [],
   "source": [
    "SP.sitegetter_map_region_to_sites(\"vlPFC_p\")"
   ],
   "metadata": {
    "collapsed": false
   },
   "id": "ec8baa575df8eecd",
   "execution_count": null
  },
  {
   "cell_type": "code",
   "outputs": [],
   "source": [
    "site = 281\n",
    "var = \"epoch\"\n",
    "vars_others = [\"stroke_index_is_first\", \"stroke_index_is_last_tskstks\", \"CTXT_locoffclust_prev\", \"CTXT_shape_prev\", \"shape\", \"loc_on_clust\"]\n",
    "# vars_others = [\"stroke_index_is_first\", \"stroke_index_is_last_tskstks\", \"CTXT_locoffclust_prev\",\n",
    "#                                  \"shape\", \"loc_on_clust\", \"CTXT_shape_prev\", \"CTXT_loconclust_next\", \"chunk_rank\",\n",
    "#                                  \"chunk_within_rank_semantic\"]\n",
    "plotvers = [\"smfr\"]\n",
    "suffix = 1\n",
    "fig, axesall = SP.plotgood_rasters_smfr_each_level_combined(site, var, vars_others, event=\"00_stroke\", plotvers=plotvers)\n",
    "\n",
    "from pythonlib.tools.plottools import savefig\n",
    "savefig(fig, f\"/tmp/test-{suffix}.pdf\")"
   ],
   "metadata": {
    "collapsed": false
   },
   "id": "597504f2c345d483",
   "execution_count": null
  },
  {
   "cell_type": "code",
   "outputs": [],
   "source": [
    "site = 273\n",
    "var = \"chunk_rank\"\n",
    "vars_others = [\"epoch\", \"CTXT_loc_prev\", \"shape\", \"gridloc\"]\n",
    "plotvers = [\"smfr\"]\n",
    "suffix = 1\n",
    "fig, axesall = SP.plotgood_rasters_smfr_each_level_combined(site, var, vars_others, event=\"00_stroke\", plotvers=plotvers)\n",
    "\n",
    "from pythonlib.tools.plottools import savefig\n",
    "savefig(fig, f\"/tmp/test-{suffix}.pdf\")"
   ],
   "metadata": {
    "collapsed": false
   },
   "id": "4190d55c3a948ad7",
   "execution_count": null
  },
  {
   "cell_type": "code",
   "execution_count": null,
   "outputs": [],
   "source": [
    "site = 273\n",
    "var = \"CTXT_shape_next\"\n",
    "vars_others = [\"task_kind\", \"CTXT_loc_prev\", \"shape\", \"gridloc\", \"CTXT_loc_next\"]\n",
    "plotvers = [\"smfr\"]\n",
    "suffix = 1\n",
    "fig, axesall = SP.plotgood_rasters_smfr_each_level_combined(site, var, vars_others, event=\"00_stroke\", plotvers=plotvers)\n",
    "\n",
    "from pythonlib.tools.plottools import savefig\n",
    "savefig(fig, f\"/tmp/test-{suffix}.pdf\")"
   ],
   "metadata": {
    "collapsed": false
   },
   "id": "5e6b841c17592aa"
  },
  {
   "cell_type": "code",
   "execution_count": null,
   "outputs": [],
   "source": [
    "var = \"CTXT_shape_next\"\n",
    "vars_others = [\"task_kind\", \"stroke_index\", \"shape\", \"gridloc\", \"CTXT_loc_next\"]\n",
    "suffix = 2\n",
    "fig, axesall = SP.plotgood_rasters_smfr_each_level_combined(site, var, vars_others, event=\"00_stroke\", plotvers=plotvers)\n",
    "\n",
    "savefig(fig, f\"/tmp/test-{suffix}.pdf\")"
   ],
   "metadata": {
    "collapsed": false
   },
   "id": "602d7334e64c325b"
  },
  {
   "cell_type": "code",
   "execution_count": null,
   "outputs": [],
   "source": [
    "site = 274\n",
    "var = \"CTXT_shape_next\"\n",
    "vars_others = [\"task_kind\", \"gridloc\", \"CTXT_loc_prev\", \"shape\"]\n",
    "suffix = 2\n",
    "fig, axesall = SP.plotgood_rasters_smfr_each_level_combined(site, var, vars_others, event=\"00_stroke\", plotvers=plotvers)\n",
    "\n",
    "savefig(fig, f\"/tmp/test-{suffix}.pdf\")"
   ],
   "metadata": {
    "collapsed": false
   },
   "id": "85407efeb51ec353"
  },
  {
   "cell_type": "code",
   "execution_count": null,
   "outputs": [],
   "source": [
    "site = 274\n",
    "var = \"stroke_index\"\n",
    "vars_others = [\"task_kind\", \"gridloc\", \"CTXT_loc_prev\", \"shape\"]\n",
    "suffix = 2\n",
    "fig, axesall = SP.plotgood_rasters_smfr_each_level_combined(site, var, vars_others, event=\"00_stroke\", plotvers=plotvers)\n",
    "\n",
    "savefig(fig, f\"/tmp/test-{suffix}.pdf\")"
   ],
   "metadata": {
    "collapsed": false
   },
   "id": "23b7cceef681ce48"
  },
  {
   "cell_type": "markdown",
   "source": [
    "# Stroke snippets"
   ],
   "metadata": {
    "collapsed": false
   },
   "id": "ad104c1b331d0f69"
  },
  {
   "cell_type": "code",
   "execution_count": null,
   "outputs": [],
   "source": [
    "which_level = \"stroke\"\n",
    "SP = extraction_helper(sn, which_level, PRE_DUR=-0.6, POST_DUR=0.6)\n",
    "\n",
    "\n",
    "# # == MODIFY THESE:\n",
    "# list_pre_dur = [-0.2]\n",
    "# list_post_dur = [0.4]\n",
    "# # list_pre_dur = [-0.5]\n",
    "# # list_post_dur = [0.5]\n",
    "# # which_level = \"stroke_off\"\n",
    "# which_level = \"stroke\"\n",
    "# \n",
    "# # == IGNORE THESE:\n",
    "# strokes_only_keep_single = False # if True, then prunes dataset, removing trials \"remove_if_multiple_behstrokes_per_taskstroke\"\n",
    "# prune_feature_levels_min_n_trials = 1 \n",
    "# list_events = [] # must be empty\n",
    "# list_features_extraction = []\n",
    "# list_features_get_conjunction = []\n",
    "# trials_prune_just_those_including_events=False\n",
    "# \n",
    "# SP = Snippets(sn,\n",
    "#     which_level,\n",
    "#     list_events,\n",
    "#     list_features_extraction,\n",
    "#     list_features_get_conjunction,\n",
    "#     list_pre_dur,\n",
    "#     list_post_dur,\n",
    "#     strokes_only_keep_single=strokes_only_keep_single,\n",
    "#     tasks_only_keep_these=None,\n",
    "#     prune_feature_levels_min_n_trials=prune_feature_levels_min_n_trials,\n",
    "#     dataset_pruned_for_trial_analysis=None,\n",
    "#     trials_prune_just_those_including_events=trials_prune_just_those_including_events,\n",
    "#     fr_which_version='sqrt',\n",
    "#     NEW_VERSION=True,\n",
    "#     SKIP_DATA_EXTRACTION=False\n",
    "#              )\n"
   ],
   "metadata": {
    "collapsed": false
   },
   "id": "4e03f0cc57e4d2de"
  },
  {
   "cell_type": "markdown",
   "source": [
    "# Flex snippets"
   ],
   "metadata": {
    "collapsed": false
   },
   "id": "e39e027d7c744294"
  },
  {
   "cell_type": "code",
   "execution_count": null,
   "outputs": [],
   "source": [
    "# Main code for extracting Snippets (SP)\n",
    "\n",
    "assert False, \"incorporate into extraction_helper\"\n",
    "# == MODIFY THESE:\n",
    "list_events = [\"go\"]\n",
    "list_pre_dur = [-0.5]\n",
    "list_post_dur = [0.5]\n",
    "\n",
    "# == IGNORE THESE:\n",
    "which_level = \"flex\"\n",
    "list_features_extraction = []\n",
    "list_features_get_conjunction = []\n",
    "trials_prune_just_those_including_events=False\n",
    "\n",
    "SP = Snippets(sn,\n",
    "    which_level,\n",
    "    list_events,\n",
    "    list_features_extraction,\n",
    "    list_features_get_conjunction,\n",
    "    list_pre_dur,\n",
    "    list_post_dur,\n",
    "    strokes_only_keep_single=False,\n",
    "    tasks_only_keep_these=None,\n",
    "    prune_feature_levels_min_n_trials=None,\n",
    "    dataset_pruned_for_trial_analysis=None,\n",
    "    trials_prune_just_those_including_events=trials_prune_just_those_including_events,\n",
    "    fr_which_version='sqrt',\n",
    "    NEW_VERSION=True,\n",
    "    SKIP_DATA_EXTRACTION=False\n",
    "             )\n"
   ],
   "metadata": {
    "collapsed": false
   },
   "id": "376db5e35de0b5c8"
  },
  {
   "cell_type": "code",
   "execution_count": null,
   "outputs": [],
   "source": [
    "# Inspect the data. \n",
    "# Each row represents a single combination of:\n",
    "# (trial, chan, event). To see that, inspect the output of \n",
    "\n",
    "display(SP.DfScalar)\n",
    "\n",
    "from pythonlib.tools.pandastools import grouping_print_n_samples\n",
    "grouping_print_n_samples(SP.DfScalar, [\"trialcode\", \"chan\", \"event_aligned\"])\n"
   ],
   "metadata": {
    "collapsed": false
   },
   "id": "7034689c6cfa7baf"
  },
  {
   "cell_type": "markdown",
   "source": [
    "# Trial Snippets"
   ],
   "metadata": {
    "collapsed": false
   },
   "id": "c16e657c6542b125"
  },
  {
   "cell_type": "code",
   "execution_count": null,
   "outputs": [],
   "source": [
    "which_level = \"trial\"\n",
    "SP = extraction_helper(sn, which_level, PRE_DUR=-0.6, POST_DUR=0.6)\n"
   ],
   "metadata": {
    "collapsed": false
   },
   "id": "c2c491a6a7cc9580"
  },
  {
   "cell_type": "markdown",
   "source": [
    "# Load pre-computed Snippets"
   ],
   "metadata": {
    "collapsed": false
   },
   "id": "8e72ff6e565888a"
  },
  {
   "cell_type": "code",
   "execution_count": null,
   "outputs": [],
   "source": [
    "from neuralmonkey.classes.snippets import load_and_concat_mult_snippets\n",
    "from neuralmonkey.classes.session import load_mult_session_helper\n"
   ],
   "metadata": {
    "collapsed": false
   },
   "id": "29629f72c8823d45"
  },
  {
   "cell_type": "code",
   "execution_count": null,
   "outputs": [],
   "source": [
    "# DATE = 230630\n",
    "# animal = \"Diego\"\n",
    "DATE = 230126\n",
    "animal = \"Pancho\"\n",
    "spikes_version = \"tdt\"\n",
    "MS = load_mult_session_helper(DATE, animal, MINIMAL_LOADING=True, spikes_version=spikes_version) \n",
    "# MS = load_mult_session_helper(DATE, animal, MINIMAL_LOADING=True, spikes_version=\"tdt\") "
   ],
   "metadata": {
    "collapsed": false
   },
   "id": "6611eaf71ac6fbda"
  },
  {
   "cell_type": "code",
   "execution_count": null,
   "outputs": [],
   "source": [
    "which_level = \"trial\"\n",
    "SP, SAVEDIR_ALL = load_and_concat_mult_snippets(MS, which_level = which_level,\n",
    "    DEBUG=False)\n"
   ],
   "metadata": {
    "collapsed": false
   },
   "id": "d1e30ffab2836139"
  },
  {
   "cell_type": "code",
   "execution_count": null,
   "outputs": [],
   "source": [
    "Dgood, _ = SP.datasetbeh_preprocess_clean_by_expt(\"chartrial\", [])"
   ],
   "metadata": {
    "collapsed": false
   },
   "id": "d79c2271b6851d96"
  },
  {
   "cell_type": "code",
   "execution_count": null,
   "outputs": [],
   "source": [
    "SP.DfScalar[\"seqc_0_shape\"].unique()"
   ],
   "metadata": {
    "collapsed": false
   },
   "id": "b410b6f3ff690cfd"
  },
  {
   "cell_type": "code",
   "execution_count": null,
   "outputs": [],
   "source": [
    "D = SP.datasetbeh_extract_dataset()\n",
    "D.seqcontext_preprocess()\n",
    "SP.datasetbeh_append_column_helper([\"seqc_0_shape\", \"task_kind\"])"
   ],
   "metadata": {
    "collapsed": false
   },
   "id": "d85e00d6bf36e27f"
  },
  {
   "cell_type": "code",
   "execution_count": null,
   "outputs": [],
   "source": [
    "\n",
    "SP.plotgood_rasters_smfr_each_level_combined(SP.Sites[0], var=\"seqc_0_shape\", vars_others=[\"task_kind\"], event=\"03_samp\", \n",
    "                                             OVERWRITE_n_min=5,\n",
    "                                                  OVERWRITE_lenient_n=1, plotvers=(\"smfr\",),\n",
    "                                                    balance_same_levels_across_ovar=True)"
   ],
   "metadata": {
    "collapsed": false
   },
   "id": "399fad3e3f01b396"
  },
  {
   "cell_type": "code",
   "execution_count": null,
   "outputs": [],
   "source": [
    "\n"
   ],
   "metadata": {
    "collapsed": false
   },
   "id": "afd6a70f3108ab70"
  },
  {
   "cell_type": "code",
   "execution_count": null,
   "outputs": [],
   "source": [
    "SP.datasetbeh_append_column(\"epoch\")"
   ],
   "metadata": {
    "collapsed": false
   },
   "id": "aeb62197a552682"
  },
  {
   "cell_type": "code",
   "execution_count": null,
   "outputs": [],
   "source": [
    "D = SP.datasetbeh_extract_dataset()\n",
    "D.seqcontext_preprocess()"
   ],
   "metadata": {
    "collapsed": false
   },
   "id": "36713d86ebef8e38"
  },
  {
   "cell_type": "code",
   "execution_count": null,
   "outputs": [],
   "source": [
    "del SP.DfScalar[\"seqc_0_shape\"]"
   ],
   "metadata": {
    "collapsed": false
   },
   "id": "7103e31bcad5c418"
  },
  {
   "cell_type": "code",
   "execution_count": null,
   "outputs": [],
   "source": [
    "SP.datasetbeh_append_column_helper([\"seqc_0_shape\"])\n",
    "\n",
    "from pythonlib.tools.pandastools import replace_values_with_this\n",
    "\n",
    "# if \"seqc_0_loc\" in SP.DfScalar.columns:\n",
    "#     replace_values_with_this(SP.DfScalar, \"seqc_0_loc\", None, (\"IGN\", \"IGN\"))"
   ],
   "metadata": {
    "collapsed": false
   },
   "id": "f3229659ddb68f1d"
  },
  {
   "cell_type": "code",
   "execution_count": null,
   "outputs": [],
   "source": [
    "SP.DfScalar[\"shape_this_event\"] = SP.DfScalar[\"seqc_0_shape\"]\n"
   ],
   "metadata": {
    "collapsed": false
   },
   "id": "43d221c122b8834e"
  },
  {
   "cell_type": "code",
   "execution_count": null,
   "outputs": [],
   "source": [
    "SP.DfScalar\n"
   ],
   "metadata": {
    "collapsed": false
   },
   "id": "67f3fc1a5e355959"
  },
  {
   "cell_type": "code",
   "execution_count": null,
   "outputs": [],
   "source": [],
   "metadata": {
    "collapsed": false
   },
   "id": "927160d3aec914bb"
  },
  {
   "cell_type": "code",
   "execution_count": null,
   "outputs": [],
   "source": [
    "SP.datasetbeh_append_column_helper([\"seqc_0_shape\", \"seqc_0_loc\"])"
   ],
   "metadata": {
    "collapsed": false
   },
   "id": "15f19f401a2ea024"
  },
  {
   "cell_type": "code",
   "execution_count": null,
   "outputs": [],
   "source": [
    "columns = [\"seqc_0_shape\", \"seqc_0_loc\", \"taskconfig_loc\", \"shape_semantic_labels\"]\n",
    "SP.DfScalar.loc[:, columns]\n",
    "df1 = SP.DfScalar.loc[:, columns].copy()\n",
    "for col in columns:\n",
    "    del SP.DfScalar[col]\n",
    "    \n",
    "for col in columns:\n",
    "    SP.datasetbeh_append_column(col, Dataset=Dgood)\n",
    "df2 = SP.DfScalar.loc[:, columns].copy()\n",
    "\n",
    "np.all(df1==df2)"
   ],
   "metadata": {
    "collapsed": false
   },
   "id": "1ae170a935270b41"
  },
  {
   "cell_type": "markdown",
   "source": [
    "##### FIxing methods for concating Dataset across snippetsb"
   ],
   "metadata": {
    "collapsed": false
   },
   "id": "96768e4264e3fd1a"
  },
  {
   "cell_type": "code",
   "execution_count": null,
   "outputs": [],
   "source": [
    "\n",
    "SP.DS.Dat[\"gridloc\"] = None\n",
    "SP.DS.Dat[\"gridloc\"]"
   ],
   "metadata": {
    "collapsed": false
   },
   "id": "f49fb70e9f74f340"
  },
  {
   "cell_type": "code",
   "execution_count": null,
   "outputs": [],
   "source": [
    "df = SP.DfScalar\n",
    "from pythonlib.tools.pandastools import extract_with_levels_of_conjunction_vars\n",
    "\n",
    "extract_with_levels_of_conjunction_vars()"
   ],
   "metadata": {
    "collapsed": false
   },
   "id": "72f4c66686a8fffd"
  },
  {
   "cell_type": "code",
   "execution_count": null,
   "outputs": [],
   "source": [
    "\n",
    "SP.DfScalar[:5]"
   ],
   "metadata": {
    "collapsed": false
   },
   "id": "53fc1ec9d3bdbe0b"
  },
  {
   "cell_type": "code",
   "execution_count": null,
   "outputs": [],
   "source": [
    "\n",
    "SP.DS.Dat[\"gridloc\"][40:50]"
   ],
   "metadata": {
    "collapsed": false
   },
   "id": "6271181acd992b05"
  },
  {
   "cell_type": "code",
   "execution_count": null,
   "outputs": [],
   "source": [
    "SP.DS.clean_preprocess_if_reloaded()"
   ],
   "metadata": {
    "collapsed": false
   },
   "id": "991060cc4e4b2d1b"
  },
  {
   "cell_type": "code",
   "execution_count": null,
   "outputs": [],
   "source": [
    "SP.DS.Dat[\"gridloc\"][40:50]\n"
   ],
   "metadata": {
    "collapsed": false
   },
   "id": "cc3a790c15b29f51"
  },
  {
   "cell_type": "code",
   "execution_count": null,
   "outputs": [],
   "source": [
    "SP.DS.Dat[1740:1760]"
   ],
   "metadata": {
    "collapsed": false
   },
   "id": "6ef988f7f1d7313e"
  },
  {
   "cell_type": "code",
   "execution_count": null,
   "outputs": [],
   "source": [
    "list_sn = SP._session_extract_all()\n",
    "for sn in list_sn:\n",
    "    sn.Datasetbeh.TokensVersion = \"test\"\n",
    "    sn.Datasetbeh.Tokens = {tc:None for tc in sn.Datasetbeh.Dat[\"trialcode\"]}\n",
    "    print(sn.Datasetbeh.TokensVersion)\n",
    "sn.Datasetbeh.TokensVersion = \"test\"\n"
   ],
   "metadata": {
    "collapsed": false
   },
   "id": "505e4071d1c51b1f"
  },
  {
   "cell_type": "code",
   "execution_count": null,
   "outputs": [],
   "source": [
    "%%timeit\n",
    "D = SP.datasetbeh_extract_dataset()\n",
    "D.TokensVersion"
   ],
   "metadata": {
    "collapsed": false
   },
   "id": "d48bd095e51021a6"
  },
  {
   "cell_type": "code",
   "execution_count": null,
   "outputs": [],
   "source": [],
   "metadata": {
    "collapsed": false
   },
   "id": "2857e9e48f6db12b"
  },
  {
   "cell_type": "code",
   "execution_count": null,
   "outputs": [],
   "source": [
    "SP.DS.Dat[:2]"
   ],
   "metadata": {
    "collapsed": false
   },
   "id": "556ea702cce01c9b"
  },
  {
   "cell_type": "code",
   "execution_count": null,
   "outputs": [],
   "source": [
    "SP.DS.Dat[SP.DS.Dat.isnull()]"
   ],
   "metadata": {
    "collapsed": false
   },
   "id": "f834053f37bd8ffb"
  },
  {
   "cell_type": "code",
   "execution_count": null,
   "outputs": [],
   "source": [
    "# Specify the columns where you want to replace None values\n",
    "columns_to_update = ['A', 'B']\n",
    "\n",
    "# Replace None with 'IGNORE' in the specified columns\n",
    "for column in columns_to_update:\n",
    "    df.loc[df[column].isna(), column] = 'IGNORE'\n",
    "\n",
    "# Display the updated DataFrame\n",
    "display(df)"
   ],
   "metadata": {
    "collapsed": false
   },
   "id": "fe6ae21f70d2a597"
  },
  {
   "cell_type": "code",
   "execution_count": null,
   "outputs": [],
   "source": [
    "sum(df[\"B\"]==(None, None))"
   ],
   "metadata": {
    "collapsed": false
   },
   "id": "49b0ee354c85f0b0"
  },
  {
   "cell_type": "code",
   "execution_count": null,
   "outputs": [],
   "source": [
    "import pandas as pd\n",
    "import numpy as np\n",
    "data = {\n",
    "    'A': [1, None, 3, 4],\n",
    "    'B': ['x', 'y', None, (None, None)],\n",
    "    'C': [None, None, 'foo', 'bar']\n",
    "}\n",
    "\n",
    "df = pd.DataFrame(data)\n",
    "display(df)\n",
    "\n",
    "value_template = \"x\"\n",
    "# value_template = (None, None)\n",
    "# replace_with = (\"IGN\", \"IGN\")\n",
    "replace_with = \"IGN\"\n",
    "replace_values_with_this(df, \"B\", value_template, replace_with)\n",
    "display(df)"
   ],
   "metadata": {
    "collapsed": false
   },
   "id": "c54c2deeca8a4baf"
  },
  {
   "cell_type": "code",
   "execution_count": null,
   "outputs": [],
   "source": [
    "from pythonlib.tools.pandastools import replace_values_with_this\n",
    "df = SP.DS.Dat\n",
    "columns_to_update = ['gridloc', 'gridloc_local', 'CTXT_loc_prev', 'CTXT_loc_prev_local', 'CTXT_loc_next', 'CTXT_loc_next_local']\n",
    "replace_with = (\"IGN\", \"IGN\")\n",
    "for column in columns_to_update:\n",
    "    replace_values_with_this(df, column, None, replace_with)\n",
    "    replace_values_with_this(df, column, (None, None), replace_with)\n",
    "\n",
    "columns_to_update = ['gridloc_x', 'gridloc_y']\n",
    "replace_with = \"IGN\"\n",
    "for column in columns_to_update:\n",
    "    replace_values_with_this(df, column, None, replace_with)\n",
    "    replace_values_with_this(df, column, (None,), replace_with)\n",
    "    \n"
   ],
   "metadata": {
    "collapsed": false
   },
   "id": "6bc4de3a15c20721"
  },
  {
   "cell_type": "code",
   "execution_count": null,
   "outputs": [],
   "source": [
    "[col for col in SP.DS.Dat.columns if \"shape\" in col]"
   ],
   "metadata": {
    "collapsed": false
   },
   "id": "721519588d922062"
  },
  {
   "cell_type": "code",
   "execution_count": null,
   "outputs": [],
   "source": [
    "SP.DS.Dat[\"CTXT_shape_next\"]"
   ],
   "metadata": {
    "collapsed": false
   },
   "id": "dba9468f39a91953"
  },
  {
   "cell_type": "code",
   "execution_count": null,
   "outputs": [],
   "source": [
    "\n",
    "\n",
    "                     \n",
    " 'CTXT_locshape_next',\n",
    " 'CTXT_locshape_prev',\n",
    " 'velocity']]\n",
    "for column in columns_to_update:\n",
    "    df.loc[df[column].isna(), column] = 'IGNORE'\n"
   ],
   "metadata": {
    "collapsed": false
   },
   "id": "5a2c4636c8b1ab25"
  },
  {
   "cell_type": "code",
   "execution_count": null,
   "outputs": [],
   "source": [
    "%%timeit\n",
    "SP.datasetbeh_extract_dataset(\"datstrokes\")"
   ],
   "metadata": {
    "collapsed": false
   },
   "id": "3bb1cb6e4fd27b67"
  },
  {
   "cell_type": "code",
   "execution_count": null,
   "outputs": [],
   "source": [
    "SP"
   ],
   "metadata": {
    "collapsed": false
   },
   "id": "24018f19e45b5b57"
  },
  {
   "cell_type": "markdown",
   "source": [
    "# Doing things with Snippets"
   ],
   "metadata": {
    "collapsed": false
   },
   "id": "68c06b83fdbd35a5"
  },
  {
   "cell_type": "markdown",
   "source": [
    "### Strokes SP --> Reclassify events based on stroke index. Then extract multiple pa, one for each stroke index"
   ],
   "metadata": {
    "collapsed": false
   },
   "id": "93c3ff99fc9a02dc"
  },
  {
   "cell_type": "code",
   "execution_count": null,
   "outputs": [],
   "source": [
    "##### Entire pipeline\n",
    "from neuralmonkey.classes.population_mult import dfallpa_extraction_load_wrapper_combine_trial_strokes\n",
    "animal = \"Diego\"\n",
    "date = 230630\n",
    "question_trial = \"PIG_BASE_trial\"\n",
    "question_stroke = \"PIG_BASE_stroke\"\n",
    "list_time_windows = [(-0.6, 0.6)]\n",
    "combine_into_larger_areas = True\n",
    "HACK_RENAME_SHAPES = False\n",
    "exclude_bad_areas=True\n",
    "strokes_split_into_multiple_pa = True\n",
    "DFallpaALL = dfallpa_extraction_load_wrapper_combine_trial_strokes(animal, date, question_trial,\n",
    "                                                                   question_stroke,\n",
    "                                            list_time_windows,\n",
    "                                                       combine_into_larger_areas = combine_into_larger_areas, exclude_bad_areas=exclude_bad_areas,\n",
    "                                            SPIKES_VERSION=\"tdt\",\n",
    "                                            HACK_RENAME_SHAPES = HACK_RENAME_SHAPES)"
   ],
   "metadata": {
    "collapsed": false
   },
   "id": "83bd3951e7494e64"
  },
  {
   "cell_type": "code",
   "execution_count": null,
   "outputs": [],
   "source": [
    "DFallpaALL[\"event\"].value_counts()"
   ],
   "metadata": {
    "collapsed": false
   },
   "id": "148703efbcd5914c"
  },
  {
   "cell_type": "code",
   "execution_count": null,
   "outputs": [],
   "source": [
    "pa = DFallpaALL[\"pa\"].values[0]\n",
    "pa.Xlabels[\"trials\"][\"seqc_5_shape\"]\n"
   ],
   "metadata": {
    "collapsed": false
   },
   "id": "a6624e656aba0d7a"
  },
  {
   "cell_type": "code",
   "execution_count": null,
   "outputs": [],
   "source": [
    "pa = DFallpaALL[\"pa\"].values[-1]\n",
    "\n",
    "# Figure out how long is seuqence\n",
    "n_strokes_max = -1\n",
    "for i in range(8):\n",
    "    n_ignore = sum(pa.Xlabels[\"trials\"][f\"seqc_{i}_shape\"]==\"IGNORE\")\n",
    "    n_total = len(pa.Xlabels[\"trials\"][f\"seqc_{i}_shape\"])\n",
    "    print(n_ignore, n_total)\n",
    "    if n_ignore<n_total:\n",
    "        n_strokes_max=i+1\n",
    "assert n_strokes_max>0\n",
    "print(n_strokes_max)\n",
    "\n"
   ],
   "metadata": {
    "collapsed": false
   },
   "id": "7bd898c1d25127fb"
  },
  {
   "cell_type": "markdown",
   "source": [
    "### [Substrokes] - extract continuous motor variables ( methods to get substroke motor bin and context)"
   ],
   "metadata": {
    "collapsed": false
   },
   "id": "a45a298e1f4a8b78"
  },
  {
   "cell_type": "code",
   "execution_count": null,
   "outputs": [],
   "source": [
    "SP.datasetbeh_preprocess_clean_by_expt(\"substrokes_sp\", [])\n",
    "# Extract motor variables (DS)\n",
    "DS = SP.datasetbeh_extract_dataset(\"datstrokes\").copy()"
   ],
   "metadata": {
    "collapsed": false
   },
   "id": "1ff492e622c8f714"
  },
  {
   "cell_type": "code",
   "execution_count": null,
   "outputs": [],
   "source": [
    "\n",
    "from pythonlib.dataset.substrokes import features_motor_extract_and_bin\n",
    "features_motor_extract_and_bin(DS, \"/tmp\")\n"
   ],
   "metadata": {
    "collapsed": false
   },
   "id": "d047a39d976c71b0"
  },
  {
   "cell_type": "code",
   "execution_count": null,
   "outputs": [],
   "source": [],
   "metadata": {
    "collapsed": false
   },
   "id": "f5809ac2921622a5"
  },
  {
   "cell_type": "markdown",
   "source": [
    "##### Getting substroke sequential context"
   ],
   "metadata": {
    "collapsed": false
   },
   "id": "3dc4e6a0eef3926d"
  },
  {
   "cell_type": "code",
   "execution_count": null,
   "outputs": [],
   "source": [
    "# How mnay cases with variation in shapes, conditioned on substroke motor, including context.\n",
    "\n",
    "from pythonlib.tools.pandastools import extract_with_levels_of_conjunction_vars\n",
    "var = \"shape_idxwithin\"\n",
    "vars_others = [\"di_an_ci_ve_bin\", \"CTXT_prev_this_next\"]\n",
    "extract_with_levels_of_conjunction_vars(DS.Dat, var, vars_others, n_min_across_all_levs_var=2, \n",
    "                                        lenient_allow_data_if_has_n_levels=2, prune_levels_with_low_n=True, plot_counts_heatmap_savepath=\"/tmp/test.png\")\n"
   ],
   "metadata": {
    "collapsed": false
   },
   "id": "7efd7acf9837e65f"
  },
  {
   "cell_type": "code",
   "execution_count": null,
   "outputs": [],
   "source": [
    "DS.plot_multiple_sorted_by_feature_split_by_othervar(var, vars_others, plot_save_dir=\"/tmp\")"
   ],
   "metadata": {
    "collapsed": false
   },
   "id": "47363de32646a72"
  },
  {
   "cell_type": "code",
   "execution_count": null,
   "outputs": [],
   "source": [
    "# Remove all data for which dont have the entire stroke, since then cant look at sequence context\n",
    "DS.clean_preprocess_data([\"dataset_missing_stroke_in_context\"])"
   ],
   "metadata": {
    "collapsed": false
   },
   "id": "6b20737483111b6f"
  },
  {
   "cell_type": "code",
   "execution_count": null,
   "outputs": [],
   "source": [
    "len(keeps)\n",
    "# len(DS.Dat)"
   ],
   "metadata": {
    "collapsed": false
   },
   "id": "730e020eec88ab3a"
  },
  {
   "cell_type": "code",
   "execution_count": null,
   "outputs": [],
   "source": [
    "50/1601"
   ],
   "metadata": {
    "collapsed": false
   },
   "id": "b95018b27c456e1"
  },
  {
   "cell_type": "markdown",
   "source": [
    "##### Method - from D to substrokes Dataset"
   ],
   "metadata": {
    "collapsed": false
   },
   "id": "fcf228434d2ab86"
  },
  {
   "cell_type": "code",
   "execution_count": null,
   "outputs": [],
   "source": [
    "from pythonlib.dataset.substrokes import load_presaved_using_pipeline\n",
    "DSsubs, Dsubs = load_presaved_using_pipeline(D)"
   ],
   "metadata": {
    "collapsed": false
   },
   "id": "f02d5e1120a753b"
  },
  {
   "cell_type": "markdown",
   "source": [
    "##### Splitting by n taksstrokes intask"
   ],
   "metadata": {
    "collapsed": false
   },
   "id": "34241cad68f62182"
  },
  {
   "cell_type": "code",
   "execution_count": null,
   "outputs": [],
   "source": [
    "D = SP.datasetbeh_extract_dataset()\n",
    "D.extract_beh_features([\"num_strokes_task\"])\n",
    "SP.datasetbeh_append_column(\"FEAT_num_strokes_task\", D)\n",
    "# Conjunction of stroke index and num strokes in task.\n",
    "from pythonlib.tools.pandastools import append_col_with_grp_index\n",
    "SP.DfScalar = append_col_with_grp_index(SP.DfScalar, [\"FEAT_num_strokes_task\", \"stroke_index\"], \"nstk_stkidx\", False)\n",
    "SP.DfScalar[\"nstk_stkidx\"].value_counts()\n",
    "\n",
    "SP.DfScalar_OutlierRows = append_col_with_grp_index(SP.DfScalar_OutlierRows, [\"FEAT_num_strokes_task\", \"stroke_index\"], \"nstk_stkidx\", False)\n",
    "SP.DfScalar_OutlierRows[\"nstk_stkidx\"].value_counts()\n",
    "\n"
   ],
   "metadata": {
    "collapsed": false
   },
   "id": "d713b28c420def0d"
  },
  {
   "cell_type": "markdown",
   "source": [
    "##### Plotting functions for Snippets"
   ],
   "metadata": {
    "collapsed": false
   },
   "id": "1581f9306ff7aee5"
  },
  {
   "cell_type": "code",
   "execution_count": null,
   "outputs": [],
   "source": [
    "SAVEDIR = \"/gorilla1/analyses/recordings/main/shape_vs_loc_index_PIG\"\n",
    "import os\n",
    "savedir = f\"{SAVEDIR}/{animal}/{DATE}\"\n",
    "os.makedirs(savedir, exist_ok=True)\n",
    "print(savedir)"
   ],
   "metadata": {
    "collapsed": false
   },
   "id": "53f7760d5b702d8c"
  },
  {
   "cell_type": "code",
   "execution_count": null,
   "outputs": [],
   "source": [
    "if DEBUG:\n",
    "    # if you debug, then you have small n trials, so lower the threshold for keeping data.\n",
    "    print(SP.ParamsGlobals)1\n",
    "    SP.globals_update(globals_nmin=1)\n"
   ],
   "metadata": {
    "collapsed": false
   },
   "id": "19ce3ec11b83e8fc"
  },
  {
   "cell_type": "code",
   "execution_count": null,
   "outputs": [],
   "source": [
    "chan = SP.Sites[0]\n",
    "SP.plotgood_rasters(chan)"
   ],
   "metadata": {
    "collapsed": false
   },
   "id": "a346cbba622767ab"
  },
  {
   "cell_type": "code",
   "execution_count": null,
   "outputs": [],
   "source": [
    "SP.plotgood_rasters_smfr_combined(chan)"
   ],
   "metadata": {
    "collapsed": false
   },
   "id": "28b2f39b1e8153a1"
  },
  {
   "cell_type": "code",
   "execution_count": null,
   "outputs": [],
   "source": [
    "sn.sitegetter_print_summarytext_each_unit()"
   ],
   "metadata": {
    "collapsed": false
   },
   "id": "a8fb894f6540a8c6"
  },
  {
   "cell_type": "code",
   "execution_count": null,
   "outputs": [],
   "source": [
    "chan = SP.Sites[1]\n",
    "for PLOT_VER in [\"smfr\", \"raster\"]:\n",
    "    SP.plotgood_smfr_each_level_subplot_grid_by_vars(chan, \"shape_oriented\", \n",
    "                                                     \"gridloc\", \"stroke_index\",\n",
    "                                                     PLOT_VER=PLOT_VER);"
   ],
   "metadata": {
    "collapsed": false
   },
   "id": "e951eb32f22bd409"
  },
  {
   "cell_type": "code",
   "execution_count": null,
   "outputs": [],
   "source": [
    "# Rasters and smoothed FR, split by event\n",
    "\n",
    "# SP.datasetbeh_append_column(\"epoch\", sn.Datasetbeh) # assign epoch to SP\n",
    "\n",
    "chan = SP.Sites[1]\n",
    "SP.plotgood_rasters_smfr_each_level_combined(chan, var=\"shape_oriented\", vars_others=[\"gridloc\", \"stroke_index\"]);\n",
    "SP.plotgood_rasters_smfr_each_level_combined(chan, var=\"shape_oriented\", vars_others=[\"gridloc\"]);\n",
    "SP.plotgood_rasters_smfr_each_level_combined(chan, var=\"shape_oriented\", vars_others=[\"stroke_index\"]);\n"
   ],
   "metadata": {
    "collapsed": false
   },
   "id": "485669cb9db872f8"
  },
  {
   "cell_type": "code",
   "execution_count": null,
   "outputs": [],
   "source": [
    "# Show heatmap, conjucntion of other variables (how balanced is it).\n",
    "from pythonlib.tools.pandastools import convert_to_2d_dataframe, grouping_plot_n_samples_conjunction_heatmap\n",
    "# \n",
    "# convert_to_2d_dataframe(SP.DfScalar, \"\")\n",
    "\n",
    "fig = grouping_plot_n_samples_conjunction_heatmap(SP.DfScalar, \"shape_oriented\", \"gridloc\", [\"stroke_index\"])"
   ],
   "metadata": {
    "collapsed": false
   },
   "id": "aa4c0fa6443113b1"
  },
  {
   "cell_type": "code",
   "execution_count": null,
   "outputs": [],
   "source": [
    "chan = SP.Sites[6]\n",
    "PLOT_VER = \"smfr\"\n",
    "SP.plotgood_smfr_each_level_subplot_grid_by_vars(chan, \"shape_oriented\", \n",
    "                                                 \"gridloc\", \"nstk_stkidx\",\n",
    "                                                 PLOT_VER=PLOT_VER);"
   ],
   "metadata": {
    "collapsed": false
   },
   "id": "bdd427e339e8a8e5"
  },
  {
   "cell_type": "code",
   "execution_count": null,
   "outputs": [],
   "source": [
    "chan = SP.Sites[1]"
   ],
   "metadata": {
    "collapsed": false
   },
   "id": "18e00162a8cc9f3d"
  },
  {
   "cell_type": "code",
   "execution_count": null,
   "outputs": [],
   "source": [
    "chan = SP.Sites[1]"
   ],
   "metadata": {
    "collapsed": false
   },
   "id": "a7c636cec88c90d9"
  },
  {
   "cell_type": "code",
   "execution_count": null,
   "outputs": [],
   "source": [
    "SP.plotgood_rasters_smfr_each_level_combined(chan, var=\"shape_oriented\", vars_others=[\"nstk_stkidx\"]);\n"
   ],
   "metadata": {
    "collapsed": false
   },
   "id": "a6f0eea18a706a23"
  },
  {
   "cell_type": "code",
   "execution_count": null,
   "outputs": [],
   "source": [
    "SP"
   ],
   "metadata": {
    "collapsed": false
   },
   "id": "98f2d081d5c47de"
  },
  {
   "cell_type": "markdown",
   "source": [
    "##### Rasters: substrokes..."
   ],
   "metadata": {
    "collapsed": false
   },
   "id": "f194fe1902af29d5"
  },
  {
   "cell_type": "code",
   "execution_count": null,
   "outputs": [],
   "source": [
    "\n",
    "SP.datasetbeh_append_column_helper([\"shape_idxwithin\"])\n"
   ],
   "metadata": {
    "collapsed": false
   },
   "id": "d4f12956f7238555"
  },
  {
   "cell_type": "code",
   "execution_count": null,
   "outputs": [],
   "source": [
    "chan = SP.sitegetter_map_region_to_sites(\"PMv_m\")[0]\n",
    "# SP.plotgood_smfr_each_level_subplot_grid_by_vars(chan, var, vars_other[0], vars_other[1], PLOT_VER=\"smfr\");\n",
    "SP.plotgood_rasters_smfr_each_level_combined(chan, var, vars_other, plotvers=(\"smfr\"));\n",
    "\n",
    "chan = SP.sitegetter_map_region_to_sites(\"M1_m\")[1]\n",
    "# SP.plotgood_smfr_each_level_subplot_grid_by_vars(chan, var, vars_other[0], vars_other[1], PLOT_VER=\"smfr\");\n",
    "SP.plotgood_rasters_smfr_each_level_combined(chan, var, vars_other, plotvers=(\"smfr\"));\n"
   ],
   "metadata": {
    "collapsed": false
   },
   "id": "d27b88c98eb6b97b"
  },
  {
   "cell_type": "code",
   "execution_count": null,
   "outputs": [],
   "source": [
    "savedir = f\"/gorilla1/analyses/recordings/main/RASTERS/{animal}-{DATE}/substrokes\"\n",
    "import os\n",
    "os.makedirs(savedir, exist_ok=True)\n",
    "\n"
   ],
   "metadata": {
    "collapsed": false
   },
   "id": "ed35cafd3d41697d"
  },
  {
   "cell_type": "code",
   "execution_count": null,
   "outputs": [],
   "source": [
    "\n",
    "from pythonlib.tools.plottools import savefig\n",
    "\n",
    "for chan in SP.Sites:\n",
    "    \n",
    "    chan_text = SP.session_sitegetter_summarytext(chan)\n",
    "\n",
    "    # Pmv differetn across shapes    \n",
    "    var = \"shape\"\n",
    "    vars_other = [\"index_within_stroke\", \"dist_angle\"]\n",
    "    fig, axesall = SP.plotgood_rasters_smfr_each_level_combined(chan, var, vars_other, plotvers=(\"smfr\"));\n",
    "    savefig(fig, f\"{savedir}/{chan_text}-shape-vs-substrk_idx_dist_angle.png\")\n",
    "    \n",
    "    # M1 with similar encoding for the same ss, no matter the shape or index\n",
    "    var = \"shape_idxwithin\"\n",
    "    vars_other = [\"dist_angle\"]\n",
    "    fig, axesall = SP.plotgood_rasters_smfr_each_level_combined(chan, var, vars_other, plotvers=(\"smfr\"));\n",
    "    savefig(fig, f\"{savedir}/{chan_text}-shape_idx-vs-substrk_dist_angle.png\")\n",
    "    \n",
    "    # [Same, but splitting into grid plot]\n",
    "    var = \"shape_idxwithin\"\n",
    "    vars_other = [\"distcum_binned\", \"angle_binned\"]\n",
    "    fig, axesall = SP.plotgood_smfr_each_level_subplot_grid_by_vars(chan, var, vars_other[0], vars_other[1], PLOT_VER=\"smfr\");\n",
    "    savefig(fig, f\"{savedir}/{chan_text}-shape_idx-vs-substrk_dist_angle_grid.png\")\n",
    "    \n",
    "    # M1 different across ss, no matter the shape or index\n",
    "    # Trial by trial variability\n",
    "    var = \"dist_angle\"\n",
    "    vars_other = [\"shape_idxwithin\"]\n",
    "    fig, axesall = SP.plotgood_rasters_smfr_each_level_combined(chan, var, vars_other, plotvers=(\"smfr\"));\n",
    "    savefig(fig, f\"{savedir}/{chan_text}-substrk_dist_angle-vs-shape_idx.png\")\n",
    "    \n",
    "    plt.close(\"all\")\n"
   ],
   "metadata": {
    "collapsed": false
   },
   "id": "a32f6f84c2fee885"
  },
  {
   "cell_type": "markdown",
   "source": [
    "##### Time warping, so that can look at offset and onset"
   ],
   "metadata": {
    "collapsed": false
   },
   "id": "890a418c81b8ef86"
  },
  {
   "cell_type": "code",
   "execution_count": null,
   "outputs": [],
   "source": [
    "SP.DfScalar[:2]"
   ],
   "metadata": {
    "collapsed": false
   },
   "id": "b22a354fe3ce1d21"
  },
  {
   "cell_type": "markdown",
   "source": [
    "### Computing modulation of activity by certain variables (site by site)"
   ],
   "metadata": {
    "collapsed": false
   },
   "id": "9c4cc1ea25e0e20b"
  },
  {
   "cell_type": "markdown",
   "source": [
    "For each site, compute how strongly it is modulated by a specific variable, computed \n",
    "separatedly for each event."
   ],
   "metadata": {
    "collapsed": false
   },
   "id": "a7fb5df4bc68d48b"
  },
  {
   "cell_type": "code",
   "execution_count": null,
   "outputs": [],
   "source": [
    "SP.DfScalar[:2]"
   ],
   "metadata": {
    "collapsed": false
   },
   "id": "27bfdbb24d81eb51"
  },
  {
   "cell_type": "code",
   "execution_count": null,
   "outputs": [],
   "source": [
    "# First, append the variables that you wish to analyze\n",
    "SP.datasetbeh_append_column(\"epoch\", sn.Datasetbeh) # assign epoch to SP\n"
   ],
   "metadata": {
    "collapsed": false
   },
   "id": "ecfdf5d5d5ada06e"
  },
  {
   "cell_type": "code",
   "execution_count": null,
   "outputs": [],
   "source": [
    "if DEBUG:\n",
    "    # if you debug, then you have small n trials, so lower the threshold for keeping data.\n",
    "    print(SP.ParamsGlobals)\n",
    "    SP.globals_update(globals_nmin=2)\n"
   ],
   "metadata": {
    "collapsed": false
   },
   "id": "257f9171c27e317f"
  },
  {
   "cell_type": "code",
   "execution_count": null,
   "outputs": [],
   "source": [
    "# Run this to compute modulation\n",
    "DF_VAR, DF_FR, DF_FR_LEVELS, list_eventwindow_event = SP.modulationgood_compute_wrapper(\"epoch\", \n",
    "                                                                                        DEBUG_CONJUNCTIONS=False, \n",
    "                                                                                        THINGS_TO_EXTRACT=[\"anova\"])\n"
   ],
   "metadata": {
    "collapsed": false
   },
   "id": "7d0c1041cef6d576"
  },
  {
   "cell_type": "code",
   "execution_count": null,
   "outputs": [],
   "source": [
    "# Plot results and save\n",
    "sdir_base = \"/tmp\"\n",
    "SP.modulationgood_plot_WRAPPER(DF_VAR, DF_FR, DF_FR_LEVELS, list_eventwindow_event, \n",
    "                               var=\"epoch\", vars_conjuction=[\"dummy_var\"],\n",
    "                               sdir_base=sdir_base, N_WAYS=1)"
   ],
   "metadata": {
    "collapsed": false
   },
   "id": "85d3c0aa1e622b60"
  },
  {
   "cell_type": "markdown",
   "source": [
    "### Modulation by time (relative to aligned events)"
   ],
   "metadata": {
    "collapsed": false
   },
   "id": "141aeb9618dd81f7"
  },
  {
   "cell_type": "markdown",
   "source": [
    "For each site x event, compute a scalar value indiicating how much its actiivyt is modulated\n",
    "with respect to this event. This moudlation can be increase in fr, decrease, or any\n",
    "activity pattern that is consistent across trials."
   ],
   "metadata": {
    "collapsed": false
   },
   "id": "6555483c7abc2bf0"
  },
  {
   "cell_type": "code",
   "execution_count": null,
   "outputs": [],
   "source": [
    "# Extract modulation, for each site x event"
   ],
   "metadata": {
    "collapsed": false
   },
   "id": "b841a624dffbd236"
  },
  {
   "cell_type": "code",
   "execution_count": null,
   "outputs": [],
   "source": [
    "from neuralmonkey.analyses.event_temporal_modulation_v2 import preprocess_and_extract\n",
    "from neuralmonkey.analyses.event_temporal_modulation import plot_overview\n",
    "\n",
    "df_modtime = preprocess_and_extract(SP)\n"
   ],
   "metadata": {
    "collapsed": false
   },
   "id": "1942a87f166c9816"
  },
  {
   "cell_type": "code",
   "execution_count": null,
   "outputs": [],
   "source": [
    "# Plot overview of modulation"
   ],
   "metadata": {
    "collapsed": false
   },
   "id": "18b338fe698f96fe"
  },
  {
   "cell_type": "code",
   "execution_count": null,
   "outputs": [],
   "source": [
    "from neuralmonkey.analyses.event_temporal_modulation_v2 import plot_overview\n",
    "SAVEDIR = \"/tmp\"\n",
    "##################### PLOTS\n",
    "plot_overview(df_modtime, SP, SAVEDIR)"
   ],
   "metadata": {
    "collapsed": false
   },
   "id": "528917b01df478f0"
  },
  {
   "cell_type": "markdown",
   "source": [
    "## Sliding decoder"
   ],
   "metadata": {
    "collapsed": false
   },
   "id": "997a56db7b24e8f0"
  },
  {
   "cell_type": "code",
   "execution_count": null,
   "outputs": [],
   "source": [
    "# 1) Separate decoders aligned to stroke onset. (grouping all stroke).\n",
    "# 2) \n"
   ],
   "metadata": {
    "collapsed": false
   },
   "id": "53846024fa502c32"
  },
  {
   "cell_type": "code",
   "execution_count": null,
   "outputs": [],
   "source": [
    "Look at 220713_prims_state_space"
   ],
   "metadata": {
    "collapsed": false
   },
   "id": "37d2b842ea79623a"
  },
  {
   "cell_type": "markdown",
   "source": [
    "# Batch plotting functions"
   ],
   "metadata": {
    "collapsed": false
   },
   "id": "5c977791e75f03fb"
  },
  {
   "cell_type": "markdown",
   "source": [
    "### Plot rasters"
   ],
   "metadata": {
    "collapsed": false
   },
   "id": "7afc609263977dbc"
  },
  {
   "cell_type": "code",
   "execution_count": null,
   "outputs": [],
   "source": [
    "        if PLOT_RASTERS:\n",
    "            for event_window, event in list_eventwindow_event:\n",
    "                # (Only do once for each event)\n",
    "                sdir_rasters = f\"{SAVEDIR}/{ANALY_VER}/var_by_varsother/VAR_{var}-OV_{'_'.join(vars_conjuction)}/rasters/{event}\"\n",
    "                os.makedirs(sdir_rasters, exist_ok=True)\n",
    "\n",
    "                print(\"** Plotting raster + sm fr:\", sdir_rasters)\n",
    "                ##### Plot raster + sm fr\n",
    "                # Plot rasters for each site\n",
    "                old_backend = mpl.get_backend()\n",
    "                print(\"default backend is \" + old_backend)\n",
    "                mpl.use('agg') # non-GUI backend, so that the loop below doesn't run into a memory leak error (see GitHub matplotlib: #20300)\n",
    "                for site in self.Sites:\n",
    "                    path = f\"{sdir_rasters}/{sn.sitegetter_summarytext(site)}.png\"\n",
    "                    if not os.path.exists(path):\n",
    "                        fig, axes = self.plotgood_rasters_smfr_each_level_combined(site, var, vars_conjuction, \n",
    "                            event=event)\n",
    "                        fig.savefig(path)\n",
    "                        plt.close(\"all\")\n",
    "                mpl.use(old_backend) # switch back just to be safe..\n"
   ],
   "metadata": {
    "collapsed": false
   },
   "id": "15fe7033c324d777"
  },
  {
   "cell_type": "code",
   "execution_count": null,
   "outputs": [],
   "source": [
    "                for chan in SP.Sites:\n",
    "                    print(\"plotting, chan:\", chan)\n",
    "\n",
    "                    chan_text = SP.SN.sitegetter_summarytext(chan)\n",
    "\n",
    "                    fig, _ = SP.plotgood_rasters_smfr_each_level_combined(chan, var=\"shape_oriented\", vars_others=[\"gridloc\"])\n",
    "                    path = f\"{savedir}/{chan_text}-shape_oriented-vs-gridloc.png\"\n",
    "                    savefig(fig, path)\n",
    "\n",
    "                    fig, _ = SP.plotgood_rasters_smfr_each_level_combined(chan, var=\"shape_oriented\", vars_others=[\"nstk_stkidx\"])\n",
    "                    path = f\"{savedir}/{chan_text}-shape_oriented-vs-nstk_stkidx.png\"\n",
    "                    savefig(fig, path)\n",
    "\n",
    "                    # LIST_PLOT_VER = [\"smfr\", \"raster\"] # to speed it up, exclude raster\n",
    "                    LIST_PLOT_VER = [\"smfr\"]\n",
    "                    for PLOT_VER in LIST_PLOT_VER:\n",
    "                        fig, _ = SP.plotgood_smfr_each_level_subplot_grid_by_vars(chan, \"shape_oriented\",\n",
    "                                                                         \"gridloc\", \"nstk_stkidx\",\n",
    "                                                                         PLOT_VER=PLOT_VER)\n",
    "                        path = f\"{savedir}/{chan_text}-shape_oriented-vs-other_vars-{PLOT_VER}.png\"\n",
    "                        savefig(fig, path)\n",
    "\n",
    "                    plt.close(\"all\")\n"
   ],
   "metadata": {
    "collapsed": false
   },
   "id": "d1457eb617747239"
  },
  {
   "cell_type": "code",
   "execution_count": null,
   "outputs": [],
   "source": [],
   "metadata": {
    "collapsed": false
   },
   "id": "8919252a65120b9c"
  },
  {
   "cell_type": "markdown",
   "source": [
    "# ### Scratch plots"
   ],
   "metadata": {
    "collapsed": false
   },
   "id": "40f17657dbfff1dc"
  },
  {
   "cell_type": "code",
   "execution_count": null,
   "outputs": [],
   "source": [
    "PA.plotNeurHeat(1)\n",
    "PAnorm.plotNeurHeat(1)"
   ],
   "metadata": {
    "collapsed": false
   },
   "id": "deeb863a4a088c71"
  },
  {
   "cell_type": "code",
   "execution_count": null,
   "outputs": [],
   "source": [
    "trial = 10\n",
    "PA.plotNeurTimecourse(trial)\n",
    "PAnorm.plotNeurTimecourse(trial)"
   ],
   "metadata": {
    "collapsed": false
   },
   "id": "c3863f758925c8e2"
  },
  {
   "cell_type": "code",
   "execution_count": null,
   "outputs": [],
   "source": [
    "X = np.mean(PAnorm.X, axis=1, keepdims=False)\n",
    "import seaborn as sns\n",
    "sns.heatmap(X)"
   ],
   "metadata": {
    "collapsed": false
   },
   "id": "5e7079f4e5e76bd3"
  },
  {
   "cell_type": "code",
   "execution_count": null,
   "outputs": [],
   "source": [
    "SP.plotgood_rasters"
   ],
   "metadata": {
    "collapsed": false
   },
   "id": "6a104c0e44bc90e3"
  },
  {
   "cell_type": "code",
   "execution_count": null,
   "outputs": [],
   "source": [],
   "metadata": {
    "collapsed": false
   },
   "id": "85a6fc65b63b6583"
  },
  {
   "cell_type": "code",
   "execution_count": null,
   "outputs": [],
   "source": [
    "# pull out pa for a specific chan\n",
    "chan = SP.Sites[4]"
   ],
   "metadata": {
    "collapsed": false
   },
   "id": "86f08718cde1136f"
  },
  {
   "cell_type": "code",
   "execution_count": null,
   "outputs": [],
   "source": [
    "chan = 50"
   ],
   "metadata": {
    "collapsed": false
   },
   "id": "56e3fe216a0c31eb"
  },
  {
   "cell_type": "code",
   "execution_count": null,
   "outputs": [],
   "source": [
    "PAnorm.Chans"
   ],
   "metadata": {
    "collapsed": false
   },
   "id": "db5b1e671135146a"
  },
  {
   "cell_type": "code",
   "execution_count": null,
   "outputs": [],
   "source": [],
   "metadata": {
    "collapsed": false
   },
   "id": "d2c61735d03194b5"
  },
  {
   "cell_type": "code",
   "execution_count": null,
   "outputs": [],
   "source": [
    "SP.SN.sitegetter_print_summarytext_each_unit()"
   ],
   "metadata": {
    "collapsed": false
   },
   "id": "3b1a522619e2a0ae"
  },
  {
   "cell_type": "code",
   "outputs": [],
   "source": [],
   "metadata": {
    "collapsed": false
   },
   "id": "4db0771bd3a01ed5"
  }
 ],
 "metadata": {
  "kernelspec": {
   "display_name": "Python 3",
   "language": "python",
   "name": "python3"
  },
  "language_info": {
   "codemirror_mode": {
    "name": "ipython",
    "version": 2
   },
   "file_extension": ".py",
   "mimetype": "text/x-python",
   "name": "python",
   "nbconvert_exporter": "python",
   "pygments_lexer": "ipython2",
   "version": "2.7.6"
  }
 },
 "nbformat": 4,
 "nbformat_minor": 5
}
