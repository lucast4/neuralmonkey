{
 "cells": [
  {
   "cell_type": "code",
   "execution_count": 2,
   "id": "initial_id",
   "metadata": {
    "collapsed": true,
    "ExecuteTime": {
     "end_time": "2024-02-08T06:13:31.596074779Z",
     "start_time": "2024-02-08T06:13:31.426118157Z"
    }
   },
   "outputs": [
    {
     "data": {
      "text/plain": "' Sandobx for all things realted to Snippets extraction and generic stuff.\\nNot downstream things (elsewhere).\\n'"
     },
     "execution_count": 2,
     "metadata": {},
     "output_type": "execute_result"
    }
   ],
   "source": [
    "import pandas as pd\n",
    "\n",
    "\"\"\" Sandobx for all things realted to Snippets extraction and generic stuff.\n",
    "Not downstream things (elsewhere).\n",
    "\"\"\""
   ]
  },
  {
   "cell_type": "code",
   "execution_count": 3,
   "outputs": [
    {
     "name": "stdout",
     "output_type": "stream",
     "text": [
      "The autoreload extension is already loaded. To reload it, use:\n",
      "  %reload_ext autoreload\n"
     ]
    }
   ],
   "source": [
    "%load_ext autoreload\n",
    "%autoreload 2\n",
    "\n",
    "from neuralmonkey.classes.session import load_mult_session_helper\n",
    "import matplotlib\n",
    "import matplotlib.pyplot as plt\n",
    "import numpy as np\n",
    "\n",
    "#%matplotlib inline"
   ],
   "metadata": {
    "collapsed": false,
    "ExecuteTime": {
     "end_time": "2024-02-08T06:13:31.824031800Z",
     "start_time": "2024-02-08T06:13:31.643908397Z"
    }
   },
   "id": "93d48dd175d3e9e0"
  },
  {
   "cell_type": "code",
   "execution_count": 4,
   "outputs": [
    {
     "name": "stdout",
     "output_type": "stream",
     "text": [
      "Searching using this string:\n",
      "/mnt/Freiwald/ltian/recordings/*Diego*/*230615*/**\n",
      "Found this many paths:\n",
      "2\n",
      "---\n",
      "/mnt/Freiwald/ltian/recordings/Diego/230615/Diego-230615-104852\n",
      "---\n",
      "/mnt/Freiwald/ltian/recordings/Diego/230615/Diego-230615-105514\n",
      "session:  0\n",
      "Searching using this string:\n",
      "/mnt/Freiwald/ltian/recordings/*Diego*/*230615*/**\n",
      "Found this many paths:\n",
      "2\n",
      "---\n",
      "/mnt/Freiwald/ltian/recordings/Diego/230615/Diego-230615-104852\n",
      "---\n",
      "/mnt/Freiwald/ltian/recordings/Diego/230615/Diego-230615-105514\n",
      "Beh Sessions hand netered (mapping: rec sess --> beh sess):  [2, 3]\n",
      "Beh Sessions that exist on this date:  {230615: [(2, 'priminvar5'), (3, 'priminvar5')]}\n",
      "------------------------------\n",
      "Loading this neural session: 0\n",
      "Loading these beh expts: ['priminvar5']\n",
      "Loading these beh sessions: [2]\n",
      "Using this beh_trial_map_list: [(1, 0)]\n",
      "Searching using this string:\n",
      "/mnt/Freiwald/ltian/recordings/*Diego*/*230615*/**\n",
      "Found this many paths:\n",
      "2\n",
      "---\n",
      "/mnt/Freiwald/ltian/recordings/Diego/230615/Diego-230615-104852\n",
      "---\n",
      "/mnt/Freiwald/ltian/recordings/Diego/230615/Diego-230615-105514\n",
      "{'filename_components_hyphened': ['Diego', '230615', '104852'], 'basedirs': ['/mnt/Freiwald/ltian/recordings/Diego', '/mnt/Freiwald/ltian/recordings/Diego/230615'], 'basedirs_filenames': ['230615', 'Diego-230615-104852'], 'filename_final_ext': 'Diego-230615-104852', 'filename_final_noext': 'Diego-230615-104852'}\n",
      "FOund this path for spikes:  /mnt/Freiwald/ltian/recordings/Diego/230615/Diego-230615-104852/spikes_tdt_quick-4\n",
      "== PATHS for this expt: \n",
      "raws  --  /mnt/Freiwald/ltian/recordings/Diego/230615/Diego-230615-104852\n",
      "tank  --  /mnt/Freiwald/ltian/recordings/Diego/230615/Diego-230615-104852/Diego-230615-104852\n",
      "spikes  --  /mnt/Freiwald/ltian/recordings/Diego/230615/Diego-230615-104852/spikes_tdt_quick-4\n",
      "final_dir_name  --  Diego-230615-104852\n",
      "time  --  104852\n",
      "pathbase_local  --  /gorilla1/neural_preprocess/recordings/Diego/230615/Diego-230615-104852\n",
      "tank_local  --  /gorilla1/neural_preprocess/recordings/Diego/230615/Diego-230615-104852/data_tank.pkl\n",
      "spikes_local  --  /gorilla1/neural_preprocess/recordings/Diego/230615/Diego-230615-104852/data_spikes.pkl\n",
      "datall_local  --  /gorilla1/neural_preprocess/recordings/Diego/230615/Diego-230615-104852/data_datall.pkl\n",
      "events_local  --  /gorilla1/neural_preprocess/recordings/Diego/230615/Diego-230615-104852/events_photodiode.pkl\n",
      "mapper_st2dat_local  --  /gorilla1/neural_preprocess/recordings/Diego/230615/Diego-230615-104852/mapper_st2dat.pkl\n",
      "figs_local  --  /gorilla1/neural_preprocess/recordings/Diego/230615/Diego-230615-104852/figs\n",
      "metadata_units  --  /home/lucast4/code/neuralmonkey/neuralmonkey/metadat/units_Diego\n",
      "cached_dir  --  /gorilla1/neural_preprocess/recordings/Diego/230615/Diego-230615-104852/cached\n",
      "Found! metada path :  /home/lucast4/code/neuralmonkey/neuralmonkey/metadat/units_Diego/230615.yaml\n",
      "updating self.SitesDirty with:  ('sites_garbage', 'sites_error_spikes', 'sites_low_spk_magn')\n",
      "[_sitesdirty_update] skipping! since did not find:  sites_error_spikes\n",
      "Printing whether spikes gotten (o) or not (-) because of spike peak to trough\n",
      "== Loading TDT tank\n",
      "** Loading tank data from local (previusly cached)\n",
      "== Done\n",
      "== Trying to load events data\n",
      "Loading this events (pd) locally to:  /gorilla1/neural_preprocess/recordings/Diego/230615/Diego-230615-104852/events_photodiode.pkl\n",
      "== Done\n",
      "** MINIMAL_LOADING, therefore loading previuosly cached data\n",
      "=== CLEANING UP self.Dat (_cleanup_reloading_saved_state) ===== \n",
      "0 _behclass_alignsim_compute\n",
      "Running D._behclass_tokens_extract_datsegs\n",
      "0 _behclass_tokens_extract_datsegs\n",
      "stored in self.Dat[BehClass]\n",
      "- starting/ending len (grouping params):\n",
      "24\n",
      "24\n",
      "- starting/ending len (getting sequence):\n",
      "24\n",
      "24\n",
      "--- Removing nans\n",
      "start len: 24\n",
      "- num names for each col\n",
      "not removing nans, since columns=[]\n",
      "ADded new column: supervision_online\n",
      "Reassigned train/test, using key: probe\n",
      "and values:\n",
      "Train =  [0]\n",
      "Test =  [1]\n",
      " \n",
      "New distribution of train/test:\n",
      "train    24\n",
      "Name: monkey_train_or_test, dtype: int64\n",
      "Appended column: los_info\n",
      "Appended self.Dat[superv_SEQUENCE_SUP]\n",
      "Appended self.Dat[superv_SEQUENCE_ALPHA]\n",
      "Appended self.Dat[superv_COLOR_ON]\n",
      "Appended self.Dat[superv_COLOR_ITEMS_FADE_TO_DEFAULT_BINSTR]\n",
      "Appended self.Dat[superv_COLOR_METHOD]\n",
      "Appended self.Dat[superv_GUIDEDYN_ON]\n",
      "Appended self.Dat[superv_VISUALFB_METH]\n",
      "appended col to self.Dat:\n",
      "supervision_stage_new\n",
      "[taskgroup_reassign_by_mapper], reassigned values in column: taskgroup\n",
      "GROUPING epoch\n",
      "GROUPING_LEVELS ['230615']\n",
      "FEATURE_NAMES ['hdoffline', 'num_strokes_beh', 'num_strokes_task', 'circ', 'dist']\n",
      "SCORE_COL_NAMES []\n",
      "appended col to self.Dat:\n",
      "date_epoch\n",
      "Appended self.Dat[superv_SEQUENCE_SUP]\n",
      "Appended self.Dat[superv_COLOR_ON]\n",
      "Appended self.Dat[superv_COLOR_METHOD]\n",
      "Appended self.Dat[superv_COLOR_ITEMS_FADE_TO_DEFAULT_BINSTR]\n",
      "Appended self.Dat[superv_GUIDEDYN_ON]\n",
      "appended col to self.Dat:\n",
      "supervision_stage_concise\n",
      "Append column to self.Dat:  supervision_stage_semantic\n",
      "Extracted into self.Dat[epoch_orig]\n",
      "... Generated these...\n",
      "self.BehTrialMapList [(1, 0)]\n",
      "self.BehTrialMapListGood {0: (0, 1), 1: (0, 2), 2: (0, 3), 3: (0, 4), 4: (0, 5), 5: (0, 6), 6: (0, 7), 7: (0, 8), 8: (0, 9), 9: (0, 10), 10: (0, 11), 11: (0, 12), 12: (0, 13), 13: (0, 14), 14: (0, 15), 15: (0, 16), 16: (0, 17), 17: (0, 18), 18: (0, 19), 19: (0, 20), 20: (0, 21), 21: (0, 22), 22: (0, 23), 23: (0, 24), 24: (0, 25), 25: (0, 26), 26: (0, 27)}\n",
      "Generated self._MapperTrialcode2TrialToTrial!\n",
      "Extracted into self.Dat[epoch_orig]\n",
      "Extracted successfully for session:  0\n",
      "session:  1\n",
      "Searching using this string:\n",
      "/mnt/Freiwald/ltian/recordings/*Diego*/*230615*/**\n",
      "Found this many paths:\n",
      "2\n",
      "---\n",
      "/mnt/Freiwald/ltian/recordings/Diego/230615/Diego-230615-104852\n",
      "---\n",
      "/mnt/Freiwald/ltian/recordings/Diego/230615/Diego-230615-105514\n",
      "Beh Sessions hand netered (mapping: rec sess --> beh sess):  [2, 3]\n",
      "Beh Sessions that exist on this date:  {230615: [(2, 'priminvar5'), (3, 'priminvar5')]}\n",
      "------------------------------\n",
      "Loading this neural session: 1\n",
      "Loading these beh expts: ['priminvar5']\n",
      "Loading these beh sessions: [3]\n",
      "Using this beh_trial_map_list: [(1, 0)]\n",
      "Searching using this string:\n",
      "/mnt/Freiwald/ltian/recordings/*Diego*/*230615*/**\n",
      "Found this many paths:\n",
      "2\n",
      "---\n",
      "/mnt/Freiwald/ltian/recordings/Diego/230615/Diego-230615-104852\n",
      "---\n",
      "/mnt/Freiwald/ltian/recordings/Diego/230615/Diego-230615-105514\n",
      "{'filename_components_hyphened': ['Diego', '230615', '105514'], 'basedirs': ['/mnt/Freiwald/ltian/recordings/Diego', '/mnt/Freiwald/ltian/recordings/Diego/230615'], 'basedirs_filenames': ['230615', 'Diego-230615-105514'], 'filename_final_ext': 'Diego-230615-105514', 'filename_final_noext': 'Diego-230615-105514'}\n",
      "FOund this path for spikes:  /mnt/Freiwald/ltian/recordings/Diego/230615/Diego-230615-105514/spikes_tdt_quick-4\n",
      "== PATHS for this expt: \n",
      "raws  --  /mnt/Freiwald/ltian/recordings/Diego/230615/Diego-230615-105514\n",
      "tank  --  /mnt/Freiwald/ltian/recordings/Diego/230615/Diego-230615-105514/Diego-230615-105514\n",
      "spikes  --  /mnt/Freiwald/ltian/recordings/Diego/230615/Diego-230615-105514/spikes_tdt_quick-4\n",
      "final_dir_name  --  Diego-230615-105514\n",
      "time  --  105514\n",
      "pathbase_local  --  /gorilla1/neural_preprocess/recordings/Diego/230615/Diego-230615-105514\n",
      "tank_local  --  /gorilla1/neural_preprocess/recordings/Diego/230615/Diego-230615-105514/data_tank.pkl\n",
      "spikes_local  --  /gorilla1/neural_preprocess/recordings/Diego/230615/Diego-230615-105514/data_spikes.pkl\n",
      "datall_local  --  /gorilla1/neural_preprocess/recordings/Diego/230615/Diego-230615-105514/data_datall.pkl\n",
      "events_local  --  /gorilla1/neural_preprocess/recordings/Diego/230615/Diego-230615-105514/events_photodiode.pkl\n",
      "mapper_st2dat_local  --  /gorilla1/neural_preprocess/recordings/Diego/230615/Diego-230615-105514/mapper_st2dat.pkl\n",
      "figs_local  --  /gorilla1/neural_preprocess/recordings/Diego/230615/Diego-230615-105514/figs\n",
      "metadata_units  --  /home/lucast4/code/neuralmonkey/neuralmonkey/metadat/units_Diego\n",
      "cached_dir  --  /gorilla1/neural_preprocess/recordings/Diego/230615/Diego-230615-105514/cached\n",
      "Found! metada path :  /home/lucast4/code/neuralmonkey/neuralmonkey/metadat/units_Diego/230615.yaml\n",
      "updating self.SitesDirty with:  ('sites_garbage', 'sites_error_spikes', 'sites_low_spk_magn')\n",
      "[_sitesdirty_update] skipping! since did not find:  sites_error_spikes\n",
      "Printing whether spikes gotten (o) or not (-) because of spike peak to trough\n",
      "== Loading TDT tank\n",
      "** Loading tank data from local (previusly cached)\n",
      "== Done\n",
      "== Trying to load events data\n",
      "Loading this events (pd) locally to:  /gorilla1/neural_preprocess/recordings/Diego/230615/Diego-230615-105514/events_photodiode.pkl\n",
      "== Done\n",
      "** MINIMAL_LOADING, therefore loading previuosly cached data\n",
      "=== CLEANING UP self.Dat (_cleanup_reloading_saved_state) ===== \n",
      "0 _behclass_alignsim_compute\n",
      "200 _behclass_alignsim_compute\n",
      "400 _behclass_alignsim_compute\n",
      "Running D._behclass_tokens_extract_datsegs\n",
      "0 _behclass_tokens_extract_datsegs\n",
      "200 _behclass_tokens_extract_datsegs\n",
      "400 _behclass_tokens_extract_datsegs\n",
      "stored in self.Dat[BehClass]\n",
      "- starting/ending len (grouping params):\n",
      "423\n",
      "423\n",
      "- starting/ending len (getting sequence):\n",
      "423\n",
      "423\n",
      "--- Removing nans\n",
      "start len: 423\n",
      "- num names for each col\n",
      "not removing nans, since columns=[]\n",
      "ADded new column: supervision_online\n",
      "Reassigned train/test, using key: probe\n",
      "and values:\n",
      "Train =  [0]\n",
      "Test =  [1]\n",
      " \n",
      "New distribution of train/test:\n",
      "train    423\n",
      "Name: monkey_train_or_test, dtype: int64\n",
      "Appended column: los_info\n",
      "Appended self.Dat[superv_SEQUENCE_SUP]\n",
      "Appended self.Dat[superv_SEQUENCE_ALPHA]\n",
      "Appended self.Dat[superv_COLOR_ON]\n",
      "Appended self.Dat[superv_COLOR_ITEMS_FADE_TO_DEFAULT_BINSTR]\n",
      "Appended self.Dat[superv_COLOR_METHOD]\n",
      "Appended self.Dat[superv_GUIDEDYN_ON]\n",
      "Appended self.Dat[superv_VISUALFB_METH]\n",
      "appended col to self.Dat:\n",
      "supervision_stage_new\n",
      "[taskgroup_reassign_by_mapper], reassigned values in column: taskgroup\n",
      "GROUPING epoch\n",
      "GROUPING_LEVELS ['230615']\n",
      "FEATURE_NAMES ['hdoffline', 'num_strokes_beh', 'num_strokes_task', 'circ', 'dist']\n",
      "SCORE_COL_NAMES []\n",
      "appended col to self.Dat:\n",
      "date_epoch\n",
      "Appended self.Dat[superv_SEQUENCE_SUP]\n",
      "Appended self.Dat[superv_COLOR_ON]\n",
      "Appended self.Dat[superv_COLOR_METHOD]\n",
      "Appended self.Dat[superv_COLOR_ITEMS_FADE_TO_DEFAULT_BINSTR]\n",
      "Appended self.Dat[superv_GUIDEDYN_ON]\n",
      "appended col to self.Dat:\n",
      "supervision_stage_concise\n",
      "Append column to self.Dat:  supervision_stage_semantic\n",
      "Extracted into self.Dat[epoch_orig]\n",
      "... Generated these...\n",
      "self.BehTrialMapList [(1, 0)]\n",
      "self.BehTrialMapListGood {0: (0, 1), 1: (0, 2), 2: (0, 3), 3: (0, 4), 4: (0, 5), 5: (0, 6), 6: (0, 7), 7: (0, 8), 8: (0, 9), 9: (0, 10), 10: (0, 11), 11: (0, 12), 12: (0, 13), 13: (0, 14), 14: (0, 15), 15: (0, 16), 16: (0, 17), 17: (0, 18), 18: (0, 19), 19: (0, 20), 20: (0, 21), 21: (0, 22), 22: (0, 23), 23: (0, 24), 24: (0, 25), 25: (0, 26), 26: (0, 27), 27: (0, 28), 28: (0, 29), 29: (0, 30), 30: (0, 31), 31: (0, 32), 32: (0, 33), 33: (0, 34), 34: (0, 35), 35: (0, 36), 36: (0, 37), 37: (0, 38), 38: (0, 39), 39: (0, 40), 40: (0, 41), 41: (0, 42), 42: (0, 43), 43: (0, 44), 44: (0, 45), 45: (0, 46), 46: (0, 47), 47: (0, 48), 48: (0, 49), 49: (0, 50), 50: (0, 51), 51: (0, 52), 52: (0, 53), 53: (0, 54), 54: (0, 55), 55: (0, 56), 56: (0, 57), 57: (0, 58), 58: (0, 59), 59: (0, 60), 60: (0, 61), 61: (0, 62), 62: (0, 63), 63: (0, 64), 64: (0, 65), 65: (0, 66), 66: (0, 67), 67: (0, 68), 68: (0, 69), 69: (0, 70), 70: (0, 71), 71: (0, 72), 72: (0, 73), 73: (0, 74), 74: (0, 75), 75: (0, 76), 76: (0, 77), 77: (0, 78), 78: (0, 79), 79: (0, 80), 80: (0, 81), 81: (0, 82), 82: (0, 83), 83: (0, 84), 84: (0, 85), 85: (0, 86), 86: (0, 87), 87: (0, 88), 88: (0, 89), 89: (0, 90), 90: (0, 91), 91: (0, 92), 92: (0, 93), 93: (0, 94), 94: (0, 95), 95: (0, 96), 96: (0, 97), 97: (0, 98), 98: (0, 99), 99: (0, 100), 100: (0, 101), 101: (0, 102), 102: (0, 103), 103: (0, 104), 104: (0, 105), 105: (0, 106), 106: (0, 107), 107: (0, 108), 108: (0, 109), 109: (0, 110), 110: (0, 111), 111: (0, 112), 112: (0, 113), 113: (0, 114), 114: (0, 115), 115: (0, 116), 116: (0, 117), 117: (0, 118), 118: (0, 119), 119: (0, 120), 120: (0, 121), 121: (0, 122), 122: (0, 123), 123: (0, 124), 124: (0, 125), 125: (0, 126), 126: (0, 127), 127: (0, 128), 128: (0, 129), 129: (0, 130), 130: (0, 131), 131: (0, 132), 132: (0, 133), 133: (0, 134), 134: (0, 135), 135: (0, 136), 136: (0, 137), 137: (0, 138), 138: (0, 139), 139: (0, 140), 140: (0, 141), 141: (0, 142), 142: (0, 143), 143: (0, 144), 144: (0, 145), 145: (0, 146), 146: (0, 147), 147: (0, 148), 148: (0, 149), 149: (0, 150), 150: (0, 151), 151: (0, 152), 152: (0, 153), 153: (0, 154), 154: (0, 155), 155: (0, 156), 156: (0, 157), 157: (0, 158), 158: (0, 159), 159: (0, 160), 160: (0, 161), 161: (0, 162), 162: (0, 163), 163: (0, 164), 164: (0, 165), 165: (0, 166), 166: (0, 167), 167: (0, 168), 168: (0, 169), 169: (0, 170), 170: (0, 171), 171: (0, 172), 172: (0, 173), 173: (0, 174), 174: (0, 175), 175: (0, 176), 176: (0, 177), 177: (0, 178), 178: (0, 179), 179: (0, 180), 180: (0, 181), 181: (0, 182), 182: (0, 183), 183: (0, 184), 184: (0, 185), 185: (0, 186), 186: (0, 187), 187: (0, 188), 188: (0, 189), 189: (0, 190), 190: (0, 191), 191: (0, 192), 192: (0, 193), 193: (0, 194), 194: (0, 195), 195: (0, 196), 196: (0, 197), 197: (0, 198), 198: (0, 199), 199: (0, 200), 200: (0, 201), 201: (0, 202), 202: (0, 203), 203: (0, 204), 204: (0, 205), 205: (0, 206), 206: (0, 207), 207: (0, 208), 208: (0, 209), 209: (0, 210), 210: (0, 211), 211: (0, 212), 212: (0, 213), 213: (0, 214), 214: (0, 215), 215: (0, 216), 216: (0, 217), 217: (0, 218), 218: (0, 219), 219: (0, 220), 220: (0, 221), 221: (0, 222), 222: (0, 223), 223: (0, 224), 224: (0, 225), 225: (0, 226), 226: (0, 227), 227: (0, 228), 228: (0, 229), 229: (0, 230), 230: (0, 231), 231: (0, 232), 232: (0, 233), 233: (0, 234), 234: (0, 235), 235: (0, 236), 236: (0, 237), 237: (0, 238), 238: (0, 239), 239: (0, 240), 240: (0, 241), 241: (0, 242), 242: (0, 243), 243: (0, 244), 244: (0, 245), 245: (0, 246), 246: (0, 247), 247: (0, 248), 248: (0, 249), 249: (0, 250), 250: (0, 251), 251: (0, 252), 252: (0, 253), 253: (0, 254), 254: (0, 255), 255: (0, 256), 256: (0, 257), 257: (0, 258), 258: (0, 259), 259: (0, 260), 260: (0, 261), 261: (0, 262), 262: (0, 263), 263: (0, 264), 264: (0, 265), 265: (0, 266), 266: (0, 267), 267: (0, 268), 268: (0, 269), 269: (0, 270), 270: (0, 271), 271: (0, 272), 272: (0, 273), 273: (0, 274), 274: (0, 275), 275: (0, 276), 276: (0, 277), 277: (0, 278), 278: (0, 279), 279: (0, 280), 280: (0, 281), 281: (0, 282), 282: (0, 283), 283: (0, 284), 284: (0, 285), 285: (0, 286), 286: (0, 287), 287: (0, 288), 288: (0, 289), 289: (0, 290), 290: (0, 291), 291: (0, 292), 292: (0, 293), 293: (0, 294), 294: (0, 295), 295: (0, 296), 296: (0, 297), 297: (0, 298), 298: (0, 299), 299: (0, 300), 300: (0, 301), 301: (0, 302), 302: (0, 303), 303: (0, 304), 304: (0, 305), 305: (0, 306), 306: (0, 307), 307: (0, 308), 308: (0, 309), 309: (0, 310), 310: (0, 311), 311: (0, 312), 312: (0, 313), 313: (0, 314), 314: (0, 315), 315: (0, 316), 316: (0, 317), 317: (0, 318), 318: (0, 319), 319: (0, 320), 320: (0, 321), 321: (0, 322), 322: (0, 323), 323: (0, 324), 324: (0, 325), 325: (0, 326), 326: (0, 327), 327: (0, 328), 328: (0, 329), 329: (0, 330), 330: (0, 331), 331: (0, 332), 332: (0, 333), 333: (0, 334), 334: (0, 335), 335: (0, 336), 336: (0, 337), 337: (0, 338), 338: (0, 339), 339: (0, 340), 340: (0, 341), 341: (0, 342), 342: (0, 343), 343: (0, 344), 344: (0, 345), 345: (0, 346), 346: (0, 347), 347: (0, 348), 348: (0, 349), 349: (0, 350), 350: (0, 351), 351: (0, 352), 352: (0, 353), 353: (0, 354), 354: (0, 355), 355: (0, 356), 356: (0, 357), 357: (0, 358), 358: (0, 359), 359: (0, 360), 360: (0, 361), 361: (0, 362), 362: (0, 363), 363: (0, 364), 364: (0, 365), 365: (0, 366), 366: (0, 367), 367: (0, 368), 368: (0, 369), 369: (0, 370), 370: (0, 371), 371: (0, 372), 372: (0, 373), 373: (0, 374), 374: (0, 375), 375: (0, 376), 376: (0, 377), 377: (0, 378), 378: (0, 379), 379: (0, 380), 380: (0, 381), 381: (0, 382), 382: (0, 383), 383: (0, 384), 384: (0, 385), 385: (0, 386), 386: (0, 387), 387: (0, 388), 388: (0, 389), 389: (0, 390), 390: (0, 391), 391: (0, 392), 392: (0, 393), 393: (0, 394), 394: (0, 395), 395: (0, 396), 396: (0, 397), 397: (0, 398), 398: (0, 399), 399: (0, 400), 400: (0, 401), 401: (0, 402), 402: (0, 403), 403: (0, 404), 404: (0, 405), 405: (0, 406), 406: (0, 407), 407: (0, 408), 408: (0, 409), 409: (0, 410), 410: (0, 411), 411: (0, 412), 412: (0, 413), 413: (0, 414), 414: (0, 415), 415: (0, 416), 416: (0, 417), 417: (0, 418), 418: (0, 419), 419: (0, 420), 420: (0, 421), 421: (0, 422), 422: (0, 423), 423: (0, 424), 424: (0, 425), 425: (0, 426), 426: (0, 427), 427: (0, 428), 428: (0, 429), 429: (0, 430), 430: (0, 431), 431: (0, 432), 432: (0, 433), 433: (0, 434), 434: (0, 435), 435: (0, 436), 436: (0, 437), 437: (0, 438), 438: (0, 439), 439: (0, 440), 440: (0, 441), 441: (0, 442), 442: (0, 443), 443: (0, 444), 444: (0, 445), 445: (0, 446), 446: (0, 447), 447: (0, 448), 448: (0, 449), 449: (0, 450), 450: (0, 451), 451: (0, 452), 452: (0, 453), 453: (0, 454), 454: (0, 455), 455: (0, 456), 456: (0, 457), 457: (0, 458), 458: (0, 459), 459: (0, 460), 460: (0, 461), 461: (0, 462), 462: (0, 463), 463: (0, 464), 464: (0, 465), 465: (0, 466), 466: (0, 467), 467: (0, 468), 468: (0, 469), 469: (0, 470), 470: (0, 471), 471: (0, 472), 472: (0, 473), 473: (0, 474), 474: (0, 475), 475: (0, 476), 476: (0, 477), 477: (0, 478), 478: (0, 479), 479: (0, 480), 480: (0, 481), 481: (0, 482), 482: (0, 483), 483: (0, 484), 484: (0, 485), 485: (0, 486), 486: (0, 487), 487: (0, 488), 488: (0, 489), 489: (0, 490), 490: (0, 491), 491: (0, 492), 492: (0, 493), 493: (0, 494), 494: (0, 495), 495: (0, 496), 496: (0, 497), 497: (0, 498), 498: (0, 499), 499: (0, 500), 500: (0, 501), 501: (0, 502), 502: (0, 503), 503: (0, 504), 504: (0, 505), 505: (0, 506), 506: (0, 507), 507: (0, 508), 508: (0, 509), 509: (0, 510), 510: (0, 511), 511: (0, 512), 512: (0, 513), 513: (0, 514), 514: (0, 515), 515: (0, 516), 516: (0, 517), 517: (0, 518), 518: (0, 519), 519: (0, 520), 520: (0, 521), 521: (0, 522), 522: (0, 523), 523: (0, 524), 524: (0, 525), 525: (0, 526), 526: (0, 527), 527: (0, 528), 528: (0, 529), 529: (0, 530), 530: (0, 531), 531: (0, 532), 532: (0, 533), 533: (0, 534), 534: (0, 535), 535: (0, 536), 536: (0, 537), 537: (0, 538), 538: (0, 539), 539: (0, 540), 540: (0, 541), 541: (0, 542), 542: (0, 543), 543: (0, 544), 544: (0, 545), 545: (0, 546), 546: (0, 547), 547: (0, 548), 548: (0, 549), 549: (0, 550), 550: (0, 551), 551: (0, 552), 552: (0, 553), 553: (0, 554), 554: (0, 555), 555: (0, 556), 556: (0, 557), 557: (0, 558), 558: (0, 559), 559: (0, 560), 560: (0, 561), 561: (0, 562), 562: (0, 563), 563: (0, 564), 564: (0, 565), 565: (0, 566), 566: (0, 567), 567: (0, 568), 568: (0, 569), 569: (0, 570), 570: (0, 571), 571: (0, 572), 572: (0, 573), 573: (0, 574), 574: (0, 575), 575: (0, 576), 576: (0, 577), 577: (0, 578), 578: (0, 579), 579: (0, 580), 580: (0, 581), 581: (0, 582), 582: (0, 583), 583: (0, 584), 584: (0, 585), 585: (0, 586), 586: (0, 587), 587: (0, 588), 588: (0, 589), 589: (0, 590), 590: (0, 591), 591: (0, 592), 592: (0, 593), 593: (0, 594), 594: (0, 595), 595: (0, 596), 596: (0, 597), 597: (0, 598), 598: (0, 599), 599: (0, 600), 600: (0, 601), 601: (0, 602), 602: (0, 603), 603: (0, 604), 604: (0, 605), 605: (0, 606), 606: (0, 607), 607: (0, 608), 608: (0, 609), 609: (0, 610), 610: (0, 611), 611: (0, 612), 612: (0, 613), 613: (0, 614), 614: (0, 615), 615: (0, 616), 616: (0, 617), 617: (0, 618), 618: (0, 619), 619: (0, 620), 620: (0, 621), 621: (0, 622), 622: (0, 623), 623: (0, 624), 624: (0, 625), 625: (0, 626), 626: (0, 627), 627: (0, 628), 628: (0, 629), 629: (0, 630), 630: (0, 631), 631: (0, 632), 632: (0, 633), 633: (0, 634), 634: (0, 635), 635: (0, 636), 636: (0, 637), 637: (0, 638), 638: (0, 639), 639: (0, 640), 640: (0, 641), 641: (0, 642), 642: (0, 643), 643: (0, 644), 644: (0, 645), 645: (0, 646), 646: (0, 647), 647: (0, 648), 648: (0, 649), 649: (0, 650), 650: (0, 651), 651: (0, 652), 652: (0, 653), 653: (0, 654), 654: (0, 655), 655: (0, 656), 656: (0, 657), 657: (0, 658), 658: (0, 659), 659: (0, 660), 660: (0, 661), 661: (0, 662), 662: (0, 663), 663: (0, 664), 664: (0, 665), 665: (0, 666), 666: (0, 667), 667: (0, 668), 668: (0, 669), 669: (0, 670), 670: (0, 671), 671: (0, 672), 672: (0, 673), 673: (0, 674), 674: (0, 675), 675: (0, 676), 676: (0, 677), 677: (0, 678), 678: (0, 679), 679: (0, 680), 680: (0, 681), 681: (0, 682), 682: (0, 683), 683: (0, 684), 684: (0, 685), 685: (0, 686), 686: (0, 687), 687: (0, 688), 688: (0, 689), 689: (0, 690), 690: (0, 691), 691: (0, 692), 692: (0, 693), 693: (0, 694), 694: (0, 695), 695: (0, 696), 696: (0, 697), 697: (0, 698), 698: (0, 699), 699: (0, 700), 700: (0, 701), 701: (0, 702), 702: (0, 703), 703: (0, 704), 704: (0, 705), 705: (0, 706), 706: (0, 707), 707: (0, 708), 708: (0, 709), 709: (0, 710), 710: (0, 711), 711: (0, 712), 712: (0, 713), 713: (0, 714), 714: (0, 715), 715: (0, 716), 716: (0, 717), 717: (0, 718), 718: (0, 719), 719: (0, 720), 720: (0, 721), 721: (0, 722), 722: (0, 723), 723: (0, 724), 724: (0, 725), 725: (0, 726), 726: (0, 727), 727: (0, 728), 728: (0, 729), 729: (0, 730), 730: (0, 731), 731: (0, 732), 732: (0, 733), 733: (0, 734), 734: (0, 735), 735: (0, 736), 736: (0, 737), 737: (0, 738), 738: (0, 739), 739: (0, 740), 740: (0, 741), 741: (0, 742), 742: (0, 743), 743: (0, 744), 744: (0, 745), 745: (0, 746), 746: (0, 747), 747: (0, 748), 748: (0, 749), 749: (0, 750), 750: (0, 751), 751: (0, 752), 752: (0, 753), 753: (0, 754), 754: (0, 755), 755: (0, 756), 756: (0, 757), 757: (0, 758), 758: (0, 759), 759: (0, 760), 760: (0, 761), 761: (0, 762), 762: (0, 763), 763: (0, 764), 764: (0, 765), 765: (0, 766), 766: (0, 767), 767: (0, 768), 768: (0, 769), 769: (0, 770), 770: (0, 771), 771: (0, 772), 772: (0, 773), 773: (0, 774), 774: (0, 775), 775: (0, 776), 776: (0, 777), 777: (0, 778), 778: (0, 779), 779: (0, 780), 780: (0, 781), 781: (0, 782), 782: (0, 783), 783: (0, 784), 784: (0, 785), 785: (0, 786), 786: (0, 787), 787: (0, 788), 788: (0, 789), 789: (0, 790), 790: (0, 791), 791: (0, 792), 792: (0, 793), 793: (0, 794), 794: (0, 795), 795: (0, 796), 796: (0, 797), 797: (0, 798), 798: (0, 799), 799: (0, 800), 800: (0, 801), 801: (0, 802), 802: (0, 803), 803: (0, 804), 804: (0, 805), 805: (0, 806), 806: (0, 807), 807: (0, 808), 808: (0, 809), 809: (0, 810), 810: (0, 811), 811: (0, 812), 812: (0, 813), 813: (0, 814), 814: (0, 815), 815: (0, 816), 816: (0, 817), 817: (0, 818), 818: (0, 819), 819: (0, 820), 820: (0, 821), 821: (0, 822), 822: (0, 823), 823: (0, 824), 824: (0, 825), 825: (0, 826), 826: (0, 827), 827: (0, 828), 828: (0, 829), 829: (0, 830), 830: (0, 831), 831: (0, 832), 832: (0, 833), 833: (0, 834), 834: (0, 835), 835: (0, 836), 836: (0, 837), 837: (0, 838), 838: (0, 839), 839: (0, 840), 840: (0, 841), 841: (0, 842), 842: (0, 843), 843: (0, 844), 844: (0, 845), 845: (0, 846), 846: (0, 847), 847: (0, 848), 848: (0, 849), 849: (0, 850), 850: (0, 851), 851: (0, 852), 852: (0, 853), 853: (0, 854), 854: (0, 855), 855: (0, 856), 856: (0, 857), 857: (0, 858), 858: (0, 859), 859: (0, 860), 860: (0, 861), 861: (0, 862), 862: (0, 863), 863: (0, 864), 864: (0, 865), 865: (0, 866), 866: (0, 867), 867: (0, 868), 868: (0, 869), 869: (0, 870), 870: (0, 871), 871: (0, 872), 872: (0, 873), 873: (0, 874), 874: (0, 875), 875: (0, 876), 876: (0, 877), 877: (0, 878), 878: (0, 879), 879: (0, 880), 880: (0, 881), 881: (0, 882), 882: (0, 883), 883: (0, 884), 884: (0, 885), 885: (0, 886), 886: (0, 887), 887: (0, 888), 888: (0, 889), 889: (0, 890), 890: (0, 891), 891: (0, 892), 892: (0, 893), 893: (0, 894), 894: (0, 895), 895: (0, 896), 896: (0, 897), 897: (0, 898), 898: (0, 899), 899: (0, 900), 900: (0, 901), 901: (0, 902), 902: (0, 903), 903: (0, 904), 904: (0, 905), 905: (0, 906), 906: (0, 907), 907: (0, 908), 908: (0, 909), 909: (0, 910), 910: (0, 911), 911: (0, 912), 912: (0, 913), 913: (0, 914), 914: (0, 915), 915: (0, 916), 916: (0, 917), 917: (0, 918), 918: (0, 919), 919: (0, 920), 920: (0, 921), 921: (0, 922), 922: (0, 923), 923: (0, 924), 924: (0, 925), 925: (0, 926), 926: (0, 927), 927: (0, 928), 928: (0, 929), 929: (0, 930), 930: (0, 931), 931: (0, 932), 932: (0, 933), 933: (0, 934)}\n",
      "Generated self._MapperTrialcode2TrialToTrial!\n",
      "Extracted into self.Dat[epoch_orig]\n",
      "Extracted successfully for session:  1\n",
      "Generated index mappers!\n"
     ]
    }
   ],
   "source": [
    "# DATE = 230623\n",
    "# animal = \"Pancho\"\n",
    "DATE = 230615\n",
    "animal = \"Diego\"\n",
    "spikes_version = \"tdt\"\n",
    "spikes_version = \"kilosort_if_exists\"\n",
    "MS = load_mult_session_helper(DATE, animal, MINIMAL_LOADING=True, spikes_version=spikes_version) \n",
    "# MS = load_mult_session_helper(DATE, animal, MINIMAL_LOADING=True, spikes_version=\"tdt\") "
   ],
   "metadata": {
    "collapsed": false,
    "ExecuteTime": {
     "end_time": "2024-02-08T06:13:43.840382745Z",
     "start_time": "2024-02-08T06:13:31.915924295Z"
    }
   },
   "id": "5ea565361cc650ab"
  },
  {
   "cell_type": "code",
   "execution_count": null,
   "outputs": [],
   "source": [
    "sn._sitesdirty_update(dirty_kinds=(\"sites_garbage\", \"sites_error_spikes\"))"
   ],
   "metadata": {
    "collapsed": false
   },
   "id": "ff016e83fb63c675"
  },
  {
   "cell_type": "code",
   "execution_count": null,
   "outputs": [],
   "source": [
    "dfthis = sn.sitesdirty_filter_by_spike_magnitude(MIN_THRESH=55, plot_results=True, plot_spike_waveform=False)\n",
    "sum(dfthis[\"keep\"])\n"
   ],
   "metadata": {
    "collapsed": false
   },
   "id": "196ce232d1f04327"
  },
  {
   "cell_type": "code",
   "execution_count": null,
   "outputs": [],
   "source": [
    "trials = sn.get_trials_list(True)"
   ],
   "metadata": {
    "collapsed": false
   },
   "id": "8074602767f72299"
  },
  {
   "cell_type": "code",
   "execution_count": null,
   "outputs": [],
   "source": [
    "site = 52\n",
    "sn.plotwrapper_raster_multrials_onesite(trials[:20], site, plot_beh=False);"
   ],
   "metadata": {
    "collapsed": false
   },
   "id": "dd0d0cf300131534"
  },
  {
   "cell_type": "code",
   "execution_count": null,
   "outputs": [],
   "source": [
    "sn.plot_spike_waveform_site(3);"
   ],
   "metadata": {
    "collapsed": false
   },
   "id": "722307fdd757ca87"
  },
  {
   "cell_type": "code",
   "execution_count": null,
   "outputs": [],
   "source": [
    "dfthis"
   ],
   "metadata": {
    "collapsed": false
   },
   "id": "b739315c9cd7a33"
  },
  {
   "cell_type": "code",
   "execution_count": 5,
   "outputs": [
    {
     "name": "stdout",
     "output_type": "stream",
     "text": [
      "=== N trials per session\n",
      "sess 0 27\n",
      "sess 1 934\n",
      "=== N units per session\n",
      "\n",
      "====== SESSION NUM:  0\n",
      "M1_m  :  28\n",
      "M1_l  :  17\n",
      "PMv_l  :  31\n",
      "PMv_m  :  27\n",
      "PMd_p  :  17\n",
      "PMd_a  :  9\n",
      "dlPFC_p  :  0\n",
      "dlPFC_a  :  30\n",
      "vlPFC_p  :  31\n",
      "vlPFC_a  :  23\n",
      "FP_p  :  22\n",
      "FP_a  :  25\n",
      "SMA_p  :  28\n",
      "SMA_a  :  27\n",
      "preSMA_p  :  26\n",
      "preSMA_a  :  29\n",
      " ------- \n",
      "TOTAL:  370\n",
      "MIN:  0\n",
      "MAX:  31\n",
      "MEAN:  23.125\n",
      "--------\n",
      "BAD SITES (n sites)\n",
      "sites_garbage 3\n",
      "sites_low_spk_magn 107\n",
      "Total (accounting for overlap):  110\n",
      "------\n",
      "Summary for each overall region\n",
      "region, nunits, --, min(sitenum), max(sitenum)\n",
      "M1_m 28 ---- 1 32\n",
      "M1_l 17 ---- 33 61\n",
      "PMv_l 31 ---- 65 96\n",
      "PMv_m 27 ---- 97 128\n",
      "PMd_p 17 ---- 129 159\n",
      "PMd_a 9 ---- 161 186\n",
      "dlPFC_p 0\n",
      "dlPFC_a 30 ---- 225 256\n",
      "vlPFC_p 31 ---- 257 287\n",
      "vlPFC_a 23 ---- 289 319\n",
      "FP_p 22 ---- 321 352\n",
      "FP_a 25 ---- 354 384\n",
      "SMA_p 28 ---- 385 416\n",
      "SMA_a 27 ---- 417 448\n",
      "preSMA_p 26 ---- 449 480\n",
      "preSMA_a 29 ---- 481 512\n",
      "\n",
      "====== SESSION NUM:  1\n",
      "M1_m  :  27\n",
      "M1_l  :  15\n",
      "PMv_l  :  31\n",
      "PMv_m  :  28\n",
      "PMd_p  :  18\n",
      "PMd_a  :  8\n",
      "dlPFC_p  :  0\n",
      "dlPFC_a  :  29\n",
      "vlPFC_p  :  31\n",
      "vlPFC_a  :  23\n",
      "FP_p  :  23\n",
      "FP_a  :  26\n",
      "SMA_p  :  28\n",
      "SMA_a  :  27\n",
      "preSMA_p  :  26\n",
      "preSMA_a  :  29\n",
      " ------- \n",
      "TOTAL:  369\n",
      "MIN:  0\n",
      "MAX:  31\n",
      "MEAN:  23.0625\n",
      "--------\n",
      "BAD SITES (n sites)\n",
      "sites_garbage 3\n",
      "sites_low_spk_magn 108\n",
      "Total (accounting for overlap):  111\n",
      "------\n",
      "Summary for each overall region\n",
      "region, nunits, --, min(sitenum), max(sitenum)\n",
      "M1_m 27 ---- 1 32\n",
      "M1_l 15 ---- 33 61\n",
      "PMv_l 31 ---- 65 96\n",
      "PMv_m 28 ---- 97 128\n",
      "PMd_p 18 ---- 129 159\n",
      "PMd_a 8 ---- 161 186\n",
      "dlPFC_p 0\n",
      "dlPFC_a 29 ---- 225 256\n",
      "vlPFC_p 31 ---- 257 287\n",
      "vlPFC_a 23 ---- 289 319\n",
      "FP_p 23 ---- 321 352\n",
      "FP_a 26 ---- 354 384\n",
      "SMA_p 28 ---- 385 416\n",
      "SMA_a 27 ---- 417 448\n",
      "preSMA_p 26 ---- 449 480\n",
      "preSMA_a 29 ---- 481 512\n"
     ]
    }
   ],
   "source": [
    "\n",
    "### Snippets, split by stroke index and location\n",
    "MS.print_summary_sessions()\n",
    "from neuralmonkey.classes.snippets import Snippets, extraction_helper\n",
    "\n",
    "# Pick out a single session\n",
    "sn = MS.SessionsList[0]\n"
   ],
   "metadata": {
    "collapsed": false,
    "ExecuteTime": {
     "end_time": "2024-02-08T06:13:53.599075054Z",
     "start_time": "2024-02-08T06:13:53.550082887Z"
    }
   },
   "id": "4f6a93293ea856b"
  },
  {
   "cell_type": "code",
   "execution_count": null,
   "outputs": [],
   "source": [
    "# Turn on debug mode, this prunes sites and trials, so below runs faster\n",
    "# sn.debug_mode_switch_to(sites=True, trials=False)\n",
    "sn.debug_mode_switch_to(sites=False, trials=False)"
   ],
   "metadata": {
    "collapsed": false
   },
   "id": "3a14b819b3467a91"
  },
  {
   "cell_type": "code",
   "execution_count": null,
   "outputs": [],
   "source": [
    "sn.sitegetter_print_summarytext_each_unit"
   ],
   "metadata": {
    "collapsed": false
   },
   "id": "c70caea262e5b9f5"
  },
  {
   "cell_type": "markdown",
   "source": [
    "# Substroke snippets"
   ],
   "metadata": {
    "collapsed": false
   },
   "id": "f0143d312c59f7"
  },
  {
   "cell_type": "code",
   "execution_count": null,
   "outputs": [],
   "source": [
    "from neuralmonkey.classes.snippets import extraction_helper\n",
    "which_level = \"substroke\"\n",
    "SP = extraction_helper(sn, which_level, PRE_DUR=-0.1, POST_DUR=0.1)\n"
   ],
   "metadata": {
    "collapsed": false
   },
   "id": "583ff03ca0fd2d6f"
  },
  {
   "cell_type": "markdown",
   "source": [
    "# Stroke snippets"
   ],
   "metadata": {
    "collapsed": false
   },
   "id": "ad104c1b331d0f69"
  },
  {
   "cell_type": "code",
   "execution_count": null,
   "outputs": [],
   "source": [
    "which_level = \"stroke\"\n",
    "SP = extraction_helper(sn, which_level, PRE_DUR=-0.6, POST_DUR=0.6)\n",
    "\n",
    "\n",
    "# # == MODIFY THESE:\n",
    "# list_pre_dur = [-0.2]\n",
    "# list_post_dur = [0.4]\n",
    "# # list_pre_dur = [-0.5]\n",
    "# # list_post_dur = [0.5]\n",
    "# # which_level = \"stroke_off\"\n",
    "# which_level = \"stroke\"\n",
    "# \n",
    "# # == IGNORE THESE:\n",
    "# strokes_only_keep_single = False # if True, then prunes dataset, removing trials \"remove_if_multiple_behstrokes_per_taskstroke\"\n",
    "# prune_feature_levels_min_n_trials = 1 \n",
    "# list_events = [] # must be empty\n",
    "# list_features_extraction = []\n",
    "# list_features_get_conjunction = []\n",
    "# trials_prune_just_those_including_events=False\n",
    "# \n",
    "# SP = Snippets(sn,\n",
    "#     which_level,\n",
    "#     list_events,\n",
    "#     list_features_extraction,\n",
    "#     list_features_get_conjunction,\n",
    "#     list_pre_dur,\n",
    "#     list_post_dur,\n",
    "#     strokes_only_keep_single=strokes_only_keep_single,\n",
    "#     tasks_only_keep_these=None,\n",
    "#     prune_feature_levels_min_n_trials=prune_feature_levels_min_n_trials,\n",
    "#     dataset_pruned_for_trial_analysis=None,\n",
    "#     trials_prune_just_those_including_events=trials_prune_just_those_including_events,\n",
    "#     fr_which_version='sqrt',\n",
    "#     NEW_VERSION=True,\n",
    "#     SKIP_DATA_EXTRACTION=False\n",
    "#              )\n"
   ],
   "metadata": {
    "collapsed": false
   },
   "id": "4e03f0cc57e4d2de"
  },
  {
   "cell_type": "markdown",
   "source": [
    "# Flex snippets"
   ],
   "metadata": {
    "collapsed": false
   },
   "id": "e39e027d7c744294"
  },
  {
   "cell_type": "code",
   "execution_count": null,
   "outputs": [],
   "source": [
    "# Main code for extracting Snippets (SP)\n",
    "\n",
    "assert False, \"incorporate into extraction_helper\"\n",
    "# == MODIFY THESE:\n",
    "list_events = [\"go\"]\n",
    "list_pre_dur = [-0.5]\n",
    "list_post_dur = [0.5]\n",
    "\n",
    "# == IGNORE THESE:\n",
    "which_level = \"flex\"\n",
    "list_features_extraction = []\n",
    "list_features_get_conjunction = []\n",
    "trials_prune_just_those_including_events=False\n",
    "\n",
    "SP = Snippets(sn,\n",
    "    which_level,\n",
    "    list_events,\n",
    "    list_features_extraction,\n",
    "    list_features_get_conjunction,\n",
    "    list_pre_dur,\n",
    "    list_post_dur,\n",
    "    strokes_only_keep_single=False,\n",
    "    tasks_only_keep_these=None,\n",
    "    prune_feature_levels_min_n_trials=None,\n",
    "    dataset_pruned_for_trial_analysis=None,\n",
    "    trials_prune_just_those_including_events=trials_prune_just_those_including_events,\n",
    "    fr_which_version='sqrt',\n",
    "    NEW_VERSION=True,\n",
    "    SKIP_DATA_EXTRACTION=False\n",
    "             )\n"
   ],
   "metadata": {
    "collapsed": false
   },
   "id": "376db5e35de0b5c8"
  },
  {
   "cell_type": "code",
   "execution_count": null,
   "outputs": [],
   "source": [
    "# Inspect the data. \n",
    "# Each row represents a single combination of:\n",
    "# (trial, chan, event). To see that, inspect the output of \n",
    "\n",
    "display(SP.DfScalar)\n",
    "\n",
    "from pythonlib.tools.pandastools import grouping_print_n_samples\n",
    "grouping_print_n_samples(SP.DfScalar, [\"trialcode\", \"chan\", \"event_aligned\"])\n"
   ],
   "metadata": {
    "collapsed": false
   },
   "id": "7034689c6cfa7baf"
  },
  {
   "cell_type": "markdown",
   "source": [
    "# Trial Snippets"
   ],
   "metadata": {
    "collapsed": false
   },
   "id": "c16e657c6542b125"
  },
  {
   "cell_type": "code",
   "execution_count": null,
   "outputs": [],
   "source": [
    "which_level = \"trial\"\n",
    "SP = extraction_helper(sn, which_level, PRE_DUR=-0.6, POST_DUR=0.6)\n"
   ],
   "metadata": {
    "collapsed": false
   },
   "id": "c2c491a6a7cc9580"
  },
  {
   "cell_type": "markdown",
   "source": [
    "# Load pre-computed Snippets"
   ],
   "metadata": {
    "collapsed": false
   },
   "id": "8e72ff6e565888a"
  },
  {
   "cell_type": "code",
   "execution_count": null,
   "outputs": [],
   "source": [
    "from neuralmonkey.classes.snippets import load_and_concat_mult_snippets"
   ],
   "metadata": {
    "collapsed": false
   },
   "id": "29629f72c8823d45"
  },
  {
   "cell_type": "code",
   "execution_count": null,
   "outputs": [],
   "source": [
    "DATE = 220715\n",
    "animal = \"Pancho\"\n",
    "spikes_version = \"tdt\"\n",
    "MS = load_mult_session_helper(DATE, animal, MINIMAL_LOADING=True, spikes_version=spikes_version) \n",
    "# MS = load_mult_session_helper(DATE, animal, MINIMAL_LOADING=True, spikes_version=\"tdt\") "
   ],
   "metadata": {
    "collapsed": false
   },
   "id": "6611eaf71ac6fbda"
  },
  {
   "cell_type": "code",
   "execution_count": null,
   "outputs": [],
   "source": [
    "which_level = \"substroke\"\n",
    "SP, SAVEDIR_ALL = load_and_concat_mult_snippets(MS, which_level = which_level,\n",
    "    DEBUG=False)\n"
   ],
   "metadata": {
    "collapsed": false
   },
   "id": "d1e30ffab2836139"
  },
  {
   "cell_type": "markdown",
   "source": [
    "# Doing things with Snippets"
   ],
   "metadata": {
    "collapsed": false
   },
   "id": "68c06b83fdbd35a5"
  },
  {
   "cell_type": "markdown",
   "source": [
    "##### Splitting by n taksstrokes intask"
   ],
   "metadata": {
    "collapsed": false
   },
   "id": "34241cad68f62182"
  },
  {
   "cell_type": "code",
   "execution_count": null,
   "outputs": [],
   "source": [
    "D = SP.datasetbeh_extract_dataset()\n",
    "D.extract_beh_features([\"num_strokes_task\"])\n",
    "SP.datasetbeh_append_column(\"FEAT_num_strokes_task\", D)\n",
    "# Conjunction of stroke index and num strokes in task.\n",
    "from pythonlib.tools.pandastools import append_col_with_grp_index\n",
    "SP.DfScalar = append_col_with_grp_index(SP.DfScalar, [\"FEAT_num_strokes_task\", \"stroke_index\"], \"nstk_stkidx\", False)\n",
    "SP.DfScalar[\"nstk_stkidx\"].value_counts()\n",
    "\n",
    "SP.DfScalar_OutlierRows = append_col_with_grp_index(SP.DfScalar_OutlierRows, [\"FEAT_num_strokes_task\", \"stroke_index\"], \"nstk_stkidx\", False)\n",
    "SP.DfScalar_OutlierRows[\"nstk_stkidx\"].value_counts()\n",
    "\n"
   ],
   "metadata": {
    "collapsed": false
   },
   "id": "d713b28c420def0d"
  },
  {
   "cell_type": "markdown",
   "source": [
    "##### Plotting functions for Snippets"
   ],
   "metadata": {
    "collapsed": false
   },
   "id": "1581f9306ff7aee5"
  },
  {
   "cell_type": "code",
   "execution_count": null,
   "outputs": [],
   "source": [
    "SAVEDIR = \"/gorilla1/analyses/recordings/main/shape_vs_loc_index_PIG\"\n",
    "import os\n",
    "savedir = f\"{SAVEDIR}/{animal}/{DATE}\"\n",
    "os.makedirs(savedir, exist_ok=True)\n",
    "print(savedir)"
   ],
   "metadata": {
    "collapsed": false
   },
   "id": "53f7760d5b702d8c"
  },
  {
   "cell_type": "code",
   "execution_count": null,
   "outputs": [],
   "source": [
    "if DEBUG:\n",
    "    # if you debug, then you have small n trials, so lower the threshold for keeping data.\n",
    "    print(SP.ParamsGlobals)1\n",
    "    SP.globals_update(globals_nmin=1)\n"
   ],
   "metadata": {
    "collapsed": false
   },
   "id": "19ce3ec11b83e8fc"
  },
  {
   "cell_type": "code",
   "execution_count": null,
   "outputs": [],
   "source": [
    "chan = SP.Sites[0]\n",
    "SP.plotgood_rasters(chan)"
   ],
   "metadata": {
    "collapsed": false
   },
   "id": "a346cbba622767ab"
  },
  {
   "cell_type": "code",
   "execution_count": null,
   "outputs": [],
   "source": [
    "SP.plotgood_rasters_smfr_combined(chan)"
   ],
   "metadata": {
    "collapsed": false
   },
   "id": "28b2f39b1e8153a1"
  },
  {
   "cell_type": "code",
   "execution_count": null,
   "outputs": [],
   "source": [
    "sn.sitegetter_print_summarytext_each_unit()"
   ],
   "metadata": {
    "collapsed": false
   },
   "id": "a8fb894f6540a8c6"
  },
  {
   "cell_type": "code",
   "execution_count": null,
   "outputs": [],
   "source": [
    "chan = SP.Sites[1]\n",
    "for PLOT_VER in [\"smfr\", \"raster\"]:\n",
    "    SP.plotgood_smfr_each_level_subplot_grid_by_vars(chan, \"shape_oriented\", \n",
    "                                                     \"gridloc\", \"stroke_index\",\n",
    "                                                     PLOT_VER=PLOT_VER);"
   ],
   "metadata": {
    "collapsed": false
   },
   "id": "e951eb32f22bd409"
  },
  {
   "cell_type": "code",
   "execution_count": null,
   "outputs": [],
   "source": [
    "# Rasters and smoothed FR, split by event\n",
    "\n",
    "# SP.datasetbeh_append_column(\"epoch\", sn.Datasetbeh) # assign epoch to SP\n",
    "\n",
    "chan = SP.Sites[1]\n",
    "SP.plotgood_rasters_smfr_each_level_combined(chan, var=\"shape_oriented\", vars_others=[\"gridloc\", \"stroke_index\"]);\n",
    "SP.plotgood_rasters_smfr_each_level_combined(chan, var=\"shape_oriented\", vars_others=[\"gridloc\"]);\n",
    "SP.plotgood_rasters_smfr_each_level_combined(chan, var=\"shape_oriented\", vars_others=[\"stroke_index\"]);\n"
   ],
   "metadata": {
    "collapsed": false
   },
   "id": "485669cb9db872f8"
  },
  {
   "cell_type": "code",
   "execution_count": null,
   "outputs": [],
   "source": [
    "# Show heatmap, conjucntion of other variables (how balanced is it).\n",
    "from pythonlib.tools.pandastools import convert_to_2d_dataframe, grouping_plot_n_samples_conjunction_heatmap\n",
    "# \n",
    "# convert_to_2d_dataframe(SP.DfScalar, \"\")\n",
    "\n",
    "fig = grouping_plot_n_samples_conjunction_heatmap(SP.DfScalar, \"shape_oriented\", \"gridloc\", [\"stroke_index\"])"
   ],
   "metadata": {
    "collapsed": false
   },
   "id": "aa4c0fa6443113b1"
  },
  {
   "cell_type": "code",
   "execution_count": null,
   "outputs": [],
   "source": [
    "chan = SP.Sites[6]\n",
    "PLOT_VER = \"smfr\"\n",
    "SP.plotgood_smfr_each_level_subplot_grid_by_vars(chan, \"shape_oriented\", \n",
    "                                                 \"gridloc\", \"nstk_stkidx\",\n",
    "                                                 PLOT_VER=PLOT_VER);"
   ],
   "metadata": {
    "collapsed": false
   },
   "id": "bdd427e339e8a8e5"
  },
  {
   "cell_type": "code",
   "execution_count": null,
   "outputs": [],
   "source": [
    "chan = SP.Sites[1]"
   ],
   "metadata": {
    "collapsed": false
   },
   "id": "18e00162a8cc9f3d"
  },
  {
   "cell_type": "code",
   "execution_count": null,
   "outputs": [],
   "source": [
    "chan = SP.Sites[1]"
   ],
   "metadata": {
    "collapsed": false
   },
   "id": "a7c636cec88c90d9"
  },
  {
   "cell_type": "code",
   "execution_count": null,
   "outputs": [],
   "source": [
    "SP.plotgood_rasters_smfr_each_level_combined(chan, var=\"shape_oriented\", vars_others=[\"nstk_stkidx\"]);\n"
   ],
   "metadata": {
    "collapsed": false
   },
   "id": "a6f0eea18a706a23"
  },
  {
   "cell_type": "markdown",
   "source": [
    "##### Rasters: substrokes..."
   ],
   "metadata": {
    "collapsed": false
   },
   "id": "f194fe1902af29d5"
  },
  {
   "cell_type": "code",
   "execution_count": null,
   "outputs": [],
   "source": [
    "\n",
    "SP.datasetbeh_append_column_helper([\"shape_idxwithin\"])\n"
   ],
   "metadata": {
    "collapsed": false
   },
   "id": "d4f12956f7238555"
  },
  {
   "cell_type": "code",
   "execution_count": null,
   "outputs": [],
   "source": [
    "chan = SP.sitegetter_map_region_to_sites(\"PMv_m\")[0]\n",
    "# SP.plotgood_smfr_each_level_subplot_grid_by_vars(chan, var, vars_other[0], vars_other[1], PLOT_VER=\"smfr\");\n",
    "SP.plotgood_rasters_smfr_each_level_combined(chan, var, vars_other, plotvers=(\"smfr\"));\n",
    "\n",
    "chan = SP.sitegetter_map_region_to_sites(\"M1_m\")[1]\n",
    "# SP.plotgood_smfr_each_level_subplot_grid_by_vars(chan, var, vars_other[0], vars_other[1], PLOT_VER=\"smfr\");\n",
    "SP.plotgood_rasters_smfr_each_level_combined(chan, var, vars_other, plotvers=(\"smfr\"));\n"
   ],
   "metadata": {
    "collapsed": false
   },
   "id": "d27b88c98eb6b97b"
  },
  {
   "cell_type": "code",
   "execution_count": null,
   "outputs": [],
   "source": [
    "savedir = f\"/gorilla1/analyses/recordings/main/RASTERS/{animal}-{DATE}/substrokes\"\n",
    "import os\n",
    "os.makedirs(savedir, exist_ok=True)\n",
    "\n"
   ],
   "metadata": {
    "collapsed": false
   },
   "id": "ed35cafd3d41697d"
  },
  {
   "cell_type": "code",
   "execution_count": null,
   "outputs": [],
   "source": [
    "\n",
    "from pythonlib.tools.plottools import savefig\n",
    "\n",
    "for chan in SP.Sites:\n",
    "    \n",
    "    chan_text = SP.session_sitegetter_summarytext(chan)\n",
    "\n",
    "    # Pmv differetn across shapes    \n",
    "    var = \"shape\"\n",
    "    vars_other = [\"index_within_stroke\", \"dist_angle\"]\n",
    "    fig, axesall = SP.plotgood_rasters_smfr_each_level_combined(chan, var, vars_other, plotvers=(\"smfr\"));\n",
    "    savefig(fig, f\"{savedir}/{chan_text}-shape-vs-substrk_idx_dist_angle.png\")\n",
    "    \n",
    "    # M1 with similar encoding for the same ss, no matter the shape or index\n",
    "    var = \"shape_idxwithin\"\n",
    "    vars_other = [\"dist_angle\"]\n",
    "    fig, axesall = SP.plotgood_rasters_smfr_each_level_combined(chan, var, vars_other, plotvers=(\"smfr\"));\n",
    "    savefig(fig, f\"{savedir}/{chan_text}-shape_idx-vs-substrk_dist_angle.png\")\n",
    "    \n",
    "    # [Same, but splitting into grid plot]\n",
    "    var = \"shape_idxwithin\"\n",
    "    vars_other = [\"distcum_binned\", \"angle_binned\"]\n",
    "    fig, axesall = SP.plotgood_smfr_each_level_subplot_grid_by_vars(chan, var, vars_other[0], vars_other[1], PLOT_VER=\"smfr\");\n",
    "    savefig(fig, f\"{savedir}/{chan_text}-shape_idx-vs-substrk_dist_angle_grid.png\")\n",
    "    \n",
    "    # M1 different across ss, no matter the shape or index\n",
    "    # Trial by trial variability\n",
    "    var = \"dist_angle\"\n",
    "    vars_other = [\"shape_idxwithin\"]\n",
    "    fig, axesall = SP.plotgood_rasters_smfr_each_level_combined(chan, var, vars_other, plotvers=(\"smfr\"));\n",
    "    savefig(fig, f\"{savedir}/{chan_text}-substrk_dist_angle-vs-shape_idx.png\")\n",
    "    \n",
    "    plt.close(\"all\")\n"
   ],
   "metadata": {
    "collapsed": false
   },
   "id": "a32f6f84c2fee885"
  },
  {
   "cell_type": "markdown",
   "source": [
    "##### Time warping, so that can look at offset and onset"
   ],
   "metadata": {
    "collapsed": false
   },
   "id": "890a418c81b8ef86"
  },
  {
   "cell_type": "code",
   "execution_count": null,
   "outputs": [],
   "source": [
    "SP.DfScalar[:2]"
   ],
   "metadata": {
    "collapsed": false
   },
   "id": "b22a354fe3ce1d21"
  },
  {
   "cell_type": "markdown",
   "source": [
    "### Computing modulation of activity by certain variables (site by site)"
   ],
   "metadata": {
    "collapsed": false
   },
   "id": "9c4cc1ea25e0e20b"
  },
  {
   "cell_type": "markdown",
   "source": [
    "For each site, compute how strongly it is modulated by a specific variable, computed \n",
    "separatedly for each event."
   ],
   "metadata": {
    "collapsed": false
   },
   "id": "a7fb5df4bc68d48b"
  },
  {
   "cell_type": "code",
   "execution_count": null,
   "outputs": [],
   "source": [
    "SP.DfScalar[:2]"
   ],
   "metadata": {
    "collapsed": false
   },
   "id": "27bfdbb24d81eb51"
  },
  {
   "cell_type": "code",
   "execution_count": null,
   "outputs": [],
   "source": [
    "# First, append the variables that you wish to analyze\n",
    "SP.datasetbeh_append_column(\"epoch\", sn.Datasetbeh) # assign epoch to SP\n"
   ],
   "metadata": {
    "collapsed": false
   },
   "id": "ecfdf5d5d5ada06e"
  },
  {
   "cell_type": "code",
   "execution_count": null,
   "outputs": [],
   "source": [
    "if DEBUG:\n",
    "    # if you debug, then you have small n trials, so lower the threshold for keeping data.\n",
    "    print(SP.ParamsGlobals)\n",
    "    SP.globals_update(globals_nmin=2)\n"
   ],
   "metadata": {
    "collapsed": false
   },
   "id": "257f9171c27e317f"
  },
  {
   "cell_type": "code",
   "execution_count": null,
   "outputs": [],
   "source": [
    "# Run this to compute modulation\n",
    "DF_VAR, DF_FR, DF_FR_LEVELS, list_eventwindow_event = SP.modulationgood_compute_wrapper(\"epoch\", \n",
    "                                                                                        DEBUG_CONJUNCTIONS=False, \n",
    "                                                                                        THINGS_TO_EXTRACT=[\"anova\"])\n"
   ],
   "metadata": {
    "collapsed": false
   },
   "id": "7d0c1041cef6d576"
  },
  {
   "cell_type": "code",
   "execution_count": null,
   "outputs": [],
   "source": [
    "# Plot results and save\n",
    "sdir_base = \"/tmp\"\n",
    "SP.modulationgood_plot_WRAPPER(DF_VAR, DF_FR, DF_FR_LEVELS, list_eventwindow_event, \n",
    "                               var=\"epoch\", vars_conjuction=[\"dummy_var\"],\n",
    "                               sdir_base=sdir_base, N_WAYS=1)"
   ],
   "metadata": {
    "collapsed": false
   },
   "id": "85d3c0aa1e622b60"
  },
  {
   "cell_type": "markdown",
   "source": [
    "### Modulation by time (relative to aligned events)"
   ],
   "metadata": {
    "collapsed": false
   },
   "id": "141aeb9618dd81f7"
  },
  {
   "cell_type": "markdown",
   "source": [
    "For each site x event, compute a scalar value indiicating how much its actiivyt is modulated\n",
    "with respect to this event. This moudlation can be increase in fr, decrease, or any\n",
    "activity pattern that is consistent across trials."
   ],
   "metadata": {
    "collapsed": false
   },
   "id": "6555483c7abc2bf0"
  },
  {
   "cell_type": "code",
   "execution_count": null,
   "outputs": [],
   "source": [
    "# Extract modulation, for each site x event"
   ],
   "metadata": {
    "collapsed": false
   },
   "id": "b841a624dffbd236"
  },
  {
   "cell_type": "code",
   "execution_count": null,
   "outputs": [],
   "source": [
    "from neuralmonkey.analyses.event_temporal_modulation_v2 import preprocess_and_extract\n",
    "from neuralmonkey.analyses.event_temporal_modulation import plot_overview\n",
    "\n",
    "df_modtime = preprocess_and_extract(SP)\n"
   ],
   "metadata": {
    "collapsed": false
   },
   "id": "1942a87f166c9816"
  },
  {
   "cell_type": "code",
   "execution_count": null,
   "outputs": [],
   "source": [
    "# Plot overview of modulation"
   ],
   "metadata": {
    "collapsed": false
   },
   "id": "18b338fe698f96fe"
  },
  {
   "cell_type": "code",
   "execution_count": null,
   "outputs": [],
   "source": [
    "from neuralmonkey.analyses.event_temporal_modulation_v2 import plot_overview\n",
    "SAVEDIR = \"/tmp\"\n",
    "##################### PLOTS\n",
    "plot_overview(df_modtime, SP, SAVEDIR)"
   ],
   "metadata": {
    "collapsed": false
   },
   "id": "528917b01df478f0"
  },
  {
   "cell_type": "markdown",
   "source": [
    "## Sliding decoder"
   ],
   "metadata": {
    "collapsed": false
   },
   "id": "997a56db7b24e8f0"
  },
  {
   "cell_type": "code",
   "execution_count": null,
   "outputs": [],
   "source": [
    "# 1) Separate decoders aligned to stroke onset. (grouping all stroke).\n",
    "# 2) \n"
   ],
   "metadata": {
    "collapsed": false
   },
   "id": "53846024fa502c32"
  },
  {
   "cell_type": "code",
   "execution_count": null,
   "outputs": [],
   "source": [
    "Look at 220713_prims_state_space"
   ],
   "metadata": {
    "collapsed": false
   },
   "id": "37d2b842ea79623a"
  },
  {
   "cell_type": "markdown",
   "source": [
    "# Batch plotting functions"
   ],
   "metadata": {
    "collapsed": false
   },
   "id": "5c977791e75f03fb"
  },
  {
   "cell_type": "markdown",
   "source": [
    "### Plot rasters"
   ],
   "metadata": {
    "collapsed": false
   },
   "id": "7afc609263977dbc"
  },
  {
   "cell_type": "code",
   "execution_count": null,
   "outputs": [],
   "source": [
    "        if PLOT_RASTERS:\n",
    "            for event_window, event in list_eventwindow_event:\n",
    "                # (Only do once for each event)\n",
    "                sdir_rasters = f\"{SAVEDIR}/{ANALY_VER}/var_by_varsother/VAR_{var}-OV_{'_'.join(vars_conjuction)}/rasters/{event}\"\n",
    "                os.makedirs(sdir_rasters, exist_ok=True)\n",
    "\n",
    "                print(\"** Plotting raster + sm fr:\", sdir_rasters)\n",
    "                ##### Plot raster + sm fr\n",
    "                # Plot rasters for each site\n",
    "                old_backend = mpl.get_backend()\n",
    "                print(\"default backend is \" + old_backend)\n",
    "                mpl.use('agg') # non-GUI backend, so that the loop below doesn't run into a memory leak error (see GitHub matplotlib: #20300)\n",
    "                for site in self.Sites:\n",
    "                    path = f\"{sdir_rasters}/{sn.sitegetter_summarytext(site)}.png\"\n",
    "                    if not os.path.exists(path):\n",
    "                        fig, axes = self.plotgood_rasters_smfr_each_level_combined(site, var, vars_conjuction, \n",
    "                            event=event)\n",
    "                        fig.savefig(path)\n",
    "                        plt.close(\"all\")\n",
    "                mpl.use(old_backend) # switch back just to be safe..\n"
   ],
   "metadata": {
    "collapsed": false
   },
   "id": "15fe7033c324d777"
  },
  {
   "cell_type": "code",
   "execution_count": null,
   "outputs": [],
   "source": [
    "                for chan in SP.Sites:\n",
    "                    print(\"plotting, chan:\", chan)\n",
    "\n",
    "                    chan_text = SP.SN.sitegetter_summarytext(chan)\n",
    "\n",
    "                    fig, _ = SP.plotgood_rasters_smfr_each_level_combined(chan, var=\"shape_oriented\", vars_others=[\"gridloc\"])\n",
    "                    path = f\"{savedir}/{chan_text}-shape_oriented-vs-gridloc.png\"\n",
    "                    savefig(fig, path)\n",
    "\n",
    "                    fig, _ = SP.plotgood_rasters_smfr_each_level_combined(chan, var=\"shape_oriented\", vars_others=[\"nstk_stkidx\"])\n",
    "                    path = f\"{savedir}/{chan_text}-shape_oriented-vs-nstk_stkidx.png\"\n",
    "                    savefig(fig, path)\n",
    "\n",
    "                    # LIST_PLOT_VER = [\"smfr\", \"raster\"] # to speed it up, exclude raster\n",
    "                    LIST_PLOT_VER = [\"smfr\"]\n",
    "                    for PLOT_VER in LIST_PLOT_VER:\n",
    "                        fig, _ = SP.plotgood_smfr_each_level_subplot_grid_by_vars(chan, \"shape_oriented\",\n",
    "                                                                         \"gridloc\", \"nstk_stkidx\",\n",
    "                                                                         PLOT_VER=PLOT_VER)\n",
    "                        path = f\"{savedir}/{chan_text}-shape_oriented-vs-other_vars-{PLOT_VER}.png\"\n",
    "                        savefig(fig, path)\n",
    "\n",
    "                    plt.close(\"all\")\n"
   ],
   "metadata": {
    "collapsed": false
   },
   "id": "d1457eb617747239"
  },
  {
   "cell_type": "code",
   "execution_count": null,
   "outputs": [],
   "source": [],
   "metadata": {
    "collapsed": false
   },
   "id": "8919252a65120b9c"
  },
  {
   "cell_type": "markdown",
   "source": [
    "# ### Scratch plots"
   ],
   "metadata": {
    "collapsed": false
   },
   "id": "40f17657dbfff1dc"
  },
  {
   "cell_type": "code",
   "execution_count": null,
   "outputs": [],
   "source": [
    "PA.plotNeurHeat(1)\n",
    "PAnorm.plotNeurHeat(1)"
   ],
   "metadata": {
    "collapsed": false
   },
   "id": "deeb863a4a088c71"
  },
  {
   "cell_type": "code",
   "execution_count": null,
   "outputs": [],
   "source": [
    "trial = 10\n",
    "PA.plotNeurTimecourse(trial)\n",
    "PAnorm.plotNeurTimecourse(trial)"
   ],
   "metadata": {
    "collapsed": false
   },
   "id": "c3863f758925c8e2"
  },
  {
   "cell_type": "code",
   "execution_count": null,
   "outputs": [],
   "source": [
    "X = np.mean(PAnorm.X, axis=1, keepdims=False)\n",
    "import seaborn as sns\n",
    "sns.heatmap(X)"
   ],
   "metadata": {
    "collapsed": false
   },
   "id": "5e7079f4e5e76bd3"
  },
  {
   "cell_type": "code",
   "execution_count": null,
   "outputs": [],
   "source": [
    "SP.plotgood_rasters"
   ],
   "metadata": {
    "collapsed": false
   },
   "id": "6a104c0e44bc90e3"
  },
  {
   "cell_type": "code",
   "execution_count": null,
   "outputs": [],
   "source": [],
   "metadata": {
    "collapsed": false
   },
   "id": "85a6fc65b63b6583"
  },
  {
   "cell_type": "code",
   "execution_count": null,
   "outputs": [],
   "source": [
    "# pull out pa for a specific chan\n",
    "chan = SP.Sites[4]"
   ],
   "metadata": {
    "collapsed": false
   },
   "id": "86f08718cde1136f"
  },
  {
   "cell_type": "code",
   "execution_count": null,
   "outputs": [],
   "source": [
    "chan = 50"
   ],
   "metadata": {
    "collapsed": false
   },
   "id": "56e3fe216a0c31eb"
  },
  {
   "cell_type": "code",
   "execution_count": null,
   "outputs": [],
   "source": [
    "PAnorm.Chans"
   ],
   "metadata": {
    "collapsed": false
   },
   "id": "db5b1e671135146a"
  },
  {
   "cell_type": "code",
   "execution_count": null,
   "outputs": [],
   "source": [],
   "metadata": {
    "collapsed": false
   },
   "id": "d2c61735d03194b5"
  },
  {
   "cell_type": "code",
   "execution_count": null,
   "outputs": [],
   "source": [
    "SP.SN.sitegetter_print_summarytext_each_unit()"
   ],
   "metadata": {
    "collapsed": false
   },
   "id": "3b1a522619e2a0ae"
  }
 ],
 "metadata": {
  "kernelspec": {
   "display_name": "Python 3",
   "language": "python",
   "name": "python3"
  },
  "language_info": {
   "codemirror_mode": {
    "name": "ipython",
    "version": 2
   },
   "file_extension": ".py",
   "mimetype": "text/x-python",
   "name": "python",
   "nbconvert_exporter": "python",
   "pygments_lexer": "ipython2",
   "version": "2.7.6"
  }
 },
 "nbformat": 4,
 "nbformat_minor": 5
}
