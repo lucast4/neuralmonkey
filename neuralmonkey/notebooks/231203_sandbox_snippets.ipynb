{
 "cells": [
  {
   "cell_type": "code",
   "execution_count": 1,
   "id": "initial_id",
   "metadata": {
    "collapsed": true
   },
   "outputs": [
    {
     "data": {
      "text/plain": [
       "' Sandobx for all things realted to Snippets extraction and generic stuff.\\nNot downstream things (elsewhere).\\n'"
      ]
     },
     "execution_count": 1,
     "metadata": {},
     "output_type": "execute_result"
    }
   ],
   "source": [
    "import pandas as pd\n",
    "\n",
    "\"\"\" Sandobx for all things realted to Snippets extraction and generic stuff.\n",
    "Not downstream things (elsewhere).\n",
    "\"\"\""
   ]
  },
  {
   "cell_type": "code",
   "execution_count": 2,
   "id": "93d48dd175d3e9e0",
   "metadata": {
    "collapsed": false
   },
   "outputs": [],
   "source": [
    "%load_ext autoreload\n",
    "%autoreload 2\n",
    "\n",
    "from neuralmonkey.classes.session import load_mult_session_helper\n",
    "import matplotlib\n",
    "import matplotlib.pyplot as plt\n",
    "import numpy as np\n",
    "\n",
    "#%matplotlib inline"
   ]
  },
  {
   "cell_type": "code",
   "execution_count": 3,
   "id": "5ea565361cc650ab",
   "metadata": {
    "collapsed": false
   },
   "outputs": [
    {
     "name": "stdout",
     "output_type": "stream",
     "text": [
      "Searching using this string:\n",
      "/home/lucas/mnt/Freiwald/ltian/recordings/*Diego*/*230615*/**\n",
      "Found this many paths:\n",
      "2\n",
      "---\n",
      "/home/lucas/mnt/Freiwald/ltian/recordings/Diego/230615/Diego-230615-104852\n",
      "---\n",
      "/home/lucas/mnt/Freiwald/ltian/recordings/Diego/230615/Diego-230615-105514\n",
      "session:  0\n",
      "Searching using this string:\n",
      "/home/lucas/mnt/Freiwald/ltian/recordings/*Diego*/*230615*/**\n",
      "Found this many paths:\n",
      "2\n",
      "---\n",
      "/home/lucas/mnt/Freiwald/ltian/recordings/Diego/230615/Diego-230615-104852\n",
      "---\n",
      "/home/lucas/mnt/Freiwald/ltian/recordings/Diego/230615/Diego-230615-105514\n",
      "Beh Sessions hand netered (mapping: rec sess --> beh sess):  [2, 3]\n",
      "Beh Sessions that exist on this date:  {230615: [(2, 'priminvar5'), (3, 'priminvar5')]}\n",
      "------------------------------\n",
      "Loading this neural session: 0\n",
      "Loading these beh expts: ['priminvar5']\n",
      "Loading these beh sessions: [2]\n",
      "Using this beh_trial_map_list: [(1, 0)]\n",
      "Searching using this string:\n",
      "/home/lucas/mnt/Freiwald/ltian/recordings/*Diego*/*230615*/**\n",
      "Found this many paths:\n",
      "2\n",
      "---\n",
      "/home/lucas/mnt/Freiwald/ltian/recordings/Diego/230615/Diego-230615-104852\n",
      "---\n",
      "/home/lucas/mnt/Freiwald/ltian/recordings/Diego/230615/Diego-230615-105514\n",
      "Searching using this string:\n",
      "/home/lucas/mnt/Freiwald/kgupta/neural_data/*Diego*/*230615*/*Diego*230615**\n",
      "Found this many paths:\n",
      "2\n",
      "---\n",
      "/home/lucas/mnt/Freiwald/kgupta/neural_data/Diego/230615/Diego-230615-104852\n",
      "---\n",
      "/home/lucas/mnt/Freiwald/kgupta/neural_data/Diego/230615/Diego-230615-105514\n",
      "These durations gotten for sessions...\n",
      "...  _durations_each_sess_using_tank : [289.099302, 11603.893675]\n",
      "...  onsets_using_rs4_each_rs : {2: [0.0, 289.05361408], 3: [0.0, 289.05357312]}\n",
      "...  offsets_using_rs4_each_rs : {2: [289.05361408, 11893.044879359999], 3: [289.05357312, 11893.04479744]}\n",
      "...  durations_each_sess_rs4_keyed_by_rs : {2: [289.05361408, 11603.99126528], 3: [289.05357312, 11603.99122432]}\n",
      "...  duration_total_kilosort_dict_each_rs : {2: 11893.04487936, 3: 11893.04479744}\n",
      "...  duration_total_by_summing_rs4_dict : {2: 11893.044879359999, 3: 11893.04479744}\n",
      "USING THIS SPIKES VERSION:  kilosort\n",
      "Searching using this string:\n",
      "/home/lucas/mnt/Freiwald/ltian/recordings/*Diego*/*230615*/**\n",
      "Found this many paths:\n",
      "2\n",
      "---\n",
      "/home/lucas/mnt/Freiwald/ltian/recordings/Diego/230615/Diego-230615-104852\n",
      "---\n",
      "/home/lucas/mnt/Freiwald/ltian/recordings/Diego/230615/Diego-230615-105514\n",
      "{'filename_components_hyphened': ['Diego', '230615', '104852'], 'basedirs': ['/home/lucas/mnt/Freiwald/ltian/recordings/Diego', '/home/lucas/mnt/Freiwald/ltian/recordings/Diego/230615'], 'basedirs_filenames': ['230615', 'Diego-230615-104852'], 'filename_final_ext': 'Diego-230615-104852', 'filename_final_noext': 'Diego-230615-104852'}\n",
      "== PATHS for this expt: \n",
      "raws  --  /home/lucas/mnt/Freiwald/ltian/recordings/Diego/230615/Diego-230615-104852\n",
      "tank  --  /home/lucas/mnt/Freiwald/ltian/recordings/Diego/230615/Diego-230615-104852/Diego-230615-104852\n",
      "spikes  --  /mnt/hopfield_data01/ltian/recordings/Diego/230615/Diego-230615-104852/spikes_tdt_quick-4\n",
      "final_dir_name  --  Diego-230615-104852\n",
      "time  --  104852\n",
      "pathbase_local  --  /lemur2/lucas/neural_preprocess/recordings/Diego/230615/Diego-230615-104852\n",
      "tank_local  --  /lemur2/lucas/neural_preprocess/recordings/Diego/230615/Diego-230615-104852/data_tank.pkl\n",
      "spikes_local  --  /lemur2/lucas/neural_preprocess/recordings/Diego/230615/Diego-230615-104852/data_spikes.pkl\n",
      "datall_local  --  /lemur2/lucas/neural_preprocess/recordings/Diego/230615/Diego-230615-104852/data_datall.pkl\n",
      "events_local  --  /lemur2/lucas/neural_preprocess/recordings/Diego/230615/Diego-230615-104852/events_photodiode.pkl\n",
      "mapper_st2dat_local  --  /lemur2/lucas/neural_preprocess/recordings/Diego/230615/Diego-230615-104852/mapper_st2dat.pkl\n",
      "figs_local  --  /lemur2/lucas/neural_preprocess/recordings/Diego/230615/Diego-230615-104852/figs\n",
      "metadata_units  --  /home/lucas/code/neuralmonkey/neuralmonkey/metadat/units_Diego\n",
      "cached_dir  --  /lemur2/lucas/neural_preprocess/recordings/Diego/230615/Diego-230615-104852/cached\n",
      "Found! metada path :  /home/lucas/code/neuralmonkey/neuralmonkey/metadat/units/230615.yaml\n",
      "updating self.SitesDirty with:  []\n",
      "== Loading TDT tank\n",
      "** Loading tank data from local (previusly cached)\n",
      "== Done\n",
      "** MINIMAL_LOADING, therefore loading previuosly cached data\n",
      "-- loaded presaved data: /home/lucas/mnt/Freiwald/kgupta/macaque_data/Diego/230615/230615_104655_priminvar5_Diego_2.pkl\n",
      "... Generated these...\n",
      "self.BehTrialMapList [(1, 0)]\n",
      "self.BehTrialMapListGood {0: (0, 1), 1: (0, 2), 2: (0, 3), 3: (0, 4), 4: (0, 5), 5: (0, 6), 6: (0, 7), 7: (0, 8), 8: (0, 9), 9: (0, 10), 10: (0, 11), 11: (0, 12), 12: (0, 13), 13: (0, 14), 14: (0, 15), 15: (0, 16), 16: (0, 17), 17: (0, 18), 18: (0, 19), 19: (0, 20), 20: (0, 21), 21: (0, 22), 22: (0, 23), 23: (0, 24), 24: (0, 25), 25: (0, 26), 26: (0, 27)}\n",
      "ntrials: 27\n",
      "== Trying to load events data\n",
      "Loading this events (pd) locally to:  /lemur2/lucas/neural_preprocess/recordings/Diego/230615/Diego-230615-104852/events_photodiode.pkl\n",
      "== Done\n",
      "Searching using this string:\n",
      "/home/lucas/code/drawmonkey/drawmonkey/expt_metadat/*230615-*Diego.**\n",
      "Found this many paths:\n",
      "0\n",
      "Searching using this string:\n",
      "/home/lucas/code/drawmonkey/drawmonkey/expt_metadat_daily/*230615-*Diego.**\n",
      "Found this many paths:\n",
      "1\n",
      "---\n",
      "/home/lucas/code/drawmonkey/drawmonkey/expt_metadat_daily/priminvar5-230615-Diego.yaml\n",
      "Loading this dataset Diego priminvar5 230615\n",
      "Searching using this string:\n",
      "/home/lucas/mnt/Freiwald_kgupta/kgupta/analyses/database/*Diego-*priminvar5-*230615-*/*dat*.pkl\n",
      "-- Splitting off dir from fname\n",
      "Found this many paths:\n",
      "0\n",
      "Searching using this string:\n",
      "/home/lucas/mnt/Freiwald_kgupta/kgupta/analyses/database/BEH/*Diego-*priminvar5-*230615-*/*dat*.pkl\n",
      "-- Splitting off dir from fname\n",
      "Found this many paths:\n",
      "1\n",
      "---\n",
      "/home/lucas/mnt/Freiwald_kgupta/kgupta/analyses/database/BEH/Diego-priminvar5-230615-230616_022850\n",
      "----------------\n",
      "Currently loading dataset pkl: /home/lucas/mnt/Freiwald_kgupta/kgupta/analyses/database/BEH/Diego-priminvar5-230615-230616_022850\n",
      ".. Done!\n",
      "Loaded metadat:\n",
      "{'sketchpad_edges': array([[-311.84, -224.8 ],\n",
      "       [ 311.84,  429.6 ]]), 'metadat_probedat': {'sdate': '230615', 'edate': '230615', 'strokmodel_kind': None, 'strokmodel_tstamp': None, 'datecategories': {'230615': 1}, 'dates_for_summary': [], 'matchedstrokes': None, 'exptnames': ['priminvar5'], 'T1': [], 'G1': [], 'G2': [], 'G3': [], 'G4': [], 'description': '', 'finalized': False, 'good_expt': True, 'expt': 'priminvar5', 'animal': 'Diego', 'ssess': None, 'esess': None, 'task_train_test': {'probe1_liketrain': 'train', 'probe1_nostrokeconstraint': 'train', 'probe2_liketrain': 'train', 'probe2_nostrokeconstraint': 'train', 'probe3_hdpos': 'test', 'probe1': 'train', 'probe2': 'train', 'probe3': 'test', 'probe4': 'test', 'train': 'train'}}, 'filedata_params': {'pix_per_deg': array([[ 26.64621164],\n",
      "       [-26.64621164]]), 'resolution': (1024, 768), 'animal': 'Diego', 'basedir': '/home/kgg/mnt/Freiwald/kgupta/macaque_data', 'sample_rate': array([500.]), 'beh_codes': {9: 'start', 10: 'fix cue', 11: 'fix cue visible', 13: 'frame skip', 14: 'manual rew', 15: 'guide', 16: 'FixationOnsetWTH', 17: 'FixationDoneSuccessWTH', 18: 'end', 19: 'FixationRaiseFailWTH', 20: 'go (draw)', 21: 'guide_on_GA', 30: 'DelayWhatIsThis', 40: 'GoWhatIsThis', 41: 'samp1 on', 42: 'samp1 off', 45: 'done', 46: 'post', 50: 'reward', 51: 'free reward', 61: 'DoneButtonVisible', 62: 'DoneButtonTouched', 63: 'DragAroundSuccess', 64: 'DragAroundAbort', 65: 'DragAroundFirstAbortNow', 70: 'hotkey_x', 71: 'DAstimevent_firstpres', 72: 'DAstimoff_finibeforepause', 73: 'DAstimoff_fini', 74: 'DAsamp1_visible_change', 75: 'DAnewpnutthisframe', 76: 'DAsound_samp1touched', 78: 'DAsound_gotallink', 80: 'ttl_trialon', 81: 'ttl_trialoff', 91: 'GAstimevent_firstpres', 92: 'GAstimoff_fini', 101: 'fix_square_on', 102: 'fix_square_off', 103: 'fix_square_on_pd', 111: 'photodiode_force_off', 120: 'DAsound_chunk', 121: 'DAsound_strokedone', 122: 'DAsound_chunkupdate', 123: 'DAsound_chunkdone', 124: 'DAsound_firstraise', 131: 'fix_cue_colored_on', 132: 'fix_cue_colored_on_v2', 133: 'fix_cue_colored_off', 134: 'fix_cue_colored_off_v2', 135: 'new_color_cue_off', 200: 'skipped_movie_frame'}, 'screen_hz': 59, 'screen_period': 0.01694915254237288}}\n",
      "Loading BlockParamsByDateSessBlock!\n",
      "----\n",
      "Resetting index\n",
      "=== CLEANING UP self.Dat ===== \n",
      "Deleted unused columns from self.Dat\n",
      "applying monkey train test names\n",
      "* UDPATEING onset of first stroke [too close to fixation] (trial, new onset index):\n",
      "-- CHECKING  origin\n",
      "--- idat, trialcode, strok inds to remove, len strokes beofre remofe, len strokes after:\n",
      "195 230615-3-180 [1] 2 1\n",
      "-- CHECKING  donepos\n",
      "--- idat, trialcode, strok inds to remove, len strokes beofre remofe, len strokes after:\n",
      "Updated columns: insummarydates, using Metadats\n",
      "Searching using this string:\n",
      "/home/lucas/mnt/Freiwald_kgupta/kgupta/analyses/database/TASKS_GENERAL/Diego-priminvar5-230615-all/*Tasks*pkl\n",
      "Found this many paths:\n",
      "1\n",
      "---\n",
      "/home/lucas/mnt/Freiwald_kgupta/kgupta/analyses/database/TASKS_GENERAL/Diego-priminvar5-230615-all/Tasks.pkl\n",
      "--- Loading tasks pkl file:  /home/lucas/mnt/Freiwald_kgupta/kgupta/analyses/database/TASKS_GENERAL/Diego-priminvar5-230615-all/Tasks.pkl\n",
      "added new column self.Dat[Task]\n",
      "=== CLEANING UP self.Dat (_cleanup_reloading_saved_state) ===== \n",
      "- starting/ending len (grouping params):\n",
      "447\n",
      "Extracting Behclass for each trial, may take a while...\n",
      "0 _behclass_alignsim_compute\n",
      "200 _behclass_alignsim_compute\n",
      "400 _behclass_alignsim_compute\n",
      "Running D._behclass_tokens_extract_datsegs\n",
      "TODO: Pancho -- combine circles with the tohers\n",
      "0 _behclass_tokens_extract_datsegs\n",
      "200 _behclass_tokens_extract_datsegs\n",
      "400 _behclass_tokens_extract_datsegs\n",
      "stored in self.Dat[BehClass]\n",
      "Removing these trials beucause beh strokes all fail to match to a task stroke: \n",
      "[]\n",
      "self.Dat starting legnth:  447\n",
      "Modified self.Dat, keeping only the inputted inds\n",
      "self.Dat final legnth:  447\n",
      "ADded new column: supervision_online\n",
      "Appended self.Dat[superv_SEQUENCE_SUP]\n",
      "Appended self.Dat[superv_SEQUENCE_ALPHA]\n",
      "Appended self.Dat[superv_COLOR_ON]\n",
      "Appended self.Dat[superv_COLOR_ITEMS_FADE_TO_DEFAULT_BINSTR]\n",
      "Appended self.Dat[superv_COLOR_METHOD]\n",
      "Appended self.Dat[superv_GUIDEDYN_ON]\n",
      "Appended self.Dat[superv_VISUALFB_METH]\n",
      "appended col to self.Dat:\n",
      "supervision_stage_new\n",
      "Appended self.Dat[superv_SEQUENCE_SUP]\n",
      "Appended self.Dat[superv_COLOR_ON]\n",
      "Appended self.Dat[superv_COLOR_METHOD]\n",
      "Appended self.Dat[superv_COLOR_ITEMS_FADE_TO_DEFAULT_BINSTR]\n",
      "Appended self.Dat[superv_GUIDEDYN_ON]\n",
      "appended col to self.Dat:\n",
      "supervision_stage_concise\n",
      "Append column to self.Dat:  supervision_stage_semantic\n",
      "Extracted into self.Dat[epoch_orig]\n",
      "Modified self.Dat[epoch]\n",
      "447\n",
      "- starting/ending len (getting sequence):\n",
      "447\n",
      "447\n",
      "--- Removing nans\n",
      "start len: 447\n",
      "- num names for each col\n",
      "not removing nans, since columns=[]\n",
      "Reassigned train/test, using key: probe\n",
      "and values:\n",
      "Train =  [0]\n",
      "Test =  [1]\n",
      " \n",
      "New distribution of train/test:\n",
      "monkey_train_or_test\n",
      "train    447\n",
      "Name: count, dtype: int64\n",
      "Appended column: los_info and los_set \n",
      "[taskgroup_reassign_by_mapper], reassigned values in column: taskgroup\n",
      "GROUPING epoch\n",
      "GROUPING_LEVELS ['230615']\n",
      "FEATURE_NAMES ['hdoffline', 'num_strokes_beh', 'num_strokes_task', 'circ', 'dist']\n",
      "SCORE_COL_NAMES []\n",
      "appended col to self.Dat:\n",
      "date_epoch\n",
      "Num nan/total, for num_strokes_task\n",
      "0 / 447\n",
      "Added these features:\n",
      "['FEAT_num_strokes_task']\n",
      "For n_clusters = 6 The average silhouette_score is : 0.6295801790218837\n",
      "For n_clusters = 7 The average silhouette_score is : 0.6330256276461245\n",
      "For n_clusters = 8 The average silhouette_score is : 0.6550276519738116\n",
      "For n_clusters = 9 The average silhouette_score is : 0.6468201718550234\n",
      "For n_clusters = 10 The average silhouette_score is : 0.66148839800985\n",
      "For n_clusters = 11 The average silhouette_score is : 0.6858097354941842\n",
      "For n_clusters = 12 The average silhouette_score is : 0.7058605644303848\n",
      "For n_clusters = 13 The average silhouette_score is : 0.7150885553580032\n",
      "For n_clusters = 14 The average silhouette_score is : 0.7378645524769908\n",
      "For n_clusters = 15 The average silhouette_score is : 0.7582094674419267\n",
      "For n_clusters = 16 The average silhouette_score is : 0.7709427939794454\n",
      "For n_clusters = 17 The average silhouette_score is : 0.7254294076962681\n",
      "For n_clusters = 18 The average silhouette_score is : 0.6933877817705355\n",
      "For n_clusters = 19 The average silhouette_score is : 0.6853918092672672\n",
      "For n_clusters = 20 The average silhouette_score is : 0.671488517987264\n",
      "For n_clusters = 21 The average silhouette_score is : 0.6233368374604622\n",
      "For n_clusters = 22 The average silhouette_score is : 0.608082767849829\n",
      "For n_clusters = 23 The average silhouette_score is : 0.5945893267624403\n",
      "For n_clusters = 24 The average silhouette_score is : 0.5890803370867312\n",
      "For n_clusters = 25 The average silhouette_score is : 0.5812528917450243\n",
      "For n_clusters = 26 The average silhouette_score is : 0.5696674284791702\n",
      "Using n_clusters = 16\n",
      "SAVING at:  /lemur2/lucas/analyses/main/preprocess_general/Diego_230615_priminvar5\n",
      "For n_clusters = 4 The average silhouette_score is : 0.7777470491197046\n",
      "For n_clusters = 5 The average silhouette_score is : 0.7683469955063302\n",
      "For n_clusters = 6 The average silhouette_score is : 0.7456076679196162\n",
      "For n_clusters = 7 The average silhouette_score is : 0.7387203182081965\n",
      "For n_clusters = 8 The average silhouette_score is : 0.7081394900477687\n",
      "For n_clusters = 9 The average silhouette_score is : 0.6863713882276966\n",
      "For n_clusters = 10 The average silhouette_score is : 0.6514799264765647\n",
      "For n_clusters = 11 The average silhouette_score is : 0.6337880047353031\n",
      "For n_clusters = 12 The average silhouette_score is : 0.6044811593120755\n",
      "For n_clusters = 13 The average silhouette_score is : 0.6216072585609922\n",
      "For n_clusters = 14 The average silhouette_score is : 0.6135552400872212\n",
      "For n_clusters = 15 The average silhouette_score is : 0.5899067622666548\n",
      "For n_clusters = 16 The average silhouette_score is : 0.598324774595436\n",
      "For n_clusters = 17 The average silhouette_score is : 0.598579266894519\n",
      "For n_clusters = 18 The average silhouette_score is : 0.5541372308463831\n",
      "For n_clusters = 19 The average silhouette_score is : 0.5255749249126355\n",
      "For n_clusters = 20 The average silhouette_score is : 0.5139354741673595\n",
      "For n_clusters = 21 The average silhouette_score is : 0.5098646832895587\n",
      "For n_clusters = 22 The average silhouette_score is : 0.45536650296662085\n",
      "For n_clusters = 23 The average silhouette_score is : 0.4473102196129239\n",
      "For n_clusters = 24 The average silhouette_score is : 0.4385098751226369\n",
      "For n_clusters = 25 The average silhouette_score is : 0.4463946285173473\n",
      "For n_clusters = 26 The average silhouette_score is : 0.4465243760487728\n",
      "Using n_clusters = 4\n",
      "ndims for feature loc_on = 2\n",
      "New colname in tokens: loc_on_binned\n",
      "ndims for feature angle = 1\n",
      "New colname in tokens: angle_binned\n",
      "ndims for feature center = 2\n",
      "New colname in tokens: center_binned\n",
      "ndims for feature center = 2\n",
      "New colname in tokens: center_binned\n",
      "ndims for feature center = 2\n",
      "New colname in tokens: center_binned\n",
      "0\n",
      "100\n",
      "200\n",
      "300\n",
      "400\n",
      "This many strokes extracted:  448\n",
      "DONE!\n",
      "Appended epoch to self.Dat\n",
      "Appended character to self.Dat\n",
      "Basis set of strokes: ['Lcentered-4-1-0', 'Lcentered-4-2-0', 'Lcentered-4-3-0', 'Lcentered-4-4-0', 'V-2-2-0', 'V-2-3-0', 'V-2-4-0', 'arcdeep-4-2-0', 'arcdeep-4-3-0', 'arcdeep-4-4-0', 'circle-6-1-0', 'line-8-1-0', 'line-8-2-0', 'line-8-3-0', 'line-8-4-0', 'squiggle3-3-1-0', 'squiggle3-3-1-1', 'squiggle3-3-2-0', 'squiggle3-3-2-1', 'usquare-1-2-0', 'usquare-1-3-0', 'usquare-1-4-0', 'zigzagSq-1-1-0', 'zigzagSq-1-1-1', 'zigzagSq-1-2-0', 'zigzagSq-1-2-1']\n",
      "Deleting these columns with seqc in name: []\n",
      "Appended columns gridsize!\n",
      "SAVING at:  /lemur2/lucas/analyses/main/preprocess_general/Diego_230615_priminvar5\n",
      "0\n",
      "100\n",
      "200\n",
      "300\n",
      "400\n",
      "This many strokes extracted:  448\n",
      "DONE!\n",
      "Appended epoch to self.Dat\n",
      "Appended character to self.Dat\n",
      "Generated self._MapperTrialcode2TrialToTrial!\n",
      "- Keeping only dataset trials that exist in neural\n",
      "Starting length:  447\n",
      "Ending length:  24\n",
      "**Loaded dataset! daily\n",
      "Pruning events in EventsTimeUsingPhd to exclude those using datasetbeh strokes...\n",
      "Extracted into self.Dat[epoch_orig]\n",
      "-- loaded presaved data: /home/lucas/mnt/Freiwald/kgupta/macaque_data/Diego/230615/230615_104655_priminvar5_Diego_2.pkl\n",
      "Searching using this string:\n",
      "/home/lucas/mnt/Freiwald/ltian/recordings/*Diego*/*230615*/**\n",
      "Found this many paths:\n",
      "2\n",
      "---\n",
      "/home/lucas/mnt/Freiwald/ltian/recordings/Diego/230615/Diego-230615-104852\n",
      "---\n",
      "/home/lucas/mnt/Freiwald/ltian/recordings/Diego/230615/Diego-230615-105514\n",
      "Searching using this string:\n",
      "/home/lucas/mnt/Freiwald/kgupta/neural_data/*Diego*/*230615*/*Diego*230615**\n",
      "Found this many paths:\n",
      "2\n",
      "---\n",
      "/home/lucas/mnt/Freiwald/kgupta/neural_data/Diego/230615/Diego-230615-104852\n",
      "---\n",
      "/home/lucas/mnt/Freiwald/kgupta/neural_data/Diego/230615/Diego-230615-105514\n",
      "These durations gotten for sessions...\n",
      "...  _durations_each_sess_using_tank : [289.099302, 11603.893675]\n",
      "...  onsets_using_rs4_each_rs : {2: [0.0, 289.05361408], 3: [0.0, 289.05357312]}\n",
      "...  offsets_using_rs4_each_rs : {2: [289.05361408, 11893.044879359999], 3: [289.05357312, 11893.04479744]}\n",
      "...  durations_each_sess_rs4_keyed_by_rs : {2: [289.05361408, 11603.99126528], 3: [289.05357312, 11603.99122432]}\n",
      "...  duration_total_kilosort_dict_each_rs : {2: 11893.04487936, 3: 11893.04479744}\n",
      "...  duration_total_by_summing_rs4_dict : {2: 11893.044879359999, 3: 11893.04479744}\n",
      "1000\n",
      "1001\n",
      "1002\n",
      "1003\n",
      "1004\n",
      "1005\n",
      "1006\n",
      "1007\n",
      "1008\n",
      "1009\n",
      "1010\n",
      "1011\n",
      "1012\n",
      "1013\n",
      "1014\n",
      "1015\n",
      "1016\n",
      "1017\n",
      "1018\n",
      "1019\n",
      "1020\n",
      "1021\n",
      "1022\n",
      "1023\n",
      "1024\n",
      "1025\n",
      "1026\n",
      "1027\n",
      "1028\n",
      "1029\n",
      "1030\n",
      "1031\n",
      "1032\n",
      "1033\n",
      "1034\n",
      "1035\n",
      "1036\n",
      "1037\n",
      "1038\n",
      "1039\n",
      "1040\n",
      "1041\n",
      "1042\n",
      "1043\n",
      "1044\n",
      "1045\n",
      "1046\n",
      "1047\n",
      "1048\n",
      "1049\n",
      "1050\n",
      "1051\n",
      "1052\n",
      "1053\n",
      "1054\n",
      "1055\n",
      "1056\n",
      "1057\n",
      "1058\n",
      "1059\n",
      "1060\n",
      "1061\n",
      "1062\n",
      "1063\n",
      "1064\n",
      "1065\n",
      "1066\n",
      "1067\n",
      "1068\n",
      "1069\n",
      "1070\n",
      "1071\n",
      "1072\n",
      "1073\n",
      "1074\n",
      "1075\n",
      "1076\n",
      "1077\n",
      "1078\n",
      "1079\n",
      "1080\n",
      "1081\n",
      "1082\n",
      "1083\n",
      "1084\n",
      "1085\n",
      "1086\n",
      "1087\n",
      "1088\n",
      "1089\n",
      "1090\n",
      "1091\n",
      "1092\n",
      "1093\n",
      "1094\n",
      "1095\n",
      "1096\n",
      "1097\n",
      "1098\n",
      "1099\n",
      "1100\n",
      "1101\n",
      "1102\n",
      "1103\n",
      "1104\n",
      "1105\n",
      "1106\n",
      "1107\n",
      "1108\n",
      "1109\n",
      "1110\n",
      "1111\n",
      "1112\n",
      "1113\n",
      "1114\n",
      "1115\n",
      "1116\n",
      "1117\n",
      "1118\n",
      "1119\n",
      "1120\n",
      "1121\n",
      "1122\n",
      "1123\n",
      "1124\n",
      "1125\n",
      "1126\n",
      "1127\n",
      "1128\n",
      "1129\n",
      "1130\n",
      "1131\n",
      "1132\n",
      "1133\n",
      "1134\n",
      "1135\n",
      "1136\n",
      "1137\n",
      "1138\n",
      "1139\n",
      "1140\n",
      "1141\n",
      "1142\n",
      "1143\n",
      "1144\n",
      "1145\n",
      "1146\n",
      "1147\n",
      "1148\n",
      "1149\n",
      "1150\n",
      "1151\n",
      "1152\n",
      "1153\n",
      "1154\n",
      "1155\n",
      "1156\n",
      "1157\n",
      "1158\n",
      "1159\n",
      "1160\n",
      "1161\n",
      "1162\n",
      "1163\n",
      "1164\n",
      "1165\n",
      "1166\n",
      "1167\n",
      "1168\n",
      "1169\n",
      "1170\n",
      "1171\n",
      "1172\n",
      "1173\n",
      "1174\n",
      "1175\n",
      "1176\n",
      "1177\n",
      "1178\n",
      "1179\n",
      "1180\n",
      "1181\n",
      "1182\n",
      "1183\n",
      "1184\n",
      "1185\n",
      "1186\n",
      "1187\n",
      "1188\n",
      "1189\n",
      "1190\n",
      "1191\n",
      "1192\n",
      "1193\n",
      "1194\n",
      "1195\n",
      "1196\n",
      "1197\n",
      "1198\n",
      "1199\n",
      "1200\n",
      "1201\n",
      "1202\n",
      "1203\n",
      "1204\n",
      "1205\n",
      "1206\n",
      "1207\n",
      "1208\n",
      "1209\n",
      "1210\n",
      "1211\n",
      "1212\n",
      "1213\n",
      "1214\n",
      "1215\n",
      "1216\n",
      "1217\n",
      "1218\n",
      "1219\n",
      "1220\n",
      "1221\n",
      "1222\n",
      "1223\n",
      "1224\n",
      "1225\n",
      "1226\n",
      "1227\n",
      "1228\n",
      "1229\n",
      "1230\n",
      "1231\n",
      "1232\n",
      "1233\n",
      "1234\n",
      "1235\n",
      "1236\n",
      "1237\n",
      "1238\n",
      "1239\n",
      "1240\n",
      "1241\n",
      "1242\n",
      "1243\n",
      "1244\n",
      "1245\n",
      "1246\n",
      "1247\n",
      "1248\n",
      "1249\n",
      "1250\n",
      "1251\n",
      "1252\n",
      "1253\n",
      "1254\n",
      "1255\n",
      "1256\n",
      "1257\n",
      "1258\n",
      "1259\n",
      "1260\n",
      "1261\n",
      "1262\n",
      "1263\n",
      "1264\n",
      "1265\n",
      "1266\n",
      "1267\n",
      "1268\n",
      "1269\n",
      "1270\n",
      "1271\n",
      "1272\n",
      "1273\n",
      "1274\n",
      "1275\n",
      "1276\n",
      "1277\n",
      "1278\n",
      "1279\n",
      "1280\n",
      "1281\n",
      "1282\n",
      "1283\n",
      "1284\n",
      "1285\n",
      "1286\n",
      "1287\n",
      "1288\n",
      "1289\n",
      "1290\n",
      "1291\n",
      "1292\n",
      "1293\n",
      "1294\n",
      "1295\n",
      "1296\n",
      "1297\n",
      "1298\n",
      "1299\n",
      "1300\n",
      "1301\n",
      "1302\n",
      "1303\n",
      "1304\n",
      "1305\n",
      "1306\n",
      "1307\n",
      "1308\n",
      "1309\n",
      "1310\n",
      "1311\n",
      "1312\n",
      "1313\n",
      "1314\n",
      "1315\n",
      "1316\n",
      "1317\n",
      "1318\n",
      "1319\n",
      "1320\n",
      "1321\n",
      "1322\n",
      "1323\n",
      "1324\n",
      "1325\n",
      "1326\n",
      "1327\n",
      "1328\n",
      "1329\n",
      "1330\n",
      "1331\n",
      "1332\n",
      "1333\n",
      "1334\n",
      "1335\n",
      "1336\n",
      "1337\n",
      "1338\n",
      "1339\n",
      "1340\n",
      "1341\n",
      "1342\n",
      "1343\n",
      "1344\n",
      "1345\n",
      "1346\n",
      "1347\n",
      "1348\n",
      "1349\n",
      "1350\n",
      "1351\n",
      "1352\n",
      "1353\n",
      "1354\n",
      "1355\n",
      "1356\n",
      "1357\n",
      "1358\n",
      "1359\n",
      "1360\n",
      "1361\n",
      "1362\n",
      "1363\n",
      "1364\n",
      "1365\n",
      "1366\n",
      "1367\n",
      "1368\n",
      "1369\n",
      "1370\n",
      "1371\n",
      "1372\n",
      "1373\n",
      "1374\n",
      "1375\n",
      "1376\n",
      "1377\n",
      "1378\n",
      "1379\n",
      "1380\n",
      "1381\n",
      "1382\n",
      "1383\n",
      "1384\n",
      "1385\n",
      "1386\n",
      "1387\n",
      "1388\n",
      "1389\n",
      "1390\n",
      "1391\n",
      "1392\n",
      "1393\n",
      "1394\n",
      "1395\n",
      "1396\n",
      "1397\n",
      "1398\n",
      "1399\n",
      "1400\n",
      "1401\n",
      "1402\n",
      "1403\n",
      "1404\n",
      "1405\n",
      "1406\n",
      "1407\n",
      "1408\n",
      "1409\n",
      "1410\n",
      "1411\n",
      "1412\n",
      "1413\n",
      "1414\n",
      "1415\n",
      "1416\n",
      "1417\n",
      "1418\n",
      "1419\n",
      "1420\n",
      "1421\n",
      "1422\n",
      "1423\n",
      "1424\n",
      "1425\n",
      "1426\n",
      "1427\n",
      "1428\n",
      "1429\n",
      "1430\n",
      "1431\n",
      "1432\n",
      "1433\n",
      "1434\n",
      "1435\n",
      "1436\n",
      "1437\n",
      "1438\n",
      "1439\n",
      "1440\n",
      "1441\n",
      "1442\n",
      "1443\n",
      "1444\n",
      "1445\n",
      "1446\n",
      "1447\n",
      "1448\n",
      "1449\n",
      "1450\n",
      "1451\n",
      "1452\n",
      "Extracted successfully for session:  0\n",
      "session:  1\n",
      "Searching using this string:\n",
      "/home/lucas/mnt/Freiwald/ltian/recordings/*Diego*/*230615*/**\n",
      "Found this many paths:\n",
      "2\n",
      "---\n",
      "/home/lucas/mnt/Freiwald/ltian/recordings/Diego/230615/Diego-230615-104852\n",
      "---\n",
      "/home/lucas/mnt/Freiwald/ltian/recordings/Diego/230615/Diego-230615-105514\n",
      "Beh Sessions hand netered (mapping: rec sess --> beh sess):  [2, 3]\n",
      "Beh Sessions that exist on this date:  {230615: [(2, 'priminvar5'), (3, 'priminvar5')]}\n",
      "------------------------------\n",
      "Loading this neural session: 1\n",
      "Loading these beh expts: ['priminvar5']\n",
      "Loading these beh sessions: [3]\n",
      "Using this beh_trial_map_list: [(1, 0)]\n",
      "Searching using this string:\n",
      "/home/lucas/mnt/Freiwald/ltian/recordings/*Diego*/*230615*/**\n",
      "Found this many paths:\n",
      "2\n",
      "---\n",
      "/home/lucas/mnt/Freiwald/ltian/recordings/Diego/230615/Diego-230615-104852\n",
      "---\n",
      "/home/lucas/mnt/Freiwald/ltian/recordings/Diego/230615/Diego-230615-105514\n",
      "Searching using this string:\n",
      "/home/lucas/mnt/Freiwald/kgupta/neural_data/*Diego*/*230615*/*Diego*230615**\n",
      "Found this many paths:\n",
      "2\n",
      "---\n",
      "/home/lucas/mnt/Freiwald/kgupta/neural_data/Diego/230615/Diego-230615-104852\n",
      "---\n",
      "/home/lucas/mnt/Freiwald/kgupta/neural_data/Diego/230615/Diego-230615-105514\n",
      "These durations gotten for sessions...\n",
      "...  _durations_each_sess_using_tank : [289.099302, 11603.893675]\n",
      "...  onsets_using_rs4_each_rs : {2: [0.0, 289.05361408], 3: [0.0, 289.05357312]}\n",
      "...  offsets_using_rs4_each_rs : {2: [289.05361408, 11893.044879359999], 3: [289.05357312, 11893.04479744]}\n",
      "...  durations_each_sess_rs4_keyed_by_rs : {2: [289.05361408, 11603.99126528], 3: [289.05357312, 11603.99122432]}\n",
      "...  duration_total_kilosort_dict_each_rs : {2: 11893.04487936, 3: 11893.04479744}\n",
      "...  duration_total_by_summing_rs4_dict : {2: 11893.044879359999, 3: 11893.04479744}\n",
      "USING THIS SPIKES VERSION:  kilosort\n",
      "Searching using this string:\n",
      "/home/lucas/mnt/Freiwald/ltian/recordings/*Diego*/*230615*/**\n",
      "Found this many paths:\n",
      "2\n",
      "---\n",
      "/home/lucas/mnt/Freiwald/ltian/recordings/Diego/230615/Diego-230615-104852\n",
      "---\n",
      "/home/lucas/mnt/Freiwald/ltian/recordings/Diego/230615/Diego-230615-105514\n",
      "{'filename_components_hyphened': ['Diego', '230615', '105514'], 'basedirs': ['/home/lucas/mnt/Freiwald/ltian/recordings/Diego', '/home/lucas/mnt/Freiwald/ltian/recordings/Diego/230615'], 'basedirs_filenames': ['230615', 'Diego-230615-105514'], 'filename_final_ext': 'Diego-230615-105514', 'filename_final_noext': 'Diego-230615-105514'}\n",
      "FOund this path for spikes:  /home/lucas/mnt/Freiwald/ltian/recordings/Diego/230615/Diego-230615-105514/spikes_tdt_quick-4\n",
      "== PATHS for this expt: \n",
      "raws  --  /home/lucas/mnt/Freiwald/ltian/recordings/Diego/230615/Diego-230615-105514\n",
      "tank  --  /home/lucas/mnt/Freiwald/ltian/recordings/Diego/230615/Diego-230615-105514/Diego-230615-105514\n",
      "spikes  --  /home/lucas/mnt/Freiwald/ltian/recordings/Diego/230615/Diego-230615-105514/spikes_tdt_quick-4\n",
      "final_dir_name  --  Diego-230615-105514\n",
      "time  --  105514\n",
      "pathbase_local  --  /lemur2/lucas/neural_preprocess/recordings/Diego/230615/Diego-230615-105514\n",
      "tank_local  --  /lemur2/lucas/neural_preprocess/recordings/Diego/230615/Diego-230615-105514/data_tank.pkl\n",
      "spikes_local  --  /lemur2/lucas/neural_preprocess/recordings/Diego/230615/Diego-230615-105514/data_spikes.pkl\n",
      "datall_local  --  /lemur2/lucas/neural_preprocess/recordings/Diego/230615/Diego-230615-105514/data_datall.pkl\n",
      "events_local  --  /lemur2/lucas/neural_preprocess/recordings/Diego/230615/Diego-230615-105514/events_photodiode.pkl\n",
      "mapper_st2dat_local  --  /lemur2/lucas/neural_preprocess/recordings/Diego/230615/Diego-230615-105514/mapper_st2dat.pkl\n",
      "figs_local  --  /lemur2/lucas/neural_preprocess/recordings/Diego/230615/Diego-230615-105514/figs\n",
      "metadata_units  --  /home/lucas/code/neuralmonkey/neuralmonkey/metadat/units_Diego\n",
      "cached_dir  --  /lemur2/lucas/neural_preprocess/recordings/Diego/230615/Diego-230615-105514/cached\n",
      "Found! metada path :  /home/lucas/code/neuralmonkey/neuralmonkey/metadat/units/230615.yaml\n",
      "updating self.SitesDirty with:  []\n",
      "== Loading TDT tank\n",
      "** Loading tank data from local (previusly cached)\n",
      "== Done\n",
      "** MINIMAL_LOADING, therefore loading previuosly cached data\n",
      "-- loaded presaved data: /home/lucas/mnt/Freiwald/kgupta/macaque_data/Diego/230615/230615_105230_priminvar5_Diego_3.pkl\n",
      "... Generated these...\n",
      "self.BehTrialMapList [(1, 0)]\n",
      "self.BehTrialMapListGood {0: (0, 1), 1: (0, 2), 2: (0, 3), 3: (0, 4), 4: (0, 5), 5: (0, 6), 6: (0, 7), 7: (0, 8), 8: (0, 9), 9: (0, 10), 10: (0, 11), 11: (0, 12), 12: (0, 13), 13: (0, 14), 14: (0, 15), 15: (0, 16), 16: (0, 17), 17: (0, 18), 18: (0, 19), 19: (0, 20), 20: (0, 21), 21: (0, 22), 22: (0, 23), 23: (0, 24), 24: (0, 25), 25: (0, 26), 26: (0, 27), 27: (0, 28), 28: (0, 29), 29: (0, 30), 30: (0, 31), 31: (0, 32), 32: (0, 33), 33: (0, 34), 34: (0, 35), 35: (0, 36), 36: (0, 37), 37: (0, 38), 38: (0, 39), 39: (0, 40), 40: (0, 41), 41: (0, 42), 42: (0, 43), 43: (0, 44), 44: (0, 45), 45: (0, 46), 46: (0, 47), 47: (0, 48), 48: (0, 49), 49: (0, 50), 50: (0, 51), 51: (0, 52), 52: (0, 53), 53: (0, 54), 54: (0, 55), 55: (0, 56), 56: (0, 57), 57: (0, 58), 58: (0, 59), 59: (0, 60), 60: (0, 61), 61: (0, 62), 62: (0, 63), 63: (0, 64), 64: (0, 65), 65: (0, 66), 66: (0, 67), 67: (0, 68), 68: (0, 69), 69: (0, 70), 70: (0, 71), 71: (0, 72), 72: (0, 73), 73: (0, 74), 74: (0, 75), 75: (0, 76), 76: (0, 77), 77: (0, 78), 78: (0, 79), 79: (0, 80), 80: (0, 81), 81: (0, 82), 82: (0, 83), 83: (0, 84), 84: (0, 85), 85: (0, 86), 86: (0, 87), 87: (0, 88), 88: (0, 89), 89: (0, 90), 90: (0, 91), 91: (0, 92), 92: (0, 93), 93: (0, 94), 94: (0, 95), 95: (0, 96), 96: (0, 97), 97: (0, 98), 98: (0, 99), 99: (0, 100), 100: (0, 101), 101: (0, 102), 102: (0, 103), 103: (0, 104), 104: (0, 105), 105: (0, 106), 106: (0, 107), 107: (0, 108), 108: (0, 109), 109: (0, 110), 110: (0, 111), 111: (0, 112), 112: (0, 113), 113: (0, 114), 114: (0, 115), 115: (0, 116), 116: (0, 117), 117: (0, 118), 118: (0, 119), 119: (0, 120), 120: (0, 121), 121: (0, 122), 122: (0, 123), 123: (0, 124), 124: (0, 125), 125: (0, 126), 126: (0, 127), 127: (0, 128), 128: (0, 129), 129: (0, 130), 130: (0, 131), 131: (0, 132), 132: (0, 133), 133: (0, 134), 134: (0, 135), 135: (0, 136), 136: (0, 137), 137: (0, 138), 138: (0, 139), 139: (0, 140), 140: (0, 141), 141: (0, 142), 142: (0, 143), 143: (0, 144), 144: (0, 145), 145: (0, 146), 146: (0, 147), 147: (0, 148), 148: (0, 149), 149: (0, 150), 150: (0, 151), 151: (0, 152), 152: (0, 153), 153: (0, 154), 154: (0, 155), 155: (0, 156), 156: (0, 157), 157: (0, 158), 158: (0, 159), 159: (0, 160), 160: (0, 161), 161: (0, 162), 162: (0, 163), 163: (0, 164), 164: (0, 165), 165: (0, 166), 166: (0, 167), 167: (0, 168), 168: (0, 169), 169: (0, 170), 170: (0, 171), 171: (0, 172), 172: (0, 173), 173: (0, 174), 174: (0, 175), 175: (0, 176), 176: (0, 177), 177: (0, 178), 178: (0, 179), 179: (0, 180), 180: (0, 181), 181: (0, 182), 182: (0, 183), 183: (0, 184), 184: (0, 185), 185: (0, 186), 186: (0, 187), 187: (0, 188), 188: (0, 189), 189: (0, 190), 190: (0, 191), 191: (0, 192), 192: (0, 193), 193: (0, 194), 194: (0, 195), 195: (0, 196), 196: (0, 197), 197: (0, 198), 198: (0, 199), 199: (0, 200), 200: (0, 201), 201: (0, 202), 202: (0, 203), 203: (0, 204), 204: (0, 205), 205: (0, 206), 206: (0, 207), 207: (0, 208), 208: (0, 209), 209: (0, 210), 210: (0, 211), 211: (0, 212), 212: (0, 213), 213: (0, 214), 214: (0, 215), 215: (0, 216), 216: (0, 217), 217: (0, 218), 218: (0, 219), 219: (0, 220), 220: (0, 221), 221: (0, 222), 222: (0, 223), 223: (0, 224), 224: (0, 225), 225: (0, 226), 226: (0, 227), 227: (0, 228), 228: (0, 229), 229: (0, 230), 230: (0, 231), 231: (0, 232), 232: (0, 233), 233: (0, 234), 234: (0, 235), 235: (0, 236), 236: (0, 237), 237: (0, 238), 238: (0, 239), 239: (0, 240), 240: (0, 241), 241: (0, 242), 242: (0, 243), 243: (0, 244), 244: (0, 245), 245: (0, 246), 246: (0, 247), 247: (0, 248), 248: (0, 249), 249: (0, 250), 250: (0, 251), 251: (0, 252), 252: (0, 253), 253: (0, 254), 254: (0, 255), 255: (0, 256), 256: (0, 257), 257: (0, 258), 258: (0, 259), 259: (0, 260), 260: (0, 261), 261: (0, 262), 262: (0, 263), 263: (0, 264), 264: (0, 265), 265: (0, 266), 266: (0, 267), 267: (0, 268), 268: (0, 269), 269: (0, 270), 270: (0, 271), 271: (0, 272), 272: (0, 273), 273: (0, 274), 274: (0, 275), 275: (0, 276), 276: (0, 277), 277: (0, 278), 278: (0, 279), 279: (0, 280), 280: (0, 281), 281: (0, 282), 282: (0, 283), 283: (0, 284), 284: (0, 285), 285: (0, 286), 286: (0, 287), 287: (0, 288), 288: (0, 289), 289: (0, 290), 290: (0, 291), 291: (0, 292), 292: (0, 293), 293: (0, 294), 294: (0, 295), 295: (0, 296), 296: (0, 297), 297: (0, 298), 298: (0, 299), 299: (0, 300), 300: (0, 301), 301: (0, 302), 302: (0, 303), 303: (0, 304), 304: (0, 305), 305: (0, 306), 306: (0, 307), 307: (0, 308), 308: (0, 309), 309: (0, 310), 310: (0, 311), 311: (0, 312), 312: (0, 313), 313: (0, 314), 314: (0, 315), 315: (0, 316), 316: (0, 317), 317: (0, 318), 318: (0, 319), 319: (0, 320), 320: (0, 321), 321: (0, 322), 322: (0, 323), 323: (0, 324), 324: (0, 325), 325: (0, 326), 326: (0, 327), 327: (0, 328), 328: (0, 329), 329: (0, 330), 330: (0, 331), 331: (0, 332), 332: (0, 333), 333: (0, 334), 334: (0, 335), 335: (0, 336), 336: (0, 337), 337: (0, 338), 338: (0, 339), 339: (0, 340), 340: (0, 341), 341: (0, 342), 342: (0, 343), 343: (0, 344), 344: (0, 345), 345: (0, 346), 346: (0, 347), 347: (0, 348), 348: (0, 349), 349: (0, 350), 350: (0, 351), 351: (0, 352), 352: (0, 353), 353: (0, 354), 354: (0, 355), 355: (0, 356), 356: (0, 357), 357: (0, 358), 358: (0, 359), 359: (0, 360), 360: (0, 361), 361: (0, 362), 362: (0, 363), 363: (0, 364), 364: (0, 365), 365: (0, 366), 366: (0, 367), 367: (0, 368), 368: (0, 369), 369: (0, 370), 370: (0, 371), 371: (0, 372), 372: (0, 373), 373: (0, 374), 374: (0, 375), 375: (0, 376), 376: (0, 377), 377: (0, 378), 378: (0, 379), 379: (0, 380), 380: (0, 381), 381: (0, 382), 382: (0, 383), 383: (0, 384), 384: (0, 385), 385: (0, 386), 386: (0, 387), 387: (0, 388), 388: (0, 389), 389: (0, 390), 390: (0, 391), 391: (0, 392), 392: (0, 393), 393: (0, 394), 394: (0, 395), 395: (0, 396), 396: (0, 397), 397: (0, 398), 398: (0, 399), 399: (0, 400), 400: (0, 401), 401: (0, 402), 402: (0, 403), 403: (0, 404), 404: (0, 405), 405: (0, 406), 406: (0, 407), 407: (0, 408), 408: (0, 409), 409: (0, 410), 410: (0, 411), 411: (0, 412), 412: (0, 413), 413: (0, 414), 414: (0, 415), 415: (0, 416), 416: (0, 417), 417: (0, 418), 418: (0, 419), 419: (0, 420), 420: (0, 421), 421: (0, 422), 422: (0, 423), 423: (0, 424), 424: (0, 425), 425: (0, 426), 426: (0, 427), 427: (0, 428), 428: (0, 429), 429: (0, 430), 430: (0, 431), 431: (0, 432), 432: (0, 433), 433: (0, 434), 434: (0, 435), 435: (0, 436), 436: (0, 437), 437: (0, 438), 438: (0, 439), 439: (0, 440), 440: (0, 441), 441: (0, 442), 442: (0, 443), 443: (0, 444), 444: (0, 445), 445: (0, 446), 446: (0, 447), 447: (0, 448), 448: (0, 449), 449: (0, 450), 450: (0, 451), 451: (0, 452), 452: (0, 453), 453: (0, 454), 454: (0, 455), 455: (0, 456), 456: (0, 457), 457: (0, 458), 458: (0, 459), 459: (0, 460), 460: (0, 461), 461: (0, 462), 462: (0, 463), 463: (0, 464), 464: (0, 465), 465: (0, 466), 466: (0, 467), 467: (0, 468), 468: (0, 469), 469: (0, 470), 470: (0, 471), 471: (0, 472), 472: (0, 473), 473: (0, 474), 474: (0, 475), 475: (0, 476), 476: (0, 477), 477: (0, 478), 478: (0, 479), 479: (0, 480), 480: (0, 481), 481: (0, 482), 482: (0, 483), 483: (0, 484), 484: (0, 485), 485: (0, 486), 486: (0, 487), 487: (0, 488), 488: (0, 489), 489: (0, 490), 490: (0, 491), 491: (0, 492), 492: (0, 493), 493: (0, 494), 494: (0, 495), 495: (0, 496), 496: (0, 497), 497: (0, 498), 498: (0, 499), 499: (0, 500), 500: (0, 501), 501: (0, 502), 502: (0, 503), 503: (0, 504), 504: (0, 505), 505: (0, 506), 506: (0, 507), 507: (0, 508), 508: (0, 509), 509: (0, 510), 510: (0, 511), 511: (0, 512), 512: (0, 513), 513: (0, 514), 514: (0, 515), 515: (0, 516), 516: (0, 517), 517: (0, 518), 518: (0, 519), 519: (0, 520), 520: (0, 521), 521: (0, 522), 522: (0, 523), 523: (0, 524), 524: (0, 525), 525: (0, 526), 526: (0, 527), 527: (0, 528), 528: (0, 529), 529: (0, 530), 530: (0, 531), 531: (0, 532), 532: (0, 533), 533: (0, 534), 534: (0, 535), 535: (0, 536), 536: (0, 537), 537: (0, 538), 538: (0, 539), 539: (0, 540), 540: (0, 541), 541: (0, 542), 542: (0, 543), 543: (0, 544), 544: (0, 545), 545: (0, 546), 546: (0, 547), 547: (0, 548), 548: (0, 549), 549: (0, 550), 550: (0, 551), 551: (0, 552), 552: (0, 553), 553: (0, 554), 554: (0, 555), 555: (0, 556), 556: (0, 557), 557: (0, 558), 558: (0, 559), 559: (0, 560), 560: (0, 561), 561: (0, 562), 562: (0, 563), 563: (0, 564), 564: (0, 565), 565: (0, 566), 566: (0, 567), 567: (0, 568), 568: (0, 569), 569: (0, 570), 570: (0, 571), 571: (0, 572), 572: (0, 573), 573: (0, 574), 574: (0, 575), 575: (0, 576), 576: (0, 577), 577: (0, 578), 578: (0, 579), 579: (0, 580), 580: (0, 581), 581: (0, 582), 582: (0, 583), 583: (0, 584), 584: (0, 585), 585: (0, 586), 586: (0, 587), 587: (0, 588), 588: (0, 589), 589: (0, 590), 590: (0, 591), 591: (0, 592), 592: (0, 593), 593: (0, 594), 594: (0, 595), 595: (0, 596), 596: (0, 597), 597: (0, 598), 598: (0, 599), 599: (0, 600), 600: (0, 601), 601: (0, 602), 602: (0, 603), 603: (0, 604), 604: (0, 605), 605: (0, 606), 606: (0, 607), 607: (0, 608), 608: (0, 609), 609: (0, 610), 610: (0, 611), 611: (0, 612), 612: (0, 613), 613: (0, 614), 614: (0, 615), 615: (0, 616), 616: (0, 617), 617: (0, 618), 618: (0, 619), 619: (0, 620), 620: (0, 621), 621: (0, 622), 622: (0, 623), 623: (0, 624), 624: (0, 625), 625: (0, 626), 626: (0, 627), 627: (0, 628), 628: (0, 629), 629: (0, 630), 630: (0, 631), 631: (0, 632), 632: (0, 633), 633: (0, 634), 634: (0, 635), 635: (0, 636), 636: (0, 637), 637: (0, 638), 638: (0, 639), 639: (0, 640), 640: (0, 641), 641: (0, 642), 642: (0, 643), 643: (0, 644), 644: (0, 645), 645: (0, 646), 646: (0, 647), 647: (0, 648), 648: (0, 649), 649: (0, 650), 650: (0, 651), 651: (0, 652), 652: (0, 653), 653: (0, 654), 654: (0, 655), 655: (0, 656), 656: (0, 657), 657: (0, 658), 658: (0, 659), 659: (0, 660), 660: (0, 661), 661: (0, 662), 662: (0, 663), 663: (0, 664), 664: (0, 665), 665: (0, 666), 666: (0, 667), 667: (0, 668), 668: (0, 669), 669: (0, 670), 670: (0, 671), 671: (0, 672), 672: (0, 673), 673: (0, 674), 674: (0, 675), 675: (0, 676), 676: (0, 677), 677: (0, 678), 678: (0, 679), 679: (0, 680), 680: (0, 681), 681: (0, 682), 682: (0, 683), 683: (0, 684), 684: (0, 685), 685: (0, 686), 686: (0, 687), 687: (0, 688), 688: (0, 689), 689: (0, 690), 690: (0, 691), 691: (0, 692), 692: (0, 693), 693: (0, 694), 694: (0, 695), 695: (0, 696), 696: (0, 697), 697: (0, 698), 698: (0, 699), 699: (0, 700), 700: (0, 701), 701: (0, 702), 702: (0, 703), 703: (0, 704), 704: (0, 705), 705: (0, 706), 706: (0, 707), 707: (0, 708), 708: (0, 709), 709: (0, 710), 710: (0, 711), 711: (0, 712), 712: (0, 713), 713: (0, 714), 714: (0, 715), 715: (0, 716), 716: (0, 717), 717: (0, 718), 718: (0, 719), 719: (0, 720), 720: (0, 721), 721: (0, 722), 722: (0, 723), 723: (0, 724), 724: (0, 725), 725: (0, 726), 726: (0, 727), 727: (0, 728), 728: (0, 729), 729: (0, 730), 730: (0, 731), 731: (0, 732), 732: (0, 733), 733: (0, 734), 734: (0, 735), 735: (0, 736), 736: (0, 737), 737: (0, 738), 738: (0, 739), 739: (0, 740), 740: (0, 741), 741: (0, 742), 742: (0, 743), 743: (0, 744), 744: (0, 745), 745: (0, 746), 746: (0, 747), 747: (0, 748), 748: (0, 749), 749: (0, 750), 750: (0, 751), 751: (0, 752), 752: (0, 753), 753: (0, 754), 754: (0, 755), 755: (0, 756), 756: (0, 757), 757: (0, 758), 758: (0, 759), 759: (0, 760), 760: (0, 761), 761: (0, 762), 762: (0, 763), 763: (0, 764), 764: (0, 765), 765: (0, 766), 766: (0, 767), 767: (0, 768), 768: (0, 769), 769: (0, 770), 770: (0, 771), 771: (0, 772), 772: (0, 773), 773: (0, 774), 774: (0, 775), 775: (0, 776), 776: (0, 777), 777: (0, 778), 778: (0, 779), 779: (0, 780), 780: (0, 781), 781: (0, 782), 782: (0, 783), 783: (0, 784), 784: (0, 785), 785: (0, 786), 786: (0, 787), 787: (0, 788), 788: (0, 789), 789: (0, 790), 790: (0, 791), 791: (0, 792), 792: (0, 793), 793: (0, 794), 794: (0, 795), 795: (0, 796), 796: (0, 797), 797: (0, 798), 798: (0, 799), 799: (0, 800), 800: (0, 801), 801: (0, 802), 802: (0, 803), 803: (0, 804), 804: (0, 805), 805: (0, 806), 806: (0, 807), 807: (0, 808), 808: (0, 809), 809: (0, 810), 810: (0, 811), 811: (0, 812), 812: (0, 813), 813: (0, 814), 814: (0, 815), 815: (0, 816), 816: (0, 817), 817: (0, 818), 818: (0, 819), 819: (0, 820), 820: (0, 821), 821: (0, 822), 822: (0, 823), 823: (0, 824), 824: (0, 825), 825: (0, 826), 826: (0, 827), 827: (0, 828), 828: (0, 829), 829: (0, 830), 830: (0, 831), 831: (0, 832), 832: (0, 833), 833: (0, 834), 834: (0, 835), 835: (0, 836), 836: (0, 837), 837: (0, 838), 838: (0, 839), 839: (0, 840), 840: (0, 841), 841: (0, 842), 842: (0, 843), 843: (0, 844), 844: (0, 845), 845: (0, 846), 846: (0, 847), 847: (0, 848), 848: (0, 849), 849: (0, 850), 850: (0, 851), 851: (0, 852), 852: (0, 853), 853: (0, 854), 854: (0, 855), 855: (0, 856), 856: (0, 857), 857: (0, 858), 858: (0, 859), 859: (0, 860), 860: (0, 861), 861: (0, 862), 862: (0, 863), 863: (0, 864), 864: (0, 865), 865: (0, 866), 866: (0, 867), 867: (0, 868), 868: (0, 869), 869: (0, 870), 870: (0, 871), 871: (0, 872), 872: (0, 873), 873: (0, 874), 874: (0, 875), 875: (0, 876), 876: (0, 877), 877: (0, 878), 878: (0, 879), 879: (0, 880), 880: (0, 881), 881: (0, 882), 882: (0, 883), 883: (0, 884), 884: (0, 885), 885: (0, 886), 886: (0, 887), 887: (0, 888), 888: (0, 889), 889: (0, 890), 890: (0, 891), 891: (0, 892), 892: (0, 893), 893: (0, 894), 894: (0, 895), 895: (0, 896), 896: (0, 897), 897: (0, 898), 898: (0, 899), 899: (0, 900), 900: (0, 901), 901: (0, 902), 902: (0, 903), 903: (0, 904), 904: (0, 905), 905: (0, 906), 906: (0, 907), 907: (0, 908), 908: (0, 909), 909: (0, 910), 910: (0, 911), 911: (0, 912), 912: (0, 913), 913: (0, 914), 914: (0, 915), 915: (0, 916), 916: (0, 917), 917: (0, 918), 918: (0, 919), 919: (0, 920), 920: (0, 921), 921: (0, 922), 922: (0, 923), 923: (0, 924), 924: (0, 925), 925: (0, 926), 926: (0, 927), 927: (0, 928), 928: (0, 929), 929: (0, 930), 930: (0, 931), 931: (0, 932), 932: (0, 933), 933: (0, 934)}\n",
      "ntrials: 934\n",
      "== Trying to load events data\n",
      "Loading this events (pd) locally to:  /lemur2/lucas/neural_preprocess/recordings/Diego/230615/Diego-230615-105514/events_photodiode.pkl\n",
      "== Done\n",
      "Searching using this string:\n",
      "/home/lucas/code/drawmonkey/drawmonkey/expt_metadat/*230615-*Diego.**\n",
      "Found this many paths:\n",
      "0\n",
      "Searching using this string:\n",
      "/home/lucas/code/drawmonkey/drawmonkey/expt_metadat_daily/*230615-*Diego.**\n",
      "Found this many paths:\n",
      "1\n",
      "---\n",
      "/home/lucas/code/drawmonkey/drawmonkey/expt_metadat_daily/priminvar5-230615-Diego.yaml\n",
      "Loading this dataset Diego priminvar5 230615\n",
      "Searching using this string:\n",
      "/home/lucas/mnt/Freiwald_kgupta/kgupta/analyses/database/*Diego-*priminvar5-*230615-*/*dat*.pkl\n",
      "-- Splitting off dir from fname\n",
      "Found this many paths:\n",
      "0\n",
      "Searching using this string:\n",
      "/home/lucas/mnt/Freiwald_kgupta/kgupta/analyses/database/BEH/*Diego-*priminvar5-*230615-*/*dat*.pkl\n",
      "-- Splitting off dir from fname\n",
      "Found this many paths:\n",
      "1\n",
      "---\n",
      "/home/lucas/mnt/Freiwald_kgupta/kgupta/analyses/database/BEH/Diego-priminvar5-230615-230616_022850\n",
      "----------------\n",
      "Currently loading dataset pkl: /home/lucas/mnt/Freiwald_kgupta/kgupta/analyses/database/BEH/Diego-priminvar5-230615-230616_022850\n",
      ".. Done!\n",
      "Loaded metadat:\n",
      "{'sketchpad_edges': array([[-311.84, -224.8 ],\n",
      "       [ 311.84,  429.6 ]]), 'metadat_probedat': {'sdate': '230615', 'edate': '230615', 'strokmodel_kind': None, 'strokmodel_tstamp': None, 'datecategories': {'230615': 1}, 'dates_for_summary': [], 'matchedstrokes': None, 'exptnames': ['priminvar5'], 'T1': [], 'G1': [], 'G2': [], 'G3': [], 'G4': [], 'description': '', 'finalized': False, 'good_expt': True, 'expt': 'priminvar5', 'animal': 'Diego', 'ssess': None, 'esess': None, 'task_train_test': {'probe1_liketrain': 'train', 'probe1_nostrokeconstraint': 'train', 'probe2_liketrain': 'train', 'probe2_nostrokeconstraint': 'train', 'probe3_hdpos': 'test', 'probe1': 'train', 'probe2': 'train', 'probe3': 'test', 'probe4': 'test', 'train': 'train'}}, 'filedata_params': {'pix_per_deg': array([[ 26.64621164],\n",
      "       [-26.64621164]]), 'resolution': (1024, 768), 'animal': 'Diego', 'basedir': '/home/kgg/mnt/Freiwald/kgupta/macaque_data', 'sample_rate': array([500.]), 'beh_codes': {9: 'start', 10: 'fix cue', 11: 'fix cue visible', 13: 'frame skip', 14: 'manual rew', 15: 'guide', 16: 'FixationOnsetWTH', 17: 'FixationDoneSuccessWTH', 18: 'end', 19: 'FixationRaiseFailWTH', 20: 'go (draw)', 21: 'guide_on_GA', 30: 'DelayWhatIsThis', 40: 'GoWhatIsThis', 41: 'samp1 on', 42: 'samp1 off', 45: 'done', 46: 'post', 50: 'reward', 51: 'free reward', 61: 'DoneButtonVisible', 62: 'DoneButtonTouched', 63: 'DragAroundSuccess', 64: 'DragAroundAbort', 65: 'DragAroundFirstAbortNow', 70: 'hotkey_x', 71: 'DAstimevent_firstpres', 72: 'DAstimoff_finibeforepause', 73: 'DAstimoff_fini', 74: 'DAsamp1_visible_change', 75: 'DAnewpnutthisframe', 76: 'DAsound_samp1touched', 78: 'DAsound_gotallink', 80: 'ttl_trialon', 81: 'ttl_trialoff', 91: 'GAstimevent_firstpres', 92: 'GAstimoff_fini', 101: 'fix_square_on', 102: 'fix_square_off', 103: 'fix_square_on_pd', 111: 'photodiode_force_off', 120: 'DAsound_chunk', 121: 'DAsound_strokedone', 122: 'DAsound_chunkupdate', 123: 'DAsound_chunkdone', 124: 'DAsound_firstraise', 131: 'fix_cue_colored_on', 132: 'fix_cue_colored_on_v2', 133: 'fix_cue_colored_off', 134: 'fix_cue_colored_off_v2', 135: 'new_color_cue_off', 200: 'skipped_movie_frame'}, 'screen_hz': 59, 'screen_period': 0.01694915254237288}}\n",
      "Loading BlockParamsByDateSessBlock!\n",
      "----\n",
      "Resetting index\n",
      "=== CLEANING UP self.Dat ===== \n",
      "Deleted unused columns from self.Dat\n",
      "applying monkey train test names\n",
      "* UDPATEING onset of first stroke [too close to fixation] (trial, new onset index):\n",
      "-- CHECKING  origin\n",
      "--- idat, trialcode, strok inds to remove, len strokes beofre remofe, len strokes after:\n",
      "195 230615-3-180 [1] 2 1\n",
      "-- CHECKING  donepos\n",
      "--- idat, trialcode, strok inds to remove, len strokes beofre remofe, len strokes after:\n",
      "Updated columns: insummarydates, using Metadats\n",
      "Searching using this string:\n",
      "/home/lucas/mnt/Freiwald_kgupta/kgupta/analyses/database/TASKS_GENERAL/Diego-priminvar5-230615-all/*Tasks*pkl\n",
      "Found this many paths:\n",
      "1\n",
      "---\n",
      "/home/lucas/mnt/Freiwald_kgupta/kgupta/analyses/database/TASKS_GENERAL/Diego-priminvar5-230615-all/Tasks.pkl\n",
      "--- Loading tasks pkl file:  /home/lucas/mnt/Freiwald_kgupta/kgupta/analyses/database/TASKS_GENERAL/Diego-priminvar5-230615-all/Tasks.pkl\n",
      "added new column self.Dat[Task]\n",
      "=== CLEANING UP self.Dat (_cleanup_reloading_saved_state) ===== \n",
      "- starting/ending len (grouping params):\n",
      "447\n",
      "Extracting Behclass for each trial, may take a while...\n",
      "0 _behclass_alignsim_compute\n",
      "200 _behclass_alignsim_compute\n",
      "400 _behclass_alignsim_compute\n",
      "Running D._behclass_tokens_extract_datsegs\n",
      "0 _behclass_tokens_extract_datsegs\n",
      "200 _behclass_tokens_extract_datsegs\n",
      "400 _behclass_tokens_extract_datsegs\n",
      "stored in self.Dat[BehClass]\n",
      "Removing these trials beucause beh strokes all fail to match to a task stroke: \n",
      "[]\n",
      "self.Dat starting legnth:  447\n",
      "Modified self.Dat, keeping only the inputted inds\n",
      "self.Dat final legnth:  447\n",
      "ADded new column: supervision_online\n",
      "Appended self.Dat[superv_SEQUENCE_SUP]\n",
      "Appended self.Dat[superv_SEQUENCE_ALPHA]\n",
      "Appended self.Dat[superv_COLOR_ON]\n",
      "Appended self.Dat[superv_COLOR_ITEMS_FADE_TO_DEFAULT_BINSTR]\n",
      "Appended self.Dat[superv_COLOR_METHOD]\n",
      "Appended self.Dat[superv_GUIDEDYN_ON]\n",
      "Appended self.Dat[superv_VISUALFB_METH]\n",
      "appended col to self.Dat:\n",
      "supervision_stage_new\n",
      "Appended self.Dat[superv_SEQUENCE_SUP]\n",
      "Appended self.Dat[superv_COLOR_ON]\n",
      "Appended self.Dat[superv_COLOR_METHOD]\n",
      "Appended self.Dat[superv_COLOR_ITEMS_FADE_TO_DEFAULT_BINSTR]\n",
      "Appended self.Dat[superv_GUIDEDYN_ON]\n",
      "appended col to self.Dat:\n",
      "supervision_stage_concise\n",
      "Append column to self.Dat:  supervision_stage_semantic\n",
      "Extracted into self.Dat[epoch_orig]\n",
      "Modified self.Dat[epoch]\n",
      "447\n",
      "- starting/ending len (getting sequence):\n",
      "447\n",
      "447\n",
      "--- Removing nans\n",
      "start len: 447\n",
      "- num names for each col\n",
      "not removing nans, since columns=[]\n",
      "Reassigned train/test, using key: probe\n",
      "and values:\n",
      "Train =  [0]\n",
      "Test =  [1]\n",
      " \n",
      "New distribution of train/test:\n",
      "monkey_train_or_test\n",
      "train    447\n",
      "Name: count, dtype: int64\n",
      "Appended column: los_info and los_set \n",
      "[taskgroup_reassign_by_mapper], reassigned values in column: taskgroup\n",
      "GROUPING epoch\n",
      "GROUPING_LEVELS ['230615']\n",
      "FEATURE_NAMES ['hdoffline', 'num_strokes_beh', 'num_strokes_task', 'circ', 'dist']\n",
      "SCORE_COL_NAMES []\n",
      "appended col to self.Dat:\n",
      "date_epoch\n",
      "Num nan/total, for num_strokes_task\n",
      "0 / 447\n",
      "Added these features:\n",
      "['FEAT_num_strokes_task']\n",
      "For n_clusters = 6 The average silhouette_score is : 0.6295801790218837\n",
      "For n_clusters = 7 The average silhouette_score is : 0.6330256276461245\n",
      "For n_clusters = 8 The average silhouette_score is : 0.6550276519738116\n",
      "For n_clusters = 9 The average silhouette_score is : 0.6468201718550234\n",
      "For n_clusters = 10 The average silhouette_score is : 0.66148839800985\n",
      "For n_clusters = 11 The average silhouette_score is : 0.6858097354941842\n",
      "For n_clusters = 12 The average silhouette_score is : 0.7058605644303848\n",
      "For n_clusters = 13 The average silhouette_score is : 0.7150885553580032\n",
      "For n_clusters = 14 The average silhouette_score is : 0.7378645524769908\n",
      "For n_clusters = 15 The average silhouette_score is : 0.7582094674419267\n",
      "For n_clusters = 16 The average silhouette_score is : 0.7709427939794454\n",
      "For n_clusters = 17 The average silhouette_score is : 0.7254294076962681\n",
      "For n_clusters = 18 The average silhouette_score is : 0.6933877817705355\n",
      "For n_clusters = 19 The average silhouette_score is : 0.6853918092672672\n",
      "For n_clusters = 20 The average silhouette_score is : 0.671488517987264\n",
      "For n_clusters = 21 The average silhouette_score is : 0.6233368374604622\n",
      "For n_clusters = 22 The average silhouette_score is : 0.608082767849829\n",
      "For n_clusters = 23 The average silhouette_score is : 0.5945893267624403\n",
      "For n_clusters = 24 The average silhouette_score is : 0.5890803370867312\n",
      "For n_clusters = 25 The average silhouette_score is : 0.5812528917450243\n",
      "For n_clusters = 26 The average silhouette_score is : 0.5696674284791702\n",
      "Using n_clusters = 16\n",
      "SAVING at:  /lemur2/lucas/analyses/main/preprocess_general/Diego_230615_priminvar5\n",
      "For n_clusters = 4 The average silhouette_score is : 0.7777470491197046\n",
      "For n_clusters = 5 The average silhouette_score is : 0.7683469955063302\n",
      "For n_clusters = 6 The average silhouette_score is : 0.7456076679196162\n",
      "For n_clusters = 7 The average silhouette_score is : 0.7387203182081965\n",
      "For n_clusters = 8 The average silhouette_score is : 0.7081394900477687\n",
      "For n_clusters = 9 The average silhouette_score is : 0.6863713882276966\n",
      "For n_clusters = 10 The average silhouette_score is : 0.6514799264765647\n",
      "For n_clusters = 11 The average silhouette_score is : 0.6337880047353031\n",
      "For n_clusters = 12 The average silhouette_score is : 0.6044811593120755\n",
      "For n_clusters = 13 The average silhouette_score is : 0.6216072585609922\n",
      "For n_clusters = 14 The average silhouette_score is : 0.6135552400872212\n",
      "For n_clusters = 15 The average silhouette_score is : 0.5899067622666548\n",
      "For n_clusters = 16 The average silhouette_score is : 0.598324774595436\n",
      "For n_clusters = 17 The average silhouette_score is : 0.598579266894519\n",
      "For n_clusters = 18 The average silhouette_score is : 0.5541372308463831\n",
      "For n_clusters = 19 The average silhouette_score is : 0.5255749249126355\n",
      "For n_clusters = 20 The average silhouette_score is : 0.5139354741673595\n",
      "For n_clusters = 21 The average silhouette_score is : 0.5098646832895587\n",
      "For n_clusters = 22 The average silhouette_score is : 0.45536650296662085\n",
      "For n_clusters = 23 The average silhouette_score is : 0.4473102196129239\n",
      "For n_clusters = 24 The average silhouette_score is : 0.4385098751226369\n",
      "For n_clusters = 25 The average silhouette_score is : 0.4463946285173473\n",
      "For n_clusters = 26 The average silhouette_score is : 0.4465243760487728\n",
      "Using n_clusters = 4\n",
      "ndims for feature loc_on = 2\n",
      "New colname in tokens: loc_on_binned\n",
      "ndims for feature angle = 1\n",
      "New colname in tokens: angle_binned\n",
      "ndims for feature center = 2\n",
      "New colname in tokens: center_binned\n",
      "ndims for feature center = 2\n",
      "New colname in tokens: center_binned\n",
      "ndims for feature center = 2\n",
      "New colname in tokens: center_binned\n",
      "0\n",
      "100\n",
      "200\n",
      "300\n",
      "400\n",
      "This many strokes extracted:  448\n",
      "DONE!\n",
      "Appended epoch to self.Dat\n",
      "Appended character to self.Dat\n",
      "Basis set of strokes: ['Lcentered-4-1-0', 'Lcentered-4-2-0', 'Lcentered-4-3-0', 'Lcentered-4-4-0', 'V-2-2-0', 'V-2-3-0', 'V-2-4-0', 'arcdeep-4-2-0', 'arcdeep-4-3-0', 'arcdeep-4-4-0', 'circle-6-1-0', 'line-8-1-0', 'line-8-2-0', 'line-8-3-0', 'line-8-4-0', 'squiggle3-3-1-0', 'squiggle3-3-1-1', 'squiggle3-3-2-0', 'squiggle3-3-2-1', 'usquare-1-2-0', 'usquare-1-3-0', 'usquare-1-4-0', 'zigzagSq-1-1-0', 'zigzagSq-1-1-1', 'zigzagSq-1-2-0', 'zigzagSq-1-2-1']\n",
      "Deleting these columns with seqc in name: []\n",
      "Appended columns gridsize!\n",
      "SAVING at:  /lemur2/lucas/analyses/main/preprocess_general/Diego_230615_priminvar5\n",
      "0\n",
      "100\n",
      "200\n",
      "300\n",
      "400\n",
      "This many strokes extracted:  448\n",
      "DONE!\n",
      "Appended epoch to self.Dat\n",
      "Appended character to self.Dat\n",
      "Generated self._MapperTrialcode2TrialToTrial!\n",
      "- Keeping only dataset trials that exist in neural\n",
      "Starting length:  447\n",
      "Ending length:  423\n",
      "**Loaded dataset! daily\n",
      "Pruning events in EventsTimeUsingPhd to exclude those using datasetbeh strokes...\n",
      "Extracted into self.Dat[epoch_orig]\n",
      "-- loaded presaved data: /home/lucas/mnt/Freiwald/kgupta/macaque_data/Diego/230615/230615_105230_priminvar5_Diego_3.pkl\n",
      "Searching using this string:\n",
      "/home/lucas/mnt/Freiwald/ltian/recordings/*Diego*/*230615*/**\n",
      "Found this many paths:\n",
      "2\n",
      "---\n",
      "/home/lucas/mnt/Freiwald/ltian/recordings/Diego/230615/Diego-230615-104852\n",
      "---\n",
      "/home/lucas/mnt/Freiwald/ltian/recordings/Diego/230615/Diego-230615-105514\n",
      "Searching using this string:\n",
      "/home/lucas/mnt/Freiwald/kgupta/neural_data/*Diego*/*230615*/*Diego*230615**\n",
      "Found this many paths:\n",
      "2\n",
      "---\n",
      "/home/lucas/mnt/Freiwald/kgupta/neural_data/Diego/230615/Diego-230615-104852\n",
      "---\n",
      "/home/lucas/mnt/Freiwald/kgupta/neural_data/Diego/230615/Diego-230615-105514\n",
      "These durations gotten for sessions...\n",
      "...  _durations_each_sess_using_tank : [289.099302, 11603.893675]\n",
      "...  onsets_using_rs4_each_rs : {2: [0.0, 289.05361408], 3: [0.0, 289.05357312]}\n",
      "...  offsets_using_rs4_each_rs : {2: [289.05361408, 11893.044879359999], 3: [289.05357312, 11893.04479744]}\n",
      "...  durations_each_sess_rs4_keyed_by_rs : {2: [289.05361408, 11603.99126528], 3: [289.05357312, 11603.99122432]}\n",
      "...  duration_total_kilosort_dict_each_rs : {2: 11893.04487936, 3: 11893.04479744}\n",
      "...  duration_total_by_summing_rs4_dict : {2: 11893.044879359999, 3: 11893.04479744}\n",
      "1000\n",
      "1001\n",
      "1002\n",
      "1003\n",
      "1004\n",
      "1005\n",
      "1006\n",
      "1007\n",
      "1008\n",
      "1009\n",
      "1010\n",
      "1011\n",
      "1012\n",
      "1013\n",
      "1014\n",
      "1015\n",
      "1016\n",
      "1017\n",
      "1018\n",
      "1019\n",
      "1020\n",
      "1021\n",
      "1022\n",
      "1023\n",
      "1024\n",
      "1025\n",
      "1026\n",
      "1027\n",
      "1028\n",
      "1029\n",
      "1030\n",
      "1031\n",
      "1032\n",
      "1033\n",
      "1034\n",
      "1035\n",
      "1036\n",
      "1037\n",
      "1038\n",
      "1039\n",
      "1040\n",
      "1041\n",
      "1042\n",
      "1043\n",
      "1044\n",
      "1045\n",
      "1046\n",
      "1047\n",
      "1048\n",
      "1049\n",
      "1050\n",
      "1051\n",
      "1052\n",
      "1053\n",
      "1054\n",
      "1055\n",
      "1056\n",
      "1057\n",
      "1058\n",
      "1059\n",
      "1060\n",
      "1061\n",
      "1062\n",
      "1063\n",
      "1064\n",
      "1065\n",
      "1066\n",
      "1067\n",
      "1068\n",
      "1069\n",
      "1070\n",
      "1071\n",
      "1072\n",
      "1073\n",
      "1074\n",
      "1075\n",
      "1076\n",
      "1077\n",
      "1078\n",
      "1079\n",
      "1080\n",
      "1081\n",
      "1082\n",
      "1083\n",
      "1084\n",
      "1085\n",
      "1086\n",
      "1087\n",
      "1088\n",
      "1089\n",
      "1090\n",
      "1091\n",
      "1092\n",
      "1093\n",
      "1094\n",
      "1095\n",
      "1096\n",
      "1097\n",
      "1098\n",
      "1099\n",
      "1100\n",
      "1101\n",
      "1102\n",
      "1103\n",
      "1104\n",
      "1105\n",
      "1106\n",
      "1107\n",
      "1108\n",
      "1109\n",
      "1110\n",
      "1111\n",
      "1112\n",
      "1113\n",
      "1114\n",
      "1115\n",
      "1116\n",
      "1117\n",
      "1118\n",
      "1119\n",
      "1120\n",
      "1121\n",
      "1122\n",
      "1123\n",
      "1124\n",
      "1125\n",
      "1126\n",
      "1127\n",
      "1128\n",
      "1129\n",
      "1130\n",
      "1131\n",
      "1132\n",
      "1133\n",
      "1134\n",
      "1135\n",
      "1136\n",
      "1137\n",
      "1138\n",
      "1139\n",
      "1140\n",
      "1141\n",
      "1142\n",
      "1143\n",
      "1144\n",
      "1145\n",
      "1146\n",
      "1147\n",
      "1148\n",
      "1149\n",
      "1150\n",
      "1151\n",
      "1152\n",
      "1153\n",
      "1154\n",
      "1155\n",
      "1156\n",
      "1157\n",
      "1158\n",
      "1159\n",
      "1160\n",
      "1161\n",
      "1162\n",
      "1163\n",
      "1164\n",
      "1165\n",
      "1166\n",
      "1167\n",
      "1168\n",
      "1169\n",
      "1170\n",
      "1171\n",
      "1172\n",
      "1173\n",
      "1174\n",
      "1175\n",
      "1176\n",
      "1177\n",
      "1178\n",
      "1179\n",
      "1180\n",
      "1181\n",
      "1182\n",
      "1183\n",
      "1184\n",
      "1185\n",
      "1186\n",
      "1187\n",
      "1188\n",
      "1189\n",
      "1190\n",
      "1191\n",
      "1192\n",
      "1193\n",
      "1194\n",
      "1195\n",
      "1196\n",
      "1197\n",
      "1198\n",
      "1199\n",
      "1200\n",
      "1201\n",
      "1202\n",
      "1203\n",
      "1204\n",
      "1205\n",
      "1206\n",
      "1207\n",
      "1208\n",
      "1209\n",
      "1210\n",
      "1211\n",
      "1212\n",
      "1213\n",
      "1214\n",
      "1215\n",
      "1216\n",
      "1217\n",
      "1218\n",
      "1219\n",
      "1220\n",
      "1221\n",
      "1222\n",
      "1223\n",
      "1224\n",
      "1225\n",
      "1226\n",
      "1227\n",
      "1228\n",
      "1229\n",
      "1230\n",
      "1231\n",
      "1232\n",
      "1233\n",
      "1234\n",
      "1235\n",
      "1236\n",
      "1237\n",
      "1238\n",
      "1239\n",
      "1240\n",
      "1241\n",
      "1242\n",
      "1243\n",
      "1244\n",
      "1245\n",
      "1246\n",
      "1247\n",
      "1248\n",
      "1249\n",
      "1250\n",
      "1251\n",
      "1252\n",
      "1253\n",
      "1254\n",
      "1255\n",
      "1256\n",
      "1257\n",
      "1258\n",
      "1259\n",
      "1260\n",
      "1261\n",
      "1262\n",
      "1263\n",
      "1264\n",
      "1265\n",
      "1266\n",
      "1267\n",
      "1268\n",
      "1269\n",
      "1270\n",
      "1271\n",
      "1272\n",
      "1273\n",
      "1274\n",
      "1275\n",
      "1276\n",
      "1277\n",
      "1278\n",
      "1279\n",
      "1280\n",
      "1281\n",
      "1282\n",
      "1283\n",
      "1284\n",
      "1285\n",
      "1286\n",
      "1287\n",
      "1288\n",
      "1289\n",
      "1290\n",
      "1291\n",
      "1292\n",
      "1293\n",
      "1294\n",
      "1295\n",
      "1296\n",
      "1297\n",
      "1298\n",
      "1299\n",
      "1300\n",
      "1301\n",
      "1302\n",
      "1303\n",
      "1304\n",
      "1305\n",
      "1306\n",
      "1307\n",
      "1308\n",
      "1309\n",
      "1310\n",
      "1311\n",
      "1312\n",
      "1313\n",
      "1314\n",
      "1315\n",
      "1316\n",
      "1317\n",
      "1318\n",
      "1319\n",
      "1320\n",
      "1321\n",
      "1322\n",
      "1323\n",
      "1324\n",
      "1325\n",
      "1326\n",
      "1327\n",
      "1328\n",
      "1329\n",
      "1330\n",
      "1331\n",
      "1332\n",
      "1333\n",
      "1334\n",
      "1335\n",
      "1336\n",
      "1337\n",
      "1338\n",
      "1339\n",
      "1340\n",
      "1341\n",
      "1342\n",
      "1343\n",
      "1344\n",
      "1345\n",
      "1346\n",
      "1347\n",
      "1348\n",
      "1349\n",
      "1350\n",
      "1351\n",
      "1352\n",
      "1353\n",
      "1354\n",
      "1355\n",
      "1356\n",
      "1357\n",
      "1358\n",
      "1359\n",
      "1360\n",
      "1361\n",
      "1362\n",
      "1363\n",
      "1364\n",
      "1365\n",
      "1366\n",
      "1367\n",
      "1368\n",
      "1369\n",
      "1370\n",
      "1371\n",
      "1372\n",
      "1373\n",
      "1374\n",
      "1375\n",
      "1376\n",
      "1377\n",
      "1378\n",
      "1379\n",
      "1380\n",
      "1381\n",
      "1382\n",
      "1383\n",
      "1384\n",
      "1385\n",
      "1386\n",
      "1387\n",
      "1388\n",
      "1389\n",
      "1390\n",
      "1391\n",
      "1392\n",
      "1393\n",
      "1394\n",
      "1395\n",
      "1396\n",
      "1397\n",
      "1398\n",
      "1399\n",
      "1400\n",
      "1401\n",
      "1402\n",
      "1403\n",
      "1404\n",
      "1405\n",
      "1406\n",
      "1407\n",
      "1408\n",
      "1409\n",
      "1410\n",
      "1411\n",
      "1412\n",
      "1413\n",
      "1414\n",
      "1415\n",
      "1416\n",
      "1417\n",
      "1418\n",
      "1419\n",
      "1420\n",
      "1421\n",
      "1422\n",
      "1423\n",
      "1424\n",
      "1425\n",
      "1426\n",
      "1427\n",
      "1428\n",
      "1429\n",
      "1430\n",
      "1431\n",
      "1432\n",
      "1433\n",
      "1434\n",
      "1435\n",
      "1436\n",
      "1437\n",
      "1438\n",
      "1439\n",
      "1440\n",
      "1441\n",
      "1442\n",
      "1443\n",
      "1444\n",
      "1445\n",
      "1446\n",
      "1447\n",
      "1448\n",
      "1449\n",
      "1450\n",
      "1451\n",
      "1452\n",
      "Extracted successfully for session:  1\n",
      "Generated index mappers!\n"
     ]
    }
   ],
   "source": [
    "# DATE = 230830\n",
    "# animal = \"Pancho\"\n",
    "# DATE = 230619\n",
    "DATE = 230615\n",
    "animal = \"Diego\"\n",
    "# spikes_version = \"tdt\"\n",
    "spikes_version = \"kilosort_if_exists\"\n",
    "MS = load_mult_session_helper(DATE, animal, MINIMAL_LOADING=True, spikes_version=spikes_version) \n",
    "# MS = load_mult_session_helper(DATE, animal, MINIMAL_LOADING=True, spikes_version=\"tdt\") "
   ]
  },
  {
   "cell_type": "code",
   "execution_count": null,
   "id": "e041091616bea230",
   "metadata": {
    "collapsed": false
   },
   "outputs": [],
   "source": [
    "\n",
    "### Snippets, split by stroke index and location\n",
    "MS.print_summary_sessions()\n",
    "from neuralmonkey.classes.snippets import Snippets, extraction_helper"
   ]
  },
  {
   "cell_type": "code",
   "execution_count": null,
   "id": "ddde2ccbfffdca93",
   "metadata": {
    "collapsed": false
   },
   "outputs": [],
   "source": [
    "len(sn.get_trials_list(True))"
   ]
  },
  {
   "cell_type": "code",
   "execution_count": null,
   "id": "4f6a93293ea856b",
   "metadata": {
    "collapsed": false
   },
   "outputs": [],
   "source": [
    "\n",
    "# Pick out a single session\n",
    "sn = MS.SessionsList[0]\n"
   ]
  },
  {
   "cell_type": "code",
   "execution_count": null,
   "id": "3a14b819b3467a91",
   "metadata": {
    "collapsed": false
   },
   "outputs": [],
   "source": [
    "# Turn on debug mode, this prunes sites and trials, so below runs faster\n",
    "# sn.debug_mode_switch_to(sites=True, trials=False)\n",
    "for sn in MS.SessionsList:\n",
    "    sn.debug_mode_switch_to(sites=True, trials=True)"
   ]
  },
  {
   "cell_type": "code",
   "execution_count": null,
   "id": "c70caea262e5b9f5",
   "metadata": {
    "collapsed": false
   },
   "outputs": [],
   "source": [
    "sn.sitegetter_print_summarytext_each_unit"
   ]
  },
  {
   "cell_type": "code",
   "execution_count": null,
   "id": "147dd1d006ec40f8",
   "metadata": {
    "collapsed": false
   },
   "outputs": [],
   "source": [
    "#### TODO:"
   ]
  },
  {
   "cell_type": "code",
   "execution_count": null,
   "id": "27e1d93bf57165eb",
   "metadata": {
    "collapsed": false
   },
   "outputs": [],
   "source": [
    "# problem 1. Stroke onset time -- why don't they match between SN and Datasetbeh.\n",
    "# problem 2. concatting DS across sessions for Pancho --> failing."
   ]
  },
  {
   "cell_type": "markdown",
   "id": "5504d465d9ff5c52",
   "metadata": {
    "collapsed": false
   },
   "source": [
    "##### Loading beh dataset from raw"
   ]
  },
  {
   "cell_type": "code",
   "execution_count": null,
   "id": "9cc78238989f7325",
   "metadata": {
    "collapsed": false
   },
   "outputs": [],
   "source": [
    "sn.datasetbeh_load_helper(sn.DatasetbehExptname)"
   ]
  },
  {
   "cell_type": "markdown",
   "id": "38180bcff0f639bb",
   "metadata": {
    "collapsed": false
   },
   "source": [
    "# [GOOD] Extract Snippets across all SN in MS, and clean as you would if you loaded from pre-saved"
   ]
  },
  {
   "cell_type": "markdown",
   "id": "5774b2191c347431",
   "metadata": {
    "collapsed": false
   },
   "source": [
    "### Wrapper to regenerate Snippets"
   ]
  },
  {
   "cell_type": "code",
   "execution_count": null,
   "id": "39d81fc3",
   "metadata": {},
   "outputs": [],
   "source": [
    "MS.debug_mode_switch_to(sites=True, trials=True)"
   ]
  },
  {
   "cell_type": "code",
   "execution_count": 7,
   "id": "cd4d71d3fc3d22ae",
   "metadata": {
    "collapsed": false
   },
   "outputs": [
    {
     "name": "stdout",
     "output_type": "stream",
     "text": [
      "** NOT SKIPPING EXTRACTION, since was not able to load snippets, for: \n",
      "(animal, DATE, which_level, session)\n",
      "Diego 230615 trial 0\n",
      "Starting length of D.Dat: 24\n",
      "--BEFORE REMOVE; existing supervision_stage_concise:\n",
      "supervision_stage_concise\n",
      "off|0||1111|0    24\n",
      "Name: count, dtype: int64\n",
      "############ NOT PRUNING SUPERVISION TRIALS\n",
      "Dataset final len: 24\n",
      "*** RUNNING D.preprocessGood using these params:\n",
      "['sanity_gridloc_identical']\n",
      "-- Len of D, before applying this param: sanity_gridloc_identical, ... 24\n",
      "Success! all gridloc identical!\n",
      "These are the x and y mappings, gridloc:loc\n",
      "x... {0: -1.6, 1: 1.7}\n",
      "y... {1: 1.7, 0: -1.6}\n",
      "after: 24\n",
      "Kept these events:  ['samp']\n",
      "\n",
      " == extarcating these sites:  [1000, 1001, 1002, 1003, 1004, 1005, 1006, 1007, 1008, 1009, 1010, 1011, 1012, 1013, 1014, 1015, 1016, 1017, 1018, 1019, 1020, 1021, 1022, 1023, 1024, 1025, 1026, 1027, 1028, 1029, 1030, 1031, 1032, 1033, 1034, 1035, 1036, 1037, 1038, 1039, 1040, 1041, 1042, 1043, 1044, 1045, 1046, 1047, 1048, 1426, 1049, 1050, 1051, 1052, 1053, 1054, 1055, 1056, 1057, 1058, 1059, 1060, 1061, 1062, 1063, 1064, 1065, 1066, 1067, 1068, 1069, 1070, 1071, 1072, 1073, 1427, 1074, 1075, 1076, 1077, 1078, 1428, 1429, 1079, 1080, 1081, 1082, 1083, 1084, 1085, 1086, 1087, 1088, 1089, 1090, 1091, 1092, 1093, 1094, 1095, 1096, 1097, 1098, 1099, 1100, 1101, 1102, 1103, 1104, 1105, 1106, 1107, 1108, 1109, 1110, 1111, 1112, 1113, 1114, 1115, 1116, 1117, 1430, 1118, 1119, 1120, 1121, 1122, 1123, 1124, 1125, 1126, 1127, 1128, 1431, 1129, 1130, 1432, 1131, 1132, 1133, 1134, 1433, 1135, 1136, 1137, 1138, 1139, 1140, 1141, 1142, 1143, 1144, 1145, 1146, 1147, 1148, 1149, 1150, 1151, 1152, 1153, 1154, 1155, 1156, 1157, 1158, 1434, 1159, 1160, 1161, 1162, 1163, 1164, 1165, 1166, 1167, 1168, 1169, 1170, 1171, 1172, 1173, 1174, 1175, 1176, 1177, 1178, 1179, 1435, 1180, 1181, 1182, 1183, 1184, 1185, 1186, 1187, 1188, 1189, 1190, 1191, 1192, 1193, 1194, 1195, 1196, 1197, 1436, 1198, 1199, 1200, 1201, 1202, 1203, 1204, 1437, 1205, 1206, 1438, 1207, 1439, 1208, 1209, 1210, 1211, 1212, 1213, 1214, 1215, 1216, 1217, 1218, 1219, 1220, 1221, 1222, 1223, 1224, 1225, 1226, 1227, 1228, 1229, 1230, 1440, 1231, 1232, 1233, 1234, 1235, 1441, 1236, 1237, 1238, 1239, 1240, 1241, 1242, 1243, 1244, 1245, 1246, 1247, 1248, 1249, 1250, 1251, 1252, 1253, 1254, 1255, 1256, 1257, 1258, 1259, 1260, 1261, 1262, 1263, 1264, 1265, 1266, 1267, 1268, 1269, 1270, 1271, 1272, 1273, 1274, 1275, 1276, 1277, 1278, 1279, 1280, 1281, 1282, 1283, 1284, 1285, 1286, 1287, 1288, 1289, 1290, 1291, 1292, 1293, 1294, 1295, 1296, 1297, 1298, 1299, 1300, 1301, 1302, 1303, 1304, 1305, 1306, 1307, 1308, 1309, 1310, 1311, 1312, 1313, 1314, 1315, 1316, 1317, 1318, 1319, 1320, 1442, 1321, 1322, 1323, 1324, 1325, 1326, 1327, 1328, 1329, 1443, 1330, 1331, 1332, 1333, 1334, 1444, 1335, 1336, 1337, 1338, 1339, 1340, 1341, 1445, 1342, 1343, 1344, 1345, 1346, 1347, 1348, 1349, 1350, 1351, 1352, 1353, 1446, 1354, 1355, 1356, 1357, 1358, 1447, 1359, 1448, 1360, 1361, 1362, 1363, 1449, 1364, 1365, 1366, 1367, 1368, 1369, 1370, 1371, 1372, 1373, 1374, 1375, 1376, 1377, 1378, 1379, 1380, 1381, 1382, 1383, 1384, 1385, 1386, 1387, 1388, 1389, 1390, 1391, 1450, 1392, 1393, 1394, 1395, 1396, 1451, 1397, 1398, 1399, 1400, 1401, 1402, 1403, 1404, 1405, 1406, 1407, 1408, 1409, 1410, 1411, 1412, 1413, 1414, 1415, 1416, 1417, 1418, 1419, 1420, 1421, 1422, 1423, 1452, 1424, 1425]\n",
      "\n",
      " == extracting these trials:  [0, 1, 2, 3, 4, 5, 6, 7, 8, 9, 10, 11, 12, 13, 15, 16, 17, 19, 20, 21, 22, 23, 24, 25]\n",
      "03_samp  -  0\n",
      "Extracting smoothed FR for all data...\n",
      "Inserting smoothed FR into dataset...\n",
      "** Generated Snippets, (ver trial). Final length of SP.DfScalar: 10872\n",
      "Keeping this many sites that pass fr thresh:\n",
      "381 / 453\n",
      "Using threshold:  1.5\n",
      "Updated self.Sites\n",
      "** NOT SKIPPING EXTRACTION, since was not able to load snippets, for: \n",
      "(animal, DATE, which_level, session)\n",
      "Diego 230615 trial 1\n",
      "Starting length of D.Dat: 423\n",
      "--BEFORE REMOVE; existing supervision_stage_concise:\n",
      "supervision_stage_concise\n",
      "off|0||1111|0    423\n",
      "Name: count, dtype: int64\n",
      "############ NOT PRUNING SUPERVISION TRIALS\n",
      "Dataset final len: 423\n",
      "*** RUNNING D.preprocessGood using these params:\n",
      "['sanity_gridloc_identical']\n",
      "-- Len of D, before applying this param: sanity_gridloc_identical, ... 423\n",
      "Success! all gridloc identical!\n",
      "These are the x and y mappings, gridloc:loc\n",
      "x... {1: 1.7, 0: -1.6}\n",
      "y... {1: 1.7, 0: -1.6}\n",
      "after: 423\n",
      "Kept these events:  ['samp']\n",
      "\n",
      " == extarcating these sites:  [1000, 1001, 1002, 1003, 1004, 1005, 1006, 1007, 1008, 1009, 1010, 1011, 1012, 1013, 1014, 1015, 1016, 1017, 1018, 1019, 1020, 1021, 1022, 1023, 1024, 1025, 1026, 1027, 1028, 1029, 1030, 1031, 1032, 1033, 1034, 1035, 1036, 1037, 1038, 1039, 1040, 1041, 1042, 1043, 1044, 1045, 1046, 1047, 1048, 1426, 1049, 1050, 1051, 1052, 1053, 1054, 1055, 1056, 1057, 1058, 1059, 1060, 1061, 1062, 1063, 1064, 1065, 1066, 1067, 1068, 1069, 1070, 1071, 1072, 1073, 1427, 1074, 1075, 1076, 1077, 1078, 1428, 1429, 1079, 1080, 1081, 1082, 1083, 1084, 1085, 1086, 1087, 1088, 1089, 1090, 1091, 1092, 1093, 1094, 1095, 1096, 1097, 1098, 1099, 1100, 1101, 1102, 1103, 1104, 1105, 1106, 1107, 1108, 1109, 1110, 1111, 1112, 1113, 1114, 1115, 1116, 1117, 1430, 1118, 1119, 1120, 1121, 1122, 1123, 1124, 1125, 1126, 1127, 1128, 1431, 1129, 1130, 1432, 1131, 1132, 1133, 1134, 1433, 1135, 1136, 1137, 1138, 1139, 1140, 1141, 1142, 1143, 1144, 1145, 1146, 1147, 1148, 1149, 1150, 1151, 1152, 1153, 1154, 1155, 1156, 1157, 1158, 1434, 1159, 1160, 1161, 1162, 1163, 1164, 1165, 1166, 1167, 1168, 1169, 1170, 1171, 1172, 1173, 1174, 1175, 1176, 1177, 1178, 1179, 1435, 1180, 1181, 1182, 1183, 1184, 1185, 1186, 1187, 1188, 1189, 1190, 1191, 1192, 1193, 1194, 1195, 1196, 1197, 1436, 1198, 1199, 1200, 1201, 1202, 1203, 1204, 1437, 1205, 1206, 1438, 1207, 1439, 1208, 1209, 1210, 1211, 1212, 1213, 1214, 1215, 1216, 1217, 1218, 1219, 1220, 1221, 1222, 1223, 1224, 1225, 1226, 1227, 1228, 1229, 1230, 1440, 1231, 1232, 1233, 1234, 1235, 1441, 1236, 1237, 1238, 1239, 1240, 1241, 1242, 1243, 1244, 1245, 1246, 1247, 1248, 1249, 1250, 1251, 1252, 1253, 1254, 1255, 1256, 1257, 1258, 1259, 1260, 1261, 1262, 1263, 1264, 1265, 1266, 1267, 1268, 1269, 1270, 1271, 1272, 1273, 1274, 1275, 1276, 1277, 1278, 1279, 1280, 1281, 1282, 1283, 1284, 1285, 1286, 1287, 1288, 1289, 1290, 1291, 1292, 1293, 1294, 1295, 1296, 1297, 1298, 1299, 1300, 1301, 1302, 1303, 1304, 1305, 1306, 1307, 1308, 1309, 1310, 1311, 1312, 1313, 1314, 1315, 1316, 1317, 1318, 1319, 1320, 1442, 1321, 1322, 1323, 1324, 1325, 1326, 1327, 1328, 1329, 1443, 1330, 1331, 1332, 1333, 1334, 1444, 1335, 1336, 1337, 1338, 1339, 1340, 1341, 1445, 1342, 1343, 1344, 1345, 1346, 1347, 1348, 1349, 1350, 1351, 1352, 1353, 1446, 1354, 1355, 1356, 1357, 1358, 1447, 1359, 1448, 1360, 1361, 1362, 1363, 1449, 1364, 1365, 1366, 1367, 1368, 1369, 1370, 1371, 1372, 1373, 1374, 1375, 1376, 1377, 1378, 1379, 1380, 1381, 1382, 1383, 1384, 1385, 1386, 1387, 1388, 1389, 1390, 1391, 1450, 1392, 1393, 1394, 1395, 1396, 1451, 1397, 1398, 1399, 1400, 1401, 1402, 1403, 1404, 1405, 1406, 1407, 1408, 1409, 1410, 1411, 1412, 1413, 1414, 1415, 1416, 1417, 1418, 1419, 1420, 1421, 1422, 1423, 1452, 1424, 1425]\n",
      "\n",
      " == extracting these trials:  [0, 1, 2, 3, 4, 5, 6, 7, 8, 9, 10, 11, 12, 13, 14, 15, 16, 17, 18, 19, 20, 21, 22, 23, 24, 25, 26, 27, 28, 29, 30, 31, 32, 33, 34, 35, 36, 37, 39, 40, 41, 42, 43, 44, 45, 46, 47, 48, 49, 50, 51, 52, 53, 54, 55, 56, 57, 58, 59, 60, 61, 62, 64, 65, 66, 67, 68, 69, 70, 71, 72, 73, 74, 75, 76, 77, 78, 79, 80, 81, 82, 83, 84, 85, 86, 87, 88, 89, 90, 91, 92, 93, 94, 95, 96, 97, 98, 99, 100, 101, 102, 103, 104, 105, 106, 107, 108, 109, 110, 111, 112, 114, 115, 116, 117, 118, 119, 120, 121, 122, 123, 124, 126, 127, 128, 129, 130, 131, 132, 134, 135, 137, 138, 139, 140, 142, 143, 144, 145, 146, 147, 149, 150, 151, 152, 153, 154, 155, 156, 157, 158, 159, 160, 161, 162, 163, 164, 165, 166, 167, 168, 169, 170, 171, 172, 173, 174, 175, 176, 177, 178, 179, 180, 181, 183, 184, 235, 236, 237, 238, 239, 240, 241, 242, 243, 244, 245, 246, 247, 248, 249, 250, 251, 252, 254, 255, 256, 257, 258, 259, 260, 261, 263, 284, 286, 291, 292, 293, 295, 296, 298, 299, 300, 301, 302, 303, 315, 316, 317, 318, 319, 320, 321, 322, 323, 324, 325, 326, 327, 328, 329, 330, 331, 332, 333, 334, 335, 336, 337, 338, 339, 340, 341, 345, 346, 347, 348, 349, 350, 351, 352, 353, 354, 355, 356, 357, 358, 359, 360, 361, 362, 363, 364, 367, 368, 369, 370, 371, 372, 373, 374, 390, 391, 392, 393, 394, 395, 396, 397, 398, 399, 400, 401, 402, 406, 407, 408, 409, 410, 411, 412, 413, 414, 415, 421, 422, 423, 424, 425, 426, 429, 430, 532, 535, 536, 538, 539, 540, 542, 546, 547, 548, 551, 552, 553, 554, 555, 556, 557, 558, 559, 642, 643, 644, 646, 647, 648, 649, 651, 652, 653, 654, 656, 657, 658, 659, 660, 661, 662, 663, 664, 717, 720, 721, 722, 761, 762, 768, 787, 788, 790, 791, 792, 793, 794, 795, 796, 797, 799, 800, 801, 802, 803, 804, 805, 806, 807, 808, 809, 810, 811, 813, 814, 815, 816, 817, 818, 819, 820, 821, 822, 824, 827, 830, 831, 832, 833, 834, 837, 838, 839, 841, 842, 843, 844, 845, 846, 847, 848, 849, 850, 851, 852, 853, 854, 857, 858, 865, 870, 883, 884, 885, 886, 890, 891, 892, 896, 904, 906, 907, 908, 909, 910]\n",
      "03_samp  -  0\n",
      "03_samp  -  50\n",
      "03_samp  -  100\n",
      "03_samp  -  150\n",
      "03_samp  -  250\n",
      "03_samp  -  300\n",
      "03_samp  -  350\n",
      "03_samp  -  400\n",
      "03_samp  -  800\n",
      "03_samp  -  850\n",
      "Extracting smoothed FR for all data...\n",
      "Inserting smoothed FR into dataset...\n",
      "** Generated Snippets, (ver trial). Final length of SP.DfScalar: 191619\n",
      "Keeping this many sites that pass fr thresh:\n",
      "390 / 453\n",
      "Using threshold:  1.5\n",
      "Updated self.Sites\n",
      "This many vals across loaded session\n",
      "0 : 10872\n",
      "1 : 191619\n",
      "tests passed\n",
      "Assigning to SP.Params this item:\n",
      "{'which_level': 'trial', '_list_events': ['samp'], 'list_events_uniqnames': ['03_samp'], 'list_features_extraction': [], 'list_features_get_conjunction': [], 'list_pre_dur': [-0.5], 'list_post_dur': [0.5], 'map_var_to_othervars': None, 'strokes_only_keep_single': False, 'tasks_only_keep_these': None, 'prune_feature_levels_min_n_trials': 1, 'fr_which_version': 'sqrt', 'SPIKES_VERSION': 'kilosort', 'map_var_to_levels': None}\n",
      "tests passed\n",
      "Assigning to SP.ParamsGlobals this item:\n",
      "{'n_min_trials_per_level': 5, 'lenient_allow_data_if_has_n_levels': 2, 'PRE_DUR_CALC': -0.5, 'POST_DUR_CALC': 0.5, 'list_events': ['03_samp'], 'list_pre_dur': [-0.5], 'list_post_dur': [0.5]}\n",
      "Keeping this many sites that pass fr thresh:\n",
      "372 / 372\n",
      "Using threshold:  1.5\n",
      "Updated self.Sites\n"
     ]
    }
   ],
   "source": [
    "from neuralmonkey.classes.snippets import load_and_concat_mult_snippets\n",
    "# which_level = \"stroke\"\n",
    "# which_level = \"substroke\"\n",
    "which_level = \"trial\"\n",
    "EVENTS_KEEP = [\"03_samp\"]\n",
    "PRE_DUR=-0.5\n",
    "POST_DUR=0.5\n",
    "DEBUG = False\n",
    "SP, SAVEDIR_ALL = load_and_concat_mult_snippets(MS, which_level, EVENTS_KEEP, DEBUG=DEBUG,\n",
    "                                                PRE_DUR=PRE_DUR, POST_DUR=POST_DUR)"
   ]
  },
  {
   "cell_type": "code",
   "execution_count": null,
   "id": "319a2cc74cbb03c8",
   "metadata": {
    "collapsed": false
   },
   "outputs": [],
   "source": [
    "# Load a question\n",
    "from neuralmonkey.analyses.rsa import rsagood_questions_dict\n",
    "date = DATE\n",
    "# question = \"CHAR_BASE_trial\"\n",
    "# question = \"CHAR_BASE_stroke\"\n",
    "# question = \"PIG_BASE_stroke\"\n",
    "# question = \"RULESW_BASE_stroke\"\n",
    "question = \"SS_shape\"\n",
    "substrokes_plot_preprocess = False\n",
    "HACK_RENAME_SHAPES = False\n",
    "\n",
    "q_params = rsagood_questions_dict(animal, date, question=question)[question]\n",
    "print(\"Question:\", question)\n",
    "print(\"These questions params:\")\n",
    "for k, v in q_params.items():\n",
    "    print(k, \" -- \", v)\n",
    "assert which_level in q_params[\"list_which_level\"], \"or else might run into error later.\"\n",
    "\n",
    "# Clean up SP and extract features\n",
    "D, list_features_extraction = SP.datasetbeh_preprocess_clean_by_expt(\n",
    "    ANALY_VER=q_params[\"ANALY_VER\"], vars_extract_append=q_params[\"effect_vars\"],\n",
    "    substrokes_plot_preprocess=substrokes_plot_preprocess,\n",
    "    HACK_RENAME_SHAPES=HACK_RENAME_SHAPES)\n"
   ]
  },
  {
   "cell_type": "code",
   "execution_count": 162,
   "id": "4bf9d112",
   "metadata": {},
   "outputs": [],
   "source": [
    "sites = SP.Sites[:10]\n",
    "event = \"03_samp\"\n"
   ]
  },
  {
   "cell_type": "code",
   "execution_count": 168,
   "id": "90a85a4d",
   "metadata": {},
   "outputs": [],
   "source": [
    "### Lower-level extraction of PA\n",
    "from pythonlib.tools.pandastools import grouping_count_n_samples_quick, grouping_count_n_samples\n",
    "# PA, _ = SP.dataextract_as_popanal_statespace(SP.Sites, \"03_go_cue\")\n",
    "\n",
    "replace_fr_sm_with_spike_counts = True\n",
    "dfthis = SP.dataextract_as_df_multsites_wrapper(sites, event, pre_dur=PRE_DUR, post_dur=POST_DUR,\n",
    "                                                replace_fr_sm_with_spike_counts=replace_fr_sm_with_spike_counts)\n"
   ]
  },
  {
   "cell_type": "code",
   "execution_count": 166,
   "id": "5d38f966",
   "metadata": {},
   "outputs": [
    {
     "data": {
      "text/plain": [
       "{'which_level': 'trial',\n",
       " '_list_events': ['samp'],\n",
       " 'list_events_uniqnames': ['03_samp'],\n",
       " 'list_features_extraction': [],\n",
       " 'list_features_get_conjunction': [],\n",
       " 'list_pre_dur': [-0.5],\n",
       " 'list_post_dur': [0.5],\n",
       " 'map_var_to_othervars': None,\n",
       " 'strokes_only_keep_single': False,\n",
       " 'tasks_only_keep_these': None,\n",
       " 'prune_feature_levels_min_n_trials': 1,\n",
       " 'fr_which_version': 'sqrt',\n",
       " 'SPIKES_VERSION': 'kilosort',\n",
       " 'map_var_to_levels': None}"
      ]
     },
     "execution_count": 166,
     "metadata": {},
     "output_type": "execute_result"
    }
   ],
   "source": [
    "SP.Params"
   ]
  },
  {
   "cell_type": "code",
   "execution_count": 195,
   "id": "9217449b",
   "metadata": {},
   "outputs": [
    {
     "name": "stdout",
     "output_type": "stream",
     "text": [
      "Colected 447 out of 447 datapts.\n",
      "NOTE: missed datapts are likely because of removed outliers\n"
     ]
    }
   ],
   "source": [
    "list_features_extraction = [\"seqc_0_shape\"]\n",
    "replace_fr_sm_with_spike_counts = True\n",
    "spike_counts_bin_size = 0.001\n",
    "PA, sample_meta = SP.dataextract_as_popanal_statespace(sites, event=\"03_samp\", pre_dur=PRE_DUR, post_dur=POST_DUR,\n",
    "                                     list_features_extraction=list_features_extraction,\n",
    "                                     replace_fr_sm_with_spike_counts=replace_fr_sm_with_spike_counts, \n",
    "                                     spike_counts_bin_size=spike_counts_bin_size)"
   ]
  },
  {
   "cell_type": "code",
   "execution_count": 179,
   "id": "ee599512",
   "metadata": {},
   "outputs": [
    {
     "data": {
      "image/png": "[encoded data removed]",
      "text/plain": [
       "<Figure size 1000x500 with 1 Axes>"
      ]
     },
     "metadata": {},
     "output_type": "display_data"
    }
   ],
   "source": [
    "PA.plotNeurHeat(0)"
   ]
  },
  {
   "cell_type": "code",
   "execution_count": null,
   "id": "7889852c",
   "metadata": {},
   "outputs": [
    {
     "data": {
      "text/plain": [
       "8"
      ]
     },
     "execution_count": 123,
     "metadata": {},
     "output_type": "execute_result"
    }
   ],
   "source": [
    "tmp = np.concatenate(dfthis[\"fr_sm\"])\n"
   ]
  },
  {
   "cell_type": "code",
   "execution_count": 138,
   "id": "377515c9",
   "metadata": {},
   "outputs": [],
   "source": [
    "bregion = \"PMv\"\n",
    "s = SP.sitegetter_map_region_to_sites(bregion)[20]"
   ]
  },
  {
   "cell_type": "code",
   "execution_count": 129,
   "id": "10d193d5",
   "metadata": {},
   "outputs": [
    {
     "name": "stdout",
     "output_type": "stream",
     "text": [
      " ** extravcting dataset\n",
      "Snippets -- extracting beh dataset for first time! (concatting and tokens preprocess)\n",
      "Generated index mappers!\n",
      "Searching using this string:\n",
      "/home/lucas/code/drawmonkey/drawmonkey/expt_metadat/*230615-*Diego.**\n",
      "Found this many paths:\n",
      "0\n",
      "Searching using this string:\n",
      "/home/lucas/code/drawmonkey/drawmonkey/expt_metadat_daily/*230615-*Diego.**\n",
      "Found this many paths:\n",
      "1\n",
      "---\n",
      "/home/lucas/code/drawmonkey/drawmonkey/expt_metadat_daily/priminvar5-230615-Diego.yaml\n",
      "Loading this dataset Diego priminvar5 230615\n",
      "Searching using this string:\n",
      "/home/lucas/mnt/Freiwald_kgupta/kgupta/analyses/database/*Diego-*priminvar5-*230615-*/*dat*.pkl\n",
      "-- Splitting off dir from fname\n",
      "Found this many paths:\n",
      "0\n",
      "Searching using this string:\n",
      "/home/lucas/mnt/Freiwald_kgupta/kgupta/analyses/database/BEH/*Diego-*priminvar5-*230615-*/*dat*.pkl\n",
      "-- Splitting off dir from fname\n",
      "Found this many paths:\n",
      "1\n",
      "---\n",
      "/home/lucas/mnt/Freiwald_kgupta/kgupta/analyses/database/BEH/Diego-priminvar5-230615-230616_022850\n",
      "----------------\n",
      "Currently loading dataset pkl: /home/lucas/mnt/Freiwald_kgupta/kgupta/analyses/database/BEH/Diego-priminvar5-230615-230616_022850\n",
      ".. Done!\n",
      "Loaded metadat:\n",
      "{'sketchpad_edges': array([[-311.84, -224.8 ],\n",
      "       [ 311.84,  429.6 ]]), 'metadat_probedat': {'sdate': '230615', 'edate': '230615', 'strokmodel_kind': None, 'strokmodel_tstamp': None, 'datecategories': {'230615': 1}, 'dates_for_summary': [], 'matchedstrokes': None, 'exptnames': ['priminvar5'], 'T1': [], 'G1': [], 'G2': [], 'G3': [], 'G4': [], 'description': '', 'finalized': False, 'good_expt': True, 'expt': 'priminvar5', 'animal': 'Diego', 'ssess': None, 'esess': None, 'task_train_test': {'probe1_liketrain': 'train', 'probe1_nostrokeconstraint': 'train', 'probe2_liketrain': 'train', 'probe2_nostrokeconstraint': 'train', 'probe3_hdpos': 'test', 'probe1': 'train', 'probe2': 'train', 'probe3': 'test', 'probe4': 'test', 'train': 'train'}}, 'filedata_params': {'pix_per_deg': array([[ 26.64621164],\n",
      "       [-26.64621164]]), 'resolution': (1024, 768), 'animal': 'Diego', 'basedir': '/home/kgg/mnt/Freiwald/kgupta/macaque_data', 'sample_rate': array([500.]), 'beh_codes': {9: 'start', 10: 'fix cue', 11: 'fix cue visible', 13: 'frame skip', 14: 'manual rew', 15: 'guide', 16: 'FixationOnsetWTH', 17: 'FixationDoneSuccessWTH', 18: 'end', 19: 'FixationRaiseFailWTH', 20: 'go (draw)', 21: 'guide_on_GA', 30: 'DelayWhatIsThis', 40: 'GoWhatIsThis', 41: 'samp1 on', 42: 'samp1 off', 45: 'done', 46: 'post', 50: 'reward', 51: 'free reward', 61: 'DoneButtonVisible', 62: 'DoneButtonTouched', 63: 'DragAroundSuccess', 64: 'DragAroundAbort', 65: 'DragAroundFirstAbortNow', 70: 'hotkey_x', 71: 'DAstimevent_firstpres', 72: 'DAstimoff_finibeforepause', 73: 'DAstimoff_fini', 74: 'DAsamp1_visible_change', 75: 'DAnewpnutthisframe', 76: 'DAsound_samp1touched', 78: 'DAsound_gotallink', 80: 'ttl_trialon', 81: 'ttl_trialoff', 91: 'GAstimevent_firstpres', 92: 'GAstimoff_fini', 101: 'fix_square_on', 102: 'fix_square_off', 103: 'fix_square_on_pd', 111: 'photodiode_force_off', 120: 'DAsound_chunk', 121: 'DAsound_strokedone', 122: 'DAsound_chunkupdate', 123: 'DAsound_chunkdone', 124: 'DAsound_firstraise', 131: 'fix_cue_colored_on', 132: 'fix_cue_colored_on_v2', 133: 'fix_cue_colored_off', 134: 'fix_cue_colored_off_v2', 135: 'new_color_cue_off', 200: 'skipped_movie_frame'}, 'screen_hz': 59, 'screen_period': 0.01694915254237288}}\n",
      "Loading BlockParamsByDateSessBlock!\n",
      "----\n",
      "Resetting index\n",
      "=== CLEANING UP self.Dat ===== \n",
      "Deleted unused columns from self.Dat\n",
      "applying monkey train test names\n",
      "* UDPATEING onset of first stroke [too close to fixation] (trial, new onset index):\n",
      "-- CHECKING  origin\n",
      "--- idat, trialcode, strok inds to remove, len strokes beofre remofe, len strokes after:\n",
      "195 230615-3-180 [1] 2 1\n",
      "-- CHECKING  donepos\n",
      "--- idat, trialcode, strok inds to remove, len strokes beofre remofe, len strokes after:\n",
      "Updated columns: insummarydates, using Metadats\n",
      "Searching using this string:\n",
      "/home/lucas/mnt/Freiwald_kgupta/kgupta/analyses/database/TASKS_GENERAL/Diego-priminvar5-230615-all/*Tasks*pkl\n",
      "Found this many paths:\n",
      "1\n",
      "---\n",
      "/home/lucas/mnt/Freiwald_kgupta/kgupta/analyses/database/TASKS_GENERAL/Diego-priminvar5-230615-all/Tasks.pkl\n",
      "--- Loading tasks pkl file:  /home/lucas/mnt/Freiwald_kgupta/kgupta/analyses/database/TASKS_GENERAL/Diego-priminvar5-230615-all/Tasks.pkl\n",
      "added new column self.Dat[Task]\n",
      "=== CLEANING UP self.Dat (_cleanup_reloading_saved_state) ===== \n",
      "- starting/ending len (grouping params):\n",
      "447\n",
      "Extracting Behclass for each trial, may take a while...\n",
      "0 _behclass_alignsim_compute\n",
      "200 _behclass_alignsim_compute\n",
      "400 _behclass_alignsim_compute\n",
      "Running D._behclass_tokens_extract_datsegs\n",
      "0 _behclass_tokens_extract_datsegs\n",
      "200 _behclass_tokens_extract_datsegs\n",
      "400 _behclass_tokens_extract_datsegs\n",
      "stored in self.Dat[BehClass]\n",
      "Removing these trials beucause beh strokes all fail to match to a task stroke: \n",
      "[]\n",
      "self.Dat starting legnth:  447\n",
      "Modified self.Dat, keeping only the inputted inds\n",
      "self.Dat final legnth:  447\n",
      "ADded new column: supervision_online\n",
      "Appended self.Dat[superv_SEQUENCE_SUP]\n",
      "Appended self.Dat[superv_SEQUENCE_ALPHA]\n",
      "Appended self.Dat[superv_COLOR_ON]\n",
      "Appended self.Dat[superv_COLOR_ITEMS_FADE_TO_DEFAULT_BINSTR]\n",
      "Appended self.Dat[superv_COLOR_METHOD]\n",
      "Appended self.Dat[superv_GUIDEDYN_ON]\n",
      "Appended self.Dat[superv_VISUALFB_METH]\n",
      "appended col to self.Dat:\n",
      "supervision_stage_new\n",
      "Appended self.Dat[superv_SEQUENCE_SUP]\n",
      "Appended self.Dat[superv_COLOR_ON]\n",
      "Appended self.Dat[superv_COLOR_METHOD]\n",
      "Appended self.Dat[superv_COLOR_ITEMS_FADE_TO_DEFAULT_BINSTR]\n",
      "Appended self.Dat[superv_GUIDEDYN_ON]\n",
      "appended col to self.Dat:\n",
      "supervision_stage_concise\n",
      "Append column to self.Dat:  supervision_stage_semantic\n",
      "Extracted into self.Dat[epoch_orig]\n",
      "Modified self.Dat[epoch]\n",
      "447\n",
      "- starting/ending len (getting sequence):\n",
      "447\n",
      "447\n",
      "--- Removing nans\n",
      "start len: 447\n",
      "- num names for each col\n",
      "not removing nans, since columns=[]\n",
      "Reassigned train/test, using key: probe\n",
      "and values:\n",
      "Train =  [0]\n",
      "Test =  [1]\n",
      " \n",
      "New distribution of train/test:\n",
      "monkey_train_or_test\n",
      "train    447\n",
      "Name: count, dtype: int64\n",
      "Appended column: los_info and los_set \n",
      "[taskgroup_reassign_by_mapper], reassigned values in column: taskgroup\n",
      "GROUPING epoch\n",
      "GROUPING_LEVELS ['230615']\n",
      "FEATURE_NAMES ['hdoffline', 'num_strokes_beh', 'num_strokes_task', 'circ', 'dist']\n",
      "SCORE_COL_NAMES []\n",
      "appended col to self.Dat:\n",
      "date_epoch\n",
      "Num nan/total, for num_strokes_task\n",
      "0 / 447\n",
      "Added these features:\n",
      "['FEAT_num_strokes_task']\n",
      "For n_clusters = 6 The average silhouette_score is : 0.6295801790218837\n",
      "For n_clusters = 7 The average silhouette_score is : 0.6330256276461245\n",
      "For n_clusters = 8 The average silhouette_score is : 0.6550276519738116\n",
      "For n_clusters = 9 The average silhouette_score is : 0.6468201718550234\n",
      "For n_clusters = 10 The average silhouette_score is : 0.66148839800985\n",
      "For n_clusters = 11 The average silhouette_score is : 0.6858097354941842\n",
      "For n_clusters = 12 The average silhouette_score is : 0.7058605644303848\n",
      "For n_clusters = 13 The average silhouette_score is : 0.7150885553580032\n",
      "For n_clusters = 14 The average silhouette_score is : 0.7378645524769908\n",
      "For n_clusters = 15 The average silhouette_score is : 0.7582094674419267\n",
      "For n_clusters = 16 The average silhouette_score is : 0.7709427939794454\n",
      "For n_clusters = 17 The average silhouette_score is : 0.7254294076962681\n",
      "For n_clusters = 18 The average silhouette_score is : 0.6933877817705355\n",
      "For n_clusters = 19 The average silhouette_score is : 0.6853918092672672\n",
      "For n_clusters = 20 The average silhouette_score is : 0.671488517987264\n",
      "For n_clusters = 21 The average silhouette_score is : 0.6233368374604622\n",
      "For n_clusters = 22 The average silhouette_score is : 0.608082767849829\n",
      "For n_clusters = 23 The average silhouette_score is : 0.5945893267624403\n",
      "For n_clusters = 24 The average silhouette_score is : 0.5890803370867312\n",
      "For n_clusters = 25 The average silhouette_score is : 0.5812528917450243\n",
      "For n_clusters = 26 The average silhouette_score is : 0.5696674284791702\n",
      "Using n_clusters = 16\n",
      "SAVING at:  /lemur2/lucas/analyses/main/preprocess_general/Diego_230615_priminvar5\n",
      "For n_clusters = 4 The average silhouette_score is : 0.7777470491197046\n",
      "For n_clusters = 5 The average silhouette_score is : 0.7683469955063302\n",
      "For n_clusters = 6 The average silhouette_score is : 0.7456076679196162\n",
      "For n_clusters = 7 The average silhouette_score is : 0.7387203182081965\n",
      "For n_clusters = 8 The average silhouette_score is : 0.7081394900477687\n",
      "For n_clusters = 9 The average silhouette_score is : 0.6863713882276966\n",
      "For n_clusters = 10 The average silhouette_score is : 0.6514799264765647\n",
      "For n_clusters = 11 The average silhouette_score is : 0.6337880047353031\n",
      "For n_clusters = 12 The average silhouette_score is : 0.6044811593120755\n",
      "For n_clusters = 13 The average silhouette_score is : 0.6216072585609922\n",
      "For n_clusters = 14 The average silhouette_score is : 0.6135552400872212\n",
      "For n_clusters = 15 The average silhouette_score is : 0.5899067622666548\n",
      "For n_clusters = 16 The average silhouette_score is : 0.598324774595436\n",
      "For n_clusters = 17 The average silhouette_score is : 0.598579266894519\n",
      "For n_clusters = 18 The average silhouette_score is : 0.5541372308463831\n",
      "For n_clusters = 19 The average silhouette_score is : 0.5255749249126355\n",
      "For n_clusters = 20 The average silhouette_score is : 0.5139354741673595\n",
      "For n_clusters = 21 The average silhouette_score is : 0.5098646832895587\n",
      "For n_clusters = 22 The average silhouette_score is : 0.45536650296662085\n",
      "For n_clusters = 23 The average silhouette_score is : 0.4473102196129239\n",
      "For n_clusters = 24 The average silhouette_score is : 0.4385098751226369\n",
      "For n_clusters = 25 The average silhouette_score is : 0.4463946285173473\n",
      "For n_clusters = 26 The average silhouette_score is : 0.4465243760487728\n",
      "Using n_clusters = 4\n",
      "ndims for feature loc_on = 2\n",
      "New colname in tokens: loc_on_binned\n",
      "ndims for feature angle = 1\n",
      "New colname in tokens: angle_binned\n",
      "ndims for feature center = 2\n",
      "New colname in tokens: center_binned\n",
      "ndims for feature center = 2\n",
      "New colname in tokens: center_binned\n",
      "ndims for feature center = 2\n",
      "New colname in tokens: center_binned\n",
      "0\n",
      "100\n",
      "200\n",
      "300\n",
      "400\n",
      "This many strokes extracted:  448\n",
      "DONE!\n",
      "Appended epoch to self.Dat\n",
      "Appended character to self.Dat\n",
      "Basis set of strokes: ['Lcentered-4-1-0', 'Lcentered-4-2-0', 'Lcentered-4-3-0', 'Lcentered-4-4-0', 'V-2-2-0', 'V-2-3-0', 'V-2-4-0', 'arcdeep-4-2-0', 'arcdeep-4-3-0', 'arcdeep-4-4-0', 'circle-6-1-0', 'line-8-1-0', 'line-8-2-0', 'line-8-3-0', 'line-8-4-0', 'squiggle3-3-1-0', 'squiggle3-3-1-1', 'squiggle3-3-2-0', 'squiggle3-3-2-1', 'usquare-1-2-0', 'usquare-1-3-0', 'usquare-1-4-0', 'zigzagSq-1-1-0', 'zigzagSq-1-1-1', 'zigzagSq-1-2-0', 'zigzagSq-1-2-1']\n",
      "Deleting these columns with seqc in name: []\n",
      "Appended columns gridsize!\n",
      "SAVING at:  /lemur2/lucas/analyses/main/preprocess_general/Diego_230615_priminvar5\n",
      "0\n",
      "100\n",
      "200\n",
      "300\n",
      "400\n",
      "This many strokes extracted:  448\n",
      "DONE!\n",
      "Appended epoch to self.Dat\n",
      "Appended character to self.Dat\n",
      " ** slice_by_row_label\n",
      "Appending thse columns...  ['seqc_0_shape', 'seqc_0_loc']\n"
     ]
    }
   ],
   "source": [
    "SP.datasetbeh_append_column_mult([\"seqc_0_shape\", \"seqc_0_loc\"])"
   ]
  },
  {
   "cell_type": "code",
   "execution_count": 183,
   "id": "b79a619f",
   "metadata": {},
   "outputs": [],
   "source": [
    "SP.datamod_append_spikecounts(bin_size = 0.001, replace_sm_fr=True)"
   ]
  },
  {
   "cell_type": "code",
   "execution_count": null,
   "id": "1ba30650",
   "metadata": {},
   "outputs": [
    {
     "data": {
      "text/plain": [
       "2"
      ]
     },
     "execution_count": 193,
     "metadata": {},
     "output_type": "execute_result"
    }
   ],
   "source": []
  },
  {
   "cell_type": "code",
   "execution_count": 194,
   "id": "8da941a2",
   "metadata": {},
   "outputs": [],
   "source": [
    "assert len(SP.DfScalar.iloc[0][\"spike_times\"]) == np.sum(SP.DfScalar.iloc[0][\"fr_sm\"])"
   ]
  },
  {
   "cell_type": "code",
   "execution_count": 184,
   "id": "fcfcb518",
   "metadata": {},
   "outputs": [
    {
     "data": {
      "text/plain": [
       "(<Figure size 924x700 with 8 Axes>,\n",
       " array([[<Axes: title={'center': '((0, 0),)'}, ylabel='((0, 0),)'>,\n",
       "         <Axes: title={'center': '((0, 1),)'}, ylabel='((0, 1),)'>,\n",
       "         <Axes: title={'center': '((1, 0),)'}, ylabel='((1, 0),)'>,\n",
       "         <Axes: title={'center': '((1, 1),)'}, ylabel='((1, 1),)'>],\n",
       "        [<Axes: title={'center': '((0, 0),)'}>,\n",
       "         <Axes: title={'center': '((0, 1),)'}>,\n",
       "         <Axes: title={'center': '((1, 0),)'}>,\n",
       "         <Axes: title={'center': '((1, 1),)'}>]], dtype=object))"
      ]
     },
     "execution_count": 184,
     "metadata": {},
     "output_type": "execute_result"
    },
    {
     "data": {
      "image/png": "[encoded data removed]",
      "text/plain": [
       "<Figure size 924x700 with 8 Axes>"
      ]
     },
     "metadata": {},
     "output_type": "display_data"
    }
   ],
   "source": [
    "SP.plotgood_rasters_smfr_each_level_combined(s, \"seqc_0_shape\", vars_others=[\"seqc_0_loc\"], event=\"03_samp\")"
   ]
  },
  {
   "cell_type": "code",
   "execution_count": 139,
   "id": "5b0008e6",
   "metadata": {},
   "outputs": [
    {
     "data": {
      "text/plain": [
       "(<Figure size 924x700 with 8 Axes>,\n",
       " array([[<Axes: title={'center': '((0, 0),)'}, ylabel='((0, 0),)'>,\n",
       "         <Axes: title={'center': '((0, 1),)'}, ylabel='((0, 1),)'>,\n",
       "         <Axes: title={'center': '((1, 0),)'}, ylabel='((1, 0),)'>,\n",
       "         <Axes: title={'center': '((1, 1),)'}, ylabel='((1, 1),)'>],\n",
       "        [<Axes: title={'center': '((0, 0),)'}>,\n",
       "         <Axes: title={'center': '((0, 1),)'}>,\n",
       "         <Axes: title={'center': '((1, 0),)'}>,\n",
       "         <Axes: title={'center': '((1, 1),)'}>]], dtype=object))"
      ]
     },
     "execution_count": 139,
     "metadata": {},
     "output_type": "execute_result"
    },
    {
     "data": {
      "image/png": "[encoded data removed]",
      "text/plain": [
       "<Figure size 924x700 with 8 Axes>"
      ]
     },
     "metadata": {},
     "output_type": "display_data"
    }
   ],
   "source": [
    "SP.plotgood_rasters_smfr_each_level_combined(s, \"seqc_0_shape\", vars_others=[\"seqc_0_loc\"], event=\"03_samp\")"
   ]
  },
  {
   "cell_type": "markdown",
   "id": "313923a439a1940c",
   "metadata": {
    "collapsed": false
   },
   "source": [
    "##### Debugging"
   ]
  },
  {
   "cell_type": "code",
   "execution_count": null,
   "id": "d08f73e7c1ae93bd",
   "metadata": {
    "collapsed": false
   },
   "outputs": [],
   "source": [
    "from neuralmonkey.classes.snippets import datasetstrokes_extract\n",
    "sn = MS.SessionsList[1]\n",
    "D = sn.Datasetbeh\n",
    "DS = datasetstrokes_extract(D, \"all_no_clean\")"
   ]
  },
  {
   "cell_type": "markdown",
   "id": "3bb8c29b05a1e49f",
   "metadata": {
    "collapsed": false
   },
   "source": [
    "### Below -- breaking out the above function"
   ]
  },
  {
   "cell_type": "code",
   "execution_count": null,
   "id": "7dc8e27e27525568",
   "metadata": {
    "collapsed": false
   },
   "outputs": [],
   "source": [
    "from neuralmonkey.scripts.analy_snippets_extract import extract_snippets_all_sessions\n",
    "\n",
    "which_level = \"stroke\"\n",
    "EVENTS_KEEP = None\n",
    "\n",
    "# which_level = \"trial\"\n",
    "# EVENTS_KEEP = [\"03_samp\", \"go_cue\"]\n",
    "\n",
    "# version 2\n",
    "LIST_SP = extract_snippets_all_sessions(MS, which_level, EVENTS_KEEP, 1, False)"
   ]
  },
  {
   "cell_type": "code",
   "execution_count": null,
   "id": "60e690f6494d3177",
   "metadata": {
    "collapsed": false
   },
   "outputs": [],
   "source": [
    "# # Reproduce this.\n",
    "# SP, SAVEDIR_ALL = load_and_concat_mult_snippets(MS, which_level = which_level,\n",
    "#     DEBUG=DEBUG)\n",
    "\n",
    "from neuralmonkey.classes.snippets import concat_mult_snippets\n",
    "SP = concat_mult_snippets(LIST_SP, MS)"
   ]
  },
  {
   "cell_type": "code",
   "execution_count": null,
   "id": "f131a5f12e8acff6",
   "metadata": {
    "collapsed": false
   },
   "outputs": [],
   "source": [
    "SP.datasetbeh_extract_dataset().Dat[\"trialcode\"]"
   ]
  },
  {
   "cell_type": "code",
   "execution_count": null,
   "id": "1572208ce7580809",
   "metadata": {
    "collapsed": false
   },
   "outputs": [],
   "source": [
    "SP.DS = None"
   ]
  },
  {
   "cell_type": "code",
   "execution_count": null,
   "id": "56c87d8dd56454d2",
   "metadata": {
    "collapsed": false
   },
   "outputs": [],
   "source": [
    "SP.datasetbeh_extract_dataset(\"datstrokes\").Dat[\"trialcode\"]"
   ]
  },
  {
   "cell_type": "code",
   "execution_count": null,
   "id": "7d9bd7d8653e7307",
   "metadata": {
    "collapsed": false
   },
   "outputs": [],
   "source": [
    "[tc for tc in SP.DS.Dat[\"trialcode\"] if tc in SP.datasetbeh_extract_dataset().Dat[\"trialcode\"].tolist()]"
   ]
  },
  {
   "cell_type": "code",
   "execution_count": null,
   "id": "f2ebcf75b4112450",
   "metadata": {
    "collapsed": false
   },
   "outputs": [],
   "source": [
    "# dataset preprocess\n",
    "ANALYVER = \"rulesingle\"\n",
    "D, list_features_extraction = SP.datasetbeh_preprocess_clean_by_expt(\n",
    "    ANALY_VER=ANALYVER, vars_extract_append=[])\n",
    "\n"
   ]
  },
  {
   "cell_type": "code",
   "execution_count": null,
   "id": "570429de042bfba7",
   "metadata": {
    "collapsed": false
   },
   "outputs": [],
   "source": [
    "D = SP.datasetbeh_extract_dataset().copy()"
   ]
  },
  {
   "cell_type": "code",
   "execution_count": null,
   "id": "e68a8ce50191ca46",
   "metadata": {
    "collapsed": false
   },
   "outputs": [],
   "source": [
    "DS = SP.datasetbeh_extract_dataset(\"datstrokes\")"
   ]
  },
  {
   "cell_type": "code",
   "execution_count": null,
   "id": "2b10337e094c1226",
   "metadata": {
    "collapsed": false
   },
   "outputs": [],
   "source": [
    "DS.Dat[\"trialcode\"]"
   ]
  },
  {
   "cell_type": "code",
   "execution_count": null,
   "id": "2fbf8e0486cc00fe",
   "metadata": {
    "collapsed": false
   },
   "outputs": [],
   "source": [
    "DS.dataset_slice_by(\"trialcode\", [\"230817-1-1\"])"
   ]
  },
  {
   "cell_type": "code",
   "execution_count": null,
   "id": "c62ba5e4fe363067",
   "metadata": {
    "collapsed": false
   },
   "outputs": [],
   "source": [
    "D.grammarparses_successbinary_score()"
   ]
  },
  {
   "cell_type": "code",
   "execution_count": null,
   "id": "ff0958cbe489bc8d",
   "metadata": {
    "collapsed": false
   },
   "outputs": [],
   "source": [
    "D.preprocessGood(params=['remove_baseline', 'correct_sequencing_binary_score', 'one_to_one_beh_task_strokes', 'beh_strokes_at_least_one'])"
   ]
  },
  {
   "cell_type": "code",
   "execution_count": null,
   "id": "e06b725b234f8367",
   "metadata": {
    "collapsed": false
   },
   "outputs": [],
   "source": [
    "d = DS.Dataset\n",
    "d.taskclass_tokens_extract_wrapper(22, \"beh_using_task_data\")"
   ]
  },
  {
   "cell_type": "code",
   "execution_count": null,
   "id": "775265cec37d2603",
   "metadata": {
    "collapsed": false
   },
   "outputs": [],
   "source": [
    "### TODO:\n",
    "# 1) in if params[\"datasetstrokes_extract_chunks_variables,(anova params) --> regenerate DS, since it needs to use the tokens from original data, not those in DS.Dat[\"datseg\"] -- OR: extract those tokens and place into DS."
   ]
  },
  {
   "cell_type": "code",
   "execution_count": null,
   "id": "59294cf29fa09d19",
   "metadata": {
    "collapsed": false
   },
   "outputs": [],
   "source": [
    "DS.context_extract_strokeslength_list(1, \"datseg\")"
   ]
  },
  {
   "cell_type": "code",
   "execution_count": null,
   "id": "12f79c2c65fc5b4f",
   "metadata": {
    "collapsed": false
   },
   "outputs": [],
   "source": [
    "DS.context_chunks_assign_columns()"
   ]
  },
  {
   "cell_type": "code",
   "execution_count": null,
   "id": "5c5b565bec4971cd",
   "metadata": {
    "collapsed": false
   },
   "outputs": [],
   "source": [
    "# First, place preprocessed D (from above) into DS.\n",
    "DS.dataset_replace_dataset(D)\n",
    "# Then prune DS to match D.\n",
    "DS.dataset_prune_self_to_match_dataset()\n",
    "\n",
    "# Second, extract chunk variables from Dataset\n",
    "for i in range(len(DS.Dataset.Dat)):\n",
    "    DS.Dataset.grammarparses_taskclass_tokens_assign_chunk_state_each_stroke(i)\n",
    "\n",
    "# Third, extract variables to strokes\n",
    "DS.context_chunks_assign_columns()\n"
   ]
  },
  {
   "cell_type": "code",
   "execution_count": null,
   "id": "893261fe50d8a842",
   "metadata": {
    "collapsed": false
   },
   "outputs": [],
   "source": [
    "D = sn.Datasetbeh.copy()\n",
    "D.tokens_append_to_dataframe_column(force_regenerate=True)\n",
    "D.seqcontext_delete_all_columns()\n"
   ]
  },
  {
   "cell_type": "code",
   "execution_count": null,
   "id": "2b73dc777f7ca222",
   "metadata": {
    "collapsed": false
   },
   "outputs": [],
   "source": [
    "sn.Datasetbeh.taskclass_tokens_extract_wrapper(0, \"beh_using_beh_data\")"
   ]
  },
  {
   "cell_type": "code",
   "execution_count": null,
   "id": "fadc1c0c876ed7c2",
   "metadata": {
    "collapsed": false
   },
   "outputs": [],
   "source": [
    "D.taskclass_tokens_extract_wrapper(0, \"beh_using_beh_data\")"
   ]
  },
  {
   "cell_type": "code",
   "execution_count": null,
   "id": "5a18791bff3f7684",
   "metadata": {
    "collapsed": false
   },
   "outputs": [],
   "source": [
    "D = SP.datasetbeh_extract_dataset()"
   ]
  },
  {
   "cell_type": "code",
   "execution_count": null,
   "id": "73be2305cd1c1f3d",
   "metadata": {
    "collapsed": false
   },
   "outputs": [],
   "source": [
    "# Generate DS"
   ]
  },
  {
   "cell_type": "code",
   "execution_count": null,
   "id": "bea25a4fa07eeb06",
   "metadata": {
    "collapsed": false
   },
   "outputs": [],
   "source": [
    "SP.DfScalar[:2]"
   ]
  },
  {
   "cell_type": "code",
   "execution_count": null,
   "id": "e25a3c155dfdbbc",
   "metadata": {
    "collapsed": false
   },
   "outputs": [],
   "source": [
    "ds = SP.datasetbeh_extract_dataset(\"datstrokes\")\n"
   ]
  },
  {
   "cell_type": "markdown",
   "id": "af7bf5edc36e5eb2",
   "metadata": {
    "collapsed": false
   },
   "source": [
    "##### TO TEST (after new changes to SP)"
   ]
  },
  {
   "cell_type": "code",
   "execution_count": null,
   "id": "13b1a6dd5a12f746",
   "metadata": {
    "collapsed": false
   },
   "outputs": [],
   "source": [
    "# Strokes --> where is DS and is it compativ with D\n",
    "# Plotting"
   ]
  },
  {
   "cell_type": "code",
   "execution_count": null,
   "id": "bd2bae0691f460ff",
   "metadata": {
    "collapsed": false
   },
   "outputs": [],
   "source": [
    "# Pop --> no thrown out data.\n",
    "from neuralmonkey.classes.population_mult import dfallpa_extraction_load_wrapper_from_MS\n",
    "EVENTS_KEEP = [\"03_samp\", \"04_go_cue\"]\n",
    "DFallpa = dfallpa_extractdion_load_wrapper_from_MS(MS, question, [(-0.6, 0.6)], which_level,\n",
    "                                        EVENTS_KEEP, REGENERATE_SNIPPETS=True)"
   ]
  },
  {
   "cell_type": "code",
   "execution_count": null,
   "id": "4234faf4225fc4dc",
   "metadata": {
    "collapsed": false
   },
   "outputs": [],
   "source": [
    "# DEBUGGING ABOVE's dfallpa_extraction_load_wrapper_from_MS\n",
    "from pythonlib.tools.pandastools import grouping_count_n_samples_quick, grouping_count_n_samples\n",
    "# grouping_count_n_samples_quick(SP.DfScalar, [\"event\", \"index_datapt\"])\n",
    "grpdict = grouping_count_n_samples(SP.DfScalar, [\"event\", \"index_datapt\"])\n",
    "print([min(grpdict), max(grpdict)])\n",
    "\n",
    "PA, _ = SP.dataextract_as_popanal_statespace(SP.Sites, \"04_go_cue\")\n",
    "SP.dataextract_as_popanal_good(SP.DfScalar, )"
   ]
  },
  {
   "cell_type": "code",
   "execution_count": null,
   "id": "8c68688f3c297e79",
   "metadata": {
    "collapsed": false
   },
   "outputs": [],
   "source": [
    "pa = DFallpa[\"pa\"].values[0]\n",
    "pa.plotNeurHeat(0)\n"
   ]
  },
  {
   "cell_type": "markdown",
   "id": "f0143d312c59f7",
   "metadata": {
    "collapsed": false
   },
   "source": [
    "# Substroke snippets extract"
   ]
  },
  {
   "cell_type": "code",
   "execution_count": null,
   "id": "583ff03ca0fd2d6f",
   "metadata": {
    "collapsed": false
   },
   "outputs": [],
   "source": [
    "from neuralmonkey.classes.snippets import extraction_helper\n",
    "which_level = \"substroke\"\n",
    "SP = extraction_helper(sn, which_level, PRE_DUR=-0.1, POST_DUR=0.1)\n"
   ]
  },
  {
   "cell_type": "markdown",
   "id": "63f9fb731c69e035",
   "metadata": {
    "collapsed": false
   },
   "source": [
    "### Plots"
   ]
  },
  {
   "cell_type": "code",
   "execution_count": null,
   "id": "ec8baa575df8eecd",
   "metadata": {
    "collapsed": false
   },
   "outputs": [],
   "source": [
    "SP.sitegetter_map_region_to_sites(\"vlPFC_p\")"
   ]
  },
  {
   "cell_type": "code",
   "execution_count": null,
   "id": "597504f2c345d483",
   "metadata": {
    "collapsed": false
   },
   "outputs": [],
   "source": [
    "site = 281\n",
    "var = \"epoch\"\n",
    "vars_others = [\"stroke_index_is_first\", \"stroke_index_is_last_tskstks\", \"CTXT_locoffclust_prev\", \"CTXT_shape_prev\", \"shape\", \"loc_on_clust\"]\n",
    "# vars_others = [\"stroke_index_is_first\", \"stroke_index_is_last_tskstks\", \"CTXT_locoffclust_prev\",\n",
    "#                                  \"shape\", \"loc_on_clust\", \"CTXT_shape_prev\", \"CTXT_loconclust_next\", \"chunk_rank\",\n",
    "#                                  \"chunk_within_rank_semantic\"]\n",
    "plotvers = [\"smfr\"]\n",
    "suffix = 1\n",
    "fig, axesall = SP.plotgood_rasters_smfr_each_level_combined(site, var, vars_others, event=\"00_stroke\", plotvers=plotvers)\n",
    "\n",
    "from pythonlib.tools.plottools import savefig\n",
    "savefig(fig, f\"/tmp/test-{suffix}.pdf\")"
   ]
  },
  {
   "cell_type": "code",
   "execution_count": null,
   "id": "4190d55c3a948ad7",
   "metadata": {
    "collapsed": false
   },
   "outputs": [],
   "source": [
    "site = 273\n",
    "var = \"chunk_rank\"\n",
    "vars_others = [\"epoch\", \"CTXT_loc_prev\", \"shape\", \"gridloc\"]\n",
    "plotvers = [\"smfr\"]\n",
    "suffix = 1\n",
    "fig, axesall = SP.plotgood_rasters_smfr_each_level_combined(site, var, vars_others, event=\"00_stroke\", plotvers=plotvers)\n",
    "\n",
    "from pythonlib.tools.plottools import savefig\n",
    "savefig(fig, f\"/tmp/test-{suffix}.pdf\")"
   ]
  },
  {
   "cell_type": "code",
   "execution_count": null,
   "id": "5e6b841c17592aa",
   "metadata": {
    "collapsed": false
   },
   "outputs": [],
   "source": [
    "site = 273\n",
    "var = \"CTXT_shape_next\"\n",
    "vars_others = [\"task_kind\", \"CTXT_loc_prev\", \"shape\", \"gridloc\", \"CTXT_loc_next\"]\n",
    "plotvers = [\"smfr\"]\n",
    "suffix = 1\n",
    "fig, axesall = SP.plotgood_rasters_smfr_each_level_combined(site, var, vars_others, event=\"00_stroke\", plotvers=plotvers)\n",
    "\n",
    "from pythonlib.tools.plottools import savefig\n",
    "savefig(fig, f\"/tmp/test-{suffix}.pdf\")"
   ]
  },
  {
   "cell_type": "code",
   "execution_count": null,
   "id": "602d7334e64c325b",
   "metadata": {
    "collapsed": false
   },
   "outputs": [],
   "source": [
    "var = \"CTXT_shape_next\"\n",
    "vars_others = [\"task_kind\", \"stroke_index\", \"shape\", \"gridloc\", \"CTXT_loc_next\"]\n",
    "suffix = 2\n",
    "fig, axesall = SP.plotgood_rasters_smfr_each_level_combined(site, var, vars_others, event=\"00_stroke\", plotvers=plotvers)\n",
    "\n",
    "savefig(fig, f\"/tmp/test-{suffix}.pdf\")"
   ]
  },
  {
   "cell_type": "code",
   "execution_count": null,
   "id": "85407efeb51ec353",
   "metadata": {
    "collapsed": false
   },
   "outputs": [],
   "source": [
    "site = 274\n",
    "var = \"CTXT_shape_next\"\n",
    "vars_others = [\"task_kind\", \"gridloc\", \"CTXT_loc_prev\", \"shape\"]\n",
    "suffix = 2\n",
    "fig, axesall = SP.plotgood_rasters_smfr_each_level_combined(site, var, vars_others, event=\"00_stroke\", plotvers=plotvers)\n",
    "\n",
    "savefig(fig, f\"/tmp/test-{suffix}.pdf\")"
   ]
  },
  {
   "cell_type": "code",
   "execution_count": null,
   "id": "23b7cceef681ce48",
   "metadata": {
    "collapsed": false
   },
   "outputs": [],
   "source": [
    "site = 274\n",
    "var = \"stroke_index\"\n",
    "vars_others = [\"task_kind\", \"gridloc\", \"CTXT_loc_prev\", \"shape\"]\n",
    "suffix = 2\n",
    "fig, axesall = SP.plotgood_rasters_smfr_each_level_combined(site, var, vars_others, event=\"00_stroke\", plotvers=plotvers)\n",
    "\n",
    "savefig(fig, f\"/tmp/test-{suffix}.pdf\")"
   ]
  },
  {
   "cell_type": "markdown",
   "id": "ad104c1b331d0f69",
   "metadata": {
    "collapsed": false
   },
   "source": [
    "# Stroke snippets"
   ]
  },
  {
   "cell_type": "code",
   "execution_count": null,
   "id": "4e03f0cc57e4d2de",
   "metadata": {
    "collapsed": false
   },
   "outputs": [],
   "source": [
    "which_level = \"stroke\"\n",
    "SP = extraction_helper(sn, which_level, PRE_DUR=-0.6, POST_DUR=0.6)\n",
    "\n",
    "\n",
    "# # == MODIFY THESE:\n",
    "# list_pre_dur = [-0.2]\n",
    "# list_post_dur = [0.4]\n",
    "# # list_pre_dur = [-0.5]\n",
    "# # list_post_dur = [0.5]\n",
    "# # which_level = \"stroke_off\"\n",
    "# which_level = \"stroke\"\n",
    "# \n",
    "# # == IGNORE THESE:\n",
    "# strokes_only_keep_single = False # if True, then prunes dataset, removing trials \"remove_if_multiple_behstrokes_per_taskstroke\"\n",
    "# prune_feature_levels_min_n_trials = 1 \n",
    "# list_events = [] # must be empty\n",
    "# list_features_extraction = []\n",
    "# list_features_get_conjunction = []\n",
    "# trials_prune_just_those_including_events=False\n",
    "# \n",
    "# SP = Snippets(sn,\n",
    "#     which_level,\n",
    "#     list_events,\n",
    "#     list_features_extraction,\n",
    "#     list_features_get_conjunction,\n",
    "#     list_pre_dur,\n",
    "#     list_post_dur,\n",
    "#     strokes_only_keep_single=strokes_only_keep_single,\n",
    "#     tasks_only_keep_these=None,\n",
    "#     prune_feature_levels_min_n_trials=prune_feature_levels_min_n_trials,\n",
    "#     dataset_pruned_for_trial_analysis=None,\n",
    "#     trials_prune_just_those_including_events=trials_prune_just_those_including_events,\n",
    "#     fr_which_version='sqrt',\n",
    "#     NEW_VERSION=True,\n",
    "#     SKIP_DATA_EXTRACTION=False\n",
    "#              )\n"
   ]
  },
  {
   "cell_type": "markdown",
   "id": "e39e027d7c744294",
   "metadata": {
    "collapsed": false
   },
   "source": [
    "# Flex snippets"
   ]
  },
  {
   "cell_type": "code",
   "execution_count": null,
   "id": "376db5e35de0b5c8",
   "metadata": {
    "collapsed": false
   },
   "outputs": [],
   "source": [
    "# Main code for extracting Snippets (SP)\n",
    "\n",
    "assert False, \"incorporate into extraction_helper\"\n",
    "# == MODIFY THESE:\n",
    "list_events = [\"go\"]\n",
    "list_pre_dur = [-0.5]\n",
    "list_post_dur = [0.5]\n",
    "\n",
    "# == IGNORE THESE:\n",
    "which_level = \"flex\"\n",
    "list_features_extraction = []\n",
    "list_features_get_conjunction = []\n",
    "trials_prune_just_those_including_events=False\n",
    "\n",
    "SP = Snippets(sn,\n",
    "    which_level,\n",
    "    list_events,\n",
    "    list_features_extraction,\n",
    "    list_features_get_conjunction,\n",
    "    list_pre_dur,\n",
    "    list_post_dur,\n",
    "    strokes_only_keep_single=False,\n",
    "    tasks_only_keep_these=None,\n",
    "    prune_feature_levels_min_n_trials=None,\n",
    "    dataset_pruned_for_trial_analysis=None,\n",
    "    trials_prune_just_those_including_events=trials_prune_just_those_including_events,\n",
    "    fr_which_version='sqrt',\n",
    "    NEW_VERSION=True,\n",
    "    SKIP_DATA_EXTRACTION=False\n",
    "             )\n"
   ]
  },
  {
   "cell_type": "code",
   "execution_count": null,
   "id": "7034689c6cfa7baf",
   "metadata": {
    "collapsed": false
   },
   "outputs": [],
   "source": [
    "# Inspect the data. \n",
    "# Each row represents a single combination of:\n",
    "# (trial, chan, event). To see that, inspect the output of \n",
    "\n",
    "display(SP.DfScalar)\n",
    "\n",
    "from pythonlib.tools.pandastools import grouping_print_n_samples\n",
    "grouping_print_n_samples(SP.DfScalar, [\"trialcode\", \"chan\", \"event_aligned\"])\n"
   ]
  },
  {
   "cell_type": "markdown",
   "id": "c16e657c6542b125",
   "metadata": {
    "collapsed": false
   },
   "source": [
    "# Trial Snippets"
   ]
  },
  {
   "cell_type": "code",
   "execution_count": null,
   "id": "c2c491a6a7cc9580",
   "metadata": {
    "collapsed": false
   },
   "outputs": [],
   "source": [
    "which_level = \"trial\"\n",
    "SP = extraction_helper(sn, which_level, PRE_DUR=-0.6, POST_DUR=0.6)\n"
   ]
  },
  {
   "cell_type": "markdown",
   "id": "8e72ff6e565888a",
   "metadata": {
    "collapsed": false
   },
   "source": [
    "# Load pre-computed Snippets"
   ]
  },
  {
   "cell_type": "code",
   "execution_count": null,
   "id": "29629f72c8823d45",
   "metadata": {
    "collapsed": false
   },
   "outputs": [],
   "source": [
    "from neuralmonkey.classes.snippets import load_and_concat_mult_snippets\n",
    "from neuralmonkey.classes.session import load_mult_session_helper\n"
   ]
  },
  {
   "cell_type": "code",
   "execution_count": null,
   "id": "6611eaf71ac6fbda",
   "metadata": {
    "collapsed": false
   },
   "outputs": [],
   "source": [
    "# DATE = 230630\n",
    "# animal = \"Diego\"\n",
    "DATE = 230126\n",
    "animal = \"Pancho\"\n",
    "spikes_version = \"tdt\"\n",
    "MS = load_mult_session_helper(DATE, animal, MINIMAL_LOADING=True, spikes_version=spikes_version) \n",
    "# MS = load_mult_session_helper(DATE, animal, MINIMAL_LOADING=True, spikes_version=\"tdt\") "
   ]
  },
  {
   "cell_type": "code",
   "execution_count": null,
   "id": "d1e30ffab2836139",
   "metadata": {
    "collapsed": false
   },
   "outputs": [],
   "source": [
    "which_level = \"trial\"\n",
    "EVENTS_KEEP = [\"samp\"] # 03_samp\n",
    "SP, SAVEDIR_ALL = load_and_concat_mult_snippets(MS, which_level = which_level, events_keep=EVENTS_KEEP,\n",
    "    DEBUG=False)\n"
   ]
  },
  {
   "cell_type": "code",
   "execution_count": null,
   "id": "d79c2271b6851d96",
   "metadata": {
    "collapsed": false
   },
   "outputs": [],
   "source": [
    "Dgood, _ = SP.datasetbeh_preprocess_clean_by_expt(\"chartrial\", [])"
   ]
  },
  {
   "cell_type": "code",
   "execution_count": null,
   "id": "b410b6f3ff690cfd",
   "metadata": {
    "collapsed": false
   },
   "outputs": [],
   "source": [
    "SP.DfScalar[\"seqc_0_shape\"].unique()"
   ]
  },
  {
   "cell_type": "code",
   "execution_count": null,
   "id": "d85e00d6bf36e27f",
   "metadata": {
    "collapsed": false
   },
   "outputs": [],
   "source": [
    "D = SP.datasetbeh_extract_dataset()\n",
    "D.seqcontext_preprocess()\n",
    "SP.datasetbeh_append_column_helper([\"seqc_0_shape\", \"task_kind\"])"
   ]
  },
  {
   "cell_type": "code",
   "execution_count": null,
   "id": "fa074f88",
   "metadata": {},
   "outputs": [],
   "source": [
    "SP.datasetbeh_append_column_helper([\"seqc_0_shape\", \"gridsize\"])"
   ]
  },
  {
   "cell_type": "code",
   "execution_count": null,
   "id": "21725b85",
   "metadata": {},
   "outputs": [],
   "source": [
    "SP.Sites"
   ]
  },
  {
   "cell_type": "code",
   "execution_count": null,
   "id": "399fad3e3f01b396",
   "metadata": {
    "collapsed": false
   },
   "outputs": [],
   "source": [
    "site = 1238\n",
    "SP.plotgood_rasters_smfr_each_level_combined(site, var=\"seqc_0_shape\", vars_others=[\"gridsize\"], event=\"03_samp\", \n",
    "                                             OVERWRITE_n_min=5,\n",
    "                                                  OVERWRITE_lenient_n=1, balance_same_levels_across_ovar=True)"
   ]
  },
  {
   "cell_type": "code",
   "execution_count": null,
   "id": "aeb62197a552682",
   "metadata": {
    "collapsed": false
   },
   "outputs": [],
   "source": [
    "SP.datasetbeh_append_column(\"epoch\")"
   ]
  },
  {
   "cell_type": "code",
   "execution_count": null,
   "id": "36713d86ebef8e38",
   "metadata": {
    "collapsed": false
   },
   "outputs": [],
   "source": [
    "D = SP.datasetbeh_extract_dataset()\n",
    "D.seqcontext_preprocess()"
   ]
  },
  {
   "cell_type": "code",
   "execution_count": null,
   "id": "7103e31bcad5c418",
   "metadata": {
    "collapsed": false
   },
   "outputs": [],
   "source": [
    "del SP.DfScalar[\"seqc_0_shape\"]"
   ]
  },
  {
   "cell_type": "code",
   "execution_count": null,
   "id": "f3229659ddb68f1d",
   "metadata": {
    "collapsed": false
   },
   "outputs": [],
   "source": [
    "SP.datasetbeh_append_column_helper([\"seqc_0_shape\"])\n",
    "\n",
    "from pythonlib.tools.pandastools import replace_values_with_this\n",
    "\n",
    "# if \"seqc_0_loc\" in SP.DfScalar.columns:\n",
    "#     replace_values_with_this(SP.DfScalar, \"seqc_0_loc\", None, (\"IGN\", \"IGN\"))"
   ]
  },
  {
   "cell_type": "code",
   "execution_count": null,
   "id": "43d221c122b8834e",
   "metadata": {
    "collapsed": false
   },
   "outputs": [],
   "source": [
    "SP.DfScalar[\"shape_this_event\"] = SP.DfScalar[\"seqc_0_shape\"]\n"
   ]
  },
  {
   "cell_type": "code",
   "execution_count": null,
   "id": "67f3fc1a5e355959",
   "metadata": {
    "collapsed": false
   },
   "outputs": [],
   "source": [
    "SP.DfScalar\n"
   ]
  },
  {
   "cell_type": "code",
   "execution_count": null,
   "id": "927160d3aec914bb",
   "metadata": {
    "collapsed": false
   },
   "outputs": [],
   "source": []
  },
  {
   "cell_type": "code",
   "execution_count": null,
   "id": "15f19f401a2ea024",
   "metadata": {
    "collapsed": false
   },
   "outputs": [],
   "source": [
    "SP.datasetbeh_append_column_helper([\"seqc_0_shape\", \"seqc_0_loc\"])"
   ]
  },
  {
   "cell_type": "code",
   "execution_count": null,
   "id": "1ae170a935270b41",
   "metadata": {
    "collapsed": false
   },
   "outputs": [],
   "source": [
    "columns = [\"seqc_0_shape\", \"seqc_0_loc\", \"taskconfig_loc\", \"shape_semantic_labels\"]\n",
    "SP.DfScalar.loc[:, columns]\n",
    "df1 = SP.DfScalar.loc[:, columns].copy()\n",
    "for col in columns:\n",
    "    del SP.DfScalar[col]\n",
    "    \n",
    "for col in columns:\n",
    "    SP.datasetbeh_append_column(col, Dataset=Dgood)\n",
    "df2 = SP.DfScalar.loc[:, columns].copy()\n",
    "\n",
    "np.all(df1==df2)"
   ]
  },
  {
   "cell_type": "markdown",
   "id": "96768e4264e3fd1a",
   "metadata": {
    "collapsed": false
   },
   "source": [
    "##### FIxing methods for concating Dataset across snippetsb"
   ]
  },
  {
   "cell_type": "code",
   "execution_count": null,
   "id": "f49fb70e9f74f340",
   "metadata": {
    "collapsed": false
   },
   "outputs": [],
   "source": [
    "\n",
    "SP.DS.Dat[\"gridloc\"] = None\n",
    "SP.DS.Dat[\"gridloc\"]"
   ]
  },
  {
   "cell_type": "code",
   "execution_count": null,
   "id": "72f4c66686a8fffd",
   "metadata": {
    "collapsed": false
   },
   "outputs": [],
   "source": [
    "df = SP.DfScalar\n",
    "from pythonlib.tools.pandastools import extract_with_levels_of_conjunction_vars\n",
    "\n",
    "extract_with_levels_of_conjunction_vars()"
   ]
  },
  {
   "cell_type": "code",
   "execution_count": null,
   "id": "53fc1ec9d3bdbe0b",
   "metadata": {
    "collapsed": false
   },
   "outputs": [],
   "source": [
    "\n",
    "SP.DfScalar[:5]"
   ]
  },
  {
   "cell_type": "code",
   "execution_count": null,
   "id": "6271181acd992b05",
   "metadata": {
    "collapsed": false
   },
   "outputs": [],
   "source": [
    "\n",
    "SP.DS.Dat[\"gridloc\"][40:50]"
   ]
  },
  {
   "cell_type": "code",
   "execution_count": null,
   "id": "991060cc4e4b2d1b",
   "metadata": {
    "collapsed": false
   },
   "outputs": [],
   "source": [
    "SP.DS.clean_preprocess_if_reloaded()"
   ]
  },
  {
   "cell_type": "code",
   "execution_count": null,
   "id": "cc3a790c15b29f51",
   "metadata": {
    "collapsed": false
   },
   "outputs": [],
   "source": [
    "SP.DS.Dat[\"gridloc\"][40:50]\n"
   ]
  },
  {
   "cell_type": "code",
   "execution_count": null,
   "id": "6ef988f7f1d7313e",
   "metadata": {
    "collapsed": false
   },
   "outputs": [],
   "source": [
    "SP.DS.Dat[1740:1760]"
   ]
  },
  {
   "cell_type": "code",
   "execution_count": null,
   "id": "505e4071d1c51b1f",
   "metadata": {
    "collapsed": false
   },
   "outputs": [],
   "source": [
    "list_sn = SP._session_extract_all()\n",
    "for sn in list_sn:\n",
    "    sn.Datasetbeh.TokensVersion = \"test\"\n",
    "    sn.Datasetbeh.Tokens = {tc:None for tc in sn.Datasetbeh.Dat[\"trialcode\"]}\n",
    "    print(sn.Datasetbeh.TokensVersion)\n",
    "sn.Datasetbeh.TokensVersion = \"test\"\n"
   ]
  },
  {
   "cell_type": "code",
   "execution_count": null,
   "id": "d48bd095e51021a6",
   "metadata": {
    "collapsed": false
   },
   "outputs": [],
   "source": [
    "%%timeit\n",
    "D = SP.datasetbeh_extract_dataset()\n",
    "D.TokensVersion"
   ]
  },
  {
   "cell_type": "code",
   "execution_count": null,
   "id": "2857e9e48f6db12b",
   "metadata": {
    "collapsed": false
   },
   "outputs": [],
   "source": []
  },
  {
   "cell_type": "code",
   "execution_count": null,
   "id": "556ea702cce01c9b",
   "metadata": {
    "collapsed": false
   },
   "outputs": [],
   "source": [
    "SP.DS.Dat[:2]"
   ]
  },
  {
   "cell_type": "code",
   "execution_count": null,
   "id": "f834053f37bd8ffb",
   "metadata": {
    "collapsed": false
   },
   "outputs": [],
   "source": [
    "SP.DS.Dat[SP.DS.Dat.isnull()]"
   ]
  },
  {
   "cell_type": "code",
   "execution_count": null,
   "id": "fe6ae21f70d2a597",
   "metadata": {
    "collapsed": false
   },
   "outputs": [],
   "source": [
    "# Specify the columns where you want to replace None values\n",
    "columns_to_update = ['A', 'B']\n",
    "\n",
    "# Replace None with 'IGNORE' in the specified columns\n",
    "for column in columns_to_update:\n",
    "    df.loc[df[column].isna(), column] = 'IGNORE'\n",
    "\n",
    "# Display the updated DataFrame\n",
    "display(df)"
   ]
  },
  {
   "cell_type": "code",
   "execution_count": null,
   "id": "49b0ee354c85f0b0",
   "metadata": {
    "collapsed": false
   },
   "outputs": [],
   "source": [
    "sum(df[\"B\"]==(None, None))"
   ]
  },
  {
   "cell_type": "code",
   "execution_count": null,
   "id": "c54c2deeca8a4baf",
   "metadata": {
    "collapsed": false
   },
   "outputs": [],
   "source": [
    "import pandas as pd\n",
    "import numpy as np\n",
    "data = {\n",
    "    'A': [1, None, 3, 4],\n",
    "    'B': ['x', 'y', None, (None, None)],\n",
    "    'C': [None, None, 'foo', 'bar']\n",
    "}\n",
    "\n",
    "df = pd.DataFrame(data)\n",
    "display(df)\n",
    "\n",
    "value_template = \"x\"\n",
    "# value_template = (None, None)\n",
    "# replace_with = (\"IGN\", \"IGN\")\n",
    "replace_with = \"IGN\"\n",
    "replace_values_with_this(df, \"B\", value_template, replace_with)\n",
    "display(df)"
   ]
  },
  {
   "cell_type": "code",
   "execution_count": null,
   "id": "6bc4de3a15c20721",
   "metadata": {
    "collapsed": false
   },
   "outputs": [],
   "source": [
    "from pythonlib.tools.pandastools import replace_values_with_this\n",
    "df = SP.DS.Dat\n",
    "columns_to_update = ['gridloc', 'gridloc_local', 'CTXT_loc_prev', 'CTXT_loc_prev_local', 'CTXT_loc_next', 'CTXT_loc_next_local']\n",
    "replace_with = (\"IGN\", \"IGN\")\n",
    "for column in columns_to_update:\n",
    "    replace_values_with_this(df, column, None, replace_with)\n",
    "    replace_values_with_this(df, column, (None, None), replace_with)\n",
    "\n",
    "columns_to_update = ['gridloc_x', 'gridloc_y']\n",
    "replace_with = \"IGN\"\n",
    "for column in columns_to_update:\n",
    "    replace_values_with_this(df, column, None, replace_with)\n",
    "    replace_values_with_this(df, column, (None,), replace_with)\n",
    "    \n"
   ]
  },
  {
   "cell_type": "code",
   "execution_count": null,
   "id": "721519588d922062",
   "metadata": {
    "collapsed": false
   },
   "outputs": [],
   "source": [
    "[col for col in SP.DS.Dat.columns if \"shape\" in col]"
   ]
  },
  {
   "cell_type": "code",
   "execution_count": null,
   "id": "dba9468f39a91953",
   "metadata": {
    "collapsed": false
   },
   "outputs": [],
   "source": [
    "SP.DS.Dat[\"CTXT_shape_next\"]"
   ]
  },
  {
   "cell_type": "code",
   "execution_count": null,
   "id": "5a2c4636c8b1ab25",
   "metadata": {
    "collapsed": false
   },
   "outputs": [],
   "source": [
    "\n",
    "\n",
    "                     \n",
    " 'CTXT_locshape_next',\n",
    " 'CTXT_locshape_prev',\n",
    " 'velocity']]\n",
    "for column in columns_to_update:\n",
    "    df.loc[df[column].isna(), column] = 'IGNORE'\n"
   ]
  },
  {
   "cell_type": "code",
   "execution_count": null,
   "id": "3bb1cb6e4fd27b67",
   "metadata": {
    "collapsed": false
   },
   "outputs": [],
   "source": [
    "%%timeit\n",
    "SP.datasetbeh_extract_dataset(\"datstrokes\")"
   ]
  },
  {
   "cell_type": "code",
   "execution_count": null,
   "id": "24018f19e45b5b57",
   "metadata": {
    "collapsed": false
   },
   "outputs": [],
   "source": [
    "SP"
   ]
  },
  {
   "cell_type": "markdown",
   "id": "68c06b83fdbd35a5",
   "metadata": {
    "collapsed": false
   },
   "source": [
    "# Doing things with Snippets"
   ]
  },
  {
   "cell_type": "markdown",
   "id": "93c3ff99fc9a02dc",
   "metadata": {
    "collapsed": false
   },
   "source": [
    "### Strokes SP --> Reclassify events based on stroke index. Then extract multiple pa, one for each stroke index"
   ]
  },
  {
   "cell_type": "code",
   "execution_count": null,
   "id": "83bd3951e7494e64",
   "metadata": {
    "collapsed": false
   },
   "outputs": [],
   "source": [
    "##### Entire pipeline\n",
    "from neuralmonkey.classes.population_mult import dfallpa_extraction_load_wrapper_combine_trial_strokes\n",
    "animal = \"Diego\"\n",
    "date = 230630\n",
    "question_trial = \"PIG_BASE_trial\"\n",
    "question_stroke = \"PIG_BASE_stroke\"\n",
    "list_time_windows = [(-0.6, 0.6)]\n",
    "combine_into_larger_areas = True\n",
    "HACK_RENAME_SHAPES = False\n",
    "exclude_bad_areas=True\n",
    "strokes_split_into_multiple_pa = True\n",
    "DFallpaALL = dfallpa_extraction_load_wrapper_combine_trial_strokes(animal, date, question_trial,\n",
    "                                                                   question_stroke,\n",
    "                                            list_time_windows,\n",
    "                                                       combine_into_larger_areas = combine_into_larger_areas, exclude_bad_areas=exclude_bad_areas,\n",
    "                                            SPIKES_VERSION=\"tdt\",\n",
    "                                            HACK_RENAME_SHAPES = HACK_RENAME_SHAPES)"
   ]
  },
  {
   "cell_type": "code",
   "execution_count": null,
   "id": "148703efbcd5914c",
   "metadata": {
    "collapsed": false
   },
   "outputs": [],
   "source": [
    "DFallpaALL[\"event\"].value_counts()"
   ]
  },
  {
   "cell_type": "code",
   "execution_count": null,
   "id": "a6624e656aba0d7a",
   "metadata": {
    "collapsed": false
   },
   "outputs": [],
   "source": [
    "pa = DFallpaALL[\"pa\"].values[0]\n",
    "pa.Xlabels[\"trials\"][\"seqc_5_shape\"]\n"
   ]
  },
  {
   "cell_type": "code",
   "execution_count": null,
   "id": "7bd898c1d25127fb",
   "metadata": {
    "collapsed": false
   },
   "outputs": [],
   "source": [
    "pa = DFallpaALL[\"pa\"].values[-1]\n",
    "\n",
    "# Figure out how long is seuqence\n",
    "n_strokes_max = -1\n",
    "for i in range(8):\n",
    "    n_ignore = sum(pa.Xlabels[\"trials\"][f\"seqc_{i}_shape\"]==\"IGNORE\")\n",
    "    n_total = len(pa.Xlabels[\"trials\"][f\"seqc_{i}_shape\"])\n",
    "    print(n_ignore, n_total)\n",
    "    if n_ignore<n_total:\n",
    "        n_strokes_max=i+1\n",
    "assert n_strokes_max>0\n",
    "print(n_strokes_max)\n",
    "\n"
   ]
  },
  {
   "cell_type": "markdown",
   "id": "a45a298e1f4a8b78",
   "metadata": {
    "collapsed": false
   },
   "source": [
    "### [Substrokes] - extract continuous motor variables ( methods to get substroke motor bin and context)"
   ]
  },
  {
   "cell_type": "code",
   "execution_count": null,
   "id": "1ff492e622c8f714",
   "metadata": {
    "collapsed": false
   },
   "outputs": [],
   "source": [
    "SP.datasetbeh_preprocess_clean_by_expt(\"substrokes_sp\", [])\n",
    "# Extract motor variables (DS)\n",
    "DS = SP.datasetbeh_extract_dataset(\"datstrokes\").copy()"
   ]
  },
  {
   "cell_type": "code",
   "execution_count": null,
   "id": "d047a39d976c71b0",
   "metadata": {
    "collapsed": false
   },
   "outputs": [],
   "source": [
    "\n",
    "from pythonlib.dataset.substrokes import features_motor_extract_and_bin\n",
    "features_motor_extract_and_bin(DS, \"/tmp\")\n"
   ]
  },
  {
   "cell_type": "code",
   "execution_count": null,
   "id": "f5809ac2921622a5",
   "metadata": {
    "collapsed": false
   },
   "outputs": [],
   "source": []
  },
  {
   "cell_type": "markdown",
   "id": "3dc4e6a0eef3926d",
   "metadata": {
    "collapsed": false
   },
   "source": [
    "##### Getting substroke sequential context"
   ]
  },
  {
   "cell_type": "code",
   "execution_count": null,
   "id": "7efd7acf9837e65f",
   "metadata": {
    "collapsed": false
   },
   "outputs": [],
   "source": [
    "# How mnay cases with variation in shapes, conditioned on substroke motor, including context.\n",
    "\n",
    "from pythonlib.tools.pandastools import extract_with_levels_of_conjunction_vars\n",
    "var = \"shape_idxwithin\"\n",
    "vars_others = [\"di_an_ci_ve_bin\", \"CTXT_prev_this_next\"]\n",
    "extract_with_levels_of_conjunction_vars(DS.Dat, var, vars_others, n_min_across_all_levs_var=2, \n",
    "                                        lenient_allow_data_if_has_n_levels=2, prune_levels_with_low_n=True, plot_counts_heatmap_savepath=\"/tmp/test.png\")\n"
   ]
  },
  {
   "cell_type": "code",
   "execution_count": null,
   "id": "47363de32646a72",
   "metadata": {
    "collapsed": false
   },
   "outputs": [],
   "source": [
    "DS.plot_multiple_sorted_by_feature_split_by_othervar(var, vars_others, plot_save_dir=\"/tmp\")"
   ]
  },
  {
   "cell_type": "code",
   "execution_count": null,
   "id": "6b20737483111b6f",
   "metadata": {
    "collapsed": false
   },
   "outputs": [],
   "source": [
    "# Remove all data for which dont have the entire stroke, since then cant look at sequence context\n",
    "DS.clean_preprocess_data([\"dataset_missing_stroke_in_context\"])"
   ]
  },
  {
   "cell_type": "code",
   "execution_count": null,
   "id": "730e020eec88ab3a",
   "metadata": {
    "collapsed": false
   },
   "outputs": [],
   "source": [
    "len(keeps)\n",
    "# len(DS.Dat)"
   ]
  },
  {
   "cell_type": "code",
   "execution_count": null,
   "id": "b95018b27c456e1",
   "metadata": {
    "collapsed": false
   },
   "outputs": [],
   "source": [
    "50/1601"
   ]
  },
  {
   "cell_type": "markdown",
   "id": "fcf228434d2ab86",
   "metadata": {
    "collapsed": false
   },
   "source": [
    "##### Method - from D to substrokes Dataset"
   ]
  },
  {
   "cell_type": "code",
   "execution_count": null,
   "id": "f02d5e1120a753b",
   "metadata": {
    "collapsed": false
   },
   "outputs": [],
   "source": [
    "from pythonlib.dataset.substrokes import load_presaved_using_pipeline\n",
    "DSsubs, Dsubs = load_presaved_using_pipeline(D)"
   ]
  },
  {
   "cell_type": "markdown",
   "id": "34241cad68f62182",
   "metadata": {
    "collapsed": false
   },
   "source": [
    "##### Splitting by n taksstrokes intask"
   ]
  },
  {
   "cell_type": "code",
   "execution_count": null,
   "id": "d713b28c420def0d",
   "metadata": {
    "collapsed": false
   },
   "outputs": [],
   "source": [
    "D = SP.datasetbeh_extract_dataset()\n",
    "D.extract_beh_features([\"num_strokes_task\"])\n",
    "SP.datasetbeh_append_column(\"FEAT_num_strokes_task\", D)\n",
    "# Conjunction of stroke index and num strokes in task.\n",
    "from pythonlib.tools.pandastools import append_col_with_grp_index\n",
    "SP.DfScalar = append_col_with_grp_index(SP.DfScalar, [\"FEAT_num_strokes_task\", \"stroke_index\"], \"nstk_stkidx\", False)\n",
    "SP.DfScalar[\"nstk_stkidx\"].value_counts()\n",
    "\n",
    "SP.DfScalar_OutlierRows = append_col_with_grp_index(SP.DfScalar_OutlierRows, [\"FEAT_num_strokes_task\", \"stroke_index\"], \"nstk_stkidx\", False)\n",
    "SP.DfScalar_OutlierRows[\"nstk_stkidx\"].value_counts()\n",
    "\n"
   ]
  },
  {
   "cell_type": "markdown",
   "id": "1581f9306ff7aee5",
   "metadata": {
    "collapsed": false
   },
   "source": [
    "##### Plotting functions for Snippets"
   ]
  },
  {
   "cell_type": "code",
   "execution_count": null,
   "id": "53f7760d5b702d8c",
   "metadata": {
    "collapsed": false
   },
   "outputs": [],
   "source": [
    "SAVEDIR = \"/gorilla1/analyses/recordings/main/shape_vs_loc_index_PIG\"\n",
    "import os\n",
    "savedir = f\"{SAVEDIR}/{animal}/{DATE}\"\n",
    "os.makedirs(savedir, exist_ok=True)\n",
    "print(savedir)"
   ]
  },
  {
   "cell_type": "code",
   "execution_count": null,
   "id": "19ce3ec11b83e8fc",
   "metadata": {
    "collapsed": false
   },
   "outputs": [],
   "source": [
    "if DEBUG:\n",
    "    # if you debug, then you have small n trials, so lower the threshold for keeping data.\n",
    "    print(SP.ParamsGlobals)1\n",
    "    SP.globals_update(globals_nmin=1)\n"
   ]
  },
  {
   "cell_type": "code",
   "execution_count": null,
   "id": "a346cbba622767ab",
   "metadata": {
    "collapsed": false
   },
   "outputs": [],
   "source": [
    "chan = SP.Sites[0]\n",
    "SP.plotgood_rasters(chan)"
   ]
  },
  {
   "cell_type": "code",
   "execution_count": null,
   "id": "28b2f39b1e8153a1",
   "metadata": {
    "collapsed": false
   },
   "outputs": [],
   "source": [
    "SP.plotgood_rasters_smfr_combined(chan)"
   ]
  },
  {
   "cell_type": "code",
   "execution_count": null,
   "id": "a8fb894f6540a8c6",
   "metadata": {
    "collapsed": false
   },
   "outputs": [],
   "source": [
    "sn.sitegetter_print_summarytext_each_unit()"
   ]
  },
  {
   "cell_type": "code",
   "execution_count": null,
   "id": "e951eb32f22bd409",
   "metadata": {
    "collapsed": false
   },
   "outputs": [],
   "source": [
    "chan = SP.Sites[1]\n",
    "for PLOT_VER in [\"smfr\", \"raster\"]:\n",
    "    SP.plotgood_smfr_each_level_subplot_grid_by_vars(chan, \"shape_oriented\", \n",
    "                                                     \"gridloc\", \"stroke_index\",\n",
    "                                                     PLOT_VER=PLOT_VER);"
   ]
  },
  {
   "cell_type": "code",
   "execution_count": null,
   "id": "485669cb9db872f8",
   "metadata": {
    "collapsed": false
   },
   "outputs": [],
   "source": [
    "# Rasters and smoothed FR, split by event\n",
    "\n",
    "# SP.datasetbeh_append_column(\"epoch\", sn.Datasetbeh) # assign epoch to SP\n",
    "\n",
    "chan = SP.Sites[1]\n",
    "SP.plotgood_rasters_smfr_each_level_combined(chan, var=\"shape_oriented\", vars_others=[\"gridloc\", \"stroke_index\"]);\n",
    "SP.plotgood_rasters_smfr_each_level_combined(chan, var=\"shape_oriented\", vars_others=[\"gridloc\"]);\n",
    "SP.plotgood_rasters_smfr_each_level_combined(chan, var=\"shape_oriented\", vars_others=[\"stroke_index\"]);\n"
   ]
  },
  {
   "cell_type": "code",
   "execution_count": null,
   "id": "aa4c0fa6443113b1",
   "metadata": {
    "collapsed": false
   },
   "outputs": [],
   "source": [
    "# Show heatmap, conjucntion of other variables (how balanced is it).\n",
    "from pythonlib.tools.pandastools import convert_to_2d_dataframe, grouping_plot_n_samples_conjunction_heatmap\n",
    "# \n",
    "# convert_to_2d_dataframe(SP.DfScalar, \"\")\n",
    "\n",
    "fig = grouping_plot_n_samples_conjunction_heatmap(SP.DfScalar, \"shape_oriented\", \"gridloc\", [\"stroke_index\"])"
   ]
  },
  {
   "cell_type": "code",
   "execution_count": null,
   "id": "bdd427e339e8a8e5",
   "metadata": {
    "collapsed": false
   },
   "outputs": [],
   "source": [
    "chan = SP.Sites[6]\n",
    "PLOT_VER = \"smfr\"\n",
    "SP.plotgood_smfr_each_level_subplot_grid_by_vars(chan, \"shape_oriented\", \n",
    "                                                 \"gridloc\", \"nstk_stkidx\",\n",
    "                                                 PLOT_VER=PLOT_VER);"
   ]
  },
  {
   "cell_type": "code",
   "execution_count": null,
   "id": "18e00162a8cc9f3d",
   "metadata": {
    "collapsed": false
   },
   "outputs": [],
   "source": [
    "chan = SP.Sites[1]"
   ]
  },
  {
   "cell_type": "code",
   "execution_count": null,
   "id": "a7c636cec88c90d9",
   "metadata": {
    "collapsed": false
   },
   "outputs": [],
   "source": [
    "chan = SP.Sites[1]"
   ]
  },
  {
   "cell_type": "code",
   "execution_count": null,
   "id": "a6f0eea18a706a23",
   "metadata": {
    "collapsed": false
   },
   "outputs": [],
   "source": [
    "SP.plotgood_rasters_smfr_each_level_combined(chan, var=\"shape_oriented\", vars_others=[\"nstk_stkidx\"]);\n"
   ]
  },
  {
   "cell_type": "code",
   "execution_count": null,
   "id": "98f2d081d5c47de",
   "metadata": {
    "collapsed": false
   },
   "outputs": [],
   "source": [
    "SP"
   ]
  },
  {
   "cell_type": "markdown",
   "id": "f194fe1902af29d5",
   "metadata": {
    "collapsed": false
   },
   "source": [
    "##### Rasters: substrokes..."
   ]
  },
  {
   "cell_type": "code",
   "execution_count": null,
   "id": "d4f12956f7238555",
   "metadata": {
    "collapsed": false
   },
   "outputs": [],
   "source": [
    "\n",
    "SP.datasetbeh_append_column_helper([\"shape_idxwithin\"])\n"
   ]
  },
  {
   "cell_type": "code",
   "execution_count": null,
   "id": "d27b88c98eb6b97b",
   "metadata": {
    "collapsed": false
   },
   "outputs": [],
   "source": [
    "chan = SP.sitegetter_map_region_to_sites(\"PMv_m\")[0]\n",
    "# SP.plotgood_smfr_each_level_subplot_grid_by_vars(chan, var, vars_other[0], vars_other[1], PLOT_VER=\"smfr\");\n",
    "SP.plotgood_rasters_smfr_each_level_combined(chan, var, vars_other, plotvers=(\"smfr\"));\n",
    "\n",
    "chan = SP.sitegetter_map_region_to_sites(\"M1_m\")[1]\n",
    "# SP.plotgood_smfr_each_level_subplot_grid_by_vars(chan, var, vars_other[0], vars_other[1], PLOT_VER=\"smfr\");\n",
    "SP.plotgood_rasters_smfr_each_level_combined(chan, var, vars_other, plotvers=(\"smfr\"));\n"
   ]
  },
  {
   "cell_type": "code",
   "execution_count": null,
   "id": "ed35cafd3d41697d",
   "metadata": {
    "collapsed": false
   },
   "outputs": [],
   "source": [
    "savedir = f\"/gorilla1/analyses/recordings/main/RASTERS/{animal}-{DATE}/substrokes\"\n",
    "import os\n",
    "os.makedirs(savedir, exist_ok=True)\n",
    "\n"
   ]
  },
  {
   "cell_type": "code",
   "execution_count": null,
   "id": "a32f6f84c2fee885",
   "metadata": {
    "collapsed": false
   },
   "outputs": [],
   "source": [
    "\n",
    "from pythonlib.tools.plottools import savefig\n",
    "\n",
    "for chan in SP.Sites:\n",
    "    \n",
    "    chan_text = SP.session_sitegetter_summarytext(chan)\n",
    "\n",
    "    # Pmv differetn across shapes    \n",
    "    var = \"shape\"\n",
    "    vars_other = [\"index_within_stroke\", \"dist_angle\"]\n",
    "    fig, axesall = SP.plotgood_rasters_smfr_each_level_combined(chan, var, vars_other, plotvers=(\"smfr\"));\n",
    "    savefig(fig, f\"{savedir}/{chan_text}-shape-vs-substrk_idx_dist_angle.png\")\n",
    "    \n",
    "    # M1 with similar encoding for the same ss, no matter the shape or index\n",
    "    var = \"shape_idxwithin\"\n",
    "    vars_other = [\"dist_angle\"]\n",
    "    fig, axesall = SP.plotgood_rasters_smfr_each_level_combined(chan, var, vars_other, plotvers=(\"smfr\"));\n",
    "    savefig(fig, f\"{savedir}/{chan_text}-shape_idx-vs-substrk_dist_angle.png\")\n",
    "    \n",
    "    # [Same, but splitting into grid plot]\n",
    "    var = \"shape_idxwithin\"\n",
    "    vars_other = [\"distcum_binned\", \"angle_binned\"]\n",
    "    fig, axesall = SP.plotgood_smfr_each_level_subplot_grid_by_vars(chan, var, vars_other[0], vars_other[1], PLOT_VER=\"smfr\");\n",
    "    savefig(fig, f\"{savedir}/{chan_text}-shape_idx-vs-substrk_dist_angle_grid.png\")\n",
    "    \n",
    "    # M1 different across ss, no matter the shape or index\n",
    "    # Trial by trial variability\n",
    "    var = \"dist_angle\"\n",
    "    vars_other = [\"shape_idxwithin\"]\n",
    "    fig, axesall = SP.plotgood_rasters_smfr_each_level_combined(chan, var, vars_other, plotvers=(\"smfr\"));\n",
    "    savefig(fig, f\"{savedir}/{chan_text}-substrk_dist_angle-vs-shape_idx.png\")\n",
    "    \n",
    "    plt.close(\"all\")\n"
   ]
  },
  {
   "cell_type": "markdown",
   "id": "890a418c81b8ef86",
   "metadata": {
    "collapsed": false
   },
   "source": [
    "##### Time warping, so that can look at offset and onset"
   ]
  },
  {
   "cell_type": "code",
   "execution_count": null,
   "id": "b22a354fe3ce1d21",
   "metadata": {
    "collapsed": false
   },
   "outputs": [],
   "source": [
    "SP.DfScalar[:2]"
   ]
  },
  {
   "cell_type": "markdown",
   "id": "9c4cc1ea25e0e20b",
   "metadata": {
    "collapsed": false
   },
   "source": [
    "### Computing modulation of activity by certain variables (site by site)"
   ]
  },
  {
   "cell_type": "markdown",
   "id": "a7fb5df4bc68d48b",
   "metadata": {
    "collapsed": false
   },
   "source": [
    "For each site, compute how strongly it is modulated by a specific variable, computed \n",
    "separatedly for each event."
   ]
  },
  {
   "cell_type": "code",
   "execution_count": null,
   "id": "27bfdbb24d81eb51",
   "metadata": {
    "collapsed": false
   },
   "outputs": [],
   "source": [
    "SP.DfScalar[:2]"
   ]
  },
  {
   "cell_type": "code",
   "execution_count": null,
   "id": "ecfdf5d5d5ada06e",
   "metadata": {
    "collapsed": false
   },
   "outputs": [],
   "source": [
    "# First, append the variables that you wish to analyze\n",
    "SP.datasetbeh_append_column(\"epoch\", sn.Datasetbeh) # assign epoch to SP\n"
   ]
  },
  {
   "cell_type": "code",
   "execution_count": null,
   "id": "257f9171c27e317f",
   "metadata": {
    "collapsed": false
   },
   "outputs": [],
   "source": [
    "if DEBUG:\n",
    "    # if you debug, then you have small n trials, so lower the threshold for keeping data.\n",
    "    print(SP.ParamsGlobals)\n",
    "    SP.globals_update(globals_nmin=2)\n"
   ]
  },
  {
   "cell_type": "code",
   "execution_count": null,
   "id": "7d0c1041cef6d576",
   "metadata": {
    "collapsed": false
   },
   "outputs": [],
   "source": [
    "# Run this to compute modulation\n",
    "DF_VAR, DF_FR, DF_FR_LEVELS, list_eventwindow_event = SP.modulationgood_compute_wrapper(\"epoch\", \n",
    "                                                                                        DEBUG_CONJUNCTIONS=False, \n",
    "                                                                                        THINGS_TO_EXTRACT=[\"anova\"])\n"
   ]
  },
  {
   "cell_type": "code",
   "execution_count": null,
   "id": "85d3c0aa1e622b60",
   "metadata": {
    "collapsed": false
   },
   "outputs": [],
   "source": [
    "# Plot results and save\n",
    "sdir_base = \"/tmp\"\n",
    "SP.modulationgood_plot_WRAPPER(DF_VAR, DF_FR, DF_FR_LEVELS, list_eventwindow_event, \n",
    "                               var=\"epoch\", vars_conjuction=[\"dummy_var\"],\n",
    "                               sdir_base=sdir_base, N_WAYS=1)"
   ]
  },
  {
   "cell_type": "markdown",
   "id": "141aeb9618dd81f7",
   "metadata": {
    "collapsed": false
   },
   "source": [
    "### Modulation by time (relative to aligned events)"
   ]
  },
  {
   "cell_type": "markdown",
   "id": "6555483c7abc2bf0",
   "metadata": {
    "collapsed": false
   },
   "source": [
    "For each site x event, compute a scalar value indiicating how much its actiivyt is modulated\n",
    "with respect to this event. This moudlation can be increase in fr, decrease, or any\n",
    "activity pattern that is consistent across trials."
   ]
  },
  {
   "cell_type": "code",
   "execution_count": null,
   "id": "b841a624dffbd236",
   "metadata": {
    "collapsed": false
   },
   "outputs": [],
   "source": [
    "# Extract modulation, for each site x event"
   ]
  },
  {
   "cell_type": "code",
   "execution_count": null,
   "id": "1942a87f166c9816",
   "metadata": {
    "collapsed": false
   },
   "outputs": [],
   "source": [
    "from neuralmonkey.analyses.event_temporal_modulation_v2 import preprocess_and_extract\n",
    "from neuralmonkey.analyses.event_temporal_modulation import plot_overview\n",
    "\n",
    "df_modtime = preprocess_and_extract(SP)\n"
   ]
  },
  {
   "cell_type": "code",
   "execution_count": null,
   "id": "18b338fe698f96fe",
   "metadata": {
    "collapsed": false
   },
   "outputs": [],
   "source": [
    "# Plot overview of modulation"
   ]
  },
  {
   "cell_type": "code",
   "execution_count": null,
   "id": "528917b01df478f0",
   "metadata": {
    "collapsed": false
   },
   "outputs": [],
   "source": [
    "from neuralmonkey.analyses.event_temporal_modulation_v2 import plot_overview\n",
    "SAVEDIR = \"/tmp\"\n",
    "##################### PLOTS\n",
    "plot_overview(df_modtime, SP, SAVEDIR)"
   ]
  },
  {
   "cell_type": "markdown",
   "id": "997a56db7b24e8f0",
   "metadata": {
    "collapsed": false
   },
   "source": [
    "## Sliding decoder"
   ]
  },
  {
   "cell_type": "code",
   "execution_count": null,
   "id": "53846024fa502c32",
   "metadata": {
    "collapsed": false
   },
   "outputs": [],
   "source": [
    "# 1) Separate decoders aligned to stroke onset. (grouping all stroke).\n",
    "# 2) \n"
   ]
  },
  {
   "cell_type": "code",
   "execution_count": null,
   "id": "37d2b842ea79623a",
   "metadata": {
    "collapsed": false
   },
   "outputs": [],
   "source": [
    "Look at 220713_prims_state_space"
   ]
  },
  {
   "cell_type": "markdown",
   "id": "5c977791e75f03fb",
   "metadata": {
    "collapsed": false
   },
   "source": [
    "# Batch plotting functions"
   ]
  },
  {
   "cell_type": "markdown",
   "id": "7afc609263977dbc",
   "metadata": {
    "collapsed": false
   },
   "source": [
    "### Plot rasters"
   ]
  },
  {
   "cell_type": "code",
   "execution_count": null,
   "id": "15fe7033c324d777",
   "metadata": {
    "collapsed": false
   },
   "outputs": [],
   "source": [
    "        if PLOT_RASTERS:\n",
    "            for event_window, event in list_eventwindow_event:\n",
    "                # (Only do once for each event)\n",
    "                sdir_rasters = f\"{SAVEDIR}/{ANALY_VER}/var_by_varsother/VAR_{var}-OV_{'_'.join(vars_conjuction)}/rasters/{event}\"\n",
    "                os.makedirs(sdir_rasters, exist_ok=True)\n",
    "\n",
    "                print(\"** Plotting raster + sm fr:\", sdir_rasters)\n",
    "                ##### Plot raster + sm fr\n",
    "                # Plot rasters for each site\n",
    "                old_backend = mpl.get_backend()\n",
    "                print(\"default backend is \" + old_backend)\n",
    "                mpl.use('agg') # non-GUI backend, so that the loop below doesn't run into a memory leak error (see GitHub matplotlib: #20300)\n",
    "                for site in self.Sites:\n",
    "                    path = f\"{sdir_rasters}/{sn.sitegetter_summarytext(site)}.png\"\n",
    "                    if not os.path.exists(path):\n",
    "                        fig, axes = self.plotgood_rasters_smfr_each_level_combined(site, var, vars_conjuction, \n",
    "                            event=event)\n",
    "                        fig.savefig(path)\n",
    "                        plt.close(\"all\")\n",
    "                mpl.use(old_backend) # switch back just to be safe..\n"
   ]
  },
  {
   "cell_type": "code",
   "execution_count": null,
   "id": "d1457eb617747239",
   "metadata": {
    "collapsed": false
   },
   "outputs": [],
   "source": [
    "                for chan in SP.Sites:\n",
    "                    print(\"plotting, chan:\", chan)\n",
    "\n",
    "                    chan_text = SP.SN.sitegetter_summarytext(chan)\n",
    "\n",
    "                    fig, _ = SP.plotgood_rasters_smfr_each_level_combined(chan, var=\"shape_oriented\", vars_others=[\"gridloc\"])\n",
    "                    path = f\"{savedir}/{chan_text}-shape_oriented-vs-gridloc.png\"\n",
    "                    savefig(fig, path)\n",
    "\n",
    "                    fig, _ = SP.plotgood_rasters_smfr_each_level_combined(chan, var=\"shape_oriented\", vars_others=[\"nstk_stkidx\"])\n",
    "                    path = f\"{savedir}/{chan_text}-shape_oriented-vs-nstk_stkidx.png\"\n",
    "                    savefig(fig, path)\n",
    "\n",
    "                    # LIST_PLOT_VER = [\"smfr\", \"raster\"] # to speed it up, exclude raster\n",
    "                    LIST_PLOT_VER = [\"smfr\"]\n",
    "                    for PLOT_VER in LIST_PLOT_VER:\n",
    "                        fig, _ = SP.plotgood_smfr_each_level_subplot_grid_by_vars(chan, \"shape_oriented\",\n",
    "                                                                         \"gridloc\", \"nstk_stkidx\",\n",
    "                                                                         PLOT_VER=PLOT_VER)\n",
    "                        path = f\"{savedir}/{chan_text}-shape_oriented-vs-other_vars-{PLOT_VER}.png\"\n",
    "                        savefig(fig, path)\n",
    "\n",
    "                    plt.close(\"all\")\n"
   ]
  },
  {
   "cell_type": "code",
   "execution_count": null,
   "id": "8919252a65120b9c",
   "metadata": {
    "collapsed": false
   },
   "outputs": [],
   "source": []
  },
  {
   "cell_type": "markdown",
   "id": "40f17657dbfff1dc",
   "metadata": {
    "collapsed": false
   },
   "source": [
    "# ### Scratch plots"
   ]
  },
  {
   "cell_type": "code",
   "execution_count": null,
   "id": "deeb863a4a088c71",
   "metadata": {
    "collapsed": false
   },
   "outputs": [],
   "source": [
    "PA.plotNeurHeat(1)\n",
    "PAnorm.plotNeurHeat(1)"
   ]
  },
  {
   "cell_type": "code",
   "execution_count": null,
   "id": "c3863f758925c8e2",
   "metadata": {
    "collapsed": false
   },
   "outputs": [],
   "source": [
    "trial = 10\n",
    "PA.plotNeurTimecourse(trial)\n",
    "PAnorm.plotNeurTimecourse(trial)"
   ]
  },
  {
   "cell_type": "code",
   "execution_count": null,
   "id": "5e7079f4e5e76bd3",
   "metadata": {
    "collapsed": false
   },
   "outputs": [],
   "source": [
    "X = np.mean(PAnorm.X, axis=1, keepdims=False)\n",
    "import seaborn as sns\n",
    "sns.heatmap(X)"
   ]
  },
  {
   "cell_type": "code",
   "execution_count": null,
   "id": "6a104c0e44bc90e3",
   "metadata": {
    "collapsed": false
   },
   "outputs": [],
   "source": [
    "SP.plotgood_rasters"
   ]
  },
  {
   "cell_type": "code",
   "execution_count": null,
   "id": "85a6fc65b63b6583",
   "metadata": {
    "collapsed": false
   },
   "outputs": [],
   "source": []
  },
  {
   "cell_type": "code",
   "execution_count": null,
   "id": "86f08718cde1136f",
   "metadata": {
    "collapsed": false
   },
   "outputs": [],
   "source": [
    "# pull out pa for a specific chan\n",
    "chan = SP.Sites[4]"
   ]
  },
  {
   "cell_type": "code",
   "execution_count": null,
   "id": "56e3fe216a0c31eb",
   "metadata": {
    "collapsed": false
   },
   "outputs": [],
   "source": [
    "chan = 50"
   ]
  },
  {
   "cell_type": "code",
   "execution_count": null,
   "id": "db5b1e671135146a",
   "metadata": {
    "collapsed": false
   },
   "outputs": [],
   "source": [
    "PAnorm.Chans"
   ]
  },
  {
   "cell_type": "code",
   "execution_count": null,
   "id": "d2c61735d03194b5",
   "metadata": {
    "collapsed": false
   },
   "outputs": [],
   "source": []
  },
  {
   "cell_type": "code",
   "execution_count": null,
   "id": "3b1a522619e2a0ae",
   "metadata": {
    "collapsed": false
   },
   "outputs": [],
   "source": [
    "SP.SN.sitegetter_print_summarytext_each_unit()"
   ]
  },
  {
   "cell_type": "code",
   "execution_count": null,
   "id": "4db0771bd3a01ed5",
   "metadata": {
    "collapsed": false
   },
   "outputs": [],
   "source": []
  }
 ],
 "metadata": {
  "kernelspec": {
   "display_name": "drag2_matlab",
   "language": "python",
   "name": "python3"
  },
  "language_info": {
   "codemirror_mode": {
    "name": "ipython",
    "version": 3
   },
   "file_extension": ".py",
   "mimetype": "text/x-python",
   "name": "python",
   "nbconvert_exporter": "python",
   "pygments_lexer": "ipython3",
   "version": "3.8.18"
  }
 },
 "nbformat": 4,
 "nbformat_minor": 5
}
