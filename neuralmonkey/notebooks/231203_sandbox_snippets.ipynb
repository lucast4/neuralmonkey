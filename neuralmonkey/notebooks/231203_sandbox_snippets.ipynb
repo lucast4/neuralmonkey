{
 "cells": [
  {
   "cell_type": "code",
   "execution_count": 1,
   "id": "initial_id",
   "metadata": {
    "collapsed": true,
    "ExecuteTime": {
     "end_time": "2024-03-17T20:55:24.808623692Z",
     "start_time": "2024-03-17T20:55:24.567374725Z"
    }
   },
   "outputs": [
    {
     "data": {
      "text/plain": "' Sandobx for all things realted to Snippets extraction and generic stuff.\\nNot downstream things (elsewhere).\\n'"
     },
     "execution_count": 1,
     "metadata": {},
     "output_type": "execute_result"
    }
   ],
   "source": [
    "import pandas as pd\n",
    "\n",
    "\"\"\" Sandobx for all things realted to Snippets extraction and generic stuff.\n",
    "Not downstream things (elsewhere).\n",
    "\"\"\""
   ]
  },
  {
   "cell_type": "code",
   "execution_count": 2,
   "outputs": [
    {
     "name": "stdout",
     "output_type": "stream",
     "text": [
      "The autoreload extension is already loaded. To reload it, use:\n",
      "  %reload_ext autoreload\n"
     ]
    }
   ],
   "source": [
    "%load_ext autoreload\n",
    "%autoreload 2\n",
    "\n",
    "from neuralmonkey.classes.session import load_mult_session_helper\n",
    "import matplotlib\n",
    "import matplotlib.pyplot as plt\n",
    "import numpy as np\n",
    "\n",
    "#%matplotlib inline"
   ],
   "metadata": {
    "collapsed": false,
    "ExecuteTime": {
     "end_time": "2024-03-17T20:55:25.151801189Z",
     "start_time": "2024-03-17T20:55:24.797693345Z"
    }
   },
   "id": "93d48dd175d3e9e0"
  },
  {
   "cell_type": "code",
   "execution_count": 3,
   "outputs": [
    {
     "name": "stdout",
     "output_type": "stream",
     "text": [
      "Searching using this string:\n",
      "/mnt/Freiwald/ltian/recordings/*Diego*/*230817*/**\n",
      "Found this many paths:\n",
      "1\n",
      "---\n",
      "/mnt/Freiwald/ltian/recordings/Diego/230817/Diego-230817-150802\n",
      "session:  0\n",
      "Beh Sessions that exist on this date:  {230817: [(1, 'dirgrammardiego5c')]}\n",
      "------------------------------\n",
      "Loading this neural session: 0\n",
      "Loading these beh expts: ['dirgrammardiego5c']\n",
      "Loading these beh sessions: [1]\n",
      "Using this beh_trial_map_list: [(1, 0)]\n",
      "Searching using this string:\n",
      "/mnt/Freiwald/ltian/recordings/*Diego*/*230817*/**\n",
      "Found this many paths:\n",
      "1\n",
      "---\n",
      "/mnt/Freiwald/ltian/recordings/Diego/230817/Diego-230817-150802\n",
      "{'filename_components_hyphened': ['Diego', '230817', '150802'], 'basedirs': ['/mnt/Freiwald/ltian/recordings/Diego', '/mnt/Freiwald/ltian/recordings/Diego/230817'], 'basedirs_filenames': ['230817', 'Diego-230817-150802'], 'filename_final_ext': 'Diego-230817-150802', 'filename_final_noext': 'Diego-230817-150802'}\n",
      "FOund this path for spikes:  /mnt/Freiwald/ltian/recordings/Diego/230817/Diego-230817-150802/spikes_tdt_quick-4\n",
      "== PATHS for this expt: \n",
      "raws  --  /mnt/Freiwald/ltian/recordings/Diego/230817/Diego-230817-150802\n",
      "tank  --  /mnt/Freiwald/ltian/recordings/Diego/230817/Diego-230817-150802/Diego-230817-150802\n",
      "spikes  --  /mnt/Freiwald/ltian/recordings/Diego/230817/Diego-230817-150802/spikes_tdt_quick-4\n",
      "final_dir_name  --  Diego-230817-150802\n",
      "time  --  150802\n",
      "pathbase_local  --  /gorilla1/neural_preprocess/recordings/Diego/230817/Diego-230817-150802\n",
      "tank_local  --  /gorilla1/neural_preprocess/recordings/Diego/230817/Diego-230817-150802/data_tank.pkl\n",
      "spikes_local  --  /gorilla1/neural_preprocess/recordings/Diego/230817/Diego-230817-150802/data_spikes.pkl\n",
      "datall_local  --  /gorilla1/neural_preprocess/recordings/Diego/230817/Diego-230817-150802/data_datall.pkl\n",
      "events_local  --  /gorilla1/neural_preprocess/recordings/Diego/230817/Diego-230817-150802/events_photodiode.pkl\n",
      "mapper_st2dat_local  --  /gorilla1/neural_preprocess/recordings/Diego/230817/Diego-230817-150802/mapper_st2dat.pkl\n",
      "figs_local  --  /gorilla1/neural_preprocess/recordings/Diego/230817/Diego-230817-150802/figs\n",
      "metadata_units  --  /home/lucast4/code/neuralmonkey/neuralmonkey/metadat/units_Diego\n",
      "cached_dir  --  /gorilla1/neural_preprocess/recordings/Diego/230817/Diego-230817-150802/cached\n",
      "Sites metada path doesnt exist:  /home/lucast4/code/neuralmonkey/neuralmonkey/metadat/units_Diego/230817.yaml\n",
      "updating self.SitesDirty with:  ('sites_garbage', 'sites_error_spikes', 'sites_low_spk_magn')\n",
      "[_sitesdirty_update] skipping! since did not find:  sites_garbage\n",
      "[_sitesdirty_update] skipping! since did not find:  sites_error_spikes\n",
      "Printing whether spikes gotten (o) or not (-) because of spike peak to trough\n",
      "== Loading TDT tank\n",
      "** Loading tank data from local (previusly cached)\n",
      "== Done\n",
      "== Trying to load events data\n",
      "Loading this events (pd) locally to:  /gorilla1/neural_preprocess/recordings/Diego/230817/Diego-230817-150802/events_photodiode.pkl\n",
      "== Done\n",
      "** MINIMAL_LOADING, therefore loading previuosly cached data\n",
      "Searching using this string:\n",
      "/home/lucast4/code/drawmonkey/expt_metadat/*230817-*Diego.**\n",
      "Found this many paths:\n",
      "0\n",
      "Searching using this string:\n",
      "/home/lucast4/code/drawmonkey/expt_metadat_daily/*230817-*Diego.**\n",
      "Found this many paths:\n",
      "1\n",
      "---\n",
      "/home/lucast4/code/drawmonkey/expt_metadat_daily/dirgrammardiego5c-230817-Diego.yaml\n",
      "Loading this dataset Diego dirgrammardiego5c 230817\n",
      "Searching using this string:\n",
      "/gorilla1/analyses/database/*Diego-*dirgrammardiego5c-*230817-*/*dat*.pkl\n",
      "-- Splitting off dir from fname\n",
      "Found this many paths:\n",
      "0\n",
      "Searching using this string:\n",
      "/gorilla1/analyses/database/BEH/*Diego-*dirgrammardiego5c-*230817-*/*dat*.pkl\n",
      "-- Splitting off dir from fname\n",
      "Found this many paths:\n",
      "0\n",
      "Searching using this string:\n",
      "/mnt/Freiwald_kgupta/kgupta/analyses/database/*Diego-*dirgrammardiego5c-*230817-*/*dat*.pkl\n",
      "-- Splitting off dir from fname\n",
      "Found this many paths:\n",
      "0\n",
      "Searching using this string:\n",
      "/mnt/Freiwald_kgupta/kgupta/analyses/database/BEH/*Diego-*dirgrammardiego5c-*230817-*/*dat*.pkl\n",
      "-- Splitting off dir from fname\n",
      "Found this many paths:\n",
      "1\n",
      "---\n",
      "/mnt/Freiwald_kgupta/kgupta/analyses/database/BEH/Diego-dirgrammardiego5c-230817-240222_173443\n",
      "----------------\n",
      "Currently loading dataset pkl: /mnt/Freiwald_kgupta/kgupta/analyses/database/BEH/Diego-dirgrammardiego5c-230817-240222_173443\n",
      ".. Done!\n",
      "Loaded metadat:\n",
      "{'sketchpad_edges': array([[-311.84, -224.8 ],\n",
      "       [ 311.84,  429.6 ]]), 'metadat_probedat': {'sdate': 230817, 'edate': 230817, 'strokmodel_kind': None, 'strokmodel_tstamp': None, 'datecategories': {'230817': 1}, 'dates_for_summary': [], 'matchedstrokes': None, 'exptnames': ['dirgrammardiego5c'], 'T1': [], 'G1': [], 'G2': [], 'G3': [], 'G4': [], 'description': '', 'finalized': False, 'good_expt': True, 'expt': 'dirgrammardiego5c', 'animal': 'Diego', 'ssess': None, 'esess': None, 'task_train_test': {'probe1_liketrain': 'train', 'probe1_nostrokeconstraint': 'train', 'probe2_liketrain': 'train', 'probe2_nostrokeconstraint': 'train', 'probe3_hdpos': 'test', 'probe1': 'train', 'probe2': 'train', 'probe3': 'test', 'probe4': 'test', 'train': 'train'}}, 'filedata_params': {'pix_per_deg': array([[ 26.64621164],\n",
      "       [-26.64621164]]), 'resolution': (1024, 768), 'animal': 'Diego', 'basedir': '/gorilla1/animals', 'sample_rate': array([500.]), 'beh_codes': {9: 'start', 10: 'fix cue', 11: 'fix cue visible', 13: 'frame skip', 14: 'manual rew', 15: 'guide', 16: 'FixationOnsetWTH', 17: 'FixationDoneSuccessWTH', 18: 'end', 19: 'FixationRaiseFailWTH', 20: 'go (draw)', 21: 'guide_on_GA', 22: 'guide_on_GA_delay', 30: 'DelayWhatIsThis', 40: 'GoWhatIsThis', 41: 'samp1 on', 42: 'samp1 off', 45: 'done', 46: 'post', 50: 'reward', 51: 'free reward', 52: 'WaitThenHold_LT_reward', 61: 'DoneButtonVisible', 62: 'DoneButtonTouched', 63: 'DragAroundSuccess', 64: 'DragAroundAbort', 65: 'DragAroundFirstAbortNow', 70: 'hotkey_x', 71: 'DAstimevent_firstpres', 72: 'DAstimoff_finibeforepause', 73: 'DAstimoff_fini', 74: 'DAsamp1_visible_change', 75: 'DAnewpnutthisframe', 76: 'DAsound_samp1touched', 78: 'DAsound_gotallink', 80: 'ttl_trialon', 81: 'ttl_trialoff', 91: 'GAstimevent_firstpres', 92: 'GAstimoff_fini', 93: 'GAstimeventDelay_firstpres', 94: 'GAstimoffDelay_fini', 101: 'fix_square_on', 102: 'fix_square_off', 103: 'fix_square_on_pd', 111: 'photodiode_force_off', 120: 'DAsound_chunk', 121: 'DAsound_strokedone', 122: 'DAsound_chunkupdate', 123: 'DAsound_chunkdone', 124: 'DAsound_firstraise', 131: 'fix_cue_colored_on', 132: 'fix_cue_colored_on_v2', 133: 'fix_cue_colored_off', 134: 'fix_cue_colored_off_v2', 135: 'new_color_cue_off', 141: 'estim_ttl_1_on', 142: 'estim_ttl_2_on', 151: 'estim_ttl_stroke_on', 152: 'estim_ttl_stroke_off', 200: 'skipped_movie_frame'}, 'screen_hz': 59, 'screen_period': 0.01694915254237288}}\n",
      "Loading BlockParamsByDateSessBlock!\n",
      "----\n",
      "Resetting index\n",
      "=== CLEANING UP self.Dat ===== \n",
      "Deleted unused columns from self.Dat\n",
      "applying monkey train test names\n",
      "* UDPATEING onset of first stroke [too close to fixation] (trial, new onset index):\n",
      "-- CHECKING  origin\n",
      "--- idat, trialcode, strok inds to remove, len strokes beofre remofe, len strokes after:\n",
      "500 230817-1-815 [7] 8 7\n",
      "-- CHECKING  donepos\n",
      "--- idat, trialcode, strok inds to remove, len strokes beofre remofe, len strokes after:\n",
      "Updated columns: insummarydates, using Metadats\n",
      "Searching using this string:\n",
      "/gorilla1/analyses/database/TASKS_GENERAL/Diego-dirgrammardiego5c-230817-all/*Tasks*pkl\n",
      "Found this many paths:\n",
      "0\n",
      "Searching using this string:\n",
      "/mnt/Freiwald_kgupta/kgupta/analyses/database/TASKS_GENERAL/Diego-dirgrammardiego5c-230817-all/*Tasks*pkl\n",
      "Found this many paths:\n",
      "1\n",
      "---\n",
      "/mnt/Freiwald_kgupta/kgupta/analyses/database/TASKS_GENERAL/Diego-dirgrammardiego5c-230817-all/Tasks.pkl\n",
      "--- Loading tasks pkl file:  /mnt/Freiwald_kgupta/kgupta/analyses/database/TASKS_GENERAL/Diego-dirgrammardiego5c-230817-all/Tasks.pkl\n",
      "added new column self.Dat[Task]\n",
      "=== CLEANING UP self.Dat (_cleanup_reloading_saved_state) ===== \n",
      "0 _behclass_alignsim_compute\n",
      "200 _behclass_alignsim_compute\n",
      "400 _behclass_alignsim_compute\n",
      "600 _behclass_alignsim_compute\n",
      "Running D._behclass_tokens_extract_datsegs\n",
      "0 _behclass_tokens_extract_datsegs\n",
      "200 _behclass_tokens_extract_datsegs\n",
      "400 _behclass_tokens_extract_datsegs\n",
      "600 _behclass_tokens_extract_datsegs\n",
      "stored in self.Dat[BehClass]\n",
      "Removing these trials: \n",
      "[]\n",
      "self.Dat starting legnth:  741\n",
      "Modified self.Dat, keeping only the inputted inds\n",
      "self.Dat final legnth:  741\n",
      "- starting/ending len (grouping params):\n",
      "741\n",
      " \n",
      "*** Rules/epochs reassigning using the following rules:\n",
      "{(None, None): 'base', ('direction', '3.14'): 'L', ('direction', '0.00'): 'R', ('directionv2', ('lr',)): 'R', ('directionv2', ('rl',)): 'L', ('directionv2', ('ud',)): 'D', ('directionv2', ('du',)): 'U', ('directionv2', ('right',)): 'R', ('directionv2', ('left',)): 'L', ('directionv2', ('down',)): 'D', ('directionv2', ('up',)): 'U', ('directionv2', ('topright',)): 'TR', ('directionv2', ('topleft',)): 'TL', ('directionv2', ('UL',)): 'UL', ('prot_prims_in_order', ('line-8-3', 'V-2-4', 'Lcentered-4-3')): 'lVL1', ('prot_prims_in_order', ('Lcentered-4-3', 'V-2-4', 'line-8-3')): 'LVl1', ('prot_prims_in_order', ('V-2-4', 'line-8-3', 'Lcentered-4-3')): 'VlL1', ('prot_prims_in_order', ('line-8-3', 'line-8-4', 'V-2-4')): 'llV1', ('prot_prims_in_order', ('line-9-3', 'line-9-4', 'Lcentered-6-8')): 'llV1', ('prot_prims_in_order', ('line-8-3', 'line-13-13', 'line-8-4', 'line-13-14', 'V-2-4', 'V2-2-4')): 'llV1', ('prot_prims_in_order', ('line-8-3', 'line-13-13', 'line-8-4', 'line-13-14', 'V-2-4', 'V2-2-4', 'V2-2-2')): 'llV1', ('prot_prims_in_order', ('V2-2-2', 'V2-2-4', 'V-2-4', 'line-13-14', 'line-8-4', 'line-13-13', 'line-8-3')): 'llV1R', ('prot_prims_in_order', ('zigzagSq-1-1', 'line-8-1', 'arcdeep-4-3')): 'ZlA1', ('prot_prims_in_order', ('zigzagSq-1-1', 'line-8-1', 'line-9-1', 'arcdeep-4-3')): 'ZlA1', ('prot_prims_in_order', ('zigzagSq-1-1', 'line-8-1', 'line-9-1', 'line-6-1', 'arcdeep-4-3')): 'ZlA1', ('prot_prims_in_order', ('zigzagSq-1-1', 'Lcentered-4-4', 'line-8-1', 'line-9-1', 'line-6-1', 'arcdeep-4-3')): 'ZlA1', ('prot_prims_in_order', ('zigzagSq-1-1', 'Lcentered-4-4', 'line-6-2', 'line-8-1', 'line-9-1', 'line-6-1', 'arcdeep-4-3')): 'ZlA1', ('prot_prims_in_order', ('zigzagSq-1-1', 'Lcentered-4-4', 'line-6-2', 'line-8-1', 'line-9-1', 'line-6-1', 'arcdeep-4-3', 'V-2-4')): 'ZlA1', ('prot_prims_chunks_in_order', ('line-8-4', 'line-8-3')): 'AnBm1a', ('prot_prims_chunks_in_order', ('line-8-1', 'line-8-2')): 'AnBm2', ('prot_prims_chunks_in_order', ('line-8-4', 'line-11-1', 'line-8-3', 'line-11-2')): 'AnBm1b', ('prot_prims_chunks_in_order', ('line-11-1', 'line-11-2')): 'AnBmHV', ('prot_prims_chunks_in_order', ('squiggle3-3-1', 'V-2-4')): 'AnBm0', ('hack_220829', ('hack_220829',)): '(AB)n', ('prot_prims_in_order_AND_directionv2', ('line-8-4', 'line-11-1', 'line-8-3', 'line-11-2', 'topright')): 'AnBmTR', ('prot_prims_in_order_AND_directionv2', ('line', 'circle', 'right')): 'LCr1', ('prot_prims_in_order_AND_directionv2', ('circle', 'line', 'right')): 'CLr1', ('prot_prims_in_order_AND_directionv2', ('line', 'arcdeep', 'circle', 'right')): 'LCr2', ('prot_prims_in_order_AND_directionv2', ('circle', 'arcdeep', 'line', 'right')): 'CLr2', ('prot_prims_in_order_AND_directionv2', ('line', 'arcdeep', 'circle', 'downright')): 'LCr3', ('prot_prims_in_order_AND_directionv2', ('zigzagSq-1-1', 'Lcentered-4-4', 'line-6-2', 'line-8-1', 'line-9-1', 'line-6-1', 'arcdeep-4-3', 'V-2-4', 'topleft')): 'llCV1', ('prot_prims_in_order_AND_directionv2', ('zigzagSq-1-1', 'Lcentered-4-4', 'line-6-2', 'line-8-1', 'line-9-1', 'line-6-1', 'arcdeep-4-3', 'V-2-4', 'left')): 'llCV2', ('prot_prims_in_order_AND_directionv2_FIRSTSTROKEONLY', ('zigzagSq-1-1', 'Lcentered-4-4', 'line-6-2', 'line-8-1', 'line-9-1', 'line-6-1', 'arcdeep-4-3', 'V-2-4', 'left')): 'llCV2FstStk', ('prot_prims_in_order_AND_directionv2', ('zigzagSq-1-1', 'Lcentered-4-4', 'line-6-2', 'line-8-1', 'line-9-1', 'line-6-1', 'arcdeep-4-3', 'V-2-4', 'UL')): 'llCV3', ('prot_prims_in_order_AND_directionv2', ('zigzagSq-1-1', 'Lcentered-4-4', 'line-6-2', 'line-14-2', 'line-8-1', 'line-9-1', 'line-6-1', 'line-14-1', 'arcdeep-4-3', 'V-2-4', 'UL')): 'llCV3b', ('prot_prims_in_order_AND_directionv2_FIRSTSTROKEONLY', ('zigzagSq-1-1', 'Lcentered-4-4', 'line-6-2', 'line-8-1', 'line-9-1', 'line-6-1', 'arcdeep-4-3', 'V-2-4', 'UL')): 'llCV3FstStk', ('prot_prims_in_order_AND_directionv2', ('line-8-3', 'line-13-13', 'line-8-4', 'line-13-14', 'V-2-4', 'V2-2-4', 'V2-2-2', 'left')): 'AnBmCk1a', ('prot_prims_in_order_AND_directionv2', ('line-8-3', 'line-13-13', 'line-8-4', 'line-13-14', 'V-2-4', 'V2-2-4', 'V2-2-2', 'line-8-1', 'left')): 'AnBmCk1b', ('prot_prims_in_order_AND_directionv2', ('line-8-3', 'line-13-13', 'line-8-4', 'line-13-14', 'V-2-4', 'V2-2-4', 'V2-2-2', 'line-8-1', 'line-8-2', 'left')): 'AnBmCk1c', ('prot_prims_in_order_AND_directionv2', ('line-8-3', 'line-6-3', 'line-13-13', 'line-8-4', 'line-6-4', 'line-13-14', 'V-2-4', 'V2-2-4', 'V2-2-2', 'line-8-1', 'line-8-2', 'line-6-1', 'line-6-2', 'left')): 'AnBmCk2', ('prot_prims_chunks_in_order', ('line-8-3', 'line-6-3', 'line-13-13', 'line-8-4', 'line-6-4', 'line-13-14', 'V-2-4', 'V2-2-4', 'V2-2-2', 'line-8-1', 'line-8-2', 'line-6-1', 'line-6-2')): 'AnBmCk2NODIR', ('prot_prims_in_order_AND_directionv2_FIRSTSTROKEONLY', ('line-8-3', 'line-6-3', 'line-13-13', 'line-8-4', 'line-6-4', 'line-13-14', 'V-2-4', 'V2-2-4', 'V2-2-2', 'line-8-1', 'line-8-2', 'line-6-1', 'line-6-2', 'left')): 'AnBmCk2FstStk', ('prot_prims_in_order_AND_directionv2_FIRSTSTROKEEXCLUDE', ('line-8-3', 'line-6-3', 'line-13-13', 'line-8-4', 'line-6-4', 'line-13-14', 'V-2-4', 'V2-2-4', 'V2-2-2', 'line-8-1', 'line-8-2', 'line-6-1', 'line-6-2', 'left')): 'AnBmCk2NOFstStk', ('prot_prims_in_order_AND_directionv2_FLEXSTROKES', ('zigzagSq-1-1', 'Lcentered-4-4', 'line-6-2', 'line-8-1', 'line-9-1', 'line-6-1', 'arcdeep-4-3', 'V-2-4', 'UL', (1,), (2, 3, 4, 5))): 'llCV3RndFlx1', ('prot_prims_in_order_AND_directionv2_FLEXSTROKES', ('zigzagSq-1-1', 'Lcentered-4-4', 'line-6-2', 'line-8-1', 'line-9-1', 'line-6-1', 'arcdeep-4-3', 'V-2-4', 'UL', (1, 2), (3, 4, 5))): 'llCV3RndFlx12', ('prot_prims_in_order_AND_directionv2_FLEXSTROKES', ('zigzagSq-1-1', 'Lcentered-4-4', 'line-6-2', 'line-8-1', 'line-9-1', 'line-6-1', 'arcdeep-4-3', 'V-2-4', 'UL', (1, 2, 3), (4, 5))): 'llCV3RndFlx123', ('prot_prims_in_order_AND_directionv2_FLEXSTROKES', ('line-8-3', 'line-6-3', 'line-13-13', 'line-8-4', 'line-6-4', 'line-13-14', 'V-2-4', 'V2-2-4', 'V2-2-2', 'line-8-1', 'line-8-2', 'line-6-1', 'line-6-2', 'left', (), (1, 2, 3, 4))): 'AnBmCk2RndFlx0', ('prot_prims_in_order_AND_directionv2_FLEXSTROKES', ('line-8-3', 'line-6-3', 'line-13-13', 'line-8-4', 'line-6-4', 'line-13-14', 'V-2-4', 'V2-2-4', 'V2-2-2', 'line-8-1', 'line-8-2', 'line-6-1', 'line-6-2', 'left', (1,), (2, 3, 4))): 'AnBmCk2RndFlx1', ('prot_prims_in_order_AND_directionv2_FLEXSTROKES', ('line-8-3', 'line-6-3', 'line-13-13', 'line-8-4', 'line-6-4', 'line-13-14', 'V-2-4', 'V2-2-4', 'V2-2-2', 'line-8-1', 'line-8-2', 'line-6-1', 'line-6-2', 'left', (1, 2), (3, 4))): 'AnBmCk2RndFlx12', ('shape_chunk_concrete', ('lolli', ('D', 'R'))): 'LolDR', ('rows_direction', ('down', 'right')): 'rowsDR', ('rows_direction', ('up', 'left')): 'rowsUL', ('rows_direction', ('up', 'snkLR')): 'rowsUsnkLR', ('cols_direction', ('right', 'down')): 'colsRD', ('cols_direction', ('left', 'up')): 'colsLU', ('randomize_strokes', ('randomize_strokes',)): 'rndstr', ('specific_order', ('indices',)): 'SpcOrd1'}\n",
      "Modified D.Dat[epoch]\n",
      "These counts for epochs levels: \n",
      "llCV3    682\n",
      "base      59\n",
      "Name: epoch, dtype: int64\n",
      "These counts for epoch_rule_tasksequencer levels: \n",
      "llCV3    682\n",
      "base      59\n",
      "Name: epoch_rule_tasksequencer, dtype: int64\n",
      " \n",
      "appended col to self.Dat:\n",
      "epoch_color\n",
      "Reassigned rules taking conjucntion of old rules x color instruction\n",
      "New epochs\n",
      "llCV3|0    682\n",
      "base|0      59\n",
      "Name: epoch_color, dtype: int64\n",
      "For these epochs, replacing epoch with epoch_color:\n",
      "[]\n",
      "741\n",
      "- starting/ending len (getting sequence):\n",
      "741\n",
      "741\n",
      "--- Removing nans\n",
      "start len: 741\n",
      "- num names for each col\n",
      "not removing nans, since columns=[]\n",
      "ADded new column: supervision_online\n",
      "Reassigned train/test, using key: supervision_online\n",
      "and values:\n",
      "Train =  [True]\n",
      "Test =  [False]\n",
      " \n",
      "New distribution of train/test:\n",
      "test     723\n",
      "train     18\n",
      "Name: monkey_train_or_test, dtype: int64\n",
      "Appended column: los_info\n",
      "Appended self.Dat[superv_SEQUENCE_SUP]\n",
      "Appended self.Dat[superv_SEQUENCE_ALPHA]\n",
      "Appended self.Dat[superv_COLOR_ON]\n",
      "Appended self.Dat[superv_COLOR_ITEMS_FADE_TO_DEFAULT_BINSTR]\n",
      "Appended self.Dat[superv_COLOR_METHOD]\n",
      "Appended self.Dat[superv_GUIDEDYN_ON]\n",
      "Appended self.Dat[superv_VISUALFB_METH]\n",
      "appended col to self.Dat:\n",
      "supervision_stage_new\n",
      "Computing features each probe\n",
      "[taskgroup_reassign_by_mapper], reassigned values in column: taskgroup\n",
      "[taskgroup_reassign_by_mapper], reassigned values in column: taskgroup\n",
      "GROUPING epoch\n",
      "GROUPING_LEVELS ['base', 'llCV3']\n",
      "FEATURE_NAMES ['hdoffline', 'num_strokes_beh', 'num_strokes_task', 'circ', 'dist']\n",
      "SCORE_COL_NAMES []\n",
      "appended col to self.Dat:\n",
      "date_epoch\n",
      "Appended self.Dat[superv_SEQUENCE_SUP]\n",
      "Appended self.Dat[superv_COLOR_ON]\n",
      "Appended self.Dat[superv_COLOR_METHOD]\n",
      "Appended self.Dat[superv_COLOR_ITEMS_FADE_TO_DEFAULT_BINSTR]\n",
      "Appended self.Dat[superv_GUIDEDYN_ON]\n",
      "appended col to self.Dat:\n",
      "supervision_stage_concise\n",
      "Append column to self.Dat:  supervision_stage_semantic\n",
      "Extracted into self.Dat[epoch_orig]\n",
      "For n_clusters = 6 The average silhouette_score is : 0.5332734644708169\n",
      "For n_clusters = 7 The average silhouette_score is : 0.6030777572822473\n",
      "For n_clusters = 8 The average silhouette_score is : 0.6034801985718763\n",
      "For n_clusters = 9 The average silhouette_score is : 0.6064165258649944\n",
      "For n_clusters = 10 The average silhouette_score is : 0.6083345138640766\n",
      "For n_clusters = 11 The average silhouette_score is : 0.5880788341952374\n",
      "For n_clusters = 12 The average silhouette_score is : 0.6319563596581106\n",
      "For n_clusters = 13 The average silhouette_score is : 0.6330759513974749\n",
      "For n_clusters = 14 The average silhouette_score is : 0.6427047865658388\n",
      "For n_clusters = 15 The average silhouette_score is : 0.6612762757244752\n",
      "For n_clusters = 16 The average silhouette_score is : 0.6799876593533465\n",
      "For n_clusters = 17 The average silhouette_score is : 0.6880965654153948\n",
      "For n_clusters = 18 The average silhouette_score is : 0.7034873729871759\n",
      "For n_clusters = 19 The average silhouette_score is : 0.712665468904789\n",
      "For n_clusters = 20 The average silhouette_score is : 0.7316540041273012\n",
      "For n_clusters = 21 The average silhouette_score is : 0.7306431008961652\n",
      "For n_clusters = 22 The average silhouette_score is : 0.7156014820014441\n",
      "For n_clusters = 23 The average silhouette_score is : 0.7006129482924256\n",
      "For n_clusters = 24 The average silhouette_score is : 0.6804339856247686\n",
      "For n_clusters = 25 The average silhouette_score is : 0.666121850985453\n",
      "For n_clusters = 26 The average silhouette_score is : 0.6540593437392354\n",
      "Using n_clusters = 20\n",
      "SAVING at:  /gorilla1/analyses/main/preprocess_general/Diego_230817_dirgrammardiego5c\n",
      "For n_clusters = 4 The average silhouette_score is : 0.465322318622674\n",
      "For n_clusters = 5 The average silhouette_score is : 0.5730596829567949\n",
      "For n_clusters = 6 The average silhouette_score is : 0.6551132388197092\n",
      "For n_clusters = 7 The average silhouette_score is : 0.7806259317338328\n",
      "For n_clusters = 8 The average silhouette_score is : 0.755902847435022\n",
      "For n_clusters = 9 The average silhouette_score is : 0.7243544434798036\n",
      "For n_clusters = 10 The average silhouette_score is : 0.6837461234128415\n",
      "For n_clusters = 11 The average silhouette_score is : 0.6371774786750609\n",
      "For n_clusters = 12 The average silhouette_score is : 0.6314508613730583\n",
      "For n_clusters = 13 The average silhouette_score is : 0.5719942526497019\n",
      "For n_clusters = 14 The average silhouette_score is : 0.5403515096632739\n",
      "For n_clusters = 15 The average silhouette_score is : 0.5442298691811445\n",
      "For n_clusters = 16 The average silhouette_score is : 0.5399336346580748\n",
      "For n_clusters = 17 The average silhouette_score is : 0.49425625738609325\n",
      "For n_clusters = 18 The average silhouette_score is : 0.46010637655741393\n",
      "For n_clusters = 19 The average silhouette_score is : 0.48100806347526603\n",
      "For n_clusters = 20 The average silhouette_score is : 0.44558093946552224\n",
      "For n_clusters = 21 The average silhouette_score is : 0.4417358268543715\n",
      "For n_clusters = 22 The average silhouette_score is : 0.44460000176546877\n",
      "For n_clusters = 23 The average silhouette_score is : 0.42922429124157896\n",
      "For n_clusters = 24 The average silhouette_score is : 0.4166170751118265\n",
      "For n_clusters = 25 The average silhouette_score is : 0.40275820031949305\n",
      "For n_clusters = 26 The average silhouette_score is : 0.40728517436626016\n",
      "Using n_clusters = 7\n",
      "ndims for feature loc_on = 2\n",
      "New colname in tokens: loc_on_binned\n",
      "ndims for feature angle = 1\n",
      "New colname in tokens: angle_binned\n",
      "ndims for feature center = 2\n",
      "New colname in tokens: center_binned\n",
      "ndims for feature center = 2\n",
      "New colname in tokens: center_binned\n",
      "ndims for feature center = 2\n",
      "New colname in tokens: center_binned\n",
      "0\n",
      "100\n",
      "200\n",
      "300\n",
      "400\n",
      "500\n",
      "600\n",
      "700\n",
      "This many strokes extracted:  4439\n",
      "DONE!\n",
      "Appended epoch to self.Dat\n",
      "Appended character to self.Dat\n",
      "Basis set of strokes: ['Lcentered-4-1-0', 'Lcentered-4-2-0', 'Lcentered-4-3-0', 'Lcentered-4-4-0', 'V-2-2-0', 'V-2-3-0', 'V-2-4-0', 'arcdeep-4-2-0', 'arcdeep-4-3-0', 'arcdeep-4-4-0', 'circle-6-1-0', 'line-8-1-0', 'line-8-2-0', 'line-8-3-0', 'line-8-4-0', 'squiggle3-3-1-0', 'squiggle3-3-1-1', 'squiggle3-3-2-0', 'squiggle3-3-2-1', 'usquare-1-2-0', 'usquare-1-3-0', 'usquare-1-4-0', 'zigzagSq-1-1-0', 'zigzagSq-1-1-1', 'zigzagSq-1-2-0', 'zigzagSq-1-2-1']\n",
      "Deleting these columns with seqc in name: []\n",
      "Appended columns gridsize!\n",
      "... Generated these...\n",
      "self.BehTrialMapList [(1, 0)]\n",
      "self.BehTrialMapListGood {0: (0, 1), 1: (0, 2), 2: (0, 3), 3: (0, 4), 4: (0, 5), 5: (0, 6), 6: (0, 7), 7: (0, 8), 8: (0, 9), 9: (0, 10), 10: (0, 11), 11: (0, 12), 12: (0, 13), 13: (0, 14), 14: (0, 15), 15: (0, 16), 16: (0, 17), 17: (0, 18), 18: (0, 19), 19: (0, 20), 20: (0, 21), 21: (0, 22), 22: (0, 23), 23: (0, 24), 24: (0, 25), 25: (0, 26), 26: (0, 27), 27: (0, 28), 28: (0, 29), 29: (0, 30), 30: (0, 31), 31: (0, 32), 32: (0, 33), 33: (0, 34), 34: (0, 35), 35: (0, 36), 36: (0, 37), 37: (0, 38), 38: (0, 39), 39: (0, 40), 40: (0, 41), 41: (0, 42), 42: (0, 43), 43: (0, 44), 44: (0, 45), 45: (0, 46), 46: (0, 47), 47: (0, 48), 48: (0, 49), 49: (0, 50), 50: (0, 51), 51: (0, 52), 52: (0, 53), 53: (0, 54), 54: (0, 55), 55: (0, 56), 56: (0, 57), 57: (0, 58), 58: (0, 59), 59: (0, 60), 60: (0, 61), 61: (0, 62), 62: (0, 63), 63: (0, 64), 64: (0, 65), 65: (0, 66), 66: (0, 67), 67: (0, 68), 68: (0, 69), 69: (0, 70), 70: (0, 71), 71: (0, 72), 72: (0, 73), 73: (0, 74), 74: (0, 75), 75: (0, 76), 76: (0, 77), 77: (0, 78), 78: (0, 79), 79: (0, 80), 80: (0, 81), 81: (0, 82), 82: (0, 83), 83: (0, 84), 84: (0, 85), 85: (0, 86), 86: (0, 87), 87: (0, 88), 88: (0, 89), 89: (0, 90), 90: (0, 91), 91: (0, 92), 92: (0, 93), 93: (0, 94), 94: (0, 95), 95: (0, 96), 96: (0, 97), 97: (0, 98), 98: (0, 99), 99: (0, 100), 100: (0, 101), 101: (0, 102), 102: (0, 103), 103: (0, 104), 104: (0, 105), 105: (0, 106), 106: (0, 107), 107: (0, 108), 108: (0, 109), 109: (0, 110), 110: (0, 111), 111: (0, 112), 112: (0, 113), 113: (0, 114), 114: (0, 115), 115: (0, 116), 116: (0, 117), 117: (0, 118), 118: (0, 119), 119: (0, 120), 120: (0, 121), 121: (0, 122), 122: (0, 123), 123: (0, 124), 124: (0, 125), 125: (0, 126), 126: (0, 127), 127: (0, 128), 128: (0, 129), 129: (0, 130), 130: (0, 131), 131: (0, 132), 132: (0, 133), 133: (0, 134), 134: (0, 135), 135: (0, 136), 136: (0, 137), 137: (0, 138), 138: (0, 139), 139: (0, 140), 140: (0, 141), 141: (0, 142), 142: (0, 143), 143: (0, 144), 144: (0, 145), 145: (0, 146), 146: (0, 147), 147: (0, 148), 148: (0, 149), 149: (0, 150), 150: (0, 151), 151: (0, 152), 152: (0, 153), 153: (0, 154), 154: (0, 155), 155: (0, 156), 156: (0, 157), 157: (0, 158), 158: (0, 159), 159: (0, 160), 160: (0, 161), 161: (0, 162), 162: (0, 163), 163: (0, 164), 164: (0, 165), 165: (0, 166), 166: (0, 167), 167: (0, 168), 168: (0, 169), 169: (0, 170), 170: (0, 171), 171: (0, 172), 172: (0, 173), 173: (0, 174), 174: (0, 175), 175: (0, 176), 176: (0, 177), 177: (0, 178), 178: (0, 179), 179: (0, 180), 180: (0, 181), 181: (0, 182), 182: (0, 183), 183: (0, 184), 184: (0, 185), 185: (0, 186), 186: (0, 187), 187: (0, 188), 188: (0, 189), 189: (0, 190), 190: (0, 191), 191: (0, 192), 192: (0, 193), 193: (0, 194), 194: (0, 195), 195: (0, 196), 196: (0, 197), 197: (0, 198), 198: (0, 199), 199: (0, 200), 200: (0, 201), 201: (0, 202), 202: (0, 203), 203: (0, 204), 204: (0, 205), 205: (0, 206), 206: (0, 207), 207: (0, 208), 208: (0, 209), 209: (0, 210), 210: (0, 211), 211: (0, 212), 212: (0, 213), 213: (0, 214), 214: (0, 215), 215: (0, 216), 216: (0, 217), 217: (0, 218), 218: (0, 219), 219: (0, 220), 220: (0, 221), 221: (0, 222), 222: (0, 223), 223: (0, 224), 224: (0, 225), 225: (0, 226), 226: (0, 227), 227: (0, 228), 228: (0, 229), 229: (0, 230), 230: (0, 231), 231: (0, 232), 232: (0, 233), 233: (0, 234), 234: (0, 235), 235: (0, 236), 236: (0, 237), 237: (0, 238), 238: (0, 239), 239: (0, 240), 240: (0, 241), 241: (0, 242), 242: (0, 243), 243: (0, 244), 244: (0, 245), 245: (0, 246), 246: (0, 247), 247: (0, 248), 248: (0, 249), 249: (0, 250), 250: (0, 251), 251: (0, 252), 252: (0, 253), 253: (0, 254), 254: (0, 255), 255: (0, 256), 256: (0, 257), 257: (0, 258), 258: (0, 259), 259: (0, 260), 260: (0, 261), 261: (0, 262), 262: (0, 263), 263: (0, 264), 264: (0, 265), 265: (0, 266), 266: (0, 267), 267: (0, 268), 268: (0, 269), 269: (0, 270), 270: (0, 271), 271: (0, 272), 272: (0, 273), 273: (0, 274), 274: (0, 275), 275: (0, 276), 276: (0, 277), 277: (0, 278), 278: (0, 279), 279: (0, 280), 280: (0, 281), 281: (0, 282), 282: (0, 283), 283: (0, 284), 284: (0, 285), 285: (0, 286), 286: (0, 287), 287: (0, 288), 288: (0, 289), 289: (0, 290), 290: (0, 291), 291: (0, 292), 292: (0, 293), 293: (0, 294), 294: (0, 295), 295: (0, 296), 296: (0, 297), 297: (0, 298), 298: (0, 299), 299: (0, 300), 300: (0, 301), 301: (0, 302), 302: (0, 303), 303: (0, 304), 304: (0, 305), 305: (0, 306), 306: (0, 307), 307: (0, 308), 308: (0, 309), 309: (0, 310), 310: (0, 311), 311: (0, 312), 312: (0, 313), 313: (0, 314), 314: (0, 315), 315: (0, 316), 316: (0, 317), 317: (0, 318), 318: (0, 319), 319: (0, 320), 320: (0, 321), 321: (0, 322), 322: (0, 323), 323: (0, 324), 324: (0, 325), 325: (0, 326), 326: (0, 327), 327: (0, 328), 328: (0, 329), 329: (0, 330), 330: (0, 331), 331: (0, 332), 332: (0, 333), 333: (0, 334), 334: (0, 335), 335: (0, 336), 336: (0, 337), 337: (0, 338), 338: (0, 339), 339: (0, 340), 340: (0, 341), 341: (0, 342), 342: (0, 343), 343: (0, 344), 344: (0, 345), 345: (0, 346), 346: (0, 347), 347: (0, 348), 348: (0, 349), 349: (0, 350), 350: (0, 351), 351: (0, 352), 352: (0, 353), 353: (0, 354), 354: (0, 355), 355: (0, 356), 356: (0, 357), 357: (0, 358), 358: (0, 359), 359: (0, 360), 360: (0, 361), 361: (0, 362), 362: (0, 363), 363: (0, 364), 364: (0, 365), 365: (0, 366), 366: (0, 367), 367: (0, 368), 368: (0, 369), 369: (0, 370), 370: (0, 371), 371: (0, 372), 372: (0, 373), 373: (0, 374), 374: (0, 375), 375: (0, 376), 376: (0, 377), 377: (0, 378), 378: (0, 379), 379: (0, 380), 380: (0, 381), 381: (0, 382), 382: (0, 383), 383: (0, 384), 384: (0, 385), 385: (0, 386), 386: (0, 387), 387: (0, 388), 388: (0, 389), 389: (0, 390), 390: (0, 391), 391: (0, 392), 392: (0, 393), 393: (0, 394), 394: (0, 395), 395: (0, 396), 396: (0, 397), 397: (0, 398), 398: (0, 399), 399: (0, 400), 400: (0, 401), 401: (0, 402), 402: (0, 403), 403: (0, 404), 404: (0, 405), 405: (0, 406), 406: (0, 407), 407: (0, 408), 408: (0, 409), 409: (0, 410), 410: (0, 411), 411: (0, 412), 412: (0, 413), 413: (0, 414), 414: (0, 415), 415: (0, 416), 416: (0, 417), 417: (0, 418), 418: (0, 419), 419: (0, 420), 420: (0, 421), 421: (0, 422), 422: (0, 423), 423: (0, 424), 424: (0, 425), 425: (0, 426), 426: (0, 427), 427: (0, 428), 428: (0, 429), 429: (0, 430), 430: (0, 431), 431: (0, 432), 432: (0, 433), 433: (0, 434), 434: (0, 435), 435: (0, 436), 436: (0, 437), 437: (0, 438), 438: (0, 439), 439: (0, 440), 440: (0, 441), 441: (0, 442), 442: (0, 443), 443: (0, 444), 444: (0, 445), 445: (0, 446), 446: (0, 447), 447: (0, 448), 448: (0, 449), 449: (0, 450), 450: (0, 451), 451: (0, 452), 452: (0, 453), 453: (0, 454), 454: (0, 455), 455: (0, 456), 456: (0, 457), 457: (0, 458), 458: (0, 459), 459: (0, 460), 460: (0, 461), 461: (0, 462), 462: (0, 463), 463: (0, 464), 464: (0, 465), 465: (0, 466), 466: (0, 467), 467: (0, 468), 468: (0, 469), 469: (0, 470), 470: (0, 471), 471: (0, 472), 472: (0, 473), 473: (0, 474), 474: (0, 475), 475: (0, 476), 476: (0, 477), 477: (0, 478), 478: (0, 479), 479: (0, 480), 480: (0, 481), 481: (0, 482), 482: (0, 483), 483: (0, 484), 484: (0, 485), 485: (0, 486), 486: (0, 487), 487: (0, 488), 488: (0, 489), 489: (0, 490), 490: (0, 491), 491: (0, 492), 492: (0, 493), 493: (0, 494), 494: (0, 495), 495: (0, 496), 496: (0, 497), 497: (0, 498), 498: (0, 499), 499: (0, 500), 500: (0, 501), 501: (0, 502), 502: (0, 503), 503: (0, 504), 504: (0, 505), 505: (0, 506), 506: (0, 507), 507: (0, 508), 508: (0, 509), 509: (0, 510), 510: (0, 511), 511: (0, 512), 512: (0, 513), 513: (0, 514), 514: (0, 515), 515: (0, 516), 516: (0, 517), 517: (0, 518), 518: (0, 519), 519: (0, 520), 520: (0, 521), 521: (0, 522), 522: (0, 523), 523: (0, 524), 524: (0, 525), 525: (0, 526), 526: (0, 527), 527: (0, 528), 528: (0, 529), 529: (0, 530), 530: (0, 531), 531: (0, 532), 532: (0, 533), 533: (0, 534), 534: (0, 535), 535: (0, 536), 536: (0, 537), 537: (0, 538), 538: (0, 539), 539: (0, 540), 540: (0, 541), 541: (0, 542), 542: (0, 543), 543: (0, 544), 544: (0, 545), 545: (0, 546), 546: (0, 547), 547: (0, 548), 548: (0, 549), 549: (0, 550), 550: (0, 551), 551: (0, 552), 552: (0, 553), 553: (0, 554), 554: (0, 555), 555: (0, 556), 556: (0, 557), 557: (0, 558), 558: (0, 559), 559: (0, 560), 560: (0, 561), 561: (0, 562), 562: (0, 563), 563: (0, 564), 564: (0, 565), 565: (0, 566), 566: (0, 567), 567: (0, 568), 568: (0, 569), 569: (0, 570), 570: (0, 571), 571: (0, 572), 572: (0, 573), 573: (0, 574), 574: (0, 575), 575: (0, 576), 576: (0, 577), 577: (0, 578), 578: (0, 579), 579: (0, 580), 580: (0, 581), 581: (0, 582), 582: (0, 583), 583: (0, 584), 584: (0, 585), 585: (0, 586), 586: (0, 587), 587: (0, 588), 588: (0, 589), 589: (0, 590), 590: (0, 591), 591: (0, 592), 592: (0, 593), 593: (0, 594), 594: (0, 595), 595: (0, 596), 596: (0, 597), 597: (0, 598), 598: (0, 599), 599: (0, 600), 600: (0, 601), 601: (0, 602), 602: (0, 603), 603: (0, 604), 604: (0, 605), 605: (0, 606), 606: (0, 607), 607: (0, 608), 608: (0, 609), 609: (0, 610), 610: (0, 611), 611: (0, 612), 612: (0, 613), 613: (0, 614), 614: (0, 615), 615: (0, 616), 616: (0, 617), 617: (0, 618), 618: (0, 619), 619: (0, 620), 620: (0, 621), 621: (0, 622), 622: (0, 623), 623: (0, 624), 624: (0, 625), 625: (0, 626), 626: (0, 627), 627: (0, 628), 628: (0, 629), 629: (0, 630), 630: (0, 631), 631: (0, 632), 632: (0, 633), 633: (0, 634), 634: (0, 635), 635: (0, 636), 636: (0, 637), 637: (0, 638), 638: (0, 639), 639: (0, 640), 640: (0, 641), 641: (0, 642), 642: (0, 643), 643: (0, 644), 644: (0, 645), 645: (0, 646), 646: (0, 647), 647: (0, 648), 648: (0, 649), 649: (0, 650), 650: (0, 651), 651: (0, 652), 652: (0, 653), 653: (0, 654), 654: (0, 655), 655: (0, 656), 656: (0, 657), 657: (0, 658), 658: (0, 659), 659: (0, 660), 660: (0, 661), 661: (0, 662), 662: (0, 663), 663: (0, 664), 664: (0, 665), 665: (0, 666), 666: (0, 667), 667: (0, 668), 668: (0, 669), 669: (0, 670), 670: (0, 671), 671: (0, 672), 672: (0, 673), 673: (0, 674), 674: (0, 675), 675: (0, 676), 676: (0, 677), 677: (0, 678), 678: (0, 679), 679: (0, 680), 680: (0, 681), 681: (0, 682), 682: (0, 683), 683: (0, 684), 684: (0, 685), 685: (0, 686), 686: (0, 687), 687: (0, 688), 688: (0, 689), 689: (0, 690), 690: (0, 691), 691: (0, 692), 692: (0, 693), 693: (0, 694), 694: (0, 695), 695: (0, 696), 696: (0, 697), 697: (0, 698), 698: (0, 699), 699: (0, 700), 700: (0, 701), 701: (0, 702), 702: (0, 703), 703: (0, 704), 704: (0, 705), 705: (0, 706), 706: (0, 707), 707: (0, 708), 708: (0, 709), 709: (0, 710), 710: (0, 711), 711: (0, 712), 712: (0, 713), 713: (0, 714), 714: (0, 715), 715: (0, 716), 716: (0, 717), 717: (0, 718), 718: (0, 719), 719: (0, 720), 720: (0, 721), 721: (0, 722), 722: (0, 723), 723: (0, 724), 724: (0, 725), 725: (0, 726), 726: (0, 727), 727: (0, 728), 728: (0, 729), 729: (0, 730), 730: (0, 731), 731: (0, 732), 732: (0, 733), 733: (0, 734), 734: (0, 735), 735: (0, 736), 736: (0, 737), 737: (0, 738), 738: (0, 739), 739: (0, 740), 740: (0, 741), 741: (0, 742), 742: (0, 743), 743: (0, 744), 744: (0, 745), 745: (0, 746), 746: (0, 747), 747: (0, 748), 748: (0, 749), 749: (0, 750), 750: (0, 751), 751: (0, 752), 752: (0, 753), 753: (0, 754), 754: (0, 755), 755: (0, 756), 756: (0, 757), 757: (0, 758), 758: (0, 759), 759: (0, 760), 760: (0, 761), 761: (0, 762), 762: (0, 763), 763: (0, 764), 764: (0, 765), 765: (0, 766), 766: (0, 767), 767: (0, 768), 768: (0, 769), 769: (0, 770), 770: (0, 771), 771: (0, 772), 772: (0, 773), 773: (0, 774), 774: (0, 775), 775: (0, 776), 776: (0, 777), 777: (0, 778), 778: (0, 779), 779: (0, 780), 780: (0, 781), 781: (0, 782), 782: (0, 783), 783: (0, 784), 784: (0, 785), 785: (0, 786), 786: (0, 787), 787: (0, 788), 788: (0, 789), 789: (0, 790), 790: (0, 791), 791: (0, 792), 792: (0, 793), 793: (0, 794), 794: (0, 795), 795: (0, 796), 796: (0, 797), 797: (0, 798), 798: (0, 799), 799: (0, 800), 800: (0, 801), 801: (0, 802), 802: (0, 803), 803: (0, 804), 804: (0, 805), 805: (0, 806), 806: (0, 807), 807: (0, 808), 808: (0, 809), 809: (0, 810), 810: (0, 811), 811: (0, 812), 812: (0, 813), 813: (0, 814), 814: (0, 815), 815: (0, 816), 816: (0, 817), 817: (0, 818), 818: (0, 819), 819: (0, 820), 820: (0, 821), 821: (0, 822), 822: (0, 823), 823: (0, 824), 824: (0, 825), 825: (0, 826), 826: (0, 827), 827: (0, 828), 828: (0, 829), 829: (0, 830), 830: (0, 831), 831: (0, 832), 832: (0, 833), 833: (0, 834), 834: (0, 835), 835: (0, 836), 836: (0, 837), 837: (0, 838), 838: (0, 839), 839: (0, 840), 840: (0, 841), 841: (0, 842), 842: (0, 843), 843: (0, 844), 844: (0, 845), 845: (0, 846), 846: (0, 847), 847: (0, 848), 848: (0, 849), 849: (0, 850), 850: (0, 851), 851: (0, 852), 852: (0, 853), 853: (0, 854), 854: (0, 855), 855: (0, 856), 856: (0, 857), 857: (0, 858), 858: (0, 859), 859: (0, 860), 860: (0, 861), 861: (0, 862), 862: (0, 863), 863: (0, 864), 864: (0, 865), 865: (0, 866), 866: (0, 867), 867: (0, 868), 868: (0, 869), 869: (0, 870), 870: (0, 871), 871: (0, 872), 872: (0, 873), 873: (0, 874), 874: (0, 875), 875: (0, 876), 876: (0, 877), 877: (0, 878), 878: (0, 879), 879: (0, 880), 880: (0, 881), 881: (0, 882), 882: (0, 883), 883: (0, 884), 884: (0, 885), 885: (0, 886), 886: (0, 887), 887: (0, 888), 888: (0, 889), 889: (0, 890), 890: (0, 891), 891: (0, 892), 892: (0, 893), 893: (0, 894), 894: (0, 895), 895: (0, 896), 896: (0, 897), 897: (0, 898), 898: (0, 899), 899: (0, 900), 900: (0, 901), 901: (0, 902), 902: (0, 903), 903: (0, 904), 904: (0, 905), 905: (0, 906), 906: (0, 907), 907: (0, 908), 908: (0, 909), 909: (0, 910), 910: (0, 911), 911: (0, 912), 912: (0, 913), 913: (0, 914), 914: (0, 915), 915: (0, 916), 916: (0, 917), 917: (0, 918), 918: (0, 919), 919: (0, 920), 920: (0, 921), 921: (0, 922), 922: (0, 923), 923: (0, 924), 924: (0, 925), 925: (0, 926), 926: (0, 927), 927: (0, 928), 928: (0, 929), 929: (0, 930), 930: (0, 931), 931: (0, 932), 932: (0, 933), 933: (0, 934), 934: (0, 935), 935: (0, 936), 936: (0, 937), 937: (0, 938), 938: (0, 939), 939: (0, 940), 940: (0, 941), 941: (0, 942), 942: (0, 943), 943: (0, 944), 944: (0, 945), 945: (0, 946), 946: (0, 947), 947: (0, 948), 948: (0, 949), 949: (0, 950), 950: (0, 951), 951: (0, 952), 952: (0, 953), 953: (0, 954), 954: (0, 955), 955: (0, 956), 956: (0, 957), 957: (0, 958), 958: (0, 959), 959: (0, 960), 960: (0, 961), 961: (0, 962), 962: (0, 963), 963: (0, 964), 964: (0, 965), 965: (0, 966), 966: (0, 967), 967: (0, 968), 968: (0, 969), 969: (0, 970), 970: (0, 971), 971: (0, 972), 972: (0, 973), 973: (0, 974), 974: (0, 975), 975: (0, 976), 976: (0, 977), 977: (0, 978), 978: (0, 979), 979: (0, 980), 980: (0, 981), 981: (0, 982), 982: (0, 983), 983: (0, 984), 984: (0, 985), 985: (0, 986), 986: (0, 987), 987: (0, 988), 988: (0, 989), 989: (0, 990), 990: (0, 991), 991: (0, 992), 992: (0, 993), 993: (0, 994), 994: (0, 995), 995: (0, 996), 996: (0, 997), 997: (0, 998), 998: (0, 999), 999: (0, 1000), 1000: (0, 1001), 1001: (0, 1002), 1002: (0, 1003), 1003: (0, 1004), 1004: (0, 1005), 1005: (0, 1006), 1006: (0, 1007), 1007: (0, 1008), 1008: (0, 1009), 1009: (0, 1010), 1010: (0, 1011), 1011: (0, 1012), 1012: (0, 1013), 1013: (0, 1014), 1014: (0, 1015), 1015: (0, 1016), 1016: (0, 1017), 1017: (0, 1018), 1018: (0, 1019), 1019: (0, 1020), 1020: (0, 1021), 1021: (0, 1022), 1022: (0, 1023), 1023: (0, 1024), 1024: (0, 1025), 1025: (0, 1026), 1026: (0, 1027), 1027: (0, 1028), 1028: (0, 1029), 1029: (0, 1030), 1030: (0, 1031), 1031: (0, 1032), 1032: (0, 1033), 1033: (0, 1034), 1034: (0, 1035), 1035: (0, 1036), 1036: (0, 1037), 1037: (0, 1038), 1038: (0, 1039), 1039: (0, 1040), 1040: (0, 1041), 1041: (0, 1042), 1042: (0, 1043), 1043: (0, 1044), 1044: (0, 1045), 1045: (0, 1046), 1046: (0, 1047), 1047: (0, 1048), 1048: (0, 1049), 1049: (0, 1050), 1050: (0, 1051), 1051: (0, 1052), 1052: (0, 1053), 1053: (0, 1054), 1054: (0, 1055), 1055: (0, 1056), 1056: (0, 1057), 1057: (0, 1058), 1058: (0, 1059), 1059: (0, 1060), 1060: (0, 1061), 1061: (0, 1062), 1062: (0, 1063), 1063: (0, 1064), 1064: (0, 1065), 1065: (0, 1066), 1066: (0, 1067), 1067: (0, 1068), 1068: (0, 1069), 1069: (0, 1070), 1070: (0, 1071), 1071: (0, 1072), 1072: (0, 1073), 1073: (0, 1074), 1074: (0, 1075), 1075: (0, 1076), 1076: (0, 1077), 1077: (0, 1078), 1078: (0, 1079), 1079: (0, 1080), 1080: (0, 1081), 1081: (0, 1082), 1082: (0, 1083), 1083: (0, 1084), 1084: (0, 1085), 1085: (0, 1086), 1086: (0, 1087), 1087: (0, 1088), 1088: (0, 1089), 1089: (0, 1090), 1090: (0, 1091), 1091: (0, 1092), 1092: (0, 1093), 1093: (0, 1094), 1094: (0, 1095), 1095: (0, 1096), 1096: (0, 1097), 1097: (0, 1098), 1098: (0, 1099), 1099: (0, 1100), 1100: (0, 1101), 1101: (0, 1102), 1102: (0, 1103), 1103: (0, 1104), 1104: (0, 1105), 1105: (0, 1106), 1106: (0, 1107), 1107: (0, 1108), 1108: (0, 1109), 1109: (0, 1110), 1110: (0, 1111), 1111: (0, 1112), 1112: (0, 1113), 1113: (0, 1114), 1114: (0, 1115), 1115: (0, 1116), 1116: (0, 1117), 1117: (0, 1118)}\n",
      "Generated self._MapperTrialcode2TrialToTrial!\n",
      "- Keeping only dataset trials that exist in self.Dat\n",
      "Starting length:  741\n",
      "self.Dat modified!!\n",
      "Ending length:  741\n",
      "**Loaded dataset! daily\n",
      "Pruning events in EventsTimeUsingPhd to exclude those using datasetbeh strokes...\n",
      "Extracted into self.Dat[epoch_orig]\n",
      "-- loaded presaved data: /mnt/Freiwald_kgupta/kgupta/macaque_data/Diego/230817/230817_150128_dirgrammardiego5c_Diego_1.pkl\n",
      "Extracted successfully for session:  0\n",
      "Generated index mappers!\n"
     ]
    },
    {
     "data": {
      "text/plain": "<Figure size 640x480 with 1 Axes>",
      "image/png": "[encoded data removed]"
     },
     "metadata": {},
     "output_type": "display_data"
    },
    {
     "data": {
      "text/plain": "<Figure size 640x480 with 1 Axes>",
      "image/png": "[encoded data removed]"
     },
     "metadata": {},
     "output_type": "display_data"
    },
    {
     "data": {
      "text/plain": "<Figure size 200x250 with 1 Axes>",
      "image/png": "[encoded data removed]"
     },
     "metadata": {},
     "output_type": "display_data"
    },
    {
     "data": {
      "text/plain": "<Figure size 200x250 with 1 Axes>",
      "image/png": "[encoded data removed]"
     },
     "metadata": {},
     "output_type": "display_data"
    },
    {
     "data": {
      "text/plain": "<Figure size 640x480 with 1 Axes>",
      "image/png": "[encoded data removed]"
     },
     "metadata": {},
     "output_type": "display_data"
    },
    {
     "data": {
      "text/plain": "<Figure size 640x480 with 1 Axes>",
      "image/png": "[encoded data removed]"
     },
     "metadata": {},
     "output_type": "display_data"
    }
   ],
   "source": [
    "# DATE = 230622\n",
    "# animal = \"Pancho\"\n",
    "DATE = 230817\n",
    "animal = \"Diego\"\n",
    "spikes_version = \"tdt\"\n",
    "# spikes_version = \"kilosort_if_exists\"\n",
    "MS = load_mult_session_helper(DATE, animal, MINIMAL_LOADING=True, spikes_version=spikes_version) \n",
    "# MS = load_mult_session_helper(DATE, animal, MINIMAL_LOADING=True, spikes_version=\"tdt\") "
   ],
   "metadata": {
    "collapsed": false,
    "ExecuteTime": {
     "end_time": "2024-03-17T20:58:17.234503260Z",
     "start_time": "2024-03-17T20:55:28.297605429Z"
    }
   },
   "id": "5ea565361cc650ab"
  },
  {
   "cell_type": "code",
   "execution_count": null,
   "outputs": [],
   "source": [
    "\n",
    "### Snippets, split by stroke index and location\n",
    "MS.print_summary_sessions()\n",
    "from neuralmonkey.classes.snippets import Snippets, extraction_helper\n",
    "\n",
    "# Pick out a single session\n",
    "sn = MS.SessionsList[0]\n"
   ],
   "metadata": {
    "collapsed": false
   },
   "id": "4f6a93293ea856b"
  },
  {
   "cell_type": "code",
   "execution_count": 4,
   "outputs": [],
   "source": [
    "# Turn on debug mode, this prunes sites and trials, so below runs faster\n",
    "# sn.debug_mode_switch_to(sites=True, trials=False)\n",
    "for sn in MS.SessionsList:\n",
    "    sn.debug_mode_switch_to(sites=True, trials=True)"
   ],
   "metadata": {
    "collapsed": false,
    "ExecuteTime": {
     "end_time": "2024-03-17T20:58:17.262115934Z",
     "start_time": "2024-03-17T20:58:17.207470204Z"
    }
   },
   "id": "3a14b819b3467a91"
  },
  {
   "cell_type": "code",
   "execution_count": null,
   "outputs": [],
   "source": [
    "sn.sitegetter_print_summarytext_each_unit"
   ],
   "metadata": {
    "collapsed": false
   },
   "id": "c70caea262e5b9f5"
  },
  {
   "cell_type": "code",
   "execution_count": null,
   "outputs": [],
   "source": [
    "#### TODO:"
   ],
   "metadata": {
    "collapsed": false
   },
   "id": "147dd1d006ec40f8"
  },
  {
   "cell_type": "code",
   "execution_count": null,
   "outputs": [],
   "source": [
    "# problem 1. Stroke onset time -- why don't they match between SN and Datasetbeh.\n",
    "# problem 2. concatting DS across sessions for Pancho --> failing."
   ],
   "metadata": {
    "collapsed": false
   },
   "id": "27e1d93bf57165eb"
  },
  {
   "cell_type": "markdown",
   "source": [
    "##### Loading beh dataset from raw"
   ],
   "metadata": {
    "collapsed": false
   },
   "id": "5504d465d9ff5c52"
  },
  {
   "cell_type": "code",
   "execution_count": null,
   "outputs": [],
   "source": [
    "sn.datasetbeh_load_helper(sn.DatasetbehExptname)"
   ],
   "metadata": {
    "collapsed": false
   },
   "id": "9cc78238989f7325"
  },
  {
   "cell_type": "markdown",
   "source": [
    "# [GOOD] Extract Snippets across all SN in MS, and clean as you would if you loaded from pre-saved"
   ],
   "metadata": {
    "collapsed": false
   },
   "id": "38180bcff0f639bb"
  },
  {
   "cell_type": "markdown",
   "source": [
    "### Wrapper to regenerate Snippets"
   ],
   "metadata": {
    "collapsed": false
   },
   "id": "5774b2191c347431"
  },
  {
   "cell_type": "code",
   "execution_count": null,
   "outputs": [],
   "source": [
    "from neuralmonkey.classes.snippets import load_and_concat_mult_snippets\n",
    "which_level = \"stroke\"\n",
    "EVENTS_KEEP = None\n",
    "SP, SAVEDIR_ALL = load_and_concat_mult_snippets(MS, which_level, EVENTS_KEEP)"
   ],
   "metadata": {
    "collapsed": false
   },
   "id": "cd4d71d3fc3d22ae"
  },
  {
   "cell_type": "code",
   "execution_count": null,
   "outputs": [],
   "source": [
    "# Load a question\n",
    "from neuralmonkey.analyses.rsa import rsagood_questions_dict\n",
    "date = DATE\n",
    "# question = \"CHAR_BASE_trial\"\n",
    "# question = \"CHAR_BASE_stroke\"\n",
    "question = \"PIG_BASE_stroke\"\n",
    "substrokes_plot_preprocess = False\n",
    "HACK_RENAME_SHAPES = False\n",
    "\n",
    "q_params = rsagood_questions_dict(animal, date, question=question)[question]\n",
    "print(\"Question:\", question)\n",
    "print(\"These questions params:\")\n",
    "for k, v in q_params.items():\n",
    "    print(k, \" -- \", v)\n",
    "assert which_level in q_params[\"list_which_level\"], \"or else might run into error later.\"\n",
    "\n",
    "# Clean up SP and extract features\n",
    "D, list_features_extraction = SP.datasetbeh_preprocess_clean_by_expt(\n",
    "    ANALY_VER=q_params[\"ANALY_VER\"], vars_extract_append=q_params[\"effect_vars\"],\n",
    "    substrokes_plot_preprocess=substrokes_plot_preprocess,\n",
    "    HACK_RENAME_SHAPES=HACK_RENAME_SHAPES)\n"
   ],
   "metadata": {
    "collapsed": false
   },
   "id": "319a2cc74cbb03c8"
  },
  {
   "cell_type": "markdown",
   "source": [
    "##### Debugging"
   ],
   "metadata": {
    "collapsed": false
   },
   "id": "313923a439a1940c"
  },
  {
   "cell_type": "code",
   "execution_count": null,
   "outputs": [],
   "source": [
    "from neuralmonkey.classes.snippets import datasetstrokes_extract\n",
    "sn = MS.SessionsList[1]\n",
    "D = sn.Datasetbeh\n",
    "DS = datasetstrokes_extract(D, \"all_no_clean\")"
   ],
   "metadata": {
    "collapsed": false
   },
   "id": "d08f73e7c1ae93bd"
  },
  {
   "cell_type": "markdown",
   "source": [
    "### Below -- breaking out the above function"
   ],
   "metadata": {
    "collapsed": false
   },
   "id": "3bb8c29b05a1e49f"
  },
  {
   "cell_type": "code",
   "execution_count": 5,
   "outputs": [
    {
     "name": "stdout",
     "output_type": "stream",
     "text": [
      "** NOT SKIPPING EXTRACTION, since was not able to load snippets, for: \n",
      "(animal, DATE, which_level, session)\n",
      "Diego 230817 stroke 0\n",
      "Starting length of D.Dat: 741\n",
      "--BEFORE REMOVE; existing supervision_stage_concise:\n",
      "off|1|solid|1101|0     664\n",
      "off|0||1111|0           59\n",
      "mask|1|solid|1101|0     18\n",
      "Name: supervision_stage_concise, dtype: int64\n",
      "############ NOT PRUNING SUPERVISION TRIALS\n",
      "Dataset final len: 741\n",
      "*** RUNNING D.preprocessGood using these params:\n",
      "['sanity_gridloc_identical']\n",
      "-- Len of D, before applying this param: sanity_gridloc_identical, ... 741\n",
      "Success! all gridloc identical!\n",
      "These are the x and y mappings, gridloc:loc\n",
      "x... {-1: -1.0, 1: 0.75, 0: -0.125, -2: -1.875, 2: 1.625}\n",
      "y... {-1: -1.525, 1: 1.625, 0: 0.05}\n",
      "after: 741\n",
      "Kept these events:  []\n",
      "\n",
      " == extarcating these sites:  [1, 33, 65, 97, 129, 161, 225, 257, 289, 321, 353, 385, 417, 449, 481]\n",
      "0\n",
      "100\n",
      "200\n",
      "300\n",
      "400\n",
      "500\n",
      "600\n",
      "700\n",
      "This many strokes extracted:  4439\n",
      "DONE!\n",
      "Appended epoch to self.Dat\n",
      "Appended character to self.Dat\n",
      "\n",
      " == extracting these trials:  [0, 39, 80, 120, 166, 207, 250, 328, 416, 505, 554, 596, 689, 820, 873, 917, 977, 1024, 1068, 1112]\n",
      "Extracting, SN.snippets_extract_bystroke...\n",
      "index strokes:  0\n",
      "index strokes:  50\n",
      "index strokes:  100\n",
      "Extracting smoothed FR for all data...\n",
      "Inserting smoothed FR into dataset...\n",
      "Appending other columns into dataset...\n",
      "** Generated Snippets, (ver stroke). Final length of SP.DfScalar: 1875\n",
      "Keeping this many sites that pass fr thresh:\n",
      "15 / 15\n",
      "Using threshold:  1.5\n",
      "Updated self.Sites\n"
     ]
    }
   ],
   "source": [
    "from neuralmonkey.scripts.analy_snippets_extract import extract_snippets_all_sessions\n",
    "\n",
    "which_level = \"stroke\"\n",
    "EVENTS_KEEP = None\n",
    "\n",
    "# which_level = \"trial\"\n",
    "# EVENTS_KEEP = [\"03_samp\", \"go_cue\"]\n",
    "\n",
    "# version 2\n",
    "LIST_SP = extract_snippets_all_sessions(MS, which_level, EVENTS_KEEP, 1, False)"
   ],
   "metadata": {
    "collapsed": false,
    "ExecuteTime": {
     "end_time": "2024-03-17T20:58:46.011122180Z",
     "start_time": "2024-03-17T20:58:17.222660439Z"
    }
   },
   "id": "7dc8e27e27525568"
  },
  {
   "cell_type": "code",
   "execution_count": 6,
   "outputs": [
    {
     "name": "stdout",
     "output_type": "stream",
     "text": [
      "This many vals across loaded session\n",
      "0 : 1875\n",
      "Assigning to SP.Params this item:\n",
      "{'which_level': 'stroke', '_list_events': ['00_stroke'], 'list_events_uniqnames': ['00_stroke'], 'list_features_extraction': [], 'list_features_get_conjunction': [], 'list_pre_dur': [-0.8], 'list_post_dur': [0.8], 'map_var_to_othervars': None, 'strokes_only_keep_single': None, 'tasks_only_keep_these': None, 'prune_feature_levels_min_n_trials': 1, 'fr_which_version': 'sqrt', 'SPIKES_VERSION': 'tdt', 'map_var_to_levels': None}\n",
      "Assigning to SP.ParamsGlobals this item:\n",
      "{'n_min_trials_per_level': 5, 'lenient_allow_data_if_has_n_levels': 2, 'PRE_DUR_CALC': -0.8, 'POST_DUR_CALC': 0.8, 'list_events': ['00_stroke'], 'list_pre_dur': [-0.8], 'list_post_dur': [0.8]}\n",
      "Keeping this many sites that pass fr thresh:\n",
      "15 / 15\n",
      "Using threshold:  1.5\n",
      "Updated self.Sites\n"
     ]
    }
   ],
   "source": [
    "# # Reproduce this.\n",
    "# SP, SAVEDIR_ALL = load_and_concat_mult_snippets(MS, which_level = which_level,\n",
    "#     DEBUG=DEBUG)\n",
    "\n",
    "from neuralmonkey.classes.snippets import concat_mult_snippets\n",
    "SP = concat_mult_snippets(LIST_SP, MS)"
   ],
   "metadata": {
    "collapsed": false,
    "ExecuteTime": {
     "end_time": "2024-03-17T21:00:31.853720416Z",
     "start_time": "2024-03-17T21:00:31.474053840Z"
    }
   },
   "id": "60e690f6494d3177"
  },
  {
   "cell_type": "code",
   "execution_count": 27,
   "outputs": [
    {
     "data": {
      "text/plain": "0         230817-1-1\n1        230817-1-10\n2       230817-1-100\n3      230817-1-1000\n4      230817-1-1001\n           ...      \n736     230817-1-994\n737     230817-1-996\n738     230817-1-997\n739     230817-1-998\n740     230817-1-999\nName: trialcode, Length: 741, dtype: object"
     },
     "execution_count": 27,
     "metadata": {},
     "output_type": "execute_result"
    }
   ],
   "source": [
    "SP.datasetbeh_extract_dataset().Dat[\"trialcode\"]"
   ],
   "metadata": {
    "collapsed": false,
    "ExecuteTime": {
     "end_time": "2024-03-17T21:30:55.121776252Z",
     "start_time": "2024-03-17T21:30:54.902703928Z"
    }
   },
   "id": "f131a5f12e8acff6"
  },
  {
   "cell_type": "code",
   "execution_count": 31,
   "outputs": [],
   "source": [
    "SP.DS = None"
   ],
   "metadata": {
    "collapsed": false,
    "ExecuteTime": {
     "end_time": "2024-03-17T21:31:21.350578085Z",
     "start_time": "2024-03-17T21:31:21.132617965Z"
    }
   },
   "id": "1572208ce7580809"
  },
  {
   "cell_type": "code",
   "execution_count": 32,
   "outputs": [
    {
     "name": "stdout",
     "output_type": "stream",
     "text": [
      "GENERATING DS FOR THE FIRST TIME...\n",
      "0\n",
      "100\n",
      "200\n",
      "300\n",
      "400\n",
      "500\n",
      "600\n",
      "700\n",
      "This many strokes extracted:  4439\n",
      "DONE!\n",
      "Appended epoch to self.Dat\n",
      "Appended character to self.Dat\n"
     ]
    },
    {
     "data": {
      "text/plain": "0         230817-1-1\n1      230817-1-1025\n2      230817-1-1025\n3      230817-1-1025\n4      230817-1-1025\n           ...      \n120     230817-1-978\n121     230817-1-978\n122     230817-1-978\n123     230817-1-978\n124     230817-1-978\nName: trialcode, Length: 125, dtype: object"
     },
     "execution_count": 32,
     "metadata": {},
     "output_type": "execute_result"
    }
   ],
   "source": [
    "SP.datasetbeh_extract_dataset(\"datstrokes\").Dat[\"trialcode\"]"
   ],
   "metadata": {
    "collapsed": false,
    "ExecuteTime": {
     "end_time": "2024-03-17T21:31:45.359906890Z",
     "start_time": "2024-03-17T21:31:23.537103619Z"
    }
   },
   "id": "56c87d8dd56454d2"
  },
  {
   "cell_type": "code",
   "execution_count": 33,
   "outputs": [
    {
     "data": {
      "text/plain": "['230817-1-1',\n '230817-1-1025',\n '230817-1-1025',\n '230817-1-1025',\n '230817-1-1025',\n '230817-1-1025',\n '230817-1-1025',\n '230817-1-1025',\n '230817-1-1069',\n '230817-1-1069',\n '230817-1-1069',\n '230817-1-1069',\n '230817-1-1069',\n '230817-1-1069',\n '230817-1-1069',\n '230817-1-1113',\n '230817-1-121',\n '230817-1-121',\n '230817-1-121',\n '230817-1-121',\n '230817-1-121',\n '230817-1-121',\n '230817-1-121',\n '230817-1-167',\n '230817-1-167',\n '230817-1-167',\n '230817-1-167',\n '230817-1-167',\n '230817-1-167',\n '230817-1-167',\n '230817-1-208',\n '230817-1-208',\n '230817-1-208',\n '230817-1-208',\n '230817-1-208',\n '230817-1-208',\n '230817-1-208',\n '230817-1-251',\n '230817-1-251',\n '230817-1-251',\n '230817-1-251',\n '230817-1-251',\n '230817-1-251',\n '230817-1-251',\n '230817-1-329',\n '230817-1-329',\n '230817-1-329',\n '230817-1-329',\n '230817-1-329',\n '230817-1-329',\n '230817-1-329',\n '230817-1-40',\n '230817-1-40',\n '230817-1-40',\n '230817-1-40',\n '230817-1-40',\n '230817-1-40',\n '230817-1-40',\n '230817-1-417',\n '230817-1-417',\n '230817-1-417',\n '230817-1-417',\n '230817-1-417',\n '230817-1-417',\n '230817-1-417',\n '230817-1-506',\n '230817-1-506',\n '230817-1-506',\n '230817-1-506',\n '230817-1-506',\n '230817-1-506',\n '230817-1-506',\n '230817-1-555',\n '230817-1-555',\n '230817-1-555',\n '230817-1-555',\n '230817-1-555',\n '230817-1-555',\n '230817-1-555',\n '230817-1-597',\n '230817-1-597',\n '230817-1-597',\n '230817-1-597',\n '230817-1-597',\n '230817-1-597',\n '230817-1-597',\n '230817-1-690',\n '230817-1-690',\n '230817-1-690',\n '230817-1-690',\n '230817-1-690',\n '230817-1-690',\n '230817-1-690',\n '230817-1-81',\n '230817-1-81',\n '230817-1-81',\n '230817-1-81',\n '230817-1-821',\n '230817-1-821',\n '230817-1-821',\n '230817-1-821',\n '230817-1-821',\n '230817-1-821',\n '230817-1-821',\n '230817-1-874',\n '230817-1-874',\n '230817-1-874',\n '230817-1-874',\n '230817-1-874',\n '230817-1-874',\n '230817-1-874',\n '230817-1-918',\n '230817-1-918',\n '230817-1-918',\n '230817-1-918',\n '230817-1-918',\n '230817-1-918',\n '230817-1-918',\n '230817-1-978',\n '230817-1-978',\n '230817-1-978',\n '230817-1-978',\n '230817-1-978',\n '230817-1-978',\n '230817-1-978']"
     },
     "execution_count": 33,
     "metadata": {},
     "output_type": "execute_result"
    }
   ],
   "source": [
    "[tc for tc in SP.DS.Dat[\"trialcode\"] if tc in SP.datasetbeh_extract_dataset().Dat[\"trialcode\"].tolist()]"
   ],
   "metadata": {
    "collapsed": false,
    "ExecuteTime": {
     "end_time": "2024-03-17T21:32:11.949660884Z",
     "start_time": "2024-03-17T21:32:11.811578603Z"
    }
   },
   "id": "7d9bd7d8653e7307"
  },
  {
   "cell_type": "code",
   "execution_count": 42,
   "outputs": [
    {
     "name": "stdout",
     "output_type": "stream",
     "text": [
      " ++++ USING THIS ANALY_VER: rulesingle\n",
      "[] True False\n",
      "Appending outliers...\n",
      "Appending index datrapts...\n",
      "Running dataset_apply_params...\n",
      "Dataset preprocess, these params:\n",
      "{'DO_CHARSEQ_VER': 'task_matlab', 'EXTRACT_EPOCHSETS': True, 'EXTRACT_EPOCHSETS_trial_label': 'char_seq', 'EXTRACT_EPOCHSETS_n_max_epochs': 3, 'EXTRACT_EPOCHSETS_merge_sets': True, 'taskgroup_reassign_simple_neural': False, 'preprocess_steps_append': ['correct_sequencing_binary_score', 'one_to_one_beh_task_strokes', 'beh_strokes_at_least_one'], 'remove_aborts': False, 'list_superv_keep': None, 'list_superv_keep_full': None, 'DO_SCORE_SEQUENCE_VER': 'parses', 'list_epoch_merge': [], 'epoch_merge_key': None, 'DO_EXTRACT_EPOCHKIND': True, 'datasetstrokes_extract_to_prune_trial': None, 'datasetstrokes_extract_to_prune_stroke_and_get_features': None, 'substrokes_features_do_extraction': False, 'charclust_dataset_extract_shapes': False, 'datasetstrokes_extract_chunks_variables': True}\n",
      "Defined new column: epochset\n",
      ".. Appended new column 'char_seq', version: task_matlab\n",
      "Defined new column: epochset\n",
      "... merge_sets_with_only_single_epoch... \n",
      "('base',) only has one epoch!:  ['base']\n",
      "('llCV3',) only has one epoch!:  ['llCV3']\n",
      "Mergin these epochset's .. \n",
      "[('base',), ('llCV3',)]\n",
      "Into this new epochset: ('LEFTOVER',)\n",
      ".. Appended new column 'char_seq', version: task_matlab\n",
      "Defined new column: epochset\n",
      "... merge_sets_with_only_single_epoch... \n",
      "('base',) only has one epoch!:  ['base']\n",
      "('llCV3',) only has one epoch!:  ['llCV3']\n",
      "Mergin these epochset's .. \n",
      "[('base',), ('llCV3',)]\n",
      "Into this new epochset: ('LEFTOVER',)\n",
      "0 {'arcdeep-4-3-0': 'NE', 'line-6-1-0': 'NS', 'line-6-2-0': 'NE'}\n",
      "1 {'arcdeep-4-3-0': 'NE', 'line-6-1-0': 'NE', 'line-6-2-0': 'NS'}\n",
      "2 {'arcdeep-4-3-0': 'NS', 'line-6-1-0': 'S', 'line-6-2-0': 'NS'}\n",
      "3 {'arcdeep-4-3-0': 'S', 'line-6-1-0': 'NS', 'line-6-2-0': 'S'}\n",
      "4 {'arcdeep-4-3-0': 'NS', 'line-6-1-0': 'S', 'line-6-2-0': 'S'}\n",
      "5 {'arcdeep-4-3-0': 'NS', 'line-6-1-0': 'S', 'line-6-2-0': 'NS'}\n",
      "6 {'arcdeep-4-3-0': 'NS', 'line-6-1-0': 'S', 'line-6-2-0': 'NS'}\n",
      "7 {'arcdeep-4-3-0': 'NS', 'line-6-1-0': 'NS', 'line-6-2-0': 'S'}\n",
      "8 {'arcdeep-4-3-0': 'NS', 'line-6-1-0': 'NS', 'line-6-2-0': 'NS'}\n",
      "9 {'arcdeep-4-3-0': 'NS', 'line-6-1-0': 'NS', 'line-6-2-0': 'NS'}\n",
      "10 {'arcdeep-4-3-0': 'NS', 'line-6-1-0': 'S', 'line-6-2-0': 'S'}\n",
      "11 {'arcdeep-4-3-0': 'NS', 'line-6-1-0': 'NS', 'line-6-2-0': 'S'}\n",
      "12 {'arcdeep-4-3-0': 'NS', 'line-6-1-0': 'NS', 'line-6-2-0': 'NS'}\n",
      "13 {'arcdeep-4-3-0': 'NS', 'line-6-1-0': 'S', 'line-6-2-0': 'NS'}\n",
      "14 {'arcdeep-4-3-0': 'S', 'line-6-1-0': 'NS', 'line-6-2-0': 'NS'}\n",
      "15 {'arcdeep-4-3-0': 'NS', 'line-6-1-0': 'S', 'line-6-2-0': 'NS'}\n",
      "16 {'arcdeep-4-3-0': 'S', 'line-6-1-0': 'NS', 'line-6-2-0': 'S'}\n",
      "17 {'arcdeep-4-3-0': 'NS', 'line-6-1-0': 'NS', 'line-6-2-0': 'NS'}\n",
      "18 {'arcdeep-4-3-0': 'NS', 'line-6-1-0': 'S', 'line-6-2-0': 'NS'}\n",
      "19 {'arcdeep-4-3-0': 'S', 'line-6-1-0': 'NS', 'line-6-2-0': 'NS'}\n",
      "20 {'arcdeep-4-3-0': 'NS', 'line-6-1-0': 'NS', 'line-6-2-0': 'S'}\n",
      "21 {'arcdeep-4-3-0': 'S', 'line-6-1-0': 'S', 'line-6-2-0': 'NS'}\n",
      "22 {'arcdeep-4-3-0': 'S', 'line-6-1-0': 'S', 'line-6-2-0': 'NS'}\n",
      "23 {'arcdeep-4-3-0': 'S', 'line-6-1-0': 'S', 'line-6-2-0': 'NS'}\n",
      "24 {'arcdeep-4-3-0': 'S', 'line-6-1-0': 'NS', 'line-6-2-0': 'NS'}\n",
      "25 {'arcdeep-4-3-0': 'S', 'line-6-1-0': 'NS', 'line-6-2-0': 'NS'}\n",
      "26 {'arcdeep-4-3-0': 'S', 'line-6-1-0': 'NS', 'line-6-2-0': 'NS'}\n",
      "27 {'arcdeep-4-3-0': 'S', 'line-6-1-0': 'NS', 'line-6-2-0': 'NS'}\n",
      "28 {'arcdeep-4-3-0': 'S', 'line-6-1-0': 'S', 'line-6-2-0': 'NS'}\n",
      "29 {'arcdeep-4-3-0': 'S', 'line-6-1-0': 'S', 'line-6-2-0': 'NS'}\n",
      "30 {'arcdeep-4-3-0': 'S', 'line-6-1-0': 'NS', 'line-6-2-0': 'S'}\n",
      "31 {'arcdeep-4-3-0': 'NS', 'line-6-1-0': 'S', 'line-6-2-0': 'NS'}\n",
      "32 {'arcdeep-4-3-0': 'S', 'line-6-1-0': 'NS', 'line-6-2-0': 'NS'}\n",
      "33 {'arcdeep-4-3-0': 'NS', 'line-6-1-0': 'NS', 'line-6-2-0': 'NS'}\n",
      "34 {'arcdeep-4-3-0': 'NS', 'line-6-1-0': 'NS', 'line-6-2-0': 'NS'}\n",
      "35 {'arcdeep-4-3-0': 'NS', 'line-6-1-0': 'NS', 'line-6-2-0': 'NS'}\n",
      "36 {'arcdeep-4-3-0': 'NS', 'line-6-1-0': 'NS', 'line-6-2-0': 'NS'}\n",
      "37 {'arcdeep-4-3-0': 'S', 'line-6-1-0': 'S', 'line-6-2-0': 'NS'}\n",
      "38 {'arcdeep-4-3-0': 'NS', 'line-6-1-0': 'NS', 'line-6-2-0': 'NS'}\n",
      "39 {'arcdeep-4-3-0': 'NS', 'line-6-1-0': 'NS', 'line-6-2-0': 'NS'}\n",
      "40 {'arcdeep-4-3-0': 'NS', 'line-6-1-0': 'S', 'line-6-2-0': 'NS'}\n",
      "41 {'arcdeep-4-3-0': 'NS', 'line-6-1-0': 'NS', 'line-6-2-0': 'NS'}\n",
      "42 {'arcdeep-4-3-0': 'S', 'line-6-1-0': 'NS', 'line-6-2-0': 'S'}\n",
      "43 {'arcdeep-4-3-0': 'NS', 'line-6-1-0': 'NS', 'line-6-2-0': 'NS'}\n",
      "44 {'arcdeep-4-3-0': 'NS', 'line-6-1-0': 'NS', 'line-6-2-0': 'NS'}\n",
      "45 {'arcdeep-4-3-0': 'NS', 'line-6-1-0': 'S', 'line-6-2-0': 'NS'}\n",
      "46 {'arcdeep-4-3-0': 'NS', 'line-6-1-0': 'NS', 'line-6-2-0': 'NS'}\n",
      "47 {'arcdeep-4-3-0': 'S', 'line-6-1-0': 'NS', 'line-6-2-0': 'NS'}\n",
      "48 {'arcdeep-4-3-0': 'NS', 'line-6-1-0': 'NS', 'line-6-2-0': 'S'}\n",
      "49 {'arcdeep-4-3-0': 'S', 'line-6-1-0': 'S', 'line-6-2-0': 'NS'}\n",
      "50 {'arcdeep-4-3-0': 'NS', 'line-6-1-0': 'NS', 'line-6-2-0': 'NS'}\n",
      "51 {'arcdeep-4-3-0': 'NS', 'line-6-1-0': 'NS', 'line-6-2-0': 'NS'}\n",
      "52 {'arcdeep-4-3-0': 'S', 'line-6-1-0': 'NS', 'line-6-2-0': 'NS'}\n",
      "53 {'arcdeep-4-3-0': 'NS', 'line-6-1-0': 'S', 'line-6-2-0': 'NS'}\n",
      "54 {'arcdeep-4-3-0': 'NS', 'line-6-1-0': 'S', 'line-6-2-0': 'S'}\n",
      "55 {'arcdeep-4-3-0': 'S', 'line-6-1-0': 'NS', 'line-6-2-0': 'NS'}\n",
      "56 {'arcdeep-4-3-0': 'NS', 'line-6-1-0': 'NS', 'line-6-2-0': 'NS'}\n",
      "57 {'arcdeep-4-3-0': 'S', 'line-6-1-0': 'NS', 'line-6-2-0': 'S'}\n",
      "58 {'arcdeep-4-3-0': 'NS', 'line-6-1-0': 'S', 'line-6-2-0': 'NS'}\n",
      "59 {'arcdeep-4-3-0': 'NS', 'line-6-1-0': 'NS', 'line-6-2-0': 'NS'}\n",
      "60 {'arcdeep-4-3-0': 'S', 'line-6-1-0': 'NS', 'line-6-2-0': 'S'}\n",
      "61 {'arcdeep-4-3-0': 'NS', 'line-6-1-0': 'NS', 'line-6-2-0': 'NS'}\n",
      "62 {'arcdeep-4-3-0': 'S', 'line-6-1-0': 'NS', 'line-6-2-0': 'NS'}\n",
      "63 {'arcdeep-4-3-0': 'S', 'line-6-1-0': 'S', 'line-6-2-0': 'NS'}\n",
      "64 {'arcdeep-4-3-0': 'NS', 'line-6-1-0': 'NS', 'line-6-2-0': 'NS'}\n",
      "65 {'arcdeep-4-3-0': 'S', 'line-6-1-0': 'S', 'line-6-2-0': 'NS'}\n",
      "66 {'arcdeep-4-3-0': 'S', 'line-6-1-0': 'NS', 'line-6-2-0': 'NS'}\n",
      "67 {'arcdeep-4-3-0': 'NS', 'line-6-1-0': 'S', 'line-6-2-0': 'NS'}\n",
      "68 {'arcdeep-4-3-0': 'NS', 'line-6-1-0': 'NS', 'line-6-2-0': 'NS'}\n",
      "69 {'arcdeep-4-3-0': 'NS', 'line-6-1-0': 'NS', 'line-6-2-0': 'NS'}\n",
      "70 {'arcdeep-4-3-0': 'NS', 'line-6-1-0': 'NS', 'line-6-2-0': 'NS'}\n",
      "71 {'arcdeep-4-3-0': 'NS', 'line-6-1-0': 'NS', 'line-6-2-0': 'S'}\n",
      "72 {'arcdeep-4-3-0': 'NS', 'line-6-1-0': 'NS', 'line-6-2-0': 'NS'}\n",
      "73 {'arcdeep-4-3-0': 'NS', 'line-6-1-0': 'NS', 'line-6-2-0': 'NS'}\n",
      "74 {'arcdeep-4-3-0': 'NS', 'line-6-1-0': 'NS', 'line-6-2-0': 'NS'}\n",
      "75 {'arcdeep-4-3-0': 'NS', 'line-6-1-0': 'NS', 'line-6-2-0': 'NS'}\n",
      "76 {'arcdeep-4-3-0': 'NS', 'line-6-1-0': 'NE', 'line-6-2-0': 'NE'}\n",
      "77 {'arcdeep-4-3-0': 'NE', 'line-6-1-0': 'NE', 'line-6-2-0': 'NS'}\n",
      "78 {'arcdeep-4-3-0': 'NE', 'line-6-1-0': 'NS', 'line-6-2-0': 'NE'}\n",
      "79 {'arcdeep-4-3-0': 'NE', 'line-6-1-0': 'NE', 'line-6-2-0': 'NS'}\n",
      "80 {'arcdeep-4-3-0': 'NE', 'line-6-1-0': 'NS', 'line-6-2-0': 'NE'}\n",
      "81 {'arcdeep-4-3-0': 'NE', 'line-6-1-0': 'NE', 'line-6-2-0': 'NS'}\n",
      "82 {'arcdeep-4-3-0': 'NE', 'line-6-1-0': 'NE', 'line-6-2-0': 'NS'}\n",
      "83 {'arcdeep-4-3-0': 'NS', 'line-6-1-0': 'NS', 'line-6-2-0': 'NS'}\n",
      "84 {'arcdeep-4-3-0': 'NE', 'line-6-1-0': 'NS', 'line-6-2-0': 'NE'}\n",
      "85 {'arcdeep-4-3-0': 'NS', 'line-6-1-0': 'NE', 'line-6-2-0': 'NE'}\n",
      "86 {'arcdeep-4-3-0': 'NS', 'line-6-1-0': 'NE', 'line-6-2-0': 'NE'}\n",
      "87 {'arcdeep-4-3-0': 'NS', 'line-6-1-0': 'NE', 'line-6-2-0': 'NE'}\n",
      "88 {'arcdeep-4-3-0': 'NS', 'line-6-1-0': 'NE', 'line-6-2-0': 'NE'}\n",
      "89 {'arcdeep-4-3-0': 'NE', 'line-6-1-0': 'NE', 'line-6-2-0': 'NS'}\n",
      "90 {'arcdeep-4-3-0': 'NE', 'line-6-1-0': 'NS', 'line-6-2-0': 'NE'}\n",
      "91 {'arcdeep-4-3-0': 'NE', 'line-6-1-0': 'NS', 'line-6-2-0': 'NE'}\n",
      "92 {'arcdeep-4-3-0': 'NE', 'line-6-1-0': 'NS', 'line-6-2-0': 'NE'}\n",
      "93 {'arcdeep-4-3-0': 'NS', 'line-6-1-0': 'NS', 'line-6-2-0': 'NS'}\n",
      "94 {'arcdeep-4-3-0': 'NS', 'line-6-1-0': 'NE', 'line-6-2-0': 'NE'}\n",
      "95 {'arcdeep-4-3-0': 'NS', 'line-6-1-0': 'NE', 'line-6-2-0': 'NE'}\n",
      "96 {'arcdeep-4-3-0': 'NE', 'line-6-1-0': 'NE', 'line-6-2-0': 'NS'}\n",
      "97 {'arcdeep-4-3-0': 'NE', 'line-6-1-0': 'NS', 'line-6-2-0': 'NE'}\n",
      "98 {'arcdeep-4-3-0': 'NE', 'line-6-1-0': 'NE', 'line-6-2-0': 'NS'}\n",
      "99 {'arcdeep-4-3-0': 'NE', 'line-6-1-0': 'NE', 'line-6-2-0': 'NS'}\n",
      "100 {'arcdeep-4-3-0': 'NE', 'line-6-1-0': 'NE', 'line-6-2-0': 'NS'}\n",
      "101 {'arcdeep-4-3-0': 'NS', 'line-6-1-0': 'NE', 'line-6-2-0': 'NE'}\n",
      "102 {'arcdeep-4-3-0': 'NE', 'line-6-1-0': 'NS', 'line-6-2-0': 'NE'}\n",
      "103 {'arcdeep-4-3-0': 'NS', 'line-6-1-0': 'NE', 'line-6-2-0': 'NE'}\n",
      "104 {'arcdeep-4-3-0': 'NE', 'line-6-1-0': 'NS', 'line-6-2-0': 'NE'}\n",
      "105 {'arcdeep-4-3-0': 'S', 'line-6-1-0': 'NS', 'line-6-2-0': 'NS'}\n",
      "106 {'arcdeep-4-3-0': 'NS', 'line-6-1-0': 'NE', 'line-6-2-0': 'NE'}\n",
      "107 {'arcdeep-4-3-0': 'NE', 'line-6-1-0': 'NE', 'line-6-2-0': 'NS'}\n",
      "108 {'arcdeep-4-3-0': 'NE', 'line-6-1-0': 'NE', 'line-6-2-0': 'NS'}\n",
      "109 {'arcdeep-4-3-0': 'NE', 'line-6-1-0': 'NS', 'line-6-2-0': 'NE'}\n",
      "110 {'arcdeep-4-3-0': 'NS', 'line-6-1-0': 'NE', 'line-6-2-0': 'NE'}\n",
      "111 {'arcdeep-4-3-0': 'NS', 'line-6-1-0': 'NE', 'line-6-2-0': 'NE'}\n",
      "112 {'arcdeep-4-3-0': 'NE', 'line-6-1-0': 'NE', 'line-6-2-0': 'NS'}\n",
      "113 {'arcdeep-4-3-0': 'NE', 'line-6-1-0': 'NS', 'line-6-2-0': 'NE'}\n",
      "114 {'arcdeep-4-3-0': 'NS', 'line-6-1-0': 'NS', 'line-6-2-0': 'NS'}\n",
      "115 {'arcdeep-4-3-0': 'NE', 'line-6-1-0': 'NS', 'line-6-2-0': 'NE'}\n",
      "116 {'arcdeep-4-3-0': 'NS', 'line-6-1-0': 'NE', 'line-6-2-0': 'NE'}\n",
      "117 {'arcdeep-4-3-0': 'NS', 'line-6-1-0': 'NE', 'line-6-2-0': 'NE'}\n",
      "118 {'arcdeep-4-3-0': 'NS', 'line-6-1-0': 'NE', 'line-6-2-0': 'NE'}\n",
      "119 {'arcdeep-4-3-0': 'NS', 'line-6-1-0': 'NS', 'line-6-2-0': 'NS'}\n",
      "120 {'arcdeep-4-3-0': 'S', 'line-6-1-0': 'NS', 'line-6-2-0': 'S'}\n",
      "121 {'arcdeep-4-3-0': 'NS', 'line-6-1-0': 'NS', 'line-6-2-0': 'S'}\n",
      "122 {'arcdeep-4-3-0': 'NS', 'line-6-1-0': 'NS', 'line-6-2-0': 'NS'}\n",
      "123 {'arcdeep-4-3-0': 'NS', 'line-6-1-0': 'NS', 'line-6-2-0': 'NS'}\n",
      "124 {'arcdeep-4-3-0': 'NS', 'line-6-1-0': 'NS', 'line-6-2-0': 'S'}\n",
      "125 {'arcdeep-4-3-0': 'NS', 'line-6-1-0': 'NS', 'line-6-2-0': 'NS'}\n",
      "126 {'arcdeep-4-3-0': 'NS', 'line-6-1-0': 'NS', 'line-6-2-0': 'NS'}\n",
      "127 {'arcdeep-4-3-0': 'NS', 'line-6-1-0': 'NE', 'line-6-2-0': 'NE'}\n",
      "128 {'arcdeep-4-3-0': 'S', 'line-6-1-0': 'NS', 'line-6-2-0': 'NS'}\n",
      "129 {'arcdeep-4-3-0': 'NS', 'line-6-1-0': 'NS', 'line-6-2-0': 'S'}\n",
      "130 {'arcdeep-4-3-0': 'NS', 'line-6-1-0': 'NS', 'line-6-2-0': 'NS'}\n",
      "131 {'arcdeep-4-3-0': 'NS', 'line-6-1-0': 'NS', 'line-6-2-0': 'NS'}\n",
      "132 {'arcdeep-4-3-0': 'NS', 'line-6-1-0': 'NS', 'line-6-2-0': 'S'}\n",
      "133 {'arcdeep-4-3-0': 'S', 'line-6-1-0': 'NS', 'line-6-2-0': 'NS'}\n",
      "134 {'arcdeep-4-3-0': 'NS', 'line-6-1-0': 'NS', 'line-6-2-0': 'NS'}\n",
      "135 {'arcdeep-4-3-0': 'NS', 'line-6-1-0': 'S', 'line-6-2-0': 'NS'}\n",
      "136 {'arcdeep-4-3-0': 'NS', 'line-6-1-0': 'NS', 'line-6-2-0': 'NS'}\n",
      "137 {'arcdeep-4-3-0': 'NS', 'line-6-1-0': 'NE', 'line-6-2-0': 'NE'}\n",
      "138 {'arcdeep-4-3-0': 'S', 'line-6-1-0': 'NS', 'line-6-2-0': 'NS'}\n",
      "139 {'arcdeep-4-3-0': 'NS', 'line-6-1-0': 'S', 'line-6-2-0': 'NS'}\n",
      "140 {'arcdeep-4-3-0': 'NS', 'line-6-1-0': 'NS', 'line-6-2-0': 'S'}\n",
      "141 {'arcdeep-4-3-0': 'NS', 'line-6-1-0': 'NS', 'line-6-2-0': 'S'}\n",
      "142 {'arcdeep-4-3-0': 'NS', 'line-6-1-0': 'NS', 'line-6-2-0': 'NS'}\n",
      "143 {'arcdeep-4-3-0': 'NS', 'line-6-1-0': 'NS', 'line-6-2-0': 'NS'}\n",
      "144 {'arcdeep-4-3-0': 'NS', 'line-6-1-0': 'NS', 'line-6-2-0': 'NS'}\n",
      "145 {'arcdeep-4-3-0': 'NE', 'line-6-1-0': 'NE', 'line-6-2-0': 'NS'}\n",
      "146 {'arcdeep-4-3-0': 'NS', 'line-6-1-0': 'NS', 'line-6-2-0': 'NS'}\n",
      "147 {'arcdeep-4-3-0': 'NS', 'line-6-1-0': 'S', 'line-6-2-0': 'S'}\n",
      "148 {'arcdeep-4-3-0': 'NS', 'line-6-1-0': 'NS', 'line-6-2-0': 'NS'}\n",
      "149 {'arcdeep-4-3-0': 'NS', 'line-6-1-0': 'NS', 'line-6-2-0': 'NS'}\n",
      "150 {'arcdeep-4-3-0': 'NS', 'line-6-1-0': 'NS', 'line-6-2-0': 'NS'}\n",
      "151 {'arcdeep-4-3-0': 'NS', 'line-6-1-0': 'NS', 'line-6-2-0': 'NS'}\n",
      "152 {'arcdeep-4-3-0': 'S', 'line-6-1-0': 'NS', 'line-6-2-0': 'NS'}\n",
      "153 {'arcdeep-4-3-0': 'NS', 'line-6-1-0': 'NS', 'line-6-2-0': 'NS'}\n",
      "154 {'arcdeep-4-3-0': 'NS', 'line-6-1-0': 'NS', 'line-6-2-0': 'NS'}\n",
      "155 {'arcdeep-4-3-0': 'NE', 'line-6-1-0': 'NE', 'line-6-2-0': 'NS'}\n",
      "156 {'arcdeep-4-3-0': 'NS', 'line-6-1-0': 'S', 'line-6-2-0': 'NS'}\n",
      "157 {'arcdeep-4-3-0': 'NS', 'line-6-1-0': 'NS', 'line-6-2-0': 'S'}\n",
      "158 {'arcdeep-4-3-0': 'NS', 'line-6-1-0': 'S', 'line-6-2-0': 'S'}\n",
      "159 {'arcdeep-4-3-0': 'NS', 'line-6-1-0': 'NS', 'line-6-2-0': 'S'}\n",
      "160 {'arcdeep-4-3-0': 'NS', 'line-6-1-0': 'S', 'line-6-2-0': 'S'}\n",
      "161 {'arcdeep-4-3-0': 'NS', 'line-6-1-0': 'S', 'line-6-2-0': 'NS'}\n",
      "162 {'arcdeep-4-3-0': 'NS', 'line-6-1-0': 'NS', 'line-6-2-0': 'NS'}\n",
      "163 {'arcdeep-4-3-0': 'NS', 'line-6-1-0': 'NS', 'line-6-2-0': 'NS'}\n",
      "164 {'arcdeep-4-3-0': 'NS', 'line-6-1-0': 'S', 'line-6-2-0': 'NS'}\n",
      "165 {'arcdeep-4-3-0': 'NS', 'line-6-1-0': 'NE', 'line-6-2-0': 'NE'}\n",
      "166 {'arcdeep-4-3-0': 'S', 'line-6-1-0': 'NS', 'line-6-2-0': 'S'}\n",
      "167 {'arcdeep-4-3-0': 'NS', 'line-6-1-0': 'NS', 'line-6-2-0': 'NS'}\n",
      "168 {'arcdeep-4-3-0': 'NS', 'line-6-1-0': 'NS', 'line-6-2-0': 'NS'}\n",
      "169 {'arcdeep-4-3-0': 'NS', 'line-6-1-0': 'S', 'line-6-2-0': 'S'}\n",
      "170 {'arcdeep-4-3-0': 'NS', 'line-6-1-0': 'S', 'line-6-2-0': 'NS'}\n",
      "171 {'arcdeep-4-3-0': 'S', 'line-6-1-0': 'S', 'line-6-2-0': 'NS'}\n",
      "172 {'arcdeep-4-3-0': 'NS', 'line-6-1-0': 'NS', 'line-6-2-0': 'S'}\n",
      "173 {'arcdeep-4-3-0': 'NS', 'line-6-1-0': 'NS', 'line-6-2-0': 'NS'}\n",
      "174 {'arcdeep-4-3-0': 'NS', 'line-6-1-0': 'NE', 'line-6-2-0': 'NE'}\n",
      "175 {'arcdeep-4-3-0': 'S', 'line-6-1-0': 'S', 'line-6-2-0': 'NS'}\n",
      "176 {'arcdeep-4-3-0': 'NS', 'line-6-1-0': 'NS', 'line-6-2-0': 'S'}\n",
      "177 {'arcdeep-4-3-0': 'S', 'line-6-1-0': 'NS', 'line-6-2-0': 'NS'}\n",
      "178 {'arcdeep-4-3-0': 'NS', 'line-6-1-0': 'NS', 'line-6-2-0': 'NS'}\n",
      "179 {'arcdeep-4-3-0': 'NS', 'line-6-1-0': 'S', 'line-6-2-0': 'NS'}\n",
      "180 {'arcdeep-4-3-0': 'S', 'line-6-1-0': 'S', 'line-6-2-0': 'NS'}\n",
      "181 {'arcdeep-4-3-0': 'S', 'line-6-1-0': 'NS', 'line-6-2-0': 'S'}\n",
      "182 {'arcdeep-4-3-0': 'NS', 'line-6-1-0': 'NS', 'line-6-2-0': 'S'}\n",
      "183 {'arcdeep-4-3-0': 'NS', 'line-6-1-0': 'S', 'line-6-2-0': 'NS'}\n",
      "184 {'arcdeep-4-3-0': 'S', 'line-6-1-0': 'NS', 'line-6-2-0': 'NS'}\n",
      "185 {'arcdeep-4-3-0': 'NE', 'line-6-1-0': 'NE', 'line-6-2-0': 'NS'}\n",
      "186 {'arcdeep-4-3-0': 'NS', 'line-6-1-0': 'NS', 'line-6-2-0': 'S'}\n",
      "187 {'arcdeep-4-3-0': 'NS', 'line-6-1-0': 'NS', 'line-6-2-0': 'NS'}\n",
      "188 {'arcdeep-4-3-0': 'NS', 'line-6-1-0': 'S', 'line-6-2-0': 'NS'}\n",
      "189 {'arcdeep-4-3-0': 'S', 'line-6-1-0': 'NS', 'line-6-2-0': 'S'}\n",
      "190 {'arcdeep-4-3-0': 'NS', 'line-6-1-0': 'S', 'line-6-2-0': 'S'}\n",
      "191 {'arcdeep-4-3-0': 'S', 'line-6-1-0': 'NS', 'line-6-2-0': 'NS'}\n",
      "192 {'arcdeep-4-3-0': 'NS', 'line-6-1-0': 'NS', 'line-6-2-0': 'NS'}\n",
      "193 {'arcdeep-4-3-0': 'S', 'line-6-1-0': 'S', 'line-6-2-0': 'NS'}\n",
      "194 {'arcdeep-4-3-0': 'NS', 'line-6-1-0': 'NS', 'line-6-2-0': 'NS'}\n",
      "195 {'arcdeep-4-3-0': 'NE', 'line-6-1-0': 'NS', 'line-6-2-0': 'NE'}\n",
      "196 {'arcdeep-4-3-0': 'NS', 'line-6-1-0': 'NS', 'line-6-2-0': 'NS'}\n",
      "197 {'arcdeep-4-3-0': 'NS', 'line-6-1-0': 'NS', 'line-6-2-0': 'NS'}\n",
      "198 {'arcdeep-4-3-0': 'NS', 'line-6-1-0': 'NS', 'line-6-2-0': 'S'}\n",
      "199 {'arcdeep-4-3-0': 'NS', 'line-6-1-0': 'NS', 'line-6-2-0': 'NS'}\n",
      "200 {'arcdeep-4-3-0': 'NS', 'line-6-1-0': 'S', 'line-6-2-0': 'S'}\n",
      "201 {'arcdeep-4-3-0': 'S', 'line-6-1-0': 'NS', 'line-6-2-0': 'S'}\n",
      "202 {'arcdeep-4-3-0': 'NS', 'line-6-1-0': 'S', 'line-6-2-0': 'NS'}\n",
      "203 {'arcdeep-4-3-0': 'NS', 'line-6-1-0': 'NS', 'line-6-2-0': 'NS'}\n",
      "204 {'arcdeep-4-3-0': 'S', 'line-6-1-0': 'NS', 'line-6-2-0': 'NS'}\n",
      "205 {'arcdeep-4-3-0': 'NS', 'line-6-1-0': 'NS', 'line-6-2-0': 'S'}\n",
      "206 {'arcdeep-4-3-0': 'NE', 'line-6-1-0': 'NS', 'line-6-2-0': 'NE'}\n",
      "207 {'arcdeep-4-3-0': 'NS', 'line-6-1-0': 'NE', 'line-6-2-0': 'NE'}\n",
      "208 {'arcdeep-4-3-0': 'NS', 'line-6-1-0': 'NS', 'line-6-2-0': 'NS'}\n",
      "209 {'arcdeep-4-3-0': 'NS', 'line-6-1-0': 'NS', 'line-6-2-0': 'NS'}\n",
      "210 {'arcdeep-4-3-0': 'NS', 'line-6-1-0': 'S', 'line-6-2-0': 'S'}\n",
      "211 {'arcdeep-4-3-0': 'NS', 'line-6-1-0': 'NS', 'line-6-2-0': 'NS'}\n",
      "212 {'arcdeep-4-3-0': 'NS', 'line-6-1-0': 'NS', 'line-6-2-0': 'NS'}\n",
      "213 {'arcdeep-4-3-0': 'S', 'line-6-1-0': 'NS', 'line-6-2-0': 'S'}\n",
      "214 {'arcdeep-4-3-0': 'NS', 'line-6-1-0': 'NS', 'line-6-2-0': 'NS'}\n",
      "215 {'arcdeep-4-3-0': 'S', 'line-6-1-0': 'S', 'line-6-2-0': 'NS'}\n",
      "216 {'arcdeep-4-3-0': 'NS', 'line-6-1-0': 'NS', 'line-6-2-0': 'NS'}\n",
      "217 {'arcdeep-4-3-0': 'NS', 'line-6-1-0': 'NS', 'line-6-2-0': 'NS'}\n",
      "218 {'arcdeep-4-3-0': 'NS', 'line-6-1-0': 'NE', 'line-6-2-0': 'NE'}\n",
      "219 {'arcdeep-4-3-0': 'NS', 'line-6-1-0': 'NS', 'line-6-2-0': 'S'}\n",
      "220 {'arcdeep-4-3-0': 'S', 'line-6-1-0': 'NS', 'line-6-2-0': 'NS'}\n",
      "221 {'arcdeep-4-3-0': 'NS', 'line-6-1-0': 'NS', 'line-6-2-0': 'NS'}\n",
      "222 {'arcdeep-4-3-0': 'NS', 'line-6-1-0': 'NS', 'line-6-2-0': 'NS'}\n",
      "223 {'arcdeep-4-3-0': 'S', 'line-6-1-0': 'NS', 'line-6-2-0': 'NS'}\n",
      "224 {'arcdeep-4-3-0': 'NS', 'line-6-1-0': 'NS', 'line-6-2-0': 'NS'}\n",
      "225 {'arcdeep-4-3-0': 'S', 'line-6-1-0': 'NS', 'line-6-2-0': 'S'}\n",
      "226 {'arcdeep-4-3-0': 'NS', 'line-6-1-0': 'NS', 'line-6-2-0': 'NS'}\n",
      "227 {'arcdeep-4-3-0': 'NS', 'line-6-1-0': 'S', 'line-6-2-0': 'S'}\n",
      "228 {'arcdeep-4-3-0': 'NS', 'line-6-1-0': 'S', 'line-6-2-0': 'NS'}\n",
      "229 {'arcdeep-4-3-0': 'S', 'line-6-1-0': 'NS', 'line-6-2-0': 'NS'}\n",
      "230 {'arcdeep-4-3-0': 'NS', 'line-6-1-0': 'NS', 'line-6-2-0': 'S'}\n",
      "231 {'arcdeep-4-3-0': 'NS', 'line-6-1-0': 'NS', 'line-6-2-0': 'S'}\n",
      "232 {'arcdeep-4-3-0': 'NS', 'line-6-1-0': 'NS', 'line-6-2-0': 'NS'}\n",
      "233 {'arcdeep-4-3-0': 'NS', 'line-6-1-0': 'NS', 'line-6-2-0': 'NS'}\n",
      "234 {'arcdeep-4-3-0': 'S', 'line-6-1-0': 'NS', 'line-6-2-0': 'S'}\n",
      "235 {'arcdeep-4-3-0': 'NS', 'line-6-1-0': 'NS', 'line-6-2-0': 'NS'}\n",
      "236 {'arcdeep-4-3-0': 'NS', 'line-6-1-0': 'NS', 'line-6-2-0': 'NS'}\n",
      "237 {'arcdeep-4-3-0': 'NS', 'line-6-1-0': 'NS', 'line-6-2-0': 'NS'}\n",
      "238 {'arcdeep-4-3-0': 'S', 'line-6-1-0': 'S', 'line-6-2-0': 'NS'}\n",
      "239 {'arcdeep-4-3-0': 'S', 'line-6-1-0': 'NS', 'line-6-2-0': 'S'}\n",
      "240 {'arcdeep-4-3-0': 'NS', 'line-6-1-0': 'S', 'line-6-2-0': 'NS'}\n",
      "241 {'arcdeep-4-3-0': 'NS', 'line-6-1-0': 'NS', 'line-6-2-0': 'S'}\n",
      "242 {'arcdeep-4-3-0': 'NS', 'line-6-1-0': 'NS', 'line-6-2-0': 'S'}\n",
      "243 {'arcdeep-4-3-0': 'NS', 'line-6-1-0': 'NS', 'line-6-2-0': 'NS'}\n",
      "244 {'arcdeep-4-3-0': 'NS', 'line-6-1-0': 'NS', 'line-6-2-0': 'NS'}\n",
      "245 {'arcdeep-4-3-0': 'NS', 'line-6-1-0': 'S', 'line-6-2-0': 'NS'}\n",
      "246 {'arcdeep-4-3-0': 'S', 'line-6-1-0': 'NS', 'line-6-2-0': 'NS'}\n",
      "247 {'arcdeep-4-3-0': 'NS', 'line-6-1-0': 'NS', 'line-6-2-0': 'NS'}\n",
      "248 {'arcdeep-4-3-0': 'NS', 'line-6-1-0': 'NS', 'line-6-2-0': 'NS'}\n",
      "249 {'arcdeep-4-3-0': 'NS', 'line-6-1-0': 'NS', 'line-6-2-0': 'S'}\n",
      "250 {'arcdeep-4-3-0': 'S', 'line-6-1-0': 'S', 'line-6-2-0': 'NS'}\n",
      "251 {'arcdeep-4-3-0': 'NS', 'line-6-1-0': 'NS', 'line-6-2-0': 'NS'}\n",
      "252 {'arcdeep-4-3-0': 'NS', 'line-6-1-0': 'NS', 'line-6-2-0': 'NS'}\n",
      "253 {'arcdeep-4-3-0': 'NS', 'line-6-1-0': 'NS', 'line-6-2-0': 'S'}\n",
      "254 {'arcdeep-4-3-0': 'NS', 'line-6-1-0': 'NS', 'line-6-2-0': 'S'}\n",
      "255 {'arcdeep-4-3-0': 'NS', 'line-6-1-0': 'NS', 'line-6-2-0': 'NS'}\n",
      "256 {'arcdeep-4-3-0': 'S', 'line-6-1-0': 'NS', 'line-6-2-0': 'NS'}\n",
      "257 {'arcdeep-4-3-0': 'NS', 'line-6-1-0': 'NS', 'line-6-2-0': 'NS'}\n",
      "258 {'arcdeep-4-3-0': 'NS', 'line-6-1-0': 'NS', 'line-6-2-0': 'NS'}\n",
      "259 {'arcdeep-4-3-0': 'NS', 'line-6-1-0': 'NS', 'line-6-2-0': 'NS'}\n",
      "260 {'arcdeep-4-3-0': 'S', 'line-6-1-0': 'NS', 'line-6-2-0': 'S'}\n",
      "261 {'arcdeep-4-3-0': 'NS', 'line-6-1-0': 'NS', 'line-6-2-0': 'NS'}\n",
      "262 {'arcdeep-4-3-0': 'NS', 'line-6-1-0': 'NS', 'line-6-2-0': 'S'}\n",
      "263 {'arcdeep-4-3-0': 'NS', 'line-6-1-0': 'NS', 'line-6-2-0': 'NS'}\n",
      "264 {'arcdeep-4-3-0': 'S', 'line-6-1-0': 'S', 'line-6-2-0': 'NS'}\n",
      "265 {'arcdeep-4-3-0': 'NS', 'line-6-1-0': 'S', 'line-6-2-0': 'NS'}\n",
      "266 {'arcdeep-4-3-0': 'NS', 'line-6-1-0': 'S', 'line-6-2-0': 'NS'}\n",
      "267 {'arcdeep-4-3-0': 'NS', 'line-6-1-0': 'S', 'line-6-2-0': 'S'}\n",
      "268 {'arcdeep-4-3-0': 'NS', 'line-6-1-0': 'S', 'line-6-2-0': 'NS'}\n",
      "269 {'arcdeep-4-3-0': 'NS', 'line-6-1-0': 'NS', 'line-6-2-0': 'NS'}\n",
      "270 {'arcdeep-4-3-0': 'NS', 'line-6-1-0': 'NS', 'line-6-2-0': 'NS'}\n",
      "271 {'arcdeep-4-3-0': 'NS', 'line-6-1-0': 'NS', 'line-6-2-0': 'NS'}\n",
      "272 {'arcdeep-4-3-0': 'NS', 'line-6-1-0': 'NS', 'line-6-2-0': 'NS'}\n",
      "273 {'arcdeep-4-3-0': 'NS', 'line-6-1-0': 'NS', 'line-6-2-0': 'NS'}\n",
      "274 {'arcdeep-4-3-0': 'NS', 'line-6-1-0': 'NS', 'line-6-2-0': 'NS'}\n",
      "275 {'arcdeep-4-3-0': 'S', 'line-6-1-0': 'S', 'line-6-2-0': 'NS'}\n",
      "276 {'arcdeep-4-3-0': 'NS', 'line-6-1-0': 'NS', 'line-6-2-0': 'NS'}\n",
      "277 {'arcdeep-4-3-0': 'NS', 'line-6-1-0': 'NS', 'line-6-2-0': 'NS'}\n",
      "278 {'arcdeep-4-3-0': 'S', 'line-6-1-0': 'NS', 'line-6-2-0': 'NS'}\n",
      "279 {'arcdeep-4-3-0': 'NS', 'line-6-1-0': 'S', 'line-6-2-0': 'NS'}\n",
      "280 {'arcdeep-4-3-0': 'S', 'line-6-1-0': 'S', 'line-6-2-0': 'NS'}\n",
      "281 {'arcdeep-4-3-0': 'S', 'line-6-1-0': 'NS', 'line-6-2-0': 'NS'}\n",
      "282 {'arcdeep-4-3-0': 'NS', 'line-6-1-0': 'NS', 'line-6-2-0': 'NS'}\n",
      "283 {'arcdeep-4-3-0': 'NS', 'line-6-1-0': 'S', 'line-6-2-0': 'NS'}\n",
      "284 {'arcdeep-4-3-0': 'NS', 'line-6-1-0': 'S', 'line-6-2-0': 'NS'}\n",
      "285 {'arcdeep-4-3-0': 'S', 'line-6-1-0': 'S', 'line-6-2-0': 'NS'}\n",
      "286 {'arcdeep-4-3-0': 'NS', 'line-6-1-0': 'NS', 'line-6-2-0': 'S'}\n",
      "287 {'arcdeep-4-3-0': 'NS', 'line-6-1-0': 'NS', 'line-6-2-0': 'NS'}\n",
      "288 {'arcdeep-4-3-0': 'NS', 'line-6-1-0': 'S', 'line-6-2-0': 'NS'}\n",
      "289 {'arcdeep-4-3-0': 'NE', 'line-6-1-0': 'NS', 'line-6-2-0': 'NE'}\n",
      "290 {'arcdeep-4-3-0': 'NS', 'line-6-1-0': 'S', 'line-6-2-0': 'NS'}\n",
      "291 {'arcdeep-4-3-0': 'NS', 'line-6-1-0': 'NS', 'line-6-2-0': 'NS'}\n",
      "292 {'arcdeep-4-3-0': 'NS', 'line-6-1-0': 'NS', 'line-6-2-0': 'NS'}\n",
      "293 {'arcdeep-4-3-0': 'NS', 'line-6-1-0': 'NS', 'line-6-2-0': 'NS'}\n",
      "294 {'arcdeep-4-3-0': 'NS', 'line-6-1-0': 'NS', 'line-6-2-0': 'S'}\n",
      "295 {'arcdeep-4-3-0': 'NS', 'line-6-1-0': 'NS', 'line-6-2-0': 'NS'}\n",
      "296 {'arcdeep-4-3-0': 'S', 'line-6-1-0': 'S', 'line-6-2-0': 'NS'}\n",
      "297 {'arcdeep-4-3-0': 'NS', 'line-6-1-0': 'S', 'line-6-2-0': 'S'}\n",
      "298 {'arcdeep-4-3-0': 'NS', 'line-6-1-0': 'NS', 'line-6-2-0': 'NS'}\n",
      "299 {'arcdeep-4-3-0': 'NS', 'line-6-1-0': 'NS', 'line-6-2-0': 'S'}\n",
      "300 {'arcdeep-4-3-0': 'NS', 'line-6-1-0': 'S', 'line-6-2-0': 'NS'}\n",
      "301 {'arcdeep-4-3-0': 'NS', 'line-6-1-0': 'NS', 'line-6-2-0': 'S'}\n",
      "302 {'arcdeep-4-3-0': 'S', 'line-6-1-0': 'S', 'line-6-2-0': 'NS'}\n",
      "303 {'arcdeep-4-3-0': 'NS', 'line-6-1-0': 'S', 'line-6-2-0': 'NS'}\n",
      "304 {'arcdeep-4-3-0': 'NS', 'line-6-1-0': 'NS', 'line-6-2-0': 'NS'}\n",
      "305 {'arcdeep-4-3-0': 'S', 'line-6-1-0': 'NS', 'line-6-2-0': 'NS'}\n",
      "306 {'arcdeep-4-3-0': 'NS', 'line-6-1-0': 'NS', 'line-6-2-0': 'NS'}\n",
      "307 {'arcdeep-4-3-0': 'NS', 'line-6-1-0': 'NS', 'line-6-2-0': 'NS'}\n",
      "308 {'arcdeep-4-3-0': 'NS', 'line-6-1-0': 'NS', 'line-6-2-0': 'S'}\n",
      "309 {'arcdeep-4-3-0': 'S', 'line-6-1-0': 'NS', 'line-6-2-0': 'NS'}\n",
      "310 {'arcdeep-4-3-0': 'NS', 'line-6-1-0': 'S', 'line-6-2-0': 'NS'}\n",
      "311 {'arcdeep-4-3-0': 'NS', 'line-6-1-0': 'S', 'line-6-2-0': 'NS'}\n",
      "312 {'arcdeep-4-3-0': 'S', 'line-6-1-0': 'NS', 'line-6-2-0': 'NS'}\n",
      "313 {'arcdeep-4-3-0': 'NS', 'line-6-1-0': 'NS', 'line-6-2-0': 'NS'}\n",
      "314 {'arcdeep-4-3-0': 'NS', 'line-6-1-0': 'NS', 'line-6-2-0': 'NS'}\n",
      "315 {'arcdeep-4-3-0': 'NS', 'line-6-1-0': 'NS', 'line-6-2-0': 'S'}\n",
      "316 {'arcdeep-4-3-0': 'NS', 'line-6-1-0': 'NS', 'line-6-2-0': 'NS'}\n",
      "317 {'arcdeep-4-3-0': 'NS', 'line-6-1-0': 'NS', 'line-6-2-0': 'NS'}\n",
      "318 {'arcdeep-4-3-0': 'NS', 'line-6-1-0': 'S', 'line-6-2-0': 'NS'}\n",
      "319 {'arcdeep-4-3-0': 'NS', 'line-6-1-0': 'NS', 'line-6-2-0': 'S'}\n",
      "320 {'arcdeep-4-3-0': 'NS', 'line-6-1-0': 'NS', 'line-6-2-0': 'S'}\n",
      "321 {'arcdeep-4-3-0': 'NS', 'line-6-1-0': 'NS', 'line-6-2-0': 'S'}\n",
      "322 {'arcdeep-4-3-0': 'NS', 'line-6-1-0': 'S', 'line-6-2-0': 'NS'}\n",
      "323 {'arcdeep-4-3-0': 'NS', 'line-6-1-0': 'NS', 'line-6-2-0': 'S'}\n",
      "324 {'arcdeep-4-3-0': 'NS', 'line-6-1-0': 'NS', 'line-6-2-0': 'S'}\n",
      "325 {'arcdeep-4-3-0': 'NS', 'line-6-1-0': 'NS', 'line-6-2-0': 'NS'}\n",
      "326 {'arcdeep-4-3-0': 'NS', 'line-6-1-0': 'S', 'line-6-2-0': 'NS'}\n",
      "327 {'arcdeep-4-3-0': 'NS', 'line-6-1-0': 'NS', 'line-6-2-0': 'S'}\n",
      "328 {'arcdeep-4-3-0': 'NS', 'line-6-1-0': 'S', 'line-6-2-0': 'NS'}\n",
      "329 {'arcdeep-4-3-0': 'S', 'line-6-1-0': 'NS', 'line-6-2-0': 'NS'}\n",
      "330 {'arcdeep-4-3-0': 'S', 'line-6-1-0': 'NS', 'line-6-2-0': 'NS'}\n",
      "331 {'arcdeep-4-3-0': 'NS', 'line-6-1-0': 'NS', 'line-6-2-0': 'NS'}\n",
      "332 {'arcdeep-4-3-0': 'NS', 'line-6-1-0': 'NS', 'line-6-2-0': 'NS'}\n",
      "333 {'arcdeep-4-3-0': 'S', 'line-6-1-0': 'NS', 'line-6-2-0': 'S'}\n",
      "334 {'arcdeep-4-3-0': 'NS', 'line-6-1-0': 'NS', 'line-6-2-0': 'NS'}\n",
      "335 {'arcdeep-4-3-0': 'NE', 'line-6-1-0': 'NE', 'line-6-2-0': 'NS'}\n",
      "336 {'arcdeep-4-3-0': 'NS', 'line-6-1-0': 'NS', 'line-6-2-0': 'NS'}\n",
      "337 {'arcdeep-4-3-0': 'NS', 'line-6-1-0': 'NS', 'line-6-2-0': 'S'}\n",
      "338 {'arcdeep-4-3-0': 'S', 'line-6-1-0': 'NS', 'line-6-2-0': 'NS'}\n",
      "339 {'arcdeep-4-3-0': 'NS', 'line-6-1-0': 'NS', 'line-6-2-0': 'NS'}\n",
      "340 {'arcdeep-4-3-0': 'NS', 'line-6-1-0': 'NS', 'line-6-2-0': 'S'}\n",
      "341 {'arcdeep-4-3-0': 'NS', 'line-6-1-0': 'S', 'line-6-2-0': 'NS'}\n",
      "342 {'arcdeep-4-3-0': 'NS', 'line-6-1-0': 'NS', 'line-6-2-0': 'S'}\n",
      "343 {'arcdeep-4-3-0': 'NS', 'line-6-1-0': 'NS', 'line-6-2-0': 'NS'}\n",
      "344 {'arcdeep-4-3-0': 'NS', 'line-6-1-0': 'NS', 'line-6-2-0': 'NS'}\n",
      "345 {'arcdeep-4-3-0': 'NS', 'line-6-1-0': 'NS', 'line-6-2-0': 'S'}\n",
      "346 {'arcdeep-4-3-0': 'NS', 'line-6-1-0': 'NS', 'line-6-2-0': 'NS'}\n",
      "347 {'arcdeep-4-3-0': 'NS', 'line-6-1-0': 'S', 'line-6-2-0': 'NS'}\n",
      "348 {'arcdeep-4-3-0': 'S', 'line-6-1-0': 'NS', 'line-6-2-0': 'S'}\n",
      "349 {'arcdeep-4-3-0': 'NS', 'line-6-1-0': 'S', 'line-6-2-0': 'S'}\n",
      "350 {'arcdeep-4-3-0': 'NS', 'line-6-1-0': 'S', 'line-6-2-0': 'NS'}\n",
      "351 {'arcdeep-4-3-0': 'NS', 'line-6-1-0': 'NS', 'line-6-2-0': 'NS'}\n",
      "352 {'arcdeep-4-3-0': 'S', 'line-6-1-0': 'S', 'line-6-2-0': 'NS'}\n",
      "353 {'arcdeep-4-3-0': 'S', 'line-6-1-0': 'NS', 'line-6-2-0': 'NS'}\n",
      "354 {'arcdeep-4-3-0': 'S', 'line-6-1-0': 'NS', 'line-6-2-0': 'NS'}\n",
      "355 {'arcdeep-4-3-0': 'NS', 'line-6-1-0': 'NS', 'line-6-2-0': 'S'}\n",
      "356 {'arcdeep-4-3-0': 'NS', 'line-6-1-0': 'S', 'line-6-2-0': 'NS'}\n",
      "357 {'arcdeep-4-3-0': 'S', 'line-6-1-0': 'NS', 'line-6-2-0': 'NS'}\n",
      "358 {'arcdeep-4-3-0': 'NS', 'line-6-1-0': 'NS', 'line-6-2-0': 'S'}\n",
      "359 {'arcdeep-4-3-0': 'NS', 'line-6-1-0': 'NS', 'line-6-2-0': 'NS'}\n",
      "360 {'arcdeep-4-3-0': 'NS', 'line-6-1-0': 'NS', 'line-6-2-0': 'NS'}\n",
      "361 {'arcdeep-4-3-0': 'NS', 'line-6-1-0': 'NS', 'line-6-2-0': 'S'}\n",
      "362 {'arcdeep-4-3-0': 'S', 'line-6-1-0': 'NS', 'line-6-2-0': 'NS'}\n",
      "363 {'arcdeep-4-3-0': 'NS', 'line-6-1-0': 'S', 'line-6-2-0': 'NS'}\n",
      "364 {'arcdeep-4-3-0': 'NS', 'line-6-1-0': 'S', 'line-6-2-0': 'NS'}\n",
      "365 {'arcdeep-4-3-0': 'NS', 'line-6-1-0': 'NS', 'line-6-2-0': 'NS'}\n",
      "366 {'arcdeep-4-3-0': 'S', 'line-6-1-0': 'S', 'line-6-2-0': 'NS'}\n",
      "367 {'arcdeep-4-3-0': 'S', 'line-6-1-0': 'S', 'line-6-2-0': 'NS'}\n",
      "368 {'arcdeep-4-3-0': 'NS', 'line-6-1-0': 'NS', 'line-6-2-0': 'S'}\n",
      "369 {'arcdeep-4-3-0': 'NS', 'line-6-1-0': 'NS', 'line-6-2-0': 'NS'}\n",
      "370 {'arcdeep-4-3-0': 'NS', 'line-6-1-0': 'NS', 'line-6-2-0': 'S'}\n",
      "371 {'arcdeep-4-3-0': 'S', 'line-6-1-0': 'NS', 'line-6-2-0': 'NS'}\n",
      "372 {'arcdeep-4-3-0': 'NS', 'line-6-1-0': 'NS', 'line-6-2-0': 'NS'}\n",
      "373 {'arcdeep-4-3-0': 'NS', 'line-6-1-0': 'S', 'line-6-2-0': 'S'}\n",
      "374 {'arcdeep-4-3-0': 'NS', 'line-6-1-0': 'NS', 'line-6-2-0': 'NS'}\n",
      "375 {'arcdeep-4-3-0': 'S', 'line-6-1-0': 'NS', 'line-6-2-0': 'NS'}\n",
      "376 {'arcdeep-4-3-0': 'NS', 'line-6-1-0': 'NS', 'line-6-2-0': 'NS'}\n",
      "377 {'arcdeep-4-3-0': 'S', 'line-6-1-0': 'NS', 'line-6-2-0': 'S'}\n",
      "378 {'arcdeep-4-3-0': 'NS', 'line-6-1-0': 'S', 'line-6-2-0': 'NS'}\n",
      "379 {'arcdeep-4-3-0': 'NS', 'line-6-1-0': 'NS', 'line-6-2-0': 'S'}\n",
      "380 {'arcdeep-4-3-0': 'NS', 'line-6-1-0': 'S', 'line-6-2-0': 'NS'}\n",
      "381 {'arcdeep-4-3-0': 'NS', 'line-6-1-0': 'NS', 'line-6-2-0': 'NS'}\n",
      "382 {'arcdeep-4-3-0': 'S', 'line-6-1-0': 'NS', 'line-6-2-0': 'NS'}\n",
      "383 {'arcdeep-4-3-0': 'NS', 'line-6-1-0': 'NS', 'line-6-2-0': 'NS'}\n",
      "384 {'arcdeep-4-3-0': 'NS', 'line-6-1-0': 'NS', 'line-6-2-0': 'S'}\n",
      "385 {'arcdeep-4-3-0': 'NS', 'line-6-1-0': 'NS', 'line-6-2-0': 'S'}\n",
      "386 {'arcdeep-4-3-0': 'S', 'line-6-1-0': 'S', 'line-6-2-0': 'NS'}\n",
      "387 {'arcdeep-4-3-0': 'S', 'line-6-1-0': 'S', 'line-6-2-0': 'NS'}\n",
      "388 {'arcdeep-4-3-0': 'S', 'line-6-1-0': 'NS', 'line-6-2-0': 'NS'}\n",
      "389 {'arcdeep-4-3-0': 'S', 'line-6-1-0': 'NS', 'line-6-2-0': 'NS'}\n",
      "390 {'arcdeep-4-3-0': 'NS', 'line-6-1-0': 'NS', 'line-6-2-0': 'NS'}\n",
      "391 {'arcdeep-4-3-0': 'NS', 'line-6-1-0': 'S', 'line-6-2-0': 'NS'}\n",
      "392 {'arcdeep-4-3-0': 'NS', 'line-6-1-0': 'NS', 'line-6-2-0': 'NS'}\n",
      "393 {'arcdeep-4-3-0': 'S', 'line-6-1-0': 'S', 'line-6-2-0': 'NS'}\n",
      "394 {'arcdeep-4-3-0': 'NS', 'line-6-1-0': 'NS', 'line-6-2-0': 'S'}\n",
      "395 {'arcdeep-4-3-0': 'S', 'line-6-1-0': 'NS', 'line-6-2-0': 'NS'}\n",
      "396 {'arcdeep-4-3-0': 'NE', 'line-6-1-0': 'NS', 'line-6-2-0': 'NE'}\n",
      "397 {'arcdeep-4-3-0': 'S', 'line-6-1-0': 'NS', 'line-6-2-0': 'NS'}\n",
      "398 {'arcdeep-4-3-0': 'S', 'line-6-1-0': 'S', 'line-6-2-0': 'NS'}\n",
      "399 {'arcdeep-4-3-0': 'NS', 'line-6-1-0': 'NS', 'line-6-2-0': 'NS'}\n",
      "400 {'arcdeep-4-3-0': 'NS', 'line-6-1-0': 'NS', 'line-6-2-0': 'NS'}\n",
      "401 {'arcdeep-4-3-0': 'NS', 'line-6-1-0': 'NS', 'line-6-2-0': 'NS'}\n",
      "402 {'arcdeep-4-3-0': 'NS', 'line-6-1-0': 'S', 'line-6-2-0': 'NS'}\n",
      "403 {'arcdeep-4-3-0': 'NS', 'line-6-1-0': 'NS', 'line-6-2-0': 'S'}\n",
      "404 {'arcdeep-4-3-0': 'NS', 'line-6-1-0': 'NS', 'line-6-2-0': 'S'}\n",
      "405 {'arcdeep-4-3-0': 'NS', 'line-6-1-0': 'S', 'line-6-2-0': 'NS'}\n",
      "406 {'arcdeep-4-3-0': 'NS', 'line-6-1-0': 'S', 'line-6-2-0': 'NS'}\n",
      "407 {'arcdeep-4-3-0': 'NS', 'line-6-1-0': 'NS', 'line-6-2-0': 'S'}\n",
      "408 {'arcdeep-4-3-0': 'NS', 'line-6-1-0': 'NS', 'line-6-2-0': 'NS'}\n",
      "409 {'arcdeep-4-3-0': 'S', 'line-6-1-0': 'NS', 'line-6-2-0': 'NS'}\n",
      "410 {'arcdeep-4-3-0': 'S', 'line-6-1-0': 'NS', 'line-6-2-0': 'NS'}\n",
      "411 {'arcdeep-4-3-0': 'NS', 'line-6-1-0': 'S', 'line-6-2-0': 'NS'}\n",
      "412 {'arcdeep-4-3-0': 'NS', 'line-6-1-0': 'S', 'line-6-2-0': 'NS'}\n",
      "413 {'arcdeep-4-3-0': 'NS', 'line-6-1-0': 'NS', 'line-6-2-0': 'NS'}\n",
      "414 {'arcdeep-4-3-0': 'S', 'line-6-1-0': 'NS', 'line-6-2-0': 'S'}\n",
      "415 {'arcdeep-4-3-0': 'NS', 'line-6-1-0': 'NS', 'line-6-2-0': 'S'}\n",
      "416 {'arcdeep-4-3-0': 'NS', 'line-6-1-0': 'NS', 'line-6-2-0': 'NS'}\n",
      "417 {'arcdeep-4-3-0': 'NS', 'line-6-1-0': 'NS', 'line-6-2-0': 'NS'}\n",
      "418 {'arcdeep-4-3-0': 'NS', 'line-6-1-0': 'NS', 'line-6-2-0': 'S'}\n",
      "419 {'arcdeep-4-3-0': 'NS', 'line-6-1-0': 'NS', 'line-6-2-0': 'S'}\n",
      "420 {'arcdeep-4-3-0': 'NS', 'line-6-1-0': 'S', 'line-6-2-0': 'NS'}\n",
      "421 {'arcdeep-4-3-0': 'NS', 'line-6-1-0': 'S', 'line-6-2-0': 'S'}\n",
      "422 {'arcdeep-4-3-0': 'NS', 'line-6-1-0': 'NS', 'line-6-2-0': 'S'}\n",
      "423 {'arcdeep-4-3-0': 'NS', 'line-6-1-0': 'S', 'line-6-2-0': 'NS'}\n",
      "424 {'arcdeep-4-3-0': 'NS', 'line-6-1-0': 'NS', 'line-6-2-0': 'S'}\n",
      "425 {'arcdeep-4-3-0': 'S', 'line-6-1-0': 'NS', 'line-6-2-0': 'NS'}\n",
      "426 {'arcdeep-4-3-0': 'NS', 'line-6-1-0': 'NS', 'line-6-2-0': 'NS'}\n",
      "427 {'arcdeep-4-3-0': 'S', 'line-6-1-0': 'S', 'line-6-2-0': 'NS'}\n",
      "428 {'arcdeep-4-3-0': 'NS', 'line-6-1-0': 'NS', 'line-6-2-0': 'S'}\n",
      "429 {'arcdeep-4-3-0': 'NS', 'line-6-1-0': 'NS', 'line-6-2-0': 'NS'}\n",
      "430 {'arcdeep-4-3-0': 'NS', 'line-6-1-0': 'S', 'line-6-2-0': 'NS'}\n",
      "431 {'arcdeep-4-3-0': 'S', 'line-6-1-0': 'NS', 'line-6-2-0': 'S'}\n",
      "432 {'arcdeep-4-3-0': 'NS', 'line-6-1-0': 'NS', 'line-6-2-0': 'NS'}\n",
      "433 {'arcdeep-4-3-0': 'S', 'line-6-1-0': 'NS', 'line-6-2-0': 'NS'}\n",
      "434 {'arcdeep-4-3-0': 'NS', 'line-6-1-0': 'NS', 'line-6-2-0': 'NS'}\n",
      "435 {'arcdeep-4-3-0': 'S', 'line-6-1-0': 'S', 'line-6-2-0': 'NS'}\n",
      "436 {'arcdeep-4-3-0': 'NS', 'line-6-1-0': 'S', 'line-6-2-0': 'NS'}\n",
      "437 {'arcdeep-4-3-0': 'NS', 'line-6-1-0': 'NS', 'line-6-2-0': 'NS'}\n",
      "438 {'arcdeep-4-3-0': 'NS', 'line-6-1-0': 'NS', 'line-6-2-0': 'NS'}\n",
      "439 {'arcdeep-4-3-0': 'NS', 'line-6-1-0': 'NS', 'line-6-2-0': 'S'}\n",
      "440 {'arcdeep-4-3-0': 'NS', 'line-6-1-0': 'S', 'line-6-2-0': 'NS'}\n",
      "441 {'arcdeep-4-3-0': 'NS', 'line-6-1-0': 'S', 'line-6-2-0': 'NS'}\n",
      "442 {'arcdeep-4-3-0': 'S', 'line-6-1-0': 'NS', 'line-6-2-0': 'NS'}\n",
      "443 {'arcdeep-4-3-0': 'NS', 'line-6-1-0': 'NS', 'line-6-2-0': 'S'}\n",
      "444 {'arcdeep-4-3-0': 'NS', 'line-6-1-0': 'NS', 'line-6-2-0': 'NS'}\n",
      "445 {'arcdeep-4-3-0': 'NS', 'line-6-1-0': 'NS', 'line-6-2-0': 'S'}\n",
      "446 {'arcdeep-4-3-0': 'NS', 'line-6-1-0': 'NS', 'line-6-2-0': 'NS'}\n",
      "447 {'arcdeep-4-3-0': 'NS', 'line-6-1-0': 'S', 'line-6-2-0': 'S'}\n",
      "448 {'arcdeep-4-3-0': 'S', 'line-6-1-0': 'NS', 'line-6-2-0': 'NS'}\n",
      "449 {'arcdeep-4-3-0': 'S', 'line-6-1-0': 'NS', 'line-6-2-0': 'S'}\n",
      "450 {'arcdeep-4-3-0': 'NS', 'line-6-1-0': 'NS', 'line-6-2-0': 'NS'}\n",
      "451 {'arcdeep-4-3-0': 'S', 'line-6-1-0': 'NS', 'line-6-2-0': 'S'}\n",
      "452 {'arcdeep-4-3-0': 'NS', 'line-6-1-0': 'S', 'line-6-2-0': 'NS'}\n",
      "453 {'arcdeep-4-3-0': 'S', 'line-6-1-0': 'NS', 'line-6-2-0': 'NS'}\n",
      "454 {'arcdeep-4-3-0': 'NS', 'line-6-1-0': 'S', 'line-6-2-0': 'S'}\n",
      "455 {'arcdeep-4-3-0': 'NS', 'line-6-1-0': 'NS', 'line-6-2-0': 'NS'}\n",
      "456 {'arcdeep-4-3-0': 'NS', 'line-6-1-0': 'NS', 'line-6-2-0': 'S'}\n",
      "457 {'arcdeep-4-3-0': 'NS', 'line-6-1-0': 'S', 'line-6-2-0': 'NS'}\n",
      "458 {'arcdeep-4-3-0': 'NS', 'line-6-1-0': 'NS', 'line-6-2-0': 'NS'}\n",
      "459 {'arcdeep-4-3-0': 'S', 'line-6-1-0': 'S', 'line-6-2-0': 'NS'}\n",
      "460 {'arcdeep-4-3-0': 'NS', 'line-6-1-0': 'S', 'line-6-2-0': 'NS'}\n",
      "461 {'arcdeep-4-3-0': 'NS', 'line-6-1-0': 'NS', 'line-6-2-0': 'NS'}\n",
      "462 {'arcdeep-4-3-0': 'NS', 'line-6-1-0': 'NS', 'line-6-2-0': 'NS'}\n",
      "463 {'arcdeep-4-3-0': 'NS', 'line-6-1-0': 'NS', 'line-6-2-0': 'S'}\n",
      "464 {'arcdeep-4-3-0': 'NS', 'line-6-1-0': 'S', 'line-6-2-0': 'NS'}\n",
      "465 {'arcdeep-4-3-0': 'NS', 'line-6-1-0': 'NS', 'line-6-2-0': 'NS'}\n",
      "466 {'arcdeep-4-3-0': 'S', 'line-6-1-0': 'NS', 'line-6-2-0': 'S'}\n",
      "467 {'arcdeep-4-3-0': 'S', 'line-6-1-0': 'NS', 'line-6-2-0': 'NS'}\n",
      "468 {'arcdeep-4-3-0': 'NS', 'line-6-1-0': 'S', 'line-6-2-0': 'NS'}\n",
      "469 {'arcdeep-4-3-0': 'NS', 'line-6-1-0': 'NS', 'line-6-2-0': 'S'}\n",
      "470 {'arcdeep-4-3-0': 'NS', 'line-6-1-0': 'NS', 'line-6-2-0': 'NS'}\n",
      "471 {'arcdeep-4-3-0': 'NS', 'line-6-1-0': 'NS', 'line-6-2-0': 'S'}\n",
      "472 {'arcdeep-4-3-0': 'NS', 'line-6-1-0': 'NS', 'line-6-2-0': 'NS'}\n",
      "473 {'arcdeep-4-3-0': 'S', 'line-6-1-0': 'NS', 'line-6-2-0': 'S'}\n",
      "474 {'arcdeep-4-3-0': 'NS', 'line-6-1-0': 'NS', 'line-6-2-0': 'NS'}\n",
      "475 {'arcdeep-4-3-0': 'S', 'line-6-1-0': 'S', 'line-6-2-0': 'NS'}\n",
      "476 {'arcdeep-4-3-0': 'NS', 'line-6-1-0': 'NS', 'line-6-2-0': 'S'}\n",
      "477 {'arcdeep-4-3-0': 'S', 'line-6-1-0': 'NS', 'line-6-2-0': 'NS'}\n",
      "478 {'arcdeep-4-3-0': 'NS', 'line-6-1-0': 'NS', 'line-6-2-0': 'NS'}\n",
      "479 {'arcdeep-4-3-0': 'NS', 'line-6-1-0': 'S', 'line-6-2-0': 'S'}\n",
      "480 {'arcdeep-4-3-0': 'NS', 'line-6-1-0': 'NS', 'line-6-2-0': 'NS'}\n",
      "481 {'arcdeep-4-3-0': 'S', 'line-6-1-0': 'NS', 'line-6-2-0': 'NS'}\n",
      "482 {'arcdeep-4-3-0': 'NS', 'line-6-1-0': 'NS', 'line-6-2-0': 'NS'}\n",
      "483 {'arcdeep-4-3-0': 'NS', 'line-6-1-0': 'NS', 'line-6-2-0': 'NS'}\n",
      "484 {'arcdeep-4-3-0': 'NS', 'line-6-1-0': 'NS', 'line-6-2-0': 'S'}\n",
      "485 {'arcdeep-4-3-0': 'S', 'line-6-1-0': 'NS', 'line-6-2-0': 'S'}\n",
      "486 {'arcdeep-4-3-0': 'NS', 'line-6-1-0': 'S', 'line-6-2-0': 'S'}\n",
      "487 {'arcdeep-4-3-0': 'S', 'line-6-1-0': 'NS', 'line-6-2-0': 'NS'}\n",
      "488 {'arcdeep-4-3-0': 'NS', 'line-6-1-0': 'NS', 'line-6-2-0': 'NS'}\n",
      "489 {'arcdeep-4-3-0': 'NS', 'line-6-1-0': 'NS', 'line-6-2-0': 'NS'}\n",
      "490 {'arcdeep-4-3-0': 'NS', 'line-6-1-0': 'NS', 'line-6-2-0': 'S'}\n",
      "491 {'arcdeep-4-3-0': 'S', 'line-6-1-0': 'S', 'line-6-2-0': 'NS'}\n",
      "492 {'arcdeep-4-3-0': 'NS', 'line-6-1-0': 'NS', 'line-6-2-0': 'S'}\n",
      "493 {'arcdeep-4-3-0': 'NE', 'line-6-1-0': 'NE', 'line-6-2-0': 'NS'}\n",
      "494 {'arcdeep-4-3-0': 'NS', 'line-6-1-0': 'NS', 'line-6-2-0': 'NS'}\n",
      "495 {'arcdeep-4-3-0': 'NS', 'line-6-1-0': 'NS', 'line-6-2-0': 'NS'}\n",
      "496 {'arcdeep-4-3-0': 'S', 'line-6-1-0': 'NS', 'line-6-2-0': 'NS'}\n",
      "497 {'arcdeep-4-3-0': 'NS', 'line-6-1-0': 'NS', 'line-6-2-0': 'NS'}\n",
      "498 {'arcdeep-4-3-0': 'S', 'line-6-1-0': 'NS', 'line-6-2-0': 'S'}\n",
      "499 {'arcdeep-4-3-0': 'S', 'line-6-1-0': 'NS', 'line-6-2-0': 'NS'}\n",
      "500 {'arcdeep-4-3-0': 'NS', 'line-6-1-0': 'NS', 'line-6-2-0': 'S'}\n",
      "501 {'arcdeep-4-3-0': 'S', 'line-6-1-0': 'NS', 'line-6-2-0': 'NS'}\n",
      "502 {'arcdeep-4-3-0': 'NS', 'line-6-1-0': 'NS', 'line-6-2-0': 'NS'}\n",
      "503 {'arcdeep-4-3-0': 'NS', 'line-6-1-0': 'NS', 'line-6-2-0': 'S'}\n",
      "504 {'arcdeep-4-3-0': 'NS', 'line-6-1-0': 'NS', 'line-6-2-0': 'NS'}\n",
      "505 {'arcdeep-4-3-0': 'NS', 'line-6-1-0': 'S', 'line-6-2-0': 'NS'}\n",
      "506 {'arcdeep-4-3-0': 'S', 'line-6-1-0': 'S', 'line-6-2-0': 'NS'}\n",
      "507 {'arcdeep-4-3-0': 'NS', 'line-6-1-0': 'NS', 'line-6-2-0': 'S'}\n",
      "508 {'arcdeep-4-3-0': 'NS', 'line-6-1-0': 'NS', 'line-6-2-0': 'NS'}\n",
      "509 {'arcdeep-4-3-0': 'NS', 'line-6-1-0': 'S', 'line-6-2-0': 'NS'}\n",
      "510 {'arcdeep-4-3-0': 'NS', 'line-6-1-0': 'NS', 'line-6-2-0': 'NS'}\n",
      "511 {'arcdeep-4-3-0': 'NS', 'line-6-1-0': 'NS', 'line-6-2-0': 'NS'}\n",
      "512 {'arcdeep-4-3-0': 'NS', 'line-6-1-0': 'NS', 'line-6-2-0': 'NS'}\n",
      "513 {'arcdeep-4-3-0': 'S', 'line-6-1-0': 'NS', 'line-6-2-0': 'NS'}\n",
      "514 {'arcdeep-4-3-0': 'NS', 'line-6-1-0': 'S', 'line-6-2-0': 'NS'}\n",
      "515 {'arcdeep-4-3-0': 'NS', 'line-6-1-0': 'NS', 'line-6-2-0': 'NS'}\n",
      "516 {'arcdeep-4-3-0': 'NS', 'line-6-1-0': 'NS', 'line-6-2-0': 'NS'}\n",
      "517 {'arcdeep-4-3-0': 'NS', 'line-6-1-0': 'S', 'line-6-2-0': 'NS'}\n",
      "518 {'arcdeep-4-3-0': 'NS', 'line-6-1-0': 'NS', 'line-6-2-0': 'NS'}\n",
      "519 {'arcdeep-4-3-0': 'NS', 'line-6-1-0': 'NS', 'line-6-2-0': 'NS'}\n",
      "520 {'arcdeep-4-3-0': 'NS', 'line-6-1-0': 'NS', 'line-6-2-0': 'NS'}\n",
      "521 {'arcdeep-4-3-0': 'NS', 'line-6-1-0': 'S', 'line-6-2-0': 'NS'}\n",
      "522 {'arcdeep-4-3-0': 'S', 'line-6-1-0': 'S', 'line-6-2-0': 'NS'}\n",
      "523 {'arcdeep-4-3-0': 'NS', 'line-6-1-0': 'NS', 'line-6-2-0': 'NS'}\n",
      "524 {'arcdeep-4-3-0': 'NS', 'line-6-1-0': 'NS', 'line-6-2-0': 'NS'}\n",
      "525 {'arcdeep-4-3-0': 'S', 'line-6-1-0': 'S', 'line-6-2-0': 'NS'}\n",
      "526 {'arcdeep-4-3-0': 'S', 'line-6-1-0': 'S', 'line-6-2-0': 'NS'}\n",
      "527 {'arcdeep-4-3-0': 'NS', 'line-6-1-0': 'S', 'line-6-2-0': 'NS'}\n",
      "528 {'arcdeep-4-3-0': 'NS', 'line-6-1-0': 'NS', 'line-6-2-0': 'S'}\n",
      "529 {'arcdeep-4-3-0': 'S', 'line-6-1-0': 'S', 'line-6-2-0': 'NS'}\n",
      "530 {'arcdeep-4-3-0': 'NS', 'line-6-1-0': 'S', 'line-6-2-0': 'S'}\n",
      "531 {'arcdeep-4-3-0': 'NS', 'line-6-1-0': 'NS', 'line-6-2-0': 'NS'}\n",
      "532 {'arcdeep-4-3-0': 'NS', 'line-6-1-0': 'S', 'line-6-2-0': 'NS'}\n",
      "533 {'arcdeep-4-3-0': 'S', 'line-6-1-0': 'NS', 'line-6-2-0': 'S'}\n",
      "534 {'arcdeep-4-3-0': 'NS', 'line-6-1-0': 'NS', 'line-6-2-0': 'NS'}\n",
      "535 {'arcdeep-4-3-0': 'S', 'line-6-1-0': 'S', 'line-6-2-0': 'NS'}\n",
      "536 {'arcdeep-4-3-0': 'NS', 'line-6-1-0': 'S', 'line-6-2-0': 'NS'}\n",
      "537 {'arcdeep-4-3-0': 'NS', 'line-6-1-0': 'NS', 'line-6-2-0': 'NS'}\n",
      "538 {'arcdeep-4-3-0': 'NS', 'line-6-1-0': 'NS', 'line-6-2-0': 'NS'}\n",
      "539 {'arcdeep-4-3-0': 'NS', 'line-6-1-0': 'NS', 'line-6-2-0': 'S'}\n",
      "540 {'arcdeep-4-3-0': 'S', 'line-6-1-0': 'NS', 'line-6-2-0': 'S'}\n",
      "541 {'arcdeep-4-3-0': 'S', 'line-6-1-0': 'NS', 'line-6-2-0': 'NS'}\n",
      "542 {'arcdeep-4-3-0': 'NS', 'line-6-1-0': 'S', 'line-6-2-0': 'NS'}\n",
      "543 {'arcdeep-4-3-0': 'NS', 'line-6-1-0': 'NS', 'line-6-2-0': 'NS'}\n",
      "544 {'arcdeep-4-3-0': 'NS', 'line-6-1-0': 'NS', 'line-6-2-0': 'NS'}\n",
      "545 {'arcdeep-4-3-0': 'NS', 'line-6-1-0': 'NS', 'line-6-2-0': 'S'}\n",
      "546 {'arcdeep-4-3-0': 'NS', 'line-6-1-0': 'S', 'line-6-2-0': 'NS'}\n",
      "547 {'arcdeep-4-3-0': 'S', 'line-6-1-0': 'NS', 'line-6-2-0': 'NS'}\n",
      "548 {'arcdeep-4-3-0': 'NS', 'line-6-1-0': 'NS', 'line-6-2-0': 'S'}\n",
      "549 {'arcdeep-4-3-0': 'NS', 'line-6-1-0': 'NS', 'line-6-2-0': 'S'}\n",
      "550 {'arcdeep-4-3-0': 'S', 'line-6-1-0': 'NS', 'line-6-2-0': 'NS'}\n",
      "551 {'arcdeep-4-3-0': 'NS', 'line-6-1-0': 'NE', 'line-6-2-0': 'NE'}\n",
      "552 {'arcdeep-4-3-0': 'NS', 'line-6-1-0': 'S', 'line-6-2-0': 'NS'}\n",
      "553 {'arcdeep-4-3-0': 'NS', 'line-6-1-0': 'NS', 'line-6-2-0': 'NS'}\n",
      "554 {'arcdeep-4-3-0': 'S', 'line-6-1-0': 'S', 'line-6-2-0': 'NS'}\n",
      "555 {'arcdeep-4-3-0': 'S', 'line-6-1-0': 'NS', 'line-6-2-0': 'NS'}\n",
      "556 {'arcdeep-4-3-0': 'NS', 'line-6-1-0': 'NS', 'line-6-2-0': 'NS'}\n",
      "557 {'arcdeep-4-3-0': 'NS', 'line-6-1-0': 'NS', 'line-6-2-0': 'NS'}\n",
      "558 {'arcdeep-4-3-0': 'S', 'line-6-1-0': 'S', 'line-6-2-0': 'NS'}\n",
      "559 {'arcdeep-4-3-0': 'NS', 'line-6-1-0': 'NS', 'line-6-2-0': 'NS'}\n",
      "560 {'arcdeep-4-3-0': 'NS', 'line-6-1-0': 'S', 'line-6-2-0': 'NS'}\n",
      "561 {'arcdeep-4-3-0': 'NS', 'line-6-1-0': 'S', 'line-6-2-0': 'NS'}\n",
      "562 {'arcdeep-4-3-0': 'NS', 'line-6-1-0': 'S', 'line-6-2-0': 'NS'}\n",
      "563 {'arcdeep-4-3-0': 'S', 'line-6-1-0': 'S', 'line-6-2-0': 'NS'}\n",
      "564 {'arcdeep-4-3-0': 'NS', 'line-6-1-0': 'NS', 'line-6-2-0': 'NS'}\n",
      "565 {'arcdeep-4-3-0': 'NS', 'line-6-1-0': 'S', 'line-6-2-0': 'S'}\n",
      "566 {'arcdeep-4-3-0': 'NS', 'line-6-1-0': 'NS', 'line-6-2-0': 'NS'}\n",
      "567 {'arcdeep-4-3-0': 'NS', 'line-6-1-0': 'S', 'line-6-2-0': 'NS'}\n",
      "568 {'arcdeep-4-3-0': 'S', 'line-6-1-0': 'NS', 'line-6-2-0': 'S'}\n",
      "569 {'arcdeep-4-3-0': 'S', 'line-6-1-0': 'NS', 'line-6-2-0': 'S'}\n",
      "570 {'arcdeep-4-3-0': 'NS', 'line-6-1-0': 'S', 'line-6-2-0': 'NS'}\n",
      "571 {'arcdeep-4-3-0': 'NS', 'line-6-1-0': 'NS', 'line-6-2-0': 'NS'}\n",
      "572 {'arcdeep-4-3-0': 'NS', 'line-6-1-0': 'NS', 'line-6-2-0': 'NS'}\n",
      "573 {'arcdeep-4-3-0': 'NS', 'line-6-1-0': 'NS', 'line-6-2-0': 'NS'}\n",
      "574 {'arcdeep-4-3-0': 'NE', 'line-6-1-0': 'NS', 'line-6-2-0': 'NE'}\n",
      "575 {'arcdeep-4-3-0': 'NS', 'line-6-1-0': 'NS', 'line-6-2-0': 'NS'}\n",
      "576 {'arcdeep-4-3-0': 'NS', 'line-6-1-0': 'NS', 'line-6-2-0': 'NS'}\n",
      "577 {'arcdeep-4-3-0': 'NS', 'line-6-1-0': 'NS', 'line-6-2-0': 'S'}\n",
      "578 {'arcdeep-4-3-0': 'NS', 'line-6-1-0': 'NS', 'line-6-2-0': 'NS'}\n",
      "579 {'arcdeep-4-3-0': 'S', 'line-6-1-0': 'NS', 'line-6-2-0': 'S'}\n",
      "580 {'arcdeep-4-3-0': 'NS', 'line-6-1-0': 'NS', 'line-6-2-0': 'NS'}\n",
      "581 {'arcdeep-4-3-0': 'S', 'line-6-1-0': 'S', 'line-6-2-0': 'NS'}\n",
      "582 {'arcdeep-4-3-0': 'NS', 'line-6-1-0': 'NS', 'line-6-2-0': 'S'}\n",
      "583 {'arcdeep-4-3-0': 'NS', 'line-6-1-0': 'S', 'line-6-2-0': 'NS'}\n",
      "584 {'arcdeep-4-3-0': 'NS', 'line-6-1-0': 'S', 'line-6-2-0': 'NS'}\n",
      "585 {'arcdeep-4-3-0': 'S', 'line-6-1-0': 'NS', 'line-6-2-0': 'S'}\n",
      "586 {'arcdeep-4-3-0': 'NS', 'line-6-1-0': 'NS', 'line-6-2-0': 'NS'}\n",
      "587 {'arcdeep-4-3-0': 'NS', 'line-6-1-0': 'S', 'line-6-2-0': 'NS'}\n",
      "588 {'arcdeep-4-3-0': 'NS', 'line-6-1-0': 'NS', 'line-6-2-0': 'S'}\n",
      "589 {'arcdeep-4-3-0': 'NS', 'line-6-1-0': 'S', 'line-6-2-0': 'S'}\n",
      "590 {'arcdeep-4-3-0': 'NS', 'line-6-1-0': 'NS', 'line-6-2-0': 'NS'}\n",
      "591 {'arcdeep-4-3-0': 'NS', 'line-6-1-0': 'NS', 'line-6-2-0': 'NS'}\n",
      "592 {'arcdeep-4-3-0': 'NS', 'line-6-1-0': 'NS', 'line-6-2-0': 'NS'}\n",
      "593 {'arcdeep-4-3-0': 'NS', 'line-6-1-0': 'S', 'line-6-2-0': 'S'}\n",
      "594 {'arcdeep-4-3-0': 'S', 'line-6-1-0': 'NS', 'line-6-2-0': 'S'}\n",
      "595 {'arcdeep-4-3-0': 'NS', 'line-6-1-0': 'NS', 'line-6-2-0': 'NS'}\n",
      "596 {'arcdeep-4-3-0': 'NS', 'line-6-1-0': 'NS', 'line-6-2-0': 'NS'}\n",
      "597 {'arcdeep-4-3-0': 'NS', 'line-6-1-0': 'NS', 'line-6-2-0': 'NS'}\n",
      "598 {'arcdeep-4-3-0': 'NS', 'line-6-1-0': 'S', 'line-6-2-0': 'NS'}\n",
      "599 {'arcdeep-4-3-0': 'NS', 'line-6-1-0': 'S', 'line-6-2-0': 'NS'}\n",
      "600 {'arcdeep-4-3-0': 'NS', 'line-6-1-0': 'S', 'line-6-2-0': 'S'}\n",
      "601 {'arcdeep-4-3-0': 'NS', 'line-6-1-0': 'NS', 'line-6-2-0': 'NS'}\n",
      "602 {'arcdeep-4-3-0': 'S', 'line-6-1-0': 'S', 'line-6-2-0': 'NS'}\n",
      "603 {'arcdeep-4-3-0': 'S', 'line-6-1-0': 'NS', 'line-6-2-0': 'NS'}\n",
      "604 {'arcdeep-4-3-0': 'NS', 'line-6-1-0': 'NS', 'line-6-2-0': 'NS'}\n",
      "605 {'arcdeep-4-3-0': 'S', 'line-6-1-0': 'S', 'line-6-2-0': 'NS'}\n",
      "606 {'arcdeep-4-3-0': 'S', 'line-6-1-0': 'NS', 'line-6-2-0': 'S'}\n",
      "607 {'arcdeep-4-3-0': 'NS', 'line-6-1-0': 'NS', 'line-6-2-0': 'NS'}\n",
      "608 {'arcdeep-4-3-0': 'NS', 'line-6-1-0': 'NS', 'line-6-2-0': 'NS'}\n",
      "609 {'arcdeep-4-3-0': 'NS', 'line-6-1-0': 'NS', 'line-6-2-0': 'NS'}\n",
      "610 {'arcdeep-4-3-0': 'NS', 'line-6-1-0': 'NS', 'line-6-2-0': 'S'}\n",
      "611 {'arcdeep-4-3-0': 'NS', 'line-6-1-0': 'NS', 'line-6-2-0': 'NS'}\n",
      "612 {'arcdeep-4-3-0': 'NS', 'line-6-1-0': 'S', 'line-6-2-0': 'NS'}\n",
      "613 {'arcdeep-4-3-0': 'S', 'line-6-1-0': 'S', 'line-6-2-0': 'NS'}\n",
      "614 {'arcdeep-4-3-0': 'NS', 'line-6-1-0': 'S', 'line-6-2-0': 'S'}\n",
      "615 {'arcdeep-4-3-0': 'NS', 'line-6-1-0': 'S', 'line-6-2-0': 'S'}\n",
      "616 {'arcdeep-4-3-0': 'S', 'line-6-1-0': 'NS', 'line-6-2-0': 'NS'}\n",
      "617 {'arcdeep-4-3-0': 'NS', 'line-6-1-0': 'NS', 'line-6-2-0': 'NS'}\n",
      "618 {'arcdeep-4-3-0': 'S', 'line-6-1-0': 'NS', 'line-6-2-0': 'NS'}\n",
      "619 {'arcdeep-4-3-0': 'NS', 'line-6-1-0': 'S', 'line-6-2-0': 'NS'}\n",
      "620 {'arcdeep-4-3-0': 'NS', 'line-6-1-0': 'NS', 'line-6-2-0': 'NS'}\n",
      "621 {'arcdeep-4-3-0': 'NS', 'line-6-1-0': 'NS', 'line-6-2-0': 'NS'}\n",
      "622 {'arcdeep-4-3-0': 'NS', 'line-6-1-0': 'NS', 'line-6-2-0': 'NS'}\n",
      "623 {'arcdeep-4-3-0': 'NS', 'line-6-1-0': 'NS', 'line-6-2-0': 'NS'}\n",
      "624 {'arcdeep-4-3-0': 'NS', 'line-6-1-0': 'NS', 'line-6-2-0': 'NS'}\n",
      "625 {'arcdeep-4-3-0': 'NS', 'line-6-1-0': 'S', 'line-6-2-0': 'NS'}\n",
      "626 {'arcdeep-4-3-0': 'NS', 'line-6-1-0': 'S', 'line-6-2-0': 'S'}\n",
      "627 {'arcdeep-4-3-0': 'S', 'line-6-1-0': 'NS', 'line-6-2-0': 'NS'}\n",
      "628 {'arcdeep-4-3-0': 'NS', 'line-6-1-0': 'S', 'line-6-2-0': 'NS'}\n",
      "629 {'arcdeep-4-3-0': 'NS', 'line-6-1-0': 'NS', 'line-6-2-0': 'NS'}\n",
      "630 {'arcdeep-4-3-0': 'S', 'line-6-1-0': 'S', 'line-6-2-0': 'NS'}\n",
      "631 {'arcdeep-4-3-0': 'S', 'line-6-1-0': 'NS', 'line-6-2-0': 'NS'}\n",
      "632 {'arcdeep-4-3-0': 'NS', 'line-6-1-0': 'S', 'line-6-2-0': 'NS'}\n",
      "633 {'arcdeep-4-3-0': 'NS', 'line-6-1-0': 'NS', 'line-6-2-0': 'NS'}\n",
      "634 {'arcdeep-4-3-0': 'NS', 'line-6-1-0': 'NS', 'line-6-2-0': 'NS'}\n",
      "635 {'arcdeep-4-3-0': 'NS', 'line-6-1-0': 'S', 'line-6-2-0': 'NS'}\n",
      "636 {'arcdeep-4-3-0': 'NS', 'line-6-1-0': 'S', 'line-6-2-0': 'NS'}\n",
      "637 {'arcdeep-4-3-0': 'S', 'line-6-1-0': 'NS', 'line-6-2-0': 'NS'}\n",
      "638 {'arcdeep-4-3-0': 'S', 'line-6-1-0': 'NS', 'line-6-2-0': 'S'}\n",
      "639 {'arcdeep-4-3-0': 'S', 'line-6-1-0': 'NS', 'line-6-2-0': 'NS'}\n",
      "640 {'arcdeep-4-3-0': 'S', 'line-6-1-0': 'NS', 'line-6-2-0': 'S'}\n",
      "641 {'arcdeep-4-3-0': 'NS', 'line-6-1-0': 'S', 'line-6-2-0': 'NS'}\n",
      "642 {'arcdeep-4-3-0': 'NS', 'line-6-1-0': 'NS', 'line-6-2-0': 'NS'}\n",
      "643 {'arcdeep-4-3-0': 'S', 'line-6-1-0': 'NS', 'line-6-2-0': 'S'}\n",
      "644 {'arcdeep-4-3-0': 'S', 'line-6-1-0': 'S', 'line-6-2-0': 'NS'}\n",
      "645 {'arcdeep-4-3-0': 'S', 'line-6-1-0': 'NS', 'line-6-2-0': 'S'}\n",
      "646 {'arcdeep-4-3-0': 'NS', 'line-6-1-0': 'NS', 'line-6-2-0': 'NS'}\n",
      "647 {'arcdeep-4-3-0': 'S', 'line-6-1-0': 'S', 'line-6-2-0': 'NS'}\n",
      "648 {'arcdeep-4-3-0': 'S', 'line-6-1-0': 'S', 'line-6-2-0': 'NS'}\n",
      "649 {'arcdeep-4-3-0': 'NS', 'line-6-1-0': 'NS', 'line-6-2-0': 'NS'}\n",
      "650 {'arcdeep-4-3-0': 'S', 'line-6-1-0': 'NS', 'line-6-2-0': 'S'}\n",
      "651 {'arcdeep-4-3-0': 'S', 'line-6-1-0': 'NS', 'line-6-2-0': 'S'}\n",
      "652 {'arcdeep-4-3-0': 'NS', 'line-6-1-0': 'NS', 'line-6-2-0': 'S'}\n",
      "653 {'arcdeep-4-3-0': 'NS', 'line-6-1-0': 'NS', 'line-6-2-0': 'NS'}\n",
      "654 {'arcdeep-4-3-0': 'NS', 'line-6-1-0': 'NS', 'line-6-2-0': 'NS'}\n",
      "655 {'arcdeep-4-3-0': 'NS', 'line-6-1-0': 'NS', 'line-6-2-0': 'S'}\n",
      "656 {'arcdeep-4-3-0': 'NS', 'line-6-1-0': 'NS', 'line-6-2-0': 'NS'}\n",
      "657 {'arcdeep-4-3-0': 'NS', 'line-6-1-0': 'S', 'line-6-2-0': 'S'}\n",
      "658 {'arcdeep-4-3-0': 'NS', 'line-6-1-0': 'S', 'line-6-2-0': 'S'}\n",
      "659 {'arcdeep-4-3-0': 'S', 'line-6-1-0': 'NS', 'line-6-2-0': 'NS'}\n",
      "660 {'arcdeep-4-3-0': 'S', 'line-6-1-0': 'NS', 'line-6-2-0': 'S'}\n",
      "661 {'arcdeep-4-3-0': 'NE', 'line-6-1-0': 'NE', 'line-6-2-0': 'NS'}\n",
      "662 {'arcdeep-4-3-0': 'NS', 'line-6-1-0': 'S', 'line-6-2-0': 'NS'}\n",
      "663 {'arcdeep-4-3-0': 'NS', 'line-6-1-0': 'S', 'line-6-2-0': 'S'}\n",
      "664 {'arcdeep-4-3-0': 'NS', 'line-6-1-0': 'NS', 'line-6-2-0': 'NS'}\n",
      "665 {'arcdeep-4-3-0': 'S', 'line-6-1-0': 'NS', 'line-6-2-0': 'NS'}\n",
      "666 {'arcdeep-4-3-0': 'NS', 'line-6-1-0': 'S', 'line-6-2-0': 'S'}\n",
      "667 {'arcdeep-4-3-0': 'NS', 'line-6-1-0': 'NS', 'line-6-2-0': 'NS'}\n",
      "668 {'arcdeep-4-3-0': 'S', 'line-6-1-0': 'NS', 'line-6-2-0': 'S'}\n",
      "669 {'arcdeep-4-3-0': 'NS', 'line-6-1-0': 'NS', 'line-6-2-0': 'NS'}\n",
      "670 {'arcdeep-4-3-0': 'S', 'line-6-1-0': 'NS', 'line-6-2-0': 'NS'}\n",
      "671 {'arcdeep-4-3-0': 'NS', 'line-6-1-0': 'NS', 'line-6-2-0': 'NS'}\n",
      "672 {'arcdeep-4-3-0': 'NS', 'line-6-1-0': 'S', 'line-6-2-0': 'S'}\n",
      "673 {'arcdeep-4-3-0': 'NS', 'line-6-1-0': 'NS', 'line-6-2-0': 'S'}\n",
      "674 {'arcdeep-4-3-0': 'NS', 'line-6-1-0': 'S', 'line-6-2-0': 'NS'}\n",
      "675 {'arcdeep-4-3-0': 'NS', 'line-6-1-0': 'NS', 'line-6-2-0': 'NS'}\n",
      "676 {'arcdeep-4-3-0': 'NS', 'line-6-1-0': 'NS', 'line-6-2-0': 'NS'}\n",
      "677 {'arcdeep-4-3-0': 'S', 'line-6-1-0': 'NS', 'line-6-2-0': 'NS'}\n",
      "678 {'arcdeep-4-3-0': 'S', 'line-6-1-0': 'NS', 'line-6-2-0': 'NS'}\n",
      "679 {'arcdeep-4-3-0': 'S', 'line-6-1-0': 'NS', 'line-6-2-0': 'S'}\n",
      "680 {'arcdeep-4-3-0': 'S', 'line-6-1-0': 'NS', 'line-6-2-0': 'S'}\n",
      "681 {'arcdeep-4-3-0': 'S', 'line-6-1-0': 'NS', 'line-6-2-0': 'NS'}\n",
      "682 {'arcdeep-4-3-0': 'NS', 'line-6-1-0': 'NS', 'line-6-2-0': 'NS'}\n",
      "683 {'arcdeep-4-3-0': 'NS', 'line-6-1-0': 'NS', 'line-6-2-0': 'NS'}\n",
      "684 {'arcdeep-4-3-0': 'NS', 'line-6-1-0': 'S', 'line-6-2-0': 'NS'}\n",
      "685 {'arcdeep-4-3-0': 'NS', 'line-6-1-0': 'NS', 'line-6-2-0': 'S'}\n",
      "686 {'arcdeep-4-3-0': 'S', 'line-6-1-0': 'NS', 'line-6-2-0': 'NS'}\n",
      "687 {'arcdeep-4-3-0': 'NS', 'line-6-1-0': 'NS', 'line-6-2-0': 'S'}\n",
      "688 {'arcdeep-4-3-0': 'NS', 'line-6-1-0': 'NS', 'line-6-2-0': 'NS'}\n",
      "689 {'arcdeep-4-3-0': 'NS', 'line-6-1-0': 'S', 'line-6-2-0': 'S'}\n",
      "690 {'arcdeep-4-3-0': 'S', 'line-6-1-0': 'NS', 'line-6-2-0': 'NS'}\n",
      "691 {'arcdeep-4-3-0': 'NS', 'line-6-1-0': 'S', 'line-6-2-0': 'S'}\n",
      "692 {'arcdeep-4-3-0': 'NS', 'line-6-1-0': 'S', 'line-6-2-0': 'S'}\n",
      "693 {'arcdeep-4-3-0': 'NS', 'line-6-1-0': 'NS', 'line-6-2-0': 'S'}\n",
      "694 {'arcdeep-4-3-0': 'NS', 'line-6-1-0': 'NS', 'line-6-2-0': 'S'}\n",
      "695 {'arcdeep-4-3-0': 'NS', 'line-6-1-0': 'NS', 'line-6-2-0': 'NS'}\n",
      "696 {'arcdeep-4-3-0': 'S', 'line-6-1-0': 'NS', 'line-6-2-0': 'NS'}\n",
      "697 {'arcdeep-4-3-0': 'NS', 'line-6-1-0': 'NS', 'line-6-2-0': 'S'}\n",
      "698 {'arcdeep-4-3-0': 'NS', 'line-6-1-0': 'NS', 'line-6-2-0': 'NS'}\n",
      "699 {'arcdeep-4-3-0': 'NS', 'line-6-1-0': 'NS', 'line-6-2-0': 'NS'}\n",
      "700 {'arcdeep-4-3-0': 'NS', 'line-6-1-0': 'NS', 'line-6-2-0': 'NS'}\n",
      "701 {'arcdeep-4-3-0': 'S', 'line-6-1-0': 'NS', 'line-6-2-0': 'NS'}\n",
      "702 {'arcdeep-4-3-0': 'NS', 'line-6-1-0': 'NS', 'line-6-2-0': 'S'}\n",
      "703 {'arcdeep-4-3-0': 'NS', 'line-6-1-0': 'NS', 'line-6-2-0': 'NS'}\n",
      "704 {'arcdeep-4-3-0': 'NS', 'line-6-1-0': 'NS', 'line-6-2-0': 'S'}\n",
      "705 {'arcdeep-4-3-0': 'NS', 'line-6-1-0': 'S', 'line-6-2-0': 'NS'}\n",
      "706 {'arcdeep-4-3-0': 'NS', 'line-6-1-0': 'S', 'line-6-2-0': 'S'}\n",
      "707 {'arcdeep-4-3-0': 'S', 'line-6-1-0': 'NS', 'line-6-2-0': 'S'}\n",
      "708 {'arcdeep-4-3-0': 'NS', 'line-6-1-0': 'NS', 'line-6-2-0': 'NS'}\n",
      "709 {'arcdeep-4-3-0': 'NS', 'line-6-1-0': 'S', 'line-6-2-0': 'NS'}\n",
      "710 {'arcdeep-4-3-0': 'S', 'line-6-1-0': 'NS', 'line-6-2-0': 'NS'}\n",
      "711 {'arcdeep-4-3-0': 'S', 'line-6-1-0': 'NS', 'line-6-2-0': 'NS'}\n",
      "712 {'arcdeep-4-3-0': 'NS', 'line-6-1-0': 'NS', 'line-6-2-0': 'S'}\n",
      "713 {'arcdeep-4-3-0': 'NS', 'line-6-1-0': 'S', 'line-6-2-0': 'S'}\n",
      "714 {'arcdeep-4-3-0': 'NS', 'line-6-1-0': 'NS', 'line-6-2-0': 'NS'}\n",
      "715 {'arcdeep-4-3-0': 'S', 'line-6-1-0': 'NS', 'line-6-2-0': 'NS'}\n",
      "716 {'arcdeep-4-3-0': 'NS', 'line-6-1-0': 'NS', 'line-6-2-0': 'NS'}\n",
      "717 {'arcdeep-4-3-0': 'NS', 'line-6-1-0': 'NS', 'line-6-2-0': 'NS'}\n",
      "718 {'arcdeep-4-3-0': 'S', 'line-6-1-0': 'NS', 'line-6-2-0': 'NS'}\n",
      "719 {'arcdeep-4-3-0': 'NS', 'line-6-1-0': 'S', 'line-6-2-0': 'S'}\n",
      "720 {'arcdeep-4-3-0': 'S', 'line-6-1-0': 'S', 'line-6-2-0': 'NS'}\n",
      "721 {'arcdeep-4-3-0': 'NS', 'line-6-1-0': 'NS', 'line-6-2-0': 'NS'}\n",
      "722 {'arcdeep-4-3-0': 'NS', 'line-6-1-0': 'S', 'line-6-2-0': 'NS'}\n",
      "723 {'arcdeep-4-3-0': 'S', 'line-6-1-0': 'NS', 'line-6-2-0': 'NS'}\n",
      "724 {'arcdeep-4-3-0': 'NS', 'line-6-1-0': 'NS', 'line-6-2-0': 'NS'}\n",
      "725 {'arcdeep-4-3-0': 'S', 'line-6-1-0': 'NS', 'line-6-2-0': 'NS'}\n",
      "726 {'arcdeep-4-3-0': 'NS', 'line-6-1-0': 'S', 'line-6-2-0': 'NS'}\n",
      "727 {'arcdeep-4-3-0': 'NS', 'line-6-1-0': 'NS', 'line-6-2-0': 'NS'}\n",
      "728 {'arcdeep-4-3-0': 'S', 'line-6-1-0': 'S', 'line-6-2-0': 'NS'}\n",
      "729 {'arcdeep-4-3-0': 'NS', 'line-6-1-0': 'S', 'line-6-2-0': 'NS'}\n",
      "730 {'arcdeep-4-3-0': 'NS', 'line-6-1-0': 'NS', 'line-6-2-0': 'S'}\n",
      "731 {'arcdeep-4-3-0': 'NS', 'line-6-1-0': 'S', 'line-6-2-0': 'S'}\n",
      "732 {'arcdeep-4-3-0': 'NS', 'line-6-1-0': 'NS', 'line-6-2-0': 'NS'}\n",
      "733 {'arcdeep-4-3-0': 'S', 'line-6-1-0': 'NS', 'line-6-2-0': 'S'}\n",
      "734 {'arcdeep-4-3-0': 'S', 'line-6-1-0': 'NS', 'line-6-2-0': 'NS'}\n",
      "735 {'arcdeep-4-3-0': 'NS', 'line-6-1-0': 'NS', 'line-6-2-0': 'NS'}\n",
      "736 {'arcdeep-4-3-0': 'NS', 'line-6-1-0': 'NS', 'line-6-2-0': 'NS'}\n",
      "737 {'arcdeep-4-3-0': 'NS', 'line-6-1-0': 'NS', 'line-6-2-0': 'NS'}\n",
      "738 {'arcdeep-4-3-0': 'NS', 'line-6-1-0': 'NS', 'line-6-2-0': 'NS'}\n",
      "739 {'arcdeep-4-3-0': 'NS', 'line-6-1-0': 'NS', 'line-6-2-0': 'NS'}\n",
      "740 {'arcdeep-4-3-0': 'NS', 'line-6-1-0': 'NS', 'line-6-2-0': 'NS'}\n",
      "Assinging to column: self.Dat[taskfeat_cat]\n",
      "*** RUNNING D.preprocessGood using these params:\n",
      "['remove_baseline']\n",
      "-- Len of D, before applying this param: remove_baseline, ... 741\n",
      "after: 682\n",
      "trial # 0\n",
      "trial # 100\n",
      "trial # 200\n",
      "trial # 300\n",
      "trial # 400\n",
      "trial # 500\n",
      "trial # 600\n",
      "n samples for conjunctions of score_name, agent_rule, agent_kind:\n",
      "('binsucc', 'ss-rankdir-llCV3', 'model') :     682\n",
      "Generated column called 'agent', which connects agent_kind-rule\n",
      "Generated column called 'agent', which connects agent_kind-rule\n",
      ".. Appended new column 'char_seq', version: task_matlab\n",
      "Defined new column: epochset\n",
      ".. Appended new column 'char_seq', version: task_matlab\n",
      "Defined new column: epochset\n",
      "... merge_sets_with_only_single_epoch... \n",
      "('llCV3',) only has one epoch!:  ['llCV3']\n",
      "Mergin these epochset's .. \n",
      "[('llCV3',)]\n",
      "Into this new epochset: ('LEFTOVER',)\n",
      ".. Appended new column 'char_seq', version: task_matlab\n",
      "Defined new column: epochset\n",
      "... merge_sets_with_only_single_epoch... \n",
      "('llCV3',) only has one epoch!:  ['llCV3']\n",
      "Mergin these epochset's .. \n",
      "[('llCV3',)]\n",
      "Into this new epochset: ('LEFTOVER',)\n",
      "Updated self.Dat with new column: epochkind\n",
      "Num nan/total, for angle_overall\n",
      "9 / 682\n",
      "Num nan/total, for num_strokes_beh\n",
      "0 / 682\n",
      "Num nan/total, for num_strokes_task\n",
      "0 / 682\n",
      "Num nan/total, for circ\n",
      "0 / 682\n",
      "Num nan/total, for dist\n",
      "0 / 682\n",
      "Added these features:\n",
      "['FEAT_angle_overall', 'FEAT_num_strokes_beh', 'FEAT_num_strokes_task', 'FEAT_circ', 'FEAT_dist']\n",
      "Starting length of D.Dat: 682\n",
      "--BEFORE REMOVE; existing supervision_stage_concise:\n",
      "off|1|solid|1101|0     664\n",
      "mask|1|solid|1101|0     18\n",
      "Name: supervision_stage_concise, dtype: int64\n",
      "############ TAKING ONLY NO SUPERVISION TRIALS\n",
      "*** RUNNING D.preprocessGood using these params:\n",
      "['no_supervision']\n",
      "-- Len of D, before applying this param: no_supervision, ... 682\n",
      "after: 664\n",
      "Dataset final len: 664\n",
      "*** RUNNING D.preprocessGood using these params:\n",
      "['correct_sequencing_binary_score', 'one_to_one_beh_task_strokes', 'beh_strokes_at_least_one']\n",
      "-- Len of D, before applying this param: correct_sequencing_binary_score, ... 664\n",
      "self.Dat starting legnth:  546\n",
      "Modified self.Dat, keeping only the inputted inds\n",
      "self.Dat final legnth:  546\n",
      "after: 546\n",
      "-- Len of D, before applying this param: one_to_one_beh_task_strokes, ... 546\n",
      "after: 546\n",
      "-- Len of D, before applying this param: beh_strokes_at_least_one, ... 546\n",
      "after: 546\n",
      "Starting len of self.Dat: 125\n",
      "Ending len of self.Dat: 112\n",
      "Unexpected exception formatting exception. Falling back to standard exception\n"
     ]
    },
    {
     "name": "stderr",
     "output_type": "stream",
     "text": [
      "Traceback (most recent call last):\n",
      "  File \"/home/lucast4/miniconda3/envs/drag2_matlab/lib/python3.8/site-packages/IPython/core/interactiveshell.py\", line 3505, in run_code\n",
      "    exec(code_obj, self.user_global_ns, self.user_ns)\n",
      "  File \"/tmp/ipykernel_28932/2979081780.py\", line 3, in <module>\n",
      "    D, list_features_extraction = SP.datasetbeh_preprocess_clean_by_expt(\n",
      "  File \"/gorilla1/code/neuralmonkey/neuralmonkey/classes/snippets.py\", line 7227, in datasetbeh_preprocess_clean_by_expt\n",
      "    D, DS, params = dataset_apply_params(D, DS, ANALY_VER, animal, date, save_substroke_preprocess_figures=substrokes_plot_preprocess) # prune it\n",
      "  File \"/gorilla1/code/neuralmonkey/neuralmonkey/metadat/analy/anova_params.py\", line 1139, in dataset_apply_params\n",
      "    DS.context_chunks_assign_columns()\n",
      "  File \"/gorilla1/code/pythonlib/pythonlib/dataset/dataset_strokes.py\", line 2397, in context_chunks_assign_columns\n",
      "    chunk_diff, rank_within_diff = self.context_chunks_diff(ind, first_stroke_diff_to_zero=True)\n",
      "  File \"/gorilla1/code/pythonlib/pythonlib/dataset/dataset_strokes.py\", line 2386, in context_chunks_diff\n",
      "    chunk_diff = tok_this[\"chunk_rank\"] - tok_prev[\"chunk_rank\"]\n",
      "KeyError: 'chunk_rank'\n",
      "\n",
      "During handling of the above exception, another exception occurred:\n",
      "\n",
      "Traceback (most recent call last):\n",
      "  File \"/home/lucast4/miniconda3/envs/drag2_matlab/lib/python3.8/site-packages/IPython/core/interactiveshell.py\", line 2102, in showtraceback\n",
      "    stb = self.InteractiveTB.structured_traceback(\n",
      "  File \"/home/lucast4/miniconda3/envs/drag2_matlab/lib/python3.8/site-packages/IPython/core/ultratb.py\", line 1310, in structured_traceback\n",
      "    return FormattedTB.structured_traceback(\n",
      "  File \"/home/lucast4/miniconda3/envs/drag2_matlab/lib/python3.8/site-packages/IPython/core/ultratb.py\", line 1199, in structured_traceback\n",
      "    return VerboseTB.structured_traceback(\n",
      "  File \"/home/lucast4/miniconda3/envs/drag2_matlab/lib/python3.8/site-packages/IPython/core/ultratb.py\", line 1052, in structured_traceback\n",
      "    formatted_exception = self.format_exception_as_a_whole(etype, evalue, etb, number_of_lines_of_context,\n",
      "  File \"/home/lucast4/miniconda3/envs/drag2_matlab/lib/python3.8/site-packages/IPython/core/ultratb.py\", line 978, in format_exception_as_a_whole\n",
      "    frames.append(self.format_record(record))\n",
      "  File \"/home/lucast4/miniconda3/envs/drag2_matlab/lib/python3.8/site-packages/IPython/core/ultratb.py\", line 878, in format_record\n",
      "    frame_info.lines, Colors, self.has_colors, lvals\n",
      "  File \"/home/lucast4/miniconda3/envs/drag2_matlab/lib/python3.8/site-packages/IPython/core/ultratb.py\", line 712, in lines\n",
      "    return self._sd.lines\n",
      "  File \"/home/lucast4/miniconda3/envs/drag2_matlab/lib/python3.8/site-packages/stack_data/utils.py\", line 145, in cached_property_wrapper\n",
      "    value = obj.__dict__[self.func.__name__] = self.func(obj)\n",
      "  File \"/home/lucast4/miniconda3/envs/drag2_matlab/lib/python3.8/site-packages/stack_data/core.py\", line 698, in lines\n",
      "    pieces = self.included_pieces\n",
      "  File \"/home/lucast4/miniconda3/envs/drag2_matlab/lib/python3.8/site-packages/stack_data/utils.py\", line 145, in cached_property_wrapper\n",
      "    value = obj.__dict__[self.func.__name__] = self.func(obj)\n",
      "  File \"/home/lucast4/miniconda3/envs/drag2_matlab/lib/python3.8/site-packages/stack_data/core.py\", line 649, in included_pieces\n",
      "    pos = scope_pieces.index(self.executing_piece)\n",
      "  File \"/home/lucast4/miniconda3/envs/drag2_matlab/lib/python3.8/site-packages/stack_data/utils.py\", line 145, in cached_property_wrapper\n",
      "    value = obj.__dict__[self.func.__name__] = self.func(obj)\n",
      "  File \"/home/lucast4/miniconda3/envs/drag2_matlab/lib/python3.8/site-packages/stack_data/core.py\", line 628, in executing_piece\n",
      "    return only(\n",
      "  File \"/home/lucast4/miniconda3/envs/drag2_matlab/lib/python3.8/site-packages/executing/executing.py\", line 164, in only\n",
      "    raise NotOneValueFound('Expected one value, found 0')\n",
      "executing.executing.NotOneValueFound: Expected one value, found 0\n"
     ]
    }
   ],
   "source": [
    "# dataset preprocess\n",
    "ANALYVER = \"rulesingle\"\n",
    "D, list_features_extraction = SP.datasetbeh_preprocess_clean_by_expt(\n",
    "    ANALY_VER=ANALYVER, vars_extract_append=[])\n",
    "\n"
   ],
   "metadata": {
    "collapsed": false,
    "ExecuteTime": {
     "end_time": "2024-03-17T21:38:19.154232242Z",
     "start_time": "2024-03-17T21:36:26.704601387Z"
    }
   },
   "id": "f2ebcf75b4112450"
  },
  {
   "cell_type": "code",
   "execution_count": 43,
   "outputs": [],
   "source": [
    "D = SP.datasetbeh_extract_dataset().copy()"
   ],
   "metadata": {
    "collapsed": false,
    "ExecuteTime": {
     "end_time": "2024-03-17T21:39:11.714625850Z",
     "start_time": "2024-03-17T21:39:10.871301803Z"
    }
   },
   "id": "570429de042bfba7"
  },
  {
   "cell_type": "code",
   "execution_count": 44,
   "outputs": [],
   "source": [
    "DS = SP.datasetbeh_extract_dataset(\"datstrokes\")"
   ],
   "metadata": {
    "collapsed": false,
    "ExecuteTime": {
     "end_time": "2024-03-17T21:39:11.769449687Z",
     "start_time": "2024-03-17T21:39:11.715883856Z"
    }
   },
   "id": "e68a8ce50191ca46"
  },
  {
   "cell_type": "code",
   "execution_count": 25,
   "outputs": [
    {
     "data": {
      "text/plain": "Series([], Name: trialcode, dtype: object)"
     },
     "execution_count": 25,
     "metadata": {},
     "output_type": "execute_result"
    }
   ],
   "source": [
    "DS.Dat[\"trialcode\"]"
   ],
   "metadata": {
    "collapsed": false,
    "ExecuteTime": {
     "end_time": "2024-03-17T21:30:27.224962895Z",
     "start_time": "2024-03-17T21:30:27.100569002Z"
    }
   },
   "id": "2b10337e094c1226"
  },
  {
   "cell_type": "code",
   "execution_count": 23,
   "outputs": [
    {
     "name": "stdout",
     "output_type": "stream",
     "text": [
      "trialcode\n",
      "['230817-1-1']\n",
      "0         230817-1-1\n",
      "1      230817-1-1025\n",
      "2      230817-1-1025\n",
      "3      230817-1-1025\n",
      "4      230817-1-1025\n",
      "           ...      \n",
      "120     230817-1-978\n",
      "121     230817-1-978\n",
      "122     230817-1-978\n",
      "123     230817-1-978\n",
      "124     230817-1-978\n",
      "Name: trialcode, Length: 125, dtype: object\n"
     ]
    },
    {
     "data": {
      "text/plain": "    trialcode                                             Stroke  \\\n0  230817-1-1  <pythonlib.behavior.strokeclass.StrokeClass ob...   \n\n                                          datseg_beh  \\\n0  {'shapeabstract': 'line', 'shape': 'line-6-1-0...   \n\n                                              datseg  circularity    distcum  \\\n0  {'orient_string': 'undef', 'shapeabstract': 'l...     0.014727  69.622304   \n\n   displacement     angle     task_kind grid_ver  ... gap_to_next_angle  \\\n0     68.596955  0.076483  prims_single  on_grid  ...          5.140745   \n\n  gap_from_prev_dist_binned  gap_to_next_dist_binned  \\\n0                         2                        2   \n\n   gap_from_prev_angle_binned  gap_to_next_angle_binned epoch  \\\n0                           2                       4.0  base   \n\n              character     shape_char CTXT_locshape_next  CTXT_locshape_prev  \n0  dirshape-86-3-390930  line-6-1-0|14     ('END', 0)|END  (0, 'START')|START  \n\n[1 rows x 66 columns]",
      "text/html": "<div>\n<style scoped>\n    .dataframe tbody tr th:only-of-type {\n        vertical-align: middle;\n    }\n\n    .dataframe tbody tr th {\n        vertical-align: top;\n    }\n\n    .dataframe thead th {\n        text-align: right;\n    }\n</style>\n<table border=\"1\" class=\"dataframe\">\n  <thead>\n    <tr style=\"text-align: right;\">\n      <th></th>\n      <th>trialcode</th>\n      <th>Stroke</th>\n      <th>datseg_beh</th>\n      <th>datseg</th>\n      <th>circularity</th>\n      <th>distcum</th>\n      <th>displacement</th>\n      <th>angle</th>\n      <th>task_kind</th>\n      <th>grid_ver</th>\n      <th>...</th>\n      <th>gap_to_next_angle</th>\n      <th>gap_from_prev_dist_binned</th>\n      <th>gap_to_next_dist_binned</th>\n      <th>gap_from_prev_angle_binned</th>\n      <th>gap_to_next_angle_binned</th>\n      <th>epoch</th>\n      <th>character</th>\n      <th>shape_char</th>\n      <th>CTXT_locshape_next</th>\n      <th>CTXT_locshape_prev</th>\n    </tr>\n  </thead>\n  <tbody>\n    <tr>\n      <th>0</th>\n      <td>230817-1-1</td>\n      <td>&lt;pythonlib.behavior.strokeclass.StrokeClass ob...</td>\n      <td>{'shapeabstract': 'line', 'shape': 'line-6-1-0...</td>\n      <td>{'orient_string': 'undef', 'shapeabstract': 'l...</td>\n      <td>0.014727</td>\n      <td>69.622304</td>\n      <td>68.596955</td>\n      <td>0.076483</td>\n      <td>prims_single</td>\n      <td>on_grid</td>\n      <td>...</td>\n      <td>5.140745</td>\n      <td>2</td>\n      <td>2</td>\n      <td>2</td>\n      <td>4.0</td>\n      <td>base</td>\n      <td>dirshape-86-3-390930</td>\n      <td>line-6-1-0|14</td>\n      <td>('END', 0)|END</td>\n      <td>(0, 'START')|START</td>\n    </tr>\n  </tbody>\n</table>\n<p>1 rows × 66 columns</p>\n</div>"
     },
     "execution_count": 23,
     "metadata": {},
     "output_type": "execute_result"
    }
   ],
   "source": [
    "DS.dataset_slice_by(\"trialcode\", [\"230817-1-1\"])"
   ],
   "metadata": {
    "collapsed": false,
    "ExecuteTime": {
     "end_time": "2024-03-17T21:28:58.685255265Z",
     "start_time": "2024-03-17T21:28:58.497818469Z"
    }
   },
   "id": "2fbf8e0486cc00fe"
  },
  {
   "cell_type": "code",
   "execution_count": 47,
   "outputs": [
    {
     "name": "stdout",
     "output_type": "stream",
     "text": [
      "Defined new column: epochset\n",
      ".. Appended new column 'char_seq', version: task_matlab\n",
      "Defined new column: epochset\n",
      "... merge_sets_with_only_single_epoch... \n",
      "('llCV3',) only has one epoch!:  ['llCV3']\n",
      "Mergin these epochset's .. \n",
      "[('llCV3',)]\n",
      "Into this new epochset: ('LEFTOVER',)\n",
      ".. Appended new column 'char_seq', version: task_matlab\n",
      "Defined new column: epochset\n",
      "... merge_sets_with_only_single_epoch... \n",
      "('llCV3',) only has one epoch!:  ['llCV3']\n",
      "Mergin these epochset's .. \n",
      "[('llCV3',)]\n",
      "Into this new epochset: ('LEFTOVER',)\n",
      "0 {'arcdeep-4-3-0': 'NS', 'line-6-1-0': 'S', 'line-6-2-0': 'NS'}\n",
      "1 {'arcdeep-4-3-0': 'S', 'line-6-1-0': 'NS', 'line-6-2-0': 'S'}\n",
      "2 {'arcdeep-4-3-0': 'NS', 'line-6-1-0': 'S', 'line-6-2-0': 'S'}\n",
      "3 {'arcdeep-4-3-0': 'NS', 'line-6-1-0': 'S', 'line-6-2-0': 'NS'}\n",
      "4 {'arcdeep-4-3-0': 'NS', 'line-6-1-0': 'S', 'line-6-2-0': 'NS'}\n",
      "5 {'arcdeep-4-3-0': 'NS', 'line-6-1-0': 'NS', 'line-6-2-0': 'S'}\n",
      "6 {'arcdeep-4-3-0': 'NS', 'line-6-1-0': 'NS', 'line-6-2-0': 'NS'}\n",
      "7 {'arcdeep-4-3-0': 'NS', 'line-6-1-0': 'NS', 'line-6-2-0': 'NS'}\n",
      "8 {'arcdeep-4-3-0': 'NS', 'line-6-1-0': 'S', 'line-6-2-0': 'S'}\n",
      "9 {'arcdeep-4-3-0': 'NS', 'line-6-1-0': 'NS', 'line-6-2-0': 'S'}\n",
      "10 {'arcdeep-4-3-0': 'NS', 'line-6-1-0': 'NS', 'line-6-2-0': 'NS'}\n",
      "11 {'arcdeep-4-3-0': 'NS', 'line-6-1-0': 'S', 'line-6-2-0': 'NS'}\n",
      "12 {'arcdeep-4-3-0': 'S', 'line-6-1-0': 'NS', 'line-6-2-0': 'NS'}\n",
      "13 {'arcdeep-4-3-0': 'NS', 'line-6-1-0': 'S', 'line-6-2-0': 'NS'}\n",
      "14 {'arcdeep-4-3-0': 'S', 'line-6-1-0': 'NS', 'line-6-2-0': 'S'}\n",
      "15 {'arcdeep-4-3-0': 'NS', 'line-6-1-0': 'NS', 'line-6-2-0': 'NS'}\n",
      "16 {'arcdeep-4-3-0': 'NS', 'line-6-1-0': 'S', 'line-6-2-0': 'NS'}\n",
      "17 {'arcdeep-4-3-0': 'S', 'line-6-1-0': 'NS', 'line-6-2-0': 'NS'}\n",
      "18 {'arcdeep-4-3-0': 'NS', 'line-6-1-0': 'NS', 'line-6-2-0': 'S'}\n",
      "19 {'arcdeep-4-3-0': 'S', 'line-6-1-0': 'S', 'line-6-2-0': 'NS'}\n",
      "20 {'arcdeep-4-3-0': 'S', 'line-6-1-0': 'S', 'line-6-2-0': 'NS'}\n",
      "21 {'arcdeep-4-3-0': 'S', 'line-6-1-0': 'S', 'line-6-2-0': 'NS'}\n",
      "22 {'arcdeep-4-3-0': 'S', 'line-6-1-0': 'NS', 'line-6-2-0': 'NS'}\n",
      "23 {'arcdeep-4-3-0': 'S', 'line-6-1-0': 'NS', 'line-6-2-0': 'NS'}\n",
      "24 {'arcdeep-4-3-0': 'S', 'line-6-1-0': 'NS', 'line-6-2-0': 'NS'}\n",
      "25 {'arcdeep-4-3-0': 'S', 'line-6-1-0': 'NS', 'line-6-2-0': 'NS'}\n",
      "26 {'arcdeep-4-3-0': 'S', 'line-6-1-0': 'S', 'line-6-2-0': 'NS'}\n",
      "27 {'arcdeep-4-3-0': 'S', 'line-6-1-0': 'S', 'line-6-2-0': 'NS'}\n",
      "28 {'arcdeep-4-3-0': 'S', 'line-6-1-0': 'NS', 'line-6-2-0': 'S'}\n",
      "29 {'arcdeep-4-3-0': 'NS', 'line-6-1-0': 'S', 'line-6-2-0': 'NS'}\n",
      "30 {'arcdeep-4-3-0': 'S', 'line-6-1-0': 'NS', 'line-6-2-0': 'NS'}\n",
      "31 {'arcdeep-4-3-0': 'NS', 'line-6-1-0': 'NS', 'line-6-2-0': 'NS'}\n",
      "32 {'arcdeep-4-3-0': 'NS', 'line-6-1-0': 'NS', 'line-6-2-0': 'NS'}\n",
      "33 {'arcdeep-4-3-0': 'NS', 'line-6-1-0': 'NS', 'line-6-2-0': 'NS'}\n",
      "34 {'arcdeep-4-3-0': 'NS', 'line-6-1-0': 'NS', 'line-6-2-0': 'NS'}\n",
      "35 {'arcdeep-4-3-0': 'S', 'line-6-1-0': 'S', 'line-6-2-0': 'NS'}\n",
      "36 {'arcdeep-4-3-0': 'NS', 'line-6-1-0': 'NS', 'line-6-2-0': 'NS'}\n",
      "37 {'arcdeep-4-3-0': 'NS', 'line-6-1-0': 'NS', 'line-6-2-0': 'NS'}\n",
      "38 {'arcdeep-4-3-0': 'NS', 'line-6-1-0': 'S', 'line-6-2-0': 'NS'}\n",
      "39 {'arcdeep-4-3-0': 'NS', 'line-6-1-0': 'NS', 'line-6-2-0': 'NS'}\n",
      "40 {'arcdeep-4-3-0': 'S', 'line-6-1-0': 'NS', 'line-6-2-0': 'S'}\n",
      "41 {'arcdeep-4-3-0': 'NS', 'line-6-1-0': 'NS', 'line-6-2-0': 'NS'}\n",
      "42 {'arcdeep-4-3-0': 'NS', 'line-6-1-0': 'NS', 'line-6-2-0': 'NS'}\n",
      "43 {'arcdeep-4-3-0': 'NS', 'line-6-1-0': 'S', 'line-6-2-0': 'NS'}\n",
      "44 {'arcdeep-4-3-0': 'NS', 'line-6-1-0': 'NS', 'line-6-2-0': 'NS'}\n",
      "45 {'arcdeep-4-3-0': 'S', 'line-6-1-0': 'NS', 'line-6-2-0': 'NS'}\n",
      "46 {'arcdeep-4-3-0': 'NS', 'line-6-1-0': 'NS', 'line-6-2-0': 'S'}\n",
      "47 {'arcdeep-4-3-0': 'S', 'line-6-1-0': 'S', 'line-6-2-0': 'NS'}\n",
      "48 {'arcdeep-4-3-0': 'NS', 'line-6-1-0': 'NS', 'line-6-2-0': 'NS'}\n",
      "49 {'arcdeep-4-3-0': 'NS', 'line-6-1-0': 'NS', 'line-6-2-0': 'NS'}\n",
      "50 {'arcdeep-4-3-0': 'S', 'line-6-1-0': 'NS', 'line-6-2-0': 'NS'}\n",
      "51 {'arcdeep-4-3-0': 'NS', 'line-6-1-0': 'S', 'line-6-2-0': 'NS'}\n",
      "52 {'arcdeep-4-3-0': 'NS', 'line-6-1-0': 'S', 'line-6-2-0': 'S'}\n",
      "53 {'arcdeep-4-3-0': 'S', 'line-6-1-0': 'NS', 'line-6-2-0': 'NS'}\n",
      "54 {'arcdeep-4-3-0': 'NS', 'line-6-1-0': 'NS', 'line-6-2-0': 'NS'}\n",
      "55 {'arcdeep-4-3-0': 'S', 'line-6-1-0': 'NS', 'line-6-2-0': 'S'}\n",
      "56 {'arcdeep-4-3-0': 'NS', 'line-6-1-0': 'S', 'line-6-2-0': 'NS'}\n",
      "57 {'arcdeep-4-3-0': 'NS', 'line-6-1-0': 'NS', 'line-6-2-0': 'NS'}\n",
      "58 {'arcdeep-4-3-0': 'S', 'line-6-1-0': 'NS', 'line-6-2-0': 'S'}\n",
      "59 {'arcdeep-4-3-0': 'NS', 'line-6-1-0': 'NS', 'line-6-2-0': 'NS'}\n",
      "60 {'arcdeep-4-3-0': 'S', 'line-6-1-0': 'NS', 'line-6-2-0': 'NS'}\n",
      "61 {'arcdeep-4-3-0': 'S', 'line-6-1-0': 'S', 'line-6-2-0': 'NS'}\n",
      "62 {'arcdeep-4-3-0': 'NS', 'line-6-1-0': 'NS', 'line-6-2-0': 'NS'}\n",
      "63 {'arcdeep-4-3-0': 'S', 'line-6-1-0': 'S', 'line-6-2-0': 'NS'}\n",
      "64 {'arcdeep-4-3-0': 'S', 'line-6-1-0': 'NS', 'line-6-2-0': 'NS'}\n",
      "65 {'arcdeep-4-3-0': 'NS', 'line-6-1-0': 'S', 'line-6-2-0': 'NS'}\n",
      "66 {'arcdeep-4-3-0': 'NS', 'line-6-1-0': 'NS', 'line-6-2-0': 'NS'}\n",
      "67 {'arcdeep-4-3-0': 'NS', 'line-6-1-0': 'NS', 'line-6-2-0': 'NS'}\n",
      "68 {'arcdeep-4-3-0': 'NS', 'line-6-1-0': 'NS', 'line-6-2-0': 'NS'}\n",
      "69 {'arcdeep-4-3-0': 'NS', 'line-6-1-0': 'NS', 'line-6-2-0': 'S'}\n",
      "70 {'arcdeep-4-3-0': 'NS', 'line-6-1-0': 'NS', 'line-6-2-0': 'NS'}\n",
      "71 {'arcdeep-4-3-0': 'NS', 'line-6-1-0': 'NS', 'line-6-2-0': 'NS'}\n",
      "72 {'arcdeep-4-3-0': 'NS', 'line-6-1-0': 'NS', 'line-6-2-0': 'NS'}\n",
      "73 {'arcdeep-4-3-0': 'NS', 'line-6-1-0': 'NS', 'line-6-2-0': 'NS'}\n",
      "74 {'arcdeep-4-3-0': 'NS', 'line-6-1-0': 'NS', 'line-6-2-0': 'NS'}\n",
      "75 {'arcdeep-4-3-0': 'NS', 'line-6-1-0': 'NS', 'line-6-2-0': 'NS'}\n",
      "76 {'arcdeep-4-3-0': 'S', 'line-6-1-0': 'NS', 'line-6-2-0': 'NS'}\n",
      "77 {'arcdeep-4-3-0': 'NS', 'line-6-1-0': 'NS', 'line-6-2-0': 'NS'}\n",
      "78 {'arcdeep-4-3-0': 'NS', 'line-6-1-0': 'NS', 'line-6-2-0': 'NS'}\n",
      "79 {'arcdeep-4-3-0': 'S', 'line-6-1-0': 'NS', 'line-6-2-0': 'S'}\n",
      "80 {'arcdeep-4-3-0': 'NS', 'line-6-1-0': 'NS', 'line-6-2-0': 'S'}\n",
      "81 {'arcdeep-4-3-0': 'NS', 'line-6-1-0': 'NS', 'line-6-2-0': 'NS'}\n",
      "82 {'arcdeep-4-3-0': 'NS', 'line-6-1-0': 'NS', 'line-6-2-0': 'NS'}\n",
      "83 {'arcdeep-4-3-0': 'NS', 'line-6-1-0': 'NS', 'line-6-2-0': 'S'}\n",
      "84 {'arcdeep-4-3-0': 'NS', 'line-6-1-0': 'NS', 'line-6-2-0': 'NS'}\n",
      "85 {'arcdeep-4-3-0': 'NS', 'line-6-1-0': 'NS', 'line-6-2-0': 'NS'}\n",
      "86 {'arcdeep-4-3-0': 'S', 'line-6-1-0': 'NS', 'line-6-2-0': 'NS'}\n",
      "87 {'arcdeep-4-3-0': 'NS', 'line-6-1-0': 'NS', 'line-6-2-0': 'S'}\n",
      "88 {'arcdeep-4-3-0': 'NS', 'line-6-1-0': 'NS', 'line-6-2-0': 'NS'}\n",
      "89 {'arcdeep-4-3-0': 'NS', 'line-6-1-0': 'NS', 'line-6-2-0': 'NS'}\n",
      "90 {'arcdeep-4-3-0': 'NS', 'line-6-1-0': 'NS', 'line-6-2-0': 'S'}\n",
      "91 {'arcdeep-4-3-0': 'S', 'line-6-1-0': 'NS', 'line-6-2-0': 'NS'}\n",
      "92 {'arcdeep-4-3-0': 'NS', 'line-6-1-0': 'NS', 'line-6-2-0': 'NS'}\n",
      "93 {'arcdeep-4-3-0': 'NS', 'line-6-1-0': 'S', 'line-6-2-0': 'NS'}\n",
      "94 {'arcdeep-4-3-0': 'NS', 'line-6-1-0': 'NS', 'line-6-2-0': 'NS'}\n",
      "95 {'arcdeep-4-3-0': 'S', 'line-6-1-0': 'NS', 'line-6-2-0': 'NS'}\n",
      "96 {'arcdeep-4-3-0': 'NS', 'line-6-1-0': 'S', 'line-6-2-0': 'NS'}\n",
      "97 {'arcdeep-4-3-0': 'NS', 'line-6-1-0': 'NS', 'line-6-2-0': 'S'}\n",
      "98 {'arcdeep-4-3-0': 'NS', 'line-6-1-0': 'NS', 'line-6-2-0': 'S'}\n",
      "99 {'arcdeep-4-3-0': 'NS', 'line-6-1-0': 'NS', 'line-6-2-0': 'NS'}\n",
      "100 {'arcdeep-4-3-0': 'NS', 'line-6-1-0': 'NS', 'line-6-2-0': 'NS'}\n",
      "101 {'arcdeep-4-3-0': 'NS', 'line-6-1-0': 'NS', 'line-6-2-0': 'NS'}\n",
      "102 {'arcdeep-4-3-0': 'NS', 'line-6-1-0': 'NS', 'line-6-2-0': 'NS'}\n",
      "103 {'arcdeep-4-3-0': 'NS', 'line-6-1-0': 'S', 'line-6-2-0': 'S'}\n",
      "104 {'arcdeep-4-3-0': 'NS', 'line-6-1-0': 'NS', 'line-6-2-0': 'NS'}\n",
      "105 {'arcdeep-4-3-0': 'NS', 'line-6-1-0': 'NS', 'line-6-2-0': 'NS'}\n",
      "106 {'arcdeep-4-3-0': 'NS', 'line-6-1-0': 'NS', 'line-6-2-0': 'NS'}\n",
      "107 {'arcdeep-4-3-0': 'NS', 'line-6-1-0': 'NS', 'line-6-2-0': 'NS'}\n",
      "108 {'arcdeep-4-3-0': 'S', 'line-6-1-0': 'NS', 'line-6-2-0': 'NS'}\n",
      "109 {'arcdeep-4-3-0': 'NS', 'line-6-1-0': 'NS', 'line-6-2-0': 'NS'}\n",
      "110 {'arcdeep-4-3-0': 'NS', 'line-6-1-0': 'NS', 'line-6-2-0': 'NS'}\n",
      "111 {'arcdeep-4-3-0': 'NS', 'line-6-1-0': 'S', 'line-6-2-0': 'NS'}\n",
      "112 {'arcdeep-4-3-0': 'NS', 'line-6-1-0': 'NS', 'line-6-2-0': 'S'}\n",
      "113 {'arcdeep-4-3-0': 'NS', 'line-6-1-0': 'S', 'line-6-2-0': 'S'}\n",
      "114 {'arcdeep-4-3-0': 'NS', 'line-6-1-0': 'NS', 'line-6-2-0': 'S'}\n",
      "115 {'arcdeep-4-3-0': 'NS', 'line-6-1-0': 'S', 'line-6-2-0': 'S'}\n",
      "116 {'arcdeep-4-3-0': 'NS', 'line-6-1-0': 'S', 'line-6-2-0': 'NS'}\n",
      "117 {'arcdeep-4-3-0': 'NS', 'line-6-1-0': 'NS', 'line-6-2-0': 'NS'}\n",
      "118 {'arcdeep-4-3-0': 'NS', 'line-6-1-0': 'NS', 'line-6-2-0': 'NS'}\n",
      "119 {'arcdeep-4-3-0': 'NS', 'line-6-1-0': 'S', 'line-6-2-0': 'NS'}\n",
      "120 {'arcdeep-4-3-0': 'S', 'line-6-1-0': 'NS', 'line-6-2-0': 'S'}\n",
      "121 {'arcdeep-4-3-0': 'NS', 'line-6-1-0': 'NS', 'line-6-2-0': 'NS'}\n",
      "122 {'arcdeep-4-3-0': 'NS', 'line-6-1-0': 'NS', 'line-6-2-0': 'NS'}\n",
      "123 {'arcdeep-4-3-0': 'NS', 'line-6-1-0': 'S', 'line-6-2-0': 'S'}\n",
      "124 {'arcdeep-4-3-0': 'NS', 'line-6-1-0': 'S', 'line-6-2-0': 'NS'}\n",
      "125 {'arcdeep-4-3-0': 'S', 'line-6-1-0': 'S', 'line-6-2-0': 'NS'}\n",
      "126 {'arcdeep-4-3-0': 'NS', 'line-6-1-0': 'NS', 'line-6-2-0': 'S'}\n",
      "127 {'arcdeep-4-3-0': 'NS', 'line-6-1-0': 'NS', 'line-6-2-0': 'NS'}\n",
      "128 {'arcdeep-4-3-0': 'S', 'line-6-1-0': 'S', 'line-6-2-0': 'NS'}\n",
      "129 {'arcdeep-4-3-0': 'NS', 'line-6-1-0': 'NS', 'line-6-2-0': 'S'}\n",
      "130 {'arcdeep-4-3-0': 'S', 'line-6-1-0': 'NS', 'line-6-2-0': 'NS'}\n",
      "131 {'arcdeep-4-3-0': 'NS', 'line-6-1-0': 'NS', 'line-6-2-0': 'NS'}\n",
      "132 {'arcdeep-4-3-0': 'NS', 'line-6-1-0': 'S', 'line-6-2-0': 'NS'}\n",
      "133 {'arcdeep-4-3-0': 'S', 'line-6-1-0': 'S', 'line-6-2-0': 'NS'}\n",
      "134 {'arcdeep-4-3-0': 'S', 'line-6-1-0': 'NS', 'line-6-2-0': 'S'}\n",
      "135 {'arcdeep-4-3-0': 'NS', 'line-6-1-0': 'NS', 'line-6-2-0': 'S'}\n",
      "136 {'arcdeep-4-3-0': 'NS', 'line-6-1-0': 'S', 'line-6-2-0': 'NS'}\n",
      "137 {'arcdeep-4-3-0': 'S', 'line-6-1-0': 'NS', 'line-6-2-0': 'NS'}\n",
      "138 {'arcdeep-4-3-0': 'NS', 'line-6-1-0': 'NS', 'line-6-2-0': 'S'}\n",
      "139 {'arcdeep-4-3-0': 'NS', 'line-6-1-0': 'NS', 'line-6-2-0': 'NS'}\n",
      "140 {'arcdeep-4-3-0': 'NS', 'line-6-1-0': 'S', 'line-6-2-0': 'NS'}\n",
      "141 {'arcdeep-4-3-0': 'S', 'line-6-1-0': 'NS', 'line-6-2-0': 'S'}\n",
      "142 {'arcdeep-4-3-0': 'NS', 'line-6-1-0': 'S', 'line-6-2-0': 'S'}\n",
      "143 {'arcdeep-4-3-0': 'S', 'line-6-1-0': 'NS', 'line-6-2-0': 'NS'}\n",
      "144 {'arcdeep-4-3-0': 'NS', 'line-6-1-0': 'NS', 'line-6-2-0': 'NS'}\n",
      "145 {'arcdeep-4-3-0': 'S', 'line-6-1-0': 'S', 'line-6-2-0': 'NS'}\n",
      "146 {'arcdeep-4-3-0': 'NS', 'line-6-1-0': 'NS', 'line-6-2-0': 'NS'}\n",
      "147 {'arcdeep-4-3-0': 'NS', 'line-6-1-0': 'NS', 'line-6-2-0': 'NS'}\n",
      "148 {'arcdeep-4-3-0': 'NS', 'line-6-1-0': 'NS', 'line-6-2-0': 'NS'}\n",
      "149 {'arcdeep-4-3-0': 'NS', 'line-6-1-0': 'NS', 'line-6-2-0': 'S'}\n",
      "150 {'arcdeep-4-3-0': 'NS', 'line-6-1-0': 'NS', 'line-6-2-0': 'NS'}\n",
      "151 {'arcdeep-4-3-0': 'NS', 'line-6-1-0': 'S', 'line-6-2-0': 'S'}\n",
      "152 {'arcdeep-4-3-0': 'S', 'line-6-1-0': 'NS', 'line-6-2-0': 'S'}\n",
      "153 {'arcdeep-4-3-0': 'NS', 'line-6-1-0': 'S', 'line-6-2-0': 'NS'}\n",
      "154 {'arcdeep-4-3-0': 'NS', 'line-6-1-0': 'NS', 'line-6-2-0': 'NS'}\n",
      "155 {'arcdeep-4-3-0': 'S', 'line-6-1-0': 'NS', 'line-6-2-0': 'NS'}\n",
      "156 {'arcdeep-4-3-0': 'NS', 'line-6-1-0': 'NS', 'line-6-2-0': 'S'}\n",
      "157 {'arcdeep-4-3-0': 'NS', 'line-6-1-0': 'NS', 'line-6-2-0': 'NS'}\n",
      "158 {'arcdeep-4-3-0': 'NS', 'line-6-1-0': 'NS', 'line-6-2-0': 'NS'}\n",
      "159 {'arcdeep-4-3-0': 'NS', 'line-6-1-0': 'S', 'line-6-2-0': 'S'}\n",
      "160 {'arcdeep-4-3-0': 'NS', 'line-6-1-0': 'NS', 'line-6-2-0': 'NS'}\n",
      "161 {'arcdeep-4-3-0': 'NS', 'line-6-1-0': 'NS', 'line-6-2-0': 'NS'}\n",
      "162 {'arcdeep-4-3-0': 'S', 'line-6-1-0': 'NS', 'line-6-2-0': 'S'}\n",
      "163 {'arcdeep-4-3-0': 'NS', 'line-6-1-0': 'NS', 'line-6-2-0': 'NS'}\n",
      "164 {'arcdeep-4-3-0': 'S', 'line-6-1-0': 'S', 'line-6-2-0': 'NS'}\n",
      "165 {'arcdeep-4-3-0': 'NS', 'line-6-1-0': 'NS', 'line-6-2-0': 'NS'}\n",
      "166 {'arcdeep-4-3-0': 'NS', 'line-6-1-0': 'NS', 'line-6-2-0': 'NS'}\n",
      "167 {'arcdeep-4-3-0': 'NS', 'line-6-1-0': 'NS', 'line-6-2-0': 'S'}\n",
      "168 {'arcdeep-4-3-0': 'S', 'line-6-1-0': 'NS', 'line-6-2-0': 'NS'}\n",
      "169 {'arcdeep-4-3-0': 'NS', 'line-6-1-0': 'NS', 'line-6-2-0': 'NS'}\n",
      "170 {'arcdeep-4-3-0': 'NS', 'line-6-1-0': 'NS', 'line-6-2-0': 'NS'}\n",
      "171 {'arcdeep-4-3-0': 'S', 'line-6-1-0': 'NS', 'line-6-2-0': 'NS'}\n",
      "172 {'arcdeep-4-3-0': 'NS', 'line-6-1-0': 'NS', 'line-6-2-0': 'NS'}\n",
      "173 {'arcdeep-4-3-0': 'S', 'line-6-1-0': 'NS', 'line-6-2-0': 'S'}\n",
      "174 {'arcdeep-4-3-0': 'NS', 'line-6-1-0': 'NS', 'line-6-2-0': 'NS'}\n",
      "175 {'arcdeep-4-3-0': 'NS', 'line-6-1-0': 'S', 'line-6-2-0': 'S'}\n",
      "176 {'arcdeep-4-3-0': 'NS', 'line-6-1-0': 'S', 'line-6-2-0': 'NS'}\n",
      "177 {'arcdeep-4-3-0': 'S', 'line-6-1-0': 'NS', 'line-6-2-0': 'NS'}\n",
      "178 {'arcdeep-4-3-0': 'NS', 'line-6-1-0': 'NS', 'line-6-2-0': 'S'}\n",
      "179 {'arcdeep-4-3-0': 'NS', 'line-6-1-0': 'NS', 'line-6-2-0': 'S'}\n",
      "180 {'arcdeep-4-3-0': 'NS', 'line-6-1-0': 'NS', 'line-6-2-0': 'NS'}\n",
      "181 {'arcdeep-4-3-0': 'NS', 'line-6-1-0': 'NS', 'line-6-2-0': 'NS'}\n",
      "182 {'arcdeep-4-3-0': 'S', 'line-6-1-0': 'NS', 'line-6-2-0': 'S'}\n",
      "183 {'arcdeep-4-3-0': 'NS', 'line-6-1-0': 'NS', 'line-6-2-0': 'NS'}\n",
      "184 {'arcdeep-4-3-0': 'NS', 'line-6-1-0': 'NS', 'line-6-2-0': 'NS'}\n",
      "185 {'arcdeep-4-3-0': 'NS', 'line-6-1-0': 'NS', 'line-6-2-0': 'NS'}\n",
      "186 {'arcdeep-4-3-0': 'S', 'line-6-1-0': 'S', 'line-6-2-0': 'NS'}\n",
      "187 {'arcdeep-4-3-0': 'S', 'line-6-1-0': 'NS', 'line-6-2-0': 'S'}\n",
      "188 {'arcdeep-4-3-0': 'NS', 'line-6-1-0': 'S', 'line-6-2-0': 'NS'}\n",
      "189 {'arcdeep-4-3-0': 'NS', 'line-6-1-0': 'NS', 'line-6-2-0': 'S'}\n",
      "190 {'arcdeep-4-3-0': 'NS', 'line-6-1-0': 'NS', 'line-6-2-0': 'S'}\n",
      "191 {'arcdeep-4-3-0': 'NS', 'line-6-1-0': 'NS', 'line-6-2-0': 'NS'}\n",
      "192 {'arcdeep-4-3-0': 'NS', 'line-6-1-0': 'NS', 'line-6-2-0': 'NS'}\n",
      "193 {'arcdeep-4-3-0': 'NS', 'line-6-1-0': 'S', 'line-6-2-0': 'NS'}\n",
      "194 {'arcdeep-4-3-0': 'S', 'line-6-1-0': 'NS', 'line-6-2-0': 'NS'}\n",
      "195 {'arcdeep-4-3-0': 'NS', 'line-6-1-0': 'NS', 'line-6-2-0': 'NS'}\n",
      "196 {'arcdeep-4-3-0': 'NS', 'line-6-1-0': 'NS', 'line-6-2-0': 'NS'}\n",
      "197 {'arcdeep-4-3-0': 'NS', 'line-6-1-0': 'NS', 'line-6-2-0': 'S'}\n",
      "198 {'arcdeep-4-3-0': 'S', 'line-6-1-0': 'S', 'line-6-2-0': 'NS'}\n",
      "199 {'arcdeep-4-3-0': 'NS', 'line-6-1-0': 'NS', 'line-6-2-0': 'NS'}\n",
      "200 {'arcdeep-4-3-0': 'NS', 'line-6-1-0': 'NS', 'line-6-2-0': 'NS'}\n",
      "201 {'arcdeep-4-3-0': 'NS', 'line-6-1-0': 'NS', 'line-6-2-0': 'S'}\n",
      "202 {'arcdeep-4-3-0': 'NS', 'line-6-1-0': 'NS', 'line-6-2-0': 'S'}\n",
      "203 {'arcdeep-4-3-0': 'NS', 'line-6-1-0': 'NS', 'line-6-2-0': 'NS'}\n",
      "204 {'arcdeep-4-3-0': 'S', 'line-6-1-0': 'NS', 'line-6-2-0': 'NS'}\n",
      "205 {'arcdeep-4-3-0': 'NS', 'line-6-1-0': 'NS', 'line-6-2-0': 'NS'}\n",
      "206 {'arcdeep-4-3-0': 'NS', 'line-6-1-0': 'NS', 'line-6-2-0': 'NS'}\n",
      "207 {'arcdeep-4-3-0': 'NS', 'line-6-1-0': 'NS', 'line-6-2-0': 'NS'}\n",
      "208 {'arcdeep-4-3-0': 'S', 'line-6-1-0': 'NS', 'line-6-2-0': 'S'}\n",
      "209 {'arcdeep-4-3-0': 'NS', 'line-6-1-0': 'NS', 'line-6-2-0': 'NS'}\n",
      "210 {'arcdeep-4-3-0': 'NS', 'line-6-1-0': 'NS', 'line-6-2-0': 'S'}\n",
      "211 {'arcdeep-4-3-0': 'NS', 'line-6-1-0': 'NS', 'line-6-2-0': 'NS'}\n",
      "212 {'arcdeep-4-3-0': 'S', 'line-6-1-0': 'S', 'line-6-2-0': 'NS'}\n",
      "213 {'arcdeep-4-3-0': 'NS', 'line-6-1-0': 'S', 'line-6-2-0': 'NS'}\n",
      "214 {'arcdeep-4-3-0': 'NS', 'line-6-1-0': 'S', 'line-6-2-0': 'NS'}\n",
      "215 {'arcdeep-4-3-0': 'NS', 'line-6-1-0': 'S', 'line-6-2-0': 'S'}\n",
      "216 {'arcdeep-4-3-0': 'NS', 'line-6-1-0': 'S', 'line-6-2-0': 'NS'}\n",
      "217 {'arcdeep-4-3-0': 'NS', 'line-6-1-0': 'NS', 'line-6-2-0': 'NS'}\n",
      "218 {'arcdeep-4-3-0': 'NS', 'line-6-1-0': 'NS', 'line-6-2-0': 'NS'}\n",
      "219 {'arcdeep-4-3-0': 'NS', 'line-6-1-0': 'NS', 'line-6-2-0': 'NS'}\n",
      "220 {'arcdeep-4-3-0': 'NS', 'line-6-1-0': 'NS', 'line-6-2-0': 'NS'}\n",
      "221 {'arcdeep-4-3-0': 'NS', 'line-6-1-0': 'NS', 'line-6-2-0': 'NS'}\n",
      "222 {'arcdeep-4-3-0': 'NS', 'line-6-1-0': 'NS', 'line-6-2-0': 'NS'}\n",
      "223 {'arcdeep-4-3-0': 'S', 'line-6-1-0': 'S', 'line-6-2-0': 'NS'}\n",
      "224 {'arcdeep-4-3-0': 'NS', 'line-6-1-0': 'NS', 'line-6-2-0': 'NS'}\n",
      "225 {'arcdeep-4-3-0': 'NS', 'line-6-1-0': 'NS', 'line-6-2-0': 'NS'}\n",
      "226 {'arcdeep-4-3-0': 'S', 'line-6-1-0': 'NS', 'line-6-2-0': 'NS'}\n",
      "227 {'arcdeep-4-3-0': 'NS', 'line-6-1-0': 'S', 'line-6-2-0': 'NS'}\n",
      "228 {'arcdeep-4-3-0': 'S', 'line-6-1-0': 'S', 'line-6-2-0': 'NS'}\n",
      "229 {'arcdeep-4-3-0': 'S', 'line-6-1-0': 'NS', 'line-6-2-0': 'NS'}\n",
      "230 {'arcdeep-4-3-0': 'NS', 'line-6-1-0': 'NS', 'line-6-2-0': 'NS'}\n",
      "231 {'arcdeep-4-3-0': 'NS', 'line-6-1-0': 'S', 'line-6-2-0': 'NS'}\n",
      "232 {'arcdeep-4-3-0': 'NS', 'line-6-1-0': 'S', 'line-6-2-0': 'NS'}\n",
      "233 {'arcdeep-4-3-0': 'S', 'line-6-1-0': 'S', 'line-6-2-0': 'NS'}\n",
      "234 {'arcdeep-4-3-0': 'NS', 'line-6-1-0': 'NS', 'line-6-2-0': 'S'}\n",
      "235 {'arcdeep-4-3-0': 'NS', 'line-6-1-0': 'NS', 'line-6-2-0': 'NS'}\n",
      "236 {'arcdeep-4-3-0': 'NS', 'line-6-1-0': 'S', 'line-6-2-0': 'NS'}\n",
      "237 {'arcdeep-4-3-0': 'NS', 'line-6-1-0': 'S', 'line-6-2-0': 'NS'}\n",
      "238 {'arcdeep-4-3-0': 'NS', 'line-6-1-0': 'NS', 'line-6-2-0': 'NS'}\n",
      "239 {'arcdeep-4-3-0': 'NS', 'line-6-1-0': 'NS', 'line-6-2-0': 'NS'}\n",
      "240 {'arcdeep-4-3-0': 'NS', 'line-6-1-0': 'NS', 'line-6-2-0': 'NS'}\n",
      "241 {'arcdeep-4-3-0': 'NS', 'line-6-1-0': 'NS', 'line-6-2-0': 'S'}\n",
      "242 {'arcdeep-4-3-0': 'NS', 'line-6-1-0': 'NS', 'line-6-2-0': 'NS'}\n",
      "243 {'arcdeep-4-3-0': 'S', 'line-6-1-0': 'S', 'line-6-2-0': 'NS'}\n",
      "244 {'arcdeep-4-3-0': 'NS', 'line-6-1-0': 'S', 'line-6-2-0': 'S'}\n",
      "245 {'arcdeep-4-3-0': 'NS', 'line-6-1-0': 'NS', 'line-6-2-0': 'NS'}\n",
      "246 {'arcdeep-4-3-0': 'NS', 'line-6-1-0': 'NS', 'line-6-2-0': 'S'}\n",
      "247 {'arcdeep-4-3-0': 'NS', 'line-6-1-0': 'S', 'line-6-2-0': 'NS'}\n",
      "248 {'arcdeep-4-3-0': 'NS', 'line-6-1-0': 'NS', 'line-6-2-0': 'S'}\n",
      "249 {'arcdeep-4-3-0': 'S', 'line-6-1-0': 'S', 'line-6-2-0': 'NS'}\n",
      "250 {'arcdeep-4-3-0': 'NS', 'line-6-1-0': 'S', 'line-6-2-0': 'NS'}\n",
      "251 {'arcdeep-4-3-0': 'NS', 'line-6-1-0': 'NS', 'line-6-2-0': 'NS'}\n",
      "252 {'arcdeep-4-3-0': 'S', 'line-6-1-0': 'NS', 'line-6-2-0': 'NS'}\n",
      "253 {'arcdeep-4-3-0': 'NS', 'line-6-1-0': 'NS', 'line-6-2-0': 'NS'}\n",
      "254 {'arcdeep-4-3-0': 'NS', 'line-6-1-0': 'NS', 'line-6-2-0': 'NS'}\n",
      "255 {'arcdeep-4-3-0': 'NS', 'line-6-1-0': 'NS', 'line-6-2-0': 'S'}\n",
      "256 {'arcdeep-4-3-0': 'S', 'line-6-1-0': 'NS', 'line-6-2-0': 'NS'}\n",
      "257 {'arcdeep-4-3-0': 'NS', 'line-6-1-0': 'S', 'line-6-2-0': 'NS'}\n",
      "258 {'arcdeep-4-3-0': 'NS', 'line-6-1-0': 'S', 'line-6-2-0': 'NS'}\n",
      "259 {'arcdeep-4-3-0': 'S', 'line-6-1-0': 'NS', 'line-6-2-0': 'NS'}\n",
      "260 {'arcdeep-4-3-0': 'NS', 'line-6-1-0': 'NS', 'line-6-2-0': 'NS'}\n",
      "261 {'arcdeep-4-3-0': 'NS', 'line-6-1-0': 'NS', 'line-6-2-0': 'NS'}\n",
      "262 {'arcdeep-4-3-0': 'NS', 'line-6-1-0': 'NS', 'line-6-2-0': 'S'}\n",
      "263 {'arcdeep-4-3-0': 'NS', 'line-6-1-0': 'NS', 'line-6-2-0': 'NS'}\n",
      "264 {'arcdeep-4-3-0': 'NS', 'line-6-1-0': 'NS', 'line-6-2-0': 'NS'}\n",
      "265 {'arcdeep-4-3-0': 'NS', 'line-6-1-0': 'S', 'line-6-2-0': 'NS'}\n",
      "266 {'arcdeep-4-3-0': 'NS', 'line-6-1-0': 'NS', 'line-6-2-0': 'S'}\n",
      "267 {'arcdeep-4-3-0': 'NS', 'line-6-1-0': 'NS', 'line-6-2-0': 'S'}\n",
      "268 {'arcdeep-4-3-0': 'NS', 'line-6-1-0': 'NS', 'line-6-2-0': 'S'}\n",
      "269 {'arcdeep-4-3-0': 'NS', 'line-6-1-0': 'S', 'line-6-2-0': 'NS'}\n",
      "270 {'arcdeep-4-3-0': 'NS', 'line-6-1-0': 'NS', 'line-6-2-0': 'S'}\n",
      "271 {'arcdeep-4-3-0': 'NS', 'line-6-1-0': 'NS', 'line-6-2-0': 'S'}\n",
      "272 {'arcdeep-4-3-0': 'NS', 'line-6-1-0': 'NS', 'line-6-2-0': 'NS'}\n",
      "273 {'arcdeep-4-3-0': 'NS', 'line-6-1-0': 'S', 'line-6-2-0': 'NS'}\n",
      "274 {'arcdeep-4-3-0': 'NS', 'line-6-1-0': 'NS', 'line-6-2-0': 'S'}\n",
      "275 {'arcdeep-4-3-0': 'NS', 'line-6-1-0': 'S', 'line-6-2-0': 'NS'}\n",
      "276 {'arcdeep-4-3-0': 'S', 'line-6-1-0': 'NS', 'line-6-2-0': 'NS'}\n",
      "277 {'arcdeep-4-3-0': 'S', 'line-6-1-0': 'NS', 'line-6-2-0': 'NS'}\n",
      "278 {'arcdeep-4-3-0': 'NS', 'line-6-1-0': 'NS', 'line-6-2-0': 'NS'}\n",
      "279 {'arcdeep-4-3-0': 'NS', 'line-6-1-0': 'NS', 'line-6-2-0': 'NS'}\n",
      "280 {'arcdeep-4-3-0': 'S', 'line-6-1-0': 'NS', 'line-6-2-0': 'S'}\n",
      "281 {'arcdeep-4-3-0': 'NS', 'line-6-1-0': 'NS', 'line-6-2-0': 'NS'}\n",
      "282 {'arcdeep-4-3-0': 'NS', 'line-6-1-0': 'NS', 'line-6-2-0': 'NS'}\n",
      "283 {'arcdeep-4-3-0': 'NS', 'line-6-1-0': 'NS', 'line-6-2-0': 'S'}\n",
      "284 {'arcdeep-4-3-0': 'S', 'line-6-1-0': 'NS', 'line-6-2-0': 'NS'}\n",
      "285 {'arcdeep-4-3-0': 'NS', 'line-6-1-0': 'NS', 'line-6-2-0': 'NS'}\n",
      "286 {'arcdeep-4-3-0': 'NS', 'line-6-1-0': 'NS', 'line-6-2-0': 'S'}\n",
      "287 {'arcdeep-4-3-0': 'NS', 'line-6-1-0': 'S', 'line-6-2-0': 'NS'}\n",
      "288 {'arcdeep-4-3-0': 'NS', 'line-6-1-0': 'NS', 'line-6-2-0': 'S'}\n",
      "289 {'arcdeep-4-3-0': 'NS', 'line-6-1-0': 'NS', 'line-6-2-0': 'NS'}\n",
      "290 {'arcdeep-4-3-0': 'NS', 'line-6-1-0': 'NS', 'line-6-2-0': 'NS'}\n",
      "291 {'arcdeep-4-3-0': 'NS', 'line-6-1-0': 'NS', 'line-6-2-0': 'S'}\n",
      "292 {'arcdeep-4-3-0': 'NS', 'line-6-1-0': 'NS', 'line-6-2-0': 'NS'}\n",
      "293 {'arcdeep-4-3-0': 'NS', 'line-6-1-0': 'S', 'line-6-2-0': 'NS'}\n",
      "294 {'arcdeep-4-3-0': 'S', 'line-6-1-0': 'NS', 'line-6-2-0': 'S'}\n",
      "295 {'arcdeep-4-3-0': 'NS', 'line-6-1-0': 'S', 'line-6-2-0': 'S'}\n",
      "296 {'arcdeep-4-3-0': 'NS', 'line-6-1-0': 'S', 'line-6-2-0': 'NS'}\n",
      "297 {'arcdeep-4-3-0': 'NS', 'line-6-1-0': 'NS', 'line-6-2-0': 'NS'}\n",
      "298 {'arcdeep-4-3-0': 'S', 'line-6-1-0': 'S', 'line-6-2-0': 'NS'}\n",
      "299 {'arcdeep-4-3-0': 'S', 'line-6-1-0': 'NS', 'line-6-2-0': 'NS'}\n",
      "300 {'arcdeep-4-3-0': 'S', 'line-6-1-0': 'NS', 'line-6-2-0': 'NS'}\n",
      "301 {'arcdeep-4-3-0': 'NS', 'line-6-1-0': 'NS', 'line-6-2-0': 'S'}\n",
      "302 {'arcdeep-4-3-0': 'NS', 'line-6-1-0': 'S', 'line-6-2-0': 'NS'}\n",
      "303 {'arcdeep-4-3-0': 'S', 'line-6-1-0': 'NS', 'line-6-2-0': 'NS'}\n",
      "304 {'arcdeep-4-3-0': 'NS', 'line-6-1-0': 'NS', 'line-6-2-0': 'S'}\n",
      "305 {'arcdeep-4-3-0': 'NS', 'line-6-1-0': 'NS', 'line-6-2-0': 'NS'}\n",
      "306 {'arcdeep-4-3-0': 'NS', 'line-6-1-0': 'NS', 'line-6-2-0': 'NS'}\n",
      "307 {'arcdeep-4-3-0': 'NS', 'line-6-1-0': 'NS', 'line-6-2-0': 'S'}\n",
      "308 {'arcdeep-4-3-0': 'S', 'line-6-1-0': 'NS', 'line-6-2-0': 'NS'}\n",
      "309 {'arcdeep-4-3-0': 'NS', 'line-6-1-0': 'S', 'line-6-2-0': 'NS'}\n",
      "310 {'arcdeep-4-3-0': 'NS', 'line-6-1-0': 'S', 'line-6-2-0': 'NS'}\n",
      "311 {'arcdeep-4-3-0': 'NS', 'line-6-1-0': 'NS', 'line-6-2-0': 'NS'}\n",
      "312 {'arcdeep-4-3-0': 'S', 'line-6-1-0': 'S', 'line-6-2-0': 'NS'}\n",
      "313 {'arcdeep-4-3-0': 'S', 'line-6-1-0': 'S', 'line-6-2-0': 'NS'}\n",
      "314 {'arcdeep-4-3-0': 'NS', 'line-6-1-0': 'NS', 'line-6-2-0': 'S'}\n",
      "315 {'arcdeep-4-3-0': 'NS', 'line-6-1-0': 'NS', 'line-6-2-0': 'NS'}\n",
      "316 {'arcdeep-4-3-0': 'NS', 'line-6-1-0': 'NS', 'line-6-2-0': 'S'}\n",
      "317 {'arcdeep-4-3-0': 'S', 'line-6-1-0': 'NS', 'line-6-2-0': 'NS'}\n",
      "318 {'arcdeep-4-3-0': 'NS', 'line-6-1-0': 'NS', 'line-6-2-0': 'NS'}\n",
      "319 {'arcdeep-4-3-0': 'NS', 'line-6-1-0': 'S', 'line-6-2-0': 'S'}\n",
      "320 {'arcdeep-4-3-0': 'NS', 'line-6-1-0': 'NS', 'line-6-2-0': 'NS'}\n",
      "321 {'arcdeep-4-3-0': 'S', 'line-6-1-0': 'NS', 'line-6-2-0': 'NS'}\n",
      "322 {'arcdeep-4-3-0': 'NS', 'line-6-1-0': 'NS', 'line-6-2-0': 'NS'}\n",
      "323 {'arcdeep-4-3-0': 'S', 'line-6-1-0': 'NS', 'line-6-2-0': 'S'}\n",
      "324 {'arcdeep-4-3-0': 'NS', 'line-6-1-0': 'S', 'line-6-2-0': 'NS'}\n",
      "325 {'arcdeep-4-3-0': 'NS', 'line-6-1-0': 'NS', 'line-6-2-0': 'S'}\n",
      "326 {'arcdeep-4-3-0': 'NS', 'line-6-1-0': 'S', 'line-6-2-0': 'NS'}\n",
      "327 {'arcdeep-4-3-0': 'NS', 'line-6-1-0': 'NS', 'line-6-2-0': 'NS'}\n",
      "328 {'arcdeep-4-3-0': 'S', 'line-6-1-0': 'NS', 'line-6-2-0': 'NS'}\n",
      "329 {'arcdeep-4-3-0': 'NS', 'line-6-1-0': 'NS', 'line-6-2-0': 'NS'}\n",
      "330 {'arcdeep-4-3-0': 'NS', 'line-6-1-0': 'NS', 'line-6-2-0': 'S'}\n",
      "331 {'arcdeep-4-3-0': 'NS', 'line-6-1-0': 'NS', 'line-6-2-0': 'S'}\n",
      "332 {'arcdeep-4-3-0': 'S', 'line-6-1-0': 'S', 'line-6-2-0': 'NS'}\n",
      "333 {'arcdeep-4-3-0': 'S', 'line-6-1-0': 'S', 'line-6-2-0': 'NS'}\n",
      "334 {'arcdeep-4-3-0': 'S', 'line-6-1-0': 'NS', 'line-6-2-0': 'NS'}\n",
      "335 {'arcdeep-4-3-0': 'S', 'line-6-1-0': 'NS', 'line-6-2-0': 'NS'}\n",
      "336 {'arcdeep-4-3-0': 'NS', 'line-6-1-0': 'NS', 'line-6-2-0': 'NS'}\n",
      "337 {'arcdeep-4-3-0': 'NS', 'line-6-1-0': 'S', 'line-6-2-0': 'NS'}\n",
      "338 {'arcdeep-4-3-0': 'NS', 'line-6-1-0': 'NS', 'line-6-2-0': 'NS'}\n",
      "339 {'arcdeep-4-3-0': 'S', 'line-6-1-0': 'S', 'line-6-2-0': 'NS'}\n",
      "340 {'arcdeep-4-3-0': 'NS', 'line-6-1-0': 'NS', 'line-6-2-0': 'S'}\n",
      "341 {'arcdeep-4-3-0': 'S', 'line-6-1-0': 'NS', 'line-6-2-0': 'NS'}\n",
      "342 {'arcdeep-4-3-0': 'S', 'line-6-1-0': 'NS', 'line-6-2-0': 'NS'}\n",
      "343 {'arcdeep-4-3-0': 'S', 'line-6-1-0': 'S', 'line-6-2-0': 'NS'}\n",
      "344 {'arcdeep-4-3-0': 'NS', 'line-6-1-0': 'NS', 'line-6-2-0': 'NS'}\n",
      "345 {'arcdeep-4-3-0': 'NS', 'line-6-1-0': 'NS', 'line-6-2-0': 'NS'}\n",
      "346 {'arcdeep-4-3-0': 'NS', 'line-6-1-0': 'NS', 'line-6-2-0': 'NS'}\n",
      "347 {'arcdeep-4-3-0': 'NS', 'line-6-1-0': 'S', 'line-6-2-0': 'NS'}\n",
      "348 {'arcdeep-4-3-0': 'NS', 'line-6-1-0': 'NS', 'line-6-2-0': 'S'}\n",
      "349 {'arcdeep-4-3-0': 'NS', 'line-6-1-0': 'NS', 'line-6-2-0': 'S'}\n",
      "350 {'arcdeep-4-3-0': 'NS', 'line-6-1-0': 'S', 'line-6-2-0': 'NS'}\n",
      "351 {'arcdeep-4-3-0': 'NS', 'line-6-1-0': 'S', 'line-6-2-0': 'NS'}\n",
      "352 {'arcdeep-4-3-0': 'NS', 'line-6-1-0': 'NS', 'line-6-2-0': 'S'}\n",
      "353 {'arcdeep-4-3-0': 'NS', 'line-6-1-0': 'NS', 'line-6-2-0': 'NS'}\n",
      "354 {'arcdeep-4-3-0': 'S', 'line-6-1-0': 'NS', 'line-6-2-0': 'NS'}\n",
      "355 {'arcdeep-4-3-0': 'S', 'line-6-1-0': 'NS', 'line-6-2-0': 'NS'}\n",
      "356 {'arcdeep-4-3-0': 'NS', 'line-6-1-0': 'S', 'line-6-2-0': 'NS'}\n",
      "357 {'arcdeep-4-3-0': 'NS', 'line-6-1-0': 'S', 'line-6-2-0': 'NS'}\n",
      "358 {'arcdeep-4-3-0': 'NS', 'line-6-1-0': 'NS', 'line-6-2-0': 'NS'}\n",
      "359 {'arcdeep-4-3-0': 'S', 'line-6-1-0': 'NS', 'line-6-2-0': 'S'}\n",
      "360 {'arcdeep-4-3-0': 'NS', 'line-6-1-0': 'NS', 'line-6-2-0': 'S'}\n",
      "361 {'arcdeep-4-3-0': 'NS', 'line-6-1-0': 'NS', 'line-6-2-0': 'NS'}\n",
      "362 {'arcdeep-4-3-0': 'NS', 'line-6-1-0': 'NS', 'line-6-2-0': 'NS'}\n",
      "363 {'arcdeep-4-3-0': 'NS', 'line-6-1-0': 'NS', 'line-6-2-0': 'S'}\n",
      "364 {'arcdeep-4-3-0': 'NS', 'line-6-1-0': 'NS', 'line-6-2-0': 'S'}\n",
      "365 {'arcdeep-4-3-0': 'NS', 'line-6-1-0': 'S', 'line-6-2-0': 'NS'}\n",
      "366 {'arcdeep-4-3-0': 'NS', 'line-6-1-0': 'S', 'line-6-2-0': 'S'}\n",
      "367 {'arcdeep-4-3-0': 'NS', 'line-6-1-0': 'NS', 'line-6-2-0': 'S'}\n",
      "368 {'arcdeep-4-3-0': 'NS', 'line-6-1-0': 'S', 'line-6-2-0': 'NS'}\n",
      "369 {'arcdeep-4-3-0': 'NS', 'line-6-1-0': 'NS', 'line-6-2-0': 'S'}\n",
      "370 {'arcdeep-4-3-0': 'S', 'line-6-1-0': 'NS', 'line-6-2-0': 'NS'}\n",
      "371 {'arcdeep-4-3-0': 'NS', 'line-6-1-0': 'NS', 'line-6-2-0': 'NS'}\n",
      "372 {'arcdeep-4-3-0': 'S', 'line-6-1-0': 'S', 'line-6-2-0': 'NS'}\n",
      "373 {'arcdeep-4-3-0': 'NS', 'line-6-1-0': 'NS', 'line-6-2-0': 'S'}\n",
      "374 {'arcdeep-4-3-0': 'NS', 'line-6-1-0': 'NS', 'line-6-2-0': 'NS'}\n",
      "375 {'arcdeep-4-3-0': 'NS', 'line-6-1-0': 'S', 'line-6-2-0': 'NS'}\n",
      "376 {'arcdeep-4-3-0': 'S', 'line-6-1-0': 'NS', 'line-6-2-0': 'S'}\n",
      "377 {'arcdeep-4-3-0': 'NS', 'line-6-1-0': 'NS', 'line-6-2-0': 'NS'}\n",
      "378 {'arcdeep-4-3-0': 'S', 'line-6-1-0': 'NS', 'line-6-2-0': 'NS'}\n",
      "379 {'arcdeep-4-3-0': 'NS', 'line-6-1-0': 'NS', 'line-6-2-0': 'NS'}\n",
      "380 {'arcdeep-4-3-0': 'S', 'line-6-1-0': 'S', 'line-6-2-0': 'NS'}\n",
      "381 {'arcdeep-4-3-0': 'NS', 'line-6-1-0': 'S', 'line-6-2-0': 'NS'}\n",
      "382 {'arcdeep-4-3-0': 'NS', 'line-6-1-0': 'NS', 'line-6-2-0': 'NS'}\n",
      "383 {'arcdeep-4-3-0': 'NS', 'line-6-1-0': 'NS', 'line-6-2-0': 'NS'}\n",
      "384 {'arcdeep-4-3-0': 'NS', 'line-6-1-0': 'NS', 'line-6-2-0': 'S'}\n",
      "385 {'arcdeep-4-3-0': 'NS', 'line-6-1-0': 'S', 'line-6-2-0': 'NS'}\n",
      "386 {'arcdeep-4-3-0': 'NS', 'line-6-1-0': 'S', 'line-6-2-0': 'NS'}\n",
      "387 {'arcdeep-4-3-0': 'S', 'line-6-1-0': 'NS', 'line-6-2-0': 'NS'}\n",
      "388 {'arcdeep-4-3-0': 'NS', 'line-6-1-0': 'NS', 'line-6-2-0': 'S'}\n",
      "389 {'arcdeep-4-3-0': 'NS', 'line-6-1-0': 'NS', 'line-6-2-0': 'NS'}\n",
      "390 {'arcdeep-4-3-0': 'NS', 'line-6-1-0': 'NS', 'line-6-2-0': 'S'}\n",
      "391 {'arcdeep-4-3-0': 'NS', 'line-6-1-0': 'NS', 'line-6-2-0': 'NS'}\n",
      "392 {'arcdeep-4-3-0': 'NS', 'line-6-1-0': 'S', 'line-6-2-0': 'S'}\n",
      "393 {'arcdeep-4-3-0': 'S', 'line-6-1-0': 'NS', 'line-6-2-0': 'NS'}\n",
      "394 {'arcdeep-4-3-0': 'S', 'line-6-1-0': 'NS', 'line-6-2-0': 'S'}\n",
      "395 {'arcdeep-4-3-0': 'NS', 'line-6-1-0': 'NS', 'line-6-2-0': 'NS'}\n",
      "396 {'arcdeep-4-3-0': 'S', 'line-6-1-0': 'NS', 'line-6-2-0': 'S'}\n",
      "397 {'arcdeep-4-3-0': 'NS', 'line-6-1-0': 'S', 'line-6-2-0': 'NS'}\n",
      "398 {'arcdeep-4-3-0': 'S', 'line-6-1-0': 'NS', 'line-6-2-0': 'NS'}\n",
      "399 {'arcdeep-4-3-0': 'NS', 'line-6-1-0': 'S', 'line-6-2-0': 'S'}\n",
      "400 {'arcdeep-4-3-0': 'NS', 'line-6-1-0': 'NS', 'line-6-2-0': 'NS'}\n",
      "401 {'arcdeep-4-3-0': 'NS', 'line-6-1-0': 'NS', 'line-6-2-0': 'S'}\n",
      "402 {'arcdeep-4-3-0': 'NS', 'line-6-1-0': 'S', 'line-6-2-0': 'NS'}\n",
      "403 {'arcdeep-4-3-0': 'NS', 'line-6-1-0': 'NS', 'line-6-2-0': 'NS'}\n",
      "404 {'arcdeep-4-3-0': 'S', 'line-6-1-0': 'S', 'line-6-2-0': 'NS'}\n",
      "405 {'arcdeep-4-3-0': 'NS', 'line-6-1-0': 'S', 'line-6-2-0': 'NS'}\n",
      "406 {'arcdeep-4-3-0': 'NS', 'line-6-1-0': 'NS', 'line-6-2-0': 'NS'}\n",
      "407 {'arcdeep-4-3-0': 'NS', 'line-6-1-0': 'NS', 'line-6-2-0': 'NS'}\n",
      "408 {'arcdeep-4-3-0': 'NS', 'line-6-1-0': 'NS', 'line-6-2-0': 'S'}\n",
      "409 {'arcdeep-4-3-0': 'NS', 'line-6-1-0': 'S', 'line-6-2-0': 'NS'}\n",
      "410 {'arcdeep-4-3-0': 'NS', 'line-6-1-0': 'NS', 'line-6-2-0': 'NS'}\n",
      "411 {'arcdeep-4-3-0': 'S', 'line-6-1-0': 'NS', 'line-6-2-0': 'S'}\n",
      "412 {'arcdeep-4-3-0': 'S', 'line-6-1-0': 'NS', 'line-6-2-0': 'NS'}\n",
      "413 {'arcdeep-4-3-0': 'NS', 'line-6-1-0': 'S', 'line-6-2-0': 'NS'}\n",
      "414 {'arcdeep-4-3-0': 'NS', 'line-6-1-0': 'NS', 'line-6-2-0': 'S'}\n",
      "415 {'arcdeep-4-3-0': 'NS', 'line-6-1-0': 'NS', 'line-6-2-0': 'NS'}\n",
      "416 {'arcdeep-4-3-0': 'NS', 'line-6-1-0': 'NS', 'line-6-2-0': 'S'}\n",
      "417 {'arcdeep-4-3-0': 'NS', 'line-6-1-0': 'NS', 'line-6-2-0': 'NS'}\n",
      "418 {'arcdeep-4-3-0': 'S', 'line-6-1-0': 'NS', 'line-6-2-0': 'S'}\n",
      "419 {'arcdeep-4-3-0': 'NS', 'line-6-1-0': 'NS', 'line-6-2-0': 'NS'}\n",
      "420 {'arcdeep-4-3-0': 'S', 'line-6-1-0': 'S', 'line-6-2-0': 'NS'}\n",
      "421 {'arcdeep-4-3-0': 'NS', 'line-6-1-0': 'NS', 'line-6-2-0': 'S'}\n",
      "422 {'arcdeep-4-3-0': 'S', 'line-6-1-0': 'NS', 'line-6-2-0': 'NS'}\n",
      "423 {'arcdeep-4-3-0': 'NS', 'line-6-1-0': 'NS', 'line-6-2-0': 'NS'}\n",
      "424 {'arcdeep-4-3-0': 'NS', 'line-6-1-0': 'S', 'line-6-2-0': 'S'}\n",
      "425 {'arcdeep-4-3-0': 'NS', 'line-6-1-0': 'NS', 'line-6-2-0': 'NS'}\n",
      "426 {'arcdeep-4-3-0': 'S', 'line-6-1-0': 'NS', 'line-6-2-0': 'NS'}\n",
      "427 {'arcdeep-4-3-0': 'NS', 'line-6-1-0': 'NS', 'line-6-2-0': 'NS'}\n",
      "428 {'arcdeep-4-3-0': 'NS', 'line-6-1-0': 'NS', 'line-6-2-0': 'NS'}\n",
      "429 {'arcdeep-4-3-0': 'NS', 'line-6-1-0': 'NS', 'line-6-2-0': 'S'}\n",
      "430 {'arcdeep-4-3-0': 'S', 'line-6-1-0': 'NS', 'line-6-2-0': 'S'}\n",
      "431 {'arcdeep-4-3-0': 'NS', 'line-6-1-0': 'S', 'line-6-2-0': 'S'}\n",
      "432 {'arcdeep-4-3-0': 'S', 'line-6-1-0': 'NS', 'line-6-2-0': 'NS'}\n",
      "433 {'arcdeep-4-3-0': 'NS', 'line-6-1-0': 'NS', 'line-6-2-0': 'NS'}\n",
      "434 {'arcdeep-4-3-0': 'NS', 'line-6-1-0': 'NS', 'line-6-2-0': 'NS'}\n",
      "435 {'arcdeep-4-3-0': 'NS', 'line-6-1-0': 'NS', 'line-6-2-0': 'S'}\n",
      "436 {'arcdeep-4-3-0': 'S', 'line-6-1-0': 'S', 'line-6-2-0': 'NS'}\n",
      "437 {'arcdeep-4-3-0': 'NS', 'line-6-1-0': 'NS', 'line-6-2-0': 'S'}\n",
      "438 {'arcdeep-4-3-0': 'NS', 'line-6-1-0': 'NS', 'line-6-2-0': 'NS'}\n",
      "439 {'arcdeep-4-3-0': 'NS', 'line-6-1-0': 'NS', 'line-6-2-0': 'NS'}\n",
      "440 {'arcdeep-4-3-0': 'S', 'line-6-1-0': 'NS', 'line-6-2-0': 'NS'}\n",
      "441 {'arcdeep-4-3-0': 'NS', 'line-6-1-0': 'NS', 'line-6-2-0': 'NS'}\n",
      "442 {'arcdeep-4-3-0': 'S', 'line-6-1-0': 'NS', 'line-6-2-0': 'S'}\n",
      "443 {'arcdeep-4-3-0': 'S', 'line-6-1-0': 'NS', 'line-6-2-0': 'NS'}\n",
      "444 {'arcdeep-4-3-0': 'NS', 'line-6-1-0': 'NS', 'line-6-2-0': 'S'}\n",
      "445 {'arcdeep-4-3-0': 'S', 'line-6-1-0': 'NS', 'line-6-2-0': 'NS'}\n",
      "446 {'arcdeep-4-3-0': 'NS', 'line-6-1-0': 'NS', 'line-6-2-0': 'NS'}\n",
      "447 {'arcdeep-4-3-0': 'NS', 'line-6-1-0': 'NS', 'line-6-2-0': 'S'}\n",
      "448 {'arcdeep-4-3-0': 'NS', 'line-6-1-0': 'NS', 'line-6-2-0': 'NS'}\n",
      "449 {'arcdeep-4-3-0': 'NS', 'line-6-1-0': 'S', 'line-6-2-0': 'NS'}\n",
      "450 {'arcdeep-4-3-0': 'S', 'line-6-1-0': 'S', 'line-6-2-0': 'NS'}\n",
      "451 {'arcdeep-4-3-0': 'NS', 'line-6-1-0': 'NS', 'line-6-2-0': 'S'}\n",
      "452 {'arcdeep-4-3-0': 'NS', 'line-6-1-0': 'NS', 'line-6-2-0': 'NS'}\n",
      "453 {'arcdeep-4-3-0': 'NS', 'line-6-1-0': 'S', 'line-6-2-0': 'NS'}\n",
      "454 {'arcdeep-4-3-0': 'NS', 'line-6-1-0': 'NS', 'line-6-2-0': 'NS'}\n",
      "455 {'arcdeep-4-3-0': 'NS', 'line-6-1-0': 'NS', 'line-6-2-0': 'NS'}\n",
      "456 {'arcdeep-4-3-0': 'NS', 'line-6-1-0': 'NS', 'line-6-2-0': 'NS'}\n",
      "457 {'arcdeep-4-3-0': 'S', 'line-6-1-0': 'NS', 'line-6-2-0': 'NS'}\n",
      "458 {'arcdeep-4-3-0': 'NS', 'line-6-1-0': 'S', 'line-6-2-0': 'NS'}\n",
      "459 {'arcdeep-4-3-0': 'NS', 'line-6-1-0': 'NS', 'line-6-2-0': 'NS'}\n",
      "460 {'arcdeep-4-3-0': 'NS', 'line-6-1-0': 'NS', 'line-6-2-0': 'NS'}\n",
      "461 {'arcdeep-4-3-0': 'NS', 'line-6-1-0': 'S', 'line-6-2-0': 'NS'}\n",
      "462 {'arcdeep-4-3-0': 'NS', 'line-6-1-0': 'NS', 'line-6-2-0': 'NS'}\n",
      "463 {'arcdeep-4-3-0': 'NS', 'line-6-1-0': 'NS', 'line-6-2-0': 'NS'}\n",
      "464 {'arcdeep-4-3-0': 'NS', 'line-6-1-0': 'NS', 'line-6-2-0': 'NS'}\n",
      "465 {'arcdeep-4-3-0': 'NS', 'line-6-1-0': 'S', 'line-6-2-0': 'NS'}\n",
      "466 {'arcdeep-4-3-0': 'S', 'line-6-1-0': 'S', 'line-6-2-0': 'NS'}\n",
      "467 {'arcdeep-4-3-0': 'NS', 'line-6-1-0': 'NS', 'line-6-2-0': 'NS'}\n",
      "468 {'arcdeep-4-3-0': 'NS', 'line-6-1-0': 'NS', 'line-6-2-0': 'NS'}\n",
      "469 {'arcdeep-4-3-0': 'S', 'line-6-1-0': 'S', 'line-6-2-0': 'NS'}\n",
      "470 {'arcdeep-4-3-0': 'S', 'line-6-1-0': 'S', 'line-6-2-0': 'NS'}\n",
      "471 {'arcdeep-4-3-0': 'NS', 'line-6-1-0': 'S', 'line-6-2-0': 'NS'}\n",
      "472 {'arcdeep-4-3-0': 'NS', 'line-6-1-0': 'NS', 'line-6-2-0': 'S'}\n",
      "473 {'arcdeep-4-3-0': 'S', 'line-6-1-0': 'S', 'line-6-2-0': 'NS'}\n",
      "474 {'arcdeep-4-3-0': 'NS', 'line-6-1-0': 'S', 'line-6-2-0': 'S'}\n",
      "475 {'arcdeep-4-3-0': 'NS', 'line-6-1-0': 'NS', 'line-6-2-0': 'NS'}\n",
      "476 {'arcdeep-4-3-0': 'NS', 'line-6-1-0': 'S', 'line-6-2-0': 'NS'}\n",
      "477 {'arcdeep-4-3-0': 'S', 'line-6-1-0': 'NS', 'line-6-2-0': 'S'}\n",
      "478 {'arcdeep-4-3-0': 'NS', 'line-6-1-0': 'NS', 'line-6-2-0': 'NS'}\n",
      "479 {'arcdeep-4-3-0': 'S', 'line-6-1-0': 'S', 'line-6-2-0': 'NS'}\n",
      "480 {'arcdeep-4-3-0': 'NS', 'line-6-1-0': 'S', 'line-6-2-0': 'NS'}\n",
      "481 {'arcdeep-4-3-0': 'NS', 'line-6-1-0': 'NS', 'line-6-2-0': 'NS'}\n",
      "482 {'arcdeep-4-3-0': 'NS', 'line-6-1-0': 'NS', 'line-6-2-0': 'NS'}\n",
      "483 {'arcdeep-4-3-0': 'NS', 'line-6-1-0': 'NS', 'line-6-2-0': 'S'}\n",
      "484 {'arcdeep-4-3-0': 'S', 'line-6-1-0': 'NS', 'line-6-2-0': 'S'}\n",
      "485 {'arcdeep-4-3-0': 'S', 'line-6-1-0': 'NS', 'line-6-2-0': 'NS'}\n",
      "486 {'arcdeep-4-3-0': 'NS', 'line-6-1-0': 'S', 'line-6-2-0': 'NS'}\n",
      "487 {'arcdeep-4-3-0': 'NS', 'line-6-1-0': 'NS', 'line-6-2-0': 'NS'}\n",
      "488 {'arcdeep-4-3-0': 'NS', 'line-6-1-0': 'NS', 'line-6-2-0': 'NS'}\n",
      "489 {'arcdeep-4-3-0': 'NS', 'line-6-1-0': 'NS', 'line-6-2-0': 'S'}\n",
      "490 {'arcdeep-4-3-0': 'NS', 'line-6-1-0': 'S', 'line-6-2-0': 'NS'}\n",
      "491 {'arcdeep-4-3-0': 'S', 'line-6-1-0': 'NS', 'line-6-2-0': 'NS'}\n",
      "492 {'arcdeep-4-3-0': 'NS', 'line-6-1-0': 'NS', 'line-6-2-0': 'S'}\n",
      "493 {'arcdeep-4-3-0': 'NS', 'line-6-1-0': 'NS', 'line-6-2-0': 'S'}\n",
      "494 {'arcdeep-4-3-0': 'S', 'line-6-1-0': 'NS', 'line-6-2-0': 'NS'}\n",
      "495 {'arcdeep-4-3-0': 'NS', 'line-6-1-0': 'S', 'line-6-2-0': 'NS'}\n",
      "496 {'arcdeep-4-3-0': 'NS', 'line-6-1-0': 'NS', 'line-6-2-0': 'NS'}\n",
      "497 {'arcdeep-4-3-0': 'S', 'line-6-1-0': 'S', 'line-6-2-0': 'NS'}\n",
      "498 {'arcdeep-4-3-0': 'S', 'line-6-1-0': 'NS', 'line-6-2-0': 'NS'}\n",
      "499 {'arcdeep-4-3-0': 'NS', 'line-6-1-0': 'NS', 'line-6-2-0': 'NS'}\n",
      "500 {'arcdeep-4-3-0': 'NS', 'line-6-1-0': 'NS', 'line-6-2-0': 'NS'}\n",
      "501 {'arcdeep-4-3-0': 'S', 'line-6-1-0': 'S', 'line-6-2-0': 'NS'}\n",
      "502 {'arcdeep-4-3-0': 'NS', 'line-6-1-0': 'NS', 'line-6-2-0': 'NS'}\n",
      "503 {'arcdeep-4-3-0': 'NS', 'line-6-1-0': 'S', 'line-6-2-0': 'NS'}\n",
      "504 {'arcdeep-4-3-0': 'NS', 'line-6-1-0': 'S', 'line-6-2-0': 'NS'}\n",
      "505 {'arcdeep-4-3-0': 'NS', 'line-6-1-0': 'S', 'line-6-2-0': 'NS'}\n",
      "506 {'arcdeep-4-3-0': 'S', 'line-6-1-0': 'S', 'line-6-2-0': 'NS'}\n",
      "507 {'arcdeep-4-3-0': 'NS', 'line-6-1-0': 'NS', 'line-6-2-0': 'NS'}\n",
      "508 {'arcdeep-4-3-0': 'NS', 'line-6-1-0': 'S', 'line-6-2-0': 'S'}\n",
      "509 {'arcdeep-4-3-0': 'NS', 'line-6-1-0': 'NS', 'line-6-2-0': 'NS'}\n",
      "510 {'arcdeep-4-3-0': 'NS', 'line-6-1-0': 'S', 'line-6-2-0': 'NS'}\n",
      "511 {'arcdeep-4-3-0': 'S', 'line-6-1-0': 'NS', 'line-6-2-0': 'S'}\n",
      "512 {'arcdeep-4-3-0': 'S', 'line-6-1-0': 'NS', 'line-6-2-0': 'S'}\n",
      "513 {'arcdeep-4-3-0': 'NS', 'line-6-1-0': 'S', 'line-6-2-0': 'NS'}\n",
      "514 {'arcdeep-4-3-0': 'NS', 'line-6-1-0': 'NS', 'line-6-2-0': 'NS'}\n",
      "515 {'arcdeep-4-3-0': 'NS', 'line-6-1-0': 'NS', 'line-6-2-0': 'NS'}\n",
      "516 {'arcdeep-4-3-0': 'NS', 'line-6-1-0': 'NS', 'line-6-2-0': 'NS'}\n",
      "517 {'arcdeep-4-3-0': 'NS', 'line-6-1-0': 'NS', 'line-6-2-0': 'NS'}\n",
      "518 {'arcdeep-4-3-0': 'NS', 'line-6-1-0': 'NS', 'line-6-2-0': 'NS'}\n",
      "519 {'arcdeep-4-3-0': 'NS', 'line-6-1-0': 'NS', 'line-6-2-0': 'S'}\n",
      "520 {'arcdeep-4-3-0': 'NS', 'line-6-1-0': 'NS', 'line-6-2-0': 'NS'}\n",
      "521 {'arcdeep-4-3-0': 'S', 'line-6-1-0': 'NS', 'line-6-2-0': 'S'}\n",
      "522 {'arcdeep-4-3-0': 'NS', 'line-6-1-0': 'NS', 'line-6-2-0': 'NS'}\n",
      "523 {'arcdeep-4-3-0': 'S', 'line-6-1-0': 'S', 'line-6-2-0': 'NS'}\n",
      "524 {'arcdeep-4-3-0': 'NS', 'line-6-1-0': 'NS', 'line-6-2-0': 'S'}\n",
      "525 {'arcdeep-4-3-0': 'NS', 'line-6-1-0': 'S', 'line-6-2-0': 'NS'}\n",
      "526 {'arcdeep-4-3-0': 'NS', 'line-6-1-0': 'S', 'line-6-2-0': 'NS'}\n",
      "527 {'arcdeep-4-3-0': 'S', 'line-6-1-0': 'NS', 'line-6-2-0': 'S'}\n",
      "528 {'arcdeep-4-3-0': 'NS', 'line-6-1-0': 'NS', 'line-6-2-0': 'NS'}\n",
      "529 {'arcdeep-4-3-0': 'NS', 'line-6-1-0': 'S', 'line-6-2-0': 'NS'}\n",
      "530 {'arcdeep-4-3-0': 'NS', 'line-6-1-0': 'NS', 'line-6-2-0': 'S'}\n",
      "531 {'arcdeep-4-3-0': 'NS', 'line-6-1-0': 'S', 'line-6-2-0': 'S'}\n",
      "532 {'arcdeep-4-3-0': 'NS', 'line-6-1-0': 'NS', 'line-6-2-0': 'NS'}\n",
      "533 {'arcdeep-4-3-0': 'NS', 'line-6-1-0': 'NS', 'line-6-2-0': 'NS'}\n",
      "534 {'arcdeep-4-3-0': 'NS', 'line-6-1-0': 'NS', 'line-6-2-0': 'NS'}\n",
      "535 {'arcdeep-4-3-0': 'NS', 'line-6-1-0': 'S', 'line-6-2-0': 'S'}\n",
      "536 {'arcdeep-4-3-0': 'S', 'line-6-1-0': 'NS', 'line-6-2-0': 'S'}\n",
      "537 {'arcdeep-4-3-0': 'NS', 'line-6-1-0': 'NS', 'line-6-2-0': 'NS'}\n",
      "538 {'arcdeep-4-3-0': 'NS', 'line-6-1-0': 'NS', 'line-6-2-0': 'NS'}\n",
      "539 {'arcdeep-4-3-0': 'NS', 'line-6-1-0': 'NS', 'line-6-2-0': 'NS'}\n",
      "540 {'arcdeep-4-3-0': 'NS', 'line-6-1-0': 'S', 'line-6-2-0': 'NS'}\n",
      "541 {'arcdeep-4-3-0': 'NS', 'line-6-1-0': 'S', 'line-6-2-0': 'NS'}\n",
      "542 {'arcdeep-4-3-0': 'NS', 'line-6-1-0': 'S', 'line-6-2-0': 'S'}\n",
      "543 {'arcdeep-4-3-0': 'NS', 'line-6-1-0': 'NS', 'line-6-2-0': 'NS'}\n",
      "544 {'arcdeep-4-3-0': 'S', 'line-6-1-0': 'S', 'line-6-2-0': 'NS'}\n",
      "545 {'arcdeep-4-3-0': 'S', 'line-6-1-0': 'NS', 'line-6-2-0': 'NS'}\n",
      "546 {'arcdeep-4-3-0': 'NS', 'line-6-1-0': 'NS', 'line-6-2-0': 'NS'}\n",
      "547 {'arcdeep-4-3-0': 'S', 'line-6-1-0': 'S', 'line-6-2-0': 'NS'}\n",
      "548 {'arcdeep-4-3-0': 'S', 'line-6-1-0': 'NS', 'line-6-2-0': 'S'}\n",
      "549 {'arcdeep-4-3-0': 'NS', 'line-6-1-0': 'NS', 'line-6-2-0': 'NS'}\n",
      "550 {'arcdeep-4-3-0': 'NS', 'line-6-1-0': 'NS', 'line-6-2-0': 'NS'}\n",
      "551 {'arcdeep-4-3-0': 'NS', 'line-6-1-0': 'NS', 'line-6-2-0': 'NS'}\n",
      "552 {'arcdeep-4-3-0': 'NS', 'line-6-1-0': 'NS', 'line-6-2-0': 'S'}\n",
      "553 {'arcdeep-4-3-0': 'NS', 'line-6-1-0': 'NS', 'line-6-2-0': 'NS'}\n",
      "554 {'arcdeep-4-3-0': 'NS', 'line-6-1-0': 'S', 'line-6-2-0': 'NS'}\n",
      "555 {'arcdeep-4-3-0': 'S', 'line-6-1-0': 'S', 'line-6-2-0': 'NS'}\n",
      "556 {'arcdeep-4-3-0': 'NS', 'line-6-1-0': 'S', 'line-6-2-0': 'S'}\n",
      "557 {'arcdeep-4-3-0': 'NS', 'line-6-1-0': 'S', 'line-6-2-0': 'S'}\n",
      "558 {'arcdeep-4-3-0': 'S', 'line-6-1-0': 'NS', 'line-6-2-0': 'NS'}\n",
      "559 {'arcdeep-4-3-0': 'NS', 'line-6-1-0': 'NS', 'line-6-2-0': 'NS'}\n",
      "560 {'arcdeep-4-3-0': 'S', 'line-6-1-0': 'NS', 'line-6-2-0': 'NS'}\n",
      "561 {'arcdeep-4-3-0': 'NS', 'line-6-1-0': 'S', 'line-6-2-0': 'NS'}\n",
      "562 {'arcdeep-4-3-0': 'NS', 'line-6-1-0': 'NS', 'line-6-2-0': 'NS'}\n",
      "563 {'arcdeep-4-3-0': 'NS', 'line-6-1-0': 'NS', 'line-6-2-0': 'NS'}\n",
      "564 {'arcdeep-4-3-0': 'NS', 'line-6-1-0': 'NS', 'line-6-2-0': 'NS'}\n",
      "565 {'arcdeep-4-3-0': 'NS', 'line-6-1-0': 'NS', 'line-6-2-0': 'NS'}\n",
      "566 {'arcdeep-4-3-0': 'NS', 'line-6-1-0': 'NS', 'line-6-2-0': 'NS'}\n",
      "567 {'arcdeep-4-3-0': 'NS', 'line-6-1-0': 'S', 'line-6-2-0': 'NS'}\n",
      "568 {'arcdeep-4-3-0': 'NS', 'line-6-1-0': 'S', 'line-6-2-0': 'S'}\n",
      "569 {'arcdeep-4-3-0': 'S', 'line-6-1-0': 'NS', 'line-6-2-0': 'NS'}\n",
      "570 {'arcdeep-4-3-0': 'NS', 'line-6-1-0': 'S', 'line-6-2-0': 'NS'}\n",
      "571 {'arcdeep-4-3-0': 'NS', 'line-6-1-0': 'NS', 'line-6-2-0': 'NS'}\n",
      "572 {'arcdeep-4-3-0': 'S', 'line-6-1-0': 'S', 'line-6-2-0': 'NS'}\n",
      "573 {'arcdeep-4-3-0': 'S', 'line-6-1-0': 'NS', 'line-6-2-0': 'NS'}\n",
      "574 {'arcdeep-4-3-0': 'NS', 'line-6-1-0': 'S', 'line-6-2-0': 'NS'}\n",
      "575 {'arcdeep-4-3-0': 'NS', 'line-6-1-0': 'NS', 'line-6-2-0': 'NS'}\n",
      "576 {'arcdeep-4-3-0': 'NS', 'line-6-1-0': 'NS', 'line-6-2-0': 'NS'}\n",
      "577 {'arcdeep-4-3-0': 'NS', 'line-6-1-0': 'S', 'line-6-2-0': 'NS'}\n",
      "578 {'arcdeep-4-3-0': 'NS', 'line-6-1-0': 'S', 'line-6-2-0': 'NS'}\n",
      "579 {'arcdeep-4-3-0': 'S', 'line-6-1-0': 'NS', 'line-6-2-0': 'NS'}\n",
      "580 {'arcdeep-4-3-0': 'S', 'line-6-1-0': 'NS', 'line-6-2-0': 'S'}\n",
      "581 {'arcdeep-4-3-0': 'S', 'line-6-1-0': 'NS', 'line-6-2-0': 'NS'}\n",
      "582 {'arcdeep-4-3-0': 'S', 'line-6-1-0': 'NS', 'line-6-2-0': 'S'}\n",
      "583 {'arcdeep-4-3-0': 'NS', 'line-6-1-0': 'S', 'line-6-2-0': 'NS'}\n",
      "584 {'arcdeep-4-3-0': 'NS', 'line-6-1-0': 'NS', 'line-6-2-0': 'NS'}\n",
      "585 {'arcdeep-4-3-0': 'S', 'line-6-1-0': 'NS', 'line-6-2-0': 'S'}\n",
      "586 {'arcdeep-4-3-0': 'S', 'line-6-1-0': 'S', 'line-6-2-0': 'NS'}\n",
      "587 {'arcdeep-4-3-0': 'S', 'line-6-1-0': 'NS', 'line-6-2-0': 'S'}\n",
      "588 {'arcdeep-4-3-0': 'NS', 'line-6-1-0': 'NS', 'line-6-2-0': 'NS'}\n",
      "589 {'arcdeep-4-3-0': 'S', 'line-6-1-0': 'S', 'line-6-2-0': 'NS'}\n",
      "590 {'arcdeep-4-3-0': 'S', 'line-6-1-0': 'S', 'line-6-2-0': 'NS'}\n",
      "591 {'arcdeep-4-3-0': 'NS', 'line-6-1-0': 'NS', 'line-6-2-0': 'NS'}\n",
      "592 {'arcdeep-4-3-0': 'S', 'line-6-1-0': 'NS', 'line-6-2-0': 'S'}\n",
      "593 {'arcdeep-4-3-0': 'S', 'line-6-1-0': 'NS', 'line-6-2-0': 'S'}\n",
      "594 {'arcdeep-4-3-0': 'NS', 'line-6-1-0': 'NS', 'line-6-2-0': 'S'}\n",
      "595 {'arcdeep-4-3-0': 'NS', 'line-6-1-0': 'NS', 'line-6-2-0': 'NS'}\n",
      "596 {'arcdeep-4-3-0': 'NS', 'line-6-1-0': 'NS', 'line-6-2-0': 'NS'}\n",
      "597 {'arcdeep-4-3-0': 'NS', 'line-6-1-0': 'NS', 'line-6-2-0': 'S'}\n",
      "598 {'arcdeep-4-3-0': 'NS', 'line-6-1-0': 'NS', 'line-6-2-0': 'NS'}\n",
      "599 {'arcdeep-4-3-0': 'NS', 'line-6-1-0': 'S', 'line-6-2-0': 'S'}\n",
      "600 {'arcdeep-4-3-0': 'NS', 'line-6-1-0': 'S', 'line-6-2-0': 'S'}\n",
      "601 {'arcdeep-4-3-0': 'S', 'line-6-1-0': 'NS', 'line-6-2-0': 'NS'}\n",
      "602 {'arcdeep-4-3-0': 'S', 'line-6-1-0': 'NS', 'line-6-2-0': 'S'}\n",
      "603 {'arcdeep-4-3-0': 'NS', 'line-6-1-0': 'S', 'line-6-2-0': 'NS'}\n",
      "604 {'arcdeep-4-3-0': 'NS', 'line-6-1-0': 'S', 'line-6-2-0': 'S'}\n",
      "605 {'arcdeep-4-3-0': 'NS', 'line-6-1-0': 'NS', 'line-6-2-0': 'NS'}\n",
      "606 {'arcdeep-4-3-0': 'S', 'line-6-1-0': 'NS', 'line-6-2-0': 'NS'}\n",
      "607 {'arcdeep-4-3-0': 'NS', 'line-6-1-0': 'S', 'line-6-2-0': 'S'}\n",
      "608 {'arcdeep-4-3-0': 'NS', 'line-6-1-0': 'NS', 'line-6-2-0': 'NS'}\n",
      "609 {'arcdeep-4-3-0': 'S', 'line-6-1-0': 'NS', 'line-6-2-0': 'S'}\n",
      "610 {'arcdeep-4-3-0': 'NS', 'line-6-1-0': 'NS', 'line-6-2-0': 'NS'}\n",
      "611 {'arcdeep-4-3-0': 'S', 'line-6-1-0': 'NS', 'line-6-2-0': 'NS'}\n",
      "612 {'arcdeep-4-3-0': 'NS', 'line-6-1-0': 'NS', 'line-6-2-0': 'NS'}\n",
      "613 {'arcdeep-4-3-0': 'NS', 'line-6-1-0': 'S', 'line-6-2-0': 'S'}\n",
      "614 {'arcdeep-4-3-0': 'NS', 'line-6-1-0': 'NS', 'line-6-2-0': 'S'}\n",
      "615 {'arcdeep-4-3-0': 'NS', 'line-6-1-0': 'S', 'line-6-2-0': 'NS'}\n",
      "616 {'arcdeep-4-3-0': 'NS', 'line-6-1-0': 'NS', 'line-6-2-0': 'NS'}\n",
      "617 {'arcdeep-4-3-0': 'NS', 'line-6-1-0': 'NS', 'line-6-2-0': 'NS'}\n",
      "618 {'arcdeep-4-3-0': 'S', 'line-6-1-0': 'NS', 'line-6-2-0': 'NS'}\n",
      "619 {'arcdeep-4-3-0': 'S', 'line-6-1-0': 'NS', 'line-6-2-0': 'NS'}\n",
      "620 {'arcdeep-4-3-0': 'S', 'line-6-1-0': 'NS', 'line-6-2-0': 'S'}\n",
      "621 {'arcdeep-4-3-0': 'S', 'line-6-1-0': 'NS', 'line-6-2-0': 'S'}\n",
      "622 {'arcdeep-4-3-0': 'S', 'line-6-1-0': 'NS', 'line-6-2-0': 'NS'}\n",
      "623 {'arcdeep-4-3-0': 'NS', 'line-6-1-0': 'NS', 'line-6-2-0': 'NS'}\n",
      "624 {'arcdeep-4-3-0': 'NS', 'line-6-1-0': 'NS', 'line-6-2-0': 'NS'}\n",
      "625 {'arcdeep-4-3-0': 'NS', 'line-6-1-0': 'S', 'line-6-2-0': 'NS'}\n",
      "626 {'arcdeep-4-3-0': 'NS', 'line-6-1-0': 'NS', 'line-6-2-0': 'S'}\n",
      "627 {'arcdeep-4-3-0': 'S', 'line-6-1-0': 'NS', 'line-6-2-0': 'NS'}\n",
      "628 {'arcdeep-4-3-0': 'NS', 'line-6-1-0': 'NS', 'line-6-2-0': 'S'}\n",
      "629 {'arcdeep-4-3-0': 'NS', 'line-6-1-0': 'NS', 'line-6-2-0': 'NS'}\n",
      "630 {'arcdeep-4-3-0': 'NS', 'line-6-1-0': 'S', 'line-6-2-0': 'S'}\n",
      "631 {'arcdeep-4-3-0': 'S', 'line-6-1-0': 'NS', 'line-6-2-0': 'NS'}\n",
      "632 {'arcdeep-4-3-0': 'NS', 'line-6-1-0': 'S', 'line-6-2-0': 'S'}\n",
      "633 {'arcdeep-4-3-0': 'NS', 'line-6-1-0': 'S', 'line-6-2-0': 'S'}\n",
      "634 {'arcdeep-4-3-0': 'NS', 'line-6-1-0': 'NS', 'line-6-2-0': 'S'}\n",
      "635 {'arcdeep-4-3-0': 'NS', 'line-6-1-0': 'NS', 'line-6-2-0': 'S'}\n",
      "636 {'arcdeep-4-3-0': 'NS', 'line-6-1-0': 'NS', 'line-6-2-0': 'NS'}\n",
      "637 {'arcdeep-4-3-0': 'S', 'line-6-1-0': 'NS', 'line-6-2-0': 'NS'}\n",
      "638 {'arcdeep-4-3-0': 'NS', 'line-6-1-0': 'NS', 'line-6-2-0': 'S'}\n",
      "639 {'arcdeep-4-3-0': 'NS', 'line-6-1-0': 'NS', 'line-6-2-0': 'NS'}\n",
      "640 {'arcdeep-4-3-0': 'NS', 'line-6-1-0': 'NS', 'line-6-2-0': 'NS'}\n",
      "641 {'arcdeep-4-3-0': 'NS', 'line-6-1-0': 'NS', 'line-6-2-0': 'NS'}\n",
      "642 {'arcdeep-4-3-0': 'S', 'line-6-1-0': 'NS', 'line-6-2-0': 'NS'}\n",
      "643 {'arcdeep-4-3-0': 'NS', 'line-6-1-0': 'NS', 'line-6-2-0': 'S'}\n",
      "644 {'arcdeep-4-3-0': 'NS', 'line-6-1-0': 'NS', 'line-6-2-0': 'NS'}\n",
      "645 {'arcdeep-4-3-0': 'NS', 'line-6-1-0': 'NS', 'line-6-2-0': 'S'}\n",
      "646 {'arcdeep-4-3-0': 'NS', 'line-6-1-0': 'S', 'line-6-2-0': 'NS'}\n",
      "647 {'arcdeep-4-3-0': 'NS', 'line-6-1-0': 'S', 'line-6-2-0': 'S'}\n",
      "648 {'arcdeep-4-3-0': 'S', 'line-6-1-0': 'NS', 'line-6-2-0': 'S'}\n",
      "649 {'arcdeep-4-3-0': 'NS', 'line-6-1-0': 'NS', 'line-6-2-0': 'NS'}\n",
      "650 {'arcdeep-4-3-0': 'NS', 'line-6-1-0': 'S', 'line-6-2-0': 'NS'}\n",
      "651 {'arcdeep-4-3-0': 'S', 'line-6-1-0': 'NS', 'line-6-2-0': 'NS'}\n",
      "652 {'arcdeep-4-3-0': 'S', 'line-6-1-0': 'NS', 'line-6-2-0': 'NS'}\n",
      "653 {'arcdeep-4-3-0': 'NS', 'line-6-1-0': 'NS', 'line-6-2-0': 'S'}\n",
      "654 {'arcdeep-4-3-0': 'NS', 'line-6-1-0': 'S', 'line-6-2-0': 'S'}\n",
      "655 {'arcdeep-4-3-0': 'NS', 'line-6-1-0': 'NS', 'line-6-2-0': 'NS'}\n",
      "656 {'arcdeep-4-3-0': 'S', 'line-6-1-0': 'NS', 'line-6-2-0': 'NS'}\n",
      "657 {'arcdeep-4-3-0': 'NS', 'line-6-1-0': 'NS', 'line-6-2-0': 'NS'}\n",
      "658 {'arcdeep-4-3-0': 'NS', 'line-6-1-0': 'NS', 'line-6-2-0': 'NS'}\n",
      "659 {'arcdeep-4-3-0': 'S', 'line-6-1-0': 'NS', 'line-6-2-0': 'NS'}\n",
      "660 {'arcdeep-4-3-0': 'NS', 'line-6-1-0': 'S', 'line-6-2-0': 'S'}\n",
      "661 {'arcdeep-4-3-0': 'S', 'line-6-1-0': 'S', 'line-6-2-0': 'NS'}\n",
      "662 {'arcdeep-4-3-0': 'NS', 'line-6-1-0': 'NS', 'line-6-2-0': 'NS'}\n",
      "663 {'arcdeep-4-3-0': 'NS', 'line-6-1-0': 'S', 'line-6-2-0': 'NS'}\n",
      "664 {'arcdeep-4-3-0': 'S', 'line-6-1-0': 'NS', 'line-6-2-0': 'NS'}\n",
      "665 {'arcdeep-4-3-0': 'NS', 'line-6-1-0': 'NS', 'line-6-2-0': 'NS'}\n",
      "666 {'arcdeep-4-3-0': 'S', 'line-6-1-0': 'NS', 'line-6-2-0': 'NS'}\n",
      "667 {'arcdeep-4-3-0': 'NS', 'line-6-1-0': 'S', 'line-6-2-0': 'NS'}\n",
      "668 {'arcdeep-4-3-0': 'NS', 'line-6-1-0': 'NS', 'line-6-2-0': 'NS'}\n",
      "669 {'arcdeep-4-3-0': 'S', 'line-6-1-0': 'S', 'line-6-2-0': 'NS'}\n",
      "670 {'arcdeep-4-3-0': 'NS', 'line-6-1-0': 'S', 'line-6-2-0': 'NS'}\n",
      "671 {'arcdeep-4-3-0': 'NS', 'line-6-1-0': 'NS', 'line-6-2-0': 'S'}\n",
      "672 {'arcdeep-4-3-0': 'NS', 'line-6-1-0': 'S', 'line-6-2-0': 'S'}\n",
      "673 {'arcdeep-4-3-0': 'NS', 'line-6-1-0': 'NS', 'line-6-2-0': 'NS'}\n",
      "674 {'arcdeep-4-3-0': 'S', 'line-6-1-0': 'NS', 'line-6-2-0': 'S'}\n",
      "675 {'arcdeep-4-3-0': 'S', 'line-6-1-0': 'NS', 'line-6-2-0': 'NS'}\n",
      "676 {'arcdeep-4-3-0': 'NS', 'line-6-1-0': 'NS', 'line-6-2-0': 'NS'}\n",
      "677 {'arcdeep-4-3-0': 'NS', 'line-6-1-0': 'NS', 'line-6-2-0': 'NS'}\n",
      "678 {'arcdeep-4-3-0': 'NS', 'line-6-1-0': 'NS', 'line-6-2-0': 'NS'}\n",
      "679 {'arcdeep-4-3-0': 'NS', 'line-6-1-0': 'NS', 'line-6-2-0': 'NS'}\n",
      "680 {'arcdeep-4-3-0': 'NS', 'line-6-1-0': 'NS', 'line-6-2-0': 'NS'}\n",
      "681 {'arcdeep-4-3-0': 'NS', 'line-6-1-0': 'NS', 'line-6-2-0': 'NS'}\n",
      "Assinging to column: self.Dat[taskfeat_cat]\n",
      "*** RUNNING D.preprocessGood using these params:\n",
      "['remove_baseline']\n",
      "-- Len of D, before applying this param: remove_baseline, ... 682\n",
      "after: 682\n",
      "trial # 0\n",
      "trial # 100\n",
      "trial # 200\n",
      "trial # 300\n",
      "trial # 400\n",
      "trial # 500\n",
      "trial # 600\n",
      "n samples for conjunctions of score_name, agent_rule, agent_kind:\n",
      "('binsucc', 'ss-rankdir-llCV3', 'model') :     682\n",
      "Generated column called 'agent', which connects agent_kind-rule\n",
      "Generated column called 'agent', which connects agent_kind-rule\n"
     ]
    },
    {
     "data": {
      "text/plain": "<pythonlib.behmodelholder.beh_model_holder.BehModelHolder at 0x7fecfac2ec10>"
     },
     "execution_count": 47,
     "metadata": {},
     "output_type": "execute_result"
    }
   ],
   "source": [
    "D.grammarparses_successbinary_score()"
   ],
   "metadata": {
    "collapsed": false,
    "ExecuteTime": {
     "end_time": "2024-03-17T21:40:40.222995441Z",
     "start_time": "2024-03-17T21:40:16.141767375Z"
    }
   },
   "id": "c62ba5e4fe363067"
  },
  {
   "cell_type": "code",
   "execution_count": 48,
   "outputs": [
    {
     "name": "stdout",
     "output_type": "stream",
     "text": [
      "*** RUNNING D.preprocessGood using these params:\n",
      "['remove_baseline', 'correct_sequencing_binary_score', 'one_to_one_beh_task_strokes', 'beh_strokes_at_least_one']\n",
      "-- Len of D, before applying this param: remove_baseline, ... 682\n",
      "after: 682\n",
      "-- Len of D, before applying this param: correct_sequencing_binary_score, ... 682\n",
      "self.Dat starting legnth:  561\n",
      "Modified self.Dat, keeping only the inputted inds\n",
      "self.Dat final legnth:  561\n",
      "after: 561\n",
      "-- Len of D, before applying this param: one_to_one_beh_task_strokes, ... 561\n",
      "after: 561\n",
      "-- Len of D, before applying this param: beh_strokes_at_least_one, ... 561\n",
      "after: 561\n"
     ]
    },
    {
     "data": {
      "text/plain": "['remove_baseline',\n 'correct_sequencing_binary_score',\n 'one_to_one_beh_task_strokes',\n 'beh_strokes_at_least_one']"
     },
     "execution_count": 48,
     "metadata": {},
     "output_type": "execute_result"
    }
   ],
   "source": [
    "D.preprocessGood(params=['remove_baseline', 'correct_sequencing_binary_score', 'one_to_one_beh_task_strokes', 'beh_strokes_at_least_one'])"
   ],
   "metadata": {
    "collapsed": false,
    "ExecuteTime": {
     "end_time": "2024-03-17T21:41:00.383460808Z",
     "start_time": "2024-03-17T21:40:59.624519733Z"
    }
   },
   "id": "ff0958cbe489bc8d"
  },
  {
   "cell_type": "code",
   "execution_count": 57,
   "outputs": [
    {
     "data": {
      "text/plain": "({'orient_string': 'undef',\n  'shapeabstract': 'line',\n  'shape': 'line-6-2-0',\n  'shape_oriented': 'line-6-2-0',\n  'width': 0,\n  'height': 89,\n  'diag': 89,\n  'max_wh': 89,\n  'Prim': <pythonlib.primitives.primitiveclass.PrimitiveClass at 0x7fec3f5fc820>,\n  'ind_taskstroke_orig': 4,\n  'center': [158.08000000000004, 107.26400000000001],\n  'gridloc': (2, 0),\n  'gridloc_local': (2, 0),\n  'rel_from_prev': 'start',\n  'h_v_move_from_prev': 'start',\n  'CTXT_loc_prev': (0, 'START'),\n  'CTXT_loc_prev_local': (0, 'START'),\n  'CTXT_shape_prev': 'START',\n  'CTXT_loc_next': (1, -1),\n  'CTXT_loc_next_local': (1, -1),\n  'CTXT_shape_next': 'line-6-2-0',\n  'ind_behstrokes': [0],\n  'shape_semantic': 'line-UU-UU',\n  'shape_semantic_cat': 'line',\n  'center_binned': (3, 2),\n  'chunk_rank': 0,\n  'chunk_within_rank': 0,\n  'chunk_within_rank_fromlast': -3,\n  'chunk_n_in_chunk': 3},\n {'orient_string': 'undef',\n  'shapeabstract': 'line',\n  'shape': 'line-6-2-0',\n  'shape_oriented': 'line-6-2-0',\n  'width': 0,\n  'height': 89,\n  'diag': 89,\n  'max_wh': 89,\n  'Prim': <pythonlib.primitives.primitiveclass.PrimitiveClass at 0x7fec3f5fc880>,\n  'ind_taskstroke_orig': 1,\n  'center': [72.96000000000001, -45.95199999999994],\n  'gridloc': (1, -1),\n  'gridloc_local': (1, -1),\n  'rel_from_prev': 'far',\n  'h_v_move_from_prev': 'diagonal',\n  'CTXT_loc_prev': (2, 0),\n  'CTXT_loc_prev_local': (2, 0),\n  'CTXT_shape_prev': 'line-6-2-0',\n  'CTXT_loc_next': (-2, 0),\n  'CTXT_loc_next_local': (-2, 0),\n  'CTXT_shape_next': 'line-6-2-0',\n  'ind_behstrokes': [1],\n  'shape_semantic': 'line-UU-UU',\n  'shape_semantic_cat': 'line',\n  'center_binned': (3, 1),\n  'chunk_rank': 0,\n  'chunk_within_rank': 1,\n  'chunk_within_rank_fromlast': -2,\n  'chunk_n_in_chunk': 3},\n {'orient_string': 'undef',\n  'shapeabstract': 'line',\n  'shape': 'line-6-2-0',\n  'shape_oriented': 'line-6-2-0',\n  'width': 0,\n  'height': 89,\n  'diag': 89,\n  'max_wh': 89,\n  'Prim': <pythonlib.primitives.primitiveclass.PrimitiveClass at 0x7fec3f5fc940>,\n  'ind_taskstroke_orig': 2,\n  'center': [-182.40000000000003, 107.26400000000001],\n  'gridloc': (-2, 0),\n  'gridloc_local': (-2, 0),\n  'rel_from_prev': 'far',\n  'h_v_move_from_prev': 'diagonal',\n  'CTXT_loc_prev': (1, -1),\n  'CTXT_loc_prev_local': (1, -1),\n  'CTXT_shape_prev': 'line-6-2-0',\n  'CTXT_loc_next': (0, 0),\n  'CTXT_loc_next_local': (0, 0),\n  'CTXT_shape_next': 'line-6-1-0',\n  'ind_behstrokes': [2],\n  'shape_semantic': 'line-UU-UU',\n  'shape_semantic_cat': 'line',\n  'center_binned': (1, 2),\n  'chunk_rank': 0,\n  'chunk_within_rank': 2,\n  'chunk_within_rank_fromlast': -1,\n  'chunk_n_in_chunk': 3},\n {'orient_string': 'undef',\n  'shapeabstract': 'line',\n  'shape': 'line-6-1-0',\n  'shape_oriented': 'line-6-1-0',\n  'width': 89,\n  'height': 0,\n  'diag': 89,\n  'max_wh': 89,\n  'Prim': <pythonlib.primitives.primitiveclass.PrimitiveClass at 0x7fec3f5fca00>,\n  'ind_taskstroke_orig': 3,\n  'center': [-12.159999999999982, 107.26400000000007],\n  'gridloc': (0, 0),\n  'gridloc_local': (0, 0),\n  'rel_from_prev': 'far',\n  'h_v_move_from_prev': 'horizontal',\n  'CTXT_loc_prev': (-2, 0),\n  'CTXT_loc_prev_local': (-2, 0),\n  'CTXT_shape_prev': 'line-6-2-0',\n  'CTXT_loc_next': (-1, 1),\n  'CTXT_loc_next_local': (-1, 1),\n  'CTXT_shape_next': 'line-6-1-0',\n  'ind_behstrokes': [3],\n  'shape_semantic': 'line-LL-LL',\n  'shape_semantic_cat': 'line',\n  'center_binned': (2, 2),\n  'chunk_rank': 1,\n  'chunk_within_rank': 0,\n  'chunk_within_rank_fromlast': -2,\n  'chunk_n_in_chunk': 2},\n {'orient_string': 'undef',\n  'shapeabstract': 'line',\n  'shape': 'line-6-1-0',\n  'shape_oriented': 'line-6-1-0',\n  'width': 89,\n  'height': 0,\n  'diag': 89,\n  'max_wh': 89,\n  'Prim': <pythonlib.primitives.primitiveclass.PrimitiveClass at 0x7fec3f5fcac0>,\n  'ind_taskstroke_orig': 5,\n  'center': [-97.28000000000003, 260.48],\n  'gridloc': (-1, 1),\n  'gridloc_local': (-1, 1),\n  'rel_from_prev': 'far',\n  'h_v_move_from_prev': 'diagonal',\n  'CTXT_loc_prev': (0, 0),\n  'CTXT_loc_prev_local': (0, 0),\n  'CTXT_shape_prev': 'line-6-1-0',\n  'CTXT_loc_next': (1, 1),\n  'CTXT_loc_next_local': (1, 1),\n  'CTXT_shape_next': 'arcdeep-4-3-0',\n  'ind_behstrokes': [4],\n  'shape_semantic': 'line-LL-LL',\n  'shape_semantic_cat': 'line',\n  'center_binned': (1, 3),\n  'chunk_rank': 1,\n  'chunk_within_rank': 1,\n  'chunk_within_rank_fromlast': -1,\n  'chunk_n_in_chunk': 2},\n {'orient_string': 'undef',\n  'shapeabstract': 'arcdeep',\n  'shape': 'arcdeep-4-3-0',\n  'shape_oriented': 'arcdeep-4-3-0',\n  'width': 94,\n  'height': 125,\n  'diag': 157,\n  'max_wh': 125,\n  'Prim': <pythonlib.primitives.primitiveclass.PrimitiveClass at 0x7fec3f5fcb80>,\n  'ind_taskstroke_orig': 6,\n  'center': [72.96000990481039, 260.48003531856136],\n  'gridloc': (1, 1),\n  'gridloc_local': (1, 1),\n  'rel_from_prev': 'far',\n  'h_v_move_from_prev': 'horizontal',\n  'CTXT_loc_prev': (-1, 1),\n  'CTXT_loc_prev_local': (-1, 1),\n  'CTXT_shape_prev': 'line-6-1-0',\n  'CTXT_loc_next': (-1, -1),\n  'CTXT_loc_next_local': (-1, -1),\n  'CTXT_shape_next': 'arcdeep-4-3-0',\n  'ind_behstrokes': [5],\n  'shape_semantic': 'arcdeep-RR-RR',\n  'shape_semantic_cat': 'arcdeep',\n  'center_binned': (3, 3),\n  'chunk_rank': 2,\n  'chunk_within_rank': 0,\n  'chunk_within_rank_fromlast': -2,\n  'chunk_n_in_chunk': 2},\n {'orient_string': 'undef',\n  'shapeabstract': 'arcdeep',\n  'shape': 'arcdeep-4-3-0',\n  'shape_oriented': 'arcdeep-4-3-0',\n  'width': 94,\n  'height': 125,\n  'diag': 157,\n  'max_wh': 125,\n  'Prim': <pythonlib.primitives.primitiveclass.PrimitiveClass at 0x7fec3f5fcc40>,\n  'ind_taskstroke_orig': 0,\n  'center': [-97.27999009518958, -45.95196468143863],\n  'gridloc': (-1, -1),\n  'gridloc_local': (-1, -1),\n  'rel_from_prev': 'far',\n  'h_v_move_from_prev': 'diagonal',\n  'CTXT_loc_prev': (1, 1),\n  'CTXT_loc_prev_local': (1, 1),\n  'CTXT_shape_prev': 'arcdeep-4-3-0',\n  'CTXT_loc_next': ('END', 0),\n  'CTXT_loc_next_local': ('END', 0),\n  'CTXT_shape_next': 'END',\n  'ind_behstrokes': [6],\n  'shape_semantic': 'arcdeep-RR-RR',\n  'shape_semantic_cat': 'arcdeep',\n  'center_binned': (1, 1),\n  'chunk_rank': 2,\n  'chunk_within_rank': 1,\n  'chunk_within_rank_fromlast': -1,\n  'chunk_n_in_chunk': 2})"
     },
     "execution_count": 57,
     "metadata": {},
     "output_type": "execute_result"
    }
   ],
   "source": [
    "d = DS.Dataset\n",
    "d.taskclass_tokens_extract_wrapper(22, \"beh_using_task_data\")"
   ],
   "metadata": {
    "collapsed": false,
    "ExecuteTime": {
     "end_time": "2024-03-17T21:44:22.806882687Z",
     "start_time": "2024-03-17T21:44:22.597965509Z"
    }
   },
   "id": "e06b725b234f8367"
  },
  {
   "cell_type": "code",
   "execution_count": null,
   "outputs": [],
   "source": [
    "### TODO:\n",
    "# 1) in if params[\"datasetstrokes_extract_chunks_variables,(anova params) --> regenerate DS, since it needs to use the tokens from original data, not those in DS.Dat[\"datseg\"] -- OR: extract those tokens and place into DS."
   ],
   "metadata": {
    "collapsed": false
   },
   "id": "775265cec37d2603"
  },
  {
   "cell_type": "code",
   "execution_count": 58,
   "outputs": [
    {
     "name": "stdout",
     "output_type": "stream",
     "text": [
      "22\n",
      "datseg\n"
     ]
    },
    {
     "ename": "AssertionError",
     "evalue": "",
     "output_type": "error",
     "traceback": [
      "\u001B[0;31m---------------------------------------------------------------------------\u001B[0m",
      "\u001B[0;31mAssertionError\u001B[0m                            Traceback (most recent call last)",
      "Cell \u001B[0;32mIn[58], line 1\u001B[0m\n\u001B[0;32m----> 1\u001B[0m \u001B[43mDS\u001B[49m\u001B[38;5;241;43m.\u001B[39;49m\u001B[43mcontext_extract_strokeslength_list\u001B[49m\u001B[43m(\u001B[49m\u001B[38;5;241;43m1\u001B[39;49m\u001B[43m,\u001B[49m\u001B[43m \u001B[49m\u001B[38;5;124;43m\"\u001B[39;49m\u001B[38;5;124;43mdatseg\u001B[39;49m\u001B[38;5;124;43m\"\u001B[39;49m\u001B[43m)\u001B[49m\n",
      "File \u001B[0;32m/gorilla1/code/pythonlib/pythonlib/dataset/dataset_strokes.py:2317\u001B[0m, in \u001B[0;36mcontext_extract_strokeslength_list\u001B[0;34m(self, ind, column)\u001B[0m\n\u001B[1;32m   2314\u001B[0m list_dat = self.dataset_extract_strokeslength_list_ind_here(ind, column)\n\u001B[1;32m   2315\u001B[0m strokind = self.Dat.iloc[ind][\"stroke_index\"]\n\u001B[1;32m   2316\u001B[0m # print(self.Dat.iloc[strokind][column])\n\u001B[0;32m-> 2317\u001B[0m # print(list_dat[strokind])\n\u001B[1;32m   2318\u001B[0m # assert len(list_dat)>strokind, \"sanity\"\n\u001B[1;32m   2319\u001B[0m assert list_dat[strokind] == self.Dat.iloc[ind][column], \"sanity\"\n\u001B[1;32m   2320\u001B[0m return list_dat, strokind\n",
      "File \u001B[0;32m/gorilla1/code/pythonlib/pythonlib/dataset/dataset_strokes.py:1234\u001B[0m, in \u001B[0;36mDatStrokes.dataset_extract_strokeslength_list_ind_here\u001B[0;34m(self, ind, column, if_fail)\u001B[0m\n\u001B[1;32m   1231\u001B[0m trialcode \u001B[38;5;241m=\u001B[39m \u001B[38;5;28mself\u001B[39m\u001B[38;5;241m.\u001B[39mDat\u001B[38;5;241m.\u001B[39miloc[ind][\u001B[38;5;124m\"\u001B[39m\u001B[38;5;124mdataset_trialcode\u001B[39m\u001B[38;5;124m\"\u001B[39m]\n\u001B[1;32m   1232\u001B[0m \u001B[38;5;66;03m# ind_dataset = self._dataset_index(ind)\u001B[39;00m\n\u001B[1;32m   1233\u001B[0m \u001B[38;5;66;03m# assert False, \"use trialcode\"\u001B[39;00m\n\u001B[0;32m-> 1234\u001B[0m \u001B[38;5;28;01mreturn\u001B[39;00m \u001B[38;5;28;43mself\u001B[39;49m\u001B[38;5;241;43m.\u001B[39;49m\u001B[43mdataset_extract_strokeslength_list\u001B[49m\u001B[43m(\u001B[49m\u001B[43mtrialcode\u001B[49m\u001B[43m,\u001B[49m\u001B[43m \u001B[49m\u001B[43mcolumn\u001B[49m\u001B[43m,\u001B[49m\u001B[43m \u001B[49m\u001B[43mif_fail\u001B[49m\u001B[38;5;241;43m=\u001B[39;49m\u001B[43mif_fail\u001B[49m\u001B[43m)\u001B[49m\n",
      "File \u001B[0;32m/gorilla1/code/pythonlib/pythonlib/dataset/dataset_strokes.py:1290\u001B[0m, in \u001B[0;36mDatStrokes.dataset_extract_strokeslength_list\u001B[0;34m(self, trialcode, column, if_fail)\u001B[0m\n\u001B[1;32m   1286\u001B[0m         \u001B[38;5;28;01massert\u001B[39;00m tc[\u001B[38;5;241m0\u001B[39m] \u001B[38;5;241m==\u001B[39m \u001B[38;5;28mself\u001B[39m\u001B[38;5;241m.\u001B[39mDataset\u001B[38;5;241m.\u001B[39mDat\u001B[38;5;241m.\u001B[39miloc[ind_dataset][\u001B[38;5;124m\"\u001B[39m\u001B[38;5;124mtrialcode\u001B[39m\u001B[38;5;124m\"\u001B[39m]\n\u001B[1;32m   1288\u001B[0m         \u001B[38;5;28;01mreturn\u001B[39;00m df[column]\u001B[38;5;241m.\u001B[39mvalues\u001B[38;5;241m.\u001B[39mtolist()\n\u001B[0;32m-> 1290\u001B[0m \u001B[38;5;28;01mdef\u001B[39;00m \u001B[38;5;21mdataset_replace_dataset\u001B[39m(\u001B[38;5;28mself\u001B[39m, DatNew):\n\u001B[1;32m   1291\u001B[0m \u001B[38;5;250m    \u001B[39m\u001B[38;5;124;03m\"\"\"Replace entirely the beh dataset\u001B[39;00m\n\u001B[1;32m   1292\u001B[0m \u001B[38;5;124;03m    NOTE: confirmed that all indexing should still work, since it \u001B[39;00m\n\u001B[1;32m   1293\u001B[0m \u001B[38;5;124;03m    uses trialcodes \u001B[39;00m\n\u001B[1;32m   1294\u001B[0m \u001B[38;5;124;03m    \"\"\"\u001B[39;00m\n\u001B[1;32m   1295\u001B[0m     \u001B[38;5;28mself\u001B[39m\u001B[38;5;241m.\u001B[39mDataset \u001B[38;5;241m=\u001B[39m DatNew\n",
      "\u001B[0;31mAssertionError\u001B[0m: "
     ]
    }
   ],
   "source": [
    "DS.context_extract_strokeslength_list(1, \"datseg\")"
   ],
   "metadata": {
    "collapsed": false,
    "ExecuteTime": {
     "end_time": "2024-03-17T21:45:55.435362374Z",
     "start_time": "2024-03-17T21:45:50.143405649Z"
    }
   },
   "id": "59294cf29fa09d19"
  },
  {
   "cell_type": "code",
   "execution_count": 54,
   "outputs": [
    {
     "name": "stdout",
     "output_type": "stream",
     "text": [
      "0\n",
      "1\n"
     ]
    },
    {
     "ename": "KeyError",
     "evalue": "'chunk_rank'",
     "output_type": "error",
     "traceback": [
      "\u001B[0;31m---------------------------------------------------------------------------\u001B[0m",
      "\u001B[0;31mKeyError\u001B[0m                                  Traceback (most recent call last)",
      "Cell \u001B[0;32mIn[54], line 1\u001B[0m\n\u001B[0;32m----> 1\u001B[0m \u001B[43mDS\u001B[49m\u001B[38;5;241;43m.\u001B[39;49m\u001B[43mcontext_chunks_assign_columns\u001B[49m\u001B[43m(\u001B[49m\u001B[43m)\u001B[49m\n",
      "File \u001B[0;32m/gorilla1/code/pythonlib/pythonlib/dataset/dataset_strokes.py:2398\u001B[0m, in \u001B[0;36mDatStrokes.context_chunks_assign_columns\u001B[0;34m(self)\u001B[0m\n\u001B[1;32m   2396\u001B[0m list_chunk_diff \u001B[38;5;241m=\u001B[39m []\n\u001B[1;32m   2397\u001B[0m \u001B[38;5;28;01mfor\u001B[39;00m ind \u001B[38;5;129;01min\u001B[39;00m \u001B[38;5;28mrange\u001B[39m(\u001B[38;5;28mlen\u001B[39m(\u001B[38;5;28mself\u001B[39m\u001B[38;5;241m.\u001B[39mDat)):\n\u001B[0;32m-> 2398\u001B[0m     chunk_diff, rank_within_diff \u001B[38;5;241m=\u001B[39m \u001B[38;5;28;43mself\u001B[39;49m\u001B[38;5;241;43m.\u001B[39;49m\u001B[43mcontext_chunks_diff\u001B[49m\u001B[43m(\u001B[49m\u001B[43mind\u001B[49m\u001B[43m,\u001B[49m\u001B[43m \u001B[49m\u001B[43mfirst_stroke_diff_to_zero\u001B[49m\u001B[38;5;241;43m=\u001B[39;49m\u001B[38;5;28;43;01mTrue\u001B[39;49;00m\u001B[43m)\u001B[49m\n\u001B[1;32m   2399\u001B[0m     list_chunk_diff\u001B[38;5;241m.\u001B[39mappend(chunk_diff)\n\u001B[1;32m   2400\u001B[0m \u001B[38;5;28mself\u001B[39m\u001B[38;5;241m.\u001B[39mDat[\u001B[38;5;124m\"\u001B[39m\u001B[38;5;124mchunk_diff_from_prev\u001B[39m\u001B[38;5;124m\"\u001B[39m] \u001B[38;5;241m=\u001B[39m list_chunk_diff \n",
      "File \u001B[0;32m/gorilla1/code/pythonlib/pythonlib/dataset/dataset_strokes.py:2387\u001B[0m, in \u001B[0;36mDatStrokes.context_chunks_diff\u001B[0;34m(self, ind, first_stroke_diff_to_zero)\u001B[0m\n\u001B[1;32m   2385\u001B[0m     rank_within_diff \u001B[38;5;241m=\u001B[39m \u001B[38;5;28;01mNone\u001B[39;00m\n\u001B[1;32m   2386\u001B[0m \u001B[38;5;28;01melse\u001B[39;00m:\n\u001B[0;32m-> 2387\u001B[0m     chunk_diff \u001B[38;5;241m=\u001B[39m \u001B[43mtok_this\u001B[49m\u001B[43m[\u001B[49m\u001B[38;5;124;43m\"\u001B[39;49m\u001B[38;5;124;43mchunk_rank\u001B[39;49m\u001B[38;5;124;43m\"\u001B[39;49m\u001B[43m]\u001B[49m \u001B[38;5;241m-\u001B[39m tok_prev[\u001B[38;5;124m\"\u001B[39m\u001B[38;5;124mchunk_rank\u001B[39m\u001B[38;5;124m\"\u001B[39m]\n\u001B[1;32m   2388\u001B[0m     rank_within_diff \u001B[38;5;241m=\u001B[39m tok_this[\u001B[38;5;124m\"\u001B[39m\u001B[38;5;124mchunk_within_rank\u001B[39m\u001B[38;5;124m\"\u001B[39m] \u001B[38;5;241m-\u001B[39m tok_prev[\u001B[38;5;124m\"\u001B[39m\u001B[38;5;124mchunk_within_rank\u001B[39m\u001B[38;5;124m\"\u001B[39m]\n\u001B[1;32m   2389\u001B[0m \u001B[38;5;28;01mreturn\u001B[39;00m chunk_diff, rank_within_diff\n",
      "\u001B[0;31mKeyError\u001B[0m: 'chunk_rank'"
     ]
    }
   ],
   "source": [
    "DS.context_chunks_assign_columns()"
   ],
   "metadata": {
    "collapsed": false,
    "ExecuteTime": {
     "end_time": "2024-03-17T21:43:08.190690633Z",
     "start_time": "2024-03-17T21:43:03.893854608Z"
    }
   },
   "id": "12f79c2c65fc5b4f"
  },
  {
   "cell_type": "code",
   "execution_count": 49,
   "outputs": [
    {
     "name": "stdout",
     "output_type": "stream",
     "text": [
      "Starting len of self.Dat: 112\n",
      "Ending len of self.Dat: 112\n"
     ]
    },
    {
     "ename": "KeyError",
     "evalue": "'chunk_rank'",
     "output_type": "error",
     "traceback": [
      "\u001B[0;31m---------------------------------------------------------------------------\u001B[0m",
      "\u001B[0;31mKeyError\u001B[0m                                  Traceback (most recent call last)",
      "Cell \u001B[0;32mIn[49], line 11\u001B[0m\n\u001B[1;32m      8\u001B[0m     DS\u001B[38;5;241m.\u001B[39mDataset\u001B[38;5;241m.\u001B[39mgrammarparses_taskclass_tokens_assign_chunk_state_each_stroke(i)\n\u001B[1;32m     10\u001B[0m \u001B[38;5;66;03m# Third, extract variables to strokes\u001B[39;00m\n\u001B[0;32m---> 11\u001B[0m \u001B[43mDS\u001B[49m\u001B[38;5;241;43m.\u001B[39;49m\u001B[43mcontext_chunks_assign_columns\u001B[49m\u001B[43m(\u001B[49m\u001B[43m)\u001B[49m\n",
      "File \u001B[0;32m/gorilla1/code/pythonlib/pythonlib/dataset/dataset_strokes.py:2397\u001B[0m, in \u001B[0;36mDatStrokes.context_chunks_assign_columns\u001B[0;34m(self)\u001B[0m\n\u001B[1;32m   2395\u001B[0m list_chunk_diff \u001B[38;5;241m=\u001B[39m []\n\u001B[1;32m   2396\u001B[0m \u001B[38;5;28;01mfor\u001B[39;00m ind \u001B[38;5;129;01min\u001B[39;00m \u001B[38;5;28mrange\u001B[39m(\u001B[38;5;28mlen\u001B[39m(\u001B[38;5;28mself\u001B[39m\u001B[38;5;241m.\u001B[39mDat)):\n\u001B[0;32m-> 2397\u001B[0m     chunk_diff, rank_within_diff \u001B[38;5;241m=\u001B[39m \u001B[38;5;28;43mself\u001B[39;49m\u001B[38;5;241;43m.\u001B[39;49m\u001B[43mcontext_chunks_diff\u001B[49m\u001B[43m(\u001B[49m\u001B[43mind\u001B[49m\u001B[43m,\u001B[49m\u001B[43m \u001B[49m\u001B[43mfirst_stroke_diff_to_zero\u001B[49m\u001B[38;5;241;43m=\u001B[39;49m\u001B[38;5;28;43;01mTrue\u001B[39;49;00m\u001B[43m)\u001B[49m\n\u001B[1;32m   2398\u001B[0m     list_chunk_diff\u001B[38;5;241m.\u001B[39mappend(chunk_diff)\n\u001B[1;32m   2399\u001B[0m \u001B[38;5;28mself\u001B[39m\u001B[38;5;241m.\u001B[39mDat[\u001B[38;5;124m\"\u001B[39m\u001B[38;5;124mchunk_diff_from_prev\u001B[39m\u001B[38;5;124m\"\u001B[39m] \u001B[38;5;241m=\u001B[39m list_chunk_diff \n",
      "File \u001B[0;32m/gorilla1/code/pythonlib/pythonlib/dataset/dataset_strokes.py:2386\u001B[0m, in \u001B[0;36mDatStrokes.context_chunks_diff\u001B[0;34m(self, ind, first_stroke_diff_to_zero)\u001B[0m\n\u001B[1;32m   2384\u001B[0m     rank_within_diff \u001B[38;5;241m=\u001B[39m \u001B[38;5;28;01mNone\u001B[39;00m\n\u001B[1;32m   2385\u001B[0m \u001B[38;5;28;01melse\u001B[39;00m:\n\u001B[0;32m-> 2386\u001B[0m     chunk_diff \u001B[38;5;241m=\u001B[39m \u001B[43mtok_this\u001B[49m\u001B[43m[\u001B[49m\u001B[38;5;124;43m\"\u001B[39;49m\u001B[38;5;124;43mchunk_rank\u001B[39;49m\u001B[38;5;124;43m\"\u001B[39;49m\u001B[43m]\u001B[49m \u001B[38;5;241m-\u001B[39m tok_prev[\u001B[38;5;124m\"\u001B[39m\u001B[38;5;124mchunk_rank\u001B[39m\u001B[38;5;124m\"\u001B[39m]\n\u001B[1;32m   2387\u001B[0m     rank_within_diff \u001B[38;5;241m=\u001B[39m tok_this[\u001B[38;5;124m\"\u001B[39m\u001B[38;5;124mchunk_within_rank\u001B[39m\u001B[38;5;124m\"\u001B[39m] \u001B[38;5;241m-\u001B[39m tok_prev[\u001B[38;5;124m\"\u001B[39m\u001B[38;5;124mchunk_within_rank\u001B[39m\u001B[38;5;124m\"\u001B[39m]\n\u001B[1;32m   2388\u001B[0m \u001B[38;5;28;01mreturn\u001B[39;00m chunk_diff, rank_within_diff\n",
      "\u001B[0;31mKeyError\u001B[0m: 'chunk_rank'"
     ]
    }
   ],
   "source": [
    "# First, place preprocessed D (from above) into DS.\n",
    "DS.dataset_replace_dataset(D)\n",
    "# Then prune DS to match D.\n",
    "DS.dataset_prune_self_to_match_dataset()\n",
    "\n",
    "# Second, extract chunk variables from Dataset\n",
    "for i in range(len(DS.Dataset.Dat)):\n",
    "    DS.Dataset.grammarparses_taskclass_tokens_assign_chunk_state_each_stroke(i)\n",
    "\n",
    "# Third, extract variables to strokes\n",
    "DS.context_chunks_assign_columns()\n"
   ],
   "metadata": {
    "collapsed": false,
    "ExecuteTime": {
     "end_time": "2024-03-17T21:41:04.322780493Z",
     "start_time": "2024-03-17T21:41:02.633923056Z"
    }
   },
   "id": "5c5b565bec4971cd"
  },
  {
   "cell_type": "code",
   "execution_count": null,
   "outputs": [],
   "source": [
    "D = sn.Datasetbeh.copy()\n",
    "D.tokens_append_to_dataframe_column(force_regenerate=True)\n",
    "D.seqcontext_delete_all_columns()\n"
   ],
   "metadata": {
    "collapsed": false
   },
   "id": "893261fe50d8a842"
  },
  {
   "cell_type": "code",
   "execution_count": null,
   "outputs": [],
   "source": [
    "sn.Datasetbeh.taskclass_tokens_extract_wrapper(0, \"beh_using_beh_data\")"
   ],
   "metadata": {
    "collapsed": false
   },
   "id": "2b73dc777f7ca222"
  },
  {
   "cell_type": "code",
   "execution_count": null,
   "outputs": [],
   "source": [
    "D.taskclass_tokens_extract_wrapper(0, \"beh_using_beh_data\")"
   ],
   "metadata": {
    "collapsed": false
   },
   "id": "fadc1c0c876ed7c2"
  },
  {
   "cell_type": "code",
   "execution_count": null,
   "outputs": [],
   "source": [
    "D = SP.datasetbeh_extract_dataset()"
   ],
   "metadata": {
    "collapsed": false
   },
   "id": "5a18791bff3f7684"
  },
  {
   "cell_type": "code",
   "execution_count": null,
   "outputs": [],
   "source": [
    "# Generate DS"
   ],
   "metadata": {
    "collapsed": false
   },
   "id": "73be2305cd1c1f3d"
  },
  {
   "cell_type": "code",
   "execution_count": null,
   "outputs": [],
   "source": [
    "SP.DfScalar[:2]"
   ],
   "metadata": {
    "collapsed": false
   },
   "id": "bea25a4fa07eeb06"
  },
  {
   "cell_type": "code",
   "execution_count": null,
   "outputs": [],
   "source": [
    "ds = SP.datasetbeh_extract_dataset(\"datstrokes\")\n"
   ],
   "metadata": {
    "collapsed": false
   },
   "id": "e25a3c155dfdbbc"
  },
  {
   "cell_type": "markdown",
   "source": [
    "##### TO TEST (after new changes to SP)"
   ],
   "metadata": {
    "collapsed": false
   },
   "id": "af7bf5edc36e5eb2"
  },
  {
   "cell_type": "code",
   "execution_count": null,
   "outputs": [],
   "source": [
    "# Strokes --> where is DS and is it compativ with D\n",
    "# Plotting"
   ],
   "metadata": {
    "collapsed": false
   },
   "id": "13b1a6dd5a12f746"
  },
  {
   "cell_type": "code",
   "execution_count": null,
   "outputs": [],
   "source": [
    "# Pop --> no thrown out data.\n",
    "from neuralmonkey.classes.population_mult import dfallpa_extraction_load_wrapper_from_MS\n",
    "EVENTS_KEEP = [\"03_samp\", \"04_go_cue\"]\n",
    "DFallpa = dfallpa_extractdion_load_wrapper_from_MS(MS, question, [(-0.6, 0.6)], which_level,\n",
    "                                        EVENTS_KEEP, REGENERATE_SNIPPETS=True)"
   ],
   "metadata": {
    "collapsed": false
   },
   "id": "bd2bae0691f460ff"
  },
  {
   "cell_type": "code",
   "execution_count": null,
   "outputs": [],
   "source": [
    "# DEBUGGING ABOVE's dfallpa_extraction_load_wrapper_from_MS\n",
    "from pythonlib.tools.pandastools import grouping_count_n_samples_quick, grouping_count_n_samples\n",
    "# grouping_count_n_samples_quick(SP.DfScalar, [\"event\", \"index_datapt\"])\n",
    "grpdict = grouping_count_n_samples(SP.DfScalar, [\"event\", \"index_datapt\"])\n",
    "print([min(grpdict), max(grpdict)])\n",
    "\n",
    "PA, _ = SP.dataextract_as_popanal_statespace(SP.Sites, \"04_go_cue\")\n",
    "SP.dataextract_as_popanal_good(SP.DfScalar, )"
   ],
   "metadata": {
    "collapsed": false
   },
   "id": "4234faf4225fc4dc"
  },
  {
   "cell_type": "code",
   "execution_count": null,
   "outputs": [],
   "source": [
    "pa = DFallpa[\"pa\"].values[0]\n",
    "pa.plotNeurHeat(0)\n"
   ],
   "metadata": {
    "collapsed": false
   },
   "id": "8c68688f3c297e79"
  },
  {
   "cell_type": "markdown",
   "source": [
    "# Substroke snippets extract"
   ],
   "metadata": {
    "collapsed": false
   },
   "id": "f0143d312c59f7"
  },
  {
   "cell_type": "code",
   "execution_count": null,
   "outputs": [],
   "source": [
    "from neuralmonkey.classes.snippets import extraction_helper\n",
    "which_level = \"substroke\"\n",
    "SP = extraction_helper(sn, which_level, PRE_DUR=-0.1, POST_DUR=0.1)\n"
   ],
   "metadata": {
    "collapsed": false
   },
   "id": "583ff03ca0fd2d6f"
  },
  {
   "cell_type": "markdown",
   "source": [
    "### Plots"
   ],
   "metadata": {
    "collapsed": false
   },
   "id": "63f9fb731c69e035"
  },
  {
   "cell_type": "code",
   "execution_count": null,
   "outputs": [],
   "source": [
    "site = 273\n",
    "var = \"CTXT_shape_next\"\n",
    "vars_others = [\"task_kind\", \"CTXT_loc_prev\", \"shape\", \"gridloc\", \"CTXT_loc_next\"]\n",
    "plotvers = [\"smfr\"]\n",
    "suffix = 1\n",
    "fig, axesall = SP.plotgood_rasters_smfr_each_level_combined(site, var, vars_others, event=\"00_stroke\", plotvers=plotvers)\n",
    "\n",
    "from pythonlib.tools.plottools import savefig\n",
    "savefig(fig, f\"/tmp/test-{suffix}.pdf\")"
   ],
   "metadata": {
    "collapsed": false
   },
   "id": "5e6b841c17592aa"
  },
  {
   "cell_type": "code",
   "execution_count": null,
   "outputs": [],
   "source": [
    "var = \"CTXT_shape_next\"\n",
    "vars_others = [\"task_kind\", \"stroke_index\", \"shape\", \"gridloc\", \"CTXT_loc_next\"]\n",
    "suffix = 2\n",
    "fig, axesall = SP.plotgood_rasters_smfr_each_level_combined(site, var, vars_others, event=\"00_stroke\", plotvers=plotvers)\n",
    "\n",
    "savefig(fig, f\"/tmp/test-{suffix}.pdf\")"
   ],
   "metadata": {
    "collapsed": false
   },
   "id": "602d7334e64c325b"
  },
  {
   "cell_type": "code",
   "execution_count": null,
   "outputs": [],
   "source": [
    "site = 274\n",
    "var = \"CTXT_shape_next\"\n",
    "vars_others = [\"task_kind\", \"gridloc\", \"CTXT_loc_prev\", \"shape\"]\n",
    "suffix = 2\n",
    "fig, axesall = SP.plotgood_rasters_smfr_each_level_combined(site, var, vars_others, event=\"00_stroke\", plotvers=plotvers)\n",
    "\n",
    "savefig(fig, f\"/tmp/test-{suffix}.pdf\")"
   ],
   "metadata": {
    "collapsed": false
   },
   "id": "85407efeb51ec353"
  },
  {
   "cell_type": "code",
   "execution_count": null,
   "outputs": [],
   "source": [
    "site = 274\n",
    "var = \"stroke_index\"\n",
    "vars_others = [\"task_kind\", \"gridloc\", \"CTXT_loc_prev\", \"shape\"]\n",
    "suffix = 2\n",
    "fig, axesall = SP.plotgood_rasters_smfr_each_level_combined(site, var, vars_others, event=\"00_stroke\", plotvers=plotvers)\n",
    "\n",
    "savefig(fig, f\"/tmp/test-{suffix}.pdf\")"
   ],
   "metadata": {
    "collapsed": false
   },
   "id": "23b7cceef681ce48"
  },
  {
   "cell_type": "markdown",
   "source": [
    "# Stroke snippets"
   ],
   "metadata": {
    "collapsed": false
   },
   "id": "ad104c1b331d0f69"
  },
  {
   "cell_type": "code",
   "execution_count": null,
   "outputs": [],
   "source": [
    "which_level = \"stroke\"\n",
    "SP = extraction_helper(sn, which_level, PRE_DUR=-0.6, POST_DUR=0.6)\n",
    "\n",
    "\n",
    "# # == MODIFY THESE:\n",
    "# list_pre_dur = [-0.2]\n",
    "# list_post_dur = [0.4]\n",
    "# # list_pre_dur = [-0.5]\n",
    "# # list_post_dur = [0.5]\n",
    "# # which_level = \"stroke_off\"\n",
    "# which_level = \"stroke\"\n",
    "# \n",
    "# # == IGNORE THESE:\n",
    "# strokes_only_keep_single = False # if True, then prunes dataset, removing trials \"remove_if_multiple_behstrokes_per_taskstroke\"\n",
    "# prune_feature_levels_min_n_trials = 1 \n",
    "# list_events = [] # must be empty\n",
    "# list_features_extraction = []\n",
    "# list_features_get_conjunction = []\n",
    "# trials_prune_just_those_including_events=False\n",
    "# \n",
    "# SP = Snippets(sn,\n",
    "#     which_level,\n",
    "#     list_events,\n",
    "#     list_features_extraction,\n",
    "#     list_features_get_conjunction,\n",
    "#     list_pre_dur,\n",
    "#     list_post_dur,\n",
    "#     strokes_only_keep_single=strokes_only_keep_single,\n",
    "#     tasks_only_keep_these=None,\n",
    "#     prune_feature_levels_min_n_trials=prune_feature_levels_min_n_trials,\n",
    "#     dataset_pruned_for_trial_analysis=None,\n",
    "#     trials_prune_just_those_including_events=trials_prune_just_those_including_events,\n",
    "#     fr_which_version='sqrt',\n",
    "#     NEW_VERSION=True,\n",
    "#     SKIP_DATA_EXTRACTION=False\n",
    "#              )\n"
   ],
   "metadata": {
    "collapsed": false
   },
   "id": "4e03f0cc57e4d2de"
  },
  {
   "cell_type": "markdown",
   "source": [
    "# Flex snippets"
   ],
   "metadata": {
    "collapsed": false
   },
   "id": "e39e027d7c744294"
  },
  {
   "cell_type": "code",
   "execution_count": null,
   "outputs": [],
   "source": [
    "# Main code for extracting Snippets (SP)\n",
    "\n",
    "assert False, \"incorporate into extraction_helper\"\n",
    "# == MODIFY THESE:\n",
    "list_events = [\"go\"]\n",
    "list_pre_dur = [-0.5]\n",
    "list_post_dur = [0.5]\n",
    "\n",
    "# == IGNORE THESE:\n",
    "which_level = \"flex\"\n",
    "list_features_extraction = []\n",
    "list_features_get_conjunction = []\n",
    "trials_prune_just_those_including_events=False\n",
    "\n",
    "SP = Snippets(sn,\n",
    "    which_level,\n",
    "    list_events,\n",
    "    list_features_extraction,\n",
    "    list_features_get_conjunction,\n",
    "    list_pre_dur,\n",
    "    list_post_dur,\n",
    "    strokes_only_keep_single=False,\n",
    "    tasks_only_keep_these=None,\n",
    "    prune_feature_levels_min_n_trials=None,\n",
    "    dataset_pruned_for_trial_analysis=None,\n",
    "    trials_prune_just_those_including_events=trials_prune_just_those_including_events,\n",
    "    fr_which_version='sqrt',\n",
    "    NEW_VERSION=True,\n",
    "    SKIP_DATA_EXTRACTION=False\n",
    "             )\n"
   ],
   "metadata": {
    "collapsed": false
   },
   "id": "376db5e35de0b5c8"
  },
  {
   "cell_type": "code",
   "execution_count": null,
   "outputs": [],
   "source": [
    "# Inspect the data. \n",
    "# Each row represents a single combination of:\n",
    "# (trial, chan, event). To see that, inspect the output of \n",
    "\n",
    "display(SP.DfScalar)\n",
    "\n",
    "from pythonlib.tools.pandastools import grouping_print_n_samples\n",
    "grouping_print_n_samples(SP.DfScalar, [\"trialcode\", \"chan\", \"event_aligned\"])\n"
   ],
   "metadata": {
    "collapsed": false
   },
   "id": "7034689c6cfa7baf"
  },
  {
   "cell_type": "markdown",
   "source": [
    "# Trial Snippets"
   ],
   "metadata": {
    "collapsed": false
   },
   "id": "c16e657c6542b125"
  },
  {
   "cell_type": "code",
   "execution_count": null,
   "outputs": [],
   "source": [
    "which_level = \"trial\"\n",
    "SP = extraction_helper(sn, which_level, PRE_DUR=-0.6, POST_DUR=0.6)\n"
   ],
   "metadata": {
    "collapsed": false
   },
   "id": "c2c491a6a7cc9580"
  },
  {
   "cell_type": "markdown",
   "source": [
    "# Load pre-computed Snippets"
   ],
   "metadata": {
    "collapsed": false
   },
   "id": "8e72ff6e565888a"
  },
  {
   "cell_type": "code",
   "execution_count": null,
   "outputs": [],
   "source": [
    "from neuralmonkey.classes.snippets import load_and_concat_mult_snippets\n",
    "from neuralmonkey.classes.session import load_mult_session_helper\n"
   ],
   "metadata": {
    "collapsed": false
   },
   "id": "29629f72c8823d45"
  },
  {
   "cell_type": "code",
   "execution_count": null,
   "outputs": [],
   "source": [
    "# DATE = 230630\n",
    "# animal = \"Diego\"\n",
    "DATE = 230126\n",
    "animal = \"Pancho\"\n",
    "spikes_version = \"tdt\"\n",
    "MS = load_mult_session_helper(DATE, animal, MINIMAL_LOADING=True, spikes_version=spikes_version) \n",
    "# MS = load_mult_session_helper(DATE, animal, MINIMAL_LOADING=True, spikes_version=\"tdt\") "
   ],
   "metadata": {
    "collapsed": false
   },
   "id": "6611eaf71ac6fbda"
  },
  {
   "cell_type": "code",
   "execution_count": null,
   "outputs": [],
   "source": [
    "which_level = \"trial\"\n",
    "SP, SAVEDIR_ALL = load_and_concat_mult_snippets(MS, which_level = which_level,\n",
    "    DEBUG=False)\n"
   ],
   "metadata": {
    "collapsed": false
   },
   "id": "d1e30ffab2836139"
  },
  {
   "cell_type": "code",
   "execution_count": null,
   "outputs": [],
   "source": [
    "Dgood, _ = SP.datasetbeh_preprocess_clean_by_expt(\"chartrial\", [])"
   ],
   "metadata": {
    "collapsed": false
   },
   "id": "d79c2271b6851d96"
  },
  {
   "cell_type": "code",
   "execution_count": null,
   "outputs": [],
   "source": [
    "SP.DfScalar[\"seqc_0_shape\"].unique()"
   ],
   "metadata": {
    "collapsed": false
   },
   "id": "b410b6f3ff690cfd"
  },
  {
   "cell_type": "code",
   "execution_count": null,
   "outputs": [],
   "source": [
    "D = SP.datasetbeh_extract_dataset()\n",
    "D.seqcontext_preprocess()\n",
    "SP.datasetbeh_append_column_helper([\"seqc_0_shape\", \"task_kind\"])"
   ],
   "metadata": {
    "collapsed": false
   },
   "id": "d85e00d6bf36e27f"
  },
  {
   "cell_type": "code",
   "execution_count": null,
   "outputs": [],
   "source": [
    "\n",
    "SP.plotgood_rasters_smfr_each_level_combined(SP.Sites[0], var=\"seqc_0_shape\", vars_others=[\"task_kind\"], event=\"03_samp\", \n",
    "                                             OVERWRITE_n_min=5,\n",
    "                                                  OVERWRITE_lenient_n=1, plotvers=(\"smfr\",),\n",
    "                                                    balance_same_levels_across_ovar=True)"
   ],
   "metadata": {
    "collapsed": false
   },
   "id": "399fad3e3f01b396"
  },
  {
   "cell_type": "code",
   "execution_count": null,
   "outputs": [],
   "source": [
    "\n"
   ],
   "metadata": {
    "collapsed": false
   },
   "id": "afd6a70f3108ab70"
  },
  {
   "cell_type": "code",
   "execution_count": null,
   "outputs": [],
   "source": [
    "SP.datasetbeh_append_column(\"epoch\")"
   ],
   "metadata": {
    "collapsed": false
   },
   "id": "aeb62197a552682"
  },
  {
   "cell_type": "code",
   "execution_count": null,
   "outputs": [],
   "source": [
    "D = SP.datasetbeh_extract_dataset()\n",
    "D.seqcontext_preprocess()"
   ],
   "metadata": {
    "collapsed": false
   },
   "id": "36713d86ebef8e38"
  },
  {
   "cell_type": "code",
   "execution_count": null,
   "outputs": [],
   "source": [
    "del SP.DfScalar[\"seqc_0_shape\"]"
   ],
   "metadata": {
    "collapsed": false
   },
   "id": "7103e31bcad5c418"
  },
  {
   "cell_type": "code",
   "execution_count": null,
   "outputs": [],
   "source": [
    "SP.datasetbeh_append_column_helper([\"seqc_0_shape\"])\n",
    "\n",
    "from pythonlib.tools.pandastools import replace_values_with_this\n",
    "\n",
    "# if \"seqc_0_loc\" in SP.DfScalar.columns:\n",
    "#     replace_values_with_this(SP.DfScalar, \"seqc_0_loc\", None, (\"IGN\", \"IGN\"))"
   ],
   "metadata": {
    "collapsed": false
   },
   "id": "f3229659ddb68f1d"
  },
  {
   "cell_type": "code",
   "execution_count": null,
   "outputs": [],
   "source": [
    "SP.DfScalar[\"shape_this_event\"] = SP.DfScalar[\"seqc_0_shape\"]\n"
   ],
   "metadata": {
    "collapsed": false
   },
   "id": "43d221c122b8834e"
  },
  {
   "cell_type": "code",
   "execution_count": null,
   "outputs": [],
   "source": [
    "SP.DfScalar\n"
   ],
   "metadata": {
    "collapsed": false
   },
   "id": "67f3fc1a5e355959"
  },
  {
   "cell_type": "code",
   "execution_count": null,
   "outputs": [],
   "source": [],
   "metadata": {
    "collapsed": false
   },
   "id": "927160d3aec914bb"
  },
  {
   "cell_type": "code",
   "execution_count": null,
   "outputs": [],
   "source": [
    "SP.datasetbeh_append_column_helper([\"seqc_0_shape\", \"seqc_0_loc\"])"
   ],
   "metadata": {
    "collapsed": false
   },
   "id": "15f19f401a2ea024"
  },
  {
   "cell_type": "code",
   "execution_count": null,
   "outputs": [],
   "source": [
    "columns = [\"seqc_0_shape\", \"seqc_0_loc\", \"taskconfig_loc\", \"shape_semantic_labels\"]\n",
    "SP.DfScalar.loc[:, columns]\n",
    "df1 = SP.DfScalar.loc[:, columns].copy()\n",
    "for col in columns:\n",
    "    del SP.DfScalar[col]\n",
    "    \n",
    "for col in columns:\n",
    "    SP.datasetbeh_append_column(col, Dataset=Dgood)\n",
    "df2 = SP.DfScalar.loc[:, columns].copy()\n",
    "\n",
    "np.all(df1==df2)"
   ],
   "metadata": {
    "collapsed": false
   },
   "id": "1ae170a935270b41"
  },
  {
   "cell_type": "markdown",
   "source": [
    "##### FIxing methods for concating Dataset across snippetsb"
   ],
   "metadata": {
    "collapsed": false
   },
   "id": "96768e4264e3fd1a"
  },
  {
   "cell_type": "code",
   "execution_count": null,
   "outputs": [],
   "source": [
    "\n",
    "SP.DS.Dat[\"gridloc\"] = None\n",
    "SP.DS.Dat[\"gridloc\"]"
   ],
   "metadata": {
    "collapsed": false
   },
   "id": "f49fb70e9f74f340"
  },
  {
   "cell_type": "code",
   "execution_count": null,
   "outputs": [],
   "source": [
    "df = SP.DfScalar\n",
    "from pythonlib.tools.pandastools import extract_with_levels_of_conjunction_vars\n",
    "\n",
    "extract_with_levels_of_conjunction_vars()"
   ],
   "metadata": {
    "collapsed": false
   },
   "id": "72f4c66686a8fffd"
  },
  {
   "cell_type": "code",
   "execution_count": null,
   "outputs": [],
   "source": [
    "\n",
    "SP.DfScalar[:5]"
   ],
   "metadata": {
    "collapsed": false
   },
   "id": "53fc1ec9d3bdbe0b"
  },
  {
   "cell_type": "code",
   "execution_count": null,
   "outputs": [],
   "source": [
    "\n",
    "SP.DS.Dat[\"gridloc\"][40:50]"
   ],
   "metadata": {
    "collapsed": false
   },
   "id": "6271181acd992b05"
  },
  {
   "cell_type": "code",
   "execution_count": null,
   "outputs": [],
   "source": [
    "SP.DS.clean_preprocess_if_reloaded()"
   ],
   "metadata": {
    "collapsed": false
   },
   "id": "991060cc4e4b2d1b"
  },
  {
   "cell_type": "code",
   "execution_count": null,
   "outputs": [],
   "source": [
    "SP.DS.Dat[\"gridloc\"][40:50]\n"
   ],
   "metadata": {
    "collapsed": false
   },
   "id": "cc3a790c15b29f51"
  },
  {
   "cell_type": "code",
   "execution_count": null,
   "outputs": [],
   "source": [
    "SP.DS.Dat[1740:1760]"
   ],
   "metadata": {
    "collapsed": false
   },
   "id": "6ef988f7f1d7313e"
  },
  {
   "cell_type": "code",
   "execution_count": null,
   "outputs": [],
   "source": [
    "list_sn = SP._session_extract_all()\n",
    "for sn in list_sn:\n",
    "    sn.Datasetbeh.TokensVersion = \"test\"\n",
    "    sn.Datasetbeh.Tokens = {tc:None for tc in sn.Datasetbeh.Dat[\"trialcode\"]}\n",
    "    print(sn.Datasetbeh.TokensVersion)\n",
    "sn.Datasetbeh.TokensVersion = \"test\"\n"
   ],
   "metadata": {
    "collapsed": false
   },
   "id": "505e4071d1c51b1f"
  },
  {
   "cell_type": "code",
   "execution_count": null,
   "outputs": [],
   "source": [
    "%%timeit\n",
    "D = SP.datasetbeh_extract_dataset()\n",
    "D.TokensVersion"
   ],
   "metadata": {
    "collapsed": false
   },
   "id": "d48bd095e51021a6"
  },
  {
   "cell_type": "code",
   "execution_count": null,
   "outputs": [],
   "source": [],
   "metadata": {
    "collapsed": false
   },
   "id": "2857e9e48f6db12b"
  },
  {
   "cell_type": "code",
   "execution_count": null,
   "outputs": [],
   "source": [
    "SP.DS.Dat[:2]"
   ],
   "metadata": {
    "collapsed": false
   },
   "id": "556ea702cce01c9b"
  },
  {
   "cell_type": "code",
   "execution_count": null,
   "outputs": [],
   "source": [
    "SP.DS.Dat[SP.DS.Dat.isnull()]"
   ],
   "metadata": {
    "collapsed": false
   },
   "id": "f834053f37bd8ffb"
  },
  {
   "cell_type": "code",
   "execution_count": null,
   "outputs": [],
   "source": [
    "# Specify the columns where you want to replace None values\n",
    "columns_to_update = ['A', 'B']\n",
    "\n",
    "# Replace None with 'IGNORE' in the specified columns\n",
    "for column in columns_to_update:\n",
    "    df.loc[df[column].isna(), column] = 'IGNORE'\n",
    "\n",
    "# Display the updated DataFrame\n",
    "display(df)"
   ],
   "metadata": {
    "collapsed": false
   },
   "id": "fe6ae21f70d2a597"
  },
  {
   "cell_type": "code",
   "execution_count": null,
   "outputs": [],
   "source": [
    "sum(df[\"B\"]==(None, None))"
   ],
   "metadata": {
    "collapsed": false
   },
   "id": "49b0ee354c85f0b0"
  },
  {
   "cell_type": "code",
   "execution_count": null,
   "outputs": [],
   "source": [
    "import pandas as pd\n",
    "import numpy as np\n",
    "data = {\n",
    "    'A': [1, None, 3, 4],\n",
    "    'B': ['x', 'y', None, (None, None)],\n",
    "    'C': [None, None, 'foo', 'bar']\n",
    "}\n",
    "\n",
    "df = pd.DataFrame(data)\n",
    "display(df)\n",
    "\n",
    "value_template = \"x\"\n",
    "# value_template = (None, None)\n",
    "# replace_with = (\"IGN\", \"IGN\")\n",
    "replace_with = \"IGN\"\n",
    "replace_values_with_this(df, \"B\", value_template, replace_with)\n",
    "display(df)"
   ],
   "metadata": {
    "collapsed": false
   },
   "id": "c54c2deeca8a4baf"
  },
  {
   "cell_type": "code",
   "execution_count": null,
   "outputs": [],
   "source": [
    "from pythonlib.tools.pandastools import replace_values_with_this\n",
    "df = SP.DS.Dat\n",
    "columns_to_update = ['gridloc', 'gridloc_local', 'CTXT_loc_prev', 'CTXT_loc_prev_local', 'CTXT_loc_next', 'CTXT_loc_next_local']\n",
    "replace_with = (\"IGN\", \"IGN\")\n",
    "for column in columns_to_update:\n",
    "    replace_values_with_this(df, column, None, replace_with)\n",
    "    replace_values_with_this(df, column, (None, None), replace_with)\n",
    "\n",
    "columns_to_update = ['gridloc_x', 'gridloc_y']\n",
    "replace_with = \"IGN\"\n",
    "for column in columns_to_update:\n",
    "    replace_values_with_this(df, column, None, replace_with)\n",
    "    replace_values_with_this(df, column, (None,), replace_with)\n",
    "    \n"
   ],
   "metadata": {
    "collapsed": false
   },
   "id": "6bc4de3a15c20721"
  },
  {
   "cell_type": "code",
   "execution_count": null,
   "outputs": [],
   "source": [
    "[col for col in SP.DS.Dat.columns if \"shape\" in col]"
   ],
   "metadata": {
    "collapsed": false
   },
   "id": "721519588d922062"
  },
  {
   "cell_type": "code",
   "execution_count": null,
   "outputs": [],
   "source": [
    "SP.DS.Dat[\"CTXT_shape_next\"]"
   ],
   "metadata": {
    "collapsed": false
   },
   "id": "dba9468f39a91953"
  },
  {
   "cell_type": "code",
   "execution_count": null,
   "outputs": [],
   "source": [
    "\n",
    "\n",
    "                     \n",
    " 'CTXT_locshape_next',\n",
    " 'CTXT_locshape_prev',\n",
    " 'velocity']]\n",
    "for column in columns_to_update:\n",
    "    df.loc[df[column].isna(), column] = 'IGNORE'\n"
   ],
   "metadata": {
    "collapsed": false
   },
   "id": "5a2c4636c8b1ab25"
  },
  {
   "cell_type": "code",
   "execution_count": null,
   "outputs": [],
   "source": [
    "%%timeit\n",
    "SP.datasetbeh_extract_dataset(\"datstrokes\")"
   ],
   "metadata": {
    "collapsed": false
   },
   "id": "3bb1cb6e4fd27b67"
  },
  {
   "cell_type": "code",
   "execution_count": null,
   "outputs": [],
   "source": [
    "SP"
   ],
   "metadata": {
    "collapsed": false
   },
   "id": "24018f19e45b5b57"
  },
  {
   "cell_type": "markdown",
   "source": [
    "# Doing things with Snippets"
   ],
   "metadata": {
    "collapsed": false
   },
   "id": "68c06b83fdbd35a5"
  },
  {
   "cell_type": "markdown",
   "source": [
    "### Strokes SP --> Reclassify events based on stroke index. Then extract multiple pa, one for each stroke index"
   ],
   "metadata": {
    "collapsed": false
   },
   "id": "93c3ff99fc9a02dc"
  },
  {
   "cell_type": "code",
   "execution_count": null,
   "outputs": [],
   "source": [
    "##### Entire pipeline\n",
    "from neuralmonkey.classes.population_mult import dfallpa_extraction_load_wrapper_combine_trial_strokes\n",
    "animal = \"Diego\"\n",
    "date = 230630\n",
    "question_trial = \"PIG_BASE_trial\"\n",
    "question_stroke = \"PIG_BASE_stroke\"\n",
    "list_time_windows = [(-0.6, 0.6)]\n",
    "combine_into_larger_areas = True\n",
    "HACK_RENAME_SHAPES = False\n",
    "exclude_bad_areas=True\n",
    "strokes_split_into_multiple_pa = True\n",
    "DFallpaALL = dfallpa_extraction_load_wrapper_combine_trial_strokes(animal, date, question_trial,\n",
    "                                                                   question_stroke,\n",
    "                                            list_time_windows,\n",
    "                                                       combine_into_larger_areas = combine_into_larger_areas, exclude_bad_areas=exclude_bad_areas,\n",
    "                                            SPIKES_VERSION=\"tdt\",\n",
    "                                            HACK_RENAME_SHAPES = HACK_RENAME_SHAPES)"
   ],
   "metadata": {
    "collapsed": false
   },
   "id": "83bd3951e7494e64"
  },
  {
   "cell_type": "code",
   "execution_count": null,
   "outputs": [],
   "source": [
    "DFallpaALL[\"event\"].value_counts()"
   ],
   "metadata": {
    "collapsed": false
   },
   "id": "148703efbcd5914c"
  },
  {
   "cell_type": "code",
   "execution_count": null,
   "outputs": [],
   "source": [
    "pa = DFallpaALL[\"pa\"].values[0]\n",
    "pa.Xlabels[\"trials\"][\"seqc_5_shape\"]\n"
   ],
   "metadata": {
    "collapsed": false
   },
   "id": "a6624e656aba0d7a"
  },
  {
   "cell_type": "code",
   "execution_count": null,
   "outputs": [],
   "source": [
    "pa = DFallpaALL[\"pa\"].values[-1]\n",
    "\n",
    "# Figure out how long is seuqence\n",
    "n_strokes_max = -1\n",
    "for i in range(8):\n",
    "    n_ignore = sum(pa.Xlabels[\"trials\"][f\"seqc_{i}_shape\"]==\"IGNORE\")\n",
    "    n_total = len(pa.Xlabels[\"trials\"][f\"seqc_{i}_shape\"])\n",
    "    print(n_ignore, n_total)\n",
    "    if n_ignore<n_total:\n",
    "        n_strokes_max=i+1\n",
    "assert n_strokes_max>0\n",
    "print(n_strokes_max)\n",
    "\n"
   ],
   "metadata": {
    "collapsed": false
   },
   "id": "7bd898c1d25127fb"
  },
  {
   "cell_type": "markdown",
   "source": [
    "### [Substrokes] - extract continuous motor variables ( methods to get substroke motor bin and context)"
   ],
   "metadata": {
    "collapsed": false
   },
   "id": "a45a298e1f4a8b78"
  },
  {
   "cell_type": "code",
   "execution_count": null,
   "outputs": [],
   "source": [
    "SP.datasetbeh_preprocess_clean_by_expt(\"substrokes_sp\", [])\n",
    "# Extract motor variables (DS)\n",
    "DS = SP.datasetbeh_extract_dataset(\"datstrokes\").copy()"
   ],
   "metadata": {
    "collapsed": false
   },
   "id": "1ff492e622c8f714"
  },
  {
   "cell_type": "code",
   "execution_count": null,
   "outputs": [],
   "source": [
    "\n",
    "from pythonlib.dataset.substrokes import features_motor_extract_and_bin\n",
    "features_motor_extract_and_bin(DS, \"/tmp\")\n"
   ],
   "metadata": {
    "collapsed": false
   },
   "id": "d047a39d976c71b0"
  },
  {
   "cell_type": "code",
   "execution_count": null,
   "outputs": [],
   "source": [],
   "metadata": {
    "collapsed": false
   },
   "id": "f5809ac2921622a5"
  },
  {
   "cell_type": "markdown",
   "source": [
    "##### Getting substroke sequential context"
   ],
   "metadata": {
    "collapsed": false
   },
   "id": "3dc4e6a0eef3926d"
  },
  {
   "cell_type": "code",
   "execution_count": null,
   "outputs": [],
   "source": [
    "# How mnay cases with variation in shapes, conditioned on substroke motor, including context.\n",
    "\n",
    "from pythonlib.tools.pandastools import extract_with_levels_of_conjunction_vars\n",
    "var = \"shape_idxwithin\"\n",
    "vars_others = [\"di_an_ci_ve_bin\", \"CTXT_prev_this_next\"]\n",
    "extract_with_levels_of_conjunction_vars(DS.Dat, var, vars_others, n_min_across_all_levs_var=2, \n",
    "                                        lenient_allow_data_if_has_n_levels=2, prune_levels_with_low_n=True, plot_counts_heatmap_savepath=\"/tmp/test.png\")\n"
   ],
   "metadata": {
    "collapsed": false
   },
   "id": "7efd7acf9837e65f"
  },
  {
   "cell_type": "code",
   "execution_count": null,
   "outputs": [],
   "source": [
    "DS.plot_multiple_sorted_by_feature_split_by_othervar(var, vars_others, plot_save_dir=\"/tmp\")"
   ],
   "metadata": {
    "collapsed": false
   },
   "id": "47363de32646a72"
  },
  {
   "cell_type": "code",
   "execution_count": null,
   "outputs": [],
   "source": [
    "# Remove all data for which dont have the entire stroke, since then cant look at sequence context\n",
    "DS.clean_preprocess_data([\"dataset_missing_stroke_in_context\"])"
   ],
   "metadata": {
    "collapsed": false
   },
   "id": "6b20737483111b6f"
  },
  {
   "cell_type": "code",
   "execution_count": null,
   "outputs": [],
   "source": [
    "len(keeps)\n",
    "# len(DS.Dat)"
   ],
   "metadata": {
    "collapsed": false
   },
   "id": "730e020eec88ab3a"
  },
  {
   "cell_type": "code",
   "execution_count": null,
   "outputs": [],
   "source": [
    "50/1601"
   ],
   "metadata": {
    "collapsed": false
   },
   "id": "b95018b27c456e1"
  },
  {
   "cell_type": "markdown",
   "source": [
    "##### Method - from D to substrokes Dataset"
   ],
   "metadata": {
    "collapsed": false
   },
   "id": "fcf228434d2ab86"
  },
  {
   "cell_type": "code",
   "execution_count": null,
   "outputs": [],
   "source": [
    "from pythonlib.dataset.substrokes import load_presaved_using_pipeline\n",
    "DSsubs, Dsubs = load_presaved_using_pipeline(D)"
   ],
   "metadata": {
    "collapsed": false
   },
   "id": "f02d5e1120a753b"
  },
  {
   "cell_type": "markdown",
   "source": [
    "##### Splitting by n taksstrokes intask"
   ],
   "metadata": {
    "collapsed": false
   },
   "id": "34241cad68f62182"
  },
  {
   "cell_type": "code",
   "execution_count": null,
   "outputs": [],
   "source": [
    "D = SP.datasetbeh_extract_dataset()\n",
    "D.extract_beh_features([\"num_strokes_task\"])\n",
    "SP.datasetbeh_append_column(\"FEAT_num_strokes_task\", D)\n",
    "# Conjunction of stroke index and num strokes in task.\n",
    "from pythonlib.tools.pandastools import append_col_with_grp_index\n",
    "SP.DfScalar = append_col_with_grp_index(SP.DfScalar, [\"FEAT_num_strokes_task\", \"stroke_index\"], \"nstk_stkidx\", False)\n",
    "SP.DfScalar[\"nstk_stkidx\"].value_counts()\n",
    "\n",
    "SP.DfScalar_OutlierRows = append_col_with_grp_index(SP.DfScalar_OutlierRows, [\"FEAT_num_strokes_task\", \"stroke_index\"], \"nstk_stkidx\", False)\n",
    "SP.DfScalar_OutlierRows[\"nstk_stkidx\"].value_counts()\n",
    "\n"
   ],
   "metadata": {
    "collapsed": false
   },
   "id": "d713b28c420def0d"
  },
  {
   "cell_type": "markdown",
   "source": [
    "##### Plotting functions for Snippets"
   ],
   "metadata": {
    "collapsed": false
   },
   "id": "1581f9306ff7aee5"
  },
  {
   "cell_type": "code",
   "execution_count": null,
   "outputs": [],
   "source": [
    "SAVEDIR = \"/gorilla1/analyses/recordings/main/shape_vs_loc_index_PIG\"\n",
    "import os\n",
    "savedir = f\"{SAVEDIR}/{animal}/{DATE}\"\n",
    "os.makedirs(savedir, exist_ok=True)\n",
    "print(savedir)"
   ],
   "metadata": {
    "collapsed": false
   },
   "id": "53f7760d5b702d8c"
  },
  {
   "cell_type": "code",
   "execution_count": null,
   "outputs": [],
   "source": [
    "if DEBUG:\n",
    "    # if you debug, then you have small n trials, so lower the threshold for keeping data.\n",
    "    print(SP.ParamsGlobals)1\n",
    "    SP.globals_update(globals_nmin=1)\n"
   ],
   "metadata": {
    "collapsed": false
   },
   "id": "19ce3ec11b83e8fc"
  },
  {
   "cell_type": "code",
   "execution_count": null,
   "outputs": [],
   "source": [
    "chan = SP.Sites[0]\n",
    "SP.plotgood_rasters(chan)"
   ],
   "metadata": {
    "collapsed": false
   },
   "id": "a346cbba622767ab"
  },
  {
   "cell_type": "code",
   "execution_count": null,
   "outputs": [],
   "source": [
    "SP.plotgood_rasters_smfr_combined(chan)"
   ],
   "metadata": {
    "collapsed": false
   },
   "id": "28b2f39b1e8153a1"
  },
  {
   "cell_type": "code",
   "execution_count": null,
   "outputs": [],
   "source": [
    "sn.sitegetter_print_summarytext_each_unit()"
   ],
   "metadata": {
    "collapsed": false
   },
   "id": "a8fb894f6540a8c6"
  },
  {
   "cell_type": "code",
   "execution_count": null,
   "outputs": [],
   "source": [
    "chan = SP.Sites[1]\n",
    "for PLOT_VER in [\"smfr\", \"raster\"]:\n",
    "    SP.plotgood_smfr_each_level_subplot_grid_by_vars(chan, \"shape_oriented\", \n",
    "                                                     \"gridloc\", \"stroke_index\",\n",
    "                                                     PLOT_VER=PLOT_VER);"
   ],
   "metadata": {
    "collapsed": false
   },
   "id": "e951eb32f22bd409"
  },
  {
   "cell_type": "code",
   "execution_count": null,
   "outputs": [],
   "source": [
    "# Rasters and smoothed FR, split by event\n",
    "\n",
    "# SP.datasetbeh_append_column(\"epoch\", sn.Datasetbeh) # assign epoch to SP\n",
    "\n",
    "chan = SP.Sites[1]\n",
    "SP.plotgood_rasters_smfr_each_level_combined(chan, var=\"shape_oriented\", vars_others=[\"gridloc\", \"stroke_index\"]);\n",
    "SP.plotgood_rasters_smfr_each_level_combined(chan, var=\"shape_oriented\", vars_others=[\"gridloc\"]);\n",
    "SP.plotgood_rasters_smfr_each_level_combined(chan, var=\"shape_oriented\", vars_others=[\"stroke_index\"]);\n"
   ],
   "metadata": {
    "collapsed": false
   },
   "id": "485669cb9db872f8"
  },
  {
   "cell_type": "code",
   "execution_count": null,
   "outputs": [],
   "source": [
    "# Show heatmap, conjucntion of other variables (how balanced is it).\n",
    "from pythonlib.tools.pandastools import convert_to_2d_dataframe, grouping_plot_n_samples_conjunction_heatmap\n",
    "# \n",
    "# convert_to_2d_dataframe(SP.DfScalar, \"\")\n",
    "\n",
    "fig = grouping_plot_n_samples_conjunction_heatmap(SP.DfScalar, \"shape_oriented\", \"gridloc\", [\"stroke_index\"])"
   ],
   "metadata": {
    "collapsed": false
   },
   "id": "aa4c0fa6443113b1"
  },
  {
   "cell_type": "code",
   "execution_count": null,
   "outputs": [],
   "source": [
    "chan = SP.Sites[6]\n",
    "PLOT_VER = \"smfr\"\n",
    "SP.plotgood_smfr_each_level_subplot_grid_by_vars(chan, \"shape_oriented\", \n",
    "                                                 \"gridloc\", \"nstk_stkidx\",\n",
    "                                                 PLOT_VER=PLOT_VER);"
   ],
   "metadata": {
    "collapsed": false
   },
   "id": "bdd427e339e8a8e5"
  },
  {
   "cell_type": "code",
   "execution_count": null,
   "outputs": [],
   "source": [
    "chan = SP.Sites[1]"
   ],
   "metadata": {
    "collapsed": false
   },
   "id": "18e00162a8cc9f3d"
  },
  {
   "cell_type": "code",
   "execution_count": null,
   "outputs": [],
   "source": [
    "chan = SP.Sites[1]"
   ],
   "metadata": {
    "collapsed": false
   },
   "id": "a7c636cec88c90d9"
  },
  {
   "cell_type": "code",
   "execution_count": null,
   "outputs": [],
   "source": [
    "SP.plotgood_rasters_smfr_each_level_combined(chan, var=\"shape_oriented\", vars_others=[\"nstk_stkidx\"]);\n"
   ],
   "metadata": {
    "collapsed": false
   },
   "id": "a6f0eea18a706a23"
  },
  {
   "cell_type": "code",
   "execution_count": null,
   "outputs": [],
   "source": [
    "SP"
   ],
   "metadata": {
    "collapsed": false
   },
   "id": "98f2d081d5c47de"
  },
  {
   "cell_type": "markdown",
   "source": [
    "##### Rasters: substrokes..."
   ],
   "metadata": {
    "collapsed": false
   },
   "id": "f194fe1902af29d5"
  },
  {
   "cell_type": "code",
   "execution_count": null,
   "outputs": [],
   "source": [
    "\n",
    "SP.datasetbeh_append_column_helper([\"shape_idxwithin\"])\n"
   ],
   "metadata": {
    "collapsed": false
   },
   "id": "d4f12956f7238555"
  },
  {
   "cell_type": "code",
   "execution_count": null,
   "outputs": [],
   "source": [
    "chan = SP.sitegetter_map_region_to_sites(\"PMv_m\")[0]\n",
    "# SP.plotgood_smfr_each_level_subplot_grid_by_vars(chan, var, vars_other[0], vars_other[1], PLOT_VER=\"smfr\");\n",
    "SP.plotgood_rasters_smfr_each_level_combined(chan, var, vars_other, plotvers=(\"smfr\"));\n",
    "\n",
    "chan = SP.sitegetter_map_region_to_sites(\"M1_m\")[1]\n",
    "# SP.plotgood_smfr_each_level_subplot_grid_by_vars(chan, var, vars_other[0], vars_other[1], PLOT_VER=\"smfr\");\n",
    "SP.plotgood_rasters_smfr_each_level_combined(chan, var, vars_other, plotvers=(\"smfr\"));\n"
   ],
   "metadata": {
    "collapsed": false
   },
   "id": "d27b88c98eb6b97b"
  },
  {
   "cell_type": "code",
   "execution_count": null,
   "outputs": [],
   "source": [
    "savedir = f\"/gorilla1/analyses/recordings/main/RASTERS/{animal}-{DATE}/substrokes\"\n",
    "import os\n",
    "os.makedirs(savedir, exist_ok=True)\n",
    "\n"
   ],
   "metadata": {
    "collapsed": false
   },
   "id": "ed35cafd3d41697d"
  },
  {
   "cell_type": "code",
   "execution_count": null,
   "outputs": [],
   "source": [
    "\n",
    "from pythonlib.tools.plottools import savefig\n",
    "\n",
    "for chan in SP.Sites:\n",
    "    \n",
    "    chan_text = SP.session_sitegetter_summarytext(chan)\n",
    "\n",
    "    # Pmv differetn across shapes    \n",
    "    var = \"shape\"\n",
    "    vars_other = [\"index_within_stroke\", \"dist_angle\"]\n",
    "    fig, axesall = SP.plotgood_rasters_smfr_each_level_combined(chan, var, vars_other, plotvers=(\"smfr\"));\n",
    "    savefig(fig, f\"{savedir}/{chan_text}-shape-vs-substrk_idx_dist_angle.png\")\n",
    "    \n",
    "    # M1 with similar encoding for the same ss, no matter the shape or index\n",
    "    var = \"shape_idxwithin\"\n",
    "    vars_other = [\"dist_angle\"]\n",
    "    fig, axesall = SP.plotgood_rasters_smfr_each_level_combined(chan, var, vars_other, plotvers=(\"smfr\"));\n",
    "    savefig(fig, f\"{savedir}/{chan_text}-shape_idx-vs-substrk_dist_angle.png\")\n",
    "    \n",
    "    # [Same, but splitting into grid plot]\n",
    "    var = \"shape_idxwithin\"\n",
    "    vars_other = [\"distcum_binned\", \"angle_binned\"]\n",
    "    fig, axesall = SP.plotgood_smfr_each_level_subplot_grid_by_vars(chan, var, vars_other[0], vars_other[1], PLOT_VER=\"smfr\");\n",
    "    savefig(fig, f\"{savedir}/{chan_text}-shape_idx-vs-substrk_dist_angle_grid.png\")\n",
    "    \n",
    "    # M1 different across ss, no matter the shape or index\n",
    "    # Trial by trial variability\n",
    "    var = \"dist_angle\"\n",
    "    vars_other = [\"shape_idxwithin\"]\n",
    "    fig, axesall = SP.plotgood_rasters_smfr_each_level_combined(chan, var, vars_other, plotvers=(\"smfr\"));\n",
    "    savefig(fig, f\"{savedir}/{chan_text}-substrk_dist_angle-vs-shape_idx.png\")\n",
    "    \n",
    "    plt.close(\"all\")\n"
   ],
   "metadata": {
    "collapsed": false
   },
   "id": "a32f6f84c2fee885"
  },
  {
   "cell_type": "markdown",
   "source": [
    "##### Time warping, so that can look at offset and onset"
   ],
   "metadata": {
    "collapsed": false
   },
   "id": "890a418c81b8ef86"
  },
  {
   "cell_type": "code",
   "execution_count": null,
   "outputs": [],
   "source": [
    "SP.DfScalar[:2]"
   ],
   "metadata": {
    "collapsed": false
   },
   "id": "b22a354fe3ce1d21"
  },
  {
   "cell_type": "markdown",
   "source": [
    "### Computing modulation of activity by certain variables (site by site)"
   ],
   "metadata": {
    "collapsed": false
   },
   "id": "9c4cc1ea25e0e20b"
  },
  {
   "cell_type": "markdown",
   "source": [
    "For each site, compute how strongly it is modulated by a specific variable, computed \n",
    "separatedly for each event."
   ],
   "metadata": {
    "collapsed": false
   },
   "id": "a7fb5df4bc68d48b"
  },
  {
   "cell_type": "code",
   "execution_count": null,
   "outputs": [],
   "source": [
    "SP.DfScalar[:2]"
   ],
   "metadata": {
    "collapsed": false
   },
   "id": "27bfdbb24d81eb51"
  },
  {
   "cell_type": "code",
   "execution_count": null,
   "outputs": [],
   "source": [
    "# First, append the variables that you wish to analyze\n",
    "SP.datasetbeh_append_column(\"epoch\", sn.Datasetbeh) # assign epoch to SP\n"
   ],
   "metadata": {
    "collapsed": false
   },
   "id": "ecfdf5d5d5ada06e"
  },
  {
   "cell_type": "code",
   "execution_count": null,
   "outputs": [],
   "source": [
    "if DEBUG:\n",
    "    # if you debug, then you have small n trials, so lower the threshold for keeping data.\n",
    "    print(SP.ParamsGlobals)\n",
    "    SP.globals_update(globals_nmin=2)\n"
   ],
   "metadata": {
    "collapsed": false
   },
   "id": "257f9171c27e317f"
  },
  {
   "cell_type": "code",
   "execution_count": null,
   "outputs": [],
   "source": [
    "# Run this to compute modulation\n",
    "DF_VAR, DF_FR, DF_FR_LEVELS, list_eventwindow_event = SP.modulationgood_compute_wrapper(\"epoch\", \n",
    "                                                                                        DEBUG_CONJUNCTIONS=False, \n",
    "                                                                                        THINGS_TO_EXTRACT=[\"anova\"])\n"
   ],
   "metadata": {
    "collapsed": false
   },
   "id": "7d0c1041cef6d576"
  },
  {
   "cell_type": "code",
   "execution_count": null,
   "outputs": [],
   "source": [
    "# Plot results and save\n",
    "sdir_base = \"/tmp\"\n",
    "SP.modulationgood_plot_WRAPPER(DF_VAR, DF_FR, DF_FR_LEVELS, list_eventwindow_event, \n",
    "                               var=\"epoch\", vars_conjuction=[\"dummy_var\"],\n",
    "                               sdir_base=sdir_base, N_WAYS=1)"
   ],
   "metadata": {
    "collapsed": false
   },
   "id": "85d3c0aa1e622b60"
  },
  {
   "cell_type": "markdown",
   "source": [
    "### Modulation by time (relative to aligned events)"
   ],
   "metadata": {
    "collapsed": false
   },
   "id": "141aeb9618dd81f7"
  },
  {
   "cell_type": "markdown",
   "source": [
    "For each site x event, compute a scalar value indiicating how much its actiivyt is modulated\n",
    "with respect to this event. This moudlation can be increase in fr, decrease, or any\n",
    "activity pattern that is consistent across trials."
   ],
   "metadata": {
    "collapsed": false
   },
   "id": "6555483c7abc2bf0"
  },
  {
   "cell_type": "code",
   "execution_count": null,
   "outputs": [],
   "source": [
    "# Extract modulation, for each site x event"
   ],
   "metadata": {
    "collapsed": false
   },
   "id": "b841a624dffbd236"
  },
  {
   "cell_type": "code",
   "execution_count": null,
   "outputs": [],
   "source": [
    "from neuralmonkey.analyses.event_temporal_modulation_v2 import preprocess_and_extract\n",
    "from neuralmonkey.analyses.event_temporal_modulation import plot_overview\n",
    "\n",
    "df_modtime = preprocess_and_extract(SP)\n"
   ],
   "metadata": {
    "collapsed": false
   },
   "id": "1942a87f166c9816"
  },
  {
   "cell_type": "code",
   "execution_count": null,
   "outputs": [],
   "source": [
    "# Plot overview of modulation"
   ],
   "metadata": {
    "collapsed": false
   },
   "id": "18b338fe698f96fe"
  },
  {
   "cell_type": "code",
   "execution_count": null,
   "outputs": [],
   "source": [
    "from neuralmonkey.analyses.event_temporal_modulation_v2 import plot_overview\n",
    "SAVEDIR = \"/tmp\"\n",
    "##################### PLOTS\n",
    "plot_overview(df_modtime, SP, SAVEDIR)"
   ],
   "metadata": {
    "collapsed": false
   },
   "id": "528917b01df478f0"
  },
  {
   "cell_type": "markdown",
   "source": [
    "## Sliding decoder"
   ],
   "metadata": {
    "collapsed": false
   },
   "id": "997a56db7b24e8f0"
  },
  {
   "cell_type": "code",
   "execution_count": null,
   "outputs": [],
   "source": [
    "# 1) Separate decoders aligned to stroke onset. (grouping all stroke).\n",
    "# 2) \n"
   ],
   "metadata": {
    "collapsed": false
   },
   "id": "53846024fa502c32"
  },
  {
   "cell_type": "code",
   "execution_count": null,
   "outputs": [],
   "source": [
    "Look at 220713_prims_state_space"
   ],
   "metadata": {
    "collapsed": false
   },
   "id": "37d2b842ea79623a"
  },
  {
   "cell_type": "markdown",
   "source": [
    "# Batch plotting functions"
   ],
   "metadata": {
    "collapsed": false
   },
   "id": "5c977791e75f03fb"
  },
  {
   "cell_type": "markdown",
   "source": [
    "### Plot rasters"
   ],
   "metadata": {
    "collapsed": false
   },
   "id": "7afc609263977dbc"
  },
  {
   "cell_type": "code",
   "execution_count": null,
   "outputs": [],
   "source": [
    "        if PLOT_RASTERS:\n",
    "            for event_window, event in list_eventwindow_event:\n",
    "                # (Only do once for each event)\n",
    "                sdir_rasters = f\"{SAVEDIR}/{ANALY_VER}/var_by_varsother/VAR_{var}-OV_{'_'.join(vars_conjuction)}/rasters/{event}\"\n",
    "                os.makedirs(sdir_rasters, exist_ok=True)\n",
    "\n",
    "                print(\"** Plotting raster + sm fr:\", sdir_rasters)\n",
    "                ##### Plot raster + sm fr\n",
    "                # Plot rasters for each site\n",
    "                old_backend = mpl.get_backend()\n",
    "                print(\"default backend is \" + old_backend)\n",
    "                mpl.use('agg') # non-GUI backend, so that the loop below doesn't run into a memory leak error (see GitHub matplotlib: #20300)\n",
    "                for site in self.Sites:\n",
    "                    path = f\"{sdir_rasters}/{sn.sitegetter_summarytext(site)}.png\"\n",
    "                    if not os.path.exists(path):\n",
    "                        fig, axes = self.plotgood_rasters_smfr_each_level_combined(site, var, vars_conjuction, \n",
    "                            event=event)\n",
    "                        fig.savefig(path)\n",
    "                        plt.close(\"all\")\n",
    "                mpl.use(old_backend) # switch back just to be safe..\n"
   ],
   "metadata": {
    "collapsed": false
   },
   "id": "15fe7033c324d777"
  },
  {
   "cell_type": "code",
   "execution_count": null,
   "outputs": [],
   "source": [
    "                for chan in SP.Sites:\n",
    "                    print(\"plotting, chan:\", chan)\n",
    "\n",
    "                    chan_text = SP.SN.sitegetter_summarytext(chan)\n",
    "\n",
    "                    fig, _ = SP.plotgood_rasters_smfr_each_level_combined(chan, var=\"shape_oriented\", vars_others=[\"gridloc\"])\n",
    "                    path = f\"{savedir}/{chan_text}-shape_oriented-vs-gridloc.png\"\n",
    "                    savefig(fig, path)\n",
    "\n",
    "                    fig, _ = SP.plotgood_rasters_smfr_each_level_combined(chan, var=\"shape_oriented\", vars_others=[\"nstk_stkidx\"])\n",
    "                    path = f\"{savedir}/{chan_text}-shape_oriented-vs-nstk_stkidx.png\"\n",
    "                    savefig(fig, path)\n",
    "\n",
    "                    # LIST_PLOT_VER = [\"smfr\", \"raster\"] # to speed it up, exclude raster\n",
    "                    LIST_PLOT_VER = [\"smfr\"]\n",
    "                    for PLOT_VER in LIST_PLOT_VER:\n",
    "                        fig, _ = SP.plotgood_smfr_each_level_subplot_grid_by_vars(chan, \"shape_oriented\",\n",
    "                                                                         \"gridloc\", \"nstk_stkidx\",\n",
    "                                                                         PLOT_VER=PLOT_VER)\n",
    "                        path = f\"{savedir}/{chan_text}-shape_oriented-vs-other_vars-{PLOT_VER}.png\"\n",
    "                        savefig(fig, path)\n",
    "\n",
    "                    plt.close(\"all\")\n"
   ],
   "metadata": {
    "collapsed": false
   },
   "id": "d1457eb617747239"
  },
  {
   "cell_type": "code",
   "execution_count": null,
   "outputs": [],
   "source": [],
   "metadata": {
    "collapsed": false
   },
   "id": "8919252a65120b9c"
  },
  {
   "cell_type": "markdown",
   "source": [
    "# ### Scratch plots"
   ],
   "metadata": {
    "collapsed": false
   },
   "id": "40f17657dbfff1dc"
  },
  {
   "cell_type": "code",
   "execution_count": null,
   "outputs": [],
   "source": [
    "PA.plotNeurHeat(1)\n",
    "PAnorm.plotNeurHeat(1)"
   ],
   "metadata": {
    "collapsed": false
   },
   "id": "deeb863a4a088c71"
  },
  {
   "cell_type": "code",
   "execution_count": null,
   "outputs": [],
   "source": [
    "trial = 10\n",
    "PA.plotNeurTimecourse(trial)\n",
    "PAnorm.plotNeurTimecourse(trial)"
   ],
   "metadata": {
    "collapsed": false
   },
   "id": "c3863f758925c8e2"
  },
  {
   "cell_type": "code",
   "execution_count": null,
   "outputs": [],
   "source": [
    "X = np.mean(PAnorm.X, axis=1, keepdims=False)\n",
    "import seaborn as sns\n",
    "sns.heatmap(X)"
   ],
   "metadata": {
    "collapsed": false
   },
   "id": "5e7079f4e5e76bd3"
  },
  {
   "cell_type": "code",
   "execution_count": null,
   "outputs": [],
   "source": [
    "SP.plotgood_rasters"
   ],
   "metadata": {
    "collapsed": false
   },
   "id": "6a104c0e44bc90e3"
  },
  {
   "cell_type": "code",
   "execution_count": null,
   "outputs": [],
   "source": [],
   "metadata": {
    "collapsed": false
   },
   "id": "85a6fc65b63b6583"
  },
  {
   "cell_type": "code",
   "execution_count": null,
   "outputs": [],
   "source": [
    "# pull out pa for a specific chan\n",
    "chan = SP.Sites[4]"
   ],
   "metadata": {
    "collapsed": false
   },
   "id": "86f08718cde1136f"
  },
  {
   "cell_type": "code",
   "execution_count": null,
   "outputs": [],
   "source": [
    "chan = 50"
   ],
   "metadata": {
    "collapsed": false
   },
   "id": "56e3fe216a0c31eb"
  },
  {
   "cell_type": "code",
   "execution_count": null,
   "outputs": [],
   "source": [
    "PAnorm.Chans"
   ],
   "metadata": {
    "collapsed": false
   },
   "id": "db5b1e671135146a"
  },
  {
   "cell_type": "code",
   "execution_count": null,
   "outputs": [],
   "source": [],
   "metadata": {
    "collapsed": false
   },
   "id": "d2c61735d03194b5"
  },
  {
   "cell_type": "code",
   "execution_count": null,
   "outputs": [],
   "source": [
    "SP.SN.sitegetter_print_summarytext_each_unit()"
   ],
   "metadata": {
    "collapsed": false
   },
   "id": "3b1a522619e2a0ae"
  }
 ],
 "metadata": {
  "kernelspec": {
   "display_name": "Python 3",
   "language": "python",
   "name": "python3"
  },
  "language_info": {
   "codemirror_mode": {
    "name": "ipython",
    "version": 2
   },
   "file_extension": ".py",
   "mimetype": "text/x-python",
   "name": "python",
   "nbconvert_exporter": "python",
   "pygments_lexer": "ipython2",
   "version": "2.7.6"
  }
 },
 "nbformat": 4,
 "nbformat_minor": 5
}
