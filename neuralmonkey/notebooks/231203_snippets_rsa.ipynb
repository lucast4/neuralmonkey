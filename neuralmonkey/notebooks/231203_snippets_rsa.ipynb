{
 "cells": [
  {
   "cell_type": "code",
   "execution_count": 1,
   "id": "initial_id",
   "metadata": {
    "collapsed": true,
    "ExecuteTime": {
     "end_time": "2024-01-29T16:03:34.196794379Z",
     "start_time": "2024-01-29T16:03:34.110731345Z"
    }
   },
   "outputs": [
    {
     "data": {
      "text/plain": "' \\nRSA Analsysis\\nHere, all things related to extraction of RSA.\\n\\nOlder notes:\\n- Here: Extraction of PopAnal for each (bregion, twind) [and other conjunctions if needed]. i.e,, \\nto go from snippets to \"populatoin_level\" specific snippets.\\n\\n- TO MAKE PLOTS, which combined all the above, go to 231203_snippets_rsa_PLOTS.ipynb\\n'"
     },
     "execution_count": 1,
     "metadata": {},
     "output_type": "execute_result"
    }
   ],
   "source": [
    "import pandas as pd\n",
    "\n",
    "\"\"\" \n",
    "RSA Analsysis\n",
    "Here, all things related to extraction of RSA.\n",
    "\n",
    "Older notes:\n",
    "- Here: Extraction of PopAnal for each (bregion, twind) [and other conjunctions if needed]. i.e,, \n",
    "to go from snippets to \"populatoin_level\" specific snippets.\n",
    "\n",
    "- TO MAKE PLOTS, which combined all the above, go to 231203_snippets_rsa_PLOTS.ipynb\n",
    "\"\"\""
   ]
  },
  {
   "cell_type": "code",
   "execution_count": 2,
   "outputs": [
    {
     "name": "stdout",
     "output_type": "stream",
     "text": [
      "The autoreload extension is already loaded. To reload it, use:\n",
      "  %reload_ext autoreload\n"
     ]
    }
   ],
   "source": [
    "%load_ext autoreload\n",
    "%autoreload 2\n",
    "\n",
    "from neuralmonkey.classes.session import load_mult_session_helper\n",
    "import matplotlib\n",
    "import matplotlib.pyplot as plt\n",
    "import numpy as np\n",
    "\n",
    "#%matplotlib inline"
   ],
   "metadata": {
    "collapsed": false,
    "ExecuteTime": {
     "end_time": "2024-01-29T16:03:34.619729266Z",
     "start_time": "2024-01-29T16:03:34.554769207Z"
    }
   },
   "id": "93d48dd175d3e9e0"
  },
  {
   "cell_type": "markdown",
   "source": [
    "## Analysis using scalar vectors (i.e, dims are sites), e.g., RSA, decode, etc."
   ],
   "metadata": {
    "collapsed": false
   },
   "id": "a20c8efc494d3ac1"
  },
  {
   "cell_type": "markdown",
   "source": [
    "##### Preprocess"
   ],
   "metadata": {
    "collapsed": false
   },
   "id": "a26ae45c867f82b0"
  },
  {
   "cell_type": "markdown",
   "source": [
    "##### Plans"
   ],
   "metadata": {
    "collapsed": false
   },
   "id": "c87d57d95d441641"
  },
  {
   "cell_type": "code",
   "execution_count": null,
   "outputs": [],
   "source": [
    "# DEfitions:\n",
    "# action = specific conjunction of conditions (e..g, shape x location x index)\n",
    "\n",
    "# (1) Is an area active for a given action? Simply, is activity different from 0.\n",
    "# 1) Modulation, i.e., actiivty in high D space (i.e., euclidian distnace from 0) --> this is a single scalar that can ask if correlate with variables (e.g., stroke index)\n",
    "# --> is modulated by actions (i.e., for each action, get a single scalar).\n",
    "# Also: Visualize each area using PCA (i.e., just like I do with rasters, but use top N dimensions instead of N units).\n",
    "# - get PCs using trial data? Or one for each condition.\n",
    "\n",
    "# (2) How different is activity for each action, in a given area? Simply, are actions not just diff from 0, but different from each other\n",
    "# 1b) Decode each action\n",
    "# --> Simply, can classify.\n",
    "\n",
    "# (2b) Does area encode speicifc parameters?\n",
    "# - linear model: (fr vector) --> category, etc. (as before).\n",
    "# - classifier (like above, but for abstract params).\n",
    "# --- COMPOSITIONALITY: cross-condition classifier [willet didnt do]\n",
    "\n",
    "# (3) RSA (correlation/similarity structure). Simply, are features for a given variable similar across other variables?\n",
    "# - See notes below.\n",
    "\n",
    "# (4) Subspaces: identify using dPCA (or manual version of that).\n",
    "# - Use dPCA to identify diemsions. Can then ask how activity in each dimension changes or is affected by manipualtions (e.g., partial cueing). \n",
    "# - https://github.com/machenslab/dPCA\n"
   ],
   "metadata": {
    "collapsed": false
   },
   "id": "50370529223a20df"
  },
  {
   "cell_type": "markdown",
   "source": [
    "##### TODO"
   ],
   "metadata": {
    "collapsed": false
   },
   "id": "de74899c5df6cf55"
  },
  {
   "cell_type": "code",
   "execution_count": null,
   "outputs": [],
   "source": [
    "## TODO (1) Modulation\n",
    "# not done."
   ],
   "metadata": {
    "collapsed": false
   },
   "id": "a9938552ff7ac9a9"
  },
  {
   "cell_type": "markdown",
   "source": [],
   "metadata": {
    "collapsed": false
   },
   "id": "a7ea3994a6d7fe55"
  },
  {
   "cell_type": "code",
   "execution_count": null,
   "outputs": [],
   "source": [
    "## TODO -- effect sizes\n",
    "\n",
    "# See in progress in 231203_snippets_rsa_PLOTS\n",
    "# Direction of effect --> preSMA higher FR during middle strokes?\n"
   ],
   "metadata": {
    "collapsed": false
   },
   "id": "3f29c8d98f775914"
  },
  {
   "cell_type": "code",
   "execution_count": null,
   "outputs": [],
   "source": [
    "## TODO (1/6/24) -- RSA\n",
    "# clean up (do later):\n",
    "# - verify that normalization process is good.\n",
    "# - time warping.\n",
    "\n",
    "## PREPROCESS\n",
    "# for each channel, subtract mean (e.g., split day into quartiles)\n",
    "\n",
    "# - Compare plan window to during strokes.\n",
    "# -- compare plan yo strokes. in general do directed test fewvar \n",
    "\n",
    "# - for regression version, note that should rescale coeff for ordinal vs categorical. maybe also plot r2. \n",
    "\n",
    "# - include mult time slices. then do pca with datapt being trials on the entire concated slices.\n",
    "# Instead of a single time slice, take multiple and reshape into a vector.\n",
    "# - e.g.,, Willet 2021 did this for comparing S-T patterns across characters\n",
    "\n",
    "# - how get done signal? have a variable for last stroke. \n",
    "\n",
    "## UPdates to analysis next time:\n",
    "# - More sliding windows (overlapping)\n",
    "# - Remove bleedthru in smoothed fr.\n",
    "# - Euclidian distance? deals with cases where vector norms are small and the corr is noisy?\n",
    "# - distance matrix, compute in unbiased manner.\n",
    "# - if using multiple regression, then first take z-score of data (Flesch).\n",
    "# - Time warping?\n",
    "# - Use trial-level data?\n",
    "\n",
    "# alternative to RSA: within each level of othervar, get pairwise vectors betwene all levsl of var. are these similar across levels of othervar? This inherently subtracts mean of each level of othervar, but not good; (i) requires at least 2 levels of var, consistent acorss othervar, and (ii) might be noisier.\n",
    "\n",
    "# Use colinearity of theoretical matrices (between two vars) as a lower bound on how different they can be?\n",
    "\n",
    "### ANALYSIS KINDS:\n",
    "# TWO kinds of analysses (orthogonal)\n",
    "# 1. do a single that combines each window, here looking for variables rekated to strokes such as onset offset. \n",
    "# 2. The obvious one. -- Including non-stroke touching events? e.g., have var for touching screen and include button touching data. ie other events where touch?\n",
    "# -- 2a Balanced, if possible, between each pair of stim that have such balance. Do this for all pairs, then collect data.\n",
    "# - norm by subtract other (this is only possible if have all these conjunctions).  (Willet Cell 2020).\n",
    "# - For each expt, there are variables designed to be separated.\n",
    "# -- 2b Combined analyses over all\n",
    "# - DO NOT norm by subtraction. This leads to weird biases unless you are balanced.\n",
    "# - remove levels that are present only in one case of other level.\n",
    "\n",
    "## Dimenstionality reduction (i.e,, to find vector representation for each area)\n",
    "# Method: use multiple subwindows... (i.e., 300ms, and two sub-windows)\n",
    "# Method: dPCA for each variable?\n",
    "\n",
    "## Cleaning up conjunctions/balancing of data\n",
    "# How deal with problem with, for a given var, effects differ across levels? E.g., all driven by one shape within shapes?\n",
    "# - Penalize for high var acorss levels? Take the worst score across levels?\n",
    "# Consider comparisons only acors scases with different other var?\n",
    "# - plot maasking heatplot... for pount above.\n",
    "# Method: subtract out othervar? No, can only do this for cases focusing on specific var. Mixed effects model, where random effect for each level of othervar? And fixed effects for each var. NO becase this \n",
    "# assumes factorization. \n",
    "# - weight correlation (between dist matrices) by n trials in each cell? e..g, sqrt(n).\n",
    "\n",
    "## Variables to add\n",
    "# - antoher theoretical one, which is using all variables at once (see Flesch).\n"
   ],
   "metadata": {
    "collapsed": false
   },
   "id": "c7ab7a82c33a73dc"
  },
  {
   "cell_type": "markdown",
   "source": [
    "##### Extract all the variables you will care about"
   ],
   "metadata": {
    "collapsed": false
   },
   "id": "790046ae9f56c831"
  },
  {
   "cell_type": "code",
   "execution_count": null,
   "outputs": [],
   "source": [
    "##### Plot distributions of gap angles vs. categorical LOCATION next, etc. --> dissocaited.\n",
    "\n",
    "xvar = \"gap_to_next_angle\"\n",
    "xvar = \"gap_to_next_dist\"\n",
    "sns.displot(data=DS.Dat, x=xvar, col=si, hue=f\"{xvar}_binned\")\n",
    "\n",
    "\n",
    "for si in [\"stroke_index\", \"stroke_index_fromlast\"]:\n",
    "    sns.displot(data=DS.Dat, x=\"gap_to_next_angle\", y=\"gap_to_next_dist\", col=si, hue=\"gap_from_prev_angle_binned\")\n",
    "    sns.displot(data=DS.Dat, x=\"gap_from_prev_angle\", y=\"gap_from_prev_dist\", col=si, hue=\"gap_from_prev_angle_binned\")\n"
   ],
   "metadata": {
    "collapsed": false
   },
   "id": "79bb4f7236007750"
  },
  {
   "cell_type": "markdown",
   "source": [
    "### DEVO"
   ],
   "metadata": {
    "collapsed": false
   },
   "id": "f94771361c4e054e"
  },
  {
   "cell_type": "code",
   "execution_count": 3,
   "outputs": [
    {
     "name": "stdout",
     "output_type": "stream",
     "text": [
      "Searching using this string:\n",
      "/mnt/Freiwald/ltian/recordings/*Pancho*/*230126*/**\n",
      "Found this many paths:\n",
      "1\n",
      "---\n",
      "/mnt/Freiwald/ltian/recordings/Pancho/230126/Pancho-230126-145532\n",
      "session:  0\n",
      "Beh Sessions that exist on this date:  {230126: [(1, 'charstrokeseqpan4')]}\n",
      "------------------------------\n",
      "Loading this neural session: 0\n",
      "Loading these beh expts: ['charstrokeseqpan4']\n",
      "Loading these beh sessions: [1]\n",
      "Using this beh_trial_map_list: [(1, 0)]\n",
      "Searching using this string:\n",
      "/mnt/Freiwald/ltian/recordings/*Pancho*/*230126*/**\n",
      "Found this many paths:\n",
      "1\n",
      "---\n",
      "/mnt/Freiwald/ltian/recordings/Pancho/230126/Pancho-230126-145532\n",
      "{'filename_components_hyphened': ['Pancho', '230126', '145532'], 'basedirs': ['/mnt/Freiwald/ltian/recordings/Pancho', '/mnt/Freiwald/ltian/recordings/Pancho/230126'], 'basedirs_filenames': ['230126', 'Pancho-230126-145532'], 'filename_final_ext': 'Pancho-230126-145532', 'filename_final_noext': 'Pancho-230126-145532'}\n",
      "FOund this path for spikes:  /mnt/Freiwald/ltian/recordings/Pancho/230126/Pancho-230126-145532/spikes_tdt_quick-3.5\n",
      "== PATHS for this expt: \n",
      "raws  --  /mnt/Freiwald/ltian/recordings/Pancho/230126/Pancho-230126-145532\n",
      "tank  --  /mnt/Freiwald/ltian/recordings/Pancho/230126/Pancho-230126-145532/Pancho-230126-145532\n",
      "spikes  --  /mnt/Freiwald/ltian/recordings/Pancho/230126/Pancho-230126-145532/spikes_tdt_quick-3.5\n",
      "final_dir_name  --  Pancho-230126-145532\n",
      "time  --  145532\n",
      "pathbase_local  --  /gorilla1/neural_preprocess/recordings/Pancho/230126/Pancho-230126-145532\n",
      "tank_local  --  /gorilla1/neural_preprocess/recordings/Pancho/230126/Pancho-230126-145532/data_tank.pkl\n",
      "spikes_local  --  /gorilla1/neural_preprocess/recordings/Pancho/230126/Pancho-230126-145532/data_spikes.pkl\n",
      "datall_local  --  /gorilla1/neural_preprocess/recordings/Pancho/230126/Pancho-230126-145532/data_datall.pkl\n",
      "events_local  --  /gorilla1/neural_preprocess/recordings/Pancho/230126/Pancho-230126-145532/events_photodiode.pkl\n",
      "mapper_st2dat_local  --  /gorilla1/neural_preprocess/recordings/Pancho/230126/Pancho-230126-145532/mapper_st2dat.pkl\n",
      "figs_local  --  /gorilla1/neural_preprocess/recordings/Pancho/230126/Pancho-230126-145532/figs\n",
      "metadata_units  --  /home/lucast4/code/neuralmonkey/neuralmonkey/metadat/units\n",
      "cached_dir  --  /gorilla1/neural_preprocess/recordings/Pancho/230126/Pancho-230126-145532/cached\n",
      "Found! metada path :  /home/lucast4/code/neuralmonkey/neuralmonkey/metadat/units/230126.yaml\n",
      "updating self.SitesDirty with:  ('sites_garbage', 'sites_error_spikes', 'sites_low_spk_magn')\n",
      "[_sitesdirty_update] skipping! since did not find:  sites_error_spikes\n",
      "Printing whether spikes gotten (o) or not (-) because of spike peak to trough\n",
      "-  1 59.15829772949219\n",
      "-  2 67.83890762329102\n",
      "-  3 65.6944793701172\n",
      "-  4 57.34957733154297\n",
      "o  5 71.07277450561524\n",
      "-  6 66.12903594970703\n",
      "o  7 75.6805404663086\n",
      "-  8 62.23706817626953\n",
      "o  9 396.6587738037109\n",
      "o  10 73.99732894897461\n",
      "o  11 280.6557281494141\n",
      "-  12 47.40718307495117\n",
      "o  13 182.68746337890624\n",
      "-  14 49.54550704956055\n",
      "o  15 144.99249725341798\n",
      "o  16 74.5226921081543\n",
      "-  17 63.99840393066407\n",
      "-  18 57.13336296081543\n",
      "o  19 81.87591400146485\n",
      "-  20 43.000421142578126\n",
      "o  21 79.95638580322266\n",
      "o  22 81.8767318725586\n",
      "-  23 36.994631958007815\n",
      "-  24 67.0273208618164\n",
      "-  25 68.82031860351563\n",
      "o  26 98.44020614624024\n",
      "o  27 154.6948715209961\n",
      "-  28 64.09487228393554\n",
      "o  29 206.25006866455078\n",
      "o  30 86.66326217651367\n",
      "o  31 155.54458770751955\n",
      "o  32 70.11230773925782\n",
      "o  33 75.47259063720705\n",
      "o  34 84.3872573852539\n",
      "-  35 45.324257659912114\n",
      "o  36 164.3729888916016\n",
      "-  37 59.99015235900879\n",
      "o  38 89.64163970947266\n",
      "-  39 47.45148887634277\n",
      "o  40 75.45120773315429\n",
      "-  41 58.52582321166992\n",
      "-  42 67.41913757324218\n",
      "-  43 66.28160705566407\n",
      "o  44 80.36071090698242\n",
      "o  45 119.44282608032226\n",
      "-  46 48.70028991699219\n",
      "o  47 104.38530731201172\n",
      "-  48 48.56160125732422\n",
      "o  49 77.86892013549806\n",
      "-  50 66.4556381225586\n",
      "o  51 134.31385498046876\n",
      "o  52 79.60559082031251\n",
      "o  53 324.4452606201172\n",
      "o  54 76.42826690673829\n",
      "o  55 143.44359130859377\n",
      "-  56 53.63676338195801\n",
      "o  57 138.0413024902344\n",
      "-  58 68.4555877685547\n",
      "-  59 66.14663391113281\n",
      "o  60 95.27265930175781\n",
      "o  61 86.52337799072265\n",
      "-  62 54.48957481384277\n",
      "o  63 127.65485992431641\n",
      "-  64 48.43676338195801\n",
      "o  65 82.8672882080078\n",
      "o  66 70.3909408569336\n",
      "o  67 74.23908233642578\n",
      "o  68 101.15921478271484\n",
      "-  69 60.989782714843756\n",
      "-  70 51.102087402343756\n",
      "-  71 59.73910293579102\n",
      "-  72 68.0338104248047\n",
      "-  73 66.49538803100586\n",
      "-  74 65.66663284301758\n",
      "o  75 109.88334045410156\n",
      "-  76 50.00709075927735\n",
      "-  77 63.93695068359375\n",
      "o  78 100.91471023559573\n",
      "-  79 46.66530532836914\n",
      "o  80 73.86778411865235\n",
      "-  81 47.13573150634765\n",
      "-  82 57.68049201965332\n",
      "-  83 49.90713043212891\n",
      "-  84 37.06348724365235\n",
      "-  85 59.90655212402344\n",
      "-  86 60.58300857543945\n",
      "-  87 41.279814910888675\n",
      "-  88 58.12919235229492\n",
      "-  89 51.21551933288574\n",
      "-  90 62.14768447875977\n",
      "-  91 57.56636047363281\n",
      "o  92 74.7828140258789\n",
      "-  93 57.51874542236328\n",
      "-  94 64.85620498657227\n",
      "-  95 50.32857437133789\n",
      "-  96 66.1098533630371\n",
      "o  97 114.95256729125978\n",
      "o  98 72.68873291015626\n",
      "o  99 88.51871109008789\n",
      "-  100 67.47137145996093\n",
      "o  101 79.94472122192383\n",
      "o  102 131.7756118774414\n",
      "-  103 51.03737449645996\n",
      "o  104 82.49771499633789\n",
      "o  105 110.39555053710939\n",
      "o  106 72.32163314819336\n",
      "-  107 41.517424774169925\n",
      "-  108 63.911756134033205\n",
      "-  109 44.79838562011719\n",
      "-  110 56.31178359985351\n",
      "-  111 60.53823318481445\n",
      "o  112 75.13820419311523\n",
      "-  113 57.3070068359375\n",
      "o  114 322.52458801269535\n",
      "-  115 48.801255798339845\n",
      "o  116 101.91551589965822\n",
      "-  117 57.298455810546876\n",
      "-  118 65.0304443359375\n",
      "o  119 99.80710906982422\n",
      "-  120 47.80727233886719\n",
      "o  121 76.74994506835938\n",
      "o  122 70.74350280761719\n",
      "o  123 91.43159637451173\n",
      "-  124 67.38375473022461\n",
      "-  125 41.66023712158203\n",
      "o  126 143.4267761230469\n",
      "-  127 64.11148071289062\n",
      "-  128 53.91227607727051\n",
      "-  129 49.35966453552246\n",
      "o  130 91.60602493286133\n",
      "-  131 53.6064136505127\n",
      "o  132 133.2742721557617\n",
      "-  133 50.17162857055664\n",
      "o  134 82.59659957885742\n",
      "o  135 77.50120010375977\n",
      "o  136 203.53481140136725\n",
      "-  137 62.67581405639648\n",
      "o  138 164.0913497924805\n",
      "o  139 156.29346771240233\n",
      "o  140 119.6926551818848\n",
      "o  141 181.54608764648438\n",
      "o  142 147.14852600097657\n",
      "o  143 98.00509262084962\n",
      "o  144 208.39078216552736\n",
      "-  145 45.974085617065434\n",
      "-  146 52.88756828308106\n",
      "-  147 42.34461288452148\n",
      "o  148 90.07146911621095\n",
      "-  149 62.035443496704104\n",
      "o  150 212.5425796508789\n",
      "-  151 64.84221954345703\n",
      "-  152 67.66324844360352\n",
      "o  153 90.94356689453126\n",
      "o  154 112.37494506835938\n",
      "-  155 49.09314880371094\n",
      "o  156 89.41181564331056\n",
      "-  157 52.476402282714844\n",
      "o  158 76.82330322265625\n",
      "o  159 90.73286437988281\n",
      "-  160 61.362788391113284\n",
      "o  161 74.03510513305665\n",
      "-  162 54.80722198486328\n",
      "o  163 87.78610382080078\n",
      "-  164 45.435549926757815\n",
      "-  165 62.66849250793457\n",
      "o  166 80.50319900512696\n",
      "o  167 72.9558090209961\n",
      "o  168 86.44393615722657\n",
      "-  169 60.98852310180664\n",
      "o  170 92.42142944335939\n",
      "o  171 104.85467376708985\n",
      "-  172 51.30453033447266\n",
      "o  173 130.81324005126953\n",
      "o  174 90.81212768554688\n",
      "-  175 56.25060386657715\n",
      "-  176 54.73227462768555\n",
      "o  177 133.10247192382812\n",
      "-  178 53.23080902099609\n",
      "o  179 109.141316986084\n",
      "-  180 51.0208423614502\n",
      "o  181 122.89968185424804\n",
      "-  182 49.42801628112793\n",
      "-  183 45.25596542358399\n",
      "o  184 106.89573822021487\n",
      "-  185 24.06658229827881\n",
      "-  186 59.02913246154785\n",
      "o  187 88.81582794189454\n",
      "-  188 62.287997817993165\n",
      "o  189 82.89422302246093\n",
      "-  190 56.170370483398436\n",
      "-  191 67.05054244995117\n",
      "o  192 72.45343856811525\n",
      "o  193 276.1067352294923\n",
      "-  194 64.56667556762696\n",
      "o  195 76.55661926269532\n",
      "-  196 50.403926086425784\n",
      "o  197 76.05671081542971\n",
      "-  198 64.80268783569336\n",
      "-  199 55.56026115417481\n",
      "o  200 97.18108520507819\n",
      "o  201 84.8459930419922\n",
      "o  202 85.15701065063476\n",
      "o  203 95.55837402343751\n",
      "-  204 66.2115364074707\n",
      "-  205 63.46617393493653\n",
      "-  206 60.73825454711914\n",
      "-  207 54.496778869628905\n",
      "-  208 63.339794921875\n",
      "-  209 43.02340431213379\n",
      "o  210 74.03336791992187\n",
      "o  211 71.62844390869141\n",
      "-  212 65.30605545043946\n",
      "o  213 77.49691772460938\n",
      "-  214 51.47508277893066\n",
      "-  215 63.87182769775391\n",
      "-  216 60.7686336517334\n",
      "-  217 54.72224388122559\n",
      "o  218 73.9423843383789\n",
      "-  219 56.44243965148926\n",
      "-  220 66.78365020751953\n",
      "-  221 55.616952133178714\n",
      "-  222 54.92745132446289\n",
      "-  223 67.31521377563476\n",
      "o  224 91.08948364257814\n",
      "-  225 69.09710159301758\n",
      "-  226 59.01050987243653\n",
      "o  227 76.19426879882813\n",
      "o  228 78.82718887329102\n",
      "-  229 64.70010452270509\n",
      "-  230 50.88416061401367\n",
      "o  231 74.61632690429687\n",
      "-  232 32.11368637084961\n",
      "o  233 100.99008178710939\n",
      "-  234 58.765126419067386\n",
      "-  235 51.17579727172852\n",
      "-  236 52.74324951171875\n",
      "o  237 73.59052047729493\n",
      "o  238 103.39071044921876\n",
      "-  239 43.235449600219724\n",
      "-  240 64.78582611083985\n",
      "-  241 57.839956283569336\n",
      "o  242 81.03722610473633\n",
      "-  243 65.47555923461914\n",
      "-  244 67.60048141479493\n",
      "-  245 59.665557098388675\n",
      "-  246 66.02831649780273\n",
      "o  247 71.5066619873047\n",
      "-  248 65.80930938720704\n",
      "-  249 58.67597465515137\n",
      "-  250 53.79469909667969\n",
      "-  251 56.143467330932616\n",
      "o  252 79.28262405395509\n",
      "-  253 54.84130172729492\n",
      "-  254 51.62109603881836\n",
      "-  255 57.91737518310547\n",
      "o  256 73.80908508300782\n",
      "o  257 108.15611572265625\n",
      "o  258 84.67508010864259\n",
      "o  259 85.8073341369629\n",
      "o  260 151.8585647583008\n",
      "o  261 135.6251937866211\n",
      "o  262 111.6671516418457\n",
      "o  263 106.83208312988282\n",
      "o  264 135.77449493408204\n",
      "o  265 225.4211135864258\n",
      "o  266 87.78986206054688\n",
      "o  267 107.33339996337891\n",
      "-  268 47.943855667114256\n",
      "o  269 89.74460906982422\n",
      "o  270 203.07024536132812\n",
      "o  271 95.58756866455079\n",
      "o  272 144.58779754638672\n",
      "o  273 71.44345550537109\n",
      "o  274 88.71294250488282\n",
      "-  275 66.2555419921875\n",
      "o  276 83.37824172973633\n",
      "o  277 86.57217102050782\n",
      "o  278 107.20251388549805\n",
      "o  279 93.12323760986328\n",
      "o  280 77.65828704833984\n",
      "o  281 71.92314147949219\n",
      "-  282 64.61884918212891\n",
      "-  283 64.93796005249024\n",
      "o  284 107.19779891967774\n",
      "-  285 62.91977729797364\n",
      "o  286 95.84058456420898\n",
      "-  287 62.66798362731934\n",
      "o  288 92.37739562988283\n",
      "-  289 55.2609245300293\n",
      "-  290 65.4681999206543\n",
      "-  291 50.58065643310547\n",
      "-  292 50.909963607788086\n",
      "-  293 62.71674575805664\n",
      "o  294 78.7364486694336\n",
      "-  295 64.95632476806641\n",
      "o  296 86.74293975830078\n",
      "o  297 83.37437744140625\n",
      "-  298 64.26370391845703\n",
      "o  299 72.40320281982422\n",
      "o  300 104.98984909057617\n",
      "o  301 84.6123664855957\n",
      "o  302 79.32502593994141\n",
      "o  303 86.57350997924806\n",
      "-  304 64.94076309204101\n",
      "-  305 61.59243507385254\n",
      "-  306 47.4967041015625\n",
      "o  307 75.32530975341797\n",
      "-  308 54.29939079284668\n",
      "-  309 59.522560119628906\n",
      "o  310 73.33883972167969\n",
      "-  311 60.82185173034668\n",
      "-  312 61.921378707885744\n",
      "-  313 67.21479110717773\n",
      "-  314 53.475659942626955\n",
      "-  315 61.13619766235352\n",
      "o  316 74.96188735961914\n",
      "-  317 47.62576332092285\n",
      "o  318 82.61589431762695\n",
      "-  319 57.87249984741211\n",
      "o  320 71.95013885498047\n",
      "-  321 60.77610092163086\n",
      "-  322 44.670949935913086\n",
      "-  323 56.76760902404785\n",
      "-  324 42.090707015991214\n",
      "o  325 72.17583618164063\n",
      "-  326 60.1048999786377\n",
      "o  327 107.56902847290038\n",
      "-  328 62.2549976348877\n",
      "-  329 63.89312477111817\n",
      "-  330 62.62067985534668\n",
      "o  331 87.88749465942382\n",
      "-  332 54.3000732421875\n",
      "o  333 75.58240280151368\n",
      "o  334 98.78462371826173\n",
      "-  335 42.230560302734375\n",
      "-  336 57.11538238525391\n",
      "-  337 45.01789512634277\n",
      "-  338 51.433131027221684\n",
      "o  339 83.69599685668945\n",
      "-  340 42.508021926879884\n",
      "-  341 59.5978645324707\n",
      "-  342 51.05868301391602\n",
      "o  343 72.24543304443361\n",
      "-  344 62.303693008422854\n",
      "o  345 71.04760437011718\n",
      "o  346 72.10989303588867\n",
      "-  347 53.68153114318848\n",
      "o  348 74.26197738647461\n",
      "o  349 119.30598907470703\n",
      "-  350 59.253583908081055\n",
      "-  351 68.94650726318359\n",
      "o  352 88.46573486328126\n",
      "-  353 52.67376403808594\n",
      "-  354 47.55073852539063\n",
      "-  355 60.1914909362793\n",
      "-  356 63.240989685058594\n",
      "-  357 36.78398056030274\n",
      "-  358 54.33678779602051\n",
      "-  359 48.50200233459473\n",
      "-  360 55.71271095275879\n",
      "-  361 54.26505546569825\n",
      "-  362 48.80189399719239\n",
      "o  363 76.83197174072266\n",
      "o  364 82.68468780517578\n",
      "-  365 42.977369689941405\n",
      "-  366 58.11297721862793\n",
      "-  367 59.98263282775879\n",
      "-  368 69.90765686035157\n",
      "-  369 58.91445999145508\n",
      "-  370 55.2989070892334\n",
      "-  371 65.24318237304688\n",
      "-  372 39.21397514343262\n",
      "o  373 103.91437454223633\n",
      "-  374 56.55263671875\n",
      "-  375 63.4982234954834\n",
      "-  376 57.99041976928711\n",
      "-  377 54.07979164123535\n",
      "-  378 55.88174514770508\n",
      "-  379 54.40106201171875\n",
      "o  380 74.18983993530274\n",
      "-  381 65.3332908630371\n",
      "-  382 63.708488082885744\n",
      "-  383 57.50198593139648\n",
      "-  384 62.15818786621094\n",
      "o  385 100.15284652709961\n",
      "o  386 96.4700180053711\n",
      "o  387 156.7153305053711\n",
      "o  388 162.56041107177734\n",
      "o  389 79.5686416625977\n",
      "-  390 69.03591995239258\n",
      "-  391 37.89831886291504\n",
      "-  392 55.32765197753906\n",
      "o  393 73.55089111328125\n",
      "o  394 94.80859680175782\n",
      "o  395 72.30186767578125\n",
      "o  396 105.5302734375\n",
      "o  397 125.43528442382814\n",
      "o  398 70.41659393310547\n",
      "o  399 84.64599151611328\n",
      "o  400 179.25216674804688\n",
      "o  401 160.32428894042968\n",
      "o  402 83.17214126586916\n",
      "o  403 118.38680725097657\n",
      "o  404 211.4911560058594\n",
      "o  405 267.0031311035156\n",
      "o  406 84.72488555908204\n",
      "o  407 104.56842803955078\n",
      "-  408 50.53456192016602\n",
      "-  409 66.51226501464845\n",
      "o  410 119.18341293334969\n",
      "o  411 124.11784439086915\n",
      "-  412 54.480343627929685\n",
      "o  413 153.26636352539063\n",
      "-  414 67.62885513305665\n",
      "o  415 99.73606338500977\n",
      "-  416 56.99034767150879\n",
      "o  417 97.45373001098633\n",
      "o  418 79.08753509521485\n",
      "-  419 67.28159561157227\n",
      "o  420 70.83036346435547\n",
      "o  421 76.66961669921875\n",
      "o  422 95.16112518310547\n",
      "o  423 94.18847732543945\n",
      "-  424 58.49916114807129\n",
      "-  425 66.3615707397461\n",
      "-  426 49.86759910583496\n",
      "-  427 56.1622356414795\n",
      "-  428 25.074427604675293\n",
      "o  429 118.37867431640625\n",
      "-  430 63.85835952758789\n",
      "-  431 50.14692840576172\n",
      "-  432 46.47513427734375\n",
      "o  433 106.1826644897461\n",
      "o  434 119.56138153076172\n",
      "o  435 133.94068603515626\n",
      "o  436 115.77884368896484\n",
      "-  437 56.27572784423828\n",
      "-  438 50.37037544250488\n",
      "o  439 106.01101379394532\n",
      "-  440 49.203100967407224\n",
      "-  441 65.41394805908203\n",
      "-  442 58.8946533203125\n",
      "o  443 143.67970275878906\n",
      "-  444 37.70386848449707\n",
      "-  445 67.40440673828125\n",
      "-  446 32.32136840820313\n",
      "-  447 67.08832550048828\n",
      "-  448 27.466576194763185\n",
      "o  449 87.63920211791992\n",
      "o  450 83.92512741088868\n",
      "o  451 93.75461120605469\n",
      "-  452 56.898613357543944\n",
      "o  453 81.31746215820313\n",
      "o  454 81.0146453857422\n",
      "o  455 81.24267883300782\n",
      "-  456 51.68729629516602\n",
      "o  457 110.6912696838379\n",
      "o  458 99.93188171386721\n",
      "o  459 137.2779724121094\n",
      "o  460 91.8655906677246\n",
      "o  461 105.5401092529297\n",
      "-  462 57.63523979187012\n",
      "o  463 73.83889083862304\n",
      "o  464 73.18643569946289\n",
      "o  465 83.66880264282227\n",
      "o  466 127.81537475585938\n",
      "o  467 80.20741729736328\n",
      "o  468 101.88467559814454\n",
      "o  469 82.07582473754883\n",
      "o  470 95.7397850036621\n",
      "o  471 75.35809478759766\n",
      "o  472 83.05012359619141\n",
      "o  473 85.3574577331543\n",
      "-  474 67.83909759521484\n",
      "o  475 71.48830871582032\n",
      "-  476 45.8474838256836\n",
      "o  477 165.50483245849614\n",
      "-  478 49.62193832397461\n",
      "-  479 53.956917953491214\n",
      "o  480 71.26689529418945\n",
      "o  481 108.43563690185547\n",
      "-  482 37.489035034179686\n",
      "o  483 81.90778579711915\n",
      "o  484 89.44555358886718\n",
      "o  485 97.38484191894531\n",
      "o  486 111.66844940185548\n",
      "-  487 46.29046363830567\n",
      "o  488 75.47059936523438\n",
      "o  489 82.36766357421875\n",
      "o  490 88.83744659423829\n",
      "o  491 93.67790374755859\n",
      "o  492 75.08049392700197\n",
      "o  493 82.69322814941407\n",
      "-  494 50.909429931640624\n",
      "o  495 73.92417373657227\n",
      "o  496 110.10618591308598\n",
      "o  497 78.22209167480469\n",
      "o  498 112.05099792480469\n",
      "-  499 51.20466613769531\n",
      "o  500 133.2046875\n",
      "o  501 87.30051574707034\n",
      "o  502 108.99819793701174\n",
      "-  503 56.709387969970706\n",
      "-  504 67.63163757324219\n",
      "-  505 51.420544433593754\n",
      "o  506 120.98043060302737\n",
      "-  507 28.328973007202148\n",
      "-  508 62.21343803405762\n",
      "-  509 60.88016624450684\n",
      "o  510 72.28378448486328\n",
      "-  511 34.67673950195313\n",
      "o  512 73.01728591918946\n",
      "== Loading TDT tank\n",
      "** Loading tank data from local (previusly cached)\n",
      "== Done\n",
      "== Trying to load events data\n",
      "Loading this events (pd) locally to:  /gorilla1/neural_preprocess/recordings/Pancho/230126/Pancho-230126-145532/events_photodiode.pkl\n",
      "== Done\n",
      "** MINIMAL_LOADING, therefore loading previuosly cached data\n",
      "=== CLEANING UP self.Dat (_cleanup_reloading_saved_state) ===== \n",
      "0 _behclass_alignsim_compute\n",
      "200 _behclass_alignsim_compute\n",
      "400 _behclass_alignsim_compute\n",
      "600 _behclass_alignsim_compute\n",
      "800 _behclass_alignsim_compute\n",
      "Running D._behclass_tokens_extract_datsegs\n",
      "0 _behclass_tokens_extract_datsegs\n",
      "200 _behclass_tokens_extract_datsegs\n",
      "400 _behclass_tokens_extract_datsegs\n",
      "600 _behclass_tokens_extract_datsegs\n",
      "800 _behclass_tokens_extract_datsegs\n",
      "stored in self.Dat[BehClass]\n",
      "- starting/ending len (grouping params):\n",
      "817\n",
      "817\n",
      "- starting/ending len (getting sequence):\n",
      "817\n",
      "817\n",
      "--- Removing nans\n",
      "start len: 817\n",
      "- num names for each col\n",
      "not removing nans, since columns=[]\n",
      "ADded new column: supervision_online\n",
      "Reassigned train/test, using key: probe\n",
      "and values:\n",
      "Train =  [0]\n",
      "Test =  [1]\n",
      " \n",
      "New distribution of train/test:\n",
      "train    817\n",
      "Name: monkey_train_or_test, dtype: int64\n",
      "Appended column: los_info\n",
      "Appended self.Dat[superv_SEQUENCE_SUP]\n",
      "Appended self.Dat[superv_SEQUENCE_ALPHA]\n",
      "Appended self.Dat[superv_COLOR_ON]\n",
      "Appended self.Dat[superv_COLOR_ITEMS_FADE_TO_DEFAULT_BINSTR]\n",
      "Appended self.Dat[superv_COLOR_METHOD]\n",
      "Appended self.Dat[superv_GUIDEDYN_ON]\n",
      "Appended self.Dat[superv_VISUALFB_METH]\n",
      "appended col to self.Dat:\n",
      "supervision_stage_new\n",
      "[taskgroup_reassign_by_mapper], reassigned values in column: taskgroup\n",
      "GROUPING epoch\n",
      "GROUPING_LEVELS ['230126']\n",
      "FEATURE_NAMES ['hdoffline', 'num_strokes_beh', 'num_strokes_task', 'circ', 'dist']\n",
      "SCORE_COL_NAMES []\n",
      "appended col to self.Dat:\n",
      "date_epoch\n",
      "Appended self.Dat[superv_SEQUENCE_SUP]\n",
      "Appended self.Dat[superv_COLOR_ON]\n",
      "Appended self.Dat[superv_COLOR_METHOD]\n",
      "Appended self.Dat[superv_COLOR_ITEMS_FADE_TO_DEFAULT_BINSTR]\n",
      "Appended self.Dat[superv_GUIDEDYN_ON]\n",
      "appended col to self.Dat:\n",
      "supervision_stage_concise\n",
      "Append column to self.Dat:  supervision_stage_semantic\n",
      "Extracted into self.Dat[epoch_orig]\n",
      "... Generated these...\n",
      "self.BehTrialMapList [(1, 0)]\n",
      "self.BehTrialMapListGood {0: (0, 1), 1: (0, 2), 2: (0, 3), 3: (0, 4), 4: (0, 5), 5: (0, 6), 6: (0, 7), 7: (0, 8), 8: (0, 9), 9: (0, 10), 10: (0, 11), 11: (0, 12), 12: (0, 13), 13: (0, 14), 14: (0, 15), 15: (0, 16), 16: (0, 17), 17: (0, 18), 18: (0, 19), 19: (0, 20), 20: (0, 21), 21: (0, 22), 22: (0, 23), 23: (0, 24), 24: (0, 25), 25: (0, 26), 26: (0, 27), 27: (0, 28), 28: (0, 29), 29: (0, 30), 30: (0, 31), 31: (0, 32), 32: (0, 33), 33: (0, 34), 34: (0, 35), 35: (0, 36), 36: (0, 37), 37: (0, 38), 38: (0, 39), 39: (0, 40), 40: (0, 41), 41: (0, 42), 42: (0, 43), 43: (0, 44), 44: (0, 45), 45: (0, 46), 46: (0, 47), 47: (0, 48), 48: (0, 49), 49: (0, 50), 50: (0, 51), 51: (0, 52), 52: (0, 53), 53: (0, 54), 54: (0, 55), 55: (0, 56), 56: (0, 57), 57: (0, 58), 58: (0, 59), 59: (0, 60), 60: (0, 61), 61: (0, 62), 62: (0, 63), 63: (0, 64), 64: (0, 65), 65: (0, 66), 66: (0, 67), 67: (0, 68), 68: (0, 69), 69: (0, 70), 70: (0, 71), 71: (0, 72), 72: (0, 73), 73: (0, 74), 74: (0, 75), 75: (0, 76), 76: (0, 77), 77: (0, 78), 78: (0, 79), 79: (0, 80), 80: (0, 81), 81: (0, 82), 82: (0, 83), 83: (0, 84), 84: (0, 85), 85: (0, 86), 86: (0, 87), 87: (0, 88), 88: (0, 89), 89: (0, 90), 90: (0, 91), 91: (0, 92), 92: (0, 93), 93: (0, 94), 94: (0, 95), 95: (0, 96), 96: (0, 97), 97: (0, 98), 98: (0, 99), 99: (0, 100), 100: (0, 101), 101: (0, 102), 102: (0, 103), 103: (0, 104), 104: (0, 105), 105: (0, 106), 106: (0, 107), 107: (0, 108), 108: (0, 109), 109: (0, 110), 110: (0, 111), 111: (0, 112), 112: (0, 113), 113: (0, 114), 114: (0, 115), 115: (0, 116), 116: (0, 117), 117: (0, 118), 118: (0, 119), 119: (0, 120), 120: (0, 121), 121: (0, 122), 122: (0, 123), 123: (0, 124), 124: (0, 125), 125: (0, 126), 126: (0, 127), 127: (0, 128), 128: (0, 129), 129: (0, 130), 130: (0, 131), 131: (0, 132), 132: (0, 133), 133: (0, 134), 134: (0, 135), 135: (0, 136), 136: (0, 137), 137: (0, 138), 138: (0, 139), 139: (0, 140), 140: (0, 141), 141: (0, 142), 142: (0, 143), 143: (0, 144), 144: (0, 145), 145: (0, 146), 146: (0, 147), 147: (0, 148), 148: (0, 149), 149: (0, 150), 150: (0, 151), 151: (0, 152), 152: (0, 153), 153: (0, 154), 154: (0, 155), 155: (0, 156), 156: (0, 157), 157: (0, 158), 158: (0, 159), 159: (0, 160), 160: (0, 161), 161: (0, 162), 162: (0, 163), 163: (0, 164), 164: (0, 165), 165: (0, 166), 166: (0, 167), 167: (0, 168), 168: (0, 169), 169: (0, 170), 170: (0, 171), 171: (0, 172), 172: (0, 173), 173: (0, 174), 174: (0, 175), 175: (0, 176), 176: (0, 177), 177: (0, 178), 178: (0, 179), 179: (0, 180), 180: (0, 181), 181: (0, 182), 182: (0, 183), 183: (0, 184), 184: (0, 185), 185: (0, 186), 186: (0, 187), 187: (0, 188), 188: (0, 189), 189: (0, 190), 190: (0, 191), 191: (0, 192), 192: (0, 193), 193: (0, 194), 194: (0, 195), 195: (0, 196), 196: (0, 197), 197: (0, 198), 198: (0, 199), 199: (0, 200), 200: (0, 201), 201: (0, 202), 202: (0, 203), 203: (0, 204), 204: (0, 205), 205: (0, 206), 206: (0, 207), 207: (0, 208), 208: (0, 209), 209: (0, 210), 210: (0, 211), 211: (0, 212), 212: (0, 213), 213: (0, 214), 214: (0, 215), 215: (0, 216), 216: (0, 217), 217: (0, 218), 218: (0, 219), 219: (0, 220), 220: (0, 221), 221: (0, 222), 222: (0, 223), 223: (0, 224), 224: (0, 225), 225: (0, 226), 226: (0, 227), 227: (0, 228), 228: (0, 229), 229: (0, 230), 230: (0, 231), 231: (0, 232), 232: (0, 233), 233: (0, 234), 234: (0, 235), 235: (0, 236), 236: (0, 237), 237: (0, 238), 238: (0, 239), 239: (0, 240), 240: (0, 241), 241: (0, 242), 242: (0, 243), 243: (0, 244), 244: (0, 245), 245: (0, 246), 246: (0, 247), 247: (0, 248), 248: (0, 249), 249: (0, 250), 250: (0, 251), 251: (0, 252), 252: (0, 253), 253: (0, 254), 254: (0, 255), 255: (0, 256), 256: (0, 257), 257: (0, 258), 258: (0, 259), 259: (0, 260), 260: (0, 261), 261: (0, 262), 262: (0, 263), 263: (0, 264), 264: (0, 265), 265: (0, 266), 266: (0, 267), 267: (0, 268), 268: (0, 269), 269: (0, 270), 270: (0, 271), 271: (0, 272), 272: (0, 273), 273: (0, 274), 274: (0, 275), 275: (0, 276), 276: (0, 277), 277: (0, 278), 278: (0, 279), 279: (0, 280), 280: (0, 281), 281: (0, 282), 282: (0, 283), 283: (0, 284), 284: (0, 285), 285: (0, 286), 286: (0, 287), 287: (0, 288), 288: (0, 289), 289: (0, 290), 290: (0, 291), 291: (0, 292), 292: (0, 293), 293: (0, 294), 294: (0, 295), 295: (0, 296), 296: (0, 297), 297: (0, 298), 298: (0, 299), 299: (0, 300), 300: (0, 301), 301: (0, 302), 302: (0, 303), 303: (0, 304), 304: (0, 305), 305: (0, 306), 306: (0, 307), 307: (0, 308), 308: (0, 309), 309: (0, 310), 310: (0, 311), 311: (0, 312), 312: (0, 313), 313: (0, 314), 314: (0, 315), 315: (0, 316), 316: (0, 317), 317: (0, 318), 318: (0, 319), 319: (0, 320), 320: (0, 321), 321: (0, 322), 322: (0, 323), 323: (0, 324), 324: (0, 325), 325: (0, 326), 326: (0, 327), 327: (0, 328), 328: (0, 329), 329: (0, 330), 330: (0, 331), 331: (0, 332), 332: (0, 333), 333: (0, 334), 334: (0, 335), 335: (0, 336), 336: (0, 337), 337: (0, 338), 338: (0, 339), 339: (0, 340), 340: (0, 341), 341: (0, 342), 342: (0, 343), 343: (0, 344), 344: (0, 345), 345: (0, 346), 346: (0, 347), 347: (0, 348), 348: (0, 349), 349: (0, 350), 350: (0, 351), 351: (0, 352), 352: (0, 353), 353: (0, 354), 354: (0, 355), 355: (0, 356), 356: (0, 357), 357: (0, 358), 358: (0, 359), 359: (0, 360), 360: (0, 361), 361: (0, 362), 362: (0, 363), 363: (0, 364), 364: (0, 365), 365: (0, 366), 366: (0, 367), 367: (0, 368), 368: (0, 369), 369: (0, 370), 370: (0, 371), 371: (0, 372), 372: (0, 373), 373: (0, 374), 374: (0, 375), 375: (0, 376), 376: (0, 377), 377: (0, 378), 378: (0, 379), 379: (0, 380), 380: (0, 381), 381: (0, 382), 382: (0, 383), 383: (0, 384), 384: (0, 385), 385: (0, 386), 386: (0, 387), 387: (0, 388), 388: (0, 389), 389: (0, 390), 390: (0, 391), 391: (0, 392), 392: (0, 393), 393: (0, 394), 394: (0, 395), 395: (0, 396), 396: (0, 397), 397: (0, 398), 398: (0, 399), 399: (0, 400), 400: (0, 401), 401: (0, 402), 402: (0, 403), 403: (0, 404), 404: (0, 405), 405: (0, 406), 406: (0, 407), 407: (0, 408), 408: (0, 409), 409: (0, 410), 410: (0, 411), 411: (0, 412), 412: (0, 413), 413: (0, 414), 414: (0, 415), 415: (0, 416), 416: (0, 417), 417: (0, 418), 418: (0, 419), 419: (0, 420), 420: (0, 421), 421: (0, 422), 422: (0, 423), 423: (0, 424), 424: (0, 425), 425: (0, 426), 426: (0, 427), 427: (0, 428), 428: (0, 429), 429: (0, 430), 430: (0, 431), 431: (0, 432), 432: (0, 433), 433: (0, 434), 434: (0, 435), 435: (0, 436), 436: (0, 437), 437: (0, 438), 438: (0, 439), 439: (0, 440), 440: (0, 441), 441: (0, 442), 442: (0, 443), 443: (0, 444), 444: (0, 445), 445: (0, 446), 446: (0, 447), 447: (0, 448), 448: (0, 449), 449: (0, 450), 450: (0, 451), 451: (0, 452), 452: (0, 453), 453: (0, 454), 454: (0, 455), 455: (0, 456), 456: (0, 457), 457: (0, 458), 458: (0, 459), 459: (0, 460), 460: (0, 461), 461: (0, 462), 462: (0, 463), 463: (0, 464), 464: (0, 465), 465: (0, 466), 466: (0, 467), 467: (0, 468), 468: (0, 469), 469: (0, 470), 470: (0, 471), 471: (0, 472), 472: (0, 473), 473: (0, 474), 474: (0, 475), 475: (0, 476), 476: (0, 477), 477: (0, 478), 478: (0, 479), 479: (0, 480), 480: (0, 481), 481: (0, 482), 482: (0, 483), 483: (0, 484), 484: (0, 485), 485: (0, 486), 486: (0, 487), 487: (0, 488), 488: (0, 489), 489: (0, 490), 490: (0, 491), 491: (0, 492), 492: (0, 493), 493: (0, 494), 494: (0, 495), 495: (0, 496), 496: (0, 497), 497: (0, 498), 498: (0, 499), 499: (0, 500), 500: (0, 501), 501: (0, 502), 502: (0, 503), 503: (0, 504), 504: (0, 505), 505: (0, 506), 506: (0, 507), 507: (0, 508), 508: (0, 509), 509: (0, 510), 510: (0, 511), 511: (0, 512), 512: (0, 513), 513: (0, 514), 514: (0, 515), 515: (0, 516), 516: (0, 517), 517: (0, 518), 518: (0, 519), 519: (0, 520), 520: (0, 521), 521: (0, 522), 522: (0, 523), 523: (0, 524), 524: (0, 525), 525: (0, 526), 526: (0, 527), 527: (0, 528), 528: (0, 529), 529: (0, 530), 530: (0, 531), 531: (0, 532), 532: (0, 533), 533: (0, 534), 534: (0, 535), 535: (0, 536), 536: (0, 537), 537: (0, 538), 538: (0, 539), 539: (0, 540), 540: (0, 541), 541: (0, 542), 542: (0, 543), 543: (0, 544), 544: (0, 545), 545: (0, 546), 546: (0, 547), 547: (0, 548), 548: (0, 549), 549: (0, 550), 550: (0, 551), 551: (0, 552), 552: (0, 553), 553: (0, 554), 554: (0, 555), 555: (0, 556), 556: (0, 557), 557: (0, 558), 558: (0, 559), 559: (0, 560), 560: (0, 561), 561: (0, 562), 562: (0, 563), 563: (0, 564), 564: (0, 565), 565: (0, 566), 566: (0, 567), 567: (0, 568), 568: (0, 569), 569: (0, 570), 570: (0, 571), 571: (0, 572), 572: (0, 573), 573: (0, 574), 574: (0, 575), 575: (0, 576), 576: (0, 577), 577: (0, 578), 578: (0, 579), 579: (0, 580), 580: (0, 581), 581: (0, 582), 582: (0, 583), 583: (0, 584), 584: (0, 585), 585: (0, 586), 586: (0, 587), 587: (0, 588), 588: (0, 589), 589: (0, 590), 590: (0, 591), 591: (0, 592), 592: (0, 593), 593: (0, 594), 594: (0, 595), 595: (0, 596), 596: (0, 597), 597: (0, 598), 598: (0, 599), 599: (0, 600), 600: (0, 601), 601: (0, 602), 602: (0, 603), 603: (0, 604), 604: (0, 605), 605: (0, 606), 606: (0, 607), 607: (0, 608), 608: (0, 609), 609: (0, 610), 610: (0, 611), 611: (0, 612), 612: (0, 613), 613: (0, 614), 614: (0, 615), 615: (0, 616), 616: (0, 617), 617: (0, 618), 618: (0, 619), 619: (0, 620), 620: (0, 621), 621: (0, 622), 622: (0, 623), 623: (0, 624), 624: (0, 625), 625: (0, 626), 626: (0, 627), 627: (0, 628), 628: (0, 629), 629: (0, 630), 630: (0, 631), 631: (0, 632), 632: (0, 633), 633: (0, 634), 634: (0, 635), 635: (0, 636), 636: (0, 637), 637: (0, 638), 638: (0, 639), 639: (0, 640), 640: (0, 641), 641: (0, 642), 642: (0, 643), 643: (0, 644), 644: (0, 645), 645: (0, 646), 646: (0, 647), 647: (0, 648), 648: (0, 649), 649: (0, 650), 650: (0, 651), 651: (0, 652), 652: (0, 653), 653: (0, 654), 654: (0, 655), 655: (0, 656), 656: (0, 657), 657: (0, 658), 658: (0, 659), 659: (0, 660), 660: (0, 661), 661: (0, 662), 662: (0, 663), 663: (0, 664), 664: (0, 665), 665: (0, 666), 666: (0, 667), 667: (0, 668), 668: (0, 669), 669: (0, 670), 670: (0, 671), 671: (0, 672), 672: (0, 673), 673: (0, 674), 674: (0, 675), 675: (0, 676), 676: (0, 677), 677: (0, 678), 678: (0, 679), 679: (0, 680), 680: (0, 681), 681: (0, 682), 682: (0, 683), 683: (0, 684), 684: (0, 685), 685: (0, 686), 686: (0, 687), 687: (0, 688), 688: (0, 689), 689: (0, 690), 690: (0, 691), 691: (0, 692), 692: (0, 693), 693: (0, 694), 694: (0, 695), 695: (0, 696), 696: (0, 697), 697: (0, 698), 698: (0, 699), 699: (0, 700), 700: (0, 701), 701: (0, 702), 702: (0, 703), 703: (0, 704), 704: (0, 705), 705: (0, 706), 706: (0, 707), 707: (0, 708), 708: (0, 709), 709: (0, 710), 710: (0, 711), 711: (0, 712), 712: (0, 713), 713: (0, 714), 714: (0, 715), 715: (0, 716), 716: (0, 717), 717: (0, 718), 718: (0, 719), 719: (0, 720), 720: (0, 721), 721: (0, 722), 722: (0, 723), 723: (0, 724), 724: (0, 725), 725: (0, 726), 726: (0, 727), 727: (0, 728), 728: (0, 729), 729: (0, 730), 730: (0, 731), 731: (0, 732), 732: (0, 733), 733: (0, 734), 734: (0, 735), 735: (0, 736), 736: (0, 737), 737: (0, 738), 738: (0, 739), 739: (0, 740), 740: (0, 741), 741: (0, 742), 742: (0, 743), 743: (0, 744), 744: (0, 745), 745: (0, 746), 746: (0, 747), 747: (0, 748), 748: (0, 749), 749: (0, 750), 750: (0, 751), 751: (0, 752), 752: (0, 753), 753: (0, 754), 754: (0, 755), 755: (0, 756), 756: (0, 757), 757: (0, 758), 758: (0, 759), 759: (0, 760), 760: (0, 761), 761: (0, 762), 762: (0, 763), 763: (0, 764), 764: (0, 765), 765: (0, 766), 766: (0, 767), 767: (0, 768), 768: (0, 769), 769: (0, 770), 770: (0, 771), 771: (0, 772), 772: (0, 773), 773: (0, 774), 774: (0, 775), 775: (0, 776), 776: (0, 777), 777: (0, 778), 778: (0, 779), 779: (0, 780), 780: (0, 781), 781: (0, 782), 782: (0, 783), 783: (0, 784), 784: (0, 785), 785: (0, 786), 786: (0, 787), 787: (0, 788), 788: (0, 789), 789: (0, 790), 790: (0, 791), 791: (0, 792), 792: (0, 793), 793: (0, 794), 794: (0, 795), 795: (0, 796), 796: (0, 797), 797: (0, 798), 798: (0, 799), 799: (0, 800), 800: (0, 801), 801: (0, 802), 802: (0, 803), 803: (0, 804), 804: (0, 805), 805: (0, 806), 806: (0, 807), 807: (0, 808), 808: (0, 809), 809: (0, 810), 810: (0, 811), 811: (0, 812), 812: (0, 813), 813: (0, 814), 814: (0, 815), 815: (0, 816), 816: (0, 817), 817: (0, 818), 818: (0, 819), 819: (0, 820), 820: (0, 821), 821: (0, 822), 822: (0, 823), 823: (0, 824), 824: (0, 825), 825: (0, 826), 826: (0, 827), 827: (0, 828), 828: (0, 829), 829: (0, 830), 830: (0, 831), 831: (0, 832), 832: (0, 833), 833: (0, 834), 834: (0, 835), 835: (0, 836), 836: (0, 837), 837: (0, 838), 838: (0, 839), 839: (0, 840), 840: (0, 841), 841: (0, 842), 842: (0, 843), 843: (0, 844), 844: (0, 845), 845: (0, 846), 846: (0, 847), 847: (0, 848), 848: (0, 849), 849: (0, 850), 850: (0, 851), 851: (0, 852), 852: (0, 853), 853: (0, 854), 854: (0, 855), 855: (0, 856), 856: (0, 857), 857: (0, 858), 858: (0, 859), 859: (0, 860), 860: (0, 861), 861: (0, 862), 862: (0, 863), 863: (0, 864), 864: (0, 865), 865: (0, 866), 866: (0, 867), 867: (0, 868), 868: (0, 869), 869: (0, 870), 870: (0, 871), 871: (0, 872), 872: (0, 873), 873: (0, 874), 874: (0, 875), 875: (0, 876), 876: (0, 877), 877: (0, 878), 878: (0, 879), 879: (0, 880), 880: (0, 881), 881: (0, 882), 882: (0, 883)}\n",
      "Generated self._MapperTrialcode2TrialToTrial!\n",
      "Extracted into self.Dat[epoch_orig]\n",
      "0\n",
      "1\n",
      "2\n",
      "3\n",
      "4\n",
      "5\n",
      "6\n",
      "7\n",
      "8\n",
      "9\n",
      "10\n",
      "11\n",
      "12\n",
      "13\n",
      "14\n",
      "15\n",
      "16\n",
      "17\n",
      "18\n",
      "19\n",
      "20\n",
      "21\n",
      "22\n",
      "23\n",
      "24\n",
      "25\n",
      "26\n",
      "27\n",
      "28\n",
      "29\n",
      "30\n",
      "31\n",
      "32\n",
      "33\n",
      "34\n",
      "35\n",
      "36\n",
      "37\n",
      "38\n",
      "39\n",
      "40\n",
      "41\n",
      "42\n",
      "43\n",
      "44\n",
      "45\n",
      "46\n",
      "47\n",
      "48\n",
      "49\n",
      "50\n",
      "51\n",
      "52\n",
      "53\n",
      "54\n",
      "55\n",
      "56\n",
      "57\n",
      "58\n",
      "59\n",
      "60\n",
      "61\n",
      "62\n",
      "63\n",
      "64\n",
      "65\n",
      "66\n",
      "67\n",
      "68\n",
      "69\n",
      "70\n",
      "71\n",
      "72\n",
      "73\n",
      "74\n",
      "75\n",
      "76\n",
      "77\n",
      "78\n",
      "79\n",
      "80\n",
      "81\n",
      "82\n",
      "83\n",
      "84\n",
      "85\n",
      "86\n",
      "87\n",
      "88\n",
      "89\n",
      "90\n",
      "91\n",
      "92\n",
      "93\n",
      "94\n",
      "95\n",
      "96\n",
      "97\n",
      "98\n",
      "99\n",
      "100\n",
      "101\n",
      "102\n",
      "103\n",
      "104\n",
      "105\n",
      "106\n",
      "107\n",
      "108\n",
      "109\n",
      "110\n",
      "111\n",
      "112\n",
      "113\n",
      "114\n",
      "115\n",
      "116\n",
      "117\n",
      "118\n",
      "119\n",
      "120\n",
      "121\n",
      "122\n",
      "123\n",
      "124\n",
      "125\n",
      "126\n",
      "127\n",
      "128\n",
      "129\n",
      "130\n",
      "131\n",
      "132\n",
      "133\n",
      "134\n",
      "135\n",
      "136\n",
      "137\n",
      "138\n",
      "139\n",
      "140\n",
      "141\n",
      "142\n",
      "143\n",
      "144\n",
      "145\n",
      "146\n",
      "147\n",
      "148\n",
      "149\n",
      "150\n",
      "151\n",
      "152\n",
      "153\n",
      "154\n",
      "155\n",
      "156\n",
      "157\n",
      "158\n",
      "159\n",
      "160\n",
      "161\n",
      "162\n",
      "163\n",
      "164\n",
      "165\n",
      "166\n",
      "167\n",
      "168\n",
      "169\n",
      "170\n",
      "171\n",
      "172\n",
      "173\n",
      "174\n",
      "175\n",
      "176\n",
      "177\n",
      "178\n",
      "179\n",
      "180\n",
      "181\n",
      "182\n",
      "183\n",
      "184\n",
      "185\n",
      "186\n",
      "187\n",
      "188\n",
      "189\n",
      "190\n",
      "191\n",
      "192\n",
      "193\n",
      "194\n",
      "195\n",
      "196\n",
      "197\n",
      "198\n",
      "199\n",
      "200\n",
      "201\n",
      "202\n",
      "203\n",
      "204\n",
      "205\n",
      "206\n",
      "207\n",
      "208\n",
      "209\n",
      "210\n",
      "211\n",
      "212\n",
      "213\n",
      "214\n",
      "215\n",
      "216\n",
      "217\n",
      "218\n",
      "219\n",
      "220\n",
      "221\n",
      "222\n",
      "223\n",
      "224\n",
      "225\n",
      "226\n",
      "227\n",
      "228\n",
      "229\n",
      "230\n",
      "231\n",
      "232\n",
      "233\n",
      "234\n",
      "235\n",
      "236\n",
      "237\n",
      "238\n",
      "239\n",
      "240\n",
      "241\n",
      "242\n",
      "243\n",
      "244\n",
      "245\n",
      "246\n",
      "247\n",
      "248\n",
      "249\n",
      "250\n",
      "251\n",
      "252\n",
      "253\n",
      "254\n",
      "255\n",
      "256\n",
      "Extracted successfully for session:  0\n",
      "Generated index mappers!\n"
     ]
    }
   ],
   "source": [
    "DATE = 230126\n",
    "animal = \"Pancho\"\n",
    "MS = load_mult_session_helper(DATE, animal, MINIMAL_LOADING=True, spikes_version=\"kilosort_if_exists\") \n"
   ],
   "metadata": {
    "collapsed": false,
    "ExecuteTime": {
     "end_time": "2024-01-29T16:04:52.589297745Z",
     "start_time": "2024-01-29T16:03:44.320408919Z"
    }
   },
   "id": "807b31a9670c9ade"
  },
  {
   "cell_type": "code",
   "execution_count": null,
   "outputs": [],
   "source": [
    "MS.SessionsList"
   ],
   "metadata": {
    "collapsed": false
   },
   "id": "97731298d6f1215a"
  },
  {
   "cell_type": "code",
   "execution_count": null,
   "outputs": [],
   "source": [
    "# CHARS\n",
    "# - extract DS.\n",
    "sn = MS.SessionsList[0]\n",
    "\n",
    "D = sn.Datasetbeh"
   ],
   "metadata": {
    "collapsed": false
   },
   "id": "e10bd1901663a2c1"
  },
  {
   "cell_type": "code",
   "execution_count": null,
   "outputs": [],
   "source": [
    "# Look at whats in D\n",
    "D.Dat[\"epoch\"].value_counts()\n",
    "\n",
    "from pythonlib.tools.pandastools import grouping_print_n_samples\n",
    "grouping_print_n_samples(D.Dat, [\"epoch\", \"seqc_0_shape\", \"seqc_0_loc\"])"
   ],
   "metadata": {
    "collapsed": false
   },
   "id": "7f15ecc6c5a5b472"
  },
  {
   "cell_type": "code",
   "execution_count": null,
   "outputs": [],
   "source": [
    "\n",
    "# - load pre-saved DS from cluster analysis, and merge\n",
    "from neuralmonkey.classes.snippets import datasetstrokes_extract\n",
    "tasks_only_keep_these = [\"character\"]\n",
    "DS = datasetstrokes_extract(D, \"clean_chars\", False, None) "
   ],
   "metadata": {
    "collapsed": false
   },
   "id": "11341730dce6159d"
  },
  {
   "cell_type": "markdown",
   "source": [
    "### RUN (Main goal: extract PA for each (brain, twindow) without doing much else"
   ],
   "metadata": {
    "collapsed": false
   },
   "id": "c9cfe6a041b8240b"
  },
  {
   "cell_type": "code",
   "execution_count": null,
   "outputs": [],
   "source": [
    "# from neuralmonkey.analyses.state_space_good import pipeline_rsa_scalar_population_MULT, load_mult_data_helper, pipeline_rsa_scalar_population_MULT_PLOTS, load_single_data\n",
    "from neuralmonkey.analyses.rsa import pipeline_rsa_scalar_population_MULT, load_mult_data_helper, pipeline_rsa_scalar_population_MULT_PLOTS, _load_single_data\n"
   ],
   "metadata": {
    "collapsed": false
   },
   "id": "e81c4f2e8de3cb72"
  },
  {
   "cell_type": "markdown",
   "source": [
    "##### Option 1: Extract Snippets --> Extract Popanals"
   ],
   "metadata": {
    "collapsed": false
   },
   "id": "e4f9b53a679442bb"
  },
  {
   "cell_type": "code",
   "execution_count": null,
   "outputs": [],
   "source": [
    "from neuralmonkey.classes.snippets import Snippets, extraction_helper\n",
    "# from neuralmonkey.analyses.state_space_good import rsa_convert_PA_to_Cl, _preprocess_rsa_scalar_population, pipeline_rsa_scalar_population\n",
    "from neuralmonkey.analyses.rsa import rsa_convert_PA_to_Cl, pipeline_rsa_all_steps\n",
    "\n",
    "if True:\n",
    "    ### PIG\n",
    "    list_animal_date = [\n",
    "            (\"Diego\", \"230628\"),\n",
    "            (\"Diego\", \"230630\"),\n",
    "            (\"Pancho\", \"230623\"),\n",
    "            (\"Pancho\", \"230626\"),\n",
    "            ]\n",
    "    list_version_distance = [\"pearson\", \"euclidian\"]\n",
    "    SAVEDIR = \"/gorilla1/analyses/recordings/main/RSA\"\n",
    "    list_time_windows = [\n",
    "        (-0.5, -0.3),\n",
    "        (-0.3, -0.1),\n",
    "        (-0.1, 0.1),\n",
    "        (0.1, 0.3),\n",
    "        (0.3, 0.5)\n",
    "        ]\n",
    "    list_which_level = [\"stroke\", \"stroke_off\"]\n",
    "    DS_pruned = None\n",
    "    SKIP_SESS_EXTRACTION = False\n",
    "    \n",
    "    FEATURES_EXTRACT_TO_POPANAL = []\n",
    "else:\n",
    "    ### CHAR\n",
    "    # This is very hacky. Currently extracting DS by hand above, and then bypassing its extradction\n",
    "    # belopw. SHould incorporate this input a method of DS...\n",
    "    \n",
    "    assert animal==\"Pancho\"\n",
    "    assert DATE == 230126\n",
    "    list_animal_date = [\n",
    "            (animal, DATE),\n",
    "            ]\n",
    "    list_version_distance = [\"pearson\"]\n",
    "    SAVEDIR = \"/gorilla1/analyses/recordings/main/RSA\"\n",
    "    list_time_windows = [\n",
    "        (-0.5, -0.3),\n",
    "        (-0.3, -0.1),\n",
    "        (-0.1, 0.1),\n",
    "        (0.1, 0.3),\n",
    "        (0.3, 0.5)\n",
    "        ]\n",
    "    list_which_level = [\"stroke\", \"stroke_off\"]\n",
    "    DS_pruned = DS # This is extracted manually above (very interim)\n",
    "    SKIP_SESS_EXTRACTION = True\n",
    "    \n",
    "    FEATURES_EXTRACT_TO_POPANAL = ['clust_sim_max', 'shape_label', 'velmean_th', 'velmean_thbin', 'Stroke']\n",
    "    \n",
    "    \n",
    "for animal, DATE in list_animal_date:\n",
    "    # DATE = 230623\n",
    "    # animal = \"Pancho\"\n",
    "    # DATE = 230630\n",
    "    # animal = \"Diego\"\n",
    "    \n",
    "    if not SKIP_SESS_EXTRACTION:\n",
    "        MS = load_mult_session_helper(DATE, animal, MINIMAL_LOADING=True, spikes_version=\"kilosort_if_exists\") \n",
    "        # MS = load_mult_session_helper(DATE, animal, MINIMAL_LOADING=True, spikes_version=\"tdt\") \n",
    "        \n",
    "        ### Snippets, split by stroke index and location\n",
    "        \n",
    "        # Pick out a single session\n",
    "        sn = MS.SessionsList[0]\n",
    "    \n",
    "    for PLOT_INDIV in [False]:\n",
    "        for which_level in list_which_level:\n",
    "        # for which_level in [\"stroke_off\"]:\n",
    "            # == MODIFY THESE:\n",
    "            list_pre_dur = [-0.525]\n",
    "            list_post_dur = [0.525]\n",
    "            # which_level = \"stroke_off\"\n",
    "            # which_level = \"stroke\"\n",
    "            \n",
    "            # == IGNORE THESE:\n",
    "            strokes_only_keep_single = False # if True, then prunes dataset, removing trials \"remove_if_multiple_behstrokes_per_taskstroke\"\n",
    "            prune_feature_levels_min_n_trials = 1 \n",
    "            list_events = [] # must be empty\n",
    "            list_features_extraction = []\n",
    "            list_features_get_conjunction = []\n",
    "            trials_prune_just_those_including_events=False\n",
    "            \n",
    "            SP = Snippets(sn,\n",
    "                which_level,\n",
    "                list_events,\n",
    "                list_features_extraction,\n",
    "                list_features_get_conjunction,\n",
    "                list_pre_dur,\n",
    "                list_post_dur,\n",
    "                strokes_only_keep_single=strokes_only_keep_single,\n",
    "                tasks_only_keep_these=None,\n",
    "                prune_feature_levels_min_n_trials=prune_feature_levels_min_n_trials,\n",
    "                dataset_pruned_for_trial_analysis=None,\n",
    "                trials_prune_just_those_including_events=trials_prune_just_those_including_events,\n",
    "                fr_which_version='sqrt',\n",
    "                NEW_VERSION=True,\n",
    "                SKIP_DATA_EXTRACTION=False,\n",
    "                DS_pruned=DS_pruned\n",
    "                         )\n",
    "            \n",
    "            ####### EXTRACT REQUIRED FEATURES\n",
    "            # for version_distance in [\"pearson\", \"euclidian\"]:\n",
    "            for version_distance in list_version_distance:\n",
    "                \n",
    "                # Extract and save PopAnals.\n",
    "                DictBregionTwindPA = snippets_extract_popanals_split_bregion_twind(SP, list_time_windows, EFFECT_VARS)\n",
    "                \n",
    "\n",
    "            "
   ],
   "metadata": {
    "collapsed": false
   },
   "id": "1ed738c57561c166"
  },
  {
   "cell_type": "markdown",
   "source": [
    "##### Option 2: Load pre-saved Snippets --> Extract PopAnal"
   ],
   "metadata": {
    "collapsed": false
   },
   "id": "476d4a474480c1f1"
  },
  {
   "cell_type": "code",
   "execution_count": null,
   "outputs": [],
   "source": [
    "from neuralmonkey.classes.session import load_mult_session_helper\n"
   ],
   "metadata": {
    "collapsed": false
   },
   "id": "1abf403eecd0416b"
  },
  {
   "cell_type": "code",
   "execution_count": null,
   "outputs": [],
   "source": [
    "from neuralmonkey.classes.snippets import load_and_concat_mult_snippets\n",
    "\n",
    "DATE = 230612\n",
    "animal = \"Pancho\"\n",
    "which_level = \"trial\"\n",
    "DEBUG = False\n",
    "MS = load_mult_session_helper(DATE, animal)\n",
    "SP, SAVEDIR_ALL = load_and_concat_mult_snippets(MS, which_level = which_level,\n",
    "    DEBUG=DEBUG)\n"
   ],
   "metadata": {
    "collapsed": false
   },
   "id": "87b1372a885e2a1a"
  },
  {
   "cell_type": "code",
   "execution_count": null,
   "outputs": [],
   "source": [
    "# Load a question\n",
    "from neuralmonkey.analyses.rsa import rsagood_questions_dict\n",
    "DictParamsEachQuestion = rsagood_questions_dict(animal, DATE)\n",
    "\n",
    "\n",
    "question = \"CV_shape\"\n",
    "# question = \"SP_shape_loc\"\n",
    "q_params = DictParamsEachQuestion[question]\n",
    "print(q_params)"
   ],
   "metadata": {
    "collapsed": false
   },
   "id": "8c1967f1c422c7fa"
  },
  {
   "cell_type": "code",
   "execution_count": null,
   "outputs": [],
   "source": [
    "list_time_windows = [\n",
    "    (-0.3, -0.1),\n",
    "    (0.1, 0.3),\n",
    "    ]\n",
    "b\n",
    "from python"
   ],
   "metadata": {
    "collapsed": false
   },
   "id": "2856c7b1f4595797"
  },
  {
   "cell_type": "code",
   "execution_count": null,
   "outputs": [],
   "source": [
    "# Testing out params (ANOVA).\n",
    "from neuralmonkey.analyses.state_space_good import snippets_extract_popanals_split_bregion_twind\n",
    "from neuralmonkey.metadat.analy.anova_params import params_getter_dataset_preprocess\n",
    "\n",
    "params_getter_dataset_preprocess(\"singleprimvar\", \"Pancho\", 230612)"
   ],
   "metadata": {
    "collapsed": false
   },
   "id": "97363b20a5ba6f58"
  },
  {
   "cell_type": "code",
   "execution_count": null,
   "outputs": [],
   "source": [
    "# Clean up SP and extract features\n",
    "D, list_features_extraction = SP.datasetbeh_preprocess_clean_by_expt(\n",
    "    ANALY_VER=q_params[\"ANALY_VER\"], vars_extract_append=q_params[\"effect_vars\"])"
   ],
   "metadata": {
    "collapsed": false
   },
   "id": "1a645d70bcd2501b"
  },
  {
   "cell_type": "code",
   "execution_count": null,
   "outputs": [],
   "source": [
    "\n",
    "# Prune to just the events of interest\n",
    "if q_params[\"events_keep\"] is not None:\n",
    "    events_in = SP.DfScalar[\"event\"].unique().tolist()\n",
    "    SP.DfScalar = SP.DfScalar[SP.DfScalar[\"event\"].isin(q_params[\"events_keep\"])].reset_index(drop=True)\n",
    "    if len(SP.DfScalar)==0:\n",
    "        print(q_params[\"events_keep\"])\n",
    "        print(events_in)\n",
    "        assert False\n",
    "\n",
    "# Sanity check\n",
    "# - variables are present\n",
    "# pa = dfallpa[\"pa\"].values[0]\n",
    "# for var in q_params[\"effect_vars\"]:\n",
    "#     assert var in SP.DfScalar.columns\n",
    "    # assert var in pa.Xlabels[\"trials\"].columns\n",
    "# events_exist = pa.Xlabels[\"trials\"][\"eventdistStrokWrapperMult with preprocess\"].tolist()\n",
    "# assert any([ev in events_exist for ev in q_params[\"events_keep\"]])\n",
    "\n",
    "HACK_RENAME_SHAPES = True\n",
    "\n",
    "# Extract all popanals\n",
    "dfallpa = snippets_extract_popanals_split_bregion_twind(SP, list_time_windows,\n",
    "                                                list_features_extraction,\n",
    "                                                HACK_RENAME_SHAPES=HACK_RENAME_SHAPES)\n"
   ],
   "metadata": {
    "collapsed": false
   },
   "id": "757ea996165adbeb"
  },
  {
   "cell_type": "code",
   "execution_count": null,
   "outputs": [],
   "source": [
    "pa = dfallpa[\"pa\"].values[0]\n",
    "id(pa.Xlabels[\"trials\"])"
   ],
   "metadata": {
    "collapsed": false
   },
   "id": "f92aeec636884d42"
  },
  {
   "cell_type": "code",
   "execution_count": null,
   "outputs": [],
   "source": [
    "dfthis = pa.Xlabels[\"trials\"]\n",
    "# dfthis = pa.Xlabels[\"trials\"].copy()\n",
    "dfthis[\"twind\"] = [(-0.3, -0.1) for _ in range(len(dfthis))]\n",
    "pa.Xlabels[\"trials\"] = dfthis"
   ],
   "metadata": {
    "collapsed": false
   },
   "id": "cf4effa22cef06b4"
  },
  {
   "cell_type": "code",
   "execution_count": null,
   "outputs": [],
   "source": [
    "dfallpa"
   ],
   "metadata": {
    "collapsed": false
   },
   "id": "f29ade802339bfb4"
  },
  {
   "cell_type": "code",
   "execution_count": null,
   "outputs": [],
   "source": [
    "pa.Xlabels[\"times\"]"
   ],
   "metadata": {
    "collapsed": false
   },
   "id": "ecf35b55534ec805"
  },
  {
   "cell_type": "code",
   "execution_count": null,
   "outputs": [],
   "source": [
    "pa = dfallpa[\"pa\"].values[1]\n",
    "id(pa.Xlabels[\"trials\"])"
   ],
   "metadata": {
    "collapsed": false
   },
   "id": "e826fceec9e48d30"
  },
  {
   "cell_type": "code",
   "execution_count": null,
   "outputs": [],
   "source": [
    "# make copy whenver generate new pa\n",
    "# pa must deepcopy.\n",
    "pa = dfallpa[\"pa\"].values[0]\n",
    "pa.Xlabels[\"trials\"][\"twind\"] = [(0,0) for _ in range(len(pa.Xlabels[\"trials\"]))]"
   ],
   "metadata": {
    "collapsed": false
   },
   "id": "d05abb8cdd8b20bd"
  },
  {
   "cell_type": "code",
   "execution_count": null,
   "outputs": [],
   "source": [
    "len(set(dfallpa[\"pa\"]))"
   ],
   "metadata": {
    "collapsed": false
   },
   "id": "6047b7d3fd7449c0"
  },
  {
   "cell_type": "code",
   "execution_count": null,
   "outputs": [],
   "source": [
    "[pa.Xlabels[\"trials\"] for pa in dfallpa[\"pa\"]]"
   ],
   "metadata": {
    "collapsed": false
   },
   "id": "74693b723eef8045"
  },
  {
   "cell_type": "code",
   "execution_count": null,
   "outputs": [],
   "source": [
    "for i, row in dfallpa.iterrows():\n",
    "    print(row[\"twind\"], row[\"pa\"].Xlabels[\"trials\"][\"twind\"].unique())"
   ],
   "metadata": {
    "collapsed": false
   },
   "id": "6ff99a6ceaf4019f"
  },
  {
   "cell_type": "markdown",
   "source": [
    "## Load and Test code with a single specific dataset"
   ],
   "metadata": {
    "collapsed": false
   },
   "id": "119cc8a07b17f1ce"
  },
  {
   "cell_type": "markdown",
   "source": [
    "##### [Option 1] Generate dfallpa by running above (from Snippets)"
   ],
   "metadata": {
    "collapsed": false
   },
   "id": "16fdeae159ae34d1"
  },
  {
   "cell_type": "markdown",
   "source": [
    "##### [Option 2] Load pre-computed DFallpa"
   ],
   "metadata": {
    "collapsed": false
   },
   "id": "a9845020d528fc76"
  },
  {
   "cell_type": "code",
   "execution_count": null,
   "outputs": [],
   "source": [
    "from neuralmonkey.analyses.rsa import rsagood_pa_vs_theor_wrapper_loadresults, rsagood_pa_vs_theor_single\n",
    "\n",
    "# /gorilla1/analyses/recordings/main/RSA/Diego-230619/agg_True-subtr_gridsize-dist_euclidian_unbiased/SP_shape_size/process_single_pa/trial-03_samp-M1_m-(-0.5, -0.3)\n",
    "\n",
    "\n",
    "# animal = \"Pancho\"\n",
    "# date = 220716\n",
    "# question = \"SP_shape_size\"\n",
    "# version_distance = \"euclidian_unbiased\"\n",
    "# subtract_mean_each_level_of_var = None\n",
    "\n",
    "# animal = \"Pancho\"\n",
    "# date = 220715\n",
    "# question = \"SP_shape_loc_TIME\"\n",
    "# version_distance = \"euclidian_unbiased\"\n",
    "# subtract_mean_each_level_of_var = \"event\"\n",
    "\n",
    "# animal = \"Pancho\"\n",
    "# date = 220715\n",
    "# question = \"SP_shape_loc\"\n",
    "# version_distance = \"euclidian_unbiased\"\n",
    "# subtract_mean_each_level_of_var = None\n",
    "\n",
    "animal = \"Diego\"\n",
    "date = 230618\n",
    "question = \"SP_shape_size\"\n",
    "version_distance = \"euclidian_unbiased\"\n",
    "subtract_mean_each_level_of_var = None\n",
    "\n",
    "DO_AGG_TRIALS = True\n",
    "DFallpa, DFRES_THEOR, DFRES_SAMEDIFF, DFRES_EFFECT_CONJ, DFRES_EFFECT_MARG, Params, savedir = rsagood_pa_vs_theor_wrapper_loadresults(animal, date, question, version_distance,\n",
    "                                            DO_AGG_TRIALS, subtract_mean_each_level_of_var)\n"
   ],
   "metadata": {
    "collapsed": false
   },
   "id": "9bd69e30f8e45f9a"
  },
  {
   "cell_type": "code",
   "execution_count": null,
   "outputs": [],
   "source": [
    "# Extract saved params -- or -- hand enter params\n",
    "\n",
    "effect_vars = Params[\"question_params\"][\"effect_vars\"]\n",
    "# effect_vars = Params[\"EFFECT_VARS\"]\n",
    "\n",
    "vars_test_invariance_over_dict = {\n",
    "    \"same\":[],\n",
    "    \"diff\":[\"gridsize\"]\n",
    "}\n",
    "vars_test_invariance_over_dict = None\n",
    "\n",
    "version_distance = \"euclidian_unbiased\"\n",
    "# use_distributional_distance = True\n"
   ],
   "metadata": {
    "collapsed": false
   },
   "id": "ecb12e848d16747a"
  },
  {
   "cell_type": "markdown",
   "source": [
    "##### [After loading DFallpa] Compute: A single PA --> Clsim and dfrestheor"
   ],
   "metadata": {
    "collapsed": false
   },
   "id": "613da2180bd007f"
  },
  {
   "cell_type": "code",
   "execution_count": null,
   "outputs": [],
   "source": [
    "# Get Clsim\n",
    "br = \"PMv_m\"\n",
    "\n",
    "tw = \"dummy\"\n",
    "ev = \"dummy\"\n",
    "wl = \"dummy\"\n",
    "\n",
    "# tw = (-0.5, -0.3)\n",
    "# ev = \"03_samp\"\n",
    "# wl = \"trial\"\n",
    "\n",
    "# tw = (-0.3, -0.1)\n",
    "# ev = \"06_on_strokeidx_0\"\n",
    "# wl = \"trial\"\n",
    "\n",
    "a = DFallpa[\"bregion\"]==br\n",
    "b = DFallpa[\"twind\"]==tw\n",
    "c = DFallpa[\"event\"]==ev\n",
    "d = DFallpa[\"which_level\"]==wl\n",
    "pa =DFallpa[(a & b & c & d)][\"pa\"].values[0]\n"
   ],
   "metadata": {
    "collapsed": false
   },
   "id": "f6fc355fcab9bc8d"
  },
  {
   "cell_type": "code",
   "execution_count": null,
   "outputs": [],
   "source": [
    "\n",
    "sdir = \"/tmp\"\n",
    "PLOT = False\n",
    "dfres_same_diff, dfres_theor, Clraw, Clsim, PAagg, DictVarToClsimtheor = rsagood_pa_vs_theor_single(pa, effect_vars, version_distance, subtract_mean_each_level_of_var,\n",
    "                                                                                                    vars_test_invariance_over_dict=vars_test_invariance_over_dict,\n",
    "                                                                                                    sdir=sdir, PLOT_THEORETICAL_SIMMATS=True, PLOT=PLOT, DO_AGG_TRIALS=DO_AGG_TRIALS)"
   ],
   "metadata": {
    "collapsed": false
   },
   "id": "8a425648ad2e476e"
  },
  {
   "cell_type": "markdown",
   "source": [
    "##### [Devo] Same minus diff"
   ],
   "metadata": {
    "collapsed": false
   },
   "id": "d91e7271a6ebca4"
  },
  {
   "cell_type": "code",
   "execution_count": null,
   "outputs": [],
   "source": [
    "# efffect\n",
    "var_effect = \"seqc_0_shape\"\n",
    "# other vars (to define \"same context\")\n",
    "vars_context = [var for var in effect_vars if not var==var_effect]\n",
    "# Invariance, test over levels of this var (or conj var).\n",
    "vars_test_invariance_over_dict = {\n",
    "    \"same\":[\"seqc_0_loc\"],\n",
    "    \"diff\":[\"event\"]\n",
    "}\n",
    "\n",
    "\n",
    "Clsim.rsa_distmat_score_same_diff(var_effect, effect_vars, vars_test_invariance_over_dict, PLOT=False)\n",
    "\n"
   ],
   "metadata": {
    "collapsed": false
   },
   "id": "1fe2940b37ba9c54"
  },
  {
   "cell_type": "code",
   "execution_count": null,
   "outputs": [],
   "source": [
    "import pandas as pd\n",
    "pd.DataFrame(res)"
   ],
   "metadata": {
    "collapsed": false
   },
   "id": "93b2f46e0eca973b"
  },
  {
   "cell_type": "markdown",
   "source": [
    "##### [OPTIONAL] Prune PA further"
   ],
   "metadata": {
    "collapsed": false
   },
   "id": "216efbb1e21330c4"
  },
  {
   "cell_type": "code",
   "execution_count": null,
   "outputs": [],
   "source": [
    "effect_vars = Params[\"question_params\"][\"effect_vars\"]"
   ],
   "metadata": {
    "collapsed": false
   },
   "id": "a3bf1bf6ad4c1db6"
  },
  {
   "cell_type": "code",
   "execution_count": null,
   "outputs": [],
   "source": [
    "from neuralmonkey.analyses.rsa import preprocess_prune_pa_enough_data\n",
    "pa, res_check_before, res_check_after, vars_remove, reason_vars_remove = preprocess_prune_pa_enough_data(pa, effect_vars)\n",
    "\n",
    "for var in effect_vars:\n",
    "    display(res_check_after[var])\n"
   ],
   "metadata": {
    "collapsed": false
   },
   "id": "42fca33a9cc77b54"
  },
  {
   "cell_type": "code",
   "execution_count": null,
   "outputs": [],
   "source": [
    "ma = np.isnan(Clsim.Xinput)\n",
    "Clsim.rsa_matindex_plot_bool_mask(ma)"
   ],
   "metadata": {
    "collapsed": false
   },
   "id": "d344664ee717eb40"
  },
  {
   "cell_type": "code",
   "execution_count": null,
   "outputs": [],
   "source": [
    "\n",
    "# 1. Devo - unbiased eucl distance.\n",
    "# 2. Use \"same context\" as positiv econtrol\n",
    "# 3. All analyses should use \"diff context\" mask.\n",
    "\n",
    "# TODO:\n",
    "# DONE - put this method into Clraw (using trial-level data)\n",
    "# - Test out computation of positive cnotrol\n",
    "# - oput into kmain code.\n",
    "# -- make sure to plot masks.\n",
    "# - run it.\n"
   ],
   "metadata": {
    "collapsed": false
   },
   "id": "c7aec4a0fa3ec670"
  },
  {
   "cell_type": "code",
   "execution_count": null,
   "outputs": [],
   "source": [
    "# Compute distance "
   ],
   "metadata": {
    "collapsed": false
   },
   "id": "a509d22e29991bb1"
  },
  {
   "cell_type": "code",
   "execution_count": null,
   "outputs": [],
   "source": [
    "# 1) Norm by conjunction of variables (event and location)\n",
    "# 2) Get correaltion after masking\n",
    "# - to see effect of event, must do correlation after masking to \n",
    "# All of (diff event)\n",
    "# Or just (diff event, same everything else).\n",
    "# --- IE cannot have (same event, diff other things).\n"
   ],
   "metadata": {
    "collapsed": false
   },
   "id": "af89d3b4e567cf77"
  },
  {
   "cell_type": "markdown",
   "source": [
    "##### Run entire pipeline (score_wrapper) [All PA --> Summary DFRES_THEOR]"
   ],
   "metadata": {
    "collapsed": false
   },
   "id": "ad405ae69318a89d"
  },
  {
   "cell_type": "code",
   "execution_count": null,
   "outputs": [],
   "source": [
    "# Load a question\n",
    "from neuralmonkey.analyses.rsa import rsagood_questions_dict\n",
    "date = DATE\n",
    "DictParamsEachQuestion = rsagood_questions_dict(animal, date)\n",
    "\n",
    "question = \"CV_shape\"\n",
    "# question = \"SP_shape_loc\"\n",
    "q_params = DictParamsEachQuestion[question]\n",
    "print(q_params)"
   ],
   "metadata": {
    "collapsed": false
   },
   "id": "b95874c252a5b6ae"
  },
  {
   "cell_type": "code",
   "execution_count": null,
   "outputs": [],
   "source": [
    "Params"
   ],
   "metadata": {
    "collapsed": false
   },
   "id": "e68e675cd83b772a"
  },
  {
   "cell_type": "code",
   "execution_count": null,
   "outputs": [],
   "source": [
    "question = Params[\"question\"]\n",
    "q_params = Params[\"question_params\"]\n",
    "subtract_mean_each_level_of_var = None\n",
    "# vars_test_invariance_over_dict = {'same': ['seqc_0_loc'], 'diff': ['event']}\n",
    "vars_test_invariance_over_dict = None"
   ],
   "metadata": {
    "collapsed": false
   },
   "id": "9ec021290e1fc79b"
  },
  {
   "cell_type": "code",
   "execution_count": null,
   "outputs": [],
   "source": [
    "vars_test_invariance_over_dict = {'same': [], 'diff': ['event']}\n"
   ],
   "metadata": {
    "collapsed": false
   },
   "id": "c7db5311c88ca39f"
  },
  {
   "cell_type": "code",
   "execution_count": null,
   "outputs": [],
   "source": [
    "# To reduce amount of computation, change the params\n",
    "Params[\"version_distance\"] = \"euclidian\"\n",
    "Params[\"question_params\"][\"list_subtract_mean_each_level_of_var\"] = [None]\n",
    "version_distance = Params[\"version_distance\"]\n"
   ],
   "metadata": {
    "collapsed": false
   },
   "id": "6f48dca81ec97356"
  },
  {
   "cell_type": "code",
   "execution_count": null,
   "outputs": [],
   "source": [
    "# To use variables within params\n",
    "question = Params[\"question\"]\n",
    "q_params = Params[\"question_params\"]\n",
    "vars_test_invariance_over_dict = q_params[\"list_vars_test_invariance_over_dict\"][0]\n",
    "\n"
   ],
   "metadata": {
    "collapsed": false
   },
   "id": "8adeac56f063071c"
  },
  {
   "cell_type": "code",
   "execution_count": null,
   "outputs": [],
   "source": [
    "print(animal, date, question,version_distance, subtract_mean_each_level_of_var, vars_test_invariance_over_dict, DO_AGG_TRIALS)"
   ],
   "metadata": {
    "collapsed": false
   },
   "id": "167074ecc3555327"
  },
  {
   "cell_type": "code",
   "execution_count": null,
   "outputs": [],
   "source": [
    "# To overwrite variables\n",
    "subtract_mean_each_level_of_var = \"seqc_0_loc\""
   ],
   "metadata": {
    "collapsed": false
   },
   "id": "bdde3ae3091812ad"
  },
  {
   "cell_type": "code",
   "execution_count": null,
   "outputs": [],
   "source": [
    "# Pick out a single case to run (Faster)\n",
    "\n",
    "wl = \"trial\"\n",
    "ev = \"06_on_strokeidx_0\"\n",
    "tw = (-0.3, -0.1)\n",
    "\n",
    "b = DFallpa[\"twind\"]==tw\n",
    "c = DFallpa[\"event\"]==ev\n",
    "d = DFallpa[\"which_level\"]==wl\n",
    "DFallpa =DFallpa[(b & c & d)].reset_index(drop=True)\n",
    "assert len(DFallpa)==16 # n bregions\n",
    "\n",
    "\n"
   ],
   "metadata": {
    "collapsed": false
   },
   "id": "a549e72de0165e33"
  },
  {
   "cell_type": "code",
   "execution_count": null,
   "outputs": [],
   "source": [
    "from neuralmonkey.analyses.rsa import rsagood_score_wrapper\n",
    "DFRES_THEOR, DFRES_EFFECT_MARG, DFRES_EFFECT_CONJ, DFRES_SAMEDIFF, Params = rsagood_score_wrapper(DFallpa, animal, date, question, q_params, version_distance, \n",
    "                                                                                                  subtract_mean_each_level_of_var, vars_test_invariance_over_dict, \n",
    "                                                                                                  DO_AGG_TRIALS=DO_AGG_TRIALS, PLOT_INDIV=False, do_save=False)\n",
    "\n",
    "\n"
   ],
   "metadata": {
    "collapsed": false
   },
   "id": "c4ca30f37362a6f8"
  },
  {
   "cell_type": "markdown",
   "source": [
    "##### Quickly plot results"
   ],
   "metadata": {
    "collapsed": false
   },
   "id": "8bb62033a9ebbf4c"
  },
  {
   "cell_type": "code",
   "execution_count": null,
   "outputs": [],
   "source": [
    "# Plot scatter"
   ],
   "metadata": {
    "collapsed": false
   },
   "id": "77a937f1e0f3fb"
  },
  {
   "cell_type": "code",
   "execution_count": null,
   "outputs": [],
   "source": [
    "# Some derived metrics\n",
    "\n",
    "DFRES_THEOR[\"score_CtxS\"] = DFRES_THEOR[\"EffD_CtxS\"] - DFRES_THEOR[\"EffS_CtxS\"]\n",
    "DFRES_THEOR[\"score_CtxD\"] = DFRES_THEOR[\"EffD_CtxD\"] - DFRES_THEOR[\"EffS_CtxD\"]\n",
    "\n",
    "DFRES_THEOR[\"score_ratio\"] = DFRES_THEOR[\"score_CtxD\"]/DFRES_THEOR[\"score_CtxS\"]\n"
   ],
   "metadata": {
    "collapsed": false
   },
   "id": "129c15b6b3469c61"
  },
  {
   "cell_type": "code",
   "execution_count": null,
   "outputs": [],
   "source": [
    "fig, ax = plt.subplots(figsize=(10, 5))\n",
    "\n",
    "wl = \"trial\"\n",
    "ev = \"06_on_strokeidx_0\"\n",
    "tw = (-0.3, -0.1)\n",
    "var = \"seqc_0_shape\"\n",
    "\n",
    "a = DFRES_THEOR[\"event\"]==ev\n",
    "b = DFRES_THEOR[\"which_level\"]==wl\n",
    "c = DFRES_THEOR[\"twind\"]==tw\n",
    "d = DFRES_THEOR[\"var\"]==var\n",
    "dfthis = DFRES_THEOR[(a & b & c & d)]\n",
    "\n",
    "sns.pointplot(data=dfthis, x=\"bregion\", y=\"score_ratio\", col=\"var\", kind=\"point\", aspect=3, ax=ax)\n",
    "ax.set_ylim([0, 1])"
   ],
   "metadata": {
    "collapsed": false
   },
   "id": "5666ae5d293da9bb"
  },
  {
   "cell_type": "code",
   "execution_count": null,
   "outputs": [],
   "source": [
    "if False:\n",
    "    wl = \"trial\"\n",
    "    ev = \"06_on_strokeidx_0\"\n",
    "    tw = (-0.3, -0.1)\n",
    "    \n",
    "    a = DFRES_THEOR[\"event\"]==ev\n",
    "    b = DFRES_THEOR[\"which_level\"]==wl\n",
    "    c = DFRES_THEOR[\"twind\"]==tw\n",
    "    dfthis = DFRES_THEOR[(a & b & c)]\n",
    "else:\n",
    "    dfthis = DFRES_THEOR\n",
    "\n",
    "import seaborn as sns\n",
    "import matplotlib.pyplot as plt\n",
    "%matplotlib inline\n",
    "\n",
    "sns.catplot(data=dfthis, x=\"bregion\", y=\"score_ratio\", col=\"var\", kind=\"point\", aspect=2);\n",
    "plt.axhline(0)\n",
    "plt.axhline(1.5)\n",
    "\n",
    "\n",
    "sns.catplot(data=dfthis, x=\"bregion\", y=\"score_CtxS\", col=\"var\", kind=\"point\", aspect=2);\n",
    "plt.axhline(0)\n",
    "plt.axhline(1.5)\n",
    "\n",
    "sns.catplot(data=dfthis, x=\"bregion\", y=\"score_CtxD\", col=\"var\", kind=\"point\", aspect=2);\n",
    "plt.axhline(0)\n",
    "plt.axhline(1.5)\n",
    "\n"
   ],
   "metadata": {
    "collapsed": false
   },
   "id": "d2021f3630aaa5"
  },
  {
   "cell_type": "code",
   "execution_count": null,
   "outputs": [],
   "source": [
    "import seaborn as sns\n",
    "import matplotlib.pyplot as plt\n",
    "%matplotlib inline\n",
    "sns.catplot(data=dfthis, x=\"bregion\", y=\"EffS_CtxS\", col=\"var\", kind=\"point\", aspect=2)\n",
    "plt.axhline(0)\n",
    "plt.axhline(1.5)\n",
    "\n",
    "sns.catplot(data=dfthis, x=\"bregion\", y=\"EffD_CtxS\", col=\"var\", kind=\"point\", aspect=2);\n",
    "plt.axhline(0)\n",
    "plt.axhline(1.5)\n",
    "\n",
    "sns.catplot(data=dfthis, x=\"bregion\", y=\"EffS_CtxD\", col=\"var\", kind=\"point\", aspect=2);\n",
    "plt.axhline(0)\n",
    "plt.axhline(1.5)\n",
    "\n",
    "sns.catplot(data=dfthis, x=\"bregion\", y=\"EffD_CtxD\", col=\"var\", kind=\"point\", aspect=2);\n",
    "plt.axhline(0)\n",
    "plt.axhline(1.5)\n",
    "\n"
   ],
   "metadata": {
    "collapsed": false
   },
   "id": "9c5351ea1872983b"
  },
  {
   "cell_type": "code",
   "execution_count": null,
   "outputs": [],
   "source": [
    "import seaborn as sns\n",
    "import matplotlib.pyplot as plt\n",
    "%matplotlib inline\n",
    "sns.catplot(data=DFRES_THEOR, x=\"bregion\", y=\"cc\", col=\"var\", kind=\"point\", aspect=2);\n",
    "plt.axhline()\n",
    "sns.catplot(data=DFRES_THEOR, x=\"bregion\", y=\"cc_same_context\", col=\"var\", kind=\"point\", aspect=2);\n",
    "plt.axhline()\n"
   ],
   "metadata": {
    "collapsed": false
   },
   "id": "31cd319abf6eb10a"
  },
  {
   "cell_type": "code",
   "execution_count": null,
   "outputs": [],
   "source": [
    "from neuralmonkey.analyses.rsa import rsagood_pa_vs_theor_plot_results\n",
    "SAVEDIR_MULT = \"/tmp\"\n",
    "rsagood_pa_vs_theor_plot_results(DFRES_THEOR, SAVEDIR_MULT, yvar=\"cc_same_context\")"
   ],
   "metadata": {
    "collapsed": false
   },
   "id": "2d76d72e4c7cb089"
  },
  {
   "cell_type": "code",
   "execution_count": null,
   "outputs": [],
   "source": [
    "DFRES_THEOR"
   ],
   "metadata": {
    "collapsed": false
   },
   "id": "3c1544682906338a"
  },
  {
   "cell_type": "code",
   "execution_count": null,
   "outputs": [],
   "source": [
    "from neuralmonkey.analyses.rsa import rsagood_pa_vs_theor_samecontextctrl\n",
    "savedir = \"/tmp\"\n",
    "rsagood_pa_vs_theor_samecontextctrl(DFRES_THEOR, savedir)\n"
   ],
   "metadata": {
    "collapsed": false
   },
   "id": "d4f8f2c0971bd2b9"
  },
  {
   "cell_type": "markdown",
   "source": [
    "##### [Good] rigorously testing whether activity generalizes"
   ],
   "metadata": {
    "collapsed": false
   },
   "id": "d1b794c74babe84a"
  },
  {
   "cell_type": "code",
   "execution_count": null,
   "outputs": [],
   "source": [
    "\n",
    "# Two metris, get:\n",
    "# - 1) rsa\n",
    "# -2) modulation strength within each level.\n",
    "\n",
    "# then do this multiple times after shuffling.\n",
    "# - each shuffle, keep the correlation ebtween variables the saem, at trial level, maintaining n for each level conjucntions.\n",
    "\n"
   ],
   "metadata": {
    "collapsed": false
   },
   "id": "fae0334986242e09"
  },
  {
   "cell_type": "code",
   "execution_count": null,
   "outputs": [],
   "source": [
    "from neuralmonkey.analyses.rsa import rsagood_pa_vs_theor_wrapper"
   ],
   "metadata": {
    "collapsed": false
   },
   "id": "e91653b8b767bffd"
  },
  {
   "cell_type": "code",
   "execution_count": null,
   "outputs": [],
   "source": [
    "subtract_mean_each_level_of_var = q_params[\"subtract_mean_each_level_of_var\"]\n",
    "version_distance = \"pearson\"\n",
    "\n",
    "# 1) Get RSA\n"
   ],
   "metadata": {
    "collapsed": false
   },
   "id": "afba36e489c8da10"
  },
  {
   "cell_type": "code",
   "execution_count": null,
   "outputs": [],
   "source": [
    "# HACK\n",
    "# q_params[\"subtract_mean_each_level_of_var\"] = \"gridsize\""
   ],
   "metadata": {
    "collapsed": false
   },
   "id": "d9ca345b464bc935"
  },
  {
   "cell_type": "code",
   "execution_count": null,
   "outputs": [],
   "source": [
    "### SHUFFLE PA"
   ],
   "metadata": {
    "collapsed": false
   },
   "id": "55ed14a1d72faf7f"
  },
  {
   "cell_type": "markdown",
   "source": [
    "##### Compute effect size of a given variable"
   ],
   "metadata": {
    "collapsed": false
   },
   "id": "8c68fa7c465f0d94"
  },
  {
   "cell_type": "code",
   "execution_count": null,
   "outputs": [],
   "source": [
    "from neuralmonkey.analyses.rsa import rsagood_pa_effectsize_plot_summary\n",
    "rsagood_pa_effectsize_plot_summary(DFRES_THEOR, DFRES_EFFECT_MARG, DFRES_EFFECT_CONJ,\n",
    "                                       Params)"
   ],
   "metadata": {
    "collapsed": false
   },
   "id": "94d25c8498f56eee"
  },
  {
   "cell_type": "markdown",
   "source": [
    "##### Upper and lower bounds on \"abstractness\" (including shuffle)"
   ],
   "metadata": {
    "collapsed": false
   },
   "id": "fb390dbaf6317cf0"
  },
  {
   "cell_type": "code",
   "execution_count": null,
   "outputs": [],
   "source": [
    "# DONE - its in the main pipeline"
   ],
   "metadata": {
    "collapsed": false
   },
   "id": "9157c8a331f8ec9"
  },
  {
   "cell_type": "code",
   "execution_count": null,
   "outputs": [],
   "source": [
    "a = dfallpa[\"bregion\"] == \"PMv_l\"\n",
    "b = dfallpa[\"twind\"] == (0.1, 0.3)\n",
    "pa = dfallpa[(a & b)][\"pa\"].values[0]\n"
   ],
   "metadata": {
    "collapsed": false
   },
   "id": "8274f6105d5d6116"
  },
  {
   "cell_type": "code",
   "execution_count": null,
   "outputs": [],
   "source": [
    "\n",
    "# Upper bound: At trial level, for each level of var, shuffle the label for othervar (i.e., hypothesis: it doesnt matter what is othervar)\n",
    "# Lower bound: At trial level, for each level of othervar, shuffle the label for var, but making sure all that were var level A are now var level B, etc. (i.e., hyp: Completely differnet enocidng of var for each level of othervar.) \n",
    "# \n",
    "# Either:\n",
    "# 1. Permutation test (of above)\n",
    "# 2. Bootstrap ()bn\n",
    "\n"
   ],
   "metadata": {
    "collapsed": false
   },
   "id": "2168ecc32cf25322"
  },
  {
   "cell_type": "code",
   "execution_count": null,
   "outputs": [],
   "source": [
    "# Lower bound\n",
    "# - no need to shuffle. just use (diff lev, diff lev)"
   ],
   "metadata": {
    "collapsed": false
   },
   "id": "383b904352b57823"
  },
  {
   "cell_type": "code",
   "execution_count": null,
   "outputs": [],
   "source": [
    "subtract_mean_each_level_of_var"
   ],
   "metadata": {
    "collapsed": false
   },
   "id": "d9fb215495507832"
  },
  {
   "cell_type": "code",
   "execution_count": null,
   "outputs": [],
   "source": [
    "from neuralmonkey.analyses.rsa import rsagood_pa_samediff_single\n",
    "version_distance = \"angle\"\n",
    "rsagood_pa_samediff_single(pa, q_params[\"effect_vars\"], subtract_mean_each_level_of_var, DO_AGG_TRIALS=True, version_distance=version_distance, PLOT_MASKS=True)\n",
    "# rsagood_pa_samediff_single(pa_shuff, effect_vars, subtract_mean_each_level_of_var, DO_AGG_TRIALS=True, PLOT_MASKS=False)"
   ],
   "metadata": {
    "collapsed": false
   },
   "id": "404f64907033a8df"
  },
  {
   "cell_type": "markdown",
   "source": [
    "##### RUNING entire (upper and lower bounds)"
   ],
   "metadata": {
    "collapsed": false
   },
   "id": "fdb6bb0d628b9a4a"
  },
  {
   "cell_type": "code",
   "execution_count": null,
   "outputs": [],
   "source": [
    "q_params[\"subtract_mean_each_level_of_var\"] = None\n"
   ],
   "metadata": {
    "collapsed": false
   },
   "id": "bbf9c12d6df535f"
  },
  {
   "cell_type": "code",
   "execution_count": null,
   "outputs": [],
   "source": [
    "from neuralmonkey.analyses.rsa import rsagood_score_vs_shuff_wrapper\n",
    "version_distance = \"euclidian\"\n",
    "savedir = \"/tmp\"\n",
    "rsagood_score_vs_shuff_wrapper(dfallpa, animal, DATE, question, q_params,\n",
    "                          version_distance, savedir)"
   ],
   "metadata": {
    "collapsed": false
   },
   "id": "dbb894d41cb9ec0b"
  },
  {
   "cell_type": "markdown",
   "source": [
    "# OLDER STUFF BELOW"
   ],
   "metadata": {
    "collapsed": false
   },
   "id": "9e09869ede06be86"
  },
  {
   "cell_type": "markdown",
   "source": [
    "## [GOOD] SCORING RSA. (Computing dist matrix and scoring against theor matrices)"
   ],
   "metadata": {
    "collapsed": false
   },
   "id": "bc57bafd1a9a1b2d"
  },
  {
   "cell_type": "markdown",
   "source": [
    "##### Method 1 - Do separately for each (wl, event, br, twind). "
   ],
   "metadata": {
    "collapsed": false
   },
   "id": "e5e01abfd2eb8a61"
  },
  {
   "cell_type": "code",
   "execution_count": null,
   "outputs": [],
   "source": [
    "if False:\n",
    "    ### PIG\n",
    "    list_animal_date = [\n",
    "            (\"Pancho\", \"230623\"),\n",
    "            (\"Pancho\", \"230626\"),\n",
    "            (\"Diego\", \"230628\"),\n",
    "            (\"Diego\", \"230630\"),\n",
    "            ]\n",
    "    list_which_level = [\"stroke\", \"stroke_off\"]\n",
    "    # which_level = \"stroke\"\n",
    "    version_distance = \"pearson\"\n",
    "    SKIP_ANALY_PLOTTING = False # if True, just collect data...\n",
    "    DO_AGG_TRIALS = False # if False, then datapts are individual trials (else aggs)\n",
    "elif False:\n",
    "    ### CHAR\n",
    "    # This is very hacky. Currently extracting DS by hand above, and then bypassing its extradction\n",
    "    # belopw. SHould incorporate this input a method of DS...\n",
    "    assert animal==\"Pancho\"\n",
    "    assert DATE == 230126\n",
    "    list_animal_date = [\n",
    "            (animal, DATE),\n",
    "            ]\n",
    "    list_which_level = [\"stroke\", \"stroke_off\"]\n",
    "    version_distance = \"pearson\"\n",
    "    SKIP_ANALY_PLOTTING = False # if True, just collect data...\n",
    "    DO_AGG_TRIALS = True # if False, then datapts are individual trials (else aggs)\n",
    "else:\n",
    "    ### SINGLKE PRIMS (trial)\n",
    "    list_animal_date = [\n",
    "            (animal, DATE),\n",
    "            ]\n",
    "    list_which_level = [\"trial\"]\n",
    "    version_distance = \"pearson\"\n",
    "    SKIP_ANALY_PLOTTING = False # if True, just collect data...\n",
    "    DO_AGG_TRIALS = True # if False, then datapts are individual trials (else aggs)\n"
   ],
   "metadata": {
    "collapsed": false
   },
   "id": "4a8f277b6f5d4391"
  },
  {
   "cell_type": "code",
   "execution_count": null,
   "outputs": [],
   "source": [
    "animal = \"Diego\"\n",
    "date = 230619\n"
   ],
   "metadata": {
    "collapsed": false
   },
   "id": "7890df0981838013"
  },
  {
   "cell_type": "code",
   "execution_count": null,
   "outputs": [],
   "source": [
    "from neuralmonkey.analyses.rsa import rsagood_questions_params, rsagood_questions_dict\n",
    "DictParamsEachQuestion = rsagood_questions_dict(animal, date)\n"
   ],
   "metadata": {
    "collapsed": false
   },
   "id": "401b96930a457762"
  },
  {
   "cell_type": "code",
   "execution_count": null,
   "outputs": [],
   "source": [
    "from neuralmonkey.analyses.rsa import rsagood_pa_vs_theor_wrapper\n",
    "\n",
    "version_distance = \"pearson\"\n",
    "subtract_mean_each_level_of_var = None\n",
    "PLOT_INDIV = False\n",
    "DO_AGG_TRIALS = True\n",
    "DFRES_THEOR = rsagood_pa_vs_theor_wrapper(DFallpa, animal, date,\n",
    "                                          DictParamsEachQuestion,\n",
    "                                          version_distance,\n",
    "                                          subtract_mean_each_level_of_var,\n",
    "                                          PLOT_INDIV,\n",
    "                                          DO_AGG_TRIALS)\n",
    "#     Cltheor = DFRES_THEOR.iloc[i][\"Clsim_theor\"]\n",
    "#     if var not in DictVarToCltheor.keys():\n",
    "#         DictVarToCltheor[var] = Cltheor"
   ],
   "metadata": {
    "collapsed": false
   },
   "id": "44fe9bfec499a212"
  },
  {
   "cell_type": "markdown",
   "source": [
    "##### Method 2 - Group across (wl, event, twind) in user-specific ways (e.g., compare post-stim vs. pre-stroke)"
   ],
   "metadata": {
    "collapsed": false
   },
   "id": "60ceede5d3a98424"
  },
  {
   "cell_type": "code",
   "execution_count": null,
   "outputs": [],
   "source": [
    "DFallpa"
   ],
   "metadata": {
    "collapsed": false
   },
   "id": "239d8f55d6dbdaf7"
  },
  {
   "cell_type": "code",
   "execution_count": null,
   "outputs": [],
   "source": [
    "from neuralmonkey.classes.population_mult import dfpa_group_and_split, dfpa_slice_specific_windows\n",
    "\n",
    "# Compare post-stim to pre-stroke.\n",
    "list_pa_get = [\n",
    "    (\"stroke\", \"00_stroke\", (-0.6, -0.5)),\n",
    "    (\"stroke\", \"00_stroke\", (0.4, 0.6))\n",
    "]\n",
    "\n",
    "# 1) slice\n",
    "DFallpa_THIS = dfpa_slice_specific_windows(DFallpa, list_pa_get)\n",
    "\n",
    "# 2) agg (one pa per bregion)\n",
    "DFallpa_THIS = dfpa_group_and_split(DFallpa, vars_to_split=[\"bregion\"])\n"
   ],
   "metadata": {
    "collapsed": false
   },
   "id": "21905f06d1ed471e"
  },
  {
   "cell_type": "markdown",
   "source": [
    "### [DEVO] Load results from RSA and do stuff"
   ],
   "metadata": {
    "collapsed": false
   },
   "id": "5f1c985c6eb4519"
  },
  {
   "cell_type": "code",
   "execution_count": null,
   "outputs": [],
   "source": [
    "from neuralmonkey.analyses.rsa import rsagood_pa_vs_theor_wrapper_loadresults\n",
    "\n",
    "animal = \"Diego\"\n",
    "date = 230619\n",
    "question = \"SP_shape_size\"\n",
    "version_distance = \"euclidian_unbiased\"\n",
    "subtract_mean_each_level_of_var = None\n",
    "\n",
    "DO_AGG_TRIALS = True\n",
    "DFallpa, DFRES_THEOR, DFRES_SAMEDIFF, DFRES_EFFECT_CONJ, DFRES_EFFECT_MARG, Params, savedir = rsagood_pa_vs_theor_wrapper_loadresults(animal, date, question, version_distance,\n",
    "                                            DO_AGG_TRIALS, subtract_mean_each_level_of_var)\n"
   ],
   "metadata": {
    "collapsed": false
   },
   "id": "ab4391ae4aa82d49"
  },
  {
   "cell_type": "code",
   "execution_count": null,
   "outputs": [],
   "source": [
    "for i, row in DFallpa.iterrows():\n",
    "    print(row[\"twind\"], row[\"pa\"].Xlabels[\"trials\"][\"twind\"].unique())"
   ],
   "metadata": {
    "collapsed": false
   },
   "id": "67909a41b97fc91a"
  },
  {
   "cell_type": "markdown",
   "source": [
    "##### Testing code for agging"
   ],
   "metadata": {
    "collapsed": false
   },
   "id": "c57ebe901a670800"
  },
  {
   "cell_type": "code",
   "execution_count": null,
   "outputs": [],
   "source": [
    "DFallpa = dfallpa"
   ],
   "metadata": {
    "collapsed": false
   },
   "id": "6bf63505e77b75a8"
  },
  {
   "cell_type": "code",
   "execution_count": null,
   "outputs": [],
   "source": [
    "DFallpa"
   ],
   "metadata": {
    "collapsed": false
   },
   "id": "afd7b577f49525c4"
  },
  {
   "cell_type": "code",
   "execution_count": null,
   "outputs": [],
   "source": [
    "for i, row in DFallpa.iterrows():\n",
    "    print(row[\"twind\"], \" -- \", row[\"pa\"].Xlabels[\"trials\"][\"twind\"].unique())"
   ],
   "metadata": {
    "collapsed": false
   },
   "id": "b8bbeb3d4f6b7dca"
  },
  {
   "cell_type": "code",
   "execution_count": null,
   "outputs": [],
   "source": [
    "from neuralmonkey.classes.population_mult import dfpa_group_and_split, dfpa_slice_specific_windows\n",
    "\n",
    "slice_agg_slices = [\n",
    "    (\"trial\", \"03_samp\", (-0.3, -0.1)),\n",
    "    (\"trial\", \"03_samp\", (0.1, 0.3))]\n",
    "slice_agg_vars_to_split = [\"bregion\"]\n",
    "\n",
    "print(\" *** Before dfpa_slice_specific_windows\")\n",
    "print(DFallpa[\"which_level\"].value_counts())\n",
    "print(DFallpa[\"event\"].value_counts())\n",
    "print(DFallpa[\"twind\"].value_counts())\n",
    "print(slice_agg_slices)\n",
    "DFallpa = dfpa_slice_specific_windows(DFallpa, slice_agg_slices)"
   ],
   "metadata": {
    "collapsed": false
   },
   "id": "3b303cfe5dd7c600"
  },
  {
   "cell_type": "code",
   "execution_count": null,
   "outputs": [],
   "source": [
    "\n",
    "# 2) agg (one pa per bregion)\n",
    "print(\" *** Before dfpa_group_and_split\")\n",
    "print(DFallpa[\"which_level\"].value_counts())\n",
    "print(DFallpa[\"event\"].value_counts())\n",
    "print(DFallpa[\"twind\"].value_counts())\n",
    "print(slice_agg_vars_to_split)"
   ],
   "metadata": {
    "collapsed": false
   },
   "id": "96c50f2597eccf7f"
  },
  {
   "cell_type": "code",
   "execution_count": null,
   "outputs": [],
   "source": [
    "slice_agg_vars_to_split = [\"bregion\"]\n",
    "tmp = dfpa_group_and_split(DFallpa, vars_to_split=slice_agg_vars_to_split)\n",
    "display(tmp)\n",
    "print(\" *** After dfpa_group_and_split\")\n",
    "print(tmp[\"which_level\"].value_counts())\n",
    "print(tmp[\"event\"].value_counts())\n",
    "print(tmp[\"twind\"].value_counts())"
   ],
   "metadata": {
    "collapsed": false
   },
   "id": "5e59da9f7c150b96"
  },
  {
   "cell_type": "code",
   "execution_count": null,
   "outputs": [],
   "source": [
    "for pa in tmp[\"pa\"]:\n",
    "    print(pa.Xlabels[\"trials\"][\"wl_ev_tw\"].unique())"
   ],
   "metadata": {
    "collapsed": false
   },
   "id": "4f38d265580ed262"
  },
  {
   "cell_type": "markdown",
   "source": [
    "##### [DEVO] Load pre-saved distance matrix"
   ],
   "metadata": {
    "collapsed": false
   },
   "id": "2853fd718d4a4f87"
  },
  {
   "cell_type": "code",
   "execution_count": null,
   "outputs": [],
   "source": [
    "\n",
    "from neuralmonkey.analyses.rsa import behavior_load_pairwise_strokes_distmat\n",
    "distmat = behavior_load_pairwise_strokes_distmat(animal, DATE, PA, distance_ver)\n"
   ],
   "metadata": {
    "collapsed": false
   },
   "id": "87080c56c8d7d8aa"
  },
  {
   "cell_type": "code",
   "execution_count": null,
   "outputs": [],
   "source": [
    "from neuralmonkey.analyses.rsa import _preprocess_check_which_vars_categorical\n",
    "_preprocess_check_which_vars_categorical(PA, EFFECT_VARS)"
   ],
   "metadata": {
    "collapsed": false
   },
   "id": "a6c509ac5be5345e"
  },
  {
   "cell_type": "code",
   "execution_count": null,
   "outputs": [],
   "source": [
    "type()"
   ],
   "metadata": {
    "collapsed": false
   },
   "id": "f0410bb544f64dac"
  },
  {
   "cell_type": "code",
   "execution_count": null,
   "outputs": [],
   "source": [
    "EFFECT_VARS =  q_params[\"effect_vars\"]\n",
    "\n"
   ],
   "metadata": {
    "collapsed": false
   },
   "id": "c3eb1d04b3cfd4e9"
  },
  {
   "cell_type": "code",
   "execution_count": null,
   "outputs": [],
   "source": [
    "# for t in list_types:\n",
    "import pythonlib\n",
    "isinstance(t, StrokeClass)\n",
    "    "
   ],
   "metadata": {
    "collapsed": false
   },
   "id": "2b3e6fce702f6392"
  },
  {
   "cell_type": "code",
   "execution_count": null,
   "outputs": [],
   "source": [],
   "metadata": {
    "collapsed": false
   },
   "id": "ffd4b6b994a1e673"
  },
  {
   "cell_type": "code",
   "execution_count": null,
   "outputs": [],
   "source": [],
   "metadata": {
    "collapsed": false
   },
   "id": "403830ca1524233b"
  },
  {
   "cell_type": "code",
   "execution_count": null,
   "outputs": [],
   "source": [
    "# exclude vars that are continuos\n",
    "_preprocess_pa_check_how_much_data(PA, q_params[\"effect_vars\"])"
   ],
   "metadata": {
    "collapsed": false
   },
   "id": "ab5eceb8506a9de9"
  },
  {
   "cell_type": "code",
   "execution_count": null,
   "outputs": [],
   "source": [
    "PA, res_check_tasksets, res_check_effectvars = preprocess_rsa_prepare_popanal_wrapper(PA, **q_params)\n",
    "\n",
    "res_check_effectvars[EFFECT_VARS[3]]"
   ],
   "metadata": {
    "collapsed": false
   },
   "id": "4f48938a11500342"
  },
  {
   "cell_type": "code",
   "execution_count": null,
   "outputs": [],
   "source": [
    "DFRES_SAMEDIFF, DFRES_THEOR, DictBregionTwindPA_THIS, \\\n",
    "    DictBregionTwindClraw, DictBregionTwindClsim, savedir = _pipeline_rsa_score_pa_all(DictBregionTwindPA_THIS, q_params[\"effect_vars\"], savedir, version_distance,\n",
    "                       subtract_mean_each_level_of_var, PLOT_INDIV=False, DO_AGG_TRIALS=DO_AGG_TRIALS)\n"
   ],
   "metadata": {
    "collapsed": false
   },
   "id": "8173075a89c134c2"
  },
  {
   "cell_type": "code",
   "execution_count": null,
   "outputs": [],
   "source": [
    "SKIP_ANALY_PLOTTING"
   ],
   "metadata": {
    "collapsed": false
   },
   "id": "a7a50446de4b550a"
  },
  {
   "cell_type": "markdown",
   "source": [
    "##### [OBSOLETE]"
   ],
   "metadata": {
    "collapsed": false
   },
   "id": "7ee9f72225b6a25f"
  },
  {
   "cell_type": "code",
   "execution_count": null,
   "outputs": [],
   "source": [
    "\n",
    "\n",
    "# event = \"03_samp\"\n",
    "event = \"06_on_strokeidx_0\"\n",
    "distmat_distance_ver = None\n",
    "\n",
    "for animal, DATE in list_animal_date:\n",
    "    for which_level in list_which_level:    \n",
    "        DictBregionTwindPA, EFFECT_VARS, list_twind, list_bregion = load_single_data_wrapper(animal, DATE, which_level, version_distance, event=event)\n",
    "        \n",
    "        # Save NOT in mult\n",
    "        if DO_AGG_TRIALS:\n",
    "            SAVEDIR = f\"/gorilla1/analyses/recordings/main/RSA/{animal}/SPLIT_BY_QUESTIONS/{DATE}\"\n",
    "        else:            \n",
    "            SAVEDIR = f\"/gorilla1/analyses/recordings/main/RSA_trial_datapt/{animal}/SPLIT_BY_QUESTIONS/{DATE}\"\n",
    "        print(SAVEDIR)\n",
    "        os.makedirs(SAVEDIR, exist_ok=True)\n",
    "                \n",
    "        ## CHeck each question --> if there's enough data..\n",
    "        # Get a PA for testing\n",
    "        PA = list(DictBregionTwindPA.values())[0]\n",
    "        \n",
    "        for q, q_params in DictParamsEachQuestion.items():\n",
    "            print(\"=========== QUESTION: \", q)\n",
    "            # Prune PA based on this question\n",
    "            PAout, res_check_tasksets, res_check_effectvars = preprocess_rsa_prepare_popanal_wrapper(PA, **q_params)\n",
    "    \n",
    "            if PAout is None:\n",
    "                # Summarize variables\n",
    "                for k, v in res_check_tasksets.items():\n",
    "                    print(k)\n",
    "                    display(v)\n",
    "                for var, v in res_check_effectvars.items():\n",
    "                    print(var)\n",
    "                    display(v)\n",
    "                assert False, \"Not enough data for this question!! Reduce the num variables.\"\n",
    "            else:\n",
    "                print(\"This question good!\", q)\n",
    "            \n",
    "            for var, dfcheck in res_check_tasksets.items():\n",
    "                print(\"---------------\")\n",
    "                print(\"var:\", var)\n",
    "                print(\"levels:\", dfcheck[\"lev\"].tolist())\n",
    "            \n",
    "        \n",
    "                # Save the checks\n",
    "                path = f\"{SAVEDIR}/data_check_pruned-{q}-{var}.csv\"\n",
    "                dfcheck.to_csv(path)\n",
    "            \n",
    "            # save the params\n",
    "            from pythonlib.tools.expttools import writeDictToYaml\n",
    "            path = f\"{SAVEDIR}/question_params-{q}.yaml\" \n",
    "            writeDictToYaml(q_params, path)\n",
    "            \n",
    "        \n",
    "        ##### RUN ANALYSIS FOR EVERY TASK SET\n",
    "        import os\n",
    "        \n",
    "        subtract_mean_each_level_of_var = None\n",
    "        for q, q_params in DictParamsEachQuestion.items():\n",
    "            \n",
    "            savedir = f\"{SAVEDIR}/{which_level}/{version_distance}/{q}\"\n",
    "            os.makedirs(savedir, exist_ok=True)\n",
    "            print(savedir)\n",
    "        \n",
    "            ## COLLECT ALL DATA INTO A NEW DICT. \n",
    "            DictBregionTwindPA_THIS = {}\n",
    "            for (bregion, twind), PA in DictBregionTwindPA.items():\n",
    "                print(bregion, twind)\n",
    "                \n",
    "                # Prune PA based on this question\n",
    "                PA, res_check_tasksets, res_check_effectvars = preprocess_rsa_prepare_popanal_wrapper(PA, **q_params)\n",
    "                \n",
    "                # Run computations on PA\n",
    "                DictBregionTwindPA_THIS[(bregion, twind)] = PA\n",
    "                \n",
    "            ## RUN ANALYSIS\n",
    "            if SKIP_ANALY_PLOTTING:\n",
    "                DFRES_SAMEDIFF, DFRES_THEOR, DictBregionTwindClraw, DictBregionTwindClsim, DictVarToClsimtheor = None, None, None, None, None\n",
    "            else:\n",
    "                DFRES_SAMEDIFF, DFRES_THEOR, DictBregionTwindPA_THIS, \\\n",
    "                    DictBregionTwindClraw, DictBregionTwindClsim, DictVarToClsimtheor, savedir = _pipeline_rsa_score_pa_all(DictBregionTwindPA_THIS, q_params[\"effect_vars\"], savedir, version_distance,\n",
    "                                       subtract_mean_each_level_of_var, PLOT_INDIV=False, DO_AGG_TRIALS=DO_AGG_TRIALS, distmat_animal=animal, distmat_date = DATE, distmat_distance_ver=distmat_distance_ver)\n",
    "            \n",
    "            resthis = {\n",
    "                \"DO_AGG_TRIALS\":DO_AGG_TRIALS,\n",
    "                \"version_distance\":version_distance,\n",
    "                \"which_level\":which_level,\n",
    "                \"DFRES_SAMEDIFF\":DFRES_SAMEDIFF, \n",
    "                \"DFRES_THEOR\":DFRES_THEOR, \n",
    "                \"DictVarToClsimtheor\":DictVarToClsimtheor,\n",
    "                \"DictBregionTwindPA\":DictBregionTwindPA_THIS, \n",
    "                # \"DictBregionTwindClraw\":DictBregionTwindClraw, # save space, no needed\n",
    "                # \"DictBregionTwindClsim\":DictBregionTwindClsim,\n",
    "                \"EFFECT_VARS\":q_params[\"effect_vars\"],\n",
    "                \"list_time_windows\":list_twind,\n",
    "                \"SAVEDIR\":savedir,\n",
    "                \"subtract_mean_each_level_of_var\":subtract_mean_each_level_of_var,\n",
    "                \"QUESTION_PARAMS\":q_params\n",
    "            }\n",
    "            \n",
    "            # Save results temporarily\n",
    "            # Around 800 MB\n",
    "            import pickle\n",
    "            path = f\"{savedir}/resthis.pkl\"\n",
    "            with open(path, \"wb\") as f:\n",
    "                pickle.dump(resthis, f)\n",
    "                print(\"saved to: \", path)\n",
    "    \n",
    "        "
   ],
   "metadata": {
    "collapsed": false
   },
   "id": "cfeea56c7166d6e3"
  }
 ],
 "metadata": {
  "kernelspec": {
   "display_name": "Python 3",
   "language": "python",
   "name": "python3"
  },
  "language_info": {
   "codemirror_mode": {
    "name": "ipython",
    "version": 2
   },
   "file_extension": ".py",
   "mimetype": "text/x-python",
   "name": "python",
   "nbconvert_exporter": "python",
   "pygments_lexer": "ipython2",
   "version": "2.7.6"
  }
 },
 "nbformat": 4,
 "nbformat_minor": 5
}
