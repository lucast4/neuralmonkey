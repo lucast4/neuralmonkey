{
 "cells": [
  {
   "cell_type": "code",
   "execution_count": null,
   "id": "initial_id",
   "metadata": {
    "collapsed": true
   },
   "outputs": [],
   "source": [
    "import pandas as pd\n",
    "\n",
    "\"\"\" \n",
    "RSA Analsysis\n",
    "Here, all things related to extraction of RSA.\n",
    "\n",
    "Older notes:\n",
    "- Here: Extraction of PopAnal for each (bregion, twind) [and other conjunctions if needed]. i.e,, \n",
    "to go from snippets to \"populatoin_level\" specific snippets.\n",
    "\n",
    "- TO MAKE PLOTS, which combined all the above, go to 231203_snippets_rsa_PLOTS.ipynb\n",
    "\"\"\""
   ]
  },
  {
   "cell_type": "code",
   "execution_count": null,
   "outputs": [],
   "source": [
    "%load_ext autoreload\n",
    "%autoreload 2\n",
    "\n",
    "from neuralmonkey.classes.session import load_mult_session_helper\n",
    "import matplotlib\n",
    "import matplotlib.pyplot as plt\n",
    "import numpy as np\n",
    "\n",
    "#%matplotlib inline"
   ],
   "metadata": {
    "collapsed": false
   },
   "id": "93d48dd175d3e9e0"
  },
  {
   "cell_type": "markdown",
   "source": [
    "## Analysis using scalar vectors (i.e, dims are sites), e.g., RSA, decode, etc."
   ],
   "metadata": {
    "collapsed": false
   },
   "id": "a20c8efc494d3ac1"
  },
  {
   "cell_type": "markdown",
   "source": [
    "##### Preprocess"
   ],
   "metadata": {
    "collapsed": false
   },
   "id": "a26ae45c867f82b0"
  },
  {
   "cell_type": "markdown",
   "source": [
    "##### Plans"
   ],
   "metadata": {
    "collapsed": false
   },
   "id": "c87d57d95d441641"
  },
  {
   "cell_type": "code",
   "execution_count": null,
   "outputs": [],
   "source": [
    "# DEfitions:\n",
    "# action = specific conjunction of conditions (e..g, shape x location x index)\n",
    "\n",
    "# (1) Is an area active for a given action? Simply, is activity different from 0.\n",
    "# 1) Modulation, i.e., actiivty in high D space (i.e., euclidian distnace from 0) --> this is a single scalar that can ask if correlate with variables (e.g., stroke index)\n",
    "# --> is modulated by actions (i.e., for each action, get a single scalar).\n",
    "# Also: Visualize each area using PCA (i.e., just like I do with rasters, but use top N dimensions instead of N units).\n",
    "# - get PCs using trial data? Or one for each condition.\n",
    "\n",
    "# (2) How different is activity for each action, in a given area? Simply, are actions not just diff from 0, but different from each other\n",
    "# 1b) Decode each action\n",
    "# --> Simply, can classify.\n",
    "\n",
    "# (2b) Does area encode speicifc parameters?\n",
    "# - linear model: (fr vector) --> category, etc. (as before).\n",
    "# - classifier (like above, but for abstract params).\n",
    "# --- COMPOSITIONALITY: cross-condition classifier [willet didnt do]\n",
    "\n",
    "# (3) RSA (correlation/similarity structure). Simply, are features for a given variable similar across other variables?\n",
    "# - See notes below.\n",
    "\n",
    "# (4) Subspaces: identify using dPCA (or manual version of that).\n",
    "# - Use dPCA to identify diemsions. Can then ask how activity in each dimension changes or is affected by manipualtions (e.g., partial cueing). \n",
    "# - https://github.com/machenslab/dPCA\n"
   ],
   "metadata": {
    "collapsed": false
   },
   "id": "50370529223a20df"
  },
  {
   "cell_type": "markdown",
   "source": [
    "##### TODO"
   ],
   "metadata": {
    "collapsed": false
   },
   "id": "de74899c5df6cf55"
  },
  {
   "cell_type": "code",
   "execution_count": null,
   "outputs": [],
   "source": [
    "## TODO (1) Modulation\n",
    "# not done."
   ],
   "metadata": {
    "collapsed": false
   },
   "id": "a9938552ff7ac9a9"
  },
  {
   "cell_type": "markdown",
   "source": [],
   "metadata": {
    "collapsed": false
   },
   "id": "a7ea3994a6d7fe55"
  },
  {
   "cell_type": "code",
   "execution_count": null,
   "outputs": [],
   "source": [
    "## TODO -- effect sizes\n",
    "\n",
    "# See in progress in 231203_snippets_rsa_PLOTS\n",
    "# Direction of effect --> preSMA higher FR during middle strokes?\n"
   ],
   "metadata": {
    "collapsed": false
   },
   "id": "3f29c8d98f775914"
  },
  {
   "cell_type": "code",
   "execution_count": null,
   "outputs": [],
   "source": [
    "## TODO (1/6/24) -- RSA\n",
    "# clean up (do later):\n",
    "# - verify that normalization process is good.\n",
    "# - time warping.\n",
    "\n",
    "## PREPROCESS\n",
    "# for each channel, subtract mean (e.g., split day into quartiles)\n",
    "\n",
    "# - Compare plan window to during strokes.\n",
    "# -- compare plan yo strokes. in general do directed test fewvar \n",
    "\n",
    "# - for regression version, note that should rescale coeff for ordinal vs categorical. maybe also plot r2. \n",
    "\n",
    "# - include mult time slices. then do pca with datapt being trials on the entire concated slices.\n",
    "# Instead of a single time slice, take multiple and reshape into a vector.\n",
    "# - e.g.,, Willet 2021 did this for comparing S-T patterns across characters\n",
    "\n",
    "# - how get done signal? have a variable for last stroke. \n",
    "\n",
    "## UPdates to analysis next time:\n",
    "# - More sliding windows (overlapping)\n",
    "# - Remove bleedthru in smoothed fr.\n",
    "# - Euclidian distance? deals with cases where vector norms are small and the corr is noisy?\n",
    "# - distance matrix, compute in unbiased manner.\n",
    "# - if using multiple regression, then first take z-score of data (Flesch).\n",
    "# - Time warping?\n",
    "# - Use trial-level data?\n",
    "\n",
    "# alternative to RSA: within each level of othervar, get pairwise vectors betwene all levsl of var. are these similar across levels of othervar? This inherently subtracts mean of each level of othervar, but not good; (i) requires at least 2 levels of var, consistent acorss othervar, and (ii) might be noisier.\n",
    "\n",
    "# Use colinearity of theoretical matrices (between two vars) as a lower bound on how different they can be?\n",
    "\n",
    "### ANALYSIS KINDS:\n",
    "# TWO kinds of analysses (orthogonal)\n",
    "# 1. do a single that combines each window, here looking for variables rekated to strokes such as onset offset. \n",
    "# 2. The obvious one. -- Including non-stroke touching events? e.g., have var for touching screen and include button touching data. ie other events where touch?\n",
    "# -- 2a Balanced, if possible, between each pair of stim that have such balance. Do this for all pairs, then collect data.\n",
    "# - norm by subtract other (this is only possible if have all these conjunctions).  (Willet Cell 2020).\n",
    "# - For each expt, there are variables designed to be separated.\n",
    "# -- 2b Combined analyses over all\n",
    "# - DO NOT norm by subtraction. This leads to weird biases unless you are balanced.\n",
    "# - remove levels that are present only in one case of other level.\n",
    "\n",
    "## Dimenstionality reduction (i.e,, to find vector representation for each area)\n",
    "# Method: use multiple subwindows... (i.e., 300ms, and two sub-windows)\n",
    "# Method: dPCA for each variable?\n",
    "\n",
    "## Cleaning up conjunctions/balancing of data\n",
    "# How deal with problem with, for a given var, effects differ across levels? E.g., all driven by one shape within shapes?\n",
    "# - Penalize for high var acorss levels? Take the worst score across levels?\n",
    "# Consider comparisons only acors scases with different other var?\n",
    "# - plot maasking heatplot... for pount above.\n",
    "# Method: subtract out othervar? No, can only do this for cases focusing on specific var. Mixed effects model, where random effect for each level of othervar? And fixed effects for each var. NO becase this \n",
    "# assumes factorization. \n",
    "# - weight correlation (between dist matrices) by n trials in each cell? e..g, sqrt(n).\n",
    "\n",
    "## Variables to add\n",
    "# - antoher theoretical one, which is using all variables at once (see Flesch).\n"
   ],
   "metadata": {
    "collapsed": false
   },
   "id": "c7ab7a82c33a73dc"
  },
  {
   "cell_type": "markdown",
   "source": [
    "##### Extract all the variables you will care about"
   ],
   "metadata": {
    "collapsed": false
   },
   "id": "790046ae9f56c831"
  },
  {
   "cell_type": "code",
   "execution_count": null,
   "outputs": [],
   "source": [
    "##### Plot distributions of gap angles vs. categorical LOCATION next, etc. --> dissocaited.\n",
    "\n",
    "xvar = \"gap_to_next_angle\"\n",
    "xvar = \"gap_to_next_dist\"\n",
    "sns.displot(data=DS.Dat, x=xvar, col=si, hue=f\"{xvar}_binned\")\n",
    "\n",
    "\n",
    "for si in [\"stroke_index\", \"stroke_index_fromlast\"]:\n",
    "    sns.displot(data=DS.Dat, x=\"gap_to_next_angle\", y=\"gap_to_next_dist\", col=si, hue=\"gap_from_prev_angle_binned\")\n",
    "    sns.displot(data=DS.Dat, x=\"gap_from_prev_angle\", y=\"gap_from_prev_dist\", col=si, hue=\"gap_from_prev_angle_binned\")\n"
   ],
   "metadata": {
    "collapsed": false
   },
   "id": "79bb4f7236007750"
  },
  {
   "cell_type": "markdown",
   "source": [
    "### DEVO"
   ],
   "metadata": {
    "collapsed": false
   },
   "id": "f94771361c4e054e"
  },
  {
   "cell_type": "code",
   "execution_count": null,
   "outputs": [],
   "source": [
    "DATE = 230126\n",
    "animal = \"Pancho\"\n",
    "MS = load_mult_session_helper(DATE, animal, MINIMAL_LOADING=True, spikes_version=\"kilosort_if_exists\") \n"
   ],
   "metadata": {
    "collapsed": false
   },
   "id": "807b31a9670c9ade"
  },
  {
   "cell_type": "code",
   "execution_count": null,
   "outputs": [],
   "source": [
    "MS.SessionsList"
   ],
   "metadata": {
    "collapsed": false
   },
   "id": "97731298d6f1215a"
  },
  {
   "cell_type": "code",
   "execution_count": null,
   "outputs": [],
   "source": [
    "# CHARS\n",
    "# - extract DS.\n",
    "sn = MS.SessionsList[0]\n",
    "\n",
    "D = sn.Datasetbeh"
   ],
   "metadata": {
    "collapsed": false
   },
   "id": "e10bd1901663a2c1"
  },
  {
   "cell_type": "code",
   "execution_count": null,
   "outputs": [],
   "source": [
    "# Look at whats in D\n",
    "D.Dat[\"epoch\"].value_counts()\n",
    "\n",
    "from pythonlib.tools.pandastools import grouping_print_n_samples\n",
    "grouping_print_n_samples(D.Dat, [\"epoch\", \"seqc_0_shape\", \"seqc_0_loc\"])"
   ],
   "metadata": {
    "collapsed": false
   },
   "id": "7f15ecc6c5a5b472"
  },
  {
   "cell_type": "code",
   "execution_count": null,
   "outputs": [],
   "source": [
    "\n",
    "# - load pre-saved DS from cluster analysis, and merge\n",
    "from neuralmonkey.classes.snippets import datasetstrokes_extract\n",
    "tasks_only_keep_these = [\"character\"]\n",
    "DS = datasetstrokes_extract(D, \"clean_chars\", False, None) "
   ],
   "metadata": {
    "collapsed": false
   },
   "id": "11341730dce6159d"
  },
  {
   "cell_type": "markdown",
   "source": [
    "# RUN (Main goal: extract PA for each (brain, twindow) without doing much else"
   ],
   "metadata": {
    "collapsed": false
   },
   "id": "c9cfe6a041b8240b"
  },
  {
   "cell_type": "code",
   "execution_count": null,
   "outputs": [],
   "source": [
    "# from neuralmonkey.analyses.state_space_good import pipeline_rsa_scalar_population_MULT, load_mult_data_helper, pipeline_rsa_scalar_population_MULT_PLOTS, load_single_data\n",
    "from neuralmonkey.analyses.rsa import pipeline_rsa_scalar_population_MULT, load_mult_data_helper, pipeline_rsa_scalar_population_MULT_PLOTS, _load_single_data\n"
   ],
   "metadata": {
    "collapsed": false
   },
   "id": "e81c4f2e8de3cb72"
  },
  {
   "cell_type": "markdown",
   "source": [
    "##### Option 1: Extract Snippets --> Extract Popanals"
   ],
   "metadata": {
    "collapsed": false
   },
   "id": "e4f9b53a679442bb"
  },
  {
   "cell_type": "code",
   "execution_count": null,
   "outputs": [],
   "source": [
    "from neuralmonkey.classes.snippets import Snippets, extraction_helper\n",
    "# from neuralmonkey.analyses.state_space_good import rsa_convert_PA_to_Cl, _preprocess_rsa_scalar_population, pipeline_rsa_scalar_population\n",
    "from neuralmonkey.analyses.rsa import rsa_convert_PA_to_Cl, pipeline_rsa_all_steps\n",
    "\n",
    "if True:\n",
    "    ### PIG\n",
    "    list_animal_date = [\n",
    "            (\"Diego\", \"230628\"),\n",
    "            (\"Diego\", \"230630\"),\n",
    "            (\"Pancho\", \"230623\"),\n",
    "            (\"Pancho\", \"230626\"),\n",
    "            ]\n",
    "    list_version_distance = [\"pearson\", \"euclidian\"]\n",
    "    SAVEDIR = \"/gorilla1/analyses/recordings/main/RSA\"\n",
    "    list_time_windows = [\n",
    "        (-0.5, -0.3),\n",
    "        (-0.3, -0.1),\n",
    "        (-0.1, 0.1),\n",
    "        (0.1, 0.3),\n",
    "        (0.3, 0.5)\n",
    "        ]\n",
    "    list_which_level = [\"stroke\", \"stroke_off\"]\n",
    "    DS_pruned = None\n",
    "    SKIP_SESS_EXTRACTION = False\n",
    "    \n",
    "    FEATURES_EXTRACT_TO_POPANAL = []\n",
    "else:\n",
    "    ### CHAR\n",
    "    # This is very hacky. Currently extracting DS by hand above, and then bypassing its extradction\n",
    "    # belopw. SHould incorporate this input a method of DS...\n",
    "    \n",
    "    assert animal==\"Pancho\"\n",
    "    assert DATE == 230126\n",
    "    list_animal_date = [\n",
    "            (animal, DATE),\n",
    "            ]\n",
    "    list_version_distance = [\"pearson\"]\n",
    "    SAVEDIR = \"/gorilla1/analyses/recordings/main/RSA\"\n",
    "    list_time_windows = [\n",
    "        (-0.5, -0.3),\n",
    "        (-0.3, -0.1),\n",
    "        (-0.1, 0.1),\n",
    "        (0.1, 0.3),\n",
    "        (0.3, 0.5)\n",
    "        ]\n",
    "    list_which_level = [\"stroke\", \"stroke_off\"]\n",
    "    DS_pruned = DS # This is extracted manually above (very interim)\n",
    "    SKIP_SESS_EXTRACTION = True\n",
    "    \n",
    "    FEATURES_EXTRACT_TO_POPANAL = ['clust_sim_max', 'shape_label', 'velmean_th', 'velmean_thbin', 'Stroke']\n",
    "    \n",
    "    \n",
    "for animal, DATE in list_animal_date:\n",
    "    # DATE = 230623\n",
    "    # animal = \"Pancho\"\n",
    "    # DATE = 230630\n",
    "    # animal = \"Diego\"\n",
    "    \n",
    "    if not SKIP_SESS_EXTRACTION:\n",
    "        MS = load_mult_session_helper(DATE, animal, MINIMAL_LOADING=True, spikes_version=\"kilosort_if_exists\") \n",
    "        # MS = load_mult_session_helper(DATE, animal, MINIMAL_LOADING=True, spikes_version=\"tdt\") \n",
    "        \n",
    "        ### Snippets, split by stroke index and location\n",
    "        \n",
    "        # Pick out a single session\n",
    "        sn = MS.SessionsList[0]\n",
    "    \n",
    "    for PLOT_INDIV in [False]:\n",
    "        for which_level in list_which_level:\n",
    "        # for which_level in [\"stroke_off\"]:\n",
    "            # == MODIFY THESE:\n",
    "            list_pre_dur = [-0.525]\n",
    "            list_post_dur = [0.525]\n",
    "            # which_level = \"stroke_off\"\n",
    "            # which_level = \"stroke\"\n",
    "            \n",
    "            # == IGNORE THESE:\n",
    "            strokes_only_keep_single = False # if True, then prunes dataset, removing trials \"remove_if_multiple_behstrokes_per_taskstroke\"\n",
    "            prune_feature_levels_min_n_trials = 1 \n",
    "            list_events = [] # must be empty\n",
    "            list_features_extraction = []\n",
    "            list_features_get_conjunction = []\n",
    "            trials_prune_just_those_including_events=False\n",
    "            \n",
    "            SP = Snippets(sn,\n",
    "                which_level,\n",
    "                list_events,\n",
    "                list_features_extraction,\n",
    "                list_features_get_conjunction,\n",
    "                list_pre_dur,\n",
    "                list_post_dur,\n",
    "                strokes_only_keep_single=strokes_only_keep_single,\n",
    "                tasks_only_keep_these=None,\n",
    "                prune_feature_levels_min_n_trials=prune_feature_levels_min_n_trials,\n",
    "                dataset_pruned_for_trial_analysis=None,\n",
    "                trials_prune_just_those_including_events=trials_prune_just_those_including_events,\n",
    "                fr_which_version='sqrt',\n",
    "                NEW_VERSION=True,\n",
    "                SKIP_DATA_EXTRACTION=False,\n",
    "                DS_pruned=DS_pruned\n",
    "                         )\n",
    "            \n",
    "            ####### EXTRACT REQUIRED FEATURES\n",
    "            # for version_distance in [\"pearson\", \"euclidian\"]:\n",
    "            for version_distance in list_version_distance:\n",
    "                \n",
    "                # Extract and save PopAnals.\n",
    "                DictBregionTwindPA = snippets_extract_popanals_split_bregion_twind(SP, list_time_windows, EFFECT_VARS)\n",
    "                \n",
    "\n",
    "            "
   ],
   "metadata": {
    "collapsed": false
   },
   "id": "1ed738c57561c166"
  },
  {
   "cell_type": "markdown",
   "source": [
    "##### Option 2: Load pre-saved Snippets --> Extract PopAnal"
   ],
   "metadata": {
    "collapsed": false
   },
   "id": "476d4a474480c1f1"
  },
  {
   "cell_type": "code",
   "execution_count": null,
   "outputs": [],
   "source": [
    "from neuralmonkey.classes.session import load_mult_session_helper\n"
   ],
   "metadata": {
    "collapsed": false
   },
   "id": "1abf403eecd0416b"
  },
  {
   "cell_type": "code",
   "execution_count": null,
   "outputs": [],
   "source": [
    "from neuralmonkey.classes.snippets import load_and_concat_mult_snippets\n",
    "\n",
    "DATE = 220718\n",
    "animal = \"Pancho\"\n",
    "which_level = \"substroke\"\n",
    "DEBUG = False\n",
    "MS = load_mult_session_helper(DATE, animal, spikes_version=\"tdt\")\n",
    "SP, SAVEDIR_ALL = load_and_concat_mult_snippets(MS, which_level = which_level,\n",
    "    DEBUG=DEBUG)\n"
   ],
   "metadata": {
    "collapsed": false
   },
   "id": "87b1372a885e2a1a"
  },
  {
   "cell_type": "code",
   "execution_count": null,
   "outputs": [],
   "source": [
    "SP.DfScalar = SP.datamod_compute_fr_scalar(SP.DfScalar)"
   ],
   "metadata": {
    "collapsed": false
   },
   "id": "92d262cebdbad426"
  },
  {
   "cell_type": "code",
   "execution_count": null,
   "outputs": [],
   "source": [
    "sum(np.asarray(list(map_site_to_fr.values()))>1.5)"
   ],
   "metadata": {
    "collapsed": false
   },
   "id": "77993091405eb7ec"
  },
  {
   "cell_type": "code",
   "execution_count": null,
   "outputs": [],
   "source": [
    "SP.prune_low_firing_rate_sites()"
   ],
   "metadata": {
    "collapsed": false
   },
   "id": "6aed89d3c127016f"
  },
  {
   "cell_type": "code",
   "execution_count": null,
   "outputs": [],
   "source": [
    "min(map_site_to_fr.values())"
   ],
   "metadata": {
    "collapsed": false
   },
   "id": "af86d0f10b6604f7"
  },
  {
   "cell_type": "code",
   "execution_count": null,
   "outputs": [],
   "source": [
    "map_site_to_fr"
   ],
   "metadata": {
    "collapsed": false
   },
   "id": "2a0e1cdaac92c8b7"
  },
  {
   "cell_type": "code",
   "execution_count": null,
   "outputs": [],
   "source": [
    "map_site_to_fr[328]"
   ],
   "metadata": {
    "collapsed": false
   },
   "id": "b73a30cb86ffe4e"
  },
  {
   "cell_type": "code",
   "execution_count": null,
   "outputs": [],
   "source": [],
   "metadata": {
    "collapsed": false
   },
   "id": "2bb1d4637d7e8983"
  },
  {
   "cell_type": "code",
   "execution_count": null,
   "outputs": [],
   "source": [
    "# Load a question\n",
    "from neuralmonkey.analyses.rsa import rsagood_questions_dict\n",
    "DictParamsEachQuestion = rsagood_questions_dict(animal, DATE)\n",
    "\n",
    "\n",
    "question = \"CV_shape\"\n",
    "# question = \"SP_shape_loc\"\n",
    "q_params = DictParamsEachQuestion[question]\n",
    "print(q_params)"
   ],
   "metadata": {
    "collapsed": false
   },
   "id": "8c1967f1c422c7fa"
  },
  {
   "cell_type": "code",
   "execution_count": null,
   "outputs": [],
   "source": [
    "list_time_windows = [\n",
    "    (-0.3, -0.1),\n",
    "    (0.1, 0.3),\n",
    "    ]\n",
    "b\n",
    "from python"
   ],
   "metadata": {
    "collapsed": false
   },
   "id": "2856c7b1f4595797"
  },
  {
   "cell_type": "code",
   "execution_count": null,
   "outputs": [],
   "source": [
    "# Testing out params (ANOVA).\n",
    "from neuralmonkey.analyses.state_space_good import snippets_extract_popanals_split_bregion_twind\n",
    "from neuralmonkey.metadat.analy.anova_params import params_getter_dataset_preprocess\n",
    "\n",
    "params_getter_dataset_preprocess(\"singleprimvar\", \"Pancho\", 230612)"
   ],
   "metadata": {
    "collapsed": false
   },
   "id": "97363b20a5ba6f58"
  },
  {
   "cell_type": "code",
   "execution_count": null,
   "outputs": [],
   "source": [
    "# Clean up SP and extract features\n",
    "D, list_features_extraction = SP.datasetbeh_preprocess_clean_by_expt(\n",
    "    ANALY_VER=q_params[\"ANALY_VER\"], vars_extract_append=q_params[\"effect_vars\"])"
   ],
   "metadata": {
    "collapsed": false
   },
   "id": "1a645d70bcd2501b"
  },
  {
   "cell_type": "code",
   "execution_count": null,
   "outputs": [],
   "source": [
    "\n",
    "# Prune to just the events of interest\n",
    "if q_params[\"events_keep\"] is not None:\n",
    "    events_in = SP.DfScalar[\"event\"].unique().tolist()\n",
    "    SP.DfScalar = SP.DfScalar[SP.DfScalar[\"event\"].isin(q_params[\"events_keep\"])].reset_index(drop=True)\n",
    "    if len(SP.DfScalar)==0:\n",
    "        print(q_params[\"events_keep\"])\n",
    "        print(events_in)\n",
    "        assert False\n",
    "\n",
    "# Sanity check\n",
    "# - variables are present\n",
    "# pa = dfallpa[\"pa\"].values[0]\n",
    "# for var in q_params[\"effect_vars\"]:\n",
    "#     assert var in SP.DfScalar.columns\n",
    "    # assert var in pa.Xlabels[\"trials\"].columns\n",
    "# events_exist = pa.Xlabels[\"trials\"][\"eventdistStrokWrapperMult with preprocess\"].tolist()\n",
    "# assert any([ev in events_exist for ev in q_params[\"events_keep\"]])\n",
    "\n",
    "HACK_RENAME_SHAPES = True\n",
    "\n",
    "# Extract all popanals\n",
    "dfallpa = snippets_extract_popanals_split_bregion_twind(SP, list_time_windows,\n",
    "                                                list_features_extraction,\n",
    "                                                HACK_RENAME_SHAPES=HACK_RENAME_SHAPES)\n"
   ],
   "metadata": {
    "collapsed": false
   },
   "id": "757ea996165adbeb"
  },
  {
   "cell_type": "code",
   "execution_count": null,
   "outputs": [],
   "source": [
    "pa = dfallpa[\"pa\"].values[0]\n",
    "id(pa.Xlabels[\"trials\"])"
   ],
   "metadata": {
    "collapsed": false
   },
   "id": "f92aeec636884d42"
  },
  {
   "cell_type": "code",
   "execution_count": null,
   "outputs": [],
   "source": [
    "dfthis = pa.Xlabels[\"trials\"]\n",
    "# dfthis = pa.Xlabels[\"trials\"].copy()\n",
    "dfthis[\"twind\"] = [(-0.3, -0.1) for _ in range(len(dfthis))]\n",
    "pa.Xlabels[\"trials\"] = dfthis"
   ],
   "metadata": {
    "collapsed": false
   },
   "id": "cf4effa22cef06b4"
  },
  {
   "cell_type": "code",
   "execution_count": null,
   "outputs": [],
   "source": [
    "dfallpa"
   ],
   "metadata": {
    "collapsed": false
   },
   "id": "f29ade802339bfb4"
  },
  {
   "cell_type": "code",
   "execution_count": null,
   "outputs": [],
   "source": [
    "pa.Xlabels[\"times\"]"
   ],
   "metadata": {
    "collapsed": false
   },
   "id": "ecf35b55534ec805"
  },
  {
   "cell_type": "code",
   "execution_count": null,
   "outputs": [],
   "source": [
    "pa = dfallpa[\"pa\"].values[1]\n",
    "id(pa.Xlabels[\"trials\"])"
   ],
   "metadata": {
    "collapsed": false
   },
   "id": "e826fceec9e48d30"
  },
  {
   "cell_type": "code",
   "execution_count": null,
   "outputs": [],
   "source": [
    "# make copy whenver generate new pa\n",
    "# pa must deepcopy.\n",
    "pa = dfallpa[\"pa\"].values[0]\n",
    "pa.Xlabels[\"trials\"][\"twind\"] = [(0,0) for _ in range(len(pa.Xlabels[\"trials\"]))]"
   ],
   "metadata": {
    "collapsed": false
   },
   "id": "d05abb8cdd8b20bd"
  },
  {
   "cell_type": "code",
   "execution_count": null,
   "outputs": [],
   "source": [
    "len(set(dfallpa[\"pa\"]))"
   ],
   "metadata": {
    "collapsed": false
   },
   "id": "6047b7d3fd7449c0"
  },
  {
   "cell_type": "code",
   "execution_count": null,
   "outputs": [],
   "source": [
    "[pa.Xlabels[\"trials\"] for pa in dfallpa[\"pa\"]]"
   ],
   "metadata": {
    "collapsed": false
   },
   "id": "74693b723eef8045"
  },
  {
   "cell_type": "code",
   "execution_count": null,
   "outputs": [],
   "source": [
    "for i, row in dfallpa.iterrows():\n",
    "    print(row[\"twind\"], row[\"pa\"].Xlabels[\"trials\"][\"twind\"].unique())"
   ],
   "metadata": {
    "collapsed": false
   },
   "id": "6ff99a6ceaf4019f"
  },
  {
   "cell_type": "markdown",
   "source": [
    "## Load and Test code with a single specific dataset"
   ],
   "metadata": {
    "collapsed": false
   },
   "id": "119cc8a07b17f1ce"
  },
  {
   "cell_type": "markdown",
   "source": [
    "##### [Option 1] Generate dfallpa by running above (from Snippets)"
   ],
   "metadata": {
    "collapsed": false
   },
   "id": "16fdeae159ae34d1"
  },
  {
   "cell_type": "markdown",
   "source": [
    "##### [Option 2] Load pre-computed DFallpa"
   ],
   "metadata": {
    "collapsed": false
   },
   "id": "a9845020d528fc76"
  },
  {
   "cell_type": "code",
   "execution_count": 1,
   "outputs": [],
   "source": [
    "from neuralmonkey.analyses.rsa import rsagood_pa_vs_theor_wrapper_loadresults, rsagood_pa_vs_theor_single\n",
    "\n",
    "# /gorilla1/analyses/recordings/main/RSA/Diego-230619/agg_True-subtr_gridsize-dist_euclidian_unbiased/SP_shape_size/process_single_pa/trial-03_samp-M1_m-(-0.5, -0.3)\n",
    "\n",
    "\n",
    "# animal = \"Pancho\"\n",
    "# date = 220716\n",
    "# question = \"SP_shape_size\"\n",
    "# version_distance = \"euclidian_unbiased\"\n",
    "# subtract_mean_each_level_of_var = None\n",
    "\n",
    "# animal = \"Pancho\"\n",
    "# date = 220715\n",
    "# question = \"SP_shape_loc_TIME\"\n",
    "# version_distance = \"euclidian_unbiased\"\n",
    "# subtract_mean_each_level_of_var = \"event\"\n",
    "\n",
    "# animal = \"Pancho\"\n",
    "# date = 220715\n",
    "# question = \"SP_shape_loc\"\n",
    "# version_distance = \"euclidian_unbiased\"\n",
    "# subtract_mean_each_level_of_var = None\n",
    "\n",
    "animal = \"Diego\"\n",
    "date = 230619\n",
    "question = \"SS_shape\"\n",
    "version_distance = \"euclidian_unbiased\"\n",
    "subtract_mean_each_level_of_var = None\n",
    "vars_test_invariance_over_dict = {\"same\":[\"index_within_stroke\"], \"diff\":[\"dist_angle\"]}\n",
    "\n",
    "# OBSOLETE!!!\n",
    "# DO_AGG_TRIALS = True\n",
    "# DFallpa, DFRES_THEOR, DFRES_SAMEDIFF, DFRES_EFFECT_CONJ, DFRES_EFFECT_MARG, Params, savedir = rsagood_pa_vs_theor_wrapper_loadresults(animal, date, question, version_distance,\n",
    "#                                             DO_AGG_TRIALS, subtract_mean_each_level_of_var)"
   ],
   "metadata": {
    "collapsed": false,
    "ExecuteTime": {
     "end_time": "2024-02-11T21:20:28.475302424Z",
     "start_time": "2024-02-11T21:20:28.378143677Z"
    }
   },
   "id": "9bd69e30f8e45f9a"
  },
  {
   "cell_type": "code",
   "execution_count": 2,
   "outputs": [],
   "source": [
    "# Better version for loading and preprocessing, all at once.\n",
    "from neuralmonkey.classes.population_mult import dfallpa_extraction_load_wrapper\n",
    "list_time_windows = None\n",
    "LOAD_FROM_RSA_ANALY = True\n",
    "if LOAD_FROM_RSA_ANALY:\n",
    "    list_time_windows = None\n",
    "else:\n",
    "    list_time_windows = [\n",
    "        (-0.5, -0.3),\n",
    "        (-0.3, -0.1),\n",
    "        (-0.1, 0.1),\n",
    "        (0.1, 0.3),\n",
    "        (0.3, 0.5)]\n",
    "DO_AGG_TRIALS = True\n",
    "DFallpa = dfallpa_extraction_load_wrapper(animal, date, question, list_time_windows,\n",
    "                                    which_level = \"trial\",\n",
    "                                    events_keep = None,\n",
    "                                    combine_into_larger_areas = True, exclude_bad_areas=True,\n",
    "                                    bin_by_time_dur = None, bin_by_time_slide = None,\n",
    "                                    slice_agg_slices = None, slice_agg_vars_to_split=None, slice_agg_concat_dim=None,\n",
    "                                    LOAD_FROM_RSA_ANALY=LOAD_FROM_RSA_ANALY, rsa_ver_dist=\"euclidian_unbiased\",\n",
    "                                    rsa_subtr=subtract_mean_each_level_of_var, rsa_agg = DO_AGG_TRIALS, rsa_invar=vars_test_invariance_over_dict,\n",
    "                                    SPIKES_VERSION=\"tdt\",\n",
    "                                    HACK_RENAME_SHAPES = True)"
   ],
   "metadata": {
    "collapsed": false,
    "ExecuteTime": {
     "end_time": "2024-02-11T21:20:29.203218776Z",
     "start_time": "2024-02-11T21:20:28.856132315Z"
    }
   },
   "id": "4083cfb7c4857224"
  },
  {
   "cell_type": "code",
   "execution_count": null,
   "outputs": [],
   "source": [
    "# Extract saved params -- or -- hand enter params\n",
    "\n",
    "effect_vars = Params[\"question_params\"][\"effect_vars\"]\n",
    "# effect_vars = Params[\"EFFECT_VARS\"]\n",
    "\n",
    "vars_test_invariance_over_dict = {\n",
    "    \"same\":[],\n",
    "    \"diff\":[\"gridsize\"]\n",
    "}\n",
    "vars_test_invariance_over_dict = None\n",
    "\n",
    "version_distance = \"euclidian_unbiased\"\n",
    "# use_distributional_distance = True\n"
   ],
   "metadata": {
    "collapsed": false
   },
   "id": "ecb12e848d16747a"
  },
  {
   "cell_type": "code",
   "execution_count": null,
   "outputs": [],
   "source": [
    "# Use saved params"
   ],
   "metadata": {
    "collapsed": false
   },
   "id": "9c83ce1ec890c7f4"
  },
  {
   "cell_type": "markdown",
   "source": [
    "##### Testing normalization of PA activity"
   ],
   "metadata": {
    "collapsed": false
   },
   "id": "fc17e1fbbab74cf9"
  },
  {
   "cell_type": "code",
   "execution_count": 3,
   "outputs": [
    {
     "data": {
      "text/plain": "<Figure size 1000x500 with 1 Axes>",
      "image/png": "[encoded data removed]"
     },
     "metadata": {},
     "output_type": "display_data"
    }
   ],
   "source": [
    "from neuralmonkey.analyses.state_space_good import popanal_preprocess_scalar_normalization\n",
    "from neuralmonkey.analyses.rsa import _rsagood_convert_PA_to_Cl\n",
    "\n",
    "br = \"PMv\"\n",
    "tw = (-0.1, 0)\n",
    "\n",
    "a = DFallpa[\"bregion\"] == br\n",
    "b = DFallpa[\"twind\"] == tw\n",
    "pa = DFallpa[a & b][\"pa\"].values[0]\n",
    "\n",
    "# Plot smoothed fr\n",
    "pa.plotNeurHeat(0)"
   ],
   "metadata": {
    "collapsed": false,
    "ExecuteTime": {
     "end_time": "2024-02-11T21:20:35.440166603Z",
     "start_time": "2024-02-11T21:20:35.155343734Z"
    }
   },
   "id": "bfbbd0043f8dbe53"
  },
  {
   "cell_type": "code",
   "execution_count": 4,
   "outputs": [
    {
     "data": {
      "text/plain": "[65,\n 66,\n 67,\n 68,\n 69,\n 70,\n 71,\n 72,\n 73,\n 74,\n 75,\n 76,\n 77,\n 78,\n 79,\n 80,\n 81,\n 82,\n 83,\n 84,\n 85,\n 86,\n 87,\n 88,\n 89,\n 90,\n 91,\n 92,\n 93,\n 94,\n 95,\n 96,\n 97,\n 98,\n 99,\n 100,\n 101,\n 102,\n 103,\n 104,\n 105,\n 106,\n 107,\n 108,\n 109,\n 110,\n 111,\n 112,\n 113,\n 114,\n 115,\n 116,\n 118,\n 119,\n 120,\n 121,\n 122,\n 123,\n 124,\n 125,\n 126,\n 127,\n 128]"
     },
     "execution_count": 4,
     "metadata": {},
     "output_type": "execute_result"
    }
   ],
   "source": [
    "pa.Chans"
   ],
   "metadata": {
    "collapsed": false,
    "ExecuteTime": {
     "end_time": "2024-02-11T21:20:36.667317348Z",
     "start_time": "2024-02-11T21:20:36.611460133Z"
    }
   },
   "id": "19a36a925048e395"
  },
  {
   "cell_type": "code",
   "execution_count": 83,
   "outputs": [],
   "source": [
    "from pythonlib.tools.plottools import savefig"
   ],
   "metadata": {
    "collapsed": false,
    "ExecuteTime": {
     "end_time": "2024-02-11T22:09:08.125548490Z",
     "start_time": "2024-02-11T22:09:08.026609626Z"
    }
   },
   "id": "5acb5360eff3c21c"
  },
  {
   "cell_type": "code",
   "execution_count": 84,
   "outputs": [],
   "source": [
    "import matplotlib.pyplot as plt\n",
    "grouping_vars = [\"shape\", \"gridsize\"]\n",
    "subtract_mean_each_level_of_var = None\n",
    "plot_example_chan=65\n",
    "plot_example_split_var = \"shape\"\n",
    "DO_AGG_TRIALS = True\n",
    "\n",
    "for donorm in [True, False]:\n",
    "    if donorm:\n",
    "        _, PAscal, PAscalagg, fig, axes, groupdict = popanal_preprocess_scalar_normalization(pa, grouping_vars,\n",
    "                                                                                      subtract_mean_each_level_of_var,\n",
    "                                                                                      plot_example_chan=plot_example_chan,\n",
    "                                                                                      plot_example_split_var=plot_example_split_var,\n",
    "                                                                                      DO_AGG_TRIALS=DO_AGG_TRIALS)\n",
    "    else:\n",
    "        # don't normalize\n",
    "        PAscal = pa.copy()\n",
    "        PAscal = PAscal.norm_subtract_trial_mean_each_timepoint()\n",
    "        PAscal = PAscal.agg_wrapper(\"times\") # mean over time --> (chans, trials)\n",
    "        PAscal, _ = PAscal.slice_and_agg_wrapper(\"trials\", grouping_vars, return_group_dict=True)\n",
    "    \n",
    "    Clraw, Clsim = _rsagood_convert_PA_to_Cl(PAscal, grouping_vars, \"euclidian\", DO_AGG_TRIALS)\n",
    "    fig, ax = Clraw.rsa_plot_heatmap(diverge=True)\n",
    "    savefig(fig, f\"/tmp/donorm_{donorm}.pdf\")\n",
    "    plt.close(\"all\")"
   ],
   "metadata": {
    "collapsed": false,
    "ExecuteTime": {
     "end_time": "2024-02-11T22:09:11.924747068Z",
     "start_time": "2024-02-11T22:09:08.236836182Z"
    }
   },
   "id": "5733b129747c3e73"
  },
  {
   "cell_type": "code",
   "execution_count": 82,
   "outputs": [
    {
     "data": {
      "text/plain": "(<neuralmonkey.classes.population.PopAnal at 0x7f907ef04f10>,\n <Figure size 1000x800 with 6 Axes>)"
     },
     "execution_count": 82,
     "metadata": {},
     "output_type": "execute_result"
    },
    {
     "data": {
      "text/plain": "<Figure size 1000x800 with 6 Axes>",
      "image/png": "[encoded data removed]"
     },
     "metadata": {},
     "output_type": "display_data"
    }
   ],
   "source": [
    "from neuralmonkey.analyses.state_space_good import _popanal_preprocess_normalize\n",
    "\n",
    "_popanal_preprocess_normalize(pa, True)"
   ],
   "metadata": {
    "collapsed": false,
    "ExecuteTime": {
     "end_time": "2024-02-11T22:07:53.674445333Z",
     "start_time": "2024-02-11T22:07:52.778963189Z"
    }
   },
   "id": "3294811da1e7aabe"
  },
  {
   "cell_type": "code",
   "execution_count": null,
   "outputs": [],
   "source": [
    "frmean_base"
   ],
   "metadata": {
    "collapsed": false
   },
   "id": "2e08e6b4b9644a82"
  },
  {
   "cell_type": "markdown",
   "source": [
    "### [After loading DFallpa] DEBUGGING CLsim, etc. Compute: A single PA --> Clsim and dfrestheor"
   ],
   "metadata": {
    "collapsed": false
   },
   "id": "613da2180bd007f"
  },
  {
   "cell_type": "code",
   "execution_count": null,
   "outputs": [],
   "source": [
    "# Get Clsim\n",
    "# br = \"PMv_m\"\n",
    "# tw = \"dummy\"\n",
    "# ev = \"dummy\"\n",
    "# wl = \"dummy\"\n",
    "\n",
    "# tw = (-0.5, -0.3)\n",
    "# ev = \"03_samp\"\n",
    "# wl = \"trial\"\n",
    "\n",
    "# tw = (-0.3, -0.1)\n",
    "# ev = \"06_on_strokeidx_0\"\n",
    "# wl = \"trial\"\n",
    "\n",
    "br = \"M1\"\n",
    "tw = (-0.1, 0.)\n",
    "ev = \"00_substrk\"\n",
    "wl = \"substroke\"\n",
    "\n",
    "a = DFallpa[\"bregion\"]==br\n",
    "b = DFallpa[\"twind\"]==tw\n",
    "c = DFallpa[\"event\"]==ev\n",
    "d = DFallpa[\"which_level\"]==wl\n",
    "pa =DFallpa[(a & b & c & d)][\"pa\"].values[0]\n"
   ],
   "metadata": {
    "collapsed": false
   },
   "id": "f6fc355fcab9bc8d"
  },
  {
   "cell_type": "code",
   "execution_count": null,
   "outputs": [],
   "source": [
    "# Hand enter params\n",
    "effect_vars = [\"shape\", \"dist_angle\", \"index_within_stroke\"]\n",
    "# version_distance\n",
    "# vars_test_invariance_over_dict = {\"same\":[\"index_within_stroke\"], \"diff\":[\"dist_angle\"]}\n"
   ],
   "metadata": {
    "collapsed": false
   },
   "id": "d6f247a4b81e4be9"
  },
  {
   "cell_type": "code",
   "execution_count": null,
   "outputs": [],
   "source": [
    "\n",
    "sdir = \"/tmp\"\n",
    "PLOT = False\n",
    "# version_distance = \"euclidian_unbiased\"\n",
    "dfres_same_diff, dfres_theor, Clraw, Clsim, PAagg, DictVarToClsimtheor = rsagood_pa_vs_theor_single(pa, effect_vars, version_distance, subtract_mean_each_level_of_var,\n",
    "                                                                                                    vars_test_invariance_over_dict=vars_test_invariance_over_dict,\n",
    "                                                                                                    sdir=sdir, PLOT_THEORETICAL_SIMMATS=True, PLOT=PLOT, DO_AGG_TRIALS=DO_AGG_TRIALS)"
   ],
   "metadata": {
    "collapsed": false
   },
   "id": "8a425648ad2e476e"
  },
  {
   "cell_type": "code",
   "execution_count": null,
   "outputs": [],
   "source": [
    "dfres_theor"
   ],
   "metadata": {
    "collapsed": false
   },
   "id": "2138dca7eb604298"
  },
  {
   "cell_type": "code",
   "execution_count": null,
   "outputs": [],
   "source": [
    "dfres_theor"
   ],
   "metadata": {
    "collapsed": false
   },
   "id": "d302edef48f4fd25"
  },
  {
   "cell_type": "code",
   "execution_count": null,
   "outputs": [],
   "source": [
    "print(np.sum(np.isnan(Clsim.Xinput)))\n",
    "print(Clsim.Xinput.shape[0] * Clsim.Xinput.shape[1])\n",
    "# Clsim."
   ],
   "metadata": {
    "collapsed": false
   },
   "id": "96d7b1588a56d644"
  },
  {
   "cell_type": "code",
   "execution_count": null,
   "outputs": [],
   "source": [
    "Clsim.rsa_plot_heatmap()"
   ],
   "metadata": {
    "collapsed": false
   },
   "id": "ddfa7d546acb9cd8"
  },
  {
   "cell_type": "code",
   "execution_count": null,
   "outputs": [],
   "source": [
    "# Given a "
   ],
   "metadata": {
    "collapsed": false
   },
   "id": "d8a211bb642950a3"
  },
  {
   "cell_type": "code",
   "execution_count": null,
   "outputs": [],
   "source": [
    "Cltheor = Cl"
   ],
   "metadata": {
    "collapsed": false
   },
   "id": "79753e3472d22285"
  },
  {
   "cell_type": "code",
   "execution_count": null,
   "outputs": [],
   "source": [
    "# Given a mask, plot summary of it\n",
    "MASKS, fig, axes = Clsim.rsa_mask_context_helper(\"shape\", [\"dist_angle\", \"index_within_stroke\"], \n",
    "                                   \"diff_specific\", \n",
    "                                   [\"index_within_stroke\"], [\"dist_angle\"], PLOT=True)\n"
   ],
   "metadata": {
    "collapsed": false
   },
   "id": "6c3eae299712070b"
  },
  {
   "cell_type": "code",
   "execution_count": null,
   "outputs": [],
   "source": [
    "Cltheor, _ = Clsim.rsa_distmat_construct_theoretical(\"shape\")\n",
    "# effect_vars = [\"shape\", \"dist_angle\", \"index_within_stroke\"]\n",
    "# version_distance\n",
    "vars_test_invariance_over_dict = {\"same\":[\"index_within_stroke\"], \"diff\":[\"dist_angle\"]}\n",
    "\n",
    "c_diff_context, c_same_context = Clsim.rsa_distmat_score_vs_theor(Cltheor, vars_test_invariance_over_dict, plot_and_save_mask_path=\"/tmp/\")"
   ],
   "metadata": {
    "collapsed": false
   },
   "id": "866b786739a8f0ff"
  },
  {
   "cell_type": "code",
   "execution_count": null,
   "outputs": [],
   "source": [
    "print(\"c_diff_context, c_same_context:\", c_diff_context, c_same_context)"
   ],
   "metadata": {
    "collapsed": false
   },
   "id": "72e30b00566d9c6d"
  },
  {
   "cell_type": "code",
   "execution_count": null,
   "outputs": [],
   "source": [
    "print(\"c_diff_context, c_same_context:\", c_diff_context, c_same_context)"
   ],
   "metadata": {
    "collapsed": false
   },
   "id": "25081090bc745491"
  },
  {
   "cell_type": "markdown",
   "source": [
    "### Other stuff with DFallpa"
   ],
   "metadata": {
    "collapsed": false
   },
   "id": "eae66834e15f4696"
  },
  {
   "cell_type": "markdown",
   "source": [
    "##### [Devo] Same minus diff"
   ],
   "metadata": {
    "collapsed": false
   },
   "id": "d91e7271a6ebca4"
  },
  {
   "cell_type": "code",
   "execution_count": null,
   "outputs": [],
   "source": [
    "# efffect\n",
    "var_effect = \"seqc_0_shape\"\n",
    "# other vars (to define \"same context\")\n",
    "vars_context = [var for var in effect_vars if not var==var_effect]\n",
    "# Invariance, test over levels of this var (or conj var).\n",
    "vars_test_invariance_over_dict = {\n",
    "    \"same\":[\"seqc_0_loc\"],\n",
    "    \"diff\":[\"event\"]\n",
    "}\n",
    "\n",
    "\n",
    "Clsim.rsa_distmat_score_same_diff(var_effect, effect_vars, vars_test_invariance_over_dict, PLOT=False)\n",
    "\n"
   ],
   "metadata": {
    "collapsed": false
   },
   "id": "1fe2940b37ba9c54"
  },
  {
   "cell_type": "code",
   "execution_count": null,
   "outputs": [],
   "source": [
    "import pandas as pd\n",
    "pd.DataFrame(res)"
   ],
   "metadata": {
    "collapsed": false
   },
   "id": "93b2f46e0eca973b"
  },
  {
   "cell_type": "markdown",
   "source": [
    "##### [OPTIONAL] Prune PA further"
   ],
   "metadata": {
    "collapsed": false
   },
   "id": "216efbb1e21330c4"
  },
  {
   "cell_type": "code",
   "execution_count": null,
   "outputs": [],
   "source": [
    "effect_vars = Params[\"question_params\"][\"effect_vars\"]"
   ],
   "metadata": {
    "collapsed": false
   },
   "id": "a3bf1bf6ad4c1db6"
  },
  {
   "cell_type": "code",
   "execution_count": null,
   "outputs": [],
   "source": [
    "from neuralmonkey.analyses.rsa import preprocess_prune_pa_enough_data\n",
    "pa, res_check_before, res_check_after, vars_remove, reason_vars_remove = preprocess_prune_pa_enough_data(pa, effect_vars)\n",
    "\n",
    "for var in effect_vars:\n",
    "    display(res_check_after[var])\n"
   ],
   "metadata": {
    "collapsed": false
   },
   "id": "42fca33a9cc77b54"
  },
  {
   "cell_type": "code",
   "execution_count": null,
   "outputs": [],
   "source": [
    "ma = np.isnan(Clsim.Xinput)\n",
    "Clsim.rsa_matindex_plot_bool_mask(ma)"
   ],
   "metadata": {
    "collapsed": false
   },
   "id": "d344664ee717eb40"
  },
  {
   "cell_type": "code",
   "execution_count": null,
   "outputs": [],
   "source": [
    "\n",
    "# 1. Devo - unbiased eucl distance.\n",
    "# 2. Use \"same context\" as positiv econtrol\n",
    "# 3. All analyses should use \"diff context\" mask.\n",
    "\n",
    "# TODO:\n",
    "# DONE - put this method into Clraw (using trial-level data)\n",
    "# - Test out computation of positive cnotrol\n",
    "# - oput into kmain code.\n",
    "# -- make sure to plot masks.\n",
    "# - run it.\n"
   ],
   "metadata": {
    "collapsed": false
   },
   "id": "c7aec4a0fa3ec670"
  },
  {
   "cell_type": "code",
   "execution_count": null,
   "outputs": [],
   "source": [
    "# Compute distance "
   ],
   "metadata": {
    "collapsed": false
   },
   "id": "a509d22e29991bb1"
  },
  {
   "cell_type": "code",
   "execution_count": null,
   "outputs": [],
   "source": [
    "# 1) Norm by conjunction of variables (event and location)\n",
    "# 2) Get correaltion after masking\n",
    "# - to see effect of event, must do correlation after masking to \n",
    "# All of (diff event)\n",
    "# Or just (diff event, same everything else).\n",
    "# --- IE cannot have (same event, diff other things).\n"
   ],
   "metadata": {
    "collapsed": false
   },
   "id": "af89d3b4e567cf77"
  },
  {
   "cell_type": "markdown",
   "source": [
    "##### Run entire pipeline (score_wrapper) [All PA --> Summary DFRES_THEOR]"
   ],
   "metadata": {
    "collapsed": false
   },
   "id": "ad405ae69318a89d"
  },
  {
   "cell_type": "code",
   "execution_count": null,
   "outputs": [],
   "source": [
    "# Load a question\n",
    "from neuralmonkey.analyses.rsa import rsagood_questions_dict\n",
    "# date = DATE\n",
    "DictParamsEachQuestion = rsagood_questions_dict(animal, date)\n",
    "\n",
    "# question = \"CV_shape\"\n",
    "# question = \"SP_shape_loc\"\n",
    "question = \"SP_shape_size\"\n",
    "q_params = DictParamsEachQuestion[question]\n",
    "print(q_params)"
   ],
   "metadata": {
    "collapsed": false
   },
   "id": "b95874c252a5b6ae"
  },
  {
   "cell_type": "code",
   "execution_count": null,
   "outputs": [],
   "source": [
    "Params"
   ],
   "metadata": {
    "collapsed": false
   },
   "id": "e68e675cd83b772a"
  },
  {
   "cell_type": "code",
   "execution_count": null,
   "outputs": [],
   "source": [
    "question = Params[\"question\"]\n",
    "q_params = Params[\"question_params\"]\n",
    "subtract_mean_each_level_of_var = None\n",
    "# vars_test_invariance_over_dict = {'same': ['seqc_0_loc'], 'diff': ['event']}\n",
    "vars_test_invariance_over_dict = None"
   ],
   "metadata": {
    "collapsed": false
   },
   "id": "9ec021290e1fc79b"
  },
  {
   "cell_type": "code",
   "execution_count": null,
   "outputs": [],
   "source": [
    "vars_test_invariance_over_dict = {'same': [], 'diff': ['event']}\n"
   ],
   "metadata": {
    "collapsed": false
   },
   "id": "c7db5311c88ca39f"
  },
  {
   "cell_type": "code",
   "execution_count": null,
   "outputs": [],
   "source": [
    "# To reduce amount of computation, change the params\n",
    "Params[\"version_distance\"] = \"euclidian\"\n",
    "Params[\"question_params\"][\"list_subtract_mean_each_level_of_var\"] = [None]\n",
    "version_distance = Params[\"version_distance\"]\n"
   ],
   "metadata": {
    "collapsed": false
   },
   "id": "6f48dca81ec97356"
  },
  {
   "cell_type": "code",
   "execution_count": null,
   "outputs": [],
   "source": [
    "# To use variables within params\n",
    "question = Params[\"question\"]\n",
    "q_params = Params[\"question_params\"]\n",
    "vars_test_invariance_over_dict = q_params[\"list_vars_test_invariance_over_dict\"][0]\n",
    "\n"
   ],
   "metadata": {
    "collapsed": false
   },
   "id": "8adeac56f063071c"
  },
  {
   "cell_type": "code",
   "execution_count": null,
   "outputs": [],
   "source": [
    "print(animal, date, question,version_distance, subtract_mean_each_level_of_var, vars_test_invariance_over_dict, DO_AGG_TRIALS)"
   ],
   "metadata": {
    "collapsed": false
   },
   "id": "167074ecc3555327"
  },
  {
   "cell_type": "code",
   "execution_count": null,
   "outputs": [],
   "source": [
    "# To overwrite variables\n",
    "subtract_mean_each_level_of_var = \"seqc_0_loc\""
   ],
   "metadata": {
    "collapsed": false
   },
   "id": "bdde3ae3091812ad"
  },
  {
   "cell_type": "code",
   "execution_count": null,
   "outputs": [],
   "source": [
    "# Pick out a single case to run (Faster)\n",
    "\n",
    "wl = \"trial\"\n",
    "ev = \"06_on_strokeidx_0\"\n",
    "tw = (-0.3, -0.1)\n",
    "\n",
    "b = DFallpa[\"twind\"]==tw\n",
    "c = DFallpa[\"event\"]==ev\n",
    "d = DFallpa[\"which_level\"]==wl\n",
    "DFallpa =DFallpa[(b & c & d)].reset_index(drop=True)\n",
    "assert len(DFallpa)==16 # n bregions\n",
    "\n",
    "\n"
   ],
   "metadata": {
    "collapsed": false
   },
   "id": "a549e72de0165e33"
  },
  {
   "cell_type": "code",
   "execution_count": null,
   "outputs": [],
   "source": [
    "from neuralmonkey.analyses.rsa import rsagood_score_wrapper\n",
    "DFRES_THEOR, DFRES_EFFECT_MARG, DFRES_EFFECT_CONJ, DFRES_SAMEDIFF, Params = rsagood_score_wrapper(DFallpa, animal, date, question, q_params, version_distance, \n",
    "                                                                                                  subtract_mean_each_level_of_var, vars_test_invariance_over_dict, \n",
    "                                                                                                  DO_AGG_TRIALS=DO_AGG_TRIALS, PLOT_INDIV=False, do_save=False)\n",
    "\n",
    "\n"
   ],
   "metadata": {
    "collapsed": false
   },
   "id": "c4ca30f37362a6f8"
  },
  {
   "cell_type": "markdown",
   "source": [
    "##### Run entire pipeline, overwriting default params (for debugging)"
   ],
   "metadata": {
    "collapsed": false
   },
   "id": "814840c75a02631f"
  },
  {
   "cell_type": "code",
   "execution_count": null,
   "outputs": [],
   "source": [
    "q_params[\"effect_vars\"] = [\"seqc_0_shape\"]\n",
    "q_params[\"plot_pairwise_distmats_variables\"] = ['seqc_0_shape']\n",
    "version_distance = \"euclidian\"\n",
    "subtract_mean_each_level_of_var = None\n",
    "vars_test_invariance_over_dict = None"
   ],
   "metadata": {
    "collapsed": false
   },
   "id": "c0a67d454c7904cb"
  },
  {
   "cell_type": "code",
   "execution_count": null,
   "outputs": [],
   "source": [
    "from neuralmonkey.analyses.rsa import rsagood_score_wrapper\n",
    "\n",
    "DFRES_THEOR, DFRES_EFFECT_MARG, DFRES_EFFECT_CONJ, DFRES_SAMEDIFF, Params = rsagood_score_wrapper(DFallpa, animal, date, question, q_params, version_distance, \n",
    "                                                                                                  subtract_mean_each_level_of_var, vars_test_invariance_over_dict, \n",
    "                                                                                                  DO_AGG_TRIALS=DO_AGG_TRIALS, PLOT_INDIV=False, do_save=False)\n",
    "\n",
    "\n"
   ],
   "metadata": {
    "collapsed": false
   },
   "id": "1604d635dc9976da"
  },
  {
   "cell_type": "markdown",
   "source": [
    "# Plot just the distance matrices and heatmaps (i.e,, dont do entire scoring) (including for cases with just one variable)"
   ],
   "metadata": {
    "collapsed": false
   },
   "id": "e040c9c82c8900f4"
  },
  {
   "cell_type": "markdown",
   "source": [
    "Useful if just one variable... then not possible to do scoring, but useful to visualize distance matrix"
   ],
   "metadata": {
    "collapsed": false
   },
   "id": "59c17f44fde2b1ee"
  },
  {
   "cell_type": "code",
   "execution_count": null,
   "outputs": [],
   "source": [
    "# Clean up DFallpa\n",
    "\n",
    "from neuralmonkey.analyses.rsa import preprocess_rsa_prepare_popanal_wrapper\n",
    "list_pa =[]\n",
    "for pa in DFallpa[\"pa\"].tolist():\n",
    "    print(pa.X.shape)\n",
    "    pa, res_check_tasksets, res_check_effectvars = preprocess_rsa_prepare_popanal_wrapper(pa, **q_params)\n",
    "    print(pa.X.shape)\n",
    "    assert False\n",
    "    list_pa.append(pa)\n",
    "DFallpa[\"pa\"] = list_pa\n"
   ],
   "metadata": {
    "collapsed": false
   },
   "id": "8c6e5b75a82bd241"
  },
  {
   "cell_type": "code",
   "execution_count": null,
   "outputs": [],
   "source": [
    "res_check_effectvars[\"seqc_0_shape\"]\n"
   ],
   "metadata": {
    "collapsed": false
   },
   "id": "fd2f9d2c28c1c581"
  },
  {
   "cell_type": "code",
   "execution_count": null,
   "outputs": [],
   "source": [
    "res_check_tasksets[\"seqc_0_shape\"]"
   ],
   "metadata": {
    "collapsed": false
   },
   "id": "d6d1892bd0b93b09"
  },
  {
   "cell_type": "code",
   "execution_count": null,
   "outputs": [],
   "source": [
    "# question_params = Params[\"question_params\"]\n",
    "# variables_plot = question_params[\"plot_pairwise_distmats_variables\"]\n",
    "# list_wl_ev_tw_plot = question_params[\"plot_pairwise_distmats_twinds\"]\n",
    "\n",
    "from neuralmonkey.analyses.rsa import rsagood_pa_vs_theor_plot_pairwise_distmats, rsagood_pa_vs_theor_plot_pairwise_distmats_singlevar\n",
    "vars_test_invariance_over_dict_THIS = None # becuase here is looking at pairwise distmats, so would fail\n",
    "version_distance = \"_pearson_raw\"\n",
    "savedir = \"/tmp\"\n",
    "# variables_plot = [\"seqc_0_shape\"]\n",
    "var_effect = \"seqc_0_shape\"\n",
    "list_wl_ev_tw_plot = [\n",
    "    # (\"trial\", \"03_samp\", (0.1, 0.3)),\n",
    "    # (\"trial\", \"03_samp\", (0.3, 0.5)),    \n",
    "    # (\"trial\", \"06_on_strokeidx_0\", (0.3, 0.5)),    \n",
    "    # (\"trial\", \"06_on_strokeidx_0\", (-0.1, 0.1)),    \n",
    "    (\"trial\", \"06_on_strokeidx_0\", (0.1, 0.3)),    \n",
    "]\n",
    "\n",
    "rsagood_pa_vs_theor_plot_pairwise_distmats_singlevar(DFallpa, version_distance, savedir, var_effect,\n",
    "                                           list_wl_ev_tw_plot, vars_test_invariance_over_dict_THIS,\n",
    "                                           DO_AGG_TRIALS_PLOT=True)\n"
   ],
   "metadata": {
    "collapsed": false
   },
   "id": "81eef7b0a00f06fc"
  },
  {
   "cell_type": "code",
   "execution_count": null,
   "outputs": [],
   "source": [
    "# Plot distmats with example shape drawings along the axis."
   ],
   "metadata": {
    "collapsed": false
   },
   "id": "e397d4a933a5a7d6"
  },
  {
   "cell_type": "markdown",
   "source": [
    "##### Quickly plot results"
   ],
   "metadata": {
    "collapsed": false
   },
   "id": "8bb62033a9ebbf4c"
  },
  {
   "cell_type": "code",
   "execution_count": null,
   "outputs": [],
   "source": [
    "# Plot scatter"
   ],
   "metadata": {
    "collapsed": false
   },
   "id": "77a937f1e0f3fb"
  },
  {
   "cell_type": "code",
   "execution_count": null,
   "outputs": [],
   "source": [
    "# Some derived metrics\n",
    "\n",
    "DFRES_THEOR[\"score_CtxS\"] = DFRES_THEOR[\"EffD_CtxS\"] - DFRES_THEOR[\"EffS_CtxS\"]\n",
    "DFRES_THEOR[\"score_CtxD\"] = DFRES_THEOR[\"EffD_CtxD\"] - DFRES_THEOR[\"EffS_CtxD\"]\n",
    "\n",
    "DFRES_THEOR[\"score_ratio\"] = DFRES_THEOR[\"score_CtxD\"]/DFRES_THEOR[\"score_CtxS\"]\n"
   ],
   "metadata": {
    "collapsed": false
   },
   "id": "129c15b6b3469c61"
  },
  {
   "cell_type": "code",
   "execution_count": null,
   "outputs": [],
   "source": [
    "fig, ax = plt.subplots(figsize=(10, 5))\n",
    "\n",
    "wl = \"trial\"\n",
    "ev = \"06_on_strokeidx_0\"\n",
    "tw = (-0.3, -0.1)\n",
    "var = \"seqc_0_shape\"\n",
    "\n",
    "a = DFRES_THEOR[\"event\"]==ev\n",
    "b = DFRES_THEOR[\"which_level\"]==wl\n",
    "c = DFRES_THEOR[\"twind\"]==tw\n",
    "d = DFRES_THEOR[\"var\"]==var\n",
    "dfthis = DFRES_THEOR[(a & b & c & d)]\n",
    "\n",
    "sns.pointplot(data=dfthis, x=\"bregion\", y=\"score_ratio\", col=\"var\", kind=\"point\", aspect=3, ax=ax)\n",
    "ax.set_ylim([0, 1])"
   ],
   "metadata": {
    "collapsed": false
   },
   "id": "5666ae5d293da9bb"
  },
  {
   "cell_type": "code",
   "execution_count": null,
   "outputs": [],
   "source": [
    "if False:\n",
    "    wl = \"trial\"\n",
    "    ev = \"06_on_strokeidx_0\"\n",
    "    tw = (-0.3, -0.1)\n",
    "    \n",
    "    a = DFRES_THEOR[\"event\"]==ev\n",
    "    b = DFRES_THEOR[\"which_level\"]==wl\n",
    "    c = DFRES_THEOR[\"twind\"]==tw\n",
    "    dfthis = DFRES_THEOR[(a & b & c)]\n",
    "else:\n",
    "    dfthis = DFRES_THEOR\n",
    "\n",
    "import seaborn as sns\n",
    "import matplotlib.pyplot as plt\n",
    "%matplotlib inline\n",
    "\n",
    "sns.catplot(data=dfthis, x=\"bregion\", y=\"score_ratio\", col=\"var\", kind=\"point\", aspect=2);\n",
    "plt.axhline(0)\n",
    "plt.axhline(1.5)\n",
    "\n",
    "\n",
    "sns.catplot(data=dfthis, x=\"bregion\", y=\"score_CtxS\", col=\"var\", kind=\"point\", aspect=2);\n",
    "plt.axhline(0)\n",
    "plt.axhline(1.5)\n",
    "\n",
    "sns.catplot(data=dfthis, x=\"bregion\", y=\"score_CtxD\", col=\"var\", kind=\"point\", aspect=2);\n",
    "plt.axhline(0)\n",
    "plt.axhline(1.5)\n",
    "\n"
   ],
   "metadata": {
    "collapsed": false
   },
   "id": "d2021f3630aaa5"
  },
  {
   "cell_type": "code",
   "execution_count": null,
   "outputs": [],
   "source": [
    "import seaborn as sns\n",
    "import matplotlib.pyplot as plt\n",
    "%matplotlib inline\n",
    "sns.catplot(data=dfthis, x=\"bregion\", y=\"EffS_CtxS\", col=\"var\", kind=\"point\", aspect=2)\n",
    "plt.axhline(0)\n",
    "plt.axhline(1.5)\n",
    "\n",
    "sns.catplot(data=dfthis, x=\"bregion\", y=\"EffD_CtxS\", col=\"var\", kind=\"point\", aspect=2);\n",
    "plt.axhline(0)\n",
    "plt.axhline(1.5)\n",
    "\n",
    "sns.catplot(data=dfthis, x=\"bregion\", y=\"EffS_CtxD\", col=\"var\", kind=\"point\", aspect=2);\n",
    "plt.axhline(0)\n",
    "plt.axhline(1.5)\n",
    "\n",
    "sns.catplot(data=dfthis, x=\"bregion\", y=\"EffD_CtxD\", col=\"var\", kind=\"point\", aspect=2);\n",
    "plt.axhline(0)\n",
    "plt.axhline(1.5)\n",
    "\n"
   ],
   "metadata": {
    "collapsed": false
   },
   "id": "9c5351ea1872983b"
  },
  {
   "cell_type": "code",
   "execution_count": null,
   "outputs": [],
   "source": [
    "import seaborn as sns\n",
    "import matplotlib.pyplot as plt\n",
    "%matplotlib inline\n",
    "sns.catplot(data=DFRES_THEOR, x=\"bregion\", y=\"cc\", col=\"var\", kind=\"point\", aspect=2);\n",
    "plt.axhline()\n",
    "sns.catplot(data=DFRES_THEOR, x=\"bregion\", y=\"cc_same_context\", col=\"var\", kind=\"point\", aspect=2);\n",
    "plt.axhline()\n"
   ],
   "metadata": {
    "collapsed": false
   },
   "id": "31cd319abf6eb10a"
  },
  {
   "cell_type": "code",
   "execution_count": null,
   "outputs": [],
   "source": [
    "from neuralmonkey.analyses.rsa import rsagood_pa_vs_theor_plot_results\n",
    "SAVEDIR_MULT = \"/tmp\"\n",
    "rsagood_pa_vs_theor_plot_results(DFRES_THEOR, SAVEDIR_MULT, yvar=\"cc_same_context\")"
   ],
   "metadata": {
    "collapsed": false
   },
   "id": "2d76d72e4c7cb089"
  },
  {
   "cell_type": "code",
   "execution_count": null,
   "outputs": [],
   "source": [
    "DFRES_THEOR"
   ],
   "metadata": {
    "collapsed": false
   },
   "id": "3c1544682906338a"
  },
  {
   "cell_type": "code",
   "execution_count": null,
   "outputs": [],
   "source": [
    "from neuralmonkey.analyses.rsa import rsagood_pa_vs_theor_samecontextctrl\n",
    "savedir = \"/tmp\"\n",
    "rsagood_pa_vs_theor_samecontextctrl(DFRES_THEOR, savedir)\n"
   ],
   "metadata": {
    "collapsed": false
   },
   "id": "d4f8f2c0971bd2b9"
  },
  {
   "cell_type": "markdown",
   "source": [
    "##### [Good] rigorously testing whether activity generalizes"
   ],
   "metadata": {
    "collapsed": false
   },
   "id": "d1b794c74babe84a"
  },
  {
   "cell_type": "code",
   "execution_count": null,
   "outputs": [],
   "source": [
    "\n",
    "# Two metris, get:\n",
    "# - 1) rsa\n",
    "# -2) modulation strength within each level.\n",
    "\n",
    "# then do this multiple times after shuffling.\n",
    "# - each shuffle, keep the correlation ebtween variables the saem, at trial level, maintaining n for each level conjucntions.\n",
    "\n"
   ],
   "metadata": {
    "collapsed": false
   },
   "id": "fae0334986242e09"
  },
  {
   "cell_type": "code",
   "execution_count": null,
   "outputs": [],
   "source": [
    "from neuralmonkey.analyses.rsa import rsagood_pa_vs_theor_wrapper"
   ],
   "metadata": {
    "collapsed": false
   },
   "id": "e91653b8b767bffd"
  },
  {
   "cell_type": "code",
   "execution_count": null,
   "outputs": [],
   "source": [
    "subtract_mean_each_level_of_var = q_params[\"subtract_mean_each_level_of_var\"]\n",
    "version_distance = \"pearson\"\n",
    "\n",
    "# 1) Get RSA\n"
   ],
   "metadata": {
    "collapsed": false
   },
   "id": "afba36e489c8da10"
  },
  {
   "cell_type": "code",
   "execution_count": null,
   "outputs": [],
   "source": [
    "# HACK\n",
    "# q_params[\"subtract_mean_each_level_of_var\"] = \"gridsize\""
   ],
   "metadata": {
    "collapsed": false
   },
   "id": "d9ca345b464bc935"
  },
  {
   "cell_type": "code",
   "execution_count": null,
   "outputs": [],
   "source": [
    "### SHUFFLE PA"
   ],
   "metadata": {
    "collapsed": false
   },
   "id": "55ed14a1d72faf7f"
  },
  {
   "cell_type": "markdown",
   "source": [
    "##### Compute effect size of a given variable"
   ],
   "metadata": {
    "collapsed": false
   },
   "id": "8c68fa7c465f0d94"
  },
  {
   "cell_type": "code",
   "execution_count": null,
   "outputs": [],
   "source": [
    "from neuralmonkey.analyses.rsa import rsagood_pa_effectsize_plot_summary\n",
    "rsagood_pa_effectsize_plot_summary(DFRES_THEOR, DFRES_EFFECT_MARG, DFRES_EFFECT_CONJ,\n",
    "                                       Params)"
   ],
   "metadata": {
    "collapsed": false
   },
   "id": "94d25c8498f56eee"
  },
  {
   "cell_type": "markdown",
   "source": [
    "##### Upper and lower bounds on \"abstractness\" (including shuffle)"
   ],
   "metadata": {
    "collapsed": false
   },
   "id": "fb390dbaf6317cf0"
  },
  {
   "cell_type": "code",
   "execution_count": null,
   "outputs": [],
   "source": [
    "# DONE - its in the main pipeline"
   ],
   "metadata": {
    "collapsed": false
   },
   "id": "9157c8a331f8ec9"
  },
  {
   "cell_type": "code",
   "execution_count": null,
   "outputs": [],
   "source": [
    "a = dfallpa[\"bregion\"] == \"PMv_l\"\n",
    "b = dfallpa[\"twind\"] == (0.1, 0.3)\n",
    "pa = dfallpa[(a & b)][\"pa\"].values[0]\n"
   ],
   "metadata": {
    "collapsed": false
   },
   "id": "8274f6105d5d6116"
  },
  {
   "cell_type": "code",
   "execution_count": null,
   "outputs": [],
   "source": [
    "\n",
    "# Upper bound: At trial level, for each level of var, shuffle the label for othervar (i.e., hypothesis: it doesnt matter what is othervar)\n",
    "# Lower bound: At trial level, for each level of othervar, shuffle the label for var, but making sure all that were var level A are now var level B, etc. (i.e., hyp: Completely differnet enocidng of var for each level of othervar.) \n",
    "# \n",
    "# Either:\n",
    "# 1. Permutation test (of above)\n",
    "# 2. Bootstrap ()bn\n",
    "\n"
   ],
   "metadata": {
    "collapsed": false
   },
   "id": "2168ecc32cf25322"
  },
  {
   "cell_type": "code",
   "execution_count": null,
   "outputs": [],
   "source": [
    "# Lower bound\n",
    "# - no need to shuffle. just use (diff lev, diff lev)"
   ],
   "metadata": {
    "collapsed": false
   },
   "id": "383b904352b57823"
  },
  {
   "cell_type": "code",
   "execution_count": null,
   "outputs": [],
   "source": [
    "subtract_mean_each_level_of_var"
   ],
   "metadata": {
    "collapsed": false
   },
   "id": "d9fb215495507832"
  },
  {
   "cell_type": "code",
   "execution_count": null,
   "outputs": [],
   "source": [
    "from neuralmonkey.analyses.rsa import rsagood_pa_samediff_single\n",
    "version_distance = \"angle\"\n",
    "rsagood_pa_samediff_single(pa, q_params[\"effect_vars\"], subtract_mean_each_level_of_var, DO_AGG_TRIALS=True, version_distance=version_distance, PLOT_MASKS=True)\n",
    "# rsagood_pa_samediff_single(pa_shuff, effect_vars, subtract_mean_each_level_of_var, DO_AGG_TRIALS=True, PLOT_MASKS=False)"
   ],
   "metadata": {
    "collapsed": false
   },
   "id": "404f64907033a8df"
  },
  {
   "cell_type": "markdown",
   "source": [
    "##### RUNING entire (upper and lower bounds)"
   ],
   "metadata": {
    "collapsed": false
   },
   "id": "fdb6bb0d628b9a4a"
  },
  {
   "cell_type": "code",
   "execution_count": null,
   "outputs": [],
   "source": [
    "q_params[\"subtract_mean_each_level_of_var\"] = None\n"
   ],
   "metadata": {
    "collapsed": false
   },
   "id": "bbf9c12d6df535f"
  },
  {
   "cell_type": "code",
   "execution_count": null,
   "outputs": [],
   "source": [
    "from neuralmonkey.analyses.rsa import rsagood_score_vs_shuff_wrapper\n",
    "version_distance = \"euclidian\"\n",
    "savedir = \"/tmp\"\n",
    "rsagood_score_vs_shuff_wrapper(dfallpa, animal, DATE, question, q_params,\n",
    "                          version_distance, savedir)"
   ],
   "metadata": {
    "collapsed": false
   },
   "id": "dbb894d41cb9ec0b"
  },
  {
   "cell_type": "markdown",
   "source": [
    "# OLDER STUFF BELOW"
   ],
   "metadata": {
    "collapsed": false
   },
   "id": "9e09869ede06be86"
  },
  {
   "cell_type": "markdown",
   "source": [
    "## [GOOD] SCORING RSA. (Computing dist matrix and scoring against theor matrices)"
   ],
   "metadata": {
    "collapsed": false
   },
   "id": "bc57bafd1a9a1b2d"
  },
  {
   "cell_type": "markdown",
   "source": [
    "##### Method 1 - Do separately for each (wl, event, br, twind). "
   ],
   "metadata": {
    "collapsed": false
   },
   "id": "e5e01abfd2eb8a61"
  },
  {
   "cell_type": "code",
   "execution_count": null,
   "outputs": [],
   "source": [
    "if False:\n",
    "    ### PIG\n",
    "    list_animal_date = [\n",
    "            (\"Pancho\", \"230623\"),\n",
    "            (\"Pancho\", \"230626\"),\n",
    "            (\"Diego\", \"230628\"),\n",
    "            (\"Diego\", \"230630\"),\n",
    "            ]\n",
    "    list_which_level = [\"stroke\", \"stroke_off\"]\n",
    "    # which_level = \"stroke\"\n",
    "    version_distance = \"pearson\"\n",
    "    SKIP_ANALY_PLOTTING = False # if True, just collect data...\n",
    "    DO_AGG_TRIALS = False # if False, then datapts are individual trials (else aggs)\n",
    "elif False:\n",
    "    ### CHAR\n",
    "    # This is very hacky. Currently extracting DS by hand above, and then bypassing its extradction\n",
    "    # belopw. SHould incorporate this input a method of DS...\n",
    "    assert animal==\"Pancho\"\n",
    "    assert DATE == 230126\n",
    "    list_animal_date = [\n",
    "            (animal, DATE),\n",
    "            ]\n",
    "    list_which_level = [\"stroke\", \"stroke_off\"]\n",
    "    version_distance = \"pearson\"\n",
    "    SKIP_ANALY_PLOTTING = False # if True, just collect data...\n",
    "    DO_AGG_TRIALS = True # if False, then datapts are individual trials (else aggs)\n",
    "else:\n",
    "    ### SINGLKE PRIMS (trial)\n",
    "    list_animal_date = [\n",
    "            (animal, DATE),\n",
    "            ]\n",
    "    list_which_level = [\"trial\"]\n",
    "    version_distance = \"pearson\"\n",
    "    SKIP_ANALY_PLOTTING = False # if True, just collect data...\n",
    "    DO_AGG_TRIALS = True # if False, then datapts are individual trials (else aggs)\n"
   ],
   "metadata": {
    "collapsed": false
   },
   "id": "4a8f277b6f5d4391"
  },
  {
   "cell_type": "code",
   "execution_count": null,
   "outputs": [],
   "source": [
    "animal = \"Diego\"\n",
    "date = 230619\n"
   ],
   "metadata": {
    "collapsed": false
   },
   "id": "7890df0981838013"
  },
  {
   "cell_type": "code",
   "execution_count": null,
   "outputs": [],
   "source": [
    "from neuralmonkey.analyses.rsa import rsagood_questions_params, rsagood_questions_dict\n",
    "DictParamsEachQuestion = rsagood_questions_dict(animal, date)\n"
   ],
   "metadata": {
    "collapsed": false
   },
   "id": "401b96930a457762"
  },
  {
   "cell_type": "code",
   "execution_count": null,
   "outputs": [],
   "source": [
    "from neuralmonkey.analyses.rsa import rsagood_pa_vs_theor_wrapper\n",
    "\n",
    "version_distance = \"pearson\"\n",
    "subtract_mean_each_level_of_var = None\n",
    "PLOT_INDIV = False\n",
    "DO_AGG_TRIALS = True\n",
    "DFRES_THEOR = rsagood_pa_vs_theor_wrapper(DFallpa, animal, date,\n",
    "                                          DictParamsEachQuestion,\n",
    "                                          version_distance,\n",
    "                                          subtract_mean_each_level_of_var,\n",
    "                                          PLOT_INDIV,\n",
    "                                          DO_AGG_TRIALS)\n",
    "#     Cltheor = DFRES_THEOR.iloc[i][\"Clsim_theor\"]\n",
    "#     if var not in DictVarToCltheor.keys():\n",
    "#         DictVarToCltheor[var] = Cltheor"
   ],
   "metadata": {
    "collapsed": false
   },
   "id": "44fe9bfec499a212"
  },
  {
   "cell_type": "markdown",
   "source": [
    "##### Method 2 - Group across (wl, event, twind) in user-specific ways (e.g., compare post-stim vs. pre-stroke)"
   ],
   "metadata": {
    "collapsed": false
   },
   "id": "60ceede5d3a98424"
  },
  {
   "cell_type": "code",
   "execution_count": null,
   "outputs": [],
   "source": [
    "DFallpa"
   ],
   "metadata": {
    "collapsed": false
   },
   "id": "239d8f55d6dbdaf7"
  },
  {
   "cell_type": "code",
   "execution_count": null,
   "outputs": [],
   "source": [
    "from neuralmonkey.classes.population_mult import dfpa_group_and_split, dfpa_slice_specific_windows\n",
    "\n",
    "# Compare post-stim to pre-stroke.\n",
    "list_pa_get = [\n",
    "    (\"stroke\", \"00_stroke\", (-0.6, -0.5)),\n",
    "    (\"stroke\", \"00_stroke\", (0.4, 0.6))\n",
    "]\n",
    "\n",
    "# 1) slice\n",
    "DFallpa_THIS = dfpa_slice_specific_windows(DFallpa, list_pa_get)\n",
    "\n",
    "# 2) agg (one pa per bregion)\n",
    "DFallpa_THIS = dfpa_group_and_split(DFallpa, vars_to_split=[\"bregion\"])\n"
   ],
   "metadata": {
    "collapsed": false
   },
   "id": "21905f06d1ed471e"
  },
  {
   "cell_type": "markdown",
   "source": [
    "##### [DEVO] Load pre-saved distance matrix"
   ],
   "metadata": {
    "collapsed": false
   },
   "id": "2853fd718d4a4f87"
  },
  {
   "cell_type": "code",
   "execution_count": null,
   "outputs": [],
   "source": [
    "\n",
    "from neuralmonkey.analyses.rsa import behavior_load_pairwise_strokes_distmat\n",
    "distmat = behavior_load_pairwise_strokes_distmat(animal, DATE, PA, distance_ver)\n"
   ],
   "metadata": {
    "collapsed": false
   },
   "id": "87080c56c8d7d8aa"
  },
  {
   "cell_type": "code",
   "execution_count": null,
   "outputs": [],
   "source": [
    "from neuralmonkey.analyses.rsa import _preprocess_check_which_vars_categorical\n",
    "_preprocess_check_which_vars_categorical(PA, EFFECT_VARS)"
   ],
   "metadata": {
    "collapsed": false
   },
   "id": "a6c509ac5be5345e"
  },
  {
   "cell_type": "code",
   "execution_count": null,
   "outputs": [],
   "source": [
    "type()"
   ],
   "metadata": {
    "collapsed": false
   },
   "id": "f0410bb544f64dac"
  },
  {
   "cell_type": "code",
   "execution_count": null,
   "outputs": [],
   "source": [
    "EFFECT_VARS =  q_params[\"effect_vars\"]\n",
    "\n"
   ],
   "metadata": {
    "collapsed": false
   },
   "id": "c3eb1d04b3cfd4e9"
  },
  {
   "cell_type": "code",
   "execution_count": null,
   "outputs": [],
   "source": [
    "# for t in list_types:\n",
    "import pythonlib\n",
    "isinstance(t, StrokeClass)\n",
    "    "
   ],
   "metadata": {
    "collapsed": false
   },
   "id": "2b3e6fce702f6392"
  },
  {
   "cell_type": "code",
   "execution_count": null,
   "outputs": [],
   "source": [],
   "metadata": {
    "collapsed": false
   },
   "id": "ffd4b6b994a1e673"
  },
  {
   "cell_type": "code",
   "execution_count": null,
   "outputs": [],
   "source": [],
   "metadata": {
    "collapsed": false
   },
   "id": "403830ca1524233b"
  },
  {
   "cell_type": "code",
   "execution_count": null,
   "outputs": [],
   "source": [
    "# exclude vars that are continuos\n",
    "_preprocess_pa_check_how_much_data(PA, q_params[\"effect_vars\"])"
   ],
   "metadata": {
    "collapsed": false
   },
   "id": "ab5eceb8506a9de9"
  },
  {
   "cell_type": "code",
   "execution_count": null,
   "outputs": [],
   "source": [
    "PA, res_check_tasksets, res_check_effectvars = preprocess_rsa_prepare_popanal_wrapper(PA, **q_params)\n",
    "\n",
    "res_check_effectvars[EFFECT_VARS[3]]"
   ],
   "metadata": {
    "collapsed": false
   },
   "id": "4f48938a11500342"
  },
  {
   "cell_type": "code",
   "execution_count": null,
   "outputs": [],
   "source": [
    "DFRES_SAMEDIFF, DFRES_THEOR, DictBregionTwindPA_THIS, \\\n",
    "    DictBregionTwindClraw, DictBregionTwindClsim, savedir = _pipeline_rsa_score_pa_all(DictBregionTwindPA_THIS, q_params[\"effect_vars\"], savedir, version_distance,\n",
    "                       subtract_mean_each_level_of_var, PLOT_INDIV=False, DO_AGG_TRIALS=DO_AGG_TRIALS)\n"
   ],
   "metadata": {
    "collapsed": false
   },
   "id": "8173075a89c134c2"
  },
  {
   "cell_type": "code",
   "execution_count": null,
   "outputs": [],
   "source": [
    "SKIP_ANALY_PLOTTING"
   ],
   "metadata": {
    "collapsed": false
   },
   "id": "a7a50446de4b550a"
  },
  {
   "cell_type": "markdown",
   "source": [
    "##### [OBSOLETE]"
   ],
   "metadata": {
    "collapsed": false
   },
   "id": "7ee9f72225b6a25f"
  },
  {
   "cell_type": "code",
   "execution_count": null,
   "outputs": [],
   "source": [
    "\n",
    "\n",
    "# event = \"03_samp\"\n",
    "event = \"06_on_strokeidx_0\"\n",
    "distmat_distance_ver = None\n",
    "\n",
    "for animal, DATE in list_animal_date:\n",
    "    for which_level in list_which_level:    \n",
    "        DictBregionTwindPA, EFFECT_VARS, list_twind, list_bregion = load_single_data_wrapper(animal, DATE, which_level, version_distance, event=event)\n",
    "        \n",
    "        # Save NOT in mult\n",
    "        if DO_AGG_TRIALS:\n",
    "            SAVEDIR = f\"/gorilla1/analyses/recordings/main/RSA/{animal}/SPLIT_BY_QUESTIONS/{DATE}\"\n",
    "        else:            \n",
    "            SAVEDIR = f\"/gorilla1/analyses/recordings/main/RSA_trial_datapt/{animal}/SPLIT_BY_QUESTIONS/{DATE}\"\n",
    "        print(SAVEDIR)\n",
    "        os.makedirs(SAVEDIR, exist_ok=True)\n",
    "                \n",
    "        ## CHeck each question --> if there's enough data..\n",
    "        # Get a PA for testing\n",
    "        PA = list(DictBregionTwindPA.values())[0]\n",
    "        \n",
    "        for q, q_params in DictParamsEachQuestion.items():\n",
    "            print(\"=========== QUESTION: \", q)\n",
    "            # Prune PA based on this question\n",
    "            PAout, res_check_tasksets, res_check_effectvars = preprocess_rsa_prepare_popanal_wrapper(PA, **q_params)\n",
    "    \n",
    "            if PAout is None:\n",
    "                # Summarize variables\n",
    "                for k, v in res_check_tasksets.items():\n",
    "                    print(k)\n",
    "                    display(v)\n",
    "                for var, v in res_check_effectvars.items():\n",
    "                    print(var)\n",
    "                    display(v)\n",
    "                assert False, \"Not enough data for this question!! Reduce the num variables.\"\n",
    "            else:\n",
    "                print(\"This question good!\", q)\n",
    "            \n",
    "            for var, dfcheck in res_check_tasksets.items():\n",
    "                print(\"---------------\")\n",
    "                print(\"var:\", var)\n",
    "                print(\"levels:\", dfcheck[\"lev\"].tolist())\n",
    "            \n",
    "        \n",
    "                # Save the checks\n",
    "                path = f\"{SAVEDIR}/data_check_pruned-{q}-{var}.csv\"\n",
    "                dfcheck.to_csv(path)\n",
    "            \n",
    "            # save the params\n",
    "            from pythonlib.tools.expttools import writeDictToYaml\n",
    "            path = f\"{SAVEDIR}/question_params-{q}.yaml\" \n",
    "            writeDictToYaml(q_params, path)\n",
    "            \n",
    "        \n",
    "        ##### RUN ANALYSIS FOR EVERY TASK SET\n",
    "        import os\n",
    "        \n",
    "        subtract_mean_each_level_of_var = None\n",
    "        for q, q_params in DictParamsEachQuestion.items():\n",
    "            \n",
    "            savedir = f\"{SAVEDIR}/{which_level}/{version_distance}/{q}\"\n",
    "            os.makedirs(savedir, exist_ok=True)\n",
    "            print(savedir)\n",
    "        \n",
    "            ## COLLECT ALL DATA INTO A NEW DICT. \n",
    "            DictBregionTwindPA_THIS = {}\n",
    "            for (bregion, twind), PA in DictBregionTwindPA.items():\n",
    "                print(bregion, twind)\n",
    "                \n",
    "                # Prune PA based on this question\n",
    "                PA, res_check_tasksets, res_check_effectvars = preprocess_rsa_prepare_popanal_wrapper(PA, **q_params)\n",
    "                \n",
    "                # Run computations on PA\n",
    "                DictBregionTwindPA_THIS[(bregion, twind)] = PA\n",
    "                \n",
    "            ## RUN ANALYSIS\n",
    "            if SKIP_ANALY_PLOTTING:\n",
    "                DFRES_SAMEDIFF, DFRES_THEOR, DictBregionTwindClraw, DictBregionTwindClsim, DictVarToClsimtheor = None, None, None, None, None\n",
    "            else:\n",
    "                DFRES_SAMEDIFF, DFRES_THEOR, DictBregionTwindPA_THIS, \\\n",
    "                    DictBregionTwindClraw, DictBregionTwindClsim, DictVarToClsimtheor, savedir = _pipeline_rsa_score_pa_all(DictBregionTwindPA_THIS, q_params[\"effect_vars\"], savedir, version_distance,\n",
    "                                       subtract_mean_each_level_of_var, PLOT_INDIV=False, DO_AGG_TRIALS=DO_AGG_TRIALS, distmat_animal=animal, distmat_date = DATE, distmat_distance_ver=distmat_distance_ver)\n",
    "            \n",
    "            resthis = {\n",
    "                \"DO_AGG_TRIALS\":DO_AGG_TRIALS,\n",
    "                \"version_distance\":version_distance,\n",
    "                \"which_level\":which_level,\n",
    "                \"DFRES_SAMEDIFF\":DFRES_SAMEDIFF, \n",
    "                \"DFRES_THEOR\":DFRES_THEOR, \n",
    "                \"DictVarToClsimtheor\":DictVarToClsimtheor,\n",
    "                \"DictBregionTwindPA\":DictBregionTwindPA_THIS, \n",
    "                # \"DictBregionTwindClraw\":DictBregionTwindClraw, # save space, no needed\n",
    "                # \"DictBregionTwindClsim\":DictBregionTwindClsim,\n",
    "                \"EFFECT_VARS\":q_params[\"effect_vars\"],\n",
    "                \"list_time_windows\":list_twind,\n",
    "                \"SAVEDIR\":savedir,\n",
    "                \"subtract_mean_each_level_of_var\":subtract_mean_each_level_of_var,\n",
    "                \"QUESTION_PARAMS\":q_params\n",
    "            }\n",
    "            \n",
    "            # Save results temporarily\n",
    "            # Around 800 MB\n",
    "            import pickle\n",
    "            path = f\"{savedir}/resthis.pkl\"\n",
    "            with open(path, \"wb\") as f:\n",
    "                pickle.dump(resthis, f)\n",
    "                print(\"saved to: \", path)\n",
    "    \n",
    "        "
   ],
   "metadata": {
    "collapsed": false
   },
   "id": "cfeea56c7166d6e3"
  }
 ],
 "metadata": {
  "kernelspec": {
   "display_name": "Python 3",
   "language": "python",
   "name": "python3"
  },
  "language_info": {
   "codemirror_mode": {
    "name": "ipython",
    "version": 2
   },
   "file_extension": ".py",
   "mimetype": "text/x-python",
   "name": "python",
   "nbconvert_exporter": "python",
   "pygments_lexer": "ipython2",
   "version": "2.7.6"
  }
 },
 "nbformat": 4,
 "nbformat_minor": 5
}
