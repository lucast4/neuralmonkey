{
 "cells": [
  {
   "cell_type": "code",
   "execution_count": null,
   "id": "6d084eb6",
   "metadata": {},
   "outputs": [],
   "source": [
    "\"\"\"Quick look at activity relation to task.\n",
    "Related to the generic preprocess plots in preprocess_plots.py\n",
    "\"\"\""
   ]
  },
  {
   "cell_type": "code",
   "execution_count": null,
   "id": "d746b568",
   "metadata": {},
   "outputs": [],
   "source": [
    "from neuralmonkey.classes.session import Session\n",
    "import matplotlib.pyplot as plt\n",
    "from neuralmonkey.scripts.load_and_save_locally import load_and_preprocess_single_session\n",
    "import neuralmonkey.utils.monkeylogic as mkl\n",
    "from neuralmonkey.classes.session import load_session_helper, load_mult_session_helper\n",
    "import os\n",
    "import numpy as np\n",
    "import matplotlib.pyplot as plt"
   ]
  },
  {
   "cell_type": "code",
   "execution_count": null,
   "id": "6dfb0cae",
   "metadata": {},
   "outputs": [],
   "source": [
    "DATE = 220731\n",
    "animal = \"Pancho\""
   ]
  },
  {
   "cell_type": "code",
   "execution_count": null,
   "id": "8c2711e9",
   "metadata": {
    "scrolled": false
   },
   "outputs": [],
   "source": [
    "# MS = load_mult_session_helper(DATE, animal, MINIMAL_LOADING=False)   \n",
    "MS = load_mult_session_helper(DATE, animal, MINIMAL_LOADING=True)   \n"
   ]
  },
  {
   "cell_type": "code",
   "execution_count": null,
   "id": "46a947c4",
   "metadata": {},
   "outputs": [],
   "source": [
    "sn = MS.SessionsList[0]"
   ]
  },
  {
   "cell_type": "code",
   "execution_count": null,
   "id": "3a130eed",
   "metadata": {},
   "outputs": [],
   "source": [
    "sn.Datasetbeh.taskclass_shapes_loc_configuration_assign_column()"
   ]
  },
  {
   "cell_type": "markdown",
   "id": "71e45921",
   "metadata": {},
   "source": [
    "##### Plot rasters"
   ]
  },
  {
   "cell_type": "code",
   "execution_count": null,
   "id": "b42e8b82",
   "metadata": {},
   "outputs": [],
   "source": [
    "sn.sitegetter_print_summary_nunits_by_region()"
   ]
  },
  {
   "cell_type": "code",
   "execution_count": null,
   "id": "06dd7532",
   "metadata": {},
   "outputs": [],
   "source": [
    "sn._sitegetter_generate_mapper_region_to_sites()[\"M1_l\"]"
   ]
  },
  {
   "cell_type": "code",
   "execution_count": null,
   "id": "9f676329",
   "metadata": {
    "scrolled": false
   },
   "outputs": [],
   "source": [
    "site = sn.sitegetter_map_region_to_sites(\"M1_m\")[10]\n",
    "sn.plotwrapper_raster_multrials_onesite(sn.get_trials_list(True)[:20], site, alignto=\"go\");"
   ]
  },
  {
   "cell_type": "code",
   "execution_count": null,
   "id": "71b561a1",
   "metadata": {
    "scrolled": false
   },
   "outputs": [],
   "source": [
    "trial = sn.get_trials_list(True)[100]\n",
    "# sites = sn.sitegetter_map_multregions_to_sites([\"M1\", \"PMv\", \"vlPFC\", \"FP\"])\n",
    "sites = sn.sitegetter_all(clean=True)\n",
    "sn.plotwrapper_raster_oneetrial_multsites(trial, sites);"
   ]
  }
 ],
 "metadata": {
  "kernelspec": {
   "display_name": "Python 3 (ipykernel)",
   "language": "python",
   "name": "python3"
  },
  "language_info": {
   "codemirror_mode": {
    "name": "ipython",
    "version": 3
   },
   "file_extension": ".py",
   "mimetype": "text/x-python",
   "name": "python",
   "nbconvert_exporter": "python",
   "pygments_lexer": "ipython3",
   "version": "3.8.13"
  }
 },
 "nbformat": 4,
 "nbformat_minor": 5
}
