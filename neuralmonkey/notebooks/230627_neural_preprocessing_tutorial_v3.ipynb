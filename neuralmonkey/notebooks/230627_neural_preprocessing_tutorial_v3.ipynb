{
 "cells": [
  {
   "cell_type": "code",
   "execution_count": null,
   "metadata": {},
   "outputs": [],
   "source": [
    "\"\"\"\n",
    "Focusing on things that were not done in v1.\n",
    "\n",
    "\"\"\"\n"
   ]
  },
  {
   "cell_type": "code",
   "execution_count": 5,
   "metadata": {},
   "outputs": [
    {
     "name": "stdout",
     "output_type": "stream",
     "text": [
      "The autoreload extension is already loaded. To reload it, use:\n",
      "  %reload_ext autoreload\n"
     ]
    }
   ],
   "source": [
    "%load_ext autoreload\n",
    "%autoreload 2\n",
    "\n",
    "from neuralmonkey.classes.session import load_mult_session_helper\n",
    "import matplotlib\n",
    "import matplotlib.pyplot as plt\n",
    "import numpy as np\n",
    "\n",
    "#%matplotlib inline"
   ]
  },
  {
   "cell_type": "code",
   "execution_count": 12,
   "metadata": {},
   "outputs": [
    {
     "name": "stdout",
     "output_type": "stream",
     "text": [
      "Searching using this string:\n",
      "/mnt/Freiwald/ltian/recordings/*Pancho*/*221020*/**\n",
      "Found this many paths:\n",
      "2\n",
      "---\n",
      "/mnt/Freiwald/ltian/recordings/Pancho/221020/Pancho-221020-133436\n",
      "---\n",
      "/mnt/Freiwald/ltian/recordings/Pancho/221020/Pancho-221020-161238\n",
      "session:  0\n",
      "------------------------------\n",
      "Loading this neural session: 0\n",
      "Loading these beh expts: None\n",
      "Loading these beh sessions: None\n",
      "Using this beh_trial_map_list: None\n",
      "Searching using this string:\n",
      "/gorilla1/neural_preprocess/recordings/*Pancho*/*221020*/**\n",
      "Found this many paths:\n",
      "2\n",
      "---\n",
      "/gorilla1/neural_preprocess/recordings/Pancho/221020/Pancho-221020-133436\n",
      "---\n",
      "/gorilla1/neural_preprocess/recordings/Pancho/221020/Pancho-221020-161238\n",
      "{'filename_components_hyphened': ['Pancho', '221020', '133436'], 'basedirs': ['/gorilla1/neural_preprocess/recordings/Pancho', '/gorilla1/neural_preprocess/recordings/Pancho/221020'], 'basedirs_filenames': ['221020', 'Pancho-221020-133436'], 'filename_final_ext': 'Pancho-221020-133436', 'filename_final_noext': 'Pancho-221020-133436'}\n",
      "raws --- /mnt/hopfield_data01/ltian/recordings/Pancho/221020/Pancho-221020-133436\n",
      "tank --- /mnt/hopfield_data01/ltian/recordings/Pancho/221020/Pancho-221020-133436/Pancho-221020-133436\n",
      "spikes --- /mnt/hopfield_data01/ltian/recordings/Pancho/221020/Pancho-221020-133436/spikes_tdt_quick-4.5\n",
      "final_dir_name --- Pancho-221020-133436\n",
      "time --- 133436\n",
      "pathbase_local --- /gorilla1/neural_preprocess/recordings/Pancho/221020/Pancho-221020-133436\n",
      "tank_local --- /gorilla1/neural_preprocess/recordings/Pancho/221020/Pancho-221020-133436/data_tank.pkl\n",
      "spikes_local --- /gorilla1/neural_preprocess/recordings/Pancho/221020/Pancho-221020-133436/data_spikes.pkl\n",
      "datall_local --- /gorilla1/neural_preprocess/recordings/Pancho/221020/Pancho-221020-133436/data_datall.pkl\n",
      "events_local --- /gorilla1/neural_preprocess/recordings/Pancho/221020/Pancho-221020-133436/events_photodiode.pkl\n",
      "mapper_st2dat_local --- /gorilla1/neural_preprocess/recordings/Pancho/221020/Pancho-221020-133436/mapper_st2dat.pkl\n",
      "figs_local --- /gorilla1/neural_preprocess/recordings/Pancho/221020/Pancho-221020-133436/figs\n",
      "metadata_units --- /home/lucast4/code/neuralmonkey/neuralmonkey/metadat/units\n",
      "cached_dir --- /gorilla1/neural_preprocess/recordings/Pancho/221020/Pancho-221020-133436/cached\n",
      "LOCAL LOADING - updated self.Paths:\n",
      "final_dir_name  ====  Pancho-221020-133436\n",
      "time  ====  133436\n",
      "pathbase_local  ====  /gorilla1/neural_preprocess/recordings/Pancho/221020/Pancho-221020-133436\n",
      "tank_local  ====  /gorilla1/neural_preprocess/recordings/Pancho/221020/Pancho-221020-133436/data_tank.pkl\n",
      "spikes_local  ====  /gorilla1/neural_preprocess/recordings/Pancho/221020/Pancho-221020-133436/data_spikes.pkl\n",
      "datall_local  ====  /gorilla1/neural_preprocess/recordings/Pancho/221020/Pancho-221020-133436/data_datall.pkl\n",
      "events_local  ====  /gorilla1/neural_preprocess/recordings/Pancho/221020/Pancho-221020-133436/events_photodiode.pkl\n",
      "mapper_st2dat_local  ====  /gorilla1/neural_preprocess/recordings/Pancho/221020/Pancho-221020-133436/mapper_st2dat.pkl\n",
      "figs_local  ====  /gorilla1/neural_preprocess/recordings/Pancho/221020/Pancho-221020-133436/figs\n",
      "metadata_units  ====  /home/lucast4/code/neuralmonkey/neuralmonkey/metadat/units\n",
      "cached_dir  ====  /gorilla1/neural_preprocess/recordings/Pancho/221020/Pancho-221020-133436/cached\n",
      "== PATHS for this expt: \n",
      "raws  --  /mnt/hopfield_data01/ltian/recordings/Pancho/221020/Pancho-221020-133436\n",
      "tank  --  /mnt/hopfield_data01/ltian/recordings/Pancho/221020/Pancho-221020-133436/Pancho-221020-133436\n",
      "spikes  --  /mnt/hopfield_data01/ltian/recordings/Pancho/221020/Pancho-221020-133436/spikes_tdt_quick-4.5\n",
      "final_dir_name  --  Pancho-221020-133436\n",
      "time  --  133436\n",
      "pathbase_local  --  /gorilla1/neural_preprocess/recordings/Pancho/221020/Pancho-221020-133436\n",
      "tank_local  --  /gorilla1/neural_preprocess/recordings/Pancho/221020/Pancho-221020-133436/data_tank.pkl\n",
      "spikes_local  --  /gorilla1/neural_preprocess/recordings/Pancho/221020/Pancho-221020-133436/data_spikes.pkl\n",
      "datall_local  --  /gorilla1/neural_preprocess/recordings/Pancho/221020/Pancho-221020-133436/data_datall.pkl\n",
      "events_local  --  /gorilla1/neural_preprocess/recordings/Pancho/221020/Pancho-221020-133436/events_photodiode.pkl\n",
      "mapper_st2dat_local  --  /gorilla1/neural_preprocess/recordings/Pancho/221020/Pancho-221020-133436/mapper_st2dat.pkl\n",
      "figs_local  --  /gorilla1/neural_preprocess/recordings/Pancho/221020/Pancho-221020-133436/figs\n",
      "metadata_units  --  /home/lucast4/code/neuralmonkey/neuralmonkey/metadat/units\n",
      "cached_dir  --  /gorilla1/neural_preprocess/recordings/Pancho/221020/Pancho-221020-133436/cached\n",
      "Found! metada path :  /home/lucast4/code/neuralmonkey/neuralmonkey/metadat/units/221020.yaml\n",
      "Starting lengths:\n",
      "185\n",
      "211\n",
      "Union length\n",
      "220\n",
      "updating self.SitesDirty with:  ('sites_garbage', 'sites_error_spikes')\n",
      "[_sitesdirty_update] skipping! since did not find:  sites_error_spikes\n",
      "== Loading TDT tank\n",
      "** Loading tank data from local (previusly cached)\n",
      "== Done\n",
      "== Trying to load events data\n",
      "Loading this events (pd) locally to:  /gorilla1/neural_preprocess/recordings/Pancho/221020/Pancho-221020-133436/events_photodiode.pkl\n",
      "== Done\n",
      "** MINIMAL_LOADING, therefore loading previuosly cached data\n",
      "Generated self._MapperTrialcode2TrialToTrial!\n",
      "Extracted into self.Dat[epoch_orig]\n",
      "=== CLEANING UP self.Dat (_cleanup_reloading_saved_state) ===== \n",
      "0 _behclass_alignsim_compute\n",
      "200 _behclass_alignsim_compute\n",
      "400 _behclass_alignsim_compute\n",
      "Running D._behclass_tokens_extract_datsegs\n",
      "0 _behclass_tokens_extract_datsegs\n",
      "200 _behclass_tokens_extract_datsegs\n",
      "400 _behclass_tokens_extract_datsegs\n",
      "stored in self.Dat[BehClass]\n",
      "Extracted successfully for session:  0\n",
      "session:  1\n",
      "------------------------------\n",
      "Loading this neural session: 1\n",
      "Loading these beh expts: None\n",
      "Loading these beh sessions: None\n",
      "Using this beh_trial_map_list: None\n",
      "Searching using this string:\n",
      "/gorilla1/neural_preprocess/recordings/*Pancho*/*221020*/**\n",
      "Found this many paths:\n",
      "2\n",
      "---\n",
      "/gorilla1/neural_preprocess/recordings/Pancho/221020/Pancho-221020-133436\n",
      "---\n",
      "/gorilla1/neural_preprocess/recordings/Pancho/221020/Pancho-221020-161238\n",
      "{'filename_components_hyphened': ['Pancho', '221020', '161238'], 'basedirs': ['/gorilla1/neural_preprocess/recordings/Pancho', '/gorilla1/neural_preprocess/recordings/Pancho/221020'], 'basedirs_filenames': ['221020', 'Pancho-221020-161238'], 'filename_final_ext': 'Pancho-221020-161238', 'filename_final_noext': 'Pancho-221020-161238'}\n",
      "raws --- /mnt/hopfield_data01/ltian/recordings/Pancho/221020/Pancho-221020-161238\n",
      "tank --- /mnt/hopfield_data01/ltian/recordings/Pancho/221020/Pancho-221020-161238/Pancho-221020-161238\n",
      "spikes --- /mnt/hopfield_data01/ltian/recordings/Pancho/221020/Pancho-221020-161238/spikes_tdt_quick-4.5\n",
      "final_dir_name --- Pancho-221020-161238\n",
      "time --- 161238\n",
      "pathbase_local --- /gorilla1/neural_preprocess/recordings/Pancho/221020/Pancho-221020-161238\n",
      "tank_local --- /gorilla1/neural_preprocess/recordings/Pancho/221020/Pancho-221020-161238/data_tank.pkl\n",
      "spikes_local --- /gorilla1/neural_preprocess/recordings/Pancho/221020/Pancho-221020-161238/data_spikes.pkl\n",
      "datall_local --- /gorilla1/neural_preprocess/recordings/Pancho/221020/Pancho-221020-161238/data_datall.pkl\n",
      "events_local --- /gorilla1/neural_preprocess/recordings/Pancho/221020/Pancho-221020-161238/events_photodiode.pkl\n",
      "mapper_st2dat_local --- /gorilla1/neural_preprocess/recordings/Pancho/221020/Pancho-221020-161238/mapper_st2dat.pkl\n",
      "figs_local --- /gorilla1/neural_preprocess/recordings/Pancho/221020/Pancho-221020-161238/figs\n",
      "metadata_units --- /home/lucast4/code/neuralmonkey/neuralmonkey/metadat/units\n",
      "cached_dir --- /gorilla1/neural_preprocess/recordings/Pancho/221020/Pancho-221020-161238/cached\n",
      "LOCAL LOADING - updated self.Paths:\n",
      "final_dir_name  ====  Pancho-221020-161238\n",
      "time  ====  161238\n",
      "pathbase_local  ====  /gorilla1/neural_preprocess/recordings/Pancho/221020/Pancho-221020-161238\n",
      "tank_local  ====  /gorilla1/neural_preprocess/recordings/Pancho/221020/Pancho-221020-161238/data_tank.pkl\n",
      "spikes_local  ====  /gorilla1/neural_preprocess/recordings/Pancho/221020/Pancho-221020-161238/data_spikes.pkl\n",
      "datall_local  ====  /gorilla1/neural_preprocess/recordings/Pancho/221020/Pancho-221020-161238/data_datall.pkl\n",
      "events_local  ====  /gorilla1/neural_preprocess/recordings/Pancho/221020/Pancho-221020-161238/events_photodiode.pkl\n",
      "mapper_st2dat_local  ====  /gorilla1/neural_preprocess/recordings/Pancho/221020/Pancho-221020-161238/mapper_st2dat.pkl\n",
      "figs_local  ====  /gorilla1/neural_preprocess/recordings/Pancho/221020/Pancho-221020-161238/figs\n",
      "metadata_units  ====  /home/lucast4/code/neuralmonkey/neuralmonkey/metadat/units\n",
      "cached_dir  ====  /gorilla1/neural_preprocess/recordings/Pancho/221020/Pancho-221020-161238/cached\n",
      "== PATHS for this expt: \n",
      "raws  --  /mnt/hopfield_data01/ltian/recordings/Pancho/221020/Pancho-221020-161238\n",
      "tank  --  /mnt/hopfield_data01/ltian/recordings/Pancho/221020/Pancho-221020-161238/Pancho-221020-161238\n",
      "spikes  --  /mnt/hopfield_data01/ltian/recordings/Pancho/221020/Pancho-221020-161238/spikes_tdt_quick-4.5\n",
      "final_dir_name  --  Pancho-221020-161238\n",
      "time  --  161238\n",
      "pathbase_local  --  /gorilla1/neural_preprocess/recordings/Pancho/221020/Pancho-221020-161238\n",
      "tank_local  --  /gorilla1/neural_preprocess/recordings/Pancho/221020/Pancho-221020-161238/data_tank.pkl\n",
      "spikes_local  --  /gorilla1/neural_preprocess/recordings/Pancho/221020/Pancho-221020-161238/data_spikes.pkl\n",
      "datall_local  --  /gorilla1/neural_preprocess/recordings/Pancho/221020/Pancho-221020-161238/data_datall.pkl\n",
      "events_local  --  /gorilla1/neural_preprocess/recordings/Pancho/221020/Pancho-221020-161238/events_photodiode.pkl\n",
      "mapper_st2dat_local  --  /gorilla1/neural_preprocess/recordings/Pancho/221020/Pancho-221020-161238/mapper_st2dat.pkl\n",
      "figs_local  --  /gorilla1/neural_preprocess/recordings/Pancho/221020/Pancho-221020-161238/figs\n",
      "metadata_units  --  /home/lucast4/code/neuralmonkey/neuralmonkey/metadat/units\n",
      "cached_dir  --  /gorilla1/neural_preprocess/recordings/Pancho/221020/Pancho-221020-161238/cached\n",
      "Found! metada path :  /home/lucast4/code/neuralmonkey/neuralmonkey/metadat/units/221020.yaml\n",
      "Starting lengths:\n",
      "185\n",
      "211\n",
      "Union length\n",
      "220\n",
      "updating self.SitesDirty with:  ('sites_garbage', 'sites_error_spikes')\n",
      "[_sitesdirty_update] skipping! since did not find:  sites_error_spikes\n",
      "== Loading TDT tank\n"
     ]
    },
    {
     "name": "stdout",
     "output_type": "stream",
     "text": [
      "** Loading tank data from local (previusly cached)\n",
      "== Done\n",
      "== Trying to load events data\n",
      "Loading this events (pd) locally to:  /gorilla1/neural_preprocess/recordings/Pancho/221020/Pancho-221020-161238/events_photodiode.pkl\n",
      "== Done\n",
      "** MINIMAL_LOADING, therefore loading previuosly cached data\n",
      "Generated self._MapperTrialcode2TrialToTrial!\n",
      "Extracted into self.Dat[epoch_orig]\n",
      "=== CLEANING UP self.Dat (_cleanup_reloading_saved_state) ===== \n",
      "0 _behclass_alignsim_compute\n",
      "Running D._behclass_tokens_extract_datsegs\n",
      "0 _behclass_tokens_extract_datsegs\n",
      "stored in self.Dat[BehClass]\n",
      "Extracted successfully for session:  1\n",
      "Generated index mappers!\n"
     ]
    }
   ],
   "source": [
    "# load all sessions for Pancho on 221020\n",
    "MS = load_mult_session_helper(221020, 'Pancho')"
   ]
  },
  {
   "cell_type": "markdown",
   "metadata": {},
   "source": [
    "### Saving local cached data"
   ]
  },
  {
   "cell_type": "code",
   "execution_count": null,
   "metadata": {},
   "outputs": [],
   "source": [
    "\n",
    "sn = MS.SessionsList[0]\n",
    "sn._MapperTrialcode2TrialToTrial"
   ]
  },
  {
   "cell_type": "code",
   "execution_count": 11,
   "metadata": {},
   "outputs": [],
   "source": [
    "for sn in MS.SessionsList:\n",
    "    sn._savelocalcached_save(save_dataset_beh=False, save_datslices=False, ONLY_EXTRA_STUFF=True)"
   ]
  },
  {
   "cell_type": "markdown",
   "metadata": {},
   "source": [
    "### Snippets"
   ]
  },
  {
   "cell_type": "markdown",
   "metadata": {},
   "source": [
    "Collects data aligned to instances of a given event. Can then use the Snippets methods to do many things, plotting, analysis, etc."
   ]
  },
  {
   "cell_type": "code",
   "execution_count": null,
   "metadata": {},
   "outputs": [],
   "source": [
    "from neuralmonkey.classes.snippets import Snippets, extraction_helper\n"
   ]
  },
  {
   "cell_type": "code",
   "execution_count": null,
   "metadata": {},
   "outputs": [],
   "source": [
    "# Pick out a single session\n",
    "sn = MS.SessionsList[0]\n"
   ]
  },
  {
   "cell_type": "code",
   "execution_count": null,
   "metadata": {},
   "outputs": [],
   "source": [
    "# Turn on debug mode, this prunes sites and trials, so below runs faster\n",
    "DEBUG = True\n",
    "sn._DEBUG_PRUNE_SITES = DEBUG\n",
    "sn._DEBUG_PRUNE_TRIALS = DEBUG\n"
   ]
  },
  {
   "cell_type": "code",
   "execution_count": null,
   "metadata": {},
   "outputs": [],
   "source": [
    "# ****** FOR KEDAR: you would want to modify list_events to something like this:\n",
    "list_events = [\"saccon\", \"saccoff\"]\n"
   ]
  },
  {
   "cell_type": "code",
   "execution_count": null,
   "metadata": {},
   "outputs": [],
   "source": [
    "# Main code for extracting Snippets (SP)\n",
    "\n",
    "# == MODIFY THESE:\n",
    "list_events = [\"go\"]\n",
    "list_pre_dur = [-0.5]\n",
    "list_post_dur = [0.5]\n",
    "\n",
    "# == IGNORE THESE:\n",
    "which_level = \"flex\"\n",
    "list_features_extraction = []\n",
    "list_features_get_conjunction = []\n",
    "trials_prune_just_those_including_events=False\n",
    "\n",
    "SP = Snippets(sn,\n",
    "    which_level,\n",
    "    list_events,\n",
    "    list_features_extraction,\n",
    "    list_features_get_conjunction,\n",
    "    list_pre_dur,\n",
    "    list_post_dur,\n",
    "    strokes_only_keep_single=False,\n",
    "    tasks_only_keep_these=None,\n",
    "    prune_feature_levels_min_n_trials=None,\n",
    "    dataset_pruned_for_trial_analysis=None,\n",
    "    trials_prune_just_those_including_events=trials_prune_just_those_including_events,\n",
    "    fr_which_version='sqrt',\n",
    "    NEW_VERSION=True,\n",
    "    SKIP_DATA_EXTRACTION=False\n",
    "             )\n"
   ]
  },
  {
   "cell_type": "code",
   "execution_count": null,
   "metadata": {},
   "outputs": [],
   "source": [
    "# Inspect the data. \n",
    "# Each row represents a single combination of:\n",
    "# (trial, chan, event). To see that, inspect the output of \n",
    "\n",
    "display(SP.DfScalar)\n",
    "\n",
    "from pythonlib.tools.pandastools import grouping_print_n_samples\n",
    "grouping_print_n_samples(SP.DfScalar, [\"trialcode\", \"chan\", \"event_aligned\"])\n"
   ]
  },
  {
   "cell_type": "markdown",
   "metadata": {},
   "source": [
    "##### Plotting functions for Snippets"
   ]
  },
  {
   "cell_type": "code",
   "execution_count": null,
   "metadata": {},
   "outputs": [],
   "source": [
    "SP.plotgood_rasters(chan)"
   ]
  },
  {
   "cell_type": "code",
   "execution_count": null,
   "metadata": {},
   "outputs": [],
   "source": [
    "site =2\n",
    "event=None\n",
    "\n",
    "\n",
    "fig, axesall = plt.subplots(1,2)\n",
    "\n",
    "# 1) Plot the rasters ont he top row.\n",
    "# axes = axesall[0]\n",
    "ax = axesall.flatten()[0]\n",
    "SP.plotgood_rasters(site, event, ax)    \n",
    "\n",
    "# SP.plotgood_rasters(chan)"
   ]
  },
  {
   "cell_type": "raw",
   "metadata": {},
   "source": [
    "SP.plotgood_rasters_smfr_combined(chan)"
   ]
  },
  {
   "cell_type": "code",
   "execution_count": null,
   "metadata": {},
   "outputs": [],
   "source": []
  },
  {
   "cell_type": "markdown",
   "metadata": {},
   "source": [
    "### Computing modulation of activity by certain variables"
   ]
  },
  {
   "cell_type": "markdown",
   "metadata": {},
   "source": [
    "For each site, compute how strongly it is modulated by a specific variable, computed \n",
    "separatedly for each event."
   ]
  },
  {
   "cell_type": "code",
   "execution_count": null,
   "metadata": {},
   "outputs": [],
   "source": [
    "# First, append the variables that you wish to analyze\n",
    "SP.datasetbeh_append_column(\"epoch\", sn.Datasetbeh) # assign epoch to SP\n"
   ]
  },
  {
   "cell_type": "code",
   "execution_count": null,
   "metadata": {},
   "outputs": [],
   "source": [
    "if DEBUG:\n",
    "    # if you debug, then you have small n trials, so lower the threshold for keeping data.\n",
    "    print(SP.ParamsGlobals)\n",
    "    SP.globals_update(globals_nmin=2)\n"
   ]
  },
  {
   "cell_type": "code",
   "execution_count": null,
   "metadata": {
    "scrolled": true
   },
   "outputs": [],
   "source": [
    "# Run this to compute modulation\n",
    "DF_VAR, DF_FR, DF_FR_LEVELS, list_eventwindow_event = SP.modulationgood_compute_wrapper(\"epoch\", \n",
    "                                                                                        DEBUG_CONJUNCTIONS=False, \n",
    "                                                                                        THINGS_TO_EXTRACT=[\"anova\"])\n"
   ]
  },
  {
   "cell_type": "code",
   "execution_count": null,
   "metadata": {},
   "outputs": [],
   "source": [
    "# Plot results and save\n",
    "sdir_base = \"/tmp\"\n",
    "SP.modulationgood_plot_WRAPPER(DF_VAR, DF_FR, DF_FR_LEVELS, list_eventwindow_event, \n",
    "                               var=\"epoch\", vars_conjuction=[\"dummy_var\"],\n",
    "                               sdir_base=sdir_base, N_WAYS=1)"
   ]
  },
  {
   "cell_type": "markdown",
   "metadata": {},
   "source": [
    "### Modulation by time (relative to aligned events)"
   ]
  },
  {
   "cell_type": "markdown",
   "metadata": {},
   "source": [
    "For each site x event, compute a scalar value indiicating how much its actiivyt is modulated\n",
    "with respect to this event. This moudlation can be increase in fr, decrease, or any\n",
    "activity pattern that is consistent across trials."
   ]
  },
  {
   "cell_type": "code",
   "execution_count": null,
   "metadata": {},
   "outputs": [],
   "source": [
    "# Extract modulation, for each site x event"
   ]
  },
  {
   "cell_type": "code",
   "execution_count": null,
   "metadata": {},
   "outputs": [],
   "source": [
    "from neuralmonkey.analyses.event_temporal_modulation_v2 import preprocess_and_extract\n",
    "from neuralmonkey.analyses.event_temporal_modulation import plot_overview\n",
    "\n",
    "df_modtime = preprocess_and_extract(SP)\n"
   ]
  },
  {
   "cell_type": "code",
   "execution_count": null,
   "metadata": {},
   "outputs": [],
   "source": [
    "# Plot overview of modulation"
   ]
  },
  {
   "cell_type": "code",
   "execution_count": null,
   "metadata": {},
   "outputs": [],
   "source": [
    "from neuralmonkey.analyses.event_temporal_modulation_v2 import plot_overview\n",
    "SAVEDIR = \"/tmp\"\n",
    "##################### PLOTS\n",
    "plot_overview(df_modtime, SP, SAVEDIR)"
   ]
  }
 ],
 "metadata": {
  "kernelspec": {
   "display_name": "Python 3 (ipykernel)",
   "language": "python",
   "name": "python3"
  },
  "language_info": {
   "codemirror_mode": {
    "name": "ipython",
    "version": 3
   },
   "file_extension": ".py",
   "mimetype": "text/x-python",
   "name": "python",
   "nbconvert_exporter": "python",
   "pygments_lexer": "ipython3",
   "version": "3.8.13"
  }
 },
 "nbformat": 4,
 "nbformat_minor": 2
}
