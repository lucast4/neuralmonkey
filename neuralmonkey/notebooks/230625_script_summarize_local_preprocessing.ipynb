{
 "cells": [
  {
   "cell_type": "code",
   "execution_count": null,
   "id": "de2113a8",
   "metadata": {},
   "outputs": [],
   "source": [
    "\"\"\"\n",
    "Quickly tabulate what has been done locally\n",
    "\n",
    "\"\"\""
   ]
  },
  {
   "cell_type": "markdown",
   "id": "efe77f67",
   "metadata": {},
   "source": [
    "### Final code "
   ]
  },
  {
   "cell_type": "code",
   "execution_count": null,
   "id": "b26278c9",
   "metadata": {},
   "outputs": [],
   "source": [
    "from neuralmonkey.utils.directory import check_log_preprocess_completion_status\n",
    "\n",
    "check_log_preprocess_completion_status(\"Diego\")\n"
   ]
  },
  {
   "cell_type": "markdown",
   "id": "9798de76",
   "metadata": {},
   "source": [
    "### Devo code below (obsolete)"
   ]
  },
  {
   "cell_type": "code",
   "execution_count": null,
   "id": "53c0a1db",
   "metadata": {},
   "outputs": [],
   "source": [
    "from pythonlib.globals import PATH_DATA_NEURAL_PREPROCESSED, PATH_DATA_NEURAL_RAW\n",
    "\n",
    "\n",
    "animal = \"Pancho\"\n",
    "DIR = f\"{PATH_DATA_NEURAL_PREPROCESSED}/recordings/{animal}\"\n",
    "print(DIR)\n",
    "\n",
    "import glob\n",
    "list_dir_date = glob.glob(f\"{DIR}/*\")\n",
    "for dirthis in list_dir_date:\n",
    "    \n",
    "    print(dirthis)\n",
    "    glob.glob(f\"{dirthis}/*\")\n",
    "    \n",
    "    # get the date\n",
    "    from pythonlib.tools.expttools import fileparts\n",
    "    print(fileparts(dirthis))\n",
    "    assert False"
   ]
  },
  {
   "cell_type": "code",
   "execution_count": null,
   "id": "e9aed580",
   "metadata": {},
   "outputs": [],
   "source": []
  },
  {
   "cell_type": "code",
   "execution_count": null,
   "id": "d716d900",
   "metadata": {},
   "outputs": [],
   "source": [
    "PATH_DATA_NEURAL_RAW"
   ]
  },
  {
   "cell_type": "code",
   "execution_count": null,
   "id": "4f203b15",
   "metadata": {},
   "outputs": [],
   "source": [
    "from neuralmonkey.utils.directory import find_rec_session_paths\n",
    "\n",
    "date1 = 220520\n",
    "date2 = 220717\n",
    "\n",
    "\n",
    "res = []\n",
    "res_strings = []\n",
    "for d in range(date1, date2+1):\n",
    "\n",
    "    sessions = find_rec_session_paths(animal, d)\n",
    "    date_string = f\"{d}\"\n",
    "    for sdict in sessions:\n",
    "        print(sdict)\n",
    "        \n",
    "        # load session\n",
    "#         date = 220715\n",
    "#         dataset_beh_expt = None\n",
    "#         rec_session=0\n",
    "#         animal = \"Pancho\"\n",
    "#         expt = None\n",
    "        sessnum = sdict[\"sessnum\"]\n",
    "        SN = load_session_helper(d, None, sessnum, animal, None,  \n",
    "            ACTUALLY_BAREBONES_LOADING = True)\n",
    "        \n",
    "        done = SN._savelocalcached_check_done(datslice_quick_check=True)\n",
    "        \n",
    "        res.append({\n",
    "            \"date\":d,\n",
    "            \"sessnum\":sessnum,\n",
    "            \"done\":done\n",
    "        })\n",
    "        \n",
    "        date_string+=f\"|{sessnum}-{done}\"\n",
    "        \n",
    "    res_strings.append(date_string)\n",
    "\n",
    "print(res)"
   ]
  },
  {
   "cell_type": "code",
   "execution_count": null,
   "id": "f7e463dd",
   "metadata": {},
   "outputs": [],
   "source": []
  },
  {
   "cell_type": "code",
   "execution_count": null,
   "id": "7bce8888",
   "metadata": {},
   "outputs": [],
   "source": [
    "from neuralmonkey.classes.session import Session, load_session_helper\n",
    "date = 220715\n",
    "dataset_beh_expt = None\n",
    "rec_session=0\n",
    "animal = \"Pancho\"\n",
    "expt = None\n",
    "SN = load_session_helper(date, dataset_beh_expt, rec_session, animal, expt,  \n",
    "    ACTUALLY_BAREBONES_LOADING = True)\n"
   ]
  },
  {
   "cell_type": "code",
   "execution_count": null,
   "id": "bd55fc28",
   "metadata": {},
   "outputs": [],
   "source": [
    "SN._savelocalcached_check_done(datslice_quick_check=True)"
   ]
  },
  {
   "cell_type": "code",
   "execution_count": null,
   "id": "77257519",
   "metadata": {},
   "outputs": [],
   "source": []
  }
 ],
 "metadata": {
  "kernelspec": {
   "display_name": "Python 3 (ipykernel)",
   "language": "python",
   "name": "python3"
  },
  "language_info": {
   "codemirror_mode": {
    "name": "ipython",
    "version": 3
   },
   "file_extension": ".py",
   "mimetype": "text/x-python",
   "name": "python",
   "nbconvert_exporter": "python",
   "pygments_lexer": "ipython3",
   "version": "3.8.13"
  }
 },
 "nbformat": 4,
 "nbformat_minor": 5
}
