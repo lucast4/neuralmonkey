{
 "cells": [
  {
   "cell_type": "code",
   "execution_count": null,
   "id": "6d084eb6",
   "metadata": {},
   "outputs": [],
   "source": [
    "\"\"\"\n",
    "\"\"\""
   ]
  },
  {
   "cell_type": "code",
   "outputs": [],
   "source": [
    "%load_ext autoreload\n",
    "%autoreload 2\n"
   ],
   "metadata": {
    "collapsed": false
   },
   "id": "a0eeaf3c5c275eab",
   "execution_count": null
  },
  {
   "cell_type": "code",
   "execution_count": null,
   "id": "d746b568",
   "metadata": {},
   "outputs": [],
   "source": [
    "from neuralmonkey.classes.session import Session\n",
    "import matplotlib.pyplot as plt\n",
    "from neuralmonkey.scripts.load_and_save_locally import load_and_preprocess_single_session\n",
    "import neuralmonkey.utils.monkeylogic as mkl\n",
    "from neuralmonkey.classes.session import load_session_helper, load_mult_session_helper\n",
    "import os\n",
    "import numpy as np\n",
    "import matplotlib.pyplot as plt"
   ]
  },
  {
   "cell_type": "code",
   "outputs": [],
   "source": [
    "import numpy as np"
   ],
   "metadata": {
    "collapsed": false
   },
   "id": "7ca77dc17e000235",
   "execution_count": null
  },
  {
   "cell_type": "code",
   "execution_count": null,
   "id": "6dfb0cae",
   "metadata": {},
   "outputs": [],
   "source": [
    "# DATE = 230615\n",
    "# animal = \"Diego\"\n",
    "\n",
    "DATE = 231001\n",
    "animal = \"Pancho\"\n"
   ]
  },
  {
   "cell_type": "code",
   "execution_count": null,
   "id": "8c2711e9",
   "metadata": {},
   "outputs": [],
   "source": [
    "\n",
    "MS = load_mult_session_helper(DATE, animal, MINIMAL_LOADING=True, spikes_version=\"kilosort_if_exists\")   \n",
    "# MS = load_mult_session_helper(DATE, animal, MINIMAL_LOADING=True) \n"
   ]
  },
  {
   "cell_type": "code",
   "execution_count": null,
   "id": "f51c0e16",
   "metadata": {},
   "outputs": [],
   "source": [
    "# Load a single session\n",
    "sess = 1\n",
    "sn_KS = load_session_helper(DATE, rec_session=sess, animal=animal, MINIMAL_LOADING=True, spikes_version=\"kilosort\")\n",
    "\n",
    "# Load a single session\n",
    "sess = 1\n",
    "sn_TD = load_session_helper(DATE, rec_session=sess, animal=animal, MINIMAL_LOADING=True, spikes_version=\"tdt\")"
   ]
  },
  {
   "cell_type": "code",
   "outputs": [],
   "source": [
    "# Load a single session\n",
    "sess = 0\n",
    "sn = load_session_helper(DATE, rec_session=sess, animal=animal, MINIMAL_LOADING=False, spikes_version=\"kilosort_if_exists\")\n"
   ],
   "metadata": {
    "collapsed": false
   },
   "id": "f1f5361ddee3803",
   "execution_count": null
  },
  {
   "cell_type": "markdown",
   "source": [
    "# Debugging \"FULL LOADING MODE\" stuff"
   ],
   "metadata": {
    "collapsed": false
   },
   "id": "70b3db86a38b1a7"
  },
  {
   "cell_type": "code",
   "outputs": [],
   "source": [
    "sn._MapperTrialcode2TrialToTrial"
   ],
   "metadata": {
    "collapsed": false
   },
   "id": "77dbeb3156ea3b03",
   "execution_count": null
  },
  {
   "cell_type": "code",
   "outputs": [],
   "source": [
    "sn.get_trials_list(True)"
   ],
   "metadata": {
    "collapsed": false
   },
   "id": "4b0f52579572be4b",
   "execution_count": null
  },
  {
   "cell_type": "code",
   "outputs": [],
   "source": [
    "sn.events_get_time_using_photodiode()"
   ],
   "metadata": {
    "collapsed": false
   },
   "id": "bdcce0195175eff8"
  },
  {
   "cell_type": "code",
   "outputs": [],
   "source": [
    "sn.events_get_time_using_photodiode_and_save()"
   ],
   "metadata": {
    "collapsed": false
   },
   "id": "776619fd18d1f949",
   "execution_count": null
  },
  {
   "cell_type": "code",
   "outputs": [],
   "source": [
    "SN = sn\n",
    "\n",
    "# save sanity checsk of pd crossings/events.\n",
    "SN.eventsdataframe_sanity_check()\n",
    "\n",
    "########## SAVE CACHED\n",
    "# ALways run this since it is quick\n",
    "SN._savelocalcached_extract()\n",
    "\n",
    "# save_datslices = not checkIfDirExistsAndHasFiles(path)[1] # save if not already done.\n",
    "save_datslices = not SN._savelocalcached_checksaved_datslice()\n",
    "# then already extracted\n",
    "\n",
    "SN._savelocalcached_save(save_datslices=save_datslices)\n",
    "\n",
    "# Then delete the old data, as is redundant with the cached local\n",
    "if SN._savelocalcached_check_done():\n",
    "    print(\"DELETING, becuause they are redundant with datslices:\")\n",
    "    print(SN.Paths[\"datall_local\"])\n",
    "    print(SN.Paths[\"spikes_local\"])\n",
    "    os.remove(SN.Paths[\"datall_local\"])\n",
    "    os.remove(SN.Paths[\"spikes_local\"])\n",
    "else:\n",
    "    assert False, \"should have all been extracted in _savelocalcached_save\"\n"
   ],
   "metadata": {
    "collapsed": false
   },
   "id": "16630c8688911a62",
   "execution_count": null
  },
  {
   "cell_type": "markdown",
   "source": [
    "# Kilosort debugging"
   ],
   "metadata": {
    "collapsed": false
   },
   "id": "12631b061ac467d3"
  },
  {
   "cell_type": "markdown",
   "source": [
    "### Compare ks to tdt "
   ],
   "metadata": {
    "collapsed": false
   },
   "id": "ee0c87f22df6ef70"
  },
  {
   "cell_type": "code",
   "outputs": [],
   "source": [
    "sn = MS.SessionsList[3]\n",
    "savedir = \"/tmp/ksgood\"\n",
    "sn.ks_plot_compare_tdt_to_kilosort(\"/tmp\")"
   ],
   "metadata": {
    "collapsed": false
   },
   "id": "9ddc83d52f0480e4",
   "execution_count": null
  },
  {
   "cell_type": "markdown",
   "source": [
    "### Kilosort, get time global of start of current session, for extracting time of tdt spikes"
   ],
   "metadata": {
    "collapsed": false
   },
   "id": "b243e91d42d017d9"
  },
  {
   "cell_type": "code",
   "outputs": [],
   "source": [
    "from neuralmonkey.utils.directory import rec_session_durations_extract_kilosort\n",
    "out = rec_session_durations_extract_kilosort(animal, DATE)\n",
    "print(\"-------------------------\")\n",
    "for k, v in out.items():\n",
    "    print(k, \" -- \", v)\n",
    "duration_total_using_rs4_dict\n",
    "\n",
    "sn_KS.spiketimes_ks_compute_timeglobal_thissession_start()\n",
    "# Sanity check, compare ks to tdt activity.\n",
    "sn_KS.datall_TDT_KS_slice_single_bysite(1412, 0)\n",
    "sn_KS.sitegetterKS_all_sites()\n",
    "sn."
   ],
   "metadata": {
    "collapsed": false
   },
   "id": "db826e09ac55b2ed",
   "execution_count": null
  },
  {
   "cell_type": "markdown",
   "source": [
    "### Overlay spikes onto raw data"
   ],
   "metadata": {
    "collapsed": false
   },
   "id": "5012cc5f8438b84"
  },
  {
   "cell_type": "code",
   "outputs": [],
   "source": [
    "sn_KS = MS.SessionsList[1]"
   ],
   "metadata": {
    "collapsed": false
   },
   "id": "2d0893a9dadd77ce",
   "execution_count": null
  },
  {
   "cell_type": "code",
   "outputs": [],
   "source": [
    "sn_KS.SPIKES_VERSION = \"kilosort\"\n",
    "sn_KS._SPIKES_VERSION_INPUTED = \"kilosort\""
   ],
   "metadata": {
    "collapsed": false
   },
   "id": "3280527153bb24ee",
   "execution_count": null
  },
  {
   "cell_type": "code",
   "outputs": [],
   "source": [
    "sn_KS.sitegetterKS_all_sites()"
   ],
   "metadata": {
    "collapsed": false
   },
   "id": "60a734d87a014daf",
   "execution_count": null
  },
  {
   "cell_type": "code",
   "outputs": [],
   "source": [
    "site = 1273\n",
    "trial = sn_KS.get_trials_list(True)[-2]\n",
    "print(sn_KS.sitegetterKS_thissite_info(site))"
   ],
   "metadata": {
    "collapsed": false
   },
   "id": "e1e1f74cf269179a",
   "execution_count": null
  },
  {
   "cell_type": "code",
   "outputs": [],
   "source": [
    "sn_KS.spiketimes_ks_compute_timeglobal_thissession_start()"
   ],
   "metadata": {
    "collapsed": false
   },
   "id": "e6a9ea6c4755d604",
   "execution_count": null
  },
  {
   "cell_type": "code",
   "outputs": [],
   "source": [
    "\n",
    "twind_plot = None\n",
    "twind_plot = [0.2, 0.25]\n",
    "sn_KS.plot_raw_overlay_spikes_on_raw_filtered(site, trial, twind_plot)\n",
    "sn_KS.ks_plot_compare_overlaying_spikes_on_raw_filtered(site, trial)"
   ],
   "metadata": {
    "collapsed": false
   },
   "id": "c03a93cf8068fdf4",
   "execution_count": null
  },
  {
   "cell_type": "markdown",
   "source": [
    "### Plot example raster"
   ],
   "metadata": {
    "collapsed": false
   },
   "id": "c2d860364ebc323f"
  },
  {
   "cell_type": "code",
   "outputs": [],
   "source": [
    "for t in trials:\n",
    "    assert sn_KS.datasetbeh_trial_to_trialcode(t)==sn_TD.datasetbeh_trial_to_trialcode(t)\n",
    "    assert sn_KS.datasetbeh_trial_to_datidx(t)==sn_TD.datasetbeh_trial_to_datidx(t)\n",
    "    \n",
    "assert np.all(sn_TD.Datasetbeh.Dat[\"trialcode\"] == sn_KS.Datasetbeh.Dat[\"trialcode\"])"
   ],
   "metadata": {
    "collapsed": false
   },
   "id": "5250b3684f5eef0a",
   "execution_count": null
  },
  {
   "cell_type": "code",
   "outputs": [],
   "source": [
    "sn_KS._CachedTrialOnset == sn_TD._CachedTrialOnset\n"
   ],
   "metadata": {
    "collapsed": false
   },
   "id": "abf21f9f831b6e8",
   "execution_count": null
  },
  {
   "cell_type": "code",
   "outputs": [],
   "source": [
    "sn_KS.RecPathBaseLocal"
   ],
   "metadata": {
    "collapsed": false
   },
   "id": "ac56ded7fe148092",
   "execution_count": null
  },
  {
   "cell_type": "code",
   "outputs": [],
   "source": [
    "\n",
    "sn_KS._CachedTrialOnset "
   ],
   "metadata": {
    "collapsed": false
   },
   "id": "ded95e6f1ca1fc0a",
   "execution_count": null
  },
  {
   "cell_type": "code",
   "outputs": [],
   "source": [
    "site = 125\n",
    "trials = sn_TD.get_trials_list(True)\n",
    "sn_TD.plotwrapper_raster_multrials_onesite(trials[::15], site=site, plot_beh=False);"
   ],
   "metadata": {
    "collapsed": false
   },
   "id": "6b37aa5978e88df9",
   "execution_count": null
  },
  {
   "cell_type": "code",
   "outputs": [],
   "source": [
    "site = 1127\n",
    "\n",
    "site = 7\n",
    "sn_KS.sitegetterKS_thissite_info(site)"
   ],
   "metadata": {
    "collapsed": false
   },
   "id": "58fa6dc09d31b7ac",
   "execution_count": null
  },
  {
   "cell_type": "code",
   "outputs": [],
   "source": [
    "trials = sn_KS.get_trials_list(True)\n",
    "sn_KS.plotwrapper_raster_multrials_onesite(trials[::15], site=site, plot_beh=False);"
   ],
   "metadata": {
    "collapsed": false
   },
   "id": "8c1f39f2e2e4a69",
   "execution_count": null
  },
  {
   "cell_type": "markdown",
   "id": "f0a90ce2",
   "metadata": {},
   "source": [
    "##### Fixation touch and done"
   ]
  },
  {
   "cell_type": "code",
   "execution_count": null,
   "id": "d9a9a35f",
   "metadata": {},
   "outputs": [],
   "source": [
    "trial = 813\n",
    "sn.beh_extract_touch_in_done_button(trial,  ploton=True)"
   ]
  },
  {
   "cell_type": "code",
   "execution_count": null,
   "id": "c75c1249",
   "metadata": {
    "scrolled": false
   },
   "outputs": [],
   "source": [
    "# sn.beh_extract_touch_in_fixation_square(trial, window_delta_pixels=48, ploton=True)\n",
    "trial = 114\n",
    "# sn.beh_extract_touch_in_fixation_square(trial, window_delta_pixels=52, ploton=True)\n",
    "times, touch = sn.beh_extract_touch_in_fixation_square(trial, ploton=True)\n",
    "\n"
   ]
  },
  {
   "cell_type": "markdown",
   "source": [
    "# Debugging event extraction (e.g., photodiode)"
   ],
   "metadata": {
    "collapsed": false
   },
   "id": "9b5a956626143c9f"
  },
  {
   "cell_type": "markdown",
   "id": "891e020c",
   "metadata": {},
   "source": [
    "##### Sanity checks across trialsm"
   ]
  },
  {
   "cell_type": "code",
   "execution_count": null,
   "id": "f0e8512e",
   "metadata": {},
   "outputs": [],
   "source": [
    "# Compare times of events, e..g, make sure done alway soccurs after \n",
    "for trial in sn.get_trials_list(True):\n",
    "    print(trial)\n",
    "    \n",
    "    tmp = sn.events_get_times_as_array(trial, [\"fixtch\", \"go\", \"doneb\"])\n",
    "    if np.isnan(tmp[2]):\n",
    "        continue\n",
    "    else:\n",
    "#         print(tmp[2] - tmp[1])\n",
    "        assert (tmp[2] - tmp[1])>0\n",
    "        "
   ]
  },
  {
   "cell_type": "code",
   "execution_count": null,
   "id": "5ea11ebb",
   "metadata": {},
   "outputs": [],
   "source": [
    "# trial = 594\n",
    "event = \"fixtch\"\n",
    "for trial in sn.get_trials_list(True):\n",
    "    a = sn.events_get_time_using_photodiode(trial, list_events=[event])\n",
    "    b = sn.events_get_time_using_photodiode(trial, list_events=[event], do_reextract_even_if_saved=True)\n",
    "    print(trial, a, b, a==b)\n",
    "    if len(a[event])>0:\n",
    "        assert np.abs(a[event][0]-b[event][0])<0.01\n"
   ]
  },
  {
   "cell_type": "markdown",
   "id": "7de02161",
   "metadata": {},
   "source": [
    "##### Plot pd"
   ]
  },
  {
   "cell_type": "code",
   "execution_count": null,
   "id": "07d65e5c",
   "metadata": {
    "scrolled": false
   },
   "outputs": [],
   "source": [
    "%matplotlib inline\n",
    "trial = 114 \n",
    "event = \"fixtch\"\n",
    "sn.events_get_time_using_photodiode(trial, list_events=[event], plot_beh_code_stream = True, \n",
    "                                    do_reextract_even_if_saved=True)\n"
   ]
  },
  {
   "cell_type": "code",
   "execution_count": null,
   "id": "50d28669",
   "metadata": {},
   "outputs": [],
   "source": [
    "import numpy as np\n",
    "np.linspace(-0.015, 0.055, 50)"
   ]
  },
  {
   "cell_type": "code",
   "execution_count": null,
   "id": "323a9b05",
   "metadata": {},
   "outputs": [],
   "source": []
  },
  {
   "cell_type": "code",
   "execution_count": null,
   "id": "309dcb92",
   "metadata": {},
   "outputs": [],
   "source": [
    "np.linspace(-0.045, 0.045, )"
   ]
  },
  {
   "cell_type": "code",
   "execution_count": null,
   "id": "7508f2b2",
   "metadata": {},
   "outputs": [],
   "source": [
    "np.linspace(1,10)\n"
   ]
  },
  {
   "cell_type": "code",
   "execution_count": null,
   "id": "3efae11b",
   "metadata": {},
   "outputs": [],
   "source": [
    "print(10)"
   ]
  },
  {
   "cell_type": "code",
   "execution_count": null,
   "id": "e594c0b4",
   "metadata": {},
   "outputs": [],
   "source": [
    "sn.events_get_time_sorted(trial, [\"fixcue\", \"fixtch\"])[0]"
   ]
  },
  {
   "cell_type": "code",
   "execution_count": null,
   "id": "6d2746b4",
   "metadata": {},
   "outputs": [],
   "source": [
    "trial = 594\n",
    "%matplotlib inline\n",
    "\n",
    "sn.events_get_time_using_photodiode(trial, list_events=[event], plot_beh_code_stream = True, overwrite=True)"
   ]
  },
  {
   "cell_type": "markdown",
   "id": "ab429de9",
   "metadata": {},
   "source": [
    "##### Problem: fixtouch even before fixation cue onset"
   ]
  },
  {
   "cell_type": "code",
   "execution_count": null,
   "id": "aeec9b60",
   "metadata": {},
   "outputs": [],
   "source": [
    "# Solution: detect cases. call the onset the same time as fixcue onset."
   ]
  },
  {
   "cell_type": "code",
   "execution_count": null,
   "id": "d883a1aa",
   "metadata": {},
   "outputs": [],
   "source": [
    "for t in sn.get_trials_list(True):\n",
    "    if sn.beh_check_touching_fixation_square_during_onset(t):\n",
    "        print(t)"
   ]
  },
  {
   "cell_type": "code",
   "execution_count": null,
   "id": "5276daae",
   "metadata": {},
   "outputs": [],
   "source": [
    "touch.shape"
   ]
  },
  {
   "cell_type": "markdown",
   "id": "e631f79f",
   "metadata": {},
   "source": [
    "#### Plot"
   ]
  },
  {
   "cell_type": "code",
   "execution_count": null,
   "id": "b4bbd264",
   "metadata": {},
   "outputs": [],
   "source": [
    "sn.extract_data_tank_epocs(\"camtrialoff\")"
   ]
  },
  {
   "cell_type": "code",
   "execution_count": null,
   "id": "8d6ffb8e",
   "metadata": {},
   "outputs": [],
   "source": [
    "sn.DatTank[\"epocs\"]"
   ]
  },
  {
   "cell_type": "code",
   "execution_count": null,
   "id": "d6a5f0e5",
   "metadata": {},
   "outputs": [],
   "source": [
    "# sn.DatTank[\"streams\"][\"Mic1\"]\n",
    "# sn.DatTank[\"streams\"][\"PhD2\"]\n",
    "# sn.DatTank[\"streams\"][\"Eyee\"]\n",
    "sn.DatTank[\"streams\"][\"PhDi\"]"
   ]
  },
  {
   "cell_type": "code",
   "execution_count": null,
   "id": "3b2cc87b",
   "metadata": {
    "scrolled": false
   },
   "outputs": [],
   "source": [
    "%matplotlib inline\n",
    "sites = sn.sitegetter_all()\n",
    "sn.plotwrapper_raster_oneetrial_multsites(trial, sites[:10], overlay_trial_events=False,  overlay_trial_events_notpd=True)\n",
    "# sn.plotwrapper_raster_oneetrial_multsites(trial, sites[:10], overlay_trial_events=True,  overlay_trial_events_notpd=False)\n",
    "\n"
   ]
  },
  {
   "cell_type": "code",
   "execution_count": null,
   "id": "0ecbd226",
   "metadata": {},
   "outputs": [],
   "source": [
    "trials = sn.get_trials_list(True, True)\n",
    "sites = sn.sitegetter_all()\n",
    "pre = -0.55\n",
    "post = -0.05\n",
    "sn.smoothedfr_extract_timewindow(trials, sites, \"first_raise\", pre, post)\n",
    "\n",
    "sn.events_get_time_using_photodiode(269, list_events=[\"first_raise\"], plot_beh_code_stream = True, overwrite=True)"
   ]
  },
  {
   "cell_type": "code",
   "execution_count": null,
   "id": "7c97e02c",
   "metadata": {},
   "outputs": [],
   "source": [
    "sn.plotwrapper_raster_oneetrial_multsites(269, sites[:10])"
   ]
  },
  {
   "cell_type": "markdown",
   "id": "94d1f7fe",
   "metadata": {},
   "source": [
    "#####"
   ]
  }
 ],
 "metadata": {
  "kernelspec": {
   "display_name": "Python 3 (ipykernel)",
   "language": "python",
   "name": "python3"
  },
  "language_info": {
   "codemirror_mode": {
    "name": "ipython",
    "version": 3
   },
   "file_extension": ".py",
   "mimetype": "text/x-python",
   "name": "python",
   "nbconvert_exporter": "python",
   "pygments_lexer": "ipython3",
   "version": "3.8.13"
  }
 },
 "nbformat": 4,
 "nbformat_minor": 5
}
