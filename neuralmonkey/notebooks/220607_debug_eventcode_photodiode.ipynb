{
 "cells": [
  {
   "cell_type": "code",
   "execution_count": 1,
   "id": "6d084eb6",
   "metadata": {},
   "outputs": [
    {
     "data": {
      "text/plain": [
       "'\\n'"
      ]
     },
     "execution_count": 1,
     "metadata": {},
     "output_type": "execute_result"
    }
   ],
   "source": [
    "\"\"\"\n",
    "\"\"\""
   ]
  },
  {
   "cell_type": "code",
   "execution_count": 2,
   "id": "a0eeaf3c5c275eab",
   "metadata": {
    "collapsed": false
   },
   "outputs": [],
   "source": [
    "%load_ext autoreload\n",
    "%autoreload 2\n"
   ]
  },
  {
   "cell_type": "code",
   "execution_count": 3,
   "id": "d746b568",
   "metadata": {},
   "outputs": [],
   "source": [
    "from neuralmonkey.classes.session import Session\n",
    "import matplotlib.pyplot as plt\n",
    "from neuralmonkey.scripts.load_and_save_locally import load_and_preprocess_single_session\n",
    "import neuralmonkey.utils.monkeylogic as mkl\n",
    "from neuralmonkey.classes.session import load_session_helper, load_mult_session_helper\n",
    "import os\n",
    "import numpy as np\n",
    "import matplotlib.pyplot as plt"
   ]
  },
  {
   "cell_type": "code",
   "execution_count": 4,
   "id": "7ca77dc17e000235",
   "metadata": {
    "collapsed": false
   },
   "outputs": [],
   "source": [
    "import numpy as np"
   ]
  },
  {
   "cell_type": "code",
   "execution_count": 5,
   "id": "6dfb0cae",
   "metadata": {},
   "outputs": [],
   "source": [
    "DATE = 230630\n",
    "animal = \"Diego\"\n",
    "\n",
    "# DATE = 231001\n",
    "# animal = \"Diego\"\n"
   ]
  },
  {
   "cell_type": "code",
   "execution_count": 6,
   "id": "8c2711e9",
   "metadata": {},
   "outputs": [
    {
     "name": "stdout",
     "output_type": "stream",
     "text": [
      "Searching using this string:\n",
      "/home/lucas/mnt/Freiwald/ltian/recordings/*Diego*/*230630*/**\n",
      "Found this many paths:\n",
      "1\n",
      "---\n",
      "/home/lucas/mnt/Freiwald/ltian/recordings/Diego/230630/Diego-230630-124955\n",
      "session:  0\n",
      "Beh Sessions that exist on this date:  {230630: [(1, 'primsingridfixed6fDiego')]}\n",
      "------------------------------\n",
      "Loading this neural session: 0\n",
      "Loading these beh expts: ['primsingridfixed6fDiego']\n",
      "Loading these beh sessions: [1]\n",
      "Using this beh_trial_map_list: [(1, 0)]\n",
      "Searching using this string:\n",
      "/home/lucas/mnt/Freiwald/ltian/recordings/*Diego*/*230630*/**\n",
      "Found this many paths:\n",
      "1\n",
      "---\n",
      "/home/lucas/mnt/Freiwald/ltian/recordings/Diego/230630/Diego-230630-124955\n",
      "Searching using this string:\n",
      "/home/lucas/mnt/Freiwald_kgupta/kgupta/neural_data/*Diego*/*230630*/*Diego*230630**\n",
      "Found this many paths:\n",
      "1\n",
      "---\n",
      "/home/lucas/mnt/Freiwald_kgupta/kgupta/neural_data/Diego/230630/Diego-230630-124955\n",
      "These durations gotten for sessions...\n",
      "...  _durations_each_sess_using_tank : [14115.359024]\n",
      "...  onsets_using_rs4_each_rs : {2: [0.0], 3: [0.0]}\n",
      "...  offsets_using_rs4_each_rs : {2: [14115.46427392], 3: [14115.46427392]}\n",
      "...  durations_each_sess_rs4_keyed_by_rs : {2: [14115.46427392], 3: [14115.46427392]}\n",
      "...  duration_total_kilosort_dict_each_rs : {2: 14115.46427392, 3: 14115.46427392}\n",
      "...  duration_total_by_summing_rs4_dict : {2: 14115.46427392, 3: 14115.46427392}\n",
      "Searching using this string:\n",
      "/home/lucas/mnt/Freiwald/ltian/recordings/*Diego*/*230630*/**\n",
      "Found this many paths:\n",
      "1\n",
      "---\n",
      "/home/lucas/mnt/Freiwald/ltian/recordings/Diego/230630/Diego-230630-124955\n",
      "{'filename_components_hyphened': ['Diego', '230630', '124955'], 'basedirs': ['/home/lucas/mnt/Freiwald/ltian/recordings/Diego', '/home/lucas/mnt/Freiwald/ltian/recordings/Diego/230630'], 'basedirs_filenames': ['230630', 'Diego-230630-124955'], 'filename_final_ext': 'Diego-230630-124955', 'filename_final_noext': 'Diego-230630-124955'}\n",
      "FOund this path for spikes:  /home/lucas/mnt/Freiwald/ltian/recordings/Diego/230630/Diego-230630-124955/spikes_tdt_quick-4\n",
      "== PATHS for this expt: \n",
      "raws  --  /home/lucas/mnt/Freiwald/ltian/recordings/Diego/230630/Diego-230630-124955\n",
      "tank  --  /home/lucas/mnt/Freiwald/ltian/recordings/Diego/230630/Diego-230630-124955/Diego-230630-124955\n",
      "spikes  --  /home/lucas/mnt/Freiwald/ltian/recordings/Diego/230630/Diego-230630-124955/spikes_tdt_quick-4\n",
      "final_dir_name  --  Diego-230630-124955\n",
      "time  --  124955\n",
      "pathbase_local  --  /lemur2/lucas/neural_preprocess/recordings/Diego/230630/Diego-230630-124955\n",
      "tank_local  --  /lemur2/lucas/neural_preprocess/recordings/Diego/230630/Diego-230630-124955/data_tank.pkl\n",
      "spikes_local  --  /lemur2/lucas/neural_preprocess/recordings/Diego/230630/Diego-230630-124955/data_spikes.pkl\n",
      "datall_local  --  /lemur2/lucas/neural_preprocess/recordings/Diego/230630/Diego-230630-124955/data_datall.pkl\n",
      "events_local  --  /lemur2/lucas/neural_preprocess/recordings/Diego/230630/Diego-230630-124955/events_photodiode.pkl\n",
      "mapper_st2dat_local  --  /lemur2/lucas/neural_preprocess/recordings/Diego/230630/Diego-230630-124955/mapper_st2dat.pkl\n",
      "figs_local  --  /lemur2/lucas/neural_preprocess/recordings/Diego/230630/Diego-230630-124955/figs\n",
      "metadata_units  --  /home/lucas/code/neuralmonkey/neuralmonkey/metadat/units_Diego\n",
      "cached_dir  --  /lemur2/lucas/neural_preprocess/recordings/Diego/230630/Diego-230630-124955/cached\n",
      "Sites metada path doesnt exist:  /home/lucas/code/neuralmonkey/neuralmonkey/metadat/units/230630.yaml\n",
      "updating self.SitesDirty with:  []\n",
      "== Loading TDT tank\n",
      "** Loading tank data from local (previusly cached)\n",
      "== Done\n",
      "** MINIMAL_LOADING, therefore loading previuosly cached data\n",
      "== Trying to load events data\n",
      "Loading this events (pd) locally to:  /lemur2/lucas/neural_preprocess/recordings/Diego/230630/Diego-230630-124955/events_photodiode.pkl\n",
      "== Done\n",
      "Searching using this string:\n",
      "/home/lucas/code/drawmonkey/expt_metadat/*230630-*Diego.**\n",
      "Found this many paths:\n",
      "0\n",
      "Searching using this string:\n",
      "/home/lucas/code/drawmonkey/expt_metadat_daily/*230630-*Diego.**\n",
      "Found this many paths:\n",
      "1\n",
      "---\n",
      "/home/lucas/code/drawmonkey/expt_metadat_daily/primsingridfixed6fDiego-230630-Diego.yaml\n",
      "Loading this dataset Diego primsingridfixed6fDiego 230630\n",
      "Searching using this string:\n",
      "/lemur2/lucas/analyses/database/*Diego-*primsingridfixed6fDiego-*230630-*/*dat*.pkl\n",
      "-- Splitting off dir from fname\n",
      "Found this many paths:\n",
      "0\n",
      "Searching using this string:\n",
      "/lemur2/lucas/analyses/database/BEH/*Diego-*primsingridfixed6fDiego-*230630-*/*dat*.pkl\n",
      "-- Splitting off dir from fname\n",
      "Found this many paths:\n",
      "0\n",
      "Searching using this string:\n",
      "/home/lucas/mnt/Freiwald_kgupta/kgupta/analyses/database/*Diego-*primsingridfixed6fDiego-*230630-*/*dat*.pkl\n",
      "-- Splitting off dir from fname\n",
      "Found this many paths:\n",
      "0\n",
      "Searching using this string:\n",
      "/home/lucas/mnt/Freiwald_kgupta/kgupta/analyses/database/BEH/*Diego-*primsingridfixed6fDiego-*230630-*/*dat*.pkl\n",
      "-- Splitting off dir from fname\n",
      "Found this many paths:\n",
      "1\n",
      "---\n",
      "/home/lucas/mnt/Freiwald_kgupta/kgupta/analyses/database/BEH/Diego-primsingridfixed6fDiego-230630-230630_201101\n",
      "----------------\n",
      "Currently loading dataset pkl: /home/lucas/mnt/Freiwald_kgupta/kgupta/analyses/database/BEH/Diego-primsingridfixed6fDiego-230630-230630_201101\n",
      ".. Done!\n",
      "Loaded metadat:\n",
      "{'sketchpad_edges': array([[-311.84, -224.8 ],\n",
      "       [ 311.84,  429.6 ]]), 'metadat_probedat': {'sdate': '230630', 'edate': '230630', 'strokmodel_kind': None, 'strokmodel_tstamp': None, 'datecategories': {'230630': 1}, 'dates_for_summary': [], 'matchedstrokes': None, 'exptnames': ['primsingridfixed6fDiego'], 'T1': [], 'G1': [], 'G2': [], 'G3': [], 'G4': [], 'description': '', 'finalized': False, 'good_expt': True, 'expt': 'primsingridfixed6fDiego', 'animal': 'Diego', 'ssess': None, 'esess': None, 'task_train_test': {'probe1_liketrain': 'train', 'probe1_nostrokeconstraint': 'train', 'probe2_liketrain': 'train', 'probe2_nostrokeconstraint': 'train', 'probe3_hdpos': 'test', 'probe1': 'train', 'probe2': 'train', 'probe3': 'test', 'probe4': 'test', 'train': 'train'}}, 'filedata_params': {'pix_per_deg': array([[ 26.64621164],\n",
      "       [-26.64621164]]), 'resolution': (1024, 768), 'animal': 'Diego', 'basedir': '/home/kgg/mnt/Freiwald/kgupta/macaque_data', 'sample_rate': array([500.]), 'beh_codes': {9: 'start', 10: 'fix cue', 11: 'fix cue visible', 13: 'frame skip', 14: 'manual rew', 15: 'guide', 16: 'FixationOnsetWTH', 17: 'FixationDoneSuccessWTH', 18: 'end', 19: 'FixationRaiseFailWTH', 20: 'go (draw)', 21: 'guide_on_GA', 30: 'DelayWhatIsThis', 40: 'GoWhatIsThis', 41: 'samp1 on', 42: 'samp1 off', 45: 'done', 46: 'post', 50: 'reward', 51: 'free reward', 61: 'DoneButtonVisible', 62: 'DoneButtonTouched', 63: 'DragAroundSuccess', 64: 'DragAroundAbort', 65: 'DragAroundFirstAbortNow', 70: 'hotkey_x', 71: 'DAstimevent_firstpres', 72: 'DAstimoff_finibeforepause', 73: 'DAstimoff_fini', 74: 'DAsamp1_visible_change', 75: 'DAnewpnutthisframe', 76: 'DAsound_samp1touched', 78: 'DAsound_gotallink', 80: 'ttl_trialon', 81: 'ttl_trialoff', 91: 'GAstimevent_firstpres', 92: 'GAstimoff_fini', 101: 'fix_square_on', 102: 'fix_square_off', 103: 'fix_square_on_pd', 111: 'photodiode_force_off', 120: 'DAsound_chunk', 121: 'DAsound_strokedone', 122: 'DAsound_chunkupdate', 123: 'DAsound_chunkdone', 124: 'DAsound_firstraise', 131: 'fix_cue_colored_on', 132: 'fix_cue_colored_on_v2', 133: 'fix_cue_colored_off', 134: 'fix_cue_colored_off_v2', 135: 'new_color_cue_off', 200: 'skipped_movie_frame'}, 'screen_hz': 59, 'screen_period': 0.01694915254237288}}\n",
      "Loading BlockParamsByDateSessBlock!\n",
      "----\n",
      "Resetting index\n",
      "=== CLEANING UP self.Dat ===== \n",
      "Deleted unused columns from self.Dat\n",
      "applying monkey train test names\n",
      "* UDPATEING onset of first stroke [too close to fixation] (trial, new onset index):\n",
      "-- CHECKING  origin\n",
      "--- idat, trialcode, strok inds to remove, len strokes beofre remofe, len strokes after:\n",
      "-- CHECKING  donepos\n",
      "--- idat, trialcode, strok inds to remove, len strokes beofre remofe, len strokes after:\n",
      "Updated columns: insummarydates, using Metadats\n",
      "Searching using this string:\n",
      "/lemur2/lucas/analyses/database/TASKS_GENERAL/Diego-primsingridfixed6fDiego-230630-all/*Tasks*pkl\n",
      "Found this many paths:\n",
      "0\n",
      "Searching using this string:\n",
      "/home/lucas/mnt/Freiwald_kgupta/kgupta/analyses/database/TASKS_GENERAL/Diego-primsingridfixed6fDiego-230630-all/*Tasks*pkl\n",
      "Found this many paths:\n",
      "1\n",
      "---\n",
      "/home/lucas/mnt/Freiwald_kgupta/kgupta/analyses/database/TASKS_GENERAL/Diego-primsingridfixed6fDiego-230630-all/Tasks.pkl\n",
      "--- Loading tasks pkl file:  /home/lucas/mnt/Freiwald_kgupta/kgupta/analyses/database/TASKS_GENERAL/Diego-primsingridfixed6fDiego-230630-all/Tasks.pkl\n",
      "added new column self.Dat[Task]\n",
      "=== CLEANING UP self.Dat (_cleanup_reloading_saved_state) ===== \n",
      "- starting/ending len (grouping params):\n",
      "648\n",
      "Extracting Behclass for each trial, may take a while...\n",
      "0 _behclass_alignsim_compute\n",
      "200 _behclass_alignsim_compute\n",
      "400 _behclass_alignsim_compute\n",
      "600 _behclass_alignsim_compute\n",
      "Running D._behclass_tokens_extract_datsegs\n",
      "TODO: Pancho -- combine circles with the tohers\n",
      "0 _behclass_tokens_extract_datsegs\n",
      "200 _behclass_tokens_extract_datsegs\n",
      "400 _behclass_tokens_extract_datsegs\n",
      "600 _behclass_tokens_extract_datsegs\n",
      "stored in self.Dat[BehClass]\n",
      "Removing these trials: \n",
      "[]\n",
      "self.Dat starting legnth:  648\n",
      "Modified self.Dat, keeping only the inputted inds\n",
      "self.Dat final legnth:  648\n",
      "ADded new column: supervision_online\n",
      "Appended self.Dat[superv_SEQUENCE_SUP]\n",
      "Appended self.Dat[superv_SEQUENCE_ALPHA]\n",
      "Appended self.Dat[superv_COLOR_ON]\n",
      "Appended self.Dat[superv_COLOR_ITEMS_FADE_TO_DEFAULT_BINSTR]\n",
      "Appended self.Dat[superv_COLOR_METHOD]\n",
      "Appended self.Dat[superv_GUIDEDYN_ON]\n",
      "Appended self.Dat[superv_VISUALFB_METH]\n",
      "appended col to self.Dat:\n",
      "supervision_stage_new\n",
      "Appended self.Dat[superv_SEQUENCE_SUP]\n",
      "Appended self.Dat[superv_COLOR_ON]\n",
      "Appended self.Dat[superv_COLOR_METHOD]\n",
      "Appended self.Dat[superv_COLOR_ITEMS_FADE_TO_DEFAULT_BINSTR]\n",
      "Appended self.Dat[superv_GUIDEDYN_ON]\n",
      "appended col to self.Dat:\n",
      "supervision_stage_concise\n",
      "Append column to self.Dat:  supervision_stage_semantic\n",
      "Extracted into self.Dat[epoch_orig]\n",
      "Modified self.Dat[epoch]\n",
      "648\n",
      "- starting/ending len (getting sequence):\n",
      "648\n",
      "648\n",
      "--- Removing nans\n",
      "start len: 648\n",
      "- num names for each col\n",
      "not removing nans, since columns=[]\n",
      "Reassigned train/test, using key: probe\n",
      "and values:\n",
      "Train =  [0]\n",
      "Test =  [1]\n",
      " \n",
      "New distribution of train/test:\n",
      "monkey_train_or_test\n",
      "train    648\n",
      "Name: count, dtype: int64\n",
      "Appended column: los_info\n",
      "[taskgroup_reassign_by_mapper], reassigned values in column: taskgroup\n",
      "GROUPING epoch\n",
      "GROUPING_LEVELS ['230630']\n",
      "FEATURE_NAMES ['hdoffline', 'num_strokes_beh', 'num_strokes_task', 'circ', 'dist']\n",
      "SCORE_COL_NAMES []\n",
      "appended col to self.Dat:\n",
      "date_epoch\n",
      "Num nan/total, for num_strokes_task\n",
      "0 / 648\n",
      "Added these features:\n",
      "['FEAT_num_strokes_task']\n",
      "For n_clusters = 6 The average silhouette_score is : 0.5527485447799243\n",
      "For n_clusters = 7 The average silhouette_score is : 0.5502690952032386\n",
      "For n_clusters = 8 The average silhouette_score is : 0.6264204297093331\n",
      "For n_clusters = 9 The average silhouette_score is : 0.6240295077832305\n",
      "For n_clusters = 10 The average silhouette_score is : 0.644864719918977\n",
      "For n_clusters = 11 The average silhouette_score is : 0.642021332317225\n",
      "For n_clusters = 12 The average silhouette_score is : 0.6431176159057805\n",
      "For n_clusters = 13 The average silhouette_score is : 0.6783780077843826\n",
      "For n_clusters = 14 The average silhouette_score is : 0.6499850890001722\n",
      "For n_clusters = 15 The average silhouette_score is : 0.6642410496443611\n",
      "For n_clusters = 16 The average silhouette_score is : 0.6788031510868162\n",
      "For n_clusters = 17 The average silhouette_score is : 0.71358344281405\n",
      "For n_clusters = 18 The average silhouette_score is : 0.701679249013046\n",
      "For n_clusters = 19 The average silhouette_score is : 0.677118317544091\n",
      "For n_clusters = 20 The average silhouette_score is : 0.6610340850002577\n",
      "For n_clusters = 21 The average silhouette_score is : 0.629173913140427\n",
      "For n_clusters = 22 The average silhouette_score is : 0.6186142042344325\n",
      "For n_clusters = 23 The average silhouette_score is : 0.6054307594804201\n",
      "For n_clusters = 24 The average silhouette_score is : 0.6139694426187321\n",
      "For n_clusters = 25 The average silhouette_score is : 0.5906466735995409\n",
      "For n_clusters = 26 The average silhouette_score is : 0.5855722094975915\n",
      "Using n_clusters = 17\n",
      "SAVING at:  /lemur2/lucas/analyses/main/preprocess_general/Diego_230630_230630\n",
      "For n_clusters = 4 The average silhouette_score is : 0.7992134596419013\n",
      "For n_clusters = 5 The average silhouette_score is : 0.7364767360072211\n",
      "For n_clusters = 6 The average silhouette_score is : 0.6667251106906006\n",
      "For n_clusters = 7 The average silhouette_score is : 0.6016587817468366\n",
      "For n_clusters = 8 The average silhouette_score is : 0.5857547045242729\n",
      "For n_clusters = 9 The average silhouette_score is : 0.5347274003089479\n",
      "For n_clusters = 10 The average silhouette_score is : 0.5118426446648471\n",
      "For n_clusters = 11 The average silhouette_score is : 0.5029163953236618\n",
      "For n_clusters = 12 The average silhouette_score is : 0.48307889983466423\n",
      "For n_clusters = 13 The average silhouette_score is : 0.46390359220685834\n",
      "For n_clusters = 14 The average silhouette_score is : 0.4620727273725699\n",
      "For n_clusters = 15 The average silhouette_score is : 0.4341662321528193\n",
      "For n_clusters = 16 The average silhouette_score is : 0.4169382306167392\n",
      "For n_clusters = 17 The average silhouette_score is : 0.41909291333498805\n",
      "For n_clusters = 18 The average silhouette_score is : 0.4171499684873946\n",
      "For n_clusters = 19 The average silhouette_score is : 0.43338715123308946\n",
      "For n_clusters = 20 The average silhouette_score is : 0.42302183638138324\n",
      "For n_clusters = 21 The average silhouette_score is : 0.4266809325972722\n",
      "For n_clusters = 22 The average silhouette_score is : 0.40921828977675345\n",
      "For n_clusters = 23 The average silhouette_score is : 0.40062126130771575\n",
      "For n_clusters = 24 The average silhouette_score is : 0.39042244718049274\n",
      "For n_clusters = 25 The average silhouette_score is : 0.3960401443587356\n",
      "For n_clusters = 26 The average silhouette_score is : 0.3858790414326087\n",
      "Using n_clusters = 4\n",
      "ndims for feature loc_on = 2\n",
      "New colname in tokens: loc_on_binned\n",
      "ndims for feature angle = 1\n",
      "New colname in tokens: angle_binned\n",
      "ndims for feature center = 2\n",
      "New colname in tokens: center_binned\n",
      "ndims for feature center = 2\n",
      "New colname in tokens: center_binned\n",
      "ndims for feature center = 2\n",
      "New colname in tokens: center_binned\n",
      "0\n",
      "100\n",
      "200\n",
      "300\n",
      "400\n",
      "500\n",
      "600\n",
      "This many strokes extracted:  1607\n",
      "DONE!\n",
      "Appended epoch to self.Dat\n",
      "Appended character to self.Dat\n",
      "Basis set of strokes: ['Lcentered-4-1-0', 'Lcentered-4-2-0', 'Lcentered-4-3-0', 'Lcentered-4-4-0', 'V-2-2-0', 'V-2-3-0', 'V-2-4-0', 'arcdeep-4-2-0', 'arcdeep-4-3-0', 'arcdeep-4-4-0', 'circle-6-1-0', 'line-8-1-0', 'line-8-2-0', 'line-8-3-0', 'line-8-4-0', 'squiggle3-3-1-0', 'squiggle3-3-1-1', 'squiggle3-3-2-0', 'squiggle3-3-2-1', 'usquare-1-2-0', 'usquare-1-3-0', 'usquare-1-4-0', 'zigzagSq-1-1-0', 'zigzagSq-1-1-1', 'zigzagSq-1-2-0', 'zigzagSq-1-2-1']\n",
      "Deleting these columns with seqc in name: []\n",
      "Appended columns gridsize!\n",
      "... Generated these...\n",
      "self.BehTrialMapList [(1, 0)]\n",
      "self.BehTrialMapListGood {0: (0, 1), 1: (0, 2), 2: (0, 3), 3: (0, 4), 4: (0, 5), 5: (0, 6), 6: (0, 7), 7: (0, 8), 8: (0, 9), 9: (0, 10), 10: (0, 11), 11: (0, 12), 12: (0, 13), 13: (0, 14), 14: (0, 15), 15: (0, 16), 16: (0, 17), 17: (0, 18), 18: (0, 19), 19: (0, 20), 20: (0, 21), 21: (0, 22), 22: (0, 23), 23: (0, 24), 24: (0, 25), 25: (0, 26), 26: (0, 27), 27: (0, 28), 28: (0, 29), 29: (0, 30), 30: (0, 31), 31: (0, 32), 32: (0, 33), 33: (0, 34), 34: (0, 35), 35: (0, 36), 36: (0, 37), 37: (0, 38), 38: (0, 39), 39: (0, 40), 40: (0, 41), 41: (0, 42), 42: (0, 43), 43: (0, 44), 44: (0, 45), 45: (0, 46), 46: (0, 47), 47: (0, 48), 48: (0, 49), 49: (0, 50), 50: (0, 51), 51: (0, 52), 52: (0, 53), 53: (0, 54), 54: (0, 55), 55: (0, 56), 56: (0, 57), 57: (0, 58), 58: (0, 59), 59: (0, 60), 60: (0, 61), 61: (0, 62), 62: (0, 63), 63: (0, 64), 64: (0, 65), 65: (0, 66), 66: (0, 67), 67: (0, 68), 68: (0, 69), 69: (0, 70), 70: (0, 71), 71: (0, 72), 72: (0, 73), 73: (0, 74), 74: (0, 75), 75: (0, 76), 76: (0, 77), 77: (0, 78), 78: (0, 79), 79: (0, 80), 80: (0, 81), 81: (0, 82), 82: (0, 83), 83: (0, 84), 84: (0, 85), 85: (0, 86), 86: (0, 87), 87: (0, 88), 88: (0, 89), 89: (0, 90), 90: (0, 91), 91: (0, 92), 92: (0, 93), 93: (0, 94), 94: (0, 95), 95: (0, 96), 96: (0, 97), 97: (0, 98), 98: (0, 99), 99: (0, 100), 100: (0, 101), 101: (0, 102), 102: (0, 103), 103: (0, 104), 104: (0, 105), 105: (0, 106), 106: (0, 107), 107: (0, 108), 108: (0, 109), 109: (0, 110), 110: (0, 111), 111: (0, 112), 112: (0, 113), 113: (0, 114), 114: (0, 115), 115: (0, 116), 116: (0, 117), 117: (0, 118), 118: (0, 119), 119: (0, 120), 120: (0, 121), 121: (0, 122), 122: (0, 123), 123: (0, 124), 124: (0, 125), 125: (0, 126), 126: (0, 127), 127: (0, 128), 128: (0, 129), 129: (0, 130), 130: (0, 131), 131: (0, 132), 132: (0, 133), 133: (0, 134), 134: (0, 135), 135: (0, 136), 136: (0, 137), 137: (0, 138), 138: (0, 139), 139: (0, 140), 140: (0, 141), 141: (0, 142), 142: (0, 143), 143: (0, 144), 144: (0, 145), 145: (0, 146), 146: (0, 147), 147: (0, 148), 148: (0, 149), 149: (0, 150), 150: (0, 151), 151: (0, 152), 152: (0, 153), 153: (0, 154), 154: (0, 155), 155: (0, 156), 156: (0, 157), 157: (0, 158), 158: (0, 159), 159: (0, 160), 160: (0, 161), 161: (0, 162), 162: (0, 163), 163: (0, 164), 164: (0, 165), 165: (0, 166), 166: (0, 167), 167: (0, 168), 168: (0, 169), 169: (0, 170), 170: (0, 171), 171: (0, 172), 172: (0, 173), 173: (0, 174), 174: (0, 175), 175: (0, 176), 176: (0, 177), 177: (0, 178), 178: (0, 179), 179: (0, 180), 180: (0, 181), 181: (0, 182), 182: (0, 183), 183: (0, 184), 184: (0, 185), 185: (0, 186), 186: (0, 187), 187: (0, 188), 188: (0, 189), 189: (0, 190), 190: (0, 191), 191: (0, 192), 192: (0, 193), 193: (0, 194), 194: (0, 195), 195: (0, 196), 196: (0, 197), 197: (0, 198), 198: (0, 199), 199: (0, 200), 200: (0, 201), 201: (0, 202), 202: (0, 203), 203: (0, 204), 204: (0, 205), 205: (0, 206), 206: (0, 207), 207: (0, 208), 208: (0, 209), 209: (0, 210), 210: (0, 211), 211: (0, 212), 212: (0, 213), 213: (0, 214), 214: (0, 215), 215: (0, 216), 216: (0, 217), 217: (0, 218), 218: (0, 219), 219: (0, 220), 220: (0, 221), 221: (0, 222), 222: (0, 223), 223: (0, 224), 224: (0, 225), 225: (0, 226), 226: (0, 227), 227: (0, 228), 228: (0, 229), 229: (0, 230), 230: (0, 231), 231: (0, 232), 232: (0, 233), 233: (0, 234), 234: (0, 235), 235: (0, 236), 236: (0, 237), 237: (0, 238), 238: (0, 239), 239: (0, 240), 240: (0, 241), 241: (0, 242), 242: (0, 243), 243: (0, 244), 244: (0, 245), 245: (0, 246), 246: (0, 247), 247: (0, 248), 248: (0, 249), 249: (0, 250), 250: (0, 251), 251: (0, 252), 252: (0, 253), 253: (0, 254), 254: (0, 255), 255: (0, 256), 256: (0, 257), 257: (0, 258), 258: (0, 259), 259: (0, 260), 260: (0, 261), 261: (0, 262), 262: (0, 263), 263: (0, 264), 264: (0, 265), 265: (0, 266), 266: (0, 267), 267: (0, 268), 268: (0, 269), 269: (0, 270), 270: (0, 271), 271: (0, 272), 272: (0, 273), 273: (0, 274), 274: (0, 275), 275: (0, 276), 276: (0, 277), 277: (0, 278), 278: (0, 279), 279: (0, 280), 280: (0, 281), 281: (0, 282), 282: (0, 283), 283: (0, 284), 284: (0, 285), 285: (0, 286), 286: (0, 287), 287: (0, 288), 288: (0, 289), 289: (0, 290), 290: (0, 291), 291: (0, 292), 292: (0, 293), 293: (0, 294), 294: (0, 295), 295: (0, 296), 296: (0, 297), 297: (0, 298), 298: (0, 299), 299: (0, 300), 300: (0, 301), 301: (0, 302), 302: (0, 303), 303: (0, 304), 304: (0, 305), 305: (0, 306), 306: (0, 307), 307: (0, 308), 308: (0, 309), 309: (0, 310), 310: (0, 311), 311: (0, 312), 312: (0, 313), 313: (0, 314), 314: (0, 315), 315: (0, 316), 316: (0, 317), 317: (0, 318), 318: (0, 319), 319: (0, 320), 320: (0, 321), 321: (0, 322), 322: (0, 323), 323: (0, 324), 324: (0, 325), 325: (0, 326), 326: (0, 327), 327: (0, 328), 328: (0, 329), 329: (0, 330), 330: (0, 331), 331: (0, 332), 332: (0, 333), 333: (0, 334), 334: (0, 335), 335: (0, 336), 336: (0, 337), 337: (0, 338), 338: (0, 339), 339: (0, 340), 340: (0, 341), 341: (0, 342), 342: (0, 343), 343: (0, 344), 344: (0, 345), 345: (0, 346), 346: (0, 347), 347: (0, 348), 348: (0, 349), 349: (0, 350), 350: (0, 351), 351: (0, 352), 352: (0, 353), 353: (0, 354), 354: (0, 355), 355: (0, 356), 356: (0, 357), 357: (0, 358), 358: (0, 359), 359: (0, 360), 360: (0, 361), 361: (0, 362), 362: (0, 363), 363: (0, 364), 364: (0, 365), 365: (0, 366), 366: (0, 367), 367: (0, 368), 368: (0, 369), 369: (0, 370), 370: (0, 371), 371: (0, 372), 372: (0, 373), 373: (0, 374), 374: (0, 375), 375: (0, 376), 376: (0, 377), 377: (0, 378), 378: (0, 379), 379: (0, 380), 380: (0, 381), 381: (0, 382), 382: (0, 383), 383: (0, 384), 384: (0, 385), 385: (0, 386), 386: (0, 387), 387: (0, 388), 388: (0, 389), 389: (0, 390), 390: (0, 391), 391: (0, 392), 392: (0, 393), 393: (0, 394), 394: (0, 395), 395: (0, 396), 396: (0, 397), 397: (0, 398), 398: (0, 399), 399: (0, 400), 400: (0, 401), 401: (0, 402), 402: (0, 403), 403: (0, 404), 404: (0, 405), 405: (0, 406), 406: (0, 407), 407: (0, 408), 408: (0, 409), 409: (0, 410), 410: (0, 411), 411: (0, 412), 412: (0, 413), 413: (0, 414), 414: (0, 415), 415: (0, 416), 416: (0, 417), 417: (0, 418), 418: (0, 419), 419: (0, 420), 420: (0, 421), 421: (0, 422), 422: (0, 423), 423: (0, 424), 424: (0, 425), 425: (0, 426), 426: (0, 427), 427: (0, 428), 428: (0, 429), 429: (0, 430), 430: (0, 431), 431: (0, 432), 432: (0, 433), 433: (0, 434), 434: (0, 435), 435: (0, 436), 436: (0, 437), 437: (0, 438), 438: (0, 439), 439: (0, 440), 440: (0, 441), 441: (0, 442), 442: (0, 443), 443: (0, 444), 444: (0, 445), 445: (0, 446), 446: (0, 447), 447: (0, 448), 448: (0, 449), 449: (0, 450), 450: (0, 451), 451: (0, 452), 452: (0, 453), 453: (0, 454), 454: (0, 455), 455: (0, 456), 456: (0, 457), 457: (0, 458), 458: (0, 459), 459: (0, 460), 460: (0, 461), 461: (0, 462), 462: (0, 463), 463: (0, 464), 464: (0, 465), 465: (0, 466), 466: (0, 467), 467: (0, 468), 468: (0, 469), 469: (0, 470), 470: (0, 471), 471: (0, 472), 472: (0, 473), 473: (0, 474), 474: (0, 475), 475: (0, 476), 476: (0, 477), 477: (0, 478), 478: (0, 479), 479: (0, 480), 480: (0, 481), 481: (0, 482), 482: (0, 483), 483: (0, 484), 484: (0, 485), 485: (0, 486), 486: (0, 487), 487: (0, 488), 488: (0, 489), 489: (0, 490), 490: (0, 491), 491: (0, 492), 492: (0, 493), 493: (0, 494), 494: (0, 495), 495: (0, 496), 496: (0, 497), 497: (0, 498), 498: (0, 499), 499: (0, 500), 500: (0, 501), 501: (0, 502), 502: (0, 503), 503: (0, 504), 504: (0, 505), 505: (0, 506), 506: (0, 507), 507: (0, 508), 508: (0, 509), 509: (0, 510), 510: (0, 511), 511: (0, 512), 512: (0, 513), 513: (0, 514), 514: (0, 515), 515: (0, 516), 516: (0, 517), 517: (0, 518), 518: (0, 519), 519: (0, 520), 520: (0, 521), 521: (0, 522), 522: (0, 523), 523: (0, 524), 524: (0, 525), 525: (0, 526), 526: (0, 527), 527: (0, 528), 528: (0, 529), 529: (0, 530), 530: (0, 531), 531: (0, 532), 532: (0, 533), 533: (0, 534), 534: (0, 535), 535: (0, 536), 536: (0, 537), 537: (0, 538), 538: (0, 539), 539: (0, 540), 540: (0, 541), 541: (0, 542), 542: (0, 543), 543: (0, 544), 544: (0, 545), 545: (0, 546), 546: (0, 547), 547: (0, 548), 548: (0, 549), 549: (0, 550), 550: (0, 551), 551: (0, 552), 552: (0, 553), 553: (0, 554), 554: (0, 555), 555: (0, 556), 556: (0, 557), 557: (0, 558), 558: (0, 559), 559: (0, 560), 560: (0, 561), 561: (0, 562), 562: (0, 563), 563: (0, 564), 564: (0, 565), 565: (0, 566), 566: (0, 567), 567: (0, 568), 568: (0, 569), 569: (0, 570), 570: (0, 571), 571: (0, 572), 572: (0, 573), 573: (0, 574), 574: (0, 575), 575: (0, 576), 576: (0, 577), 577: (0, 578), 578: (0, 579), 579: (0, 580), 580: (0, 581), 581: (0, 582), 582: (0, 583), 583: (0, 584), 584: (0, 585), 585: (0, 586), 586: (0, 587), 587: (0, 588), 588: (0, 589), 589: (0, 590), 590: (0, 591), 591: (0, 592), 592: (0, 593), 593: (0, 594), 594: (0, 595), 595: (0, 596), 596: (0, 597), 597: (0, 598), 598: (0, 599), 599: (0, 600), 600: (0, 601), 601: (0, 602), 602: (0, 603), 603: (0, 604), 604: (0, 605), 605: (0, 606), 606: (0, 607), 607: (0, 608), 608: (0, 609), 609: (0, 610), 610: (0, 611), 611: (0, 612), 612: (0, 613), 613: (0, 614), 614: (0, 615), 615: (0, 616), 616: (0, 617), 617: (0, 618), 618: (0, 619), 619: (0, 620), 620: (0, 621), 621: (0, 622), 622: (0, 623), 623: (0, 624), 624: (0, 625), 625: (0, 626), 626: (0, 627), 627: (0, 628), 628: (0, 629), 629: (0, 630), 630: (0, 631), 631: (0, 632), 632: (0, 633), 633: (0, 634), 634: (0, 635), 635: (0, 636), 636: (0, 637), 637: (0, 638), 638: (0, 639), 639: (0, 640), 640: (0, 641), 641: (0, 642), 642: (0, 643), 643: (0, 644), 644: (0, 645), 645: (0, 646), 646: (0, 647), 647: (0, 648), 648: (0, 649), 649: (0, 650), 650: (0, 651), 651: (0, 652), 652: (0, 653), 653: (0, 654), 654: (0, 655), 655: (0, 656), 656: (0, 657), 657: (0, 658), 658: (0, 659), 659: (0, 660), 660: (0, 661), 661: (0, 662), 662: (0, 663), 663: (0, 664), 664: (0, 665), 665: (0, 666), 666: (0, 667), 667: (0, 668), 668: (0, 669), 669: (0, 670), 670: (0, 671), 671: (0, 672), 672: (0, 673), 673: (0, 674), 674: (0, 675), 675: (0, 676), 676: (0, 677), 677: (0, 678), 678: (0, 679), 679: (0, 680), 680: (0, 681), 681: (0, 682), 682: (0, 683), 683: (0, 684), 684: (0, 685), 685: (0, 686), 686: (0, 687), 687: (0, 688), 688: (0, 689), 689: (0, 690), 690: (0, 691), 691: (0, 692), 692: (0, 693), 693: (0, 694), 694: (0, 695), 695: (0, 696), 696: (0, 697), 697: (0, 698), 698: (0, 699), 699: (0, 700), 700: (0, 701), 701: (0, 702), 702: (0, 703), 703: (0, 704), 704: (0, 705), 705: (0, 706), 706: (0, 707), 707: (0, 708), 708: (0, 709), 709: (0, 710), 710: (0, 711), 711: (0, 712), 712: (0, 713), 713: (0, 714), 714: (0, 715), 715: (0, 716), 716: (0, 717), 717: (0, 718), 718: (0, 719), 719: (0, 720), 720: (0, 721), 721: (0, 722), 722: (0, 723), 723: (0, 724), 724: (0, 725), 725: (0, 726), 726: (0, 727), 727: (0, 728), 728: (0, 729), 729: (0, 730), 730: (0, 731), 731: (0, 732), 732: (0, 733), 733: (0, 734), 734: (0, 735), 735: (0, 736), 736: (0, 737), 737: (0, 738), 738: (0, 739), 739: (0, 740), 740: (0, 741), 741: (0, 742), 742: (0, 743), 743: (0, 744), 744: (0, 745), 745: (0, 746), 746: (0, 747), 747: (0, 748), 748: (0, 749), 749: (0, 750), 750: (0, 751), 751: (0, 752), 752: (0, 753), 753: (0, 754), 754: (0, 755), 755: (0, 756), 756: (0, 757), 757: (0, 758), 758: (0, 759), 759: (0, 760), 760: (0, 761), 761: (0, 762), 762: (0, 763), 763: (0, 764), 764: (0, 765), 765: (0, 766), 766: (0, 767), 767: (0, 768), 768: (0, 769), 769: (0, 770), 770: (0, 771), 771: (0, 772), 772: (0, 773), 773: (0, 774), 774: (0, 775), 775: (0, 776), 776: (0, 777), 777: (0, 778), 778: (0, 779), 779: (0, 780), 780: (0, 781), 781: (0, 782), 782: (0, 783), 783: (0, 784), 784: (0, 785), 785: (0, 786), 786: (0, 787), 787: (0, 788), 788: (0, 789), 789: (0, 790), 790: (0, 791), 791: (0, 792), 792: (0, 793), 793: (0, 794), 794: (0, 795), 795: (0, 796), 796: (0, 797), 797: (0, 798), 798: (0, 799), 799: (0, 800), 800: (0, 801), 801: (0, 802), 802: (0, 803), 803: (0, 804), 804: (0, 805), 805: (0, 806), 806: (0, 807), 807: (0, 808), 808: (0, 809), 809: (0, 810), 810: (0, 811), 811: (0, 812), 812: (0, 813), 813: (0, 814), 814: (0, 815), 815: (0, 816), 816: (0, 817), 817: (0, 818), 818: (0, 819), 819: (0, 820), 820: (0, 821), 821: (0, 822), 822: (0, 823), 823: (0, 824), 824: (0, 825), 825: (0, 826), 826: (0, 827), 827: (0, 828), 828: (0, 829), 829: (0, 830), 830: (0, 831), 831: (0, 832), 832: (0, 833), 833: (0, 834), 834: (0, 835), 835: (0, 836), 836: (0, 837), 837: (0, 838), 838: (0, 839), 839: (0, 840), 840: (0, 841), 841: (0, 842), 842: (0, 843), 843: (0, 844), 844: (0, 845), 845: (0, 846), 846: (0, 847), 847: (0, 848), 848: (0, 849), 849: (0, 850), 850: (0, 851), 851: (0, 852), 852: (0, 853), 853: (0, 854), 854: (0, 855), 855: (0, 856), 856: (0, 857), 857: (0, 858), 858: (0, 859), 859: (0, 860), 860: (0, 861), 861: (0, 862), 862: (0, 863), 863: (0, 864), 864: (0, 865), 865: (0, 866), 866: (0, 867), 867: (0, 868), 868: (0, 869), 869: (0, 870), 870: (0, 871), 871: (0, 872), 872: (0, 873), 873: (0, 874), 874: (0, 875), 875: (0, 876), 876: (0, 877), 877: (0, 878), 878: (0, 879), 879: (0, 880), 880: (0, 881), 881: (0, 882), 882: (0, 883), 883: (0, 884), 884: (0, 885), 885: (0, 886), 886: (0, 887), 887: (0, 888), 888: (0, 889), 889: (0, 890), 890: (0, 891), 891: (0, 892), 892: (0, 893), 893: (0, 894), 894: (0, 895), 895: (0, 896), 896: (0, 897), 897: (0, 898), 898: (0, 899), 899: (0, 900), 900: (0, 901), 901: (0, 902), 902: (0, 903), 903: (0, 904), 904: (0, 905), 905: (0, 906), 906: (0, 907), 907: (0, 908), 908: (0, 909), 909: (0, 910), 910: (0, 911), 911: (0, 912), 912: (0, 913), 913: (0, 914), 914: (0, 915), 915: (0, 916), 916: (0, 917), 917: (0, 918), 918: (0, 919), 919: (0, 920), 920: (0, 921), 921: (0, 922), 922: (0, 923), 923: (0, 924), 924: (0, 925), 925: (0, 926), 926: (0, 927), 927: (0, 928), 928: (0, 929), 929: (0, 930), 930: (0, 931), 931: (0, 932), 932: (0, 933), 933: (0, 934), 934: (0, 935), 935: (0, 936), 936: (0, 937), 937: (0, 938), 938: (0, 939), 939: (0, 940), 940: (0, 941), 941: (0, 942), 942: (0, 943), 943: (0, 944), 944: (0, 945), 945: (0, 946), 946: (0, 947), 947: (0, 948), 948: (0, 949), 949: (0, 950), 950: (0, 951), 951: (0, 952), 952: (0, 953), 953: (0, 954), 954: (0, 955), 955: (0, 956), 956: (0, 957), 957: (0, 958), 958: (0, 959), 959: (0, 960), 960: (0, 961), 961: (0, 962), 962: (0, 963), 963: (0, 964), 964: (0, 965), 965: (0, 966), 966: (0, 967), 967: (0, 968), 968: (0, 969), 969: (0, 970), 970: (0, 971), 971: (0, 972), 972: (0, 973), 973: (0, 974), 974: (0, 975), 975: (0, 976), 976: (0, 977), 977: (0, 978), 978: (0, 979), 979: (0, 980), 980: (0, 981), 981: (0, 982), 982: (0, 983), 983: (0, 984), 984: (0, 985), 985: (0, 986), 986: (0, 987), 987: (0, 988), 988: (0, 989), 989: (0, 990), 990: (0, 991), 991: (0, 992), 992: (0, 993), 993: (0, 994), 994: (0, 995), 995: (0, 996), 996: (0, 997), 997: (0, 998), 998: (0, 999), 999: (0, 1000), 1000: (0, 1001), 1001: (0, 1002), 1002: (0, 1003), 1003: (0, 1004), 1004: (0, 1005), 1005: (0, 1006), 1006: (0, 1007), 1007: (0, 1008), 1008: (0, 1009), 1009: (0, 1010), 1010: (0, 1011), 1011: (0, 1012), 1012: (0, 1013), 1013: (0, 1014), 1014: (0, 1015), 1015: (0, 1016), 1016: (0, 1017), 1017: (0, 1018), 1018: (0, 1019), 1019: (0, 1020), 1020: (0, 1021), 1021: (0, 1022), 1022: (0, 1023), 1023: (0, 1024), 1024: (0, 1025), 1025: (0, 1026), 1026: (0, 1027), 1027: (0, 1028), 1028: (0, 1029), 1029: (0, 1030), 1030: (0, 1031), 1031: (0, 1032), 1032: (0, 1033), 1033: (0, 1034), 1034: (0, 1035), 1035: (0, 1036), 1036: (0, 1037), 1037: (0, 1038), 1038: (0, 1039), 1039: (0, 1040), 1040: (0, 1041), 1041: (0, 1042), 1042: (0, 1043), 1043: (0, 1044), 1044: (0, 1045), 1045: (0, 1046), 1046: (0, 1047), 1047: (0, 1048), 1048: (0, 1049), 1049: (0, 1050), 1050: (0, 1051), 1051: (0, 1052), 1052: (0, 1053), 1053: (0, 1054), 1054: (0, 1055), 1055: (0, 1056), 1056: (0, 1057), 1057: (0, 1058), 1058: (0, 1059), 1059: (0, 1060), 1060: (0, 1061), 1061: (0, 1062), 1062: (0, 1063), 1063: (0, 1064), 1064: (0, 1065), 1065: (0, 1066), 1066: (0, 1067), 1067: (0, 1068), 1068: (0, 1069), 1069: (0, 1070), 1070: (0, 1071), 1071: (0, 1072), 1072: (0, 1073), 1073: (0, 1074), 1074: (0, 1075), 1075: (0, 1076), 1076: (0, 1077), 1077: (0, 1078), 1078: (0, 1079), 1079: (0, 1080), 1080: (0, 1081), 1081: (0, 1082), 1082: (0, 1083), 1083: (0, 1084), 1084: (0, 1085), 1085: (0, 1086), 1086: (0, 1087), 1087: (0, 1088), 1088: (0, 1089), 1089: (0, 1090), 1090: (0, 1091), 1091: (0, 1092), 1092: (0, 1093), 1093: (0, 1094), 1094: (0, 1095), 1095: (0, 1096), 1096: (0, 1097), 1097: (0, 1098), 1098: (0, 1099), 1099: (0, 1100), 1100: (0, 1101), 1101: (0, 1102), 1102: (0, 1103), 1103: (0, 1104), 1104: (0, 1105), 1105: (0, 1106), 1106: (0, 1107), 1107: (0, 1108), 1108: (0, 1109), 1109: (0, 1110), 1110: (0, 1111), 1111: (0, 1112), 1112: (0, 1113), 1113: (0, 1114), 1114: (0, 1115), 1115: (0, 1116), 1116: (0, 1117), 1117: (0, 1118), 1118: (0, 1119), 1119: (0, 1120), 1120: (0, 1121), 1121: (0, 1122), 1122: (0, 1123), 1123: (0, 1124), 1124: (0, 1125), 1125: (0, 1126), 1126: (0, 1127), 1127: (0, 1128), 1128: (0, 1129), 1129: (0, 1130), 1130: (0, 1131), 1131: (0, 1132), 1132: (0, 1133), 1133: (0, 1134), 1134: (0, 1135), 1135: (0, 1136), 1136: (0, 1137), 1137: (0, 1138), 1138: (0, 1139), 1139: (0, 1140), 1140: (0, 1141), 1141: (0, 1142), 1142: (0, 1143), 1143: (0, 1144), 1144: (0, 1145), 1145: (0, 1146), 1146: (0, 1147), 1147: (0, 1148), 1148: (0, 1149), 1149: (0, 1150), 1150: (0, 1151), 1151: (0, 1152), 1152: (0, 1153), 1153: (0, 1154), 1154: (0, 1155)}\n",
      "Generated self._MapperTrialcode2TrialToTrial!\n",
      "- Keeping only dataset trials that exist in neural\n",
      "Starting length:  648\n",
      "Ending length:  648\n",
      "**Loaded dataset! daily\n",
      "Pruning events in EventsTimeUsingPhd to exclude those using datasetbeh strokes...\n",
      "Extracted into self.Dat[epoch_orig]\n",
      "-- loaded presaved data: /home/lucas/mnt/Freiwald_kgupta/kgupta/macaque_data/Diego/230630/230630_124530_primsingridfixed6fDiego_Diego_1.pkl\n",
      "Searching using this string:\n",
      "/home/lucas/mnt/Freiwald/ltian/recordings/*Diego*/*230630*/**\n",
      "Found this many paths:\n",
      "1\n",
      "---\n",
      "/home/lucas/mnt/Freiwald/ltian/recordings/Diego/230630/Diego-230630-124955\n",
      "Searching using this string:\n",
      "/home/lucas/mnt/Freiwald_kgupta/kgupta/neural_data/*Diego*/*230630*/*Diego*230630**\n",
      "Found this many paths:\n",
      "1\n",
      "---\n",
      "/home/lucas/mnt/Freiwald_kgupta/kgupta/neural_data/Diego/230630/Diego-230630-124955\n",
      "These durations gotten for sessions...\n",
      "...  _durations_each_sess_using_tank : [14115.359024]\n",
      "...  onsets_using_rs4_each_rs : {2: [0.0], 3: [0.0]}\n",
      "...  offsets_using_rs4_each_rs : {2: [14115.46427392], 3: [14115.46427392]}\n",
      "...  durations_each_sess_rs4_keyed_by_rs : {2: [14115.46427392], 3: [14115.46427392]}\n",
      "...  duration_total_kilosort_dict_each_rs : {2: 14115.46427392, 3: 14115.46427392}\n",
      "...  duration_total_by_summing_rs4_dict : {2: 14115.46427392, 3: 14115.46427392}\n",
      "1000\n",
      "1001\n",
      "1002\n",
      "1003\n",
      "1004\n",
      "1005\n",
      "1006\n",
      "1007\n",
      "1008\n",
      "1009\n",
      "1010\n",
      "1011\n",
      "1012\n",
      "1013\n",
      "1014\n",
      "1015\n",
      "1016\n",
      "1017\n",
      "1018\n",
      "1019\n",
      "1020\n",
      "1021\n",
      "1022\n",
      "1023\n",
      "1024\n",
      "1025\n",
      "1026\n",
      "1027\n",
      "1028\n",
      "1029\n",
      "1030\n",
      "1031\n",
      "1032\n",
      "1033\n",
      "1034\n",
      "1035\n",
      "1036\n",
      "1037\n",
      "1038\n",
      "1039\n",
      "1040\n",
      "1041\n",
      "1042\n",
      "1043\n",
      "1044\n",
      "1045\n",
      "1046\n",
      "1047\n",
      "1048\n",
      "1049\n",
      "1050\n",
      "1051\n",
      "1052\n",
      "1053\n",
      "1054\n",
      "1055\n",
      "1056\n",
      "1057\n",
      "1058\n",
      "1059\n",
      "1060\n",
      "1061\n",
      "1062\n",
      "1063\n",
      "1064\n",
      "1065\n",
      "1066\n",
      "1067\n",
      "1068\n",
      "1069\n",
      "1070\n",
      "1071\n",
      "1072\n",
      "1073\n",
      "1074\n",
      "1075\n",
      "1076\n",
      "1077\n",
      "1078\n",
      "1079\n",
      "1080\n",
      "1081\n",
      "1082\n",
      "1083\n",
      "1084\n",
      "1085\n",
      "1086\n",
      "1087\n",
      "1088\n",
      "1089\n",
      "1090\n",
      "1091\n",
      "1092\n",
      "1093\n",
      "1094\n",
      "1095\n",
      "1096\n",
      "1097\n",
      "1098\n",
      "1099\n",
      "1100\n",
      "1101\n",
      "1102\n",
      "1103\n",
      "1104\n",
      "1105\n",
      "1106\n",
      "1107\n",
      "1108\n",
      "1109\n",
      "1110\n",
      "1111\n",
      "1112\n",
      "1113\n",
      "1114\n",
      "1115\n",
      "1116\n",
      "1117\n",
      "1118\n",
      "1119\n",
      "1120\n",
      "1121\n",
      "1122\n",
      "1123\n",
      "1124\n",
      "1125\n",
      "1126\n",
      "1127\n",
      "1128\n",
      "1129\n",
      "1130\n",
      "1131\n",
      "1132\n",
      "1133\n",
      "1134\n",
      "1135\n",
      "1136\n",
      "1137\n",
      "1138\n",
      "1139\n",
      "1140\n",
      "1141\n",
      "1142\n",
      "1143\n",
      "1144\n",
      "1145\n",
      "1146\n",
      "1147\n",
      "1148\n",
      "1149\n",
      "1150\n",
      "1151\n",
      "1152\n",
      "1153\n",
      "1154\n",
      "1155\n",
      "1156\n",
      "1157\n",
      "1158\n",
      "1159\n",
      "1160\n",
      "1161\n",
      "1162\n",
      "1163\n",
      "1164\n",
      "1165\n",
      "1166\n",
      "1167\n",
      "1168\n",
      "1169\n",
      "1170\n",
      "1171\n",
      "1172\n",
      "1173\n",
      "1174\n",
      "1175\n",
      "1176\n",
      "1177\n",
      "1178\n",
      "1179\n",
      "1180\n",
      "1181\n",
      "1182\n",
      "1183\n",
      "1184\n",
      "1185\n",
      "1186\n",
      "1187\n",
      "1188\n",
      "1189\n",
      "1190\n",
      "1191\n",
      "1192\n",
      "1193\n",
      "1194\n",
      "1195\n",
      "1196\n",
      "1197\n",
      "1198\n",
      "1199\n",
      "1200\n",
      "1201\n",
      "1202\n",
      "1203\n",
      "1204\n",
      "1205\n",
      "1206\n",
      "1207\n",
      "1208\n",
      "1209\n",
      "1210\n",
      "1211\n",
      "1212\n",
      "1213\n",
      "1214\n",
      "1215\n",
      "1216\n",
      "1217\n",
      "1218\n",
      "1219\n",
      "1220\n",
      "1221\n",
      "1222\n",
      "1223\n",
      "1224\n",
      "1225\n",
      "1226\n",
      "1227\n",
      "1228\n",
      "1229\n",
      "1230\n",
      "1231\n",
      "1232\n",
      "1233\n",
      "1234\n",
      "1235\n",
      "1236\n",
      "1237\n",
      "1238\n",
      "1239\n",
      "1240\n",
      "1241\n",
      "1242\n",
      "1243\n",
      "1244\n",
      "1245\n",
      "1246\n",
      "1247\n",
      "1248\n",
      "1249\n",
      "1250\n",
      "1251\n",
      "1252\n",
      "1253\n",
      "1254\n",
      "1255\n",
      "1256\n",
      "1257\n",
      "1258\n",
      "1259\n",
      "1260\n",
      "1261\n",
      "1262\n",
      "1263\n",
      "1264\n",
      "1265\n",
      "1266\n",
      "1267\n",
      "1268\n",
      "1269\n",
      "1270\n",
      "1271\n",
      "1272\n",
      "1273\n",
      "1274\n",
      "1275\n",
      "1276\n",
      "1277\n",
      "1278\n",
      "1279\n",
      "1280\n",
      "1281\n",
      "1282\n",
      "1283\n",
      "1284\n",
      "1285\n",
      "1286\n",
      "1287\n",
      "1288\n",
      "1289\n",
      "1290\n",
      "1291\n",
      "1292\n",
      "1293\n",
      "1294\n",
      "1295\n",
      "1296\n",
      "1297\n",
      "1298\n",
      "1299\n",
      "1300\n",
      "1301\n",
      "1302\n",
      "1303\n",
      "1304\n",
      "1305\n",
      "1306\n",
      "1307\n",
      "1308\n",
      "1309\n",
      "1310\n",
      "1311\n",
      "1312\n",
      "1313\n",
      "1314\n",
      "1315\n",
      "1316\n",
      "1317\n",
      "1318\n",
      "1319\n",
      "1320\n",
      "1321\n",
      "1322\n",
      "1323\n",
      "1324\n",
      "1325\n",
      "1326\n",
      "1327\n",
      "1328\n",
      "1329\n",
      "1330\n",
      "1331\n",
      "1332\n",
      "1333\n",
      "1334\n",
      "1335\n",
      "1336\n",
      "1337\n",
      "1338\n",
      "1339\n",
      "1340\n",
      "1341\n",
      "1342\n",
      "1343\n",
      "1344\n",
      "1345\n",
      "1346\n",
      "1347\n",
      "1348\n",
      "1349\n",
      "1350\n",
      "1351\n",
      "1352\n",
      "1353\n",
      "1354\n",
      "1355\n",
      "1356\n",
      "1357\n",
      "1358\n",
      "1359\n",
      "1360\n",
      "1361\n",
      "1362\n",
      "1363\n",
      "1364\n",
      "1365\n",
      "1366\n",
      "1367\n",
      "1368\n",
      "1369\n",
      "1370\n",
      "1371\n",
      "1372\n",
      "1373\n",
      "1374\n",
      "1375\n",
      "1376\n",
      "1377\n",
      "1378\n",
      "1379\n",
      "1380\n",
      "1381\n",
      "1382\n",
      "1383\n",
      "1384\n",
      "1385\n",
      "1386\n",
      "1387\n",
      "1388\n",
      "1389\n",
      "1390\n",
      "1391\n",
      "1392\n",
      "1393\n",
      "1394\n",
      "1395\n",
      "1396\n",
      "1397\n",
      "1398\n",
      "1399\n",
      "1400\n",
      "1401\n",
      "1402\n",
      "1403\n",
      "1404\n",
      "1405\n",
      "1406\n",
      "1407\n",
      "1408\n",
      "1409\n",
      "1410\n",
      "1411\n",
      "1412\n",
      "1413\n",
      "1414\n",
      "1415\n",
      "1416\n",
      "1417\n",
      "1418\n",
      "1419\n",
      "1420\n",
      "1421\n",
      "1422\n",
      "1423\n",
      "1424\n",
      "1425\n",
      "1426\n",
      "1427\n",
      "1428\n",
      "1429\n",
      "1430\n",
      "1431\n",
      "1432\n",
      "1433\n",
      "1434\n",
      "1435\n",
      "1436\n",
      "1437\n",
      "1438\n",
      "1439\n",
      "1440\n",
      "1441\n",
      "1442\n",
      "1443\n",
      "1444\n",
      "1445\n",
      "1446\n",
      "Extracted successfully for session:  0\n",
      "Generated index mappers!\n"
     ]
    },
    {
     "data": {
      "image/png": "[encoded data removed]",
      "text/plain": [
       "<Figure size 640x480 with 1 Axes>"
      ]
     },
     "metadata": {},
     "output_type": "display_data"
    },
    {
     "data": {
      "image/png": "[encoded data removed]",
      "text/plain": [
       "<Figure size 640x480 with 1 Axes>"
      ]
     },
     "metadata": {},
     "output_type": "display_data"
    },
    {
     "data": {
      "image/png": "[encoded data removed]",
      "text/plain": [
       "<Figure size 640x480 with 1 Axes>"
      ]
     },
     "metadata": {},
     "output_type": "display_data"
    },
    {
     "data": {
      "image/png": "[encoded data removed]",
      "text/plain": [
       "<Figure size 640x480 with 1 Axes>"
      ]
     },
     "metadata": {},
     "output_type": "display_data"
    }
   ],
   "source": [
    "MS = load_mult_session_helper(DATE, animal, MINIMAL_LOADING=True, spikes_version=\"kilosort_if_exists\")   \n",
    "# MS = load_mult_session_helper(DATE, animal, MINIMAL_LOADING=True) \n"
   ]
  },
  {
   "cell_type": "code",
   "execution_count": null,
   "id": "f51c0e16",
   "metadata": {},
   "outputs": [],
   "source": [
    "# Load a single session\n",
    "sess = 1\n",
    "sn_KS = load_session_helper(DATE, rec_session=sess, animal=animal, MINIMAL_LOADING=True, spikes_version=\"kilosort\")\n",
    "\n",
    "# Load a single session\n",
    "sess = 1\n",
    "sn_TD = load_session_helper(DATE, rec_session=sess, animal=animal, MINIMAL_LOADING=True, spikes_version=\"tdt\")"
   ]
  },
  {
   "cell_type": "code",
   "execution_count": null,
   "id": "f1f5361ddee3803",
   "metadata": {
    "collapsed": false
   },
   "outputs": [],
   "source": [
    "# Load a single session (WITHOUT MINIMAL LOADING)\n",
    "sess = 0\n",
    "sn = load_session_helper(DATE, rec_session=sess, animal=animal, MINIMAL_LOADING=False, spikes_version=\"kilosort_if_exists\")\n"
   ]
  },
  {
   "cell_type": "code",
   "execution_count": 8,
   "id": "74a0599b",
   "metadata": {},
   "outputs": [
    {
     "ename": "TypeError",
     "evalue": "exists() missing 1 required positional argument: 'path'",
     "output_type": "error",
     "traceback": [
      "\u001b[0;31m---------------------------------------------------------------------------\u001b[0m",
      "\u001b[0;31mTypeError\u001b[0m                                 Traceback (most recent call last)",
      "Cell \u001b[0;32mIn[8], line 2\u001b[0m\n\u001b[1;32m      1\u001b[0m \u001b[38;5;28;01mimport\u001b[39;00m \u001b[38;5;21;01mos\u001b[39;00m\n\u001b[0;32m----> 2\u001b[0m \u001b[43mos\u001b[49m\u001b[38;5;241;43m.\u001b[39;49m\u001b[43mpath\u001b[49m\u001b[38;5;241;43m.\u001b[39;49m\u001b[43mexists\u001b[49m\u001b[43m(\u001b[49m\u001b[43m)\u001b[49m\n",
      "\u001b[0;31mTypeError\u001b[0m: exists() missing 1 required positional argument: 'path'"
     ]
    }
   ],
   "source": []
  },
  {
   "cell_type": "markdown",
   "id": "078960bb",
   "metadata": {},
   "source": [
    "### Devo - check whether fixations have been extracted fro this day"
   ]
  },
  {
   "cell_type": "code",
   "execution_count": 11,
   "id": "eb7404d5",
   "metadata": {},
   "outputs": [
    {
     "name": "stdout",
     "output_type": "stream",
     "text": [
      "False\n"
     ]
    }
   ],
   "source": [
    "for sn in MS.SessionsList:\n",
    "    print(sn.clusterfix_check_if_preprocessing_complete())"
   ]
  },
  {
   "cell_type": "markdown",
   "id": "c6ea8b19",
   "metadata": {},
   "source": [
    "### Merging kilosort and tdt, to maximize unit yield"
   ]
  },
  {
   "cell_type": "code",
   "execution_count": null,
   "id": "1681bbfd",
   "metadata": {},
   "outputs": [],
   "source": [
    "sn = MS.SessionsList[0]\n",
    "sn.DatAll[0]\n"
   ]
  },
  {
   "cell_type": "code",
   "execution_count": null,
   "id": "56503ff6",
   "metadata": {},
   "outputs": [],
   "source": [
    "sn.get_trials_list()"
   ]
  },
  {
   "cell_type": "code",
   "execution_count": null,
   "id": "904f921a",
   "metadata": {},
   "outputs": [],
   "source": [
    "sn.datall_TDT_KS_slice_single_bysite"
   ]
  },
  {
   "cell_type": "code",
   "execution_count": null,
   "id": "746a166a",
   "metadata": {},
   "outputs": [],
   "source": [
    "sn._datallTDT_slice_single(2,1, 378)\n"
   ]
  },
  {
   "cell_type": "code",
   "execution_count": null,
   "id": "2fa62e97",
   "metadata": {},
   "outputs": [],
   "source": [
    "1"
   ]
  },
  {
   "cell_type": "markdown",
   "id": "70b3db86a38b1a7",
   "metadata": {
    "collapsed": false
   },
   "source": [
    "# Debugging \"FULL LOADING MODE\" stuff"
   ]
  },
  {
   "cell_type": "code",
   "execution_count": null,
   "id": "77dbeb3156ea3b03",
   "metadata": {
    "collapsed": false
   },
   "outputs": [],
   "source": [
    "sn._MapperTrialcode2TrialToTrial"
   ]
  },
  {
   "cell_type": "code",
   "execution_count": null,
   "id": "4b0f52579572be4b",
   "metadata": {
    "collapsed": false
   },
   "outputs": [],
   "source": [
    "sn.get_trials_list(True)"
   ]
  },
  {
   "cell_type": "code",
   "execution_count": null,
   "id": "bdcce0195175eff8",
   "metadata": {
    "collapsed": false
   },
   "outputs": [],
   "source": [
    "sn.events_get_time_using_photodiode()"
   ]
  },
  {
   "cell_type": "code",
   "execution_count": null,
   "id": "11fcdbe6b2d32ed0",
   "metadata": {
    "collapsed": false
   },
   "outputs": [],
   "source": [
    "sn.load_tdt_tank(include_streams=True, force_reload_from_raw=True)"
   ]
  },
  {
   "cell_type": "code",
   "execution_count": null,
   "id": "a22ee715fc0a0037",
   "metadata": {
    "collapsed": false
   },
   "outputs": [],
   "source": [
    "sn.DatTank[\"streams\"][\"\"]"
   ]
  },
  {
   "cell_type": "code",
   "execution_count": null,
   "id": "53fae8512e6ac425",
   "metadata": {
    "collapsed": false
   },
   "outputs": [],
   "source": [
    "sn.DatTank[\"streams\"]"
   ]
  },
  {
   "cell_type": "code",
   "execution_count": null,
   "id": "776619fd18d1f949",
   "metadata": {
    "collapsed": false
   },
   "outputs": [],
   "source": [
    "sn.events_get_time_using_photodiode_and_save()"
   ]
  },
  {
   "cell_type": "code",
   "execution_count": null,
   "id": "16630c8688911a62",
   "metadata": {
    "collapsed": false
   },
   "outputs": [],
   "source": [
    "SN = sn\n",
    "\n",
    "# save sanity checsk of pd crossings/events.\n",
    "SN.eventsdataframe_sanity_check()\n",
    "\n",
    "########## SAVE CACHED\n",
    "# ALways run this since it is quick\n",
    "SN._savelocalcached_extract()\n",
    "\n",
    "# save_datslices = not checkIfDirExistsAndHasFiles(path)[1] # save if not already done.\n",
    "save_datslices = not SN._savelocalcached_checksaved_datslice()\n",
    "# then already extracted\n",
    "\n",
    "SN._savelocalcached_save(save_datslices=save_datslices)\n",
    "\n",
    "# Then delete the old data, as is redundant with the cached local\n",
    "if SN._savelocalcached_check_done():\n",
    "    print(\"DELETING, becuause they are redundant with datslices:\")\n",
    "    print(SN.Paths[\"datall_local\"])\n",
    "    print(SN.Paths[\"spikes_local\"])\n",
    "    os.remove(SN.Paths[\"datall_local\"])\n",
    "    os.remove(SN.Paths[\"spikes_local\"])\n",
    "else:\n",
    "    assert False, \"should have all been extracted in _savelocalcached_save\"\n"
   ]
  },
  {
   "cell_type": "markdown",
   "id": "12631b061ac467d3",
   "metadata": {
    "collapsed": false
   },
   "source": [
    "# Kilosort debugging"
   ]
  },
  {
   "cell_type": "markdown",
   "id": "ee0c87f22df6ef70",
   "metadata": {
    "collapsed": false
   },
   "source": [
    "### Compare ks to tdt "
   ]
  },
  {
   "cell_type": "code",
   "execution_count": null,
   "id": "9ddc83d52f0480e4",
   "metadata": {
    "collapsed": false
   },
   "outputs": [],
   "source": [
    "sn = MS.SessionsList[3]\n",
    "savedir = \"/tmp/ksgood\"\n",
    "sn.ks_plot_compare_tdt_to_kilosort(\"/tmp\")"
   ]
  },
  {
   "cell_type": "markdown",
   "id": "b243e91d42d017d9",
   "metadata": {
    "collapsed": false
   },
   "source": [
    "### Kilosort, get time global of start of current session, for extracting time of tdt spikes"
   ]
  },
  {
   "cell_type": "code",
   "execution_count": null,
   "id": "db826e09ac55b2ed",
   "metadata": {
    "collapsed": false
   },
   "outputs": [],
   "source": [
    "from neuralmonkey.utils.directory import rec_session_durations_extract_kilosort\n",
    "out = rec_session_durations_extract_kilosort(animal, DATE)\n",
    "print(\"-------------------------\")\n",
    "for k, v in out.items():\n",
    "    print(k, \" -- \", v)\n",
    "duration_total_using_rs4_dict\n",
    "\n",
    "sn_KS.spiketimes_ks_compute_timeglobal_thissession_start()\n",
    "# Sanity check, compare ks to tdt activity.\n",
    "sn_KS.datall_TDT_KS_slice_single_bysite(1412, 0)\n",
    "sn_KS.sitegetterKS_all_sites()\n",
    "sn."
   ]
  },
  {
   "cell_type": "markdown",
   "id": "5012cc5f8438b84",
   "metadata": {
    "collapsed": false
   },
   "source": [
    "### Overlay spikes onto raw data"
   ]
  },
  {
   "cell_type": "code",
   "execution_count": null,
   "id": "2d0893a9dadd77ce",
   "metadata": {
    "collapsed": false
   },
   "outputs": [],
   "source": [
    "sn_KS = MS.SessionsList[1]"
   ]
  },
  {
   "cell_type": "code",
   "execution_count": null,
   "id": "3280527153bb24ee",
   "metadata": {
    "collapsed": false
   },
   "outputs": [],
   "source": [
    "sn_KS.SPIKES_VERSION = \"kilosort\"\n",
    "sn_KS._SPIKES_VERSION_INPUTED = \"kilosort\""
   ]
  },
  {
   "cell_type": "code",
   "execution_count": null,
   "id": "60a734d87a014daf",
   "metadata": {
    "collapsed": false
   },
   "outputs": [],
   "source": [
    "sn_KS.sitegetterKS_all_sites()"
   ]
  },
  {
   "cell_type": "code",
   "execution_count": null,
   "id": "e1e1f74cf269179a",
   "metadata": {
    "collapsed": false
   },
   "outputs": [],
   "source": [
    "site = 1273\n",
    "trial = sn_KS.get_trials_list(True)[-2]\n",
    "print(sn_KS.sitegetterKS_thissite_info(site))"
   ]
  },
  {
   "cell_type": "code",
   "execution_count": null,
   "id": "e6a9ea6c4755d604",
   "metadata": {
    "collapsed": false
   },
   "outputs": [],
   "source": [
    "sn_KS.spiketimes_ks_compute_timeglobal_thissession_start()"
   ]
  },
  {
   "cell_type": "code",
   "execution_count": null,
   "id": "c03a93cf8068fdf4",
   "metadata": {
    "collapsed": false
   },
   "outputs": [],
   "source": [
    "\n",
    "twind_plot = None\n",
    "twind_plot = [0.2, 0.25]\n",
    "sn_KS.plot_raw_overlay_spikes_on_raw_filtered(site, trial, twind_plot)\n",
    "sn_KS.ks_plot_compare_overlaying_spikes_on_raw_filtered(site, trial)"
   ]
  },
  {
   "cell_type": "markdown",
   "id": "c2d860364ebc323f",
   "metadata": {
    "collapsed": false
   },
   "source": [
    "### Plot example raster"
   ]
  },
  {
   "cell_type": "code",
   "execution_count": null,
   "id": "5250b3684f5eef0a",
   "metadata": {
    "collapsed": false
   },
   "outputs": [],
   "source": [
    "for t in trials:\n",
    "    assert sn_KS.datasetbeh_trial_to_trialcode(t)==sn_TD.datasetbeh_trial_to_trialcode(t)\n",
    "    assert sn_KS.datasetbeh_trial_to_datidx(t)==sn_TD.datasetbeh_trial_to_datidx(t)\n",
    "    \n",
    "assert np.all(sn_TD.Datasetbeh.Dat[\"trialcode\"] == sn_KS.Datasetbeh.Dat[\"trialcode\"])"
   ]
  },
  {
   "cell_type": "code",
   "execution_count": null,
   "id": "abf21f9f831b6e8",
   "metadata": {
    "collapsed": false
   },
   "outputs": [],
   "source": [
    "sn_KS._CachedTrialOnset == sn_TD._CachedTrialOnset\n"
   ]
  },
  {
   "cell_type": "code",
   "execution_count": null,
   "id": "ac56ded7fe148092",
   "metadata": {
    "collapsed": false
   },
   "outputs": [],
   "source": [
    "sn_KS.RecPathBaseLocal"
   ]
  },
  {
   "cell_type": "code",
   "execution_count": null,
   "id": "ded95e6f1ca1fc0a",
   "metadata": {
    "collapsed": false
   },
   "outputs": [],
   "source": [
    "\n",
    "sn_KS._CachedTrialOnset "
   ]
  },
  {
   "cell_type": "code",
   "execution_count": null,
   "id": "6b37aa5978e88df9",
   "metadata": {
    "collapsed": false
   },
   "outputs": [],
   "source": [
    "site = 125\n",
    "trials = sn_TD.get_trials_list(True)\n",
    "sn_TD.plotwrapper_raster_multrials_onesite(trials[::15], site=site, plot_beh=False);"
   ]
  },
  {
   "cell_type": "code",
   "execution_count": null,
   "id": "58fa6dc09d31b7ac",
   "metadata": {
    "collapsed": false
   },
   "outputs": [],
   "source": [
    "site = 1127\n",
    "\n",
    "site = 7\n",
    "sn_KS.sitegetterKS_thissite_info(site)"
   ]
  },
  {
   "cell_type": "code",
   "execution_count": null,
   "id": "8c1f39f2e2e4a69",
   "metadata": {
    "collapsed": false
   },
   "outputs": [],
   "source": [
    "trials = sn_KS.get_trials_list(True)\n",
    "sn_KS.plotwrapper_raster_multrials_onesite(trials[::15], site=site, plot_beh=False);"
   ]
  },
  {
   "cell_type": "markdown",
   "id": "f0a90ce2",
   "metadata": {},
   "source": [
    "##### Fixation touch and done"
   ]
  },
  {
   "cell_type": "code",
   "execution_count": null,
   "id": "d9a9a35f",
   "metadata": {},
   "outputs": [],
   "source": [
    "trial = 813\n",
    "sn.beh_extract_touch_in_done_button(trial,  ploton=True)"
   ]
  },
  {
   "cell_type": "code",
   "execution_count": null,
   "id": "c75c1249",
   "metadata": {
    "scrolled": false
   },
   "outputs": [],
   "source": [
    "# sn.beh_extract_touch_in_fixation_square(trial, window_delta_pixels=48, ploton=True)\n",
    "trial = 114\n",
    "# sn.beh_extract_touch_in_fixation_square(trial, window_delta_pixels=52, ploton=True)\n",
    "times, touch = sn.beh_extract_touch_in_fixation_square(trial, ploton=True)\n",
    "\n"
   ]
  },
  {
   "cell_type": "markdown",
   "id": "9b5a956626143c9f",
   "metadata": {
    "collapsed": false
   },
   "source": [
    "# Debugging event extraction (e.g., photodiode)"
   ]
  },
  {
   "cell_type": "markdown",
   "id": "891e020c",
   "metadata": {},
   "source": [
    "##### Sanity checks across trialsm"
   ]
  },
  {
   "cell_type": "code",
   "execution_count": null,
   "id": "f0e8512e",
   "metadata": {},
   "outputs": [],
   "source": [
    "# Compare times of events, e..g, make sure done alway soccurs after \n",
    "for trial in sn.get_trials_list(True):\n",
    "    print(trial)\n",
    "    \n",
    "    tmp = sn.events_get_times_as_array(trial, [\"fixtch\", \"go\", \"doneb\"])\n",
    "    if np.isnan(tmp[2]):\n",
    "        continue\n",
    "    else:\n",
    "#         print(tmp[2] - tmp[1])\n",
    "        assert (tmp[2] - tmp[1])>0\n",
    "        "
   ]
  },
  {
   "cell_type": "code",
   "execution_count": null,
   "id": "5ea11ebb",
   "metadata": {},
   "outputs": [],
   "source": [
    "trial = 21\n",
    "event = \"fixtch\"\n",
    "for trial in sn.get_trials_list(True):\n",
    "    a = sn.events_get_time_using_photodiode(trial, list_events=[event])\n",
    "    b = sn.events_get_time_using_photodiode(trial, list_events=[event], do_reextract_even_if_saved=True)\n",
    "    print(trial, a, b, a==b)\n",
    "    if len(a[event])>0:\n",
    "        assert np.abs(a[event][0]-b[event][0])<0.01\n"
   ]
  },
  {
   "cell_type": "markdown",
   "id": "7de02161",
   "metadata": {},
   "source": [
    "##### Plot pd"
   ]
  },
  {
   "cell_type": "code",
   "execution_count": null,
   "id": "07d65e5c",
   "metadata": {
    "scrolled": false
   },
   "outputs": [],
   "source": [
    "%matplotlib inline\n",
    "trial = 13\n",
    "event = \"go\"\n",
    "sn.events_get_time_using_photodiode(trial, list_events=[event], plot_beh_code_stream = True, \n",
    "                                    do_reextract_even_if_saved=True)\n"
   ]
  },
  {
   "cell_type": "code",
   "execution_count": null,
   "id": "50d28669",
   "metadata": {},
   "outputs": [],
   "source": [
    "import numpy as np\n",
    "np.linspace(-0.015, 0.055, 50)"
   ]
  },
  {
   "cell_type": "code",
   "execution_count": null,
   "id": "323a9b05",
   "metadata": {},
   "outputs": [],
   "source": []
  },
  {
   "cell_type": "code",
   "execution_count": null,
   "id": "309dcb92",
   "metadata": {},
   "outputs": [],
   "source": [
    "np.linspace(-0.045, 0.045, )"
   ]
  },
  {
   "cell_type": "code",
   "execution_count": null,
   "id": "7508f2b2",
   "metadata": {},
   "outputs": [],
   "source": [
    "np.linspace(1,10)\n"
   ]
  },
  {
   "cell_type": "code",
   "execution_count": null,
   "id": "3efae11b",
   "metadata": {},
   "outputs": [],
   "source": [
    "print(10)"
   ]
  },
  {
   "cell_type": "code",
   "execution_count": null,
   "id": "e594c0b4",
   "metadata": {},
   "outputs": [],
   "source": [
    "sn.events_get_time_sorted(trial, [\"fixcue\", \"fixtch\"])[0]"
   ]
  },
  {
   "cell_type": "code",
   "execution_count": null,
   "id": "6d2746b4",
   "metadata": {},
   "outputs": [],
   "source": [
    "trial = 594\n",
    "%matplotlib inline\n",
    "\n",
    "sn.events_get_time_using_photodiode(trial, list_events=[event], plot_beh_code_stream = True, overwrite=True)"
   ]
  },
  {
   "cell_type": "markdown",
   "id": "ab429de9",
   "metadata": {},
   "source": [
    "##### Problem: fixtouch even before fixation cue onset"
   ]
  },
  {
   "cell_type": "code",
   "execution_count": null,
   "id": "aeec9b60",
   "metadata": {},
   "outputs": [],
   "source": [
    "# Solution: detect cases. call the onset the same time as fixcue onset."
   ]
  },
  {
   "cell_type": "code",
   "execution_count": null,
   "id": "d883a1aa",
   "metadata": {},
   "outputs": [],
   "source": [
    "for t in sn.get_trials_list(True):\n",
    "    if sn.beh_check_touching_fixation_square_during_onset(t):\n",
    "        print(t)"
   ]
  },
  {
   "cell_type": "code",
   "execution_count": null,
   "id": "5276daae",
   "metadata": {},
   "outputs": [],
   "source": [
    "touch.shape"
   ]
  },
  {
   "cell_type": "markdown",
   "id": "e631f79f",
   "metadata": {},
   "source": [
    "#### Plot"
   ]
  },
  {
   "cell_type": "code",
   "execution_count": null,
   "id": "b4bbd264",
   "metadata": {},
   "outputs": [],
   "source": [
    "sn.extract_data_tank_epocs(\"camtrialoff\")"
   ]
  },
  {
   "cell_type": "code",
   "execution_count": null,
   "id": "8d6ffb8e",
   "metadata": {},
   "outputs": [],
   "source": [
    "sn.DatTank[\"epocs\"]"
   ]
  },
  {
   "cell_type": "code",
   "execution_count": null,
   "id": "d6a5f0e5",
   "metadata": {},
   "outputs": [],
   "source": [
    "# sn.DatTank[\"streams\"][\"Mic1\"]\n",
    "# sn.DatTank[\"streams\"][\"PhD2\"]\n",
    "# sn.DatTank[\"streams\"][\"Eyee\"]\n",
    "sn.DatTank[\"streams\"][\"PhDi\"]"
   ]
  },
  {
   "cell_type": "code",
   "execution_count": null,
   "id": "9bb293e866159bce",
   "metadata": {
    "collapsed": false
   },
   "outputs": [],
   "source": [
    "%matplotlib inline\n",
    "sites = sn.sitegetterKS_all_sites()\n",
    "trial= 13\n",
    "sn.plotwrapper_raster_oneetrial_multsites(trial, sites[:10], overlay_trial_events=False,  overlay_trial_events_notpd=True)\n",
    "# sn.plotwrapper_raster_oneetrial_multsites(trial, sites[:10], overlay_trial_events=True,  overlay_trial_events_notpd=False)\n",
    "\n"
   ]
  },
  {
   "cell_type": "code",
   "execution_count": null,
   "id": "3b2cc87b",
   "metadata": {
    "scrolled": false
   },
   "outputs": [],
   "source": [
    "%matplotlib inline\n",
    "sites = sn.sitegetterKS_all_sites()\n",
    "trial= 21\n",
    "sn.plotwrapper_raster_oneetrial_multsites(trial, sites[:10], overlay_trial_events=False,  overlay_trial_events_notpd=True)\n",
    "# sn.plotwrapper_raster_oneetrial_multsites(trial, sites[:10], overlay_trial_events=True,  overlay_trial_events_notpd=False)\n",
    "\n"
   ]
  },
  {
   "cell_type": "code",
   "execution_count": null,
   "id": "0ecbd226",
   "metadata": {},
   "outputs": [],
   "source": [
    "trials = sn.get_trials_list(True, True)\n",
    "sites = sn.sitegetter_all()\n",
    "pre = -0.55\n",
    "post = -0.05\n",
    "sn.smoothedfr_extract_timewindow(trials, sites, \"first_raise\", pre, post)\n",
    "\n",
    "sn.events_get_time_using_photodiode(269, list_events=[\"first_raise\"], plot_beh_code_stream = True, overwrite=True)"
   ]
  },
  {
   "cell_type": "code",
   "execution_count": null,
   "id": "7c97e02c",
   "metadata": {},
   "outputs": [],
   "source": [
    "sn.plotwrapper_raster_oneetrial_multsites(269, sites[:10])"
   ]
  },
  {
   "cell_type": "code",
   "execution_count": null,
   "id": "06ad6138",
   "metadata": {},
   "outputs": [],
   "source": [
    "from neuralmonkey.scripts.analy_euclidian_dist_pop_script import plot_all_results_time_trajectories\n",
    "plot_all_results_time_trajectories()"
   ]
  },
  {
   "cell_type": "code",
   "execution_count": null,
   "id": "2a63d5f9",
   "metadata": {},
   "outputs": [],
   "source": []
  },
  {
   "cell_type": "markdown",
   "id": "e9852aa5",
   "metadata": {},
   "source": [
    "# Get times of events on each trial"
   ]
  },
  {
   "cell_type": "code",
   "execution_count": null,
   "id": "65715603",
   "metadata": {},
   "outputs": [],
   "source": [
    "SN = MS.SessionsList[0]\n",
    "SN.eventsdataframe_sanity_check()"
   ]
  },
  {
   "cell_type": "markdown",
   "id": "c96fbcaa",
   "metadata": {},
   "source": [
    "# [GOOD] Methods to preprocess data (to be clean)"
   ]
  },
  {
   "cell_type": "code",
   "execution_count": null,
   "id": "61fd6dc1",
   "metadata": {},
   "outputs": [],
   "source": [
    "sn = MS.SessionsList[0]"
   ]
  },
  {
   "cell_type": "code",
   "execution_count": null,
   "id": "8b09169d",
   "metadata": {},
   "outputs": [],
   "source": [
    "# 0. Spike singnal to noise."
   ]
  },
  {
   "cell_type": "code",
   "execution_count": null,
   "id": "76435fba",
   "metadata": {},
   "outputs": [],
   "source": [
    "# 1. Drift over time (spike waveform)"
   ]
  },
  {
   "cell_type": "code",
   "execution_count": null,
   "id": "15850130",
   "metadata": {},
   "outputs": [],
   "source": [
    "sn._CachedDatSlice.keys()"
   ]
  },
  {
   "cell_type": "code",
   "execution_count": null,
   "id": "7a72a8fc",
   "metadata": {},
   "outputs": [],
   "source": []
  },
  {
   "cell_type": "code",
   "execution_count": null,
   "id": "c67190db",
   "metadata": {},
   "outputs": [],
   "source": [
    "# 1. Drift (fr modulation)\n",
    "# TODO - how to effiicently get all trials x sites data?\n",
    "\n",
    "for site in sn.sitegetterKS_all_sites():\n",
    "    print(site)\n",
    "    for trial in sn.get_trials_list():\n",
    "        dat = sn.datall_TDT_KS_slice_single_bysite(site, trial)\n"
   ]
  },
  {
   "cell_type": "code",
   "execution_count": null,
   "id": "f7f9d187",
   "metadata": {},
   "outputs": [],
   "source": [
    "# 1. Drift over time (fr)\n",
    " \n",
    "site = sn.sitegetterKS_all_sites()[0]\n",
    "trial = sn.get_trials_list()[0]"
   ]
  },
  {
   "cell_type": "code",
   "execution_count": null,
   "id": "350bd1e2",
   "metadata": {},
   "outputs": [],
   "source": [
    "sn.sitestats_fr_get_and_save(save=False)"
   ]
  },
  {
   "cell_type": "code",
   "execution_count": null,
   "id": "4e16a0d2",
   "metadata": {},
   "outputs": [],
   "source": [
    "sn.sitestats_fr(site)"
   ]
  },
  {
   "cell_type": "code",
   "execution_count": null,
   "id": "135ec465",
   "metadata": {},
   "outputs": [],
   "source": [
    "dat = sn.datall_TDT_KS_slice_single_bysite(site, trial)\n",
    "\n",
    "dat[\"\"]"
   ]
  },
  {
   "cell_type": "code",
   "execution_count": null,
   "id": "e8114e35",
   "metadata": {},
   "outputs": [],
   "source": [
    "# 2. Outliers trials"
   ]
  },
  {
   "cell_type": "code",
   "execution_count": null,
   "id": "b13cdd00",
   "metadata": {},
   "outputs": [],
   "source": [
    "# 3. Low FR"
   ]
  },
  {
   "cell_type": "code",
   "execution_count": null,
   "id": "0cae053d",
   "metadata": {},
   "outputs": [],
   "source": [
    "# 4. Lack of modulation (fr)\n",
    "\n",
    "# get spike counts within windows\n",
    "\n",
    "\n",
    "\n",
    "# a. "
   ]
  },
  {
   "cell_type": "code",
   "execution_count": null,
   "id": "64ac01a9",
   "metadata": {},
   "outputs": [],
   "source": [
    "# 5. Kilosort, add it any missed chans (TDT)"
   ]
  },
  {
   "cell_type": "markdown",
   "id": "94d1f7fe",
   "metadata": {},
   "source": []
  }
 ],
 "metadata": {
  "kernelspec": {
   "display_name": "Python 3 (ipykernel)",
   "language": "python",
   "name": "python3"
  },
  "language_info": {
   "codemirror_mode": {
    "name": "ipython",
    "version": 3
   },
   "file_extension": ".py",
   "mimetype": "text/x-python",
   "name": "python",
   "nbconvert_exporter": "python",
   "pygments_lexer": "ipython3",
   "version": "3.8.18"
  }
 },
 "nbformat": 4,
 "nbformat_minor": 5
}
