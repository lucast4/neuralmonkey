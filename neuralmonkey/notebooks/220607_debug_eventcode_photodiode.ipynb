{
 "cells": [
  {
   "cell_type": "code",
   "execution_count": 1,
   "id": "6d084eb6",
   "metadata": {},
   "outputs": [
    {
     "data": {
      "text/plain": [
       "'\\n'"
      ]
     },
     "execution_count": 1,
     "metadata": {},
     "output_type": "execute_result"
    }
   ],
   "source": [
    "\"\"\"\n",
    "\"\"\""
   ]
  },
  {
   "cell_type": "code",
   "execution_count": 2,
   "id": "a0eeaf3c5c275eab",
   "metadata": {
    "collapsed": false
   },
   "outputs": [],
   "source": [
    "%load_ext autoreload\n",
    "%autoreload 2\n"
   ]
  },
  {
   "cell_type": "code",
   "execution_count": 3,
   "id": "d746b568",
   "metadata": {},
   "outputs": [],
   "source": [
    "from neuralmonkey.classes.session import Session\n",
    "import matplotlib.pyplot as plt\n",
    "from neuralmonkey.scripts.load_and_save_locally import load_and_preprocess_single_session\n",
    "import neuralmonkey.utils.monkeylogic as mkl\n",
    "from neuralmonkey.classes.session import load_session_helper, load_mult_session_helper\n",
    "import os\n",
    "import numpy as np\n",
    "import matplotlib.pyplot as plt"
   ]
  },
  {
   "cell_type": "code",
   "execution_count": 4,
   "id": "7ca77dc17e000235",
   "metadata": {
    "collapsed": false
   },
   "outputs": [],
   "source": [
    "import numpy as np"
   ]
  },
  {
   "cell_type": "code",
   "execution_count": 5,
   "id": "6dfb0cae",
   "metadata": {},
   "outputs": [],
   "source": [
    "# DATE = 231218\n",
    "# animal = \"Diego\"\n",
    "\n",
    "DATE = 240516\n",
    "animal = \"Pancho\"\n"
   ]
  },
  {
   "cell_type": "code",
   "execution_count": 13,
   "id": "8c2711e9",
   "metadata": {},
   "outputs": [
    {
     "name": "stdout",
     "output_type": "stream",
     "text": [
      "Searching using this string:\n",
      "/home/lucas/mnt/Freiwald/ltian/recordings/*Pancho*/*240516*/**\n",
      "Found this many paths:\n",
      "2\n",
      "---\n",
      "/home/lucas/mnt/Freiwald/ltian/recordings/Pancho/240516/Pancho-240516-160049\n",
      "---\n",
      "/home/lucas/mnt/Freiwald/ltian/recordings/Pancho/240516/Pancho-240516-162336\n",
      "session:  0\n",
      "Beh Sessions that exist on this date:  {240516: [(1, 'primpancho1f'), (2, 'primpancho1f')]}\n",
      "------------------------------\n",
      "Loading this neural session: 0\n",
      "Loading these beh expts: ['primpancho1f']\n",
      "Loading these beh sessions: [1]\n",
      "Using this beh_trial_map_list: [(1, 0)]\n",
      "Searching using this string:\n",
      "/home/lucas/mnt/Freiwald/ltian/recordings/*Pancho*/*240516*/**\n",
      "Found this many paths:\n",
      "2\n",
      "---\n",
      "/home/lucas/mnt/Freiwald/ltian/recordings/Pancho/240516/Pancho-240516-160049\n",
      "---\n",
      "/home/lucas/mnt/Freiwald/ltian/recordings/Pancho/240516/Pancho-240516-162336\n",
      "Searching using this string:\n",
      "/home/lucas/mnt/Freiwald/kgupta/neural_data/*Pancho*/*240516*/*Pancho*240516**\n",
      "Found this many paths:\n",
      "3\n",
      "---\n",
      "/home/lucas/mnt/Freiwald/kgupta/neural_data/Pancho/240516/Pancho-240516-155617\n",
      "---\n",
      "/home/lucas/mnt/Freiwald/kgupta/neural_data/Pancho/240516/Pancho-240516-160049\n",
      "---\n",
      "/home/lucas/mnt/Freiwald/kgupta/neural_data/Pancho/240516/Pancho-240516-162336\n",
      "3 2\n",
      "sessions_ks:\n",
      "{'sessnum': 0, 'path': '/home/lucas/mnt/Freiwald/kgupta/neural_data/Pancho/240516/Pancho-240516-155617', 'pathfinal': 'Pancho-240516-155617', 'fileparts': {'filename_components_hyphened': ['Pancho', '240516', '155617'], 'basedirs': ['/home/lucas/mnt/Freiwald/kgupta/neural_data/Pancho', '/home/lucas/mnt/Freiwald/kgupta/neural_data/Pancho/240516'], 'basedirs_filenames': ['240516', 'Pancho-240516-155617'], 'filename_final_ext': 'Pancho-240516-155617', 'filename_final_noext': 'Pancho-240516-155617'}}\n",
      "{'sessnum': 1, 'path': '/home/lucas/mnt/Freiwald/kgupta/neural_data/Pancho/240516/Pancho-240516-160049', 'pathfinal': 'Pancho-240516-160049', 'fileparts': {'filename_components_hyphened': ['Pancho', '240516', '160049'], 'basedirs': ['/home/lucas/mnt/Freiwald/kgupta/neural_data/Pancho', '/home/lucas/mnt/Freiwald/kgupta/neural_data/Pancho/240516'], 'basedirs_filenames': ['240516', 'Pancho-240516-160049'], 'filename_final_ext': 'Pancho-240516-160049', 'filename_final_noext': 'Pancho-240516-160049'}}\n",
      "{'sessnum': 2, 'path': '/home/lucas/mnt/Freiwald/kgupta/neural_data/Pancho/240516/Pancho-240516-162336', 'pathfinal': 'Pancho-240516-162336', 'fileparts': {'filename_components_hyphened': ['Pancho', '240516', '162336'], 'basedirs': ['/home/lucas/mnt/Freiwald/kgupta/neural_data/Pancho', '/home/lucas/mnt/Freiwald/kgupta/neural_data/Pancho/240516'], 'basedirs_filenames': ['240516', 'Pancho-240516-162336'], 'filename_final_ext': 'Pancho-240516-162336', 'filename_final_noext': 'Pancho-240516-162336'}}\n",
      "sessions_rec:\n",
      "{'sessnum': 0, 'path': '/home/lucas/mnt/Freiwald/ltian/recordings/Pancho/240516/Pancho-240516-160049', 'pathfinal': 'Pancho-240516-160049', 'fileparts': {'filename_components_hyphened': ['Pancho', '240516', '160049'], 'basedirs': ['/home/lucas/mnt/Freiwald/ltian/recordings/Pancho', '/home/lucas/mnt/Freiwald/ltian/recordings/Pancho/240516'], 'basedirs_filenames': ['240516', 'Pancho-240516-160049'], 'filename_final_ext': 'Pancho-240516-160049', 'filename_final_noext': 'Pancho-240516-160049'}}\n",
      "{'sessnum': 1, 'path': '/home/lucas/mnt/Freiwald/ltian/recordings/Pancho/240516/Pancho-240516-162336', 'pathfinal': 'Pancho-240516-162336', 'fileparts': {'filename_components_hyphened': ['Pancho', '240516', '162336'], 'basedirs': ['/home/lucas/mnt/Freiwald/ltian/recordings/Pancho', '/home/lucas/mnt/Freiwald/ltian/recordings/Pancho/240516'], 'basedirs_filenames': ['240516', 'Pancho-240516-162336'], 'filename_final_ext': 'Pancho-240516-162336', 'filename_final_noext': 'Pancho-240516-162336'}}\n",
      "you probably excluded some neural sessions for final analysis (moved to recordings_IGNORE). No solution yet for this problem.\n"
     ]
    },
    {
     "ename": "AssertionError",
     "evalue": "breaking, becuase you probably want to fix this problem.",
     "output_type": "error",
     "traceback": [
      "\u001b[0;31m---------------------------------------------------------------------------\u001b[0m",
      "\u001b[0;31mAssertionError\u001b[0m                            Traceback (most recent call last)",
      "Cell \u001b[0;32mIn[13], line 1\u001b[0m\n\u001b[0;32m----> 1\u001b[0m MS \u001b[38;5;241m=\u001b[39m \u001b[43mload_mult_session_helper\u001b[49m\u001b[43m(\u001b[49m\u001b[43mDATE\u001b[49m\u001b[43m,\u001b[49m\u001b[43m \u001b[49m\u001b[43manimal\u001b[49m\u001b[43m,\u001b[49m\u001b[43m \u001b[49m\u001b[43mMINIMAL_LOADING\u001b[49m\u001b[38;5;241;43m=\u001b[39;49m\u001b[38;5;28;43;01mTrue\u001b[39;49;00m\u001b[43m,\u001b[49m\u001b[43m \u001b[49m\u001b[43mspikes_version\u001b[49m\u001b[38;5;241;43m=\u001b[39;49m\u001b[38;5;124;43m\"\u001b[39;49m\u001b[38;5;124;43mkilosort_if_exists\u001b[39;49m\u001b[38;5;124;43m\"\u001b[39;49m\u001b[43m)\u001b[49m\n",
      "File \u001b[0;32m~/code/neuralmonkey/neuralmonkey/classes/session.py:152\u001b[0m, in \u001b[0;36mload_mult_session_helper\u001b[0;34m(DATE, animal, dataset_beh_expt, expt, MINIMAL_LOADING, units_metadat_fail_if_no_exist, spikes_version, fr_sm_std)\u001b[0m\n\u001b[1;32m    143\u001b[0m \u001b[38;5;28mprint\u001b[39m(\u001b[38;5;124m\"\u001b[39m\u001b[38;5;124msession: \u001b[39m\u001b[38;5;124m\"\u001b[39m, rec_session)\n\u001b[1;32m    145\u001b[0m \u001b[38;5;66;03m# ============= RUN\u001b[39;00m\n\u001b[1;32m    146\u001b[0m \u001b[38;5;66;03m# beh_session = rec_session+1 # 1-indexing.\u001b[39;00m\n\u001b[1;32m    147\u001b[0m \u001b[38;5;66;03m# sessdict = mkl.getSessionsList(animal, datelist=[date])\u001b[39;00m\n\u001b[1;32m    148\u001b[0m \n\u001b[1;32m    149\u001b[0m \u001b[38;5;66;03m# print(\"ALL SESSIONS: \")\u001b[39;00m\n\u001b[1;32m    150\u001b[0m \u001b[38;5;66;03m# print(sessdict)\u001b[39;00m\n\u001b[0;32m--> 152\u001b[0m SN \u001b[38;5;241m=\u001b[39m \u001b[43mload_session_helper\u001b[49m\u001b[43m(\u001b[49m\u001b[43mDATE\u001b[49m\u001b[43m,\u001b[49m\u001b[43m \u001b[49m\u001b[43mdataset_beh_expt\u001b[49m\u001b[43m,\u001b[49m\u001b[43m \u001b[49m\u001b[43mrec_session\u001b[49m\u001b[43m,\u001b[49m\u001b[43m \u001b[49m\u001b[43manimal\u001b[49m\u001b[43m,\u001b[49m\u001b[43m \u001b[49m\u001b[43mexpt\u001b[49m\u001b[43m,\u001b[49m\n\u001b[1;32m    153\u001b[0m \u001b[43m    \u001b[49m\u001b[43mMINIMAL_LOADING\u001b[49m\u001b[38;5;241;43m=\u001b[39;49m\u001b[43mMINIMAL_LOADING\u001b[49m\u001b[43m,\u001b[49m\n\u001b[1;32m    154\u001b[0m \u001b[43m    \u001b[49m\u001b[43munits_metadat_fail_if_no_exist\u001b[49m\u001b[38;5;241;43m=\u001b[39;49m\u001b[43munits_metadat_fail_if_no_exist\u001b[49m\u001b[43m,\u001b[49m\n\u001b[1;32m    155\u001b[0m \u001b[43m    \u001b[49m\u001b[43mspikes_version\u001b[49m\u001b[38;5;241;43m=\u001b[39;49m\u001b[43mspikes_version\u001b[49m\u001b[43m,\u001b[49m\u001b[43m \u001b[49m\u001b[43mfr_sm_std\u001b[49m\u001b[38;5;241;43m=\u001b[39;49m\u001b[43mfr_sm_std\u001b[49m\u001b[43m)\u001b[49m\n\u001b[1;32m    156\u001b[0m SNlist\u001b[38;5;241m.\u001b[39mappend(SN)\n\u001b[1;32m    157\u001b[0m \u001b[38;5;28mprint\u001b[39m(\u001b[38;5;124m\"\u001b[39m\u001b[38;5;124mExtracted successfully for session: \u001b[39m\u001b[38;5;124m\"\u001b[39m, rec_session)\n",
      "File \u001b[0;32m~/code/neuralmonkey/neuralmonkey/classes/session.py:296\u001b[0m, in \u001b[0;36mload_session_helper\u001b[0;34m(DATE, dataset_beh_expt, rec_session, animal, expt, do_all_copy_to_local, extract_spiketrain_elephant, DEBUG_TIMING, MINIMAL_LOADING, BAREBONES_LOADING, ACTUALLY_BAREBONES_LOADING, units_metadat_fail_if_no_exist, do_if_spikes_incomplete, spikes_version, fr_sm_std)\u001b[0m\n\u001b[1;32m    294\u001b[0m         \u001b[38;5;28;01mraise\u001b[39;00m err\n\u001b[1;32m    295\u001b[0m \u001b[38;5;28;01mexcept\u001b[39;00m \u001b[38;5;167;01mException\u001b[39;00m \u001b[38;5;28;01mas\u001b[39;00m err:\n\u001b[0;32m--> 296\u001b[0m     \u001b[38;5;28;01mraise\u001b[39;00m err\n\u001b[1;32m    298\u001b[0m \u001b[38;5;66;03m# if not MINIMAL_LOADING and RESAVE_CACHE:\u001b[39;00m\n\u001b[1;32m    299\u001b[0m \u001b[38;5;66;03m#     # Save cached\u001b[39;00m\n\u001b[1;32m    300\u001b[0m \u001b[38;5;66;03m#     self._savelocalcached_extract()\u001b[39;00m\n\u001b[0;32m   (...)\u001b[0m\n\u001b[1;32m    310\u001b[0m \u001b[38;5;66;03m# if not MINIMAL_LOADING and dataset_beh_expt is not None:\u001b[39;00m\n\u001b[1;32m    311\u001b[0m \u001b[38;5;66;03m#     SN.datasetbeh_load_helper(dataset_beh_expt)\u001b[39;00m\n\u001b[1;32m    313\u001b[0m \u001b[38;5;28;01mreturn\u001b[39;00m SN\n",
      "File \u001b[0;32m~/code/neuralmonkey/neuralmonkey/classes/session.py:264\u001b[0m, in \u001b[0;36mload_session_helper\u001b[0;34m(DATE, dataset_beh_expt, rec_session, animal, expt, do_all_copy_to_local, extract_spiketrain_elephant, DEBUG_TIMING, MINIMAL_LOADING, BAREBONES_LOADING, ACTUALLY_BAREBONES_LOADING, units_metadat_fail_if_no_exist, do_if_spikes_incomplete, spikes_version, fr_sm_std)\u001b[0m\n\u001b[1;32m    246\u001b[0m \u001b[38;5;66;03m# # Hard code sessions where multiple sec sessions to a single beh session, this leads to\u001b[39;00m\n\u001b[1;32m    247\u001b[0m \u001b[38;5;66;03m# # error where the rec sessions doesnt know which beh trial to start at.\u001b[39;00m\n\u001b[1;32m    248\u001b[0m \u001b[38;5;66;03m# if animal==\"Pancho\" and int(DATE)==221024 and rec_session==1:\u001b[39;00m\n\u001b[0;32m   (...)\u001b[0m\n\u001b[1;32m    261\u001b[0m \u001b[38;5;66;03m#     print(sessdict[DATE])\u001b[39;00m\n\u001b[1;32m    262\u001b[0m \u001b[38;5;66;03m#     assert False\u001b[39;00m\n\u001b[1;32m    263\u001b[0m \u001b[38;5;28;01mtry\u001b[39;00m:\n\u001b[0;32m--> 264\u001b[0m     SN \u001b[38;5;241m=\u001b[39m \u001b[43mSession\u001b[49m\u001b[43m(\u001b[49m\u001b[43mDATE\u001b[49m\u001b[43m,\u001b[49m\u001b[43m \u001b[49m\u001b[43mbeh_expt_list\u001b[49m\u001b[43m,\u001b[49m\u001b[43m \u001b[49m\u001b[43mbeh_sess_list\u001b[49m\u001b[43m,\u001b[49m\u001b[43m \u001b[49m\u001b[43mbeh_trial_map_list\u001b[49m\u001b[43m,\u001b[49m\n\u001b[1;32m    265\u001b[0m \u001b[43m        \u001b[49m\u001b[43manimal\u001b[49m\u001b[43m \u001b[49m\u001b[38;5;241;43m=\u001b[39;49m\u001b[43manimal\u001b[49m\u001b[43m,\u001b[49m\u001b[43m  \u001b[49m\n\u001b[1;32m    266\u001b[0m \u001b[43m        \u001b[49m\u001b[43mrec_session\u001b[49m\u001b[43m \u001b[49m\u001b[38;5;241;43m=\u001b[39;49m\u001b[43m \u001b[49m\u001b[43mrec_session\u001b[49m\u001b[43m,\u001b[49m\u001b[43m \u001b[49m\u001b[43mdataset_beh_expt\u001b[49m\u001b[38;5;241;43m=\u001b[39;49m\u001b[43mdataset_beh_expt\u001b[49m\u001b[43m,\u001b[49m\u001b[43m \u001b[49m\n\u001b[1;32m    267\u001b[0m \u001b[43m        \u001b[49m\u001b[43mextract_spiketrain_elephant\u001b[49m\u001b[38;5;241;43m=\u001b[39;49m\u001b[43mextract_spiketrain_elephant\u001b[49m\u001b[43m,\u001b[49m\n\u001b[1;32m    268\u001b[0m \u001b[43m        \u001b[49m\u001b[43mdo_all_copy_to_local\u001b[49m\u001b[38;5;241;43m=\u001b[39;49m\u001b[43mdo_all_copy_to_local\u001b[49m\u001b[43m,\u001b[49m\u001b[43m \u001b[49m\u001b[43mDEBUG_TIMING\u001b[49m\u001b[38;5;241;43m=\u001b[39;49m\u001b[43mDEBUG_TIMING\u001b[49m\u001b[43m,\u001b[49m\n\u001b[1;32m    269\u001b[0m \u001b[43m        \u001b[49m\u001b[43mMINIMAL_LOADING\u001b[49m\u001b[38;5;241;43m=\u001b[39;49m\u001b[43m \u001b[49m\u001b[43mMINIMAL_LOADING\u001b[49m\u001b[43m,\u001b[49m\u001b[43m \u001b[49m\u001b[43mBAREBONES_LOADING\u001b[49m\u001b[38;5;241;43m=\u001b[39;49m\u001b[43mBAREBONES_LOADING\u001b[49m\u001b[43m,\u001b[49m\n\u001b[1;32m    270\u001b[0m \u001b[43m        \u001b[49m\u001b[43munits_metadat_fail_if_no_exist\u001b[49m\u001b[38;5;241;43m=\u001b[39;49m\u001b[43munits_metadat_fail_if_no_exist\u001b[49m\u001b[43m,\u001b[49m\n\u001b[1;32m    271\u001b[0m \u001b[43m        \u001b[49m\u001b[43mdo_if_spikes_incomplete\u001b[49m\u001b[38;5;241;43m=\u001b[39;49m\u001b[43mdo_if_spikes_incomplete\u001b[49m\u001b[43m,\u001b[49m\n\u001b[1;32m    272\u001b[0m \u001b[43m        \u001b[49m\u001b[43mACTUALLY_BAREBONES_LOADING\u001b[49m\u001b[38;5;241;43m=\u001b[39;49m\u001b[43mACTUALLY_BAREBONES_LOADING\u001b[49m\u001b[43m,\u001b[49m\n\u001b[1;32m    273\u001b[0m \u001b[43m        \u001b[49m\u001b[43mspikes_version\u001b[49m\u001b[38;5;241;43m=\u001b[39;49m\u001b[43mspikes_version\u001b[49m\u001b[43m,\u001b[49m\u001b[43m \u001b[49m\u001b[43mfr_sm_std\u001b[49m\u001b[38;5;241;43m=\u001b[39;49m\u001b[43mfr_sm_std\u001b[49m\u001b[43m)\u001b[49m\n\u001b[1;32m    274\u001b[0m \u001b[38;5;28;01mexcept\u001b[39;00m DataMisalignError \u001b[38;5;28;01mas\u001b[39;00m err:\n\u001b[1;32m    275\u001b[0m     \u001b[38;5;28;01mif\u001b[39;00m ALLOW_RETRY:\n",
      "File \u001b[0;32m~/code/neuralmonkey/neuralmonkey/classes/session.py:478\u001b[0m, in \u001b[0;36mSession.__init__\u001b[0;34m(self, datestr, beh_expt_list, beh_sess_list, beh_trial_map_list, sites_garbage, expt, animal, path_base, path_local, rec_session, do_all_copy_to_local, extract_spiketrain_elephant, do_sanity_checks, do_sanity_checks_rawdupl, dataset_beh_expt, DEBUG_TIMING, MINIMAL_LOADING, BAREBONES_LOADING, ACTUALLY_BAREBONES_LOADING, units_metadat_fail_if_no_exist, do_if_spikes_incomplete, spikes_version, fr_sm_std)\u001b[0m\n\u001b[1;32m    475\u001b[0m \u001b[38;5;28;01melse\u001b[39;00m:\n\u001b[1;32m    476\u001b[0m     \u001b[38;5;28;01mif\u001b[39;00m spikes_version\u001b[38;5;241m==\u001b[39m\u001b[38;5;124m\"\u001b[39m\u001b[38;5;124mkilosort_if_exists\u001b[39m\u001b[38;5;124m\"\u001b[39m:\n\u001b[1;32m    477\u001b[0m         \u001b[38;5;66;03m# Check if ks exists.\u001b[39;00m\n\u001b[0;32m--> 478\u001b[0m         \u001b[38;5;28;01mif\u001b[39;00m \u001b[38;5;28;43mself\u001b[39;49m\u001b[38;5;241;43m.\u001b[39;49m\u001b[43mspiketimes_ks_check_if_exists\u001b[49m\u001b[43m(\u001b[49m\u001b[43m)\u001b[49m:\n\u001b[1;32m    479\u001b[0m             spikes_version \u001b[38;5;241m=\u001b[39m \u001b[38;5;124m\"\u001b[39m\u001b[38;5;124mkilosort\u001b[39m\u001b[38;5;124m\"\u001b[39m\n\u001b[1;32m    480\u001b[0m         \u001b[38;5;28;01melse\u001b[39;00m:\n",
      "File \u001b[0;32m~/code/neuralmonkey/neuralmonkey/classes/session.py:2292\u001b[0m, in \u001b[0;36mSession.spiketimes_ks_check_if_exists\u001b[0;34m(self)\u001b[0m\n\u001b[1;32m   2290\u001b[0m \u001b[38;5;28;01mfrom\u001b[39;00m \u001b[38;5;21;01mpythonlib\u001b[39;00m\u001b[38;5;21;01m.\u001b[39;00m\u001b[38;5;21;01mtools\u001b[39;00m\u001b[38;5;21;01m.\u001b[39;00m\u001b[38;5;21;01mexceptions\u001b[39;00m \u001b[38;5;28;01mimport\u001b[39;00m NotEnoughDataException\n\u001b[1;32m   2291\u001b[0m \u001b[38;5;28;01mtry\u001b[39;00m:\n\u001b[0;32m-> 2292\u001b[0m     \u001b[43mrec_session_durations_extract_kilosort\u001b[49m\u001b[43m(\u001b[49m\u001b[38;5;28;43mself\u001b[39;49m\u001b[38;5;241;43m.\u001b[39;49m\u001b[43mAnimal\u001b[49m\u001b[43m,\u001b[49m\u001b[43m \u001b[49m\u001b[38;5;28;43mself\u001b[39;49m\u001b[38;5;241;43m.\u001b[39;49m\u001b[43mDate\u001b[49m\u001b[43m)\u001b[49m\n\u001b[1;32m   2293\u001b[0m     B \u001b[38;5;241m=\u001b[39m \u001b[38;5;28;01mTrue\u001b[39;00m\n\u001b[1;32m   2294\u001b[0m \u001b[38;5;28;01mexcept\u001b[39;00m NotEnoughDataException \u001b[38;5;28;01mas\u001b[39;00m err:\n",
      "File \u001b[0;32m~/code/neuralmonkey/neuralmonkey/utils/directory.py:294\u001b[0m, in \u001b[0;36mrec_session_durations_extract_kilosort\u001b[0;34m(animal, date)\u001b[0m\n\u001b[1;32m    292\u001b[0m         \u001b[38;5;28mprint\u001b[39m(x)\n\u001b[1;32m    293\u001b[0m     \u001b[38;5;28mprint\u001b[39m(\u001b[38;5;124m\"\u001b[39m\u001b[38;5;124myou probably excluded some neural sessions for final analysis (moved to recordings_IGNORE). No solution yet for this problem.\u001b[39m\u001b[38;5;124m\"\u001b[39m)\n\u001b[0;32m--> 294\u001b[0m     \u001b[38;5;28;01massert\u001b[39;00m \u001b[38;5;28;01mFalse\u001b[39;00m, \u001b[38;5;124m\"\u001b[39m\u001b[38;5;124mbreaking, becuase you probably want to fix this problem.\u001b[39m\u001b[38;5;124m\"\u001b[39m\n\u001b[1;32m    295\u001b[0m     \u001b[38;5;66;03m# raise NotEnoughDataException\u001b[39;00m\n\u001b[1;32m    296\u001b[0m \n\u001b[1;32m    297\u001b[0m \u001b[38;5;66;03m# - - chekck that the names match for neural and ks.\u001b[39;00m\n\u001b[1;32m    298\u001b[0m \u001b[38;5;28;01mfor\u001b[39;00m sessks, sessrec \u001b[38;5;129;01min\u001b[39;00m \u001b[38;5;28mzip\u001b[39m(sessions_ks, sessions_rec):\n",
      "\u001b[0;31mAssertionError\u001b[0m: breaking, becuase you probably want to fix this problem."
     ]
    }
   ],
   "source": [
    "MS = load_mult_session_helper(DATE, animal, MINIMAL_LOADING=True, spikes_version=\"kilosort_if_exists\")   \n",
    "# MS = load_mult_session_helper(DATE, animal, MINIMAL_LOADING=True) \n"
   ]
  },
  {
   "cell_type": "code",
   "execution_count": null,
   "id": "9345b843",
   "metadata": {},
   "outputs": [],
   "source": [
    "from neuralmonkey.classes.session import load_session_helper\n",
    "DATE = \"231218\"\n",
    "rec_session = 0\n",
    "animal = \"Diego\"\n",
    "SN = load_session_helper(DATE, None, rec_session, animal, None,  \n",
    "    ACTUALLY_BAREBONES_LOADING = True) # Very quick loading\n"
   ]
  },
  {
   "cell_type": "code",
   "execution_count": null,
   "id": "f51c0e16",
   "metadata": {},
   "outputs": [],
   "source": [
    "# Load a single session\n",
    "sess = 1\n",
    "sn_KS = load_session_helper(DATE, rec_session=sess, animal=animal, MINIMAL_LOADING=True, spikes_version=\"kilosort\")\n",
    "\n",
    "# Load a single session\n",
    "sess = 1\n",
    "sn_TD = load_session_helper(DATE, rec_session=sess, animal=animal, MINIMAL_LOADING=True, spikes_version=\"tdt\")"
   ]
  },
  {
   "cell_type": "code",
   "execution_count": null,
   "id": "f1f5361ddee3803",
   "metadata": {
    "collapsed": false
   },
   "outputs": [],
   "source": [
    "# Load a single session (WITHOUT MINIMAL LOADING)\n",
    "sess = 0\n",
    "sn = load_session_helper(DATE, rec_session=sess, animal=animal, MINIMAL_LOADING=False, spikes_version=\"kilosort_if_exists\")\n"
   ]
  },
  {
   "cell_type": "markdown",
   "id": "078960bb",
   "metadata": {},
   "source": [
    "### Devo - check whether fixations have been extracted fro this day"
   ]
  },
  {
   "cell_type": "code",
   "execution_count": null,
   "id": "eb7404d5",
   "metadata": {},
   "outputs": [],
   "source": [
    "for sn in MS.SessionsList:\n",
    "    print(sn.clusterfix_check_if_preprocessing_complete())"
   ]
  },
  {
   "cell_type": "markdown",
   "id": "c6ea8b19",
   "metadata": {},
   "source": [
    "### Merging kilosort and tdt, to maximize unit yield"
   ]
  },
  {
   "cell_type": "code",
   "execution_count": null,
   "id": "1681bbfd",
   "metadata": {},
   "outputs": [],
   "source": [
    "sn = MS.SessionsList[0]\n",
    "sn.DatAll[0]\n"
   ]
  },
  {
   "cell_type": "code",
   "execution_count": null,
   "id": "56503ff6",
   "metadata": {},
   "outputs": [],
   "source": [
    "sn.get_trials_list()"
   ]
  },
  {
   "cell_type": "code",
   "execution_count": null,
   "id": "904f921a",
   "metadata": {},
   "outputs": [],
   "source": [
    "sn.datall_TDT_KS_slice_single_bysite"
   ]
  },
  {
   "cell_type": "code",
   "execution_count": null,
   "id": "4c577f13",
   "metadata": {},
   "outputs": [],
   "source": [
    "DATE"
   ]
  },
  {
   "cell_type": "code",
   "execution_count": null,
   "id": "746a166a",
   "metadata": {},
   "outputs": [],
   "source": [
    "sn._datallTDT_slice_single(2,1, 378)\n"
   ]
  },
  {
   "cell_type": "code",
   "execution_count": null,
   "id": "2fa62e97",
   "metadata": {},
   "outputs": [],
   "source": [
    "1"
   ]
  },
  {
   "cell_type": "markdown",
   "id": "70b3db86a38b1a7",
   "metadata": {
    "collapsed": false
   },
   "source": [
    "# Debugging \"FULL LOADING MODE\" stuff"
   ]
  },
  {
   "cell_type": "code",
   "execution_count": null,
   "id": "77dbeb3156ea3b03",
   "metadata": {
    "collapsed": false
   },
   "outputs": [],
   "source": [
    "sn._MapperTrialcode2TrialToTrial"
   ]
  },
  {
   "cell_type": "code",
   "execution_count": null,
   "id": "4b0f52579572be4b",
   "metadata": {
    "collapsed": false
   },
   "outputs": [],
   "source": [
    "sn.get_trials_list(True)"
   ]
  },
  {
   "cell_type": "code",
   "execution_count": null,
   "id": "bdcce0195175eff8",
   "metadata": {
    "collapsed": false
   },
   "outputs": [],
   "source": [
    "sn.events_get_time_using_photodiode()"
   ]
  },
  {
   "cell_type": "code",
   "execution_count": null,
   "id": "11fcdbe6b2d32ed0",
   "metadata": {
    "collapsed": false
   },
   "outputs": [],
   "source": [
    "sn.load_tdt_tank(include_streams=True, force_reload_from_raw=True)"
   ]
  },
  {
   "cell_type": "code",
   "execution_count": null,
   "id": "a22ee715fc0a0037",
   "metadata": {
    "collapsed": false
   },
   "outputs": [],
   "source": [
    "sn.DatTank[\"streams\"][\"\"]"
   ]
  },
  {
   "cell_type": "code",
   "execution_count": null,
   "id": "53fae8512e6ac425",
   "metadata": {
    "collapsed": false
   },
   "outputs": [],
   "source": [
    "sn.DatTank[\"streams\"]"
   ]
  },
  {
   "cell_type": "code",
   "execution_count": null,
   "id": "776619fd18d1f949",
   "metadata": {
    "collapsed": false
   },
   "outputs": [],
   "source": [
    "sn.events_get_time_using_photodiode_and_save()"
   ]
  },
  {
   "cell_type": "code",
   "execution_count": null,
   "id": "16630c8688911a62",
   "metadata": {
    "collapsed": false
   },
   "outputs": [],
   "source": [
    "SN = sn\n",
    "\n",
    "# save sanity checsk of pd crossings/events.\n",
    "SN.eventsdataframe_sanity_check()\n",
    "\n",
    "########## SAVE CACHED\n",
    "# ALways run this since it is quick\n",
    "SN._savelocalcached_extract()\n",
    "\n",
    "# save_datslices = not checkIfDirExistsAndHasFiles(path)[1] # save if not already done.\n",
    "save_datslices = not SN._savelocalcached_checksaved_datslice()\n",
    "# then already extracted\n",
    "\n",
    "SN._savelocalcached_save(save_datslices=save_datslices)\n",
    "\n",
    "# Then delete the old data, as is redundant with the cached local\n",
    "if SN._savelocalcached_check_done():\n",
    "    print(\"DELETING, becuause they are redundant with datslices:\")\n",
    "    print(SN.Paths[\"datall_local\"])\n",
    "    print(SN.Paths[\"spikes_local\"])\n",
    "    os.remove(SN.Paths[\"datall_local\"])\n",
    "    os.remove(SN.Paths[\"spikes_local\"])\n",
    "else:\n",
    "    assert False, \"should have all been extracted in _savelocalcached_save\"\n"
   ]
  },
  {
   "cell_type": "markdown",
   "id": "12631b061ac467d3",
   "metadata": {
    "collapsed": false
   },
   "source": [
    "# Kilosort debugging"
   ]
  },
  {
   "cell_type": "markdown",
   "id": "ee0c87f22df6ef70",
   "metadata": {
    "collapsed": false
   },
   "source": [
    "### Compare ks to tdt "
   ]
  },
  {
   "cell_type": "code",
   "execution_count": null,
   "id": "9ddc83d52f0480e4",
   "metadata": {
    "collapsed": false
   },
   "outputs": [],
   "source": [
    "sn = MS.SessionsList[3]\n",
    "savedir = \"/tmp/ksgood\"\n",
    "sn.ks_plot_compare_tdt_to_kilosort(\"/tmp\")"
   ]
  },
  {
   "cell_type": "markdown",
   "id": "b243e91d42d017d9",
   "metadata": {
    "collapsed": false
   },
   "source": [
    "### Kilosort, get time global of start of current session, for extracting time of tdt spikes"
   ]
  },
  {
   "cell_type": "code",
   "execution_count": null,
   "id": "db826e09ac55b2ed",
   "metadata": {
    "collapsed": false
   },
   "outputs": [],
   "source": [
    "from neuralmonkey.utils.directory import rec_session_durations_extract_kilosort\n",
    "out = rec_session_durations_extract_kilosort(animal, DATE)\n",
    "print(\"-------------------------\")\n",
    "for k, v in out.items():\n",
    "    print(k, \" -- \", v)\n",
    "duration_total_using_rs4_dict\n",
    "\n",
    "sn_KS.spiketimes_ks_compute_timeglobal_thissession_start()\n",
    "# Sanity check, compare ks to tdt activity.\n",
    "sn_KS.datall_TDT_KS_slice_single_bysite(1412, 0)\n",
    "sn_KS.sitegetterKS_all_sites()\n",
    "sn."
   ]
  },
  {
   "cell_type": "markdown",
   "id": "5012cc5f8438b84",
   "metadata": {
    "collapsed": false
   },
   "source": [
    "### Overlay spikes onto raw data"
   ]
  },
  {
   "cell_type": "code",
   "execution_count": null,
   "id": "2d0893a9dadd77ce",
   "metadata": {
    "collapsed": false
   },
   "outputs": [],
   "source": [
    "sn_KS = MS.SessionsList[1]"
   ]
  },
  {
   "cell_type": "code",
   "execution_count": null,
   "id": "3280527153bb24ee",
   "metadata": {
    "collapsed": false
   },
   "outputs": [],
   "source": [
    "sn_KS.SPIKES_VERSION = \"kilosort\"\n",
    "sn_KS._SPIKES_VERSION_INPUTED = \"kilosort\""
   ]
  },
  {
   "cell_type": "code",
   "execution_count": null,
   "id": "60a734d87a014daf",
   "metadata": {
    "collapsed": false
   },
   "outputs": [],
   "source": [
    "sn_KS.sitegetterKS_all_sites()"
   ]
  },
  {
   "cell_type": "code",
   "execution_count": null,
   "id": "e1e1f74cf269179a",
   "metadata": {
    "collapsed": false
   },
   "outputs": [],
   "source": [
    "site = 1273\n",
    "trial = sn_KS.get_trials_list(True)[-2]\n",
    "print(sn_KS.sitegetterKS_thissite_info(site))"
   ]
  },
  {
   "cell_type": "code",
   "execution_count": null,
   "id": "e6a9ea6c4755d604",
   "metadata": {
    "collapsed": false
   },
   "outputs": [],
   "source": [
    "sn_KS.spiketimes_ks_compute_timeglobal_thissession_start()"
   ]
  },
  {
   "cell_type": "code",
   "execution_count": null,
   "id": "c03a93cf8068fdf4",
   "metadata": {
    "collapsed": false
   },
   "outputs": [],
   "source": [
    "\n",
    "twind_plot = None\n",
    "twind_plot = [0.2, 0.25]\n",
    "sn_KS.plot_raw_overlay_spikes_on_raw_filtered(site, trial, twind_plot)\n",
    "sn_KS.ks_plot_compare_overlaying_spikes_on_raw_filtered(site, trial)"
   ]
  },
  {
   "cell_type": "markdown",
   "id": "c2d860364ebc323f",
   "metadata": {
    "collapsed": false
   },
   "source": [
    "### Plot example raster"
   ]
  },
  {
   "cell_type": "code",
   "execution_count": null,
   "id": "5250b3684f5eef0a",
   "metadata": {
    "collapsed": false
   },
   "outputs": [],
   "source": [
    "for t in trials:\n",
    "    assert sn_KS.datasetbeh_trial_to_trialcode(t)==sn_TD.datasetbeh_trial_to_trialcode(t)\n",
    "    assert sn_KS.datasetbeh_trial_to_datidx(t)==sn_TD.datasetbeh_trial_to_datidx(t)\n",
    "    \n",
    "assert np.all(sn_TD.Datasetbeh.Dat[\"trialcode\"] == sn_KS.Datasetbeh.Dat[\"trialcode\"])"
   ]
  },
  {
   "cell_type": "code",
   "execution_count": null,
   "id": "abf21f9f831b6e8",
   "metadata": {
    "collapsed": false
   },
   "outputs": [],
   "source": [
    "sn_KS._CachedTrialOnset == sn_TD._CachedTrialOnset\n"
   ]
  },
  {
   "cell_type": "code",
   "execution_count": null,
   "id": "ac56ded7fe148092",
   "metadata": {
    "collapsed": false
   },
   "outputs": [],
   "source": [
    "sn_KS.RecPathBaseLocal"
   ]
  },
  {
   "cell_type": "code",
   "execution_count": null,
   "id": "ded95e6f1ca1fc0a",
   "metadata": {
    "collapsed": false
   },
   "outputs": [],
   "source": [
    "\n",
    "sn_KS._CachedTrialOnset "
   ]
  },
  {
   "cell_type": "code",
   "execution_count": null,
   "id": "6b37aa5978e88df9",
   "metadata": {
    "collapsed": false
   },
   "outputs": [],
   "source": [
    "site = 125\n",
    "trials = sn_TD.get_trials_list(True)\n",
    "sn_TD.plotwrapper_raster_multrials_onesite(trials[::15], site=site, plot_beh=False);"
   ]
  },
  {
   "cell_type": "code",
   "execution_count": null,
   "id": "58fa6dc09d31b7ac",
   "metadata": {
    "collapsed": false
   },
   "outputs": [],
   "source": [
    "site = 1127\n",
    "\n",
    "site = 7\n",
    "sn_KS.sitegetterKS_thissite_info(site)"
   ]
  },
  {
   "cell_type": "code",
   "execution_count": null,
   "id": "8c1f39f2e2e4a69",
   "metadata": {
    "collapsed": false
   },
   "outputs": [],
   "source": [
    "trials = sn_KS.get_trials_list(True)\n",
    "sn_KS.plotwrapper_raster_multrials_onesite(trials[::15], site=site, plot_beh=False);"
   ]
  },
  {
   "cell_type": "markdown",
   "id": "f0a90ce2",
   "metadata": {},
   "source": [
    "##### Fixation touch and done"
   ]
  },
  {
   "cell_type": "code",
   "execution_count": null,
   "id": "d9a9a35f",
   "metadata": {},
   "outputs": [],
   "source": [
    "trial = 813\n",
    "sn.beh_extract_touch_in_done_button(trial,  ploton=True)"
   ]
  },
  {
   "cell_type": "code",
   "execution_count": null,
   "id": "c75c1249",
   "metadata": {
    "scrolled": false
   },
   "outputs": [],
   "source": [
    "# sn.beh_extract_touch_in_fixation_square(trial, window_delta_pixels=48, ploton=True)\n",
    "trial = 114\n",
    "# sn.beh_extract_touch_in_fixation_square(trial, window_delta_pixels=52, ploton=True)\n",
    "times, touch = sn.beh_extract_touch_in_fixation_square(trial, ploton=True)\n",
    "\n"
   ]
  },
  {
   "cell_type": "markdown",
   "id": "9b5a956626143c9f",
   "metadata": {
    "collapsed": false
   },
   "source": [
    "# Debugging event extraction (e.g., photodiode)"
   ]
  },
  {
   "cell_type": "markdown",
   "id": "891e020c",
   "metadata": {},
   "source": [
    "##### Sanity checks across trialsm"
   ]
  },
  {
   "cell_type": "code",
   "execution_count": null,
   "id": "f0e8512e",
   "metadata": {},
   "outputs": [],
   "source": [
    "# Compare times of events, e..g, make sure done alway soccurs after \n",
    "for trial in sn.get_trials_list(True):\n",
    "    print(trial)\n",
    "    \n",
    "    tmp = sn.events_get_times_as_array(trial, [\"fixtch\", \"go\", \"doneb\"])\n",
    "    if np.isnan(tmp[2]):\n",
    "        continue\n",
    "    else:\n",
    "#         print(tmp[2] - tmp[1])\n",
    "        assert (tmp[2] - tmp[1])>0\n",
    "        "
   ]
  },
  {
   "cell_type": "code",
   "execution_count": null,
   "id": "b1d463c8",
   "metadata": {},
   "outputs": [],
   "source": []
  },
  {
   "cell_type": "code",
   "execution_count": null,
   "id": "5ea11ebb",
   "metadata": {},
   "outputs": [],
   "source": [
    "# trial = 243\n",
    "event = \"rulecue2\"\n",
    "for trial in sn.get_trials_list(True):\n",
    "    a = sn.events_get_time_using_photodiode(trial, list_events=[event])\n",
    "    b = sn.events_get_time_using_photodiode(trial, list_events=[event], do_reextract_even_if_saved=True)\n",
    "    if a!=b:\n",
    "        suff = \"******\"\n",
    "    else:\n",
    "        suff = \"\"\n",
    "    print(trial, a, b, a==b, suff)\n",
    "    if len(a[event])>0:\n",
    "        assert np.abs(a[event][0]-b[event][0])<0.01\n"
   ]
  },
  {
   "cell_type": "markdown",
   "id": "7de02161",
   "metadata": {},
   "source": [
    "##### Plot pd"
   ]
  },
  {
   "cell_type": "code",
   "execution_count": null,
   "id": "474247f2",
   "metadata": {},
   "outputs": [],
   "source": [
    "# >>>>>>>>>>>>>>>\n",
    "# trial, event: 1 rulecue2\n",
    "# **\n",
    "# Animal:  Pancho\n",
    "# ExptSynapse:  Lucas512-220520-115835\n",
    "# Date:  240828\n",
    "# RecSession 0\n",
    "# RecPathBase:  /home/lucas/mnt/Freiwald/ltian/recordings\n",
    "# BehExpt:  ['gramsuppancho2']\n",
    "# BehExptSess:  [1]\n",
    "# final_dir_name:  Pancho-240828-153012\n"
   ]
  },
  {
   "cell_type": "code",
   "execution_count": null,
   "id": "8efd4b8f",
   "metadata": {},
   "outputs": [],
   "source": [
    "trial = 508\n",
    "event = \"samp\"\n",
    "sn.events_get_time_using_photodiode(trial, list_events=[event])\n"
   ]
  },
  {
   "cell_type": "code",
   "execution_count": null,
   "id": "07d65e5c",
   "metadata": {
    "scrolled": false
   },
   "outputs": [],
   "source": [
    "%matplotlib inline\n",
    "\n",
    "trial = 508\n",
    "event = \"samp\"\n",
    "sn.events_get_time_using_photodiode(trial, list_events=[event], plot_beh_code_stream = True, \n",
    "                                    do_reextract_even_if_saved=True)\n"
   ]
  },
  {
   "cell_type": "code",
   "execution_count": null,
   "id": "07506973",
   "metadata": {},
   "outputs": [],
   "source": [
    "trial = 1\n",
    "event = \"done_button\"\n",
    "sn.events_get_time_using_photodiode(trial, list_events=[event], plot_beh_code_stream = True, \n",
    "                                    do_reextract_even_if_saved=True)\n"
   ]
  },
  {
   "cell_type": "code",
   "execution_count": null,
   "id": "4b58d26e",
   "metadata": {},
   "outputs": [],
   "source": [
    "sn."
   ]
  },
  {
   "cell_type": "code",
   "execution_count": null,
   "id": "a4c504be",
   "metadata": {},
   "outputs": [],
   "source": [
    "set([x[1] for x in sn.EventsTimeUsingPhd.keys()])"
   ]
  },
  {
   "cell_type": "code",
   "execution_count": null,
   "id": "c9ca6c8a",
   "metadata": {},
   "outputs": [],
   "source": [
    "events_to_keep = [\"fixcue\", \"rulecue2\", \"samp\", \"go\", \"seqon\", \n",
    "                  \"post\", \"reward_all\", \"seqon\"]\n",
    "\n",
    "{x:vals for x, vals in sn.EventsTimeUsingPhd.items() if x[1] in events_to_keep}"
   ]
  },
  {
   "cell_type": "code",
   "execution_count": null,
   "id": "9d47be02",
   "metadata": {},
   "outputs": [],
   "source": [
    "events_to_keep = [\"fixcue\", \"go\", \"go_cue\"\n",
    " 'on_strokeidx_0',\n",
    " 'post',\n",
    " 'reward_all',\n",
    " 'rulecue2',\n",
    " 'samp]"
   ]
  },
  {
   "cell_type": "code",
   "execution_count": null,
   "id": "6f95aca6",
   "metadata": {},
   "outputs": [],
   "source": [
    "{x:vals for x, vals in sn.EventsTimeUsingPhd.items() if x[1]==\"fixtch\"}"
   ]
  },
  {
   "cell_type": "code",
   "execution_count": null,
   "id": "50d28669",
   "metadata": {},
   "outputs": [],
   "source": [
    "import numpy as np\n",
    "np.linspace(-0.015, 0.055, 50)"
   ]
  },
  {
   "cell_type": "code",
   "execution_count": null,
   "id": "323a9b05",
   "metadata": {},
   "outputs": [],
   "source": []
  },
  {
   "cell_type": "code",
   "execution_count": null,
   "id": "309dcb92",
   "metadata": {},
   "outputs": [],
   "source": [
    "np.linspace(-0.045, 0.045, )"
   ]
  },
  {
   "cell_type": "code",
   "execution_count": null,
   "id": "7508f2b2",
   "metadata": {},
   "outputs": [],
   "source": [
    "np.linspace(1,10)\n"
   ]
  },
  {
   "cell_type": "code",
   "execution_count": null,
   "id": "3efae11b",
   "metadata": {},
   "outputs": [],
   "source": [
    "print(10)"
   ]
  },
  {
   "cell_type": "code",
   "execution_count": null,
   "id": "e594c0b4",
   "metadata": {},
   "outputs": [],
   "source": [
    "sn.events_get_time_sorted(trial, [\"fixcue\", \"fixtch\"])[0]"
   ]
  },
  {
   "cell_type": "code",
   "execution_count": null,
   "id": "6d2746b4",
   "metadata": {},
   "outputs": [],
   "source": [
    "trial = 594\n",
    "%matplotlib inline\n",
    "sn.events_get_time_using_photodiode(trial, list_events=[event], plot_beh_code_stream = True, overwrite=True)"
   ]
  },
  {
   "cell_type": "markdown",
   "id": "ab429de9",
   "metadata": {},
   "source": [
    "##### Problem: fixtouch even before fixation cue onset"
   ]
  },
  {
   "cell_type": "code",
   "execution_count": null,
   "id": "aeec9b60",
   "metadata": {},
   "outputs": [],
   "source": [
    "# Solution: detect cases. call the onset the same time as fixcue onset."
   ]
  },
  {
   "cell_type": "code",
   "execution_count": null,
   "id": "d883a1aa",
   "metadata": {},
   "outputs": [],
   "source": [
    "for t in sn.get_trials_list(True):\n",
    "    if sn.beh_check_touching_fixation_square_during_onset(t):\n",
    "        print(t)"
   ]
  },
  {
   "cell_type": "code",
   "execution_count": null,
   "id": "5276daae",
   "metadata": {},
   "outputs": [],
   "source": [
    "touch.shape"
   ]
  },
  {
   "cell_type": "code",
   "execution_count": null,
   "id": "146b75e7",
   "metadata": {},
   "outputs": [],
   "source": [
    "trial= 237\n",
    "sn.beh_extract_touch_in_fixation_square(trial, ploton=True)"
   ]
  },
  {
   "cell_type": "markdown",
   "id": "e631f79f",
   "metadata": {},
   "source": [
    "#### Plot"
   ]
  },
  {
   "cell_type": "code",
   "execution_count": null,
   "id": "b4bbd264",
   "metadata": {},
   "outputs": [],
   "source": [
    "sn.extract_data_tank_epocs(\"camtrialoff\")"
   ]
  },
  {
   "cell_type": "code",
   "execution_count": null,
   "id": "8d6ffb8e",
   "metadata": {},
   "outputs": [],
   "source": [
    "sn.DatTank[\"epocs\"]"
   ]
  },
  {
   "cell_type": "code",
   "execution_count": null,
   "id": "d6a5f0e5",
   "metadata": {},
   "outputs": [],
   "source": [
    "# sn.DatTank[\"streams\"][\"Mic1\"]\n",
    "# sn.DatTank[\"streams\"][\"PhD2\"]\n",
    "# sn.DatTank[\"streams\"][\"Eyee\"]\n",
    "sn.DatTank[\"streams\"][\"PhDi\"]"
   ]
  },
  {
   "cell_type": "code",
   "execution_count": null,
   "id": "4d579d87",
   "metadata": {},
   "outputs": [],
   "source": [
    "sn.behcode_extract_times_semantic(\"go\", trial)"
   ]
  },
  {
   "cell_type": "code",
   "execution_count": null,
   "id": "7d9280c3",
   "metadata": {},
   "outputs": [],
   "source": [
    "sn.behcode_extract_times_sequence"
   ]
  },
  {
   "cell_type": "code",
   "execution_count": null,
   "id": "b46d47a7",
   "metadata": {},
   "outputs": [],
   "source": [
    "sn.behcode_extract_times_semantic(\"samp\", trial)"
   ]
  },
  {
   "cell_type": "code",
   "execution_count": null,
   "id": "1fb19d96",
   "metadata": {},
   "outputs": [],
   "source": [
    "2.5 + 0.3*2.5"
   ]
  },
  {
   "cell_type": "code",
   "execution_count": null,
   "id": "df198817",
   "metadata": {},
   "outputs": [],
   "source": [
    "DATE"
   ]
  },
  {
   "cell_type": "code",
   "execution_count": null,
   "id": "9bb293e866159bce",
   "metadata": {
    "collapsed": false
   },
   "outputs": [],
   "source": [
    "%matplotlib inline\n",
    "sites = sn.sitegetterKS_all_sites()\n",
    "trial= 508\n",
    "sn.plotwrapper_raster_oneetrial_multsites(trial, sites[:10], overlay_trial_events=False,  overlay_trial_events_notpd=True)\n",
    "# sn.plotwrapper_raster_oneetrial_multsites(trial, sites[:10], overlay_trial_events=True,  overlay_trial_events_notpd=False)\n",
    "\n"
   ]
  },
  {
   "cell_type": "code",
   "execution_count": null,
   "id": "0ecbd226",
   "metadata": {},
   "outputs": [],
   "source": [
    "trials = sn.get_trials_list(True, True)\n",
    "sites = sn.sitegetter_all()\n",
    "pre = -0.55\n",
    "post = -0.05\n",
    "sn.smoothedfr_extract_timewindow(trials, sites, \"first_raise\", pre, post)\n",
    "\n",
    "sn.events_get_time_using_photodiode(269, list_events=[\"first_raise\"], plot_beh_code_stream = True, overwrite=True)"
   ]
  },
  {
   "cell_type": "code",
   "execution_count": null,
   "id": "7c97e02c",
   "metadata": {},
   "outputs": [],
   "source": [
    "sn.plotwrapper_raster_oneetrial_multsites(269, sites[:10])"
   ]
  },
  {
   "cell_type": "code",
   "execution_count": null,
   "id": "06ad6138",
   "metadata": {},
   "outputs": [],
   "source": [
    "from neuralmonkey.scripts.analy_euclidian_dist_pop_script import plot_all_results_time_trajectories\n",
    "plot_all_results_time_trajectories()"
   ]
  },
  {
   "cell_type": "code",
   "execution_count": null,
   "id": "2a63d5f9",
   "metadata": {},
   "outputs": [],
   "source": []
  },
  {
   "cell_type": "markdown",
   "id": "e9852aa5",
   "metadata": {},
   "source": [
    "# Get times of events on each trial"
   ]
  },
  {
   "cell_type": "code",
   "execution_count": null,
   "id": "65715603",
   "metadata": {},
   "outputs": [],
   "source": [
    "SN = MS.SessionsList[0]\n",
    "SN.eventsdataframe_sanity_check()"
   ]
  },
  {
   "cell_type": "markdown",
   "id": "94d1f7fe",
   "metadata": {},
   "source": []
  }
 ],
 "metadata": {
  "kernelspec": {
   "display_name": "drag2_matlab",
   "language": "python",
   "name": "python3"
  },
  "language_info": {
   "codemirror_mode": {
    "name": "ipython",
    "version": 3
   },
   "file_extension": ".py",
   "mimetype": "text/x-python",
   "name": "python",
   "nbconvert_exporter": "python",
   "pygments_lexer": "ipython3",
   "version": "3.8.18"
  }
 },
 "nbformat": 4,
 "nbformat_minor": 5
}
