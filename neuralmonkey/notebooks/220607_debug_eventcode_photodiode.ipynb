{
 "cells": [
  {
   "cell_type": "code",
   "execution_count": null,
   "id": "6d084eb6",
   "metadata": {},
   "outputs": [],
   "source": [
    "\"\"\"\n",
    "\"\"\""
   ]
  },
  {
   "cell_type": "code",
   "execution_count": null,
   "id": "a0eeaf3c5c275eab",
   "metadata": {
    "collapsed": false
   },
   "outputs": [],
   "source": [
    "%load_ext autoreload\n",
    "%autoreload 2\n"
   ]
  },
  {
   "cell_type": "code",
   "execution_count": null,
   "id": "d746b568",
   "metadata": {},
   "outputs": [],
   "source": [
    "from neuralmonkey.classes.session import Session\n",
    "import matplotlib.pyplot as plt\n",
    "from neuralmonkey.scripts.load_and_save_locally import load_and_preprocess_single_session\n",
    "import neuralmonkey.utils.monkeylogic as mkl\n",
    "from neuralmonkey.classes.session import load_session_helper, load_mult_session_helper\n",
    "import os\n",
    "import numpy as np\n",
    "import matplotlib.pyplot as plt"
   ]
  },
  {
   "cell_type": "code",
   "execution_count": null,
   "id": "7ca77dc17e000235",
   "metadata": {
    "collapsed": false
   },
   "outputs": [],
   "source": [
    "import numpy as np"
   ]
  },
  {
   "cell_type": "code",
   "execution_count": null,
   "id": "6dfb0cae",
   "metadata": {},
   "outputs": [],
   "source": [
    "# DATE = 230630\n",
    "# animal = \"Diego\"\n",
    "\n",
    "DATE = 240828\n",
    "animal = \"Pancho\"\n"
   ]
  },
  {
   "cell_type": "code",
   "execution_count": null,
   "id": "8c2711e9",
   "metadata": {},
   "outputs": [],
   "source": [
    "MS = load_mult_session_helper(DATE, animal, MINIMAL_LOADING=True, spikes_version=\"kilosort_if_exists\")   \n",
    "# MS = load_mult_session_helper(DATE, animal, MINIMAL_LOADING=True) \n"
   ]
  },
  {
   "cell_type": "code",
   "execution_count": null,
   "id": "f51c0e16",
   "metadata": {},
   "outputs": [],
   "source": [
    "# Load a single session\n",
    "sess = 1\n",
    "sn_KS = load_session_helper(DATE, rec_session=sess, animal=animal, MINIMAL_LOADING=True, spikes_version=\"kilosort\")\n",
    "\n",
    "# Load a single session\n",
    "sess = 1\n",
    "sn_TD = load_session_helper(DATE, rec_session=sess, animal=animal, MINIMAL_LOADING=True, spikes_version=\"tdt\")"
   ]
  },
  {
   "cell_type": "code",
   "execution_count": null,
   "id": "f1f5361ddee3803",
   "metadata": {
    "collapsed": false
   },
   "outputs": [],
   "source": [
    "# Load a single session (WITHOUT MINIMAL LOADING)\n",
    "sess = 0\n",
    "sn = load_session_helper(DATE, rec_session=sess, animal=animal, MINIMAL_LOADING=False, spikes_version=\"kilosort_if_exists\")\n"
   ]
  },
  {
   "cell_type": "markdown",
   "id": "078960bb",
   "metadata": {},
   "source": [
    "### Devo - check whether fixations have been extracted fro this day"
   ]
  },
  {
   "cell_type": "code",
   "execution_count": null,
   "id": "eb7404d5",
   "metadata": {},
   "outputs": [],
   "source": [
    "for sn in MS.SessionsList:\n",
    "    print(sn.clusterfix_check_if_preprocessing_complete())"
   ]
  },
  {
   "cell_type": "markdown",
   "id": "c6ea8b19",
   "metadata": {},
   "source": [
    "### Merging kilosort and tdt, to maximize unit yield"
   ]
  },
  {
   "cell_type": "code",
   "execution_count": null,
   "id": "1681bbfd",
   "metadata": {},
   "outputs": [],
   "source": [
    "sn = MS.SessionsList[0]\n",
    "sn.DatAll[0]\n"
   ]
  },
  {
   "cell_type": "code",
   "execution_count": null,
   "id": "56503ff6",
   "metadata": {},
   "outputs": [],
   "source": [
    "sn.get_trials_list()"
   ]
  },
  {
   "cell_type": "code",
   "execution_count": null,
   "id": "904f921a",
   "metadata": {},
   "outputs": [],
   "source": [
    "sn.datall_TDT_KS_slice_single_bysite"
   ]
  },
  {
   "cell_type": "code",
   "execution_count": null,
   "id": "4c577f13",
   "metadata": {},
   "outputs": [],
   "source": [
    "DATE"
   ]
  },
  {
   "cell_type": "code",
   "execution_count": null,
   "id": "746a166a",
   "metadata": {},
   "outputs": [],
   "source": [
    "sn._datallTDT_slice_single(2,1, 378)\n"
   ]
  },
  {
   "cell_type": "code",
   "execution_count": null,
   "id": "2fa62e97",
   "metadata": {},
   "outputs": [],
   "source": [
    "1"
   ]
  },
  {
   "cell_type": "markdown",
   "id": "70b3db86a38b1a7",
   "metadata": {
    "collapsed": false
   },
   "source": [
    "# Debugging \"FULL LOADING MODE\" stuff"
   ]
  },
  {
   "cell_type": "code",
   "execution_count": null,
   "id": "77dbeb3156ea3b03",
   "metadata": {
    "collapsed": false
   },
   "outputs": [],
   "source": [
    "sn._MapperTrialcode2TrialToTrial"
   ]
  },
  {
   "cell_type": "code",
   "execution_count": null,
   "id": "4b0f52579572be4b",
   "metadata": {
    "collapsed": false
   },
   "outputs": [],
   "source": [
    "sn.get_trials_list(True)"
   ]
  },
  {
   "cell_type": "code",
   "execution_count": null,
   "id": "bdcce0195175eff8",
   "metadata": {
    "collapsed": false
   },
   "outputs": [],
   "source": [
    "sn.events_get_time_using_photodiode()"
   ]
  },
  {
   "cell_type": "code",
   "execution_count": null,
   "id": "11fcdbe6b2d32ed0",
   "metadata": {
    "collapsed": false
   },
   "outputs": [],
   "source": [
    "sn.load_tdt_tank(include_streams=True, force_reload_from_raw=True)"
   ]
  },
  {
   "cell_type": "code",
   "execution_count": null,
   "id": "a22ee715fc0a0037",
   "metadata": {
    "collapsed": false
   },
   "outputs": [],
   "source": [
    "sn.DatTank[\"streams\"][\"\"]"
   ]
  },
  {
   "cell_type": "code",
   "execution_count": null,
   "id": "53fae8512e6ac425",
   "metadata": {
    "collapsed": false
   },
   "outputs": [],
   "source": [
    "sn.DatTank[\"streams\"]"
   ]
  },
  {
   "cell_type": "code",
   "execution_count": null,
   "id": "776619fd18d1f949",
   "metadata": {
    "collapsed": false
   },
   "outputs": [],
   "source": [
    "sn.events_get_time_using_photodiode_and_save()"
   ]
  },
  {
   "cell_type": "code",
   "execution_count": null,
   "id": "16630c8688911a62",
   "metadata": {
    "collapsed": false
   },
   "outputs": [],
   "source": [
    "SN = sn\n",
    "\n",
    "# save sanity checsk of pd crossings/events.\n",
    "SN.eventsdataframe_sanity_check()\n",
    "\n",
    "########## SAVE CACHED\n",
    "# ALways run this since it is quick\n",
    "SN._savelocalcached_extract()\n",
    "\n",
    "# save_datslices = not checkIfDirExistsAndHasFiles(path)[1] # save if not already done.\n",
    "save_datslices = not SN._savelocalcached_checksaved_datslice()\n",
    "# then already extracted\n",
    "\n",
    "SN._savelocalcached_save(save_datslices=save_datslices)\n",
    "\n",
    "# Then delete the old data, as is redundant with the cached local\n",
    "if SN._savelocalcached_check_done():\n",
    "    print(\"DELETING, becuause they are redundant with datslices:\")\n",
    "    print(SN.Paths[\"datall_local\"])\n",
    "    print(SN.Paths[\"spikes_local\"])\n",
    "    os.remove(SN.Paths[\"datall_local\"])\n",
    "    os.remove(SN.Paths[\"spikes_local\"])\n",
    "else:\n",
    "    assert False, \"should have all been extracted in _savelocalcached_save\"\n"
   ]
  },
  {
   "cell_type": "markdown",
   "id": "12631b061ac467d3",
   "metadata": {
    "collapsed": false
   },
   "source": [
    "# Kilosort debugging"
   ]
  },
  {
   "cell_type": "markdown",
   "id": "ee0c87f22df6ef70",
   "metadata": {
    "collapsed": false
   },
   "source": [
    "### Compare ks to tdt "
   ]
  },
  {
   "cell_type": "code",
   "execution_count": null,
   "id": "9ddc83d52f0480e4",
   "metadata": {
    "collapsed": false
   },
   "outputs": [],
   "source": [
    "sn = MS.SessionsList[3]\n",
    "savedir = \"/tmp/ksgood\"\n",
    "sn.ks_plot_compare_tdt_to_kilosort(\"/tmp\")"
   ]
  },
  {
   "cell_type": "markdown",
   "id": "b243e91d42d017d9",
   "metadata": {
    "collapsed": false
   },
   "source": [
    "### Kilosort, get time global of start of current session, for extracting time of tdt spikes"
   ]
  },
  {
   "cell_type": "code",
   "execution_count": null,
   "id": "db826e09ac55b2ed",
   "metadata": {
    "collapsed": false
   },
   "outputs": [],
   "source": [
    "from neuralmonkey.utils.directory import rec_session_durations_extract_kilosort\n",
    "out = rec_session_durations_extract_kilosort(animal, DATE)\n",
    "print(\"-------------------------\")\n",
    "for k, v in out.items():\n",
    "    print(k, \" -- \", v)\n",
    "duration_total_using_rs4_dict\n",
    "\n",
    "sn_KS.spiketimes_ks_compute_timeglobal_thissession_start()\n",
    "# Sanity check, compare ks to tdt activity.\n",
    "sn_KS.datall_TDT_KS_slice_single_bysite(1412, 0)\n",
    "sn_KS.sitegetterKS_all_sites()\n",
    "sn."
   ]
  },
  {
   "cell_type": "markdown",
   "id": "5012cc5f8438b84",
   "metadata": {
    "collapsed": false
   },
   "source": [
    "### Overlay spikes onto raw data"
   ]
  },
  {
   "cell_type": "code",
   "execution_count": null,
   "id": "2d0893a9dadd77ce",
   "metadata": {
    "collapsed": false
   },
   "outputs": [],
   "source": [
    "sn_KS = MS.SessionsList[1]"
   ]
  },
  {
   "cell_type": "code",
   "execution_count": null,
   "id": "3280527153bb24ee",
   "metadata": {
    "collapsed": false
   },
   "outputs": [],
   "source": [
    "sn_KS.SPIKES_VERSION = \"kilosort\"\n",
    "sn_KS._SPIKES_VERSION_INPUTED = \"kilosort\""
   ]
  },
  {
   "cell_type": "code",
   "execution_count": null,
   "id": "60a734d87a014daf",
   "metadata": {
    "collapsed": false
   },
   "outputs": [],
   "source": [
    "sn_KS.sitegetterKS_all_sites()"
   ]
  },
  {
   "cell_type": "code",
   "execution_count": null,
   "id": "e1e1f74cf269179a",
   "metadata": {
    "collapsed": false
   },
   "outputs": [],
   "source": [
    "site = 1273\n",
    "trial = sn_KS.get_trials_list(True)[-2]\n",
    "print(sn_KS.sitegetterKS_thissite_info(site))"
   ]
  },
  {
   "cell_type": "code",
   "execution_count": null,
   "id": "e6a9ea6c4755d604",
   "metadata": {
    "collapsed": false
   },
   "outputs": [],
   "source": [
    "sn_KS.spiketimes_ks_compute_timeglobal_thissession_start()"
   ]
  },
  {
   "cell_type": "code",
   "execution_count": null,
   "id": "c03a93cf8068fdf4",
   "metadata": {
    "collapsed": false
   },
   "outputs": [],
   "source": [
    "\n",
    "twind_plot = None\n",
    "twind_plot = [0.2, 0.25]\n",
    "sn_KS.plot_raw_overlay_spikes_on_raw_filtered(site, trial, twind_plot)\n",
    "sn_KS.ks_plot_compare_overlaying_spikes_on_raw_filtered(site, trial)"
   ]
  },
  {
   "cell_type": "markdown",
   "id": "c2d860364ebc323f",
   "metadata": {
    "collapsed": false
   },
   "source": [
    "### Plot example raster"
   ]
  },
  {
   "cell_type": "code",
   "execution_count": null,
   "id": "5250b3684f5eef0a",
   "metadata": {
    "collapsed": false
   },
   "outputs": [],
   "source": [
    "for t in trials:\n",
    "    assert sn_KS.datasetbeh_trial_to_trialcode(t)==sn_TD.datasetbeh_trial_to_trialcode(t)\n",
    "    assert sn_KS.datasetbeh_trial_to_datidx(t)==sn_TD.datasetbeh_trial_to_datidx(t)\n",
    "    \n",
    "assert np.all(sn_TD.Datasetbeh.Dat[\"trialcode\"] == sn_KS.Datasetbeh.Dat[\"trialcode\"])"
   ]
  },
  {
   "cell_type": "code",
   "execution_count": null,
   "id": "abf21f9f831b6e8",
   "metadata": {
    "collapsed": false
   },
   "outputs": [],
   "source": [
    "sn_KS._CachedTrialOnset == sn_TD._CachedTrialOnset\n"
   ]
  },
  {
   "cell_type": "code",
   "execution_count": null,
   "id": "ac56ded7fe148092",
   "metadata": {
    "collapsed": false
   },
   "outputs": [],
   "source": [
    "sn_KS.RecPathBaseLocal"
   ]
  },
  {
   "cell_type": "code",
   "execution_count": null,
   "id": "ded95e6f1ca1fc0a",
   "metadata": {
    "collapsed": false
   },
   "outputs": [],
   "source": [
    "\n",
    "sn_KS._CachedTrialOnset "
   ]
  },
  {
   "cell_type": "code",
   "execution_count": null,
   "id": "6b37aa5978e88df9",
   "metadata": {
    "collapsed": false
   },
   "outputs": [],
   "source": [
    "site = 125\n",
    "trials = sn_TD.get_trials_list(True)\n",
    "sn_TD.plotwrapper_raster_multrials_onesite(trials[::15], site=site, plot_beh=False);"
   ]
  },
  {
   "cell_type": "code",
   "execution_count": null,
   "id": "58fa6dc09d31b7ac",
   "metadata": {
    "collapsed": false
   },
   "outputs": [],
   "source": [
    "site = 1127\n",
    "\n",
    "site = 7\n",
    "sn_KS.sitegetterKS_thissite_info(site)"
   ]
  },
  {
   "cell_type": "code",
   "execution_count": null,
   "id": "8c1f39f2e2e4a69",
   "metadata": {
    "collapsed": false
   },
   "outputs": [],
   "source": [
    "trials = sn_KS.get_trials_list(True)\n",
    "sn_KS.plotwrapper_raster_multrials_onesite(trials[::15], site=site, plot_beh=False);"
   ]
  },
  {
   "cell_type": "markdown",
   "id": "f0a90ce2",
   "metadata": {},
   "source": [
    "##### Fixation touch and done"
   ]
  },
  {
   "cell_type": "code",
   "execution_count": null,
   "id": "d9a9a35f",
   "metadata": {},
   "outputs": [],
   "source": [
    "trial = 813\n",
    "sn.beh_extract_touch_in_done_button(trial,  ploton=True)"
   ]
  },
  {
   "cell_type": "code",
   "execution_count": null,
   "id": "c75c1249",
   "metadata": {
    "scrolled": false
   },
   "outputs": [],
   "source": [
    "# sn.beh_extract_touch_in_fixation_square(trial, window_delta_pixels=48, ploton=True)\n",
    "trial = 114\n",
    "# sn.beh_extract_touch_in_fixation_square(trial, window_delta_pixels=52, ploton=True)\n",
    "times, touch = sn.beh_extract_touch_in_fixation_square(trial, ploton=True)\n",
    "\n"
   ]
  },
  {
   "cell_type": "markdown",
   "id": "9b5a956626143c9f",
   "metadata": {
    "collapsed": false
   },
   "source": [
    "# Debugging event extraction (e.g., photodiode)"
   ]
  },
  {
   "cell_type": "markdown",
   "id": "891e020c",
   "metadata": {},
   "source": [
    "##### Sanity checks across trialsm"
   ]
  },
  {
   "cell_type": "code",
   "execution_count": null,
   "id": "f0e8512e",
   "metadata": {},
   "outputs": [],
   "source": [
    "# Compare times of events, e..g, make sure done alway soccurs after \n",
    "for trial in sn.get_trials_list(True):\n",
    "    print(trial)\n",
    "    \n",
    "    tmp = sn.events_get_times_as_array(trial, [\"fixtch\", \"go\", \"doneb\"])\n",
    "    if np.isnan(tmp[2]):\n",
    "        continue\n",
    "    else:\n",
    "#         print(tmp[2] - tmp[1])\n",
    "        assert (tmp[2] - tmp[1])>0\n",
    "        "
   ]
  },
  {
   "cell_type": "code",
   "execution_count": null,
   "id": "b1d463c8",
   "metadata": {},
   "outputs": [],
   "source": []
  },
  {
   "cell_type": "code",
   "execution_count": null,
   "id": "5ea11ebb",
   "metadata": {},
   "outputs": [],
   "source": [
    "# trial = 243\n",
    "event = \"rulecue2\"\n",
    "for trial in sn.get_trials_list(True):\n",
    "    a = sn.events_get_time_using_photodiode(trial, list_events=[event])\n",
    "    b = sn.events_get_time_using_photodiode(trial, list_events=[event], do_reextract_even_if_saved=True)\n",
    "    if a!=b:\n",
    "        suff = \"******\"\n",
    "    else:\n",
    "        suff = \"\"\n",
    "    print(trial, a, b, a==b, suff)\n",
    "    if len(a[event])>0:\n",
    "        assert np.abs(a[event][0]-b[event][0])<0.01\n"
   ]
  },
  {
   "cell_type": "markdown",
   "id": "7de02161",
   "metadata": {},
   "source": [
    "##### Plot pd"
   ]
  },
  {
   "cell_type": "code",
   "execution_count": null,
   "id": "474247f2",
   "metadata": {},
   "outputs": [],
   "source": [
    "# >>>>>>>>>>>>>>>\n",
    "# trial, event: 1 rulecue2\n",
    "# **\n",
    "# Animal:  Pancho\n",
    "# ExptSynapse:  Lucas512-220520-115835\n",
    "# Date:  240828\n",
    "# RecSession 0\n",
    "# RecPathBase:  /home/lucas/mnt/Freiwald/ltian/recordings\n",
    "# BehExpt:  ['gramsuppancho2']\n",
    "# BehExptSess:  [1]\n",
    "# final_dir_name:  Pancho-240828-153012\n"
   ]
  },
  {
   "cell_type": "code",
   "execution_count": null,
   "id": "07d65e5c",
   "metadata": {
    "scrolled": false
   },
   "outputs": [],
   "source": [
    "%matplotlib inline\n",
    "trial = 1\n",
    "event = \"rulecue2\"\n",
    "sn.events_get_time_using_photodiode(trial, list_events=[event], plot_beh_code_stream = True, \n",
    "                                    do_reextract_even_if_saved=True)\n"
   ]
  },
  {
   "cell_type": "code",
   "execution_count": null,
   "id": "50d28669",
   "metadata": {},
   "outputs": [],
   "source": [
    "import numpy as np\n",
    "np.linspace(-0.015, 0.055, 50)"
   ]
  },
  {
   "cell_type": "code",
   "execution_count": null,
   "id": "323a9b05",
   "metadata": {},
   "outputs": [],
   "source": []
  },
  {
   "cell_type": "code",
   "execution_count": null,
   "id": "309dcb92",
   "metadata": {},
   "outputs": [],
   "source": [
    "np.linspace(-0.045, 0.045, )"
   ]
  },
  {
   "cell_type": "code",
   "execution_count": null,
   "id": "7508f2b2",
   "metadata": {},
   "outputs": [],
   "source": [
    "np.linspace(1,10)\n"
   ]
  },
  {
   "cell_type": "code",
   "execution_count": null,
   "id": "3efae11b",
   "metadata": {},
   "outputs": [],
   "source": [
    "print(10)"
   ]
  },
  {
   "cell_type": "code",
   "execution_count": null,
   "id": "e594c0b4",
   "metadata": {},
   "outputs": [],
   "source": [
    "sn.events_get_time_sorted(trial, [\"fixcue\", \"fixtch\"])[0]"
   ]
  },
  {
   "cell_type": "code",
   "execution_count": null,
   "id": "6d2746b4",
   "metadata": {},
   "outputs": [],
   "source": [
    "trial = 594\n",
    "%matplotlib inline\n",
    "\n",
    "sn.events_get_time_using_photodiode(trial, list_events=[event], plot_beh_code_stream = True, overwrite=True)"
   ]
  },
  {
   "cell_type": "markdown",
   "id": "ab429de9",
   "metadata": {},
   "source": [
    "##### Problem: fixtouch even before fixation cue onset"
   ]
  },
  {
   "cell_type": "code",
   "execution_count": null,
   "id": "aeec9b60",
   "metadata": {},
   "outputs": [],
   "source": [
    "# Solution: detect cases. call the onset the same time as fixcue onset."
   ]
  },
  {
   "cell_type": "code",
   "execution_count": null,
   "id": "d883a1aa",
   "metadata": {},
   "outputs": [],
   "source": [
    "for t in sn.get_trials_list(True):\n",
    "    if sn.beh_check_touching_fixation_square_during_onset(t):\n",
    "        print(t)"
   ]
  },
  {
   "cell_type": "code",
   "execution_count": null,
   "id": "5276daae",
   "metadata": {},
   "outputs": [],
   "source": [
    "touch.shape"
   ]
  },
  {
   "cell_type": "markdown",
   "id": "e631f79f",
   "metadata": {},
   "source": [
    "#### Plot"
   ]
  },
  {
   "cell_type": "code",
   "execution_count": null,
   "id": "b4bbd264",
   "metadata": {},
   "outputs": [],
   "source": [
    "sn.extract_data_tank_epocs(\"camtrialoff\")"
   ]
  },
  {
   "cell_type": "code",
   "execution_count": null,
   "id": "8d6ffb8e",
   "metadata": {},
   "outputs": [],
   "source": [
    "sn.DatTank[\"epocs\"]"
   ]
  },
  {
   "cell_type": "code",
   "execution_count": null,
   "id": "d6a5f0e5",
   "metadata": {},
   "outputs": [],
   "source": [
    "# sn.DatTank[\"streams\"][\"Mic1\"]\n",
    "# sn.DatTank[\"streams\"][\"PhD2\"]\n",
    "# sn.DatTank[\"streams\"][\"Eyee\"]\n",
    "sn.DatTank[\"streams\"][\"PhDi\"]"
   ]
  },
  {
   "cell_type": "code",
   "execution_count": null,
   "id": "4d579d87",
   "metadata": {},
   "outputs": [],
   "source": [
    "sn.behcode_extract_times_semantic(\"go\", trial)"
   ]
  },
  {
   "cell_type": "code",
   "execution_count": null,
   "id": "7d9280c3",
   "metadata": {},
   "outputs": [],
   "source": [
    "sn.behcode_extract_times_sequence"
   ]
  },
  {
   "cell_type": "code",
   "execution_count": null,
   "id": "b46d47a7",
   "metadata": {},
   "outputs": [],
   "source": [
    "sn.behcode_extract_times_semantic(\"samp\", trial)"
   ]
  },
  {
   "cell_type": "code",
   "execution_count": null,
   "id": "1fb19d96",
   "metadata": {},
   "outputs": [],
   "source": [
    "2.5 + 0.3*2.5"
   ]
  },
  {
   "cell_type": "code",
   "execution_count": null,
   "id": "df198817",
   "metadata": {},
   "outputs": [],
   "source": [
    "DATE"
   ]
  },
  {
   "cell_type": "code",
   "execution_count": null,
   "id": "9bb293e866159bce",
   "metadata": {
    "collapsed": false
   },
   "outputs": [],
   "source": [
    "%matplotlib inline\n",
    "sites = sn.sitegetterKS_all_sites()\n",
    "trial= 2\n",
    "sn.plotwrapper_raster_oneetrial_multsites(trial, sites[:10], overlay_trial_events=False,  overlay_trial_events_notpd=True)\n",
    "# sn.plotwrapper_raster_oneetrial_multsites(trial, sites[:10], overlay_trial_events=True,  overlay_trial_events_notpd=False)\n",
    "\n"
   ]
  },
  {
   "cell_type": "code",
   "execution_count": null,
   "id": "0ecbd226",
   "metadata": {},
   "outputs": [],
   "source": [
    "trials = sn.get_trials_list(True, True)\n",
    "sites = sn.sitegetter_all()\n",
    "pre = -0.55\n",
    "post = -0.05\n",
    "sn.smoothedfr_extract_timewindow(trials, sites, \"first_raise\", pre, post)\n",
    "\n",
    "sn.events_get_time_using_photodiode(269, list_events=[\"first_raise\"], plot_beh_code_stream = True, overwrite=True)"
   ]
  },
  {
   "cell_type": "code",
   "execution_count": null,
   "id": "7c97e02c",
   "metadata": {},
   "outputs": [],
   "source": [
    "sn.plotwrapper_raster_oneetrial_multsites(269, sites[:10])"
   ]
  },
  {
   "cell_type": "code",
   "execution_count": null,
   "id": "06ad6138",
   "metadata": {},
   "outputs": [],
   "source": [
    "from neuralmonkey.scripts.analy_euclidian_dist_pop_script import plot_all_results_time_trajectories\n",
    "plot_all_results_time_trajectories()"
   ]
  },
  {
   "cell_type": "code",
   "execution_count": null,
   "id": "2a63d5f9",
   "metadata": {},
   "outputs": [],
   "source": []
  },
  {
   "cell_type": "markdown",
   "id": "e9852aa5",
   "metadata": {},
   "source": [
    "# Get times of events on each trial"
   ]
  },
  {
   "cell_type": "code",
   "execution_count": null,
   "id": "65715603",
   "metadata": {},
   "outputs": [],
   "source": [
    "SN = MS.SessionsList[0]\n",
    "SN.eventsdataframe_sanity_check()"
   ]
  },
  {
   "cell_type": "markdown",
   "id": "94d1f7fe",
   "metadata": {},
   "source": []
  }
 ],
 "metadata": {
  "kernelspec": {
   "display_name": "drag2_matlab",
   "language": "python",
   "name": "python3"
  },
  "language_info": {
   "codemirror_mode": {
    "name": "ipython",
    "version": 3
   },
   "file_extension": ".py",
   "mimetype": "text/x-python",
   "name": "python",
   "nbconvert_exporter": "python",
   "pygments_lexer": "ipython3",
   "version": "3.8.18"
  }
 },
 "nbformat": 4,
 "nbformat_minor": 5
}
