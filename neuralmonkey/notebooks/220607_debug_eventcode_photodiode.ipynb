{
 "cells": [
  {
   "cell_type": "code",
   "execution_count": 1,
   "id": "6d084eb6",
   "metadata": {},
   "outputs": [
    {
     "data": {
      "text/plain": [
       "'\\n'"
      ]
     },
     "execution_count": 1,
     "metadata": {},
     "output_type": "execute_result"
    }
   ],
   "source": [
    "\"\"\"\n",
    "\"\"\""
   ]
  },
  {
   "cell_type": "code",
   "execution_count": 2,
   "id": "a0eeaf3c5c275eab",
   "metadata": {
    "collapsed": false
   },
   "outputs": [],
   "source": [
    "%load_ext autoreload\n",
    "%autoreload 2\n"
   ]
  },
  {
   "cell_type": "code",
   "execution_count": 3,
   "id": "d746b568",
   "metadata": {},
   "outputs": [],
   "source": [
    "from neuralmonkey.classes.session import Session\n",
    "import matplotlib.pyplot as plt\n",
    "from neuralmonkey.scripts.load_and_save_locally import load_and_preprocess_single_session\n",
    "import neuralmonkey.utils.monkeylogic as mkl\n",
    "from neuralmonkey.classes.session import load_session_helper, load_mult_session_helper\n",
    "import os\n",
    "import numpy as np\n",
    "import matplotlib.pyplot as plt"
   ]
  },
  {
   "cell_type": "code",
   "execution_count": 4,
   "id": "7ca77dc17e000235",
   "metadata": {
    "collapsed": false
   },
   "outputs": [],
   "source": [
    "import numpy as np"
   ]
  },
  {
   "cell_type": "code",
   "execution_count": null,
   "id": "6dfb0cae",
   "metadata": {},
   "outputs": [],
   "source": [
    "DATE = 250319\n",
    "animal = \"Diego\"\n",
    "\n",
    "# DATE = 240829\n",
    "# animal = \"Pancho\"\n"
   ]
  },
  {
   "cell_type": "code",
   "execution_count": null,
   "id": "acb18b8f",
   "metadata": {},
   "outputs": [],
   "source": [
    "# To get two days, \n",
    "animal = \"Diego\"\n",
    "\n",
    "DATE = 240605\n",
    "MS1 = load_mult_session_helper(DATE, animal, MINIMAL_LOADING=True, spikes_version=\"tdt\")   \n",
    "DATE = 240614\n",
    "MS2 = load_mult_session_helper(DATE, animal, MINIMAL_LOADING=True, spikes_version=\"tdt\")   \n"
   ]
  },
  {
   "cell_type": "code",
   "execution_count": null,
   "id": "13a223d0",
   "metadata": {},
   "outputs": [],
   "source": [
    "list(range(2))"
   ]
  },
  {
   "cell_type": "code",
   "execution_count": 5,
   "id": "2d854e90",
   "metadata": {},
   "outputs": [
    {
     "name": "stdout",
     "output_type": "stream",
     "text": [
      "Searching using this string:\n",
      "/home/lucas/mnt/Freiwald/ltian/recordings/*Diego*/*231122*/**\n",
      "Found this many paths:\n",
      "4\n",
      "---\n",
      "/home/lucas/mnt/Freiwald/ltian/recordings/Diego/231122/Diego-231122-161439\n",
      "---\n",
      "/home/lucas/mnt/Freiwald/ltian/recordings/Diego/231122/Diego-231122-165717\n",
      "---\n",
      "/home/lucas/mnt/Freiwald/ltian/recordings/Diego/231122/Diego-231122-170427\n",
      "---\n",
      "/home/lucas/mnt/Freiwald/ltian/recordings/Diego/231122/Diego-231122-172308\n",
      "session:  0\n",
      "Beh Sessions that exist on this date:  {231122: [(1, 'chardiego1c'), (2, 'chardiego1c'), (3, 'chardiego1c'), (4, 'chardiego1c')]}\n",
      "------------------------------\n",
      "Loading this neural session: 0\n",
      "Loading these beh expts: ['chardiego1c']\n",
      "Loading these beh sessions: [1]\n",
      "Using this beh_trial_map_list: [(1, 0)]\n",
      "USING THIS SPIKES VERSION:  tdt\n",
      "Searching using this string:\n",
      "/home/lucas/mnt/Freiwald/ltian/recordings/*Diego*/*231122*/**\n",
      "Found this many paths:\n",
      "4\n",
      "---\n",
      "/home/lucas/mnt/Freiwald/ltian/recordings/Diego/231122/Diego-231122-161439\n",
      "---\n",
      "/home/lucas/mnt/Freiwald/ltian/recordings/Diego/231122/Diego-231122-165717\n",
      "---\n",
      "/home/lucas/mnt/Freiwald/ltian/recordings/Diego/231122/Diego-231122-170427\n",
      "---\n",
      "/home/lucas/mnt/Freiwald/ltian/recordings/Diego/231122/Diego-231122-172308\n",
      "{'filename_components_hyphened': ['Diego', '231122', '161439'], 'basedirs': ['/home/lucas/mnt/Freiwald/ltian/recordings/Diego', '/home/lucas/mnt/Freiwald/ltian/recordings/Diego/231122'], 'basedirs_filenames': ['231122', 'Diego-231122-161439'], 'filename_final_ext': 'Diego-231122-161439', 'filename_final_noext': 'Diego-231122-161439'}\n",
      "FOund this path for spikes:  /home/lucas/mnt/Freiwald/ltian/recordings/Diego/231122/Diego-231122-161439/spikes_tdt_quick-4\n",
      "== PATHS for this expt: \n",
      "raws  --  /home/lucas/mnt/Freiwald/ltian/recordings/Diego/231122/Diego-231122-161439\n",
      "tank  --  /home/lucas/mnt/Freiwald/ltian/recordings/Diego/231122/Diego-231122-161439/Diego-231122-161439\n",
      "spikes  --  /home/lucas/mnt/Freiwald/ltian/recordings/Diego/231122/Diego-231122-161439/spikes_tdt_quick-4\n",
      "final_dir_name  --  Diego-231122-161439\n",
      "time  --  161439\n",
      "pathbase_local  --  /lemur2/lucas/neural_preprocess/recordings/Diego/231122/Diego-231122-161439\n",
      "tank_local  --  /lemur2/lucas/neural_preprocess/recordings/Diego/231122/Diego-231122-161439/data_tank.pkl\n",
      "spikes_local  --  /lemur2/lucas/neural_preprocess/recordings/Diego/231122/Diego-231122-161439/data_spikes.pkl\n",
      "datall_local  --  /lemur2/lucas/neural_preprocess/recordings/Diego/231122/Diego-231122-161439/data_datall.pkl\n",
      "events_local  --  /lemur2/lucas/neural_preprocess/recordings/Diego/231122/Diego-231122-161439/events_photodiode.pkl\n",
      "mapper_st2dat_local  --  /lemur2/lucas/neural_preprocess/recordings/Diego/231122/Diego-231122-161439/mapper_st2dat.pkl\n",
      "figs_local  --  /lemur2/lucas/neural_preprocess/recordings/Diego/231122/Diego-231122-161439/figs\n",
      "metadata_units  --  /home/lucas/code/neuralmonkey/neuralmonkey/metadat/units_Diego\n",
      "cached_dir  --  /lemur2/lucas/neural_preprocess/recordings/Diego/231122/Diego-231122-161439/cached\n",
      "Sites metada path doesnt exist:  /home/lucas/code/neuralmonkey/neuralmonkey/metadat/units/231122.yaml\n",
      "updating self.SitesDirty with:  ('sites_garbage', 'sites_error_spikes', 'sites_low_spk_magn')\n",
      "[_sitesdirty_update] skipping! since did not find:  sites_garbage\n",
      "[_sitesdirty_update] skipping! since did not find:  sites_error_spikes\n",
      "Loading file:  /home/lucas/mnt/Freiwald/ltian/recordings/Diego/231122/Diego-231122-161439/spikes_tdt_quick-4/RSn2-1-snips_subset\n",
      "Loading file:  /home/lucas/mnt/Freiwald/ltian/recordings/Diego/231122/Diego-231122-161439/spikes_tdt_quick-4/RSn2-2-snips_subset\n",
      "Loading file:  /home/lucas/mnt/Freiwald/ltian/recordings/Diego/231122/Diego-231122-161439/spikes_tdt_quick-4/RSn2-3-snips_subset\n",
      "Loading file:  /home/lucas/mnt/Freiwald/ltian/recordings/Diego/231122/Diego-231122-161439/spikes_tdt_quick-4/RSn2-4-snips_subset\n",
      "Loading file:  /home/lucas/mnt/Freiwald/ltian/recordings/Diego/231122/Diego-231122-161439/spikes_tdt_quick-4/RSn2-5-snips_subset\n",
      "Loading file:  /home/lucas/mnt/Freiwald/ltian/recordings/Diego/231122/Diego-231122-161439/spikes_tdt_quick-4/RSn2-6-snips_subset\n",
      "Loading file:  /home/lucas/mnt/Freiwald/ltian/recordings/Diego/231122/Diego-231122-161439/spikes_tdt_quick-4/RSn2-7-snips_subset\n",
      "Loading file:  /home/lucas/mnt/Freiwald/ltian/recordings/Diego/231122/Diego-231122-161439/spikes_tdt_quick-4/RSn2-8-snips_subset\n",
      "Loading file:  /home/lucas/mnt/Freiwald/ltian/recordings/Diego/231122/Diego-231122-161439/spikes_tdt_quick-4/RSn2-9-snips_subset\n",
      "Loading file:  /home/lucas/mnt/Freiwald/ltian/recordings/Diego/231122/Diego-231122-161439/spikes_tdt_quick-4/RSn2-10-snips_subset\n",
      "Loading file:  /home/lucas/mnt/Freiwald/ltian/recordings/Diego/231122/Diego-231122-161439/spikes_tdt_quick-4/RSn2-11-snips_subset\n",
      "Loading file:  /home/lucas/mnt/Freiwald/ltian/recordings/Diego/231122/Diego-231122-161439/spikes_tdt_quick-4/RSn2-12-snips_subset\n",
      "Loading file:  /home/lucas/mnt/Freiwald/ltian/recordings/Diego/231122/Diego-231122-161439/spikes_tdt_quick-4/RSn2-13-snips_subset\n",
      "Loading file:  /home/lucas/mnt/Freiwald/ltian/recordings/Diego/231122/Diego-231122-161439/spikes_tdt_quick-4/RSn2-14-snips_subset\n",
      "Loading file:  /home/lucas/mnt/Freiwald/ltian/recordings/Diego/231122/Diego-231122-161439/spikes_tdt_quick-4/RSn2-15-snips_subset\n",
      "Loading file:  /home/lucas/mnt/Freiwald/ltian/recordings/Diego/231122/Diego-231122-161439/spikes_tdt_quick-4/RSn2-16-snips_subset\n",
      "Loading file:  /home/lucas/mnt/Freiwald/ltian/recordings/Diego/231122/Diego-231122-161439/spikes_tdt_quick-4/RSn2-17-snips_subset\n",
      "Loading file:  /home/lucas/mnt/Freiwald/ltian/recordings/Diego/231122/Diego-231122-161439/spikes_tdt_quick-4/RSn2-18-snips_subset\n",
      "Loading file:  /home/lucas/mnt/Freiwald/ltian/recordings/Diego/231122/Diego-231122-161439/spikes_tdt_quick-4/RSn2-19-snips_subset\n",
      "Loading file:  /home/lucas/mnt/Freiwald/ltian/recordings/Diego/231122/Diego-231122-161439/spikes_tdt_quick-4/RSn2-20-snips_subset\n",
      "Loading file:  /home/lucas/mnt/Freiwald/ltian/recordings/Diego/231122/Diego-231122-161439/spikes_tdt_quick-4/RSn2-21-snips_subset\n",
      "Loading file:  /home/lucas/mnt/Freiwald/ltian/recordings/Diego/231122/Diego-231122-161439/spikes_tdt_quick-4/RSn2-22-snips_subset\n",
      "Loading file:  /home/lucas/mnt/Freiwald/ltian/recordings/Diego/231122/Diego-231122-161439/spikes_tdt_quick-4/RSn2-23-snips_subset\n",
      "Loading file:  /home/lucas/mnt/Freiwald/ltian/recordings/Diego/231122/Diego-231122-161439/spikes_tdt_quick-4/RSn2-24-snips_subset\n",
      "Loading file:  /home/lucas/mnt/Freiwald/ltian/recordings/Diego/231122/Diego-231122-161439/spikes_tdt_quick-4/RSn2-25-snips_subset\n",
      "Loading file:  /home/lucas/mnt/Freiwald/ltian/recordings/Diego/231122/Diego-231122-161439/spikes_tdt_quick-4/RSn2-26-snips_subset\n",
      "Loading file:  /home/lucas/mnt/Freiwald/ltian/recordings/Diego/231122/Diego-231122-161439/spikes_tdt_quick-4/RSn2-27-snips_subset\n",
      "Loading file:  /home/lucas/mnt/Freiwald/ltian/recordings/Diego/231122/Diego-231122-161439/spikes_tdt_quick-4/RSn2-28-snips_subset\n",
      "Loading file:  /home/lucas/mnt/Freiwald/ltian/recordings/Diego/231122/Diego-231122-161439/spikes_tdt_quick-4/RSn2-29-snips_subset\n",
      "Loading file:  /home/lucas/mnt/Freiwald/ltian/recordings/Diego/231122/Diego-231122-161439/spikes_tdt_quick-4/RSn2-30-snips_subset\n",
      "Loading file:  /home/lucas/mnt/Freiwald/ltian/recordings/Diego/231122/Diego-231122-161439/spikes_tdt_quick-4/RSn2-31-snips_subset\n",
      "Loading file:  /home/lucas/mnt/Freiwald/ltian/recordings/Diego/231122/Diego-231122-161439/spikes_tdt_quick-4/RSn2-32-snips_subset\n",
      "Loading file:  /home/lucas/mnt/Freiwald/ltian/recordings/Diego/231122/Diego-231122-161439/spikes_tdt_quick-4/RSn2-33-snips_subset\n",
      "Loading file:  /home/lucas/mnt/Freiwald/ltian/recordings/Diego/231122/Diego-231122-161439/spikes_tdt_quick-4/RSn2-34-snips_subset\n",
      "Loading file:  /home/lucas/mnt/Freiwald/ltian/recordings/Diego/231122/Diego-231122-161439/spikes_tdt_quick-4/RSn2-35-snips_subset\n",
      "Loading file:  /home/lucas/mnt/Freiwald/ltian/recordings/Diego/231122/Diego-231122-161439/spikes_tdt_quick-4/RSn2-36-snips_subset\n",
      "Loading file:  /home/lucas/mnt/Freiwald/ltian/recordings/Diego/231122/Diego-231122-161439/spikes_tdt_quick-4/RSn2-37-snips_subset\n",
      "Loading file:  /home/lucas/mnt/Freiwald/ltian/recordings/Diego/231122/Diego-231122-161439/spikes_tdt_quick-4/RSn2-38-snips_subset\n",
      "Loading file:  /home/lucas/mnt/Freiwald/ltian/recordings/Diego/231122/Diego-231122-161439/spikes_tdt_quick-4/RSn2-39-snips_subset\n",
      "Loading file:  /home/lucas/mnt/Freiwald/ltian/recordings/Diego/231122/Diego-231122-161439/spikes_tdt_quick-4/RSn2-40-snips_subset\n",
      "Loading file:  /home/lucas/mnt/Freiwald/ltian/recordings/Diego/231122/Diego-231122-161439/spikes_tdt_quick-4/RSn2-41-snips_subset\n",
      "Loading file:  /home/lucas/mnt/Freiwald/ltian/recordings/Diego/231122/Diego-231122-161439/spikes_tdt_quick-4/RSn2-42-snips_subset\n",
      "Loading file:  /home/lucas/mnt/Freiwald/ltian/recordings/Diego/231122/Diego-231122-161439/spikes_tdt_quick-4/RSn2-43-snips_subset\n",
      "Loading file:  /home/lucas/mnt/Freiwald/ltian/recordings/Diego/231122/Diego-231122-161439/spikes_tdt_quick-4/RSn2-44-snips_subset\n",
      "Loading file:  /home/lucas/mnt/Freiwald/ltian/recordings/Diego/231122/Diego-231122-161439/spikes_tdt_quick-4/RSn2-45-snips_subset\n",
      "Loading file:  /home/lucas/mnt/Freiwald/ltian/recordings/Diego/231122/Diego-231122-161439/spikes_tdt_quick-4/RSn2-46-snips_subset\n",
      "Loading file:  /home/lucas/mnt/Freiwald/ltian/recordings/Diego/231122/Diego-231122-161439/spikes_tdt_quick-4/RSn2-47-snips_subset\n",
      "Loading file:  /home/lucas/mnt/Freiwald/ltian/recordings/Diego/231122/Diego-231122-161439/spikes_tdt_quick-4/RSn2-48-snips_subset\n",
      "Loading file:  /home/lucas/mnt/Freiwald/ltian/recordings/Diego/231122/Diego-231122-161439/spikes_tdt_quick-4/RSn2-49-snips_subset\n",
      "Loading file:  /home/lucas/mnt/Freiwald/ltian/recordings/Diego/231122/Diego-231122-161439/spikes_tdt_quick-4/RSn2-50-snips_subset\n",
      "Loading file:  /home/lucas/mnt/Freiwald/ltian/recordings/Diego/231122/Diego-231122-161439/spikes_tdt_quick-4/RSn2-51-snips_subset\n",
      "Loading file:  /home/lucas/mnt/Freiwald/ltian/recordings/Diego/231122/Diego-231122-161439/spikes_tdt_quick-4/RSn2-52-snips_subset\n",
      "Loading file:  /home/lucas/mnt/Freiwald/ltian/recordings/Diego/231122/Diego-231122-161439/spikes_tdt_quick-4/RSn2-53-snips_subset\n",
      "Loading file:  /home/lucas/mnt/Freiwald/ltian/recordings/Diego/231122/Diego-231122-161439/spikes_tdt_quick-4/RSn2-54-snips_subset\n",
      "Loading file:  /home/lucas/mnt/Freiwald/ltian/recordings/Diego/231122/Diego-231122-161439/spikes_tdt_quick-4/RSn2-55-snips_subset\n",
      "Loading file:  /home/lucas/mnt/Freiwald/ltian/recordings/Diego/231122/Diego-231122-161439/spikes_tdt_quick-4/RSn2-56-snips_subset\n",
      "Loading file:  /home/lucas/mnt/Freiwald/ltian/recordings/Diego/231122/Diego-231122-161439/spikes_tdt_quick-4/RSn2-57-snips_subset\n",
      "Loading file:  /home/lucas/mnt/Freiwald/ltian/recordings/Diego/231122/Diego-231122-161439/spikes_tdt_quick-4/RSn2-58-snips_subset\n",
      "Loading file:  /home/lucas/mnt/Freiwald/ltian/recordings/Diego/231122/Diego-231122-161439/spikes_tdt_quick-4/RSn2-59-snips_subset\n",
      "Loading file:  /home/lucas/mnt/Freiwald/ltian/recordings/Diego/231122/Diego-231122-161439/spikes_tdt_quick-4/RSn2-60-snips_subset\n",
      "Loading file:  /home/lucas/mnt/Freiwald/ltian/recordings/Diego/231122/Diego-231122-161439/spikes_tdt_quick-4/RSn2-61-snips_subset\n",
      "Loading file:  /home/lucas/mnt/Freiwald/ltian/recordings/Diego/231122/Diego-231122-161439/spikes_tdt_quick-4/RSn2-62-snips_subset\n",
      "Loading file:  /home/lucas/mnt/Freiwald/ltian/recordings/Diego/231122/Diego-231122-161439/spikes_tdt_quick-4/RSn2-63-snips_subset\n",
      "Loading file:  /home/lucas/mnt/Freiwald/ltian/recordings/Diego/231122/Diego-231122-161439/spikes_tdt_quick-4/RSn2-64-snips_subset\n",
      "Loading file:  /home/lucas/mnt/Freiwald/ltian/recordings/Diego/231122/Diego-231122-161439/spikes_tdt_quick-4/RSn2-65-snips_subset\n",
      "Loading file:  /home/lucas/mnt/Freiwald/ltian/recordings/Diego/231122/Diego-231122-161439/spikes_tdt_quick-4/RSn2-66-snips_subset\n",
      "Loading file:  /home/lucas/mnt/Freiwald/ltian/recordings/Diego/231122/Diego-231122-161439/spikes_tdt_quick-4/RSn2-67-snips_subset\n",
      "Loading file:  /home/lucas/mnt/Freiwald/ltian/recordings/Diego/231122/Diego-231122-161439/spikes_tdt_quick-4/RSn2-68-snips_subset\n",
      "Loading file:  /home/lucas/mnt/Freiwald/ltian/recordings/Diego/231122/Diego-231122-161439/spikes_tdt_quick-4/RSn2-69-snips_subset\n",
      "Loading file:  /home/lucas/mnt/Freiwald/ltian/recordings/Diego/231122/Diego-231122-161439/spikes_tdt_quick-4/RSn2-70-snips_subset\n",
      "Loading file:  /home/lucas/mnt/Freiwald/ltian/recordings/Diego/231122/Diego-231122-161439/spikes_tdt_quick-4/RSn2-71-snips_subset\n",
      "Loading file:  /home/lucas/mnt/Freiwald/ltian/recordings/Diego/231122/Diego-231122-161439/spikes_tdt_quick-4/RSn2-72-snips_subset\n",
      "Loading file:  /home/lucas/mnt/Freiwald/ltian/recordings/Diego/231122/Diego-231122-161439/spikes_tdt_quick-4/RSn2-73-snips_subset\n",
      "Loading file:  /home/lucas/mnt/Freiwald/ltian/recordings/Diego/231122/Diego-231122-161439/spikes_tdt_quick-4/RSn2-74-snips_subset\n",
      "Loading file:  /home/lucas/mnt/Freiwald/ltian/recordings/Diego/231122/Diego-231122-161439/spikes_tdt_quick-4/RSn2-75-snips_subset\n",
      "Loading file:  /home/lucas/mnt/Freiwald/ltian/recordings/Diego/231122/Diego-231122-161439/spikes_tdt_quick-4/RSn2-76-snips_subset\n",
      "Loading file:  /home/lucas/mnt/Freiwald/ltian/recordings/Diego/231122/Diego-231122-161439/spikes_tdt_quick-4/RSn2-77-snips_subset\n",
      "Loading file:  /home/lucas/mnt/Freiwald/ltian/recordings/Diego/231122/Diego-231122-161439/spikes_tdt_quick-4/RSn2-78-snips_subset\n",
      "Loading file:  /home/lucas/mnt/Freiwald/ltian/recordings/Diego/231122/Diego-231122-161439/spikes_tdt_quick-4/RSn2-79-snips_subset\n",
      "Loading file:  /home/lucas/mnt/Freiwald/ltian/recordings/Diego/231122/Diego-231122-161439/spikes_tdt_quick-4/RSn2-80-snips_subset\n",
      "Loading file:  /home/lucas/mnt/Freiwald/ltian/recordings/Diego/231122/Diego-231122-161439/spikes_tdt_quick-4/RSn2-81-snips_subset\n",
      "Loading file:  /home/lucas/mnt/Freiwald/ltian/recordings/Diego/231122/Diego-231122-161439/spikes_tdt_quick-4/RSn2-82-snips_subset\n",
      "Loading file:  /home/lucas/mnt/Freiwald/ltian/recordings/Diego/231122/Diego-231122-161439/spikes_tdt_quick-4/RSn2-83-snips_subset\n",
      "Loading file:  /home/lucas/mnt/Freiwald/ltian/recordings/Diego/231122/Diego-231122-161439/spikes_tdt_quick-4/RSn2-84-snips_subset\n",
      "Loading file:  /home/lucas/mnt/Freiwald/ltian/recordings/Diego/231122/Diego-231122-161439/spikes_tdt_quick-4/RSn2-85-snips_subset\n",
      "Loading file:  /home/lucas/mnt/Freiwald/ltian/recordings/Diego/231122/Diego-231122-161439/spikes_tdt_quick-4/RSn2-86-snips_subset\n",
      "Loading file:  /home/lucas/mnt/Freiwald/ltian/recordings/Diego/231122/Diego-231122-161439/spikes_tdt_quick-4/RSn2-87-snips_subset\n",
      "Loading file:  /home/lucas/mnt/Freiwald/ltian/recordings/Diego/231122/Diego-231122-161439/spikes_tdt_quick-4/RSn2-88-snips_subset\n",
      "Loading file:  /home/lucas/mnt/Freiwald/ltian/recordings/Diego/231122/Diego-231122-161439/spikes_tdt_quick-4/RSn2-89-snips_subset\n",
      "Loading file:  /home/lucas/mnt/Freiwald/ltian/recordings/Diego/231122/Diego-231122-161439/spikes_tdt_quick-4/RSn2-90-snips_subset\n",
      "Loading file:  /home/lucas/mnt/Freiwald/ltian/recordings/Diego/231122/Diego-231122-161439/spikes_tdt_quick-4/RSn2-91-snips_subset\n",
      "Loading file:  /home/lucas/mnt/Freiwald/ltian/recordings/Diego/231122/Diego-231122-161439/spikes_tdt_quick-4/RSn2-92-snips_subset\n",
      "Loading file:  /home/lucas/mnt/Freiwald/ltian/recordings/Diego/231122/Diego-231122-161439/spikes_tdt_quick-4/RSn2-93-snips_subset\n",
      "Loading file:  /home/lucas/mnt/Freiwald/ltian/recordings/Diego/231122/Diego-231122-161439/spikes_tdt_quick-4/RSn2-94-snips_subset\n",
      "Loading file:  /home/lucas/mnt/Freiwald/ltian/recordings/Diego/231122/Diego-231122-161439/spikes_tdt_quick-4/RSn2-95-snips_subset\n",
      "Loading file:  /home/lucas/mnt/Freiwald/ltian/recordings/Diego/231122/Diego-231122-161439/spikes_tdt_quick-4/RSn2-96-snips_subset\n",
      "Loading file:  /home/lucas/mnt/Freiwald/ltian/recordings/Diego/231122/Diego-231122-161439/spikes_tdt_quick-4/RSn2-97-snips_subset\n",
      "Loading file:  /home/lucas/mnt/Freiwald/ltian/recordings/Diego/231122/Diego-231122-161439/spikes_tdt_quick-4/RSn2-98-snips_subset\n",
      "Loading file:  /home/lucas/mnt/Freiwald/ltian/recordings/Diego/231122/Diego-231122-161439/spikes_tdt_quick-4/RSn2-99-snips_subset\n",
      "Loading file:  /home/lucas/mnt/Freiwald/ltian/recordings/Diego/231122/Diego-231122-161439/spikes_tdt_quick-4/RSn2-100-snips_subset\n",
      "Loading file:  /home/lucas/mnt/Freiwald/ltian/recordings/Diego/231122/Diego-231122-161439/spikes_tdt_quick-4/RSn2-101-snips_subset\n",
      "Loading file:  /home/lucas/mnt/Freiwald/ltian/recordings/Diego/231122/Diego-231122-161439/spikes_tdt_quick-4/RSn2-102-snips_subset\n",
      "Loading file:  /home/lucas/mnt/Freiwald/ltian/recordings/Diego/231122/Diego-231122-161439/spikes_tdt_quick-4/RSn2-103-snips_subset\n",
      "Loading file:  /home/lucas/mnt/Freiwald/ltian/recordings/Diego/231122/Diego-231122-161439/spikes_tdt_quick-4/RSn2-104-snips_subset\n",
      "Loading file:  /home/lucas/mnt/Freiwald/ltian/recordings/Diego/231122/Diego-231122-161439/spikes_tdt_quick-4/RSn2-105-snips_subset\n",
      "Loading file:  /home/lucas/mnt/Freiwald/ltian/recordings/Diego/231122/Diego-231122-161439/spikes_tdt_quick-4/RSn2-106-snips_subset\n",
      "Loading file:  /home/lucas/mnt/Freiwald/ltian/recordings/Diego/231122/Diego-231122-161439/spikes_tdt_quick-4/RSn2-107-snips_subset\n",
      "Loading file:  /home/lucas/mnt/Freiwald/ltian/recordings/Diego/231122/Diego-231122-161439/spikes_tdt_quick-4/RSn2-108-snips_subset\n",
      "Loading file:  /home/lucas/mnt/Freiwald/ltian/recordings/Diego/231122/Diego-231122-161439/spikes_tdt_quick-4/RSn2-109-snips_subset\n",
      "Loading file:  /home/lucas/mnt/Freiwald/ltian/recordings/Diego/231122/Diego-231122-161439/spikes_tdt_quick-4/RSn2-110-snips_subset\n",
      "Loading file:  /home/lucas/mnt/Freiwald/ltian/recordings/Diego/231122/Diego-231122-161439/spikes_tdt_quick-4/RSn2-111-snips_subset\n",
      "Loading file:  /home/lucas/mnt/Freiwald/ltian/recordings/Diego/231122/Diego-231122-161439/spikes_tdt_quick-4/RSn2-112-snips_subset\n",
      "Loading file:  /home/lucas/mnt/Freiwald/ltian/recordings/Diego/231122/Diego-231122-161439/spikes_tdt_quick-4/RSn2-113-snips_subset\n",
      "Loading file:  /home/lucas/mnt/Freiwald/ltian/recordings/Diego/231122/Diego-231122-161439/spikes_tdt_quick-4/RSn2-114-snips_subset\n",
      "Loading file:  /home/lucas/mnt/Freiwald/ltian/recordings/Diego/231122/Diego-231122-161439/spikes_tdt_quick-4/RSn2-115-snips_subset\n",
      "Loading file:  /home/lucas/mnt/Freiwald/ltian/recordings/Diego/231122/Diego-231122-161439/spikes_tdt_quick-4/RSn2-116-snips_subset\n",
      "Loading file:  /home/lucas/mnt/Freiwald/ltian/recordings/Diego/231122/Diego-231122-161439/spikes_tdt_quick-4/RSn2-117-snips_subset\n",
      "Loading file:  /home/lucas/mnt/Freiwald/ltian/recordings/Diego/231122/Diego-231122-161439/spikes_tdt_quick-4/RSn2-118-snips_subset\n",
      "Loading file:  /home/lucas/mnt/Freiwald/ltian/recordings/Diego/231122/Diego-231122-161439/spikes_tdt_quick-4/RSn2-119-snips_subset\n",
      "Loading file:  /home/lucas/mnt/Freiwald/ltian/recordings/Diego/231122/Diego-231122-161439/spikes_tdt_quick-4/RSn2-120-snips_subset\n",
      "Loading file:  /home/lucas/mnt/Freiwald/ltian/recordings/Diego/231122/Diego-231122-161439/spikes_tdt_quick-4/RSn2-121-snips_subset\n",
      "Loading file:  /home/lucas/mnt/Freiwald/ltian/recordings/Diego/231122/Diego-231122-161439/spikes_tdt_quick-4/RSn2-122-snips_subset\n",
      "Loading file:  /home/lucas/mnt/Freiwald/ltian/recordings/Diego/231122/Diego-231122-161439/spikes_tdt_quick-4/RSn2-123-snips_subset\n",
      "Loading file:  /home/lucas/mnt/Freiwald/ltian/recordings/Diego/231122/Diego-231122-161439/spikes_tdt_quick-4/RSn2-124-snips_subset\n",
      "Loading file:  /home/lucas/mnt/Freiwald/ltian/recordings/Diego/231122/Diego-231122-161439/spikes_tdt_quick-4/RSn2-125-snips_subset\n",
      "Loading file:  /home/lucas/mnt/Freiwald/ltian/recordings/Diego/231122/Diego-231122-161439/spikes_tdt_quick-4/RSn2-126-snips_subset\n",
      "Loading file:  /home/lucas/mnt/Freiwald/ltian/recordings/Diego/231122/Diego-231122-161439/spikes_tdt_quick-4/RSn2-127-snips_subset\n",
      "Loading file:  /home/lucas/mnt/Freiwald/ltian/recordings/Diego/231122/Diego-231122-161439/spikes_tdt_quick-4/RSn2-128-snips_subset\n",
      "Loading file:  /home/lucas/mnt/Freiwald/ltian/recordings/Diego/231122/Diego-231122-161439/spikes_tdt_quick-4/RSn2-129-snips_subset\n",
      "Loading file:  /home/lucas/mnt/Freiwald/ltian/recordings/Diego/231122/Diego-231122-161439/spikes_tdt_quick-4/RSn2-130-snips_subset\n",
      "Loading file:  /home/lucas/mnt/Freiwald/ltian/recordings/Diego/231122/Diego-231122-161439/spikes_tdt_quick-4/RSn2-131-snips_subset\n",
      "Loading file:  /home/lucas/mnt/Freiwald/ltian/recordings/Diego/231122/Diego-231122-161439/spikes_tdt_quick-4/RSn2-132-snips_subset\n",
      "Loading file:  /home/lucas/mnt/Freiwald/ltian/recordings/Diego/231122/Diego-231122-161439/spikes_tdt_quick-4/RSn2-133-snips_subset\n",
      "Loading file:  /home/lucas/mnt/Freiwald/ltian/recordings/Diego/231122/Diego-231122-161439/spikes_tdt_quick-4/RSn2-134-snips_subset\n",
      "Loading file:  /home/lucas/mnt/Freiwald/ltian/recordings/Diego/231122/Diego-231122-161439/spikes_tdt_quick-4/RSn2-135-snips_subset\n",
      "Loading file:  /home/lucas/mnt/Freiwald/ltian/recordings/Diego/231122/Diego-231122-161439/spikes_tdt_quick-4/RSn2-136-snips_subset\n",
      "Loading file:  /home/lucas/mnt/Freiwald/ltian/recordings/Diego/231122/Diego-231122-161439/spikes_tdt_quick-4/RSn2-137-snips_subset\n",
      "Loading file:  /home/lucas/mnt/Freiwald/ltian/recordings/Diego/231122/Diego-231122-161439/spikes_tdt_quick-4/RSn2-138-snips_subset\n",
      "Loading file:  /home/lucas/mnt/Freiwald/ltian/recordings/Diego/231122/Diego-231122-161439/spikes_tdt_quick-4/RSn2-139-snips_subset\n",
      "Loading file:  /home/lucas/mnt/Freiwald/ltian/recordings/Diego/231122/Diego-231122-161439/spikes_tdt_quick-4/RSn2-140-snips_subset\n",
      "Loading file:  /home/lucas/mnt/Freiwald/ltian/recordings/Diego/231122/Diego-231122-161439/spikes_tdt_quick-4/RSn2-141-snips_subset\n",
      "Loading file:  /home/lucas/mnt/Freiwald/ltian/recordings/Diego/231122/Diego-231122-161439/spikes_tdt_quick-4/RSn2-142-snips_subset\n",
      "Loading file:  /home/lucas/mnt/Freiwald/ltian/recordings/Diego/231122/Diego-231122-161439/spikes_tdt_quick-4/RSn2-143-snips_subset\n",
      "Loading file:  /home/lucas/mnt/Freiwald/ltian/recordings/Diego/231122/Diego-231122-161439/spikes_tdt_quick-4/RSn2-144-snips_subset\n",
      "Loading file:  /home/lucas/mnt/Freiwald/ltian/recordings/Diego/231122/Diego-231122-161439/spikes_tdt_quick-4/RSn2-145-snips_subset\n",
      "Loading file:  /home/lucas/mnt/Freiwald/ltian/recordings/Diego/231122/Diego-231122-161439/spikes_tdt_quick-4/RSn2-146-snips_subset\n",
      "Loading file:  /home/lucas/mnt/Freiwald/ltian/recordings/Diego/231122/Diego-231122-161439/spikes_tdt_quick-4/RSn2-147-snips_subset\n",
      "Loading file:  /home/lucas/mnt/Freiwald/ltian/recordings/Diego/231122/Diego-231122-161439/spikes_tdt_quick-4/RSn2-148-snips_subset\n",
      "Loading file:  /home/lucas/mnt/Freiwald/ltian/recordings/Diego/231122/Diego-231122-161439/spikes_tdt_quick-4/RSn2-149-snips_subset\n",
      "Loading file:  /home/lucas/mnt/Freiwald/ltian/recordings/Diego/231122/Diego-231122-161439/spikes_tdt_quick-4/RSn2-150-snips_subset\n",
      "Loading file:  /home/lucas/mnt/Freiwald/ltian/recordings/Diego/231122/Diego-231122-161439/spikes_tdt_quick-4/RSn2-151-snips_subset\n",
      "Loading file:  /home/lucas/mnt/Freiwald/ltian/recordings/Diego/231122/Diego-231122-161439/spikes_tdt_quick-4/RSn2-152-snips_subset\n",
      "Loading file:  /home/lucas/mnt/Freiwald/ltian/recordings/Diego/231122/Diego-231122-161439/spikes_tdt_quick-4/RSn2-153-snips_subset\n",
      "Loading file:  /home/lucas/mnt/Freiwald/ltian/recordings/Diego/231122/Diego-231122-161439/spikes_tdt_quick-4/RSn2-154-snips_subset\n",
      "Loading file:  /home/lucas/mnt/Freiwald/ltian/recordings/Diego/231122/Diego-231122-161439/spikes_tdt_quick-4/RSn2-155-snips_subset\n",
      "Loading file:  /home/lucas/mnt/Freiwald/ltian/recordings/Diego/231122/Diego-231122-161439/spikes_tdt_quick-4/RSn2-156-snips_subset\n",
      "Loading file:  /home/lucas/mnt/Freiwald/ltian/recordings/Diego/231122/Diego-231122-161439/spikes_tdt_quick-4/RSn2-157-snips_subset\n",
      "Loading file:  /home/lucas/mnt/Freiwald/ltian/recordings/Diego/231122/Diego-231122-161439/spikes_tdt_quick-4/RSn2-158-snips_subset\n",
      "Loading file:  /home/lucas/mnt/Freiwald/ltian/recordings/Diego/231122/Diego-231122-161439/spikes_tdt_quick-4/RSn2-159-snips_subset\n",
      "Loading file:  /home/lucas/mnt/Freiwald/ltian/recordings/Diego/231122/Diego-231122-161439/spikes_tdt_quick-4/RSn2-160-snips_subset\n",
      "Loading file:  /home/lucas/mnt/Freiwald/ltian/recordings/Diego/231122/Diego-231122-161439/spikes_tdt_quick-4/RSn2-161-snips_subset\n",
      "Loading file:  /home/lucas/mnt/Freiwald/ltian/recordings/Diego/231122/Diego-231122-161439/spikes_tdt_quick-4/RSn2-162-snips_subset\n",
      "Loading file:  /home/lucas/mnt/Freiwald/ltian/recordings/Diego/231122/Diego-231122-161439/spikes_tdt_quick-4/RSn2-163-snips_subset\n",
      "Loading file:  /home/lucas/mnt/Freiwald/ltian/recordings/Diego/231122/Diego-231122-161439/spikes_tdt_quick-4/RSn2-164-snips_subset\n",
      "Loading file:  /home/lucas/mnt/Freiwald/ltian/recordings/Diego/231122/Diego-231122-161439/spikes_tdt_quick-4/RSn2-165-snips_subset\n",
      "Loading file:  /home/lucas/mnt/Freiwald/ltian/recordings/Diego/231122/Diego-231122-161439/spikes_tdt_quick-4/RSn2-166-snips_subset\n",
      "Loading file:  /home/lucas/mnt/Freiwald/ltian/recordings/Diego/231122/Diego-231122-161439/spikes_tdt_quick-4/RSn2-167-snips_subset\n",
      "Loading file:  /home/lucas/mnt/Freiwald/ltian/recordings/Diego/231122/Diego-231122-161439/spikes_tdt_quick-4/RSn2-168-snips_subset\n",
      "Loading file:  /home/lucas/mnt/Freiwald/ltian/recordings/Diego/231122/Diego-231122-161439/spikes_tdt_quick-4/RSn2-169-snips_subset\n",
      "Loading file:  /home/lucas/mnt/Freiwald/ltian/recordings/Diego/231122/Diego-231122-161439/spikes_tdt_quick-4/RSn2-170-snips_subset\n",
      "Loading file:  /home/lucas/mnt/Freiwald/ltian/recordings/Diego/231122/Diego-231122-161439/spikes_tdt_quick-4/RSn2-171-snips_subset\n",
      "Loading file:  /home/lucas/mnt/Freiwald/ltian/recordings/Diego/231122/Diego-231122-161439/spikes_tdt_quick-4/RSn2-172-snips_subset\n",
      "Loading file:  /home/lucas/mnt/Freiwald/ltian/recordings/Diego/231122/Diego-231122-161439/spikes_tdt_quick-4/RSn2-173-snips_subset\n",
      "Loading file:  /home/lucas/mnt/Freiwald/ltian/recordings/Diego/231122/Diego-231122-161439/spikes_tdt_quick-4/RSn2-174-snips_subset\n",
      "Loading file:  /home/lucas/mnt/Freiwald/ltian/recordings/Diego/231122/Diego-231122-161439/spikes_tdt_quick-4/RSn2-175-snips_subset\n",
      "Loading file:  /home/lucas/mnt/Freiwald/ltian/recordings/Diego/231122/Diego-231122-161439/spikes_tdt_quick-4/RSn2-176-snips_subset\n",
      "Loading file:  /home/lucas/mnt/Freiwald/ltian/recordings/Diego/231122/Diego-231122-161439/spikes_tdt_quick-4/RSn2-177-snips_subset\n",
      "Loading file:  /home/lucas/mnt/Freiwald/ltian/recordings/Diego/231122/Diego-231122-161439/spikes_tdt_quick-4/RSn2-178-snips_subset\n",
      "Loading file:  /home/lucas/mnt/Freiwald/ltian/recordings/Diego/231122/Diego-231122-161439/spikes_tdt_quick-4/RSn2-179-snips_subset\n",
      "Loading file:  /home/lucas/mnt/Freiwald/ltian/recordings/Diego/231122/Diego-231122-161439/spikes_tdt_quick-4/RSn2-180-snips_subset\n",
      "Loading file:  /home/lucas/mnt/Freiwald/ltian/recordings/Diego/231122/Diego-231122-161439/spikes_tdt_quick-4/RSn2-181-snips_subset\n",
      "Loading file:  /home/lucas/mnt/Freiwald/ltian/recordings/Diego/231122/Diego-231122-161439/spikes_tdt_quick-4/RSn2-182-snips_subset\n",
      "Loading file:  /home/lucas/mnt/Freiwald/ltian/recordings/Diego/231122/Diego-231122-161439/spikes_tdt_quick-4/RSn2-183-snips_subset\n",
      "Loading file:  /home/lucas/mnt/Freiwald/ltian/recordings/Diego/231122/Diego-231122-161439/spikes_tdt_quick-4/RSn2-184-snips_subset\n",
      "Loading file:  /home/lucas/mnt/Freiwald/ltian/recordings/Diego/231122/Diego-231122-161439/spikes_tdt_quick-4/RSn2-185-snips_subset\n",
      "Loading file:  /home/lucas/mnt/Freiwald/ltian/recordings/Diego/231122/Diego-231122-161439/spikes_tdt_quick-4/RSn2-186-snips_subset\n",
      "Loading file:  /home/lucas/mnt/Freiwald/ltian/recordings/Diego/231122/Diego-231122-161439/spikes_tdt_quick-4/RSn2-187-snips_subset\n",
      "Loading file:  /home/lucas/mnt/Freiwald/ltian/recordings/Diego/231122/Diego-231122-161439/spikes_tdt_quick-4/RSn2-188-snips_subset\n",
      "Loading file:  /home/lucas/mnt/Freiwald/ltian/recordings/Diego/231122/Diego-231122-161439/spikes_tdt_quick-4/RSn2-189-snips_subset\n",
      "Loading file:  /home/lucas/mnt/Freiwald/ltian/recordings/Diego/231122/Diego-231122-161439/spikes_tdt_quick-4/RSn2-190-snips_subset\n",
      "Loading file:  /home/lucas/mnt/Freiwald/ltian/recordings/Diego/231122/Diego-231122-161439/spikes_tdt_quick-4/RSn2-191-snips_subset\n",
      "Loading file:  /home/lucas/mnt/Freiwald/ltian/recordings/Diego/231122/Diego-231122-161439/spikes_tdt_quick-4/RSn2-192-snips_subset\n",
      "Loading file:  /home/lucas/mnt/Freiwald/ltian/recordings/Diego/231122/Diego-231122-161439/spikes_tdt_quick-4/RSn2-225-snips_subset\n",
      "Loading file:  /home/lucas/mnt/Freiwald/ltian/recordings/Diego/231122/Diego-231122-161439/spikes_tdt_quick-4/RSn2-226-snips_subset\n",
      "Loading file:  /home/lucas/mnt/Freiwald/ltian/recordings/Diego/231122/Diego-231122-161439/spikes_tdt_quick-4/RSn2-227-snips_subset\n",
      "Loading file:  /home/lucas/mnt/Freiwald/ltian/recordings/Diego/231122/Diego-231122-161439/spikes_tdt_quick-4/RSn2-228-snips_subset\n",
      "Loading file:  /home/lucas/mnt/Freiwald/ltian/recordings/Diego/231122/Diego-231122-161439/spikes_tdt_quick-4/RSn2-229-snips_subset\n",
      "Loading file:  /home/lucas/mnt/Freiwald/ltian/recordings/Diego/231122/Diego-231122-161439/spikes_tdt_quick-4/RSn2-230-snips_subset\n",
      "Loading file:  /home/lucas/mnt/Freiwald/ltian/recordings/Diego/231122/Diego-231122-161439/spikes_tdt_quick-4/RSn2-231-snips_subset\n",
      "Loading file:  /home/lucas/mnt/Freiwald/ltian/recordings/Diego/231122/Diego-231122-161439/spikes_tdt_quick-4/RSn2-232-snips_subset\n",
      "Loading file:  /home/lucas/mnt/Freiwald/ltian/recordings/Diego/231122/Diego-231122-161439/spikes_tdt_quick-4/RSn2-233-snips_subset\n",
      "Loading file:  /home/lucas/mnt/Freiwald/ltian/recordings/Diego/231122/Diego-231122-161439/spikes_tdt_quick-4/RSn2-234-snips_subset\n",
      "Loading file:  /home/lucas/mnt/Freiwald/ltian/recordings/Diego/231122/Diego-231122-161439/spikes_tdt_quick-4/RSn2-235-snips_subset\n",
      "Loading file:  /home/lucas/mnt/Freiwald/ltian/recordings/Diego/231122/Diego-231122-161439/spikes_tdt_quick-4/RSn2-236-snips_subset\n",
      "Loading file:  /home/lucas/mnt/Freiwald/ltian/recordings/Diego/231122/Diego-231122-161439/spikes_tdt_quick-4/RSn2-237-snips_subset\n",
      "Loading file:  /home/lucas/mnt/Freiwald/ltian/recordings/Diego/231122/Diego-231122-161439/spikes_tdt_quick-4/RSn2-238-snips_subset\n",
      "Loading file:  /home/lucas/mnt/Freiwald/ltian/recordings/Diego/231122/Diego-231122-161439/spikes_tdt_quick-4/RSn2-239-snips_subset\n",
      "Loading file:  /home/lucas/mnt/Freiwald/ltian/recordings/Diego/231122/Diego-231122-161439/spikes_tdt_quick-4/RSn2-240-snips_subset\n",
      "Loading file:  /home/lucas/mnt/Freiwald/ltian/recordings/Diego/231122/Diego-231122-161439/spikes_tdt_quick-4/RSn2-241-snips_subset\n",
      "Loading file:  /home/lucas/mnt/Freiwald/ltian/recordings/Diego/231122/Diego-231122-161439/spikes_tdt_quick-4/RSn2-242-snips_subset\n",
      "Loading file:  /home/lucas/mnt/Freiwald/ltian/recordings/Diego/231122/Diego-231122-161439/spikes_tdt_quick-4/RSn2-243-snips_subset\n",
      "Loading file:  /home/lucas/mnt/Freiwald/ltian/recordings/Diego/231122/Diego-231122-161439/spikes_tdt_quick-4/RSn2-244-snips_subset\n",
      "Loading file:  /home/lucas/mnt/Freiwald/ltian/recordings/Diego/231122/Diego-231122-161439/spikes_tdt_quick-4/RSn2-245-snips_subset\n",
      "Loading file:  /home/lucas/mnt/Freiwald/ltian/recordings/Diego/231122/Diego-231122-161439/spikes_tdt_quick-4/RSn2-246-snips_subset\n",
      "Loading file:  /home/lucas/mnt/Freiwald/ltian/recordings/Diego/231122/Diego-231122-161439/spikes_tdt_quick-4/RSn2-247-snips_subset\n",
      "Loading file:  /home/lucas/mnt/Freiwald/ltian/recordings/Diego/231122/Diego-231122-161439/spikes_tdt_quick-4/RSn2-248-snips_subset\n",
      "Loading file:  /home/lucas/mnt/Freiwald/ltian/recordings/Diego/231122/Diego-231122-161439/spikes_tdt_quick-4/RSn2-249-snips_subset\n",
      "Loading file:  /home/lucas/mnt/Freiwald/ltian/recordings/Diego/231122/Diego-231122-161439/spikes_tdt_quick-4/RSn2-250-snips_subset\n",
      "Loading file:  /home/lucas/mnt/Freiwald/ltian/recordings/Diego/231122/Diego-231122-161439/spikes_tdt_quick-4/RSn2-251-snips_subset\n",
      "Loading file:  /home/lucas/mnt/Freiwald/ltian/recordings/Diego/231122/Diego-231122-161439/spikes_tdt_quick-4/RSn2-252-snips_subset\n",
      "Loading file:  /home/lucas/mnt/Freiwald/ltian/recordings/Diego/231122/Diego-231122-161439/spikes_tdt_quick-4/RSn2-253-snips_subset\n",
      "Loading file:  /home/lucas/mnt/Freiwald/ltian/recordings/Diego/231122/Diego-231122-161439/spikes_tdt_quick-4/RSn2-254-snips_subset\n",
      "Loading file:  /home/lucas/mnt/Freiwald/ltian/recordings/Diego/231122/Diego-231122-161439/spikes_tdt_quick-4/RSn2-255-snips_subset\n",
      "Loading file:  /home/lucas/mnt/Freiwald/ltian/recordings/Diego/231122/Diego-231122-161439/spikes_tdt_quick-4/RSn2-256-snips_subset\n",
      "Loading file:  /home/lucas/mnt/Freiwald/ltian/recordings/Diego/231122/Diego-231122-161439/spikes_tdt_quick-4/RSn3-1-snips_subset\n",
      "Loading file:  /home/lucas/mnt/Freiwald/ltian/recordings/Diego/231122/Diego-231122-161439/spikes_tdt_quick-4/RSn3-2-snips_subset\n",
      "Loading file:  /home/lucas/mnt/Freiwald/ltian/recordings/Diego/231122/Diego-231122-161439/spikes_tdt_quick-4/RSn3-3-snips_subset\n",
      "Loading file:  /home/lucas/mnt/Freiwald/ltian/recordings/Diego/231122/Diego-231122-161439/spikes_tdt_quick-4/RSn3-4-snips_subset\n",
      "Loading file:  /home/lucas/mnt/Freiwald/ltian/recordings/Diego/231122/Diego-231122-161439/spikes_tdt_quick-4/RSn3-5-snips_subset\n",
      "Loading file:  /home/lucas/mnt/Freiwald/ltian/recordings/Diego/231122/Diego-231122-161439/spikes_tdt_quick-4/RSn3-6-snips_subset\n",
      "Loading file:  /home/lucas/mnt/Freiwald/ltian/recordings/Diego/231122/Diego-231122-161439/spikes_tdt_quick-4/RSn3-7-snips_subset\n",
      "Loading file:  /home/lucas/mnt/Freiwald/ltian/recordings/Diego/231122/Diego-231122-161439/spikes_tdt_quick-4/RSn3-8-snips_subset\n",
      "Loading file:  /home/lucas/mnt/Freiwald/ltian/recordings/Diego/231122/Diego-231122-161439/spikes_tdt_quick-4/RSn3-9-snips_subset\n",
      "Loading file:  /home/lucas/mnt/Freiwald/ltian/recordings/Diego/231122/Diego-231122-161439/spikes_tdt_quick-4/RSn3-10-snips_subset\n",
      "Loading file:  /home/lucas/mnt/Freiwald/ltian/recordings/Diego/231122/Diego-231122-161439/spikes_tdt_quick-4/RSn3-11-snips_subset\n",
      "Loading file:  /home/lucas/mnt/Freiwald/ltian/recordings/Diego/231122/Diego-231122-161439/spikes_tdt_quick-4/RSn3-12-snips_subset\n",
      "Loading file:  /home/lucas/mnt/Freiwald/ltian/recordings/Diego/231122/Diego-231122-161439/spikes_tdt_quick-4/RSn3-13-snips_subset\n",
      "Loading file:  /home/lucas/mnt/Freiwald/ltian/recordings/Diego/231122/Diego-231122-161439/spikes_tdt_quick-4/RSn3-14-snips_subset\n",
      "Loading file:  /home/lucas/mnt/Freiwald/ltian/recordings/Diego/231122/Diego-231122-161439/spikes_tdt_quick-4/RSn3-15-snips_subset\n",
      "Loading file:  /home/lucas/mnt/Freiwald/ltian/recordings/Diego/231122/Diego-231122-161439/spikes_tdt_quick-4/RSn3-16-snips_subset\n",
      "Loading file:  /home/lucas/mnt/Freiwald/ltian/recordings/Diego/231122/Diego-231122-161439/spikes_tdt_quick-4/RSn3-17-snips_subset\n",
      "Loading file:  /home/lucas/mnt/Freiwald/ltian/recordings/Diego/231122/Diego-231122-161439/spikes_tdt_quick-4/RSn3-18-snips_subset\n",
      "Loading file:  /home/lucas/mnt/Freiwald/ltian/recordings/Diego/231122/Diego-231122-161439/spikes_tdt_quick-4/RSn3-19-snips_subset\n",
      "Loading file:  /home/lucas/mnt/Freiwald/ltian/recordings/Diego/231122/Diego-231122-161439/spikes_tdt_quick-4/RSn3-20-snips_subset\n",
      "Loading file:  /home/lucas/mnt/Freiwald/ltian/recordings/Diego/231122/Diego-231122-161439/spikes_tdt_quick-4/RSn3-21-snips_subset\n",
      "Loading file:  /home/lucas/mnt/Freiwald/ltian/recordings/Diego/231122/Diego-231122-161439/spikes_tdt_quick-4/RSn3-22-snips_subset\n",
      "Loading file:  /home/lucas/mnt/Freiwald/ltian/recordings/Diego/231122/Diego-231122-161439/spikes_tdt_quick-4/RSn3-23-snips_subset\n",
      "Loading file:  /home/lucas/mnt/Freiwald/ltian/recordings/Diego/231122/Diego-231122-161439/spikes_tdt_quick-4/RSn3-24-snips_subset\n",
      "Loading file:  /home/lucas/mnt/Freiwald/ltian/recordings/Diego/231122/Diego-231122-161439/spikes_tdt_quick-4/RSn3-25-snips_subset\n",
      "Loading file:  /home/lucas/mnt/Freiwald/ltian/recordings/Diego/231122/Diego-231122-161439/spikes_tdt_quick-4/RSn3-26-snips_subset\n",
      "Loading file:  /home/lucas/mnt/Freiwald/ltian/recordings/Diego/231122/Diego-231122-161439/spikes_tdt_quick-4/RSn3-27-snips_subset\n",
      "Loading file:  /home/lucas/mnt/Freiwald/ltian/recordings/Diego/231122/Diego-231122-161439/spikes_tdt_quick-4/RSn3-28-snips_subset\n",
      "Loading file:  /home/lucas/mnt/Freiwald/ltian/recordings/Diego/231122/Diego-231122-161439/spikes_tdt_quick-4/RSn3-29-snips_subset\n",
      "Loading file:  /home/lucas/mnt/Freiwald/ltian/recordings/Diego/231122/Diego-231122-161439/spikes_tdt_quick-4/RSn3-30-snips_subset\n",
      "Loading file:  /home/lucas/mnt/Freiwald/ltian/recordings/Diego/231122/Diego-231122-161439/spikes_tdt_quick-4/RSn3-31-snips_subset\n",
      "Loading file:  /home/lucas/mnt/Freiwald/ltian/recordings/Diego/231122/Diego-231122-161439/spikes_tdt_quick-4/RSn3-32-snips_subset\n",
      "Loading file:  /home/lucas/mnt/Freiwald/ltian/recordings/Diego/231122/Diego-231122-161439/spikes_tdt_quick-4/RSn3-33-snips_subset\n",
      "Loading file:  /home/lucas/mnt/Freiwald/ltian/recordings/Diego/231122/Diego-231122-161439/spikes_tdt_quick-4/RSn3-34-snips_subset\n",
      "Loading file:  /home/lucas/mnt/Freiwald/ltian/recordings/Diego/231122/Diego-231122-161439/spikes_tdt_quick-4/RSn3-35-snips_subset\n",
      "Loading file:  /home/lucas/mnt/Freiwald/ltian/recordings/Diego/231122/Diego-231122-161439/spikes_tdt_quick-4/RSn3-36-snips_subset\n",
      "Loading file:  /home/lucas/mnt/Freiwald/ltian/recordings/Diego/231122/Diego-231122-161439/spikes_tdt_quick-4/RSn3-37-snips_subset\n",
      "Loading file:  /home/lucas/mnt/Freiwald/ltian/recordings/Diego/231122/Diego-231122-161439/spikes_tdt_quick-4/RSn3-38-snips_subset\n",
      "Loading file:  /home/lucas/mnt/Freiwald/ltian/recordings/Diego/231122/Diego-231122-161439/spikes_tdt_quick-4/RSn3-39-snips_subset\n",
      "Loading file:  /home/lucas/mnt/Freiwald/ltian/recordings/Diego/231122/Diego-231122-161439/spikes_tdt_quick-4/RSn3-40-snips_subset\n",
      "Loading file:  /home/lucas/mnt/Freiwald/ltian/recordings/Diego/231122/Diego-231122-161439/spikes_tdt_quick-4/RSn3-41-snips_subset\n",
      "Loading file:  /home/lucas/mnt/Freiwald/ltian/recordings/Diego/231122/Diego-231122-161439/spikes_tdt_quick-4/RSn3-42-snips_subset\n",
      "Loading file:  /home/lucas/mnt/Freiwald/ltian/recordings/Diego/231122/Diego-231122-161439/spikes_tdt_quick-4/RSn3-43-snips_subset\n",
      "Loading file:  /home/lucas/mnt/Freiwald/ltian/recordings/Diego/231122/Diego-231122-161439/spikes_tdt_quick-4/RSn3-44-snips_subset\n",
      "Loading file:  /home/lucas/mnt/Freiwald/ltian/recordings/Diego/231122/Diego-231122-161439/spikes_tdt_quick-4/RSn3-45-snips_subset\n",
      "Loading file:  /home/lucas/mnt/Freiwald/ltian/recordings/Diego/231122/Diego-231122-161439/spikes_tdt_quick-4/RSn3-46-snips_subset\n",
      "Loading file:  /home/lucas/mnt/Freiwald/ltian/recordings/Diego/231122/Diego-231122-161439/spikes_tdt_quick-4/RSn3-47-snips_subset\n",
      "Loading file:  /home/lucas/mnt/Freiwald/ltian/recordings/Diego/231122/Diego-231122-161439/spikes_tdt_quick-4/RSn3-48-snips_subset\n",
      "Loading file:  /home/lucas/mnt/Freiwald/ltian/recordings/Diego/231122/Diego-231122-161439/spikes_tdt_quick-4/RSn3-49-snips_subset\n",
      "Loading file:  /home/lucas/mnt/Freiwald/ltian/recordings/Diego/231122/Diego-231122-161439/spikes_tdt_quick-4/RSn3-50-snips_subset\n",
      "Loading file:  /home/lucas/mnt/Freiwald/ltian/recordings/Diego/231122/Diego-231122-161439/spikes_tdt_quick-4/RSn3-51-snips_subset\n",
      "Loading file:  /home/lucas/mnt/Freiwald/ltian/recordings/Diego/231122/Diego-231122-161439/spikes_tdt_quick-4/RSn3-52-snips_subset\n",
      "Loading file:  /home/lucas/mnt/Freiwald/ltian/recordings/Diego/231122/Diego-231122-161439/spikes_tdt_quick-4/RSn3-53-snips_subset\n",
      "Loading file:  /home/lucas/mnt/Freiwald/ltian/recordings/Diego/231122/Diego-231122-161439/spikes_tdt_quick-4/RSn3-54-snips_subset\n",
      "Loading file:  /home/lucas/mnt/Freiwald/ltian/recordings/Diego/231122/Diego-231122-161439/spikes_tdt_quick-4/RSn3-55-snips_subset\n",
      "Loading file:  /home/lucas/mnt/Freiwald/ltian/recordings/Diego/231122/Diego-231122-161439/spikes_tdt_quick-4/RSn3-56-snips_subset\n",
      "Loading file:  /home/lucas/mnt/Freiwald/ltian/recordings/Diego/231122/Diego-231122-161439/spikes_tdt_quick-4/RSn3-57-snips_subset\n",
      "Loading file:  /home/lucas/mnt/Freiwald/ltian/recordings/Diego/231122/Diego-231122-161439/spikes_tdt_quick-4/RSn3-58-snips_subset\n",
      "Loading file:  /home/lucas/mnt/Freiwald/ltian/recordings/Diego/231122/Diego-231122-161439/spikes_tdt_quick-4/RSn3-59-snips_subset\n",
      "Loading file:  /home/lucas/mnt/Freiwald/ltian/recordings/Diego/231122/Diego-231122-161439/spikes_tdt_quick-4/RSn3-60-snips_subset\n",
      "Loading file:  /home/lucas/mnt/Freiwald/ltian/recordings/Diego/231122/Diego-231122-161439/spikes_tdt_quick-4/RSn3-61-snips_subset\n",
      "Loading file:  /home/lucas/mnt/Freiwald/ltian/recordings/Diego/231122/Diego-231122-161439/spikes_tdt_quick-4/RSn3-62-snips_subset\n",
      "Loading file:  /home/lucas/mnt/Freiwald/ltian/recordings/Diego/231122/Diego-231122-161439/spikes_tdt_quick-4/RSn3-63-snips_subset\n",
      "Loading file:  /home/lucas/mnt/Freiwald/ltian/recordings/Diego/231122/Diego-231122-161439/spikes_tdt_quick-4/RSn3-64-snips_subset\n",
      "Loading file:  /home/lucas/mnt/Freiwald/ltian/recordings/Diego/231122/Diego-231122-161439/spikes_tdt_quick-4/RSn3-65-snips_subset\n",
      "Loading file:  /home/lucas/mnt/Freiwald/ltian/recordings/Diego/231122/Diego-231122-161439/spikes_tdt_quick-4/RSn3-66-snips_subset\n",
      "Loading file:  /home/lucas/mnt/Freiwald/ltian/recordings/Diego/231122/Diego-231122-161439/spikes_tdt_quick-4/RSn3-67-snips_subset\n",
      "Loading file:  /home/lucas/mnt/Freiwald/ltian/recordings/Diego/231122/Diego-231122-161439/spikes_tdt_quick-4/RSn3-68-snips_subset\n",
      "Loading file:  /home/lucas/mnt/Freiwald/ltian/recordings/Diego/231122/Diego-231122-161439/spikes_tdt_quick-4/RSn3-69-snips_subset\n",
      "Loading file:  /home/lucas/mnt/Freiwald/ltian/recordings/Diego/231122/Diego-231122-161439/spikes_tdt_quick-4/RSn3-70-snips_subset\n",
      "Loading file:  /home/lucas/mnt/Freiwald/ltian/recordings/Diego/231122/Diego-231122-161439/spikes_tdt_quick-4/RSn3-71-snips_subset\n",
      "Loading file:  /home/lucas/mnt/Freiwald/ltian/recordings/Diego/231122/Diego-231122-161439/spikes_tdt_quick-4/RSn3-72-snips_subset\n",
      "Loading file:  /home/lucas/mnt/Freiwald/ltian/recordings/Diego/231122/Diego-231122-161439/spikes_tdt_quick-4/RSn3-73-snips_subset\n",
      "Loading file:  /home/lucas/mnt/Freiwald/ltian/recordings/Diego/231122/Diego-231122-161439/spikes_tdt_quick-4/RSn3-74-snips_subset\n",
      "Loading file:  /home/lucas/mnt/Freiwald/ltian/recordings/Diego/231122/Diego-231122-161439/spikes_tdt_quick-4/RSn3-75-snips_subset\n",
      "Loading file:  /home/lucas/mnt/Freiwald/ltian/recordings/Diego/231122/Diego-231122-161439/spikes_tdt_quick-4/RSn3-76-snips_subset\n",
      "Loading file:  /home/lucas/mnt/Freiwald/ltian/recordings/Diego/231122/Diego-231122-161439/spikes_tdt_quick-4/RSn3-77-snips_subset\n",
      "Loading file:  /home/lucas/mnt/Freiwald/ltian/recordings/Diego/231122/Diego-231122-161439/spikes_tdt_quick-4/RSn3-78-snips_subset\n",
      "Loading file:  /home/lucas/mnt/Freiwald/ltian/recordings/Diego/231122/Diego-231122-161439/spikes_tdt_quick-4/RSn3-79-snips_subset\n",
      "Loading file:  /home/lucas/mnt/Freiwald/ltian/recordings/Diego/231122/Diego-231122-161439/spikes_tdt_quick-4/RSn3-80-snips_subset\n",
      "Loading file:  /home/lucas/mnt/Freiwald/ltian/recordings/Diego/231122/Diego-231122-161439/spikes_tdt_quick-4/RSn3-81-snips_subset\n",
      "Loading file:  /home/lucas/mnt/Freiwald/ltian/recordings/Diego/231122/Diego-231122-161439/spikes_tdt_quick-4/RSn3-82-snips_subset\n",
      "Loading file:  /home/lucas/mnt/Freiwald/ltian/recordings/Diego/231122/Diego-231122-161439/spikes_tdt_quick-4/RSn3-83-snips_subset\n",
      "Loading file:  /home/lucas/mnt/Freiwald/ltian/recordings/Diego/231122/Diego-231122-161439/spikes_tdt_quick-4/RSn3-84-snips_subset\n",
      "Loading file:  /home/lucas/mnt/Freiwald/ltian/recordings/Diego/231122/Diego-231122-161439/spikes_tdt_quick-4/RSn3-85-snips_subset\n",
      "Loading file:  /home/lucas/mnt/Freiwald/ltian/recordings/Diego/231122/Diego-231122-161439/spikes_tdt_quick-4/RSn3-86-snips_subset\n",
      "Loading file:  /home/lucas/mnt/Freiwald/ltian/recordings/Diego/231122/Diego-231122-161439/spikes_tdt_quick-4/RSn3-87-snips_subset\n",
      "Loading file:  /home/lucas/mnt/Freiwald/ltian/recordings/Diego/231122/Diego-231122-161439/spikes_tdt_quick-4/RSn3-88-snips_subset\n",
      "Loading file:  /home/lucas/mnt/Freiwald/ltian/recordings/Diego/231122/Diego-231122-161439/spikes_tdt_quick-4/RSn3-89-snips_subset\n",
      "Loading file:  /home/lucas/mnt/Freiwald/ltian/recordings/Diego/231122/Diego-231122-161439/spikes_tdt_quick-4/RSn3-90-snips_subset\n",
      "Loading file:  /home/lucas/mnt/Freiwald/ltian/recordings/Diego/231122/Diego-231122-161439/spikes_tdt_quick-4/RSn3-91-snips_subset\n",
      "Loading file:  /home/lucas/mnt/Freiwald/ltian/recordings/Diego/231122/Diego-231122-161439/spikes_tdt_quick-4/RSn3-92-snips_subset\n",
      "Loading file:  /home/lucas/mnt/Freiwald/ltian/recordings/Diego/231122/Diego-231122-161439/spikes_tdt_quick-4/RSn3-93-snips_subset\n",
      "Loading file:  /home/lucas/mnt/Freiwald/ltian/recordings/Diego/231122/Diego-231122-161439/spikes_tdt_quick-4/RSn3-94-snips_subset\n",
      "Loading file:  /home/lucas/mnt/Freiwald/ltian/recordings/Diego/231122/Diego-231122-161439/spikes_tdt_quick-4/RSn3-95-snips_subset\n",
      "Loading file:  /home/lucas/mnt/Freiwald/ltian/recordings/Diego/231122/Diego-231122-161439/spikes_tdt_quick-4/RSn3-96-snips_subset\n",
      "Loading file:  /home/lucas/mnt/Freiwald/ltian/recordings/Diego/231122/Diego-231122-161439/spikes_tdt_quick-4/RSn3-97-snips_subset\n",
      "Loading file:  /home/lucas/mnt/Freiwald/ltian/recordings/Diego/231122/Diego-231122-161439/spikes_tdt_quick-4/RSn3-98-snips_subset\n",
      "Loading file:  /home/lucas/mnt/Freiwald/ltian/recordings/Diego/231122/Diego-231122-161439/spikes_tdt_quick-4/RSn3-99-snips_subset\n",
      "Loading file:  /home/lucas/mnt/Freiwald/ltian/recordings/Diego/231122/Diego-231122-161439/spikes_tdt_quick-4/RSn3-100-snips_subset\n",
      "Loading file:  /home/lucas/mnt/Freiwald/ltian/recordings/Diego/231122/Diego-231122-161439/spikes_tdt_quick-4/RSn3-101-snips_subset\n",
      "Loading file:  /home/lucas/mnt/Freiwald/ltian/recordings/Diego/231122/Diego-231122-161439/spikes_tdt_quick-4/RSn3-102-snips_subset\n",
      "Loading file:  /home/lucas/mnt/Freiwald/ltian/recordings/Diego/231122/Diego-231122-161439/spikes_tdt_quick-4/RSn3-103-snips_subset\n",
      "Loading file:  /home/lucas/mnt/Freiwald/ltian/recordings/Diego/231122/Diego-231122-161439/spikes_tdt_quick-4/RSn3-104-snips_subset\n",
      "Loading file:  /home/lucas/mnt/Freiwald/ltian/recordings/Diego/231122/Diego-231122-161439/spikes_tdt_quick-4/RSn3-105-snips_subset\n",
      "Loading file:  /home/lucas/mnt/Freiwald/ltian/recordings/Diego/231122/Diego-231122-161439/spikes_tdt_quick-4/RSn3-106-snips_subset\n",
      "Loading file:  /home/lucas/mnt/Freiwald/ltian/recordings/Diego/231122/Diego-231122-161439/spikes_tdt_quick-4/RSn3-107-snips_subset\n",
      "Loading file:  /home/lucas/mnt/Freiwald/ltian/recordings/Diego/231122/Diego-231122-161439/spikes_tdt_quick-4/RSn3-108-snips_subset\n",
      "Loading file:  /home/lucas/mnt/Freiwald/ltian/recordings/Diego/231122/Diego-231122-161439/spikes_tdt_quick-4/RSn3-109-snips_subset\n",
      "Loading file:  /home/lucas/mnt/Freiwald/ltian/recordings/Diego/231122/Diego-231122-161439/spikes_tdt_quick-4/RSn3-110-snips_subset\n",
      "Loading file:  /home/lucas/mnt/Freiwald/ltian/recordings/Diego/231122/Diego-231122-161439/spikes_tdt_quick-4/RSn3-111-snips_subset\n",
      "Loading file:  /home/lucas/mnt/Freiwald/ltian/recordings/Diego/231122/Diego-231122-161439/spikes_tdt_quick-4/RSn3-112-snips_subset\n",
      "Loading file:  /home/lucas/mnt/Freiwald/ltian/recordings/Diego/231122/Diego-231122-161439/spikes_tdt_quick-4/RSn3-113-snips_subset\n",
      "Loading file:  /home/lucas/mnt/Freiwald/ltian/recordings/Diego/231122/Diego-231122-161439/spikes_tdt_quick-4/RSn3-114-snips_subset\n",
      "Loading file:  /home/lucas/mnt/Freiwald/ltian/recordings/Diego/231122/Diego-231122-161439/spikes_tdt_quick-4/RSn3-115-snips_subset\n",
      "Loading file:  /home/lucas/mnt/Freiwald/ltian/recordings/Diego/231122/Diego-231122-161439/spikes_tdt_quick-4/RSn3-116-snips_subset\n",
      "Loading file:  /home/lucas/mnt/Freiwald/ltian/recordings/Diego/231122/Diego-231122-161439/spikes_tdt_quick-4/RSn3-117-snips_subset\n",
      "Loading file:  /home/lucas/mnt/Freiwald/ltian/recordings/Diego/231122/Diego-231122-161439/spikes_tdt_quick-4/RSn3-118-snips_subset\n",
      "Loading file:  /home/lucas/mnt/Freiwald/ltian/recordings/Diego/231122/Diego-231122-161439/spikes_tdt_quick-4/RSn3-119-snips_subset\n",
      "Loading file:  /home/lucas/mnt/Freiwald/ltian/recordings/Diego/231122/Diego-231122-161439/spikes_tdt_quick-4/RSn3-120-snips_subset\n",
      "Loading file:  /home/lucas/mnt/Freiwald/ltian/recordings/Diego/231122/Diego-231122-161439/spikes_tdt_quick-4/RSn3-121-snips_subset\n",
      "Loading file:  /home/lucas/mnt/Freiwald/ltian/recordings/Diego/231122/Diego-231122-161439/spikes_tdt_quick-4/RSn3-122-snips_subset\n",
      "Loading file:  /home/lucas/mnt/Freiwald/ltian/recordings/Diego/231122/Diego-231122-161439/spikes_tdt_quick-4/RSn3-123-snips_subset\n",
      "Loading file:  /home/lucas/mnt/Freiwald/ltian/recordings/Diego/231122/Diego-231122-161439/spikes_tdt_quick-4/RSn3-124-snips_subset\n",
      "Loading file:  /home/lucas/mnt/Freiwald/ltian/recordings/Diego/231122/Diego-231122-161439/spikes_tdt_quick-4/RSn3-125-snips_subset\n",
      "Loading file:  /home/lucas/mnt/Freiwald/ltian/recordings/Diego/231122/Diego-231122-161439/spikes_tdt_quick-4/RSn3-126-snips_subset\n",
      "Loading file:  /home/lucas/mnt/Freiwald/ltian/recordings/Diego/231122/Diego-231122-161439/spikes_tdt_quick-4/RSn3-127-snips_subset\n",
      "Loading file:  /home/lucas/mnt/Freiwald/ltian/recordings/Diego/231122/Diego-231122-161439/spikes_tdt_quick-4/RSn3-128-snips_subset\n",
      "Loading file:  /home/lucas/mnt/Freiwald/ltian/recordings/Diego/231122/Diego-231122-161439/spikes_tdt_quick-4/RSn3-129-snips_subset\n",
      "Loading file:  /home/lucas/mnt/Freiwald/ltian/recordings/Diego/231122/Diego-231122-161439/spikes_tdt_quick-4/RSn3-130-snips_subset\n",
      "Loading file:  /home/lucas/mnt/Freiwald/ltian/recordings/Diego/231122/Diego-231122-161439/spikes_tdt_quick-4/RSn3-131-snips_subset\n",
      "Loading file:  /home/lucas/mnt/Freiwald/ltian/recordings/Diego/231122/Diego-231122-161439/spikes_tdt_quick-4/RSn3-132-snips_subset\n",
      "Loading file:  /home/lucas/mnt/Freiwald/ltian/recordings/Diego/231122/Diego-231122-161439/spikes_tdt_quick-4/RSn3-133-snips_subset\n",
      "Loading file:  /home/lucas/mnt/Freiwald/ltian/recordings/Diego/231122/Diego-231122-161439/spikes_tdt_quick-4/RSn3-134-snips_subset\n",
      "Loading file:  /home/lucas/mnt/Freiwald/ltian/recordings/Diego/231122/Diego-231122-161439/spikes_tdt_quick-4/RSn3-135-snips_subset\n",
      "Loading file:  /home/lucas/mnt/Freiwald/ltian/recordings/Diego/231122/Diego-231122-161439/spikes_tdt_quick-4/RSn3-136-snips_subset\n",
      "Loading file:  /home/lucas/mnt/Freiwald/ltian/recordings/Diego/231122/Diego-231122-161439/spikes_tdt_quick-4/RSn3-137-snips_subset\n",
      "Loading file:  /home/lucas/mnt/Freiwald/ltian/recordings/Diego/231122/Diego-231122-161439/spikes_tdt_quick-4/RSn3-138-snips_subset\n",
      "Loading file:  /home/lucas/mnt/Freiwald/ltian/recordings/Diego/231122/Diego-231122-161439/spikes_tdt_quick-4/RSn3-139-snips_subset\n",
      "Loading file:  /home/lucas/mnt/Freiwald/ltian/recordings/Diego/231122/Diego-231122-161439/spikes_tdt_quick-4/RSn3-140-snips_subset\n",
      "Loading file:  /home/lucas/mnt/Freiwald/ltian/recordings/Diego/231122/Diego-231122-161439/spikes_tdt_quick-4/RSn3-141-snips_subset\n",
      "Loading file:  /home/lucas/mnt/Freiwald/ltian/recordings/Diego/231122/Diego-231122-161439/spikes_tdt_quick-4/RSn3-142-snips_subset\n",
      "Loading file:  /home/lucas/mnt/Freiwald/ltian/recordings/Diego/231122/Diego-231122-161439/spikes_tdt_quick-4/RSn3-143-snips_subset\n",
      "Loading file:  /home/lucas/mnt/Freiwald/ltian/recordings/Diego/231122/Diego-231122-161439/spikes_tdt_quick-4/RSn3-144-snips_subset\n",
      "Loading file:  /home/lucas/mnt/Freiwald/ltian/recordings/Diego/231122/Diego-231122-161439/spikes_tdt_quick-4/RSn3-145-snips_subset\n",
      "Loading file:  /home/lucas/mnt/Freiwald/ltian/recordings/Diego/231122/Diego-231122-161439/spikes_tdt_quick-4/RSn3-146-snips_subset\n",
      "Loading file:  /home/lucas/mnt/Freiwald/ltian/recordings/Diego/231122/Diego-231122-161439/spikes_tdt_quick-4/RSn3-147-snips_subset\n",
      "Loading file:  /home/lucas/mnt/Freiwald/ltian/recordings/Diego/231122/Diego-231122-161439/spikes_tdt_quick-4/RSn3-148-snips_subset\n",
      "Loading file:  /home/lucas/mnt/Freiwald/ltian/recordings/Diego/231122/Diego-231122-161439/spikes_tdt_quick-4/RSn3-149-snips_subset\n",
      "Loading file:  /home/lucas/mnt/Freiwald/ltian/recordings/Diego/231122/Diego-231122-161439/spikes_tdt_quick-4/RSn3-150-snips_subset\n",
      "Loading file:  /home/lucas/mnt/Freiwald/ltian/recordings/Diego/231122/Diego-231122-161439/spikes_tdt_quick-4/RSn3-151-snips_subset\n",
      "Loading file:  /home/lucas/mnt/Freiwald/ltian/recordings/Diego/231122/Diego-231122-161439/spikes_tdt_quick-4/RSn3-152-snips_subset\n",
      "Loading file:  /home/lucas/mnt/Freiwald/ltian/recordings/Diego/231122/Diego-231122-161439/spikes_tdt_quick-4/RSn3-153-snips_subset\n",
      "Loading file:  /home/lucas/mnt/Freiwald/ltian/recordings/Diego/231122/Diego-231122-161439/spikes_tdt_quick-4/RSn3-154-snips_subset\n",
      "Loading file:  /home/lucas/mnt/Freiwald/ltian/recordings/Diego/231122/Diego-231122-161439/spikes_tdt_quick-4/RSn3-155-snips_subset\n",
      "Loading file:  /home/lucas/mnt/Freiwald/ltian/recordings/Diego/231122/Diego-231122-161439/spikes_tdt_quick-4/RSn3-156-snips_subset\n",
      "Loading file:  /home/lucas/mnt/Freiwald/ltian/recordings/Diego/231122/Diego-231122-161439/spikes_tdt_quick-4/RSn3-157-snips_subset\n",
      "Loading file:  /home/lucas/mnt/Freiwald/ltian/recordings/Diego/231122/Diego-231122-161439/spikes_tdt_quick-4/RSn3-158-snips_subset\n",
      "Loading file:  /home/lucas/mnt/Freiwald/ltian/recordings/Diego/231122/Diego-231122-161439/spikes_tdt_quick-4/RSn3-159-snips_subset\n",
      "Loading file:  /home/lucas/mnt/Freiwald/ltian/recordings/Diego/231122/Diego-231122-161439/spikes_tdt_quick-4/RSn3-160-snips_subset\n",
      "Loading file:  /home/lucas/mnt/Freiwald/ltian/recordings/Diego/231122/Diego-231122-161439/spikes_tdt_quick-4/RSn3-161-snips_subset\n",
      "Loading file:  /home/lucas/mnt/Freiwald/ltian/recordings/Diego/231122/Diego-231122-161439/spikes_tdt_quick-4/RSn3-162-snips_subset\n",
      "Loading file:  /home/lucas/mnt/Freiwald/ltian/recordings/Diego/231122/Diego-231122-161439/spikes_tdt_quick-4/RSn3-163-snips_subset\n",
      "Loading file:  /home/lucas/mnt/Freiwald/ltian/recordings/Diego/231122/Diego-231122-161439/spikes_tdt_quick-4/RSn3-164-snips_subset\n",
      "Loading file:  /home/lucas/mnt/Freiwald/ltian/recordings/Diego/231122/Diego-231122-161439/spikes_tdt_quick-4/RSn3-165-snips_subset\n",
      "Loading file:  /home/lucas/mnt/Freiwald/ltian/recordings/Diego/231122/Diego-231122-161439/spikes_tdt_quick-4/RSn3-166-snips_subset\n",
      "Loading file:  /home/lucas/mnt/Freiwald/ltian/recordings/Diego/231122/Diego-231122-161439/spikes_tdt_quick-4/RSn3-167-snips_subset\n",
      "Loading file:  /home/lucas/mnt/Freiwald/ltian/recordings/Diego/231122/Diego-231122-161439/spikes_tdt_quick-4/RSn3-168-snips_subset\n",
      "Loading file:  /home/lucas/mnt/Freiwald/ltian/recordings/Diego/231122/Diego-231122-161439/spikes_tdt_quick-4/RSn3-169-snips_subset\n",
      "Loading file:  /home/lucas/mnt/Freiwald/ltian/recordings/Diego/231122/Diego-231122-161439/spikes_tdt_quick-4/RSn3-170-snips_subset\n",
      "Loading file:  /home/lucas/mnt/Freiwald/ltian/recordings/Diego/231122/Diego-231122-161439/spikes_tdt_quick-4/RSn3-171-snips_subset\n",
      "Loading file:  /home/lucas/mnt/Freiwald/ltian/recordings/Diego/231122/Diego-231122-161439/spikes_tdt_quick-4/RSn3-172-snips_subset\n",
      "Loading file:  /home/lucas/mnt/Freiwald/ltian/recordings/Diego/231122/Diego-231122-161439/spikes_tdt_quick-4/RSn3-173-snips_subset\n",
      "Loading file:  /home/lucas/mnt/Freiwald/ltian/recordings/Diego/231122/Diego-231122-161439/spikes_tdt_quick-4/RSn3-174-snips_subset\n",
      "Loading file:  /home/lucas/mnt/Freiwald/ltian/recordings/Diego/231122/Diego-231122-161439/spikes_tdt_quick-4/RSn3-175-snips_subset\n",
      "Loading file:  /home/lucas/mnt/Freiwald/ltian/recordings/Diego/231122/Diego-231122-161439/spikes_tdt_quick-4/RSn3-176-snips_subset\n",
      "Loading file:  /home/lucas/mnt/Freiwald/ltian/recordings/Diego/231122/Diego-231122-161439/spikes_tdt_quick-4/RSn3-177-snips_subset\n",
      "Loading file:  /home/lucas/mnt/Freiwald/ltian/recordings/Diego/231122/Diego-231122-161439/spikes_tdt_quick-4/RSn3-178-snips_subset\n",
      "Loading file:  /home/lucas/mnt/Freiwald/ltian/recordings/Diego/231122/Diego-231122-161439/spikes_tdt_quick-4/RSn3-179-snips_subset\n",
      "Loading file:  /home/lucas/mnt/Freiwald/ltian/recordings/Diego/231122/Diego-231122-161439/spikes_tdt_quick-4/RSn3-180-snips_subset\n",
      "Loading file:  /home/lucas/mnt/Freiwald/ltian/recordings/Diego/231122/Diego-231122-161439/spikes_tdt_quick-4/RSn3-181-snips_subset\n",
      "Loading file:  /home/lucas/mnt/Freiwald/ltian/recordings/Diego/231122/Diego-231122-161439/spikes_tdt_quick-4/RSn3-182-snips_subset\n",
      "Loading file:  /home/lucas/mnt/Freiwald/ltian/recordings/Diego/231122/Diego-231122-161439/spikes_tdt_quick-4/RSn3-183-snips_subset\n",
      "Loading file:  /home/lucas/mnt/Freiwald/ltian/recordings/Diego/231122/Diego-231122-161439/spikes_tdt_quick-4/RSn3-184-snips_subset\n",
      "Loading file:  /home/lucas/mnt/Freiwald/ltian/recordings/Diego/231122/Diego-231122-161439/spikes_tdt_quick-4/RSn3-185-snips_subset\n",
      "Loading file:  /home/lucas/mnt/Freiwald/ltian/recordings/Diego/231122/Diego-231122-161439/spikes_tdt_quick-4/RSn3-186-snips_subset\n",
      "Loading file:  /home/lucas/mnt/Freiwald/ltian/recordings/Diego/231122/Diego-231122-161439/spikes_tdt_quick-4/RSn3-187-snips_subset\n",
      "Loading file:  /home/lucas/mnt/Freiwald/ltian/recordings/Diego/231122/Diego-231122-161439/spikes_tdt_quick-4/RSn3-188-snips_subset\n",
      "Loading file:  /home/lucas/mnt/Freiwald/ltian/recordings/Diego/231122/Diego-231122-161439/spikes_tdt_quick-4/RSn3-189-snips_subset\n",
      "Loading file:  /home/lucas/mnt/Freiwald/ltian/recordings/Diego/231122/Diego-231122-161439/spikes_tdt_quick-4/RSn3-190-snips_subset\n",
      "Loading file:  /home/lucas/mnt/Freiwald/ltian/recordings/Diego/231122/Diego-231122-161439/spikes_tdt_quick-4/RSn3-191-snips_subset\n",
      "Loading file:  /home/lucas/mnt/Freiwald/ltian/recordings/Diego/231122/Diego-231122-161439/spikes_tdt_quick-4/RSn3-192-snips_subset\n",
      "Loading file:  /home/lucas/mnt/Freiwald/ltian/recordings/Diego/231122/Diego-231122-161439/spikes_tdt_quick-4/RSn3-193-snips_subset\n",
      "Loading file:  /home/lucas/mnt/Freiwald/ltian/recordings/Diego/231122/Diego-231122-161439/spikes_tdt_quick-4/RSn3-194-snips_subset\n",
      "Loading file:  /home/lucas/mnt/Freiwald/ltian/recordings/Diego/231122/Diego-231122-161439/spikes_tdt_quick-4/RSn3-195-snips_subset\n",
      "Loading file:  /home/lucas/mnt/Freiwald/ltian/recordings/Diego/231122/Diego-231122-161439/spikes_tdt_quick-4/RSn3-196-snips_subset\n",
      "Loading file:  /home/lucas/mnt/Freiwald/ltian/recordings/Diego/231122/Diego-231122-161439/spikes_tdt_quick-4/RSn3-197-snips_subset\n",
      "Loading file:  /home/lucas/mnt/Freiwald/ltian/recordings/Diego/231122/Diego-231122-161439/spikes_tdt_quick-4/RSn3-198-snips_subset\n",
      "Loading file:  /home/lucas/mnt/Freiwald/ltian/recordings/Diego/231122/Diego-231122-161439/spikes_tdt_quick-4/RSn3-199-snips_subset\n",
      "Loading file:  /home/lucas/mnt/Freiwald/ltian/recordings/Diego/231122/Diego-231122-161439/spikes_tdt_quick-4/RSn3-200-snips_subset\n",
      "Loading file:  /home/lucas/mnt/Freiwald/ltian/recordings/Diego/231122/Diego-231122-161439/spikes_tdt_quick-4/RSn3-201-snips_subset\n",
      "Loading file:  /home/lucas/mnt/Freiwald/ltian/recordings/Diego/231122/Diego-231122-161439/spikes_tdt_quick-4/RSn3-202-snips_subset\n",
      "Loading file:  /home/lucas/mnt/Freiwald/ltian/recordings/Diego/231122/Diego-231122-161439/spikes_tdt_quick-4/RSn3-203-snips_subset\n",
      "Loading file:  /home/lucas/mnt/Freiwald/ltian/recordings/Diego/231122/Diego-231122-161439/spikes_tdt_quick-4/RSn3-204-snips_subset\n",
      "Loading file:  /home/lucas/mnt/Freiwald/ltian/recordings/Diego/231122/Diego-231122-161439/spikes_tdt_quick-4/RSn3-205-snips_subset\n",
      "Loading file:  /home/lucas/mnt/Freiwald/ltian/recordings/Diego/231122/Diego-231122-161439/spikes_tdt_quick-4/RSn3-206-snips_subset\n",
      "Loading file:  /home/lucas/mnt/Freiwald/ltian/recordings/Diego/231122/Diego-231122-161439/spikes_tdt_quick-4/RSn3-207-snips_subset\n",
      "Loading file:  /home/lucas/mnt/Freiwald/ltian/recordings/Diego/231122/Diego-231122-161439/spikes_tdt_quick-4/RSn3-208-snips_subset\n",
      "Loading file:  /home/lucas/mnt/Freiwald/ltian/recordings/Diego/231122/Diego-231122-161439/spikes_tdt_quick-4/RSn3-209-snips_subset\n",
      "Loading file:  /home/lucas/mnt/Freiwald/ltian/recordings/Diego/231122/Diego-231122-161439/spikes_tdt_quick-4/RSn3-210-snips_subset\n",
      "Loading file:  /home/lucas/mnt/Freiwald/ltian/recordings/Diego/231122/Diego-231122-161439/spikes_tdt_quick-4/RSn3-211-snips_subset\n",
      "Loading file:  /home/lucas/mnt/Freiwald/ltian/recordings/Diego/231122/Diego-231122-161439/spikes_tdt_quick-4/RSn3-212-snips_subset\n",
      "Loading file:  /home/lucas/mnt/Freiwald/ltian/recordings/Diego/231122/Diego-231122-161439/spikes_tdt_quick-4/RSn3-213-snips_subset\n",
      "Loading file:  /home/lucas/mnt/Freiwald/ltian/recordings/Diego/231122/Diego-231122-161439/spikes_tdt_quick-4/RSn3-214-snips_subset\n",
      "Loading file:  /home/lucas/mnt/Freiwald/ltian/recordings/Diego/231122/Diego-231122-161439/spikes_tdt_quick-4/RSn3-215-snips_subset\n",
      "Loading file:  /home/lucas/mnt/Freiwald/ltian/recordings/Diego/231122/Diego-231122-161439/spikes_tdt_quick-4/RSn3-216-snips_subset\n",
      "Loading file:  /home/lucas/mnt/Freiwald/ltian/recordings/Diego/231122/Diego-231122-161439/spikes_tdt_quick-4/RSn3-217-snips_subset\n",
      "Loading file:  /home/lucas/mnt/Freiwald/ltian/recordings/Diego/231122/Diego-231122-161439/spikes_tdt_quick-4/RSn3-218-snips_subset\n",
      "Loading file:  /home/lucas/mnt/Freiwald/ltian/recordings/Diego/231122/Diego-231122-161439/spikes_tdt_quick-4/RSn3-219-snips_subset\n",
      "Loading file:  /home/lucas/mnt/Freiwald/ltian/recordings/Diego/231122/Diego-231122-161439/spikes_tdt_quick-4/RSn3-220-snips_subset\n",
      "Loading file:  /home/lucas/mnt/Freiwald/ltian/recordings/Diego/231122/Diego-231122-161439/spikes_tdt_quick-4/RSn3-221-snips_subset\n",
      "Loading file:  /home/lucas/mnt/Freiwald/ltian/recordings/Diego/231122/Diego-231122-161439/spikes_tdt_quick-4/RSn3-222-snips_subset\n",
      "Loading file:  /home/lucas/mnt/Freiwald/ltian/recordings/Diego/231122/Diego-231122-161439/spikes_tdt_quick-4/RSn3-223-snips_subset\n",
      "Loading file:  /home/lucas/mnt/Freiwald/ltian/recordings/Diego/231122/Diego-231122-161439/spikes_tdt_quick-4/RSn3-224-snips_subset\n",
      "Loading file:  /home/lucas/mnt/Freiwald/ltian/recordings/Diego/231122/Diego-231122-161439/spikes_tdt_quick-4/RSn3-225-snips_subset\n",
      "Loading file:  /home/lucas/mnt/Freiwald/ltian/recordings/Diego/231122/Diego-231122-161439/spikes_tdt_quick-4/RSn3-226-snips_subset\n",
      "Loading file:  /home/lucas/mnt/Freiwald/ltian/recordings/Diego/231122/Diego-231122-161439/spikes_tdt_quick-4/RSn3-227-snips_subset\n",
      "Loading file:  /home/lucas/mnt/Freiwald/ltian/recordings/Diego/231122/Diego-231122-161439/spikes_tdt_quick-4/RSn3-228-snips_subset\n",
      "Loading file:  /home/lucas/mnt/Freiwald/ltian/recordings/Diego/231122/Diego-231122-161439/spikes_tdt_quick-4/RSn3-229-snips_subset\n",
      "Loading file:  /home/lucas/mnt/Freiwald/ltian/recordings/Diego/231122/Diego-231122-161439/spikes_tdt_quick-4/RSn3-230-snips_subset\n",
      "Loading file:  /home/lucas/mnt/Freiwald/ltian/recordings/Diego/231122/Diego-231122-161439/spikes_tdt_quick-4/RSn3-231-snips_subset\n",
      "Loading file:  /home/lucas/mnt/Freiwald/ltian/recordings/Diego/231122/Diego-231122-161439/spikes_tdt_quick-4/RSn3-232-snips_subset\n",
      "Loading file:  /home/lucas/mnt/Freiwald/ltian/recordings/Diego/231122/Diego-231122-161439/spikes_tdt_quick-4/RSn3-233-snips_subset\n",
      "Loading file:  /home/lucas/mnt/Freiwald/ltian/recordings/Diego/231122/Diego-231122-161439/spikes_tdt_quick-4/RSn3-234-snips_subset\n",
      "Loading file:  /home/lucas/mnt/Freiwald/ltian/recordings/Diego/231122/Diego-231122-161439/spikes_tdt_quick-4/RSn3-235-snips_subset\n",
      "Loading file:  /home/lucas/mnt/Freiwald/ltian/recordings/Diego/231122/Diego-231122-161439/spikes_tdt_quick-4/RSn3-236-snips_subset\n",
      "Loading file:  /home/lucas/mnt/Freiwald/ltian/recordings/Diego/231122/Diego-231122-161439/spikes_tdt_quick-4/RSn3-237-snips_subset\n",
      "Loading file:  /home/lucas/mnt/Freiwald/ltian/recordings/Diego/231122/Diego-231122-161439/spikes_tdt_quick-4/RSn3-238-snips_subset\n",
      "Loading file:  /home/lucas/mnt/Freiwald/ltian/recordings/Diego/231122/Diego-231122-161439/spikes_tdt_quick-4/RSn3-239-snips_subset\n",
      "Loading file:  /home/lucas/mnt/Freiwald/ltian/recordings/Diego/231122/Diego-231122-161439/spikes_tdt_quick-4/RSn3-240-snips_subset\n",
      "Loading file:  /home/lucas/mnt/Freiwald/ltian/recordings/Diego/231122/Diego-231122-161439/spikes_tdt_quick-4/RSn3-241-snips_subset\n",
      "Loading file:  /home/lucas/mnt/Freiwald/ltian/recordings/Diego/231122/Diego-231122-161439/spikes_tdt_quick-4/RSn3-242-snips_subset\n",
      "Loading file:  /home/lucas/mnt/Freiwald/ltian/recordings/Diego/231122/Diego-231122-161439/spikes_tdt_quick-4/RSn3-243-snips_subset\n",
      "Loading file:  /home/lucas/mnt/Freiwald/ltian/recordings/Diego/231122/Diego-231122-161439/spikes_tdt_quick-4/RSn3-244-snips_subset\n",
      "Loading file:  /home/lucas/mnt/Freiwald/ltian/recordings/Diego/231122/Diego-231122-161439/spikes_tdt_quick-4/RSn3-245-snips_subset\n",
      "Loading file:  /home/lucas/mnt/Freiwald/ltian/recordings/Diego/231122/Diego-231122-161439/spikes_tdt_quick-4/RSn3-246-snips_subset\n",
      "Loading file:  /home/lucas/mnt/Freiwald/ltian/recordings/Diego/231122/Diego-231122-161439/spikes_tdt_quick-4/RSn3-247-snips_subset\n",
      "Loading file:  /home/lucas/mnt/Freiwald/ltian/recordings/Diego/231122/Diego-231122-161439/spikes_tdt_quick-4/RSn3-248-snips_subset\n",
      "Loading file:  /home/lucas/mnt/Freiwald/ltian/recordings/Diego/231122/Diego-231122-161439/spikes_tdt_quick-4/RSn3-249-snips_subset\n",
      "Loading file:  /home/lucas/mnt/Freiwald/ltian/recordings/Diego/231122/Diego-231122-161439/spikes_tdt_quick-4/RSn3-250-snips_subset\n",
      "Loading file:  /home/lucas/mnt/Freiwald/ltian/recordings/Diego/231122/Diego-231122-161439/spikes_tdt_quick-4/RSn3-251-snips_subset\n",
      "Loading file:  /home/lucas/mnt/Freiwald/ltian/recordings/Diego/231122/Diego-231122-161439/spikes_tdt_quick-4/RSn3-252-snips_subset\n",
      "Loading file:  /home/lucas/mnt/Freiwald/ltian/recordings/Diego/231122/Diego-231122-161439/spikes_tdt_quick-4/RSn3-253-snips_subset\n",
      "Loading file:  /home/lucas/mnt/Freiwald/ltian/recordings/Diego/231122/Diego-231122-161439/spikes_tdt_quick-4/RSn3-254-snips_subset\n",
      "Loading file:  /home/lucas/mnt/Freiwald/ltian/recordings/Diego/231122/Diego-231122-161439/spikes_tdt_quick-4/RSn3-255-snips_subset\n",
      "Loading file:  /home/lucas/mnt/Freiwald/ltian/recordings/Diego/231122/Diego-231122-161439/spikes_tdt_quick-4/RSn3-256-snips_subset\n",
      "Printing whether spikes gotten (o) or not (-) because of spike peak to trough\n",
      "== Loading TDT tank\n",
      "** Loading tank data from local (previusly cached)\n",
      "== Done\n",
      "** MINIMAL_LOADING, therefore loading previuosly cached data\n",
      "-- loaded presaved data: /home/lucas/mnt/Freiwald/kgupta/macaque_data/Diego/231122/231122_161016_chardiego1c_Diego_1.pkl\n",
      "== Trying to load events data\n",
      "Loading this events (pd) locally to:  /lemur2/lucas/neural_preprocess/recordings/Diego/231122/Diego-231122-161439/events_photodiode.pkl\n",
      "== Done\n",
      "Diego_use_main_21: False\n",
      "Searching using this string:\n",
      "/home/lucas/code/drawmonkey/drawmonkey/expt_metadat/*231122-*Diego.**\n",
      "Found this many paths:\n",
      "0\n",
      "Searching using this string:\n",
      "/home/lucas/code/drawmonkey/drawmonkey/expt_metadat_daily/*231122-*Diego.**\n",
      "Found this many paths:\n",
      "1\n",
      "---\n",
      "/home/lucas/code/drawmonkey/drawmonkey/expt_metadat_daily/chardiego1c-231122-Diego.yaml\n",
      "Loading this dataset Diego chardiego1c 231122\n",
      "Searching using this string:\n",
      "/home/lucas/mnt/Freiwald_kgupta/kgupta/analyses/database/*Diego-*chardiego1c-*231122-*/*dat*.pkl\n",
      "-- Splitting off dir from fname\n",
      "Found this many paths:\n",
      "0\n",
      "Searching using this string:\n",
      "/home/lucas/mnt/Freiwald_kgupta/kgupta/analyses/database/BEH/*Diego-*chardiego1c-*231122-*/*dat*.pkl\n",
      "-- Splitting off dir from fname\n",
      "Found this many paths:\n",
      "1\n",
      "---\n",
      "/home/lucas/mnt/Freiwald_kgupta/kgupta/analyses/database/BEH/Diego-chardiego1c-231122-231123_000811\n",
      "----------------\n",
      "Currently loading dataset pkl: /home/lucas/mnt/Freiwald_kgupta/kgupta/analyses/database/BEH/Diego-chardiego1c-231122-231123_000811\n",
      ".. Done!\n",
      "Loaded metadat:\n",
      "{'sketchpad_edges': array([[-311.84, -224.8 ],\n",
      "       [ 311.84,  429.6 ]]), 'metadat_probedat': {'sdate': 231122, 'edate': 231122, 'strokmodel_kind': None, 'strokmodel_tstamp': None, 'datecategories': {'231122': 1}, 'dates_for_summary': [], 'matchedstrokes': None, 'exptnames': ['chardiego1c'], 'T1': [], 'G1': [], 'G2': [], 'G3': [], 'G4': [], 'description': '', 'finalized': False, 'good_expt': True, 'expt': 'chardiego1c', 'animal': 'Diego', 'ssess': None, 'esess': None, 'task_train_test': {'probe1_liketrain': 'train', 'probe1_nostrokeconstraint': 'train', 'probe2_liketrain': 'train', 'probe2_nostrokeconstraint': 'train', 'probe3_hdpos': 'test', 'probe1': 'train', 'probe2': 'train', 'probe3': 'test', 'probe4': 'test', 'train': 'train'}}, 'filedata_params': {'pix_per_deg': array([[ 26.64621164],\n",
      "       [-26.64621164]]), 'resolution': (1024, 768), 'animal': 'Diego', 'basedir': '/home/kgg/mnt/Freiwald/kgupta/macaque_data', 'sample_rate': array([500.]), 'beh_codes': {9: 'start', 10: 'fix cue', 11: 'fix cue visible', 13: 'frame skip', 14: 'manual rew', 15: 'guide', 16: 'FixationOnsetWTH', 17: 'FixationDoneSuccessWTH', 18: 'end', 19: 'FixationRaiseFailWTH', 20: 'go (draw)', 21: 'guide_on_GA', 22: 'guide_on_GA_delay', 30: 'DelayWhatIsThis', 40: 'GoWhatIsThis', 41: 'samp1 on', 42: 'samp1 off', 45: 'done', 46: 'post', 50: 'reward', 51: 'free reward', 52: 'WaitThenHold_LT_reward', 61: 'DoneButtonVisible', 62: 'DoneButtonTouched', 63: 'DragAroundSuccess', 64: 'DragAroundAbort', 65: 'DragAroundFirstAbortNow', 70: 'hotkey_x', 71: 'DAstimevent_firstpres', 72: 'DAstimoff_finibeforepause', 73: 'DAstimoff_fini', 74: 'DAsamp1_visible_change', 75: 'DAnewpnutthisframe', 76: 'DAsound_samp1touched', 78: 'DAsound_gotallink', 80: 'ttl_trialon', 81: 'ttl_trialoff', 91: 'GAstimevent_firstpres', 92: 'GAstimoff_fini', 93: 'GAstimeventDelay_firstpres', 94: 'GAstimoffDelay_fini', 101: 'fix_square_on', 102: 'fix_square_off', 103: 'fix_square_on_pd', 111: 'photodiode_force_off', 120: 'DAsound_chunk', 121: 'DAsound_strokedone', 122: 'DAsound_chunkupdate', 123: 'DAsound_chunkdone', 124: 'DAsound_firstraise', 131: 'fix_cue_colored_on', 132: 'fix_cue_colored_on_v2', 133: 'fix_cue_colored_off', 134: 'fix_cue_colored_off_v2', 135: 'new_color_cue_off', 141: 'estim_ttl_1_on', 142: 'estim_ttl_2_on', 151: 'estim_ttl_stroke_on', 152: 'estim_ttl_stroke_off', 200: 'skipped_movie_frame'}, 'screen_hz': 59, 'screen_period': 0.01694915254237288}}\n",
      "Loading BlockParamsByDateSessBlock!\n",
      "----\n",
      "Resetting index\n",
      "=== CLEANING UP self.Dat ===== \n",
      "Deleted unused columns from self.Dat\n",
      "applying monkey train test names\n",
      "* UDPATEING onset of first stroke [too close to fixation] (trial, new onset index):\n",
      "-- CHECKING  origin\n",
      "--- idat, trialcode, strok inds to remove, len strokes beofre remofe, len strokes after:\n",
      "-- CHECKING  donepos\n",
      "--- idat, trialcode, strok inds to remove, len strokes beofre remofe, len strokes after:\n",
      "Updated columns: insummarydates, using Metadats\n",
      "Searching using this string:\n",
      "/home/lucas/mnt/Freiwald_kgupta/kgupta/analyses/database/TASKS_GENERAL/Diego-chardiego1c-231122-all/*Tasks*pkl\n",
      "Found this many paths:\n",
      "1\n",
      "---\n",
      "/home/lucas/mnt/Freiwald_kgupta/kgupta/analyses/database/TASKS_GENERAL/Diego-chardiego1c-231122-all/Tasks.pkl\n",
      "--- Loading tasks pkl file:  /home/lucas/mnt/Freiwald_kgupta/kgupta/analyses/database/TASKS_GENERAL/Diego-chardiego1c-231122-all/Tasks.pkl\n",
      "added new column self.Dat[Task]\n",
      "=== CLEANING UP self.Dat (_cleanup_reloading_saved_state) ===== \n",
      "- starting/ending len (grouping params):\n",
      "789\n",
      "Extracting Behclass for each trial, may take a while...\n",
      "0 _behclass_alignsim_compute\n",
      "200 _behclass_alignsim_compute\n",
      "400 _behclass_alignsim_compute\n",
      "600 _behclass_alignsim_compute\n",
      "Running D._behclass_tokens_extract_datsegs\n",
      "TODO: Pancho -- combine circles with the tohers\n",
      "0 _behclass_tokens_extract_datsegs\n",
      "200 _behclass_tokens_extract_datsegs\n",
      "400 _behclass_tokens_extract_datsegs\n",
      "600 _behclass_tokens_extract_datsegs\n",
      "stored in self.Dat[BehClass]\n",
      "Removing these trials beucause beh strokes all fail to match to a task stroke: \n",
      "[]\n",
      "self.Dat starting legnth:  789\n",
      "Modified self.Dat, keeping only the inputted inds\n",
      "self.Dat final legnth:  789\n",
      "ADded new column: supervision_online\n",
      "Appended self.Dat[superv_SEQUENCE_SUP]\n",
      "Appended self.Dat[superv_SEQUENCE_ALPHA]\n",
      "Appended self.Dat[superv_COLOR_ON]\n",
      "Appended self.Dat[superv_COLOR_ITEMS_FADE_TO_DEFAULT_BINSTR]\n",
      "Appended self.Dat[superv_COLOR_METHOD]\n",
      "Appended self.Dat[superv_GUIDEDYN_ON]\n",
      "Appended self.Dat[superv_VISUALFB_METH]\n",
      "appended col to self.Dat:\n",
      "supervision_stage_new\n",
      "Appended self.Dat[superv_SEQUENCE_SUP]\n",
      "Appended self.Dat[superv_COLOR_ON]\n",
      "Appended self.Dat[superv_COLOR_METHOD]\n",
      "Appended self.Dat[superv_COLOR_ITEMS_FADE_TO_DEFAULT_BINSTR]\n",
      "Appended self.Dat[superv_GUIDEDYN_ON]\n",
      "appended col to self.Dat:\n",
      "supervision_stage_concise\n",
      "Append column to self.Dat:  supervision_stage_semantic\n",
      "Extracted into self.Dat[epoch_orig]\n",
      "Modified self.Dat[epoch]\n",
      "789\n",
      " -- Replacing shape labels with char cluster labels... (only runs if not already extracted\n",
      " -- 1. extracting saved labels\n",
      "0\n",
      "100\n",
      "200\n",
      "300\n",
      "400\n",
      "500\n",
      "600\n",
      "700\n",
      "This many strokes extracted:  2197\n",
      "DONE!\n",
      "Appended epoch to self.Dat\n",
      "Appended character to self.Dat\n",
      "Loading char stroke clusters from:  /gorilla1/analyses/recordings/main/EXPORTED_BEH_DATA/DS/char_strokes_clusters/Diego/basis=Diego-shapes=None/231122/DS_data.pkl\n",
      "This err, when try to load datset: \n",
      "probably need to pass in correct rule to load dataset.\n"
     ]
    },
    {
     "ename": "AssertionError",
     "evalue": "assuming you wanted to get daily, but somehow failed and got to here... check that daily dataset actually exists.",
     "output_type": "error",
     "traceback": [
      "\u001b[0;31m---------------------------------------------------------------------------\u001b[0m",
      "\u001b[0;31mAssertionError\u001b[0m                            Traceback (most recent call last)",
      "File \u001b[0;32m~/code/neuralmonkey/neuralmonkey/classes/session.py:5561\u001b[0m, in \u001b[0;36mSession.datasetbeh_load_helper\u001b[0;34m(self, dataset_beh_expt, Diego_use_main_21)\u001b[0m\n\u001b[1;32m   5557\u001b[0m \u001b[38;5;28;01mtry\u001b[39;00m:\n\u001b[1;32m   5558\u001b[0m     \u001b[38;5;66;03m# If that doesnt work, then use the daily dataset, which \u001b[39;00m\n\u001b[1;32m   5559\u001b[0m     \u001b[38;5;66;03m# is generated autmatoiocalyl (after like sep 2022)\u001b[39;00m\n\u001b[1;32m   5560\u001b[0m     \u001b[38;5;66;03m# self.datasetbeh_load(version=\"daily\", FORCE_AFTER_MINIMAL=FORCE_AFTER_MINIMAL) # daily\u001b[39;00m\n\u001b[0;32m-> 5561\u001b[0m     \u001b[38;5;28;43mself\u001b[39;49m\u001b[38;5;241;43m.\u001b[39;49m\u001b[43mdatasetbeh_load\u001b[49m\u001b[43m(\u001b[49m\u001b[43mversion\u001b[49m\u001b[38;5;241;43m=\u001b[39;49m\u001b[38;5;124;43m\"\u001b[39;49m\u001b[38;5;124;43mdaily\u001b[39;49m\u001b[38;5;124;43m\"\u001b[39;49m\u001b[43m,\u001b[49m\u001b[43m \u001b[49m\u001b[43mDiego_use_main_21\u001b[49m\u001b[38;5;241;43m=\u001b[39;49m\u001b[43mDiego_use_main_21\u001b[49m\u001b[43m)\u001b[49m \u001b[38;5;66;03m# daily\u001b[39;00m\n\u001b[1;32m   5562\u001b[0m     \u001b[38;5;28mprint\u001b[39m(\u001b[38;5;124m\"\u001b[39m\u001b[38;5;124m**Loaded dataset! daily\u001b[39m\u001b[38;5;124m\"\u001b[39m)\n",
      "File \u001b[0;32m~/code/neuralmonkey/neuralmonkey/classes/session.py:5616\u001b[0m, in \u001b[0;36mSession.datasetbeh_load\u001b[0;34m(self, dataset_beh_expt, version, Diego_use_main_21)\u001b[0m\n\u001b[1;32m   5615\u001b[0m     \u001b[38;5;28mprint\u001b[39m(\u001b[38;5;124m\"\u001b[39m\u001b[38;5;124mDiego_use_main_21:\u001b[39m\u001b[38;5;124m\"\u001b[39m, Diego_use_main_21)\n\u001b[0;32m-> 5616\u001b[0m     D \u001b[38;5;241m=\u001b[39m \u001b[43mload_dataset_daily_helper\u001b[49m\u001b[43m(\u001b[49m\u001b[38;5;28;43mself\u001b[39;49m\u001b[38;5;241;43m.\u001b[39;49m\u001b[43mAnimal\u001b[49m\u001b[43m,\u001b[49m\u001b[43m \u001b[49m\u001b[38;5;28;43mself\u001b[39;49m\u001b[38;5;241;43m.\u001b[39;49m\u001b[43mDate\u001b[49m\u001b[43m,\u001b[49m\u001b[43m \u001b[49m\u001b[43mDiego_use_main_21\u001b[49m\u001b[38;5;241;43m=\u001b[39;49m\u001b[43mDiego_use_main_21\u001b[49m\u001b[43m)\u001b[49m\n\u001b[1;32m   5617\u001b[0m \u001b[38;5;28;01melif\u001b[39;00m version\u001b[38;5;241m==\u001b[39m\u001b[38;5;124m\"\u001b[39m\u001b[38;5;124mmain\u001b[39m\u001b[38;5;124m\"\u001b[39m:\n",
      "File \u001b[0;32m~/code/pythonlib/pythonlib/dataset/dataset.py:69\u001b[0m, in \u001b[0;36mload_dataset_daily_helper\u001b[0;34m(animal, date, rename_shapes_if_cluster_labels_exist, label_as_novel_if_shape_semantic_fails_overwrite, Diego_use_main_21)\u001b[0m\n\u001b[1;32m     68\u001b[0m \u001b[38;5;28mprint\u001b[39m(\u001b[38;5;124m\"\u001b[39m\u001b[38;5;124mLoading this dataset\u001b[39m\u001b[38;5;124m\"\u001b[39m, animal, expt, date)\n\u001b[0;32m---> 69\u001b[0m D \u001b[38;5;241m=\u001b[39m \u001b[43mload_dataset_notdaily_helper\u001b[49m\u001b[43m(\u001b[49m\u001b[43manimal\u001b[49m\u001b[43m,\u001b[49m\u001b[43m \u001b[49m\u001b[43mexpt\u001b[49m\u001b[43m,\u001b[49m\u001b[43m \u001b[49m\u001b[43mrulelist\u001b[49m\u001b[38;5;241;43m=\u001b[39;49m\u001b[43m[\u001b[49m\u001b[43mdate\u001b[49m\u001b[43m]\u001b[49m\u001b[43m,\u001b[49m\n\u001b[1;32m     70\u001b[0m \u001b[43m                                 \u001b[49m\u001b[43mrename_shapes_if_cluster_labels_exist\u001b[49m\u001b[38;5;241;43m=\u001b[39;49m\u001b[43mrename_shapes_if_cluster_labels_exist\u001b[49m\u001b[43m,\u001b[49m\n\u001b[1;32m     71\u001b[0m \u001b[43m                                 \u001b[49m\u001b[43mlabel_as_novel_if_shape_semantic_fails_overwrite\u001b[49m\u001b[38;5;241;43m=\u001b[39;49m\u001b[43mlabel_as_novel_if_shape_semantic_fails_overwrite\u001b[49m\u001b[43m,\u001b[49m\n\u001b[1;32m     72\u001b[0m \u001b[43m                                 \u001b[49m\u001b[43mDiego_use_main_21\u001b[49m\u001b[38;5;241;43m=\u001b[39;49m\u001b[43mDiego_use_main_21\u001b[49m\u001b[43m)\u001b[49m\n\u001b[1;32m     73\u001b[0m \u001b[38;5;28;01massert\u001b[39;00m \u001b[38;5;28mhasattr\u001b[39m(D, \u001b[38;5;124m\"\u001b[39m\u001b[38;5;124mTokensStrokesBeh\u001b[39m\u001b[38;5;124m\"\u001b[39m), \u001b[38;5;124m\"\u001b[39m\u001b[38;5;124mhow is this possible? It should have run tokens_generate_replacement_quick_from_beh...\u001b[39m\u001b[38;5;124m\"\u001b[39m    \n",
      "File \u001b[0;32m~/code/pythonlib/pythonlib/dataset/dataset.py:106\u001b[0m, in \u001b[0;36mload_dataset_notdaily_helper\u001b[0;34m(animal, expt, rulelist, return_rulelist, rename_shapes_if_cluster_labels_exist, label_as_novel_if_shape_semantic_fails_overwrite, Diego_use_main_21)\u001b[0m\n\u001b[1;32m    105\u001b[0m D \u001b[38;5;241m=\u001b[39m Dataset([])\n\u001b[0;32m--> 106\u001b[0m \u001b[43mD\u001b[49m\u001b[38;5;241;43m.\u001b[39;49m\u001b[43mload_dataset_helper\u001b[49m\u001b[43m(\u001b[49m\u001b[43manimal\u001b[49m\u001b[43m,\u001b[49m\u001b[43m \u001b[49m\u001b[43mexpt\u001b[49m\u001b[43m,\u001b[49m\u001b[43m \u001b[49m\u001b[43mver\u001b[49m\u001b[38;5;241;43m=\u001b[39;49m\u001b[38;5;124;43m\"\u001b[39;49m\u001b[38;5;124;43mmult\u001b[39;49m\u001b[38;5;124;43m\"\u001b[39;49m\u001b[43m,\u001b[49m\u001b[43m \u001b[49m\u001b[43mrule\u001b[49m\u001b[38;5;241;43m=\u001b[39;49m\u001b[43mrulelist\u001b[49m\u001b[43m,\u001b[49m\n\u001b[1;32m    107\u001b[0m \u001b[43m                      \u001b[49m\u001b[43mrename_shapes_if_cluster_labels_exist\u001b[49m\u001b[38;5;241;43m=\u001b[39;49m\u001b[43mrename_shapes_if_cluster_labels_exist\u001b[49m\u001b[43m,\u001b[49m\n\u001b[1;32m    108\u001b[0m \u001b[43m                      \u001b[49m\u001b[43mlabel_as_novel_if_shape_semantic_fails_overwrite\u001b[49m\u001b[38;5;241;43m=\u001b[39;49m\u001b[43mlabel_as_novel_if_shape_semantic_fails_overwrite\u001b[49m\u001b[43m,\u001b[49m\n\u001b[1;32m    109\u001b[0m \u001b[43m                      \u001b[49m\u001b[43mDiego_use_main_21\u001b[49m\u001b[38;5;241;43m=\u001b[39;49m\u001b[43mDiego_use_main_21\u001b[49m\u001b[43m)\u001b[49m\n\u001b[1;32m    110\u001b[0m \u001b[38;5;28;01massert\u001b[39;00m \u001b[38;5;28mhasattr\u001b[39m(D, \u001b[38;5;124m\"\u001b[39m\u001b[38;5;124mTokensStrokesBeh\u001b[39m\u001b[38;5;124m\"\u001b[39m), \u001b[38;5;124m\"\u001b[39m\u001b[38;5;124mhow is this possible? It should have run tokens_generate_replacement_quick_from_beh...\u001b[39m\u001b[38;5;124m\"\u001b[39m\n",
      "File \u001b[0;32m~/code/pythonlib/pythonlib/dataset/dataset.py:263\u001b[0m, in \u001b[0;36mDataset.load_dataset_helper\u001b[0;34m(self, animal, expt, ver, rule, rename_shapes_if_cluster_labels_exist, label_as_novel_if_shape_semantic_fails_overwrite, Diego_use_main_21)\u001b[0m\n\u001b[1;32m    261\u001b[0m \u001b[38;5;28;01melse\u001b[39;00m:\n\u001b[1;32m    262\u001b[0m     \u001b[38;5;66;03m# 2/4/23 - Now run preprocess whenever load.\u001b[39;00m\n\u001b[0;32m--> 263\u001b[0m     GROUPING, GROUPING_LEVELS, FEATURE_NAMES, SCORE_COL_NAMES \u001b[38;5;241m=\u001b[39m \u001b[38;5;28;43mself\u001b[39;49m\u001b[38;5;241;43m.\u001b[39;49m\u001b[43m_cleanup_preprocess_each_time_load_dataset\u001b[49m\u001b[43m(\u001b[49m\n\u001b[1;32m    264\u001b[0m \u001b[43m        \u001b[49m\u001b[43mrename_shapes_if_cluster_labels_exist\u001b[49m\u001b[38;5;241;43m=\u001b[39;49m\u001b[43mrename_shapes_if_cluster_labels_exist\u001b[49m\u001b[43m,\u001b[49m\n\u001b[1;32m    265\u001b[0m \u001b[43m        \u001b[49m\u001b[43mlabel_as_novel_if_shape_semantic_fails_overwrite\u001b[49m\u001b[38;5;241;43m=\u001b[39;49m\u001b[43mlabel_as_novel_if_shape_semantic_fails_overwrite\u001b[49m\u001b[43m,\u001b[49m\n\u001b[1;32m    266\u001b[0m \u001b[43m        \u001b[49m\u001b[43mDiego_use_main_21\u001b[49m\u001b[38;5;241;43m=\u001b[39;49m\u001b[43mDiego_use_main_21\u001b[49m\u001b[43m)\u001b[49m\n\u001b[1;32m    268\u001b[0m \u001b[38;5;28;01massert\u001b[39;00m \u001b[38;5;28mhasattr\u001b[39m(\u001b[38;5;28mself\u001b[39m, \u001b[38;5;124m\"\u001b[39m\u001b[38;5;124mTokensStrokesBeh\u001b[39m\u001b[38;5;124m\"\u001b[39m), \u001b[38;5;124m\"\u001b[39m\u001b[38;5;124mhow is this possible? It should have run tokens_generate_replacement_quick_from_beh...\u001b[39m\u001b[38;5;124m\"\u001b[39m\n",
      "File \u001b[0;32m~/code/pythonlib/pythonlib/dataset/dataset.py:3495\u001b[0m, in \u001b[0;36mDataset._cleanup_preprocess_each_time_load_dataset\u001b[0;34m(self, rename_shapes_if_cluster_labels_exist, label_as_novel_if_shape_semantic_fails_overwrite, Diego_use_main_21)\u001b[0m\n\u001b[1;32m   3494\u001b[0m \u001b[38;5;28mself\u001b[39m\u001b[38;5;241m.\u001b[39m_analy_preprocess_done\u001b[38;5;241m=\u001b[39m\u001b[38;5;28;01mFalse\u001b[39;00m\n\u001b[0;32m-> 3495\u001b[0m \u001b[38;5;28mself\u001b[39m, GROUPING, GROUPING_LEVELS, FEATURE_NAMES, SCORE_COL_NAMES \u001b[38;5;241m=\u001b[39m \u001b[43mpreprocessDat\u001b[49m\u001b[43m(\u001b[49m\u001b[38;5;28;43mself\u001b[39;49m\u001b[43m,\u001b[49m\u001b[43m \u001b[49m\u001b[43mexpt\u001b[49m\u001b[43m,\u001b[49m\n\u001b[1;32m   3496\u001b[0m \u001b[43m                                            \u001b[49m\u001b[43mrename_shapes_if_cluster_labels_exist\u001b[49m\u001b[38;5;241;43m=\u001b[39;49m\u001b[43mrename_shapes_if_cluster_labels_exist\u001b[49m\u001b[43m,\u001b[49m\n\u001b[1;32m   3497\u001b[0m \u001b[43m                                            \u001b[49m\u001b[43mlabel_as_novel_if_shape_semantic_fails_overwrite\u001b[49m\u001b[38;5;241;43m=\u001b[39;49m\u001b[43mlabel_as_novel_if_shape_semantic_fails_overwrite\u001b[49m\u001b[43m,\u001b[49m\n\u001b[1;32m   3498\u001b[0m \u001b[43m                                            \u001b[49m\u001b[43mDiego_use_main_21\u001b[49m\u001b[38;5;241;43m=\u001b[39;49m\u001b[43mDiego_use_main_21\u001b[49m\u001b[43m)\u001b[49m\n\u001b[1;32m   3500\u001b[0m \u001b[38;5;66;03m# print(\"1.5 dfafasf\", self.TokensVersion)\u001b[39;00m\n",
      "File \u001b[0;32m~/code/pythonlib/pythonlib/dataset/dataset_preprocess/general.py:1443\u001b[0m, in \u001b[0;36mpreprocessDat\u001b[0;34m(D, expt, get_sequence_rank, sequence_rank_confidence_min, remove_outliers, sequence_match_kind, extract_motor_stats, score_all_pairwise_within_task, extract_features, only_keep_trials_across_groupings, rename_shapes_if_cluster_labels_exist, label_as_novel_if_shape_semantic_fails_overwrite, Diego_use_main_21)\u001b[0m\n\u001b[1;32m   1442\u001b[0m \u001b[38;5;28mprint\u001b[39m(\u001b[38;5;124m\"\u001b[39m\u001b[38;5;124m -- 1. extracting saved labels\u001b[39m\u001b[38;5;124m\"\u001b[39m)\n\u001b[0;32m-> 1443\u001b[0m trialcodes_failed \u001b[38;5;241m=\u001b[39m \u001b[43mD\u001b[49m\u001b[38;5;241;43m.\u001b[39;49m\u001b[43mcharclust_shape_labels_extract_presaved_from_DS\u001b[49m\u001b[43m(\u001b[49m\u001b[43mDiego_use_main_21\u001b[49m\u001b[43m,\u001b[49m\u001b[43m \u001b[49m\u001b[43mskip_if_labels_not_found\u001b[49m\u001b[38;5;241;43m=\u001b[39;49m\u001b[38;5;28;43;01mFalse\u001b[39;49;00m\u001b[43m,\u001b[49m\n\u001b[1;32m   1444\u001b[0m \u001b[43m                                                                      \u001b[49m\u001b[43mwhich_shapes\u001b[49m\u001b[38;5;241;43m=\u001b[39;49m\u001b[38;5;28;43;01mNone\u001b[39;49;00m\u001b[43m)\u001b[49m\n\u001b[1;32m   1445\u001b[0m \u001b[38;5;66;03m# Remove the failed trials, their shapes are bad [actuall, just leave, since shapes ar  \"IGN\"\u001b[39;00m\n\u001b[1;32m   1446\u001b[0m \n\u001b[1;32m   1447\u001b[0m \u001b[38;5;66;03m# 2) Replace all tokens with extracted shapes.\u001b[39;00m\n",
      "File \u001b[0;32m~/code/pythonlib/pythonlib/dataset/dataset.py:10777\u001b[0m, in \u001b[0;36mDataset.charclust_shape_labels_extract_presaved_from_DS\u001b[0;34m(self, Diego_use_main_21, skip_if_labels_not_found, which_shapes)\u001b[0m\n\u001b[1;32m  10776\u001b[0m DS \u001b[38;5;241m=\u001b[39m preprocess_dataset_to_datstrokes(\u001b[38;5;28mself\u001b[39m, \u001b[38;5;124m\"\u001b[39m\u001b[38;5;124mall_no_clean\u001b[39m\u001b[38;5;124m\"\u001b[39m) \u001b[38;5;66;03m# get all strokes.\u001b[39;00m\n\u001b[0;32m> 10777\u001b[0m DS, _ \u001b[38;5;241m=\u001b[39m \u001b[43mDS\u001b[49m\u001b[38;5;241;43m.\u001b[39;49m\u001b[43mclustergood_load_saved_cluster_shape_classes\u001b[49m\u001b[43m(\u001b[49m\n\u001b[1;32m  10778\u001b[0m \u001b[43m    \u001b[49m\u001b[43mskip_if_labels_not_found\u001b[49m\u001b[38;5;241;43m=\u001b[39;49m\u001b[43mskip_if_labels_not_found\u001b[49m\u001b[43m,\u001b[49m\n\u001b[1;32m  10779\u001b[0m \u001b[43m    \u001b[49m\u001b[43mwhich_shapes\u001b[49m\u001b[38;5;241;43m=\u001b[39;49m\u001b[43mwhich_shapes\u001b[49m\u001b[43m)\u001b[49m\n\u001b[1;32m  10781\u001b[0m \u001b[38;5;28;01mif\u001b[39;00m DS \u001b[38;5;129;01mis\u001b[39;00m \u001b[38;5;28;01mNone\u001b[39;00m:\n\u001b[1;32m  10782\u001b[0m     \u001b[38;5;66;03m# Then no data found\u001b[39;00m\n",
      "File \u001b[0;32m~/code/pythonlib/pythonlib/dataset/dataset_strokes.py:3786\u001b[0m, in \u001b[0;36mDatStrokes.clustergood_load_saved_cluster_shape_classes\u001b[0;34m(self, skip_if_labels_not_found, which_basis, which_shapes)\u001b[0m\n\u001b[1;32m   3785\u001b[0m \u001b[38;5;28mprint\u001b[39m(\u001b[38;5;124m\"\u001b[39m\u001b[38;5;124mLoading char stroke clusters from: \u001b[39m\u001b[38;5;124m\"\u001b[39m, path)\n\u001b[0;32m-> 3786\u001b[0m \u001b[38;5;28;01massert\u001b[39;00m \u001b[38;5;28;01mFalse\u001b[39;00m\n\u001b[1;32m   3787\u001b[0m \u001b[38;5;28;01mif\u001b[39;00m os\u001b[38;5;241m.\u001b[39mpath\u001b[38;5;241m.\u001b[39mexists(path):\n",
      "\u001b[0;31mAssertionError\u001b[0m: ",
      "\nDuring handling of the above exception, another exception occurred:\n",
      "\u001b[0;31mAssertionError\u001b[0m                            Traceback (most recent call last)",
      "\u001b[0;32m/tmp/ipykernel_1642351/2360277396.py\u001b[0m in \u001b[0;36m?\u001b[0;34m()\u001b[0m\n\u001b[0;32m----> 3\u001b[0;31m \u001b[0mDATE\u001b[0m \u001b[0;34m=\u001b[0m \u001b[0;36m231122\u001b[0m\u001b[0;34m\u001b[0m\u001b[0;34m\u001b[0m\u001b[0m\n\u001b[0m\u001b[1;32m      4\u001b[0m \u001b[0manimal\u001b[0m \u001b[0;34m=\u001b[0m \u001b[0;34m\"Diego\"\u001b[0m\u001b[0;34m\u001b[0m\u001b[0;34m\u001b[0m\u001b[0m\n\u001b[1;32m      5\u001b[0m \u001b[0mMS\u001b[0m \u001b[0;34m=\u001b[0m \u001b[0mload_mult_session_helper\u001b[0m\u001b[0;34m(\u001b[0m\u001b[0mDATE\u001b[0m\u001b[0;34m,\u001b[0m \u001b[0manimal\u001b[0m\u001b[0;34m,\u001b[0m \u001b[0mMINIMAL_LOADING\u001b[0m\u001b[0;34m=\u001b[0m\u001b[0;32mTrue\u001b[0m\u001b[0;34m,\u001b[0m \u001b[0mDiego_use_main_21\u001b[0m\u001b[0;34m=\u001b[0m\u001b[0;32mFalse\u001b[0m\u001b[0;34m)\u001b[0m\u001b[0;34m\u001b[0m\u001b[0;34m\u001b[0m\u001b[0m\n",
      "\u001b[0;32m~/code/neuralmonkey/neuralmonkey/classes/session.py\u001b[0m in \u001b[0;36m?\u001b[0;34m(DATE, animal, dataset_beh_expt, expt, MINIMAL_LOADING, units_metadat_fail_if_no_exist, spikes_version, fr_sm_std, Diego_use_main_21)\u001b[0m\n\u001b[1;32m    158\u001b[0m \u001b[0;34m\u001b[0m\u001b[0m\n\u001b[1;32m    159\u001b[0m         \u001b[0;31m# print(\"ALL SESSIONS: \")\u001b[0m\u001b[0;34m\u001b[0m\u001b[0;34m\u001b[0m\u001b[0;34m\u001b[0m\u001b[0m\n\u001b[1;32m    160\u001b[0m         \u001b[0;31m# print(sessdict)\u001b[0m\u001b[0;34m\u001b[0m\u001b[0;34m\u001b[0m\u001b[0;34m\u001b[0m\u001b[0m\n\u001b[1;32m    161\u001b[0m \u001b[0;34m\u001b[0m\u001b[0m\n\u001b[0;32m--> 162\u001b[0;31m         SN = load_session_helper(DATE, dataset_beh_expt, rec_session, animal, expt,\n\u001b[0m\u001b[1;32m    163\u001b[0m             \u001b[0mMINIMAL_LOADING\u001b[0m\u001b[0;34m=\u001b[0m\u001b[0mMINIMAL_LOADING\u001b[0m\u001b[0;34m,\u001b[0m\u001b[0;34m\u001b[0m\u001b[0;34m\u001b[0m\u001b[0m\n\u001b[1;32m    164\u001b[0m             \u001b[0munits_metadat_fail_if_no_exist\u001b[0m\u001b[0;34m=\u001b[0m\u001b[0munits_metadat_fail_if_no_exist\u001b[0m\u001b[0;34m,\u001b[0m\u001b[0;34m\u001b[0m\u001b[0;34m\u001b[0m\u001b[0m\n\u001b[1;32m    165\u001b[0m             \u001b[0mspikes_version\u001b[0m\u001b[0;34m=\u001b[0m\u001b[0mspikes_version\u001b[0m\u001b[0;34m,\u001b[0m \u001b[0mfr_sm_std\u001b[0m\u001b[0;34m=\u001b[0m\u001b[0mfr_sm_std\u001b[0m\u001b[0;34m,\u001b[0m\u001b[0;34m\u001b[0m\u001b[0;34m\u001b[0m\u001b[0m\n",
      "\u001b[0;32m~/code/neuralmonkey/neuralmonkey/classes/session.py\u001b[0m in \u001b[0;36m?\u001b[0;34m(DATE, dataset_beh_expt, rec_session, animal, expt, do_all_copy_to_local, extract_spiketrain_elephant, DEBUG_TIMING, MINIMAL_LOADING, BAREBONES_LOADING, ACTUALLY_BAREBONES_LOADING, units_metadat_fail_if_no_exist, do_if_spikes_incomplete, spikes_version, fr_sm_std, Diego_use_main_21)\u001b[0m\n\u001b[1;32m    306\u001b[0m                 Diego_use_main_21=Diego_use_main_21)\n\u001b[1;32m    307\u001b[0m         \u001b[0;32melse\u001b[0m\u001b[0;34m:\u001b[0m\u001b[0;34m\u001b[0m\u001b[0;34m\u001b[0m\u001b[0m\n\u001b[1;32m    308\u001b[0m             \u001b[0;32mraise\u001b[0m \u001b[0merr\u001b[0m\u001b[0;34m\u001b[0m\u001b[0;34m\u001b[0m\u001b[0m\n\u001b[1;32m    309\u001b[0m     \u001b[0;32mexcept\u001b[0m \u001b[0mException\u001b[0m \u001b[0;32mas\u001b[0m \u001b[0merr\u001b[0m\u001b[0;34m:\u001b[0m\u001b[0;34m\u001b[0m\u001b[0;34m\u001b[0m\u001b[0m\n\u001b[0;32m--> 310\u001b[0;31m         \u001b[0;32mraise\u001b[0m \u001b[0merr\u001b[0m\u001b[0;34m\u001b[0m\u001b[0;34m\u001b[0m\u001b[0m\n\u001b[0m\u001b[1;32m    311\u001b[0m \u001b[0;34m\u001b[0m\u001b[0m\n\u001b[1;32m    312\u001b[0m     \u001b[0;31m# if not MINIMAL_LOADING and RESAVE_CACHE:\u001b[0m\u001b[0;34m\u001b[0m\u001b[0;34m\u001b[0m\u001b[0;34m\u001b[0m\u001b[0m\n\u001b[1;32m    313\u001b[0m     \u001b[0;31m#     # Save cached\u001b[0m\u001b[0;34m\u001b[0m\u001b[0;34m\u001b[0m\u001b[0;34m\u001b[0m\u001b[0m\n",
      "\u001b[0;32m~/code/neuralmonkey/neuralmonkey/classes/session.py\u001b[0m in \u001b[0;36m?\u001b[0;34m(DATE, dataset_beh_expt, rec_session, animal, expt, do_all_copy_to_local, extract_spiketrain_elephant, DEBUG_TIMING, MINIMAL_LOADING, BAREBONES_LOADING, ACTUALLY_BAREBONES_LOADING, units_metadat_fail_if_no_exist, do_if_spikes_incomplete, spikes_version, fr_sm_std, Diego_use_main_21)\u001b[0m\n\u001b[1;32m    306\u001b[0m                 Diego_use_main_21=Diego_use_main_21)\n\u001b[1;32m    307\u001b[0m         \u001b[0;32melse\u001b[0m\u001b[0;34m:\u001b[0m\u001b[0;34m\u001b[0m\u001b[0;34m\u001b[0m\u001b[0m\n\u001b[1;32m    308\u001b[0m             \u001b[0;32mraise\u001b[0m \u001b[0merr\u001b[0m\u001b[0;34m\u001b[0m\u001b[0;34m\u001b[0m\u001b[0m\n\u001b[1;32m    309\u001b[0m     \u001b[0;32mexcept\u001b[0m \u001b[0mException\u001b[0m \u001b[0;32mas\u001b[0m \u001b[0merr\u001b[0m\u001b[0;34m:\u001b[0m\u001b[0;34m\u001b[0m\u001b[0;34m\u001b[0m\u001b[0m\n\u001b[0;32m--> 310\u001b[0;31m         \u001b[0;32mraise\u001b[0m \u001b[0merr\u001b[0m\u001b[0;34m\u001b[0m\u001b[0;34m\u001b[0m\u001b[0m\n\u001b[0m\u001b[1;32m    311\u001b[0m \u001b[0;34m\u001b[0m\u001b[0m\n\u001b[1;32m    312\u001b[0m     \u001b[0;31m# if not MINIMAL_LOADING and RESAVE_CACHE:\u001b[0m\u001b[0;34m\u001b[0m\u001b[0;34m\u001b[0m\u001b[0;34m\u001b[0m\u001b[0m\n\u001b[1;32m    313\u001b[0m     \u001b[0;31m#     # Save cached\u001b[0m\u001b[0;34m\u001b[0m\u001b[0;34m\u001b[0m\u001b[0;34m\u001b[0m\u001b[0m\n",
      "\u001b[0;32m~/code/neuralmonkey/neuralmonkey/classes/session.py\u001b[0m in \u001b[0;36m?\u001b[0;34m(self, datestr, beh_expt_list, beh_sess_list, beh_trial_map_list, sites_garbage, expt, animal, path_base, path_local, rec_session, do_all_copy_to_local, extract_spiketrain_elephant, do_sanity_checks, do_sanity_checks_rawdupl, dataset_beh_expt, DEBUG_TIMING, MINIMAL_LOADING, BAREBONES_LOADING, ACTUALLY_BAREBONES_LOADING, units_metadat_fail_if_no_exist, do_if_spikes_incomplete, spikes_version, fr_sm_std, Diego_use_main_21)\u001b[0m\n\u001b[1;32m    592\u001b[0m             \u001b[0mprint\u001b[0m\u001b[0;34m(\u001b[0m\u001b[0;34m\"== Done\"\u001b[0m\u001b[0;34m)\u001b[0m\u001b[0;34m\u001b[0m\u001b[0;34m\u001b[0m\u001b[0m\n\u001b[1;32m    593\u001b[0m \u001b[0;34m\u001b[0m\u001b[0m\n\u001b[1;32m    594\u001b[0m         \u001b[0;32mif\u001b[0m \u001b[0mMINIMAL_LOADING\u001b[0m\u001b[0;34m:\u001b[0m\u001b[0;34m\u001b[0m\u001b[0;34m\u001b[0m\u001b[0m\n\u001b[1;32m    595\u001b[0m             \u001b[0;31m# Load dataset beh\u001b[0m\u001b[0;34m\u001b[0m\u001b[0;34m\u001b[0m\u001b[0;34m\u001b[0m\u001b[0m\n\u001b[0;32m--> 596\u001b[0;31m             \u001b[0mself\u001b[0m\u001b[0;34m.\u001b[0m\u001b[0m_savelocalcached_load_dataset_beh\u001b[0m\u001b[0;34m(\u001b[0m\u001b[0mDiego_use_main_21\u001b[0m\u001b[0;34m=\u001b[0m\u001b[0mDiego_use_main_21\u001b[0m\u001b[0;34m)\u001b[0m\u001b[0;34m\u001b[0m\u001b[0;34m\u001b[0m\u001b[0m\n\u001b[0m\u001b[1;32m    597\u001b[0m \u001b[0;34m\u001b[0m\u001b[0m\n\u001b[1;32m    598\u001b[0m             \u001b[0;31m# Hacky things to do, since cannot do in oeroginal extract of dataset.\u001b[0m\u001b[0;34m\u001b[0m\u001b[0;34m\u001b[0m\u001b[0;34m\u001b[0m\u001b[0m\n\u001b[1;32m    599\u001b[0m             \u001b[0mself\u001b[0m\u001b[0;34m.\u001b[0m\u001b[0mDatasetbeh\u001b[0m\u001b[0;34m.\u001b[0m\u001b[0msupervision_epochs_extract_orig\u001b[0m\u001b[0;34m(\u001b[0m\u001b[0;34m)\u001b[0m\u001b[0;34m\u001b[0m\u001b[0;34m\u001b[0m\u001b[0m\n",
      "\u001b[0;32m~/code/neuralmonkey/neuralmonkey/classes/session.py\u001b[0m in \u001b[0;36m?\u001b[0;34m(self, dataset_version, Diego_use_main_21)\u001b[0m\n\u001b[1;32m   2082\u001b[0m             \u001b[0;31m# Don't run cleanup, since loading the dataset forces a cleanup.\u001b[0m\u001b[0;34m\u001b[0m\u001b[0;34m\u001b[0m\u001b[0;34m\u001b[0m\u001b[0m\n\u001b[1;32m   2083\u001b[0m             \u001b[0;31m# This is default from 3/13/24 on\u001b[0m\u001b[0;34m\u001b[0m\u001b[0;34m\u001b[0m\u001b[0;34m\u001b[0m\u001b[0m\n\u001b[1;32m   2084\u001b[0m             \u001b[0mdatasetbeh_exptname\u001b[0m \u001b[0;34m=\u001b[0m \u001b[0;32mNone\u001b[0m \u001b[0;31m# None was used orignally during extraction. This means use daily dataset.\u001b[0m\u001b[0;34m\u001b[0m\u001b[0;34m\u001b[0m\u001b[0m\n\u001b[1;32m   2085\u001b[0m             \u001b[0;31m# self.datasetbeh_load_helper(self.DatasetbehExptname, FORCE_AFTER_MINIMAL=True)\u001b[0m\u001b[0;34m\u001b[0m\u001b[0;34m\u001b[0m\u001b[0;34m\u001b[0m\u001b[0m\n\u001b[0;32m-> 2086\u001b[0;31m             \u001b[0mself\u001b[0m\u001b[0;34m.\u001b[0m\u001b[0mdatasetbeh_load_helper\u001b[0m\u001b[0;34m(\u001b[0m\u001b[0mdatasetbeh_exptname\u001b[0m\u001b[0;34m,\u001b[0m \u001b[0mDiego_use_main_21\u001b[0m\u001b[0;34m=\u001b[0m\u001b[0mDiego_use_main_21\u001b[0m\u001b[0;34m)\u001b[0m\u001b[0;34m\u001b[0m\u001b[0;34m\u001b[0m\u001b[0m\n\u001b[0m\u001b[1;32m   2087\u001b[0m \u001b[0;34m\u001b[0m\u001b[0m\n\u001b[1;32m   2088\u001b[0m             \u001b[0;31m# Clear cached beh data that might now be innacurate.\u001b[0m\u001b[0;34m\u001b[0m\u001b[0;34m\u001b[0m\u001b[0;34m\u001b[0m\u001b[0m\n\u001b[1;32m   2089\u001b[0m             \u001b[0mself\u001b[0m\u001b[0;34m.\u001b[0m\u001b[0m_CachedStrokesPeanutsOnly\u001b[0m \u001b[0;34m=\u001b[0m \u001b[0;34m{\u001b[0m\u001b[0;34m}\u001b[0m\u001b[0;34m\u001b[0m\u001b[0;34m\u001b[0m\u001b[0m\n",
      "\u001b[0;32m~/code/neuralmonkey/neuralmonkey/classes/session.py\u001b[0m in \u001b[0;36m?\u001b[0;34m(self, dataset_beh_expt, Diego_use_main_21)\u001b[0m\n\u001b[1;32m   5572\u001b[0m         \u001b[0;32mexcept\u001b[0m \u001b[0mDataMisalignError\u001b[0m \u001b[0;32mas\u001b[0m \u001b[0merr\u001b[0m\u001b[0;34m:\u001b[0m\u001b[0;34m\u001b[0m\u001b[0;34m\u001b[0m\u001b[0m\n\u001b[1;32m   5573\u001b[0m             \u001b[0;32mraise\u001b[0m \u001b[0merr\u001b[0m\u001b[0;34m\u001b[0m\u001b[0;34m\u001b[0m\u001b[0m\n\u001b[1;32m   5574\u001b[0m         \u001b[0;32mexcept\u001b[0m \u001b[0mException\u001b[0m \u001b[0;32mas\u001b[0m \u001b[0merr\u001b[0m\u001b[0;34m:\u001b[0m\u001b[0;34m\u001b[0m\u001b[0;34m\u001b[0m\u001b[0m\n\u001b[1;32m   5575\u001b[0m             \u001b[0mprint\u001b[0m\u001b[0;34m(\u001b[0m\u001b[0;34m\"probably need to pass in correct rule to load dataset.\"\u001b[0m\u001b[0;34m)\u001b[0m\u001b[0;34m\u001b[0m\u001b[0;34m\u001b[0m\u001b[0m\n\u001b[0;32m-> 5576\u001b[0;31m             \u001b[0;32mraise\u001b[0m \u001b[0merr\u001b[0m\u001b[0;34m\u001b[0m\u001b[0;34m\u001b[0m\u001b[0m\n\u001b[0m\u001b[1;32m   5577\u001b[0m \u001b[0;34m\u001b[0m\u001b[0m\n\u001b[1;32m   5578\u001b[0m         \u001b[0;31m# Final stuff for dataset\u001b[0m\u001b[0;34m\u001b[0m\u001b[0;34m\u001b[0m\u001b[0;34m\u001b[0m\u001b[0m\n\u001b[1;32m   5579\u001b[0m \u001b[0;34m\u001b[0m\u001b[0m\n",
      "\u001b[0;32m~/code/neuralmonkey/neuralmonkey/classes/session.py\u001b[0m in \u001b[0;36m?\u001b[0;34m(self, dataset_beh_expt, Diego_use_main_21)\u001b[0m\n\u001b[1;32m   5572\u001b[0m         \u001b[0;32mexcept\u001b[0m \u001b[0mDataMisalignError\u001b[0m \u001b[0;32mas\u001b[0m \u001b[0merr\u001b[0m\u001b[0;34m:\u001b[0m\u001b[0;34m\u001b[0m\u001b[0;34m\u001b[0m\u001b[0m\n\u001b[1;32m   5573\u001b[0m             \u001b[0;32mraise\u001b[0m \u001b[0merr\u001b[0m\u001b[0;34m\u001b[0m\u001b[0;34m\u001b[0m\u001b[0m\n\u001b[1;32m   5574\u001b[0m         \u001b[0;32mexcept\u001b[0m \u001b[0mException\u001b[0m \u001b[0;32mas\u001b[0m \u001b[0merr\u001b[0m\u001b[0;34m:\u001b[0m\u001b[0;34m\u001b[0m\u001b[0;34m\u001b[0m\u001b[0m\n\u001b[1;32m   5575\u001b[0m             \u001b[0mprint\u001b[0m\u001b[0;34m(\u001b[0m\u001b[0;34m\"probably need to pass in correct rule to load dataset.\"\u001b[0m\u001b[0;34m)\u001b[0m\u001b[0;34m\u001b[0m\u001b[0;34m\u001b[0m\u001b[0m\n\u001b[0;32m-> 5576\u001b[0;31m             \u001b[0;32mraise\u001b[0m \u001b[0merr\u001b[0m\u001b[0;34m\u001b[0m\u001b[0;34m\u001b[0m\u001b[0m\n\u001b[0m\u001b[1;32m   5577\u001b[0m \u001b[0;34m\u001b[0m\u001b[0m\n\u001b[1;32m   5578\u001b[0m         \u001b[0;31m# Final stuff for dataset\u001b[0m\u001b[0;34m\u001b[0m\u001b[0;34m\u001b[0m\u001b[0;34m\u001b[0m\u001b[0m\n\u001b[1;32m   5579\u001b[0m \u001b[0;34m\u001b[0m\u001b[0m\n",
      "\u001b[0;31mAssertionError\u001b[0m: assuming you wanted to get daily, but somehow failed and got to here... check that daily dataset actually exists."
     ]
    },
    {
     "data": {
      "image/png": "[encoded data removed]",
      "text/plain": [
       "<Figure size 640x480 with 1 Axes>"
      ]
     },
     "metadata": {},
     "output_type": "display_data"
    },
    {
     "data": {
      "image/png": "[encoded data removed]",
      "text/plain": [
       "<Figure size 640x480 with 1 Axes>"
      ]
     },
     "metadata": {},
     "output_type": "display_data"
    }
   ],
   "source": [
    "DATE = 231122\n",
    "animal = \"Diego\"\n",
    "MS = load_mult_session_helper(DATE, animal, MINIMAL_LOADING=True, Diego_use_main_21=False)   \n"
   ]
  },
  {
   "cell_type": "code",
   "execution_count": null,
   "id": "a3ad08b4",
   "metadata": {},
   "outputs": [],
   "source": [
    "sn = MS.SessionsList[0]\n",
    "for k, v in sn.sitegetterKS_generate_mapper_region_to_sites_BASE().items():\n",
    "    print(k, \" -- \", v)"
   ]
  },
  {
   "cell_type": "code",
   "execution_count": null,
   "id": "8c2711e9",
   "metadata": {},
   "outputs": [],
   "source": [
    "MS = load_mult_session_helper(DATE, animal, MINIMAL_LOADING=True, spikes_version=\"kilosort_if_exists\")   \n"
   ]
  },
  {
   "cell_type": "code",
   "execution_count": null,
   "id": "af0b460a",
   "metadata": {},
   "outputs": [],
   "source": [
    "sn = MS.SessionsList[1]\n",
    "sn.get_trials_list(False)"
   ]
  },
  {
   "cell_type": "code",
   "execution_count": null,
   "id": "30c68086",
   "metadata": {},
   "outputs": [],
   "source": [
    "sn.get_trials_list(only_if_in_dataset=True)"
   ]
  },
  {
   "cell_type": "code",
   "execution_count": null,
   "id": "05617bd1",
   "metadata": {},
   "outputs": [],
   "source": [
    "MS.spikes_version()"
   ]
  },
  {
   "cell_type": "code",
   "execution_count": null,
   "id": "5a0e9cfb",
   "metadata": {},
   "outputs": [],
   "source": [
    "sn.SPIKES_VERSION"
   ]
  },
  {
   "cell_type": "code",
   "execution_count": null,
   "id": "20121a13",
   "metadata": {},
   "outputs": [],
   "source": [
    "MS.sitegetter_all()"
   ]
  },
  {
   "cell_type": "code",
   "execution_count": null,
   "id": "9345b843",
   "metadata": {},
   "outputs": [],
   "source": [
    "from neuralmonkey.classes.session import load_session_helper\n",
    "DATE = \"231218\"\n",
    "rec_session = 0\n",
    "animal = \"Diego\"\n",
    "SN = load_session_helper(DATE, None, rec_session, animal, None,  \n",
    "    ACTUALLY_BAREBONES_LOADING = True) # Very quick loading\n"
   ]
  },
  {
   "cell_type": "code",
   "execution_count": null,
   "id": "f51c0e16",
   "metadata": {},
   "outputs": [],
   "source": [
    "# Load a single session\n",
    "sess = 1\n",
    "sn_KS = load_session_helper(DATE, rec_session=sess, animal=animal, MINIMAL_LOADING=True, spikes_version=\"kilosort\")\n",
    "\n",
    "# Load a single session\n",
    "sess = 1\n",
    "sn_TD = load_session_helper(DATE, rec_session=sess, animal=animal, MINIMAL_LOADING=True, spikes_version=\"tdt\")"
   ]
  },
  {
   "cell_type": "code",
   "execution_count": null,
   "id": "f1f5361ddee3803",
   "metadata": {
    "collapsed": false
   },
   "outputs": [],
   "source": [
    "# Load a single session (WITHOUT MINIMAL LOADING)\n",
    "sess = 1\n",
    "sn = load_session_helper(DATE, rec_session=sess, animal=animal, MINIMAL_LOADING=False, spikes_version=\"kilosort_if_exists\")\n"
   ]
  },
  {
   "cell_type": "markdown",
   "id": "078960bb",
   "metadata": {},
   "source": [
    "### Devo - check whether fixations have been extracted fro this day"
   ]
  },
  {
   "cell_type": "code",
   "execution_count": null,
   "id": "eb7404d5",
   "metadata": {},
   "outputs": [],
   "source": [
    "for sn in MS.SessionsList:\n",
    "    print(sn.clusterfix_check_if_preprocessing_complete())"
   ]
  },
  {
   "cell_type": "markdown",
   "id": "c6ea8b19",
   "metadata": {},
   "source": [
    "### Merging kilosort and tdt, to maximize unit yield"
   ]
  },
  {
   "cell_type": "code",
   "execution_count": null,
   "id": "1681bbfd",
   "metadata": {},
   "outputs": [],
   "source": [
    "sn = MS.SessionsList[0]\n",
    "sn.DatAll[0]\n"
   ]
  },
  {
   "cell_type": "code",
   "execution_count": null,
   "id": "56503ff6",
   "metadata": {},
   "outputs": [],
   "source": [
    "sn.get_trials_list()"
   ]
  },
  {
   "cell_type": "code",
   "execution_count": null,
   "id": "904f921a",
   "metadata": {},
   "outputs": [],
   "source": [
    "sn.datall_TDT_KS_slice_single_bysite"
   ]
  },
  {
   "cell_type": "code",
   "execution_count": null,
   "id": "4c577f13",
   "metadata": {},
   "outputs": [],
   "source": [
    "DATE"
   ]
  },
  {
   "cell_type": "code",
   "execution_count": null,
   "id": "746a166a",
   "metadata": {},
   "outputs": [],
   "source": [
    "sn._datallTDT_slice_single(2,1, 378)\n"
   ]
  },
  {
   "cell_type": "code",
   "execution_count": null,
   "id": "2fa62e97",
   "metadata": {},
   "outputs": [],
   "source": [
    "1"
   ]
  },
  {
   "cell_type": "markdown",
   "id": "70b3db86a38b1a7",
   "metadata": {
    "collapsed": false
   },
   "source": [
    "# Debugging \"FULL LOADING MODE\" stuff"
   ]
  },
  {
   "cell_type": "code",
   "execution_count": null,
   "id": "77dbeb3156ea3b03",
   "metadata": {
    "collapsed": false
   },
   "outputs": [],
   "source": [
    "sn._MapperTrialcode2TrialToTrial"
   ]
  },
  {
   "cell_type": "code",
   "execution_count": null,
   "id": "4b0f52579572be4b",
   "metadata": {
    "collapsed": false
   },
   "outputs": [],
   "source": [
    "sn.get_trials_list(True)"
   ]
  },
  {
   "cell_type": "code",
   "execution_count": null,
   "id": "bdcce0195175eff8",
   "metadata": {
    "collapsed": false
   },
   "outputs": [],
   "source": [
    "sn.events_get_time_using_photodiode()"
   ]
  },
  {
   "cell_type": "code",
   "execution_count": null,
   "id": "11fcdbe6b2d32ed0",
   "metadata": {
    "collapsed": false
   },
   "outputs": [],
   "source": [
    "sn.load_tdt_tank(include_streams=True, force_reload_from_raw=True)"
   ]
  },
  {
   "cell_type": "code",
   "execution_count": null,
   "id": "a22ee715fc0a0037",
   "metadata": {
    "collapsed": false
   },
   "outputs": [],
   "source": [
    "sn.DatTank[\"streams\"][\"\"]"
   ]
  },
  {
   "cell_type": "code",
   "execution_count": null,
   "id": "53fae8512e6ac425",
   "metadata": {
    "collapsed": false
   },
   "outputs": [],
   "source": [
    "sn.DatTank[\"streams\"]"
   ]
  },
  {
   "cell_type": "code",
   "execution_count": null,
   "id": "776619fd18d1f949",
   "metadata": {
    "collapsed": false
   },
   "outputs": [],
   "source": [
    "sn.events_get_time_using_photodiode_and_save()"
   ]
  },
  {
   "cell_type": "code",
   "execution_count": null,
   "id": "16630c8688911a62",
   "metadata": {
    "collapsed": false
   },
   "outputs": [],
   "source": [
    "SN = sn\n",
    "\n",
    "# save sanity checsk of pd crossings/events.\n",
    "SN.eventsdataframe_sanity_check()\n",
    "\n",
    "########## SAVE CACHED\n",
    "# ALways run this since it is quick\n",
    "SN._savelocalcached_extract()\n",
    "\n",
    "# save_datslices = not checkIfDirExistsAndHasFiles(path)[1] # save if not already done.\n",
    "save_datslices = not SN._savelocalcached_checksaved_datslice()\n",
    "# then already extracted\n",
    "\n",
    "SN._savelocalcached_save(save_datslices=save_datslices)\n",
    "\n",
    "# Then delete the old data, as is redundant with the cached local\n",
    "if SN._savelocalcached_check_done():\n",
    "    print(\"DELETING, becuause they are redundant with datslices:\")\n",
    "    print(SN.Paths[\"datall_local\"])\n",
    "    print(SN.Paths[\"spikes_local\"])\n",
    "    os.remove(SN.Paths[\"datall_local\"])\n",
    "    os.remove(SN.Paths[\"spikes_local\"])\n",
    "else:\n",
    "    assert False, \"should have all been extracted in _savelocalcached_save\"\n"
   ]
  },
  {
   "cell_type": "markdown",
   "id": "12631b061ac467d3",
   "metadata": {
    "collapsed": false
   },
   "source": [
    "# Kilosort debugging"
   ]
  },
  {
   "cell_type": "markdown",
   "id": "ee0c87f22df6ef70",
   "metadata": {
    "collapsed": false
   },
   "source": [
    "### Compare ks to tdt "
   ]
  },
  {
   "cell_type": "code",
   "execution_count": null,
   "id": "9ddc83d52f0480e4",
   "metadata": {
    "collapsed": false
   },
   "outputs": [],
   "source": [
    "sn = MS.SessionsList[3]\n",
    "savedir = \"/tmp/ksgood\"\n",
    "sn.ks_plot_compare_tdt_to_kilosort(\"/tmp\")"
   ]
  },
  {
   "cell_type": "markdown",
   "id": "b243e91d42d017d9",
   "metadata": {
    "collapsed": false
   },
   "source": [
    "### Kilosort, get time global of start of current session, for extracting time of tdt spikes"
   ]
  },
  {
   "cell_type": "code",
   "execution_count": null,
   "id": "db826e09ac55b2ed",
   "metadata": {
    "collapsed": false
   },
   "outputs": [],
   "source": [
    "from neuralmonkey.utils.directory import rec_session_durations_extract_kilosort\n",
    "out = rec_session_durations_extract_kilosort(animal, DATE)\n",
    "print(\"-------------------------\")\n",
    "for k, v in out.items():\n",
    "    print(k, \" -- \", v)\n",
    "duration_total_using_rs4_dict\n",
    "\n",
    "sn_KS.spiketimes_ks_compute_timeglobal_thissession_start()\n",
    "# Sanity check, compare ks to tdt activity.\n",
    "sn_KS.datall_TDT_KS_slice_single_bysite(1412, 0)\n",
    "sn_KS.sitegetterKS_all_sites()\n",
    "sn."
   ]
  },
  {
   "cell_type": "markdown",
   "id": "5012cc5f8438b84",
   "metadata": {
    "collapsed": false
   },
   "source": [
    "### Overlay spikes onto raw data"
   ]
  },
  {
   "cell_type": "code",
   "execution_count": null,
   "id": "2d0893a9dadd77ce",
   "metadata": {
    "collapsed": false
   },
   "outputs": [],
   "source": [
    "sn_KS = MS.SessionsList[1]"
   ]
  },
  {
   "cell_type": "code",
   "execution_count": null,
   "id": "3280527153bb24ee",
   "metadata": {
    "collapsed": false
   },
   "outputs": [],
   "source": [
    "sn_KS.SPIKES_VERSION = \"kilosort\"\n",
    "sn_KS._SPIKES_VERSION_INPUTED = \"kilosort\""
   ]
  },
  {
   "cell_type": "code",
   "execution_count": null,
   "id": "60a734d87a014daf",
   "metadata": {
    "collapsed": false
   },
   "outputs": [],
   "source": [
    "sn_KS.sitegetterKS_all_sites()"
   ]
  },
  {
   "cell_type": "code",
   "execution_count": null,
   "id": "e1e1f74cf269179a",
   "metadata": {
    "collapsed": false
   },
   "outputs": [],
   "source": [
    "site = 1273\n",
    "trial = sn_KS.get_trials_list(True)[-2]\n",
    "print(sn_KS.sitegetterKS_thissite_info(site))"
   ]
  },
  {
   "cell_type": "code",
   "execution_count": null,
   "id": "e6a9ea6c4755d604",
   "metadata": {
    "collapsed": false
   },
   "outputs": [],
   "source": [
    "sn_KS.spiketimes_ks_compute_timeglobal_thissession_start()"
   ]
  },
  {
   "cell_type": "code",
   "execution_count": null,
   "id": "c03a93cf8068fdf4",
   "metadata": {
    "collapsed": false
   },
   "outputs": [],
   "source": [
    "\n",
    "twind_plot = None\n",
    "twind_plot = [0.2, 0.25]\n",
    "sn_KS.plot_raw_overlay_spikes_on_raw_filtered(site, trial, twind_plot)\n",
    "sn_KS.ks_plot_compare_overlaying_spikes_on_raw_filtered(site, trial)"
   ]
  },
  {
   "cell_type": "markdown",
   "id": "c2d860364ebc323f",
   "metadata": {
    "collapsed": false
   },
   "source": [
    "### Plot example raster"
   ]
  },
  {
   "cell_type": "code",
   "execution_count": null,
   "id": "5250b3684f5eef0a",
   "metadata": {
    "collapsed": false
   },
   "outputs": [],
   "source": [
    "for t in trials:\n",
    "    assert sn_KS.datasetbeh_trial_to_trialcode(t)==sn_TD.datasetbeh_trial_to_trialcode(t)\n",
    "    assert sn_KS.datasetbeh_trial_to_datidx(t)==sn_TD.datasetbeh_trial_to_datidx(t)\n",
    "    \n",
    "assert np.all(sn_TD.Datasetbeh.Dat[\"trialcode\"] == sn_KS.Datasetbeh.Dat[\"trialcode\"])"
   ]
  },
  {
   "cell_type": "code",
   "execution_count": null,
   "id": "abf21f9f831b6e8",
   "metadata": {
    "collapsed": false
   },
   "outputs": [],
   "source": [
    "sn_KS._CachedTrialOnset == sn_TD._CachedTrialOnset\n"
   ]
  },
  {
   "cell_type": "code",
   "execution_count": null,
   "id": "ac56ded7fe148092",
   "metadata": {
    "collapsed": false
   },
   "outputs": [],
   "source": [
    "sn_KS.RecPathBaseLocal"
   ]
  },
  {
   "cell_type": "code",
   "execution_count": null,
   "id": "ded95e6f1ca1fc0a",
   "metadata": {
    "collapsed": false
   },
   "outputs": [],
   "source": [
    "\n",
    "sn_KS._CachedTrialOnset "
   ]
  },
  {
   "cell_type": "code",
   "execution_count": null,
   "id": "6b37aa5978e88df9",
   "metadata": {
    "collapsed": false
   },
   "outputs": [],
   "source": [
    "site = 125\n",
    "trials = sn_TD.get_trials_list(True)\n",
    "sn_TD.plotwrapper_raster_multrials_onesite(trials[::15], site=site, plot_beh=False);"
   ]
  },
  {
   "cell_type": "code",
   "execution_count": null,
   "id": "58fa6dc09d31b7ac",
   "metadata": {
    "collapsed": false
   },
   "outputs": [],
   "source": [
    "site = 1127\n",
    "\n",
    "site = 7\n",
    "sn_KS.sitegetterKS_thissite_info(site)"
   ]
  },
  {
   "cell_type": "code",
   "execution_count": null,
   "id": "8c1f39f2e2e4a69",
   "metadata": {
    "collapsed": false
   },
   "outputs": [],
   "source": [
    "trials = sn_KS.get_trials_list(True)\n",
    "sn_KS.plotwrapper_raster_multrials_onesite(trials[::15], site=site, plot_beh=False);"
   ]
  },
  {
   "cell_type": "markdown",
   "id": "f0a90ce2",
   "metadata": {},
   "source": [
    "##### Fixation touch and done"
   ]
  },
  {
   "cell_type": "code",
   "execution_count": null,
   "id": "d9a9a35f",
   "metadata": {},
   "outputs": [],
   "source": [
    "trial = 813\n",
    "sn.beh_extract_touch_in_done_button(trial,  ploton=True)"
   ]
  },
  {
   "cell_type": "code",
   "execution_count": null,
   "id": "c75c1249",
   "metadata": {
    "scrolled": false
   },
   "outputs": [],
   "source": [
    "# sn.beh_extract_touch_in_fixation_square(trial, window_delta_pixels=48, ploton=True)\n",
    "trial = 114\n",
    "# sn.beh_extract_touch_in_fixation_square(trial, window_delta_pixels=52, ploton=True)\n",
    "times, touch = sn.beh_extract_touch_in_fixation_square(trial, ploton=True)\n",
    "\n"
   ]
  },
  {
   "cell_type": "markdown",
   "id": "9b5a956626143c9f",
   "metadata": {
    "collapsed": false
   },
   "source": [
    "# Debugging event extraction (e.g., photodiode)"
   ]
  },
  {
   "cell_type": "markdown",
   "id": "891e020c",
   "metadata": {},
   "source": [
    "##### Sanity checks across trialsm"
   ]
  },
  {
   "cell_type": "code",
   "execution_count": null,
   "id": "f0e8512e",
   "metadata": {},
   "outputs": [],
   "source": [
    "# Compare times of events, e..g, make sure done alway soccurs after \n",
    "for trial in sn.get_trials_list(True):\n",
    "    print(trial)\n",
    "    \n",
    "    tmp = sn.events_get_times_as_array(trial, [\"fixtch\", \"go\", \"doneb\"])\n",
    "    if np.isnan(tmp[2]):\n",
    "        continue\n",
    "    else:\n",
    "#         print(tmp[2] - tmp[1])\n",
    "        assert (tmp[2] - tmp[1])>0\n",
    "        "
   ]
  },
  {
   "cell_type": "code",
   "execution_count": null,
   "id": "b1d463c8",
   "metadata": {},
   "outputs": [],
   "source": []
  },
  {
   "cell_type": "code",
   "execution_count": null,
   "id": "5ea11ebb",
   "metadata": {},
   "outputs": [],
   "source": [
    "# trial = 243\n",
    "event = \"rulecue2\"\n",
    "for trial in sn.get_trials_list(True):\n",
    "    a = sn.events_get_time_using_photodiode(trial, list_events=[event])\n",
    "    b = sn.events_get_time_using_photodiode(trial, list_events=[event], do_reextract_even_if_saved=True)\n",
    "    if a!=b:\n",
    "        suff = \"******\"\n",
    "    else:\n",
    "        suff = \"\"\n",
    "    print(trial, a, b, a==b, suff)\n",
    "    if len(a[event])>0:\n",
    "        assert np.abs(a[event][0]-b[event][0])<0.01\n"
   ]
  },
  {
   "cell_type": "markdown",
   "id": "7de02161",
   "metadata": {},
   "source": [
    "##### Plot pd"
   ]
  },
  {
   "cell_type": "code",
   "execution_count": null,
   "id": "474247f2",
   "metadata": {},
   "outputs": [],
   "source": [
    "# >>>>>>>>>>>>>>>\n",
    "# trial, event: 1 rulecue2\n",
    "# **\n",
    "# Animal:  Pancho\n",
    "# ExptSynapse:  Lucas512-220520-115835\n",
    "# Date:  240828\n",
    "# RecSession 0\n",
    "# RecPathBase:  /home/lucas/mnt/Freiwald/ltian/recordings\n",
    "# BehExpt:  ['gramsuppancho2']\n",
    "# BehExptSess:  [1]\n",
    "# final_dir_name:  Pancho-240828-153012\n"
   ]
  },
  {
   "cell_type": "code",
   "execution_count": null,
   "id": "8efd4b8f",
   "metadata": {},
   "outputs": [],
   "source": [
    "trial = 508\n",
    "event = \"samp\"\n",
    "sn.events_get_time_using_photodiode(trial, list_events=[event])\n"
   ]
  },
  {
   "cell_type": "code",
   "execution_count": null,
   "id": "07d65e5c",
   "metadata": {
    "scrolled": false
   },
   "outputs": [],
   "source": [
    "%matplotlib inline\n",
    "\n",
    "trial = 508\n",
    "event = \"samp\"\n",
    "sn.events_get_time_using_photodiode(trial, list_events=[event], plot_beh_code_stream = True, \n",
    "                                    do_reextract_even_if_saved=True)\n"
   ]
  },
  {
   "cell_type": "code",
   "execution_count": null,
   "id": "07506973",
   "metadata": {},
   "outputs": [],
   "source": [
    "trial = 1\n",
    "event = \"done_button\"\n",
    "sn.events_get_time_using_photodiode(trial, list_events=[event], plot_beh_code_stream = True, \n",
    "                                    do_reextract_even_if_saved=True)\n"
   ]
  },
  {
   "cell_type": "code",
   "execution_count": null,
   "id": "4b58d26e",
   "metadata": {},
   "outputs": [],
   "source": [
    "sn."
   ]
  },
  {
   "cell_type": "code",
   "execution_count": null,
   "id": "a4c504be",
   "metadata": {},
   "outputs": [],
   "source": [
    "set([x[1] for x in sn.EventsTimeUsingPhd.keys()])"
   ]
  },
  {
   "cell_type": "code",
   "execution_count": null,
   "id": "c9ca6c8a",
   "metadata": {},
   "outputs": [],
   "source": [
    "events_to_keep = [\"fixcue\", \"rulecue2\", \"samp\", \"go\", \"seqon\", \n",
    "                  \"post\", \"reward_all\", \"seqon\"]\n",
    "\n",
    "{x:vals for x, vals in sn.EventsTimeUsingPhd.items() if x[1] in events_to_keep}"
   ]
  },
  {
   "cell_type": "code",
   "execution_count": null,
   "id": "9d47be02",
   "metadata": {},
   "outputs": [],
   "source": [
    "events_to_keep = [\"fixcue\", \"go\", \"go_cue\"\n",
    " 'on_strokeidx_0',\n",
    " 'post',\n",
    " 'reward_all',\n",
    " 'rulecue2',\n",
    " 'samp]"
   ]
  },
  {
   "cell_type": "code",
   "execution_count": null,
   "id": "6f95aca6",
   "metadata": {},
   "outputs": [],
   "source": [
    "{x:vals for x, vals in sn.EventsTimeUsingPhd.items() if x[1]==\"fixtch\"}"
   ]
  },
  {
   "cell_type": "code",
   "execution_count": null,
   "id": "50d28669",
   "metadata": {},
   "outputs": [],
   "source": [
    "import numpy as np\n",
    "np.linspace(-0.015, 0.055, 50)"
   ]
  },
  {
   "cell_type": "code",
   "execution_count": null,
   "id": "323a9b05",
   "metadata": {},
   "outputs": [],
   "source": []
  },
  {
   "cell_type": "code",
   "execution_count": null,
   "id": "309dcb92",
   "metadata": {},
   "outputs": [],
   "source": [
    "np.linspace(-0.045, 0.045, )"
   ]
  },
  {
   "cell_type": "code",
   "execution_count": null,
   "id": "7508f2b2",
   "metadata": {},
   "outputs": [],
   "source": [
    "np.linspace(1,10)\n"
   ]
  },
  {
   "cell_type": "code",
   "execution_count": null,
   "id": "3efae11b",
   "metadata": {},
   "outputs": [],
   "source": [
    "print(10)"
   ]
  },
  {
   "cell_type": "code",
   "execution_count": null,
   "id": "e594c0b4",
   "metadata": {},
   "outputs": [],
   "source": [
    "sn.events_get_time_sorted(trial, [\"fixcue\", \"fixtch\"])[0]"
   ]
  },
  {
   "cell_type": "code",
   "execution_count": null,
   "id": "6d2746b4",
   "metadata": {},
   "outputs": [],
   "source": [
    "trial = 594\n",
    "%matplotlib inline\n",
    "sn.events_get_time_using_photodiode(trial, list_events=[event], plot_beh_code_stream = True, overwrite=True)"
   ]
  },
  {
   "cell_type": "markdown",
   "id": "ab429de9",
   "metadata": {},
   "source": [
    "##### Problem: fixtouch even before fixation cue onset"
   ]
  },
  {
   "cell_type": "code",
   "execution_count": null,
   "id": "aeec9b60",
   "metadata": {},
   "outputs": [],
   "source": [
    "# Solution: detect cases. call the onset the same time as fixcue onset."
   ]
  },
  {
   "cell_type": "code",
   "execution_count": null,
   "id": "d883a1aa",
   "metadata": {},
   "outputs": [],
   "source": [
    "for t in sn.get_trials_list(True):\n",
    "    if sn.beh_check_touching_fixation_square_during_onset(t):\n",
    "        print(t)"
   ]
  },
  {
   "cell_type": "code",
   "execution_count": null,
   "id": "5276daae",
   "metadata": {},
   "outputs": [],
   "source": [
    "touch.shape"
   ]
  },
  {
   "cell_type": "code",
   "execution_count": null,
   "id": "146b75e7",
   "metadata": {},
   "outputs": [],
   "source": [
    "trial= 237\n",
    "sn.beh_extract_touch_in_fixation_square(trial, ploton=True)"
   ]
  },
  {
   "cell_type": "markdown",
   "id": "e631f79f",
   "metadata": {},
   "source": [
    "#### Plot"
   ]
  },
  {
   "cell_type": "code",
   "execution_count": null,
   "id": "a3a446fe",
   "metadata": {},
   "outputs": [],
   "source": [
    "sn = MS.SessionsList[0]"
   ]
  },
  {
   "cell_type": "code",
   "execution_count": null,
   "id": "b4bbd264",
   "metadata": {},
   "outputs": [],
   "source": [
    "sn.extract_data_tank_epocs(\"camtrialoff\")"
   ]
  },
  {
   "cell_type": "code",
   "execution_count": null,
   "id": "d6a5f0e5",
   "metadata": {},
   "outputs": [],
   "source": [
    "# sn.DatTank[\"streams\"][\"Mic1\"]\n",
    "# sn.DatTank[\"streams\"][\"PhD2\"]\n",
    "# sn.DatTank[\"streams\"][\"Eyee\"]\n",
    "sn.DatTank[\"streams\"][\"PhDi\"]"
   ]
  },
  {
   "cell_type": "code",
   "execution_count": null,
   "id": "4d579d87",
   "metadata": {},
   "outputs": [],
   "source": [
    "sn.behcode_extract_times_semantic(\"go\", trial)"
   ]
  },
  {
   "cell_type": "code",
   "execution_count": null,
   "id": "7d9280c3",
   "metadata": {},
   "outputs": [],
   "source": [
    "sn.behcode_extract_times_sequence"
   ]
  },
  {
   "cell_type": "code",
   "execution_count": null,
   "id": "b46d47a7",
   "metadata": {},
   "outputs": [],
   "source": [
    "sn.behcode_extract_times_semantic(\"samp\", trial)"
   ]
  },
  {
   "cell_type": "code",
   "execution_count": null,
   "id": "1fb19d96",
   "metadata": {},
   "outputs": [],
   "source": [
    "2.5 + 0.3*2.5"
   ]
  },
  {
   "cell_type": "code",
   "execution_count": null,
   "id": "9bb293e866159bce",
   "metadata": {
    "collapsed": false
   },
   "outputs": [],
   "source": [
    "%matplotlib inline\n",
    "sites = sn.sitegetterKS_all_sites()\n",
    "trial= 508\n",
    "sn.plotwrapper_raster_oneetrial_multsites(trial, sites[:10], overlay_trial_events=False,  overlay_trial_events_notpd=True)\n",
    "# sn.plotwrapper_raster_oneetrial_multsites(trial, sites[:10], overlay_trial_events=True,  overlay_trial_events_notpd=False)\n",
    "\n"
   ]
  },
  {
   "cell_type": "code",
   "execution_count": null,
   "id": "0ecbd226",
   "metadata": {},
   "outputs": [],
   "source": [
    "trials = sn.get_trials_list(True, True)\n",
    "sites = sn.sitegetter_all()\n",
    "pre = -0.55\n",
    "post = -0.05\n",
    "sn.smoothedfr_extract_timewindow(trials, sites, \"first_raise\", pre, post)\n",
    "\n",
    "sn.events_get_time_using_photodiode(269, list_events=[\"first_raise\"], plot_beh_code_stream = True, overwrite=True)"
   ]
  },
  {
   "cell_type": "code",
   "execution_count": null,
   "id": "7c97e02c",
   "metadata": {},
   "outputs": [],
   "source": [
    "%matplotlib inline\n",
    "sites = sn.sitegetterKS_all_sites()\n",
    "for trial in sn.get_trials_list()[10:30]:\n",
    "    fig1, fig2 = sn.plotwrapper_raster_oneetrial_multsites(trial, sites[:5])\n",
    "    from pythonlib.tools.pandastools import savefig\n",
    "    savefig(fig1, f\"/tmp/FIG-{trial}.png\")\n",
    "    assert False\n",
    "    plt.close(\"all\")"
   ]
  },
  {
   "cell_type": "code",
   "execution_count": null,
   "id": "d6a36b5f",
   "metadata": {},
   "outputs": [],
   "source": [
    "sn.datasetbeh_trial_to_trialcode(19)"
   ]
  },
  {
   "cell_type": "code",
   "execution_count": null,
   "id": "06ad6138",
   "metadata": {},
   "outputs": [],
   "source": [
    "from neuralmonkey.scripts.analy_euclidian_dist_pop_script import plot_all_results_time_trajectories\n",
    "plot_all_results_time_trajectories()"
   ]
  },
  {
   "cell_type": "markdown",
   "id": "2a63d5f9",
   "metadata": {},
   "source": [
    "### Check camera frame times -- GOOD, for Dan Hanuska, overlaying (i) raw ml2 times (ii) extract frame times, and (iii) various other trial things, like strokes.\n"
   ]
  },
  {
   "cell_type": "code",
   "execution_count": null,
   "id": "5e9f1a2a",
   "metadata": {},
   "outputs": [],
   "source": [
    "from pythonlib.tools.plottools import savefig"
   ]
  },
  {
   "cell_type": "code",
   "execution_count": null,
   "id": "f707f8b7",
   "metadata": {},
   "outputs": [],
   "source": [
    "sn = MS.SessionsList[0]"
   ]
  },
  {
   "cell_type": "code",
   "execution_count": null,
   "id": "38c53e66",
   "metadata": {},
   "outputs": [],
   "source": [
    "trials = sn.get_trials_list()"
   ]
  },
  {
   "cell_type": "code",
   "execution_count": null,
   "id": "678a41f9",
   "metadata": {},
   "outputs": [],
   "source": [
    "\n",
    "for trial in trials[10:20]:\n",
    "    fig, ax = plt.subplots(figsize=(120, 5))\n",
    "\n",
    "    # \"Final\" event times.\n",
    "    sn.plot_epocs(ax, trial, label_cam_frames=True)\n",
    "    sn.plotmod_overlay_trial_events(ax, trial)\n",
    "    for stream in [\"pd1\", \"pd2\"]:\n",
    "        sn.plot_stream(ax, trial, stream)\n",
    "\n",
    "    # Plot the ground truth camera voltages.\n",
    "    fd, fd_trialnum = sn.beh_get_fd_trial(trial)\n",
    "    vals = mkl.getTrialsAnalogData(fd, fd_trialnum, \"Btn1\")\n",
    "\n",
    "    times_cam_ml2 = vals[:, 1]\n",
    "    vals_cam_ml2 = vals[:, 0]\n",
    "\n",
    "    ax.plot(times_cam_ml2, vals_cam_ml2*120, \"x-\", alpha=0.2)\n",
    "\n",
    "    # overlay the original stroke times\n",
    "    times_strokes_on, times_strokes_off = sn.strokes_extract_ons_offs(trial, \"old\")\n",
    "    print(times_strokes_on, times_strokes_off)\n",
    "    for on in times_strokes_on:\n",
    "        ax.axvline(on)\n",
    "    for off in times_strokes_off:\n",
    "        ax.axvline(off)\n",
    "\n",
    "    tc = sn.datasetbeh_trial_to_trialcode(trial)\n",
    "    savefig(fig, f\"/tmp/trial={trial}-tc={tc}-NOLAG.png\")\n",
    "\n",
    "    plt.close(\"all\")"
   ]
  },
  {
   "cell_type": "code",
   "execution_count": null,
   "id": "4f82dc03",
   "metadata": {},
   "outputs": [],
   "source": [
    "trial = 10\n",
    "print(sn.datasetbeh_trial_to_trialcode(trial))\n",
    "print(sn.behcode_extract_times_sequence(trial, [16]))\n",
    "\n",
    "times_strokes_on, times_strokes_off = sn.strokes_extract_ons_offs(trial, \"old\")\n",
    "print(times_strokes_on, times_strokes_off)\n"
   ]
  },
  {
   "cell_type": "markdown",
   "id": "e9852aa5",
   "metadata": {},
   "source": [
    "# Get times of events on each trial"
   ]
  },
  {
   "cell_type": "code",
   "execution_count": null,
   "id": "65715603",
   "metadata": {},
   "outputs": [],
   "source": [
    "SN = MS.SessionsList[0]\n",
    "SN.eventsdataframe_sanity_check()"
   ]
  },
  {
   "cell_type": "markdown",
   "id": "f7834d4f",
   "metadata": {},
   "source": [
    "### Get beh"
   ]
  },
  {
   "cell_type": "code",
   "execution_count": null,
   "id": "6d485e9a",
   "metadata": {},
   "outputs": [],
   "source": [
    "strokes = sn.strokes_extract(1)"
   ]
  },
  {
   "cell_type": "code",
   "execution_count": null,
   "id": "6d3868d2",
   "metadata": {},
   "outputs": [],
   "source": [
    "strokes"
   ]
  },
  {
   "cell_type": "markdown",
   "id": "6211efc7",
   "metadata": {},
   "source": [
    "# Sanity check: arrays match across dates?"
   ]
  },
  {
   "cell_type": "code",
   "execution_count": null,
   "id": "8360cd52",
   "metadata": {},
   "outputs": [],
   "source": [
    "sn1 = MS1.SessionsList[0]\n",
    "sn2 = MS2.SessionsList[0]\n"
   ]
  },
  {
   "cell_type": "code",
   "execution_count": null,
   "id": "8c19ee4d",
   "metadata": {},
   "outputs": [],
   "source": [
    "dfres1 = sn1.sanity_waveforms_all_arrays_extract()\n",
    "dfres2 = sn2.sanity_waveforms_all_arrays_extract()"
   ]
  },
  {
   "cell_type": "code",
   "execution_count": null,
   "id": "bb03622a",
   "metadata": {},
   "outputs": [],
   "source": [
    "# Plot -- make a heatmap showing all the channels\n",
    "from pythonlib.tools.pandastools import plot_subplots_heatmap\n",
    "_, _, DictSubplotsDf1 = plot_subplots_heatmap(dfres1, \"region\", \"site_within\", \"peak_minus_trough\", None, False, \n",
    "                                              True, annotate_heatmap=False, W = 6, return_dfs=True)\n",
    "_, _, DictSubplotsDf2 = plot_subplots_heatmap(dfres2, \"region\", \"site_within\", \"peak_minus_trough\", None, False, \n",
    "                                              True, annotate_heatmap=False, W = 6, return_dfs=True)"
   ]
  },
  {
   "cell_type": "code",
   "execution_count": null,
   "id": "c900ae54",
   "metadata": {},
   "outputs": [],
   "source": [
    "dat1 = DictSubplotsDf1[\"dummy\"] # (region, electrode)\n",
    "dat2 = DictSubplotsDf2[\"dummy\"] # (region, electrode)\n"
   ]
  },
  {
   "cell_type": "code",
   "execution_count": null,
   "id": "f84bcac3",
   "metadata": {},
   "outputs": [],
   "source": [
    "savedir = \"/tmp\"\n",
    "sn1._sanity_waveforms_verify_finally(dat1, dat2, savedir)"
   ]
  },
  {
   "cell_type": "markdown",
   "id": "71d4eb14",
   "metadata": {},
   "source": [
    "##### Another version, using entire waveform, not just the statistics"
   ]
  },
  {
   "cell_type": "code",
   "execution_count": null,
   "id": "a0e7ec8d",
   "metadata": {},
   "outputs": [],
   "source": [
    "dat1time = sn1._sanity_waveforms_concat_waveforms(dfres1)\n",
    "dat2time = sn1._sanity_waveforms_concat_waveforms(dfres2)"
   ]
  },
  {
   "cell_type": "code",
   "execution_count": null,
   "id": "eb26ce7d",
   "metadata": {},
   "outputs": [],
   "source": [
    "savedir = \"/tmp\"\n",
    "passed_cross, passed_flip, dfcross = sn1._sanity_waveforms_verify_finally(dat1time, dat2time, savedir)"
   ]
  },
  {
   "cell_type": "code",
   "execution_count": null,
   "id": "d466cba1",
   "metadata": {},
   "outputs": [],
   "source": [
    "dat1"
   ]
  },
  {
   "cell_type": "code",
   "execution_count": null,
   "id": "8666cc85",
   "metadata": {},
   "outputs": [],
   "source": [
    "import pandas as pd\n",
    "dat1_flipped = pd.DataFrame(np.fliplr(dat1), index=dat1.index)\n",
    "dat2_flipped = pd.DataFrame(np.fliplr(dat2), index=dat2.index)"
   ]
  },
  {
   "cell_type": "code",
   "execution_count": null,
   "id": "2dcfc938",
   "metadata": {},
   "outputs": [],
   "source": [
    "_, dfcross = sn1._sanity_waveforms_verify_finally(dat1, dat2, savedir, suffix=\"test\")\n",
    "_, dfcross_rev = sn1._sanity_waveforms_verify_finally(dat1, dat2_flipped, savedir, suffix=\"test\")\n"
   ]
  },
  {
   "cell_type": "code",
   "execution_count": null,
   "id": "7f3128e4",
   "metadata": {},
   "outputs": [],
   "source": [
    "dfcorr = dfcross[dfcross[\"region1\"] == dfcross[\"region2\"]]\n",
    "dfcorr_rev = dfcross_rev[dfcross_rev[\"region1\"] == dfcross_rev[\"region2\"]]"
   ]
  },
  {
   "cell_type": "code",
   "execution_count": null,
   "id": "9cc19131",
   "metadata": {},
   "outputs": [],
   "source": [
    "assert np.all(dfcorr[\"region1\"] == dfcorr_rev[\"region1\"])\n",
    "assert np.all(dfcorr[\"region2\"] == dfcorr_rev[\"region2\"])\n",
    "\n",
    "all(dfcorr[\"corr\"] > dfcorr_rev[\"corr\"])"
   ]
  },
  {
   "cell_type": "code",
   "execution_count": null,
   "id": "be6c2e09",
   "metadata": {},
   "outputs": [],
   "source": []
  },
  {
   "cell_type": "code",
   "execution_count": null,
   "id": "d437984a",
   "metadata": {},
   "outputs": [],
   "source": [
    "dfcross_rev"
   ]
  },
  {
   "cell_type": "code",
   "execution_count": null,
   "id": "7a762d88",
   "metadata": {},
   "outputs": [],
   "source": []
  },
  {
   "cell_type": "code",
   "execution_count": null,
   "id": "dc69a5d4",
   "metadata": {},
   "outputs": [],
   "source": []
  },
  {
   "cell_type": "markdown",
   "id": "47f0e9ae",
   "metadata": {},
   "source": [
    "##### Devo code"
   ]
  },
  {
   "cell_type": "code",
   "execution_count": null,
   "id": "21dc24b5",
   "metadata": {},
   "outputs": [],
   "source": [
    "# For each electrode, determine its average spike "
   ]
  },
  {
   "cell_type": "code",
   "execution_count": null,
   "id": "d092f4cf",
   "metadata": {},
   "outputs": [],
   "source": [
    "sn = MS.SessionsList[0]"
   ]
  },
  {
   "cell_type": "code",
   "execution_count": null,
   "id": "b5af1cfa",
   "metadata": {},
   "outputs": [],
   "source": [
    "sites = sn.sitegetterKS_all_sites()\n",
    "s = sites[0]"
   ]
  },
  {
   "cell_type": "code",
   "execution_count": null,
   "id": "5b058dec",
   "metadata": {},
   "outputs": [],
   "source": [
    "s=193\n",
    "sn.load_spike_waveforms(s)"
   ]
  },
  {
   "cell_type": "code",
   "execution_count": null,
   "id": "2fee428e",
   "metadata": {},
   "outputs": [],
   "source": [
    "waveforms = sn.DatSpikeWaveforms[s]\n",
    "print(waveforms.shape)"
   ]
  },
  {
   "cell_type": "code",
   "execution_count": null,
   "id": "38ac8e6c",
   "metadata": {},
   "outputs": [],
   "source": [
    "# For each channel, collect information about spikes\n",
    "fig, ax = plt.subplots()\n",
    "if False:\n",
    "    ts = np.arange(waveforms.shape[1])\n",
    "    for i in range(100):\n",
    "        ax.plot(ts, waveforms[i, :])\n",
    "else:\n",
    "    sn.plot_spike_waveform(ax, waveforms)"
   ]
  },
  {
   "cell_type": "code",
   "execution_count": null,
   "id": "64fbdaf5",
   "metadata": {},
   "outputs": [],
   "source": [
    "    waveforms = sn.DatSpikeWaveforms[s]\n"
   ]
  },
  {
   "cell_type": "code",
   "execution_count": null,
   "id": "b01e7cfc",
   "metadata": {},
   "outputs": [],
   "source": [
    "sn.sitegetterKS_generate_mapper_region_to_sites_BASE(clean=False)"
   ]
  },
  {
   "cell_type": "code",
   "execution_count": null,
   "id": "fc2b9dce",
   "metadata": {},
   "outputs": [],
   "source": [
    "len(sn.sitegetterKS_all_sites(clean=False))"
   ]
  },
  {
   "cell_type": "code",
   "execution_count": null,
   "id": "186cf257",
   "metadata": {},
   "outputs": [],
   "source": [
    "# Get site number within region. "
   ]
  },
  {
   "cell_type": "code",
   "execution_count": null,
   "id": "08f50e4a",
   "metadata": {},
   "outputs": [],
   "source": [
    "import pandas as pd\n",
    "dfres = pd.DataFrame(res)\n",
    "dfres"
   ]
  },
  {
   "cell_type": "markdown",
   "id": "0d1839bd",
   "metadata": {},
   "source": [
    "##### Make a heatmap showing all channels along with waveforms, i.e., concatenated."
   ]
  },
  {
   "cell_type": "code",
   "execution_count": null,
   "id": "d852786b",
   "metadata": {},
   "outputs": [],
   "source": [
    "# for each gregion, collect all sites in order and concatenate.\n"
   ]
  },
  {
   "cell_type": "code",
   "execution_count": null,
   "id": "b9de6b0c",
   "metadata": {},
   "outputs": [],
   "source": []
  },
  {
   "cell_type": "code",
   "execution_count": null,
   "id": "4a07d955",
   "metadata": {},
   "outputs": [],
   "source": []
  }
 ],
 "metadata": {
  "kernelspec": {
   "display_name": "drag2_matlab",
   "language": "python",
   "name": "python3"
  },
  "language_info": {
   "codemirror_mode": {
    "name": "ipython",
    "version": 3
   },
   "file_extension": ".py",
   "mimetype": "text/x-python",
   "name": "python",
   "nbconvert_exporter": "python",
   "pygments_lexer": "ipython3",
   "version": "3.8.18"
  }
 },
 "nbformat": 4,
 "nbformat_minor": 5
}
