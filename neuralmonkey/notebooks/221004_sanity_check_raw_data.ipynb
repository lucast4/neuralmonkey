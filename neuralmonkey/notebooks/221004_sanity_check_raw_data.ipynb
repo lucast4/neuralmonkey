{
 "cells": [
  {
   "cell_type": "code",
   "execution_count": null,
   "metadata": {},
   "outputs": [],
   "source": [
    "\"\"\" \n",
    "\n",
    "All sanity checks, \n",
    "e.g., for sanity checks of spike sorting, or plotting examples, etc.\n",
    "This slow, so develop code here then run in background (e..g, in scripts).\n",
    "\n",
    "[previusyl was raw_data_220705]\n",
    "\"\"\""
   ]
  },
  {
   "cell_type": "code",
   "execution_count": 1,
   "metadata": {},
   "outputs": [],
   "source": [
    "from neuralmonkey.classes.session import Session, load_session_helper, load_mult_session_helper\n",
    "import matplotlib.pyplot as plt\n",
    "import neuralmonkey.utils.monkeylogic as mkl"
   ]
  },
  {
   "cell_type": "markdown",
   "metadata": {},
   "source": [
    "##### load metadat, mapping from neural sess to beh session"
   ]
  },
  {
   "cell_type": "code",
   "execution_count": null,
   "metadata": {},
   "outputs": [],
   "source": [
    "from neuralmonkey.utils.monkeylogic import session_map_from_rec_to_ml2\n",
    "\n",
    "session_map_from_rec_to_ml2(\"Pancho\", 221001, 0)\n",
    "# session_map_from_rec_to_ml2(\"Pancho\", 221001, )\n",
    "\n"
   ]
  },
  {
   "cell_type": "markdown",
   "metadata": {},
   "source": [
    "##### Load neural and beh data (pending: cam)"
   ]
  },
  {
   "cell_type": "code",
   "execution_count": 5,
   "metadata": {},
   "outputs": [
    {
     "name": "stdout",
     "output_type": "stream",
     "text": [
      "/home/lucast4/miniconda3/envs/drag2_matlab/lib/python3.8/site-packages/matplotlib/mpl-data/matplotlibrc\n"
     ]
    }
   ],
   "source": [
    "import matplotlib\n",
    "print(matplotlib.matplotlib_fname())\n"
   ]
  },
  {
   "cell_type": "code",
   "execution_count": 3,
   "metadata": {
    "scrolled": false
   },
   "outputs": [
    {
     "name": "stdout",
     "output_type": "stream",
     "text": [
      "1\n",
      "2\n",
      "4\n",
      "Beh Sessions that exist on this date:  {'221017': [(1, 'dircolor3'), (2, 'dircolor3b'), (4, 'dircolor3b')]}\n",
      "taking this beh session: 4\n",
      "Loading these beh expts: ['dircolor3b']\n",
      "Loading these beh sessions: [4]\n",
      "Loading this neural session: 2\n",
      "Searching using this string:\n",
      "/mnt/hopfield_data01/ltian/recordings/*Pancho*/*221017*/**\n",
      "Found this many paths:\n",
      "5\n",
      "---\n",
      "/mnt/hopfield_data01/ltian/recordings/Pancho/221017/Pancho-221017-151420\n",
      "---\n",
      "/mnt/hopfield_data01/ltian/recordings/Pancho/221017/Pancho-221017-161812\n",
      "---\n",
      "/mnt/hopfield_data01/ltian/recordings/Pancho/221017/Pancho-221017-174521\n",
      "---\n",
      "/mnt/hopfield_data01/ltian/recordings/Pancho/221017/Pancho-221017-175909\n",
      "---\n",
      "/mnt/hopfield_data01/ltian/recordings/Pancho/221017/Pancho-221017-180155\n",
      "{'filename_components_hyphened': ['Pancho', '221017', '174521'], 'basedirs': ['/mnt/hopfield_data01/ltian/recordings/Pancho', '/mnt/hopfield_data01/ltian/recordings/Pancho/221017'], 'basedirs_filenames': ['221017', 'Pancho-221017-174521'], 'filename_final_ext': 'Pancho-221017-174521', 'filename_final_noext': 'Pancho-221017-174521'}\n",
      "== PATHS for this expt: \n",
      "raws  --  /mnt/hopfield_data01/ltian/recordings/Pancho/221017/Pancho-221017-174521\n",
      "tank  --  /mnt/hopfield_data01/ltian/recordings/Pancho/221017/Pancho-221017-174521/Pancho-221017-174521\n",
      "spikes  --  /mnt/hopfield_data01/ltian/recordings/Pancho/221017/Pancho-221017-174521/spikes_tdt_quick-4.5\n",
      "final_dir_name  --  Pancho-221017-174521\n",
      "time  --  174521\n",
      "pathbase_local  --  /gorilla1/neural_preprocess/recordings/Pancho/221017/Pancho-221017-174521\n",
      "tank_local  --  /gorilla1/neural_preprocess/recordings/Pancho/221017/Pancho-221017-174521/data_tank.pkl\n",
      "spikes_local  --  /gorilla1/neural_preprocess/recordings/Pancho/221017/Pancho-221017-174521/data_spikes.pkl\n",
      "datall_local  --  /gorilla1/neural_preprocess/recordings/Pancho/221017/Pancho-221017-174521/data_datall.pkl\n",
      "events_local  --  /gorilla1/neural_preprocess/recordings/Pancho/221017/Pancho-221017-174521/events_photodiode.pkl\n",
      "mapper_st2dat_local  --  /gorilla1/neural_preprocess/recordings/Pancho/221017/Pancho-221017-174521/mapper_st2dat.pkl\n",
      "figs_local  --  /gorilla1/neural_preprocess/recordings/Pancho/221017/Pancho-221017-174521/figs\n",
      "metadata_units  --  /home/lucast4/code/neuralmonkey/neuralmonkey/metadat/units\n",
      "Sites metada path doesnt exist:  /home/lucast4/code/neuralmonkey/neuralmonkey/metadat/units/221017.yaml\n",
      "updating self.SitesDirty with:  ['sites_garbage', 'sites_low_fr', 'sites_error_spikes']\n",
      "== Loading TDT tank\n",
      "** Loading tank data from local (previusly cached)\n",
      "== Done\n",
      "== Loading ml2 behavior\n",
      "-- loaded presaved data: /gorilla1/animals/Pancho/221017/221017_180018_dircolor3b_Pancho_4.pkl\n",
      "== Done\n",
      "-- This is the lag for optimal xcorr of tdt and ml2 trial durations (+ means should look further back into beh trials):\n",
      "0\n",
      "-- This is the variation in (tdt - ml2) durations across trials. shodl be clsoe to 0\n",
      "4.735567382844119\n",
      "**\n",
      "Animal:  Pancho\n",
      "ExptSynapse:  Lucas512-220520-115835\n",
      "Date:  221017\n",
      "RecSession 2\n",
      "RecPathBase:  /mnt/hopfield_data01/ltian/recordings\n",
      "BehExpt:  ['dircolor3b']\n",
      "BehExptSess:  [4]\n",
      "final_dir_name:  Pancho-221017-174521\n",
      "Unexpected exception formatting exception. Falling back to standard exception\n"
     ]
    },
    {
     "name": "stderr",
     "output_type": "stream",
     "text": [
      "Traceback (most recent call last):\n",
      "  File \"/home/lucast4/miniconda3/envs/drag2_matlab/lib/python3.8/site-packages/IPython/core/interactiveshell.py\", line 3398, in run_code\n",
      "    exec(code_obj, self.user_global_ns, self.user_ns)\n",
      "  File \"/tmp/ipykernel_17400/2080292452.py\", line 19, in <cell line: 19>\n",
      "    SN = load_session_helper(DATE, dataset_beh_expt, rec_session)\n",
      "  File \"/gorilla1/code/neuralmonkey/neuralmonkey/classes/session.py\", line 159, in load_session_helper\n",
      "    SN = Session(DATE, beh_expt_list, beh_sess_list, beh_trial_map_list,\n",
      "  File \"/gorilla1/code/neuralmonkey/neuralmonkey/classes/session.py\", line 280, in __init__\n",
      "    self._beh_validate_trial_mapping(ploton=True, do_update_of_mapper=True,\n",
      "  File \"/gorilla1/code/neuralmonkey/neuralmonkey/classes/session.py\", line 1679, in _beh_validate_trial_mapping\n",
      "    assert False, \"variation says misaligned, but lagshift says algined...\"\n",
      "AssertionError: variation says misaligned, but lagshift says algined...\n",
      "\n",
      "During handling of the above exception, another exception occurred:\n",
      "\n",
      "Traceback (most recent call last):\n",
      "  File \"/home/lucast4/miniconda3/envs/drag2_matlab/lib/python3.8/site-packages/IPython/core/interactiveshell.py\", line 1993, in showtraceback\n",
      "    stb = self.InteractiveTB.structured_traceback(\n",
      "  File \"/home/lucast4/miniconda3/envs/drag2_matlab/lib/python3.8/site-packages/IPython/core/ultratb.py\", line 1118, in structured_traceback\n",
      "    return FormattedTB.structured_traceback(\n",
      "  File \"/home/lucast4/miniconda3/envs/drag2_matlab/lib/python3.8/site-packages/IPython/core/ultratb.py\", line 1012, in structured_traceback\n",
      "    return VerboseTB.structured_traceback(\n",
      "  File \"/home/lucast4/miniconda3/envs/drag2_matlab/lib/python3.8/site-packages/IPython/core/ultratb.py\", line 865, in structured_traceback\n",
      "    formatted_exception = self.format_exception_as_a_whole(etype, evalue, etb, number_of_lines_of_context,\n",
      "  File \"/home/lucast4/miniconda3/envs/drag2_matlab/lib/python3.8/site-packages/IPython/core/ultratb.py\", line 818, in format_exception_as_a_whole\n",
      "    frames.append(self.format_record(r))\n",
      "  File \"/home/lucast4/miniconda3/envs/drag2_matlab/lib/python3.8/site-packages/IPython/core/ultratb.py\", line 736, in format_record\n",
      "    result += ''.join(_format_traceback_lines(frame_info.lines, Colors, self.has_colors, lvals))\n",
      "  File \"/home/lucast4/miniconda3/envs/drag2_matlab/lib/python3.8/site-packages/stack_data/utils.py\", line 145, in cached_property_wrapper\n",
      "    value = obj.__dict__[self.func.__name__] = self.func(obj)\n",
      "  File \"/home/lucast4/miniconda3/envs/drag2_matlab/lib/python3.8/site-packages/stack_data/core.py\", line 698, in lines\n",
      "    pieces = self.included_pieces\n",
      "  File \"/home/lucast4/miniconda3/envs/drag2_matlab/lib/python3.8/site-packages/stack_data/utils.py\", line 145, in cached_property_wrapper\n",
      "    value = obj.__dict__[self.func.__name__] = self.func(obj)\n",
      "  File \"/home/lucast4/miniconda3/envs/drag2_matlab/lib/python3.8/site-packages/stack_data/core.py\", line 649, in included_pieces\n",
      "    pos = scope_pieces.index(self.executing_piece)\n",
      "  File \"/home/lucast4/miniconda3/envs/drag2_matlab/lib/python3.8/site-packages/stack_data/utils.py\", line 145, in cached_property_wrapper\n",
      "    value = obj.__dict__[self.func.__name__] = self.func(obj)\n",
      "  File \"/home/lucast4/miniconda3/envs/drag2_matlab/lib/python3.8/site-packages/stack_data/core.py\", line 628, in executing_piece\n",
      "    return only(\n",
      "  File \"/home/lucast4/miniconda3/envs/drag2_matlab/lib/python3.8/site-packages/executing/executing.py\", line 164, in only\n",
      "    raise NotOneValueFound('Expected one value, found 0')\n",
      "executing.executing.NotOneValueFound: Expected one value, found 0\n"
     ]
    },
    {
     "data": {
      "image/png": "[encoded data removed]",
      "text/plain": [
       "<Figure size 1000x500 with 1 Axes>"
      ]
     },
     "metadata": {},
     "output_type": "display_data"
    }
   ],
   "source": [
    "%matplotlib inline\n",
    "animal = \"Pancho\"\n",
    "expt = \"*\"\n",
    "\n",
    "# --- DONE\n",
    "# DATE = \"220614\" # ok\n",
    "# DATE = \"220630\" # bad photodiode [DONE]\n",
    "# DATE = \"220702\" # ok (bad photodiode)\n",
    "# DATE = \"220918\" # priminvar (no done button)\n",
    "# DATE = \"220811\" # good for preprocessing (but many trials)\n",
    "\n",
    "# --- NOT DONE\n",
    "# DATE = \"221001\" # preprocessing sanityc heck (fewer trials)\n",
    "DATE = \"221017\" # preprocessing sanityc heck (fewer trials)\n",
    "\n",
    "rec_session = 2 # sumes one-to-one mapping between neural and beh sessions.\n",
    "dataset_beh_expt = None\n",
    "\n",
    "SN = load_session_helper(DATE, dataset_beh_expt, rec_session)\n"
   ]
  },
  {
   "cell_type": "markdown",
   "metadata": {},
   "source": [
    "## 10/4/22 - Sanity checks, getting all timings and events"
   ]
  },
  {
   "cell_type": "markdown",
   "metadata": {},
   "source": [
    "##### Photodiode for timing of stroke onsets, for sequential mask"
   ]
  },
  {
   "cell_type": "code",
   "execution_count": null,
   "metadata": {},
   "outputs": [],
   "source": [
    "# Get trial outcomes\n",
    "fd, t = SN.beh_get_fd_trial(trial)\n",
    "mkl.getTrialsOutcomesWrapper(fd, t)"
   ]
  },
  {
   "cell_type": "code",
   "execution_count": null,
   "metadata": {},
   "outputs": [],
   "source": [
    "# Print the actual trial num (ml2)\n",
    "fd, t = SN.beh_get_fd_trial(trial)\n",
    "t"
   ]
  },
  {
   "cell_type": "code",
   "execution_count": null,
   "metadata": {},
   "outputs": [],
   "source": [
    "# Extract beh code times\n",
    "SN.behcode_extract_times(9, t)"
   ]
  },
  {
   "cell_type": "code",
   "execution_count": null,
   "metadata": {},
   "outputs": [],
   "source": [
    "%matplotlib inline\n",
    "SN.extract_reward_stream(trial, ploton=True)"
   ]
  },
  {
   "cell_type": "code",
   "execution_count": null,
   "metadata": {},
   "outputs": [],
   "source": [
    "SN.behcode_get_stream_crossings_in_window(378, None, t_pre=0.01, t_post = 0.04, whichstream=\"reward\", \n",
    "                    # out = self.behcode_get_stream_crossings_in_window(trial, 50, t_pre=1, t_post = 1, whichstream=\"reward\", \n",
    "                                          ploton=True, cross_dir_to_take=\"up\", assert_single_crossing_per_behcode_instance=False,\n",
    "                                            assert_single_crossing_this_trial = False,\n",
    "                                            assert_expected_direction_first_crossing = \"up\", \n",
    "                                            allow_no_crossing_per_behcode_instance_if=None)"
   ]
  },
  {
   "cell_type": "code",
   "execution_count": null,
   "metadata": {
    "scrolled": true
   },
   "outputs": [],
   "source": [
    "# Plot a single trial\n",
    "%matplotlib notebook\n",
    "trial = 1# , 133\n",
    "SN.plotwrapper_raster_oneetrial_multsites(trial, list_sites = SN.sitegetter_all(clean=True)[:2], \n",
    "                                          overlay_trial_events=False)"
   ]
  },
  {
   "cell_type": "code",
   "execution_count": null,
   "metadata": {
    "scrolled": false
   },
   "outputs": [],
   "source": [
    "%matplotlib inline\n",
    "# get event time using pd\n",
    "trial = 500# 202#, 133\n",
    "for trial in range(500,550):\n",
    "    SN.events_get_time_using_photodiode(trial, list_events=[\"fixcue\"], plot_beh_code_stream=False, overwrite=True)"
   ]
  },
  {
   "cell_type": "code",
   "execution_count": null,
   "metadata": {},
   "outputs": [],
   "source": [
    "SN.behcode_extract_times(50, trial)"
   ]
  },
  {
   "cell_type": "code",
   "execution_count": null,
   "metadata": {},
   "outputs": [],
   "source": [
    "SN.extract_data_tank_streams(\"reward\", trial, True)"
   ]
  },
  {
   "cell_type": "code",
   "execution_count": null,
   "metadata": {},
   "outputs": [],
   "source": [
    "fd, t = SN.beh_get_fd_trial(trial)\n",
    "mkl.getTrialsOutcomesWrapper(fd, t)"
   ]
  },
  {
   "cell_type": "code",
   "execution_count": null,
   "metadata": {},
   "outputs": [],
   "source": [
    "\n",
    "len(SN.behcode_extract_times(16))\n",
    "\n",
    "# len(SN.get_trials_list(True))"
   ]
  },
  {
   "cell_type": "code",
   "execution_count": null,
   "metadata": {},
   "outputs": [],
   "source": [
    "out = SN.behcode_get_stream_crossings_in_window(trial, 16, t_pre=0.5, t_post = 0.5, whichstream=\"touch_in_fixsquare_binary\", \n",
    "                                          ploton=True, cross_dir_to_take=\"up\", assert_single_crossing_per_behcode_instance=True,\n",
    "                                            assert_single_crossing_this_trial = True,\n",
    "                                             assert_expected_direction_first_crossing = \"up\")              \n"
   ]
  },
  {
   "cell_type": "code",
   "execution_count": null,
   "metadata": {},
   "outputs": [],
   "source": [
    "# Touching in fixation window\n",
    "SN.beh_extract_touch_in_fixation_square(trial, ploton=True)"
   ]
  },
  {
   "cell_type": "code",
   "execution_count": null,
   "metadata": {},
   "outputs": [],
   "source": [
    "SN.BehTrialMapListGood"
   ]
  },
  {
   "cell_type": "code",
   "execution_count": null,
   "metadata": {},
   "outputs": [],
   "source": [
    "for trial in SN.get_trials_list(True):\n",
    "    out = SN.events_get_time_sorted(trial, [\"off_stroke_last\", \"done_button\"])[3]\n",
    "    if out[0]==\"done_button\":\n",
    "        print(trial)\n",
    "    "
   ]
  },
  {
   "cell_type": "markdown",
   "metadata": {},
   "source": [
    "##### [SAnity check - events timing] Categorize trials based on what events are present"
   ]
  },
  {
   "cell_type": "code",
   "execution_count": null,
   "metadata": {
    "scrolled": false
   },
   "outputs": [],
   "source": [
    "for trial in SN.get_trials_list(True)[60:80]:\n",
    "    SN.events_get_time_using_photodiode(SN.get_trials_list(True)[trial], list_events=[\"on\"], overwrite=True)"
   ]
  },
  {
   "cell_type": "code",
   "execution_count": null,
   "metadata": {
    "scrolled": false
   },
   "outputs": [],
   "source": [
    "# SANITY CEHCK FOR EVENTS\n",
    "%matplotlib inline\n",
    "SN.eventsdataframe_sanity_check()"
   ]
  },
  {
   "cell_type": "code",
   "execution_count": null,
   "metadata": {},
   "outputs": [],
   "source": [
    "# OTHER STUFF."
   ]
  },
  {
   "cell_type": "code",
   "execution_count": null,
   "metadata": {
    "scrolled": true
   },
   "outputs": [],
   "source": [
    "SN.events_get_time_using_photodiode_and_save()"
   ]
  },
  {
   "cell_type": "code",
   "execution_count": null,
   "metadata": {},
   "outputs": [],
   "source": [
    "SN.EventsTimeUsingPhd = {}\n",
    "SN._loadlocal_events()\n",
    "display(SN.EventsTimeUsingPhd)"
   ]
  },
  {
   "cell_type": "code",
   "execution_count": null,
   "metadata": {},
   "outputs": [],
   "source": [
    "SN._beh_get_fdnum_trial(345)"
   ]
  },
  {
   "cell_type": "code",
   "execution_count": null,
   "metadata": {},
   "outputs": [],
   "source": []
  },
  {
   "cell_type": "code",
   "execution_count": null,
   "metadata": {},
   "outputs": [],
   "source": [
    "SN.EventsTimeUsingPhd = {}\n",
    "SN.events_get_time_using_photodiode(439, [\"done_button\"])"
   ]
  },
  {
   "cell_type": "code",
   "execution_count": null,
   "metadata": {},
   "outputs": [],
   "source": [
    "SN.beh_extract_touch_in_done_button(439, ploton=True)"
   ]
  },
  {
   "cell_type": "code",
   "execution_count": null,
   "metadata": {
    "scrolled": false
   },
   "outputs": [],
   "source": [
    "trial = 579\n",
    "%matplotlib inline\n",
    "SN.plotwrapper_raster_oneetrial_multsites(trial, SN.sitegetter_all()[0:], overlay_trial_events=True)"
   ]
  },
  {
   "cell_type": "markdown",
   "metadata": {},
   "source": [
    "##### Touch, as criteria for fixation onset, (and others)\n"
   ]
  },
  {
   "cell_type": "code",
   "execution_count": null,
   "metadata": {},
   "outputs": [],
   "source": [
    "# 1) get timecourse of touch data\n",
    "\n",
    "# 2) get onsets/offsets.\n",
    "\n",
    "# 3) apply criteria for being within fixation window, etc.\n"
   ]
  },
  {
   "cell_type": "markdown",
   "metadata": {},
   "source": [
    "##### Eye tracking\n"
   ]
  },
  {
   "cell_type": "code",
   "execution_count": null,
   "metadata": {},
   "outputs": [],
   "source": [
    "list_codes = [9, 11, 16, 91, 92, 62, 73, 50]\n",
    "for code in list_codes:\n",
    "    sh = SN.behcode_convert(codenum=code, shorthand=True)\n",
    "    print(code, sh)\n"
   ]
  },
  {
   "cell_type": "markdown",
   "metadata": {},
   "source": [
    "##### Pupil diameter"
   ]
  },
  {
   "cell_type": "code",
   "execution_count": null,
   "metadata": {},
   "outputs": [],
   "source": [
    "times, vals, fs = SN.extract_data_tank_streams(\"eyediam\", SN.get_trials_list(True, True)[10], ploton=True)\n",
    "\n",
    "times, vals, fs = SN.extract_data_tank_streams(\"pd2\", SN.get_trials_list(True, True)[10], ploton=True)\n"
   ]
  },
  {
   "cell_type": "markdown",
   "metadata": {},
   "source": [
    "## [before 10/4/22, sanity checks, etc]"
   ]
  },
  {
   "cell_type": "markdown",
   "metadata": {},
   "source": [
    "##### Debugging loading"
   ]
  },
  {
   "cell_type": "code",
   "execution_count": null,
   "metadata": {},
   "outputs": [],
   "source": [
    "from neuralmonkey.scripts.load_and_save_locally import load_and_preprocess_single_session\n",
    "for DATE in [\"220616\", \"220716\"]:\n",
    "    for rec_session in [0, 1]:\n",
    "        load_and_preprocess_single_session(DATE, rec_session)"
   ]
  },
  {
   "cell_type": "markdown",
   "metadata": {},
   "source": [
    "##### Check spike times match raw data"
   ]
  },
  {
   "cell_type": "code",
   "execution_count": null,
   "metadata": {
    "scrolled": false
   },
   "outputs": [],
   "source": [
    "import matplotlib.pyplot as plt\n",
    "import numpy as np\n",
    "# %matplotlib notebook\n",
    "%matplotlib inline\n",
    "\n",
    "rs = 2\n",
    "chan = 1\n",
    "\n",
    "fig, axes = plt.subplots(2,1, figsize=(15,10))\n",
    "\n",
    "# pick out a single chan\n",
    "raw = SN.datall_slice_single(rs, chan, trial)\n",
    "t = raw[\"tbins0\"]\n",
    "vals = raw[\"raw\"]\n",
    "st = raw[\"spike_times\"]\n",
    "\n",
    "# 1) Plot entire trial\n",
    "ax = axes.flatten()[0]\n",
    "ax.set_title([\"rs\", rs, \"chan\", chan])\n",
    "# raw\n",
    "ax.plot(t, vals)\n",
    "# spikes\n",
    "ax.plot(st, np.ones(st.shape), 'xr')\n",
    "\n",
    "# 2) Plot zoomed in part of trial\n",
    "# 1) Plot entire trial\n",
    "ax = axes.flatten()[1]\n",
    "ax.set_title('zoomed in')\n",
    "\n",
    "# window the data\n",
    "twind = [1., 1.5]\n",
    "t, vals = SN.extract_windowed_data(t, twind, vals, recompute_time_rel_onset=False)\n",
    "st, _ = SN.extract_windowed_data(st, twind, recompute_time_rel_onset=False)\n",
    "\n",
    "# raw\n",
    "ax.plot(t, vals)\n",
    "# spikes\n",
    "ax.plot(st, np.mean(vals)*np.ones(st.shape), 'xr')\n",
    "\n",
    "print(\"DO THIS: filter data before plotting\")"
   ]
  },
  {
   "cell_type": "code",
   "execution_count": null,
   "metadata": {
    "scrolled": false
   },
   "outputs": [],
   "source": [
    "import matplotlib.pyplot as plt\n",
    "import numpy as np\n",
    "%matplotlib notebook\n",
    "# %matplotlib inline\n",
    "\n",
    "\n",
    "fig, axes = plt.subplots(2,1, figsize=(15,10))\n",
    "\n",
    "# pick out a single chan\n",
    "import random\n",
    "idx = random.randint(1, 512)\n",
    "# idx = 500\n",
    "D = DatAll[idx]\n",
    "t = D[\"tbins0\"]\n",
    "raw = D[\"raw\"]\n",
    "st = D[\"spike_times\"]\n",
    "\n",
    "# raw\n",
    "ax = axes.flatten()[0]\n",
    "ax.plot(t, raw)\n",
    "# spikes\n",
    "ax.plot(st, np.ones(st.shape), 'xr')\n",
    "\n",
    "print(\"DO THIS: zoom in, confirm that spike times match raw\")"
   ]
  },
  {
   "cell_type": "markdown",
   "metadata": {},
   "source": [
    "##### Tank and RS4 data match - compare dupl and raw"
   ]
  },
  {
   "cell_type": "code",
   "execution_count": null,
   "metadata": {},
   "outputs": [],
   "source": [
    "# Check dupl vs. raw - uses specific trials since have not extract all raw, just trials (data size)\n",
    "\n",
    "%matplotlib notebook\n",
    "fig, axes = plt.subplots(2,1,figsize=(10,8), sharex=True)\n",
    "\n",
    "# dup 1 (1,1)\n",
    "tdup, valsdup = extract_data_tank_streams(\"duplicate1\", trial0=trial0)\n",
    "raw = datall_slice_single(2, 1, trial0)\n",
    "ax = axes.flatten()[0]\n",
    "ax.plot(tdup, valsdup, color='r', label=\"dupl\")\n",
    "ax.plot(raw[\"tbins0\"], raw[\"raw\"], color='k', label=\"rs4\")\n",
    "ax.set_title(\"dupl(r) and rs4 (k)\")\n",
    "ax.legend()\n",
    "\n",
    "# dup 2 (1, 2)\n",
    "tdup, valsdup = extract_data_tank_streams(\"duplicate2\", trial0=trial0)\n",
    "raw = datall_slice_single(3, 1, trial0)\n",
    "ax = axes.flatten()[1]\n",
    "ax.plot(tdup, valsdup, color='r', label=\"dupl\")\n",
    "ax.plot(raw[\"tbins0\"], raw[\"raw\"], color='k', label=\"rs4\")\n",
    "ax.set_title(\"dupl(r) and rs4 (k)\")\n",
    "ax.legend()\n",
    "ax.set_xlabel('make sure they are aligned')\n"
   ]
  },
  {
   "cell_type": "code",
   "execution_count": null,
   "metadata": {},
   "outputs": [],
   "source": []
  },
  {
   "cell_type": "markdown",
   "metadata": {},
   "source": [
    "### Sanity check: check tank data for each trial"
   ]
  },
  {
   "cell_type": "code",
   "execution_count": null,
   "metadata": {},
   "outputs": [],
   "source": [
    "SN.load_tdt_tank()"
   ]
  },
  {
   "cell_type": "markdown",
   "metadata": {},
   "source": [
    "##### Testing out methods for extracting streams from tank"
   ]
  },
  {
   "cell_type": "code",
   "execution_count": null,
   "metadata": {},
   "outputs": [],
   "source": [
    "# Loading each time snippet from server when needed"
   ]
  },
  {
   "cell_type": "code",
   "execution_count": null,
   "metadata": {},
   "outputs": [],
   "source": [
    "# load streams, since they are not yet loaded\n",
    "trial = 10\n",
    "store = \"PhDi\"\n",
    "\n",
    "dat = SN.datall_slice_single(2,1,trial)\n",
    "time_range = dat[\"time_range\"]\n",
    "out = SN.load_tdt_tank_specific(store=store, t1=time_range[0], t2=time_range[1])"
   ]
  },
  {
   "cell_type": "code",
   "execution_count": null,
   "metadata": {},
   "outputs": [],
   "source": [
    "time_range = [100, 66000]"
   ]
  },
  {
   "cell_type": "code",
   "execution_count": null,
   "metadata": {},
   "outputs": [],
   "source": [
    "%%timeit\n",
    "# Test two methods for loading tank streams, either entire chunk, or part by part.\n",
    "\n",
    "# method 1: load it single time\n",
    "out = SN.load_tdt_tank_specific(store=store, t1=time_range[0], t2=time_range[1])\n"
   ]
  },
  {
   "cell_type": "code",
   "execution_count": null,
   "metadata": {},
   "outputs": [],
   "source": [
    "%%timeit\n",
    "# Test two methods for loading tank streams, either entire chunk, or part by part.\n",
    "\n",
    "# method 2: break into chunks\n",
    "import numpy as np\n",
    "edges = np.linspace(time_range[0], time_range[1], 20)\n",
    "for t1, t2 in zip(edges[0:], edges[1:]):\n",
    "    out = SN.load_tdt_tank_specific(store=store, t1=t1, t2=t2)\n",
    "\n"
   ]
  },
  {
   "cell_type": "code",
   "execution_count": null,
   "metadata": {},
   "outputs": [],
   "source": [
    "# RESULTS OF TIMING FOR LOADING DATA TANK:\n",
    "\n",
    "# time range: [100 200]\n",
    "#1: 0.164\n",
    "#2: 3.0\n",
    "\n",
    "# time_range = [100, 66000]\n",
    "#1: 881 ms ± 70.7 ms per loop (mean ± std. dev. of 7 runs, 1 loop each)\n",
    "#2: 4.11 s ± 166 ms per loop (mean ± std. dev. of 7 runs, 1 loop each)\n",
    "\n",
    "# CONCLUSIO:\n",
    "# Loading all is much faster then loading in chunks.\n",
    "# So: load entire data in preprocess, then save to local."
   ]
  },
  {
   "cell_type": "markdown",
   "metadata": {},
   "source": [
    "##### using pre-loaded streams"
   ]
  },
  {
   "cell_type": "code",
   "execution_count": null,
   "metadata": {},
   "outputs": [],
   "source": [
    "SN.DatTank[\"streams\"] = SN.DatTank[\"epocs\"]\n",
    "\n",
    "\n",
    "SN.load_tdt_tank(True)"
   ]
  },
  {
   "cell_type": "code",
   "execution_count": null,
   "metadata": {},
   "outputs": [],
   "source": [
    "times, vals  = SN.extract_data_tank_streams(\"pd1\", 1)\n",
    "plt.figure()\n",
    "plt.plot(times, vals, '-k')\n",
    "\n",
    "times, vals  = SN.extract_data_tank_streams(\"pd2\", 1)\n",
    "plt.figure()\n",
    "plt.plot(times, vals, '-k')"
   ]
  },
  {
   "cell_type": "markdown",
   "metadata": {},
   "source": [
    "##### Plot a single trial, overlaying spikes and streams\n"
   ]
  },
  {
   "cell_type": "code",
   "execution_count": null,
   "metadata": {
    "scrolled": false
   },
   "outputs": [],
   "source": [
    "SN.plot_specific_trial_overview(100)"
   ]
  },
  {
   "cell_type": "code",
   "execution_count": null,
   "metadata": {},
   "outputs": [],
   "source": [
    "SN.plot_raster_multrials_onesite([10], 10)"
   ]
  },
  {
   "cell_type": "code",
   "execution_count": null,
   "metadata": {},
   "outputs": [],
   "source": [
    "SN._load_spike_times(3,3, return_none_if_fail=False)"
   ]
  },
  {
   "cell_type": "code",
   "execution_count": null,
   "metadata": {},
   "outputs": [],
   "source": [
    "SN.datspikes_slice_single(3,3,100)"
   ]
  },
  {
   "cell_type": "code",
   "execution_count": null,
   "metadata": {
    "scrolled": false
   },
   "outputs": [],
   "source": [
    "SN.plotwrapper_raster_oneetrial_multsites(100, SN.sitegetter_all(clean=True))"
   ]
  },
  {
   "cell_type": "markdown",
   "metadata": {},
   "source": [
    "##### Sanity check: photodiodes"
   ]
  },
  {
   "cell_type": "code",
   "execution_count": null,
   "metadata": {
    "scrolled": false
   },
   "outputs": [],
   "source": [
    "list_behcode = [11, 91, 92, 71, 73]\n",
    "list_whichstream = [\"pd1\", \"pd2\"]\n",
    "for behcode in list_behcode:\n",
    "    for whichstream in list_whichstream:\n",
    "        print(behcode)\n",
    "        SN.behcode_get_stream_crossings_in_window(trial, behcode, whichstream=whichstream, ploton=True)\n",
    "        "
   ]
  },
  {
   "cell_type": "markdown",
   "metadata": {},
   "source": [
    "##### good plot each beh code and associated photodiode crossings"
   ]
  },
  {
   "cell_type": "code",
   "execution_count": null,
   "metadata": {},
   "outputs": [],
   "source": [
    "np.array([])"
   ]
  },
  {
   "cell_type": "code",
   "execution_count": null,
   "metadata": {},
   "outputs": [],
   "source": [
    "SN.plot_behcode_photodiode_sanity_check()\n"
   ]
  },
  {
   "cell_type": "code",
   "execution_count": null,
   "metadata": {},
   "outputs": [],
   "source": [
    "np.array([])"
   ]
  },
  {
   "cell_type": "code",
   "execution_count": null,
   "metadata": {},
   "outputs": [],
   "source": [
    "## Plot a single example ph di crossig\n",
    "\n",
    "trial = 0\n",
    "behcode=73\n",
    "stream = 'pd1'\n",
    "timecross, valscross, time_behcode, valminmax, threshold = SN.behcode_get_stream_crossings_in_window(trial, behcode, whichstream=stream, cross_dir=crosdir, ploton=True, t_post=0.4)\n"
   ]
  },
  {
   "cell_type": "code",
   "execution_count": null,
   "metadata": {},
   "outputs": [],
   "source": [
    "list_behcode = [11, 91, 92, 73]\n",
    "trial= 0\n",
    "for behcode in list_behcode:\n",
    "    times = SN.behcode_extract_times(behcode, trial)\n",
    "    print(times)"
   ]
  },
  {
   "cell_type": "markdown",
   "metadata": {},
   "source": [
    "#### SAnity check: compare tdt to ml2 data"
   ]
  },
  {
   "cell_type": "code",
   "execution_count": null,
   "metadata": {},
   "outputs": [],
   "source": [
    "# n trials\n",
    "ntrialsT = len(t_ons)\n",
    "ntrialsM = len(getIndsTrials(fd))\n",
    "print(ntrialsT, ntrialsM)\n",
    "assert ntrialsT==ntrialsM or ntrialsT==ntrialsM+1\n",
    "print(\"GOOD: N trials match between ML and TDT\")"
   ]
  },
  {
   "cell_type": "code",
   "execution_count": null,
   "metadata": {},
   "outputs": [],
   "source": [
    "# 1) beh code timing\n",
    "behcodes_tdt = extract_data_tank_epocs(\"behcode\", trial0=trial0)\n",
    "behcodes_ml = getTrialsBehCodes(fd, trialml)\n",
    "\n",
    "assert all(behcodes_tdt[0] - behcodes_ml[\"time\"] < 0.001)\n",
    "assert all(behcodes_tdt[1] == behcodes_ml[\"num\"])\n",
    "print(\"GOOD - beh codes match in time and id\")"
   ]
  },
  {
   "cell_type": "markdown",
   "metadata": {},
   "source": [
    "### TDT STUFF"
   ]
  },
  {
   "cell_type": "code",
   "execution_count": null,
   "metadata": {},
   "outputs": [],
   "source": [
    "import tdt\n",
    "path = \"/mnt/hopfield_data01/ltian/recordings/Pancho/220702/Pancho-220702-145450/Pancho-220702-145450\"\n",
    "headers = tdt.read_block(path, headers=1)\n",
    "\n",
    "\n",
    "data.stores\n",
    "\n",
    "del headers.stores[\"Mic1\"]\n",
    "\n",
    "headers.stores\n",
    "\n",
    "stores_to_avoid = [\"Mic1\", \"dup1\", \"dup2\"]\n",
    "stores = [st for st in headers.stores if st not in stores_to_avoid]\n",
    "\n",
    "data = tdt.read_block(path, store = [\"PhDi\"])\n",
    "\n",
    "\n",
    "data = tdt.read_block(path, store = [\"PhDi\"], evtype=[\"streams\"])\n",
    "\n",
    "\n",
    "data = tdt.read_block(path,  evtype=[\"epocs\"])\n",
    "\n",
    "\n",
    "data = tdt.read_block(path,  evtype=[\"streams\"])\n",
    "\n",
    "\n",
    "data = tdt.read_block(path,  evtype=[\"streams\"], t1=0., t2=0.1)\n",
    "data = tdt.read_block(path,  evtype=[\"streams\"], t1=0., t2=0.1)\n",
    "\n",
    "\n",
    "data = tdt.read_block(path, store = [\"Bode\"], evtype=[\"epocs\"])\n",
    "\n",
    "\n",
    "data[\"epocs\"]"
   ]
  },
  {
   "cell_type": "markdown",
   "metadata": {},
   "source": [
    "##### testing three methods for indexing into self.DatAll"
   ]
  },
  {
   "cell_type": "code",
   "execution_count": null,
   "metadata": {},
   "outputs": [],
   "source": [
    "import pandas as pd\n",
    "\n",
    "df = pd.DataFrame(SN.DatAll)\n",
    "\n",
    "def test(rs, chan, trial):\n",
    "    for D in SN.DatAll:\n",
    "        if D[\"rs\"]==rs and D[\"chan\"]==chan and D[\"trial0\"]==trial:\n",
    "            spiketimes = D[\"spike_times\"]\n",
    "            return spiketimes\n",
    "\n",
    "\n",
    "\n",
    "for rs in [2,3]:\n",
    "    for chan in range(1,256):\n",
    "        print(chan)\n",
    "        for trial in range(1,500):\n",
    "                \n",
    "            # Method 1, using dataframe\n",
    "            # RESULT: about 1 chan a second\n",
    "            ind = (df[\"rs\"]==rs) & (df[\"chan\"]==chan) & (df[\"trial0\"]==trial)\n",
    "            \n",
    "            # Method 2, for loop\n",
    "            # VERY SLOW\n",
    "            test(rs, chan, trial)\n",
    "            \n",
    "            # Method 3, mapper dict\n",
    "            # Result: very fast (almost instant)\n",
    "            SN.datall_slice_single(rs, chan, trial)"
   ]
  }
 ],
 "metadata": {
  "kernelspec": {
   "display_name": "Python 3 (ipykernel)",
   "language": "python",
   "name": "python3"
  },
  "language_info": {
   "codemirror_mode": {
    "name": "ipython",
    "version": 3
   },
   "file_extension": ".py",
   "mimetype": "text/x-python",
   "name": "python",
   "nbconvert_exporter": "python",
   "pygments_lexer": "ipython3",
   "version": "3.8.13"
  }
 },
 "nbformat": 4,
 "nbformat_minor": 2
}
