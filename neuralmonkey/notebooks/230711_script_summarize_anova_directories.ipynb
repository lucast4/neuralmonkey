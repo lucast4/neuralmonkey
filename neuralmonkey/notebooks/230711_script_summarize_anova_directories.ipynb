{
 "cells": [
  {
   "cell_type": "code",
   "execution_count": 1,
   "id": "b8211613",
   "metadata": {},
   "outputs": [
    {
     "data": {
      "text/plain": [
       "'\\nGoes thru to tabulate which ones actually have data\\n'"
      ]
     },
     "execution_count": 1,
     "metadata": {},
     "output_type": "execute_result"
    }
   ],
   "source": [
    "\"\"\"\n",
    "Goes thru to tabulate which ones actually have data\n",
    "\"\"\"\n",
    "\n"
   ]
  },
  {
   "cell_type": "code",
   "execution_count": 62,
   "id": "f18144fc",
   "metadata": {},
   "outputs": [
    {
     "name": "stdout",
     "output_type": "stream",
     "text": [
      "Saved log results to:  /home/lucast4/code/neuralmonkey/neuralmonkey/logs_checks/anova_df_var_exists.txt\n"
     ]
    }
   ],
   "source": [
    "from neuralmonkey.utils.directory import check_log_anova_analy_status\n",
    "check_log_anova_analy_status()"
   ]
  },
  {
   "cell_type": "code",
   "execution_count": 54,
   "id": "741efe74",
   "metadata": {},
   "outputs": [],
   "source": []
  }
 ],
 "metadata": {
  "kernelspec": {
   "display_name": "Python 3 (ipykernel)",
   "language": "python",
   "name": "python3"
  },
  "language_info": {
   "codemirror_mode": {
    "name": "ipython",
    "version": 3
   },
   "file_extension": ".py",
   "mimetype": "text/x-python",
   "name": "python",
   "nbconvert_exporter": "python",
   "pygments_lexer": "ipython3",
   "version": "3.8.13"
  }
 },
 "nbformat": 4,
 "nbformat_minor": 5
}
